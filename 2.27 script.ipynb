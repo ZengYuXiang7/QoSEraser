{
 "cells": [
  {
   "cell_type": "code",
   "execution_count": 2,
   "metadata": {
    "collapsed": true,
    "ExecuteTime": {
     "start_time": "2023-03-13T23:34:57.966245Z",
     "end_time": "2023-03-13T23:34:58.045978Z"
    }
   },
   "outputs": [],
   "source": [
    "import numpy as np"
   ]
  },
  {
   "cell_type": "code",
   "execution_count": 69,
   "outputs": [
    {
     "data": {
      "text/plain": "array([[1.4619072 , 0.        , 0.24630502, 1.32725094, 0.        ,\n        0.        ],\n       [0.        , 0.        , 0.        , 0.7486986 , 1.41334293,\n        1.12131072],\n       [0.        , 1.05158462, 1.20227053, 0.        , 1.26396069,\n        0.        ],\n       [0.        , 1.24007803, 0.        , 0.31973502, 0.        ,\n        1.87636064],\n       [0.        , 0.        , 1.43260334, 1.1603961 , 0.30951022,\n        0.        ],\n       [0.83409965, 0.        , 0.11625911, 0.        , 0.        ,\n        0.        ]])"
     },
     "execution_count": 69,
     "metadata": {},
     "output_type": "execute_result"
    }
   ],
   "source": [
    "tensor = np.random.random((6, 6)) * 2\n",
    "mask = np.random.rand(*tensor.shape).astype('float32')  # [0, 1]\n",
    "\n",
    "mask[mask > (13 / 36)] = 1\n",
    "mask[mask < (13 / 36)] = 0\n",
    "train_Tensor = tensor * (1 - mask)\n",
    "train_Tensor"
   ],
   "metadata": {
    "collapsed": false,
    "ExecuteTime": {
     "start_time": "2023-03-13T23:39:01.981590Z",
     "end_time": "2023-03-13T23:39:01.989565Z"
    }
   }
  },
  {
   "cell_type": "code",
   "execution_count": 71,
   "outputs": [
    {
     "data": {
      "text/plain": "array([[0.44576808, 0.        , 1.34949148, 0.        , 0.        ,\n        0.26591249],\n       [0.        , 0.        , 1.21240792, 1.35709601, 1.40629016,\n        0.        ],\n       [0.        , 0.        , 0.        , 0.77379227, 0.        ,\n        0.20574211],\n       [1.00083021, 0.        , 0.        , 0.        , 0.        ,\n        0.        ],\n       [0.        , 0.        , 0.        , 1.76740252, 0.        ,\n        1.45533573],\n       [0.        , 1.29356373, 0.95267563, 1.26563092, 0.21079338,\n        0.        ]])"
     },
     "execution_count": 71,
     "metadata": {},
     "output_type": "execute_result"
    }
   ],
   "source": [
    "tensor = np.random.random((6, 6)) * 2\n",
    "mask = np.random.rand(*tensor.shape).astype('float32')  # [0, 1]\n",
    "\n",
    "mask[mask > (12 / 36)] = 1\n",
    "mask[mask < (12 / 36)] = 0\n",
    "train_Tensor = tensor * (1 - mask)\n",
    "train_Tensor"
   ],
   "metadata": {
    "collapsed": false,
    "ExecuteTime": {
     "start_time": "2023-03-13T23:44:04.897639Z",
     "end_time": "2023-03-13T23:44:04.906614Z"
    }
   }
  },
  {
   "cell_type": "code",
   "execution_count": 72,
   "outputs": [
    {
     "data": {
      "text/plain": "array([[0.        , 0.        , 0.        , 1.03102806, 0.        ,\n        0.        ],\n       [1.91207654, 0.        , 0.        , 0.        , 0.        ,\n        0.        ],\n       [0.        , 0.        , 1.82624302, 0.        , 0.        ,\n        0.        ],\n       [1.82164679, 0.        , 0.        , 0.        , 1.85418165,\n        0.        ],\n       [0.35850318, 0.        , 0.        , 0.        , 0.11656229,\n        0.        ],\n       [0.        , 0.        , 0.        , 0.        , 0.        ,\n        0.72836567]])"
     },
     "execution_count": 72,
     "metadata": {},
     "output_type": "execute_result"
    }
   ],
   "source": [
    "tensor = np.random.random((6, 6)) * 2\n",
    "mask = np.random.rand(*tensor.shape).astype('float32')  # [0, 1]\n",
    "\n",
    "mask[mask > (12 / 36)] = 1\n",
    "mask[mask < (12 / 36)] = 0\n",
    "train_Tensor = tensor * (1 - mask)\n",
    "train_Tensor"
   ],
   "metadata": {
    "collapsed": false,
    "ExecuteTime": {
     "start_time": "2023-03-13T23:46:04.473668Z",
     "end_time": "2023-03-13T23:46:04.487627Z"
    }
   }
  },
  {
   "cell_type": "code",
   "execution_count": 73,
   "outputs": [
    {
     "data": {
      "text/plain": "array([[1.76475414, 0.38735686, 0.71882408, 0.        , 0.        ,\n        0.        ],\n       [0.91329065, 0.        , 0.        , 0.        , 0.        ,\n        0.        ],\n       [0.        , 0.        , 0.        , 0.        , 0.        ,\n        1.65570254],\n       [0.        , 1.7592089 , 0.25554474, 0.        , 0.        ,\n        1.75362237],\n       [0.        , 0.        , 0.        , 0.        , 0.        ,\n        0.        ],\n       [0.        , 0.        , 1.08035434, 0.        , 1.47174092,\n        0.        ]])"
     },
     "execution_count": 73,
     "metadata": {},
     "output_type": "execute_result"
    }
   ],
   "source": [
    "tensor = np.random.random((6, 6)) * 2\n",
    "mask = np.random.rand(*tensor.shape).astype('float32')  # [0, 1]\n",
    "\n",
    "mask[mask > (12 / 36)] = 1\n",
    "mask[mask < (12 / 36)] = 0\n",
    "train_Tensor = tensor * (1 - mask)\n",
    "train_Tensor"
   ],
   "metadata": {
    "collapsed": false,
    "ExecuteTime": {
     "start_time": "2023-03-13T23:51:58.152618Z",
     "end_time": "2023-03-13T23:51:58.156603Z"
    }
   }
  }
 ],
 "metadata": {
  "kernelspec": {
   "display_name": "Python 3",
   "language": "python",
   "name": "python3"
  },
  "language_info": {
   "codemirror_mode": {
    "name": "ipython",
    "version": 2
   },
   "file_extension": ".py",
   "mimetype": "text/x-python",
   "name": "python",
   "nbconvert_exporter": "python",
   "pygments_lexer": "ipython2",
   "version": "2.7.6"
  }
 },
 "nbformat": 4,
 "nbformat_minor": 0
}
