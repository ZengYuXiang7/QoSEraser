{
 "cells": [
  {
   "cell_type": "markdown",
   "source": [
    "# Author: Yuxiang Zeng"
   ],
   "metadata": {
    "collapsed": false
   }
  },
  {
   "cell_type": "markdown",
   "source": [
    "## Dataset : rt"
   ],
   "metadata": {
    "collapsed": false
   }
  },
  {
   "cell_type": "markdown",
   "source": [
    "# Desity = 0.10"
   ],
   "metadata": {
    "collapsed": false
   }
  },
  {
   "cell_type": "code",
   "execution_count": null,
   "outputs": [],
   "source": [
    "!python Experiment.py --dataset rt --interaction NeuCF --rounds 1 --agg_epochs 5 --density 0.10 --part_type 1"
   ],
   "metadata": {
    "collapsed": false
   }
  },
  {
   "cell_type": "code",
   "execution_count": 6,
   "outputs": [
    {
     "name": "stdout",
     "output_type": "stream",
     "text": [
      "2023-01-13 23:56:32  Namespace(agg_epochs=5, agg_function=3, agg_type='softmax', balance=0, batch_size=128, beta=1, cluster='deep', cuda=True, dataset='rt', debug=1, density=0.1, devices='gpu', dimension=32, dir='../Dataset/mnist', dropout=0.1, epoch=1500, hidden_dims=[64, 64, 100], input_dim=128, interaction='NeuCF', kmeans_type=1, lamda=1, latent_dim=10, log_interval=100, lr=0.0001, n_classes=10, n_clusters=10, n_jobs=1, node2vec=0, node2vec_batchsize=32, node2vec_dim=128, node2vec_epochs=20, node2vec_length=8, node2vec_walk=15, node2vec_windows=3, num_layers=2, order=2, part_iter=50, part_type=2, path='./datasets/data/WSDREAM/', pre_epoch=1000, pretrain=True, processed=0, retrain=0, rounds=1, save_model=1, slice_epochs=80, slices=10, subagg=1, verbose=10, wd=0.0005)\r\n",
      "2023-01-13 23:56:32  Experiment start!\r\n",
      "2023-01-13 23:56:32  Dataset : rt     interaction : NeuCF\r\n",
      "2023-01-13 23:56:32  Density : 10.00%, slice_epochs : 80, agg_epochs : 5\r\n",
      "2023-01-13 23:56:32  Part_type : 2,    slices : 10,       devices : gpu\r\n",
      "\r\n",
      "2023-01-13 23:56:32  Round 1 experiment start!\r\n",
      "2023-01-13 23:56:32  \t原始数据集读取完毕\r\n",
      "2023-01-13 23:56:33  \tSISA 切割完毕\r\n",
      "2023-01-13 23:56:33  \t分切数据执行完毕\r\n",
      "2023-01-13 23:56:36  \t模型加载完毕\r\n",
      "2023-01-13 23:56:36  \t准备训练切片模型\r\n",
      "2023-01-13 23:56:36  \t实验 1 模型 1 开始分片训练\r\n",
      "2023-01-13 23:56:57  Epoch 10 : MAE : 0.7624  RMSE : 1.9797  NMAE : 0.8399  MRE : 0.7248  NPRE : 3.2882\r\n",
      "2023-01-13 23:57:17  Epoch 20 : MAE : 0.7407  RMSE : 1.8461  NMAE : 0.8159  MRE : 0.6998  NPRE : 3.6572\r\n",
      "2023-01-13 23:57:37  Epoch 30 : MAE : 0.7386  RMSE : 1.8180  NMAE : 0.8136  MRE : 0.6805  NPRE : 3.5390\r\n",
      "2023-01-13 23:57:57  Epoch 40 : MAE : 0.7323  RMSE : 1.7971  NMAE : 0.8066  MRE : 0.6921  NPRE : 3.5903\r\n",
      "2023-01-13 23:58:17  Epoch 50 : MAE : 0.7461  RMSE : 1.7935  NMAE : 0.8218  MRE : 0.7265  NPRE : 3.9225\r\n",
      "2023-01-13 23:58:37  Epoch 60 : MAE : 0.7358  RMSE : 1.7757  NMAE : 0.8106  MRE : 0.7657  NPRE : 3.5031\r\n",
      "2023-01-13 23:58:57  Epoch 70 : MAE : 0.7574  RMSE : 1.8027  NMAE : 0.8343  MRE : 0.7754  NPRE : 3.9048\r\n",
      "2023-01-13 23:59:17  Epoch 80 : MAE : 0.7704  RMSE : 1.7757  NMAE : 0.8486  MRE : 0.8971  NPRE : 4.1000\r\n",
      "2023-01-13 23:59:17  Best epoch 53 : MAE : 0.7170  RMSE : 1.7709  NMAE : 0.7898  MRE : 0.6879  NPRE : 3.3015\r\n",
      "2023-01-13 23:59:17  实验 1 模型 1 training time = 33.34 s\r\n",
      "2023-01-13 23:59:17  Slice ID  1 : MAE = 0.7170, RMSE = 1.7709, NMAE = 0.7898, MRE = 0.6879, NPRE = 3.3015\r\n",
      "\r\n",
      "2023-01-13 23:59:17  \t实验 1 模型 2 开始分片训练\r\n",
      "2023-01-13 23:59:38  Epoch 10 : MAE : 0.7847  RMSE : 1.9584  NMAE : 0.8644  MRE : 0.8018  NPRE : 4.2629\r\n",
      "2023-01-13 23:59:58  Epoch 20 : MAE : 0.7559  RMSE : 1.8276  NMAE : 0.8327  MRE : 0.7431  NPRE : 4.2250\r\n",
      "2023-01-14 00:00:18  Epoch 30 : MAE : 0.7590  RMSE : 1.7992  NMAE : 0.8360  MRE : 0.7442  NPRE : 4.6342\r\n",
      "2023-01-14 00:00:38  Epoch 40 : MAE : 0.7422  RMSE : 1.7907  NMAE : 0.8175  MRE : 0.7127  NPRE : 4.3028\r\n",
      "2023-01-14 00:00:58  Epoch 50 : MAE : 0.7612  RMSE : 1.7946  NMAE : 0.8385  MRE : 0.7652  NPRE : 4.3291\r\n",
      "2023-01-14 00:01:18  Epoch 60 : MAE : 0.7872  RMSE : 1.8262  NMAE : 0.8671  MRE : 0.7841  NPRE : 4.4941\r\n",
      "2023-01-14 00:01:38  Epoch 70 : MAE : 0.7850  RMSE : 1.8022  NMAE : 0.8647  MRE : 0.8638  NPRE : 4.6695\r\n",
      "2023-01-14 00:01:58  Epoch 80 : MAE : 0.7937  RMSE : 1.8084  NMAE : 0.8743  MRE : 0.9036  NPRE : 4.5454\r\n",
      "2023-01-14 00:01:58  Best epoch 40 : MAE : 0.7422  RMSE : 1.7907  NMAE : 0.8175  MRE : 0.7127  NPRE : 4.3028\r\n",
      "2023-01-14 00:01:58  实验 1 模型 2 training time = 24.41 s\r\n",
      "2023-01-14 00:01:58  Slice ID  2 : MAE = 0.7422, RMSE = 1.7907, NMAE = 0.8175, MRE = 0.7127, NPRE = 4.3028\r\n",
      "\r\n",
      "2023-01-14 00:01:58  \t实验 1 模型 3 开始分片训练\r\n",
      "2023-01-14 00:02:18  Epoch 10 : MAE : 0.7964  RMSE : 1.9609  NMAE : 0.8773  MRE : 0.7925  NPRE : 4.5860\r\n",
      "2023-01-14 00:02:38  Epoch 20 : MAE : 0.7952  RMSE : 1.8870  NMAE : 0.8759  MRE : 0.7707  NPRE : 4.7035\r\n",
      "2023-01-14 00:02:58  Epoch 30 : MAE : 0.8036  RMSE : 1.8800  NMAE : 0.8852  MRE : 0.7679  NPRE : 4.7257\r\n",
      "2023-01-14 00:03:18  Epoch 40 : MAE : 0.7905  RMSE : 1.8511  NMAE : 0.8707  MRE : 0.7608  NPRE : 4.2521\r\n",
      "2023-01-14 00:03:37  Epoch 50 : MAE : 0.7952  RMSE : 1.8584  NMAE : 0.8759  MRE : 0.7663  NPRE : 4.4983\r\n",
      "2023-01-14 00:03:57  Epoch 60 : MAE : 0.8146  RMSE : 1.8445  NMAE : 0.8973  MRE : 0.8536  NPRE : 4.9176\r\n",
      "2023-01-14 00:04:17  Epoch 70 : MAE : 0.8015  RMSE : 1.8438  NMAE : 0.8829  MRE : 0.8464  NPRE : 4.7496\r\n",
      "2023-01-14 00:04:37  Epoch 80 : MAE : 0.8273  RMSE : 1.8464  NMAE : 0.9113  MRE : 0.9213  NPRE : 5.1072\r\n",
      "2023-01-14 00:04:37  Best epoch 49 : MAE : 0.7771  RMSE : 1.8406  NMAE : 0.8560  MRE : 0.7692  NPRE : 4.2927\r\n",
      "2023-01-14 00:04:37  实验 1 模型 3 training time = 29.47 s\r\n",
      "2023-01-14 00:04:37  Slice ID  3 : MAE = 0.7771, RMSE = 1.8406, NMAE = 0.8560, MRE = 0.7692, NPRE = 4.2927\r\n",
      "\r\n",
      "2023-01-14 00:04:37  \t实验 1 模型 4 开始分片训练\r\n",
      "2023-01-14 00:04:58  Epoch 10 : MAE : 0.7716  RMSE : 1.9731  NMAE : 0.8499  MRE : 0.7572  NPRE : 3.8649\r\n",
      "2023-01-14 00:05:18  Epoch 20 : MAE : 0.7414  RMSE : 1.8391  NMAE : 0.8167  MRE : 0.7099  NPRE : 3.5750\r\n",
      "2023-01-14 00:05:38  Epoch 30 : MAE : 0.7212  RMSE : 1.7588  NMAE : 0.7944  MRE : 0.7285  NPRE : 3.9276\r\n",
      "2023-01-14 00:05:58  Epoch 40 : MAE : 0.7100  RMSE : 1.7395  NMAE : 0.7821  MRE : 0.7274  NPRE : 3.7617\r\n",
      "2023-01-14 00:06:18  Epoch 50 : MAE : 0.6942  RMSE : 1.7300  NMAE : 0.7647  MRE : 0.6908  NPRE : 3.3116\r\n",
      "2023-01-14 00:06:38  Epoch 60 : MAE : 0.7089  RMSE : 1.7357  NMAE : 0.7809  MRE : 0.7259  NPRE : 3.4499\r\n",
      "2023-01-14 00:06:58  Epoch 70 : MAE : 0.7133  RMSE : 1.7229  NMAE : 0.7857  MRE : 0.7631  NPRE : 3.5558\r\n",
      "2023-01-14 00:07:18  Epoch 80 : MAE : 0.7300  RMSE : 1.7372  NMAE : 0.8042  MRE : 0.8263  NPRE : 3.9016\r\n",
      "2023-01-14 00:07:18  Best epoch 48 : MAE : 0.6884  RMSE : 1.7449  NMAE : 0.7583  MRE : 0.6626  NPRE : 2.8220\r\n",
      "2023-01-14 00:07:18  实验 1 模型 4 training time = 29.74 s\r\n",
      "2023-01-14 00:07:18  Slice ID  4 : MAE = 0.6884, RMSE = 1.7449, NMAE = 0.7583, MRE = 0.6626, NPRE = 2.8220\r\n",
      "\r\n",
      "2023-01-14 00:07:18  \t实验 1 模型 5 开始分片训练\r\n",
      "2023-01-14 00:07:39  Epoch 10 : MAE : 0.7576  RMSE : 2.0153  NMAE : 0.8346  MRE : 0.7285  NPRE : 2.6621\r\n",
      "2023-01-14 00:07:59  Epoch 20 : MAE : 0.7158  RMSE : 1.8548  NMAE : 0.7884  MRE : 0.7108  NPRE : 2.5848\r\n",
      "2023-01-14 00:08:19  Epoch 30 : MAE : 0.7011  RMSE : 1.8111  NMAE : 0.7723  MRE : 0.6800  NPRE : 2.8041\r\n",
      "2023-01-14 00:08:39  Epoch 40 : MAE : 0.6910  RMSE : 1.7730  NMAE : 0.7611  MRE : 0.6882  NPRE : 2.8223\r\n",
      "2023-01-14 00:08:59  Epoch 50 : MAE : 0.7007  RMSE : 1.7819  NMAE : 0.7718  MRE : 0.6859  NPRE : 3.1594\r\n",
      "2023-01-14 00:09:19  Epoch 60 : MAE : 0.7100  RMSE : 1.7725  NMAE : 0.7821  MRE : 0.7653  NPRE : 3.0358\r\n",
      "2023-01-14 00:09:39  Epoch 70 : MAE : 0.7176  RMSE : 1.7671  NMAE : 0.7904  MRE : 0.8091  NPRE : 3.2717\r\n",
      "2023-01-14 00:09:59  Epoch 80 : MAE : 0.7441  RMSE : 1.7940  NMAE : 0.8196  MRE : 0.8848  NPRE : 3.5518\r\n",
      "2023-01-14 00:09:59  Best epoch 46 : MAE : 0.6891  RMSE : 1.7827  NMAE : 0.7591  MRE : 0.6776  NPRE : 2.5700\r\n",
      "2023-01-14 00:09:59  实验 1 模型 5 training time = 28.34 s\r\n",
      "2023-01-14 00:09:59  Slice ID  5 : MAE = 0.6891, RMSE = 1.7827, NMAE = 0.7591, MRE = 0.6776, NPRE = 2.5700\r\n",
      "\r\n",
      "2023-01-14 00:09:59  \t实验 1 模型 6 开始分片训练\r\n",
      "2023-01-14 00:10:19  Epoch 10 : MAE : 0.7613  RMSE : 1.9845  NMAE : 0.8386  MRE : 0.7165  NPRE : 3.5586\r\n",
      "2023-01-14 00:10:39  Epoch 20 : MAE : 0.7436  RMSE : 1.8514  NMAE : 0.8191  MRE : 0.7308  NPRE : 3.6105\r\n",
      "2023-01-14 00:10:59  Epoch 30 : MAE : 0.7412  RMSE : 1.7970  NMAE : 0.8164  MRE : 0.7376  NPRE : 4.0988\r\n",
      "2023-01-14 00:11:19  Epoch 40 : MAE : 0.7221  RMSE : 1.7869  NMAE : 0.7955  MRE : 0.7124  NPRE : 3.5735\r\n",
      "2023-01-14 00:11:39  Epoch 50 : MAE : 0.7067  RMSE : 1.7646  NMAE : 0.7785  MRE : 0.6779  NPRE : 3.4376\r\n",
      "2023-01-14 00:11:59  Epoch 60 : MAE : 0.7146  RMSE : 1.7496  NMAE : 0.7871  MRE : 0.7248  NPRE : 3.5175\r\n",
      "2023-01-14 00:12:19  Epoch 70 : MAE : 0.7367  RMSE : 1.7781  NMAE : 0.8115  MRE : 0.7876  NPRE : 3.6212\r\n",
      "2023-01-14 00:12:39  Epoch 80 : MAE : 0.7395  RMSE : 1.7645  NMAE : 0.8145  MRE : 0.8404  NPRE : 3.9434\r\n",
      "2023-01-14 00:12:39  Best epoch 51 : MAE : 0.7024  RMSE : 1.7652  NMAE : 0.7737  MRE : 0.6620  NPRE : 3.3344\r\n",
      "2023-01-14 00:12:39  实验 1 模型 6 training time = 30.91 s\r\n",
      "2023-01-14 00:12:39  Slice ID  6 : MAE = 0.7024, RMSE = 1.7652, NMAE = 0.7737, MRE = 0.6620, NPRE = 3.3344\r\n",
      "\r\n",
      "2023-01-14 00:12:39  \t实验 1 模型 7 开始分片训练\r\n",
      "2023-01-14 00:12:59  Epoch 10 : MAE : 0.8498  RMSE : 1.9637  NMAE : 0.9360  MRE : 0.8523  NPRE : 5.8493\r\n",
      "2023-01-14 00:13:19  Epoch 20 : MAE : 0.8163  RMSE : 1.8675  NMAE : 0.8992  MRE : 0.7984  NPRE : 5.1432\r\n",
      "2023-01-14 00:13:39  Epoch 30 : MAE : 0.8034  RMSE : 1.8117  NMAE : 0.8850  MRE : 0.7989  NPRE : 5.2478\r\n",
      "2023-01-14 00:13:59  Epoch 40 : MAE : 0.7949  RMSE : 1.8118  NMAE : 0.8756  MRE : 0.7829  NPRE : 4.9094\r\n",
      "2023-01-14 00:14:19  Epoch 50 : MAE : 0.7794  RMSE : 1.7930  NMAE : 0.8585  MRE : 0.7588  NPRE : 4.3822\r\n",
      "2023-01-14 00:14:39  Epoch 60 : MAE : 0.7756  RMSE : 1.7798  NMAE : 0.8543  MRE : 0.7967  NPRE : 4.5610\r\n",
      "2023-01-14 00:14:59  Epoch 70 : MAE : 0.7671  RMSE : 1.8032  NMAE : 0.8450  MRE : 0.8037  NPRE : 4.0297\r\n",
      "2023-01-14 00:15:19  Epoch 80 : MAE : 0.7958  RMSE : 1.7911  NMAE : 0.8766  MRE : 0.9053  NPRE : 4.7826\r\n",
      "2023-01-14 00:15:19  Best epoch 56 : MAE : 0.7607  RMSE : 1.7851  NMAE : 0.8380  MRE : 0.7317  NPRE : 4.2313\r\n",
      "2023-01-14 00:15:19  实验 1 模型 7 training time = 34.28 s\r\n",
      "2023-01-14 00:15:19  Slice ID  7 : MAE = 0.7607, RMSE = 1.7851, NMAE = 0.8380, MRE = 0.7317, NPRE = 4.2313\r\n",
      "\r\n",
      "2023-01-14 00:15:19  \t实验 1 模型 8 开始分片训练\r\n",
      "2023-01-14 00:15:39  Epoch 10 : MAE : 0.9063  RMSE : 1.9936  NMAE : 0.9983  MRE : 0.8835  NPRE : 6.2006\r\n",
      "2023-01-14 00:15:59  Epoch 20 : MAE : 0.9492  RMSE : 2.0147  NMAE : 1.0455  MRE : 0.8626  NPRE : 6.6715\r\n",
      "2023-01-14 00:16:19  Epoch 30 : MAE : 0.9310  RMSE : 1.9984  NMAE : 1.0255  MRE : 0.8103  NPRE : 6.3491\r\n",
      "2023-01-14 00:16:39  Epoch 40 : MAE : 0.9631  RMSE : 2.0379  NMAE : 1.0609  MRE : 0.8682  NPRE : 6.7212\r\n",
      "2023-01-14 00:16:59  Epoch 50 : MAE : 0.9480  RMSE : 2.0346  NMAE : 1.0443  MRE : 0.8734  NPRE : 6.2994\r\n",
      "2023-01-14 00:17:19  Epoch 60 : MAE : 0.9318  RMSE : 2.0252  NMAE : 1.0264  MRE : 0.8855  NPRE : 6.1021\r\n",
      "2023-01-14 00:17:38  Epoch 70 : MAE : 0.9142  RMSE : 1.9905  NMAE : 1.0070  MRE : 0.8883  NPRE : 6.0106\r\n",
      "2023-01-14 00:17:58  Epoch 80 : MAE : 0.9823  RMSE : 2.0638  NMAE : 1.0820  MRE : 1.0000  NPRE : 6.5530\r\n",
      "2023-01-14 00:17:58  Best epoch  2 : MAE : 0.8349  RMSE : 1.9873  NMAE : 0.9197  MRE : 0.8833  NPRE : 5.4733\r\n",
      "2023-01-14 00:17:58  实验 1 模型 8 training time = 1.25 s\r\n",
      "2023-01-14 00:17:58  Slice ID  8 : MAE = 0.8349, RMSE = 1.9873, NMAE = 0.9197, MRE = 0.8833, NPRE = 5.4733\r\n",
      "\r\n",
      "2023-01-14 00:17:59  \t实验 1 模型 9 开始分片训练\r\n",
      "2023-01-14 00:18:19  Epoch 10 : MAE : 0.7616  RMSE : 1.9810  NMAE : 0.8389  MRE : 0.7518  NPRE : 3.8482\r\n",
      "2023-01-14 00:18:39  Epoch 20 : MAE : 0.7319  RMSE : 1.8326  NMAE : 0.8062  MRE : 0.7103  NPRE : 3.3325\r\n",
      "2023-01-14 00:18:59  Epoch 30 : MAE : 0.7191  RMSE : 1.8002  NMAE : 0.7921  MRE : 0.6721  NPRE : 3.3704\r\n",
      "2023-01-14 00:19:19  Epoch 40 : MAE : 0.7241  RMSE : 1.7851  NMAE : 0.7977  MRE : 0.7115  NPRE : 3.6047\r\n",
      "2023-01-14 00:19:39  Epoch 50 : MAE : 0.7014  RMSE : 1.7757  NMAE : 0.7726  MRE : 0.6801  NPRE : 2.8995\r\n",
      "2023-01-14 00:19:59  Epoch 60 : MAE : 0.7111  RMSE : 1.7735  NMAE : 0.7833  MRE : 0.7113  NPRE : 3.1937\r\n",
      "2023-01-14 00:20:19  Epoch 70 : MAE : 0.7174  RMSE : 1.7774  NMAE : 0.7902  MRE : 0.7594  NPRE : 3.1173\r\n",
      "2023-01-14 00:20:39  Epoch 80 : MAE : 0.7309  RMSE : 1.7702  NMAE : 0.8051  MRE : 0.8560  NPRE : 3.3815\r\n",
      "2023-01-14 00:20:39  Best epoch 61 : MAE : 0.6948  RMSE : 1.7711  NMAE : 0.7654  MRE : 0.6768  NPRE : 2.8902\r\n",
      "2023-01-14 00:20:39  实验 1 模型 9 training time = 37.05 s\r\n",
      "2023-01-14 00:20:39  Slice ID  9 : MAE = 0.6948, RMSE = 1.7711, NMAE = 0.7654, MRE = 0.6768, NPRE = 2.8902\r\n",
      "\r\n",
      "2023-01-14 00:20:39  \t实验 1 模型 10 开始分片训练\r\n",
      "2023-01-14 00:20:59  Epoch 10 : MAE : 0.7538  RMSE : 1.9646  NMAE : 0.8303  MRE : 0.7379  NPRE : 3.7659\r\n",
      "2023-01-14 00:21:20  Epoch 20 : MAE : 0.7316  RMSE : 1.7909  NMAE : 0.8058  MRE : 0.7192  NPRE : 3.8186\r\n",
      "2023-01-14 00:21:40  Epoch 30 : MAE : 0.7333  RMSE : 1.7676  NMAE : 0.8077  MRE : 0.7545  NPRE : 4.0855\r\n",
      "2023-01-14 00:22:00  Epoch 40 : MAE : 0.7029  RMSE : 1.7410  NMAE : 0.7743  MRE : 0.7163  NPRE : 3.7355\r\n",
      "2023-01-14 00:22:20  Epoch 50 : MAE : 0.7104  RMSE : 1.7448  NMAE : 0.7825  MRE : 0.7095  NPRE : 3.7416\r\n",
      "2023-01-14 00:22:40  Epoch 60 : MAE : 0.6994  RMSE : 1.7259  NMAE : 0.7705  MRE : 0.7162  NPRE : 3.6546\r\n",
      "2023-01-14 00:22:59  Epoch 70 : MAE : 0.7171  RMSE : 1.7470  NMAE : 0.7899  MRE : 0.7762  NPRE : 3.8083\r\n",
      "2023-01-14 00:23:19  Epoch 80 : MAE : 0.7297  RMSE : 1.7490  NMAE : 0.8038  MRE : 0.8324  NPRE : 3.6936\r\n",
      "2023-01-14 00:23:19  Best epoch 35 : MAE : 0.6827  RMSE : 1.7510  NMAE : 0.7521  MRE : 0.6427  NPRE : 3.1465\r\n",
      "2023-01-14 00:23:19  实验 1 模型 10 training time = 21.58 s\r\n",
      "2023-01-14 00:23:19  Slice ID  10 : MAE = 0.6827, RMSE = 1.7510, NMAE = 0.7521, MRE = 0.6427, NPRE = 3.1465\r\n",
      "\r\n",
      "2023-01-14 00:23:19  \t所有切片模型训练完毕\r\n",
      "2023-01-14 00:23:19  \t开始训练聚合模型\r\n",
      "2023-01-14 00:23:32  Epoch  1 : MAE : 0.5953  RMSE : 1.6529  NMAE : 0.6557  MRE : 0.5117  NPRE : 2.1132\r\n",
      "2023-01-14 00:23:44  Epoch  2 : MAE : 0.5517  RMSE : 1.5611  NMAE : 0.6077  MRE : 0.4835  NPRE : 2.3464\r\n",
      "2023-01-14 00:23:56  Epoch  3 : MAE : 0.5277  RMSE : 1.4915  NMAE : 0.5812  MRE : 0.4724  NPRE : 2.5379\r\n",
      "2023-01-14 00:24:08  Epoch  4 : MAE : 0.5202  RMSE : 1.4745  NMAE : 0.5730  MRE : 0.4636  NPRE : 2.4966\r\n",
      "2023-01-14 00:24:20  Epoch  5 : MAE : 0.5090  RMSE : 1.4558  NMAE : 0.5607  MRE : 0.4582  NPRE : 2.1654\r\n",
      "2023-01-14 00:24:20  \t实验 1 聚合模型训练完毕\r\n",
      "2023-01-14 00:24:38  Result : MAE : 0.5094  RMSE : 1.4771  NMAE : 0.5612  MRE : 0.4595  NPRE : 2.1788\r\n",
      "2023-01-14 00:24:38  \t实验 1 : Aggregators training time = 55.76 s\r\n",
      "\r\n",
      "2023-01-14 00:24:38  \t聚合模型训练完毕\r\n",
      "2023-01-14 00:24:38  Round 1 : MAE = 0.5094, RMSE = 1.4771, NMAE = 0.5612, MRE = 0.4595, NPRE = 2.1788\r\n",
      "------------------------------------------------------------------------------------------------------------------------\r\n",
      "2023-01-14 00:24:38  Dataset : rt     interaction : NeuCF\r\n",
      "2023-01-14 00:24:38  Density : 10.00%, slice_epochs : 80, agg_epochs : 5\r\n",
      "2023-01-14 00:24:38  Part_type : 2,    slices : 10,       devices : gpu\r\n",
      "\r\n",
      "\r\n",
      "2023-01-14 00:24:38  Density 10.00% : MAE = 0.509, RMSE = 1.477, NMAE = 0.561, MRE = 0.459, NPRE = 2.179\r\n",
      "\r\n",
      "2023-01-14 00:24:38  Experiment success!\r\n"
     ]
    }
   ],
   "source": [
    "!python Experiment.py --dataset rt --interaction NeuCF --rounds 1 --agg_epochs 5 --density 0.10 --part_type 2 --debug 1"
   ],
   "metadata": {
    "collapsed": false
   }
  },
  {
   "cell_type": "code",
   "execution_count": null,
   "outputs": [],
   "source": [
    "!python Experiment.py --dataset rt --interaction NeuCF --rounds 1 --agg_epochs 5 --density 0.10 --part_type 3"
   ],
   "metadata": {
    "collapsed": false
   }
  },
  {
   "cell_type": "code",
   "execution_count": 7,
   "outputs": [
    {
     "name": "stdout",
     "output_type": "stream",
     "text": [
      "2023-01-14 00:24:40  Namespace(agg_epochs=5, agg_function=3, agg_type='softmax', balance=0, batch_size=128, beta=1, cluster='deep', cuda=True, dataset='rt', debug=0, density=0.1, devices='gpu', dimension=32, dir='../Dataset/mnist', dropout=0.1, epoch=1500, hidden_dims=[64, 64, 100], input_dim=128, interaction='NeuCF', kmeans_type=1, lamda=1, latent_dim=10, log_interval=100, lr=0.0001, n_classes=10, n_clusters=10, n_jobs=1, node2vec=0, node2vec_batchsize=32, node2vec_dim=128, node2vec_epochs=20, node2vec_length=8, node2vec_walk=15, node2vec_windows=3, num_layers=2, order=2, part_iter=50, part_type=4, path='./datasets/data/WSDREAM/', pre_epoch=1000, pretrain=True, processed=0, retrain=0, rounds=1, save_model=1, slice_epochs=80, slices=10, subagg=1, verbose=10, wd=0.0005)\r\n",
      "2023-01-14 00:24:40  Experiment start!\r\n",
      "2023-01-14 00:24:40  Dataset : rt     interaction : NeuCF\r\n",
      "2023-01-14 00:24:40  Density : 10.00%, slice_epochs : 80, agg_epochs : 5\r\n",
      "2023-01-14 00:24:40  Part_type : 4,    slices : 10,       devices : gpu\r\n",
      "\r\n",
      "2023-01-14 00:24:40  Round 1 experiment start!\r\n",
      "2023-01-14 00:24:40  \t原始数据集读取完毕\r\n",
      "2023-01-14 00:24:40  \t图嵌入非均衡切割\r\n",
      "Computing transition probabilities: 100%|███| 507/507 [00:00<00:00, 3298.37it/s]\r\n",
      "Generating walks (CPU: 1): 100%|██████████████████| 4/4 [00:00<00:00, 83.36it/s]\r\n",
      "Generating walks (CPU: 2): 100%|██████████████████| 4/4 [00:00<00:00, 81.09it/s]\r\n",
      "Generating walks (CPU: 3): 100%|██████████████████| 4/4 [00:00<00:00, 81.23it/s]\r\n",
      "Generating walks (CPU: 4): 100%|██████████████████| 3/3 [00:00<00:00, 87.66it/s]\r\n",
      "========== Start pretraining ==========\r\n",
      "100%|██████████████████████████████████████| 1000/1000 [00:06<00:00, 154.55it/s]\r\n",
      "Exception ignored on calling ctypes callback function: <function _ThreadpoolInfo._find_modules_with_dl_iterate_phdr.<locals>.match_module_callback at 0x7f27d594f940>\r\n",
      "Traceback (most recent call last):\r\n",
      "  File \"/home/yxzeng/anaconda3/lib/python3.8/site-packages/threadpoolctl.py\", line 400, in match_module_callback\r\n",
      "    self._make_module_from_path(filepath)\r\n",
      "  File \"/home/yxzeng/anaconda3/lib/python3.8/site-packages/threadpoolctl.py\", line 515, in _make_module_from_path\r\n",
      "    module = module_class(filepath, prefix, user_api, internal_api)\r\n",
      "  File \"/home/yxzeng/anaconda3/lib/python3.8/site-packages/threadpoolctl.py\", line 606, in __init__\r\n",
      "    self.version = self.get_version()\r\n",
      "  File \"/home/yxzeng/anaconda3/lib/python3.8/site-packages/threadpoolctl.py\", line 646, in get_version\r\n",
      "    config = get_config().split()\r\n",
      "AttributeError: 'NoneType' object has no attribute 'split'\r\n",
      "Exception ignored on calling ctypes callback function: <function _ThreadpoolInfo._find_modules_with_dl_iterate_phdr.<locals>.match_module_callback at 0x7f27d594f940>\r\n",
      "Traceback (most recent call last):\r\n",
      "  File \"/home/yxzeng/anaconda3/lib/python3.8/site-packages/threadpoolctl.py\", line 400, in match_module_callback\r\n",
      "    self._make_module_from_path(filepath)\r\n",
      "  File \"/home/yxzeng/anaconda3/lib/python3.8/site-packages/threadpoolctl.py\", line 515, in _make_module_from_path\r\n",
      "    module = module_class(filepath, prefix, user_api, internal_api)\r\n",
      "  File \"/home/yxzeng/anaconda3/lib/python3.8/site-packages/threadpoolctl.py\", line 606, in __init__\r\n",
      "    self.version = self.get_version()\r\n",
      "  File \"/home/yxzeng/anaconda3/lib/python3.8/site-packages/threadpoolctl.py\", line 646, in get_version\r\n",
      "    config = get_config().split()\r\n",
      "AttributeError: 'NoneType' object has no attribute 'split'\r\n",
      "Exception ignored on calling ctypes callback function: <function _ThreadpoolInfo._find_modules_with_dl_iterate_phdr.<locals>.match_module_callback at 0x7f27d594f940>\r\n",
      "Traceback (most recent call last):\r\n",
      "  File \"/home/yxzeng/anaconda3/lib/python3.8/site-packages/threadpoolctl.py\", line 400, in match_module_callback\r\n",
      "    self._make_module_from_path(filepath)\r\n",
      "  File \"/home/yxzeng/anaconda3/lib/python3.8/site-packages/threadpoolctl.py\", line 515, in _make_module_from_path\r\n",
      "    module = module_class(filepath, prefix, user_api, internal_api)\r\n",
      "  File \"/home/yxzeng/anaconda3/lib/python3.8/site-packages/threadpoolctl.py\", line 606, in __init__\r\n",
      "    self.version = self.get_version()\r\n",
      "  File \"/home/yxzeng/anaconda3/lib/python3.8/site-packages/threadpoolctl.py\", line 646, in get_version\r\n",
      "    config = get_config().split()\r\n",
      "AttributeError: 'NoneType' object has no attribute 'split'\r\n",
      "Exception ignored on calling ctypes callback function: <function _ThreadpoolInfo._find_modules_with_dl_iterate_phdr.<locals>.match_module_callback at 0x7f27d594f940>\r\n",
      "Traceback (most recent call last):\r\n",
      "  File \"/home/yxzeng/anaconda3/lib/python3.8/site-packages/threadpoolctl.py\", line 400, in match_module_callback\r\n",
      "    self._make_module_from_path(filepath)\r\n",
      "  File \"/home/yxzeng/anaconda3/lib/python3.8/site-packages/threadpoolctl.py\", line 515, in _make_module_from_path\r\n",
      "    module = module_class(filepath, prefix, user_api, internal_api)\r\n",
      "  File \"/home/yxzeng/anaconda3/lib/python3.8/site-packages/threadpoolctl.py\", line 606, in __init__\r\n",
      "    self.version = self.get_version()\r\n",
      "  File \"/home/yxzeng/anaconda3/lib/python3.8/site-packages/threadpoolctl.py\", line 646, in get_version\r\n",
      "    config = get_config().split()\r\n",
      "AttributeError: 'NoneType' object has no attribute 'split'\r\n",
      "Exception ignored on calling ctypes callback function: <function _ThreadpoolInfo._find_modules_with_dl_iterate_phdr.<locals>.match_module_callback at 0x7f27d594f940>\r\n",
      "Traceback (most recent call last):\r\n",
      "  File \"/home/yxzeng/anaconda3/lib/python3.8/site-packages/threadpoolctl.py\", line 400, in match_module_callback\r\n",
      "    self._make_module_from_path(filepath)\r\n",
      "  File \"/home/yxzeng/anaconda3/lib/python3.8/site-packages/threadpoolctl.py\", line 515, in _make_module_from_path\r\n",
      "    module = module_class(filepath, prefix, user_api, internal_api)\r\n",
      "  File \"/home/yxzeng/anaconda3/lib/python3.8/site-packages/threadpoolctl.py\", line 606, in __init__\r\n",
      "    self.version = self.get_version()\r\n",
      "  File \"/home/yxzeng/anaconda3/lib/python3.8/site-packages/threadpoolctl.py\", line 646, in get_version\r\n",
      "    config = get_config().split()\r\n",
      "AttributeError: 'NoneType' object has no attribute 'split'\r\n",
      "Exception ignored on calling ctypes callback function: <function _ThreadpoolInfo._find_modules_with_dl_iterate_phdr.<locals>.match_module_callback at 0x7f27d594f940>\r\n",
      "Traceback (most recent call last):\r\n",
      "  File \"/home/yxzeng/anaconda3/lib/python3.8/site-packages/threadpoolctl.py\", line 400, in match_module_callback\r\n",
      "    self._make_module_from_path(filepath)\r\n",
      "  File \"/home/yxzeng/anaconda3/lib/python3.8/site-packages/threadpoolctl.py\", line 515, in _make_module_from_path\r\n",
      "    module = module_class(filepath, prefix, user_api, internal_api)\r\n",
      "  File \"/home/yxzeng/anaconda3/lib/python3.8/site-packages/threadpoolctl.py\", line 606, in __init__\r\n",
      "    self.version = self.get_version()\r\n",
      "  File \"/home/yxzeng/anaconda3/lib/python3.8/site-packages/threadpoolctl.py\", line 646, in get_version\r\n",
      "    config = get_config().split()\r\n",
      "AttributeError: 'NoneType' object has no attribute 'split'\r\n",
      "Exception ignored on calling ctypes callback function: <function _ThreadpoolInfo._find_modules_with_dl_iterate_phdr.<locals>.match_module_callback at 0x7f27d594f940>\r\n",
      "Traceback (most recent call last):\r\n",
      "  File \"/home/yxzeng/anaconda3/lib/python3.8/site-packages/threadpoolctl.py\", line 400, in match_module_callback\r\n",
      "    self._make_module_from_path(filepath)\r\n",
      "  File \"/home/yxzeng/anaconda3/lib/python3.8/site-packages/threadpoolctl.py\", line 515, in _make_module_from_path\r\n",
      "    module = module_class(filepath, prefix, user_api, internal_api)\r\n",
      "  File \"/home/yxzeng/anaconda3/lib/python3.8/site-packages/threadpoolctl.py\", line 606, in __init__\r\n",
      "    self.version = self.get_version()\r\n",
      "  File \"/home/yxzeng/anaconda3/lib/python3.8/site-packages/threadpoolctl.py\", line 646, in get_version\r\n",
      "    config = get_config().split()\r\n",
      "AttributeError: 'NoneType' object has no attribute 'split'\r\n",
      "Exception ignored on calling ctypes callback function: <function _ThreadpoolInfo._find_modules_with_dl_iterate_phdr.<locals>.match_module_callback at 0x7f27d594f940>\r\n",
      "Traceback (most recent call last):\r\n",
      "  File \"/home/yxzeng/anaconda3/lib/python3.8/site-packages/threadpoolctl.py\", line 400, in match_module_callback\r\n",
      "    self._make_module_from_path(filepath)\r\n",
      "  File \"/home/yxzeng/anaconda3/lib/python3.8/site-packages/threadpoolctl.py\", line 515, in _make_module_from_path\r\n",
      "    module = module_class(filepath, prefix, user_api, internal_api)\r\n",
      "  File \"/home/yxzeng/anaconda3/lib/python3.8/site-packages/threadpoolctl.py\", line 606, in __init__\r\n",
      "    self.version = self.get_version()\r\n",
      "  File \"/home/yxzeng/anaconda3/lib/python3.8/site-packages/threadpoolctl.py\", line 646, in get_version\r\n",
      "    config = get_config().split()\r\n",
      "AttributeError: 'NoneType' object has no attribute 'split'\r\n",
      "Exception ignored on calling ctypes callback function: <function _ThreadpoolInfo._find_modules_with_dl_iterate_phdr.<locals>.match_module_callback at 0x7f27d594f940>\r\n",
      "Traceback (most recent call last):\r\n",
      "  File \"/home/yxzeng/anaconda3/lib/python3.8/site-packages/threadpoolctl.py\", line 400, in match_module_callback\r\n",
      "    self._make_module_from_path(filepath)\r\n",
      "  File \"/home/yxzeng/anaconda3/lib/python3.8/site-packages/threadpoolctl.py\", line 515, in _make_module_from_path\r\n",
      "    module = module_class(filepath, prefix, user_api, internal_api)\r\n",
      "  File \"/home/yxzeng/anaconda3/lib/python3.8/site-packages/threadpoolctl.py\", line 606, in __init__\r\n",
      "    self.version = self.get_version()\r\n",
      "  File \"/home/yxzeng/anaconda3/lib/python3.8/site-packages/threadpoolctl.py\", line 646, in get_version\r\n",
      "    config = get_config().split()\r\n",
      "AttributeError: 'NoneType' object has no attribute 'split'\r\n",
      "Exception ignored on calling ctypes callback function: <function _ThreadpoolInfo._find_modules_with_dl_iterate_phdr.<locals>.match_module_callback at 0x7f27d594f940>\r\n",
      "Traceback (most recent call last):\r\n",
      "  File \"/home/yxzeng/anaconda3/lib/python3.8/site-packages/threadpoolctl.py\", line 400, in match_module_callback\r\n",
      "    self._make_module_from_path(filepath)\r\n",
      "  File \"/home/yxzeng/anaconda3/lib/python3.8/site-packages/threadpoolctl.py\", line 515, in _make_module_from_path\r\n",
      "    module = module_class(filepath, prefix, user_api, internal_api)\r\n",
      "  File \"/home/yxzeng/anaconda3/lib/python3.8/site-packages/threadpoolctl.py\", line 606, in __init__\r\n",
      "    self.version = self.get_version()\r\n",
      "  File \"/home/yxzeng/anaconda3/lib/python3.8/site-packages/threadpoolctl.py\", line 646, in get_version\r\n",
      "    config = get_config().split()\r\n",
      "AttributeError: 'NoneType' object has no attribute 'split'\r\n",
      "Exception ignored on calling ctypes callback function: <function _ThreadpoolInfo._find_modules_with_dl_iterate_phdr.<locals>.match_module_callback at 0x7f27d594f940>\r\n",
      "Traceback (most recent call last):\r\n",
      "  File \"/home/yxzeng/anaconda3/lib/python3.8/site-packages/threadpoolctl.py\", line 400, in match_module_callback\r\n",
      "    self._make_module_from_path(filepath)\r\n",
      "  File \"/home/yxzeng/anaconda3/lib/python3.8/site-packages/threadpoolctl.py\", line 515, in _make_module_from_path\r\n",
      "    module = module_class(filepath, prefix, user_api, internal_api)\r\n",
      "  File \"/home/yxzeng/anaconda3/lib/python3.8/site-packages/threadpoolctl.py\", line 606, in __init__\r\n",
      "    self.version = self.get_version()\r\n",
      "  File \"/home/yxzeng/anaconda3/lib/python3.8/site-packages/threadpoolctl.py\", line 646, in get_version\r\n",
      "    config = get_config().split()\r\n",
      "AttributeError: 'NoneType' object has no attribute 'split'\r\n",
      "Exception ignored on calling ctypes callback function: <function _ThreadpoolInfo._find_modules_with_dl_iterate_phdr.<locals>.match_module_callback at 0x7f27d594f940>\r\n",
      "Traceback (most recent call last):\r\n",
      "  File \"/home/yxzeng/anaconda3/lib/python3.8/site-packages/threadpoolctl.py\", line 400, in match_module_callback\r\n",
      "    self._make_module_from_path(filepath)\r\n",
      "  File \"/home/yxzeng/anaconda3/lib/python3.8/site-packages/threadpoolctl.py\", line 515, in _make_module_from_path\r\n",
      "    module = module_class(filepath, prefix, user_api, internal_api)\r\n",
      "  File \"/home/yxzeng/anaconda3/lib/python3.8/site-packages/threadpoolctl.py\", line 606, in __init__\r\n",
      "    self.version = self.get_version()\r\n",
      "  File \"/home/yxzeng/anaconda3/lib/python3.8/site-packages/threadpoolctl.py\", line 646, in get_version\r\n",
      "    config = get_config().split()\r\n",
      "AttributeError: 'NoneType' object has no attribute 'split'\r\n",
      "Exception ignored on calling ctypes callback function: <function _ThreadpoolInfo._find_modules_with_dl_iterate_phdr.<locals>.match_module_callback at 0x7f27d594f940>\r\n",
      "Traceback (most recent call last):\r\n",
      "  File \"/home/yxzeng/anaconda3/lib/python3.8/site-packages/threadpoolctl.py\", line 400, in match_module_callback\r\n",
      "    self._make_module_from_path(filepath)\r\n",
      "  File \"/home/yxzeng/anaconda3/lib/python3.8/site-packages/threadpoolctl.py\", line 515, in _make_module_from_path\r\n",
      "    module = module_class(filepath, prefix, user_api, internal_api)\r\n",
      "  File \"/home/yxzeng/anaconda3/lib/python3.8/site-packages/threadpoolctl.py\", line 606, in __init__\r\n",
      "    self.version = self.get_version()\r\n",
      "  File \"/home/yxzeng/anaconda3/lib/python3.8/site-packages/threadpoolctl.py\", line 646, in get_version\r\n",
      "    config = get_config().split()\r\n",
      "AttributeError: 'NoneType' object has no attribute 'split'\r\n",
      "Exception ignored on calling ctypes callback function: <function _ThreadpoolInfo._find_modules_with_dl_iterate_phdr.<locals>.match_module_callback at 0x7f27d594f940>\r\n",
      "Traceback (most recent call last):\r\n",
      "  File \"/home/yxzeng/anaconda3/lib/python3.8/site-packages/threadpoolctl.py\", line 400, in match_module_callback\r\n",
      "    self._make_module_from_path(filepath)\r\n",
      "  File \"/home/yxzeng/anaconda3/lib/python3.8/site-packages/threadpoolctl.py\", line 515, in _make_module_from_path\r\n",
      "    module = module_class(filepath, prefix, user_api, internal_api)\r\n",
      "  File \"/home/yxzeng/anaconda3/lib/python3.8/site-packages/threadpoolctl.py\", line 606, in __init__\r\n",
      "    self.version = self.get_version()\r\n",
      "  File \"/home/yxzeng/anaconda3/lib/python3.8/site-packages/threadpoolctl.py\", line 646, in get_version\r\n",
      "    config = get_config().split()\r\n",
      "AttributeError: 'NoneType' object has no attribute 'split'\r\n",
      "Exception ignored on calling ctypes callback function: <function _ThreadpoolInfo._find_modules_with_dl_iterate_phdr.<locals>.match_module_callback at 0x7f27d594f940>\r\n",
      "Traceback (most recent call last):\r\n",
      "  File \"/home/yxzeng/anaconda3/lib/python3.8/site-packages/threadpoolctl.py\", line 400, in match_module_callback\r\n",
      "    self._make_module_from_path(filepath)\r\n",
      "  File \"/home/yxzeng/anaconda3/lib/python3.8/site-packages/threadpoolctl.py\", line 515, in _make_module_from_path\r\n",
      "    module = module_class(filepath, prefix, user_api, internal_api)\r\n",
      "  File \"/home/yxzeng/anaconda3/lib/python3.8/site-packages/threadpoolctl.py\", line 606, in __init__\r\n",
      "    self.version = self.get_version()\r\n",
      "  File \"/home/yxzeng/anaconda3/lib/python3.8/site-packages/threadpoolctl.py\", line 646, in get_version\r\n",
      "    config = get_config().split()\r\n",
      "AttributeError: 'NoneType' object has no attribute 'split'\r\n",
      "Exception ignored on calling ctypes callback function: <function _ThreadpoolInfo._find_modules_with_dl_iterate_phdr.<locals>.match_module_callback at 0x7f27d594f940>\r\n",
      "Traceback (most recent call last):\r\n",
      "  File \"/home/yxzeng/anaconda3/lib/python3.8/site-packages/threadpoolctl.py\", line 400, in match_module_callback\r\n",
      "    self._make_module_from_path(filepath)\r\n",
      "  File \"/home/yxzeng/anaconda3/lib/python3.8/site-packages/threadpoolctl.py\", line 515, in _make_module_from_path\r\n",
      "    module = module_class(filepath, prefix, user_api, internal_api)\r\n",
      "  File \"/home/yxzeng/anaconda3/lib/python3.8/site-packages/threadpoolctl.py\", line 606, in __init__\r\n",
      "    self.version = self.get_version()\r\n",
      "  File \"/home/yxzeng/anaconda3/lib/python3.8/site-packages/threadpoolctl.py\", line 646, in get_version\r\n",
      "    config = get_config().split()\r\n",
      "AttributeError: 'NoneType' object has no attribute 'split'\r\n",
      "Exception ignored on calling ctypes callback function: <function _ThreadpoolInfo._find_modules_with_dl_iterate_phdr.<locals>.match_module_callback at 0x7f27d594f940>\r\n",
      "Traceback (most recent call last):\r\n",
      "  File \"/home/yxzeng/anaconda3/lib/python3.8/site-packages/threadpoolctl.py\", line 400, in match_module_callback\r\n",
      "    self._make_module_from_path(filepath)\r\n",
      "  File \"/home/yxzeng/anaconda3/lib/python3.8/site-packages/threadpoolctl.py\", line 515, in _make_module_from_path\r\n",
      "    module = module_class(filepath, prefix, user_api, internal_api)\r\n",
      "  File \"/home/yxzeng/anaconda3/lib/python3.8/site-packages/threadpoolctl.py\", line 606, in __init__\r\n",
      "    self.version = self.get_version()\r\n",
      "  File \"/home/yxzeng/anaconda3/lib/python3.8/site-packages/threadpoolctl.py\", line 646, in get_version\r\n",
      "    config = get_config().split()\r\n",
      "AttributeError: 'NoneType' object has no attribute 'split'\r\n",
      "Exception ignored on calling ctypes callback function: <function _ThreadpoolInfo._find_modules_with_dl_iterate_phdr.<locals>.match_module_callback at 0x7f27d594f940>\r\n",
      "Traceback (most recent call last):\r\n",
      "  File \"/home/yxzeng/anaconda3/lib/python3.8/site-packages/threadpoolctl.py\", line 400, in match_module_callback\r\n",
      "    self._make_module_from_path(filepath)\r\n",
      "  File \"/home/yxzeng/anaconda3/lib/python3.8/site-packages/threadpoolctl.py\", line 515, in _make_module_from_path\r\n",
      "    module = module_class(filepath, prefix, user_api, internal_api)\r\n",
      "  File \"/home/yxzeng/anaconda3/lib/python3.8/site-packages/threadpoolctl.py\", line 606, in __init__\r\n",
      "    self.version = self.get_version()\r\n",
      "  File \"/home/yxzeng/anaconda3/lib/python3.8/site-packages/threadpoolctl.py\", line 646, in get_version\r\n",
      "    config = get_config().split()\r\n",
      "AttributeError: 'NoneType' object has no attribute 'split'\r\n",
      "Exception ignored on calling ctypes callback function: <function _ThreadpoolInfo._find_modules_with_dl_iterate_phdr.<locals>.match_module_callback at 0x7f27d594f940>\r\n",
      "Traceback (most recent call last):\r\n",
      "  File \"/home/yxzeng/anaconda3/lib/python3.8/site-packages/threadpoolctl.py\", line 400, in match_module_callback\r\n",
      "    self._make_module_from_path(filepath)\r\n",
      "  File \"/home/yxzeng/anaconda3/lib/python3.8/site-packages/threadpoolctl.py\", line 515, in _make_module_from_path\r\n",
      "    module = module_class(filepath, prefix, user_api, internal_api)\r\n",
      "  File \"/home/yxzeng/anaconda3/lib/python3.8/site-packages/threadpoolctl.py\", line 606, in __init__\r\n",
      "    self.version = self.get_version()\r\n",
      "  File \"/home/yxzeng/anaconda3/lib/python3.8/site-packages/threadpoolctl.py\", line 646, in get_version\r\n",
      "    config = get_config().split()\r\n",
      "AttributeError: 'NoneType' object has no attribute 'split'\r\n",
      "Exception ignored on calling ctypes callback function: <function _ThreadpoolInfo._find_modules_with_dl_iterate_phdr.<locals>.match_module_callback at 0x7f27d594f940>\r\n",
      "Traceback (most recent call last):\r\n",
      "  File \"/home/yxzeng/anaconda3/lib/python3.8/site-packages/threadpoolctl.py\", line 400, in match_module_callback\r\n",
      "    self._make_module_from_path(filepath)\r\n",
      "  File \"/home/yxzeng/anaconda3/lib/python3.8/site-packages/threadpoolctl.py\", line 515, in _make_module_from_path\r\n",
      "    module = module_class(filepath, prefix, user_api, internal_api)\r\n",
      "  File \"/home/yxzeng/anaconda3/lib/python3.8/site-packages/threadpoolctl.py\", line 606, in __init__\r\n",
      "    self.version = self.get_version()\r\n",
      "  File \"/home/yxzeng/anaconda3/lib/python3.8/site-packages/threadpoolctl.py\", line 646, in get_version\r\n",
      "    config = get_config().split()\r\n",
      "AttributeError: 'NoneType' object has no attribute 'split'\r\n",
      "Exception ignored on calling ctypes callback function: <function _ThreadpoolInfo._find_modules_with_dl_iterate_phdr.<locals>.match_module_callback at 0x7f27d594f940>\r\n",
      "Traceback (most recent call last):\r\n",
      "  File \"/home/yxzeng/anaconda3/lib/python3.8/site-packages/threadpoolctl.py\", line 400, in match_module_callback\r\n",
      "    self._make_module_from_path(filepath)\r\n",
      "  File \"/home/yxzeng/anaconda3/lib/python3.8/site-packages/threadpoolctl.py\", line 515, in _make_module_from_path\r\n",
      "    module = module_class(filepath, prefix, user_api, internal_api)\r\n",
      "  File \"/home/yxzeng/anaconda3/lib/python3.8/site-packages/threadpoolctl.py\", line 606, in __init__\r\n",
      "    self.version = self.get_version()\r\n",
      "  File \"/home/yxzeng/anaconda3/lib/python3.8/site-packages/threadpoolctl.py\", line 646, in get_version\r\n",
      "    config = get_config().split()\r\n",
      "AttributeError: 'NoneType' object has no attribute 'split'\r\n",
      "100%|███████████████████████████████████████| 1500/1500 [02:05<00:00, 11.98it/s]\r\n",
      "========== End pretraining ==========\r\n",
      "--------------------------------------------------------------------------------\r\n",
      "{2: 127, 9: 26, 4: 55, 1: 60, 0: 7, 8: 17, 7: 10, 5: 11, 3: 21, 6: 5}\r\n",
      "2023-01-14 00:26:58  \tNode2Vec 基于用户聚类非均衡切割完毕\r\n",
      "2023-01-14 00:26:58  \t分切数据执行完毕\r\n",
      "2023-01-14 00:26:58  \t模型加载完毕\r\n",
      "2023-01-14 00:26:58  \t准备训练切片模型\r\n",
      "2023-01-14 00:26:58  \t实验 1 模型 1 开始分片训练\r\n",
      "2023-01-14 00:27:12  Epoch 10 : MAE : 1.0568  RMSE : 2.1364  NMAE : 1.1440  MRE : 1.0000  NPRE : 9.3706\r\n",
      "2023-01-14 00:27:24  Epoch 20 : MAE : 1.0566  RMSE : 2.1622  NMAE : 1.1439  MRE : 1.0000  NPRE : 9.0938\r\n",
      "2023-01-14 00:27:37  Epoch 30 : MAE : 0.9931  RMSE : 2.1432  NMAE : 1.0751  MRE : 0.9568  NPRE : 7.5913\r\n",
      "2023-01-14 00:27:50  Epoch 40 : MAE : 1.0386  RMSE : 2.1504  NMAE : 1.1244  MRE : 0.9882  NPRE : 9.0298\r\n",
      "2023-01-14 00:28:03  Epoch 50 : MAE : 1.0478  RMSE : 2.1611  NMAE : 1.1344  MRE : 0.9663  NPRE : 8.7234\r\n",
      "2023-01-14 00:28:16  Epoch 60 : MAE : 1.1342  RMSE : 2.2181  NMAE : 1.2279  MRE : 1.0000  NPRE : 10.1475\r\n",
      "2023-01-14 00:28:28  Epoch 70 : MAE : 1.2331  RMSE : 2.3444  NMAE : 1.3350  MRE : 1.0000  NPRE : 11.6463\r\n",
      "2023-01-14 00:28:41  Epoch 80 : MAE : 1.1736  RMSE : 2.3313  NMAE : 1.2705  MRE : 0.9791  NPRE : 10.1675\r\n",
      "2023-01-14 00:28:41  Best epoch 38 : MAE : 0.9615  RMSE : 2.1240  NMAE : 1.0409  MRE : 0.9274  NPRE : 6.7560\r\n",
      "2023-01-14 00:28:41  实验 1 模型 1 training time = 4.17 s\r\n",
      "2023-01-14 00:28:41  Slice ID  1 : MAE = 0.9615, RMSE = 2.1240, NMAE = 1.0409, MRE = 0.9274, NPRE = 6.7560\r\n",
      "\r\n",
      "2023-01-14 00:28:42  \t实验 1 模型 2 开始分片训练\r\n",
      "2023-01-14 00:29:03  Epoch 10 : MAE : 0.7322  RMSE : 1.9444  NMAE : 0.7927  MRE : 0.6571  NPRE : 3.2958\r\n",
      "2023-01-14 00:29:25  Epoch 20 : MAE : 0.6904  RMSE : 1.7864  NMAE : 0.7474  MRE : 0.6302  NPRE : 2.8589\r\n",
      "2023-01-14 00:29:46  Epoch 30 : MAE : 0.6660  RMSE : 1.7355  NMAE : 0.7210  MRE : 0.6179  NPRE : 2.7470\r\n",
      "2023-01-14 00:30:07  Epoch 40 : MAE : 0.6778  RMSE : 1.7156  NMAE : 0.7337  MRE : 0.6587  NPRE : 3.1289\r\n",
      "2023-01-14 00:30:28  Epoch 50 : MAE : 0.6772  RMSE : 1.7042  NMAE : 0.7332  MRE : 0.6940  NPRE : 3.1127\r\n",
      "2023-01-14 00:30:49  Epoch 60 : MAE : 0.7145  RMSE : 1.7183  NMAE : 0.7735  MRE : 0.8055  NPRE : 3.7081\r\n",
      "2023-01-14 00:31:10  Epoch 70 : MAE : 0.7599  RMSE : 1.7366  NMAE : 0.8227  MRE : 0.9526  NPRE : 4.2693\r\n",
      "2023-01-14 00:31:31  Epoch 80 : MAE : 0.8141  RMSE : 1.7550  NMAE : 0.8813  MRE : 1.0000  NPRE : 5.0842\r\n",
      "2023-01-14 00:31:31  Best epoch 34 : MAE : 0.6652  RMSE : 1.7192  NMAE : 0.7201  MRE : 0.6383  NPRE : 2.8784\r\n",
      "2023-01-14 00:31:31  实验 1 模型 2 training time = 31.71 s\r\n",
      "2023-01-14 00:31:31  Slice ID  2 : MAE = 0.6652, RMSE = 1.7192, NMAE = 0.7201, MRE = 0.6383, NPRE = 2.8784\r\n",
      "\r\n",
      "2023-01-14 00:31:31  \t实验 1 模型 3 开始分片训练\r\n",
      "2023-01-14 00:32:03  Epoch 10 : MAE : 0.6426  RMSE : 1.7201  NMAE : 0.6956  MRE : 0.6226  NPRE : 2.5687\r\n",
      "2023-01-14 00:32:35  Epoch 20 : MAE : 0.6160  RMSE : 1.6574  NMAE : 0.6669  MRE : 0.5671  NPRE : 2.5655\r\n",
      "2023-01-14 00:33:07  Epoch 30 : MAE : 0.6143  RMSE : 1.6404  NMAE : 0.6650  MRE : 0.5564  NPRE : 2.8524\r\n",
      "2023-01-14 00:33:39  Epoch 40 : MAE : 0.6448  RMSE : 1.6594  NMAE : 0.6981  MRE : 0.6446  NPRE : 3.0819\r\n",
      "2023-01-14 00:34:10  Epoch 50 : MAE : 0.6837  RMSE : 1.6608  NMAE : 0.7401  MRE : 0.7824  NPRE : 3.6659\r\n",
      "2023-01-14 00:34:42  Epoch 60 : MAE : 0.7655  RMSE : 1.6994  NMAE : 0.8287  MRE : 0.9782  NPRE : 5.0181\r\n",
      "2023-01-14 00:35:13  Epoch 70 : MAE : 0.8296  RMSE : 1.7548  NMAE : 0.8981  MRE : 1.0000  NPRE : 5.6921\r\n",
      "2023-01-14 00:35:45  Epoch 80 : MAE : 0.8893  RMSE : 1.7988  NMAE : 0.9628  MRE : 1.0000  NPRE : 6.6143\r\n",
      "2023-01-14 00:35:45  Best epoch 30 : MAE : 0.6143  RMSE : 1.6404  NMAE : 0.6650  MRE : 0.5564  NPRE : 2.8524\r\n",
      "2023-01-14 00:35:45  实验 1 模型 3 training time = 59.56 s\r\n",
      "2023-01-14 00:35:45  Slice ID  3 : MAE = 0.6143, RMSE = 1.6404, NMAE = 0.6650, MRE = 0.5564, NPRE = 2.8524\r\n",
      "\r\n",
      "2023-01-14 00:35:45  \t实验 1 模型 4 开始分片训练\r\n",
      "2023-01-14 00:36:01  Epoch 10 : MAE : 0.7869  RMSE : 2.0692  NMAE : 0.8519  MRE : 0.7555  NPRE : 4.0084\r\n",
      "2023-01-14 00:36:16  Epoch 20 : MAE : 0.8154  RMSE : 1.9464  NMAE : 0.8828  MRE : 0.8166  NPRE : 4.7313\r\n",
      "2023-01-14 00:36:31  Epoch 30 : MAE : 0.8188  RMSE : 1.9071  NMAE : 0.8864  MRE : 0.8184  NPRE : 5.3503\r\n",
      "2023-01-14 00:36:46  Epoch 40 : MAE : 0.7792  RMSE : 1.8738  NMAE : 0.8435  MRE : 0.7720  NPRE : 4.6498\r\n",
      "2023-01-14 00:37:01  Epoch 50 : MAE : 0.7950  RMSE : 1.8654  NMAE : 0.8607  MRE : 0.8206  NPRE : 5.1763\r\n",
      "2023-01-14 00:37:16  Epoch 60 : MAE : 0.7828  RMSE : 1.8457  NMAE : 0.8474  MRE : 0.8226  NPRE : 4.8822\r\n",
      "2023-01-14 00:37:31  Epoch 70 : MAE : 0.7618  RMSE : 1.8541  NMAE : 0.8247  MRE : 0.7614  NPRE : 4.4043\r\n",
      "2023-01-14 00:37:46  Epoch 80 : MAE : 0.7490  RMSE : 1.8431  NMAE : 0.8109  MRE : 0.7570  NPRE : 3.9743\r\n",
      "2023-01-14 00:37:46  Best epoch 65 : MAE : 0.7455  RMSE : 1.8568  NMAE : 0.8070  MRE : 0.7206  NPRE : 3.7927\r\n",
      "2023-01-14 00:37:46  实验 1 模型 4 training time = 21.76 s\r\n",
      "2023-01-14 00:37:46  Slice ID  4 : MAE = 0.7455, RMSE = 1.8568, NMAE = 0.8070, MRE = 0.7206, NPRE = 3.7927\r\n",
      "\r\n",
      "2023-01-14 00:37:47  \t实验 1 模型 5 开始分片训练\r\n",
      "2023-01-14 00:38:08  Epoch 10 : MAE : 0.7543  RMSE : 1.9915  NMAE : 0.8166  MRE : 0.7003  NPRE : 3.3496\r\n",
      "2023-01-14 00:38:29  Epoch 20 : MAE : 0.7226  RMSE : 1.8551  NMAE : 0.7823  MRE : 0.6926  NPRE : 3.1128\r\n",
      "2023-01-14 00:38:49  Epoch 30 : MAE : 0.7043  RMSE : 1.8011  NMAE : 0.7624  MRE : 0.6951  NPRE : 3.2156\r\n",
      "2023-01-14 00:39:09  Epoch 40 : MAE : 0.7084  RMSE : 1.7739  NMAE : 0.7669  MRE : 0.7224  NPRE : 3.3709\r\n",
      "2023-01-14 00:39:29  Epoch 50 : MAE : 0.7086  RMSE : 1.7641  NMAE : 0.7671  MRE : 0.7423  NPRE : 3.4249\r\n",
      "2023-01-14 00:39:50  Epoch 60 : MAE : 0.7225  RMSE : 1.7724  NMAE : 0.7822  MRE : 0.8200  NPRE : 3.4834\r\n",
      "2023-01-14 00:40:10  Epoch 70 : MAE : 0.7731  RMSE : 1.7815  NMAE : 0.8369  MRE : 0.9539  NPRE : 4.4329\r\n",
      "2023-01-14 00:40:30  Epoch 80 : MAE : 0.8195  RMSE : 1.7923  NMAE : 0.8872  MRE : 1.0000  NPRE : 5.1422\r\n",
      "2023-01-14 00:40:30  Best epoch 31 : MAE : 0.6875  RMSE : 1.7978  NMAE : 0.7442  MRE : 0.6285  NPRE : 2.9733\r\n",
      "2023-01-14 00:40:30  实验 1 模型 5 training time = 26.69 s\r\n",
      "2023-01-14 00:40:30  Slice ID  5 : MAE = 0.6875, RMSE = 1.7978, NMAE = 0.7442, MRE = 0.6285, NPRE = 2.9733\r\n",
      "\r\n",
      "2023-01-14 00:40:31  \t实验 1 模型 6 开始分片训练\r\n",
      "2023-01-14 00:40:45  Epoch 10 : MAE : 0.9400  RMSE : 2.0764  NMAE : 1.0176  MRE : 0.9341  NPRE : 7.6045\r\n",
      "2023-01-14 00:40:58  Epoch 20 : MAE : 1.0352  RMSE : 2.0792  NMAE : 1.1207  MRE : 1.0000  NPRE : 9.1988\r\n",
      "2023-01-14 00:41:11  Epoch 30 : MAE : 1.1402  RMSE : 2.2416  NMAE : 1.2343  MRE : 0.9530  NPRE : 9.4384\r\n",
      "2023-01-14 00:41:25  Epoch 40 : MAE : 1.0831  RMSE : 2.1506  NMAE : 1.1725  MRE : 0.9709  NPRE : 9.0694\r\n",
      "2023-01-14 00:41:38  Epoch 50 : MAE : 1.0192  RMSE : 2.0907  NMAE : 1.1034  MRE : 0.9236  NPRE : 7.9009\r\n",
      "2023-01-14 00:41:52  Epoch 60 : MAE : 0.9833  RMSE : 2.0759  NMAE : 1.0645  MRE : 0.8862  NPRE : 7.2815\r\n",
      "2023-01-14 00:42:05  Epoch 70 : MAE : 1.0146  RMSE : 2.0990  NMAE : 1.0984  MRE : 0.9334  NPRE : 7.6857\r\n",
      "2023-01-14 00:42:19  Epoch 80 : MAE : 0.9248  RMSE : 1.9889  NMAE : 1.0012  MRE : 0.8974  NPRE : 6.8557\r\n",
      "2023-01-14 00:42:19  Best epoch  5 : MAE : 0.8426  RMSE : 2.0650  NMAE : 0.9122  MRE : 0.8775  NPRE : 5.7060\r\n",
      "2023-01-14 00:42:19  实验 1 模型 6 training time = 0.86 s\r\n",
      "2023-01-14 00:42:19  Slice ID  6 : MAE = 0.8426, RMSE = 2.0650, NMAE = 0.9122, MRE = 0.8775, NPRE = 5.7060\r\n",
      "\r\n",
      "2023-01-14 00:42:19  \t实验 1 模型 7 开始分片训练\r\n",
      "2023-01-14 00:42:32  Epoch 10 : MAE : 0.8531  RMSE : 2.1212  NMAE : 0.9236  MRE : 0.9418  NPRE : 3.8907\r\n",
      "2023-01-14 00:42:45  Epoch 20 : MAE : 0.9138  RMSE : 2.0811  NMAE : 0.9893  MRE : 0.9686  NPRE : 6.9148\r\n",
      "2023-01-14 00:42:57  Epoch 30 : MAE : 1.0943  RMSE : 2.1328  NMAE : 1.1847  MRE : 1.0000  NPRE : 10.6940\r\n",
      "2023-01-14 00:43:10  Epoch 40 : MAE : 1.2656  RMSE : 2.2756  NMAE : 1.3702  MRE : 1.3185  NPRE : 13.4116\r\n",
      "2023-01-14 00:43:22  Epoch 50 : MAE : 1.2377  RMSE : 2.2436  NMAE : 1.3399  MRE : 1.2733  NPRE : 13.0321\r\n",
      "2023-01-14 00:43:35  Epoch 60 : MAE : 1.2960  RMSE : 2.2870  NMAE : 1.4030  MRE : 1.3979  NPRE : 13.9451\r\n",
      "2023-01-14 00:43:47  Epoch 70 : MAE : 1.3573  RMSE : 2.4177  NMAE : 1.4694  MRE : 1.2700  NPRE : 14.7665\r\n",
      "2023-01-14 00:44:00  Epoch 80 : MAE : 1.2058  RMSE : 2.2425  NMAE : 1.3054  MRE : 1.1333  NPRE : 12.4964\r\n",
      "2023-01-14 00:44:00  Best epoch 11 : MAE : 0.8523  RMSE : 2.1197  NMAE : 0.9227  MRE : 0.9384  NPRE : 3.9588\r\n",
      "2023-01-14 00:44:00  实验 1 模型 7 training time = 0.86 s\r\n",
      "2023-01-14 00:44:00  Slice ID  7 : MAE = 0.8523, RMSE = 2.1197, NMAE = 0.9227, MRE = 0.9384, NPRE = 3.9588\r\n",
      "\r\n",
      "2023-01-14 00:44:00  \t实验 1 模型 8 开始分片训练\r\n",
      "2023-01-14 00:44:14  Epoch 10 : MAE : 0.8233  RMSE : 2.0895  NMAE : 0.8913  MRE : 0.8412  NPRE : 4.5791\r\n",
      "2023-01-14 00:44:27  Epoch 20 : MAE : 0.8837  RMSE : 2.0395  NMAE : 0.9566  MRE : 0.9014  NPRE : 6.4834\r\n",
      "2023-01-14 00:44:40  Epoch 30 : MAE : 0.9400  RMSE : 2.0390  NMAE : 1.0177  MRE : 0.9088  NPRE : 7.1396\r\n",
      "2023-01-14 00:44:54  Epoch 40 : MAE : 0.9990  RMSE : 2.0869  NMAE : 1.0815  MRE : 0.9306  NPRE : 8.1457\r\n",
      "2023-01-14 00:45:07  Epoch 50 : MAE : 0.8920  RMSE : 2.0119  NMAE : 0.9657  MRE : 0.8910  NPRE : 6.5102\r\n",
      "2023-01-14 00:45:20  Epoch 60 : MAE : 0.8922  RMSE : 2.0195  NMAE : 0.9658  MRE : 0.8724  NPRE : 6.5096\r\n",
      "2023-01-14 00:45:33  Epoch 70 : MAE : 0.8733  RMSE : 2.0017  NMAE : 0.9454  MRE : 0.8595  NPRE : 6.2366\r\n",
      "2023-01-14 00:45:47  Epoch 80 : MAE : 0.8525  RMSE : 1.9892  NMAE : 0.9228  MRE : 0.8329  NPRE : 5.8351\r\n",
      "2023-01-14 00:45:47  Best epoch  8 : MAE : 0.8156  RMSE : 2.0955  NMAE : 0.8829  MRE : 0.8088  NPRE : 4.3596\r\n",
      "2023-01-14 00:45:47  实验 1 模型 8 training time = 1.23 s\r\n",
      "2023-01-14 00:45:47  Slice ID  8 : MAE = 0.8156, RMSE = 2.0955, NMAE = 0.8829, MRE = 0.8088, NPRE = 4.3596\r\n",
      "\r\n",
      "2023-01-14 00:45:47  \t实验 1 模型 9 开始分片训练\r\n",
      "2023-01-14 00:46:02  Epoch 10 : MAE : 0.8392  RMSE : 2.0506  NMAE : 0.9086  MRE : 0.8849  NPRE : 5.8036\r\n",
      "2023-01-14 00:46:16  Epoch 20 : MAE : 0.8836  RMSE : 1.9997  NMAE : 0.9566  MRE : 0.9064  NPRE : 6.6221\r\n",
      "2023-01-14 00:46:31  Epoch 30 : MAE : 0.8845  RMSE : 2.0146  NMAE : 0.9575  MRE : 0.8822  NPRE : 6.2354\r\n",
      "2023-01-14 00:46:45  Epoch 40 : MAE : 0.8694  RMSE : 1.9755  NMAE : 0.9412  MRE : 0.8704  NPRE : 6.1156\r\n",
      "2023-01-14 00:46:59  Epoch 50 : MAE : 0.8702  RMSE : 1.9569  NMAE : 0.9420  MRE : 0.8898  NPRE : 6.4760\r\n",
      "2023-01-14 00:47:14  Epoch 60 : MAE : 0.9030  RMSE : 1.9785  NMAE : 0.9775  MRE : 0.9354  NPRE : 6.8680\r\n",
      "2023-01-14 00:47:28  Epoch 70 : MAE : 0.8783  RMSE : 1.9785  NMAE : 0.9509  MRE : 0.9045  NPRE : 6.1509\r\n",
      "2023-01-14 00:47:43  Epoch 80 : MAE : 0.8765  RMSE : 1.9497  NMAE : 0.9489  MRE : 0.9345  NPRE : 6.3251\r\n",
      "2023-01-14 00:47:43  Best epoch  3 : MAE : 0.8263  RMSE : 2.0788  NMAE : 0.8946  MRE : 0.8569  NPRE : 5.2487\r\n",
      "2023-01-14 00:47:43  实验 1 模型 9 training time = 0.79 s\r\n",
      "2023-01-14 00:47:43  Slice ID  9 : MAE = 0.8263, RMSE = 2.0788, NMAE = 0.8946, MRE = 0.8569, NPRE = 5.2487\r\n",
      "\r\n",
      "2023-01-14 00:47:43  \t实验 1 模型 10 开始分片训练\r\n",
      "2023-01-14 00:48:00  Epoch 10 : MAE : 0.8018  RMSE : 2.0456  NMAE : 0.8680  MRE : 0.8088  NPRE : 4.5480\r\n",
      "2023-01-14 00:48:18  Epoch 20 : MAE : 0.8046  RMSE : 1.9223  NMAE : 0.8710  MRE : 0.7988  NPRE : 5.0316\r\n",
      "2023-01-14 00:48:34  Epoch 30 : MAE : 0.8083  RMSE : 1.9015  NMAE : 0.8751  MRE : 0.8145  NPRE : 5.1669\r\n",
      "2023-01-14 00:48:52  Epoch 40 : MAE : 0.7739  RMSE : 1.8878  NMAE : 0.8379  MRE : 0.7760  NPRE : 4.1363\r\n",
      "2023-01-14 00:49:11  Epoch 50 : MAE : 0.7930  RMSE : 1.8660  NMAE : 0.8585  MRE : 0.8221  NPRE : 4.8478\r\n",
      "2023-01-14 00:49:29  Epoch 60 : MAE : 0.7683  RMSE : 1.8513  NMAE : 0.8317  MRE : 0.7893  NPRE : 4.4620\r\n",
      "2023-01-14 00:49:45  Epoch 70 : MAE : 0.7582  RMSE : 1.8501  NMAE : 0.8208  MRE : 0.7883  NPRE : 4.0834\r\n",
      "2023-01-14 00:50:03  Epoch 80 : MAE : 0.7691  RMSE : 1.8424  NMAE : 0.8326  MRE : 0.8225  NPRE : 4.4602\r\n",
      "2023-01-14 00:50:03  Best epoch 56 : MAE : 0.7464  RMSE : 1.8484  NMAE : 0.8081  MRE : 0.7455  NPRE : 3.9825\r\n",
      "2023-01-14 00:50:03  实验 1 模型 10 training time = 25.11 s\r\n",
      "2023-01-14 00:50:03  Slice ID  10 : MAE = 0.7464, RMSE = 1.8484, NMAE = 0.8081, MRE = 0.7455, NPRE = 3.9825\r\n",
      "\r\n",
      "2023-01-14 00:50:03  \t所有切片模型训练完毕\r\n",
      "2023-01-14 00:50:03  \t开始训练聚合模型\r\n",
      "2023-01-14 00:50:14  Epoch  1 : MAE : 0.5425  RMSE : 1.5408  NMAE : 0.5873  MRE : 0.4705  NPRE : 2.4827\r\n",
      "2023-01-14 00:50:25  Epoch  2 : MAE : 0.5129  RMSE : 1.4909  NMAE : 0.5553  MRE : 0.4489  NPRE : 2.4721\r\n",
      "2023-01-14 00:50:37  Epoch  3 : MAE : 0.4998  RMSE : 1.4674  NMAE : 0.5410  MRE : 0.4367  NPRE : 2.3966\r\n",
      "2023-01-14 00:50:48  Epoch  4 : MAE : 0.4946  RMSE : 1.4717  NMAE : 0.5354  MRE : 0.4323  NPRE : 2.1445\r\n",
      "2023-01-14 00:50:59  Epoch  5 : MAE : 0.4888  RMSE : 1.4451  NMAE : 0.5292  MRE : 0.4375  NPRE : 2.5458\r\n",
      "2023-01-14 00:50:59  \t实验 1 聚合模型训练完毕\r\n",
      "2023-01-14 00:51:15  Result : MAE : 0.4771  RMSE : 1.4031  NMAE : 0.5255  MRE : 0.4332  NPRE : 2.4801\r\n",
      "2023-01-14 00:51:15  \t实验 1 : Aggregators training time = 51.28 s\r\n",
      "\r\n",
      "2023-01-14 00:51:15  \t聚合模型训练完毕\r\n",
      "2023-01-14 00:51:15  Round 1 : MAE = 0.4771, RMSE = 1.4031, NMAE = 0.5255, MRE = 0.4332, NPRE = 2.4801\r\n",
      "\r\n",
      "------------------------------------------------------------------------------------------------------------------------\r\n",
      "2023-01-14 00:51:15  Dataset : rt     interaction : NeuCF\r\n",
      "2023-01-14 00:51:15  Density : 10.00%, slice_epochs : 80, agg_epochs : 5\r\n",
      "2023-01-14 00:51:15  Part_type : 4,    slices : 10,       devices : gpu\r\n",
      "\r\n",
      "\r\n",
      "2023-01-14 00:51:15  Density 10.00% : MAE = 0.477, RMSE = 1.403, NMAE = 0.526, MRE = 0.433, NPRE = 2.480\r\n",
      "\r\n",
      "2023-01-14 00:51:15  Experiment success!\r\n"
     ]
    }
   ],
   "source": [
    "!python Experiment.py --dataset rt --interaction NeuCF --rounds 1 --agg_epochs 5 --density 0.10 --part_type 4"
   ],
   "metadata": {
    "collapsed": false
   }
  },
  {
   "cell_type": "code",
   "execution_count": 8,
   "outputs": [
    {
     "name": "stdout",
     "output_type": "stream",
     "text": [
      "2023-01-14 00:51:16  Namespace(agg_epochs=5, agg_function=3, agg_type='softmax', balance=0, batch_size=128, beta=1, cluster='deep', cuda=True, dataset='rt', debug=0, density=0.1, devices='gpu', dimension=32, dir='../Dataset/mnist', dropout=0.1, epoch=1500, hidden_dims=[64, 64, 100], input_dim=128, interaction='NeuCF', kmeans_type=1, lamda=1, latent_dim=10, log_interval=100, lr=0.0001, n_classes=10, n_clusters=10, n_jobs=1, node2vec=0, node2vec_batchsize=32, node2vec_dim=128, node2vec_epochs=20, node2vec_length=8, node2vec_walk=15, node2vec_windows=3, num_layers=2, order=2, part_iter=50, part_type=5, path='./datasets/data/WSDREAM/', pre_epoch=1000, pretrain=True, processed=0, retrain=0, rounds=1, save_model=1, slice_epochs=80, slices=10, subagg=1, verbose=10, wd=0.0005)\r\n",
      "2023-01-14 00:51:16  Experiment start!\r\n",
      "2023-01-14 00:51:16  Dataset : rt     interaction : NeuCF\r\n",
      "2023-01-14 00:51:16  Density : 10.00%, slice_epochs : 80, agg_epochs : 5\r\n",
      "2023-01-14 00:51:16  Part_type : 5,    slices : 10,       devices : gpu\r\n",
      "\r\n",
      "2023-01-14 00:51:16  Round 1 experiment start!\r\n",
      "2023-01-14 00:51:16  \t原始数据集读取完毕\r\n",
      "2023-01-14 00:51:17  \t图嵌入均衡切割\r\n",
      "Computing transition probabilities: 100%|███| 507/507 [00:00<00:00, 3035.26it/s]\r\n",
      "Generating walks (CPU: 1): 100%|██████████████████| 4/4 [00:00<00:00, 84.86it/s]\r\n",
      "Generating walks (CPU: 2): 100%|██████████████████| 4/4 [00:00<00:00, 85.24it/s]\r\n",
      "Generating walks (CPU: 4): 100%|██████████████████| 3/3 [00:00<00:00, 85.85it/s]\r\n",
      "Generating walks (CPU: 3): 100%|██████████████████| 4/4 [00:00<00:00, 81.09it/s]\r\n",
      "========== Start pretraining ==========\r\n",
      "100%|██████████████████████████████████████| 1000/1000 [00:06<00:00, 159.22it/s]\r\n",
      "Exception ignored on calling ctypes callback function: <function _ThreadpoolInfo._find_modules_with_dl_iterate_phdr.<locals>.match_module_callback at 0x7f30d582d8b0>\r\n",
      "Traceback (most recent call last):\r\n",
      "  File \"/home/yxzeng/anaconda3/lib/python3.8/site-packages/threadpoolctl.py\", line 400, in match_module_callback\r\n",
      "    self._make_module_from_path(filepath)\r\n",
      "  File \"/home/yxzeng/anaconda3/lib/python3.8/site-packages/threadpoolctl.py\", line 515, in _make_module_from_path\r\n",
      "    module = module_class(filepath, prefix, user_api, internal_api)\r\n",
      "  File \"/home/yxzeng/anaconda3/lib/python3.8/site-packages/threadpoolctl.py\", line 606, in __init__\r\n",
      "    self.version = self.get_version()\r\n",
      "  File \"/home/yxzeng/anaconda3/lib/python3.8/site-packages/threadpoolctl.py\", line 646, in get_version\r\n",
      "    config = get_config().split()\r\n",
      "AttributeError: 'NoneType' object has no attribute 'split'\r\n",
      "Exception ignored on calling ctypes callback function: <function _ThreadpoolInfo._find_modules_with_dl_iterate_phdr.<locals>.match_module_callback at 0x7f30d582d8b0>\r\n",
      "Traceback (most recent call last):\r\n",
      "  File \"/home/yxzeng/anaconda3/lib/python3.8/site-packages/threadpoolctl.py\", line 400, in match_module_callback\r\n",
      "    self._make_module_from_path(filepath)\r\n",
      "  File \"/home/yxzeng/anaconda3/lib/python3.8/site-packages/threadpoolctl.py\", line 515, in _make_module_from_path\r\n",
      "    module = module_class(filepath, prefix, user_api, internal_api)\r\n",
      "  File \"/home/yxzeng/anaconda3/lib/python3.8/site-packages/threadpoolctl.py\", line 606, in __init__\r\n",
      "    self.version = self.get_version()\r\n",
      "  File \"/home/yxzeng/anaconda3/lib/python3.8/site-packages/threadpoolctl.py\", line 646, in get_version\r\n",
      "    config = get_config().split()\r\n",
      "AttributeError: 'NoneType' object has no attribute 'split'\r\n",
      "Exception ignored on calling ctypes callback function: <function _ThreadpoolInfo._find_modules_with_dl_iterate_phdr.<locals>.match_module_callback at 0x7f30d582d8b0>\r\n",
      "Traceback (most recent call last):\r\n",
      "  File \"/home/yxzeng/anaconda3/lib/python3.8/site-packages/threadpoolctl.py\", line 400, in match_module_callback\r\n",
      "    self._make_module_from_path(filepath)\r\n",
      "  File \"/home/yxzeng/anaconda3/lib/python3.8/site-packages/threadpoolctl.py\", line 515, in _make_module_from_path\r\n",
      "    module = module_class(filepath, prefix, user_api, internal_api)\r\n",
      "  File \"/home/yxzeng/anaconda3/lib/python3.8/site-packages/threadpoolctl.py\", line 606, in __init__\r\n",
      "    self.version = self.get_version()\r\n",
      "  File \"/home/yxzeng/anaconda3/lib/python3.8/site-packages/threadpoolctl.py\", line 646, in get_version\r\n",
      "    config = get_config().split()\r\n",
      "AttributeError: 'NoneType' object has no attribute 'split'\r\n",
      "Exception ignored on calling ctypes callback function: <function _ThreadpoolInfo._find_modules_with_dl_iterate_phdr.<locals>.match_module_callback at 0x7f30d582d8b0>\r\n",
      "Traceback (most recent call last):\r\n",
      "  File \"/home/yxzeng/anaconda3/lib/python3.8/site-packages/threadpoolctl.py\", line 400, in match_module_callback\r\n",
      "    self._make_module_from_path(filepath)\r\n",
      "  File \"/home/yxzeng/anaconda3/lib/python3.8/site-packages/threadpoolctl.py\", line 515, in _make_module_from_path\r\n",
      "    module = module_class(filepath, prefix, user_api, internal_api)\r\n",
      "  File \"/home/yxzeng/anaconda3/lib/python3.8/site-packages/threadpoolctl.py\", line 606, in __init__\r\n",
      "    self.version = self.get_version()\r\n",
      "  File \"/home/yxzeng/anaconda3/lib/python3.8/site-packages/threadpoolctl.py\", line 646, in get_version\r\n",
      "    config = get_config().split()\r\n",
      "AttributeError: 'NoneType' object has no attribute 'split'\r\n",
      "Exception ignored on calling ctypes callback function: <function _ThreadpoolInfo._find_modules_with_dl_iterate_phdr.<locals>.match_module_callback at 0x7f30d582d8b0>\r\n",
      "Traceback (most recent call last):\r\n",
      "  File \"/home/yxzeng/anaconda3/lib/python3.8/site-packages/threadpoolctl.py\", line 400, in match_module_callback\r\n",
      "    self._make_module_from_path(filepath)\r\n",
      "  File \"/home/yxzeng/anaconda3/lib/python3.8/site-packages/threadpoolctl.py\", line 515, in _make_module_from_path\r\n",
      "    module = module_class(filepath, prefix, user_api, internal_api)\r\n",
      "  File \"/home/yxzeng/anaconda3/lib/python3.8/site-packages/threadpoolctl.py\", line 606, in __init__\r\n",
      "    self.version = self.get_version()\r\n",
      "  File \"/home/yxzeng/anaconda3/lib/python3.8/site-packages/threadpoolctl.py\", line 646, in get_version\r\n",
      "    config = get_config().split()\r\n",
      "AttributeError: 'NoneType' object has no attribute 'split'\r\n",
      "Exception ignored on calling ctypes callback function: <function _ThreadpoolInfo._find_modules_with_dl_iterate_phdr.<locals>.match_module_callback at 0x7f30d582d8b0>\r\n",
      "Traceback (most recent call last):\r\n",
      "  File \"/home/yxzeng/anaconda3/lib/python3.8/site-packages/threadpoolctl.py\", line 400, in match_module_callback\r\n",
      "    self._make_module_from_path(filepath)\r\n",
      "  File \"/home/yxzeng/anaconda3/lib/python3.8/site-packages/threadpoolctl.py\", line 515, in _make_module_from_path\r\n",
      "    module = module_class(filepath, prefix, user_api, internal_api)\r\n",
      "  File \"/home/yxzeng/anaconda3/lib/python3.8/site-packages/threadpoolctl.py\", line 606, in __init__\r\n",
      "    self.version = self.get_version()\r\n",
      "  File \"/home/yxzeng/anaconda3/lib/python3.8/site-packages/threadpoolctl.py\", line 646, in get_version\r\n",
      "    config = get_config().split()\r\n",
      "AttributeError: 'NoneType' object has no attribute 'split'\r\n",
      "Exception ignored on calling ctypes callback function: <function _ThreadpoolInfo._find_modules_with_dl_iterate_phdr.<locals>.match_module_callback at 0x7f30d582d8b0>\r\n",
      "Traceback (most recent call last):\r\n",
      "  File \"/home/yxzeng/anaconda3/lib/python3.8/site-packages/threadpoolctl.py\", line 400, in match_module_callback\r\n",
      "    self._make_module_from_path(filepath)\r\n",
      "  File \"/home/yxzeng/anaconda3/lib/python3.8/site-packages/threadpoolctl.py\", line 515, in _make_module_from_path\r\n",
      "    module = module_class(filepath, prefix, user_api, internal_api)\r\n",
      "  File \"/home/yxzeng/anaconda3/lib/python3.8/site-packages/threadpoolctl.py\", line 606, in __init__\r\n",
      "    self.version = self.get_version()\r\n",
      "  File \"/home/yxzeng/anaconda3/lib/python3.8/site-packages/threadpoolctl.py\", line 646, in get_version\r\n",
      "    config = get_config().split()\r\n",
      "AttributeError: 'NoneType' object has no attribute 'split'\r\n",
      "Exception ignored on calling ctypes callback function: <function _ThreadpoolInfo._find_modules_with_dl_iterate_phdr.<locals>.match_module_callback at 0x7f30d582d8b0>\r\n",
      "Traceback (most recent call last):\r\n",
      "  File \"/home/yxzeng/anaconda3/lib/python3.8/site-packages/threadpoolctl.py\", line 400, in match_module_callback\r\n",
      "    self._make_module_from_path(filepath)\r\n",
      "  File \"/home/yxzeng/anaconda3/lib/python3.8/site-packages/threadpoolctl.py\", line 515, in _make_module_from_path\r\n",
      "    module = module_class(filepath, prefix, user_api, internal_api)\r\n",
      "  File \"/home/yxzeng/anaconda3/lib/python3.8/site-packages/threadpoolctl.py\", line 606, in __init__\r\n",
      "    self.version = self.get_version()\r\n",
      "  File \"/home/yxzeng/anaconda3/lib/python3.8/site-packages/threadpoolctl.py\", line 646, in get_version\r\n",
      "    config = get_config().split()\r\n",
      "AttributeError: 'NoneType' object has no attribute 'split'\r\n",
      "Exception ignored on calling ctypes callback function: <function _ThreadpoolInfo._find_modules_with_dl_iterate_phdr.<locals>.match_module_callback at 0x7f30d582d8b0>\r\n",
      "Traceback (most recent call last):\r\n",
      "  File \"/home/yxzeng/anaconda3/lib/python3.8/site-packages/threadpoolctl.py\", line 400, in match_module_callback\r\n",
      "    self._make_module_from_path(filepath)\r\n",
      "  File \"/home/yxzeng/anaconda3/lib/python3.8/site-packages/threadpoolctl.py\", line 515, in _make_module_from_path\r\n",
      "    module = module_class(filepath, prefix, user_api, internal_api)\r\n",
      "  File \"/home/yxzeng/anaconda3/lib/python3.8/site-packages/threadpoolctl.py\", line 606, in __init__\r\n",
      "    self.version = self.get_version()\r\n",
      "  File \"/home/yxzeng/anaconda3/lib/python3.8/site-packages/threadpoolctl.py\", line 646, in get_version\r\n",
      "    config = get_config().split()\r\n",
      "AttributeError: 'NoneType' object has no attribute 'split'\r\n",
      "Exception ignored on calling ctypes callback function: <function _ThreadpoolInfo._find_modules_with_dl_iterate_phdr.<locals>.match_module_callback at 0x7f30d582d8b0>\r\n",
      "Traceback (most recent call last):\r\n",
      "  File \"/home/yxzeng/anaconda3/lib/python3.8/site-packages/threadpoolctl.py\", line 400, in match_module_callback\r\n",
      "    self._make_module_from_path(filepath)\r\n",
      "  File \"/home/yxzeng/anaconda3/lib/python3.8/site-packages/threadpoolctl.py\", line 515, in _make_module_from_path\r\n",
      "    module = module_class(filepath, prefix, user_api, internal_api)\r\n",
      "  File \"/home/yxzeng/anaconda3/lib/python3.8/site-packages/threadpoolctl.py\", line 606, in __init__\r\n",
      "    self.version = self.get_version()\r\n",
      "  File \"/home/yxzeng/anaconda3/lib/python3.8/site-packages/threadpoolctl.py\", line 646, in get_version\r\n",
      "    config = get_config().split()\r\n",
      "AttributeError: 'NoneType' object has no attribute 'split'\r\n",
      "Exception ignored on calling ctypes callback function: <function _ThreadpoolInfo._find_modules_with_dl_iterate_phdr.<locals>.match_module_callback at 0x7f30d582d8b0>\r\n",
      "Traceback (most recent call last):\r\n",
      "  File \"/home/yxzeng/anaconda3/lib/python3.8/site-packages/threadpoolctl.py\", line 400, in match_module_callback\r\n",
      "    self._make_module_from_path(filepath)\r\n",
      "  File \"/home/yxzeng/anaconda3/lib/python3.8/site-packages/threadpoolctl.py\", line 515, in _make_module_from_path\r\n",
      "    module = module_class(filepath, prefix, user_api, internal_api)\r\n",
      "  File \"/home/yxzeng/anaconda3/lib/python3.8/site-packages/threadpoolctl.py\", line 606, in __init__\r\n",
      "    self.version = self.get_version()\r\n",
      "  File \"/home/yxzeng/anaconda3/lib/python3.8/site-packages/threadpoolctl.py\", line 646, in get_version\r\n",
      "    config = get_config().split()\r\n",
      "AttributeError: 'NoneType' object has no attribute 'split'\r\n",
      "Exception ignored on calling ctypes callback function: <function _ThreadpoolInfo._find_modules_with_dl_iterate_phdr.<locals>.match_module_callback at 0x7f30d582d8b0>\r\n",
      "Traceback (most recent call last):\r\n",
      "  File \"/home/yxzeng/anaconda3/lib/python3.8/site-packages/threadpoolctl.py\", line 400, in match_module_callback\r\n",
      "    self._make_module_from_path(filepath)\r\n",
      "  File \"/home/yxzeng/anaconda3/lib/python3.8/site-packages/threadpoolctl.py\", line 515, in _make_module_from_path\r\n",
      "    module = module_class(filepath, prefix, user_api, internal_api)\r\n",
      "  File \"/home/yxzeng/anaconda3/lib/python3.8/site-packages/threadpoolctl.py\", line 606, in __init__\r\n",
      "    self.version = self.get_version()\r\n",
      "  File \"/home/yxzeng/anaconda3/lib/python3.8/site-packages/threadpoolctl.py\", line 646, in get_version\r\n",
      "    config = get_config().split()\r\n",
      "AttributeError: 'NoneType' object has no attribute 'split'\r\n",
      "Exception ignored on calling ctypes callback function: <function _ThreadpoolInfo._find_modules_with_dl_iterate_phdr.<locals>.match_module_callback at 0x7f30d582d8b0>\r\n",
      "Traceback (most recent call last):\r\n",
      "  File \"/home/yxzeng/anaconda3/lib/python3.8/site-packages/threadpoolctl.py\", line 400, in match_module_callback\r\n",
      "    self._make_module_from_path(filepath)\r\n",
      "  File \"/home/yxzeng/anaconda3/lib/python3.8/site-packages/threadpoolctl.py\", line 515, in _make_module_from_path\r\n",
      "    module = module_class(filepath, prefix, user_api, internal_api)\r\n",
      "  File \"/home/yxzeng/anaconda3/lib/python3.8/site-packages/threadpoolctl.py\", line 606, in __init__\r\n",
      "    self.version = self.get_version()\r\n",
      "  File \"/home/yxzeng/anaconda3/lib/python3.8/site-packages/threadpoolctl.py\", line 646, in get_version\r\n",
      "    config = get_config().split()\r\n",
      "AttributeError: 'NoneType' object has no attribute 'split'\r\n",
      "Exception ignored on calling ctypes callback function: <function _ThreadpoolInfo._find_modules_with_dl_iterate_phdr.<locals>.match_module_callback at 0x7f30d582d8b0>\r\n",
      "Traceback (most recent call last):\r\n",
      "  File \"/home/yxzeng/anaconda3/lib/python3.8/site-packages/threadpoolctl.py\", line 400, in match_module_callback\r\n",
      "    self._make_module_from_path(filepath)\r\n",
      "  File \"/home/yxzeng/anaconda3/lib/python3.8/site-packages/threadpoolctl.py\", line 515, in _make_module_from_path\r\n",
      "    module = module_class(filepath, prefix, user_api, internal_api)\r\n",
      "  File \"/home/yxzeng/anaconda3/lib/python3.8/site-packages/threadpoolctl.py\", line 606, in __init__\r\n",
      "    self.version = self.get_version()\r\n",
      "  File \"/home/yxzeng/anaconda3/lib/python3.8/site-packages/threadpoolctl.py\", line 646, in get_version\r\n",
      "    config = get_config().split()\r\n",
      "AttributeError: 'NoneType' object has no attribute 'split'\r\n",
      "Exception ignored on calling ctypes callback function: <function _ThreadpoolInfo._find_modules_with_dl_iterate_phdr.<locals>.match_module_callback at 0x7f30d582d8b0>\r\n",
      "Traceback (most recent call last):\r\n",
      "  File \"/home/yxzeng/anaconda3/lib/python3.8/site-packages/threadpoolctl.py\", line 400, in match_module_callback\r\n",
      "    self._make_module_from_path(filepath)\r\n",
      "  File \"/home/yxzeng/anaconda3/lib/python3.8/site-packages/threadpoolctl.py\", line 515, in _make_module_from_path\r\n",
      "    module = module_class(filepath, prefix, user_api, internal_api)\r\n",
      "  File \"/home/yxzeng/anaconda3/lib/python3.8/site-packages/threadpoolctl.py\", line 606, in __init__\r\n",
      "    self.version = self.get_version()\r\n",
      "  File \"/home/yxzeng/anaconda3/lib/python3.8/site-packages/threadpoolctl.py\", line 646, in get_version\r\n",
      "    config = get_config().split()\r\n",
      "AttributeError: 'NoneType' object has no attribute 'split'\r\n",
      "Exception ignored on calling ctypes callback function: <function _ThreadpoolInfo._find_modules_with_dl_iterate_phdr.<locals>.match_module_callback at 0x7f30d582d8b0>\r\n",
      "Traceback (most recent call last):\r\n",
      "  File \"/home/yxzeng/anaconda3/lib/python3.8/site-packages/threadpoolctl.py\", line 400, in match_module_callback\r\n",
      "    self._make_module_from_path(filepath)\r\n",
      "  File \"/home/yxzeng/anaconda3/lib/python3.8/site-packages/threadpoolctl.py\", line 515, in _make_module_from_path\r\n",
      "    module = module_class(filepath, prefix, user_api, internal_api)\r\n",
      "  File \"/home/yxzeng/anaconda3/lib/python3.8/site-packages/threadpoolctl.py\", line 606, in __init__\r\n",
      "    self.version = self.get_version()\r\n",
      "  File \"/home/yxzeng/anaconda3/lib/python3.8/site-packages/threadpoolctl.py\", line 646, in get_version\r\n",
      "    config = get_config().split()\r\n",
      "AttributeError: 'NoneType' object has no attribute 'split'\r\n",
      "Exception ignored on calling ctypes callback function: <function _ThreadpoolInfo._find_modules_with_dl_iterate_phdr.<locals>.match_module_callback at 0x7f30d582d8b0>\r\n",
      "Traceback (most recent call last):\r\n",
      "  File \"/home/yxzeng/anaconda3/lib/python3.8/site-packages/threadpoolctl.py\", line 400, in match_module_callback\r\n",
      "    self._make_module_from_path(filepath)\r\n",
      "  File \"/home/yxzeng/anaconda3/lib/python3.8/site-packages/threadpoolctl.py\", line 515, in _make_module_from_path\r\n",
      "    module = module_class(filepath, prefix, user_api, internal_api)\r\n",
      "  File \"/home/yxzeng/anaconda3/lib/python3.8/site-packages/threadpoolctl.py\", line 606, in __init__\r\n",
      "    self.version = self.get_version()\r\n",
      "  File \"/home/yxzeng/anaconda3/lib/python3.8/site-packages/threadpoolctl.py\", line 646, in get_version\r\n",
      "    config = get_config().split()\r\n",
      "AttributeError: 'NoneType' object has no attribute 'split'\r\n",
      "Exception ignored on calling ctypes callback function: <function _ThreadpoolInfo._find_modules_with_dl_iterate_phdr.<locals>.match_module_callback at 0x7f30d582d8b0>\r\n",
      "Traceback (most recent call last):\r\n",
      "  File \"/home/yxzeng/anaconda3/lib/python3.8/site-packages/threadpoolctl.py\", line 400, in match_module_callback\r\n",
      "    self._make_module_from_path(filepath)\r\n",
      "  File \"/home/yxzeng/anaconda3/lib/python3.8/site-packages/threadpoolctl.py\", line 515, in _make_module_from_path\r\n",
      "    module = module_class(filepath, prefix, user_api, internal_api)\r\n",
      "  File \"/home/yxzeng/anaconda3/lib/python3.8/site-packages/threadpoolctl.py\", line 606, in __init__\r\n",
      "    self.version = self.get_version()\r\n",
      "  File \"/home/yxzeng/anaconda3/lib/python3.8/site-packages/threadpoolctl.py\", line 646, in get_version\r\n",
      "    config = get_config().split()\r\n",
      "AttributeError: 'NoneType' object has no attribute 'split'\r\n",
      "Exception ignored on calling ctypes callback function: <function _ThreadpoolInfo._find_modules_with_dl_iterate_phdr.<locals>.match_module_callback at 0x7f30d582d8b0>\r\n",
      "Traceback (most recent call last):\r\n",
      "  File \"/home/yxzeng/anaconda3/lib/python3.8/site-packages/threadpoolctl.py\", line 400, in match_module_callback\r\n",
      "    self._make_module_from_path(filepath)\r\n",
      "  File \"/home/yxzeng/anaconda3/lib/python3.8/site-packages/threadpoolctl.py\", line 515, in _make_module_from_path\r\n",
      "    module = module_class(filepath, prefix, user_api, internal_api)\r\n",
      "  File \"/home/yxzeng/anaconda3/lib/python3.8/site-packages/threadpoolctl.py\", line 606, in __init__\r\n",
      "    self.version = self.get_version()\r\n",
      "  File \"/home/yxzeng/anaconda3/lib/python3.8/site-packages/threadpoolctl.py\", line 646, in get_version\r\n",
      "    config = get_config().split()\r\n",
      "AttributeError: 'NoneType' object has no attribute 'split'\r\n",
      "Exception ignored on calling ctypes callback function: <function _ThreadpoolInfo._find_modules_with_dl_iterate_phdr.<locals>.match_module_callback at 0x7f30d582d8b0>\r\n",
      "Traceback (most recent call last):\r\n",
      "  File \"/home/yxzeng/anaconda3/lib/python3.8/site-packages/threadpoolctl.py\", line 400, in match_module_callback\r\n",
      "    self._make_module_from_path(filepath)\r\n",
      "  File \"/home/yxzeng/anaconda3/lib/python3.8/site-packages/threadpoolctl.py\", line 515, in _make_module_from_path\r\n",
      "    module = module_class(filepath, prefix, user_api, internal_api)\r\n",
      "  File \"/home/yxzeng/anaconda3/lib/python3.8/site-packages/threadpoolctl.py\", line 606, in __init__\r\n",
      "    self.version = self.get_version()\r\n",
      "  File \"/home/yxzeng/anaconda3/lib/python3.8/site-packages/threadpoolctl.py\", line 646, in get_version\r\n",
      "    config = get_config().split()\r\n",
      "AttributeError: 'NoneType' object has no attribute 'split'\r\n",
      "Exception ignored on calling ctypes callback function: <function _ThreadpoolInfo._find_modules_with_dl_iterate_phdr.<locals>.match_module_callback at 0x7f30d582d8b0>\r\n",
      "Traceback (most recent call last):\r\n",
      "  File \"/home/yxzeng/anaconda3/lib/python3.8/site-packages/threadpoolctl.py\", line 400, in match_module_callback\r\n",
      "    self._make_module_from_path(filepath)\r\n",
      "  File \"/home/yxzeng/anaconda3/lib/python3.8/site-packages/threadpoolctl.py\", line 515, in _make_module_from_path\r\n",
      "    module = module_class(filepath, prefix, user_api, internal_api)\r\n",
      "  File \"/home/yxzeng/anaconda3/lib/python3.8/site-packages/threadpoolctl.py\", line 606, in __init__\r\n",
      "    self.version = self.get_version()\r\n",
      "  File \"/home/yxzeng/anaconda3/lib/python3.8/site-packages/threadpoolctl.py\", line 646, in get_version\r\n",
      "    config = get_config().split()\r\n",
      "AttributeError: 'NoneType' object has no attribute 'split'\r\n",
      "100%|███████████████████████████████████████| 1500/1500 [02:01<00:00, 12.35it/s]\r\n",
      "========== End pretraining ==========\r\n",
      "--------------------------------------------------------------------------------\r\n",
      "Exception ignored on calling ctypes callback function: <function _ThreadpoolInfo._find_modules_with_dl_iterate_phdr.<locals>.match_module_callback at 0x7f3172b26b80>\r\n",
      "Traceback (most recent call last):\r\n",
      "  File \"/home/yxzeng/anaconda3/lib/python3.8/site-packages/threadpoolctl.py\", line 400, in match_module_callback\r\n",
      "    self._make_module_from_path(filepath)\r\n",
      "  File \"/home/yxzeng/anaconda3/lib/python3.8/site-packages/threadpoolctl.py\", line 515, in _make_module_from_path\r\n",
      "    module = module_class(filepath, prefix, user_api, internal_api)\r\n",
      "  File \"/home/yxzeng/anaconda3/lib/python3.8/site-packages/threadpoolctl.py\", line 606, in __init__\r\n",
      "    self.version = self.get_version()\r\n",
      "  File \"/home/yxzeng/anaconda3/lib/python3.8/site-packages/threadpoolctl.py\", line 646, in get_version\r\n",
      "    config = get_config().split()\r\n",
      "AttributeError: 'NoneType' object has no attribute 'split'\r\n",
      "Exception ignored on calling ctypes callback function: <function _ThreadpoolInfo._find_modules_with_dl_iterate_phdr.<locals>.match_module_callback at 0x7f3172b26b80>\r\n",
      "Traceback (most recent call last):\r\n",
      "  File \"/home/yxzeng/anaconda3/lib/python3.8/site-packages/threadpoolctl.py\", line 400, in match_module_callback\r\n",
      "    self._make_module_from_path(filepath)\r\n",
      "  File \"/home/yxzeng/anaconda3/lib/python3.8/site-packages/threadpoolctl.py\", line 515, in _make_module_from_path\r\n",
      "    module = module_class(filepath, prefix, user_api, internal_api)\r\n",
      "  File \"/home/yxzeng/anaconda3/lib/python3.8/site-packages/threadpoolctl.py\", line 606, in __init__\r\n",
      "    self.version = self.get_version()\r\n",
      "  File \"/home/yxzeng/anaconda3/lib/python3.8/site-packages/threadpoolctl.py\", line 646, in get_version\r\n",
      "    config = get_config().split()\r\n",
      "AttributeError: 'NoneType' object has no attribute 'split'\r\n",
      "Exception ignored on calling ctypes callback function: <function _ThreadpoolInfo._find_modules_with_dl_iterate_phdr.<locals>.match_module_callback at 0x7f3172b26b80>\r\n",
      "Traceback (most recent call last):\r\n",
      "  File \"/home/yxzeng/anaconda3/lib/python3.8/site-packages/threadpoolctl.py\", line 400, in match_module_callback\r\n",
      "    self._make_module_from_path(filepath)\r\n",
      "  File \"/home/yxzeng/anaconda3/lib/python3.8/site-packages/threadpoolctl.py\", line 515, in _make_module_from_path\r\n",
      "    module = module_class(filepath, prefix, user_api, internal_api)\r\n",
      "  File \"/home/yxzeng/anaconda3/lib/python3.8/site-packages/threadpoolctl.py\", line 606, in __init__\r\n",
      "    self.version = self.get_version()\r\n",
      "  File \"/home/yxzeng/anaconda3/lib/python3.8/site-packages/threadpoolctl.py\", line 646, in get_version\r\n",
      "    config = get_config().split()\r\n",
      "AttributeError: 'NoneType' object has no attribute 'split'\r\n",
      "Exception ignored on calling ctypes callback function: <function _ThreadpoolInfo._find_modules_with_dl_iterate_phdr.<locals>.match_module_callback at 0x7f3172b26b80>\r\n",
      "Traceback (most recent call last):\r\n",
      "  File \"/home/yxzeng/anaconda3/lib/python3.8/site-packages/threadpoolctl.py\", line 400, in match_module_callback\r\n",
      "    self._make_module_from_path(filepath)\r\n",
      "  File \"/home/yxzeng/anaconda3/lib/python3.8/site-packages/threadpoolctl.py\", line 515, in _make_module_from_path\r\n",
      "    module = module_class(filepath, prefix, user_api, internal_api)\r\n",
      "  File \"/home/yxzeng/anaconda3/lib/python3.8/site-packages/threadpoolctl.py\", line 606, in __init__\r\n",
      "    self.version = self.get_version()\r\n",
      "  File \"/home/yxzeng/anaconda3/lib/python3.8/site-packages/threadpoolctl.py\", line 646, in get_version\r\n",
      "    config = get_config().split()\r\n",
      "AttributeError: 'NoneType' object has no attribute 'split'\r\n",
      "Exception ignored on calling ctypes callback function: <function _ThreadpoolInfo._find_modules_with_dl_iterate_phdr.<locals>.match_module_callback at 0x7f3172b26b80>\r\n",
      "Traceback (most recent call last):\r\n",
      "  File \"/home/yxzeng/anaconda3/lib/python3.8/site-packages/threadpoolctl.py\", line 400, in match_module_callback\r\n",
      "    self._make_module_from_path(filepath)\r\n",
      "  File \"/home/yxzeng/anaconda3/lib/python3.8/site-packages/threadpoolctl.py\", line 515, in _make_module_from_path\r\n",
      "    module = module_class(filepath, prefix, user_api, internal_api)\r\n",
      "  File \"/home/yxzeng/anaconda3/lib/python3.8/site-packages/threadpoolctl.py\", line 606, in __init__\r\n",
      "    self.version = self.get_version()\r\n",
      "  File \"/home/yxzeng/anaconda3/lib/python3.8/site-packages/threadpoolctl.py\", line 646, in get_version\r\n",
      "    config = get_config().split()\r\n",
      "AttributeError: 'NoneType' object has no attribute 'split'\r\n",
      "Exception ignored on calling ctypes callback function: <function _ThreadpoolInfo._find_modules_with_dl_iterate_phdr.<locals>.match_module_callback at 0x7f3172b26b80>\r\n",
      "Traceback (most recent call last):\r\n",
      "  File \"/home/yxzeng/anaconda3/lib/python3.8/site-packages/threadpoolctl.py\", line 400, in match_module_callback\r\n",
      "    self._make_module_from_path(filepath)\r\n",
      "  File \"/home/yxzeng/anaconda3/lib/python3.8/site-packages/threadpoolctl.py\", line 515, in _make_module_from_path\r\n",
      "    module = module_class(filepath, prefix, user_api, internal_api)\r\n",
      "  File \"/home/yxzeng/anaconda3/lib/python3.8/site-packages/threadpoolctl.py\", line 606, in __init__\r\n",
      "    self.version = self.get_version()\r\n",
      "  File \"/home/yxzeng/anaconda3/lib/python3.8/site-packages/threadpoolctl.py\", line 646, in get_version\r\n",
      "    config = get_config().split()\r\n",
      "AttributeError: 'NoneType' object has no attribute 'split'\r\n",
      "Exception ignored on calling ctypes callback function: <function _ThreadpoolInfo._find_modules_with_dl_iterate_phdr.<locals>.match_module_callback at 0x7f3172b26b80>\r\n",
      "Traceback (most recent call last):\r\n",
      "  File \"/home/yxzeng/anaconda3/lib/python3.8/site-packages/threadpoolctl.py\", line 400, in match_module_callback\r\n",
      "    self._make_module_from_path(filepath)\r\n",
      "  File \"/home/yxzeng/anaconda3/lib/python3.8/site-packages/threadpoolctl.py\", line 515, in _make_module_from_path\r\n",
      "    module = module_class(filepath, prefix, user_api, internal_api)\r\n",
      "  File \"/home/yxzeng/anaconda3/lib/python3.8/site-packages/threadpoolctl.py\", line 606, in __init__\r\n",
      "    self.version = self.get_version()\r\n",
      "  File \"/home/yxzeng/anaconda3/lib/python3.8/site-packages/threadpoolctl.py\", line 646, in get_version\r\n",
      "    config = get_config().split()\r\n",
      "AttributeError: 'NoneType' object has no attribute 'split'\r\n",
      "Exception ignored on calling ctypes callback function: <function _ThreadpoolInfo._find_modules_with_dl_iterate_phdr.<locals>.match_module_callback at 0x7f3172b26b80>\r\n",
      "Traceback (most recent call last):\r\n",
      "  File \"/home/yxzeng/anaconda3/lib/python3.8/site-packages/threadpoolctl.py\", line 400, in match_module_callback\r\n",
      "    self._make_module_from_path(filepath)\r\n",
      "  File \"/home/yxzeng/anaconda3/lib/python3.8/site-packages/threadpoolctl.py\", line 515, in _make_module_from_path\r\n",
      "    module = module_class(filepath, prefix, user_api, internal_api)\r\n",
      "  File \"/home/yxzeng/anaconda3/lib/python3.8/site-packages/threadpoolctl.py\", line 606, in __init__\r\n",
      "    self.version = self.get_version()\r\n",
      "  File \"/home/yxzeng/anaconda3/lib/python3.8/site-packages/threadpoolctl.py\", line 646, in get_version\r\n",
      "    config = get_config().split()\r\n",
      "AttributeError: 'NoneType' object has no attribute 'split'\r\n",
      "Exception ignored on calling ctypes callback function: <function _ThreadpoolInfo._find_modules_with_dl_iterate_phdr.<locals>.match_module_callback at 0x7f3172b26b80>\r\n",
      "Traceback (most recent call last):\r\n",
      "  File \"/home/yxzeng/anaconda3/lib/python3.8/site-packages/threadpoolctl.py\", line 400, in match_module_callback\r\n",
      "    self._make_module_from_path(filepath)\r\n",
      "  File \"/home/yxzeng/anaconda3/lib/python3.8/site-packages/threadpoolctl.py\", line 515, in _make_module_from_path\r\n",
      "    module = module_class(filepath, prefix, user_api, internal_api)\r\n",
      "  File \"/home/yxzeng/anaconda3/lib/python3.8/site-packages/threadpoolctl.py\", line 606, in __init__\r\n",
      "    self.version = self.get_version()\r\n",
      "  File \"/home/yxzeng/anaconda3/lib/python3.8/site-packages/threadpoolctl.py\", line 646, in get_version\r\n",
      "    config = get_config().split()\r\n",
      "AttributeError: 'NoneType' object has no attribute 'split'\r\n",
      "Exception ignored on calling ctypes callback function: <function _ThreadpoolInfo._find_modules_with_dl_iterate_phdr.<locals>.match_module_callback at 0x7f3172b26b80>\r\n",
      "Traceback (most recent call last):\r\n",
      "  File \"/home/yxzeng/anaconda3/lib/python3.8/site-packages/threadpoolctl.py\", line 400, in match_module_callback\r\n",
      "    self._make_module_from_path(filepath)\r\n",
      "  File \"/home/yxzeng/anaconda3/lib/python3.8/site-packages/threadpoolctl.py\", line 515, in _make_module_from_path\r\n",
      "    module = module_class(filepath, prefix, user_api, internal_api)\r\n",
      "  File \"/home/yxzeng/anaconda3/lib/python3.8/site-packages/threadpoolctl.py\", line 606, in __init__\r\n",
      "    self.version = self.get_version()\r\n",
      "  File \"/home/yxzeng/anaconda3/lib/python3.8/site-packages/threadpoolctl.py\", line 646, in get_version\r\n",
      "    config = get_config().split()\r\n",
      "AttributeError: 'NoneType' object has no attribute 'split'\r\n",
      "Exception ignored on calling ctypes callback function: <function _ThreadpoolInfo._find_modules_with_dl_iterate_phdr.<locals>.match_module_callback at 0x7f3172b26b80>\r\n",
      "Traceback (most recent call last):\r\n",
      "  File \"/home/yxzeng/anaconda3/lib/python3.8/site-packages/threadpoolctl.py\", line 400, in match_module_callback\r\n",
      "    self._make_module_from_path(filepath)\r\n",
      "  File \"/home/yxzeng/anaconda3/lib/python3.8/site-packages/threadpoolctl.py\", line 515, in _make_module_from_path\r\n",
      "    module = module_class(filepath, prefix, user_api, internal_api)\r\n",
      "  File \"/home/yxzeng/anaconda3/lib/python3.8/site-packages/threadpoolctl.py\", line 606, in __init__\r\n",
      "    self.version = self.get_version()\r\n",
      "  File \"/home/yxzeng/anaconda3/lib/python3.8/site-packages/threadpoolctl.py\", line 646, in get_version\r\n",
      "    config = get_config().split()\r\n",
      "AttributeError: 'NoneType' object has no attribute 'split'\r\n",
      "Exception ignored on calling ctypes callback function: <function _ThreadpoolInfo._find_modules_with_dl_iterate_phdr.<locals>.match_module_callback at 0x7f3172b26b80>\r\n",
      "Traceback (most recent call last):\r\n",
      "  File \"/home/yxzeng/anaconda3/lib/python3.8/site-packages/threadpoolctl.py\", line 400, in match_module_callback\r\n",
      "    self._make_module_from_path(filepath)\r\n",
      "  File \"/home/yxzeng/anaconda3/lib/python3.8/site-packages/threadpoolctl.py\", line 515, in _make_module_from_path\r\n",
      "    module = module_class(filepath, prefix, user_api, internal_api)\r\n",
      "  File \"/home/yxzeng/anaconda3/lib/python3.8/site-packages/threadpoolctl.py\", line 606, in __init__\r\n",
      "    self.version = self.get_version()\r\n",
      "  File \"/home/yxzeng/anaconda3/lib/python3.8/site-packages/threadpoolctl.py\", line 646, in get_version\r\n",
      "    config = get_config().split()\r\n",
      "AttributeError: 'NoneType' object has no attribute 'split'\r\n",
      "Exception ignored on calling ctypes callback function: <function _ThreadpoolInfo._find_modules_with_dl_iterate_phdr.<locals>.match_module_callback at 0x7f3172b26b80>\r\n",
      "Traceback (most recent call last):\r\n",
      "  File \"/home/yxzeng/anaconda3/lib/python3.8/site-packages/threadpoolctl.py\", line 400, in match_module_callback\r\n",
      "    self._make_module_from_path(filepath)\r\n",
      "  File \"/home/yxzeng/anaconda3/lib/python3.8/site-packages/threadpoolctl.py\", line 515, in _make_module_from_path\r\n",
      "    module = module_class(filepath, prefix, user_api, internal_api)\r\n",
      "  File \"/home/yxzeng/anaconda3/lib/python3.8/site-packages/threadpoolctl.py\", line 606, in __init__\r\n",
      "    self.version = self.get_version()\r\n",
      "  File \"/home/yxzeng/anaconda3/lib/python3.8/site-packages/threadpoolctl.py\", line 646, in get_version\r\n",
      "    config = get_config().split()\r\n",
      "AttributeError: 'NoneType' object has no attribute 'split'\r\n",
      "Exception ignored on calling ctypes callback function: <function _ThreadpoolInfo._find_modules_with_dl_iterate_phdr.<locals>.match_module_callback at 0x7f3172b26b80>\r\n",
      "Traceback (most recent call last):\r\n",
      "  File \"/home/yxzeng/anaconda3/lib/python3.8/site-packages/threadpoolctl.py\", line 400, in match_module_callback\r\n",
      "    self._make_module_from_path(filepath)\r\n",
      "  File \"/home/yxzeng/anaconda3/lib/python3.8/site-packages/threadpoolctl.py\", line 515, in _make_module_from_path\r\n",
      "    module = module_class(filepath, prefix, user_api, internal_api)\r\n",
      "  File \"/home/yxzeng/anaconda3/lib/python3.8/site-packages/threadpoolctl.py\", line 606, in __init__\r\n",
      "    self.version = self.get_version()\r\n",
      "  File \"/home/yxzeng/anaconda3/lib/python3.8/site-packages/threadpoolctl.py\", line 646, in get_version\r\n",
      "    config = get_config().split()\r\n",
      "AttributeError: 'NoneType' object has no attribute 'split'\r\n",
      "Exception ignored on calling ctypes callback function: <function _ThreadpoolInfo._find_modules_with_dl_iterate_phdr.<locals>.match_module_callback at 0x7f3172b26b80>\r\n",
      "Traceback (most recent call last):\r\n",
      "  File \"/home/yxzeng/anaconda3/lib/python3.8/site-packages/threadpoolctl.py\", line 400, in match_module_callback\r\n",
      "    self._make_module_from_path(filepath)\r\n",
      "  File \"/home/yxzeng/anaconda3/lib/python3.8/site-packages/threadpoolctl.py\", line 515, in _make_module_from_path\r\n",
      "    module = module_class(filepath, prefix, user_api, internal_api)\r\n",
      "  File \"/home/yxzeng/anaconda3/lib/python3.8/site-packages/threadpoolctl.py\", line 606, in __init__\r\n",
      "    self.version = self.get_version()\r\n",
      "  File \"/home/yxzeng/anaconda3/lib/python3.8/site-packages/threadpoolctl.py\", line 646, in get_version\r\n",
      "    config = get_config().split()\r\n",
      "AttributeError: 'NoneType' object has no attribute 'split'\r\n",
      "Exception ignored on calling ctypes callback function: <function _ThreadpoolInfo._find_modules_with_dl_iterate_phdr.<locals>.match_module_callback at 0x7f3172b26b80>\r\n",
      "Traceback (most recent call last):\r\n",
      "  File \"/home/yxzeng/anaconda3/lib/python3.8/site-packages/threadpoolctl.py\", line 400, in match_module_callback\r\n",
      "    self._make_module_from_path(filepath)\r\n",
      "  File \"/home/yxzeng/anaconda3/lib/python3.8/site-packages/threadpoolctl.py\", line 515, in _make_module_from_path\r\n",
      "    module = module_class(filepath, prefix, user_api, internal_api)\r\n",
      "  File \"/home/yxzeng/anaconda3/lib/python3.8/site-packages/threadpoolctl.py\", line 606, in __init__\r\n",
      "    self.version = self.get_version()\r\n",
      "  File \"/home/yxzeng/anaconda3/lib/python3.8/site-packages/threadpoolctl.py\", line 646, in get_version\r\n",
      "    config = get_config().split()\r\n",
      "AttributeError: 'NoneType' object has no attribute 'split'\r\n",
      "Exception ignored on calling ctypes callback function: <function _ThreadpoolInfo._find_modules_with_dl_iterate_phdr.<locals>.match_module_callback at 0x7f3172b26b80>\r\n",
      "Traceback (most recent call last):\r\n",
      "  File \"/home/yxzeng/anaconda3/lib/python3.8/site-packages/threadpoolctl.py\", line 400, in match_module_callback\r\n",
      "    self._make_module_from_path(filepath)\r\n",
      "  File \"/home/yxzeng/anaconda3/lib/python3.8/site-packages/threadpoolctl.py\", line 515, in _make_module_from_path\r\n",
      "    module = module_class(filepath, prefix, user_api, internal_api)\r\n",
      "  File \"/home/yxzeng/anaconda3/lib/python3.8/site-packages/threadpoolctl.py\", line 606, in __init__\r\n",
      "    self.version = self.get_version()\r\n",
      "  File \"/home/yxzeng/anaconda3/lib/python3.8/site-packages/threadpoolctl.py\", line 646, in get_version\r\n",
      "    config = get_config().split()\r\n",
      "AttributeError: 'NoneType' object has no attribute 'split'\r\n",
      "Exception ignored on calling ctypes callback function: <function _ThreadpoolInfo._find_modules_with_dl_iterate_phdr.<locals>.match_module_callback at 0x7f3172b26b80>\r\n",
      "Traceback (most recent call last):\r\n",
      "  File \"/home/yxzeng/anaconda3/lib/python3.8/site-packages/threadpoolctl.py\", line 400, in match_module_callback\r\n",
      "    self._make_module_from_path(filepath)\r\n",
      "  File \"/home/yxzeng/anaconda3/lib/python3.8/site-packages/threadpoolctl.py\", line 515, in _make_module_from_path\r\n",
      "    module = module_class(filepath, prefix, user_api, internal_api)\r\n",
      "  File \"/home/yxzeng/anaconda3/lib/python3.8/site-packages/threadpoolctl.py\", line 606, in __init__\r\n",
      "    self.version = self.get_version()\r\n",
      "  File \"/home/yxzeng/anaconda3/lib/python3.8/site-packages/threadpoolctl.py\", line 646, in get_version\r\n",
      "    config = get_config().split()\r\n",
      "AttributeError: 'NoneType' object has no attribute 'split'\r\n",
      "Exception ignored on calling ctypes callback function: <function _ThreadpoolInfo._find_modules_with_dl_iterate_phdr.<locals>.match_module_callback at 0x7f3172b26b80>\r\n",
      "Traceback (most recent call last):\r\n",
      "  File \"/home/yxzeng/anaconda3/lib/python3.8/site-packages/threadpoolctl.py\", line 400, in match_module_callback\r\n",
      "    self._make_module_from_path(filepath)\r\n",
      "  File \"/home/yxzeng/anaconda3/lib/python3.8/site-packages/threadpoolctl.py\", line 515, in _make_module_from_path\r\n",
      "    module = module_class(filepath, prefix, user_api, internal_api)\r\n",
      "  File \"/home/yxzeng/anaconda3/lib/python3.8/site-packages/threadpoolctl.py\", line 606, in __init__\r\n",
      "    self.version = self.get_version()\r\n",
      "  File \"/home/yxzeng/anaconda3/lib/python3.8/site-packages/threadpoolctl.py\", line 646, in get_version\r\n",
      "    config = get_config().split()\r\n",
      "AttributeError: 'NoneType' object has no attribute 'split'\r\n",
      "Exception ignored on calling ctypes callback function: <function _ThreadpoolInfo._find_modules_with_dl_iterate_phdr.<locals>.match_module_callback at 0x7f3172b26b80>\r\n",
      "Traceback (most recent call last):\r\n",
      "  File \"/home/yxzeng/anaconda3/lib/python3.8/site-packages/threadpoolctl.py\", line 400, in match_module_callback\r\n",
      "    self._make_module_from_path(filepath)\r\n",
      "  File \"/home/yxzeng/anaconda3/lib/python3.8/site-packages/threadpoolctl.py\", line 515, in _make_module_from_path\r\n",
      "    module = module_class(filepath, prefix, user_api, internal_api)\r\n",
      "  File \"/home/yxzeng/anaconda3/lib/python3.8/site-packages/threadpoolctl.py\", line 606, in __init__\r\n",
      "    self.version = self.get_version()\r\n",
      "  File \"/home/yxzeng/anaconda3/lib/python3.8/site-packages/threadpoolctl.py\", line 646, in get_version\r\n",
      "    config = get_config().split()\r\n",
      "AttributeError: 'NoneType' object has no attribute 'split'\r\n",
      "Exception ignored on calling ctypes callback function: <function _ThreadpoolInfo._find_modules_with_dl_iterate_phdr.<locals>.match_module_callback at 0x7f3172b26b80>\r\n",
      "Traceback (most recent call last):\r\n",
      "  File \"/home/yxzeng/anaconda3/lib/python3.8/site-packages/threadpoolctl.py\", line 400, in match_module_callback\r\n",
      "    self._make_module_from_path(filepath)\r\n",
      "  File \"/home/yxzeng/anaconda3/lib/python3.8/site-packages/threadpoolctl.py\", line 515, in _make_module_from_path\r\n",
      "    module = module_class(filepath, prefix, user_api, internal_api)\r\n",
      "  File \"/home/yxzeng/anaconda3/lib/python3.8/site-packages/threadpoolctl.py\", line 606, in __init__\r\n",
      "    self.version = self.get_version()\r\n",
      "  File \"/home/yxzeng/anaconda3/lib/python3.8/site-packages/threadpoolctl.py\", line 646, in get_version\r\n",
      "    config = get_config().split()\r\n",
      "AttributeError: 'NoneType' object has no attribute 'split'\r\n",
      "Exception ignored on calling ctypes callback function: <function _ThreadpoolInfo._find_modules_with_dl_iterate_phdr.<locals>.match_module_callback at 0x7f3172b26b80>\r\n",
      "Traceback (most recent call last):\r\n",
      "  File \"/home/yxzeng/anaconda3/lib/python3.8/site-packages/threadpoolctl.py\", line 400, in match_module_callback\r\n",
      "    self._make_module_from_path(filepath)\r\n",
      "  File \"/home/yxzeng/anaconda3/lib/python3.8/site-packages/threadpoolctl.py\", line 515, in _make_module_from_path\r\n",
      "    module = module_class(filepath, prefix, user_api, internal_api)\r\n",
      "  File \"/home/yxzeng/anaconda3/lib/python3.8/site-packages/threadpoolctl.py\", line 606, in __init__\r\n",
      "    self.version = self.get_version()\r\n",
      "  File \"/home/yxzeng/anaconda3/lib/python3.8/site-packages/threadpoolctl.py\", line 646, in get_version\r\n",
      "    config = get_config().split()\r\n",
      "AttributeError: 'NoneType' object has no attribute 'split'\r\n",
      "Exception ignored on calling ctypes callback function: <function _ThreadpoolInfo._find_modules_with_dl_iterate_phdr.<locals>.match_module_callback at 0x7f3172b26b80>\r\n",
      "Traceback (most recent call last):\r\n",
      "  File \"/home/yxzeng/anaconda3/lib/python3.8/site-packages/threadpoolctl.py\", line 400, in match_module_callback\r\n",
      "    self._make_module_from_path(filepath)\r\n",
      "  File \"/home/yxzeng/anaconda3/lib/python3.8/site-packages/threadpoolctl.py\", line 515, in _make_module_from_path\r\n",
      "    module = module_class(filepath, prefix, user_api, internal_api)\r\n",
      "  File \"/home/yxzeng/anaconda3/lib/python3.8/site-packages/threadpoolctl.py\", line 606, in __init__\r\n",
      "    self.version = self.get_version()\r\n",
      "  File \"/home/yxzeng/anaconda3/lib/python3.8/site-packages/threadpoolctl.py\", line 646, in get_version\r\n",
      "    config = get_config().split()\r\n",
      "AttributeError: 'NoneType' object has no attribute 'split'\r\n",
      "Exception ignored on calling ctypes callback function: <function _ThreadpoolInfo._find_modules_with_dl_iterate_phdr.<locals>.match_module_callback at 0x7f3172b26b80>\r\n",
      "Traceback (most recent call last):\r\n",
      "  File \"/home/yxzeng/anaconda3/lib/python3.8/site-packages/threadpoolctl.py\", line 400, in match_module_callback\r\n",
      "    self._make_module_from_path(filepath)\r\n",
      "  File \"/home/yxzeng/anaconda3/lib/python3.8/site-packages/threadpoolctl.py\", line 515, in _make_module_from_path\r\n",
      "    module = module_class(filepath, prefix, user_api, internal_api)\r\n",
      "  File \"/home/yxzeng/anaconda3/lib/python3.8/site-packages/threadpoolctl.py\", line 606, in __init__\r\n",
      "    self.version = self.get_version()\r\n",
      "  File \"/home/yxzeng/anaconda3/lib/python3.8/site-packages/threadpoolctl.py\", line 646, in get_version\r\n",
      "    config = get_config().split()\r\n",
      "AttributeError: 'NoneType' object has no attribute 'split'\r\n",
      "Exception ignored on calling ctypes callback function: <function _ThreadpoolInfo._find_modules_with_dl_iterate_phdr.<locals>.match_module_callback at 0x7f3172b26b80>\r\n",
      "Traceback (most recent call last):\r\n",
      "  File \"/home/yxzeng/anaconda3/lib/python3.8/site-packages/threadpoolctl.py\", line 400, in match_module_callback\r\n",
      "    self._make_module_from_path(filepath)\r\n",
      "  File \"/home/yxzeng/anaconda3/lib/python3.8/site-packages/threadpoolctl.py\", line 515, in _make_module_from_path\r\n",
      "    module = module_class(filepath, prefix, user_api, internal_api)\r\n",
      "  File \"/home/yxzeng/anaconda3/lib/python3.8/site-packages/threadpoolctl.py\", line 606, in __init__\r\n",
      "    self.version = self.get_version()\r\n",
      "  File \"/home/yxzeng/anaconda3/lib/python3.8/site-packages/threadpoolctl.py\", line 646, in get_version\r\n",
      "    config = get_config().split()\r\n",
      "AttributeError: 'NoneType' object has no attribute 'split'\r\n",
      "Exception ignored on calling ctypes callback function: <function _ThreadpoolInfo._find_modules_with_dl_iterate_phdr.<locals>.match_module_callback at 0x7f3172b26b80>\r\n",
      "Traceback (most recent call last):\r\n",
      "  File \"/home/yxzeng/anaconda3/lib/python3.8/site-packages/threadpoolctl.py\", line 400, in match_module_callback\r\n",
      "    self._make_module_from_path(filepath)\r\n",
      "  File \"/home/yxzeng/anaconda3/lib/python3.8/site-packages/threadpoolctl.py\", line 515, in _make_module_from_path\r\n",
      "    module = module_class(filepath, prefix, user_api, internal_api)\r\n",
      "  File \"/home/yxzeng/anaconda3/lib/python3.8/site-packages/threadpoolctl.py\", line 606, in __init__\r\n",
      "    self.version = self.get_version()\r\n",
      "  File \"/home/yxzeng/anaconda3/lib/python3.8/site-packages/threadpoolctl.py\", line 646, in get_version\r\n",
      "    config = get_config().split()\r\n",
      "AttributeError: 'NoneType' object has no attribute 'split'\r\n",
      "Exception ignored on calling ctypes callback function: <function _ThreadpoolInfo._find_modules_with_dl_iterate_phdr.<locals>.match_module_callback at 0x7f3172b26b80>\r\n",
      "Traceback (most recent call last):\r\n",
      "  File \"/home/yxzeng/anaconda3/lib/python3.8/site-packages/threadpoolctl.py\", line 400, in match_module_callback\r\n",
      "    self._make_module_from_path(filepath)\r\n",
      "  File \"/home/yxzeng/anaconda3/lib/python3.8/site-packages/threadpoolctl.py\", line 515, in _make_module_from_path\r\n",
      "    module = module_class(filepath, prefix, user_api, internal_api)\r\n",
      "  File \"/home/yxzeng/anaconda3/lib/python3.8/site-packages/threadpoolctl.py\", line 606, in __init__\r\n",
      "    self.version = self.get_version()\r\n",
      "  File \"/home/yxzeng/anaconda3/lib/python3.8/site-packages/threadpoolctl.py\", line 646, in get_version\r\n",
      "    config = get_config().split()\r\n",
      "AttributeError: 'NoneType' object has no attribute 'split'\r\n",
      "Exception ignored on calling ctypes callback function: <function _ThreadpoolInfo._find_modules_with_dl_iterate_phdr.<locals>.match_module_callback at 0x7f3172b26b80>\r\n",
      "Traceback (most recent call last):\r\n",
      "  File \"/home/yxzeng/anaconda3/lib/python3.8/site-packages/threadpoolctl.py\", line 400, in match_module_callback\r\n",
      "    self._make_module_from_path(filepath)\r\n",
      "  File \"/home/yxzeng/anaconda3/lib/python3.8/site-packages/threadpoolctl.py\", line 515, in _make_module_from_path\r\n",
      "    module = module_class(filepath, prefix, user_api, internal_api)\r\n",
      "  File \"/home/yxzeng/anaconda3/lib/python3.8/site-packages/threadpoolctl.py\", line 606, in __init__\r\n",
      "    self.version = self.get_version()\r\n",
      "  File \"/home/yxzeng/anaconda3/lib/python3.8/site-packages/threadpoolctl.py\", line 646, in get_version\r\n",
      "    config = get_config().split()\r\n",
      "AttributeError: 'NoneType' object has no attribute 'split'\r\n",
      "Exception ignored on calling ctypes callback function: <function _ThreadpoolInfo._find_modules_with_dl_iterate_phdr.<locals>.match_module_callback at 0x7f3172b26b80>\r\n",
      "Traceback (most recent call last):\r\n",
      "  File \"/home/yxzeng/anaconda3/lib/python3.8/site-packages/threadpoolctl.py\", line 400, in match_module_callback\r\n",
      "    self._make_module_from_path(filepath)\r\n",
      "  File \"/home/yxzeng/anaconda3/lib/python3.8/site-packages/threadpoolctl.py\", line 515, in _make_module_from_path\r\n",
      "    module = module_class(filepath, prefix, user_api, internal_api)\r\n",
      "  File \"/home/yxzeng/anaconda3/lib/python3.8/site-packages/threadpoolctl.py\", line 606, in __init__\r\n",
      "    self.version = self.get_version()\r\n",
      "  File \"/home/yxzeng/anaconda3/lib/python3.8/site-packages/threadpoolctl.py\", line 646, in get_version\r\n",
      "    config = get_config().split()\r\n",
      "AttributeError: 'NoneType' object has no attribute 'split'\r\n",
      "Exception ignored on calling ctypes callback function: <function _ThreadpoolInfo._find_modules_with_dl_iterate_phdr.<locals>.match_module_callback at 0x7f3172b26b80>\r\n",
      "Traceback (most recent call last):\r\n",
      "  File \"/home/yxzeng/anaconda3/lib/python3.8/site-packages/threadpoolctl.py\", line 400, in match_module_callback\r\n",
      "    self._make_module_from_path(filepath)\r\n",
      "  File \"/home/yxzeng/anaconda3/lib/python3.8/site-packages/threadpoolctl.py\", line 515, in _make_module_from_path\r\n",
      "    module = module_class(filepath, prefix, user_api, internal_api)\r\n",
      "  File \"/home/yxzeng/anaconda3/lib/python3.8/site-packages/threadpoolctl.py\", line 606, in __init__\r\n",
      "    self.version = self.get_version()\r\n",
      "  File \"/home/yxzeng/anaconda3/lib/python3.8/site-packages/threadpoolctl.py\", line 646, in get_version\r\n",
      "    config = get_config().split()\r\n",
      "AttributeError: 'NoneType' object has no attribute 'split'\r\n",
      "Exception ignored on calling ctypes callback function: <function _ThreadpoolInfo._find_modules_with_dl_iterate_phdr.<locals>.match_module_callback at 0x7f3172b26b80>\r\n",
      "Traceback (most recent call last):\r\n",
      "  File \"/home/yxzeng/anaconda3/lib/python3.8/site-packages/threadpoolctl.py\", line 400, in match_module_callback\r\n",
      "    self._make_module_from_path(filepath)\r\n",
      "  File \"/home/yxzeng/anaconda3/lib/python3.8/site-packages/threadpoolctl.py\", line 515, in _make_module_from_path\r\n",
      "    module = module_class(filepath, prefix, user_api, internal_api)\r\n",
      "  File \"/home/yxzeng/anaconda3/lib/python3.8/site-packages/threadpoolctl.py\", line 606, in __init__\r\n",
      "    self.version = self.get_version()\r\n",
      "  File \"/home/yxzeng/anaconda3/lib/python3.8/site-packages/threadpoolctl.py\", line 646, in get_version\r\n",
      "    config = get_config().split()\r\n",
      "AttributeError: 'NoneType' object has no attribute 'split'\r\n",
      "Exception ignored on calling ctypes callback function: <function _ThreadpoolInfo._find_modules_with_dl_iterate_phdr.<locals>.match_module_callback at 0x7f3172b26b80>\r\n",
      "Traceback (most recent call last):\r\n",
      "  File \"/home/yxzeng/anaconda3/lib/python3.8/site-packages/threadpoolctl.py\", line 400, in match_module_callback\r\n",
      "    self._make_module_from_path(filepath)\r\n",
      "  File \"/home/yxzeng/anaconda3/lib/python3.8/site-packages/threadpoolctl.py\", line 515, in _make_module_from_path\r\n",
      "    module = module_class(filepath, prefix, user_api, internal_api)\r\n",
      "  File \"/home/yxzeng/anaconda3/lib/python3.8/site-packages/threadpoolctl.py\", line 606, in __init__\r\n",
      "    self.version = self.get_version()\r\n",
      "  File \"/home/yxzeng/anaconda3/lib/python3.8/site-packages/threadpoolctl.py\", line 646, in get_version\r\n",
      "    config = get_config().split()\r\n",
      "AttributeError: 'NoneType' object has no attribute 'split'\r\n",
      "Exception ignored on calling ctypes callback function: <function _ThreadpoolInfo._find_modules_with_dl_iterate_phdr.<locals>.match_module_callback at 0x7f3172b26b80>\r\n",
      "Traceback (most recent call last):\r\n",
      "  File \"/home/yxzeng/anaconda3/lib/python3.8/site-packages/threadpoolctl.py\", line 400, in match_module_callback\r\n",
      "    self._make_module_from_path(filepath)\r\n",
      "  File \"/home/yxzeng/anaconda3/lib/python3.8/site-packages/threadpoolctl.py\", line 515, in _make_module_from_path\r\n",
      "    module = module_class(filepath, prefix, user_api, internal_api)\r\n",
      "  File \"/home/yxzeng/anaconda3/lib/python3.8/site-packages/threadpoolctl.py\", line 606, in __init__\r\n",
      "    self.version = self.get_version()\r\n",
      "  File \"/home/yxzeng/anaconda3/lib/python3.8/site-packages/threadpoolctl.py\", line 646, in get_version\r\n",
      "    config = get_config().split()\r\n",
      "AttributeError: 'NoneType' object has no attribute 'split'\r\n",
      "Exception ignored on calling ctypes callback function: <function _ThreadpoolInfo._find_modules_with_dl_iterate_phdr.<locals>.match_module_callback at 0x7f3172b26b80>\r\n",
      "Traceback (most recent call last):\r\n",
      "  File \"/home/yxzeng/anaconda3/lib/python3.8/site-packages/threadpoolctl.py\", line 400, in match_module_callback\r\n",
      "    self._make_module_from_path(filepath)\r\n",
      "  File \"/home/yxzeng/anaconda3/lib/python3.8/site-packages/threadpoolctl.py\", line 515, in _make_module_from_path\r\n",
      "    module = module_class(filepath, prefix, user_api, internal_api)\r\n",
      "  File \"/home/yxzeng/anaconda3/lib/python3.8/site-packages/threadpoolctl.py\", line 606, in __init__\r\n",
      "    self.version = self.get_version()\r\n",
      "  File \"/home/yxzeng/anaconda3/lib/python3.8/site-packages/threadpoolctl.py\", line 646, in get_version\r\n",
      "    config = get_config().split()\r\n",
      "AttributeError: 'NoneType' object has no attribute 'split'\r\n",
      "Exception ignored on calling ctypes callback function: <function _ThreadpoolInfo._find_modules_with_dl_iterate_phdr.<locals>.match_module_callback at 0x7f3172b26b80>\r\n",
      "Traceback (most recent call last):\r\n",
      "  File \"/home/yxzeng/anaconda3/lib/python3.8/site-packages/threadpoolctl.py\", line 400, in match_module_callback\r\n",
      "    self._make_module_from_path(filepath)\r\n",
      "  File \"/home/yxzeng/anaconda3/lib/python3.8/site-packages/threadpoolctl.py\", line 515, in _make_module_from_path\r\n",
      "    module = module_class(filepath, prefix, user_api, internal_api)\r\n",
      "  File \"/home/yxzeng/anaconda3/lib/python3.8/site-packages/threadpoolctl.py\", line 606, in __init__\r\n",
      "    self.version = self.get_version()\r\n",
      "  File \"/home/yxzeng/anaconda3/lib/python3.8/site-packages/threadpoolctl.py\", line 646, in get_version\r\n",
      "    config = get_config().split()\r\n",
      "AttributeError: 'NoneType' object has no attribute 'split'\r\n",
      "Exception ignored on calling ctypes callback function: <function _ThreadpoolInfo._find_modules_with_dl_iterate_phdr.<locals>.match_module_callback at 0x7f3172b26b80>\r\n",
      "Traceback (most recent call last):\r\n",
      "  File \"/home/yxzeng/anaconda3/lib/python3.8/site-packages/threadpoolctl.py\", line 400, in match_module_callback\r\n",
      "    self._make_module_from_path(filepath)\r\n",
      "  File \"/home/yxzeng/anaconda3/lib/python3.8/site-packages/threadpoolctl.py\", line 515, in _make_module_from_path\r\n",
      "    module = module_class(filepath, prefix, user_api, internal_api)\r\n",
      "  File \"/home/yxzeng/anaconda3/lib/python3.8/site-packages/threadpoolctl.py\", line 606, in __init__\r\n",
      "    self.version = self.get_version()\r\n",
      "  File \"/home/yxzeng/anaconda3/lib/python3.8/site-packages/threadpoolctl.py\", line 646, in get_version\r\n",
      "    config = get_config().split()\r\n",
      "AttributeError: 'NoneType' object has no attribute 'split'\r\n",
      "Exception ignored on calling ctypes callback function: <function _ThreadpoolInfo._find_modules_with_dl_iterate_phdr.<locals>.match_module_callback at 0x7f3172b26b80>\r\n",
      "Traceback (most recent call last):\r\n",
      "  File \"/home/yxzeng/anaconda3/lib/python3.8/site-packages/threadpoolctl.py\", line 400, in match_module_callback\r\n",
      "    self._make_module_from_path(filepath)\r\n",
      "  File \"/home/yxzeng/anaconda3/lib/python3.8/site-packages/threadpoolctl.py\", line 515, in _make_module_from_path\r\n",
      "    module = module_class(filepath, prefix, user_api, internal_api)\r\n",
      "  File \"/home/yxzeng/anaconda3/lib/python3.8/site-packages/threadpoolctl.py\", line 606, in __init__\r\n",
      "    self.version = self.get_version()\r\n",
      "  File \"/home/yxzeng/anaconda3/lib/python3.8/site-packages/threadpoolctl.py\", line 646, in get_version\r\n",
      "    config = get_config().split()\r\n",
      "AttributeError: 'NoneType' object has no attribute 'split'\r\n",
      "Exception ignored on calling ctypes callback function: <function _ThreadpoolInfo._find_modules_with_dl_iterate_phdr.<locals>.match_module_callback at 0x7f3172b26b80>\r\n",
      "Traceback (most recent call last):\r\n",
      "  File \"/home/yxzeng/anaconda3/lib/python3.8/site-packages/threadpoolctl.py\", line 400, in match_module_callback\r\n",
      "    self._make_module_from_path(filepath)\r\n",
      "  File \"/home/yxzeng/anaconda3/lib/python3.8/site-packages/threadpoolctl.py\", line 515, in _make_module_from_path\r\n",
      "    module = module_class(filepath, prefix, user_api, internal_api)\r\n",
      "  File \"/home/yxzeng/anaconda3/lib/python3.8/site-packages/threadpoolctl.py\", line 606, in __init__\r\n",
      "    self.version = self.get_version()\r\n",
      "  File \"/home/yxzeng/anaconda3/lib/python3.8/site-packages/threadpoolctl.py\", line 646, in get_version\r\n",
      "    config = get_config().split()\r\n",
      "AttributeError: 'NoneType' object has no attribute 'split'\r\n",
      "Exception ignored on calling ctypes callback function: <function _ThreadpoolInfo._find_modules_with_dl_iterate_phdr.<locals>.match_module_callback at 0x7f3172b26b80>\r\n",
      "Traceback (most recent call last):\r\n",
      "  File \"/home/yxzeng/anaconda3/lib/python3.8/site-packages/threadpoolctl.py\", line 400, in match_module_callback\r\n",
      "    self._make_module_from_path(filepath)\r\n",
      "  File \"/home/yxzeng/anaconda3/lib/python3.8/site-packages/threadpoolctl.py\", line 515, in _make_module_from_path\r\n",
      "    module = module_class(filepath, prefix, user_api, internal_api)\r\n",
      "  File \"/home/yxzeng/anaconda3/lib/python3.8/site-packages/threadpoolctl.py\", line 606, in __init__\r\n",
      "    self.version = self.get_version()\r\n",
      "  File \"/home/yxzeng/anaconda3/lib/python3.8/site-packages/threadpoolctl.py\", line 646, in get_version\r\n",
      "    config = get_config().split()\r\n",
      "AttributeError: 'NoneType' object has no attribute 'split'\r\n",
      "Exception ignored on calling ctypes callback function: <function _ThreadpoolInfo._find_modules_with_dl_iterate_phdr.<locals>.match_module_callback at 0x7f3172b26b80>\r\n",
      "Traceback (most recent call last):\r\n",
      "  File \"/home/yxzeng/anaconda3/lib/python3.8/site-packages/threadpoolctl.py\", line 400, in match_module_callback\r\n",
      "    self._make_module_from_path(filepath)\r\n",
      "  File \"/home/yxzeng/anaconda3/lib/python3.8/site-packages/threadpoolctl.py\", line 515, in _make_module_from_path\r\n",
      "    module = module_class(filepath, prefix, user_api, internal_api)\r\n",
      "  File \"/home/yxzeng/anaconda3/lib/python3.8/site-packages/threadpoolctl.py\", line 606, in __init__\r\n",
      "    self.version = self.get_version()\r\n",
      "  File \"/home/yxzeng/anaconda3/lib/python3.8/site-packages/threadpoolctl.py\", line 646, in get_version\r\n",
      "    config = get_config().split()\r\n",
      "AttributeError: 'NoneType' object has no attribute 'split'\r\n",
      "Exception ignored on calling ctypes callback function: <function _ThreadpoolInfo._find_modules_with_dl_iterate_phdr.<locals>.match_module_callback at 0x7f3172b26b80>\r\n",
      "Traceback (most recent call last):\r\n",
      "  File \"/home/yxzeng/anaconda3/lib/python3.8/site-packages/threadpoolctl.py\", line 400, in match_module_callback\r\n",
      "    self._make_module_from_path(filepath)\r\n",
      "  File \"/home/yxzeng/anaconda3/lib/python3.8/site-packages/threadpoolctl.py\", line 515, in _make_module_from_path\r\n",
      "    module = module_class(filepath, prefix, user_api, internal_api)\r\n",
      "  File \"/home/yxzeng/anaconda3/lib/python3.8/site-packages/threadpoolctl.py\", line 606, in __init__\r\n",
      "    self.version = self.get_version()\r\n",
      "  File \"/home/yxzeng/anaconda3/lib/python3.8/site-packages/threadpoolctl.py\", line 646, in get_version\r\n",
      "    config = get_config().split()\r\n",
      "AttributeError: 'NoneType' object has no attribute 'split'\r\n",
      "Exception ignored on calling ctypes callback function: <function _ThreadpoolInfo._find_modules_with_dl_iterate_phdr.<locals>.match_module_callback at 0x7f3172b26b80>\r\n",
      "Traceback (most recent call last):\r\n",
      "  File \"/home/yxzeng/anaconda3/lib/python3.8/site-packages/threadpoolctl.py\", line 400, in match_module_callback\r\n",
      "    self._make_module_from_path(filepath)\r\n",
      "  File \"/home/yxzeng/anaconda3/lib/python3.8/site-packages/threadpoolctl.py\", line 515, in _make_module_from_path\r\n",
      "    module = module_class(filepath, prefix, user_api, internal_api)\r\n",
      "  File \"/home/yxzeng/anaconda3/lib/python3.8/site-packages/threadpoolctl.py\", line 606, in __init__\r\n",
      "    self.version = self.get_version()\r\n",
      "  File \"/home/yxzeng/anaconda3/lib/python3.8/site-packages/threadpoolctl.py\", line 646, in get_version\r\n",
      "    config = get_config().split()\r\n",
      "AttributeError: 'NoneType' object has no attribute 'split'\r\n",
      "2023-01-14 00:53:31  \tbalance操作结束！\r\n",
      "2023-01-14 00:53:31  \tNode2Vec 基于用户聚类均衡切割完毕\r\n",
      "2023-01-14 00:53:31  \t分切数据执行完毕\r\n",
      "2023-01-14 00:53:31  \t模型加载完毕\r\n",
      "2023-01-14 00:53:31  \t准备训练切片模型\r\n",
      "2023-01-14 00:53:32  \t实验 1 模型 1 开始分片训练\r\n",
      "2023-01-14 00:53:49  Epoch 10 : MAE : 0.8779  RMSE : 1.9474  NMAE : 0.9847  MRE : 0.9024  NPRE : 6.8025\r\n",
      "2023-01-14 00:54:06  Epoch 20 : MAE : 0.8575  RMSE : 1.9159  NMAE : 0.9618  MRE : 0.8364  NPRE : 5.8076\r\n",
      "2023-01-14 00:54:22  Epoch 30 : MAE : 0.9342  RMSE : 1.9818  NMAE : 1.0478  MRE : 0.9150  NPRE : 6.9033\r\n",
      "2023-01-14 00:54:39  Epoch 40 : MAE : 0.8523  RMSE : 1.8865  NMAE : 0.9560  MRE : 0.8327  NPRE : 5.7767\r\n",
      "2023-01-14 00:54:56  Epoch 50 : MAE : 0.8697  RMSE : 1.9210  NMAE : 0.9754  MRE : 0.8354  NPRE : 5.7032\r\n",
      "2023-01-14 00:55:13  Epoch 60 : MAE : 0.8789  RMSE : 1.9162  NMAE : 0.9858  MRE : 0.8867  NPRE : 6.0457\r\n",
      "2023-01-14 00:55:29  Epoch 70 : MAE : 0.8514  RMSE : 1.8854  NMAE : 0.9549  MRE : 0.8923  NPRE : 5.7336\r\n",
      "2023-01-14 00:55:48  Epoch 80 : MAE : 0.8805  RMSE : 1.9148  NMAE : 0.9875  MRE : 0.9396  NPRE : 5.9766\r\n",
      "2023-01-14 00:55:48  Best epoch  2 : MAE : 0.8086  RMSE : 1.9714  NMAE : 0.9070  MRE : 0.8699  NPRE : 5.3810\r\n",
      "2023-01-14 00:55:48  实验 1 模型 1 training time = 1.03 s\r\n",
      "2023-01-14 00:55:48  Slice ID  1 : MAE = 0.8086, RMSE = 1.9714, NMAE = 0.9070, MRE = 0.8699, NPRE = 5.3810\r\n",
      "\r\n",
      "2023-01-14 00:55:48  \t实验 1 模型 2 开始分片训练\r\n",
      "2023-01-14 00:56:08  Epoch 10 : MAE : 0.8158  RMSE : 1.9240  NMAE : 0.9151  MRE : 0.8426  NPRE : 5.6856\r\n",
      "2023-01-14 00:56:28  Epoch 20 : MAE : 0.8312  RMSE : 1.9098  NMAE : 0.9322  MRE : 0.8125  NPRE : 5.3362\r\n",
      "2023-01-14 00:56:48  Epoch 30 : MAE : 0.7964  RMSE : 1.8928  NMAE : 0.8932  MRE : 0.7501  NPRE : 4.4716\r\n",
      "2023-01-14 00:57:07  Epoch 40 : MAE : 0.7782  RMSE : 1.8483  NMAE : 0.8728  MRE : 0.7373  NPRE : 4.6218\r\n",
      "2023-01-14 00:57:27  Epoch 50 : MAE : 0.7857  RMSE : 1.8436  NMAE : 0.8812  MRE : 0.7730  NPRE : 4.6942\r\n",
      "2023-01-14 00:57:47  Epoch 60 : MAE : 0.7591  RMSE : 1.8153  NMAE : 0.8515  MRE : 0.7544  NPRE : 4.1828\r\n",
      "2023-01-14 00:58:06  Epoch 70 : MAE : 0.7791  RMSE : 1.8301  NMAE : 0.8738  MRE : 0.8281  NPRE : 4.6699\r\n",
      "2023-01-14 00:58:26  Epoch 80 : MAE : 0.8227  RMSE : 1.8427  NMAE : 0.9227  MRE : 0.9479  NPRE : 5.1431\r\n",
      "2023-01-14 00:58:26  Best epoch 60 : MAE : 0.7591  RMSE : 1.8153  NMAE : 0.8515  MRE : 0.7544  NPRE : 4.1828\r\n",
      "2023-01-14 00:58:26  实验 1 模型 2 training time = 37.80 s\r\n",
      "2023-01-14 00:58:26  Slice ID  2 : MAE = 0.7591, RMSE = 1.8153, NMAE = 0.8515, MRE = 0.7544, NPRE = 4.1828\r\n",
      "\r\n",
      "2023-01-14 00:58:26  \t实验 1 模型 3 开始分片训练\r\n",
      "2023-01-14 00:58:47  Epoch 10 : MAE : 0.7399  RMSE : 1.9525  NMAE : 0.8298  MRE : 0.7362  NPRE : 3.9048\r\n",
      "2023-01-14 00:59:08  Epoch 20 : MAE : 0.7077  RMSE : 1.8170  NMAE : 0.7938  MRE : 0.7013  NPRE : 3.8607\r\n",
      "2023-01-14 00:59:28  Epoch 30 : MAE : 0.6922  RMSE : 1.7801  NMAE : 0.7764  MRE : 0.6808  NPRE : 3.4400\r\n",
      "2023-01-14 00:59:49  Epoch 40 : MAE : 0.6876  RMSE : 1.7605  NMAE : 0.7712  MRE : 0.6988  NPRE : 3.0842\r\n",
      "2023-01-14 01:00:13  Epoch 50 : MAE : 0.6814  RMSE : 1.7469  NMAE : 0.7643  MRE : 0.6996  NPRE : 3.0195\r\n",
      "2023-01-14 01:00:36  Epoch 60 : MAE : 0.6912  RMSE : 1.7271  NMAE : 0.7753  MRE : 0.7513  NPRE : 3.6215\r\n",
      "2023-01-14 01:00:56  Epoch 70 : MAE : 0.6985  RMSE : 1.7438  NMAE : 0.7834  MRE : 0.7944  NPRE : 3.2402\r\n",
      "2023-01-14 01:01:17  Epoch 80 : MAE : 0.7457  RMSE : 1.7364  NMAE : 0.8364  MRE : 0.9291  NPRE : 4.3706\r\n",
      "2023-01-14 01:01:17  Best epoch 49 : MAE : 0.6687  RMSE : 1.7331  NMAE : 0.7501  MRE : 0.6658  NPRE : 3.0826\r\n",
      "2023-01-14 01:01:17  实验 1 模型 3 training time = 35.29 s\r\n",
      "2023-01-14 01:01:17  Slice ID  3 : MAE = 0.6687, RMSE = 1.7331, NMAE = 0.7501, MRE = 0.6658, NPRE = 3.0826\r\n",
      "\r\n",
      "2023-01-14 01:01:17  \t实验 1 模型 4 开始分片训练\r\n",
      "2023-01-14 01:01:37  Epoch 10 : MAE : 0.7930  RMSE : 1.9358  NMAE : 0.8895  MRE : 0.7803  NPRE : 4.8173\r\n",
      "2023-01-14 01:01:57  Epoch 20 : MAE : 0.7659  RMSE : 1.8554  NMAE : 0.8591  MRE : 0.7681  NPRE : 4.0595\r\n",
      "2023-01-14 01:02:17  Epoch 30 : MAE : 0.7791  RMSE : 1.8135  NMAE : 0.8738  MRE : 0.7532  NPRE : 4.5858\r\n",
      "2023-01-14 01:02:37  Epoch 40 : MAE : 0.7956  RMSE : 1.7994  NMAE : 0.8924  MRE : 0.7960  NPRE : 4.7717\r\n",
      "2023-01-14 01:02:57  Epoch 50 : MAE : 0.7940  RMSE : 1.8198  NMAE : 0.8906  MRE : 0.7814  NPRE : 4.4813\r\n",
      "2023-01-14 01:03:17  Epoch 60 : MAE : 0.7782  RMSE : 1.7870  NMAE : 0.8728  MRE : 0.8364  NPRE : 4.3204\r\n",
      "2023-01-14 01:03:37  Epoch 70 : MAE : 0.8067  RMSE : 1.8082  NMAE : 0.9048  MRE : 0.8977  NPRE : 4.8635\r\n",
      "2023-01-14 01:03:56  Epoch 80 : MAE : 0.7965  RMSE : 1.7892  NMAE : 0.8934  MRE : 0.9347  NPRE : 4.7779\r\n",
      "2023-01-14 01:03:56  Best epoch 59 : MAE : 0.7493  RMSE : 1.7617  NMAE : 0.8404  MRE : 0.7756  NPRE : 4.2916\r\n",
      "2023-01-14 01:03:56  实验 1 模型 4 training time = 38.32 s\r\n",
      "2023-01-14 01:03:56  Slice ID  4 : MAE = 0.7493, RMSE = 1.7617, NMAE = 0.8404, MRE = 0.7756, NPRE = 4.2916\r\n",
      "\r\n",
      "2023-01-14 01:03:57  \t实验 1 模型 5 开始分片训练\r\n",
      "2023-01-14 01:04:16  Epoch 10 : MAE : 0.7742  RMSE : 1.9401  NMAE : 0.8684  MRE : 0.7962  NPRE : 4.3845\r\n",
      "2023-01-14 01:04:35  Epoch 20 : MAE : 0.7668  RMSE : 1.8244  NMAE : 0.8601  MRE : 0.7566  NPRE : 4.5985\r\n",
      "2023-01-14 01:04:52  Epoch 30 : MAE : 0.7395  RMSE : 1.7922  NMAE : 0.8294  MRE : 0.6955  NPRE : 4.0269\r\n",
      "2023-01-14 01:05:08  Epoch 40 : MAE : 0.7246  RMSE : 1.7578  NMAE : 0.8128  MRE : 0.7221  NPRE : 3.8739\r\n",
      "2023-01-14 01:05:24  Epoch 50 : MAE : 0.7413  RMSE : 1.7700  NMAE : 0.8315  MRE : 0.7283  NPRE : 3.9841\r\n",
      "2023-01-14 01:05:40  Epoch 60 : MAE : 0.7526  RMSE : 1.7663  NMAE : 0.8442  MRE : 0.7658  NPRE : 4.3431\r\n",
      "2023-01-14 01:05:56  Epoch 70 : MAE : 0.7468  RMSE : 1.7735  NMAE : 0.8376  MRE : 0.7675  NPRE : 4.1646\r\n",
      "2023-01-14 01:06:12  Epoch 80 : MAE : 0.7502  RMSE : 1.7639  NMAE : 0.8415  MRE : 0.8399  NPRE : 4.2059\r\n",
      "2023-01-14 01:06:12  Best epoch 37 : MAE : 0.7214  RMSE : 1.7500  NMAE : 0.8091  MRE : 0.7252  NPRE : 3.8469\r\n",
      "2023-01-14 01:06:12  实验 1 模型 5 training time = 19.35 s\r\n",
      "2023-01-14 01:06:12  Slice ID  5 : MAE = 0.7214, RMSE = 1.7500, NMAE = 0.8091, MRE = 0.7252, NPRE = 3.8469\r\n",
      "\r\n",
      "2023-01-14 01:06:13  \t实验 1 模型 6 开始分片训练\r\n",
      "2023-01-14 01:06:30  Epoch 10 : MAE : 0.7273  RMSE : 1.9402  NMAE : 0.8157  MRE : 0.6885  NPRE : 3.2575\r\n",
      "2023-01-14 01:06:48  Epoch 20 : MAE : 0.6793  RMSE : 1.7751  NMAE : 0.7619  MRE : 0.6574  NPRE : 3.1854\r\n",
      "2023-01-14 01:07:05  Epoch 30 : MAE : 0.6581  RMSE : 1.7179  NMAE : 0.7382  MRE : 0.6444  NPRE : 2.8487\r\n",
      "2023-01-14 01:07:23  Epoch 40 : MAE : 0.6576  RMSE : 1.7011  NMAE : 0.7376  MRE : 0.6511  NPRE : 2.8050\r\n",
      "2023-01-14 01:07:40  Epoch 50 : MAE : 0.6701  RMSE : 1.7032  NMAE : 0.7515  MRE : 0.7021  NPRE : 3.2317\r\n",
      "2023-01-14 01:07:57  Epoch 60 : MAE : 0.6766  RMSE : 1.7190  NMAE : 0.7589  MRE : 0.7231  NPRE : 3.0854\r\n",
      "2023-01-14 01:08:14  Epoch 70 : MAE : 0.6955  RMSE : 1.7070  NMAE : 0.7801  MRE : 0.8167  NPRE : 3.3932\r\n",
      "2023-01-14 01:08:31  Epoch 80 : MAE : 0.7155  RMSE : 1.7154  NMAE : 0.8025  MRE : 0.8923  NPRE : 3.6749\r\n",
      "2023-01-14 01:08:31  Best epoch 49 : MAE : 0.6516  RMSE : 1.6980  NMAE : 0.7308  MRE : 0.6245  NPRE : 3.0869\r\n",
      "2023-01-14 01:08:31  实验 1 模型 6 training time = 27.64 s\r\n",
      "2023-01-14 01:08:31  Slice ID  6 : MAE = 0.6516, RMSE = 1.6980, NMAE = 0.7308, MRE = 0.6245, NPRE = 3.0869\r\n",
      "\r\n",
      "2023-01-14 01:08:31  \t实验 1 模型 7 开始分片训练\r\n",
      "2023-01-14 01:08:48  Epoch 10 : MAE : 0.7642  RMSE : 1.9825  NMAE : 0.8572  MRE : 0.7736  NPRE : 3.4302\r\n",
      "2023-01-14 01:09:05  Epoch 20 : MAE : 0.7244  RMSE : 1.8498  NMAE : 0.8125  MRE : 0.6851  NPRE : 3.5385\r\n",
      "2023-01-14 01:09:21  Epoch 30 : MAE : 0.7237  RMSE : 1.8207  NMAE : 0.8117  MRE : 0.6882  NPRE : 3.7328\r\n",
      "2023-01-14 01:09:38  Epoch 40 : MAE : 0.7237  RMSE : 1.8041  NMAE : 0.8117  MRE : 0.7004  NPRE : 3.5985\r\n",
      "2023-01-14 01:09:55  Epoch 50 : MAE : 0.7273  RMSE : 1.8049  NMAE : 0.8157  MRE : 0.7118  NPRE : 3.4469\r\n",
      "2023-01-14 01:10:11  Epoch 60 : MAE : 0.7371  RMSE : 1.7869  NMAE : 0.8267  MRE : 0.7900  NPRE : 3.5752\r\n",
      "2023-01-14 01:10:28  Epoch 70 : MAE : 0.7332  RMSE : 1.7638  NMAE : 0.8224  MRE : 0.8183  NPRE : 4.1485\r\n",
      "2023-01-14 01:10:45  Epoch 80 : MAE : 0.7674  RMSE : 1.7789  NMAE : 0.8608  MRE : 0.9187  NPRE : 4.5008\r\n",
      "2023-01-14 01:10:45  Best epoch 37 : MAE : 0.7128  RMSE : 1.7986  NMAE : 0.7995  MRE : 0.6755  NPRE : 3.4816\r\n",
      "2023-01-14 01:10:45  实验 1 模型 7 training time = 18.93 s\r\n",
      "2023-01-14 01:10:45  Slice ID  7 : MAE = 0.7128, RMSE = 1.7986, NMAE = 0.7995, MRE = 0.6755, NPRE = 3.4816\r\n",
      "\r\n",
      "2023-01-14 01:10:46  \t实验 1 模型 8 开始分片训练\r\n",
      "2023-01-14 01:11:06  Epoch 10 : MAE : 0.7829  RMSE : 1.9691  NMAE : 0.8781  MRE : 0.7785  NPRE : 4.2788\r\n",
      "2023-01-14 01:11:23  Epoch 20 : MAE : 0.8100  RMSE : 1.8904  NMAE : 0.9085  MRE : 0.7907  NPRE : 5.1199\r\n",
      "2023-01-14 01:11:38  Epoch 30 : MAE : 0.7743  RMSE : 1.8633  NMAE : 0.8685  MRE : 0.7284  NPRE : 4.0508\r\n",
      "2023-01-14 01:11:54  Epoch 40 : MAE : 0.7749  RMSE : 1.8516  NMAE : 0.8692  MRE : 0.7404  NPRE : 4.2307\r\n",
      "2023-01-14 01:12:11  Epoch 50 : MAE : 0.7449  RMSE : 1.8239  NMAE : 0.8355  MRE : 0.7222  NPRE : 3.6086\r\n",
      "2023-01-14 01:12:28  Epoch 60 : MAE : 0.7505  RMSE : 1.8111  NMAE : 0.8418  MRE : 0.7440  NPRE : 4.1340\r\n",
      "2023-01-14 01:12:46  Epoch 70 : MAE : 0.7647  RMSE : 1.8297  NMAE : 0.8577  MRE : 0.7807  NPRE : 4.2302\r\n",
      "2023-01-14 01:13:03  Epoch 80 : MAE : 0.7604  RMSE : 1.8254  NMAE : 0.8528  MRE : 0.8000  NPRE : 4.0522\r\n",
      "2023-01-14 01:13:03  Best epoch 63 : MAE : 0.7329  RMSE : 1.7866  NMAE : 0.8221  MRE : 0.7346  NPRE : 4.0681\r\n",
      "2023-01-14 01:13:03  实验 1 模型 8 training time = 26.67 s\r\n",
      "2023-01-14 01:13:03  Slice ID  8 : MAE = 0.7329, RMSE = 1.7866, NMAE = 0.8221, MRE = 0.7346, NPRE = 4.0681\r\n",
      "\r\n",
      "2023-01-14 01:13:04  \t实验 1 模型 9 开始分片训练\r\n",
      "2023-01-14 01:13:22  Epoch 10 : MAE : 0.7518  RMSE : 1.9734  NMAE : 0.8433  MRE : 0.7526  NPRE : 3.0777\r\n",
      "2023-01-14 01:13:41  Epoch 20 : MAE : 0.7095  RMSE : 1.8237  NMAE : 0.7958  MRE : 0.6823  NPRE : 3.4394\r\n",
      "2023-01-14 01:14:00  Epoch 30 : MAE : 0.6984  RMSE : 1.7718  NMAE : 0.7833  MRE : 0.7054  NPRE : 3.4010\r\n",
      "2023-01-14 01:14:19  Epoch 40 : MAE : 0.6848  RMSE : 1.7687  NMAE : 0.7680  MRE : 0.6957  NPRE : 2.6185\r\n",
      "2023-01-14 01:14:38  Epoch 50 : MAE : 0.6826  RMSE : 1.7616  NMAE : 0.7657  MRE : 0.6754  NPRE : 2.8131\r\n",
      "2023-01-14 01:14:57  Epoch 60 : MAE : 0.6859  RMSE : 1.7544  NMAE : 0.7693  MRE : 0.6683  NPRE : 3.4531\r\n",
      "2023-01-14 01:15:15  Epoch 70 : MAE : 0.6983  RMSE : 1.7465  NMAE : 0.7832  MRE : 0.7475  NPRE : 3.5306\r\n",
      "2023-01-14 01:15:34  Epoch 80 : MAE : 0.7133  RMSE : 1.7413  NMAE : 0.8000  MRE : 0.8201  NPRE : 3.6259\r\n",
      "2023-01-14 01:15:34  Best epoch 56 : MAE : 0.6770  RMSE : 1.7437  NMAE : 0.7593  MRE : 0.6770  NPRE : 3.0557\r\n",
      "2023-01-14 01:15:34  实验 1 模型 9 training time = 31.79 s\r\n",
      "2023-01-14 01:15:34  Slice ID  9 : MAE = 0.6770, RMSE = 1.7437, NMAE = 0.7593, MRE = 0.6770, NPRE = 3.0557\r\n",
      "\r\n",
      "2023-01-14 01:15:34  \t实验 1 模型 10 开始分片训练\r\n",
      "2023-01-14 01:15:54  Epoch 10 : MAE : 0.7718  RMSE : 1.9445  NMAE : 0.8657  MRE : 0.7972  NPRE : 4.4420\r\n",
      "2023-01-14 01:16:11  Epoch 20 : MAE : 0.7794  RMSE : 1.8310  NMAE : 0.8741  MRE : 0.8042  NPRE : 4.8331\r\n",
      "2023-01-14 01:16:28  Epoch 30 : MAE : 0.7677  RMSE : 1.7949  NMAE : 0.8610  MRE : 0.7904  NPRE : 4.5599\r\n",
      "2023-01-14 01:16:45  Epoch 40 : MAE : 0.7423  RMSE : 1.7637  NMAE : 0.8326  MRE : 0.7588  NPRE : 4.3573\r\n",
      "2023-01-14 01:17:04  Epoch 50 : MAE : 0.7432  RMSE : 1.7729  NMAE : 0.8336  MRE : 0.7590  NPRE : 4.2673\r\n",
      "2023-01-14 01:17:23  Epoch 60 : MAE : 0.7652  RMSE : 1.7950  NMAE : 0.8582  MRE : 0.8161  NPRE : 4.4549\r\n",
      "2023-01-14 01:17:40  Epoch 70 : MAE : 0.7611  RMSE : 1.7761  NMAE : 0.8537  MRE : 0.8630  NPRE : 4.4207\r\n",
      "2023-01-14 01:17:57  Epoch 80 : MAE : 0.8163  RMSE : 1.7986  NMAE : 0.9156  MRE : 0.9786  NPRE : 5.3304\r\n",
      "2023-01-14 01:17:57  Best epoch 26 : MAE : 0.7262  RMSE : 1.7984  NMAE : 0.8145  MRE : 0.7089  NPRE : 3.9554\r\n",
      "2023-01-14 01:17:57  实验 1 模型 10 training time = 15.01 s\r\n",
      "2023-01-14 01:17:57  Slice ID  10 : MAE = 0.7262, RMSE = 1.7984, NMAE = 0.8145, MRE = 0.7089, NPRE = 3.9554\r\n",
      "\r\n",
      "2023-01-14 01:17:57  \t所有切片模型训练完毕\r\n",
      "2023-01-14 01:17:57  \t开始训练聚合模型\r\n",
      "2023-01-14 01:18:08  Epoch  1 : MAE : 0.5755  RMSE : 1.6100  NMAE : 0.6455  MRE : 0.5125  NPRE : 2.3538\r\n",
      "2023-01-14 01:18:18  Epoch  2 : MAE : 0.5448  RMSE : 1.5450  NMAE : 0.6111  MRE : 0.4996  NPRE : 1.9741\r\n",
      "2023-01-14 01:18:29  Epoch  3 : MAE : 0.5279  RMSE : 1.5241  NMAE : 0.5921  MRE : 0.4757  NPRE : 2.4473\r\n",
      "2023-01-14 01:18:39  Epoch  4 : MAE : 0.5118  RMSE : 1.4873  NMAE : 0.5741  MRE : 0.4717  NPRE : 2.3310\r\n",
      "2023-01-14 01:18:50  Epoch  5 : MAE : 0.5083  RMSE : 1.4669  NMAE : 0.5701  MRE : 0.4722  NPRE : 2.0787\r\n",
      "2023-01-14 01:18:50  \t实验 1 聚合模型训练完毕\r\n",
      "2023-01-14 01:19:06  Result : MAE : 0.5162  RMSE : 1.4885  NMAE : 0.5678  MRE : 0.4691  NPRE : 2.0599\r\n",
      "2023-01-14 01:19:06  \t实验 1 : Aggregators training time = 47.91 s\r\n",
      "\r\n",
      "2023-01-14 01:19:06  \t聚合模型训练完毕\r\n",
      "2023-01-14 01:19:06  Round 1 : MAE = 0.5162, RMSE = 1.4885, NMAE = 0.5678, MRE = 0.4691, NPRE = 2.0599\r\n",
      "\r\n",
      "------------------------------------------------------------------------------------------------------------------------\r\n",
      "2023-01-14 01:19:06  Dataset : rt     interaction : NeuCF\r\n",
      "2023-01-14 01:19:06  Density : 10.00%, slice_epochs : 80, agg_epochs : 5\r\n",
      "2023-01-14 01:19:06  Part_type : 5,    slices : 10,       devices : gpu\r\n",
      "\r\n",
      "\r\n",
      "2023-01-14 01:19:06  Density 10.00% : MAE = 0.516, RMSE = 1.488, NMAE = 0.568, MRE = 0.469, NPRE = 2.060\r\n",
      "\r\n",
      "2023-01-14 01:19:06  Experiment success!\r\n"
     ]
    }
   ],
   "source": [
    "!python Experiment.py --dataset rt --interaction NeuCF --rounds 1 --agg_epochs 5 --density 0.10 --part_type 5"
   ],
   "metadata": {
    "collapsed": false
   }
  },
  {
   "cell_type": "code",
   "execution_count": null,
   "outputs": [
    {
     "name": "stdout",
     "output_type": "stream",
     "text": [
      "2023-01-14 01:19:07  Namespace(agg_epochs=5, agg_function=3, agg_type='softmax', balance=0, batch_size=128, beta=1, cluster='deep', cuda=True, dataset='rt', debug=0, density=0.1, devices='gpu', dimension=32, dir='../Dataset/mnist', dropout=0.1, epoch=1500, hidden_dims=[64, 64, 100], input_dim=128, interaction='NeuCF', kmeans_type=1, lamda=1, latent_dim=10, log_interval=100, lr=0.0001, n_classes=10, n_clusters=10, n_jobs=1, node2vec=0, node2vec_batchsize=32, node2vec_dim=128, node2vec_epochs=20, node2vec_length=8, node2vec_walk=15, node2vec_windows=3, num_layers=2, order=2, part_iter=50, part_type=6, path='./datasets/data/WSDREAM/', pre_epoch=1000, pretrain=True, processed=0, retrain=0, rounds=1, save_model=1, slice_epochs=80, slices=10, subagg=1, verbose=10, wd=0.0005)\r\n",
      "2023-01-14 01:19:07  Experiment start!\r\n",
      "2023-01-14 01:19:07  Dataset : rt     interaction : NeuCF\r\n",
      "2023-01-14 01:19:07  Density : 10.00%, slice_epochs : 80, agg_epochs : 5\r\n",
      "2023-01-14 01:19:07  Part_type : 6,    slices : 10,       devices : gpu\r\n",
      "\r\n",
      "2023-01-14 01:19:07  Round 1 experiment start!\r\n",
      "2023-01-14 01:19:07  \t原始数据集读取完毕\r\n",
      "2023-01-14 01:19:08  \t简单聚类\r\n",
      "/home/yxzeng/anaconda3/lib/python3.8/site-packages/sklearn/cluster/_kmeans.py:870: FutureWarning: The default value of `n_init` will change from 10 to 'auto' in 1.4. Set the value of `n_init` explicitly to suppress the warning\r\n",
      "  warnings.warn(\r\n",
      "Exception ignored on calling ctypes callback function: <function _ThreadpoolInfo._find_modules_with_dl_iterate_phdr.<locals>.match_module_callback at 0x7fd9e8baad30>\r\n",
      "Traceback (most recent call last):\r\n",
      "  File \"/home/yxzeng/anaconda3/lib/python3.8/site-packages/threadpoolctl.py\", line 400, in match_module_callback\r\n",
      "    self._make_module_from_path(filepath)\r\n",
      "  File \"/home/yxzeng/anaconda3/lib/python3.8/site-packages/threadpoolctl.py\", line 515, in _make_module_from_path\r\n",
      "    module = module_class(filepath, prefix, user_api, internal_api)\r\n",
      "  File \"/home/yxzeng/anaconda3/lib/python3.8/site-packages/threadpoolctl.py\", line 606, in __init__\r\n",
      "    self.version = self.get_version()\r\n",
      "  File \"/home/yxzeng/anaconda3/lib/python3.8/site-packages/threadpoolctl.py\", line 646, in get_version\r\n",
      "    config = get_config().split()\r\n",
      "AttributeError: 'NoneType' object has no attribute 'split'\r\n",
      "Exception ignored on calling ctypes callback function: <function _ThreadpoolInfo._find_modules_with_dl_iterate_phdr.<locals>.match_module_callback at 0x7fd9e8baad30>\r\n",
      "Traceback (most recent call last):\r\n",
      "  File \"/home/yxzeng/anaconda3/lib/python3.8/site-packages/threadpoolctl.py\", line 400, in match_module_callback\r\n",
      "    self._make_module_from_path(filepath)\r\n",
      "  File \"/home/yxzeng/anaconda3/lib/python3.8/site-packages/threadpoolctl.py\", line 515, in _make_module_from_path\r\n",
      "    module = module_class(filepath, prefix, user_api, internal_api)\r\n",
      "  File \"/home/yxzeng/anaconda3/lib/python3.8/site-packages/threadpoolctl.py\", line 606, in __init__\r\n",
      "    self.version = self.get_version()\r\n",
      "  File \"/home/yxzeng/anaconda3/lib/python3.8/site-packages/threadpoolctl.py\", line 646, in get_version\r\n",
      "    config = get_config().split()\r\n",
      "AttributeError: 'NoneType' object has no attribute 'split'\r\n",
      "Exception ignored on calling ctypes callback function: <function _ThreadpoolInfo._find_modules_with_dl_iterate_phdr.<locals>.match_module_callback at 0x7fd9e8baad30>\r\n",
      "Traceback (most recent call last):\r\n",
      "  File \"/home/yxzeng/anaconda3/lib/python3.8/site-packages/threadpoolctl.py\", line 400, in match_module_callback\r\n",
      "    self._make_module_from_path(filepath)\r\n",
      "  File \"/home/yxzeng/anaconda3/lib/python3.8/site-packages/threadpoolctl.py\", line 515, in _make_module_from_path\r\n",
      "    module = module_class(filepath, prefix, user_api, internal_api)\r\n",
      "  File \"/home/yxzeng/anaconda3/lib/python3.8/site-packages/threadpoolctl.py\", line 606, in __init__\r\n",
      "    self.version = self.get_version()\r\n",
      "  File \"/home/yxzeng/anaconda3/lib/python3.8/site-packages/threadpoolctl.py\", line 646, in get_version\r\n",
      "    config = get_config().split()\r\n",
      "AttributeError: 'NoneType' object has no attribute 'split'\r\n",
      "Exception ignored on calling ctypes callback function: <function _ThreadpoolInfo._find_modules_with_dl_iterate_phdr.<locals>.match_module_callback at 0x7fd9e8baad30>\r\n",
      "Traceback (most recent call last):\r\n",
      "  File \"/home/yxzeng/anaconda3/lib/python3.8/site-packages/threadpoolctl.py\", line 400, in match_module_callback\r\n",
      "    self._make_module_from_path(filepath)\r\n",
      "  File \"/home/yxzeng/anaconda3/lib/python3.8/site-packages/threadpoolctl.py\", line 515, in _make_module_from_path\r\n",
      "    module = module_class(filepath, prefix, user_api, internal_api)\r\n",
      "  File \"/home/yxzeng/anaconda3/lib/python3.8/site-packages/threadpoolctl.py\", line 606, in __init__\r\n",
      "    self.version = self.get_version()\r\n",
      "  File \"/home/yxzeng/anaconda3/lib/python3.8/site-packages/threadpoolctl.py\", line 646, in get_version\r\n",
      "    config = get_config().split()\r\n",
      "AttributeError: 'NoneType' object has no attribute 'split'\r\n",
      "Exception ignored on calling ctypes callback function: <function _ThreadpoolInfo._find_modules_with_dl_iterate_phdr.<locals>.match_module_callback at 0x7fd9e8baad30>\r\n",
      "Traceback (most recent call last):\r\n",
      "  File \"/home/yxzeng/anaconda3/lib/python3.8/site-packages/threadpoolctl.py\", line 400, in match_module_callback\r\n",
      "    self._make_module_from_path(filepath)\r\n",
      "  File \"/home/yxzeng/anaconda3/lib/python3.8/site-packages/threadpoolctl.py\", line 515, in _make_module_from_path\r\n",
      "    module = module_class(filepath, prefix, user_api, internal_api)\r\n",
      "  File \"/home/yxzeng/anaconda3/lib/python3.8/site-packages/threadpoolctl.py\", line 606, in __init__\r\n",
      "    self.version = self.get_version()\r\n",
      "  File \"/home/yxzeng/anaconda3/lib/python3.8/site-packages/threadpoolctl.py\", line 646, in get_version\r\n",
      "    config = get_config().split()\r\n",
      "AttributeError: 'NoneType' object has no attribute 'split'\r\n",
      "Exception ignored on calling ctypes callback function: <function _ThreadpoolInfo._find_modules_with_dl_iterate_phdr.<locals>.match_module_callback at 0x7fd9e8baad30>\r\n",
      "Traceback (most recent call last):\r\n",
      "  File \"/home/yxzeng/anaconda3/lib/python3.8/site-packages/threadpoolctl.py\", line 400, in match_module_callback\r\n",
      "    self._make_module_from_path(filepath)\r\n",
      "  File \"/home/yxzeng/anaconda3/lib/python3.8/site-packages/threadpoolctl.py\", line 515, in _make_module_from_path\r\n",
      "    module = module_class(filepath, prefix, user_api, internal_api)\r\n",
      "  File \"/home/yxzeng/anaconda3/lib/python3.8/site-packages/threadpoolctl.py\", line 606, in __init__\r\n",
      "    self.version = self.get_version()\r\n",
      "  File \"/home/yxzeng/anaconda3/lib/python3.8/site-packages/threadpoolctl.py\", line 646, in get_version\r\n",
      "    config = get_config().split()\r\n",
      "AttributeError: 'NoneType' object has no attribute 'split'\r\n",
      "Exception ignored on calling ctypes callback function: <function _ThreadpoolInfo._find_modules_with_dl_iterate_phdr.<locals>.match_module_callback at 0x7fd9e8baad30>\r\n",
      "Traceback (most recent call last):\r\n",
      "  File \"/home/yxzeng/anaconda3/lib/python3.8/site-packages/threadpoolctl.py\", line 400, in match_module_callback\r\n",
      "    self._make_module_from_path(filepath)\r\n",
      "  File \"/home/yxzeng/anaconda3/lib/python3.8/site-packages/threadpoolctl.py\", line 515, in _make_module_from_path\r\n",
      "    module = module_class(filepath, prefix, user_api, internal_api)\r\n",
      "  File \"/home/yxzeng/anaconda3/lib/python3.8/site-packages/threadpoolctl.py\", line 606, in __init__\r\n",
      "    self.version = self.get_version()\r\n",
      "  File \"/home/yxzeng/anaconda3/lib/python3.8/site-packages/threadpoolctl.py\", line 646, in get_version\r\n",
      "    config = get_config().split()\r\n",
      "AttributeError: 'NoneType' object has no attribute 'split'\r\n",
      "Exception ignored on calling ctypes callback function: <function _ThreadpoolInfo._find_modules_with_dl_iterate_phdr.<locals>.match_module_callback at 0x7fd9e8baad30>\r\n",
      "Traceback (most recent call last):\r\n",
      "  File \"/home/yxzeng/anaconda3/lib/python3.8/site-packages/threadpoolctl.py\", line 400, in match_module_callback\r\n",
      "    self._make_module_from_path(filepath)\r\n",
      "  File \"/home/yxzeng/anaconda3/lib/python3.8/site-packages/threadpoolctl.py\", line 515, in _make_module_from_path\r\n",
      "    module = module_class(filepath, prefix, user_api, internal_api)\r\n",
      "  File \"/home/yxzeng/anaconda3/lib/python3.8/site-packages/threadpoolctl.py\", line 606, in __init__\r\n",
      "    self.version = self.get_version()\r\n",
      "  File \"/home/yxzeng/anaconda3/lib/python3.8/site-packages/threadpoolctl.py\", line 646, in get_version\r\n",
      "    config = get_config().split()\r\n",
      "AttributeError: 'NoneType' object has no attribute 'split'\r\n",
      "Exception ignored on calling ctypes callback function: <function _ThreadpoolInfo._find_modules_with_dl_iterate_phdr.<locals>.match_module_callback at 0x7fd9e8baad30>\r\n",
      "Traceback (most recent call last):\r\n",
      "  File \"/home/yxzeng/anaconda3/lib/python3.8/site-packages/threadpoolctl.py\", line 400, in match_module_callback\r\n",
      "    self._make_module_from_path(filepath)\r\n",
      "  File \"/home/yxzeng/anaconda3/lib/python3.8/site-packages/threadpoolctl.py\", line 515, in _make_module_from_path\r\n",
      "    module = module_class(filepath, prefix, user_api, internal_api)\r\n",
      "  File \"/home/yxzeng/anaconda3/lib/python3.8/site-packages/threadpoolctl.py\", line 606, in __init__\r\n",
      "    self.version = self.get_version()\r\n",
      "  File \"/home/yxzeng/anaconda3/lib/python3.8/site-packages/threadpoolctl.py\", line 646, in get_version\r\n",
      "    config = get_config().split()\r\n",
      "AttributeError: 'NoneType' object has no attribute 'split'\r\n",
      "Exception ignored on calling ctypes callback function: <function _ThreadpoolInfo._find_modules_with_dl_iterate_phdr.<locals>.match_module_callback at 0x7fd9e8baad30>\r\n",
      "Traceback (most recent call last):\r\n",
      "  File \"/home/yxzeng/anaconda3/lib/python3.8/site-packages/threadpoolctl.py\", line 400, in match_module_callback\r\n",
      "    self._make_module_from_path(filepath)\r\n",
      "  File \"/home/yxzeng/anaconda3/lib/python3.8/site-packages/threadpoolctl.py\", line 515, in _make_module_from_path\r\n",
      "    module = module_class(filepath, prefix, user_api, internal_api)\r\n",
      "  File \"/home/yxzeng/anaconda3/lib/python3.8/site-packages/threadpoolctl.py\", line 606, in __init__\r\n",
      "    self.version = self.get_version()\r\n",
      "  File \"/home/yxzeng/anaconda3/lib/python3.8/site-packages/threadpoolctl.py\", line 646, in get_version\r\n",
      "    config = get_config().split()\r\n",
      "AttributeError: 'NoneType' object has no attribute 'split'\r\n",
      "Exception ignored on calling ctypes callback function: <function _ThreadpoolInfo._find_modules_with_dl_iterate_phdr.<locals>.match_module_callback at 0x7fd9e8baad30>\r\n",
      "Traceback (most recent call last):\r\n",
      "  File \"/home/yxzeng/anaconda3/lib/python3.8/site-packages/threadpoolctl.py\", line 400, in match_module_callback\r\n",
      "    self._make_module_from_path(filepath)\r\n",
      "  File \"/home/yxzeng/anaconda3/lib/python3.8/site-packages/threadpoolctl.py\", line 515, in _make_module_from_path\r\n",
      "    module = module_class(filepath, prefix, user_api, internal_api)\r\n",
      "  File \"/home/yxzeng/anaconda3/lib/python3.8/site-packages/threadpoolctl.py\", line 606, in __init__\r\n",
      "    self.version = self.get_version()\r\n",
      "  File \"/home/yxzeng/anaconda3/lib/python3.8/site-packages/threadpoolctl.py\", line 646, in get_version\r\n",
      "    config = get_config().split()\r\n",
      "AttributeError: 'NoneType' object has no attribute 'split'\r\n",
      "{0: 21, 5: 33, 1: 60, 6: 39, 3: 34, 2: 38, 7: 26, 4: 55, 9: 14, 8: 19}\r\n",
      "2023-01-14 01:19:08  \t地区特征 基于用户切割完毕\r\n",
      "2023-01-14 01:19:08  \t分切数据执行完毕\r\n",
      "2023-01-14 01:19:11  \t模型加载完毕\r\n",
      "2023-01-14 01:19:11  \t准备训练切片模型\r\n",
      "2023-01-14 01:19:12  \t实验 1 模型 1 开始分片训练\r\n",
      "2023-01-14 01:19:23  Epoch 10 : MAE : 3.0322  RMSE : 4.5185  NMAE : 3.3291  MRE : 1.8260  NPRE : 42.8689\r\n",
      "2023-01-14 01:19:35  Epoch 20 : MAE : 3.2603  RMSE : 4.6142  NMAE : 3.5795  MRE : 3.9487  NPRE : 46.8403\r\n",
      "2023-01-14 01:19:47  Epoch 30 : MAE : 3.9838  RMSE : 5.3656  NMAE : 4.3738  MRE : 6.8698  NPRE : 57.9586\r\n",
      "2023-01-14 01:20:01  Epoch 40 : MAE : 4.3450  RMSE : 5.7396  NMAE : 4.7704  MRE : 8.3812  NPRE : 63.2151\r\n",
      "2023-01-14 01:20:13  Epoch 50 : MAE : 4.3060  RMSE : 5.6548  NMAE : 4.7276  MRE : 8.5198  NPRE : 62.8853\r\n",
      "2023-01-14 01:20:25  Epoch 60 : MAE : 4.5199  RMSE : 5.9217  NMAE : 4.9624  MRE : 9.0754  NPRE : 65.4461\r\n",
      "2023-01-14 01:20:40  Epoch 70 : MAE : 4.1702  RMSE : 5.5393  NMAE : 4.5785  MRE : 7.8409  NPRE : 60.8666\r\n",
      "2023-01-14 01:20:52  Epoch 80 : MAE : 4.1230  RMSE : 5.4888  NMAE : 4.5266  MRE : 7.6576  NPRE : 59.5618\r\n",
      "2023-01-14 01:20:52  Best epoch  8 : MAE : 3.0122  RMSE : 4.5705  NMAE : 3.3072  MRE : 1.1724  NPRE : 42.6194\r\n",
      "2023-01-14 01:20:52  实验 1 模型 1 training time = 0.12 s\r\n",
      "2023-01-14 01:20:52  Slice ID  1 : MAE = 3.0122, RMSE = 4.5705, NMAE = 3.3072, MRE = 1.1724, NPRE = 42.6194\r\n",
      "\r\n",
      "2023-01-14 01:20:52  \t实验 1 模型 2 开始分片训练\r\n",
      "2023-01-14 01:21:05  Epoch 10 : MAE : 3.3905  RMSE : 5.0698  NMAE : 3.7224  MRE : 2.1180  NPRE : 48.6224\r\n",
      "2023-01-14 01:21:17  Epoch 20 : MAE : 3.2630  RMSE : 4.7938  NMAE : 3.5824  MRE : 2.6628  NPRE : 46.2370\r\n",
      "2023-01-14 01:21:28  Epoch 30 : MAE : 3.4641  RMSE : 4.9998  NMAE : 3.8032  MRE : 3.6839  NPRE : 49.6529\r\n",
      "2023-01-14 01:21:40  Epoch 40 : MAE : 3.7789  RMSE : 5.2812  NMAE : 4.1489  MRE : 5.3092  NPRE : 54.7655\r\n",
      "2023-01-14 01:21:51  Epoch 50 : MAE : 3.7652  RMSE : 5.2834  NMAE : 4.1338  MRE : 5.1615  NPRE : 54.2850\r\n",
      "2023-01-14 01:22:02  Epoch 60 : MAE : 3.7154  RMSE : 5.2053  NMAE : 4.0792  MRE : 5.1977  NPRE : 53.2756\r\n",
      "2023-01-14 01:22:14  Epoch 70 : MAE : 3.6267  RMSE : 5.0902  NMAE : 3.9818  MRE : 4.9648  NPRE : 52.3173\r\n",
      "2023-01-14 01:22:25  Epoch 80 : MAE : 3.5191  RMSE : 4.9610  NMAE : 3.8636  MRE : 4.6735  NPRE : 50.3889\r\n",
      "2023-01-14 01:22:25  Best epoch 16 : MAE : 3.1162  RMSE : 4.6785  NMAE : 3.4213  MRE : 1.7159  NPRE : 43.8977\r\n",
      "2023-01-14 01:22:25  实验 1 模型 2 training time = 0.37 s\r\n",
      "2023-01-14 01:22:25  Slice ID  2 : MAE = 3.1162, RMSE = 4.6785, NMAE = 3.4213, MRE = 1.7159, NPRE = 43.8977\r\n",
      "\r\n",
      "2023-01-14 01:22:26  \t实验 1 模型 3 开始分片训练\r\n",
      "2023-01-14 01:22:37  Epoch 10 : MAE : 2.4224  RMSE : 4.0684  NMAE : 2.6595  MRE : 1.0000  NPRE : 31.0655\r\n",
      "2023-01-14 01:22:49  Epoch 20 : MAE : 2.1890  RMSE : 3.5495  NMAE : 2.4033  MRE : 1.0000  NPRE : 27.8541\r\n",
      "2023-01-14 01:23:01  Epoch 30 : MAE : 2.1497  RMSE : 3.3729  NMAE : 2.3602  MRE : 1.0000  NPRE : 27.6040\r\n",
      "2023-01-14 01:23:12  Epoch 40 : MAE : 2.3711  RMSE : 3.5082  NMAE : 2.6032  MRE : 1.8528  NPRE : 31.9951\r\n",
      "2023-01-14 01:23:23  Epoch 50 : MAE : 2.5440  RMSE : 3.6702  NMAE : 2.7931  MRE : 2.8303  NPRE : 35.3064\r\n",
      "2023-01-14 01:23:35  Epoch 60 : MAE : 2.5903  RMSE : 3.6785  NMAE : 2.8439  MRE : 3.3567  NPRE : 36.2494\r\n",
      "2023-01-14 01:23:46  Epoch 70 : MAE : 2.7332  RMSE : 3.8113  NMAE : 3.0008  MRE : 4.0823  NPRE : 38.5495\r\n",
      "2023-01-14 01:23:57  Epoch 80 : MAE : 2.7584  RMSE : 3.8258  NMAE : 3.0285  MRE : 4.3012  NPRE : 38.8744\r\n",
      "2023-01-14 01:23:57  Best epoch 28 : MAE : 2.1319  RMSE : 3.3684  NMAE : 2.3406  MRE : 1.0000  NPRE : 27.2869\r\n",
      "2023-01-14 01:23:57  实验 1 模型 3 training time = 0.42 s\r\n",
      "2023-01-14 01:23:57  Slice ID  3 : MAE = 2.1319, RMSE = 3.3684, NMAE = 2.3406, MRE = 1.0000, NPRE = 27.2869\r\n",
      "\r\n",
      "2023-01-14 01:23:58  \t实验 1 模型 4 开始分片训练\r\n",
      "2023-01-14 01:24:10  Epoch 10 : MAE : 2.4905  RMSE : 4.0468  NMAE : 2.7343  MRE : 1.0000  NPRE : 32.9188\r\n",
      "2023-01-14 01:24:21  Epoch 20 : MAE : 1.9457  RMSE : 3.1955  NMAE : 2.1362  MRE : 1.0000  NPRE : 23.3946\r\n",
      "2023-01-14 01:24:33  Epoch 30 : MAE : 1.6451  RMSE : 2.7361  NMAE : 1.8061  MRE : 1.0000  NPRE : 18.4720\r\n",
      "2023-01-14 01:24:45  Epoch 40 : MAE : 1.6107  RMSE : 2.6394  NMAE : 1.7684  MRE : 1.0000  NPRE : 18.3210\r\n",
      "2023-01-14 01:24:56  Epoch 50 : MAE : 1.6784  RMSE : 2.6671  NMAE : 1.8427  MRE : 1.0000  NPRE : 20.1677\r\n",
      "2023-01-14 01:25:07  Epoch 60 : MAE : 1.8361  RMSE : 2.8313  NMAE : 2.0159  MRE : 1.0000  NPRE : 23.1623\r\n",
      "2023-01-14 01:25:19  Epoch 70 : MAE : 2.0891  RMSE : 3.1089  NMAE : 2.2936  MRE : 2.0142  NPRE : 27.7780\r\n",
      "2023-01-14 01:25:31  Epoch 80 : MAE : 2.1725  RMSE : 3.1873  NMAE : 2.3852  MRE : 2.4871  NPRE : 29.3448\r\n",
      "2023-01-14 01:25:31  Best epoch 34 : MAE : 1.5569  RMSE : 2.6247  NMAE : 1.7094  MRE : 1.0000  NPRE : 16.8194\r\n",
      "2023-01-14 01:25:31  实验 1 模型 4 training time = 0.50 s\r\n",
      "2023-01-14 01:25:31  Slice ID  4 : MAE = 1.5569, RMSE = 2.6247, NMAE = 1.7094, MRE = 1.0000, NPRE = 16.8194\r\n",
      "\r\n",
      "2023-01-14 01:25:32  \t实验 1 模型 5 开始分片训练\r\n",
      "2023-01-14 01:25:44  Epoch 10 : MAE : 2.9353  RMSE : 4.7206  NMAE : 3.2227  MRE : 1.0000  NPRE : 40.4914\r\n",
      "2023-01-14 01:25:55  Epoch 20 : MAE : 2.4282  RMSE : 3.8638  NMAE : 2.6659  MRE : 1.0000  NPRE : 32.1686\r\n",
      "2023-01-14 01:26:07  Epoch 30 : MAE : 2.0366  RMSE : 3.2504  NMAE : 2.2360  MRE : 1.0000  NPRE : 25.7101\r\n",
      "2023-01-14 01:26:22  Epoch 40 : MAE : 2.1023  RMSE : 3.2443  NMAE : 2.3081  MRE : 1.0000  NPRE : 27.3143\r\n",
      "2023-01-14 01:26:33  Epoch 50 : MAE : 2.3896  RMSE : 3.5366  NMAE : 2.6236  MRE : 1.8278  NPRE : 32.6049\r\n",
      "2023-01-14 01:26:45  Epoch 60 : MAE : 2.5342  RMSE : 3.6892  NMAE : 2.7823  MRE : 2.5660  NPRE : 34.9618\r\n",
      "2023-01-14 01:26:57  Epoch 70 : MAE : 2.4779  RMSE : 3.5754  NMAE : 2.7205  MRE : 2.7990  NPRE : 34.5000\r\n",
      "2023-01-14 01:27:10  Epoch 80 : MAE : 2.7085  RMSE : 3.8037  NMAE : 2.9737  MRE : 3.8693  NPRE : 38.3943\r\n",
      "2023-01-14 01:27:10  Best epoch 35 : MAE : 1.9732  RMSE : 3.1426  NMAE : 2.1664  MRE : 1.0000  NPRE : 24.6650\r\n",
      "2023-01-14 01:27:10  实验 1 模型 5 training time = 0.56 s\r\n",
      "2023-01-14 01:27:10  Slice ID  5 : MAE = 1.9732, RMSE = 3.1426, NMAE = 2.1664, MRE = 1.0000, NPRE = 24.6650\r\n",
      "\r\n",
      "2023-01-14 01:27:11  \t实验 1 模型 6 开始分片训练\r\n",
      "2023-01-14 01:27:28  Epoch 10 : MAE : 2.4510  RMSE : 4.0634  NMAE : 2.6910  MRE : 1.0000  NPRE : 31.8685\r\n",
      "2023-01-14 01:27:43  Epoch 20 : MAE : 1.7953  RMSE : 3.0127  NMAE : 1.9711  MRE : 1.0000  NPRE : 20.3430\r\n",
      "2023-01-14 01:27:57  Epoch 30 : MAE : 1.5708  RMSE : 2.6337  NMAE : 1.7246  MRE : 1.0000  NPRE : 17.1411\r\n",
      "2023-01-14 01:28:10  Epoch 40 : MAE : 1.5160  RMSE : 2.5043  NMAE : 1.6644  MRE : 1.0000  NPRE : 16.6576\r\n",
      "2023-01-14 01:28:23  Epoch 50 : MAE : 1.4971  RMSE : 2.4655  NMAE : 1.6436  MRE : 1.0000  NPRE : 16.6121\r\n",
      "2023-01-14 01:28:36  Epoch 60 : MAE : 1.6957  RMSE : 2.6014  NMAE : 1.8617  MRE : 1.2383  NPRE : 20.9829\r\n",
      "2023-01-14 01:28:49  Epoch 70 : MAE : 1.9314  RMSE : 2.8348  NMAE : 2.1205  MRE : 2.1254  NPRE : 25.2303\r\n",
      "2023-01-14 01:29:02  Epoch 80 : MAE : 2.2994  RMSE : 3.1993  NMAE : 2.5245  MRE : 3.6859  NPRE : 31.5428\r\n",
      "2023-01-14 01:29:02  Best epoch 44 : MAE : 1.4720  RMSE : 2.4615  NMAE : 1.6161  MRE : 1.0000  NPRE : 15.8649\r\n",
      "2023-01-14 01:29:02  实验 1 模型 6 training time = 0.91 s\r\n",
      "2023-01-14 01:29:02  Slice ID  6 : MAE = 1.4720, RMSE = 2.4615, NMAE = 1.6161, MRE = 1.0000, NPRE = 15.8649\r\n",
      "\r\n",
      "2023-01-14 01:29:03  \t实验 1 模型 7 开始分片训练\r\n",
      "2023-01-14 01:29:16  Epoch 10 : MAE : 2.7118  RMSE : 4.4551  NMAE : 2.9773  MRE : 1.0000  NPRE : 35.8594\r\n",
      "2023-01-14 01:29:29  Epoch 20 : MAE : 2.2544  RMSE : 3.6377  NMAE : 2.4751  MRE : 1.0000  NPRE : 28.9332\r\n",
      "2023-01-14 01:29:42  Epoch 30 : MAE : 2.0587  RMSE : 3.2386  NMAE : 2.2603  MRE : 1.0000  NPRE : 26.3841\r\n",
      "2023-01-14 01:29:54  Epoch 40 : MAE : 1.9496  RMSE : 3.0426  NMAE : 2.1405  MRE : 1.0000  NPRE : 24.6340\r\n",
      "2023-01-14 01:30:09  Epoch 50 : MAE : 2.0661  RMSE : 3.1020  NMAE : 2.2684  MRE : 1.4169  NPRE : 26.9575\r\n"
     ]
    }
   ],
   "source": [
    "!python Experiment.py --dataset rt --interaction NeuCF --rounds 1 --agg_epochs 5 --density 0.10 --part_type 6"
   ],
   "metadata": {
    "collapsed": false,
    "pycharm": {
     "is_executing": true
    }
   }
  },
  {
   "cell_type": "code",
   "execution_count": null,
   "outputs": [],
   "source": [
    "!python Experiment.py --dataset rt --interaction NeuCF --rounds 1 --agg_epochs 5 --density 0.10 --part_type 7"
   ],
   "metadata": {
    "collapsed": false,
    "pycharm": {
     "is_executing": true
    }
   }
  },
  {
   "cell_type": "code",
   "execution_count": null,
   "outputs": [],
   "source": [
    "!python Experiment.py --dataset rt --interaction NeuCF --rounds 1 --agg_epochs 5 --density 0.10 --part_type 8"
   ],
   "metadata": {
    "collapsed": false,
    "pycharm": {
     "is_executing": true
    }
   }
  },
  {
   "cell_type": "markdown",
   "source": [
    "*****"
   ],
   "metadata": {
    "collapsed": false
   }
  },
  {
   "cell_type": "code",
   "execution_count": null,
   "outputs": [],
   "source": [
    "!python Experiment.py --dataset rt --interaction CSMF --rounds 1 --agg_epochs 5 --density 0.10 --part_type 1"
   ],
   "metadata": {
    "collapsed": false,
    "pycharm": {
     "is_executing": true
    }
   }
  },
  {
   "cell_type": "code",
   "execution_count": null,
   "outputs": [],
   "source": [
    "!python Experiment.py --dataset rt --interaction CSMF --rounds 1 --agg_epochs 5 --density 0.10 --part_type 2"
   ],
   "metadata": {
    "collapsed": false,
    "pycharm": {
     "is_executing": true
    }
   }
  },
  {
   "cell_type": "code",
   "execution_count": null,
   "outputs": [],
   "source": [
    "!python Experiment.py --dataset rt --interaction CSMF --rounds 1 --agg_epochs 5 --density 0.10 --part_type 3"
   ],
   "metadata": {
    "collapsed": false,
    "pycharm": {
     "is_executing": true
    }
   }
  },
  {
   "cell_type": "code",
   "execution_count": null,
   "outputs": [],
   "source": [
    "!python Experiment.py --dataset rt --interaction CSMF --rounds 1 --agg_epochs 5 --density 0.10 --part_type 4"
   ],
   "metadata": {
    "collapsed": false,
    "pycharm": {
     "is_executing": true
    }
   }
  },
  {
   "cell_type": "code",
   "execution_count": null,
   "outputs": [],
   "source": [
    "!python Experiment.py --dataset rt --interaction CSMF --rounds 1 --agg_epochs 5 --density 0.10 --part_type 5"
   ],
   "metadata": {
    "collapsed": false,
    "pycharm": {
     "is_executing": true
    }
   }
  },
  {
   "cell_type": "code",
   "execution_count": null,
   "outputs": [],
   "source": [
    "!python Experiment.py --dataset rt --interaction CSMF --rounds 1 --agg_epochs 5 --density 0.10 --part_type 6"
   ],
   "metadata": {
    "collapsed": false,
    "pycharm": {
     "is_executing": true
    }
   }
  },
  {
   "cell_type": "code",
   "execution_count": null,
   "outputs": [],
   "source": [
    "!python Experiment.py --dataset rt --interaction CSMF --rounds 1 --agg_epochs 5 --density 0.10 --part_type 7"
   ],
   "metadata": {
    "collapsed": false,
    "pycharm": {
     "is_executing": true
    }
   }
  },
  {
   "cell_type": "code",
   "execution_count": null,
   "outputs": [],
   "source": [
    "!python Experiment.py --dataset rt --interaction CSMF --rounds 1 --agg_epochs 5 --density 0.10 --part_type 8"
   ],
   "metadata": {
    "collapsed": false
   }
  },
  {
   "cell_type": "markdown",
   "source": [
    "*****"
   ],
   "metadata": {
    "collapsed": false
   }
  },
  {
   "cell_type": "code",
   "execution_count": null,
   "outputs": [],
   "source": [
    "!python Experiment.py --dataset rt --interaction Pure_Mf --rounds 1 --agg_epochs 5 --density 0.10 --part_type 1"
   ],
   "metadata": {
    "collapsed": false,
    "pycharm": {
     "is_executing": true
    }
   }
  },
  {
   "cell_type": "code",
   "execution_count": null,
   "outputs": [],
   "source": [
    "!python Experiment.py --dataset rt --interaction Pure_Mf --rounds 1 --agg_epochs 5 --density 0.10 --part_type 2"
   ],
   "metadata": {
    "collapsed": false,
    "pycharm": {
     "is_executing": true
    }
   }
  },
  {
   "cell_type": "code",
   "execution_count": null,
   "outputs": [],
   "source": [
    "!python Experiment.py --dataset rt --interaction Pure_Mf --rounds 1 --agg_epochs 5 --density 0.10 --part_type 3"
   ],
   "metadata": {
    "collapsed": false,
    "pycharm": {
     "is_executing": true
    }
   }
  },
  {
   "cell_type": "code",
   "execution_count": null,
   "outputs": [],
   "source": [
    "!python Experiment.py --dataset rt --interaction Pure_Mf --rounds 1 --agg_epochs 5 --density 0.10 --part_type 4"
   ],
   "metadata": {
    "collapsed": false,
    "pycharm": {
     "is_executing": true
    }
   }
  },
  {
   "cell_type": "code",
   "execution_count": null,
   "outputs": [],
   "source": [
    "!python Experiment.py --dataset rt --interaction Pure_Mf --rounds 1 --agg_epochs 5 --density 0.10 --part_type 5"
   ],
   "metadata": {
    "collapsed": false,
    "pycharm": {
     "is_executing": true
    }
   }
  },
  {
   "cell_type": "code",
   "execution_count": null,
   "outputs": [],
   "source": [
    "!python Experiment.py --dataset rt --interaction Pure_Mf --rounds 1 --agg_epochs 5 --density 0.10 --part_type 6"
   ],
   "metadata": {
    "collapsed": false,
    "pycharm": {
     "is_executing": true
    }
   }
  },
  {
   "cell_type": "code",
   "execution_count": null,
   "outputs": [],
   "source": [
    "!python Experiment.py --dataset rt --interaction Pure_Mf --rounds 1 --agg_epochs 5 --density 0.10 --part_type 7"
   ],
   "metadata": {
    "collapsed": false,
    "pycharm": {
     "is_executing": true
    }
   }
  },
  {
   "cell_type": "code",
   "execution_count": null,
   "outputs": [],
   "source": [
    "!python Experiment.py --dataset rt --interaction Pure_Mf --rounds 1 --agg_epochs 5 --density 0.10 --part_type 8"
   ],
   "metadata": {
    "collapsed": false
   }
  },
  {
   "cell_type": "markdown",
   "source": [
    "*****"
   ],
   "metadata": {
    "collapsed": false
   }
  },
  {
   "cell_type": "code",
   "execution_count": null,
   "outputs": [],
   "source": [
    "# !python Experiment.py --dataset rt --interaction GraphMF --rounds 1 --agg_epochs 5 --density 0.10 --part_type 1"
   ],
   "metadata": {
    "collapsed": false,
    "pycharm": {
     "is_executing": true
    }
   }
  },
  {
   "cell_type": "code",
   "execution_count": null,
   "outputs": [],
   "source": [
    "# !python Experiment.py --dataset rt --interaction GraphMF --rounds 1 --agg_epochs 5 --density 0.10 --part_type 2"
   ],
   "metadata": {
    "collapsed": false,
    "pycharm": {
     "is_executing": true
    }
   }
  },
  {
   "cell_type": "code",
   "execution_count": null,
   "outputs": [],
   "source": [
    "# !python Experiment.py --dataset rt --interaction GraphMF --rounds 1 --agg_epochs 5 --density 0.10 --part_type 3"
   ],
   "metadata": {
    "collapsed": false,
    "pycharm": {
     "is_executing": true
    }
   }
  },
  {
   "cell_type": "code",
   "execution_count": null,
   "outputs": [],
   "source": [
    "# !python Experiment.py --dataset rt --interaction GraphMF --rounds 1 --agg_epochs 5 --density 0.10 --part_type 4"
   ],
   "metadata": {
    "collapsed": false,
    "pycharm": {
     "is_executing": true
    }
   }
  },
  {
   "cell_type": "code",
   "execution_count": null,
   "outputs": [],
   "source": [
    "# !python Experiment.py --dataset rt --interaction GraphMF --rounds 1 --agg_epochs 5 --density 0.10 --part_type 5"
   ],
   "metadata": {
    "collapsed": false,
    "pycharm": {
     "is_executing": true
    }
   }
  },
  {
   "cell_type": "code",
   "execution_count": null,
   "outputs": [],
   "source": [
    "# !python Experiment.py --dataset rt --interaction GraphMF --rounds 1 --agg_epochs 5 --density 0.10 --part_type 6"
   ],
   "metadata": {
    "collapsed": false,
    "pycharm": {
     "is_executing": true
    }
   }
  },
  {
   "cell_type": "code",
   "execution_count": null,
   "outputs": [],
   "source": [
    "# !python Experiment.py --dataset rt --interaction GraphMF --rounds 1 --agg_epochs 5 --density 0.10 --part_type 7"
   ],
   "metadata": {
    "collapsed": false,
    "pycharm": {
     "is_executing": true
    }
   }
  },
  {
   "cell_type": "code",
   "execution_count": null,
   "outputs": [],
   "source": [
    "# !python Experiment.py --dataset rt --interaction GraphMF --rounds 1 --agg_epochs 5 --density 0.10 --part_type 8"
   ],
   "metadata": {
    "collapsed": false
   }
  },
  {
   "cell_type": "markdown",
   "source": [
    "*****"
   ],
   "metadata": {
    "collapsed": false
   }
  },
  {
   "cell_type": "markdown",
   "source": [
    "# Desity = 0.15"
   ],
   "metadata": {
    "collapsed": false
   }
  },
  {
   "cell_type": "code",
   "execution_count": null,
   "outputs": [],
   "source": [
    "!python Experiment.py --dataset rt --interaction NeuCF --rounds 1 --agg_epochs 5 --density 0.15 --part_type 1"
   ],
   "metadata": {
    "collapsed": false,
    "pycharm": {
     "is_executing": true
    }
   }
  },
  {
   "cell_type": "code",
   "execution_count": null,
   "outputs": [],
   "source": [
    "!python Experiment.py --dataset rt --interaction NeuCF --rounds 1 --agg_epochs 5 --density 0.15 --part_type 2"
   ],
   "metadata": {
    "collapsed": false,
    "pycharm": {
     "is_executing": true
    }
   }
  },
  {
   "cell_type": "code",
   "execution_count": null,
   "outputs": [],
   "source": [
    "!python Experiment.py --dataset rt --interaction NeuCF --rounds 1 --agg_epochs 5 --density 0.15 --part_type 3"
   ],
   "metadata": {
    "collapsed": false,
    "pycharm": {
     "is_executing": true
    }
   }
  },
  {
   "cell_type": "code",
   "execution_count": null,
   "outputs": [],
   "source": [
    "!python Experiment.py --dataset rt --interaction NeuCF --rounds 1 --agg_epochs 5 --density 0.15 --part_type 4"
   ],
   "metadata": {
    "collapsed": false,
    "pycharm": {
     "is_executing": true
    }
   }
  },
  {
   "cell_type": "code",
   "execution_count": null,
   "outputs": [],
   "source": [
    "!python Experiment.py --dataset rt --interaction NeuCF --rounds 1 --agg_epochs 5 --density 0.15 --part_type 5"
   ],
   "metadata": {
    "collapsed": false,
    "pycharm": {
     "is_executing": true
    }
   }
  },
  {
   "cell_type": "code",
   "execution_count": null,
   "outputs": [],
   "source": [
    "!python Experiment.py --dataset rt --interaction NeuCF --rounds 1 --agg_epochs 5 --density 0.15 --part_type 6"
   ],
   "metadata": {
    "collapsed": false,
    "pycharm": {
     "is_executing": true
    }
   }
  },
  {
   "cell_type": "code",
   "execution_count": null,
   "outputs": [],
   "source": [
    "!python Experiment.py --dataset rt --interaction NeuCF --rounds 1 --agg_epochs 5 --density 0.15 --part_type 7"
   ],
   "metadata": {
    "collapsed": false,
    "pycharm": {
     "is_executing": true
    }
   }
  },
  {
   "cell_type": "code",
   "execution_count": null,
   "outputs": [],
   "source": [
    "!python Experiment.py --dataset rt --interaction NeuCF --rounds 1 --agg_epochs 5 --density 0.15 --part_type 8"
   ],
   "metadata": {
    "collapsed": false
   }
  },
  {
   "cell_type": "markdown",
   "source": [
    "*****"
   ],
   "metadata": {
    "collapsed": false
   }
  },
  {
   "cell_type": "code",
   "execution_count": null,
   "outputs": [],
   "source": [
    "!python Experiment.py --dataset rt --interaction CSMF --rounds 1 --agg_epochs 5 --density 0.15 --part_type 1"
   ],
   "metadata": {
    "collapsed": false,
    "pycharm": {
     "is_executing": true
    }
   }
  },
  {
   "cell_type": "code",
   "execution_count": null,
   "outputs": [],
   "source": [
    "!python Experiment.py --dataset rt --interaction CSMF --rounds 1 --agg_epochs 5 --density 0.15 --part_type 2"
   ],
   "metadata": {
    "collapsed": false,
    "pycharm": {
     "is_executing": true
    }
   }
  },
  {
   "cell_type": "code",
   "execution_count": null,
   "outputs": [],
   "source": [
    "!python Experiment.py --dataset rt --interaction CSMF --rounds 1 --agg_epochs 5 --density 0.15 --part_type 3"
   ],
   "metadata": {
    "collapsed": false,
    "pycharm": {
     "is_executing": true
    }
   }
  },
  {
   "cell_type": "code",
   "execution_count": null,
   "outputs": [],
   "source": [
    "!python Experiment.py --dataset rt --interaction CSMF --rounds 1 --agg_epochs 5 --density 0.15 --part_type 4"
   ],
   "metadata": {
    "collapsed": false,
    "pycharm": {
     "is_executing": true
    }
   }
  },
  {
   "cell_type": "code",
   "execution_count": null,
   "outputs": [],
   "source": [
    "!python Experiment.py --dataset rt --interaction CSMF --rounds 1 --agg_epochs 5 --density 0.15 --part_type 5"
   ],
   "metadata": {
    "collapsed": false,
    "pycharm": {
     "is_executing": true
    }
   }
  },
  {
   "cell_type": "code",
   "execution_count": null,
   "outputs": [],
   "source": [
    "!python Experiment.py --dataset rt --interaction CSMF --rounds 1 --agg_epochs 5 --density 0.15 --part_type 6"
   ],
   "metadata": {
    "collapsed": false,
    "pycharm": {
     "is_executing": true
    }
   }
  },
  {
   "cell_type": "code",
   "execution_count": null,
   "outputs": [],
   "source": [
    "!python Experiment.py --dataset rt --interaction CSMF --rounds 1 --agg_epochs 5 --density 0.15 --part_type 7"
   ],
   "metadata": {
    "collapsed": false,
    "pycharm": {
     "is_executing": true
    }
   }
  },
  {
   "cell_type": "code",
   "execution_count": null,
   "outputs": [],
   "source": [
    "!python Experiment.py --dataset rt --interaction CSMF --rounds 1 --agg_epochs 5 --density 0.15 --part_type 8"
   ],
   "metadata": {
    "collapsed": false
   }
  },
  {
   "cell_type": "markdown",
   "source": [
    "*****"
   ],
   "metadata": {
    "collapsed": false
   }
  },
  {
   "cell_type": "code",
   "execution_count": null,
   "outputs": [],
   "source": [
    "!python Experiment.py --dataset rt --interaction Pure_Mf --rounds 1 --agg_epochs 5 --density 0.15 --part_type 1"
   ],
   "metadata": {
    "collapsed": false,
    "pycharm": {
     "is_executing": true
    }
   }
  },
  {
   "cell_type": "code",
   "execution_count": null,
   "outputs": [],
   "source": [
    "!python Experiment.py --dataset rt --interaction Pure_Mf --rounds 1 --agg_epochs 5 --density 0.15 --part_type 2"
   ],
   "metadata": {
    "collapsed": false,
    "pycharm": {
     "is_executing": true
    }
   }
  },
  {
   "cell_type": "code",
   "execution_count": null,
   "outputs": [],
   "source": [
    "!python Experiment.py --dataset rt --interaction Pure_Mf --rounds 1 --agg_epochs 5 --density 0.15 --part_type 3"
   ],
   "metadata": {
    "collapsed": false,
    "pycharm": {
     "is_executing": true
    }
   }
  },
  {
   "cell_type": "code",
   "execution_count": null,
   "outputs": [],
   "source": [
    "!python Experiment.py --dataset rt --interaction Pure_Mf --rounds 1 --agg_epochs 5 --density 0.15 --part_type 4"
   ],
   "metadata": {
    "collapsed": false,
    "pycharm": {
     "is_executing": true
    }
   }
  },
  {
   "cell_type": "code",
   "execution_count": null,
   "outputs": [],
   "source": [
    "!python Experiment.py --dataset rt --interaction Pure_Mf --rounds 1 --agg_epochs 5 --density 0.15 --part_type 5"
   ],
   "metadata": {
    "collapsed": false,
    "pycharm": {
     "is_executing": true
    }
   }
  },
  {
   "cell_type": "code",
   "execution_count": null,
   "outputs": [],
   "source": [
    "!python Experiment.py --dataset rt --interaction Pure_Mf --rounds 1 --agg_epochs 5 --density 0.15 --part_type 6"
   ],
   "metadata": {
    "collapsed": false,
    "pycharm": {
     "is_executing": true
    }
   }
  },
  {
   "cell_type": "code",
   "execution_count": null,
   "outputs": [],
   "source": [
    "!python Experiment.py --dataset rt --interaction Pure_Mf --rounds 1 --agg_epochs 5 --density 0.15 --part_type 7"
   ],
   "metadata": {
    "collapsed": false,
    "pycharm": {
     "is_executing": true
    }
   }
  },
  {
   "cell_type": "code",
   "execution_count": null,
   "outputs": [],
   "source": [
    "!python Experiment.py --dataset rt --interaction Pure_Mf --rounds 1 --agg_epochs 5 --density 0.15 --part_type 8"
   ],
   "metadata": {
    "collapsed": false
   }
  },
  {
   "cell_type": "markdown",
   "source": [
    "*****"
   ],
   "metadata": {
    "collapsed": false
   }
  },
  {
   "cell_type": "code",
   "execution_count": null,
   "outputs": [],
   "source": [
    "!python Experiment.py --dataset rt --interaction GraphMF --rounds 1 --agg_epochs 5 --density 0.15 --part_type 1"
   ],
   "metadata": {
    "collapsed": false,
    "pycharm": {
     "is_executing": true
    }
   }
  },
  {
   "cell_type": "code",
   "execution_count": null,
   "outputs": [],
   "source": [
    "!python Experiment.py --dataset rt --interaction GraphMF --rounds 1 --agg_epochs 5 --density 0.15 --part_type 2"
   ],
   "metadata": {
    "collapsed": false,
    "pycharm": {
     "is_executing": true
    }
   }
  },
  {
   "cell_type": "code",
   "execution_count": null,
   "outputs": [],
   "source": [
    "!python Experiment.py --dataset rt --interaction GraphMF --rounds 1 --agg_epochs 5 --density 0.15 --part_type 3"
   ],
   "metadata": {
    "collapsed": false,
    "pycharm": {
     "is_executing": true
    }
   }
  },
  {
   "cell_type": "code",
   "execution_count": null,
   "outputs": [],
   "source": [
    "!python Experiment.py --dataset rt --interaction GraphMF --rounds 1 --agg_epochs 5 --density 0.15 --part_type 4"
   ],
   "metadata": {
    "collapsed": false,
    "pycharm": {
     "is_executing": true
    }
   }
  },
  {
   "cell_type": "code",
   "execution_count": null,
   "outputs": [],
   "source": [
    "!python Experiment.py --dataset rt --interaction GraphMF --rounds 1 --agg_epochs 5 --density 0.15 --part_type 5"
   ],
   "metadata": {
    "collapsed": false,
    "pycharm": {
     "is_executing": true
    }
   }
  },
  {
   "cell_type": "code",
   "execution_count": null,
   "outputs": [],
   "source": [
    "!python Experiment.py --dataset rt --interaction GraphMF --rounds 1 --agg_epochs 5 --density 0.15 --part_type 6"
   ],
   "metadata": {
    "collapsed": false,
    "pycharm": {
     "is_executing": true
    }
   }
  },
  {
   "cell_type": "code",
   "execution_count": null,
   "outputs": [],
   "source": [
    "!python Experiment.py --dataset rt --interaction GraphMF --rounds 1 --agg_epochs 5 --density 0.15 --part_type 7"
   ],
   "metadata": {
    "collapsed": false,
    "pycharm": {
     "is_executing": true
    }
   }
  },
  {
   "cell_type": "code",
   "execution_count": null,
   "outputs": [],
   "source": [
    "!python Experiment.py --dataset rt --interaction GraphMF --rounds 1 --agg_epochs 5 --density 0.15 --part_type 8"
   ],
   "metadata": {
    "collapsed": false
   }
  },
  {
   "cell_type": "markdown",
   "source": [
    "*****"
   ],
   "metadata": {
    "collapsed": false
   }
  },
  {
   "cell_type": "markdown",
   "source": [
    "# Desity = 0.20"
   ],
   "metadata": {
    "collapsed": false
   }
  },
  {
   "cell_type": "code",
   "execution_count": null,
   "outputs": [],
   "source": [
    "!python Experiment.py --dataset rt --interaction NeuCF --rounds 1 --agg_epochs 5 --density 0.20 --part_type 1"
   ],
   "metadata": {
    "collapsed": false,
    "pycharm": {
     "is_executing": true
    }
   }
  },
  {
   "cell_type": "code",
   "execution_count": null,
   "outputs": [],
   "source": [
    "!python Experiment.py --dataset rt --interaction NeuCF --rounds 1 --agg_epochs 5 --density 0.20 --part_type 2"
   ],
   "metadata": {
    "collapsed": false,
    "pycharm": {
     "is_executing": true
    }
   }
  },
  {
   "cell_type": "code",
   "execution_count": null,
   "outputs": [],
   "source": [
    "!python Experiment.py --dataset rt --interaction NeuCF --rounds 1 --agg_epochs 5 --density 0.20 --part_type 3"
   ],
   "metadata": {
    "collapsed": false,
    "pycharm": {
     "is_executing": true
    }
   }
  },
  {
   "cell_type": "code",
   "execution_count": null,
   "outputs": [],
   "source": [
    "!python Experiment.py --dataset rt --interaction NeuCF --rounds 1 --agg_epochs 5 --density 0.20 --part_type 4"
   ],
   "metadata": {
    "collapsed": false,
    "pycharm": {
     "is_executing": true
    }
   }
  },
  {
   "cell_type": "code",
   "execution_count": null,
   "outputs": [],
   "source": [
    "!python Experiment.py --dataset rt --interaction NeuCF --rounds 1 --agg_epochs 5 --density 0.20 --part_type 5"
   ],
   "metadata": {
    "collapsed": false,
    "pycharm": {
     "is_executing": true
    }
   }
  },
  {
   "cell_type": "code",
   "execution_count": null,
   "outputs": [],
   "source": [
    "!python Experiment.py --dataset rt --interaction NeuCF --rounds 1 --agg_epochs 5 --density 0.20 --part_type 6"
   ],
   "metadata": {
    "collapsed": false,
    "pycharm": {
     "is_executing": true
    }
   }
  },
  {
   "cell_type": "code",
   "execution_count": null,
   "outputs": [],
   "source": [
    "!python Experiment.py --dataset rt --interaction NeuCF --rounds 1 --agg_epochs 5 --density 0.20 --part_type 7"
   ],
   "metadata": {
    "collapsed": false,
    "pycharm": {
     "is_executing": true
    }
   }
  },
  {
   "cell_type": "code",
   "execution_count": null,
   "outputs": [],
   "source": [
    "!python Experiment.py --dataset rt --interaction NeuCF --rounds 1 --agg_epochs 5 --density 0.20 --part_type 8"
   ],
   "metadata": {
    "collapsed": false
   }
  },
  {
   "cell_type": "markdown",
   "source": [
    "*****"
   ],
   "metadata": {
    "collapsed": false
   }
  },
  {
   "cell_type": "code",
   "execution_count": null,
   "outputs": [],
   "source": [
    "!python Experiment.py --dataset rt --interaction CSMF --rounds 1 --agg_epochs 5 --density 0.20 --part_type 1"
   ],
   "metadata": {
    "collapsed": false,
    "pycharm": {
     "is_executing": true
    }
   }
  },
  {
   "cell_type": "code",
   "execution_count": null,
   "outputs": [],
   "source": [
    "!python Experiment.py --dataset rt --interaction CSMF --rounds 1 --agg_epochs 5 --density 0.20 --part_type 2"
   ],
   "metadata": {
    "collapsed": false,
    "pycharm": {
     "is_executing": true
    }
   }
  },
  {
   "cell_type": "code",
   "execution_count": null,
   "outputs": [],
   "source": [
    "!python Experiment.py --dataset rt --interaction CSMF --rounds 1 --agg_epochs 5 --density 0.20 --part_type 3"
   ],
   "metadata": {
    "collapsed": false,
    "pycharm": {
     "is_executing": true
    }
   }
  },
  {
   "cell_type": "code",
   "execution_count": null,
   "outputs": [],
   "source": [
    "!python Experiment.py --dataset rt --interaction CSMF --rounds 1 --agg_epochs 5 --density 0.20 --part_type 4"
   ],
   "metadata": {
    "collapsed": false,
    "pycharm": {
     "is_executing": true
    }
   }
  },
  {
   "cell_type": "code",
   "execution_count": null,
   "outputs": [],
   "source": [
    "!python Experiment.py --dataset rt --interaction CSMF --rounds 1 --agg_epochs 5 --density 0.20 --part_type 5"
   ],
   "metadata": {
    "collapsed": false,
    "pycharm": {
     "is_executing": true
    }
   }
  },
  {
   "cell_type": "code",
   "execution_count": null,
   "outputs": [],
   "source": [
    "!python Experiment.py --dataset rt --interaction CSMF --rounds 1 --agg_epochs 5 --density 0.20 --part_type 6"
   ],
   "metadata": {
    "collapsed": false,
    "pycharm": {
     "is_executing": true
    }
   }
  },
  {
   "cell_type": "code",
   "execution_count": null,
   "outputs": [],
   "source": [
    "!python Experiment.py --dataset rt --interaction CSMF --rounds 1 --agg_epochs 5 --density 0.20 --part_type 7"
   ],
   "metadata": {
    "collapsed": false,
    "pycharm": {
     "is_executing": true
    }
   }
  },
  {
   "cell_type": "code",
   "execution_count": null,
   "outputs": [],
   "source": [
    "!python Experiment.py --dataset rt --interaction CSMF --rounds 1 --agg_epochs 5 --density 0.20 --part_type 8"
   ],
   "metadata": {
    "collapsed": false
   }
  },
  {
   "cell_type": "markdown",
   "source": [
    "*****"
   ],
   "metadata": {
    "collapsed": false
   }
  },
  {
   "cell_type": "code",
   "execution_count": null,
   "outputs": [],
   "source": [
    "!python Experiment.py --dataset rt --interaction Pure_Mf --rounds 1 --agg_epochs 5 --density 0.20 --part_type 1"
   ],
   "metadata": {
    "collapsed": false,
    "pycharm": {
     "is_executing": true
    }
   }
  },
  {
   "cell_type": "code",
   "execution_count": null,
   "outputs": [],
   "source": [
    "!python Experiment.py --dataset rt --interaction Pure_Mf --rounds 1 --agg_epochs 5 --density 0.20 --part_type 2"
   ],
   "metadata": {
    "collapsed": false,
    "pycharm": {
     "is_executing": true
    }
   }
  },
  {
   "cell_type": "code",
   "execution_count": null,
   "outputs": [],
   "source": [
    "!python Experiment.py --dataset rt --interaction Pure_Mf --rounds 1 --agg_epochs 5 --density 0.20 --part_type 3"
   ],
   "metadata": {
    "collapsed": false,
    "pycharm": {
     "is_executing": true
    }
   }
  },
  {
   "cell_type": "code",
   "execution_count": null,
   "outputs": [],
   "source": [
    "!python Experiment.py --dataset rt --interaction Pure_Mf --rounds 1 --agg_epochs 5 --density 0.20 --part_type 4"
   ],
   "metadata": {
    "collapsed": false,
    "pycharm": {
     "is_executing": true
    }
   }
  },
  {
   "cell_type": "code",
   "execution_count": null,
   "outputs": [],
   "source": [
    "!python Experiment.py --dataset rt --interaction Pure_Mf --rounds 1 --agg_epochs 5 --density 0.20 --part_type 5"
   ],
   "metadata": {
    "collapsed": false,
    "pycharm": {
     "is_executing": true
    }
   }
  },
  {
   "cell_type": "code",
   "execution_count": null,
   "outputs": [],
   "source": [
    "!python Experiment.py --dataset rt --interaction Pure_Mf --rounds 1 --agg_epochs 5 --density 0.20 --part_type 6"
   ],
   "metadata": {
    "collapsed": false,
    "pycharm": {
     "is_executing": true
    }
   }
  },
  {
   "cell_type": "code",
   "execution_count": null,
   "outputs": [],
   "source": [
    "!python Experiment.py --dataset rt --interaction Pure_Mf --rounds 1 --agg_epochs 5 --density 0.20 --part_type 7"
   ],
   "metadata": {
    "collapsed": false,
    "pycharm": {
     "is_executing": true
    }
   }
  },
  {
   "cell_type": "code",
   "execution_count": null,
   "outputs": [],
   "source": [
    "!python Experiment.py --dataset rt --interaction Pure_Mf --rounds 1 --agg_epochs 5 --density 0.20 --part_type 8"
   ],
   "metadata": {
    "collapsed": false
   }
  },
  {
   "cell_type": "markdown",
   "source": [
    "*****"
   ],
   "metadata": {
    "collapsed": false
   }
  },
  {
   "cell_type": "code",
   "execution_count": null,
   "outputs": [],
   "source": [
    "!python Experiment.py --dataset rt --interaction GraphMF --rounds 1 --agg_epochs 5 --density 0.20 --part_type 1"
   ],
   "metadata": {
    "collapsed": false,
    "pycharm": {
     "is_executing": true
    }
   }
  },
  {
   "cell_type": "code",
   "execution_count": null,
   "outputs": [],
   "source": [
    "!python Experiment.py --dataset rt --interaction GraphMF --rounds 1 --agg_epochs 5 --density 0.20 --part_type 2"
   ],
   "metadata": {
    "collapsed": false,
    "pycharm": {
     "is_executing": true
    }
   }
  },
  {
   "cell_type": "code",
   "execution_count": null,
   "outputs": [],
   "source": [
    "!python Experiment.py --dataset rt --interaction GraphMF --rounds 1 --agg_epochs 5 --density 0.20 --part_type 3"
   ],
   "metadata": {
    "collapsed": false,
    "pycharm": {
     "is_executing": true
    }
   }
  },
  {
   "cell_type": "code",
   "execution_count": null,
   "outputs": [],
   "source": [
    "!python Experiment.py --dataset rt --interaction GraphMF --rounds 1 --agg_epochs 5 --density 0.20 --part_type 4"
   ],
   "metadata": {
    "collapsed": false,
    "pycharm": {
     "is_executing": true
    }
   }
  },
  {
   "cell_type": "code",
   "execution_count": null,
   "outputs": [],
   "source": [
    "!python Experiment.py --dataset rt --interaction GraphMF --rounds 1 --agg_epochs 5 --density 0.20 --part_type 5"
   ],
   "metadata": {
    "collapsed": false,
    "pycharm": {
     "is_executing": true
    }
   }
  },
  {
   "cell_type": "code",
   "execution_count": null,
   "outputs": [],
   "source": [
    "!python Experiment.py --dataset rt --interaction GraphMF --rounds 1 --agg_epochs 5 --density 0.20 --part_type 6"
   ],
   "metadata": {
    "collapsed": false,
    "pycharm": {
     "is_executing": true
    }
   }
  },
  {
   "cell_type": "code",
   "execution_count": null,
   "outputs": [],
   "source": [
    "!python Experiment.py --dataset rt --interaction GraphMF --rounds 1 --agg_epochs 5 --density 0.20 --part_type 7"
   ],
   "metadata": {
    "collapsed": false,
    "pycharm": {
     "is_executing": true
    }
   }
  },
  {
   "cell_type": "code",
   "execution_count": null,
   "outputs": [],
   "source": [
    "!python Experiment.py --dataset rt --interaction GraphMF --rounds 1 --agg_epochs 5 --density 0.20 --part_type 8"
   ],
   "metadata": {
    "collapsed": false
   }
  },
  {
   "cell_type": "markdown",
   "source": [
    "*****"
   ],
   "metadata": {
    "collapsed": false
   }
  },
  {
   "cell_type": "markdown",
   "source": [
    "# Desity = 0.25"
   ],
   "metadata": {
    "collapsed": false
   }
  },
  {
   "cell_type": "code",
   "execution_count": null,
   "outputs": [],
   "source": [
    "!python Experiment.py --dataset rt --interaction NeuCF --rounds 1 --agg_epochs 5 --density 0.25 --part_type 1"
   ],
   "metadata": {
    "collapsed": false,
    "pycharm": {
     "is_executing": true
    }
   }
  },
  {
   "cell_type": "code",
   "execution_count": null,
   "outputs": [],
   "source": [
    "!python Experiment.py --dataset rt --interaction NeuCF --rounds 1 --agg_epochs 5 --density 0.25 --part_type 2"
   ],
   "metadata": {
    "collapsed": false,
    "pycharm": {
     "is_executing": true
    }
   }
  },
  {
   "cell_type": "code",
   "execution_count": null,
   "outputs": [],
   "source": [
    "!python Experiment.py --dataset rt --interaction NeuCF --rounds 1 --agg_epochs 5 --density 0.25 --part_type 3"
   ],
   "metadata": {
    "collapsed": false,
    "pycharm": {
     "is_executing": true
    }
   }
  },
  {
   "cell_type": "code",
   "execution_count": null,
   "outputs": [],
   "source": [
    "!python Experiment.py --dataset rt --interaction NeuCF --rounds 1 --agg_epochs 5 --density 0.25 --part_type 4"
   ],
   "metadata": {
    "collapsed": false,
    "pycharm": {
     "is_executing": true
    }
   }
  },
  {
   "cell_type": "code",
   "execution_count": null,
   "outputs": [],
   "source": [
    "!python Experiment.py --dataset rt --interaction NeuCF --rounds 1 --agg_epochs 5 --density 0.25 --part_type 5"
   ],
   "metadata": {
    "collapsed": false,
    "pycharm": {
     "is_executing": true
    }
   }
  },
  {
   "cell_type": "code",
   "execution_count": null,
   "outputs": [],
   "source": [
    "!python Experiment.py --dataset rt --interaction NeuCF --rounds 1 --agg_epochs 5 --density 0.25 --part_type 6"
   ],
   "metadata": {
    "collapsed": false,
    "pycharm": {
     "is_executing": true
    }
   }
  },
  {
   "cell_type": "code",
   "execution_count": null,
   "outputs": [],
   "source": [
    "!python Experiment.py --dataset rt --interaction NeuCF --rounds 1 --agg_epochs 5 --density 0.25 --part_type 7"
   ],
   "metadata": {
    "collapsed": false,
    "pycharm": {
     "is_executing": true
    }
   }
  },
  {
   "cell_type": "code",
   "execution_count": null,
   "outputs": [],
   "source": [
    "!python Experiment.py --dataset rt --interaction NeuCF --rounds 1 --agg_epochs 5 --density 0.25 --part_type 8"
   ],
   "metadata": {
    "collapsed": false
   }
  },
  {
   "cell_type": "markdown",
   "source": [
    "*****"
   ],
   "metadata": {
    "collapsed": false
   }
  },
  {
   "cell_type": "code",
   "execution_count": null,
   "outputs": [],
   "source": [
    "!python Experiment.py --dataset rt --interaction CSMF --rounds 1 --agg_epochs 5 --density 0.25 --part_type 1"
   ],
   "metadata": {
    "collapsed": false,
    "pycharm": {
     "is_executing": true
    }
   }
  },
  {
   "cell_type": "code",
   "execution_count": null,
   "outputs": [],
   "source": [
    "!python Experiment.py --dataset rt --interaction CSMF --rounds 1 --agg_epochs 5 --density 0.25 --part_type 2"
   ],
   "metadata": {
    "collapsed": false,
    "pycharm": {
     "is_executing": true
    }
   }
  },
  {
   "cell_type": "code",
   "execution_count": null,
   "outputs": [],
   "source": [
    "!python Experiment.py --dataset rt --interaction CSMF --rounds 1 --agg_epochs 5 --density 0.25 --part_type 3"
   ],
   "metadata": {
    "collapsed": false,
    "pycharm": {
     "is_executing": true
    }
   }
  },
  {
   "cell_type": "code",
   "execution_count": null,
   "outputs": [],
   "source": [
    "!python Experiment.py --dataset rt --interaction CSMF --rounds 1 --agg_epochs 5 --density 0.25 --part_type 4"
   ],
   "metadata": {
    "collapsed": false,
    "pycharm": {
     "is_executing": true
    }
   }
  },
  {
   "cell_type": "code",
   "execution_count": null,
   "outputs": [],
   "source": [
    "!python Experiment.py --dataset rt --interaction CSMF --rounds 1 --agg_epochs 5 --density 0.25 --part_type 5"
   ],
   "metadata": {
    "collapsed": false,
    "pycharm": {
     "is_executing": true
    }
   }
  },
  {
   "cell_type": "code",
   "execution_count": null,
   "outputs": [],
   "source": [
    "!python Experiment.py --dataset rt --interaction CSMF --rounds 1 --agg_epochs 5 --density 0.25 --part_type 6"
   ],
   "metadata": {
    "collapsed": false,
    "pycharm": {
     "is_executing": true
    }
   }
  },
  {
   "cell_type": "code",
   "execution_count": null,
   "outputs": [],
   "source": [
    "!python Experiment.py --dataset rt --interaction CSMF --rounds 1 --agg_epochs 5 --density 0.25 --part_type 7"
   ],
   "metadata": {
    "collapsed": false,
    "pycharm": {
     "is_executing": true
    }
   }
  },
  {
   "cell_type": "code",
   "execution_count": null,
   "outputs": [],
   "source": [
    "!python Experiment.py --dataset rt --interaction CSMF --rounds 1 --agg_epochs 5 --density 0.25 --part_type 8"
   ],
   "metadata": {
    "collapsed": false
   }
  },
  {
   "cell_type": "markdown",
   "source": [
    "*****"
   ],
   "metadata": {
    "collapsed": false
   }
  },
  {
   "cell_type": "code",
   "execution_count": null,
   "outputs": [],
   "source": [
    "!python Experiment.py --dataset rt --interaction Pure_Mf --rounds 1 --agg_epochs 5 --density 0.25 --part_type 1"
   ],
   "metadata": {
    "collapsed": false,
    "pycharm": {
     "is_executing": true
    }
   }
  },
  {
   "cell_type": "code",
   "execution_count": null,
   "outputs": [],
   "source": [
    "!python Experiment.py --dataset rt --interaction Pure_Mf --rounds 1 --agg_epochs 5 --density 0.25 --part_type 2"
   ],
   "metadata": {
    "collapsed": false,
    "pycharm": {
     "is_executing": true
    }
   }
  },
  {
   "cell_type": "code",
   "execution_count": null,
   "outputs": [],
   "source": [
    "!python Experiment.py --dataset rt --interaction Pure_Mf --rounds 1 --agg_epochs 5 --density 0.25 --part_type 3"
   ],
   "metadata": {
    "collapsed": false,
    "pycharm": {
     "is_executing": true
    }
   }
  },
  {
   "cell_type": "code",
   "execution_count": null,
   "outputs": [],
   "source": [
    "!python Experiment.py --dataset rt --interaction Pure_Mf --rounds 1 --agg_epochs 5 --density 0.25 --part_type 4"
   ],
   "metadata": {
    "collapsed": false,
    "pycharm": {
     "is_executing": true
    }
   }
  },
  {
   "cell_type": "code",
   "execution_count": null,
   "outputs": [],
   "source": [
    "!python Experiment.py --dataset rt --interaction Pure_Mf --rounds 1 --agg_epochs 5 --density 0.25 --part_type 5"
   ],
   "metadata": {
    "collapsed": false,
    "pycharm": {
     "is_executing": true
    }
   }
  },
  {
   "cell_type": "code",
   "execution_count": null,
   "outputs": [],
   "source": [
    "!python Experiment.py --dataset rt --interaction Pure_Mf --rounds 1 --agg_epochs 5 --density 0.25 --part_type 6"
   ],
   "metadata": {
    "collapsed": false,
    "pycharm": {
     "is_executing": true
    }
   }
  },
  {
   "cell_type": "code",
   "execution_count": null,
   "outputs": [],
   "source": [
    "!python Experiment.py --dataset rt --interaction Pure_Mf --rounds 1 --agg_epochs 5 --density 0.25 --part_type 7"
   ],
   "metadata": {
    "collapsed": false,
    "pycharm": {
     "is_executing": true
    }
   }
  },
  {
   "cell_type": "code",
   "execution_count": null,
   "outputs": [],
   "source": [
    "!python Experiment.py --dataset rt --interaction Pure_Mf --rounds 1 --agg_epochs 5 --density 0.25 --part_type 8"
   ],
   "metadata": {
    "collapsed": false
   }
  },
  {
   "cell_type": "markdown",
   "source": [
    "*****"
   ],
   "metadata": {
    "collapsed": false
   }
  },
  {
   "cell_type": "code",
   "execution_count": null,
   "outputs": [],
   "source": [
    "!python Experiment.py --dataset rt --interaction GraphMF --rounds 1 --agg_epochs 5 --density 0.25 --part_type 1"
   ],
   "metadata": {
    "collapsed": false,
    "pycharm": {
     "is_executing": true
    }
   }
  },
  {
   "cell_type": "code",
   "execution_count": null,
   "outputs": [],
   "source": [
    "!python Experiment.py --dataset rt --interaction GraphMF --rounds 1 --agg_epochs 5 --density 0.25 --part_type 2"
   ],
   "metadata": {
    "collapsed": false,
    "pycharm": {
     "is_executing": true
    }
   }
  },
  {
   "cell_type": "code",
   "execution_count": null,
   "outputs": [],
   "source": [
    "!python Experiment.py --dataset rt --interaction GraphMF --rounds 1 --agg_epochs 5 --density 0.25 --part_type 3"
   ],
   "metadata": {
    "collapsed": false,
    "pycharm": {
     "is_executing": true
    }
   }
  },
  {
   "cell_type": "code",
   "execution_count": null,
   "outputs": [],
   "source": [
    "!python Experiment.py --dataset rt --interaction GraphMF --rounds 1 --agg_epochs 5 --density 0.25 --part_type 4"
   ],
   "metadata": {
    "collapsed": false,
    "pycharm": {
     "is_executing": true
    }
   }
  },
  {
   "cell_type": "code",
   "execution_count": null,
   "outputs": [],
   "source": [
    "!python Experiment.py --dataset rt --interaction GraphMF --rounds 1 --agg_epochs 5 --density 0.25 --part_type 5"
   ],
   "metadata": {
    "collapsed": false,
    "pycharm": {
     "is_executing": true
    }
   }
  },
  {
   "cell_type": "code",
   "execution_count": null,
   "outputs": [],
   "source": [
    "!python Experiment.py --dataset rt --interaction GraphMF --rounds 1 --agg_epochs 5 --density 0.25 --part_type 6"
   ],
   "metadata": {
    "collapsed": false,
    "pycharm": {
     "is_executing": true
    }
   }
  },
  {
   "cell_type": "code",
   "execution_count": null,
   "outputs": [],
   "source": [
    "!python Experiment.py --dataset rt --interaction GraphMF --rounds 1 --agg_epochs 5 --density 0.25 --part_type 7"
   ],
   "metadata": {
    "collapsed": false,
    "pycharm": {
     "is_executing": true
    }
   }
  },
  {
   "cell_type": "code",
   "execution_count": null,
   "outputs": [],
   "source": [
    "!python Experiment.py --dataset rt --interaction GraphMF --rounds 1 --agg_epochs 5 --density 0.25 --part_type 8"
   ],
   "metadata": {
    "collapsed": false
   }
  },
  {
   "cell_type": "markdown",
   "source": [
    "*****"
   ],
   "metadata": {
    "collapsed": false
   }
  },
  {
   "cell_type": "markdown",
   "source": [
    "# Desity = 0.30"
   ],
   "metadata": {
    "collapsed": false
   }
  },
  {
   "cell_type": "code",
   "execution_count": null,
   "outputs": [],
   "source": [
    "!python Experiment.py --dataset rt --interaction NeuCF --rounds 1 --agg_epochs 5 --density 0.30 --part_type 1"
   ],
   "metadata": {
    "collapsed": false,
    "pycharm": {
     "is_executing": true
    }
   }
  },
  {
   "cell_type": "code",
   "execution_count": null,
   "outputs": [],
   "source": [
    "!python Experiment.py --dataset rt --interaction NeuCF --rounds 1 --agg_epochs 5 --density 0.30 --part_type 2"
   ],
   "metadata": {
    "collapsed": false,
    "pycharm": {
     "is_executing": true
    }
   }
  },
  {
   "cell_type": "code",
   "execution_count": null,
   "outputs": [],
   "source": [
    "!python Experiment.py --dataset rt --interaction NeuCF --rounds 1 --agg_epochs 5 --density 0.30 --part_type 3"
   ],
   "metadata": {
    "collapsed": false,
    "pycharm": {
     "is_executing": true
    }
   }
  },
  {
   "cell_type": "code",
   "execution_count": null,
   "outputs": [],
   "source": [
    "!python Experiment.py --dataset rt --interaction NeuCF --rounds 1 --agg_epochs 5 --density 0.30 --part_type 4"
   ],
   "metadata": {
    "collapsed": false,
    "pycharm": {
     "is_executing": true
    }
   }
  },
  {
   "cell_type": "code",
   "execution_count": null,
   "outputs": [],
   "source": [
    "!python Experiment.py --dataset rt --interaction NeuCF --rounds 1 --agg_epochs 5 --density 0.30 --part_type 5"
   ],
   "metadata": {
    "collapsed": false,
    "pycharm": {
     "is_executing": true
    }
   }
  },
  {
   "cell_type": "code",
   "execution_count": null,
   "outputs": [],
   "source": [
    "!python Experiment.py --dataset rt --interaction NeuCF --rounds 1 --agg_epochs 5 --density 0.30 --part_type 6"
   ],
   "metadata": {
    "collapsed": false,
    "pycharm": {
     "is_executing": true
    }
   }
  },
  {
   "cell_type": "code",
   "execution_count": null,
   "outputs": [],
   "source": [
    "!python Experiment.py --dataset rt --interaction NeuCF --rounds 1 --agg_epochs 5 --density 0.30 --part_type 7"
   ],
   "metadata": {
    "collapsed": false,
    "pycharm": {
     "is_executing": true
    }
   }
  },
  {
   "cell_type": "code",
   "execution_count": null,
   "outputs": [],
   "source": [
    "!python Experiment.py --dataset rt --interaction NeuCF --rounds 1 --agg_epochs 5 --density 0.30 --part_type 8"
   ],
   "metadata": {
    "collapsed": false
   }
  },
  {
   "cell_type": "markdown",
   "source": [
    "*****"
   ],
   "metadata": {
    "collapsed": false
   }
  },
  {
   "cell_type": "code",
   "execution_count": null,
   "outputs": [],
   "source": [
    "!python Experiment.py --dataset rt --interaction CSMF --rounds 1 --agg_epochs 5 --density 0.30 --part_type 1"
   ],
   "metadata": {
    "collapsed": false,
    "pycharm": {
     "is_executing": true
    }
   }
  },
  {
   "cell_type": "code",
   "execution_count": null,
   "outputs": [],
   "source": [
    "!python Experiment.py --dataset rt --interaction CSMF --rounds 1 --agg_epochs 5 --density 0.30 --part_type 2"
   ],
   "metadata": {
    "collapsed": false,
    "pycharm": {
     "is_executing": true
    }
   }
  },
  {
   "cell_type": "code",
   "execution_count": null,
   "outputs": [],
   "source": [
    "!python Experiment.py --dataset rt --interaction CSMF --rounds 1 --agg_epochs 5 --density 0.30 --part_type 3"
   ],
   "metadata": {
    "collapsed": false,
    "pycharm": {
     "is_executing": true
    }
   }
  },
  {
   "cell_type": "code",
   "execution_count": null,
   "outputs": [],
   "source": [
    "!python Experiment.py --dataset rt --interaction CSMF --rounds 1 --agg_epochs 5 --density 0.30 --part_type 4"
   ],
   "metadata": {
    "collapsed": false,
    "pycharm": {
     "is_executing": true
    }
   }
  },
  {
   "cell_type": "code",
   "execution_count": null,
   "outputs": [],
   "source": [
    "!python Experiment.py --dataset rt --interaction CSMF --rounds 1 --agg_epochs 5 --density 0.30 --part_type 5"
   ],
   "metadata": {
    "collapsed": false,
    "pycharm": {
     "is_executing": true
    }
   }
  },
  {
   "cell_type": "code",
   "execution_count": null,
   "outputs": [],
   "source": [
    "!python Experiment.py --dataset rt --interaction CSMF --rounds 1 --agg_epochs 5 --density 0.30 --part_type 6"
   ],
   "metadata": {
    "collapsed": false,
    "pycharm": {
     "is_executing": true
    }
   }
  },
  {
   "cell_type": "code",
   "execution_count": null,
   "outputs": [],
   "source": [
    "!python Experiment.py --dataset rt --interaction CSMF --rounds 1 --agg_epochs 5 --density 0.30 --part_type 7"
   ],
   "metadata": {
    "collapsed": false,
    "pycharm": {
     "is_executing": true
    }
   }
  },
  {
   "cell_type": "code",
   "execution_count": null,
   "outputs": [],
   "source": [
    "!python Experiment.py --dataset rt --interaction CSMF --rounds 1 --agg_epochs 5 --density 0.30 --part_type 8"
   ],
   "metadata": {
    "collapsed": false
   }
  },
  {
   "cell_type": "markdown",
   "source": [
    "*****"
   ],
   "metadata": {
    "collapsed": false
   }
  },
  {
   "cell_type": "code",
   "execution_count": null,
   "outputs": [],
   "source": [
    "!python Experiment.py --dataset rt --interaction Pure_Mf --rounds 1 --agg_epochs 5 --density 0.30 --part_type 1"
   ],
   "metadata": {
    "collapsed": false,
    "pycharm": {
     "is_executing": true
    }
   }
  },
  {
   "cell_type": "code",
   "execution_count": null,
   "outputs": [],
   "source": [
    "!python Experiment.py --dataset rt --interaction Pure_Mf --rounds 1 --agg_epochs 5 --density 0.30 --part_type 2"
   ],
   "metadata": {
    "collapsed": false,
    "pycharm": {
     "is_executing": true
    }
   }
  },
  {
   "cell_type": "code",
   "execution_count": null,
   "outputs": [],
   "source": [
    "!python Experiment.py --dataset rt --interaction Pure_Mf --rounds 1 --agg_epochs 5 --density 0.30 --part_type 3"
   ],
   "metadata": {
    "collapsed": false,
    "pycharm": {
     "is_executing": true
    }
   }
  },
  {
   "cell_type": "code",
   "execution_count": null,
   "outputs": [],
   "source": [
    "!python Experiment.py --dataset rt --interaction Pure_Mf --rounds 1 --agg_epochs 5 --density 0.30 --part_type 4"
   ],
   "metadata": {
    "collapsed": false,
    "pycharm": {
     "is_executing": true
    }
   }
  },
  {
   "cell_type": "code",
   "execution_count": null,
   "outputs": [],
   "source": [
    "!python Experiment.py --dataset rt --interaction Pure_Mf --rounds 1 --agg_epochs 5 --density 0.30 --part_type 5"
   ],
   "metadata": {
    "collapsed": false,
    "pycharm": {
     "is_executing": true
    }
   }
  },
  {
   "cell_type": "code",
   "execution_count": null,
   "outputs": [],
   "source": [
    "!python Experiment.py --dataset rt --interaction Pure_Mf --rounds 1 --agg_epochs 5 --density 0.30 --part_type 6"
   ],
   "metadata": {
    "collapsed": false,
    "pycharm": {
     "is_executing": true
    }
   }
  },
  {
   "cell_type": "code",
   "execution_count": null,
   "outputs": [],
   "source": [
    "!python Experiment.py --dataset rt --interaction Pure_Mf --rounds 1 --agg_epochs 5 --density 0.30 --part_type 7"
   ],
   "metadata": {
    "collapsed": false,
    "pycharm": {
     "is_executing": true
    }
   }
  },
  {
   "cell_type": "code",
   "execution_count": null,
   "outputs": [],
   "source": [
    "!python Experiment.py --dataset rt --interaction Pure_Mf --rounds 1 --agg_epochs 5 --density 0.30 --part_type 8"
   ],
   "metadata": {
    "collapsed": false
   }
  },
  {
   "cell_type": "markdown",
   "source": [
    "*****"
   ],
   "metadata": {
    "collapsed": false
   }
  },
  {
   "cell_type": "code",
   "execution_count": null,
   "outputs": [],
   "source": [
    "!python Experiment.py --dataset rt --interaction GraphMF --rounds 1 --agg_epochs 5 --density 0.30 --part_type 1"
   ],
   "metadata": {
    "collapsed": false,
    "pycharm": {
     "is_executing": true
    }
   }
  },
  {
   "cell_type": "code",
   "execution_count": null,
   "outputs": [],
   "source": [
    "!python Experiment.py --dataset rt --interaction GraphMF --rounds 1 --agg_epochs 5 --density 0.30 --part_type 2"
   ],
   "metadata": {
    "collapsed": false,
    "pycharm": {
     "is_executing": true
    }
   }
  },
  {
   "cell_type": "code",
   "execution_count": null,
   "outputs": [],
   "source": [
    "!python Experiment.py --dataset rt --interaction GraphMF --rounds 1 --agg_epochs 5 --density 0.30 --part_type 3"
   ],
   "metadata": {
    "collapsed": false,
    "pycharm": {
     "is_executing": true
    }
   }
  },
  {
   "cell_type": "code",
   "execution_count": null,
   "outputs": [],
   "source": [
    "!python Experiment.py --dataset rt --interaction GraphMF --rounds 1 --agg_epochs 5 --density 0.30 --part_type 4"
   ],
   "metadata": {
    "collapsed": false,
    "pycharm": {
     "is_executing": true
    }
   }
  },
  {
   "cell_type": "code",
   "execution_count": null,
   "outputs": [],
   "source": [
    "!python Experiment.py --dataset rt --interaction GraphMF --rounds 1 --agg_epochs 5 --density 0.30 --part_type 5"
   ],
   "metadata": {
    "collapsed": false,
    "pycharm": {
     "is_executing": true
    }
   }
  },
  {
   "cell_type": "code",
   "execution_count": null,
   "outputs": [],
   "source": [
    "!python Experiment.py --dataset rt --interaction GraphMF --rounds 1 --agg_epochs 5 --density 0.30 --part_type 6"
   ],
   "metadata": {
    "collapsed": false,
    "pycharm": {
     "is_executing": true
    }
   }
  },
  {
   "cell_type": "code",
   "execution_count": null,
   "outputs": [],
   "source": [
    "!python Experiment.py --dataset rt --interaction GraphMF --rounds 1 --agg_epochs 5 --density 0.30 --part_type 7"
   ],
   "metadata": {
    "collapsed": false,
    "pycharm": {
     "is_executing": true
    }
   }
  },
  {
   "cell_type": "code",
   "execution_count": null,
   "outputs": [],
   "source": [
    "!python Experiment.py --dataset rt --interaction GraphMF --rounds 1 --agg_epochs 5 --density 0.30 --part_type 8"
   ],
   "metadata": {
    "collapsed": false,
    "pycharm": {
     "is_executing": true
    }
   }
  },
  {
   "cell_type": "markdown",
   "source": [
    "# Author: Yuxiang Zeng"
   ],
   "metadata": {
    "collapsed": false
   }
  },
  {
   "cell_type": "markdown",
   "source": [
    "## Dataset : tp"
   ],
   "metadata": {
    "collapsed": false
   }
  },
  {
   "cell_type": "markdown",
   "source": [
    "# Desity = 0.10"
   ],
   "metadata": {
    "collapsed": false
   }
  },
  {
   "cell_type": "code",
   "execution_count": null,
   "outputs": [],
   "source": [
    "!python Experiment.py --dataset tp --interaction NeuCF --rounds 1 --agg_epochs 5 --density 0.10 --part_type 1"
   ],
   "metadata": {
    "collapsed": false
   }
  },
  {
   "cell_type": "code",
   "execution_count": 6,
   "outputs": [
    {
     "name": "stdout",
     "output_type": "stream",
     "text": [
      "2023-01-13 23:56:32  Namespace(agg_epochs=5, agg_function=3, agg_type='softmax', balance=0, batch_size=128, beta=1, cluster='deep', cuda=True, dataset='rt', debug=1, density=0.1, devices='gpu', dimension=32, dir='../Dataset/mnist', dropout=0.1, epoch=1500, hidden_dims=[64, 64, 100], input_dim=128, interaction='NeuCF', kmeans_type=1, lamda=1, latent_dim=10, log_interval=100, lr=0.0001, n_classes=10, n_clusters=10, n_jobs=1, node2vec=0, node2vec_batchsize=32, node2vec_dim=128, node2vec_epochs=20, node2vec_length=8, node2vec_walk=15, node2vec_windows=3, num_layers=2, order=2, part_iter=50, part_type=2, path='./datasets/data/WSDREAM/', pre_epoch=1000, pretrain=True, processed=0, retrain=0, rounds=1, save_model=1, slice_epochs=80, slices=10, subagg=1, verbose=10, wd=0.0005)\r\n",
      "2023-01-13 23:56:32  Experiment start!\r\n",
      "2023-01-13 23:56:32  Dataset : rt     interaction : NeuCF\r\n",
      "2023-01-13 23:56:32  Density : 10.00%, slice_epochs : 80, agg_epochs : 5\r\n",
      "2023-01-13 23:56:32  Part_type : 2,    slices : 10,       devices : gpu\r\n",
      "\r\n",
      "2023-01-13 23:56:32  Round 1 experiment start!\r\n",
      "2023-01-13 23:56:32  \t原始数据集读取完毕\r\n",
      "2023-01-13 23:56:33  \tSISA 切割完毕\r\n",
      "2023-01-13 23:56:33  \t分切数据执行完毕\r\n",
      "2023-01-13 23:56:36  \t模型加载完毕\r\n",
      "2023-01-13 23:56:36  \t准备训练切片模型\r\n",
      "2023-01-13 23:56:36  \t实验 1 模型 1 开始分片训练\r\n",
      "2023-01-13 23:56:57  Epoch 10 : MAE : 0.7624  RMSE : 1.9797  NMAE : 0.8399  MRE : 0.7248  NPRE : 3.2882\r\n",
      "2023-01-13 23:57:17  Epoch 20 : MAE : 0.7407  RMSE : 1.8461  NMAE : 0.8159  MRE : 0.6998  NPRE : 3.6572\r\n",
      "2023-01-13 23:57:37  Epoch 30 : MAE : 0.7386  RMSE : 1.8180  NMAE : 0.8136  MRE : 0.6805  NPRE : 3.5390\r\n",
      "2023-01-13 23:57:57  Epoch 40 : MAE : 0.7323  RMSE : 1.7971  NMAE : 0.8066  MRE : 0.6921  NPRE : 3.5903\r\n",
      "2023-01-13 23:58:17  Epoch 50 : MAE : 0.7461  RMSE : 1.7935  NMAE : 0.8218  MRE : 0.7265  NPRE : 3.9225\r\n",
      "2023-01-13 23:58:37  Epoch 60 : MAE : 0.7358  RMSE : 1.7757  NMAE : 0.8106  MRE : 0.7657  NPRE : 3.5031\r\n",
      "2023-01-13 23:58:57  Epoch 70 : MAE : 0.7574  RMSE : 1.8027  NMAE : 0.8343  MRE : 0.7754  NPRE : 3.9048\r\n",
      "2023-01-13 23:59:17  Epoch 80 : MAE : 0.7704  RMSE : 1.7757  NMAE : 0.8486  MRE : 0.8971  NPRE : 4.1000\r\n",
      "2023-01-13 23:59:17  Best epoch 53 : MAE : 0.7170  RMSE : 1.7709  NMAE : 0.7898  MRE : 0.6879  NPRE : 3.3015\r\n",
      "2023-01-13 23:59:17  实验 1 模型 1 training time = 33.34 s\r\n",
      "2023-01-13 23:59:17  Slice ID  1 : MAE = 0.7170, RMSE = 1.7709, NMAE = 0.7898, MRE = 0.6879, NPRE = 3.3015\r\n",
      "\r\n",
      "2023-01-13 23:59:17  \t实验 1 模型 2 开始分片训练\r\n",
      "2023-01-13 23:59:38  Epoch 10 : MAE : 0.7847  RMSE : 1.9584  NMAE : 0.8644  MRE : 0.8018  NPRE : 4.2629\r\n",
      "2023-01-13 23:59:58  Epoch 20 : MAE : 0.7559  RMSE : 1.8276  NMAE : 0.8327  MRE : 0.7431  NPRE : 4.2250\r\n",
      "2023-01-14 00:00:18  Epoch 30 : MAE : 0.7590  RMSE : 1.7992  NMAE : 0.8360  MRE : 0.7442  NPRE : 4.6342\r\n",
      "2023-01-14 00:00:38  Epoch 40 : MAE : 0.7422  RMSE : 1.7907  NMAE : 0.8175  MRE : 0.7127  NPRE : 4.3028\r\n",
      "2023-01-14 00:00:58  Epoch 50 : MAE : 0.7612  RMSE : 1.7946  NMAE : 0.8385  MRE : 0.7652  NPRE : 4.3291\r\n",
      "2023-01-14 00:01:18  Epoch 60 : MAE : 0.7872  RMSE : 1.8262  NMAE : 0.8671  MRE : 0.7841  NPRE : 4.4941\r\n",
      "2023-01-14 00:01:38  Epoch 70 : MAE : 0.7850  RMSE : 1.8022  NMAE : 0.8647  MRE : 0.8638  NPRE : 4.6695\r\n",
      "2023-01-14 00:01:58  Epoch 80 : MAE : 0.7937  RMSE : 1.8084  NMAE : 0.8743  MRE : 0.9036  NPRE : 4.5454\r\n",
      "2023-01-14 00:01:58  Best epoch 40 : MAE : 0.7422  RMSE : 1.7907  NMAE : 0.8175  MRE : 0.7127  NPRE : 4.3028\r\n",
      "2023-01-14 00:01:58  实验 1 模型 2 training time = 24.41 s\r\n",
      "2023-01-14 00:01:58  Slice ID  2 : MAE = 0.7422, RMSE = 1.7907, NMAE = 0.8175, MRE = 0.7127, NPRE = 4.3028\r\n",
      "\r\n",
      "2023-01-14 00:01:58  \t实验 1 模型 3 开始分片训练\r\n",
      "2023-01-14 00:02:18  Epoch 10 : MAE : 0.7964  RMSE : 1.9609  NMAE : 0.8773  MRE : 0.7925  NPRE : 4.5860\r\n",
      "2023-01-14 00:02:38  Epoch 20 : MAE : 0.7952  RMSE : 1.8870  NMAE : 0.8759  MRE : 0.7707  NPRE : 4.7035\r\n",
      "2023-01-14 00:02:58  Epoch 30 : MAE : 0.8036  RMSE : 1.8800  NMAE : 0.8852  MRE : 0.7679  NPRE : 4.7257\r\n",
      "2023-01-14 00:03:18  Epoch 40 : MAE : 0.7905  RMSE : 1.8511  NMAE : 0.8707  MRE : 0.7608  NPRE : 4.2521\r\n",
      "2023-01-14 00:03:37  Epoch 50 : MAE : 0.7952  RMSE : 1.8584  NMAE : 0.8759  MRE : 0.7663  NPRE : 4.4983\r\n",
      "2023-01-14 00:03:57  Epoch 60 : MAE : 0.8146  RMSE : 1.8445  NMAE : 0.8973  MRE : 0.8536  NPRE : 4.9176\r\n",
      "2023-01-14 00:04:17  Epoch 70 : MAE : 0.8015  RMSE : 1.8438  NMAE : 0.8829  MRE : 0.8464  NPRE : 4.7496\r\n",
      "2023-01-14 00:04:37  Epoch 80 : MAE : 0.8273  RMSE : 1.8464  NMAE : 0.9113  MRE : 0.9213  NPRE : 5.1072\r\n",
      "2023-01-14 00:04:37  Best epoch 49 : MAE : 0.7771  RMSE : 1.8406  NMAE : 0.8560  MRE : 0.7692  NPRE : 4.2927\r\n",
      "2023-01-14 00:04:37  实验 1 模型 3 training time = 29.47 s\r\n",
      "2023-01-14 00:04:37  Slice ID  3 : MAE = 0.7771, RMSE = 1.8406, NMAE = 0.8560, MRE = 0.7692, NPRE = 4.2927\r\n",
      "\r\n",
      "2023-01-14 00:04:37  \t实验 1 模型 4 开始分片训练\r\n",
      "2023-01-14 00:04:58  Epoch 10 : MAE : 0.7716  RMSE : 1.9731  NMAE : 0.8499  MRE : 0.7572  NPRE : 3.8649\r\n",
      "2023-01-14 00:05:18  Epoch 20 : MAE : 0.7414  RMSE : 1.8391  NMAE : 0.8167  MRE : 0.7099  NPRE : 3.5750\r\n",
      "2023-01-14 00:05:38  Epoch 30 : MAE : 0.7212  RMSE : 1.7588  NMAE : 0.7944  MRE : 0.7285  NPRE : 3.9276\r\n",
      "2023-01-14 00:05:58  Epoch 40 : MAE : 0.7100  RMSE : 1.7395  NMAE : 0.7821  MRE : 0.7274  NPRE : 3.7617\r\n",
      "2023-01-14 00:06:18  Epoch 50 : MAE : 0.6942  RMSE : 1.7300  NMAE : 0.7647  MRE : 0.6908  NPRE : 3.3116\r\n",
      "2023-01-14 00:06:38  Epoch 60 : MAE : 0.7089  RMSE : 1.7357  NMAE : 0.7809  MRE : 0.7259  NPRE : 3.4499\r\n",
      "2023-01-14 00:06:58  Epoch 70 : MAE : 0.7133  RMSE : 1.7229  NMAE : 0.7857  MRE : 0.7631  NPRE : 3.5558\r\n",
      "2023-01-14 00:07:18  Epoch 80 : MAE : 0.7300  RMSE : 1.7372  NMAE : 0.8042  MRE : 0.8263  NPRE : 3.9016\r\n",
      "2023-01-14 00:07:18  Best epoch 48 : MAE : 0.6884  RMSE : 1.7449  NMAE : 0.7583  MRE : 0.6626  NPRE : 2.8220\r\n",
      "2023-01-14 00:07:18  实验 1 模型 4 training time = 29.74 s\r\n",
      "2023-01-14 00:07:18  Slice ID  4 : MAE = 0.6884, RMSE = 1.7449, NMAE = 0.7583, MRE = 0.6626, NPRE = 2.8220\r\n",
      "\r\n",
      "2023-01-14 00:07:18  \t实验 1 模型 5 开始分片训练\r\n",
      "2023-01-14 00:07:39  Epoch 10 : MAE : 0.7576  RMSE : 2.0153  NMAE : 0.8346  MRE : 0.7285  NPRE : 2.6621\r\n",
      "2023-01-14 00:07:59  Epoch 20 : MAE : 0.7158  RMSE : 1.8548  NMAE : 0.7884  MRE : 0.7108  NPRE : 2.5848\r\n",
      "2023-01-14 00:08:19  Epoch 30 : MAE : 0.7011  RMSE : 1.8111  NMAE : 0.7723  MRE : 0.6800  NPRE : 2.8041\r\n",
      "2023-01-14 00:08:39  Epoch 40 : MAE : 0.6910  RMSE : 1.7730  NMAE : 0.7611  MRE : 0.6882  NPRE : 2.8223\r\n",
      "2023-01-14 00:08:59  Epoch 50 : MAE : 0.7007  RMSE : 1.7819  NMAE : 0.7718  MRE : 0.6859  NPRE : 3.1594\r\n",
      "2023-01-14 00:09:19  Epoch 60 : MAE : 0.7100  RMSE : 1.7725  NMAE : 0.7821  MRE : 0.7653  NPRE : 3.0358\r\n",
      "2023-01-14 00:09:39  Epoch 70 : MAE : 0.7176  RMSE : 1.7671  NMAE : 0.7904  MRE : 0.8091  NPRE : 3.2717\r\n",
      "2023-01-14 00:09:59  Epoch 80 : MAE : 0.7441  RMSE : 1.7940  NMAE : 0.8196  MRE : 0.8848  NPRE : 3.5518\r\n",
      "2023-01-14 00:09:59  Best epoch 46 : MAE : 0.6891  RMSE : 1.7827  NMAE : 0.7591  MRE : 0.6776  NPRE : 2.5700\r\n",
      "2023-01-14 00:09:59  实验 1 模型 5 training time = 28.34 s\r\n",
      "2023-01-14 00:09:59  Slice ID  5 : MAE = 0.6891, RMSE = 1.7827, NMAE = 0.7591, MRE = 0.6776, NPRE = 2.5700\r\n",
      "\r\n",
      "2023-01-14 00:09:59  \t实验 1 模型 6 开始分片训练\r\n",
      "2023-01-14 00:10:19  Epoch 10 : MAE : 0.7613  RMSE : 1.9845  NMAE : 0.8386  MRE : 0.7165  NPRE : 3.5586\r\n",
      "2023-01-14 00:10:39  Epoch 20 : MAE : 0.7436  RMSE : 1.8514  NMAE : 0.8191  MRE : 0.7308  NPRE : 3.6105\r\n",
      "2023-01-14 00:10:59  Epoch 30 : MAE : 0.7412  RMSE : 1.7970  NMAE : 0.8164  MRE : 0.7376  NPRE : 4.0988\r\n",
      "2023-01-14 00:11:19  Epoch 40 : MAE : 0.7221  RMSE : 1.7869  NMAE : 0.7955  MRE : 0.7124  NPRE : 3.5735\r\n",
      "2023-01-14 00:11:39  Epoch 50 : MAE : 0.7067  RMSE : 1.7646  NMAE : 0.7785  MRE : 0.6779  NPRE : 3.4376\r\n",
      "2023-01-14 00:11:59  Epoch 60 : MAE : 0.7146  RMSE : 1.7496  NMAE : 0.7871  MRE : 0.7248  NPRE : 3.5175\r\n",
      "2023-01-14 00:12:19  Epoch 70 : MAE : 0.7367  RMSE : 1.7781  NMAE : 0.8115  MRE : 0.7876  NPRE : 3.6212\r\n",
      "2023-01-14 00:12:39  Epoch 80 : MAE : 0.7395  RMSE : 1.7645  NMAE : 0.8145  MRE : 0.8404  NPRE : 3.9434\r\n",
      "2023-01-14 00:12:39  Best epoch 51 : MAE : 0.7024  RMSE : 1.7652  NMAE : 0.7737  MRE : 0.6620  NPRE : 3.3344\r\n",
      "2023-01-14 00:12:39  实验 1 模型 6 training time = 30.91 s\r\n",
      "2023-01-14 00:12:39  Slice ID  6 : MAE = 0.7024, RMSE = 1.7652, NMAE = 0.7737, MRE = 0.6620, NPRE = 3.3344\r\n",
      "\r\n",
      "2023-01-14 00:12:39  \t实验 1 模型 7 开始分片训练\r\n",
      "2023-01-14 00:12:59  Epoch 10 : MAE : 0.8498  RMSE : 1.9637  NMAE : 0.9360  MRE : 0.8523  NPRE : 5.8493\r\n",
      "2023-01-14 00:13:19  Epoch 20 : MAE : 0.8163  RMSE : 1.8675  NMAE : 0.8992  MRE : 0.7984  NPRE : 5.1432\r\n",
      "2023-01-14 00:13:39  Epoch 30 : MAE : 0.8034  RMSE : 1.8117  NMAE : 0.8850  MRE : 0.7989  NPRE : 5.2478\r\n",
      "2023-01-14 00:13:59  Epoch 40 : MAE : 0.7949  RMSE : 1.8118  NMAE : 0.8756  MRE : 0.7829  NPRE : 4.9094\r\n",
      "2023-01-14 00:14:19  Epoch 50 : MAE : 0.7794  RMSE : 1.7930  NMAE : 0.8585  MRE : 0.7588  NPRE : 4.3822\r\n",
      "2023-01-14 00:14:39  Epoch 60 : MAE : 0.7756  RMSE : 1.7798  NMAE : 0.8543  MRE : 0.7967  NPRE : 4.5610\r\n",
      "2023-01-14 00:14:59  Epoch 70 : MAE : 0.7671  RMSE : 1.8032  NMAE : 0.8450  MRE : 0.8037  NPRE : 4.0297\r\n",
      "2023-01-14 00:15:19  Epoch 80 : MAE : 0.7958  RMSE : 1.7911  NMAE : 0.8766  MRE : 0.9053  NPRE : 4.7826\r\n",
      "2023-01-14 00:15:19  Best epoch 56 : MAE : 0.7607  RMSE : 1.7851  NMAE : 0.8380  MRE : 0.7317  NPRE : 4.2313\r\n",
      "2023-01-14 00:15:19  实验 1 模型 7 training time = 34.28 s\r\n",
      "2023-01-14 00:15:19  Slice ID  7 : MAE = 0.7607, RMSE = 1.7851, NMAE = 0.8380, MRE = 0.7317, NPRE = 4.2313\r\n",
      "\r\n",
      "2023-01-14 00:15:19  \t实验 1 模型 8 开始分片训练\r\n",
      "2023-01-14 00:15:39  Epoch 10 : MAE : 0.9063  RMSE : 1.9936  NMAE : 0.9983  MRE : 0.8835  NPRE : 6.2006\r\n",
      "2023-01-14 00:15:59  Epoch 20 : MAE : 0.9492  RMSE : 2.0147  NMAE : 1.0455  MRE : 0.8626  NPRE : 6.6715\r\n",
      "2023-01-14 00:16:19  Epoch 30 : MAE : 0.9310  RMSE : 1.9984  NMAE : 1.0255  MRE : 0.8103  NPRE : 6.3491\r\n",
      "2023-01-14 00:16:39  Epoch 40 : MAE : 0.9631  RMSE : 2.0379  NMAE : 1.0609  MRE : 0.8682  NPRE : 6.7212\r\n",
      "2023-01-14 00:16:59  Epoch 50 : MAE : 0.9480  RMSE : 2.0346  NMAE : 1.0443  MRE : 0.8734  NPRE : 6.2994\r\n",
      "2023-01-14 00:17:19  Epoch 60 : MAE : 0.9318  RMSE : 2.0252  NMAE : 1.0264  MRE : 0.8855  NPRE : 6.1021\r\n",
      "2023-01-14 00:17:38  Epoch 70 : MAE : 0.9142  RMSE : 1.9905  NMAE : 1.0070  MRE : 0.8883  NPRE : 6.0106\r\n",
      "2023-01-14 00:17:58  Epoch 80 : MAE : 0.9823  RMSE : 2.0638  NMAE : 1.0820  MRE : 1.0000  NPRE : 6.5530\r\n",
      "2023-01-14 00:17:58  Best epoch  2 : MAE : 0.8349  RMSE : 1.9873  NMAE : 0.9197  MRE : 0.8833  NPRE : 5.4733\r\n",
      "2023-01-14 00:17:58  实验 1 模型 8 training time = 1.25 s\r\n",
      "2023-01-14 00:17:58  Slice ID  8 : MAE = 0.8349, RMSE = 1.9873, NMAE = 0.9197, MRE = 0.8833, NPRE = 5.4733\r\n",
      "\r\n",
      "2023-01-14 00:17:59  \t实验 1 模型 9 开始分片训练\r\n",
      "2023-01-14 00:18:19  Epoch 10 : MAE : 0.7616  RMSE : 1.9810  NMAE : 0.8389  MRE : 0.7518  NPRE : 3.8482\r\n",
      "2023-01-14 00:18:39  Epoch 20 : MAE : 0.7319  RMSE : 1.8326  NMAE : 0.8062  MRE : 0.7103  NPRE : 3.3325\r\n",
      "2023-01-14 00:18:59  Epoch 30 : MAE : 0.7191  RMSE : 1.8002  NMAE : 0.7921  MRE : 0.6721  NPRE : 3.3704\r\n",
      "2023-01-14 00:19:19  Epoch 40 : MAE : 0.7241  RMSE : 1.7851  NMAE : 0.7977  MRE : 0.7115  NPRE : 3.6047\r\n",
      "2023-01-14 00:19:39  Epoch 50 : MAE : 0.7014  RMSE : 1.7757  NMAE : 0.7726  MRE : 0.6801  NPRE : 2.8995\r\n",
      "2023-01-14 00:19:59  Epoch 60 : MAE : 0.7111  RMSE : 1.7735  NMAE : 0.7833  MRE : 0.7113  NPRE : 3.1937\r\n",
      "2023-01-14 00:20:19  Epoch 70 : MAE : 0.7174  RMSE : 1.7774  NMAE : 0.7902  MRE : 0.7594  NPRE : 3.1173\r\n",
      "2023-01-14 00:20:39  Epoch 80 : MAE : 0.7309  RMSE : 1.7702  NMAE : 0.8051  MRE : 0.8560  NPRE : 3.3815\r\n",
      "2023-01-14 00:20:39  Best epoch 61 : MAE : 0.6948  RMSE : 1.7711  NMAE : 0.7654  MRE : 0.6768  NPRE : 2.8902\r\n",
      "2023-01-14 00:20:39  实验 1 模型 9 training time = 37.05 s\r\n",
      "2023-01-14 00:20:39  Slice ID  9 : MAE = 0.6948, RMSE = 1.7711, NMAE = 0.7654, MRE = 0.6768, NPRE = 2.8902\r\n",
      "\r\n",
      "2023-01-14 00:20:39  \t实验 1 模型 10 开始分片训练\r\n",
      "2023-01-14 00:20:59  Epoch 10 : MAE : 0.7538  RMSE : 1.9646  NMAE : 0.8303  MRE : 0.7379  NPRE : 3.7659\r\n",
      "2023-01-14 00:21:20  Epoch 20 : MAE : 0.7316  RMSE : 1.7909  NMAE : 0.8058  MRE : 0.7192  NPRE : 3.8186\r\n",
      "2023-01-14 00:21:40  Epoch 30 : MAE : 0.7333  RMSE : 1.7676  NMAE : 0.8077  MRE : 0.7545  NPRE : 4.0855\r\n",
      "2023-01-14 00:22:00  Epoch 40 : MAE : 0.7029  RMSE : 1.7410  NMAE : 0.7743  MRE : 0.7163  NPRE : 3.7355\r\n",
      "2023-01-14 00:22:20  Epoch 50 : MAE : 0.7104  RMSE : 1.7448  NMAE : 0.7825  MRE : 0.7095  NPRE : 3.7416\r\n",
      "2023-01-14 00:22:40  Epoch 60 : MAE : 0.6994  RMSE : 1.7259  NMAE : 0.7705  MRE : 0.7162  NPRE : 3.6546\r\n",
      "2023-01-14 00:22:59  Epoch 70 : MAE : 0.7171  RMSE : 1.7470  NMAE : 0.7899  MRE : 0.7762  NPRE : 3.8083\r\n",
      "2023-01-14 00:23:19  Epoch 80 : MAE : 0.7297  RMSE : 1.7490  NMAE : 0.8038  MRE : 0.8324  NPRE : 3.6936\r\n",
      "2023-01-14 00:23:19  Best epoch 35 : MAE : 0.6827  RMSE : 1.7510  NMAE : 0.7521  MRE : 0.6427  NPRE : 3.1465\r\n",
      "2023-01-14 00:23:19  实验 1 模型 10 training time = 21.58 s\r\n",
      "2023-01-14 00:23:19  Slice ID  10 : MAE = 0.6827, RMSE = 1.7510, NMAE = 0.7521, MRE = 0.6427, NPRE = 3.1465\r\n",
      "\r\n",
      "2023-01-14 00:23:19  \t所有切片模型训练完毕\r\n",
      "2023-01-14 00:23:19  \t开始训练聚合模型\r\n",
      "2023-01-14 00:23:32  Epoch  1 : MAE : 0.5953  RMSE : 1.6529  NMAE : 0.6557  MRE : 0.5117  NPRE : 2.1132\r\n",
      "2023-01-14 00:23:44  Epoch  2 : MAE : 0.5517  RMSE : 1.5611  NMAE : 0.6077  MRE : 0.4835  NPRE : 2.3464\r\n",
      "2023-01-14 00:23:56  Epoch  3 : MAE : 0.5277  RMSE : 1.4915  NMAE : 0.5812  MRE : 0.4724  NPRE : 2.5379\r\n",
      "2023-01-14 00:24:08  Epoch  4 : MAE : 0.5202  RMSE : 1.4745  NMAE : 0.5730  MRE : 0.4636  NPRE : 2.4966\r\n",
      "2023-01-14 00:24:20  Epoch  5 : MAE : 0.5090  RMSE : 1.4558  NMAE : 0.5607  MRE : 0.4582  NPRE : 2.1654\r\n",
      "2023-01-14 00:24:20  \t实验 1 聚合模型训练完毕\r\n",
      "2023-01-14 00:24:38  Result : MAE : 0.5094  RMSE : 1.4771  NMAE : 0.5612  MRE : 0.4595  NPRE : 2.1788\r\n",
      "2023-01-14 00:24:38  \t实验 1 : Aggregators training time = 55.76 s\r\n",
      "\r\n",
      "2023-01-14 00:24:38  \t聚合模型训练完毕\r\n",
      "2023-01-14 00:24:38  Round 1 : MAE = 0.5094, RMSE = 1.4771, NMAE = 0.5612, MRE = 0.4595, NPRE = 2.1788\r\n",
      "------------------------------------------------------------------------------------------------------------------------\r\n",
      "2023-01-14 00:24:38  Dataset : rt     interaction : NeuCF\r\n",
      "2023-01-14 00:24:38  Density : 10.00%, slice_epochs : 80, agg_epochs : 5\r\n",
      "2023-01-14 00:24:38  Part_type : 2,    slices : 10,       devices : gpu\r\n",
      "\r\n",
      "\r\n",
      "2023-01-14 00:24:38  Density 10.00% : MAE = 0.509, RMSE = 1.477, NMAE = 0.561, MRE = 0.459, NPRE = 2.179\r\n",
      "\r\n",
      "2023-01-14 00:24:38  Experiment success!\r\n"
     ]
    }
   ],
   "source": [
    "!python Experiment.py --dataset tp --interaction NeuCF --rounds 1 --agg_epochs 5 --density 0.10 --part_type 2 --debug 1"
   ],
   "metadata": {
    "collapsed": false
   }
  },
  {
   "cell_type": "code",
   "execution_count": null,
   "outputs": [],
   "source": [
    "!python Experiment.py --dataset tp --interaction NeuCF --rounds 1 --agg_epochs 5 --density 0.10 --part_type 3"
   ],
   "metadata": {
    "collapsed": false
   }
  },
  {
   "cell_type": "code",
   "execution_count": 7,
   "outputs": [
    {
     "name": "stdout",
     "output_type": "stream",
     "text": [
      "2023-01-14 00:24:40  Namespace(agg_epochs=5, agg_function=3, agg_type='softmax', balance=0, batch_size=128, beta=1, cluster='deep', cuda=True, dataset='rt', debug=0, density=0.1, devices='gpu', dimension=32, dir='../Dataset/mnist', dropout=0.1, epoch=1500, hidden_dims=[64, 64, 100], input_dim=128, interaction='NeuCF', kmeans_type=1, lamda=1, latent_dim=10, log_interval=100, lr=0.0001, n_classes=10, n_clusters=10, n_jobs=1, node2vec=0, node2vec_batchsize=32, node2vec_dim=128, node2vec_epochs=20, node2vec_length=8, node2vec_walk=15, node2vec_windows=3, num_layers=2, order=2, part_iter=50, part_type=4, path='./datasets/data/WSDREAM/', pre_epoch=1000, pretrain=True, processed=0, retrain=0, rounds=1, save_model=1, slice_epochs=80, slices=10, subagg=1, verbose=10, wd=0.0005)\r\n",
      "2023-01-14 00:24:40  Experiment start!\r\n",
      "2023-01-14 00:24:40  Dataset : rt     interaction : NeuCF\r\n",
      "2023-01-14 00:24:40  Density : 10.00%, slice_epochs : 80, agg_epochs : 5\r\n",
      "2023-01-14 00:24:40  Part_type : 4,    slices : 10,       devices : gpu\r\n",
      "\r\n",
      "2023-01-14 00:24:40  Round 1 experiment start!\r\n",
      "2023-01-14 00:24:40  \t原始数据集读取完毕\r\n",
      "2023-01-14 00:24:40  \t图嵌入非均衡切割\r\n",
      "Computing transition probabilities: 100%|███| 507/507 [00:00<00:00, 3298.37it/s]\r\n",
      "Generating walks (CPU: 1): 100%|██████████████████| 4/4 [00:00<00:00, 83.36it/s]\r\n",
      "Generating walks (CPU: 2): 100%|██████████████████| 4/4 [00:00<00:00, 81.09it/s]\r\n",
      "Generating walks (CPU: 3): 100%|██████████████████| 4/4 [00:00<00:00, 81.23it/s]\r\n",
      "Generating walks (CPU: 4): 100%|██████████████████| 3/3 [00:00<00:00, 87.66it/s]\r\n",
      "========== Start pretraining ==========\r\n",
      "100%|██████████████████████████████████████| 1000/1000 [00:06<00:00, 154.55it/s]\r\n",
      "Exception ignored on calling ctypes callback function: <function _ThreadpoolInfo._find_modules_with_dl_iterate_phdr.<locals>.match_module_callback at 0x7f27d594f940>\r\n",
      "Traceback (most recent call last):\r\n",
      "  File \"/home/yxzeng/anaconda3/lib/python3.8/site-packages/threadpoolctl.py\", line 400, in match_module_callback\r\n",
      "    self._make_module_from_path(filepath)\r\n",
      "  File \"/home/yxzeng/anaconda3/lib/python3.8/site-packages/threadpoolctl.py\", line 515, in _make_module_from_path\r\n",
      "    module = module_class(filepath, prefix, user_api, internal_api)\r\n",
      "  File \"/home/yxzeng/anaconda3/lib/python3.8/site-packages/threadpoolctl.py\", line 606, in __init__\r\n",
      "    self.version = self.get_version()\r\n",
      "  File \"/home/yxzeng/anaconda3/lib/python3.8/site-packages/threadpoolctl.py\", line 646, in get_version\r\n",
      "    config = get_config().split()\r\n",
      "AttributeError: 'NoneType' object has no attribute 'split'\r\n",
      "Exception ignored on calling ctypes callback function: <function _ThreadpoolInfo._find_modules_with_dl_iterate_phdr.<locals>.match_module_callback at 0x7f27d594f940>\r\n",
      "Traceback (most recent call last):\r\n",
      "  File \"/home/yxzeng/anaconda3/lib/python3.8/site-packages/threadpoolctl.py\", line 400, in match_module_callback\r\n",
      "    self._make_module_from_path(filepath)\r\n",
      "  File \"/home/yxzeng/anaconda3/lib/python3.8/site-packages/threadpoolctl.py\", line 515, in _make_module_from_path\r\n",
      "    module = module_class(filepath, prefix, user_api, internal_api)\r\n",
      "  File \"/home/yxzeng/anaconda3/lib/python3.8/site-packages/threadpoolctl.py\", line 606, in __init__\r\n",
      "    self.version = self.get_version()\r\n",
      "  File \"/home/yxzeng/anaconda3/lib/python3.8/site-packages/threadpoolctl.py\", line 646, in get_version\r\n",
      "    config = get_config().split()\r\n",
      "AttributeError: 'NoneType' object has no attribute 'split'\r\n",
      "Exception ignored on calling ctypes callback function: <function _ThreadpoolInfo._find_modules_with_dl_iterate_phdr.<locals>.match_module_callback at 0x7f27d594f940>\r\n",
      "Traceback (most recent call last):\r\n",
      "  File \"/home/yxzeng/anaconda3/lib/python3.8/site-packages/threadpoolctl.py\", line 400, in match_module_callback\r\n",
      "    self._make_module_from_path(filepath)\r\n",
      "  File \"/home/yxzeng/anaconda3/lib/python3.8/site-packages/threadpoolctl.py\", line 515, in _make_module_from_path\r\n",
      "    module = module_class(filepath, prefix, user_api, internal_api)\r\n",
      "  File \"/home/yxzeng/anaconda3/lib/python3.8/site-packages/threadpoolctl.py\", line 606, in __init__\r\n",
      "    self.version = self.get_version()\r\n",
      "  File \"/home/yxzeng/anaconda3/lib/python3.8/site-packages/threadpoolctl.py\", line 646, in get_version\r\n",
      "    config = get_config().split()\r\n",
      "AttributeError: 'NoneType' object has no attribute 'split'\r\n",
      "Exception ignored on calling ctypes callback function: <function _ThreadpoolInfo._find_modules_with_dl_iterate_phdr.<locals>.match_module_callback at 0x7f27d594f940>\r\n",
      "Traceback (most recent call last):\r\n",
      "  File \"/home/yxzeng/anaconda3/lib/python3.8/site-packages/threadpoolctl.py\", line 400, in match_module_callback\r\n",
      "    self._make_module_from_path(filepath)\r\n",
      "  File \"/home/yxzeng/anaconda3/lib/python3.8/site-packages/threadpoolctl.py\", line 515, in _make_module_from_path\r\n",
      "    module = module_class(filepath, prefix, user_api, internal_api)\r\n",
      "  File \"/home/yxzeng/anaconda3/lib/python3.8/site-packages/threadpoolctl.py\", line 606, in __init__\r\n",
      "    self.version = self.get_version()\r\n",
      "  File \"/home/yxzeng/anaconda3/lib/python3.8/site-packages/threadpoolctl.py\", line 646, in get_version\r\n",
      "    config = get_config().split()\r\n",
      "AttributeError: 'NoneType' object has no attribute 'split'\r\n",
      "Exception ignored on calling ctypes callback function: <function _ThreadpoolInfo._find_modules_with_dl_iterate_phdr.<locals>.match_module_callback at 0x7f27d594f940>\r\n",
      "Traceback (most recent call last):\r\n",
      "  File \"/home/yxzeng/anaconda3/lib/python3.8/site-packages/threadpoolctl.py\", line 400, in match_module_callback\r\n",
      "    self._make_module_from_path(filepath)\r\n",
      "  File \"/home/yxzeng/anaconda3/lib/python3.8/site-packages/threadpoolctl.py\", line 515, in _make_module_from_path\r\n",
      "    module = module_class(filepath, prefix, user_api, internal_api)\r\n",
      "  File \"/home/yxzeng/anaconda3/lib/python3.8/site-packages/threadpoolctl.py\", line 606, in __init__\r\n",
      "    self.version = self.get_version()\r\n",
      "  File \"/home/yxzeng/anaconda3/lib/python3.8/site-packages/threadpoolctl.py\", line 646, in get_version\r\n",
      "    config = get_config().split()\r\n",
      "AttributeError: 'NoneType' object has no attribute 'split'\r\n",
      "Exception ignored on calling ctypes callback function: <function _ThreadpoolInfo._find_modules_with_dl_iterate_phdr.<locals>.match_module_callback at 0x7f27d594f940>\r\n",
      "Traceback (most recent call last):\r\n",
      "  File \"/home/yxzeng/anaconda3/lib/python3.8/site-packages/threadpoolctl.py\", line 400, in match_module_callback\r\n",
      "    self._make_module_from_path(filepath)\r\n",
      "  File \"/home/yxzeng/anaconda3/lib/python3.8/site-packages/threadpoolctl.py\", line 515, in _make_module_from_path\r\n",
      "    module = module_class(filepath, prefix, user_api, internal_api)\r\n",
      "  File \"/home/yxzeng/anaconda3/lib/python3.8/site-packages/threadpoolctl.py\", line 606, in __init__\r\n",
      "    self.version = self.get_version()\r\n",
      "  File \"/home/yxzeng/anaconda3/lib/python3.8/site-packages/threadpoolctl.py\", line 646, in get_version\r\n",
      "    config = get_config().split()\r\n",
      "AttributeError: 'NoneType' object has no attribute 'split'\r\n",
      "Exception ignored on calling ctypes callback function: <function _ThreadpoolInfo._find_modules_with_dl_iterate_phdr.<locals>.match_module_callback at 0x7f27d594f940>\r\n",
      "Traceback (most recent call last):\r\n",
      "  File \"/home/yxzeng/anaconda3/lib/python3.8/site-packages/threadpoolctl.py\", line 400, in match_module_callback\r\n",
      "    self._make_module_from_path(filepath)\r\n",
      "  File \"/home/yxzeng/anaconda3/lib/python3.8/site-packages/threadpoolctl.py\", line 515, in _make_module_from_path\r\n",
      "    module = module_class(filepath, prefix, user_api, internal_api)\r\n",
      "  File \"/home/yxzeng/anaconda3/lib/python3.8/site-packages/threadpoolctl.py\", line 606, in __init__\r\n",
      "    self.version = self.get_version()\r\n",
      "  File \"/home/yxzeng/anaconda3/lib/python3.8/site-packages/threadpoolctl.py\", line 646, in get_version\r\n",
      "    config = get_config().split()\r\n",
      "AttributeError: 'NoneType' object has no attribute 'split'\r\n",
      "Exception ignored on calling ctypes callback function: <function _ThreadpoolInfo._find_modules_with_dl_iterate_phdr.<locals>.match_module_callback at 0x7f27d594f940>\r\n",
      "Traceback (most recent call last):\r\n",
      "  File \"/home/yxzeng/anaconda3/lib/python3.8/site-packages/threadpoolctl.py\", line 400, in match_module_callback\r\n",
      "    self._make_module_from_path(filepath)\r\n",
      "  File \"/home/yxzeng/anaconda3/lib/python3.8/site-packages/threadpoolctl.py\", line 515, in _make_module_from_path\r\n",
      "    module = module_class(filepath, prefix, user_api, internal_api)\r\n",
      "  File \"/home/yxzeng/anaconda3/lib/python3.8/site-packages/threadpoolctl.py\", line 606, in __init__\r\n",
      "    self.version = self.get_version()\r\n",
      "  File \"/home/yxzeng/anaconda3/lib/python3.8/site-packages/threadpoolctl.py\", line 646, in get_version\r\n",
      "    config = get_config().split()\r\n",
      "AttributeError: 'NoneType' object has no attribute 'split'\r\n",
      "Exception ignored on calling ctypes callback function: <function _ThreadpoolInfo._find_modules_with_dl_iterate_phdr.<locals>.match_module_callback at 0x7f27d594f940>\r\n",
      "Traceback (most recent call last):\r\n",
      "  File \"/home/yxzeng/anaconda3/lib/python3.8/site-packages/threadpoolctl.py\", line 400, in match_module_callback\r\n",
      "    self._make_module_from_path(filepath)\r\n",
      "  File \"/home/yxzeng/anaconda3/lib/python3.8/site-packages/threadpoolctl.py\", line 515, in _make_module_from_path\r\n",
      "    module = module_class(filepath, prefix, user_api, internal_api)\r\n",
      "  File \"/home/yxzeng/anaconda3/lib/python3.8/site-packages/threadpoolctl.py\", line 606, in __init__\r\n",
      "    self.version = self.get_version()\r\n",
      "  File \"/home/yxzeng/anaconda3/lib/python3.8/site-packages/threadpoolctl.py\", line 646, in get_version\r\n",
      "    config = get_config().split()\r\n",
      "AttributeError: 'NoneType' object has no attribute 'split'\r\n",
      "Exception ignored on calling ctypes callback function: <function _ThreadpoolInfo._find_modules_with_dl_iterate_phdr.<locals>.match_module_callback at 0x7f27d594f940>\r\n",
      "Traceback (most recent call last):\r\n",
      "  File \"/home/yxzeng/anaconda3/lib/python3.8/site-packages/threadpoolctl.py\", line 400, in match_module_callback\r\n",
      "    self._make_module_from_path(filepath)\r\n",
      "  File \"/home/yxzeng/anaconda3/lib/python3.8/site-packages/threadpoolctl.py\", line 515, in _make_module_from_path\r\n",
      "    module = module_class(filepath, prefix, user_api, internal_api)\r\n",
      "  File \"/home/yxzeng/anaconda3/lib/python3.8/site-packages/threadpoolctl.py\", line 606, in __init__\r\n",
      "    self.version = self.get_version()\r\n",
      "  File \"/home/yxzeng/anaconda3/lib/python3.8/site-packages/threadpoolctl.py\", line 646, in get_version\r\n",
      "    config = get_config().split()\r\n",
      "AttributeError: 'NoneType' object has no attribute 'split'\r\n",
      "Exception ignored on calling ctypes callback function: <function _ThreadpoolInfo._find_modules_with_dl_iterate_phdr.<locals>.match_module_callback at 0x7f27d594f940>\r\n",
      "Traceback (most recent call last):\r\n",
      "  File \"/home/yxzeng/anaconda3/lib/python3.8/site-packages/threadpoolctl.py\", line 400, in match_module_callback\r\n",
      "    self._make_module_from_path(filepath)\r\n",
      "  File \"/home/yxzeng/anaconda3/lib/python3.8/site-packages/threadpoolctl.py\", line 515, in _make_module_from_path\r\n",
      "    module = module_class(filepath, prefix, user_api, internal_api)\r\n",
      "  File \"/home/yxzeng/anaconda3/lib/python3.8/site-packages/threadpoolctl.py\", line 606, in __init__\r\n",
      "    self.version = self.get_version()\r\n",
      "  File \"/home/yxzeng/anaconda3/lib/python3.8/site-packages/threadpoolctl.py\", line 646, in get_version\r\n",
      "    config = get_config().split()\r\n",
      "AttributeError: 'NoneType' object has no attribute 'split'\r\n",
      "Exception ignored on calling ctypes callback function: <function _ThreadpoolInfo._find_modules_with_dl_iterate_phdr.<locals>.match_module_callback at 0x7f27d594f940>\r\n",
      "Traceback (most recent call last):\r\n",
      "  File \"/home/yxzeng/anaconda3/lib/python3.8/site-packages/threadpoolctl.py\", line 400, in match_module_callback\r\n",
      "    self._make_module_from_path(filepath)\r\n",
      "  File \"/home/yxzeng/anaconda3/lib/python3.8/site-packages/threadpoolctl.py\", line 515, in _make_module_from_path\r\n",
      "    module = module_class(filepath, prefix, user_api, internal_api)\r\n",
      "  File \"/home/yxzeng/anaconda3/lib/python3.8/site-packages/threadpoolctl.py\", line 606, in __init__\r\n",
      "    self.version = self.get_version()\r\n",
      "  File \"/home/yxzeng/anaconda3/lib/python3.8/site-packages/threadpoolctl.py\", line 646, in get_version\r\n",
      "    config = get_config().split()\r\n",
      "AttributeError: 'NoneType' object has no attribute 'split'\r\n",
      "Exception ignored on calling ctypes callback function: <function _ThreadpoolInfo._find_modules_with_dl_iterate_phdr.<locals>.match_module_callback at 0x7f27d594f940>\r\n",
      "Traceback (most recent call last):\r\n",
      "  File \"/home/yxzeng/anaconda3/lib/python3.8/site-packages/threadpoolctl.py\", line 400, in match_module_callback\r\n",
      "    self._make_module_from_path(filepath)\r\n",
      "  File \"/home/yxzeng/anaconda3/lib/python3.8/site-packages/threadpoolctl.py\", line 515, in _make_module_from_path\r\n",
      "    module = module_class(filepath, prefix, user_api, internal_api)\r\n",
      "  File \"/home/yxzeng/anaconda3/lib/python3.8/site-packages/threadpoolctl.py\", line 606, in __init__\r\n",
      "    self.version = self.get_version()\r\n",
      "  File \"/home/yxzeng/anaconda3/lib/python3.8/site-packages/threadpoolctl.py\", line 646, in get_version\r\n",
      "    config = get_config().split()\r\n",
      "AttributeError: 'NoneType' object has no attribute 'split'\r\n",
      "Exception ignored on calling ctypes callback function: <function _ThreadpoolInfo._find_modules_with_dl_iterate_phdr.<locals>.match_module_callback at 0x7f27d594f940>\r\n",
      "Traceback (most recent call last):\r\n",
      "  File \"/home/yxzeng/anaconda3/lib/python3.8/site-packages/threadpoolctl.py\", line 400, in match_module_callback\r\n",
      "    self._make_module_from_path(filepath)\r\n",
      "  File \"/home/yxzeng/anaconda3/lib/python3.8/site-packages/threadpoolctl.py\", line 515, in _make_module_from_path\r\n",
      "    module = module_class(filepath, prefix, user_api, internal_api)\r\n",
      "  File \"/home/yxzeng/anaconda3/lib/python3.8/site-packages/threadpoolctl.py\", line 606, in __init__\r\n",
      "    self.version = self.get_version()\r\n",
      "  File \"/home/yxzeng/anaconda3/lib/python3.8/site-packages/threadpoolctl.py\", line 646, in get_version\r\n",
      "    config = get_config().split()\r\n",
      "AttributeError: 'NoneType' object has no attribute 'split'\r\n",
      "Exception ignored on calling ctypes callback function: <function _ThreadpoolInfo._find_modules_with_dl_iterate_phdr.<locals>.match_module_callback at 0x7f27d594f940>\r\n",
      "Traceback (most recent call last):\r\n",
      "  File \"/home/yxzeng/anaconda3/lib/python3.8/site-packages/threadpoolctl.py\", line 400, in match_module_callback\r\n",
      "    self._make_module_from_path(filepath)\r\n",
      "  File \"/home/yxzeng/anaconda3/lib/python3.8/site-packages/threadpoolctl.py\", line 515, in _make_module_from_path\r\n",
      "    module = module_class(filepath, prefix, user_api, internal_api)\r\n",
      "  File \"/home/yxzeng/anaconda3/lib/python3.8/site-packages/threadpoolctl.py\", line 606, in __init__\r\n",
      "    self.version = self.get_version()\r\n",
      "  File \"/home/yxzeng/anaconda3/lib/python3.8/site-packages/threadpoolctl.py\", line 646, in get_version\r\n",
      "    config = get_config().split()\r\n",
      "AttributeError: 'NoneType' object has no attribute 'split'\r\n",
      "Exception ignored on calling ctypes callback function: <function _ThreadpoolInfo._find_modules_with_dl_iterate_phdr.<locals>.match_module_callback at 0x7f27d594f940>\r\n",
      "Traceback (most recent call last):\r\n",
      "  File \"/home/yxzeng/anaconda3/lib/python3.8/site-packages/threadpoolctl.py\", line 400, in match_module_callback\r\n",
      "    self._make_module_from_path(filepath)\r\n",
      "  File \"/home/yxzeng/anaconda3/lib/python3.8/site-packages/threadpoolctl.py\", line 515, in _make_module_from_path\r\n",
      "    module = module_class(filepath, prefix, user_api, internal_api)\r\n",
      "  File \"/home/yxzeng/anaconda3/lib/python3.8/site-packages/threadpoolctl.py\", line 606, in __init__\r\n",
      "    self.version = self.get_version()\r\n",
      "  File \"/home/yxzeng/anaconda3/lib/python3.8/site-packages/threadpoolctl.py\", line 646, in get_version\r\n",
      "    config = get_config().split()\r\n",
      "AttributeError: 'NoneType' object has no attribute 'split'\r\n",
      "Exception ignored on calling ctypes callback function: <function _ThreadpoolInfo._find_modules_with_dl_iterate_phdr.<locals>.match_module_callback at 0x7f27d594f940>\r\n",
      "Traceback (most recent call last):\r\n",
      "  File \"/home/yxzeng/anaconda3/lib/python3.8/site-packages/threadpoolctl.py\", line 400, in match_module_callback\r\n",
      "    self._make_module_from_path(filepath)\r\n",
      "  File \"/home/yxzeng/anaconda3/lib/python3.8/site-packages/threadpoolctl.py\", line 515, in _make_module_from_path\r\n",
      "    module = module_class(filepath, prefix, user_api, internal_api)\r\n",
      "  File \"/home/yxzeng/anaconda3/lib/python3.8/site-packages/threadpoolctl.py\", line 606, in __init__\r\n",
      "    self.version = self.get_version()\r\n",
      "  File \"/home/yxzeng/anaconda3/lib/python3.8/site-packages/threadpoolctl.py\", line 646, in get_version\r\n",
      "    config = get_config().split()\r\n",
      "AttributeError: 'NoneType' object has no attribute 'split'\r\n",
      "Exception ignored on calling ctypes callback function: <function _ThreadpoolInfo._find_modules_with_dl_iterate_phdr.<locals>.match_module_callback at 0x7f27d594f940>\r\n",
      "Traceback (most recent call last):\r\n",
      "  File \"/home/yxzeng/anaconda3/lib/python3.8/site-packages/threadpoolctl.py\", line 400, in match_module_callback\r\n",
      "    self._make_module_from_path(filepath)\r\n",
      "  File \"/home/yxzeng/anaconda3/lib/python3.8/site-packages/threadpoolctl.py\", line 515, in _make_module_from_path\r\n",
      "    module = module_class(filepath, prefix, user_api, internal_api)\r\n",
      "  File \"/home/yxzeng/anaconda3/lib/python3.8/site-packages/threadpoolctl.py\", line 606, in __init__\r\n",
      "    self.version = self.get_version()\r\n",
      "  File \"/home/yxzeng/anaconda3/lib/python3.8/site-packages/threadpoolctl.py\", line 646, in get_version\r\n",
      "    config = get_config().split()\r\n",
      "AttributeError: 'NoneType' object has no attribute 'split'\r\n",
      "Exception ignored on calling ctypes callback function: <function _ThreadpoolInfo._find_modules_with_dl_iterate_phdr.<locals>.match_module_callback at 0x7f27d594f940>\r\n",
      "Traceback (most recent call last):\r\n",
      "  File \"/home/yxzeng/anaconda3/lib/python3.8/site-packages/threadpoolctl.py\", line 400, in match_module_callback\r\n",
      "    self._make_module_from_path(filepath)\r\n",
      "  File \"/home/yxzeng/anaconda3/lib/python3.8/site-packages/threadpoolctl.py\", line 515, in _make_module_from_path\r\n",
      "    module = module_class(filepath, prefix, user_api, internal_api)\r\n",
      "  File \"/home/yxzeng/anaconda3/lib/python3.8/site-packages/threadpoolctl.py\", line 606, in __init__\r\n",
      "    self.version = self.get_version()\r\n",
      "  File \"/home/yxzeng/anaconda3/lib/python3.8/site-packages/threadpoolctl.py\", line 646, in get_version\r\n",
      "    config = get_config().split()\r\n",
      "AttributeError: 'NoneType' object has no attribute 'split'\r\n",
      "Exception ignored on calling ctypes callback function: <function _ThreadpoolInfo._find_modules_with_dl_iterate_phdr.<locals>.match_module_callback at 0x7f27d594f940>\r\n",
      "Traceback (most recent call last):\r\n",
      "  File \"/home/yxzeng/anaconda3/lib/python3.8/site-packages/threadpoolctl.py\", line 400, in match_module_callback\r\n",
      "    self._make_module_from_path(filepath)\r\n",
      "  File \"/home/yxzeng/anaconda3/lib/python3.8/site-packages/threadpoolctl.py\", line 515, in _make_module_from_path\r\n",
      "    module = module_class(filepath, prefix, user_api, internal_api)\r\n",
      "  File \"/home/yxzeng/anaconda3/lib/python3.8/site-packages/threadpoolctl.py\", line 606, in __init__\r\n",
      "    self.version = self.get_version()\r\n",
      "  File \"/home/yxzeng/anaconda3/lib/python3.8/site-packages/threadpoolctl.py\", line 646, in get_version\r\n",
      "    config = get_config().split()\r\n",
      "AttributeError: 'NoneType' object has no attribute 'split'\r\n",
      "Exception ignored on calling ctypes callback function: <function _ThreadpoolInfo._find_modules_with_dl_iterate_phdr.<locals>.match_module_callback at 0x7f27d594f940>\r\n",
      "Traceback (most recent call last):\r\n",
      "  File \"/home/yxzeng/anaconda3/lib/python3.8/site-packages/threadpoolctl.py\", line 400, in match_module_callback\r\n",
      "    self._make_module_from_path(filepath)\r\n",
      "  File \"/home/yxzeng/anaconda3/lib/python3.8/site-packages/threadpoolctl.py\", line 515, in _make_module_from_path\r\n",
      "    module = module_class(filepath, prefix, user_api, internal_api)\r\n",
      "  File \"/home/yxzeng/anaconda3/lib/python3.8/site-packages/threadpoolctl.py\", line 606, in __init__\r\n",
      "    self.version = self.get_version()\r\n",
      "  File \"/home/yxzeng/anaconda3/lib/python3.8/site-packages/threadpoolctl.py\", line 646, in get_version\r\n",
      "    config = get_config().split()\r\n",
      "AttributeError: 'NoneType' object has no attribute 'split'\r\n",
      "100%|███████████████████████████████████████| 1500/1500 [02:05<00:00, 11.98it/s]\r\n",
      "========== End pretraining ==========\r\n",
      "--------------------------------------------------------------------------------\r\n",
      "{2: 127, 9: 26, 4: 55, 1: 60, 0: 7, 8: 17, 7: 10, 5: 11, 3: 21, 6: 5}\r\n",
      "2023-01-14 00:26:58  \tNode2Vec 基于用户聚类非均衡切割完毕\r\n",
      "2023-01-14 00:26:58  \t分切数据执行完毕\r\n",
      "2023-01-14 00:26:58  \t模型加载完毕\r\n",
      "2023-01-14 00:26:58  \t准备训练切片模型\r\n",
      "2023-01-14 00:26:58  \t实验 1 模型 1 开始分片训练\r\n",
      "2023-01-14 00:27:12  Epoch 10 : MAE : 1.0568  RMSE : 2.1364  NMAE : 1.1440  MRE : 1.0000  NPRE : 9.3706\r\n",
      "2023-01-14 00:27:24  Epoch 20 : MAE : 1.0566  RMSE : 2.1622  NMAE : 1.1439  MRE : 1.0000  NPRE : 9.0938\r\n",
      "2023-01-14 00:27:37  Epoch 30 : MAE : 0.9931  RMSE : 2.1432  NMAE : 1.0751  MRE : 0.9568  NPRE : 7.5913\r\n",
      "2023-01-14 00:27:50  Epoch 40 : MAE : 1.0386  RMSE : 2.1504  NMAE : 1.1244  MRE : 0.9882  NPRE : 9.0298\r\n",
      "2023-01-14 00:28:03  Epoch 50 : MAE : 1.0478  RMSE : 2.1611  NMAE : 1.1344  MRE : 0.9663  NPRE : 8.7234\r\n",
      "2023-01-14 00:28:16  Epoch 60 : MAE : 1.1342  RMSE : 2.2181  NMAE : 1.2279  MRE : 1.0000  NPRE : 10.1475\r\n",
      "2023-01-14 00:28:28  Epoch 70 : MAE : 1.2331  RMSE : 2.3444  NMAE : 1.3350  MRE : 1.0000  NPRE : 11.6463\r\n",
      "2023-01-14 00:28:41  Epoch 80 : MAE : 1.1736  RMSE : 2.3313  NMAE : 1.2705  MRE : 0.9791  NPRE : 10.1675\r\n",
      "2023-01-14 00:28:41  Best epoch 38 : MAE : 0.9615  RMSE : 2.1240  NMAE : 1.0409  MRE : 0.9274  NPRE : 6.7560\r\n",
      "2023-01-14 00:28:41  实验 1 模型 1 training time = 4.17 s\r\n",
      "2023-01-14 00:28:41  Slice ID  1 : MAE = 0.9615, RMSE = 2.1240, NMAE = 1.0409, MRE = 0.9274, NPRE = 6.7560\r\n",
      "\r\n",
      "2023-01-14 00:28:42  \t实验 1 模型 2 开始分片训练\r\n",
      "2023-01-14 00:29:03  Epoch 10 : MAE : 0.7322  RMSE : 1.9444  NMAE : 0.7927  MRE : 0.6571  NPRE : 3.2958\r\n",
      "2023-01-14 00:29:25  Epoch 20 : MAE : 0.6904  RMSE : 1.7864  NMAE : 0.7474  MRE : 0.6302  NPRE : 2.8589\r\n",
      "2023-01-14 00:29:46  Epoch 30 : MAE : 0.6660  RMSE : 1.7355  NMAE : 0.7210  MRE : 0.6179  NPRE : 2.7470\r\n",
      "2023-01-14 00:30:07  Epoch 40 : MAE : 0.6778  RMSE : 1.7156  NMAE : 0.7337  MRE : 0.6587  NPRE : 3.1289\r\n",
      "2023-01-14 00:30:28  Epoch 50 : MAE : 0.6772  RMSE : 1.7042  NMAE : 0.7332  MRE : 0.6940  NPRE : 3.1127\r\n",
      "2023-01-14 00:30:49  Epoch 60 : MAE : 0.7145  RMSE : 1.7183  NMAE : 0.7735  MRE : 0.8055  NPRE : 3.7081\r\n",
      "2023-01-14 00:31:10  Epoch 70 : MAE : 0.7599  RMSE : 1.7366  NMAE : 0.8227  MRE : 0.9526  NPRE : 4.2693\r\n",
      "2023-01-14 00:31:31  Epoch 80 : MAE : 0.8141  RMSE : 1.7550  NMAE : 0.8813  MRE : 1.0000  NPRE : 5.0842\r\n",
      "2023-01-14 00:31:31  Best epoch 34 : MAE : 0.6652  RMSE : 1.7192  NMAE : 0.7201  MRE : 0.6383  NPRE : 2.8784\r\n",
      "2023-01-14 00:31:31  实验 1 模型 2 training time = 31.71 s\r\n",
      "2023-01-14 00:31:31  Slice ID  2 : MAE = 0.6652, RMSE = 1.7192, NMAE = 0.7201, MRE = 0.6383, NPRE = 2.8784\r\n",
      "\r\n",
      "2023-01-14 00:31:31  \t实验 1 模型 3 开始分片训练\r\n",
      "2023-01-14 00:32:03  Epoch 10 : MAE : 0.6426  RMSE : 1.7201  NMAE : 0.6956  MRE : 0.6226  NPRE : 2.5687\r\n",
      "2023-01-14 00:32:35  Epoch 20 : MAE : 0.6160  RMSE : 1.6574  NMAE : 0.6669  MRE : 0.5671  NPRE : 2.5655\r\n",
      "2023-01-14 00:33:07  Epoch 30 : MAE : 0.6143  RMSE : 1.6404  NMAE : 0.6650  MRE : 0.5564  NPRE : 2.8524\r\n",
      "2023-01-14 00:33:39  Epoch 40 : MAE : 0.6448  RMSE : 1.6594  NMAE : 0.6981  MRE : 0.6446  NPRE : 3.0819\r\n",
      "2023-01-14 00:34:10  Epoch 50 : MAE : 0.6837  RMSE : 1.6608  NMAE : 0.7401  MRE : 0.7824  NPRE : 3.6659\r\n",
      "2023-01-14 00:34:42  Epoch 60 : MAE : 0.7655  RMSE : 1.6994  NMAE : 0.8287  MRE : 0.9782  NPRE : 5.0181\r\n",
      "2023-01-14 00:35:13  Epoch 70 : MAE : 0.8296  RMSE : 1.7548  NMAE : 0.8981  MRE : 1.0000  NPRE : 5.6921\r\n",
      "2023-01-14 00:35:45  Epoch 80 : MAE : 0.8893  RMSE : 1.7988  NMAE : 0.9628  MRE : 1.0000  NPRE : 6.6143\r\n",
      "2023-01-14 00:35:45  Best epoch 30 : MAE : 0.6143  RMSE : 1.6404  NMAE : 0.6650  MRE : 0.5564  NPRE : 2.8524\r\n",
      "2023-01-14 00:35:45  实验 1 模型 3 training time = 59.56 s\r\n",
      "2023-01-14 00:35:45  Slice ID  3 : MAE = 0.6143, RMSE = 1.6404, NMAE = 0.6650, MRE = 0.5564, NPRE = 2.8524\r\n",
      "\r\n",
      "2023-01-14 00:35:45  \t实验 1 模型 4 开始分片训练\r\n",
      "2023-01-14 00:36:01  Epoch 10 : MAE : 0.7869  RMSE : 2.0692  NMAE : 0.8519  MRE : 0.7555  NPRE : 4.0084\r\n",
      "2023-01-14 00:36:16  Epoch 20 : MAE : 0.8154  RMSE : 1.9464  NMAE : 0.8828  MRE : 0.8166  NPRE : 4.7313\r\n",
      "2023-01-14 00:36:31  Epoch 30 : MAE : 0.8188  RMSE : 1.9071  NMAE : 0.8864  MRE : 0.8184  NPRE : 5.3503\r\n",
      "2023-01-14 00:36:46  Epoch 40 : MAE : 0.7792  RMSE : 1.8738  NMAE : 0.8435  MRE : 0.7720  NPRE : 4.6498\r\n",
      "2023-01-14 00:37:01  Epoch 50 : MAE : 0.7950  RMSE : 1.8654  NMAE : 0.8607  MRE : 0.8206  NPRE : 5.1763\r\n",
      "2023-01-14 00:37:16  Epoch 60 : MAE : 0.7828  RMSE : 1.8457  NMAE : 0.8474  MRE : 0.8226  NPRE : 4.8822\r\n",
      "2023-01-14 00:37:31  Epoch 70 : MAE : 0.7618  RMSE : 1.8541  NMAE : 0.8247  MRE : 0.7614  NPRE : 4.4043\r\n",
      "2023-01-14 00:37:46  Epoch 80 : MAE : 0.7490  RMSE : 1.8431  NMAE : 0.8109  MRE : 0.7570  NPRE : 3.9743\r\n",
      "2023-01-14 00:37:46  Best epoch 65 : MAE : 0.7455  RMSE : 1.8568  NMAE : 0.8070  MRE : 0.7206  NPRE : 3.7927\r\n",
      "2023-01-14 00:37:46  实验 1 模型 4 training time = 21.76 s\r\n",
      "2023-01-14 00:37:46  Slice ID  4 : MAE = 0.7455, RMSE = 1.8568, NMAE = 0.8070, MRE = 0.7206, NPRE = 3.7927\r\n",
      "\r\n",
      "2023-01-14 00:37:47  \t实验 1 模型 5 开始分片训练\r\n",
      "2023-01-14 00:38:08  Epoch 10 : MAE : 0.7543  RMSE : 1.9915  NMAE : 0.8166  MRE : 0.7003  NPRE : 3.3496\r\n",
      "2023-01-14 00:38:29  Epoch 20 : MAE : 0.7226  RMSE : 1.8551  NMAE : 0.7823  MRE : 0.6926  NPRE : 3.1128\r\n",
      "2023-01-14 00:38:49  Epoch 30 : MAE : 0.7043  RMSE : 1.8011  NMAE : 0.7624  MRE : 0.6951  NPRE : 3.2156\r\n",
      "2023-01-14 00:39:09  Epoch 40 : MAE : 0.7084  RMSE : 1.7739  NMAE : 0.7669  MRE : 0.7224  NPRE : 3.3709\r\n",
      "2023-01-14 00:39:29  Epoch 50 : MAE : 0.7086  RMSE : 1.7641  NMAE : 0.7671  MRE : 0.7423  NPRE : 3.4249\r\n",
      "2023-01-14 00:39:50  Epoch 60 : MAE : 0.7225  RMSE : 1.7724  NMAE : 0.7822  MRE : 0.8200  NPRE : 3.4834\r\n",
      "2023-01-14 00:40:10  Epoch 70 : MAE : 0.7731  RMSE : 1.7815  NMAE : 0.8369  MRE : 0.9539  NPRE : 4.4329\r\n",
      "2023-01-14 00:40:30  Epoch 80 : MAE : 0.8195  RMSE : 1.7923  NMAE : 0.8872  MRE : 1.0000  NPRE : 5.1422\r\n",
      "2023-01-14 00:40:30  Best epoch 31 : MAE : 0.6875  RMSE : 1.7978  NMAE : 0.7442  MRE : 0.6285  NPRE : 2.9733\r\n",
      "2023-01-14 00:40:30  实验 1 模型 5 training time = 26.69 s\r\n",
      "2023-01-14 00:40:30  Slice ID  5 : MAE = 0.6875, RMSE = 1.7978, NMAE = 0.7442, MRE = 0.6285, NPRE = 2.9733\r\n",
      "\r\n",
      "2023-01-14 00:40:31  \t实验 1 模型 6 开始分片训练\r\n",
      "2023-01-14 00:40:45  Epoch 10 : MAE : 0.9400  RMSE : 2.0764  NMAE : 1.0176  MRE : 0.9341  NPRE : 7.6045\r\n",
      "2023-01-14 00:40:58  Epoch 20 : MAE : 1.0352  RMSE : 2.0792  NMAE : 1.1207  MRE : 1.0000  NPRE : 9.1988\r\n",
      "2023-01-14 00:41:11  Epoch 30 : MAE : 1.1402  RMSE : 2.2416  NMAE : 1.2343  MRE : 0.9530  NPRE : 9.4384\r\n",
      "2023-01-14 00:41:25  Epoch 40 : MAE : 1.0831  RMSE : 2.1506  NMAE : 1.1725  MRE : 0.9709  NPRE : 9.0694\r\n",
      "2023-01-14 00:41:38  Epoch 50 : MAE : 1.0192  RMSE : 2.0907  NMAE : 1.1034  MRE : 0.9236  NPRE : 7.9009\r\n",
      "2023-01-14 00:41:52  Epoch 60 : MAE : 0.9833  RMSE : 2.0759  NMAE : 1.0645  MRE : 0.8862  NPRE : 7.2815\r\n",
      "2023-01-14 00:42:05  Epoch 70 : MAE : 1.0146  RMSE : 2.0990  NMAE : 1.0984  MRE : 0.9334  NPRE : 7.6857\r\n",
      "2023-01-14 00:42:19  Epoch 80 : MAE : 0.9248  RMSE : 1.9889  NMAE : 1.0012  MRE : 0.8974  NPRE : 6.8557\r\n",
      "2023-01-14 00:42:19  Best epoch  5 : MAE : 0.8426  RMSE : 2.0650  NMAE : 0.9122  MRE : 0.8775  NPRE : 5.7060\r\n",
      "2023-01-14 00:42:19  实验 1 模型 6 training time = 0.86 s\r\n",
      "2023-01-14 00:42:19  Slice ID  6 : MAE = 0.8426, RMSE = 2.0650, NMAE = 0.9122, MRE = 0.8775, NPRE = 5.7060\r\n",
      "\r\n",
      "2023-01-14 00:42:19  \t实验 1 模型 7 开始分片训练\r\n",
      "2023-01-14 00:42:32  Epoch 10 : MAE : 0.8531  RMSE : 2.1212  NMAE : 0.9236  MRE : 0.9418  NPRE : 3.8907\r\n",
      "2023-01-14 00:42:45  Epoch 20 : MAE : 0.9138  RMSE : 2.0811  NMAE : 0.9893  MRE : 0.9686  NPRE : 6.9148\r\n",
      "2023-01-14 00:42:57  Epoch 30 : MAE : 1.0943  RMSE : 2.1328  NMAE : 1.1847  MRE : 1.0000  NPRE : 10.6940\r\n",
      "2023-01-14 00:43:10  Epoch 40 : MAE : 1.2656  RMSE : 2.2756  NMAE : 1.3702  MRE : 1.3185  NPRE : 13.4116\r\n",
      "2023-01-14 00:43:22  Epoch 50 : MAE : 1.2377  RMSE : 2.2436  NMAE : 1.3399  MRE : 1.2733  NPRE : 13.0321\r\n",
      "2023-01-14 00:43:35  Epoch 60 : MAE : 1.2960  RMSE : 2.2870  NMAE : 1.4030  MRE : 1.3979  NPRE : 13.9451\r\n",
      "2023-01-14 00:43:47  Epoch 70 : MAE : 1.3573  RMSE : 2.4177  NMAE : 1.4694  MRE : 1.2700  NPRE : 14.7665\r\n",
      "2023-01-14 00:44:00  Epoch 80 : MAE : 1.2058  RMSE : 2.2425  NMAE : 1.3054  MRE : 1.1333  NPRE : 12.4964\r\n",
      "2023-01-14 00:44:00  Best epoch 11 : MAE : 0.8523  RMSE : 2.1197  NMAE : 0.9227  MRE : 0.9384  NPRE : 3.9588\r\n",
      "2023-01-14 00:44:00  实验 1 模型 7 training time = 0.86 s\r\n",
      "2023-01-14 00:44:00  Slice ID  7 : MAE = 0.8523, RMSE = 2.1197, NMAE = 0.9227, MRE = 0.9384, NPRE = 3.9588\r\n",
      "\r\n",
      "2023-01-14 00:44:00  \t实验 1 模型 8 开始分片训练\r\n",
      "2023-01-14 00:44:14  Epoch 10 : MAE : 0.8233  RMSE : 2.0895  NMAE : 0.8913  MRE : 0.8412  NPRE : 4.5791\r\n",
      "2023-01-14 00:44:27  Epoch 20 : MAE : 0.8837  RMSE : 2.0395  NMAE : 0.9566  MRE : 0.9014  NPRE : 6.4834\r\n",
      "2023-01-14 00:44:40  Epoch 30 : MAE : 0.9400  RMSE : 2.0390  NMAE : 1.0177  MRE : 0.9088  NPRE : 7.1396\r\n",
      "2023-01-14 00:44:54  Epoch 40 : MAE : 0.9990  RMSE : 2.0869  NMAE : 1.0815  MRE : 0.9306  NPRE : 8.1457\r\n",
      "2023-01-14 00:45:07  Epoch 50 : MAE : 0.8920  RMSE : 2.0119  NMAE : 0.9657  MRE : 0.8910  NPRE : 6.5102\r\n",
      "2023-01-14 00:45:20  Epoch 60 : MAE : 0.8922  RMSE : 2.0195  NMAE : 0.9658  MRE : 0.8724  NPRE : 6.5096\r\n",
      "2023-01-14 00:45:33  Epoch 70 : MAE : 0.8733  RMSE : 2.0017  NMAE : 0.9454  MRE : 0.8595  NPRE : 6.2366\r\n",
      "2023-01-14 00:45:47  Epoch 80 : MAE : 0.8525  RMSE : 1.9892  NMAE : 0.9228  MRE : 0.8329  NPRE : 5.8351\r\n",
      "2023-01-14 00:45:47  Best epoch  8 : MAE : 0.8156  RMSE : 2.0955  NMAE : 0.8829  MRE : 0.8088  NPRE : 4.3596\r\n",
      "2023-01-14 00:45:47  实验 1 模型 8 training time = 1.23 s\r\n",
      "2023-01-14 00:45:47  Slice ID  8 : MAE = 0.8156, RMSE = 2.0955, NMAE = 0.8829, MRE = 0.8088, NPRE = 4.3596\r\n",
      "\r\n",
      "2023-01-14 00:45:47  \t实验 1 模型 9 开始分片训练\r\n",
      "2023-01-14 00:46:02  Epoch 10 : MAE : 0.8392  RMSE : 2.0506  NMAE : 0.9086  MRE : 0.8849  NPRE : 5.8036\r\n",
      "2023-01-14 00:46:16  Epoch 20 : MAE : 0.8836  RMSE : 1.9997  NMAE : 0.9566  MRE : 0.9064  NPRE : 6.6221\r\n",
      "2023-01-14 00:46:31  Epoch 30 : MAE : 0.8845  RMSE : 2.0146  NMAE : 0.9575  MRE : 0.8822  NPRE : 6.2354\r\n",
      "2023-01-14 00:46:45  Epoch 40 : MAE : 0.8694  RMSE : 1.9755  NMAE : 0.9412  MRE : 0.8704  NPRE : 6.1156\r\n",
      "2023-01-14 00:46:59  Epoch 50 : MAE : 0.8702  RMSE : 1.9569  NMAE : 0.9420  MRE : 0.8898  NPRE : 6.4760\r\n",
      "2023-01-14 00:47:14  Epoch 60 : MAE : 0.9030  RMSE : 1.9785  NMAE : 0.9775  MRE : 0.9354  NPRE : 6.8680\r\n",
      "2023-01-14 00:47:28  Epoch 70 : MAE : 0.8783  RMSE : 1.9785  NMAE : 0.9509  MRE : 0.9045  NPRE : 6.1509\r\n",
      "2023-01-14 00:47:43  Epoch 80 : MAE : 0.8765  RMSE : 1.9497  NMAE : 0.9489  MRE : 0.9345  NPRE : 6.3251\r\n",
      "2023-01-14 00:47:43  Best epoch  3 : MAE : 0.8263  RMSE : 2.0788  NMAE : 0.8946  MRE : 0.8569  NPRE : 5.2487\r\n",
      "2023-01-14 00:47:43  实验 1 模型 9 training time = 0.79 s\r\n",
      "2023-01-14 00:47:43  Slice ID  9 : MAE = 0.8263, RMSE = 2.0788, NMAE = 0.8946, MRE = 0.8569, NPRE = 5.2487\r\n",
      "\r\n",
      "2023-01-14 00:47:43  \t实验 1 模型 10 开始分片训练\r\n",
      "2023-01-14 00:48:00  Epoch 10 : MAE : 0.8018  RMSE : 2.0456  NMAE : 0.8680  MRE : 0.8088  NPRE : 4.5480\r\n",
      "2023-01-14 00:48:18  Epoch 20 : MAE : 0.8046  RMSE : 1.9223  NMAE : 0.8710  MRE : 0.7988  NPRE : 5.0316\r\n",
      "2023-01-14 00:48:34  Epoch 30 : MAE : 0.8083  RMSE : 1.9015  NMAE : 0.8751  MRE : 0.8145  NPRE : 5.1669\r\n",
      "2023-01-14 00:48:52  Epoch 40 : MAE : 0.7739  RMSE : 1.8878  NMAE : 0.8379  MRE : 0.7760  NPRE : 4.1363\r\n",
      "2023-01-14 00:49:11  Epoch 50 : MAE : 0.7930  RMSE : 1.8660  NMAE : 0.8585  MRE : 0.8221  NPRE : 4.8478\r\n",
      "2023-01-14 00:49:29  Epoch 60 : MAE : 0.7683  RMSE : 1.8513  NMAE : 0.8317  MRE : 0.7893  NPRE : 4.4620\r\n",
      "2023-01-14 00:49:45  Epoch 70 : MAE : 0.7582  RMSE : 1.8501  NMAE : 0.8208  MRE : 0.7883  NPRE : 4.0834\r\n",
      "2023-01-14 00:50:03  Epoch 80 : MAE : 0.7691  RMSE : 1.8424  NMAE : 0.8326  MRE : 0.8225  NPRE : 4.4602\r\n",
      "2023-01-14 00:50:03  Best epoch 56 : MAE : 0.7464  RMSE : 1.8484  NMAE : 0.8081  MRE : 0.7455  NPRE : 3.9825\r\n",
      "2023-01-14 00:50:03  实验 1 模型 10 training time = 25.11 s\r\n",
      "2023-01-14 00:50:03  Slice ID  10 : MAE = 0.7464, RMSE = 1.8484, NMAE = 0.8081, MRE = 0.7455, NPRE = 3.9825\r\n",
      "\r\n",
      "2023-01-14 00:50:03  \t所有切片模型训练完毕\r\n",
      "2023-01-14 00:50:03  \t开始训练聚合模型\r\n",
      "2023-01-14 00:50:14  Epoch  1 : MAE : 0.5425  RMSE : 1.5408  NMAE : 0.5873  MRE : 0.4705  NPRE : 2.4827\r\n",
      "2023-01-14 00:50:25  Epoch  2 : MAE : 0.5129  RMSE : 1.4909  NMAE : 0.5553  MRE : 0.4489  NPRE : 2.4721\r\n",
      "2023-01-14 00:50:37  Epoch  3 : MAE : 0.4998  RMSE : 1.4674  NMAE : 0.5410  MRE : 0.4367  NPRE : 2.3966\r\n",
      "2023-01-14 00:50:48  Epoch  4 : MAE : 0.4946  RMSE : 1.4717  NMAE : 0.5354  MRE : 0.4323  NPRE : 2.1445\r\n",
      "2023-01-14 00:50:59  Epoch  5 : MAE : 0.4888  RMSE : 1.4451  NMAE : 0.5292  MRE : 0.4375  NPRE : 2.5458\r\n",
      "2023-01-14 00:50:59  \t实验 1 聚合模型训练完毕\r\n",
      "2023-01-14 00:51:15  Result : MAE : 0.4771  RMSE : 1.4031  NMAE : 0.5255  MRE : 0.4332  NPRE : 2.4801\r\n",
      "2023-01-14 00:51:15  \t实验 1 : Aggregators training time = 51.28 s\r\n",
      "\r\n",
      "2023-01-14 00:51:15  \t聚合模型训练完毕\r\n",
      "2023-01-14 00:51:15  Round 1 : MAE = 0.4771, RMSE = 1.4031, NMAE = 0.5255, MRE = 0.4332, NPRE = 2.4801\r\n",
      "\r\n",
      "------------------------------------------------------------------------------------------------------------------------\r\n",
      "2023-01-14 00:51:15  Dataset : rt     interaction : NeuCF\r\n",
      "2023-01-14 00:51:15  Density : 10.00%, slice_epochs : 80, agg_epochs : 5\r\n",
      "2023-01-14 00:51:15  Part_type : 4,    slices : 10,       devices : gpu\r\n",
      "\r\n",
      "\r\n",
      "2023-01-14 00:51:15  Density 10.00% : MAE = 0.477, RMSE = 1.403, NMAE = 0.526, MRE = 0.433, NPRE = 2.480\r\n",
      "\r\n",
      "2023-01-14 00:51:15  Experiment success!\r\n"
     ]
    }
   ],
   "source": [
    "!python Experiment.py --dataset tp --interaction NeuCF --rounds 1 --agg_epochs 5 --density 0.10 --part_type 4"
   ],
   "metadata": {
    "collapsed": false
   }
  },
  {
   "cell_type": "code",
   "execution_count": 8,
   "outputs": [
    {
     "name": "stdout",
     "output_type": "stream",
     "text": [
      "2023-01-14 00:51:16  Namespace(agg_epochs=5, agg_function=3, agg_type='softmax', balance=0, batch_size=128, beta=1, cluster='deep', cuda=True, dataset='rt', debug=0, density=0.1, devices='gpu', dimension=32, dir='../Dataset/mnist', dropout=0.1, epoch=1500, hidden_dims=[64, 64, 100], input_dim=128, interaction='NeuCF', kmeans_type=1, lamda=1, latent_dim=10, log_interval=100, lr=0.0001, n_classes=10, n_clusters=10, n_jobs=1, node2vec=0, node2vec_batchsize=32, node2vec_dim=128, node2vec_epochs=20, node2vec_length=8, node2vec_walk=15, node2vec_windows=3, num_layers=2, order=2, part_iter=50, part_type=5, path='./datasets/data/WSDREAM/', pre_epoch=1000, pretrain=True, processed=0, retrain=0, rounds=1, save_model=1, slice_epochs=80, slices=10, subagg=1, verbose=10, wd=0.0005)\r\n",
      "2023-01-14 00:51:16  Experiment start!\r\n",
      "2023-01-14 00:51:16  Dataset : rt     interaction : NeuCF\r\n",
      "2023-01-14 00:51:16  Density : 10.00%, slice_epochs : 80, agg_epochs : 5\r\n",
      "2023-01-14 00:51:16  Part_type : 5,    slices : 10,       devices : gpu\r\n",
      "\r\n",
      "2023-01-14 00:51:16  Round 1 experiment start!\r\n",
      "2023-01-14 00:51:16  \t原始数据集读取完毕\r\n",
      "2023-01-14 00:51:17  \t图嵌入均衡切割\r\n",
      "Computing transition probabilities: 100%|███| 507/507 [00:00<00:00, 3035.26it/s]\r\n",
      "Generating walks (CPU: 1): 100%|██████████████████| 4/4 [00:00<00:00, 84.86it/s]\r\n",
      "Generating walks (CPU: 2): 100%|██████████████████| 4/4 [00:00<00:00, 85.24it/s]\r\n",
      "Generating walks (CPU: 4): 100%|██████████████████| 3/3 [00:00<00:00, 85.85it/s]\r\n",
      "Generating walks (CPU: 3): 100%|██████████████████| 4/4 [00:00<00:00, 81.09it/s]\r\n",
      "========== Start pretraining ==========\r\n",
      "100%|██████████████████████████████████████| 1000/1000 [00:06<00:00, 159.22it/s]\r\n",
      "Exception ignored on calling ctypes callback function: <function _ThreadpoolInfo._find_modules_with_dl_iterate_phdr.<locals>.match_module_callback at 0x7f30d582d8b0>\r\n",
      "Traceback (most recent call last):\r\n",
      "  File \"/home/yxzeng/anaconda3/lib/python3.8/site-packages/threadpoolctl.py\", line 400, in match_module_callback\r\n",
      "    self._make_module_from_path(filepath)\r\n",
      "  File \"/home/yxzeng/anaconda3/lib/python3.8/site-packages/threadpoolctl.py\", line 515, in _make_module_from_path\r\n",
      "    module = module_class(filepath, prefix, user_api, internal_api)\r\n",
      "  File \"/home/yxzeng/anaconda3/lib/python3.8/site-packages/threadpoolctl.py\", line 606, in __init__\r\n",
      "    self.version = self.get_version()\r\n",
      "  File \"/home/yxzeng/anaconda3/lib/python3.8/site-packages/threadpoolctl.py\", line 646, in get_version\r\n",
      "    config = get_config().split()\r\n",
      "AttributeError: 'NoneType' object has no attribute 'split'\r\n",
      "Exception ignored on calling ctypes callback function: <function _ThreadpoolInfo._find_modules_with_dl_iterate_phdr.<locals>.match_module_callback at 0x7f30d582d8b0>\r\n",
      "Traceback (most recent call last):\r\n",
      "  File \"/home/yxzeng/anaconda3/lib/python3.8/site-packages/threadpoolctl.py\", line 400, in match_module_callback\r\n",
      "    self._make_module_from_path(filepath)\r\n",
      "  File \"/home/yxzeng/anaconda3/lib/python3.8/site-packages/threadpoolctl.py\", line 515, in _make_module_from_path\r\n",
      "    module = module_class(filepath, prefix, user_api, internal_api)\r\n",
      "  File \"/home/yxzeng/anaconda3/lib/python3.8/site-packages/threadpoolctl.py\", line 606, in __init__\r\n",
      "    self.version = self.get_version()\r\n",
      "  File \"/home/yxzeng/anaconda3/lib/python3.8/site-packages/threadpoolctl.py\", line 646, in get_version\r\n",
      "    config = get_config().split()\r\n",
      "AttributeError: 'NoneType' object has no attribute 'split'\r\n",
      "Exception ignored on calling ctypes callback function: <function _ThreadpoolInfo._find_modules_with_dl_iterate_phdr.<locals>.match_module_callback at 0x7f30d582d8b0>\r\n",
      "Traceback (most recent call last):\r\n",
      "  File \"/home/yxzeng/anaconda3/lib/python3.8/site-packages/threadpoolctl.py\", line 400, in match_module_callback\r\n",
      "    self._make_module_from_path(filepath)\r\n",
      "  File \"/home/yxzeng/anaconda3/lib/python3.8/site-packages/threadpoolctl.py\", line 515, in _make_module_from_path\r\n",
      "    module = module_class(filepath, prefix, user_api, internal_api)\r\n",
      "  File \"/home/yxzeng/anaconda3/lib/python3.8/site-packages/threadpoolctl.py\", line 606, in __init__\r\n",
      "    self.version = self.get_version()\r\n",
      "  File \"/home/yxzeng/anaconda3/lib/python3.8/site-packages/threadpoolctl.py\", line 646, in get_version\r\n",
      "    config = get_config().split()\r\n",
      "AttributeError: 'NoneType' object has no attribute 'split'\r\n",
      "Exception ignored on calling ctypes callback function: <function _ThreadpoolInfo._find_modules_with_dl_iterate_phdr.<locals>.match_module_callback at 0x7f30d582d8b0>\r\n",
      "Traceback (most recent call last):\r\n",
      "  File \"/home/yxzeng/anaconda3/lib/python3.8/site-packages/threadpoolctl.py\", line 400, in match_module_callback\r\n",
      "    self._make_module_from_path(filepath)\r\n",
      "  File \"/home/yxzeng/anaconda3/lib/python3.8/site-packages/threadpoolctl.py\", line 515, in _make_module_from_path\r\n",
      "    module = module_class(filepath, prefix, user_api, internal_api)\r\n",
      "  File \"/home/yxzeng/anaconda3/lib/python3.8/site-packages/threadpoolctl.py\", line 606, in __init__\r\n",
      "    self.version = self.get_version()\r\n",
      "  File \"/home/yxzeng/anaconda3/lib/python3.8/site-packages/threadpoolctl.py\", line 646, in get_version\r\n",
      "    config = get_config().split()\r\n",
      "AttributeError: 'NoneType' object has no attribute 'split'\r\n",
      "Exception ignored on calling ctypes callback function: <function _ThreadpoolInfo._find_modules_with_dl_iterate_phdr.<locals>.match_module_callback at 0x7f30d582d8b0>\r\n",
      "Traceback (most recent call last):\r\n",
      "  File \"/home/yxzeng/anaconda3/lib/python3.8/site-packages/threadpoolctl.py\", line 400, in match_module_callback\r\n",
      "    self._make_module_from_path(filepath)\r\n",
      "  File \"/home/yxzeng/anaconda3/lib/python3.8/site-packages/threadpoolctl.py\", line 515, in _make_module_from_path\r\n",
      "    module = module_class(filepath, prefix, user_api, internal_api)\r\n",
      "  File \"/home/yxzeng/anaconda3/lib/python3.8/site-packages/threadpoolctl.py\", line 606, in __init__\r\n",
      "    self.version = self.get_version()\r\n",
      "  File \"/home/yxzeng/anaconda3/lib/python3.8/site-packages/threadpoolctl.py\", line 646, in get_version\r\n",
      "    config = get_config().split()\r\n",
      "AttributeError: 'NoneType' object has no attribute 'split'\r\n",
      "Exception ignored on calling ctypes callback function: <function _ThreadpoolInfo._find_modules_with_dl_iterate_phdr.<locals>.match_module_callback at 0x7f30d582d8b0>\r\n",
      "Traceback (most recent call last):\r\n",
      "  File \"/home/yxzeng/anaconda3/lib/python3.8/site-packages/threadpoolctl.py\", line 400, in match_module_callback\r\n",
      "    self._make_module_from_path(filepath)\r\n",
      "  File \"/home/yxzeng/anaconda3/lib/python3.8/site-packages/threadpoolctl.py\", line 515, in _make_module_from_path\r\n",
      "    module = module_class(filepath, prefix, user_api, internal_api)\r\n",
      "  File \"/home/yxzeng/anaconda3/lib/python3.8/site-packages/threadpoolctl.py\", line 606, in __init__\r\n",
      "    self.version = self.get_version()\r\n",
      "  File \"/home/yxzeng/anaconda3/lib/python3.8/site-packages/threadpoolctl.py\", line 646, in get_version\r\n",
      "    config = get_config().split()\r\n",
      "AttributeError: 'NoneType' object has no attribute 'split'\r\n",
      "Exception ignored on calling ctypes callback function: <function _ThreadpoolInfo._find_modules_with_dl_iterate_phdr.<locals>.match_module_callback at 0x7f30d582d8b0>\r\n",
      "Traceback (most recent call last):\r\n",
      "  File \"/home/yxzeng/anaconda3/lib/python3.8/site-packages/threadpoolctl.py\", line 400, in match_module_callback\r\n",
      "    self._make_module_from_path(filepath)\r\n",
      "  File \"/home/yxzeng/anaconda3/lib/python3.8/site-packages/threadpoolctl.py\", line 515, in _make_module_from_path\r\n",
      "    module = module_class(filepath, prefix, user_api, internal_api)\r\n",
      "  File \"/home/yxzeng/anaconda3/lib/python3.8/site-packages/threadpoolctl.py\", line 606, in __init__\r\n",
      "    self.version = self.get_version()\r\n",
      "  File \"/home/yxzeng/anaconda3/lib/python3.8/site-packages/threadpoolctl.py\", line 646, in get_version\r\n",
      "    config = get_config().split()\r\n",
      "AttributeError: 'NoneType' object has no attribute 'split'\r\n",
      "Exception ignored on calling ctypes callback function: <function _ThreadpoolInfo._find_modules_with_dl_iterate_phdr.<locals>.match_module_callback at 0x7f30d582d8b0>\r\n",
      "Traceback (most recent call last):\r\n",
      "  File \"/home/yxzeng/anaconda3/lib/python3.8/site-packages/threadpoolctl.py\", line 400, in match_module_callback\r\n",
      "    self._make_module_from_path(filepath)\r\n",
      "  File \"/home/yxzeng/anaconda3/lib/python3.8/site-packages/threadpoolctl.py\", line 515, in _make_module_from_path\r\n",
      "    module = module_class(filepath, prefix, user_api, internal_api)\r\n",
      "  File \"/home/yxzeng/anaconda3/lib/python3.8/site-packages/threadpoolctl.py\", line 606, in __init__\r\n",
      "    self.version = self.get_version()\r\n",
      "  File \"/home/yxzeng/anaconda3/lib/python3.8/site-packages/threadpoolctl.py\", line 646, in get_version\r\n",
      "    config = get_config().split()\r\n",
      "AttributeError: 'NoneType' object has no attribute 'split'\r\n",
      "Exception ignored on calling ctypes callback function: <function _ThreadpoolInfo._find_modules_with_dl_iterate_phdr.<locals>.match_module_callback at 0x7f30d582d8b0>\r\n",
      "Traceback (most recent call last):\r\n",
      "  File \"/home/yxzeng/anaconda3/lib/python3.8/site-packages/threadpoolctl.py\", line 400, in match_module_callback\r\n",
      "    self._make_module_from_path(filepath)\r\n",
      "  File \"/home/yxzeng/anaconda3/lib/python3.8/site-packages/threadpoolctl.py\", line 515, in _make_module_from_path\r\n",
      "    module = module_class(filepath, prefix, user_api, internal_api)\r\n",
      "  File \"/home/yxzeng/anaconda3/lib/python3.8/site-packages/threadpoolctl.py\", line 606, in __init__\r\n",
      "    self.version = self.get_version()\r\n",
      "  File \"/home/yxzeng/anaconda3/lib/python3.8/site-packages/threadpoolctl.py\", line 646, in get_version\r\n",
      "    config = get_config().split()\r\n",
      "AttributeError: 'NoneType' object has no attribute 'split'\r\n",
      "Exception ignored on calling ctypes callback function: <function _ThreadpoolInfo._find_modules_with_dl_iterate_phdr.<locals>.match_module_callback at 0x7f30d582d8b0>\r\n",
      "Traceback (most recent call last):\r\n",
      "  File \"/home/yxzeng/anaconda3/lib/python3.8/site-packages/threadpoolctl.py\", line 400, in match_module_callback\r\n",
      "    self._make_module_from_path(filepath)\r\n",
      "  File \"/home/yxzeng/anaconda3/lib/python3.8/site-packages/threadpoolctl.py\", line 515, in _make_module_from_path\r\n",
      "    module = module_class(filepath, prefix, user_api, internal_api)\r\n",
      "  File \"/home/yxzeng/anaconda3/lib/python3.8/site-packages/threadpoolctl.py\", line 606, in __init__\r\n",
      "    self.version = self.get_version()\r\n",
      "  File \"/home/yxzeng/anaconda3/lib/python3.8/site-packages/threadpoolctl.py\", line 646, in get_version\r\n",
      "    config = get_config().split()\r\n",
      "AttributeError: 'NoneType' object has no attribute 'split'\r\n",
      "Exception ignored on calling ctypes callback function: <function _ThreadpoolInfo._find_modules_with_dl_iterate_phdr.<locals>.match_module_callback at 0x7f30d582d8b0>\r\n",
      "Traceback (most recent call last):\r\n",
      "  File \"/home/yxzeng/anaconda3/lib/python3.8/site-packages/threadpoolctl.py\", line 400, in match_module_callback\r\n",
      "    self._make_module_from_path(filepath)\r\n",
      "  File \"/home/yxzeng/anaconda3/lib/python3.8/site-packages/threadpoolctl.py\", line 515, in _make_module_from_path\r\n",
      "    module = module_class(filepath, prefix, user_api, internal_api)\r\n",
      "  File \"/home/yxzeng/anaconda3/lib/python3.8/site-packages/threadpoolctl.py\", line 606, in __init__\r\n",
      "    self.version = self.get_version()\r\n",
      "  File \"/home/yxzeng/anaconda3/lib/python3.8/site-packages/threadpoolctl.py\", line 646, in get_version\r\n",
      "    config = get_config().split()\r\n",
      "AttributeError: 'NoneType' object has no attribute 'split'\r\n",
      "Exception ignored on calling ctypes callback function: <function _ThreadpoolInfo._find_modules_with_dl_iterate_phdr.<locals>.match_module_callback at 0x7f30d582d8b0>\r\n",
      "Traceback (most recent call last):\r\n",
      "  File \"/home/yxzeng/anaconda3/lib/python3.8/site-packages/threadpoolctl.py\", line 400, in match_module_callback\r\n",
      "    self._make_module_from_path(filepath)\r\n",
      "  File \"/home/yxzeng/anaconda3/lib/python3.8/site-packages/threadpoolctl.py\", line 515, in _make_module_from_path\r\n",
      "    module = module_class(filepath, prefix, user_api, internal_api)\r\n",
      "  File \"/home/yxzeng/anaconda3/lib/python3.8/site-packages/threadpoolctl.py\", line 606, in __init__\r\n",
      "    self.version = self.get_version()\r\n",
      "  File \"/home/yxzeng/anaconda3/lib/python3.8/site-packages/threadpoolctl.py\", line 646, in get_version\r\n",
      "    config = get_config().split()\r\n",
      "AttributeError: 'NoneType' object has no attribute 'split'\r\n",
      "Exception ignored on calling ctypes callback function: <function _ThreadpoolInfo._find_modules_with_dl_iterate_phdr.<locals>.match_module_callback at 0x7f30d582d8b0>\r\n",
      "Traceback (most recent call last):\r\n",
      "  File \"/home/yxzeng/anaconda3/lib/python3.8/site-packages/threadpoolctl.py\", line 400, in match_module_callback\r\n",
      "    self._make_module_from_path(filepath)\r\n",
      "  File \"/home/yxzeng/anaconda3/lib/python3.8/site-packages/threadpoolctl.py\", line 515, in _make_module_from_path\r\n",
      "    module = module_class(filepath, prefix, user_api, internal_api)\r\n",
      "  File \"/home/yxzeng/anaconda3/lib/python3.8/site-packages/threadpoolctl.py\", line 606, in __init__\r\n",
      "    self.version = self.get_version()\r\n",
      "  File \"/home/yxzeng/anaconda3/lib/python3.8/site-packages/threadpoolctl.py\", line 646, in get_version\r\n",
      "    config = get_config().split()\r\n",
      "AttributeError: 'NoneType' object has no attribute 'split'\r\n",
      "Exception ignored on calling ctypes callback function: <function _ThreadpoolInfo._find_modules_with_dl_iterate_phdr.<locals>.match_module_callback at 0x7f30d582d8b0>\r\n",
      "Traceback (most recent call last):\r\n",
      "  File \"/home/yxzeng/anaconda3/lib/python3.8/site-packages/threadpoolctl.py\", line 400, in match_module_callback\r\n",
      "    self._make_module_from_path(filepath)\r\n",
      "  File \"/home/yxzeng/anaconda3/lib/python3.8/site-packages/threadpoolctl.py\", line 515, in _make_module_from_path\r\n",
      "    module = module_class(filepath, prefix, user_api, internal_api)\r\n",
      "  File \"/home/yxzeng/anaconda3/lib/python3.8/site-packages/threadpoolctl.py\", line 606, in __init__\r\n",
      "    self.version = self.get_version()\r\n",
      "  File \"/home/yxzeng/anaconda3/lib/python3.8/site-packages/threadpoolctl.py\", line 646, in get_version\r\n",
      "    config = get_config().split()\r\n",
      "AttributeError: 'NoneType' object has no attribute 'split'\r\n",
      "Exception ignored on calling ctypes callback function: <function _ThreadpoolInfo._find_modules_with_dl_iterate_phdr.<locals>.match_module_callback at 0x7f30d582d8b0>\r\n",
      "Traceback (most recent call last):\r\n",
      "  File \"/home/yxzeng/anaconda3/lib/python3.8/site-packages/threadpoolctl.py\", line 400, in match_module_callback\r\n",
      "    self._make_module_from_path(filepath)\r\n",
      "  File \"/home/yxzeng/anaconda3/lib/python3.8/site-packages/threadpoolctl.py\", line 515, in _make_module_from_path\r\n",
      "    module = module_class(filepath, prefix, user_api, internal_api)\r\n",
      "  File \"/home/yxzeng/anaconda3/lib/python3.8/site-packages/threadpoolctl.py\", line 606, in __init__\r\n",
      "    self.version = self.get_version()\r\n",
      "  File \"/home/yxzeng/anaconda3/lib/python3.8/site-packages/threadpoolctl.py\", line 646, in get_version\r\n",
      "    config = get_config().split()\r\n",
      "AttributeError: 'NoneType' object has no attribute 'split'\r\n",
      "Exception ignored on calling ctypes callback function: <function _ThreadpoolInfo._find_modules_with_dl_iterate_phdr.<locals>.match_module_callback at 0x7f30d582d8b0>\r\n",
      "Traceback (most recent call last):\r\n",
      "  File \"/home/yxzeng/anaconda3/lib/python3.8/site-packages/threadpoolctl.py\", line 400, in match_module_callback\r\n",
      "    self._make_module_from_path(filepath)\r\n",
      "  File \"/home/yxzeng/anaconda3/lib/python3.8/site-packages/threadpoolctl.py\", line 515, in _make_module_from_path\r\n",
      "    module = module_class(filepath, prefix, user_api, internal_api)\r\n",
      "  File \"/home/yxzeng/anaconda3/lib/python3.8/site-packages/threadpoolctl.py\", line 606, in __init__\r\n",
      "    self.version = self.get_version()\r\n",
      "  File \"/home/yxzeng/anaconda3/lib/python3.8/site-packages/threadpoolctl.py\", line 646, in get_version\r\n",
      "    config = get_config().split()\r\n",
      "AttributeError: 'NoneType' object has no attribute 'split'\r\n",
      "Exception ignored on calling ctypes callback function: <function _ThreadpoolInfo._find_modules_with_dl_iterate_phdr.<locals>.match_module_callback at 0x7f30d582d8b0>\r\n",
      "Traceback (most recent call last):\r\n",
      "  File \"/home/yxzeng/anaconda3/lib/python3.8/site-packages/threadpoolctl.py\", line 400, in match_module_callback\r\n",
      "    self._make_module_from_path(filepath)\r\n",
      "  File \"/home/yxzeng/anaconda3/lib/python3.8/site-packages/threadpoolctl.py\", line 515, in _make_module_from_path\r\n",
      "    module = module_class(filepath, prefix, user_api, internal_api)\r\n",
      "  File \"/home/yxzeng/anaconda3/lib/python3.8/site-packages/threadpoolctl.py\", line 606, in __init__\r\n",
      "    self.version = self.get_version()\r\n",
      "  File \"/home/yxzeng/anaconda3/lib/python3.8/site-packages/threadpoolctl.py\", line 646, in get_version\r\n",
      "    config = get_config().split()\r\n",
      "AttributeError: 'NoneType' object has no attribute 'split'\r\n",
      "Exception ignored on calling ctypes callback function: <function _ThreadpoolInfo._find_modules_with_dl_iterate_phdr.<locals>.match_module_callback at 0x7f30d582d8b0>\r\n",
      "Traceback (most recent call last):\r\n",
      "  File \"/home/yxzeng/anaconda3/lib/python3.8/site-packages/threadpoolctl.py\", line 400, in match_module_callback\r\n",
      "    self._make_module_from_path(filepath)\r\n",
      "  File \"/home/yxzeng/anaconda3/lib/python3.8/site-packages/threadpoolctl.py\", line 515, in _make_module_from_path\r\n",
      "    module = module_class(filepath, prefix, user_api, internal_api)\r\n",
      "  File \"/home/yxzeng/anaconda3/lib/python3.8/site-packages/threadpoolctl.py\", line 606, in __init__\r\n",
      "    self.version = self.get_version()\r\n",
      "  File \"/home/yxzeng/anaconda3/lib/python3.8/site-packages/threadpoolctl.py\", line 646, in get_version\r\n",
      "    config = get_config().split()\r\n",
      "AttributeError: 'NoneType' object has no attribute 'split'\r\n",
      "Exception ignored on calling ctypes callback function: <function _ThreadpoolInfo._find_modules_with_dl_iterate_phdr.<locals>.match_module_callback at 0x7f30d582d8b0>\r\n",
      "Traceback (most recent call last):\r\n",
      "  File \"/home/yxzeng/anaconda3/lib/python3.8/site-packages/threadpoolctl.py\", line 400, in match_module_callback\r\n",
      "    self._make_module_from_path(filepath)\r\n",
      "  File \"/home/yxzeng/anaconda3/lib/python3.8/site-packages/threadpoolctl.py\", line 515, in _make_module_from_path\r\n",
      "    module = module_class(filepath, prefix, user_api, internal_api)\r\n",
      "  File \"/home/yxzeng/anaconda3/lib/python3.8/site-packages/threadpoolctl.py\", line 606, in __init__\r\n",
      "    self.version = self.get_version()\r\n",
      "  File \"/home/yxzeng/anaconda3/lib/python3.8/site-packages/threadpoolctl.py\", line 646, in get_version\r\n",
      "    config = get_config().split()\r\n",
      "AttributeError: 'NoneType' object has no attribute 'split'\r\n",
      "Exception ignored on calling ctypes callback function: <function _ThreadpoolInfo._find_modules_with_dl_iterate_phdr.<locals>.match_module_callback at 0x7f30d582d8b0>\r\n",
      "Traceback (most recent call last):\r\n",
      "  File \"/home/yxzeng/anaconda3/lib/python3.8/site-packages/threadpoolctl.py\", line 400, in match_module_callback\r\n",
      "    self._make_module_from_path(filepath)\r\n",
      "  File \"/home/yxzeng/anaconda3/lib/python3.8/site-packages/threadpoolctl.py\", line 515, in _make_module_from_path\r\n",
      "    module = module_class(filepath, prefix, user_api, internal_api)\r\n",
      "  File \"/home/yxzeng/anaconda3/lib/python3.8/site-packages/threadpoolctl.py\", line 606, in __init__\r\n",
      "    self.version = self.get_version()\r\n",
      "  File \"/home/yxzeng/anaconda3/lib/python3.8/site-packages/threadpoolctl.py\", line 646, in get_version\r\n",
      "    config = get_config().split()\r\n",
      "AttributeError: 'NoneType' object has no attribute 'split'\r\n",
      "Exception ignored on calling ctypes callback function: <function _ThreadpoolInfo._find_modules_with_dl_iterate_phdr.<locals>.match_module_callback at 0x7f30d582d8b0>\r\n",
      "Traceback (most recent call last):\r\n",
      "  File \"/home/yxzeng/anaconda3/lib/python3.8/site-packages/threadpoolctl.py\", line 400, in match_module_callback\r\n",
      "    self._make_module_from_path(filepath)\r\n",
      "  File \"/home/yxzeng/anaconda3/lib/python3.8/site-packages/threadpoolctl.py\", line 515, in _make_module_from_path\r\n",
      "    module = module_class(filepath, prefix, user_api, internal_api)\r\n",
      "  File \"/home/yxzeng/anaconda3/lib/python3.8/site-packages/threadpoolctl.py\", line 606, in __init__\r\n",
      "    self.version = self.get_version()\r\n",
      "  File \"/home/yxzeng/anaconda3/lib/python3.8/site-packages/threadpoolctl.py\", line 646, in get_version\r\n",
      "    config = get_config().split()\r\n",
      "AttributeError: 'NoneType' object has no attribute 'split'\r\n",
      "100%|███████████████████████████████████████| 1500/1500 [02:01<00:00, 12.35it/s]\r\n",
      "========== End pretraining ==========\r\n",
      "--------------------------------------------------------------------------------\r\n",
      "Exception ignored on calling ctypes callback function: <function _ThreadpoolInfo._find_modules_with_dl_iterate_phdr.<locals>.match_module_callback at 0x7f3172b26b80>\r\n",
      "Traceback (most recent call last):\r\n",
      "  File \"/home/yxzeng/anaconda3/lib/python3.8/site-packages/threadpoolctl.py\", line 400, in match_module_callback\r\n",
      "    self._make_module_from_path(filepath)\r\n",
      "  File \"/home/yxzeng/anaconda3/lib/python3.8/site-packages/threadpoolctl.py\", line 515, in _make_module_from_path\r\n",
      "    module = module_class(filepath, prefix, user_api, internal_api)\r\n",
      "  File \"/home/yxzeng/anaconda3/lib/python3.8/site-packages/threadpoolctl.py\", line 606, in __init__\r\n",
      "    self.version = self.get_version()\r\n",
      "  File \"/home/yxzeng/anaconda3/lib/python3.8/site-packages/threadpoolctl.py\", line 646, in get_version\r\n",
      "    config = get_config().split()\r\n",
      "AttributeError: 'NoneType' object has no attribute 'split'\r\n",
      "Exception ignored on calling ctypes callback function: <function _ThreadpoolInfo._find_modules_with_dl_iterate_phdr.<locals>.match_module_callback at 0x7f3172b26b80>\r\n",
      "Traceback (most recent call last):\r\n",
      "  File \"/home/yxzeng/anaconda3/lib/python3.8/site-packages/threadpoolctl.py\", line 400, in match_module_callback\r\n",
      "    self._make_module_from_path(filepath)\r\n",
      "  File \"/home/yxzeng/anaconda3/lib/python3.8/site-packages/threadpoolctl.py\", line 515, in _make_module_from_path\r\n",
      "    module = module_class(filepath, prefix, user_api, internal_api)\r\n",
      "  File \"/home/yxzeng/anaconda3/lib/python3.8/site-packages/threadpoolctl.py\", line 606, in __init__\r\n",
      "    self.version = self.get_version()\r\n",
      "  File \"/home/yxzeng/anaconda3/lib/python3.8/site-packages/threadpoolctl.py\", line 646, in get_version\r\n",
      "    config = get_config().split()\r\n",
      "AttributeError: 'NoneType' object has no attribute 'split'\r\n",
      "Exception ignored on calling ctypes callback function: <function _ThreadpoolInfo._find_modules_with_dl_iterate_phdr.<locals>.match_module_callback at 0x7f3172b26b80>\r\n",
      "Traceback (most recent call last):\r\n",
      "  File \"/home/yxzeng/anaconda3/lib/python3.8/site-packages/threadpoolctl.py\", line 400, in match_module_callback\r\n",
      "    self._make_module_from_path(filepath)\r\n",
      "  File \"/home/yxzeng/anaconda3/lib/python3.8/site-packages/threadpoolctl.py\", line 515, in _make_module_from_path\r\n",
      "    module = module_class(filepath, prefix, user_api, internal_api)\r\n",
      "  File \"/home/yxzeng/anaconda3/lib/python3.8/site-packages/threadpoolctl.py\", line 606, in __init__\r\n",
      "    self.version = self.get_version()\r\n",
      "  File \"/home/yxzeng/anaconda3/lib/python3.8/site-packages/threadpoolctl.py\", line 646, in get_version\r\n",
      "    config = get_config().split()\r\n",
      "AttributeError: 'NoneType' object has no attribute 'split'\r\n",
      "Exception ignored on calling ctypes callback function: <function _ThreadpoolInfo._find_modules_with_dl_iterate_phdr.<locals>.match_module_callback at 0x7f3172b26b80>\r\n",
      "Traceback (most recent call last):\r\n",
      "  File \"/home/yxzeng/anaconda3/lib/python3.8/site-packages/threadpoolctl.py\", line 400, in match_module_callback\r\n",
      "    self._make_module_from_path(filepath)\r\n",
      "  File \"/home/yxzeng/anaconda3/lib/python3.8/site-packages/threadpoolctl.py\", line 515, in _make_module_from_path\r\n",
      "    module = module_class(filepath, prefix, user_api, internal_api)\r\n",
      "  File \"/home/yxzeng/anaconda3/lib/python3.8/site-packages/threadpoolctl.py\", line 606, in __init__\r\n",
      "    self.version = self.get_version()\r\n",
      "  File \"/home/yxzeng/anaconda3/lib/python3.8/site-packages/threadpoolctl.py\", line 646, in get_version\r\n",
      "    config = get_config().split()\r\n",
      "AttributeError: 'NoneType' object has no attribute 'split'\r\n",
      "Exception ignored on calling ctypes callback function: <function _ThreadpoolInfo._find_modules_with_dl_iterate_phdr.<locals>.match_module_callback at 0x7f3172b26b80>\r\n",
      "Traceback (most recent call last):\r\n",
      "  File \"/home/yxzeng/anaconda3/lib/python3.8/site-packages/threadpoolctl.py\", line 400, in match_module_callback\r\n",
      "    self._make_module_from_path(filepath)\r\n",
      "  File \"/home/yxzeng/anaconda3/lib/python3.8/site-packages/threadpoolctl.py\", line 515, in _make_module_from_path\r\n",
      "    module = module_class(filepath, prefix, user_api, internal_api)\r\n",
      "  File \"/home/yxzeng/anaconda3/lib/python3.8/site-packages/threadpoolctl.py\", line 606, in __init__\r\n",
      "    self.version = self.get_version()\r\n",
      "  File \"/home/yxzeng/anaconda3/lib/python3.8/site-packages/threadpoolctl.py\", line 646, in get_version\r\n",
      "    config = get_config().split()\r\n",
      "AttributeError: 'NoneType' object has no attribute 'split'\r\n",
      "Exception ignored on calling ctypes callback function: <function _ThreadpoolInfo._find_modules_with_dl_iterate_phdr.<locals>.match_module_callback at 0x7f3172b26b80>\r\n",
      "Traceback (most recent call last):\r\n",
      "  File \"/home/yxzeng/anaconda3/lib/python3.8/site-packages/threadpoolctl.py\", line 400, in match_module_callback\r\n",
      "    self._make_module_from_path(filepath)\r\n",
      "  File \"/home/yxzeng/anaconda3/lib/python3.8/site-packages/threadpoolctl.py\", line 515, in _make_module_from_path\r\n",
      "    module = module_class(filepath, prefix, user_api, internal_api)\r\n",
      "  File \"/home/yxzeng/anaconda3/lib/python3.8/site-packages/threadpoolctl.py\", line 606, in __init__\r\n",
      "    self.version = self.get_version()\r\n",
      "  File \"/home/yxzeng/anaconda3/lib/python3.8/site-packages/threadpoolctl.py\", line 646, in get_version\r\n",
      "    config = get_config().split()\r\n",
      "AttributeError: 'NoneType' object has no attribute 'split'\r\n",
      "Exception ignored on calling ctypes callback function: <function _ThreadpoolInfo._find_modules_with_dl_iterate_phdr.<locals>.match_module_callback at 0x7f3172b26b80>\r\n",
      "Traceback (most recent call last):\r\n",
      "  File \"/home/yxzeng/anaconda3/lib/python3.8/site-packages/threadpoolctl.py\", line 400, in match_module_callback\r\n",
      "    self._make_module_from_path(filepath)\r\n",
      "  File \"/home/yxzeng/anaconda3/lib/python3.8/site-packages/threadpoolctl.py\", line 515, in _make_module_from_path\r\n",
      "    module = module_class(filepath, prefix, user_api, internal_api)\r\n",
      "  File \"/home/yxzeng/anaconda3/lib/python3.8/site-packages/threadpoolctl.py\", line 606, in __init__\r\n",
      "    self.version = self.get_version()\r\n",
      "  File \"/home/yxzeng/anaconda3/lib/python3.8/site-packages/threadpoolctl.py\", line 646, in get_version\r\n",
      "    config = get_config().split()\r\n",
      "AttributeError: 'NoneType' object has no attribute 'split'\r\n",
      "Exception ignored on calling ctypes callback function: <function _ThreadpoolInfo._find_modules_with_dl_iterate_phdr.<locals>.match_module_callback at 0x7f3172b26b80>\r\n",
      "Traceback (most recent call last):\r\n",
      "  File \"/home/yxzeng/anaconda3/lib/python3.8/site-packages/threadpoolctl.py\", line 400, in match_module_callback\r\n",
      "    self._make_module_from_path(filepath)\r\n",
      "  File \"/home/yxzeng/anaconda3/lib/python3.8/site-packages/threadpoolctl.py\", line 515, in _make_module_from_path\r\n",
      "    module = module_class(filepath, prefix, user_api, internal_api)\r\n",
      "  File \"/home/yxzeng/anaconda3/lib/python3.8/site-packages/threadpoolctl.py\", line 606, in __init__\r\n",
      "    self.version = self.get_version()\r\n",
      "  File \"/home/yxzeng/anaconda3/lib/python3.8/site-packages/threadpoolctl.py\", line 646, in get_version\r\n",
      "    config = get_config().split()\r\n",
      "AttributeError: 'NoneType' object has no attribute 'split'\r\n",
      "Exception ignored on calling ctypes callback function: <function _ThreadpoolInfo._find_modules_with_dl_iterate_phdr.<locals>.match_module_callback at 0x7f3172b26b80>\r\n",
      "Traceback (most recent call last):\r\n",
      "  File \"/home/yxzeng/anaconda3/lib/python3.8/site-packages/threadpoolctl.py\", line 400, in match_module_callback\r\n",
      "    self._make_module_from_path(filepath)\r\n",
      "  File \"/home/yxzeng/anaconda3/lib/python3.8/site-packages/threadpoolctl.py\", line 515, in _make_module_from_path\r\n",
      "    module = module_class(filepath, prefix, user_api, internal_api)\r\n",
      "  File \"/home/yxzeng/anaconda3/lib/python3.8/site-packages/threadpoolctl.py\", line 606, in __init__\r\n",
      "    self.version = self.get_version()\r\n",
      "  File \"/home/yxzeng/anaconda3/lib/python3.8/site-packages/threadpoolctl.py\", line 646, in get_version\r\n",
      "    config = get_config().split()\r\n",
      "AttributeError: 'NoneType' object has no attribute 'split'\r\n",
      "Exception ignored on calling ctypes callback function: <function _ThreadpoolInfo._find_modules_with_dl_iterate_phdr.<locals>.match_module_callback at 0x7f3172b26b80>\r\n",
      "Traceback (most recent call last):\r\n",
      "  File \"/home/yxzeng/anaconda3/lib/python3.8/site-packages/threadpoolctl.py\", line 400, in match_module_callback\r\n",
      "    self._make_module_from_path(filepath)\r\n",
      "  File \"/home/yxzeng/anaconda3/lib/python3.8/site-packages/threadpoolctl.py\", line 515, in _make_module_from_path\r\n",
      "    module = module_class(filepath, prefix, user_api, internal_api)\r\n",
      "  File \"/home/yxzeng/anaconda3/lib/python3.8/site-packages/threadpoolctl.py\", line 606, in __init__\r\n",
      "    self.version = self.get_version()\r\n",
      "  File \"/home/yxzeng/anaconda3/lib/python3.8/site-packages/threadpoolctl.py\", line 646, in get_version\r\n",
      "    config = get_config().split()\r\n",
      "AttributeError: 'NoneType' object has no attribute 'split'\r\n",
      "Exception ignored on calling ctypes callback function: <function _ThreadpoolInfo._find_modules_with_dl_iterate_phdr.<locals>.match_module_callback at 0x7f3172b26b80>\r\n",
      "Traceback (most recent call last):\r\n",
      "  File \"/home/yxzeng/anaconda3/lib/python3.8/site-packages/threadpoolctl.py\", line 400, in match_module_callback\r\n",
      "    self._make_module_from_path(filepath)\r\n",
      "  File \"/home/yxzeng/anaconda3/lib/python3.8/site-packages/threadpoolctl.py\", line 515, in _make_module_from_path\r\n",
      "    module = module_class(filepath, prefix, user_api, internal_api)\r\n",
      "  File \"/home/yxzeng/anaconda3/lib/python3.8/site-packages/threadpoolctl.py\", line 606, in __init__\r\n",
      "    self.version = self.get_version()\r\n",
      "  File \"/home/yxzeng/anaconda3/lib/python3.8/site-packages/threadpoolctl.py\", line 646, in get_version\r\n",
      "    config = get_config().split()\r\n",
      "AttributeError: 'NoneType' object has no attribute 'split'\r\n",
      "Exception ignored on calling ctypes callback function: <function _ThreadpoolInfo._find_modules_with_dl_iterate_phdr.<locals>.match_module_callback at 0x7f3172b26b80>\r\n",
      "Traceback (most recent call last):\r\n",
      "  File \"/home/yxzeng/anaconda3/lib/python3.8/site-packages/threadpoolctl.py\", line 400, in match_module_callback\r\n",
      "    self._make_module_from_path(filepath)\r\n",
      "  File \"/home/yxzeng/anaconda3/lib/python3.8/site-packages/threadpoolctl.py\", line 515, in _make_module_from_path\r\n",
      "    module = module_class(filepath, prefix, user_api, internal_api)\r\n",
      "  File \"/home/yxzeng/anaconda3/lib/python3.8/site-packages/threadpoolctl.py\", line 606, in __init__\r\n",
      "    self.version = self.get_version()\r\n",
      "  File \"/home/yxzeng/anaconda3/lib/python3.8/site-packages/threadpoolctl.py\", line 646, in get_version\r\n",
      "    config = get_config().split()\r\n",
      "AttributeError: 'NoneType' object has no attribute 'split'\r\n",
      "Exception ignored on calling ctypes callback function: <function _ThreadpoolInfo._find_modules_with_dl_iterate_phdr.<locals>.match_module_callback at 0x7f3172b26b80>\r\n",
      "Traceback (most recent call last):\r\n",
      "  File \"/home/yxzeng/anaconda3/lib/python3.8/site-packages/threadpoolctl.py\", line 400, in match_module_callback\r\n",
      "    self._make_module_from_path(filepath)\r\n",
      "  File \"/home/yxzeng/anaconda3/lib/python3.8/site-packages/threadpoolctl.py\", line 515, in _make_module_from_path\r\n",
      "    module = module_class(filepath, prefix, user_api, internal_api)\r\n",
      "  File \"/home/yxzeng/anaconda3/lib/python3.8/site-packages/threadpoolctl.py\", line 606, in __init__\r\n",
      "    self.version = self.get_version()\r\n",
      "  File \"/home/yxzeng/anaconda3/lib/python3.8/site-packages/threadpoolctl.py\", line 646, in get_version\r\n",
      "    config = get_config().split()\r\n",
      "AttributeError: 'NoneType' object has no attribute 'split'\r\n",
      "Exception ignored on calling ctypes callback function: <function _ThreadpoolInfo._find_modules_with_dl_iterate_phdr.<locals>.match_module_callback at 0x7f3172b26b80>\r\n",
      "Traceback (most recent call last):\r\n",
      "  File \"/home/yxzeng/anaconda3/lib/python3.8/site-packages/threadpoolctl.py\", line 400, in match_module_callback\r\n",
      "    self._make_module_from_path(filepath)\r\n",
      "  File \"/home/yxzeng/anaconda3/lib/python3.8/site-packages/threadpoolctl.py\", line 515, in _make_module_from_path\r\n",
      "    module = module_class(filepath, prefix, user_api, internal_api)\r\n",
      "  File \"/home/yxzeng/anaconda3/lib/python3.8/site-packages/threadpoolctl.py\", line 606, in __init__\r\n",
      "    self.version = self.get_version()\r\n",
      "  File \"/home/yxzeng/anaconda3/lib/python3.8/site-packages/threadpoolctl.py\", line 646, in get_version\r\n",
      "    config = get_config().split()\r\n",
      "AttributeError: 'NoneType' object has no attribute 'split'\r\n",
      "Exception ignored on calling ctypes callback function: <function _ThreadpoolInfo._find_modules_with_dl_iterate_phdr.<locals>.match_module_callback at 0x7f3172b26b80>\r\n",
      "Traceback (most recent call last):\r\n",
      "  File \"/home/yxzeng/anaconda3/lib/python3.8/site-packages/threadpoolctl.py\", line 400, in match_module_callback\r\n",
      "    self._make_module_from_path(filepath)\r\n",
      "  File \"/home/yxzeng/anaconda3/lib/python3.8/site-packages/threadpoolctl.py\", line 515, in _make_module_from_path\r\n",
      "    module = module_class(filepath, prefix, user_api, internal_api)\r\n",
      "  File \"/home/yxzeng/anaconda3/lib/python3.8/site-packages/threadpoolctl.py\", line 606, in __init__\r\n",
      "    self.version = self.get_version()\r\n",
      "  File \"/home/yxzeng/anaconda3/lib/python3.8/site-packages/threadpoolctl.py\", line 646, in get_version\r\n",
      "    config = get_config().split()\r\n",
      "AttributeError: 'NoneType' object has no attribute 'split'\r\n",
      "Exception ignored on calling ctypes callback function: <function _ThreadpoolInfo._find_modules_with_dl_iterate_phdr.<locals>.match_module_callback at 0x7f3172b26b80>\r\n",
      "Traceback (most recent call last):\r\n",
      "  File \"/home/yxzeng/anaconda3/lib/python3.8/site-packages/threadpoolctl.py\", line 400, in match_module_callback\r\n",
      "    self._make_module_from_path(filepath)\r\n",
      "  File \"/home/yxzeng/anaconda3/lib/python3.8/site-packages/threadpoolctl.py\", line 515, in _make_module_from_path\r\n",
      "    module = module_class(filepath, prefix, user_api, internal_api)\r\n",
      "  File \"/home/yxzeng/anaconda3/lib/python3.8/site-packages/threadpoolctl.py\", line 606, in __init__\r\n",
      "    self.version = self.get_version()\r\n",
      "  File \"/home/yxzeng/anaconda3/lib/python3.8/site-packages/threadpoolctl.py\", line 646, in get_version\r\n",
      "    config = get_config().split()\r\n",
      "AttributeError: 'NoneType' object has no attribute 'split'\r\n",
      "Exception ignored on calling ctypes callback function: <function _ThreadpoolInfo._find_modules_with_dl_iterate_phdr.<locals>.match_module_callback at 0x7f3172b26b80>\r\n",
      "Traceback (most recent call last):\r\n",
      "  File \"/home/yxzeng/anaconda3/lib/python3.8/site-packages/threadpoolctl.py\", line 400, in match_module_callback\r\n",
      "    self._make_module_from_path(filepath)\r\n",
      "  File \"/home/yxzeng/anaconda3/lib/python3.8/site-packages/threadpoolctl.py\", line 515, in _make_module_from_path\r\n",
      "    module = module_class(filepath, prefix, user_api, internal_api)\r\n",
      "  File \"/home/yxzeng/anaconda3/lib/python3.8/site-packages/threadpoolctl.py\", line 606, in __init__\r\n",
      "    self.version = self.get_version()\r\n",
      "  File \"/home/yxzeng/anaconda3/lib/python3.8/site-packages/threadpoolctl.py\", line 646, in get_version\r\n",
      "    config = get_config().split()\r\n",
      "AttributeError: 'NoneType' object has no attribute 'split'\r\n",
      "Exception ignored on calling ctypes callback function: <function _ThreadpoolInfo._find_modules_with_dl_iterate_phdr.<locals>.match_module_callback at 0x7f3172b26b80>\r\n",
      "Traceback (most recent call last):\r\n",
      "  File \"/home/yxzeng/anaconda3/lib/python3.8/site-packages/threadpoolctl.py\", line 400, in match_module_callback\r\n",
      "    self._make_module_from_path(filepath)\r\n",
      "  File \"/home/yxzeng/anaconda3/lib/python3.8/site-packages/threadpoolctl.py\", line 515, in _make_module_from_path\r\n",
      "    module = module_class(filepath, prefix, user_api, internal_api)\r\n",
      "  File \"/home/yxzeng/anaconda3/lib/python3.8/site-packages/threadpoolctl.py\", line 606, in __init__\r\n",
      "    self.version = self.get_version()\r\n",
      "  File \"/home/yxzeng/anaconda3/lib/python3.8/site-packages/threadpoolctl.py\", line 646, in get_version\r\n",
      "    config = get_config().split()\r\n",
      "AttributeError: 'NoneType' object has no attribute 'split'\r\n",
      "Exception ignored on calling ctypes callback function: <function _ThreadpoolInfo._find_modules_with_dl_iterate_phdr.<locals>.match_module_callback at 0x7f3172b26b80>\r\n",
      "Traceback (most recent call last):\r\n",
      "  File \"/home/yxzeng/anaconda3/lib/python3.8/site-packages/threadpoolctl.py\", line 400, in match_module_callback\r\n",
      "    self._make_module_from_path(filepath)\r\n",
      "  File \"/home/yxzeng/anaconda3/lib/python3.8/site-packages/threadpoolctl.py\", line 515, in _make_module_from_path\r\n",
      "    module = module_class(filepath, prefix, user_api, internal_api)\r\n",
      "  File \"/home/yxzeng/anaconda3/lib/python3.8/site-packages/threadpoolctl.py\", line 606, in __init__\r\n",
      "    self.version = self.get_version()\r\n",
      "  File \"/home/yxzeng/anaconda3/lib/python3.8/site-packages/threadpoolctl.py\", line 646, in get_version\r\n",
      "    config = get_config().split()\r\n",
      "AttributeError: 'NoneType' object has no attribute 'split'\r\n",
      "Exception ignored on calling ctypes callback function: <function _ThreadpoolInfo._find_modules_with_dl_iterate_phdr.<locals>.match_module_callback at 0x7f3172b26b80>\r\n",
      "Traceback (most recent call last):\r\n",
      "  File \"/home/yxzeng/anaconda3/lib/python3.8/site-packages/threadpoolctl.py\", line 400, in match_module_callback\r\n",
      "    self._make_module_from_path(filepath)\r\n",
      "  File \"/home/yxzeng/anaconda3/lib/python3.8/site-packages/threadpoolctl.py\", line 515, in _make_module_from_path\r\n",
      "    module = module_class(filepath, prefix, user_api, internal_api)\r\n",
      "  File \"/home/yxzeng/anaconda3/lib/python3.8/site-packages/threadpoolctl.py\", line 606, in __init__\r\n",
      "    self.version = self.get_version()\r\n",
      "  File \"/home/yxzeng/anaconda3/lib/python3.8/site-packages/threadpoolctl.py\", line 646, in get_version\r\n",
      "    config = get_config().split()\r\n",
      "AttributeError: 'NoneType' object has no attribute 'split'\r\n",
      "Exception ignored on calling ctypes callback function: <function _ThreadpoolInfo._find_modules_with_dl_iterate_phdr.<locals>.match_module_callback at 0x7f3172b26b80>\r\n",
      "Traceback (most recent call last):\r\n",
      "  File \"/home/yxzeng/anaconda3/lib/python3.8/site-packages/threadpoolctl.py\", line 400, in match_module_callback\r\n",
      "    self._make_module_from_path(filepath)\r\n",
      "  File \"/home/yxzeng/anaconda3/lib/python3.8/site-packages/threadpoolctl.py\", line 515, in _make_module_from_path\r\n",
      "    module = module_class(filepath, prefix, user_api, internal_api)\r\n",
      "  File \"/home/yxzeng/anaconda3/lib/python3.8/site-packages/threadpoolctl.py\", line 606, in __init__\r\n",
      "    self.version = self.get_version()\r\n",
      "  File \"/home/yxzeng/anaconda3/lib/python3.8/site-packages/threadpoolctl.py\", line 646, in get_version\r\n",
      "    config = get_config().split()\r\n",
      "AttributeError: 'NoneType' object has no attribute 'split'\r\n",
      "Exception ignored on calling ctypes callback function: <function _ThreadpoolInfo._find_modules_with_dl_iterate_phdr.<locals>.match_module_callback at 0x7f3172b26b80>\r\n",
      "Traceback (most recent call last):\r\n",
      "  File \"/home/yxzeng/anaconda3/lib/python3.8/site-packages/threadpoolctl.py\", line 400, in match_module_callback\r\n",
      "    self._make_module_from_path(filepath)\r\n",
      "  File \"/home/yxzeng/anaconda3/lib/python3.8/site-packages/threadpoolctl.py\", line 515, in _make_module_from_path\r\n",
      "    module = module_class(filepath, prefix, user_api, internal_api)\r\n",
      "  File \"/home/yxzeng/anaconda3/lib/python3.8/site-packages/threadpoolctl.py\", line 606, in __init__\r\n",
      "    self.version = self.get_version()\r\n",
      "  File \"/home/yxzeng/anaconda3/lib/python3.8/site-packages/threadpoolctl.py\", line 646, in get_version\r\n",
      "    config = get_config().split()\r\n",
      "AttributeError: 'NoneType' object has no attribute 'split'\r\n",
      "Exception ignored on calling ctypes callback function: <function _ThreadpoolInfo._find_modules_with_dl_iterate_phdr.<locals>.match_module_callback at 0x7f3172b26b80>\r\n",
      "Traceback (most recent call last):\r\n",
      "  File \"/home/yxzeng/anaconda3/lib/python3.8/site-packages/threadpoolctl.py\", line 400, in match_module_callback\r\n",
      "    self._make_module_from_path(filepath)\r\n",
      "  File \"/home/yxzeng/anaconda3/lib/python3.8/site-packages/threadpoolctl.py\", line 515, in _make_module_from_path\r\n",
      "    module = module_class(filepath, prefix, user_api, internal_api)\r\n",
      "  File \"/home/yxzeng/anaconda3/lib/python3.8/site-packages/threadpoolctl.py\", line 606, in __init__\r\n",
      "    self.version = self.get_version()\r\n",
      "  File \"/home/yxzeng/anaconda3/lib/python3.8/site-packages/threadpoolctl.py\", line 646, in get_version\r\n",
      "    config = get_config().split()\r\n",
      "AttributeError: 'NoneType' object has no attribute 'split'\r\n",
      "Exception ignored on calling ctypes callback function: <function _ThreadpoolInfo._find_modules_with_dl_iterate_phdr.<locals>.match_module_callback at 0x7f3172b26b80>\r\n",
      "Traceback (most recent call last):\r\n",
      "  File \"/home/yxzeng/anaconda3/lib/python3.8/site-packages/threadpoolctl.py\", line 400, in match_module_callback\r\n",
      "    self._make_module_from_path(filepath)\r\n",
      "  File \"/home/yxzeng/anaconda3/lib/python3.8/site-packages/threadpoolctl.py\", line 515, in _make_module_from_path\r\n",
      "    module = module_class(filepath, prefix, user_api, internal_api)\r\n",
      "  File \"/home/yxzeng/anaconda3/lib/python3.8/site-packages/threadpoolctl.py\", line 606, in __init__\r\n",
      "    self.version = self.get_version()\r\n",
      "  File \"/home/yxzeng/anaconda3/lib/python3.8/site-packages/threadpoolctl.py\", line 646, in get_version\r\n",
      "    config = get_config().split()\r\n",
      "AttributeError: 'NoneType' object has no attribute 'split'\r\n",
      "Exception ignored on calling ctypes callback function: <function _ThreadpoolInfo._find_modules_with_dl_iterate_phdr.<locals>.match_module_callback at 0x7f3172b26b80>\r\n",
      "Traceback (most recent call last):\r\n",
      "  File \"/home/yxzeng/anaconda3/lib/python3.8/site-packages/threadpoolctl.py\", line 400, in match_module_callback\r\n",
      "    self._make_module_from_path(filepath)\r\n",
      "  File \"/home/yxzeng/anaconda3/lib/python3.8/site-packages/threadpoolctl.py\", line 515, in _make_module_from_path\r\n",
      "    module = module_class(filepath, prefix, user_api, internal_api)\r\n",
      "  File \"/home/yxzeng/anaconda3/lib/python3.8/site-packages/threadpoolctl.py\", line 606, in __init__\r\n",
      "    self.version = self.get_version()\r\n",
      "  File \"/home/yxzeng/anaconda3/lib/python3.8/site-packages/threadpoolctl.py\", line 646, in get_version\r\n",
      "    config = get_config().split()\r\n",
      "AttributeError: 'NoneType' object has no attribute 'split'\r\n",
      "Exception ignored on calling ctypes callback function: <function _ThreadpoolInfo._find_modules_with_dl_iterate_phdr.<locals>.match_module_callback at 0x7f3172b26b80>\r\n",
      "Traceback (most recent call last):\r\n",
      "  File \"/home/yxzeng/anaconda3/lib/python3.8/site-packages/threadpoolctl.py\", line 400, in match_module_callback\r\n",
      "    self._make_module_from_path(filepath)\r\n",
      "  File \"/home/yxzeng/anaconda3/lib/python3.8/site-packages/threadpoolctl.py\", line 515, in _make_module_from_path\r\n",
      "    module = module_class(filepath, prefix, user_api, internal_api)\r\n",
      "  File \"/home/yxzeng/anaconda3/lib/python3.8/site-packages/threadpoolctl.py\", line 606, in __init__\r\n",
      "    self.version = self.get_version()\r\n",
      "  File \"/home/yxzeng/anaconda3/lib/python3.8/site-packages/threadpoolctl.py\", line 646, in get_version\r\n",
      "    config = get_config().split()\r\n",
      "AttributeError: 'NoneType' object has no attribute 'split'\r\n",
      "Exception ignored on calling ctypes callback function: <function _ThreadpoolInfo._find_modules_with_dl_iterate_phdr.<locals>.match_module_callback at 0x7f3172b26b80>\r\n",
      "Traceback (most recent call last):\r\n",
      "  File \"/home/yxzeng/anaconda3/lib/python3.8/site-packages/threadpoolctl.py\", line 400, in match_module_callback\r\n",
      "    self._make_module_from_path(filepath)\r\n",
      "  File \"/home/yxzeng/anaconda3/lib/python3.8/site-packages/threadpoolctl.py\", line 515, in _make_module_from_path\r\n",
      "    module = module_class(filepath, prefix, user_api, internal_api)\r\n",
      "  File \"/home/yxzeng/anaconda3/lib/python3.8/site-packages/threadpoolctl.py\", line 606, in __init__\r\n",
      "    self.version = self.get_version()\r\n",
      "  File \"/home/yxzeng/anaconda3/lib/python3.8/site-packages/threadpoolctl.py\", line 646, in get_version\r\n",
      "    config = get_config().split()\r\n",
      "AttributeError: 'NoneType' object has no attribute 'split'\r\n",
      "Exception ignored on calling ctypes callback function: <function _ThreadpoolInfo._find_modules_with_dl_iterate_phdr.<locals>.match_module_callback at 0x7f3172b26b80>\r\n",
      "Traceback (most recent call last):\r\n",
      "  File \"/home/yxzeng/anaconda3/lib/python3.8/site-packages/threadpoolctl.py\", line 400, in match_module_callback\r\n",
      "    self._make_module_from_path(filepath)\r\n",
      "  File \"/home/yxzeng/anaconda3/lib/python3.8/site-packages/threadpoolctl.py\", line 515, in _make_module_from_path\r\n",
      "    module = module_class(filepath, prefix, user_api, internal_api)\r\n",
      "  File \"/home/yxzeng/anaconda3/lib/python3.8/site-packages/threadpoolctl.py\", line 606, in __init__\r\n",
      "    self.version = self.get_version()\r\n",
      "  File \"/home/yxzeng/anaconda3/lib/python3.8/site-packages/threadpoolctl.py\", line 646, in get_version\r\n",
      "    config = get_config().split()\r\n",
      "AttributeError: 'NoneType' object has no attribute 'split'\r\n",
      "Exception ignored on calling ctypes callback function: <function _ThreadpoolInfo._find_modules_with_dl_iterate_phdr.<locals>.match_module_callback at 0x7f3172b26b80>\r\n",
      "Traceback (most recent call last):\r\n",
      "  File \"/home/yxzeng/anaconda3/lib/python3.8/site-packages/threadpoolctl.py\", line 400, in match_module_callback\r\n",
      "    self._make_module_from_path(filepath)\r\n",
      "  File \"/home/yxzeng/anaconda3/lib/python3.8/site-packages/threadpoolctl.py\", line 515, in _make_module_from_path\r\n",
      "    module = module_class(filepath, prefix, user_api, internal_api)\r\n",
      "  File \"/home/yxzeng/anaconda3/lib/python3.8/site-packages/threadpoolctl.py\", line 606, in __init__\r\n",
      "    self.version = self.get_version()\r\n",
      "  File \"/home/yxzeng/anaconda3/lib/python3.8/site-packages/threadpoolctl.py\", line 646, in get_version\r\n",
      "    config = get_config().split()\r\n",
      "AttributeError: 'NoneType' object has no attribute 'split'\r\n",
      "Exception ignored on calling ctypes callback function: <function _ThreadpoolInfo._find_modules_with_dl_iterate_phdr.<locals>.match_module_callback at 0x7f3172b26b80>\r\n",
      "Traceback (most recent call last):\r\n",
      "  File \"/home/yxzeng/anaconda3/lib/python3.8/site-packages/threadpoolctl.py\", line 400, in match_module_callback\r\n",
      "    self._make_module_from_path(filepath)\r\n",
      "  File \"/home/yxzeng/anaconda3/lib/python3.8/site-packages/threadpoolctl.py\", line 515, in _make_module_from_path\r\n",
      "    module = module_class(filepath, prefix, user_api, internal_api)\r\n",
      "  File \"/home/yxzeng/anaconda3/lib/python3.8/site-packages/threadpoolctl.py\", line 606, in __init__\r\n",
      "    self.version = self.get_version()\r\n",
      "  File \"/home/yxzeng/anaconda3/lib/python3.8/site-packages/threadpoolctl.py\", line 646, in get_version\r\n",
      "    config = get_config().split()\r\n",
      "AttributeError: 'NoneType' object has no attribute 'split'\r\n",
      "Exception ignored on calling ctypes callback function: <function _ThreadpoolInfo._find_modules_with_dl_iterate_phdr.<locals>.match_module_callback at 0x7f3172b26b80>\r\n",
      "Traceback (most recent call last):\r\n",
      "  File \"/home/yxzeng/anaconda3/lib/python3.8/site-packages/threadpoolctl.py\", line 400, in match_module_callback\r\n",
      "    self._make_module_from_path(filepath)\r\n",
      "  File \"/home/yxzeng/anaconda3/lib/python3.8/site-packages/threadpoolctl.py\", line 515, in _make_module_from_path\r\n",
      "    module = module_class(filepath, prefix, user_api, internal_api)\r\n",
      "  File \"/home/yxzeng/anaconda3/lib/python3.8/site-packages/threadpoolctl.py\", line 606, in __init__\r\n",
      "    self.version = self.get_version()\r\n",
      "  File \"/home/yxzeng/anaconda3/lib/python3.8/site-packages/threadpoolctl.py\", line 646, in get_version\r\n",
      "    config = get_config().split()\r\n",
      "AttributeError: 'NoneType' object has no attribute 'split'\r\n",
      "Exception ignored on calling ctypes callback function: <function _ThreadpoolInfo._find_modules_with_dl_iterate_phdr.<locals>.match_module_callback at 0x7f3172b26b80>\r\n",
      "Traceback (most recent call last):\r\n",
      "  File \"/home/yxzeng/anaconda3/lib/python3.8/site-packages/threadpoolctl.py\", line 400, in match_module_callback\r\n",
      "    self._make_module_from_path(filepath)\r\n",
      "  File \"/home/yxzeng/anaconda3/lib/python3.8/site-packages/threadpoolctl.py\", line 515, in _make_module_from_path\r\n",
      "    module = module_class(filepath, prefix, user_api, internal_api)\r\n",
      "  File \"/home/yxzeng/anaconda3/lib/python3.8/site-packages/threadpoolctl.py\", line 606, in __init__\r\n",
      "    self.version = self.get_version()\r\n",
      "  File \"/home/yxzeng/anaconda3/lib/python3.8/site-packages/threadpoolctl.py\", line 646, in get_version\r\n",
      "    config = get_config().split()\r\n",
      "AttributeError: 'NoneType' object has no attribute 'split'\r\n",
      "Exception ignored on calling ctypes callback function: <function _ThreadpoolInfo._find_modules_with_dl_iterate_phdr.<locals>.match_module_callback at 0x7f3172b26b80>\r\n",
      "Traceback (most recent call last):\r\n",
      "  File \"/home/yxzeng/anaconda3/lib/python3.8/site-packages/threadpoolctl.py\", line 400, in match_module_callback\r\n",
      "    self._make_module_from_path(filepath)\r\n",
      "  File \"/home/yxzeng/anaconda3/lib/python3.8/site-packages/threadpoolctl.py\", line 515, in _make_module_from_path\r\n",
      "    module = module_class(filepath, prefix, user_api, internal_api)\r\n",
      "  File \"/home/yxzeng/anaconda3/lib/python3.8/site-packages/threadpoolctl.py\", line 606, in __init__\r\n",
      "    self.version = self.get_version()\r\n",
      "  File \"/home/yxzeng/anaconda3/lib/python3.8/site-packages/threadpoolctl.py\", line 646, in get_version\r\n",
      "    config = get_config().split()\r\n",
      "AttributeError: 'NoneType' object has no attribute 'split'\r\n",
      "Exception ignored on calling ctypes callback function: <function _ThreadpoolInfo._find_modules_with_dl_iterate_phdr.<locals>.match_module_callback at 0x7f3172b26b80>\r\n",
      "Traceback (most recent call last):\r\n",
      "  File \"/home/yxzeng/anaconda3/lib/python3.8/site-packages/threadpoolctl.py\", line 400, in match_module_callback\r\n",
      "    self._make_module_from_path(filepath)\r\n",
      "  File \"/home/yxzeng/anaconda3/lib/python3.8/site-packages/threadpoolctl.py\", line 515, in _make_module_from_path\r\n",
      "    module = module_class(filepath, prefix, user_api, internal_api)\r\n",
      "  File \"/home/yxzeng/anaconda3/lib/python3.8/site-packages/threadpoolctl.py\", line 606, in __init__\r\n",
      "    self.version = self.get_version()\r\n",
      "  File \"/home/yxzeng/anaconda3/lib/python3.8/site-packages/threadpoolctl.py\", line 646, in get_version\r\n",
      "    config = get_config().split()\r\n",
      "AttributeError: 'NoneType' object has no attribute 'split'\r\n",
      "Exception ignored on calling ctypes callback function: <function _ThreadpoolInfo._find_modules_with_dl_iterate_phdr.<locals>.match_module_callback at 0x7f3172b26b80>\r\n",
      "Traceback (most recent call last):\r\n",
      "  File \"/home/yxzeng/anaconda3/lib/python3.8/site-packages/threadpoolctl.py\", line 400, in match_module_callback\r\n",
      "    self._make_module_from_path(filepath)\r\n",
      "  File \"/home/yxzeng/anaconda3/lib/python3.8/site-packages/threadpoolctl.py\", line 515, in _make_module_from_path\r\n",
      "    module = module_class(filepath, prefix, user_api, internal_api)\r\n",
      "  File \"/home/yxzeng/anaconda3/lib/python3.8/site-packages/threadpoolctl.py\", line 606, in __init__\r\n",
      "    self.version = self.get_version()\r\n",
      "  File \"/home/yxzeng/anaconda3/lib/python3.8/site-packages/threadpoolctl.py\", line 646, in get_version\r\n",
      "    config = get_config().split()\r\n",
      "AttributeError: 'NoneType' object has no attribute 'split'\r\n",
      "Exception ignored on calling ctypes callback function: <function _ThreadpoolInfo._find_modules_with_dl_iterate_phdr.<locals>.match_module_callback at 0x7f3172b26b80>\r\n",
      "Traceback (most recent call last):\r\n",
      "  File \"/home/yxzeng/anaconda3/lib/python3.8/site-packages/threadpoolctl.py\", line 400, in match_module_callback\r\n",
      "    self._make_module_from_path(filepath)\r\n",
      "  File \"/home/yxzeng/anaconda3/lib/python3.8/site-packages/threadpoolctl.py\", line 515, in _make_module_from_path\r\n",
      "    module = module_class(filepath, prefix, user_api, internal_api)\r\n",
      "  File \"/home/yxzeng/anaconda3/lib/python3.8/site-packages/threadpoolctl.py\", line 606, in __init__\r\n",
      "    self.version = self.get_version()\r\n",
      "  File \"/home/yxzeng/anaconda3/lib/python3.8/site-packages/threadpoolctl.py\", line 646, in get_version\r\n",
      "    config = get_config().split()\r\n",
      "AttributeError: 'NoneType' object has no attribute 'split'\r\n",
      "Exception ignored on calling ctypes callback function: <function _ThreadpoolInfo._find_modules_with_dl_iterate_phdr.<locals>.match_module_callback at 0x7f3172b26b80>\r\n",
      "Traceback (most recent call last):\r\n",
      "  File \"/home/yxzeng/anaconda3/lib/python3.8/site-packages/threadpoolctl.py\", line 400, in match_module_callback\r\n",
      "    self._make_module_from_path(filepath)\r\n",
      "  File \"/home/yxzeng/anaconda3/lib/python3.8/site-packages/threadpoolctl.py\", line 515, in _make_module_from_path\r\n",
      "    module = module_class(filepath, prefix, user_api, internal_api)\r\n",
      "  File \"/home/yxzeng/anaconda3/lib/python3.8/site-packages/threadpoolctl.py\", line 606, in __init__\r\n",
      "    self.version = self.get_version()\r\n",
      "  File \"/home/yxzeng/anaconda3/lib/python3.8/site-packages/threadpoolctl.py\", line 646, in get_version\r\n",
      "    config = get_config().split()\r\n",
      "AttributeError: 'NoneType' object has no attribute 'split'\r\n",
      "Exception ignored on calling ctypes callback function: <function _ThreadpoolInfo._find_modules_with_dl_iterate_phdr.<locals>.match_module_callback at 0x7f3172b26b80>\r\n",
      "Traceback (most recent call last):\r\n",
      "  File \"/home/yxzeng/anaconda3/lib/python3.8/site-packages/threadpoolctl.py\", line 400, in match_module_callback\r\n",
      "    self._make_module_from_path(filepath)\r\n",
      "  File \"/home/yxzeng/anaconda3/lib/python3.8/site-packages/threadpoolctl.py\", line 515, in _make_module_from_path\r\n",
      "    module = module_class(filepath, prefix, user_api, internal_api)\r\n",
      "  File \"/home/yxzeng/anaconda3/lib/python3.8/site-packages/threadpoolctl.py\", line 606, in __init__\r\n",
      "    self.version = self.get_version()\r\n",
      "  File \"/home/yxzeng/anaconda3/lib/python3.8/site-packages/threadpoolctl.py\", line 646, in get_version\r\n",
      "    config = get_config().split()\r\n",
      "AttributeError: 'NoneType' object has no attribute 'split'\r\n",
      "Exception ignored on calling ctypes callback function: <function _ThreadpoolInfo._find_modules_with_dl_iterate_phdr.<locals>.match_module_callback at 0x7f3172b26b80>\r\n",
      "Traceback (most recent call last):\r\n",
      "  File \"/home/yxzeng/anaconda3/lib/python3.8/site-packages/threadpoolctl.py\", line 400, in match_module_callback\r\n",
      "    self._make_module_from_path(filepath)\r\n",
      "  File \"/home/yxzeng/anaconda3/lib/python3.8/site-packages/threadpoolctl.py\", line 515, in _make_module_from_path\r\n",
      "    module = module_class(filepath, prefix, user_api, internal_api)\r\n",
      "  File \"/home/yxzeng/anaconda3/lib/python3.8/site-packages/threadpoolctl.py\", line 606, in __init__\r\n",
      "    self.version = self.get_version()\r\n",
      "  File \"/home/yxzeng/anaconda3/lib/python3.8/site-packages/threadpoolctl.py\", line 646, in get_version\r\n",
      "    config = get_config().split()\r\n",
      "AttributeError: 'NoneType' object has no attribute 'split'\r\n",
      "Exception ignored on calling ctypes callback function: <function _ThreadpoolInfo._find_modules_with_dl_iterate_phdr.<locals>.match_module_callback at 0x7f3172b26b80>\r\n",
      "Traceback (most recent call last):\r\n",
      "  File \"/home/yxzeng/anaconda3/lib/python3.8/site-packages/threadpoolctl.py\", line 400, in match_module_callback\r\n",
      "    self._make_module_from_path(filepath)\r\n",
      "  File \"/home/yxzeng/anaconda3/lib/python3.8/site-packages/threadpoolctl.py\", line 515, in _make_module_from_path\r\n",
      "    module = module_class(filepath, prefix, user_api, internal_api)\r\n",
      "  File \"/home/yxzeng/anaconda3/lib/python3.8/site-packages/threadpoolctl.py\", line 606, in __init__\r\n",
      "    self.version = self.get_version()\r\n",
      "  File \"/home/yxzeng/anaconda3/lib/python3.8/site-packages/threadpoolctl.py\", line 646, in get_version\r\n",
      "    config = get_config().split()\r\n",
      "AttributeError: 'NoneType' object has no attribute 'split'\r\n",
      "Exception ignored on calling ctypes callback function: <function _ThreadpoolInfo._find_modules_with_dl_iterate_phdr.<locals>.match_module_callback at 0x7f3172b26b80>\r\n",
      "Traceback (most recent call last):\r\n",
      "  File \"/home/yxzeng/anaconda3/lib/python3.8/site-packages/threadpoolctl.py\", line 400, in match_module_callback\r\n",
      "    self._make_module_from_path(filepath)\r\n",
      "  File \"/home/yxzeng/anaconda3/lib/python3.8/site-packages/threadpoolctl.py\", line 515, in _make_module_from_path\r\n",
      "    module = module_class(filepath, prefix, user_api, internal_api)\r\n",
      "  File \"/home/yxzeng/anaconda3/lib/python3.8/site-packages/threadpoolctl.py\", line 606, in __init__\r\n",
      "    self.version = self.get_version()\r\n",
      "  File \"/home/yxzeng/anaconda3/lib/python3.8/site-packages/threadpoolctl.py\", line 646, in get_version\r\n",
      "    config = get_config().split()\r\n",
      "AttributeError: 'NoneType' object has no attribute 'split'\r\n",
      "Exception ignored on calling ctypes callback function: <function _ThreadpoolInfo._find_modules_with_dl_iterate_phdr.<locals>.match_module_callback at 0x7f3172b26b80>\r\n",
      "Traceback (most recent call last):\r\n",
      "  File \"/home/yxzeng/anaconda3/lib/python3.8/site-packages/threadpoolctl.py\", line 400, in match_module_callback\r\n",
      "    self._make_module_from_path(filepath)\r\n",
      "  File \"/home/yxzeng/anaconda3/lib/python3.8/site-packages/threadpoolctl.py\", line 515, in _make_module_from_path\r\n",
      "    module = module_class(filepath, prefix, user_api, internal_api)\r\n",
      "  File \"/home/yxzeng/anaconda3/lib/python3.8/site-packages/threadpoolctl.py\", line 606, in __init__\r\n",
      "    self.version = self.get_version()\r\n",
      "  File \"/home/yxzeng/anaconda3/lib/python3.8/site-packages/threadpoolctl.py\", line 646, in get_version\r\n",
      "    config = get_config().split()\r\n",
      "AttributeError: 'NoneType' object has no attribute 'split'\r\n",
      "2023-01-14 00:53:31  \tbalance操作结束！\r\n",
      "2023-01-14 00:53:31  \tNode2Vec 基于用户聚类均衡切割完毕\r\n",
      "2023-01-14 00:53:31  \t分切数据执行完毕\r\n",
      "2023-01-14 00:53:31  \t模型加载完毕\r\n",
      "2023-01-14 00:53:31  \t准备训练切片模型\r\n",
      "2023-01-14 00:53:32  \t实验 1 模型 1 开始分片训练\r\n",
      "2023-01-14 00:53:49  Epoch 10 : MAE : 0.8779  RMSE : 1.9474  NMAE : 0.9847  MRE : 0.9024  NPRE : 6.8025\r\n",
      "2023-01-14 00:54:06  Epoch 20 : MAE : 0.8575  RMSE : 1.9159  NMAE : 0.9618  MRE : 0.8364  NPRE : 5.8076\r\n",
      "2023-01-14 00:54:22  Epoch 30 : MAE : 0.9342  RMSE : 1.9818  NMAE : 1.0478  MRE : 0.9150  NPRE : 6.9033\r\n",
      "2023-01-14 00:54:39  Epoch 40 : MAE : 0.8523  RMSE : 1.8865  NMAE : 0.9560  MRE : 0.8327  NPRE : 5.7767\r\n",
      "2023-01-14 00:54:56  Epoch 50 : MAE : 0.8697  RMSE : 1.9210  NMAE : 0.9754  MRE : 0.8354  NPRE : 5.7032\r\n",
      "2023-01-14 00:55:13  Epoch 60 : MAE : 0.8789  RMSE : 1.9162  NMAE : 0.9858  MRE : 0.8867  NPRE : 6.0457\r\n",
      "2023-01-14 00:55:29  Epoch 70 : MAE : 0.8514  RMSE : 1.8854  NMAE : 0.9549  MRE : 0.8923  NPRE : 5.7336\r\n",
      "2023-01-14 00:55:48  Epoch 80 : MAE : 0.8805  RMSE : 1.9148  NMAE : 0.9875  MRE : 0.9396  NPRE : 5.9766\r\n",
      "2023-01-14 00:55:48  Best epoch  2 : MAE : 0.8086  RMSE : 1.9714  NMAE : 0.9070  MRE : 0.8699  NPRE : 5.3810\r\n",
      "2023-01-14 00:55:48  实验 1 模型 1 training time = 1.03 s\r\n",
      "2023-01-14 00:55:48  Slice ID  1 : MAE = 0.8086, RMSE = 1.9714, NMAE = 0.9070, MRE = 0.8699, NPRE = 5.3810\r\n",
      "\r\n",
      "2023-01-14 00:55:48  \t实验 1 模型 2 开始分片训练\r\n",
      "2023-01-14 00:56:08  Epoch 10 : MAE : 0.8158  RMSE : 1.9240  NMAE : 0.9151  MRE : 0.8426  NPRE : 5.6856\r\n",
      "2023-01-14 00:56:28  Epoch 20 : MAE : 0.8312  RMSE : 1.9098  NMAE : 0.9322  MRE : 0.8125  NPRE : 5.3362\r\n",
      "2023-01-14 00:56:48  Epoch 30 : MAE : 0.7964  RMSE : 1.8928  NMAE : 0.8932  MRE : 0.7501  NPRE : 4.4716\r\n",
      "2023-01-14 00:57:07  Epoch 40 : MAE : 0.7782  RMSE : 1.8483  NMAE : 0.8728  MRE : 0.7373  NPRE : 4.6218\r\n",
      "2023-01-14 00:57:27  Epoch 50 : MAE : 0.7857  RMSE : 1.8436  NMAE : 0.8812  MRE : 0.7730  NPRE : 4.6942\r\n",
      "2023-01-14 00:57:47  Epoch 60 : MAE : 0.7591  RMSE : 1.8153  NMAE : 0.8515  MRE : 0.7544  NPRE : 4.1828\r\n",
      "2023-01-14 00:58:06  Epoch 70 : MAE : 0.7791  RMSE : 1.8301  NMAE : 0.8738  MRE : 0.8281  NPRE : 4.6699\r\n",
      "2023-01-14 00:58:26  Epoch 80 : MAE : 0.8227  RMSE : 1.8427  NMAE : 0.9227  MRE : 0.9479  NPRE : 5.1431\r\n",
      "2023-01-14 00:58:26  Best epoch 60 : MAE : 0.7591  RMSE : 1.8153  NMAE : 0.8515  MRE : 0.7544  NPRE : 4.1828\r\n",
      "2023-01-14 00:58:26  实验 1 模型 2 training time = 37.80 s\r\n",
      "2023-01-14 00:58:26  Slice ID  2 : MAE = 0.7591, RMSE = 1.8153, NMAE = 0.8515, MRE = 0.7544, NPRE = 4.1828\r\n",
      "\r\n",
      "2023-01-14 00:58:26  \t实验 1 模型 3 开始分片训练\r\n",
      "2023-01-14 00:58:47  Epoch 10 : MAE : 0.7399  RMSE : 1.9525  NMAE : 0.8298  MRE : 0.7362  NPRE : 3.9048\r\n",
      "2023-01-14 00:59:08  Epoch 20 : MAE : 0.7077  RMSE : 1.8170  NMAE : 0.7938  MRE : 0.7013  NPRE : 3.8607\r\n",
      "2023-01-14 00:59:28  Epoch 30 : MAE : 0.6922  RMSE : 1.7801  NMAE : 0.7764  MRE : 0.6808  NPRE : 3.4400\r\n",
      "2023-01-14 00:59:49  Epoch 40 : MAE : 0.6876  RMSE : 1.7605  NMAE : 0.7712  MRE : 0.6988  NPRE : 3.0842\r\n",
      "2023-01-14 01:00:13  Epoch 50 : MAE : 0.6814  RMSE : 1.7469  NMAE : 0.7643  MRE : 0.6996  NPRE : 3.0195\r\n",
      "2023-01-14 01:00:36  Epoch 60 : MAE : 0.6912  RMSE : 1.7271  NMAE : 0.7753  MRE : 0.7513  NPRE : 3.6215\r\n",
      "2023-01-14 01:00:56  Epoch 70 : MAE : 0.6985  RMSE : 1.7438  NMAE : 0.7834  MRE : 0.7944  NPRE : 3.2402\r\n",
      "2023-01-14 01:01:17  Epoch 80 : MAE : 0.7457  RMSE : 1.7364  NMAE : 0.8364  MRE : 0.9291  NPRE : 4.3706\r\n",
      "2023-01-14 01:01:17  Best epoch 49 : MAE : 0.6687  RMSE : 1.7331  NMAE : 0.7501  MRE : 0.6658  NPRE : 3.0826\r\n",
      "2023-01-14 01:01:17  实验 1 模型 3 training time = 35.29 s\r\n",
      "2023-01-14 01:01:17  Slice ID  3 : MAE = 0.6687, RMSE = 1.7331, NMAE = 0.7501, MRE = 0.6658, NPRE = 3.0826\r\n",
      "\r\n",
      "2023-01-14 01:01:17  \t实验 1 模型 4 开始分片训练\r\n",
      "2023-01-14 01:01:37  Epoch 10 : MAE : 0.7930  RMSE : 1.9358  NMAE : 0.8895  MRE : 0.7803  NPRE : 4.8173\r\n",
      "2023-01-14 01:01:57  Epoch 20 : MAE : 0.7659  RMSE : 1.8554  NMAE : 0.8591  MRE : 0.7681  NPRE : 4.0595\r\n",
      "2023-01-14 01:02:17  Epoch 30 : MAE : 0.7791  RMSE : 1.8135  NMAE : 0.8738  MRE : 0.7532  NPRE : 4.5858\r\n",
      "2023-01-14 01:02:37  Epoch 40 : MAE : 0.7956  RMSE : 1.7994  NMAE : 0.8924  MRE : 0.7960  NPRE : 4.7717\r\n",
      "2023-01-14 01:02:57  Epoch 50 : MAE : 0.7940  RMSE : 1.8198  NMAE : 0.8906  MRE : 0.7814  NPRE : 4.4813\r\n",
      "2023-01-14 01:03:17  Epoch 60 : MAE : 0.7782  RMSE : 1.7870  NMAE : 0.8728  MRE : 0.8364  NPRE : 4.3204\r\n",
      "2023-01-14 01:03:37  Epoch 70 : MAE : 0.8067  RMSE : 1.8082  NMAE : 0.9048  MRE : 0.8977  NPRE : 4.8635\r\n",
      "2023-01-14 01:03:56  Epoch 80 : MAE : 0.7965  RMSE : 1.7892  NMAE : 0.8934  MRE : 0.9347  NPRE : 4.7779\r\n",
      "2023-01-14 01:03:56  Best epoch 59 : MAE : 0.7493  RMSE : 1.7617  NMAE : 0.8404  MRE : 0.7756  NPRE : 4.2916\r\n",
      "2023-01-14 01:03:56  实验 1 模型 4 training time = 38.32 s\r\n",
      "2023-01-14 01:03:56  Slice ID  4 : MAE = 0.7493, RMSE = 1.7617, NMAE = 0.8404, MRE = 0.7756, NPRE = 4.2916\r\n",
      "\r\n",
      "2023-01-14 01:03:57  \t实验 1 模型 5 开始分片训练\r\n",
      "2023-01-14 01:04:16  Epoch 10 : MAE : 0.7742  RMSE : 1.9401  NMAE : 0.8684  MRE : 0.7962  NPRE : 4.3845\r\n",
      "2023-01-14 01:04:35  Epoch 20 : MAE : 0.7668  RMSE : 1.8244  NMAE : 0.8601  MRE : 0.7566  NPRE : 4.5985\r\n",
      "2023-01-14 01:04:52  Epoch 30 : MAE : 0.7395  RMSE : 1.7922  NMAE : 0.8294  MRE : 0.6955  NPRE : 4.0269\r\n",
      "2023-01-14 01:05:08  Epoch 40 : MAE : 0.7246  RMSE : 1.7578  NMAE : 0.8128  MRE : 0.7221  NPRE : 3.8739\r\n",
      "2023-01-14 01:05:24  Epoch 50 : MAE : 0.7413  RMSE : 1.7700  NMAE : 0.8315  MRE : 0.7283  NPRE : 3.9841\r\n",
      "2023-01-14 01:05:40  Epoch 60 : MAE : 0.7526  RMSE : 1.7663  NMAE : 0.8442  MRE : 0.7658  NPRE : 4.3431\r\n",
      "2023-01-14 01:05:56  Epoch 70 : MAE : 0.7468  RMSE : 1.7735  NMAE : 0.8376  MRE : 0.7675  NPRE : 4.1646\r\n",
      "2023-01-14 01:06:12  Epoch 80 : MAE : 0.7502  RMSE : 1.7639  NMAE : 0.8415  MRE : 0.8399  NPRE : 4.2059\r\n",
      "2023-01-14 01:06:12  Best epoch 37 : MAE : 0.7214  RMSE : 1.7500  NMAE : 0.8091  MRE : 0.7252  NPRE : 3.8469\r\n",
      "2023-01-14 01:06:12  实验 1 模型 5 training time = 19.35 s\r\n",
      "2023-01-14 01:06:12  Slice ID  5 : MAE = 0.7214, RMSE = 1.7500, NMAE = 0.8091, MRE = 0.7252, NPRE = 3.8469\r\n",
      "\r\n",
      "2023-01-14 01:06:13  \t实验 1 模型 6 开始分片训练\r\n",
      "2023-01-14 01:06:30  Epoch 10 : MAE : 0.7273  RMSE : 1.9402  NMAE : 0.8157  MRE : 0.6885  NPRE : 3.2575\r\n",
      "2023-01-14 01:06:48  Epoch 20 : MAE : 0.6793  RMSE : 1.7751  NMAE : 0.7619  MRE : 0.6574  NPRE : 3.1854\r\n",
      "2023-01-14 01:07:05  Epoch 30 : MAE : 0.6581  RMSE : 1.7179  NMAE : 0.7382  MRE : 0.6444  NPRE : 2.8487\r\n",
      "2023-01-14 01:07:23  Epoch 40 : MAE : 0.6576  RMSE : 1.7011  NMAE : 0.7376  MRE : 0.6511  NPRE : 2.8050\r\n",
      "2023-01-14 01:07:40  Epoch 50 : MAE : 0.6701  RMSE : 1.7032  NMAE : 0.7515  MRE : 0.7021  NPRE : 3.2317\r\n",
      "2023-01-14 01:07:57  Epoch 60 : MAE : 0.6766  RMSE : 1.7190  NMAE : 0.7589  MRE : 0.7231  NPRE : 3.0854\r\n",
      "2023-01-14 01:08:14  Epoch 70 : MAE : 0.6955  RMSE : 1.7070  NMAE : 0.7801  MRE : 0.8167  NPRE : 3.3932\r\n",
      "2023-01-14 01:08:31  Epoch 80 : MAE : 0.7155  RMSE : 1.7154  NMAE : 0.8025  MRE : 0.8923  NPRE : 3.6749\r\n",
      "2023-01-14 01:08:31  Best epoch 49 : MAE : 0.6516  RMSE : 1.6980  NMAE : 0.7308  MRE : 0.6245  NPRE : 3.0869\r\n",
      "2023-01-14 01:08:31  实验 1 模型 6 training time = 27.64 s\r\n",
      "2023-01-14 01:08:31  Slice ID  6 : MAE = 0.6516, RMSE = 1.6980, NMAE = 0.7308, MRE = 0.6245, NPRE = 3.0869\r\n",
      "\r\n",
      "2023-01-14 01:08:31  \t实验 1 模型 7 开始分片训练\r\n",
      "2023-01-14 01:08:48  Epoch 10 : MAE : 0.7642  RMSE : 1.9825  NMAE : 0.8572  MRE : 0.7736  NPRE : 3.4302\r\n",
      "2023-01-14 01:09:05  Epoch 20 : MAE : 0.7244  RMSE : 1.8498  NMAE : 0.8125  MRE : 0.6851  NPRE : 3.5385\r\n",
      "2023-01-14 01:09:21  Epoch 30 : MAE : 0.7237  RMSE : 1.8207  NMAE : 0.8117  MRE : 0.6882  NPRE : 3.7328\r\n",
      "2023-01-14 01:09:38  Epoch 40 : MAE : 0.7237  RMSE : 1.8041  NMAE : 0.8117  MRE : 0.7004  NPRE : 3.5985\r\n",
      "2023-01-14 01:09:55  Epoch 50 : MAE : 0.7273  RMSE : 1.8049  NMAE : 0.8157  MRE : 0.7118  NPRE : 3.4469\r\n",
      "2023-01-14 01:10:11  Epoch 60 : MAE : 0.7371  RMSE : 1.7869  NMAE : 0.8267  MRE : 0.7900  NPRE : 3.5752\r\n",
      "2023-01-14 01:10:28  Epoch 70 : MAE : 0.7332  RMSE : 1.7638  NMAE : 0.8224  MRE : 0.8183  NPRE : 4.1485\r\n",
      "2023-01-14 01:10:45  Epoch 80 : MAE : 0.7674  RMSE : 1.7789  NMAE : 0.8608  MRE : 0.9187  NPRE : 4.5008\r\n",
      "2023-01-14 01:10:45  Best epoch 37 : MAE : 0.7128  RMSE : 1.7986  NMAE : 0.7995  MRE : 0.6755  NPRE : 3.4816\r\n",
      "2023-01-14 01:10:45  实验 1 模型 7 training time = 18.93 s\r\n",
      "2023-01-14 01:10:45  Slice ID  7 : MAE = 0.7128, RMSE = 1.7986, NMAE = 0.7995, MRE = 0.6755, NPRE = 3.4816\r\n",
      "\r\n",
      "2023-01-14 01:10:46  \t实验 1 模型 8 开始分片训练\r\n",
      "2023-01-14 01:11:06  Epoch 10 : MAE : 0.7829  RMSE : 1.9691  NMAE : 0.8781  MRE : 0.7785  NPRE : 4.2788\r\n",
      "2023-01-14 01:11:23  Epoch 20 : MAE : 0.8100  RMSE : 1.8904  NMAE : 0.9085  MRE : 0.7907  NPRE : 5.1199\r\n",
      "2023-01-14 01:11:38  Epoch 30 : MAE : 0.7743  RMSE : 1.8633  NMAE : 0.8685  MRE : 0.7284  NPRE : 4.0508\r\n",
      "2023-01-14 01:11:54  Epoch 40 : MAE : 0.7749  RMSE : 1.8516  NMAE : 0.8692  MRE : 0.7404  NPRE : 4.2307\r\n",
      "2023-01-14 01:12:11  Epoch 50 : MAE : 0.7449  RMSE : 1.8239  NMAE : 0.8355  MRE : 0.7222  NPRE : 3.6086\r\n",
      "2023-01-14 01:12:28  Epoch 60 : MAE : 0.7505  RMSE : 1.8111  NMAE : 0.8418  MRE : 0.7440  NPRE : 4.1340\r\n",
      "2023-01-14 01:12:46  Epoch 70 : MAE : 0.7647  RMSE : 1.8297  NMAE : 0.8577  MRE : 0.7807  NPRE : 4.2302\r\n",
      "2023-01-14 01:13:03  Epoch 80 : MAE : 0.7604  RMSE : 1.8254  NMAE : 0.8528  MRE : 0.8000  NPRE : 4.0522\r\n",
      "2023-01-14 01:13:03  Best epoch 63 : MAE : 0.7329  RMSE : 1.7866  NMAE : 0.8221  MRE : 0.7346  NPRE : 4.0681\r\n",
      "2023-01-14 01:13:03  实验 1 模型 8 training time = 26.67 s\r\n",
      "2023-01-14 01:13:03  Slice ID  8 : MAE = 0.7329, RMSE = 1.7866, NMAE = 0.8221, MRE = 0.7346, NPRE = 4.0681\r\n",
      "\r\n",
      "2023-01-14 01:13:04  \t实验 1 模型 9 开始分片训练\r\n",
      "2023-01-14 01:13:22  Epoch 10 : MAE : 0.7518  RMSE : 1.9734  NMAE : 0.8433  MRE : 0.7526  NPRE : 3.0777\r\n",
      "2023-01-14 01:13:41  Epoch 20 : MAE : 0.7095  RMSE : 1.8237  NMAE : 0.7958  MRE : 0.6823  NPRE : 3.4394\r\n",
      "2023-01-14 01:14:00  Epoch 30 : MAE : 0.6984  RMSE : 1.7718  NMAE : 0.7833  MRE : 0.7054  NPRE : 3.4010\r\n",
      "2023-01-14 01:14:19  Epoch 40 : MAE : 0.6848  RMSE : 1.7687  NMAE : 0.7680  MRE : 0.6957  NPRE : 2.6185\r\n",
      "2023-01-14 01:14:38  Epoch 50 : MAE : 0.6826  RMSE : 1.7616  NMAE : 0.7657  MRE : 0.6754  NPRE : 2.8131\r\n",
      "2023-01-14 01:14:57  Epoch 60 : MAE : 0.6859  RMSE : 1.7544  NMAE : 0.7693  MRE : 0.6683  NPRE : 3.4531\r\n",
      "2023-01-14 01:15:15  Epoch 70 : MAE : 0.6983  RMSE : 1.7465  NMAE : 0.7832  MRE : 0.7475  NPRE : 3.5306\r\n",
      "2023-01-14 01:15:34  Epoch 80 : MAE : 0.7133  RMSE : 1.7413  NMAE : 0.8000  MRE : 0.8201  NPRE : 3.6259\r\n",
      "2023-01-14 01:15:34  Best epoch 56 : MAE : 0.6770  RMSE : 1.7437  NMAE : 0.7593  MRE : 0.6770  NPRE : 3.0557\r\n",
      "2023-01-14 01:15:34  实验 1 模型 9 training time = 31.79 s\r\n",
      "2023-01-14 01:15:34  Slice ID  9 : MAE = 0.6770, RMSE = 1.7437, NMAE = 0.7593, MRE = 0.6770, NPRE = 3.0557\r\n",
      "\r\n",
      "2023-01-14 01:15:34  \t实验 1 模型 10 开始分片训练\r\n",
      "2023-01-14 01:15:54  Epoch 10 : MAE : 0.7718  RMSE : 1.9445  NMAE : 0.8657  MRE : 0.7972  NPRE : 4.4420\r\n",
      "2023-01-14 01:16:11  Epoch 20 : MAE : 0.7794  RMSE : 1.8310  NMAE : 0.8741  MRE : 0.8042  NPRE : 4.8331\r\n",
      "2023-01-14 01:16:28  Epoch 30 : MAE : 0.7677  RMSE : 1.7949  NMAE : 0.8610  MRE : 0.7904  NPRE : 4.5599\r\n",
      "2023-01-14 01:16:45  Epoch 40 : MAE : 0.7423  RMSE : 1.7637  NMAE : 0.8326  MRE : 0.7588  NPRE : 4.3573\r\n",
      "2023-01-14 01:17:04  Epoch 50 : MAE : 0.7432  RMSE : 1.7729  NMAE : 0.8336  MRE : 0.7590  NPRE : 4.2673\r\n",
      "2023-01-14 01:17:23  Epoch 60 : MAE : 0.7652  RMSE : 1.7950  NMAE : 0.8582  MRE : 0.8161  NPRE : 4.4549\r\n",
      "2023-01-14 01:17:40  Epoch 70 : MAE : 0.7611  RMSE : 1.7761  NMAE : 0.8537  MRE : 0.8630  NPRE : 4.4207\r\n",
      "2023-01-14 01:17:57  Epoch 80 : MAE : 0.8163  RMSE : 1.7986  NMAE : 0.9156  MRE : 0.9786  NPRE : 5.3304\r\n",
      "2023-01-14 01:17:57  Best epoch 26 : MAE : 0.7262  RMSE : 1.7984  NMAE : 0.8145  MRE : 0.7089  NPRE : 3.9554\r\n",
      "2023-01-14 01:17:57  实验 1 模型 10 training time = 15.01 s\r\n",
      "2023-01-14 01:17:57  Slice ID  10 : MAE = 0.7262, RMSE = 1.7984, NMAE = 0.8145, MRE = 0.7089, NPRE = 3.9554\r\n",
      "\r\n",
      "2023-01-14 01:17:57  \t所有切片模型训练完毕\r\n",
      "2023-01-14 01:17:57  \t开始训练聚合模型\r\n",
      "2023-01-14 01:18:08  Epoch  1 : MAE : 0.5755  RMSE : 1.6100  NMAE : 0.6455  MRE : 0.5125  NPRE : 2.3538\r\n",
      "2023-01-14 01:18:18  Epoch  2 : MAE : 0.5448  RMSE : 1.5450  NMAE : 0.6111  MRE : 0.4996  NPRE : 1.9741\r\n",
      "2023-01-14 01:18:29  Epoch  3 : MAE : 0.5279  RMSE : 1.5241  NMAE : 0.5921  MRE : 0.4757  NPRE : 2.4473\r\n",
      "2023-01-14 01:18:39  Epoch  4 : MAE : 0.5118  RMSE : 1.4873  NMAE : 0.5741  MRE : 0.4717  NPRE : 2.3310\r\n",
      "2023-01-14 01:18:50  Epoch  5 : MAE : 0.5083  RMSE : 1.4669  NMAE : 0.5701  MRE : 0.4722  NPRE : 2.0787\r\n",
      "2023-01-14 01:18:50  \t实验 1 聚合模型训练完毕\r\n",
      "2023-01-14 01:19:06  Result : MAE : 0.5162  RMSE : 1.4885  NMAE : 0.5678  MRE : 0.4691  NPRE : 2.0599\r\n",
      "2023-01-14 01:19:06  \t实验 1 : Aggregators training time = 47.91 s\r\n",
      "\r\n",
      "2023-01-14 01:19:06  \t聚合模型训练完毕\r\n",
      "2023-01-14 01:19:06  Round 1 : MAE = 0.5162, RMSE = 1.4885, NMAE = 0.5678, MRE = 0.4691, NPRE = 2.0599\r\n",
      "\r\n",
      "------------------------------------------------------------------------------------------------------------------------\r\n",
      "2023-01-14 01:19:06  Dataset : rt     interaction : NeuCF\r\n",
      "2023-01-14 01:19:06  Density : 10.00%, slice_epochs : 80, agg_epochs : 5\r\n",
      "2023-01-14 01:19:06  Part_type : 5,    slices : 10,       devices : gpu\r\n",
      "\r\n",
      "\r\n",
      "2023-01-14 01:19:06  Density 10.00% : MAE = 0.516, RMSE = 1.488, NMAE = 0.568, MRE = 0.469, NPRE = 2.060\r\n",
      "\r\n",
      "2023-01-14 01:19:06  Experiment success!\r\n"
     ]
    }
   ],
   "source": [
    "!python Experiment.py --dataset tp --interaction NeuCF --rounds 1 --agg_epochs 5 --density 0.10 --part_type 5"
   ],
   "metadata": {
    "collapsed": false
   }
  },
  {
   "cell_type": "code",
   "execution_count": null,
   "outputs": [
    {
     "name": "stdout",
     "output_type": "stream",
     "text": [
      "2023-01-14 01:19:07  Namespace(agg_epochs=5, agg_function=3, agg_type='softmax', balance=0, batch_size=128, beta=1, cluster='deep', cuda=True, dataset='rt', debug=0, density=0.1, devices='gpu', dimension=32, dir='../Dataset/mnist', dropout=0.1, epoch=1500, hidden_dims=[64, 64, 100], input_dim=128, interaction='NeuCF', kmeans_type=1, lamda=1, latent_dim=10, log_interval=100, lr=0.0001, n_classes=10, n_clusters=10, n_jobs=1, node2vec=0, node2vec_batchsize=32, node2vec_dim=128, node2vec_epochs=20, node2vec_length=8, node2vec_walk=15, node2vec_windows=3, num_layers=2, order=2, part_iter=50, part_type=6, path='./datasets/data/WSDREAM/', pre_epoch=1000, pretrain=True, processed=0, retrain=0, rounds=1, save_model=1, slice_epochs=80, slices=10, subagg=1, verbose=10, wd=0.0005)\r\n",
      "2023-01-14 01:19:07  Experiment start!\r\n",
      "2023-01-14 01:19:07  Dataset : rt     interaction : NeuCF\r\n",
      "2023-01-14 01:19:07  Density : 10.00%, slice_epochs : 80, agg_epochs : 5\r\n",
      "2023-01-14 01:19:07  Part_type : 6,    slices : 10,       devices : gpu\r\n",
      "\r\n",
      "2023-01-14 01:19:07  Round 1 experiment start!\r\n",
      "2023-01-14 01:19:07  \t原始数据集读取完毕\r\n",
      "2023-01-14 01:19:08  \t简单聚类\r\n",
      "/home/yxzeng/anaconda3/lib/python3.8/site-packages/sklearn/cluster/_kmeans.py:870: FutureWarning: The default value of `n_init` will change from 10 to 'auto' in 1.4. Set the value of `n_init` explicitly to suppress the warning\r\n",
      "  warnings.warn(\r\n",
      "Exception ignored on calling ctypes callback function: <function _ThreadpoolInfo._find_modules_with_dl_iterate_phdr.<locals>.match_module_callback at 0x7fd9e8baad30>\r\n",
      "Traceback (most recent call last):\r\n",
      "  File \"/home/yxzeng/anaconda3/lib/python3.8/site-packages/threadpoolctl.py\", line 400, in match_module_callback\r\n",
      "    self._make_module_from_path(filepath)\r\n",
      "  File \"/home/yxzeng/anaconda3/lib/python3.8/site-packages/threadpoolctl.py\", line 515, in _make_module_from_path\r\n",
      "    module = module_class(filepath, prefix, user_api, internal_api)\r\n",
      "  File \"/home/yxzeng/anaconda3/lib/python3.8/site-packages/threadpoolctl.py\", line 606, in __init__\r\n",
      "    self.version = self.get_version()\r\n",
      "  File \"/home/yxzeng/anaconda3/lib/python3.8/site-packages/threadpoolctl.py\", line 646, in get_version\r\n",
      "    config = get_config().split()\r\n",
      "AttributeError: 'NoneType' object has no attribute 'split'\r\n",
      "Exception ignored on calling ctypes callback function: <function _ThreadpoolInfo._find_modules_with_dl_iterate_phdr.<locals>.match_module_callback at 0x7fd9e8baad30>\r\n",
      "Traceback (most recent call last):\r\n",
      "  File \"/home/yxzeng/anaconda3/lib/python3.8/site-packages/threadpoolctl.py\", line 400, in match_module_callback\r\n",
      "    self._make_module_from_path(filepath)\r\n",
      "  File \"/home/yxzeng/anaconda3/lib/python3.8/site-packages/threadpoolctl.py\", line 515, in _make_module_from_path\r\n",
      "    module = module_class(filepath, prefix, user_api, internal_api)\r\n",
      "  File \"/home/yxzeng/anaconda3/lib/python3.8/site-packages/threadpoolctl.py\", line 606, in __init__\r\n",
      "    self.version = self.get_version()\r\n",
      "  File \"/home/yxzeng/anaconda3/lib/python3.8/site-packages/threadpoolctl.py\", line 646, in get_version\r\n",
      "    config = get_config().split()\r\n",
      "AttributeError: 'NoneType' object has no attribute 'split'\r\n",
      "Exception ignored on calling ctypes callback function: <function _ThreadpoolInfo._find_modules_with_dl_iterate_phdr.<locals>.match_module_callback at 0x7fd9e8baad30>\r\n",
      "Traceback (most recent call last):\r\n",
      "  File \"/home/yxzeng/anaconda3/lib/python3.8/site-packages/threadpoolctl.py\", line 400, in match_module_callback\r\n",
      "    self._make_module_from_path(filepath)\r\n",
      "  File \"/home/yxzeng/anaconda3/lib/python3.8/site-packages/threadpoolctl.py\", line 515, in _make_module_from_path\r\n",
      "    module = module_class(filepath, prefix, user_api, internal_api)\r\n",
      "  File \"/home/yxzeng/anaconda3/lib/python3.8/site-packages/threadpoolctl.py\", line 606, in __init__\r\n",
      "    self.version = self.get_version()\r\n",
      "  File \"/home/yxzeng/anaconda3/lib/python3.8/site-packages/threadpoolctl.py\", line 646, in get_version\r\n",
      "    config = get_config().split()\r\n",
      "AttributeError: 'NoneType' object has no attribute 'split'\r\n",
      "Exception ignored on calling ctypes callback function: <function _ThreadpoolInfo._find_modules_with_dl_iterate_phdr.<locals>.match_module_callback at 0x7fd9e8baad30>\r\n",
      "Traceback (most recent call last):\r\n",
      "  File \"/home/yxzeng/anaconda3/lib/python3.8/site-packages/threadpoolctl.py\", line 400, in match_module_callback\r\n",
      "    self._make_module_from_path(filepath)\r\n",
      "  File \"/home/yxzeng/anaconda3/lib/python3.8/site-packages/threadpoolctl.py\", line 515, in _make_module_from_path\r\n",
      "    module = module_class(filepath, prefix, user_api, internal_api)\r\n",
      "  File \"/home/yxzeng/anaconda3/lib/python3.8/site-packages/threadpoolctl.py\", line 606, in __init__\r\n",
      "    self.version = self.get_version()\r\n",
      "  File \"/home/yxzeng/anaconda3/lib/python3.8/site-packages/threadpoolctl.py\", line 646, in get_version\r\n",
      "    config = get_config().split()\r\n",
      "AttributeError: 'NoneType' object has no attribute 'split'\r\n",
      "Exception ignored on calling ctypes callback function: <function _ThreadpoolInfo._find_modules_with_dl_iterate_phdr.<locals>.match_module_callback at 0x7fd9e8baad30>\r\n",
      "Traceback (most recent call last):\r\n",
      "  File \"/home/yxzeng/anaconda3/lib/python3.8/site-packages/threadpoolctl.py\", line 400, in match_module_callback\r\n",
      "    self._make_module_from_path(filepath)\r\n",
      "  File \"/home/yxzeng/anaconda3/lib/python3.8/site-packages/threadpoolctl.py\", line 515, in _make_module_from_path\r\n",
      "    module = module_class(filepath, prefix, user_api, internal_api)\r\n",
      "  File \"/home/yxzeng/anaconda3/lib/python3.8/site-packages/threadpoolctl.py\", line 606, in __init__\r\n",
      "    self.version = self.get_version()\r\n",
      "  File \"/home/yxzeng/anaconda3/lib/python3.8/site-packages/threadpoolctl.py\", line 646, in get_version\r\n",
      "    config = get_config().split()\r\n",
      "AttributeError: 'NoneType' object has no attribute 'split'\r\n",
      "Exception ignored on calling ctypes callback function: <function _ThreadpoolInfo._find_modules_with_dl_iterate_phdr.<locals>.match_module_callback at 0x7fd9e8baad30>\r\n",
      "Traceback (most recent call last):\r\n",
      "  File \"/home/yxzeng/anaconda3/lib/python3.8/site-packages/threadpoolctl.py\", line 400, in match_module_callback\r\n",
      "    self._make_module_from_path(filepath)\r\n",
      "  File \"/home/yxzeng/anaconda3/lib/python3.8/site-packages/threadpoolctl.py\", line 515, in _make_module_from_path\r\n",
      "    module = module_class(filepath, prefix, user_api, internal_api)\r\n",
      "  File \"/home/yxzeng/anaconda3/lib/python3.8/site-packages/threadpoolctl.py\", line 606, in __init__\r\n",
      "    self.version = self.get_version()\r\n",
      "  File \"/home/yxzeng/anaconda3/lib/python3.8/site-packages/threadpoolctl.py\", line 646, in get_version\r\n",
      "    config = get_config().split()\r\n",
      "AttributeError: 'NoneType' object has no attribute 'split'\r\n",
      "Exception ignored on calling ctypes callback function: <function _ThreadpoolInfo._find_modules_with_dl_iterate_phdr.<locals>.match_module_callback at 0x7fd9e8baad30>\r\n",
      "Traceback (most recent call last):\r\n",
      "  File \"/home/yxzeng/anaconda3/lib/python3.8/site-packages/threadpoolctl.py\", line 400, in match_module_callback\r\n",
      "    self._make_module_from_path(filepath)\r\n",
      "  File \"/home/yxzeng/anaconda3/lib/python3.8/site-packages/threadpoolctl.py\", line 515, in _make_module_from_path\r\n",
      "    module = module_class(filepath, prefix, user_api, internal_api)\r\n",
      "  File \"/home/yxzeng/anaconda3/lib/python3.8/site-packages/threadpoolctl.py\", line 606, in __init__\r\n",
      "    self.version = self.get_version()\r\n",
      "  File \"/home/yxzeng/anaconda3/lib/python3.8/site-packages/threadpoolctl.py\", line 646, in get_version\r\n",
      "    config = get_config().split()\r\n",
      "AttributeError: 'NoneType' object has no attribute 'split'\r\n",
      "Exception ignored on calling ctypes callback function: <function _ThreadpoolInfo._find_modules_with_dl_iterate_phdr.<locals>.match_module_callback at 0x7fd9e8baad30>\r\n",
      "Traceback (most recent call last):\r\n",
      "  File \"/home/yxzeng/anaconda3/lib/python3.8/site-packages/threadpoolctl.py\", line 400, in match_module_callback\r\n",
      "    self._make_module_from_path(filepath)\r\n",
      "  File \"/home/yxzeng/anaconda3/lib/python3.8/site-packages/threadpoolctl.py\", line 515, in _make_module_from_path\r\n",
      "    module = module_class(filepath, prefix, user_api, internal_api)\r\n",
      "  File \"/home/yxzeng/anaconda3/lib/python3.8/site-packages/threadpoolctl.py\", line 606, in __init__\r\n",
      "    self.version = self.get_version()\r\n",
      "  File \"/home/yxzeng/anaconda3/lib/python3.8/site-packages/threadpoolctl.py\", line 646, in get_version\r\n",
      "    config = get_config().split()\r\n",
      "AttributeError: 'NoneType' object has no attribute 'split'\r\n",
      "Exception ignored on calling ctypes callback function: <function _ThreadpoolInfo._find_modules_with_dl_iterate_phdr.<locals>.match_module_callback at 0x7fd9e8baad30>\r\n",
      "Traceback (most recent call last):\r\n",
      "  File \"/home/yxzeng/anaconda3/lib/python3.8/site-packages/threadpoolctl.py\", line 400, in match_module_callback\r\n",
      "    self._make_module_from_path(filepath)\r\n",
      "  File \"/home/yxzeng/anaconda3/lib/python3.8/site-packages/threadpoolctl.py\", line 515, in _make_module_from_path\r\n",
      "    module = module_class(filepath, prefix, user_api, internal_api)\r\n",
      "  File \"/home/yxzeng/anaconda3/lib/python3.8/site-packages/threadpoolctl.py\", line 606, in __init__\r\n",
      "    self.version = self.get_version()\r\n",
      "  File \"/home/yxzeng/anaconda3/lib/python3.8/site-packages/threadpoolctl.py\", line 646, in get_version\r\n",
      "    config = get_config().split()\r\n",
      "AttributeError: 'NoneType' object has no attribute 'split'\r\n",
      "Exception ignored on calling ctypes callback function: <function _ThreadpoolInfo._find_modules_with_dl_iterate_phdr.<locals>.match_module_callback at 0x7fd9e8baad30>\r\n",
      "Traceback (most recent call last):\r\n",
      "  File \"/home/yxzeng/anaconda3/lib/python3.8/site-packages/threadpoolctl.py\", line 400, in match_module_callback\r\n",
      "    self._make_module_from_path(filepath)\r\n",
      "  File \"/home/yxzeng/anaconda3/lib/python3.8/site-packages/threadpoolctl.py\", line 515, in _make_module_from_path\r\n",
      "    module = module_class(filepath, prefix, user_api, internal_api)\r\n",
      "  File \"/home/yxzeng/anaconda3/lib/python3.8/site-packages/threadpoolctl.py\", line 606, in __init__\r\n",
      "    self.version = self.get_version()\r\n",
      "  File \"/home/yxzeng/anaconda3/lib/python3.8/site-packages/threadpoolctl.py\", line 646, in get_version\r\n",
      "    config = get_config().split()\r\n",
      "AttributeError: 'NoneType' object has no attribute 'split'\r\n",
      "Exception ignored on calling ctypes callback function: <function _ThreadpoolInfo._find_modules_with_dl_iterate_phdr.<locals>.match_module_callback at 0x7fd9e8baad30>\r\n",
      "Traceback (most recent call last):\r\n",
      "  File \"/home/yxzeng/anaconda3/lib/python3.8/site-packages/threadpoolctl.py\", line 400, in match_module_callback\r\n",
      "    self._make_module_from_path(filepath)\r\n",
      "  File \"/home/yxzeng/anaconda3/lib/python3.8/site-packages/threadpoolctl.py\", line 515, in _make_module_from_path\r\n",
      "    module = module_class(filepath, prefix, user_api, internal_api)\r\n",
      "  File \"/home/yxzeng/anaconda3/lib/python3.8/site-packages/threadpoolctl.py\", line 606, in __init__\r\n",
      "    self.version = self.get_version()\r\n",
      "  File \"/home/yxzeng/anaconda3/lib/python3.8/site-packages/threadpoolctl.py\", line 646, in get_version\r\n",
      "    config = get_config().split()\r\n",
      "AttributeError: 'NoneType' object has no attribute 'split'\r\n",
      "{0: 21, 5: 33, 1: 60, 6: 39, 3: 34, 2: 38, 7: 26, 4: 55, 9: 14, 8: 19}\r\n",
      "2023-01-14 01:19:08  \t地区特征 基于用户切割完毕\r\n",
      "2023-01-14 01:19:08  \t分切数据执行完毕\r\n",
      "2023-01-14 01:19:11  \t模型加载完毕\r\n",
      "2023-01-14 01:19:11  \t准备训练切片模型\r\n",
      "2023-01-14 01:19:12  \t实验 1 模型 1 开始分片训练\r\n",
      "2023-01-14 01:19:23  Epoch 10 : MAE : 3.0322  RMSE : 4.5185  NMAE : 3.3291  MRE : 1.8260  NPRE : 42.8689\r\n",
      "2023-01-14 01:19:35  Epoch 20 : MAE : 3.2603  RMSE : 4.6142  NMAE : 3.5795  MRE : 3.9487  NPRE : 46.8403\r\n",
      "2023-01-14 01:19:47  Epoch 30 : MAE : 3.9838  RMSE : 5.3656  NMAE : 4.3738  MRE : 6.8698  NPRE : 57.9586\r\n",
      "2023-01-14 01:20:01  Epoch 40 : MAE : 4.3450  RMSE : 5.7396  NMAE : 4.7704  MRE : 8.3812  NPRE : 63.2151\r\n",
      "2023-01-14 01:20:13  Epoch 50 : MAE : 4.3060  RMSE : 5.6548  NMAE : 4.7276  MRE : 8.5198  NPRE : 62.8853\r\n",
      "2023-01-14 01:20:25  Epoch 60 : MAE : 4.5199  RMSE : 5.9217  NMAE : 4.9624  MRE : 9.0754  NPRE : 65.4461\r\n",
      "2023-01-14 01:20:40  Epoch 70 : MAE : 4.1702  RMSE : 5.5393  NMAE : 4.5785  MRE : 7.8409  NPRE : 60.8666\r\n",
      "2023-01-14 01:20:52  Epoch 80 : MAE : 4.1230  RMSE : 5.4888  NMAE : 4.5266  MRE : 7.6576  NPRE : 59.5618\r\n",
      "2023-01-14 01:20:52  Best epoch  8 : MAE : 3.0122  RMSE : 4.5705  NMAE : 3.3072  MRE : 1.1724  NPRE : 42.6194\r\n",
      "2023-01-14 01:20:52  实验 1 模型 1 training time = 0.12 s\r\n",
      "2023-01-14 01:20:52  Slice ID  1 : MAE = 3.0122, RMSE = 4.5705, NMAE = 3.3072, MRE = 1.1724, NPRE = 42.6194\r\n",
      "\r\n",
      "2023-01-14 01:20:52  \t实验 1 模型 2 开始分片训练\r\n",
      "2023-01-14 01:21:05  Epoch 10 : MAE : 3.3905  RMSE : 5.0698  NMAE : 3.7224  MRE : 2.1180  NPRE : 48.6224\r\n",
      "2023-01-14 01:21:17  Epoch 20 : MAE : 3.2630  RMSE : 4.7938  NMAE : 3.5824  MRE : 2.6628  NPRE : 46.2370\r\n",
      "2023-01-14 01:21:28  Epoch 30 : MAE : 3.4641  RMSE : 4.9998  NMAE : 3.8032  MRE : 3.6839  NPRE : 49.6529\r\n",
      "2023-01-14 01:21:40  Epoch 40 : MAE : 3.7789  RMSE : 5.2812  NMAE : 4.1489  MRE : 5.3092  NPRE : 54.7655\r\n",
      "2023-01-14 01:21:51  Epoch 50 : MAE : 3.7652  RMSE : 5.2834  NMAE : 4.1338  MRE : 5.1615  NPRE : 54.2850\r\n",
      "2023-01-14 01:22:02  Epoch 60 : MAE : 3.7154  RMSE : 5.2053  NMAE : 4.0792  MRE : 5.1977  NPRE : 53.2756\r\n",
      "2023-01-14 01:22:14  Epoch 70 : MAE : 3.6267  RMSE : 5.0902  NMAE : 3.9818  MRE : 4.9648  NPRE : 52.3173\r\n",
      "2023-01-14 01:22:25  Epoch 80 : MAE : 3.5191  RMSE : 4.9610  NMAE : 3.8636  MRE : 4.6735  NPRE : 50.3889\r\n",
      "2023-01-14 01:22:25  Best epoch 16 : MAE : 3.1162  RMSE : 4.6785  NMAE : 3.4213  MRE : 1.7159  NPRE : 43.8977\r\n",
      "2023-01-14 01:22:25  实验 1 模型 2 training time = 0.37 s\r\n",
      "2023-01-14 01:22:25  Slice ID  2 : MAE = 3.1162, RMSE = 4.6785, NMAE = 3.4213, MRE = 1.7159, NPRE = 43.8977\r\n",
      "\r\n",
      "2023-01-14 01:22:26  \t实验 1 模型 3 开始分片训练\r\n",
      "2023-01-14 01:22:37  Epoch 10 : MAE : 2.4224  RMSE : 4.0684  NMAE : 2.6595  MRE : 1.0000  NPRE : 31.0655\r\n",
      "2023-01-14 01:22:49  Epoch 20 : MAE : 2.1890  RMSE : 3.5495  NMAE : 2.4033  MRE : 1.0000  NPRE : 27.8541\r\n",
      "2023-01-14 01:23:01  Epoch 30 : MAE : 2.1497  RMSE : 3.3729  NMAE : 2.3602  MRE : 1.0000  NPRE : 27.6040\r\n",
      "2023-01-14 01:23:12  Epoch 40 : MAE : 2.3711  RMSE : 3.5082  NMAE : 2.6032  MRE : 1.8528  NPRE : 31.9951\r\n",
      "2023-01-14 01:23:23  Epoch 50 : MAE : 2.5440  RMSE : 3.6702  NMAE : 2.7931  MRE : 2.8303  NPRE : 35.3064\r\n",
      "2023-01-14 01:23:35  Epoch 60 : MAE : 2.5903  RMSE : 3.6785  NMAE : 2.8439  MRE : 3.3567  NPRE : 36.2494\r\n",
      "2023-01-14 01:23:46  Epoch 70 : MAE : 2.7332  RMSE : 3.8113  NMAE : 3.0008  MRE : 4.0823  NPRE : 38.5495\r\n",
      "2023-01-14 01:23:57  Epoch 80 : MAE : 2.7584  RMSE : 3.8258  NMAE : 3.0285  MRE : 4.3012  NPRE : 38.8744\r\n",
      "2023-01-14 01:23:57  Best epoch 28 : MAE : 2.1319  RMSE : 3.3684  NMAE : 2.3406  MRE : 1.0000  NPRE : 27.2869\r\n",
      "2023-01-14 01:23:57  实验 1 模型 3 training time = 0.42 s\r\n",
      "2023-01-14 01:23:57  Slice ID  3 : MAE = 2.1319, RMSE = 3.3684, NMAE = 2.3406, MRE = 1.0000, NPRE = 27.2869\r\n",
      "\r\n",
      "2023-01-14 01:23:58  \t实验 1 模型 4 开始分片训练\r\n",
      "2023-01-14 01:24:10  Epoch 10 : MAE : 2.4905  RMSE : 4.0468  NMAE : 2.7343  MRE : 1.0000  NPRE : 32.9188\r\n",
      "2023-01-14 01:24:21  Epoch 20 : MAE : 1.9457  RMSE : 3.1955  NMAE : 2.1362  MRE : 1.0000  NPRE : 23.3946\r\n",
      "2023-01-14 01:24:33  Epoch 30 : MAE : 1.6451  RMSE : 2.7361  NMAE : 1.8061  MRE : 1.0000  NPRE : 18.4720\r\n",
      "2023-01-14 01:24:45  Epoch 40 : MAE : 1.6107  RMSE : 2.6394  NMAE : 1.7684  MRE : 1.0000  NPRE : 18.3210\r\n",
      "2023-01-14 01:24:56  Epoch 50 : MAE : 1.6784  RMSE : 2.6671  NMAE : 1.8427  MRE : 1.0000  NPRE : 20.1677\r\n",
      "2023-01-14 01:25:07  Epoch 60 : MAE : 1.8361  RMSE : 2.8313  NMAE : 2.0159  MRE : 1.0000  NPRE : 23.1623\r\n",
      "2023-01-14 01:25:19  Epoch 70 : MAE : 2.0891  RMSE : 3.1089  NMAE : 2.2936  MRE : 2.0142  NPRE : 27.7780\r\n",
      "2023-01-14 01:25:31  Epoch 80 : MAE : 2.1725  RMSE : 3.1873  NMAE : 2.3852  MRE : 2.4871  NPRE : 29.3448\r\n",
      "2023-01-14 01:25:31  Best epoch 34 : MAE : 1.5569  RMSE : 2.6247  NMAE : 1.7094  MRE : 1.0000  NPRE : 16.8194\r\n",
      "2023-01-14 01:25:31  实验 1 模型 4 training time = 0.50 s\r\n",
      "2023-01-14 01:25:31  Slice ID  4 : MAE = 1.5569, RMSE = 2.6247, NMAE = 1.7094, MRE = 1.0000, NPRE = 16.8194\r\n",
      "\r\n",
      "2023-01-14 01:25:32  \t实验 1 模型 5 开始分片训练\r\n",
      "2023-01-14 01:25:44  Epoch 10 : MAE : 2.9353  RMSE : 4.7206  NMAE : 3.2227  MRE : 1.0000  NPRE : 40.4914\r\n",
      "2023-01-14 01:25:55  Epoch 20 : MAE : 2.4282  RMSE : 3.8638  NMAE : 2.6659  MRE : 1.0000  NPRE : 32.1686\r\n",
      "2023-01-14 01:26:07  Epoch 30 : MAE : 2.0366  RMSE : 3.2504  NMAE : 2.2360  MRE : 1.0000  NPRE : 25.7101\r\n",
      "2023-01-14 01:26:22  Epoch 40 : MAE : 2.1023  RMSE : 3.2443  NMAE : 2.3081  MRE : 1.0000  NPRE : 27.3143\r\n",
      "2023-01-14 01:26:33  Epoch 50 : MAE : 2.3896  RMSE : 3.5366  NMAE : 2.6236  MRE : 1.8278  NPRE : 32.6049\r\n",
      "2023-01-14 01:26:45  Epoch 60 : MAE : 2.5342  RMSE : 3.6892  NMAE : 2.7823  MRE : 2.5660  NPRE : 34.9618\r\n",
      "2023-01-14 01:26:57  Epoch 70 : MAE : 2.4779  RMSE : 3.5754  NMAE : 2.7205  MRE : 2.7990  NPRE : 34.5000\r\n",
      "2023-01-14 01:27:10  Epoch 80 : MAE : 2.7085  RMSE : 3.8037  NMAE : 2.9737  MRE : 3.8693  NPRE : 38.3943\r\n",
      "2023-01-14 01:27:10  Best epoch 35 : MAE : 1.9732  RMSE : 3.1426  NMAE : 2.1664  MRE : 1.0000  NPRE : 24.6650\r\n",
      "2023-01-14 01:27:10  实验 1 模型 5 training time = 0.56 s\r\n",
      "2023-01-14 01:27:10  Slice ID  5 : MAE = 1.9732, RMSE = 3.1426, NMAE = 2.1664, MRE = 1.0000, NPRE = 24.6650\r\n",
      "\r\n",
      "2023-01-14 01:27:11  \t实验 1 模型 6 开始分片训练\r\n",
      "2023-01-14 01:27:28  Epoch 10 : MAE : 2.4510  RMSE : 4.0634  NMAE : 2.6910  MRE : 1.0000  NPRE : 31.8685\r\n",
      "2023-01-14 01:27:43  Epoch 20 : MAE : 1.7953  RMSE : 3.0127  NMAE : 1.9711  MRE : 1.0000  NPRE : 20.3430\r\n",
      "2023-01-14 01:27:57  Epoch 30 : MAE : 1.5708  RMSE : 2.6337  NMAE : 1.7246  MRE : 1.0000  NPRE : 17.1411\r\n",
      "2023-01-14 01:28:10  Epoch 40 : MAE : 1.5160  RMSE : 2.5043  NMAE : 1.6644  MRE : 1.0000  NPRE : 16.6576\r\n",
      "2023-01-14 01:28:23  Epoch 50 : MAE : 1.4971  RMSE : 2.4655  NMAE : 1.6436  MRE : 1.0000  NPRE : 16.6121\r\n",
      "2023-01-14 01:28:36  Epoch 60 : MAE : 1.6957  RMSE : 2.6014  NMAE : 1.8617  MRE : 1.2383  NPRE : 20.9829\r\n",
      "2023-01-14 01:28:49  Epoch 70 : MAE : 1.9314  RMSE : 2.8348  NMAE : 2.1205  MRE : 2.1254  NPRE : 25.2303\r\n",
      "2023-01-14 01:29:02  Epoch 80 : MAE : 2.2994  RMSE : 3.1993  NMAE : 2.5245  MRE : 3.6859  NPRE : 31.5428\r\n",
      "2023-01-14 01:29:02  Best epoch 44 : MAE : 1.4720  RMSE : 2.4615  NMAE : 1.6161  MRE : 1.0000  NPRE : 15.8649\r\n",
      "2023-01-14 01:29:02  实验 1 模型 6 training time = 0.91 s\r\n",
      "2023-01-14 01:29:02  Slice ID  6 : MAE = 1.4720, RMSE = 2.4615, NMAE = 1.6161, MRE = 1.0000, NPRE = 15.8649\r\n",
      "\r\n",
      "2023-01-14 01:29:03  \t实验 1 模型 7 开始分片训练\r\n",
      "2023-01-14 01:29:16  Epoch 10 : MAE : 2.7118  RMSE : 4.4551  NMAE : 2.9773  MRE : 1.0000  NPRE : 35.8594\r\n",
      "2023-01-14 01:29:29  Epoch 20 : MAE : 2.2544  RMSE : 3.6377  NMAE : 2.4751  MRE : 1.0000  NPRE : 28.9332\r\n",
      "2023-01-14 01:29:42  Epoch 30 : MAE : 2.0587  RMSE : 3.2386  NMAE : 2.2603  MRE : 1.0000  NPRE : 26.3841\r\n",
      "2023-01-14 01:29:54  Epoch 40 : MAE : 1.9496  RMSE : 3.0426  NMAE : 2.1405  MRE : 1.0000  NPRE : 24.6340\r\n",
      "2023-01-14 01:30:09  Epoch 50 : MAE : 2.0661  RMSE : 3.1020  NMAE : 2.2684  MRE : 1.4169  NPRE : 26.9575\r\n"
     ]
    }
   ],
   "source": [
    "!python Experiment.py --dataset tp --interaction NeuCF --rounds 1 --agg_epochs 5 --density 0.10 --part_type 6"
   ],
   "metadata": {
    "collapsed": false
   }
  },
  {
   "cell_type": "code",
   "execution_count": null,
   "outputs": [],
   "source": [
    "!python Experiment.py --dataset tp --interaction NeuCF --rounds 1 --agg_epochs 5 --density 0.10 --part_type 7"
   ],
   "metadata": {
    "collapsed": false
   }
  },
  {
   "cell_type": "code",
   "execution_count": null,
   "outputs": [],
   "source": [
    "!python Experiment.py --dataset tp --interaction NeuCF --rounds 1 --agg_epochs 5 --density 0.10 --part_type 8"
   ],
   "metadata": {
    "collapsed": false
   }
  },
  {
   "cell_type": "markdown",
   "source": [
    "*****"
   ],
   "metadata": {
    "collapsed": false
   }
  },
  {
   "cell_type": "code",
   "execution_count": null,
   "outputs": [],
   "source": [
    "!python Experiment.py --dataset tp --interaction CSMF --rounds 1 --agg_epochs 5 --density 0.10 --part_type 1"
   ],
   "metadata": {
    "collapsed": false
   }
  },
  {
   "cell_type": "code",
   "execution_count": null,
   "outputs": [],
   "source": [
    "!python Experiment.py --dataset tp --interaction CSMF --rounds 1 --agg_epochs 5 --density 0.10 --part_type 2"
   ],
   "metadata": {
    "collapsed": false
   }
  },
  {
   "cell_type": "code",
   "execution_count": null,
   "outputs": [],
   "source": [
    "!python Experiment.py --dataset tp --interaction CSMF --rounds 1 --agg_epochs 5 --density 0.10 --part_type 3"
   ],
   "metadata": {
    "collapsed": false
   }
  },
  {
   "cell_type": "code",
   "execution_count": null,
   "outputs": [],
   "source": [
    "!python Experiment.py --dataset tp --interaction CSMF --rounds 1 --agg_epochs 5 --density 0.10 --part_type 4"
   ],
   "metadata": {
    "collapsed": false
   }
  },
  {
   "cell_type": "code",
   "execution_count": null,
   "outputs": [],
   "source": [
    "!python Experiment.py --dataset tp --interaction CSMF --rounds 1 --agg_epochs 5 --density 0.10 --part_type 5"
   ],
   "metadata": {
    "collapsed": false
   }
  },
  {
   "cell_type": "code",
   "execution_count": null,
   "outputs": [],
   "source": [
    "!python Experiment.py --dataset tp --interaction CSMF --rounds 1 --agg_epochs 5 --density 0.10 --part_type 6"
   ],
   "metadata": {
    "collapsed": false
   }
  },
  {
   "cell_type": "code",
   "execution_count": null,
   "outputs": [],
   "source": [
    "!python Experiment.py --dataset tp --interaction CSMF --rounds 1 --agg_epochs 5 --density 0.10 --part_type 7"
   ],
   "metadata": {
    "collapsed": false
   }
  },
  {
   "cell_type": "code",
   "execution_count": null,
   "outputs": [],
   "source": [
    "!python Experiment.py --dataset tp --interaction CSMF --rounds 1 --agg_epochs 5 --density 0.10 --part_type 8"
   ],
   "metadata": {
    "collapsed": false
   }
  },
  {
   "cell_type": "markdown",
   "source": [
    "*****"
   ],
   "metadata": {
    "collapsed": false
   }
  },
  {
   "cell_type": "code",
   "execution_count": null,
   "outputs": [],
   "source": [
    "!python Experiment.py --dataset tp --interaction Pure_Mf --rounds 1 --agg_epochs 5 --density 0.10 --part_type 1"
   ],
   "metadata": {
    "collapsed": false
   }
  },
  {
   "cell_type": "code",
   "execution_count": null,
   "outputs": [],
   "source": [
    "!python Experiment.py --dataset tp --interaction Pure_Mf --rounds 1 --agg_epochs 5 --density 0.10 --part_type 2"
   ],
   "metadata": {
    "collapsed": false
   }
  },
  {
   "cell_type": "code",
   "execution_count": null,
   "outputs": [],
   "source": [
    "!python Experiment.py --dataset tp --interaction Pure_Mf --rounds 1 --agg_epochs 5 --density 0.10 --part_type 3"
   ],
   "metadata": {
    "collapsed": false
   }
  },
  {
   "cell_type": "code",
   "execution_count": null,
   "outputs": [],
   "source": [
    "!python Experiment.py --dataset tp --interaction Pure_Mf --rounds 1 --agg_epochs 5 --density 0.10 --part_type 4"
   ],
   "metadata": {
    "collapsed": false
   }
  },
  {
   "cell_type": "code",
   "execution_count": null,
   "outputs": [],
   "source": [
    "!python Experiment.py --dataset tp --interaction Pure_Mf --rounds 1 --agg_epochs 5 --density 0.10 --part_type 5"
   ],
   "metadata": {
    "collapsed": false
   }
  },
  {
   "cell_type": "code",
   "execution_count": null,
   "outputs": [],
   "source": [
    "!python Experiment.py --dataset tp --interaction Pure_Mf --rounds 1 --agg_epochs 5 --density 0.10 --part_type 6"
   ],
   "metadata": {
    "collapsed": false
   }
  },
  {
   "cell_type": "code",
   "execution_count": null,
   "outputs": [],
   "source": [
    "!python Experiment.py --dataset tp --interaction Pure_Mf --rounds 1 --agg_epochs 5 --density 0.10 --part_type 7"
   ],
   "metadata": {
    "collapsed": false
   }
  },
  {
   "cell_type": "code",
   "execution_count": null,
   "outputs": [],
   "source": [
    "!python Experiment.py --dataset tp --interaction Pure_Mf --rounds 1 --agg_epochs 5 --density 0.10 --part_type 8"
   ],
   "metadata": {
    "collapsed": false
   }
  },
  {
   "cell_type": "markdown",
   "source": [
    "*****"
   ],
   "metadata": {
    "collapsed": false
   }
  },
  {
   "cell_type": "code",
   "execution_count": null,
   "outputs": [],
   "source": [
    "# !python Experiment.py --dataset tp --interaction GraphMF --rounds 1 --agg_epochs 5 --density 0.10 --part_type 1"
   ],
   "metadata": {
    "collapsed": false
   }
  },
  {
   "cell_type": "code",
   "execution_count": null,
   "outputs": [],
   "source": [
    "# !python Experiment.py --dataset tp --interaction GraphMF --rounds 1 --agg_epochs 5 --density 0.10 --part_type 2"
   ],
   "metadata": {
    "collapsed": false
   }
  },
  {
   "cell_type": "code",
   "execution_count": null,
   "outputs": [],
   "source": [
    "# !python Experiment.py --dataset tp --interaction GraphMF --rounds 1 --agg_epochs 5 --density 0.10 --part_type 3"
   ],
   "metadata": {
    "collapsed": false
   }
  },
  {
   "cell_type": "code",
   "execution_count": null,
   "outputs": [],
   "source": [
    "# !python Experiment.py --dataset tp --interaction GraphMF --rounds 1 --agg_epochs 5 --density 0.10 --part_type 4"
   ],
   "metadata": {
    "collapsed": false
   }
  },
  {
   "cell_type": "code",
   "execution_count": null,
   "outputs": [],
   "source": [
    "# !python Experiment.py --dataset tp --interaction GraphMF --rounds 1 --agg_epochs 5 --density 0.10 --part_type 5"
   ],
   "metadata": {
    "collapsed": false
   }
  },
  {
   "cell_type": "code",
   "execution_count": null,
   "outputs": [],
   "source": [
    "# !python Experiment.py --dataset tp --interaction GraphMF --rounds 1 --agg_epochs 5 --density 0.10 --part_type 6"
   ],
   "metadata": {
    "collapsed": false
   }
  },
  {
   "cell_type": "code",
   "execution_count": null,
   "outputs": [],
   "source": [
    "# !python Experiment.py --dataset tp --interaction GraphMF --rounds 1 --agg_epochs 5 --density 0.10 --part_type 7"
   ],
   "metadata": {
    "collapsed": false
   }
  },
  {
   "cell_type": "code",
   "execution_count": null,
   "outputs": [],
   "source": [
    "# !python Experiment.py --dataset tp --interaction GraphMF --rounds 1 --agg_epochs 5 --density 0.10 --part_type 8"
   ],
   "metadata": {
    "collapsed": false
   }
  },
  {
   "cell_type": "markdown",
   "source": [
    "*****"
   ],
   "metadata": {
    "collapsed": false
   }
  },
  {
   "cell_type": "markdown",
   "source": [
    "# Desity = 0.15"
   ],
   "metadata": {
    "collapsed": false
   }
  },
  {
   "cell_type": "code",
   "execution_count": null,
   "outputs": [],
   "source": [
    "!python Experiment.py --dataset tp --interaction NeuCF --rounds 1 --agg_epochs 5 --density 0.15 --part_type 1"
   ],
   "metadata": {
    "collapsed": false
   }
  },
  {
   "cell_type": "code",
   "execution_count": null,
   "outputs": [],
   "source": [
    "!python Experiment.py --dataset tp --interaction NeuCF --rounds 1 --agg_epochs 5 --density 0.15 --part_type 2"
   ],
   "metadata": {
    "collapsed": false
   }
  },
  {
   "cell_type": "code",
   "execution_count": null,
   "outputs": [],
   "source": [
    "!python Experiment.py --dataset tp --interaction NeuCF --rounds 1 --agg_epochs 5 --density 0.15 --part_type 3"
   ],
   "metadata": {
    "collapsed": false
   }
  },
  {
   "cell_type": "code",
   "execution_count": null,
   "outputs": [],
   "source": [
    "!python Experiment.py --dataset tp --interaction NeuCF --rounds 1 --agg_epochs 5 --density 0.15 --part_type 4"
   ],
   "metadata": {
    "collapsed": false
   }
  },
  {
   "cell_type": "code",
   "execution_count": null,
   "outputs": [],
   "source": [
    "!python Experiment.py --dataset tp --interaction NeuCF --rounds 1 --agg_epochs 5 --density 0.15 --part_type 5"
   ],
   "metadata": {
    "collapsed": false
   }
  },
  {
   "cell_type": "code",
   "execution_count": null,
   "outputs": [],
   "source": [
    "!python Experiment.py --dataset tp --interaction NeuCF --rounds 1 --agg_epochs 5 --density 0.15 --part_type 6"
   ],
   "metadata": {
    "collapsed": false
   }
  },
  {
   "cell_type": "code",
   "execution_count": null,
   "outputs": [],
   "source": [
    "!python Experiment.py --dataset tp --interaction NeuCF --rounds 1 --agg_epochs 5 --density 0.15 --part_type 7"
   ],
   "metadata": {
    "collapsed": false
   }
  },
  {
   "cell_type": "code",
   "execution_count": null,
   "outputs": [],
   "source": [
    "!python Experiment.py --dataset tp --interaction NeuCF --rounds 1 --agg_epochs 5 --density 0.15 --part_type 8"
   ],
   "metadata": {
    "collapsed": false
   }
  },
  {
   "cell_type": "markdown",
   "source": [
    "*****"
   ],
   "metadata": {
    "collapsed": false
   }
  },
  {
   "cell_type": "code",
   "execution_count": null,
   "outputs": [],
   "source": [
    "!python Experiment.py --dataset tp --interaction CSMF --rounds 1 --agg_epochs 5 --density 0.15 --part_type 1"
   ],
   "metadata": {
    "collapsed": false
   }
  },
  {
   "cell_type": "code",
   "execution_count": null,
   "outputs": [],
   "source": [
    "!python Experiment.py --dataset tp --interaction CSMF --rounds 1 --agg_epochs 5 --density 0.15 --part_type 2"
   ],
   "metadata": {
    "collapsed": false
   }
  },
  {
   "cell_type": "code",
   "execution_count": null,
   "outputs": [],
   "source": [
    "!python Experiment.py --dataset tp --interaction CSMF --rounds 1 --agg_epochs 5 --density 0.15 --part_type 3"
   ],
   "metadata": {
    "collapsed": false
   }
  },
  {
   "cell_type": "code",
   "execution_count": null,
   "outputs": [],
   "source": [
    "!python Experiment.py --dataset tp --interaction CSMF --rounds 1 --agg_epochs 5 --density 0.15 --part_type 4"
   ],
   "metadata": {
    "collapsed": false
   }
  },
  {
   "cell_type": "code",
   "execution_count": null,
   "outputs": [],
   "source": [
    "!python Experiment.py --dataset tp --interaction CSMF --rounds 1 --agg_epochs 5 --density 0.15 --part_type 5"
   ],
   "metadata": {
    "collapsed": false
   }
  },
  {
   "cell_type": "code",
   "execution_count": null,
   "outputs": [],
   "source": [
    "!python Experiment.py --dataset tp --interaction CSMF --rounds 1 --agg_epochs 5 --density 0.15 --part_type 6"
   ],
   "metadata": {
    "collapsed": false
   }
  },
  {
   "cell_type": "code",
   "execution_count": null,
   "outputs": [],
   "source": [
    "!python Experiment.py --dataset tp --interaction CSMF --rounds 1 --agg_epochs 5 --density 0.15 --part_type 7"
   ],
   "metadata": {
    "collapsed": false
   }
  },
  {
   "cell_type": "code",
   "execution_count": null,
   "outputs": [],
   "source": [
    "!python Experiment.py --dataset tp --interaction CSMF --rounds 1 --agg_epochs 5 --density 0.15 --part_type 8"
   ],
   "metadata": {
    "collapsed": false
   }
  },
  {
   "cell_type": "markdown",
   "source": [
    "*****"
   ],
   "metadata": {
    "collapsed": false
   }
  },
  {
   "cell_type": "code",
   "execution_count": null,
   "outputs": [],
   "source": [
    "!python Experiment.py --dataset tp --interaction Pure_Mf --rounds 1 --agg_epochs 5 --density 0.15 --part_type 1"
   ],
   "metadata": {
    "collapsed": false
   }
  },
  {
   "cell_type": "code",
   "execution_count": null,
   "outputs": [],
   "source": [
    "!python Experiment.py --dataset tp --interaction Pure_Mf --rounds 1 --agg_epochs 5 --density 0.15 --part_type 2"
   ],
   "metadata": {
    "collapsed": false
   }
  },
  {
   "cell_type": "code",
   "execution_count": null,
   "outputs": [],
   "source": [
    "!python Experiment.py --dataset tp --interaction Pure_Mf --rounds 1 --agg_epochs 5 --density 0.15 --part_type 3"
   ],
   "metadata": {
    "collapsed": false
   }
  },
  {
   "cell_type": "code",
   "execution_count": null,
   "outputs": [],
   "source": [
    "!python Experiment.py --dataset tp --interaction Pure_Mf --rounds 1 --agg_epochs 5 --density 0.15 --part_type 4"
   ],
   "metadata": {
    "collapsed": false
   }
  },
  {
   "cell_type": "code",
   "execution_count": null,
   "outputs": [],
   "source": [
    "!python Experiment.py --dataset tp --interaction Pure_Mf --rounds 1 --agg_epochs 5 --density 0.15 --part_type 5"
   ],
   "metadata": {
    "collapsed": false
   }
  },
  {
   "cell_type": "code",
   "execution_count": null,
   "outputs": [],
   "source": [
    "!python Experiment.py --dataset tp --interaction Pure_Mf --rounds 1 --agg_epochs 5 --density 0.15 --part_type 6"
   ],
   "metadata": {
    "collapsed": false
   }
  },
  {
   "cell_type": "code",
   "execution_count": null,
   "outputs": [],
   "source": [
    "!python Experiment.py --dataset tp --interaction Pure_Mf --rounds 1 --agg_epochs 5 --density 0.15 --part_type 7"
   ],
   "metadata": {
    "collapsed": false
   }
  },
  {
   "cell_type": "code",
   "execution_count": null,
   "outputs": [],
   "source": [
    "!python Experiment.py --dataset tp --interaction Pure_Mf --rounds 1 --agg_epochs 5 --density 0.15 --part_type 8"
   ],
   "metadata": {
    "collapsed": false
   }
  },
  {
   "cell_type": "markdown",
   "source": [
    "*****"
   ],
   "metadata": {
    "collapsed": false
   }
  },
  {
   "cell_type": "code",
   "execution_count": null,
   "outputs": [],
   "source": [
    "!python Experiment.py --dataset tp --interaction GraphMF --rounds 1 --agg_epochs 5 --density 0.15 --part_type 1"
   ],
   "metadata": {
    "collapsed": false
   }
  },
  {
   "cell_type": "code",
   "execution_count": null,
   "outputs": [],
   "source": [
    "!python Experiment.py --dataset tp --interaction GraphMF --rounds 1 --agg_epochs 5 --density 0.15 --part_type 2"
   ],
   "metadata": {
    "collapsed": false
   }
  },
  {
   "cell_type": "code",
   "execution_count": null,
   "outputs": [],
   "source": [
    "!python Experiment.py --dataset tp --interaction GraphMF --rounds 1 --agg_epochs 5 --density 0.15 --part_type 3"
   ],
   "metadata": {
    "collapsed": false
   }
  },
  {
   "cell_type": "code",
   "execution_count": null,
   "outputs": [],
   "source": [
    "!python Experiment.py --dataset tp --interaction GraphMF --rounds 1 --agg_epochs 5 --density 0.15 --part_type 4"
   ],
   "metadata": {
    "collapsed": false
   }
  },
  {
   "cell_type": "code",
   "execution_count": null,
   "outputs": [],
   "source": [
    "!python Experiment.py --dataset tp --interaction GraphMF --rounds 1 --agg_epochs 5 --density 0.15 --part_type 5"
   ],
   "metadata": {
    "collapsed": false
   }
  },
  {
   "cell_type": "code",
   "execution_count": null,
   "outputs": [],
   "source": [
    "!python Experiment.py --dataset tp --interaction GraphMF --rounds 1 --agg_epochs 5 --density 0.15 --part_type 6"
   ],
   "metadata": {
    "collapsed": false
   }
  },
  {
   "cell_type": "code",
   "execution_count": null,
   "outputs": [],
   "source": [
    "!python Experiment.py --dataset tp --interaction GraphMF --rounds 1 --agg_epochs 5 --density 0.15 --part_type 7"
   ],
   "metadata": {
    "collapsed": false
   }
  },
  {
   "cell_type": "code",
   "execution_count": null,
   "outputs": [],
   "source": [
    "!python Experiment.py --dataset tp --interaction GraphMF --rounds 1 --agg_epochs 5 --density 0.15 --part_type 8"
   ],
   "metadata": {
    "collapsed": false
   }
  },
  {
   "cell_type": "markdown",
   "source": [
    "*****"
   ],
   "metadata": {
    "collapsed": false
   }
  },
  {
   "cell_type": "markdown",
   "source": [
    "# Desity = 0.20"
   ],
   "metadata": {
    "collapsed": false
   }
  },
  {
   "cell_type": "code",
   "execution_count": null,
   "outputs": [],
   "source": [
    "!python Experiment.py --dataset tp --interaction NeuCF --rounds 1 --agg_epochs 5 --density 0.20 --part_type 1"
   ],
   "metadata": {
    "collapsed": false
   }
  },
  {
   "cell_type": "code",
   "execution_count": null,
   "outputs": [],
   "source": [
    "!python Experiment.py --dataset tp --interaction NeuCF --rounds 1 --agg_epochs 5 --density 0.20 --part_type 2"
   ],
   "metadata": {
    "collapsed": false
   }
  },
  {
   "cell_type": "code",
   "execution_count": null,
   "outputs": [],
   "source": [
    "!python Experiment.py --dataset tp --interaction NeuCF --rounds 1 --agg_epochs 5 --density 0.20 --part_type 3"
   ],
   "metadata": {
    "collapsed": false
   }
  },
  {
   "cell_type": "code",
   "execution_count": null,
   "outputs": [],
   "source": [
    "!python Experiment.py --dataset tp --interaction NeuCF --rounds 1 --agg_epochs 5 --density 0.20 --part_type 4"
   ],
   "metadata": {
    "collapsed": false
   }
  },
  {
   "cell_type": "code",
   "execution_count": null,
   "outputs": [],
   "source": [
    "!python Experiment.py --dataset tp --interaction NeuCF --rounds 1 --agg_epochs 5 --density 0.20 --part_type 5"
   ],
   "metadata": {
    "collapsed": false
   }
  },
  {
   "cell_type": "code",
   "execution_count": null,
   "outputs": [],
   "source": [
    "!python Experiment.py --dataset tp --interaction NeuCF --rounds 1 --agg_epochs 5 --density 0.20 --part_type 6"
   ],
   "metadata": {
    "collapsed": false
   }
  },
  {
   "cell_type": "code",
   "execution_count": null,
   "outputs": [],
   "source": [
    "!python Experiment.py --dataset tp --interaction NeuCF --rounds 1 --agg_epochs 5 --density 0.20 --part_type 7"
   ],
   "metadata": {
    "collapsed": false
   }
  },
  {
   "cell_type": "code",
   "execution_count": null,
   "outputs": [],
   "source": [
    "!python Experiment.py --dataset tp --interaction NeuCF --rounds 1 --agg_epochs 5 --density 0.20 --part_type 8"
   ],
   "metadata": {
    "collapsed": false
   }
  },
  {
   "cell_type": "markdown",
   "source": [
    "*****"
   ],
   "metadata": {
    "collapsed": false
   }
  },
  {
   "cell_type": "code",
   "execution_count": null,
   "outputs": [],
   "source": [
    "!python Experiment.py --dataset tp --interaction CSMF --rounds 1 --agg_epochs 5 --density 0.20 --part_type 1"
   ],
   "metadata": {
    "collapsed": false
   }
  },
  {
   "cell_type": "code",
   "execution_count": null,
   "outputs": [],
   "source": [
    "!python Experiment.py --dataset tp --interaction CSMF --rounds 1 --agg_epochs 5 --density 0.20 --part_type 2"
   ],
   "metadata": {
    "collapsed": false
   }
  },
  {
   "cell_type": "code",
   "execution_count": null,
   "outputs": [],
   "source": [
    "!python Experiment.py --dataset tp --interaction CSMF --rounds 1 --agg_epochs 5 --density 0.20 --part_type 3"
   ],
   "metadata": {
    "collapsed": false
   }
  },
  {
   "cell_type": "code",
   "execution_count": null,
   "outputs": [],
   "source": [
    "!python Experiment.py --dataset tp --interaction CSMF --rounds 1 --agg_epochs 5 --density 0.20 --part_type 4"
   ],
   "metadata": {
    "collapsed": false
   }
  },
  {
   "cell_type": "code",
   "execution_count": null,
   "outputs": [],
   "source": [
    "!python Experiment.py --dataset tp --interaction CSMF --rounds 1 --agg_epochs 5 --density 0.20 --part_type 5"
   ],
   "metadata": {
    "collapsed": false
   }
  },
  {
   "cell_type": "code",
   "execution_count": null,
   "outputs": [],
   "source": [
    "!python Experiment.py --dataset tp --interaction CSMF --rounds 1 --agg_epochs 5 --density 0.20 --part_type 6"
   ],
   "metadata": {
    "collapsed": false
   }
  },
  {
   "cell_type": "code",
   "execution_count": null,
   "outputs": [],
   "source": [
    "!python Experiment.py --dataset tp --interaction CSMF --rounds 1 --agg_epochs 5 --density 0.20 --part_type 7"
   ],
   "metadata": {
    "collapsed": false
   }
  },
  {
   "cell_type": "code",
   "execution_count": null,
   "outputs": [],
   "source": [
    "!python Experiment.py --dataset tp --interaction CSMF --rounds 1 --agg_epochs 5 --density 0.20 --part_type 8"
   ],
   "metadata": {
    "collapsed": false
   }
  },
  {
   "cell_type": "markdown",
   "source": [
    "*****"
   ],
   "metadata": {
    "collapsed": false
   }
  },
  {
   "cell_type": "code",
   "execution_count": null,
   "outputs": [],
   "source": [
    "!python Experiment.py --dataset tp --interaction Pure_Mf --rounds 1 --agg_epochs 5 --density 0.20 --part_type 1"
   ],
   "metadata": {
    "collapsed": false
   }
  },
  {
   "cell_type": "code",
   "execution_count": null,
   "outputs": [],
   "source": [
    "!python Experiment.py --dataset tp --interaction Pure_Mf --rounds 1 --agg_epochs 5 --density 0.20 --part_type 2"
   ],
   "metadata": {
    "collapsed": false
   }
  },
  {
   "cell_type": "code",
   "execution_count": null,
   "outputs": [],
   "source": [
    "!python Experiment.py --dataset tp --interaction Pure_Mf --rounds 1 --agg_epochs 5 --density 0.20 --part_type 3"
   ],
   "metadata": {
    "collapsed": false
   }
  },
  {
   "cell_type": "code",
   "execution_count": null,
   "outputs": [],
   "source": [
    "!python Experiment.py --dataset tp --interaction Pure_Mf --rounds 1 --agg_epochs 5 --density 0.20 --part_type 4"
   ],
   "metadata": {
    "collapsed": false
   }
  },
  {
   "cell_type": "code",
   "execution_count": null,
   "outputs": [],
   "source": [
    "!python Experiment.py --dataset tp --interaction Pure_Mf --rounds 1 --agg_epochs 5 --density 0.20 --part_type 5"
   ],
   "metadata": {
    "collapsed": false
   }
  },
  {
   "cell_type": "code",
   "execution_count": null,
   "outputs": [],
   "source": [
    "!python Experiment.py --dataset tp --interaction Pure_Mf --rounds 1 --agg_epochs 5 --density 0.20 --part_type 6"
   ],
   "metadata": {
    "collapsed": false
   }
  },
  {
   "cell_type": "code",
   "execution_count": null,
   "outputs": [],
   "source": [
    "!python Experiment.py --dataset tp --interaction Pure_Mf --rounds 1 --agg_epochs 5 --density 0.20 --part_type 7"
   ],
   "metadata": {
    "collapsed": false
   }
  },
  {
   "cell_type": "code",
   "execution_count": null,
   "outputs": [],
   "source": [
    "!python Experiment.py --dataset tp --interaction Pure_Mf --rounds 1 --agg_epochs 5 --density 0.20 --part_type 8"
   ],
   "metadata": {
    "collapsed": false
   }
  },
  {
   "cell_type": "markdown",
   "source": [
    "*****"
   ],
   "metadata": {
    "collapsed": false
   }
  },
  {
   "cell_type": "code",
   "execution_count": null,
   "outputs": [],
   "source": [
    "!python Experiment.py --dataset tp --interaction GraphMF --rounds 1 --agg_epochs 5 --density 0.20 --part_type 1"
   ],
   "metadata": {
    "collapsed": false
   }
  },
  {
   "cell_type": "code",
   "execution_count": null,
   "outputs": [],
   "source": [
    "!python Experiment.py --dataset tp --interaction GraphMF --rounds 1 --agg_epochs 5 --density 0.20 --part_type 2"
   ],
   "metadata": {
    "collapsed": false
   }
  },
  {
   "cell_type": "code",
   "execution_count": null,
   "outputs": [],
   "source": [
    "!python Experiment.py --dataset tp --interaction GraphMF --rounds 1 --agg_epochs 5 --density 0.20 --part_type 3"
   ],
   "metadata": {
    "collapsed": false
   }
  },
  {
   "cell_type": "code",
   "execution_count": null,
   "outputs": [],
   "source": [
    "!python Experiment.py --dataset tp --interaction GraphMF --rounds 1 --agg_epochs 5 --density 0.20 --part_type 4"
   ],
   "metadata": {
    "collapsed": false
   }
  },
  {
   "cell_type": "code",
   "execution_count": null,
   "outputs": [],
   "source": [
    "!python Experiment.py --dataset tp --interaction GraphMF --rounds 1 --agg_epochs 5 --density 0.20 --part_type 5"
   ],
   "metadata": {
    "collapsed": false
   }
  },
  {
   "cell_type": "code",
   "execution_count": null,
   "outputs": [],
   "source": [
    "!python Experiment.py --dataset tp --interaction GraphMF --rounds 1 --agg_epochs 5 --density 0.20 --part_type 6"
   ],
   "metadata": {
    "collapsed": false
   }
  },
  {
   "cell_type": "code",
   "execution_count": null,
   "outputs": [],
   "source": [
    "!python Experiment.py --dataset tp --interaction GraphMF --rounds 1 --agg_epochs 5 --density 0.20 --part_type 7"
   ],
   "metadata": {
    "collapsed": false
   }
  },
  {
   "cell_type": "code",
   "execution_count": null,
   "outputs": [],
   "source": [
    "!python Experiment.py --dataset tp --interaction GraphMF --rounds 1 --agg_epochs 5 --density 0.20 --part_type 8"
   ],
   "metadata": {
    "collapsed": false
   }
  },
  {
   "cell_type": "markdown",
   "source": [
    "*****"
   ],
   "metadata": {
    "collapsed": false
   }
  },
  {
   "cell_type": "markdown",
   "source": [
    "# Desity = 0.25"
   ],
   "metadata": {
    "collapsed": false
   }
  },
  {
   "cell_type": "code",
   "execution_count": null,
   "outputs": [],
   "source": [
    "!python Experiment.py --dataset tp --interaction NeuCF --rounds 1 --agg_epochs 5 --density 0.25 --part_type 1"
   ],
   "metadata": {
    "collapsed": false
   }
  },
  {
   "cell_type": "code",
   "execution_count": null,
   "outputs": [],
   "source": [
    "!python Experiment.py --dataset tp --interaction NeuCF --rounds 1 --agg_epochs 5 --density 0.25 --part_type 2"
   ],
   "metadata": {
    "collapsed": false
   }
  },
  {
   "cell_type": "code",
   "execution_count": null,
   "outputs": [],
   "source": [
    "!python Experiment.py --dataset tp --interaction NeuCF --rounds 1 --agg_epochs 5 --density 0.25 --part_type 3"
   ],
   "metadata": {
    "collapsed": false
   }
  },
  {
   "cell_type": "code",
   "execution_count": null,
   "outputs": [],
   "source": [
    "!python Experiment.py --dataset tp --interaction NeuCF --rounds 1 --agg_epochs 5 --density 0.25 --part_type 4"
   ],
   "metadata": {
    "collapsed": false
   }
  },
  {
   "cell_type": "code",
   "execution_count": null,
   "outputs": [],
   "source": [
    "!python Experiment.py --dataset tp --interaction NeuCF --rounds 1 --agg_epochs 5 --density 0.25 --part_type 5"
   ],
   "metadata": {
    "collapsed": false
   }
  },
  {
   "cell_type": "code",
   "execution_count": null,
   "outputs": [],
   "source": [
    "!python Experiment.py --dataset tp --interaction NeuCF --rounds 1 --agg_epochs 5 --density 0.25 --part_type 6"
   ],
   "metadata": {
    "collapsed": false
   }
  },
  {
   "cell_type": "code",
   "execution_count": null,
   "outputs": [],
   "source": [
    "!python Experiment.py --dataset tp --interaction NeuCF --rounds 1 --agg_epochs 5 --density 0.25 --part_type 7"
   ],
   "metadata": {
    "collapsed": false
   }
  },
  {
   "cell_type": "code",
   "execution_count": null,
   "outputs": [],
   "source": [
    "!python Experiment.py --dataset tp --interaction NeuCF --rounds 1 --agg_epochs 5 --density 0.25 --part_type 8"
   ],
   "metadata": {
    "collapsed": false
   }
  },
  {
   "cell_type": "markdown",
   "source": [
    "*****"
   ],
   "metadata": {
    "collapsed": false
   }
  },
  {
   "cell_type": "code",
   "execution_count": null,
   "outputs": [],
   "source": [
    "!python Experiment.py --dataset tp --interaction CSMF --rounds 1 --agg_epochs 5 --density 0.25 --part_type 1"
   ],
   "metadata": {
    "collapsed": false
   }
  },
  {
   "cell_type": "code",
   "execution_count": null,
   "outputs": [],
   "source": [
    "!python Experiment.py --dataset tp --interaction CSMF --rounds 1 --agg_epochs 5 --density 0.25 --part_type 2"
   ],
   "metadata": {
    "collapsed": false
   }
  },
  {
   "cell_type": "code",
   "execution_count": null,
   "outputs": [],
   "source": [
    "!python Experiment.py --dataset tp --interaction CSMF --rounds 1 --agg_epochs 5 --density 0.25 --part_type 3"
   ],
   "metadata": {
    "collapsed": false
   }
  },
  {
   "cell_type": "code",
   "execution_count": null,
   "outputs": [],
   "source": [
    "!python Experiment.py --dataset tp --interaction CSMF --rounds 1 --agg_epochs 5 --density 0.25 --part_type 4"
   ],
   "metadata": {
    "collapsed": false
   }
  },
  {
   "cell_type": "code",
   "execution_count": null,
   "outputs": [],
   "source": [
    "!python Experiment.py --dataset tp --interaction CSMF --rounds 1 --agg_epochs 5 --density 0.25 --part_type 5"
   ],
   "metadata": {
    "collapsed": false
   }
  },
  {
   "cell_type": "code",
   "execution_count": null,
   "outputs": [],
   "source": [
    "!python Experiment.py --dataset tp --interaction CSMF --rounds 1 --agg_epochs 5 --density 0.25 --part_type 6"
   ],
   "metadata": {
    "collapsed": false
   }
  },
  {
   "cell_type": "code",
   "execution_count": null,
   "outputs": [],
   "source": [
    "!python Experiment.py --dataset tp --interaction CSMF --rounds 1 --agg_epochs 5 --density 0.25 --part_type 7"
   ],
   "metadata": {
    "collapsed": false
   }
  },
  {
   "cell_type": "code",
   "execution_count": null,
   "outputs": [],
   "source": [
    "!python Experiment.py --dataset tp --interaction CSMF --rounds 1 --agg_epochs 5 --density 0.25 --part_type 8"
   ],
   "metadata": {
    "collapsed": false
   }
  },
  {
   "cell_type": "markdown",
   "source": [
    "*****"
   ],
   "metadata": {
    "collapsed": false
   }
  },
  {
   "cell_type": "code",
   "execution_count": null,
   "outputs": [],
   "source": [
    "!python Experiment.py --dataset tp --interaction Pure_Mf --rounds 1 --agg_epochs 5 --density 0.25 --part_type 1"
   ],
   "metadata": {
    "collapsed": false
   }
  },
  {
   "cell_type": "code",
   "execution_count": null,
   "outputs": [],
   "source": [
    "!python Experiment.py --dataset tp --interaction Pure_Mf --rounds 1 --agg_epochs 5 --density 0.25 --part_type 2"
   ],
   "metadata": {
    "collapsed": false
   }
  },
  {
   "cell_type": "code",
   "execution_count": null,
   "outputs": [],
   "source": [
    "!python Experiment.py --dataset tp --interaction Pure_Mf --rounds 1 --agg_epochs 5 --density 0.25 --part_type 3"
   ],
   "metadata": {
    "collapsed": false
   }
  },
  {
   "cell_type": "code",
   "execution_count": null,
   "outputs": [],
   "source": [
    "!python Experiment.py --dataset tp --interaction Pure_Mf --rounds 1 --agg_epochs 5 --density 0.25 --part_type 4"
   ],
   "metadata": {
    "collapsed": false
   }
  },
  {
   "cell_type": "code",
   "execution_count": null,
   "outputs": [],
   "source": [
    "!python Experiment.py --dataset tp --interaction Pure_Mf --rounds 1 --agg_epochs 5 --density 0.25 --part_type 5"
   ],
   "metadata": {
    "collapsed": false
   }
  },
  {
   "cell_type": "code",
   "execution_count": null,
   "outputs": [],
   "source": [
    "!python Experiment.py --dataset tp --interaction Pure_Mf --rounds 1 --agg_epochs 5 --density 0.25 --part_type 6"
   ],
   "metadata": {
    "collapsed": false
   }
  },
  {
   "cell_type": "code",
   "execution_count": null,
   "outputs": [],
   "source": [
    "!python Experiment.py --dataset tp --interaction Pure_Mf --rounds 1 --agg_epochs 5 --density 0.25 --part_type 7"
   ],
   "metadata": {
    "collapsed": false
   }
  },
  {
   "cell_type": "code",
   "execution_count": null,
   "outputs": [],
   "source": [
    "!python Experiment.py --dataset tp --interaction Pure_Mf --rounds 1 --agg_epochs 5 --density 0.25 --part_type 8"
   ],
   "metadata": {
    "collapsed": false
   }
  },
  {
   "cell_type": "markdown",
   "source": [
    "*****"
   ],
   "metadata": {
    "collapsed": false
   }
  },
  {
   "cell_type": "code",
   "execution_count": null,
   "outputs": [],
   "source": [
    "!python Experiment.py --dataset tp --interaction GraphMF --rounds 1 --agg_epochs 5 --density 0.25 --part_type 1"
   ],
   "metadata": {
    "collapsed": false
   }
  },
  {
   "cell_type": "code",
   "execution_count": null,
   "outputs": [],
   "source": [
    "!python Experiment.py --dataset tp --interaction GraphMF --rounds 1 --agg_epochs 5 --density 0.25 --part_type 2"
   ],
   "metadata": {
    "collapsed": false
   }
  },
  {
   "cell_type": "code",
   "execution_count": null,
   "outputs": [],
   "source": [
    "!python Experiment.py --dataset tp --interaction GraphMF --rounds 1 --agg_epochs 5 --density 0.25 --part_type 3"
   ],
   "metadata": {
    "collapsed": false
   }
  },
  {
   "cell_type": "code",
   "execution_count": null,
   "outputs": [],
   "source": [
    "!python Experiment.py --dataset tp --interaction GraphMF --rounds 1 --agg_epochs 5 --density 0.25 --part_type 4"
   ],
   "metadata": {
    "collapsed": false
   }
  },
  {
   "cell_type": "code",
   "execution_count": null,
   "outputs": [],
   "source": [
    "!python Experiment.py --dataset tp --interaction GraphMF --rounds 1 --agg_epochs 5 --density 0.25 --part_type 5"
   ],
   "metadata": {
    "collapsed": false
   }
  },
  {
   "cell_type": "code",
   "execution_count": null,
   "outputs": [],
   "source": [
    "!python Experiment.py --dataset tp --interaction GraphMF --rounds 1 --agg_epochs 5 --density 0.25 --part_type 6"
   ],
   "metadata": {
    "collapsed": false
   }
  },
  {
   "cell_type": "code",
   "execution_count": null,
   "outputs": [],
   "source": [
    "!python Experiment.py --dataset tp --interaction GraphMF --rounds 1 --agg_epochs 5 --density 0.25 --part_type 7"
   ],
   "metadata": {
    "collapsed": false
   }
  },
  {
   "cell_type": "code",
   "execution_count": null,
   "outputs": [],
   "source": [
    "!python Experiment.py --dataset tp --interaction GraphMF --rounds 1 --agg_epochs 5 --density 0.25 --part_type 8"
   ],
   "metadata": {
    "collapsed": false
   }
  },
  {
   "cell_type": "markdown",
   "source": [
    "*****"
   ],
   "metadata": {
    "collapsed": false
   }
  },
  {
   "cell_type": "markdown",
   "source": [
    "# Desity = 0.30"
   ],
   "metadata": {
    "collapsed": false
   }
  },
  {
   "cell_type": "code",
   "execution_count": null,
   "outputs": [],
   "source": [
    "!python Experiment.py --dataset tp --interaction NeuCF --rounds 1 --agg_epochs 5 --density 0.30 --part_type 1"
   ],
   "metadata": {
    "collapsed": false
   }
  },
  {
   "cell_type": "code",
   "execution_count": null,
   "outputs": [],
   "source": [
    "!python Experiment.py --dataset tp --interaction NeuCF --rounds 1 --agg_epochs 5 --density 0.30 --part_type 2"
   ],
   "metadata": {
    "collapsed": false
   }
  },
  {
   "cell_type": "code",
   "execution_count": null,
   "outputs": [],
   "source": [
    "!python Experiment.py --dataset tp --interaction NeuCF --rounds 1 --agg_epochs 5 --density 0.30 --part_type 3"
   ],
   "metadata": {
    "collapsed": false
   }
  },
  {
   "cell_type": "code",
   "execution_count": null,
   "outputs": [],
   "source": [
    "!python Experiment.py --dataset tp --interaction NeuCF --rounds 1 --agg_epochs 5 --density 0.30 --part_type 4"
   ],
   "metadata": {
    "collapsed": false
   }
  },
  {
   "cell_type": "code",
   "execution_count": null,
   "outputs": [],
   "source": [
    "!python Experiment.py --dataset tp --interaction NeuCF --rounds 1 --agg_epochs 5 --density 0.30 --part_type 5"
   ],
   "metadata": {
    "collapsed": false
   }
  },
  {
   "cell_type": "code",
   "execution_count": null,
   "outputs": [],
   "source": [
    "!python Experiment.py --dataset tp --interaction NeuCF --rounds 1 --agg_epochs 5 --density 0.30 --part_type 6"
   ],
   "metadata": {
    "collapsed": false
   }
  },
  {
   "cell_type": "code",
   "execution_count": null,
   "outputs": [],
   "source": [
    "!python Experiment.py --dataset tp --interaction NeuCF --rounds 1 --agg_epochs 5 --density 0.30 --part_type 7"
   ],
   "metadata": {
    "collapsed": false
   }
  },
  {
   "cell_type": "code",
   "execution_count": null,
   "outputs": [],
   "source": [
    "!python Experiment.py --dataset tp --interaction NeuCF --rounds 1 --agg_epochs 5 --density 0.30 --part_type 8"
   ],
   "metadata": {
    "collapsed": false
   }
  },
  {
   "cell_type": "markdown",
   "source": [
    "*****"
   ],
   "metadata": {
    "collapsed": false
   }
  },
  {
   "cell_type": "code",
   "execution_count": null,
   "outputs": [],
   "source": [
    "!python Experiment.py --dataset tp --interaction CSMF --rounds 1 --agg_epochs 5 --density 0.30 --part_type 1"
   ],
   "metadata": {
    "collapsed": false
   }
  },
  {
   "cell_type": "code",
   "execution_count": null,
   "outputs": [],
   "source": [
    "!python Experiment.py --dataset tp --interaction CSMF --rounds 1 --agg_epochs 5 --density 0.30 --part_type 2"
   ],
   "metadata": {
    "collapsed": false
   }
  },
  {
   "cell_type": "code",
   "execution_count": null,
   "outputs": [],
   "source": [
    "!python Experiment.py --dataset tp --interaction CSMF --rounds 1 --agg_epochs 5 --density 0.30 --part_type 3"
   ],
   "metadata": {
    "collapsed": false
   }
  },
  {
   "cell_type": "code",
   "execution_count": null,
   "outputs": [],
   "source": [
    "!python Experiment.py --dataset tp --interaction CSMF --rounds 1 --agg_epochs 5 --density 0.30 --part_type 4"
   ],
   "metadata": {
    "collapsed": false
   }
  },
  {
   "cell_type": "code",
   "execution_count": null,
   "outputs": [],
   "source": [
    "!python Experiment.py --dataset tp --interaction CSMF --rounds 1 --agg_epochs 5 --density 0.30 --part_type 5"
   ],
   "metadata": {
    "collapsed": false
   }
  },
  {
   "cell_type": "code",
   "execution_count": null,
   "outputs": [],
   "source": [
    "!python Experiment.py --dataset tp --interaction CSMF --rounds 1 --agg_epochs 5 --density 0.30 --part_type 6"
   ],
   "metadata": {
    "collapsed": false
   }
  },
  {
   "cell_type": "code",
   "execution_count": null,
   "outputs": [],
   "source": [
    "!python Experiment.py --dataset tp --interaction CSMF --rounds 1 --agg_epochs 5 --density 0.30 --part_type 7"
   ],
   "metadata": {
    "collapsed": false
   }
  },
  {
   "cell_type": "code",
   "execution_count": null,
   "outputs": [],
   "source": [
    "!python Experiment.py --dataset tp --interaction CSMF --rounds 1 --agg_epochs 5 --density 0.30 --part_type 8"
   ],
   "metadata": {
    "collapsed": false
   }
  },
  {
   "cell_type": "markdown",
   "source": [
    "*****"
   ],
   "metadata": {
    "collapsed": false
   }
  },
  {
   "cell_type": "code",
   "execution_count": null,
   "outputs": [],
   "source": [
    "!python Experiment.py --dataset tp --interaction Pure_Mf --rounds 1 --agg_epochs 5 --density 0.30 --part_type 1"
   ],
   "metadata": {
    "collapsed": false
   }
  },
  {
   "cell_type": "code",
   "execution_count": null,
   "outputs": [],
   "source": [
    "!python Experiment.py --dataset tp --interaction Pure_Mf --rounds 1 --agg_epochs 5 --density 0.30 --part_type 2"
   ],
   "metadata": {
    "collapsed": false
   }
  },
  {
   "cell_type": "code",
   "execution_count": null,
   "outputs": [],
   "source": [
    "!python Experiment.py --dataset tp --interaction Pure_Mf --rounds 1 --agg_epochs 5 --density 0.30 --part_type 3"
   ],
   "metadata": {
    "collapsed": false
   }
  },
  {
   "cell_type": "code",
   "execution_count": null,
   "outputs": [],
   "source": [
    "!python Experiment.py --dataset tp --interaction Pure_Mf --rounds 1 --agg_epochs 5 --density 0.30 --part_type 4"
   ],
   "metadata": {
    "collapsed": false
   }
  },
  {
   "cell_type": "code",
   "execution_count": null,
   "outputs": [],
   "source": [
    "!python Experiment.py --dataset tp --interaction Pure_Mf --rounds 1 --agg_epochs 5 --density 0.30 --part_type 5"
   ],
   "metadata": {
    "collapsed": false
   }
  },
  {
   "cell_type": "code",
   "execution_count": null,
   "outputs": [],
   "source": [
    "!python Experiment.py --dataset tp --interaction Pure_Mf --rounds 1 --agg_epochs 5 --density 0.30 --part_type 6"
   ],
   "metadata": {
    "collapsed": false
   }
  },
  {
   "cell_type": "code",
   "execution_count": null,
   "outputs": [],
   "source": [
    "!python Experiment.py --dataset tp --interaction Pure_Mf --rounds 1 --agg_epochs 5 --density 0.30 --part_type 7"
   ],
   "metadata": {
    "collapsed": false
   }
  },
  {
   "cell_type": "code",
   "execution_count": null,
   "outputs": [],
   "source": [
    "!python Experiment.py --dataset tp --interaction Pure_Mf --rounds 1 --agg_epochs 5 --density 0.30 --part_type 8"
   ],
   "metadata": {
    "collapsed": false
   }
  },
  {
   "cell_type": "markdown",
   "source": [
    "*****"
   ],
   "metadata": {
    "collapsed": false
   }
  },
  {
   "cell_type": "code",
   "execution_count": null,
   "outputs": [],
   "source": [
    "!python Experiment.py --dataset tp --interaction GraphMF --rounds 1 --agg_epochs 5 --density 0.30 --part_type 1"
   ],
   "metadata": {
    "collapsed": false
   }
  },
  {
   "cell_type": "code",
   "execution_count": null,
   "outputs": [],
   "source": [
    "!python Experiment.py --dataset tp --interaction GraphMF --rounds 1 --agg_epochs 5 --density 0.30 --part_type 2"
   ],
   "metadata": {
    "collapsed": false
   }
  },
  {
   "cell_type": "code",
   "execution_count": null,
   "outputs": [],
   "source": [
    "!python Experiment.py --dataset tp --interaction GraphMF --rounds 1 --agg_epochs 5 --density 0.30 --part_type 3"
   ],
   "metadata": {
    "collapsed": false
   }
  },
  {
   "cell_type": "code",
   "execution_count": null,
   "outputs": [],
   "source": [
    "!python Experiment.py --dataset tp --interaction GraphMF --rounds 1 --agg_epochs 5 --density 0.30 --part_type 4"
   ],
   "metadata": {
    "collapsed": false
   }
  },
  {
   "cell_type": "code",
   "execution_count": null,
   "outputs": [],
   "source": [
    "!python Experiment.py --dataset tp --interaction GraphMF --rounds 1 --agg_epochs 5 --density 0.30 --part_type 5"
   ],
   "metadata": {
    "collapsed": false
   }
  },
  {
   "cell_type": "code",
   "execution_count": null,
   "outputs": [],
   "source": [
    "!python Experiment.py --dataset tp --interaction GraphMF --rounds 1 --agg_epochs 5 --density 0.30 --part_type 6"
   ],
   "metadata": {
    "collapsed": false
   }
  },
  {
   "cell_type": "code",
   "execution_count": null,
   "outputs": [],
   "source": [
    "!python Experiment.py --dataset tp --interaction GraphMF --rounds 1 --agg_epochs 5 --density 0.30 --part_type 7"
   ],
   "metadata": {
    "collapsed": false
   }
  },
  {
   "cell_type": "code",
   "execution_count": null,
   "outputs": [],
   "source": [
    "!python Experiment.py --dataset tp --interaction GraphMF --rounds 1 --agg_epochs 5 --density 0.30 --part_type 8"
   ],
   "metadata": {
    "collapsed": false
   }
  }
 ],
 "metadata": {
  "kernelspec": {
   "display_name": "Python 3",
   "language": "python",
   "name": "python3"
  },
  "language_info": {
   "codemirror_mode": {
    "name": "ipython",
    "version": 2
   },
   "file_extension": ".py",
   "mimetype": "text/x-python",
   "name": "python",
   "nbconvert_exporter": "python",
   "pygments_lexer": "ipython2",
   "version": "2.7.6"
  }
 },
 "nbformat": 4,
 "nbformat_minor": 0
}
