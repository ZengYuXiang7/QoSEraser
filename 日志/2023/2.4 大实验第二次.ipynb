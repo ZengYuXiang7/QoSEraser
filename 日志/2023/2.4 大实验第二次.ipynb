{
 "cells": [
  {
   "cell_type": "code",
   "execution_count": 68,
   "outputs": [
    {
     "name": "stdout",
     "output_type": "stream",
     "text": [
      "2023-02-07 16:19:20  All the experiments have been done!\r\n",
      "2023-02-07 16:19:20  Namespace(F=1, agg2=0, agg_decay=0.001, agg_epochs=12, agg_function=1, agg_lr=0.001, agg_type='att', att_decay=0.0001, att_lr=0.001, batch_size=128, beta=1, cluster='deep', cuda=True, dataset='rt', debug=0, density=0.1, devices='gpu', dimension=32, dir='../Dataset/mnist', dropout=0.1, epoch=1500, external_dim=64, hidden_dims=[64, 64, 100], input_dim=128, interaction='NeuCF', lamda=1, latent_dim=10, log_interval=100, lr=0.0001, n_classes=10, n_clusters=10, n_jobs=1, node2vec=0, node2vec_batchsize=32, node2vec_dim=128, node2vec_epochs=20, node2vec_length=8, node2vec_walk=15, node2vec_windows=3, num_layers=2, order=2, part_iter=20, part_type=5, path='./datasets/data/WSDREAM/', pre_epoch=1000, pretrain=True, processed=0, random_state=1001, record=1, retrain=0, rounds=1, save_model=1, slice=1, slice_decay=0.001, slice_epochs=100, slice_lr=0.001, slices=5, verbose=10, wd=0.0005)\r\n",
      "2023-02-07 16:19:20  Dataset : rt     interaction : NeuCF\r\n",
      "2023-02-07 16:19:20  Density : 10.00%, slice_epochs : 100, agg_epochs : 12\r\n",
      "2023-02-07 16:19:20  Part_type : 5,    slices : 5,       devices : gpu\r\n",
      "2023-02-07 16:19:20  Slice_lr : 0.004,    Slice_decay : 0.001\r\n",
      "2023-02-07 16:19:20  Agg_lr : 0.001,    Agg_decay : 0.001\r\n",
      "2023-02-07 16:19:20  Aggregation function : att\r\n",
      "------------------------------------------------------------------------------------------------------------------------\r\n",
      "2023-02-07 16:19:20  Dataset : rt     interaction : NeuCF\r\n",
      "2023-02-07 16:19:20  Density : 10.00%, slice_epochs : 100, agg_epochs : 12\r\n",
      "2023-02-07 16:19:20  Part_type : 5,    slices : 5,       devices : gpu\r\n",
      "\r\n",
      "\r\n",
      "2023-02-07 16:19:20  Density 10.00% : MAE = 0.386, RMSE = 1.295, NMAE = 0.425, MRE = 0.278, NPRE = 1.149\r\n",
      "\r\n",
      "2023-02-07 16:19:20  Experiment success!\r\n",
      "\r\n"
     ]
    }
   ],
   "source": [
    "!python Experiment.py --dataset rt --interaction NeuCF --rounds 1 --slices 5 --agg_epochs 12 --density 0.10 --part_type 5"
   ],
   "metadata": {
    "collapsed": false
   }
  },
  {
   "cell_type": "code",
   "execution_count": 69,
   "outputs": [
    {
     "name": "stdout",
     "output_type": "stream",
     "text": [
      "2023-02-07 16:19:21  All the experiments have been done!\r\n",
      "2023-02-07 16:19:21  Namespace(F=1, agg2=0, agg_decay=0.001, agg_epochs=12, agg_function=1, agg_lr=0.001, agg_type='att', att_decay=0.0001, att_lr=0.001, batch_size=128, beta=1, cluster='deep', cuda=True, dataset='rt', debug=0, density=0.15, devices='gpu', dimension=32, dir='../Dataset/mnist', dropout=0.1, epoch=1500, external_dim=64, hidden_dims=[64, 64, 100], input_dim=128, interaction='NeuCF', lamda=1, latent_dim=10, log_interval=100, lr=0.0001, n_classes=10, n_clusters=10, n_jobs=1, node2vec=0, node2vec_batchsize=32, node2vec_dim=128, node2vec_epochs=20, node2vec_length=8, node2vec_walk=15, node2vec_windows=3, num_layers=2, order=2, part_iter=20, part_type=5, path='./datasets/data/WSDREAM/', pre_epoch=1000, pretrain=True, processed=0, random_state=1001, record=1, retrain=0, rounds=1, save_model=1, slice=1, slice_decay=0.001, slice_epochs=100, slice_lr=0.001, slices=5, verbose=10, wd=0.0005)\r\n",
      "2023-02-07 16:19:21  Dataset : rt     interaction : NeuCF\r\n",
      "2023-02-07 16:19:21  Density : 15.00%, slice_epochs : 100, agg_epochs : 12\r\n",
      "2023-02-07 16:19:21  Part_type : 5,    slices : 5,       devices : gpu\r\n",
      "2023-02-07 16:19:21  Slice_lr : 0.004,    Slice_decay : 0.001\r\n",
      "2023-02-07 16:19:21  Agg_lr : 0.001,    Agg_decay : 0.001\r\n",
      "2023-02-07 16:19:21  Aggregation function : att\r\n",
      "------------------------------------------------------------------------------------------------------------------------\r\n",
      "2023-02-07 16:19:21  Dataset : rt     interaction : NeuCF\r\n",
      "2023-02-07 16:19:21  Density : 15.00%, slice_epochs : 100, agg_epochs : 12\r\n",
      "2023-02-07 16:19:21  Part_type : 5,    slices : 5,       devices : gpu\r\n",
      "\r\n",
      "\r\n",
      "2023-02-07 16:19:21  Density 15.00% : MAE = 0.358, RMSE = 1.260, NMAE = 0.394, MRE = 0.245, NPRE = 0.919\r\n",
      "\r\n",
      "2023-02-07 16:19:21  Experiment success!\r\n",
      "\r\n"
     ]
    }
   ],
   "source": [
    "!python Experiment.py --dataset rt --interaction NeuCF --rounds 1 --slices 5 --agg_epochs 12 --density 0.15 --part_type 5"
   ],
   "metadata": {
    "collapsed": false
   }
  },
  {
   "cell_type": "code",
   "execution_count": 70,
   "outputs": [
    {
     "name": "stdout",
     "output_type": "stream",
     "text": [
      "2023-02-07 16:19:22  All the experiments have been done!\r\n",
      "2023-02-07 16:19:22  Namespace(F=1, agg2=0, agg_decay=0.001, agg_epochs=12, agg_function=1, agg_lr=0.001, agg_type='att', att_decay=0.0001, att_lr=0.001, batch_size=128, beta=1, cluster='deep', cuda=True, dataset='rt', debug=0, density=0.2, devices='gpu', dimension=32, dir='../Dataset/mnist', dropout=0.1, epoch=1500, external_dim=64, hidden_dims=[64, 64, 100], input_dim=128, interaction='NeuCF', lamda=1, latent_dim=10, log_interval=100, lr=0.0001, n_classes=10, n_clusters=10, n_jobs=1, node2vec=0, node2vec_batchsize=32, node2vec_dim=128, node2vec_epochs=20, node2vec_length=8, node2vec_walk=15, node2vec_windows=3, num_layers=2, order=2, part_iter=20, part_type=5, path='./datasets/data/WSDREAM/', pre_epoch=1000, pretrain=True, processed=0, random_state=1001, record=1, retrain=0, rounds=1, save_model=1, slice=1, slice_decay=0.001, slice_epochs=100, slice_lr=0.001, slices=5, verbose=10, wd=0.0005)\r\n",
      "2023-02-07 16:19:22  Dataset : rt     interaction : NeuCF\r\n",
      "2023-02-07 16:19:22  Density : 20.00%, slice_epochs : 100, agg_epochs : 12\r\n",
      "2023-02-07 16:19:22  Part_type : 5,    slices : 5,       devices : gpu\r\n",
      "2023-02-07 16:19:22  Slice_lr : 0.004,    Slice_decay : 0.001\r\n",
      "2023-02-07 16:19:22  Agg_lr : 0.001,    Agg_decay : 0.001\r\n",
      "2023-02-07 16:19:22  Aggregation function : att\r\n",
      "------------------------------------------------------------------------------------------------------------------------\r\n",
      "2023-02-07 16:19:22  Dataset : rt     interaction : NeuCF\r\n",
      "2023-02-07 16:19:22  Density : 20.00%, slice_epochs : 100, agg_epochs : 12\r\n",
      "2023-02-07 16:19:22  Part_type : 5,    slices : 5,       devices : gpu\r\n",
      "\r\n",
      "\r\n",
      "2023-02-07 16:19:22  Density 20.00% : MAE = 0.350, RMSE = 1.235, NMAE = 0.384, MRE = 0.228, NPRE = 0.884\r\n",
      "\r\n",
      "2023-02-07 16:19:22  Experiment success!\r\n",
      "\r\n"
     ]
    }
   ],
   "source": [
    "!python Experiment.py --dataset rt --interaction NeuCF --rounds 1 --slices 5 --agg_epochs 12 --density 0.20 --part_type 5"
   ],
   "metadata": {
    "collapsed": false
   }
  },
  {
   "cell_type": "code",
   "execution_count": 71,
   "outputs": [
    {
     "name": "stdout",
     "output_type": "stream",
     "text": [
      "2023-02-07 16:19:22  All the experiments have been done!\r\n",
      "2023-02-07 16:19:22  Namespace(F=1, agg2=0, agg_decay=0.001, agg_epochs=12, agg_function=1, agg_lr=0.001, agg_type='att', att_decay=0.0001, att_lr=0.001, batch_size=128, beta=1, cluster='deep', cuda=True, dataset='rt', debug=0, density=0.25, devices='gpu', dimension=32, dir='../Dataset/mnist', dropout=0.1, epoch=1500, external_dim=64, hidden_dims=[64, 64, 100], input_dim=128, interaction='NeuCF', lamda=1, latent_dim=10, log_interval=100, lr=0.0001, n_classes=10, n_clusters=10, n_jobs=1, node2vec=0, node2vec_batchsize=32, node2vec_dim=128, node2vec_epochs=20, node2vec_length=8, node2vec_walk=15, node2vec_windows=3, num_layers=2, order=2, part_iter=20, part_type=5, path='./datasets/data/WSDREAM/', pre_epoch=1000, pretrain=True, processed=0, random_state=1001, record=1, retrain=0, rounds=1, save_model=1, slice=1, slice_decay=0.001, slice_epochs=100, slice_lr=0.001, slices=5, verbose=10, wd=0.0005)\r\n",
      "2023-02-07 16:19:22  Dataset : rt     interaction : NeuCF\r\n",
      "2023-02-07 16:19:22  Density : 25.00%, slice_epochs : 100, agg_epochs : 12\r\n",
      "2023-02-07 16:19:22  Part_type : 5,    slices : 5,       devices : gpu\r\n",
      "2023-02-07 16:19:22  Slice_lr : 0.004,    Slice_decay : 0.001\r\n",
      "2023-02-07 16:19:22  Agg_lr : 0.001,    Agg_decay : 0.001\r\n",
      "2023-02-07 16:19:22  Aggregation function : att\r\n",
      "------------------------------------------------------------------------------------------------------------------------\r\n",
      "2023-02-07 16:19:22  Dataset : rt     interaction : NeuCF\r\n",
      "2023-02-07 16:19:22  Density : 25.00%, slice_epochs : 100, agg_epochs : 12\r\n",
      "2023-02-07 16:19:22  Part_type : 5,    slices : 5,       devices : gpu\r\n",
      "\r\n",
      "\r\n",
      "2023-02-07 16:19:22  Density 25.00% : MAE = 0.340, RMSE = 1.230, NMAE = 0.373, MRE = 0.215, NPRE = 0.852\r\n",
      "\r\n",
      "2023-02-07 16:19:22  Experiment success!\r\n",
      "\r\n"
     ]
    }
   ],
   "source": [
    "!python Experiment.py --dataset rt --interaction NeuCF --rounds 1 --slices 5 --agg_epochs 12 --density 0.25 --part_type 5"
   ],
   "metadata": {
    "collapsed": false
   }
  },
  {
   "cell_type": "code",
   "execution_count": 72,
   "outputs": [
    {
     "name": "stdout",
     "output_type": "stream",
     "text": [
      "2023-02-07 16:19:23  All the experiments have been done!\r\n",
      "2023-02-07 16:19:23  Namespace(F=1, agg2=0, agg_decay=0.001, agg_epochs=12, agg_function=1, agg_lr=0.001, agg_type='att', att_decay=0.0001, att_lr=0.001, batch_size=128, beta=1, cluster='deep', cuda=True, dataset='rt', debug=0, density=0.3, devices='gpu', dimension=32, dir='../Dataset/mnist', dropout=0.1, epoch=1500, external_dim=64, hidden_dims=[64, 64, 100], input_dim=128, interaction='NeuCF', lamda=1, latent_dim=10, log_interval=100, lr=0.0001, n_classes=10, n_clusters=10, n_jobs=1, node2vec=0, node2vec_batchsize=32, node2vec_dim=128, node2vec_epochs=20, node2vec_length=8, node2vec_walk=15, node2vec_windows=3, num_layers=2, order=2, part_iter=20, part_type=5, path='./datasets/data/WSDREAM/', pre_epoch=1000, pretrain=True, processed=0, random_state=1001, record=1, retrain=0, rounds=1, save_model=1, slice=1, slice_decay=0.001, slice_epochs=100, slice_lr=0.001, slices=5, verbose=10, wd=0.0005)\r\n",
      "2023-02-07 16:19:23  Dataset : rt     interaction : NeuCF\r\n",
      "2023-02-07 16:19:23  Density : 30.00%, slice_epochs : 100, agg_epochs : 12\r\n",
      "2023-02-07 16:19:23  Part_type : 5,    slices : 5,       devices : gpu\r\n",
      "2023-02-07 16:19:23  Slice_lr : 0.004,    Slice_decay : 0.001\r\n",
      "2023-02-07 16:19:23  Agg_lr : 0.001,    Agg_decay : 0.001\r\n",
      "2023-02-07 16:19:23  Aggregation function : att\r\n",
      "------------------------------------------------------------------------------------------------------------------------\r\n",
      "2023-02-07 16:19:23  Dataset : rt     interaction : NeuCF\r\n",
      "2023-02-07 16:19:23  Density : 30.00%, slice_epochs : 100, agg_epochs : 12\r\n",
      "2023-02-07 16:19:23  Part_type : 5,    slices : 5,       devices : gpu\r\n",
      "\r\n",
      "\r\n",
      "2023-02-07 16:19:23  Density 30.00% : MAE = 0.329, RMSE = 1.198, NMAE = 0.362, MRE = 0.227, NPRE = 0.797\r\n",
      "\r\n",
      "2023-02-07 16:19:23  Experiment success!\r\n",
      "\r\n"
     ]
    }
   ],
   "source": [
    "!python Experiment.py --dataset rt --interaction NeuCF --rounds 1 --slices 5 --agg_epochs 12 --density 0.30 --part_type 5"
   ],
   "metadata": {
    "collapsed": false
   }
  },
  {
   "cell_type": "code",
   "execution_count": 73,
   "outputs": [
    {
     "name": "stdout",
     "output_type": "stream",
     "text": [
      "2023-02-07 16:19:24  All the experiments have been done!\r\n",
      "2023-02-07 16:19:24  Namespace(F=1, agg2=0, agg_decay=0.001, agg_epochs=15, agg_function=1, agg_lr=0.001, agg_type='att', att_decay=0.0001, att_lr=0.001, batch_size=128, beta=1, cluster='deep', cuda=True, dataset='tp', debug=0, density=0.1, devices='gpu', dimension=32, dir='../Dataset/mnist', dropout=0.1, epoch=1500, external_dim=64, hidden_dims=[64, 64, 100], input_dim=128, interaction='NeuCF', lamda=1, latent_dim=10, log_interval=100, lr=0.0001, n_classes=10, n_clusters=10, n_jobs=1, node2vec=0, node2vec_batchsize=32, node2vec_dim=128, node2vec_epochs=20, node2vec_length=8, node2vec_walk=15, node2vec_windows=3, num_layers=2, order=2, part_iter=20, part_type=5, path='./datasets/data/WSDREAM/', pre_epoch=1000, pretrain=True, processed=0, random_state=1001, record=1, retrain=0, rounds=1, save_model=1, slice=1, slice_decay=0.001, slice_epochs=100, slice_lr=0.001, slices=5, verbose=10, wd=0.0005)\r\n",
      "2023-02-07 16:19:24  Dataset : tp     interaction : NeuCF\r\n",
      "2023-02-07 16:19:24  Density : 10.00%, slice_epochs : 100, agg_epochs : 15\r\n",
      "2023-02-07 16:19:24  Part_type : 5,    slices : 5,       devices : gpu\r\n",
      "2023-02-07 16:19:24  Slice_lr : 0.004,    Slice_decay : 0.001\r\n",
      "2023-02-07 16:19:24  Agg_lr : 0.001,    Agg_decay : 0.001\r\n",
      "2023-02-07 16:19:24  Aggregation function : att\r\n",
      "------------------------------------------------------------------------------------------------------------------------\r\n",
      "2023-02-07 16:19:24  Dataset : tp     interaction : NeuCF\r\n",
      "2023-02-07 16:19:24  Density : 10.00%, slice_epochs : 100, agg_epochs : 15\r\n",
      "2023-02-07 16:19:24  Part_type : 5,    slices : 5,       devices : gpu\r\n",
      "\r\n",
      "\r\n",
      "2023-02-07 16:19:24  Density 10.00% : MAE = 15.433, RMSE = 48.768, NMAE = 0.324, MRE = 0.279, NPRE = 1.747\r\n",
      "\r\n",
      "2023-02-07 16:19:24  Experiment success!\r\n",
      "\r\n"
     ]
    }
   ],
   "source": [
    "!python Experiment.py --dataset tp --interaction NeuCF --rounds 1 --slices 5 --agg_epochs 15 --density 0.10 --part_type 5"
   ],
   "metadata": {
    "collapsed": false
   }
  },
  {
   "cell_type": "code",
   "execution_count": 74,
   "outputs": [
    {
     "name": "stdout",
     "output_type": "stream",
     "text": [
      "2023-02-07 16:19:25  All the experiments have been done!\r\n",
      "2023-02-07 16:19:25  Namespace(F=1, agg2=0, agg_decay=0.001, agg_epochs=15, agg_function=1, agg_lr=0.001, agg_type='att', att_decay=0.0001, att_lr=0.001, batch_size=128, beta=1, cluster='deep', cuda=True, dataset='tp', debug=0, density=0.15, devices='gpu', dimension=32, dir='../Dataset/mnist', dropout=0.1, epoch=1500, external_dim=64, hidden_dims=[64, 64, 100], input_dim=128, interaction='NeuCF', lamda=1, latent_dim=10, log_interval=100, lr=0.0001, n_classes=10, n_clusters=10, n_jobs=1, node2vec=0, node2vec_batchsize=32, node2vec_dim=128, node2vec_epochs=20, node2vec_length=8, node2vec_walk=15, node2vec_windows=3, num_layers=2, order=2, part_iter=20, part_type=5, path='./datasets/data/WSDREAM/', pre_epoch=1000, pretrain=True, processed=0, random_state=1001, record=1, retrain=0, rounds=1, save_model=1, slice=1, slice_decay=0.001, slice_epochs=100, slice_lr=0.001, slices=5, verbose=10, wd=0.0005)\r\n",
      "2023-02-07 16:19:25  Dataset : tp     interaction : NeuCF\r\n",
      "2023-02-07 16:19:25  Density : 15.00%, slice_epochs : 100, agg_epochs : 15\r\n",
      "2023-02-07 16:19:25  Part_type : 5,    slices : 5,       devices : gpu\r\n",
      "2023-02-07 16:19:25  Slice_lr : 0.004,    Slice_decay : 0.001\r\n",
      "2023-02-07 16:19:25  Agg_lr : 0.001,    Agg_decay : 0.001\r\n",
      "2023-02-07 16:19:25  Aggregation function : att\r\n",
      "------------------------------------------------------------------------------------------------------------------------\r\n",
      "2023-02-07 16:19:25  Dataset : tp     interaction : NeuCF\r\n",
      "2023-02-07 16:19:25  Density : 15.00%, slice_epochs : 100, agg_epochs : 15\r\n",
      "2023-02-07 16:19:25  Part_type : 5,    slices : 5,       devices : gpu\r\n",
      "\r\n",
      "\r\n",
      "2023-02-07 16:19:25  Density 15.00% : MAE = 14.596, RMSE = 46.983, NMAE = 0.307, MRE = 0.245, NPRE = 1.057\r\n",
      "\r\n",
      "2023-02-07 16:19:25  Experiment success!\r\n",
      "\r\n"
     ]
    }
   ],
   "source": [
    "!python Experiment.py --dataset tp --interaction NeuCF --rounds 1 --slices 5 --agg_epochs 15 --density 0.15 --part_type 5"
   ],
   "metadata": {
    "collapsed": false
   }
  },
  {
   "cell_type": "code",
   "execution_count": 75,
   "outputs": [
    {
     "name": "stdout",
     "output_type": "stream",
     "text": [
      "2023-02-07 16:19:26  All the experiments have been done!\r\n",
      "2023-02-07 16:19:26  Namespace(F=1, agg2=0, agg_decay=0.001, agg_epochs=15, agg_function=1, agg_lr=0.001, agg_type='att', att_decay=0.0001, att_lr=0.001, batch_size=128, beta=1, cluster='deep', cuda=True, dataset='tp', debug=0, density=0.2, devices='gpu', dimension=32, dir='../Dataset/mnist', dropout=0.1, epoch=1500, external_dim=64, hidden_dims=[64, 64, 100], input_dim=128, interaction='NeuCF', lamda=1, latent_dim=10, log_interval=100, lr=0.0001, n_classes=10, n_clusters=10, n_jobs=1, node2vec=0, node2vec_batchsize=32, node2vec_dim=128, node2vec_epochs=20, node2vec_length=8, node2vec_walk=15, node2vec_windows=3, num_layers=2, order=2, part_iter=20, part_type=5, path='./datasets/data/WSDREAM/', pre_epoch=1000, pretrain=True, processed=0, random_state=1001, record=1, retrain=0, rounds=1, save_model=1, slice=1, slice_decay=0.001, slice_epochs=100, slice_lr=0.001, slices=5, verbose=10, wd=0.0005)\r\n",
      "2023-02-07 16:19:26  Dataset : tp     interaction : NeuCF\r\n",
      "2023-02-07 16:19:26  Density : 20.00%, slice_epochs : 100, agg_epochs : 15\r\n",
      "2023-02-07 16:19:26  Part_type : 5,    slices : 5,       devices : gpu\r\n",
      "2023-02-07 16:19:26  Slice_lr : 0.004,    Slice_decay : 0.001\r\n",
      "2023-02-07 16:19:26  Agg_lr : 0.001,    Agg_decay : 0.001\r\n",
      "2023-02-07 16:19:26  Aggregation function : att\r\n",
      "------------------------------------------------------------------------------------------------------------------------\r\n",
      "2023-02-07 16:19:26  Dataset : tp     interaction : NeuCF\r\n",
      "2023-02-07 16:19:26  Density : 20.00%, slice_epochs : 100, agg_epochs : 15\r\n",
      "2023-02-07 16:19:26  Part_type : 5,    slices : 5,       devices : gpu\r\n",
      "\r\n",
      "\r\n",
      "2023-02-07 16:19:26  Density 20.00% : MAE = 13.625, RMSE = 44.627, NMAE = 0.287, MRE = 0.226, NPRE = 1.145\r\n",
      "\r\n",
      "2023-02-07 16:19:26  Experiment success!\r\n",
      "\r\n"
     ]
    }
   ],
   "source": [
    "!python Experiment.py --dataset tp --interaction NeuCF --rounds 1 --slices 5 --agg_epochs 15 --density 0.20 --part_type 5"
   ],
   "metadata": {
    "collapsed": false
   }
  },
  {
   "cell_type": "code",
   "execution_count": 76,
   "outputs": [
    {
     "name": "stdout",
     "output_type": "stream",
     "text": [
      "2023-02-07 16:19:27  All the experiments have been done!\r\n",
      "2023-02-07 16:19:27  Namespace(F=1, agg2=0, agg_decay=0.001, agg_epochs=15, agg_function=1, agg_lr=0.001, agg_type='att', att_decay=0.0001, att_lr=0.001, batch_size=128, beta=1, cluster='deep', cuda=True, dataset='tp', debug=0, density=0.25, devices='gpu', dimension=32, dir='../Dataset/mnist', dropout=0.1, epoch=1500, external_dim=64, hidden_dims=[64, 64, 100], input_dim=128, interaction='NeuCF', lamda=1, latent_dim=10, log_interval=100, lr=0.0001, n_classes=10, n_clusters=10, n_jobs=1, node2vec=0, node2vec_batchsize=32, node2vec_dim=128, node2vec_epochs=20, node2vec_length=8, node2vec_walk=15, node2vec_windows=3, num_layers=2, order=2, part_iter=20, part_type=5, path='./datasets/data/WSDREAM/', pre_epoch=1000, pretrain=True, processed=0, random_state=1001, record=1, retrain=0, rounds=1, save_model=1, slice=1, slice_decay=0.001, slice_epochs=100, slice_lr=0.001, slices=5, verbose=10, wd=0.0005)\r\n",
      "2023-02-07 16:19:27  Dataset : tp     interaction : NeuCF\r\n",
      "2023-02-07 16:19:27  Density : 25.00%, slice_epochs : 100, agg_epochs : 15\r\n",
      "2023-02-07 16:19:27  Part_type : 5,    slices : 5,       devices : gpu\r\n",
      "2023-02-07 16:19:27  Slice_lr : 0.004,    Slice_decay : 0.001\r\n",
      "2023-02-07 16:19:27  Agg_lr : 0.001,    Agg_decay : 0.001\r\n",
      "2023-02-07 16:19:27  Aggregation function : att\r\n",
      "------------------------------------------------------------------------------------------------------------------------\r\n",
      "2023-02-07 16:19:27  Dataset : tp     interaction : NeuCF\r\n",
      "2023-02-07 16:19:27  Density : 25.00%, slice_epochs : 100, agg_epochs : 15\r\n",
      "2023-02-07 16:19:27  Part_type : 5,    slices : 5,       devices : gpu\r\n",
      "\r\n",
      "\r\n",
      "2023-02-07 16:19:27  Density 25.00% : MAE = 13.087, RMSE = 43.457, NMAE = 0.275, MRE = 0.215, NPRE = 1.000\r\n",
      "\r\n",
      "2023-02-07 16:19:27  Experiment success!\r\n",
      "\r\n"
     ]
    }
   ],
   "source": [
    "!python Experiment.py --dataset tp --interaction NeuCF --rounds 1 --slices 5 --agg_epochs 15 --density 0.25 --part_type 5"
   ],
   "metadata": {
    "collapsed": false
   }
  },
  {
   "cell_type": "code",
   "execution_count": 77,
   "outputs": [
    {
     "name": "stdout",
     "output_type": "stream",
     "text": [
      "2023-02-07 16:19:28  All the experiments have been done!\r\n",
      "2023-02-07 16:19:28  Namespace(F=1, agg2=0, agg_decay=0.001, agg_epochs=15, agg_function=1, agg_lr=0.001, agg_type='att', att_decay=0.0001, att_lr=0.001, batch_size=128, beta=1, cluster='deep', cuda=True, dataset='tp', debug=0, density=0.3, devices='gpu', dimension=32, dir='../Dataset/mnist', dropout=0.1, epoch=1500, external_dim=64, hidden_dims=[64, 64, 100], input_dim=128, interaction='NeuCF', lamda=1, latent_dim=10, log_interval=100, lr=0.0001, n_classes=10, n_clusters=10, n_jobs=1, node2vec=0, node2vec_batchsize=32, node2vec_dim=128, node2vec_epochs=20, node2vec_length=8, node2vec_walk=15, node2vec_windows=3, num_layers=2, order=2, part_iter=20, part_type=5, path='./datasets/data/WSDREAM/', pre_epoch=1000, pretrain=True, processed=0, random_state=1001, record=1, retrain=0, rounds=1, save_model=1, slice=1, slice_decay=0.001, slice_epochs=100, slice_lr=0.001, slices=5, verbose=10, wd=0.0005)\r\n",
      "2023-02-07 16:19:28  Dataset : tp     interaction : NeuCF\r\n",
      "2023-02-07 16:19:28  Density : 30.00%, slice_epochs : 100, agg_epochs : 15\r\n",
      "2023-02-07 16:19:28  Part_type : 5,    slices : 5,       devices : gpu\r\n",
      "2023-02-07 16:19:28  Slice_lr : 0.004,    Slice_decay : 0.001\r\n",
      "2023-02-07 16:19:28  Agg_lr : 0.001,    Agg_decay : 0.001\r\n",
      "2023-02-07 16:19:28  Aggregation function : att\r\n",
      "------------------------------------------------------------------------------------------------------------------------\r\n",
      "2023-02-07 16:19:28  Dataset : tp     interaction : NeuCF\r\n",
      "2023-02-07 16:19:28  Density : 30.00%, slice_epochs : 100, agg_epochs : 15\r\n",
      "2023-02-07 16:19:28  Part_type : 5,    slices : 5,       devices : gpu\r\n",
      "\r\n",
      "\r\n",
      "2023-02-07 16:19:28  Density 30.00% : MAE = 12.552, RMSE = 41.405, NMAE = 0.264, MRE = 0.213, NPRE = 1.123\r\n",
      "\r\n",
      "2023-02-07 16:19:28  Experiment success!\r\n",
      "\r\n"
     ]
    }
   ],
   "source": [
    "!python Experiment.py --dataset tp --interaction NeuCF --rounds 1 --slices 5 --agg_epochs 15 --density 0.30 --part_type 5"
   ],
   "metadata": {
    "collapsed": false
   }
  },
  {
   "cell_type": "code",
   "execution_count": 78,
   "outputs": [
    {
     "name": "stdout",
     "output_type": "stream",
     "text": [
      "2023-02-07 16:19:32  All the experiments have been done!\r\n",
      "2023-02-07 16:19:32  Namespace(F=1, agg2=0, agg_decay=0.001, agg_epochs=15, agg_function=1, agg_lr=0.001, agg_type='att', att_decay=0.0001, att_lr=0.001, batch_size=128, beta=1, cluster='deep', cuda=True, dataset='rt', debug=0, density=0.1, devices='gpu', dimension=32, dir='../Dataset/mnist', dropout=0.1, epoch=1500, external_dim=64, hidden_dims=[64, 64, 100], input_dim=128, interaction='CSMF', lamda=1, latent_dim=10, log_interval=100, lr=0.0001, n_classes=10, n_clusters=10, n_jobs=1, node2vec=0, node2vec_batchsize=32, node2vec_dim=128, node2vec_epochs=20, node2vec_length=8, node2vec_walk=15, node2vec_windows=3, num_layers=2, order=2, part_iter=20, part_type=5, path='./datasets/data/WSDREAM/', pre_epoch=1000, pretrain=True, processed=0, random_state=1001, record=1, retrain=0, rounds=1, save_model=1, slice=1, slice_decay=0.001, slice_epochs=100, slice_lr=0.001, slices=5, verbose=10, wd=0.0005)\r\n",
      "2023-02-07 16:19:32  Dataset : rt     interaction : CSMF\r\n",
      "2023-02-07 16:19:32  Density : 10.00%, slice_epochs : 100, agg_epochs : 15\r\n",
      "2023-02-07 16:19:32  Part_type : 5,    slices : 5,       devices : gpu\r\n",
      "2023-02-07 16:19:32  Slice_lr : 0.01,    Slice_decay : 0.001\r\n",
      "2023-02-07 16:19:32  Agg_lr : 0.008,    Agg_decay : 0.001\r\n",
      "2023-02-07 16:19:32  Aggregation function : att\r\n",
      "------------------------------------------------------------------------------------------------------------------------\r\n",
      "2023-02-07 16:19:32  Dataset : rt     interaction : CSMF\r\n",
      "2023-02-07 16:19:32  Density : 10.00%, slice_epochs : 100, agg_epochs : 15\r\n",
      "2023-02-07 16:19:32  Part_type : 5,    slices : 5,       devices : gpu\r\n",
      "\r\n",
      "\r\n",
      "2023-02-07 16:19:32  Density 10.00% : MAE = 0.431, RMSE = 1.360, NMAE = 0.474, MRE = 0.354, NPRE = 1.449\r\n",
      "\r\n",
      "2023-02-07 16:19:32  Experiment success!\r\n",
      "\r\n"
     ]
    }
   ],
   "source": [
    "!python Experiment.py --dataset rt --interaction CSMF --rounds 1 --slices 5 --agg_epochs 15 --density 0.10 --part_type 5"
   ],
   "metadata": {
    "collapsed": false
   }
  },
  {
   "cell_type": "code",
   "execution_count": 79,
   "outputs": [
    {
     "name": "stdout",
     "output_type": "stream",
     "text": [
      "2023-02-07 16:19:33  All the experiments have been done!\r\n",
      "2023-02-07 16:19:33  Namespace(F=1, agg2=0, agg_decay=0.001, agg_epochs=15, agg_function=1, agg_lr=0.001, agg_type='att', att_decay=0.0001, att_lr=0.001, batch_size=128, beta=1, cluster='deep', cuda=True, dataset='rt', debug=0, density=0.15, devices='gpu', dimension=32, dir='../Dataset/mnist', dropout=0.1, epoch=1500, external_dim=64, hidden_dims=[64, 64, 100], input_dim=128, interaction='CSMF', lamda=1, latent_dim=10, log_interval=100, lr=0.0001, n_classes=10, n_clusters=10, n_jobs=1, node2vec=0, node2vec_batchsize=32, node2vec_dim=128, node2vec_epochs=20, node2vec_length=8, node2vec_walk=15, node2vec_windows=3, num_layers=2, order=2, part_iter=20, part_type=5, path='./datasets/data/WSDREAM/', pre_epoch=1000, pretrain=True, processed=0, random_state=1001, record=1, retrain=0, rounds=1, save_model=1, slice=1, slice_decay=0.001, slice_epochs=100, slice_lr=0.001, slices=5, verbose=10, wd=0.0005)\r\n",
      "2023-02-07 16:19:33  Dataset : rt     interaction : CSMF\r\n",
      "2023-02-07 16:19:33  Density : 15.00%, slice_epochs : 100, agg_epochs : 15\r\n",
      "2023-02-07 16:19:33  Part_type : 5,    slices : 5,       devices : gpu\r\n",
      "2023-02-07 16:19:33  Slice_lr : 0.01,    Slice_decay : 0.001\r\n",
      "2023-02-07 16:19:33  Agg_lr : 0.008,    Agg_decay : 0.001\r\n",
      "2023-02-07 16:19:33  Aggregation function : att\r\n",
      "------------------------------------------------------------------------------------------------------------------------\r\n",
      "2023-02-07 16:19:33  Dataset : rt     interaction : CSMF\r\n",
      "2023-02-07 16:19:33  Density : 15.00%, slice_epochs : 100, agg_epochs : 15\r\n",
      "2023-02-07 16:19:33  Part_type : 5,    slices : 5,       devices : gpu\r\n",
      "\r\n",
      "\r\n",
      "2023-02-07 16:19:33  Density 15.00% : MAE = 0.408, RMSE = 1.319, NMAE = 0.449, MRE = 0.324, NPRE = 1.248\r\n",
      "\r\n",
      "2023-02-07 16:19:33  Experiment success!\r\n",
      "\r\n"
     ]
    }
   ],
   "source": [
    "!python Experiment.py --dataset rt --interaction CSMF --rounds 1 --slices 5 --agg_epochs 15 --density 0.15 --part_type 5"
   ],
   "metadata": {
    "collapsed": false
   }
  },
  {
   "cell_type": "code",
   "execution_count": 80,
   "outputs": [
    {
     "name": "stdout",
     "output_type": "stream",
     "text": [
      "2023-02-07 16:19:34  All the experiments have been done!\r\n",
      "2023-02-07 16:19:34  Namespace(F=1, agg2=0, agg_decay=0.001, agg_epochs=15, agg_function=1, agg_lr=0.001, agg_type='att', att_decay=0.0001, att_lr=0.001, batch_size=128, beta=1, cluster='deep', cuda=True, dataset='rt', debug=0, density=0.2, devices='gpu', dimension=32, dir='../Dataset/mnist', dropout=0.1, epoch=1500, external_dim=64, hidden_dims=[64, 64, 100], input_dim=128, interaction='CSMF', lamda=1, latent_dim=10, log_interval=100, lr=0.0001, n_classes=10, n_clusters=10, n_jobs=1, node2vec=0, node2vec_batchsize=32, node2vec_dim=128, node2vec_epochs=20, node2vec_length=8, node2vec_walk=15, node2vec_windows=3, num_layers=2, order=2, part_iter=20, part_type=5, path='./datasets/data/WSDREAM/', pre_epoch=1000, pretrain=True, processed=0, random_state=1001, record=1, retrain=0, rounds=1, save_model=1, slice=1, slice_decay=0.001, slice_epochs=100, slice_lr=0.001, slices=5, verbose=10, wd=0.0005)\r\n",
      "2023-02-07 16:19:34  Dataset : rt     interaction : CSMF\r\n",
      "2023-02-07 16:19:34  Density : 20.00%, slice_epochs : 100, agg_epochs : 15\r\n",
      "2023-02-07 16:19:34  Part_type : 5,    slices : 5,       devices : gpu\r\n",
      "2023-02-07 16:19:34  Slice_lr : 0.01,    Slice_decay : 0.001\r\n",
      "2023-02-07 16:19:34  Agg_lr : 0.008,    Agg_decay : 0.001\r\n",
      "2023-02-07 16:19:34  Aggregation function : att\r\n",
      "------------------------------------------------------------------------------------------------------------------------\r\n",
      "2023-02-07 16:19:34  Dataset : rt     interaction : CSMF\r\n",
      "2023-02-07 16:19:34  Density : 20.00%, slice_epochs : 100, agg_epochs : 15\r\n",
      "2023-02-07 16:19:34  Part_type : 5,    slices : 5,       devices : gpu\r\n",
      "\r\n",
      "\r\n",
      "2023-02-07 16:19:34  Density 20.00% : MAE = 0.425, RMSE = 1.332, NMAE = 0.467, MRE = 0.345, NPRE = 1.511\r\n",
      "\r\n",
      "2023-02-07 16:19:34  Experiment success!\r\n",
      "\r\n"
     ]
    }
   ],
   "source": [
    "!python Experiment.py --dataset rt --interaction CSMF --rounds 1 --slices 5 --agg_epochs 15 --density 0.20 --part_type 5"
   ],
   "metadata": {
    "collapsed": false
   }
  },
  {
   "cell_type": "code",
   "execution_count": 81,
   "outputs": [
    {
     "name": "stdout",
     "output_type": "stream",
     "text": [
      "2023-02-07 16:19:35  All the experiments have been done!\r\n",
      "2023-02-07 16:19:35  Namespace(F=1, agg2=0, agg_decay=0.001, agg_epochs=15, agg_function=1, agg_lr=0.001, agg_type='att', att_decay=0.0001, att_lr=0.001, batch_size=128, beta=1, cluster='deep', cuda=True, dataset='rt', debug=0, density=0.25, devices='gpu', dimension=32, dir='../Dataset/mnist', dropout=0.1, epoch=1500, external_dim=64, hidden_dims=[64, 64, 100], input_dim=128, interaction='CSMF', lamda=1, latent_dim=10, log_interval=100, lr=0.0001, n_classes=10, n_clusters=10, n_jobs=1, node2vec=0, node2vec_batchsize=32, node2vec_dim=128, node2vec_epochs=20, node2vec_length=8, node2vec_walk=15, node2vec_windows=3, num_layers=2, order=2, part_iter=20, part_type=5, path='./datasets/data/WSDREAM/', pre_epoch=1000, pretrain=True, processed=0, random_state=1001, record=1, retrain=0, rounds=1, save_model=1, slice=1, slice_decay=0.001, slice_epochs=100, slice_lr=0.001, slices=5, verbose=10, wd=0.0005)\r\n",
      "2023-02-07 16:19:35  Dataset : rt     interaction : CSMF\r\n",
      "2023-02-07 16:19:35  Density : 25.00%, slice_epochs : 100, agg_epochs : 15\r\n",
      "2023-02-07 16:19:35  Part_type : 5,    slices : 5,       devices : gpu\r\n",
      "2023-02-07 16:19:35  Slice_lr : 0.01,    Slice_decay : 0.001\r\n",
      "2023-02-07 16:19:35  Agg_lr : 0.008,    Agg_decay : 0.001\r\n",
      "2023-02-07 16:19:35  Aggregation function : att\r\n",
      "------------------------------------------------------------------------------------------------------------------------\r\n",
      "2023-02-07 16:19:35  Dataset : rt     interaction : CSMF\r\n",
      "2023-02-07 16:19:35  Density : 25.00%, slice_epochs : 100, agg_epochs : 15\r\n",
      "2023-02-07 16:19:35  Part_type : 5,    slices : 5,       devices : gpu\r\n",
      "\r\n",
      "\r\n",
      "2023-02-07 16:19:35  Density 25.00% : MAE = 0.400, RMSE = 1.335, NMAE = 0.440, MRE = 0.312, NPRE = 1.231\r\n",
      "\r\n",
      "2023-02-07 16:19:35  Experiment success!\r\n",
      "\r\n"
     ]
    }
   ],
   "source": [
    "!python Experiment.py --dataset rt --interaction CSMF --rounds 1 --slices 5 --agg_epochs 15 --density 0.25 --part_type 5"
   ],
   "metadata": {
    "collapsed": false
   }
  },
  {
   "cell_type": "code",
   "execution_count": 82,
   "outputs": [
    {
     "name": "stdout",
     "output_type": "stream",
     "text": [
      "2023-02-07 16:19:35  All the experiments have been done!\r\n",
      "2023-02-07 16:19:35  Namespace(F=1, agg2=0, agg_decay=0.001, agg_epochs=15, agg_function=1, agg_lr=0.001, agg_type='att', att_decay=0.0001, att_lr=0.001, batch_size=128, beta=1, cluster='deep', cuda=True, dataset='rt', debug=0, density=0.3, devices='gpu', dimension=32, dir='../Dataset/mnist', dropout=0.1, epoch=1500, external_dim=64, hidden_dims=[64, 64, 100], input_dim=128, interaction='CSMF', lamda=1, latent_dim=10, log_interval=100, lr=0.0001, n_classes=10, n_clusters=10, n_jobs=1, node2vec=0, node2vec_batchsize=32, node2vec_dim=128, node2vec_epochs=20, node2vec_length=8, node2vec_walk=15, node2vec_windows=3, num_layers=2, order=2, part_iter=20, part_type=5, path='./datasets/data/WSDREAM/', pre_epoch=1000, pretrain=True, processed=0, random_state=1001, record=1, retrain=0, rounds=1, save_model=1, slice=1, slice_decay=0.001, slice_epochs=100, slice_lr=0.001, slices=5, verbose=10, wd=0.0005)\r\n",
      "2023-02-07 16:19:35  Dataset : rt     interaction : CSMF\r\n",
      "2023-02-07 16:19:35  Density : 30.00%, slice_epochs : 100, agg_epochs : 15\r\n",
      "2023-02-07 16:19:35  Part_type : 5,    slices : 5,       devices : gpu\r\n",
      "2023-02-07 16:19:35  Slice_lr : 0.01,    Slice_decay : 0.001\r\n",
      "2023-02-07 16:19:35  Agg_lr : 0.008,    Agg_decay : 0.001\r\n",
      "2023-02-07 16:19:35  Aggregation function : att\r\n",
      "------------------------------------------------------------------------------------------------------------------------\r\n",
      "2023-02-07 16:19:35  Dataset : rt     interaction : CSMF\r\n",
      "2023-02-07 16:19:35  Density : 30.00%, slice_epochs : 100, agg_epochs : 15\r\n",
      "2023-02-07 16:19:35  Part_type : 5,    slices : 5,       devices : gpu\r\n",
      "\r\n",
      "\r\n",
      "2023-02-07 16:19:35  Density 30.00% : MAE = 0.407, RMSE = 1.303, NMAE = 0.447, MRE = 0.343, NPRE = 1.340\r\n",
      "\r\n",
      "2023-02-07 16:19:35  Experiment success!\r\n",
      "\r\n"
     ]
    }
   ],
   "source": [
    "!python Experiment.py --dataset rt --interaction CSMF --rounds 1 --slices 5 --agg_epochs 15 --density 0.30 --part_type 5"
   ],
   "metadata": {
    "collapsed": false
   }
  },
  {
   "cell_type": "code",
   "execution_count": 83,
   "outputs": [
    {
     "name": "stdout",
     "output_type": "stream",
     "text": [
      "2023-02-07 16:19:36  All the experiments have been done!\r\n",
      "2023-02-07 16:19:36  Namespace(F=1, agg2=0, agg_decay=0.001, agg_epochs=20, agg_function=1, agg_lr=0.001, agg_type='att', att_decay=0.0001, att_lr=0.001, batch_size=128, beta=1, cluster='deep', cuda=True, dataset='tp', debug=0, density=0.1, devices='gpu', dimension=32, dir='../Dataset/mnist', dropout=0.1, epoch=1500, external_dim=64, hidden_dims=[64, 64, 100], input_dim=128, interaction='CSMF', lamda=1, latent_dim=10, log_interval=100, lr=0.0001, n_classes=10, n_clusters=10, n_jobs=1, node2vec=0, node2vec_batchsize=32, node2vec_dim=128, node2vec_epochs=20, node2vec_length=8, node2vec_walk=15, node2vec_windows=3, num_layers=2, order=2, part_iter=20, part_type=5, path='./datasets/data/WSDREAM/', pre_epoch=1000, pretrain=True, processed=0, random_state=1001, record=1, retrain=0, rounds=1, save_model=1, slice=1, slice_decay=0.001, slice_epochs=100, slice_lr=0.001, slices=5, verbose=10, wd=0.0005)\r\n",
      "2023-02-07 16:19:36  Dataset : tp     interaction : CSMF\r\n",
      "2023-02-07 16:19:36  Density : 10.00%, slice_epochs : 100, agg_epochs : 20\r\n",
      "2023-02-07 16:19:36  Part_type : 5,    slices : 5,       devices : gpu\r\n",
      "2023-02-07 16:19:36  Slice_lr : 0.01,    Slice_decay : 0.001\r\n",
      "2023-02-07 16:19:36  Agg_lr : 0.008,    Agg_decay : 0.001\r\n",
      "2023-02-07 16:19:36  Aggregation function : att\r\n",
      "------------------------------------------------------------------------------------------------------------------------\r\n",
      "2023-02-07 16:19:36  Dataset : tp     interaction : CSMF\r\n",
      "2023-02-07 16:19:36  Density : 10.00%, slice_epochs : 100, agg_epochs : 20\r\n",
      "2023-02-07 16:19:36  Part_type : 5,    slices : 5,       devices : gpu\r\n",
      "\r\n",
      "\r\n",
      "2023-02-07 16:19:36  Density 10.00% : MAE = 20.224, RMSE = 58.746, NMAE = 0.425, MRE = 0.353, NPRE = 1.719\r\n",
      "\r\n",
      "2023-02-07 16:19:36  Experiment success!\r\n",
      "\r\n"
     ]
    }
   ],
   "source": [
    "!python Experiment.py --dataset tp --interaction CSMF --rounds 1 --slices 5 --agg_epochs 20 --density 0.10 --part_type 5"
   ],
   "metadata": {
    "collapsed": false
   }
  },
  {
   "cell_type": "code",
   "execution_count": 84,
   "outputs": [
    {
     "name": "stdout",
     "output_type": "stream",
     "text": [
      "2023-02-07 16:19:37  All the experiments have been done!\r\n",
      "2023-02-07 16:19:37  Namespace(F=1, agg2=0, agg_decay=0.001, agg_epochs=20, agg_function=1, agg_lr=0.001, agg_type='att', att_decay=0.0001, att_lr=0.001, batch_size=128, beta=1, cluster='deep', cuda=True, dataset='tp', debug=0, density=0.15, devices='gpu', dimension=32, dir='../Dataset/mnist', dropout=0.1, epoch=1500, external_dim=64, hidden_dims=[64, 64, 100], input_dim=128, interaction='CSMF', lamda=1, latent_dim=10, log_interval=100, lr=0.0001, n_classes=10, n_clusters=10, n_jobs=1, node2vec=0, node2vec_batchsize=32, node2vec_dim=128, node2vec_epochs=20, node2vec_length=8, node2vec_walk=15, node2vec_windows=3, num_layers=2, order=2, part_iter=20, part_type=5, path='./datasets/data/WSDREAM/', pre_epoch=1000, pretrain=True, processed=0, random_state=1001, record=1, retrain=0, rounds=1, save_model=1, slice=1, slice_decay=0.001, slice_epochs=100, slice_lr=0.001, slices=5, verbose=10, wd=0.0005)\r\n",
      "2023-02-07 16:19:37  Dataset : tp     interaction : CSMF\r\n",
      "2023-02-07 16:19:37  Density : 15.00%, slice_epochs : 100, agg_epochs : 20\r\n",
      "2023-02-07 16:19:37  Part_type : 5,    slices : 5,       devices : gpu\r\n",
      "2023-02-07 16:19:37  Slice_lr : 0.01,    Slice_decay : 0.001\r\n",
      "2023-02-07 16:19:37  Agg_lr : 0.008,    Agg_decay : 0.001\r\n",
      "2023-02-07 16:19:37  Aggregation function : att\r\n",
      "------------------------------------------------------------------------------------------------------------------------\r\n",
      "2023-02-07 16:19:37  Dataset : tp     interaction : CSMF\r\n",
      "2023-02-07 16:19:37  Density : 15.00%, slice_epochs : 100, agg_epochs : 20\r\n",
      "2023-02-07 16:19:37  Part_type : 5,    slices : 5,       devices : gpu\r\n",
      "\r\n",
      "\r\n",
      "2023-02-07 16:19:37  Density 15.00% : MAE = 19.265, RMSE = 55.607, NMAE = 0.405, MRE = 0.350, NPRE = 1.606\r\n",
      "\r\n",
      "2023-02-07 16:19:37  Experiment success!\r\n",
      "\r\n"
     ]
    }
   ],
   "source": [
    "!python Experiment.py --dataset tp --interaction CSMF --rounds 1 --slices 5 --agg_epochs 20 --density 0.15 --part_type 5"
   ],
   "metadata": {
    "collapsed": false
   }
  },
  {
   "cell_type": "code",
   "execution_count": 85,
   "outputs": [
    {
     "name": "stdout",
     "output_type": "stream",
     "text": [
      "2023-02-07 16:19:38  All the experiments have been done!\r\n",
      "2023-02-07 16:19:38  Namespace(F=1, agg2=0, agg_decay=0.001, agg_epochs=20, agg_function=1, agg_lr=0.001, agg_type='att', att_decay=0.0001, att_lr=0.001, batch_size=128, beta=1, cluster='deep', cuda=True, dataset='tp', debug=0, density=0.2, devices='gpu', dimension=32, dir='../Dataset/mnist', dropout=0.1, epoch=1500, external_dim=64, hidden_dims=[64, 64, 100], input_dim=128, interaction='CSMF', lamda=1, latent_dim=10, log_interval=100, lr=0.0001, n_classes=10, n_clusters=10, n_jobs=1, node2vec=0, node2vec_batchsize=32, node2vec_dim=128, node2vec_epochs=20, node2vec_length=8, node2vec_walk=15, node2vec_windows=3, num_layers=2, order=2, part_iter=20, part_type=5, path='./datasets/data/WSDREAM/', pre_epoch=1000, pretrain=True, processed=0, random_state=1001, record=1, retrain=0, rounds=1, save_model=1, slice=1, slice_decay=0.001, slice_epochs=100, slice_lr=0.001, slices=5, verbose=10, wd=0.0005)\r\n",
      "2023-02-07 16:19:38  Dataset : tp     interaction : CSMF\r\n",
      "2023-02-07 16:19:38  Density : 20.00%, slice_epochs : 100, agg_epochs : 20\r\n",
      "2023-02-07 16:19:38  Part_type : 5,    slices : 5,       devices : gpu\r\n",
      "2023-02-07 16:19:38  Slice_lr : 0.01,    Slice_decay : 0.001\r\n",
      "2023-02-07 16:19:38  Agg_lr : 0.008,    Agg_decay : 0.001\r\n",
      "2023-02-07 16:19:38  Aggregation function : att\r\n",
      "------------------------------------------------------------------------------------------------------------------------\r\n",
      "2023-02-07 16:19:38  Dataset : tp     interaction : CSMF\r\n",
      "2023-02-07 16:19:38  Density : 20.00%, slice_epochs : 100, agg_epochs : 20\r\n",
      "2023-02-07 16:19:38  Part_type : 5,    slices : 5,       devices : gpu\r\n",
      "\r\n",
      "\r\n",
      "2023-02-07 16:19:38  Density 20.00% : MAE = 18.681, RMSE = 54.605, NMAE = 0.393, MRE = 0.321, NPRE = 1.528\r\n",
      "\r\n",
      "2023-02-07 16:19:38  Experiment success!\r\n",
      "\r\n"
     ]
    }
   ],
   "source": [
    "!python Experiment.py --dataset tp --interaction CSMF --rounds 1 --slices 5 --agg_epochs 20 --density 0.20 --part_type 5"
   ],
   "metadata": {
    "collapsed": false
   }
  },
  {
   "cell_type": "code",
   "execution_count": 86,
   "outputs": [
    {
     "name": "stdout",
     "output_type": "stream",
     "text": [
      "2023-02-07 16:19:39  All the experiments have been done!\r\n",
      "2023-02-07 16:19:39  Namespace(F=1, agg2=0, agg_decay=0.001, agg_epochs=20, agg_function=1, agg_lr=0.001, agg_type='att', att_decay=0.0001, att_lr=0.001, batch_size=128, beta=1, cluster='deep', cuda=True, dataset='tp', debug=0, density=0.25, devices='gpu', dimension=32, dir='../Dataset/mnist', dropout=0.1, epoch=1500, external_dim=64, hidden_dims=[64, 64, 100], input_dim=128, interaction='CSMF', lamda=1, latent_dim=10, log_interval=100, lr=0.0001, n_classes=10, n_clusters=10, n_jobs=1, node2vec=0, node2vec_batchsize=32, node2vec_dim=128, node2vec_epochs=20, node2vec_length=8, node2vec_walk=15, node2vec_windows=3, num_layers=2, order=2, part_iter=20, part_type=5, path='./datasets/data/WSDREAM/', pre_epoch=1000, pretrain=True, processed=0, random_state=1001, record=1, retrain=0, rounds=1, save_model=1, slice=1, slice_decay=0.001, slice_epochs=100, slice_lr=0.001, slices=5, verbose=10, wd=0.0005)\r\n",
      "2023-02-07 16:19:39  Dataset : tp     interaction : CSMF\r\n",
      "2023-02-07 16:19:39  Density : 25.00%, slice_epochs : 100, agg_epochs : 20\r\n",
      "2023-02-07 16:19:39  Part_type : 5,    slices : 5,       devices : gpu\r\n",
      "2023-02-07 16:19:39  Slice_lr : 0.01,    Slice_decay : 0.001\r\n",
      "2023-02-07 16:19:39  Agg_lr : 0.008,    Agg_decay : 0.001\r\n",
      "2023-02-07 16:19:39  Aggregation function : att\r\n",
      "------------------------------------------------------------------------------------------------------------------------\r\n",
      "2023-02-07 16:19:39  Dataset : tp     interaction : CSMF\r\n",
      "2023-02-07 16:19:39  Density : 25.00%, slice_epochs : 100, agg_epochs : 20\r\n",
      "2023-02-07 16:19:39  Part_type : 5,    slices : 5,       devices : gpu\r\n",
      "\r\n",
      "\r\n",
      "2023-02-07 16:19:39  Density 25.00% : MAE = 18.672, RMSE = 54.594, NMAE = 0.393, MRE = 0.327, NPRE = 1.487\r\n",
      "\r\n",
      "2023-02-07 16:19:39  Experiment success!\r\n",
      "\r\n"
     ]
    }
   ],
   "source": [
    "!python Experiment.py --dataset tp --interaction CSMF --rounds 1 --slices 5 --agg_epochs 20 --density 0.25 --part_type 5"
   ],
   "metadata": {
    "collapsed": false
   }
  },
  {
   "cell_type": "code",
   "execution_count": 87,
   "outputs": [
    {
     "name": "stdout",
     "output_type": "stream",
     "text": [
      "2023-02-07 16:19:40  All the experiments have been done!\r\n",
      "2023-02-07 16:19:40  Namespace(F=1, agg2=0, agg_decay=0.001, agg_epochs=20, agg_function=1, agg_lr=0.001, agg_type='att', att_decay=0.0001, att_lr=0.001, batch_size=128, beta=1, cluster='deep', cuda=True, dataset='tp', debug=0, density=0.3, devices='gpu', dimension=32, dir='../Dataset/mnist', dropout=0.1, epoch=1500, external_dim=64, hidden_dims=[64, 64, 100], input_dim=128, interaction='CSMF', lamda=1, latent_dim=10, log_interval=100, lr=0.0001, n_classes=10, n_clusters=10, n_jobs=1, node2vec=0, node2vec_batchsize=32, node2vec_dim=128, node2vec_epochs=20, node2vec_length=8, node2vec_walk=15, node2vec_windows=3, num_layers=2, order=2, part_iter=20, part_type=5, path='./datasets/data/WSDREAM/', pre_epoch=1000, pretrain=True, processed=0, random_state=1001, record=1, retrain=0, rounds=1, save_model=1, slice=1, slice_decay=0.001, slice_epochs=100, slice_lr=0.001, slices=5, verbose=10, wd=0.0005)\r\n",
      "2023-02-07 16:19:40  Dataset : tp     interaction : CSMF\r\n",
      "2023-02-07 16:19:40  Density : 30.00%, slice_epochs : 100, agg_epochs : 20\r\n",
      "2023-02-07 16:19:40  Part_type : 5,    slices : 5,       devices : gpu\r\n",
      "2023-02-07 16:19:40  Slice_lr : 0.01,    Slice_decay : 0.001\r\n",
      "2023-02-07 16:19:40  Agg_lr : 0.008,    Agg_decay : 0.001\r\n",
      "2023-02-07 16:19:40  Aggregation function : att\r\n",
      "------------------------------------------------------------------------------------------------------------------------\r\n",
      "2023-02-07 16:19:40  Dataset : tp     interaction : CSMF\r\n",
      "2023-02-07 16:19:40  Density : 30.00%, slice_epochs : 100, agg_epochs : 20\r\n",
      "2023-02-07 16:19:40  Part_type : 5,    slices : 5,       devices : gpu\r\n",
      "\r\n",
      "\r\n",
      "2023-02-07 16:19:40  Density 30.00% : MAE = 18.070, RMSE = 53.431, NMAE = 0.380, MRE = 0.311, NPRE = 1.513\r\n",
      "\r\n",
      "2023-02-07 16:19:40  Experiment success!\r\n",
      "\r\n"
     ]
    }
   ],
   "source": [
    "!python Experiment.py --dataset tp --interaction CSMF --rounds 1 --slices 5 --agg_epochs 20 --density 0.30 --part_type 5"
   ],
   "metadata": {
    "collapsed": false
   }
  },
  {
   "cell_type": "code",
   "execution_count": 88,
   "outputs": [
    {
     "name": "stdout",
     "output_type": "stream",
     "text": [
      "2023-02-07 16:19:41  All the experiments have been done!\r\n",
      "2023-02-07 16:19:41  Namespace(F=1, agg2=0, agg_decay=0.001, agg_epochs=25, agg_function=1, agg_lr=0.001, agg_type='att', att_decay=0.0001, att_lr=0.001, batch_size=128, beta=1, cluster='deep', cuda=True, dataset='rt', debug=0, density=0.1, devices='gpu', dimension=32, dir='../Dataset/mnist', dropout=0.1, epoch=1500, external_dim=64, hidden_dims=[64, 64, 100], input_dim=128, interaction='MF', lamda=1, latent_dim=10, log_interval=100, lr=0.0001, n_classes=10, n_clusters=10, n_jobs=1, node2vec=0, node2vec_batchsize=32, node2vec_dim=128, node2vec_epochs=20, node2vec_length=8, node2vec_walk=15, node2vec_windows=3, num_layers=2, order=2, part_iter=20, part_type=5, path='./datasets/data/WSDREAM/', pre_epoch=1000, pretrain=True, processed=0, random_state=1001, record=1, retrain=0, rounds=1, save_model=1, slice=1, slice_decay=0.001, slice_epochs=100, slice_lr=0.001, slices=5, verbose=10, wd=0.0005)\r\n",
      "2023-02-07 16:19:41  Dataset : rt     interaction : MF\r\n",
      "2023-02-07 16:19:41  Density : 10.00%, slice_epochs : 100, agg_epochs : 25\r\n",
      "2023-02-07 16:19:41  Part_type : 5,    slices : 5,       devices : gpu\r\n",
      "2023-02-07 16:19:41  Slice_lr : 0.008,    Slice_decay : 0.001\r\n",
      "2023-02-07 16:19:41  Agg_lr : 0.001,    Agg_decay : 0.001\r\n",
      "2023-02-07 16:19:41  Aggregation function : att\r\n",
      "------------------------------------------------------------------------------------------------------------------------\r\n",
      "2023-02-07 16:19:41  Dataset : rt     interaction : MF\r\n",
      "2023-02-07 16:19:41  Density : 10.00%, slice_epochs : 100, agg_epochs : 25\r\n",
      "2023-02-07 16:19:41  Part_type : 5,    slices : 5,       devices : gpu\r\n",
      "\r\n",
      "\r\n",
      "2023-02-07 16:19:41  Density 10.00% : MAE = 0.579, RMSE = 1.614, NMAE = 0.638, MRE = 0.532, NPRE = 2.348\r\n",
      "\r\n",
      "2023-02-07 16:19:41  Experiment success!\r\n",
      "\r\n"
     ]
    }
   ],
   "source": [
    "!python Experiment.py --dataset rt --interaction MF --rounds 1 --slices 5 --agg_epochs 25 --density 0.10 --part_type 5"
   ],
   "metadata": {
    "collapsed": false
   }
  },
  {
   "cell_type": "code",
   "execution_count": 89,
   "outputs": [
    {
     "name": "stdout",
     "output_type": "stream",
     "text": [
      "2023-02-07 16:19:42  All the experiments have been done!\r\n",
      "2023-02-07 16:19:42  Namespace(F=1, agg2=0, agg_decay=0.001, agg_epochs=25, agg_function=1, agg_lr=0.001, agg_type='att', att_decay=0.0001, att_lr=0.001, batch_size=128, beta=1, cluster='deep', cuda=True, dataset='rt', debug=0, density=0.15, devices='gpu', dimension=32, dir='../Dataset/mnist', dropout=0.1, epoch=1500, external_dim=64, hidden_dims=[64, 64, 100], input_dim=128, interaction='MF', lamda=1, latent_dim=10, log_interval=100, lr=0.0001, n_classes=10, n_clusters=10, n_jobs=1, node2vec=0, node2vec_batchsize=32, node2vec_dim=128, node2vec_epochs=20, node2vec_length=8, node2vec_walk=15, node2vec_windows=3, num_layers=2, order=2, part_iter=20, part_type=5, path='./datasets/data/WSDREAM/', pre_epoch=1000, pretrain=True, processed=0, random_state=1001, record=1, retrain=0, rounds=1, save_model=1, slice=1, slice_decay=0.001, slice_epochs=100, slice_lr=0.001, slices=5, verbose=10, wd=0.0005)\r\n",
      "2023-02-07 16:19:42  Dataset : rt     interaction : MF\r\n",
      "2023-02-07 16:19:42  Density : 15.00%, slice_epochs : 100, agg_epochs : 25\r\n",
      "2023-02-07 16:19:42  Part_type : 5,    slices : 5,       devices : gpu\r\n",
      "2023-02-07 16:19:42  Slice_lr : 0.008,    Slice_decay : 0.001\r\n",
      "2023-02-07 16:19:42  Agg_lr : 0.001,    Agg_decay : 0.001\r\n",
      "2023-02-07 16:19:42  Aggregation function : att\r\n",
      "------------------------------------------------------------------------------------------------------------------------\r\n",
      "2023-02-07 16:19:42  Dataset : rt     interaction : MF\r\n",
      "2023-02-07 16:19:42  Density : 15.00%, slice_epochs : 100, agg_epochs : 25\r\n",
      "2023-02-07 16:19:42  Part_type : 5,    slices : 5,       devices : gpu\r\n",
      "\r\n",
      "\r\n",
      "2023-02-07 16:19:42  Density 15.00% : MAE = 0.502, RMSE = 1.461, NMAE = 0.552, MRE = 0.440, NPRE = 1.815\r\n",
      "\r\n",
      "2023-02-07 16:19:42  Experiment success!\r\n",
      "\r\n"
     ]
    }
   ],
   "source": [
    "!python Experiment.py --dataset rt --interaction MF --rounds 1 --slices 5 --agg_epochs 25 --density 0.15 --part_type 5"
   ],
   "metadata": {
    "collapsed": false
   }
  },
  {
   "cell_type": "code",
   "execution_count": 90,
   "outputs": [
    {
     "name": "stdout",
     "output_type": "stream",
     "text": [
      "2023-02-07 16:19:43  All the experiments have been done!\r\n",
      "2023-02-07 16:19:43  Namespace(F=1, agg2=0, agg_decay=0.001, agg_epochs=25, agg_function=1, agg_lr=0.001, agg_type='att', att_decay=0.0001, att_lr=0.001, batch_size=128, beta=1, cluster='deep', cuda=True, dataset='rt', debug=0, density=0.2, devices='gpu', dimension=32, dir='../Dataset/mnist', dropout=0.1, epoch=1500, external_dim=64, hidden_dims=[64, 64, 100], input_dim=128, interaction='MF', lamda=1, latent_dim=10, log_interval=100, lr=0.0001, n_classes=10, n_clusters=10, n_jobs=1, node2vec=0, node2vec_batchsize=32, node2vec_dim=128, node2vec_epochs=20, node2vec_length=8, node2vec_walk=15, node2vec_windows=3, num_layers=2, order=2, part_iter=20, part_type=5, path='./datasets/data/WSDREAM/', pre_epoch=1000, pretrain=True, processed=0, random_state=1001, record=1, retrain=0, rounds=1, save_model=1, slice=1, slice_decay=0.001, slice_epochs=100, slice_lr=0.001, slices=5, verbose=10, wd=0.0005)\r\n",
      "2023-02-07 16:19:43  Dataset : rt     interaction : MF\r\n",
      "2023-02-07 16:19:43  Density : 20.00%, slice_epochs : 100, agg_epochs : 25\r\n",
      "2023-02-07 16:19:43  Part_type : 5,    slices : 5,       devices : gpu\r\n",
      "2023-02-07 16:19:43  Slice_lr : 0.008,    Slice_decay : 0.001\r\n",
      "2023-02-07 16:19:43  Agg_lr : 0.001,    Agg_decay : 0.001\r\n",
      "2023-02-07 16:19:43  Aggregation function : att\r\n",
      "------------------------------------------------------------------------------------------------------------------------\r\n",
      "2023-02-07 16:19:43  Dataset : rt     interaction : MF\r\n",
      "2023-02-07 16:19:43  Density : 20.00%, slice_epochs : 100, agg_epochs : 25\r\n",
      "2023-02-07 16:19:43  Part_type : 5,    slices : 5,       devices : gpu\r\n",
      "\r\n",
      "\r\n",
      "2023-02-07 16:19:43  Density 20.00% : MAE = 0.504, RMSE = 1.464, NMAE = 0.554, MRE = 0.436, NPRE = 1.906\r\n",
      "\r\n",
      "2023-02-07 16:19:43  Experiment success!\r\n",
      "\r\n"
     ]
    }
   ],
   "source": [
    "!python Experiment.py --dataset rt --interaction MF --rounds 1 --slices 5 --agg_epochs 25 --density 0.20 --part_type 5"
   ],
   "metadata": {
    "collapsed": false
   }
  },
  {
   "cell_type": "code",
   "execution_count": 91,
   "outputs": [
    {
     "name": "stdout",
     "output_type": "stream",
     "text": [
      "2023-02-07 16:19:44  All the experiments have been done!\r\n",
      "2023-02-07 16:19:44  Namespace(F=1, agg2=0, agg_decay=0.001, agg_epochs=25, agg_function=1, agg_lr=0.001, agg_type='att', att_decay=0.0001, att_lr=0.001, batch_size=128, beta=1, cluster='deep', cuda=True, dataset='rt', debug=0, density=0.25, devices='gpu', dimension=32, dir='../Dataset/mnist', dropout=0.1, epoch=1500, external_dim=64, hidden_dims=[64, 64, 100], input_dim=128, interaction='MF', lamda=1, latent_dim=10, log_interval=100, lr=0.0001, n_classes=10, n_clusters=10, n_jobs=1, node2vec=0, node2vec_batchsize=32, node2vec_dim=128, node2vec_epochs=20, node2vec_length=8, node2vec_walk=15, node2vec_windows=3, num_layers=2, order=2, part_iter=20, part_type=5, path='./datasets/data/WSDREAM/', pre_epoch=1000, pretrain=True, processed=0, random_state=1001, record=1, retrain=0, rounds=1, save_model=1, slice=1, slice_decay=0.001, slice_epochs=100, slice_lr=0.001, slices=5, verbose=10, wd=0.0005)\r\n",
      "2023-02-07 16:19:44  Dataset : rt     interaction : MF\r\n",
      "2023-02-07 16:19:44  Density : 25.00%, slice_epochs : 100, agg_epochs : 25\r\n",
      "2023-02-07 16:19:44  Part_type : 5,    slices : 5,       devices : gpu\r\n",
      "2023-02-07 16:19:44  Slice_lr : 0.008,    Slice_decay : 0.001\r\n",
      "2023-02-07 16:19:44  Agg_lr : 0.001,    Agg_decay : 0.001\r\n",
      "2023-02-07 16:19:44  Aggregation function : att\r\n",
      "------------------------------------------------------------------------------------------------------------------------\r\n",
      "2023-02-07 16:19:44  Dataset : rt     interaction : MF\r\n",
      "2023-02-07 16:19:44  Density : 25.00%, slice_epochs : 100, agg_epochs : 25\r\n",
      "2023-02-07 16:19:44  Part_type : 5,    slices : 5,       devices : gpu\r\n",
      "\r\n",
      "\r\n",
      "2023-02-07 16:19:44  Density 25.00% : MAE = 0.457, RMSE = 1.360, NMAE = 0.502, MRE = 0.409, NPRE = 1.457\r\n",
      "\r\n",
      "2023-02-07 16:19:44  Experiment success!\r\n",
      "\r\n"
     ]
    }
   ],
   "source": [
    "!python Experiment.py --dataset rt --interaction MF --rounds 1 --slices 5 --agg_epochs 25 --density 0.25 --part_type 5"
   ],
   "metadata": {
    "collapsed": false
   }
  },
  {
   "cell_type": "code",
   "execution_count": 92,
   "outputs": [
    {
     "name": "stdout",
     "output_type": "stream",
     "text": [
      "2023-02-07 16:19:45  All the experiments have been done!\r\n",
      "2023-02-07 16:19:45  Namespace(F=1, agg2=0, agg_decay=0.001, agg_epochs=25, agg_function=1, agg_lr=0.001, agg_type='att', att_decay=0.0001, att_lr=0.001, batch_size=128, beta=1, cluster='deep', cuda=True, dataset='rt', debug=0, density=0.3, devices='gpu', dimension=32, dir='../Dataset/mnist', dropout=0.1, epoch=1500, external_dim=64, hidden_dims=[64, 64, 100], input_dim=128, interaction='MF', lamda=1, latent_dim=10, log_interval=100, lr=0.0001, n_classes=10, n_clusters=10, n_jobs=1, node2vec=0, node2vec_batchsize=32, node2vec_dim=128, node2vec_epochs=20, node2vec_length=8, node2vec_walk=15, node2vec_windows=3, num_layers=2, order=2, part_iter=20, part_type=5, path='./datasets/data/WSDREAM/', pre_epoch=1000, pretrain=True, processed=0, random_state=1001, record=1, retrain=0, rounds=1, save_model=1, slice=1, slice_decay=0.001, slice_epochs=100, slice_lr=0.001, slices=5, verbose=10, wd=0.0005)\r\n",
      "2023-02-07 16:19:45  Dataset : rt     interaction : MF\r\n",
      "2023-02-07 16:19:45  Density : 30.00%, slice_epochs : 100, agg_epochs : 25\r\n",
      "2023-02-07 16:19:45  Part_type : 5,    slices : 5,       devices : gpu\r\n",
      "2023-02-07 16:19:45  Slice_lr : 0.008,    Slice_decay : 0.001\r\n",
      "2023-02-07 16:19:45  Agg_lr : 0.001,    Agg_decay : 0.001\r\n",
      "2023-02-07 16:19:45  Aggregation function : att\r\n",
      "------------------------------------------------------------------------------------------------------------------------\r\n",
      "2023-02-07 16:19:45  Dataset : rt     interaction : MF\r\n",
      "2023-02-07 16:19:45  Density : 30.00%, slice_epochs : 100, agg_epochs : 25\r\n",
      "2023-02-07 16:19:45  Part_type : 5,    slices : 5,       devices : gpu\r\n",
      "\r\n",
      "\r\n",
      "2023-02-07 16:19:45  Density 30.00% : MAE = 0.482, RMSE = 1.443, NMAE = 0.530, MRE = 0.420, NPRE = 1.831\r\n",
      "\r\n",
      "2023-02-07 16:19:45  Experiment success!\r\n",
      "\r\n"
     ]
    }
   ],
   "source": [
    "!python Experiment.py --dataset rt --interaction MF --rounds 1 --slices 5 --agg_epochs 25 --density 0.30 --part_type 5"
   ],
   "metadata": {
    "collapsed": false
   }
  },
  {
   "cell_type": "code",
   "execution_count": 93,
   "outputs": [
    {
     "name": "stdout",
     "output_type": "stream",
     "text": [
      "2023-02-07 16:19:46  All the experiments have been done!\r\n",
      "2023-02-07 16:19:46  Namespace(F=1, agg2=0, agg_decay=0.001, agg_epochs=30, agg_function=1, agg_lr=0.001, agg_type='att', att_decay=0.0001, att_lr=0.001, batch_size=128, beta=1, cluster='deep', cuda=True, dataset='tp', debug=0, density=0.1, devices='gpu', dimension=32, dir='../Dataset/mnist', dropout=0.1, epoch=1500, external_dim=64, hidden_dims=[64, 64, 100], input_dim=128, interaction='MF', lamda=1, latent_dim=10, log_interval=100, lr=0.0001, n_classes=10, n_clusters=10, n_jobs=1, node2vec=0, node2vec_batchsize=32, node2vec_dim=128, node2vec_epochs=20, node2vec_length=8, node2vec_walk=15, node2vec_windows=3, num_layers=2, order=2, part_iter=20, part_type=5, path='./datasets/data/WSDREAM/', pre_epoch=1000, pretrain=True, processed=0, random_state=1001, record=1, retrain=0, rounds=1, save_model=1, slice=1, slice_decay=0.001, slice_epochs=100, slice_lr=0.001, slices=5, verbose=10, wd=0.0005)\r\n",
      "2023-02-07 16:19:46  Dataset : tp     interaction : MF\r\n",
      "2023-02-07 16:19:46  Density : 10.00%, slice_epochs : 100, agg_epochs : 30\r\n",
      "2023-02-07 16:19:46  Part_type : 5,    slices : 5,       devices : gpu\r\n",
      "2023-02-07 16:19:46  Slice_lr : 0.008,    Slice_decay : 0.001\r\n",
      "2023-02-07 16:19:46  Agg_lr : 0.001,    Agg_decay : 0.001\r\n",
      "2023-02-07 16:19:46  Aggregation function : att\r\n",
      "------------------------------------------------------------------------------------------------------------------------\r\n",
      "2023-02-07 16:19:46  Dataset : tp     interaction : MF\r\n",
      "2023-02-07 16:19:46  Density : 10.00%, slice_epochs : 100, agg_epochs : 30\r\n",
      "2023-02-07 16:19:46  Part_type : 5,    slices : 5,       devices : gpu\r\n",
      "\r\n",
      "\r\n",
      "2023-02-07 16:19:46  Density 10.00% : MAE = 24.369, RMSE = 69.240, NMAE = 0.512, MRE = 0.487, NPRE = 2.796\r\n",
      "\r\n",
      "2023-02-07 16:19:46  Experiment success!\r\n",
      "\r\n"
     ]
    }
   ],
   "source": [
    "!python Experiment.py --dataset tp --interaction MF --rounds 1 --slices 5 --agg_epochs 30 --density 0.10 --part_type 5"
   ],
   "metadata": {
    "collapsed": false
   }
  },
  {
   "cell_type": "code",
   "execution_count": 94,
   "outputs": [
    {
     "name": "stdout",
     "output_type": "stream",
     "text": [
      "2023-02-07 16:19:47  All the experiments have been done!\r\n",
      "2023-02-07 16:19:47  Namespace(F=1, agg2=0, agg_decay=0.001, agg_epochs=30, agg_function=1, agg_lr=0.001, agg_type='att', att_decay=0.0001, att_lr=0.001, batch_size=128, beta=1, cluster='deep', cuda=True, dataset='tp', debug=0, density=0.15, devices='gpu', dimension=32, dir='../Dataset/mnist', dropout=0.1, epoch=1500, external_dim=64, hidden_dims=[64, 64, 100], input_dim=128, interaction='MF', lamda=1, latent_dim=10, log_interval=100, lr=0.0001, n_classes=10, n_clusters=10, n_jobs=1, node2vec=0, node2vec_batchsize=32, node2vec_dim=128, node2vec_epochs=20, node2vec_length=8, node2vec_walk=15, node2vec_windows=3, num_layers=2, order=2, part_iter=20, part_type=5, path='./datasets/data/WSDREAM/', pre_epoch=1000, pretrain=True, processed=0, random_state=1001, record=1, retrain=0, rounds=1, save_model=1, slice=1, slice_decay=0.001, slice_epochs=100, slice_lr=0.001, slices=5, verbose=10, wd=0.0005)\r\n",
      "2023-02-07 16:19:47  Dataset : tp     interaction : MF\r\n",
      "2023-02-07 16:19:47  Density : 15.00%, slice_epochs : 100, agg_epochs : 30\r\n",
      "2023-02-07 16:19:47  Part_type : 5,    slices : 5,       devices : gpu\r\n",
      "2023-02-07 16:19:47  Slice_lr : 0.008,    Slice_decay : 0.001\r\n",
      "2023-02-07 16:19:47  Agg_lr : 0.001,    Agg_decay : 0.001\r\n",
      "2023-02-07 16:19:47  Aggregation function : att\r\n",
      "------------------------------------------------------------------------------------------------------------------------\r\n",
      "2023-02-07 16:19:47  Dataset : tp     interaction : MF\r\n",
      "2023-02-07 16:19:47  Density : 15.00%, slice_epochs : 100, agg_epochs : 30\r\n",
      "2023-02-07 16:19:47  Part_type : 5,    slices : 5,       devices : gpu\r\n",
      "\r\n",
      "\r\n",
      "2023-02-07 16:19:47  Density 15.00% : MAE = 21.271, RMSE = 62.714, NMAE = 0.447, MRE = 0.414, NPRE = 2.083\r\n",
      "\r\n",
      "2023-02-07 16:19:47  Experiment success!\r\n",
      "\r\n"
     ]
    }
   ],
   "source": [
    "!python Experiment.py --dataset tp --interaction MF --rounds 1 --slices 5 --agg_epochs 30 --density 0.15 --part_type 5"
   ],
   "metadata": {
    "collapsed": false
   }
  },
  {
   "cell_type": "code",
   "execution_count": 95,
   "outputs": [
    {
     "name": "stdout",
     "output_type": "stream",
     "text": [
      "2023-02-07 16:19:47  All the experiments have been done!\r\n",
      "2023-02-07 16:19:47  Namespace(F=1, agg2=0, agg_decay=0.001, agg_epochs=30, agg_function=1, agg_lr=0.001, agg_type='att', att_decay=0.0001, att_lr=0.001, batch_size=128, beta=1, cluster='deep', cuda=True, dataset='tp', debug=0, density=0.2, devices='gpu', dimension=32, dir='../Dataset/mnist', dropout=0.1, epoch=1500, external_dim=64, hidden_dims=[64, 64, 100], input_dim=128, interaction='MF', lamda=1, latent_dim=10, log_interval=100, lr=0.0001, n_classes=10, n_clusters=10, n_jobs=1, node2vec=0, node2vec_batchsize=32, node2vec_dim=128, node2vec_epochs=20, node2vec_length=8, node2vec_walk=15, node2vec_windows=3, num_layers=2, order=2, part_iter=20, part_type=5, path='./datasets/data/WSDREAM/', pre_epoch=1000, pretrain=True, processed=0, random_state=1001, record=1, retrain=0, rounds=1, save_model=1, slice=1, slice_decay=0.001, slice_epochs=100, slice_lr=0.001, slices=5, verbose=10, wd=0.0005)\r\n",
      "2023-02-07 16:19:47  Dataset : tp     interaction : MF\r\n",
      "2023-02-07 16:19:47  Density : 20.00%, slice_epochs : 100, agg_epochs : 30\r\n",
      "2023-02-07 16:19:47  Part_type : 5,    slices : 5,       devices : gpu\r\n",
      "2023-02-07 16:19:47  Slice_lr : 0.008,    Slice_decay : 0.001\r\n",
      "2023-02-07 16:19:47  Agg_lr : 0.001,    Agg_decay : 0.001\r\n",
      "2023-02-07 16:19:47  Aggregation function : att\r\n",
      "------------------------------------------------------------------------------------------------------------------------\r\n",
      "2023-02-07 16:19:47  Dataset : tp     interaction : MF\r\n",
      "2023-02-07 16:19:47  Density : 20.00%, slice_epochs : 100, agg_epochs : 30\r\n",
      "2023-02-07 16:19:47  Part_type : 5,    slices : 5,       devices : gpu\r\n",
      "\r\n",
      "\r\n",
      "2023-02-07 16:19:47  Density 20.00% : MAE = 18.770, RMSE = 55.048, NMAE = 0.395, MRE = 0.380, NPRE = 1.508\r\n",
      "\r\n",
      "2023-02-07 16:19:47  Experiment success!\r\n",
      "\r\n"
     ]
    }
   ],
   "source": [
    "!python Experiment.py --dataset tp --interaction MF --rounds 1 --slices 5 --agg_epochs 30 --density 0.20 --part_type 5"
   ],
   "metadata": {
    "collapsed": false
   }
  },
  {
   "cell_type": "code",
   "execution_count": 96,
   "outputs": [
    {
     "name": "stdout",
     "output_type": "stream",
     "text": [
      "2023-02-07 16:19:48  All the experiments have been done!\r\n",
      "2023-02-07 16:19:48  Namespace(F=1, agg2=0, agg_decay=0.001, agg_epochs=30, agg_function=1, agg_lr=0.001, agg_type='att', att_decay=0.0001, att_lr=0.001, batch_size=128, beta=1, cluster='deep', cuda=True, dataset='tp', debug=0, density=0.25, devices='gpu', dimension=32, dir='../Dataset/mnist', dropout=0.1, epoch=1500, external_dim=64, hidden_dims=[64, 64, 100], input_dim=128, interaction='MF', lamda=1, latent_dim=10, log_interval=100, lr=0.0001, n_classes=10, n_clusters=10, n_jobs=1, node2vec=0, node2vec_batchsize=32, node2vec_dim=128, node2vec_epochs=20, node2vec_length=8, node2vec_walk=15, node2vec_windows=3, num_layers=2, order=2, part_iter=20, part_type=5, path='./datasets/data/WSDREAM/', pre_epoch=1000, pretrain=True, processed=0, random_state=1001, record=1, retrain=0, rounds=1, save_model=1, slice=1, slice_decay=0.001, slice_epochs=100, slice_lr=0.001, slices=5, verbose=10, wd=0.0005)\r\n",
      "2023-02-07 16:19:48  Dataset : tp     interaction : MF\r\n",
      "2023-02-07 16:19:48  Density : 25.00%, slice_epochs : 100, agg_epochs : 30\r\n",
      "2023-02-07 16:19:48  Part_type : 5,    slices : 5,       devices : gpu\r\n",
      "2023-02-07 16:19:48  Slice_lr : 0.008,    Slice_decay : 0.001\r\n",
      "2023-02-07 16:19:48  Agg_lr : 0.001,    Agg_decay : 0.001\r\n",
      "2023-02-07 16:19:48  Aggregation function : att\r\n",
      "------------------------------------------------------------------------------------------------------------------------\r\n",
      "2023-02-07 16:19:48  Dataset : tp     interaction : MF\r\n",
      "2023-02-07 16:19:48  Density : 25.00%, slice_epochs : 100, agg_epochs : 30\r\n",
      "2023-02-07 16:19:48  Part_type : 5,    slices : 5,       devices : gpu\r\n",
      "\r\n",
      "\r\n",
      "2023-02-07 16:19:48  Density 25.00% : MAE = 21.789, RMSE = 63.332, NMAE = 0.459, MRE = 0.430, NPRE = 2.049\r\n",
      "\r\n",
      "2023-02-07 16:19:48  Experiment success!\r\n",
      "\r\n"
     ]
    }
   ],
   "source": [
    "!python Experiment.py --dataset tp --interaction MF --rounds 1 --slices 5 --agg_epochs 30 --density 0.25 --part_type 5"
   ],
   "metadata": {
    "collapsed": false
   }
  },
  {
   "cell_type": "code",
   "execution_count": 97,
   "outputs": [
    {
     "name": "stdout",
     "output_type": "stream",
     "text": [
      "2023-02-07 16:19:49  All the experiments have been done!\r\n",
      "2023-02-07 16:19:49  Namespace(F=1, agg2=0, agg_decay=0.001, agg_epochs=30, agg_function=1, agg_lr=0.001, agg_type='att', att_decay=0.0001, att_lr=0.001, batch_size=128, beta=1, cluster='deep', cuda=True, dataset='tp', debug=0, density=0.3, devices='gpu', dimension=32, dir='../Dataset/mnist', dropout=0.1, epoch=1500, external_dim=64, hidden_dims=[64, 64, 100], input_dim=128, interaction='MF', lamda=1, latent_dim=10, log_interval=100, lr=0.0001, n_classes=10, n_clusters=10, n_jobs=1, node2vec=0, node2vec_batchsize=32, node2vec_dim=128, node2vec_epochs=20, node2vec_length=8, node2vec_walk=15, node2vec_windows=3, num_layers=2, order=2, part_iter=20, part_type=5, path='./datasets/data/WSDREAM/', pre_epoch=1000, pretrain=True, processed=0, random_state=1001, record=1, retrain=0, rounds=1, save_model=1, slice=1, slice_decay=0.001, slice_epochs=100, slice_lr=0.001, slices=5, verbose=10, wd=0.0005)\r\n",
      "2023-02-07 16:19:49  Dataset : tp     interaction : MF\r\n",
      "2023-02-07 16:19:49  Density : 30.00%, slice_epochs : 100, agg_epochs : 30\r\n",
      "2023-02-07 16:19:49  Part_type : 5,    slices : 5,       devices : gpu\r\n",
      "2023-02-07 16:19:49  Slice_lr : 0.008,    Slice_decay : 0.001\r\n",
      "2023-02-07 16:19:49  Agg_lr : 0.001,    Agg_decay : 0.001\r\n",
      "2023-02-07 16:19:49  Aggregation function : att\r\n",
      "------------------------------------------------------------------------------------------------------------------------\r\n",
      "2023-02-07 16:19:49  Dataset : tp     interaction : MF\r\n",
      "2023-02-07 16:19:49  Density : 30.00%, slice_epochs : 100, agg_epochs : 30\r\n",
      "2023-02-07 16:19:49  Part_type : 5,    slices : 5,       devices : gpu\r\n",
      "\r\n",
      "\r\n",
      "2023-02-07 16:19:49  Density 30.00% : MAE = 18.649, RMSE = 55.692, NMAE = 0.392, MRE = 0.362, NPRE = 1.711\r\n",
      "\r\n",
      "2023-02-07 16:19:49  Experiment success!\r\n",
      "\r\n"
     ]
    }
   ],
   "source": [
    "!python Experiment.py --dataset tp --interaction MF --rounds 1 --slices 5 --agg_epochs 30 --density 0.30 --part_type 5"
   ],
   "metadata": {
    "collapsed": false
   }
  },
  {
   "cell_type": "code",
   "execution_count": 98,
   "outputs": [
    {
     "name": "stdout",
     "output_type": "stream",
     "text": [
      "2023-02-07 16:19:50  All the experiments have been done!\r\n",
      "2023-02-07 16:19:50  Namespace(F=1, agg2=0, agg_decay=0.001, agg_epochs=12, agg_function=1, agg_lr=0.001, agg_type='att', att_decay=0.0001, att_lr=0.001, batch_size=128, beta=1, cluster='deep', cuda=True, dataset='rt', debug=0, density=0.1, devices='gpu', dimension=32, dir='../Dataset/mnist', dropout=0.1, epoch=1500, external_dim=64, hidden_dims=[64, 64, 100], input_dim=128, interaction='GraphMF', lamda=1, latent_dim=10, log_interval=100, lr=0.0001, n_classes=10, n_clusters=10, n_jobs=1, node2vec=0, node2vec_batchsize=32, node2vec_dim=128, node2vec_epochs=20, node2vec_length=8, node2vec_walk=15, node2vec_windows=3, num_layers=2, order=2, part_iter=20, part_type=5, path='./datasets/data/WSDREAM/', pre_epoch=1000, pretrain=True, processed=0, random_state=1001, record=1, retrain=0, rounds=1, save_model=1, slice=1, slice_decay=0.001, slice_epochs=100, slice_lr=0.001, slices=5, verbose=10, wd=0.0005)\r\n",
      "2023-02-07 16:19:50  Dataset : rt     interaction : GraphMF\r\n",
      "2023-02-07 16:19:50  Density : 10.00%, slice_epochs : 15, agg_epochs : 12\r\n",
      "2023-02-07 16:19:50  Part_type : 5,    slices : 5,       devices : gpu\r\n",
      "2023-02-07 16:19:50  Slice_lr : 0.01,    Slice_decay : 0.001\r\n",
      "2023-02-07 16:19:50  Agg_lr : 0.001,    Agg_decay : 0.001\r\n",
      "2023-02-07 16:19:50  Aggregation function : att\r\n",
      "------------------------------------------------------------------------------------------------------------------------\r\n",
      "2023-02-07 16:19:50  Dataset : rt     interaction : GraphMF\r\n",
      "2023-02-07 16:19:50  Density : 10.00%, slice_epochs : 15, agg_epochs : 12\r\n",
      "2023-02-07 16:19:50  Part_type : 5,    slices : 5,       devices : gpu\r\n",
      "\r\n",
      "\r\n",
      "2023-02-07 16:19:50  Density 10.00% : MAE = 0.391, RMSE = 1.303, NMAE = 0.430, MRE = 0.292, NPRE = 1.452\r\n",
      "\r\n",
      "2023-02-07 16:19:50  Experiment success!\r\n",
      "\r\n"
     ]
    }
   ],
   "source": [
    "!python Experiment.py --dataset rt --interaction GraphMF --rounds 1 --slices 5 --agg_epochs 12 --density 0.10 --part_type 5"
   ],
   "metadata": {
    "collapsed": false
   }
  },
  {
   "cell_type": "code",
   "execution_count": 99,
   "outputs": [
    {
     "name": "stdout",
     "output_type": "stream",
     "text": [
      "2023-02-07 16:19:51  All the experiments have been done!\r\n",
      "2023-02-07 16:19:51  Namespace(F=1, agg2=0, agg_decay=0.001, agg_epochs=12, agg_function=1, agg_lr=0.001, agg_type='att', att_decay=0.0001, att_lr=0.001, batch_size=128, beta=1, cluster='deep', cuda=True, dataset='rt', debug=0, density=0.15, devices='gpu', dimension=32, dir='../Dataset/mnist', dropout=0.1, epoch=1500, external_dim=64, hidden_dims=[64, 64, 100], input_dim=128, interaction='GraphMF', lamda=1, latent_dim=10, log_interval=100, lr=0.0001, n_classes=10, n_clusters=10, n_jobs=1, node2vec=0, node2vec_batchsize=32, node2vec_dim=128, node2vec_epochs=20, node2vec_length=8, node2vec_walk=15, node2vec_windows=3, num_layers=2, order=2, part_iter=20, part_type=5, path='./datasets/data/WSDREAM/', pre_epoch=1000, pretrain=True, processed=0, random_state=1001, record=1, retrain=0, rounds=1, save_model=1, slice=1, slice_decay=0.001, slice_epochs=100, slice_lr=0.001, slices=5, verbose=10, wd=0.0005)\r\n",
      "2023-02-07 16:19:51  Dataset : rt     interaction : GraphMF\r\n",
      "2023-02-07 16:19:51  Density : 15.00%, slice_epochs : 15, agg_epochs : 12\r\n",
      "2023-02-07 16:19:51  Part_type : 5,    slices : 5,       devices : gpu\r\n",
      "2023-02-07 16:19:51  Slice_lr : 0.01,    Slice_decay : 0.001\r\n",
      "2023-02-07 16:19:51  Agg_lr : 0.001,    Agg_decay : 0.001\r\n",
      "2023-02-07 16:19:51  Aggregation function : att\r\n",
      "------------------------------------------------------------------------------------------------------------------------\r\n",
      "2023-02-07 16:19:51  Dataset : rt     interaction : GraphMF\r\n",
      "2023-02-07 16:19:51  Density : 15.00%, slice_epochs : 15, agg_epochs : 12\r\n",
      "2023-02-07 16:19:51  Part_type : 5,    slices : 5,       devices : gpu\r\n",
      "\r\n",
      "\r\n",
      "2023-02-07 16:19:51  Density 15.00% : MAE = 0.361, RMSE = 1.266, NMAE = 0.397, MRE = 0.235, NPRE = 1.041\r\n",
      "\r\n",
      "2023-02-07 16:19:51  Experiment success!\r\n",
      "\r\n"
     ]
    }
   ],
   "source": [
    "!python Experiment.py --dataset rt --interaction GraphMF --rounds 1 --slices 5 --agg_epochs 12 --density 0.15 --part_type 5"
   ],
   "metadata": {
    "collapsed": false
   }
  },
  {
   "cell_type": "code",
   "execution_count": 100,
   "outputs": [
    {
     "name": "stdout",
     "output_type": "stream",
     "text": [
      "2023-02-07 16:19:52  All the experiments have been done!\r\n",
      "2023-02-07 16:19:52  Namespace(F=1, agg2=0, agg_decay=0.001, agg_epochs=12, agg_function=1, agg_lr=0.001, agg_type='att', att_decay=0.0001, att_lr=0.001, batch_size=128, beta=1, cluster='deep', cuda=True, dataset='rt', debug=0, density=0.2, devices='gpu', dimension=32, dir='../Dataset/mnist', dropout=0.1, epoch=1500, external_dim=64, hidden_dims=[64, 64, 100], input_dim=128, interaction='GraphMF', lamda=1, latent_dim=10, log_interval=100, lr=0.0001, n_classes=10, n_clusters=10, n_jobs=1, node2vec=0, node2vec_batchsize=32, node2vec_dim=128, node2vec_epochs=20, node2vec_length=8, node2vec_walk=15, node2vec_windows=3, num_layers=2, order=2, part_iter=20, part_type=5, path='./datasets/data/WSDREAM/', pre_epoch=1000, pretrain=True, processed=0, random_state=1001, record=1, retrain=0, rounds=1, save_model=1, slice=1, slice_decay=0.001, slice_epochs=100, slice_lr=0.001, slices=5, verbose=10, wd=0.0005)\r\n",
      "2023-02-07 16:19:52  Dataset : rt     interaction : GraphMF\r\n",
      "2023-02-07 16:19:52  Density : 20.00%, slice_epochs : 15, agg_epochs : 12\r\n",
      "2023-02-07 16:19:52  Part_type : 5,    slices : 5,       devices : gpu\r\n",
      "2023-02-07 16:19:52  Slice_lr : 0.01,    Slice_decay : 0.001\r\n",
      "2023-02-07 16:19:52  Agg_lr : 0.001,    Agg_decay : 0.001\r\n",
      "2023-02-07 16:19:52  Aggregation function : att\r\n",
      "------------------------------------------------------------------------------------------------------------------------\r\n",
      "2023-02-07 16:19:52  Dataset : rt     interaction : GraphMF\r\n",
      "2023-02-07 16:19:52  Density : 20.00%, slice_epochs : 15, agg_epochs : 12\r\n",
      "2023-02-07 16:19:52  Part_type : 5,    slices : 5,       devices : gpu\r\n",
      "\r\n",
      "\r\n",
      "2023-02-07 16:19:52  Density 20.00% : MAE = 0.352, RMSE = 1.259, NMAE = 0.387, MRE = 0.215, NPRE = 0.909\r\n",
      "\r\n",
      "2023-02-07 16:19:52  Experiment success!\r\n",
      "\r\n"
     ]
    }
   ],
   "source": [
    "!python Experiment.py --dataset rt --interaction GraphMF --rounds 1 --slices 5 --agg_epochs 12 --density 0.20 --part_type 5"
   ],
   "metadata": {
    "collapsed": false
   }
  },
  {
   "cell_type": "code",
   "execution_count": 101,
   "outputs": [
    {
     "name": "stdout",
     "output_type": "stream",
     "text": [
      "2023-02-07 16:19:53  All the experiments have been done!\r\n",
      "2023-02-07 16:19:53  Namespace(F=1, agg2=0, agg_decay=0.001, agg_epochs=12, agg_function=1, agg_lr=0.001, agg_type='att', att_decay=0.0001, att_lr=0.001, batch_size=128, beta=1, cluster='deep', cuda=True, dataset='rt', debug=0, density=0.25, devices='gpu', dimension=32, dir='../Dataset/mnist', dropout=0.1, epoch=1500, external_dim=64, hidden_dims=[64, 64, 100], input_dim=128, interaction='GraphMF', lamda=1, latent_dim=10, log_interval=100, lr=0.0001, n_classes=10, n_clusters=10, n_jobs=1, node2vec=0, node2vec_batchsize=32, node2vec_dim=128, node2vec_epochs=20, node2vec_length=8, node2vec_walk=15, node2vec_windows=3, num_layers=2, order=2, part_iter=20, part_type=5, path='./datasets/data/WSDREAM/', pre_epoch=1000, pretrain=True, processed=0, random_state=1001, record=1, retrain=0, rounds=1, save_model=1, slice=1, slice_decay=0.001, slice_epochs=100, slice_lr=0.001, slices=5, verbose=10, wd=0.0005)\r\n",
      "2023-02-07 16:19:53  Dataset : rt     interaction : GraphMF\r\n",
      "2023-02-07 16:19:53  Density : 25.00%, slice_epochs : 15, agg_epochs : 12\r\n",
      "2023-02-07 16:19:53  Part_type : 5,    slices : 5,       devices : gpu\r\n",
      "2023-02-07 16:19:53  Slice_lr : 0.01,    Slice_decay : 0.001\r\n",
      "2023-02-07 16:19:53  Agg_lr : 0.001,    Agg_decay : 0.001\r\n",
      "2023-02-07 16:19:53  Aggregation function : att\r\n",
      "------------------------------------------------------------------------------------------------------------------------\r\n",
      "2023-02-07 16:19:53  Dataset : rt     interaction : GraphMF\r\n",
      "2023-02-07 16:19:53  Density : 25.00%, slice_epochs : 15, agg_epochs : 12\r\n",
      "2023-02-07 16:19:53  Part_type : 5,    slices : 5,       devices : gpu\r\n",
      "\r\n",
      "\r\n",
      "2023-02-07 16:19:53  Density 25.00% : MAE = 0.344, RMSE = 1.232, NMAE = 0.379, MRE = 0.209, NPRE = 0.892\r\n",
      "\r\n",
      "2023-02-07 16:19:53  Experiment success!\r\n",
      "\r\n"
     ]
    }
   ],
   "source": [
    "!python Experiment.py --dataset rt --interaction GraphMF --rounds 1 --slices 5 --agg_epochs 12 --density 0.25 --part_type 5"
   ],
   "metadata": {
    "collapsed": false
   }
  },
  {
   "cell_type": "code",
   "execution_count": 102,
   "outputs": [
    {
     "name": "stdout",
     "output_type": "stream",
     "text": [
      "2023-02-07 16:19:54  All the experiments have been done!\r\n",
      "2023-02-07 16:19:54  Namespace(F=1, agg2=0, agg_decay=0.001, agg_epochs=12, agg_function=1, agg_lr=0.001, agg_type='att', att_decay=0.0001, att_lr=0.001, batch_size=128, beta=1, cluster='deep', cuda=True, dataset='rt', debug=0, density=0.3, devices='gpu', dimension=32, dir='../Dataset/mnist', dropout=0.1, epoch=1500, external_dim=64, hidden_dims=[64, 64, 100], input_dim=128, interaction='GraphMF', lamda=1, latent_dim=10, log_interval=100, lr=0.0001, n_classes=10, n_clusters=10, n_jobs=1, node2vec=0, node2vec_batchsize=32, node2vec_dim=128, node2vec_epochs=20, node2vec_length=8, node2vec_walk=15, node2vec_windows=3, num_layers=2, order=2, part_iter=20, part_type=5, path='./datasets/data/WSDREAM/', pre_epoch=1000, pretrain=True, processed=0, random_state=1001, record=1, retrain=0, rounds=1, save_model=1, slice=1, slice_decay=0.001, slice_epochs=100, slice_lr=0.001, slices=5, verbose=10, wd=0.0005)\r\n",
      "2023-02-07 16:19:54  Dataset : rt     interaction : GraphMF\r\n",
      "2023-02-07 16:19:54  Density : 30.00%, slice_epochs : 15, agg_epochs : 12\r\n",
      "2023-02-07 16:19:54  Part_type : 5,    slices : 5,       devices : gpu\r\n",
      "2023-02-07 16:19:54  Slice_lr : 0.01,    Slice_decay : 0.001\r\n",
      "2023-02-07 16:19:54  Agg_lr : 0.001,    Agg_decay : 0.001\r\n",
      "2023-02-07 16:19:54  Aggregation function : att\r\n",
      "------------------------------------------------------------------------------------------------------------------------\r\n",
      "2023-02-07 16:19:54  Dataset : rt     interaction : GraphMF\r\n",
      "2023-02-07 16:19:54  Density : 30.00%, slice_epochs : 15, agg_epochs : 12\r\n",
      "2023-02-07 16:19:54  Part_type : 5,    slices : 5,       devices : gpu\r\n",
      "\r\n",
      "\r\n",
      "2023-02-07 16:19:54  Density 30.00% : MAE = 0.327, RMSE = 1.210, NMAE = 0.359, MRE = 0.190, NPRE = 0.851\r\n",
      "\r\n",
      "2023-02-07 16:19:54  Experiment success!\r\n",
      "\r\n"
     ]
    }
   ],
   "source": [
    "!python Experiment.py --dataset rt --interaction GraphMF --rounds 1 --slices 5 --agg_epochs 12 --density 0.30 --part_type 5"
   ],
   "metadata": {
    "collapsed": false
   }
  },
  {
   "cell_type": "code",
   "execution_count": 103,
   "outputs": [
    {
     "name": "stdout",
     "output_type": "stream",
     "text": [
      "2023-02-07 16:19:55  All the experiments have been done!\r\n",
      "2023-02-07 16:19:55  Namespace(F=1, agg2=0, agg_decay=0.001, agg_epochs=15, agg_function=1, agg_lr=0.001, agg_type='att', att_decay=0.0001, att_lr=0.001, batch_size=128, beta=1, cluster='deep', cuda=True, dataset='tp', debug=0, density=0.1, devices='gpu', dimension=32, dir='../Dataset/mnist', dropout=0.1, epoch=1500, external_dim=64, hidden_dims=[64, 64, 100], input_dim=128, interaction='GraphMF', lamda=1, latent_dim=10, log_interval=100, lr=0.0001, n_classes=10, n_clusters=10, n_jobs=1, node2vec=0, node2vec_batchsize=32, node2vec_dim=128, node2vec_epochs=20, node2vec_length=8, node2vec_walk=15, node2vec_windows=3, num_layers=2, order=2, part_iter=20, part_type=5, path='./datasets/data/WSDREAM/', pre_epoch=1000, pretrain=True, processed=0, random_state=1001, record=1, retrain=0, rounds=1, save_model=1, slice=1, slice_decay=0.001, slice_epochs=100, slice_lr=0.001, slices=5, verbose=10, wd=0.0005)\r\n",
      "2023-02-07 16:19:55  Dataset : tp     interaction : GraphMF\r\n",
      "2023-02-07 16:19:55  Density : 10.00%, slice_epochs : 15, agg_epochs : 15\r\n",
      "2023-02-07 16:19:55  Part_type : 5,    slices : 5,       devices : gpu\r\n",
      "2023-02-07 16:19:55  Slice_lr : 0.01,    Slice_decay : 0.001\r\n",
      "2023-02-07 16:19:55  Agg_lr : 0.001,    Agg_decay : 0.001\r\n",
      "2023-02-07 16:19:55  Aggregation function : att\r\n",
      "------------------------------------------------------------------------------------------------------------------------\r\n",
      "2023-02-07 16:19:55  Dataset : tp     interaction : GraphMF\r\n",
      "2023-02-07 16:19:55  Density : 10.00%, slice_epochs : 15, agg_epochs : 15\r\n",
      "2023-02-07 16:19:55  Part_type : 5,    slices : 5,       devices : gpu\r\n",
      "\r\n",
      "\r\n",
      "2023-02-07 16:19:55  Density 10.00% : MAE = 15.954, RMSE = 50.558, NMAE = 0.335, MRE = 0.247, NPRE = 1.160\r\n",
      "\r\n",
      "2023-02-07 16:19:55  Experiment success!\r\n",
      "\r\n"
     ]
    }
   ],
   "source": [
    "!python Experiment.py --dataset tp --interaction GraphMF --rounds 1 --slices 5 --agg_epochs 15 --density 0.10 --part_type 5"
   ],
   "metadata": {
    "collapsed": false
   }
  },
  {
   "cell_type": "code",
   "execution_count": 104,
   "outputs": [
    {
     "name": "stdout",
     "output_type": "stream",
     "text": [
      "2023-02-07 16:19:56  All the experiments have been done!\r\n",
      "2023-02-07 16:19:56  Namespace(F=1, agg2=0, agg_decay=0.001, agg_epochs=15, agg_function=1, agg_lr=0.001, agg_type='att', att_decay=0.0001, att_lr=0.001, batch_size=128, beta=1, cluster='deep', cuda=True, dataset='tp', debug=0, density=0.15, devices='gpu', dimension=32, dir='../Dataset/mnist', dropout=0.1, epoch=1500, external_dim=64, hidden_dims=[64, 64, 100], input_dim=128, interaction='GraphMF', lamda=1, latent_dim=10, log_interval=100, lr=0.0001, n_classes=10, n_clusters=10, n_jobs=1, node2vec=0, node2vec_batchsize=32, node2vec_dim=128, node2vec_epochs=20, node2vec_length=8, node2vec_walk=15, node2vec_windows=3, num_layers=2, order=2, part_iter=20, part_type=5, path='./datasets/data/WSDREAM/', pre_epoch=1000, pretrain=True, processed=0, random_state=1001, record=1, retrain=0, rounds=1, save_model=1, slice=1, slice_decay=0.001, slice_epochs=100, slice_lr=0.001, slices=5, verbose=10, wd=0.0005)\r\n",
      "2023-02-07 16:19:56  Dataset : tp     interaction : GraphMF\r\n",
      "2023-02-07 16:19:56  Density : 15.00%, slice_epochs : 15, agg_epochs : 15\r\n",
      "2023-02-07 16:19:56  Part_type : 5,    slices : 5,       devices : gpu\r\n",
      "2023-02-07 16:19:56  Slice_lr : 0.01,    Slice_decay : 0.001\r\n",
      "2023-02-07 16:19:56  Agg_lr : 0.001,    Agg_decay : 0.001\r\n",
      "2023-02-07 16:19:56  Aggregation function : att\r\n",
      "------------------------------------------------------------------------------------------------------------------------\r\n",
      "2023-02-07 16:19:56  Dataset : tp     interaction : GraphMF\r\n",
      "2023-02-07 16:19:56  Density : 15.00%, slice_epochs : 15, agg_epochs : 15\r\n",
      "2023-02-07 16:19:56  Part_type : 5,    slices : 5,       devices : gpu\r\n",
      "\r\n",
      "\r\n",
      "2023-02-07 16:19:56  Density 15.00% : MAE = 14.496, RMSE = 47.437, NMAE = 0.305, MRE = 0.228, NPRE = 0.965\r\n",
      "\r\n",
      "2023-02-07 16:19:56  Experiment success!\r\n",
      "\r\n"
     ]
    }
   ],
   "source": [
    "!python Experiment.py --dataset tp --interaction GraphMF --rounds 1 --slices 5 --agg_epochs 15 --density 0.15 --part_type 5"
   ],
   "metadata": {
    "collapsed": false
   }
  },
  {
   "cell_type": "code",
   "execution_count": 105,
   "outputs": [
    {
     "name": "stdout",
     "output_type": "stream",
     "text": [
      "2023-02-07 16:19:57  All the experiments have been done!\r\n",
      "2023-02-07 16:19:57  Namespace(F=1, agg2=0, agg_decay=0.001, agg_epochs=15, agg_function=1, agg_lr=0.001, agg_type='att', att_decay=0.0001, att_lr=0.001, batch_size=128, beta=1, cluster='deep', cuda=True, dataset='tp', debug=0, density=0.2, devices='gpu', dimension=32, dir='../Dataset/mnist', dropout=0.1, epoch=1500, external_dim=64, hidden_dims=[64, 64, 100], input_dim=128, interaction='GraphMF', lamda=1, latent_dim=10, log_interval=100, lr=0.0001, n_classes=10, n_clusters=10, n_jobs=1, node2vec=0, node2vec_batchsize=32, node2vec_dim=128, node2vec_epochs=20, node2vec_length=8, node2vec_walk=15, node2vec_windows=3, num_layers=2, order=2, part_iter=20, part_type=5, path='./datasets/data/WSDREAM/', pre_epoch=1000, pretrain=True, processed=0, random_state=1001, record=1, retrain=0, rounds=1, save_model=1, slice=1, slice_decay=0.001, slice_epochs=100, slice_lr=0.001, slices=5, verbose=10, wd=0.0005)\r\n",
      "2023-02-07 16:19:57  Dataset : tp     interaction : GraphMF\r\n",
      "2023-02-07 16:19:57  Density : 20.00%, slice_epochs : 15, agg_epochs : 15\r\n",
      "2023-02-07 16:19:57  Part_type : 5,    slices : 5,       devices : gpu\r\n",
      "2023-02-07 16:19:57  Slice_lr : 0.01,    Slice_decay : 0.001\r\n",
      "2023-02-07 16:19:57  Agg_lr : 0.001,    Agg_decay : 0.001\r\n",
      "2023-02-07 16:19:57  Aggregation function : att\r\n",
      "------------------------------------------------------------------------------------------------------------------------\r\n",
      "2023-02-07 16:19:57  Dataset : tp     interaction : GraphMF\r\n",
      "2023-02-07 16:19:57  Density : 20.00%, slice_epochs : 15, agg_epochs : 15\r\n",
      "2023-02-07 16:19:57  Part_type : 5,    slices : 5,       devices : gpu\r\n",
      "\r\n",
      "\r\n",
      "2023-02-07 16:19:57  Density 20.00% : MAE = 13.087, RMSE = 44.426, NMAE = 0.275, MRE = 0.199, NPRE = 0.858\r\n",
      "\r\n",
      "2023-02-07 16:19:57  Experiment success!\r\n",
      "\r\n"
     ]
    }
   ],
   "source": [
    "!python Experiment.py --dataset tp --interaction GraphMF --rounds 1 --slices 5 --agg_epochs 15 --density 0.20 --part_type 5"
   ],
   "metadata": {
    "collapsed": false
   }
  },
  {
   "cell_type": "code",
   "execution_count": 106,
   "outputs": [
    {
     "name": "stdout",
     "output_type": "stream",
     "text": [
      "2023-02-07 16:19:57  All the experiments have been done!\r\n",
      "2023-02-07 16:19:57  Namespace(F=1, agg2=0, agg_decay=0.001, agg_epochs=15, agg_function=1, agg_lr=0.001, agg_type='att', att_decay=0.0001, att_lr=0.001, batch_size=128, beta=1, cluster='deep', cuda=True, dataset='tp', debug=0, density=0.25, devices='gpu', dimension=32, dir='../Dataset/mnist', dropout=0.1, epoch=1500, external_dim=64, hidden_dims=[64, 64, 100], input_dim=128, interaction='GraphMF', lamda=1, latent_dim=10, log_interval=100, lr=0.0001, n_classes=10, n_clusters=10, n_jobs=1, node2vec=0, node2vec_batchsize=32, node2vec_dim=128, node2vec_epochs=20, node2vec_length=8, node2vec_walk=15, node2vec_windows=3, num_layers=2, order=2, part_iter=20, part_type=5, path='./datasets/data/WSDREAM/', pre_epoch=1000, pretrain=True, processed=0, random_state=1001, record=1, retrain=0, rounds=1, save_model=1, slice=1, slice_decay=0.001, slice_epochs=100, slice_lr=0.001, slices=5, verbose=10, wd=0.0005)\r\n",
      "2023-02-07 16:19:57  Dataset : tp     interaction : GraphMF\r\n",
      "2023-02-07 16:19:57  Density : 25.00%, slice_epochs : 15, agg_epochs : 15\r\n",
      "2023-02-07 16:19:57  Part_type : 5,    slices : 5,       devices : gpu\r\n",
      "2023-02-07 16:19:57  Slice_lr : 0.01,    Slice_decay : 0.001\r\n",
      "2023-02-07 16:19:57  Agg_lr : 0.001,    Agg_decay : 0.001\r\n",
      "2023-02-07 16:19:57  Aggregation function : att\r\n",
      "------------------------------------------------------------------------------------------------------------------------\r\n",
      "2023-02-07 16:19:57  Dataset : tp     interaction : GraphMF\r\n",
      "2023-02-07 16:19:57  Density : 25.00%, slice_epochs : 15, agg_epochs : 15\r\n",
      "2023-02-07 16:19:57  Part_type : 5,    slices : 5,       devices : gpu\r\n",
      "\r\n",
      "\r\n",
      "2023-02-07 16:19:57  Density 25.00% : MAE = 12.685, RMSE = 43.076, NMAE = 0.267, MRE = 0.195, NPRE = 0.823\r\n",
      "\r\n",
      "2023-02-07 16:19:57  Experiment success!\r\n",
      "\r\n"
     ]
    }
   ],
   "source": [
    "!python Experiment.py --dataset tp --interaction GraphMF --rounds 1 --slices 5 --agg_epochs 15 --density 0.25 --part_type 5"
   ],
   "metadata": {
    "collapsed": false
   }
  },
  {
   "cell_type": "code",
   "execution_count": 107,
   "outputs": [
    {
     "name": "stdout",
     "output_type": "stream",
     "text": [
      "2023-02-07 16:19:58  All the experiments have been done!\r\n",
      "2023-02-07 16:19:58  Namespace(F=1, agg2=0, agg_decay=0.001, agg_epochs=15, agg_function=1, agg_lr=0.001, agg_type='att', att_decay=0.0001, att_lr=0.001, batch_size=128, beta=1, cluster='deep', cuda=True, dataset='tp', debug=0, density=0.3, devices='gpu', dimension=32, dir='../Dataset/mnist', dropout=0.1, epoch=1500, external_dim=64, hidden_dims=[64, 64, 100], input_dim=128, interaction='GraphMF', lamda=1, latent_dim=10, log_interval=100, lr=0.0001, n_classes=10, n_clusters=10, n_jobs=1, node2vec=0, node2vec_batchsize=32, node2vec_dim=128, node2vec_epochs=20, node2vec_length=8, node2vec_walk=15, node2vec_windows=3, num_layers=2, order=2, part_iter=20, part_type=5, path='./datasets/data/WSDREAM/', pre_epoch=1000, pretrain=True, processed=0, random_state=1001, record=1, retrain=0, rounds=1, save_model=1, slice=1, slice_decay=0.001, slice_epochs=100, slice_lr=0.001, slices=5, verbose=10, wd=0.0005)\r\n",
      "2023-02-07 16:19:58  Dataset : tp     interaction : GraphMF\r\n",
      "2023-02-07 16:19:58  Density : 30.00%, slice_epochs : 15, agg_epochs : 15\r\n",
      "2023-02-07 16:19:58  Part_type : 5,    slices : 5,       devices : gpu\r\n",
      "2023-02-07 16:19:58  Slice_lr : 0.01,    Slice_decay : 0.001\r\n",
      "2023-02-07 16:19:58  Agg_lr : 0.001,    Agg_decay : 0.001\r\n",
      "2023-02-07 16:19:58  Aggregation function : att\r\n",
      "------------------------------------------------------------------------------------------------------------------------\r\n",
      "2023-02-07 16:19:58  Dataset : tp     interaction : GraphMF\r\n",
      "2023-02-07 16:19:58  Density : 30.00%, slice_epochs : 15, agg_epochs : 15\r\n",
      "2023-02-07 16:19:58  Part_type : 5,    slices : 5,       devices : gpu\r\n",
      "\r\n",
      "\r\n",
      "2023-02-07 16:19:58  Density 30.00% : MAE = 11.949, RMSE = 41.309, NMAE = 0.251, MRE = 0.179, NPRE = 0.819\r\n",
      "\r\n",
      "2023-02-07 16:19:58  Experiment success!\r\n",
      "\r\n"
     ]
    }
   ],
   "source": [
    "!python Experiment.py --dataset tp --interaction GraphMF --rounds 1 --slices 5 --agg_epochs 15 --density 0.30 --part_type 5"
   ],
   "metadata": {
    "collapsed": false
   }
  },
  {
   "cell_type": "code",
   "execution_count": 108,
   "outputs": [
    {
     "name": "stdout",
     "output_type": "stream",
     "text": [
      "2023-02-07 16:19:59  All the experiments have been done!\r\n",
      "2023-02-07 16:19:59  Namespace(F=1, agg2=0, agg_decay=0.001, agg_epochs=12, agg_function=1, agg_lr=0.001, agg_type='att', att_decay=0.0001, att_lr=0.001, batch_size=128, beta=1, cluster='deep', cuda=True, dataset='rt', debug=0, density=0.1, devices='gpu', dimension=32, dir='../Dataset/mnist', dropout=0.1, epoch=1500, external_dim=64, hidden_dims=[64, 64, 100], input_dim=128, interaction='NeuCF', lamda=1, latent_dim=10, log_interval=100, lr=0.0001, n_classes=10, n_clusters=10, n_jobs=1, node2vec=0, node2vec_batchsize=32, node2vec_dim=128, node2vec_epochs=20, node2vec_length=8, node2vec_walk=15, node2vec_windows=3, num_layers=2, order=2, part_iter=20, part_type=1, path='./datasets/data/WSDREAM/', pre_epoch=1000, pretrain=True, processed=0, random_state=1001, record=1, retrain=0, rounds=1, save_model=1, slice=1, slice_decay=0.001, slice_epochs=100, slice_lr=0.001, slices=5, verbose=10, wd=0.0005)\r\n",
      "2023-02-07 16:19:59  Dataset : rt     interaction : NeuCF\r\n",
      "2023-02-07 16:19:59  Density : 10.00%, slice_epochs : 100, agg_epochs : 12\r\n",
      "2023-02-07 16:19:59  Part_type : 1,    slices : 5,       devices : gpu\r\n",
      "2023-02-07 16:19:59  Slice_lr : 0.004,    Slice_decay : 0.001\r\n",
      "2023-02-07 16:19:59  Agg_lr : 0.001,    Agg_decay : 0.001\r\n",
      "2023-02-07 16:19:59  Aggregation function : mean\r\n",
      "------------------------------------------------------------------------------------------------------------------------\r\n",
      "2023-02-07 16:19:59  Dataset : rt     interaction : NeuCF\r\n",
      "2023-02-07 16:19:59  Density : 10.00%, slice_epochs : 100, agg_epochs : 12\r\n",
      "2023-02-07 16:19:59  Part_type : 1,    slices : 5,       devices : gpu\r\n",
      "\r\n",
      "\r\n",
      "2023-02-07 16:19:59  Density 10.00% : MAE = 0.475, RMSE = 1.406, NMAE = 0.523, MRE = 0.408, NPRE = 2.244\r\n",
      "\r\n",
      "2023-02-07 16:19:59  Experiment success!\r\n",
      "\r\n"
     ]
    }
   ],
   "source": [
    "!python Experiment.py --dataset rt --interaction NeuCF --rounds 1 --slices 5 --agg_epochs 12 --density 0.10 --part_type 1"
   ],
   "metadata": {
    "collapsed": false
   }
  },
  {
   "cell_type": "code",
   "execution_count": null,
   "outputs": [],
   "source": [
    "!python Experiment.py --dataset rt --interaction NeuCF --rounds 1 --slices 5 --agg_epochs 12 --density 0.10 --part_type 3"
   ],
   "metadata": {
    "collapsed": false
   }
  },
  {
   "cell_type": "code",
   "execution_count": null,
   "outputs": [],
   "source": [
    "!python Experiment.py --dataset rt --interaction NeuCF --rounds 1 --slices 5 --agg_epochs 12 --density 0.15 --part_type 1"
   ],
   "metadata": {
    "collapsed": false
   }
  },
  {
   "cell_type": "code",
   "execution_count": null,
   "outputs": [],
   "source": [
    "!python Experiment.py --dataset rt --interaction NeuCF --rounds 1 --slices 5 --agg_epochs 12 --density 0.15 --part_type 3"
   ],
   "metadata": {
    "collapsed": false
   }
  },
  {
   "cell_type": "code",
   "execution_count": null,
   "outputs": [],
   "source": [
    "!python Experiment.py --dataset rt --interaction NeuCF --rounds 1 --slices 5 --agg_epochs 12 --density 0.20 --part_type 1"
   ],
   "metadata": {
    "collapsed": false
   }
  },
  {
   "cell_type": "code",
   "execution_count": null,
   "outputs": [],
   "source": [
    "!python Experiment.py --dataset rt --interaction NeuCF --rounds 1 --slices 5 --agg_epochs 12 --density 0.20 --part_type 3"
   ],
   "metadata": {
    "collapsed": false
   }
  },
  {
   "cell_type": "code",
   "execution_count": null,
   "outputs": [],
   "source": [
    "!python Experiment.py --dataset rt --interaction NeuCF --rounds 1 --slices 5 --agg_epochs 12 --density 0.25 --part_type 1"
   ],
   "metadata": {
    "collapsed": false
   }
  },
  {
   "cell_type": "code",
   "execution_count": null,
   "outputs": [],
   "source": [
    "!python Experiment.py --dataset rt --interaction NeuCF --rounds 1 --slices 5 --agg_epochs 12 --density 0.25 --part_type 3"
   ],
   "metadata": {
    "collapsed": false
   }
  },
  {
   "cell_type": "code",
   "execution_count": null,
   "outputs": [],
   "source": [
    "!python Experiment.py --dataset rt --interaction NeuCF --rounds 1 --slices 5 --agg_epochs 12 --density 0.30 --part_type 1"
   ],
   "metadata": {
    "collapsed": false
   }
  },
  {
   "cell_type": "code",
   "execution_count": null,
   "outputs": [],
   "source": [
    "!python Experiment.py --dataset rt --interaction NeuCF --rounds 1 --slices 5 --agg_epochs 12 --density 0.30 --part_type 3"
   ],
   "metadata": {
    "collapsed": false
   }
  },
  {
   "cell_type": "code",
   "execution_count": null,
   "outputs": [],
   "source": [
    "!python Experiment.py --dataset tp --interaction NeuCF --rounds 1 --slices 5 --agg_epochs 15 --density 0.10 --part_type 1"
   ],
   "metadata": {
    "collapsed": false
   }
  },
  {
   "cell_type": "code",
   "execution_count": null,
   "outputs": [],
   "source": [
    "!python Experiment.py --dataset tp --interaction NeuCF --rounds 1 --slices 5 --agg_epochs 15 --density 0.10 --part_type 3"
   ],
   "metadata": {
    "collapsed": false
   }
  },
  {
   "cell_type": "code",
   "execution_count": null,
   "outputs": [],
   "source": [
    "!python Experiment.py --dataset tp --interaction NeuCF --rounds 1 --slices 5 --agg_epochs 15 --density 0.15 --part_type 1"
   ],
   "metadata": {
    "collapsed": false
   }
  },
  {
   "cell_type": "code",
   "execution_count": null,
   "outputs": [],
   "source": [
    "!python Experiment.py --dataset tp --interaction NeuCF --rounds 1 --slices 5 --agg_epochs 15 --density 0.15 --part_type 3"
   ],
   "metadata": {
    "collapsed": false
   }
  },
  {
   "cell_type": "code",
   "execution_count": null,
   "outputs": [],
   "source": [
    "!python Experiment.py --dataset tp --interaction NeuCF --rounds 1 --slices 5 --agg_epochs 15 --density 0.20 --part_type 1"
   ],
   "metadata": {
    "collapsed": false
   }
  },
  {
   "cell_type": "code",
   "execution_count": null,
   "outputs": [],
   "source": [
    "!python Experiment.py --dataset tp --interaction NeuCF --rounds 1 --slices 5 --agg_epochs 15 --density 0.20 --part_type 3"
   ],
   "metadata": {
    "collapsed": false
   }
  },
  {
   "cell_type": "code",
   "execution_count": null,
   "outputs": [],
   "source": [
    "!python Experiment.py --dataset tp --interaction NeuCF --rounds 1 --slices 5 --agg_epochs 15 --density 0.25 --part_type 1"
   ],
   "metadata": {
    "collapsed": false
   }
  },
  {
   "cell_type": "code",
   "execution_count": null,
   "outputs": [],
   "source": [
    "!python Experiment.py --dataset tp --interaction NeuCF --rounds 1 --slices 5 --agg_epochs 15 --density 0.25 --part_type 3"
   ],
   "metadata": {
    "collapsed": false
   }
  },
  {
   "cell_type": "code",
   "execution_count": null,
   "outputs": [],
   "source": [
    "!python Experiment.py --dataset tp --interaction NeuCF --rounds 1 --slices 5 --agg_epochs 15 --density 0.30 --part_type 1"
   ],
   "metadata": {
    "collapsed": false
   }
  },
  {
   "cell_type": "code",
   "execution_count": null,
   "outputs": [],
   "source": [
    "!python Experiment.py --dataset tp --interaction NeuCF --rounds 1 --slices 5 --agg_epochs 15 --density 0.30 --part_type 3"
   ],
   "metadata": {
    "collapsed": false
   }
  },
  {
   "cell_type": "code",
   "execution_count": null,
   "outputs": [],
   "source": [
    "!python Experiment.py --dataset rt --interaction CSMF --rounds 1 --slices 5 --agg_epochs 15 --density 0.10 --part_type 1"
   ],
   "metadata": {
    "collapsed": false
   }
  },
  {
   "cell_type": "code",
   "execution_count": null,
   "outputs": [],
   "source": [
    "!python Experiment.py --dataset rt --interaction CSMF --rounds 1 --slices 5 --agg_epochs 15 --density 0.10 --part_type 3"
   ],
   "metadata": {
    "collapsed": false
   }
  },
  {
   "cell_type": "code",
   "execution_count": null,
   "outputs": [],
   "source": [
    "!python Experiment.py --dataset rt --interaction CSMF --rounds 1 --slices 5 --agg_epochs 15 --density 0.15 --part_type 1"
   ],
   "metadata": {
    "collapsed": false
   }
  },
  {
   "cell_type": "code",
   "execution_count": null,
   "outputs": [],
   "source": [
    "!python Experiment.py --dataset rt --interaction CSMF --rounds 1 --slices 5 --agg_epochs 15 --density 0.15 --part_type 3"
   ],
   "metadata": {
    "collapsed": false
   }
  },
  {
   "cell_type": "code",
   "execution_count": null,
   "outputs": [],
   "source": [
    "!python Experiment.py --dataset rt --interaction CSMF --rounds 1 --slices 5 --agg_epochs 15 --density 0.20 --part_type 1"
   ],
   "metadata": {
    "collapsed": false
   }
  },
  {
   "cell_type": "code",
   "execution_count": null,
   "outputs": [],
   "source": [
    "!python Experiment.py --dataset rt --interaction CSMF --rounds 1 --slices 5 --agg_epochs 15 --density 0.20 --part_type 3"
   ],
   "metadata": {
    "collapsed": false
   }
  },
  {
   "cell_type": "code",
   "execution_count": null,
   "outputs": [],
   "source": [
    "!python Experiment.py --dataset rt --interaction CSMF --rounds 1 --slices 5 --agg_epochs 15 --density 0.25 --part_type 1"
   ],
   "metadata": {
    "collapsed": false
   }
  },
  {
   "cell_type": "code",
   "execution_count": null,
   "outputs": [],
   "source": [
    "!python Experiment.py --dataset rt --interaction CSMF --rounds 1 --slices 5 --agg_epochs 15 --density 0.25 --part_type 3"
   ],
   "metadata": {
    "collapsed": false
   }
  },
  {
   "cell_type": "code",
   "execution_count": null,
   "outputs": [],
   "source": [
    "!python Experiment.py --dataset rt --interaction CSMF --rounds 1 --slices 5 --agg_epochs 15 --density 0.30 --part_type 1"
   ],
   "metadata": {
    "collapsed": false
   }
  },
  {
   "cell_type": "code",
   "execution_count": null,
   "outputs": [],
   "source": [
    "!python Experiment.py --dataset rt --interaction CSMF --rounds 1 --slices 5 --agg_epochs 15 --density 0.30 --part_type 3"
   ],
   "metadata": {
    "collapsed": false
   }
  },
  {
   "cell_type": "code",
   "execution_count": null,
   "outputs": [],
   "source": [
    "!python Experiment.py --dataset tp --interaction CSMF --rounds 1 --slices 5 --agg_epochs 20 --density 0.10 --part_type 1"
   ],
   "metadata": {
    "collapsed": false
   }
  },
  {
   "cell_type": "code",
   "execution_count": null,
   "outputs": [],
   "source": [
    "!python Experiment.py --dataset tp --interaction CSMF --rounds 1 --slices 5 --agg_epochs 20 --density 0.10 --part_type 3"
   ],
   "metadata": {
    "collapsed": false
   }
  },
  {
   "cell_type": "code",
   "execution_count": null,
   "outputs": [],
   "source": [
    "!python Experiment.py --dataset tp --interaction CSMF --rounds 1 --slices 5 --agg_epochs 20 --density 0.15 --part_type 1"
   ],
   "metadata": {
    "collapsed": false
   }
  },
  {
   "cell_type": "code",
   "execution_count": null,
   "outputs": [],
   "source": [
    "!python Experiment.py --dataset tp --interaction CSMF --rounds 1 --slices 5 --agg_epochs 20 --density 0.15 --part_type 3"
   ],
   "metadata": {
    "collapsed": false
   }
  },
  {
   "cell_type": "code",
   "execution_count": null,
   "outputs": [],
   "source": [
    "!python Experiment.py --dataset tp --interaction CSMF --rounds 1 --slices 5 --agg_epochs 20 --density 0.20 --part_type 1"
   ],
   "metadata": {
    "collapsed": false
   }
  },
  {
   "cell_type": "code",
   "execution_count": null,
   "outputs": [],
   "source": [
    "!python Experiment.py --dataset tp --interaction CSMF --rounds 1 --slices 5 --agg_epochs 20 --density 0.20 --part_type 3"
   ],
   "metadata": {
    "collapsed": false
   }
  },
  {
   "cell_type": "code",
   "execution_count": null,
   "outputs": [],
   "source": [
    "!python Experiment.py --dataset tp --interaction CSMF --rounds 1 --slices 5 --agg_epochs 20 --density 0.25 --part_type 1"
   ],
   "metadata": {
    "collapsed": false
   }
  },
  {
   "cell_type": "code",
   "execution_count": null,
   "outputs": [],
   "source": [
    "!python Experiment.py --dataset tp --interaction CSMF --rounds 1 --slices 5 --agg_epochs 20 --density 0.25 --part_type 3"
   ],
   "metadata": {
    "collapsed": false
   }
  },
  {
   "cell_type": "code",
   "execution_count": null,
   "outputs": [],
   "source": [
    "!python Experiment.py --dataset tp --interaction CSMF --rounds 1 --slices 5 --agg_epochs 20 --density 0.30 --part_type 1"
   ],
   "metadata": {
    "collapsed": false
   }
  },
  {
   "cell_type": "code",
   "execution_count": null,
   "outputs": [],
   "source": [
    "!python Experiment.py --dataset tp --interaction CSMF --rounds 1 --slices 5 --agg_epochs 20 --density 0.30 --part_type 3"
   ],
   "metadata": {
    "collapsed": false
   }
  },
  {
   "cell_type": "code",
   "execution_count": null,
   "outputs": [],
   "source": [
    "!python Experiment.py --dataset rt --interaction MF --rounds 1 --slices 5 --agg_epochs 25 --density 0.10 --part_type 1"
   ],
   "metadata": {
    "collapsed": false
   }
  },
  {
   "cell_type": "code",
   "execution_count": null,
   "outputs": [],
   "source": [
    "!python Experiment.py --dataset rt --interaction MF --rounds 1 --slices 5 --agg_epochs 25 --density 0.10 --part_type 3"
   ],
   "metadata": {
    "collapsed": false
   }
  },
  {
   "cell_type": "code",
   "execution_count": null,
   "outputs": [],
   "source": [
    "!python Experiment.py --dataset rt --interaction MF --rounds 1 --slices 5 --agg_epochs 25 --density 0.15 --part_type 1"
   ],
   "metadata": {
    "collapsed": false
   }
  },
  {
   "cell_type": "code",
   "execution_count": null,
   "outputs": [],
   "source": [
    "!python Experiment.py --dataset rt --interaction MF --rounds 1 --slices 5 --agg_epochs 25 --density 0.15 --part_type 3"
   ],
   "metadata": {
    "collapsed": false
   }
  },
  {
   "cell_type": "code",
   "execution_count": null,
   "outputs": [],
   "source": [
    "!python Experiment.py --dataset rt --interaction MF --rounds 1 --slices 5 --agg_epochs 25 --density 0.20 --part_type 1"
   ],
   "metadata": {
    "collapsed": false
   }
  },
  {
   "cell_type": "code",
   "execution_count": null,
   "outputs": [],
   "source": [
    "!python Experiment.py --dataset rt --interaction MF --rounds 1 --slices 5 --agg_epochs 25 --density 0.20 --part_type 3"
   ],
   "metadata": {
    "collapsed": false
   }
  },
  {
   "cell_type": "code",
   "execution_count": null,
   "outputs": [],
   "source": [
    "!python Experiment.py --dataset rt --interaction MF --rounds 1 --slices 5 --agg_epochs 25 --density 0.25 --part_type 1"
   ],
   "metadata": {
    "collapsed": false
   }
  },
  {
   "cell_type": "code",
   "execution_count": null,
   "outputs": [],
   "source": [
    "!python Experiment.py --dataset rt --interaction MF --rounds 1 --slices 5 --agg_epochs 25 --density 0.25 --part_type 3"
   ],
   "metadata": {
    "collapsed": false
   }
  },
  {
   "cell_type": "code",
   "execution_count": null,
   "outputs": [],
   "source": [
    "!python Experiment.py --dataset rt --interaction MF --rounds 1 --slices 5 --agg_epochs 25 --density 0.30 --part_type 1"
   ],
   "metadata": {
    "collapsed": false
   }
  },
  {
   "cell_type": "code",
   "execution_count": null,
   "outputs": [],
   "source": [
    "!python Experiment.py --dataset rt --interaction MF --rounds 1 --slices 5 --agg_epochs 25 --density 0.30 --part_type 3"
   ],
   "metadata": {
    "collapsed": false
   }
  },
  {
   "cell_type": "code",
   "execution_count": null,
   "outputs": [],
   "source": [
    "!python Experiment.py --dataset tp --interaction MF --rounds 1 --slices 5 --agg_epochs 30 --density 0.10 --part_type 1"
   ],
   "metadata": {
    "collapsed": false
   }
  },
  {
   "cell_type": "code",
   "execution_count": null,
   "outputs": [],
   "source": [
    "!python Experiment.py --dataset tp --interaction MF --rounds 1 --slices 5 --agg_epochs 30 --density 0.10 --part_type 3"
   ],
   "metadata": {
    "collapsed": false
   }
  },
  {
   "cell_type": "code",
   "execution_count": null,
   "outputs": [],
   "source": [
    "!python Experiment.py --dataset tp --interaction MF --rounds 1 --slices 5 --agg_epochs 30 --density 0.15 --part_type 1"
   ],
   "metadata": {
    "collapsed": false
   }
  },
  {
   "cell_type": "code",
   "execution_count": null,
   "outputs": [],
   "source": [
    "!python Experiment.py --dataset tp --interaction MF --rounds 1 --slices 5 --agg_epochs 30 --density 0.15 --part_type 3"
   ],
   "metadata": {
    "collapsed": false
   }
  },
  {
   "cell_type": "code",
   "execution_count": null,
   "outputs": [],
   "source": [
    "!python Experiment.py --dataset tp --interaction MF --rounds 1 --slices 5 --agg_epochs 30 --density 0.20 --part_type 1"
   ],
   "metadata": {
    "collapsed": false
   }
  },
  {
   "cell_type": "code",
   "execution_count": null,
   "outputs": [],
   "source": [
    "!python Experiment.py --dataset tp --interaction MF --rounds 1 --slices 5 --agg_epochs 30 --density 0.20 --part_type 3"
   ],
   "metadata": {
    "collapsed": false
   }
  },
  {
   "cell_type": "code",
   "execution_count": null,
   "outputs": [],
   "source": [
    "!python Experiment.py --dataset tp --interaction MF --rounds 1 --slices 5 --agg_epochs 30 --density 0.25 --part_type 1"
   ],
   "metadata": {
    "collapsed": false
   }
  },
  {
   "cell_type": "code",
   "execution_count": null,
   "outputs": [],
   "source": [
    "!python Experiment.py --dataset tp --interaction MF --rounds 1 --slices 5 --agg_epochs 30 --density 0.25 --part_type 3"
   ],
   "metadata": {
    "collapsed": false
   }
  },
  {
   "cell_type": "code",
   "execution_count": null,
   "outputs": [],
   "source": [
    "!python Experiment.py --dataset tp --interaction MF --rounds 1 --slices 5 --agg_epochs 30 --density 0.30 --part_type 1"
   ],
   "metadata": {
    "collapsed": false
   }
  },
  {
   "cell_type": "code",
   "execution_count": null,
   "outputs": [],
   "source": [
    "!python Experiment.py --dataset tp --interaction MF --rounds 1 --slices 5 --agg_epochs 30 --density 0.30 --part_type 3"
   ],
   "metadata": {
    "collapsed": false
   }
  },
  {
   "cell_type": "code",
   "execution_count": 1,
   "outputs": [
    {
     "name": "stdout",
     "output_type": "stream",
     "text": [
      "2023-02-08 15:46:42  All the experiments have been done!\r\n",
      "2023-02-08 15:46:42  Namespace(F=1, agg2=0, agg_decay=0.001, agg_epochs=12, agg_function=1, agg_lr=0.001, agg_type='att', att_decay=0.0001, att_lr=0.001, batch_size=128, beta=1, cluster='deep', cuda=True, dataset='rt', debug=0, density=0.1, devices='gpu', dimension=32, dir='../Dataset/mnist', dropout=0.1, epoch=1500, external_dim=64, hidden_dims=[64, 64, 100], input_dim=128, interaction='GraphMF', lamda=1, latent_dim=10, log_interval=100, lr=0.0001, n_classes=10, n_clusters=10, n_jobs=1, node2vec=0, node2vec_batchsize=32, node2vec_dim=128, node2vec_epochs=20, node2vec_length=8, node2vec_walk=15, node2vec_windows=3, num_layers=2, order=2, part_iter=20, part_type=1, path='./datasets/data/WSDREAM/', pre_epoch=1000, pretrain=True, processed=0, random_state=1001, record=1, retrain=0, rounds=1, save_model=1, slice=1, slice_decay=0.001, slice_epochs=100, slice_lr=0.001, slices=5, verbose=10, wd=0.0005)\r\n",
      "2023-02-08 15:46:42  Dataset : rt     interaction : GraphMF\r\n",
      "2023-02-08 15:46:42  Density : 10.00%, slice_epochs : 15, agg_epochs : 12\r\n",
      "2023-02-08 15:46:42  Part_type : 1,    slices : 5,       devices : gpu\r\n",
      "2023-02-08 15:46:42  Slice_lr : 0.01,    Slice_decay : 0.001\r\n",
      "2023-02-08 15:46:42  Agg_lr : 0.001,    Agg_decay : 0.001\r\n",
      "2023-02-08 15:46:42  Aggregation function : mean\r\n",
      "------------------------------------------------------------------------------------------------------------------------\r\n",
      "2023-02-08 15:46:42  Dataset : rt     interaction : GraphMF\r\n",
      "2023-02-08 15:46:42  Density : 10.00%, slice_epochs : 15, agg_epochs : 12\r\n",
      "2023-02-08 15:46:42  Part_type : 1,    slices : 5,       devices : gpu\r\n",
      "\r\n",
      "\r\n",
      "2023-02-08 15:46:42  Density 10.00% : MAE = 0.414, RMSE = 1.325, NMAE = 0.455, MRE = 0.332, NPRE = 1.856\r\n",
      "\r\n",
      "2023-02-08 15:46:42  Experiment success!\r\n",
      "\r\n"
     ]
    }
   ],
   "source": [
    "!python Experiment.py --dataset rt --interaction GraphMF --rounds 1 --slices 5 --agg_epochs 12 --density 0.10 --part_type 1"
   ],
   "metadata": {
    "collapsed": false
   }
  },
  {
   "cell_type": "code",
   "execution_count": 2,
   "outputs": [
    {
     "name": "stdout",
     "output_type": "stream",
     "text": [
      "2023-02-08 15:46:43  All the experiments have been done!\r\n",
      "2023-02-08 15:46:43  Namespace(F=1, agg2=0, agg_decay=0.001, agg_epochs=12, agg_function=1, agg_lr=0.001, agg_type='att', att_decay=0.0001, att_lr=0.001, batch_size=128, beta=1, cluster='deep', cuda=True, dataset='rt', debug=0, density=0.1, devices='gpu', dimension=32, dir='../Dataset/mnist', dropout=0.1, epoch=1500, external_dim=64, hidden_dims=[64, 64, 100], input_dim=128, interaction='GraphMF', lamda=1, latent_dim=10, log_interval=100, lr=0.0001, n_classes=10, n_clusters=10, n_jobs=1, node2vec=0, node2vec_batchsize=32, node2vec_dim=128, node2vec_epochs=20, node2vec_length=8, node2vec_walk=15, node2vec_windows=3, num_layers=2, order=2, part_iter=20, part_type=3, path='./datasets/data/WSDREAM/', pre_epoch=1000, pretrain=True, processed=0, random_state=1001, record=1, retrain=0, rounds=1, save_model=1, slice=1, slice_decay=0.001, slice_epochs=100, slice_lr=0.001, slices=5, verbose=10, wd=0.0005)\r\n",
      "2023-02-08 15:46:43  Dataset : rt     interaction : GraphMF\r\n",
      "2023-02-08 15:46:43  Density : 10.00%, slice_epochs : 15, agg_epochs : 12\r\n",
      "2023-02-08 15:46:43  Part_type : 3,    slices : 5,       devices : gpu\r\n",
      "2023-02-08 15:46:43  Slice_lr : 0.01,    Slice_decay : 0.001\r\n",
      "2023-02-08 15:46:43  Agg_lr : 0.001,    Agg_decay : 0.001\r\n",
      "2023-02-08 15:46:43  Aggregation function : softmax\r\n",
      "------------------------------------------------------------------------------------------------------------------------\r\n",
      "2023-02-08 15:46:43  Dataset : rt     interaction : GraphMF\r\n",
      "2023-02-08 15:46:43  Density : 10.00%, slice_epochs : 15, agg_epochs : 12\r\n",
      "2023-02-08 15:46:43  Part_type : 3,    slices : 5,       devices : gpu\r\n",
      "\r\n",
      "\r\n",
      "2023-02-08 15:46:43  Density 10.00% : MAE = 0.418, RMSE = 1.331, NMAE = 0.460, MRE = 0.322, NPRE = 1.684\r\n",
      "\r\n",
      "2023-02-08 15:46:43  Experiment success!\r\n",
      "\r\n"
     ]
    }
   ],
   "source": [
    "!python Experiment.py --dataset rt --interaction GraphMF --rounds 1 --slices 5 --agg_epochs 12 --density 0.10 --part_type 3"
   ],
   "metadata": {
    "collapsed": false
   }
  },
  {
   "cell_type": "code",
   "execution_count": 3,
   "outputs": [
    {
     "name": "stdout",
     "output_type": "stream",
     "text": [
      "2023-02-08 15:46:44  All the experiments have been done!\r\n",
      "2023-02-08 15:46:44  Namespace(F=1, agg2=0, agg_decay=0.001, agg_epochs=12, agg_function=1, agg_lr=0.001, agg_type='att', att_decay=0.0001, att_lr=0.001, batch_size=128, beta=1, cluster='deep', cuda=True, dataset='rt', debug=0, density=0.15, devices='gpu', dimension=32, dir='../Dataset/mnist', dropout=0.1, epoch=1500, external_dim=64, hidden_dims=[64, 64, 100], input_dim=128, interaction='GraphMF', lamda=1, latent_dim=10, log_interval=100, lr=0.0001, n_classes=10, n_clusters=10, n_jobs=1, node2vec=0, node2vec_batchsize=32, node2vec_dim=128, node2vec_epochs=20, node2vec_length=8, node2vec_walk=15, node2vec_windows=3, num_layers=2, order=2, part_iter=20, part_type=1, path='./datasets/data/WSDREAM/', pre_epoch=1000, pretrain=True, processed=0, random_state=1001, record=1, retrain=0, rounds=1, save_model=1, slice=1, slice_decay=0.001, slice_epochs=100, slice_lr=0.001, slices=5, verbose=10, wd=0.0005)\r\n",
      "2023-02-08 15:46:44  Dataset : rt     interaction : GraphMF\r\n",
      "2023-02-08 15:46:44  Density : 15.00%, slice_epochs : 15, agg_epochs : 12\r\n",
      "2023-02-08 15:46:44  Part_type : 1,    slices : 5,       devices : gpu\r\n",
      "2023-02-08 15:46:44  Slice_lr : 0.01,    Slice_decay : 0.001\r\n",
      "2023-02-08 15:46:44  Agg_lr : 0.001,    Agg_decay : 0.001\r\n",
      "2023-02-08 15:46:44  Aggregation function : mean\r\n",
      "------------------------------------------------------------------------------------------------------------------------\r\n",
      "2023-02-08 15:46:44  Dataset : rt     interaction : GraphMF\r\n",
      "2023-02-08 15:46:44  Density : 15.00%, slice_epochs : 15, agg_epochs : 12\r\n",
      "2023-02-08 15:46:44  Part_type : 1,    slices : 5,       devices : gpu\r\n",
      "\r\n",
      "\r\n",
      "2023-02-08 15:46:44  Density 15.00% : MAE = 0.358, RMSE = 1.272, NMAE = 0.393, MRE = 0.206, NPRE = 0.873\r\n",
      "\r\n",
      "2023-02-08 15:46:44  Experiment success!\r\n",
      "\r\n"
     ]
    }
   ],
   "source": [
    "!python Experiment.py --dataset rt --interaction GraphMF --rounds 1 --slices 5 --agg_epochs 12 --density 0.15 --part_type 1"
   ],
   "metadata": {
    "collapsed": false
   }
  },
  {
   "cell_type": "code",
   "execution_count": 4,
   "outputs": [
    {
     "name": "stdout",
     "output_type": "stream",
     "text": [
      "2023-02-08 15:46:45  All the experiments have been done!\r\n",
      "2023-02-08 15:46:45  Namespace(F=1, agg2=0, agg_decay=0.001, agg_epochs=12, agg_function=1, agg_lr=0.001, agg_type='att', att_decay=0.0001, att_lr=0.001, batch_size=128, beta=1, cluster='deep', cuda=True, dataset='rt', debug=0, density=0.15, devices='gpu', dimension=32, dir='../Dataset/mnist', dropout=0.1, epoch=1500, external_dim=64, hidden_dims=[64, 64, 100], input_dim=128, interaction='GraphMF', lamda=1, latent_dim=10, log_interval=100, lr=0.0001, n_classes=10, n_clusters=10, n_jobs=1, node2vec=0, node2vec_batchsize=32, node2vec_dim=128, node2vec_epochs=20, node2vec_length=8, node2vec_walk=15, node2vec_windows=3, num_layers=2, order=2, part_iter=20, part_type=3, path='./datasets/data/WSDREAM/', pre_epoch=1000, pretrain=True, processed=0, random_state=1001, record=1, retrain=0, rounds=1, save_model=1, slice=1, slice_decay=0.001, slice_epochs=100, slice_lr=0.001, slices=5, verbose=10, wd=0.0005)\r\n",
      "2023-02-08 15:46:45  Dataset : rt     interaction : GraphMF\r\n",
      "2023-02-08 15:46:45  Density : 15.00%, slice_epochs : 15, agg_epochs : 12\r\n",
      "2023-02-08 15:46:45  Part_type : 3,    slices : 5,       devices : gpu\r\n",
      "2023-02-08 15:46:45  Slice_lr : 0.01,    Slice_decay : 0.001\r\n",
      "2023-02-08 15:46:45  Agg_lr : 0.001,    Agg_decay : 0.001\r\n",
      "2023-02-08 15:46:45  Aggregation function : softmax\r\n",
      "------------------------------------------------------------------------------------------------------------------------\r\n",
      "2023-02-08 15:46:45  Dataset : rt     interaction : GraphMF\r\n",
      "2023-02-08 15:46:45  Density : 15.00%, slice_epochs : 15, agg_epochs : 12\r\n",
      "2023-02-08 15:46:45  Part_type : 3,    slices : 5,       devices : gpu\r\n",
      "\r\n",
      "\r\n",
      "2023-02-08 15:46:45  Density 15.00% : MAE = 0.358, RMSE = 1.272, NMAE = 0.394, MRE = 0.216, NPRE = 0.889\r\n",
      "\r\n",
      "2023-02-08 15:46:45  Experiment success!\r\n",
      "\r\n"
     ]
    }
   ],
   "source": [
    "!python Experiment.py --dataset rt --interaction GraphMF --rounds 1 --slices 5 --agg_epochs 12 --density 0.15 --part_type 3"
   ],
   "metadata": {
    "collapsed": false
   }
  },
  {
   "cell_type": "code",
   "execution_count": 5,
   "outputs": [
    {
     "name": "stdout",
     "output_type": "stream",
     "text": [
      "2023-02-08 15:46:46  All the experiments have been done!\r\n",
      "2023-02-08 15:46:46  Namespace(F=1, agg2=0, agg_decay=0.001, agg_epochs=12, agg_function=1, agg_lr=0.001, agg_type='att', att_decay=0.0001, att_lr=0.001, batch_size=128, beta=1, cluster='deep', cuda=True, dataset='rt', debug=0, density=0.2, devices='gpu', dimension=32, dir='../Dataset/mnist', dropout=0.1, epoch=1500, external_dim=64, hidden_dims=[64, 64, 100], input_dim=128, interaction='GraphMF', lamda=1, latent_dim=10, log_interval=100, lr=0.0001, n_classes=10, n_clusters=10, n_jobs=1, node2vec=0, node2vec_batchsize=32, node2vec_dim=128, node2vec_epochs=20, node2vec_length=8, node2vec_walk=15, node2vec_windows=3, num_layers=2, order=2, part_iter=20, part_type=1, path='./datasets/data/WSDREAM/', pre_epoch=1000, pretrain=True, processed=0, random_state=1001, record=1, retrain=0, rounds=1, save_model=1, slice=1, slice_decay=0.001, slice_epochs=100, slice_lr=0.001, slices=5, verbose=10, wd=0.0005)\r\n",
      "2023-02-08 15:46:46  Dataset : rt     interaction : GraphMF\r\n",
      "2023-02-08 15:46:46  Density : 20.00%, slice_epochs : 15, agg_epochs : 12\r\n",
      "2023-02-08 15:46:46  Part_type : 1,    slices : 5,       devices : gpu\r\n",
      "2023-02-08 15:46:46  Slice_lr : 0.01,    Slice_decay : 0.001\r\n",
      "2023-02-08 15:46:46  Agg_lr : 0.001,    Agg_decay : 0.001\r\n",
      "2023-02-08 15:46:46  Aggregation function : mean\r\n",
      "------------------------------------------------------------------------------------------------------------------------\r\n",
      "2023-02-08 15:46:46  Dataset : rt     interaction : GraphMF\r\n",
      "2023-02-08 15:46:46  Density : 20.00%, slice_epochs : 15, agg_epochs : 12\r\n",
      "2023-02-08 15:46:46  Part_type : 1,    slices : 5,       devices : gpu\r\n",
      "\r\n",
      "\r\n",
      "2023-02-08 15:46:46  Density 20.00% : MAE = 0.340, RMSE = 1.246, NMAE = 0.373, MRE = 0.182, NPRE = 0.815\r\n",
      "\r\n",
      "2023-02-08 15:46:46  Experiment success!\r\n",
      "\r\n"
     ]
    }
   ],
   "source": [
    "!python Experiment.py --dataset rt --interaction GraphMF --rounds 1 --slices 5 --agg_epochs 12 --density 0.20 --part_type 1"
   ],
   "metadata": {
    "collapsed": false
   }
  },
  {
   "cell_type": "code",
   "execution_count": 6,
   "outputs": [
    {
     "name": "stdout",
     "output_type": "stream",
     "text": [
      "2023-02-08 15:46:47  All the experiments have been done!\r\n",
      "2023-02-08 15:46:47  Namespace(F=1, agg2=0, agg_decay=0.001, agg_epochs=12, agg_function=1, agg_lr=0.001, agg_type='att', att_decay=0.0001, att_lr=0.001, batch_size=128, beta=1, cluster='deep', cuda=True, dataset='rt', debug=0, density=0.2, devices='gpu', dimension=32, dir='../Dataset/mnist', dropout=0.1, epoch=1500, external_dim=64, hidden_dims=[64, 64, 100], input_dim=128, interaction='GraphMF', lamda=1, latent_dim=10, log_interval=100, lr=0.0001, n_classes=10, n_clusters=10, n_jobs=1, node2vec=0, node2vec_batchsize=32, node2vec_dim=128, node2vec_epochs=20, node2vec_length=8, node2vec_walk=15, node2vec_windows=3, num_layers=2, order=2, part_iter=20, part_type=3, path='./datasets/data/WSDREAM/', pre_epoch=1000, pretrain=True, processed=0, random_state=1001, record=1, retrain=0, rounds=1, save_model=1, slice=1, slice_decay=0.001, slice_epochs=100, slice_lr=0.001, slices=5, verbose=10, wd=0.0005)\r\n",
      "2023-02-08 15:46:47  Dataset : rt     interaction : GraphMF\r\n",
      "2023-02-08 15:46:47  Density : 20.00%, slice_epochs : 15, agg_epochs : 12\r\n",
      "2023-02-08 15:46:47  Part_type : 3,    slices : 5,       devices : gpu\r\n",
      "2023-02-08 15:46:47  Slice_lr : 0.01,    Slice_decay : 0.001\r\n",
      "2023-02-08 15:46:47  Agg_lr : 0.001,    Agg_decay : 0.001\r\n",
      "2023-02-08 15:46:47  Aggregation function : softmax\r\n",
      "------------------------------------------------------------------------------------------------------------------------\r\n",
      "2023-02-08 15:46:47  Dataset : rt     interaction : GraphMF\r\n",
      "2023-02-08 15:46:47  Density : 20.00%, slice_epochs : 15, agg_epochs : 12\r\n",
      "2023-02-08 15:46:47  Part_type : 3,    slices : 5,       devices : gpu\r\n",
      "\r\n",
      "\r\n",
      "2023-02-08 15:46:47  Density 20.00% : MAE = 0.348, RMSE = 1.258, NMAE = 0.382, MRE = 0.203, NPRE = 0.850\r\n",
      "\r\n",
      "2023-02-08 15:46:47  Experiment success!\r\n",
      "\r\n"
     ]
    }
   ],
   "source": [
    "!python Experiment.py --dataset rt --interaction GraphMF --rounds 1 --slices 5 --agg_epochs 12 --density 0.20 --part_type 3"
   ],
   "metadata": {
    "collapsed": false
   }
  },
  {
   "cell_type": "code",
   "execution_count": 7,
   "outputs": [
    {
     "name": "stdout",
     "output_type": "stream",
     "text": [
      "2023-02-08 15:46:48  All the experiments have been done!\r\n",
      "2023-02-08 15:46:48  Namespace(F=1, agg2=0, agg_decay=0.001, agg_epochs=12, agg_function=1, agg_lr=0.001, agg_type='att', att_decay=0.0001, att_lr=0.001, batch_size=128, beta=1, cluster='deep', cuda=True, dataset='rt', debug=0, density=0.25, devices='gpu', dimension=32, dir='../Dataset/mnist', dropout=0.1, epoch=1500, external_dim=64, hidden_dims=[64, 64, 100], input_dim=128, interaction='GraphMF', lamda=1, latent_dim=10, log_interval=100, lr=0.0001, n_classes=10, n_clusters=10, n_jobs=1, node2vec=0, node2vec_batchsize=32, node2vec_dim=128, node2vec_epochs=20, node2vec_length=8, node2vec_walk=15, node2vec_windows=3, num_layers=2, order=2, part_iter=20, part_type=1, path='./datasets/data/WSDREAM/', pre_epoch=1000, pretrain=True, processed=0, random_state=1001, record=1, retrain=0, rounds=1, save_model=1, slice=1, slice_decay=0.001, slice_epochs=100, slice_lr=0.001, slices=5, verbose=10, wd=0.0005)\r\n",
      "2023-02-08 15:46:48  Dataset : rt     interaction : GraphMF\r\n",
      "2023-02-08 15:46:48  Density : 25.00%, slice_epochs : 15, agg_epochs : 12\r\n",
      "2023-02-08 15:46:48  Part_type : 1,    slices : 5,       devices : gpu\r\n",
      "2023-02-08 15:46:48  Slice_lr : 0.01,    Slice_decay : 0.001\r\n",
      "2023-02-08 15:46:48  Agg_lr : 0.001,    Agg_decay : 0.001\r\n",
      "2023-02-08 15:46:48  Aggregation function : mean\r\n",
      "------------------------------------------------------------------------------------------------------------------------\r\n",
      "2023-02-08 15:46:48  Dataset : rt     interaction : GraphMF\r\n",
      "2023-02-08 15:46:48  Density : 25.00%, slice_epochs : 15, agg_epochs : 12\r\n",
      "2023-02-08 15:46:48  Part_type : 1,    slices : 5,       devices : gpu\r\n",
      "\r\n",
      "\r\n",
      "2023-02-08 15:46:48  Density 25.00% : MAE = 0.331, RMSE = 1.235, NMAE = 0.364, MRE = 0.176, NPRE = 0.812\r\n",
      "\r\n",
      "2023-02-08 15:46:48  Experiment success!\r\n",
      "\r\n"
     ]
    }
   ],
   "source": [
    "!python Experiment.py --dataset rt --interaction GraphMF --rounds 1 --slices 5 --agg_epochs 12 --density 0.25 --part_type 1"
   ],
   "metadata": {
    "collapsed": false
   }
  },
  {
   "cell_type": "code",
   "execution_count": 8,
   "outputs": [
    {
     "name": "stdout",
     "output_type": "stream",
     "text": [
      "2023-02-08 15:46:48  All the experiments have been done!\r\n",
      "2023-02-08 15:46:48  Namespace(F=1, agg2=0, agg_decay=0.001, agg_epochs=12, agg_function=1, agg_lr=0.001, agg_type='att', att_decay=0.0001, att_lr=0.001, batch_size=128, beta=1, cluster='deep', cuda=True, dataset='rt', debug=0, density=0.25, devices='gpu', dimension=32, dir='../Dataset/mnist', dropout=0.1, epoch=1500, external_dim=64, hidden_dims=[64, 64, 100], input_dim=128, interaction='GraphMF', lamda=1, latent_dim=10, log_interval=100, lr=0.0001, n_classes=10, n_clusters=10, n_jobs=1, node2vec=0, node2vec_batchsize=32, node2vec_dim=128, node2vec_epochs=20, node2vec_length=8, node2vec_walk=15, node2vec_windows=3, num_layers=2, order=2, part_iter=20, part_type=3, path='./datasets/data/WSDREAM/', pre_epoch=1000, pretrain=True, processed=0, random_state=1001, record=1, retrain=0, rounds=1, save_model=1, slice=1, slice_decay=0.001, slice_epochs=100, slice_lr=0.001, slices=5, verbose=10, wd=0.0005)\r\n",
      "2023-02-08 15:46:48  Dataset : rt     interaction : GraphMF\r\n",
      "2023-02-08 15:46:48  Density : 25.00%, slice_epochs : 15, agg_epochs : 12\r\n",
      "2023-02-08 15:46:48  Part_type : 3,    slices : 5,       devices : gpu\r\n",
      "2023-02-08 15:46:48  Slice_lr : 0.01,    Slice_decay : 0.001\r\n",
      "2023-02-08 15:46:48  Agg_lr : 0.001,    Agg_decay : 0.001\r\n",
      "2023-02-08 15:46:48  Aggregation function : softmax\r\n",
      "------------------------------------------------------------------------------------------------------------------------\r\n",
      "2023-02-08 15:46:48  Dataset : rt     interaction : GraphMF\r\n",
      "2023-02-08 15:46:48  Density : 25.00%, slice_epochs : 15, agg_epochs : 12\r\n",
      "2023-02-08 15:46:48  Part_type : 3,    slices : 5,       devices : gpu\r\n",
      "\r\n",
      "\r\n",
      "2023-02-08 15:46:48  Density 25.00% : MAE = 0.337, RMSE = 1.240, NMAE = 0.370, MRE = 0.192, NPRE = 0.830\r\n",
      "\r\n",
      "2023-02-08 15:46:48  Experiment success!\r\n",
      "\r\n"
     ]
    }
   ],
   "source": [
    "!python Experiment.py --dataset rt --interaction GraphMF --rounds 1 --slices 5 --agg_epochs 12 --density 0.25 --part_type 3"
   ],
   "metadata": {
    "collapsed": false
   }
  },
  {
   "cell_type": "code",
   "execution_count": 9,
   "outputs": [
    {
     "name": "stdout",
     "output_type": "stream",
     "text": [
      "2023-02-08 15:46:49  All the experiments have been done!\r\n",
      "2023-02-08 15:46:49  Namespace(F=1, agg2=0, agg_decay=0.001, agg_epochs=12, agg_function=1, agg_lr=0.001, agg_type='att', att_decay=0.0001, att_lr=0.001, batch_size=128, beta=1, cluster='deep', cuda=True, dataset='rt', debug=0, density=0.3, devices='gpu', dimension=32, dir='../Dataset/mnist', dropout=0.1, epoch=1500, external_dim=64, hidden_dims=[64, 64, 100], input_dim=128, interaction='GraphMF', lamda=1, latent_dim=10, log_interval=100, lr=0.0001, n_classes=10, n_clusters=10, n_jobs=1, node2vec=0, node2vec_batchsize=32, node2vec_dim=128, node2vec_epochs=20, node2vec_length=8, node2vec_walk=15, node2vec_windows=3, num_layers=2, order=2, part_iter=20, part_type=1, path='./datasets/data/WSDREAM/', pre_epoch=1000, pretrain=True, processed=0, random_state=1001, record=1, retrain=0, rounds=1, save_model=1, slice=1, slice_decay=0.001, slice_epochs=100, slice_lr=0.001, slices=5, verbose=10, wd=0.0005)\r\n",
      "2023-02-08 15:46:49  Dataset : rt     interaction : GraphMF\r\n",
      "2023-02-08 15:46:49  Density : 30.00%, slice_epochs : 15, agg_epochs : 12\r\n",
      "2023-02-08 15:46:49  Part_type : 1,    slices : 5,       devices : gpu\r\n",
      "2023-02-08 15:46:49  Slice_lr : 0.01,    Slice_decay : 0.001\r\n",
      "2023-02-08 15:46:49  Agg_lr : 0.001,    Agg_decay : 0.001\r\n",
      "2023-02-08 15:46:49  Aggregation function : mean\r\n",
      "------------------------------------------------------------------------------------------------------------------------\r\n",
      "2023-02-08 15:46:49  Dataset : rt     interaction : GraphMF\r\n",
      "2023-02-08 15:46:49  Density : 30.00%, slice_epochs : 15, agg_epochs : 12\r\n",
      "2023-02-08 15:46:49  Part_type : 1,    slices : 5,       devices : gpu\r\n",
      "\r\n",
      "\r\n",
      "2023-02-08 15:46:49  Density 30.00% : MAE = 0.323, RMSE = 1.222, NMAE = 0.356, MRE = 0.167, NPRE = 0.777\r\n",
      "\r\n",
      "2023-02-08 15:46:49  Experiment success!\r\n",
      "\r\n"
     ]
    }
   ],
   "source": [
    "!python Experiment.py --dataset rt --interaction GraphMF --rounds 1 --slices 5 --agg_epochs 12 --density 0.30 --part_type 1"
   ],
   "metadata": {
    "collapsed": false
   }
  },
  {
   "cell_type": "code",
   "execution_count": 10,
   "outputs": [
    {
     "name": "stdout",
     "output_type": "stream",
     "text": [
      "2023-02-08 15:46:50  All the experiments have been done!\r\n",
      "2023-02-08 15:46:50  Namespace(F=1, agg2=0, agg_decay=0.001, agg_epochs=12, agg_function=1, agg_lr=0.001, agg_type='att', att_decay=0.0001, att_lr=0.001, batch_size=128, beta=1, cluster='deep', cuda=True, dataset='rt', debug=0, density=0.3, devices='gpu', dimension=32, dir='../Dataset/mnist', dropout=0.1, epoch=1500, external_dim=64, hidden_dims=[64, 64, 100], input_dim=128, interaction='GraphMF', lamda=1, latent_dim=10, log_interval=100, lr=0.0001, n_classes=10, n_clusters=10, n_jobs=1, node2vec=0, node2vec_batchsize=32, node2vec_dim=128, node2vec_epochs=20, node2vec_length=8, node2vec_walk=15, node2vec_windows=3, num_layers=2, order=2, part_iter=20, part_type=3, path='./datasets/data/WSDREAM/', pre_epoch=1000, pretrain=True, processed=0, random_state=1001, record=1, retrain=0, rounds=1, save_model=1, slice=1, slice_decay=0.001, slice_epochs=100, slice_lr=0.001, slices=5, verbose=10, wd=0.0005)\r\n",
      "2023-02-08 15:46:50  Dataset : rt     interaction : GraphMF\r\n",
      "2023-02-08 15:46:50  Density : 30.00%, slice_epochs : 15, agg_epochs : 12\r\n",
      "2023-02-08 15:46:50  Part_type : 3,    slices : 5,       devices : gpu\r\n",
      "2023-02-08 15:46:50  Slice_lr : 0.01,    Slice_decay : 0.001\r\n",
      "2023-02-08 15:46:50  Agg_lr : 0.001,    Agg_decay : 0.001\r\n",
      "2023-02-08 15:46:50  Aggregation function : softmax\r\n",
      "------------------------------------------------------------------------------------------------------------------------\r\n",
      "2023-02-08 15:46:50  Dataset : rt     interaction : GraphMF\r\n",
      "2023-02-08 15:46:50  Density : 30.00%, slice_epochs : 15, agg_epochs : 12\r\n",
      "2023-02-08 15:46:50  Part_type : 3,    slices : 5,       devices : gpu\r\n",
      "\r\n",
      "\r\n",
      "2023-02-08 15:46:50  Density 30.00% : MAE = 0.326, RMSE = 1.215, NMAE = 0.359, MRE = 0.182, NPRE = 0.810\r\n",
      "\r\n",
      "2023-02-08 15:46:50  Experiment success!\r\n",
      "\r\n"
     ]
    }
   ],
   "source": [
    "!python Experiment.py --dataset rt --interaction GraphMF --rounds 1 --slices 5 --agg_epochs 12 --density 0.30 --part_type 3"
   ],
   "metadata": {
    "collapsed": false
   }
  },
  {
   "cell_type": "code",
   "execution_count": 11,
   "outputs": [
    {
     "name": "stdout",
     "output_type": "stream",
     "text": [
      "2023-02-08 15:46:51  All the experiments have been done!\r\n",
      "2023-02-08 15:46:51  Namespace(F=1, agg2=0, agg_decay=0.001, agg_epochs=15, agg_function=1, agg_lr=0.001, agg_type='att', att_decay=0.0001, att_lr=0.001, batch_size=128, beta=1, cluster='deep', cuda=True, dataset='tp', debug=0, density=0.1, devices='gpu', dimension=32, dir='../Dataset/mnist', dropout=0.1, epoch=1500, external_dim=64, hidden_dims=[64, 64, 100], input_dim=128, interaction='GraphMF', lamda=1, latent_dim=10, log_interval=100, lr=0.0001, n_classes=10, n_clusters=10, n_jobs=1, node2vec=0, node2vec_batchsize=32, node2vec_dim=128, node2vec_epochs=20, node2vec_length=8, node2vec_walk=15, node2vec_windows=3, num_layers=2, order=2, part_iter=20, part_type=1, path='./datasets/data/WSDREAM/', pre_epoch=1000, pretrain=True, processed=0, random_state=1001, record=1, retrain=0, rounds=1, save_model=1, slice=1, slice_decay=0.001, slice_epochs=100, slice_lr=0.001, slices=5, verbose=10, wd=0.0005)\r\n",
      "2023-02-08 15:46:51  Dataset : tp     interaction : GraphMF\r\n",
      "2023-02-08 15:46:51  Density : 10.00%, slice_epochs : 15, agg_epochs : 15\r\n",
      "2023-02-08 15:46:51  Part_type : 1,    slices : 5,       devices : gpu\r\n",
      "2023-02-08 15:46:51  Slice_lr : 0.01,    Slice_decay : 0.001\r\n",
      "2023-02-08 15:46:51  Agg_lr : 0.001,    Agg_decay : 0.001\r\n",
      "2023-02-08 15:46:51  Aggregation function : mean\r\n",
      "------------------------------------------------------------------------------------------------------------------------\r\n",
      "2023-02-08 15:46:51  Dataset : tp     interaction : GraphMF\r\n",
      "2023-02-08 15:46:51  Density : 10.00%, slice_epochs : 15, agg_epochs : 15\r\n",
      "2023-02-08 15:46:51  Part_type : 1,    slices : 5,       devices : gpu\r\n",
      "\r\n",
      "\r\n",
      "2023-02-08 15:46:51  Density 10.00% : MAE = 15.933, RMSE = 51.142, NMAE = 0.335, MRE = 0.241, NPRE = 1.200\r\n",
      "\r\n",
      "2023-02-08 15:46:51  Experiment success!\r\n",
      "\r\n"
     ]
    }
   ],
   "source": [
    "!python Experiment.py --dataset tp --interaction GraphMF --rounds 1 --slices 5 --agg_epochs 15 --density 0.10 --part_type 1"
   ],
   "metadata": {
    "collapsed": false
   }
  },
  {
   "cell_type": "code",
   "execution_count": 12,
   "outputs": [
    {
     "name": "stdout",
     "output_type": "stream",
     "text": [
      "2023-02-08 15:46:52  All the experiments have been done!\r\n",
      "2023-02-08 15:46:52  Namespace(F=1, agg2=0, agg_decay=0.001, agg_epochs=15, agg_function=1, agg_lr=0.001, agg_type='att', att_decay=0.0001, att_lr=0.001, batch_size=128, beta=1, cluster='deep', cuda=True, dataset='tp', debug=0, density=0.1, devices='gpu', dimension=32, dir='../Dataset/mnist', dropout=0.1, epoch=1500, external_dim=64, hidden_dims=[64, 64, 100], input_dim=128, interaction='GraphMF', lamda=1, latent_dim=10, log_interval=100, lr=0.0001, n_classes=10, n_clusters=10, n_jobs=1, node2vec=0, node2vec_batchsize=32, node2vec_dim=128, node2vec_epochs=20, node2vec_length=8, node2vec_walk=15, node2vec_windows=3, num_layers=2, order=2, part_iter=20, part_type=3, path='./datasets/data/WSDREAM/', pre_epoch=1000, pretrain=True, processed=0, random_state=1001, record=1, retrain=0, rounds=1, save_model=1, slice=1, slice_decay=0.001, slice_epochs=100, slice_lr=0.001, slices=5, verbose=10, wd=0.0005)\r\n",
      "2023-02-08 15:46:52  Dataset : tp     interaction : GraphMF\r\n",
      "2023-02-08 15:46:52  Density : 10.00%, slice_epochs : 15, agg_epochs : 15\r\n",
      "2023-02-08 15:46:52  Part_type : 3,    slices : 5,       devices : gpu\r\n",
      "2023-02-08 15:46:52  Slice_lr : 0.01,    Slice_decay : 0.001\r\n",
      "2023-02-08 15:46:52  Agg_lr : 0.001,    Agg_decay : 0.001\r\n",
      "2023-02-08 15:46:52  Aggregation function : softmax\r\n",
      "------------------------------------------------------------------------------------------------------------------------\r\n",
      "2023-02-08 15:46:52  Dataset : tp     interaction : GraphMF\r\n",
      "2023-02-08 15:46:52  Density : 10.00%, slice_epochs : 15, agg_epochs : 15\r\n",
      "2023-02-08 15:46:52  Part_type : 3,    slices : 5,       devices : gpu\r\n",
      "\r\n",
      "\r\n",
      "2023-02-08 15:46:52  Density 10.00% : MAE = 16.242, RMSE = 50.800, NMAE = 0.341, MRE = 0.263, NPRE = 1.372\r\n",
      "\r\n",
      "2023-02-08 15:46:52  Experiment success!\r\n",
      "\r\n"
     ]
    }
   ],
   "source": [
    "!python Experiment.py --dataset tp --interaction GraphMF --rounds 1 --slices 5 --agg_epochs 15 --density 0.10 --part_type 3"
   ],
   "metadata": {
    "collapsed": false
   }
  },
  {
   "cell_type": "code",
   "execution_count": 13,
   "outputs": [
    {
     "name": "stdout",
     "output_type": "stream",
     "text": [
      "2023-02-08 15:46:53  All the experiments have been done!\r\n",
      "2023-02-08 15:46:53  Namespace(F=1, agg2=0, agg_decay=0.001, agg_epochs=15, agg_function=1, agg_lr=0.001, agg_type='att', att_decay=0.0001, att_lr=0.001, batch_size=128, beta=1, cluster='deep', cuda=True, dataset='tp', debug=0, density=0.15, devices='gpu', dimension=32, dir='../Dataset/mnist', dropout=0.1, epoch=1500, external_dim=64, hidden_dims=[64, 64, 100], input_dim=128, interaction='GraphMF', lamda=1, latent_dim=10, log_interval=100, lr=0.0001, n_classes=10, n_clusters=10, n_jobs=1, node2vec=0, node2vec_batchsize=32, node2vec_dim=128, node2vec_epochs=20, node2vec_length=8, node2vec_walk=15, node2vec_windows=3, num_layers=2, order=2, part_iter=20, part_type=1, path='./datasets/data/WSDREAM/', pre_epoch=1000, pretrain=True, processed=0, random_state=1001, record=1, retrain=0, rounds=1, save_model=1, slice=1, slice_decay=0.001, slice_epochs=100, slice_lr=0.001, slices=5, verbose=10, wd=0.0005)\r\n",
      "2023-02-08 15:46:53  Dataset : tp     interaction : GraphMF\r\n",
      "2023-02-08 15:46:53  Density : 15.00%, slice_epochs : 15, agg_epochs : 15\r\n",
      "2023-02-08 15:46:53  Part_type : 1,    slices : 5,       devices : gpu\r\n",
      "2023-02-08 15:46:53  Slice_lr : 0.01,    Slice_decay : 0.001\r\n",
      "2023-02-08 15:46:53  Agg_lr : 0.001,    Agg_decay : 0.001\r\n",
      "2023-02-08 15:46:53  Aggregation function : mean\r\n",
      "------------------------------------------------------------------------------------------------------------------------\r\n",
      "2023-02-08 15:46:53  Dataset : tp     interaction : GraphMF\r\n",
      "2023-02-08 15:46:53  Density : 15.00%, slice_epochs : 15, agg_epochs : 15\r\n",
      "2023-02-08 15:46:53  Part_type : 1,    slices : 5,       devices : gpu\r\n",
      "\r\n",
      "\r\n",
      "2023-02-08 15:46:53  Density 15.00% : MAE = 14.034, RMSE = 46.551, NMAE = 0.295, MRE = 0.207, NPRE = 1.046\r\n",
      "\r\n",
      "2023-02-08 15:46:53  Experiment success!\r\n",
      "\r\n"
     ]
    }
   ],
   "source": [
    "!python Experiment.py --dataset tp --interaction GraphMF --rounds 1 --slices 5 --agg_epochs 15 --density 0.15 --part_type 1"
   ],
   "metadata": {
    "collapsed": false
   }
  },
  {
   "cell_type": "code",
   "execution_count": 14,
   "outputs": [
    {
     "name": "stdout",
     "output_type": "stream",
     "text": [
      "2023-02-08 15:46:54  All the experiments have been done!\r\n",
      "2023-02-08 15:46:54  Namespace(F=1, agg2=0, agg_decay=0.001, agg_epochs=15, agg_function=1, agg_lr=0.001, agg_type='att', att_decay=0.0001, att_lr=0.001, batch_size=128, beta=1, cluster='deep', cuda=True, dataset='tp', debug=0, density=0.15, devices='gpu', dimension=32, dir='../Dataset/mnist', dropout=0.1, epoch=1500, external_dim=64, hidden_dims=[64, 64, 100], input_dim=128, interaction='GraphMF', lamda=1, latent_dim=10, log_interval=100, lr=0.0001, n_classes=10, n_clusters=10, n_jobs=1, node2vec=0, node2vec_batchsize=32, node2vec_dim=128, node2vec_epochs=20, node2vec_length=8, node2vec_walk=15, node2vec_windows=3, num_layers=2, order=2, part_iter=20, part_type=3, path='./datasets/data/WSDREAM/', pre_epoch=1000, pretrain=True, processed=0, random_state=1001, record=1, retrain=0, rounds=1, save_model=1, slice=1, slice_decay=0.001, slice_epochs=100, slice_lr=0.001, slices=5, verbose=10, wd=0.0005)\r\n",
      "2023-02-08 15:46:54  Dataset : tp     interaction : GraphMF\r\n",
      "2023-02-08 15:46:54  Density : 15.00%, slice_epochs : 15, agg_epochs : 15\r\n",
      "2023-02-08 15:46:54  Part_type : 3,    slices : 5,       devices : gpu\r\n",
      "2023-02-08 15:46:54  Slice_lr : 0.01,    Slice_decay : 0.001\r\n",
      "2023-02-08 15:46:54  Agg_lr : 0.001,    Agg_decay : 0.001\r\n",
      "2023-02-08 15:46:54  Aggregation function : softmax\r\n",
      "------------------------------------------------------------------------------------------------------------------------\r\n",
      "2023-02-08 15:46:54  Dataset : tp     interaction : GraphMF\r\n",
      "2023-02-08 15:46:54  Density : 15.00%, slice_epochs : 15, agg_epochs : 15\r\n",
      "2023-02-08 15:46:54  Part_type : 3,    slices : 5,       devices : gpu\r\n",
      "\r\n",
      "\r\n",
      "2023-02-08 15:46:54  Density 15.00% : MAE = 14.372, RMSE = 46.941, NMAE = 0.302, MRE = 0.223, NPRE = 1.074\r\n",
      "\r\n",
      "2023-02-08 15:46:54  Experiment success!\r\n",
      "\r\n"
     ]
    }
   ],
   "source": [
    "!python Experiment.py --dataset tp --interaction GraphMF --rounds 1 --slices 5 --agg_epochs 15 --density 0.15 --part_type 3"
   ],
   "metadata": {
    "collapsed": false
   }
  },
  {
   "cell_type": "code",
   "execution_count": 15,
   "outputs": [
    {
     "name": "stdout",
     "output_type": "stream",
     "text": [
      "2023-02-08 15:46:55  All the experiments have been done!\r\n",
      "2023-02-08 15:46:55  Namespace(F=1, agg2=0, agg_decay=0.001, agg_epochs=15, agg_function=1, agg_lr=0.001, agg_type='att', att_decay=0.0001, att_lr=0.001, batch_size=128, beta=1, cluster='deep', cuda=True, dataset='tp', debug=0, density=0.2, devices='gpu', dimension=32, dir='../Dataset/mnist', dropout=0.1, epoch=1500, external_dim=64, hidden_dims=[64, 64, 100], input_dim=128, interaction='GraphMF', lamda=1, latent_dim=10, log_interval=100, lr=0.0001, n_classes=10, n_clusters=10, n_jobs=1, node2vec=0, node2vec_batchsize=32, node2vec_dim=128, node2vec_epochs=20, node2vec_length=8, node2vec_walk=15, node2vec_windows=3, num_layers=2, order=2, part_iter=20, part_type=1, path='./datasets/data/WSDREAM/', pre_epoch=1000, pretrain=True, processed=0, random_state=1001, record=1, retrain=0, rounds=1, save_model=1, slice=1, slice_decay=0.001, slice_epochs=100, slice_lr=0.001, slices=5, verbose=10, wd=0.0005)\r\n",
      "2023-02-08 15:46:55  Dataset : tp     interaction : GraphMF\r\n",
      "2023-02-08 15:46:55  Density : 20.00%, slice_epochs : 15, agg_epochs : 15\r\n",
      "2023-02-08 15:46:55  Part_type : 1,    slices : 5,       devices : gpu\r\n",
      "2023-02-08 15:46:55  Slice_lr : 0.01,    Slice_decay : 0.001\r\n",
      "2023-02-08 15:46:55  Agg_lr : 0.001,    Agg_decay : 0.001\r\n",
      "2023-02-08 15:46:55  Aggregation function : mean\r\n",
      "------------------------------------------------------------------------------------------------------------------------\r\n",
      "2023-02-08 15:46:55  Dataset : tp     interaction : GraphMF\r\n",
      "2023-02-08 15:46:55  Density : 20.00%, slice_epochs : 15, agg_epochs : 15\r\n",
      "2023-02-08 15:46:55  Part_type : 1,    slices : 5,       devices : gpu\r\n",
      "\r\n",
      "\r\n",
      "2023-02-08 15:46:55  Density 20.00% : MAE = 13.003, RMSE = 44.278, NMAE = 0.274, MRE = 0.188, NPRE = 0.964\r\n",
      "\r\n",
      "2023-02-08 15:46:55  Experiment success!\r\n",
      "\r\n"
     ]
    }
   ],
   "source": [
    "!python Experiment.py --dataset tp --interaction GraphMF --rounds 1 --slices 5 --agg_epochs 15 --density 0.20 --part_type 1"
   ],
   "metadata": {
    "collapsed": false
   }
  },
  {
   "cell_type": "code",
   "execution_count": 16,
   "outputs": [
    {
     "name": "stdout",
     "output_type": "stream",
     "text": [
      "2023-02-08 15:46:56  All the experiments have been done!\r\n",
      "2023-02-08 15:46:56  Namespace(F=1, agg2=0, agg_decay=0.001, agg_epochs=15, agg_function=1, agg_lr=0.001, agg_type='att', att_decay=0.0001, att_lr=0.001, batch_size=128, beta=1, cluster='deep', cuda=True, dataset='tp', debug=0, density=0.2, devices='gpu', dimension=32, dir='../Dataset/mnist', dropout=0.1, epoch=1500, external_dim=64, hidden_dims=[64, 64, 100], input_dim=128, interaction='GraphMF', lamda=1, latent_dim=10, log_interval=100, lr=0.0001, n_classes=10, n_clusters=10, n_jobs=1, node2vec=0, node2vec_batchsize=32, node2vec_dim=128, node2vec_epochs=20, node2vec_length=8, node2vec_walk=15, node2vec_windows=3, num_layers=2, order=2, part_iter=20, part_type=3, path='./datasets/data/WSDREAM/', pre_epoch=1000, pretrain=True, processed=0, random_state=1001, record=1, retrain=0, rounds=1, save_model=1, slice=1, slice_decay=0.001, slice_epochs=100, slice_lr=0.001, slices=5, verbose=10, wd=0.0005)\r\n",
      "2023-02-08 15:46:56  Dataset : tp     interaction : GraphMF\r\n",
      "2023-02-08 15:46:56  Density : 20.00%, slice_epochs : 15, agg_epochs : 15\r\n",
      "2023-02-08 15:46:56  Part_type : 3,    slices : 5,       devices : gpu\r\n",
      "2023-02-08 15:46:56  Slice_lr : 0.01,    Slice_decay : 0.001\r\n",
      "2023-02-08 15:46:56  Agg_lr : 0.001,    Agg_decay : 0.001\r\n",
      "2023-02-08 15:46:56  Aggregation function : softmax\r\n",
      "------------------------------------------------------------------------------------------------------------------------\r\n",
      "2023-02-08 15:46:56  Dataset : tp     interaction : GraphMF\r\n",
      "2023-02-08 15:46:56  Density : 20.00%, slice_epochs : 15, agg_epochs : 15\r\n",
      "2023-02-08 15:46:56  Part_type : 3,    slices : 5,       devices : gpu\r\n",
      "\r\n",
      "\r\n",
      "2023-02-08 15:46:56  Density 20.00% : MAE = 13.524, RMSE = 44.767, NMAE = 0.285, MRE = 0.208, NPRE = 1.094\r\n",
      "\r\n",
      "2023-02-08 15:46:56  Experiment success!\r\n",
      "\r\n"
     ]
    }
   ],
   "source": [
    "!python Experiment.py --dataset tp --interaction GraphMF --rounds 1 --slices 5 --agg_epochs 15 --density 0.20 --part_type 3"
   ],
   "metadata": {
    "collapsed": false
   }
  },
  {
   "cell_type": "code",
   "execution_count": 17,
   "outputs": [
    {
     "name": "stdout",
     "output_type": "stream",
     "text": [
      "2023-02-08 15:46:57  All the experiments have been done!\r\n",
      "2023-02-08 15:46:57  Namespace(F=1, agg2=0, agg_decay=0.001, agg_epochs=15, agg_function=1, agg_lr=0.001, agg_type='att', att_decay=0.0001, att_lr=0.001, batch_size=128, beta=1, cluster='deep', cuda=True, dataset='tp', debug=0, density=0.25, devices='gpu', dimension=32, dir='../Dataset/mnist', dropout=0.1, epoch=1500, external_dim=64, hidden_dims=[64, 64, 100], input_dim=128, interaction='GraphMF', lamda=1, latent_dim=10, log_interval=100, lr=0.0001, n_classes=10, n_clusters=10, n_jobs=1, node2vec=0, node2vec_batchsize=32, node2vec_dim=128, node2vec_epochs=20, node2vec_length=8, node2vec_walk=15, node2vec_windows=3, num_layers=2, order=2, part_iter=20, part_type=1, path='./datasets/data/WSDREAM/', pre_epoch=1000, pretrain=True, processed=0, random_state=1001, record=1, retrain=0, rounds=1, save_model=1, slice=1, slice_decay=0.001, slice_epochs=100, slice_lr=0.001, slices=5, verbose=10, wd=0.0005)\r\n",
      "2023-02-08 15:46:57  Dataset : tp     interaction : GraphMF\r\n",
      "2023-02-08 15:46:57  Density : 25.00%, slice_epochs : 15, agg_epochs : 15\r\n",
      "2023-02-08 15:46:57  Part_type : 1,    slices : 5,       devices : gpu\r\n",
      "2023-02-08 15:46:57  Slice_lr : 0.01,    Slice_decay : 0.001\r\n",
      "2023-02-08 15:46:57  Agg_lr : 0.001,    Agg_decay : 0.001\r\n",
      "2023-02-08 15:46:57  Aggregation function : mean\r\n",
      "------------------------------------------------------------------------------------------------------------------------\r\n",
      "2023-02-08 15:46:57  Dataset : tp     interaction : GraphMF\r\n",
      "2023-02-08 15:46:57  Density : 25.00%, slice_epochs : 15, agg_epochs : 15\r\n",
      "2023-02-08 15:46:57  Part_type : 1,    slices : 5,       devices : gpu\r\n",
      "\r\n",
      "\r\n",
      "2023-02-08 15:46:57  Density 25.00% : MAE = 12.266, RMSE = 42.511, NMAE = 0.258, MRE = 0.177, NPRE = 0.897\r\n",
      "\r\n",
      "2023-02-08 15:46:57  Experiment success!\r\n",
      "\r\n"
     ]
    }
   ],
   "source": [
    "!python Experiment.py --dataset tp --interaction GraphMF --rounds 1 --slices 5 --agg_epochs 15 --density 0.25 --part_type 1"
   ],
   "metadata": {
    "collapsed": false
   }
  },
  {
   "cell_type": "code",
   "execution_count": 18,
   "outputs": [
    {
     "name": "stdout",
     "output_type": "stream",
     "text": [
      "2023-02-08 15:46:58  All the experiments have been done!\r\n",
      "2023-02-08 15:46:58  Namespace(F=1, agg2=0, agg_decay=0.001, agg_epochs=15, agg_function=1, agg_lr=0.001, agg_type='att', att_decay=0.0001, att_lr=0.001, batch_size=128, beta=1, cluster='deep', cuda=True, dataset='tp', debug=0, density=0.25, devices='gpu', dimension=32, dir='../Dataset/mnist', dropout=0.1, epoch=1500, external_dim=64, hidden_dims=[64, 64, 100], input_dim=128, interaction='GraphMF', lamda=1, latent_dim=10, log_interval=100, lr=0.0001, n_classes=10, n_clusters=10, n_jobs=1, node2vec=0, node2vec_batchsize=32, node2vec_dim=128, node2vec_epochs=20, node2vec_length=8, node2vec_walk=15, node2vec_windows=3, num_layers=2, order=2, part_iter=20, part_type=3, path='./datasets/data/WSDREAM/', pre_epoch=1000, pretrain=True, processed=0, random_state=1001, record=1, retrain=0, rounds=1, save_model=1, slice=1, slice_decay=0.001, slice_epochs=100, slice_lr=0.001, slices=5, verbose=10, wd=0.0005)\r\n",
      "2023-02-08 15:46:58  Dataset : tp     interaction : GraphMF\r\n",
      "2023-02-08 15:46:58  Density : 25.00%, slice_epochs : 15, agg_epochs : 15\r\n",
      "2023-02-08 15:46:58  Part_type : 3,    slices : 5,       devices : gpu\r\n",
      "2023-02-08 15:46:58  Slice_lr : 0.01,    Slice_decay : 0.001\r\n",
      "2023-02-08 15:46:58  Agg_lr : 0.001,    Agg_decay : 0.001\r\n",
      "2023-02-08 15:46:58  Aggregation function : softmax\r\n",
      "------------------------------------------------------------------------------------------------------------------------\r\n",
      "2023-02-08 15:46:58  Dataset : tp     interaction : GraphMF\r\n",
      "2023-02-08 15:46:58  Density : 25.00%, slice_epochs : 15, agg_epochs : 15\r\n",
      "2023-02-08 15:46:58  Part_type : 3,    slices : 5,       devices : gpu\r\n",
      "\r\n",
      "\r\n",
      "2023-02-08 15:46:58  Density 25.00% : MAE = 12.882, RMSE = 43.198, NMAE = 0.271, MRE = 0.198, NPRE = 1.020\r\n",
      "\r\n",
      "2023-02-08 15:46:58  Experiment success!\r\n",
      "\r\n"
     ]
    }
   ],
   "source": [
    "!python Experiment.py --dataset tp --interaction GraphMF --rounds 1 --slices 5 --agg_epochs 15 --density 0.25 --part_type 3"
   ],
   "metadata": {
    "collapsed": false
   }
  },
  {
   "cell_type": "code",
   "execution_count": 19,
   "outputs": [
    {
     "name": "stdout",
     "output_type": "stream",
     "text": [
      "2023-02-08 15:46:59  All the experiments have been done!\r\n",
      "2023-02-08 15:46:59  Namespace(F=1, agg2=0, agg_decay=0.001, agg_epochs=15, agg_function=1, agg_lr=0.001, agg_type='att', att_decay=0.0001, att_lr=0.001, batch_size=128, beta=1, cluster='deep', cuda=True, dataset='tp', debug=0, density=0.3, devices='gpu', dimension=32, dir='../Dataset/mnist', dropout=0.1, epoch=1500, external_dim=64, hidden_dims=[64, 64, 100], input_dim=128, interaction='GraphMF', lamda=1, latent_dim=10, log_interval=100, lr=0.0001, n_classes=10, n_clusters=10, n_jobs=1, node2vec=0, node2vec_batchsize=32, node2vec_dim=128, node2vec_epochs=20, node2vec_length=8, node2vec_walk=15, node2vec_windows=3, num_layers=2, order=2, part_iter=20, part_type=1, path='./datasets/data/WSDREAM/', pre_epoch=1000, pretrain=True, processed=0, random_state=1001, record=1, retrain=0, rounds=1, save_model=1, slice=1, slice_decay=0.001, slice_epochs=100, slice_lr=0.001, slices=5, verbose=10, wd=0.0005)\r\n",
      "2023-02-08 15:46:59  Dataset : tp     interaction : GraphMF\r\n",
      "2023-02-08 15:46:59  Density : 30.00%, slice_epochs : 15, agg_epochs : 15\r\n",
      "2023-02-08 15:46:59  Part_type : 1,    slices : 5,       devices : gpu\r\n",
      "2023-02-08 15:46:59  Slice_lr : 0.01,    Slice_decay : 0.001\r\n",
      "2023-02-08 15:46:59  Agg_lr : 0.001,    Agg_decay : 0.001\r\n",
      "2023-02-08 15:46:59  Aggregation function : mean\r\n",
      "------------------------------------------------------------------------------------------------------------------------\r\n",
      "2023-02-08 15:46:59  Dataset : tp     interaction : GraphMF\r\n",
      "2023-02-08 15:46:59  Density : 30.00%, slice_epochs : 15, agg_epochs : 15\r\n",
      "2023-02-08 15:46:59  Part_type : 1,    slices : 5,       devices : gpu\r\n",
      "\r\n",
      "\r\n",
      "2023-02-08 15:46:59  Density 30.00% : MAE = 11.833, RMSE = 41.155, NMAE = 0.249, MRE = 0.170, NPRE = 0.929\r\n",
      "\r\n",
      "2023-02-08 15:46:59  Experiment success!\r\n",
      "\r\n"
     ]
    }
   ],
   "source": [
    "!python Experiment.py --dataset tp --interaction GraphMF --rounds 1 --slices 5 --agg_epochs 15 --density 0.30 --part_type 1"
   ],
   "metadata": {
    "collapsed": false
   }
  },
  {
   "cell_type": "code",
   "execution_count": 20,
   "outputs": [
    {
     "name": "stdout",
     "output_type": "stream",
     "text": [
      "2023-02-08 15:47:00  All the experiments have been done!\r\n",
      "2023-02-08 15:47:00  Namespace(F=1, agg2=0, agg_decay=0.001, agg_epochs=15, agg_function=1, agg_lr=0.001, agg_type='att', att_decay=0.0001, att_lr=0.001, batch_size=128, beta=1, cluster='deep', cuda=True, dataset='tp', debug=0, density=0.3, devices='gpu', dimension=32, dir='../Dataset/mnist', dropout=0.1, epoch=1500, external_dim=64, hidden_dims=[64, 64, 100], input_dim=128, interaction='GraphMF', lamda=1, latent_dim=10, log_interval=100, lr=0.0001, n_classes=10, n_clusters=10, n_jobs=1, node2vec=0, node2vec_batchsize=32, node2vec_dim=128, node2vec_epochs=20, node2vec_length=8, node2vec_walk=15, node2vec_windows=3, num_layers=2, order=2, part_iter=20, part_type=3, path='./datasets/data/WSDREAM/', pre_epoch=1000, pretrain=True, processed=0, random_state=1001, record=1, retrain=0, rounds=1, save_model=1, slice=1, slice_decay=0.001, slice_epochs=100, slice_lr=0.001, slices=5, verbose=10, wd=0.0005)\r\n",
      "2023-02-08 15:47:00  Dataset : tp     interaction : GraphMF\r\n",
      "2023-02-08 15:47:00  Density : 30.00%, slice_epochs : 15, agg_epochs : 15\r\n",
      "2023-02-08 15:47:00  Part_type : 3,    slices : 5,       devices : gpu\r\n",
      "2023-02-08 15:47:00  Slice_lr : 0.01,    Slice_decay : 0.001\r\n",
      "2023-02-08 15:47:00  Agg_lr : 0.001,    Agg_decay : 0.001\r\n",
      "2023-02-08 15:47:00  Aggregation function : softmax\r\n",
      "------------------------------------------------------------------------------------------------------------------------\r\n",
      "2023-02-08 15:47:00  Dataset : tp     interaction : GraphMF\r\n",
      "2023-02-08 15:47:00  Density : 30.00%, slice_epochs : 15, agg_epochs : 15\r\n",
      "2023-02-08 15:47:00  Part_type : 3,    slices : 5,       devices : gpu\r\n",
      "\r\n",
      "\r\n",
      "2023-02-08 15:47:00  Density 30.00% : MAE = 12.276, RMSE = 41.606, NMAE = 0.258, MRE = 0.189, NPRE = 0.943\r\n",
      "\r\n",
      "2023-02-08 15:47:00  Experiment success!\r\n",
      "\r\n"
     ]
    }
   ],
   "source": [
    "!python Experiment.py --dataset tp --interaction GraphMF --rounds 1 --slices 5 --agg_epochs 15 --density 0.30 --part_type 3"
   ],
   "metadata": {
    "collapsed": false
   }
  },
  {
   "cell_type": "code",
   "execution_count": 1,
   "outputs": [
    {
     "name": "stdout",
     "output_type": "stream",
     "text": [
      "2023-02-07 05:09:58  Experiment start!\r\n",
      "2023-02-07 05:09:58  Namespace(F=1, agg2=0, agg_decay=0.001, agg_epochs=12, agg_function=1, agg_lr=0.001, agg_type='att', att_decay=0.0001, att_lr=0.001, batch_size=128, beta=1, cluster='deep', cuda=True, dataset='rt', debug=0, density=0.2, devices='gpu', dimension=32, dir='../Dataset/mnist', dropout=0.1, epoch=1500, external_dim=64, hidden_dims=[64, 64, 100], input_dim=128, interaction='NeuCF', lamda=1, latent_dim=10, log_interval=100, lr=0.0001, n_classes=10, n_clusters=10, n_jobs=1, node2vec=0, node2vec_batchsize=32, node2vec_dim=128, node2vec_epochs=20, node2vec_length=8, node2vec_walk=15, node2vec_windows=3, num_layers=2, order=2, part_iter=20, part_type=5, path='./datasets/data/WSDREAM/', pre_epoch=1000, pretrain=True, processed=0, random_state=1001, record=0, retrain=0, rounds=1, save_model=1, slice=1, slice_decay=0.001, slice_epochs=100, slice_lr=0.001, slices=10, verbose=10, wd=0.0005)\r\n",
      "2023-02-07 05:09:58  Dataset : rt     interaction : NeuCF\r\n",
      "2023-02-07 05:09:58  Density : 20.00%, slice_epochs : 100, agg_epochs : 12\r\n",
      "2023-02-07 05:09:58  Part_type : 5,    slices : 10,       devices : gpu\r\n",
      "2023-02-07 05:09:58  Slice_lr : 0.004,    Slice_decay : 0.001\r\n",
      "2023-02-07 05:09:58  Agg_lr : 0.001,    Agg_decay : 0.001\r\n",
      "2023-02-07 05:09:58  Aggregation function : att\r\n",
      "\r\n",
      "2023-02-07 05:09:58  Round 1 experiment start!\r\n",
      "2023-02-07 05:09:58  \t原始数据集读取完毕\r\n",
      "2023-02-07 05:09:59  \t图嵌入均衡切割\r\n",
      "22 23 27 33 33 35 50 37 45 34 \r\n",
      "2023-02-07 05:09:59  \tNode2Vec 基于用户聚类均衡切割完毕\r\n",
      "2023-02-07 05:09:59  \t分切数据执行完毕\r\n",
      "2023-02-07 05:10:01  \t模型加载完毕\r\n",
      "2023-02-07 05:10:01  \t开始训练聚合模型\r\n",
      "2023-02-07 05:10:09  Epoch  1 : MAE : 0.4170  RMSE : 1.3439  NMAE : 0.4581  MRE : 0.3515  NPRE : 1.2210\r\n",
      "2023-02-07 05:10:18  Epoch  2 : MAE : 0.3857  RMSE : 1.3041  NMAE : 0.4237  MRE : 0.2920  NPRE : 1.0824\r\n",
      "2023-02-07 05:10:24  Epoch  3 : MAE : 0.3757  RMSE : 1.2966  NMAE : 0.4127  MRE : 0.2729  NPRE : 1.0000\r\n",
      "2023-02-07 05:10:30  Epoch  4 : MAE : 0.3726  RMSE : 1.2925  NMAE : 0.4094  MRE : 0.2603  NPRE : 0.9867\r\n",
      "2023-02-07 05:10:37  Epoch  5 : MAE : 0.3661  RMSE : 1.2862  NMAE : 0.4021  MRE : 0.2505  NPRE : 0.9542\r\n",
      "2023-02-07 05:10:43  Epoch  6 : MAE : 0.3656  RMSE : 1.2742  NMAE : 0.4017  MRE : 0.2536  NPRE : 0.9282\r\n",
      "2023-02-07 05:10:49  Epoch  7 : MAE : 0.3634  RMSE : 1.2760  NMAE : 0.3992  MRE : 0.2456  NPRE : 0.9291\r\n",
      "2023-02-07 05:10:55  Epoch  8 : MAE : 0.3568  RMSE : 1.2716  NMAE : 0.3919  MRE : 0.2400  NPRE : 0.9003\r\n",
      "2023-02-07 05:11:01  Epoch  9 : MAE : 0.3575  RMSE : 1.2676  NMAE : 0.3927  MRE : 0.2410  NPRE : 0.8889\r\n",
      "2023-02-07 05:11:07  Epoch 10 : MAE : 0.3527  RMSE : 1.2526  NMAE : 0.3874  MRE : 0.2405  NPRE : 0.8784\r\n",
      "2023-02-07 05:11:14  Epoch 11 : MAE : 0.3520  RMSE : 1.2504  NMAE : 0.3867  MRE : 0.2337  NPRE : 0.8889\r\n",
      "2023-02-07 05:11:20  Epoch 12 : MAE : 0.3501  RMSE : 1.2394  NMAE : 0.3846  MRE : 0.2389  NPRE : 0.8896\r\n",
      "2023-02-07 05:11:20  Best epoch 12 : MAE : 0.3501  RMSE : 1.2394  NMAE : 0.3846  MRE : 0.2389  NPRE : 0.8896\r\n",
      "2023-02-07 05:11:20  \t实验 1 聚合模型训练完毕\r\n",
      "2023-02-07 05:11:22  Result : MAE : 0.3501  RMSE : 1.2399  NMAE : 0.3846  MRE : 0.2387  NPRE : 0.8887\r\n",
      "/home/yxzeng/anaconda3/lib/python3.8/site-packages/numpy/core/fromnumeric.py:3432: RuntimeWarning: Mean of empty slice.\r\n",
      "  return _methods._mean(a, axis=axis, dtype=dtype,\r\n",
      "/home/yxzeng/anaconda3/lib/python3.8/site-packages/numpy/core/_methods.py:190: RuntimeWarning: invalid value encountered in double_scalars\r\n",
      "  ret = ret.dtype.type(ret / rcount)\r\n",
      "2023-02-07 05:11:22  \t实验 1 : Shards training time = nan s\r\n",
      "\r\n",
      "2023-02-07 05:11:22  \t实验 1 : Aggregators training time = 55.21 s\r\n",
      "\r\n",
      "2023-02-07 05:11:22  \t聚合模型训练完毕\r\n",
      "------------------------------------------------------------------------------------------------------------------------\r\n",
      "2023-02-07 05:11:22  Dataset : rt     interaction : NeuCF\r\n",
      "2023-02-07 05:11:22  Density : 20.00%, slice_epochs : 100, agg_epochs : 12\r\n",
      "2023-02-07 05:11:22  Part_type : 5,    slices : 10,       devices : gpu\r\n",
      "\r\n",
      "\r\n",
      "2023-02-07 05:11:22  Density 20.00% : MAE = 0.350, RMSE = 1.240, NMAE = 0.385, MRE = 0.239, NPRE = 0.889\r\n",
      "\r\n",
      "2023-02-07 05:11:22  Experiment success!\r\n",
      "\r\n"
     ]
    }
   ],
   "source": [
    "!python Experiment.py --dataset rt --interaction NeuCF --rounds 1 --slices 5 --agg_epochs 12 --density 0.20 --part_type 5 --slices 10 --record 0"
   ],
   "metadata": {
    "collapsed": false
   }
  },
  {
   "cell_type": "code",
   "execution_count": 2,
   "outputs": [
    {
     "name": "stdout",
     "output_type": "stream",
     "text": [
      "2023-02-07 05:11:23  Experiment start!\r\n",
      "2023-02-07 05:11:23  Namespace(F=1, agg2=0, agg_decay=0.001, agg_epochs=15, agg_function=1, agg_lr=0.001, agg_type='att', att_decay=0.0001, att_lr=0.001, batch_size=128, beta=1, cluster='deep', cuda=True, dataset='rt', debug=0, density=0.2, devices='gpu', dimension=32, dir='../Dataset/mnist', dropout=0.1, epoch=1500, external_dim=64, hidden_dims=[64, 64, 100], input_dim=128, interaction='CSMF', lamda=1, latent_dim=10, log_interval=100, lr=0.0001, n_classes=10, n_clusters=10, n_jobs=1, node2vec=0, node2vec_batchsize=32, node2vec_dim=128, node2vec_epochs=20, node2vec_length=8, node2vec_walk=15, node2vec_windows=3, num_layers=2, order=2, part_iter=20, part_type=5, path='./datasets/data/WSDREAM/', pre_epoch=1000, pretrain=True, processed=0, random_state=1001, record=0, retrain=0, rounds=1, save_model=1, slice=1, slice_decay=0.001, slice_epochs=100, slice_lr=0.001, slices=10, verbose=10, wd=0.0005)\r\n",
      "2023-02-07 05:11:23  Dataset : rt     interaction : CSMF\r\n",
      "2023-02-07 05:11:23  Density : 20.00%, slice_epochs : 100, agg_epochs : 15\r\n",
      "2023-02-07 05:11:23  Part_type : 5,    slices : 10,       devices : gpu\r\n",
      "2023-02-07 05:11:23  Slice_lr : 0.01,    Slice_decay : 0.001\r\n",
      "2023-02-07 05:11:23  Agg_lr : 0.008,    Agg_decay : 0.001\r\n",
      "2023-02-07 05:11:23  Aggregation function : att\r\n",
      "\r\n",
      "2023-02-07 05:11:23  Round 1 experiment start!\r\n",
      "2023-02-07 05:11:23  \t原始数据集读取完毕\r\n",
      "2023-02-07 05:11:23  \t图嵌入均衡切割\r\n",
      "22 23 27 33 33 35 50 37 45 34 \r\n",
      "2023-02-07 05:11:23  \tNode2Vec 基于用户聚类均衡切割完毕\r\n",
      "2023-02-07 05:11:23  \t分切数据执行完毕\r\n",
      "2023-02-07 05:11:25  \t模型加载完毕\r\n",
      "2023-02-07 05:11:25  \t开始训练聚合模型\r\n",
      "2023-02-07 05:11:29  Epoch  1 : MAE : 0.4982  RMSE : 1.4453  NMAE : 0.5473  MRE : 0.4261  NPRE : 2.0450\r\n",
      "2023-02-07 05:11:34  Epoch  2 : MAE : 0.4624  RMSE : 1.3663  NMAE : 0.5080  MRE : 0.4003  NPRE : 2.0781\r\n",
      "2023-02-07 05:11:38  Epoch  3 : MAE : 0.4522  RMSE : 1.3616  NMAE : 0.4967  MRE : 0.3867  NPRE : 1.8361\r\n",
      "2023-02-07 05:11:42  Epoch  4 : MAE : 0.4479  RMSE : 1.3533  NMAE : 0.4920  MRE : 0.3817  NPRE : 1.7290\r\n",
      "2023-02-07 05:11:46  Epoch  5 : MAE : 0.4430  RMSE : 1.3466  NMAE : 0.4867  MRE : 0.3788  NPRE : 1.7580\r\n",
      "2023-02-07 05:11:51  Epoch  6 : MAE : 0.4392  RMSE : 1.3458  NMAE : 0.4825  MRE : 0.3702  NPRE : 1.7258\r\n",
      "2023-02-07 05:11:55  Epoch  7 : MAE : 0.4394  RMSE : 1.3401  NMAE : 0.4827  MRE : 0.3801  NPRE : 1.8509\r\n",
      "2023-02-07 05:12:00  Epoch  8 : MAE : 0.4377  RMSE : 1.3463  NMAE : 0.4808  MRE : 0.3705  NPRE : 1.5658\r\n",
      "2023-02-07 05:12:04  Epoch  9 : MAE : 0.4326  RMSE : 1.3424  NMAE : 0.4752  MRE : 0.3682  NPRE : 1.6563\r\n",
      "2023-02-07 05:12:09  Epoch 10 : MAE : 0.4310  RMSE : 1.3435  NMAE : 0.4735  MRE : 0.3663  NPRE : 1.5167\r\n",
      "2023-02-07 05:12:13  Epoch 11 : MAE : 0.4323  RMSE : 1.3468  NMAE : 0.4749  MRE : 0.3690  NPRE : 1.6704\r\n",
      "2023-02-07 05:12:17  Epoch 12 : MAE : 0.4298  RMSE : 1.3438  NMAE : 0.4722  MRE : 0.3679  NPRE : 1.5044\r\n",
      "2023-02-07 05:12:22  Epoch 13 : MAE : 0.4313  RMSE : 1.3464  NMAE : 0.4738  MRE : 0.3652  NPRE : 1.5382\r\n",
      "2023-02-07 05:12:26  Epoch 14 : MAE : 0.4278  RMSE : 1.3352  NMAE : 0.4699  MRE : 0.3638  NPRE : 1.6557\r\n",
      "2023-02-07 05:12:30  Epoch 15 : MAE : 0.4278  RMSE : 1.3384  NMAE : 0.4699  MRE : 0.3677  NPRE : 1.5248\r\n",
      "2023-02-07 05:12:30  Best epoch 14 : MAE : 0.4278  RMSE : 1.3352  NMAE : 0.4699  MRE : 0.3638  NPRE : 1.6557\r\n",
      "2023-02-07 05:12:30  \t实验 1 聚合模型训练完毕\r\n",
      "2023-02-07 05:12:32  Result : MAE : 0.4277  RMSE : 1.3384  NMAE : 0.4699  MRE : 0.3642  NPRE : 1.5432\r\n",
      "/home/yxzeng/anaconda3/lib/python3.8/site-packages/numpy/core/fromnumeric.py:3432: RuntimeWarning: Mean of empty slice.\r\n",
      "  return _methods._mean(a, axis=axis, dtype=dtype,\r\n",
      "/home/yxzeng/anaconda3/lib/python3.8/site-packages/numpy/core/_methods.py:190: RuntimeWarning: invalid value encountered in double_scalars\r\n",
      "  ret = ret.dtype.type(ret / rcount)\r\n",
      "2023-02-07 05:12:32  \t实验 1 : Shards training time = nan s\r\n",
      "\r\n",
      "2023-02-07 05:12:32  \t实验 1 : Aggregators training time = 34.50 s\r\n",
      "\r\n",
      "2023-02-07 05:12:32  \t聚合模型训练完毕\r\n",
      "------------------------------------------------------------------------------------------------------------------------\r\n",
      "2023-02-07 05:12:32  Dataset : rt     interaction : CSMF\r\n",
      "2023-02-07 05:12:32  Density : 20.00%, slice_epochs : 100, agg_epochs : 15\r\n",
      "2023-02-07 05:12:32  Part_type : 5,    slices : 10,       devices : gpu\r\n",
      "\r\n",
      "\r\n",
      "2023-02-07 05:12:32  Density 20.00% : MAE = 0.428, RMSE = 1.338, NMAE = 0.470, MRE = 0.364, NPRE = 1.543\r\n",
      "\r\n",
      "2023-02-07 05:12:32  Experiment success!\r\n",
      "\r\n"
     ]
    }
   ],
   "source": [
    "!python Experiment.py --dataset rt --interaction CSMF --rounds 1 --slices 5 --agg_epochs 15 --density 0.20 --part_type 5 --slices 10 --record 0"
   ],
   "metadata": {
    "collapsed": false
   }
  },
  {
   "cell_type": "code",
   "execution_count": 3,
   "outputs": [
    {
     "name": "stdout",
     "output_type": "stream",
     "text": [
      "2023-02-07 05:12:33  Experiment start!\r\n",
      "2023-02-07 05:12:33  Namespace(F=1, agg2=0, agg_decay=0.001, agg_epochs=15, agg_function=1, agg_lr=0.001, agg_type='att', att_decay=0.0001, att_lr=0.001, batch_size=128, beta=1, cluster='deep', cuda=True, dataset='rt', debug=0, density=0.2, devices='gpu', dimension=32, dir='../Dataset/mnist', dropout=0.1, epoch=1500, external_dim=64, hidden_dims=[64, 64, 100], input_dim=128, interaction='MF', lamda=1, latent_dim=10, log_interval=100, lr=0.0001, n_classes=10, n_clusters=10, n_jobs=1, node2vec=0, node2vec_batchsize=32, node2vec_dim=128, node2vec_epochs=20, node2vec_length=8, node2vec_walk=15, node2vec_windows=3, num_layers=2, order=2, part_iter=20, part_type=5, path='./datasets/data/WSDREAM/', pre_epoch=1000, pretrain=True, processed=0, random_state=1001, record=0, retrain=0, rounds=1, save_model=1, slice=1, slice_decay=0.001, slice_epochs=100, slice_lr=0.001, slices=10, verbose=10, wd=0.0005)\r\n",
      "2023-02-07 05:12:33  Dataset : rt     interaction : MF\r\n",
      "2023-02-07 05:12:33  Density : 20.00%, slice_epochs : 100, agg_epochs : 15\r\n",
      "2023-02-07 05:12:33  Part_type : 5,    slices : 10,       devices : gpu\r\n",
      "2023-02-07 05:12:33  Slice_lr : 0.008,    Slice_decay : 0.001\r\n",
      "2023-02-07 05:12:33  Agg_lr : 0.001,    Agg_decay : 0.001\r\n",
      "2023-02-07 05:12:33  Aggregation function : att\r\n",
      "\r\n",
      "2023-02-07 05:12:33  Round 1 experiment start!\r\n",
      "2023-02-07 05:12:33  \t原始数据集读取完毕\r\n",
      "2023-02-07 05:12:34  \t图嵌入均衡切割\r\n",
      "22 23 27 33 33 35 50 37 45 34 \r\n",
      "2023-02-07 05:12:34  \tNode2Vec 基于用户聚类均衡切割完毕\r\n",
      "2023-02-07 05:12:34  \t分切数据执行完毕\r\n",
      "2023-02-07 05:12:36  \t模型加载完毕\r\n",
      "2023-02-07 05:12:36  \t开始训练聚合模型\r\n",
      "2023-02-07 05:12:40  Epoch  1 : MAE : 0.6565  RMSE : 1.8677  NMAE : 0.7212  MRE : 0.5470  NPRE : 2.5928\r\n",
      "2023-02-07 05:12:44  Epoch  2 : MAE : 0.6258  RMSE : 1.7911  NMAE : 0.6874  MRE : 0.5066  NPRE : 2.4360\r\n",
      "2023-02-07 05:12:49  Epoch  3 : MAE : 0.5943  RMSE : 1.6791  NMAE : 0.6529  MRE : 0.5090  NPRE : 2.5509\r\n",
      "2023-02-07 05:12:53  Epoch  4 : MAE : 0.5720  RMSE : 1.6165  NMAE : 0.6284  MRE : 0.4827  NPRE : 2.1989\r\n",
      "2023-02-07 05:12:57  Epoch  5 : MAE : 0.5645  RMSE : 1.5962  NMAE : 0.6201  MRE : 0.4802  NPRE : 2.1169\r\n",
      "2023-02-07 05:13:01  Epoch  6 : MAE : 0.5624  RMSE : 1.5918  NMAE : 0.6178  MRE : 0.4829  NPRE : 2.2760\r\n",
      "2023-02-07 05:13:05  Epoch  7 : MAE : 0.5618  RMSE : 1.5896  NMAE : 0.6171  MRE : 0.4895  NPRE : 2.2606\r\n",
      "2023-02-07 05:13:09  Epoch  8 : MAE : 0.5625  RMSE : 1.5957  NMAE : 0.6179  MRE : 0.4772  NPRE : 2.0822\r\n",
      "2023-02-07 05:13:13  Epoch  9 : MAE : 0.5587  RMSE : 1.5942  NMAE : 0.6138  MRE : 0.4717  NPRE : 1.9394\r\n",
      "2023-02-07 05:13:17  Epoch 10 : MAE : 0.5585  RMSE : 1.5943  NMAE : 0.6135  MRE : 0.4703  NPRE : 1.9483\r\n",
      "2023-02-07 05:13:21  Epoch 11 : MAE : 0.5589  RMSE : 1.5875  NMAE : 0.6140  MRE : 0.4790  NPRE : 2.1220\r\n",
      "2023-02-07 05:13:25  Epoch 12 : MAE : 0.5574  RMSE : 1.5846  NMAE : 0.6123  MRE : 0.4798  NPRE : 2.0701\r\n",
      "2023-02-07 05:13:29  Epoch 13 : MAE : 0.5598  RMSE : 1.5981  NMAE : 0.6149  MRE : 0.4736  NPRE : 2.0210\r\n",
      "2023-02-07 05:13:33  Epoch 14 : MAE : 0.5599  RMSE : 1.5906  NMAE : 0.6151  MRE : 0.4783  NPRE : 2.0819\r\n",
      "2023-02-07 05:13:37  Epoch 15 : MAE : 0.5582  RMSE : 1.5905  NMAE : 0.6132  MRE : 0.4716  NPRE : 1.8991\r\n",
      "2023-02-07 05:13:37  Best epoch 12 : MAE : 0.5574  RMSE : 1.5846  NMAE : 0.6123  MRE : 0.4798  NPRE : 2.0701\r\n",
      "2023-02-07 05:13:37  \t实验 1 聚合模型训练完毕\r\n",
      "2023-02-07 05:13:39  Result : MAE : 0.5591  RMSE : 1.5909  NMAE : 0.6142  MRE : 0.4803  NPRE : 2.1493\r\n",
      "/home/yxzeng/anaconda3/lib/python3.8/site-packages/numpy/core/fromnumeric.py:3432: RuntimeWarning: Mean of empty slice.\r\n",
      "  return _methods._mean(a, axis=axis, dtype=dtype,\r\n",
      "/home/yxzeng/anaconda3/lib/python3.8/site-packages/numpy/core/_methods.py:190: RuntimeWarning: invalid value encountered in double_scalars\r\n",
      "  ret = ret.dtype.type(ret / rcount)\r\n",
      "2023-02-07 05:13:39  \t实验 1 : Shards training time = nan s\r\n",
      "\r\n",
      "2023-02-07 05:13:39  \t实验 1 : Aggregators training time = 26.79 s\r\n",
      "\r\n",
      "2023-02-07 05:13:39  \t聚合模型训练完毕\r\n",
      "------------------------------------------------------------------------------------------------------------------------\r\n",
      "2023-02-07 05:13:39  Dataset : rt     interaction : MF\r\n",
      "2023-02-07 05:13:39  Density : 20.00%, slice_epochs : 100, agg_epochs : 15\r\n",
      "2023-02-07 05:13:39  Part_type : 5,    slices : 10,       devices : gpu\r\n",
      "\r\n",
      "\r\n",
      "2023-02-07 05:13:39  Density 20.00% : MAE = 0.559, RMSE = 1.591, NMAE = 0.614, MRE = 0.480, NPRE = 2.149\r\n",
      "\r\n",
      "2023-02-07 05:13:39  Experiment success!\r\n",
      "\r\n"
     ]
    }
   ],
   "source": [
    "!python Experiment.py --dataset rt --interaction MF --rounds 1 --slices 5 --agg_epochs 15 --density 0.20 --part_type 5 --slices 10 --record 0"
   ],
   "metadata": {
    "collapsed": false
   }
  },
  {
   "cell_type": "code",
   "execution_count": 4,
   "outputs": [
    {
     "name": "stdout",
     "output_type": "stream",
     "text": [
      "2023-02-07 05:13:40  Experiment start!\r\n",
      "2023-02-07 05:13:40  Namespace(F=1, agg2=0, agg_decay=0.001, agg_epochs=12, agg_function=1, agg_lr=0.001, agg_type='att', att_decay=0.0001, att_lr=0.001, batch_size=128, beta=1, cluster='deep', cuda=True, dataset='rt', debug=0, density=0.2, devices='gpu', dimension=32, dir='../Dataset/mnist', dropout=0.1, epoch=1500, external_dim=64, hidden_dims=[64, 64, 100], input_dim=128, interaction='GraphMF', lamda=1, latent_dim=10, log_interval=100, lr=0.0001, n_classes=10, n_clusters=10, n_jobs=1, node2vec=0, node2vec_batchsize=32, node2vec_dim=128, node2vec_epochs=20, node2vec_length=8, node2vec_walk=15, node2vec_windows=3, num_layers=2, order=2, part_iter=20, part_type=5, path='./datasets/data/WSDREAM/', pre_epoch=1000, pretrain=True, processed=0, random_state=1001, record=0, retrain=0, rounds=1, save_model=1, slice=1, slice_decay=0.001, slice_epochs=100, slice_lr=0.001, slices=10, verbose=10, wd=0.0005)\r\n",
      "2023-02-07 05:13:40  Dataset : rt     interaction : GraphMF\r\n",
      "2023-02-07 05:13:40  Density : 20.00%, slice_epochs : 15, agg_epochs : 12\r\n",
      "2023-02-07 05:13:40  Part_type : 5,    slices : 10,       devices : gpu\r\n",
      "2023-02-07 05:13:40  Slice_lr : 0.01,    Slice_decay : 0.001\r\n",
      "2023-02-07 05:13:40  Agg_lr : 0.001,    Agg_decay : 0.001\r\n",
      "2023-02-07 05:13:40  Aggregation function : att\r\n",
      "\r\n",
      "2023-02-07 05:13:40  Round 1 experiment start!\r\n",
      "2023-02-07 05:13:40  \t原始数据集读取完毕\r\n",
      "2023-02-07 05:13:41  \t图嵌入均衡切割\r\n",
      "22 23 27 33 33 35 50 37 45 34 \r\n",
      "2023-02-07 05:13:41  \tNode2Vec 基于用户聚类均衡切割完毕\r\n",
      "2023-02-07 05:13:41  \t分切数据执行完毕\r\n",
      "2023-02-07 05:13:41  \tNeuGraphMF建图中\r\n",
      "2023-02-07 05:13:44  \tNeuGraphMF建图完毕\r\n",
      "2023-02-07 05:13:47  \t模型加载完毕\r\n",
      "2023-02-07 05:13:47  \t开始训练聚合模型\r\n",
      "2023-02-07 05:13:51  Epoch  1 : MAE : 0.5478  RMSE : 1.5830  NMAE : 0.6017  MRE : 0.4125  NPRE : 2.2724\r\n",
      "2023-02-07 05:13:56  Epoch  2 : MAE : 0.5260  RMSE : 1.5462  NMAE : 0.5778  MRE : 0.3810  NPRE : 1.9674\r\n",
      "2023-02-07 05:14:00  Epoch  3 : MAE : 0.4427  RMSE : 1.3871  NMAE : 0.4863  MRE : 0.3407  NPRE : 1.7051\r\n",
      "2023-02-07 05:14:05  Epoch  4 : MAE : 0.4007  RMSE : 1.3081  NMAE : 0.4401  MRE : 0.3080  NPRE : 1.7337\r\n",
      "2023-02-07 05:14:09  Epoch  5 : MAE : 0.3837  RMSE : 1.2964  NMAE : 0.4215  MRE : 0.2824  NPRE : 1.3708\r\n",
      "2023-02-07 05:14:13  Epoch  6 : MAE : 0.3895  RMSE : 1.3221  NMAE : 0.4279  MRE : 0.2822  NPRE : 1.0831\r\n",
      "2023-02-07 05:14:18  Epoch  7 : MAE : 0.3728  RMSE : 1.2850  NMAE : 0.4096  MRE : 0.2644  NPRE : 1.2256\r\n",
      "2023-02-07 05:14:22  Epoch  8 : MAE : 0.3900  RMSE : 1.2785  NMAE : 0.4284  MRE : 0.2820  NPRE : 1.3804\r\n",
      "2023-02-07 05:14:27  Epoch  9 : MAE : 0.3687  RMSE : 1.2990  NMAE : 0.4050  MRE : 0.2492  NPRE : 1.0931\r\n",
      "2023-02-07 05:14:31  Epoch 10 : MAE : 0.3648  RMSE : 1.2810  NMAE : 0.4008  MRE : 0.2407  NPRE : 0.9862\r\n",
      "2023-02-07 05:14:35  Epoch 11 : MAE : 0.3688  RMSE : 1.2820  NMAE : 0.4051  MRE : 0.2439  NPRE : 1.0656\r\n",
      "2023-02-07 05:14:40  Epoch 12 : MAE : 0.3624  RMSE : 1.2791  NMAE : 0.3981  MRE : 0.2362  NPRE : 0.9605\r\n",
      "2023-02-07 05:14:40  Best epoch 12 : MAE : 0.3624  RMSE : 1.2791  NMAE : 0.3981  MRE : 0.2362  NPRE : 0.9605\r\n",
      "2023-02-07 05:14:40  \t实验 1 聚合模型训练完毕\r\n",
      "2023-02-07 05:14:42  Result : MAE : 0.3624  RMSE : 1.2791  NMAE : 0.3981  MRE : 0.2362  NPRE : 0.9605\r\n",
      "/home/yxzeng/anaconda3/lib/python3.8/site-packages/numpy/core/fromnumeric.py:3432: RuntimeWarning: Mean of empty slice.\r\n",
      "  return _methods._mean(a, axis=axis, dtype=dtype,\r\n",
      "/home/yxzeng/anaconda3/lib/python3.8/site-packages/numpy/core/_methods.py:190: RuntimeWarning: invalid value encountered in double_scalars\r\n",
      "  ret = ret.dtype.type(ret / rcount)\r\n",
      "2023-02-07 05:14:42  \t实验 1 : Shards training time = nan s\r\n",
      "\r\n",
      "2023-02-07 05:14:42  \t实验 1 : Aggregators training time = 31.10 s\r\n",
      "\r\n",
      "2023-02-07 05:14:42  \t聚合模型训练完毕\r\n",
      "------------------------------------------------------------------------------------------------------------------------\r\n",
      "2023-02-07 05:14:42  Dataset : rt     interaction : GraphMF\r\n",
      "2023-02-07 05:14:42  Density : 20.00%, slice_epochs : 15, agg_epochs : 12\r\n",
      "2023-02-07 05:14:42  Part_type : 5,    slices : 10,       devices : gpu\r\n",
      "\r\n",
      "\r\n",
      "2023-02-07 05:14:42  Density 20.00% : MAE = 0.362, RMSE = 1.279, NMAE = 0.398, MRE = 0.236, NPRE = 0.961\r\n",
      "\r\n",
      "2023-02-07 05:14:42  Experiment success!\r\n",
      "\r\n"
     ]
    }
   ],
   "source": [
    "!python Experiment.py --dataset rt --interaction GraphMF --rounds 1 --slices 5 --agg_epochs 12 --density 0.20 --part_type 5 --slices 10 --record 0"
   ],
   "metadata": {
    "collapsed": false
   }
  },
  {
   "cell_type": "code",
   "execution_count": 5,
   "outputs": [
    {
     "name": "stdout",
     "output_type": "stream",
     "text": [
      "2023-02-07 05:14:43  Experiment start!\r\n",
      "2023-02-07 05:14:43  Namespace(F=1, agg2=0, agg_decay=0.001, agg_epochs=15, agg_function=1, agg_lr=0.001, agg_type='att', att_decay=0.0001, att_lr=0.001, batch_size=128, beta=1, cluster='deep', cuda=True, dataset='tp', debug=0, density=0.2, devices='gpu', dimension=32, dir='../Dataset/mnist', dropout=0.1, epoch=1500, external_dim=64, hidden_dims=[64, 64, 100], input_dim=128, interaction='NeuCF', lamda=1, latent_dim=10, log_interval=100, lr=0.0001, n_classes=10, n_clusters=10, n_jobs=1, node2vec=0, node2vec_batchsize=32, node2vec_dim=128, node2vec_epochs=20, node2vec_length=8, node2vec_walk=15, node2vec_windows=3, num_layers=2, order=2, part_iter=20, part_type=5, path='./datasets/data/WSDREAM/', pre_epoch=1000, pretrain=True, processed=0, random_state=1001, record=0, retrain=0, rounds=1, save_model=1, slice=1, slice_decay=0.001, slice_epochs=100, slice_lr=0.001, slices=10, verbose=10, wd=0.0005)\r\n",
      "2023-02-07 05:14:43  Dataset : tp     interaction : NeuCF\r\n",
      "2023-02-07 05:14:43  Density : 20.00%, slice_epochs : 100, agg_epochs : 15\r\n",
      "2023-02-07 05:14:43  Part_type : 5,    slices : 10,       devices : gpu\r\n",
      "2023-02-07 05:14:43  Slice_lr : 0.004,    Slice_decay : 0.001\r\n",
      "2023-02-07 05:14:43  Agg_lr : 0.001,    Agg_decay : 0.001\r\n",
      "2023-02-07 05:14:43  Aggregation function : att\r\n",
      "\r\n",
      "2023-02-07 05:14:43  Round 1 experiment start!\r\n",
      "2023-02-07 05:14:43  \t原始数据集读取完毕\r\n",
      "2023-02-07 05:14:43  \t图嵌入均衡切割\r\n",
      "22 23 27 33 33 35 50 37 45 34 \r\n",
      "2023-02-07 05:14:43  \tNode2Vec 基于用户聚类均衡切割完毕\r\n",
      "2023-02-07 05:14:43  \t分切数据执行完毕\r\n",
      "2023-02-07 05:14:45  \t模型加载完毕\r\n",
      "2023-02-07 05:14:45  \t开始训练聚合模型\r\n",
      "2023-02-07 05:14:52  Epoch  1 : MAE : 19.5203  RMSE : 56.9055  NMAE : 0.4107  MRE : 0.3891  NPRE : 2.0383\r\n",
      "2023-02-07 05:14:59  Epoch  2 : MAE : 17.8485  RMSE : 53.7671  NMAE : 0.3755  MRE : 0.3322  NPRE : 1.2025\r\n",
      "2023-02-07 05:15:05  Epoch  3 : MAE : 16.7534  RMSE : 51.8938  NMAE : 0.3524  MRE : 0.3017  NPRE : 1.2924\r\n",
      "2023-02-07 05:15:12  Epoch  4 : MAE : 16.1083  RMSE : 49.9520  NMAE : 0.3389  MRE : 0.2856  NPRE : 1.3218\r\n",
      "2023-02-07 05:15:19  Epoch  5 : MAE : 15.5475  RMSE : 48.9034  NMAE : 0.3271  MRE : 0.2737  NPRE : 1.1780\r\n",
      "2023-02-07 05:15:25  Epoch  6 : MAE : 15.2916  RMSE : 48.3454  NMAE : 0.3217  MRE : 0.2707  NPRE : 1.6224\r\n",
      "2023-02-07 05:15:32  Epoch  7 : MAE : 15.1132  RMSE : 48.5534  NMAE : 0.3179  MRE : 0.2584  NPRE : 1.2553\r\n",
      "2023-02-07 05:15:38  Epoch  8 : MAE : 14.7795  RMSE : 47.0166  NMAE : 0.3109  MRE : 0.2543  NPRE : 1.2596\r\n",
      "2023-02-07 05:15:44  Epoch  9 : MAE : 14.6296  RMSE : 46.7830  NMAE : 0.3078  MRE : 0.2524  NPRE : 1.0000\r\n",
      "2023-02-07 05:15:51  Epoch 10 : MAE : 14.5815  RMSE : 46.6545  NMAE : 0.3068  MRE : 0.2577  NPRE : 1.0000\r\n",
      "2023-02-07 05:15:57  Epoch 11 : MAE : 14.3391  RMSE : 45.8772  NMAE : 0.3017  MRE : 0.2469  NPRE : 1.3375\r\n",
      "2023-02-07 05:16:04  Epoch 12 : MAE : 14.4046  RMSE : 46.3798  NMAE : 0.3030  MRE : 0.2421  NPRE : 1.1555\r\n",
      "2023-02-07 05:16:11  Epoch 13 : MAE : 14.2911  RMSE : 45.5976  NMAE : 0.3006  MRE : 0.2517  NPRE : 1.2876\r\n",
      "2023-02-07 05:16:17  Epoch 14 : MAE : 14.1749  RMSE : 45.5322  NMAE : 0.2982  MRE : 0.2393  NPRE : 1.1657\r\n",
      "2023-02-07 05:16:24  Epoch 15 : MAE : 14.2120  RMSE : 45.9286  NMAE : 0.2990  MRE : 0.2382  NPRE : 1.2402\r\n",
      "2023-02-07 05:16:24  Best epoch 14 : MAE : 14.1749  RMSE : 45.5322  NMAE : 0.2982  MRE : 0.2393  NPRE : 1.1657\r\n",
      "2023-02-07 05:16:24  \t实验 1 聚合模型训练完毕\r\n",
      "2023-02-07 05:16:26  Result : MAE : 14.1037  RMSE : 45.5213  NMAE : 0.2967  MRE : 0.2366  NPRE : 1.2127\r\n",
      "/home/yxzeng/anaconda3/lib/python3.8/site-packages/numpy/core/fromnumeric.py:3432: RuntimeWarning: Mean of empty slice.\r\n",
      "  return _methods._mean(a, axis=axis, dtype=dtype,\r\n",
      "/home/yxzeng/anaconda3/lib/python3.8/site-packages/numpy/core/_methods.py:190: RuntimeWarning: invalid value encountered in double_scalars\r\n",
      "  ret = ret.dtype.type(ret / rcount)\r\n",
      "2023-02-07 05:16:26  \t实验 1 : Shards training time = nan s\r\n",
      "\r\n",
      "2023-02-07 05:16:26  \t实验 1 : Aggregators training time = 65.72 s\r\n",
      "\r\n",
      "2023-02-07 05:16:26  \t聚合模型训练完毕\r\n",
      "------------------------------------------------------------------------------------------------------------------------\r\n",
      "2023-02-07 05:16:26  Dataset : tp     interaction : NeuCF\r\n",
      "2023-02-07 05:16:26  Density : 20.00%, slice_epochs : 100, agg_epochs : 15\r\n",
      "2023-02-07 05:16:26  Part_type : 5,    slices : 10,       devices : gpu\r\n",
      "\r\n",
      "\r\n",
      "2023-02-07 05:16:26  Density 20.00% : MAE = 14.104, RMSE = 45.521, NMAE = 0.297, MRE = 0.237, NPRE = 1.213\r\n",
      "\r\n",
      "2023-02-07 05:16:26  Experiment success!\r\n",
      "\r\n"
     ]
    }
   ],
   "source": [
    "!python Experiment.py --dataset tp --interaction NeuCF --rounds 1 --slices 5 --agg_epochs 15 --density 0.20 --part_type 5 --slices 10 --record 0"
   ],
   "metadata": {
    "collapsed": false
   }
  },
  {
   "cell_type": "code",
   "execution_count": 6,
   "outputs": [
    {
     "name": "stdout",
     "output_type": "stream",
     "text": [
      "2023-02-07 05:16:27  Experiment start!\r\n",
      "2023-02-07 05:16:27  Namespace(F=1, agg2=0, agg_decay=0.001, agg_epochs=20, agg_function=1, agg_lr=0.001, agg_type='att', att_decay=0.0001, att_lr=0.001, batch_size=128, beta=1, cluster='deep', cuda=True, dataset='tp', debug=0, density=0.2, devices='gpu', dimension=32, dir='../Dataset/mnist', dropout=0.1, epoch=1500, external_dim=64, hidden_dims=[64, 64, 100], input_dim=128, interaction='CSMF', lamda=1, latent_dim=10, log_interval=100, lr=0.0001, n_classes=10, n_clusters=10, n_jobs=1, node2vec=0, node2vec_batchsize=32, node2vec_dim=128, node2vec_epochs=20, node2vec_length=8, node2vec_walk=15, node2vec_windows=3, num_layers=2, order=2, part_iter=20, part_type=5, path='./datasets/data/WSDREAM/', pre_epoch=1000, pretrain=True, processed=0, random_state=1001, record=0, retrain=0, rounds=1, save_model=1, slice=1, slice_decay=0.001, slice_epochs=100, slice_lr=0.001, slices=10, verbose=10, wd=0.0005)\r\n",
      "2023-02-07 05:16:27  Dataset : tp     interaction : CSMF\r\n",
      "2023-02-07 05:16:27  Density : 20.00%, slice_epochs : 100, agg_epochs : 20\r\n",
      "2023-02-07 05:16:27  Part_type : 5,    slices : 10,       devices : gpu\r\n",
      "2023-02-07 05:16:27  Slice_lr : 0.01,    Slice_decay : 0.001\r\n",
      "2023-02-07 05:16:27  Agg_lr : 0.008,    Agg_decay : 0.001\r\n",
      "2023-02-07 05:16:27  Aggregation function : att\r\n",
      "\r\n",
      "2023-02-07 05:16:27  Round 1 experiment start!\r\n",
      "2023-02-07 05:16:27  \t原始数据集读取完毕\r\n",
      "2023-02-07 05:16:27  \t图嵌入均衡切割\r\n",
      "22 23 27 33 33 35 50 37 45 34 \r\n",
      "2023-02-07 05:16:27  \tNode2Vec 基于用户聚类均衡切割完毕\r\n",
      "2023-02-07 05:16:27  \t分切数据执行完毕\r\n",
      "2023-02-07 05:16:29  \t模型加载完毕\r\n",
      "2023-02-07 05:16:29  \t开始训练聚合模型\r\n",
      "2023-02-07 05:16:34  Epoch  1 : MAE : 22.9997  RMSE : 63.6225  NMAE : 0.4838  MRE : 0.4410  NPRE : 2.1748\r\n",
      "2023-02-07 05:16:38  Epoch  2 : MAE : 22.2002  RMSE : 62.7705  NMAE : 0.4670  MRE : 0.4117  NPRE : 1.6534\r\n",
      "2023-02-07 05:16:43  Epoch  3 : MAE : 21.5851  RMSE : 60.8727  NMAE : 0.4541  MRE : 0.3969  NPRE : 1.8439\r\n",
      "2023-02-07 05:16:47  Epoch  4 : MAE : 21.8086  RMSE : 60.3471  NMAE : 0.4588  MRE : 0.4036  NPRE : 1.9775\r\n",
      "2023-02-07 05:16:51  Epoch  5 : MAE : 21.4165  RMSE : 60.2366  NMAE : 0.4505  MRE : 0.3845  NPRE : 1.8278\r\n",
      "2023-02-07 05:16:56  Epoch  6 : MAE : 21.2192  RMSE : 60.1173  NMAE : 0.4464  MRE : 0.3816  NPRE : 1.5851\r\n",
      "2023-02-07 05:17:00  Epoch  7 : MAE : 21.2687  RMSE : 60.8497  NMAE : 0.4474  MRE : 0.3749  NPRE : 1.5757\r\n",
      "2023-02-07 05:17:04  Epoch  8 : MAE : 21.1281  RMSE : 60.1761  NMAE : 0.4445  MRE : 0.3793  NPRE : 1.7258\r\n",
      "2023-02-07 05:17:08  Epoch  9 : MAE : 21.0246  RMSE : 59.6620  NMAE : 0.4423  MRE : 0.3744  NPRE : 1.6327\r\n",
      "2023-02-07 05:17:13  Epoch 10 : MAE : 21.0155  RMSE : 60.1364  NMAE : 0.4421  MRE : 0.3717  NPRE : 1.5926\r\n",
      "2023-02-07 05:17:17  Epoch 11 : MAE : 20.9948  RMSE : 60.2751  NMAE : 0.4417  MRE : 0.3665  NPRE : 1.6024\r\n",
      "2023-02-07 05:17:21  Epoch 12 : MAE : 21.0733  RMSE : 59.5198  NMAE : 0.4433  MRE : 0.3784  NPRE : 1.8177\r\n",
      "2023-02-07 05:17:25  Epoch 13 : MAE : 20.9009  RMSE : 59.5019  NMAE : 0.4397  MRE : 0.3712  NPRE : 1.7724\r\n",
      "2023-02-07 05:17:30  Epoch 14 : MAE : 21.3780  RMSE : 61.0589  NMAE : 0.4497  MRE : 0.3802  NPRE : 1.1688\r\n",
      "2023-02-07 05:17:34  Epoch 15 : MAE : 20.9092  RMSE : 60.1029  NMAE : 0.4399  MRE : 0.3588  NPRE : 1.5224\r\n",
      "2023-02-07 05:17:38  Epoch 16 : MAE : 20.9078  RMSE : 60.2888  NMAE : 0.4398  MRE : 0.3624  NPRE : 1.5081\r\n",
      "2023-02-07 05:17:42  Epoch 17 : MAE : 20.8182  RMSE : 59.1727  NMAE : 0.4380  MRE : 0.3689  NPRE : 1.7855\r\n",
      "2023-02-07 05:17:47  Epoch 18 : MAE : 21.2949  RMSE : 59.0990  NMAE : 0.4480  MRE : 0.3969  NPRE : 2.0932\r\n",
      "2023-02-07 05:17:51  Epoch 19 : MAE : 21.0317  RMSE : 59.0738  NMAE : 0.4424  MRE : 0.3789  NPRE : 1.9276\r\n",
      "2023-02-07 05:17:55  Epoch 20 : MAE : 20.9057  RMSE : 59.9500  NMAE : 0.4398  MRE : 0.3603  NPRE : 1.2967\r\n",
      "2023-02-07 05:17:55  Best epoch 17 : MAE : 20.8182  RMSE : 59.1727  NMAE : 0.4380  MRE : 0.3689  NPRE : 1.7855\r\n",
      "2023-02-07 05:17:55  \t实验 1 聚合模型训练完毕\r\n",
      "2023-02-07 05:17:57  Result : MAE : 20.7317  RMSE : 59.3742  NMAE : 0.4361  MRE : 0.3605  NPRE : 1.6180\r\n",
      "/home/yxzeng/anaconda3/lib/python3.8/site-packages/numpy/core/fromnumeric.py:3432: RuntimeWarning: Mean of empty slice.\r\n",
      "  return _methods._mean(a, axis=axis, dtype=dtype,\r\n",
      "/home/yxzeng/anaconda3/lib/python3.8/site-packages/numpy/core/_methods.py:190: RuntimeWarning: invalid value encountered in double_scalars\r\n",
      "  ret = ret.dtype.type(ret / rcount)\r\n",
      "2023-02-07 05:17:57  \t实验 1 : Shards training time = nan s\r\n",
      "\r\n",
      "2023-02-07 05:17:57  \t实验 1 : Aggregators training time = 41.75 s\r\n",
      "\r\n",
      "2023-02-07 05:17:57  \t聚合模型训练完毕\r\n",
      "------------------------------------------------------------------------------------------------------------------------\r\n",
      "2023-02-07 05:17:57  Dataset : tp     interaction : CSMF\r\n",
      "2023-02-07 05:17:57  Density : 20.00%, slice_epochs : 100, agg_epochs : 20\r\n",
      "2023-02-07 05:17:57  Part_type : 5,    slices : 10,       devices : gpu\r\n",
      "\r\n",
      "\r\n",
      "2023-02-07 05:17:57  Density 20.00% : MAE = 20.732, RMSE = 59.374, NMAE = 0.436, MRE = 0.361, NPRE = 1.618\r\n",
      "\r\n",
      "2023-02-07 05:17:57  Experiment success!\r\n",
      "\r\n"
     ]
    }
   ],
   "source": [
    "!python Experiment.py --dataset tp --interaction CSMF --rounds 1 --slices 5 --agg_epochs 20 --density 0.20 --part_type 5 --slices 10 --record 0"
   ],
   "metadata": {
    "collapsed": false
   }
  },
  {
   "cell_type": "code",
   "execution_count": 7,
   "outputs": [
    {
     "name": "stdout",
     "output_type": "stream",
     "text": [
      "2023-02-07 05:17:58  Experiment start!\r\n",
      "2023-02-07 05:17:58  Namespace(F=1, agg2=0, agg_decay=0.001, agg_epochs=20, agg_function=1, agg_lr=0.001, agg_type='att', att_decay=0.0001, att_lr=0.001, batch_size=128, beta=1, cluster='deep', cuda=True, dataset='tp', debug=0, density=0.2, devices='gpu', dimension=32, dir='../Dataset/mnist', dropout=0.1, epoch=1500, external_dim=64, hidden_dims=[64, 64, 100], input_dim=128, interaction='MF', lamda=1, latent_dim=10, log_interval=100, lr=0.0001, n_classes=10, n_clusters=10, n_jobs=1, node2vec=0, node2vec_batchsize=32, node2vec_dim=128, node2vec_epochs=20, node2vec_length=8, node2vec_walk=15, node2vec_windows=3, num_layers=2, order=2, part_iter=20, part_type=5, path='./datasets/data/WSDREAM/', pre_epoch=1000, pretrain=True, processed=0, random_state=1001, record=0, retrain=0, rounds=1, save_model=1, slice=1, slice_decay=0.001, slice_epochs=100, slice_lr=0.001, slices=10, verbose=10, wd=0.0005)\r\n",
      "2023-02-07 05:17:58  Dataset : tp     interaction : MF\r\n",
      "2023-02-07 05:17:58  Density : 20.00%, slice_epochs : 100, agg_epochs : 20\r\n",
      "2023-02-07 05:17:58  Part_type : 5,    slices : 10,       devices : gpu\r\n",
      "2023-02-07 05:17:58  Slice_lr : 0.008,    Slice_decay : 0.001\r\n",
      "2023-02-07 05:17:58  Agg_lr : 0.001,    Agg_decay : 0.001\r\n",
      "2023-02-07 05:17:58  Aggregation function : att\r\n",
      "\r\n",
      "2023-02-07 05:17:58  Round 1 experiment start!\r\n",
      "2023-02-07 05:17:58  \t原始数据集读取完毕\r\n",
      "2023-02-07 05:17:59  \t图嵌入均衡切割\r\n",
      "22 23 27 33 33 35 50 37 45 34 \r\n",
      "2023-02-07 05:17:59  \tNode2Vec 基于用户聚类均衡切割完毕\r\n",
      "2023-02-07 05:17:59  \t分切数据执行完毕\r\n",
      "2023-02-07 05:18:01  \t模型加载完毕\r\n",
      "2023-02-07 05:18:01  \t准备训练切片模型\r\n",
      "2023-02-07 05:18:01  \t实验 1 模型 1 开始分片训练\r\n",
      "2023-02-07 05:18:08  Epoch 10 : MAE : 42.9183  RMSE : 121.2371  NMAE : 0.8529  MRE : 0.7807  NPRE : 3.5680\r\n",
      "2023-02-07 05:18:16  Epoch 20 : MAE : 34.1702  RMSE : 98.0195  NMAE : 0.6790  MRE : 0.7122  NPRE : 3.4511\r\n",
      "2023-02-07 05:18:24  Epoch 30 : MAE : 31.7904  RMSE : 87.8383  NMAE : 0.6317  MRE : 0.7582  NPRE : 3.9763\r\n",
      "2023-02-07 05:18:31  Epoch 40 : MAE : 32.7164  RMSE : 83.0842  NMAE : 0.6501  MRE : 0.9307  NPRE : 4.3384\r\n",
      "2023-02-07 05:18:33  Best epoch 32 : MAE : 31.3319  RMSE : 85.8561  NMAE : 0.6226  MRE : 0.7874  NPRE : 3.4217\r\n",
      "2023-02-07 05:18:33  实验 1 模型 1 training time = 7.95 s\r\n",
      "2023-02-07 05:18:33  Slice ID  1 : MAE = 31.3319, RMSE = 85.8561, NMAE = 0.6226, MRE = 0.7874, NPRE = 3.4217\r\n",
      "\r\n",
      "2023-02-07 05:18:33  \t实验 1 模型 2 开始分片训练\r\n",
      "2023-02-07 05:18:40  Epoch 10 : MAE : 38.3141  RMSE : 110.2808  NMAE : 0.8506  MRE : 0.8206  NPRE : 5.3038\r\n",
      "2023-02-07 05:18:48  Epoch 20 : MAE : 31.3112  RMSE : 83.9073  NMAE : 0.6951  MRE : 0.8181  NPRE : 5.1766\r\n",
      "2023-02-07 05:18:56  Epoch 30 : MAE : 28.7999  RMSE : 71.4060  NMAE : 0.6393  MRE : 0.9278  NPRE : 5.8535\r\n",
      "2023-02-07 05:19:04  Epoch 40 : MAE : 28.9893  RMSE : 68.0805  NMAE : 0.6435  MRE : 1.0000  NPRE : 5.6896\r\n",
      "2023-02-07 05:19:07  Best epoch 34 : MAE : 27.8403  RMSE : 68.9069  NMAE : 0.6180  MRE : 0.9898  NPRE : 4.4270\r\n",
      "2023-02-07 05:19:07  实验 1 模型 2 training time = 8.54 s\r\n",
      "2023-02-07 05:19:07  Slice ID  2 : MAE = 27.8403, RMSE = 68.9069, NMAE = 0.6180, MRE = 0.9898, NPRE = 4.4270\r\n",
      "\r\n",
      "2023-02-07 05:19:07  \t实验 1 模型 3 开始分片训练\r\n",
      "2023-02-07 05:19:15  Epoch 10 : MAE : 41.8942  RMSE : 114.2607  NMAE : 0.8910  MRE : 0.8198  NPRE : 5.8420\r\n",
      "2023-02-07 05:19:23  Epoch 20 : MAE : 30.7607  RMSE : 84.9327  NMAE : 0.6542  MRE : 0.7648  NPRE : 3.7242\r\n",
      "2023-02-07 05:19:32  Epoch 30 : MAE : 27.2283  RMSE : 67.7806  NMAE : 0.5791  MRE : 0.8261  NPRE : 4.3986\r\n",
      "2023-02-07 05:19:40  Epoch 40 : MAE : 27.4633  RMSE : 64.9946  NMAE : 0.5841  MRE : 0.9088  NPRE : 4.6643\r\n",
      "2023-02-07 05:19:41  Best epoch 32 : MAE : 26.4969  RMSE : 67.8647  NMAE : 0.5635  MRE : 0.8021  NPRE : 3.7336\r\n",
      "2023-02-07 05:19:41  实验 1 模型 3 training time = 9.46 s\r\n",
      "2023-02-07 05:19:41  Slice ID  3 : MAE = 26.4969, RMSE = 67.8647, NMAE = 0.5635, MRE = 0.8021, NPRE = 3.7336\r\n",
      "\r\n",
      "2023-02-07 05:19:41  \t实验 1 模型 4 开始分片训练\r\n",
      "2023-02-07 05:19:51  Epoch 10 : MAE : 38.7206  RMSE : 108.9677  NMAE : 0.8622  MRE : 0.8149  NPRE : 6.7009\r\n",
      "2023-02-07 05:20:00  Epoch 20 : MAE : 25.4997  RMSE : 72.7246  NMAE : 0.5678  MRE : 0.7026  NPRE : 3.2833\r\n",
      "2023-02-07 05:20:10  Epoch 30 : MAE : 23.7168  RMSE : 63.0556  NMAE : 0.5281  MRE : 0.6975  NPRE : 4.7359\r\n",
      "2023-02-07 05:20:19  Epoch 40 : MAE : 23.9318  RMSE : 59.9230  NMAE : 0.5329  MRE : 0.8079  NPRE : 4.4015\r\n",
      "2023-02-07 05:20:20  Best epoch 32 : MAE : 23.4152  RMSE : 62.2264  NMAE : 0.5214  MRE : 0.6914  NPRE : 4.5764\r\n",
      "2023-02-07 05:20:20  实验 1 模型 4 training time = 12.22 s\r\n",
      "2023-02-07 05:20:20  Slice ID  4 : MAE = 23.4152, RMSE = 62.2264, NMAE = 0.5214, MRE = 0.6914, NPRE = 4.5764\r\n",
      "\r\n",
      "2023-02-07 05:20:20  \t实验 1 模型 5 开始分片训练\r\n",
      "2023-02-07 05:20:30  Epoch 10 : MAE : 38.7848  RMSE : 108.8204  NMAE : 0.8204  MRE : 0.8018  NPRE : 4.4651\r\n",
      "2023-02-07 05:20:39  Epoch 20 : MAE : 26.0099  RMSE : 71.0182  NMAE : 0.5502  MRE : 0.6575  NPRE : 3.6772\r\n",
      "2023-02-07 05:20:48  Epoch 30 : MAE : 23.7070  RMSE : 60.9520  NMAE : 0.5015  MRE : 0.7063  NPRE : 3.3045\r\n",
      "2023-02-07 05:20:57  Epoch 40 : MAE : 24.6284  RMSE : 60.7128  NMAE : 0.5210  MRE : 0.7581  NPRE : 4.3707\r\n",
      "2023-02-07 05:21:02  Best epoch 35 : MAE : 23.6134  RMSE : 60.2237  NMAE : 0.4995  MRE : 0.7222  NPRE : 3.3664\r\n",
      "2023-02-07 05:21:02  实验 1 模型 5 training time = 12.84 s\r\n",
      "2023-02-07 05:21:02  Slice ID  5 : MAE = 23.6134, RMSE = 60.2237, NMAE = 0.4995, MRE = 0.7222, NPRE = 3.3664\r\n",
      "\r\n",
      "2023-02-07 05:21:02  \t实验 1 模型 6 开始分片训练\r\n",
      "2023-02-07 05:21:11  Epoch 10 : MAE : 36.6148  RMSE : 106.0113  NMAE : 0.7776  MRE : 0.7333  NPRE : 4.1224\r\n",
      "2023-02-07 05:21:21  Epoch 20 : MAE : 25.0100  RMSE : 69.5693  NMAE : 0.5312  MRE : 0.6433  NPRE : 4.0200\r\n",
      "2023-02-07 05:21:31  Epoch 30 : MAE : 24.0816  RMSE : 63.3550  NMAE : 0.5115  MRE : 0.6831  NPRE : 4.2665\r\n",
      "2023-02-07 05:21:38  Best epoch 28 : MAE : 24.0158  RMSE : 63.8925  NMAE : 0.5101  MRE : 0.6697  NPRE : 4.4780\r\n",
      "2023-02-07 05:21:38  实验 1 模型 6 training time = 10.85 s\r\n",
      "2023-02-07 05:21:38  Slice ID  6 : MAE = 24.0158, RMSE = 63.8925, NMAE = 0.5101, MRE = 0.6697, NPRE = 4.4780\r\n",
      "\r\n",
      "2023-02-07 05:21:38  \t实验 1 模型 7 开始分片训练\r\n",
      "2023-02-07 05:21:50  Epoch 10 : MAE : 30.9653  RMSE : 90.1246  NMAE : 0.6489  MRE : 0.6494  NPRE : 2.3779\r\n",
      "2023-02-07 05:22:02  Epoch 20 : MAE : 20.8153  RMSE : 61.2051  NMAE : 0.4362  MRE : 0.5031  NPRE : 1.7429\r\n",
      "2023-02-07 05:22:14  Epoch 30 : MAE : 20.5605  RMSE : 55.9182  NMAE : 0.4308  MRE : 0.5982  NPRE : 2.0675\r\n",
      "2023-02-07 05:22:26  Epoch 40 : MAE : 20.8181  RMSE : 54.2136  NMAE : 0.4362  MRE : 0.6157  NPRE : 2.6801\r\n",
      "2023-02-07 05:22:27  Best epoch 31 : MAE : 20.0974  RMSE : 55.4577  NMAE : 0.4211  MRE : 0.5262  NPRE : 2.7640\r\n",
      "2023-02-07 05:22:27  实验 1 模型 7 training time = 17.12 s\r\n",
      "2023-02-07 05:22:27  Slice ID  7 : MAE = 20.0974, RMSE = 55.4577, NMAE = 0.4211, MRE = 0.5262, NPRE = 2.7640\r\n",
      "\r\n",
      "2023-02-07 05:22:27  \t实验 1 模型 8 开始分片训练\r\n",
      "2023-02-07 05:22:37  Epoch 10 : MAE : 37.2146  RMSE : 109.8607  NMAE : 0.7522  MRE : 0.6720  NPRE : 2.7054\r\n",
      "2023-02-07 05:22:47  Epoch 20 : MAE : 24.4971  RMSE : 72.1606  NMAE : 0.4951  MRE : 0.5318  NPRE : 2.1898\r\n",
      "2023-02-07 05:22:57  Epoch 30 : MAE : 22.9811  RMSE : 62.9885  NMAE : 0.4645  MRE : 0.5765  NPRE : 2.6095\r\n",
      "2023-02-07 05:23:07  Epoch 40 : MAE : 23.9148  RMSE : 61.9801  NMAE : 0.4834  MRE : 0.6324  NPRE : 3.3740\r\n",
      "2023-02-07 05:23:10  Best epoch 33 : MAE : 22.4778  RMSE : 61.9130  NMAE : 0.4543  MRE : 0.5709  NPRE : 2.2408\r\n",
      "2023-02-07 05:23:10  实验 1 模型 8 training time = 13.38 s\r\n",
      "2023-02-07 05:23:10  Slice ID  8 : MAE = 22.4778, RMSE = 61.9130, NMAE = 0.4543, MRE = 0.5709, NPRE = 2.2408\r\n",
      "\r\n",
      "2023-02-07 05:23:10  \t实验 1 模型 9 开始分片训练\r\n",
      "2023-02-07 05:23:21  Epoch 10 : MAE : 34.1254  RMSE : 98.2359  NMAE : 0.7075  MRE : 0.7275  NPRE : 2.2840\r\n",
      "2023-02-07 05:23:32  Epoch 20 : MAE : 22.4557  RMSE : 63.2243  NMAE : 0.4655  MRE : 0.5269  NPRE : 2.6302\r\n",
      "2023-02-07 05:23:43  Epoch 30 : MAE : 21.0768  RMSE : 57.6002  NMAE : 0.4370  MRE : 0.5302  NPRE : 2.5911\r\n",
      "2023-02-07 05:23:54  Epoch 40 : MAE : 21.6648  RMSE : 56.0368  NMAE : 0.4492  MRE : 0.5929  NPRE : 2.7858\r\n",
      "2023-02-07 05:23:56  Best epoch 32 : MAE : 20.5511  RMSE : 57.4421  NMAE : 0.4261  MRE : 0.5019  NPRE : 2.4218\r\n",
      "2023-02-07 05:23:56  实验 1 模型 9 training time = 15.96 s\r\n",
      "2023-02-07 05:23:56  Slice ID  9 : MAE = 20.5511, RMSE = 57.4421, NMAE = 0.4261, MRE = 0.5019, NPRE = 2.4218\r\n",
      "\r\n",
      "2023-02-07 05:23:56  \t实验 1 模型 10 开始分片训练\r\n",
      "2023-02-07 05:24:06  Epoch 10 : MAE : 41.9544  RMSE : 116.0440  NMAE : 0.8785  MRE : 0.8082  NPRE : 6.6900\r\n",
      "2023-02-07 05:24:15  Epoch 20 : MAE : 28.2874  RMSE : 76.8529  NMAE : 0.5923  MRE : 0.7053  NPRE : 5.1483\r\n",
      "2023-02-07 05:24:25  Epoch 30 : MAE : 26.3468  RMSE : 67.8399  NMAE : 0.5517  MRE : 0.7589  NPRE : 5.1552\r\n",
      "2023-02-07 05:24:32  Best epoch 28 : MAE : 26.0300  RMSE : 69.5531  NMAE : 0.5450  MRE : 0.7297  NPRE : 4.1714\r\n",
      "2023-02-07 05:24:32  实验 1 模型 10 training time = 10.92 s\r\n",
      "2023-02-07 05:24:32  Slice ID  10 : MAE = 26.0300, RMSE = 69.5531, NMAE = 0.5450, MRE = 0.7297, NPRE = 4.1714\r\n",
      "\r\n",
      "2023-02-07 05:24:32  \t所有切片模型训练完毕\r\n",
      "2023-02-07 05:24:32  \t开始训练聚合模型\r\n",
      "2023-02-07 05:24:37  Epoch  1 : MAE : 33.3927  RMSE : 96.4507  NMAE : 0.7025  MRE : 0.6399  NPRE : 3.5329\r\n",
      "2023-02-07 05:24:41  Epoch  2 : MAE : 29.1076  RMSE : 82.5156  NMAE : 0.6123  MRE : 0.5701  NPRE : 3.1358\r\n",
      "2023-02-07 05:24:45  Epoch  3 : MAE : 28.2441  RMSE : 80.5332  NMAE : 0.5942  MRE : 0.5474  NPRE : 2.9514\r\n",
      "2023-02-07 05:24:49  Epoch  4 : MAE : 27.8840  RMSE : 79.5493  NMAE : 0.5866  MRE : 0.5367  NPRE : 3.1490\r\n",
      "2023-02-07 05:24:53  Epoch  5 : MAE : 27.6630  RMSE : 79.1811  NMAE : 0.5820  MRE : 0.5283  NPRE : 3.0334\r\n",
      "2023-02-07 05:24:57  Epoch  6 : MAE : 27.6501  RMSE : 79.1833  NMAE : 0.5817  MRE : 0.5275  NPRE : 3.1529\r\n",
      "2023-02-07 05:25:01  Epoch  7 : MAE : 27.5142  RMSE : 78.7403  NMAE : 0.5788  MRE : 0.5325  NPRE : 3.1964\r\n",
      "2023-02-07 05:25:05  Epoch  8 : MAE : 27.3702  RMSE : 78.5209  NMAE : 0.5758  MRE : 0.5217  NPRE : 3.0636\r\n",
      "2023-02-07 05:25:09  Epoch  9 : MAE : 27.3854  RMSE : 78.3501  NMAE : 0.5761  MRE : 0.5257  NPRE : 3.1552\r\n",
      "2023-02-07 05:25:13  Epoch 10 : MAE : 27.2420  RMSE : 78.1049  NMAE : 0.5731  MRE : 0.5249  NPRE : 3.0574\r\n",
      "2023-02-07 05:25:17  Epoch 11 : MAE : 27.2871  RMSE : 78.2594  NMAE : 0.5740  MRE : 0.5171  NPRE : 2.9060\r\n",
      "2023-02-07 05:25:21  Epoch 12 : MAE : 27.2510  RMSE : 77.9942  NMAE : 0.5733  MRE : 0.5268  NPRE : 3.0737\r\n",
      "2023-02-07 05:25:25  Epoch 13 : MAE : 27.1093  RMSE : 77.8218  NMAE : 0.5703  MRE : 0.5121  NPRE : 2.7098\r\n",
      "2023-02-07 05:25:29  Epoch 14 : MAE : 27.1577  RMSE : 77.8663  NMAE : 0.5713  MRE : 0.5132  NPRE : 2.9026\r\n",
      "2023-02-07 05:25:33  Epoch 15 : MAE : 27.0698  RMSE : 77.4820  NMAE : 0.5695  MRE : 0.5147  NPRE : 2.8244\r\n",
      "2023-02-07 05:25:37  Epoch 16 : MAE : 26.9970  RMSE : 77.2945  NMAE : 0.5679  MRE : 0.5191  NPRE : 2.9225\r\n",
      "2023-02-07 05:25:41  Epoch 17 : MAE : 27.0667  RMSE : 77.4056  NMAE : 0.5694  MRE : 0.5162  NPRE : 2.9636\r\n",
      "2023-02-07 05:25:45  Epoch 18 : MAE : 26.9883  RMSE : 77.4688  NMAE : 0.5678  MRE : 0.5106  NPRE : 2.5965\r\n",
      "2023-02-07 05:25:49  Epoch 19 : MAE : 26.9310  RMSE : 77.2246  NMAE : 0.5666  MRE : 0.5084  NPRE : 2.6286\r\n",
      "2023-02-07 05:25:53  Epoch 20 : MAE : 26.9482  RMSE : 77.3100  NMAE : 0.5669  MRE : 0.5116  NPRE : 2.7859\r\n",
      "2023-02-07 05:25:53  Best epoch 19 : MAE : 26.9310  RMSE : 77.2246  NMAE : 0.5666  MRE : 0.5084  NPRE : 2.6286\r\n",
      "2023-02-07 05:25:53  \t实验 1 聚合模型训练完毕\r\n",
      "2023-02-07 05:25:54  Result : MAE : 26.9352  RMSE : 77.3538  NMAE : 0.5666  MRE : 0.5076  NPRE : 2.6432\r\n",
      "2023-02-07 05:25:54  \t实验 1 : Shards training time = 11.93 s\r\n",
      "\r\n",
      "2023-02-07 05:25:54  \t实验 1 : Aggregators training time = 41.86 s\r\n",
      "\r\n",
      "2023-02-07 05:25:54  \t聚合模型训练完毕\r\n",
      "------------------------------------------------------------------------------------------------------------------------\r\n",
      "2023-02-07 05:25:54  Dataset : tp     interaction : MF\r\n",
      "2023-02-07 05:25:54  Density : 20.00%, slice_epochs : 100, agg_epochs : 20\r\n",
      "2023-02-07 05:25:54  Part_type : 5,    slices : 10,       devices : gpu\r\n",
      "\r\n",
      "\r\n",
      "2023-02-07 05:25:54  Density 20.00% : MAE = 26.935, RMSE = 77.354, NMAE = 0.567, MRE = 0.508, NPRE = 2.643\r\n",
      "\r\n",
      "2023-02-07 05:25:54  Experiment success!\r\n",
      "\r\n"
     ]
    }
   ],
   "source": [
    "!python Experiment.py --dataset tp --interaction MF --rounds 1 --slices 5 --agg_epochs 20 --density 0.20 --part_type 5 --slices 10 --record 0"
   ],
   "metadata": {
    "collapsed": false
   }
  },
  {
   "cell_type": "code",
   "execution_count": 8,
   "outputs": [
    {
     "name": "stdout",
     "output_type": "stream",
     "text": [
      "2023-02-07 05:25:56  Experiment start!\r\n",
      "2023-02-07 05:25:56  Namespace(F=1, agg2=0, agg_decay=0.001, agg_epochs=15, agg_function=1, agg_lr=0.001, agg_type='att', att_decay=0.0001, att_lr=0.001, batch_size=128, beta=1, cluster='deep', cuda=True, dataset='tp', debug=0, density=0.2, devices='gpu', dimension=32, dir='../Dataset/mnist', dropout=0.1, epoch=1500, external_dim=64, hidden_dims=[64, 64, 100], input_dim=128, interaction='GraphMF', lamda=1, latent_dim=10, log_interval=100, lr=0.0001, n_classes=10, n_clusters=10, n_jobs=1, node2vec=0, node2vec_batchsize=32, node2vec_dim=128, node2vec_epochs=20, node2vec_length=8, node2vec_walk=15, node2vec_windows=3, num_layers=2, order=2, part_iter=20, part_type=5, path='./datasets/data/WSDREAM/', pre_epoch=1000, pretrain=True, processed=0, random_state=1001, record=0, retrain=0, rounds=1, save_model=1, slice=1, slice_decay=0.001, slice_epochs=100, slice_lr=0.001, slices=10, verbose=10, wd=0.0005)\r\n",
      "2023-02-07 05:25:56  Dataset : tp     interaction : GraphMF\r\n",
      "2023-02-07 05:25:56  Density : 20.00%, slice_epochs : 15, agg_epochs : 15\r\n",
      "2023-02-07 05:25:56  Part_type : 5,    slices : 10,       devices : gpu\r\n",
      "2023-02-07 05:25:56  Slice_lr : 0.01,    Slice_decay : 0.001\r\n",
      "2023-02-07 05:25:56  Agg_lr : 0.001,    Agg_decay : 0.001\r\n",
      "2023-02-07 05:25:56  Aggregation function : att\r\n",
      "\r\n",
      "2023-02-07 05:25:56  Round 1 experiment start!\r\n",
      "2023-02-07 05:25:56  \t原始数据集读取完毕\r\n",
      "2023-02-07 05:25:56  \t图嵌入均衡切割\r\n",
      "22 23 27 33 33 35 50 37 45 34 \r\n",
      "2023-02-07 05:25:56  \tNode2Vec 基于用户聚类均衡切割完毕\r\n",
      "2023-02-07 05:25:56  \t分切数据执行完毕\r\n",
      "2023-02-07 05:25:56  \tNeuGraphMF建图中\r\n",
      "2023-02-07 05:26:01  \tNeuGraphMF建图完毕\r\n",
      "2023-02-07 05:26:03  \t模型加载完毕\r\n",
      "2023-02-07 05:26:03  \t开始训练聚合模型\r\n",
      "2023-02-07 05:26:07  Epoch  1 : MAE : 24.0059  RMSE : 66.3833  NMAE : 0.5050  MRE : 0.4686  NPRE : 2.4085\r\n",
      "2023-02-07 05:26:12  Epoch  2 : MAE : 21.6679  RMSE : 59.8592  NMAE : 0.4558  MRE : 0.4269  NPRE : 2.1278\r\n",
      "2023-02-07 05:26:16  Epoch  3 : MAE : 19.4465  RMSE : 56.4091  NMAE : 0.4091  MRE : 0.3439  NPRE : 1.5954\r\n",
      "2023-02-07 05:26:20  Epoch  4 : MAE : 18.0913  RMSE : 53.2847  NMAE : 0.3806  MRE : 0.3178  NPRE : 1.5104\r\n",
      "2023-02-07 05:26:24  Epoch  5 : MAE : 17.2215  RMSE : 52.6835  NMAE : 0.3623  MRE : 0.2888  NPRE : 1.2169\r\n",
      "2023-02-07 05:26:29  Epoch  6 : MAE : 16.5551  RMSE : 51.5871  NMAE : 0.3483  MRE : 0.2732  NPRE : 1.2298\r\n",
      "2023-02-07 05:26:33  Epoch  7 : MAE : 15.8226  RMSE : 49.9990  NMAE : 0.3329  MRE : 0.2643  NPRE : 1.2730\r\n",
      "2023-02-07 05:26:37  Epoch  8 : MAE : 15.5764  RMSE : 48.8517  NMAE : 0.3277  MRE : 0.2604  NPRE : 1.2828\r\n",
      "2023-02-07 05:26:42  Epoch  9 : MAE : 15.4803  RMSE : 48.6421  NMAE : 0.3257  MRE : 0.2664  NPRE : 1.3848\r\n",
      "2023-02-07 05:26:46  Epoch 10 : MAE : 16.1724  RMSE : 50.4812  NMAE : 0.3402  MRE : 0.2703  NPRE : 0.9425\r\n",
      "2023-02-07 05:26:50  Epoch 11 : MAE : 15.0960  RMSE : 48.1666  NMAE : 0.3176  MRE : 0.2503  NPRE : 0.9891\r\n",
      "2023-02-07 05:26:54  Epoch 12 : MAE : 15.0318  RMSE : 47.8132  NMAE : 0.3162  MRE : 0.2424  NPRE : 1.2302\r\n",
      "2023-02-07 05:26:59  Epoch 13 : MAE : 14.9729  RMSE : 48.0151  NMAE : 0.3150  MRE : 0.2426  NPRE : 1.1542\r\n",
      "2023-02-07 05:27:03  Epoch 14 : MAE : 14.7328  RMSE : 47.7571  NMAE : 0.3099  MRE : 0.2359  NPRE : 1.1062\r\n",
      "2023-02-07 05:27:07  Epoch 15 : MAE : 15.4597  RMSE : 48.9442  NMAE : 0.3252  MRE : 0.2578  NPRE : 0.8873\r\n",
      "2023-02-07 05:27:07  Best epoch 14 : MAE : 14.7328  RMSE : 47.7571  NMAE : 0.3099  MRE : 0.2359  NPRE : 1.1062\r\n",
      "2023-02-07 05:27:07  \t实验 1 聚合模型训练完毕\r\n",
      "2023-02-07 05:27:09  Result : MAE : 15.4788  RMSE : 49.1597  NMAE : 0.3256  MRE : 0.2539  NPRE : 0.9040\r\n",
      "/home/yxzeng/anaconda3/lib/python3.8/site-packages/numpy/core/fromnumeric.py:3432: RuntimeWarning: Mean of empty slice.\r\n",
      "  return _methods._mean(a, axis=axis, dtype=dtype,\r\n",
      "/home/yxzeng/anaconda3/lib/python3.8/site-packages/numpy/core/_methods.py:190: RuntimeWarning: invalid value encountered in double_scalars\r\n",
      "  ret = ret.dtype.type(ret / rcount)\r\n",
      "2023-02-07 05:27:09  \t实验 1 : Shards training time = nan s\r\n",
      "\r\n",
      "2023-02-07 05:27:09  \t实验 1 : Aggregators training time = 34.89 s\r\n",
      "\r\n",
      "2023-02-07 05:27:09  \t聚合模型训练完毕\r\n",
      "------------------------------------------------------------------------------------------------------------------------\r\n",
      "2023-02-07 05:27:09  Dataset : tp     interaction : GraphMF\r\n",
      "2023-02-07 05:27:09  Density : 20.00%, slice_epochs : 15, agg_epochs : 15\r\n",
      "2023-02-07 05:27:09  Part_type : 5,    slices : 10,       devices : gpu\r\n",
      "\r\n",
      "\r\n",
      "2023-02-07 05:27:09  Density 20.00% : MAE = 15.479, RMSE = 49.160, NMAE = 0.326, MRE = 0.254, NPRE = 0.904\r\n",
      "\r\n",
      "2023-02-07 05:27:09  Experiment success!\r\n",
      "\r\n"
     ]
    }
   ],
   "source": [
    "!python Experiment.py --dataset tp --interaction GraphMF --rounds 1 --slices 5 --agg_epochs 15 --density 0.20 --part_type 5 --slices 10 --record 0"
   ],
   "metadata": {
    "collapsed": false
   }
  },
  {
   "cell_type": "code",
   "execution_count": 9,
   "outputs": [
    {
     "name": "stdout",
     "output_type": "stream",
     "text": [
      "2023-02-07 05:27:10  Experiment start!\r\n",
      "2023-02-07 05:27:10  Namespace(F=1, agg2=0, agg_decay=0.001, agg_epochs=12, agg_function=1, agg_lr=0.001, agg_type='att', att_decay=0.0001, att_lr=0.001, batch_size=128, beta=1, cluster='deep', cuda=True, dataset='rt', debug=0, density=0.2, devices='gpu', dimension=32, dir='../Dataset/mnist', dropout=0.1, epoch=1500, external_dim=64, hidden_dims=[64, 64, 100], input_dim=128, interaction='NeuCF', lamda=1, latent_dim=10, log_interval=100, lr=0.0001, n_classes=10, n_clusters=10, n_jobs=1, node2vec=0, node2vec_batchsize=32, node2vec_dim=128, node2vec_epochs=20, node2vec_length=8, node2vec_walk=15, node2vec_windows=3, num_layers=2, order=2, part_iter=20, part_type=5, path='./datasets/data/WSDREAM/', pre_epoch=1000, pretrain=True, processed=0, random_state=1001, record=0, retrain=0, rounds=1, save_model=1, slice=1, slice_decay=0.001, slice_epochs=100, slice_lr=0.001, slices=15, verbose=10, wd=0.0005)\r\n",
      "2023-02-07 05:27:10  Dataset : rt     interaction : NeuCF\r\n",
      "2023-02-07 05:27:10  Density : 20.00%, slice_epochs : 100, agg_epochs : 12\r\n",
      "2023-02-07 05:27:10  Part_type : 5,    slices : 15,       devices : gpu\r\n",
      "2023-02-07 05:27:10  Slice_lr : 0.004,    Slice_decay : 0.001\r\n",
      "2023-02-07 05:27:10  Agg_lr : 0.001,    Agg_decay : 0.001\r\n",
      "2023-02-07 05:27:10  Aggregation function : att\r\n",
      "\r\n",
      "2023-02-07 05:27:10  Round 1 experiment start!\r\n",
      "2023-02-07 05:27:10  \t原始数据集读取完毕\r\n",
      "2023-02-07 05:27:11  \t图嵌入均衡切割\r\n",
      "21 22 24 23 21 25 22 22 19 26 21 26 23 21 23 \r\n",
      "2023-02-07 05:27:11  \tNode2Vec 基于用户聚类均衡切割完毕\r\n",
      "2023-02-07 05:27:11  \t分切数据执行完毕\r\n",
      "2023-02-07 05:27:13  \t模型加载完毕\r\n",
      "2023-02-07 05:27:13  \t开始训练聚合模型\r\n",
      "2023-02-07 05:27:20  Epoch  1 : MAE : 0.4293  RMSE : 1.3417  NMAE : 0.4716  MRE : 0.3814  NPRE : 1.7714\r\n",
      "2023-02-07 05:27:27  Epoch  2 : MAE : 0.3962  RMSE : 1.3240  NMAE : 0.4352  MRE : 0.3201  NPRE : 1.2989\r\n",
      "2023-02-07 05:27:34  Epoch  3 : MAE : 0.3815  RMSE : 1.3059  NMAE : 0.4191  MRE : 0.2863  NPRE : 1.2988\r\n",
      "2023-02-07 05:27:41  Epoch  4 : MAE : 0.3743  RMSE : 1.2979  NMAE : 0.4112  MRE : 0.2736  NPRE : 0.9690\r\n",
      "2023-02-07 05:27:48  Epoch  5 : MAE : 0.3700  RMSE : 1.2866  NMAE : 0.4064  MRE : 0.2726  NPRE : 0.9540\r\n",
      "2023-02-07 05:27:54  Epoch  6 : MAE : 0.3673  RMSE : 1.2783  NMAE : 0.4035  MRE : 0.2659  NPRE : 0.9566\r\n",
      "2023-02-07 05:28:01  Epoch  7 : MAE : 0.3613  RMSE : 1.2616  NMAE : 0.3969  MRE : 0.2469  NPRE : 0.9741\r\n",
      "2023-02-07 05:28:08  Epoch  8 : MAE : 0.3586  RMSE : 1.2597  NMAE : 0.3940  MRE : 0.2532  NPRE : 1.0303\r\n",
      "2023-02-07 05:28:15  Epoch  9 : MAE : 0.3554  RMSE : 1.2606  NMAE : 0.3904  MRE : 0.2497  NPRE : 0.9060\r\n",
      "2023-02-07 05:28:22  Epoch 10 : MAE : 0.3525  RMSE : 1.2575  NMAE : 0.3873  MRE : 0.2364  NPRE : 0.9001\r\n",
      "2023-02-07 05:28:29  Epoch 11 : MAE : 0.3520  RMSE : 1.2451  NMAE : 0.3867  MRE : 0.2369  NPRE : 0.9388\r\n",
      "2023-02-07 05:28:35  Epoch 12 : MAE : 0.3558  RMSE : 1.2622  NMAE : 0.3908  MRE : 0.2331  NPRE : 0.9333\r\n",
      "2023-02-07 05:28:35  Best epoch 11 : MAE : 0.3520  RMSE : 1.2451  NMAE : 0.3867  MRE : 0.2369  NPRE : 0.9388\r\n",
      "2023-02-07 05:28:35  \t实验 1 聚合模型训练完毕\r\n",
      "2023-02-07 05:28:37  Result : MAE : 0.3514  RMSE : 1.2452  NMAE : 0.3860  MRE : 0.2330  NPRE : 0.9251\r\n",
      "/home/yxzeng/anaconda3/lib/python3.8/site-packages/numpy/core/fromnumeric.py:3432: RuntimeWarning: Mean of empty slice.\r\n",
      "  return _methods._mean(a, axis=axis, dtype=dtype,\r\n",
      "/home/yxzeng/anaconda3/lib/python3.8/site-packages/numpy/core/_methods.py:190: RuntimeWarning: invalid value encountered in double_scalars\r\n",
      "  ret = ret.dtype.type(ret / rcount)\r\n",
      "2023-02-07 05:28:37  \t实验 1 : Shards training time = nan s\r\n",
      "\r\n",
      "2023-02-07 05:28:37  \t实验 1 : Aggregators training time = 54.12 s\r\n",
      "\r\n",
      "2023-02-07 05:28:37  \t聚合模型训练完毕\r\n",
      "------------------------------------------------------------------------------------------------------------------------\r\n",
      "2023-02-07 05:28:37  Dataset : rt     interaction : NeuCF\r\n",
      "2023-02-07 05:28:37  Density : 20.00%, slice_epochs : 100, agg_epochs : 12\r\n",
      "2023-02-07 05:28:37  Part_type : 5,    slices : 15,       devices : gpu\r\n",
      "\r\n",
      "\r\n",
      "2023-02-07 05:28:37  Density 20.00% : MAE = 0.351, RMSE = 1.245, NMAE = 0.386, MRE = 0.233, NPRE = 0.925\r\n",
      "\r\n",
      "2023-02-07 05:28:37  Experiment success!\r\n",
      "\r\n"
     ]
    }
   ],
   "source": [
    "!python Experiment.py --dataset rt --interaction NeuCF --rounds 1 --slices 5 --agg_epochs 12 --density 0.20 --part_type 5 --slices 15 --record 0"
   ],
   "metadata": {
    "collapsed": false
   }
  },
  {
   "cell_type": "code",
   "execution_count": 10,
   "outputs": [
    {
     "name": "stdout",
     "output_type": "stream",
     "text": [
      "2023-02-07 05:28:39  Experiment start!\r\n",
      "2023-02-07 05:28:39  Namespace(F=1, agg2=0, agg_decay=0.001, agg_epochs=15, agg_function=1, agg_lr=0.001, agg_type='att', att_decay=0.0001, att_lr=0.001, batch_size=128, beta=1, cluster='deep', cuda=True, dataset='rt', debug=0, density=0.2, devices='gpu', dimension=32, dir='../Dataset/mnist', dropout=0.1, epoch=1500, external_dim=64, hidden_dims=[64, 64, 100], input_dim=128, interaction='CSMF', lamda=1, latent_dim=10, log_interval=100, lr=0.0001, n_classes=10, n_clusters=10, n_jobs=1, node2vec=0, node2vec_batchsize=32, node2vec_dim=128, node2vec_epochs=20, node2vec_length=8, node2vec_walk=15, node2vec_windows=3, num_layers=2, order=2, part_iter=20, part_type=5, path='./datasets/data/WSDREAM/', pre_epoch=1000, pretrain=True, processed=0, random_state=1001, record=0, retrain=0, rounds=1, save_model=1, slice=1, slice_decay=0.001, slice_epochs=100, slice_lr=0.001, slices=15, verbose=10, wd=0.0005)\r\n",
      "2023-02-07 05:28:39  Dataset : rt     interaction : CSMF\r\n",
      "2023-02-07 05:28:39  Density : 20.00%, slice_epochs : 100, agg_epochs : 15\r\n",
      "2023-02-07 05:28:39  Part_type : 5,    slices : 15,       devices : gpu\r\n",
      "2023-02-07 05:28:39  Slice_lr : 0.01,    Slice_decay : 0.001\r\n",
      "2023-02-07 05:28:39  Agg_lr : 0.008,    Agg_decay : 0.001\r\n",
      "2023-02-07 05:28:39  Aggregation function : att\r\n",
      "\r\n",
      "2023-02-07 05:28:39  Round 1 experiment start!\r\n",
      "2023-02-07 05:28:39  \t原始数据集读取完毕\r\n",
      "2023-02-07 05:28:39  \t图嵌入均衡切割\r\n",
      "21 22 24 23 21 25 22 22 19 26 21 26 23 21 23 \r\n",
      "2023-02-07 05:28:39  \tNode2Vec 基于用户聚类均衡切割完毕\r\n",
      "2023-02-07 05:28:39  \t分切数据执行完毕\r\n",
      "2023-02-07 05:28:41  \t模型加载完毕\r\n",
      "2023-02-07 05:28:41  \t开始训练聚合模型\r\n",
      "2023-02-07 05:28:46  Epoch  1 : MAE : 0.5474  RMSE : 1.5847  NMAE : 0.6013  MRE : 0.4433  NPRE : 2.0106\r\n",
      "2023-02-07 05:28:51  Epoch  2 : MAE : 0.5151  RMSE : 1.5068  NMAE : 0.5659  MRE : 0.4262  NPRE : 2.0404\r\n",
      "2023-02-07 05:28:55  Epoch  3 : MAE : 0.4914  RMSE : 1.4806  NMAE : 0.5398  MRE : 0.4077  NPRE : 1.5833\r\n",
      "2023-02-07 05:29:00  Epoch  4 : MAE : 0.4787  RMSE : 1.4475  NMAE : 0.5258  MRE : 0.3979  NPRE : 2.0025\r\n",
      "2023-02-07 05:29:04  Epoch  5 : MAE : 0.4751  RMSE : 1.4298  NMAE : 0.5219  MRE : 0.3992  NPRE : 1.7758\r\n",
      "2023-02-07 05:29:09  Epoch  6 : MAE : 0.4702  RMSE : 1.4212  NMAE : 0.5166  MRE : 0.3984  NPRE : 1.8055\r\n",
      "2023-02-07 05:29:13  Epoch  7 : MAE : 0.4643  RMSE : 1.4284  NMAE : 0.5101  MRE : 0.3909  NPRE : 1.6137\r\n",
      "2023-02-07 05:29:18  Epoch  8 : MAE : 0.4630  RMSE : 1.4231  NMAE : 0.5086  MRE : 0.3901  NPRE : 1.6662\r\n",
      "2023-02-07 05:29:22  Epoch  9 : MAE : 0.4610  RMSE : 1.4168  NMAE : 0.5064  MRE : 0.3907  NPRE : 1.7579\r\n",
      "2023-02-07 05:29:27  Epoch 10 : MAE : 0.4603  RMSE : 1.4200  NMAE : 0.5056  MRE : 0.3904  NPRE : 1.6481\r\n",
      "2023-02-07 05:29:31  Epoch 11 : MAE : 0.4584  RMSE : 1.4105  NMAE : 0.5035  MRE : 0.3900  NPRE : 1.6531\r\n",
      "2023-02-07 05:29:36  Epoch 12 : MAE : 0.4570  RMSE : 1.4129  NMAE : 0.5020  MRE : 0.3895  NPRE : 1.6175\r\n",
      "2023-02-07 05:29:40  Epoch 13 : MAE : 0.4595  RMSE : 1.4174  NMAE : 0.5048  MRE : 0.3876  NPRE : 1.4432\r\n",
      "2023-02-07 05:29:45  Epoch 14 : MAE : 0.4581  RMSE : 1.4030  NMAE : 0.5032  MRE : 0.3917  NPRE : 1.7790\r\n",
      "2023-02-07 05:29:49  Epoch 15 : MAE : 0.4565  RMSE : 1.4041  NMAE : 0.5014  MRE : 0.3890  NPRE : 1.6611\r\n",
      "2023-02-07 05:29:49  Best epoch 15 : MAE : 0.4565  RMSE : 1.4041  NMAE : 0.5014  MRE : 0.3890  NPRE : 1.6611\r\n",
      "2023-02-07 05:29:49  \t实验 1 聚合模型训练完毕\r\n",
      "2023-02-07 05:29:51  Result : MAE : 0.4565  RMSE : 1.4041  NMAE : 0.5014  MRE : 0.3890  NPRE : 1.6611\r\n",
      "/home/yxzeng/anaconda3/lib/python3.8/site-packages/numpy/core/fromnumeric.py:3432: RuntimeWarning: Mean of empty slice.\r\n",
      "  return _methods._mean(a, axis=axis, dtype=dtype,\r\n",
      "/home/yxzeng/anaconda3/lib/python3.8/site-packages/numpy/core/_methods.py:190: RuntimeWarning: invalid value encountered in double_scalars\r\n",
      "  ret = ret.dtype.type(ret / rcount)\r\n",
      "2023-02-07 05:29:51  \t实验 1 : Shards training time = nan s\r\n",
      "\r\n",
      "2023-02-07 05:29:51  \t实验 1 : Aggregators training time = 39.30 s\r\n",
      "\r\n",
      "2023-02-07 05:29:51  \t聚合模型训练完毕\r\n",
      "------------------------------------------------------------------------------------------------------------------------\r\n",
      "2023-02-07 05:29:51  Dataset : rt     interaction : CSMF\r\n",
      "2023-02-07 05:29:51  Density : 20.00%, slice_epochs : 100, agg_epochs : 15\r\n",
      "2023-02-07 05:29:51  Part_type : 5,    slices : 15,       devices : gpu\r\n",
      "\r\n",
      "\r\n",
      "2023-02-07 05:29:51  Density 20.00% : MAE = 0.456, RMSE = 1.404, NMAE = 0.501, MRE = 0.389, NPRE = 1.661\r\n",
      "\r\n",
      "2023-02-07 05:29:51  Experiment success!\r\n",
      "\r\n"
     ]
    }
   ],
   "source": [
    "!python Experiment.py --dataset rt --interaction CSMF --rounds 1 --slices 5 --agg_epochs 15 --density 0.20 --part_type 5 --slices 15 --record 0"
   ],
   "metadata": {
    "collapsed": false
   }
  },
  {
   "cell_type": "code",
   "execution_count": 11,
   "outputs": [
    {
     "name": "stdout",
     "output_type": "stream",
     "text": [
      "2023-02-07 05:29:52  Experiment start!\r\n",
      "2023-02-07 05:29:52  Namespace(F=1, agg2=0, agg_decay=0.001, agg_epochs=15, agg_function=1, agg_lr=0.001, agg_type='att', att_decay=0.0001, att_lr=0.001, batch_size=128, beta=1, cluster='deep', cuda=True, dataset='rt', debug=0, density=0.2, devices='gpu', dimension=32, dir='../Dataset/mnist', dropout=0.1, epoch=1500, external_dim=64, hidden_dims=[64, 64, 100], input_dim=128, interaction='MF', lamda=1, latent_dim=10, log_interval=100, lr=0.0001, n_classes=10, n_clusters=10, n_jobs=1, node2vec=0, node2vec_batchsize=32, node2vec_dim=128, node2vec_epochs=20, node2vec_length=8, node2vec_walk=15, node2vec_windows=3, num_layers=2, order=2, part_iter=20, part_type=5, path='./datasets/data/WSDREAM/', pre_epoch=1000, pretrain=True, processed=0, random_state=1001, record=0, retrain=0, rounds=1, save_model=1, slice=1, slice_decay=0.001, slice_epochs=100, slice_lr=0.001, slices=15, verbose=10, wd=0.0005)\r\n",
      "2023-02-07 05:29:52  Dataset : rt     interaction : MF\r\n",
      "2023-02-07 05:29:52  Density : 20.00%, slice_epochs : 100, agg_epochs : 15\r\n",
      "2023-02-07 05:29:52  Part_type : 5,    slices : 15,       devices : gpu\r\n",
      "2023-02-07 05:29:52  Slice_lr : 0.008,    Slice_decay : 0.001\r\n",
      "2023-02-07 05:29:52  Agg_lr : 0.001,    Agg_decay : 0.001\r\n",
      "2023-02-07 05:29:52  Aggregation function : att\r\n",
      "\r\n",
      "2023-02-07 05:29:52  Round 1 experiment start!\r\n",
      "2023-02-07 05:29:52  \t原始数据集读取完毕\r\n",
      "2023-02-07 05:29:53  \t图嵌入均衡切割\r\n",
      "21 22 24 23 21 25 22 22 19 26 21 26 23 21 23 \r\n",
      "2023-02-07 05:29:53  \tNode2Vec 基于用户聚类均衡切割完毕\r\n",
      "2023-02-07 05:29:53  \t分切数据执行完毕\r\n",
      "2023-02-07 05:29:55  \t模型加载完毕\r\n",
      "2023-02-07 05:29:55  \t准备训练切片模型\r\n",
      "2023-02-07 05:29:55  \t实验 1 模型 1 开始分片训练\r\n",
      "2023-02-07 05:30:02  Epoch 10 : MAE : 0.8422  RMSE : 2.0716  NMAE : 0.8549  MRE : 0.7783  NPRE : 3.7864\r\n",
      "2023-02-07 05:30:10  Epoch 20 : MAE : 0.7256  RMSE : 1.9115  NMAE : 0.7366  MRE : 0.6656  NPRE : 1.6165\r\n",
      "2023-02-07 05:30:17  Epoch 30 : MAE : 0.7083  RMSE : 1.7873  NMAE : 0.7191  MRE : 0.6800  NPRE : 2.3641\r\n",
      "2023-02-07 05:30:23  Best epoch 27 : MAE : 0.6960  RMSE : 1.8052  NMAE : 0.7066  MRE : 0.6263  NPRE : 2.4829\r\n",
      "2023-02-07 05:30:23  实验 1 模型 1 training time = 6.36 s\r\n",
      "2023-02-07 05:30:23  Slice ID  1 : MAE = 0.6960, RMSE = 1.8052, NMAE = 0.7066, MRE = 0.6263, NPRE = 2.4829\r\n",
      "\r\n",
      "2023-02-07 05:30:23  \t实验 1 模型 2 开始分片训练\r\n",
      "2023-02-07 05:30:30  Epoch 10 : MAE : 0.6124  RMSE : 1.7853  NMAE : 0.8187  MRE : 0.6937  NPRE : 3.2754\r\n",
      "2023-02-07 05:30:38  Epoch 20 : MAE : 0.5104  RMSE : 1.6031  NMAE : 0.6822  MRE : 0.5742  NPRE : 2.0065\r\n",
      "2023-02-07 05:30:46  Epoch 30 : MAE : 0.5034  RMSE : 1.4658  NMAE : 0.6730  MRE : 0.6371  NPRE : 1.9414\r\n",
      "2023-02-07 05:30:53  Best epoch 29 : MAE : 0.4943  RMSE : 1.4876  NMAE : 0.6608  MRE : 0.5762  NPRE : 2.1855\r\n",
      "2023-02-07 05:30:53  实验 1 模型 2 training time = 7.08 s\r\n",
      "2023-02-07 05:30:53  Slice ID  2 : MAE = 0.4943, RMSE = 1.4876, NMAE = 0.6608, MRE = 0.5762, NPRE = 2.1855\r\n",
      "\r\n",
      "2023-02-07 05:30:53  \t实验 1 模型 3 开始分片训练\r\n",
      "2023-02-07 05:31:00  Epoch 10 : MAE : 0.6797  RMSE : 1.9247  NMAE : 0.8400  MRE : 0.6968  NPRE : 2.9474\r\n",
      "2023-02-07 05:31:09  Epoch 20 : MAE : 0.5553  RMSE : 1.6937  NMAE : 0.6862  MRE : 0.5636  NPRE : 2.1099\r\n",
      "2023-02-07 05:31:17  Epoch 30 : MAE : 0.5294  RMSE : 1.5557  NMAE : 0.6543  MRE : 0.5609  NPRE : 1.9646\r\n",
      "2023-02-07 05:31:25  Epoch 40 : MAE : 0.5369  RMSE : 1.4759  NMAE : 0.6635  MRE : 0.6595  NPRE : 2.4586\r\n",
      "2023-02-07 05:31:29  Best epoch 35 : MAE : 0.5289  RMSE : 1.5006  NMAE : 0.6536  MRE : 0.6161  NPRE : 1.9129\r\n",
      "2023-02-07 05:31:29  实验 1 模型 3 training time = 9.48 s\r\n",
      "2023-02-07 05:31:29  Slice ID  3 : MAE = 0.5289, RMSE = 1.5006, NMAE = 0.6536, MRE = 0.6161, NPRE = 1.9129\r\n",
      "\r\n",
      "2023-02-07 05:31:29  \t实验 1 模型 4 开始分片训练\r\n",
      "2023-02-07 05:31:36  Epoch 10 : MAE : 0.5556  RMSE : 1.6656  NMAE : 0.8111  MRE : 0.6778  NPRE : 2.1139\r\n",
      "2023-02-07 05:31:45  Epoch 20 : MAE : 0.4361  RMSE : 1.4551  NMAE : 0.6367  MRE : 0.5050  NPRE : 1.6216\r\n",
      "2023-02-07 05:31:52  Epoch 30 : MAE : 0.4144  RMSE : 1.2361  NMAE : 0.6050  MRE : 0.5553  NPRE : 1.7689\r\n",
      "2023-02-07 05:32:00  Epoch 40 : MAE : 0.4146  RMSE : 1.1329  NMAE : 0.6053  MRE : 0.6249  NPRE : 2.4150\r\n",
      "2023-02-07 05:32:05  Best epoch 36 : MAE : 0.3993  RMSE : 1.1616  NMAE : 0.5829  MRE : 0.5587  NPRE : 1.8672\r\n",
      "2023-02-07 05:32:05  实验 1 模型 4 training time = 9.39 s\r\n",
      "2023-02-07 05:32:05  Slice ID  4 : MAE = 0.3993, RMSE = 1.1616, NMAE = 0.5829, MRE = 0.5587, NPRE = 1.8672\r\n",
      "\r\n",
      "2023-02-07 05:32:05  \t实验 1 模型 5 开始分片训练\r\n",
      "2023-02-07 05:32:12  Epoch 10 : MAE : 0.6894  RMSE : 1.8424  NMAE : 0.8542  MRE : 0.7615  NPRE : 4.1262\r\n",
      "2023-02-07 05:32:20  Epoch 20 : MAE : 0.5961  RMSE : 1.6837  NMAE : 0.7386  MRE : 0.6693  NPRE : 2.5576\r\n",
      "2023-02-07 05:32:27  Epoch 30 : MAE : 0.5923  RMSE : 1.5696  NMAE : 0.7339  MRE : 0.7090  NPRE : 2.8184\r\n",
      "2023-02-07 05:32:33  Best epoch 28 : MAE : 0.5793  RMSE : 1.6088  NMAE : 0.7178  MRE : 0.6359  NPRE : 2.6445\r\n",
      "2023-02-07 05:32:33  实验 1 模型 5 training time = 6.45 s\r\n",
      "2023-02-07 05:32:33  Slice ID  5 : MAE = 0.5793, RMSE = 1.6088, NMAE = 0.7178, MRE = 0.6359, NPRE = 2.6445\r\n",
      "\r\n",
      "2023-02-07 05:32:33  \t实验 1 模型 6 开始分片训练\r\n",
      "2023-02-07 05:32:41  Epoch 10 : MAE : 0.8382  RMSE : 2.1882  NMAE : 0.8605  MRE : 0.7525  NPRE : 3.9465\r\n",
      "2023-02-07 05:32:50  Epoch 20 : MAE : 0.6959  RMSE : 1.9039  NMAE : 0.7144  MRE : 0.6377  NPRE : 2.7030\r\n",
      "2023-02-07 05:32:58  Epoch 30 : MAE : 0.6934  RMSE : 1.8277  NMAE : 0.7118  MRE : 0.6665  NPRE : 2.5479\r\n",
      "2023-02-07 05:33:01  Best epoch 24 : MAE : 0.6925  RMSE : 1.8663  NMAE : 0.7110  MRE : 0.6489  NPRE : 2.5327\r\n",
      "2023-02-07 05:33:01  实验 1 模型 6 training time = 6.62 s\r\n",
      "2023-02-07 05:33:01  Slice ID  6 : MAE = 0.6925, RMSE = 1.8663, NMAE = 0.7110, MRE = 0.6489, NPRE = 2.5327\r\n",
      "\r\n",
      "2023-02-07 05:33:01  \t实验 1 模型 7 开始分片训练\r\n",
      "2023-02-07 05:33:09  Epoch 10 : MAE : 0.8143  RMSE : 2.1167  NMAE : 0.8557  MRE : 0.7520  NPRE : 3.1669\r\n",
      "2023-02-07 05:33:16  Epoch 20 : MAE : 0.6820  RMSE : 1.8513  NMAE : 0.7167  MRE : 0.6292  NPRE : 2.6163\r\n",
      "2023-02-07 05:33:24  Epoch 30 : MAE : 0.6835  RMSE : 1.7606  NMAE : 0.7183  MRE : 0.6723  NPRE : 3.0487\r\n",
      "2023-02-07 05:33:24  Best epoch 20 : MAE : 0.6820  RMSE : 1.8513  NMAE : 0.7167  MRE : 0.6292  NPRE : 2.6163\r\n",
      "2023-02-07 05:33:24  实验 1 模型 7 training time = 5.01 s\r\n",
      "2023-02-07 05:33:24  Slice ID  7 : MAE = 0.6820, RMSE = 1.8513, NMAE = 0.7167, MRE = 0.6292, NPRE = 2.6163\r\n",
      "\r\n",
      "2023-02-07 05:33:24  \t实验 1 模型 8 开始分片训练\r\n",
      "2023-02-07 05:33:32  Epoch 10 : MAE : 0.6212  RMSE : 1.8692  NMAE : 0.8296  MRE : 0.6611  NPRE : 2.8298\r\n",
      "2023-02-07 05:33:39  Epoch 20 : MAE : 0.5226  RMSE : 1.7072  NMAE : 0.6979  MRE : 0.5150  NPRE : 2.1794\r\n",
      "2023-02-07 05:33:47  Epoch 30 : MAE : 0.5016  RMSE : 1.5887  NMAE : 0.6700  MRE : 0.5065  NPRE : 1.7358\r\n",
      "2023-02-07 05:33:55  Epoch 40 : MAE : 0.5133  RMSE : 1.5150  NMAE : 0.6856  MRE : 0.6199  NPRE : 2.2852\r\n",
      "2023-02-07 05:33:55  Best epoch 30 : MAE : 0.5016  RMSE : 1.5887  NMAE : 0.6700  MRE : 0.5065  NPRE : 1.7358\r\n",
      "2023-02-07 05:33:55  实验 1 模型 8 training time = 7.43 s\r\n",
      "2023-02-07 05:33:55  Slice ID  8 : MAE = 0.5016, RMSE = 1.5887, NMAE = 0.6700, MRE = 0.5065, NPRE = 1.7358\r\n",
      "\r\n",
      "2023-02-07 05:33:55  \t实验 1 模型 9 开始分片训练\r\n",
      "2023-02-07 05:34:02  Epoch 10 : MAE : 0.8801  RMSE : 2.1452  NMAE : 0.8916  MRE : 0.8461  NPRE : 3.9166\r\n",
      "2023-02-07 05:34:09  Epoch 20 : MAE : 0.6994  RMSE : 1.8494  NMAE : 0.7086  MRE : 0.6818  NPRE : 2.9119\r\n",
      "2023-02-07 05:34:17  Epoch 30 : MAE : 0.6953  RMSE : 1.7944  NMAE : 0.7044  MRE : 0.6973  NPRE : 2.8291\r\n",
      "2023-02-07 05:34:19  Best epoch 24 : MAE : 0.6910  RMSE : 1.8213  NMAE : 0.7001  MRE : 0.6704  NPRE : 2.8853\r\n",
      "2023-02-07 05:34:20  实验 1 模型 9 training time = 5.11 s\r\n",
      "2023-02-07 05:34:20  Slice ID  9 : MAE = 0.6910, RMSE = 1.8213, NMAE = 0.7001, MRE = 0.6704, NPRE = 2.8853\r\n",
      "\r\n",
      "2023-02-07 05:34:20  \t实验 1 模型 10 开始分片训练\r\n",
      "2023-02-07 05:34:28  Epoch 10 : MAE : 0.6820  RMSE : 1.8945  NMAE : 0.8308  MRE : 0.7067  NPRE : 2.8990\r\n",
      "2023-02-07 05:34:36  Epoch 20 : MAE : 0.5779  RMSE : 1.6655  NMAE : 0.7040  MRE : 0.6015  NPRE : 2.3858\r\n",
      "2023-02-07 05:34:44  Epoch 30 : MAE : 0.5780  RMSE : 1.5477  NMAE : 0.7042  MRE : 0.6582  NPRE : 2.8750\r\n",
      "2023-02-07 05:34:50  Best epoch 27 : MAE : 0.5618  RMSE : 1.5944  NMAE : 0.6844  MRE : 0.5883  NPRE : 2.2995\r\n",
      "2023-02-07 05:34:50  实验 1 模型 10 training time = 7.55 s\r\n",
      "2023-02-07 05:34:50  Slice ID  10 : MAE = 0.5618, RMSE = 1.5944, NMAE = 0.6844, MRE = 0.5883, NPRE = 2.2995\r\n",
      "\r\n",
      "2023-02-07 05:34:50  \t实验 1 模型 11 开始分片训练\r\n",
      "2023-02-07 05:34:57  Epoch 10 : MAE : 0.7573  RMSE : 2.0363  NMAE : 0.8368  MRE : 0.6799  NPRE : 2.9895\r\n",
      "2023-02-07 05:35:04  Epoch 20 : MAE : 0.6860  RMSE : 1.8678  NMAE : 0.7579  MRE : 0.6519  NPRE : 2.4413\r\n",
      "2023-02-07 05:35:12  Epoch 30 : MAE : 0.6956  RMSE : 1.7873  NMAE : 0.7686  MRE : 0.6988  NPRE : 2.8909\r\n",
      "2023-02-07 05:35:13  Best epoch 22 : MAE : 0.6789  RMSE : 1.8653  NMAE : 0.7501  MRE : 0.6060  NPRE : 2.3625\r\n",
      "2023-02-07 05:35:13  实验 1 模型 11 training time = 5.03 s\r\n",
      "2023-02-07 05:35:13  Slice ID  11 : MAE = 0.6789, RMSE = 1.8653, NMAE = 0.7501, MRE = 0.6060, NPRE = 2.3625\r\n",
      "\r\n",
      "2023-02-07 05:35:13  \t实验 1 模型 12 开始分片训练\r\n",
      "2023-02-07 05:35:21  Epoch 10 : MAE : 1.1386  RMSE : 2.4681  NMAE : 0.8781  MRE : 0.8513  NPRE : 4.5227\r\n",
      "2023-02-07 05:35:30  Epoch 20 : MAE : 0.8235  RMSE : 1.9562  NMAE : 0.6351  MRE : 0.5861  NPRE : 2.6412\r\n",
      "2023-02-07 05:35:38  Epoch 30 : MAE : 0.8032  RMSE : 1.8704  NMAE : 0.6194  MRE : 0.5710  NPRE : 2.7912\r\n",
      "2023-02-07 05:35:46  Epoch 40 : MAE : 0.7960  RMSE : 1.7843  NMAE : 0.6138  MRE : 0.6373  NPRE : 3.0858\r\n",
      "2023-02-07 05:35:49  Best epoch 34 : MAE : 0.7886  RMSE : 1.8256  NMAE : 0.6082  MRE : 0.5948  NPRE : 2.7014\r\n",
      "2023-02-07 05:35:49  实验 1 模型 12 training time = 9.98 s\r\n",
      "2023-02-07 05:35:49  Slice ID  12 : MAE = 0.7886, RMSE = 1.8256, NMAE = 0.6082, MRE = 0.5948, NPRE = 2.7014\r\n",
      "\r\n",
      "2023-02-07 05:35:49  \t实验 1 模型 13 开始分片训练\r\n",
      "2023-02-07 05:35:57  Epoch 10 : MAE : 0.6351  RMSE : 1.8273  NMAE : 0.8094  MRE : 0.6743  NPRE : 3.6434\r\n",
      "2023-02-07 05:36:05  Epoch 20 : MAE : 0.5364  RMSE : 1.6569  NMAE : 0.6836  MRE : 0.5647  NPRE : 2.4593\r\n",
      "2023-02-07 05:36:13  Epoch 30 : MAE : 0.5377  RMSE : 1.5248  NMAE : 0.6853  MRE : 0.6591  NPRE : 2.3730\r\n",
      "2023-02-07 05:36:16  Best epoch 24 : MAE : 0.5226  RMSE : 1.6055  NMAE : 0.6660  MRE : 0.5559  NPRE : 2.0980\r\n",
      "2023-02-07 05:36:16  实验 1 模型 13 training time = 6.12 s\r\n",
      "2023-02-07 05:36:16  Slice ID  13 : MAE = 0.5226, RMSE = 1.6055, NMAE = 0.6660, MRE = 0.5559, NPRE = 2.0980\r\n",
      "\r\n",
      "2023-02-07 05:36:16  \t实验 1 模型 14 开始分片训练\r\n",
      "2023-02-07 05:36:23  Epoch 10 : MAE : 1.0697  RMSE : 2.6137  NMAE : 0.8888  MRE : 0.8014  NPRE : 3.4496\r\n",
      "2023-02-07 05:36:31  Epoch 20 : MAE : 0.9308  RMSE : 2.2829  NMAE : 0.7734  MRE : 0.7195  NPRE : 3.8203\r\n",
      "2023-02-07 05:36:38  Epoch 30 : MAE : 0.8888  RMSE : 2.1840  NMAE : 0.7385  MRE : 0.6823  NPRE : 3.4215\r\n",
      "2023-02-07 05:36:46  Epoch 40 : MAE : 0.8860  RMSE : 2.1096  NMAE : 0.7362  MRE : 0.7347  NPRE : 3.6082\r\n",
      "2023-02-07 05:36:51  Best epoch 37 : MAE : 0.8795  RMSE : 2.1251  NMAE : 0.7308  MRE : 0.7104  NPRE : 3.3090\r\n",
      "2023-02-07 05:36:51  实验 1 模型 14 training time = 8.63 s\r\n",
      "2023-02-07 05:36:51  Slice ID  14 : MAE = 0.8795, RMSE = 2.1251, NMAE = 0.7308, MRE = 0.7104, NPRE = 3.3090\r\n",
      "\r\n",
      "2023-02-07 05:36:51  \t实验 1 模型 15 开始分片训练\r\n",
      "2023-02-07 05:36:59  Epoch 10 : MAE : 0.7906  RMSE : 2.1342  NMAE : 0.8477  MRE : 0.7285  NPRE : 2.9349\r\n",
      "2023-02-07 05:37:07  Epoch 20 : MAE : 0.6824  RMSE : 1.9229  NMAE : 0.7316  MRE : 0.6228  NPRE : 2.2537\r\n",
      "2023-02-07 05:37:15  Epoch 30 : MAE : 0.6808  RMSE : 1.8358  NMAE : 0.7299  MRE : 0.6847  NPRE : 2.4580\r\n",
      "2023-02-07 05:37:18  Best epoch 24 : MAE : 0.6780  RMSE : 1.8861  NMAE : 0.7269  MRE : 0.6326  NPRE : 2.5043\r\n",
      "2023-02-07 05:37:18  实验 1 模型 15 training time = 6.09 s\r\n",
      "2023-02-07 05:37:18  Slice ID  15 : MAE = 0.6780, RMSE = 1.8861, NMAE = 0.7269, MRE = 0.6326, NPRE = 2.5043\r\n",
      "\r\n",
      "2023-02-07 05:37:18  \t所有切片模型训练完毕\r\n",
      "2023-02-07 05:37:18  \t开始训练聚合模型\r\n",
      "2023-02-07 05:37:22  Epoch  1 : MAE : 0.6948  RMSE : 1.9471  NMAE : 0.7632  MRE : 0.5916  NPRE : 2.6942\r\n",
      "2023-02-07 05:37:26  Epoch  2 : MAE : 0.6756  RMSE : 1.9051  NMAE : 0.7421  MRE : 0.5728  NPRE : 2.5743\r\n",
      "2023-02-07 05:37:31  Epoch  3 : MAE : 0.6667  RMSE : 1.8752  NMAE : 0.7324  MRE : 0.5729  NPRE : 2.6285\r\n",
      "2023-02-07 05:37:35  Epoch  4 : MAE : 0.6574  RMSE : 1.8438  NMAE : 0.7222  MRE : 0.5626  NPRE : 2.4846\r\n",
      "2023-02-07 05:37:39  Epoch  5 : MAE : 0.6476  RMSE : 1.8020  NMAE : 0.7114  MRE : 0.5665  NPRE : 2.5813\r\n",
      "2023-02-07 05:37:43  Epoch  6 : MAE : 0.6352  RMSE : 1.7548  NMAE : 0.6978  MRE : 0.5651  NPRE : 2.5951\r\n",
      "2023-02-07 05:37:48  Epoch  7 : MAE : 0.6292  RMSE : 1.7386  NMAE : 0.6912  MRE : 0.5661  NPRE : 2.6913\r\n",
      "2023-02-07 05:37:52  Epoch  8 : MAE : 0.6238  RMSE : 1.7282  NMAE : 0.6853  MRE : 0.5551  NPRE : 2.5335\r\n",
      "2023-02-07 05:37:56  Epoch  9 : MAE : 0.6240  RMSE : 1.7234  NMAE : 0.6854  MRE : 0.5631  NPRE : 2.4584\r\n",
      "2023-02-07 05:38:01  Epoch 10 : MAE : 0.6206  RMSE : 1.7132  NMAE : 0.6817  MRE : 0.5623  NPRE : 2.5271\r\n",
      "2023-02-07 05:38:05  Epoch 11 : MAE : 0.6214  RMSE : 1.7209  NMAE : 0.6826  MRE : 0.5541  NPRE : 2.4449\r\n",
      "2023-02-07 05:38:09  Epoch 12 : MAE : 0.6218  RMSE : 1.7189  NMAE : 0.6831  MRE : 0.5615  NPRE : 2.5220\r\n",
      "2023-02-07 05:38:13  Epoch 13 : MAE : 0.6222  RMSE : 1.7240  NMAE : 0.6835  MRE : 0.5562  NPRE : 2.5251\r\n",
      "2023-02-07 05:38:17  Epoch 14 : MAE : 0.6212  RMSE : 1.7156  NMAE : 0.6824  MRE : 0.5657  NPRE : 2.6418\r\n",
      "2023-02-07 05:38:22  Epoch 15 : MAE : 0.6213  RMSE : 1.7239  NMAE : 0.6825  MRE : 0.5510  NPRE : 2.4096\r\n",
      "2023-02-07 05:38:22  Best epoch 10 : MAE : 0.6206  RMSE : 1.7132  NMAE : 0.6817  MRE : 0.5623  NPRE : 2.5271\r\n",
      "2023-02-07 05:38:22  \t实验 1 聚合模型训练完毕\r\n",
      "2023-02-07 05:38:23  Result : MAE : 0.6221  RMSE : 1.7261  NMAE : 0.6834  MRE : 0.5532  NPRE : 2.5135\r\n",
      "2023-02-07 05:38:23  \t实验 1 : Shards training time = 7.09 s\r\n",
      "\r\n",
      "2023-02-07 05:38:23  \t实验 1 : Aggregators training time = 23.84 s\r\n",
      "\r\n",
      "2023-02-07 05:38:23  \t聚合模型训练完毕\r\n",
      "------------------------------------------------------------------------------------------------------------------------\r\n",
      "2023-02-07 05:38:23  Dataset : rt     interaction : MF\r\n",
      "2023-02-07 05:38:23  Density : 20.00%, slice_epochs : 100, agg_epochs : 15\r\n",
      "2023-02-07 05:38:23  Part_type : 5,    slices : 15,       devices : gpu\r\n",
      "\r\n",
      "\r\n",
      "2023-02-07 05:38:23  Density 20.00% : MAE = 0.622, RMSE = 1.726, NMAE = 0.683, MRE = 0.553, NPRE = 2.514\r\n",
      "\r\n",
      "2023-02-07 05:38:23  Experiment success!\r\n",
      "\r\n"
     ]
    }
   ],
   "source": [
    "!python Experiment.py --dataset rt --interaction MF --rounds 1 --slices 5 --agg_epochs 15 --density 0.20 --part_type 5 --slices 15 --record 0"
   ],
   "metadata": {
    "collapsed": false
   }
  },
  {
   "cell_type": "code",
   "execution_count": 12,
   "outputs": [
    {
     "name": "stdout",
     "output_type": "stream",
     "text": [
      "2023-02-07 05:38:25  Experiment start!\r\n",
      "2023-02-07 05:38:25  Namespace(F=1, agg2=0, agg_decay=0.001, agg_epochs=12, agg_function=1, agg_lr=0.001, agg_type='att', att_decay=0.0001, att_lr=0.001, batch_size=128, beta=1, cluster='deep', cuda=True, dataset='rt', debug=0, density=0.2, devices='gpu', dimension=32, dir='../Dataset/mnist', dropout=0.1, epoch=1500, external_dim=64, hidden_dims=[64, 64, 100], input_dim=128, interaction='GraphMF', lamda=1, latent_dim=10, log_interval=100, lr=0.0001, n_classes=10, n_clusters=10, n_jobs=1, node2vec=0, node2vec_batchsize=32, node2vec_dim=128, node2vec_epochs=20, node2vec_length=8, node2vec_walk=15, node2vec_windows=3, num_layers=2, order=2, part_iter=20, part_type=5, path='./datasets/data/WSDREAM/', pre_epoch=1000, pretrain=True, processed=0, random_state=1001, record=0, retrain=0, rounds=1, save_model=1, slice=1, slice_decay=0.001, slice_epochs=100, slice_lr=0.001, slices=15, verbose=10, wd=0.0005)\r\n",
      "2023-02-07 05:38:25  Dataset : rt     interaction : GraphMF\r\n",
      "2023-02-07 05:38:25  Density : 20.00%, slice_epochs : 15, agg_epochs : 12\r\n",
      "2023-02-07 05:38:25  Part_type : 5,    slices : 15,       devices : gpu\r\n",
      "2023-02-07 05:38:25  Slice_lr : 0.01,    Slice_decay : 0.001\r\n",
      "2023-02-07 05:38:25  Agg_lr : 0.001,    Agg_decay : 0.001\r\n",
      "2023-02-07 05:38:25  Aggregation function : att\r\n",
      "\r\n",
      "2023-02-07 05:38:25  Round 1 experiment start!\r\n",
      "2023-02-07 05:38:25  \t原始数据集读取完毕\r\n",
      "2023-02-07 05:38:25  \t图嵌入均衡切割\r\n",
      "21 22 24 23 21 25 22 22 19 26 21 26 23 21 23 \r\n",
      "2023-02-07 05:38:25  \tNode2Vec 基于用户聚类均衡切割完毕\r\n",
      "2023-02-07 05:38:25  \t分切数据执行完毕\r\n",
      "2023-02-07 05:38:25  \tNeuGraphMF建图中\r\n",
      "2023-02-07 05:38:29  \tNeuGraphMF建图完毕\r\n",
      "2023-02-07 05:38:31  \t模型加载完毕\r\n",
      "2023-02-07 05:38:31  \t开始训练聚合模型\r\n",
      "2023-02-07 05:38:36  Epoch  1 : MAE : 0.5627  RMSE : 1.5895  NMAE : 0.6181  MRE : 0.4406  NPRE : 2.3487\r\n",
      "2023-02-07 05:38:41  Epoch  2 : MAE : 0.5305  RMSE : 1.5607  NMAE : 0.5828  MRE : 0.4001  NPRE : 1.7692\r\n",
      "2023-02-07 05:38:45  Epoch  3 : MAE : 0.4337  RMSE : 1.3610  NMAE : 0.4764  MRE : 0.3561  NPRE : 1.8453\r\n",
      "2023-02-07 05:38:49  Epoch  4 : MAE : 0.4065  RMSE : 1.3314  NMAE : 0.4465  MRE : 0.3191  NPRE : 1.4707\r\n",
      "2023-02-07 05:38:54  Epoch  5 : MAE : 0.3902  RMSE : 1.3159  NMAE : 0.4287  MRE : 0.2958  NPRE : 1.3876\r\n",
      "2023-02-07 05:38:59  Epoch  6 : MAE : 0.3838  RMSE : 1.3097  NMAE : 0.4216  MRE : 0.2859  NPRE : 1.1649\r\n",
      "2023-02-07 05:39:03  Epoch  7 : MAE : 0.3811  RMSE : 1.3028  NMAE : 0.4187  MRE : 0.2858  NPRE : 1.3243\r\n",
      "2023-02-07 05:39:08  Epoch  8 : MAE : 0.3737  RMSE : 1.3076  NMAE : 0.4105  MRE : 0.2646  NPRE : 1.0712\r\n",
      "2023-02-07 05:39:12  Epoch  9 : MAE : 0.3730  RMSE : 1.2934  NMAE : 0.4097  MRE : 0.2634  NPRE : 1.1420\r\n",
      "2023-02-07 05:39:17  Epoch 10 : MAE : 0.3692  RMSE : 1.2909  NMAE : 0.4056  MRE : 0.2532  NPRE : 1.0528\r\n",
      "2023-02-07 05:39:21  Epoch 11 : MAE : 0.3685  RMSE : 1.2979  NMAE : 0.4048  MRE : 0.2527  NPRE : 1.0664\r\n",
      "2023-02-07 05:39:26  Epoch 12 : MAE : 0.3660  RMSE : 1.2899  NMAE : 0.4021  MRE : 0.2451  NPRE : 0.9909\r\n",
      "2023-02-07 05:39:26  Best epoch 12 : MAE : 0.3660  RMSE : 1.2899  NMAE : 0.4021  MRE : 0.2451  NPRE : 0.9909\r\n",
      "2023-02-07 05:39:26  \t实验 1 聚合模型训练完毕\r\n",
      "2023-02-07 05:39:27  Result : MAE : 0.3660  RMSE : 1.2899  NMAE : 0.4021  MRE : 0.2451  NPRE : 0.9909\r\n",
      "/home/yxzeng/anaconda3/lib/python3.8/site-packages/numpy/core/fromnumeric.py:3432: RuntimeWarning: Mean of empty slice.\r\n",
      "  return _methods._mean(a, axis=axis, dtype=dtype,\r\n",
      "/home/yxzeng/anaconda3/lib/python3.8/site-packages/numpy/core/_methods.py:190: RuntimeWarning: invalid value encountered in double_scalars\r\n",
      "  ret = ret.dtype.type(ret / rcount)\r\n",
      "2023-02-07 05:39:27  \t实验 1 : Shards training time = nan s\r\n",
      "\r\n",
      "2023-02-07 05:39:27  \t实验 1 : Aggregators training time = 31.77 s\r\n",
      "\r\n",
      "2023-02-07 05:39:27  \t聚合模型训练完毕\r\n",
      "------------------------------------------------------------------------------------------------------------------------\r\n",
      "2023-02-07 05:39:27  Dataset : rt     interaction : GraphMF\r\n",
      "2023-02-07 05:39:27  Density : 20.00%, slice_epochs : 15, agg_epochs : 12\r\n",
      "2023-02-07 05:39:27  Part_type : 5,    slices : 15,       devices : gpu\r\n",
      "\r\n",
      "\r\n",
      "2023-02-07 05:39:27  Density 20.00% : MAE = 0.366, RMSE = 1.290, NMAE = 0.402, MRE = 0.245, NPRE = 0.991\r\n",
      "\r\n",
      "2023-02-07 05:39:27  Experiment success!\r\n",
      "\r\n"
     ]
    }
   ],
   "source": [
    "!python Experiment.py --dataset rt --interaction GraphMF --rounds 1 --slices 5 --agg_epochs 12 --density 0.20 --part_type 5 --slices 15 --record 0"
   ],
   "metadata": {
    "collapsed": false
   }
  },
  {
   "cell_type": "code",
   "execution_count": 13,
   "outputs": [
    {
     "name": "stdout",
     "output_type": "stream",
     "text": [
      "2023-02-07 05:39:29  Experiment start!\r\n",
      "2023-02-07 05:39:29  Namespace(F=1, agg2=0, agg_decay=0.001, agg_epochs=15, agg_function=1, agg_lr=0.001, agg_type='att', att_decay=0.0001, att_lr=0.001, batch_size=128, beta=1, cluster='deep', cuda=True, dataset='tp', debug=0, density=0.2, devices='gpu', dimension=32, dir='../Dataset/mnist', dropout=0.1, epoch=1500, external_dim=64, hidden_dims=[64, 64, 100], input_dim=128, interaction='NeuCF', lamda=1, latent_dim=10, log_interval=100, lr=0.0001, n_classes=10, n_clusters=10, n_jobs=1, node2vec=0, node2vec_batchsize=32, node2vec_dim=128, node2vec_epochs=20, node2vec_length=8, node2vec_walk=15, node2vec_windows=3, num_layers=2, order=2, part_iter=20, part_type=5, path='./datasets/data/WSDREAM/', pre_epoch=1000, pretrain=True, processed=0, random_state=1001, record=0, retrain=0, rounds=1, save_model=1, slice=1, slice_decay=0.001, slice_epochs=100, slice_lr=0.001, slices=15, verbose=10, wd=0.0005)\r\n",
      "2023-02-07 05:39:29  Dataset : tp     interaction : NeuCF\r\n",
      "2023-02-07 05:39:29  Density : 20.00%, slice_epochs : 100, agg_epochs : 15\r\n",
      "2023-02-07 05:39:29  Part_type : 5,    slices : 15,       devices : gpu\r\n",
      "2023-02-07 05:39:29  Slice_lr : 0.004,    Slice_decay : 0.001\r\n",
      "2023-02-07 05:39:29  Agg_lr : 0.001,    Agg_decay : 0.001\r\n",
      "2023-02-07 05:39:29  Aggregation function : att\r\n",
      "\r\n",
      "2023-02-07 05:39:29  Round 1 experiment start!\r\n",
      "2023-02-07 05:39:29  \t原始数据集读取完毕\r\n",
      "2023-02-07 05:39:29  \t图嵌入均衡切割\r\n",
      "21 22 24 23 21 25 22 22 19 26 21 26 23 21 23 \r\n",
      "2023-02-07 05:39:29  \tNode2Vec 基于用户聚类均衡切割完毕\r\n",
      "2023-02-07 05:39:29  \t分切数据执行完毕\r\n",
      "2023-02-07 05:39:31  \t模型加载完毕\r\n",
      "2023-02-07 05:39:31  \t开始训练聚合模型\r\n",
      "2023-02-07 05:39:39  Epoch  1 : MAE : 19.7115  RMSE : 58.0664  NMAE : 0.4147  MRE : 0.3770  NPRE : 1.8644\r\n",
      "2023-02-07 05:39:45  Epoch  2 : MAE : 17.8100  RMSE : 54.6397  NMAE : 0.3747  MRE : 0.3298  NPRE : 1.0657\r\n",
      "2023-02-07 05:39:52  Epoch  3 : MAE : 16.7745  RMSE : 51.6673  NMAE : 0.3529  MRE : 0.3054  NPRE : 1.0000\r\n",
      "2023-02-07 05:39:59  Epoch  4 : MAE : 16.8571  RMSE : 52.7061  NMAE : 0.3546  MRE : 0.2884  NPRE : 1.0000\r\n",
      "2023-02-07 05:40:06  Epoch  5 : MAE : 15.8037  RMSE : 49.7294  NMAE : 0.3325  MRE : 0.2699  NPRE : 1.1226\r\n",
      "2023-02-07 05:40:12  Epoch  6 : MAE : 15.2160  RMSE : 48.0226  NMAE : 0.3201  MRE : 0.2667  NPRE : 1.0399\r\n",
      "2023-02-07 05:40:19  Epoch  7 : MAE : 15.0616  RMSE : 48.1313  NMAE : 0.3169  MRE : 0.2594  NPRE : 1.0000\r\n",
      "2023-02-07 05:40:26  Epoch  8 : MAE : 14.6935  RMSE : 46.8613  NMAE : 0.3091  MRE : 0.2524  NPRE : 1.1549\r\n",
      "2023-02-07 05:40:33  Epoch  9 : MAE : 14.6109  RMSE : 46.6037  NMAE : 0.3074  MRE : 0.2506  NPRE : 1.3309\r\n",
      "2023-02-07 05:40:40  Epoch 10 : MAE : 14.7664  RMSE : 46.9279  NMAE : 0.3106  MRE : 0.2514  NPRE : 1.0000\r\n",
      "2023-02-07 05:40:47  Epoch 11 : MAE : 14.4519  RMSE : 45.8445  NMAE : 0.3040  MRE : 0.2560  NPRE : 1.5789\r\n",
      "2023-02-07 05:40:53  Epoch 12 : MAE : 14.2289  RMSE : 45.6680  NMAE : 0.2993  MRE : 0.2441  NPRE : 1.0000\r\n",
      "2023-02-07 05:41:00  Epoch 13 : MAE : 14.6201  RMSE : 46.7587  NMAE : 0.3076  MRE : 0.2502  NPRE : 1.4112\r\n",
      "2023-02-07 05:41:07  Epoch 14 : MAE : 14.2381  RMSE : 46.1081  NMAE : 0.2995  MRE : 0.2424  NPRE : 1.2908\r\n",
      "2023-02-07 05:41:14  Epoch 15 : MAE : 14.4869  RMSE : 46.9468  NMAE : 0.3048  MRE : 0.2424  NPRE : 1.1803\r\n",
      "2023-02-07 05:41:14  Best epoch 12 : MAE : 14.2289  RMSE : 45.6680  NMAE : 0.2993  MRE : 0.2441  NPRE : 1.0000\r\n",
      "2023-02-07 05:41:14  \t实验 1 聚合模型训练完毕\r\n",
      "2023-02-07 05:41:16  Result : MAE : 14.1729  RMSE : 45.4789  NMAE : 0.2982  MRE : 0.2450  NPRE : 1.0000\r\n",
      "/home/yxzeng/anaconda3/lib/python3.8/site-packages/numpy/core/fromnumeric.py:3432: RuntimeWarning: Mean of empty slice.\r\n",
      "  return _methods._mean(a, axis=axis, dtype=dtype,\r\n",
      "/home/yxzeng/anaconda3/lib/python3.8/site-packages/numpy/core/_methods.py:190: RuntimeWarning: invalid value encountered in double_scalars\r\n",
      "  ret = ret.dtype.type(ret / rcount)\r\n",
      "2023-02-07 05:41:16  \t实验 1 : Shards training time = nan s\r\n",
      "\r\n",
      "2023-02-07 05:41:16  \t实验 1 : Aggregators training time = 59.21 s\r\n",
      "\r\n",
      "2023-02-07 05:41:16  \t聚合模型训练完毕\r\n",
      "------------------------------------------------------------------------------------------------------------------------\r\n",
      "2023-02-07 05:41:16  Dataset : tp     interaction : NeuCF\r\n",
      "2023-02-07 05:41:16  Density : 20.00%, slice_epochs : 100, agg_epochs : 15\r\n",
      "2023-02-07 05:41:16  Part_type : 5,    slices : 15,       devices : gpu\r\n",
      "\r\n",
      "\r\n",
      "2023-02-07 05:41:16  Density 20.00% : MAE = 14.173, RMSE = 45.479, NMAE = 0.298, MRE = 0.245, NPRE = 1.000\r\n",
      "\r\n",
      "2023-02-07 05:41:16  Experiment success!\r\n",
      "\r\n"
     ]
    }
   ],
   "source": [
    "!python Experiment.py --dataset tp --interaction NeuCF --rounds 1 --slices 5 --agg_epochs 15 --density 0.20 --part_type 5 --slices 15 --record 0"
   ],
   "metadata": {
    "collapsed": false
   }
  },
  {
   "cell_type": "code",
   "execution_count": 14,
   "outputs": [
    {
     "name": "stdout",
     "output_type": "stream",
     "text": [
      "2023-02-07 05:41:17  Experiment start!\r\n",
      "2023-02-07 05:41:17  Namespace(F=1, agg2=0, agg_decay=0.001, agg_epochs=20, agg_function=1, agg_lr=0.001, agg_type='att', att_decay=0.0001, att_lr=0.001, batch_size=128, beta=1, cluster='deep', cuda=True, dataset='tp', debug=0, density=0.2, devices='gpu', dimension=32, dir='../Dataset/mnist', dropout=0.1, epoch=1500, external_dim=64, hidden_dims=[64, 64, 100], input_dim=128, interaction='CSMF', lamda=1, latent_dim=10, log_interval=100, lr=0.0001, n_classes=10, n_clusters=10, n_jobs=1, node2vec=0, node2vec_batchsize=32, node2vec_dim=128, node2vec_epochs=20, node2vec_length=8, node2vec_walk=15, node2vec_windows=3, num_layers=2, order=2, part_iter=20, part_type=5, path='./datasets/data/WSDREAM/', pre_epoch=1000, pretrain=True, processed=0, random_state=1001, record=0, retrain=0, rounds=1, save_model=1, slice=1, slice_decay=0.001, slice_epochs=100, slice_lr=0.001, slices=15, verbose=10, wd=0.0005)\r\n",
      "2023-02-07 05:41:17  Dataset : tp     interaction : CSMF\r\n",
      "2023-02-07 05:41:17  Density : 20.00%, slice_epochs : 100, agg_epochs : 20\r\n",
      "2023-02-07 05:41:17  Part_type : 5,    slices : 15,       devices : gpu\r\n",
      "2023-02-07 05:41:17  Slice_lr : 0.01,    Slice_decay : 0.001\r\n",
      "2023-02-07 05:41:17  Agg_lr : 0.008,    Agg_decay : 0.001\r\n",
      "2023-02-07 05:41:17  Aggregation function : att\r\n",
      "\r\n",
      "2023-02-07 05:41:17  Round 1 experiment start!\r\n",
      "2023-02-07 05:41:17  \t原始数据集读取完毕\r\n",
      "2023-02-07 05:41:17  \t图嵌入均衡切割\r\n",
      "21 22 24 23 21 25 22 22 19 26 21 26 23 21 23 \r\n",
      "2023-02-07 05:41:17  \tNode2Vec 基于用户聚类均衡切割完毕\r\n",
      "2023-02-07 05:41:17  \t分切数据执行完毕\r\n",
      "2023-02-07 05:41:19  \t模型加载完毕\r\n",
      "2023-02-07 05:41:19  \t开始训练聚合模型\r\n",
      "2023-02-07 05:41:24  Epoch  1 : MAE : 23.7114  RMSE : 64.5180  NMAE : 0.4988  MRE : 0.4430  NPRE : 1.8407\r\n",
      "2023-02-07 05:41:28  Epoch  2 : MAE : 22.7347  RMSE : 63.1941  NMAE : 0.4783  MRE : 0.4141  NPRE : 1.9201\r\n",
      "2023-02-07 05:41:33  Epoch  3 : MAE : 22.4223  RMSE : 62.8135  NMAE : 0.4717  MRE : 0.3958  NPRE : 1.8056\r\n",
      "2023-02-07 05:41:37  Epoch  4 : MAE : 22.3382  RMSE : 62.4057  NMAE : 0.4699  MRE : 0.3952  NPRE : 1.6860\r\n",
      "2023-02-07 05:41:42  Epoch  5 : MAE : 22.1542  RMSE : 62.7384  NMAE : 0.4661  MRE : 0.3848  NPRE : 1.6794\r\n",
      "2023-02-07 05:41:46  Epoch  6 : MAE : 22.0384  RMSE : 62.1767  NMAE : 0.4636  MRE : 0.3887  NPRE : 1.8617\r\n",
      "2023-02-07 05:41:50  Epoch  7 : MAE : 22.0725  RMSE : 61.8181  NMAE : 0.4643  MRE : 0.3831  NPRE : 1.7527\r\n",
      "2023-02-07 05:41:55  Epoch  8 : MAE : 22.0014  RMSE : 62.6079  NMAE : 0.4628  MRE : 0.3769  NPRE : 1.7513\r\n",
      "2023-02-07 05:41:59  Epoch  9 : MAE : 21.8731  RMSE : 62.2101  NMAE : 0.4601  MRE : 0.3746  NPRE : 1.7751\r\n",
      "2023-02-07 05:42:04  Epoch 10 : MAE : 21.9143  RMSE : 61.5706  NMAE : 0.4610  MRE : 0.3824  NPRE : 1.8283\r\n",
      "2023-02-07 05:42:08  Epoch 11 : MAE : 21.7805  RMSE : 62.0954  NMAE : 0.4582  MRE : 0.3730  NPRE : 1.6701\r\n",
      "2023-02-07 05:42:12  Epoch 12 : MAE : 22.0339  RMSE : 61.3374  NMAE : 0.4635  MRE : 0.3826  NPRE : 1.9202\r\n",
      "2023-02-07 05:42:17  Epoch 13 : MAE : 21.7726  RMSE : 62.2508  NMAE : 0.4580  MRE : 0.3730  NPRE : 1.6511\r\n",
      "2023-02-07 05:42:21  Epoch 14 : MAE : 21.7677  RMSE : 61.9734  NMAE : 0.4579  MRE : 0.3725  NPRE : 1.7655\r\n",
      "2023-02-07 05:42:26  Epoch 15 : MAE : 21.6837  RMSE : 61.5744  NMAE : 0.4562  MRE : 0.3728  NPRE : 1.6541\r\n",
      "2023-02-07 05:42:30  Epoch 16 : MAE : 21.7229  RMSE : 62.3247  NMAE : 0.4570  MRE : 0.3720  NPRE : 1.7259\r\n",
      "2023-02-07 05:42:35  Epoch 17 : MAE : 21.7315  RMSE : 62.1315  NMAE : 0.4572  MRE : 0.3716  NPRE : 1.4796\r\n",
      "2023-02-07 05:42:39  Epoch 18 : MAE : 21.6112  RMSE : 61.7108  NMAE : 0.4546  MRE : 0.3748  NPRE : 1.7001\r\n",
      "2023-02-07 05:42:44  Epoch 19 : MAE : 21.5712  RMSE : 61.4510  NMAE : 0.4538  MRE : 0.3764  NPRE : 1.7420\r\n",
      "2023-02-07 05:42:48  Epoch 20 : MAE : 21.5299  RMSE : 61.2159  NMAE : 0.4529  MRE : 0.3737  NPRE : 1.6790\r\n",
      "2023-02-07 05:42:48  Best epoch 20 : MAE : 21.5299  RMSE : 61.2159  NMAE : 0.4529  MRE : 0.3737  NPRE : 1.6790\r\n",
      "2023-02-07 05:42:48  \t实验 1 聚合模型训练完毕\r\n",
      "2023-02-07 05:42:50  Result : MAE : 21.5299  RMSE : 61.2159  NMAE : 0.4529  MRE : 0.3737  NPRE : 1.6790\r\n",
      "/home/yxzeng/anaconda3/lib/python3.8/site-packages/numpy/core/fromnumeric.py:3432: RuntimeWarning: Mean of empty slice.\r\n",
      "  return _methods._mean(a, axis=axis, dtype=dtype,\r\n",
      "/home/yxzeng/anaconda3/lib/python3.8/site-packages/numpy/core/_methods.py:190: RuntimeWarning: invalid value encountered in double_scalars\r\n",
      "  ret = ret.dtype.type(ret / rcount)\r\n",
      "2023-02-07 05:42:50  \t实验 1 : Shards training time = nan s\r\n",
      "\r\n",
      "2023-02-07 05:42:50  \t实验 1 : Aggregators training time = 51.63 s\r\n",
      "\r\n",
      "2023-02-07 05:42:50  \t聚合模型训练完毕\r\n",
      "------------------------------------------------------------------------------------------------------------------------\r\n",
      "2023-02-07 05:42:50  Dataset : tp     interaction : CSMF\r\n",
      "2023-02-07 05:42:50  Density : 20.00%, slice_epochs : 100, agg_epochs : 20\r\n",
      "2023-02-07 05:42:50  Part_type : 5,    slices : 15,       devices : gpu\r\n",
      "\r\n",
      "\r\n",
      "2023-02-07 05:42:50  Density 20.00% : MAE = 21.530, RMSE = 61.216, NMAE = 0.453, MRE = 0.374, NPRE = 1.679\r\n",
      "\r\n",
      "2023-02-07 05:42:50  Experiment success!\r\n",
      "\r\n"
     ]
    }
   ],
   "source": [
    "!python Experiment.py --dataset tp --interaction CSMF --rounds 1 --slices 5 --agg_epochs 20 --density 0.20 --part_type 5 --slices 15 --record 0"
   ],
   "metadata": {
    "collapsed": false
   }
  },
  {
   "cell_type": "code",
   "execution_count": 15,
   "outputs": [
    {
     "name": "stdout",
     "output_type": "stream",
     "text": [
      "2023-02-07 05:42:51  Experiment start!\r\n",
      "2023-02-07 05:42:51  Namespace(F=1, agg2=0, agg_decay=0.001, agg_epochs=20, agg_function=1, agg_lr=0.001, agg_type='att', att_decay=0.0001, att_lr=0.001, batch_size=128, beta=1, cluster='deep', cuda=True, dataset='tp', debug=0, density=0.2, devices='gpu', dimension=32, dir='../Dataset/mnist', dropout=0.1, epoch=1500, external_dim=64, hidden_dims=[64, 64, 100], input_dim=128, interaction='MF', lamda=1, latent_dim=10, log_interval=100, lr=0.0001, n_classes=10, n_clusters=10, n_jobs=1, node2vec=0, node2vec_batchsize=32, node2vec_dim=128, node2vec_epochs=20, node2vec_length=8, node2vec_walk=15, node2vec_windows=3, num_layers=2, order=2, part_iter=20, part_type=5, path='./datasets/data/WSDREAM/', pre_epoch=1000, pretrain=True, processed=0, random_state=1001, record=0, retrain=0, rounds=1, save_model=1, slice=1, slice_decay=0.001, slice_epochs=100, slice_lr=0.001, slices=15, verbose=10, wd=0.0005)\r\n",
      "2023-02-07 05:42:51  Dataset : tp     interaction : MF\r\n",
      "2023-02-07 05:42:51  Density : 20.00%, slice_epochs : 100, agg_epochs : 20\r\n",
      "2023-02-07 05:42:51  Part_type : 5,    slices : 15,       devices : gpu\r\n",
      "2023-02-07 05:42:51  Slice_lr : 0.008,    Slice_decay : 0.001\r\n",
      "2023-02-07 05:42:51  Agg_lr : 0.001,    Agg_decay : 0.001\r\n",
      "2023-02-07 05:42:51  Aggregation function : att\r\n",
      "\r\n",
      "2023-02-07 05:42:51  Round 1 experiment start!\r\n",
      "2023-02-07 05:42:51  \t原始数据集读取完毕\r\n",
      "2023-02-07 05:42:51  \t图嵌入均衡切割\r\n",
      "21 22 24 23 21 25 22 22 19 26 21 26 23 21 23 \r\n",
      "2023-02-07 05:42:51  \tNode2Vec 基于用户聚类均衡切割完毕\r\n",
      "2023-02-07 05:42:51  \t分切数据执行完毕\r\n",
      "2023-02-07 05:42:53  \t模型加载完毕\r\n",
      "2023-02-07 05:42:53  \t准备训练切片模型\r\n",
      "2023-02-07 05:42:53  \t实验 1 模型 1 开始分片训练\r\n",
      "2023-02-07 05:43:01  Epoch 10 : MAE : 38.3420  RMSE : 107.6517  NMAE : 0.9015  MRE : 0.8360  NPRE : 5.5696\r\n",
      "2023-02-07 05:43:08  Epoch 20 : MAE : 31.5996  RMSE : 88.0679  NMAE : 0.7430  MRE : 0.8738  NPRE : 4.9465\r\n",
      "2023-02-07 05:43:16  Epoch 30 : MAE : 27.7661  RMSE : 70.0828  NMAE : 0.6529  MRE : 0.9612  NPRE : 5.4498\r\n",
      "2023-02-07 05:43:24  Epoch 40 : MAE : 27.7881  RMSE : 67.1786  NMAE : 0.6534  MRE : 1.0000  NPRE : 6.0823\r\n",
      "2023-02-07 05:43:27  Best epoch 34 : MAE : 26.8604  RMSE : 69.0628  NMAE : 0.6316  MRE : 0.9351  NPRE : 4.8035\r\n",
      "2023-02-07 05:43:27  实验 1 模型 1 training time = 7.80 s\r\n",
      "2023-02-07 05:43:27  Slice ID  1 : MAE = 26.8604, RMSE = 69.0628, NMAE = 0.6316, MRE = 0.9351, NPRE = 4.8035\r\n",
      "\r\n",
      "2023-02-07 05:43:27  \t实验 1 模型 2 开始分片训练\r\n",
      "2023-02-07 05:43:35  Epoch 10 : MAE : 42.5703  RMSE : 120.3224  NMAE : 0.8460  MRE : 0.7842  NPRE : 3.9892\r\n"
     ]
    }
   ],
   "source": [
    "!python Experiment.py --dataset tp --interaction MF --rounds 1 --slices 5 --agg_epochs 20 --density 0.20 --part_type 5 --slices 15 --record 0"
   ],
   "metadata": {
    "collapsed": false
   }
  },
  {
   "cell_type": "code",
   "execution_count": 16,
   "outputs": [
    {
     "name": "stdout",
     "output_type": "stream",
     "text": [
      "2023-02-07 05:43:42  Experiment start!\r\n",
      "2023-02-07 05:43:42  Namespace(F=1, agg2=0, agg_decay=0.001, agg_epochs=15, agg_function=1, agg_lr=0.001, agg_type='att', att_decay=0.0001, att_lr=0.001, batch_size=128, beta=1, cluster='deep', cuda=True, dataset='tp', debug=0, density=0.2, devices='gpu', dimension=32, dir='../Dataset/mnist', dropout=0.1, epoch=1500, external_dim=64, hidden_dims=[64, 64, 100], input_dim=128, interaction='GraphMF', lamda=1, latent_dim=10, log_interval=100, lr=0.0001, n_classes=10, n_clusters=10, n_jobs=1, node2vec=0, node2vec_batchsize=32, node2vec_dim=128, node2vec_epochs=20, node2vec_length=8, node2vec_walk=15, node2vec_windows=3, num_layers=2, order=2, part_iter=20, part_type=5, path='./datasets/data/WSDREAM/', pre_epoch=1000, pretrain=True, processed=0, random_state=1001, record=0, retrain=0, rounds=1, save_model=1, slice=1, slice_decay=0.001, slice_epochs=100, slice_lr=0.001, slices=15, verbose=10, wd=0.0005)\r\n",
      "2023-02-07 05:43:42  Dataset : tp     interaction : GraphMF\r\n",
      "2023-02-07 05:43:42  Density : 20.00%, slice_epochs : 15, agg_epochs : 15\r\n",
      "2023-02-07 05:43:42  Part_type : 5,    slices : 15,       devices : gpu\r\n",
      "2023-02-07 05:43:42  Slice_lr : 0.01,    Slice_decay : 0.001\r\n",
      "2023-02-07 05:43:42  Agg_lr : 0.001,    Agg_decay : 0.001\r\n",
      "2023-02-07 05:43:42  Aggregation function : att\r\n",
      "\r\n",
      "2023-02-07 05:43:42  Round 1 experiment start!\r\n",
      "2023-02-07 05:43:42  \t原始数据集读取完毕\r\n",
      "2023-02-07 05:43:42  \t图嵌入均衡切割\r\n",
      "21 22 24 23 21 25 22 22 19 26 21 26 23 21 23 \r\n",
      "2023-02-07 05:43:42  \tNode2Vec 基于用户聚类均衡切割完毕\r\n",
      "2023-02-07 05:43:42  \t分切数据执行完毕\r\n",
      "2023-02-07 05:43:42  \tNeuGraphMF建图中\r\n",
      "2023-02-07 05:43:46  \tNeuGraphMF建图完毕\r\n",
      "2023-02-07 05:43:48  \t模型加载完毕\r\n",
      "2023-02-07 05:43:48  \t开始训练聚合模型\r\n",
      "2023-02-07 05:43:53  Epoch  1 : MAE : 24.9146  RMSE : 67.5862  NMAE : 0.5241  MRE : 0.4722  NPRE : 2.4979\r\n",
      "2023-02-07 05:43:57  Epoch  2 : MAE : 22.8052  RMSE : 63.7005  NMAE : 0.4798  MRE : 0.4284  NPRE : 1.9472\r\n",
      "2023-02-07 05:44:01  Epoch  3 : MAE : 20.6448  RMSE : 59.2971  NMAE : 0.4343  MRE : 0.3673  NPRE : 1.6726\r\n",
      "2023-02-07 05:44:06  Epoch  4 : MAE : 19.3291  RMSE : 55.7370  NMAE : 0.4066  MRE : 0.3389  NPRE : 1.6210\r\n",
      "2023-02-07 05:44:10  Epoch  5 : MAE : 18.6844  RMSE : 54.0990  NMAE : 0.3931  MRE : 0.3268  NPRE : 1.5923\r\n",
      "2023-02-07 05:44:14  Epoch  6 : MAE : 17.8162  RMSE : 53.1662  NMAE : 0.3748  MRE : 0.3209  NPRE : 1.5536\r\n",
      "2023-02-07 05:44:19  Epoch  7 : MAE : 17.9139  RMSE : 54.5501  NMAE : 0.3769  MRE : 0.3003  NPRE : 1.1592\r\n",
      "2023-02-07 05:44:23  Epoch  8 : MAE : 16.9246  RMSE : 52.8369  NMAE : 0.3560  MRE : 0.2736  NPRE : 1.2128\r\n",
      "2023-02-07 05:44:28  Epoch  9 : MAE : 16.5035  RMSE : 51.6681  NMAE : 0.3472  MRE : 0.2705  NPRE : 1.2300\r\n",
      "2023-02-07 05:44:32  Epoch 10 : MAE : 16.3068  RMSE : 50.5143  NMAE : 0.3430  MRE : 0.2707  NPRE : 1.2987\r\n",
      "2023-02-07 05:44:36  Epoch 11 : MAE : 16.2582  RMSE : 50.8623  NMAE : 0.3420  MRE : 0.2635  NPRE : 1.2261\r\n",
      "2023-02-07 05:44:41  Epoch 12 : MAE : 16.0199  RMSE : 50.5174  NMAE : 0.3370  MRE : 0.2644  NPRE : 1.1350\r\n",
      "2023-02-07 05:44:45  Epoch 13 : MAE : 15.8267  RMSE : 50.5182  NMAE : 0.3329  MRE : 0.2574  NPRE : 1.1914\r\n",
      "2023-02-07 05:44:49  Epoch 14 : MAE : 16.0877  RMSE : 50.7331  NMAE : 0.3384  MRE : 0.2655  NPRE : 1.0362\r\n",
      "2023-02-07 05:44:54  Epoch 15 : MAE : 15.8306  RMSE : 49.3422  NMAE : 0.3330  MRE : 0.2640  NPRE : 1.2641\r\n",
      "2023-02-07 05:44:54  Best epoch 13 : MAE : 15.8267  RMSE : 50.5182  NMAE : 0.3329  MRE : 0.2574  NPRE : 1.1914\r\n",
      "2023-02-07 05:44:54  \t实验 1 聚合模型训练完毕\r\n",
      "2023-02-07 05:44:55  Result : MAE : 15.7900  RMSE : 49.7827  NMAE : 0.3322  MRE : 0.2612  NPRE : 1.2149\r\n",
      "/home/yxzeng/anaconda3/lib/python3.8/site-packages/numpy/core/fromnumeric.py:3432: RuntimeWarning: Mean of empty slice.\r\n",
      "  return _methods._mean(a, axis=axis, dtype=dtype,\r\n",
      "/home/yxzeng/anaconda3/lib/python3.8/site-packages/numpy/core/_methods.py:190: RuntimeWarning: invalid value encountered in double_scalars\r\n",
      "  ret = ret.dtype.type(ret / rcount)\r\n",
      "2023-02-07 05:44:55  \t实验 1 : Shards training time = nan s\r\n",
      "\r\n",
      "2023-02-07 05:44:55  \t实验 1 : Aggregators training time = 32.95 s\r\n",
      "\r\n",
      "2023-02-07 05:44:55  \t聚合模型训练完毕\r\n",
      "------------------------------------------------------------------------------------------------------------------------\r\n",
      "2023-02-07 05:44:55  Dataset : tp     interaction : GraphMF\r\n",
      "2023-02-07 05:44:55  Density : 20.00%, slice_epochs : 15, agg_epochs : 15\r\n",
      "2023-02-07 05:44:55  Part_type : 5,    slices : 15,       devices : gpu\r\n",
      "\r\n",
      "\r\n",
      "2023-02-07 05:44:55  Density 20.00% : MAE = 15.790, RMSE = 49.783, NMAE = 0.332, MRE = 0.261, NPRE = 1.215\r\n",
      "\r\n",
      "2023-02-07 05:44:55  Experiment success!\r\n",
      "\r\n"
     ]
    }
   ],
   "source": [
    "!python Experiment.py --dataset tp --interaction GraphMF --rounds 1 --slices 5 --agg_epochs 15 --density 0.20 --part_type 5 --slices 15 --record 0"
   ],
   "metadata": {
    "collapsed": false
   }
  },
  {
   "cell_type": "code",
   "execution_count": 17,
   "outputs": [
    {
     "name": "stdout",
     "output_type": "stream",
     "text": [
      "2023-02-07 05:44:56  Experiment start!\r\n",
      "2023-02-07 05:44:56  Namespace(F=1, agg2=0, agg_decay=0.001, agg_epochs=12, agg_function=1, agg_lr=0.001, agg_type='att', att_decay=0.0001, att_lr=0.001, batch_size=128, beta=1, cluster='deep', cuda=True, dataset='rt', debug=0, density=0.2, devices='gpu', dimension=32, dir='../Dataset/mnist', dropout=0.1, epoch=1500, external_dim=64, hidden_dims=[64, 64, 100], input_dim=128, interaction='NeuCF', lamda=1, latent_dim=10, log_interval=100, lr=0.0001, n_classes=10, n_clusters=10, n_jobs=1, node2vec=0, node2vec_batchsize=32, node2vec_dim=128, node2vec_epochs=20, node2vec_length=8, node2vec_walk=15, node2vec_windows=3, num_layers=2, order=2, part_iter=20, part_type=5, path='./datasets/data/WSDREAM/', pre_epoch=1000, pretrain=True, processed=0, random_state=1001, record=0, retrain=0, rounds=1, save_model=1, slice=1, slice_decay=0.001, slice_epochs=100, slice_lr=0.001, slices=20, verbose=10, wd=0.0005)\r\n",
      "2023-02-07 05:44:56  Dataset : rt     interaction : NeuCF\r\n",
      "2023-02-07 05:44:56  Density : 20.00%, slice_epochs : 100, agg_epochs : 12\r\n",
      "2023-02-07 05:44:56  Part_type : 5,    slices : 20,       devices : gpu\r\n",
      "2023-02-07 05:44:56  Slice_lr : 0.004,    Slice_decay : 0.001\r\n",
      "2023-02-07 05:44:56  Agg_lr : 0.001,    Agg_decay : 0.001\r\n",
      "2023-02-07 05:44:56  Aggregation function : att\r\n",
      "\r\n",
      "2023-02-07 05:44:56  Round 1 experiment start!\r\n",
      "2023-02-07 05:44:57  \t原始数据集读取完毕\r\n",
      "2023-02-07 05:44:57  \t图嵌入均衡切割\r\n",
      "10 16 19 19 19 19 19 21 14 18 18 15 15 19 16 20 15 17 14 16 \r\n",
      "2023-02-07 05:44:57  \tNode2Vec 基于用户聚类均衡切割完毕\r\n",
      "2023-02-07 05:44:57  \t分切数据执行完毕\r\n",
      "2023-02-07 05:44:59  \t模型加载完毕\r\n",
      "2023-02-07 05:44:59  \t开始训练聚合模型\r\n",
      "2023-02-07 05:45:07  Epoch  1 : MAE : 0.4420  RMSE : 1.3729  NMAE : 0.4855  MRE : 0.3944  NPRE : 1.6920\r\n",
      "2023-02-07 05:45:15  Epoch  2 : MAE : 0.4074  RMSE : 1.3216  NMAE : 0.4476  MRE : 0.3571  NPRE : 1.2228\r\n",
      "2023-02-07 05:45:22  Epoch  3 : MAE : 0.3877  RMSE : 1.3031  NMAE : 0.4258  MRE : 0.3060  NPRE : 1.2467\r\n",
      "2023-02-07 05:45:30  Epoch  4 : MAE : 0.3795  RMSE : 1.3009  NMAE : 0.4169  MRE : 0.2825  NPRE : 1.2230\r\n",
      "2023-02-07 05:45:38  Epoch  5 : MAE : 0.3742  RMSE : 1.2829  NMAE : 0.4110  MRE : 0.2748  NPRE : 0.9866\r\n",
      "2023-02-07 05:45:46  Epoch  6 : MAE : 0.3718  RMSE : 1.2751  NMAE : 0.4084  MRE : 0.2777  NPRE : 0.9482\r\n",
      "2023-02-07 05:45:53  Epoch  7 : MAE : 0.3633  RMSE : 1.2762  NMAE : 0.3991  MRE : 0.2495  NPRE : 0.9695\r\n",
      "2023-02-07 05:46:01  Epoch  8 : MAE : 0.3618  RMSE : 1.2807  NMAE : 0.3974  MRE : 0.2451  NPRE : 0.9527\r\n",
      "2023-02-07 05:46:08  Epoch  9 : MAE : 0.3613  RMSE : 1.2671  NMAE : 0.3969  MRE : 0.2493  NPRE : 0.9875\r\n",
      "2023-02-07 05:46:16  Epoch 10 : MAE : 0.3596  RMSE : 1.2791  NMAE : 0.3950  MRE : 0.2405  NPRE : 0.9314\r\n",
      "2023-02-07 05:46:24  Epoch 11 : MAE : 0.3559  RMSE : 1.2630  NMAE : 0.3909  MRE : 0.2400  NPRE : 0.8835\r\n",
      "2023-02-07 05:46:31  Epoch 12 : MAE : 0.3536  RMSE : 1.2601  NMAE : 0.3884  MRE : 0.2368  NPRE : 0.9353\r\n",
      "2023-02-07 05:46:31  Best epoch 12 : MAE : 0.3536  RMSE : 1.2601  NMAE : 0.3884  MRE : 0.2368  NPRE : 0.9353\r\n",
      "2023-02-07 05:46:31  \t实验 1 聚合模型训练完毕\r\n",
      "2023-02-07 05:46:33  Result : MAE : 0.3535  RMSE : 1.2601  NMAE : 0.3883  MRE : 0.2366  NPRE : 0.9348\r\n",
      "/home/yxzeng/anaconda3/lib/python3.8/site-packages/numpy/core/fromnumeric.py:3432: RuntimeWarning: Mean of empty slice.\r\n",
      "  return _methods._mean(a, axis=axis, dtype=dtype,\r\n",
      "/home/yxzeng/anaconda3/lib/python3.8/site-packages/numpy/core/_methods.py:190: RuntimeWarning: invalid value encountered in double_scalars\r\n",
      "  ret = ret.dtype.type(ret / rcount)\r\n",
      "2023-02-07 05:46:33  \t实验 1 : Shards training time = nan s\r\n",
      "\r\n",
      "2023-02-07 05:46:33  \t实验 1 : Aggregators training time = 68.86 s\r\n",
      "\r\n",
      "2023-02-07 05:46:33  \t聚合模型训练完毕\r\n",
      "------------------------------------------------------------------------------------------------------------------------\r\n",
      "2023-02-07 05:46:33  Dataset : rt     interaction : NeuCF\r\n",
      "2023-02-07 05:46:33  Density : 20.00%, slice_epochs : 100, agg_epochs : 12\r\n",
      "2023-02-07 05:46:33  Part_type : 5,    slices : 20,       devices : gpu\r\n",
      "\r\n",
      "\r\n",
      "2023-02-07 05:46:33  Density 20.00% : MAE = 0.353, RMSE = 1.260, NMAE = 0.388, MRE = 0.237, NPRE = 0.935\r\n",
      "\r\n",
      "2023-02-07 05:46:33  Experiment success!\r\n",
      "\r\n"
     ]
    }
   ],
   "source": [
    "!python Experiment.py --dataset rt --interaction NeuCF --rounds 1 --slices 5 --agg_epochs 12 --density 0.20 --part_type 5 --slices 20 --record 0"
   ],
   "metadata": {
    "collapsed": false
   }
  },
  {
   "cell_type": "code",
   "execution_count": 18,
   "outputs": [
    {
     "name": "stdout",
     "output_type": "stream",
     "text": [
      "2023-02-07 05:46:35  Experiment start!\r\n",
      "2023-02-07 05:46:35  Namespace(F=1, agg2=0, agg_decay=0.001, agg_epochs=15, agg_function=1, agg_lr=0.001, agg_type='att', att_decay=0.0001, att_lr=0.001, batch_size=128, beta=1, cluster='deep', cuda=True, dataset='rt', debug=0, density=0.2, devices='gpu', dimension=32, dir='../Dataset/mnist', dropout=0.1, epoch=1500, external_dim=64, hidden_dims=[64, 64, 100], input_dim=128, interaction='CSMF', lamda=1, latent_dim=10, log_interval=100, lr=0.0001, n_classes=10, n_clusters=10, n_jobs=1, node2vec=0, node2vec_batchsize=32, node2vec_dim=128, node2vec_epochs=20, node2vec_length=8, node2vec_walk=15, node2vec_windows=3, num_layers=2, order=2, part_iter=20, part_type=5, path='./datasets/data/WSDREAM/', pre_epoch=1000, pretrain=True, processed=0, random_state=1001, record=0, retrain=0, rounds=1, save_model=1, slice=1, slice_decay=0.001, slice_epochs=100, slice_lr=0.001, slices=20, verbose=10, wd=0.0005)\r\n",
      "2023-02-07 05:46:35  Dataset : rt     interaction : CSMF\r\n",
      "2023-02-07 05:46:35  Density : 20.00%, slice_epochs : 100, agg_epochs : 15\r\n",
      "2023-02-07 05:46:35  Part_type : 5,    slices : 20,       devices : gpu\r\n",
      "2023-02-07 05:46:35  Slice_lr : 0.01,    Slice_decay : 0.001\r\n",
      "2023-02-07 05:46:35  Agg_lr : 0.008,    Agg_decay : 0.001\r\n",
      "2023-02-07 05:46:35  Aggregation function : att\r\n",
      "\r\n",
      "2023-02-07 05:46:35  Round 1 experiment start!\r\n",
      "2023-02-07 05:46:35  \t原始数据集读取完毕\r\n",
      "2023-02-07 05:46:35  \t图嵌入均衡切割\r\n",
      "10 16 19 19 19 19 19 21 14 18 18 15 15 19 16 20 15 17 14 16 \r\n",
      "2023-02-07 05:46:35  \tNode2Vec 基于用户聚类均衡切割完毕\r\n",
      "2023-02-07 05:46:35  \t分切数据执行完毕\r\n",
      "2023-02-07 05:46:37  \t模型加载完毕\r\n",
      "2023-02-07 05:46:37  \t开始训练聚合模型\r\n",
      "2023-02-07 05:46:43  Epoch  1 : MAE : 0.5501  RMSE : 1.5784  NMAE : 0.6043  MRE : 0.4482  NPRE : 2.1218\r\n",
      "2023-02-07 05:46:47  Epoch  2 : MAE : 0.5187  RMSE : 1.5059  NMAE : 0.5698  MRE : 0.4336  NPRE : 1.9583\r\n",
      "2023-02-07 05:46:52  Epoch  3 : MAE : 0.4967  RMSE : 1.4518  NMAE : 0.5456  MRE : 0.4293  NPRE : 1.8610\r\n",
      "2023-02-07 05:46:56  Epoch  4 : MAE : 0.4855  RMSE : 1.4359  NMAE : 0.5334  MRE : 0.4186  NPRE : 1.9506\r\n",
      "2023-02-07 05:47:01  Epoch  5 : MAE : 0.4828  RMSE : 1.4313  NMAE : 0.5304  MRE : 0.4148  NPRE : 1.9330\r\n",
      "2023-02-07 05:47:06  Epoch  6 : MAE : 0.4792  RMSE : 1.4150  NMAE : 0.5264  MRE : 0.4185  NPRE : 2.0455\r\n",
      "2023-02-07 05:47:10  Epoch  7 : MAE : 0.4765  RMSE : 1.4207  NMAE : 0.5235  MRE : 0.4120  NPRE : 1.9557\r\n",
      "2023-02-07 05:47:15  Epoch  8 : MAE : 0.4715  RMSE : 1.4148  NMAE : 0.5180  MRE : 0.4113  NPRE : 1.7726\r\n",
      "2023-02-07 05:47:19  Epoch  9 : MAE : 0.4705  RMSE : 1.4068  NMAE : 0.5168  MRE : 0.4097  NPRE : 1.7586\r\n",
      "2023-02-07 05:47:24  Epoch 10 : MAE : 0.4683  RMSE : 1.4089  NMAE : 0.5144  MRE : 0.4058  NPRE : 1.8619\r\n",
      "2023-02-07 05:47:29  Epoch 11 : MAE : 0.4684  RMSE : 1.4053  NMAE : 0.5145  MRE : 0.4044  NPRE : 1.8542\r\n",
      "2023-02-07 05:47:34  Epoch 12 : MAE : 0.4668  RMSE : 1.4085  NMAE : 0.5128  MRE : 0.4043  NPRE : 1.8491\r\n",
      "2023-02-07 05:47:38  Epoch 13 : MAE : 0.4655  RMSE : 1.4104  NMAE : 0.5114  MRE : 0.4018  NPRE : 1.7450\r\n",
      "2023-02-07 05:47:43  Epoch 14 : MAE : 0.4655  RMSE : 1.4052  NMAE : 0.5113  MRE : 0.4041  NPRE : 1.7592\r\n",
      "2023-02-07 05:47:47  Epoch 15 : MAE : 0.4653  RMSE : 1.4114  NMAE : 0.5112  MRE : 0.4022  NPRE : 1.6676\r\n",
      "2023-02-07 05:47:47  Best epoch 15 : MAE : 0.4653  RMSE : 1.4114  NMAE : 0.5112  MRE : 0.4022  NPRE : 1.6676\r\n",
      "2023-02-07 05:47:47  \t实验 1 聚合模型训练完毕\r\n",
      "2023-02-07 05:47:49  Result : MAE : 0.4653  RMSE : 1.4114  NMAE : 0.5112  MRE : 0.4022  NPRE : 1.6676\r\n",
      "/home/yxzeng/anaconda3/lib/python3.8/site-packages/numpy/core/fromnumeric.py:3432: RuntimeWarning: Mean of empty slice.\r\n",
      "  return _methods._mean(a, axis=axis, dtype=dtype,\r\n",
      "/home/yxzeng/anaconda3/lib/python3.8/site-packages/numpy/core/_methods.py:190: RuntimeWarning: invalid value encountered in double_scalars\r\n",
      "  ret = ret.dtype.type(ret / rcount)\r\n",
      "2023-02-07 05:47:49  \t实验 1 : Shards training time = nan s\r\n",
      "\r\n",
      "2023-02-07 05:47:49  \t实验 1 : Aggregators training time = 40.76 s\r\n",
      "\r\n",
      "2023-02-07 05:47:49  \t聚合模型训练完毕\r\n",
      "------------------------------------------------------------------------------------------------------------------------\r\n",
      "2023-02-07 05:47:49  Dataset : rt     interaction : CSMF\r\n",
      "2023-02-07 05:47:49  Density : 20.00%, slice_epochs : 100, agg_epochs : 15\r\n",
      "2023-02-07 05:47:49  Part_type : 5,    slices : 20,       devices : gpu\r\n",
      "\r\n",
      "\r\n",
      "2023-02-07 05:47:49  Density 20.00% : MAE = 0.465, RMSE = 1.411, NMAE = 0.511, MRE = 0.402, NPRE = 1.668\r\n",
      "\r\n",
      "2023-02-07 05:47:49  Experiment success!\r\n",
      "\r\n"
     ]
    }
   ],
   "source": [
    "!python Experiment.py --dataset rt --interaction CSMF --rounds 1 --slices 5 --agg_epochs 15 --density 0.20 --part_type 5 --slices 20 --record 0"
   ],
   "metadata": {
    "collapsed": false
   }
  },
  {
   "cell_type": "code",
   "execution_count": 19,
   "outputs": [
    {
     "name": "stdout",
     "output_type": "stream",
     "text": [
      "2023-02-07 05:47:50  Experiment start!\r\n",
      "2023-02-07 05:47:50  Namespace(F=1, agg2=0, agg_decay=0.001, agg_epochs=15, agg_function=1, agg_lr=0.001, agg_type='att', att_decay=0.0001, att_lr=0.001, batch_size=128, beta=1, cluster='deep', cuda=True, dataset='rt', debug=0, density=0.2, devices='gpu', dimension=32, dir='../Dataset/mnist', dropout=0.1, epoch=1500, external_dim=64, hidden_dims=[64, 64, 100], input_dim=128, interaction='MF', lamda=1, latent_dim=10, log_interval=100, lr=0.0001, n_classes=10, n_clusters=10, n_jobs=1, node2vec=0, node2vec_batchsize=32, node2vec_dim=128, node2vec_epochs=20, node2vec_length=8, node2vec_walk=15, node2vec_windows=3, num_layers=2, order=2, part_iter=20, part_type=5, path='./datasets/data/WSDREAM/', pre_epoch=1000, pretrain=True, processed=0, random_state=1001, record=0, retrain=0, rounds=1, save_model=1, slice=1, slice_decay=0.001, slice_epochs=100, slice_lr=0.001, slices=20, verbose=10, wd=0.0005)\r\n",
      "2023-02-07 05:47:50  Dataset : rt     interaction : MF\r\n",
      "2023-02-07 05:47:50  Density : 20.00%, slice_epochs : 100, agg_epochs : 15\r\n",
      "2023-02-07 05:47:50  Part_type : 5,    slices : 20,       devices : gpu\r\n",
      "2023-02-07 05:47:50  Slice_lr : 0.008,    Slice_decay : 0.001\r\n",
      "2023-02-07 05:47:50  Agg_lr : 0.001,    Agg_decay : 0.001\r\n",
      "2023-02-07 05:47:50  Aggregation function : att\r\n",
      "\r\n",
      "2023-02-07 05:47:50  Round 1 experiment start!\r\n",
      "2023-02-07 05:47:50  \t原始数据集读取完毕\r\n",
      "2023-02-07 05:47:51  \t图嵌入均衡切割\r\n",
      "10 16 19 19 19 19 19 21 14 18 18 15 15 19 16 20 15 17 14 16 \r\n",
      "2023-02-07 05:47:51  \tNode2Vec 基于用户聚类均衡切割完毕\r\n",
      "2023-02-07 05:47:51  \t分切数据执行完毕\r\n",
      "2023-02-07 05:47:53  \t模型加载完毕\r\n",
      "2023-02-07 05:47:53  \t准备训练切片模型\r\n",
      "2023-02-07 05:47:53  \t实验 1 模型 1 开始分片训练\r\n",
      "2023-02-07 05:47:59  Epoch 10 : MAE : 0.6456  RMSE : 1.8507  NMAE : 0.8432  MRE : 0.7288  NPRE : 3.8277\r\n",
      "2023-02-07 05:48:04  Epoch 20 : MAE : 0.6533  RMSE : 1.8200  NMAE : 0.8532  MRE : 0.8054  NPRE : 4.5028\r\n",
      "2023-02-07 05:48:09  Epoch 30 : MAE : 0.6361  RMSE : 1.7713  NMAE : 0.8307  MRE : 0.8139  NPRE : 3.7111\r\n",
      "2023-02-07 05:48:12  Best epoch 24 : MAE : 0.6234  RMSE : 1.8043  NMAE : 0.8141  MRE : 0.7424  NPRE : 3.5406\r\n",
      "2023-02-07 05:48:12  实验 1 模型 1 training time = 2.79 s\r\n",
      "2023-02-07 05:48:12  Slice ID  1 : MAE = 0.6234, RMSE = 1.8043, NMAE = 0.8141, MRE = 0.7424, NPRE = 3.5406\r\n",
      "\r\n",
      "2023-02-07 05:48:12  \t实验 1 模型 2 开始分片训练\r\n",
      "2023-02-07 05:48:18  Epoch 10 : MAE : 0.8951  RMSE : 2.3085  NMAE : 0.8858  MRE : 0.7999  NPRE : 3.9943\r\n",
      "2023-02-07 05:48:25  Epoch 20 : MAE : 0.8685  RMSE : 2.1816  NMAE : 0.8594  MRE : 0.8495  NPRE : 4.4769\r\n",
      "2023-02-07 05:48:31  Epoch 30 : MAE : 0.8877  RMSE : 2.1188  NMAE : 0.8785  MRE : 0.9386  NPRE : 5.0346\r\n",
      "2023-02-07 05:48:32  Best epoch 22 : MAE : 0.8607  RMSE : 2.1657  NMAE : 0.8517  MRE : 0.8414  NPRE : 3.9882\r\n",
      "2023-02-07 05:48:32  实验 1 模型 2 training time = 3.91 s\r\n",
      "2023-02-07 05:48:32  Slice ID  2 : MAE = 0.8607, RMSE = 2.1657, NMAE = 0.8517, MRE = 0.8414, NPRE = 3.9882\r\n",
      "\r\n",
      "2023-02-07 05:48:32  \t实验 1 模型 3 开始分片训练\r\n",
      "2023-02-07 05:48:40  Epoch 10 : MAE : 0.7976  RMSE : 2.1250  NMAE : 0.8520  MRE : 0.7053  NPRE : 3.1811\r\n",
      "2023-02-07 05:48:47  Epoch 20 : MAE : 0.7277  RMSE : 1.9583  NMAE : 0.7773  MRE : 0.6845  NPRE : 3.3136\r\n",
      "2023-02-07 05:48:54  Epoch 30 : MAE : 0.6995  RMSE : 1.8568  NMAE : 0.7473  MRE : 0.6926  NPRE : 2.8933\r\n",
      "2023-02-07 05:49:01  Best epoch 29 : MAE : 0.6935  RMSE : 1.8792  NMAE : 0.7408  MRE : 0.6530  NPRE : 2.5785\r\n",
      "2023-02-07 05:49:01  实验 1 模型 3 training time = 6.02 s\r\n",
      "2023-02-07 05:49:01  Slice ID  3 : MAE = 0.6935, RMSE = 1.8792, NMAE = 0.7408, MRE = 0.6530, NPRE = 2.5785\r\n",
      "\r\n",
      "2023-02-07 05:49:01  \t实验 1 模型 4 开始分片训练\r\n",
      "2023-02-07 05:49:08  Epoch 10 : MAE : 0.7133  RMSE : 1.8851  NMAE : 0.8285  MRE : 0.7298  NPRE : 3.4907\r\n",
      "2023-02-07 05:49:15  Epoch 20 : MAE : 0.6427  RMSE : 1.7507  NMAE : 0.7466  MRE : 0.6847  NPRE : 3.2057\r\n",
      "2023-02-07 05:49:23  Epoch 30 : MAE : 0.6379  RMSE : 1.6653  NMAE : 0.7410  MRE : 0.7039  NPRE : 2.9974\r\n",
      "2023-02-07 05:49:27  Best epoch 26 : MAE : 0.6275  RMSE : 1.7001  NMAE : 0.7289  MRE : 0.6653  NPRE : 2.4752\r\n",
      "2023-02-07 05:49:27  实验 1 模型 4 training time = 5.61 s\r\n",
      "2023-02-07 05:49:27  Slice ID  4 : MAE = 0.6275, RMSE = 1.7001, NMAE = 0.7289, MRE = 0.6653, NPRE = 2.4752\r\n",
      "\r\n",
      "2023-02-07 05:49:27  \t实验 1 模型 5 开始分片训练\r\n",
      "2023-02-07 05:49:34  Epoch 10 : MAE : 0.8300  RMSE : 2.3448  NMAE : 0.8655  MRE : 0.7323  NPRE : 3.5024\r\n",
      "2023-02-07 05:49:42  Epoch 20 : MAE : 0.7635  RMSE : 2.1857  NMAE : 0.7961  MRE : 0.6830  NPRE : 2.5475\r\n",
      "2023-02-07 05:49:49  Epoch 30 : MAE : 0.7710  RMSE : 2.1326  NMAE : 0.8039  MRE : 0.7206  NPRE : 3.3760\r\n",
      "2023-02-07 05:49:54  Best epoch 26 : MAE : 0.7541  RMSE : 2.1459  NMAE : 0.7862  MRE : 0.6608  NPRE : 2.9559\r\n",
      "2023-02-07 05:49:54  实验 1 模型 5 training time = 5.61 s\r\n",
      "2023-02-07 05:49:54  Slice ID  5 : MAE = 0.7541, RMSE = 2.1459, NMAE = 0.7862, MRE = 0.6608, NPRE = 2.9559\r\n",
      "\r\n",
      "2023-02-07 05:49:54  \t实验 1 模型 6 开始分片训练\r\n",
      "2023-02-07 05:50:01  Epoch 10 : MAE : 0.8701  RMSE : 2.1475  NMAE : 0.8510  MRE : 0.7904  NPRE : 4.5190\r\n",
      "2023-02-07 05:50:08  Epoch 20 : MAE : 0.7275  RMSE : 1.8782  NMAE : 0.7115  MRE : 0.6524  NPRE : 2.8901\r\n",
      "2023-02-07 05:50:16  Epoch 30 : MAE : 0.7166  RMSE : 1.8083  NMAE : 0.7009  MRE : 0.7069  NPRE : 2.3031\r\n",
      "2023-02-07 05:50:22  Best epoch 29 : MAE : 0.7087  RMSE : 1.8202  NMAE : 0.6931  MRE : 0.6551  NPRE : 2.2603\r\n",
      "2023-02-07 05:50:22  实验 1 模型 6 training time = 6.44 s\r\n",
      "2023-02-07 05:50:22  Slice ID  6 : MAE = 0.7087, RMSE = 1.8202, NMAE = 0.6931, MRE = 0.6551, NPRE = 2.2603\r\n",
      "\r\n",
      "2023-02-07 05:50:22  \t实验 1 模型 7 开始分片训练\r\n",
      "2023-02-07 05:50:30  Epoch 10 : MAE : 0.7172  RMSE : 1.9165  NMAE : 0.8304  MRE : 0.7076  NPRE : 3.3140\r\n",
      "2023-02-07 05:50:37  Epoch 20 : MAE : 0.6348  RMSE : 1.7531  NMAE : 0.7350  MRE : 0.6213  NPRE : 2.5443\r\n",
      "2023-02-07 05:50:44  Epoch 30 : MAE : 0.6114  RMSE : 1.6284  NMAE : 0.7079  MRE : 0.6400  NPRE : 2.6171\r\n",
      "2023-02-07 05:50:51  Epoch 40 : MAE : 0.6180  RMSE : 1.5270  NMAE : 0.7156  MRE : 0.7239  NPRE : 3.0032\r\n",
      "2023-02-07 05:50:54  Best epoch 34 : MAE : 0.6080  RMSE : 1.5887  NMAE : 0.7039  MRE : 0.6572  NPRE : 2.5618\r\n",
      "2023-02-07 05:50:54  实验 1 模型 7 training time = 7.37 s\r\n",
      "2023-02-07 05:50:54  Slice ID  7 : MAE = 0.6080, RMSE = 1.5887, NMAE = 0.7039, MRE = 0.6572, NPRE = 2.5618\r\n",
      "\r\n",
      "2023-02-07 05:50:54  \t实验 1 模型 8 开始分片训练\r\n",
      "2023-02-07 05:51:02  Epoch 10 : MAE : 0.5994  RMSE : 1.7848  NMAE : 0.8538  MRE : 0.7372  NPRE : 3.6002\r\n",
      "2023-02-07 05:51:09  Epoch 20 : MAE : 0.4743  RMSE : 1.6591  NMAE : 0.6755  MRE : 0.4691  NPRE : 1.3732\r\n",
      "2023-02-07 05:51:17  Epoch 30 : MAE : 0.4566  RMSE : 1.5210  NMAE : 0.6504  MRE : 0.4914  NPRE : 1.8893\r\n",
      "2023-02-07 05:51:24  Epoch 40 : MAE : 0.4701  RMSE : 1.4381  NMAE : 0.6696  MRE : 0.6153  NPRE : 2.3356\r\n",
      "2023-02-07 05:51:25  Best epoch 31 : MAE : 0.4549  RMSE : 1.5282  NMAE : 0.6480  MRE : 0.4807  NPRE : 1.9052\r\n",
      "2023-02-07 05:51:25  实验 1 模型 8 training time = 7.19 s\r\n",
      "2023-02-07 05:51:25  Slice ID  8 : MAE = 0.4549, RMSE = 1.5282, NMAE = 0.6480, MRE = 0.4807, NPRE = 1.9052\r\n",
      "\r\n",
      "2023-02-07 05:51:25  \t实验 1 模型 9 开始分片训练\r\n",
      "2023-02-07 05:51:31  Epoch 10 : MAE : 0.8597  RMSE : 2.0600  NMAE : 0.8733  MRE : 0.8172  NPRE : 4.7394\r\n",
      "2023-02-07 05:51:38  Epoch 20 : MAE : 0.8263  RMSE : 1.9738  NMAE : 0.8394  MRE : 0.7985  NPRE : 4.7239\r\n",
      "2023-02-07 05:51:44  Epoch 30 : MAE : 0.7836  RMSE : 1.9363  NMAE : 0.7960  MRE : 0.7692  NPRE : 3.1085\r\n",
      "2023-02-07 05:51:48  Best epoch 27 : MAE : 0.7758  RMSE : 1.9450  NMAE : 0.7881  MRE : 0.7468  NPRE : 2.8572\r\n",
      "2023-02-07 05:51:48  实验 1 模型 9 training time = 4.39 s\r\n",
      "2023-02-07 05:51:48  Slice ID  9 : MAE = 0.7758, RMSE = 1.9450, NMAE = 0.7881, MRE = 0.7468, NPRE = 2.8572\r\n",
      "\r\n",
      "2023-02-07 05:51:48  \t实验 1 模型 10 开始分片训练\r\n",
      "2023-02-07 05:51:55  Epoch 10 : MAE : 0.8877  RMSE : 2.1767  NMAE : 0.8808  MRE : 0.8119  NPRE : 3.5741\r\n",
      "2023-02-07 05:52:02  Epoch 20 : MAE : 0.7245  RMSE : 1.9013  NMAE : 0.7188  MRE : 0.6650  NPRE : 2.6448\r\n",
      "2023-02-07 05:52:10  Epoch 30 : MAE : 0.7214  RMSE : 1.8224  NMAE : 0.7158  MRE : 0.6966  NPRE : 2.9967\r\n",
      "2023-02-07 05:52:13  Best epoch 25 : MAE : 0.7141  RMSE : 1.8540  NMAE : 0.7085  MRE : 0.6623  NPRE : 2.8238\r\n",
      "2023-02-07 05:52:13  实验 1 模型 10 training time = 5.13 s\r\n",
      "2023-02-07 05:52:13  Slice ID  10 : MAE = 0.7141, RMSE = 1.8540, NMAE = 0.7085, MRE = 0.6623, NPRE = 2.8238\r\n",
      "\r\n",
      "2023-02-07 05:52:13  \t实验 1 模型 11 开始分片训练\r\n",
      "2023-02-07 05:52:20  Epoch 10 : MAE : 0.8519  RMSE : 2.1330  NMAE : 0.8699  MRE : 0.7702  NPRE : 4.0013\r\n",
      "2023-02-07 05:52:28  Epoch 20 : MAE : 0.7226  RMSE : 1.9036  NMAE : 0.7378  MRE : 0.6643  NPRE : 3.1688\r\n",
      "2023-02-07 05:52:35  Epoch 30 : MAE : 0.7063  RMSE : 1.8208  NMAE : 0.7212  MRE : 0.6903  NPRE : 3.2282\r\n",
      "2023-02-07 05:52:41  Best epoch 29 : MAE : 0.6977  RMSE : 1.8341  NMAE : 0.7125  MRE : 0.6680  NPRE : 2.6689\r\n",
      "2023-02-07 05:52:41  实验 1 模型 11 training time = 5.74 s\r\n",
      "2023-02-07 05:52:41  Slice ID  11 : MAE = 0.6977, RMSE = 1.8341, NMAE = 0.7125, MRE = 0.6680, NPRE = 2.6689\r\n",
      "\r\n",
      "2023-02-07 05:52:41  \t实验 1 模型 12 开始分片训练\r\n",
      "2023-02-07 05:52:47  Epoch 10 : MAE : 0.7308  RMSE : 1.9710  NMAE : 0.8669  MRE : 0.7654  NPRE : 4.5749\r\n",
      "2023-02-07 05:52:54  Epoch 20 : MAE : 0.6574  RMSE : 1.8430  NMAE : 0.7798  MRE : 0.6858  NPRE : 2.9216\r\n",
      "2023-02-07 05:53:00  Epoch 30 : MAE : 0.6515  RMSE : 1.7793  NMAE : 0.7728  MRE : 0.6999  NPRE : 3.5027\r\n",
      "2023-02-07 05:53:05  Best epoch 28 : MAE : 0.6479  RMSE : 1.7981  NMAE : 0.7685  MRE : 0.6785  NPRE : 3.0954\r\n",
      "2023-02-07 05:53:05  实验 1 模型 12 training time = 4.73 s\r\n",
      "2023-02-07 05:53:05  Slice ID  12 : MAE = 0.6479, RMSE = 1.7981, NMAE = 0.7685, MRE = 0.6785, NPRE = 3.0954\r\n",
      "\r\n",
      "2023-02-07 05:53:05  \t实验 1 模型 13 开始分片训练\r\n",
      "2023-02-07 05:53:12  Epoch 10 : MAE : 1.1271  RMSE : 2.6271  NMAE : 0.8925  MRE : 0.7855  NPRE : 3.1722\r\n",
      "2023-02-07 05:53:17  Best epoch  9 : MAE : 1.1212  RMSE : 2.6048  NMAE : 0.8878  MRE : 0.7988  NPRE : 3.8343\r\n",
      "2023-02-07 05:53:17  实验 1 模型 13 training time = 1.52 s\r\n",
      "2023-02-07 05:53:17  Slice ID  13 : MAE = 1.1212, RMSE = 2.6048, NMAE = 0.8878, MRE = 0.7988, NPRE = 3.8343\r\n",
      "\r\n",
      "2023-02-07 05:53:17  \t实验 1 模型 14 开始分片训练\r\n",
      "2023-02-07 05:53:25  Epoch 10 : MAE : 0.6399  RMSE : 1.8293  NMAE : 0.8240  MRE : 0.7075  NPRE : 3.4916\r\n",
      "2023-02-07 05:53:32  Epoch 20 : MAE : 0.5543  RMSE : 1.7057  NMAE : 0.7137  MRE : 0.5972  NPRE : 2.1334\r\n",
      "2023-02-07 05:53:39  Epoch 30 : MAE : 0.5644  RMSE : 1.6033  NMAE : 0.7267  MRE : 0.6845  NPRE : 2.5341\r\n",
      "2023-02-07 05:53:40  Best epoch 21 : MAE : 0.5516  RMSE : 1.7078  NMAE : 0.7102  MRE : 0.5842  NPRE : 1.8979\r\n",
      "2023-02-07 05:53:40  实验 1 模型 14 training time = 4.57 s\r\n",
      "2023-02-07 05:53:40  Slice ID  14 : MAE = 0.5516, RMSE = 1.7078, NMAE = 0.7102, MRE = 0.5842, NPRE = 1.8979\r\n",
      "\r\n",
      "2023-02-07 05:53:40  \t实验 1 模型 15 开始分片训练\r\n",
      "2023-02-07 05:53:47  Epoch 10 : MAE : 1.2570  RMSE : 2.6472  NMAE : 0.9094  MRE : 0.8805  NPRE : 3.5114\r\n",
      "2023-02-07 05:53:53  Epoch 20 : MAE : 1.1271  RMSE : 2.3466  NMAE : 0.8154  MRE : 0.8661  NPRE : 4.9347\r\n",
      "2023-02-07 05:54:00  Epoch 30 : MAE : 1.0904  RMSE : 2.2751  NMAE : 0.7889  MRE : 0.8615  NPRE : 4.5619\r\n",
      "2023-02-07 05:54:06  Epoch 40 : MAE : 1.1067  RMSE : 2.2449  NMAE : 0.8006  MRE : 0.9237  NPRE : 5.4130\r\n",
      "2023-02-07 05:54:08  Best epoch 33 : MAE : 1.0881  RMSE : 2.2597  NMAE : 0.7872  MRE : 0.8569  NPRE : 4.8220\r\n",
      "2023-02-07 05:54:08  实验 1 模型 15 training time = 6.03 s\r\n",
      "2023-02-07 05:54:08  Slice ID  15 : MAE = 1.0881, RMSE = 2.2597, NMAE = 0.7872, MRE = 0.8569, NPRE = 4.8220\r\n",
      "\r\n",
      "2023-02-07 05:54:08  \t实验 1 模型 16 开始分片训练\r\n",
      "2023-02-07 05:54:16  Epoch 10 : MAE : 0.6792  RMSE : 1.8606  NMAE : 0.8381  MRE : 0.7273  NPRE : 3.9397\r\n",
      "2023-02-07 05:54:23  Epoch 20 : MAE : 0.6068  RMSE : 1.6967  NMAE : 0.7488  MRE : 0.6844  NPRE : 2.6360\r\n",
      "2023-02-07 05:54:31  Epoch 30 : MAE : 0.6045  RMSE : 1.6005  NMAE : 0.7459  MRE : 0.7154  NPRE : 2.6536\r\n",
      "2023-02-07 05:54:37  Best epoch 29 : MAE : 0.6006  RMSE : 1.6106  NMAE : 0.7411  MRE : 0.6957  NPRE : 2.7248\r\n",
      "2023-02-07 05:54:37  实验 1 模型 16 training time = 6.55 s\r\n",
      "2023-02-07 05:54:37  Slice ID  16 : MAE = 0.6006, RMSE = 1.6106, NMAE = 0.7411, MRE = 0.6957, NPRE = 2.7248\r\n",
      "\r\n",
      "2023-02-07 05:54:37  \t实验 1 模型 17 开始分片训练\r\n",
      "2023-02-07 05:54:44  Epoch 10 : MAE : 0.6723  RMSE : 1.8572  NMAE : 0.8668  MRE : 0.7983  NPRE : 3.6891\r\n",
      "2023-02-07 05:54:50  Epoch 20 : MAE : 0.6037  RMSE : 1.8087  NMAE : 0.7783  MRE : 0.6621  NPRE : 1.8521\r\n",
      "2023-02-07 05:54:56  Epoch 30 : MAE : 0.5847  RMSE : 1.7031  NMAE : 0.7538  MRE : 0.6751  NPRE : 2.2342\r\n",
      "2023-02-07 05:55:00  Best epoch 26 : MAE : 0.5808  RMSE : 1.7376  NMAE : 0.7488  MRE : 0.6333  NPRE : 2.2297\r\n",
      "2023-02-07 05:55:00  实验 1 模型 17 training time = 4.24 s\r\n",
      "2023-02-07 05:55:00  Slice ID  17 : MAE = 0.5808, RMSE = 1.7376, NMAE = 0.7488, MRE = 0.6333, NPRE = 2.2297\r\n",
      "\r\n",
      "2023-02-07 05:55:00  \t实验 1 模型 18 开始分片训练\r\n",
      "2023-02-07 05:55:07  Epoch 10 : MAE : 0.6950  RMSE : 1.8955  NMAE : 0.8339  MRE : 0.7191  NPRE : 3.6643\r\n",
      "2023-02-07 05:55:14  Epoch 20 : MAE : 0.6409  RMSE : 1.7798  NMAE : 0.7690  MRE : 0.7005  NPRE : 3.2541\r\n",
      "2023-02-07 05:55:21  Epoch 30 : MAE : 0.6438  RMSE : 1.6768  NMAE : 0.7724  MRE : 0.7700  NPRE : 3.2835\r\n",
      "2023-02-07 05:55:27  Best epoch 29 : MAE : 0.6362  RMSE : 1.6901  NMAE : 0.7634  MRE : 0.7353  NPRE : 3.2362\r\n",
      "2023-02-07 05:55:27  实验 1 模型 18 training time = 5.65 s\r\n",
      "2023-02-07 05:55:27  Slice ID  18 : MAE = 0.6362, RMSE = 1.6901, NMAE = 0.7634, MRE = 0.7353, NPRE = 3.2362\r\n",
      "\r\n",
      "2023-02-07 05:55:27  \t实验 1 模型 19 开始分片训练\r\n",
      "2023-02-07 05:55:33  Epoch 10 : MAE : 0.5610  RMSE : 1.6580  NMAE : 0.7903  MRE : 0.6546  NPRE : 3.5991\r\n",
      "2023-02-07 05:55:39  Epoch 20 : MAE : 0.5474  RMSE : 1.6096  NMAE : 0.7712  MRE : 0.6839  NPRE : 3.8678\r\n",
      "2023-02-07 05:55:46  Epoch 30 : MAE : 0.5211  RMSE : 1.5222  NMAE : 0.7341  MRE : 0.6989  NPRE : 2.9502\r\n",
      "2023-02-07 05:55:51  Epoch 40 : MAE : 0.5329  RMSE : 1.4497  NMAE : 0.7507  MRE : 0.7690  NPRE : 3.2828\r\n",
      "2023-02-07 05:55:53  Best epoch 32 : MAE : 0.5156  RMSE : 1.5123  NMAE : 0.7263  MRE : 0.6859  NPRE : 2.8808\r\n",
      "2023-02-07 05:55:53  实验 1 模型 19 training time = 5.15 s\r\n",
      "2023-02-07 05:55:53  Slice ID  19 : MAE = 0.5156, RMSE = 1.5123, NMAE = 0.7263, MRE = 0.6859, NPRE = 2.8808\r\n",
      "\r\n",
      "2023-02-07 05:55:53  \t实验 1 模型 20 开始分片训练\r\n",
      "2023-02-07 05:55:59  Epoch 10 : MAE : 0.6227  RMSE : 1.7416  NMAE : 0.8422  MRE : 0.7308  NPRE : 3.0943\r\n",
      "2023-02-07 05:56:06  Epoch 20 : MAE : 0.5515  RMSE : 1.6314  NMAE : 0.7459  MRE : 0.6705  NPRE : 2.6855\r\n",
      "2023-02-07 05:56:12  Epoch 30 : MAE : 0.5505  RMSE : 1.5436  NMAE : 0.7446  MRE : 0.6944  NPRE : 3.1140\r\n",
      "2023-02-07 05:56:15  Best epoch 24 : MAE : 0.5377  RMSE : 1.5946  NMAE : 0.7273  MRE : 0.6462  NPRE : 2.6187\r\n",
      "2023-02-07 05:56:15  实验 1 模型 20 training time = 4.19 s\r\n",
      "2023-02-07 05:56:15  Slice ID  20 : MAE = 0.5377, RMSE = 1.5946, NMAE = 0.7273, MRE = 0.6462, NPRE = 2.6187\r\n",
      "\r\n",
      "2023-02-07 05:56:15  \t所有切片模型训练完毕\r\n",
      "2023-02-07 05:56:15  \t开始训练聚合模型\r\n",
      "2023-02-07 05:56:19  Epoch  1 : MAE : 0.7478  RMSE : 2.0472  NMAE : 0.8215  MRE : 0.6626  NPRE : 3.1734\r\n",
      "2023-02-07 05:56:24  Epoch  2 : MAE : 0.7283  RMSE : 2.0169  NMAE : 0.8001  MRE : 0.6376  NPRE : 2.9570\r\n",
      "2023-02-07 05:56:28  Epoch  3 : MAE : 0.7126  RMSE : 1.9819  NMAE : 0.7828  MRE : 0.6218  NPRE : 2.8783\r\n",
      "2023-02-07 05:56:32  Epoch  4 : MAE : 0.7055  RMSE : 1.9612  NMAE : 0.7750  MRE : 0.6166  NPRE : 2.8310\r\n",
      "2023-02-07 05:56:37  Epoch  5 : MAE : 0.6994  RMSE : 1.9383  NMAE : 0.7683  MRE : 0.6133  NPRE : 2.8366\r\n",
      "2023-02-07 05:56:41  Epoch  6 : MAE : 0.6918  RMSE : 1.9158  NMAE : 0.7600  MRE : 0.5990  NPRE : 2.6213\r\n",
      "2023-02-07 05:56:46  Epoch  7 : MAE : 0.6908  RMSE : 1.9064  NMAE : 0.7589  MRE : 0.6059  NPRE : 2.7559\r\n",
      "2023-02-07 05:56:50  Epoch  8 : MAE : 0.6863  RMSE : 1.8992  NMAE : 0.7539  MRE : 0.5989  NPRE : 2.6413\r\n",
      "2023-02-07 05:56:54  Epoch  9 : MAE : 0.6834  RMSE : 1.8845  NMAE : 0.7508  MRE : 0.6061  NPRE : 2.7928\r\n",
      "2023-02-07 05:56:59  Epoch 10 : MAE : 0.6831  RMSE : 1.8841  NMAE : 0.7504  MRE : 0.6091  NPRE : 2.8414\r\n",
      "2023-02-07 05:57:03  Epoch 11 : MAE : 0.6853  RMSE : 1.8841  NMAE : 0.7528  MRE : 0.6173  NPRE : 2.9397\r\n",
      "2023-02-07 05:57:07  Epoch 12 : MAE : 0.6835  RMSE : 1.8818  NMAE : 0.7509  MRE : 0.6154  NPRE : 2.8359\r\n",
      "2023-02-07 05:57:12  Epoch 13 : MAE : 0.6828  RMSE : 1.8862  NMAE : 0.7501  MRE : 0.5993  NPRE : 2.6584\r\n",
      "2023-02-07 05:57:16  Epoch 14 : MAE : 0.6842  RMSE : 1.8812  NMAE : 0.7516  MRE : 0.6229  NPRE : 2.9043\r\n",
      "2023-02-07 05:57:20  Epoch 15 : MAE : 0.6823  RMSE : 1.8796  NMAE : 0.7495  MRE : 0.6135  NPRE : 2.7477\r\n",
      "2023-02-07 05:57:20  Best epoch 15 : MAE : 0.6823  RMSE : 1.8796  NMAE : 0.7495  MRE : 0.6135  NPRE : 2.7477\r\n",
      "2023-02-07 05:57:20  \t实验 1 聚合模型训练完毕\r\n",
      "2023-02-07 05:57:22  Result : MAE : 0.6823  RMSE : 1.8796  NMAE : 0.7495  MRE : 0.6135  NPRE : 2.7477\r\n",
      "2023-02-07 05:57:22  \t实验 1 : Shards training time = 5.14 s\r\n",
      "\r\n",
      "2023-02-07 05:57:22  \t实验 1 : Aggregators training time = 36.84 s\r\n",
      "\r\n",
      "2023-02-07 05:57:22  \t聚合模型训练完毕\r\n",
      "------------------------------------------------------------------------------------------------------------------------\r\n",
      "2023-02-07 05:57:22  Dataset : rt     interaction : MF\r\n",
      "2023-02-07 05:57:22  Density : 20.00%, slice_epochs : 100, agg_epochs : 15\r\n",
      "2023-02-07 05:57:22  Part_type : 5,    slices : 20,       devices : gpu\r\n",
      "\r\n",
      "\r\n",
      "2023-02-07 05:57:22  Density 20.00% : MAE = 0.682, RMSE = 1.880, NMAE = 0.750, MRE = 0.613, NPRE = 2.748\r\n",
      "\r\n",
      "2023-02-07 05:57:22  Experiment success!\r\n",
      "\r\n"
     ]
    }
   ],
   "source": [
    "!python Experiment.py --dataset rt --interaction MF --rounds 1 --slices 5 --agg_epochs 15 --density 0.20 --part_type 5 --slices 20 --record 0"
   ],
   "metadata": {
    "collapsed": false
   }
  },
  {
   "cell_type": "code",
   "execution_count": 20,
   "outputs": [
    {
     "name": "stdout",
     "output_type": "stream",
     "text": [
      "2023-02-07 05:57:23  Experiment start!\r\n",
      "2023-02-07 05:57:23  Namespace(F=1, agg2=0, agg_decay=0.001, agg_epochs=12, agg_function=1, agg_lr=0.001, agg_type='att', att_decay=0.0001, att_lr=0.001, batch_size=128, beta=1, cluster='deep', cuda=True, dataset='rt', debug=0, density=0.2, devices='gpu', dimension=32, dir='../Dataset/mnist', dropout=0.1, epoch=1500, external_dim=64, hidden_dims=[64, 64, 100], input_dim=128, interaction='GraphMF', lamda=1, latent_dim=10, log_interval=100, lr=0.0001, n_classes=10, n_clusters=10, n_jobs=1, node2vec=0, node2vec_batchsize=32, node2vec_dim=128, node2vec_epochs=20, node2vec_length=8, node2vec_walk=15, node2vec_windows=3, num_layers=2, order=2, part_iter=20, part_type=5, path='./datasets/data/WSDREAM/', pre_epoch=1000, pretrain=True, processed=0, random_state=1001, record=0, retrain=0, rounds=1, save_model=1, slice=1, slice_decay=0.001, slice_epochs=100, slice_lr=0.001, slices=20, verbose=10, wd=0.0005)\r\n",
      "2023-02-07 05:57:23  Dataset : rt     interaction : GraphMF\r\n",
      "2023-02-07 05:57:23  Density : 20.00%, slice_epochs : 15, agg_epochs : 12\r\n",
      "2023-02-07 05:57:23  Part_type : 5,    slices : 20,       devices : gpu\r\n",
      "2023-02-07 05:57:23  Slice_lr : 0.01,    Slice_decay : 0.001\r\n",
      "2023-02-07 05:57:23  Agg_lr : 0.001,    Agg_decay : 0.001\r\n",
      "2023-02-07 05:57:23  Aggregation function : att\r\n",
      "\r\n",
      "2023-02-07 05:57:23  Round 1 experiment start!\r\n",
      "2023-02-07 05:57:23  \t原始数据集读取完毕\r\n",
      "2023-02-07 05:57:24  \t图嵌入均衡切割\r\n",
      "10 16 19 19 19 19 19 21 14 18 18 15 15 19 16 20 15 17 14 16 \r\n",
      "2023-02-07 05:57:24  \tNode2Vec 基于用户聚类均衡切割完毕\r\n",
      "2023-02-07 05:57:24  \t分切数据执行完毕\r\n",
      "2023-02-07 05:57:24  \tNeuGraphMF建图中\r\n",
      "2023-02-07 05:57:28  \tNeuGraphMF建图完毕\r\n",
      "2023-02-07 05:57:30  \t模型加载完毕\r\n",
      "2023-02-07 05:57:30  \t开始训练聚合模型\r\n",
      "2023-02-07 05:57:34  Epoch  1 : MAE : 0.5734  RMSE : 1.6375  NMAE : 0.6298  MRE : 0.4413  NPRE : 2.2245\r\n",
      "2023-02-07 05:57:39  Epoch  2 : MAE : 0.5600  RMSE : 1.5739  NMAE : 0.6151  MRE : 0.4364  NPRE : 2.3948\r\n",
      "2023-02-07 05:57:43  Epoch  3 : MAE : 0.5186  RMSE : 1.4842  NMAE : 0.5696  MRE : 0.4046  NPRE : 2.3012\r\n",
      "2023-02-07 05:57:48  Epoch  4 : MAE : 0.4237  RMSE : 1.3313  NMAE : 0.4654  MRE : 0.3463  NPRE : 1.7984\r\n",
      "2023-02-07 05:57:53  Epoch  5 : MAE : 0.4023  RMSE : 1.3148  NMAE : 0.4420  MRE : 0.3185  NPRE : 1.6904\r\n",
      "2023-02-07 05:57:57  Epoch  6 : MAE : 0.3924  RMSE : 1.3133  NMAE : 0.4311  MRE : 0.3009  NPRE : 1.2913\r\n",
      "2023-02-07 05:58:01  Epoch  7 : MAE : 0.3866  RMSE : 1.3140  NMAE : 0.4246  MRE : 0.2853  NPRE : 1.2057\r\n",
      "2023-02-07 05:58:06  Epoch  8 : MAE : 0.3856  RMSE : 1.3201  NMAE : 0.4236  MRE : 0.2736  NPRE : 1.1006\r\n",
      "2023-02-07 05:58:10  Epoch  9 : MAE : 0.3776  RMSE : 1.2931  NMAE : 0.4148  MRE : 0.2670  NPRE : 1.2516\r\n",
      "2023-02-07 05:58:15  Epoch 10 : MAE : 0.3736  RMSE : 1.3020  NMAE : 0.4104  MRE : 0.2527  NPRE : 1.0344\r\n",
      "2023-02-07 05:58:19  Epoch 11 : MAE : 0.3717  RMSE : 1.2890  NMAE : 0.4083  MRE : 0.2487  NPRE : 1.0691\r\n",
      "2023-02-07 05:58:24  Epoch 12 : MAE : 0.3702  RMSE : 1.2919  NMAE : 0.4067  MRE : 0.2460  NPRE : 0.9882\r\n",
      "2023-02-07 05:58:24  Best epoch 12 : MAE : 0.3702  RMSE : 1.2919  NMAE : 0.4067  MRE : 0.2460  NPRE : 0.9882\r\n",
      "2023-02-07 05:58:24  \t实验 1 聚合模型训练完毕\r\n",
      "2023-02-07 05:58:26  Result : MAE : 0.3702  RMSE : 1.2919  NMAE : 0.4067  MRE : 0.2460  NPRE : 0.9882\r\n",
      "/home/yxzeng/anaconda3/lib/python3.8/site-packages/numpy/core/fromnumeric.py:3432: RuntimeWarning: Mean of empty slice.\r\n",
      "  return _methods._mean(a, axis=axis, dtype=dtype,\r\n",
      "/home/yxzeng/anaconda3/lib/python3.8/site-packages/numpy/core/_methods.py:190: RuntimeWarning: invalid value encountered in double_scalars\r\n",
      "  ret = ret.dtype.type(ret / rcount)\r\n",
      "2023-02-07 05:58:26  \t实验 1 : Shards training time = nan s\r\n",
      "\r\n",
      "2023-02-07 05:58:26  \t实验 1 : Aggregators training time = 30.74 s\r\n",
      "\r\n",
      "2023-02-07 05:58:26  \t聚合模型训练完毕\r\n",
      "------------------------------------------------------------------------------------------------------------------------\r\n",
      "2023-02-07 05:58:26  Dataset : rt     interaction : GraphMF\r\n",
      "2023-02-07 05:58:26  Density : 20.00%, slice_epochs : 15, agg_epochs : 12\r\n",
      "2023-02-07 05:58:26  Part_type : 5,    slices : 20,       devices : gpu\r\n",
      "\r\n",
      "\r\n",
      "2023-02-07 05:58:26  Density 20.00% : MAE = 0.370, RMSE = 1.292, NMAE = 0.407, MRE = 0.246, NPRE = 0.988\r\n",
      "\r\n",
      "2023-02-07 05:58:26  Experiment success!\r\n",
      "\r\n"
     ]
    }
   ],
   "source": [
    "!python Experiment.py --dataset rt --interaction GraphMF --rounds 1 --slices 5 --agg_epochs 12 --density 0.20 --part_type 5 --slices 20 --record 0"
   ],
   "metadata": {
    "collapsed": false
   }
  },
  {
   "cell_type": "code",
   "execution_count": 21,
   "outputs": [
    {
     "name": "stdout",
     "output_type": "stream",
     "text": [
      "2023-02-07 05:58:27  Experiment start!\r\n",
      "2023-02-07 05:58:27  Namespace(F=1, agg2=0, agg_decay=0.001, agg_epochs=15, agg_function=1, agg_lr=0.001, agg_type='att', att_decay=0.0001, att_lr=0.001, batch_size=128, beta=1, cluster='deep', cuda=True, dataset='tp', debug=0, density=0.2, devices='gpu', dimension=32, dir='../Dataset/mnist', dropout=0.1, epoch=1500, external_dim=64, hidden_dims=[64, 64, 100], input_dim=128, interaction='NeuCF', lamda=1, latent_dim=10, log_interval=100, lr=0.0001, n_classes=10, n_clusters=10, n_jobs=1, node2vec=0, node2vec_batchsize=32, node2vec_dim=128, node2vec_epochs=20, node2vec_length=8, node2vec_walk=15, node2vec_windows=3, num_layers=2, order=2, part_iter=20, part_type=5, path='./datasets/data/WSDREAM/', pre_epoch=1000, pretrain=True, processed=0, random_state=1001, record=0, retrain=0, rounds=1, save_model=1, slice=1, slice_decay=0.001, slice_epochs=100, slice_lr=0.001, slices=20, verbose=10, wd=0.0005)\r\n",
      "2023-02-07 05:58:27  Dataset : tp     interaction : NeuCF\r\n",
      "2023-02-07 05:58:27  Density : 20.00%, slice_epochs : 100, agg_epochs : 15\r\n",
      "2023-02-07 05:58:27  Part_type : 5,    slices : 20,       devices : gpu\r\n",
      "2023-02-07 05:58:27  Slice_lr : 0.004,    Slice_decay : 0.001\r\n",
      "2023-02-07 05:58:27  Agg_lr : 0.001,    Agg_decay : 0.001\r\n",
      "2023-02-07 05:58:27  Aggregation function : att\r\n",
      "\r\n",
      "2023-02-07 05:58:27  Round 1 experiment start!\r\n",
      "2023-02-07 05:58:27  \t原始数据集读取完毕\r\n",
      "2023-02-07 05:58:27  \t图嵌入均衡切割\r\n",
      "10 16 19 19 19 19 19 21 14 18 18 15 15 19 16 20 15 17 14 16 \r\n",
      "2023-02-07 05:58:27  \tNode2Vec 基于用户聚类均衡切割完毕\r\n",
      "2023-02-07 05:58:27  \t分切数据执行完毕\r\n",
      "2023-02-07 05:58:29  \t模型加载完毕\r\n",
      "2023-02-07 05:58:29  \t开始训练聚合模型\r\n",
      "2023-02-07 05:58:37  Epoch  1 : MAE : 20.9445  RMSE : 60.9086  NMAE : 0.4406  MRE : 0.4187  NPRE : 1.4738\r\n",
      "2023-02-07 05:58:45  Epoch  2 : MAE : 18.7240  RMSE : 56.2552  NMAE : 0.3939  MRE : 0.3603  NPRE : 2.2513\r\n",
      "2023-02-07 05:58:53  Epoch  3 : MAE : 17.7452  RMSE : 54.1587  NMAE : 0.3733  MRE : 0.3323  NPRE : 1.0000\r\n",
      "2023-02-07 05:59:01  Epoch  4 : MAE : 17.0803  RMSE : 53.0559  NMAE : 0.3593  MRE : 0.3124  NPRE : 1.0000\r\n",
      "2023-02-07 05:59:08  Epoch  5 : MAE : 16.4996  RMSE : 51.5013  NMAE : 0.3471  MRE : 0.2964  NPRE : 1.0000\r\n",
      "2023-02-07 05:59:16  Epoch  6 : MAE : 15.8648  RMSE : 49.7251  NMAE : 0.3338  MRE : 0.2752  NPRE : 1.3513\r\n",
      "2023-02-07 05:59:24  Epoch  7 : MAE : 15.5500  RMSE : 48.6606  NMAE : 0.3271  MRE : 0.2733  NPRE : 1.1436\r\n",
      "2023-02-07 05:59:31  Epoch  8 : MAE : 15.3078  RMSE : 48.2951  NMAE : 0.3220  MRE : 0.2640  NPRE : 1.3410\r\n",
      "2023-02-07 05:59:39  Epoch  9 : MAE : 14.9975  RMSE : 47.5604  NMAE : 0.3155  MRE : 0.2559  NPRE : 1.2173\r\n",
      "2023-02-07 05:59:46  Epoch 10 : MAE : 14.8587  RMSE : 47.3246  NMAE : 0.3126  MRE : 0.2544  NPRE : 1.2429\r\n",
      "2023-02-07 05:59:54  Epoch 11 : MAE : 15.1745  RMSE : 47.5537  NMAE : 0.3192  MRE : 0.2636  NPRE : 1.0000\r\n",
      "2023-02-07 06:00:01  Epoch 12 : MAE : 14.9550  RMSE : 48.1195  NMAE : 0.3146  MRE : 0.2504  NPRE : 1.0000\r\n",
      "2023-02-07 06:00:09  Epoch 13 : MAE : 14.8905  RMSE : 47.0572  NMAE : 0.3133  MRE : 0.2530  NPRE : 1.0604\r\n",
      "2023-02-07 06:00:16  Epoch 14 : MAE : 14.4639  RMSE : 45.9703  NMAE : 0.3043  MRE : 0.2521  NPRE : 1.0112\r\n",
      "2023-02-07 06:00:24  Epoch 15 : MAE : 14.4059  RMSE : 46.4767  NMAE : 0.3031  MRE : 0.2442  NPRE : 1.0000\r\n",
      "2023-02-07 06:00:24  Best epoch 15 : MAE : 14.4059  RMSE : 46.4767  NMAE : 0.3031  MRE : 0.2442  NPRE : 1.0000\r\n",
      "2023-02-07 06:00:24  \t实验 1 聚合模型训练完毕\r\n",
      "2023-02-07 06:00:26  Result : MAE : 14.3995  RMSE : 46.5302  NMAE : 0.3029  MRE : 0.2440  NPRE : 1.0000\r\n",
      "/home/yxzeng/anaconda3/lib/python3.8/site-packages/numpy/core/fromnumeric.py:3432: RuntimeWarning: Mean of empty slice.\r\n",
      "  return _methods._mean(a, axis=axis, dtype=dtype,\r\n",
      "/home/yxzeng/anaconda3/lib/python3.8/site-packages/numpy/core/_methods.py:190: RuntimeWarning: invalid value encountered in double_scalars\r\n",
      "  ret = ret.dtype.type(ret / rcount)\r\n",
      "2023-02-07 06:00:26  \t实验 1 : Shards training time = nan s\r\n",
      "\r\n",
      "2023-02-07 06:00:26  \t实验 1 : Aggregators training time = 85.03 s\r\n",
      "\r\n",
      "2023-02-07 06:00:26  \t聚合模型训练完毕\r\n",
      "------------------------------------------------------------------------------------------------------------------------\r\n",
      "2023-02-07 06:00:26  Dataset : tp     interaction : NeuCF\r\n",
      "2023-02-07 06:00:26  Density : 20.00%, slice_epochs : 100, agg_epochs : 15\r\n",
      "2023-02-07 06:00:26  Part_type : 5,    slices : 20,       devices : gpu\r\n",
      "\r\n",
      "\r\n",
      "2023-02-07 06:00:26  Density 20.00% : MAE = 14.399, RMSE = 46.530, NMAE = 0.303, MRE = 0.244, NPRE = 1.000\r\n",
      "\r\n",
      "2023-02-07 06:00:26  Experiment success!\r\n",
      "\r\n"
     ]
    }
   ],
   "source": [
    "!python Experiment.py --dataset tp --interaction NeuCF --rounds 1 --slices 5 --agg_epochs 15 --density 0.20 --part_type 5 --slices 20 --record 0"
   ],
   "metadata": {
    "collapsed": false
   }
  },
  {
   "cell_type": "code",
   "execution_count": 22,
   "outputs": [
    {
     "name": "stdout",
     "output_type": "stream",
     "text": [
      "2023-02-07 06:00:27  Experiment start!\r\n",
      "2023-02-07 06:00:27  Namespace(F=1, agg2=0, agg_decay=0.001, agg_epochs=20, agg_function=1, agg_lr=0.001, agg_type='att', att_decay=0.0001, att_lr=0.001, batch_size=128, beta=1, cluster='deep', cuda=True, dataset='tp', debug=0, density=0.2, devices='gpu', dimension=32, dir='../Dataset/mnist', dropout=0.1, epoch=1500, external_dim=64, hidden_dims=[64, 64, 100], input_dim=128, interaction='CSMF', lamda=1, latent_dim=10, log_interval=100, lr=0.0001, n_classes=10, n_clusters=10, n_jobs=1, node2vec=0, node2vec_batchsize=32, node2vec_dim=128, node2vec_epochs=20, node2vec_length=8, node2vec_walk=15, node2vec_windows=3, num_layers=2, order=2, part_iter=20, part_type=5, path='./datasets/data/WSDREAM/', pre_epoch=1000, pretrain=True, processed=0, random_state=1001, record=0, retrain=0, rounds=1, save_model=1, slice=1, slice_decay=0.001, slice_epochs=100, slice_lr=0.001, slices=20, verbose=10, wd=0.0005)\r\n",
      "2023-02-07 06:00:27  Dataset : tp     interaction : CSMF\r\n",
      "2023-02-07 06:00:27  Density : 20.00%, slice_epochs : 100, agg_epochs : 20\r\n",
      "2023-02-07 06:00:27  Part_type : 5,    slices : 20,       devices : gpu\r\n",
      "2023-02-07 06:00:27  Slice_lr : 0.01,    Slice_decay : 0.001\r\n",
      "2023-02-07 06:00:27  Agg_lr : 0.008,    Agg_decay : 0.001\r\n",
      "2023-02-07 06:00:27  Aggregation function : att\r\n",
      "\r\n",
      "2023-02-07 06:00:27  Round 1 experiment start!\r\n",
      "2023-02-07 06:00:27  \t原始数据集读取完毕\r\n",
      "2023-02-07 06:00:27  \t图嵌入均衡切割\r\n",
      "10 16 19 19 19 19 19 21 14 18 18 15 15 19 16 20 15 17 14 16 \r\n",
      "2023-02-07 06:00:27  \tNode2Vec 基于用户聚类均衡切割完毕\r\n",
      "2023-02-07 06:00:27  \t分切数据执行完毕\r\n",
      "2023-02-07 06:00:30  \t模型加载完毕\r\n",
      "2023-02-07 06:00:30  \t开始训练聚合模型\r\n",
      "2023-02-07 06:00:34  Epoch  1 : MAE : 24.3088  RMSE : 65.0061  NMAE : 0.5114  MRE : 0.4766  NPRE : 2.3204\r\n",
      "2023-02-07 06:00:39  Epoch  2 : MAE : 23.2790  RMSE : 63.9953  NMAE : 0.4897  MRE : 0.4341  NPRE : 2.0420\r\n",
      "2023-02-07 06:00:43  Epoch  3 : MAE : 22.9337  RMSE : 63.9698  NMAE : 0.4825  MRE : 0.4105  NPRE : 1.6989\r\n",
      "2023-02-07 06:00:48  Epoch  4 : MAE : 22.7785  RMSE : 63.3767  NMAE : 0.4792  MRE : 0.4155  NPRE : 1.8889\r\n",
      "2023-02-07 06:00:53  Epoch  5 : MAE : 22.7356  RMSE : 63.6177  NMAE : 0.4783  MRE : 0.4189  NPRE : 2.0759\r\n",
      "2023-02-07 06:00:57  Epoch  6 : MAE : 22.6058  RMSE : 63.2793  NMAE : 0.4756  MRE : 0.4015  NPRE : 1.7893\r\n",
      "2023-02-07 06:01:02  Epoch  7 : MAE : 22.5981  RMSE : 63.2771  NMAE : 0.4754  MRE : 0.4030  NPRE : 1.8789\r\n",
      "2023-02-07 06:01:07  Epoch  8 : MAE : 22.5251  RMSE : 63.4308  NMAE : 0.4739  MRE : 0.3967  NPRE : 1.8132\r\n",
      "2023-02-07 06:01:11  Epoch  9 : MAE : 22.6302  RMSE : 63.8064  NMAE : 0.4761  MRE : 0.3972  NPRE : 1.4433\r\n",
      "2023-02-07 06:01:16  Epoch 10 : MAE : 22.3757  RMSE : 62.5531  NMAE : 0.4707  MRE : 0.3926  NPRE : 1.8422\r\n",
      "2023-02-07 06:01:20  Epoch 11 : MAE : 22.5180  RMSE : 62.5198  NMAE : 0.4737  MRE : 0.3969  NPRE : 1.8501\r\n",
      "2023-02-07 06:01:25  Epoch 12 : MAE : 22.3620  RMSE : 63.0475  NMAE : 0.4704  MRE : 0.3871  NPRE : 1.7966\r\n",
      "2023-02-07 06:01:30  Epoch 13 : MAE : 22.4162  RMSE : 62.7174  NMAE : 0.4716  MRE : 0.3870  NPRE : 1.7490\r\n",
      "2023-02-07 06:01:34  Epoch 14 : MAE : 22.6654  RMSE : 62.4114  NMAE : 0.4768  MRE : 0.4056  NPRE : 2.0855\r\n",
      "2023-02-07 06:01:38  Epoch 15 : MAE : 22.3487  RMSE : 62.5589  NMAE : 0.4702  MRE : 0.3866  NPRE : 1.7682\r\n",
      "2023-02-07 06:01:43  Epoch 16 : MAE : 22.4357  RMSE : 62.4168  NMAE : 0.4720  MRE : 0.4014  NPRE : 2.0637\r\n",
      "2023-02-07 06:01:48  Epoch 17 : MAE : 22.3541  RMSE : 63.1334  NMAE : 0.4703  MRE : 0.3907  NPRE : 1.5512\r\n",
      "2023-02-07 06:01:52  Epoch 18 : MAE : 22.3179  RMSE : 62.7082  NMAE : 0.4695  MRE : 0.3923  NPRE : 1.9024\r\n",
      "2023-02-07 06:01:57  Epoch 19 : MAE : 22.2460  RMSE : 62.8704  NMAE : 0.4680  MRE : 0.3849  NPRE : 1.8187\r\n",
      "2023-02-07 06:02:02  Epoch 20 : MAE : 22.4648  RMSE : 63.8006  NMAE : 0.4726  MRE : 0.3831  NPRE : 1.4584\r\n",
      "2023-02-07 06:02:02  Best epoch 19 : MAE : 22.2460  RMSE : 62.8704  NMAE : 0.4680  MRE : 0.3849  NPRE : 1.8187\r\n",
      "2023-02-07 06:02:02  \t实验 1 聚合模型训练完毕\r\n",
      "2023-02-07 06:02:04  Result : MAE : 22.2924  RMSE : 63.0983  NMAE : 0.4690  MRE : 0.3811  NPRE : 1.6132\r\n",
      "/home/yxzeng/anaconda3/lib/python3.8/site-packages/numpy/core/fromnumeric.py:3432: RuntimeWarning: Mean of empty slice.\r\n",
      "  return _methods._mean(a, axis=axis, dtype=dtype,\r\n",
      "/home/yxzeng/anaconda3/lib/python3.8/site-packages/numpy/core/_methods.py:190: RuntimeWarning: invalid value encountered in double_scalars\r\n",
      "  ret = ret.dtype.type(ret / rcount)\r\n",
      "2023-02-07 06:02:04  \t实验 1 : Shards training time = nan s\r\n",
      "\r\n",
      "2023-02-07 06:02:04  \t实验 1 : Aggregators training time = 51.71 s\r\n",
      "\r\n",
      "2023-02-07 06:02:04  \t聚合模型训练完毕\r\n",
      "------------------------------------------------------------------------------------------------------------------------\r\n",
      "2023-02-07 06:02:04  Dataset : tp     interaction : CSMF\r\n",
      "2023-02-07 06:02:04  Density : 20.00%, slice_epochs : 100, agg_epochs : 20\r\n",
      "2023-02-07 06:02:04  Part_type : 5,    slices : 20,       devices : gpu\r\n",
      "\r\n",
      "\r\n",
      "2023-02-07 06:02:04  Density 20.00% : MAE = 22.292, RMSE = 63.098, NMAE = 0.469, MRE = 0.381, NPRE = 1.613\r\n",
      "\r\n",
      "2023-02-07 06:02:04  Experiment success!\r\n",
      "\r\n"
     ]
    }
   ],
   "source": [
    "!python Experiment.py --dataset tp --interaction CSMF --rounds 1 --slices 5 --agg_epochs 20 --density 0.20 --part_type 5 --slices 20 --record 0"
   ],
   "metadata": {
    "collapsed": false
   }
  },
  {
   "cell_type": "code",
   "execution_count": 23,
   "outputs": [
    {
     "name": "stdout",
     "output_type": "stream",
     "text": [
      "2023-02-07 06:02:05  Experiment start!\r\n",
      "2023-02-07 06:02:05  Namespace(F=1, agg2=0, agg_decay=0.001, agg_epochs=20, agg_function=1, agg_lr=0.001, agg_type='att', att_decay=0.0001, att_lr=0.001, batch_size=128, beta=1, cluster='deep', cuda=True, dataset='tp', debug=0, density=0.2, devices='gpu', dimension=32, dir='../Dataset/mnist', dropout=0.1, epoch=1500, external_dim=64, hidden_dims=[64, 64, 100], input_dim=128, interaction='MF', lamda=1, latent_dim=10, log_interval=100, lr=0.0001, n_classes=10, n_clusters=10, n_jobs=1, node2vec=0, node2vec_batchsize=32, node2vec_dim=128, node2vec_epochs=20, node2vec_length=8, node2vec_walk=15, node2vec_windows=3, num_layers=2, order=2, part_iter=20, part_type=5, path='./datasets/data/WSDREAM/', pre_epoch=1000, pretrain=True, processed=0, random_state=1001, record=0, retrain=0, rounds=1, save_model=1, slice=1, slice_decay=0.001, slice_epochs=100, slice_lr=0.001, slices=20, verbose=10, wd=0.0005)\r\n",
      "2023-02-07 06:02:05  Dataset : tp     interaction : MF\r\n",
      "2023-02-07 06:02:05  Density : 20.00%, slice_epochs : 100, agg_epochs : 20\r\n",
      "2023-02-07 06:02:05  Part_type : 5,    slices : 20,       devices : gpu\r\n",
      "2023-02-07 06:02:05  Slice_lr : 0.008,    Slice_decay : 0.001\r\n",
      "2023-02-07 06:02:05  Agg_lr : 0.001,    Agg_decay : 0.001\r\n",
      "2023-02-07 06:02:05  Aggregation function : att\r\n",
      "\r\n",
      "2023-02-07 06:02:05  Round 1 experiment start!\r\n",
      "2023-02-07 06:02:05  \t原始数据集读取完毕\r\n",
      "2023-02-07 06:02:05  \t图嵌入均衡切割\r\n",
      "10 16 19 19 19 19 19 21 14 18 18 15 15 19 16 20 15 17 14 16 \r\n",
      "2023-02-07 06:02:05  \tNode2Vec 基于用户聚类均衡切割完毕\r\n",
      "2023-02-07 06:02:05  \t分切数据执行完毕\r\n",
      "2023-02-07 06:02:07  \t模型加载完毕\r\n",
      "2023-02-07 06:02:07  \t准备训练切片模型\r\n",
      "2023-02-07 06:02:07  \t实验 1 模型 1 开始分片训练\r\n",
      "2023-02-07 06:02:13  Epoch 10 : MAE : 49.3766  RMSE : 129.3687  NMAE : 0.9235  MRE : 0.9019  NPRE : 6.7370\r\n",
      "2023-02-07 06:02:17  Best epoch  6 : MAE : 47.9586  RMSE : 130.3517  NMAE : 0.8970  MRE : 0.8272  NPRE : 4.9018\r\n",
      "2023-02-07 06:02:17  实验 1 模型 1 training time = 0.70 s\r\n",
      "2023-02-07 06:02:17  Slice ID  1 : MAE = 47.9586, RMSE = 130.3517, NMAE = 0.8970, MRE = 0.8272, NPRE = 4.9018\r\n",
      "\r\n",
      "2023-02-07 06:02:17  \t实验 1 模型 2 开始分片训练\r\n",
      "2023-02-07 06:02:23  Epoch 10 : MAE : 43.0266  RMSE : 112.3177  NMAE : 0.8852  MRE : 0.8407  NPRE : 7.9716\r\n",
      "2023-02-07 06:02:29  Epoch 20 : MAE : 36.4482  RMSE : 93.7176  NMAE : 0.7499  MRE : 0.8504  NPRE : 4.9374\r\n",
      "2023-02-07 06:02:36  Epoch 30 : MAE : 35.9704  RMSE : 84.8895  NMAE : 0.7400  MRE : 1.0000  NPRE : 6.9158\r\n",
      "2023-02-07 06:02:40  Best epoch 27 : MAE : 35.7860  RMSE : 86.6562  NMAE : 0.7362  MRE : 0.9703  NPRE : 6.3621\r\n",
      "2023-02-07 06:02:40  实验 1 模型 2 training time = 4.62 s\r\n",
      "2023-02-07 06:02:40  Slice ID  2 : MAE = 35.7860, RMSE = 86.6562, NMAE = 0.7362, MRE = 0.9703, NPRE = 6.3621\r\n",
      "\r\n",
      "2023-02-07 06:02:40  \t实验 1 模型 3 开始分片训练\r\n",
      "2023-02-07 06:02:48  Epoch 10 : MAE : 42.5643  RMSE : 116.3282  NMAE : 0.9011  MRE : 0.8410  NPRE : 4.8723\r\n",
      "2023-02-07 06:02:55  Epoch 20 : MAE : 36.0606  RMSE : 102.4692  NMAE : 0.7634  MRE : 0.7695  NPRE : 4.6393\r\n",
      "2023-02-07 06:03:02  Epoch 30 : MAE : 33.0761  RMSE : 84.6689  NMAE : 0.7003  MRE : 0.8973  NPRE : 6.1408\r\n",
      "2023-02-07 06:03:09  Epoch 40 : MAE : 32.4132  RMSE : 80.1190  NMAE : 0.6862  MRE : 0.9839  NPRE : 5.8273\r\n",
      "2023-02-07 06:03:14  Best epoch 37 : MAE : 32.1675  RMSE : 80.7906  NMAE : 0.6810  MRE : 0.9362  NPRE : 5.6535\r\n",
      "2023-02-07 06:03:14  实验 1 模型 3 training time = 7.67 s\r\n",
      "2023-02-07 06:03:14  Slice ID  3 : MAE = 32.1675, RMSE = 80.7906, NMAE = 0.6810, MRE = 0.9362, NPRE = 5.6535\r\n",
      "\r\n",
      "2023-02-07 06:03:14  \t实验 1 模型 4 开始分片训练\r\n",
      "2023-02-07 06:03:22  Epoch 10 : MAE : 39.5999  RMSE : 109.5856  NMAE : 0.9008  MRE : 0.8411  NPRE : 5.6301\r\n",
      "2023-02-07 06:03:29  Epoch 20 : MAE : 34.3497  RMSE : 95.3108  NMAE : 0.7814  MRE : 0.8544  NPRE : 5.1089\r\n",
      "2023-02-07 06:03:36  Epoch 30 : MAE : 30.5394  RMSE : 75.7170  NMAE : 0.6947  MRE : 1.0000  NPRE : 5.0601\r\n",
      "2023-02-07 06:03:43  Epoch 40 : MAE : 31.3721  RMSE : 71.5217  NMAE : 0.7136  MRE : 1.0000  NPRE : 6.5465\r\n",
      "2023-02-07 06:03:44  Best epoch 31 : MAE : 30.3417  RMSE : 76.5392  NMAE : 0.6902  MRE : 0.9721  NPRE : 5.1643\r\n",
      "2023-02-07 06:03:44  实验 1 模型 4 training time = 6.57 s\r\n",
      "2023-02-07 06:03:44  Slice ID  4 : MAE = 30.3417, RMSE = 76.5392, NMAE = 0.6902, MRE = 0.9721, NPRE = 5.1643\r\n",
      "\r\n",
      "2023-02-07 06:03:44  \t实验 1 模型 5 开始分片训练\r\n",
      "2023-02-07 06:03:51  Epoch 10 : MAE : 41.2282  RMSE : 111.1373  NMAE : 0.8932  MRE : 0.8404  NPRE : 6.0863\r\n",
      "2023-02-07 06:03:58  Epoch 20 : MAE : 34.0034  RMSE : 94.5669  NMAE : 0.7367  MRE : 0.7946  NPRE : 4.4096\r\n",
      "2023-02-07 06:04:06  Epoch 30 : MAE : 31.8562  RMSE : 77.8211  NMAE : 0.6902  MRE : 0.9253  NPRE : 5.9804\r\n",
      "2023-02-07 06:04:13  Epoch 40 : MAE : 31.3233  RMSE : 73.3822  NMAE : 0.6786  MRE : 0.9854  NPRE : 6.0442\r\n",
      "2023-02-07 06:04:16  Best epoch 35 : MAE : 31.3183  RMSE : 75.7808  NMAE : 0.6785  MRE : 0.9285  NPRE : 5.8702\r\n",
      "2023-02-07 06:04:16  实验 1 模型 5 training time = 7.18 s\r\n",
      "2023-02-07 06:04:16  Slice ID  5 : MAE = 31.3183, RMSE = 75.7808, NMAE = 0.6785, MRE = 0.9285, NPRE = 5.8702\r\n",
      "\r\n",
      "2023-02-07 06:04:16  \t实验 1 模型 6 开始分片训练\r\n",
      "2023-02-07 06:04:24  Epoch 10 : MAE : 41.3510  RMSE : 112.8781  NMAE : 0.9037  MRE : 0.8516  NPRE : 7.6378\r\n",
      "2023-02-07 06:04:31  Epoch 20 : MAE : 34.4404  RMSE : 94.3742  NMAE : 0.7527  MRE : 0.8383  NPRE : 5.7204\r\n",
      "2023-02-07 06:04:38  Epoch 30 : MAE : 31.4995  RMSE : 78.7067  NMAE : 0.6884  MRE : 0.9711  NPRE : 6.4870\r\n",
      "2023-02-07 06:04:45  Epoch 40 : MAE : 31.7428  RMSE : 74.7272  NMAE : 0.6937  MRE : 1.0000  NPRE : 6.8697\r\n",
      "2023-02-07 06:04:49  Best epoch 35 : MAE : 31.0876  RMSE : 76.1402  NMAE : 0.6794  MRE : 1.0000  NPRE : 6.3705\r\n",
      "2023-02-07 06:04:49  实验 1 模型 6 training time = 7.26 s\r\n",
      "2023-02-07 06:04:49  Slice ID  6 : MAE = 31.0876, RMSE = 76.1402, NMAE = 0.6794, MRE = 1.0000, NPRE = 6.3705\r\n",
      "\r\n",
      "2023-02-07 06:04:49  \t实验 1 模型 7 开始分片训练\r\n",
      "2023-02-07 06:04:56  Epoch 10 : MAE : 38.7639  RMSE : 107.9607  NMAE : 0.8848  MRE : 0.7968  NPRE : 5.1693\r\n",
      "2023-02-07 06:05:03  Epoch 20 : MAE : 31.1692  RMSE : 89.3052  NMAE : 0.7114  MRE : 0.7543  NPRE : 4.2880\r\n",
      "2023-02-07 06:05:10  Epoch 30 : MAE : 28.6559  RMSE : 72.7516  NMAE : 0.6541  MRE : 0.8816  NPRE : 5.2007\r\n",
      "2023-02-07 06:05:18  Epoch 40 : MAE : 29.5963  RMSE : 69.4735  NMAE : 0.6755  MRE : 0.9687  NPRE : 6.8756\r\n",
      "2023-02-07 06:05:20  Best epoch 33 : MAE : 28.2618  RMSE : 71.7533  NMAE : 0.6451  MRE : 0.8626  NPRE : 5.3763\r\n",
      "2023-02-07 06:05:20  实验 1 模型 7 training time = 7.00 s\r\n",
      "2023-02-07 06:05:20  Slice ID  7 : MAE = 28.2618, RMSE = 71.7533, NMAE = 0.6451, MRE = 0.8626, NPRE = 5.3763\r\n",
      "\r\n",
      "2023-02-07 06:05:20  \t实验 1 模型 8 开始分片训练\r\n",
      "2023-02-07 06:05:27  Epoch 10 : MAE : 44.7475  RMSE : 119.5769  NMAE : 0.8480  MRE : 0.7990  NPRE : 4.5633\r\n",
      "2023-02-07 06:05:35  Epoch 20 : MAE : 33.5544  RMSE : 97.3504  NMAE : 0.6359  MRE : 0.5956  NPRE : 2.4831\r\n",
      "2023-02-07 06:05:42  Epoch 30 : MAE : 31.4463  RMSE : 83.3109  NMAE : 0.5959  MRE : 0.6934  NPRE : 3.7718\r\n",
      "2023-02-07 06:05:50  Epoch 40 : MAE : 32.4085  RMSE : 78.2913  NMAE : 0.6141  MRE : 0.8256  NPRE : 4.4555\r\n",
      "2023-02-07 06:05:52  Best epoch 33 : MAE : 31.1331  RMSE : 80.9527  NMAE : 0.5900  MRE : 0.7366  NPRE : 3.4711\r\n",
      "2023-02-07 06:05:52  实验 1 模型 8 training time = 7.42 s\r\n",
      "2023-02-07 06:05:52  Slice ID  8 : MAE = 31.1331, RMSE = 80.9527, NMAE = 0.5900, MRE = 0.7366, NPRE = 3.4711\r\n",
      "\r\n",
      "2023-02-07 06:05:52  \t实验 1 模型 9 开始分片训练\r\n",
      "2023-02-07 06:05:58  Epoch 10 : MAE : 38.2271  RMSE : 109.0343  NMAE : 0.9020  MRE : 0.8347  NPRE : 5.6385\r\n",
      "2023-02-07 06:06:04  Epoch 20 : MAE : 35.8180  RMSE : 102.4629  NMAE : 0.8452  MRE : 0.9260  NPRE : 4.5709\r\n",
      "2023-02-07 06:06:11  Epoch 30 : MAE : 34.0151  RMSE : 88.8568  NMAE : 0.8026  MRE : 1.0000  NPRE : 6.7393\r\n",
      "2023-02-07 06:06:17  Epoch 40 : MAE : 34.6608  RMSE : 81.3743  NMAE : 0.8179  MRE : 1.0000  NPRE : 8.3843\r\n",
      "2023-02-07 06:06:19  Best epoch 33 : MAE : 33.5400  RMSE : 85.5417  NMAE : 0.7914  MRE : 1.0000  NPRE : 6.6001\r\n",
      "2023-02-07 06:06:19  实验 1 模型 9 training time = 5.05 s\r\n",
      "2023-02-07 06:06:19  Slice ID  9 : MAE = 33.5400, RMSE = 85.5417, NMAE = 0.7914, MRE = 1.0000, NPRE = 6.6001\r\n",
      "\r\n",
      "2023-02-07 06:06:19  \t实验 1 模型 10 开始分片训练\r\n",
      "2023-02-07 06:06:26  Epoch 10 : MAE : 43.4810  RMSE : 115.1592  NMAE : 0.9098  MRE : 0.8696  NPRE : 8.9272\r\n",
      "2023-02-07 06:06:33  Epoch 20 : MAE : 35.2262  RMSE : 96.6910  NMAE : 0.7371  MRE : 0.8094  NPRE : 5.2375\r\n",
      "2023-02-07 06:06:40  Epoch 30 : MAE : 31.9701  RMSE : 81.2372  NMAE : 0.6689  MRE : 0.8608  NPRE : 6.6485\r\n",
      "2023-02-07 06:06:47  Epoch 40 : MAE : 31.2246  RMSE : 76.4226  NMAE : 0.6533  MRE : 0.9664  NPRE : 5.7202\r\n",
      "2023-02-07 06:06:54  Epoch 50 : MAE : 32.6859  RMSE : 75.6798  NMAE : 0.6839  MRE : 1.0000  NPRE : 7.1899\r\n",
      "2023-02-07 06:06:54  Best epoch 40 : MAE : 31.2246  RMSE : 76.4226  NMAE : 0.6533  MRE : 0.9664  NPRE : 5.7202\r\n",
      "2023-02-07 06:06:54  实验 1 模型 10 training time = 7.79 s\r\n",
      "2023-02-07 06:06:54  Slice ID  10 : MAE = 31.2246, RMSE = 76.4226, NMAE = 0.6533, MRE = 0.9664, NPRE = 5.7202\r\n",
      "\r\n",
      "2023-02-07 06:06:54  \t实验 1 模型 11 开始分片训练\r\n",
      "2023-02-07 06:07:01  Epoch 10 : MAE : 42.7324  RMSE : 114.5033  NMAE : 0.9071  MRE : 0.8589  NPRE : 6.2461\r\n",
      "2023-02-07 06:07:08  Epoch 20 : MAE : 35.4163  RMSE : 99.9527  NMAE : 0.7518  MRE : 0.7606  NPRE : 4.0401\r\n",
      "2023-02-07 06:07:16  Epoch 30 : MAE : 33.1191  RMSE : 79.3419  NMAE : 0.7030  MRE : 0.9912  NPRE : 6.1086\r\n",
      "2023-02-07 06:07:22  Epoch 40 : MAE : 32.7968  RMSE : 74.9127  NMAE : 0.6962  MRE : 1.0000  NPRE : 6.4684\r\n",
      "2023-02-07 06:07:24  Best epoch 32 : MAE : 32.2310  RMSE : 77.5777  NMAE : 0.6842  MRE : 0.9760  NPRE : 5.4474\r\n",
      "2023-02-07 06:07:24  实验 1 模型 11 training time = 6.46 s\r\n",
      "2023-02-07 06:07:24  Slice ID  11 : MAE = 32.2310, RMSE = 77.5777, NMAE = 0.6842, MRE = 0.9760, NPRE = 5.4474\r\n",
      "\r\n",
      "2023-02-07 06:07:24  \t实验 1 模型 12 开始分片训练\r\n",
      "2023-02-07 06:07:30  Epoch 10 : MAE : 45.8414  RMSE : 120.4979  NMAE : 0.8919  MRE : 0.8243  NPRE : 5.2895\r\n",
      "2023-02-07 06:07:36  Epoch 20 : MAE : 39.0275  RMSE : 103.6067  NMAE : 0.7594  MRE : 0.8149  NPRE : 4.6469\r\n",
      "2023-02-07 06:07:43  Epoch 30 : MAE : 38.2427  RMSE : 91.4826  NMAE : 0.7441  MRE : 0.9663  NPRE : 5.9134\r\n",
      "2023-02-07 06:07:47  Best epoch 27 : MAE : 37.3859  RMSE : 95.1171  NMAE : 0.7274  MRE : 0.8687  NPRE : 4.6495\r\n",
      "2023-02-07 06:07:47  实验 1 模型 12 training time = 4.32 s\r\n",
      "2023-02-07 06:07:47  Slice ID  12 : MAE = 37.3859, RMSE = 95.1171, NMAE = 0.7274, MRE = 0.8687, NPRE = 4.6495\r\n",
      "\r\n",
      "2023-02-07 06:07:47  \t实验 1 模型 13 开始分片训练\r\n",
      "2023-02-07 06:07:53  Epoch 10 : MAE : 42.6098  RMSE : 109.6449  NMAE : 0.9323  MRE : 0.9111  NPRE : 15.8661\r\n",
      "2023-02-07 06:08:00  Epoch 20 : MAE : 38.8280  RMSE : 101.8033  NMAE : 0.8496  MRE : 0.9020  NPRE : 9.5474\r\n",
      "2023-02-07 06:08:06  Epoch 30 : MAE : 37.4244  RMSE : 84.1590  NMAE : 0.8189  MRE : 1.0000  NPRE : 9.0566\r\n",
      "2023-02-07 06:08:12  Epoch 40 : MAE : 35.8767  RMSE : 80.5806  NMAE : 0.7850  MRE : 1.0000  NPRE : 8.7331\r\n",
      "2023-02-07 06:08:13  Best epoch 32 : MAE : 35.2306  RMSE : 84.7679  NMAE : 0.7709  MRE : 1.0000  NPRE : 6.1579\r\n",
      "2023-02-07 06:08:13  实验 1 模型 13 training time = 5.26 s\r\n",
      "2023-02-07 06:08:13  Slice ID  13 : MAE = 35.2306, RMSE = 84.7679, NMAE = 0.7709, MRE = 1.0000, NPRE = 6.1579\r\n",
      "\r\n",
      "2023-02-07 06:08:13  \t实验 1 模型 14 开始分片训练\r\n",
      "2023-02-07 06:08:21  Epoch 10 : MAE : 43.0629  RMSE : 115.0551  NMAE : 0.8938  MRE : 0.8426  NPRE : 5.5687\r\n",
      "2023-02-07 06:08:28  Epoch 20 : MAE : 34.2716  RMSE : 90.3131  NMAE : 0.7113  MRE : 0.8008  NPRE : 4.4947\r\n",
      "2023-02-07 06:08:35  Epoch 30 : MAE : 30.6289  RMSE : 74.5950  NMAE : 0.6357  MRE : 0.8797  NPRE : 4.2629\r\n",
      "2023-02-07 06:08:43  Epoch 40 : MAE : 31.9378  RMSE : 71.7398  NMAE : 0.6629  MRE : 1.0000  NPRE : 5.2550\r\n",
      "2023-02-07 06:08:43  Best epoch 30 : MAE : 30.6289  RMSE : 74.5950  NMAE : 0.6357  MRE : 0.8797  NPRE : 4.2629\r\n",
      "2023-02-07 06:08:43  实验 1 模型 14 training time = 6.48 s\r\n",
      "2023-02-07 06:08:43  Slice ID  14 : MAE = 30.6289, RMSE = 74.5950, NMAE = 0.6357, MRE = 0.8797, NPRE = 4.2629\r\n",
      "\r\n",
      "2023-02-07 06:08:43  \t实验 1 模型 15 开始分片训练\r\n",
      "2023-02-07 06:08:49  Epoch 10 : MAE : 43.5183  RMSE : 117.8538  NMAE : 0.9169  MRE : 0.8682  NPRE : 19.0649\r\n",
      "2023-02-07 06:08:56  Epoch 20 : MAE : 38.4558  RMSE : 103.7034  NMAE : 0.8102  MRE : 0.9428  NPRE : 11.0912\r\n",
      "2023-02-07 06:09:02  Epoch 30 : MAE : 35.9866  RMSE : 91.4170  NMAE : 0.7582  MRE : 1.0000  NPRE : 13.0631\r\n",
      "2023-02-07 06:09:07  Best epoch 28 : MAE : 35.3996  RMSE : 92.9847  NMAE : 0.7458  MRE : 0.9893  NPRE : 9.6462\r\n",
      "2023-02-07 06:09:07  实验 1 模型 15 training time = 4.91 s\r\n",
      "2023-02-07 06:09:07  Slice ID  15 : MAE = 35.3996, RMSE = 92.9847, NMAE = 0.7458, MRE = 0.9893, NPRE = 9.6462\r\n",
      "\r\n",
      "2023-02-07 06:09:07  \t实验 1 模型 16 开始分片训练\r\n",
      "2023-02-07 06:09:15  Epoch 10 : MAE : 44.1074  RMSE : 118.2065  NMAE : 0.8898  MRE : 0.8271  NPRE : 5.9795\r\n",
      "2023-02-07 06:09:22  Epoch 20 : MAE : 36.9313  RMSE : 101.0775  NMAE : 0.7451  MRE : 0.8217  NPRE : 4.5372\r\n",
      "2023-02-07 06:09:29  Epoch 30 : MAE : 36.0084  RMSE : 85.1057  NMAE : 0.7264  MRE : 1.0000  NPRE : 6.6152\r\n",
      "2023-02-07 06:09:37  Epoch 40 : MAE : 36.0416  RMSE : 82.6696  NMAE : 0.7271  MRE : 1.0000  NPRE : 6.7828\r\n",
      "2023-02-07 06:09:38  Best epoch 32 : MAE : 34.7490  RMSE : 85.4372  NMAE : 0.7010  MRE : 0.9887  NPRE : 5.5965\r\n",
      "2023-02-07 06:09:38  实验 1 模型 16 training time = 7.02 s\r\n",
      "2023-02-07 06:09:38  Slice ID  16 : MAE = 34.7490, RMSE = 85.4372, NMAE = 0.7010, MRE = 0.9887, NPRE = 5.5965\r\n",
      "\r\n",
      "2023-02-07 06:09:38  \t实验 1 模型 17 开始分片训练\r\n",
      "2023-02-07 06:09:44  Epoch 10 : MAE : 41.7552  RMSE : 114.6913  NMAE : 0.8869  MRE : 0.8157  NPRE : 5.6416\r\n",
      "2023-02-07 06:09:51  Epoch 20 : MAE : 36.4232  RMSE : 101.8913  NMAE : 0.7736  MRE : 0.7966  NPRE : 5.3397\r\n",
      "2023-02-07 06:09:57  Epoch 30 : MAE : 32.5173  RMSE : 82.2825  NMAE : 0.6907  MRE : 0.8674  NPRE : 6.1150\r\n",
      "2023-02-07 06:10:04  Epoch 40 : MAE : 32.3097  RMSE : 77.7060  NMAE : 0.6863  MRE : 0.9304  NPRE : 6.5131\r\n",
      "2023-02-07 06:10:08  Best epoch 37 : MAE : 31.6981  RMSE : 78.0654  NMAE : 0.6733  MRE : 0.8841  NPRE : 5.9809\r\n",
      "2023-02-07 06:10:08  实验 1 模型 17 training time = 6.04 s\r\n",
      "2023-02-07 06:10:08  Slice ID  17 : MAE = 31.6981, RMSE = 78.0654, NMAE = 0.6733, MRE = 0.8841, NPRE = 5.9809\r\n",
      "\r\n",
      "2023-02-07 06:10:08  \t实验 1 模型 18 开始分片训练\r\n",
      "2023-02-07 06:10:15  Epoch 10 : MAE : 41.1829  RMSE : 113.1430  NMAE : 0.8989  MRE : 0.8329  NPRE : 4.4594\r\n",
      "2023-02-07 06:10:22  Epoch 20 : MAE : 36.7968  RMSE : 101.0897  NMAE : 0.8032  MRE : 0.8842  NPRE : 5.9753\r\n",
      "2023-02-07 06:10:28  Epoch 30 : MAE : 33.0043  RMSE : 83.3160  NMAE : 0.7204  MRE : 0.9349  NPRE : 6.8348\r\n",
      "2023-02-07 06:10:35  Epoch 40 : MAE : 33.6331  RMSE : 77.4528  NMAE : 0.7341  MRE : 1.0000  NPRE : 8.4765\r\n",
      "2023-02-07 06:10:37  Best epoch 32 : MAE : 32.5823  RMSE : 80.5122  NMAE : 0.7112  MRE : 0.9880  NPRE : 6.4945\r\n",
      "2023-02-07 06:10:37  实验 1 模型 18 training time = 6.22 s\r\n",
      "2023-02-07 06:10:37  Slice ID  18 : MAE = 32.5823, RMSE = 80.5122, NMAE = 0.7112, MRE = 0.9880, NPRE = 6.4945\r\n",
      "\r\n",
      "2023-02-07 06:10:37  \t实验 1 模型 19 开始分片训练\r\n",
      "2023-02-07 06:10:43  Epoch 10 : MAE : 43.0122  RMSE : 115.8066  NMAE : 0.9035  MRE : 0.8495  NPRE : 5.1963\r\n",
      "2023-02-07 06:10:49  Epoch 20 : MAE : 40.5149  RMSE : 110.0172  NMAE : 0.8510  MRE : 0.8860  NPRE : 4.3216\r\n",
      "2023-02-07 06:10:55  Epoch 30 : MAE : 38.8413  RMSE : 92.1364  NMAE : 0.8159  MRE : 1.0000  NPRE : 6.0634\r\n",
      "2023-02-07 06:11:01  Epoch 40 : MAE : 38.7281  RMSE : 84.2304  NMAE : 0.8135  MRE : 1.0000  NPRE : 6.8891\r\n",
      "2023-02-07 06:11:02  Best epoch 31 : MAE : 38.1500  RMSE : 91.3260  NMAE : 0.8013  MRE : 1.0000  NPRE : 5.7109\r\n",
      "2023-02-07 06:11:02  实验 1 模型 19 training time = 4.74 s\r\n",
      "2023-02-07 06:11:02  Slice ID  19 : MAE = 38.1500, RMSE = 91.3260, NMAE = 0.8013, MRE = 1.0000, NPRE = 5.7109\r\n",
      "\r\n",
      "2023-02-07 06:11:02  \t实验 1 模型 20 开始分片训练\r\n",
      "2023-02-07 06:11:08  Epoch 10 : MAE : 44.9750  RMSE : 118.8565  NMAE : 0.8893  MRE : 0.8112  NPRE : 4.2000\r\n",
      "2023-02-07 06:11:15  Epoch 20 : MAE : 40.3720  RMSE : 104.2915  NMAE : 0.7983  MRE : 0.8488  NPRE : 5.0399\r\n",
      "2023-02-07 06:11:21  Epoch 30 : MAE : 37.5015  RMSE : 89.1560  NMAE : 0.7415  MRE : 0.9527  NPRE : 5.8629\r\n",
      "2023-02-07 06:11:28  Epoch 40 : MAE : 38.1412  RMSE : 82.5752  NMAE : 0.7542  MRE : 1.0000  NPRE : 6.3841\r\n",
      "2023-02-07 06:11:29  Best epoch 32 : MAE : 36.8422  RMSE : 86.5045  NMAE : 0.7285  MRE : 1.0000  NPRE : 5.2674\r\n",
      "2023-02-07 06:11:29  实验 1 模型 20 training time = 5.59 s\r\n",
      "2023-02-07 06:11:29  Slice ID  20 : MAE = 36.8422, RMSE = 86.5045, NMAE = 0.7285, MRE = 1.0000, NPRE = 5.2674\r\n",
      "\r\n",
      "2023-02-07 06:11:29  \t所有切片模型训练完毕\r\n",
      "2023-02-07 06:11:29  \t开始训练聚合模型\r\n",
      "2023-02-07 06:11:34  Epoch  1 : MAE : 37.7569  RMSE : 108.4294  NMAE : 0.7943  MRE : 0.6997  NPRE : 4.2361\r\n",
      "2023-02-07 06:11:38  Epoch  2 : MAE : 34.6272  RMSE : 99.0755  NMAE : 0.7285  MRE : 0.6612  NPRE : 3.9537\r\n",
      "2023-02-07 06:11:42  Epoch  3 : MAE : 33.1247  RMSE : 94.4741  NMAE : 0.6968  MRE : 0.6343  NPRE : 3.7306\r\n",
      "2023-02-07 06:11:47  Epoch  4 : MAE : 32.4724  RMSE : 92.0777  NMAE : 0.6831  MRE : 0.6365  NPRE : 3.9540\r\n",
      "2023-02-07 06:11:51  Epoch  5 : MAE : 32.1146  RMSE : 90.9144  NMAE : 0.6756  MRE : 0.6302  NPRE : 3.9250\r\n",
      "2023-02-07 06:11:55  Epoch  6 : MAE : 31.9837  RMSE : 90.5869  NMAE : 0.6728  MRE : 0.6212  NPRE : 3.8531\r\n",
      "2023-02-07 06:12:00  Epoch  7 : MAE : 31.9951  RMSE : 90.8619  NMAE : 0.6731  MRE : 0.6167  NPRE : 3.6599\r\n",
      "2023-02-07 06:12:04  Epoch  8 : MAE : 31.6966  RMSE : 90.1484  NMAE : 0.6668  MRE : 0.6064  NPRE : 3.5568\r\n",
      "2023-02-07 06:12:08  Epoch  9 : MAE : 31.9320  RMSE : 91.1777  NMAE : 0.6718  MRE : 0.6096  NPRE : 3.4687\r\n",
      "2023-02-07 06:12:12  Epoch 10 : MAE : 31.7079  RMSE : 90.2542  NMAE : 0.6670  MRE : 0.6114  NPRE : 3.5351\r\n",
      "2023-02-07 06:12:17  Epoch 11 : MAE : 31.5439  RMSE : 89.6607  NMAE : 0.6636  MRE : 0.6117  NPRE : 3.6284\r\n",
      "2023-02-07 06:12:21  Epoch 12 : MAE : 31.8873  RMSE : 90.8785  NMAE : 0.6708  MRE : 0.6084  NPRE : 3.5857\r\n",
      "2023-02-07 06:12:25  Epoch 13 : MAE : 31.6769  RMSE : 90.1319  NMAE : 0.6664  MRE : 0.6046  NPRE : 3.5125\r\n",
      "2023-02-07 06:12:29  Epoch 14 : MAE : 31.8144  RMSE : 90.5732  NMAE : 0.6693  MRE : 0.6084  NPRE : 3.5131\r\n",
      "2023-02-07 06:12:34  Epoch 15 : MAE : 31.8372  RMSE : 90.6157  NMAE : 0.6698  MRE : 0.6161  NPRE : 3.7016\r\n",
      "2023-02-07 06:12:38  Epoch 16 : MAE : 31.6509  RMSE : 90.2503  NMAE : 0.6658  MRE : 0.6026  NPRE : 3.3637\r\n",
      "2023-02-07 06:12:43  Epoch 17 : MAE : 31.7925  RMSE : 90.6272  NMAE : 0.6688  MRE : 0.6024  NPRE : 3.4434\r\n",
      "2023-02-07 06:12:47  Epoch 18 : MAE : 31.6552  RMSE : 90.2224  NMAE : 0.6659  MRE : 0.6169  NPRE : 3.7136\r\n",
      "2023-02-07 06:12:51  Epoch 19 : MAE : 31.6850  RMSE : 90.4707  NMAE : 0.6666  MRE : 0.6016  NPRE : 3.3255\r\n",
      "2023-02-07 06:12:55  Epoch 20 : MAE : 31.7348  RMSE : 90.4387  NMAE : 0.6676  MRE : 0.6104  NPRE : 3.6836\r\n",
      "2023-02-07 06:12:55  Best epoch 11 : MAE : 31.5439  RMSE : 89.6607  NMAE : 0.6636  MRE : 0.6117  NPRE : 3.6284\r\n",
      "2023-02-07 06:12:55  \t实验 1 聚合模型训练完毕\r\n",
      "2023-02-07 06:12:57  Result : MAE : 31.9908  RMSE : 91.1708  NMAE : 0.6730  MRE : 0.6101  NPRE : 3.6981\r\n",
      "2023-02-07 06:12:57  \t实验 1 : Shards training time = 5.91 s\r\n",
      "\r\n",
      "2023-02-07 06:12:57  \t实验 1 : Aggregators training time = 27.04 s\r\n",
      "\r\n",
      "2023-02-07 06:12:57  \t聚合模型训练完毕\r\n",
      "------------------------------------------------------------------------------------------------------------------------\r\n",
      "2023-02-07 06:12:57  Dataset : tp     interaction : MF\r\n",
      "2023-02-07 06:12:57  Density : 20.00%, slice_epochs : 100, agg_epochs : 20\r\n",
      "2023-02-07 06:12:57  Part_type : 5,    slices : 20,       devices : gpu\r\n",
      "\r\n",
      "\r\n",
      "2023-02-07 06:12:57  Density 20.00% : MAE = 31.991, RMSE = 91.171, NMAE = 0.673, MRE = 0.610, NPRE = 3.698\r\n",
      "\r\n",
      "2023-02-07 06:12:57  Experiment success!\r\n",
      "\r\n"
     ]
    }
   ],
   "source": [
    "!python Experiment.py --dataset tp --interaction MF --rounds 1 --slices 5 --agg_epochs 20 --density 0.20 --part_type 5 --slices 20 --record 0"
   ],
   "metadata": {
    "collapsed": false
   }
  },
  {
   "cell_type": "code",
   "execution_count": 24,
   "outputs": [
    {
     "name": "stdout",
     "output_type": "stream",
     "text": [
      "2023-02-07 06:12:58  Experiment start!\r\n",
      "2023-02-07 06:12:58  Namespace(F=1, agg2=0, agg_decay=0.001, agg_epochs=15, agg_function=1, agg_lr=0.001, agg_type='att', att_decay=0.0001, att_lr=0.001, batch_size=128, beta=1, cluster='deep', cuda=True, dataset='tp', debug=0, density=0.2, devices='gpu', dimension=32, dir='../Dataset/mnist', dropout=0.1, epoch=1500, external_dim=64, hidden_dims=[64, 64, 100], input_dim=128, interaction='GraphMF', lamda=1, latent_dim=10, log_interval=100, lr=0.0001, n_classes=10, n_clusters=10, n_jobs=1, node2vec=0, node2vec_batchsize=32, node2vec_dim=128, node2vec_epochs=20, node2vec_length=8, node2vec_walk=15, node2vec_windows=3, num_layers=2, order=2, part_iter=20, part_type=5, path='./datasets/data/WSDREAM/', pre_epoch=1000, pretrain=True, processed=0, random_state=1001, record=0, retrain=0, rounds=1, save_model=1, slice=1, slice_decay=0.001, slice_epochs=100, slice_lr=0.001, slices=20, verbose=10, wd=0.0005)\r\n",
      "2023-02-07 06:12:58  Dataset : tp     interaction : GraphMF\r\n",
      "2023-02-07 06:12:58  Density : 20.00%, slice_epochs : 15, agg_epochs : 15\r\n",
      "2023-02-07 06:12:58  Part_type : 5,    slices : 20,       devices : gpu\r\n",
      "2023-02-07 06:12:58  Slice_lr : 0.01,    Slice_decay : 0.001\r\n",
      "2023-02-07 06:12:58  Agg_lr : 0.001,    Agg_decay : 0.001\r\n",
      "2023-02-07 06:12:58  Aggregation function : att\r\n",
      "\r\n",
      "2023-02-07 06:12:58  Round 1 experiment start!\r\n",
      "2023-02-07 06:12:58  \t原始数据集读取完毕\r\n",
      "2023-02-07 06:12:59  \t图嵌入均衡切割\r\n",
      "10 16 19 19 19 19 19 21 14 18 18 15 15 19 16 20 15 17 14 16 \r\n",
      "2023-02-07 06:12:59  \tNode2Vec 基于用户聚类均衡切割完毕\r\n",
      "2023-02-07 06:12:59  \t分切数据执行完毕\r\n",
      "2023-02-07 06:12:59  \tNeuGraphMF建图中\r\n",
      "2023-02-07 06:13:03  \tNeuGraphMF建图完毕\r\n",
      "2023-02-07 06:13:05  \t模型加载完毕\r\n",
      "2023-02-07 06:13:05  \t开始训练聚合模型\r\n",
      "2023-02-07 06:13:10  Epoch  1 : MAE : 25.2552  RMSE : 67.3061  NMAE : 0.5313  MRE : 0.4876  NPRE : 2.7034\r\n",
      "2023-02-07 06:13:14  Epoch  2 : MAE : 23.1094  RMSE : 66.1261  NMAE : 0.4862  MRE : 0.4067  NPRE : 1.8255\r\n",
      "2023-02-07 06:13:19  Epoch  3 : MAE : 21.3632  RMSE : 59.2945  NMAE : 0.4494  MRE : 0.3872  NPRE : 1.8457\r\n",
      "2023-02-07 06:13:23  Epoch  4 : MAE : 20.0059  RMSE : 57.7294  NMAE : 0.4209  MRE : 0.3539  NPRE : 1.6219\r\n",
      "2023-02-07 06:13:28  Epoch  5 : MAE : 18.8269  RMSE : 55.4373  NMAE : 0.3961  MRE : 0.3275  NPRE : 1.5178\r\n",
      "2023-02-07 06:13:32  Epoch  6 : MAE : 19.2175  RMSE : 55.4237  NMAE : 0.4043  MRE : 0.3270  NPRE : 1.4709\r\n",
      "2023-02-07 06:13:37  Epoch  7 : MAE : 17.9840  RMSE : 53.8288  NMAE : 0.3783  MRE : 0.3025  NPRE : 1.4026\r\n",
      "2023-02-07 06:13:41  Epoch  8 : MAE : 17.8565  RMSE : 53.4490  NMAE : 0.3756  MRE : 0.3115  NPRE : 1.4738\r\n",
      "2023-02-07 06:13:46  Epoch  9 : MAE : 17.9803  RMSE : 52.7489  NMAE : 0.3783  MRE : 0.3045  NPRE : 1.3676\r\n",
      "2023-02-07 06:13:50  Epoch 10 : MAE : 17.5723  RMSE : 54.7396  NMAE : 0.3697  MRE : 0.2852  NPRE : 1.2079\r\n",
      "2023-02-07 06:13:55  Epoch 11 : MAE : 16.5931  RMSE : 51.4412  NMAE : 0.3491  MRE : 0.2764  NPRE : 1.2161\r\n",
      "2023-02-07 06:13:59  Epoch 12 : MAE : 16.7829  RMSE : 51.9854  NMAE : 0.3531  MRE : 0.2804  NPRE : 1.1591\r\n",
      "2023-02-07 06:14:03  Epoch 13 : MAE : 18.3472  RMSE : 52.4870  NMAE : 0.3860  MRE : 0.3177  NPRE : 1.5121\r\n",
      "2023-02-07 06:14:08  Epoch 14 : MAE : 16.4014  RMSE : 51.3627  NMAE : 0.3450  MRE : 0.2686  NPRE : 1.2502\r\n",
      "2023-02-07 06:14:12  Epoch 15 : MAE : 16.1529  RMSE : 50.5321  NMAE : 0.3398  MRE : 0.2683  NPRE : 1.2730\r\n",
      "2023-02-07 06:14:12  Best epoch 15 : MAE : 16.1529  RMSE : 50.5321  NMAE : 0.3398  MRE : 0.2683  NPRE : 1.2730\r\n",
      "2023-02-07 06:14:12  \t实验 1 聚合模型训练完毕\r\n",
      "2023-02-07 06:14:14  Result : MAE : 16.1529  RMSE : 50.5321  NMAE : 0.3398  MRE : 0.2683  NPRE : 1.2730\r\n",
      "/home/yxzeng/anaconda3/lib/python3.8/site-packages/numpy/core/fromnumeric.py:3432: RuntimeWarning: Mean of empty slice.\r\n",
      "  return _methods._mean(a, axis=axis, dtype=dtype,\r\n",
      "/home/yxzeng/anaconda3/lib/python3.8/site-packages/numpy/core/_methods.py:190: RuntimeWarning: invalid value encountered in double_scalars\r\n",
      "  ret = ret.dtype.type(ret / rcount)\r\n",
      "2023-02-07 06:14:14  \t实验 1 : Shards training time = nan s\r\n",
      "\r\n",
      "2023-02-07 06:14:14  \t实验 1 : Aggregators training time = 38.74 s\r\n",
      "\r\n",
      "2023-02-07 06:14:14  \t聚合模型训练完毕\r\n",
      "------------------------------------------------------------------------------------------------------------------------\r\n",
      "2023-02-07 06:14:14  Dataset : tp     interaction : GraphMF\r\n",
      "2023-02-07 06:14:14  Density : 20.00%, slice_epochs : 15, agg_epochs : 15\r\n",
      "2023-02-07 06:14:14  Part_type : 5,    slices : 20,       devices : gpu\r\n",
      "\r\n",
      "\r\n",
      "2023-02-07 06:14:14  Density 20.00% : MAE = 16.153, RMSE = 50.532, NMAE = 0.340, MRE = 0.268, NPRE = 1.273\r\n",
      "\r\n",
      "2023-02-07 06:14:14  Experiment success!\r\n",
      "\r\n"
     ]
    }
   ],
   "source": [
    "!python Experiment.py --dataset tp --interaction GraphMF --rounds 1 --slices 5 --agg_epochs 15 --density 0.20 --part_type 5 --slices 20 --record 0"
   ],
   "metadata": {
    "collapsed": false
   }
  },
  {
   "cell_type": "code",
   "execution_count": 25,
   "outputs": [
    {
     "name": "stdout",
     "output_type": "stream",
     "text": [
      "2023-02-07 06:14:15  Experiment start!\r\n",
      "2023-02-07 06:14:15  Namespace(F=1, agg2=0, agg_decay=0.001, agg_epochs=12, agg_function=1, agg_lr=0.001, agg_type='mean', att_decay=0.0001, att_lr=0.001, batch_size=128, beta=1, cluster='deep', cuda=True, dataset='rt', debug=0, density=0.2, devices='gpu', dimension=32, dir='../Dataset/mnist', dropout=0.1, epoch=1500, external_dim=64, hidden_dims=[64, 64, 100], input_dim=128, interaction='NeuCF', lamda=1, latent_dim=10, log_interval=100, lr=0.0001, n_classes=10, n_clusters=10, n_jobs=1, node2vec=0, node2vec_batchsize=32, node2vec_dim=128, node2vec_epochs=20, node2vec_length=8, node2vec_walk=15, node2vec_windows=3, num_layers=2, order=2, part_iter=20, part_type=5, path='./datasets/data/WSDREAM/', pre_epoch=1000, pretrain=True, processed=0, random_state=1001, record=0, retrain=0, rounds=1, save_model=1, slice=1, slice_decay=0.001, slice_epochs=100, slice_lr=0.001, slices=5, verbose=10, wd=0.0005)\r\n",
      "2023-02-07 06:14:15  Dataset : rt     interaction : NeuCF\r\n",
      "2023-02-07 06:14:15  Density : 20.00%, slice_epochs : 100, agg_epochs : 12\r\n",
      "2023-02-07 06:14:15  Part_type : 5,    slices : 5,       devices : gpu\r\n",
      "2023-02-07 06:14:15  Slice_lr : 0.004,    Slice_decay : 0.001\r\n",
      "2023-02-07 06:14:15  Agg_lr : 0.001,    Agg_decay : 0.001\r\n",
      "2023-02-07 06:14:15  Aggregation function : mean\r\n",
      "\r\n",
      "2023-02-07 06:14:15  Round 1 experiment start!\r\n",
      "2023-02-07 06:14:15  \t原始数据集读取完毕\r\n",
      "2023-02-07 06:14:16  \t图嵌入均衡切割\r\n",
      "42 45 78 89 85 \r\n",
      "2023-02-07 06:14:16  \tNode2Vec 基于用户聚类均衡切割完毕\r\n",
      "2023-02-07 06:14:16  \t分切数据执行完毕\r\n",
      "2023-02-07 06:14:18  \t模型加载完毕\r\n",
      "2023-02-07 06:14:18  \t开始训练聚合模型\r\n",
      "2023-02-07 06:14:24  Epoch  1 : MAE : 0.4758  RMSE : 1.3967  NMAE : 0.5226  MRE : 0.4075  NPRE : 2.0417\r\n",
      "2023-02-07 06:14:29  Epoch  2 : MAE : 0.4476  RMSE : 1.3655  NMAE : 0.4917  MRE : 0.3734  NPRE : 1.5975\r\n",
      "2023-02-07 06:14:34  Epoch  3 : MAE : 0.4371  RMSE : 1.3516  NMAE : 0.4801  MRE : 0.3741  NPRE : 1.2646\r\n",
      "2023-02-07 06:14:39  Epoch  4 : MAE : 0.4284  RMSE : 1.3365  NMAE : 0.4706  MRE : 0.3538  NPRE : 1.6845\r\n",
      "2023-02-07 06:14:45  Epoch  5 : MAE : 0.4219  RMSE : 1.3305  NMAE : 0.4634  MRE : 0.3428  NPRE : 1.6957\r\n",
      "2023-02-07 06:14:50  Epoch  6 : MAE : 0.4217  RMSE : 1.3367  NMAE : 0.4632  MRE : 0.3574  NPRE : 1.0928\r\n",
      "2023-02-07 06:14:55  Epoch  7 : MAE : 0.4152  RMSE : 1.3277  NMAE : 0.4561  MRE : 0.3362  NPRE : 1.4383\r\n",
      "2023-02-07 06:15:00  Epoch  8 : MAE : 0.4118  RMSE : 1.3220  NMAE : 0.4524  MRE : 0.3289  NPRE : 1.4408\r\n",
      "2023-02-07 06:15:05  Epoch  9 : MAE : 0.4109  RMSE : 1.3218  NMAE : 0.4513  MRE : 0.3298  NPRE : 1.5961\r\n",
      "2023-02-07 06:15:11  Epoch 10 : MAE : 0.4092  RMSE : 1.3162  NMAE : 0.4495  MRE : 0.3294  NPRE : 1.6739\r\n",
      "2023-02-07 06:15:16  Epoch 11 : MAE : 0.4060  RMSE : 1.3176  NMAE : 0.4460  MRE : 0.3343  NPRE : 1.2220\r\n",
      "2023-02-07 06:15:21  Epoch 12 : MAE : 0.4044  RMSE : 1.3191  NMAE : 0.4442  MRE : 0.3210  NPRE : 1.4773\r\n",
      "2023-02-07 06:15:21  Best epoch 12 : MAE : 0.4044  RMSE : 1.3191  NMAE : 0.4442  MRE : 0.3210  NPRE : 1.4773\r\n",
      "2023-02-07 06:15:21  \t实验 1 聚合模型训练完毕\r\n",
      "2023-02-07 06:15:23  Result : MAE : 0.4042  RMSE : 1.3185  NMAE : 0.4440  MRE : 0.3214  NPRE : 1.4790\r\n",
      "/home/yxzeng/anaconda3/lib/python3.8/site-packages/numpy/core/fromnumeric.py:3432: RuntimeWarning: Mean of empty slice.\r\n",
      "  return _methods._mean(a, axis=axis, dtype=dtype,\r\n",
      "/home/yxzeng/anaconda3/lib/python3.8/site-packages/numpy/core/_methods.py:190: RuntimeWarning: invalid value encountered in double_scalars\r\n",
      "  ret = ret.dtype.type(ret / rcount)\r\n",
      "2023-02-07 06:15:23  \t实验 1 : Shards training time = nan s\r\n",
      "\r\n",
      "2023-02-07 06:15:23  \t实验 1 : Aggregators training time = 40.74 s\r\n",
      "\r\n",
      "2023-02-07 06:15:23  \t聚合模型训练完毕\r\n",
      "------------------------------------------------------------------------------------------------------------------------\r\n",
      "2023-02-07 06:15:23  Dataset : rt     interaction : NeuCF\r\n",
      "2023-02-07 06:15:23  Density : 20.00%, slice_epochs : 100, agg_epochs : 12\r\n",
      "2023-02-07 06:15:23  Part_type : 5,    slices : 5,       devices : gpu\r\n",
      "\r\n",
      "\r\n",
      "2023-02-07 06:15:23  Density 20.00% : MAE = 0.404, RMSE = 1.318, NMAE = 0.444, MRE = 0.321, NPRE = 1.479\r\n",
      "\r\n",
      "2023-02-07 06:15:23  Experiment success!\r\n",
      "\r\n"
     ]
    }
   ],
   "source": [
    "!python Experiment.py --dataset rt --interaction NeuCF --rounds 1 --slices 5 --agg_epochs 12 --density 0.20 --part_type 5 --agg_type mean --record 0"
   ],
   "metadata": {
    "collapsed": false
   }
  },
  {
   "cell_type": "code",
   "execution_count": 26,
   "outputs": [
    {
     "name": "stdout",
     "output_type": "stream",
     "text": [
      "2023-02-07 06:15:24  Experiment start!\r\n",
      "2023-02-07 06:15:24  Namespace(F=1, agg2=0, agg_decay=0.001, agg_epochs=15, agg_function=1, agg_lr=0.001, agg_type='mean', att_decay=0.0001, att_lr=0.001, batch_size=128, beta=1, cluster='deep', cuda=True, dataset='rt', debug=0, density=0.2, devices='gpu', dimension=32, dir='../Dataset/mnist', dropout=0.1, epoch=1500, external_dim=64, hidden_dims=[64, 64, 100], input_dim=128, interaction='CSMF', lamda=1, latent_dim=10, log_interval=100, lr=0.0001, n_classes=10, n_clusters=10, n_jobs=1, node2vec=0, node2vec_batchsize=32, node2vec_dim=128, node2vec_epochs=20, node2vec_length=8, node2vec_walk=15, node2vec_windows=3, num_layers=2, order=2, part_iter=20, part_type=5, path='./datasets/data/WSDREAM/', pre_epoch=1000, pretrain=True, processed=0, random_state=1001, record=0, retrain=0, rounds=1, save_model=1, slice=1, slice_decay=0.001, slice_epochs=100, slice_lr=0.001, slices=5, verbose=10, wd=0.0005)\r\n",
      "2023-02-07 06:15:24  Dataset : rt     interaction : CSMF\r\n",
      "2023-02-07 06:15:24  Density : 20.00%, slice_epochs : 100, agg_epochs : 15\r\n",
      "2023-02-07 06:15:24  Part_type : 5,    slices : 5,       devices : gpu\r\n",
      "2023-02-07 06:15:24  Slice_lr : 0.01,    Slice_decay : 0.001\r\n",
      "2023-02-07 06:15:24  Agg_lr : 0.008,    Agg_decay : 0.001\r\n",
      "2023-02-07 06:15:24  Aggregation function : mean\r\n",
      "\r\n",
      "2023-02-07 06:15:24  Round 1 experiment start!\r\n",
      "2023-02-07 06:15:24  \t原始数据集读取完毕\r\n",
      "2023-02-07 06:15:25  \t图嵌入均衡切割\r\n",
      "42 45 78 89 85 \r\n",
      "2023-02-07 06:15:25  \tNode2Vec 基于用户聚类均衡切割完毕\r\n",
      "2023-02-07 06:15:25  \t分切数据执行完毕\r\n",
      "2023-02-07 06:15:27  \t模型加载完毕\r\n",
      "2023-02-07 06:15:27  \t开始训练聚合模型\r\n",
      "2023-02-07 06:15:31  Epoch  1 : MAE : 0.5795  RMSE : 1.6378  NMAE : 0.6366  MRE : 0.4659  NPRE : 1.8631\r\n",
      "2023-02-07 06:15:35  Epoch  2 : MAE : 0.5648  RMSE : 1.5778  NMAE : 0.6204  MRE : 0.4625  NPRE : 2.2476\r\n",
      "2023-02-07 06:15:39  Epoch  3 : MAE : 0.5628  RMSE : 1.5923  NMAE : 0.6183  MRE : 0.4539  NPRE : 1.9084\r\n",
      "2023-02-07 06:15:43  Epoch  4 : MAE : 0.5610  RMSE : 1.5606  NMAE : 0.6163  MRE : 0.4571  NPRE : 2.1797\r\n",
      "2023-02-07 06:15:47  Epoch  5 : MAE : 0.5580  RMSE : 1.5762  NMAE : 0.6130  MRE : 0.4496  NPRE : 2.0561\r\n",
      "2023-02-07 06:15:51  Epoch  6 : MAE : 0.5560  RMSE : 1.5677  NMAE : 0.6108  MRE : 0.4503  NPRE : 2.2428\r\n",
      "2023-02-07 06:15:55  Epoch  7 : MAE : 0.5555  RMSE : 1.5618  NMAE : 0.6102  MRE : 0.4504  NPRE : 2.0983\r\n",
      "2023-02-07 06:15:59  Epoch  8 : MAE : 0.5568  RMSE : 1.5708  NMAE : 0.6116  MRE : 0.4504  NPRE : 2.1506\r\n",
      "2023-02-07 06:16:03  Epoch  9 : MAE : 0.5542  RMSE : 1.5559  NMAE : 0.6088  MRE : 0.4493  NPRE : 2.3113\r\n",
      "2023-02-07 06:16:07  Epoch 10 : MAE : 0.5534  RMSE : 1.5683  NMAE : 0.6079  MRE : 0.4460  NPRE : 1.9888\r\n",
      "2023-02-07 06:16:11  Epoch 11 : MAE : 0.5532  RMSE : 1.5618  NMAE : 0.6077  MRE : 0.4451  NPRE : 2.0574\r\n",
      "2023-02-07 06:16:15  Epoch 12 : MAE : 0.5520  RMSE : 1.5628  NMAE : 0.6064  MRE : 0.4439  NPRE : 2.0996\r\n",
      "2023-02-07 06:16:19  Epoch 13 : MAE : 0.5533  RMSE : 1.5668  NMAE : 0.6078  MRE : 0.4447  NPRE : 1.8847\r\n",
      "2023-02-07 06:16:23  Epoch 14 : MAE : 0.5537  RMSE : 1.5545  NMAE : 0.6083  MRE : 0.4486  NPRE : 2.2184\r\n",
      "2023-02-07 06:16:26  Epoch 15 : MAE : 0.5526  RMSE : 1.5671  NMAE : 0.6070  MRE : 0.4443  NPRE : 2.0882\r\n",
      "2023-02-07 06:16:26  Best epoch 12 : MAE : 0.5520  RMSE : 1.5628  NMAE : 0.6064  MRE : 0.4439  NPRE : 2.0996\r\n",
      "2023-02-07 06:16:26  \t实验 1 聚合模型训练完毕\r\n",
      "2023-02-07 06:16:28  Result : MAE : 0.5520  RMSE : 1.5628  NMAE : 0.6064  MRE : 0.4439  NPRE : 2.0996\r\n",
      "/home/yxzeng/anaconda3/lib/python3.8/site-packages/numpy/core/fromnumeric.py:3432: RuntimeWarning: Mean of empty slice.\r\n",
      "  return _methods._mean(a, axis=axis, dtype=dtype,\r\n",
      "/home/yxzeng/anaconda3/lib/python3.8/site-packages/numpy/core/_methods.py:190: RuntimeWarning: invalid value encountered in double_scalars\r\n",
      "  ret = ret.dtype.type(ret / rcount)\r\n",
      "2023-02-07 06:16:28  \t实验 1 : Shards training time = nan s\r\n",
      "\r\n",
      "2023-02-07 06:16:28  \t实验 1 : Aggregators training time = 25.41 s\r\n",
      "\r\n",
      "2023-02-07 06:16:28  \t聚合模型训练完毕\r\n",
      "------------------------------------------------------------------------------------------------------------------------\r\n",
      "2023-02-07 06:16:28  Dataset : rt     interaction : CSMF\r\n",
      "2023-02-07 06:16:28  Density : 20.00%, slice_epochs : 100, agg_epochs : 15\r\n",
      "2023-02-07 06:16:28  Part_type : 5,    slices : 5,       devices : gpu\r\n",
      "\r\n",
      "\r\n",
      "2023-02-07 06:16:28  Density 20.00% : MAE = 0.552, RMSE = 1.563, NMAE = 0.606, MRE = 0.444, NPRE = 2.100\r\n",
      "\r\n",
      "2023-02-07 06:16:28  Experiment success!\r\n",
      "\r\n"
     ]
    }
   ],
   "source": [
    "!python Experiment.py --dataset rt --interaction CSMF --rounds 1 --slices 5 --agg_epochs 15 --density 0.20 --part_type 5 --agg_type mean --record 0"
   ],
   "metadata": {
    "collapsed": false
   }
  },
  {
   "cell_type": "code",
   "execution_count": 27,
   "outputs": [
    {
     "name": "stdout",
     "output_type": "stream",
     "text": [
      "2023-02-07 06:16:29  Experiment start!\r\n",
      "2023-02-07 06:16:29  Namespace(F=1, agg2=0, agg_decay=0.001, agg_epochs=15, agg_function=1, agg_lr=0.001, agg_type='mean', att_decay=0.0001, att_lr=0.001, batch_size=128, beta=1, cluster='deep', cuda=True, dataset='rt', debug=0, density=0.2, devices='gpu', dimension=32, dir='../Dataset/mnist', dropout=0.1, epoch=1500, external_dim=64, hidden_dims=[64, 64, 100], input_dim=128, interaction='MF', lamda=1, latent_dim=10, log_interval=100, lr=0.0001, n_classes=10, n_clusters=10, n_jobs=1, node2vec=0, node2vec_batchsize=32, node2vec_dim=128, node2vec_epochs=20, node2vec_length=8, node2vec_walk=15, node2vec_windows=3, num_layers=2, order=2, part_iter=20, part_type=5, path='./datasets/data/WSDREAM/', pre_epoch=1000, pretrain=True, processed=0, random_state=1001, record=0, retrain=0, rounds=1, save_model=1, slice=1, slice_decay=0.001, slice_epochs=100, slice_lr=0.001, slices=5, verbose=10, wd=0.0005)\r\n",
      "2023-02-07 06:16:29  Dataset : rt     interaction : MF\r\n",
      "2023-02-07 06:16:29  Density : 20.00%, slice_epochs : 100, agg_epochs : 15\r\n",
      "2023-02-07 06:16:29  Part_type : 5,    slices : 5,       devices : gpu\r\n",
      "2023-02-07 06:16:29  Slice_lr : 0.008,    Slice_decay : 0.001\r\n",
      "2023-02-07 06:16:29  Agg_lr : 0.001,    Agg_decay : 0.001\r\n",
      "2023-02-07 06:16:29  Aggregation function : mean\r\n",
      "\r\n",
      "2023-02-07 06:16:29  Round 1 experiment start!\r\n",
      "2023-02-07 06:16:29  \t原始数据集读取完毕\r\n",
      "2023-02-07 06:16:30  \t图嵌入均衡切割\r\n",
      "42 45 78 89 85 \r\n",
      "2023-02-07 06:16:30  \tNode2Vec 基于用户聚类均衡切割完毕\r\n",
      "2023-02-07 06:16:30  \t分切数据执行完毕\r\n",
      "2023-02-07 06:16:32  \t模型加载完毕\r\n",
      "2023-02-07 06:16:32  \t开始训练聚合模型\r\n",
      "2023-02-07 06:16:36  Epoch  1 : MAE : 0.7421  RMSE : 2.0319  NMAE : 0.8153  MRE : 0.6602  NPRE : 3.0369\r\n",
      "2023-02-07 06:16:40  Epoch  2 : MAE : 0.7413  RMSE : 2.0257  NMAE : 0.8143  MRE : 0.6651  NPRE : 3.1454\r\n",
      "2023-02-07 06:16:43  Epoch  3 : MAE : 0.7412  RMSE : 2.0241  NMAE : 0.8142  MRE : 0.6658  NPRE : 3.1264\r\n",
      "2023-02-07 06:16:47  Epoch  4 : MAE : 0.7413  RMSE : 2.0264  NMAE : 0.8143  MRE : 0.6640  NPRE : 3.1115\r\n",
      "2023-02-07 06:16:51  Epoch  5 : MAE : 0.7412  RMSE : 2.0247  NMAE : 0.8142  MRE : 0.6670  NPRE : 3.1481\r\n",
      "2023-02-07 06:16:55  Epoch  6 : MAE : 0.7413  RMSE : 2.0234  NMAE : 0.8143  MRE : 0.6693  NPRE : 3.1968\r\n",
      "2023-02-07 06:16:58  Epoch  7 : MAE : 0.7411  RMSE : 2.0256  NMAE : 0.8141  MRE : 0.6633  NPRE : 3.0969\r\n",
      "2023-02-07 06:17:02  Epoch  8 : MAE : 0.7412  RMSE : 2.0246  NMAE : 0.8142  MRE : 0.6685  NPRE : 3.2064\r\n",
      "2023-02-07 06:17:05  Epoch  9 : MAE : 0.7413  RMSE : 2.0233  NMAE : 0.8144  MRE : 0.6689  NPRE : 3.1943\r\n",
      "2023-02-07 06:17:09  Epoch 10 : MAE : 0.7411  RMSE : 2.0243  NMAE : 0.8141  MRE : 0.6644  NPRE : 3.0894\r\n",
      "2023-02-07 06:17:13  Epoch 11 : MAE : 0.7414  RMSE : 2.0248  NMAE : 0.8145  MRE : 0.6672  NPRE : 3.1722\r\n",
      "2023-02-07 06:17:16  Epoch 12 : MAE : 0.7412  RMSE : 2.0245  NMAE : 0.8142  MRE : 0.6662  NPRE : 3.1028\r\n",
      "2023-02-07 06:17:20  Epoch 13 : MAE : 0.7417  RMSE : 2.0219  NMAE : 0.8147  MRE : 0.6712  NPRE : 3.2338\r\n",
      "2023-02-07 06:17:24  Epoch 14 : MAE : 0.7410  RMSE : 2.0269  NMAE : 0.8140  MRE : 0.6603  NPRE : 3.0459\r\n",
      "2023-02-07 06:17:28  Epoch 15 : MAE : 0.7415  RMSE : 2.0250  NMAE : 0.8146  MRE : 0.6670  NPRE : 3.1776\r\n",
      "2023-02-07 06:17:28  Best epoch 14 : MAE : 0.7410  RMSE : 2.0269  NMAE : 0.8140  MRE : 0.6603  NPRE : 3.0459\r\n",
      "2023-02-07 06:17:28  \t实验 1 聚合模型训练完毕\r\n",
      "2023-02-07 06:17:29  Result : MAE : 0.7410  RMSE : 2.0269  NMAE : 0.8140  MRE : 0.6603  NPRE : 3.0459\r\n",
      "/home/yxzeng/anaconda3/lib/python3.8/site-packages/numpy/core/fromnumeric.py:3432: RuntimeWarning: Mean of empty slice.\r\n",
      "  return _methods._mean(a, axis=axis, dtype=dtype,\r\n",
      "/home/yxzeng/anaconda3/lib/python3.8/site-packages/numpy/core/_methods.py:190: RuntimeWarning: invalid value encountered in double_scalars\r\n",
      "  ret = ret.dtype.type(ret / rcount)\r\n",
      "2023-02-07 06:17:29  \t实验 1 : Shards training time = nan s\r\n",
      "\r\n",
      "2023-02-07 06:17:29  \t实验 1 : Aggregators training time = 26.26 s\r\n",
      "\r\n",
      "2023-02-07 06:17:29  \t聚合模型训练完毕\r\n",
      "------------------------------------------------------------------------------------------------------------------------\r\n",
      "2023-02-07 06:17:30  Dataset : rt     interaction : MF\r\n",
      "2023-02-07 06:17:30  Density : 20.00%, slice_epochs : 100, agg_epochs : 15\r\n",
      "2023-02-07 06:17:30  Part_type : 5,    slices : 5,       devices : gpu\r\n",
      "\r\n",
      "\r\n",
      "2023-02-07 06:17:30  Density 20.00% : MAE = 0.741, RMSE = 2.027, NMAE = 0.814, MRE = 0.660, NPRE = 3.046\r\n",
      "\r\n",
      "2023-02-07 06:17:30  Experiment success!\r\n",
      "\r\n"
     ]
    }
   ],
   "source": [
    "!python Experiment.py --dataset rt --interaction MF --rounds 1 --slices 5 --agg_epochs 15 --density 0.20 --part_type 5 --agg_type mean --record 0"
   ],
   "metadata": {
    "collapsed": false
   }
  },
  {
   "cell_type": "code",
   "execution_count": 28,
   "outputs": [
    {
     "name": "stdout",
     "output_type": "stream",
     "text": [
      "2023-02-07 06:17:31  Experiment start!\r\n",
      "2023-02-07 06:17:31  Namespace(F=1, agg2=0, agg_decay=0.001, agg_epochs=12, agg_function=1, agg_lr=0.001, agg_type='mean', att_decay=0.0001, att_lr=0.001, batch_size=128, beta=1, cluster='deep', cuda=True, dataset='rt', debug=0, density=0.2, devices='gpu', dimension=32, dir='../Dataset/mnist', dropout=0.1, epoch=1500, external_dim=64, hidden_dims=[64, 64, 100], input_dim=128, interaction='GraphMF', lamda=1, latent_dim=10, log_interval=100, lr=0.0001, n_classes=10, n_clusters=10, n_jobs=1, node2vec=0, node2vec_batchsize=32, node2vec_dim=128, node2vec_epochs=20, node2vec_length=8, node2vec_walk=15, node2vec_windows=3, num_layers=2, order=2, part_iter=20, part_type=5, path='./datasets/data/WSDREAM/', pre_epoch=1000, pretrain=True, processed=0, random_state=1001, record=0, retrain=0, rounds=1, save_model=1, slice=1, slice_decay=0.001, slice_epochs=100, slice_lr=0.001, slices=5, verbose=10, wd=0.0005)\r\n",
      "2023-02-07 06:17:31  Dataset : rt     interaction : GraphMF\r\n",
      "2023-02-07 06:17:31  Density : 20.00%, slice_epochs : 15, agg_epochs : 12\r\n",
      "2023-02-07 06:17:31  Part_type : 5,    slices : 5,       devices : gpu\r\n",
      "2023-02-07 06:17:31  Slice_lr : 0.01,    Slice_decay : 0.001\r\n",
      "2023-02-07 06:17:31  Agg_lr : 0.001,    Agg_decay : 0.001\r\n",
      "2023-02-07 06:17:31  Aggregation function : mean\r\n",
      "\r\n",
      "2023-02-07 06:17:31  Round 1 experiment start!\r\n",
      "2023-02-07 06:17:31  \t原始数据集读取完毕\r\n",
      "2023-02-07 06:17:31  \t图嵌入均衡切割\r\n",
      "42 45 78 89 85 \r\n",
      "2023-02-07 06:17:31  \tNode2Vec 基于用户聚类均衡切割完毕\r\n",
      "2023-02-07 06:17:31  \t分切数据执行完毕\r\n",
      "2023-02-07 06:17:31  \tNeuGraphMF建图中\r\n",
      "2023-02-07 06:17:35  \tNeuGraphMF建图完毕\r\n",
      "2023-02-07 06:17:37  \t模型加载完毕\r\n",
      "2023-02-07 06:17:37  \t开始训练聚合模型\r\n",
      "2023-02-07 06:17:42  Epoch  1 : MAE : 0.5408  RMSE : 1.5131  NMAE : 0.5941  MRE : 0.4177  NPRE : 2.3798\r\n",
      "2023-02-07 06:17:46  Epoch  2 : MAE : 0.4749  RMSE : 1.4409  NMAE : 0.5217  MRE : 0.3488  NPRE : 1.8586\r\n",
      "2023-02-07 06:17:50  Epoch  3 : MAE : 0.4368  RMSE : 1.3714  NMAE : 0.4798  MRE : 0.3196  NPRE : 1.5474\r\n",
      "2023-02-07 06:17:54  Epoch  4 : MAE : 0.4120  RMSE : 1.3155  NMAE : 0.4525  MRE : 0.3047  NPRE : 1.4776\r\n",
      "2023-02-07 06:17:58  Epoch  5 : MAE : 0.3909  RMSE : 1.2887  NMAE : 0.4294  MRE : 0.2894  NPRE : 1.2493\r\n",
      "2023-02-07 06:18:02  Epoch  6 : MAE : 0.3829  RMSE : 1.2740  NMAE : 0.4206  MRE : 0.2804  NPRE : 1.2372\r\n",
      "2023-02-07 06:18:06  Epoch  7 : MAE : 0.3776  RMSE : 1.2705  NMAE : 0.4148  MRE : 0.2721  NPRE : 1.2005\r\n",
      "2023-02-07 06:18:09  Epoch  8 : MAE : 0.3736  RMSE : 1.2715  NMAE : 0.4104  MRE : 0.2644  NPRE : 1.0482\r\n",
      "2023-02-07 06:18:14  Epoch  9 : MAE : 0.3708  RMSE : 1.2648  NMAE : 0.4073  MRE : 0.2591  NPRE : 1.1397\r\n",
      "2023-02-07 06:18:18  Epoch 10 : MAE : 0.3676  RMSE : 1.2618  NMAE : 0.4038  MRE : 0.2537  NPRE : 1.0765\r\n",
      "2023-02-07 06:18:22  Epoch 11 : MAE : 0.3664  RMSE : 1.2580  NMAE : 0.4026  MRE : 0.2514  NPRE : 1.0698\r\n",
      "2023-02-07 06:18:26  Epoch 12 : MAE : 0.3652  RMSE : 1.2600  NMAE : 0.4012  MRE : 0.2476  NPRE : 1.0161\r\n",
      "2023-02-07 06:18:26  Best epoch 12 : MAE : 0.3652  RMSE : 1.2600  NMAE : 0.4012  MRE : 0.2476  NPRE : 1.0161\r\n",
      "2023-02-07 06:18:26  \t实验 1 聚合模型训练完毕\r\n",
      "2023-02-07 06:18:28  Result : MAE : 0.3652  RMSE : 1.2600  NMAE : 0.4012  MRE : 0.2476  NPRE : 1.0161\r\n",
      "/home/yxzeng/anaconda3/lib/python3.8/site-packages/numpy/core/fromnumeric.py:3432: RuntimeWarning: Mean of empty slice.\r\n",
      "  return _methods._mean(a, axis=axis, dtype=dtype,\r\n",
      "/home/yxzeng/anaconda3/lib/python3.8/site-packages/numpy/core/_methods.py:190: RuntimeWarning: invalid value encountered in double_scalars\r\n",
      "  ret = ret.dtype.type(ret / rcount)\r\n",
      "2023-02-07 06:18:28  \t实验 1 : Shards training time = nan s\r\n",
      "\r\n",
      "2023-02-07 06:18:28  \t实验 1 : Aggregators training time = 26.06 s\r\n",
      "\r\n",
      "2023-02-07 06:18:28  \t聚合模型训练完毕\r\n",
      "------------------------------------------------------------------------------------------------------------------------\r\n",
      "2023-02-07 06:18:28  Dataset : rt     interaction : GraphMF\r\n",
      "2023-02-07 06:18:28  Density : 20.00%, slice_epochs : 15, agg_epochs : 12\r\n",
      "2023-02-07 06:18:28  Part_type : 5,    slices : 5,       devices : gpu\r\n",
      "\r\n",
      "\r\n",
      "2023-02-07 06:18:28  Density 20.00% : MAE = 0.365, RMSE = 1.260, NMAE = 0.401, MRE = 0.248, NPRE = 1.016\r\n",
      "\r\n",
      "2023-02-07 06:18:28  Experiment success!\r\n",
      "\r\n"
     ]
    }
   ],
   "source": [
    "!python Experiment.py --dataset rt --interaction GraphMF --rounds 1 --slices 5 --agg_epochs 12 --density 0.20 --part_type 5 --agg_type mean --record 0"
   ],
   "metadata": {
    "collapsed": false
   }
  },
  {
   "cell_type": "code",
   "execution_count": 29,
   "outputs": [
    {
     "name": "stdout",
     "output_type": "stream",
     "text": [
      "2023-02-07 06:18:29  Experiment start!\r\n",
      "2023-02-07 06:18:29  Namespace(F=1, agg2=0, agg_decay=0.001, agg_epochs=15, agg_function=1, agg_lr=0.001, agg_type='mean', att_decay=0.0001, att_lr=0.001, batch_size=128, beta=1, cluster='deep', cuda=True, dataset='tp', debug=0, density=0.2, devices='gpu', dimension=32, dir='../Dataset/mnist', dropout=0.1, epoch=1500, external_dim=64, hidden_dims=[64, 64, 100], input_dim=128, interaction='NeuCF', lamda=1, latent_dim=10, log_interval=100, lr=0.0001, n_classes=10, n_clusters=10, n_jobs=1, node2vec=0, node2vec_batchsize=32, node2vec_dim=128, node2vec_epochs=20, node2vec_length=8, node2vec_walk=15, node2vec_windows=3, num_layers=2, order=2, part_iter=20, part_type=5, path='./datasets/data/WSDREAM/', pre_epoch=1000, pretrain=True, processed=0, random_state=1001, record=0, retrain=0, rounds=1, save_model=1, slice=1, slice_decay=0.001, slice_epochs=100, slice_lr=0.001, slices=5, verbose=10, wd=0.0005)\r\n",
      "2023-02-07 06:18:29  Dataset : tp     interaction : NeuCF\r\n",
      "2023-02-07 06:18:29  Density : 20.00%, slice_epochs : 100, agg_epochs : 15\r\n",
      "2023-02-07 06:18:29  Part_type : 5,    slices : 5,       devices : gpu\r\n",
      "2023-02-07 06:18:29  Slice_lr : 0.004,    Slice_decay : 0.001\r\n",
      "2023-02-07 06:18:29  Agg_lr : 0.001,    Agg_decay : 0.001\r\n",
      "2023-02-07 06:18:29  Aggregation function : mean\r\n",
      "\r\n",
      "2023-02-07 06:18:29  Round 1 experiment start!\r\n",
      "2023-02-07 06:18:29  \t原始数据集读取完毕\r\n",
      "2023-02-07 06:18:29  \t图嵌入均衡切割\r\n",
      "42 45 78 89 85 \r\n",
      "2023-02-07 06:18:29  \tNode2Vec 基于用户聚类均衡切割完毕\r\n",
      "2023-02-07 06:18:29  \t分切数据执行完毕\r\n",
      "2023-02-07 06:18:31  \t模型加载完毕\r\n",
      "2023-02-07 06:18:31  \t开始训练聚合模型\r\n",
      "2023-02-07 06:18:37  Epoch  1 : MAE : 20.3351  RMSE : 57.6838  NMAE : 0.4278  MRE : 0.4275  NPRE : 1.2814\r\n",
      "2023-02-07 06:18:42  Epoch  2 : MAE : 19.0551  RMSE : 54.6631  NMAE : 0.4009  MRE : 0.3667  NPRE : 1.7794\r\n",
      "2023-02-07 06:18:47  Epoch  3 : MAE : 18.0983  RMSE : 52.7499  NMAE : 0.3807  MRE : 0.3631  NPRE : 1.1986\r\n",
      "2023-02-07 06:18:52  Epoch  4 : MAE : 17.7182  RMSE : 52.2012  NMAE : 0.3727  MRE : 0.3407  NPRE : 2.0107\r\n",
      "2023-02-07 06:18:58  Epoch  5 : MAE : 17.3893  RMSE : 51.3312  NMAE : 0.3658  MRE : 0.3423  NPRE : 1.2831\r\n",
      "2023-02-07 06:19:03  Epoch  6 : MAE : 17.2691  RMSE : 51.2917  NMAE : 0.3633  MRE : 0.3326  NPRE : 1.3440\r\n",
      "2023-02-07 06:19:08  Epoch  7 : MAE : 17.0209  RMSE : 50.0890  NMAE : 0.3581  MRE : 0.3350  NPRE : 1.3245\r\n",
      "2023-02-07 06:19:13  Epoch  8 : MAE : 16.9511  RMSE : 50.2342  NMAE : 0.3566  MRE : 0.3303  NPRE : 1.8837\r\n",
      "2023-02-07 06:19:18  Epoch  9 : MAE : 16.7700  RMSE : 49.8076  NMAE : 0.3528  MRE : 0.3243  NPRE : 1.5501\r\n",
      "2023-02-07 06:19:24  Epoch 10 : MAE : 16.7404  RMSE : 49.7182  NMAE : 0.3522  MRE : 0.3436  NPRE : 1.0129\r\n",
      "2023-02-07 06:19:29  Epoch 11 : MAE : 16.5900  RMSE : 49.7706  NMAE : 0.3490  MRE : 0.3160  NPRE : 1.6776\r\n",
      "2023-02-07 06:19:34  Epoch 12 : MAE : 16.5254  RMSE : 49.3560  NMAE : 0.3476  MRE : 0.3234  NPRE : 1.3711\r\n",
      "2023-02-07 06:19:39  Epoch 13 : MAE : 16.5683  RMSE : 49.5641  NMAE : 0.3485  MRE : 0.3193  NPRE : 1.2401\r\n",
      "2023-02-07 06:19:44  Epoch 14 : MAE : 16.4898  RMSE : 49.6607  NMAE : 0.3469  MRE : 0.3109  NPRE : 1.6863\r\n",
      "2023-02-07 06:19:49  Epoch 15 : MAE : 16.4476  RMSE : 49.5087  NMAE : 0.3460  MRE : 0.3115  NPRE : 1.6192\r\n",
      "2023-02-07 06:19:49  Best epoch 15 : MAE : 16.4476  RMSE : 49.5087  NMAE : 0.3460  MRE : 0.3115  NPRE : 1.6192\r\n",
      "2023-02-07 06:19:49  \t实验 1 聚合模型训练完毕\r\n",
      "2023-02-07 06:19:51  Result : MAE : 16.4461  RMSE : 49.5107  NMAE : 0.3460  MRE : 0.3112  NPRE : 1.6209\r\n",
      "/home/yxzeng/anaconda3/lib/python3.8/site-packages/numpy/core/fromnumeric.py:3432: RuntimeWarning: Mean of empty slice.\r\n",
      "  return _methods._mean(a, axis=axis, dtype=dtype,\r\n",
      "/home/yxzeng/anaconda3/lib/python3.8/site-packages/numpy/core/_methods.py:190: RuntimeWarning: invalid value encountered in double_scalars\r\n",
      "  ret = ret.dtype.type(ret / rcount)\r\n",
      "2023-02-07 06:19:51  \t实验 1 : Shards training time = nan s\r\n",
      "\r\n",
      "2023-02-07 06:19:51  \t实验 1 : Aggregators training time = 49.58 s\r\n",
      "\r\n",
      "2023-02-07 06:19:51  \t聚合模型训练完毕\r\n",
      "------------------------------------------------------------------------------------------------------------------------\r\n",
      "2023-02-07 06:19:51  Dataset : tp     interaction : NeuCF\r\n",
      "2023-02-07 06:19:51  Density : 20.00%, slice_epochs : 100, agg_epochs : 15\r\n",
      "2023-02-07 06:19:51  Part_type : 5,    slices : 5,       devices : gpu\r\n",
      "\r\n",
      "\r\n",
      "2023-02-07 06:19:51  Density 20.00% : MAE = 16.446, RMSE = 49.511, NMAE = 0.346, MRE = 0.311, NPRE = 1.621\r\n",
      "\r\n",
      "2023-02-07 06:19:51  Experiment success!\r\n",
      "\r\n"
     ]
    }
   ],
   "source": [
    "!python Experiment.py --dataset tp --interaction NeuCF --rounds 1 --slices 5 --agg_epochs 15 --density 0.20 --part_type 5 --agg_type mean --record 0"
   ],
   "metadata": {
    "collapsed": false
   }
  },
  {
   "cell_type": "code",
   "execution_count": 30,
   "outputs": [
    {
     "name": "stdout",
     "output_type": "stream",
     "text": [
      "2023-02-07 06:19:52  Experiment start!\r\n",
      "2023-02-07 06:19:52  Namespace(F=1, agg2=0, agg_decay=0.001, agg_epochs=20, agg_function=1, agg_lr=0.001, agg_type='mean', att_decay=0.0001, att_lr=0.001, batch_size=128, beta=1, cluster='deep', cuda=True, dataset='tp', debug=0, density=0.2, devices='gpu', dimension=32, dir='../Dataset/mnist', dropout=0.1, epoch=1500, external_dim=64, hidden_dims=[64, 64, 100], input_dim=128, interaction='CSMF', lamda=1, latent_dim=10, log_interval=100, lr=0.0001, n_classes=10, n_clusters=10, n_jobs=1, node2vec=0, node2vec_batchsize=32, node2vec_dim=128, node2vec_epochs=20, node2vec_length=8, node2vec_walk=15, node2vec_windows=3, num_layers=2, order=2, part_iter=20, part_type=5, path='./datasets/data/WSDREAM/', pre_epoch=1000, pretrain=True, processed=0, random_state=1001, record=0, retrain=0, rounds=1, save_model=1, slice=1, slice_decay=0.001, slice_epochs=100, slice_lr=0.001, slices=5, verbose=10, wd=0.0005)\r\n",
      "2023-02-07 06:19:52  Dataset : tp     interaction : CSMF\r\n",
      "2023-02-07 06:19:52  Density : 20.00%, slice_epochs : 100, agg_epochs : 20\r\n",
      "2023-02-07 06:19:52  Part_type : 5,    slices : 5,       devices : gpu\r\n",
      "2023-02-07 06:19:52  Slice_lr : 0.01,    Slice_decay : 0.001\r\n",
      "2023-02-07 06:19:52  Agg_lr : 0.008,    Agg_decay : 0.001\r\n",
      "2023-02-07 06:19:52  Aggregation function : mean\r\n",
      "\r\n",
      "2023-02-07 06:19:52  Round 1 experiment start!\r\n",
      "2023-02-07 06:19:52  \t原始数据集读取完毕\r\n",
      "2023-02-07 06:19:53  \t图嵌入均衡切割\r\n",
      "42 45 78 89 85 \r\n",
      "2023-02-07 06:19:53  \tNode2Vec 基于用户聚类均衡切割完毕\r\n",
      "2023-02-07 06:19:53  \t分切数据执行完毕\r\n",
      "2023-02-07 06:19:55  \t模型加载完毕\r\n",
      "2023-02-07 06:19:55  \t开始训练聚合模型\r\n",
      "2023-02-07 06:19:59  Epoch  1 : MAE : 27.0555  RMSE : 71.6995  NMAE : 0.5692  MRE : 0.5280  NPRE : 2.4857\r\n",
      "2023-02-07 06:20:03  Epoch  2 : MAE : 26.4207  RMSE : 70.0449  NMAE : 0.5558  MRE : 0.5153  NPRE : 2.5062\r\n",
      "2023-02-07 06:20:06  Epoch  3 : MAE : 26.2367  RMSE : 69.4496  NMAE : 0.5519  MRE : 0.5113  NPRE : 2.5011\r\n",
      "2023-02-07 06:20:10  Epoch  4 : MAE : 26.0766  RMSE : 68.5895  NMAE : 0.5486  MRE : 0.5140  NPRE : 2.6090\r\n",
      "2023-02-07 06:20:14  Epoch  5 : MAE : 25.9763  RMSE : 69.8023  NMAE : 0.5465  MRE : 0.5030  NPRE : 2.5431\r\n",
      "2023-02-07 06:20:18  Epoch  6 : MAE : 25.8597  RMSE : 69.6608  NMAE : 0.5440  MRE : 0.5009  NPRE : 2.6938\r\n",
      "2023-02-07 06:20:22  Epoch  7 : MAE : 25.7203  RMSE : 68.6429  NMAE : 0.5411  MRE : 0.4980  NPRE : 2.3682\r\n",
      "2023-02-07 06:20:25  Epoch  8 : MAE : 25.5796  RMSE : 68.3068  NMAE : 0.5381  MRE : 0.4969  NPRE : 2.5092\r\n",
      "2023-02-07 06:20:29  Epoch  9 : MAE : 25.5522  RMSE : 67.6414  NMAE : 0.5375  MRE : 0.4982  NPRE : 2.5367\r\n",
      "2023-02-07 06:20:33  Epoch 10 : MAE : 25.5949  RMSE : 69.0581  NMAE : 0.5384  MRE : 0.4947  NPRE : 2.5404\r\n",
      "2023-02-07 06:20:37  Epoch 11 : MAE : 25.5321  RMSE : 68.0854  NMAE : 0.5371  MRE : 0.4953  NPRE : 2.5346\r\n",
      "2023-02-07 06:20:41  Epoch 12 : MAE : 25.5516  RMSE : 68.8036  NMAE : 0.5375  MRE : 0.4935  NPRE : 2.3032\r\n",
      "2023-02-07 06:20:44  Epoch 13 : MAE : 25.4807  RMSE : 67.9426  NMAE : 0.5360  MRE : 0.4969  NPRE : 2.5933\r\n",
      "2023-02-07 06:20:48  Epoch 14 : MAE : 25.4885  RMSE : 67.9209  NMAE : 0.5362  MRE : 0.4988  NPRE : 2.7892\r\n",
      "2023-02-07 06:20:52  Epoch 15 : MAE : 25.5214  RMSE : 68.8742  NMAE : 0.5369  MRE : 0.4942  NPRE : 2.6379\r\n",
      "2023-02-07 06:20:56  Epoch 16 : MAE : 25.4970  RMSE : 68.5332  NMAE : 0.5364  MRE : 0.4951  NPRE : 2.7253\r\n",
      "2023-02-07 06:21:00  Epoch 17 : MAE : 25.4187  RMSE : 68.0877  NMAE : 0.5347  MRE : 0.4936  NPRE : 2.5026\r\n",
      "2023-02-07 06:21:03  Epoch 18 : MAE : 25.8586  RMSE : 70.5955  NMAE : 0.5440  MRE : 0.4929  NPRE : 2.2048\r\n",
      "2023-02-07 06:21:07  Epoch 19 : MAE : 25.6358  RMSE : 69.8324  NMAE : 0.5393  MRE : 0.4906  NPRE : 2.3129\r\n",
      "2023-02-07 06:21:11  Epoch 20 : MAE : 26.1738  RMSE : 66.9289  NMAE : 0.5506  MRE : 0.5256  NPRE : 3.3518\r\n",
      "2023-02-07 06:21:11  Best epoch 17 : MAE : 25.4187  RMSE : 68.0877  NMAE : 0.5347  MRE : 0.4936  NPRE : 2.5026\r\n",
      "2023-02-07 06:21:11  \t实验 1 聚合模型训练完毕\r\n",
      "2023-02-07 06:21:13  Result : MAE : 25.4187  RMSE : 68.0877  NMAE : 0.5347  MRE : 0.4936  NPRE : 2.5026\r\n",
      "/home/yxzeng/anaconda3/lib/python3.8/site-packages/numpy/core/fromnumeric.py:3432: RuntimeWarning: Mean of empty slice.\r\n",
      "  return _methods._mean(a, axis=axis, dtype=dtype,\r\n",
      "/home/yxzeng/anaconda3/lib/python3.8/site-packages/numpy/core/_methods.py:190: RuntimeWarning: invalid value encountered in double_scalars\r\n",
      "  ret = ret.dtype.type(ret / rcount)\r\n",
      "2023-02-07 06:21:13  \t实验 1 : Shards training time = nan s\r\n",
      "\r\n",
      "2023-02-07 06:21:13  \t实验 1 : Aggregators training time = 33.66 s\r\n",
      "\r\n",
      "2023-02-07 06:21:13  \t聚合模型训练完毕\r\n",
      "------------------------------------------------------------------------------------------------------------------------\r\n",
      "2023-02-07 06:21:13  Dataset : tp     interaction : CSMF\r\n",
      "2023-02-07 06:21:13  Density : 20.00%, slice_epochs : 100, agg_epochs : 20\r\n",
      "2023-02-07 06:21:13  Part_type : 5,    slices : 5,       devices : gpu\r\n",
      "\r\n",
      "\r\n",
      "2023-02-07 06:21:13  Density 20.00% : MAE = 25.419, RMSE = 68.088, NMAE = 0.535, MRE = 0.494, NPRE = 2.503\r\n",
      "\r\n",
      "2023-02-07 06:21:13  Experiment success!\r\n",
      "\r\n"
     ]
    }
   ],
   "source": [
    "!python Experiment.py --dataset tp --interaction CSMF --rounds 1 --slices 5 --agg_epochs 20 --density 0.20 --part_type 5 --agg_type mean --record 0"
   ],
   "metadata": {
    "collapsed": false
   }
  },
  {
   "cell_type": "code",
   "execution_count": 31,
   "outputs": [
    {
     "name": "stdout",
     "output_type": "stream",
     "text": [
      "2023-02-07 06:21:14  Experiment start!\r\n",
      "2023-02-07 06:21:14  Namespace(F=1, agg2=0, agg_decay=0.001, agg_epochs=20, agg_function=1, agg_lr=0.001, agg_type='mean', att_decay=0.0001, att_lr=0.001, batch_size=128, beta=1, cluster='deep', cuda=True, dataset='tp', debug=0, density=0.2, devices='gpu', dimension=32, dir='../Dataset/mnist', dropout=0.1, epoch=1500, external_dim=64, hidden_dims=[64, 64, 100], input_dim=128, interaction='MF', lamda=1, latent_dim=10, log_interval=100, lr=0.0001, n_classes=10, n_clusters=10, n_jobs=1, node2vec=0, node2vec_batchsize=32, node2vec_dim=128, node2vec_epochs=20, node2vec_length=8, node2vec_walk=15, node2vec_windows=3, num_layers=2, order=2, part_iter=20, part_type=5, path='./datasets/data/WSDREAM/', pre_epoch=1000, pretrain=True, processed=0, random_state=1001, record=0, retrain=0, rounds=1, save_model=1, slice=1, slice_decay=0.001, slice_epochs=100, slice_lr=0.001, slices=5, verbose=10, wd=0.0005)\r\n",
      "2023-02-07 06:21:14  Dataset : tp     interaction : MF\r\n",
      "2023-02-07 06:21:14  Density : 20.00%, slice_epochs : 100, agg_epochs : 20\r\n",
      "2023-02-07 06:21:14  Part_type : 5,    slices : 5,       devices : gpu\r\n",
      "2023-02-07 06:21:14  Slice_lr : 0.008,    Slice_decay : 0.001\r\n",
      "2023-02-07 06:21:14  Agg_lr : 0.001,    Agg_decay : 0.001\r\n",
      "2023-02-07 06:21:14  Aggregation function : mean\r\n",
      "\r\n",
      "2023-02-07 06:21:14  Round 1 experiment start!\r\n",
      "2023-02-07 06:21:14  \t原始数据集读取完毕\r\n",
      "2023-02-07 06:21:14  \t图嵌入均衡切割\r\n",
      "42 45 78 89 85 \r\n",
      "2023-02-07 06:21:14  \tNode2Vec 基于用户聚类均衡切割完毕\r\n",
      "2023-02-07 06:21:14  \t分切数据执行完毕\r\n",
      "2023-02-07 06:21:16  \t模型加载完毕\r\n",
      "2023-02-07 06:21:16  \t开始训练聚合模型\r\n",
      "2023-02-07 06:21:20  Epoch  1 : MAE : 39.2842  RMSE : 106.2745  NMAE : 0.8264  MRE : 0.8088  NPRE : 5.6770\r\n",
      "2023-02-07 06:21:24  Epoch  2 : MAE : 39.2893  RMSE : 107.2440  NMAE : 0.8265  MRE : 0.7930  NPRE : 5.3776\r\n",
      "2023-02-07 06:21:28  Epoch  3 : MAE : 39.2757  RMSE : 107.0926  NMAE : 0.8262  MRE : 0.7946  NPRE : 5.3906\r\n",
      "2023-02-07 06:21:31  Epoch  4 : MAE : 39.3226  RMSE : 107.3687  NMAE : 0.8272  MRE : 0.7921  NPRE : 5.4497\r\n",
      "2023-02-07 06:21:35  Epoch  5 : MAE : 39.2843  RMSE : 107.1691  NMAE : 0.8264  MRE : 0.7944  NPRE : 5.3658\r\n",
      "2023-02-07 06:21:39  Epoch  6 : MAE : 39.2617  RMSE : 106.8633  NMAE : 0.8260  MRE : 0.7982  NPRE : 5.4622\r\n",
      "2023-02-07 06:21:42  Epoch  7 : MAE : 39.2921  RMSE : 107.0587  NMAE : 0.8266  MRE : 0.7959  NPRE : 5.4512\r\n",
      "2023-02-07 06:21:46  Epoch  8 : MAE : 39.3011  RMSE : 107.4768  NMAE : 0.8268  MRE : 0.7900  NPRE : 5.2551\r\n",
      "2023-02-07 06:21:50  Epoch  9 : MAE : 39.2776  RMSE : 107.0668  NMAE : 0.8263  MRE : 0.7953  NPRE : 5.4178\r\n",
      "2023-02-07 06:21:53  Epoch 10 : MAE : 39.2753  RMSE : 107.2041  NMAE : 0.8262  MRE : 0.7936  NPRE : 5.3414\r\n",
      "2023-02-07 06:21:57  Epoch 11 : MAE : 39.2999  RMSE : 107.1808  NMAE : 0.8268  MRE : 0.7947  NPRE : 5.4001\r\n",
      "2023-02-07 06:22:01  Epoch 12 : MAE : 39.3008  RMSE : 107.4832  NMAE : 0.8268  MRE : 0.7896  NPRE : 5.2718\r\n",
      "2023-02-07 06:22:04  Epoch 13 : MAE : 39.2959  RMSE : 107.3959  NMAE : 0.8267  MRE : 0.7909  NPRE : 5.2752\r\n",
      "2023-02-07 06:22:08  Epoch 14 : MAE : 39.2938  RMSE : 107.4948  NMAE : 0.8266  MRE : 0.7897  NPRE : 5.2182\r\n",
      "2023-02-07 06:22:12  Epoch 15 : MAE : 39.2784  RMSE : 107.1502  NMAE : 0.8263  MRE : 0.7944  NPRE : 5.3799\r\n",
      "2023-02-07 06:22:16  Epoch 16 : MAE : 39.2833  RMSE : 107.0981  NMAE : 0.8264  MRE : 0.7950  NPRE : 5.4347\r\n",
      "2023-02-07 06:22:19  Epoch 17 : MAE : 39.2856  RMSE : 106.9728  NMAE : 0.8265  MRE : 0.7968  NPRE : 5.4673\r\n",
      "2023-02-07 06:22:23  Epoch 18 : MAE : 39.2992  RMSE : 107.5217  NMAE : 0.8267  MRE : 0.7894  NPRE : 5.2214\r\n",
      "2023-02-07 06:22:27  Epoch 19 : MAE : 39.2982  RMSE : 107.3562  NMAE : 0.8267  MRE : 0.7916  NPRE : 5.3580\r\n",
      "2023-02-07 06:22:31  Epoch 20 : MAE : 39.2567  RMSE : 106.9790  NMAE : 0.8258  MRE : 0.7965  NPRE : 5.3663\r\n",
      "2023-02-07 06:22:31  Best epoch 20 : MAE : 39.2567  RMSE : 106.9790  NMAE : 0.8258  MRE : 0.7965  NPRE : 5.3663\r\n",
      "2023-02-07 06:22:31  \t实验 1 聚合模型训练完毕\r\n",
      "2023-02-07 06:22:32  Result : MAE : 39.2567  RMSE : 106.9790  NMAE : 0.8258  MRE : 0.7965  NPRE : 5.3663\r\n",
      "/home/yxzeng/anaconda3/lib/python3.8/site-packages/numpy/core/fromnumeric.py:3432: RuntimeWarning: Mean of empty slice.\r\n",
      "  return _methods._mean(a, axis=axis, dtype=dtype,\r\n",
      "/home/yxzeng/anaconda3/lib/python3.8/site-packages/numpy/core/_methods.py:190: RuntimeWarning: invalid value encountered in double_scalars\r\n",
      "  ret = ret.dtype.type(ret / rcount)\r\n",
      "2023-02-07 06:22:32  \t实验 1 : Shards training time = nan s\r\n",
      "\r\n",
      "2023-02-07 06:22:32  \t实验 1 : Aggregators training time = 37.77 s\r\n",
      "\r\n",
      "2023-02-07 06:22:32  \t聚合模型训练完毕\r\n",
      "------------------------------------------------------------------------------------------------------------------------\r\n",
      "2023-02-07 06:22:32  Dataset : tp     interaction : MF\r\n",
      "2023-02-07 06:22:32  Density : 20.00%, slice_epochs : 100, agg_epochs : 20\r\n",
      "2023-02-07 06:22:32  Part_type : 5,    slices : 5,       devices : gpu\r\n",
      "\r\n",
      "\r\n",
      "2023-02-07 06:22:32  Density 20.00% : MAE = 39.257, RMSE = 106.979, NMAE = 0.826, MRE = 0.797, NPRE = 5.366\r\n",
      "\r\n",
      "2023-02-07 06:22:32  Experiment success!\r\n",
      "\r\n"
     ]
    }
   ],
   "source": [
    "!python Experiment.py --dataset tp --interaction MF --rounds 1 --slices 5 --agg_epochs 20 --density 0.20 --part_type 5 --agg_type mean --record 0"
   ],
   "metadata": {
    "collapsed": false
   }
  },
  {
   "cell_type": "code",
   "execution_count": 32,
   "outputs": [
    {
     "name": "stdout",
     "output_type": "stream",
     "text": [
      "2023-02-07 06:22:34  Experiment start!\r\n",
      "2023-02-07 06:22:34  Namespace(F=1, agg2=0, agg_decay=0.001, agg_epochs=15, agg_function=1, agg_lr=0.001, agg_type='mean', att_decay=0.0001, att_lr=0.001, batch_size=128, beta=1, cluster='deep', cuda=True, dataset='tp', debug=0, density=0.2, devices='gpu', dimension=32, dir='../Dataset/mnist', dropout=0.1, epoch=1500, external_dim=64, hidden_dims=[64, 64, 100], input_dim=128, interaction='GraphMF', lamda=1, latent_dim=10, log_interval=100, lr=0.0001, n_classes=10, n_clusters=10, n_jobs=1, node2vec=0, node2vec_batchsize=32, node2vec_dim=128, node2vec_epochs=20, node2vec_length=8, node2vec_walk=15, node2vec_windows=3, num_layers=2, order=2, part_iter=20, part_type=5, path='./datasets/data/WSDREAM/', pre_epoch=1000, pretrain=True, processed=0, random_state=1001, record=0, retrain=0, rounds=1, save_model=1, slice=1, slice_decay=0.001, slice_epochs=100, slice_lr=0.001, slices=5, verbose=10, wd=0.0005)\r\n",
      "2023-02-07 06:22:34  Dataset : tp     interaction : GraphMF\r\n",
      "2023-02-07 06:22:34  Density : 20.00%, slice_epochs : 15, agg_epochs : 15\r\n",
      "2023-02-07 06:22:34  Part_type : 5,    slices : 5,       devices : gpu\r\n",
      "2023-02-07 06:22:34  Slice_lr : 0.01,    Slice_decay : 0.001\r\n",
      "2023-02-07 06:22:34  Agg_lr : 0.001,    Agg_decay : 0.001\r\n",
      "2023-02-07 06:22:34  Aggregation function : mean\r\n",
      "\r\n",
      "2023-02-07 06:22:34  Round 1 experiment start!\r\n",
      "2023-02-07 06:22:34  \t原始数据集读取完毕\r\n",
      "2023-02-07 06:22:34  \t图嵌入均衡切割\r\n",
      "42 45 78 89 85 \r\n",
      "2023-02-07 06:22:34  \tNode2Vec 基于用户聚类均衡切割完毕\r\n",
      "2023-02-07 06:22:34  \t分切数据执行完毕\r\n",
      "2023-02-07 06:22:34  \tNeuGraphMF建图中\r\n",
      "2023-02-07 06:22:38  \tNeuGraphMF建图完毕\r\n",
      "2023-02-07 06:22:40  \t模型加载完毕\r\n",
      "2023-02-07 06:22:40  \t开始训练聚合模型\r\n",
      "2023-02-07 06:22:44  Epoch  1 : MAE : 21.3013  RMSE : 58.9783  NMAE : 0.4481  MRE : 0.4191  NPRE : 2.6674\r\n",
      "2023-02-07 06:22:48  Epoch  2 : MAE : 18.7775  RMSE : 54.1101  NMAE : 0.3950  MRE : 0.3343  NPRE : 2.0147\r\n",
      "2023-02-07 06:22:52  Epoch  3 : MAE : 17.7399  RMSE : 52.5971  NMAE : 0.3732  MRE : 0.3008  NPRE : 1.6706\r\n",
      "2023-02-07 06:22:56  Epoch  4 : MAE : 17.1098  RMSE : 51.8120  NMAE : 0.3599  MRE : 0.2845  NPRE : 1.4981\r\n",
      "2023-02-07 06:23:00  Epoch  5 : MAE : 16.7886  RMSE : 51.1536  NMAE : 0.3532  MRE : 0.2765  NPRE : 1.4500\r\n",
      "2023-02-07 06:23:03  Epoch  6 : MAE : 16.2293  RMSE : 50.2839  NMAE : 0.3414  MRE : 0.2669  NPRE : 1.3346\r\n",
      "2023-02-07 06:23:07  Epoch  7 : MAE : 16.0026  RMSE : 49.8359  NMAE : 0.3366  MRE : 0.2620  NPRE : 1.1942\r\n",
      "2023-02-07 06:23:11  Epoch  8 : MAE : 15.8032  RMSE : 49.6474  NMAE : 0.3325  MRE : 0.2564  NPRE : 1.2371\r\n",
      "2023-02-07 06:23:15  Epoch  9 : MAE : 15.6538  RMSE : 49.4672  NMAE : 0.3293  MRE : 0.2530  NPRE : 1.0983\r\n",
      "2023-02-07 06:23:19  Epoch 10 : MAE : 15.3241  RMSE : 48.2852  NMAE : 0.3224  MRE : 0.2490  NPRE : 1.1886\r\n",
      "2023-02-07 06:23:23  Epoch 11 : MAE : 15.1885  RMSE : 48.0824  NMAE : 0.3195  MRE : 0.2477  NPRE : 1.1980\r\n",
      "2023-02-07 06:23:27  Epoch 12 : MAE : 15.0917  RMSE : 47.9604  NMAE : 0.3175  MRE : 0.2452  NPRE : 1.1743\r\n",
      "2023-02-07 06:23:31  Epoch 13 : MAE : 15.0456  RMSE : 47.7482  NMAE : 0.3165  MRE : 0.2430  NPRE : 1.1408\r\n",
      "2023-02-07 06:23:35  Epoch 14 : MAE : 14.9428  RMSE : 47.6066  NMAE : 0.3144  MRE : 0.2423  NPRE : 1.1382\r\n",
      "2023-02-07 06:23:39  Epoch 15 : MAE : 14.8680  RMSE : 47.3896  NMAE : 0.3128  MRE : 0.2407  NPRE : 1.1620\r\n",
      "2023-02-07 06:23:39  Best epoch 15 : MAE : 14.8680  RMSE : 47.3896  NMAE : 0.3128  MRE : 0.2407  NPRE : 1.1620\r\n",
      "2023-02-07 06:23:39  \t实验 1 聚合模型训练完毕\r\n",
      "2023-02-07 06:23:41  Result : MAE : 14.8680  RMSE : 47.3896  NMAE : 0.3128  MRE : 0.2407  NPRE : 1.1620\r\n",
      "/home/yxzeng/anaconda3/lib/python3.8/site-packages/numpy/core/fromnumeric.py:3432: RuntimeWarning: Mean of empty slice.\r\n",
      "  return _methods._mean(a, axis=axis, dtype=dtype,\r\n",
      "/home/yxzeng/anaconda3/lib/python3.8/site-packages/numpy/core/_methods.py:190: RuntimeWarning: invalid value encountered in double_scalars\r\n",
      "  ret = ret.dtype.type(ret / rcount)\r\n",
      "2023-02-07 06:23:41  \t实验 1 : Shards training time = nan s\r\n",
      "\r\n",
      "2023-02-07 06:23:41  \t实验 1 : Aggregators training time = 31.05 s\r\n",
      "\r\n",
      "2023-02-07 06:23:41  \t聚合模型训练完毕\r\n",
      "------------------------------------------------------------------------------------------------------------------------\r\n",
      "2023-02-07 06:23:41  Dataset : tp     interaction : GraphMF\r\n",
      "2023-02-07 06:23:41  Density : 20.00%, slice_epochs : 15, agg_epochs : 15\r\n",
      "2023-02-07 06:23:41  Part_type : 5,    slices : 5,       devices : gpu\r\n",
      "\r\n",
      "\r\n",
      "2023-02-07 06:23:41  Density 20.00% : MAE = 14.868, RMSE = 47.390, NMAE = 0.313, MRE = 0.241, NPRE = 1.162\r\n",
      "\r\n",
      "2023-02-07 06:23:41  Experiment success!\r\n",
      "\r\n"
     ]
    }
   ],
   "source": [
    "!python Experiment.py --dataset tp --interaction GraphMF --rounds 1 --slices 5 --agg_epochs 15 --density 0.20 --part_type 5 --agg_type mean --record 0"
   ],
   "metadata": {
    "collapsed": false
   }
  },
  {
   "cell_type": "code",
   "execution_count": 33,
   "outputs": [
    {
     "name": "stdout",
     "output_type": "stream",
     "text": [
      "2023-02-07 06:23:42  Experiment start!\r\n",
      "2023-02-07 06:23:42  Namespace(F=1, agg2=0, agg_decay=0.001, agg_epochs=12, agg_function=1, agg_lr=0.001, agg_type='softmax', att_decay=0.0001, att_lr=0.001, batch_size=128, beta=1, cluster='deep', cuda=True, dataset='rt', debug=0, density=0.2, devices='gpu', dimension=32, dir='../Dataset/mnist', dropout=0.1, epoch=1500, external_dim=64, hidden_dims=[64, 64, 100], input_dim=128, interaction='NeuCF', lamda=1, latent_dim=10, log_interval=100, lr=0.0001, n_classes=10, n_clusters=10, n_jobs=1, node2vec=0, node2vec_batchsize=32, node2vec_dim=128, node2vec_epochs=20, node2vec_length=8, node2vec_walk=15, node2vec_windows=3, num_layers=2, order=2, part_iter=20, part_type=5, path='./datasets/data/WSDREAM/', pre_epoch=1000, pretrain=True, processed=0, random_state=1001, record=0, retrain=0, rounds=1, save_model=1, slice=1, slice_decay=0.001, slice_epochs=100, slice_lr=0.001, slices=5, verbose=10, wd=0.0005)\r\n",
      "2023-02-07 06:23:42  Dataset : rt     interaction : NeuCF\r\n",
      "2023-02-07 06:23:42  Density : 20.00%, slice_epochs : 100, agg_epochs : 12\r\n",
      "2023-02-07 06:23:42  Part_type : 5,    slices : 5,       devices : gpu\r\n",
      "2023-02-07 06:23:42  Slice_lr : 0.004,    Slice_decay : 0.001\r\n",
      "2023-02-07 06:23:42  Agg_lr : 0.001,    Agg_decay : 0.001\r\n",
      "2023-02-07 06:23:42  Aggregation function : softmax\r\n",
      "\r\n",
      "2023-02-07 06:23:42  Round 1 experiment start!\r\n",
      "2023-02-07 06:23:42  \t原始数据集读取完毕\r\n",
      "2023-02-07 06:23:42  \t图嵌入均衡切割\r\n",
      "42 45 78 89 85 \r\n",
      "2023-02-07 06:23:42  \tNode2Vec 基于用户聚类均衡切割完毕\r\n",
      "2023-02-07 06:23:42  \t分切数据执行完毕\r\n",
      "2023-02-07 06:23:44  \t模型加载完毕\r\n",
      "2023-02-07 06:23:44  \t开始训练聚合模型\r\n",
      "2023-02-07 06:23:50  Epoch  1 : MAE : 0.4785  RMSE : 1.3840  NMAE : 0.5256  MRE : 0.4470  NPRE : 2.0737\r\n",
      "2023-02-07 06:23:56  Epoch  2 : MAE : 0.4433  RMSE : 1.3440  NMAE : 0.4869  MRE : 0.4065  NPRE : 1.3069\r\n",
      "2023-02-07 06:24:01  Epoch  3 : MAE : 0.4248  RMSE : 1.3329  NMAE : 0.4666  MRE : 0.3613  NPRE : 1.4566\r\n",
      "2023-02-07 06:24:07  Epoch  4 : MAE : 0.4141  RMSE : 1.3175  NMAE : 0.4549  MRE : 0.3468  NPRE : 1.4560\r\n",
      "2023-02-07 06:24:12  Epoch  5 : MAE : 0.4115  RMSE : 1.3232  NMAE : 0.4520  MRE : 0.3428  NPRE : 1.4362\r\n",
      "2023-02-07 06:24:18  Epoch  6 : MAE : 0.4043  RMSE : 1.3055  NMAE : 0.4441  MRE : 0.3289  NPRE : 1.5824\r\n",
      "2023-02-07 06:24:23  Epoch  7 : MAE : 0.3993  RMSE : 1.3037  NMAE : 0.4386  MRE : 0.3305  NPRE : 1.2164\r\n",
      "2023-02-07 06:24:29  Epoch  8 : MAE : 0.3947  RMSE : 1.2981  NMAE : 0.4336  MRE : 0.3196  NPRE : 1.3929\r\n",
      "2023-02-07 06:24:34  Epoch  9 : MAE : 0.3931  RMSE : 1.2971  NMAE : 0.4318  MRE : 0.3221  NPRE : 1.2308\r\n",
      "2023-02-07 06:24:39  Epoch 10 : MAE : 0.3905  RMSE : 1.2870  NMAE : 0.4290  MRE : 0.3158  NPRE : 1.3681\r\n",
      "2023-02-07 06:24:44  Epoch 11 : MAE : 0.3912  RMSE : 1.2920  NMAE : 0.4297  MRE : 0.3410  NPRE : 1.0000\r\n",
      "2023-02-07 06:24:50  Epoch 12 : MAE : 0.3897  RMSE : 1.2943  NMAE : 0.4281  MRE : 0.3107  NPRE : 1.2285\r\n",
      "2023-02-07 06:24:50  Best epoch 12 : MAE : 0.3897  RMSE : 1.2943  NMAE : 0.4281  MRE : 0.3107  NPRE : 1.2285\r\n",
      "2023-02-07 06:24:50  \t实验 1 聚合模型训练完毕\r\n",
      "2023-02-07 06:24:52  Result : MAE : 0.3896  RMSE : 1.2939  NMAE : 0.4280  MRE : 0.3108  NPRE : 1.2308\r\n",
      "/home/yxzeng/anaconda3/lib/python3.8/site-packages/numpy/core/fromnumeric.py:3432: RuntimeWarning: Mean of empty slice.\r\n",
      "  return _methods._mean(a, axis=axis, dtype=dtype,\r\n",
      "/home/yxzeng/anaconda3/lib/python3.8/site-packages/numpy/core/_methods.py:190: RuntimeWarning: invalid value encountered in double_scalars\r\n",
      "  ret = ret.dtype.type(ret / rcount)\r\n",
      "2023-02-07 06:24:52  \t实验 1 : Shards training time = nan s\r\n",
      "\r\n",
      "2023-02-07 06:24:52  \t实验 1 : Aggregators training time = 43.13 s\r\n",
      "\r\n",
      "2023-02-07 06:24:52  \t聚合模型训练完毕\r\n",
      "------------------------------------------------------------------------------------------------------------------------\r\n",
      "2023-02-07 06:24:52  Dataset : rt     interaction : NeuCF\r\n",
      "2023-02-07 06:24:52  Density : 20.00%, slice_epochs : 100, agg_epochs : 12\r\n",
      "2023-02-07 06:24:52  Part_type : 5,    slices : 5,       devices : gpu\r\n",
      "\r\n",
      "\r\n",
      "2023-02-07 06:24:52  Density 20.00% : MAE = 0.390, RMSE = 1.294, NMAE = 0.428, MRE = 0.311, NPRE = 1.231\r\n",
      "\r\n",
      "2023-02-07 06:24:52  Experiment success!\r\n",
      "\r\n"
     ]
    }
   ],
   "source": [
    "!python Experiment.py --dataset rt --interaction NeuCF --rounds 1 --slices 5 --agg_epochs 12 --density 0.20 --part_type 5 --agg_type softmax --record 0"
   ],
   "metadata": {
    "collapsed": false
   }
  },
  {
   "cell_type": "code",
   "execution_count": 34,
   "outputs": [
    {
     "name": "stdout",
     "output_type": "stream",
     "text": [
      "2023-02-07 06:24:53  Experiment start!\r\n",
      "2023-02-07 06:24:53  Namespace(F=1, agg2=0, agg_decay=0.001, agg_epochs=15, agg_function=1, agg_lr=0.001, agg_type='softmax', att_decay=0.0001, att_lr=0.001, batch_size=128, beta=1, cluster='deep', cuda=True, dataset='rt', debug=0, density=0.2, devices='gpu', dimension=32, dir='../Dataset/mnist', dropout=0.1, epoch=1500, external_dim=64, hidden_dims=[64, 64, 100], input_dim=128, interaction='CSMF', lamda=1, latent_dim=10, log_interval=100, lr=0.0001, n_classes=10, n_clusters=10, n_jobs=1, node2vec=0, node2vec_batchsize=32, node2vec_dim=128, node2vec_epochs=20, node2vec_length=8, node2vec_walk=15, node2vec_windows=3, num_layers=2, order=2, part_iter=20, part_type=5, path='./datasets/data/WSDREAM/', pre_epoch=1000, pretrain=True, processed=0, random_state=1001, record=0, retrain=0, rounds=1, save_model=1, slice=1, slice_decay=0.001, slice_epochs=100, slice_lr=0.001, slices=5, verbose=10, wd=0.0005)\r\n",
      "2023-02-07 06:24:53  Dataset : rt     interaction : CSMF\r\n",
      "2023-02-07 06:24:53  Density : 20.00%, slice_epochs : 100, agg_epochs : 15\r\n",
      "2023-02-07 06:24:53  Part_type : 5,    slices : 5,       devices : gpu\r\n",
      "2023-02-07 06:24:53  Slice_lr : 0.01,    Slice_decay : 0.001\r\n",
      "2023-02-07 06:24:53  Agg_lr : 0.008,    Agg_decay : 0.001\r\n",
      "2023-02-07 06:24:53  Aggregation function : softmax\r\n",
      "\r\n",
      "2023-02-07 06:24:53  Round 1 experiment start!\r\n",
      "2023-02-07 06:24:53  \t原始数据集读取完毕\r\n",
      "2023-02-07 06:24:53  \t图嵌入均衡切割\r\n",
      "42 45 78 89 85 \r\n",
      "2023-02-07 06:24:53  \tNode2Vec 基于用户聚类均衡切割完毕\r\n",
      "2023-02-07 06:24:53  \t分切数据执行完毕\r\n",
      "2023-02-07 06:24:56  \t模型加载完毕\r\n",
      "2023-02-07 06:24:56  \t开始训练聚合模型\r\n",
      "2023-02-07 06:25:00  Epoch  1 : MAE : 0.5706  RMSE : 1.6153  NMAE : 0.6269  MRE : 0.4609  NPRE : 1.9606\r\n",
      "2023-02-07 06:25:04  Epoch  2 : MAE : 0.5491  RMSE : 1.5635  NMAE : 0.6032  MRE : 0.4389  NPRE : 1.9751\r\n",
      "2023-02-07 06:25:08  Epoch  3 : MAE : 0.5403  RMSE : 1.5445  NMAE : 0.5936  MRE : 0.4316  NPRE : 2.0305\r\n",
      "2023-02-07 06:25:12  Epoch  4 : MAE : 0.5374  RMSE : 1.5441  NMAE : 0.5903  MRE : 0.4291  NPRE : 1.8403\r\n",
      "2023-02-07 06:25:17  Epoch  5 : MAE : 0.5336  RMSE : 1.5275  NMAE : 0.5862  MRE : 0.4272  NPRE : 2.0823\r\n",
      "2023-02-07 06:25:21  Epoch  6 : MAE : 0.5343  RMSE : 1.5227  NMAE : 0.5869  MRE : 0.4263  NPRE : 2.2066\r\n",
      "2023-02-07 06:25:25  Epoch  7 : MAE : 0.5306  RMSE : 1.5364  NMAE : 0.5828  MRE : 0.4235  NPRE : 1.8895\r\n",
      "2023-02-07 06:25:29  Epoch  8 : MAE : 0.5305  RMSE : 1.5304  NMAE : 0.5827  MRE : 0.4259  NPRE : 1.9503\r\n",
      "2023-02-07 06:25:33  Epoch  9 : MAE : 0.5300  RMSE : 1.5269  NMAE : 0.5823  MRE : 0.4240  NPRE : 2.1279\r\n",
      "2023-02-07 06:25:37  Epoch 10 : MAE : 0.5283  RMSE : 1.5334  NMAE : 0.5803  MRE : 0.4170  NPRE : 2.0049\r\n",
      "2023-02-07 06:25:41  Epoch 11 : MAE : 0.5283  RMSE : 1.5270  NMAE : 0.5804  MRE : 0.4234  NPRE : 1.9831\r\n",
      "2023-02-07 06:25:45  Epoch 12 : MAE : 0.5306  RMSE : 1.5428  NMAE : 0.5829  MRE : 0.4210  NPRE : 1.8485\r\n",
      "2023-02-07 06:25:49  Epoch 13 : MAE : 0.5266  RMSE : 1.5214  NMAE : 0.5784  MRE : 0.4200  NPRE : 2.1326\r\n",
      "2023-02-07 06:25:53  Epoch 14 : MAE : 0.5291  RMSE : 1.5381  NMAE : 0.5812  MRE : 0.4200  NPRE : 1.8224\r\n",
      "2023-02-07 06:25:57  Epoch 15 : MAE : 0.5266  RMSE : 1.5219  NMAE : 0.5785  MRE : 0.4216  NPRE : 2.1343\r\n",
      "2023-02-07 06:25:57  Best epoch 13 : MAE : 0.5266  RMSE : 1.5214  NMAE : 0.5784  MRE : 0.4200  NPRE : 2.1326\r\n",
      "2023-02-07 06:25:57  \t实验 1 聚合模型训练完毕\r\n",
      "2023-02-07 06:25:59  Result : MAE : 0.5263  RMSE : 1.5218  NMAE : 0.5781  MRE : 0.4200  NPRE : 2.1244\r\n",
      "/home/yxzeng/anaconda3/lib/python3.8/site-packages/numpy/core/fromnumeric.py:3432: RuntimeWarning: Mean of empty slice.\r\n",
      "  return _methods._mean(a, axis=axis, dtype=dtype,\r\n",
      "/home/yxzeng/anaconda3/lib/python3.8/site-packages/numpy/core/_methods.py:190: RuntimeWarning: invalid value encountered in double_scalars\r\n",
      "  ret = ret.dtype.type(ret / rcount)\r\n",
      "2023-02-07 06:25:59  \t实验 1 : Shards training time = nan s\r\n",
      "\r\n",
      "2023-02-07 06:25:59  \t实验 1 : Aggregators training time = 29.29 s\r\n",
      "\r\n",
      "2023-02-07 06:25:59  \t聚合模型训练完毕\r\n",
      "------------------------------------------------------------------------------------------------------------------------\r\n",
      "2023-02-07 06:25:59  Dataset : rt     interaction : CSMF\r\n",
      "2023-02-07 06:25:59  Density : 20.00%, slice_epochs : 100, agg_epochs : 15\r\n",
      "2023-02-07 06:25:59  Part_type : 5,    slices : 5,       devices : gpu\r\n",
      "\r\n",
      "\r\n",
      "2023-02-07 06:25:59  Density 20.00% : MAE = 0.526, RMSE = 1.522, NMAE = 0.578, MRE = 0.420, NPRE = 2.124\r\n",
      "\r\n",
      "2023-02-07 06:25:59  Experiment success!\r\n",
      "\r\n"
     ]
    }
   ],
   "source": [
    "!python Experiment.py --dataset rt --interaction CSMF --rounds 1 --slices 5 --agg_epochs 15 --density 0.20 --part_type 5 --agg_type softmax --record 0"
   ],
   "metadata": {
    "collapsed": false
   }
  },
  {
   "cell_type": "code",
   "execution_count": 35,
   "outputs": [
    {
     "name": "stdout",
     "output_type": "stream",
     "text": [
      "2023-02-07 06:26:00  Experiment start!\r\n",
      "2023-02-07 06:26:00  Namespace(F=1, agg2=0, agg_decay=0.001, agg_epochs=15, agg_function=1, agg_lr=0.001, agg_type='softmax', att_decay=0.0001, att_lr=0.001, batch_size=128, beta=1, cluster='deep', cuda=True, dataset='rt', debug=0, density=0.2, devices='gpu', dimension=32, dir='../Dataset/mnist', dropout=0.1, epoch=1500, external_dim=64, hidden_dims=[64, 64, 100], input_dim=128, interaction='MF', lamda=1, latent_dim=10, log_interval=100, lr=0.0001, n_classes=10, n_clusters=10, n_jobs=1, node2vec=0, node2vec_batchsize=32, node2vec_dim=128, node2vec_epochs=20, node2vec_length=8, node2vec_walk=15, node2vec_windows=3, num_layers=2, order=2, part_iter=20, part_type=5, path='./datasets/data/WSDREAM/', pre_epoch=1000, pretrain=True, processed=0, random_state=1001, record=0, retrain=0, rounds=1, save_model=1, slice=1, slice_decay=0.001, slice_epochs=100, slice_lr=0.001, slices=5, verbose=10, wd=0.0005)\r\n",
      "2023-02-07 06:26:00  Dataset : rt     interaction : MF\r\n",
      "2023-02-07 06:26:00  Density : 20.00%, slice_epochs : 100, agg_epochs : 15\r\n",
      "2023-02-07 06:26:00  Part_type : 5,    slices : 5,       devices : gpu\r\n",
      "2023-02-07 06:26:00  Slice_lr : 0.008,    Slice_decay : 0.001\r\n",
      "2023-02-07 06:26:00  Agg_lr : 0.001,    Agg_decay : 0.001\r\n",
      "2023-02-07 06:26:00  Aggregation function : softmax\r\n",
      "\r\n",
      "2023-02-07 06:26:00  Round 1 experiment start!\r\n",
      "2023-02-07 06:26:00  \t原始数据集读取完毕\r\n",
      "2023-02-07 06:26:00  \t图嵌入均衡切割\r\n",
      "42 45 78 89 85 \r\n",
      "2023-02-07 06:26:00  \tNode2Vec 基于用户聚类均衡切割完毕\r\n",
      "2023-02-07 06:26:00  \t分切数据执行完毕\r\n",
      "2023-02-07 06:26:02  \t模型加载完毕\r\n",
      "2023-02-07 06:26:02  \t开始训练聚合模型\r\n",
      "2023-02-07 06:26:06  Epoch  1 : MAE : 0.7341  RMSE : 1.9773  NMAE : 0.8064  MRE : 0.6744  NPRE : 3.1861\r\n",
      "2023-02-07 06:26:10  Epoch  2 : MAE : 0.7009  RMSE : 1.8589  NMAE : 0.7700  MRE : 0.6890  NPRE : 3.2356\r\n",
      "2023-02-07 06:26:14  Epoch  3 : MAE : 0.6970  RMSE : 1.8466  NMAE : 0.7656  MRE : 0.6936  NPRE : 3.1997\r\n",
      "2023-02-07 06:26:18  Epoch  4 : MAE : 0.6953  RMSE : 1.8470  NMAE : 0.7638  MRE : 0.6912  NPRE : 3.2435\r\n",
      "2023-02-07 06:26:22  Epoch  5 : MAE : 0.6917  RMSE : 1.8324  NMAE : 0.7598  MRE : 0.7014  NPRE : 3.3052\r\n",
      "2023-02-07 06:26:26  Epoch  6 : MAE : 0.6899  RMSE : 1.8319  NMAE : 0.7578  MRE : 0.6981  NPRE : 3.2741\r\n",
      "2023-02-07 06:26:29  Epoch  7 : MAE : 0.6867  RMSE : 1.8312  NMAE : 0.7543  MRE : 0.6884  NPRE : 3.1361\r\n",
      "2023-02-07 06:26:33  Epoch  8 : MAE : 0.6849  RMSE : 1.8318  NMAE : 0.7524  MRE : 0.6845  NPRE : 3.0890\r\n",
      "2023-02-07 06:26:37  Epoch  9 : MAE : 0.6835  RMSE : 1.8232  NMAE : 0.7508  MRE : 0.6952  NPRE : 3.2316\r\n",
      "2023-02-07 06:26:41  Epoch 10 : MAE : 0.6803  RMSE : 1.8224  NMAE : 0.7474  MRE : 0.6857  NPRE : 3.1496\r\n",
      "2023-02-07 06:26:45  Epoch 11 : MAE : 0.6798  RMSE : 1.8252  NMAE : 0.7467  MRE : 0.6788  NPRE : 3.0797\r\n",
      "2023-02-07 06:26:48  Epoch 12 : MAE : 0.6783  RMSE : 1.8200  NMAE : 0.7451  MRE : 0.6824  NPRE : 3.0821\r\n",
      "2023-02-07 06:26:52  Epoch 13 : MAE : 0.6785  RMSE : 1.8162  NMAE : 0.7454  MRE : 0.6894  NPRE : 3.3018\r\n",
      "2023-02-07 06:26:56  Epoch 14 : MAE : 0.6793  RMSE : 1.8180  NMAE : 0.7462  MRE : 0.6887  NPRE : 3.2716\r\n",
      "2023-02-07 06:26:59  Epoch 15 : MAE : 0.6771  RMSE : 1.8172  NMAE : 0.7438  MRE : 0.6836  NPRE : 3.1002\r\n",
      "2023-02-07 06:26:59  Best epoch 15 : MAE : 0.6771  RMSE : 1.8172  NMAE : 0.7438  MRE : 0.6836  NPRE : 3.1002\r\n",
      "2023-02-07 06:26:59  \t实验 1 聚合模型训练完毕\r\n",
      "2023-02-07 06:27:01  Result : MAE : 0.6771  RMSE : 1.8172  NMAE : 0.7438  MRE : 0.6836  NPRE : 3.1002\r\n",
      "/home/yxzeng/anaconda3/lib/python3.8/site-packages/numpy/core/fromnumeric.py:3432: RuntimeWarning: Mean of empty slice.\r\n",
      "  return _methods._mean(a, axis=axis, dtype=dtype,\r\n",
      "/home/yxzeng/anaconda3/lib/python3.8/site-packages/numpy/core/_methods.py:190: RuntimeWarning: invalid value encountered in double_scalars\r\n",
      "  ret = ret.dtype.type(ret / rcount)\r\n",
      "2023-02-07 06:27:01  \t实验 1 : Shards training time = nan s\r\n",
      "\r\n",
      "2023-02-07 06:27:01  \t实验 1 : Aggregators training time = 29.66 s\r\n",
      "\r\n",
      "2023-02-07 06:27:01  \t聚合模型训练完毕\r\n",
      "------------------------------------------------------------------------------------------------------------------------\r\n",
      "2023-02-07 06:27:01  Dataset : rt     interaction : MF\r\n",
      "2023-02-07 06:27:01  Density : 20.00%, slice_epochs : 100, agg_epochs : 15\r\n",
      "2023-02-07 06:27:01  Part_type : 5,    slices : 5,       devices : gpu\r\n",
      "\r\n",
      "\r\n",
      "2023-02-07 06:27:01  Density 20.00% : MAE = 0.677, RMSE = 1.817, NMAE = 0.744, MRE = 0.684, NPRE = 3.100\r\n",
      "\r\n",
      "2023-02-07 06:27:01  Experiment success!\r\n",
      "\r\n"
     ]
    }
   ],
   "source": [
    "!python Experiment.py --dataset rt --interaction MF --rounds 1 --slices 5 --agg_epochs 15 --density 0.20 --part_type 5 --agg_type softmax --record 0"
   ],
   "metadata": {
    "collapsed": false
   }
  },
  {
   "cell_type": "code",
   "execution_count": 36,
   "outputs": [
    {
     "name": "stdout",
     "output_type": "stream",
     "text": [
      "2023-02-07 06:27:02  Experiment start!\r\n",
      "2023-02-07 06:27:02  Namespace(F=1, agg2=0, agg_decay=0.001, agg_epochs=12, agg_function=1, agg_lr=0.001, agg_type='softmax', att_decay=0.0001, att_lr=0.001, batch_size=128, beta=1, cluster='deep', cuda=True, dataset='rt', debug=0, density=0.2, devices='gpu', dimension=32, dir='../Dataset/mnist', dropout=0.1, epoch=1500, external_dim=64, hidden_dims=[64, 64, 100], input_dim=128, interaction='GraphMF', lamda=1, latent_dim=10, log_interval=100, lr=0.0001, n_classes=10, n_clusters=10, n_jobs=1, node2vec=0, node2vec_batchsize=32, node2vec_dim=128, node2vec_epochs=20, node2vec_length=8, node2vec_walk=15, node2vec_windows=3, num_layers=2, order=2, part_iter=20, part_type=5, path='./datasets/data/WSDREAM/', pre_epoch=1000, pretrain=True, processed=0, random_state=1001, record=0, retrain=0, rounds=1, save_model=1, slice=1, slice_decay=0.001, slice_epochs=100, slice_lr=0.001, slices=5, verbose=10, wd=0.0005)\r\n",
      "2023-02-07 06:27:02  Dataset : rt     interaction : GraphMF\r\n",
      "2023-02-07 06:27:02  Density : 20.00%, slice_epochs : 15, agg_epochs : 12\r\n",
      "2023-02-07 06:27:02  Part_type : 5,    slices : 5,       devices : gpu\r\n",
      "2023-02-07 06:27:02  Slice_lr : 0.01,    Slice_decay : 0.001\r\n",
      "2023-02-07 06:27:02  Agg_lr : 0.001,    Agg_decay : 0.001\r\n",
      "2023-02-07 06:27:02  Aggregation function : softmax\r\n",
      "\r\n",
      "2023-02-07 06:27:02  Round 1 experiment start!\r\n",
      "2023-02-07 06:27:03  \t原始数据集读取完毕\r\n",
      "2023-02-07 06:27:03  \t图嵌入均衡切割\r\n",
      "42 45 78 89 85 \r\n",
      "2023-02-07 06:27:03  \tNode2Vec 基于用户聚类均衡切割完毕\r\n",
      "2023-02-07 06:27:03  \t分切数据执行完毕\r\n",
      "2023-02-07 06:27:03  \tNeuGraphMF建图中\r\n",
      "2023-02-07 06:27:07  \tNeuGraphMF建图完毕\r\n",
      "2023-02-07 06:27:09  \t模型加载完毕\r\n",
      "2023-02-07 06:27:09  \t开始训练聚合模型\r\n",
      "2023-02-07 06:27:13  Epoch  1 : MAE : 0.5354  RMSE : 1.5212  NMAE : 0.5882  MRE : 0.4199  NPRE : 2.4263\r\n",
      "2023-02-07 06:27:17  Epoch  2 : MAE : 0.4807  RMSE : 1.4564  NMAE : 0.5280  MRE : 0.3557  NPRE : 1.8708\r\n",
      "2023-02-07 06:27:21  Epoch  3 : MAE : 0.4433  RMSE : 1.3861  NMAE : 0.4870  MRE : 0.3234  NPRE : 1.5086\r\n",
      "2023-02-07 06:27:25  Epoch  4 : MAE : 0.4152  RMSE : 1.3232  NMAE : 0.4562  MRE : 0.3059  NPRE : 1.4047\r\n",
      "2023-02-07 06:27:29  Epoch  5 : MAE : 0.3909  RMSE : 1.2852  NMAE : 0.4294  MRE : 0.2884  NPRE : 1.3108\r\n",
      "2023-02-07 06:27:33  Epoch  6 : MAE : 0.3827  RMSE : 1.2795  NMAE : 0.4204  MRE : 0.2790  NPRE : 1.1472\r\n",
      "2023-02-07 06:27:37  Epoch  7 : MAE : 0.3778  RMSE : 1.2655  NMAE : 0.4150  MRE : 0.2727  NPRE : 1.2383\r\n",
      "2023-02-07 06:27:41  Epoch  8 : MAE : 0.3722  RMSE : 1.2657  NMAE : 0.4089  MRE : 0.2628  NPRE : 1.1061\r\n",
      "2023-02-07 06:27:45  Epoch  9 : MAE : 0.3698  RMSE : 1.2668  NMAE : 0.4062  MRE : 0.2579  NPRE : 1.0267\r\n",
      "2023-02-07 06:27:49  Epoch 10 : MAE : 0.3660  RMSE : 1.2633  NMAE : 0.4020  MRE : 0.2508  NPRE : 1.0006\r\n",
      "2023-02-07 06:27:53  Epoch 11 : MAE : 0.3644  RMSE : 1.2589  NMAE : 0.4003  MRE : 0.2473  NPRE : 1.0063\r\n",
      "2023-02-07 06:27:57  Epoch 12 : MAE : 0.3630  RMSE : 1.2565  NMAE : 0.3987  MRE : 0.2457  NPRE : 0.9934\r\n",
      "2023-02-07 06:27:57  Best epoch 12 : MAE : 0.3630  RMSE : 1.2565  NMAE : 0.3987  MRE : 0.2457  NPRE : 0.9934\r\n",
      "2023-02-07 06:27:57  \t实验 1 聚合模型训练完毕\r\n",
      "2023-02-07 06:27:59  Result : MAE : 0.3630  RMSE : 1.2565  NMAE : 0.3987  MRE : 0.2457  NPRE : 0.9934\r\n",
      "/home/yxzeng/anaconda3/lib/python3.8/site-packages/numpy/core/fromnumeric.py:3432: RuntimeWarning: Mean of empty slice.\r\n",
      "  return _methods._mean(a, axis=axis, dtype=dtype,\r\n",
      "/home/yxzeng/anaconda3/lib/python3.8/site-packages/numpy/core/_methods.py:190: RuntimeWarning: invalid value encountered in double_scalars\r\n",
      "  ret = ret.dtype.type(ret / rcount)\r\n",
      "2023-02-07 06:27:59  \t实验 1 : Shards training time = nan s\r\n",
      "\r\n",
      "2023-02-07 06:27:59  \t实验 1 : Aggregators training time = 26.79 s\r\n",
      "\r\n",
      "2023-02-07 06:27:59  \t聚合模型训练完毕\r\n",
      "------------------------------------------------------------------------------------------------------------------------\r\n",
      "2023-02-07 06:27:59  Dataset : rt     interaction : GraphMF\r\n",
      "2023-02-07 06:27:59  Density : 20.00%, slice_epochs : 15, agg_epochs : 12\r\n",
      "2023-02-07 06:27:59  Part_type : 5,    slices : 5,       devices : gpu\r\n",
      "\r\n",
      "\r\n",
      "2023-02-07 06:27:59  Density 20.00% : MAE = 0.363, RMSE = 1.257, NMAE = 0.399, MRE = 0.246, NPRE = 0.993\r\n",
      "\r\n",
      "2023-02-07 06:27:59  Experiment success!\r\n",
      "\r\n"
     ]
    }
   ],
   "source": [
    "!python Experiment.py --dataset rt --interaction GraphMF --rounds 1 --slices 5 --agg_epochs 12 --density 0.20 --part_type 5 --agg_type softmax --record 0"
   ],
   "metadata": {
    "collapsed": false
   }
  },
  {
   "cell_type": "code",
   "execution_count": 37,
   "outputs": [
    {
     "name": "stdout",
     "output_type": "stream",
     "text": [
      "2023-02-07 06:28:00  Experiment start!\r\n",
      "2023-02-07 06:28:00  Namespace(F=1, agg2=0, agg_decay=0.001, agg_epochs=15, agg_function=1, agg_lr=0.001, agg_type='softmax', att_decay=0.0001, att_lr=0.001, batch_size=128, beta=1, cluster='deep', cuda=True, dataset='tp', debug=0, density=0.2, devices='gpu', dimension=32, dir='../Dataset/mnist', dropout=0.1, epoch=1500, external_dim=64, hidden_dims=[64, 64, 100], input_dim=128, interaction='NeuCF', lamda=1, latent_dim=10, log_interval=100, lr=0.0001, n_classes=10, n_clusters=10, n_jobs=1, node2vec=0, node2vec_batchsize=32, node2vec_dim=128, node2vec_epochs=20, node2vec_length=8, node2vec_walk=15, node2vec_windows=3, num_layers=2, order=2, part_iter=20, part_type=5, path='./datasets/data/WSDREAM/', pre_epoch=1000, pretrain=True, processed=0, random_state=1001, record=0, retrain=0, rounds=1, save_model=1, slice=1, slice_decay=0.001, slice_epochs=100, slice_lr=0.001, slices=5, verbose=10, wd=0.0005)\r\n",
      "2023-02-07 06:28:00  Dataset : tp     interaction : NeuCF\r\n",
      "2023-02-07 06:28:00  Density : 20.00%, slice_epochs : 100, agg_epochs : 15\r\n",
      "2023-02-07 06:28:00  Part_type : 5,    slices : 5,       devices : gpu\r\n",
      "2023-02-07 06:28:00  Slice_lr : 0.004,    Slice_decay : 0.001\r\n",
      "2023-02-07 06:28:00  Agg_lr : 0.001,    Agg_decay : 0.001\r\n",
      "2023-02-07 06:28:00  Aggregation function : softmax\r\n",
      "\r\n",
      "2023-02-07 06:28:00  Round 1 experiment start!\r\n",
      "2023-02-07 06:28:00  \t原始数据集读取完毕\r\n",
      "2023-02-07 06:28:01  \t图嵌入均衡切割\r\n",
      "42 45 78 89 85 \r\n",
      "2023-02-07 06:28:01  \tNode2Vec 基于用户聚类均衡切割完毕\r\n",
      "2023-02-07 06:28:01  \t分切数据执行完毕\r\n",
      "2023-02-07 06:28:03  \t模型加载完毕\r\n",
      "2023-02-07 06:28:03  \t开始训练聚合模型\r\n",
      "2023-02-07 06:28:09  Epoch  1 : MAE : 20.4736  RMSE : 57.8969  NMAE : 0.4307  MRE : 0.4666  NPRE : 1.2759\r\n",
      "2023-02-07 06:28:14  Epoch  2 : MAE : 18.3928  RMSE : 53.4502  NMAE : 0.3869  MRE : 0.3718  NPRE : 1.3477\r\n",
      "2023-02-07 06:28:20  Epoch  3 : MAE : 17.4823  RMSE : 51.5826  NMAE : 0.3678  MRE : 0.3574  NPRE : 1.0619\r\n",
      "2023-02-07 06:28:25  Epoch  4 : MAE : 16.8971  RMSE : 50.0647  NMAE : 0.3555  MRE : 0.3361  NPRE : 2.0054\r\n",
      "2023-02-07 06:28:30  Epoch  5 : MAE : 16.4709  RMSE : 49.3626  NMAE : 0.3465  MRE : 0.3183  NPRE : 1.5995\r\n",
      "2023-02-07 06:28:36  Epoch  6 : MAE : 16.4054  RMSE : 49.5795  NMAE : 0.3451  MRE : 0.3274  NPRE : 1.1040\r\n",
      "2023-02-07 06:28:41  Epoch  7 : MAE : 16.1557  RMSE : 48.8458  NMAE : 0.3399  MRE : 0.3083  NPRE : 1.4354\r\n",
      "2023-02-07 06:28:47  Epoch  8 : MAE : 16.0850  RMSE : 48.4319  NMAE : 0.3384  MRE : 0.3113  NPRE : 2.0647\r\n",
      "2023-02-07 06:28:52  Epoch  9 : MAE : 16.0390  RMSE : 48.1535  NMAE : 0.3374  MRE : 0.3140  NPRE : 2.1641\r\n",
      "2023-02-07 06:28:57  Epoch 10 : MAE : 15.9193  RMSE : 48.3368  NMAE : 0.3349  MRE : 0.2992  NPRE : 1.5033\r\n",
      "2023-02-07 06:29:03  Epoch 11 : MAE : 15.7120  RMSE : 48.1548  NMAE : 0.3305  MRE : 0.2962  NPRE : 1.3022\r\n",
      "2023-02-07 06:29:08  Epoch 12 : MAE : 15.6093  RMSE : 47.6438  NMAE : 0.3284  MRE : 0.3201  NPRE : 1.0000\r\n",
      "2023-02-07 06:29:14  Epoch 13 : MAE : 15.5647  RMSE : 47.6850  NMAE : 0.3274  MRE : 0.2918  NPRE : 1.6986\r\n",
      "2023-02-07 06:29:19  Epoch 14 : MAE : 15.5133  RMSE : 47.3737  NMAE : 0.3264  MRE : 0.2980  NPRE : 1.2151\r\n",
      "2023-02-07 06:29:24  Epoch 15 : MAE : 15.5986  RMSE : 47.5164  NMAE : 0.3281  MRE : 0.2932  NPRE : 1.5986\r\n",
      "2023-02-07 06:29:24  Best epoch 14 : MAE : 15.5133  RMSE : 47.3737  NMAE : 0.3264  MRE : 0.2980  NPRE : 1.2151\r\n",
      "2023-02-07 06:29:24  \t实验 1 聚合模型训练完毕\r\n",
      "2023-02-07 06:29:26  Result : MAE : 15.5024  RMSE : 47.3421  NMAE : 0.3261  MRE : 0.2985  NPRE : 1.2097\r\n",
      "/home/yxzeng/anaconda3/lib/python3.8/site-packages/numpy/core/fromnumeric.py:3432: RuntimeWarning: Mean of empty slice.\r\n",
      "  return _methods._mean(a, axis=axis, dtype=dtype,\r\n",
      "/home/yxzeng/anaconda3/lib/python3.8/site-packages/numpy/core/_methods.py:190: RuntimeWarning: invalid value encountered in double_scalars\r\n",
      "  ret = ret.dtype.type(ret / rcount)\r\n",
      "2023-02-07 06:29:26  \t实验 1 : Shards training time = nan s\r\n",
      "\r\n",
      "2023-02-07 06:29:26  \t实验 1 : Aggregators training time = 50.24 s\r\n",
      "\r\n",
      "2023-02-07 06:29:26  \t聚合模型训练完毕\r\n",
      "------------------------------------------------------------------------------------------------------------------------\r\n",
      "2023-02-07 06:29:26  Dataset : tp     interaction : NeuCF\r\n",
      "2023-02-07 06:29:26  Density : 20.00%, slice_epochs : 100, agg_epochs : 15\r\n",
      "2023-02-07 06:29:26  Part_type : 5,    slices : 5,       devices : gpu\r\n",
      "\r\n",
      "\r\n",
      "2023-02-07 06:29:26  Density 20.00% : MAE = 15.502, RMSE = 47.342, NMAE = 0.326, MRE = 0.298, NPRE = 1.210\r\n",
      "\r\n",
      "2023-02-07 06:29:26  Experiment success!\r\n",
      "\r\n"
     ]
    }
   ],
   "source": [
    "!python Experiment.py --dataset tp --interaction NeuCF --rounds 1 --slices 5 --agg_epochs 15 --density 0.20 --part_type 5 --agg_type softmax --record 0"
   ],
   "metadata": {
    "collapsed": false
   }
  },
  {
   "cell_type": "code",
   "execution_count": 38,
   "outputs": [
    {
     "name": "stdout",
     "output_type": "stream",
     "text": [
      "2023-02-07 06:29:27  Experiment start!\r\n",
      "2023-02-07 06:29:27  Namespace(F=1, agg2=0, agg_decay=0.001, agg_epochs=20, agg_function=1, agg_lr=0.001, agg_type='softmax', att_decay=0.0001, att_lr=0.001, batch_size=128, beta=1, cluster='deep', cuda=True, dataset='tp', debug=0, density=0.2, devices='gpu', dimension=32, dir='../Dataset/mnist', dropout=0.1, epoch=1500, external_dim=64, hidden_dims=[64, 64, 100], input_dim=128, interaction='CSMF', lamda=1, latent_dim=10, log_interval=100, lr=0.0001, n_classes=10, n_clusters=10, n_jobs=1, node2vec=0, node2vec_batchsize=32, node2vec_dim=128, node2vec_epochs=20, node2vec_length=8, node2vec_walk=15, node2vec_windows=3, num_layers=2, order=2, part_iter=20, part_type=5, path='./datasets/data/WSDREAM/', pre_epoch=1000, pretrain=True, processed=0, random_state=1001, record=0, retrain=0, rounds=1, save_model=1, slice=1, slice_decay=0.001, slice_epochs=100, slice_lr=0.001, slices=5, verbose=10, wd=0.0005)\r\n",
      "2023-02-07 06:29:27  Dataset : tp     interaction : CSMF\r\n",
      "2023-02-07 06:29:27  Density : 20.00%, slice_epochs : 100, agg_epochs : 20\r\n",
      "2023-02-07 06:29:27  Part_type : 5,    slices : 5,       devices : gpu\r\n",
      "2023-02-07 06:29:27  Slice_lr : 0.01,    Slice_decay : 0.001\r\n",
      "2023-02-07 06:29:27  Agg_lr : 0.008,    Agg_decay : 0.001\r\n",
      "2023-02-07 06:29:27  Aggregation function : softmax\r\n",
      "\r\n",
      "2023-02-07 06:29:27  Round 1 experiment start!\r\n",
      "2023-02-07 06:29:27  \t原始数据集读取完毕\r\n",
      "2023-02-07 06:29:28  \t图嵌入均衡切割\r\n",
      "42 45 78 89 85 \r\n",
      "2023-02-07 06:29:28  \tNode2Vec 基于用户聚类均衡切割完毕\r\n",
      "2023-02-07 06:29:28  \t分切数据执行完毕\r\n",
      "2023-02-07 06:29:30  \t模型加载完毕\r\n",
      "2023-02-07 06:29:30  \t开始训练聚合模型\r\n",
      "2023-02-07 06:29:34  Epoch  1 : MAE : 26.0155  RMSE : 68.9912  NMAE : 0.5473  MRE : 0.5077  NPRE : 2.4341\r\n",
      "2023-02-07 06:29:38  Epoch  2 : MAE : 24.3868  RMSE : 65.6771  NMAE : 0.5130  MRE : 0.4677  NPRE : 2.2532\r\n",
      "2023-02-07 06:29:42  Epoch  3 : MAE : 24.0867  RMSE : 66.7116  NMAE : 0.5067  MRE : 0.4388  NPRE : 1.9513\r\n",
      "2023-02-07 06:29:46  Epoch  4 : MAE : 23.3188  RMSE : 63.3303  NMAE : 0.4906  MRE : 0.4324  NPRE : 2.1682\r\n",
      "2023-02-07 06:29:50  Epoch  5 : MAE : 23.0348  RMSE : 63.6932  NMAE : 0.4846  MRE : 0.4170  NPRE : 1.8171\r\n",
      "2023-02-07 06:29:54  Epoch  6 : MAE : 22.9135  RMSE : 63.3042  NMAE : 0.4820  MRE : 0.4140  NPRE : 1.8308\r\n",
      "2023-02-07 06:29:58  Epoch  7 : MAE : 22.9345  RMSE : 63.1344  NMAE : 0.4825  MRE : 0.4173  NPRE : 1.7614\r\n",
      "2023-02-07 06:30:02  Epoch  8 : MAE : 22.8818  RMSE : 63.1419  NMAE : 0.4814  MRE : 0.4193  NPRE : 2.1370\r\n",
      "2023-02-07 06:30:06  Epoch  9 : MAE : 22.8837  RMSE : 63.6095  NMAE : 0.4814  MRE : 0.4116  NPRE : 1.8443\r\n",
      "2023-02-07 06:30:10  Epoch 10 : MAE : 22.8130  RMSE : 63.1397  NMAE : 0.4799  MRE : 0.4171  NPRE : 1.9828\r\n",
      "2023-02-07 06:30:14  Epoch 11 : MAE : 22.8518  RMSE : 62.2250  NMAE : 0.4807  MRE : 0.4213  NPRE : 2.0701\r\n",
      "2023-02-07 06:30:18  Epoch 12 : MAE : 22.7523  RMSE : 63.2633  NMAE : 0.4786  MRE : 0.4136  NPRE : 1.9494\r\n",
      "2023-02-07 06:30:22  Epoch 13 : MAE : 22.7396  RMSE : 62.6976  NMAE : 0.4784  MRE : 0.4150  NPRE : 1.9082\r\n",
      "2023-02-07 06:30:26  Epoch 14 : MAE : 22.7865  RMSE : 62.2956  NMAE : 0.4794  MRE : 0.4237  NPRE : 2.0507\r\n",
      "2023-02-07 06:30:30  Epoch 15 : MAE : 22.7076  RMSE : 62.3914  NMAE : 0.4777  MRE : 0.4161  NPRE : 1.9901\r\n",
      "2023-02-07 06:30:34  Epoch 16 : MAE : 22.8752  RMSE : 63.8899  NMAE : 0.4812  MRE : 0.4123  NPRE : 1.8081\r\n",
      "2023-02-07 06:30:38  Epoch 17 : MAE : 22.6929  RMSE : 62.4052  NMAE : 0.4774  MRE : 0.4171  NPRE : 2.0215\r\n",
      "2023-02-07 06:30:42  Epoch 18 : MAE : 22.7388  RMSE : 62.0796  NMAE : 0.4784  MRE : 0.4206  NPRE : 2.0492\r\n",
      "2023-02-07 06:30:46  Epoch 19 : MAE : 22.7555  RMSE : 62.1864  NMAE : 0.4787  MRE : 0.4211  NPRE : 2.0850\r\n",
      "2023-02-07 06:30:50  Epoch 20 : MAE : 22.7599  RMSE : 62.8917  NMAE : 0.4788  MRE : 0.4156  NPRE : 1.7649\r\n",
      "2023-02-07 06:30:50  Best epoch 17 : MAE : 22.6929  RMSE : 62.4052  NMAE : 0.4774  MRE : 0.4171  NPRE : 2.0215\r\n",
      "2023-02-07 06:30:50  \t实验 1 聚合模型训练完毕\r\n",
      "2023-02-07 06:30:52  Result : MAE : 22.7610  RMSE : 62.7614  NMAE : 0.4788  MRE : 0.4172  NPRE : 2.0119\r\n",
      "/home/yxzeng/anaconda3/lib/python3.8/site-packages/numpy/core/fromnumeric.py:3432: RuntimeWarning: Mean of empty slice.\r\n",
      "  return _methods._mean(a, axis=axis, dtype=dtype,\r\n",
      "/home/yxzeng/anaconda3/lib/python3.8/site-packages/numpy/core/_methods.py:190: RuntimeWarning: invalid value encountered in double_scalars\r\n",
      "  ret = ret.dtype.type(ret / rcount)\r\n",
      "2023-02-07 06:30:52  \t实验 1 : Shards training time = nan s\r\n",
      "\r\n",
      "2023-02-07 06:30:52  \t实验 1 : Aggregators training time = 36.97 s\r\n",
      "\r\n",
      "2023-02-07 06:30:52  \t聚合模型训练完毕\r\n",
      "------------------------------------------------------------------------------------------------------------------------\r\n",
      "2023-02-07 06:30:52  Dataset : tp     interaction : CSMF\r\n",
      "2023-02-07 06:30:52  Density : 20.00%, slice_epochs : 100, agg_epochs : 20\r\n",
      "2023-02-07 06:30:52  Part_type : 5,    slices : 5,       devices : gpu\r\n",
      "\r\n",
      "\r\n",
      "2023-02-07 06:30:52  Density 20.00% : MAE = 22.761, RMSE = 62.761, NMAE = 0.479, MRE = 0.417, NPRE = 2.012\r\n",
      "\r\n",
      "2023-02-07 06:30:52  Experiment success!\r\n",
      "\r\n"
     ]
    }
   ],
   "source": [
    "!python Experiment.py --dataset tp --interaction CSMF --rounds 1 --slices 5 --agg_epochs 20 --density 0.20 --part_type 5 --agg_type softmax --record 0"
   ],
   "metadata": {
    "collapsed": false
   }
  },
  {
   "cell_type": "code",
   "execution_count": 39,
   "outputs": [
    {
     "name": "stdout",
     "output_type": "stream",
     "text": [
      "2023-02-07 06:30:53  Experiment start!\r\n",
      "2023-02-07 06:30:53  Namespace(F=1, agg2=0, agg_decay=0.001, agg_epochs=20, agg_function=1, agg_lr=0.001, agg_type='softmax', att_decay=0.0001, att_lr=0.001, batch_size=128, beta=1, cluster='deep', cuda=True, dataset='tp', debug=0, density=0.2, devices='gpu', dimension=32, dir='../Dataset/mnist', dropout=0.1, epoch=1500, external_dim=64, hidden_dims=[64, 64, 100], input_dim=128, interaction='MF', lamda=1, latent_dim=10, log_interval=100, lr=0.0001, n_classes=10, n_clusters=10, n_jobs=1, node2vec=0, node2vec_batchsize=32, node2vec_dim=128, node2vec_epochs=20, node2vec_length=8, node2vec_walk=15, node2vec_windows=3, num_layers=2, order=2, part_iter=20, part_type=5, path='./datasets/data/WSDREAM/', pre_epoch=1000, pretrain=True, processed=0, random_state=1001, record=0, retrain=0, rounds=1, save_model=1, slice=1, slice_decay=0.001, slice_epochs=100, slice_lr=0.001, slices=5, verbose=10, wd=0.0005)\r\n",
      "2023-02-07 06:30:53  Dataset : tp     interaction : MF\r\n",
      "2023-02-07 06:30:53  Density : 20.00%, slice_epochs : 100, agg_epochs : 20\r\n",
      "2023-02-07 06:30:53  Part_type : 5,    slices : 5,       devices : gpu\r\n",
      "2023-02-07 06:30:53  Slice_lr : 0.008,    Slice_decay : 0.001\r\n",
      "2023-02-07 06:30:53  Agg_lr : 0.001,    Agg_decay : 0.001\r\n",
      "2023-02-07 06:30:53  Aggregation function : softmax\r\n",
      "\r\n",
      "2023-02-07 06:30:53  Round 1 experiment start!\r\n",
      "2023-02-07 06:30:53  \t原始数据集读取完毕\r\n",
      "2023-02-07 06:30:53  \t图嵌入均衡切割\r\n",
      "42 45 78 89 85 \r\n",
      "2023-02-07 06:30:53  \tNode2Vec 基于用户聚类均衡切割完毕\r\n",
      "2023-02-07 06:30:53  \t分切数据执行完毕\r\n",
      "2023-02-07 06:30:55  \t模型加载完毕\r\n",
      "2023-02-07 06:30:55  \t开始训练聚合模型\r\n",
      "2023-02-07 06:30:59  Epoch  1 : MAE : 36.0605  RMSE : 90.0399  NMAE : 0.7586  MRE : 0.8613  NPRE : 6.0838\r\n",
      "2023-02-07 06:31:03  Epoch  2 : MAE : 34.9776  RMSE : 86.9165  NMAE : 0.7358  MRE : 0.8631  NPRE : 6.1299\r\n",
      "2023-02-07 06:31:07  Epoch  3 : MAE : 34.6031  RMSE : 86.1886  NMAE : 0.7279  MRE : 0.8598  NPRE : 6.1518\r\n",
      "2023-02-07 06:31:11  Epoch  4 : MAE : 34.2010  RMSE : 85.5309  NMAE : 0.7195  MRE : 0.8522  NPRE : 6.0242\r\n",
      "2023-02-07 06:31:14  Epoch  5 : MAE : 33.9040  RMSE : 85.0943  NMAE : 0.7132  MRE : 0.8419  NPRE : 6.1325\r\n",
      "2023-02-07 06:31:18  Epoch  6 : MAE : 33.4146  RMSE : 85.1129  NMAE : 0.7029  MRE : 0.8243  NPRE : 5.4592\r\n",
      "2023-02-07 06:31:22  Epoch  7 : MAE : 33.1278  RMSE : 84.4401  NMAE : 0.6969  MRE : 0.8168  NPRE : 5.5561\r\n",
      "2023-02-07 06:31:25  Epoch  8 : MAE : 32.9570  RMSE : 84.5235  NMAE : 0.6933  MRE : 0.8033  NPRE : 5.5112\r\n",
      "2023-02-07 06:31:29  Epoch  9 : MAE : 32.8144  RMSE : 84.6411  NMAE : 0.6903  MRE : 0.7936  NPRE : 5.4752\r\n",
      "2023-02-07 06:31:33  Epoch 10 : MAE : 32.5500  RMSE : 83.9619  NMAE : 0.6848  MRE : 0.7872  NPRE : 5.3187\r\n",
      "2023-02-07 06:31:37  Epoch 11 : MAE : 32.4811  RMSE : 84.0248  NMAE : 0.6833  MRE : 0.7813  NPRE : 5.4108\r\n",
      "2023-02-07 06:31:41  Epoch 12 : MAE : 32.3875  RMSE : 83.7446  NMAE : 0.6813  MRE : 0.7743  NPRE : 5.4592\r\n",
      "2023-02-07 06:31:44  Epoch 13 : MAE : 32.2982  RMSE : 83.6172  NMAE : 0.6795  MRE : 0.7753  NPRE : 5.4043\r\n",
      "2023-02-07 06:31:48  Epoch 14 : MAE : 32.0944  RMSE : 82.8363  NMAE : 0.6752  MRE : 0.7795  NPRE : 5.1978\r\n",
      "2023-02-07 06:31:52  Epoch 15 : MAE : 32.2119  RMSE : 83.1394  NMAE : 0.6776  MRE : 0.7719  NPRE : 5.6181\r\n",
      "2023-02-07 06:31:55  Epoch 16 : MAE : 32.2016  RMSE : 83.3320  NMAE : 0.6774  MRE : 0.7642  NPRE : 5.6036\r\n",
      "2023-02-07 06:31:59  Epoch 17 : MAE : 32.0407  RMSE : 83.2142  NMAE : 0.6740  MRE : 0.7620  NPRE : 5.1530\r\n",
      "2023-02-07 06:32:03  Epoch 18 : MAE : 31.9395  RMSE : 82.4962  NMAE : 0.6719  MRE : 0.7699  NPRE : 5.2099\r\n",
      "2023-02-07 06:32:07  Epoch 19 : MAE : 32.0578  RMSE : 82.9163  NMAE : 0.6744  MRE : 0.7677  NPRE : 5.5530\r\n",
      "2023-02-07 06:32:11  Epoch 20 : MAE : 31.9104  RMSE : 82.5802  NMAE : 0.6713  MRE : 0.7642  NPRE : 5.2462\r\n",
      "2023-02-07 06:32:11  Best epoch 20 : MAE : 31.9104  RMSE : 82.5802  NMAE : 0.6713  MRE : 0.7642  NPRE : 5.2462\r\n",
      "2023-02-07 06:32:11  \t实验 1 聚合模型训练完毕\r\n",
      "2023-02-07 06:32:12  Result : MAE : 31.9104  RMSE : 82.5802  NMAE : 0.6713  MRE : 0.7642  NPRE : 5.2462\r\n",
      "/home/yxzeng/anaconda3/lib/python3.8/site-packages/numpy/core/fromnumeric.py:3432: RuntimeWarning: Mean of empty slice.\r\n",
      "  return _methods._mean(a, axis=axis, dtype=dtype,\r\n",
      "/home/yxzeng/anaconda3/lib/python3.8/site-packages/numpy/core/_methods.py:190: RuntimeWarning: invalid value encountered in double_scalars\r\n",
      "  ret = ret.dtype.type(ret / rcount)\r\n",
      "2023-02-07 06:32:12  \t实验 1 : Shards training time = nan s\r\n",
      "\r\n",
      "2023-02-07 06:32:12  \t实验 1 : Aggregators training time = 38.74 s\r\n",
      "\r\n",
      "2023-02-07 06:32:12  \t聚合模型训练完毕\r\n",
      "------------------------------------------------------------------------------------------------------------------------\r\n",
      "2023-02-07 06:32:12  Dataset : tp     interaction : MF\r\n",
      "2023-02-07 06:32:12  Density : 20.00%, slice_epochs : 100, agg_epochs : 20\r\n",
      "2023-02-07 06:32:12  Part_type : 5,    slices : 5,       devices : gpu\r\n",
      "\r\n",
      "\r\n",
      "2023-02-07 06:32:12  Density 20.00% : MAE = 31.910, RMSE = 82.580, NMAE = 0.671, MRE = 0.764, NPRE = 5.246\r\n",
      "\r\n",
      "2023-02-07 06:32:12  Experiment success!\r\n",
      "\r\n"
     ]
    }
   ],
   "source": [
    "!python Experiment.py --dataset tp --interaction MF --rounds 1 --slices 5 --agg_epochs 20 --density 0.20 --part_type 5 --agg_type softmax --record 0"
   ],
   "metadata": {
    "collapsed": false
   }
  },
  {
   "cell_type": "code",
   "execution_count": 40,
   "outputs": [
    {
     "name": "stdout",
     "output_type": "stream",
     "text": [
      "2023-02-07 06:32:13  Experiment start!\r\n",
      "2023-02-07 06:32:13  Namespace(F=1, agg2=0, agg_decay=0.001, agg_epochs=15, agg_function=1, agg_lr=0.001, agg_type='softmax', att_decay=0.0001, att_lr=0.001, batch_size=128, beta=1, cluster='deep', cuda=True, dataset='tp', debug=0, density=0.2, devices='gpu', dimension=32, dir='../Dataset/mnist', dropout=0.1, epoch=1500, external_dim=64, hidden_dims=[64, 64, 100], input_dim=128, interaction='GraphMF', lamda=1, latent_dim=10, log_interval=100, lr=0.0001, n_classes=10, n_clusters=10, n_jobs=1, node2vec=0, node2vec_batchsize=32, node2vec_dim=128, node2vec_epochs=20, node2vec_length=8, node2vec_walk=15, node2vec_windows=3, num_layers=2, order=2, part_iter=20, part_type=5, path='./datasets/data/WSDREAM/', pre_epoch=1000, pretrain=True, processed=0, random_state=1001, record=0, retrain=0, rounds=1, save_model=1, slice=1, slice_decay=0.001, slice_epochs=100, slice_lr=0.001, slices=5, verbose=10, wd=0.0005)\r\n",
      "2023-02-07 06:32:13  Dataset : tp     interaction : GraphMF\r\n",
      "2023-02-07 06:32:13  Density : 20.00%, slice_epochs : 15, agg_epochs : 15\r\n",
      "2023-02-07 06:32:13  Part_type : 5,    slices : 5,       devices : gpu\r\n",
      "2023-02-07 06:32:13  Slice_lr : 0.01,    Slice_decay : 0.001\r\n",
      "2023-02-07 06:32:13  Agg_lr : 0.001,    Agg_decay : 0.001\r\n",
      "2023-02-07 06:32:13  Aggregation function : softmax\r\n",
      "\r\n",
      "2023-02-07 06:32:13  Round 1 experiment start!\r\n",
      "2023-02-07 06:32:14  \t原始数据集读取完毕\r\n",
      "2023-02-07 06:32:14  \t图嵌入均衡切割\r\n",
      "42 45 78 89 85 \r\n",
      "2023-02-07 06:32:14  \tNode2Vec 基于用户聚类均衡切割完毕\r\n",
      "2023-02-07 06:32:14  \t分切数据执行完毕\r\n",
      "2023-02-07 06:32:14  \tNeuGraphMF建图中\r\n",
      "2023-02-07 06:32:18  \tNeuGraphMF建图完毕\r\n",
      "2023-02-07 06:32:20  \t模型加载完毕\r\n",
      "2023-02-07 06:32:20  \t开始训练聚合模型\r\n",
      "2023-02-07 06:32:24  Epoch  1 : MAE : 21.8856  RMSE : 59.0408  NMAE : 0.4604  MRE : 0.4598  NPRE : 3.1970\r\n",
      "2023-02-07 06:32:28  Epoch  2 : MAE : 18.8830  RMSE : 54.5335  NMAE : 0.3972  MRE : 0.3394  NPRE : 2.0884\r\n",
      "2023-02-07 06:32:32  Epoch  3 : MAE : 17.8975  RMSE : 53.0621  NMAE : 0.3765  MRE : 0.3074  NPRE : 1.7367\r\n",
      "2023-02-07 06:32:36  Epoch  4 : MAE : 17.1891  RMSE : 51.6395  NMAE : 0.3616  MRE : 0.2897  NPRE : 1.5772\r\n",
      "2023-02-07 06:32:40  Epoch  5 : MAE : 16.7567  RMSE : 50.6456  NMAE : 0.3525  MRE : 0.2795  NPRE : 1.5082\r\n",
      "2023-02-07 06:32:44  Epoch  6 : MAE : 16.3833  RMSE : 50.2917  NMAE : 0.3447  MRE : 0.2715  NPRE : 1.3614\r\n",
      "2023-02-07 06:32:48  Epoch  7 : MAE : 16.1631  RMSE : 49.5878  NMAE : 0.3400  MRE : 0.2696  NPRE : 1.3905\r\n",
      "2023-02-07 06:32:52  Epoch  8 : MAE : 15.8392  RMSE : 49.3373  NMAE : 0.3332  MRE : 0.2588  NPRE : 1.2560\r\n",
      "2023-02-07 06:32:56  Epoch  9 : MAE : 15.6520  RMSE : 48.8716  NMAE : 0.3293  MRE : 0.2570  NPRE : 1.2336\r\n",
      "2023-02-07 06:33:00  Epoch 10 : MAE : 15.4114  RMSE : 48.3984  NMAE : 0.3242  MRE : 0.2524  NPRE : 1.1628\r\n",
      "2023-02-07 06:33:04  Epoch 11 : MAE : 15.2835  RMSE : 48.3516  NMAE : 0.3215  MRE : 0.2488  NPRE : 1.1656\r\n",
      "2023-02-07 06:33:08  Epoch 12 : MAE : 15.2484  RMSE : 48.4044  NMAE : 0.3208  MRE : 0.2468  NPRE : 1.0766\r\n",
      "2023-02-07 06:33:13  Epoch 13 : MAE : 15.0756  RMSE : 47.8336  NMAE : 0.3171  MRE : 0.2447  NPRE : 1.1334\r\n",
      "2023-02-07 06:33:17  Epoch 14 : MAE : 15.0023  RMSE : 47.7077  NMAE : 0.3156  MRE : 0.2434  NPRE : 1.1103\r\n",
      "2023-02-07 06:33:21  Epoch 15 : MAE : 14.9381  RMSE : 47.4827  NMAE : 0.3143  MRE : 0.2426  NPRE : 1.1611\r\n",
      "2023-02-07 06:33:21  Best epoch 15 : MAE : 14.9381  RMSE : 47.4827  NMAE : 0.3143  MRE : 0.2426  NPRE : 1.1611\r\n",
      "2023-02-07 06:33:21  \t实验 1 聚合模型训练完毕\r\n",
      "2023-02-07 06:33:22  Result : MAE : 14.9381  RMSE : 47.4827  NMAE : 0.3143  MRE : 0.2426  NPRE : 1.1611\r\n",
      "/home/yxzeng/anaconda3/lib/python3.8/site-packages/numpy/core/fromnumeric.py:3432: RuntimeWarning: Mean of empty slice.\r\n",
      "  return _methods._mean(a, axis=axis, dtype=dtype,\r\n",
      "/home/yxzeng/anaconda3/lib/python3.8/site-packages/numpy/core/_methods.py:190: RuntimeWarning: invalid value encountered in double_scalars\r\n",
      "  ret = ret.dtype.type(ret / rcount)\r\n",
      "2023-02-07 06:33:22  \t实验 1 : Shards training time = nan s\r\n",
      "\r\n",
      "2023-02-07 06:33:22  \t实验 1 : Aggregators training time = 33.13 s\r\n",
      "\r\n",
      "2023-02-07 06:33:22  \t聚合模型训练完毕\r\n",
      "------------------------------------------------------------------------------------------------------------------------\r\n",
      "2023-02-07 06:33:22  Dataset : tp     interaction : GraphMF\r\n",
      "2023-02-07 06:33:22  Density : 20.00%, slice_epochs : 15, agg_epochs : 15\r\n",
      "2023-02-07 06:33:22  Part_type : 5,    slices : 5,       devices : gpu\r\n",
      "\r\n",
      "\r\n",
      "2023-02-07 06:33:22  Density 20.00% : MAE = 14.938, RMSE = 47.483, NMAE = 0.314, MRE = 0.243, NPRE = 1.161\r\n",
      "\r\n",
      "2023-02-07 06:33:22  Experiment success!\r\n",
      "\r\n"
     ]
    }
   ],
   "source": [
    "!python Experiment.py --dataset tp --interaction GraphMF --rounds 1 --slices 5 --agg_epochs 15 --density 0.20 --part_type 5 --agg_type softmax --record 0"
   ],
   "metadata": {
    "collapsed": false
   }
  },
  {
   "cell_type": "code",
   "execution_count": 41,
   "outputs": [
    {
     "name": "stdout",
     "output_type": "stream",
     "text": [
      "2023-02-07 06:33:24  Experiment start!\r\n",
      "2023-02-07 06:33:24  Namespace(F=1, agg2=0, agg_decay=0.001, agg_epochs=12, agg_function=1, agg_lr=0.001, agg_type='att', att_decay=0.0001, att_lr=0.001, batch_size=128, beta=1, cluster='deep', cuda=True, dataset='rt', debug=0, density=0.2, devices='gpu', dimension=32, dir='../Dataset/mnist', dropout=0.1, epoch=1500, external_dim=64, hidden_dims=[64, 64, 100], input_dim=128, interaction='NeuCF', lamda=1, latent_dim=10, log_interval=100, lr=0.0001, n_classes=10, n_clusters=10, n_jobs=1, node2vec=0, node2vec_batchsize=32, node2vec_dim=128, node2vec_epochs=20, node2vec_length=8, node2vec_walk=15, node2vec_windows=3, num_layers=2, order=2, part_iter=20, part_type=6, path='./datasets/data/WSDREAM/', pre_epoch=1000, pretrain=True, processed=0, random_state=1001, record=0, retrain=0, rounds=1, save_model=1, slice=1, slice_decay=0.001, slice_epochs=100, slice_lr=0.001, slices=5, verbose=10, wd=0.0005)\r\n",
      "2023-02-07 06:33:24  Dataset : rt     interaction : NeuCF\r\n",
      "2023-02-07 06:33:24  Density : 20.00%, slice_epochs : 100, agg_epochs : 12\r\n",
      "2023-02-07 06:33:24  Part_type : 6,    slices : 5,       devices : gpu\r\n",
      "2023-02-07 06:33:24  Slice_lr : 0.004,    Slice_decay : 0.001\r\n",
      "2023-02-07 06:33:24  Agg_lr : 0.001,    Agg_decay : 0.001\r\n",
      "2023-02-07 06:33:24  Aggregation function : att\r\n",
      "\r\n",
      "2023-02-07 06:33:24  Round 1 experiment start!\r\n",
      "2023-02-07 06:33:24  \t原始数据集读取完毕\r\n",
      "2023-02-07 06:33:24  \t简单聚类\r\n",
      "{1: 70, 2: 54, 0: 74, 4: 86, 3: 55}\r\n",
      "2023-02-07 06:33:24  \t地区特征 基于用户切割完毕\r\n",
      "2023-02-07 06:33:24  \t分切数据执行完毕\r\n",
      "2023-02-07 06:33:26  \t模型加载完毕\r\n",
      "2023-02-07 06:33:26  \t准备训练切片模型\r\n",
      "2023-02-07 06:33:26  \t实验 1 模型 1 开始分片训练\r\n",
      "2023-02-07 06:33:30  Epoch 10 : MAE : 0.5835  RMSE : 1.5618  NMAE : 0.9113  MRE : 0.8835  NPRE : 6.0977\r\n",
      "2023-02-07 06:33:33  Epoch 20 : MAE : 0.5707  RMSE : 1.5708  NMAE : 0.8912  MRE : 0.8549  NPRE : 5.1546\r\n",
      "2023-02-07 06:33:35  Best epoch 15 : MAE : 0.5431  RMSE : 1.5669  NMAE : 0.8481  MRE : 0.7654  NPRE : 4.4433\r\n",
      "2023-02-07 06:33:35  实验 1 模型 1 training time = 0.28 s\r\n",
      "2023-02-07 06:33:35  Slice ID  1 : MAE = 0.5431, RMSE = 1.5669, NMAE = 0.8481, MRE = 0.7654, NPRE = 4.4433\r\n",
      "\r\n",
      "2023-02-07 06:33:35  \t实验 1 模型 2 开始分片训练\r\n",
      "2023-02-07 06:33:38  Epoch 10 : MAE : 0.6036  RMSE : 1.5533  NMAE : 0.9427  MRE : 0.9227  NPRE : 7.4772\r\n",
      "2023-02-07 06:33:42  Epoch 20 : MAE : 0.5963  RMSE : 1.5605  NMAE : 0.9312  MRE : 0.8946  NPRE : 6.7610\r\n",
      "2023-02-07 06:33:43  Best epoch 14 : MAE : 0.5581  RMSE : 1.5687  NMAE : 0.8716  MRE : 0.8310  NPRE : 4.3181\r\n",
      "2023-02-07 06:33:43  实验 1 模型 2 training time = 0.24 s\r\n",
      "2023-02-07 06:33:43  Slice ID  2 : MAE = 0.5581, RMSE = 1.5687, NMAE = 0.8716, MRE = 0.8310, NPRE = 4.3181\r\n",
      "\r\n",
      "2023-02-07 06:33:43  \t实验 1 模型 3 开始分片训练\r\n",
      "2023-02-07 06:33:47  Epoch 10 : MAE : 1.3421  RMSE : 2.6974  NMAE : 0.9094  MRE : 0.8868  NPRE : 4.8177\r\n",
      "2023-02-07 06:33:50  Epoch 20 : MAE : 1.3921  RMSE : 2.7631  NMAE : 0.9433  MRE : 0.9290  NPRE : 4.2622\r\n",
      "2023-02-07 06:33:50  Best epoch 11 : MAE : 1.2980  RMSE : 2.7663  NMAE : 0.8796  MRE : 0.8583  NPRE : 3.0192\r\n",
      "2023-02-07 06:33:50  实验 1 模型 3 training time = 0.18 s\r\n",
      "2023-02-07 06:33:50  Slice ID  3 : MAE = 1.2980, RMSE = 2.7663, NMAE = 0.8796, MRE = 0.8583, NPRE = 3.0192\r\n",
      "\r\n",
      "2023-02-07 06:33:50  \t实验 1 模型 4 开始分片训练\r\n",
      "2023-02-07 06:33:54  Epoch 10 : MAE : 2.8364  RMSE : 3.5912  NMAE : 1.0425  MRE : 1.0000  NPRE : 27.8044\r\n",
      "2023-02-07 06:33:56  Best epoch  6 : MAE : 2.6815  RMSE : 3.3932  NMAE : 0.9856  MRE : 1.0000  NPRE : 21.3850\r\n",
      "2023-02-07 06:33:56  实验 1 模型 4 training time = 0.10 s\r\n",
      "2023-02-07 06:33:56  Slice ID  4 : MAE = 2.6815, RMSE = 3.3932, NMAE = 0.9856, MRE = 1.0000, NPRE = 21.3850\r\n",
      "\r\n",
      "2023-02-07 06:33:56  \t实验 1 模型 5 开始分片训练\r\n",
      "2023-02-07 06:33:59  Epoch 10 : MAE : 2.8354  RMSE : 3.5367  NMAE : 1.0422  MRE : 1.0000  NPRE : 30.2823\r\n",
      "2023-02-07 06:34:01  Best epoch  4 : MAE : 2.6930  RMSE : 3.6005  NMAE : 0.9898  MRE : 1.0000  NPRE : 16.6152\r\n",
      "2023-02-07 06:34:01  实验 1 模型 5 training time = 0.08 s\r\n",
      "2023-02-07 06:34:01  Slice ID  5 : MAE = 2.6930, RMSE = 3.6005, NMAE = 0.9898, MRE = 1.0000, NPRE = 16.6152\r\n",
      "\r\n",
      "2023-02-07 06:34:01  \t所有切片模型训练完毕\r\n",
      "2023-02-07 06:34:01  \t开始训练聚合模型\r\n",
      "2023-02-07 06:34:07  Epoch  1 : MAE : 0.6270  RMSE : 1.7303  NMAE : 0.6888  MRE : 0.5750  NPRE : 2.6993\r\n",
      "2023-02-07 06:34:13  Epoch  2 : MAE : 0.4953  RMSE : 1.4551  NMAE : 0.5441  MRE : 0.4318  NPRE : 2.4038\r\n",
      "2023-02-07 06:34:18  Epoch  3 : MAE : 0.4576  RMSE : 1.3952  NMAE : 0.5027  MRE : 0.4041  NPRE : 1.8830\r\n",
      "2023-02-07 06:34:24  Epoch  4 : MAE : 0.4426  RMSE : 1.3711  NMAE : 0.4862  MRE : 0.3919  NPRE : 2.3534\r\n",
      "2023-02-07 06:34:30  Epoch  5 : MAE : 0.4335  RMSE : 1.3535  NMAE : 0.4762  MRE : 0.3926  NPRE : 1.5972\r\n",
      "2023-02-07 06:34:36  Epoch  6 : MAE : 0.4274  RMSE : 1.3381  NMAE : 0.4695  MRE : 0.3724  NPRE : 2.4142\r\n",
      "2023-02-07 06:34:42  Epoch  7 : MAE : 0.4200  RMSE : 1.3411  NMAE : 0.4614  MRE : 0.3480  NPRE : 2.0968\r\n",
      "2023-02-07 06:34:48  Epoch  8 : MAE : 0.4149  RMSE : 1.3426  NMAE : 0.4557  MRE : 0.3440  NPRE : 1.8781\r\n",
      "2023-02-07 06:34:54  Epoch  9 : MAE : 0.4094  RMSE : 1.3245  NMAE : 0.4498  MRE : 0.3483  NPRE : 1.6305\r\n",
      "2023-02-07 06:34:59  Epoch 10 : MAE : 0.4085  RMSE : 1.3190  NMAE : 0.4487  MRE : 0.3541  NPRE : 1.5370\r\n",
      "2023-02-07 06:35:06  Epoch 11 : MAE : 0.4066  RMSE : 1.3171  NMAE : 0.4466  MRE : 0.3461  NPRE : 1.5282\r\n",
      "2023-02-07 06:35:11  Epoch 12 : MAE : 0.4062  RMSE : 1.3192  NMAE : 0.4463  MRE : 0.3851  NPRE : 1.1109\r\n",
      "2023-02-07 06:35:11  Best epoch 12 : MAE : 0.4062  RMSE : 1.3192  NMAE : 0.4463  MRE : 0.3851  NPRE : 1.1109\r\n",
      "2023-02-07 06:35:11  \t实验 1 聚合模型训练完毕\r\n",
      "2023-02-07 06:35:13  Result : MAE : 0.4064  RMSE : 1.3198  NMAE : 0.4464  MRE : 0.3848  NPRE : 1.1107\r\n",
      "2023-02-07 06:35:13  \t实验 1 : Shards training time = 0.18 s\r\n",
      "\r\n",
      "2023-02-07 06:35:13  \t实验 1 : Aggregators training time = 48.39 s\r\n",
      "\r\n",
      "2023-02-07 06:35:13  \t聚合模型训练完毕\r\n",
      "------------------------------------------------------------------------------------------------------------------------\r\n",
      "2023-02-07 06:35:13  Dataset : rt     interaction : NeuCF\r\n",
      "2023-02-07 06:35:13  Density : 20.00%, slice_epochs : 100, agg_epochs : 12\r\n",
      "2023-02-07 06:35:13  Part_type : 6,    slices : 5,       devices : gpu\r\n",
      "\r\n",
      "\r\n",
      "2023-02-07 06:35:13  Density 20.00% : MAE = 0.406, RMSE = 1.320, NMAE = 0.446, MRE = 0.385, NPRE = 1.111\r\n",
      "\r\n",
      "2023-02-07 06:35:13  Experiment success!\r\n",
      "\r\n"
     ]
    }
   ],
   "source": [
    "!python Experiment.py --dataset rt --interaction NeuCF --rounds 1 --slices 5 --agg_epochs 12 --density 0.20 --part_type 6 --record 0"
   ],
   "metadata": {
    "collapsed": false
   }
  },
  {
   "cell_type": "code",
   "execution_count": 42,
   "outputs": [
    {
     "name": "stdout",
     "output_type": "stream",
     "text": [
      "2023-02-07 06:35:14  Experiment start!\r\n",
      "2023-02-07 06:35:14  Namespace(F=1, agg2=0, agg_decay=0.001, agg_epochs=15, agg_function=1, agg_lr=0.001, agg_type='att', att_decay=0.0001, att_lr=0.001, batch_size=128, beta=1, cluster='deep', cuda=True, dataset='rt', debug=0, density=0.2, devices='gpu', dimension=32, dir='../Dataset/mnist', dropout=0.1, epoch=1500, external_dim=64, hidden_dims=[64, 64, 100], input_dim=128, interaction='CSMF', lamda=1, latent_dim=10, log_interval=100, lr=0.0001, n_classes=10, n_clusters=10, n_jobs=1, node2vec=0, node2vec_batchsize=32, node2vec_dim=128, node2vec_epochs=20, node2vec_length=8, node2vec_walk=15, node2vec_windows=3, num_layers=2, order=2, part_iter=20, part_type=6, path='./datasets/data/WSDREAM/', pre_epoch=1000, pretrain=True, processed=0, random_state=1001, record=0, retrain=0, rounds=1, save_model=1, slice=1, slice_decay=0.001, slice_epochs=100, slice_lr=0.001, slices=5, verbose=10, wd=0.0005)\r\n",
      "2023-02-07 06:35:14  Dataset : rt     interaction : CSMF\r\n",
      "2023-02-07 06:35:14  Density : 20.00%, slice_epochs : 100, agg_epochs : 15\r\n",
      "2023-02-07 06:35:14  Part_type : 6,    slices : 5,       devices : gpu\r\n",
      "2023-02-07 06:35:14  Slice_lr : 0.01,    Slice_decay : 0.001\r\n",
      "2023-02-07 06:35:14  Agg_lr : 0.008,    Agg_decay : 0.001\r\n",
      "2023-02-07 06:35:14  Aggregation function : att\r\n",
      "\r\n",
      "2023-02-07 06:35:14  Round 1 experiment start!\r\n",
      "2023-02-07 06:35:15  \t原始数据集读取完毕\r\n",
      "2023-02-07 06:35:15  \t简单聚类\r\n",
      "{1: 70, 2: 54, 0: 74, 4: 86, 3: 55}\r\n",
      "2023-02-07 06:35:15  \t地区特征 基于用户切割完毕\r\n",
      "2023-02-07 06:35:15  \t分切数据执行完毕\r\n",
      "2023-02-07 06:35:17  \t模型加载完毕\r\n",
      "2023-02-07 06:35:17  \t准备训练切片模型\r\n",
      "2023-02-07 06:35:17  \t实验 1 模型 1 开始分片训练\r\n",
      "2023-02-07 06:35:20  Epoch 10 : MAE : 0.5834  RMSE : 1.6216  NMAE : 0.9110  MRE : 0.8584  NPRE : 0.9695\r\n",
      "2023-02-07 06:35:21  Best epoch  3 : MAE : 0.5215  RMSE : 1.5881  NMAE : 0.8144  MRE : 0.6582  NPRE : 1.2242\r\n",
      "2023-02-07 06:35:21  实验 1 模型 1 training time = 0.10 s\r\n",
      "2023-02-07 06:35:21  Slice ID  1 : MAE = 0.5215, RMSE = 1.5881, NMAE = 0.8144, MRE = 0.6582, NPRE = 1.2242\r\n",
      "\r\n",
      "2023-02-07 06:35:21  \t实验 1 模型 2 开始分片训练\r\n",
      "2023-02-07 06:35:25  Epoch 10 : MAE : 0.5833  RMSE : 1.6193  NMAE : 0.9109  MRE : 0.8742  NPRE : 0.9690\r\n",
      "2023-02-07 06:35:26  Best epoch  3 : MAE : 0.5161  RMSE : 1.5824  NMAE : 0.8060  MRE : 0.6646  NPRE : 1.1161\r\n",
      "2023-02-07 06:35:26  实验 1 模型 2 training time = 0.06 s\r\n",
      "2023-02-07 06:35:26  Slice ID  2 : MAE = 0.5161, RMSE = 1.5824, NMAE = 0.8060, MRE = 0.6646, NPRE = 1.1161\r\n",
      "\r\n",
      "2023-02-07 06:35:26  \t实验 1 模型 3 开始分片训练\r\n",
      "2023-02-07 06:35:29  Epoch 10 : MAE : 1.2927  RMSE : 2.8632  NMAE : 0.8759  MRE : 0.7812  NPRE : 0.9812\r\n",
      "2023-02-07 06:35:30  Best epoch  2 : MAE : 1.1841  RMSE : 2.7582  NMAE : 0.8024  MRE : 0.6170  NPRE : 1.8327\r\n",
      "2023-02-07 06:35:30  实验 1 模型 3 training time = 0.04 s\r\n",
      "2023-02-07 06:35:30  Slice ID  3 : MAE = 1.1841, RMSE = 2.7582, NMAE = 0.8024, MRE = 0.6170, NPRE = 1.8327\r\n",
      "\r\n",
      "2023-02-07 06:35:30  \t实验 1 模型 4 开始分片训练\r\n",
      "2023-02-07 06:35:34  Epoch 10 : MAE : 2.4315  RMSE : 3.3627  NMAE : 0.8937  MRE : 0.9000  NPRE : 12.4116\r\n",
      "2023-02-07 06:35:37  Epoch 20 : MAE : 2.4346  RMSE : 3.3559  NMAE : 0.8948  MRE : 0.8803  NPRE : 13.8832\r\n",
      "2023-02-07 06:35:38  Best epoch 14 : MAE : 2.4056  RMSE : 3.3654  NMAE : 0.8842  MRE : 0.8729  NPRE : 10.5405\r\n",
      "2023-02-07 06:35:38  实验 1 模型 4 training time = 0.36 s\r\n",
      "2023-02-07 06:35:38  Slice ID  4 : MAE = 2.4056, RMSE = 3.3654, NMAE = 0.8842, MRE = 0.8729, NPRE = 10.5405\r\n",
      "\r\n",
      "2023-02-07 06:35:38  \t实验 1 模型 5 开始分片训练\r\n",
      "2023-02-07 06:35:42  Epoch 10 : MAE : 2.4206  RMSE : 3.3673  NMAE : 0.8897  MRE : 0.9000  NPRE : 11.5091\r\n",
      "2023-02-07 06:35:45  Epoch 20 : MAE : 2.4070  RMSE : 3.3419  NMAE : 0.8847  MRE : 0.8524  NPRE : 13.2724\r\n",
      "2023-02-07 06:35:45  Best epoch 12 : MAE : 2.4005  RMSE : 3.3413  NMAE : 0.8823  MRE : 0.8735  NPRE : 12.0540\r\n",
      "2023-02-07 06:35:45  实验 1 模型 5 training time = 0.29 s\r\n",
      "2023-02-07 06:35:45  Slice ID  5 : MAE = 2.4005, RMSE = 3.3413, NMAE = 0.8823, MRE = 0.8735, NPRE = 12.0540\r\n",
      "\r\n",
      "2023-02-07 06:35:45  \t所有切片模型训练完毕\r\n",
      "2023-02-07 06:35:45  \t开始训练聚合模型\r\n",
      "2023-02-07 06:35:50  Epoch  1 : MAE : 0.7294  RMSE : 2.0463  NMAE : 0.8012  MRE : 0.5943  NPRE : 2.6887\r\n",
      "2023-02-07 06:35:54  Epoch  2 : MAE : 0.6877  RMSE : 2.0055  NMAE : 0.7555  MRE : 0.5177  NPRE : 2.1000\r\n",
      "2023-02-07 06:35:58  Epoch  3 : MAE : 0.6696  RMSE : 1.9747  NMAE : 0.7356  MRE : 0.4942  NPRE : 1.7923\r\n",
      "2023-02-07 06:36:03  Epoch  4 : MAE : 0.6580  RMSE : 1.9447  NMAE : 0.7228  MRE : 0.4952  NPRE : 2.0825\r\n",
      "2023-02-07 06:36:07  Epoch  5 : MAE : 0.6539  RMSE : 1.9396  NMAE : 0.7183  MRE : 0.4881  NPRE : 2.0109\r\n",
      "2023-02-07 06:36:11  Epoch  6 : MAE : 0.6506  RMSE : 1.9419  NMAE : 0.7147  MRE : 0.4704  NPRE : 1.7945\r\n",
      "2023-02-07 06:36:15  Epoch  7 : MAE : 0.6465  RMSE : 1.9256  NMAE : 0.7102  MRE : 0.4801  NPRE : 2.0031\r\n",
      "2023-02-07 06:36:19  Epoch  8 : MAE : 0.6444  RMSE : 1.9226  NMAE : 0.7079  MRE : 0.4704  NPRE : 1.8161\r\n",
      "2023-02-07 06:36:23  Epoch  9 : MAE : 0.6416  RMSE : 1.9177  NMAE : 0.7048  MRE : 0.4713  NPRE : 1.8947\r\n",
      "2023-02-07 06:36:28  Epoch 10 : MAE : 0.6400  RMSE : 1.9061  NMAE : 0.7030  MRE : 0.4704  NPRE : 1.8654\r\n",
      "2023-02-07 06:36:32  Epoch 11 : MAE : 0.6364  RMSE : 1.8624  NMAE : 0.6991  MRE : 0.4917  NPRE : 2.1206\r\n",
      "2023-02-07 06:36:36  Epoch 12 : MAE : 0.6236  RMSE : 1.8406  NMAE : 0.6851  MRE : 0.4690  NPRE : 1.8810\r\n",
      "2023-02-07 06:36:41  Epoch 13 : MAE : 0.6097  RMSE : 1.7964  NMAE : 0.6698  MRE : 0.4630  NPRE : 1.7294\r\n",
      "2023-02-07 06:36:45  Epoch 14 : MAE : 0.6026  RMSE : 1.7837  NMAE : 0.6620  MRE : 0.4594  NPRE : 1.7806\r\n",
      "2023-02-07 06:36:49  Epoch 15 : MAE : 0.6010  RMSE : 1.7722  NMAE : 0.6602  MRE : 0.4602  NPRE : 1.7802\r\n",
      "2023-02-07 06:36:49  Best epoch 15 : MAE : 0.6010  RMSE : 1.7722  NMAE : 0.6602  MRE : 0.4602  NPRE : 1.7802\r\n",
      "2023-02-07 06:36:49  \t实验 1 聚合模型训练完毕\r\n",
      "2023-02-07 06:36:51  Result : MAE : 0.6010  RMSE : 1.7722  NMAE : 0.6602  MRE : 0.4602  NPRE : 1.7802\r\n",
      "2023-02-07 06:36:51  \t实验 1 : Shards training time = 0.17 s\r\n",
      "\r\n",
      "2023-02-07 06:36:51  \t实验 1 : Aggregators training time = 35.25 s\r\n",
      "\r\n",
      "2023-02-07 06:36:51  \t聚合模型训练完毕\r\n",
      "------------------------------------------------------------------------------------------------------------------------\r\n",
      "2023-02-07 06:36:51  Dataset : rt     interaction : CSMF\r\n",
      "2023-02-07 06:36:51  Density : 20.00%, slice_epochs : 100, agg_epochs : 15\r\n",
      "2023-02-07 06:36:51  Part_type : 6,    slices : 5,       devices : gpu\r\n",
      "\r\n",
      "\r\n",
      "2023-02-07 06:36:51  Density 20.00% : MAE = 0.601, RMSE = 1.772, NMAE = 0.660, MRE = 0.460, NPRE = 1.780\r\n",
      "\r\n",
      "2023-02-07 06:36:51  Experiment success!\r\n",
      "\r\n"
     ]
    }
   ],
   "source": [
    "!python Experiment.py --dataset rt --interaction CSMF --rounds 1 --slices 5 --agg_epochs 15 --density 0.20 --part_type 6 --record 0"
   ],
   "metadata": {
    "collapsed": false
   }
  },
  {
   "cell_type": "code",
   "execution_count": 43,
   "outputs": [
    {
     "name": "stdout",
     "output_type": "stream",
     "text": [
      "2023-02-07 06:36:52  Experiment start!\r\n",
      "2023-02-07 06:36:52  Namespace(F=1, agg2=0, agg_decay=0.001, agg_epochs=15, agg_function=1, agg_lr=0.001, agg_type='att', att_decay=0.0001, att_lr=0.001, batch_size=128, beta=1, cluster='deep', cuda=True, dataset='rt', debug=0, density=0.2, devices='gpu', dimension=32, dir='../Dataset/mnist', dropout=0.1, epoch=1500, external_dim=64, hidden_dims=[64, 64, 100], input_dim=128, interaction='MF', lamda=1, latent_dim=10, log_interval=100, lr=0.0001, n_classes=10, n_clusters=10, n_jobs=1, node2vec=0, node2vec_batchsize=32, node2vec_dim=128, node2vec_epochs=20, node2vec_length=8, node2vec_walk=15, node2vec_windows=3, num_layers=2, order=2, part_iter=20, part_type=6, path='./datasets/data/WSDREAM/', pre_epoch=1000, pretrain=True, processed=0, random_state=1001, record=0, retrain=0, rounds=1, save_model=1, slice=1, slice_decay=0.001, slice_epochs=100, slice_lr=0.001, slices=5, verbose=10, wd=0.0005)\r\n",
      "2023-02-07 06:36:52  Dataset : rt     interaction : MF\r\n",
      "2023-02-07 06:36:52  Density : 20.00%, slice_epochs : 100, agg_epochs : 15\r\n",
      "2023-02-07 06:36:52  Part_type : 6,    slices : 5,       devices : gpu\r\n",
      "2023-02-07 06:36:52  Slice_lr : 0.008,    Slice_decay : 0.001\r\n",
      "2023-02-07 06:36:52  Agg_lr : 0.001,    Agg_decay : 0.001\r\n",
      "2023-02-07 06:36:52  Aggregation function : att\r\n",
      "\r\n",
      "2023-02-07 06:36:52  Round 1 experiment start!\r\n",
      "2023-02-07 06:36:52  \t原始数据集读取完毕\r\n",
      "2023-02-07 06:36:52  \t简单聚类\r\n",
      "{1: 70, 2: 54, 0: 74, 4: 86, 3: 55}\r\n",
      "2023-02-07 06:36:53  \t地区特征 基于用户切割完毕\r\n",
      "2023-02-07 06:36:53  \t分切数据执行完毕\r\n",
      "2023-02-07 06:36:55  \t模型加载完毕\r\n",
      "2023-02-07 06:36:55  \t准备训练切片模型\r\n",
      "2023-02-07 06:36:55  \t实验 1 模型 1 开始分片训练\r\n",
      "2023-02-07 06:36:58  Epoch 10 : MAE : 0.5740  RMSE : 1.5601  NMAE : 0.8964  MRE : 0.8541  NPRE : 6.0299\r\n",
      "2023-02-07 06:37:01  Epoch 20 : MAE : 0.5305  RMSE : 1.5570  NMAE : 0.8284  MRE : 0.7142  NPRE : 4.7451\r\n",
      "2023-02-07 06:37:03  Best epoch 15 : MAE : 0.5250  RMSE : 1.5572  NMAE : 0.8199  MRE : 0.6903  NPRE : 4.3506\r\n",
      "2023-02-07 06:37:03  实验 1 模型 1 training time = 0.17 s\r\n",
      "2023-02-07 06:37:03  Slice ID  1 : MAE = 0.5250, RMSE = 1.5572, NMAE = 0.8199, MRE = 0.6903, NPRE = 4.3506\r\n",
      "\r\n",
      "2023-02-07 06:37:03  \t实验 1 模型 2 开始分片训练\r\n",
      "2023-02-07 06:37:06  Epoch 10 : MAE : 0.5567  RMSE : 1.5701  NMAE : 0.8694  MRE : 0.8191  NPRE : 4.2073\r\n",
      "2023-02-07 06:37:10  Epoch 20 : MAE : 0.5377  RMSE : 1.5633  NMAE : 0.8397  MRE : 0.7285  NPRE : 4.4280\r\n",
      "2023-02-07 06:37:13  Best epoch 18 : MAE : 0.5221  RMSE : 1.5593  NMAE : 0.8154  MRE : 0.6771  NPRE : 4.3743\r\n",
      "2023-02-07 06:37:13  实验 1 模型 2 training time = 0.22 s\r\n",
      "2023-02-07 06:37:13  Slice ID  2 : MAE = 0.5221, RMSE = 1.5593, NMAE = 0.8154, MRE = 0.6771, NPRE = 4.3743\r\n",
      "\r\n",
      "2023-02-07 06:37:13  \t实验 1 模型 3 开始分片训练\r\n",
      "2023-02-07 06:37:16  Epoch 10 : MAE : 1.2623  RMSE : 2.7175  NMAE : 0.8554  MRE : 0.8064  NPRE : 3.4448\r\n",
      "2023-02-07 06:37:19  Epoch 20 : MAE : 1.2657  RMSE : 2.7117  NMAE : 0.8577  MRE : 0.8090  NPRE : 3.7305\r\n",
      "2023-02-07 06:37:21  Best epoch 15 : MAE : 1.2200  RMSE : 2.7603  NMAE : 0.8267  MRE : 0.7065  NPRE : 2.4000\r\n",
      "2023-02-07 06:37:21  实验 1 模型 3 training time = 0.19 s\r\n",
      "2023-02-07 06:37:21  Slice ID  3 : MAE = 1.2200, RMSE = 2.7603, NMAE = 0.8267, MRE = 0.7065, NPRE = 2.4000\r\n",
      "\r\n",
      "2023-02-07 06:37:21  \t实验 1 模型 4 开始分片训练\r\n",
      "2023-02-07 06:37:24  Epoch 10 : MAE : 2.6965  RMSE : 3.4186  NMAE : 0.9911  MRE : 1.0000  NPRE : 20.8973\r\n",
      "2023-02-07 06:37:25  Best epoch  5 : MAE : 2.6395  RMSE : 3.5950  NMAE : 0.9702  MRE : 1.0000  NPRE : 12.9568\r\n",
      "2023-02-07 06:37:25  实验 1 模型 4 training time = 0.08 s\r\n",
      "2023-02-07 06:37:25  Slice ID  4 : MAE = 2.6395, RMSE = 3.5950, NMAE = 0.9702, MRE = 1.0000, NPRE = 12.9568\r\n",
      "\r\n",
      "2023-02-07 06:37:25  \t实验 1 模型 5 开始分片训练\r\n",
      "2023-02-07 06:37:28  Epoch 10 : MAE : 2.6945  RMSE : 3.4222  NMAE : 0.9904  MRE : 1.0000  NPRE : 19.9962\r\n",
      "2023-02-07 06:37:31  Best epoch  9 : MAE : 2.6852  RMSE : 3.3843  NMAE : 0.9870  MRE : 1.0000  NPRE : 20.1479\r\n",
      "2023-02-07 06:37:31  实验 1 模型 5 training time = 0.10 s\r\n",
      "2023-02-07 06:37:31  Slice ID  5 : MAE = 2.6852, RMSE = 3.3843, NMAE = 0.9870, MRE = 1.0000, NPRE = 20.1479\r\n",
      "\r\n",
      "2023-02-07 06:37:31  \t所有切片模型训练完毕\r\n",
      "2023-02-07 06:37:31  \t开始训练聚合模型\r\n",
      "2023-02-07 06:37:35  Epoch  1 : MAE : 0.7816  RMSE : 2.0586  NMAE : 0.8586  MRE : 0.7496  NPRE : 3.7194\r\n",
      "2023-02-07 06:37:40  Epoch  2 : MAE : 0.7568  RMSE : 2.0624  NMAE : 0.8314  MRE : 0.6692  NPRE : 3.2258\r\n",
      "2023-02-07 06:37:44  Epoch  3 : MAE : 0.7539  RMSE : 2.0612  NMAE : 0.8281  MRE : 0.6662  NPRE : 3.2352\r\n",
      "2023-02-07 06:37:48  Epoch  4 : MAE : 0.7531  RMSE : 2.0618  NMAE : 0.8273  MRE : 0.6626  NPRE : 3.1961\r\n",
      "2023-02-07 06:37:52  Epoch  5 : MAE : 0.7526  RMSE : 2.0614  NMAE : 0.8268  MRE : 0.6637  NPRE : 3.2021\r\n",
      "2023-02-07 06:37:56  Epoch  6 : MAE : 0.7524  RMSE : 2.0619  NMAE : 0.8266  MRE : 0.6629  NPRE : 3.1900\r\n",
      "2023-02-07 06:38:00  Epoch  7 : MAE : 0.7523  RMSE : 2.0626  NMAE : 0.8264  MRE : 0.6612  NPRE : 3.1580\r\n",
      "2023-02-07 06:38:04  Epoch  8 : MAE : 0.7522  RMSE : 2.0609  NMAE : 0.8263  MRE : 0.6660  NPRE : 3.2497\r\n",
      "2023-02-07 06:38:08  Epoch  9 : MAE : 0.7522  RMSE : 2.0604  NMAE : 0.8263  MRE : 0.6670  NPRE : 3.2433\r\n",
      "2023-02-07 06:38:12  Epoch 10 : MAE : 0.7522  RMSE : 2.0628  NMAE : 0.8263  MRE : 0.6613  NPRE : 3.1387\r\n",
      "2023-02-07 06:38:16  Epoch 11 : MAE : 0.7524  RMSE : 2.0659  NMAE : 0.8266  MRE : 0.6529  NPRE : 3.0069\r\n",
      "2023-02-07 06:38:20  Epoch 12 : MAE : 0.7524  RMSE : 2.0574  NMAE : 0.8265  MRE : 0.6758  NPRE : 3.3991\r\n",
      "2023-02-07 06:38:24  Epoch 13 : MAE : 0.7524  RMSE : 2.0643  NMAE : 0.8266  MRE : 0.6578  NPRE : 3.0964\r\n",
      "2023-02-07 06:38:28  Epoch 14 : MAE : 0.7523  RMSE : 2.0594  NMAE : 0.8264  MRE : 0.6698  NPRE : 3.3074\r\n",
      "2023-02-07 06:38:32  Epoch 15 : MAE : 0.7523  RMSE : 2.0608  NMAE : 0.8264  MRE : 0.6673  NPRE : 3.2461\r\n",
      "2023-02-07 06:38:32  Best epoch  8 : MAE : 0.7522  RMSE : 2.0609  NMAE : 0.8263  MRE : 0.6660  NPRE : 3.2497\r\n",
      "2023-02-07 06:38:32  \t实验 1 聚合模型训练完毕\r\n",
      "2023-02-07 06:38:34  Result : MAE : 0.7525  RMSE : 2.0611  NMAE : 0.8267  MRE : 0.6686  NPRE : 3.2558\r\n",
      "2023-02-07 06:38:34  \t实验 1 : Shards training time = 0.15 s\r\n",
      "\r\n",
      "2023-02-07 06:38:34  \t实验 1 : Aggregators training time = 17.74 s\r\n",
      "\r\n",
      "2023-02-07 06:38:34  \t聚合模型训练完毕\r\n",
      "------------------------------------------------------------------------------------------------------------------------\r\n",
      "2023-02-07 06:38:34  Dataset : rt     interaction : MF\r\n",
      "2023-02-07 06:38:34  Density : 20.00%, slice_epochs : 100, agg_epochs : 15\r\n",
      "2023-02-07 06:38:34  Part_type : 6,    slices : 5,       devices : gpu\r\n",
      "\r\n",
      "\r\n",
      "2023-02-07 06:38:34  Density 20.00% : MAE = 0.753, RMSE = 2.061, NMAE = 0.827, MRE = 0.669, NPRE = 3.256\r\n",
      "\r\n",
      "2023-02-07 06:38:34  Experiment success!\r\n",
      "\r\n"
     ]
    }
   ],
   "source": [
    "!python Experiment.py --dataset rt --interaction MF --rounds 1 --slices 5 --agg_epochs 15 --density 0.20 --part_type 6 --record 0"
   ],
   "metadata": {
    "collapsed": false
   }
  },
  {
   "cell_type": "code",
   "execution_count": 44,
   "outputs": [
    {
     "name": "stdout",
     "output_type": "stream",
     "text": [
      "2023-02-07 06:38:35  Experiment start!\r\n",
      "2023-02-07 06:38:35  Namespace(F=1, agg2=0, agg_decay=0.001, agg_epochs=12, agg_function=1, agg_lr=0.001, agg_type='att', att_decay=0.0001, att_lr=0.001, batch_size=128, beta=1, cluster='deep', cuda=True, dataset='rt', debug=0, density=0.2, devices='gpu', dimension=32, dir='../Dataset/mnist', dropout=0.1, epoch=1500, external_dim=64, hidden_dims=[64, 64, 100], input_dim=128, interaction='GraphMF', lamda=1, latent_dim=10, log_interval=100, lr=0.0001, n_classes=10, n_clusters=10, n_jobs=1, node2vec=0, node2vec_batchsize=32, node2vec_dim=128, node2vec_epochs=20, node2vec_length=8, node2vec_walk=15, node2vec_windows=3, num_layers=2, order=2, part_iter=20, part_type=6, path='./datasets/data/WSDREAM/', pre_epoch=1000, pretrain=True, processed=0, random_state=1001, record=0, retrain=0, rounds=1, save_model=1, slice=1, slice_decay=0.001, slice_epochs=100, slice_lr=0.001, slices=5, verbose=10, wd=0.0005)\r\n",
      "2023-02-07 06:38:35  Dataset : rt     interaction : GraphMF\r\n",
      "2023-02-07 06:38:35  Density : 20.00%, slice_epochs : 15, agg_epochs : 12\r\n",
      "2023-02-07 06:38:35  Part_type : 6,    slices : 5,       devices : gpu\r\n",
      "2023-02-07 06:38:35  Slice_lr : 0.01,    Slice_decay : 0.001\r\n",
      "2023-02-07 06:38:35  Agg_lr : 0.001,    Agg_decay : 0.001\r\n",
      "2023-02-07 06:38:35  Aggregation function : att\r\n",
      "\r\n",
      "2023-02-07 06:38:35  Round 1 experiment start!\r\n",
      "2023-02-07 06:38:36  \t原始数据集读取完毕\r\n",
      "2023-02-07 06:38:36  \t简单聚类\r\n",
      "{1: 70, 2: 54, 0: 74, 4: 86, 3: 55}\r\n",
      "2023-02-07 06:38:36  \t地区特征 基于用户切割完毕\r\n",
      "2023-02-07 06:38:36  \t分切数据执行完毕\r\n",
      "2023-02-07 06:38:36  \tNeuGraphMF建图中\r\n",
      "2023-02-07 06:38:40  \tNeuGraphMF建图完毕\r\n",
      "2023-02-07 06:38:42  \t模型加载完毕\r\n",
      "2023-02-07 06:38:42  \t准备训练切片模型\r\n",
      "2023-02-07 06:38:42  \t实验 1 模型 1 开始分片训练\r\n",
      "2023-02-07 06:38:45  Epoch 10 : MAE : 0.5165  RMSE : 1.5706  NMAE : 0.8066  MRE : 0.6382  NPRE : 3.6822\r\n",
      "2023-02-07 06:38:47  Best epoch  6 : MAE : 0.5077  RMSE : 1.5651  NMAE : 0.7928  MRE : 0.6011  NPRE : 3.8850\r\n",
      "2023-02-07 06:38:47  实验 1 模型 1 training time = 0.11 s\r\n",
      "2023-02-07 06:38:47  Slice ID  1 : MAE = 0.5077, RMSE = 1.5651, NMAE = 0.7928, MRE = 0.6011, NPRE = 3.8850\r\n",
      "\r\n",
      "2023-02-07 06:38:47  \t实验 1 模型 2 开始分片训练\r\n",
      "2023-02-07 06:38:51  Epoch 10 : MAE : 0.5634  RMSE : 1.5495  NMAE : 0.8798  MRE : 0.7494  NPRE : 6.5125\r\n",
      "2023-02-07 06:38:52  Best epoch  4 : MAE : 0.5086  RMSE : 1.5608  NMAE : 0.7942  MRE : 0.6169  NPRE : 4.2686\r\n",
      "2023-02-07 06:38:52  实验 1 模型 2 training time = 0.08 s\r\n",
      "2023-02-07 06:38:52  Slice ID  2 : MAE = 0.5086, RMSE = 1.5608, NMAE = 0.7942, MRE = 0.6169, NPRE = 4.2686\r\n",
      "\r\n",
      "2023-02-07 06:38:52  \t实验 1 模型 3 开始分片训练\r\n",
      "2023-02-07 06:38:56  Epoch 10 : MAE : 1.2264  RMSE : 2.7768  NMAE : 0.8310  MRE : 0.6642  NPRE : 1.9115\r\n",
      "2023-02-07 06:38:57  Best epoch  6 : MAE : 1.1808  RMSE : 2.7460  NMAE : 0.8001  MRE : 0.6986  NPRE : 2.3502\r\n",
      "2023-02-07 06:38:57  实验 1 模型 3 training time = 0.18 s\r\n",
      "2023-02-07 06:38:57  Slice ID  3 : MAE = 1.1808, RMSE = 2.7460, NMAE = 0.8001, MRE = 0.6986, NPRE = 2.3502\r\n",
      "\r\n",
      "2023-02-07 06:38:57  \t实验 1 模型 4 开始分片训练\r\n",
      "2023-02-07 06:39:01  Epoch 10 : MAE : 2.6472  RMSE : 3.4806  NMAE : 0.9730  MRE : 0.9441  NPRE : 20.9904\r\n",
      "2023-02-07 06:39:02  Best epoch  5 : MAE : 2.5255  RMSE : 3.6887  NMAE : 0.9283  MRE : 0.9027  NPRE : 5.6417\r\n",
      "2023-02-07 06:39:02  实验 1 模型 4 training time = 0.18 s\r\n",
      "2023-02-07 06:39:02  Slice ID  4 : MAE = 2.5255, RMSE = 3.6887, NMAE = 0.9283, MRE = 0.9027, NPRE = 5.6417\r\n",
      "\r\n",
      "2023-02-07 06:39:02  \t实验 1 模型 5 开始分片训练\r\n",
      "2023-02-07 06:39:06  Epoch 10 : MAE : 2.7362  RMSE : 3.5881  NMAE : 1.0057  MRE : 0.9484  NPRE : 29.5871\r\n",
      "2023-02-07 06:39:07  Best epoch  3 : MAE : 2.5257  RMSE : 3.6777  NMAE : 0.9283  MRE : 0.9059  NPRE : 5.9335\r\n",
      "2023-02-07 06:39:07  实验 1 模型 5 training time = 0.09 s\r\n",
      "2023-02-07 06:39:07  Slice ID  5 : MAE = 2.5257, RMSE = 3.6777, NMAE = 0.9283, MRE = 0.9059, NPRE = 5.9335\r\n",
      "\r\n",
      "2023-02-07 06:39:07  \t所有切片模型训练完毕\r\n",
      "2023-02-07 06:39:07  \t开始训练聚合模型\r\n",
      "2023-02-07 06:39:12  Epoch  1 : MAE : 0.7527  RMSE : 2.0638  NMAE : 0.8268  MRE : 0.6683  NPRE : 3.2268\r\n",
      "2023-02-07 06:39:16  Epoch  2 : MAE : 0.7521  RMSE : 2.0625  NMAE : 0.8262  MRE : 0.6696  NPRE : 3.2588\r\n",
      "2023-02-07 06:39:20  Epoch  3 : MAE : 0.7472  RMSE : 2.0600  NMAE : 0.8208  MRE : 0.6441  NPRE : 3.0760\r\n",
      "2023-02-07 06:39:24  Epoch  4 : MAE : 0.7353  RMSE : 2.0398  NMAE : 0.8077  MRE : 0.6179  NPRE : 2.9009\r\n",
      "2023-02-07 06:39:29  Epoch  5 : MAE : 0.7214  RMSE : 1.9967  NMAE : 0.7925  MRE : 0.6033  NPRE : 2.6848\r\n",
      "2023-02-07 06:39:33  Epoch  6 : MAE : 0.7006  RMSE : 1.9106  NMAE : 0.7696  MRE : 0.6311  NPRE : 3.2675\r\n",
      "2023-02-07 06:39:37  Epoch  7 : MAE : 0.6929  RMSE : 1.9060  NMAE : 0.7611  MRE : 0.5817  NPRE : 2.3198\r\n",
      "2023-02-07 06:39:41  Epoch  8 : MAE : 0.6747  RMSE : 1.8463  NMAE : 0.7412  MRE : 0.5948  NPRE : 3.0357\r\n",
      "2023-02-07 06:39:46  Epoch  9 : MAE : 0.6667  RMSE : 1.8154  NMAE : 0.7324  MRE : 0.5875  NPRE : 3.1914\r\n",
      "2023-02-07 06:39:50  Epoch 10 : MAE : 0.6629  RMSE : 1.8274  NMAE : 0.7282  MRE : 0.5705  NPRE : 2.7807\r\n",
      "2023-02-07 06:39:54  Epoch 11 : MAE : 0.6581  RMSE : 1.8094  NMAE : 0.7229  MRE : 0.5722  NPRE : 3.0601\r\n",
      "2023-02-07 06:39:58  Epoch 12 : MAE : 0.6534  RMSE : 1.8089  NMAE : 0.7178  MRE : 0.5679  NPRE : 2.9329\r\n",
      "2023-02-07 06:39:58  Best epoch 12 : MAE : 0.6534  RMSE : 1.8089  NMAE : 0.7178  MRE : 0.5679  NPRE : 2.9329\r\n",
      "2023-02-07 06:39:58  \t实验 1 聚合模型训练完毕\r\n",
      "2023-02-07 06:40:00  Result : MAE : 0.6534  RMSE : 1.8089  NMAE : 0.7178  MRE : 0.5679  NPRE : 2.9329\r\n",
      "2023-02-07 06:40:00  \t实验 1 : Shards training time = 0.13 s\r\n",
      "\r\n",
      "2023-02-07 06:40:00  \t实验 1 : Aggregators training time = 28.50 s\r\n",
      "\r\n",
      "2023-02-07 06:40:00  \t聚合模型训练完毕\r\n",
      "------------------------------------------------------------------------------------------------------------------------\r\n",
      "2023-02-07 06:40:00  Dataset : rt     interaction : GraphMF\r\n",
      "2023-02-07 06:40:00  Density : 20.00%, slice_epochs : 15, agg_epochs : 12\r\n",
      "2023-02-07 06:40:00  Part_type : 6,    slices : 5,       devices : gpu\r\n",
      "\r\n",
      "\r\n",
      "2023-02-07 06:40:00  Density 20.00% : MAE = 0.653, RMSE = 1.809, NMAE = 0.718, MRE = 0.568, NPRE = 2.933\r\n",
      "\r\n",
      "2023-02-07 06:40:00  Experiment success!\r\n",
      "\r\n"
     ]
    }
   ],
   "source": [
    "!python Experiment.py --dataset rt --interaction GraphMF --rounds 1 --slices 5 --agg_epochs 12 --density 0.20 --part_type 6 --record 0"
   ],
   "metadata": {
    "collapsed": false
   }
  },
  {
   "cell_type": "code",
   "execution_count": 45,
   "outputs": [
    {
     "name": "stdout",
     "output_type": "stream",
     "text": [
      "2023-02-07 06:40:01  Experiment start!\r\n",
      "2023-02-07 06:40:01  Namespace(F=1, agg2=0, agg_decay=0.001, agg_epochs=15, agg_function=1, agg_lr=0.001, agg_type='att', att_decay=0.0001, att_lr=0.001, batch_size=128, beta=1, cluster='deep', cuda=True, dataset='tp', debug=0, density=0.2, devices='gpu', dimension=32, dir='../Dataset/mnist', dropout=0.1, epoch=1500, external_dim=64, hidden_dims=[64, 64, 100], input_dim=128, interaction='NeuCF', lamda=1, latent_dim=10, log_interval=100, lr=0.0001, n_classes=10, n_clusters=10, n_jobs=1, node2vec=0, node2vec_batchsize=32, node2vec_dim=128, node2vec_epochs=20, node2vec_length=8, node2vec_walk=15, node2vec_windows=3, num_layers=2, order=2, part_iter=20, part_type=6, path='./datasets/data/WSDREAM/', pre_epoch=1000, pretrain=True, processed=0, random_state=1001, record=0, retrain=0, rounds=1, save_model=1, slice=1, slice_decay=0.001, slice_epochs=100, slice_lr=0.001, slices=5, verbose=10, wd=0.0005)\r\n",
      "2023-02-07 06:40:01  Dataset : tp     interaction : NeuCF\r\n",
      "2023-02-07 06:40:01  Density : 20.00%, slice_epochs : 100, agg_epochs : 15\r\n",
      "2023-02-07 06:40:01  Part_type : 6,    slices : 5,       devices : gpu\r\n",
      "2023-02-07 06:40:01  Slice_lr : 0.004,    Slice_decay : 0.001\r\n",
      "2023-02-07 06:40:01  Agg_lr : 0.001,    Agg_decay : 0.001\r\n",
      "2023-02-07 06:40:01  Aggregation function : att\r\n",
      "\r\n",
      "2023-02-07 06:40:01  Round 1 experiment start!\r\n",
      "2023-02-07 06:40:01  \t原始数据集读取完毕\r\n",
      "2023-02-07 06:40:01  \t简单聚类\r\n",
      "{1: 70, 2: 54, 0: 74, 4: 86, 3: 55}\r\n",
      "2023-02-07 06:40:01  \t地区特征 基于用户切割完毕\r\n",
      "2023-02-07 06:40:01  \t分切数据执行完毕\r\n",
      "2023-02-07 06:40:03  \t模型加载完毕\r\n",
      "2023-02-07 06:40:03  \t准备训练切片模型\r\n",
      "2023-02-07 06:40:03  \t实验 1 模型 1 开始分片训练\r\n",
      "2023-02-07 06:40:07  Epoch 10 : MAE : 56.6627  RMSE : 126.1757  NMAE : 0.9739  MRE : 1.0000  NPRE : 7.3033\r\n",
      "2023-02-07 06:40:11  Epoch 20 : MAE : 64.0246  RMSE : 125.8262  NMAE : 1.1004  MRE : 1.0000  NPRE : 12.8803\r\n",
      "2023-02-07 06:40:12  Best epoch 13 : MAE : 54.7362  RMSE : 125.8625  NMAE : 0.9408  MRE : 0.9334  NPRE : 6.9996\r\n",
      "2023-02-07 06:40:12  实验 1 模型 1 training time = 0.22 s\r\n",
      "2023-02-07 06:40:12  Slice ID  1 : MAE = 54.7362, RMSE = 125.8625, NMAE = 0.9408, MRE = 0.9334, NPRE = 6.9996\r\n",
      "\r\n",
      "2023-02-07 06:40:12  \t实验 1 模型 2 开始分片训练\r\n",
      "2023-02-07 06:40:15  Epoch 10 : MAE : 57.7166  RMSE : 124.7889  NMAE : 0.9920  MRE : 1.0000  NPRE : 8.9907\r\n",
      "2023-02-07 06:40:18  Best epoch  8 : MAE : 56.7670  RMSE : 126.0001  NMAE : 0.9757  MRE : 1.0000  NPRE : 7.0157\r\n",
      "2023-02-07 06:40:18  实验 1 模型 2 training time = 0.11 s\r\n",
      "2023-02-07 06:40:18  Slice ID  2 : MAE = 56.7670, RMSE = 126.0001, NMAE = 0.9757, MRE = 1.0000, NPRE = 7.0157\r\n",
      "\r\n",
      "2023-02-07 06:40:18  \t实验 1 模型 3 开始分片训练\r\n",
      "2023-02-07 06:40:22  Epoch 10 : MAE : 33.8966  RMSE : 94.6414  NMAE : 1.1011  MRE : 1.0000  NPRE : 11.6232\r\n",
      "2023-02-07 06:40:25  Epoch 20 : MAE : 30.9466  RMSE : 95.2946  NMAE : 1.0053  MRE : 1.0000  NPRE : 7.4375\r\n",
      "2023-02-07 06:40:27  Best epoch 17 : MAE : 30.5600  RMSE : 95.3892  NMAE : 0.9927  MRE : 1.0000  NPRE : 7.0894\r\n",
      "2023-02-07 06:40:27  实验 1 模型 3 training time = 0.29 s\r\n",
      "2023-02-07 06:40:27  Slice ID  3 : MAE = 30.5600, RMSE = 95.3892, NMAE = 0.9927, MRE = 1.0000, NPRE = 7.0894\r\n",
      "\r\n",
      "2023-02-07 06:40:27  \t实验 1 模型 4 开始分片训练\r\n",
      "2023-02-07 06:40:30  Epoch 10 : MAE : 39.5606  RMSE : 106.4424  NMAE : 1.0342  MRE : 1.0000  NPRE : 45.7939\r\n",
      "2023-02-07 06:40:34  Epoch 20 : MAE : 40.3209  RMSE : 106.3610  NMAE : 1.0541  MRE : 1.0000  NPRE : 51.0866\r\n",
      "2023-02-07 06:40:35  Best epoch 16 : MAE : 38.1990  RMSE : 108.4432  NMAE : 0.9987  MRE : 1.0000  NPRE : 21.2857\r\n",
      "2023-02-07 06:40:35  实验 1 模型 4 training time = 0.29 s\r\n",
      "2023-02-07 06:40:35  Slice ID  4 : MAE = 38.1990, RMSE = 108.4432, NMAE = 0.9987, MRE = 1.0000, NPRE = 21.2857\r\n",
      "\r\n",
      "2023-02-07 06:40:35  \t实验 1 模型 5 开始分片训练\r\n",
      "2023-02-07 06:40:39  Epoch 10 : MAE : 38.7177  RMSE : 106.8346  NMAE : 1.0122  MRE : 1.0000  NPRE : 38.3784\r\n",
      "2023-02-07 06:40:42  Epoch 20 : MAE : 39.2363  RMSE : 107.1949  NMAE : 1.0258  MRE : 1.0000  NPRE : 40.0434\r\n",
      "2023-02-07 06:40:44  Best epoch 17 : MAE : 38.2078  RMSE : 107.5530  NMAE : 0.9989  MRE : 1.0000  NPRE : 31.4253\r\n",
      "2023-02-07 06:40:44  实验 1 模型 5 training time = 0.30 s\r\n",
      "2023-02-07 06:40:44  Slice ID  5 : MAE = 38.2078, RMSE = 107.5530, NMAE = 0.9989, MRE = 1.0000, NPRE = 31.4253\r\n",
      "\r\n",
      "2023-02-07 06:40:44  \t所有切片模型训练完毕\r\n",
      "2023-02-07 06:40:44  \t开始训练聚合模型\r\n",
      "2023-02-07 06:40:50  Epoch  1 : MAE : 30.1338  RMSE : 81.0766  NMAE : 0.6339  MRE : 0.6585  NPRE : 2.6340\r\n",
      "2023-02-07 06:40:56  Epoch  2 : MAE : 25.1139  RMSE : 70.2347  NMAE : 0.5283  MRE : 0.4805  NPRE : 1.7379\r\n",
      "2023-02-07 06:41:02  Epoch  3 : MAE : 24.3247  RMSE : 66.7027  NMAE : 0.5117  MRE : 0.5144  NPRE : 2.4337\r\n",
      "2023-02-07 06:41:08  Epoch  4 : MAE : 23.3602  RMSE : 67.5002  NMAE : 0.4914  MRE : 0.4230  NPRE : 1.4971\r\n",
      "2023-02-07 06:41:13  Epoch  5 : MAE : 22.9273  RMSE : 65.0487  NMAE : 0.4823  MRE : 0.4224  NPRE : 1.0000\r\n",
      "2023-02-07 06:41:19  Epoch  6 : MAE : 22.6837  RMSE : 63.7005  NMAE : 0.4772  MRE : 0.4720  NPRE : 2.0513\r\n",
      "2023-02-07 06:41:24  Epoch  7 : MAE : 22.3596  RMSE : 63.2399  NMAE : 0.4704  MRE : 0.4212  NPRE : 1.4556\r\n",
      "2023-02-07 06:41:30  Epoch  8 : MAE : 22.1658  RMSE : 63.4391  NMAE : 0.4663  MRE : 0.4170  NPRE : 1.6404\r\n",
      "2023-02-07 06:41:36  Epoch  9 : MAE : 21.8332  RMSE : 64.1699  NMAE : 0.4593  MRE : 0.3854  NPRE : 1.3675\r\n",
      "2023-02-07 06:41:42  Epoch 10 : MAE : 22.4563  RMSE : 61.9987  NMAE : 0.4724  MRE : 0.4707  NPRE : 1.9362\r\n",
      "2023-02-07 06:41:48  Epoch 11 : MAE : 21.5397  RMSE : 63.1125  NMAE : 0.4531  MRE : 0.4127  NPRE : 1.6760\r\n",
      "2023-02-07 06:41:53  Epoch 12 : MAE : 21.1896  RMSE : 62.6226  NMAE : 0.4458  MRE : 0.3745  NPRE : 1.2596\r\n",
      "2023-02-07 06:41:59  Epoch 13 : MAE : 20.8008  RMSE : 60.1851  NMAE : 0.4376  MRE : 0.3961  NPRE : 1.5612\r\n",
      "2023-02-07 06:42:05  Epoch 14 : MAE : 19.9466  RMSE : 58.2286  NMAE : 0.4196  MRE : 0.3898  NPRE : 1.8382\r\n",
      "2023-02-07 06:42:11  Epoch 15 : MAE : 19.0342  RMSE : 57.1170  NMAE : 0.4004  MRE : 0.3581  NPRE : 1.7484\r\n",
      "2023-02-07 06:42:11  Best epoch 15 : MAE : 19.0342  RMSE : 57.1170  NMAE : 0.4004  MRE : 0.3581  NPRE : 1.7484\r\n",
      "2023-02-07 06:42:11  \t实验 1 聚合模型训练完毕\r\n",
      "2023-02-07 06:42:12  Result : MAE : 19.0191  RMSE : 57.0967  NMAE : 0.4001  MRE : 0.3578  NPRE : 1.7486\r\n",
      "2023-02-07 06:42:12  \t实验 1 : Shards training time = 0.24 s\r\n",
      "\r\n",
      "2023-02-07 06:42:12  \t实验 1 : Aggregators training time = 58.62 s\r\n",
      "\r\n",
      "2023-02-07 06:42:12  \t聚合模型训练完毕\r\n",
      "------------------------------------------------------------------------------------------------------------------------\r\n",
      "2023-02-07 06:42:12  Dataset : tp     interaction : NeuCF\r\n",
      "2023-02-07 06:42:12  Density : 20.00%, slice_epochs : 100, agg_epochs : 15\r\n",
      "2023-02-07 06:42:12  Part_type : 6,    slices : 5,       devices : gpu\r\n",
      "\r\n",
      "\r\n",
      "2023-02-07 06:42:12  Density 20.00% : MAE = 19.019, RMSE = 57.097, NMAE = 0.400, MRE = 0.358, NPRE = 1.749\r\n",
      "\r\n",
      "2023-02-07 06:42:12  Experiment success!\r\n",
      "\r\n"
     ]
    }
   ],
   "source": [
    "!python Experiment.py --dataset tp --interaction NeuCF --rounds 1 --slices 5 --agg_epochs 15 --density 0.20 --part_type 6 --record 0"
   ],
   "metadata": {
    "collapsed": false
   }
  },
  {
   "cell_type": "code",
   "execution_count": 46,
   "outputs": [
    {
     "name": "stdout",
     "output_type": "stream",
     "text": [
      "2023-02-07 06:42:13  Experiment start!\r\n",
      "2023-02-07 06:42:13  Namespace(F=1, agg2=0, agg_decay=0.001, agg_epochs=20, agg_function=1, agg_lr=0.001, agg_type='att', att_decay=0.0001, att_lr=0.001, batch_size=128, beta=1, cluster='deep', cuda=True, dataset='tp', debug=0, density=0.2, devices='gpu', dimension=32, dir='../Dataset/mnist', dropout=0.1, epoch=1500, external_dim=64, hidden_dims=[64, 64, 100], input_dim=128, interaction='CSMF', lamda=1, latent_dim=10, log_interval=100, lr=0.0001, n_classes=10, n_clusters=10, n_jobs=1, node2vec=0, node2vec_batchsize=32, node2vec_dim=128, node2vec_epochs=20, node2vec_length=8, node2vec_walk=15, node2vec_windows=3, num_layers=2, order=2, part_iter=20, part_type=6, path='./datasets/data/WSDREAM/', pre_epoch=1000, pretrain=True, processed=0, random_state=1001, record=0, retrain=0, rounds=1, save_model=1, slice=1, slice_decay=0.001, slice_epochs=100, slice_lr=0.001, slices=5, verbose=10, wd=0.0005)\r\n",
      "2023-02-07 06:42:13  Dataset : tp     interaction : CSMF\r\n",
      "2023-02-07 06:42:13  Density : 20.00%, slice_epochs : 100, agg_epochs : 20\r\n",
      "2023-02-07 06:42:13  Part_type : 6,    slices : 5,       devices : gpu\r\n",
      "2023-02-07 06:42:13  Slice_lr : 0.01,    Slice_decay : 0.001\r\n",
      "2023-02-07 06:42:13  Agg_lr : 0.008,    Agg_decay : 0.001\r\n",
      "2023-02-07 06:42:13  Aggregation function : att\r\n",
      "\r\n",
      "2023-02-07 06:42:13  Round 1 experiment start!\r\n",
      "2023-02-07 06:42:14  \t原始数据集读取完毕\r\n",
      "2023-02-07 06:42:14  \t简单聚类\r\n",
      "{1: 70, 2: 54, 0: 74, 4: 86, 3: 55}\r\n",
      "2023-02-07 06:42:14  \t地区特征 基于用户切割完毕\r\n",
      "2023-02-07 06:42:14  \t分切数据执行完毕\r\n",
      "2023-02-07 06:42:16  \t模型加载完毕\r\n",
      "2023-02-07 06:42:16  \t准备训练切片模型\r\n",
      "2023-02-07 06:42:16  \t实验 1 模型 1 开始分片训练\r\n",
      "2023-02-07 06:42:19  Epoch 10 : MAE : 52.7123  RMSE : 127.2355  NMAE : 0.9060  MRE : 0.8168  NPRE : 1.8851\r\n",
      "2023-02-07 06:42:23  Epoch 20 : MAE : 49.0146  RMSE : 111.1530  NMAE : 0.8424  MRE : 0.7328  NPRE : 5.7462\r\n",
      "2023-02-07 06:42:26  Epoch 30 : MAE : 50.4907  RMSE : 110.3851  NMAE : 0.8678  MRE : 0.7457  NPRE : 7.3557\r\n",
      "2023-02-07 06:42:27  Best epoch 22 : MAE : 48.8923  RMSE : 109.9023  NMAE : 0.8403  MRE : 0.7329  NPRE : 6.3814\r\n",
      "2023-02-07 06:42:27  实验 1 模型 1 training time = 0.49 s\r\n",
      "2023-02-07 06:42:27  Slice ID  1 : MAE = 48.8923, RMSE = 109.9023, NMAE = 0.8403, MRE = 0.7329, NPRE = 6.3814\r\n",
      "\r\n",
      "2023-02-07 06:42:27  \t实验 1 模型 2 开始分片训练\r\n",
      "2023-02-07 06:42:30  Epoch 10 : MAE : 55.0817  RMSE : 131.0444  NMAE : 0.9467  MRE : 0.8780  NPRE : 0.9943\r\n",
      "2023-02-07 06:42:34  Epoch 20 : MAE : 48.5618  RMSE : 112.5323  NMAE : 0.8347  MRE : 0.7342  NPRE : 5.6226\r\n",
      "2023-02-07 06:42:37  Epoch 30 : MAE : 49.0977  RMSE : 109.7876  NMAE : 0.8439  MRE : 0.7384  NPRE : 6.7232\r\n",
      "2023-02-07 06:42:39  Best epoch 26 : MAE : 48.1802  RMSE : 110.5734  NMAE : 0.8281  MRE : 0.7243  NPRE : 5.6540\r\n",
      "2023-02-07 06:42:39  实验 1 模型 2 training time = 0.57 s\r\n",
      "2023-02-07 06:42:39  Slice ID  2 : MAE = 48.1802, RMSE = 110.5734, NMAE = 0.8281, MRE = 0.7243, NPRE = 5.6540\r\n",
      "\r\n",
      "2023-02-07 06:42:39  \t实验 1 模型 3 开始分片训练\r\n",
      "2023-02-07 06:42:42  Epoch 10 : MAE : 29.5597  RMSE : 96.0432  NMAE : 0.9602  MRE : 0.9282  NPRE : 0.9955\r\n",
      "2023-02-07 06:42:45  Epoch 20 : MAE : 27.4598  RMSE : 87.7484  NMAE : 0.8920  MRE : 0.8141  NPRE : 5.9072\r\n",
      "2023-02-07 06:42:48  Epoch 30 : MAE : 28.1445  RMSE : 84.8812  NMAE : 0.9142  MRE : 0.7800  NPRE : 8.8300\r\n",
      "2023-02-07 06:42:49  Best epoch 21 : MAE : 27.1226  RMSE : 87.2165  NMAE : 0.8810  MRE : 0.7878  NPRE : 5.9742\r\n",
      "2023-02-07 06:42:49  实验 1 模型 3 training time = 0.41 s\r\n",
      "2023-02-07 06:42:49  Slice ID  3 : MAE = 27.1226, RMSE = 87.2165, NMAE = 0.8810, MRE = 0.7878, NPRE = 5.9742\r\n",
      "\r\n",
      "2023-02-07 06:42:49  \t实验 1 模型 4 开始分片训练\r\n",
      "2023-02-07 06:42:52  Epoch 10 : MAE : 37.4632  RMSE : 109.4022  NMAE : 0.9794  MRE : 0.9557  NPRE : 2.2449\r\n",
      "2023-02-07 06:42:55  Epoch 20 : MAE : 35.8943  RMSE : 103.3883  NMAE : 0.9384  MRE : 0.9415  NPRE : 23.2134\r\n",
      "2023-02-07 06:42:59  Epoch 30 : MAE : 35.8109  RMSE : 98.4352  NMAE : 0.9362  MRE : 0.9411  NPRE : 28.6960\r\n",
      "2023-02-07 06:43:00  Best epoch 25 : MAE : 35.3076  RMSE : 99.7592  NMAE : 0.9231  MRE : 0.9331  NPRE : 23.9976\r\n",
      "2023-02-07 06:43:00  实验 1 模型 4 training time = 0.55 s\r\n",
      "2023-02-07 06:43:00  Slice ID  4 : MAE = 35.3076, RMSE = 99.7592, NMAE = 0.9231, MRE = 0.9331, NPRE = 23.9976\r\n",
      "\r\n",
      "2023-02-07 06:43:00  \t实验 1 模型 5 开始分片训练\r\n",
      "2023-02-07 06:43:04  Epoch 10 : MAE : 37.6350  RMSE : 109.4148  NMAE : 0.9839  MRE : 0.9588  NPRE : 2.2959\r\n",
      "2023-02-07 06:43:07  Epoch 20 : MAE : 35.4159  RMSE : 99.7611  NMAE : 0.9259  MRE : 0.9377  NPRE : 15.7219\r\n",
      "2023-02-07 06:43:11  Epoch 30 : MAE : 35.4680  RMSE : 96.4369  NMAE : 0.9273  MRE : 0.9223  NPRE : 25.1625\r\n",
      "2023-02-07 06:43:13  Best epoch 24 : MAE : 35.2504  RMSE : 97.2992  NMAE : 0.9216  MRE : 0.9323  NPRE : 20.8977\r\n",
      "2023-02-07 06:43:13  实验 1 模型 5 training time = 0.51 s\r\n",
      "2023-02-07 06:43:13  Slice ID  5 : MAE = 35.2504, RMSE = 97.2992, NMAE = 0.9216, MRE = 0.9323, NPRE = 20.8977\r\n",
      "\r\n",
      "2023-02-07 06:43:13  \t所有切片模型训练完毕\r\n",
      "2023-02-07 06:43:13  \t开始训练聚合模型\r\n",
      "2023-02-07 06:43:17  Epoch  1 : MAE : 37.6318  RMSE : 106.3234  NMAE : 0.7917  MRE : 0.6591  NPRE : 3.3149\r\n",
      "2023-02-07 06:43:21  Epoch  2 : MAE : 32.1057  RMSE : 87.8008  NMAE : 0.6754  MRE : 0.6115  NPRE : 3.5536\r\n",
      "2023-02-07 06:43:25  Epoch  3 : MAE : 30.5755  RMSE : 84.5798  NMAE : 0.6432  MRE : 0.5820  NPRE : 3.3801\r\n",
      "2023-02-07 06:43:29  Epoch  4 : MAE : 29.6794  RMSE : 82.7003  NMAE : 0.6244  MRE : 0.5531  NPRE : 2.6991\r\n",
      "2023-02-07 06:43:34  Epoch  5 : MAE : 29.0253  RMSE : 80.1817  NMAE : 0.6106  MRE : 0.5590  NPRE : 3.2608\r\n",
      "2023-02-07 06:43:38  Epoch  6 : MAE : 28.6748  RMSE : 79.4749  NMAE : 0.6032  MRE : 0.5431  NPRE : 2.9647\r\n",
      "2023-02-07 06:43:42  Epoch  7 : MAE : 28.3296  RMSE : 78.3843  NMAE : 0.5960  MRE : 0.5538  NPRE : 3.4023\r\n",
      "2023-02-07 06:43:46  Epoch  8 : MAE : 28.0067  RMSE : 78.6225  NMAE : 0.5892  MRE : 0.5325  NPRE : 3.0944\r\n",
      "2023-02-07 06:43:51  Epoch  9 : MAE : 27.9085  RMSE : 79.0815  NMAE : 0.5871  MRE : 0.5269  NPRE : 3.0584\r\n",
      "2023-02-07 06:43:55  Epoch 10 : MAE : 27.5618  RMSE : 76.9748  NMAE : 0.5798  MRE : 0.5362  NPRE : 3.1632\r\n",
      "2023-02-07 06:43:59  Epoch 11 : MAE : 27.3258  RMSE : 77.0308  NMAE : 0.5749  MRE : 0.5188  NPRE : 2.7964\r\n",
      "2023-02-07 06:44:03  Epoch 12 : MAE : 27.3808  RMSE : 75.5929  NMAE : 0.5760  MRE : 0.5521  NPRE : 3.5339\r\n",
      "2023-02-07 06:44:07  Epoch 13 : MAE : 27.0947  RMSE : 76.5742  NMAE : 0.5700  MRE : 0.5139  NPRE : 2.7583\r\n",
      "2023-02-07 06:44:11  Epoch 14 : MAE : 26.9238  RMSE : 75.6917  NMAE : 0.5664  MRE : 0.5198  NPRE : 2.9632\r\n",
      "2023-02-07 06:44:16  Epoch 15 : MAE : 26.7576  RMSE : 75.7469  NMAE : 0.5629  MRE : 0.5065  NPRE : 2.5719\r\n",
      "2023-02-07 06:44:20  Epoch 16 : MAE : 26.7426  RMSE : 75.6736  NMAE : 0.5626  MRE : 0.5060  NPRE : 2.5207\r\n",
      "2023-02-07 06:44:24  Epoch 17 : MAE : 26.7846  RMSE : 75.5849  NMAE : 0.5635  MRE : 0.5083  NPRE : 2.5716\r\n",
      "2023-02-07 06:44:28  Epoch 18 : MAE : 26.5950  RMSE : 75.1485  NMAE : 0.5595  MRE : 0.5087  NPRE : 2.7174\r\n",
      "2023-02-07 06:44:32  Epoch 19 : MAE : 26.7154  RMSE : 75.6533  NMAE : 0.5620  MRE : 0.5046  NPRE : 2.3539\r\n",
      "2023-02-07 06:44:36  Epoch 20 : MAE : 26.5186  RMSE : 74.1960  NMAE : 0.5579  MRE : 0.5185  NPRE : 3.0254\r\n",
      "2023-02-07 06:44:36  Best epoch 20 : MAE : 26.5186  RMSE : 74.1960  NMAE : 0.5579  MRE : 0.5185  NPRE : 3.0254\r\n",
      "2023-02-07 06:44:36  \t实验 1 聚合模型训练完毕\r\n",
      "2023-02-07 06:44:38  Result : MAE : 26.5186  RMSE : 74.1960  NMAE : 0.5579  MRE : 0.5185  NPRE : 3.0254\r\n",
      "2023-02-07 06:44:38  \t实验 1 : Shards training time = 0.51 s\r\n",
      "\r\n",
      "2023-02-07 06:44:38  \t实验 1 : Aggregators training time = 47.12 s\r\n",
      "\r\n",
      "2023-02-07 06:44:38  \t聚合模型训练完毕\r\n",
      "------------------------------------------------------------------------------------------------------------------------\r\n",
      "2023-02-07 06:44:38  Dataset : tp     interaction : CSMF\r\n",
      "2023-02-07 06:44:38  Density : 20.00%, slice_epochs : 100, agg_epochs : 20\r\n",
      "2023-02-07 06:44:38  Part_type : 6,    slices : 5,       devices : gpu\r\n",
      "\r\n",
      "\r\n",
      "2023-02-07 06:44:38  Density 20.00% : MAE = 26.519, RMSE = 74.196, NMAE = 0.558, MRE = 0.518, NPRE = 3.025\r\n",
      "\r\n",
      "2023-02-07 06:44:38  Experiment success!\r\n",
      "\r\n"
     ]
    }
   ],
   "source": [
    "!python Experiment.py --dataset tp --interaction CSMF --rounds 1 --slices 5 --agg_epochs 20 --density 0.20 --part_type 6 --record 0"
   ],
   "metadata": {
    "collapsed": false
   }
  },
  {
   "cell_type": "code",
   "execution_count": 47,
   "outputs": [
    {
     "name": "stdout",
     "output_type": "stream",
     "text": [
      "2023-02-07 06:44:39  Experiment start!\r\n",
      "2023-02-07 06:44:39  Namespace(F=1, agg2=0, agg_decay=0.001, agg_epochs=20, agg_function=1, agg_lr=0.001, agg_type='att', att_decay=0.0001, att_lr=0.001, batch_size=128, beta=1, cluster='deep', cuda=True, dataset='tp', debug=0, density=0.2, devices='gpu', dimension=32, dir='../Dataset/mnist', dropout=0.1, epoch=1500, external_dim=64, hidden_dims=[64, 64, 100], input_dim=128, interaction='MF', lamda=1, latent_dim=10, log_interval=100, lr=0.0001, n_classes=10, n_clusters=10, n_jobs=1, node2vec=0, node2vec_batchsize=32, node2vec_dim=128, node2vec_epochs=20, node2vec_length=8, node2vec_walk=15, node2vec_windows=3, num_layers=2, order=2, part_iter=20, part_type=6, path='./datasets/data/WSDREAM/', pre_epoch=1000, pretrain=True, processed=0, random_state=1001, record=0, retrain=0, rounds=1, save_model=1, slice=1, slice_decay=0.001, slice_epochs=100, slice_lr=0.001, slices=5, verbose=10, wd=0.0005)\r\n",
      "2023-02-07 06:44:39  Dataset : tp     interaction : MF\r\n",
      "2023-02-07 06:44:39  Density : 20.00%, slice_epochs : 100, agg_epochs : 20\r\n",
      "2023-02-07 06:44:39  Part_type : 6,    slices : 5,       devices : gpu\r\n",
      "2023-02-07 06:44:39  Slice_lr : 0.008,    Slice_decay : 0.001\r\n",
      "2023-02-07 06:44:39  Agg_lr : 0.001,    Agg_decay : 0.001\r\n",
      "2023-02-07 06:44:39  Aggregation function : att\r\n",
      "\r\n",
      "2023-02-07 06:44:39  Round 1 experiment start!\r\n",
      "2023-02-07 06:44:39  \t原始数据集读取完毕\r\n",
      "2023-02-07 06:44:40  \t简单聚类\r\n",
      "{1: 70, 2: 54, 0: 74, 4: 86, 3: 55}\r\n",
      "2023-02-07 06:44:40  \t地区特征 基于用户切割完毕\r\n",
      "2023-02-07 06:44:40  \t分切数据执行完毕\r\n",
      "2023-02-07 06:44:42  \t模型加载完毕\r\n",
      "2023-02-07 06:44:42  \t准备训练切片模型\r\n",
      "2023-02-07 06:44:42  \t实验 1 模型 1 开始分片训练\r\n",
      "2023-02-07 06:44:45  Epoch 10 : MAE : 54.6700  RMSE : 125.1402  NMAE : 0.9396  MRE : 0.9306  NPRE : 7.1592\r\n",
      "2023-02-07 06:44:48  Epoch 20 : MAE : 53.4997  RMSE : 126.1655  NMAE : 0.9195  MRE : 0.9004  NPRE : 6.0310\r\n",
      "2023-02-07 06:44:50  Best epoch 17 : MAE : 52.6869  RMSE : 125.8003  NMAE : 0.9056  MRE : 0.8665  NPRE : 5.9819\r\n",
      "2023-02-07 06:44:50  实验 1 模型 1 training time = 0.19 s\r\n",
      "2023-02-07 06:44:50  Slice ID  1 : MAE = 52.6869, RMSE = 125.8003, NMAE = 0.9056, MRE = 0.8665, NPRE = 5.9819\r\n",
      "\r\n",
      "2023-02-07 06:44:50  \t实验 1 模型 2 开始分片训练\r\n",
      "2023-02-07 06:44:54  Epoch 10 : MAE : 54.2215  RMSE : 127.2108  NMAE : 0.9319  MRE : 0.9465  NPRE : 5.1113\r\n",
      "2023-02-07 06:44:57  Epoch 20 : MAE : 53.0209  RMSE : 126.6507  NMAE : 0.9113  MRE : 0.8807  NPRE : 5.1691\r\n",
      "2023-02-07 06:45:00  Best epoch 18 : MAE : 52.1847  RMSE : 126.7548  NMAE : 0.8969  MRE : 0.8501  NPRE : 4.7093\r\n",
      "2023-02-07 06:45:00  实验 1 模型 2 training time = 0.20 s\r\n",
      "2023-02-07 06:45:00  Slice ID  2 : MAE = 52.1847, RMSE = 126.7548, NMAE = 0.8969, MRE = 0.8501, NPRE = 4.7093\r\n",
      "\r\n",
      "2023-02-07 06:45:00  \t实验 1 模型 3 开始分片训练\r\n",
      "2023-02-07 06:45:03  Epoch 10 : MAE : 32.4151  RMSE : 95.3524  NMAE : 1.0530  MRE : 1.0000  NPRE : 8.9820\r\n",
      "2023-02-07 06:45:06  Epoch 20 : MAE : 30.0199  RMSE : 94.4112  NMAE : 0.9752  MRE : 0.9792  NPRE : 8.7455\r\n",
      "2023-02-07 06:45:09  Best epoch 19 : MAE : 29.0833  RMSE : 95.4286  NMAE : 0.9447  MRE : 0.9705  NPRE : 5.8186\r\n",
      "2023-02-07 06:45:09  实验 1 模型 3 training time = 0.23 s\r\n",
      "2023-02-07 06:45:09  Slice ID  3 : MAE = 29.0833, RMSE = 95.4286, NMAE = 0.9447, MRE = 0.9705, NPRE = 5.8186\r\n",
      "\r\n",
      "2023-02-07 06:45:09  \t实验 1 模型 4 开始分片训练\r\n",
      "2023-02-07 06:45:12  Epoch 10 : MAE : 38.9117  RMSE : 106.1935  NMAE : 1.0173  MRE : 1.0000  NPRE : 44.4520\r\n",
      "2023-02-07 06:45:15  Epoch 20 : MAE : 37.9560  RMSE : 107.1469  NMAE : 0.9923  MRE : 1.0000  NPRE : 32.9631\r\n",
      "2023-02-07 06:45:17  Best epoch 18 : MAE : 37.4090  RMSE : 107.2010  NMAE : 0.9780  MRE : 0.9810  NPRE : 29.9568\r\n",
      "2023-02-07 06:45:17  实验 1 模型 4 training time = 0.22 s\r\n",
      "2023-02-07 06:45:17  Slice ID  4 : MAE = 37.4090, RMSE = 107.2010, NMAE = 0.9780, MRE = 0.9810, NPRE = 29.9568\r\n",
      "\r\n",
      "2023-02-07 06:45:17  \t实验 1 模型 5 开始分片训练\r\n",
      "2023-02-07 06:45:20  Epoch 10 : MAE : 39.2510  RMSE : 106.8950  NMAE : 1.0262  MRE : 1.0000  NPRE : 37.1662\r\n",
      "2023-02-07 06:45:24  Epoch 20 : MAE : 37.7231  RMSE : 107.4345  NMAE : 0.9862  MRE : 1.0000  NPRE : 28.1751\r\n",
      "2023-02-07 06:45:25  Best epoch 15 : MAE : 37.6140  RMSE : 107.3766  NMAE : 0.9834  MRE : 1.0000  NPRE : 28.0151\r\n",
      "2023-02-07 06:45:25  实验 1 模型 5 training time = 0.17 s\r\n",
      "2023-02-07 06:45:25  Slice ID  5 : MAE = 37.6140, RMSE = 107.3766, NMAE = 0.9834, MRE = 1.0000, NPRE = 28.0151\r\n",
      "\r\n",
      "2023-02-07 06:45:25  \t所有切片模型训练完毕\r\n",
      "2023-02-07 06:45:25  \t开始训练聚合模型\r\n",
      "2023-02-07 06:45:30  Epoch  1 : MAE : 42.9316  RMSE : 115.2787  NMAE : 0.9032  MRE : 0.8520  NPRE : 6.1854\r\n",
      "2023-02-07 06:45:33  Epoch  2 : MAE : 41.7111  RMSE : 115.5616  NMAE : 0.8775  MRE : 0.7830  NPRE : 5.3158\r\n",
      "2023-02-07 06:45:37  Epoch  3 : MAE : 41.5662  RMSE : 115.6265  NMAE : 0.8744  MRE : 0.7750  NPRE : 5.1337\r\n",
      "2023-02-07 06:45:41  Epoch  4 : MAE : 41.5154  RMSE : 115.6981  NMAE : 0.8734  MRE : 0.7698  NPRE : 5.0101\r\n",
      "2023-02-07 06:45:45  Epoch  5 : MAE : 41.4975  RMSE : 115.8026  NMAE : 0.8730  MRE : 0.7638  NPRE : 4.8330\r\n",
      "2023-02-07 06:45:49  Epoch  6 : MAE : 41.4877  RMSE : 115.7333  NMAE : 0.8728  MRE : 0.7676  NPRE : 4.9487\r\n",
      "2023-02-07 06:45:52  Epoch  7 : MAE : 41.4862  RMSE : 115.8624  NMAE : 0.8727  MRE : 0.7606  NPRE : 4.7469\r\n",
      "2023-02-07 06:45:56  Epoch  8 : MAE : 41.4770  RMSE : 115.7409  NMAE : 0.8726  MRE : 0.7664  NPRE : 4.9315\r\n",
      "2023-02-07 06:46:00  Epoch  9 : MAE : 41.4846  RMSE : 115.6174  NMAE : 0.8727  MRE : 0.7730  NPRE : 5.1040\r\n",
      "2023-02-07 06:46:04  Epoch 10 : MAE : 41.4860  RMSE : 115.5250  NMAE : 0.8727  MRE : 0.7780  NPRE : 5.2581\r\n",
      "2023-02-07 06:46:08  Epoch 11 : MAE : 41.4818  RMSE : 115.5412  NMAE : 0.8727  MRE : 0.7766  NPRE : 5.2198\r\n",
      "2023-02-07 06:46:12  Epoch 12 : MAE : 41.4777  RMSE : 115.7618  NMAE : 0.8726  MRE : 0.7651  NPRE : 4.8912\r\n",
      "2023-02-07 06:46:16  Epoch 13 : MAE : 41.4808  RMSE : 115.6873  NMAE : 0.8726  MRE : 0.7697  NPRE : 4.9964\r\n",
      "2023-02-07 06:46:20  Epoch 14 : MAE : 41.4892  RMSE : 115.7243  NMAE : 0.8728  MRE : 0.7666  NPRE : 4.9382\r\n",
      "2023-02-07 06:46:24  Epoch 15 : MAE : 41.4821  RMSE : 115.6685  NMAE : 0.8727  MRE : 0.7708  NPRE : 5.0504\r\n",
      "2023-02-07 06:46:27  Epoch 16 : MAE : 41.4832  RMSE : 115.7354  NMAE : 0.8727  MRE : 0.7677  NPRE : 4.9432\r\n",
      "2023-02-07 06:46:31  Epoch 17 : MAE : 41.4813  RMSE : 115.5911  NMAE : 0.8726  MRE : 0.7742  NPRE : 5.1431\r\n",
      "2023-02-07 06:46:35  Epoch 18 : MAE : 41.4813  RMSE : 115.6136  NMAE : 0.8726  MRE : 0.7727  NPRE : 5.1067\r\n",
      "2023-02-07 06:46:39  Epoch 19 : MAE : 41.4785  RMSE : 115.7326  NMAE : 0.8726  MRE : 0.7665  NPRE : 4.9309\r\n",
      "2023-02-07 06:46:43  Epoch 20 : MAE : 41.4817  RMSE : 115.7970  NMAE : 0.8727  MRE : 0.7636  NPRE : 4.8405\r\n",
      "2023-02-07 06:46:43  Best epoch  8 : MAE : 41.4770  RMSE : 115.7409  NMAE : 0.8726  MRE : 0.7664  NPRE : 4.9315\r\n",
      "2023-02-07 06:46:43  \t实验 1 聚合模型训练完毕\r\n",
      "2023-02-07 06:46:45  Result : MAE : 41.5044  RMSE : 115.7292  NMAE : 0.8731  MRE : 0.7687  NPRE : 4.9657\r\n",
      "2023-02-07 06:46:45  \t实验 1 : Shards training time = 0.20 s\r\n",
      "\r\n",
      "2023-02-07 06:46:45  \t实验 1 : Aggregators training time = 16.16 s\r\n",
      "\r\n",
      "2023-02-07 06:46:45  \t聚合模型训练完毕\r\n",
      "------------------------------------------------------------------------------------------------------------------------\r\n",
      "2023-02-07 06:46:45  Dataset : tp     interaction : MF\r\n",
      "2023-02-07 06:46:45  Density : 20.00%, slice_epochs : 100, agg_epochs : 20\r\n",
      "2023-02-07 06:46:45  Part_type : 6,    slices : 5,       devices : gpu\r\n",
      "\r\n",
      "\r\n",
      "2023-02-07 06:46:45  Density 20.00% : MAE = 41.504, RMSE = 115.729, NMAE = 0.873, MRE = 0.769, NPRE = 4.966\r\n",
      "\r\n",
      "2023-02-07 06:46:45  Experiment success!\r\n",
      "\r\n"
     ]
    }
   ],
   "source": [
    "!python Experiment.py --dataset tp --interaction MF --rounds 1 --slices 5 --agg_epochs 20 --density 0.20 --part_type 6 --record 0"
   ],
   "metadata": {
    "collapsed": false
   }
  },
  {
   "cell_type": "code",
   "execution_count": 48,
   "outputs": [
    {
     "name": "stdout",
     "output_type": "stream",
     "text": [
      "2023-02-07 06:46:46  Experiment start!\r\n",
      "2023-02-07 06:46:46  Namespace(F=1, agg2=0, agg_decay=0.001, agg_epochs=15, agg_function=1, agg_lr=0.001, agg_type='att', att_decay=0.0001, att_lr=0.001, batch_size=128, beta=1, cluster='deep', cuda=True, dataset='tp', debug=0, density=0.2, devices='gpu', dimension=32, dir='../Dataset/mnist', dropout=0.1, epoch=1500, external_dim=64, hidden_dims=[64, 64, 100], input_dim=128, interaction='GraphMF', lamda=1, latent_dim=10, log_interval=100, lr=0.0001, n_classes=10, n_clusters=10, n_jobs=1, node2vec=0, node2vec_batchsize=32, node2vec_dim=128, node2vec_epochs=20, node2vec_length=8, node2vec_walk=15, node2vec_windows=3, num_layers=2, order=2, part_iter=20, part_type=6, path='./datasets/data/WSDREAM/', pre_epoch=1000, pretrain=True, processed=0, random_state=1001, record=0, retrain=0, rounds=1, save_model=1, slice=1, slice_decay=0.001, slice_epochs=100, slice_lr=0.001, slices=5, verbose=10, wd=0.0005)\r\n",
      "2023-02-07 06:46:46  Dataset : tp     interaction : GraphMF\r\n",
      "2023-02-07 06:46:46  Density : 20.00%, slice_epochs : 15, agg_epochs : 15\r\n",
      "2023-02-07 06:46:46  Part_type : 6,    slices : 5,       devices : gpu\r\n",
      "2023-02-07 06:46:46  Slice_lr : 0.01,    Slice_decay : 0.001\r\n",
      "2023-02-07 06:46:46  Agg_lr : 0.001,    Agg_decay : 0.001\r\n",
      "2023-02-07 06:46:46  Aggregation function : att\r\n",
      "\r\n",
      "2023-02-07 06:46:46  Round 1 experiment start!\r\n",
      "2023-02-07 06:46:46  \t原始数据集读取完毕\r\n",
      "2023-02-07 06:46:46  \t简单聚类\r\n",
      "{1: 70, 2: 54, 0: 74, 4: 86, 3: 55}\r\n",
      "2023-02-07 06:46:46  \t地区特征 基于用户切割完毕\r\n",
      "2023-02-07 06:46:46  \t分切数据执行完毕\r\n",
      "2023-02-07 06:46:46  \tNeuGraphMF建图中\r\n",
      "2023-02-07 06:46:50  \tNeuGraphMF建图完毕\r\n",
      "2023-02-07 06:46:52  \t模型加载完毕\r\n",
      "2023-02-07 06:46:52  \t准备训练切片模型\r\n",
      "2023-02-07 06:46:52  \t实验 1 模型 1 开始分片训练\r\n",
      "2023-02-07 06:46:55  Epoch 10 : MAE : 52.4153  RMSE : 127.8844  NMAE : 0.9009  MRE : 0.7847  NPRE : 3.9115\r\n",
      "2023-02-07 06:46:57  Best epoch  4 : MAE : 50.8823  RMSE : 127.2834  NMAE : 0.8745  MRE : 0.7865  NPRE : 3.7775\r\n",
      "2023-02-07 06:46:57  实验 1 模型 1 training time = 0.09 s\r\n",
      "2023-02-07 06:46:57  Slice ID  1 : MAE = 50.8823, RMSE = 127.2834, NMAE = 0.8745, MRE = 0.7865, NPRE = 3.7775\r\n",
      "\r\n",
      "2023-02-07 06:46:57  \t实验 1 模型 2 开始分片训练\r\n",
      "2023-02-07 06:47:00  Epoch 10 : MAE : 54.9927  RMSE : 127.4016  NMAE : 0.9452  MRE : 0.8394  NPRE : 5.8332\r\n",
      "2023-02-07 06:47:01  Best epoch  4 : MAE : 50.9569  RMSE : 126.7473  NMAE : 0.8758  MRE : 0.8108  NPRE : 4.3159\r\n",
      "2023-02-07 06:47:01  实验 1 模型 2 training time = 0.07 s\r\n",
      "2023-02-07 06:47:01  Slice ID  2 : MAE = 50.9569, RMSE = 126.7473, NMAE = 0.8758, MRE = 0.8108, NPRE = 4.3159\r\n",
      "\r\n",
      "2023-02-07 06:47:01  \t实验 1 模型 3 开始分片训练\r\n",
      "2023-02-07 06:47:05  Epoch 10 : MAE : 27.4090  RMSE : 94.9707  NMAE : 0.8903  MRE : 0.7544  NPRE : 5.9344\r\n",
      "2023-02-07 06:47:07  Best epoch  9 : MAE : 27.3078  RMSE : 95.3784  NMAE : 0.8871  MRE : 0.7218  NPRE : 4.8595\r\n",
      "2023-02-07 06:47:07  实验 1 模型 3 training time = 0.20 s\r\n",
      "2023-02-07 06:47:07  Slice ID  3 : MAE = 27.3078, RMSE = 95.3784, NMAE = 0.8871, MRE = 0.7218, NPRE = 4.8595\r\n",
      "\r\n",
      "2023-02-07 06:47:07  \t实验 1 模型 4 开始分片训练\r\n",
      "2023-02-07 06:47:10  Epoch 10 : MAE : 37.5970  RMSE : 107.8371  NMAE : 0.9829  MRE : 0.9418  NPRE : 18.9541\r\n",
      "2023-02-07 06:47:12  Best epoch  7 : MAE : 36.4822  RMSE : 108.0899  NMAE : 0.9538  MRE : 0.9101  NPRE : 16.3693\r\n",
      "2023-02-07 06:47:12  实验 1 模型 4 training time = 0.22 s\r\n",
      "2023-02-07 06:47:12  Slice ID  4 : MAE = 36.4822, RMSE = 108.0899, NMAE = 0.9538, MRE = 0.9101, NPRE = 16.3693\r\n",
      "\r\n",
      "2023-02-07 06:47:12  \t实验 1 模型 5 开始分片训练\r\n",
      "2023-02-07 06:47:15  Epoch 10 : MAE : 38.3346  RMSE : 107.4948  NMAE : 1.0022  MRE : 0.9500  NPRE : 23.9679\r\n",
      "2023-02-07 06:47:17  Best epoch  7 : MAE : 36.6332  RMSE : 107.5591  NMAE : 0.9577  MRE : 0.9229  NPRE : 21.3073\r\n",
      "2023-02-07 06:47:17  实验 1 模型 5 training time = 0.19 s\r\n",
      "2023-02-07 06:47:17  Slice ID  5 : MAE = 36.6332, RMSE = 107.5591, NMAE = 0.9577, MRE = 0.9229, NPRE = 21.3073\r\n",
      "\r\n",
      "2023-02-07 06:47:17  \t所有切片模型训练完毕\r\n",
      "2023-02-07 06:47:17  \t开始训练聚合模型\r\n",
      "2023-02-07 06:47:21  Epoch  1 : MAE : 41.4839  RMSE : 115.6882  NMAE : 0.8727  MRE : 0.7714  NPRE : 5.0522\r\n",
      "2023-02-07 06:47:25  Epoch  2 : MAE : 41.4606  RMSE : 115.6660  NMAE : 0.8722  MRE : 0.7713  NPRE : 5.0460\r\n",
      "2023-02-07 06:47:29  Epoch  3 : MAE : 41.1981  RMSE : 115.3317  NMAE : 0.8667  MRE : 0.7642  NPRE : 5.0527\r\n",
      "2023-02-07 06:47:33  Epoch  4 : MAE : 40.8706  RMSE : 113.3435  NMAE : 0.8598  MRE : 0.7561  NPRE : 5.1545\r\n",
      "2023-02-07 06:47:37  Epoch  5 : MAE : 39.8316  RMSE : 111.5914  NMAE : 0.8379  MRE : 0.7308  NPRE : 4.4643\r\n",
      "2023-02-07 06:47:41  Epoch  6 : MAE : 39.3189  RMSE : 110.1518  NMAE : 0.8272  MRE : 0.7409  NPRE : 5.0609\r\n",
      "2023-02-07 06:47:45  Epoch  7 : MAE : 39.0061  RMSE : 109.6398  NMAE : 0.8206  MRE : 0.7204  NPRE : 4.5726\r\n",
      "2023-02-07 06:47:49  Epoch  8 : MAE : 38.4387  RMSE : 108.3629  NMAE : 0.8086  MRE : 0.7235  NPRE : 4.8352\r\n",
      "2023-02-07 06:47:53  Epoch  9 : MAE : 38.3357  RMSE : 107.4026  NMAE : 0.8065  MRE : 0.7323  NPRE : 5.0033\r\n",
      "2023-02-07 06:47:57  Epoch 10 : MAE : 37.9057  RMSE : 107.2631  NMAE : 0.7974  MRE : 0.7044  NPRE : 4.3759\r\n",
      "2023-02-07 06:48:01  Epoch 11 : MAE : 37.6293  RMSE : 106.8157  NMAE : 0.7916  MRE : 0.6953  NPRE : 4.1553\r\n",
      "2023-02-07 06:48:05  Epoch 12 : MAE : 37.6009  RMSE : 104.9353  NMAE : 0.7910  MRE : 0.7350  NPRE : 5.1539\r\n",
      "2023-02-07 06:48:09  Epoch 13 : MAE : 37.0818  RMSE : 105.0688  NMAE : 0.7801  MRE : 0.6923  NPRE : 4.1480\r\n",
      "2023-02-07 06:48:13  Epoch 14 : MAE : 37.1269  RMSE : 105.4863  NMAE : 0.7810  MRE : 0.6867  NPRE : 3.9865\r\n",
      "2023-02-07 06:48:17  Epoch 15 : MAE : 36.8387  RMSE : 103.5018  NMAE : 0.7750  MRE : 0.7038  NPRE : 4.5105\r\n",
      "2023-02-07 06:48:17  Best epoch 15 : MAE : 36.8387  RMSE : 103.5018  NMAE : 0.7750  MRE : 0.7038  NPRE : 4.5105\r\n",
      "2023-02-07 06:48:17  \t实验 1 聚合模型训练完毕\r\n",
      "2023-02-07 06:48:18  Result : MAE : 36.8387  RMSE : 103.5018  NMAE : 0.7750  MRE : 0.7038  NPRE : 4.5105\r\n",
      "2023-02-07 06:48:18  \t实验 1 : Shards training time = 0.15 s\r\n",
      "\r\n",
      "2023-02-07 06:48:18  \t实验 1 : Aggregators training time = 32.73 s\r\n",
      "\r\n",
      "2023-02-07 06:48:18  \t聚合模型训练完毕\r\n",
      "------------------------------------------------------------------------------------------------------------------------\r\n",
      "2023-02-07 06:48:18  Dataset : tp     interaction : GraphMF\r\n",
      "2023-02-07 06:48:18  Density : 20.00%, slice_epochs : 15, agg_epochs : 15\r\n",
      "2023-02-07 06:48:18  Part_type : 6,    slices : 5,       devices : gpu\r\n",
      "\r\n",
      "\r\n",
      "2023-02-07 06:48:18  Density 20.00% : MAE = 36.839, RMSE = 103.502, NMAE = 0.775, MRE = 0.704, NPRE = 4.511\r\n",
      "\r\n",
      "2023-02-07 06:48:18  Experiment success!\r\n",
      "\r\n"
     ]
    }
   ],
   "source": [
    "!python Experiment.py --dataset tp --interaction GraphMF --rounds 1 --slices 5 --agg_epochs 15 --density 0.20 --part_type 6 --record 0"
   ],
   "metadata": {
    "collapsed": false
   }
  },
  {
   "cell_type": "code",
   "execution_count": 109,
   "outputs": [
    {
     "name": "stdout",
     "output_type": "stream",
     "text": [
      "2023-02-07 16:32:30  Experiment start!\r\n",
      "2023-02-07 16:32:30  Namespace(F=1, agg2=0, agg_decay=0.001, agg_epochs=12, agg_function=1, agg_lr=0.001, agg_type='att', att_decay=0.0001, att_lr=0.001, batch_size=128, beta=1, cluster='kmean', cuda=True, dataset='rt', debug=0, density=0.2, devices='gpu', dimension=32, dir='../Dataset/mnist', dropout=0.1, epoch=1500, external_dim=64, hidden_dims=[64, 64, 100], input_dim=128, interaction='NeuCF', lamda=1, latent_dim=10, log_interval=100, lr=0.0001, n_classes=10, n_clusters=10, n_jobs=1, node2vec=0, node2vec_batchsize=32, node2vec_dim=128, node2vec_epochs=20, node2vec_length=8, node2vec_walk=15, node2vec_windows=3, num_layers=2, order=2, part_iter=20, part_type=8, path='./datasets/data/WSDREAM/', pre_epoch=1000, pretrain=True, processed=0, random_state=1001, record=0, retrain=0, rounds=1, save_model=1, slice=1, slice_decay=0.001, slice_epochs=100, slice_lr=0.001, slices=5, verbose=10, wd=0.0005)\r\n",
      "2023-02-07 16:32:30  Dataset : rt     interaction : NeuCF\r\n",
      "2023-02-07 16:32:30  Density : 20.00%, slice_epochs : 100, agg_epochs : 12\r\n",
      "2023-02-07 16:32:30  Part_type : 8,    slices : 5,       devices : gpu\r\n",
      "2023-02-07 16:32:30  Slice_lr : 0.004,    Slice_decay : 0.001\r\n",
      "2023-02-07 16:32:30  Agg_lr : 0.001,    Agg_decay : 0.001\r\n",
      "2023-02-07 16:32:30  Aggregation function : att\r\n",
      "\r\n",
      "2023-02-07 16:32:30  Round 1 experiment start!\r\n",
      "2023-02-07 16:32:30  \t原始数据集读取完毕\r\n",
      "Computing transition probabilities: 100%|██| 9591/9591 [00:19<00:00, 483.18it/s]\r\n",
      "Generating walks (CPU: 1): 100%|████████████████| 15/15 [00:07<00:00,  2.11it/s]\r\n",
      "(5825, 128)\r\n",
      "Exception ignored on calling ctypes callback function: <function _ThreadpoolInfo._find_modules_with_dl_iterate_phdr.<locals>.match_module_callback at 0x7fa93f272820>\r\n",
      "Traceback (most recent call last):\r\n",
      "  File \"/home/yxzeng/anaconda3/lib/python3.8/site-packages/threadpoolctl.py\", line 400, in match_module_callback\r\n",
      "    self._make_module_from_path(filepath)\r\n",
      "  File \"/home/yxzeng/anaconda3/lib/python3.8/site-packages/threadpoolctl.py\", line 515, in _make_module_from_path\r\n",
      "    module = module_class(filepath, prefix, user_api, internal_api)\r\n",
      "  File \"/home/yxzeng/anaconda3/lib/python3.8/site-packages/threadpoolctl.py\", line 606, in __init__\r\n",
      "    self.version = self.get_version()\r\n",
      "  File \"/home/yxzeng/anaconda3/lib/python3.8/site-packages/threadpoolctl.py\", line 646, in get_version\r\n",
      "    config = get_config().split()\r\n",
      "AttributeError: 'NoneType' object has no attribute 'split'\r\n",
      "Exception ignored on calling ctypes callback function: <function _ThreadpoolInfo._find_modules_with_dl_iterate_phdr.<locals>.match_module_callback at 0x7fa93f272820>\r\n",
      "Traceback (most recent call last):\r\n",
      "  File \"/home/yxzeng/anaconda3/lib/python3.8/site-packages/threadpoolctl.py\", line 400, in match_module_callback\r\n",
      "    self._make_module_from_path(filepath)\r\n",
      "  File \"/home/yxzeng/anaconda3/lib/python3.8/site-packages/threadpoolctl.py\", line 515, in _make_module_from_path\r\n",
      "    module = module_class(filepath, prefix, user_api, internal_api)\r\n",
      "  File \"/home/yxzeng/anaconda3/lib/python3.8/site-packages/threadpoolctl.py\", line 606, in __init__\r\n",
      "    self.version = self.get_version()\r\n",
      "  File \"/home/yxzeng/anaconda3/lib/python3.8/site-packages/threadpoolctl.py\", line 646, in get_version\r\n",
      "    config = get_config().split()\r\n",
      "AttributeError: 'NoneType' object has no attribute 'split'\r\n",
      "Exception ignored on calling ctypes callback function: <function _ThreadpoolInfo._find_modules_with_dl_iterate_phdr.<locals>.match_module_callback at 0x7fa93f272820>\r\n",
      "Traceback (most recent call last):\r\n",
      "  File \"/home/yxzeng/anaconda3/lib/python3.8/site-packages/threadpoolctl.py\", line 400, in match_module_callback\r\n",
      "    self._make_module_from_path(filepath)\r\n",
      "  File \"/home/yxzeng/anaconda3/lib/python3.8/site-packages/threadpoolctl.py\", line 515, in _make_module_from_path\r\n",
      "    module = module_class(filepath, prefix, user_api, internal_api)\r\n",
      "  File \"/home/yxzeng/anaconda3/lib/python3.8/site-packages/threadpoolctl.py\", line 606, in __init__\r\n",
      "    self.version = self.get_version()\r\n",
      "  File \"/home/yxzeng/anaconda3/lib/python3.8/site-packages/threadpoolctl.py\", line 646, in get_version\r\n",
      "    config = get_config().split()\r\n",
      "AttributeError: 'NoneType' object has no attribute 'split'\r\n",
      "Exception ignored on calling ctypes callback function: <function _ThreadpoolInfo._find_modules_with_dl_iterate_phdr.<locals>.match_module_callback at 0x7fa93f272820>\r\n",
      "Traceback (most recent call last):\r\n",
      "  File \"/home/yxzeng/anaconda3/lib/python3.8/site-packages/threadpoolctl.py\", line 400, in match_module_callback\r\n",
      "    self._make_module_from_path(filepath)\r\n",
      "  File \"/home/yxzeng/anaconda3/lib/python3.8/site-packages/threadpoolctl.py\", line 515, in _make_module_from_path\r\n",
      "    module = module_class(filepath, prefix, user_api, internal_api)\r\n",
      "  File \"/home/yxzeng/anaconda3/lib/python3.8/site-packages/threadpoolctl.py\", line 606, in __init__\r\n",
      "    self.version = self.get_version()\r\n",
      "  File \"/home/yxzeng/anaconda3/lib/python3.8/site-packages/threadpoolctl.py\", line 646, in get_version\r\n",
      "    config = get_config().split()\r\n",
      "AttributeError: 'NoneType' object has no attribute 'split'\r\n",
      "Exception ignored on calling ctypes callback function: <function _ThreadpoolInfo._find_modules_with_dl_iterate_phdr.<locals>.match_module_callback at 0x7fa93f272820>\r\n",
      "Traceback (most recent call last):\r\n",
      "  File \"/home/yxzeng/anaconda3/lib/python3.8/site-packages/threadpoolctl.py\", line 400, in match_module_callback\r\n",
      "    self._make_module_from_path(filepath)\r\n",
      "  File \"/home/yxzeng/anaconda3/lib/python3.8/site-packages/threadpoolctl.py\", line 515, in _make_module_from_path\r\n",
      "    module = module_class(filepath, prefix, user_api, internal_api)\r\n",
      "  File \"/home/yxzeng/anaconda3/lib/python3.8/site-packages/threadpoolctl.py\", line 606, in __init__\r\n",
      "    self.version = self.get_version()\r\n",
      "  File \"/home/yxzeng/anaconda3/lib/python3.8/site-packages/threadpoolctl.py\", line 646, in get_version\r\n",
      "    config = get_config().split()\r\n",
      "AttributeError: 'NoneType' object has no attribute 'split'\r\n",
      "Exception ignored on calling ctypes callback function: <function _ThreadpoolInfo._find_modules_with_dl_iterate_phdr.<locals>.match_module_callback at 0x7fa93f272820>\r\n",
      "Traceback (most recent call last):\r\n",
      "  File \"/home/yxzeng/anaconda3/lib/python3.8/site-packages/threadpoolctl.py\", line 400, in match_module_callback\r\n",
      "    self._make_module_from_path(filepath)\r\n",
      "  File \"/home/yxzeng/anaconda3/lib/python3.8/site-packages/threadpoolctl.py\", line 515, in _make_module_from_path\r\n",
      "    module = module_class(filepath, prefix, user_api, internal_api)\r\n",
      "  File \"/home/yxzeng/anaconda3/lib/python3.8/site-packages/threadpoolctl.py\", line 606, in __init__\r\n",
      "    self.version = self.get_version()\r\n",
      "  File \"/home/yxzeng/anaconda3/lib/python3.8/site-packages/threadpoolctl.py\", line 646, in get_version\r\n",
      "    config = get_config().split()\r\n",
      "AttributeError: 'NoneType' object has no attribute 'split'\r\n",
      "Exception ignored on calling ctypes callback function: <function _ThreadpoolInfo._find_modules_with_dl_iterate_phdr.<locals>.match_module_callback at 0x7fa93f272820>\r\n",
      "Traceback (most recent call last):\r\n",
      "  File \"/home/yxzeng/anaconda3/lib/python3.8/site-packages/threadpoolctl.py\", line 400, in match_module_callback\r\n",
      "    self._make_module_from_path(filepath)\r\n",
      "  File \"/home/yxzeng/anaconda3/lib/python3.8/site-packages/threadpoolctl.py\", line 515, in _make_module_from_path\r\n",
      "    module = module_class(filepath, prefix, user_api, internal_api)\r\n",
      "  File \"/home/yxzeng/anaconda3/lib/python3.8/site-packages/threadpoolctl.py\", line 606, in __init__\r\n",
      "    self.version = self.get_version()\r\n",
      "  File \"/home/yxzeng/anaconda3/lib/python3.8/site-packages/threadpoolctl.py\", line 646, in get_version\r\n",
      "    config = get_config().split()\r\n",
      "AttributeError: 'NoneType' object has no attribute 'split'\r\n",
      "Exception ignored on calling ctypes callback function: <function _ThreadpoolInfo._find_modules_with_dl_iterate_phdr.<locals>.match_module_callback at 0x7fa93f272820>\r\n",
      "Traceback (most recent call last):\r\n",
      "  File \"/home/yxzeng/anaconda3/lib/python3.8/site-packages/threadpoolctl.py\", line 400, in match_module_callback\r\n",
      "    self._make_module_from_path(filepath)\r\n",
      "  File \"/home/yxzeng/anaconda3/lib/python3.8/site-packages/threadpoolctl.py\", line 515, in _make_module_from_path\r\n",
      "    module = module_class(filepath, prefix, user_api, internal_api)\r\n",
      "  File \"/home/yxzeng/anaconda3/lib/python3.8/site-packages/threadpoolctl.py\", line 606, in __init__\r\n",
      "    self.version = self.get_version()\r\n",
      "  File \"/home/yxzeng/anaconda3/lib/python3.8/site-packages/threadpoolctl.py\", line 646, in get_version\r\n",
      "    config = get_config().split()\r\n",
      "AttributeError: 'NoneType' object has no attribute 'split'\r\n",
      "Exception ignored on calling ctypes callback function: <function _ThreadpoolInfo._find_modules_with_dl_iterate_phdr.<locals>.match_module_callback at 0x7fa93f272820>\r\n",
      "Traceback (most recent call last):\r\n",
      "  File \"/home/yxzeng/anaconda3/lib/python3.8/site-packages/threadpoolctl.py\", line 400, in match_module_callback\r\n",
      "    self._make_module_from_path(filepath)\r\n",
      "  File \"/home/yxzeng/anaconda3/lib/python3.8/site-packages/threadpoolctl.py\", line 515, in _make_module_from_path\r\n",
      "    module = module_class(filepath, prefix, user_api, internal_api)\r\n",
      "  File \"/home/yxzeng/anaconda3/lib/python3.8/site-packages/threadpoolctl.py\", line 606, in __init__\r\n",
      "    self.version = self.get_version()\r\n",
      "  File \"/home/yxzeng/anaconda3/lib/python3.8/site-packages/threadpoolctl.py\", line 646, in get_version\r\n",
      "    config = get_config().split()\r\n",
      "AttributeError: 'NoneType' object has no attribute 'split'\r\n",
      "Exception ignored on calling ctypes callback function: <function _ThreadpoolInfo._find_modules_with_dl_iterate_phdr.<locals>.match_module_callback at 0x7fa93f272820>\r\n",
      "Traceback (most recent call last):\r\n",
      "  File \"/home/yxzeng/anaconda3/lib/python3.8/site-packages/threadpoolctl.py\", line 400, in match_module_callback\r\n",
      "    self._make_module_from_path(filepath)\r\n",
      "  File \"/home/yxzeng/anaconda3/lib/python3.8/site-packages/threadpoolctl.py\", line 515, in _make_module_from_path\r\n",
      "    module = module_class(filepath, prefix, user_api, internal_api)\r\n",
      "  File \"/home/yxzeng/anaconda3/lib/python3.8/site-packages/threadpoolctl.py\", line 606, in __init__\r\n",
      "    self.version = self.get_version()\r\n",
      "  File \"/home/yxzeng/anaconda3/lib/python3.8/site-packages/threadpoolctl.py\", line 646, in get_version\r\n",
      "    config = get_config().split()\r\n",
      "AttributeError: 'NoneType' object has no attribute 'split'\r\n",
      "Exception ignored on calling ctypes callback function: <function _ThreadpoolInfo._find_modules_with_dl_iterate_phdr.<locals>.match_module_callback at 0x7fa93f272820>\r\n",
      "Traceback (most recent call last):\r\n",
      "  File \"/home/yxzeng/anaconda3/lib/python3.8/site-packages/threadpoolctl.py\", line 400, in match_module_callback\r\n",
      "    self._make_module_from_path(filepath)\r\n",
      "  File \"/home/yxzeng/anaconda3/lib/python3.8/site-packages/threadpoolctl.py\", line 515, in _make_module_from_path\r\n",
      "    module = module_class(filepath, prefix, user_api, internal_api)\r\n",
      "  File \"/home/yxzeng/anaconda3/lib/python3.8/site-packages/threadpoolctl.py\", line 606, in __init__\r\n",
      "    self.version = self.get_version()\r\n",
      "  File \"/home/yxzeng/anaconda3/lib/python3.8/site-packages/threadpoolctl.py\", line 646, in get_version\r\n",
      "    config = get_config().split()\r\n",
      "AttributeError: 'NoneType' object has no attribute 'split'\r\n",
      "Exception ignored on calling ctypes callback function: <function _ThreadpoolInfo._find_modules_with_dl_iterate_phdr.<locals>.match_module_callback at 0x7fa93f272820>\r\n",
      "Traceback (most recent call last):\r\n",
      "  File \"/home/yxzeng/anaconda3/lib/python3.8/site-packages/threadpoolctl.py\", line 400, in match_module_callback\r\n",
      "    self._make_module_from_path(filepath)\r\n",
      "  File \"/home/yxzeng/anaconda3/lib/python3.8/site-packages/threadpoolctl.py\", line 515, in _make_module_from_path\r\n",
      "    module = module_class(filepath, prefix, user_api, internal_api)\r\n",
      "  File \"/home/yxzeng/anaconda3/lib/python3.8/site-packages/threadpoolctl.py\", line 606, in __init__\r\n",
      "    self.version = self.get_version()\r\n",
      "  File \"/home/yxzeng/anaconda3/lib/python3.8/site-packages/threadpoolctl.py\", line 646, in get_version\r\n",
      "    config = get_config().split()\r\n",
      "AttributeError: 'NoneType' object has no attribute 'split'\r\n",
      "Exception ignored on calling ctypes callback function: <function _ThreadpoolInfo._find_modules_with_dl_iterate_phdr.<locals>.match_module_callback at 0x7fa93f272820>\r\n",
      "Traceback (most recent call last):\r\n",
      "  File \"/home/yxzeng/anaconda3/lib/python3.8/site-packages/threadpoolctl.py\", line 400, in match_module_callback\r\n",
      "    self._make_module_from_path(filepath)\r\n",
      "  File \"/home/yxzeng/anaconda3/lib/python3.8/site-packages/threadpoolctl.py\", line 515, in _make_module_from_path\r\n",
      "    module = module_class(filepath, prefix, user_api, internal_api)\r\n",
      "  File \"/home/yxzeng/anaconda3/lib/python3.8/site-packages/threadpoolctl.py\", line 606, in __init__\r\n",
      "    self.version = self.get_version()\r\n",
      "  File \"/home/yxzeng/anaconda3/lib/python3.8/site-packages/threadpoolctl.py\", line 646, in get_version\r\n",
      "    config = get_config().split()\r\n",
      "AttributeError: 'NoneType' object has no attribute 'split'\r\n",
      "Exception ignored on calling ctypes callback function: <function _ThreadpoolInfo._find_modules_with_dl_iterate_phdr.<locals>.match_module_callback at 0x7fa93f272820>\r\n",
      "Traceback (most recent call last):\r\n",
      "  File \"/home/yxzeng/anaconda3/lib/python3.8/site-packages/threadpoolctl.py\", line 400, in match_module_callback\r\n",
      "    self._make_module_from_path(filepath)\r\n",
      "  File \"/home/yxzeng/anaconda3/lib/python3.8/site-packages/threadpoolctl.py\", line 515, in _make_module_from_path\r\n",
      "    module = module_class(filepath, prefix, user_api, internal_api)\r\n",
      "  File \"/home/yxzeng/anaconda3/lib/python3.8/site-packages/threadpoolctl.py\", line 606, in __init__\r\n",
      "    self.version = self.get_version()\r\n",
      "  File \"/home/yxzeng/anaconda3/lib/python3.8/site-packages/threadpoolctl.py\", line 646, in get_version\r\n",
      "    config = get_config().split()\r\n",
      "AttributeError: 'NoneType' object has no attribute 'split'\r\n",
      "Exception ignored on calling ctypes callback function: <function _ThreadpoolInfo._find_modules_with_dl_iterate_phdr.<locals>.match_module_callback at 0x7fa93f272820>\r\n",
      "Traceback (most recent call last):\r\n",
      "  File \"/home/yxzeng/anaconda3/lib/python3.8/site-packages/threadpoolctl.py\", line 400, in match_module_callback\r\n",
      "    self._make_module_from_path(filepath)\r\n",
      "  File \"/home/yxzeng/anaconda3/lib/python3.8/site-packages/threadpoolctl.py\", line 515, in _make_module_from_path\r\n",
      "    module = module_class(filepath, prefix, user_api, internal_api)\r\n",
      "  File \"/home/yxzeng/anaconda3/lib/python3.8/site-packages/threadpoolctl.py\", line 606, in __init__\r\n",
      "    self.version = self.get_version()\r\n",
      "  File \"/home/yxzeng/anaconda3/lib/python3.8/site-packages/threadpoolctl.py\", line 646, in get_version\r\n",
      "    config = get_config().split()\r\n",
      "AttributeError: 'NoneType' object has no attribute 'split'\r\n",
      "Exception ignored on calling ctypes callback function: <function _ThreadpoolInfo._find_modules_with_dl_iterate_phdr.<locals>.match_module_callback at 0x7fa93f272820>\r\n",
      "Traceback (most recent call last):\r\n",
      "  File \"/home/yxzeng/anaconda3/lib/python3.8/site-packages/threadpoolctl.py\", line 400, in match_module_callback\r\n",
      "    self._make_module_from_path(filepath)\r\n",
      "  File \"/home/yxzeng/anaconda3/lib/python3.8/site-packages/threadpoolctl.py\", line 515, in _make_module_from_path\r\n",
      "    module = module_class(filepath, prefix, user_api, internal_api)\r\n",
      "  File \"/home/yxzeng/anaconda3/lib/python3.8/site-packages/threadpoolctl.py\", line 606, in __init__\r\n",
      "    self.version = self.get_version()\r\n",
      "  File \"/home/yxzeng/anaconda3/lib/python3.8/site-packages/threadpoolctl.py\", line 646, in get_version\r\n",
      "    config = get_config().split()\r\n",
      "AttributeError: 'NoneType' object has no attribute 'split'\r\n",
      "Exception ignored on calling ctypes callback function: <function _ThreadpoolInfo._find_modules_with_dl_iterate_phdr.<locals>.match_module_callback at 0x7fa93f272820>\r\n",
      "Traceback (most recent call last):\r\n",
      "  File \"/home/yxzeng/anaconda3/lib/python3.8/site-packages/threadpoolctl.py\", line 400, in match_module_callback\r\n",
      "    self._make_module_from_path(filepath)\r\n",
      "  File \"/home/yxzeng/anaconda3/lib/python3.8/site-packages/threadpoolctl.py\", line 515, in _make_module_from_path\r\n",
      "    module = module_class(filepath, prefix, user_api, internal_api)\r\n",
      "  File \"/home/yxzeng/anaconda3/lib/python3.8/site-packages/threadpoolctl.py\", line 606, in __init__\r\n",
      "    self.version = self.get_version()\r\n",
      "  File \"/home/yxzeng/anaconda3/lib/python3.8/site-packages/threadpoolctl.py\", line 646, in get_version\r\n",
      "    config = get_config().split()\r\n",
      "AttributeError: 'NoneType' object has no attribute 'split'\r\n",
      "Exception ignored on calling ctypes callback function: <function _ThreadpoolInfo._find_modules_with_dl_iterate_phdr.<locals>.match_module_callback at 0x7fa93f272820>\r\n",
      "Traceback (most recent call last):\r\n",
      "  File \"/home/yxzeng/anaconda3/lib/python3.8/site-packages/threadpoolctl.py\", line 400, in match_module_callback\r\n",
      "    self._make_module_from_path(filepath)\r\n",
      "  File \"/home/yxzeng/anaconda3/lib/python3.8/site-packages/threadpoolctl.py\", line 515, in _make_module_from_path\r\n",
      "    module = module_class(filepath, prefix, user_api, internal_api)\r\n",
      "  File \"/home/yxzeng/anaconda3/lib/python3.8/site-packages/threadpoolctl.py\", line 606, in __init__\r\n",
      "    self.version = self.get_version()\r\n",
      "  File \"/home/yxzeng/anaconda3/lib/python3.8/site-packages/threadpoolctl.py\", line 646, in get_version\r\n",
      "    config = get_config().split()\r\n",
      "AttributeError: 'NoneType' object has no attribute 'split'\r\n",
      "Exception ignored on calling ctypes callback function: <function _ThreadpoolInfo._find_modules_with_dl_iterate_phdr.<locals>.match_module_callback at 0x7fa93f272820>\r\n",
      "Traceback (most recent call last):\r\n",
      "  File \"/home/yxzeng/anaconda3/lib/python3.8/site-packages/threadpoolctl.py\", line 400, in match_module_callback\r\n",
      "    self._make_module_from_path(filepath)\r\n",
      "  File \"/home/yxzeng/anaconda3/lib/python3.8/site-packages/threadpoolctl.py\", line 515, in _make_module_from_path\r\n",
      "    module = module_class(filepath, prefix, user_api, internal_api)\r\n",
      "  File \"/home/yxzeng/anaconda3/lib/python3.8/site-packages/threadpoolctl.py\", line 606, in __init__\r\n",
      "    self.version = self.get_version()\r\n",
      "  File \"/home/yxzeng/anaconda3/lib/python3.8/site-packages/threadpoolctl.py\", line 646, in get_version\r\n",
      "    config = get_config().split()\r\n",
      "AttributeError: 'NoneType' object has no attribute 'split'\r\n",
      "Exception ignored on calling ctypes callback function: <function _ThreadpoolInfo._find_modules_with_dl_iterate_phdr.<locals>.match_module_callback at 0x7fa93f272820>\r\n",
      "Traceback (most recent call last):\r\n",
      "  File \"/home/yxzeng/anaconda3/lib/python3.8/site-packages/threadpoolctl.py\", line 400, in match_module_callback\r\n",
      "    self._make_module_from_path(filepath)\r\n",
      "  File \"/home/yxzeng/anaconda3/lib/python3.8/site-packages/threadpoolctl.py\", line 515, in _make_module_from_path\r\n",
      "    module = module_class(filepath, prefix, user_api, internal_api)\r\n",
      "  File \"/home/yxzeng/anaconda3/lib/python3.8/site-packages/threadpoolctl.py\", line 606, in __init__\r\n",
      "    self.version = self.get_version()\r\n",
      "  File \"/home/yxzeng/anaconda3/lib/python3.8/site-packages/threadpoolctl.py\", line 646, in get_version\r\n",
      "    config = get_config().split()\r\n",
      "AttributeError: 'NoneType' object has no attribute 'split'\r\n",
      "2023-02-07 16:33:45  \tbalance操作结束！\r\n",
      "360 1386 1516 1265 1298 \r\n",
      "2023-02-07 16:33:45  \tNode2Vec 基于服务聚类均衡切割完毕\r\n",
      "2023-02-07 16:33:45  \t分切数据执行完毕\r\n",
      "2023-02-07 16:33:47  \t模型加载完毕\r\n",
      "2023-02-07 16:33:47  \t准备训练切片模型\r\n",
      "2023-02-07 16:33:47  \t实验 1 模型 1 开始分片训练\r\n",
      "2023-02-07 16:33:56  Epoch 10 : MAE : 0.4889  RMSE : 1.3292  NMAE : 0.5539  MRE : 0.6083  NPRE : 2.2154\r\n",
      "2023-02-07 16:34:04  Epoch 20 : MAE : 0.4603  RMSE : 1.2956  NMAE : 0.5215  MRE : 0.5053  NPRE : 2.7899\r\n",
      "2023-02-07 16:34:12  Epoch 30 : MAE : 0.4445  RMSE : 1.3209  NMAE : 0.5035  MRE : 0.4223  NPRE : 1.6490\r\n",
      "2023-02-07 16:34:20  Epoch 40 : MAE : 0.4236  RMSE : 1.2916  NMAE : 0.4798  MRE : 0.3800  NPRE : 1.4504\r\n",
      "2023-02-07 16:34:28  Best epoch 39 : MAE : 0.4101  RMSE : 1.2647  NMAE : 0.4645  MRE : 0.3859  NPRE : 1.0320\r\n",
      "2023-02-07 16:34:28  实验 1 模型 1 training time = 10.81 s\r\n",
      "2023-02-07 16:34:28  Slice ID  1 : MAE = 0.4101, RMSE = 1.2647, NMAE = 0.4645, MRE = 0.3859, NPRE = 1.0320\r\n",
      "\r\n",
      "2023-02-07 16:34:28  \t实验 1 模型 2 开始分片训练\r\n",
      "2023-02-07 16:34:46  Epoch 10 : MAE : 0.3982  RMSE : 1.2729  NMAE : 0.4817  MRE : 0.4340  NPRE : 1.8035\r\n",
      "2023-02-07 16:35:04  Epoch 20 : MAE : 0.3533  RMSE : 1.2551  NMAE : 0.4274  MRE : 0.3103  NPRE : 0.9533\r\n",
      "2023-02-07 16:35:22  Epoch 30 : MAE : 0.3659  RMSE : 1.2498  NMAE : 0.4426  MRE : 0.3268  NPRE : 0.9662\r\n",
      "2023-02-07 16:35:40  Epoch 40 : MAE : 0.3572  RMSE : 1.2119  NMAE : 0.4321  MRE : 0.3167  NPRE : 1.1076\r\n",
      "2023-02-07 16:35:42  Best epoch 31 : MAE : 0.3397  RMSE : 1.2264  NMAE : 0.4110  MRE : 0.2635  NPRE : 0.9673\r\n",
      "2023-02-07 16:35:42  实验 1 模型 2 training time = 31.33 s\r\n",
      "2023-02-07 16:35:42  Slice ID  2 : MAE = 0.3397, RMSE = 1.2264, NMAE = 0.4110, MRE = 0.2635, NPRE = 0.9673\r\n",
      "\r\n",
      "2023-02-07 16:35:42  \t实验 1 模型 3 开始分片训练\r\n",
      "2023-02-07 16:36:02  Epoch 10 : MAE : 0.5177  RMSE : 1.4648  NMAE : 0.4319  MRE : 0.4200  NPRE : 1.8493\r\n",
      "2023-02-07 16:36:21  Epoch 20 : MAE : 0.4579  RMSE : 1.4334  NMAE : 0.3820  MRE : 0.2886  NPRE : 0.9876\r\n",
      "2023-02-07 16:36:42  Epoch 30 : MAE : 0.4495  RMSE : 1.4089  NMAE : 0.3750  MRE : 0.3065  NPRE : 1.1061\r\n",
      "2023-02-07 16:36:56  Best epoch 27 : MAE : 0.4410  RMSE : 1.4212  NMAE : 0.3679  MRE : 0.2717  NPRE : 0.9420\r\n",
      "2023-02-07 16:36:56  实验 1 模型 3 training time = 30.99 s\r\n",
      "2023-02-07 16:36:56  Slice ID  3 : MAE = 0.4410, RMSE = 1.4212, NMAE = 0.3679, MRE = 0.2717, NPRE = 0.9420\r\n",
      "\r\n",
      "2023-02-07 16:36:56  \t实验 1 模型 4 开始分片训练\r\n",
      "2023-02-07 16:37:13  Epoch 10 : MAE : 0.3676  RMSE : 1.1137  NMAE : 0.4946  MRE : 0.4534  NPRE : 2.1298\r\n",
      "2023-02-07 16:37:32  Epoch 20 : MAE : 0.3211  RMSE : 1.1021  NMAE : 0.4320  MRE : 0.3081  NPRE : 1.0544\r\n",
      "2023-02-07 16:37:49  Epoch 30 : MAE : 0.3139  RMSE : 1.0962  NMAE : 0.4224  MRE : 0.2812  NPRE : 0.9204\r\n",
      "2023-02-07 16:37:54  Best epoch 23 : MAE : 0.3077  RMSE : 1.0936  NMAE : 0.4141  MRE : 0.2669  NPRE : 0.9144\r\n",
      "2023-02-07 16:37:54  实验 1 模型 4 training time = 23.31 s\r\n",
      "2023-02-07 16:37:54  Slice ID  4 : MAE = 0.3077, RMSE = 1.0936, NMAE = 0.4141, MRE = 0.2669, NPRE = 0.9144\r\n",
      "\r\n",
      "2023-02-07 16:37:54  \t实验 1 模型 5 开始分片训练\r\n",
      "2023-02-07 16:38:13  Epoch 10 : MAE : 0.4192  RMSE : 1.3018  NMAE : 0.4972  MRE : 0.4280  NPRE : 1.1867\r\n",
      "2023-02-07 16:38:32  Epoch 20 : MAE : 0.3730  RMSE : 1.2405  NMAE : 0.4424  MRE : 0.3158  NPRE : 1.0191\r\n",
      "2023-02-07 16:38:50  Epoch 30 : MAE : 0.3626  RMSE : 1.2190  NMAE : 0.4301  MRE : 0.2976  NPRE : 1.0000\r\n",
      "2023-02-07 16:39:04  Best epoch 28 : MAE : 0.3516  RMSE : 1.2050  NMAE : 0.4171  MRE : 0.2937  NPRE : 1.0000\r\n",
      "2023-02-07 16:39:04  实验 1 模型 5 training time = 29.85 s\r\n",
      "2023-02-07 16:39:04  Slice ID  5 : MAE = 0.3516, RMSE = 1.2050, NMAE = 0.4171, MRE = 0.2937, NPRE = 1.0000\r\n",
      "\r\n",
      "2023-02-07 16:39:04  \t所有切片模型训练完毕\r\n",
      "2023-02-07 16:39:04  \t开始训练聚合模型\r\n",
      "2023-02-07 16:39:12  Epoch  1 : MAE : 0.5364  RMSE : 1.5165  NMAE : 0.5893  MRE : 0.5022  NPRE : 2.3547\r\n",
      "2023-02-07 16:39:18  Epoch  2 : MAE : 0.4960  RMSE : 1.4540  NMAE : 0.5448  MRE : 0.4312  NPRE : 2.1464\r\n",
      "2023-02-07 16:39:24  Epoch  3 : MAE : 0.4783  RMSE : 1.4086  NMAE : 0.5254  MRE : 0.4220  NPRE : 2.3358\r\n",
      "2023-02-07 16:39:31  Epoch  4 : MAE : 0.4566  RMSE : 1.3685  NMAE : 0.5016  MRE : 0.3978  NPRE : 1.7904\r\n",
      "2023-02-07 16:39:39  Epoch  5 : MAE : 0.4467  RMSE : 1.3544  NMAE : 0.4907  MRE : 0.3894  NPRE : 1.7722\r\n",
      "2023-02-07 16:39:46  Epoch  6 : MAE : 0.4374  RMSE : 1.3484  NMAE : 0.4805  MRE : 0.3744  NPRE : 1.6121\r\n",
      "2023-02-07 16:39:53  Epoch  7 : MAE : 0.4344  RMSE : 1.3364  NMAE : 0.4771  MRE : 0.3751  NPRE : 1.9471\r\n",
      "2023-02-07 16:39:59  Epoch  8 : MAE : 0.4261  RMSE : 1.3304  NMAE : 0.4681  MRE : 0.3717  NPRE : 1.4312\r\n",
      "2023-02-07 16:40:07  Epoch  9 : MAE : 0.4237  RMSE : 1.3270  NMAE : 0.4655  MRE : 0.3796  NPRE : 1.2659\r\n",
      "2023-02-07 16:40:14  Epoch 10 : MAE : 0.4195  RMSE : 1.3237  NMAE : 0.4608  MRE : 0.3625  NPRE : 1.3409\r\n",
      "2023-02-07 16:40:22  Epoch 11 : MAE : 0.4183  RMSE : 1.3169  NMAE : 0.4595  MRE : 0.3507  NPRE : 1.7496\r\n",
      "2023-02-07 16:40:30  Epoch 12 : MAE : 0.4160  RMSE : 1.3175  NMAE : 0.4570  MRE : 0.3647  NPRE : 1.2460\r\n",
      "2023-02-07 16:40:30  Best epoch 12 : MAE : 0.4160  RMSE : 1.3175  NMAE : 0.4570  MRE : 0.3647  NPRE : 1.2460\r\n",
      "2023-02-07 16:40:30  \t实验 1 聚合模型训练完毕\r\n",
      "2023-02-07 16:40:32  Result : MAE : 0.4160  RMSE : 1.3183  NMAE : 0.4570  MRE : 0.3646  NPRE : 1.2458\r\n",
      "2023-02-07 16:40:32  \t实验 1 : Shards training time = 25.26 s\r\n",
      "\r\n",
      "2023-02-07 16:40:32  \t实验 1 : Aggregators training time = 62.74 s\r\n",
      "\r\n",
      "2023-02-07 16:40:32  \t聚合模型训练完毕\r\n",
      "------------------------------------------------------------------------------------------------------------------------\r\n",
      "2023-02-07 16:40:32  Dataset : rt     interaction : NeuCF\r\n",
      "2023-02-07 16:40:32  Density : 20.00%, slice_epochs : 100, agg_epochs : 12\r\n",
      "2023-02-07 16:40:32  Part_type : 8,    slices : 5,       devices : gpu\r\n",
      "\r\n",
      "\r\n",
      "2023-02-07 16:40:32  Density 20.00% : MAE = 0.416, RMSE = 1.318, NMAE = 0.457, MRE = 0.365, NPRE = 1.246\r\n",
      "\r\n",
      "2023-02-07 16:40:32  Experiment success!\r\n",
      "\r\n"
     ]
    }
   ],
   "source": [
    "!python Experiment.py --dataset rt --interaction NeuCF --rounds 1 --slices 5 --agg_epochs 12 --density 0.20 --part_type 8 --record 0 --cluster kmean"
   ],
   "metadata": {
    "collapsed": false
   }
  },
  {
   "cell_type": "code",
   "execution_count": 110,
   "outputs": [
    {
     "name": "stdout",
     "output_type": "stream",
     "text": [
      "2023-02-07 16:40:33  Experiment start!\r\n",
      "2023-02-07 16:40:33  Namespace(F=1, agg2=0, agg_decay=0.001, agg_epochs=15, agg_function=1, agg_lr=0.001, agg_type='att', att_decay=0.0001, att_lr=0.001, batch_size=128, beta=1, cluster='deep', cuda=True, dataset='rt', debug=0, density=0.2, devices='gpu', dimension=32, dir='../Dataset/mnist', dropout=0.1, epoch=1500, external_dim=64, hidden_dims=[64, 64, 100], input_dim=128, interaction='CSMF', lamda=1, latent_dim=10, log_interval=100, lr=0.0001, n_classes=10, n_clusters=10, n_jobs=1, node2vec=0, node2vec_batchsize=32, node2vec_dim=128, node2vec_epochs=20, node2vec_length=8, node2vec_walk=15, node2vec_windows=3, num_layers=2, order=2, part_iter=20, part_type=8, path='./datasets/data/WSDREAM/', pre_epoch=1000, pretrain=True, processed=0, random_state=1001, record=0, retrain=0, rounds=1, save_model=1, slice=1, slice_decay=0.001, slice_epochs=100, slice_lr=0.001, slices=5, verbose=10, wd=0.0005)\r\n",
      "2023-02-07 16:40:33  Dataset : rt     interaction : CSMF\r\n",
      "2023-02-07 16:40:33  Density : 20.00%, slice_epochs : 100, agg_epochs : 15\r\n",
      "2023-02-07 16:40:33  Part_type : 8,    slices : 5,       devices : gpu\r\n",
      "2023-02-07 16:40:33  Slice_lr : 0.01,    Slice_decay : 0.001\r\n",
      "2023-02-07 16:40:33  Agg_lr : 0.008,    Agg_decay : 0.001\r\n",
      "2023-02-07 16:40:33  Aggregation function : att\r\n",
      "\r\n",
      "2023-02-07 16:40:33  Round 1 experiment start!\r\n",
      "2023-02-07 16:40:33  \t原始数据集读取完毕\r\n",
      "360 1386 1516 1265 1298 \r\n",
      "2023-02-07 16:40:33  \tNode2Vec 基于服务聚类均衡切割完毕\r\n",
      "2023-02-07 16:40:33  \t分切数据执行完毕\r\n",
      "2023-02-07 16:40:35  \t模型加载完毕\r\n",
      "2023-02-07 16:40:35  \t准备训练切片模型\r\n",
      "2023-02-07 16:40:35  \t实验 1 模型 1 开始分片训练\r\n",
      "2023-02-07 16:40:44  Epoch 10 : MAE : 0.3792  RMSE : 1.2578  NMAE : 0.4296  MRE : 0.2594  NPRE : 0.9025\r\n",
      "2023-02-07 16:40:51  Best epoch  8 : MAE : 0.3750  RMSE : 1.2379  NMAE : 0.4248  MRE : 0.2621  NPRE : 0.9047\r\n",
      "2023-02-07 16:40:51  实验 1 模型 1 training time = 2.96 s\r\n",
      "2023-02-07 16:40:51  Slice ID  1 : MAE = 0.3750, RMSE = 1.2379, NMAE = 0.4248, MRE = 0.2621, NPRE = 0.9047\r\n",
      "\r\n",
      "2023-02-07 16:40:51  \t实验 1 模型 2 开始分片训练\r\n",
      "2023-02-07 16:41:13  Epoch 10 : MAE : 0.3226  RMSE : 1.1737  NMAE : 0.3902  MRE : 0.2150  NPRE : 0.8446\r\n",
      "2023-02-07 16:41:30  Best epoch  8 : MAE : 0.3187  RMSE : 1.1874  NMAE : 0.3855  MRE : 0.2113  NPRE : 0.8203\r\n",
      "2023-02-07 16:41:30  实验 1 模型 2 training time = 10.54 s\r\n",
      "2023-02-07 16:41:30  Slice ID  2 : MAE = 0.3187, RMSE = 1.1874, NMAE = 0.3855, MRE = 0.2113, NPRE = 0.8203\r\n",
      "\r\n",
      "2023-02-07 16:41:30  \t实验 1 模型 3 开始分片训练\r\n",
      "2023-02-07 16:41:53  Epoch 10 : MAE : 0.4039  RMSE : 1.3415  NMAE : 0.3369  MRE : 0.2037  NPRE : 0.7421\r\n",
      "2023-02-07 16:42:08  Best epoch  7 : MAE : 0.4030  RMSE : 1.3381  NMAE : 0.3362  MRE : 0.2032  NPRE : 0.7897\r\n",
      "2023-02-07 16:42:08  实验 1 模型 3 training time = 9.91 s\r\n",
      "2023-02-07 16:42:08  Slice ID  3 : MAE = 0.4030, RMSE = 1.3381, NMAE = 0.3362, MRE = 0.2032, NPRE = 0.7897\r\n",
      "\r\n",
      "2023-02-07 16:42:08  \t实验 1 模型 4 开始分片训练\r\n",
      "2023-02-07 16:42:28  Epoch 10 : MAE : 0.2951  RMSE : 1.0629  NMAE : 0.3971  MRE : 0.1891  NPRE : 0.7957\r\n",
      "2023-02-07 16:42:46  Best epoch  9 : MAE : 0.2895  RMSE : 1.0747  NMAE : 0.3895  MRE : 0.1825  NPRE : 0.7436\r\n",
      "2023-02-07 16:42:46  实验 1 模型 4 training time = 10.94 s\r\n",
      "2023-02-07 16:42:46  Slice ID  4 : MAE = 0.2895, RMSE = 1.0747, NMAE = 0.3895, MRE = 0.1825, NPRE = 0.7436\r\n",
      "\r\n",
      "2023-02-07 16:42:46  \t实验 1 模型 5 开始分片训练\r\n",
      "2023-02-07 16:43:06  Epoch 10 : MAE : 0.3377  RMSE : 1.1793  NMAE : 0.4005  MRE : 0.2293  NPRE : 0.8703\r\n",
      "2023-02-07 16:43:27  Epoch 20 : MAE : 0.3371  RMSE : 1.1545  NMAE : 0.3998  MRE : 0.2309  NPRE : 0.8836\r\n",
      "2023-02-07 16:43:35  Best epoch 14 : MAE : 0.3321  RMSE : 1.1654  NMAE : 0.3939  MRE : 0.2205  NPRE : 0.7990\r\n",
      "2023-02-07 16:43:35  实验 1 模型 5 training time = 18.07 s\r\n",
      "2023-02-07 16:43:35  Slice ID  5 : MAE = 0.3321, RMSE = 1.1654, NMAE = 0.3939, MRE = 0.2205, NPRE = 0.7990\r\n",
      "\r\n",
      "2023-02-07 16:43:35  \t所有切片模型训练完毕\r\n",
      "2023-02-07 16:43:35  \t开始训练聚合模型\r\n",
      "2023-02-07 16:43:40  Epoch  1 : MAE : 0.6566  RMSE : 1.8178  NMAE : 0.7213  MRE : 0.5484  NPRE : 2.4965\r\n",
      "2023-02-07 16:43:45  Epoch  2 : MAE : 0.5946  RMSE : 1.6307  NMAE : 0.6531  MRE : 0.5206  NPRE : 2.4871\r\n",
      "2023-02-07 16:43:49  Epoch  3 : MAE : 0.5904  RMSE : 1.6128  NMAE : 0.6485  MRE : 0.5209  NPRE : 2.6332\r\n",
      "2023-02-07 16:43:54  Epoch  4 : MAE : 0.5885  RMSE : 1.6088  NMAE : 0.6465  MRE : 0.5162  NPRE : 2.5511\r\n",
      "2023-02-07 16:43:59  Epoch  5 : MAE : 0.5886  RMSE : 1.6182  NMAE : 0.6466  MRE : 0.5154  NPRE : 2.3928\r\n",
      "2023-02-07 16:44:04  Epoch  6 : MAE : 0.5884  RMSE : 1.6136  NMAE : 0.6464  MRE : 0.5134  NPRE : 2.3381\r\n",
      "2023-02-07 16:44:09  Epoch  7 : MAE : 0.5866  RMSE : 1.5929  NMAE : 0.6444  MRE : 0.5188  NPRE : 2.6855\r\n",
      "2023-02-07 16:44:13  Epoch  8 : MAE : 0.5866  RMSE : 1.5964  NMAE : 0.6444  MRE : 0.5156  NPRE : 2.6289\r\n",
      "2023-02-07 16:44:18  Epoch  9 : MAE : 0.5874  RMSE : 1.6163  NMAE : 0.6452  MRE : 0.5141  NPRE : 2.3443\r\n",
      "2023-02-07 16:44:23  Epoch 10 : MAE : 0.5857  RMSE : 1.6021  NMAE : 0.6434  MRE : 0.5146  NPRE : 2.4911\r\n",
      "2023-02-07 16:44:28  Epoch 11 : MAE : 0.5863  RMSE : 1.5975  NMAE : 0.6440  MRE : 0.5156  NPRE : 2.5410\r\n",
      "2023-02-07 16:44:32  Epoch 12 : MAE : 0.5869  RMSE : 1.5931  NMAE : 0.6447  MRE : 0.5189  NPRE : 2.6277\r\n",
      "2023-02-07 16:44:37  Epoch 13 : MAE : 0.5865  RMSE : 1.5944  NMAE : 0.6443  MRE : 0.5150  NPRE : 2.5967\r\n",
      "2023-02-07 16:44:42  Epoch 14 : MAE : 0.5854  RMSE : 1.5986  NMAE : 0.6431  MRE : 0.5134  NPRE : 2.5660\r\n",
      "2023-02-07 16:44:47  Epoch 15 : MAE : 0.5863  RMSE : 1.6005  NMAE : 0.6441  MRE : 0.5150  NPRE : 2.5495\r\n",
      "2023-02-07 16:44:47  Best epoch 14 : MAE : 0.5854  RMSE : 1.5986  NMAE : 0.6431  MRE : 0.5134  NPRE : 2.5660\r\n",
      "2023-02-07 16:44:47  \t实验 1 聚合模型训练完毕\r\n",
      "2023-02-07 16:44:49  Result : MAE : 0.5854  RMSE : 1.5986  NMAE : 0.6431  MRE : 0.5134  NPRE : 2.5660\r\n",
      "2023-02-07 16:44:49  \t实验 1 : Shards training time = 10.48 s\r\n",
      "\r\n",
      "2023-02-07 16:44:49  \t实验 1 : Aggregators training time = 41.05 s\r\n",
      "\r\n",
      "2023-02-07 16:44:49  \t聚合模型训练完毕\r\n",
      "------------------------------------------------------------------------------------------------------------------------\r\n",
      "2023-02-07 16:44:49  Dataset : rt     interaction : CSMF\r\n",
      "2023-02-07 16:44:49  Density : 20.00%, slice_epochs : 100, agg_epochs : 15\r\n",
      "2023-02-07 16:44:49  Part_type : 8,    slices : 5,       devices : gpu\r\n",
      "\r\n",
      "\r\n",
      "2023-02-07 16:44:49  Density 20.00% : MAE = 0.585, RMSE = 1.599, NMAE = 0.643, MRE = 0.513, NPRE = 2.566\r\n",
      "\r\n",
      "2023-02-07 16:44:49  Experiment success!\r\n",
      "\r\n"
     ]
    }
   ],
   "source": [
    "!python Experiment.py --dataset rt --interaction CSMF --rounds 1 --slices 5 --agg_epochs 15 --density 0.20 --part_type 8 --record 0"
   ],
   "metadata": {
    "collapsed": false
   }
  },
  {
   "cell_type": "code",
   "execution_count": 111,
   "outputs": [
    {
     "name": "stdout",
     "output_type": "stream",
     "text": [
      "2023-02-07 16:44:50  Experiment start!\r\n",
      "2023-02-07 16:44:50  Namespace(F=1, agg2=0, agg_decay=0.001, agg_epochs=15, agg_function=1, agg_lr=0.001, agg_type='att', att_decay=0.0001, att_lr=0.001, batch_size=128, beta=1, cluster='deep', cuda=True, dataset='rt', debug=0, density=0.2, devices='gpu', dimension=32, dir='../Dataset/mnist', dropout=0.1, epoch=1500, external_dim=64, hidden_dims=[64, 64, 100], input_dim=128, interaction='MF', lamda=1, latent_dim=10, log_interval=100, lr=0.0001, n_classes=10, n_clusters=10, n_jobs=1, node2vec=0, node2vec_batchsize=32, node2vec_dim=128, node2vec_epochs=20, node2vec_length=8, node2vec_walk=15, node2vec_windows=3, num_layers=2, order=2, part_iter=20, part_type=8, path='./datasets/data/WSDREAM/', pre_epoch=1000, pretrain=True, processed=0, random_state=1001, record=0, retrain=0, rounds=1, save_model=1, slice=1, slice_decay=0.001, slice_epochs=100, slice_lr=0.001, slices=5, verbose=10, wd=0.0005)\r\n",
      "2023-02-07 16:44:50  Dataset : rt     interaction : MF\r\n",
      "2023-02-07 16:44:50  Density : 20.00%, slice_epochs : 100, agg_epochs : 15\r\n",
      "2023-02-07 16:44:50  Part_type : 8,    slices : 5,       devices : gpu\r\n",
      "2023-02-07 16:44:50  Slice_lr : 0.008,    Slice_decay : 0.001\r\n",
      "2023-02-07 16:44:50  Agg_lr : 0.001,    Agg_decay : 0.001\r\n",
      "2023-02-07 16:44:50  Aggregation function : att\r\n",
      "\r\n",
      "2023-02-07 16:44:50  Round 1 experiment start!\r\n",
      "2023-02-07 16:44:50  \t原始数据集读取完毕\r\n",
      "360 1386 1516 1265 1298 \r\n",
      "2023-02-07 16:44:50  \tNode2Vec 基于服务聚类均衡切割完毕\r\n",
      "2023-02-07 16:44:50  \t分切数据执行完毕\r\n",
      "2023-02-07 16:44:52  \t模型加载完毕\r\n",
      "2023-02-07 16:44:52  \t准备训练切片模型\r\n",
      "2023-02-07 16:44:52  \t实验 1 模型 1 开始分片训练\r\n",
      "2023-02-07 16:45:00  Epoch 10 : MAE : 0.7810  RMSE : 1.9545  NMAE : 0.8848  MRE : 0.8418  NPRE : 3.7817\r\n",
      "2023-02-07 16:45:07  Epoch 20 : MAE : 0.5198  RMSE : 1.4914  NMAE : 0.5888  MRE : 0.5329  NPRE : 2.0332\r\n",
      "2023-02-07 16:45:14  Epoch 30 : MAE : 0.4050  RMSE : 1.2799  NMAE : 0.4587  MRE : 0.3941  NPRE : 1.4005\r\n",
      "2023-02-07 16:45:21  Epoch 40 : MAE : 0.4023  RMSE : 1.2572  NMAE : 0.4557  MRE : 0.3593  NPRE : 1.1201\r\n",
      "2023-02-07 16:45:26  Best epoch 36 : MAE : 0.3975  RMSE : 1.2586  NMAE : 0.4503  MRE : 0.3558  NPRE : 1.2032\r\n",
      "2023-02-07 16:45:26  实验 1 模型 1 training time = 7.39 s\r\n",
      "2023-02-07 16:45:26  Slice ID  1 : MAE = 0.3975, RMSE = 1.2586, NMAE = 0.4503, MRE = 0.3558, NPRE = 1.2032\r\n",
      "\r\n",
      "2023-02-07 16:45:26  \t实验 1 模型 2 开始分片训练\r\n",
      "2023-02-07 16:45:41  Epoch 10 : MAE : 0.4337  RMSE : 1.4405  NMAE : 0.5246  MRE : 0.3740  NPRE : 1.2949\r\n",
      "2023-02-07 16:45:57  Epoch 20 : MAE : 0.3413  RMSE : 1.2271  NMAE : 0.4128  MRE : 0.2836  NPRE : 1.0000\r\n",
      "2023-02-07 16:46:11  Epoch 30 : MAE : 0.3465  RMSE : 1.1965  NMAE : 0.4191  MRE : 0.3109  NPRE : 1.0001\r\n",
      "2023-02-07 16:46:13  Best epoch 21 : MAE : 0.3339  RMSE : 1.2122  NMAE : 0.4039  MRE : 0.2832  NPRE : 1.0000\r\n",
      "2023-02-07 16:46:13  实验 1 模型 2 training time = 15.67 s\r\n",
      "2023-02-07 16:46:13  Slice ID  2 : MAE = 0.3339, RMSE = 1.2122, NMAE = 0.4039, MRE = 0.2832, NPRE = 1.0000\r\n",
      "\r\n",
      "2023-02-07 16:46:13  \t实验 1 模型 3 开始分片训练\r\n",
      "2023-02-07 16:46:29  Epoch 10 : MAE : 0.5208  RMSE : 1.4916  NMAE : 0.4345  MRE : 0.4334  NPRE : 1.3520\r\n",
      "2023-02-07 16:46:46  Epoch 20 : MAE : 0.4421  RMSE : 1.3906  NMAE : 0.3688  MRE : 0.3081  NPRE : 1.0000\r\n",
      "2023-02-07 16:47:02  Epoch 30 : MAE : 0.4482  RMSE : 1.3274  NMAE : 0.3739  MRE : 0.3800  NPRE : 1.4507\r\n",
      "2023-02-07 16:47:03  Best epoch 21 : MAE : 0.4353  RMSE : 1.3704  NMAE : 0.3631  MRE : 0.3112  NPRE : 1.0000\r\n",
      "2023-02-07 16:47:03  实验 1 模型 3 training time = 16.64 s\r\n",
      "2023-02-07 16:47:03  Slice ID  3 : MAE = 0.4353, RMSE = 1.3704, NMAE = 0.3631, MRE = 0.3112, NPRE = 1.0000\r\n",
      "\r\n",
      "2023-02-07 16:47:03  \t实验 1 模型 4 开始分片训练\r\n",
      "2023-02-07 16:47:18  Epoch 10 : MAE : 0.4701  RMSE : 1.4406  NMAE : 0.6325  MRE : 0.4641  NPRE : 1.7363\r\n",
      "2023-02-07 16:47:33  Epoch 20 : MAE : 0.3081  RMSE : 1.0975  NMAE : 0.4145  MRE : 0.2900  NPRE : 1.0000\r\n",
      "2023-02-07 16:47:47  Epoch 30 : MAE : 0.3131  RMSE : 1.0791  NMAE : 0.4213  MRE : 0.2924  NPRE : 1.0000\r\n",
      "2023-02-07 16:47:51  Best epoch 23 : MAE : 0.3005  RMSE : 1.0839  NMAE : 0.4043  MRE : 0.2665  NPRE : 0.9961\r\n",
      "2023-02-07 16:47:51  实验 1 模型 4 training time = 16.30 s\r\n",
      "2023-02-07 16:47:51  Slice ID  4 : MAE = 0.3005, RMSE = 1.0839, NMAE = 0.4043, MRE = 0.2665, NPRE = 0.9961\r\n",
      "\r\n",
      "2023-02-07 16:47:51  \t实验 1 模型 5 开始分片训练\r\n",
      "2023-02-07 16:48:06  Epoch 10 : MAE : 0.4045  RMSE : 1.3640  NMAE : 0.4798  MRE : 0.3819  NPRE : 1.1608\r\n",
      "2023-02-07 16:48:20  Epoch 20 : MAE : 0.3492  RMSE : 1.2543  NMAE : 0.4142  MRE : 0.2804  NPRE : 1.0349\r\n",
      "2023-02-07 16:48:33  Best epoch 18 : MAE : 0.3464  RMSE : 1.2706  NMAE : 0.4109  MRE : 0.2660  NPRE : 1.0000\r\n",
      "2023-02-07 16:48:33  实验 1 模型 5 training time = 12.82 s\r\n",
      "2023-02-07 16:48:33  Slice ID  5 : MAE = 0.3464, RMSE = 1.2706, NMAE = 0.4109, MRE = 0.2660, NPRE = 1.0000\r\n",
      "\r\n",
      "2023-02-07 16:48:33  \t所有切片模型训练完毕\r\n",
      "2023-02-07 16:48:33  \t开始训练聚合模型\r\n",
      "2023-02-07 16:48:38  Epoch  1 : MAE : 0.7470  RMSE : 2.0221  NMAE : 0.8206  MRE : 0.6752  NPRE : 3.1772\r\n",
      "2023-02-07 16:48:43  Epoch  2 : MAE : 0.7451  RMSE : 2.0210  NMAE : 0.8186  MRE : 0.6702  NPRE : 3.1201\r\n",
      "2023-02-07 16:48:47  Epoch  3 : MAE : 0.7451  RMSE : 2.0146  NMAE : 0.8185  MRE : 0.6793  NPRE : 3.2574\r\n",
      "2023-02-07 16:48:52  Epoch  4 : MAE : 0.7456  RMSE : 2.0121  NMAE : 0.8191  MRE : 0.6913  NPRE : 3.4921\r\n",
      "2023-02-07 16:48:56  Epoch  5 : MAE : 0.7452  RMSE : 2.0212  NMAE : 0.8186  MRE : 0.6711  NPRE : 3.1650\r\n",
      "2023-02-07 16:49:01  Epoch  6 : MAE : 0.7450  RMSE : 2.0171  NMAE : 0.8184  MRE : 0.6753  NPRE : 3.1900\r\n",
      "2023-02-07 16:49:06  Epoch  7 : MAE : 0.7451  RMSE : 2.0214  NMAE : 0.8185  MRE : 0.6721  NPRE : 3.1737\r\n",
      "2023-02-07 16:49:10  Epoch  8 : MAE : 0.7447  RMSE : 2.0184  NMAE : 0.8181  MRE : 0.6684  NPRE : 3.0085\r\n",
      "2023-02-07 16:49:15  Epoch  9 : MAE : 0.7450  RMSE : 2.0162  NMAE : 0.8184  MRE : 0.6788  NPRE : 3.2487\r\n",
      "2023-02-07 16:49:19  Epoch 10 : MAE : 0.7456  RMSE : 2.0116  NMAE : 0.8190  MRE : 0.6923  NPRE : 3.4937\r\n",
      "2023-02-07 16:49:24  Epoch 11 : MAE : 0.7461  RMSE : 2.0255  NMAE : 0.8196  MRE : 0.6787  NPRE : 3.3658\r\n",
      "2023-02-07 16:49:29  Epoch 12 : MAE : 0.7448  RMSE : 2.0148  NMAE : 0.8182  MRE : 0.6764  NPRE : 3.1877\r\n",
      "2023-02-07 16:49:33  Epoch 13 : MAE : 0.7449  RMSE : 2.0160  NMAE : 0.8183  MRE : 0.6747  NPRE : 3.1464\r\n",
      "2023-02-07 16:49:38  Epoch 14 : MAE : 0.7449  RMSE : 2.0134  NMAE : 0.8183  MRE : 0.6784  NPRE : 3.1727\r\n",
      "2023-02-07 16:49:43  Epoch 15 : MAE : 0.7449  RMSE : 2.0207  NMAE : 0.8183  MRE : 0.6710  NPRE : 3.1086\r\n",
      "2023-02-07 16:49:43  Best epoch  8 : MAE : 0.7447  RMSE : 2.0184  NMAE : 0.8181  MRE : 0.6684  NPRE : 3.0085\r\n",
      "2023-02-07 16:49:43  \t实验 1 聚合模型训练完毕\r\n",
      "2023-02-07 16:49:44  Result : MAE : 0.7447  RMSE : 2.0184  NMAE : 0.8181  MRE : 0.6684  NPRE : 3.0085\r\n",
      "2023-02-07 16:49:44  \t实验 1 : Shards training time = 13.77 s\r\n",
      "\r\n",
      "2023-02-07 16:49:44  \t实验 1 : Aggregators training time = 22.23 s\r\n",
      "\r\n",
      "2023-02-07 16:49:44  \t聚合模型训练完毕\r\n",
      "------------------------------------------------------------------------------------------------------------------------\r\n",
      "2023-02-07 16:49:44  Dataset : rt     interaction : MF\r\n",
      "2023-02-07 16:49:44  Density : 20.00%, slice_epochs : 100, agg_epochs : 15\r\n",
      "2023-02-07 16:49:44  Part_type : 8,    slices : 5,       devices : gpu\r\n",
      "\r\n",
      "\r\n",
      "2023-02-07 16:49:44  Density 20.00% : MAE = 0.745, RMSE = 2.018, NMAE = 0.818, MRE = 0.668, NPRE = 3.008\r\n",
      "\r\n",
      "2023-02-07 16:49:44  Experiment success!\r\n",
      "\r\n"
     ]
    }
   ],
   "source": [
    "!python Experiment.py --dataset rt --interaction MF --rounds 1 --slices 5 --agg_epochs 15 --density 0.20 --part_type 8 --record 0"
   ],
   "metadata": {
    "collapsed": false
   }
  },
  {
   "cell_type": "code",
   "execution_count": 112,
   "outputs": [
    {
     "name": "stdout",
     "output_type": "stream",
     "text": [
      "2023-02-07 16:49:46  Experiment start!\r\n",
      "2023-02-07 16:49:46  Namespace(F=1, agg2=0, agg_decay=0.001, agg_epochs=12, agg_function=1, agg_lr=0.001, agg_type='att', att_decay=0.0001, att_lr=0.001, batch_size=128, beta=1, cluster='deep', cuda=True, dataset='rt', debug=0, density=0.2, devices='gpu', dimension=32, dir='../Dataset/mnist', dropout=0.1, epoch=1500, external_dim=64, hidden_dims=[64, 64, 100], input_dim=128, interaction='GraphMF', lamda=1, latent_dim=10, log_interval=100, lr=0.0001, n_classes=10, n_clusters=10, n_jobs=1, node2vec=0, node2vec_batchsize=32, node2vec_dim=128, node2vec_epochs=20, node2vec_length=8, node2vec_walk=15, node2vec_windows=3, num_layers=2, order=2, part_iter=20, part_type=8, path='./datasets/data/WSDREAM/', pre_epoch=1000, pretrain=True, processed=0, random_state=1001, record=0, retrain=0, rounds=1, save_model=1, slice=1, slice_decay=0.001, slice_epochs=100, slice_lr=0.001, slices=5, verbose=10, wd=0.0005)\r\n",
      "2023-02-07 16:49:46  Dataset : rt     interaction : GraphMF\r\n",
      "2023-02-07 16:49:46  Density : 20.00%, slice_epochs : 15, agg_epochs : 12\r\n",
      "2023-02-07 16:49:46  Part_type : 8,    slices : 5,       devices : gpu\r\n",
      "2023-02-07 16:49:46  Slice_lr : 0.01,    Slice_decay : 0.001\r\n",
      "2023-02-07 16:49:46  Agg_lr : 0.001,    Agg_decay : 0.001\r\n",
      "2023-02-07 16:49:46  Aggregation function : att\r\n",
      "\r\n",
      "2023-02-07 16:49:46  Round 1 experiment start!\r\n",
      "2023-02-07 16:49:46  \t原始数据集读取完毕\r\n",
      "360 1386 1516 1265 1298 \r\n",
      "2023-02-07 16:49:46  \tNode2Vec 基于服务聚类均衡切割完毕\r\n",
      "2023-02-07 16:49:46  \t分切数据执行完毕\r\n",
      "2023-02-07 16:49:46  \tNeuGraphMF建图中\r\n",
      "2023-02-07 16:49:51  \tNeuGraphMF建图完毕\r\n",
      "2023-02-07 16:49:53  \t模型加载完毕\r\n",
      "2023-02-07 16:49:53  \t准备训练切片模型\r\n",
      "2023-02-07 16:49:53  \t实验 1 模型 1 开始分片训练\r\n",
      "2023-02-07 16:50:01  Epoch 10 : MAE : 0.3829  RMSE : 1.2299  NMAE : 0.4337  MRE : 0.2943  NPRE : 1.7965\r\n",
      "2023-02-07 16:50:05  Best epoch 15 : MAE : 0.3715  RMSE : 1.2341  NMAE : 0.4208  MRE : 0.2660  NPRE : 1.1023\r\n",
      "2023-02-07 16:50:05  实验 1 模型 1 training time = 4.32 s\r\n",
      "2023-02-07 16:50:05  Slice ID  1 : MAE = 0.3715, RMSE = 1.2341, NMAE = 0.4208, MRE = 0.2660, NPRE = 1.1023\r\n",
      "\r\n",
      "2023-02-07 16:50:05  \t实验 1 模型 2 开始分片训练\r\n",
      "2023-02-07 16:50:26  Epoch 10 : MAE : 0.3057  RMSE : 1.2092  NMAE : 0.3698  MRE : 0.1662  NPRE : 0.7071\r\n",
      "2023-02-07 16:50:37  Best epoch 14 : MAE : 0.2958  RMSE : 1.1920  NMAE : 0.3578  MRE : 0.1528  NPRE : 0.7381\r\n",
      "2023-02-07 16:50:37  实验 1 模型 2 training time = 18.66 s\r\n",
      "2023-02-07 16:50:37  Slice ID  2 : MAE = 0.2958, RMSE = 1.1920, NMAE = 0.3578, MRE = 0.1528, NPRE = 0.7381\r\n",
      "\r\n",
      "2023-02-07 16:50:37  \t实验 1 模型 3 开始分片训练\r\n",
      "2023-02-07 16:51:01  Epoch 10 : MAE : 0.3734  RMSE : 1.3234  NMAE : 0.3115  MRE : 0.1681  NPRE : 0.7510\r\n",
      "2023-02-07 16:51:13  Best epoch 14 : MAE : 0.3659  RMSE : 1.3320  NMAE : 0.3052  MRE : 0.1454  NPRE : 0.6678\r\n",
      "2023-02-07 16:51:13  实验 1 模型 3 training time = 22.41 s\r\n",
      "2023-02-07 16:51:13  Slice ID  3 : MAE = 0.3659, RMSE = 1.3320, NMAE = 0.3052, MRE = 0.1454, NPRE = 0.6678\r\n",
      "\r\n",
      "2023-02-07 16:51:13  \t实验 1 模型 4 开始分片训练\r\n",
      "2023-02-07 16:51:37  Epoch 10 : MAE : 0.2683  RMSE : 1.0571  NMAE : 0.3611  MRE : 0.1508  NPRE : 0.7135\r\n",
      "2023-02-07 16:51:48  Best epoch 14 : MAE : 0.2656  RMSE : 1.0573  NMAE : 0.3574  MRE : 0.1332  NPRE : 0.6749\r\n",
      "2023-02-07 16:51:48  实验 1 模型 4 training time = 21.79 s\r\n",
      "2023-02-07 16:51:48  Slice ID  4 : MAE = 0.2656, RMSE = 1.0573, NMAE = 0.3574, MRE = 0.1332, NPRE = 0.6749\r\n",
      "\r\n",
      "2023-02-07 16:51:48  \t实验 1 模型 5 开始分片训练\r\n",
      "2023-02-07 16:52:15  Epoch 10 : MAE : 0.3180  RMSE : 1.2197  NMAE : 0.3772  MRE : 0.1697  NPRE : 0.7697\r\n",
      "2023-02-07 16:52:28  Best epoch 12 : MAE : 0.3079  RMSE : 1.1943  NMAE : 0.3652  MRE : 0.1612  NPRE : 0.7535\r\n",
      "2023-02-07 16:52:28  实验 1 模型 5 training time = 21.99 s\r\n",
      "2023-02-07 16:52:28  Slice ID  5 : MAE = 0.3079, RMSE = 1.1943, NMAE = 0.3652, MRE = 0.1612, NPRE = 0.7535\r\n",
      "\r\n",
      "2023-02-07 16:52:28  \t所有切片模型训练完毕\r\n",
      "2023-02-07 16:52:28  \t开始训练聚合模型\r\n",
      "2023-02-07 16:52:33  Epoch  1 : MAE : 0.5554  RMSE : 1.6313  NMAE : 0.6101  MRE : 0.4613  NPRE : 2.4248\r\n",
      "2023-02-07 16:52:38  Epoch  2 : MAE : 0.4676  RMSE : 1.4032  NMAE : 0.5137  MRE : 0.4018  NPRE : 1.8156\r\n",
      "2023-02-07 16:52:43  Epoch  3 : MAE : 0.4436  RMSE : 1.3664  NMAE : 0.4873  MRE : 0.3772  NPRE : 1.6141\r\n",
      "2023-02-07 16:52:48  Epoch  4 : MAE : 0.4284  RMSE : 1.3423  NMAE : 0.4706  MRE : 0.3599  NPRE : 1.6343\r\n",
      "2023-02-07 16:52:53  Epoch  5 : MAE : 0.4181  RMSE : 1.3261  NMAE : 0.4593  MRE : 0.3399  NPRE : 1.4403\r\n",
      "2023-02-07 16:52:58  Epoch  6 : MAE : 0.4122  RMSE : 1.3230  NMAE : 0.4528  MRE : 0.3319  NPRE : 1.4108\r\n",
      "2023-02-07 16:53:03  Epoch  7 : MAE : 0.4085  RMSE : 1.3239  NMAE : 0.4487  MRE : 0.3256  NPRE : 1.2005\r\n",
      "2023-02-07 16:53:08  Epoch  8 : MAE : 0.4046  RMSE : 1.3093  NMAE : 0.4445  MRE : 0.3241  NPRE : 1.4156\r\n",
      "2023-02-07 16:53:12  Epoch  9 : MAE : 0.4019  RMSE : 1.3067  NMAE : 0.4415  MRE : 0.3155  NPRE : 1.3161\r\n",
      "2023-02-07 16:53:17  Epoch 10 : MAE : 0.3996  RMSE : 1.3060  NMAE : 0.4390  MRE : 0.3107  NPRE : 1.2695\r\n",
      "2023-02-07 16:53:22  Epoch 11 : MAE : 0.3972  RMSE : 1.3007  NMAE : 0.4364  MRE : 0.3096  NPRE : 1.2594\r\n",
      "2023-02-07 16:53:27  Epoch 12 : MAE : 0.3964  RMSE : 1.3000  NMAE : 0.4354  MRE : 0.3082  NPRE : 1.2803\r\n",
      "2023-02-07 16:53:27  Best epoch 12 : MAE : 0.3964  RMSE : 1.3000  NMAE : 0.4354  MRE : 0.3082  NPRE : 1.2803\r\n",
      "2023-02-07 16:53:27  \t实验 1 聚合模型训练完毕\r\n",
      "2023-02-07 16:53:29  Result : MAE : 0.3964  RMSE : 1.3000  NMAE : 0.4354  MRE : 0.3082  NPRE : 1.2803\r\n",
      "2023-02-07 16:53:29  \t实验 1 : Shards training time = 17.83 s\r\n",
      "\r\n",
      "2023-02-07 16:53:29  \t实验 1 : Aggregators training time = 36.74 s\r\n",
      "\r\n",
      "2023-02-07 16:53:29  \t聚合模型训练完毕\r\n",
      "------------------------------------------------------------------------------------------------------------------------\r\n",
      "2023-02-07 16:53:29  Dataset : rt     interaction : GraphMF\r\n",
      "2023-02-07 16:53:29  Density : 20.00%, slice_epochs : 15, agg_epochs : 12\r\n",
      "2023-02-07 16:53:29  Part_type : 8,    slices : 5,       devices : gpu\r\n",
      "\r\n",
      "\r\n",
      "2023-02-07 16:53:29  Density 20.00% : MAE = 0.396, RMSE = 1.300, NMAE = 0.435, MRE = 0.308, NPRE = 1.280\r\n",
      "\r\n",
      "2023-02-07 16:53:29  Experiment success!\r\n",
      "\r\n"
     ]
    }
   ],
   "source": [
    "!python Experiment.py --dataset rt --interaction GraphMF --rounds 1 --slices 5 --agg_epochs 12 --density 0.20 --part_type 8 --record 0"
   ],
   "metadata": {
    "collapsed": false
   }
  },
  {
   "cell_type": "code",
   "execution_count": 113,
   "outputs": [
    {
     "name": "stdout",
     "output_type": "stream",
     "text": [
      "2023-02-07 16:53:30  Experiment start!\r\n",
      "2023-02-07 16:53:30  Namespace(F=1, agg2=0, agg_decay=0.001, agg_epochs=15, agg_function=1, agg_lr=0.001, agg_type='att', att_decay=0.0001, att_lr=0.001, batch_size=128, beta=1, cluster='deep', cuda=True, dataset='tp', debug=0, density=0.2, devices='gpu', dimension=32, dir='../Dataset/mnist', dropout=0.1, epoch=1500, external_dim=64, hidden_dims=[64, 64, 100], input_dim=128, interaction='NeuCF', lamda=1, latent_dim=10, log_interval=100, lr=0.0001, n_classes=10, n_clusters=10, n_jobs=1, node2vec=0, node2vec_batchsize=32, node2vec_dim=128, node2vec_epochs=20, node2vec_length=8, node2vec_walk=15, node2vec_windows=3, num_layers=2, order=2, part_iter=20, part_type=8, path='./datasets/data/WSDREAM/', pre_epoch=1000, pretrain=True, processed=0, random_state=1001, record=0, retrain=0, rounds=1, save_model=1, slice=1, slice_decay=0.001, slice_epochs=100, slice_lr=0.001, slices=5, verbose=10, wd=0.0005)\r\n",
      "2023-02-07 16:53:30  Dataset : tp     interaction : NeuCF\r\n",
      "2023-02-07 16:53:30  Density : 20.00%, slice_epochs : 100, agg_epochs : 15\r\n",
      "2023-02-07 16:53:30  Part_type : 8,    slices : 5,       devices : gpu\r\n",
      "2023-02-07 16:53:30  Slice_lr : 0.004,    Slice_decay : 0.001\r\n",
      "2023-02-07 16:53:30  Agg_lr : 0.001,    Agg_decay : 0.001\r\n",
      "2023-02-07 16:53:30  Aggregation function : att\r\n",
      "\r\n",
      "2023-02-07 16:53:30  Round 1 experiment start!\r\n",
      "2023-02-07 16:53:30  \t原始数据集读取完毕\r\n",
      "360 1386 1516 1265 1298 \r\n",
      "2023-02-07 16:53:30  \tNode2Vec 基于服务聚类均衡切割完毕\r\n",
      "2023-02-07 16:53:30  \t分切数据执行完毕\r\n",
      "2023-02-07 16:53:32  \t模型加载完毕\r\n",
      "2023-02-07 16:53:32  \t准备训练切片模型\r\n",
      "2023-02-07 16:53:32  \t实验 1 模型 1 开始分片训练\r\n",
      "2023-02-07 16:53:41  Epoch 10 : MAE : 25.1533  RMSE : 62.2154  NMAE : 0.5336  MRE : 0.6481  NPRE : 2.3326\r\n",
      "2023-02-07 16:53:49  Epoch 20 : MAE : 22.7493  RMSE : 58.2216  NMAE : 0.4826  MRE : 0.5744  NPRE : 2.3920\r\n",
      "2023-02-07 16:53:57  Epoch 30 : MAE : 19.8321  RMSE : 52.9449  NMAE : 0.4207  MRE : 0.4668  NPRE : 2.5888\r\n",
      "2023-02-07 16:54:05  Epoch 40 : MAE : 17.8765  RMSE : 49.6641  NMAE : 0.3792  MRE : 0.3866  NPRE : 1.3498\r\n",
      "2023-02-07 16:54:13  Epoch 50 : MAE : 17.6497  RMSE : 49.4729  NMAE : 0.3744  MRE : 0.3641  NPRE : 1.7640\r\n",
      "2023-02-07 16:54:21  Epoch 60 : MAE : 18.0261  RMSE : 50.5773  NMAE : 0.3824  MRE : 0.3947  NPRE : 1.1591\r\n",
      "2023-02-07 16:54:21  Best epoch 50 : MAE : 17.6497  RMSE : 49.4729  NMAE : 0.3744  MRE : 0.3641  NPRE : 1.7640\r\n",
      "2023-02-07 16:54:21  实验 1 模型 1 training time = 14.10 s\r\n",
      "2023-02-07 16:54:21  Slice ID  1 : MAE = 17.6497, RMSE = 49.4729, NMAE = 0.3744, MRE = 0.3641, NPRE = 1.7640\r\n",
      "\r\n",
      "2023-02-07 16:54:21  \t实验 1 模型 2 开始分片训练\r\n",
      "2023-02-07 16:54:39  Epoch 10 : MAE : 20.1567  RMSE : 56.0224  NMAE : 0.4324  MRE : 0.4945  NPRE : 2.1954\r\n",
      "2023-02-07 16:54:57  Epoch 20 : MAE : 16.5689  RMSE : 50.4592  NMAE : 0.3555  MRE : 0.3436  NPRE : 1.7638\r\n",
      "2023-02-07 16:55:15  Epoch 30 : MAE : 15.9508  RMSE : 48.9329  NMAE : 0.3422  MRE : 0.3268  NPRE : 1.3667\r\n",
      "2023-02-07 16:55:32  Epoch 40 : MAE : 15.9460  RMSE : 47.9955  NMAE : 0.3421  MRE : 0.3553  NPRE : 1.0042\r\n",
      "2023-02-07 16:55:41  Best epoch 35 : MAE : 15.5182  RMSE : 47.3054  NMAE : 0.3329  MRE : 0.3280  NPRE : 1.0000\r\n",
      "2023-02-07 16:55:41  实验 1 模型 2 training time = 35.15 s\r\n",
      "2023-02-07 16:55:41  Slice ID  2 : MAE = 15.5182, RMSE = 47.3054, NMAE = 0.3329, MRE = 0.3280, NPRE = 1.0000\r\n",
      "\r\n",
      "2023-02-07 16:55:41  \t实验 1 模型 3 开始分片训练\r\n",
      "2023-02-07 16:56:00  Epoch 10 : MAE : 17.4480  RMSE : 47.3561  NMAE : 0.3878  MRE : 0.5458  NPRE : 2.8113\r\n",
      "2023-02-07 16:56:19  Epoch 20 : MAE : 14.8863  RMSE : 43.3161  NMAE : 0.3309  MRE : 0.3778  NPRE : 4.3146\r\n",
      "2023-02-07 16:56:38  Epoch 30 : MAE : 13.8310  RMSE : 41.8664  NMAE : 0.3074  MRE : 0.3381  NPRE : 2.7976\r\n",
      "2023-02-07 16:56:56  Epoch 40 : MAE : 13.5271  RMSE : 41.2484  NMAE : 0.3007  MRE : 0.3257  NPRE : 1.2302\r\n",
      "2023-02-07 16:57:08  Best epoch 36 : MAE : 13.2716  RMSE : 40.2339  NMAE : 0.2950  MRE : 0.3206  NPRE : 1.3781\r\n",
      "2023-02-07 16:57:08  实验 1 模型 3 training time = 38.29 s\r\n",
      "2023-02-07 16:57:08  Slice ID  3 : MAE = 13.2716, RMSE = 40.2339, NMAE = 0.2950, MRE = 0.3206, NPRE = 1.3781\r\n",
      "\r\n",
      "2023-02-07 16:57:08  \t实验 1 模型 4 开始分片训练\r\n",
      "2023-02-07 16:57:25  Epoch 10 : MAE : 20.4881  RMSE : 54.9757  NMAE : 0.3969  MRE : 0.4690  NPRE : 2.8638\r\n",
      "2023-02-07 16:57:41  Epoch 20 : MAE : 17.1863  RMSE : 52.4891  NMAE : 0.3330  MRE : 0.2987  NPRE : 1.6279\r\n",
      "2023-02-07 16:57:58  Epoch 30 : MAE : 16.0996  RMSE : 50.2951  NMAE : 0.3119  MRE : 0.2787  NPRE : 1.2432\r\n",
      "2023-02-07 16:58:15  Epoch 40 : MAE : 16.2086  RMSE : 48.9901  NMAE : 0.3140  MRE : 0.3133  NPRE : 1.0328\r\n",
      "2023-02-07 16:58:18  Best epoch 32 : MAE : 15.9434  RMSE : 49.2828  NMAE : 0.3089  MRE : 0.2897  NPRE : 1.2665\r\n",
      "2023-02-07 16:58:18  实验 1 模型 4 training time = 29.50 s\r\n",
      "2023-02-07 16:58:18  Slice ID  4 : MAE = 15.9434, RMSE = 49.2828, NMAE = 0.3089, MRE = 0.2897, NPRE = 1.2665\r\n",
      "\r\n",
      "2023-02-07 16:58:18  \t实验 1 模型 5 开始分片训练\r\n",
      "2023-02-07 16:58:36  Epoch 10 : MAE : 22.2728  RMSE : 62.0121  NMAE : 0.4682  MRE : 0.4972  NPRE : 1.8206\r\n",
      "2023-02-07 16:58:53  Epoch 20 : MAE : 19.5482  RMSE : 56.8823  NMAE : 0.4109  MRE : 0.3913  NPRE : 2.4432\r\n",
      "2023-02-07 16:59:10  Epoch 30 : MAE : 18.0177  RMSE : 53.3631  NMAE : 0.3788  MRE : 0.3413  NPRE : 1.4128\r\n",
      "2023-02-07 16:59:21  Best epoch 26 : MAE : 17.8789  RMSE : 52.3435  NMAE : 0.3759  MRE : 0.3383  NPRE : 1.2421\r\n",
      "2023-02-07 16:59:21  实验 1 模型 5 training time = 25.01 s\r\n",
      "2023-02-07 16:59:21  Slice ID  5 : MAE = 17.8789, RMSE = 52.3435, NMAE = 0.3759, MRE = 0.3383, NPRE = 1.2421\r\n",
      "\r\n",
      "2023-02-07 16:59:21  \t所有切片模型训练完毕\r\n",
      "2023-02-07 16:59:21  \t开始训练聚合模型\r\n",
      "2023-02-07 16:59:28  Epoch  1 : MAE : 25.5895  RMSE : 70.5846  NMAE : 0.5383  MRE : 0.5466  NPRE : 2.1567\r\n",
      "2023-02-07 16:59:36  Epoch  2 : MAE : 22.9055  RMSE : 64.8120  NMAE : 0.4819  MRE : 0.4531  NPRE : 2.3260\r\n",
      "2023-02-07 16:59:43  Epoch  3 : MAE : 21.5252  RMSE : 59.8859  NMAE : 0.4528  MRE : 0.4420  NPRE : 2.7924\r\n",
      "2023-02-07 16:59:50  Epoch  4 : MAE : 20.4963  RMSE : 58.1218  NMAE : 0.4312  MRE : 0.4065  NPRE : 2.1702\r\n",
      "2023-02-07 16:59:58  Epoch  5 : MAE : 19.8793  RMSE : 56.2566  NMAE : 0.4182  MRE : 0.3977  NPRE : 1.6953\r\n",
      "2023-02-07 17:00:05  Epoch  6 : MAE : 19.3236  RMSE : 55.2756  NMAE : 0.4065  MRE : 0.3860  NPRE : 1.7091\r\n",
      "2023-02-07 17:00:12  Epoch  7 : MAE : 19.1377  RMSE : 54.2357  NMAE : 0.4026  MRE : 0.3899  NPRE : 2.4313\r\n",
      "2023-02-07 17:00:19  Epoch  8 : MAE : 18.6165  RMSE : 53.8160  NMAE : 0.3916  MRE : 0.3710  NPRE : 1.5918\r\n",
      "2023-02-07 17:00:26  Epoch  9 : MAE : 18.3794  RMSE : 53.0086  NMAE : 0.3866  MRE : 0.3641  NPRE : 1.8040\r\n",
      "2023-02-07 17:00:33  Epoch 10 : MAE : 18.2220  RMSE : 52.8698  NMAE : 0.3833  MRE : 0.3577  NPRE : 1.6516\r\n",
      "2023-02-07 17:00:40  Epoch 11 : MAE : 18.1271  RMSE : 52.5574  NMAE : 0.3813  MRE : 0.3581  NPRE : 1.6225\r\n",
      "2023-02-07 17:00:47  Epoch 12 : MAE : 17.9756  RMSE : 51.8018  NMAE : 0.3782  MRE : 0.3633  NPRE : 1.4496\r\n",
      "2023-02-07 17:00:55  Epoch 13 : MAE : 17.9634  RMSE : 51.6337  NMAE : 0.3779  MRE : 0.3974  NPRE : 1.0068\r\n",
      "2023-02-07 17:01:01  Epoch 14 : MAE : 17.6511  RMSE : 51.4265  NMAE : 0.3713  MRE : 0.3432  NPRE : 1.7761\r\n",
      "2023-02-07 17:01:08  Epoch 15 : MAE : 17.5794  RMSE : 51.4869  NMAE : 0.3698  MRE : 0.3413  NPRE : 1.6053\r\n",
      "2023-02-07 17:01:08  Best epoch 15 : MAE : 17.5794  RMSE : 51.4869  NMAE : 0.3698  MRE : 0.3413  NPRE : 1.6053\r\n",
      "2023-02-07 17:01:08  \t实验 1 聚合模型训练完毕\r\n",
      "2023-02-07 17:01:10  Result : MAE : 17.5697  RMSE : 51.5119  NMAE : 0.3696  MRE : 0.3416  NPRE : 1.6049\r\n",
      "2023-02-07 17:01:10  \t实验 1 : Shards training time = 28.41 s\r\n",
      "\r\n",
      "2023-02-07 17:01:10  \t实验 1 : Aggregators training time = 78.43 s\r\n",
      "\r\n",
      "2023-02-07 17:01:10  \t聚合模型训练完毕\r\n",
      "------------------------------------------------------------------------------------------------------------------------\r\n",
      "2023-02-07 17:01:10  Dataset : tp     interaction : NeuCF\r\n",
      "2023-02-07 17:01:10  Density : 20.00%, slice_epochs : 100, agg_epochs : 15\r\n",
      "2023-02-07 17:01:10  Part_type : 8,    slices : 5,       devices : gpu\r\n",
      "\r\n",
      "\r\n",
      "2023-02-07 17:01:10  Density 20.00% : MAE = 17.570, RMSE = 51.512, NMAE = 0.370, MRE = 0.342, NPRE = 1.605\r\n",
      "\r\n",
      "2023-02-07 17:01:10  Experiment success!\r\n",
      "\r\n"
     ]
    }
   ],
   "source": [
    "!python Experiment.py --dataset tp --interaction NeuCF --rounds 1 --slices 5 --agg_epochs 15 --density 0.20 --part_type 8 --record 0"
   ],
   "metadata": {
    "collapsed": false
   }
  },
  {
   "cell_type": "code",
   "execution_count": 114,
   "outputs": [
    {
     "name": "stdout",
     "output_type": "stream",
     "text": [
      "2023-02-07 17:01:11  Experiment start!\r\n",
      "2023-02-07 17:01:11  Namespace(F=1, agg2=0, agg_decay=0.001, agg_epochs=20, agg_function=1, agg_lr=0.001, agg_type='att', att_decay=0.0001, att_lr=0.001, batch_size=128, beta=1, cluster='deep', cuda=True, dataset='tp', debug=0, density=0.2, devices='gpu', dimension=32, dir='../Dataset/mnist', dropout=0.1, epoch=1500, external_dim=64, hidden_dims=[64, 64, 100], input_dim=128, interaction='CSMF', lamda=1, latent_dim=10, log_interval=100, lr=0.0001, n_classes=10, n_clusters=10, n_jobs=1, node2vec=0, node2vec_batchsize=32, node2vec_dim=128, node2vec_epochs=20, node2vec_length=8, node2vec_walk=15, node2vec_windows=3, num_layers=2, order=2, part_iter=20, part_type=8, path='./datasets/data/WSDREAM/', pre_epoch=1000, pretrain=True, processed=0, random_state=1001, record=0, retrain=0, rounds=1, save_model=1, slice=1, slice_decay=0.001, slice_epochs=100, slice_lr=0.001, slices=5, verbose=10, wd=0.0005)\r\n",
      "2023-02-07 17:01:11  Dataset : tp     interaction : CSMF\r\n",
      "2023-02-07 17:01:11  Density : 20.00%, slice_epochs : 100, agg_epochs : 20\r\n",
      "2023-02-07 17:01:11  Part_type : 8,    slices : 5,       devices : gpu\r\n",
      "2023-02-07 17:01:11  Slice_lr : 0.01,    Slice_decay : 0.001\r\n",
      "2023-02-07 17:01:11  Agg_lr : 0.008,    Agg_decay : 0.001\r\n",
      "2023-02-07 17:01:11  Aggregation function : att\r\n",
      "\r\n",
      "2023-02-07 17:01:11  Round 1 experiment start!\r\n",
      "2023-02-07 17:01:11  \t原始数据集读取完毕\r\n",
      "360 1386 1516 1265 1298 \r\n",
      "2023-02-07 17:01:11  \tNode2Vec 基于服务聚类均衡切割完毕\r\n",
      "2023-02-07 17:01:11  \t分切数据执行完毕\r\n",
      "2023-02-07 17:01:13  \t模型加载完毕\r\n",
      "2023-02-07 17:01:13  \t准备训练切片模型\r\n",
      "2023-02-07 17:01:13  \t实验 1 模型 1 开始分片训练\r\n",
      "2023-02-07 17:01:22  Epoch 10 : MAE : 15.0900  RMSE : 44.3426  NMAE : 0.3201  MRE : 0.2555  NPRE : 1.1866\r\n",
      "2023-02-07 17:01:31  Epoch 20 : MAE : 14.7292  RMSE : 43.6359  NMAE : 0.3124  MRE : 0.2461  NPRE : 0.9939\r\n",
      "2023-02-07 17:01:33  Best epoch 13 : MAE : 14.7111  RMSE : 43.2326  NMAE : 0.3121  MRE : 0.2495  NPRE : 1.0480\r\n",
      "2023-02-07 17:01:33  实验 1 模型 1 training time = 4.52 s\r\n",
      "2023-02-07 17:01:33  Slice ID  1 : MAE = 14.7111, RMSE = 43.2326, NMAE = 0.3121, MRE = 0.2495, NPRE = 1.0480\r\n",
      "\r\n",
      "2023-02-07 17:01:33  \t实验 1 模型 2 开始分片训练\r\n",
      "2023-02-07 17:01:54  Epoch 10 : MAE : 13.8579  RMSE : 44.8430  NMAE : 0.2973  MRE : 0.2333  NPRE : 0.7826\r\n",
      "2023-02-07 17:02:15  Epoch 20 : MAE : 13.5007  RMSE : 43.5853  NMAE : 0.2896  MRE : 0.2204  NPRE : 1.0747\r\n",
      "2023-02-07 17:02:23  Best epoch 14 : MAE : 13.1034  RMSE : 43.2896  NMAE : 0.2811  MRE : 0.2131  NPRE : 0.9353\r\n",
      "2023-02-07 17:02:23  实验 1 模型 2 training time = 18.49 s\r\n",
      "2023-02-07 17:02:23  Slice ID  2 : MAE = 13.1034, RMSE = 43.2896, NMAE = 0.2811, MRE = 0.2131, NPRE = 0.9353\r\n",
      "\r\n",
      "2023-02-07 17:02:23  \t实验 1 模型 3 开始分片训练\r\n",
      "2023-02-07 17:02:45  Epoch 10 : MAE : 10.9247  RMSE : 36.3581  NMAE : 0.2428  MRE : 0.2048  NPRE : 0.9880\r\n",
      "2023-02-07 17:03:08  Epoch 20 : MAE : 10.5824  RMSE : 35.9729  NMAE : 0.2352  MRE : 0.1942  NPRE : 0.8778\r\n",
      "2023-02-07 17:03:30  Epoch 30 : MAE : 10.9457  RMSE : 36.1542  NMAE : 0.2433  MRE : 0.2041  NPRE : 1.0406\r\n",
      "2023-02-07 17:03:42  Best epoch 25 : MAE : 10.4505  RMSE : 35.6698  NMAE : 0.2323  MRE : 0.1895  NPRE : 0.8600\r\n",
      "2023-02-07 17:03:42  实验 1 模型 3 training time = 35.54 s\r\n",
      "2023-02-07 17:03:42  Slice ID  3 : MAE = 10.4505, RMSE = 35.6698, NMAE = 0.2323, MRE = 0.1895, NPRE = 0.8600\r\n",
      "\r\n",
      "2023-02-07 17:03:42  \t实验 1 模型 4 开始分片训练\r\n",
      "2023-02-07 17:04:02  Epoch 10 : MAE : 13.4329  RMSE : 44.0096  NMAE : 0.2603  MRE : 0.2050  NPRE : 0.7493\r\n",
      "2023-02-07 17:04:22  Epoch 20 : MAE : 13.0860  RMSE : 44.0176  NMAE : 0.2535  MRE : 0.1848  NPRE : 0.8294\r\n",
      "2023-02-07 17:04:35  Best epoch 17 : MAE : 13.0148  RMSE : 44.0819  NMAE : 0.2522  MRE : 0.1828  NPRE : 0.8364\r\n",
      "2023-02-07 17:04:35  实验 1 模型 4 training time = 20.69 s\r\n",
      "2023-02-07 17:04:35  Slice ID  4 : MAE = 13.0148, RMSE = 44.0819, NMAE = 0.2522, MRE = 0.1828, NPRE = 0.8364\r\n",
      "\r\n",
      "2023-02-07 17:04:35  \t实验 1 模型 5 开始分片训练\r\n",
      "2023-02-07 17:04:56  Epoch 10 : MAE : 15.2248  RMSE : 46.7144  NMAE : 0.3201  MRE : 0.2354  NPRE : 1.1466\r\n",
      "2023-02-07 17:05:16  Epoch 20 : MAE : 15.2248  RMSE : 47.1936  NMAE : 0.3201  MRE : 0.2379  NPRE : 0.9167\r\n",
      "2023-02-07 17:05:36  Epoch 30 : MAE : 15.3446  RMSE : 47.8065  NMAE : 0.3226  MRE : 0.2321  NPRE : 0.9233\r\n",
      "2023-02-07 17:05:51  Best epoch 27 : MAE : 14.9202  RMSE : 46.8300  NMAE : 0.3137  MRE : 0.2224  NPRE : 1.0175\r\n",
      "2023-02-07 17:05:51  实验 1 模型 5 training time = 34.07 s\r\n",
      "2023-02-07 17:05:51  Slice ID  5 : MAE = 14.9202, RMSE = 46.8300, NMAE = 0.3137, MRE = 0.2224, NPRE = 1.0175\r\n",
      "\r\n",
      "2023-02-07 17:05:51  \t所有切片模型训练完毕\r\n",
      "2023-02-07 17:05:51  \t开始训练聚合模型\r\n",
      "2023-02-07 17:05:56  Epoch  1 : MAE : 34.8880  RMSE : 99.7572  NMAE : 0.7339  MRE : 0.6113  NPRE : 3.3829\r\n",
      "2023-02-07 17:06:00  Epoch  2 : MAE : 32.2044  RMSE : 87.7909  NMAE : 0.6775  MRE : 0.6075  NPRE : 3.1512\r\n",
      "2023-02-07 17:06:05  Epoch  3 : MAE : 31.7219  RMSE : 85.3346  NMAE : 0.6673  MRE : 0.6090  NPRE : 3.4284\r\n",
      "2023-02-07 17:06:10  Epoch  4 : MAE : 31.3220  RMSE : 83.9187  NMAE : 0.6589  MRE : 0.5987  NPRE : 3.2915\r\n",
      "2023-02-07 17:06:15  Epoch  5 : MAE : 31.3121  RMSE : 83.5403  NMAE : 0.6587  MRE : 0.5969  NPRE : 3.3876\r\n",
      "2023-02-07 17:06:19  Epoch  6 : MAE : 31.1769  RMSE : 82.9265  NMAE : 0.6559  MRE : 0.5924  NPRE : 3.2774\r\n",
      "2023-02-07 17:06:24  Epoch  7 : MAE : 31.1544  RMSE : 84.0305  NMAE : 0.6554  MRE : 0.5851  NPRE : 3.0211\r\n",
      "2023-02-07 17:06:29  Epoch  8 : MAE : 31.0497  RMSE : 83.5345  NMAE : 0.6532  MRE : 0.5887  NPRE : 3.2705\r\n",
      "2023-02-07 17:06:34  Epoch  9 : MAE : 30.8466  RMSE : 83.3577  NMAE : 0.6489  MRE : 0.5832  NPRE : 3.1252\r\n",
      "2023-02-07 17:06:39  Epoch 10 : MAE : 30.8636  RMSE : 81.7155  NMAE : 0.6493  MRE : 0.5971  NPRE : 3.4700\r\n",
      "2023-02-07 17:06:43  Epoch 11 : MAE : 30.9125  RMSE : 81.4644  NMAE : 0.6503  MRE : 0.6036  NPRE : 3.6252\r\n",
      "2023-02-07 17:06:48  Epoch 12 : MAE : 30.7693  RMSE : 82.2495  NMAE : 0.6473  MRE : 0.5849  NPRE : 3.1325\r\n",
      "2023-02-07 17:06:53  Epoch 13 : MAE : 31.1423  RMSE : 80.6891  NMAE : 0.6551  MRE : 0.6064  NPRE : 3.7431\r\n",
      "2023-02-07 17:06:58  Epoch 14 : MAE : 30.8293  RMSE : 83.2894  NMAE : 0.6486  MRE : 0.5820  NPRE : 2.7832\r\n",
      "2023-02-07 17:07:03  Epoch 15 : MAE : 30.7485  RMSE : 82.8851  NMAE : 0.6469  MRE : 0.5823  NPRE : 2.8872\r\n",
      "2023-02-07 17:07:08  Epoch 16 : MAE : 30.7292  RMSE : 82.7493  NMAE : 0.6465  MRE : 0.5799  NPRE : 2.9131\r\n",
      "2023-02-07 17:07:13  Epoch 17 : MAE : 30.6653  RMSE : 82.3944  NMAE : 0.6451  MRE : 0.5829  NPRE : 3.0394\r\n",
      "2023-02-07 17:07:18  Epoch 18 : MAE : 30.6212  RMSE : 81.7405  NMAE : 0.6442  MRE : 0.5849  NPRE : 2.9414\r\n",
      "2023-02-07 17:07:23  Epoch 19 : MAE : 30.7715  RMSE : 82.8701  NMAE : 0.6473  MRE : 0.5855  NPRE : 2.6718\r\n",
      "2023-02-07 17:07:28  Epoch 20 : MAE : 30.6598  RMSE : 80.6062  NMAE : 0.6450  MRE : 0.5977  NPRE : 3.4050\r\n",
      "2023-02-07 17:07:28  Best epoch 18 : MAE : 30.6212  RMSE : 81.7405  NMAE : 0.6442  MRE : 0.5849  NPRE : 2.9414\r\n",
      "2023-02-07 17:07:28  \t实验 1 聚合模型训练完毕\r\n",
      "2023-02-07 17:07:30  Result : MAE : 30.6212  RMSE : 81.7405  NMAE : 0.6442  MRE : 0.5849  NPRE : 2.9414\r\n",
      "2023-02-07 17:07:30  \t实验 1 : Shards training time = 22.66 s\r\n",
      "\r\n",
      "2023-02-07 17:07:30  \t实验 1 : Aggregators training time = 54.00 s\r\n",
      "\r\n",
      "2023-02-07 17:07:30  \t聚合模型训练完毕\r\n",
      "------------------------------------------------------------------------------------------------------------------------\r\n",
      "2023-02-07 17:07:30  Dataset : tp     interaction : CSMF\r\n",
      "2023-02-07 17:07:30  Density : 20.00%, slice_epochs : 100, agg_epochs : 20\r\n",
      "2023-02-07 17:07:30  Part_type : 8,    slices : 5,       devices : gpu\r\n",
      "\r\n",
      "\r\n",
      "2023-02-07 17:07:30  Density 20.00% : MAE = 30.621, RMSE = 81.741, NMAE = 0.644, MRE = 0.585, NPRE = 2.941\r\n",
      "\r\n",
      "2023-02-07 17:07:30  Experiment success!\r\n",
      "\r\n"
     ]
    }
   ],
   "source": [
    "!python Experiment.py --dataset tp --interaction CSMF --rounds 1 --slices 5 --agg_epochs 20 --density 0.20 --part_type 8 --record 0"
   ],
   "metadata": {
    "collapsed": false
   }
  },
  {
   "cell_type": "code",
   "execution_count": 115,
   "outputs": [
    {
     "name": "stdout",
     "output_type": "stream",
     "text": [
      "2023-02-07 17:07:31  Experiment start!\r\n",
      "2023-02-07 17:07:31  Namespace(F=1, agg2=0, agg_decay=0.001, agg_epochs=20, agg_function=1, agg_lr=0.001, agg_type='att', att_decay=0.0001, att_lr=0.001, batch_size=128, beta=1, cluster='deep', cuda=True, dataset='tp', debug=0, density=0.2, devices='gpu', dimension=32, dir='../Dataset/mnist', dropout=0.1, epoch=1500, external_dim=64, hidden_dims=[64, 64, 100], input_dim=128, interaction='MF', lamda=1, latent_dim=10, log_interval=100, lr=0.0001, n_classes=10, n_clusters=10, n_jobs=1, node2vec=0, node2vec_batchsize=32, node2vec_dim=128, node2vec_epochs=20, node2vec_length=8, node2vec_walk=15, node2vec_windows=3, num_layers=2, order=2, part_iter=20, part_type=8, path='./datasets/data/WSDREAM/', pre_epoch=1000, pretrain=True, processed=0, random_state=1001, record=0, retrain=0, rounds=1, save_model=1, slice=1, slice_decay=0.001, slice_epochs=100, slice_lr=0.001, slices=5, verbose=10, wd=0.0005)\r\n",
      "2023-02-07 17:07:31  Dataset : tp     interaction : MF\r\n",
      "2023-02-07 17:07:31  Density : 20.00%, slice_epochs : 100, agg_epochs : 20\r\n",
      "2023-02-07 17:07:31  Part_type : 8,    slices : 5,       devices : gpu\r\n",
      "2023-02-07 17:07:31  Slice_lr : 0.008,    Slice_decay : 0.001\r\n",
      "2023-02-07 17:07:31  Agg_lr : 0.001,    Agg_decay : 0.001\r\n",
      "2023-02-07 17:07:31  Aggregation function : att\r\n",
      "\r\n",
      "2023-02-07 17:07:31  Round 1 experiment start!\r\n",
      "2023-02-07 17:07:31  \t原始数据集读取完毕\r\n",
      "360 1386 1516 1265 1298 \r\n",
      "2023-02-07 17:07:31  \tNode2Vec 基于服务聚类均衡切割完毕\r\n",
      "2023-02-07 17:07:31  \t分切数据执行完毕\r\n",
      "2023-02-07 17:07:33  \t模型加载完毕\r\n",
      "2023-02-07 17:07:33  \t准备训练切片模型\r\n",
      "2023-02-07 17:07:33  \t实验 1 模型 1 开始分片训练\r\n",
      "2023-02-07 17:07:40  Epoch 10 : MAE : 42.2225  RMSE : 104.6197  NMAE : 0.8956  MRE : 0.8523  NPRE : 6.8998\r\n",
      "2023-02-07 17:07:47  Epoch 20 : MAE : 22.3420  RMSE : 59.3771  NMAE : 0.4739  MRE : 0.5218  NPRE : 2.8261\r\n",
      "2023-02-07 17:07:54  Epoch 30 : MAE : 17.0366  RMSE : 47.5223  NMAE : 0.3614  MRE : 0.4028  NPRE : 1.1305\r\n",
      "2023-02-07 17:08:01  Epoch 40 : MAE : 15.7807  RMSE : 45.0906  NMAE : 0.3347  MRE : 0.3368  NPRE : 1.2269\r\n",
      "2023-02-07 17:08:08  Epoch 50 : MAE : 16.6259  RMSE : 45.9629  NMAE : 0.3527  MRE : 0.3862  NPRE : 1.0141\r\n",
      "2023-02-07 17:08:08  Best epoch 40 : MAE : 15.7807  RMSE : 45.0906  NMAE : 0.3347  MRE : 0.3368  NPRE : 1.2269\r\n",
      "2023-02-07 17:08:08  实验 1 模型 1 training time = 7.72 s\r\n",
      "2023-02-07 17:08:08  Slice ID  1 : MAE = 15.7807, RMSE = 45.0906, NMAE = 0.3347, MRE = 0.3368, NPRE = 1.2269\r\n",
      "\r\n",
      "2023-02-07 17:08:08  \t实验 1 模型 2 开始分片训练\r\n",
      "2023-02-07 17:08:23  Epoch 10 : MAE : 21.6218  RMSE : 64.4967  NMAE : 0.4639  MRE : 0.4757  NPRE : 2.4373\r\n",
      "2023-02-07 17:08:38  Epoch 20 : MAE : 14.9459  RMSE : 46.2265  NMAE : 0.3206  MRE : 0.3391  NPRE : 1.2075\r\n"
     ]
    }
   ],
   "source": [
    "!python Experiment.py --dataset tp --interaction MF --rounds 1 --slices 5 --agg_epochs 20 --density 0.20 --part_type 8 --record 0"
   ],
   "metadata": {
    "collapsed": false
   }
  },
  {
   "cell_type": "code",
   "execution_count": 116,
   "outputs": [
    {
     "name": "stdout",
     "output_type": "stream",
     "text": [
      "2023-02-07 17:08:49  Experiment start!\r\n",
      "2023-02-07 17:08:49  Namespace(F=1, agg2=0, agg_decay=0.001, agg_epochs=15, agg_function=1, agg_lr=0.001, agg_type='att', att_decay=0.0001, att_lr=0.001, batch_size=128, beta=1, cluster='deep', cuda=True, dataset='tp', debug=0, density=0.2, devices='gpu', dimension=32, dir='../Dataset/mnist', dropout=0.1, epoch=1500, external_dim=64, hidden_dims=[64, 64, 100], input_dim=128, interaction='GraphMF', lamda=1, latent_dim=10, log_interval=100, lr=0.0001, n_classes=10, n_clusters=10, n_jobs=1, node2vec=0, node2vec_batchsize=32, node2vec_dim=128, node2vec_epochs=20, node2vec_length=8, node2vec_walk=15, node2vec_windows=3, num_layers=2, order=2, part_iter=20, part_type=8, path='./datasets/data/WSDREAM/', pre_epoch=1000, pretrain=True, processed=0, random_state=1001, record=0, retrain=0, rounds=1, save_model=1, slice=1, slice_decay=0.001, slice_epochs=100, slice_lr=0.001, slices=5, verbose=10, wd=0.0005)\r\n",
      "2023-02-07 17:08:49  Dataset : tp     interaction : GraphMF\r\n",
      "2023-02-07 17:08:49  Density : 20.00%, slice_epochs : 15, agg_epochs : 15\r\n",
      "2023-02-07 17:08:49  Part_type : 8,    slices : 5,       devices : gpu\r\n",
      "2023-02-07 17:08:49  Slice_lr : 0.01,    Slice_decay : 0.001\r\n",
      "2023-02-07 17:08:49  Agg_lr : 0.001,    Agg_decay : 0.001\r\n",
      "2023-02-07 17:08:49  Aggregation function : att\r\n",
      "\r\n",
      "2023-02-07 17:08:49  Round 1 experiment start!\r\n",
      "2023-02-07 17:08:49  \t原始数据集读取完毕\r\n",
      "360 1386 1516 1265 1298 \r\n",
      "2023-02-07 17:08:50  \tNode2Vec 基于服务聚类均衡切割完毕\r\n",
      "2023-02-07 17:08:50  \t分切数据执行完毕\r\n",
      "2023-02-07 17:08:50  \tNeuGraphMF建图中\r\n",
      "2023-02-07 17:08:54  \tNeuGraphMF建图完毕\r\n",
      "2023-02-07 17:08:56  \t模型加载完毕\r\n",
      "2023-02-07 17:08:56  \t准备训练切片模型\r\n",
      "2023-02-07 17:08:56  \t实验 1 模型 1 开始分片训练\r\n",
      "2023-02-07 17:09:04  Epoch 10 : MAE : 15.6744  RMSE : 48.1557  NMAE : 0.3325  MRE : 0.2452  NPRE : 1.1682\r\n",
      "2023-02-07 17:09:08  Best epoch 15 : MAE : 14.9123  RMSE : 46.2416  NMAE : 0.3163  MRE : 0.2242  NPRE : 1.1592\r\n",
      "2023-02-07 17:09:08  实验 1 模型 1 training time = 4.47 s\r\n",
      "2023-02-07 17:09:08  Slice ID  1 : MAE = 14.9123, RMSE = 46.2416, NMAE = 0.3163, MRE = 0.2242, NPRE = 1.1592\r\n",
      "\r\n",
      "2023-02-07 17:09:08  \t实验 1 模型 2 开始分片训练\r\n",
      "2023-02-07 17:09:28  Epoch 10 : MAE : 12.9727  RMSE : 42.9508  NMAE : 0.2783  MRE : 0.1981  NPRE : 0.9656\r\n",
      "2023-02-07 17:09:38  Best epoch 13 : MAE : 12.3462  RMSE : 42.9420  NMAE : 0.2649  MRE : 0.1751  NPRE : 0.8528\r\n",
      "2023-02-07 17:09:38  实验 1 模型 2 training time = 16.24 s\r\n",
      "2023-02-07 17:09:38  Slice ID  2 : MAE = 12.3462, RMSE = 42.9420, NMAE = 0.2649, MRE = 0.1751, NPRE = 0.8528\r\n",
      "\r\n",
      "2023-02-07 17:09:38  \t实验 1 模型 3 开始分片训练\r\n",
      "2023-02-07 17:10:02  Epoch 10 : MAE : 10.1382  RMSE : 34.8341  NMAE : 0.2253  MRE : 0.1702  NPRE : 0.8456\r\n",
      "2023-02-07 17:10:14  Best epoch 12 : MAE : 9.7102  RMSE : 34.2024  NMAE : 0.2158  MRE : 0.1611  NPRE : 0.8871\r\n",
      "2023-02-07 17:10:14  实验 1 模型 3 training time = 18.24 s\r\n",
      "2023-02-07 17:10:14  Slice ID  3 : MAE = 9.7102, RMSE = 34.2024, NMAE = 0.2158, MRE = 0.1611, NPRE = 0.8871\r\n",
      "\r\n",
      "2023-02-07 17:10:14  \t实验 1 模型 4 开始分片训练\r\n",
      "2023-02-07 17:10:36  Epoch 10 : MAE : 12.3154  RMSE : 42.8701  NMAE : 0.2386  MRE : 0.1608  NPRE : 0.7592\r\n",
      "2023-02-07 17:10:47  Best epoch 13 : MAE : 11.7854  RMSE : 42.2842  NMAE : 0.2283  MRE : 0.1480  NPRE : 0.7164\r\n",
      "2023-02-07 17:10:47  实验 1 模型 4 training time = 19.31 s\r\n",
      "2023-02-07 17:10:47  Slice ID  4 : MAE = 11.7854, RMSE = 42.2842, NMAE = 0.2283, MRE = 0.1480, NPRE = 0.7164\r\n",
      "\r\n",
      "2023-02-07 17:10:47  \t实验 1 模型 5 开始分片训练\r\n",
      "2023-02-07 17:11:13  Epoch 10 : MAE : 13.9424  RMSE : 45.2984  NMAE : 0.2931  MRE : 0.1956  NPRE : 0.9206\r\n",
      "2023-02-07 17:11:26  Best epoch 15 : MAE : 13.4616  RMSE : 44.7344  NMAE : 0.2830  MRE : 0.1775  NPRE : 0.8552\r\n",
      "2023-02-07 17:11:26  实验 1 模型 5 training time = 26.65 s\r\n",
      "2023-02-07 17:11:26  Slice ID  5 : MAE = 13.4616, RMSE = 44.7344, NMAE = 0.2830, MRE = 0.1775, NPRE = 0.8552\r\n",
      "\r\n",
      "2023-02-07 17:11:26  \t所有切片模型训练完毕\r\n",
      "2023-02-07 17:11:26  \t开始训练聚合模型\r\n",
      "2023-02-07 17:11:31  Epoch  1 : MAE : 29.7651  RMSE : 83.7161  NMAE : 0.6262  MRE : 0.5530  NPRE : 3.4359\r\n",
      "2023-02-07 17:11:35  Epoch  2 : MAE : 23.4298  RMSE : 62.2061  NMAE : 0.4929  MRE : 0.4748  NPRE : 2.8080\r\n",
      "2023-02-07 17:11:40  Epoch  3 : MAE : 21.6309  RMSE : 56.6813  NMAE : 0.4551  MRE : 0.4448  NPRE : 2.6881\r\n",
      "2023-02-07 17:11:45  Epoch  4 : MAE : 20.3905  RMSE : 54.7373  NMAE : 0.4290  MRE : 0.4153  NPRE : 2.3252\r\n",
      "2023-02-07 17:11:50  Epoch  5 : MAE : 19.3958  RMSE : 52.2962  NMAE : 0.4080  MRE : 0.3913  NPRE : 2.0591\r\n",
      "2023-02-07 17:11:54  Epoch  6 : MAE : 18.9141  RMSE : 51.6540  NMAE : 0.3979  MRE : 0.3778  NPRE : 1.8700\r\n",
      "2023-02-07 17:11:59  Epoch  7 : MAE : 18.3355  RMSE : 50.0111  NMAE : 0.3857  MRE : 0.3692  NPRE : 1.9840\r\n",
      "2023-02-07 17:12:04  Epoch  8 : MAE : 18.0014  RMSE : 49.7915  NMAE : 0.3787  MRE : 0.3574  NPRE : 1.8136\r\n",
      "2023-02-07 17:12:08  Epoch  9 : MAE : 17.5676  RMSE : 48.6978  NMAE : 0.3696  MRE : 0.3510  NPRE : 1.8266\r\n",
      "2023-02-07 17:12:13  Epoch 10 : MAE : 17.3409  RMSE : 48.1149  NMAE : 0.3648  MRE : 0.3456  NPRE : 1.8580\r\n",
      "2023-02-07 17:12:18  Epoch 11 : MAE : 17.0996  RMSE : 47.9722  NMAE : 0.3597  MRE : 0.3386  NPRE : 1.7144\r\n",
      "2023-02-07 17:12:23  Epoch 12 : MAE : 16.9873  RMSE : 47.7721  NMAE : 0.3574  MRE : 0.3359  NPRE : 1.7339\r\n",
      "2023-02-07 17:12:28  Epoch 13 : MAE : 16.8520  RMSE : 47.5057  NMAE : 0.3545  MRE : 0.3331  NPRE : 1.7137\r\n",
      "2023-02-07 17:12:32  Epoch 14 : MAE : 16.7552  RMSE : 47.3289  NMAE : 0.3525  MRE : 0.3320  NPRE : 1.7489\r\n",
      "2023-02-07 17:12:37  Epoch 15 : MAE : 16.6451  RMSE : 47.2715  NMAE : 0.3502  MRE : 0.3280  NPRE : 1.6395\r\n",
      "2023-02-07 17:12:37  Best epoch 15 : MAE : 16.6451  RMSE : 47.2715  NMAE : 0.3502  MRE : 0.3280  NPRE : 1.6395\r\n",
      "2023-02-07 17:12:37  \t实验 1 聚合模型训练完毕\r\n",
      "2023-02-07 17:12:39  Result : MAE : 16.6451  RMSE : 47.2715  NMAE : 0.3502  MRE : 0.3280  NPRE : 1.6395\r\n",
      "2023-02-07 17:12:39  \t实验 1 : Shards training time = 16.98 s\r\n",
      "\r\n",
      "2023-02-07 17:12:39  \t实验 1 : Aggregators training time = 43.55 s\r\n",
      "\r\n",
      "2023-02-07 17:12:39  \t聚合模型训练完毕\r\n",
      "------------------------------------------------------------------------------------------------------------------------\r\n",
      "2023-02-07 17:12:39  Dataset : tp     interaction : GraphMF\r\n",
      "2023-02-07 17:12:39  Density : 20.00%, slice_epochs : 15, agg_epochs : 15\r\n",
      "2023-02-07 17:12:39  Part_type : 8,    slices : 5,       devices : gpu\r\n",
      "\r\n",
      "\r\n",
      "2023-02-07 17:12:39  Density 20.00% : MAE = 16.645, RMSE = 47.271, NMAE = 0.350, MRE = 0.328, NPRE = 1.639\r\n",
      "\r\n",
      "2023-02-07 17:12:39  Experiment success!\r\n",
      "\r\n"
     ]
    }
   ],
   "source": [
    "!python Experiment.py --dataset tp --interaction GraphMF --rounds 1 --slices 5 --agg_epochs 15 --density 0.20 --part_type 8 --record 0"
   ],
   "metadata": {
    "collapsed": false
   }
  },
  {
   "cell_type": "code",
   "execution_count": null,
   "outputs": [],
   "source": [],
   "metadata": {
    "collapsed": false,
    "pycharm": {
     "is_executing": true
    }
   }
  },
  {
   "cell_type": "code",
   "execution_count": null,
   "outputs": [],
   "source": [],
   "metadata": {
    "collapsed": false
   }
  }
 ],
 "metadata": {
  "kernelspec": {
   "display_name": "Python 3",
   "language": "python",
   "name": "python3"
  },
  "language_info": {
   "codemirror_mode": {
    "name": "ipython",
    "version": 2
   },
   "file_extension": ".py",
   "mimetype": "text/x-python",
   "name": "python",
   "nbconvert_exporter": "python",
   "pygments_lexer": "ipython2",
   "version": "2.7.6"
  }
 },
 "nbformat": 4,
 "nbformat_minor": 0
}
