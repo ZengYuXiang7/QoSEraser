{
 "cells": [
  {
   "cell_type": "markdown",
   "source": [
    "# Author : Yuxiang Zeng"
   ],
   "metadata": {
    "collapsed": false
   }
  },
  {
   "cell_type": "markdown",
   "source": [
    "# 命令制作"
   ],
   "metadata": {
    "collapsed": false
   }
  },
  {
   "cell_type": "markdown",
   "source": [
    "# Hyper parameters"
   ],
   "metadata": {
    "collapsed": false
   }
  },
  {
   "cell_type": "code",
   "execution_count": null,
   "outputs": [],
   "source": [
    "# 分片超参数搜索\n",
    "for density in ['0.10', '0.15', '0.20', '0.25', '0.30']:\n",
    "    for dataset in ['rt', 'tp']:\n",
    "        for interaction in ['NeuCF', 'CSMF', 'Pure_Mf', 'GraphMF']:\n",
    "            for lr in [1e-2, 5e-3, 1e-3, 5e-4, 1e-4]:\n",
    "                for decay in [1e-4, 1e-3, 1e-2]:\n",
    "                    string = f'python Experiment.py --dataset {dataset} --interaction {interaction} --rounds 1 --agg_epochs 10 --density {density} --part_type 5 '\n",
    "                    string += f'--slice_lr {lr} --slice_decay {decay} --record 0'\n",
    "                    print(string)\n",
    "                    print('#%%')"
   ],
   "metadata": {
    "collapsed": false
   }
  },
  {
   "cell_type": "code",
   "execution_count": null,
   "outputs": [],
   "source": [
    "# 聚合超参数搜索\n",
    "for density in ['0.10', '0.15', '0.20', '0.25', '0.30']:\n",
    "    for dataset in ['rt', 'tp']:\n",
    "        for interaction in ['NeuCF', 'CSMF', 'Pure_Mf', 'GraphMF']:\n",
    "            # for lr in [1e-2, 5e-3, 1e-3, 5e-4, 1e-4]:\n",
    "            for lr in [1e-2, 5e-3, 1e-3]:\n",
    "                for decay in [1e-4, 1e-3, 1e-2]:\n",
    "                    string = f'python Experiment.py --dataset {dataset} --interaction {interaction} --rounds 1 --agg_epochs 10 --density {density} --part_type 5 '\n",
    "                    string += f'--agg_lr {lr} --agg_decay {decay} --record 0'\n",
    "                    print(string)\n",
    "                    print('#%%')"
   ],
   "metadata": {
    "collapsed": false
   }
  },
  {
   "cell_type": "markdown",
   "source": [
    "# Ablation : chose a density to experience"
   ],
   "metadata": {
    "collapsed": false
   }
  },
  {
   "cell_type": "code",
   "execution_count": null,
   "outputs": [],
   "source": [
    "agg_epochs = 10"
   ],
   "metadata": {
    "collapsed": false
   }
  },
  {
   "cell_type": "code",
   "execution_count": null,
   "outputs": [],
   "source": [
    "# 消融实验 聚合方式\n",
    "for agg_type in ['mean', 'softmax']:\n",
    "    for density in ['0.20']:\n",
    "        for dataset in ['rt', 'tp']:\n",
    "            for interaction in ['NeuCF', 'CSMF', 'Pure_Mf', 'GraphMF']:\n",
    "                string = f'python Experiment.py --dataset {dataset} --interaction {interaction} --rounds 1 --agg_epochs {10 if dataset == \"rt\" else 12} --density {density} --part_type 5 '\n",
    "                string += f'--agg_type {agg_type} --record 0'\n",
    "                print(string)\n",
    "                print('#%%')"
   ],
   "metadata": {
    "collapsed": false
   }
  },
  {
   "cell_type": "code",
   "execution_count": null,
   "outputs": [],
   "source": [
    "# 消融实验 切割方式\n",
    "for part_type in [5, 6, 8]:\n",
    "    for density in ['0.20']:\n",
    "        for dataset in ['rt', 'tp']:\n",
    "            for interaction in ['NeuCF', 'CSMF', 'Pure_Mf', 'GraphMF']:\n",
    "                string = f'python Experiment.py --dataset {dataset} --interaction {interaction} --rounds 1 --agg_epochs {10 if dataset == \"rt\" else 12} --density {density} --part_type {part_type} '\n",
    "                string += f'--record 0'\n",
    "                print(string)\n",
    "                print('#%%')"
   ],
   "metadata": {
    "collapsed": false
   }
  },
  {
   "cell_type": "code",
   "execution_count": null,
   "outputs": [],
   "source": [
    "# 消融实验 分片\n",
    "for slices in [2, 5, 20]:\n",
    "    for density in ['0.20']:\n",
    "        for dataset in ['rt', 'tp']:\n",
    "            for interaction in ['NeuCF', 'CSMF', 'Pure_Mf', 'GraphMF']:\n",
    "                string = f'python Experiment.py --dataset {dataset} --interaction {interaction} --rounds 1 --agg_epochs {10 if dataset == \"rt\" else 12} --density {density} --part_type 5 '\n",
    "                string += f'--slices {slices} --record 0'\n",
    "                print(string)\n",
    "                print('#%%')"
   ],
   "metadata": {
    "collapsed": false
   }
  },
  {
   "cell_type": "markdown",
   "source": [
    "# Baslines"
   ],
   "metadata": {
    "collapsed": false
   }
  },
  {
   "cell_type": "code",
   "execution_count": null,
   "outputs": [],
   "source": [
    "# 最终实验 SISA\n",
    "for density in ['0.10', '0.15', '0.20', '0.25', '0.30']:\n",
    "    for dataset in ['rt', 'tp']:\n",
    "        for interaction in ['NeuCF', 'CSMF', 'Pure_Mf', 'GraphMF']:\n",
    "            string = f'!python Experiment.py --dataset {dataset} --interaction {interaction} --rounds 1 --slices 5 --agg_epochs {10 if dataset == \"rt\" else 12} --density {density} --part_type 1 '\n",
    "            print(string)\n",
    "            print('#%%')\n",
    "\n",
    "# 最终实验 RecEraser\n",
    "for density in ['0.10', '0.15', '0.20', '0.25', '0.30']:\n",
    "    for dataset in ['rt', 'tp']:\n",
    "        for interaction in ['NeuCF', 'CSMF', 'Pure_Mf', 'GraphMF']:\n",
    "            string = f'!python Experiment.py --dataset {dataset} --interaction {interaction} --rounds 1 --slices 5 --agg_epochs {10 if dataset == \"rt\" else 12} --density {density} --part_type 3 '\n",
    "            print(string)\n",
    "            print('#%%')\n",
    "\n",
    "# 最终实验 Ours\n",
    "for density in ['0.10', '0.15', '0.20', '0.25', '0.30']:\n",
    "    for dataset in ['rt', 'tp']:\n",
    "        for interaction in ['NeuCF', 'CSMF', 'Pure_Mf', 'GraphMF']:\n",
    "            string = f'!python Experiment.py --dataset {dataset} --interaction {interaction} --rounds 1 --slices 5 --agg_epochs {10 if dataset == \"rt\" else 12} --density {density} --part_type 5 '\n",
    "            print(string)\n",
    "            print('#%%')\n",
    "\n",
    "# 消融实验 分片\n",
    "for slices in [15, 20]:\n",
    "    for density in ['0.20']:\n",
    "        for dataset in ['rt', 'tp']:\n",
    "            for interaction in ['NeuCF', 'CSMF', 'Pure_Mf', 'GraphMF']:\n",
    "                string = f'!python Experiment.py --dataset {dataset} --interaction {interaction} --rounds 1 --agg_epochs {10 if dataset == \"rt\" else 12} --density {density} --part_type 5 '\n",
    "                string += f'--slices {slices} --record 0'\n",
    "                print(string)\n",
    "                print('#%%')\n",
    "\n",
    "# 消融实验 聚合方式\n",
    "for agg_type in ['mean', 'softmax']:\n",
    "    for density in ['0.20']:\n",
    "        for dataset in ['rt', 'tp']:\n",
    "            for interaction in ['NeuCF', 'CSMF', 'Pure_Mf', 'GraphMF']:\n",
    "                string = f'!python Experiment.py --dataset {dataset} --interaction {interaction} --rounds 1 --slices 5 --agg_epochs {10 if dataset == \"rt\" else 12} --density {density} --part_type 5 '\n",
    "                string += f'--agg_type {agg_type} --record 0'\n",
    "                print(string)\n",
    "                print('#%%')\n",
    "\n",
    "# 消融实验 切割方式\n",
    "for part_type in [8]:\n",
    "    for density in ['0.20']:\n",
    "        for dataset in ['rt', 'tp']:\n",
    "            for interaction in ['NeuCF', 'CSMF', 'Pure_Mf', 'GraphMF']:\n",
    "                string = f'!python Experiment.py --dataset {dataset} --interaction {interaction} --rounds 1 --slices 5 --agg_epochs {10 if dataset == \"rt\" else 12} --density {density} --part_type {part_type} '\n",
    "                string += f'--record 1'\n",
    "                print(string)\n",
    "                print('#%%')"
   ],
   "metadata": {
    "collapsed": false
   }
  },
  {
   "cell_type": "code",
   "execution_count": 3,
   "outputs": [
    {
     "name": "stdout",
     "output_type": "stream",
     "text": [
      "!python Experiment.py --dataset rt --interaction Pure_Mf --rounds 1 --agg_epochs 10 --density 0.10 --part_type 1 \n",
      "#%%\n",
      "!python Experiment.py --dataset tp --interaction Pure_Mf --rounds 1 --agg_epochs 12 --density 0.10 --part_type 1 \n",
      "#%%\n",
      "!python Experiment.py --dataset rt --interaction Pure_Mf --rounds 1 --agg_epochs 10 --density 0.15 --part_type 1 \n",
      "#%%\n",
      "!python Experiment.py --dataset tp --interaction Pure_Mf --rounds 1 --agg_epochs 12 --density 0.15 --part_type 1 \n",
      "#%%\n",
      "!python Experiment.py --dataset rt --interaction Pure_Mf --rounds 1 --agg_epochs 10 --density 0.20 --part_type 1 \n",
      "#%%\n",
      "!python Experiment.py --dataset tp --interaction Pure_Mf --rounds 1 --agg_epochs 12 --density 0.20 --part_type 1 \n",
      "#%%\n",
      "!python Experiment.py --dataset rt --interaction Pure_Mf --rounds 1 --agg_epochs 10 --density 0.25 --part_type 1 \n",
      "#%%\n",
      "!python Experiment.py --dataset tp --interaction Pure_Mf --rounds 1 --agg_epochs 12 --density 0.25 --part_type 1 \n",
      "#%%\n",
      "!python Experiment.py --dataset rt --interaction Pure_Mf --rounds 1 --agg_epochs 10 --density 0.30 --part_type 1 \n",
      "#%%\n",
      "!python Experiment.py --dataset tp --interaction Pure_Mf --rounds 1 --agg_epochs 12 --density 0.30 --part_type 1 \n",
      "#%%\n",
      "!python Experiment.py --dataset rt --interaction Pure_Mf --rounds 1 --agg_epochs 10 --density 0.10 --part_type 3 \n",
      "#%%\n",
      "!python Experiment.py --dataset tp --interaction Pure_Mf --rounds 1 --agg_epochs 12 --density 0.10 --part_type 3 \n",
      "#%%\n",
      "!python Experiment.py --dataset rt --interaction Pure_Mf --rounds 1 --agg_epochs 10 --density 0.15 --part_type 3 \n",
      "#%%\n",
      "!python Experiment.py --dataset tp --interaction Pure_Mf --rounds 1 --agg_epochs 12 --density 0.15 --part_type 3 \n",
      "#%%\n",
      "!python Experiment.py --dataset rt --interaction Pure_Mf --rounds 1 --agg_epochs 10 --density 0.20 --part_type 3 \n",
      "#%%\n",
      "!python Experiment.py --dataset tp --interaction Pure_Mf --rounds 1 --agg_epochs 12 --density 0.20 --part_type 3 \n",
      "#%%\n",
      "!python Experiment.py --dataset rt --interaction Pure_Mf --rounds 1 --agg_epochs 10 --density 0.25 --part_type 3 \n",
      "#%%\n",
      "!python Experiment.py --dataset tp --interaction Pure_Mf --rounds 1 --agg_epochs 12 --density 0.25 --part_type 3 \n",
      "#%%\n",
      "!python Experiment.py --dataset rt --interaction Pure_Mf --rounds 1 --agg_epochs 10 --density 0.30 --part_type 3 \n",
      "#%%\n",
      "!python Experiment.py --dataset tp --interaction Pure_Mf --rounds 1 --agg_epochs 12 --density 0.30 --part_type 3 \n",
      "#%%\n",
      "!python Experiment.py --dataset rt --interaction Pure_Mf --rounds 1 --agg_epochs 10 --density 0.10 --part_type 5 \n",
      "#%%\n",
      "!python Experiment.py --dataset tp --interaction Pure_Mf --rounds 1 --agg_epochs 12 --density 0.10 --part_type 5 \n",
      "#%%\n",
      "!python Experiment.py --dataset rt --interaction Pure_Mf --rounds 1 --agg_epochs 10 --density 0.15 --part_type 5 \n",
      "#%%\n",
      "!python Experiment.py --dataset tp --interaction Pure_Mf --rounds 1 --agg_epochs 12 --density 0.15 --part_type 5 \n",
      "#%%\n",
      "!python Experiment.py --dataset rt --interaction Pure_Mf --rounds 1 --agg_epochs 10 --density 0.20 --part_type 5 \n",
      "#%%\n",
      "!python Experiment.py --dataset tp --interaction Pure_Mf --rounds 1 --agg_epochs 12 --density 0.20 --part_type 5 \n",
      "#%%\n",
      "!python Experiment.py --dataset rt --interaction Pure_Mf --rounds 1 --agg_epochs 10 --density 0.25 --part_type 5 \n",
      "#%%\n",
      "!python Experiment.py --dataset tp --interaction Pure_Mf --rounds 1 --agg_epochs 12 --density 0.25 --part_type 5 \n",
      "#%%\n",
      "!python Experiment.py --dataset rt --interaction Pure_Mf --rounds 1 --agg_epochs 10 --density 0.30 --part_type 5 \n",
      "#%%\n",
      "!python Experiment.py --dataset tp --interaction Pure_Mf --rounds 1 --agg_epochs 12 --density 0.30 --part_type 5 \n",
      "#%%\n"
     ]
    },
    {
     "data": {
      "text/plain": "30"
     },
     "execution_count": 3,
     "metadata": {},
     "output_type": "execute_result"
    }
   ],
   "source": [
    "cnt = 0\n",
    "for part_type in [1, 3, 5]:\n",
    "    for density in ['0.10', '0.15', '0.20', '0.25', '0.30']:\n",
    "        for dataset in ['rt', 'tp']:\n",
    "            for interaction in ['Pure_Mf']:\n",
    "                string = f'!python Experiment.py --dataset {dataset} --interaction {interaction} --rounds 1 --agg_epochs {10 if dataset == \"rt\" else 12} --density {density} --part_type {part_type} '\n",
    "                # string += f''\n",
    "                print(string)\n",
    "                print('#%%')\n",
    "                cnt += 1\n",
    "cnt"
   ],
   "metadata": {
    "collapsed": false
   }
  }
 ],
 "metadata": {
  "kernelspec": {
   "display_name": "Python 3",
   "language": "python",
   "name": "python3"
  },
  "language_info": {
   "codemirror_mode": {
    "name": "ipython",
    "version": 2
   },
   "file_extension": ".py",
   "mimetype": "text/x-python",
   "name": "python",
   "nbconvert_exporter": "python",
   "pygments_lexer": "ipython2",
   "version": "2.7.6"
  }
 },
 "nbformat": 4,
 "nbformat_minor": 0
}
