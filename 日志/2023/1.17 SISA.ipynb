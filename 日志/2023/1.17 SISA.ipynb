{
 "cells": [
  {
   "cell_type": "markdown",
   "source": [
    "# Author: Yuxiang Zeng"
   ],
   "metadata": {
    "collapsed": false
   }
  },
  {
   "cell_type": "markdown",
   "source": [
    "## Dataset : rt"
   ],
   "metadata": {
    "collapsed": false
   }
  },
  {
   "cell_type": "markdown",
   "source": [
    "# Desity = 0.10"
   ],
   "metadata": {
    "collapsed": false
   }
  },
  {
   "cell_type": "code",
   "execution_count": 39,
   "outputs": [
    {
     "name": "stdout",
     "output_type": "stream",
     "text": [
      "2023-01-16 23:08:36  Namespace(agg_epochs=5, agg_function=3, agg_type='softmax', balance=0, batch_size=128, beta=1, cluster='deep', cuda=True, dataset='rt', debug=0, density=0.1, devices='gpu', dimension=32, dir='../Dataset/mnist', dropout=0.1, epoch=1500, hidden_dims=[64, 64, 100], input_dim=128, interaction='NeuCF', kmeans_type=1, lamda=1, latent_dim=10, log_interval=100, lr=0.0001, n_classes=10, n_clusters=10, n_jobs=1, node2vec=0, node2vec_batchsize=32, node2vec_dim=128, node2vec_epochs=20, node2vec_length=8, node2vec_walk=15, node2vec_windows=3, num_layers=2, order=2, part_iter=50, part_type=1, path='./datasets/data/WSDREAM/', pre_epoch=1000, pretrain=True, processed=0, retrain=0, rounds=1, save_model=1, slice_epochs=60, slices=10, subagg=1, verbose=10, wd=0.0005)\r\n",
      "2023-01-16 23:08:36  Experiment start!\r\n",
      "2023-01-16 23:08:36  Dataset : rt     interaction : NeuCF\r\n",
      "2023-01-16 23:08:36  Density : 10.00%, slice_epochs : 60, agg_epochs : 5\r\n",
      "2023-01-16 23:08:36  Part_type : 1,    slices : 10,       devices : gpu\r\n",
      "\r\n",
      "2023-01-16 23:08:36  Round 1 experiment start!\r\n",
      "2023-01-16 23:08:36  \t原始数据集读取完毕\r\n",
      "2023-01-16 23:08:36  \tSISA 切割完毕\r\n",
      "2023-01-16 23:08:36  \t分切数据执行完毕\r\n",
      "2023-01-16 23:08:38  \t模型加载完毕\r\n",
      "2023-01-16 23:08:38  \t准备训练切片模型\r\n",
      "2023-01-16 23:08:39  \t实验 1 模型 1 开始分片训练\r\n",
      "2023-01-16 23:08:48  Epoch 10 : MAE : 0.7470  RMSE : 1.9029  NMAE : 0.8240  MRE : 0.7329  NPRE : 4.2636\r\n",
      "2023-01-16 23:08:56  Epoch 20 : MAE : 0.7132  RMSE : 1.7947  NMAE : 0.7867  MRE : 0.6886  NPRE : 3.7325\r\n",
      "2023-01-16 23:09:05  Epoch 30 : MAE : 0.7024  RMSE : 1.7161  NMAE : 0.7748  MRE : 0.6796  NPRE : 4.2978\r\n",
      "2023-01-16 23:09:14  Epoch 40 : MAE : 0.6713  RMSE : 1.6871  NMAE : 0.7404  MRE : 0.6206  NPRE : 3.5645\r\n",
      "2023-01-16 23:09:27  Epoch 50 : MAE : 0.6659  RMSE : 1.6644  NMAE : 0.7345  MRE : 0.6319  NPRE : 3.3576\r\n",
      "2023-01-16 23:09:40  Epoch 60 : MAE : 0.6618  RMSE : 1.6480  NMAE : 0.7300  MRE : 0.6529  NPRE : 3.1658\r\n",
      "2023-01-16 23:09:40  Best epoch 58 : MAE : 0.6558  RMSE : 1.6511  NMAE : 0.7233  MRE : 0.6041  NPRE : 3.2169\r\n",
      "2023-01-16 23:09:40  实验 1 模型 1 training time = 19.49 s\r\n",
      "2023-01-16 23:09:40  Slice ID  1 : MAE = 0.6558, RMSE = 1.6511, NMAE = 0.7233, MRE = 0.6041, NPRE = 3.2169\r\n",
      "\r\n",
      "2023-01-16 23:09:41  \t实验 1 模型 2 开始分片训练\r\n",
      "2023-01-16 23:09:52  Epoch 10 : MAE : 0.7457  RMSE : 1.8502  NMAE : 0.8225  MRE : 0.7381  NPRE : 4.1226\r\n",
      "2023-01-16 23:10:04  Epoch 20 : MAE : 0.6880  RMSE : 1.7142  NMAE : 0.7589  MRE : 0.6479  NPRE : 3.9796\r\n",
      "2023-01-16 23:10:13  Epoch 30 : MAE : 0.6753  RMSE : 1.6925  NMAE : 0.7449  MRE : 0.6526  NPRE : 3.4900\r\n",
      "2023-01-16 23:10:21  Epoch 40 : MAE : 0.6637  RMSE : 1.6394  NMAE : 0.7321  MRE : 0.6294  NPRE : 3.5272\r\n",
      "2023-01-16 23:10:30  Epoch 50 : MAE : 0.6479  RMSE : 1.6388  NMAE : 0.7146  MRE : 0.6130  NPRE : 3.1191\r\n",
      "2023-01-16 23:10:39  Epoch 60 : MAE : 0.6502  RMSE : 1.6141  NMAE : 0.7172  MRE : 0.6346  NPRE : 3.7431\r\n",
      "2023-01-16 23:10:39  Best epoch 53 : MAE : 0.6454  RMSE : 1.6326  NMAE : 0.7119  MRE : 0.6234  NPRE : 2.9946\r\n",
      "2023-01-16 23:10:39  实验 1 模型 2 training time = 17.11 s\r\n",
      "2023-01-16 23:10:39  Slice ID  2 : MAE = 0.6454, RMSE = 1.6326, NMAE = 0.7119, MRE = 0.6234, NPRE = 2.9946\r\n",
      "\r\n",
      "2023-01-16 23:10:39  \t实验 1 模型 3 开始分片训练\r\n",
      "2023-01-16 23:10:48  Epoch 10 : MAE : 0.7441  RMSE : 1.8743  NMAE : 0.8207  MRE : 0.7496  NPRE : 3.8907\r\n",
      "2023-01-16 23:10:57  Epoch 20 : MAE : 0.6988  RMSE : 1.7465  NMAE : 0.7708  MRE : 0.6685  NPRE : 3.8305\r\n",
      "2023-01-16 23:11:06  Epoch 30 : MAE : 0.6795  RMSE : 1.6966  NMAE : 0.7496  MRE : 0.6434  NPRE : 3.4573\r\n",
      "2023-01-16 23:11:15  Epoch 40 : MAE : 0.6757  RMSE : 1.6865  NMAE : 0.7454  MRE : 0.6629  NPRE : 3.3037\r\n",
      "2023-01-16 23:11:24  Epoch 50 : MAE : 0.6621  RMSE : 1.6757  NMAE : 0.7303  MRE : 0.6231  NPRE : 2.6450\r\n",
      "2023-01-16 23:11:33  Epoch 60 : MAE : 0.6572  RMSE : 1.6433  NMAE : 0.7249  MRE : 0.6301  NPRE : 3.2468\r\n",
      "2023-01-16 23:11:33  Best epoch 53 : MAE : 0.6494  RMSE : 1.6549  NMAE : 0.7163  MRE : 0.5988  NPRE : 3.0760\r\n",
      "2023-01-16 23:11:33  实验 1 模型 3 training time = 15.31 s\r\n",
      "2023-01-16 23:11:33  Slice ID  3 : MAE = 0.6494, RMSE = 1.6549, NMAE = 0.7163, MRE = 0.5988, NPRE = 3.0760\r\n",
      "\r\n",
      "2023-01-16 23:11:33  \t实验 1 模型 4 开始分片训练\r\n",
      "2023-01-16 23:11:43  Epoch 10 : MAE : 0.7420  RMSE : 1.9182  NMAE : 0.8185  MRE : 0.7048  NPRE : 3.2082\r\n",
      "2023-01-16 23:12:01  Epoch 20 : MAE : 0.7085  RMSE : 1.7978  NMAE : 0.7815  MRE : 0.6783  NPRE : 3.5483\r\n",
      "2023-01-16 23:12:10  Epoch 30 : MAE : 0.6929  RMSE : 1.7319  NMAE : 0.7643  MRE : 0.6532  NPRE : 3.9079\r\n",
      "2023-01-16 23:12:19  Epoch 40 : MAE : 0.6798  RMSE : 1.7089  NMAE : 0.7499  MRE : 0.6506  NPRE : 3.5791\r\n",
      "2023-01-16 23:12:28  Epoch 50 : MAE : 0.6673  RMSE : 1.6764  NMAE : 0.7361  MRE : 0.6187  NPRE : 3.6468\r\n",
      "2023-01-16 23:12:37  Epoch 60 : MAE : 0.6737  RMSE : 1.6771  NMAE : 0.7432  MRE : 0.6411  NPRE : 3.9069\r\n",
      "2023-01-16 23:12:37  Best epoch 59 : MAE : 0.6632  RMSE : 1.6570  NMAE : 0.7316  MRE : 0.6380  NPRE : 3.6103\r\n",
      "2023-01-16 23:12:37  实验 1 模型 4 training time = 21.09 s\r\n",
      "2023-01-16 23:12:37  Slice ID  4 : MAE = 0.6632, RMSE = 1.6570, NMAE = 0.7316, MRE = 0.6380, NPRE = 3.6103\r\n",
      "\r\n",
      "2023-01-16 23:12:37  \t实验 1 模型 5 开始分片训练\r\n",
      "2023-01-16 23:12:46  Epoch 10 : MAE : 0.7432  RMSE : 1.9235  NMAE : 0.8198  MRE : 0.7031  NPRE : 3.7495\r\n",
      "2023-01-16 23:12:55  Epoch 20 : MAE : 0.7193  RMSE : 1.8224  NMAE : 0.7934  MRE : 0.6930  NPRE : 3.4899\r\n",
      "2023-01-16 23:13:04  Epoch 30 : MAE : 0.6938  RMSE : 1.7418  NMAE : 0.7653  MRE : 0.6602  NPRE : 3.4617\r\n",
      "2023-01-16 23:13:13  Epoch 40 : MAE : 0.6782  RMSE : 1.7101  NMAE : 0.7481  MRE : 0.6376  NPRE : 3.2618\r\n",
      "2023-01-16 23:13:22  Epoch 50 : MAE : 0.6756  RMSE : 1.7059  NMAE : 0.7452  MRE : 0.6504  NPRE : 2.8682\r\n",
      "2023-01-16 23:13:31  Epoch 60 : MAE : 0.6673  RMSE : 1.6672  NMAE : 0.7360  MRE : 0.6452  NPRE : 3.3852\r\n",
      "2023-01-16 23:13:31  Best epoch 58 : MAE : 0.6624  RMSE : 1.6825  NMAE : 0.7306  MRE : 0.6318  NPRE : 3.0494\r\n",
      "2023-01-16 23:13:31  实验 1 模型 5 training time = 16.77 s\r\n",
      "2023-01-16 23:13:31  Slice ID  5 : MAE = 0.6624, RMSE = 1.6825, NMAE = 0.7306, MRE = 0.6318, NPRE = 3.0494\r\n",
      "\r\n",
      "2023-01-16 23:13:32  \t实验 1 模型 6 开始分片训练\r\n",
      "2023-01-16 23:13:41  Epoch 10 : MAE : 0.7457  RMSE : 1.8748  NMAE : 0.8225  MRE : 0.7381  NPRE : 4.4229\r\n",
      "2023-01-16 23:13:50  Epoch 20 : MAE : 0.6944  RMSE : 1.7468  NMAE : 0.7659  MRE : 0.6797  NPRE : 3.4001\r\n",
      "2023-01-16 23:13:59  Epoch 30 : MAE : 0.6770  RMSE : 1.6927  NMAE : 0.7467  MRE : 0.6639  NPRE : 3.3043\r\n",
      "2023-01-16 23:14:08  Epoch 40 : MAE : 0.6596  RMSE : 1.6526  NMAE : 0.7275  MRE : 0.6115  NPRE : 3.7947\r\n",
      "2023-01-16 23:14:17  Epoch 50 : MAE : 0.6402  RMSE : 1.6324  NMAE : 0.7061  MRE : 0.5891  NPRE : 3.1591\r\n",
      "2023-01-16 23:14:26  Epoch 60 : MAE : 0.6479  RMSE : 1.6416  NMAE : 0.7147  MRE : 0.6071  NPRE : 3.2538\r\n",
      "2023-01-16 23:14:26  Best epoch 50 : MAE : 0.6402  RMSE : 1.6324  NMAE : 0.7061  MRE : 0.5891  NPRE : 3.1591\r\n",
      "2023-01-16 23:14:26  实验 1 模型 6 training time = 14.66 s\r\n",
      "2023-01-16 23:14:26  Slice ID  6 : MAE = 0.6402, RMSE = 1.6324, NMAE = 0.7061, MRE = 0.5891, NPRE = 3.1591\r\n",
      "\r\n",
      "2023-01-16 23:14:26  \t实验 1 模型 7 开始分片训练\r\n",
      "2023-01-16 23:14:36  Epoch 10 : MAE : 0.7531  RMSE : 1.9018  NMAE : 0.8307  MRE : 0.7347  NPRE : 4.5015\r\n",
      "2023-01-16 23:14:45  Epoch 20 : MAE : 0.7115  RMSE : 1.8185  NMAE : 0.7848  MRE : 0.6706  NPRE : 3.5210\r\n",
      "2023-01-16 23:14:54  Epoch 30 : MAE : 0.7002  RMSE : 1.7444  NMAE : 0.7724  MRE : 0.6774  NPRE : 3.8773\r\n",
      "2023-01-16 23:15:03  Epoch 40 : MAE : 0.6798  RMSE : 1.7167  NMAE : 0.7498  MRE : 0.6406  NPRE : 3.3637\r\n",
      "2023-01-16 23:15:12  Epoch 50 : MAE : 0.6655  RMSE : 1.6941  NMAE : 0.7340  MRE : 0.6104  NPRE : 3.6371\r\n",
      "2023-01-16 23:15:21  Epoch 60 : MAE : 0.6655  RMSE : 1.6804  NMAE : 0.7341  MRE : 0.6410  NPRE : 3.3325\r\n",
      "2023-01-16 23:15:21  Best epoch 54 : MAE : 0.6573  RMSE : 1.6769  NMAE : 0.7251  MRE : 0.6142  NPRE : 3.1642\r\n",
      "2023-01-16 23:15:21  实验 1 模型 7 training time = 16.12 s\r\n",
      "2023-01-16 23:15:21  Slice ID  7 : MAE = 0.6573, RMSE = 1.6769, NMAE = 0.7251, MRE = 0.6142, NPRE = 3.1642\r\n",
      "\r\n",
      "2023-01-16 23:15:21  \t实验 1 模型 8 开始分片训练\r\n",
      "2023-01-16 23:15:30  Epoch 10 : MAE : 0.7427  RMSE : 1.9199  NMAE : 0.8192  MRE : 0.7167  NPRE : 3.4130\r\n",
      "2023-01-16 23:15:39  Epoch 20 : MAE : 0.7057  RMSE : 1.7863  NMAE : 0.7784  MRE : 0.6948  NPRE : 3.1513\r\n",
      "2023-01-16 23:15:48  Epoch 30 : MAE : 0.6851  RMSE : 1.7053  NMAE : 0.7556  MRE : 0.6672  NPRE : 3.4660\r\n",
      "2023-01-16 23:15:57  Epoch 40 : MAE : 0.6697  RMSE : 1.6698  NMAE : 0.7387  MRE : 0.6334  NPRE : 3.3901\r\n",
      "2023-01-16 23:16:06  Epoch 50 : MAE : 0.6613  RMSE : 1.6462  NMAE : 0.7295  MRE : 0.6452  NPRE : 3.4050\r\n",
      "2023-01-16 23:16:15  Epoch 60 : MAE : 0.6485  RMSE : 1.6396  NMAE : 0.7153  MRE : 0.6284  NPRE : 3.1273\r\n",
      "2023-01-16 23:16:15  Best epoch 60 : MAE : 0.6485  RMSE : 1.6396  NMAE : 0.7153  MRE : 0.6284  NPRE : 3.1273\r\n",
      "2023-01-16 23:16:15  实验 1 模型 8 training time = 17.14 s\r\n",
      "2023-01-16 23:16:15  Slice ID  8 : MAE = 0.6485, RMSE = 1.6396, NMAE = 0.7153, MRE = 0.6284, NPRE = 3.1273\r\n",
      "\r\n",
      "2023-01-16 23:16:15  \t实验 1 模型 9 开始分片训练\r\n",
      "2023-01-16 23:16:24  Epoch 10 : MAE : 0.7452  RMSE : 1.9147  NMAE : 0.8220  MRE : 0.7061  NPRE : 3.7771\r\n",
      "2023-01-16 23:16:33  Epoch 20 : MAE : 0.7081  RMSE : 1.7695  NMAE : 0.7810  MRE : 0.6823  NPRE : 3.6929\r\n",
      "2023-01-16 23:16:43  Epoch 30 : MAE : 0.6883  RMSE : 1.7150  NMAE : 0.7593  MRE : 0.6646  NPRE : 3.6696\r\n",
      "2023-01-16 23:16:52  Epoch 40 : MAE : 0.6818  RMSE : 1.6883  NMAE : 0.7521  MRE : 0.6461  NPRE : 3.6670\r\n",
      "2023-01-16 23:17:01  Epoch 50 : MAE : 0.6670  RMSE : 1.6777  NMAE : 0.7357  MRE : 0.6091  NPRE : 3.3084\r\n",
      "2023-01-16 23:17:10  Epoch 60 : MAE : 0.6553  RMSE : 1.6626  NMAE : 0.7228  MRE : 0.6087  NPRE : 3.1820\r\n",
      "2023-01-16 23:17:10  Best epoch 58 : MAE : 0.6526  RMSE : 1.6591  NMAE : 0.7199  MRE : 0.6133  NPRE : 2.6091\r\n",
      "2023-01-16 23:17:10  实验 1 模型 9 training time = 17.59 s\r\n",
      "2023-01-16 23:17:10  Slice ID  9 : MAE = 0.6526, RMSE = 1.6591, NMAE = 0.7199, MRE = 0.6133, NPRE = 2.6091\r\n",
      "\r\n",
      "2023-01-16 23:17:11  \t实验 1 模型 10 开始分片训练\r\n",
      "2023-01-16 23:17:20  Epoch 10 : MAE : 0.7515  RMSE : 1.9257  NMAE : 0.8289  MRE : 0.7263  NPRE : 3.6891\r\n",
      "2023-01-16 23:17:29  Epoch 20 : MAE : 0.7237  RMSE : 1.8137  NMAE : 0.7983  MRE : 0.7213  NPRE : 3.3927\r\n",
      "2023-01-16 23:17:37  Epoch 30 : MAE : 0.6961  RMSE : 1.7346  NMAE : 0.7678  MRE : 0.6718  NPRE : 3.9831\r\n",
      "2023-01-16 23:17:46  Epoch 40 : MAE : 0.6815  RMSE : 1.7131  NMAE : 0.7517  MRE : 0.6373  NPRE : 3.3811\r\n",
      "2023-01-16 23:17:55  Epoch 50 : MAE : 0.6653  RMSE : 1.6945  NMAE : 0.7338  MRE : 0.6227  NPRE : 3.0763\r\n",
      "2023-01-16 23:18:04  Epoch 60 : MAE : 0.6587  RMSE : 1.6736  NMAE : 0.7265  MRE : 0.6102  NPRE : 3.1958\r\n",
      "2023-01-16 23:18:04  Best epoch 60 : MAE : 0.6587  RMSE : 1.6736  NMAE : 0.7265  MRE : 0.6102  NPRE : 3.1958\r\n",
      "2023-01-16 23:18:04  实验 1 模型 10 training time = 17.27 s\r\n",
      "2023-01-16 23:18:04  Slice ID  10 : MAE = 0.6587, RMSE = 1.6736, NMAE = 0.7265, MRE = 0.6102, NPRE = 3.1958\r\n",
      "\r\n",
      "2023-01-16 23:18:04  \t所有切片模型训练完毕\r\n",
      "2023-01-16 23:18:04  \t开始训练聚合模型\r\n",
      "2023-01-16 23:18:13  Epoch  1 : MAE : 0.5880  RMSE : 1.6435  NMAE : 0.6486  MRE : 0.4986  NPRE : 2.3993\r\n",
      "2023-01-16 23:18:20  Epoch  2 : MAE : 0.5547  RMSE : 1.5658  NMAE : 0.6119  MRE : 0.4826  NPRE : 2.1933\r\n",
      "2023-01-16 23:18:27  Epoch  3 : MAE : 0.5383  RMSE : 1.5218  NMAE : 0.5938  MRE : 0.4882  NPRE : 2.9095\r\n",
      "2023-01-16 23:18:33  Epoch  4 : MAE : 0.5233  RMSE : 1.4934  NMAE : 0.5772  MRE : 0.4588  NPRE : 2.5257\r\n",
      "2023-01-16 23:18:40  Epoch  5 : MAE : 0.5133  RMSE : 1.4778  NMAE : 0.5662  MRE : 0.4589  NPRE : 2.1225\r\n",
      "2023-01-16 23:18:40  Best epoch  5 : MAE : 0.5133  RMSE : 1.4778  NMAE : 0.5662  MRE : 0.4589  NPRE : 2.1225\r\n",
      "2023-01-16 23:18:40  \t实验 1 聚合模型训练完毕\r\n",
      "2023-01-16 23:18:49  Result : MAE : 0.5193  RMSE : 1.5106  NMAE : 0.5718  MRE : 0.4592  NPRE : 2.1483\r\n",
      "2023-01-16 23:18:49  \t实验 1 : Aggregators training time = 32.22 s\r\n",
      "\r\n",
      "2023-01-16 23:18:49  \t聚合模型训练完毕\r\n",
      "2023-01-16 23:18:49  Round 1 : MAE = 0.5193, RMSE = 1.5106, NMAE = 0.5718, MRE = 0.4592, NPRE = 2.1483\r\n",
      "\r\n",
      "------------------------------------------------------------------------------------------------------------------------\r\n",
      "2023-01-16 23:18:49  Dataset : rt     interaction : NeuCF\r\n",
      "2023-01-16 23:18:49  Density : 10.00%, slice_epochs : 60, agg_epochs : 5\r\n",
      "2023-01-16 23:18:49  Part_type : 1,    slices : 10,       devices : gpu\r\n",
      "\r\n",
      "\r\n",
      "2023-01-16 23:18:49  Density 10.00% : MAE = 0.519, RMSE = 1.511, NMAE = 0.572, MRE = 0.459, NPRE = 2.148\r\n",
      "\r\n",
      "2023-01-16 23:18:49  Experiment success!\r\n"
     ]
    }
   ],
   "source": [
    "!python Experiment.py --dataset rt --interaction NeuCF --rounds 1 --agg_epochs 5 --density 0.10 --part_type 1"
   ],
   "metadata": {
    "collapsed": false
   }
  },
  {
   "cell_type": "code",
   "execution_count": 40,
   "outputs": [
    {
     "name": "stdout",
     "output_type": "stream",
     "text": [
      "2023-01-16 23:18:50  Namespace(agg_epochs=10, agg_function=3, agg_type='softmax', balance=0, batch_size=128, beta=1, cluster='deep', cuda=True, dataset='rt', debug=0, density=0.1, devices='gpu', dimension=32, dir='../Dataset/mnist', dropout=0.1, epoch=1500, hidden_dims=[64, 64, 100], input_dim=128, interaction='CSMF', kmeans_type=1, lamda=1, latent_dim=10, log_interval=100, lr=0.0001, n_classes=10, n_clusters=10, n_jobs=1, node2vec=0, node2vec_batchsize=32, node2vec_dim=128, node2vec_epochs=20, node2vec_length=8, node2vec_walk=15, node2vec_windows=3, num_layers=2, order=2, part_iter=50, part_type=1, path='./datasets/data/WSDREAM/', pre_epoch=1000, pretrain=True, processed=0, retrain=0, rounds=1, save_model=1, slice_epochs=60, slices=10, subagg=1, verbose=10, wd=0.0005)\r\n",
      "2023-01-16 23:18:50  Experiment start!\r\n",
      "2023-01-16 23:18:50  Dataset : rt     interaction : CSMF\r\n",
      "2023-01-16 23:18:50  Density : 10.00%, slice_epochs : 20, agg_epochs : 10\r\n",
      "2023-01-16 23:18:50  Part_type : 1,    slices : 10,       devices : gpu\r\n",
      "\r\n",
      "2023-01-16 23:18:50  Round 1 experiment start!\r\n",
      "2023-01-16 23:18:50  \t原始数据集读取完毕\r\n",
      "2023-01-16 23:18:50  \tSISA 切割完毕\r\n",
      "2023-01-16 23:18:51  \t分切数据执行完毕\r\n",
      "2023-01-16 23:18:52  \t模型加载完毕\r\n",
      "2023-01-16 23:18:52  \t准备训练切片模型\r\n",
      "2023-01-16 23:18:53  \t实验 1 模型 1 开始分片训练\r\n",
      "2023-01-16 23:19:07  Epoch 10 : MAE : 0.7379  RMSE : 2.0275  NMAE : 0.8030  MRE : 0.5906  NPRE : 2.5725\r\n",
      "2023-01-16 23:19:29  Epoch 20 : MAE : 0.7910  RMSE : 1.9695  NMAE : 0.8608  MRE : 0.6479  NPRE : 3.1932\r\n",
      "2023-01-16 23:19:29  Best epoch  8 : MAE : 0.7359  RMSE : 2.0384  NMAE : 0.8008  MRE : 0.5937  NPRE : 2.6156\r\n",
      "2023-01-16 23:19:29  实验 1 模型 1 training time = 2.90 s\r\n",
      "2023-01-16 23:19:29  Slice ID  1 : MAE = 0.7359, RMSE = 2.0384, NMAE = 0.8008, MRE = 0.5937, NPRE = 2.6156\r\n",
      "\r\n",
      "2023-01-16 23:19:29  \t实验 1 模型 2 开始分片训练\r\n",
      "2023-01-16 23:19:44  Epoch 10 : MAE : 0.7339  RMSE : 2.0260  NMAE : 0.7987  MRE : 0.5810  NPRE : 2.5401\r\n",
      "2023-01-16 23:20:03  Epoch 20 : MAE : 0.7890  RMSE : 1.9581  NMAE : 0.8586  MRE : 0.6397  NPRE : 3.1996\r\n",
      "2023-01-16 23:20:03  Best epoch  9 : MAE : 0.7331  RMSE : 2.0323  NMAE : 0.7977  MRE : 0.5814  NPRE : 2.5690\r\n",
      "2023-01-16 23:20:03  实验 1 模型 2 training time = 3.79 s\r\n",
      "2023-01-16 23:20:03  Slice ID  2 : MAE = 0.7331, RMSE = 2.0323, NMAE = 0.7977, MRE = 0.5814, NPRE = 2.5690\r\n",
      "\r\n",
      "2023-01-16 23:20:03  \t实验 1 模型 3 开始分片训练\r\n",
      "2023-01-16 23:20:18  Epoch 10 : MAE : 0.7344  RMSE : 2.0198  NMAE : 0.7992  MRE : 0.5901  NPRE : 2.5957\r\n",
      "2023-01-16 23:20:32  Epoch 20 : MAE : 0.7968  RMSE : 1.9658  NMAE : 0.8671  MRE : 0.6519  NPRE : 3.3700\r\n",
      "2023-01-16 23:20:32  Best epoch  9 : MAE : 0.7327  RMSE : 2.0279  NMAE : 0.7973  MRE : 0.5891  NPRE : 2.6258\r\n",
      "2023-01-16 23:20:32  实验 1 模型 3 training time = 3.50 s\r\n",
      "2023-01-16 23:20:32  Slice ID  3 : MAE = 0.7327, RMSE = 2.0279, NMAE = 0.7973, MRE = 0.5891, NPRE = 2.6258\r\n",
      "\r\n",
      "2023-01-16 23:20:32  \t实验 1 模型 4 开始分片训练\r\n",
      "2023-01-16 23:20:46  Epoch 10 : MAE : 0.7355  RMSE : 2.0282  NMAE : 0.8004  MRE : 0.5936  NPRE : 2.5707\r\n",
      "2023-01-16 23:20:59  Epoch 20 : MAE : 0.7990  RMSE : 1.9871  NMAE : 0.8695  MRE : 0.6517  NPRE : 3.3132\r\n",
      "2023-01-16 23:20:59  Best epoch  9 : MAE : 0.7349  RMSE : 2.0336  NMAE : 0.7997  MRE : 0.5940  NPRE : 2.5925\r\n",
      "2023-01-16 23:20:59  实验 1 模型 4 training time = 3.29 s\r\n",
      "2023-01-16 23:20:59  Slice ID  4 : MAE = 0.7349, RMSE = 2.0336, NMAE = 0.7997, MRE = 0.5940, NPRE = 2.5925\r\n",
      "\r\n",
      "2023-01-16 23:20:59  \t实验 1 模型 5 开始分片训练\r\n",
      "2023-01-16 23:21:13  Epoch 10 : MAE : 0.7362  RMSE : 2.0232  NMAE : 0.8012  MRE : 0.5938  NPRE : 2.5443\r\n",
      "2023-01-16 23:21:27  Epoch 20 : MAE : 0.8064  RMSE : 1.9483  NMAE : 0.8775  MRE : 0.6597  NPRE : 3.5970\r\n",
      "2023-01-16 23:21:27  Best epoch  8 : MAE : 0.7346  RMSE : 2.0361  NMAE : 0.7994  MRE : 0.5941  NPRE : 2.5834\r\n",
      "2023-01-16 23:21:27  实验 1 模型 5 training time = 2.78 s\r\n",
      "2023-01-16 23:21:27  Slice ID  5 : MAE = 0.7346, RMSE = 2.0361, NMAE = 0.7994, MRE = 0.5941, NPRE = 2.5834\r\n",
      "\r\n",
      "2023-01-16 23:21:28  \t实验 1 模型 6 开始分片训练\r\n",
      "2023-01-16 23:21:43  Epoch 10 : MAE : 0.7448  RMSE : 2.0275  NMAE : 0.8105  MRE : 0.6016  NPRE : 2.7183\r\n",
      "2023-01-16 23:21:57  Epoch 20 : MAE : 0.8039  RMSE : 1.9966  NMAE : 0.8748  MRE : 0.6565  NPRE : 3.3456\r\n",
      "2023-01-16 23:21:57  Best epoch  8 : MAE : 0.7402  RMSE : 2.0396  NMAE : 0.8055  MRE : 0.6036  NPRE : 2.7536\r\n",
      "2023-01-16 23:21:57  实验 1 模型 6 training time = 3.52 s\r\n",
      "2023-01-16 23:21:57  Slice ID  6 : MAE = 0.7402, RMSE = 2.0396, NMAE = 0.8055, MRE = 0.6036, NPRE = 2.7536\r\n",
      "\r\n",
      "2023-01-16 23:21:57  \t实验 1 模型 7 开始分片训练\r\n",
      "2023-01-16 23:22:11  Epoch 10 : MAE : 0.7293  RMSE : 2.0339  NMAE : 0.7936  MRE : 0.5737  NPRE : 2.4225\r\n",
      "2023-01-16 23:22:25  Epoch 20 : MAE : 0.7838  RMSE : 1.9862  NMAE : 0.8530  MRE : 0.6252  NPRE : 3.0063\r\n",
      "2023-01-16 23:22:25  Best epoch 11 : MAE : 0.7289  RMSE : 2.0286  NMAE : 0.7932  MRE : 0.5727  NPRE : 2.3945\r\n",
      "2023-01-16 23:22:25  实验 1 模型 7 training time = 3.92 s\r\n",
      "2023-01-16 23:22:25  Slice ID  7 : MAE = 0.7289, RMSE = 2.0286, NMAE = 0.7932, MRE = 0.5727, NPRE = 2.3945\r\n",
      "\r\n",
      "2023-01-16 23:22:25  \t实验 1 模型 8 开始分片训练\r\n",
      "2023-01-16 23:22:39  Epoch 10 : MAE : 0.7341  RMSE : 2.0246  NMAE : 0.7989  MRE : 0.5918  NPRE : 2.5459\r\n",
      "2023-01-16 23:22:53  Epoch 20 : MAE : 0.7818  RMSE : 1.9544  NMAE : 0.8508  MRE : 0.6398  NPRE : 3.1549\r\n",
      "2023-01-16 23:22:53  Best epoch  9 : MAE : 0.7327  RMSE : 2.0317  NMAE : 0.7973  MRE : 0.5889  NPRE : 2.5516\r\n",
      "2023-01-16 23:22:53  实验 1 模型 8 training time = 3.24 s\r\n",
      "2023-01-16 23:22:53  Slice ID  8 : MAE = 0.7327, RMSE = 2.0317, NMAE = 0.7973, MRE = 0.5889, NPRE = 2.5516\r\n",
      "\r\n",
      "2023-01-16 23:22:53  \t实验 1 模型 9 开始分片训练\r\n",
      "2023-01-16 23:23:08  Epoch 10 : MAE : 0.7288  RMSE : 2.0268  NMAE : 0.7931  MRE : 0.5813  NPRE : 2.4443\r\n",
      "2023-01-16 23:23:21  Epoch 20 : MAE : 0.7810  RMSE : 1.9608  NMAE : 0.8499  MRE : 0.6318  NPRE : 3.0429\r\n",
      "2023-01-16 23:23:21  Best epoch 10 : MAE : 0.7288  RMSE : 2.0268  NMAE : 0.7931  MRE : 0.5813  NPRE : 2.4443\r\n",
      "2023-01-16 23:23:21  实验 1 模型 9 training time = 3.74 s\r\n",
      "2023-01-16 23:23:21  Slice ID  9 : MAE = 0.7288, RMSE = 2.0268, NMAE = 0.7931, MRE = 0.5813, NPRE = 2.4443\r\n",
      "\r\n",
      "2023-01-16 23:23:21  \t实验 1 模型 10 开始分片训练\r\n",
      "2023-01-16 23:23:35  Epoch 10 : MAE : 0.7356  RMSE : 2.0216  NMAE : 0.8005  MRE : 0.5892  NPRE : 2.6035\r\n",
      "2023-01-16 23:23:49  Epoch 20 : MAE : 0.7901  RMSE : 1.9784  NMAE : 0.8598  MRE : 0.6408  NPRE : 3.2461\r\n",
      "2023-01-16 23:23:49  Best epoch  8 : MAE : 0.7341  RMSE : 2.0336  NMAE : 0.7988  MRE : 0.5926  NPRE : 2.6896\r\n",
      "2023-01-16 23:23:49  实验 1 模型 10 training time = 2.89 s\r\n",
      "2023-01-16 23:23:49  Slice ID  10 : MAE = 0.7341, RMSE = 2.0336, NMAE = 0.7988, MRE = 0.5926, NPRE = 2.6896\r\n",
      "\r\n",
      "2023-01-16 23:23:49  \t所有切片模型训练完毕\r\n",
      "2023-01-16 23:23:49  \t开始训练聚合模型\r\n",
      "2023-01-16 23:23:52  Epoch  1 : MAE : 0.7217  RMSE : 2.0177  NMAE : 0.7854  MRE : 0.5795  NPRE : 2.5958\r\n",
      "2023-01-16 23:23:56  Epoch  2 : MAE : 0.7144  RMSE : 2.0153  NMAE : 0.7774  MRE : 0.5652  NPRE : 2.4507\r\n",
      "2023-01-16 23:23:59  Epoch  3 : MAE : 0.7091  RMSE : 2.0013  NMAE : 0.7717  MRE : 0.5625  NPRE : 2.4940\r\n",
      "2023-01-16 23:24:03  Epoch  4 : MAE : 0.7059  RMSE : 1.9984  NMAE : 0.7681  MRE : 0.5596  NPRE : 2.4167\r\n",
      "2023-01-16 23:24:07  Epoch  5 : MAE : 0.7043  RMSE : 1.9890  NMAE : 0.7664  MRE : 0.5627  NPRE : 2.5097\r\n",
      "2023-01-16 23:24:10  Epoch  6 : MAE : 0.7033  RMSE : 1.9844  NMAE : 0.7653  MRE : 0.5617  NPRE : 2.4727\r\n",
      "2023-01-16 23:24:14  Epoch  7 : MAE : 0.7016  RMSE : 1.9873  NMAE : 0.7635  MRE : 0.5520  NPRE : 2.3625\r\n",
      "2023-01-16 23:24:18  Epoch  8 : MAE : 0.7014  RMSE : 1.9767  NMAE : 0.7633  MRE : 0.5639  NPRE : 2.5663\r\n",
      "2023-01-16 23:24:21  Epoch  9 : MAE : 0.7003  RMSE : 1.9782  NMAE : 0.7621  MRE : 0.5568  NPRE : 2.4400\r\n",
      "2023-01-16 23:24:25  Epoch 10 : MAE : 0.6994  RMSE : 1.9834  NMAE : 0.7611  MRE : 0.5478  NPRE : 2.2849\r\n",
      "2023-01-16 23:24:25  Best epoch 10 : MAE : 0.6994  RMSE : 1.9834  NMAE : 0.7611  MRE : 0.5478  NPRE : 2.2849\r\n",
      "2023-01-16 23:24:25  \t实验 1 聚合模型训练完毕\r\n",
      "2023-01-16 23:24:33  Result : MAE : 0.6897  RMSE : 1.9652  NMAE : 0.7596  MRE : 0.5459  NPRE : 2.2762\r\n",
      "2023-01-16 23:24:33  \t实验 1 : Aggregators training time = 30.27 s\r\n",
      "\r\n",
      "2023-01-16 23:24:33  \t聚合模型训练完毕\r\n",
      "2023-01-16 23:24:33  Round 1 : MAE = 0.6897, RMSE = 1.9652, NMAE = 0.7596, MRE = 0.5459, NPRE = 2.2762\r\n",
      "\r\n",
      "------------------------------------------------------------------------------------------------------------------------\r\n",
      "2023-01-16 23:24:33  Dataset : rt     interaction : CSMF\r\n",
      "2023-01-16 23:24:33  Density : 10.00%, slice_epochs : 20, agg_epochs : 10\r\n",
      "2023-01-16 23:24:33  Part_type : 1,    slices : 10,       devices : gpu\r\n",
      "\r\n",
      "\r\n",
      "2023-01-16 23:24:33  Density 10.00% : MAE = 0.690, RMSE = 1.965, NMAE = 0.760, MRE = 0.546, NPRE = 2.276\r\n",
      "\r\n",
      "2023-01-16 23:24:33  Experiment success!\r\n"
     ]
    }
   ],
   "source": [
    "!python Experiment.py --dataset rt --interaction CSMF --rounds 1 --agg_epochs 10 --density 0.10 --part_type 1"
   ],
   "metadata": {
    "collapsed": false
   }
  },
  {
   "cell_type": "code",
   "execution_count": null,
   "outputs": [
    {
     "name": "stdout",
     "output_type": "stream",
     "text": [
      "2023-01-16 23:24:34  Namespace(agg_epochs=10, agg_function=3, agg_type='softmax', balance=0, batch_size=128, beta=1, cluster='deep', cuda=True, dataset='rt', debug=0, density=0.1, devices='gpu', dimension=32, dir='../Dataset/mnist', dropout=0.1, epoch=1500, hidden_dims=[64, 64, 100], input_dim=128, interaction='Pure_Mf', kmeans_type=1, lamda=1, latent_dim=10, log_interval=100, lr=0.0001, n_classes=10, n_clusters=10, n_jobs=1, node2vec=0, node2vec_batchsize=32, node2vec_dim=128, node2vec_epochs=20, node2vec_length=8, node2vec_walk=15, node2vec_windows=3, num_layers=2, order=2, part_iter=50, part_type=1, path='./datasets/data/WSDREAM/', pre_epoch=1000, pretrain=True, processed=0, retrain=0, rounds=1, save_model=1, slice_epochs=60, slices=10, subagg=1, verbose=10, wd=0.0005)\r\n",
      "2023-01-16 23:24:34  Experiment start!\r\n",
      "2023-01-16 23:24:34  Dataset : rt     interaction : Pure_Mf\r\n",
      "2023-01-16 23:24:34  Density : 10.00%, slice_epochs : 60, agg_epochs : 10\r\n",
      "2023-01-16 23:24:34  Part_type : 1,    slices : 10,       devices : gpu\r\n",
      "\r\n",
      "2023-01-16 23:24:34  Round 1 experiment start!\r\n",
      "2023-01-16 23:24:34  \t原始数据集读取完毕\r\n",
      "2023-01-16 23:24:35  \tSISA 切割完毕\r\n",
      "2023-01-16 23:24:35  \t分切数据执行完毕\r\n",
      "2023-01-16 23:24:37  \t模型加载完毕\r\n",
      "2023-01-16 23:24:37  \t准备训练切片模型\r\n",
      "2023-01-16 23:24:37  \t实验 1 模型 1 开始分片训练\r\n",
      "2023-01-16 23:24:44  Epoch 10 : MAE : 0.7550  RMSE : 2.0367  NMAE : 0.8396  MRE : 0.7025  NPRE : 3.6902\r\n",
      "2023-01-16 23:24:51  Epoch 20 : MAE : 0.7518  RMSE : 2.0471  NMAE : 0.8361  MRE : 0.6785  NPRE : 3.1926\r\n",
      "2023-01-16 23:24:57  Epoch 30 : MAE : 0.7534  RMSE : 2.0412  NMAE : 0.8378  MRE : 0.6928  NPRE : 3.4701\r\n",
      "2023-01-16 23:25:04  Epoch 40 : MAE : 0.7652  RMSE : 2.0441  NMAE : 0.8510  MRE : 0.7243  NPRE : 3.4786\r\n",
      "2023-01-16 23:25:10  Epoch 50 : MAE : 0.7932  RMSE : 2.0350  NMAE : 0.8821  MRE : 0.8203  NPRE : 4.3163\r\n",
      "2023-01-16 23:25:17  Epoch 60 : MAE : 0.8124  RMSE : 2.0330  NMAE : 0.9034  MRE : 0.8773  NPRE : 4.7279\r\n",
      "2023-01-16 23:25:17  Best epoch  8 : MAE : 0.7494  RMSE : 2.0455  NMAE : 0.8334  MRE : 0.6742  NPRE : 3.2416\r\n",
      "2023-01-16 23:25:17  实验 1 模型 1 training time = 1.39 s\r\n",
      "2023-01-16 23:25:17  Slice ID  1 : MAE = 0.7494, RMSE = 2.0455, NMAE = 0.8334, MRE = 0.6742, NPRE = 3.2416\r\n",
      "\r\n",
      "2023-01-16 23:25:17  \t实验 1 模型 2 开始分片训练\r\n",
      "2023-01-16 23:25:24  Epoch 10 : MAE : 0.7536  RMSE : 2.0454  NMAE : 0.8381  MRE : 0.6838  NPRE : 3.2876\r\n",
      "2023-01-16 23:25:33  Epoch 20 : MAE : 0.7547  RMSE : 2.0420  NMAE : 0.8393  MRE : 0.6921  NPRE : 3.4744\r\n",
      "2023-01-16 23:25:41  Epoch 30 : MAE : 0.7517  RMSE : 2.0473  NMAE : 0.8360  MRE : 0.6782  NPRE : 3.1650\r\n",
      "2023-01-16 23:25:48  Epoch 40 : MAE : 0.7609  RMSE : 2.0423  NMAE : 0.8462  MRE : 0.7124  NPRE : 3.5666\r\n",
      "2023-01-16 23:25:56  Epoch 50 : MAE : 0.7871  RMSE : 2.0388  NMAE : 0.8753  MRE : 0.8017  NPRE : 4.0503\r\n",
      "2023-01-16 23:26:04  Epoch 60 : MAE : 0.8025  RMSE : 2.0368  NMAE : 0.8925  MRE : 0.8528  NPRE : 4.4189\r\n",
      "2023-01-16 23:26:04  Best epoch 12 : MAE : 0.7494  RMSE : 2.0575  NMAE : 0.8335  MRE : 0.6526  NPRE : 2.6848\r\n",
      "2023-01-16 23:26:04  实验 1 模型 2 training time = 2.33 s\r\n",
      "2023-01-16 23:26:04  Slice ID  2 : MAE = 0.7494, RMSE = 2.0575, NMAE = 0.8335, MRE = 0.6526, NPRE = 2.6848\r\n",
      "\r\n",
      "2023-01-16 23:26:05  \t实验 1 模型 3 开始分片训练\r\n",
      "2023-01-16 23:26:12  Epoch 10 : MAE : 0.7567  RMSE : 2.0375  NMAE : 0.8415  MRE : 0.7052  NPRE : 3.7314\r\n",
      "2023-01-16 23:26:19  Epoch 20 : MAE : 0.7627  RMSE : 2.0447  NMAE : 0.8482  MRE : 0.7120  NPRE : 3.4234\r\n",
      "2023-01-16 23:26:26  Epoch 30 : MAE : 0.7557  RMSE : 2.0442  NMAE : 0.8404  MRE : 0.6930  NPRE : 3.3454\r\n",
      "2023-01-16 23:26:33  Epoch 40 : MAE : 0.7700  RMSE : 2.0407  NMAE : 0.8563  MRE : 0.7424  NPRE : 3.7429\r\n",
      "2023-01-16 23:26:40  Epoch 50 : MAE : 0.7859  RMSE : 2.0485  NMAE : 0.8740  MRE : 0.7960  NPRE : 3.6400\r\n",
      "2023-01-16 23:26:46  Epoch 60 : MAE : 0.8062  RMSE : 2.0386  NMAE : 0.8966  MRE : 0.8625  NPRE : 4.4454\r\n",
      "2023-01-16 23:26:46  Best epoch  8 : MAE : 0.7488  RMSE : 2.0505  NMAE : 0.8327  MRE : 0.6642  NPRE : 2.9900\r\n",
      "2023-01-16 23:26:46  实验 1 模型 3 training time = 1.57 s\r\n",
      "2023-01-16 23:26:46  Slice ID  3 : MAE = 0.7488, RMSE = 2.0505, NMAE = 0.8327, MRE = 0.6642, NPRE = 2.9900\r\n",
      "\r\n",
      "2023-01-16 23:26:47  \t实验 1 模型 4 开始分片训练\r\n",
      "2023-01-16 23:26:54  Epoch 10 : MAE : 0.7588  RMSE : 2.0333  NMAE : 0.8439  MRE : 0.7173  NPRE : 3.9171\r\n",
      "2023-01-16 23:27:00  Epoch 20 : MAE : 0.7548  RMSE : 2.0373  NMAE : 0.8394  MRE : 0.7026  NPRE : 3.6849\r\n",
      "2023-01-16 23:27:07  Epoch 30 : MAE : 0.7567  RMSE : 2.0494  NMAE : 0.8416  MRE : 0.6905  NPRE : 3.1131\r\n",
      "2023-01-16 23:27:14  Epoch 40 : MAE : 0.7640  RMSE : 2.0360  NMAE : 0.8497  MRE : 0.7264  NPRE : 3.8344\r\n",
      "2023-01-16 23:27:20  Epoch 50 : MAE : 0.7744  RMSE : 2.0398  NMAE : 0.8612  MRE : 0.7590  NPRE : 3.8489\r\n",
      "2023-01-16 23:27:27  Epoch 60 : MAE : 0.8126  RMSE : 2.0335  NMAE : 0.9037  MRE : 0.8791  NPRE : 4.6929\r\n",
      "2023-01-16 23:27:27  Best epoch 19 : MAE : 0.7475  RMSE : 2.0490  NMAE : 0.8313  MRE : 0.6636  NPRE : 3.0386\r\n",
      "2023-01-16 23:27:27  实验 1 模型 4 training time = 3.36 s\r\n",
      "2023-01-16 23:27:27  Slice ID  4 : MAE = 0.7475, RMSE = 2.0490, NMAE = 0.8313, MRE = 0.6636, NPRE = 3.0386\r\n",
      "\r\n",
      "2023-01-16 23:27:27  \t实验 1 模型 5 开始分片训练\r\n",
      "2023-01-16 23:27:34  Epoch 10 : MAE : 0.7539  RMSE : 2.0423  NMAE : 0.8384  MRE : 0.6903  NPRE : 3.4173\r\n",
      "2023-01-16 23:27:41  Epoch 20 : MAE : 0.7608  RMSE : 2.0437  NMAE : 0.8461  MRE : 0.7089  NPRE : 3.4248\r\n",
      "2023-01-16 23:27:48  Epoch 30 : MAE : 0.7592  RMSE : 2.0425  NMAE : 0.8443  MRE : 0.7059  NPRE : 3.4835\r\n",
      "2023-01-16 23:27:55  Epoch 40 : MAE : 0.7640  RMSE : 2.0353  NMAE : 0.8497  MRE : 0.7281  NPRE : 3.8832\r\n",
      "2023-01-16 23:28:02  Epoch 50 : MAE : 0.7878  RMSE : 2.0320  NMAE : 0.8761  MRE : 0.8036  NPRE : 4.4241\r\n",
      "2023-01-16 23:28:09  Epoch 60 : MAE : 0.7992  RMSE : 2.0370  NMAE : 0.8888  MRE : 0.8381  NPRE : 4.3749\r\n",
      "2023-01-16 23:28:09  Best epoch 18 : MAE : 0.7494  RMSE : 2.0333  NMAE : 0.8335  MRE : 0.7010  NPRE : 3.8097\r\n",
      "2023-01-16 23:28:09  实验 1 模型 5 training time = 3.32 s\r\n",
      "2023-01-16 23:28:09  Slice ID  5 : MAE = 0.7494, RMSE = 2.0333, NMAE = 0.8335, MRE = 0.7010, NPRE = 3.8097\r\n",
      "\r\n",
      "2023-01-16 23:28:09  \t实验 1 模型 6 开始分片训练\r\n",
      "2023-01-16 23:28:16  Epoch 10 : MAE : 0.7561  RMSE : 2.0324  NMAE : 0.8408  MRE : 0.7125  NPRE : 3.8886\r\n",
      "2023-01-16 23:28:23  Epoch 20 : MAE : 0.7510  RMSE : 2.0360  NMAE : 0.8352  MRE : 0.6943  NPRE : 3.6908\r\n",
      "2023-01-16 23:28:34  Epoch 30 : MAE : 0.7566  RMSE : 2.0463  NMAE : 0.8414  MRE : 0.6918  NPRE : 3.2696\r\n",
      "2023-01-16 23:28:41  Epoch 40 : MAE : 0.7674  RMSE : 2.0476  NMAE : 0.8535  MRE : 0.7276  NPRE : 3.3364\r\n",
      "2023-01-16 23:28:49  Epoch 50 : MAE : 0.7768  RMSE : 2.0361  NMAE : 0.8639  MRE : 0.7673  NPRE : 4.0526\r\n",
      "2023-01-16 23:28:56  Epoch 60 : MAE : 0.7936  RMSE : 2.0349  NMAE : 0.8826  MRE : 0.8252  NPRE : 4.3456\r\n",
      "2023-01-16 23:28:56  Best epoch 25 : MAE : 0.7489  RMSE : 2.0438  NMAE : 0.8328  MRE : 0.6753  NPRE : 3.3129\r\n",
      "2023-01-16 23:28:56  实验 1 模型 6 training time = 4.77 s\r\n",
      "2023-01-16 23:28:56  Slice ID  6 : MAE = 0.7489, RMSE = 2.0438, NMAE = 0.8328, MRE = 0.6753, NPRE = 3.3129\r\n",
      "\r\n",
      "2023-01-16 23:28:56  \t实验 1 模型 7 开始分片训练\r\n",
      "2023-01-16 23:29:03  Epoch 10 : MAE : 0.7553  RMSE : 2.0508  NMAE : 0.8400  MRE : 0.6829  NPRE : 3.0521\r\n",
      "2023-01-16 23:29:13  Epoch 20 : MAE : 0.7515  RMSE : 2.0423  NMAE : 0.8358  MRE : 0.6860  NPRE : 3.3943\r\n",
      "2023-01-16 23:29:21  Epoch 30 : MAE : 0.7627  RMSE : 2.0498  NMAE : 0.8482  MRE : 0.7081  NPRE : 3.1901\r\n",
      "2023-01-16 23:29:28  Epoch 40 : MAE : 0.7710  RMSE : 2.0457  NMAE : 0.8575  MRE : 0.7409  NPRE : 3.5305\r\n",
      "2023-01-16 23:29:35  Epoch 50 : MAE : 0.7887  RMSE : 2.0370  NMAE : 0.8771  MRE : 0.8036  NPRE : 4.2298\r\n",
      "2023-01-16 23:29:42  Epoch 60 : MAE : 0.8126  RMSE : 2.0353  NMAE : 0.9037  MRE : 0.8747  NPRE : 4.6957\r\n",
      "2023-01-16 23:29:42  Best epoch 12 : MAE : 0.7502  RMSE : 2.0483  NMAE : 0.8343  MRE : 0.6720  NPRE : 3.0820\r\n",
      "2023-01-16 23:29:42  实验 1 模型 7 training time = 2.42 s\r\n",
      "2023-01-16 23:29:42  Slice ID  7 : MAE = 0.7502, RMSE = 2.0483, NMAE = 0.8343, MRE = 0.6720, NPRE = 3.0820\r\n",
      "\r\n",
      "2023-01-16 23:29:42  \t实验 1 模型 8 开始分片训练\r\n"
     ]
    }
   ],
   "source": [
    "!python Experiment.py --dataset rt --interaction Pure_Mf --rounds 1 --agg_epochs 10 --density 0.10 --part_type 1"
   ],
   "metadata": {
    "collapsed": false
   }
  },
  {
   "cell_type": "code",
   "execution_count": null,
   "outputs": [],
   "source": [
    "!python Experiment.py --dataset rt --interaction GraphMF --slice_epochs 15 --rounds 1 --agg_epochs 1 --density 0.10 --part_type 1"
   ],
   "metadata": {
    "collapsed": false
   }
  },
  {
   "cell_type": "markdown",
   "source": [
    "## Dataset : tp"
   ],
   "metadata": {
    "collapsed": false
   }
  },
  {
   "cell_type": "markdown",
   "source": [
    "# Desity = 0.10"
   ],
   "metadata": {
    "collapsed": false
   }
  },
  {
   "cell_type": "code",
   "execution_count": null,
   "outputs": [],
   "source": [
    "!python Experiment.py --dataset tp --interaction NeuCF --rounds 1 --agg_epochs 5 --density 0.10 --part_type 1"
   ],
   "metadata": {
    "collapsed": false
   }
  },
  {
   "cell_type": "code",
   "execution_count": null,
   "outputs": [],
   "source": [
    "!python Experiment.py --dataset tp --interaction CSMF --rounds 1 --agg_epochs 10 --density 0.10 --part_type 1"
   ],
   "metadata": {
    "collapsed": false
   }
  },
  {
   "cell_type": "code",
   "execution_count": null,
   "outputs": [],
   "source": [
    "!python Experiment.py --dataset tp --interaction Pure_Mf --rounds 1 --agg_epochs 10 --density 0.10 --part_type 1"
   ],
   "metadata": {
    "collapsed": false
   }
  },
  {
   "cell_type": "code",
   "execution_count": null,
   "outputs": [],
   "source": [
    "!python Experiment.py --dataset tp --interaction GraphMF --slice_epochs 15 --rounds 1 --agg_epochs 1 --density 0.10 --part_type 1"
   ],
   "metadata": {
    "collapsed": false
   }
  }
 ],
 "metadata": {
  "kernelspec": {
   "display_name": "Python 3",
   "language": "python",
   "name": "python3"
  },
  "language_info": {
   "codemirror_mode": {
    "name": "ipython",
    "version": 2
   },
   "file_extension": ".py",
   "mimetype": "text/x-python",
   "name": "python",
   "nbconvert_exporter": "python",
   "pygments_lexer": "ipython2",
   "version": "2.7.6"
  }
 },
 "nbformat": 4,
 "nbformat_minor": 0
}
