{
 "cells": [
  {
   "cell_type": "code",
   "execution_count": 1,
   "metadata": {
    "collapsed": true
   },
   "outputs": [
    {
     "name": "stdout",
     "output_type": "stream",
     "text": [
      "torch.Size([50, 49, 512])\n"
     ]
    }
   ],
   "source": [
    "import numpy as np\n",
    "import torch\n",
    "from torch import nn\n",
    "from torch.nn import init\n",
    "\n",
    "\n",
    "class ExternalAttention(nn.Module):\n",
    "\n",
    "    def __init__(self, d_model,S = 64):\n",
    "        super().__init__()\n",
    "        self.mk=nn.Linear(d_model, S, bias=False)\n",
    "        self.mv=nn.Linear(S, d_model, bias=False)\n",
    "        self.softmax=nn.Softmax(dim=1)\n",
    "        self.init_weights()\n",
    "\n",
    "\n",
    "    def init_weights(self):\n",
    "        for m in self.modules():\n",
    "            if isinstance(m, nn.Conv2d):\n",
    "                init.kaiming_normal_(m.weight, mode='fan_out')\n",
    "                if m.bias is not None:\n",
    "                    init.constant_(m.bias, 0)\n",
    "            elif isinstance(m, nn.BatchNorm2d):\n",
    "                init.constant_(m.weight, 1)\n",
    "                init.constant_(m.bias, 0)\n",
    "            elif isinstance(m, nn.Linear):\n",
    "                init.normal_(m.weight, std=0.001)\n",
    "                if m.bias is not None:\n",
    "                    init.constant_(m.bias, 0)\n",
    "\n",
    "    def forward(self, queries):\n",
    "        attn=self.mk(queries) #bs,n,S\n",
    "        attn=self.softmax(attn) #bs,n,S\n",
    "        attn=attn/torch.sum(attn,dim=2,keepdim=True) #bs,n,S\n",
    "        out=self.mv(attn) #bs,n,d_model\n",
    "\n",
    "        return out\n",
    "\n",
    "\n",
    "input=torch.randn(50, 49, 512)\n",
    "ea = ExternalAttention(d_model=512,S=8)\n",
    "output=ea(input)\n",
    "print(output.shape)"
   ]
  }
 ],
 "metadata": {
  "kernelspec": {
   "display_name": "Python 3",
   "language": "python",
   "name": "python3"
  },
  "language_info": {
   "codemirror_mode": {
    "name": "ipython",
    "version": 2
   },
   "file_extension": ".py",
   "mimetype": "text/x-python",
   "name": "python",
   "nbconvert_exporter": "python",
   "pygments_lexer": "ipython2",
   "version": "2.7.6"
  }
 },
 "nbformat": 4,
 "nbformat_minor": 0
}
