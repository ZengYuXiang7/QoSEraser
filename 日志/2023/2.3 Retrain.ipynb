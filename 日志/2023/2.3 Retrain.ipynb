{
 "cells": [
  {
   "cell_type": "code",
   "execution_count": null,
   "outputs": [],
   "source": [
    "!python Retrain.py --dataset rt --interaction NeuCF --rounds 1 --density 0.20"
   ],
   "metadata": {
    "collapsed": false
   }
  },
  {
   "cell_type": "code",
   "execution_count": null,
   "outputs": [],
   "source": [
    "!python Retrain.py --dataset tp --interaction NeuCF --rounds 1 --density 0.20"
   ],
   "metadata": {
    "collapsed": false
   }
  },
  {
   "cell_type": "code",
   "execution_count": null,
   "outputs": [],
   "source": [
    "!python Retrain.py --dataset rt --interaction CSMF --rounds 1 --density 0.20"
   ],
   "metadata": {
    "collapsed": false
   }
  },
  {
   "cell_type": "code",
   "execution_count": null,
   "outputs": [],
   "source": [
    "!python Retrain.py --dataset tp --interaction CSMF --rounds 1 --density 0.20"
   ],
   "metadata": {
    "collapsed": false
   }
  },
  {
   "cell_type": "code",
   "execution_count": null,
   "outputs": [],
   "source": [
    "!python Retrain.py --dataset rt --interaction Pure_Mf --rounds 1 --density 0.20"
   ],
   "metadata": {
    "collapsed": false
   }
  },
  {
   "cell_type": "code",
   "execution_count": null,
   "outputs": [],
   "source": [
    "!python Retrain.py --dataset tp --interaction Pure_Mf --rounds 1 --density 0.20"
   ],
   "metadata": {
    "collapsed": false
   }
  },
  {
   "cell_type": "code",
   "execution_count": null,
   "outputs": [],
   "source": [
    "!python Retrain.py --dataset rt --interaction GraphMF --rounds 1 --density 0.20"
   ],
   "metadata": {
    "collapsed": false
   }
  },
  {
   "cell_type": "code",
   "execution_count": 1,
   "outputs": [
    {
     "name": "stdout",
     "output_type": "stream",
     "text": [
      "2023-02-08 17:44:20  Experiment start!\r\n",
      "2023-02-08 17:44:20  Namespace(agg_epochs=100, batch_size=128, dataset='tp', debug=0, density=0.1, devices='gpu', dimension=32, dropout=0.1, interaction='GraphMF', num_layers=2, order=2, part_type=10, path='./datasets/data/WSDREAM/', processed=0, random_state=1001, record=0, retrain=1, rounds=1, save_model=1, slice=1, slice_decay=0.001, slice_epochs=100, slice_lr=0.001, slices=1, verbose=1)\r\n",
      "2023-02-08 17:44:20  Dataset : tp     interaction : GraphMF\r\n",
      "2023-02-08 17:44:20  Density : 10.00%, epochs : 15\r\n",
      "\r\n",
      "2023-02-08 17:44:20  Round 1 experiment start!\r\n",
      "2023-02-08 17:44:20  \t原始数据集读取完毕\r\n",
      "2023-02-08 17:44:20  \t分切数据执行完毕\r\n",
      "2023-02-08 17:44:26  \t模型加载完毕\r\n",
      "2023-02-08 17:44:32  Epoch  1 : MAE : 23.5920  RMSE : 65.4004  NMAE : 0.4965  MRE : 0.4079  NPRE : 1.4652\r\n",
      "2023-02-08 17:44:38  Epoch  2 : MAE : 21.6291  RMSE : 63.0428  NMAE : 0.4552  MRE : 0.4179  NPRE : 1.9797\r\n",
      "2023-02-08 17:44:44  Epoch  3 : MAE : 17.1516  RMSE : 53.6459  NMAE : 0.3609  MRE : 0.2670  NPRE : 1.1832\r\n",
      "2023-02-08 17:44:50  Epoch  4 : MAE : 16.0182  RMSE : 51.7106  NMAE : 0.3371  MRE : 0.2479  NPRE : 1.1547\r\n",
      "2023-02-08 17:44:55  Epoch  5 : MAE : 14.8706  RMSE : 48.4032  NMAE : 0.3129  MRE : 0.2203  NPRE : 1.0254\r\n",
      "2023-02-08 17:45:01  Epoch  6 : MAE : 13.8041  RMSE : 45.9485  NMAE : 0.2905  MRE : 0.2014  NPRE : 1.0603\r\n",
      "2023-02-08 17:45:07  Epoch  7 : MAE : 13.6886  RMSE : 45.8272  NMAE : 0.2881  MRE : 0.2021  NPRE : 1.0046\r\n",
      "2023-02-08 17:45:13  Epoch  8 : MAE : 13.4270  RMSE : 45.5315  NMAE : 0.2826  MRE : 0.1906  NPRE : 0.8717\r\n",
      "2023-02-08 17:45:19  Epoch  9 : MAE : 13.3689  RMSE : 45.3853  NMAE : 0.2813  MRE : 0.1903  NPRE : 0.8106\r\n",
      "2023-02-08 17:45:27  Epoch 10 : MAE : 13.2703  RMSE : 45.1742  NMAE : 0.2793  MRE : 0.1889  NPRE : 0.8799\r\n",
      "2023-02-08 17:45:35  Epoch 11 : MAE : 12.9207  RMSE : 44.7601  NMAE : 0.2719  MRE : 0.1768  NPRE : 0.8417\r\n",
      "2023-02-08 17:45:41  Epoch 12 : MAE : 12.8834  RMSE : 44.5096  NMAE : 0.2711  MRE : 0.1765  NPRE : 0.8442\r\n",
      "2023-02-08 17:45:46  Epoch 13 : MAE : 12.9034  RMSE : 44.7534  NMAE : 0.2715  MRE : 0.1779  NPRE : 0.8647\r\n",
      "2023-02-08 17:45:52  Epoch 14 : MAE : 12.8469  RMSE : 44.6387  NMAE : 0.2703  MRE : 0.1766  NPRE : 0.8314\r\n",
      "2023-02-08 17:45:57  Epoch 15 : MAE : 12.9105  RMSE : 44.7115  NMAE : 0.2717  MRE : 0.1770  NPRE : 0.8250\r\n",
      "2023-02-08 17:45:57  Best epoch 14 : MAE : 12.8469  RMSE : 44.6387  NMAE : 0.2703  MRE : 0.1766  NPRE : 0.8314\r\n",
      "2023-02-08 17:45:57  \t Retrain 测试模型\r\n",
      "100%|███████████████████████████████████████████| 12/12 [00:02<00:00,  4.14it/s]\r\n",
      "2023-02-08 17:46:00  Result : MAE : 12.8469  RMSE : 44.6387  NMAE : 0.2703  MRE : 0.1766  NPRE : 0.8314\r\n",
      "\r\n",
      "2023-02-08 17:46:00  Round  1 : MAE = 12.8469, RMSE = 44.6387, NMAE = 0.2703, MRE = 0.1766, NPRE = 0.8314 train_time = 43.10 s\r\n",
      "------------------------------------------------------------------------------------------------------------------------\r\n",
      "2023-02-08 17:46:00  Dataset : tp     interaction : GraphMF\r\n",
      "2023-02-08 17:46:00  Density : 10.00%, slice_epochs : 15\r\n",
      "2023-02-08 17:46:00  Part_type : 10,    slices : 1,       devices : gpu\r\n",
      "\r\n",
      "\r\n",
      "2023-02-08 17:46:00  Density 10.00% : MAE = 12.847, RMSE = 44.639, NMAE = 0.270, MRE = 0.177, NPRE = 0.831\r\n",
      "\r\n",
      "2023-02-08 17:46:00  Experiment success!\r\n",
      "\r\n"
     ]
    }
   ],
   "source": [
    "!python Retrain.py --dataset tp --interaction GraphMF --rounds 1 --density 0.10 --record 0"
   ],
   "metadata": {
    "collapsed": false
   }
  }
 ],
 "metadata": {
  "kernelspec": {
   "display_name": "Python 3",
   "language": "python",
   "name": "python3"
  },
  "language_info": {
   "codemirror_mode": {
    "name": "ipython",
    "version": 2
   },
   "file_extension": ".py",
   "mimetype": "text/x-python",
   "name": "python",
   "nbconvert_exporter": "python",
   "pygments_lexer": "ipython2",
   "version": "2.7.6"
  }
 },
 "nbformat": 4,
 "nbformat_minor": 0
}
