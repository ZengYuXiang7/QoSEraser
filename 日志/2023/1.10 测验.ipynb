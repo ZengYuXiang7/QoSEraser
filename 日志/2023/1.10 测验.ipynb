{
 "cells": [
  {
   "cell_type": "code",
   "execution_count": null,
   "outputs": [],
   "source": [
    "!python Experiment.py --dataset rt --interaction NeuCF --rounds 1 --agg_epochs 7 --density 0.10 --part_type 2 --processed 0 --debug 1"
   ],
   "metadata": {
    "collapsed": false
   }
  },
  {
   "cell_type": "code",
   "execution_count": 24,
   "outputs": [
    {
     "name": "stdout",
     "output_type": "stream",
     "text": [
      "2023-01-12 01:21:38  Namespace(agg_epochs=10, agg_function=3, agg_type='softmax', balance=0, batch_size=128, beta=1, cluster='deep', cuda=True, dataset='rt', debug=1, density=0.1, devices='gpu', dimension=64, dir='../Dataset/mnist', dropout=0.1, epoch=1500, hidden_dims=[64, 64, 100], input_dim=128, interaction='NeuCF', kmeans_type=1, lamda=1, latent_dim=10, log_interval=100, lr=0.0001, n_classes=10, n_clusters=10, n_jobs=1, node2vec=0, node2vec_batchsize=32, node2vec_dim=128, node2vec_epochs=20, node2vec_length=8, node2vec_walk=15, node2vec_windows=3, num_layers=2, order=2, part_iter=50, part_type=4, path='./datasets/data/WSDREAM/', pre_epoch=1000, pretrain=True, processed=0, retrain=0, rounds=1, save_model=1, slice_epochs=200, slices=10, subagg=1, verbose=10, wd=0.0005)\r\n",
      "2023-01-12 01:21:38  Experiment start!\r\n",
      "2023-01-12 01:21:38  Dataset : rt     interaction : NeuCF\r\n",
      "2023-01-12 01:21:38  Density : 10.00%, slice_epochs : 200, agg_epochs : 10\r\n",
      "2023-01-12 01:21:38  Part_type : 4,    slices : 10,       devices : gpu\r\n",
      "\r\n",
      "2023-01-12 01:21:38  Round 1 experiment start!\r\n",
      "2023-01-12 01:21:38  \t原始数据集读取完毕\r\n",
      "2023-01-12 01:21:39  \t图嵌入非均衡切割\r\n",
      "Computing transition probabilities: 100%|███| 507/507 [00:00<00:00, 5573.79it/s]\r\n",
      "Generating walks (CPU: 1): 100%|█████████████████| 4/4 [00:00<00:00, 131.41it/s]\r\n",
      "Generating walks (CPU: 2): 100%|█████████████████| 4/4 [00:00<00:00, 132.10it/s]\r\n",
      "Generating walks (CPU: 3): 100%|█████████████████| 4/4 [00:00<00:00, 134.59it/s]\r\n",
      "Generating walks (CPU: 4): 100%|█████████████████| 3/3 [00:00<00:00, 138.06it/s]\r\n",
      "========== Start pretraining ==========\r\n",
      "100%|██████████████████████████████████████| 1000/1000 [00:03<00:00, 253.47it/s]\r\n",
      "100%|███████████████████████████████████████| 1500/1500 [01:10<00:00, 21.28it/s]\r\n",
      "========== End pretraining ==========\r\n",
      "--------------------------------------------------------------------------------\r\n",
      "{1: 54, 3: 51, 0: 99, 9: 24, 2: 45, 7: 6, 6: 8, 8: 31, 5: 4, 4: 17}\r\n",
      "{1: 54, 3: 51, 0: 99, 9: 24, 2: 45, 7: 6, 6: 8, 8: 31, 5: 4, 4: 17}\r\n",
      "2023-01-12 01:22:57  \tNode2Vec 基于用户聚类非均衡切割完毕\r\n",
      "2023-01-12 01:22:57  \t分切数据执行完毕\r\n",
      "2023-01-12 01:22:57  \t模型加载完毕\r\n",
      "2023-01-12 01:22:57  \t准备训练切片模型\r\n",
      "2023-01-12 01:22:57  \t实验 1 模型 1 开始分片训练\r\n",
      "2023-01-12 01:23:11  Epoch 10 : MAE : 0.5336  RMSE : 1.5025  NMAE : 0.6516  MRE : 0.4685  NPRE : 1.6842\r\n",
      "2023-01-12 01:23:24  Epoch 20 : MAE : 0.4557  RMSE : 1.3060  NMAE : 0.5565  MRE : 0.4011  NPRE : 2.0655\r\n",
      "2023-01-12 01:23:38  Epoch 30 : MAE : 0.4151  RMSE : 1.2321  NMAE : 0.5069  MRE : 0.3463  NPRE : 1.7952\r\n",
      "2023-01-12 01:23:52  Epoch 40 : MAE : 0.3770  RMSE : 1.1501  NMAE : 0.4604  MRE : 0.3151  NPRE : 1.0001\r\n",
      "2023-01-12 01:24:05  Epoch 50 : MAE : 0.3349  RMSE : 1.0781  NMAE : 0.4089  MRE : 0.2527  NPRE : 1.0000\r\n",
      "2023-01-12 01:24:19  Epoch 60 : MAE : 0.3036  RMSE : 1.0100  NMAE : 0.3708  MRE : 0.2093  NPRE : 0.8589\r\n",
      "2023-01-12 01:24:33  Epoch 70 : MAE : 0.2786  RMSE : 0.9659  NMAE : 0.3402  MRE : 0.1859  NPRE : 0.7590\r\n",
      "2023-01-12 01:24:33  Epoch 70 : MAE : 0.2786  RMSE : 0.9659  NMAE : 0.3402  MRE : 0.1859  NPRE : 0.7590\r\n",
      "2023-01-12 01:24:33  实验 1 模型 1 training time = 66.79 s\r\n",
      "2023-01-12 01:24:33  Slice ID  1 : MAE = 0.2786, RMSE = 0.9659, NMAE = 0.3402, MRE = 0.1859, NPRE = 0.7590\r\n",
      "\r\n",
      "2023-01-12 01:24:33  \t实验 1 模型 2 开始分片训练\r\n",
      "2023-01-12 01:24:40  Epoch 10 : MAE : 0.6025  RMSE : 1.6252  NMAE : 0.7597  MRE : 0.5476  NPRE : 2.4471\r\n",
      "2023-01-12 01:24:48  Epoch 20 : MAE : 0.4704  RMSE : 1.2850  NMAE : 0.5931  MRE : 0.4452  NPRE : 1.8325\r\n",
      "2023-01-12 01:24:56  Epoch 30 : MAE : 0.4130  RMSE : 1.1605  NMAE : 0.5208  MRE : 0.3986  NPRE : 1.3397\r\n",
      "2023-01-12 01:25:03  Epoch 40 : MAE : 0.3859  RMSE : 1.0977  NMAE : 0.4865  MRE : 0.3545  NPRE : 1.5207\r\n",
      "2023-01-12 01:25:11  Epoch 50 : MAE : 0.3568  RMSE : 1.0288  NMAE : 0.4499  MRE : 0.3308  NPRE : 1.1497\r\n",
      "2023-01-12 01:25:12  Epoch 51 : MAE : 0.3485  RMSE : 1.0219  NMAE : 0.4394  MRE : 0.3100  NPRE : 1.0897\r\n",
      "2023-01-12 01:25:12  实验 1 模型 2 training time = 27.17 s\r\n",
      "2023-01-12 01:25:12  Slice ID  2 : MAE = 0.3485, RMSE = 1.0219, NMAE = 0.4394, MRE = 0.3100, NPRE = 1.0897\r\n",
      "\r\n",
      "2023-01-12 01:25:12  \t实验 1 模型 3 开始分片训练\r\n",
      "2023-01-12 01:25:18  Epoch 10 : MAE : 0.6268  RMSE : 1.7331  NMAE : 0.7815  MRE : 0.5614  NPRE : 2.8331\r\n",
      "2023-01-12 01:25:25  Epoch 20 : MAE : 0.4980  RMSE : 1.3835  NMAE : 0.6209  MRE : 0.4935  NPRE : 2.4011\r\n",
      "2023-01-12 01:25:31  Epoch 30 : MAE : 0.4379  RMSE : 1.2180  NMAE : 0.5459  MRE : 0.4423  NPRE : 1.9782\r\n",
      "2023-01-12 01:25:34  Epoch 34 : MAE : 0.4122  RMSE : 1.1690  NMAE : 0.5139  MRE : 0.4131  NPRE : 1.7601\r\n",
      "2023-01-12 01:25:34  实验 1 模型 3 training time = 14.98 s\r\n",
      "2023-01-12 01:25:34  Slice ID  3 : MAE = 0.4122, RMSE = 1.1690, NMAE = 0.5139, MRE = 0.4131, NPRE = 1.7601\r\n",
      "\r\n",
      "2023-01-12 01:25:34  \t实验 1 模型 4 开始分片训练\r\n",
      "2023-01-12 01:25:41  Epoch 10 : MAE : 0.6470  RMSE : 1.7601  NMAE : 0.7336  MRE : 0.5414  NPRE : 2.0597\r\n",
      "2023-01-12 01:25:48  Epoch 20 : MAE : 0.5237  RMSE : 1.4171  NMAE : 0.5938  MRE : 0.4956  NPRE : 2.4021\r\n",
      "2023-01-12 01:25:55  Epoch 30 : MAE : 0.4418  RMSE : 1.2311  NMAE : 0.5009  MRE : 0.4040  NPRE : 1.8221\r\n",
      "2023-01-12 01:26:02  Epoch 40 : MAE : 0.3996  RMSE : 1.1246  NMAE : 0.4531  MRE : 0.3702  NPRE : 1.2230\r\n",
      "2023-01-12 01:26:11  Epoch 50 : MAE : 0.3655  RMSE : 1.0504  NMAE : 0.4144  MRE : 0.3257  NPRE : 1.0126\r\n",
      "2023-01-12 01:26:11  Epoch 51 : MAE : 0.3692  RMSE : 1.0461  NMAE : 0.4186  MRE : 0.3323  NPRE : 1.5643\r\n",
      "2023-01-12 01:26:11  实验 1 模型 4 training time = 26.36 s\r\n",
      "2023-01-12 01:26:11  Slice ID  4 : MAE = 0.3692, RMSE = 1.0461, NMAE = 0.4186, MRE = 0.3323, NPRE = 1.5643\r\n",
      "\r\n",
      "2023-01-12 01:26:11  \t实验 1 模型 5 开始分片训练\r\n",
      "2023-01-12 01:26:14  Epoch 10 : MAE : 0.6408  RMSE : 1.7121  NMAE : 0.9254  MRE : 0.6109  NPRE : 2.6467\r\n",
      "2023-01-12 01:26:16  Epoch 20 : MAE : 0.5278  RMSE : 1.4272  NMAE : 0.7623  MRE : 0.5221  NPRE : 2.3407\r\n",
      "2023-01-12 01:26:18  Epoch 30 : MAE : 0.4451  RMSE : 1.1786  NMAE : 0.6428  MRE : 0.4712  NPRE : 1.7477\r\n",
      "2023-01-12 01:26:19  Epoch 31 : MAE : 0.4442  RMSE : 1.1851  NMAE : 0.6415  MRE : 0.4789  NPRE : 1.4322\r\n",
      "2023-01-12 01:26:19  实验 1 模型 5 training time = 4.98 s\r\n",
      "2023-01-12 01:26:19  Slice ID  5 : MAE = 0.4442, RMSE = 1.1851, NMAE = 0.6415, MRE = 0.4789, NPRE = 1.4322\r\n",
      "\r\n",
      "2023-01-12 01:26:19  \t实验 1 模型 6 开始分片训练\r\n",
      "2023-01-12 01:26:19  Epoch 10 : MAE : 0.5453  RMSE : 1.6247  NMAE : 1.0090  MRE : 0.7673  NPRE : 1.7729\r\n",
      "2023-01-12 01:26:20  Epoch 20 : MAE : 0.4850  RMSE : 1.5594  NMAE : 0.8975  MRE : 0.5716  NPRE : 1.9350\r\n",
      "2023-01-12 01:26:20  Epoch 30 : MAE : 0.4414  RMSE : 1.4575  NMAE : 0.8168  MRE : 0.5650  NPRE : 1.4704\r\n",
      "2023-01-12 01:26:21  Epoch 34 : MAE : 0.4340  RMSE : 1.3828  NMAE : 0.8030  MRE : 0.5719  NPRE : 1.8767\r\n",
      "2023-01-12 01:26:21  实验 1 模型 6 training time = 1.37 s\r\n",
      "2023-01-12 01:26:21  Slice ID  6 : MAE = 0.4340, RMSE = 1.3828, NMAE = 0.8030, MRE = 0.5719, NPRE = 1.8767\r\n",
      "\r\n",
      "2023-01-12 01:26:21  \t实验 1 模型 7 开始分片训练\r\n",
      "2023-01-12 01:26:22  Epoch 10 : MAE : 0.5154  RMSE : 1.5827  NMAE : 0.9335  MRE : 0.6082  NPRE : 1.7226\r\n",
      "2023-01-12 01:26:22  Epoch 13 : MAE : 0.5223  RMSE : 1.5491  NMAE : 0.9459  MRE : 0.6303  NPRE : 3.2438\r\n",
      "2023-01-12 01:26:22  实验 1 模型 7 training time = 0.98 s\r\n",
      "2023-01-12 01:26:22  Slice ID  7 : MAE = 0.5223, RMSE = 1.5491, NMAE = 0.9459, MRE = 0.6303, NPRE = 3.2438\r\n",
      "\r\n",
      "2023-01-12 01:26:22  \t实验 1 模型 8 开始分片训练\r\n",
      "2023-01-12 01:26:23  Epoch 10 : MAE : 0.8153  RMSE : 1.8483  NMAE : 0.7768  MRE : 0.6384  NPRE : 4.6027\r\n",
      "2023-01-12 01:26:24  Epoch 20 : MAE : 0.6207  RMSE : 1.5777  NMAE : 0.5914  MRE : 0.5534  NPRE : 2.5019\r\n",
      "2023-01-12 01:26:25  Epoch 30 : MAE : 0.5429  RMSE : 1.3781  NMAE : 0.5173  MRE : 0.5074  NPRE : 2.2130\r\n",
      "2023-01-12 01:26:26  Epoch 40 : MAE : 0.4514  RMSE : 1.1510  NMAE : 0.4301  MRE : 0.4555  NPRE : 1.7341\r\n",
      "2023-01-12 01:26:26  Epoch 47 : MAE : 0.4244  RMSE : 1.0609  NMAE : 0.4044  MRE : 0.4160  NPRE : 1.5385\r\n",
      "2023-01-12 01:26:26  实验 1 模型 8 training time = 2.90 s\r\n",
      "2023-01-12 01:26:26  Slice ID  8 : MAE = 0.4244, RMSE = 1.0609, NMAE = 0.4044, MRE = 0.4160, NPRE = 1.5385\r\n",
      "\r\n",
      "2023-01-12 01:26:26  \t实验 1 模型 9 开始分片训练\r\n",
      "2023-01-12 01:26:31  Epoch 10 : MAE : 0.6695  RMSE : 1.7378  NMAE : 0.7153  MRE : 0.5685  NPRE : 2.7194\r\n",
      "2023-01-12 01:26:35  Epoch 20 : MAE : 0.5356  RMSE : 1.4859  NMAE : 0.5722  MRE : 0.4416  NPRE : 1.8624\r\n",
      "2023-01-12 01:26:39  Epoch 30 : MAE : 0.4705  RMSE : 1.2657  NMAE : 0.5027  MRE : 0.4110  NPRE : 1.7079\r\n",
      "2023-01-12 01:26:44  Epoch 40 : MAE : 0.4023  RMSE : 1.1161  NMAE : 0.4298  MRE : 0.3464  NPRE : 1.2892\r\n",
      "2023-01-12 01:26:45  Epoch 43 : MAE : 0.3992  RMSE : 1.0943  NMAE : 0.4264  MRE : 0.3748  NPRE : 1.0000\r\n",
      "2023-01-12 01:26:45  实验 1 模型 9 training time = 12.95 s\r\n",
      "2023-01-12 01:26:45  Slice ID  9 : MAE = 0.3992, RMSE = 1.0943, NMAE = 0.4264, MRE = 0.3748, NPRE = 1.0000\r\n",
      "\r\n",
      "2023-01-12 01:26:45  \t实验 1 模型 10 开始分片训练\r\n",
      "2023-01-12 01:26:48  Epoch 10 : MAE : 0.5928  RMSE : 1.6262  NMAE : 0.8517  MRE : 0.6028  NPRE : 3.3449\r\n",
      "2023-01-12 01:26:52  Epoch 20 : MAE : 0.4806  RMSE : 1.4161  NMAE : 0.6906  MRE : 0.5028  NPRE : 2.0723\r\n",
      "2023-01-12 01:26:55  Epoch 30 : MAE : 0.4094  RMSE : 1.1935  NMAE : 0.5883  MRE : 0.4475  NPRE : 1.6691\r\n",
      "2023-01-12 01:26:58  Epoch 40 : MAE : 0.3623  RMSE : 1.0446  NMAE : 0.5205  MRE : 0.4233  NPRE : 1.2341\r\n",
      "2023-01-12 01:27:00  Epoch 44 : MAE : 0.3615  RMSE : 0.9936  NMAE : 0.5195  MRE : 0.3889  NPRE : 1.7936\r\n",
      "2023-01-12 01:27:00  实验 1 模型 10 training time = 10.19 s\r\n",
      "2023-01-12 01:27:00  Slice ID  10 : MAE = 0.3615, RMSE = 0.9936, NMAE = 0.5195, MRE = 0.3889, NPRE = 1.7936\r\n",
      "\r\n",
      "2023-01-12 01:27:00  \t所有切片模型训练完毕\r\n",
      "2023-01-12 01:27:00  \t开始训练聚合模型\r\n",
      "100%|███████████████████████████████████████| 1543/1543 [00:40<00:00, 37.76it/s]\r\n",
      "2023-01-12 01:27:41  Result : MAE : 0.3569  RMSE : 1.0662  NMAE : 0.4395  MRE : 0.3021  NPRE : 1.1284\r\n",
      "2023-01-12 01:27:41  \t实验 1 新想法测试完毕!\r\n",
      "2023-01-12 01:27:41  \t聚合模型训练完毕\r\n",
      "2023-01-12 01:27:41  Round 1 : MAE = 0.3569, RMSE = 1.0662, NMAE = 0.4395, MRE = 0.3021, NPRE = 1.1284\r\n",
      "------------------------------------------------------------------------------------------------------------------------\r\n",
      "2023-01-12 01:27:41  Dataset : rt     interaction : NeuCF\r\n",
      "2023-01-12 01:27:41  Density : 10.00%, slice_epochs : 200, agg_epochs : 10\r\n",
      "2023-01-12 01:27:41  Part_type : 4,    slices : 10,       devices : gpu\r\n",
      "\r\n",
      "\r\n",
      "2023-01-12 01:27:41  Density 10.00% : MAE = 0.357, RMSE = 1.066, NMAE = 0.439, MRE = 0.302, NPRE = 1.128\r\n",
      "\r\n",
      "2023-01-12 01:27:41  Experiment success!\r\n"
     ]
    }
   ],
   "source": [
    "!python Experiment.py --dataset rt --interaction NeuCF --rounds 1 --agg_epochs 10 --density 0.10 --part_type 4 --processed 0 --debug 1"
   ],
   "metadata": {
    "collapsed": false
   }
  },
  {
   "cell_type": "code",
   "execution_count": 1,
   "outputs": [
    {
     "name": "stdout",
     "output_type": "stream",
     "text": [
      "2023-01-12 02:07:43  Namespace(agg_epochs=7, agg_function=3, agg_type='softmax', balance=0, batch_size=128, beta=1, cluster='deep', cuda=True, dataset='rt', debug=1, density=0.1, devices='gpu', dimension=64, dir='../Dataset/mnist', dropout=0.1, epoch=1500, hidden_dims=[64, 64, 100], input_dim=128, interaction='NeuCF', kmeans_type=1, lamda=1, latent_dim=10, log_interval=100, lr=0.0001, n_classes=10, n_clusters=10, n_jobs=1, node2vec=0, node2vec_batchsize=32, node2vec_dim=128, node2vec_epochs=20, node2vec_length=8, node2vec_walk=15, node2vec_windows=3, num_layers=2, order=2, part_iter=50, part_type=5, path='./datasets/data/WSDREAM/', pre_epoch=1000, pretrain=True, processed=0, retrain=0, rounds=5, save_model=1, slice_epochs=200, slices=10, subagg=1, verbose=10, wd=0.0005)\r\n",
      "2023-01-12 02:07:43  Experiment start!\r\n",
      "2023-01-12 02:07:43  Dataset : rt     interaction : NeuCF\r\n",
      "2023-01-12 02:07:43  Density : 10.00%, slice_epochs : 200, agg_epochs : 7\r\n",
      "2023-01-12 02:07:43  Part_type : 5,    slices : 10,       devices : gpu\r\n",
      "\r\n",
      "2023-01-12 02:07:43  Round 1 experiment start!\r\n",
      "2023-01-12 02:07:43  \t原始数据集读取完毕\r\n",
      "2023-01-12 02:07:43  \t图嵌入均衡切割\r\n",
      "Computing transition probabilities: 100%|███| 507/507 [00:00<00:00, 5750.94it/s]\r\n",
      "Generating walks (CPU: 1): 100%|█████████████████| 4/4 [00:00<00:00, 132.30it/s]\r\n",
      "Generating walks (CPU: 2): 100%|█████████████████| 4/4 [00:00<00:00, 129.99it/s]\r\n",
      "Generating walks (CPU: 3): 100%|█████████████████| 4/4 [00:00<00:00, 132.38it/s]\r\n",
      "Generating walks (CPU: 4): 100%|█████████████████| 3/3 [00:00<00:00, 137.46it/s]\r\n",
      "========== Start pretraining ==========\r\n",
      " 50%|███████████████████▍                   | 497/1000 [00:02<00:02, 232.47it/s]"
     ]
    },
    {
     "ename": "KeyboardInterrupt",
     "evalue": "",
     "output_type": "error",
     "traceback": [
      "\u001B[0;31m---------------------------------------------------------------------------\u001B[0m",
      "\u001B[0;31mKeyboardInterrupt\u001B[0m                         Traceback (most recent call last)",
      "\u001B[0;32m~/anaconda3/lib/python3.8/site-packages/IPython/utils/_process_posix.py\u001B[0m in \u001B[0;36msystem\u001B[0;34m(self, cmd)\u001B[0m\n\u001B[1;32m    161\u001B[0m                 \u001B[0;31m# know whether we've finished (if we matched EOF) or not\u001B[0m\u001B[0;34m\u001B[0m\u001B[0;34m\u001B[0m\u001B[0;34m\u001B[0m\u001B[0m\n\u001B[0;32m--> 162\u001B[0;31m                 \u001B[0mres_idx\u001B[0m \u001B[0;34m=\u001B[0m \u001B[0mchild\u001B[0m\u001B[0;34m.\u001B[0m\u001B[0mexpect_list\u001B[0m\u001B[0;34m(\u001B[0m\u001B[0mpatterns\u001B[0m\u001B[0;34m,\u001B[0m \u001B[0mself\u001B[0m\u001B[0;34m.\u001B[0m\u001B[0mread_timeout\u001B[0m\u001B[0;34m)\u001B[0m\u001B[0;34m\u001B[0m\u001B[0;34m\u001B[0m\u001B[0m\n\u001B[0m\u001B[1;32m    163\u001B[0m                 \u001B[0mprint\u001B[0m\u001B[0;34m(\u001B[0m\u001B[0mchild\u001B[0m\u001B[0;34m.\u001B[0m\u001B[0mbefore\u001B[0m\u001B[0;34m[\u001B[0m\u001B[0mout_size\u001B[0m\u001B[0;34m:\u001B[0m\u001B[0;34m]\u001B[0m\u001B[0;34m.\u001B[0m\u001B[0mdecode\u001B[0m\u001B[0;34m(\u001B[0m\u001B[0menc\u001B[0m\u001B[0;34m,\u001B[0m \u001B[0;34m'replace'\u001B[0m\u001B[0;34m)\u001B[0m\u001B[0;34m,\u001B[0m \u001B[0mend\u001B[0m\u001B[0;34m=\u001B[0m\u001B[0;34m''\u001B[0m\u001B[0;34m)\u001B[0m\u001B[0;34m\u001B[0m\u001B[0;34m\u001B[0m\u001B[0m\n",
      "\u001B[0;32m~/anaconda3/lib/python3.8/site-packages/pexpect/spawnbase.py\u001B[0m in \u001B[0;36mexpect_list\u001B[0;34m(self, pattern_list, timeout, searchwindowsize, async_, **kw)\u001B[0m\n\u001B[1;32m    371\u001B[0m         \u001B[0;32melse\u001B[0m\u001B[0;34m:\u001B[0m\u001B[0;34m\u001B[0m\u001B[0;34m\u001B[0m\u001B[0m\n\u001B[0;32m--> 372\u001B[0;31m             \u001B[0;32mreturn\u001B[0m \u001B[0mexp\u001B[0m\u001B[0;34m.\u001B[0m\u001B[0mexpect_loop\u001B[0m\u001B[0;34m(\u001B[0m\u001B[0mtimeout\u001B[0m\u001B[0;34m)\u001B[0m\u001B[0;34m\u001B[0m\u001B[0;34m\u001B[0m\u001B[0m\n\u001B[0m\u001B[1;32m    373\u001B[0m \u001B[0;34m\u001B[0m\u001B[0m\n",
      "\u001B[0;32m~/anaconda3/lib/python3.8/site-packages/pexpect/expect.py\u001B[0m in \u001B[0;36mexpect_loop\u001B[0;34m(self, timeout)\u001B[0m\n\u001B[1;32m    168\u001B[0m                 \u001B[0;31m# Still have time left, so read more data\u001B[0m\u001B[0;34m\u001B[0m\u001B[0;34m\u001B[0m\u001B[0;34m\u001B[0m\u001B[0m\n\u001B[0;32m--> 169\u001B[0;31m                 \u001B[0mincoming\u001B[0m \u001B[0;34m=\u001B[0m \u001B[0mspawn\u001B[0m\u001B[0;34m.\u001B[0m\u001B[0mread_nonblocking\u001B[0m\u001B[0;34m(\u001B[0m\u001B[0mspawn\u001B[0m\u001B[0;34m.\u001B[0m\u001B[0mmaxread\u001B[0m\u001B[0;34m,\u001B[0m \u001B[0mtimeout\u001B[0m\u001B[0;34m)\u001B[0m\u001B[0;34m\u001B[0m\u001B[0;34m\u001B[0m\u001B[0m\n\u001B[0m\u001B[1;32m    170\u001B[0m                 \u001B[0;32mif\u001B[0m \u001B[0mself\u001B[0m\u001B[0;34m.\u001B[0m\u001B[0mspawn\u001B[0m\u001B[0;34m.\u001B[0m\u001B[0mdelayafterread\u001B[0m \u001B[0;32mis\u001B[0m \u001B[0;32mnot\u001B[0m \u001B[0;32mNone\u001B[0m\u001B[0;34m:\u001B[0m\u001B[0;34m\u001B[0m\u001B[0;34m\u001B[0m\u001B[0m\n",
      "\u001B[0;32m~/anaconda3/lib/python3.8/site-packages/pexpect/pty_spawn.py\u001B[0m in \u001B[0;36mread_nonblocking\u001B[0;34m(self, size, timeout)\u001B[0m\n\u001B[1;32m    499\u001B[0m         \u001B[0;31m# (possibly timeout=None), we call select() with a timeout.\u001B[0m\u001B[0;34m\u001B[0m\u001B[0;34m\u001B[0m\u001B[0;34m\u001B[0m\u001B[0m\n\u001B[0;32m--> 500\u001B[0;31m         \u001B[0;32mif\u001B[0m \u001B[0;34m(\u001B[0m\u001B[0mtimeout\u001B[0m \u001B[0;34m!=\u001B[0m \u001B[0;36m0\u001B[0m\u001B[0;34m)\u001B[0m \u001B[0;32mand\u001B[0m \u001B[0mselect\u001B[0m\u001B[0;34m(\u001B[0m\u001B[0mtimeout\u001B[0m\u001B[0;34m)\u001B[0m\u001B[0;34m:\u001B[0m\u001B[0;34m\u001B[0m\u001B[0;34m\u001B[0m\u001B[0m\n\u001B[0m\u001B[1;32m    501\u001B[0m             \u001B[0;32mreturn\u001B[0m \u001B[0msuper\u001B[0m\u001B[0;34m(\u001B[0m\u001B[0mspawn\u001B[0m\u001B[0;34m,\u001B[0m \u001B[0mself\u001B[0m\u001B[0;34m)\u001B[0m\u001B[0;34m.\u001B[0m\u001B[0mread_nonblocking\u001B[0m\u001B[0;34m(\u001B[0m\u001B[0msize\u001B[0m\u001B[0;34m)\u001B[0m\u001B[0;34m\u001B[0m\u001B[0;34m\u001B[0m\u001B[0m\n",
      "\u001B[0;32m~/anaconda3/lib/python3.8/site-packages/pexpect/pty_spawn.py\u001B[0m in \u001B[0;36mselect\u001B[0;34m(timeout)\u001B[0m\n\u001B[1;32m    449\u001B[0m             \u001B[0;32mdef\u001B[0m \u001B[0mselect\u001B[0m\u001B[0;34m(\u001B[0m\u001B[0mtimeout\u001B[0m\u001B[0;34m)\u001B[0m\u001B[0;34m:\u001B[0m\u001B[0;34m\u001B[0m\u001B[0;34m\u001B[0m\u001B[0m\n\u001B[0;32m--> 450\u001B[0;31m                 \u001B[0;32mreturn\u001B[0m \u001B[0mselect_ignore_interrupts\u001B[0m\u001B[0;34m(\u001B[0m\u001B[0;34m[\u001B[0m\u001B[0mself\u001B[0m\u001B[0;34m.\u001B[0m\u001B[0mchild_fd\u001B[0m\u001B[0;34m]\u001B[0m\u001B[0;34m,\u001B[0m \u001B[0;34m[\u001B[0m\u001B[0;34m]\u001B[0m\u001B[0;34m,\u001B[0m \u001B[0;34m[\u001B[0m\u001B[0;34m]\u001B[0m\u001B[0;34m,\u001B[0m \u001B[0mtimeout\u001B[0m\u001B[0;34m)\u001B[0m\u001B[0;34m[\u001B[0m\u001B[0;36m0\u001B[0m\u001B[0;34m]\u001B[0m\u001B[0;34m\u001B[0m\u001B[0;34m\u001B[0m\u001B[0m\n\u001B[0m\u001B[1;32m    451\u001B[0m \u001B[0;34m\u001B[0m\u001B[0m\n",
      "\u001B[0;32m~/anaconda3/lib/python3.8/site-packages/pexpect/utils.py\u001B[0m in \u001B[0;36mselect_ignore_interrupts\u001B[0;34m(iwtd, owtd, ewtd, timeout)\u001B[0m\n\u001B[1;32m    142\u001B[0m         \u001B[0;32mtry\u001B[0m\u001B[0;34m:\u001B[0m\u001B[0;34m\u001B[0m\u001B[0;34m\u001B[0m\u001B[0m\n\u001B[0;32m--> 143\u001B[0;31m             \u001B[0;32mreturn\u001B[0m \u001B[0mselect\u001B[0m\u001B[0;34m.\u001B[0m\u001B[0mselect\u001B[0m\u001B[0;34m(\u001B[0m\u001B[0miwtd\u001B[0m\u001B[0;34m,\u001B[0m \u001B[0mowtd\u001B[0m\u001B[0;34m,\u001B[0m \u001B[0mewtd\u001B[0m\u001B[0;34m,\u001B[0m \u001B[0mtimeout\u001B[0m\u001B[0;34m)\u001B[0m\u001B[0;34m\u001B[0m\u001B[0;34m\u001B[0m\u001B[0m\n\u001B[0m\u001B[1;32m    144\u001B[0m         \u001B[0;32mexcept\u001B[0m \u001B[0mInterruptedError\u001B[0m\u001B[0;34m:\u001B[0m\u001B[0;34m\u001B[0m\u001B[0;34m\u001B[0m\u001B[0m\n",
      "\u001B[0;31mKeyboardInterrupt\u001B[0m: ",
      "\nDuring handling of the above exception, another exception occurred:\n",
      "\u001B[0;31mKeyboardInterrupt\u001B[0m                         Traceback (most recent call last)",
      "\u001B[0;32m<ipython-input-1-2a9a23446ad0>\u001B[0m in \u001B[0;36m<module>\u001B[0;34m\u001B[0m\n\u001B[0;32m----> 1\u001B[0;31m \u001B[0mget_ipython\u001B[0m\u001B[0;34m(\u001B[0m\u001B[0;34m)\u001B[0m\u001B[0;34m.\u001B[0m\u001B[0msystem\u001B[0m\u001B[0;34m(\u001B[0m\u001B[0;34m'python Experiment.py --dataset rt --interaction NeuCF --rounds 5 --agg_epochs 7 --density 0.10 --part_type 5 --processed 0 --debug 1'\u001B[0m\u001B[0;34m)\u001B[0m\u001B[0;34m\u001B[0m\u001B[0;34m\u001B[0m\u001B[0m\n\u001B[0m",
      "\u001B[0;32m~/anaconda3/lib/python3.8/site-packages/ipykernel/zmqshell.py\u001B[0m in \u001B[0;36msystem_piped\u001B[0;34m(self, cmd)\u001B[0m\n\u001B[1;32m    633\u001B[0m                 \u001B[0mself\u001B[0m\u001B[0;34m.\u001B[0m\u001B[0muser_ns\u001B[0m\u001B[0;34m[\u001B[0m\u001B[0;34m'_exit_code'\u001B[0m\u001B[0;34m]\u001B[0m \u001B[0;34m=\u001B[0m \u001B[0msystem\u001B[0m\u001B[0;34m(\u001B[0m\u001B[0mcmd\u001B[0m\u001B[0;34m)\u001B[0m\u001B[0;34m\u001B[0m\u001B[0;34m\u001B[0m\u001B[0m\n\u001B[1;32m    634\u001B[0m         \u001B[0;32melse\u001B[0m\u001B[0;34m:\u001B[0m\u001B[0;34m\u001B[0m\u001B[0;34m\u001B[0m\u001B[0m\n\u001B[0;32m--> 635\u001B[0;31m             \u001B[0mself\u001B[0m\u001B[0;34m.\u001B[0m\u001B[0muser_ns\u001B[0m\u001B[0;34m[\u001B[0m\u001B[0;34m'_exit_code'\u001B[0m\u001B[0;34m]\u001B[0m \u001B[0;34m=\u001B[0m \u001B[0msystem\u001B[0m\u001B[0;34m(\u001B[0m\u001B[0mself\u001B[0m\u001B[0;34m.\u001B[0m\u001B[0mvar_expand\u001B[0m\u001B[0;34m(\u001B[0m\u001B[0mcmd\u001B[0m\u001B[0;34m,\u001B[0m \u001B[0mdepth\u001B[0m\u001B[0;34m=\u001B[0m\u001B[0;36m1\u001B[0m\u001B[0;34m)\u001B[0m\u001B[0;34m)\u001B[0m\u001B[0;34m\u001B[0m\u001B[0;34m\u001B[0m\u001B[0m\n\u001B[0m\u001B[1;32m    636\u001B[0m \u001B[0;34m\u001B[0m\u001B[0m\n\u001B[1;32m    637\u001B[0m     \u001B[0;31m# Ensure new system_piped implementation is used\u001B[0m\u001B[0;34m\u001B[0m\u001B[0;34m\u001B[0m\u001B[0;34m\u001B[0m\u001B[0m\n",
      "\u001B[0;32m~/anaconda3/lib/python3.8/site-packages/IPython/utils/_process_posix.py\u001B[0m in \u001B[0;36msystem\u001B[0;34m(self, cmd)\u001B[0m\n\u001B[1;32m    184\u001B[0m             \u001B[0;32mfinally\u001B[0m\u001B[0;34m:\u001B[0m\u001B[0;34m\u001B[0m\u001B[0;34m\u001B[0m\u001B[0m\n\u001B[1;32m    185\u001B[0m                 \u001B[0;31m# Ensure the subprocess really is terminated\u001B[0m\u001B[0;34m\u001B[0m\u001B[0;34m\u001B[0m\u001B[0;34m\u001B[0m\u001B[0m\n\u001B[0;32m--> 186\u001B[0;31m                 \u001B[0mchild\u001B[0m\u001B[0;34m.\u001B[0m\u001B[0mterminate\u001B[0m\u001B[0;34m(\u001B[0m\u001B[0mforce\u001B[0m\u001B[0;34m=\u001B[0m\u001B[0;32mTrue\u001B[0m\u001B[0;34m)\u001B[0m\u001B[0;34m\u001B[0m\u001B[0;34m\u001B[0m\u001B[0m\n\u001B[0m\u001B[1;32m    187\u001B[0m         \u001B[0;31m# add isalive check, to ensure exitstatus is set:\u001B[0m\u001B[0;34m\u001B[0m\u001B[0;34m\u001B[0m\u001B[0;34m\u001B[0m\u001B[0m\n\u001B[1;32m    188\u001B[0m         \u001B[0mchild\u001B[0m\u001B[0;34m.\u001B[0m\u001B[0misalive\u001B[0m\u001B[0;34m(\u001B[0m\u001B[0;34m)\u001B[0m\u001B[0;34m\u001B[0m\u001B[0;34m\u001B[0m\u001B[0m\n",
      "\u001B[0;32m~/anaconda3/lib/python3.8/site-packages/pexpect/pty_spawn.py\u001B[0m in \u001B[0;36mterminate\u001B[0;34m(self, force)\u001B[0m\n\u001B[1;32m    644\u001B[0m                 \u001B[0;32mreturn\u001B[0m \u001B[0;32mTrue\u001B[0m\u001B[0;34m\u001B[0m\u001B[0;34m\u001B[0m\u001B[0m\n\u001B[1;32m    645\u001B[0m             \u001B[0mself\u001B[0m\u001B[0;34m.\u001B[0m\u001B[0mkill\u001B[0m\u001B[0;34m(\u001B[0m\u001B[0msignal\u001B[0m\u001B[0;34m.\u001B[0m\u001B[0mSIGCONT\u001B[0m\u001B[0;34m)\u001B[0m\u001B[0;34m\u001B[0m\u001B[0;34m\u001B[0m\u001B[0m\n\u001B[0;32m--> 646\u001B[0;31m             \u001B[0mtime\u001B[0m\u001B[0;34m.\u001B[0m\u001B[0msleep\u001B[0m\u001B[0;34m(\u001B[0m\u001B[0mself\u001B[0m\u001B[0;34m.\u001B[0m\u001B[0mdelayafterterminate\u001B[0m\u001B[0;34m)\u001B[0m\u001B[0;34m\u001B[0m\u001B[0;34m\u001B[0m\u001B[0m\n\u001B[0m\u001B[1;32m    647\u001B[0m             \u001B[0;32mif\u001B[0m \u001B[0;32mnot\u001B[0m \u001B[0mself\u001B[0m\u001B[0;34m.\u001B[0m\u001B[0misalive\u001B[0m\u001B[0;34m(\u001B[0m\u001B[0;34m)\u001B[0m\u001B[0;34m:\u001B[0m\u001B[0;34m\u001B[0m\u001B[0;34m\u001B[0m\u001B[0m\n\u001B[1;32m    648\u001B[0m                 \u001B[0;32mreturn\u001B[0m \u001B[0;32mTrue\u001B[0m\u001B[0;34m\u001B[0m\u001B[0;34m\u001B[0m\u001B[0m\n",
      "\u001B[0;31mKeyboardInterrupt\u001B[0m: "
     ]
    }
   ],
   "source": [
    "!python Experiment.py --dataset rt --interaction NeuCF --rounds 5 --agg_epochs 7 --density 0.10 --part_type 5 --processed 0 --debug 1"
   ],
   "metadata": {
    "collapsed": false
   }
  },
  {
   "cell_type": "code",
   "execution_count": null,
   "outputs": [],
   "source": [
    "!python Experiment.py --dataset rt --interaction NeuCF --rounds 1 --agg_epochs 7 --density 0.10 --part_type 6 --processed 0 --debug 1"
   ],
   "metadata": {
    "collapsed": false
   }
  },
  {
   "cell_type": "code",
   "execution_count": null,
   "outputs": [],
   "source": [
    "!python Experiment.py --dataset rt --interaction NeuCF --rounds 1 --agg_epochs 7 --density 0.10 --part_type 7 --processed 0 --debug 1"
   ],
   "metadata": {
    "collapsed": false
   }
  },
  {
   "cell_type": "markdown",
   "source": [
    "*****"
   ],
   "metadata": {
    "collapsed": false
   }
  },
  {
   "cell_type": "code",
   "execution_count": null,
   "outputs": [],
   "source": [
    "!python Experiment.py --dataset rt --interaction CSMF --rounds 1 --agg_epochs 7 --density 0.10 --part_type 2 --processed 0 --debug 1"
   ],
   "metadata": {
    "collapsed": false
   }
  },
  {
   "cell_type": "code",
   "execution_count": null,
   "outputs": [],
   "source": [
    "!python Experiment.py --dataset rt --interaction CSMF --rounds 1 --agg_epochs 7 --density 0.10 --part_type 4 --processed 0 --debug 1"
   ],
   "metadata": {
    "collapsed": false
   }
  },
  {
   "cell_type": "code",
   "execution_count": null,
   "outputs": [],
   "source": [
    "!python Experiment.py --dataset rt --interaction CSMF --rounds 1 --agg_epochs 7 --density 0.10 --part_type 5 --processed 0 --debug 1"
   ],
   "metadata": {
    "collapsed": false
   }
  },
  {
   "cell_type": "code",
   "execution_count": null,
   "outputs": [],
   "source": [
    "!python Experiment.py --dataset rt --interaction CSMF --rounds 1 --agg_epochs 7 --density 0.10 --part_type 6 --processed 0 --debug 1"
   ],
   "metadata": {
    "collapsed": false
   }
  },
  {
   "cell_type": "code",
   "execution_count": null,
   "outputs": [],
   "source": [
    "!python Experiment.py --dataset rt --interaction CSMF --rounds 1 --agg_epochs 7 --density 0.10 --part_type 7 --processed 0 --debug 1"
   ],
   "metadata": {
    "collapsed": false
   }
  },
  {
   "cell_type": "markdown",
   "source": [
    "*****"
   ],
   "metadata": {
    "collapsed": false
   }
  },
  {
   "cell_type": "code",
   "execution_count": null,
   "outputs": [],
   "source": [
    "!python Experiment.py --dataset rt --interaction Pure_Mf --rounds 1 --agg_epochs 7 --density 0.10 --part_type 2 --processed 0 --debug 1"
   ],
   "metadata": {
    "collapsed": false
   }
  },
  {
   "cell_type": "code",
   "execution_count": null,
   "outputs": [],
   "source": [
    "!python Experiment.py --dataset rt --interaction Pure_Mf --rounds 1 --agg_epochs 7 --density 0.10 --part_type 4 --processed 0 --debug 1"
   ],
   "metadata": {
    "collapsed": false
   }
  },
  {
   "cell_type": "code",
   "execution_count": null,
   "outputs": [],
   "source": [
    "!python Experiment.py --dataset rt --interaction Pure_Mf --rounds 1 --agg_epochs 7 --density 0.10 --part_type 5 --processed 0 --debug 1"
   ],
   "metadata": {
    "collapsed": false
   }
  },
  {
   "cell_type": "code",
   "execution_count": null,
   "outputs": [],
   "source": [
    "!python Experiment.py --dataset rt --interaction Pure_Mf --rounds 1 --agg_epochs 7 --density 0.10 --part_type 6 --processed 0 --debug 1"
   ],
   "metadata": {
    "collapsed": false
   }
  },
  {
   "cell_type": "code",
   "execution_count": null,
   "outputs": [],
   "source": [
    "!python Experiment.py --dataset rt --interaction Pure_Mf --rounds 1 --agg_epochs 7 --density 0.10 --part_type 7 --processed 0 --debug 1"
   ],
   "metadata": {
    "collapsed": false
   }
  },
  {
   "cell_type": "markdown",
   "source": [
    "*****"
   ],
   "metadata": {
    "collapsed": false
   }
  },
  {
   "cell_type": "markdown",
   "source": [
    "*****"
   ],
   "metadata": {
    "collapsed": false
   }
  }
 ],
 "metadata": {
  "kernelspec": {
   "display_name": "Python 3",
   "language": "python",
   "name": "python3"
  },
  "language_info": {
   "codemirror_mode": {
    "name": "ipython",
    "version": 2
   },
   "file_extension": ".py",
   "mimetype": "text/x-python",
   "name": "python",
   "nbconvert_exporter": "python",
   "pygments_lexer": "ipython2",
   "version": "2.7.6"
  }
 },
 "nbformat": 4,
 "nbformat_minor": 0
}
