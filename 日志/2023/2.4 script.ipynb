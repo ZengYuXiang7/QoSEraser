{
 "cells": [
  {
   "cell_type": "code",
   "execution_count": 175,
   "outputs": [
    {
     "name": "stdout",
     "output_type": "stream",
     "text": [
      "100%|███████████████████████████████████████████| 12/12 [00:03<00:00,  3.99it/s]\r\n",
      "/home/yxzeng/anaconda3/lib/python3.8/site-packages/numpy/core/fromnumeric.py:3432: RuntimeWarning: Mean of empty slice.\r\n",
      "  return _methods._mean(a, axis=axis, dtype=dtype,\r\n",
      "/home/yxzeng/anaconda3/lib/python3.8/site-packages/numpy/core/_methods.py:190: RuntimeWarning: invalid value encountered in double_scalars\r\n",
      "  ret = ret.dtype.type(ret / rcount)\r\n"
     ]
    }
   ],
   "source": [
    "!python Experiment.py --dataset tp --interaction MF --rounds 1 --record 0 --slices 5 --agg_epochs 30 --density 0.10 --part_type 5"
   ],
   "metadata": {
    "collapsed": false
   }
  },
  {
   "cell_type": "code",
   "execution_count": 176,
   "outputs": [
    {
     "name": "stdout",
     "output_type": "stream",
     "text": [
      "100%|███████████████████████████████████████████| 12/12 [00:02<00:00,  4.06it/s]\r\n",
      "/home/yxzeng/anaconda3/lib/python3.8/site-packages/numpy/core/fromnumeric.py:3432: RuntimeWarning: Mean of empty slice.\r\n",
      "  return _methods._mean(a, axis=axis, dtype=dtype,\r\n",
      "/home/yxzeng/anaconda3/lib/python3.8/site-packages/numpy/core/_methods.py:190: RuntimeWarning: invalid value encountered in double_scalars\r\n",
      "  ret = ret.dtype.type(ret / rcount)\r\n"
     ]
    }
   ],
   "source": [
    "!python Experiment.py --dataset tp --interaction MF --rounds 1 --record 0 --slices 5 --agg_epochs 30 --density 0.15 --part_type 5"
   ],
   "metadata": {
    "collapsed": false
   }
  },
  {
   "cell_type": "code",
   "execution_count": 177,
   "outputs": [
    {
     "name": "stdout",
     "output_type": "stream",
     "text": [
      "100%|███████████████████████████████████████████| 11/11 [00:02<00:00,  3.76it/s]\r\n",
      "/home/yxzeng/anaconda3/lib/python3.8/site-packages/numpy/core/fromnumeric.py:3432: RuntimeWarning: Mean of empty slice.\r\n",
      "  return _methods._mean(a, axis=axis, dtype=dtype,\r\n",
      "/home/yxzeng/anaconda3/lib/python3.8/site-packages/numpy/core/_methods.py:190: RuntimeWarning: invalid value encountered in double_scalars\r\n",
      "  ret = ret.dtype.type(ret / rcount)\r\n"
     ]
    }
   ],
   "source": [
    "!python Experiment.py --dataset tp --interaction MF --rounds 1 --record 0 --slices 5 --agg_epochs 30 --density 0.20 --part_type 5"
   ],
   "metadata": {
    "collapsed": false
   }
  },
  {
   "cell_type": "code",
   "execution_count": 173,
   "outputs": [
    {
     "name": "stdout",
     "output_type": "stream",
     "text": [
      "100%|███████████████████████████████████████████| 10/10 [00:02<00:00,  3.60it/s]\r\n",
      "/home/yxzeng/anaconda3/lib/python3.8/site-packages/numpy/core/fromnumeric.py:3432: RuntimeWarning: Mean of empty slice.\r\n",
      "  return _methods._mean(a, axis=axis, dtype=dtype,\r\n",
      "/home/yxzeng/anaconda3/lib/python3.8/site-packages/numpy/core/_methods.py:190: RuntimeWarning: invalid value encountered in double_scalars\r\n",
      "  ret = ret.dtype.type(ret / rcount)\r\n"
     ]
    }
   ],
   "source": [
    "!python Experiment.py --dataset tp --interaction MF --rounds 1 --record 0 --slices 5 --agg_epochs 30 --density 0.25 --part_type 5"
   ],
   "metadata": {
    "collapsed": false
   }
  },
  {
   "cell_type": "code",
   "execution_count": 174,
   "outputs": [
    {
     "name": "stdout",
     "output_type": "stream",
     "text": [
      "100%|███████████████████████████████████████████| 10/10 [00:02<00:00,  3.36it/s]\r\n",
      "/home/yxzeng/anaconda3/lib/python3.8/site-packages/numpy/core/fromnumeric.py:3432: RuntimeWarning: Mean of empty slice.\r\n",
      "  return _methods._mean(a, axis=axis, dtype=dtype,\r\n",
      "/home/yxzeng/anaconda3/lib/python3.8/site-packages/numpy/core/_methods.py:190: RuntimeWarning: invalid value encountered in double_scalars\r\n",
      "  ret = ret.dtype.type(ret / rcount)\r\n"
     ]
    }
   ],
   "source": [
    "!python Experiment.py --dataset tp --interaction MF --rounds 1 --record 0 --slices 5 --agg_epochs 30 --density 0.30 --part_type 5"
   ],
   "metadata": {
    "collapsed": false
   }
  },
  {
   "cell_type": "code",
   "execution_count": null,
   "outputs": [],
   "source": [
    "!python Experiment.py --dataset tp --interaction MF --rounds 1 --record 0 --slices 5 --agg_epochs 30 --density 0.10 --part_type 3"
   ],
   "metadata": {
    "collapsed": false
   }
  },
  {
   "cell_type": "code",
   "execution_count": null,
   "outputs": [],
   "source": [
    "!python Experiment.py --dataset tp --interaction MF --rounds 1 --record 0 --slices 5 --agg_epochs 30 --density 0.15 --part_type 3"
   ],
   "metadata": {
    "collapsed": false
   }
  },
  {
   "cell_type": "code",
   "execution_count": null,
   "outputs": [],
   "source": [
    "!python Experiment.py --dataset tp --interaction MF --rounds 1 --record 0 --slices 5 --agg_epochs 30 --density 0.20 --part_type 3"
   ],
   "metadata": {
    "collapsed": false
   }
  },
  {
   "cell_type": "code",
   "execution_count": null,
   "outputs": [],
   "source": [
    "!python Experiment.py --dataset tp --interaction MF --rounds 1 --record 0 --slices 5 --agg_epochs 30 --density 0.25 --part_type 3"
   ],
   "metadata": {
    "collapsed": false
   }
  },
  {
   "cell_type": "code",
   "execution_count": null,
   "outputs": [],
   "source": [
    "!python Experiment.py --dataset tp --interaction MF --rounds 1 --record 0 --slices 5 --agg_epochs 30 --density 0.30 --part_type 3"
   ],
   "metadata": {
    "collapsed": false
   }
  },
  {
   "cell_type": "code",
   "execution_count": null,
   "outputs": [],
   "source": [
    "!python Experiment.py --dataset tp --interaction MF --rounds 1 --record 0 --slices 5 --agg_epochs 30 --density 0.10 --part_type 1"
   ],
   "metadata": {
    "collapsed": false
   }
  },
  {
   "cell_type": "code",
   "execution_count": null,
   "outputs": [],
   "source": [
    "!python Experiment.py --dataset tp --interaction MF --rounds 1 --record 0 --slices 5 --agg_epochs 30 --density 0.15 --part_type 1"
   ],
   "metadata": {
    "collapsed": false
   }
  },
  {
   "cell_type": "code",
   "execution_count": null,
   "outputs": [],
   "source": [
    "!python Experiment.py --dataset tp --interaction MF --rounds 1 --record 0 --slices 5 --agg_epochs 30 --density 0.20 --part_type 1"
   ],
   "metadata": {
    "collapsed": false
   }
  },
  {
   "cell_type": "code",
   "execution_count": null,
   "outputs": [],
   "source": [
    "!python Experiment.py --dataset tp --interaction MF --rounds 1 --record 0 --slices 5 --agg_epochs 30 --density 0.25 --part_type 1"
   ],
   "metadata": {
    "collapsed": false
   }
  },
  {
   "cell_type": "code",
   "execution_count": null,
   "outputs": [],
   "source": [
    "!python Experiment.py --dataset tp --interaction MF --rounds 1 --record 0 --slices 5 --agg_epochs 30 --density 0.30 --part_type 1"
   ],
   "metadata": {
    "collapsed": false
   }
  },
  {
   "cell_type": "code",
   "execution_count": null,
   "outputs": [],
   "source": [],
   "metadata": {
    "collapsed": false
   }
  }
 ],
 "metadata": {
  "kernelspec": {
   "display_name": "Python 3",
   "language": "python",
   "name": "python3"
  },
  "language_info": {
   "codemirror_mode": {
    "name": "ipython",
    "version": 2
   },
   "file_extension": ".py",
   "mimetype": "text/x-python",
   "name": "python",
   "nbconvert_exporter": "python",
   "pygments_lexer": "ipython2",
   "version": "2.7.6"
  }
 },
 "nbformat": 4,
 "nbformat_minor": 0
}
