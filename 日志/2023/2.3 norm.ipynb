{
 "cells": [
  {
   "cell_type": "code",
   "execution_count": 34,
   "outputs": [
    {
     "name": "stdout",
     "output_type": "stream",
     "text": [
      "2023-02-02 21:53:54  Experiment start!\r\n",
      "2023-02-02 21:53:54  Namespace(F=1, agg2=0, agg_decay=0.001, agg_epochs=10, agg_function=1, agg_lr=0.001, agg_type='att', att_decay=0.0001, att_lr=0.001, batch_size=128, beta=1, cluster='deep', cuda=True, dataset='rt', debug=0, density=0.1, devices='gpu', dimension=32, dir='../Dataset/mnist', dropout=0.1, epoch=1500, external_dim=64, hidden_dims=[64, 64, 100], input_dim=128, interaction='NeuCF', lamda=1, latent_dim=10, log_interval=100, lr=0.0001, n_classes=10, n_clusters=10, n_jobs=1, node2vec=0, node2vec_batchsize=32, node2vec_dim=128, node2vec_epochs=20, node2vec_length=8, node2vec_walk=15, node2vec_windows=3, num_layers=2, order=2, part_iter=20, part_type=1, path='./datasets/data/WSDREAM/', pre_epoch=1000, pretrain=True, processed=0, random_state=1001, record=1, retrain=0, rounds=1, save_model=1, slice=1, slice_decay=0.001, slice_epochs=100, slice_lr=0.001, slices=5, verbose=10, wd=0.0005)\r\n",
      "2023-02-02 21:53:54  Dataset : rt     interaction : NeuCF\r\n",
      "2023-02-02 21:53:54  Density : 10.00%, slice_epochs : 100, agg_epochs : 10\r\n",
      "2023-02-02 21:53:54  Part_type : 1,    slices : 5,       devices : gpu\r\n",
      "2023-02-02 21:53:54  Slice_lr : 0.005,    Slice_decay : 0.0001\r\n",
      "2023-02-02 21:53:54  Agg_lr : 0.001,    Agg_decay : 0.01\r\n",
      "2023-02-02 21:53:54  Aggregation function : mean\r\n",
      "\r\n",
      "2023-02-02 21:53:54  Round 1 experiment start!\r\n",
      "2023-02-02 21:53:54  \t原始数据集读取完毕\r\n",
      "2023-02-02 21:53:55  \tSISA 切割完毕\r\n",
      "2023-02-02 21:53:55  \t分切数据执行完毕\r\n",
      "2023-02-02 21:53:57  \t模型加载完毕\r\n",
      "2023-02-02 21:53:57  \t准备训练切片模型\r\n",
      "2023-02-02 21:53:57  \t实验 1 模型 1 开始分片训练\r\n",
      "2023-02-02 21:54:13  Epoch 10 : MAE : 0.6305  RMSE : 1.6982  NMAE : 0.6894  MRE : 0.6511  NPRE : 3.1316\r\n",
      "2023-02-02 21:54:29  Epoch 20 : MAE : 0.5924  RMSE : 1.6043  NMAE : 0.6477  MRE : 0.6323  NPRE : 1.7470\r\n",
      "2023-02-02 21:54:44  Epoch 30 : MAE : 0.5985  RMSE : 1.5941  NMAE : 0.6543  MRE : 0.6404  NPRE : 2.5623\r\n",
      "2023-02-02 21:54:53  Best epoch 25 : MAE : 0.5783  RMSE : 1.5675  NMAE : 0.6323  MRE : 0.5834  NPRE : 2.6424\r\n",
      "2023-02-02 21:54:53  实验 1 模型 1 training time = 12.53 s\r\n",
      "2023-02-02 21:54:53  Slice ID  1 : MAE = 0.5783, RMSE = 1.5675, NMAE = 0.6323, MRE = 0.5834, NPRE = 2.6424\r\n",
      "\r\n",
      "2023-02-02 21:54:53  \t实验 1 模型 2 开始分片训练\r\n",
      "2023-02-02 21:55:08  Epoch 10 : MAE : 0.6020  RMSE : 1.5464  NMAE : 0.6582  MRE : 0.7048  NPRE : 2.8247\r\n",
      "2023-02-02 21:55:24  Epoch 20 : MAE : 0.5694  RMSE : 1.5219  NMAE : 0.6225  MRE : 0.5586  NPRE : 3.2832\r\n",
      "2023-02-02 21:55:41  Epoch 30 : MAE : 0.5709  RMSE : 1.5346  NMAE : 0.6242  MRE : 0.6162  NPRE : 2.1052\r\n",
      "2023-02-02 21:55:47  Best epoch 24 : MAE : 0.5564  RMSE : 1.5102  NMAE : 0.6084  MRE : 0.5627  NPRE : 2.5641\r\n",
      "2023-02-02 21:55:47  实验 1 模型 2 training time = 12.16 s\r\n",
      "2023-02-02 21:55:47  Slice ID  2 : MAE = 0.5564, RMSE = 1.5102, NMAE = 0.6084, MRE = 0.5627, NPRE = 2.5641\r\n",
      "\r\n",
      "2023-02-02 21:55:47  \t实验 1 模型 3 开始分片训练\r\n",
      "2023-02-02 21:56:02  Epoch 10 : MAE : 0.6512  RMSE : 1.6203  NMAE : 0.7120  MRE : 0.7520  NPRE : 4.1886\r\n",
      "2023-02-02 21:56:18  Epoch 20 : MAE : 0.6018  RMSE : 1.5889  NMAE : 0.6580  MRE : 0.5937  NPRE : 3.3260\r\n",
      "2023-02-02 21:56:33  Epoch 30 : MAE : 0.6218  RMSE : 1.5851  NMAE : 0.6799  MRE : 0.6782  NPRE : 4.0797\r\n",
      "2023-02-02 21:56:36  Best epoch 22 : MAE : 0.5723  RMSE : 1.5674  NMAE : 0.6257  MRE : 0.5458  NPRE : 2.9005\r\n",
      "2023-02-02 21:56:36  实验 1 模型 3 training time = 10.50 s\r\n",
      "2023-02-02 21:56:36  Slice ID  3 : MAE = 0.5723, RMSE = 1.5674, NMAE = 0.6257, MRE = 0.5458, NPRE = 2.9005\r\n",
      "\r\n",
      "2023-02-02 21:56:36  \t实验 1 模型 4 开始分片训练\r\n",
      "2023-02-02 21:56:52  Epoch 10 : MAE : 0.6188  RMSE : 1.5552  NMAE : 0.6766  MRE : 0.7371  NPRE : 3.3745\r\n",
      "2023-02-02 21:57:08  Epoch 20 : MAE : 0.5815  RMSE : 1.5413  NMAE : 0.6358  MRE : 0.6149  NPRE : 2.3231\r\n",
      "2023-02-02 21:57:23  Epoch 30 : MAE : 0.5954  RMSE : 1.5355  NMAE : 0.6510  MRE : 0.6429  NPRE : 3.4539\r\n",
      "2023-02-02 21:57:30  Best epoch 24 : MAE : 0.5730  RMSE : 1.5510  NMAE : 0.6265  MRE : 0.5616  NPRE : 2.6644\r\n",
      "2023-02-02 21:57:30  实验 1 模型 4 training time = 11.32 s\r\n",
      "2023-02-02 21:57:30  Slice ID  4 : MAE = 0.5730, RMSE = 1.5510, NMAE = 0.6265, MRE = 0.5616, NPRE = 2.6644\r\n",
      "\r\n",
      "2023-02-02 21:57:30  \t实验 1 模型 5 开始分片训练\r\n",
      "2023-02-02 21:57:45  Epoch 10 : MAE : 0.6046  RMSE : 1.5450  NMAE : 0.6611  MRE : 0.6976  NPRE : 3.2463\r\n",
      "2023-02-02 21:58:00  Epoch 20 : MAE : 0.5853  RMSE : 1.5380  NMAE : 0.6400  MRE : 0.5983  NPRE : 3.4034\r\n",
      "2023-02-02 21:58:16  Epoch 30 : MAE : 0.5667  RMSE : 1.5294  NMAE : 0.6196  MRE : 0.5644  NPRE : 2.3173\r\n",
      "2023-02-02 21:58:20  Best epoch 23 : MAE : 0.5535  RMSE : 1.5174  NMAE : 0.6051  MRE : 0.5550  NPRE : 2.3725\r\n",
      "2023-02-02 21:58:20  实验 1 模型 5 training time = 10.67 s\r\n",
      "2023-02-02 21:58:20  Slice ID  5 : MAE = 0.5535, RMSE = 1.5174, NMAE = 0.6051, MRE = 0.5550, NPRE = 2.3725\r\n",
      "\r\n",
      "2023-02-02 21:58:20  \t所有切片模型训练完毕\r\n",
      "2023-02-02 21:58:20  \t开始训练聚合模型\r\n",
      "2023-02-02 21:58:24  Epoch  1 : MAE : 0.5877  RMSE : 1.5589  NMAE : 0.6466  MRE : 0.5798  NPRE : 2.7549\r\n",
      "2023-02-02 21:58:28  Epoch  2 : MAE : 0.5421  RMSE : 1.5225  NMAE : 0.5965  MRE : 0.4730  NPRE : 2.3260\r\n",
      "2023-02-02 21:58:32  Epoch  3 : MAE : 0.5311  RMSE : 1.5048  NMAE : 0.5843  MRE : 0.4478  NPRE : 2.3710\r\n",
      "2023-02-02 21:58:36  Epoch  4 : MAE : 0.5226  RMSE : 1.4987  NMAE : 0.5750  MRE : 0.4492  NPRE : 1.9054\r\n",
      "2023-02-02 21:58:40  Epoch  5 : MAE : 0.5153  RMSE : 1.4693  NMAE : 0.5670  MRE : 0.4423  NPRE : 2.1831\r\n",
      "2023-02-02 21:58:43  Epoch  6 : MAE : 0.5051  RMSE : 1.4616  NMAE : 0.5558  MRE : 0.4264  NPRE : 2.1737\r\n",
      "2023-02-02 21:58:47  Epoch  7 : MAE : 0.5022  RMSE : 1.4449  NMAE : 0.5526  MRE : 0.4338  NPRE : 2.6273\r\n",
      "2023-02-02 21:58:51  Epoch  8 : MAE : 0.4967  RMSE : 1.4475  NMAE : 0.5465  MRE : 0.4307  NPRE : 1.8208\r\n",
      "2023-02-02 21:58:55  Epoch  9 : MAE : 0.4922  RMSE : 1.4321  NMAE : 0.5416  MRE : 0.4226  NPRE : 2.2680\r\n",
      "2023-02-02 21:58:59  Epoch 10 : MAE : 0.4881  RMSE : 1.4373  NMAE : 0.5371  MRE : 0.4236  NPRE : 1.8835\r\n",
      "2023-02-02 21:58:59  Best epoch 10 : MAE : 0.4881  RMSE : 1.4373  NMAE : 0.5371  MRE : 0.4236  NPRE : 1.8835\r\n",
      "2023-02-02 21:58:59  \t实验 1 聚合模型训练完毕\r\n",
      "100%|███████████████████████████████████████████| 13/13 [00:03<00:00,  4.15it/s]\r\n",
      "2023-02-02 21:59:02  Result : MAE : 0.4880  RMSE : 1.4374  NMAE : 0.5370  MRE : 0.4235  NPRE : 1.8870\r\n",
      "2023-02-02 21:59:02  \t实验 1 : Aggregators training time = 7.68 s\r\n",
      "\r\n",
      "2023-02-02 21:59:02  \t聚合模型训练完毕\r\n",
      "\r\n",
      "------------------------------------------------------------------------------------------------------------------------\r\n",
      "2023-02-02 21:59:02  Dataset : rt     interaction : NeuCF\r\n",
      "2023-02-02 21:59:02  Density : 10.00%, slice_epochs : 100, agg_epochs : 10\r\n",
      "2023-02-02 21:59:02  Part_type : 1,    slices : 5,       devices : gpu\r\n",
      "\r\n",
      "\r\n",
      "2023-02-02 21:59:02  Density 10.00% : MAE = 0.488, RMSE = 1.437, NMAE = 0.537, MRE = 0.423, NPRE = 1.887\r\n",
      "\r\n",
      "2023-02-02 21:59:02  Experiment success!\r\n",
      "\r\n"
     ]
    }
   ],
   "source": [
    "!python Experiment.py --dataset rt --interaction NeuCF --rounds 1 --slices 5 --agg_epochs 10 --density 0.10 --part_type 1"
   ],
   "metadata": {
    "collapsed": false
   }
  },
  {
   "cell_type": "code",
   "execution_count": 35,
   "outputs": [
    {
     "name": "stdout",
     "output_type": "stream",
     "text": [
      "2023-02-02 21:59:03  Experiment start!\r\n",
      "2023-02-02 21:59:03  Namespace(F=1, agg2=0, agg_decay=0.001, agg_epochs=10, agg_function=1, agg_lr=0.001, agg_type='att', att_decay=0.0001, att_lr=0.001, batch_size=128, beta=1, cluster='deep', cuda=True, dataset='rt', debug=0, density=0.1, devices='gpu', dimension=32, dir='../Dataset/mnist', dropout=0.1, epoch=1500, external_dim=64, hidden_dims=[64, 64, 100], input_dim=128, interaction='NeuCF', lamda=1, latent_dim=10, log_interval=100, lr=0.0001, n_classes=10, n_clusters=10, n_jobs=1, node2vec=0, node2vec_batchsize=32, node2vec_dim=128, node2vec_epochs=20, node2vec_length=8, node2vec_walk=15, node2vec_windows=3, num_layers=2, order=2, part_iter=20, part_type=3, path='./datasets/data/WSDREAM/', pre_epoch=1000, pretrain=True, processed=0, random_state=1001, record=1, retrain=0, rounds=1, save_model=1, slice=1, slice_decay=0.001, slice_epochs=100, slice_lr=0.001, slices=5, verbose=10, wd=0.0005)\r\n",
      "2023-02-02 21:59:03  Dataset : rt     interaction : NeuCF\r\n",
      "2023-02-02 21:59:03  Density : 10.00%, slice_epochs : 100, agg_epochs : 10\r\n",
      "2023-02-02 21:59:03  Part_type : 3,    slices : 5,       devices : gpu\r\n",
      "2023-02-02 21:59:03  Slice_lr : 0.005,    Slice_decay : 0.0001\r\n",
      "2023-02-02 21:59:03  Agg_lr : 0.001,    Agg_decay : 0.01\r\n",
      "2023-02-02 21:59:03  Aggregation function : softmax\r\n",
      "\r\n",
      "2023-02-02 21:59:03  Round 1 experiment start!\r\n",
      "2023-02-02 21:59:03  \t原始数据集读取完毕\r\n",
      "2023-02-02 21:59:04  \tReceraser 基于交互切割完毕\r\n",
      "2023-02-02 21:59:04  \t分切数据执行完毕\r\n",
      "2023-02-02 21:59:06  \t模型加载完毕\r\n",
      "2023-02-02 21:59:06  \t准备训练切片模型\r\n",
      "2023-02-02 21:59:06  \t实验 1 模型 1 开始分片训练\r\n",
      "2023-02-02 21:59:22  Epoch 10 : MAE : 0.7442  RMSE : 1.8555  NMAE : 0.8136  MRE : 0.8149  NPRE : 4.0268\r\n",
      "2023-02-02 21:59:38  Epoch 20 : MAE : 0.7066  RMSE : 1.8487  NMAE : 0.7726  MRE : 0.6946  NPRE : 3.3783\r\n",
      "2023-02-02 21:59:53  Best epoch 19 : MAE : 0.7025  RMSE : 1.8388  NMAE : 0.7680  MRE : 0.6906  NPRE : 3.6349\r\n",
      "2023-02-02 21:59:53  实验 1 模型 1 training time = 10.08 s\r\n",
      "2023-02-02 21:59:53  Slice ID  1 : MAE = 0.7025, RMSE = 1.8388, NMAE = 0.7680, MRE = 0.6906, NPRE = 3.6349\r\n",
      "\r\n",
      "2023-02-02 21:59:53  \t实验 1 模型 2 开始分片训练\r\n",
      "2023-02-02 22:00:08  Epoch 10 : MAE : 0.7031  RMSE : 1.7502  NMAE : 0.7688  MRE : 0.7616  NPRE : 4.2306\r\n",
      "2023-02-02 22:00:24  Epoch 20 : MAE : 0.6866  RMSE : 1.7082  NMAE : 0.7507  MRE : 0.7361  NPRE : 3.9825\r\n",
      "2023-02-02 22:00:27  Best epoch 12 : MAE : 0.6833  RMSE : 1.7091  NMAE : 0.7471  MRE : 0.7306  NPRE : 3.9767\r\n",
      "2023-02-02 22:00:27  实验 1 模型 2 training time = 5.52 s\r\n",
      "2023-02-02 22:00:27  Slice ID  2 : MAE = 0.6833, RMSE = 1.7091, NMAE = 0.7471, MRE = 0.7306, NPRE = 3.9767\r\n",
      "\r\n",
      "2023-02-02 22:00:27  \t实验 1 模型 3 开始分片训练\r\n",
      "2023-02-02 22:00:43  Epoch 10 : MAE : 0.7857  RMSE : 1.8512  NMAE : 0.8591  MRE : 0.8920  NPRE : 5.5038\r\n",
      "2023-02-02 22:00:57  Epoch 20 : MAE : 0.7717  RMSE : 1.8134  NMAE : 0.8438  MRE : 0.8287  NPRE : 5.7312\r\n",
      "2023-02-02 22:00:59  Best epoch 11 : MAE : 0.7399  RMSE : 1.8467  NMAE : 0.8090  MRE : 0.8204  NPRE : 3.6509\r\n",
      "2023-02-02 22:00:59  实验 1 模型 3 training time = 4.78 s\r\n",
      "2023-02-02 22:00:59  Slice ID  3 : MAE = 0.7399, RMSE = 1.8467, NMAE = 0.8090, MRE = 0.8204, NPRE = 3.6509\r\n",
      "\r\n",
      "2023-02-02 22:00:59  \t实验 1 模型 4 开始分片训练\r\n",
      "2023-02-02 22:01:13  Epoch 10 : MAE : 0.7745  RMSE : 1.8501  NMAE : 0.8468  MRE : 0.8497  NPRE : 4.8422\r\n",
      "2023-02-02 22:01:27  Epoch 20 : MAE : 0.7908  RMSE : 1.8334  NMAE : 0.8646  MRE : 0.8501  NPRE : 5.0521\r\n",
      "2023-02-02 22:01:30  Best epoch 12 : MAE : 0.7488  RMSE : 1.8447  NMAE : 0.8187  MRE : 0.8074  NPRE : 3.8916\r\n",
      "2023-02-02 22:01:30  实验 1 模型 4 training time = 4.11 s\r\n",
      "2023-02-02 22:01:30  Slice ID  4 : MAE = 0.7488, RMSE = 1.8447, NMAE = 0.8187, MRE = 0.8074, NPRE = 3.8916\r\n",
      "\r\n",
      "2023-02-02 22:01:30  \t实验 1 模型 5 开始分片训练\r\n",
      "2023-02-02 22:01:47  Epoch 10 : MAE : 0.7067  RMSE : 1.8040  NMAE : 0.7727  MRE : 0.7587  NPRE : 3.2707\r\n",
      "2023-02-02 22:02:03  Epoch 20 : MAE : 0.6903  RMSE : 1.7715  NMAE : 0.7547  MRE : 0.6839  NPRE : 3.7901\r\n",
      "2023-02-02 22:02:19  Epoch 30 : MAE : 0.7329  RMSE : 1.7945  NMAE : 0.8014  MRE : 0.7770  NPRE : 3.7501\r\n",
      "2023-02-02 22:02:21  Best epoch 21 : MAE : 0.6828  RMSE : 1.7868  NMAE : 0.7465  MRE : 0.6403  NPRE : 3.6741\r\n",
      "2023-02-02 22:02:21  实验 1 模型 5 training time = 11.32 s\r\n",
      "2023-02-02 22:02:21  Slice ID  5 : MAE = 0.6828, RMSE = 1.7868, NMAE = 0.7465, MRE = 0.6403, NPRE = 3.6741\r\n",
      "\r\n",
      "2023-02-02 22:02:21  \t所有切片模型训练完毕\r\n",
      "2023-02-02 22:02:21  \t开始训练聚合模型\r\n",
      "2023-02-02 22:02:25  Epoch  1 : MAE : 0.6167  RMSE : 1.6430  NMAE : 0.6785  MRE : 0.5788  NPRE : 2.9676\r\n",
      "2023-02-02 22:02:29  Epoch  2 : MAE : 0.5795  RMSE : 1.6097  NMAE : 0.6376  MRE : 0.5206  NPRE : 2.8977\r\n",
      "2023-02-02 22:02:33  Epoch  3 : MAE : 0.5612  RMSE : 1.5854  NMAE : 0.6174  MRE : 0.4977  NPRE : 2.0948\r\n",
      "2023-02-02 22:02:37  Epoch  4 : MAE : 0.5408  RMSE : 1.5312  NMAE : 0.5950  MRE : 0.4901  NPRE : 2.1851\r\n",
      "2023-02-02 22:02:41  Epoch  5 : MAE : 0.5263  RMSE : 1.4945  NMAE : 0.5791  MRE : 0.4704  NPRE : 2.0992\r\n",
      "2023-02-02 22:02:45  Epoch  6 : MAE : 0.5140  RMSE : 1.4765  NMAE : 0.5655  MRE : 0.4574  NPRE : 2.4946\r\n",
      "2023-02-02 22:02:49  Epoch  7 : MAE : 0.5092  RMSE : 1.4543  NMAE : 0.5603  MRE : 0.4781  NPRE : 3.0296\r\n",
      "2023-02-02 22:02:53  Epoch  8 : MAE : 0.4977  RMSE : 1.4569  NMAE : 0.5476  MRE : 0.4557  NPRE : 1.8578\r\n",
      "2023-02-02 22:02:57  Epoch  9 : MAE : 0.4920  RMSE : 1.4487  NMAE : 0.5413  MRE : 0.4502  NPRE : 1.9051\r\n",
      "2023-02-02 22:03:01  Epoch 10 : MAE : 0.4857  RMSE : 1.4421  NMAE : 0.5344  MRE : 0.4361  NPRE : 2.0473\r\n",
      "2023-02-02 22:03:01  Best epoch 10 : MAE : 0.4857  RMSE : 1.4421  NMAE : 0.5344  MRE : 0.4361  NPRE : 2.0473\r\n",
      "2023-02-02 22:03:01  \t实验 1 聚合模型训练完毕\r\n",
      "100%|███████████████████████████████████████████| 13/13 [00:03<00:00,  4.32it/s]\r\n",
      "2023-02-02 22:03:05  Result : MAE : 0.4853  RMSE : 1.4401  NMAE : 0.5339  MRE : 0.4362  NPRE : 2.0478\r\n",
      "2023-02-02 22:03:05  \t实验 1 : Aggregators training time = 9.80 s\r\n",
      "\r\n",
      "2023-02-02 22:03:05  \t聚合模型训练完毕\r\n",
      "\r\n",
      "------------------------------------------------------------------------------------------------------------------------\r\n",
      "2023-02-02 22:03:05  Dataset : rt     interaction : NeuCF\r\n",
      "2023-02-02 22:03:05  Density : 10.00%, slice_epochs : 100, agg_epochs : 10\r\n",
      "2023-02-02 22:03:05  Part_type : 3,    slices : 5,       devices : gpu\r\n",
      "\r\n",
      "\r\n",
      "2023-02-02 22:03:05  Density 10.00% : MAE = 0.485, RMSE = 1.440, NMAE = 0.534, MRE = 0.436, NPRE = 2.048\r\n",
      "\r\n",
      "2023-02-02 22:03:05  Experiment success!\r\n",
      "\r\n"
     ]
    }
   ],
   "source": [
    "!python Experiment.py --dataset rt --interaction NeuCF --rounds 1 --slices 5 --agg_epochs 10 --density 0.10 --part_type 3"
   ],
   "metadata": {
    "collapsed": false
   }
  },
  {
   "cell_type": "code",
   "execution_count": 36,
   "outputs": [
    {
     "name": "stdout",
     "output_type": "stream",
     "text": [
      "2023-02-02 22:03:06  Experiment start!\r\n",
      "2023-02-02 22:03:06  Namespace(F=1, agg2=0, agg_decay=0.001, agg_epochs=10, agg_function=1, agg_lr=0.001, agg_type='att', att_decay=0.0001, att_lr=0.001, batch_size=128, beta=1, cluster='deep', cuda=True, dataset='rt', debug=0, density=0.1, devices='gpu', dimension=32, dir='../Dataset/mnist', dropout=0.1, epoch=1500, external_dim=64, hidden_dims=[64, 64, 100], input_dim=128, interaction='NeuCF', lamda=1, latent_dim=10, log_interval=100, lr=0.0001, n_classes=10, n_clusters=10, n_jobs=1, node2vec=0, node2vec_batchsize=32, node2vec_dim=128, node2vec_epochs=20, node2vec_length=8, node2vec_walk=15, node2vec_windows=3, num_layers=2, order=2, part_iter=20, part_type=5, path='./datasets/data/WSDREAM/', pre_epoch=1000, pretrain=True, processed=0, random_state=1001, record=1, retrain=0, rounds=1, save_model=1, slice=1, slice_decay=0.001, slice_epochs=100, slice_lr=0.001, slices=5, verbose=10, wd=0.0005)\r\n",
      "2023-02-02 22:03:06  Dataset : rt     interaction : NeuCF\r\n",
      "2023-02-02 22:03:06  Density : 10.00%, slice_epochs : 100, agg_epochs : 10\r\n",
      "2023-02-02 22:03:06  Part_type : 5,    slices : 5,       devices : gpu\r\n",
      "2023-02-02 22:03:06  Slice_lr : 0.005,    Slice_decay : 0.0001\r\n",
      "2023-02-02 22:03:06  Agg_lr : 0.001,    Agg_decay : 0.01\r\n",
      "2023-02-02 22:03:06  Aggregation function : att\r\n",
      "\r\n",
      "2023-02-02 22:03:06  Round 1 experiment start!\r\n",
      "2023-02-02 22:03:06  \t原始数据集读取完毕\r\n",
      "2023-02-02 22:03:06  \t图嵌入均衡切割\r\n",
      "42 45 78 89 85 \r\n",
      "2023-02-02 22:03:06  \tNode2Vec 基于用户聚类均衡切割完毕\r\n",
      "2023-02-02 22:03:06  \t分切数据执行完毕\r\n",
      "2023-02-02 22:03:08  \t模型加载完毕\r\n",
      "2023-02-02 22:03:08  \t准备训练切片模型\r\n",
      "2023-02-02 22:03:08  \t实验 1 模型 1 开始分片训练\r\n",
      "2023-02-02 22:03:15  Epoch 10 : MAE : 0.8212  RMSE : 1.9294  NMAE : 0.7446  MRE : 0.7575  NPRE : 4.3276\r\n",
      "2023-02-02 22:03:23  Epoch 20 : MAE : 0.7728  RMSE : 1.8826  NMAE : 0.7007  MRE : 0.6469  NPRE : 3.1941\r\n",
      "2023-02-02 22:03:30  Epoch 30 : MAE : 0.7647  RMSE : 1.8697  NMAE : 0.6934  MRE : 0.6409  NPRE : 3.3216\r\n",
      "2023-02-02 22:03:33  Best epoch 25 : MAE : 0.7625  RMSE : 1.8538  NMAE : 0.6914  MRE : 0.6258  NPRE : 3.5257\r\n",
      "2023-02-02 22:03:33  实验 1 模型 1 training time = 6.66 s\r\n",
      "2023-02-02 22:03:33  Slice ID  1 : MAE = 0.7625, RMSE = 1.8538, NMAE = 0.6914, MRE = 0.6258, NPRE = 3.5257\r\n",
      "\r\n",
      "2023-02-02 22:03:33  \t实验 1 模型 2 开始分片训练\r\n",
      "2023-02-02 22:03:40  Epoch 10 : MAE : 0.6541  RMSE : 1.6917  NMAE : 0.7490  MRE : 0.7180  NPRE : 3.6745\r\n",
      "2023-02-02 22:03:47  Epoch 20 : MAE : 0.5705  RMSE : 1.5812  NMAE : 0.6534  MRE : 0.5516  NPRE : 2.7011\r\n",
      "2023-02-02 22:03:55  Epoch 30 : MAE : 0.5620  RMSE : 1.5669  NMAE : 0.6436  MRE : 0.5555  NPRE : 2.7002\r\n",
      "2023-02-02 22:04:02  Epoch 40 : MAE : 0.5506  RMSE : 1.4988  NMAE : 0.6306  MRE : 0.5749  NPRE : 2.9557\r\n",
      "2023-02-02 22:04:04  Best epoch 33 : MAE : 0.5460  RMSE : 1.5137  NMAE : 0.6253  MRE : 0.5628  NPRE : 2.5637\r\n",
      "2023-02-02 22:04:04  实验 1 模型 2 training time = 9.19 s\r\n",
      "2023-02-02 22:04:04  Slice ID  2 : MAE = 0.5460, RMSE = 1.5137, NMAE = 0.6253, MRE = 0.5628, NPRE = 2.5637\r\n",
      "\r\n",
      "2023-02-02 22:04:04  \t实验 1 模型 3 开始分片训练\r\n",
      "2023-02-02 22:04:14  Epoch 10 : MAE : 0.5140  RMSE : 1.4771  NMAE : 0.5962  MRE : 0.5239  NPRE : 2.4993\r\n",
      "2023-02-02 22:04:24  Epoch 20 : MAE : 0.4694  RMSE : 1.4195  NMAE : 0.5445  MRE : 0.4251  NPRE : 1.8484\r\n",
      "2023-02-02 22:04:34  Epoch 30 : MAE : 0.4617  RMSE : 1.3835  NMAE : 0.5355  MRE : 0.4301  NPRE : 2.0034\r\n",
      "2023-02-02 22:04:41  Best epoch 27 : MAE : 0.4560  RMSE : 1.3839  NMAE : 0.5289  MRE : 0.4113  NPRE : 1.6976\r\n",
      "2023-02-02 22:04:41  实验 1 模型 3 training time = 13.29 s\r\n",
      "2023-02-02 22:04:41  Slice ID  3 : MAE = 0.4560, RMSE = 1.3839, NMAE = 0.5289, MRE = 0.4113, NPRE = 1.6976\r\n",
      "\r\n",
      "2023-02-02 22:04:41  \t实验 1 模型 4 开始分片训练\r\n",
      "2023-02-02 22:04:52  Epoch 10 : MAE : 0.5104  RMSE : 1.4304  NMAE : 0.5871  MRE : 0.5317  NPRE : 2.4759\r\n",
      "2023-02-02 22:05:03  Epoch 20 : MAE : 0.4803  RMSE : 1.4446  NMAE : 0.5525  MRE : 0.4354  NPRE : 1.7937\r\n",
      "2023-02-02 22:05:14  Epoch 30 : MAE : 0.4775  RMSE : 1.4245  NMAE : 0.5492  MRE : 0.4362  NPRE : 1.8171\r\n",
      "2023-02-02 22:05:24  Epoch 40 : MAE : 0.5005  RMSE : 1.4779  NMAE : 0.5757  MRE : 0.4897  NPRE : 1.7619\r\n",
      "2023-02-02 22:05:24  Best epoch 30 : MAE : 0.4775  RMSE : 1.4245  NMAE : 0.5492  MRE : 0.4362  NPRE : 1.8171\r\n",
      "2023-02-02 22:05:25  实验 1 模型 4 training time = 16.70 s\r\n",
      "2023-02-02 22:05:25  Slice ID  4 : MAE = 0.4775, RMSE = 1.4245, NMAE = 0.5492, MRE = 0.4362, NPRE = 1.8171\r\n",
      "\r\n",
      "2023-02-02 22:05:25  \t实验 1 模型 5 开始分片训练\r\n",
      "2023-02-02 22:05:36  Epoch 10 : MAE : 0.5979  RMSE : 1.5558  NMAE : 0.6350  MRE : 0.6277  NPRE : 3.5710\r\n",
      "2023-02-02 22:05:46  Epoch 20 : MAE : 0.5422  RMSE : 1.5553  NMAE : 0.5759  MRE : 0.4695  NPRE : 2.4098\r\n",
      "2023-02-02 22:05:57  Epoch 30 : MAE : 0.5345  RMSE : 1.5441  NMAE : 0.5677  MRE : 0.4602  NPRE : 2.3373\r\n",
      "2023-02-02 22:06:05  Best epoch 28 : MAE : 0.5129  RMSE : 1.4980  NMAE : 0.5447  MRE : 0.4495  NPRE : 1.4668\r\n",
      "2023-02-02 22:06:05  实验 1 模型 5 training time = 15.06 s\r\n",
      "2023-02-02 22:06:05  Slice ID  5 : MAE = 0.5129, RMSE = 1.4980, NMAE = 0.5447, MRE = 0.4495, NPRE = 1.4668\r\n",
      "\r\n",
      "2023-02-02 22:06:05  \t所有切片模型训练完毕\r\n",
      "2023-02-02 22:06:05  \t开始训练聚合模型\r\n",
      "2023-02-02 22:06:11  Epoch  1 : MAE : 0.5539  RMSE : 1.5195  NMAE : 0.6094  MRE : 0.5249  NPRE : 2.3474\r\n",
      "2023-02-02 22:06:16  Epoch  2 : MAE : 0.4801  RMSE : 1.3860  NMAE : 0.5282  MRE : 0.4303  NPRE : 2.3805\r\n",
      "2023-02-02 22:06:21  Epoch  3 : MAE : 0.4585  RMSE : 1.4032  NMAE : 0.5045  MRE : 0.3828  NPRE : 1.3059\r\n",
      "2023-02-02 22:06:27  Epoch  4 : MAE : 0.4394  RMSE : 1.3809  NMAE : 0.4834  MRE : 0.3547  NPRE : 1.3960\r\n",
      "2023-02-02 22:06:32  Epoch  5 : MAE : 0.4260  RMSE : 1.3723  NMAE : 0.4687  MRE : 0.3374  NPRE : 1.3545\r\n",
      "2023-02-02 22:06:38  Epoch  6 : MAE : 0.4183  RMSE : 1.3556  NMAE : 0.4602  MRE : 0.3310  NPRE : 1.1186\r\n",
      "2023-02-02 22:06:43  Epoch  7 : MAE : 0.4124  RMSE : 1.3512  NMAE : 0.4537  MRE : 0.3207  NPRE : 1.3406\r\n",
      "2023-02-02 22:06:48  Epoch  8 : MAE : 0.4078  RMSE : 1.3319  NMAE : 0.4487  MRE : 0.3194  NPRE : 1.5073\r\n",
      "2023-02-02 22:06:54  Epoch  9 : MAE : 0.4060  RMSE : 1.3346  NMAE : 0.4467  MRE : 0.3147  NPRE : 1.3185\r\n",
      "2023-02-02 22:06:59  Epoch 10 : MAE : 0.4089  RMSE : 1.3437  NMAE : 0.4499  MRE : 0.3109  NPRE : 1.0974\r\n",
      "2023-02-02 22:06:59  Best epoch  9 : MAE : 0.4060  RMSE : 1.3346  NMAE : 0.4467  MRE : 0.3147  NPRE : 1.3185\r\n",
      "2023-02-02 22:06:59  \t实验 1 聚合模型训练完毕\r\n",
      "100%|███████████████████████████████████████████| 13/13 [00:03<00:00,  4.19it/s]\r\n",
      "2023-02-02 22:07:03  Result : MAE : 0.4062  RMSE : 1.3385  NMAE : 0.4469  MRE : 0.3095  NPRE : 1.1953\r\n",
      "2023-02-02 22:07:03  \t实验 1 : Aggregators training time = 20.11 s\r\n",
      "\r\n",
      "2023-02-02 22:07:03  \t聚合模型训练完毕\r\n",
      "\r\n",
      "------------------------------------------------------------------------------------------------------------------------\r\n",
      "2023-02-02 22:07:03  Dataset : rt     interaction : NeuCF\r\n",
      "2023-02-02 22:07:03  Density : 10.00%, slice_epochs : 100, agg_epochs : 10\r\n",
      "2023-02-02 22:07:03  Part_type : 5,    slices : 5,       devices : gpu\r\n",
      "\r\n",
      "\r\n",
      "2023-02-02 22:07:03  Density 10.00% : MAE = 0.406, RMSE = 1.338, NMAE = 0.447, MRE = 0.310, NPRE = 1.195\r\n",
      "\r\n",
      "2023-02-02 22:07:03  Experiment success!\r\n",
      "\r\n"
     ]
    }
   ],
   "source": [
    "!python Experiment.py --dataset rt --interaction NeuCF --rounds 1 --slices 5 --agg_epochs 10 --density 0.10 --part_type 5"
   ],
   "metadata": {
    "collapsed": false
   }
  },
  {
   "cell_type": "code",
   "execution_count": 37,
   "outputs": [
    {
     "name": "stdout",
     "output_type": "stream",
     "text": [
      "2023-02-02 22:07:04  Experiment start!\r\n",
      "2023-02-02 22:07:04  Namespace(F=1, agg2=0, agg_decay=0.001, agg_epochs=10, agg_function=1, agg_lr=0.001, agg_type='att', att_decay=0.0001, att_lr=0.001, batch_size=128, beta=1, cluster='deep', cuda=True, dataset='rt', debug=0, density=0.15, devices='gpu', dimension=32, dir='../Dataset/mnist', dropout=0.1, epoch=1500, external_dim=64, hidden_dims=[64, 64, 100], input_dim=128, interaction='NeuCF', lamda=1, latent_dim=10, log_interval=100, lr=0.0001, n_classes=10, n_clusters=10, n_jobs=1, node2vec=0, node2vec_batchsize=32, node2vec_dim=128, node2vec_epochs=20, node2vec_length=8, node2vec_walk=15, node2vec_windows=3, num_layers=2, order=2, part_iter=20, part_type=1, path='./datasets/data/WSDREAM/', pre_epoch=1000, pretrain=True, processed=0, random_state=1001, record=1, retrain=0, rounds=1, save_model=1, slice=1, slice_decay=0.001, slice_epochs=100, slice_lr=0.001, slices=5, verbose=10, wd=0.0005)\r\n",
      "2023-02-02 22:07:04  Dataset : rt     interaction : NeuCF\r\n",
      "2023-02-02 22:07:04  Density : 15.00%, slice_epochs : 100, agg_epochs : 10\r\n",
      "2023-02-02 22:07:04  Part_type : 1,    slices : 5,       devices : gpu\r\n",
      "2023-02-02 22:07:04  Slice_lr : 0.005,    Slice_decay : 0.01\r\n",
      "2023-02-02 22:07:04  Agg_lr : 0.001,    Agg_decay : 0.01\r\n",
      "2023-02-02 22:07:04  Aggregation function : mean\r\n",
      "\r\n",
      "2023-02-02 22:07:04  Round 1 experiment start!\r\n",
      "2023-02-02 22:07:04  \t原始数据集读取完毕\r\n",
      "2023-02-02 22:07:04  \tSISA 切割完毕\r\n",
      "2023-02-02 22:07:04  \t分切数据执行完毕\r\n",
      "2023-02-02 22:07:06  \t模型加载完毕\r\n",
      "2023-02-02 22:07:06  \t准备训练切片模型\r\n",
      "2023-02-02 22:07:06  \t实验 1 模型 1 开始分片训练\r\n",
      "2023-02-02 22:07:30  Epoch 10 : MAE : 0.5463  RMSE : 1.4919  NMAE : 0.6007  MRE : 0.5731  NPRE : 2.6879\r\n",
      "2023-02-02 22:07:51  Epoch 20 : MAE : 0.5269  RMSE : 1.4712  NMAE : 0.5793  MRE : 0.5066  NPRE : 2.7403\r\n",
      "2023-02-02 22:08:09  Best epoch 18 : MAE : 0.5184  RMSE : 1.4692  NMAE : 0.5700  MRE : 0.4843  NPRE : 2.2590\r\n",
      "2023-02-02 22:08:09  实验 1 模型 1 training time = 15.65 s\r\n",
      "2023-02-02 22:08:09  Slice ID  1 : MAE = 0.5184, RMSE = 1.4692, NMAE = 0.5700, MRE = 0.4843, NPRE = 2.2590\r\n",
      "\r\n",
      "2023-02-02 22:08:09  \t实验 1 模型 2 开始分片训练\r\n",
      "2023-02-02 22:08:31  Epoch 10 : MAE : 0.5394  RMSE : 1.5158  NMAE : 0.5931  MRE : 0.5569  NPRE : 2.2260\r\n",
      "2023-02-02 22:08:52  Epoch 20 : MAE : 0.5302  RMSE : 1.4675  NMAE : 0.5829  MRE : 0.5578  NPRE : 2.9791\r\n",
      "2023-02-02 22:09:06  Best epoch 18 : MAE : 0.5224  RMSE : 1.4802  NMAE : 0.5744  MRE : 0.5270  NPRE : 2.2379\r\n",
      "2023-02-02 22:09:06  实验 1 模型 2 training time = 16.31 s\r\n",
      "2023-02-02 22:09:06  Slice ID  2 : MAE = 0.5224, RMSE = 1.4802, NMAE = 0.5744, MRE = 0.5270, NPRE = 2.2379\r\n",
      "\r\n",
      "2023-02-02 22:09:06  \t实验 1 模型 3 开始分片训练\r\n",
      "2023-02-02 22:09:23  Epoch 10 : MAE : 0.5435  RMSE : 1.5087  NMAE : 0.5975  MRE : 0.5703  NPRE : 2.3460\r\n",
      "2023-02-02 22:09:40  Epoch 20 : MAE : 0.5357  RMSE : 1.4965  NMAE : 0.5890  MRE : 0.5109  NPRE : 2.9884\r\n",
      "2023-02-02 22:09:54  Best epoch 18 : MAE : 0.5145  RMSE : 1.4627  NMAE : 0.5656  MRE : 0.5012  NPRE : 1.8490\r\n",
      "2023-02-02 22:09:54  实验 1 模型 3 training time = 11.69 s\r\n",
      "2023-02-02 22:09:54  Slice ID  3 : MAE = 0.5145, RMSE = 1.4627, NMAE = 0.5656, MRE = 0.5012, NPRE = 1.8490\r\n",
      "\r\n",
      "2023-02-02 22:09:54  \t实验 1 模型 4 开始分片训练\r\n",
      "2023-02-02 22:10:11  Epoch 10 : MAE : 0.5472  RMSE : 1.4798  NMAE : 0.6017  MRE : 0.5751  NPRE : 3.4380\r\n",
      "2023-02-02 22:10:28  Epoch 20 : MAE : 0.5070  RMSE : 1.4660  NMAE : 0.5575  MRE : 0.4842  NPRE : 2.1145\r\n",
      "2023-02-02 22:10:38  Best epoch 16 : MAE : 0.5060  RMSE : 1.4531  NMAE : 0.5564  MRE : 0.4846  NPRE : 2.1725\r\n",
      "2023-02-02 22:10:38  实验 1 模型 4 training time = 10.04 s\r\n",
      "2023-02-02 22:10:38  Slice ID  4 : MAE = 0.5060, RMSE = 1.4531, NMAE = 0.5564, MRE = 0.4846, NPRE = 2.1725\r\n",
      "\r\n",
      "2023-02-02 22:10:38  \t实验 1 模型 5 开始分片训练\r\n",
      "2023-02-02 22:10:55  Epoch 10 : MAE : 0.5366  RMSE : 1.4988  NMAE : 0.5900  MRE : 0.5418  NPRE : 2.7691\r\n",
      "2023-02-02 22:11:12  Epoch 20 : MAE : 0.5125  RMSE : 1.4590  NMAE : 0.5635  MRE : 0.4977  NPRE : 2.3430\r\n",
      "2023-02-02 22:11:24  Best epoch 17 : MAE : 0.5058  RMSE : 1.4640  NMAE : 0.5561  MRE : 0.4692  NPRE : 2.5498\r\n",
      "2023-02-02 22:11:24  实验 1 模型 5 training time = 10.87 s\r\n",
      "2023-02-02 22:11:24  Slice ID  5 : MAE = 0.5058, RMSE = 1.4640, NMAE = 0.5561, MRE = 0.4692, NPRE = 2.5498\r\n",
      "\r\n",
      "2023-02-02 22:11:24  \t所有切片模型训练完毕\r\n",
      "2023-02-02 22:11:24  \t开始训练聚合模型\r\n",
      "2023-02-02 22:11:29  Epoch  1 : MAE : 0.5249  RMSE : 1.4705  NMAE : 0.5772  MRE : 0.4905  NPRE : 2.4000\r\n",
      "2023-02-02 22:11:33  Epoch  2 : MAE : 0.5021  RMSE : 1.4624  NMAE : 0.5522  MRE : 0.4370  NPRE : 1.8258\r\n",
      "2023-02-02 22:11:37  Epoch  3 : MAE : 0.4888  RMSE : 1.4330  NMAE : 0.5376  MRE : 0.4125  NPRE : 2.1615\r\n",
      "2023-02-02 22:11:41  Epoch  4 : MAE : 0.4803  RMSE : 1.4176  NMAE : 0.5282  MRE : 0.4038  NPRE : 2.2727\r\n",
      "2023-02-02 22:11:44  Epoch  5 : MAE : 0.4733  RMSE : 1.4041  NMAE : 0.5205  MRE : 0.4102  NPRE : 1.9069\r\n",
      "2023-02-02 22:11:48  Epoch  6 : MAE : 0.4667  RMSE : 1.3936  NMAE : 0.5133  MRE : 0.3958  NPRE : 1.9893\r\n",
      "2023-02-02 22:11:52  Epoch  7 : MAE : 0.4614  RMSE : 1.3886  NMAE : 0.5074  MRE : 0.3886  NPRE : 2.0028\r\n",
      "2023-02-02 22:11:56  Epoch  8 : MAE : 0.4600  RMSE : 1.3855  NMAE : 0.5059  MRE : 0.3892  NPRE : 2.2157\r\n",
      "2023-02-02 22:12:00  Epoch  9 : MAE : 0.4564  RMSE : 1.3799  NMAE : 0.5019  MRE : 0.3956  NPRE : 1.7855\r\n",
      "2023-02-02 22:12:04  Epoch 10 : MAE : 0.4533  RMSE : 1.3762  NMAE : 0.4985  MRE : 0.3826  NPRE : 2.0862\r\n",
      "2023-02-02 22:12:04  Best epoch 10 : MAE : 0.4533  RMSE : 1.3762  NMAE : 0.4985  MRE : 0.3826  NPRE : 2.0862\r\n",
      "2023-02-02 22:12:04  \t实验 1 聚合模型训练完毕\r\n",
      "100%|███████████████████████████████████████████| 12/12 [00:02<00:00,  4.27it/s]\r\n",
      "2023-02-02 22:12:07  Result : MAE : 0.4530  RMSE : 1.3749  NMAE : 0.4982  MRE : 0.3821  NPRE : 2.0826\r\n",
      "2023-02-02 22:12:07  \t实验 1 : Aggregators training time = 9.34 s\r\n",
      "\r\n",
      "2023-02-02 22:12:07  \t聚合模型训练完毕\r\n",
      "\r\n",
      "------------------------------------------------------------------------------------------------------------------------\r\n",
      "2023-02-02 22:12:07  Dataset : rt     interaction : NeuCF\r\n",
      "2023-02-02 22:12:07  Density : 15.00%, slice_epochs : 100, agg_epochs : 10\r\n",
      "2023-02-02 22:12:07  Part_type : 1,    slices : 5,       devices : gpu\r\n",
      "\r\n",
      "\r\n",
      "2023-02-02 22:12:07  Density 15.00% : MAE = 0.453, RMSE = 1.375, NMAE = 0.498, MRE = 0.382, NPRE = 2.083\r\n",
      "\r\n",
      "2023-02-02 22:12:07  Experiment success!\r\n",
      "\r\n"
     ]
    }
   ],
   "source": [
    "!python Experiment.py --dataset rt --interaction NeuCF --rounds 1 --slices 5 --agg_epochs 10 --density 0.15 --part_type 1"
   ],
   "metadata": {
    "collapsed": false
   }
  },
  {
   "cell_type": "code",
   "execution_count": 38,
   "outputs": [
    {
     "name": "stdout",
     "output_type": "stream",
     "text": [
      "2023-02-02 22:12:08  Experiment start!\r\n",
      "2023-02-02 22:12:08  Namespace(F=1, agg2=0, agg_decay=0.001, agg_epochs=10, agg_function=1, agg_lr=0.001, agg_type='att', att_decay=0.0001, att_lr=0.001, batch_size=128, beta=1, cluster='deep', cuda=True, dataset='rt', debug=0, density=0.15, devices='gpu', dimension=32, dir='../Dataset/mnist', dropout=0.1, epoch=1500, external_dim=64, hidden_dims=[64, 64, 100], input_dim=128, interaction='NeuCF', lamda=1, latent_dim=10, log_interval=100, lr=0.0001, n_classes=10, n_clusters=10, n_jobs=1, node2vec=0, node2vec_batchsize=32, node2vec_dim=128, node2vec_epochs=20, node2vec_length=8, node2vec_walk=15, node2vec_windows=3, num_layers=2, order=2, part_iter=20, part_type=3, path='./datasets/data/WSDREAM/', pre_epoch=1000, pretrain=True, processed=0, random_state=1001, record=1, retrain=0, rounds=1, save_model=1, slice=1, slice_decay=0.001, slice_epochs=100, slice_lr=0.001, slices=5, verbose=10, wd=0.0005)\r\n",
      "2023-02-02 22:12:08  Dataset : rt     interaction : NeuCF\r\n",
      "2023-02-02 22:12:08  Density : 15.00%, slice_epochs : 100, agg_epochs : 10\r\n",
      "2023-02-02 22:12:08  Part_type : 3,    slices : 5,       devices : gpu\r\n",
      "2023-02-02 22:12:08  Slice_lr : 0.005,    Slice_decay : 0.01\r\n",
      "2023-02-02 22:12:08  Agg_lr : 0.001,    Agg_decay : 0.01\r\n",
      "2023-02-02 22:12:08  Aggregation function : softmax\r\n",
      "\r\n",
      "2023-02-02 22:12:08  Round 1 experiment start!\r\n",
      "2023-02-02 22:12:08  \t原始数据集读取完毕\r\n",
      "2023-02-02 22:12:09  \tReceraser 基于交互切割完毕\r\n",
      "2023-02-02 22:12:09  \t分切数据执行完毕\r\n",
      "2023-02-02 22:12:11  \t模型加载完毕\r\n",
      "2023-02-02 22:12:11  \t准备训练切片模型\r\n",
      "2023-02-02 22:12:11  \t实验 1 模型 1 开始分片训练\r\n",
      "2023-02-02 22:12:29  Epoch 10 : MAE : 0.6830  RMSE : 1.8014  NMAE : 0.7509  MRE : 0.6945  NPRE : 3.2680\r\n",
      "2023-02-02 22:12:47  Epoch 20 : MAE : 0.6605  RMSE : 1.7733  NMAE : 0.7263  MRE : 0.6041  NPRE : 3.5522\r\n",
      "2023-02-02 22:13:05  Epoch 30 : MAE : 0.6821  RMSE : 1.7782  NMAE : 0.7500  MRE : 0.6693  NPRE : 4.0979\r\n",
      "2023-02-02 22:13:07  Best epoch 21 : MAE : 0.6543  RMSE : 1.7810  NMAE : 0.7193  MRE : 0.5908  NPRE : 3.5524\r\n",
      "2023-02-02 22:13:07  实验 1 模型 1 training time = 15.92 s\r\n",
      "2023-02-02 22:13:07  Slice ID  1 : MAE = 0.6543, RMSE = 1.7810, NMAE = 0.7193, MRE = 0.5908, NPRE = 3.5524\r\n",
      "\r\n",
      "2023-02-02 22:13:07  \t实验 1 模型 2 开始分片训练\r\n",
      "2023-02-02 22:13:24  Epoch 10 : MAE : 0.7027  RMSE : 1.7842  NMAE : 0.7727  MRE : 0.7045  NPRE : 3.6930\r\n",
      "2023-02-02 22:13:41  Epoch 20 : MAE : 0.7152  RMSE : 1.7442  NMAE : 0.7864  MRE : 0.8158  NPRE : 3.9719\r\n",
      "2023-02-02 22:13:52  Best epoch 16 : MAE : 0.6522  RMSE : 1.7082  NMAE : 0.7171  MRE : 0.6798  NPRE : 3.0257\r\n",
      "2023-02-02 22:13:52  实验 1 模型 2 training time = 9.62 s\r\n",
      "2023-02-02 22:13:52  Slice ID  2 : MAE = 0.6522, RMSE = 1.7082, NMAE = 0.7171, MRE = 0.6798, NPRE = 3.0257\r\n",
      "\r\n",
      "2023-02-02 22:13:52  \t实验 1 模型 3 开始分片训练\r\n",
      "2023-02-02 22:14:08  Epoch 10 : MAE : 0.7153  RMSE : 1.7898  NMAE : 0.7864  MRE : 0.7498  NPRE : 5.1245\r\n",
      "2023-02-02 22:14:25  Epoch 20 : MAE : 0.7432  RMSE : 1.8377  NMAE : 0.8172  MRE : 0.7743  NPRE : 5.7955\r\n",
      "2023-02-02 22:14:35  Best epoch 16 : MAE : 0.6877  RMSE : 1.7921  NMAE : 0.7561  MRE : 0.6764  NPRE : 4.0494\r\n",
      "2023-02-02 22:14:35  实验 1 模型 3 training time = 9.19 s\r\n",
      "2023-02-02 22:14:35  Slice ID  3 : MAE = 0.6877, RMSE = 1.7921, NMAE = 0.7561, MRE = 0.6764, NPRE = 4.0494\r\n",
      "\r\n",
      "2023-02-02 22:14:35  \t实验 1 模型 4 开始分片训练\r\n",
      "2023-02-02 22:14:50  Epoch 10 : MAE : 0.7657  RMSE : 1.8050  NMAE : 0.8418  MRE : 0.8352  NPRE : 4.1730\r\n",
      "2023-02-02 22:15:05  Best epoch  9 : MAE : 0.7209  RMSE : 1.7786  NMAE : 0.7926  MRE : 0.7736  NPRE : 3.7546\r\n",
      "2023-02-02 22:15:05  实验 1 模型 4 training time = 4.15 s\r\n",
      "2023-02-02 22:15:05  Slice ID  4 : MAE = 0.7209, RMSE = 1.7786, NMAE = 0.7926, MRE = 0.7736, NPRE = 3.7546\r\n",
      "\r\n",
      "2023-02-02 22:15:05  \t实验 1 模型 5 开始分片训练\r\n",
      "2023-02-02 22:15:23  Epoch 10 : MAE : 0.6886  RMSE : 1.7791  NMAE : 0.7571  MRE : 0.6999  NPRE : 3.9383\r\n",
      "2023-02-02 22:15:41  Epoch 20 : MAE : 0.6719  RMSE : 1.7749  NMAE : 0.7387  MRE : 0.6299  NPRE : 3.2435\r\n",
      "2023-02-02 22:15:46  Best epoch 13 : MAE : 0.6578  RMSE : 1.7780  NMAE : 0.7232  MRE : 0.6010  NPRE : 3.1386\r\n",
      "2023-02-02 22:15:46  实验 1 模型 5 training time = 9.86 s\r\n",
      "2023-02-02 22:15:46  Slice ID  5 : MAE = 0.6578, RMSE = 1.7780, NMAE = 0.7232, MRE = 0.6010, NPRE = 3.1386\r\n",
      "\r\n",
      "2023-02-02 22:15:46  \t所有切片模型训练完毕\r\n",
      "2023-02-02 22:15:46  \t开始训练聚合模型\r\n",
      "2023-02-02 22:15:51  Epoch  1 : MAE : 0.5681  RMSE : 1.5611  NMAE : 0.6248  MRE : 0.5336  NPRE : 2.6461\r\n",
      "2023-02-02 22:15:55  Epoch  2 : MAE : 0.5231  RMSE : 1.4956  NMAE : 0.5753  MRE : 0.4660  NPRE : 2.3290\r\n",
      "2023-02-02 22:16:00  Epoch  3 : MAE : 0.5020  RMSE : 1.4598  NMAE : 0.5521  MRE : 0.4377  NPRE : 2.2046\r\n",
      "2023-02-02 22:16:04  Epoch  4 : MAE : 0.4833  RMSE : 1.4337  NMAE : 0.5315  MRE : 0.4177  NPRE : 2.1917\r\n",
      "2023-02-02 22:16:08  Epoch  5 : MAE : 0.4731  RMSE : 1.4218  NMAE : 0.5203  MRE : 0.4100  NPRE : 2.0897\r\n",
      "2023-02-02 22:16:12  Epoch  6 : MAE : 0.4669  RMSE : 1.4107  NMAE : 0.5135  MRE : 0.4022  NPRE : 2.1146\r\n",
      "2023-02-02 22:16:16  Epoch  7 : MAE : 0.4603  RMSE : 1.4013  NMAE : 0.5062  MRE : 0.4034  NPRE : 1.9594\r\n",
      "2023-02-02 22:16:20  Epoch  8 : MAE : 0.4560  RMSE : 1.3952  NMAE : 0.5014  MRE : 0.4000  NPRE : 1.8000\r\n",
      "2023-02-02 22:16:25  Epoch  9 : MAE : 0.4499  RMSE : 1.3784  NMAE : 0.4947  MRE : 0.3929  NPRE : 1.8718\r\n",
      "2023-02-02 22:16:29  Epoch 10 : MAE : 0.4458  RMSE : 1.3702  NMAE : 0.4903  MRE : 0.3823  NPRE : 2.0199\r\n",
      "2023-02-02 22:16:29  Best epoch 10 : MAE : 0.4458  RMSE : 1.3702  NMAE : 0.4903  MRE : 0.3823  NPRE : 2.0199\r\n",
      "2023-02-02 22:16:29  \t实验 1 聚合模型训练完毕\r\n",
      "100%|███████████████████████████████████████████| 12/12 [00:02<00:00,  4.07it/s]\r\n",
      "2023-02-02 22:16:32  Result : MAE : 0.4459  RMSE : 1.3703  NMAE : 0.4904  MRE : 0.3825  NPRE : 2.0216\r\n",
      "2023-02-02 22:16:32  \t实验 1 : Aggregators training time = 12.19 s\r\n",
      "\r\n",
      "2023-02-02 22:16:32  \t聚合模型训练完毕\r\n",
      "\r\n",
      "------------------------------------------------------------------------------------------------------------------------\r\n",
      "2023-02-02 22:16:32  Dataset : rt     interaction : NeuCF\r\n",
      "2023-02-02 22:16:32  Density : 15.00%, slice_epochs : 100, agg_epochs : 10\r\n",
      "2023-02-02 22:16:32  Part_type : 3,    slices : 5,       devices : gpu\r\n",
      "\r\n",
      "\r\n",
      "2023-02-02 22:16:32  Density 15.00% : MAE = 0.446, RMSE = 1.370, NMAE = 0.490, MRE = 0.382, NPRE = 2.022\r\n",
      "\r\n",
      "2023-02-02 22:16:32  Experiment success!\r\n",
      "\r\n"
     ]
    }
   ],
   "source": [
    "!python Experiment.py --dataset rt --interaction NeuCF --rounds 1 --slices 5 --agg_epochs 10 --density 0.15 --part_type 3"
   ],
   "metadata": {
    "collapsed": false
   }
  },
  {
   "cell_type": "code",
   "execution_count": 39,
   "outputs": [
    {
     "name": "stdout",
     "output_type": "stream",
     "text": [
      "2023-02-02 22:16:33  Experiment start!\r\n",
      "2023-02-02 22:16:33  Namespace(F=1, agg2=0, agg_decay=0.001, agg_epochs=10, agg_function=1, agg_lr=0.001, agg_type='att', att_decay=0.0001, att_lr=0.001, batch_size=128, beta=1, cluster='deep', cuda=True, dataset='rt', debug=0, density=0.15, devices='gpu', dimension=32, dir='../Dataset/mnist', dropout=0.1, epoch=1500, external_dim=64, hidden_dims=[64, 64, 100], input_dim=128, interaction='NeuCF', lamda=1, latent_dim=10, log_interval=100, lr=0.0001, n_classes=10, n_clusters=10, n_jobs=1, node2vec=0, node2vec_batchsize=32, node2vec_dim=128, node2vec_epochs=20, node2vec_length=8, node2vec_walk=15, node2vec_windows=3, num_layers=2, order=2, part_iter=20, part_type=5, path='./datasets/data/WSDREAM/', pre_epoch=1000, pretrain=True, processed=0, random_state=1001, record=1, retrain=0, rounds=1, save_model=1, slice=1, slice_decay=0.001, slice_epochs=100, slice_lr=0.001, slices=5, verbose=10, wd=0.0005)\r\n",
      "2023-02-02 22:16:33  Dataset : rt     interaction : NeuCF\r\n",
      "2023-02-02 22:16:33  Density : 15.00%, slice_epochs : 100, agg_epochs : 10\r\n",
      "2023-02-02 22:16:33  Part_type : 5,    slices : 5,       devices : gpu\r\n",
      "2023-02-02 22:16:33  Slice_lr : 0.005,    Slice_decay : 0.01\r\n",
      "2023-02-02 22:16:33  Agg_lr : 0.001,    Agg_decay : 0.01\r\n",
      "2023-02-02 22:16:33  Aggregation function : att\r\n",
      "\r\n",
      "2023-02-02 22:16:33  Round 1 experiment start!\r\n",
      "2023-02-02 22:16:33  \t原始数据集读取完毕\r\n",
      "2023-02-02 22:16:34  \t图嵌入均衡切割\r\n",
      "42 45 78 89 85 \r\n",
      "2023-02-02 22:16:34  \tNode2Vec 基于用户聚类均衡切割完毕\r\n",
      "2023-02-02 22:16:34  \t分切数据执行完毕\r\n",
      "2023-02-02 22:16:36  \t模型加载完毕\r\n",
      "2023-02-02 22:16:36  \t准备训练切片模型\r\n",
      "2023-02-02 22:16:36  \t实验 1 模型 1 开始分片训练\r\n",
      "2023-02-02 22:16:44  Epoch 10 : MAE : 0.7386  RMSE : 1.8258  NMAE : 0.6506  MRE : 0.6430  NPRE : 3.5554\r\n",
      "2023-02-02 22:16:53  Epoch 20 : MAE : 0.6732  RMSE : 1.7795  NMAE : 0.5930  MRE : 0.4985  NPRE : 2.5433\r\n",
      "2023-02-02 22:17:01  Epoch 30 : MAE : 0.6659  RMSE : 1.7310  NMAE : 0.5865  MRE : 0.5335  NPRE : 2.9074\r\n",
      "2023-02-02 22:17:09  Epoch 40 : MAE : 0.6834  RMSE : 1.7152  NMAE : 0.6020  MRE : 0.5895  NPRE : 2.9679\r\n",
      "2023-02-02 22:17:16  Best epoch 39 : MAE : 0.6608  RMSE : 1.7111  NMAE : 0.5821  MRE : 0.5470  NPRE : 2.6133\r\n",
      "2023-02-02 22:17:16  实验 1 模型 1 training time = 14.98 s\r\n",
      "2023-02-02 22:17:16  Slice ID  1 : MAE = 0.6608, RMSE = 1.7111, NMAE = 0.5821, MRE = 0.5470, NPRE = 2.6133\r\n",
      "\r\n",
      "2023-02-02 22:17:16  \t实验 1 模型 2 开始分片训练\r\n",
      "2023-02-02 22:17:25  Epoch 10 : MAE : 0.5428  RMSE : 1.4893  NMAE : 0.6200  MRE : 0.6298  NPRE : 2.3427\r\n",
      "2023-02-02 22:17:33  Epoch 20 : MAE : 0.4818  RMSE : 1.4356  NMAE : 0.5503  MRE : 0.4376  NPRE : 2.4236\r\n",
      "2023-02-02 22:17:41  Epoch 30 : MAE : 0.4779  RMSE : 1.4399  NMAE : 0.5458  MRE : 0.4485  NPRE : 1.7558\r\n",
      "2023-02-02 22:17:47  Best epoch 27 : MAE : 0.4691  RMSE : 1.4373  NMAE : 0.5358  MRE : 0.4220  NPRE : 2.1338\r\n",
      "2023-02-02 22:17:47  实验 1 模型 2 training time = 11.03 s\r\n",
      "2023-02-02 22:17:47  Slice ID  2 : MAE = 0.4691, RMSE = 1.4373, NMAE = 0.5358, MRE = 0.4220, NPRE = 2.1338\r\n",
      "\r\n",
      "2023-02-02 22:17:47  \t实验 1 模型 3 开始分片训练\r\n",
      "2023-02-02 22:18:00  Epoch 10 : MAE : 0.4824  RMSE : 1.4411  NMAE : 0.5635  MRE : 0.4469  NPRE : 2.1152\r\n",
      "2023-02-02 22:18:12  Epoch 20 : MAE : 0.4206  RMSE : 1.3950  NMAE : 0.4913  MRE : 0.3412  NPRE : 1.4945\r\n",
      "2023-02-02 22:18:24  Epoch 30 : MAE : 0.4326  RMSE : 1.3965  NMAE : 0.5053  MRE : 0.3707  NPRE : 1.1839\r\n",
      "2023-02-02 22:18:24  Best epoch 20 : MAE : 0.4206  RMSE : 1.3950  NMAE : 0.4913  MRE : 0.3412  NPRE : 1.4945\r\n",
      "2023-02-02 22:18:24  实验 1 模型 3 training time = 14.07 s\r\n",
      "2023-02-02 22:18:24  Slice ID  3 : MAE = 0.4206, RMSE = 1.3950, NMAE = 0.4913, MRE = 0.3412, NPRE = 1.4945\r\n",
      "\r\n",
      "2023-02-02 22:18:24  \t实验 1 模型 4 开始分片训练\r\n",
      "2023-02-02 22:18:38  Epoch 10 : MAE : 0.4591  RMSE : 1.2984  NMAE : 0.5474  MRE : 0.4507  NPRE : 2.2451\r\n",
      "2023-02-02 22:18:51  Epoch 20 : MAE : 0.4130  RMSE : 1.2771  NMAE : 0.4924  MRE : 0.3836  NPRE : 1.0000\r\n",
      "2023-02-02 22:19:05  Epoch 30 : MAE : 0.4089  RMSE : 1.2638  NMAE : 0.4876  MRE : 0.3597  NPRE : 1.2066\r\n",
      "2023-02-02 22:19:07  Best epoch 21 : MAE : 0.4051  RMSE : 1.2796  NMAE : 0.4831  MRE : 0.3240  NPRE : 1.0000\r\n",
      "2023-02-02 22:19:07  实验 1 模型 4 training time = 17.31 s\r\n",
      "2023-02-02 22:19:07  Slice ID  4 : MAE = 0.4051, RMSE = 1.2796, NMAE = 0.4831, MRE = 0.3240, NPRE = 1.0000\r\n",
      "\r\n",
      "2023-02-02 22:19:07  \t实验 1 模型 5 开始分片训练\r\n",
      "2023-02-02 22:19:20  Epoch 10 : MAE : 0.4964  RMSE : 1.4613  NMAE : 0.5281  MRE : 0.4445  NPRE : 2.3163\r\n",
      "2023-02-02 22:19:33  Epoch 20 : MAE : 0.4640  RMSE : 1.4231  NMAE : 0.4936  MRE : 0.4081  NPRE : 1.7679\r\n",
      "2023-02-02 22:19:46  Epoch 30 : MAE : 0.4807  RMSE : 1.3848  NMAE : 0.5113  MRE : 0.4772  NPRE : 2.0338\r\n",
      "2023-02-02 22:19:47  Best epoch 21 : MAE : 0.4431  RMSE : 1.4185  NMAE : 0.4714  MRE : 0.3545  NPRE : 1.0000\r\n",
      "2023-02-02 22:19:47  实验 1 模型 5 training time = 16.40 s\r\n",
      "2023-02-02 22:19:47  Slice ID  5 : MAE = 0.4431, RMSE = 1.4185, NMAE = 0.4714, MRE = 0.3545, NPRE = 1.0000\r\n",
      "\r\n",
      "2023-02-02 22:19:47  \t所有切片模型训练完毕\r\n",
      "2023-02-02 22:19:47  \t开始训练聚合模型\r\n",
      "2023-02-02 22:19:54  Epoch  1 : MAE : 0.4910  RMSE : 1.4334  NMAE : 0.5399  MRE : 0.4410  NPRE : 1.7551\r\n",
      "2023-02-02 22:20:00  Epoch  2 : MAE : 0.4158  RMSE : 1.3297  NMAE : 0.4572  MRE : 0.3590  NPRE : 1.6074\r\n",
      "2023-02-02 22:20:05  Epoch  3 : MAE : 0.3968  RMSE : 1.3220  NMAE : 0.4364  MRE : 0.3195  NPRE : 1.0000\r\n",
      "2023-02-02 22:20:11  Epoch  4 : MAE : 0.3937  RMSE : 1.3170  NMAE : 0.4329  MRE : 0.3221  NPRE : 1.0000\r\n",
      "2023-02-02 22:20:18  Epoch  5 : MAE : 0.3839  RMSE : 1.3048  NMAE : 0.4222  MRE : 0.2861  NPRE : 1.0000\r\n",
      "2023-02-02 22:20:24  Epoch  6 : MAE : 0.3755  RMSE : 1.2826  NMAE : 0.4129  MRE : 0.2805  NPRE : 0.9803\r\n",
      "2023-02-02 22:20:30  Epoch  7 : MAE : 0.3736  RMSE : 1.2854  NMAE : 0.4109  MRE : 0.2805  NPRE : 0.9666\r\n",
      "2023-02-02 22:20:36  Epoch  8 : MAE : 0.3788  RMSE : 1.2989  NMAE : 0.4166  MRE : 0.3044  NPRE : 0.9313\r\n",
      "2023-02-02 22:20:42  Epoch  9 : MAE : 0.3805  RMSE : 1.2895  NMAE : 0.4185  MRE : 0.2820  NPRE : 1.2036\r\n",
      "2023-02-02 22:20:48  Epoch 10 : MAE : 0.3722  RMSE : 1.2748  NMAE : 0.4093  MRE : 0.2673  NPRE : 1.0000\r\n",
      "2023-02-02 22:20:48  Best epoch 10 : MAE : 0.3722  RMSE : 1.2748  NMAE : 0.4093  MRE : 0.2673  NPRE : 1.0000\r\n",
      "2023-02-02 22:20:48  \t实验 1 聚合模型训练完毕\r\n",
      "100%|███████████████████████████████████████████| 12/12 [00:02<00:00,  4.09it/s]\r\n",
      "2023-02-02 22:20:51  Result : MAE : 0.3721  RMSE : 1.2747  NMAE : 0.4092  MRE : 0.2672  NPRE : 1.0000\r\n",
      "2023-02-02 22:20:51  \t实验 1 : Aggregators training time = 30.42 s\r\n",
      "\r\n",
      "2023-02-02 22:20:51  \t聚合模型训练完毕\r\n",
      "\r\n",
      "------------------------------------------------------------------------------------------------------------------------\r\n",
      "2023-02-02 22:20:51  Dataset : rt     interaction : NeuCF\r\n",
      "2023-02-02 22:20:51  Density : 15.00%, slice_epochs : 100, agg_epochs : 10\r\n",
      "2023-02-02 22:20:51  Part_type : 5,    slices : 5,       devices : gpu\r\n",
      "\r\n",
      "\r\n",
      "2023-02-02 22:20:51  Density 15.00% : MAE = 0.372, RMSE = 1.275, NMAE = 0.409, MRE = 0.267, NPRE = 1.000\r\n",
      "\r\n",
      "2023-02-02 22:20:51  Experiment success!\r\n",
      "\r\n"
     ]
    }
   ],
   "source": [
    "!python Experiment.py --dataset rt --interaction NeuCF --rounds 1 --slices 5 --agg_epochs 10 --density 0.15 --part_type 5"
   ],
   "metadata": {
    "collapsed": false
   }
  },
  {
   "cell_type": "code",
   "execution_count": 40,
   "outputs": [
    {
     "name": "stdout",
     "output_type": "stream",
     "text": [
      "2023-02-02 22:20:52  Experiment start!\r\n",
      "2023-02-02 22:20:52  Namespace(F=1, agg2=0, agg_decay=0.001, agg_epochs=10, agg_function=1, agg_lr=0.001, agg_type='att', att_decay=0.0001, att_lr=0.001, batch_size=128, beta=1, cluster='deep', cuda=True, dataset='rt', debug=0, density=0.2, devices='gpu', dimension=32, dir='../Dataset/mnist', dropout=0.1, epoch=1500, external_dim=64, hidden_dims=[64, 64, 100], input_dim=128, interaction='NeuCF', lamda=1, latent_dim=10, log_interval=100, lr=0.0001, n_classes=10, n_clusters=10, n_jobs=1, node2vec=0, node2vec_batchsize=32, node2vec_dim=128, node2vec_epochs=20, node2vec_length=8, node2vec_walk=15, node2vec_windows=3, num_layers=2, order=2, part_iter=20, part_type=1, path='./datasets/data/WSDREAM/', pre_epoch=1000, pretrain=True, processed=0, random_state=1001, record=1, retrain=0, rounds=1, save_model=1, slice=1, slice_decay=0.001, slice_epochs=100, slice_lr=0.001, slices=5, verbose=10, wd=0.0005)\r\n",
      "2023-02-02 22:20:52  Dataset : rt     interaction : NeuCF\r\n",
      "2023-02-02 22:20:52  Density : 20.00%, slice_epochs : 100, agg_epochs : 10\r\n",
      "2023-02-02 22:20:52  Part_type : 1,    slices : 5,       devices : gpu\r\n",
      "2023-02-02 22:20:52  Slice_lr : 0.005,    Slice_decay : 0.001\r\n",
      "2023-02-02 22:20:52  Agg_lr : 0.001,    Agg_decay : 0.0001\r\n",
      "2023-02-02 22:20:52  Aggregation function : mean\r\n",
      "\r\n",
      "2023-02-02 22:20:52  Round 1 experiment start!\r\n",
      "2023-02-02 22:20:53  \t原始数据集读取完毕\r\n",
      "2023-02-02 22:20:53  \tSISA 切割完毕\r\n",
      "2023-02-02 22:20:53  \t分切数据执行完毕\r\n",
      "2023-02-02 22:20:55  \t模型加载完毕\r\n",
      "2023-02-02 22:20:55  \t准备训练切片模型\r\n",
      "2023-02-02 22:20:55  \t实验 1 模型 1 开始分片训练\r\n",
      "2023-02-02 22:21:14  Epoch 10 : MAE : 0.5164  RMSE : 1.4006  NMAE : 0.5726  MRE : 0.5726  NPRE : 3.0990\r\n",
      "2023-02-02 22:21:34  Epoch 20 : MAE : 0.4838  RMSE : 1.3880  NMAE : 0.5364  MRE : 0.4747  NPRE : 2.1683\r\n",
      "2023-02-02 22:21:52  Epoch 30 : MAE : 0.4912  RMSE : 1.3843  NMAE : 0.5446  MRE : 0.5132  NPRE : 1.9705\r\n",
      "2023-02-02 22:22:04  Best epoch 26 : MAE : 0.4699  RMSE : 1.3867  NMAE : 0.5210  MRE : 0.4542  NPRE : 1.7244\r\n",
      "2023-02-02 22:22:04  实验 1 模型 1 training time = 21.54 s\r\n",
      "2023-02-02 22:22:04  Slice ID  1 : MAE = 0.4699, RMSE = 1.3867, NMAE = 0.5210, MRE = 0.4542, NPRE = 1.7244\r\n",
      "\r\n",
      "2023-02-02 22:22:04  \t实验 1 模型 2 开始分片训练\r\n",
      "2023-02-02 22:22:23  Epoch 10 : MAE : 0.5074  RMSE : 1.4103  NMAE : 0.5625  MRE : 0.5249  NPRE : 2.9615\r\n",
      "2023-02-02 22:22:43  Epoch 20 : MAE : 0.4823  RMSE : 1.3838  NMAE : 0.5347  MRE : 0.4627  NPRE : 2.3655\r\n",
      "2023-02-02 22:23:02  Epoch 30 : MAE : 0.4871  RMSE : 1.3878  NMAE : 0.5400  MRE : 0.5092  NPRE : 1.8575\r\n",
      "2023-02-02 22:23:13  Best epoch 26 : MAE : 0.4730  RMSE : 1.4030  NMAE : 0.5244  MRE : 0.4500  NPRE : 1.7122\r\n",
      "2023-02-02 22:23:13  实验 1 模型 2 training time = 22.22 s\r\n",
      "2023-02-02 22:23:13  Slice ID  2 : MAE = 0.4730, RMSE = 1.4030, NMAE = 0.5244, MRE = 0.4500, NPRE = 1.7122\r\n",
      "\r\n",
      "2023-02-02 22:23:13  \t实验 1 模型 3 开始分片训练\r\n",
      "2023-02-02 22:23:33  Epoch 10 : MAE : 0.5443  RMSE : 1.4812  NMAE : 0.6035  MRE : 0.5972  NPRE : 3.0649\r\n",
      "2023-02-02 22:23:52  Epoch 20 : MAE : 0.5451  RMSE : 1.4547  NMAE : 0.6044  MRE : 0.6493  NPRE : 3.9831\r\n",
      "2023-02-02 22:24:11  Epoch 30 : MAE : 0.5107  RMSE : 1.4714  NMAE : 0.5662  MRE : 0.5132  NPRE : 2.2434\r\n",
      "2023-02-02 22:24:13  Best epoch 21 : MAE : 0.4868  RMSE : 1.4332  NMAE : 0.5397  MRE : 0.4694  NPRE : 1.8341\r\n",
      "2023-02-02 22:24:13  实验 1 模型 3 training time = 17.50 s\r\n",
      "2023-02-02 22:24:13  Slice ID  3 : MAE = 0.4868, RMSE = 1.4332, NMAE = 0.5397, MRE = 0.4694, NPRE = 1.8341\r\n",
      "\r\n",
      "2023-02-02 22:24:13  \t实验 1 模型 4 开始分片训练\r\n",
      "2023-02-02 22:24:32  Epoch 10 : MAE : 0.5170  RMSE : 1.4302  NMAE : 0.5732  MRE : 0.5880  NPRE : 1.9733\r\n",
      "2023-02-02 22:24:51  Epoch 20 : MAE : 0.4753  RMSE : 1.3927  NMAE : 0.5269  MRE : 0.4453  NPRE : 1.9361\r\n",
      "2023-02-02 22:25:10  Epoch 30 : MAE : 0.4941  RMSE : 1.4101  NMAE : 0.5478  MRE : 0.4912  NPRE : 1.9804\r\n",
      "2023-02-02 22:25:22  Best epoch 26 : MAE : 0.4746  RMSE : 1.3764  NMAE : 0.5262  MRE : 0.4699  NPRE : 1.5964\r\n",
      "2023-02-02 22:25:22  实验 1 模型 4 training time = 21.84 s\r\n",
      "2023-02-02 22:25:22  Slice ID  4 : MAE = 0.4746, RMSE = 1.3764, NMAE = 0.5262, MRE = 0.4699, NPRE = 1.5964\r\n",
      "\r\n",
      "2023-02-02 22:25:22  \t实验 1 模型 5 开始分片训练\r\n",
      "2023-02-02 22:25:41  Epoch 10 : MAE : 0.5162  RMSE : 1.4266  NMAE : 0.5723  MRE : 0.5532  NPRE : 2.4633\r\n",
      "2023-02-02 22:26:00  Epoch 20 : MAE : 0.4919  RMSE : 1.4059  NMAE : 0.5454  MRE : 0.4737  NPRE : 1.8939\r\n",
      "2023-02-02 22:26:19  Epoch 30 : MAE : 0.5286  RMSE : 1.4542  NMAE : 0.5861  MRE : 0.5150  NPRE : 2.6003\r\n",
      "2023-02-02 22:26:33  Best epoch 27 : MAE : 0.4917  RMSE : 1.3984  NMAE : 0.5452  MRE : 0.4999  NPRE : 1.9007\r\n",
      "2023-02-02 22:26:33  实验 1 模型 5 training time = 22.31 s\r\n",
      "2023-02-02 22:26:33  Slice ID  5 : MAE = 0.4917, RMSE = 1.3984, NMAE = 0.5452, MRE = 0.4999, NPRE = 1.9007\r\n",
      "\r\n",
      "2023-02-02 22:26:33  \t所有切片模型训练完毕\r\n",
      "2023-02-02 22:26:33  \t开始训练聚合模型\r\n",
      "2023-02-02 22:26:37  Epoch  1 : MAE : 0.4726  RMSE : 1.3975  NMAE : 0.5192  MRE : 0.4027  NPRE : 2.1370\r\n",
      "2023-02-02 22:26:41  Epoch  2 : MAE : 0.4520  RMSE : 1.3584  NMAE : 0.4965  MRE : 0.3873  NPRE : 2.2220\r\n",
      "2023-02-02 22:26:46  Epoch  3 : MAE : 0.4397  RMSE : 1.3527  NMAE : 0.4830  MRE : 0.3912  NPRE : 1.5700\r\n",
      "2023-02-02 22:26:50  Epoch  4 : MAE : 0.4350  RMSE : 1.3410  NMAE : 0.4778  MRE : 0.3836  NPRE : 1.6583\r\n",
      "2023-02-02 22:26:54  Epoch  5 : MAE : 0.4286  RMSE : 1.3318  NMAE : 0.4708  MRE : 0.3738  NPRE : 1.7275\r\n",
      "2023-02-02 22:26:58  Epoch  6 : MAE : 0.4298  RMSE : 1.3376  NMAE : 0.4722  MRE : 0.3735  NPRE : 1.7191\r\n",
      "2023-02-02 22:27:02  Epoch  7 : MAE : 0.4245  RMSE : 1.3304  NMAE : 0.4663  MRE : 0.3637  NPRE : 2.0993\r\n",
      "2023-02-02 22:27:06  Epoch  8 : MAE : 0.4229  RMSE : 1.3248  NMAE : 0.4645  MRE : 0.3645  NPRE : 2.1350\r\n",
      "2023-02-02 22:27:10  Epoch  9 : MAE : 0.4197  RMSE : 1.3279  NMAE : 0.4611  MRE : 0.3694  NPRE : 1.5733\r\n",
      "2023-02-02 22:27:14  Epoch 10 : MAE : 0.4185  RMSE : 1.3235  NMAE : 0.4597  MRE : 0.3578  NPRE : 1.8022\r\n",
      "2023-02-02 22:27:14  Best epoch 10 : MAE : 0.4185  RMSE : 1.3235  NMAE : 0.4597  MRE : 0.3578  NPRE : 1.8022\r\n",
      "2023-02-02 22:27:14  \t实验 1 聚合模型训练完毕\r\n",
      "100%|███████████████████████████████████████████| 11/11 [00:02<00:00,  3.90it/s]\r\n",
      "2023-02-02 22:27:17  Result : MAE : 0.4185  RMSE : 1.3234  NMAE : 0.4598  MRE : 0.3579  NPRE : 1.8032\r\n",
      "2023-02-02 22:27:17  \t实验 1 : Aggregators training time = 11.27 s\r\n",
      "\r\n",
      "2023-02-02 22:27:17  \t聚合模型训练完毕\r\n",
      "\r\n",
      "------------------------------------------------------------------------------------------------------------------------\r\n",
      "2023-02-02 22:27:17  Dataset : rt     interaction : NeuCF\r\n",
      "2023-02-02 22:27:17  Density : 20.00%, slice_epochs : 100, agg_epochs : 10\r\n",
      "2023-02-02 22:27:17  Part_type : 1,    slices : 5,       devices : gpu\r\n",
      "\r\n",
      "\r\n",
      "2023-02-02 22:27:17  Density 20.00% : MAE = 0.419, RMSE = 1.323, NMAE = 0.460, MRE = 0.358, NPRE = 1.803\r\n",
      "\r\n",
      "2023-02-02 22:27:17  Experiment success!\r\n",
      "\r\n"
     ]
    }
   ],
   "source": [
    "!python Experiment.py --dataset rt --interaction NeuCF --rounds 1 --slices 5 --agg_epochs 10 --density 0.20 --part_type 1"
   ],
   "metadata": {
    "collapsed": false
   }
  },
  {
   "cell_type": "code",
   "execution_count": 41,
   "outputs": [
    {
     "name": "stdout",
     "output_type": "stream",
     "text": [
      "2023-02-02 22:27:18  Experiment start!\r\n",
      "2023-02-02 22:27:18  Namespace(F=1, agg2=0, agg_decay=0.001, agg_epochs=10, agg_function=1, agg_lr=0.001, agg_type='att', att_decay=0.0001, att_lr=0.001, batch_size=128, beta=1, cluster='deep', cuda=True, dataset='rt', debug=0, density=0.2, devices='gpu', dimension=32, dir='../Dataset/mnist', dropout=0.1, epoch=1500, external_dim=64, hidden_dims=[64, 64, 100], input_dim=128, interaction='NeuCF', lamda=1, latent_dim=10, log_interval=100, lr=0.0001, n_classes=10, n_clusters=10, n_jobs=1, node2vec=0, node2vec_batchsize=32, node2vec_dim=128, node2vec_epochs=20, node2vec_length=8, node2vec_walk=15, node2vec_windows=3, num_layers=2, order=2, part_iter=20, part_type=3, path='./datasets/data/WSDREAM/', pre_epoch=1000, pretrain=True, processed=0, random_state=1001, record=1, retrain=0, rounds=1, save_model=1, slice=1, slice_decay=0.001, slice_epochs=100, slice_lr=0.001, slices=5, verbose=10, wd=0.0005)\r\n",
      "2023-02-02 22:27:18  Dataset : rt     interaction : NeuCF\r\n",
      "2023-02-02 22:27:18  Density : 20.00%, slice_epochs : 100, agg_epochs : 10\r\n",
      "2023-02-02 22:27:18  Part_type : 3,    slices : 5,       devices : gpu\r\n",
      "2023-02-02 22:27:18  Slice_lr : 0.005,    Slice_decay : 0.001\r\n",
      "2023-02-02 22:27:18  Agg_lr : 0.001,    Agg_decay : 0.0001\r\n",
      "2023-02-02 22:27:18  Aggregation function : softmax\r\n",
      "\r\n",
      "2023-02-02 22:27:18  Round 1 experiment start!\r\n",
      "2023-02-02 22:27:18  \t原始数据集读取完毕\r\n",
      "2023-02-02 22:27:19  \tReceraser 基于交互切割完毕\r\n",
      "2023-02-02 22:27:19  \t分切数据执行完毕\r\n",
      "2023-02-02 22:27:21  \t模型加载完毕\r\n",
      "2023-02-02 22:27:21  \t准备训练切片模型\r\n",
      "2023-02-02 22:27:21  \t实验 1 模型 1 开始分片训练\r\n",
      "2023-02-02 22:27:43  Epoch 10 : MAE : 0.7034  RMSE : 1.7468  NMAE : 0.7799  MRE : 0.7499  NPRE : 4.7387\r\n",
      "2023-02-02 22:28:04  Epoch 20 : MAE : 0.6743  RMSE : 1.7606  NMAE : 0.7476  MRE : 0.6526  NPRE : 3.5197\r\n",
      "2023-02-02 22:28:12  Best epoch 14 : MAE : 0.6614  RMSE : 1.7645  NMAE : 0.7334  MRE : 0.6313  NPRE : 2.8019\r\n",
      "2023-02-02 22:28:12  实验 1 模型 1 training time = 14.06 s\r\n",
      "2023-02-02 22:28:12  Slice ID  1 : MAE = 0.6614, RMSE = 1.7645, NMAE = 0.7334, MRE = 0.6313, NPRE = 2.8019\r\n",
      "\r\n",
      "2023-02-02 22:28:12  \t实验 1 模型 2 开始分片训练\r\n",
      "2023-02-02 22:28:32  Epoch 10 : MAE : 0.6502  RMSE : 1.6490  NMAE : 0.7208  MRE : 0.7805  NPRE : 2.5711\r\n",
      "2023-02-02 22:28:51  Epoch 20 : MAE : 0.6817  RMSE : 1.6135  NMAE : 0.7558  MRE : 0.8092  NPRE : 4.0179\r\n",
      "2023-02-02 22:28:53  Best epoch 11 : MAE : 0.6388  RMSE : 1.5935  NMAE : 0.7083  MRE : 0.7347  NPRE : 4.0101\r\n",
      "2023-02-02 22:28:53  实验 1 模型 2 training time = 9.50 s\r\n",
      "2023-02-02 22:28:53  Slice ID  2 : MAE = 0.6388, RMSE = 1.5935, NMAE = 0.7083, MRE = 0.7347, NPRE = 4.0101\r\n",
      "\r\n",
      "2023-02-02 22:28:53  \t实验 1 模型 3 开始分片训练\r\n",
      "2023-02-02 22:29:12  Epoch 10 : MAE : 0.7323  RMSE : 1.7817  NMAE : 0.8119  MRE : 0.7855  NPRE : 5.5405\r\n",
      "2023-02-02 22:29:30  Epoch 20 : MAE : 0.6958  RMSE : 1.7686  NMAE : 0.7714  MRE : 0.6778  NPRE : 4.5109\r\n",
      "2023-02-02 22:29:48  Epoch 30 : MAE : 0.7613  RMSE : 1.8043  NMAE : 0.8441  MRE : 0.8013  NPRE : 5.6294\r\n",
      "2023-02-02 22:29:53  Best epoch 23 : MAE : 0.6856  RMSE : 1.8006  NMAE : 0.7601  MRE : 0.6526  NPRE : 3.6353\r\n",
      "2023-02-02 22:29:53  实验 1 模型 3 training time = 17.35 s\r\n",
      "2023-02-02 22:29:53  Slice ID  3 : MAE = 0.6856, RMSE = 1.8006, NMAE = 0.7601, MRE = 0.6526, NPRE = 3.6353\r\n",
      "\r\n",
      "2023-02-02 22:29:53  \t实验 1 模型 4 开始分片训练\r\n",
      "2023-02-02 22:30:11  Epoch 10 : MAE : 0.7341  RMSE : 1.7173  NMAE : 0.8139  MRE : 0.8471  NPRE : 5.4610\r\n",
      "2023-02-02 22:30:28  Epoch 20 : MAE : 0.7463  RMSE : 1.7828  NMAE : 0.8274  MRE : 0.8473  NPRE : 4.5844\r\n",
      "2023-02-02 22:30:37  Best epoch 15 : MAE : 0.6725  RMSE : 1.6996  NMAE : 0.7456  MRE : 0.7360  NPRE : 3.0753\r\n",
      "2023-02-02 22:30:37  实验 1 模型 4 training time = 9.64 s\r\n",
      "2023-02-02 22:30:37  Slice ID  4 : MAE = 0.6725, RMSE = 1.6996, NMAE = 0.7456, MRE = 0.7360, NPRE = 3.0753\r\n",
      "\r\n",
      "2023-02-02 22:30:37  \t实验 1 模型 5 开始分片训练\r\n",
      "2023-02-02 22:30:58  Epoch 10 : MAE : 0.6540  RMSE : 1.7027  NMAE : 0.7251  MRE : 0.6805  NPRE : 3.0797\r\n",
      "2023-02-02 22:31:19  Epoch 20 : MAE : 0.6796  RMSE : 1.7272  NMAE : 0.7535  MRE : 0.6695  NPRE : 3.4886\r\n",
      "2023-02-02 22:31:34  Best epoch 17 : MAE : 0.6476  RMSE : 1.7154  NMAE : 0.7180  MRE : 0.5995  NPRE : 2.8431\r\n",
      "2023-02-02 22:31:34  实验 1 模型 5 training time = 17.47 s\r\n",
      "2023-02-02 22:31:34  Slice ID  5 : MAE = 0.6476, RMSE = 1.7154, NMAE = 0.7180, MRE = 0.5995, NPRE = 2.8431\r\n",
      "\r\n",
      "2023-02-02 22:31:34  \t所有切片模型训练完毕\r\n",
      "2023-02-02 22:31:34  \t开始训练聚合模型\r\n",
      "2023-02-02 22:31:39  Epoch  1 : MAE : 0.5244  RMSE : 1.5033  NMAE : 0.5760  MRE : 0.4662  NPRE : 2.3524\r\n",
      "2023-02-02 22:31:43  Epoch  2 : MAE : 0.4864  RMSE : 1.4121  NMAE : 0.5343  MRE : 0.4285  NPRE : 2.4671\r\n",
      "2023-02-02 22:31:48  Epoch  3 : MAE : 0.4633  RMSE : 1.3901  NMAE : 0.5089  MRE : 0.4075  NPRE : 1.9262\r\n",
      "2023-02-02 22:31:52  Epoch  4 : MAE : 0.4587  RMSE : 1.3832  NMAE : 0.5039  MRE : 0.3954  NPRE : 1.7956\r\n",
      "2023-02-02 22:31:56  Epoch  5 : MAE : 0.4416  RMSE : 1.3590  NMAE : 0.4852  MRE : 0.3740  NPRE : 2.0003\r\n",
      "2023-02-02 22:32:01  Epoch  6 : MAE : 0.4356  RMSE : 1.3602  NMAE : 0.4785  MRE : 0.3799  NPRE : 1.5036\r\n",
      "2023-02-02 22:32:05  Epoch  7 : MAE : 0.4273  RMSE : 1.3473  NMAE : 0.4694  MRE : 0.3590  NPRE : 1.8044\r\n",
      "2023-02-02 22:32:10  Epoch  8 : MAE : 0.4229  RMSE : 1.3426  NMAE : 0.4646  MRE : 0.3557  NPRE : 1.7502\r\n",
      "2023-02-02 22:32:14  Epoch  9 : MAE : 0.4195  RMSE : 1.3365  NMAE : 0.4609  MRE : 0.3539  NPRE : 1.6283\r\n",
      "2023-02-02 22:32:18  Epoch 10 : MAE : 0.4151  RMSE : 1.3300  NMAE : 0.4559  MRE : 0.3499  NPRE : 1.6032\r\n",
      "2023-02-02 22:32:18  Best epoch 10 : MAE : 0.4151  RMSE : 1.3300  NMAE : 0.4559  MRE : 0.3499  NPRE : 1.6032\r\n",
      "2023-02-02 22:32:18  \t实验 1 聚合模型训练完毕\r\n",
      "100%|███████████████████████████████████████████| 11/11 [00:02<00:00,  3.82it/s]\r\n",
      "2023-02-02 22:32:21  Result : MAE : 0.4151  RMSE : 1.3300  NMAE : 0.4560  MRE : 0.3490  NPRE : 1.6014\r\n",
      "2023-02-02 22:32:21  \t实验 1 : Aggregators training time = 14.57 s\r\n",
      "\r\n",
      "2023-02-02 22:32:21  \t聚合模型训练完毕\r\n",
      "\r\n",
      "------------------------------------------------------------------------------------------------------------------------\r\n",
      "2023-02-02 22:32:21  Dataset : rt     interaction : NeuCF\r\n",
      "2023-02-02 22:32:21  Density : 20.00%, slice_epochs : 100, agg_epochs : 10\r\n",
      "2023-02-02 22:32:21  Part_type : 3,    slices : 5,       devices : gpu\r\n",
      "\r\n",
      "\r\n",
      "2023-02-02 22:32:21  Density 20.00% : MAE = 0.415, RMSE = 1.330, NMAE = 0.456, MRE = 0.349, NPRE = 1.601\r\n",
      "\r\n",
      "2023-02-02 22:32:21  Experiment success!\r\n",
      "\r\n"
     ]
    }
   ],
   "source": [
    "!python Experiment.py --dataset rt --interaction NeuCF --rounds 1 --slices 5 --agg_epochs 10 --density 0.20 --part_type 3"
   ],
   "metadata": {
    "collapsed": false
   }
  },
  {
   "cell_type": "code",
   "execution_count": 42,
   "outputs": [
    {
     "name": "stdout",
     "output_type": "stream",
     "text": [
      "2023-02-02 22:32:22  All the experiments have been done!\r\n",
      "2023-02-02 22:32:22  Namespace(F=1, agg2=0, agg_decay=0.001, agg_epochs=10, agg_function=1, agg_lr=0.001, agg_type='att', att_decay=0.0001, att_lr=0.001, batch_size=128, beta=1, cluster='deep', cuda=True, dataset='rt', debug=0, density=0.2, devices='gpu', dimension=32, dir='../Dataset/mnist', dropout=0.1, epoch=1500, external_dim=64, hidden_dims=[64, 64, 100], input_dim=128, interaction='NeuCF', lamda=1, latent_dim=10, log_interval=100, lr=0.0001, n_classes=10, n_clusters=10, n_jobs=1, node2vec=0, node2vec_batchsize=32, node2vec_dim=128, node2vec_epochs=20, node2vec_length=8, node2vec_walk=15, node2vec_windows=3, num_layers=2, order=2, part_iter=20, part_type=5, path='./datasets/data/WSDREAM/', pre_epoch=1000, pretrain=True, processed=0, random_state=1001, record=1, retrain=0, rounds=1, save_model=1, slice=1, slice_decay=0.001, slice_epochs=100, slice_lr=0.001, slices=5, verbose=10, wd=0.0005)\r\n",
      "2023-02-02 22:32:22  Dataset : rt     interaction : NeuCF\r\n",
      "2023-02-02 22:32:22  Density : 20.00%, slice_epochs : 100, agg_epochs : 10\r\n",
      "2023-02-02 22:32:22  Part_type : 5,    slices : 5,       devices : gpu\r\n",
      "2023-02-02 22:32:22  Slice_lr : 0.005,    Slice_decay : 0.001\r\n",
      "2023-02-02 22:32:22  Agg_lr : 0.001,    Agg_decay : 0.0001\r\n",
      "2023-02-02 22:32:22  Aggregation function : att\r\n",
      "------------------------------------------------------------------------------------------------------------------------\r\n",
      "2023-02-02 22:32:22  Dataset : rt     interaction : NeuCF\r\n",
      "2023-02-02 22:32:22  Density : 20.00%, slice_epochs : 100, agg_epochs : 10\r\n",
      "2023-02-02 22:32:22  Part_type : 5,    slices : 5,       devices : gpu\r\n",
      "\r\n",
      "\r\n",
      "2023-02-02 22:32:22  Density 20.00% : MAE = 0.366, RMSE = 1.285, NMAE = 0.402, MRE = 0.257, NPRE = 0.919\r\n",
      "\r\n",
      "2023-02-02 22:32:22  Experiment success!\r\n",
      "\r\n"
     ]
    }
   ],
   "source": [
    "!python Experiment.py --dataset rt --interaction NeuCF --rounds 1 --slices 5 --agg_epochs 10 --density 0.20 --part_type 5"
   ],
   "metadata": {
    "collapsed": false
   }
  },
  {
   "cell_type": "code",
   "execution_count": 43,
   "outputs": [
    {
     "name": "stdout",
     "output_type": "stream",
     "text": [
      "2023-02-02 22:32:23  Experiment start!\r\n",
      "2023-02-02 22:32:23  Namespace(F=1, agg2=0, agg_decay=0.001, agg_epochs=10, agg_function=1, agg_lr=0.001, agg_type='att', att_decay=0.0001, att_lr=0.001, batch_size=128, beta=1, cluster='deep', cuda=True, dataset='rt', debug=0, density=0.25, devices='gpu', dimension=32, dir='../Dataset/mnist', dropout=0.1, epoch=1500, external_dim=64, hidden_dims=[64, 64, 100], input_dim=128, interaction='NeuCF', lamda=1, latent_dim=10, log_interval=100, lr=0.0001, n_classes=10, n_clusters=10, n_jobs=1, node2vec=0, node2vec_batchsize=32, node2vec_dim=128, node2vec_epochs=20, node2vec_length=8, node2vec_walk=15, node2vec_windows=3, num_layers=2, order=2, part_iter=20, part_type=1, path='./datasets/data/WSDREAM/', pre_epoch=1000, pretrain=True, processed=0, random_state=1001, record=1, retrain=0, rounds=1, save_model=1, slice=1, slice_decay=0.001, slice_epochs=100, slice_lr=0.001, slices=5, verbose=10, wd=0.0005)\r\n",
      "2023-02-02 22:32:23  Dataset : rt     interaction : NeuCF\r\n",
      "2023-02-02 22:32:23  Density : 25.00%, slice_epochs : 100, agg_epochs : 10\r\n",
      "2023-02-02 22:32:23  Part_type : 1,    slices : 5,       devices : gpu\r\n",
      "2023-02-02 22:32:23  Slice_lr : 0.01,    Slice_decay : 0.01\r\n",
      "2023-02-02 22:32:23  Agg_lr : 0.001,    Agg_decay : 0.01\r\n",
      "2023-02-02 22:32:23  Aggregation function : mean\r\n",
      "\r\n",
      "2023-02-02 22:32:23  Round 1 experiment start!\r\n",
      "2023-02-02 22:32:23  \t原始数据集读取完毕\r\n",
      "2023-02-02 22:32:24  \tSISA 切割完毕\r\n",
      "2023-02-02 22:32:24  \t分切数据执行完毕\r\n",
      "2023-02-02 22:32:26  \t模型加载完毕\r\n",
      "2023-02-02 22:32:26  \t准备训练切片模型\r\n",
      "2023-02-02 22:32:26  \t实验 1 模型 1 开始分片训练\r\n",
      "2023-02-02 22:32:47  Epoch 10 : MAE : 0.5531  RMSE : 1.6171  NMAE : 0.6066  MRE : 0.5445  NPRE : 1.9758\r\n",
      "2023-02-02 22:33:09  Epoch 20 : MAE : 0.5152  RMSE : 1.4595  NMAE : 0.5651  MRE : 0.5411  NPRE : 1.8828\r\n",
      "2023-02-02 22:33:30  Epoch 30 : MAE : 0.5341  RMSE : 1.4609  NMAE : 0.5857  MRE : 0.5884  NPRE : 2.8032\r\n",
      "2023-02-02 22:33:39  Best epoch 24 : MAE : 0.5020  RMSE : 1.4408  NMAE : 0.5505  MRE : 0.5028  NPRE : 1.9838\r\n",
      "2023-02-02 22:33:39  实验 1 模型 1 training time = 25.58 s\r\n",
      "2023-02-02 22:33:39  Slice ID  1 : MAE = 0.5020, RMSE = 1.4408, NMAE = 0.5505, MRE = 0.5028, NPRE = 1.9838\r\n",
      "\r\n",
      "2023-02-02 22:33:39  \t实验 1 模型 2 开始分片训练\r\n",
      "2023-02-02 22:34:00  Epoch 10 : MAE : 0.5601  RMSE : 1.6403  NMAE : 0.6142  MRE : 0.5621  NPRE : 1.7543\r\n",
      "2023-02-02 22:34:22  Epoch 20 : MAE : 0.5151  RMSE : 1.3851  NMAE : 0.5650  MRE : 0.6044  NPRE : 2.2489\r\n",
      "2023-02-02 22:34:44  Epoch 30 : MAE : 0.5196  RMSE : 1.4008  NMAE : 0.5699  MRE : 0.6057  NPRE : 2.0562\r\n",
      "2023-02-02 22:34:58  Best epoch 27 : MAE : 0.5076  RMSE : 1.3960  NMAE : 0.5567  MRE : 0.5654  NPRE : 2.0506\r\n",
      "2023-02-02 22:34:58  实验 1 模型 2 training time = 28.54 s\r\n",
      "2023-02-02 22:34:58  Slice ID  2 : MAE = 0.5076, RMSE = 1.3960, NMAE = 0.5567, MRE = 0.5654, NPRE = 2.0506\r\n",
      "\r\n",
      "2023-02-02 22:34:58  \t实验 1 模型 3 开始分片训练\r\n",
      "2023-02-02 22:35:20  Epoch 10 : MAE : 0.5667  RMSE : 1.6371  NMAE : 0.6215  MRE : 0.5630  NPRE : 2.0819\r\n",
      "2023-02-02 22:35:41  Epoch 20 : MAE : 0.5369  RMSE : 1.4033  NMAE : 0.5888  MRE : 0.6429  NPRE : 2.7026\r\n",
      "2023-02-02 22:35:52  Best epoch 15 : MAE : 0.5147  RMSE : 1.4411  NMAE : 0.5644  MRE : 0.5734  NPRE : 1.6005\r\n",
      "2023-02-02 22:35:52  实验 1 模型 3 training time = 15.81 s\r\n",
      "2023-02-02 22:35:52  Slice ID  3 : MAE = 0.5147, RMSE = 1.4411, NMAE = 0.5644, MRE = 0.5734, NPRE = 1.6005\r\n",
      "\r\n",
      "2023-02-02 22:35:52  \t实验 1 模型 4 开始分片训练\r\n",
      "2023-02-02 22:36:14  Epoch 10 : MAE : 0.5025  RMSE : 1.4427  NMAE : 0.5511  MRE : 0.4976  NPRE : 2.1186\r\n",
      "2023-02-02 22:36:36  Epoch 20 : MAE : 0.4869  RMSE : 1.4192  NMAE : 0.5340  MRE : 0.4728  NPRE : 1.8601\r\n",
      "2023-02-02 22:36:47  Best epoch 15 : MAE : 0.4774  RMSE : 1.4089  NMAE : 0.5236  MRE : 0.4536  NPRE : 1.6929\r\n",
      "2023-02-02 22:36:47  实验 1 模型 4 training time = 16.00 s\r\n",
      "2023-02-02 22:36:47  Slice ID  4 : MAE = 0.4774, RMSE = 1.4089, NMAE = 0.5236, MRE = 0.4536, NPRE = 1.6929\r\n",
      "\r\n",
      "2023-02-02 22:36:47  \t实验 1 模型 5 开始分片训练\r\n",
      "2023-02-02 22:37:09  Epoch 10 : MAE : 0.5566  RMSE : 1.6256  NMAE : 0.6104  MRE : 0.5006  NPRE : 2.1087\r\n",
      "2023-02-02 22:37:31  Epoch 20 : MAE : 0.5098  RMSE : 1.4419  NMAE : 0.5591  MRE : 0.5345  NPRE : 2.1602\r\n",
      "2023-02-02 22:37:46  Best epoch 17 : MAE : 0.4994  RMSE : 1.4876  NMAE : 0.5477  MRE : 0.4864  NPRE : 1.6270\r\n",
      "2023-02-02 22:37:46  实验 1 模型 5 training time = 18.84 s\r\n",
      "2023-02-02 22:37:46  Slice ID  5 : MAE = 0.4994, RMSE = 1.4876, NMAE = 0.5477, MRE = 0.4864, NPRE = 1.6270\r\n",
      "\r\n",
      "2023-02-02 22:37:46  \t所有切片模型训练完毕\r\n",
      "2023-02-02 22:37:46  \t开始训练聚合模型\r\n",
      "2023-02-02 22:37:50  Epoch  1 : MAE : 0.4838  RMSE : 1.4148  NMAE : 0.5319  MRE : 0.4540  NPRE : 2.0853\r\n",
      "2023-02-02 22:37:54  Epoch  2 : MAE : 0.4670  RMSE : 1.4037  NMAE : 0.5135  MRE : 0.4324  NPRE : 1.8854\r\n",
      "2023-02-02 22:37:59  Epoch  3 : MAE : 0.4591  RMSE : 1.3927  NMAE : 0.5048  MRE : 0.4303  NPRE : 1.7350\r\n",
      "2023-02-02 22:38:03  Epoch  4 : MAE : 0.4561  RMSE : 1.3878  NMAE : 0.5015  MRE : 0.4197  NPRE : 2.1621\r\n",
      "2023-02-02 22:38:07  Epoch  5 : MAE : 0.4519  RMSE : 1.3825  NMAE : 0.4968  MRE : 0.4285  NPRE : 1.5549\r\n",
      "2023-02-02 22:38:12  Epoch  6 : MAE : 0.4478  RMSE : 1.3756  NMAE : 0.4923  MRE : 0.4114  NPRE : 1.8514\r\n",
      "2023-02-02 22:38:16  Epoch  7 : MAE : 0.4438  RMSE : 1.3744  NMAE : 0.4880  MRE : 0.4077  NPRE : 1.7002\r\n",
      "2023-02-02 22:38:20  Epoch  8 : MAE : 0.4422  RMSE : 1.3616  NMAE : 0.4862  MRE : 0.4028  NPRE : 2.1532\r\n",
      "2023-02-02 22:38:24  Epoch  9 : MAE : 0.4433  RMSE : 1.3700  NMAE : 0.4874  MRE : 0.4205  NPRE : 1.3866\r\n",
      "2023-02-02 22:38:28  Epoch 10 : MAE : 0.4391  RMSE : 1.3607  NMAE : 0.4829  MRE : 0.4095  NPRE : 1.5234\r\n",
      "2023-02-02 22:38:28  Best epoch 10 : MAE : 0.4391  RMSE : 1.3607  NMAE : 0.4829  MRE : 0.4095  NPRE : 1.5234\r\n",
      "2023-02-02 22:38:28  \t实验 1 聚合模型训练完毕\r\n",
      "100%|███████████████████████████████████████████| 11/11 [00:02<00:00,  3.87it/s]\r\n",
      "2023-02-02 22:38:31  Result : MAE : 0.4391  RMSE : 1.3603  NMAE : 0.4828  MRE : 0.4096  NPRE : 1.5219\r\n",
      "2023-02-02 22:38:31  \t实验 1 : Aggregators training time = 12.86 s\r\n",
      "\r\n",
      "2023-02-02 22:38:31  \t聚合模型训练完毕\r\n",
      "\r\n",
      "------------------------------------------------------------------------------------------------------------------------\r\n",
      "2023-02-02 22:38:31  Dataset : rt     interaction : NeuCF\r\n",
      "2023-02-02 22:38:31  Density : 25.00%, slice_epochs : 100, agg_epochs : 10\r\n",
      "2023-02-02 22:38:31  Part_type : 1,    slices : 5,       devices : gpu\r\n",
      "\r\n",
      "\r\n",
      "2023-02-02 22:38:31  Density 25.00% : MAE = 0.439, RMSE = 1.360, NMAE = 0.483, MRE = 0.410, NPRE = 1.522\r\n",
      "\r\n",
      "2023-02-02 22:38:31  Experiment success!\r\n",
      "\r\n"
     ]
    }
   ],
   "source": [
    "!python Experiment.py --dataset rt --interaction NeuCF --rounds 1 --slices 5 --agg_epochs 10 --density 0.25 --part_type 1"
   ],
   "metadata": {
    "collapsed": false
   }
  },
  {
   "cell_type": "code",
   "execution_count": 44,
   "outputs": [
    {
     "name": "stdout",
     "output_type": "stream",
     "text": [
      "2023-02-02 22:38:32  Experiment start!\r\n",
      "2023-02-02 22:38:32  Namespace(F=1, agg2=0, agg_decay=0.001, agg_epochs=10, agg_function=1, agg_lr=0.001, agg_type='att', att_decay=0.0001, att_lr=0.001, batch_size=128, beta=1, cluster='deep', cuda=True, dataset='rt', debug=0, density=0.25, devices='gpu', dimension=32, dir='../Dataset/mnist', dropout=0.1, epoch=1500, external_dim=64, hidden_dims=[64, 64, 100], input_dim=128, interaction='NeuCF', lamda=1, latent_dim=10, log_interval=100, lr=0.0001, n_classes=10, n_clusters=10, n_jobs=1, node2vec=0, node2vec_batchsize=32, node2vec_dim=128, node2vec_epochs=20, node2vec_length=8, node2vec_walk=15, node2vec_windows=3, num_layers=2, order=2, part_iter=20, part_type=3, path='./datasets/data/WSDREAM/', pre_epoch=1000, pretrain=True, processed=0, random_state=1001, record=1, retrain=0, rounds=1, save_model=1, slice=1, slice_decay=0.001, slice_epochs=100, slice_lr=0.001, slices=5, verbose=10, wd=0.0005)\r\n",
      "2023-02-02 22:38:32  Dataset : rt     interaction : NeuCF\r\n",
      "2023-02-02 22:38:32  Density : 25.00%, slice_epochs : 100, agg_epochs : 10\r\n",
      "2023-02-02 22:38:32  Part_type : 3,    slices : 5,       devices : gpu\r\n",
      "2023-02-02 22:38:32  Slice_lr : 0.01,    Slice_decay : 0.01\r\n",
      "2023-02-02 22:38:32  Agg_lr : 0.001,    Agg_decay : 0.01\r\n",
      "2023-02-02 22:38:32  Aggregation function : softmax\r\n",
      "\r\n",
      "2023-02-02 22:38:32  Round 1 experiment start!\r\n",
      "2023-02-02 22:38:32  \t原始数据集读取完毕\r\n",
      "2023-02-02 22:38:33  \tReceraser 基于交互切割完毕\r\n",
      "2023-02-02 22:38:33  \t分切数据执行完毕\r\n",
      "2023-02-02 22:38:35  \t模型加载完毕\r\n",
      "2023-02-02 22:38:35  \t准备训练切片模型\r\n",
      "2023-02-02 22:38:35  \t实验 1 模型 1 开始分片训练\r\n",
      "2023-02-02 22:38:58  Epoch 10 : MAE : 0.6936  RMSE : 1.8118  NMAE : 0.7607  MRE : 0.6585  NPRE : 3.9187\r\n",
      "2023-02-02 22:39:19  Best epoch  9 : MAE : 0.6790  RMSE : 1.8066  NMAE : 0.7447  MRE : 0.6242  NPRE : 3.6471\r\n",
      "2023-02-02 22:39:19  实验 1 模型 1 training time = 10.94 s\r\n",
      "2023-02-02 22:39:19  Slice ID  1 : MAE = 0.6790, RMSE = 1.8066, NMAE = 0.7447, MRE = 0.6242, NPRE = 3.6471\r\n",
      "\r\n",
      "2023-02-02 22:39:19  \t实验 1 模型 2 开始分片训练\r\n",
      "2023-02-02 22:39:40  Epoch 10 : MAE : 0.6909  RMSE : 1.7239  NMAE : 0.7577  MRE : 0.7627  NPRE : 4.0690\r\n",
      "2023-02-02 22:39:51  Best epoch  5 : MAE : 0.6656  RMSE : 1.7413  NMAE : 0.7300  MRE : 0.7307  NPRE : 3.3827\r\n",
      "2023-02-02 22:39:51  实验 1 模型 2 training time = 5.06 s\r\n",
      "2023-02-02 22:39:51  Slice ID  2 : MAE = 0.6656, RMSE = 1.7413, NMAE = 0.7300, MRE = 0.7307, NPRE = 3.3827\r\n",
      "\r\n",
      "2023-02-02 22:39:51  \t实验 1 模型 3 开始分片训练\r\n",
      "2023-02-02 22:40:12  Epoch 10 : MAE : 0.6957  RMSE : 1.7957  NMAE : 0.7630  MRE : 0.6736  NPRE : 4.3357\r\n",
      "2023-02-02 22:40:33  Epoch 20 : MAE : 0.7510  RMSE : 1.8238  NMAE : 0.8237  MRE : 0.8266  NPRE : 5.4460\r\n",
      "2023-02-02 22:40:38  Best epoch 12 : MAE : 0.6928  RMSE : 1.8095  NMAE : 0.7599  MRE : 0.6724  NPRE : 4.2482\r\n",
      "2023-02-02 22:40:38  实验 1 模型 3 training time = 11.78 s\r\n",
      "2023-02-02 22:40:38  Slice ID  3 : MAE = 0.6928, RMSE = 1.8095, NMAE = 0.7599, MRE = 0.6724, NPRE = 4.2482\r\n",
      "\r\n",
      "2023-02-02 22:40:38  \t实验 1 模型 4 开始分片训练\r\n",
      "2023-02-02 22:40:56  Epoch 10 : MAE : 0.7417  RMSE : 1.7978  NMAE : 0.8135  MRE : 0.9515  NPRE : 2.4237\r\n",
      "2023-02-02 22:41:11  Best epoch  8 : MAE : 0.7072  RMSE : 1.7459  NMAE : 0.7757  MRE : 0.7965  NPRE : 3.9246\r\n",
      "2023-02-02 22:41:11  实验 1 模型 4 training time = 6.18 s\r\n",
      "2023-02-02 22:41:11  Slice ID  4 : MAE = 0.7072, RMSE = 1.7459, NMAE = 0.7757, MRE = 0.7965, NPRE = 3.9246\r\n",
      "\r\n",
      "2023-02-02 22:41:11  \t实验 1 模型 5 开始分片训练\r\n",
      "2023-02-02 22:41:35  Epoch 10 : MAE : 0.6648  RMSE : 1.7537  NMAE : 0.7291  MRE : 0.6483  NPRE : 3.2589\r\n",
      "2023-02-02 22:41:56  Best epoch  9 : MAE : 0.6507  RMSE : 1.7485  NMAE : 0.7137  MRE : 0.6056  NPRE : 3.1416\r\n",
      "2023-02-02 22:41:56  实验 1 模型 5 training time = 11.31 s\r\n",
      "2023-02-02 22:41:56  Slice ID  5 : MAE = 0.6507, RMSE = 1.7485, NMAE = 0.7137, MRE = 0.6056, NPRE = 3.1416\r\n",
      "\r\n",
      "2023-02-02 22:41:56  \t所有切片模型训练完毕\r\n",
      "2023-02-02 22:41:56  \t开始训练聚合模型\r\n",
      "2023-02-02 22:42:01  Epoch  1 : MAE : 0.4840  RMSE : 1.4377  NMAE : 0.5322  MRE : 0.4235  NPRE : 2.4193\r\n",
      "2023-02-02 22:42:06  Epoch  2 : MAE : 0.4576  RMSE : 1.4031  NMAE : 0.5031  MRE : 0.4029  NPRE : 1.8926\r\n",
      "2023-02-02 22:42:11  Epoch  3 : MAE : 0.4404  RMSE : 1.3723  NMAE : 0.4842  MRE : 0.3891  NPRE : 1.6457\r\n",
      "2023-02-02 22:42:16  Epoch  4 : MAE : 0.4252  RMSE : 1.3424  NMAE : 0.4676  MRE : 0.3675  NPRE : 1.9509\r\n",
      "2023-02-02 22:42:20  Epoch  5 : MAE : 0.4207  RMSE : 1.3248  NMAE : 0.4626  MRE : 0.3657  NPRE : 2.0213\r\n",
      "2023-02-02 22:42:25  Epoch  6 : MAE : 0.4099  RMSE : 1.3128  NMAE : 0.4507  MRE : 0.3519  NPRE : 1.6685\r\n",
      "2023-02-02 22:42:30  Epoch  7 : MAE : 0.4059  RMSE : 1.3095  NMAE : 0.4463  MRE : 0.3671  NPRE : 1.2266\r\n",
      "2023-02-02 22:42:34  Epoch  8 : MAE : 0.3996  RMSE : 1.3053  NMAE : 0.4393  MRE : 0.3320  NPRE : 1.4844\r\n",
      "2023-02-02 22:42:39  Epoch  9 : MAE : 0.3946  RMSE : 1.2999  NMAE : 0.4339  MRE : 0.3341  NPRE : 1.2704\r\n",
      "2023-02-02 22:42:44  Epoch 10 : MAE : 0.3919  RMSE : 1.2967  NMAE : 0.4309  MRE : 0.3279  NPRE : 1.3241\r\n",
      "2023-02-02 22:42:44  Best epoch 10 : MAE : 0.3919  RMSE : 1.2967  NMAE : 0.4309  MRE : 0.3279  NPRE : 1.3241\r\n",
      "2023-02-02 22:42:44  \t实验 1 聚合模型训练完毕\r\n",
      "100%|███████████████████████████████████████████| 11/11 [00:02<00:00,  3.78it/s]\r\n",
      "2023-02-02 22:42:47  Result : MAE : 0.3917  RMSE : 1.2969  NMAE : 0.4307  MRE : 0.3275  NPRE : 1.3277\r\n",
      "2023-02-02 22:42:47  \t实验 1 : Aggregators training time = 17.54 s\r\n",
      "\r\n",
      "2023-02-02 22:42:47  \t聚合模型训练完毕\r\n",
      "\r\n",
      "------------------------------------------------------------------------------------------------------------------------\r\n",
      "2023-02-02 22:42:47  Dataset : rt     interaction : NeuCF\r\n",
      "2023-02-02 22:42:47  Density : 25.00%, slice_epochs : 100, agg_epochs : 10\r\n",
      "2023-02-02 22:42:47  Part_type : 3,    slices : 5,       devices : gpu\r\n",
      "\r\n",
      "\r\n",
      "2023-02-02 22:42:47  Density 25.00% : MAE = 0.392, RMSE = 1.297, NMAE = 0.431, MRE = 0.328, NPRE = 1.328\r\n",
      "\r\n",
      "2023-02-02 22:42:47  Experiment success!\r\n",
      "\r\n"
     ]
    }
   ],
   "source": [
    "!python Experiment.py --dataset rt --interaction NeuCF --rounds 1 --slices 5 --agg_epochs 10 --density 0.25 --part_type 3"
   ],
   "metadata": {
    "collapsed": false
   }
  },
  {
   "cell_type": "code",
   "execution_count": 45,
   "outputs": [
    {
     "name": "stdout",
     "output_type": "stream",
     "text": [
      "2023-02-02 22:42:48  Experiment start!\r\n",
      "2023-02-02 22:42:48  Namespace(F=1, agg2=0, agg_decay=0.001, agg_epochs=10, agg_function=1, agg_lr=0.001, agg_type='att', att_decay=0.0001, att_lr=0.001, batch_size=128, beta=1, cluster='deep', cuda=True, dataset='rt', debug=0, density=0.25, devices='gpu', dimension=32, dir='../Dataset/mnist', dropout=0.1, epoch=1500, external_dim=64, hidden_dims=[64, 64, 100], input_dim=128, interaction='NeuCF', lamda=1, latent_dim=10, log_interval=100, lr=0.0001, n_classes=10, n_clusters=10, n_jobs=1, node2vec=0, node2vec_batchsize=32, node2vec_dim=128, node2vec_epochs=20, node2vec_length=8, node2vec_walk=15, node2vec_windows=3, num_layers=2, order=2, part_iter=20, part_type=5, path='./datasets/data/WSDREAM/', pre_epoch=1000, pretrain=True, processed=0, random_state=1001, record=1, retrain=0, rounds=1, save_model=1, slice=1, slice_decay=0.001, slice_epochs=100, slice_lr=0.001, slices=5, verbose=10, wd=0.0005)\r\n",
      "2023-02-02 22:42:48  Dataset : rt     interaction : NeuCF\r\n",
      "2023-02-02 22:42:48  Density : 25.00%, slice_epochs : 100, agg_epochs : 10\r\n",
      "2023-02-02 22:42:48  Part_type : 5,    slices : 5,       devices : gpu\r\n",
      "2023-02-02 22:42:48  Slice_lr : 0.01,    Slice_decay : 0.01\r\n",
      "2023-02-02 22:42:48  Agg_lr : 0.001,    Agg_decay : 0.01\r\n",
      "2023-02-02 22:42:48  Aggregation function : att\r\n",
      "\r\n",
      "2023-02-02 22:42:48  Round 1 experiment start!\r\n",
      "2023-02-02 22:42:48  \t原始数据集读取完毕\r\n",
      "2023-02-02 22:42:48  \t图嵌入均衡切割\r\n",
      "42 45 78 89 85 \r\n",
      "2023-02-02 22:42:48  \tNode2Vec 基于用户聚类均衡切割完毕\r\n",
      "2023-02-02 22:42:48  \t分切数据执行完毕\r\n",
      "2023-02-02 22:42:50  \t模型加载完毕\r\n",
      "2023-02-02 22:42:50  \t准备训练切片模型\r\n",
      "2023-02-02 22:42:50  \t实验 1 模型 1 开始分片训练\r\n",
      "2023-02-02 22:43:03  Epoch 10 : MAE : 0.6350  RMSE : 1.7880  NMAE : 0.5795  MRE : 0.4325  NPRE : 2.0431\r\n",
      "2023-02-02 22:43:18  Epoch 20 : MAE : 0.6132  RMSE : 1.6534  NMAE : 0.5597  MRE : 0.5146  NPRE : 1.8813\r\n",
      "2023-02-02 22:43:31  Best epoch 18 : MAE : 0.6031  RMSE : 1.6836  NMAE : 0.5504  MRE : 0.4642  NPRE : 1.4804\r\n",
      "2023-02-02 22:43:31  实验 1 模型 1 training time = 15.55 s\r\n",
      "2023-02-02 22:43:31  Slice ID  1 : MAE = 0.6031, RMSE = 1.6836, NMAE = 0.5504, MRE = 0.4642, NPRE = 1.4804\r\n",
      "\r\n",
      "2023-02-02 22:43:31  \t实验 1 模型 2 开始分片训练\r\n",
      "2023-02-02 22:43:47  Epoch 10 : MAE : 0.4360  RMSE : 1.3961  NMAE : 0.5029  MRE : 0.3669  NPRE : 1.6908\r\n",
      "2023-02-02 22:44:02  Epoch 20 : MAE : 0.4104  RMSE : 1.3247  NMAE : 0.4734  MRE : 0.3505  NPRE : 1.0000\r\n",
      "2023-02-02 22:44:11  Best epoch 18 : MAE : 0.3991  RMSE : 1.2995  NMAE : 0.4603  MRE : 0.3265  NPRE : 1.0401\r\n",
      "2023-02-02 22:44:11  实验 1 模型 2 training time = 18.53 s\r\n",
      "2023-02-02 22:44:11  Slice ID  2 : MAE = 0.3991, RMSE = 1.2995, NMAE = 0.4603, MRE = 0.3265, NPRE = 1.0401\r\n",
      "\r\n",
      "2023-02-02 22:44:11  \t实验 1 模型 3 开始分片训练\r\n",
      "2023-02-02 22:44:29  Epoch 10 : MAE : 0.4425  RMSE : 1.4854  NMAE : 0.5164  MRE : 0.3320  NPRE : 1.0630\r\n",
      "2023-02-02 22:44:46  Epoch 20 : MAE : 0.4150  RMSE : 1.3713  NMAE : 0.4843  MRE : 0.3763  NPRE : 1.2461\r\n",
      "2023-02-02 22:45:03  Epoch 30 : MAE : 0.4108  RMSE : 1.3710  NMAE : 0.4794  MRE : 0.3468  NPRE : 1.0675\r\n",
      "2023-02-02 22:45:20  Epoch 40 : MAE : 0.4149  RMSE : 1.3292  NMAE : 0.4842  MRE : 0.3939  NPRE : 1.4071\r\n",
      "2023-02-02 22:45:29  Best epoch 35 : MAE : 0.4093  RMSE : 1.3240  NMAE : 0.4777  MRE : 0.4161  NPRE : 1.0000\r\n",
      "2023-02-02 22:45:29  实验 1 模型 3 training time = 42.44 s\r\n",
      "2023-02-02 22:45:29  Slice ID  3 : MAE = 0.4093, RMSE = 1.3240, NMAE = 0.4777, MRE = 0.4161, NPRE = 1.0000\r\n",
      "\r\n",
      "2023-02-02 22:45:29  \t实验 1 模型 4 开始分片训练\r\n",
      "2023-02-02 22:45:49  Epoch 10 : MAE : 0.4307  RMSE : 1.3793  NMAE : 0.4868  MRE : 0.3164  NPRE : 1.0000\r\n",
      "2023-02-02 22:46:07  Epoch 20 : MAE : 0.4105  RMSE : 1.3331  NMAE : 0.4639  MRE : 0.3136  NPRE : 1.0000\r\n",
      "2023-02-02 22:46:27  Epoch 30 : MAE : 0.4182  RMSE : 1.3405  NMAE : 0.4727  MRE : 0.3136  NPRE : 1.0364\r\n",
      "2023-02-02 22:46:27  Best epoch 20 : MAE : 0.4105  RMSE : 1.3331  NMAE : 0.4639  MRE : 0.3136  NPRE : 1.0000\r\n",
      "2023-02-02 22:46:27  实验 1 模型 4 training time = 28.21 s\r\n",
      "2023-02-02 22:46:27  Slice ID  4 : MAE = 0.4105, RMSE = 1.3331, NMAE = 0.4639, MRE = 0.3136, NPRE = 1.0000\r\n",
      "\r\n",
      "2023-02-02 22:46:27  \t实验 1 模型 5 开始分片训练\r\n",
      "2023-02-02 22:46:46  Epoch 10 : MAE : 0.4473  RMSE : 1.3968  NMAE : 0.4837  MRE : 0.3371  NPRE : 1.0808\r\n",
      "2023-02-02 22:47:04  Epoch 20 : MAE : 0.4223  RMSE : 1.3538  NMAE : 0.4568  MRE : 0.3154  NPRE : 1.0000\r\n",
      "2023-02-02 22:47:07  Best epoch 12 : MAE : 0.4099  RMSE : 1.3592  NMAE : 0.4433  MRE : 0.3043  NPRE : 1.0000\r\n",
      "2023-02-02 22:47:07  实验 1 模型 5 training time = 16.06 s\r\n",
      "2023-02-02 22:47:07  Slice ID  5 : MAE = 0.4099, RMSE = 1.3592, NMAE = 0.4433, MRE = 0.3043, NPRE = 1.0000\r\n",
      "\r\n",
      "2023-02-02 22:47:07  \t所有切片模型训练完毕\r\n",
      "2023-02-02 22:47:07  \t开始训练聚合模型\r\n",
      "2023-02-02 22:47:17  Epoch  1 : MAE : 0.4378  RMSE : 1.3464  NMAE : 0.4814  MRE : 0.4123  NPRE : 1.4386\r\n",
      "2023-02-02 22:47:24  Epoch  2 : MAE : 0.3912  RMSE : 1.3181  NMAE : 0.4302  MRE : 0.3047  NPRE : 1.1537\r\n",
      "2023-02-02 22:47:31  Epoch  3 : MAE : 0.3898  RMSE : 1.3060  NMAE : 0.4285  MRE : 0.2959  NPRE : 1.3593\r\n",
      "2023-02-02 22:47:39  Epoch  4 : MAE : 0.3731  RMSE : 1.2868  NMAE : 0.4102  MRE : 0.2946  NPRE : 0.9262\r\n",
      "2023-02-02 22:47:47  Epoch  5 : MAE : 0.3803  RMSE : 1.2945  NMAE : 0.4182  MRE : 0.2916  NPRE : 0.9353\r\n",
      "2023-02-02 22:47:55  Epoch  6 : MAE : 0.3661  RMSE : 1.2724  NMAE : 0.4025  MRE : 0.2886  NPRE : 0.9474\r\n",
      "2023-02-02 22:48:03  Epoch  7 : MAE : 0.3655  RMSE : 1.2764  NMAE : 0.4018  MRE : 0.2678  NPRE : 1.0000\r\n",
      "2023-02-02 22:48:11  Epoch  8 : MAE : 0.3786  RMSE : 1.2906  NMAE : 0.4163  MRE : 0.3187  NPRE : 0.8980\r\n",
      "2023-02-02 22:48:19  Epoch  9 : MAE : 0.3638  RMSE : 1.2762  NMAE : 0.4000  MRE : 0.2711  NPRE : 0.9655\r\n",
      "2023-02-02 22:48:27  Epoch 10 : MAE : 0.3601  RMSE : 1.2659  NMAE : 0.3959  MRE : 0.2628  NPRE : 0.9827\r\n",
      "2023-02-02 22:48:27  Best epoch 10 : MAE : 0.3601  RMSE : 1.2659  NMAE : 0.3959  MRE : 0.2628  NPRE : 0.9827\r\n",
      "2023-02-02 22:48:27  \t实验 1 聚合模型训练完毕\r\n",
      "100%|███████████████████████████████████████████| 11/11 [00:02<00:00,  3.90it/s]\r\n",
      "2023-02-02 22:48:30  Result : MAE : 0.3598  RMSE : 1.2651  NMAE : 0.3956  MRE : 0.2627  NPRE : 0.9827\r\n",
      "2023-02-02 22:48:30  \t实验 1 : Aggregators training time = 50.18 s\r\n",
      "\r\n",
      "2023-02-02 22:48:30  \t聚合模型训练完毕\r\n",
      "\r\n",
      "------------------------------------------------------------------------------------------------------------------------\r\n",
      "2023-02-02 22:48:30  Dataset : rt     interaction : NeuCF\r\n",
      "2023-02-02 22:48:30  Density : 25.00%, slice_epochs : 100, agg_epochs : 10\r\n",
      "2023-02-02 22:48:30  Part_type : 5,    slices : 5,       devices : gpu\r\n",
      "\r\n",
      "\r\n",
      "2023-02-02 22:48:30  Density 25.00% : MAE = 0.360, RMSE = 1.265, NMAE = 0.396, MRE = 0.263, NPRE = 0.983\r\n",
      "\r\n",
      "2023-02-02 22:48:30  Experiment success!\r\n",
      "\r\n"
     ]
    }
   ],
   "source": [
    "!python Experiment.py --dataset rt --interaction NeuCF --rounds 1 --slices 5 --agg_epochs 10 --density 0.25 --part_type 5"
   ],
   "metadata": {
    "collapsed": false
   }
  },
  {
   "cell_type": "code",
   "execution_count": 46,
   "outputs": [
    {
     "name": "stdout",
     "output_type": "stream",
     "text": [
      "2023-02-02 22:48:31  Experiment start!\r\n",
      "2023-02-02 22:48:31  Namespace(F=1, agg2=0, agg_decay=0.001, agg_epochs=10, agg_function=1, agg_lr=0.001, agg_type='att', att_decay=0.0001, att_lr=0.001, batch_size=128, beta=1, cluster='deep', cuda=True, dataset='rt', debug=0, density=0.3, devices='gpu', dimension=32, dir='../Dataset/mnist', dropout=0.1, epoch=1500, external_dim=64, hidden_dims=[64, 64, 100], input_dim=128, interaction='NeuCF', lamda=1, latent_dim=10, log_interval=100, lr=0.0001, n_classes=10, n_clusters=10, n_jobs=1, node2vec=0, node2vec_batchsize=32, node2vec_dim=128, node2vec_epochs=20, node2vec_length=8, node2vec_walk=15, node2vec_windows=3, num_layers=2, order=2, part_iter=20, part_type=1, path='./datasets/data/WSDREAM/', pre_epoch=1000, pretrain=True, processed=0, random_state=1001, record=1, retrain=0, rounds=1, save_model=1, slice=1, slice_decay=0.001, slice_epochs=100, slice_lr=0.001, slices=5, verbose=10, wd=0.0005)\r\n",
      "2023-02-02 22:48:31  Dataset : rt     interaction : NeuCF\r\n",
      "2023-02-02 22:48:31  Density : 30.00%, slice_epochs : 100, agg_epochs : 10\r\n",
      "2023-02-02 22:48:31  Part_type : 1,    slices : 5,       devices : gpu\r\n",
      "2023-02-02 22:48:31  Slice_lr : 0.005,    Slice_decay : 0.001\r\n",
      "2023-02-02 22:48:31  Agg_lr : 0.001,    Agg_decay : 0.001\r\n",
      "2023-02-02 22:48:31  Aggregation function : mean\r\n",
      "\r\n",
      "2023-02-02 22:48:31  Round 1 experiment start!\r\n",
      "2023-02-02 22:48:31  \t原始数据集读取完毕\r\n",
      "2023-02-02 22:48:32  \tSISA 切割完毕\r\n",
      "2023-02-02 22:48:32  \t分切数据执行完毕\r\n",
      "2023-02-02 22:48:34  \t模型加载完毕\r\n",
      "2023-02-02 22:48:34  \t准备训练切片模型\r\n",
      "2023-02-02 22:48:34  \t实验 1 模型 1 开始分片训练\r\n",
      "2023-02-02 22:48:57  Epoch 10 : MAE : 0.4817  RMSE : 1.4214  NMAE : 0.5238  MRE : 0.4777  NPRE : 2.2296\r\n",
      "2023-02-02 22:49:21  Epoch 20 : MAE : 0.4566  RMSE : 1.4215  NMAE : 0.4966  MRE : 0.3961  NPRE : 1.3911\r\n",
      "2023-02-02 22:49:45  Epoch 30 : MAE : 0.4618  RMSE : 1.3967  NMAE : 0.5023  MRE : 0.4369  NPRE : 1.9322\r\n",
      "2023-02-02 22:49:58  Best epoch 26 : MAE : 0.4438  RMSE : 1.3801  NMAE : 0.4827  MRE : 0.3898  NPRE : 1.4035\r\n",
      "2023-02-02 22:49:58  实验 1 模型 1 training time = 32.77 s\r\n",
      "2023-02-02 22:49:58  Slice ID  1 : MAE = 0.4438, RMSE = 1.3801, NMAE = 0.4827, MRE = 0.3898, NPRE = 1.4035\r\n",
      "\r\n",
      "2023-02-02 22:49:58  \t实验 1 模型 2 开始分片训练\r\n",
      "2023-02-02 22:50:21  Epoch 10 : MAE : 0.4896  RMSE : 1.4443  NMAE : 0.5325  MRE : 0.4483  NPRE : 2.3237\r\n",
      "2023-02-02 22:50:45  Epoch 20 : MAE : 0.4408  RMSE : 1.3924  NMAE : 0.4794  MRE : 0.3733  NPRE : 1.0274\r\n",
      "2023-02-02 22:51:08  Epoch 30 : MAE : 0.4588  RMSE : 1.3993  NMAE : 0.4990  MRE : 0.4240  NPRE : 1.8478\r\n",
      "2023-02-02 22:51:08  Best epoch 20 : MAE : 0.4408  RMSE : 1.3924  NMAE : 0.4794  MRE : 0.3733  NPRE : 1.0274\r\n",
      "2023-02-02 22:51:08  实验 1 模型 2 training time = 24.70 s\r\n",
      "2023-02-02 22:51:08  Slice ID  2 : MAE = 0.4408, RMSE = 1.3924, NMAE = 0.4794, MRE = 0.3733, NPRE = 1.0274\r\n",
      "\r\n",
      "2023-02-02 22:51:08  \t实验 1 模型 3 开始分片训练\r\n",
      "2023-02-02 22:51:31  Epoch 10 : MAE : 0.4765  RMSE : 1.4043  NMAE : 0.5182  MRE : 0.4483  NPRE : 2.2834\r\n",
      "2023-02-02 22:51:54  Epoch 20 : MAE : 0.4610  RMSE : 1.4403  NMAE : 0.5013  MRE : 0.4014  NPRE : 1.2370\r\n",
      "2023-02-02 22:52:13  Best epoch 18 : MAE : 0.4395  RMSE : 1.3949  NMAE : 0.4780  MRE : 0.3695  NPRE : 1.6280\r\n",
      "2023-02-02 22:52:13  实验 1 模型 3 training time = 22.02 s\r\n",
      "2023-02-02 22:52:13  Slice ID  3 : MAE = 0.4395, RMSE = 1.3949, NMAE = 0.4780, MRE = 0.3695, NPRE = 1.6280\r\n",
      "\r\n",
      "2023-02-02 22:52:13  \t实验 1 模型 4 开始分片训练\r\n",
      "2023-02-02 22:52:37  Epoch 10 : MAE : 0.4841  RMSE : 1.3818  NMAE : 0.5265  MRE : 0.4920  NPRE : 2.8300\r\n",
      "2023-02-02 22:53:00  Epoch 20 : MAE : 0.4326  RMSE : 1.3684  NMAE : 0.4705  MRE : 0.3728  NPRE : 1.2168\r\n",
      "2023-02-02 22:53:23  Epoch 30 : MAE : 0.4435  RMSE : 1.3748  NMAE : 0.4823  MRE : 0.3902  NPRE : 1.3177\r\n",
      "2023-02-02 22:53:26  Best epoch 21 : MAE : 0.4306  RMSE : 1.3658  NMAE : 0.4683  MRE : 0.3765  NPRE : 1.2169\r\n",
      "2023-02-02 22:53:26  实验 1 模型 4 training time = 26.21 s\r\n",
      "2023-02-02 22:53:26  Slice ID  4 : MAE = 0.4306, RMSE = 1.3658, NMAE = 0.4683, MRE = 0.3765, NPRE = 1.2169\r\n",
      "\r\n",
      "2023-02-02 22:53:26  \t实验 1 模型 5 开始分片训练\r\n",
      "2023-02-02 22:53:50  Epoch 10 : MAE : 0.4839  RMSE : 1.3663  NMAE : 0.5262  MRE : 0.5049  NPRE : 3.2198\r\n",
      "2023-02-02 22:54:13  Epoch 20 : MAE : 0.4304  RMSE : 1.3670  NMAE : 0.4681  MRE : 0.3652  NPRE : 1.2698\r\n",
      "2023-02-02 22:54:32  Best epoch 18 : MAE : 0.4292  RMSE : 1.3773  NMAE : 0.4668  MRE : 0.3549  NPRE : 1.2698\r\n",
      "2023-02-02 22:54:32  实验 1 模型 5 training time = 22.84 s\r\n",
      "2023-02-02 22:54:32  Slice ID  5 : MAE = 0.4292, RMSE = 1.3773, NMAE = 0.4668, MRE = 0.3549, NPRE = 1.2698\r\n",
      "\r\n",
      "2023-02-02 22:54:32  \t所有切片模型训练完毕\r\n",
      "2023-02-02 22:54:32  \t开始训练聚合模型\r\n",
      "2023-02-02 22:54:36  Epoch  1 : MAE : 0.4276  RMSE : 1.3363  NMAE : 0.4704  MRE : 0.3516  NPRE : 1.4159\r\n",
      "2023-02-02 22:54:41  Epoch  2 : MAE : 0.4079  RMSE : 1.2977  NMAE : 0.4488  MRE : 0.3368  NPRE : 1.5165\r\n",
      "2023-02-02 22:54:45  Epoch  3 : MAE : 0.3989  RMSE : 1.2900  NMAE : 0.4388  MRE : 0.3271  NPRE : 1.4200\r\n",
      "2023-02-02 22:54:49  Epoch  4 : MAE : 0.3940  RMSE : 1.2918  NMAE : 0.4335  MRE : 0.3206  NPRE : 1.3965\r\n",
      "2023-02-02 22:54:53  Epoch  5 : MAE : 0.3906  RMSE : 1.2820  NMAE : 0.4297  MRE : 0.3184  NPRE : 1.4082\r\n",
      "2023-02-02 22:54:58  Epoch  6 : MAE : 0.3873  RMSE : 1.2821  NMAE : 0.4261  MRE : 0.3139  NPRE : 1.3607\r\n",
      "2023-02-02 22:55:02  Epoch  7 : MAE : 0.3840  RMSE : 1.2832  NMAE : 0.4225  MRE : 0.3161  NPRE : 1.2448\r\n",
      "2023-02-02 22:55:06  Epoch  8 : MAE : 0.3837  RMSE : 1.2750  NMAE : 0.4222  MRE : 0.3125  NPRE : 1.3141\r\n",
      "2023-02-02 22:55:10  Epoch  9 : MAE : 0.3812  RMSE : 1.2771  NMAE : 0.4194  MRE : 0.3106  NPRE : 1.3432\r\n",
      "2023-02-02 22:55:15  Epoch 10 : MAE : 0.3808  RMSE : 1.2773  NMAE : 0.4190  MRE : 0.3134  NPRE : 1.2211\r\n",
      "2023-02-02 22:55:15  Best epoch 10 : MAE : 0.3808  RMSE : 1.2773  NMAE : 0.4190  MRE : 0.3134  NPRE : 1.2211\r\n",
      "2023-02-02 22:55:15  \t实验 1 聚合模型训练完毕\r\n",
      "100%|███████████████████████████████████████████| 10/10 [00:02<00:00,  3.39it/s]\r\n",
      "2023-02-02 22:55:18  Result : MAE : 0.3806  RMSE : 1.2772  NMAE : 0.4187  MRE : 0.3135  NPRE : 1.2204\r\n",
      "2023-02-02 22:55:18  \t实验 1 : Aggregators training time = 14.40 s\r\n",
      "\r\n",
      "2023-02-02 22:55:18  \t聚合模型训练完毕\r\n",
      "\r\n",
      "------------------------------------------------------------------------------------------------------------------------\r\n",
      "2023-02-02 22:55:18  Dataset : rt     interaction : NeuCF\r\n",
      "2023-02-02 22:55:18  Density : 30.00%, slice_epochs : 100, agg_epochs : 10\r\n",
      "2023-02-02 22:55:18  Part_type : 1,    slices : 5,       devices : gpu\r\n",
      "\r\n",
      "\r\n",
      "2023-02-02 22:55:18  Density 30.00% : MAE = 0.381, RMSE = 1.277, NMAE = 0.419, MRE = 0.313, NPRE = 1.220\r\n",
      "\r\n",
      "2023-02-02 22:55:18  Experiment success!\r\n",
      "\r\n"
     ]
    }
   ],
   "source": [
    "!python Experiment.py --dataset rt --interaction NeuCF --rounds 1 --slices 5 --agg_epochs 10 --density 0.30 --part_type 1"
   ],
   "metadata": {
    "collapsed": false
   }
  },
  {
   "cell_type": "code",
   "execution_count": 47,
   "outputs": [
    {
     "name": "stdout",
     "output_type": "stream",
     "text": [
      "2023-02-02 22:55:19  Experiment start!\r\n",
      "2023-02-02 22:55:19  Namespace(F=1, agg2=0, agg_decay=0.001, agg_epochs=10, agg_function=1, agg_lr=0.001, agg_type='att', att_decay=0.0001, att_lr=0.001, batch_size=128, beta=1, cluster='deep', cuda=True, dataset='rt', debug=0, density=0.3, devices='gpu', dimension=32, dir='../Dataset/mnist', dropout=0.1, epoch=1500, external_dim=64, hidden_dims=[64, 64, 100], input_dim=128, interaction='NeuCF', lamda=1, latent_dim=10, log_interval=100, lr=0.0001, n_classes=10, n_clusters=10, n_jobs=1, node2vec=0, node2vec_batchsize=32, node2vec_dim=128, node2vec_epochs=20, node2vec_length=8, node2vec_walk=15, node2vec_windows=3, num_layers=2, order=2, part_iter=20, part_type=3, path='./datasets/data/WSDREAM/', pre_epoch=1000, pretrain=True, processed=0, random_state=1001, record=1, retrain=0, rounds=1, save_model=1, slice=1, slice_decay=0.001, slice_epochs=100, slice_lr=0.001, slices=5, verbose=10, wd=0.0005)\r\n",
      "2023-02-02 22:55:19  Dataset : rt     interaction : NeuCF\r\n",
      "2023-02-02 22:55:19  Density : 30.00%, slice_epochs : 100, agg_epochs : 10\r\n",
      "2023-02-02 22:55:19  Part_type : 3,    slices : 5,       devices : gpu\r\n",
      "2023-02-02 22:55:19  Slice_lr : 0.005,    Slice_decay : 0.001\r\n",
      "2023-02-02 22:55:19  Agg_lr : 0.001,    Agg_decay : 0.001\r\n",
      "2023-02-02 22:55:19  Aggregation function : softmax\r\n",
      "\r\n",
      "2023-02-02 22:55:19  Round 1 experiment start!\r\n",
      "2023-02-02 22:55:19  \t原始数据集读取完毕\r\n",
      "2023-02-02 22:55:20  \tReceraser 基于交互切割完毕\r\n",
      "2023-02-02 22:55:20  \t分切数据执行完毕\r\n",
      "2023-02-02 22:55:21  \t模型加载完毕\r\n",
      "2023-02-02 22:55:21  \t准备训练切片模型\r\n",
      "2023-02-02 22:55:21  \t实验 1 模型 1 开始分片训练\r\n",
      "2023-02-02 22:55:48  Epoch 10 : MAE : 0.6740  RMSE : 1.8173  NMAE : 0.7330  MRE : 0.6034  NPRE : 3.0363\r\n",
      "2023-02-02 22:56:13  Epoch 20 : MAE : 0.6658  RMSE : 1.8066  NMAE : 0.7241  MRE : 0.5902  NPRE : 3.0076\r\n",
      "2023-02-02 22:56:35  Best epoch 18 : MAE : 0.6558  RMSE : 1.8061  NMAE : 0.7132  MRE : 0.5671  NPRE : 2.9334\r\n",
      "2023-02-02 22:56:35  实验 1 模型 1 training time = 26.80 s\r\n",
      "2023-02-02 22:56:35  Slice ID  1 : MAE = 0.6558, RMSE = 1.8061, NMAE = 0.7132, MRE = 0.5671, NPRE = 2.9334\r\n",
      "\r\n",
      "2023-02-02 22:56:35  \t实验 1 模型 2 开始分片训练\r\n",
      "2023-02-02 22:56:59  Epoch 10 : MAE : 0.6882  RMSE : 1.6631  NMAE : 0.7484  MRE : 0.7755  NPRE : 3.9802\r\n",
      "2023-02-02 22:57:23  Epoch 20 : MAE : 0.6937  RMSE : 1.6909  NMAE : 0.7544  MRE : 0.8050  NPRE : 3.7622\r\n",
      "2023-02-02 22:57:27  Best epoch 12 : MAE : 0.6539  RMSE : 1.6597  NMAE : 0.7112  MRE : 0.7011  NPRE : 3.7259\r\n",
      "2023-02-02 22:57:27  实验 1 模型 2 training time = 15.14 s\r\n",
      "2023-02-02 22:57:27  Slice ID  2 : MAE = 0.6539, RMSE = 1.6597, NMAE = 0.7112, MRE = 0.7011, NPRE = 3.7259\r\n",
      "\r\n",
      "2023-02-02 22:57:27  \t实验 1 模型 3 开始分片训练\r\n",
      "2023-02-02 22:57:50  Epoch 10 : MAE : 0.7290  RMSE : 1.8005  NMAE : 0.7928  MRE : 0.7595  NPRE : 5.4385\r\n",
      "2023-02-02 22:58:12  Epoch 20 : MAE : 0.6882  RMSE : 1.7904  NMAE : 0.7484  MRE : 0.6473  NPRE : 4.3878\r\n",
      "2023-02-02 22:58:21  Best epoch 14 : MAE : 0.6743  RMSE : 1.7918  NMAE : 0.7333  MRE : 0.6259  NPRE : 4.1119\r\n",
      "2023-02-02 22:58:21  实验 1 模型 3 training time = 15.95 s\r\n",
      "2023-02-02 22:58:21  Slice ID  3 : MAE = 0.6743, RMSE = 1.7918, NMAE = 0.7333, MRE = 0.6259, NPRE = 4.1119\r\n",
      "\r\n",
      "2023-02-02 22:58:21  \t实验 1 模型 4 开始分片训练\r\n",
      "2023-02-02 22:58:42  Epoch 10 : MAE : 0.7195  RMSE : 1.7581  NMAE : 0.7824  MRE : 0.7553  NPRE : 4.0559\r\n",
      "2023-02-02 22:58:54  Best epoch  6 : MAE : 0.7018  RMSE : 1.7548  NMAE : 0.7632  MRE : 0.7508  NPRE : 3.8627\r\n",
      "2023-02-02 22:58:54  实验 1 模型 4 training time = 5.61 s\r\n",
      "2023-02-02 22:58:54  Slice ID  4 : MAE = 0.7018, RMSE = 1.7548, NMAE = 0.7632, MRE = 0.7508, NPRE = 3.8627\r\n",
      "\r\n",
      "2023-02-02 22:58:54  \t实验 1 模型 5 开始分片训练\r\n",
      "2023-02-02 22:59:21  Epoch 10 : MAE : 0.6699  RMSE : 1.7377  NMAE : 0.7285  MRE : 0.6399  NPRE : 3.6683\r\n",
      "2023-02-02 22:59:42  Best epoch  8 : MAE : 0.6503  RMSE : 1.7504  NMAE : 0.7072  MRE : 0.5940  NPRE : 3.0009\r\n",
      "2023-02-02 22:59:42  实验 1 模型 5 training time = 12.21 s\r\n",
      "2023-02-02 22:59:42  Slice ID  5 : MAE = 0.6503, RMSE = 1.7504, NMAE = 0.7072, MRE = 0.5940, NPRE = 3.0009\r\n",
      "\r\n",
      "2023-02-02 22:59:42  \t所有切片模型训练完毕\r\n",
      "2023-02-02 22:59:42  \t开始训练聚合模型\r\n",
      "2023-02-02 22:59:47  Epoch  1 : MAE : 0.4802  RMSE : 1.4112  NMAE : 0.5283  MRE : 0.4212  NPRE : 2.0409\r\n",
      "2023-02-02 22:59:52  Epoch  2 : MAE : 0.4440  RMSE : 1.3661  NMAE : 0.4885  MRE : 0.3773  NPRE : 1.9296\r\n",
      "2023-02-02 22:59:57  Epoch  3 : MAE : 0.4254  RMSE : 1.3401  NMAE : 0.4680  MRE : 0.3566  NPRE : 1.5349\r\n",
      "2023-02-02 23:00:02  Epoch  4 : MAE : 0.4129  RMSE : 1.3215  NMAE : 0.4543  MRE : 0.3391  NPRE : 1.4250\r\n",
      "2023-02-02 23:00:07  Epoch  5 : MAE : 0.4053  RMSE : 1.3138  NMAE : 0.4459  MRE : 0.3255  NPRE : 1.3440\r\n",
      "2023-02-02 23:00:12  Epoch  6 : MAE : 0.4001  RMSE : 1.2976  NMAE : 0.4402  MRE : 0.3183  NPRE : 1.2678\r\n",
      "2023-02-02 23:00:17  Epoch  7 : MAE : 0.3939  RMSE : 1.2982  NMAE : 0.4333  MRE : 0.3113  NPRE : 1.4091\r\n",
      "2023-02-02 23:00:22  Epoch  8 : MAE : 0.3881  RMSE : 1.2898  NMAE : 0.4270  MRE : 0.3026  NPRE : 1.2552\r\n",
      "2023-02-02 23:00:27  Epoch  9 : MAE : 0.3846  RMSE : 1.2847  NMAE : 0.4232  MRE : 0.2960  NPRE : 1.2225\r\n",
      "2023-02-02 23:00:32  Epoch 10 : MAE : 0.3810  RMSE : 1.2806  NMAE : 0.4192  MRE : 0.2971  NPRE : 1.0803\r\n",
      "2023-02-02 23:00:32  Best epoch 10 : MAE : 0.3810  RMSE : 1.2806  NMAE : 0.4192  MRE : 0.2971  NPRE : 1.0803\r\n",
      "2023-02-02 23:00:32  \t实验 1 聚合模型训练完毕\r\n",
      "100%|███████████████████████████████████████████| 10/10 [00:02<00:00,  3.55it/s]\r\n",
      "2023-02-02 23:00:35  Result : MAE : 0.3808  RMSE : 1.2798  NMAE : 0.4189  MRE : 0.2968  NPRE : 1.0778\r\n",
      "2023-02-02 23:00:35  \t实验 1 : Aggregators training time = 21.20 s\r\n",
      "\r\n",
      "2023-02-02 23:00:35  \t聚合模型训练完毕\r\n",
      "\r\n",
      "------------------------------------------------------------------------------------------------------------------------\r\n",
      "2023-02-02 23:00:35  Dataset : rt     interaction : NeuCF\r\n",
      "2023-02-02 23:00:35  Density : 30.00%, slice_epochs : 100, agg_epochs : 10\r\n",
      "2023-02-02 23:00:35  Part_type : 3,    slices : 5,       devices : gpu\r\n",
      "\r\n",
      "\r\n",
      "2023-02-02 23:00:35  Density 30.00% : MAE = 0.381, RMSE = 1.280, NMAE = 0.419, MRE = 0.297, NPRE = 1.078\r\n",
      "\r\n",
      "2023-02-02 23:00:35  Experiment success!\r\n",
      "\r\n"
     ]
    }
   ],
   "source": [
    "!python Experiment.py --dataset rt --interaction NeuCF --rounds 1 --slices 5 --agg_epochs 10 --density 0.30 --part_type 3"
   ],
   "metadata": {
    "collapsed": false
   }
  },
  {
   "cell_type": "code",
   "execution_count": 48,
   "outputs": [
    {
     "name": "stdout",
     "output_type": "stream",
     "text": [
      "2023-02-02 23:00:36  Experiment start!\r\n",
      "2023-02-02 23:00:36  Namespace(F=1, agg2=0, agg_decay=0.001, agg_epochs=10, agg_function=1, agg_lr=0.001, agg_type='att', att_decay=0.0001, att_lr=0.001, batch_size=128, beta=1, cluster='deep', cuda=True, dataset='rt', debug=0, density=0.3, devices='gpu', dimension=32, dir='../Dataset/mnist', dropout=0.1, epoch=1500, external_dim=64, hidden_dims=[64, 64, 100], input_dim=128, interaction='NeuCF', lamda=1, latent_dim=10, log_interval=100, lr=0.0001, n_classes=10, n_clusters=10, n_jobs=1, node2vec=0, node2vec_batchsize=32, node2vec_dim=128, node2vec_epochs=20, node2vec_length=8, node2vec_walk=15, node2vec_windows=3, num_layers=2, order=2, part_iter=20, part_type=5, path='./datasets/data/WSDREAM/', pre_epoch=1000, pretrain=True, processed=0, random_state=1001, record=1, retrain=0, rounds=1, save_model=1, slice=1, slice_decay=0.001, slice_epochs=100, slice_lr=0.001, slices=5, verbose=10, wd=0.0005)\r\n",
      "2023-02-02 23:00:36  Dataset : rt     interaction : NeuCF\r\n",
      "2023-02-02 23:00:36  Density : 30.00%, slice_epochs : 100, agg_epochs : 10\r\n",
      "2023-02-02 23:00:36  Part_type : 5,    slices : 5,       devices : gpu\r\n",
      "2023-02-02 23:00:36  Slice_lr : 0.005,    Slice_decay : 0.001\r\n",
      "2023-02-02 23:00:36  Agg_lr : 0.001,    Agg_decay : 0.001\r\n",
      "2023-02-02 23:00:36  Aggregation function : att\r\n",
      "\r\n",
      "2023-02-02 23:00:36  Round 1 experiment start!\r\n",
      "2023-02-02 23:00:36  \t原始数据集读取完毕\r\n",
      "2023-02-02 23:00:36  \t图嵌入均衡切割\r\n",
      "42 45 78 89 85 \r\n",
      "2023-02-02 23:00:36  \tNode2Vec 基于用户聚类均衡切割完毕\r\n",
      "2023-02-02 23:00:36  \t分切数据执行完毕\r\n",
      "2023-02-02 23:00:38  \t模型加载完毕\r\n",
      "2023-02-02 23:00:38  \t准备训练切片模型\r\n",
      "2023-02-02 23:00:38  \t实验 1 模型 1 开始分片训练\r\n",
      "2023-02-02 23:00:51  Epoch 10 : MAE : 0.6458  RMSE : 1.7469  NMAE : 0.5637  MRE : 0.4731  NPRE : 2.9537\r\n",
      "2023-02-02 23:01:03  Epoch 20 : MAE : 0.5880  RMSE : 1.6665  NMAE : 0.5133  MRE : 0.3865  NPRE : 1.2137\r\n",
      "2023-02-02 23:01:15  Epoch 30 : MAE : 0.5815  RMSE : 1.6279  NMAE : 0.5076  MRE : 0.4454  NPRE : 1.0000\r\n",
      "2023-02-02 23:01:25  Best epoch 28 : MAE : 0.5767  RMSE : 1.6273  NMAE : 0.5034  MRE : 0.3883  NPRE : 1.3364\r\n",
      "2023-02-02 23:01:25  实验 1 模型 1 training time = 21.56 s\r\n",
      "2023-02-02 23:01:25  Slice ID  1 : MAE = 0.5767, RMSE = 1.6273, NMAE = 0.5034, MRE = 0.3883, NPRE = 1.3364\r\n",
      "\r\n",
      "2023-02-02 23:01:25  \t实验 1 模型 2 开始分片训练\r\n",
      "2023-02-02 23:01:38  Epoch 10 : MAE : 0.4274  RMSE : 1.3576  NMAE : 0.4872  MRE : 0.3845  NPRE : 1.6919\r\n",
      "2023-02-02 23:01:51  Epoch 20 : MAE : 0.3736  RMSE : 1.2918  NMAE : 0.4258  MRE : 0.2814  NPRE : 0.9559\r\n",
      "2023-02-02 23:02:04  Epoch 30 : MAE : 0.3671  RMSE : 1.2578  NMAE : 0.4184  MRE : 0.2896  NPRE : 1.0000\r\n",
      "2023-02-02 23:02:16  Epoch 40 : MAE : 0.3698  RMSE : 1.2583  NMAE : 0.4216  MRE : 0.2933  NPRE : 1.0712\r\n",
      "2023-02-02 23:02:21  Best epoch 34 : MAE : 0.3638  RMSE : 1.2719  NMAE : 0.4147  MRE : 0.2670  NPRE : 0.9949\r\n",
      "2023-02-02 23:02:21  实验 1 模型 2 training time = 28.81 s\r\n",
      "2023-02-02 23:02:21  Slice ID  2 : MAE = 0.3638, RMSE = 1.2719, NMAE = 0.4147, MRE = 0.2670, NPRE = 0.9949\r\n",
      "\r\n",
      "2023-02-02 23:02:21  \t实验 1 模型 3 开始分片训练\r\n",
      "2023-02-02 23:02:40  Epoch 10 : MAE : 0.4135  RMSE : 1.3614  NMAE : 0.4761  MRE : 0.3227  NPRE : 1.2032\r\n",
      "2023-02-02 23:02:59  Epoch 20 : MAE : 0.4136  RMSE : 1.3072  NMAE : 0.4762  MRE : 0.3703  NPRE : 1.3078\r\n",
      "2023-02-02 23:03:19  Epoch 30 : MAE : 0.3721  RMSE : 1.3025  NMAE : 0.4284  MRE : 0.2660  NPRE : 0.8959\r\n",
      "2023-02-02 23:03:27  Best epoch 24 : MAE : 0.3659  RMSE : 1.2963  NMAE : 0.4214  MRE : 0.2562  NPRE : 0.9124\r\n",
      "2023-02-02 23:03:27  实验 1 模型 3 training time = 34.29 s\r\n",
      "2023-02-02 23:03:27  Slice ID  3 : MAE = 0.3659, RMSE = 1.2963, NMAE = 0.4214, MRE = 0.2562, NPRE = 0.9124\r\n",
      "\r\n",
      "2023-02-02 23:03:27  \t实验 1 模型 4 开始分片训练\r\n",
      "2023-02-02 23:03:49  Epoch 10 : MAE : 0.4030  RMSE : 1.2963  NMAE : 0.4687  MRE : 0.3260  NPRE : 1.1829\r\n",
      "2023-02-02 23:04:10  Epoch 20 : MAE : 0.3846  RMSE : 1.2820  NMAE : 0.4473  MRE : 0.2572  NPRE : 0.8634\r\n",
      "2023-02-02 23:04:27  Best epoch 18 : MAE : 0.3701  RMSE : 1.2553  NMAE : 0.4304  MRE : 0.2601  NPRE : 0.9122\r\n",
      "2023-02-02 23:04:27  实验 1 模型 4 training time = 28.97 s\r\n",
      "2023-02-02 23:04:27  Slice ID  4 : MAE = 0.3701, RMSE = 1.2553, NMAE = 0.4304, MRE = 0.2601, NPRE = 0.9122\r\n",
      "\r\n",
      "2023-02-02 23:04:27  \t实验 1 模型 5 开始分片训练\r\n",
      "2023-02-02 23:04:48  Epoch 10 : MAE : 0.4299  RMSE : 1.3712  NMAE : 0.4571  MRE : 0.3439  NPRE : 1.6258\r\n",
      "2023-02-02 23:05:09  Epoch 20 : MAE : 0.4043  RMSE : 1.3372  NMAE : 0.4299  MRE : 0.3517  NPRE : 1.0000\r\n",
      "2023-02-02 23:05:30  Epoch 30 : MAE : 0.3869  RMSE : 1.3216  NMAE : 0.4114  MRE : 0.2885  NPRE : 1.0000\r\n",
      "2023-02-02 23:05:42  Best epoch 26 : MAE : 0.3811  RMSE : 1.3048  NMAE : 0.4052  MRE : 0.2756  NPRE : 1.0000\r\n",
      "2023-02-02 23:05:42  实验 1 模型 5 training time = 40.40 s\r\n",
      "2023-02-02 23:05:42  Slice ID  5 : MAE = 0.3811, RMSE = 1.3048, NMAE = 0.4052, MRE = 0.2756, NPRE = 1.0000\r\n",
      "\r\n",
      "2023-02-02 23:05:42  \t所有切片模型训练完毕\r\n",
      "2023-02-02 23:05:42  \t开始训练聚合模型\r\n",
      "2023-02-02 23:05:51  Epoch  1 : MAE : 0.3965  RMSE : 1.3199  NMAE : 0.4362  MRE : 0.3112  NPRE : 1.2089\r\n",
      "2023-02-02 23:06:00  Epoch  2 : MAE : 0.3734  RMSE : 1.2918  NMAE : 0.4108  MRE : 0.2652  NPRE : 0.9727\r\n",
      "2023-02-02 23:06:09  Epoch  3 : MAE : 0.3713  RMSE : 1.2959  NMAE : 0.4085  MRE : 0.2760  NPRE : 0.9137\r\n",
      "2023-02-02 23:06:17  Epoch  4 : MAE : 0.3695  RMSE : 1.2858  NMAE : 0.4065  MRE : 0.2535  NPRE : 0.9128\r\n",
      "2023-02-02 23:06:26  Epoch  5 : MAE : 0.3515  RMSE : 1.2589  NMAE : 0.3867  MRE : 0.2378  NPRE : 0.9315\r\n",
      "2023-02-02 23:06:35  Epoch  6 : MAE : 0.3499  RMSE : 1.2453  NMAE : 0.3850  MRE : 0.2364  NPRE : 0.9495\r\n",
      "2023-02-02 23:06:44  Epoch  7 : MAE : 0.3483  RMSE : 1.2566  NMAE : 0.3832  MRE : 0.2315  NPRE : 0.8802\r\n",
      "2023-02-02 23:06:52  Epoch  8 : MAE : 0.3443  RMSE : 1.2470  NMAE : 0.3788  MRE : 0.2319  NPRE : 0.8621\r\n",
      "2023-02-02 23:07:01  Epoch  9 : MAE : 0.3370  RMSE : 1.2380  NMAE : 0.3707  MRE : 0.2236  NPRE : 0.8751\r\n",
      "2023-02-02 23:07:10  Epoch 10 : MAE : 0.3394  RMSE : 1.2371  NMAE : 0.3734  MRE : 0.2224  NPRE : 0.8771\r\n",
      "2023-02-02 23:07:10  Best epoch  9 : MAE : 0.3370  RMSE : 1.2380  NMAE : 0.3707  MRE : 0.2236  NPRE : 0.8751\r\n",
      "2023-02-02 23:07:10  \t实验 1 聚合模型训练完毕\r\n",
      "100%|███████████████████████████████████████████| 10/10 [00:02<00:00,  3.69it/s]\r\n",
      "2023-02-02 23:07:13  Result : MAE : 0.3427  RMSE : 1.2426  NMAE : 0.3771  MRE : 0.2271  NPRE : 0.8697\r\n",
      "2023-02-02 23:07:13  \t实验 1 : Aggregators training time = 53.18 s\r\n",
      "\r\n",
      "2023-02-02 23:07:13  \t聚合模型训练完毕\r\n",
      "\r\n",
      "------------------------------------------------------------------------------------------------------------------------\r\n",
      "2023-02-02 23:07:13  Dataset : rt     interaction : NeuCF\r\n",
      "2023-02-02 23:07:13  Density : 30.00%, slice_epochs : 100, agg_epochs : 10\r\n",
      "2023-02-02 23:07:13  Part_type : 5,    slices : 5,       devices : gpu\r\n",
      "\r\n",
      "\r\n",
      "2023-02-02 23:07:13  Density 30.00% : MAE = 0.343, RMSE = 1.243, NMAE = 0.377, MRE = 0.227, NPRE = 0.870\r\n",
      "\r\n",
      "2023-02-02 23:07:13  Experiment success!\r\n",
      "\r\n"
     ]
    }
   ],
   "source": [
    "!python Experiment.py --dataset rt --interaction NeuCF --rounds 1 --slices 5 --agg_epochs 10 --density 0.30 --part_type 5"
   ],
   "metadata": {
    "collapsed": false
   }
  },
  {
   "cell_type": "code",
   "execution_count": 49,
   "outputs": [
    {
     "name": "stdout",
     "output_type": "stream",
     "text": [
      "2023-02-02 23:07:14  Experiment start!\r\n",
      "2023-02-02 23:07:14  Namespace(F=1, agg2=0, agg_decay=0.001, agg_epochs=12, agg_function=1, agg_lr=0.001, agg_type='att', att_decay=0.0001, att_lr=0.001, batch_size=128, beta=1, cluster='deep', cuda=True, dataset='tp', debug=0, density=0.1, devices='gpu', dimension=32, dir='../Dataset/mnist', dropout=0.1, epoch=1500, external_dim=64, hidden_dims=[64, 64, 100], input_dim=128, interaction='NeuCF', lamda=1, latent_dim=10, log_interval=100, lr=0.0001, n_classes=10, n_clusters=10, n_jobs=1, node2vec=0, node2vec_batchsize=32, node2vec_dim=128, node2vec_epochs=20, node2vec_length=8, node2vec_walk=15, node2vec_windows=3, num_layers=2, order=2, part_iter=20, part_type=1, path='./datasets/data/WSDREAM/', pre_epoch=1000, pretrain=True, processed=0, random_state=1001, record=1, retrain=0, rounds=1, save_model=1, slice=1, slice_decay=0.001, slice_epochs=100, slice_lr=0.001, slices=5, verbose=10, wd=0.0005)\r\n",
      "2023-02-02 23:07:14  Dataset : tp     interaction : NeuCF\r\n",
      "2023-02-02 23:07:14  Density : 10.00%, slice_epochs : 100, agg_epochs : 12\r\n",
      "2023-02-02 23:07:14  Part_type : 1,    slices : 5,       devices : gpu\r\n",
      "2023-02-02 23:07:14  Slice_lr : 0.005,    Slice_decay : 0.001\r\n",
      "2023-02-02 23:07:14  Agg_lr : 0.005,    Agg_decay : 0.001\r\n",
      "2023-02-02 23:07:14  Aggregation function : mean\r\n",
      "\r\n",
      "2023-02-02 23:07:14  Round 1 experiment start!\r\n",
      "2023-02-02 23:07:14  \t原始数据集读取完毕\r\n",
      "2023-02-02 23:07:14  \tSISA 切割完毕\r\n",
      "2023-02-02 23:07:14  \t分切数据执行完毕\r\n",
      "2023-02-02 23:07:16  \t模型加载完毕\r\n",
      "2023-02-02 23:07:16  \t准备训练切片模型\r\n",
      "2023-02-02 23:07:16  \t实验 1 模型 1 开始分片训练\r\n",
      "2023-02-02 23:07:32  Epoch 10 : MAE : 29.9455  RMSE : 77.0556  NMAE : 0.6340  MRE : 0.8154  NPRE : 2.3994\r\n",
      "2023-02-02 23:07:46  Epoch 20 : MAE : 30.0142  RMSE : 73.9599  NMAE : 0.6354  MRE : 0.7507  NPRE : 5.1920\r\n",
      "2023-02-02 23:07:51  Best epoch 13 : MAE : 28.6661  RMSE : 75.2466  NMAE : 0.6069  MRE : 0.7725  NPRE : 1.7425\r\n",
      "2023-02-02 23:07:51  实验 1 模型 1 training time = 5.61 s\r\n",
      "2023-02-02 23:07:51  Slice ID  1 : MAE = 28.6661, RMSE = 75.2466, NMAE = 0.6069, MRE = 0.7725, NPRE = 1.7425\r\n",
      "\r\n",
      "2023-02-02 23:07:51  \t实验 1 模型 2 开始分片训练\r\n",
      "2023-02-02 23:08:06  Epoch 10 : MAE : 30.1994  RMSE : 75.8530  NMAE : 0.6394  MRE : 0.7981  NPRE : 3.5769\r\n",
      "2023-02-02 23:08:21  Epoch 20 : MAE : 30.0452  RMSE : 73.9814  NMAE : 0.6361  MRE : 0.7468  NPRE : 5.0253\r\n",
      "2023-02-02 23:08:35  Epoch 30 : MAE : 29.8826  RMSE : 73.7087  NMAE : 0.6326  MRE : 0.8302  NPRE : 2.8741\r\n",
      "2023-02-02 23:08:47  Best epoch 28 : MAE : 28.9475  RMSE : 74.7495  NMAE : 0.6128  MRE : 0.7182  NPRE : 3.2880\r\n",
      "2023-02-02 23:08:47  实验 1 模型 2 training time = 11.74 s\r\n",
      "2023-02-02 23:08:47  Slice ID  2 : MAE = 28.9475, RMSE = 74.7495, NMAE = 0.6128, MRE = 0.7182, NPRE = 3.2880\r\n",
      "\r\n",
      "2023-02-02 23:08:47  \t实验 1 模型 3 开始分片训练\r\n",
      "2023-02-02 23:09:03  Epoch 10 : MAE : 30.8943  RMSE : 73.6376  NMAE : 0.6541  MRE : 0.8614  NPRE : 4.6928\r\n",
      "2023-02-02 23:09:18  Epoch 20 : MAE : 29.0841  RMSE : 74.0169  NMAE : 0.6157  MRE : 0.6929  NPRE : 4.2586\r\n",
      "2023-02-02 23:09:29  Best epoch 18 : MAE : 28.2574  RMSE : 72.2358  NMAE : 0.5982  MRE : 0.6917  NPRE : 3.2405\r\n",
      "2023-02-02 23:09:29  实验 1 模型 3 training time = 7.84 s\r\n",
      "2023-02-02 23:09:29  Slice ID  3 : MAE = 28.2574, RMSE = 72.2358, NMAE = 0.5982, MRE = 0.6917, NPRE = 3.2405\r\n",
      "\r\n",
      "2023-02-02 23:09:29  \t实验 1 模型 4 开始分片训练\r\n",
      "2023-02-02 23:09:44  Epoch 10 : MAE : 30.9476  RMSE : 73.7407  NMAE : 0.6552  MRE : 0.7983  NPRE : 5.4291\r\n",
      "2023-02-02 23:09:59  Epoch 20 : MAE : 29.0730  RMSE : 72.9268  NMAE : 0.6155  MRE : 0.7092  NPRE : 4.6232\r\n",
      "2023-02-02 23:10:14  Epoch 30 : MAE : 30.5984  RMSE : 72.3854  NMAE : 0.6478  MRE : 0.8107  NPRE : 5.4644\r\n",
      "2023-02-02 23:10:22  Best epoch 25 : MAE : 28.3333  RMSE : 73.6057  NMAE : 0.5998  MRE : 0.7011  NPRE : 2.5527\r\n",
      "2023-02-02 23:10:22  实验 1 模型 4 training time = 10.41 s\r\n",
      "2023-02-02 23:10:22  Slice ID  4 : MAE = 28.3333, RMSE = 73.6057, NMAE = 0.5998, MRE = 0.7011, NPRE = 2.5527\r\n",
      "\r\n",
      "2023-02-02 23:10:22  \t实验 1 模型 5 开始分片训练\r\n",
      "2023-02-02 23:10:37  Epoch 10 : MAE : 30.5339  RMSE : 76.9946  NMAE : 0.6464  MRE : 0.7718  NPRE : 4.3103\r\n",
      "2023-02-02 23:10:52  Epoch 20 : MAE : 29.8537  RMSE : 77.5251  NMAE : 0.6320  MRE : 0.7480  NPRE : 2.2821\r\n",
      "2023-02-02 23:11:06  Epoch 30 : MAE : 31.8371  RMSE : 76.3293  NMAE : 0.6740  MRE : 0.8471  NPRE : 4.7538\r\n",
      "2023-02-02 23:11:11  Best epoch 23 : MAE : 29.0587  RMSE : 74.3424  NMAE : 0.6152  MRE : 0.7563  NPRE : 2.6539\r\n",
      "2023-02-02 23:11:11  实验 1 模型 5 training time = 9.85 s\r\n",
      "2023-02-02 23:11:11  Slice ID  5 : MAE = 29.0587, RMSE = 74.3424, NMAE = 0.6152, MRE = 0.7563, NPRE = 2.6539\r\n",
      "\r\n",
      "2023-02-02 23:11:11  \t所有切片模型训练完毕\r\n",
      "2023-02-02 23:11:11  \t开始训练聚合模型\r\n",
      "2023-02-02 23:11:15  Epoch  1 : MAE : 26.4039  RMSE : 69.9972  NMAE : 0.5549  MRE : 0.5379  NPRE : 2.6926\r\n",
      "2023-02-02 23:11:19  Epoch  2 : MAE : 25.7704  RMSE : 69.8681  NMAE : 0.5416  MRE : 0.5272  NPRE : 2.3503\r\n",
      "2023-02-02 23:11:23  Epoch  3 : MAE : 25.3670  RMSE : 68.9495  NMAE : 0.5331  MRE : 0.5125  NPRE : 2.2345\r\n",
      "2023-02-02 23:11:26  Epoch  4 : MAE : 25.3229  RMSE : 69.0352  NMAE : 0.5322  MRE : 0.5298  NPRE : 2.8377\r\n",
      "2023-02-02 23:11:30  Epoch  5 : MAE : 25.5051  RMSE : 70.9367  NMAE : 0.5360  MRE : 0.5110  NPRE : 2.5350\r\n",
      "2023-02-02 23:11:34  Epoch  6 : MAE : 25.2839  RMSE : 67.4356  NMAE : 0.5313  MRE : 0.5151  NPRE : 2.1287\r\n",
      "2023-02-02 23:11:38  Epoch  7 : MAE : 24.7150  RMSE : 67.5305  NMAE : 0.5194  MRE : 0.4934  NPRE : 2.2510\r\n",
      "2023-02-02 23:11:43  Epoch  8 : MAE : 24.7307  RMSE : 67.0830  NMAE : 0.5197  MRE : 0.5103  NPRE : 2.8720\r\n",
      "2023-02-02 23:11:47  Epoch  9 : MAE : 24.8492  RMSE : 68.1744  NMAE : 0.5222  MRE : 0.5054  NPRE : 2.6828\r\n",
      "2023-02-02 23:11:52  Epoch 10 : MAE : 24.6986  RMSE : 66.3222  NMAE : 0.5190  MRE : 0.5530  NPRE : 1.7840\r\n",
      "2023-02-02 23:11:56  Epoch 11 : MAE : 24.4705  RMSE : 67.2680  NMAE : 0.5142  MRE : 0.4892  NPRE : 2.0969\r\n",
      "2023-02-02 23:12:01  Epoch 12 : MAE : 24.3198  RMSE : 66.0857  NMAE : 0.5111  MRE : 0.5025  NPRE : 2.3691\r\n",
      "2023-02-02 23:12:01  Best epoch 12 : MAE : 24.3198  RMSE : 66.0857  NMAE : 0.5111  MRE : 0.5025  NPRE : 2.3691\r\n",
      "2023-02-02 23:12:01  \t实验 1 聚合模型训练完毕\r\n",
      "100%|███████████████████████████████████████████| 12/12 [00:04<00:00,  2.91it/s]\r\n",
      "2023-02-02 23:12:05  Result : MAE : 24.2800  RMSE : 65.9661  NMAE : 0.5102  MRE : 0.5027  NPRE : 2.3685\r\n",
      "2023-02-02 23:12:05  \t实验 1 : Aggregators training time = 9.73 s\r\n",
      "\r\n",
      "2023-02-02 23:12:05  \t聚合模型训练完毕\r\n",
      "\r\n",
      "------------------------------------------------------------------------------------------------------------------------\r\n",
      "2023-02-02 23:12:05  Dataset : tp     interaction : NeuCF\r\n",
      "2023-02-02 23:12:05  Density : 10.00%, slice_epochs : 100, agg_epochs : 12\r\n",
      "2023-02-02 23:12:05  Part_type : 1,    slices : 5,       devices : gpu\r\n",
      "\r\n",
      "\r\n",
      "2023-02-02 23:12:05  Density 10.00% : MAE = 24.280, RMSE = 65.966, NMAE = 0.510, MRE = 0.503, NPRE = 2.369\r\n",
      "\r\n",
      "2023-02-02 23:12:05  Experiment success!\r\n",
      "\r\n"
     ]
    }
   ],
   "source": [
    "!python Experiment.py --dataset tp --interaction NeuCF --rounds 1 --slices 5 --agg_epochs 12 --density 0.10 --part_type 1"
   ],
   "metadata": {
    "collapsed": false
   }
  },
  {
   "cell_type": "code",
   "execution_count": 50,
   "outputs": [
    {
     "name": "stdout",
     "output_type": "stream",
     "text": [
      "2023-02-02 23:12:06  Experiment start!\r\n",
      "2023-02-02 23:12:06  Namespace(F=1, agg2=0, agg_decay=0.001, agg_epochs=12, agg_function=1, agg_lr=0.001, agg_type='att', att_decay=0.0001, att_lr=0.001, batch_size=128, beta=1, cluster='deep', cuda=True, dataset='tp', debug=0, density=0.1, devices='gpu', dimension=32, dir='../Dataset/mnist', dropout=0.1, epoch=1500, external_dim=64, hidden_dims=[64, 64, 100], input_dim=128, interaction='NeuCF', lamda=1, latent_dim=10, log_interval=100, lr=0.0001, n_classes=10, n_clusters=10, n_jobs=1, node2vec=0, node2vec_batchsize=32, node2vec_dim=128, node2vec_epochs=20, node2vec_length=8, node2vec_walk=15, node2vec_windows=3, num_layers=2, order=2, part_iter=20, part_type=3, path='./datasets/data/WSDREAM/', pre_epoch=1000, pretrain=True, processed=0, random_state=1001, record=1, retrain=0, rounds=1, save_model=1, slice=1, slice_decay=0.001, slice_epochs=100, slice_lr=0.001, slices=5, verbose=10, wd=0.0005)\r\n",
      "2023-02-02 23:12:06  Dataset : tp     interaction : NeuCF\r\n",
      "2023-02-02 23:12:06  Density : 10.00%, slice_epochs : 100, agg_epochs : 12\r\n",
      "2023-02-02 23:12:06  Part_type : 3,    slices : 5,       devices : gpu\r\n",
      "2023-02-02 23:12:06  Slice_lr : 0.005,    Slice_decay : 0.001\r\n",
      "2023-02-02 23:12:06  Agg_lr : 0.005,    Agg_decay : 0.001\r\n",
      "2023-02-02 23:12:06  Aggregation function : softmax\r\n",
      "\r\n",
      "2023-02-02 23:12:06  Round 1 experiment start!\r\n",
      "2023-02-02 23:12:06  \t原始数据集读取完毕\r\n",
      "2023-02-02 23:12:07  \tReceraser 基于交互切割完毕\r\n",
      "2023-02-02 23:12:07  \t分切数据执行完毕\r\n",
      "2023-02-02 23:12:10  \t模型加载完毕\r\n",
      "2023-02-02 23:12:10  \t准备训练切片模型\r\n",
      "2023-02-02 23:12:10  \t实验 1 模型 1 开始分片训练\r\n",
      "2023-02-02 23:12:36  Epoch 10 : MAE : 40.2836  RMSE : 99.1925  NMAE : 0.8528  MRE : 0.9118  NPRE : 9.1346\r\n",
      "2023-02-02 23:13:01  Epoch 20 : MAE : 39.5718  RMSE : 97.9326  NMAE : 0.8378  MRE : 0.8107  NPRE : 8.2096\r\n",
      "2023-02-02 23:13:26  Epoch 30 : MAE : 40.0099  RMSE : 97.9504  NMAE : 0.8470  MRE : 0.8167  NPRE : 8.5053\r\n",
      "2023-02-02 23:13:35  Best epoch 24 : MAE : 38.4117  RMSE : 97.9649  NMAE : 0.8132  MRE : 0.8019  NPRE : 7.7103\r\n",
      "2023-02-02 23:13:35  实验 1 模型 1 training time = 19.27 s\r\n",
      "2023-02-02 23:13:35  Slice ID  1 : MAE = 38.4117, RMSE = 97.9649, NMAE = 0.8132, MRE = 0.8019, NPRE = 7.7103\r\n",
      "\r\n",
      "2023-02-02 23:13:35  \t实验 1 模型 2 开始分片训练\r\n",
      "2023-02-02 23:13:59  Epoch 10 : MAE : 36.6392  RMSE : 91.1093  NMAE : 0.7757  MRE : 0.9495  NPRE : 5.2470\r\n",
      "2023-02-02 23:14:23  Epoch 20 : MAE : 34.7829  RMSE : 88.6630  NMAE : 0.7364  MRE : 0.8536  NPRE : 4.8952\r\n",
      "2023-02-02 23:14:47  Epoch 30 : MAE : 39.8162  RMSE : 91.5585  NMAE : 0.8429  MRE : 1.0000  NPRE : 7.5502\r\n",
      "2023-02-02 23:14:47  Best epoch 20 : MAE : 34.7829  RMSE : 88.6630  NMAE : 0.7364  MRE : 0.8536  NPRE : 4.8952\r\n",
      "2023-02-02 23:14:47  实验 1 模型 2 training time = 13.09 s\r\n",
      "2023-02-02 23:14:47  Slice ID  2 : MAE = 34.7829, RMSE = 88.6630, NMAE = 0.7364, MRE = 0.8536, NPRE = 4.8952\r\n",
      "\r\n",
      "2023-02-02 23:14:47  \t实验 1 模型 3 开始分片训练\r\n",
      "2023-02-02 23:15:10  Epoch 10 : MAE : 41.9859  RMSE : 103.9361  NMAE : 0.8889  MRE : 0.9311  NPRE : 8.0168\r\n",
      "2023-02-02 23:15:33  Epoch 20 : MAE : 42.3001  RMSE : 102.9459  NMAE : 0.8955  MRE : 0.9035  NPRE : 8.9200\r\n",
      "2023-02-02 23:15:55  Epoch 30 : MAE : 42.3957  RMSE : 101.6072  NMAE : 0.8976  MRE : 0.9084  NPRE : 10.1185\r\n",
      "2023-02-02 23:16:15  Best epoch 29 : MAE : 40.8638  RMSE : 102.1105  NMAE : 0.8651  MRE : 0.8422  NPRE : 8.1609\r\n",
      "2023-02-02 23:16:15  实验 1 模型 3 training time = 16.89 s\r\n",
      "2023-02-02 23:16:15  Slice ID  3 : MAE = 40.8638, RMSE = 102.1105, NMAE = 0.8651, MRE = 0.8422, NPRE = 8.1609\r\n",
      "\r\n",
      "2023-02-02 23:16:15  \t实验 1 模型 4 开始分片训练\r\n",
      "2023-02-02 23:16:37  Epoch 10 : MAE : 37.9475  RMSE : 92.6698  NMAE : 0.8034  MRE : 0.9819  NPRE : 5.4834\r\n",
      "2023-02-02 23:16:57  Epoch 20 : MAE : 35.9714  RMSE : 90.7593  NMAE : 0.7615  MRE : 0.8872  NPRE : 4.6004\r\n",
      "2023-02-02 23:17:19  Epoch 30 : MAE : 38.8130  RMSE : 90.5772  NMAE : 0.8217  MRE : 0.9987  NPRE : 7.4898\r\n",
      "2023-02-02 23:17:19  Best epoch 20 : MAE : 35.9714  RMSE : 90.7593  NMAE : 0.7615  MRE : 0.8872  NPRE : 4.6004\r\n",
      "2023-02-02 23:17:19  实验 1 模型 4 training time = 9.29 s\r\n",
      "2023-02-02 23:17:19  Slice ID  4 : MAE = 35.9714, RMSE = 90.7593, NMAE = 0.7615, MRE = 0.8872, NPRE = 4.6004\r\n",
      "\r\n",
      "2023-02-02 23:17:19  \t实验 1 模型 5 开始分片训练\r\n",
      "2023-02-02 23:17:43  Epoch 10 : MAE : 37.4223  RMSE : 94.5167  NMAE : 0.7923  MRE : 0.8905  NPRE : 5.7449\r\n",
      "2023-02-02 23:18:07  Epoch 20 : MAE : 37.0177  RMSE : 92.8353  NMAE : 0.7837  MRE : 0.8132  NPRE : 7.2046\r\n",
      "2023-02-02 23:18:31  Epoch 30 : MAE : 36.6793  RMSE : 92.0873  NMAE : 0.7765  MRE : 0.8132  NPRE : 6.6790\r\n",
      "2023-02-02 23:18:47  Best epoch 27 : MAE : 35.5381  RMSE : 91.1362  NMAE : 0.7524  MRE : 0.7885  NPRE : 5.8538\r\n",
      "2023-02-02 23:18:47  实验 1 模型 5 training time = 20.64 s\r\n",
      "2023-02-02 23:18:47  Slice ID  5 : MAE = 35.5381, RMSE = 91.1362, NMAE = 0.7524, MRE = 0.7885, NPRE = 5.8538\r\n",
      "\r\n",
      "2023-02-02 23:18:47  \t所有切片模型训练完毕\r\n",
      "2023-02-02 23:18:47  \t开始训练聚合模型\r\n",
      "2023-02-02 23:18:53  Epoch  1 : MAE : 27.3441  RMSE : 70.5486  NMAE : 0.5746  MRE : 0.6024  NPRE : 3.6546\r\n",
      "2023-02-02 23:18:58  Epoch  2 : MAE : 24.8581  RMSE : 65.9681  NMAE : 0.5224  MRE : 0.5333  NPRE : 2.2358\r\n",
      "2023-02-02 23:19:03  Epoch  3 : MAE : 23.6581  RMSE : 63.2413  NMAE : 0.4972  MRE : 0.4974  NPRE : 2.2536\r\n",
      "2023-02-02 23:19:07  Epoch  4 : MAE : 22.7294  RMSE : 61.9192  NMAE : 0.4777  MRE : 0.4743  NPRE : 2.0189\r\n",
      "2023-02-02 23:19:12  Epoch  5 : MAE : 22.6879  RMSE : 60.9745  NMAE : 0.4768  MRE : 0.4833  NPRE : 2.5617\r\n",
      "2023-02-02 23:19:18  Epoch  6 : MAE : 22.5895  RMSE : 62.0357  NMAE : 0.4747  MRE : 0.4612  NPRE : 2.1970\r\n",
      "2023-02-02 23:19:23  Epoch  7 : MAE : 21.6621  RMSE : 59.7597  NMAE : 0.4552  MRE : 0.4552  NPRE : 2.5766\r\n",
      "2023-02-02 23:19:28  Epoch  8 : MAE : 21.4344  RMSE : 58.9450  NMAE : 0.4504  MRE : 0.4512  NPRE : 2.0692\r\n",
      "2023-02-02 23:19:32  Epoch  9 : MAE : 21.1191  RMSE : 58.1313  NMAE : 0.4438  MRE : 0.4444  NPRE : 1.7583\r\n",
      "2023-02-02 23:19:37  Epoch 10 : MAE : 20.8544  RMSE : 57.1590  NMAE : 0.4383  MRE : 0.4399  NPRE : 2.0734\r\n",
      "2023-02-02 23:19:42  Epoch 11 : MAE : 20.9794  RMSE : 57.0492  NMAE : 0.4409  MRE : 0.4462  NPRE : 2.2196\r\n",
      "2023-02-02 23:19:47  Epoch 12 : MAE : 20.6726  RMSE : 58.2391  NMAE : 0.4344  MRE : 0.4248  NPRE : 1.8683\r\n",
      "2023-02-02 23:19:47  Best epoch 12 : MAE : 20.6726  RMSE : 58.2391  NMAE : 0.4344  MRE : 0.4248  NPRE : 1.8683\r\n",
      "2023-02-02 23:19:47  \t实验 1 聚合模型训练完毕\r\n",
      "100%|███████████████████████████████████████████| 12/12 [00:03<00:00,  3.52it/s]\r\n",
      "2023-02-02 23:19:50  Result : MAE : 20.6821  RMSE : 58.2344  NMAE : 0.4346  MRE : 0.4241  NPRE : 1.8659\r\n",
      "2023-02-02 23:19:50  \t实验 1 : Aggregators training time = 14.97 s\r\n",
      "\r\n",
      "2023-02-02 23:19:50  \t聚合模型训练完毕\r\n",
      "\r\n",
      "------------------------------------------------------------------------------------------------------------------------\r\n",
      "2023-02-02 23:19:50  Dataset : tp     interaction : NeuCF\r\n",
      "2023-02-02 23:19:50  Density : 10.00%, slice_epochs : 100, agg_epochs : 12\r\n",
      "2023-02-02 23:19:50  Part_type : 3,    slices : 5,       devices : gpu\r\n",
      "\r\n",
      "\r\n",
      "2023-02-02 23:19:50  Density 10.00% : MAE = 20.682, RMSE = 58.234, NMAE = 0.435, MRE = 0.424, NPRE = 1.866\r\n",
      "\r\n",
      "2023-02-02 23:19:50  Experiment success!\r\n",
      "\r\n"
     ]
    }
   ],
   "source": [
    "!python Experiment.py --dataset tp --interaction NeuCF --rounds 1 --slices 5 --agg_epochs 12 --density 0.10 --part_type 3"
   ],
   "metadata": {
    "collapsed": false
   }
  },
  {
   "cell_type": "code",
   "execution_count": 51,
   "outputs": [
    {
     "name": "stdout",
     "output_type": "stream",
     "text": [
      "2023-02-02 23:19:52  Experiment start!\r\n",
      "2023-02-02 23:19:52  Namespace(F=1, agg2=0, agg_decay=0.001, agg_epochs=12, agg_function=1, agg_lr=0.001, agg_type='att', att_decay=0.0001, att_lr=0.001, batch_size=128, beta=1, cluster='deep', cuda=True, dataset='tp', debug=0, density=0.1, devices='gpu', dimension=32, dir='../Dataset/mnist', dropout=0.1, epoch=1500, external_dim=64, hidden_dims=[64, 64, 100], input_dim=128, interaction='NeuCF', lamda=1, latent_dim=10, log_interval=100, lr=0.0001, n_classes=10, n_clusters=10, n_jobs=1, node2vec=0, node2vec_batchsize=32, node2vec_dim=128, node2vec_epochs=20, node2vec_length=8, node2vec_walk=15, node2vec_windows=3, num_layers=2, order=2, part_iter=20, part_type=5, path='./datasets/data/WSDREAM/', pre_epoch=1000, pretrain=True, processed=0, random_state=1001, record=1, retrain=0, rounds=1, save_model=1, slice=1, slice_decay=0.001, slice_epochs=100, slice_lr=0.001, slices=5, verbose=10, wd=0.0005)\r\n",
      "2023-02-02 23:19:52  Dataset : tp     interaction : NeuCF\r\n",
      "2023-02-02 23:19:52  Density : 10.00%, slice_epochs : 100, agg_epochs : 12\r\n",
      "2023-02-02 23:19:52  Part_type : 5,    slices : 5,       devices : gpu\r\n",
      "2023-02-02 23:19:52  Slice_lr : 0.005,    Slice_decay : 0.001\r\n",
      "2023-02-02 23:19:52  Agg_lr : 0.005,    Agg_decay : 0.001\r\n",
      "2023-02-02 23:19:52  Aggregation function : att\r\n",
      "\r\n",
      "2023-02-02 23:19:52  Round 1 experiment start!\r\n",
      "2023-02-02 23:19:52  \t原始数据集读取完毕\r\n",
      "2023-02-02 23:19:53  \t图嵌入均衡切割\r\n",
      "42 45 78 89 85 \r\n",
      "2023-02-02 23:19:53  \tNode2Vec 基于用户聚类均衡切割完毕\r\n",
      "2023-02-02 23:19:53  \t分切数据执行完毕\r\n",
      "2023-02-02 23:19:55  \t模型加载完毕\r\n",
      "2023-02-02 23:19:55  \t准备训练切片模型\r\n",
      "2023-02-02 23:19:55  \t实验 1 模型 1 开始分片训练\r\n",
      "2023-02-02 23:20:06  Epoch 10 : MAE : 32.7475  RMSE : 85.8283  NMAE : 0.7208  MRE : 0.8522  NPRE : 4.9820\r\n",
      "2023-02-02 23:20:16  Epoch 20 : MAE : 29.5209  RMSE : 78.2643  NMAE : 0.6498  MRE : 0.7083  NPRE : 6.7768\r\n",
      "2023-02-02 23:20:25  Epoch 30 : MAE : 28.3456  RMSE : 78.9223  NMAE : 0.6239  MRE : 0.6761  NPRE : 3.1470\r\n",
      "2023-02-02 23:20:35  Epoch 40 : MAE : 28.2267  RMSE : 76.4639  NMAE : 0.6213  MRE : 0.6880  NPRE : 5.5851\r\n",
      "2023-02-02 23:20:44  Epoch 50 : MAE : 28.4173  RMSE : 76.9401  NMAE : 0.6255  MRE : 0.7135  NPRE : 4.9826\r\n",
      "2023-02-02 23:20:53  Epoch 60 : MAE : 29.8891  RMSE : 80.2804  NMAE : 0.6579  MRE : 0.7316  NPRE : 5.8076\r\n",
      "2023-02-02 23:20:59  Best epoch 56 : MAE : 27.9261  RMSE : 76.0658  NMAE : 0.6147  MRE : 0.6913  NPRE : 4.9944\r\n",
      "2023-02-02 23:20:59  实验 1 模型 1 training time = 23.01 s\r\n",
      "2023-02-02 23:20:59  Slice ID  1 : MAE = 27.9261, RMSE = 76.0658, NMAE = 0.6147, MRE = 0.6913, NPRE = 4.9944\r\n",
      "\r\n",
      "2023-02-02 23:20:59  \t实验 1 模型 2 开始分片训练\r\n",
      "2023-02-02 23:21:09  Epoch 10 : MAE : 32.2484  RMSE : 84.7128  NMAE : 0.6680  MRE : 0.7929  NPRE : 2.9647\r\n",
      "2023-02-02 23:21:20  Epoch 20 : MAE : 30.1570  RMSE : 80.4945  NMAE : 0.6247  MRE : 0.6419  NPRE : 4.1646\r\n",
      "2023-02-02 23:21:30  Epoch 30 : MAE : 27.1991  RMSE : 78.4705  NMAE : 0.5634  MRE : 0.5521  NPRE : 3.1324\r\n",
      "2023-02-02 23:21:40  Epoch 40 : MAE : 26.5850  RMSE : 77.9781  NMAE : 0.5507  MRE : 0.5469  NPRE : 2.5575\r\n",
      "2023-02-02 23:21:47  Best epoch 38 : MAE : 26.4402  RMSE : 77.6634  NMAE : 0.5477  MRE : 0.5284  NPRE : 3.2671\r\n",
      "2023-02-02 23:21:47  实验 1 模型 2 training time = 16.80 s\r\n",
      "2023-02-02 23:21:47  Slice ID  2 : MAE = 26.4402, RMSE = 77.6634, NMAE = 0.5477, MRE = 0.5284, NPRE = 3.2671\r\n",
      "\r\n",
      "2023-02-02 23:21:47  \t实验 1 模型 3 开始分片训练\r\n",
      "2023-02-02 23:22:02  Epoch 10 : MAE : 26.5709  RMSE : 71.3122  NMAE : 0.5634  MRE : 0.6729  NPRE : 1.8032\r\n",
      "2023-02-02 23:22:16  Epoch 20 : MAE : 24.0972  RMSE : 65.2606  NMAE : 0.5109  MRE : 0.5482  NPRE : 3.0119\r\n",
      "2023-02-02 23:22:30  Epoch 30 : MAE : 23.2432  RMSE : 67.6021  NMAE : 0.4928  MRE : 0.5018  NPRE : 2.3187\r\n",
      "2023-02-02 23:22:44  Epoch 40 : MAE : 22.8492  RMSE : 63.2048  NMAE : 0.4845  MRE : 0.5451  NPRE : 3.0081\r\n",
      "2023-02-02 23:22:47  Best epoch 32 : MAE : 22.3593  RMSE : 64.1965  NMAE : 0.4741  MRE : 0.5168  NPRE : 1.8164\r\n",
      "2023-02-02 23:22:47  实验 1 模型 3 training time = 24.07 s\r\n",
      "2023-02-02 23:22:47  Slice ID  3 : MAE = 22.3593, RMSE = 64.1965, NMAE = 0.4741, MRE = 0.5168, NPRE = 1.8164\r\n",
      "\r\n",
      "2023-02-02 23:22:47  \t实验 1 模型 4 开始分片训练\r\n",
      "2023-02-02 23:23:03  Epoch 10 : MAE : 29.9439  RMSE : 72.7648  NMAE : 0.6281  MRE : 0.7316  NPRE : 4.7415\r\n",
      "2023-02-02 23:23:18  Epoch 20 : MAE : 23.9416  RMSE : 64.8196  NMAE : 0.5022  MRE : 0.5179  NPRE : 2.8208\r\n",
      "2023-02-02 23:23:35  Epoch 30 : MAE : 23.2990  RMSE : 63.5202  NMAE : 0.4887  MRE : 0.5401  NPRE : 2.5015\r\n",
      "2023-02-02 23:23:50  Epoch 40 : MAE : 24.0251  RMSE : 61.1876  NMAE : 0.5039  MRE : 0.6144  NPRE : 3.6554\r\n",
      "2023-02-02 23:23:55  Best epoch 33 : MAE : 22.7343  RMSE : 61.1034  NMAE : 0.4769  MRE : 0.5480  NPRE : 2.2788\r\n",
      "2023-02-02 23:23:55  实验 1 模型 4 training time = 28.12 s\r\n",
      "2023-02-02 23:23:55  Slice ID  4 : MAE = 22.7343, RMSE = 61.1034, NMAE = 0.4769, MRE = 0.5480, NPRE = 2.2788\r\n",
      "\r\n",
      "2023-02-02 23:23:55  \t实验 1 模型 5 开始分片训练\r\n",
      "2023-02-02 23:24:12  Epoch 10 : MAE : 27.9516  RMSE : 71.6045  NMAE : 0.5927  MRE : 0.6840  NPRE : 3.3126\r\n",
      "2023-02-02 23:24:28  Epoch 20 : MAE : 26.3641  RMSE : 69.6492  NMAE : 0.5591  MRE : 0.5841  NPRE : 2.6382\r\n",
      "2023-02-02 23:24:43  Epoch 30 : MAE : 22.3608  RMSE : 61.7777  NMAE : 0.4742  MRE : 0.5257  NPRE : 2.1653\r\n",
      "2023-02-02 23:24:59  Epoch 40 : MAE : 22.3725  RMSE : 60.1684  NMAE : 0.4744  MRE : 0.5426  NPRE : 3.4936\r\n",
      "2023-02-02 23:25:02  Best epoch 32 : MAE : 21.8399  RMSE : 59.1441  NMAE : 0.4631  MRE : 0.5031  NPRE : 3.4983\r\n",
      "2023-02-02 23:25:02  实验 1 模型 5 training time = 28.22 s\r\n",
      "2023-02-02 23:25:02  Slice ID  5 : MAE = 21.8399, RMSE = 59.1441, NMAE = 0.4631, MRE = 0.5031, NPRE = 3.4983\r\n",
      "\r\n",
      "2023-02-02 23:25:02  \t所有切片模型训练完毕\r\n",
      "2023-02-02 23:25:02  \t开始训练聚合模型\r\n",
      "2023-02-02 23:25:10  Epoch  1 : MAE : 30.2326  RMSE : 87.5752  NMAE : 0.6353  MRE : 0.5802  NPRE : 1.7235\r\n",
      "2023-02-02 23:25:17  Epoch  2 : MAE : 26.0470  RMSE : 76.1830  NMAE : 0.5474  MRE : 0.4560  NPRE : 1.6439\r\n",
      "2023-02-02 23:25:24  Epoch  3 : MAE : 28.7936  RMSE : 79.6949  NMAE : 0.6051  MRE : 0.5569  NPRE : 1.0000\r\n",
      "2023-02-02 23:25:30  Epoch  4 : MAE : 24.1039  RMSE : 71.0481  NMAE : 0.5065  MRE : 0.4283  NPRE : 1.6915\r\n",
      "2023-02-02 23:25:37  Epoch  5 : MAE : 21.7734  RMSE : 63.1918  NMAE : 0.4576  MRE : 0.4538  NPRE : 1.0917\r\n",
      "2023-02-02 23:25:44  Epoch  6 : MAE : 22.2061  RMSE : 65.3062  NMAE : 0.4667  MRE : 0.4210  NPRE : 1.3858\r\n",
      "2023-02-02 23:25:50  Epoch  7 : MAE : 22.0566  RMSE : 65.1512  NMAE : 0.4635  MRE : 0.4176  NPRE : 2.0323\r\n",
      "2023-02-02 23:25:56  Epoch  8 : MAE : 22.7946  RMSE : 67.3057  NMAE : 0.4790  MRE : 0.4289  NPRE : 1.1744\r\n",
      "2023-02-02 23:26:03  Epoch  9 : MAE : 20.8686  RMSE : 60.7556  NMAE : 0.4386  MRE : 0.4202  NPRE : 2.0469\r\n",
      "2023-02-02 23:26:09  Epoch 10 : MAE : 20.9104  RMSE : 62.5969  NMAE : 0.4394  MRE : 0.3818  NPRE : 1.5298\r\n",
      "2023-02-02 23:26:15  Epoch 11 : MAE : 19.1772  RMSE : 58.2230  NMAE : 0.4030  MRE : 0.3570  NPRE : 1.7339\r\n",
      "2023-02-02 23:26:21  Epoch 12 : MAE : 19.7633  RMSE : 58.2722  NMAE : 0.4153  MRE : 0.4083  NPRE : 1.1992\r\n",
      "2023-02-02 23:26:21  Best epoch 11 : MAE : 19.1772  RMSE : 58.2230  NMAE : 0.4030  MRE : 0.3570  NPRE : 1.7339\r\n",
      "2023-02-02 23:26:21  \t实验 1 聚合模型训练完毕\r\n",
      "100%|███████████████████████████████████████████| 12/12 [00:03<00:00,  3.56it/s]\r\n",
      "2023-02-02 23:26:25  Result : MAE : 20.2530  RMSE : 60.2605  NMAE : 0.4256  MRE : 0.3777  NPRE : 1.5236\r\n",
      "2023-02-02 23:26:25  \t实验 1 : Aggregators training time = 30.76 s\r\n",
      "\r\n",
      "2023-02-02 23:26:25  \t聚合模型训练完毕\r\n",
      "\r\n",
      "------------------------------------------------------------------------------------------------------------------------\r\n",
      "2023-02-02 23:26:25  Dataset : tp     interaction : NeuCF\r\n",
      "2023-02-02 23:26:25  Density : 10.00%, slice_epochs : 100, agg_epochs : 12\r\n",
      "2023-02-02 23:26:25  Part_type : 5,    slices : 5,       devices : gpu\r\n",
      "\r\n",
      "\r\n",
      "2023-02-02 23:26:25  Density 10.00% : MAE = 20.253, RMSE = 60.260, NMAE = 0.426, MRE = 0.378, NPRE = 1.524\r\n",
      "\r\n",
      "2023-02-02 23:26:25  Experiment success!\r\n",
      "\r\n"
     ]
    }
   ],
   "source": [
    "!python Experiment.py --dataset tp --interaction NeuCF --rounds 1 --slices 5 --agg_epochs 12 --density 0.10 --part_type 5"
   ],
   "metadata": {
    "collapsed": false
   }
  },
  {
   "cell_type": "code",
   "execution_count": 52,
   "outputs": [
    {
     "name": "stdout",
     "output_type": "stream",
     "text": [
      "2023-02-02 23:26:26  Experiment start!\r\n",
      "2023-02-02 23:26:26  Namespace(F=1, agg2=0, agg_decay=0.001, agg_epochs=12, agg_function=1, agg_lr=0.001, agg_type='att', att_decay=0.0001, att_lr=0.001, batch_size=128, beta=1, cluster='deep', cuda=True, dataset='tp', debug=0, density=0.15, devices='gpu', dimension=32, dir='../Dataset/mnist', dropout=0.1, epoch=1500, external_dim=64, hidden_dims=[64, 64, 100], input_dim=128, interaction='NeuCF', lamda=1, latent_dim=10, log_interval=100, lr=0.0001, n_classes=10, n_clusters=10, n_jobs=1, node2vec=0, node2vec_batchsize=32, node2vec_dim=128, node2vec_epochs=20, node2vec_length=8, node2vec_walk=15, node2vec_windows=3, num_layers=2, order=2, part_iter=20, part_type=1, path='./datasets/data/WSDREAM/', pre_epoch=1000, pretrain=True, processed=0, random_state=1001, record=1, retrain=0, rounds=1, save_model=1, slice=1, slice_decay=0.001, slice_epochs=100, slice_lr=0.001, slices=5, verbose=10, wd=0.0005)\r\n",
      "2023-02-02 23:26:26  Dataset : tp     interaction : NeuCF\r\n",
      "2023-02-02 23:26:26  Density : 15.00%, slice_epochs : 100, agg_epochs : 12\r\n",
      "2023-02-02 23:26:26  Part_type : 1,    slices : 5,       devices : gpu\r\n",
      "2023-02-02 23:26:26  Slice_lr : 0.005,    Slice_decay : 0.01\r\n",
      "2023-02-02 23:26:26  Agg_lr : 0.005,    Agg_decay : 0.01\r\n",
      "2023-02-02 23:26:26  Aggregation function : mean\r\n",
      "\r\n",
      "2023-02-02 23:26:26  Round 1 experiment start!\r\n",
      "2023-02-02 23:26:26  \t原始数据集读取完毕\r\n",
      "2023-02-02 23:26:27  \tSISA 切割完毕\r\n",
      "2023-02-02 23:26:27  \t分切数据执行完毕\r\n",
      "2023-02-02 23:26:30  \t模型加载完毕\r\n",
      "2023-02-02 23:26:30  \t准备训练切片模型\r\n",
      "2023-02-02 23:26:30  \t实验 1 模型 1 开始分片训练\r\n",
      "2023-02-02 23:26:58  Epoch 10 : MAE : 28.3461  RMSE : 71.3751  NMAE : 0.5963  MRE : 0.7028  NPRE : 3.7500\r\n",
      "2023-02-02 23:27:26  Epoch 20 : MAE : 26.4441  RMSE : 69.0870  NMAE : 0.5563  MRE : 0.6164  NPRE : 2.8107\r\n",
      "2023-02-02 23:27:48  Best epoch 18 : MAE : 26.4027  RMSE : 69.1950  NMAE : 0.5554  MRE : 0.6500  NPRE : 2.0044\r\n",
      "2023-02-02 23:27:48  实验 1 模型 1 training time = 18.77 s\r\n",
      "2023-02-02 23:27:48  Slice ID  1 : MAE = 26.4027, RMSE = 69.1950, NMAE = 0.5554, MRE = 0.6500, NPRE = 2.0044\r\n",
      "\r\n",
      "2023-02-02 23:27:48  \t实验 1 模型 2 开始分片训练\r\n",
      "2023-02-02 23:28:16  Epoch 10 : MAE : 29.5661  RMSE : 71.9528  NMAE : 0.6220  MRE : 0.7531  NPRE : 5.2490\r\n",
      "2023-02-02 23:28:43  Epoch 20 : MAE : 26.4572  RMSE : 69.7444  NMAE : 0.5566  MRE : 0.6269  NPRE : 3.6459\r\n",
      "2023-02-02 23:29:10  Epoch 30 : MAE : 26.2034  RMSE : 65.2082  NMAE : 0.5512  MRE : 0.7048  NPRE : 4.2456\r\n",
      "2023-02-02 23:29:26  Best epoch 26 : MAE : 25.4885  RMSE : 66.7705  NMAE : 0.5362  MRE : 0.6267  NPRE : 3.5773\r\n",
      "2023-02-02 23:29:26  实验 1 模型 2 training time = 26.56 s\r\n",
      "2023-02-02 23:29:26  Slice ID  2 : MAE = 25.4885, RMSE = 66.7705, NMAE = 0.5362, MRE = 0.6267, NPRE = 3.5773\r\n",
      "\r\n",
      "2023-02-02 23:29:26  \t实验 1 模型 3 开始分片训练\r\n",
      "2023-02-02 23:29:54  Epoch 10 : MAE : 27.8619  RMSE : 71.0748  NMAE : 0.5861  MRE : 0.7280  NPRE : 2.5020\r\n",
      "2023-02-02 23:30:22  Epoch 20 : MAE : 25.4220  RMSE : 66.2583  NMAE : 0.5348  MRE : 0.6247  NPRE : 2.7578\r\n",
      "2023-02-02 23:30:49  Epoch 30 : MAE : 24.6909  RMSE : 62.7518  NMAE : 0.5194  MRE : 0.6493  NPRE : 4.0236\r\n",
      "2023-02-02 23:30:52  Best epoch 22 : MAE : 24.0622  RMSE : 65.3047  NMAE : 0.5062  MRE : 0.5968  NPRE : 2.0914\r\n",
      "2023-02-02 23:30:52  实验 1 模型 3 training time = 22.30 s\r\n",
      "2023-02-02 23:30:52  Slice ID  3 : MAE = 24.0622, RMSE = 65.3047, NMAE = 0.5062, MRE = 0.5968, NPRE = 2.0914\r\n",
      "\r\n",
      "2023-02-02 23:30:52  \t实验 1 模型 4 开始分片训练\r\n",
      "2023-02-02 23:31:09  Epoch 10 : MAE : 28.3095  RMSE : 71.1999  NMAE : 0.5955  MRE : 0.6881  NPRE : 5.3461\r\n",
      "2023-02-02 23:31:26  Epoch 20 : MAE : 27.3233  RMSE : 71.6734  NMAE : 0.5748  MRE : 0.6567  NPRE : 3.4498\r\n",
      "2023-02-02 23:31:51  Epoch 30 : MAE : 25.4826  RMSE : 65.7667  NMAE : 0.5361  MRE : 0.6599  NPRE : 4.0681\r\n",
      "2023-02-02 23:31:57  Best epoch 23 : MAE : 25.0953  RMSE : 66.8757  NMAE : 0.5279  MRE : 0.6065  NPRE : 3.3029\r\n",
      "2023-02-02 23:31:57  实验 1 模型 4 training time = 15.16 s\r\n",
      "2023-02-02 23:31:57  Slice ID  4 : MAE = 25.0953, RMSE = 66.8757, NMAE = 0.5279, MRE = 0.6065, NPRE = 3.3029\r\n",
      "\r\n",
      "2023-02-02 23:31:57  \t实验 1 模型 5 开始分片训练\r\n",
      "2023-02-02 23:32:14  Epoch 10 : MAE : 27.7457  RMSE : 71.6601  NMAE : 0.5837  MRE : 0.6906  NPRE : 2.2248\r\n",
      "2023-02-02 23:32:31  Epoch 20 : MAE : 27.1913  RMSE : 70.7035  NMAE : 0.5720  MRE : 0.6402  NPRE : 3.3624\r\n",
      "2023-02-02 23:32:42  Best epoch 17 : MAE : 26.5642  RMSE : 70.0416  NMAE : 0.5588  MRE : 0.6094  NPRE : 1.8307\r\n",
      "2023-02-02 23:32:42  实验 1 模型 5 training time = 10.47 s\r\n",
      "2023-02-02 23:32:42  Slice ID  5 : MAE = 26.5642, RMSE = 70.0416, NMAE = 0.5588, MRE = 0.6094, NPRE = 1.8307\r\n",
      "\r\n",
      "2023-02-02 23:32:42  \t所有切片模型训练完毕\r\n",
      "2023-02-02 23:32:42  \t开始训练聚合模型\r\n",
      "2023-02-02 23:32:47  Epoch  1 : MAE : 23.2037  RMSE : 65.0568  NMAE : 0.4879  MRE : 0.4541  NPRE : 2.0321\r\n",
      "2023-02-02 23:32:50  Epoch  2 : MAE : 22.4091  RMSE : 63.3718  NMAE : 0.4712  MRE : 0.4408  NPRE : 2.2059\r\n",
      "2023-02-02 23:32:54  Epoch  3 : MAE : 21.9109  RMSE : 62.6625  NMAE : 0.4607  MRE : 0.4354  NPRE : 1.8186\r\n",
      "2023-02-02 23:32:58  Epoch  4 : MAE : 21.7045  RMSE : 61.3876  NMAE : 0.4564  MRE : 0.4238  NPRE : 2.1839\r\n",
      "2023-02-02 23:33:02  Epoch  5 : MAE : 21.1324  RMSE : 59.8703  NMAE : 0.4444  MRE : 0.4234  NPRE : 2.0856\r\n",
      "2023-02-02 23:33:06  Epoch  6 : MAE : 21.3086  RMSE : 59.9773  NMAE : 0.4481  MRE : 0.4211  NPRE : 1.8969\r\n",
      "2023-02-02 23:33:10  Epoch  7 : MAE : 21.3113  RMSE : 58.4471  NMAE : 0.4481  MRE : 0.4430  NPRE : 1.9300\r\n",
      "2023-02-02 23:33:14  Epoch  8 : MAE : 20.6845  RMSE : 58.3397  NMAE : 0.4350  MRE : 0.4204  NPRE : 1.6282\r\n",
      "2023-02-02 23:33:18  Epoch  9 : MAE : 20.5683  RMSE : 58.5235  NMAE : 0.4325  MRE : 0.4135  NPRE : 2.2474\r\n",
      "2023-02-02 23:33:22  Epoch 10 : MAE : 20.6266  RMSE : 57.8300  NMAE : 0.4337  MRE : 0.4168  NPRE : 1.5601\r\n",
      "2023-02-02 23:33:26  Epoch 11 : MAE : 20.2379  RMSE : 57.2684  NMAE : 0.4256  MRE : 0.4137  NPRE : 1.9036\r\n",
      "2023-02-02 23:33:30  Epoch 12 : MAE : 20.3638  RMSE : 56.9231  NMAE : 0.4282  MRE : 0.4245  NPRE : 1.9852\r\n",
      "2023-02-02 23:33:30  Best epoch 11 : MAE : 20.2379  RMSE : 57.2684  NMAE : 0.4256  MRE : 0.4137  NPRE : 1.9036\r\n",
      "2023-02-02 23:33:30  \t实验 1 聚合模型训练完毕\r\n",
      "100%|███████████████████████████████████████████| 12/12 [00:02<00:00,  4.22it/s]\r\n",
      "2023-02-02 23:33:33  Result : MAE : 20.2489  RMSE : 57.2279  NMAE : 0.4258  MRE : 0.4140  NPRE : 1.9102\r\n",
      "2023-02-02 23:33:33  \t实验 1 : Aggregators training time = 10.05 s\r\n",
      "\r\n",
      "2023-02-02 23:33:33  \t聚合模型训练完毕\r\n",
      "\r\n",
      "------------------------------------------------------------------------------------------------------------------------\r\n",
      "2023-02-02 23:33:33  Dataset : tp     interaction : NeuCF\r\n",
      "2023-02-02 23:33:33  Density : 15.00%, slice_epochs : 100, agg_epochs : 12\r\n",
      "2023-02-02 23:33:33  Part_type : 1,    slices : 5,       devices : gpu\r\n",
      "\r\n",
      "\r\n",
      "2023-02-02 23:33:33  Density 15.00% : MAE = 20.249, RMSE = 57.228, NMAE = 0.426, MRE = 0.414, NPRE = 1.910\r\n",
      "\r\n",
      "2023-02-02 23:33:33  Experiment success!\r\n",
      "\r\n"
     ]
    }
   ],
   "source": [
    "!python Experiment.py --dataset tp --interaction NeuCF --rounds 1 --slices 5 --agg_epochs 12 --density 0.15 --part_type 1"
   ],
   "metadata": {
    "collapsed": false
   }
  },
  {
   "cell_type": "code",
   "execution_count": 53,
   "outputs": [
    {
     "name": "stdout",
     "output_type": "stream",
     "text": [
      "2023-02-02 23:33:34  Experiment start!\r\n",
      "2023-02-02 23:33:34  Namespace(F=1, agg2=0, agg_decay=0.001, agg_epochs=12, agg_function=1, agg_lr=0.001, agg_type='att', att_decay=0.0001, att_lr=0.001, batch_size=128, beta=1, cluster='deep', cuda=True, dataset='tp', debug=0, density=0.15, devices='gpu', dimension=32, dir='../Dataset/mnist', dropout=0.1, epoch=1500, external_dim=64, hidden_dims=[64, 64, 100], input_dim=128, interaction='NeuCF', lamda=1, latent_dim=10, log_interval=100, lr=0.0001, n_classes=10, n_clusters=10, n_jobs=1, node2vec=0, node2vec_batchsize=32, node2vec_dim=128, node2vec_epochs=20, node2vec_length=8, node2vec_walk=15, node2vec_windows=3, num_layers=2, order=2, part_iter=20, part_type=3, path='./datasets/data/WSDREAM/', pre_epoch=1000, pretrain=True, processed=0, random_state=1001, record=1, retrain=0, rounds=1, save_model=1, slice=1, slice_decay=0.001, slice_epochs=100, slice_lr=0.001, slices=5, verbose=10, wd=0.0005)\r\n",
      "2023-02-02 23:33:34  Dataset : tp     interaction : NeuCF\r\n",
      "2023-02-02 23:33:34  Density : 15.00%, slice_epochs : 100, agg_epochs : 12\r\n",
      "2023-02-02 23:33:34  Part_type : 3,    slices : 5,       devices : gpu\r\n",
      "2023-02-02 23:33:34  Slice_lr : 0.005,    Slice_decay : 0.01\r\n",
      "2023-02-02 23:33:34  Agg_lr : 0.005,    Agg_decay : 0.01\r\n",
      "2023-02-02 23:33:34  Aggregation function : softmax\r\n",
      "\r\n",
      "2023-02-02 23:33:34  Round 1 experiment start!\r\n",
      "2023-02-02 23:33:34  \t原始数据集读取完毕\r\n",
      "2023-02-02 23:33:35  \tReceraser 基于交互切割完毕\r\n",
      "2023-02-02 23:33:35  \t分切数据执行完毕\r\n",
      "2023-02-02 23:33:37  \t模型加载完毕\r\n",
      "2023-02-02 23:33:37  \t准备训练切片模型\r\n",
      "2023-02-02 23:33:37  \t实验 1 模型 1 开始分片训练\r\n",
      "2023-02-02 23:33:55  Epoch 10 : MAE : 38.4431  RMSE : 97.0015  NMAE : 0.8087  MRE : 0.8296  NPRE : 8.3958\r\n",
      "2023-02-02 23:34:13  Epoch 20 : MAE : 38.6145  RMSE : 95.7191  NMAE : 0.8123  MRE : 0.7960  NPRE : 8.1642\r\n",
      "2023-02-02 23:34:28  Best epoch 18 : MAE : 37.3564  RMSE : 95.9798  NMAE : 0.7858  MRE : 0.7497  NPRE : 7.8567\r\n",
      "2023-02-02 23:34:28  实验 1 模型 1 training time = 13.16 s\r\n",
      "2023-02-02 23:34:28  Slice ID  1 : MAE = 37.3564, RMSE = 95.9798, NMAE = 0.7858, MRE = 0.7497, NPRE = 7.8567\r\n",
      "\r\n",
      "2023-02-02 23:34:28  \t实验 1 模型 2 开始分片训练\r\n",
      "2023-02-02 23:34:45  Epoch 10 : MAE : 33.1386  RMSE : 86.3526  NMAE : 0.6971  MRE : 0.8298  NPRE : 3.0792\r\n",
      "2023-02-02 23:35:01  Epoch 20 : MAE : 33.5066  RMSE : 83.4618  NMAE : 0.7049  MRE : 0.8199  NPRE : 5.8604\r\n",
      "2023-02-02 23:35:06  Best epoch 13 : MAE : 32.8405  RMSE : 84.9609  NMAE : 0.6909  MRE : 0.7704  NPRE : 3.6509\r\n",
      "2023-02-02 23:35:06  实验 1 模型 2 training time = 7.90 s\r\n",
      "2023-02-02 23:35:06  Slice ID  2 : MAE = 32.8405, RMSE = 84.9609, NMAE = 0.6909, MRE = 0.7704, NPRE = 3.6509\r\n",
      "\r\n",
      "2023-02-02 23:35:06  \t实验 1 模型 3 开始分片训练\r\n",
      "2023-02-02 23:35:23  Epoch 10 : MAE : 40.6747  RMSE : 103.9595  NMAE : 0.8557  MRE : 0.8708  NPRE : 6.8599\r\n"
     ]
    }
   ],
   "source": [
    "!python Experiment.py --dataset tp --interaction NeuCF --rounds 1 --slices 5 --agg_epochs 12 --density 0.15 --part_type 3"
   ],
   "metadata": {
    "collapsed": false
   }
  },
  {
   "cell_type": "code",
   "execution_count": 54,
   "outputs": [
    {
     "name": "stdout",
     "output_type": "stream",
     "text": [
      "2023-02-02 23:35:29  Experiment start!\r\n",
      "2023-02-02 23:35:29  Namespace(F=1, agg2=0, agg_decay=0.001, agg_epochs=12, agg_function=1, agg_lr=0.001, agg_type='att', att_decay=0.0001, att_lr=0.001, batch_size=128, beta=1, cluster='deep', cuda=True, dataset='tp', debug=0, density=0.15, devices='gpu', dimension=32, dir='../Dataset/mnist', dropout=0.1, epoch=1500, external_dim=64, hidden_dims=[64, 64, 100], input_dim=128, interaction='NeuCF', lamda=1, latent_dim=10, log_interval=100, lr=0.0001, n_classes=10, n_clusters=10, n_jobs=1, node2vec=0, node2vec_batchsize=32, node2vec_dim=128, node2vec_epochs=20, node2vec_length=8, node2vec_walk=15, node2vec_windows=3, num_layers=2, order=2, part_iter=20, part_type=5, path='./datasets/data/WSDREAM/', pre_epoch=1000, pretrain=True, processed=0, random_state=1001, record=1, retrain=0, rounds=1, save_model=1, slice=1, slice_decay=0.001, slice_epochs=100, slice_lr=0.001, slices=5, verbose=10, wd=0.0005)\r\n",
      "2023-02-02 23:35:29  Dataset : tp     interaction : NeuCF\r\n",
      "2023-02-02 23:35:29  Density : 15.00%, slice_epochs : 100, agg_epochs : 12\r\n",
      "2023-02-02 23:35:29  Part_type : 5,    slices : 5,       devices : gpu\r\n",
      "2023-02-02 23:35:29  Slice_lr : 0.005,    Slice_decay : 0.01\r\n",
      "2023-02-02 23:35:29  Agg_lr : 0.005,    Agg_decay : 0.01\r\n",
      "2023-02-02 23:35:29  Aggregation function : att\r\n",
      "\r\n",
      "2023-02-02 23:35:29  Round 1 experiment start!\r\n",
      "2023-02-02 23:35:29  \t原始数据集读取完毕\r\n",
      "2023-02-02 23:35:30  \t图嵌入均衡切割\r\n",
      "42 45 78 89 85 \r\n",
      "2023-02-02 23:35:30  \tNode2Vec 基于用户聚类均衡切割完毕\r\n",
      "2023-02-02 23:35:30  \t分切数据执行完毕\r\n",
      "2023-02-02 23:35:32  \t模型加载完毕\r\n",
      "2023-02-02 23:35:32  \t准备训练切片模型\r\n",
      "2023-02-02 23:35:32  \t实验 1 模型 1 开始分片训练\r\n",
      "2023-02-02 23:35:40  Epoch 10 : MAE : 27.7323  RMSE : 72.5893  NMAE : 0.6274  MRE : 0.7290  NPRE : 5.0932\r\n",
      "2023-02-02 23:35:49  Epoch 20 : MAE : 22.9089  RMSE : 66.9838  NMAE : 0.5183  MRE : 0.5143  NPRE : 3.3891\r\n",
      "2023-02-02 23:35:57  Epoch 30 : MAE : 23.1755  RMSE : 66.7412  NMAE : 0.5243  MRE : 0.5102  NPRE : 3.6069\r\n",
      "2023-02-02 23:36:05  Epoch 40 : MAE : 23.1706  RMSE : 66.0783  NMAE : 0.5242  MRE : 0.5659  NPRE : 3.6219\r\n",
      "2023-02-02 23:36:08  Best epoch 34 : MAE : 22.2975  RMSE : 66.0368  NMAE : 0.5045  MRE : 0.5089  NPRE : 2.6544\r\n",
      "2023-02-02 23:36:08  实验 1 模型 1 training time = 13.12 s\r\n",
      "2023-02-02 23:36:08  Slice ID  1 : MAE = 22.2975, RMSE = 66.0368, NMAE = 0.5045, MRE = 0.5089, NPRE = 2.6544\r\n",
      "\r\n",
      "2023-02-02 23:36:08  \t实验 1 模型 2 开始分片训练\r\n",
      "2023-02-02 23:36:17  Epoch 10 : MAE : 27.4971  RMSE : 75.8366  NMAE : 0.5869  MRE : 0.6287  NPRE : 3.8331\r\n",
      "2023-02-02 23:36:26  Epoch 20 : MAE : 22.6265  RMSE : 66.5326  NMAE : 0.4829  MRE : 0.4651  NPRE : 2.8277\r\n",
      "2023-02-02 23:36:34  Epoch 30 : MAE : 23.4588  RMSE : 65.8913  NMAE : 0.5007  MRE : 0.5052  NPRE : 2.8914\r\n",
      "2023-02-02 23:36:41  Best epoch 28 : MAE : 21.8007  RMSE : 65.5759  NMAE : 0.4653  MRE : 0.4341  NPRE : 2.7807\r\n",
      "2023-02-02 23:36:41  实验 1 模型 2 training time = 11.85 s\r\n",
      "2023-02-02 23:36:41  Slice ID  2 : MAE = 21.8007, RMSE = 65.5759, NMAE = 0.4653, MRE = 0.4341, NPRE = 2.7807\r\n",
      "\r\n",
      "2023-02-02 23:36:41  \t实验 1 模型 3 开始分片训练\r\n",
      "2023-02-02 23:36:53  Epoch 10 : MAE : 23.3659  RMSE : 65.0147  NMAE : 0.4745  MRE : 0.5092  NPRE : 1.5217\r\n",
      "2023-02-02 23:37:06  Epoch 20 : MAE : 18.8738  RMSE : 56.7021  NMAE : 0.3833  MRE : 0.3490  NPRE : 1.4843\r\n",
      "2023-02-02 23:37:18  Epoch 30 : MAE : 20.3930  RMSE : 57.8494  NMAE : 0.4141  MRE : 0.4238  NPRE : 1.5868\r\n",
      "2023-02-02 23:37:18  Best epoch 20 : MAE : 18.8738  RMSE : 56.7021  NMAE : 0.3833  MRE : 0.3490  NPRE : 1.4843\r\n",
      "2023-02-02 23:37:18  实验 1 模型 3 training time = 14.12 s\r\n",
      "2023-02-02 23:37:18  Slice ID  3 : MAE = 18.8738, RMSE = 56.7021, NMAE = 0.3833, MRE = 0.3490, NPRE = 1.4843\r\n",
      "\r\n",
      "2023-02-02 23:37:18  \t实验 1 模型 4 开始分片训练\r\n",
      "2023-02-02 23:37:31  Epoch 10 : MAE : 24.9333  RMSE : 64.6023  NMAE : 0.5130  MRE : 0.6039  NPRE : 1.0983\r\n",
      "2023-02-02 23:37:45  Epoch 20 : MAE : 19.1498  RMSE : 55.1585  NMAE : 0.3940  MRE : 0.3846  NPRE : 1.3082\r\n",
      "2023-02-02 23:37:57  Best epoch 19 : MAE : 18.5799  RMSE : 53.7551  NMAE : 0.3823  MRE : 0.3726  NPRE : 2.0920\r\n",
      "2023-02-02 23:37:57  实验 1 模型 4 training time = 15.42 s\r\n",
      "2023-02-02 23:37:57  Slice ID  4 : MAE = 18.5799, RMSE = 53.7551, NMAE = 0.3823, MRE = 0.3726, NPRE = 2.0920\r\n",
      "\r\n",
      "2023-02-02 23:37:57  \t实验 1 模型 5 开始分片训练\r\n",
      "2023-02-02 23:38:10  Epoch 10 : MAE : 23.9003  RMSE : 65.2411  NMAE : 0.5101  MRE : 0.5267  NPRE : 1.8701\r\n",
      "2023-02-02 23:38:24  Epoch 20 : MAE : 19.6479  RMSE : 56.5042  NMAE : 0.4194  MRE : 0.4123  NPRE : 1.6525\r\n",
      "2023-02-02 23:38:37  Epoch 30 : MAE : 19.3398  RMSE : 55.0106  NMAE : 0.4128  MRE : 0.4387  NPRE : 2.0065\r\n",
      "2023-02-02 23:38:46  Best epoch 27 : MAE : 19.0701  RMSE : 54.9790  NMAE : 0.4070  MRE : 0.4228  NPRE : 1.6302\r\n",
      "2023-02-02 23:38:46  实验 1 模型 5 training time = 21.38 s\r\n",
      "2023-02-02 23:38:46  Slice ID  5 : MAE = 19.0701, RMSE = 54.9790, NMAE = 0.4070, MRE = 0.4228, NPRE = 1.6302\r\n",
      "\r\n",
      "2023-02-02 23:38:46  \t所有切片模型训练完毕\r\n",
      "2023-02-02 23:38:46  \t开始训练聚合模型\r\n",
      "2023-02-02 23:38:53  Epoch  1 : MAE : 28.3841  RMSE : 75.7627  NMAE : 0.5969  MRE : 0.5976  NPRE : 1.0000\r\n",
      "2023-02-02 23:38:59  Epoch  2 : MAE : 23.2489  RMSE : 67.3123  NMAE : 0.4889  MRE : 0.4008  NPRE : 1.3422\r\n",
      "2023-02-02 23:39:05  Epoch  3 : MAE : 24.9832  RMSE : 72.6929  NMAE : 0.5254  MRE : 0.4559  NPRE : 2.3375\r\n",
      "2023-02-02 23:39:11  Epoch  4 : MAE : 24.4646  RMSE : 70.5332  NMAE : 0.5144  MRE : 0.4636  NPRE : 1.0000\r\n",
      "2023-02-02 23:39:17  Epoch  5 : MAE : 21.4667  RMSE : 66.4613  NMAE : 0.4514  MRE : 0.3640  NPRE : 1.1283\r\n",
      "2023-02-02 23:39:24  Epoch  6 : MAE : 20.0424  RMSE : 61.4298  NMAE : 0.4215  MRE : 0.3408  NPRE : 1.4036\r\n",
      "2023-02-02 23:39:30  Epoch  7 : MAE : 19.6364  RMSE : 58.8069  NMAE : 0.4129  MRE : 0.3619  NPRE : 1.0000\r\n",
      "2023-02-02 23:39:36  Epoch  8 : MAE : 18.0878  RMSE : 55.5215  NMAE : 0.3804  MRE : 0.3178  NPRE : 1.2050\r\n",
      "2023-02-02 23:39:42  Epoch  9 : MAE : 17.1618  RMSE : 53.2521  NMAE : 0.3609  MRE : 0.3009  NPRE : 1.7531\r\n",
      "2023-02-02 23:39:48  Epoch 10 : MAE : 18.8961  RMSE : 58.1861  NMAE : 0.3974  MRE : 0.3329  NPRE : 1.1350\r\n",
      "2023-02-02 23:39:54  Epoch 11 : MAE : 18.0614  RMSE : 56.1889  NMAE : 0.3798  MRE : 0.3016  NPRE : 1.4104\r\n",
      "2023-02-02 23:40:01  Epoch 12 : MAE : 17.3882  RMSE : 52.8452  NMAE : 0.3656  MRE : 0.3216  NPRE : 1.0161\r\n",
      "2023-02-02 23:40:01  Best epoch  9 : MAE : 17.1618  RMSE : 53.2521  NMAE : 0.3609  MRE : 0.3009  NPRE : 1.7531\r\n",
      "2023-02-02 23:40:01  \t实验 1 聚合模型训练完毕\r\n",
      "100%|███████████████████████████████████████████| 12/12 [00:03<00:00,  3.95it/s]\r\n",
      "2023-02-02 23:40:04  Result : MAE : 17.0586  RMSE : 52.5558  NMAE : 0.3587  MRE : 0.3039  NPRE : 1.6207\r\n",
      "2023-02-02 23:40:04  \t实验 1 : Aggregators training time = 27.97 s\r\n",
      "\r\n",
      "2023-02-02 23:40:04  \t聚合模型训练完毕\r\n",
      "\r\n",
      "------------------------------------------------------------------------------------------------------------------------\r\n",
      "2023-02-02 23:40:04  Dataset : tp     interaction : NeuCF\r\n",
      "2023-02-02 23:40:04  Density : 15.00%, slice_epochs : 100, agg_epochs : 12\r\n",
      "2023-02-02 23:40:04  Part_type : 5,    slices : 5,       devices : gpu\r\n",
      "\r\n",
      "\r\n",
      "2023-02-02 23:40:04  Density 15.00% : MAE = 17.059, RMSE = 52.556, NMAE = 0.359, MRE = 0.304, NPRE = 1.621\r\n",
      "\r\n",
      "2023-02-02 23:40:04  Experiment success!\r\n",
      "\r\n"
     ]
    }
   ],
   "source": [
    "!python Experiment.py --dataset tp --interaction NeuCF --rounds 1 --slices 5 --agg_epochs 12 --density 0.15 --part_type 5"
   ],
   "metadata": {
    "collapsed": false
   }
  },
  {
   "cell_type": "code",
   "execution_count": 55,
   "outputs": [
    {
     "name": "stdout",
     "output_type": "stream",
     "text": [
      "2023-02-02 23:40:05  Experiment start!\r\n",
      "2023-02-02 23:40:05  Namespace(F=1, agg2=0, agg_decay=0.001, agg_epochs=12, agg_function=1, agg_lr=0.001, agg_type='att', att_decay=0.0001, att_lr=0.001, batch_size=128, beta=1, cluster='deep', cuda=True, dataset='tp', debug=0, density=0.2, devices='gpu', dimension=32, dir='../Dataset/mnist', dropout=0.1, epoch=1500, external_dim=64, hidden_dims=[64, 64, 100], input_dim=128, interaction='NeuCF', lamda=1, latent_dim=10, log_interval=100, lr=0.0001, n_classes=10, n_clusters=10, n_jobs=1, node2vec=0, node2vec_batchsize=32, node2vec_dim=128, node2vec_epochs=20, node2vec_length=8, node2vec_walk=15, node2vec_windows=3, num_layers=2, order=2, part_iter=20, part_type=1, path='./datasets/data/WSDREAM/', pre_epoch=1000, pretrain=True, processed=0, random_state=1001, record=1, retrain=0, rounds=1, save_model=1, slice=1, slice_decay=0.001, slice_epochs=100, slice_lr=0.001, slices=5, verbose=10, wd=0.0005)\r\n",
      "2023-02-02 23:40:05  Dataset : tp     interaction : NeuCF\r\n",
      "2023-02-02 23:40:05  Density : 20.00%, slice_epochs : 100, agg_epochs : 12\r\n",
      "2023-02-02 23:40:05  Part_type : 1,    slices : 5,       devices : gpu\r\n",
      "2023-02-02 23:40:05  Slice_lr : 0.005,    Slice_decay : 0.001\r\n",
      "2023-02-02 23:40:05  Agg_lr : 0.001,    Agg_decay : 0.01\r\n",
      "2023-02-02 23:40:05  Aggregation function : mean\r\n",
      "\r\n",
      "2023-02-02 23:40:05  Round 1 experiment start!\r\n",
      "2023-02-02 23:40:05  \t原始数据集读取完毕\r\n",
      "2023-02-02 23:40:06  \tSISA 切割完毕\r\n",
      "2023-02-02 23:40:06  \t分切数据执行完毕\r\n",
      "2023-02-02 23:40:07  \t模型加载完毕\r\n",
      "2023-02-02 23:40:07  \t准备训练切片模型\r\n",
      "2023-02-02 23:40:07  \t实验 1 模型 1 开始分片训练\r\n",
      "2023-02-02 23:40:27  Epoch 10 : MAE : 27.1710  RMSE : 68.8873  NMAE : 0.5671  MRE : 0.6560  NPRE : 4.0847\r\n",
      "2023-02-02 23:40:46  Epoch 20 : MAE : 22.9606  RMSE : 63.6567  NMAE : 0.4792  MRE : 0.5209  NPRE : 2.6769\r\n",
      "2023-02-02 23:41:05  Epoch 30 : MAE : 22.7561  RMSE : 59.1621  NMAE : 0.4750  MRE : 0.5764  NPRE : 3.5009\r\n",
      "2023-02-02 23:41:19  Best epoch 27 : MAE : 22.1970  RMSE : 59.8301  NMAE : 0.4633  MRE : 0.5553  NPRE : 2.5955\r\n",
      "2023-02-02 23:41:19  实验 1 模型 1 training time = 22.26 s\r\n",
      "2023-02-02 23:41:19  Slice ID  1 : MAE = 22.1970, RMSE = 59.8301, NMAE = 0.4633, MRE = 0.5553, NPRE = 2.5955\r\n",
      "\r\n",
      "2023-02-02 23:41:19  \t实验 1 模型 2 开始分片训练\r\n",
      "2023-02-02 23:41:39  Epoch 10 : MAE : 27.0770  RMSE : 67.1724  NMAE : 0.5651  MRE : 0.6549  NPRE : 4.5849\r\n",
      "2023-02-02 23:41:59  Epoch 20 : MAE : 23.7896  RMSE : 66.2892  NMAE : 0.4965  MRE : 0.5461  NPRE : 2.2429\r\n",
      "2023-02-02 23:42:18  Epoch 30 : MAE : 23.7955  RMSE : 57.8204  NMAE : 0.4967  MRE : 0.6374  NPRE : 4.0705\r\n",
      "2023-02-02 23:42:24  Best epoch 23 : MAE : 21.5338  RMSE : 59.0012  NMAE : 0.4494  MRE : 0.5029  NPRE : 2.7042\r\n",
      "2023-02-02 23:42:24  实验 1 模型 2 training time = 20.91 s\r\n",
      "2023-02-02 23:42:24  Slice ID  2 : MAE = 21.5338, RMSE = 59.0012, NMAE = 0.4494, MRE = 0.5029, NPRE = 2.7042\r\n",
      "\r\n",
      "2023-02-02 23:42:24  \t实验 1 模型 3 开始分片训练\r\n",
      "2023-02-02 23:42:43  Epoch 10 : MAE : 28.4600  RMSE : 71.7355  NMAE : 0.5940  MRE : 0.6924  NPRE : 3.7926\r\n",
      "2023-02-02 23:43:03  Epoch 20 : MAE : 24.3518  RMSE : 66.1188  NMAE : 0.5083  MRE : 0.5575  NPRE : 4.1784\r\n",
      "2023-02-02 23:43:23  Epoch 30 : MAE : 24.2959  RMSE : 65.7126  NMAE : 0.5071  MRE : 0.5836  NPRE : 2.9002\r\n",
      "2023-02-02 23:43:42  Epoch 40 : MAE : 24.0243  RMSE : 62.1378  NMAE : 0.5014  MRE : 0.6022  NPRE : 3.7971\r\n",
      "2023-02-02 23:44:02  Epoch 50 : MAE : 23.1900  RMSE : 60.6219  NMAE : 0.4840  MRE : 0.5977  NPRE : 3.3889\r\n",
      "2023-02-02 23:44:06  Best epoch 42 : MAE : 22.6907  RMSE : 60.0624  NMAE : 0.4736  MRE : 0.5740  NPRE : 2.9374\r\n",
      "2023-02-02 23:44:06  实验 1 模型 3 training time = 36.29 s\r\n",
      "2023-02-02 23:44:06  Slice ID  3 : MAE = 22.6907, RMSE = 60.0624, NMAE = 0.4736, MRE = 0.5740, NPRE = 2.9374\r\n",
      "\r\n",
      "2023-02-02 23:44:06  \t实验 1 模型 4 开始分片训练\r\n",
      "2023-02-02 23:44:25  Epoch 10 : MAE : 26.4172  RMSE : 68.4470  NMAE : 0.5514  MRE : 0.6447  NPRE : 2.9944\r\n",
      "2023-02-02 23:44:45  Epoch 20 : MAE : 22.2142  RMSE : 62.5032  NMAE : 0.4636  MRE : 0.4827  NPRE : 2.9329\r\n",
      "2023-02-02 23:45:04  Epoch 30 : MAE : 21.7208  RMSE : 59.8820  NMAE : 0.4534  MRE : 0.5155  NPRE : 2.4507\r\n",
      "2023-02-02 23:45:24  Epoch 40 : MAE : 21.9521  RMSE : 58.8372  NMAE : 0.4582  MRE : 0.5536  NPRE : 3.0653\r\n",
      "2023-02-02 23:45:26  Best epoch 31 : MAE : 21.3618  RMSE : 57.8847  NMAE : 0.4459  MRE : 0.5119  NPRE : 3.3110\r\n",
      "2023-02-02 23:45:26  实验 1 模型 4 training time = 26.10 s\r\n",
      "2023-02-02 23:45:26  Slice ID  4 : MAE = 21.3618, RMSE = 57.8847, NMAE = 0.4459, MRE = 0.5119, NPRE = 3.3110\r\n",
      "\r\n",
      "2023-02-02 23:45:26  \t实验 1 模型 5 开始分片训练\r\n",
      "2023-02-02 23:45:47  Epoch 10 : MAE : 26.5895  RMSE : 66.2675  NMAE : 0.5550  MRE : 0.6929  NPRE : 2.5374\r\n",
      "2023-02-02 23:46:07  Epoch 20 : MAE : 22.7157  RMSE : 62.2193  NMAE : 0.4741  MRE : 0.5222  NPRE : 2.7822\r\n",
      "2023-02-02 23:46:27  Epoch 30 : MAE : 23.0891  RMSE : 58.9060  NMAE : 0.4819  MRE : 0.6172  NPRE : 3.4955\r\n",
      "2023-02-02 23:46:39  Best epoch 26 : MAE : 22.1640  RMSE : 58.5817  NMAE : 0.4626  MRE : 0.5491  NPRE : 2.9911\r\n",
      "2023-02-02 23:46:39  实验 1 模型 5 training time = 23.66 s\r\n",
      "2023-02-02 23:46:39  Slice ID  5 : MAE = 22.1640, RMSE = 58.5817, NMAE = 0.4626, MRE = 0.5491, NPRE = 2.9911\r\n",
      "\r\n",
      "2023-02-02 23:46:39  \t所有切片模型训练完毕\r\n",
      "2023-02-02 23:46:39  \t开始训练聚合模型\r\n",
      "2023-02-02 23:46:44  Epoch  1 : MAE : 21.3572  RMSE : 59.3773  NMAE : 0.4493  MRE : 0.4501  NPRE : 2.2489\r\n",
      "2023-02-02 23:46:50  Epoch  2 : MAE : 20.1762  RMSE : 56.9158  NMAE : 0.4244  MRE : 0.4233  NPRE : 1.5855\r\n",
      "2023-02-02 23:46:54  Epoch  3 : MAE : 19.4957  RMSE : 55.5097  NMAE : 0.4101  MRE : 0.4020  NPRE : 2.5558\r\n",
      "2023-02-02 23:46:59  Epoch  4 : MAE : 18.9318  RMSE : 54.3924  NMAE : 0.3983  MRE : 0.3854  NPRE : 1.9839\r\n",
      "2023-02-02 23:47:03  Epoch  5 : MAE : 18.5819  RMSE : 53.6348  NMAE : 0.3909  MRE : 0.3782  NPRE : 1.9807\r\n",
      "2023-02-02 23:47:08  Epoch  6 : MAE : 18.2561  RMSE : 52.8644  NMAE : 0.3841  MRE : 0.3713  NPRE : 2.1163\r\n",
      "2023-02-02 23:47:13  Epoch  7 : MAE : 18.3562  RMSE : 52.1250  NMAE : 0.3862  MRE : 0.3924  NPRE : 2.6199\r\n",
      "2023-02-02 23:47:17  Epoch  8 : MAE : 18.0210  RMSE : 52.4905  NMAE : 0.3791  MRE : 0.3786  NPRE : 1.3306\r\n",
      "2023-02-02 23:47:22  Epoch  9 : MAE : 17.8356  RMSE : 52.1078  NMAE : 0.3752  MRE : 0.3587  NPRE : 1.9365\r\n",
      "2023-02-02 23:47:27  Epoch 10 : MAE : 17.8205  RMSE : 51.7297  NMAE : 0.3749  MRE : 0.3605  NPRE : 1.7489\r\n",
      "2023-02-02 23:47:31  Epoch 11 : MAE : 17.6104  RMSE : 51.5594  NMAE : 0.3705  MRE : 0.3572  NPRE : 2.1168\r\n",
      "2023-02-02 23:47:36  Epoch 12 : MAE : 17.5343  RMSE : 51.2713  NMAE : 0.3689  MRE : 0.3595  NPRE : 1.6063\r\n",
      "2023-02-02 23:47:36  Best epoch 12 : MAE : 17.5343  RMSE : 51.2713  NMAE : 0.3689  MRE : 0.3595  NPRE : 1.6063\r\n",
      "2023-02-02 23:47:36  \t实验 1 聚合模型训练完毕\r\n",
      "100%|███████████████████████████████████████████| 11/11 [00:03<00:00,  3.38it/s]\r\n",
      "2023-02-02 23:47:39  Result : MAE : 17.5434  RMSE : 51.3564  NMAE : 0.3691  MRE : 0.3596  NPRE : 1.6062\r\n",
      "2023-02-02 23:47:39  \t实验 1 : Aggregators training time = 16.10 s\r\n",
      "\r\n",
      "2023-02-02 23:47:39  \t聚合模型训练完毕\r\n",
      "\r\n",
      "------------------------------------------------------------------------------------------------------------------------\r\n",
      "2023-02-02 23:47:39  Dataset : tp     interaction : NeuCF\r\n",
      "2023-02-02 23:47:39  Density : 20.00%, slice_epochs : 100, agg_epochs : 12\r\n",
      "2023-02-02 23:47:39  Part_type : 1,    slices : 5,       devices : gpu\r\n",
      "\r\n",
      "\r\n",
      "2023-02-02 23:47:39  Density 20.00% : MAE = 17.543, RMSE = 51.356, NMAE = 0.369, MRE = 0.360, NPRE = 1.606\r\n",
      "\r\n",
      "2023-02-02 23:47:39  Experiment success!\r\n",
      "\r\n"
     ]
    }
   ],
   "source": [
    "!python Experiment.py --dataset tp --interaction NeuCF --rounds 1 --slices 5 --agg_epochs 12 --density 0.20 --part_type 1"
   ],
   "metadata": {
    "collapsed": false
   }
  },
  {
   "cell_type": "code",
   "execution_count": 56,
   "outputs": [
    {
     "name": "stdout",
     "output_type": "stream",
     "text": [
      "2023-02-02 23:47:41  Experiment start!\r\n",
      "2023-02-02 23:47:41  Namespace(F=1, agg2=0, agg_decay=0.001, agg_epochs=12, agg_function=1, agg_lr=0.001, agg_type='att', att_decay=0.0001, att_lr=0.001, batch_size=128, beta=1, cluster='deep', cuda=True, dataset='tp', debug=0, density=0.2, devices='gpu', dimension=32, dir='../Dataset/mnist', dropout=0.1, epoch=1500, external_dim=64, hidden_dims=[64, 64, 100], input_dim=128, interaction='NeuCF', lamda=1, latent_dim=10, log_interval=100, lr=0.0001, n_classes=10, n_clusters=10, n_jobs=1, node2vec=0, node2vec_batchsize=32, node2vec_dim=128, node2vec_epochs=20, node2vec_length=8, node2vec_walk=15, node2vec_windows=3, num_layers=2, order=2, part_iter=20, part_type=3, path='./datasets/data/WSDREAM/', pre_epoch=1000, pretrain=True, processed=0, random_state=1001, record=1, retrain=0, rounds=1, save_model=1, slice=1, slice_decay=0.001, slice_epochs=100, slice_lr=0.001, slices=5, verbose=10, wd=0.0005)\r\n",
      "2023-02-02 23:47:41  Dataset : tp     interaction : NeuCF\r\n",
      "2023-02-02 23:47:41  Density : 20.00%, slice_epochs : 100, agg_epochs : 12\r\n",
      "2023-02-02 23:47:41  Part_type : 3,    slices : 5,       devices : gpu\r\n",
      "2023-02-02 23:47:41  Slice_lr : 0.005,    Slice_decay : 0.001\r\n",
      "2023-02-02 23:47:41  Agg_lr : 0.001,    Agg_decay : 0.01\r\n",
      "2023-02-02 23:47:41  Aggregation function : softmax\r\n",
      "\r\n",
      "2023-02-02 23:47:41  Round 1 experiment start!\r\n",
      "2023-02-02 23:47:41  \t原始数据集读取完毕\r\n",
      "2023-02-02 23:47:41  \tReceraser 基于交互切割完毕\r\n",
      "2023-02-02 23:47:41  \t分切数据执行完毕\r\n",
      "2023-02-02 23:47:43  \t模型加载完毕\r\n",
      "2023-02-02 23:47:43  \t准备训练切片模型\r\n",
      "2023-02-02 23:47:43  \t实验 1 模型 1 开始分片训练\r\n",
      "2023-02-02 23:48:06  Epoch 10 : MAE : 37.6918  RMSE : 97.3011  NMAE : 0.7867  MRE : 0.8055  NPRE : 6.1800\r\n",
      "2023-02-02 23:48:27  Epoch 20 : MAE : 42.2749  RMSE : 97.2390  NMAE : 0.8824  MRE : 0.8672  NPRE : 9.7907\r\n",
      "2023-02-02 23:48:27  Best epoch 10 : MAE : 37.6918  RMSE : 97.3011  NMAE : 0.7867  MRE : 0.8055  NPRE : 6.1800\r\n",
      "2023-02-02 23:48:27  实验 1 模型 1 training time = 10.43 s\r\n",
      "2023-02-02 23:48:27  Slice ID  1 : MAE = 37.6918, RMSE = 97.3011, NMAE = 0.7867, MRE = 0.8055, NPRE = 6.1800\r\n",
      "\r\n",
      "2023-02-02 23:48:27  \t实验 1 模型 2 开始分片训练\r\n",
      "2023-02-02 23:48:48  Epoch 10 : MAE : 39.5270  RMSE : 92.4433  NMAE : 0.8250  MRE : 0.8533  NPRE : 7.3866\r\n",
      "2023-02-02 23:49:07  Epoch 20 : MAE : 36.3399  RMSE : 88.0404  NMAE : 0.7585  MRE : 0.8673  NPRE : 5.7640\r\n",
      "2023-02-02 23:49:13  Best epoch 13 : MAE : 34.1895  RMSE : 83.3464  NMAE : 0.7136  MRE : 0.8097  NPRE : 5.9334\r\n",
      "2023-02-02 23:49:13  实验 1 模型 2 training time = 11.53 s\r\n",
      "2023-02-02 23:49:13  Slice ID  2 : MAE = 34.1895, RMSE = 83.3464, NMAE = 0.7136, MRE = 0.8097, NPRE = 5.9334\r\n",
      "\r\n",
      "2023-02-02 23:49:13  \t实验 1 模型 3 开始分片训练\r\n",
      "2023-02-02 23:49:33  Epoch 10 : MAE : 43.1606  RMSE : 103.3934  NMAE : 0.9008  MRE : 0.8867  NPRE : 8.9154\r\n",
      "2023-02-02 23:49:52  Epoch 20 : MAE : 43.8328  RMSE : 102.1249  NMAE : 0.9149  MRE : 0.8814  NPRE : 10.5647\r\n",
      "2023-02-02 23:49:58  Best epoch 13 : MAE : 41.4154  RMSE : 102.7723  NMAE : 0.8644  MRE : 0.8083  NPRE : 8.5175\r\n",
      "2023-02-02 23:49:58  实验 1 模型 3 training time = 10.44 s\r\n",
      "2023-02-02 23:49:58  Slice ID  3 : MAE = 41.4154, RMSE = 102.7723, NMAE = 0.8644, MRE = 0.8083, NPRE = 8.5175\r\n",
      "\r\n",
      "2023-02-02 23:49:58  \t实验 1 模型 4 开始分片训练\r\n",
      "2023-02-02 23:50:16  Epoch 10 : MAE : 37.2531  RMSE : 87.6922  NMAE : 0.7775  MRE : 0.9141  NPRE : 5.9991\r\n",
      "2023-02-02 23:50:34  Epoch 20 : MAE : 36.2006  RMSE : 87.5088  NMAE : 0.7556  MRE : 0.8330  NPRE : 5.4440\r\n",
      "2023-02-02 23:50:46  Best epoch 17 : MAE : 34.5337  RMSE : 87.0632  NMAE : 0.7208  MRE : 0.8336  NPRE : 4.3276\r\n",
      "2023-02-02 23:50:46  实验 1 模型 4 training time = 11.13 s\r\n",
      "2023-02-02 23:50:46  Slice ID  4 : MAE = 34.5337, RMSE = 87.0632, NMAE = 0.7208, MRE = 0.8336, NPRE = 4.3276\r\n",
      "\r\n",
      "2023-02-02 23:50:46  \t实验 1 模型 5 开始分片训练\r\n",
      "2023-02-02 23:51:08  Epoch 10 : MAE : 35.5536  RMSE : 88.9348  NMAE : 0.7421  MRE : 0.7698  NPRE : 6.9685\r\n",
      "2023-02-02 23:51:28  Best epoch  9 : MAE : 34.6342  RMSE : 89.5573  NMAE : 0.7229  MRE : 0.7924  NPRE : 4.8546\r\n",
      "2023-02-02 23:51:28  实验 1 模型 5 training time = 9.40 s\r\n",
      "2023-02-02 23:51:28  Slice ID  5 : MAE = 34.6342, RMSE = 89.5573, NMAE = 0.7229, MRE = 0.7924, NPRE = 4.8546\r\n",
      "\r\n",
      "2023-02-02 23:51:28  \t所有切片模型训练完毕\r\n",
      "2023-02-02 23:51:28  \t开始训练聚合模型\r\n",
      "2023-02-02 23:51:33  Epoch  1 : MAE : 25.7638  RMSE : 67.7082  NMAE : 0.5420  MRE : 0.5579  NPRE : 2.9880\r\n",
      "2023-02-02 23:51:38  Epoch  2 : MAE : 23.1295  RMSE : 62.5675  NMAE : 0.4866  MRE : 0.4899  NPRE : 2.4442\r\n",
      "2023-02-02 23:51:42  Epoch  3 : MAE : 22.1780  RMSE : 61.0490  NMAE : 0.4666  MRE : 0.4730  NPRE : 2.8871\r\n",
      "2023-02-02 23:51:47  Epoch  4 : MAE : 21.1830  RMSE : 59.0288  NMAE : 0.4456  MRE : 0.4361  NPRE : 2.2854\r\n",
      "2023-02-02 23:51:51  Epoch  5 : MAE : 20.5615  RMSE : 57.4236  NMAE : 0.4326  MRE : 0.4224  NPRE : 2.2195\r\n",
      "2023-02-02 23:51:56  Epoch  6 : MAE : 20.2043  RMSE : 56.6864  NMAE : 0.4250  MRE : 0.4442  NPRE : 1.3375\r\n",
      "2023-02-02 23:52:00  Epoch  7 : MAE : 19.6456  RMSE : 55.5593  NMAE : 0.4133  MRE : 0.4006  NPRE : 1.8823\r\n",
      "2023-02-02 23:52:05  Epoch  8 : MAE : 19.7306  RMSE : 55.4320  NMAE : 0.4151  MRE : 0.4639  NPRE : 1.0000\r\n",
      "2023-02-02 23:52:09  Epoch  9 : MAE : 19.1918  RMSE : 54.5939  NMAE : 0.4037  MRE : 0.3931  NPRE : 2.2452\r\n",
      "2023-02-02 23:52:14  Epoch 10 : MAE : 18.9900  RMSE : 54.1702  NMAE : 0.3995  MRE : 0.3872  NPRE : 2.1094\r\n",
      "2023-02-02 23:52:18  Epoch 11 : MAE : 18.7667  RMSE : 54.1558  NMAE : 0.3948  MRE : 0.3759  NPRE : 1.7147\r\n",
      "2023-02-02 23:52:23  Epoch 12 : MAE : 18.6234  RMSE : 53.8887  NMAE : 0.3918  MRE : 0.3738  NPRE : 1.7780\r\n",
      "2023-02-02 23:52:23  Best epoch 12 : MAE : 18.6234  RMSE : 53.8887  NMAE : 0.3918  MRE : 0.3738  NPRE : 1.7780\r\n",
      "2023-02-02 23:52:23  \t实验 1 聚合模型训练完毕\r\n",
      "100%|███████████████████████████████████████████| 11/11 [00:02<00:00,  3.92it/s]\r\n",
      "2023-02-02 23:52:26  Result : MAE : 18.6105  RMSE : 53.8188  NMAE : 0.3915  MRE : 0.3742  NPRE : 1.7813\r\n",
      "2023-02-02 23:52:26  \t实验 1 : Aggregators training time = 18.43 s\r\n",
      "\r\n",
      "2023-02-02 23:52:26  \t聚合模型训练完毕\r\n",
      "\r\n",
      "------------------------------------------------------------------------------------------------------------------------\r\n",
      "2023-02-02 23:52:26  Dataset : tp     interaction : NeuCF\r\n",
      "2023-02-02 23:52:26  Density : 20.00%, slice_epochs : 100, agg_epochs : 12\r\n",
      "2023-02-02 23:52:26  Part_type : 3,    slices : 5,       devices : gpu\r\n",
      "\r\n",
      "\r\n",
      "2023-02-02 23:52:26  Density 20.00% : MAE = 18.610, RMSE = 53.819, NMAE = 0.392, MRE = 0.374, NPRE = 1.781\r\n",
      "\r\n",
      "2023-02-02 23:52:26  Experiment success!\r\n",
      "\r\n"
     ]
    }
   ],
   "source": [
    "!python Experiment.py --dataset tp --interaction NeuCF --rounds 1 --slices 5 --agg_epochs 12 --density 0.20 --part_type 3"
   ],
   "metadata": {
    "collapsed": false
   }
  },
  {
   "cell_type": "code",
   "execution_count": 57,
   "outputs": [
    {
     "name": "stdout",
     "output_type": "stream",
     "text": [
      "2023-02-02 23:52:27  All the experiments have been done!\r\n",
      "2023-02-02 23:52:27  Namespace(F=1, agg2=0, agg_decay=0.001, agg_epochs=12, agg_function=1, agg_lr=0.001, agg_type='att', att_decay=0.0001, att_lr=0.001, batch_size=128, beta=1, cluster='deep', cuda=True, dataset='tp', debug=0, density=0.2, devices='gpu', dimension=32, dir='../Dataset/mnist', dropout=0.1, epoch=1500, external_dim=64, hidden_dims=[64, 64, 100], input_dim=128, interaction='NeuCF', lamda=1, latent_dim=10, log_interval=100, lr=0.0001, n_classes=10, n_clusters=10, n_jobs=1, node2vec=0, node2vec_batchsize=32, node2vec_dim=128, node2vec_epochs=20, node2vec_length=8, node2vec_walk=15, node2vec_windows=3, num_layers=2, order=2, part_iter=20, part_type=5, path='./datasets/data/WSDREAM/', pre_epoch=1000, pretrain=True, processed=0, random_state=1001, record=1, retrain=0, rounds=1, save_model=1, slice=1, slice_decay=0.001, slice_epochs=100, slice_lr=0.001, slices=5, verbose=10, wd=0.0005)\r\n",
      "2023-02-02 23:52:27  Dataset : tp     interaction : NeuCF\r\n",
      "2023-02-02 23:52:27  Density : 20.00%, slice_epochs : 100, agg_epochs : 12\r\n",
      "2023-02-02 23:52:27  Part_type : 5,    slices : 5,       devices : gpu\r\n",
      "2023-02-02 23:52:27  Slice_lr : 0.005,    Slice_decay : 0.001\r\n",
      "2023-02-02 23:52:27  Agg_lr : 0.001,    Agg_decay : 0.01\r\n",
      "2023-02-02 23:52:27  Aggregation function : att\r\n",
      "------------------------------------------------------------------------------------------------------------------------\r\n",
      "2023-02-02 23:52:27  Dataset : tp     interaction : NeuCF\r\n",
      "2023-02-02 23:52:27  Density : 20.00%, slice_epochs : 100, agg_epochs : 12\r\n",
      "2023-02-02 23:52:27  Part_type : 5,    slices : 5,       devices : gpu\r\n",
      "\r\n",
      "\r\n",
      "2023-02-02 23:52:27  Density 20.00% : MAE = 14.556, RMSE = 46.538, NMAE = 0.306, MRE = 0.277, NPRE = 1.825\r\n",
      "\r\n",
      "2023-02-02 23:52:27  Experiment success!\r\n",
      "\r\n"
     ]
    }
   ],
   "source": [
    "!python Experiment.py --dataset tp --interaction NeuCF --rounds 1 --slices 5 --agg_epochs 12 --density 0.20 --part_type 5"
   ],
   "metadata": {
    "collapsed": false
   }
  },
  {
   "cell_type": "code",
   "execution_count": 58,
   "outputs": [
    {
     "name": "stdout",
     "output_type": "stream",
     "text": [
      "2023-02-02 23:52:28  Experiment start!\r\n",
      "2023-02-02 23:52:28  Namespace(F=1, agg2=0, agg_decay=0.001, agg_epochs=12, agg_function=1, agg_lr=0.001, agg_type='att', att_decay=0.0001, att_lr=0.001, batch_size=128, beta=1, cluster='deep', cuda=True, dataset='tp', debug=0, density=0.25, devices='gpu', dimension=32, dir='../Dataset/mnist', dropout=0.1, epoch=1500, external_dim=64, hidden_dims=[64, 64, 100], input_dim=128, interaction='NeuCF', lamda=1, latent_dim=10, log_interval=100, lr=0.0001, n_classes=10, n_clusters=10, n_jobs=1, node2vec=0, node2vec_batchsize=32, node2vec_dim=128, node2vec_epochs=20, node2vec_length=8, node2vec_walk=15, node2vec_windows=3, num_layers=2, order=2, part_iter=20, part_type=1, path='./datasets/data/WSDREAM/', pre_epoch=1000, pretrain=True, processed=0, random_state=1001, record=1, retrain=0, rounds=1, save_model=1, slice=1, slice_decay=0.001, slice_epochs=100, slice_lr=0.001, slices=5, verbose=10, wd=0.0005)\r\n",
      "2023-02-02 23:52:28  Dataset : tp     interaction : NeuCF\r\n",
      "2023-02-02 23:52:28  Density : 25.00%, slice_epochs : 100, agg_epochs : 12\r\n",
      "2023-02-02 23:52:28  Part_type : 1,    slices : 5,       devices : gpu\r\n",
      "2023-02-02 23:52:28  Slice_lr : 0.005,    Slice_decay : 0.01\r\n",
      "2023-02-02 23:52:28  Agg_lr : 0.001,    Agg_decay : 0.01\r\n",
      "2023-02-02 23:52:28  Aggregation function : mean\r\n",
      "\r\n",
      "2023-02-02 23:52:28  Round 1 experiment start!\r\n",
      "2023-02-02 23:52:28  \t原始数据集读取完毕\r\n",
      "2023-02-02 23:52:28  \tSISA 切割完毕\r\n",
      "2023-02-02 23:52:28  \t分切数据执行完毕\r\n",
      "2023-02-02 23:52:30  \t模型加载完毕\r\n",
      "2023-02-02 23:52:30  \t准备训练切片模型\r\n",
      "2023-02-02 23:52:30  \t实验 1 模型 1 开始分片训练\r\n",
      "2023-02-02 23:52:51  Epoch 10 : MAE : 25.4569  RMSE : 67.0828  NMAE : 0.5318  MRE : 0.5841  NPRE : 2.1469\r\n",
      "2023-02-02 23:53:12  Epoch 20 : MAE : 20.0296  RMSE : 57.0247  NMAE : 0.4184  MRE : 0.4723  NPRE : 1.4958\r\n",
      "2023-02-02 23:53:33  Epoch 30 : MAE : 20.5254  RMSE : 56.9743  NMAE : 0.4287  MRE : 0.4753  NPRE : 2.7700\r\n",
      "2023-02-02 23:53:33  Best epoch 20 : MAE : 20.0296  RMSE : 57.0247  NMAE : 0.4184  MRE : 0.4723  NPRE : 1.4958\r\n",
      "2023-02-02 23:53:33  实验 1 模型 1 training time = 20.49 s\r\n",
      "2023-02-02 23:53:33  Slice ID  1 : MAE = 20.0296, RMSE = 57.0247, NMAE = 0.4184, MRE = 0.4723, NPRE = 1.4958\r\n",
      "\r\n",
      "2023-02-02 23:53:33  \t实验 1 模型 2 开始分片训练\r\n",
      "2023-02-02 23:53:55  Epoch 10 : MAE : 26.6673  RMSE : 68.2952  NMAE : 0.5570  MRE : 0.8682  NPRE : 1.0000\r\n",
      "2023-02-02 23:54:16  Epoch 20 : MAE : 22.0632  RMSE : 60.1739  NMAE : 0.4609  MRE : 0.5503  NPRE : 1.8224\r\n",
      "2023-02-02 23:54:37  Epoch 30 : MAE : 21.5016  RMSE : 58.8301  NMAE : 0.4491  MRE : 0.5379  NPRE : 1.9766\r\n",
      "2023-02-02 23:54:58  Epoch 40 : MAE : 22.9000  RMSE : 57.3299  NMAE : 0.4784  MRE : 0.6229  NPRE : 4.4110\r\n",
      "2023-02-02 23:55:18  Epoch 50 : MAE : 21.0934  RMSE : 56.3703  NMAE : 0.4406  MRE : 0.5335  NPRE : 2.4742\r\n",
      "2023-02-02 23:55:39  Epoch 60 : MAE : 22.6924  RMSE : 56.1200  NMAE : 0.4740  MRE : 0.6415  NPRE : 5.1475\r\n",
      "2023-02-02 23:56:00  Epoch 70 : MAE : 21.8999  RMSE : 55.7656  NMAE : 0.4575  MRE : 0.5888  NPRE : 4.2205\r\n",
      "2023-02-02 23:56:13  Best epoch 66 : MAE : 20.4752  RMSE : 54.8107  NMAE : 0.4277  MRE : 0.5372  NPRE : 1.7262\r\n",
      "2023-02-02 23:56:13  实验 1 模型 2 training time = 68.63 s\r\n",
      "2023-02-02 23:56:13  Slice ID  2 : MAE = 20.4752, RMSE = 54.8107, NMAE = 0.4277, MRE = 0.5372, NPRE = 1.7262\r\n",
      "\r\n",
      "2023-02-02 23:56:13  \t实验 1 模型 3 开始分片训练\r\n",
      "2023-02-02 23:56:34  Epoch 10 : MAE : 25.8974  RMSE : 68.2891  NMAE : 0.5410  MRE : 0.6067  NPRE : 2.3133\r\n",
      "2023-02-02 23:56:55  Epoch 20 : MAE : 21.4724  RMSE : 57.9441  NMAE : 0.4485  MRE : 0.5243  NPRE : 3.1991\r\n",
      "2023-02-02 23:57:16  Epoch 30 : MAE : 20.8593  RMSE : 58.2882  NMAE : 0.4357  MRE : 0.4928  NPRE : 2.4220\r\n",
      "2023-02-02 23:57:24  Best epoch 24 : MAE : 20.6341  RMSE : 57.6098  NMAE : 0.4310  MRE : 0.4961  NPRE : 2.1932\r\n",
      "2023-02-02 23:57:24  实验 1 模型 3 training time = 24.74 s\r\n",
      "2023-02-02 23:57:24  Slice ID  3 : MAE = 20.6341, RMSE = 57.6098, NMAE = 0.4310, MRE = 0.4961, NPRE = 2.1932\r\n",
      "\r\n",
      "2023-02-02 23:57:24  \t实验 1 模型 4 开始分片训练\r\n",
      "2023-02-02 23:57:45  Epoch 10 : MAE : 24.9213  RMSE : 66.0145  NMAE : 0.5206  MRE : 0.5641  NPRE : 1.9161\r\n",
      "2023-02-02 23:58:06  Epoch 20 : MAE : 21.3389  RMSE : 59.1793  NMAE : 0.4457  MRE : 0.4953  NPRE : 3.4838\r\n",
      "2023-02-02 23:58:27  Epoch 30 : MAE : 20.5384  RMSE : 55.3505  NMAE : 0.4290  MRE : 0.6172  NPRE : 1.0000\r\n",
      "2023-02-02 23:58:48  Epoch 40 : MAE : 20.1899  RMSE : 55.7728  NMAE : 0.4217  MRE : 0.4788  NPRE : 2.0935\r\n",
      "2023-02-02 23:59:09  Epoch 50 : MAE : 20.3733  RMSE : 54.2125  NMAE : 0.4256  MRE : 0.5042  NPRE : 2.7925\r\n",
      "2023-02-02 23:59:24  Best epoch 47 : MAE : 19.9132  RMSE : 53.8748  NMAE : 0.4160  MRE : 0.4828  NPRE : 2.6482\r\n",
      "2023-02-02 23:59:24  实验 1 模型 4 training time = 48.47 s\r\n",
      "2023-02-02 23:59:24  Slice ID  4 : MAE = 19.9132, RMSE = 53.8748, NMAE = 0.4160, MRE = 0.4828, NPRE = 2.6482\r\n",
      "\r\n",
      "2023-02-02 23:59:24  \t实验 1 模型 5 开始分片训练\r\n",
      "2023-02-02 23:59:45  Epoch 10 : MAE : 27.9625  RMSE : 72.7905  NMAE : 0.5841  MRE : 0.6875  NPRE : 1.7709\r\n",
      "2023-02-03 00:00:05  Epoch 20 : MAE : 20.3597  RMSE : 56.8845  NMAE : 0.4253  MRE : 0.4931  NPRE : 1.6898\r\n",
      "2023-02-03 00:00:24  Best epoch 19 : MAE : 20.1372  RMSE : 56.8976  NMAE : 0.4206  MRE : 0.4586  NPRE : 2.0632\r\n",
      "2023-02-03 00:00:24  实验 1 模型 5 training time = 18.66 s\r\n",
      "2023-02-03 00:00:24  Slice ID  5 : MAE = 20.1372, RMSE = 56.8976, NMAE = 0.4206, MRE = 0.4586, NPRE = 2.0632\r\n",
      "\r\n",
      "2023-02-03 00:00:24  \t所有切片模型训练完毕\r\n",
      "2023-02-03 00:00:24  \t开始训练聚合模型\r\n",
      "^C\r\n",
      "Exception ignored in: <function _releaseLock at 0x7f01aeea10d0>\r\n",
      "Traceback (most recent call last):\r\n",
      "  File \"/home/yxzeng/anaconda3/lib/python3.8/logging/__init__.py\", line 223, in _releaseLock\r\n",
      "    def _releaseLock():\r\n",
      "KeyboardInterrupt: \r\n"
     ]
    }
   ],
   "source": [
    "!python Experiment.py --dataset tp --interaction NeuCF --rounds 1 --slices 5 --agg_epochs 12 --density 0.25 --part_type 1"
   ],
   "metadata": {
    "collapsed": false
   }
  },
  {
   "cell_type": "code",
   "execution_count": 59,
   "outputs": [],
   "source": [
    "!python Experiment.py --dataset tp --interaction NeuCF --rounds 1 --slices 5 --agg_epochs 12 --density 0.25 --part_type 3"
   ],
   "metadata": {
    "collapsed": false
   }
  },
  {
   "cell_type": "code",
   "execution_count": 60,
   "outputs": [
    {
     "name": "stdout",
     "output_type": "stream",
     "text": [
      "^C\r\n",
      "Traceback (most recent call last):\r\n",
      "  File \"Experiment.py\", line 6, in <module>\r\n",
      "    from trainer.agg_trainer import *\r\n",
      "  File \"/home/yxzeng/code_python/2/QoS_Eraser/trainer/agg_trainer.py\", line 3, in <module>\r\n",
      "    from lib.data_loader import get_dataloaders\r\n",
      "  File \"/home/yxzeng/code_python/2/QoS_Eraser/lib/data_loader.py\", line 5, in <module>\r\n",
      "    from torch.utils.data import DataLoader\r\n",
      "  File \"/home/yxzeng/anaconda3/lib/python3.8/site-packages/torch/__init__.py\", line 197, in <module>\r\n",
      "    from torch._C import *  # noqa: F403\r\n",
      "RuntimeError: KeyboardInterrupt: \r\n"
     ]
    }
   ],
   "source": [
    "!python Experiment.py --dataset tp --interaction NeuCF --rounds 1 --slices 5 --agg_epochs 12 --density 0.25 --part_type 5"
   ],
   "metadata": {
    "collapsed": false
   }
  },
  {
   "cell_type": "code",
   "execution_count": 61,
   "outputs": [
    {
     "name": "stdout",
     "output_type": "stream",
     "text": [
      "^C\r\n",
      "Traceback (most recent call last):\r\n",
      "  File \"Experiment.py\", line 6, in <module>\r\n",
      "    from trainer.agg_trainer import *\r\n",
      "  File \"/home/yxzeng/code_python/2/QoS_Eraser/trainer/agg_trainer.py\", line 3, in <module>\r\n",
      "    from lib.data_loader import get_dataloaders\r\n",
      "  File \"/home/yxzeng/code_python/2/QoS_Eraser/lib/data_loader.py\", line 5, in <module>\r\n",
      "    from torch.utils.data import DataLoader\r\n",
      "  File \"/home/yxzeng/anaconda3/lib/python3.8/site-packages/torch/__init__.py\", line 197, in <module>\r\n",
      "    from torch._C import *  # noqa: F403\r\n",
      "RuntimeError: KeyboardInterrupt: \r\n"
     ]
    }
   ],
   "source": [
    "!python Experiment.py --dataset tp --interaction NeuCF --rounds 1 --slices 5 --agg_epochs 12 --density 0.30 --part_type 1"
   ],
   "metadata": {
    "collapsed": false
   }
  },
  {
   "cell_type": "code",
   "execution_count": null,
   "outputs": [],
   "source": [
    "!python Experiment.py --dataset tp --interaction NeuCF --rounds 1 --slices 5 --agg_epochs 12 --density 0.30 --part_type 3"
   ],
   "metadata": {
    "collapsed": false,
    "pycharm": {
     "is_executing": true
    }
   }
  },
  {
   "cell_type": "code",
   "execution_count": null,
   "outputs": [],
   "source": [
    "!python Experiment.py --dataset tp --interaction NeuCF --rounds 1 --slices 5 --agg_epochs 12 --density 0.30 --part_type 5"
   ],
   "metadata": {
    "collapsed": false,
    "pycharm": {
     "is_executing": true
    }
   }
  },
  {
   "cell_type": "code",
   "execution_count": null,
   "outputs": [],
   "source": [
    "!python Experiment.py --dataset rt --interaction CSMF --rounds 1 --slices 5 --agg_epochs 10 --density 0.10 --part_type 1"
   ],
   "metadata": {
    "collapsed": false,
    "pycharm": {
     "is_executing": true
    }
   }
  },
  {
   "cell_type": "code",
   "execution_count": null,
   "outputs": [],
   "source": [
    "!python Experiment.py --dataset rt --interaction CSMF --rounds 1 --slices 5 --agg_epochs 10 --density 0.10 --part_type 3"
   ],
   "metadata": {
    "collapsed": false,
    "pycharm": {
     "is_executing": true
    }
   }
  },
  {
   "cell_type": "code",
   "execution_count": null,
   "outputs": [],
   "source": [
    "!python Experiment.py --dataset rt --interaction CSMF --rounds 1 --slices 5 --agg_epochs 10 --density 0.10 --part_type 5"
   ],
   "metadata": {
    "collapsed": false,
    "pycharm": {
     "is_executing": true
    }
   }
  },
  {
   "cell_type": "code",
   "execution_count": null,
   "outputs": [],
   "source": [
    "!python Experiment.py --dataset rt --interaction CSMF --rounds 1 --slices 5 --agg_epochs 10 --density 0.15 --part_type 1"
   ],
   "metadata": {
    "collapsed": false,
    "pycharm": {
     "is_executing": true
    }
   }
  },
  {
   "cell_type": "code",
   "execution_count": null,
   "outputs": [],
   "source": [
    "!python Experiment.py --dataset rt --interaction CSMF --rounds 1 --slices 5 --agg_epochs 10 --density 0.15 --part_type 3"
   ],
   "metadata": {
    "collapsed": false,
    "pycharm": {
     "is_executing": true
    }
   }
  },
  {
   "cell_type": "code",
   "execution_count": null,
   "outputs": [],
   "source": [
    "!python Experiment.py --dataset rt --interaction CSMF --rounds 1 --slices 5 --agg_epochs 10 --density 0.15 --part_type 5"
   ],
   "metadata": {
    "collapsed": false,
    "pycharm": {
     "is_executing": true
    }
   }
  },
  {
   "cell_type": "code",
   "execution_count": null,
   "outputs": [],
   "source": [
    "!python Experiment.py --dataset rt --interaction CSMF --rounds 1 --slices 5 --agg_epochs 10 --density 0.20 --part_type 1"
   ],
   "metadata": {
    "collapsed": false,
    "pycharm": {
     "is_executing": true
    }
   }
  },
  {
   "cell_type": "code",
   "execution_count": null,
   "outputs": [],
   "source": [
    "!python Experiment.py --dataset rt --interaction CSMF --rounds 1 --slices 5 --agg_epochs 10 --density 0.20 --part_type 3"
   ],
   "metadata": {
    "collapsed": false,
    "pycharm": {
     "is_executing": true
    }
   }
  },
  {
   "cell_type": "code",
   "execution_count": null,
   "outputs": [],
   "source": [
    "!python Experiment.py --dataset rt --interaction CSMF --rounds 1 --slices 5 --agg_epochs 10 --density 0.20 --part_type 5"
   ],
   "metadata": {
    "collapsed": false,
    "pycharm": {
     "is_executing": true
    }
   }
  },
  {
   "cell_type": "code",
   "execution_count": null,
   "outputs": [],
   "source": [
    "!python Experiment.py --dataset rt --interaction CSMF --rounds 1 --slices 5 --agg_epochs 10 --density 0.25 --part_type 1"
   ],
   "metadata": {
    "collapsed": false,
    "pycharm": {
     "is_executing": true
    }
   }
  },
  {
   "cell_type": "code",
   "execution_count": null,
   "outputs": [],
   "source": [
    "!python Experiment.py --dataset rt --interaction CSMF --rounds 1 --slices 5 --agg_epochs 10 --density 0.25 --part_type 3"
   ],
   "metadata": {
    "collapsed": false,
    "pycharm": {
     "is_executing": true
    }
   }
  },
  {
   "cell_type": "code",
   "execution_count": null,
   "outputs": [],
   "source": [
    "!python Experiment.py --dataset rt --interaction CSMF --rounds 1 --slices 5 --agg_epochs 10 --density 0.25 --part_type 5"
   ],
   "metadata": {
    "collapsed": false,
    "pycharm": {
     "is_executing": true
    }
   }
  },
  {
   "cell_type": "code",
   "execution_count": null,
   "outputs": [],
   "source": [
    "!python Experiment.py --dataset rt --interaction CSMF --rounds 1 --slices 5 --agg_epochs 10 --density 0.30 --part_type 1"
   ],
   "metadata": {
    "collapsed": false,
    "pycharm": {
     "is_executing": true
    }
   }
  },
  {
   "cell_type": "code",
   "execution_count": null,
   "outputs": [],
   "source": [
    "!python Experiment.py --dataset rt --interaction CSMF --rounds 1 --slices 5 --agg_epochs 10 --density 0.30 --part_type 3"
   ],
   "metadata": {
    "collapsed": false,
    "pycharm": {
     "is_executing": true
    }
   }
  },
  {
   "cell_type": "code",
   "execution_count": null,
   "outputs": [],
   "source": [
    "!python Experiment.py --dataset rt --interaction CSMF --rounds 1 --slices 5 --agg_epochs 10 --density 0.30 --part_type 5"
   ],
   "metadata": {
    "collapsed": false,
    "pycharm": {
     "is_executing": true
    }
   }
  },
  {
   "cell_type": "code",
   "execution_count": null,
   "outputs": [],
   "source": [
    "!python Experiment.py --dataset tp --interaction CSMF --rounds 1 --slices 5 --agg_epochs 12 --density 0.10 --part_type 1"
   ],
   "metadata": {
    "collapsed": false,
    "pycharm": {
     "is_executing": true
    }
   }
  },
  {
   "cell_type": "code",
   "execution_count": null,
   "outputs": [],
   "source": [
    "!python Experiment.py --dataset tp --interaction CSMF --rounds 1 --slices 5 --agg_epochs 12 --density 0.10 --part_type 3"
   ],
   "metadata": {
    "collapsed": false,
    "pycharm": {
     "is_executing": true
    }
   }
  },
  {
   "cell_type": "code",
   "execution_count": null,
   "outputs": [],
   "source": [
    "!python Experiment.py --dataset tp --interaction CSMF --rounds 1 --slices 5 --agg_epochs 12 --density 0.10 --part_type 5"
   ],
   "metadata": {
    "collapsed": false,
    "pycharm": {
     "is_executing": true
    }
   }
  },
  {
   "cell_type": "code",
   "execution_count": null,
   "outputs": [],
   "source": [
    "!python Experiment.py --dataset tp --interaction CSMF --rounds 1 --slices 5 --agg_epochs 12 --density 0.15 --part_type 1"
   ],
   "metadata": {
    "collapsed": false,
    "pycharm": {
     "is_executing": true
    }
   }
  },
  {
   "cell_type": "code",
   "execution_count": null,
   "outputs": [],
   "source": [
    "!python Experiment.py --dataset tp --interaction CSMF --rounds 1 --slices 5 --agg_epochs 12 --density 0.15 --part_type 3"
   ],
   "metadata": {
    "collapsed": false,
    "pycharm": {
     "is_executing": true
    }
   }
  },
  {
   "cell_type": "code",
   "execution_count": null,
   "outputs": [],
   "source": [
    "!python Experiment.py --dataset tp --interaction CSMF --rounds 1 --slices 5 --agg_epochs 12 --density 0.15 --part_type 5"
   ],
   "metadata": {
    "collapsed": false,
    "pycharm": {
     "is_executing": true
    }
   }
  },
  {
   "cell_type": "code",
   "execution_count": null,
   "outputs": [],
   "source": [
    "!python Experiment.py --dataset tp --interaction CSMF --rounds 1 --slices 5 --agg_epochs 12 --density 0.20 --part_type 1"
   ],
   "metadata": {
    "collapsed": false,
    "pycharm": {
     "is_executing": true
    }
   }
  },
  {
   "cell_type": "code",
   "execution_count": null,
   "outputs": [],
   "source": [
    "!python Experiment.py --dataset tp --interaction CSMF --rounds 1 --slices 5 --agg_epochs 12 --density 0.20 --part_type 3"
   ],
   "metadata": {
    "collapsed": false,
    "pycharm": {
     "is_executing": true
    }
   }
  },
  {
   "cell_type": "code",
   "execution_count": null,
   "outputs": [],
   "source": [
    "!python Experiment.py --dataset tp --interaction CSMF --rounds 1 --slices 5 --agg_epochs 12 --density 0.20 --part_type 5"
   ],
   "metadata": {
    "collapsed": false,
    "pycharm": {
     "is_executing": true
    }
   }
  },
  {
   "cell_type": "code",
   "execution_count": null,
   "outputs": [],
   "source": [
    "!python Experiment.py --dataset tp --interaction CSMF --rounds 1 --slices 5 --agg_epochs 12 --density 0.25 --part_type 1"
   ],
   "metadata": {
    "collapsed": false,
    "pycharm": {
     "is_executing": true
    }
   }
  },
  {
   "cell_type": "code",
   "execution_count": null,
   "outputs": [],
   "source": [
    "!python Experiment.py --dataset tp --interaction CSMF --rounds 1 --slices 5 --agg_epochs 12 --density 0.25 --part_type 3"
   ],
   "metadata": {
    "collapsed": false,
    "pycharm": {
     "is_executing": true
    }
   }
  },
  {
   "cell_type": "code",
   "execution_count": null,
   "outputs": [],
   "source": [
    "!python Experiment.py --dataset tp --interaction CSMF --rounds 1 --slices 5 --agg_epochs 12 --density 0.25 --part_type 5"
   ],
   "metadata": {
    "collapsed": false,
    "pycharm": {
     "is_executing": true
    }
   }
  },
  {
   "cell_type": "code",
   "execution_count": null,
   "outputs": [],
   "source": [
    "!python Experiment.py --dataset tp --interaction CSMF --rounds 1 --slices 5 --agg_epochs 12 --density 0.30 --part_type 1"
   ],
   "metadata": {
    "collapsed": false,
    "pycharm": {
     "is_executing": true
    }
   }
  },
  {
   "cell_type": "code",
   "execution_count": null,
   "outputs": [],
   "source": [
    "!python Experiment.py --dataset tp --interaction CSMF --rounds 1 --slices 5 --agg_epochs 12 --density 0.30 --part_type 3"
   ],
   "metadata": {
    "collapsed": false,
    "pycharm": {
     "is_executing": true
    }
   }
  },
  {
   "cell_type": "code",
   "execution_count": null,
   "outputs": [],
   "source": [
    "!python Experiment.py --dataset tp --interaction CSMF --rounds 1 --slices 5 --agg_epochs 12 --density 0.30 --part_type 5"
   ],
   "metadata": {
    "collapsed": false,
    "pycharm": {
     "is_executing": true
    }
   }
  },
  {
   "cell_type": "code",
   "execution_count": null,
   "outputs": [],
   "source": [
    "!python Experiment.py --dataset rt --interaction MF --rounds 1 --slices 5 --agg_epochs 10 --density 0.10 --part_type 1"
   ],
   "metadata": {
    "collapsed": false,
    "pycharm": {
     "is_executing": true
    }
   }
  },
  {
   "cell_type": "code",
   "execution_count": null,
   "outputs": [],
   "source": [
    "!python Experiment.py --dataset rt --interaction MF --rounds 1 --slices 5 --agg_epochs 10 --density 0.10 --part_type 3"
   ],
   "metadata": {
    "collapsed": false,
    "pycharm": {
     "is_executing": true
    }
   }
  },
  {
   "cell_type": "code",
   "execution_count": null,
   "outputs": [],
   "source": [
    "!python Experiment.py --dataset rt --interaction MF --rounds 1 --slices 5 --agg_epochs 10 --density 0.10 --part_type 5"
   ],
   "metadata": {
    "collapsed": false,
    "pycharm": {
     "is_executing": true
    }
   }
  },
  {
   "cell_type": "code",
   "execution_count": null,
   "outputs": [],
   "source": [
    "!python Experiment.py --dataset rt --interaction MF --rounds 1 --slices 5 --agg_epochs 10 --density 0.15 --part_type 1"
   ],
   "metadata": {
    "collapsed": false,
    "pycharm": {
     "is_executing": true
    }
   }
  },
  {
   "cell_type": "code",
   "execution_count": null,
   "outputs": [],
   "source": [
    "!python Experiment.py --dataset rt --interaction MF --rounds 1 --slices 5 --agg_epochs 10 --density 0.15 --part_type 3"
   ],
   "metadata": {
    "collapsed": false,
    "pycharm": {
     "is_executing": true
    }
   }
  },
  {
   "cell_type": "code",
   "execution_count": null,
   "outputs": [],
   "source": [
    "!python Experiment.py --dataset rt --interaction MF --rounds 1 --slices 5 --agg_epochs 10 --density 0.15 --part_type 5"
   ],
   "metadata": {
    "collapsed": false,
    "pycharm": {
     "is_executing": true
    }
   }
  },
  {
   "cell_type": "code",
   "execution_count": null,
   "outputs": [],
   "source": [
    "!python Experiment.py --dataset rt --interaction MF --rounds 1 --slices 5 --agg_epochs 10 --density 0.20 --part_type 1"
   ],
   "metadata": {
    "collapsed": false,
    "pycharm": {
     "is_executing": true
    }
   }
  },
  {
   "cell_type": "code",
   "execution_count": null,
   "outputs": [],
   "source": [
    "!python Experiment.py --dataset rt --interaction MF --rounds 1 --slices 5 --agg_epochs 10 --density 0.20 --part_type 3"
   ],
   "metadata": {
    "collapsed": false,
    "pycharm": {
     "is_executing": true
    }
   }
  },
  {
   "cell_type": "code",
   "execution_count": null,
   "outputs": [],
   "source": [
    "!python Experiment.py --dataset rt --interaction MF --rounds 1 --slices 5 --agg_epochs 10 --density 0.20 --part_type 5"
   ],
   "metadata": {
    "collapsed": false,
    "pycharm": {
     "is_executing": true
    }
   }
  },
  {
   "cell_type": "code",
   "execution_count": null,
   "outputs": [],
   "source": [
    "!python Experiment.py --dataset rt --interaction MF --rounds 1 --slices 5 --agg_epochs 10 --density 0.25 --part_type 1"
   ],
   "metadata": {
    "collapsed": false,
    "pycharm": {
     "is_executing": true
    }
   }
  },
  {
   "cell_type": "code",
   "execution_count": null,
   "outputs": [],
   "source": [
    "!python Experiment.py --dataset rt --interaction MF --rounds 1 --slices 5 --agg_epochs 10 --density 0.25 --part_type 3"
   ],
   "metadata": {
    "collapsed": false,
    "pycharm": {
     "is_executing": true
    }
   }
  },
  {
   "cell_type": "code",
   "execution_count": null,
   "outputs": [],
   "source": [
    "!python Experiment.py --dataset rt --interaction MF --rounds 1 --slices 5 --agg_epochs 10 --density 0.25 --part_type 5"
   ],
   "metadata": {
    "collapsed": false,
    "pycharm": {
     "is_executing": true
    }
   }
  },
  {
   "cell_type": "code",
   "execution_count": null,
   "outputs": [],
   "source": [
    "!python Experiment.py --dataset rt --interaction MF --rounds 1 --slices 5 --agg_epochs 10 --density 0.30 --part_type 1"
   ],
   "metadata": {
    "collapsed": false,
    "pycharm": {
     "is_executing": true
    }
   }
  },
  {
   "cell_type": "code",
   "execution_count": null,
   "outputs": [],
   "source": [
    "!python Experiment.py --dataset rt --interaction MF --rounds 1 --slices 5 --agg_epochs 10 --density 0.30 --part_type 3"
   ],
   "metadata": {
    "collapsed": false,
    "pycharm": {
     "is_executing": true
    }
   }
  },
  {
   "cell_type": "code",
   "execution_count": null,
   "outputs": [],
   "source": [
    "!python Experiment.py --dataset rt --interaction MF --rounds 1 --slices 5 --agg_epochs 10 --density 0.30 --part_type 5"
   ],
   "metadata": {
    "collapsed": false,
    "pycharm": {
     "is_executing": true
    }
   }
  },
  {
   "cell_type": "code",
   "execution_count": null,
   "outputs": [],
   "source": [
    "!python Experiment.py --dataset tp --interaction MF --rounds 1 --slices 5 --agg_epochs 12 --density 0.10 --part_type 1"
   ],
   "metadata": {
    "collapsed": false,
    "pycharm": {
     "is_executing": true
    }
   }
  },
  {
   "cell_type": "code",
   "execution_count": null,
   "outputs": [],
   "source": [
    "!python Experiment.py --dataset tp --interaction MF --rounds 1 --slices 5 --agg_epochs 12 --density 0.10 --part_type 3"
   ],
   "metadata": {
    "collapsed": false,
    "pycharm": {
     "is_executing": true
    }
   }
  },
  {
   "cell_type": "code",
   "execution_count": null,
   "outputs": [],
   "source": [
    "!python Experiment.py --dataset tp --interaction MF --rounds 1 --slices 5 --agg_epochs 12 --density 0.10 --part_type 5"
   ],
   "metadata": {
    "collapsed": false,
    "pycharm": {
     "is_executing": true
    }
   }
  },
  {
   "cell_type": "code",
   "execution_count": null,
   "outputs": [],
   "source": [
    "!python Experiment.py --dataset tp --interaction MF --rounds 1 --slices 5 --agg_epochs 12 --density 0.15 --part_type 1"
   ],
   "metadata": {
    "collapsed": false,
    "pycharm": {
     "is_executing": true
    }
   }
  },
  {
   "cell_type": "code",
   "execution_count": null,
   "outputs": [],
   "source": [
    "!python Experiment.py --dataset tp --interaction MF --rounds 1 --slices 5 --agg_epochs 12 --density 0.15 --part_type 3"
   ],
   "metadata": {
    "collapsed": false,
    "pycharm": {
     "is_executing": true
    }
   }
  },
  {
   "cell_type": "code",
   "execution_count": null,
   "outputs": [],
   "source": [
    "!python Experiment.py --dataset tp --interaction MF --rounds 1 --slices 5 --agg_epochs 12 --density 0.15 --part_type 5"
   ],
   "metadata": {
    "collapsed": false,
    "pycharm": {
     "is_executing": true
    }
   }
  },
  {
   "cell_type": "code",
   "execution_count": null,
   "outputs": [],
   "source": [
    "!python Experiment.py --dataset tp --interaction MF --rounds 1 --slices 5 --agg_epochs 12 --density 0.20 --part_type 1"
   ],
   "metadata": {
    "collapsed": false,
    "pycharm": {
     "is_executing": true
    }
   }
  },
  {
   "cell_type": "code",
   "execution_count": null,
   "outputs": [],
   "source": [
    "!python Experiment.py --dataset tp --interaction MF --rounds 1 --slices 5 --agg_epochs 12 --density 0.20 --part_type 3"
   ],
   "metadata": {
    "collapsed": false,
    "pycharm": {
     "is_executing": true
    }
   }
  },
  {
   "cell_type": "code",
   "execution_count": null,
   "outputs": [],
   "source": [
    "!python Experiment.py --dataset tp --interaction MF --rounds 1 --slices 5 --agg_epochs 12 --density 0.20 --part_type 5"
   ],
   "metadata": {
    "collapsed": false,
    "pycharm": {
     "is_executing": true
    }
   }
  },
  {
   "cell_type": "code",
   "execution_count": null,
   "outputs": [],
   "source": [
    "!python Experiment.py --dataset tp --interaction MF --rounds 1 --slices 5 --agg_epochs 12 --density 0.25 --part_type 1"
   ],
   "metadata": {
    "collapsed": false,
    "pycharm": {
     "is_executing": true
    }
   }
  },
  {
   "cell_type": "code",
   "execution_count": null,
   "outputs": [],
   "source": [
    "!python Experiment.py --dataset tp --interaction MF --rounds 1 --slices 5 --agg_epochs 12 --density 0.25 --part_type 3"
   ],
   "metadata": {
    "collapsed": false,
    "pycharm": {
     "is_executing": true
    }
   }
  },
  {
   "cell_type": "code",
   "execution_count": null,
   "outputs": [],
   "source": [
    "!python Experiment.py --dataset tp --interaction MF --rounds 1 --slices 5 --agg_epochs 12 --density 0.25 --part_type 5"
   ],
   "metadata": {
    "collapsed": false,
    "pycharm": {
     "is_executing": true
    }
   }
  },
  {
   "cell_type": "code",
   "execution_count": null,
   "outputs": [],
   "source": [
    "!python Experiment.py --dataset tp --interaction MF --rounds 1 --slices 5 --agg_epochs 12 --density 0.30 --part_type 1"
   ],
   "metadata": {
    "collapsed": false,
    "pycharm": {
     "is_executing": true
    }
   }
  },
  {
   "cell_type": "code",
   "execution_count": null,
   "outputs": [],
   "source": [
    "!python Experiment.py --dataset tp --interaction MF --rounds 1 --slices 5 --agg_epochs 12 --density 0.30 --part_type 3"
   ],
   "metadata": {
    "collapsed": false,
    "pycharm": {
     "is_executing": true
    }
   }
  },
  {
   "cell_type": "code",
   "execution_count": null,
   "outputs": [],
   "source": [
    "!python Experiment.py --dataset tp --interaction MF --rounds 1 --slices 5 --agg_epochs 12 --density 0.30 --part_type 5"
   ],
   "metadata": {
    "collapsed": false,
    "pycharm": {
     "is_executing": true
    }
   }
  },
  {
   "cell_type": "code",
   "execution_count": null,
   "outputs": [],
   "source": [
    "!python Experiment.py --dataset rt --interaction GraphMF --rounds 1 --slices 5 --agg_epochs 10 --density 0.10 --part_type 1"
   ],
   "metadata": {
    "collapsed": false,
    "pycharm": {
     "is_executing": true
    }
   }
  },
  {
   "cell_type": "code",
   "execution_count": null,
   "outputs": [],
   "source": [
    "!python Experiment.py --dataset rt --interaction GraphMF --rounds 1 --slices 5 --agg_epochs 10 --density 0.10 --part_type 3"
   ],
   "metadata": {
    "collapsed": false,
    "pycharm": {
     "is_executing": true
    }
   }
  },
  {
   "cell_type": "code",
   "execution_count": null,
   "outputs": [],
   "source": [
    "!python Experiment.py --dataset rt --interaction GraphMF --rounds 1 --slices 5 --agg_epochs 10 --density 0.10 --part_type 5"
   ],
   "metadata": {
    "collapsed": false,
    "pycharm": {
     "is_executing": true
    }
   }
  },
  {
   "cell_type": "code",
   "execution_count": null,
   "outputs": [],
   "source": [
    "!python Experiment.py --dataset rt --interaction GraphMF --rounds 1 --slices 5 --agg_epochs 10 --density 0.15 --part_type 1"
   ],
   "metadata": {
    "collapsed": false,
    "pycharm": {
     "is_executing": true
    }
   }
  },
  {
   "cell_type": "code",
   "execution_count": null,
   "outputs": [],
   "source": [
    "!python Experiment.py --dataset rt --interaction GraphMF --rounds 1 --slices 5 --agg_epochs 10 --density 0.15 --part_type 3"
   ],
   "metadata": {
    "collapsed": false,
    "pycharm": {
     "is_executing": true
    }
   }
  },
  {
   "cell_type": "code",
   "execution_count": null,
   "outputs": [],
   "source": [
    "!python Experiment.py --dataset rt --interaction GraphMF --rounds 1 --slices 5 --agg_epochs 10 --density 0.15 --part_type 5"
   ],
   "metadata": {
    "collapsed": false,
    "pycharm": {
     "is_executing": true
    }
   }
  },
  {
   "cell_type": "code",
   "execution_count": null,
   "outputs": [],
   "source": [
    "!python Experiment.py --dataset rt --interaction GraphMF --rounds 1 --slices 5 --agg_epochs 10 --density 0.20 --part_type 1"
   ],
   "metadata": {
    "collapsed": false,
    "pycharm": {
     "is_executing": true
    }
   }
  },
  {
   "cell_type": "code",
   "execution_count": null,
   "outputs": [],
   "source": [
    "!python Experiment.py --dataset rt --interaction GraphMF --rounds 1 --slices 5 --agg_epochs 10 --density 0.20 --part_type 3"
   ],
   "metadata": {
    "collapsed": false,
    "pycharm": {
     "is_executing": true
    }
   }
  },
  {
   "cell_type": "code",
   "execution_count": null,
   "outputs": [],
   "source": [
    "!python Experiment.py --dataset rt --interaction GraphMF --rounds 1 --slices 5 --agg_epochs 10 --density 0.20 --part_type 5"
   ],
   "metadata": {
    "collapsed": false,
    "pycharm": {
     "is_executing": true
    }
   }
  },
  {
   "cell_type": "code",
   "execution_count": null,
   "outputs": [],
   "source": [
    "!python Experiment.py --dataset rt --interaction GraphMF --rounds 1 --slices 5 --agg_epochs 10 --density 0.25 --part_type 1"
   ],
   "metadata": {
    "collapsed": false,
    "pycharm": {
     "is_executing": true
    }
   }
  },
  {
   "cell_type": "code",
   "execution_count": null,
   "outputs": [],
   "source": [
    "!python Experiment.py --dataset rt --interaction GraphMF --rounds 1 --slices 5 --agg_epochs 10 --density 0.25 --part_type 3"
   ],
   "metadata": {
    "collapsed": false,
    "pycharm": {
     "is_executing": true
    }
   }
  },
  {
   "cell_type": "code",
   "execution_count": null,
   "outputs": [],
   "source": [
    "!python Experiment.py --dataset rt --interaction GraphMF --rounds 1 --slices 5 --agg_epochs 10 --density 0.25 --part_type 5"
   ],
   "metadata": {
    "collapsed": false,
    "pycharm": {
     "is_executing": true
    }
   }
  },
  {
   "cell_type": "code",
   "execution_count": null,
   "outputs": [],
   "source": [
    "!python Experiment.py --dataset rt --interaction GraphMF --rounds 1 --slices 5 --agg_epochs 10 --density 0.30 --part_type 1"
   ],
   "metadata": {
    "collapsed": false,
    "pycharm": {
     "is_executing": true
    }
   }
  },
  {
   "cell_type": "code",
   "execution_count": null,
   "outputs": [],
   "source": [
    "!python Experiment.py --dataset rt --interaction GraphMF --rounds 1 --slices 5 --agg_epochs 10 --density 0.30 --part_type 3"
   ],
   "metadata": {
    "collapsed": false,
    "pycharm": {
     "is_executing": true
    }
   }
  },
  {
   "cell_type": "code",
   "execution_count": null,
   "outputs": [],
   "source": [
    "!python Experiment.py --dataset rt --interaction GraphMF --rounds 1 --slices 5 --agg_epochs 10 --density 0.30 --part_type 5"
   ],
   "metadata": {
    "collapsed": false,
    "pycharm": {
     "is_executing": true
    }
   }
  },
  {
   "cell_type": "code",
   "execution_count": null,
   "outputs": [],
   "source": [
    "!python Experiment.py --dataset tp --interaction GraphMF --rounds 1 --slices 5 --agg_epochs 12 --density 0.10 --part_type 1"
   ],
   "metadata": {
    "collapsed": false,
    "pycharm": {
     "is_executing": true
    }
   }
  },
  {
   "cell_type": "code",
   "execution_count": null,
   "outputs": [],
   "source": [
    "!python Experiment.py --dataset tp --interaction GraphMF --rounds 1 --slices 5 --agg_epochs 12 --density 0.10 --part_type 3"
   ],
   "metadata": {
    "collapsed": false,
    "pycharm": {
     "is_executing": true
    }
   }
  },
  {
   "cell_type": "code",
   "execution_count": null,
   "outputs": [],
   "source": [
    "!python Experiment.py --dataset tp --interaction GraphMF --rounds 1 --slices 5 --agg_epochs 12 --density 0.10 --part_type 5"
   ],
   "metadata": {
    "collapsed": false,
    "pycharm": {
     "is_executing": true
    }
   }
  },
  {
   "cell_type": "code",
   "execution_count": null,
   "outputs": [],
   "source": [
    "!python Experiment.py --dataset tp --interaction GraphMF --rounds 1 --slices 5 --agg_epochs 12 --density 0.15 --part_type 1"
   ],
   "metadata": {
    "collapsed": false,
    "pycharm": {
     "is_executing": true
    }
   }
  },
  {
   "cell_type": "code",
   "execution_count": null,
   "outputs": [],
   "source": [
    "!python Experiment.py --dataset tp --interaction GraphMF --rounds 1 --slices 5 --agg_epochs 12 --density 0.15 --part_type 3"
   ],
   "metadata": {
    "collapsed": false,
    "pycharm": {
     "is_executing": true
    }
   }
  },
  {
   "cell_type": "code",
   "execution_count": null,
   "outputs": [],
   "source": [
    "!python Experiment.py --dataset tp --interaction GraphMF --rounds 1 --slices 5 --agg_epochs 12 --density 0.15 --part_type 5"
   ],
   "metadata": {
    "collapsed": false,
    "pycharm": {
     "is_executing": true
    }
   }
  },
  {
   "cell_type": "code",
   "execution_count": null,
   "outputs": [],
   "source": [
    "!python Experiment.py --dataset tp --interaction GraphMF --rounds 1 --slices 5 --agg_epochs 12 --density 0.20 --part_type 1"
   ],
   "metadata": {
    "collapsed": false,
    "pycharm": {
     "is_executing": true
    }
   }
  },
  {
   "cell_type": "code",
   "execution_count": null,
   "outputs": [],
   "source": [
    "!python Experiment.py --dataset tp --interaction GraphMF --rounds 1 --slices 5 --agg_epochs 12 --density 0.20 --part_type 3"
   ],
   "metadata": {
    "collapsed": false,
    "pycharm": {
     "is_executing": true
    }
   }
  },
  {
   "cell_type": "code",
   "execution_count": null,
   "outputs": [],
   "source": [
    "!python Experiment.py --dataset tp --interaction GraphMF --rounds 1 --slices 5 --agg_epochs 12 --density 0.20 --part_type 5"
   ],
   "metadata": {
    "collapsed": false,
    "pycharm": {
     "is_executing": true
    }
   }
  },
  {
   "cell_type": "code",
   "execution_count": null,
   "outputs": [],
   "source": [
    "!python Experiment.py --dataset tp --interaction GraphMF --rounds 1 --slices 5 --agg_epochs 12 --density 0.25 --part_type 1"
   ],
   "metadata": {
    "collapsed": false,
    "pycharm": {
     "is_executing": true
    }
   }
  },
  {
   "cell_type": "code",
   "execution_count": null,
   "outputs": [],
   "source": [
    "!python Experiment.py --dataset tp --interaction GraphMF --rounds 1 --slices 5 --agg_epochs 12 --density 0.25 --part_type 3"
   ],
   "metadata": {
    "collapsed": false,
    "pycharm": {
     "is_executing": true
    }
   }
  },
  {
   "cell_type": "code",
   "execution_count": null,
   "outputs": [],
   "source": [
    "!python Experiment.py --dataset tp --interaction GraphMF --rounds 1 --slices 5 --agg_epochs 12 --density 0.25 --part_type 5"
   ],
   "metadata": {
    "collapsed": false,
    "pycharm": {
     "is_executing": true
    }
   }
  },
  {
   "cell_type": "code",
   "execution_count": null,
   "outputs": [],
   "source": [
    "!python Experiment.py --dataset tp --interaction GraphMF --rounds 1 --slices 5 --agg_epochs 12 --density 0.30 --part_type 1"
   ],
   "metadata": {
    "collapsed": false,
    "pycharm": {
     "is_executing": true
    }
   }
  },
  {
   "cell_type": "code",
   "execution_count": null,
   "outputs": [],
   "source": [
    "!python Experiment.py --dataset tp --interaction GraphMF --rounds 1 --slices 5 --agg_epochs 12 --density 0.30 --part_type 3"
   ],
   "metadata": {
    "collapsed": false,
    "pycharm": {
     "is_executing": true
    }
   }
  },
  {
   "cell_type": "code",
   "execution_count": null,
   "outputs": [],
   "source": [
    "!python Experiment.py --dataset tp --interaction GraphMF --rounds 1 --slices 5 --agg_epochs 12 --density 0.30 --part_type 5"
   ],
   "metadata": {
    "collapsed": false,
    "pycharm": {
     "is_executing": true
    }
   }
  },
  {
   "cell_type": "code",
   "execution_count": null,
   "outputs": [],
   "source": [],
   "metadata": {
    "collapsed": false
   }
  }
 ],
 "metadata": {
  "kernelspec": {
   "display_name": "Python 3",
   "language": "python",
   "name": "python3"
  },
  "language_info": {
   "codemirror_mode": {
    "name": "ipython",
    "version": 2
   },
   "file_extension": ".py",
   "mimetype": "text/x-python",
   "name": "python",
   "nbconvert_exporter": "python",
   "pygments_lexer": "ipython2",
   "version": "2.7.6"
  }
 },
 "nbformat": 4,
 "nbformat_minor": 0
}
