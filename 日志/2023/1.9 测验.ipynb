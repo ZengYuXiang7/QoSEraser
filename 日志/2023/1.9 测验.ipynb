{
 "cells": [
  {
   "cell_type": "code",
   "execution_count": 67,
   "metadata": {
    "collapsed": true
   },
   "outputs": [
    {
     "name": "stdout",
     "output_type": "stream",
     "text": [
      "2023-01-10 01:11:16  Namespace(agg_epochs=7, agg_type='softmax', balance=0, batch_size=128, dataset='rt', debug=1, density=0.1, devices='gpu', dimension=64, dropout=0.1, interaction='NeuCF', kmeans_type=1, node2vec=0, node2vec_batchsize=32, node2vec_dim=128, node2vec_epochs=20, node2vec_length=10, node2vec_walk=50, node2vec_windows=3, num_layers=2, order=2, part_iter=50, part_type=1, path='./datasets/data/WSDREAM/', processed=0, retrain=0, rounds=1, save_model=1, slice_epochs=200, slices=10, subagg=1, verbose=10)\r\n",
      "2023-01-10 01:11:16  Experiment start!\r\n",
      "2023-01-10 01:11:16  Dataset : rt     interaction : NeuCF\r\n",
      "2023-01-10 01:11:16  Density : 10.00%, slice_epochs : 200, agg_epochs : 7\r\n",
      "2023-01-10 01:11:16  Part_type : 1,    slices : 10,       devices : gpu\r\n",
      "\r\n",
      "2023-01-10 01:11:16  Round 1 experiment start!\r\n",
      "2023-01-10 01:11:16  \t原始数据集读取完毕\r\n",
      "2023-01-10 01:11:17  \tSISA 切割完毕\r\n",
      "2023-01-10 01:11:17  \t分切数据执行完毕\r\n",
      "2023-01-10 01:11:19  \t模型加载完毕\r\n",
      "2023-01-10 01:11:19  \t准备训练切片模型\r\n",
      "2023-01-10 01:11:19  \t实验 1 模型 1 开始分片训练\r\n",
      "2023-01-10 01:11:26  Epoch 10 : MAE : 0.6421  RMSE : 1.6888  NMAE : 0.7901  MRE : 0.5885  NPRE : 2.8763\r\n",
      "2023-01-10 01:11:31  Epoch 20 : MAE : 0.4938  RMSE : 1.3321  NMAE : 0.6076  MRE : 0.4815  NPRE : 2.2542\r\n",
      "2023-01-10 01:11:36  Epoch 30 : MAE : 0.4331  RMSE : 1.1589  NMAE : 0.5330  MRE : 0.4584  NPRE : 1.8244\r\n",
      "2023-01-10 01:11:40  Epoch 40 : MAE : 0.3998  RMSE : 1.0537  NMAE : 0.4919  MRE : 0.4400  NPRE : 1.7890\r\n",
      "2023-01-10 01:11:40  Epoch 40 : MAE : 0.3998  RMSE : 1.0537  NMAE : 0.4919  MRE : 0.4400  NPRE : 1.7890\r\n",
      "2023-01-10 01:11:40  实验 1 模型 1 training time = 14.88 s\r\n",
      "2023-01-10 01:11:40  Slice ID  1 : MAE = 0.3998, RMSE = 1.0537, NMAE = 0.4919, MRE = 0.4400, NPRE = 1.7890\r\n",
      "\r\n",
      "2023-01-10 01:11:40  \t实验 1 模型 2 开始分片训练\r\n",
      "2023-01-10 01:11:45  Epoch 10 : MAE : 0.6366  RMSE : 1.6658  NMAE : 0.7966  MRE : 0.6040  NPRE : 2.1784\r\n",
      "2023-01-10 01:11:50  Epoch 20 : MAE : 0.5064  RMSE : 1.3131  NMAE : 0.6336  MRE : 0.5320  NPRE : 1.9853\r\n",
      "2023-01-10 01:11:54  Epoch 30 : MAE : 0.4339  RMSE : 1.0951  NMAE : 0.5430  MRE : 0.4701  NPRE : 1.7436\r\n",
      "2023-01-10 01:11:59  Epoch 40 : MAE : 0.3991  RMSE : 0.9842  NMAE : 0.4995  MRE : 0.4258  NPRE : 1.9793\r\n",
      "2023-01-10 01:11:59  Epoch 41 : MAE : 0.3852  RMSE : 0.9498  NMAE : 0.4820  MRE : 0.4218  NPRE : 1.7110\r\n",
      "2023-01-10 01:11:59  实验 1 模型 2 training time = 13.27 s\r\n",
      "2023-01-10 01:11:59  Slice ID  2 : MAE = 0.3852, RMSE = 0.9498, NMAE = 0.4820, MRE = 0.4218, NPRE = 1.7110\r\n",
      "\r\n",
      "2023-01-10 01:11:59  \t实验 1 模型 3 开始分片训练\r\n",
      "2023-01-10 01:12:04  Epoch 10 : MAE : 0.6770  RMSE : 1.7910  NMAE : 0.8097  MRE : 0.6083  NPRE : 2.7236\r\n",
      "2023-01-10 01:12:09  Epoch 20 : MAE : 0.5282  RMSE : 1.4337  NMAE : 0.6317  MRE : 0.5064  NPRE : 2.1808\r\n",
      "2023-01-10 01:12:14  Epoch 30 : MAE : 0.4612  RMSE : 1.2234  NMAE : 0.5516  MRE : 0.4739  NPRE : 2.2668\r\n",
      "2023-01-10 01:12:14  Epoch 31 : MAE : 0.4570  RMSE : 1.2250  NMAE : 0.5465  MRE : 0.4622  NPRE : 2.0320\r\n",
      "2023-01-10 01:12:14  实验 1 模型 3 training time = 10.13 s\r\n",
      "2023-01-10 01:12:14  Slice ID  3 : MAE = 0.4570, RMSE = 1.2250, NMAE = 0.5465, MRE = 0.4622, NPRE = 2.0320\r\n",
      "\r\n",
      "2023-01-10 01:12:14  \t实验 1 模型 4 开始分片训练\r\n",
      "2023-01-10 01:12:19  Epoch 10 : MAE : 0.6733  RMSE : 1.7737  NMAE : 0.8186  MRE : 0.6151  NPRE : 1.8935\r\n",
      "2023-01-10 01:12:23  Epoch 20 : MAE : 0.5271  RMSE : 1.4137  NMAE : 0.6409  MRE : 0.5242  NPRE : 2.1306\r\n",
      "2023-01-10 01:12:28  Epoch 30 : MAE : 0.4541  RMSE : 1.2013  NMAE : 0.5521  MRE : 0.4640  NPRE : 2.0961\r\n",
      "2023-01-10 01:12:31  Epoch 37 : MAE : 0.4189  RMSE : 1.1074  NMAE : 0.5093  MRE : 0.4463  NPRE : 1.4597\r\n",
      "2023-01-10 01:12:31  实验 1 模型 4 training time = 11.57 s\r\n",
      "2023-01-10 01:12:31  Slice ID  4 : MAE = 0.4189, RMSE = 1.1074, NMAE = 0.5093, MRE = 0.4463, NPRE = 1.4597\r\n",
      "\r\n",
      "2023-01-10 01:12:31  \t实验 1 模型 5 开始分片训练\r\n",
      "2023-01-10 01:12:36  Epoch 10 : MAE : 0.6521  RMSE : 1.7365  NMAE : 0.8171  MRE : 0.5887  NPRE : 2.4761\r\n",
      "2023-01-10 01:12:40  Epoch 20 : MAE : 0.5002  RMSE : 1.3689  NMAE : 0.6268  MRE : 0.4872  NPRE : 1.9409\r\n",
      "2023-01-10 01:12:45  Epoch 30 : MAE : 0.4393  RMSE : 1.1785  NMAE : 0.5505  MRE : 0.4802  NPRE : 1.3097\r\n",
      "2023-01-10 01:12:50  Epoch 40 : MAE : 0.3956  RMSE : 1.0338  NMAE : 0.4957  MRE : 0.4184  NPRE : 1.9470\r\n",
      "2023-01-10 01:12:51  Epoch 42 : MAE : 0.3924  RMSE : 1.0353  NMAE : 0.4917  MRE : 0.4103  NPRE : 1.6423\r\n",
      "2023-01-10 01:12:51  实验 1 模型 5 training time = 13.75 s\r\n",
      "2023-01-10 01:12:51  Slice ID  5 : MAE = 0.3924, RMSE = 1.0353, NMAE = 0.4917, MRE = 0.4103, NPRE = 1.6423\r\n",
      "\r\n",
      "2023-01-10 01:12:51  \t实验 1 模型 6 开始分片训练\r\n",
      "2023-01-10 01:12:56  Epoch 10 : MAE : 0.6611  RMSE : 1.7424  NMAE : 0.7869  MRE : 0.6029  NPRE : 2.3404\r\n",
      "2023-01-10 01:13:00  Epoch 20 : MAE : 0.5141  RMSE : 1.3369  NMAE : 0.6120  MRE : 0.5573  NPRE : 1.3386\r\n",
      "2023-01-10 01:13:05  Epoch 30 : MAE : 0.4355  RMSE : 1.1073  NMAE : 0.5184  MRE : 0.4531  NPRE : 1.8489\r\n",
      "2023-01-10 01:13:08  Epoch 37 : MAE : 0.4064  RMSE : 1.0262  NMAE : 0.4838  MRE : 0.4111  NPRE : 1.9022\r\n",
      "2023-01-10 01:13:08  实验 1 模型 6 training time = 12.20 s\r\n",
      "2023-01-10 01:13:08  Slice ID  6 : MAE = 0.4064, RMSE = 1.0262, NMAE = 0.4838, MRE = 0.4111, NPRE = 1.9022\r\n",
      "\r\n",
      "2023-01-10 01:13:09  \t实验 1 模型 7 开始分片训练\r\n",
      "2023-01-10 01:13:13  Epoch 10 : MAE : 0.6360  RMSE : 1.7047  NMAE : 0.7961  MRE : 0.5773  NPRE : 2.0384\r\n",
      "2023-01-10 01:13:18  Epoch 20 : MAE : 0.5048  RMSE : 1.3789  NMAE : 0.6319  MRE : 0.5123  NPRE : 1.6634\r\n",
      "2023-01-10 01:13:23  Epoch 30 : MAE : 0.4380  RMSE : 1.1979  NMAE : 0.5483  MRE : 0.4383  NPRE : 1.8185\r\n",
      "2023-01-10 01:13:24  Epoch 32 : MAE : 0.4349  RMSE : 1.1747  NMAE : 0.5445  MRE : 0.4614  NPRE : 1.5940\r\n",
      "2023-01-10 01:13:24  实验 1 模型 7 training time = 10.38 s\r\n",
      "2023-01-10 01:13:24  Slice ID  7 : MAE = 0.4349, RMSE = 1.1747, NMAE = 0.5445, MRE = 0.4614, NPRE = 1.5940\r\n",
      "\r\n",
      "2023-01-10 01:13:24  \t实验 1 模型 8 开始分片训练\r\n",
      "2023-01-10 01:13:28  Epoch 10 : MAE : 0.6387  RMSE : 1.7006  NMAE : 0.7900  MRE : 0.5960  NPRE : 2.3656\r\n",
      "2023-01-10 01:13:33  Epoch 20 : MAE : 0.5021  RMSE : 1.3357  NMAE : 0.6211  MRE : 0.5259  NPRE : 2.4960\r\n",
      "2023-01-10 01:13:37  Epoch 30 : MAE : 0.4327  RMSE : 1.1377  NMAE : 0.5352  MRE : 0.4813  NPRE : 1.6968\r\n",
      "2023-01-10 01:13:38  Epoch 31 : MAE : 0.4292  RMSE : 1.1123  NMAE : 0.5308  MRE : 0.4758  NPRE : 1.9717\r\n",
      "2023-01-10 01:13:38  实验 1 模型 8 training time = 9.49 s\r\n",
      "2023-01-10 01:13:38  Slice ID  8 : MAE = 0.4292, RMSE = 1.1123, NMAE = 0.5308, MRE = 0.4758, NPRE = 1.9717\r\n",
      "\r\n",
      "2023-01-10 01:13:38  \t实验 1 模型 9 开始分片训练\r\n",
      "2023-01-10 01:13:42  Epoch 10 : MAE : 0.6565  RMSE : 1.7504  NMAE : 0.7932  MRE : 0.5707  NPRE : 2.6949\r\n",
      "2023-01-10 01:13:47  Epoch 20 : MAE : 0.5296  RMSE : 1.4239  NMAE : 0.6399  MRE : 0.5238  NPRE : 2.2427\r\n",
      "2023-01-10 01:13:52  Epoch 30 : MAE : 0.4423  RMSE : 1.1842  NMAE : 0.5344  MRE : 0.4445  NPRE : 1.9429\r\n",
      "2023-01-10 01:13:56  Epoch 40 : MAE : 0.3900  RMSE : 1.0175  NMAE : 0.4712  MRE : 0.3933  NPRE : 1.5620\r\n",
      "2023-01-10 01:14:01  Epoch 50 : MAE : 0.3577  RMSE : 0.9383  NMAE : 0.4321  MRE : 0.3679  NPRE : 1.4793\r\n",
      "2023-01-10 01:14:02  Epoch 51 : MAE : 0.3560  RMSE : 0.9275  NMAE : 0.4302  MRE : 0.3809  NPRE : 1.4088\r\n",
      "2023-01-10 01:14:02  实验 1 模型 9 training time = 16.71 s\r\n",
      "2023-01-10 01:14:02  Slice ID  9 : MAE = 0.3560, RMSE = 0.9275, NMAE = 0.4302, MRE = 0.3809, NPRE = 1.4088\r\n",
      "\r\n",
      "2023-01-10 01:14:02  \t实验 1 模型 10 开始分片训练\r\n",
      "2023-01-10 01:14:07  Epoch 10 : MAE : 0.6504  RMSE : 1.7577  NMAE : 0.7914  MRE : 0.5827  NPRE : 2.1692\r\n",
      "2023-01-10 01:14:11  Epoch 20 : MAE : 0.5069  RMSE : 1.3766  NMAE : 0.6168  MRE : 0.5186  NPRE : 1.8166\r\n",
      "2023-01-10 01:14:16  Epoch 30 : MAE : 0.4364  RMSE : 1.1634  NMAE : 0.5310  MRE : 0.4773  NPRE : 1.5087\r\n",
      "2023-01-10 01:14:19  Epoch 36 : MAE : 0.4159  RMSE : 1.0982  NMAE : 0.5060  MRE : 0.4299  NPRE : 1.8145\r\n",
      "2023-01-10 01:14:19  实验 1 模型 10 training time = 11.86 s\r\n",
      "2023-01-10 01:14:19  Slice ID  10 : MAE = 0.4159, RMSE = 1.0982, NMAE = 0.5060, MRE = 0.4299, NPRE = 1.8145\r\n",
      "\r\n",
      "2023-01-10 01:14:19  \t所有切片模型训练完毕\r\n",
      "2023-01-10 01:14:19  \t开始训练聚合模型\r\n",
      "2023-01-10 01:14:26  Epoch  1 : MAE : 0.6642  RMSE : 1.7452  NMAE : 0.8140  MRE : 0.5067  NPRE : 2.4042\r\n",
      "2023-01-10 01:14:33  Epoch  2 : MAE : 0.6072  RMSE : 1.6368  NMAE : 0.7441  MRE : 0.4681  NPRE : 1.9324\r\n",
      "2023-01-10 01:14:40  Epoch  3 : MAE : 0.5853  RMSE : 1.6060  NMAE : 0.7172  MRE : 0.4520  NPRE : 1.9088\r\n",
      "2023-01-10 01:14:47  Epoch  4 : MAE : 0.5735  RMSE : 1.5727  NMAE : 0.7029  MRE : 0.4438  NPRE : 2.1416\r\n",
      "2023-01-10 01:14:54  Epoch  5 : MAE : 0.5629  RMSE : 1.5562  NMAE : 0.6899  MRE : 0.4346  NPRE : 2.0902\r\n",
      "2023-01-10 01:15:01  Epoch  6 : MAE : 0.5524  RMSE : 1.5384  NMAE : 0.6770  MRE : 0.4324  NPRE : 1.9385\r\n",
      "2023-01-10 01:15:08  Epoch  7 : MAE : 0.5449  RMSE : 1.5297  NMAE : 0.6678  MRE : 0.4182  NPRE : 1.9183\r\n",
      "2023-01-10 01:15:08  \t实验 1 聚合模型训练完毕\r\n",
      "2023-01-10 01:15:09  Result : MAE : 0.5445  RMSE : 1.5268  NMAE : 0.6673  MRE : 0.4190  NPRE : 1.9141\r\n",
      "2023-01-10 01:15:09  \t实验 1 : Aggregators training time = 42.96 s\r\n",
      "\r\n",
      "2023-01-10 01:15:09  \t聚合模型训练完毕\r\n",
      "2023-01-10 01:15:09  Round 1 : MAE = 0.5445, RMSE = 1.5268, NMAE = 0.6673, MRE = 0.4190, NPRE = 1.9141\r\n",
      "2023-01-10 01:15:09  Dataset : rt     interaction : NeuCF\r\n",
      "2023-01-10 01:15:09  Density : 10.00%, slice_epochs : 200, agg_epochs : 7\r\n",
      "2023-01-10 01:15:09  Part_type : 1,    slices : 10,       devices : gpu\r\n",
      "\r\n",
      "\r\n",
      "2023-01-10 01:15:09  Density 10.00% : MAE = 0.544, RMSE = 1.527, NMAE = 0.667, MRE = 0.419, NPRE = 1.914\r\n",
      "\r\n",
      "2023-01-10 01:15:09  Experiment success!\r\n"
     ]
    }
   ],
   "source": [
    "!python Experiment.py --dataset rt --interaction NeuCF --rounds 1 --agg_epochs 7 --density 0.10 --part_type 1 --processed 0 --debug 1 --agg_type softmax"
   ]
  },
  {
   "cell_type": "code",
   "execution_count": 68,
   "outputs": [
    {
     "name": "stdout",
     "output_type": "stream",
     "text": [
      "2023-01-10 01:15:10  Namespace(agg_epochs=7, agg_type='softmax', balance=0, batch_size=128, dataset='rt', debug=1, density=0.1, devices='gpu', dimension=64, dropout=0.1, interaction='NeuCF', kmeans_type=1, node2vec=0, node2vec_batchsize=32, node2vec_dim=128, node2vec_epochs=20, node2vec_length=10, node2vec_walk=50, node2vec_windows=3, num_layers=2, order=2, part_iter=50, part_type=2, path='./datasets/data/WSDREAM/', processed=0, retrain=0, rounds=1, save_model=1, slice_epochs=200, slices=10, subagg=1, verbose=10)\r\n",
      "2023-01-10 01:15:10  Experiment start!\r\n",
      "2023-01-10 01:15:10  Dataset : rt     interaction : NeuCF\r\n",
      "2023-01-10 01:15:10  Density : 10.00%, slice_epochs : 200, agg_epochs : 7\r\n",
      "2023-01-10 01:15:10  Part_type : 2,    slices : 10,       devices : gpu\r\n",
      "\r\n",
      "2023-01-10 01:15:10  Round 1 experiment start!\r\n",
      "2023-01-10 01:15:10  \t原始数据集读取完毕\r\n",
      "2023-01-10 01:15:11  \tSISA 切割完毕\r\n",
      "2023-01-10 01:15:11  \t分切数据执行完毕\r\n",
      "2023-01-10 01:15:13  \t模型加载完毕\r\n",
      "2023-01-10 01:15:13  \t准备训练切片模型\r\n",
      "2023-01-10 01:15:13  \t实验 1 模型 1 开始分片训练\r\n",
      "2023-01-10 01:15:17  Epoch 10 : MAE : 0.5610  RMSE : 1.6090  NMAE : 0.8940  MRE : 0.5889  NPRE : 2.1541\r\n",
      "2023-01-10 01:15:21  Epoch 20 : MAE : 0.4400  RMSE : 1.2244  NMAE : 0.7011  MRE : 0.5050  NPRE : 1.4739\r\n",
      "2023-01-10 01:15:25  Epoch 29 : MAE : 0.3950  RMSE : 1.1010  NMAE : 0.6296  MRE : 0.4702  NPRE : 1.3687\r\n",
      "2023-01-10 01:15:25  实验 1 模型 1 training time = 8.63 s\r\n",
      "2023-01-10 01:15:25  Slice ID  1 : MAE = 0.3950, RMSE = 1.1010, NMAE = 0.6296, MRE = 0.4702, NPRE = 1.3687\r\n",
      "\r\n",
      "2023-01-10 01:15:25  \t实验 1 模型 2 开始分片训练\r\n",
      "2023-01-10 01:15:30  Epoch 10 : MAE : 0.6426  RMSE : 1.7356  NMAE : 0.7944  MRE : 0.5808  NPRE : 2.8689\r\n",
      "2023-01-10 01:15:34  Epoch 20 : MAE : 0.5254  RMSE : 1.4497  NMAE : 0.6495  MRE : 0.5134  NPRE : 2.6606\r\n",
      "2023-01-10 01:15:39  Epoch 30 : MAE : 0.4532  RMSE : 1.2704  NMAE : 0.5603  MRE : 0.4548  NPRE : 1.8642\r\n",
      "2023-01-10 01:15:43  Epoch 40 : MAE : 0.3895  RMSE : 1.1004  NMAE : 0.4815  MRE : 0.3758  NPRE : 1.7339\r\n",
      "2023-01-10 01:15:48  Epoch 50 : MAE : 0.3614  RMSE : 1.0075  NMAE : 0.4468  MRE : 0.3645  NPRE : 1.3111\r\n",
      "2023-01-10 01:15:49  Epoch 52 : MAE : 0.3595  RMSE : 0.9905  NMAE : 0.4444  MRE : 0.3526  NPRE : 1.8280\r\n",
      "2023-01-10 01:15:49  实验 1 模型 2 training time = 16.10 s\r\n",
      "2023-01-10 01:15:49  Slice ID  2 : MAE = 0.3595, RMSE = 0.9905, NMAE = 0.4444, MRE = 0.3526, NPRE = 1.8280\r\n",
      "\r\n",
      "2023-01-10 01:15:49  \t实验 1 模型 3 开始分片训练\r\n",
      "2023-01-10 01:15:53  Epoch 10 : MAE : 0.6137  RMSE : 1.6612  NMAE : 0.8069  MRE : 0.5738  NPRE : 2.4929\r\n",
      "2023-01-10 01:15:58  Epoch 20 : MAE : 0.4653  RMSE : 1.2893  NMAE : 0.6119  MRE : 0.4587  NPRE : 1.9450\r\n",
      "2023-01-10 01:16:02  Epoch 30 : MAE : 0.4090  RMSE : 1.1313  NMAE : 0.5378  MRE : 0.4257  NPRE : 1.5568\r\n",
      "2023-01-10 01:16:05  Epoch 38 : MAE : 0.3743  RMSE : 1.0268  NMAE : 0.4922  MRE : 0.4067  NPRE : 1.6444\r\n",
      "2023-01-10 01:16:05  实验 1 模型 3 training time = 11.43 s\r\n",
      "2023-01-10 01:16:05  Slice ID  3 : MAE = 0.3743, RMSE = 1.0268, NMAE = 0.4922, MRE = 0.4067, NPRE = 1.6444\r\n",
      "\r\n",
      "2023-01-10 01:16:05  \t实验 1 模型 4 开始分片训练\r\n",
      "2023-01-10 01:16:10  Epoch 10 : MAE : 0.6540  RMSE : 1.7490  NMAE : 0.7737  MRE : 0.5658  NPRE : 2.2825\r\n",
      "2023-01-10 01:16:14  Epoch 20 : MAE : 0.5216  RMSE : 1.4169  NMAE : 0.6172  MRE : 0.4906  NPRE : 2.0871\r\n",
      "2023-01-10 01:16:18  Epoch 30 : MAE : 0.4455  RMSE : 1.1933  NMAE : 0.5270  MRE : 0.4390  NPRE : 1.7734\r\n",
      "2023-01-10 01:16:23  Epoch 40 : MAE : 0.4015  RMSE : 1.0887  NMAE : 0.4750  MRE : 0.4011  NPRE : 1.7988\r\n",
      "2023-01-10 01:16:28  Epoch 50 : MAE : 0.3545  RMSE : 1.0015  NMAE : 0.4195  MRE : 0.3294  NPRE : 1.3090\r\n",
      "2023-01-10 01:16:29  Epoch 52 : MAE : 0.3507  RMSE : 0.9797  NMAE : 0.4149  MRE : 0.3290  NPRE : 1.6705\r\n",
      "2023-01-10 01:16:29  实验 1 模型 4 training time = 15.97 s\r\n",
      "2023-01-10 01:16:29  Slice ID  4 : MAE = 0.3507, RMSE = 0.9797, NMAE = 0.4149, MRE = 0.3290, NPRE = 1.6705\r\n",
      "\r\n",
      "2023-01-10 01:16:29  \t实验 1 模型 5 开始分片训练\r\n",
      "2023-01-10 01:16:33  Epoch 10 : MAE : 0.7206  RMSE : 1.8749  NMAE : 0.7409  MRE : 0.5300  NPRE : 2.2575\r\n",
      "2023-01-10 01:16:37  Epoch 20 : MAE : 0.5914  RMSE : 1.5764  NMAE : 0.6081  MRE : 0.4865  NPRE : 1.6437\r\n",
      "2023-01-10 01:16:42  Epoch 30 : MAE : 0.5245  RMSE : 1.3719  NMAE : 0.5393  MRE : 0.4523  NPRE : 1.8635\r\n",
      "2023-01-10 01:16:46  Epoch 40 : MAE : 0.4525  RMSE : 1.1921  NMAE : 0.4653  MRE : 0.4006  NPRE : 1.4400\r\n",
      "2023-01-10 01:16:51  Epoch 50 : MAE : 0.3960  RMSE : 1.0635  NMAE : 0.4072  MRE : 0.3346  NPRE : 1.1166\r\n",
      "2023-01-10 01:16:52  Epoch 53 : MAE : 0.3975  RMSE : 1.0366  NMAE : 0.4087  MRE : 0.3390  NPRE : 1.1734\r\n",
      "2023-01-10 01:16:52  实验 1 模型 5 training time = 16.04 s\r\n",
      "2023-01-10 01:16:52  Slice ID  5 : MAE = 0.3975, RMSE = 1.0366, NMAE = 0.4087, MRE = 0.3390, NPRE = 1.1734\r\n",
      "\r\n",
      "2023-01-10 01:16:52  \t实验 1 模型 6 开始分片训练\r\n",
      "2023-01-10 01:16:56  Epoch 10 : MAE : 0.5508  RMSE : 1.6221  NMAE : 0.8041  MRE : 0.5246  NPRE : 2.0062\r\n",
      "2023-01-10 01:17:01  Epoch 20 : MAE : 0.4362  RMSE : 1.2667  NMAE : 0.6368  MRE : 0.4204  NPRE : 1.8973\r\n",
      "2023-01-10 01:17:05  Epoch 30 : MAE : 0.3868  RMSE : 1.0988  NMAE : 0.5648  MRE : 0.4209  NPRE : 1.5386\r\n",
      "2023-01-10 01:17:08  Epoch 37 : MAE : 0.3594  RMSE : 1.0549  NMAE : 0.5247  MRE : 0.3682  NPRE : 1.0585\r\n",
      "2023-01-10 01:17:08  实验 1 模型 6 training time = 10.83 s\r\n",
      "2023-01-10 01:17:08  Slice ID  6 : MAE = 0.3594, RMSE = 1.0549, NMAE = 0.5247, MRE = 0.3682, NPRE = 1.0585\r\n",
      "\r\n",
      "2023-01-10 01:17:08  \t实验 1 模型 7 开始分片训练\r\n",
      "2023-01-10 01:17:12  Epoch 10 : MAE : 0.6469  RMSE : 1.7325  NMAE : 0.7637  MRE : 0.5655  NPRE : 2.0212\r\n",
      "2023-01-10 01:17:17  Epoch 20 : MAE : 0.4809  RMSE : 1.3795  NMAE : 0.5678  MRE : 0.4407  NPRE : 1.6681\r\n",
      "2023-01-10 01:17:21  Epoch 30 : MAE : 0.4273  RMSE : 1.2331  NMAE : 0.5045  MRE : 0.4073  NPRE : 1.4784\r\n",
      "2023-01-10 01:17:26  Epoch 40 : MAE : 0.3832  RMSE : 1.1307  NMAE : 0.4524  MRE : 0.3711  NPRE : 1.4124\r\n",
      "2023-01-10 01:17:28  Epoch 44 : MAE : 0.3725  RMSE : 1.0984  NMAE : 0.4397  MRE : 0.3681  NPRE : 1.2193\r\n",
      "2023-01-10 01:17:28  实验 1 模型 7 training time = 13.62 s\r\n",
      "2023-01-10 01:17:28  Slice ID  7 : MAE = 0.3725, RMSE = 1.0984, NMAE = 0.4397, MRE = 0.3681, NPRE = 1.2193\r\n",
      "\r\n",
      "2023-01-10 01:17:28  \t实验 1 模型 8 开始分片训练\r\n",
      "2023-01-10 01:17:32  Epoch 10 : MAE : 0.6030  RMSE : 1.6368  NMAE : 0.7819  MRE : 0.5917  NPRE : 2.1793\r\n",
      "2023-01-10 01:17:37  Epoch 20 : MAE : 0.4634  RMSE : 1.3215  NMAE : 0.6009  MRE : 0.4598  NPRE : 1.5298\r\n",
      "2023-01-10 01:17:41  Epoch 30 : MAE : 0.3981  RMSE : 1.0839  NMAE : 0.5162  MRE : 0.4338  NPRE : 1.5655\r\n",
      "2023-01-10 01:17:45  Epoch 38 : MAE : 0.3668  RMSE : 1.0075  NMAE : 0.4757  MRE : 0.3862  NPRE : 1.3822\r\n",
      "2023-01-10 01:17:45  实验 1 模型 8 training time = 11.89 s\r\n",
      "2023-01-10 01:17:45  Slice ID  8 : MAE = 0.3668, RMSE = 1.0075, NMAE = 0.4757, MRE = 0.3862, NPRE = 1.3822\r\n",
      "\r\n",
      "2023-01-10 01:17:45  \t实验 1 模型 9 开始分片训练\r\n",
      "2023-01-10 01:17:49  Epoch 10 : MAE : 0.5906  RMSE : 1.6665  NMAE : 0.8132  MRE : 0.5580  NPRE : 2.6756\r\n",
      "2023-01-10 01:17:54  Epoch 20 : MAE : 0.4622  RMSE : 1.3283  NMAE : 0.6363  MRE : 0.4998  NPRE : 1.9294\r\n",
      "2023-01-10 01:17:56  Epoch 26 : MAE : 0.4291  RMSE : 1.2447  NMAE : 0.5908  MRE : 0.4681  NPRE : 1.3268\r\n",
      "2023-01-10 01:17:56  实验 1 模型 9 training time = 7.59 s\r\n",
      "2023-01-10 01:17:56  Slice ID  9 : MAE = 0.4291, RMSE = 1.2447, NMAE = 0.5908, MRE = 0.4681, NPRE = 1.3268\r\n",
      "\r\n",
      "2023-01-10 01:17:56  \t实验 1 模型 10 开始分片训练\r\n",
      "2023-01-10 01:18:01  Epoch 10 : MAE : 0.7294  RMSE : 1.7821  NMAE : 0.6942  MRE : 0.5967  NPRE : 2.5627\r\n",
      "2023-01-10 01:18:05  Epoch 20 : MAE : 0.5650  RMSE : 1.4543  NMAE : 0.5377  MRE : 0.4880  NPRE : 1.7390\r\n",
      "2023-01-10 01:18:10  Epoch 30 : MAE : 0.4691  RMSE : 1.2260  NMAE : 0.4465  MRE : 0.4131  NPRE : 1.8075\r\n",
      "2023-01-10 01:18:14  Epoch 40 : MAE : 0.4237  RMSE : 1.1152  NMAE : 0.4033  MRE : 0.3785  NPRE : 1.2679\r\n",
      "2023-01-10 01:18:15  Epoch 42 : MAE : 0.4176  RMSE : 1.0794  NMAE : 0.3975  MRE : 0.3730  NPRE : 1.7127\r\n",
      "2023-01-10 01:18:15  实验 1 模型 10 training time = 13.14 s\r\n",
      "2023-01-10 01:18:15  Slice ID  10 : MAE = 0.4176, RMSE = 1.0794, NMAE = 0.3975, MRE = 0.3730, NPRE = 1.7127\r\n",
      "\r\n",
      "2023-01-10 01:18:15  \t所有切片模型训练完毕\r\n",
      "2023-01-10 01:18:15  \t开始训练聚合模型\r\n",
      "2023-01-10 01:18:22  Epoch  1 : MAE : 0.6818  RMSE : 1.7233  NMAE : 0.8424  MRE : 0.5694  NPRE : 2.7219\r\n",
      "2023-01-10 01:18:29  Epoch  2 : MAE : 0.6195  RMSE : 1.6289  NMAE : 0.7654  MRE : 0.5012  NPRE : 2.2806\r\n",
      "2023-01-10 01:18:35  Epoch  3 : MAE : 0.5965  RMSE : 1.5881  NMAE : 0.7370  MRE : 0.4951  NPRE : 1.9227\r\n",
      "2023-01-10 01:18:42  Epoch  4 : MAE : 0.5817  RMSE : 1.5557  NMAE : 0.7187  MRE : 0.4782  NPRE : 2.5667\r\n",
      "2023-01-10 01:18:48  Epoch  5 : MAE : 0.5718  RMSE : 1.5391  NMAE : 0.7065  MRE : 0.4672  NPRE : 2.3583\r\n",
      "2023-01-10 01:18:55  Epoch  6 : MAE : 0.5596  RMSE : 1.5252  NMAE : 0.6914  MRE : 0.4535  NPRE : 2.0237\r\n",
      "2023-01-10 01:19:02  Epoch  7 : MAE : 0.5591  RMSE : 1.5179  NMAE : 0.6908  MRE : 0.4772  NPRE : 1.6950\r\n",
      "2023-01-10 01:19:02  \t实验 1 聚合模型训练完毕\r\n",
      "2023-01-10 01:19:03  Result : MAE : 0.5596  RMSE : 1.5199  NMAE : 0.6914  MRE : 0.4756  NPRE : 1.6974\r\n",
      "2023-01-10 01:19:03  \t实验 1 : Aggregators training time = 40.51 s\r\n",
      "\r\n",
      "2023-01-10 01:19:03  \t聚合模型训练完毕\r\n",
      "2023-01-10 01:19:03  Round 1 : MAE = 0.5596, RMSE = 1.5199, NMAE = 0.6914, MRE = 0.4756, NPRE = 1.6974\r\n",
      "2023-01-10 01:19:03  Dataset : rt     interaction : NeuCF\r\n",
      "2023-01-10 01:19:03  Density : 10.00%, slice_epochs : 200, agg_epochs : 7\r\n",
      "2023-01-10 01:19:03  Part_type : 2,    slices : 10,       devices : gpu\r\n",
      "\r\n",
      "\r\n",
      "2023-01-10 01:19:03  Density 10.00% : MAE = 0.560, RMSE = 1.520, NMAE = 0.691, MRE = 0.476, NPRE = 1.697\r\n",
      "\r\n",
      "2023-01-10 01:19:03  Experiment success!\r\n"
     ]
    }
   ],
   "source": [
    "!python Experiment.py --dataset rt --interaction NeuCF --rounds 1 --agg_epochs 7 --density 0.10 --part_type 2 --processed 0 --debug 1 --agg_type softmax"
   ],
   "metadata": {
    "collapsed": false
   }
  },
  {
   "cell_type": "code",
   "execution_count": 69,
   "outputs": [
    {
     "name": "stdout",
     "output_type": "stream",
     "text": [
      "2023-01-10 01:19:04  Namespace(agg_epochs=7, agg_type='softmax', balance=0, batch_size=128, dataset='rt', debug=1, density=0.1, devices='gpu', dimension=64, dropout=0.1, interaction='NeuCF', kmeans_type=1, node2vec=0, node2vec_batchsize=32, node2vec_dim=128, node2vec_epochs=20, node2vec_length=10, node2vec_walk=50, node2vec_windows=3, num_layers=2, order=2, part_iter=50, part_type=3, path='./datasets/data/WSDREAM/', processed=0, retrain=0, rounds=1, save_model=1, slice_epochs=200, slices=10, subagg=1, verbose=10)\r\n",
      "2023-01-10 01:19:04  Experiment start!\r\n",
      "2023-01-10 01:19:04  Dataset : rt     interaction : NeuCF\r\n",
      "2023-01-10 01:19:04  Density : 10.00%, slice_epochs : 200, agg_epochs : 7\r\n",
      "2023-01-10 01:19:04  Part_type : 3,    slices : 10,       devices : gpu\r\n",
      "\r\n",
      "2023-01-10 01:19:04  Round 1 experiment start!\r\n",
      "2023-01-10 01:19:04  \t原始数据集读取完毕\r\n",
      "2023-01-10 01:19:05  \tReceraser 基于交互切割完毕\r\n",
      "2023-01-10 01:19:05  \t分切数据执行完毕\r\n",
      "2023-01-10 01:19:07  \t模型加载完毕\r\n",
      "2023-01-10 01:19:07  \t准备训练切片模型\r\n",
      "2023-01-10 01:19:07  \t实验 1 模型 1 开始分片训练\r\n",
      "2023-01-10 01:19:13  Epoch 10 : MAE : 0.5450  RMSE : 1.4804  NMAE : 0.6864  MRE : 0.5132  NPRE : 2.0219\r\n",
      "2023-01-10 01:19:18  Epoch 20 : MAE : 0.4541  RMSE : 1.2263  NMAE : 0.5719  MRE : 0.4979  NPRE : 1.4915\r\n",
      "2023-01-10 01:19:18  Epoch 20 : MAE : 0.4541  RMSE : 1.2263  NMAE : 0.5719  MRE : 0.4979  NPRE : 1.4915\r\n",
      "2023-01-10 01:19:18  实验 1 模型 1 training time = 7.14 s\r\n",
      "2023-01-10 01:19:18  Slice ID  1 : MAE = 0.4541, RMSE = 1.2263, NMAE = 0.5719, MRE = 0.4979, NPRE = 1.4915\r\n",
      "\r\n",
      "2023-01-10 01:19:18  \t实验 1 模型 2 开始分片训练\r\n",
      "2023-01-10 01:19:22  Epoch 10 : MAE : 0.5445  RMSE : 1.4967  NMAE : 0.7018  MRE : 0.5291  NPRE : 1.7502\r\n",
      "2023-01-10 01:19:26  Epoch 20 : MAE : 0.4614  RMSE : 1.2665  NMAE : 0.5946  MRE : 0.4738  NPRE : 1.7588\r\n",
      "2023-01-10 01:19:30  Epoch 30 : MAE : 0.4071  RMSE : 1.1091  NMAE : 0.5246  MRE : 0.4488  NPRE : 1.6439\r\n",
      "2023-01-10 01:19:31  Epoch 31 : MAE : 0.4128  RMSE : 1.1006  NMAE : 0.5320  MRE : 0.4598  NPRE : 1.7813\r\n",
      "2023-01-10 01:19:31  实验 1 模型 2 training time = 8.82 s\r\n",
      "2023-01-10 01:19:31  Slice ID  2 : MAE = 0.4128, RMSE = 1.1006, NMAE = 0.5320, MRE = 0.4598, NPRE = 1.7813\r\n",
      "\r\n",
      "2023-01-10 01:19:31  \t实验 1 模型 3 开始分片训练\r\n",
      "2023-01-10 01:19:36  Epoch 10 : MAE : 0.6424  RMSE : 1.6258  NMAE : 0.6676  MRE : 0.5460  NPRE : 2.3353\r\n",
      "2023-01-10 01:19:41  Epoch 20 : MAE : 0.5182  RMSE : 1.3329  NMAE : 0.5385  MRE : 0.4796  NPRE : 1.4135\r\n",
      "2023-01-10 01:19:47  Epoch 30 : MAE : 0.4646  RMSE : 1.2098  NMAE : 0.4828  MRE : 0.4188  NPRE : 1.7329\r\n",
      "2023-01-10 01:19:49  Epoch 32 : MAE : 0.4681  RMSE : 1.1986  NMAE : 0.4865  MRE : 0.4326  NPRE : 2.3442\r\n",
      "2023-01-10 01:19:49  实验 1 模型 3 training time = 12.29 s\r\n",
      "2023-01-10 01:19:49  Slice ID  3 : MAE = 0.4681, RMSE = 1.1986, NMAE = 0.4865, MRE = 0.4326, NPRE = 2.3442\r\n",
      "\r\n",
      "2023-01-10 01:19:49  \t实验 1 模型 4 开始分片训练\r\n",
      "2023-01-10 01:19:55  Epoch 10 : MAE : 0.5368  RMSE : 1.4907  NMAE : 0.7496  MRE : 0.5363  NPRE : 2.2920\r\n",
      "2023-01-10 01:20:01  Epoch 20 : MAE : 0.4458  RMSE : 1.2607  NMAE : 0.6225  MRE : 0.4558  NPRE : 1.9670\r\n",
      "2023-01-10 01:20:06  Epoch 30 : MAE : 0.4022  RMSE : 1.1310  NMAE : 0.5616  MRE : 0.4257  NPRE : 1.5992\r\n",
      "2023-01-10 01:20:10  Epoch 38 : MAE : 0.3814  RMSE : 1.0749  NMAE : 0.5325  MRE : 0.3855  NPRE : 1.6452\r\n",
      "2023-01-10 01:20:10  实验 1 模型 4 training time = 14.75 s\r\n",
      "2023-01-10 01:20:10  Slice ID  4 : MAE = 0.3814, RMSE = 1.0749, NMAE = 0.5325, MRE = 0.3855, NPRE = 1.6452\r\n",
      "\r\n",
      "2023-01-10 01:20:11  \t实验 1 模型 5 开始分片训练\r\n",
      "2023-01-10 01:20:15  Epoch 10 : MAE : 0.5730  RMSE : 1.6077  NMAE : 0.8017  MRE : 0.6163  NPRE : 2.2183\r\n",
      "2023-01-10 01:20:18  Epoch 20 : MAE : 0.4617  RMSE : 1.3094  NMAE : 0.6460  MRE : 0.4914  NPRE : 2.2101\r\n",
      "2023-01-10 01:20:22  Epoch 30 : MAE : 0.4024  RMSE : 1.1541  NMAE : 0.5630  MRE : 0.4430  NPRE : 1.7022\r\n",
      "2023-01-10 01:20:26  Epoch 40 : MAE : 0.3713  RMSE : 1.0509  NMAE : 0.5195  MRE : 0.4203  NPRE : 1.8429\r\n",
      "2023-01-10 01:20:27  Epoch 42 : MAE : 0.3639  RMSE : 1.0487  NMAE : 0.5092  MRE : 0.4240  NPRE : 1.2538\r\n",
      "2023-01-10 01:20:27  实验 1 模型 5 training time = 11.38 s\r\n",
      "2023-01-10 01:20:27  Slice ID  5 : MAE = 0.3639, RMSE = 1.0487, NMAE = 0.5092, MRE = 0.4240, NPRE = 1.2538\r\n",
      "\r\n",
      "2023-01-10 01:20:27  \t实验 1 模型 6 开始分片训练\r\n",
      "2023-01-10 01:20:32  Epoch 10 : MAE : 0.6260  RMSE : 1.6323  NMAE : 0.6612  MRE : 0.5351  NPRE : 1.8441\r\n",
      "2023-01-10 01:20:38  Epoch 20 : MAE : 0.5058  RMSE : 1.3412  NMAE : 0.5342  MRE : 0.4231  NPRE : 1.9933\r\n",
      "2023-01-10 01:20:41  Epoch 26 : MAE : 0.4877  RMSE : 1.2874  NMAE : 0.5151  MRE : 0.4188  NPRE : 1.7371\r\n",
      "2023-01-10 01:20:41  实验 1 模型 6 training time = 9.29 s\r\n",
      "2023-01-10 01:20:41  Slice ID  6 : MAE = 0.4877, RMSE = 1.2874, NMAE = 0.5151, MRE = 0.4188, NPRE = 1.7371\r\n",
      "\r\n",
      "2023-01-10 01:20:41  \t实验 1 模型 7 开始分片训练\r\n",
      "2023-01-10 01:20:45  Epoch 10 : MAE : 0.5767  RMSE : 1.5425  NMAE : 0.6871  MRE : 0.5326  NPRE : 2.1062\r\n",
      "2023-01-10 01:20:50  Epoch 20 : MAE : 0.4832  RMSE : 1.3277  NMAE : 0.5757  MRE : 0.4486  NPRE : 1.8644\r\n",
      "2023-01-10 01:20:54  Epoch 30 : MAE : 0.4402  RMSE : 1.1982  NMAE : 0.5245  MRE : 0.4142  NPRE : 2.0140\r\n",
      "2023-01-10 01:20:57  Epoch 36 : MAE : 0.4210  RMSE : 1.1488  NMAE : 0.5015  MRE : 0.4011  NPRE : 1.6886\r\n",
      "2023-01-10 01:20:57  实验 1 模型 7 training time = 11.00 s\r\n",
      "2023-01-10 01:20:57  Slice ID  7 : MAE = 0.4210, RMSE = 1.1488, NMAE = 0.5015, MRE = 0.4011, NPRE = 1.6886\r\n",
      "\r\n",
      "2023-01-10 01:20:57  \t实验 1 模型 8 开始分片训练\r\n",
      "2023-01-10 01:21:02  Epoch 10 : MAE : 0.5228  RMSE : 1.4654  NMAE : 0.6704  MRE : 0.5254  NPRE : 1.6086\r\n",
      "2023-01-10 01:21:07  Epoch 20 : MAE : 0.4453  RMSE : 1.3223  NMAE : 0.5711  MRE : 0.4379  NPRE : 1.5353\r\n",
      "2023-01-10 01:21:08  Epoch 22 : MAE : 0.4459  RMSE : 1.3028  NMAE : 0.5718  MRE : 0.4290  NPRE : 1.7110\r\n",
      "2023-01-10 01:21:08  实验 1 模型 8 training time = 7.23 s\r\n",
      "2023-01-10 01:21:08  Slice ID  8 : MAE = 0.4459, RMSE = 1.3028, NMAE = 0.5718, MRE = 0.4290, NPRE = 1.7110\r\n",
      "\r\n",
      "2023-01-10 01:21:08  \t实验 1 模型 9 开始分片训练\r\n",
      "2023-01-10 01:21:11  Epoch 10 : MAE : 0.5735  RMSE : 1.6266  NMAE : 0.8182  MRE : 0.5809  NPRE : 2.6569\r\n",
      "2023-01-10 01:21:15  Epoch 20 : MAE : 0.4444  RMSE : 1.2475  NMAE : 0.6341  MRE : 0.5064  NPRE : 1.9646\r\n",
      "2023-01-10 01:21:19  Epoch 30 : MAE : 0.3868  RMSE : 1.0989  NMAE : 0.5519  MRE : 0.4315  NPRE : 1.7642\r\n",
      "2023-01-10 01:21:21  Epoch 37 : MAE : 0.3689  RMSE : 1.0312  NMAE : 0.5263  MRE : 0.4480  NPRE : 1.6358\r\n",
      "2023-01-10 01:21:21  实验 1 模型 9 training time = 9.34 s\r\n",
      "2023-01-10 01:21:21  Slice ID  9 : MAE = 0.3689, RMSE = 1.0312, NMAE = 0.5263, MRE = 0.4480, NPRE = 1.6358\r\n",
      "\r\n",
      "2023-01-10 01:21:21  \t实验 1 模型 10 开始分片训练\r\n",
      "2023-01-10 01:21:23  Epoch 10 : MAE : 0.6377  RMSE : 1.7949  NMAE : 0.8367  MRE : 0.5758  NPRE : 2.1755\r\n",
      "2023-01-10 01:21:25  Epoch 20 : MAE : 0.5184  RMSE : 1.4876  NMAE : 0.6802  MRE : 0.4936  NPRE : 1.7500\r\n",
      "2023-01-10 01:21:27  Epoch 30 : MAE : 0.4358  RMSE : 1.2804  NMAE : 0.5718  MRE : 0.4336  NPRE : 1.1298\r\n",
      "2023-01-10 01:21:29  Epoch 40 : MAE : 0.3930  RMSE : 1.1550  NMAE : 0.5156  MRE : 0.3908  NPRE : 1.3997\r\n",
      "2023-01-10 01:21:30  Epoch 42 : MAE : 0.3956  RMSE : 1.1320  NMAE : 0.5191  MRE : 0.4087  NPRE : 1.6835\r\n",
      "2023-01-10 01:21:30  实验 1 模型 10 training time = 5.96 s\r\n",
      "2023-01-10 01:21:30  Slice ID  10 : MAE = 0.3956, RMSE = 1.1320, NMAE = 0.5191, MRE = 0.4087, NPRE = 1.6835\r\n",
      "\r\n",
      "2023-01-10 01:21:30  \t所有切片模型训练完毕\r\n",
      "2023-01-10 01:21:30  \t开始训练聚合模型\r\n",
      "2023-01-10 01:21:37  Epoch  1 : MAE : 0.6821  RMSE : 1.8091  NMAE : 0.8436  MRE : 0.5203  NPRE : 2.4537\r\n",
      "2023-01-10 01:21:43  Epoch  2 : MAE : 0.6342  RMSE : 1.7195  NMAE : 0.7844  MRE : 0.4902  NPRE : 2.0237\r\n",
      "2023-01-10 01:21:50  Epoch  3 : MAE : 0.6008  RMSE : 1.6482  NMAE : 0.7431  MRE : 0.4689  NPRE : 1.9001\r\n",
      "2023-01-10 01:21:57  Epoch  4 : MAE : 0.5816  RMSE : 1.6129  NMAE : 0.7193  MRE : 0.4660  NPRE : 1.9382\r\n",
      "2023-01-10 01:22:03  Epoch  5 : MAE : 0.5724  RMSE : 1.5905  NMAE : 0.7080  MRE : 0.4512  NPRE : 2.2954\r\n",
      "2023-01-10 01:22:10  Epoch  6 : MAE : 0.5697  RMSE : 1.5832  NMAE : 0.7046  MRE : 0.4799  NPRE : 1.4623\r\n",
      "2023-01-10 01:22:17  Epoch  7 : MAE : 0.5539  RMSE : 1.5536  NMAE : 0.6852  MRE : 0.4411  NPRE : 2.4224\r\n",
      "2023-01-10 01:22:17  \t实验 1 聚合模型训练完毕\r\n",
      "2023-01-10 01:22:18  Result : MAE : 0.5528  RMSE : 1.5498  NMAE : 0.6838  MRE : 0.4410  NPRE : 2.4145\r\n",
      "2023-01-10 01:22:18  \t实验 1 : Aggregators training time = 40.55 s\r\n",
      "\r\n",
      "2023-01-10 01:22:18  \t聚合模型训练完毕\r\n",
      "2023-01-10 01:22:18  Round 1 : MAE = 0.5528, RMSE = 1.5498, NMAE = 0.6838, MRE = 0.4410, NPRE = 2.4145\r\n",
      "2023-01-10 01:22:18  Dataset : rt     interaction : NeuCF\r\n",
      "2023-01-10 01:22:18  Density : 10.00%, slice_epochs : 200, agg_epochs : 7\r\n",
      "2023-01-10 01:22:18  Part_type : 3,    slices : 10,       devices : gpu\r\n",
      "\r\n",
      "\r\n",
      "2023-01-10 01:22:18  Density 10.00% : MAE = 0.553, RMSE = 1.550, NMAE = 0.684, MRE = 0.441, NPRE = 2.414\r\n",
      "\r\n",
      "2023-01-10 01:22:18  Experiment success!\r\n"
     ]
    }
   ],
   "source": [
    "!python Experiment.py --dataset rt --interaction NeuCF --rounds 1 --agg_epochs 7 --density 0.10 --part_type 3 --processed 0 --debug 1 --agg_type softmax"
   ],
   "metadata": {
    "collapsed": false
   }
  },
  {
   "cell_type": "code",
   "execution_count": 70,
   "outputs": [
    {
     "name": "stdout",
     "output_type": "stream",
     "text": [
      "2023-01-10 01:22:19  Namespace(agg_epochs=7, agg_type='softmax', balance=0, batch_size=128, dataset='rt', debug=1, density=0.1, devices='gpu', dimension=64, dropout=0.1, interaction='NeuCF', kmeans_type=1, node2vec=0, node2vec_batchsize=32, node2vec_dim=128, node2vec_epochs=20, node2vec_length=10, node2vec_walk=50, node2vec_windows=3, num_layers=2, order=2, part_iter=50, part_type=4, path='./datasets/data/WSDREAM/', processed=0, retrain=0, rounds=1, save_model=1, slice_epochs=200, slices=10, subagg=1, verbose=10)\r\n",
      "2023-01-10 01:22:19  Experiment start!\r\n",
      "2023-01-10 01:22:19  Dataset : rt     interaction : NeuCF\r\n",
      "2023-01-10 01:22:19  Density : 10.00%, slice_epochs : 200, agg_epochs : 7\r\n",
      "2023-01-10 01:22:19  Part_type : 4,    slices : 10,       devices : gpu\r\n",
      "\r\n",
      "2023-01-10 01:22:19  Round 1 experiment start!\r\n",
      "2023-01-10 01:22:19  \t原始数据集读取完毕\r\n",
      "2023-01-10 01:22:20  \t图嵌入非均衡切割\r\n",
      "{0: 92, 3: 73, 2: 17, 7: 24, 5: 13, 8: 15, 1: 17, 4: 7, 6: 9, 9: 72}\r\n",
      "2023-01-10 01:22:20  \tNode2Vec 基于用户聚类非均衡切割完毕\r\n",
      "2023-01-10 01:22:20  \t分切数据执行完毕\r\n",
      "2023-01-10 01:22:22  \t模型加载完毕\r\n",
      "2023-01-10 01:22:22  \t准备训练切片模型\r\n",
      "2023-01-10 01:22:22  \t实验 1 模型 1 开始分片训练\r\n",
      "2023-01-10 01:22:34  Epoch 10 : MAE : 0.5849  RMSE : 1.5707  NMAE : 0.6842  MRE : 0.4886  NPRE : 2.1040\r\n",
      "2023-01-10 01:22:46  Epoch 20 : MAE : 0.4939  RMSE : 1.3454  NMAE : 0.5778  MRE : 0.4177  NPRE : 2.0269\r\n",
      "2023-01-10 01:22:57  Epoch 30 : MAE : 0.4422  RMSE : 1.2227  NMAE : 0.5173  MRE : 0.3715  NPRE : 1.5228\r\n",
      "2023-01-10 01:23:09  Epoch 40 : MAE : 0.4080  RMSE : 1.1587  NMAE : 0.4773  MRE : 0.3232  NPRE : 1.2100\r\n",
      "2023-01-10 01:23:21  Epoch 50 : MAE : 0.3714  RMSE : 1.0870  NMAE : 0.4345  MRE : 0.2731  NPRE : 1.1052\r\n",
      "2023-01-10 01:23:31  Epoch 58 : MAE : 0.3459  RMSE : 1.0218  NMAE : 0.4047  MRE : 0.2625  NPRE : 1.0000\r\n",
      "2023-01-10 01:23:31  实验 1 模型 1 training time = 48.21 s\r\n",
      "2023-01-10 01:23:31  Slice ID  1 : MAE = 0.3459, RMSE = 1.0218, NMAE = 0.4047, MRE = 0.2625, NPRE = 1.0000\r\n",
      "\r\n",
      "2023-01-10 01:23:31  \t实验 1 模型 2 开始分片训练\r\n",
      "2023-01-10 01:23:34  Epoch 10 : MAE : 0.5772  RMSE : 1.5853  NMAE : 0.8021  MRE : 0.5858  NPRE : 2.7849\r\n",
      "2023-01-10 01:23:36  Epoch 20 : MAE : 0.4762  RMSE : 1.3875  NMAE : 0.6618  MRE : 0.5470  NPRE : 2.2536\r\n",
      "2023-01-10 01:23:38  Epoch 30 : MAE : 0.4033  RMSE : 1.1705  NMAE : 0.5604  MRE : 0.4975  NPRE : 1.5899\r\n",
      "2023-01-10 01:23:39  Epoch 32 : MAE : 0.3981  RMSE : 1.1491  NMAE : 0.5533  MRE : 0.4976  NPRE : 2.0223\r\n",
      "2023-01-10 01:23:39  实验 1 模型 2 training time = 5.01 s\r\n",
      "2023-01-10 01:23:39  Slice ID  2 : MAE = 0.3981, RMSE = 1.1491, NMAE = 0.5533, MRE = 0.4976, NPRE = 2.0223\r\n",
      "\r\n",
      "2023-01-10 01:23:39  \t实验 1 模型 3 开始分片训练\r\n",
      "2023-01-10 01:23:41  Epoch 10 : MAE : 0.6455  RMSE : 1.7607  NMAE : 0.9185  MRE : 0.6052  NPRE : 2.1385\r\n",
      "2023-01-10 01:23:43  Epoch 20 : MAE : 0.5296  RMSE : 1.4523  NMAE : 0.7536  MRE : 0.5443  NPRE : 1.9395\r\n",
      "2023-01-10 01:23:45  Epoch 30 : MAE : 0.4459  RMSE : 1.2222  NMAE : 0.6344  MRE : 0.4678  NPRE : 1.6914\r\n",
      "2023-01-10 01:23:48  Epoch 40 : MAE : 0.3964  RMSE : 1.0631  NMAE : 0.5641  MRE : 0.4398  NPRE : 1.5545\r\n",
      "2023-01-10 01:23:49  Epoch 45 : MAE : 0.3768  RMSE : 0.9995  NMAE : 0.5362  MRE : 0.4527  NPRE : 1.3543\r\n",
      "2023-01-10 01:23:49  实验 1 模型 3 training time = 6.97 s\r\n",
      "2023-01-10 01:23:49  Slice ID  3 : MAE = 0.3768, RMSE = 0.9995, NMAE = 0.5362, MRE = 0.4527, NPRE = 1.3543\r\n",
      "\r\n",
      "2023-01-10 01:23:49  \t实验 1 模型 4 开始分片训练\r\n",
      "2023-01-10 01:23:59  Epoch 10 : MAE : 0.5825  RMSE : 1.6017  NMAE : 0.7272  MRE : 0.5509  NPRE : 1.7947\r\n",
      "2023-01-10 01:24:08  Epoch 20 : MAE : 0.4594  RMSE : 1.3661  NMAE : 0.5735  MRE : 0.4486  NPRE : 1.2236\r\n",
      "2023-01-10 01:24:18  Epoch 30 : MAE : 0.4042  RMSE : 1.2241  NMAE : 0.5046  MRE : 0.3685  NPRE : 1.3376\r\n",
      "2023-01-10 01:24:28  Epoch 40 : MAE : 0.3710  RMSE : 1.1231  NMAE : 0.4631  MRE : 0.3315  NPRE : 1.5895\r\n",
      "2023-01-10 01:24:37  Epoch 50 : MAE : 0.3344  RMSE : 1.0632  NMAE : 0.4175  MRE : 0.2859  NPRE : 1.0000\r\n",
      "2023-01-10 01:24:39  Epoch 52 : MAE : 0.3291  RMSE : 1.0413  NMAE : 0.4108  MRE : 0.2848  NPRE : 1.0000\r\n",
      "2023-01-10 01:24:39  实验 1 模型 4 training time = 34.64 s\r\n",
      "2023-01-10 01:24:39  Slice ID  4 : MAE = 0.3291, RMSE = 1.0413, NMAE = 0.4108, MRE = 0.2848, NPRE = 1.0000\r\n",
      "\r\n",
      "2023-01-10 01:24:39  \t实验 1 模型 5 开始分片训练\r\n",
      "2023-01-10 01:24:40  Epoch 10 : MAE : 0.7126  RMSE : 1.7081  NMAE : 0.6921  MRE : 0.5380  NPRE : 2.9239\r\n",
      "2023-01-10 01:24:41  Epoch 20 : MAE : 0.5763  RMSE : 1.5299  NMAE : 0.5598  MRE : 0.4803  NPRE : 1.5575\r\n",
      "2023-01-10 01:24:42  Epoch 30 : MAE : 0.4986  RMSE : 1.3524  NMAE : 0.4843  MRE : 0.4385  NPRE : 2.2322\r\n",
      "2023-01-10 01:24:43  Epoch 40 : MAE : 0.4265  RMSE : 1.2484  NMAE : 0.4142  MRE : 0.3786  NPRE : 1.3668\r\n",
      "2023-01-10 01:24:44  Epoch 50 : MAE : 0.3764  RMSE : 1.1048  NMAE : 0.3656  MRE : 0.3401  NPRE : 1.2439\r\n",
      "2023-01-10 01:24:44  Epoch 53 : MAE : 0.3781  RMSE : 1.0945  NMAE : 0.3672  MRE : 0.3387  NPRE : 1.5346\r\n",
      "2023-01-10 01:24:44  实验 1 模型 5 training time = 3.57 s\r\n",
      "2023-01-10 01:24:44  Slice ID  5 : MAE = 0.3781, RMSE = 1.0945, NMAE = 0.3672, MRE = 0.3387, NPRE = 1.5346\r\n",
      "\r\n",
      "2023-01-10 01:24:44  \t实验 1 模型 6 开始分片训练\r\n",
      "2023-01-10 01:24:46  Epoch 10 : MAE : 0.7043  RMSE : 1.8499  NMAE : 0.7601  MRE : 0.6017  NPRE : 2.4912\r\n",
      "2023-01-10 01:24:48  Epoch 20 : MAE : 0.5815  RMSE : 1.6113  NMAE : 0.6276  MRE : 0.5347  NPRE : 2.2419\r\n",
      "2023-01-10 01:24:49  Epoch 30 : MAE : 0.4862  RMSE : 1.3703  NMAE : 0.5248  MRE : 0.4523  NPRE : 1.8484\r\n",
      "2023-01-10 01:24:51  Epoch 40 : MAE : 0.4104  RMSE : 1.1332  NMAE : 0.4429  MRE : 0.3982  NPRE : 1.6391\r\n",
      "2023-01-10 01:24:53  Epoch 50 : MAE : 0.3779  RMSE : 0.9730  NMAE : 0.4079  MRE : 0.3991  NPRE : 1.7308\r\n",
      "2023-01-10 01:24:55  Epoch 60 : MAE : 0.3419  RMSE : 0.8878  NMAE : 0.3690  MRE : 0.3710  NPRE : 1.3485\r\n",
      "2023-01-10 01:24:55  Epoch 61 : MAE : 0.3426  RMSE : 0.8840  NMAE : 0.3697  MRE : 0.3774  NPRE : 1.4953\r\n",
      "2023-01-10 01:24:55  实验 1 模型 6 training time = 7.60 s\r\n",
      "2023-01-10 01:24:55  Slice ID  6 : MAE = 0.3426, RMSE = 0.8840, NMAE = 0.3697, MRE = 0.3774, NPRE = 1.4953\r\n",
      "\r\n",
      "2023-01-10 01:24:55  \t实验 1 模型 7 开始分片训练\r\n",
      "2023-01-10 01:24:56  Epoch 10 : MAE : 0.5277  RMSE : 1.5115  NMAE : 1.0395  MRE : 0.5618  NPRE : 2.5776\r\n",
      "2023-01-10 01:24:57  Epoch 20 : MAE : 0.4957  RMSE : 1.4107  NMAE : 0.9764  MRE : 0.5613  NPRE : 2.8575\r\n",
      "2023-01-10 01:24:59  Epoch 30 : MAE : 0.4153  RMSE : 1.1966  NMAE : 0.8181  MRE : 0.4945  NPRE : 2.0115\r\n",
      "2023-01-10 01:24:59  Epoch 30 : MAE : 0.4153  RMSE : 1.1966  NMAE : 0.8181  MRE : 0.4945  NPRE : 2.0115\r\n",
      "2023-01-10 01:24:59  实验 1 模型 7 training time = 2.49 s\r\n",
      "2023-01-10 01:24:59  Slice ID  7 : MAE = 0.4153, RMSE = 1.1966, NMAE = 0.8181, MRE = 0.4945, NPRE = 2.0115\r\n",
      "\r\n",
      "2023-01-10 01:24:59  \t实验 1 模型 8 开始分片训练\r\n",
      "2023-01-10 01:25:02  Epoch 10 : MAE : 0.6720  RMSE : 1.7729  NMAE : 0.7257  MRE : 0.5713  NPRE : 2.2343\r\n",
      "2023-01-10 01:25:05  Epoch 20 : MAE : 0.5417  RMSE : 1.4861  NMAE : 0.5850  MRE : 0.4751  NPRE : 1.9918\r\n",
      "2023-01-10 01:25:08  Epoch 30 : MAE : 0.4576  RMSE : 1.2596  NMAE : 0.4942  MRE : 0.4246  NPRE : 1.4603\r\n",
      "2023-01-10 01:25:11  Epoch 39 : MAE : 0.4206  RMSE : 1.1384  NMAE : 0.4543  MRE : 0.4218  NPRE : 1.1297\r\n",
      "2023-01-10 01:25:11  实验 1 模型 8 training time = 8.82 s\r\n",
      "2023-01-10 01:25:11  Slice ID  8 : MAE = 0.4206, RMSE = 1.1384, NMAE = 0.4543, MRE = 0.4218, NPRE = 1.1297\r\n",
      "\r\n",
      "2023-01-10 01:25:11  \t实验 1 模型 9 开始分片训练\r\n",
      "2023-01-10 01:25:13  Epoch 10 : MAE : 0.5977  RMSE : 1.7918  NMAE : 0.8491  MRE : 0.5497  NPRE : 1.9991\r\n",
      "2023-01-10 01:25:15  Epoch 20 : MAE : 0.5159  RMSE : 1.6171  NMAE : 0.7330  MRE : 0.4906  NPRE : 1.5387\r\n",
      "2023-01-10 01:25:17  Epoch 30 : MAE : 0.4371  RMSE : 1.3234  NMAE : 0.6210  MRE : 0.4531  NPRE : 1.9951\r\n",
      "2023-01-10 01:25:20  Epoch 40 : MAE : 0.3840  RMSE : 1.1204  NMAE : 0.5455  MRE : 0.4199  NPRE : 1.5759\r\n",
      "2023-01-10 01:25:20  Epoch 41 : MAE : 0.3825  RMSE : 1.1257  NMAE : 0.5434  MRE : 0.4248  NPRE : 1.5800\r\n",
      "2023-01-10 01:25:20  实验 1 模型 9 training time = 5.80 s\r\n",
      "2023-01-10 01:25:20  Slice ID  9 : MAE = 0.3825, RMSE = 1.1257, NMAE = 0.5434, MRE = 0.4248, NPRE = 1.5800\r\n",
      "\r\n",
      "2023-01-10 01:25:20  \t实验 1 模型 10 开始分片训练\r\n",
      "2023-01-10 01:25:30  Epoch 10 : MAE : 0.5194  RMSE : 1.4327  NMAE : 0.6510  MRE : 0.4999  NPRE : 2.1072\r\n",
      "2023-01-10 01:25:39  Epoch 20 : MAE : 0.4357  RMSE : 1.2512  NMAE : 0.5461  MRE : 0.4283  NPRE : 1.5025\r\n",
      "2023-01-10 01:25:49  Epoch 30 : MAE : 0.3900  RMSE : 1.1302  NMAE : 0.4888  MRE : 0.3750  NPRE : 1.4898\r\n",
      "2023-01-10 01:25:59  Epoch 40 : MAE : 0.3579  RMSE : 1.0615  NMAE : 0.4486  MRE : 0.3262  NPRE : 1.2958\r\n",
      "2023-01-10 01:26:01  Epoch 42 : MAE : 0.3638  RMSE : 1.0455  NMAE : 0.4560  MRE : 0.3526  NPRE : 1.3102\r\n",
      "2023-01-10 01:26:01  实验 1 模型 10 training time = 28.45 s\r\n",
      "2023-01-10 01:26:01  Slice ID  10 : MAE = 0.3638, RMSE = 1.0455, NMAE = 0.4560, MRE = 0.3526, NPRE = 1.3102\r\n",
      "\r\n",
      "2023-01-10 01:26:01  \t所有切片模型训练完毕\r\n",
      "2023-01-10 01:26:01  \t开始训练聚合模型\r\n",
      "100%|███████████████████████████████████████| 1547/1547 [00:38<00:00, 39.84it/s]\r\n",
      "2023-01-10 01:26:40  Result : MAE : 0.3594  RMSE : 1.0517  NMAE : 0.4419  MRE : 0.3286  NPRE : 1.1687\r\n",
      "2023-01-10 01:26:40  \t实验 1 新想法测试完毕!\r\n",
      "2023-01-10 01:26:40  \t聚合模型训练完毕\r\n",
      "2023-01-10 01:26:40  Round 1 : MAE = 0.3594, RMSE = 1.0517, NMAE = 0.4419, MRE = 0.3286, NPRE = 1.1687\r\n",
      "2023-01-10 01:26:40  Dataset : rt     interaction : NeuCF\r\n",
      "2023-01-10 01:26:40  Density : 10.00%, slice_epochs : 200, agg_epochs : 7\r\n",
      "2023-01-10 01:26:40  Part_type : 4,    slices : 10,       devices : gpu\r\n",
      "\r\n",
      "\r\n",
      "2023-01-10 01:26:40  Density 10.00% : MAE = 0.359, RMSE = 1.052, NMAE = 0.442, MRE = 0.329, NPRE = 1.169\r\n",
      "\r\n",
      "2023-01-10 01:26:40  Experiment success!\r\n"
     ]
    }
   ],
   "source": [
    "!python Experiment.py --dataset rt --interaction NeuCF --rounds 1 --agg_epochs 7 --density 0.10 --part_type 4 --processed 0 --debug 1 --agg_type softmax"
   ],
   "metadata": {
    "collapsed": false
   }
  },
  {
   "cell_type": "code",
   "execution_count": 71,
   "outputs": [
    {
     "name": "stdout",
     "output_type": "stream",
     "text": [
      "2023-01-10 01:26:41  Namespace(agg_epochs=7, agg_type='softmax', balance=0, batch_size=128, dataset='rt', debug=1, density=0.1, devices='gpu', dimension=64, dropout=0.1, interaction='NeuCF', kmeans_type=1, node2vec=0, node2vec_batchsize=32, node2vec_dim=128, node2vec_epochs=20, node2vec_length=10, node2vec_walk=50, node2vec_windows=3, num_layers=2, order=2, part_iter=50, part_type=5, path='./datasets/data/WSDREAM/', processed=0, retrain=0, rounds=1, save_model=1, slice_epochs=200, slices=10, subagg=1, verbose=10)\r\n",
      "2023-01-10 01:26:41  Experiment start!\r\n",
      "2023-01-10 01:26:41  Dataset : rt     interaction : NeuCF\r\n",
      "2023-01-10 01:26:41  Density : 10.00%, slice_epochs : 200, agg_epochs : 7\r\n",
      "2023-01-10 01:26:41  Part_type : 5,    slices : 10,       devices : gpu\r\n",
      "\r\n",
      "2023-01-10 01:26:41  Round 1 experiment start!\r\n",
      "2023-01-10 01:26:41  \t原始数据集读取完毕\r\n",
      "2023-01-10 01:26:41  \t图嵌入均衡切割\r\n",
      "2023-01-10 01:26:41  \tNode2Vec 基于用户聚类均衡切割完毕\r\n",
      "2023-01-10 01:26:41  \t分切数据执行完毕\r\n",
      "2023-01-10 01:26:43  \t模型加载完毕\r\n",
      "2023-01-10 01:26:43  \t准备训练切片模型\r\n",
      "2023-01-10 01:26:43  \t实验 1 模型 1 开始分片训练\r\n",
      "2023-01-10 01:26:46  Epoch 10 : MAE : 0.5967  RMSE : 1.6724  NMAE : 0.7698  MRE : 0.5757  NPRE : 2.4840\r\n",
      "2023-01-10 01:26:48  Epoch 20 : MAE : 0.5067  RMSE : 1.4163  NMAE : 0.6537  MRE : 0.5108  NPRE : 2.0960\r\n",
      "2023-01-10 01:26:51  Epoch 30 : MAE : 0.4179  RMSE : 1.1639  NMAE : 0.5392  MRE : 0.4718  NPRE : 1.9357\r\n",
      "2023-01-10 01:26:52  Epoch 35 : MAE : 0.3859  RMSE : 1.1143  NMAE : 0.4979  MRE : 0.4331  NPRE : 1.6109\r\n",
      "2023-01-10 01:26:52  实验 1 模型 1 training time = 5.93 s\r\n",
      "2023-01-10 01:26:52  Slice ID  1 : MAE = 0.3859, RMSE = 1.1143, NMAE = 0.4979, MRE = 0.4331, NPRE = 1.6109\r\n",
      "\r\n",
      "2023-01-10 01:26:52  \t实验 1 模型 2 开始分片训练\r\n",
      "2023-01-10 01:26:56  Epoch 10 : MAE : 0.5797  RMSE : 1.6048  NMAE : 0.6909  MRE : 0.5142  NPRE : 2.2302\r\n",
      "2023-01-10 01:27:01  Epoch 20 : MAE : 0.4701  RMSE : 1.3870  NMAE : 0.5603  MRE : 0.4498  NPRE : 1.7349\r\n",
      "2023-01-10 01:27:05  Epoch 30 : MAE : 0.4013  RMSE : 1.1669  NMAE : 0.4783  MRE : 0.3923  NPRE : 1.5690\r\n",
      "2023-01-10 01:27:10  Epoch 40 : MAE : 0.3610  RMSE : 1.0703  NMAE : 0.4303  MRE : 0.3566  NPRE : 1.3197\r\n",
      "2023-01-10 01:27:16  Epoch 50 : MAE : 0.3352  RMSE : 0.9963  NMAE : 0.3995  MRE : 0.3386  NPRE : 1.0000\r\n",
      "2023-01-10 01:27:16  Epoch 51 : MAE : 0.3311  RMSE : 0.9873  NMAE : 0.3946  MRE : 0.3237  NPRE : 1.3174\r\n",
      "2023-01-10 01:27:16  实验 1 模型 2 training time = 16.11 s\r\n",
      "2023-01-10 01:27:16  Slice ID  2 : MAE = 0.3311, RMSE = 0.9873, NMAE = 0.3946, MRE = 0.3237, NPRE = 1.3174\r\n",
      "\r\n",
      "2023-01-10 01:27:16  \t实验 1 模型 3 开始分片训练\r\n",
      "2023-01-10 01:27:21  Epoch 10 : MAE : 0.6291  RMSE : 1.6681  NMAE : 0.7383  MRE : 0.5832  NPRE : 2.7531\r\n",
      "2023-01-10 01:27:26  Epoch 20 : MAE : 0.5079  RMSE : 1.4009  NMAE : 0.5961  MRE : 0.4935  NPRE : 1.9534\r\n",
      "2023-01-10 01:27:31  Epoch 30 : MAE : 0.4303  RMSE : 1.1890  NMAE : 0.5050  MRE : 0.4227  NPRE : 1.7527\r\n",
      "2023-01-10 01:27:37  Epoch 40 : MAE : 0.3881  RMSE : 1.0455  NMAE : 0.4554  MRE : 0.3819  NPRE : 1.8146\r\n",
      "2023-01-10 01:27:40  Epoch 46 : MAE : 0.3619  RMSE : 0.9614  NMAE : 0.4246  MRE : 0.3744  NPRE : 1.3449\r\n",
      "2023-01-10 01:27:40  实验 1 模型 3 training time = 16.63 s\r\n",
      "2023-01-10 01:27:40  Slice ID  3 : MAE = 0.3619, RMSE = 0.9614, NMAE = 0.4246, MRE = 0.3744, NPRE = 1.3449\r\n",
      "\r\n",
      "2023-01-10 01:27:40  \t实验 1 模型 4 开始分片训练\r\n",
      "2023-01-10 01:27:45  Epoch 10 : MAE : 0.5878  RMSE : 1.6747  NMAE : 0.8416  MRE : 0.5841  NPRE : 1.7209\r\n",
      "2023-01-10 01:27:50  Epoch 20 : MAE : 0.4671  RMSE : 1.3309  NMAE : 0.6688  MRE : 0.4878  NPRE : 2.0459\r\n",
      "2023-01-10 01:27:55  Epoch 30 : MAE : 0.4004  RMSE : 1.1645  NMAE : 0.5732  MRE : 0.4150  NPRE : 1.6346\r\n",
      "2023-01-10 01:27:59  Epoch 38 : MAE : 0.3697  RMSE : 1.0692  NMAE : 0.5293  MRE : 0.4097  NPRE : 1.2514\r\n",
      "2023-01-10 01:27:59  实验 1 模型 4 training time = 13.19 s\r\n",
      "2023-01-10 01:27:59  Slice ID  4 : MAE = 0.3697, RMSE = 1.0692, NMAE = 0.5293, MRE = 0.4097, NPRE = 1.2514\r\n",
      "\r\n",
      "2023-01-10 01:28:00  \t实验 1 模型 5 开始分片训练\r\n",
      "2023-01-10 01:28:04  Epoch 10 : MAE : 0.6955  RMSE : 1.8305  NMAE : 0.7866  MRE : 0.6186  NPRE : 2.4273\r\n",
      "2023-01-10 01:28:10  Epoch 20 : MAE : 0.5318  RMSE : 1.4560  NMAE : 0.6015  MRE : 0.4724  NPRE : 1.8460\r\n",
      "2023-01-10 01:28:14  Epoch 30 : MAE : 0.4577  RMSE : 1.2457  NMAE : 0.5177  MRE : 0.4480  NPRE : 1.7662\r\n",
      "2023-01-10 01:28:19  Epoch 40 : MAE : 0.4049  RMSE : 1.1302  NMAE : 0.4579  MRE : 0.3893  NPRE : 1.4777\r\n",
      "2023-01-10 01:28:20  Epoch 42 : MAE : 0.4118  RMSE : 1.1216  NMAE : 0.4657  MRE : 0.3886  NPRE : 1.4223\r\n",
      "2023-01-10 01:28:20  实验 1 模型 5 training time = 13.98 s\r\n",
      "2023-01-10 01:28:20  Slice ID  5 : MAE = 0.4118, RMSE = 1.1216, NMAE = 0.4657, MRE = 0.3886, NPRE = 1.4223\r\n",
      "\r\n",
      "2023-01-10 01:28:20  \t实验 1 模型 6 开始分片训练\r\n",
      "2023-01-10 01:28:25  Epoch 10 : MAE : 0.5708  RMSE : 1.6674  NMAE : 0.8635  MRE : 0.5691  NPRE : 2.1039\r\n",
      "2023-01-10 01:28:30  Epoch 20 : MAE : 0.4719  RMSE : 1.3794  NMAE : 0.7139  MRE : 0.4882  NPRE : 1.5800\r\n",
      "2023-01-10 01:28:36  Epoch 30 : MAE : 0.4098  RMSE : 1.1681  NMAE : 0.6200  MRE : 0.4181  NPRE : 1.7329\r\n",
      "2023-01-10 01:28:41  Epoch 40 : MAE : 0.3638  RMSE : 1.0038  NMAE : 0.5503  MRE : 0.3739  NPRE : 1.7683\r\n",
      "2023-01-10 01:28:46  Epoch 50 : MAE : 0.3354  RMSE : 0.9349  NMAE : 0.5074  MRE : 0.3411  NPRE : 1.5001\r\n",
      "2023-01-10 01:28:46  Epoch 51 : MAE : 0.3293  RMSE : 0.9150  NMAE : 0.4981  MRE : 0.3311  NPRE : 1.4470\r\n",
      "2023-01-10 01:28:46  实验 1 模型 6 training time = 18.41 s\r\n",
      "2023-01-10 01:28:46  Slice ID  6 : MAE = 0.3293, RMSE = 0.9150, NMAE = 0.4981, MRE = 0.3311, NPRE = 1.4470\r\n",
      "\r\n",
      "2023-01-10 01:28:46  \t实验 1 模型 7 开始分片训练\r\n",
      "2023-01-10 01:28:52  Epoch 10 : MAE : 0.6435  RMSE : 1.7826  NMAE : 0.7436  MRE : 0.5312  NPRE : 1.6629\r\n",
      "2023-01-10 01:28:58  Epoch 20 : MAE : 0.5013  RMSE : 1.4077  NMAE : 0.5792  MRE : 0.4275  NPRE : 1.7711\r\n",
      "2023-01-10 01:29:04  Epoch 30 : MAE : 0.4320  RMSE : 1.2278  NMAE : 0.4991  MRE : 0.3791  NPRE : 1.1272\r\n",
      "2023-01-10 01:29:09  Epoch 40 : MAE : 0.3981  RMSE : 1.1151  NMAE : 0.4600  MRE : 0.3386  NPRE : 1.3733\r\n",
      "2023-01-10 01:29:15  Epoch 50 : MAE : 0.3653  RMSE : 1.0414  NMAE : 0.4221  MRE : 0.3124  NPRE : 1.1513\r\n",
      "2023-01-10 01:29:20  Epoch 60 : MAE : 0.3370  RMSE : 0.9601  NMAE : 0.3894  MRE : 0.2889  NPRE : 1.0000\r\n",
      "2023-01-10 01:29:26  Epoch 70 : MAE : 0.3063  RMSE : 0.8949  NMAE : 0.3539  MRE : 0.2527  NPRE : 0.9544\r\n",
      "2023-01-10 01:29:32  Epoch 80 : MAE : 0.2796  RMSE : 0.8570  NMAE : 0.3230  MRE : 0.2042  NPRE : 0.7555\r\n",
      "2023-01-10 01:29:35  Epoch 87 : MAE : 0.2656  RMSE : 0.8261  NMAE : 0.3069  MRE : 0.1884  NPRE : 0.7359\r\n",
      "2023-01-10 01:29:35  实验 1 模型 7 training time = 34.15 s\r\n",
      "2023-01-10 01:29:35  Slice ID  7 : MAE = 0.2656, RMSE = 0.8261, NMAE = 0.3069, MRE = 0.1884, NPRE = 0.7359\r\n",
      "\r\n",
      "2023-01-10 01:29:35  \t实验 1 模型 8 开始分片训练\r\n",
      "2023-01-10 01:29:39  Epoch 10 : MAE : 0.6493  RMSE : 1.7144  NMAE : 0.7693  MRE : 0.5967  NPRE : 2.2605\r\n",
      "2023-01-10 01:29:43  Epoch 20 : MAE : 0.5042  RMSE : 1.3919  NMAE : 0.5973  MRE : 0.5040  NPRE : 2.1110\r\n",
      "2023-01-10 01:29:47  Epoch 30 : MAE : 0.4356  RMSE : 1.2299  NMAE : 0.5161  MRE : 0.4656  NPRE : 1.4861\r\n",
      "2023-01-10 01:29:51  Epoch 40 : MAE : 0.3927  RMSE : 1.1115  NMAE : 0.4652  MRE : 0.4270  NPRE : 1.4313\r\n",
      "2023-01-10 01:29:54  Epoch 48 : MAE : 0.3713  RMSE : 1.0686  NMAE : 0.4400  MRE : 0.3805  NPRE : 1.2936\r\n",
      "2023-01-10 01:29:54  实验 1 模型 8 training time = 13.15 s\r\n",
      "2023-01-10 01:29:54  Slice ID  8 : MAE = 0.3713, RMSE = 1.0686, NMAE = 0.4400, MRE = 0.3805, NPRE = 1.2936\r\n",
      "\r\n",
      "2023-01-10 01:29:54  \t实验 1 模型 9 开始分片训练\r\n",
      "2023-01-10 01:29:59  Epoch 10 : MAE : 0.6723  RMSE : 1.7739  NMAE : 0.6946  MRE : 0.5669  NPRE : 2.3696\r\n",
      "2023-01-10 01:30:04  Epoch 20 : MAE : 0.5200  RMSE : 1.4124  NMAE : 0.5373  MRE : 0.4891  NPRE : 1.5689\r\n",
      "2023-01-10 01:30:09  Epoch 30 : MAE : 0.4500  RMSE : 1.2585  NMAE : 0.4649  MRE : 0.4099  NPRE : 1.9572\r\n",
      "2023-01-10 01:30:14  Epoch 40 : MAE : 0.4011  RMSE : 1.1477  NMAE : 0.4143  MRE : 0.3658  NPRE : 1.6437\r\n",
      "2023-01-10 01:30:15  Epoch 42 : MAE : 0.4023  RMSE : 1.1386  NMAE : 0.4157  MRE : 0.3658  NPRE : 1.7873\r\n",
      "2023-01-10 01:30:15  实验 1 模型 9 training time = 14.70 s\r\n",
      "2023-01-10 01:30:15  Slice ID  9 : MAE = 0.4023, RMSE = 1.1386, NMAE = 0.4157, MRE = 0.3658, NPRE = 1.7873\r\n",
      "\r\n",
      "2023-01-10 01:30:15  \t实验 1 模型 10 开始分片训练\r\n",
      "2023-01-10 01:30:20  Epoch 10 : MAE : 0.6675  RMSE : 1.7421  NMAE : 0.8325  MRE : 0.5627  NPRE : 2.6137\r\n",
      "2023-01-10 01:30:26  Epoch 20 : MAE : 0.5317  RMSE : 1.4059  NMAE : 0.6631  MRE : 0.4743  NPRE : 2.0836\r\n",
      "2023-01-10 01:30:31  Epoch 30 : MAE : 0.4584  RMSE : 1.2232  NMAE : 0.5717  MRE : 0.4138  NPRE : 1.9006\r\n",
      "2023-01-10 01:30:36  Epoch 40 : MAE : 0.4269  RMSE : 1.1357  NMAE : 0.5324  MRE : 0.3757  NPRE : 1.7438\r\n",
      "2023-01-10 01:30:36  Epoch 40 : MAE : 0.4269  RMSE : 1.1357  NMAE : 0.5324  MRE : 0.3757  NPRE : 1.7438\r\n",
      "2023-01-10 01:30:36  实验 1 模型 10 training time = 14.09 s\r\n",
      "2023-01-10 01:30:36  Slice ID  10 : MAE = 0.4269, RMSE = 1.1357, NMAE = 0.5324, MRE = 0.3757, NPRE = 1.7438\r\n",
      "\r\n",
      "2023-01-10 01:30:36  \t所有切片模型训练完毕\r\n",
      "2023-01-10 01:30:36  \t开始训练聚合模型\r\n",
      "100%|███████████████████████████████████████| 1546/1546 [00:40<00:00, 38.60it/s]\r\n",
      "2023-01-10 01:31:16  Result : MAE : 0.3612  RMSE : 1.0253  NMAE : 0.4407  MRE : 0.3385  NPRE : 1.3211\r\n",
      "2023-01-10 01:31:16  \t实验 1 新想法测试完毕!\r\n",
      "2023-01-10 01:31:16  \t聚合模型训练完毕\r\n",
      "2023-01-10 01:31:16  Round 1 : MAE = 0.3612, RMSE = 1.0253, NMAE = 0.4407, MRE = 0.3385, NPRE = 1.3211\r\n",
      "2023-01-10 01:31:16  Dataset : rt     interaction : NeuCF\r\n",
      "2023-01-10 01:31:16  Density : 10.00%, slice_epochs : 200, agg_epochs : 7\r\n",
      "2023-01-10 01:31:16  Part_type : 5,    slices : 10,       devices : gpu\r\n",
      "\r\n",
      "\r\n",
      "2023-01-10 01:31:16  Density 10.00% : MAE = 0.361, RMSE = 1.025, NMAE = 0.441, MRE = 0.339, NPRE = 1.321\r\n",
      "\r\n",
      "2023-01-10 01:31:16  Experiment success!\r\n"
     ]
    }
   ],
   "source": [
    "!python Experiment.py --dataset rt --interaction NeuCF --rounds 1 --agg_epochs 7 --density 0.10 --part_type 5 --processed 0 --debug 1 --agg_type softmax"
   ],
   "metadata": {
    "collapsed": false
   }
  },
  {
   "cell_type": "code",
   "execution_count": 72,
   "outputs": [
    {
     "name": "stdout",
     "output_type": "stream",
     "text": [
      "2023-01-10 01:31:17  Namespace(agg_epochs=7, agg_type='softmax', balance=0, batch_size=128, dataset='rt', debug=1, density=0.1, devices='gpu', dimension=64, dropout=0.1, interaction='NeuCF', kmeans_type=1, node2vec=0, node2vec_batchsize=32, node2vec_dim=128, node2vec_epochs=20, node2vec_length=10, node2vec_walk=50, node2vec_windows=3, num_layers=2, order=2, part_iter=50, part_type=6, path='./datasets/data/WSDREAM/', processed=0, retrain=0, rounds=1, save_model=1, slice_epochs=200, slices=10, subagg=1, verbose=10)\r\n",
      "2023-01-10 01:31:17  Experiment start!\r\n",
      "2023-01-10 01:31:17  Dataset : rt     interaction : NeuCF\r\n",
      "2023-01-10 01:31:17  Density : 10.00%, slice_epochs : 200, agg_epochs : 7\r\n",
      "2023-01-10 01:31:17  Part_type : 6,    slices : 10,       devices : gpu\r\n",
      "\r\n",
      "2023-01-10 01:31:17  Round 1 experiment start!\r\n",
      "2023-01-10 01:31:17  \t原始数据集读取完毕\r\n",
      "2023-01-10 01:31:18  \t简单聚类\r\n",
      "{8: 33, 4: 33, 9: 31, 2: 39, 6: 31, 7: 26, 1: 23, 3: 47, 0: 57, 5: 19}\r\n",
      "2023-01-10 01:31:18  \t地区特征 基于用户切割完毕\r\n",
      "2023-01-10 01:31:18  \t分切数据执行完毕\r\n",
      "2023-01-10 01:31:20  \t模型加载完毕\r\n",
      "2023-01-10 01:31:20  \t准备训练切片模型\r\n",
      "2023-01-10 01:31:20  \t实验 1 模型 1 开始分片训练\r\n",
      "2023-01-10 01:31:20  Epoch 10 : MAE : 1.8738  RMSE : 3.0697  NMAE : 4.0741  MRE : 1.6309  NPRE : 27.3962\r\n",
      "2023-01-10 01:31:20  Epoch 20 : MAE : 0.6850  RMSE : 1.5974  NMAE : 1.4895  MRE : 1.0000  NPRE : 6.5283\r\n",
      "2023-01-10 01:31:21  Epoch 30 : MAE : 0.5131  RMSE : 1.4798  NMAE : 1.1157  MRE : 1.0000  NPRE : 4.3031\r\n",
      "2023-01-10 01:31:21  Epoch 34 : MAE : 0.4945  RMSE : 1.5161  NMAE : 1.0751  MRE : 0.9017  NPRE : 4.3471\r\n",
      "2023-01-10 01:31:21  实验 1 模型 1 training time = 0.44 s\r\n",
      "2023-01-10 01:31:21  Slice ID  1 : MAE = 0.4945, RMSE = 1.5161, NMAE = 1.0751, MRE = 0.9017, NPRE = 4.3471\r\n",
      "\r\n",
      "2023-01-10 01:31:21  \t实验 1 模型 2 开始分片训练\r\n",
      "2023-01-10 01:31:21  Epoch 10 : MAE : 1.1610  RMSE : 2.3216  NMAE : 2.5243  MRE : 1.0000  NPRE : 16.4681\r\n",
      "2023-01-10 01:31:21  Epoch 20 : MAE : 0.7157  RMSE : 1.6982  NMAE : 1.5560  MRE : 1.0000  NPRE : 7.6461\r\n",
      "2023-01-10 01:31:21  Epoch 30 : MAE : 0.5003  RMSE : 1.6418  NMAE : 1.0878  MRE : 0.9027  NPRE : 3.4189\r\n",
      "2023-01-10 01:31:21  Epoch 40 : MAE : 0.4534  RMSE : 1.6624  NMAE : 0.9858  MRE : 0.7339  NPRE : 1.1625\r\n",
      "2023-01-10 01:31:21  Epoch 41 : MAE : 0.4591  RMSE : 1.6306  NMAE : 0.9982  MRE : 0.7232  NPRE : 2.4556\r\n",
      "2023-01-10 01:31:21  实验 1 模型 2 training time = 0.48 s\r\n",
      "2023-01-10 01:31:21  Slice ID  2 : MAE = 0.4591, RMSE = 1.6306, NMAE = 0.9982, MRE = 0.7232, NPRE = 2.4556\r\n",
      "\r\n",
      "2023-01-10 01:31:22  \t实验 1 模型 3 开始分片训练\r\n",
      "2023-01-10 01:31:22  Epoch 10 : MAE : 1.9387  RMSE : 3.2721  NMAE : 3.7513  MRE : 1.0000  NPRE : 28.5946\r\n",
      "2023-01-10 01:31:22  Epoch 20 : MAE : 0.7405  RMSE : 1.5959  NMAE : 1.4327  MRE : 1.0000  NPRE : 6.6133\r\n",
      "2023-01-10 01:31:22  Epoch 30 : MAE : 0.5271  RMSE : 1.3633  NMAE : 1.0200  MRE : 1.0000  NPRE : 3.2641\r\n",
      "2023-01-10 01:31:22  Epoch 31 : MAE : 0.5322  RMSE : 1.3554  NMAE : 1.0297  MRE : 1.0000  NPRE : 3.8261\r\n",
      "2023-01-10 01:31:22  实验 1 模型 3 training time = 0.45 s\r\n",
      "2023-01-10 01:31:22  Slice ID  3 : MAE = 0.5322, RMSE = 1.3554, NMAE = 1.0297, MRE = 1.0000, NPRE = 3.8261\r\n",
      "\r\n",
      "2023-01-10 01:31:22  \t实验 1 模型 4 开始分片训练\r\n",
      "2023-01-10 01:31:22  Epoch 10 : MAE : 1.6462  RMSE : 2.9160  NMAE : 2.9905  MRE : 1.0000  NPRE : 23.3734\r\n",
      "2023-01-10 01:31:22  Epoch 20 : MAE : 0.6194  RMSE : 1.3992  NMAE : 1.1252  MRE : 1.0000  NPRE : 5.7797\r\n",
      "2023-01-10 01:31:23  Epoch 30 : MAE : 0.4680  RMSE : 1.3283  NMAE : 0.8502  MRE : 0.8217  NPRE : 3.9376\r\n",
      "2023-01-10 01:31:23  Epoch 35 : MAE : 0.4442  RMSE : 1.3389  NMAE : 0.8070  MRE : 0.8220  NPRE : 3.0878\r\n",
      "2023-01-10 01:31:23  实验 1 模型 4 training time = 0.41 s\r\n",
      "2023-01-10 01:31:23  Slice ID  4 : MAE = 0.4442, RMSE = 1.3389, NMAE = 0.8070, MRE = 0.8220, NPRE = 3.0878\r\n",
      "\r\n",
      "2023-01-10 01:31:23  \t实验 1 模型 5 开始分片训练\r\n",
      "2023-01-10 01:31:23  Epoch 10 : MAE : 1.5310  RMSE : 2.5926  NMAE : 2.7813  MRE : 1.0000  NPRE : 24.3112\r\n",
      "2023-01-10 01:31:23  Epoch 20 : MAE : 0.5662  RMSE : 1.4022  NMAE : 1.0285  MRE : 1.0000  NPRE : 3.5275\r\n",
      "2023-01-10 01:31:23  Epoch 30 : MAE : 0.4420  RMSE : 1.3720  NMAE : 0.8029  MRE : 0.7857  NPRE : 3.1726\r\n",
      "2023-01-10 01:31:23  Epoch 38 : MAE : 0.4068  RMSE : 1.3547  NMAE : 0.7390  MRE : 0.6298  NPRE : 2.4949\r\n",
      "2023-01-10 01:31:23  实验 1 模型 5 training time = 0.41 s\r\n",
      "2023-01-10 01:31:23  Slice ID  5 : MAE = 0.4068, RMSE = 1.3547, NMAE = 0.7390, MRE = 0.6298, NPRE = 2.4949\r\n",
      "\r\n",
      "2023-01-10 01:31:23  \t实验 1 模型 6 开始分片训练\r\n",
      "2023-01-10 01:31:24  Epoch 10 : MAE : 2.3916  RMSE : 3.7230  NMAE : 1.9085  MRE : 1.0000  NPRE : 14.4014\r\n",
      "2023-01-10 01:31:24  Epoch 20 : MAE : 1.1968  RMSE : 2.1181  NMAE : 0.9551  MRE : 1.0000  NPRE : 5.2570\r\n",
      "2023-01-10 01:31:24  Epoch 30 : MAE : 0.8726  RMSE : 1.8632  NMAE : 0.6963  MRE : 0.6848  NPRE : 2.2505\r\n",
      "2023-01-10 01:31:24  Epoch 40 : MAE : 0.7557  RMSE : 1.5898  NMAE : 0.6031  MRE : 0.5906  NPRE : 2.1914\r\n",
      "2023-01-10 01:31:24  Epoch 50 : MAE : 0.6494  RMSE : 1.3310  NMAE : 0.5182  MRE : 0.5004  NPRE : 2.3621\r\n",
      "2023-01-10 01:31:25  Epoch 60 : MAE : 0.5230  RMSE : 1.0525  NMAE : 0.4174  MRE : 0.4615  NPRE : 1.2732\r\n",
      "2023-01-10 01:31:25  Epoch 70 : MAE : 0.4773  RMSE : 0.8361  NMAE : 0.3809  MRE : 0.4401  NPRE : 1.4313\r\n",
      "2023-01-10 01:31:25  Epoch 75 : MAE : 0.4447  RMSE : 0.7630  NMAE : 0.3549  MRE : 0.4194  NPRE : 1.6072\r\n",
      "2023-01-10 01:31:25  实验 1 模型 6 training time = 0.89 s\r\n",
      "2023-01-10 01:31:25  Slice ID  6 : MAE = 0.4447, RMSE = 0.7630, NMAE = 0.3549, MRE = 0.4194, NPRE = 1.6072\r\n",
      "\r\n",
      "2023-01-10 01:31:25  \t实验 1 模型 7 开始分片训练\r\n",
      "2023-01-10 01:31:25  Epoch 10 : MAE : 1.7759  RMSE : 2.7673  NMAE : 1.4172  MRE : 1.0000  NPRE : 10.0393\r\n",
      "2023-01-10 01:31:25  Epoch 20 : MAE : 1.1151  RMSE : 1.9290  NMAE : 0.8899  MRE : 0.9600  NPRE : 5.3398\r\n",
      "2023-01-10 01:31:25  Epoch 30 : MAE : 0.8239  RMSE : 1.7481  NMAE : 0.6575  MRE : 0.6069  NPRE : 2.6362\r\n",
      "2023-01-10 01:31:25  Epoch 40 : MAE : 0.6963  RMSE : 1.4047  NMAE : 0.5557  MRE : 0.6002  NPRE : 1.8088\r\n",
      "2023-01-10 01:31:25  Epoch 50 : MAE : 0.5535  RMSE : 1.0884  NMAE : 0.4417  MRE : 0.4888  NPRE : 1.5591\r\n",
      "2023-01-10 01:31:25  Epoch 58 : MAE : 0.5169  RMSE : 0.8707  NMAE : 0.4125  MRE : 0.4532  NPRE : 2.0817\r\n",
      "2023-01-10 01:31:25  实验 1 模型 7 training time = 0.49 s\r\n",
      "2023-01-10 01:31:25  Slice ID  7 : MAE = 0.5169, RMSE = 0.8707, NMAE = 0.4125, MRE = 0.4532, NPRE = 2.0817\r\n",
      "\r\n",
      "2023-01-10 01:31:26  \t实验 1 模型 8 开始分片训练\r\n",
      "2023-01-10 01:31:26  Epoch 10 : MAE : 1.8321  RMSE : 2.8019  NMAE : 1.4621  MRE : 1.0000  NPRE : 11.5750\r\n",
      "2023-01-10 01:31:26  Epoch 20 : MAE : 1.0006  RMSE : 2.0618  NMAE : 0.7985  MRE : 0.8030  NPRE : 2.3846\r\n",
      "2023-01-10 01:31:26  Epoch 30 : MAE : 0.8168  RMSE : 1.8675  NMAE : 0.6518  MRE : 0.6292  NPRE : 1.4432\r\n",
      "2023-01-10 01:31:26  Epoch 40 : MAE : 0.7194  RMSE : 1.6606  NMAE : 0.5741  MRE : 0.5486  NPRE : 1.4284\r\n",
      "2023-01-10 01:31:26  Epoch 46 : MAE : 0.6549  RMSE : 1.5224  NMAE : 0.5226  MRE : 0.5017  NPRE : 2.0326\r\n",
      "2023-01-10 01:31:26  实验 1 模型 8 training time = 0.38 s\r\n",
      "2023-01-10 01:31:26  Slice ID  8 : MAE = 0.6549, RMSE = 1.5224, NMAE = 0.5226, MRE = 0.5017, NPRE = 2.0326\r\n",
      "\r\n",
      "2023-01-10 01:31:26  \t实验 1 模型 9 开始分片训练\r\n",
      "2023-01-10 01:31:26  Epoch 10 : MAE : 1.4157  RMSE : 2.3950  NMAE : 2.6849  MRE : 1.0000  NPRE : 19.2921\r\n",
      "2023-01-10 01:31:27  Epoch 20 : MAE : 0.6012  RMSE : 1.4144  NMAE : 1.1401  MRE : 1.0000  NPRE : 4.7803\r\n",
      "2023-01-10 01:31:27  Epoch 30 : MAE : 0.4488  RMSE : 1.3079  NMAE : 0.8512  MRE : 0.9059  NPRE : 3.5356\r\n",
      "2023-01-10 01:31:27  Epoch 39 : MAE : 0.3942  RMSE : 1.2562  NMAE : 0.7477  MRE : 0.6712  NPRE : 2.5710\r\n",
      "2023-01-10 01:31:27  实验 1 模型 9 training time = 0.47 s\r\n",
      "2023-01-10 01:31:27  Slice ID  9 : MAE = 0.3942, RMSE = 1.2562, NMAE = 0.7477, MRE = 0.6712, NPRE = 2.5710\r\n",
      "\r\n",
      "2023-01-10 01:31:27  \t实验 1 模型 10 开始分片训练\r\n",
      "2023-01-10 01:31:27  Epoch 10 : MAE : 0.9988  RMSE : 1.7469  NMAE : 1.8942  MRE : 1.0000  NPRE : 11.9832\r\n",
      "2023-01-10 01:31:27  Epoch 20 : MAE : 0.5393  RMSE : 1.3080  NMAE : 1.0228  MRE : 1.0000  NPRE : 3.8711\r\n",
      "2023-01-10 01:31:27  Epoch 30 : MAE : 0.4363  RMSE : 1.3094  NMAE : 0.8274  MRE : 0.7940  NPRE : 2.5598\r\n",
      "2023-01-10 01:31:27  Epoch 30 : MAE : 0.4363  RMSE : 1.3094  NMAE : 0.8274  MRE : 0.7940  NPRE : 2.5598\r\n",
      "2023-01-10 01:31:27  实验 1 模型 10 training time = 0.37 s\r\n",
      "2023-01-10 01:31:27  Slice ID  10 : MAE = 0.4363, RMSE = 1.3094, NMAE = 0.8274, MRE = 0.7940, NPRE = 2.5598\r\n",
      "\r\n",
      "2023-01-10 01:31:27  \t所有切片模型训练完毕\r\n",
      "2023-01-10 01:31:27  \t开始训练聚合模型\r\n",
      "100%|███████████████████████████████████████| 1546/1546 [00:42<00:00, 36.79it/s]\r\n",
      "2023-01-10 01:32:10  Result : MAE : 2.2139  RMSE : 3.4276  NMAE : 2.7366  MRE : 1.0000  NPRE : 27.8091\r\n",
      "2023-01-10 01:32:10  \t实验 1 新想法测试完毕!\r\n",
      "2023-01-10 01:32:10  \t聚合模型训练完毕\r\n",
      "2023-01-10 01:32:10  Round 1 : MAE = 2.2139, RMSE = 3.4276, NMAE = 2.7366, MRE = 1.0000, NPRE = 27.8091\r\n",
      "2023-01-10 01:32:10  Dataset : rt     interaction : NeuCF\r\n",
      "2023-01-10 01:32:10  Density : 10.00%, slice_epochs : 200, agg_epochs : 7\r\n",
      "2023-01-10 01:32:10  Part_type : 6,    slices : 10,       devices : gpu\r\n",
      "\r\n",
      "\r\n",
      "2023-01-10 01:32:10  Density 10.00% : MAE = 2.214, RMSE = 3.428, NMAE = 2.737, MRE = 1.000, NPRE = 27.809\r\n",
      "\r\n",
      "2023-01-10 01:32:10  Experiment success!\r\n"
     ]
    }
   ],
   "source": [
    "!python Experiment.py --dataset rt --interaction NeuCF --rounds 1 --agg_epochs 7 --density 0.10 --part_type 6 --processed 0 --debug 1 --agg_type softmax"
   ],
   "metadata": {
    "collapsed": false
   }
  },
  {
   "cell_type": "code",
   "execution_count": null,
   "outputs": [
    {
     "name": "stdout",
     "output_type": "stream",
     "text": [
      "2023-01-10 01:35:02  Namespace(agg_epochs=7, agg_type='softmax', balance=0, batch_size=128, dataset='rt', debug=1, density=0.1, devices='gpu', dimension=64, dropout=0.1, interaction='NeuCF', kmeans_type=1, node2vec=0, node2vec_batchsize=32, node2vec_dim=128, node2vec_epochs=20, node2vec_length=10, node2vec_walk=50, node2vec_windows=3, num_layers=2, order=2, part_iter=50, part_type=7, path='./datasets/data/WSDREAM/', processed=0, retrain=0, rounds=1, save_model=1, slice_epochs=200, slices=10, subagg=1, verbose=10)\r\n",
      "2023-01-10 01:35:02  Experiment start!\r\n",
      "2023-01-10 01:35:02  Dataset : rt     interaction : NeuCF\r\n",
      "2023-01-10 01:35:02  Density : 10.00%, slice_epochs : 200, agg_epochs : 7\r\n",
      "2023-01-10 01:35:02  Part_type : 7,    slices : 10,       devices : gpu\r\n",
      "\r\n",
      "2023-01-10 01:35:02  Round 1 experiment start!\r\n",
      "2023-01-10 01:35:02  \t原始数据集读取完毕\r\n",
      "2023-01-10 01:35:02  \tNode2Vec 基于服务聚类切割完毕\r\n",
      "2023-01-10 01:35:02  \t分切数据执行完毕\r\n",
      "2023-01-10 01:35:04  \t模型加载完毕\r\n",
      "2023-01-10 01:35:04  \t准备训练切片模型\r\n",
      "2023-01-10 01:35:04  \t实验 1 模型 1 开始分片训练\r\n",
      "2023-01-10 01:35:07  Epoch 10 : MAE : 0.4625  RMSE : 1.1893  NMAE : 0.6816  MRE : 0.5072  NPRE : 2.4868\r\n",
      "2023-01-10 01:35:09  Epoch 20 : MAE : 0.3736  RMSE : 0.9648  NMAE : 0.5506  MRE : 0.4356  NPRE : 2.0964\r\n",
      "2023-01-10 01:35:11  Epoch 24 : MAE : 0.3651  RMSE : 0.9347  NMAE : 0.5381  MRE : 0.4462  NPRE : 1.6584\r\n",
      "2023-01-10 01:35:11  实验 1 模型 1 training time = 4.10 s\r\n",
      "2023-01-10 01:35:11  Slice ID  1 : MAE = 0.3651, RMSE = 0.9347, NMAE = 0.5381, MRE = 0.4462, NPRE = 1.6584\r\n",
      "\r\n",
      "2023-01-10 01:35:11  \t实验 1 模型 2 开始分片训练\r\n",
      "2023-01-10 01:35:18  Epoch 10 : MAE : 0.5089  RMSE : 1.4051  NMAE : 0.7026  MRE : 0.4816  NPRE : 2.0793\r\n",
      "2023-01-10 01:35:21  Epoch 20 : MAE : 0.4224  RMSE : 1.1742  NMAE : 0.5832  MRE : 0.4543  NPRE : 2.0349\r\n",
      "2023-01-10 01:35:23  Epoch 30 : MAE : 0.3771  RMSE : 1.0599  NMAE : 0.5206  MRE : 0.3907  NPRE : 1.3112\r\n",
      "2023-01-10 01:35:25  Epoch 35 : MAE : 0.3662  RMSE : 1.0385  NMAE : 0.5056  MRE : 0.3739  NPRE : 1.3935\r\n",
      "2023-01-10 01:35:25  实验 1 模型 2 training time = 9.77 s\r\n",
      "2023-01-10 01:35:25  Slice ID  2 : MAE = 0.3662, RMSE = 1.0385, NMAE = 0.5056, MRE = 0.3739, NPRE = 1.3935\r\n",
      "\r\n",
      "2023-01-10 01:35:25  \t实验 1 模型 3 开始分片训练\r\n",
      "2023-01-10 01:35:27  Epoch 10 : MAE : 0.5616  RMSE : 1.5442  NMAE : 0.7207  MRE : 0.5424  NPRE : 2.0793\r\n",
      "2023-01-10 01:35:28  Epoch 20 : MAE : 0.4363  RMSE : 1.1847  NMAE : 0.5600  MRE : 0.4318  NPRE : 1.5826\r\n",
      "2023-01-10 01:35:30  Epoch 29 : MAE : 0.3936  RMSE : 1.0318  NMAE : 0.5051  MRE : 0.4099  NPRE : 1.7713\r\n",
      "2023-01-10 01:35:30  实验 1 模型 3 training time = 3.29 s\r\n",
      "2023-01-10 01:35:30  Slice ID  3 : MAE = 0.3936, RMSE = 1.0318, NMAE = 0.5051, MRE = 0.4099, NPRE = 1.7713\r\n",
      "\r\n",
      "2023-01-10 01:35:30  \t实验 1 模型 4 开始分片训练\r\n",
      "2023-01-10 01:35:53  Epoch 10 : MAE : 0.4813  RMSE : 1.3819  NMAE : 0.6103  MRE : 0.4448  NPRE : 2.1610\r\n"
     ]
    }
   ],
   "source": [
    "!python Experiment.py --dataset rt --interaction NeuCF --rounds 1 --agg_epochs 7 --density 0.10 --part_type 7 --processed 0 --debug 1 --agg_type softmax"
   ],
   "metadata": {
    "collapsed": false,
    "pycharm": {
     "is_executing": true
    }
   }
  },
  {
   "cell_type": "markdown",
   "source": [
    "*****"
   ],
   "metadata": {
    "collapsed": false
   }
  },
  {
   "cell_type": "code",
   "execution_count": null,
   "outputs": [],
   "source": [
    "!python Experiment.py --dataset rt --interaction CSMF --rounds 1 --agg_epochs 7 --density 0.10 --part_type 1 --processed 0 --debug 1 --agg_type softmax"
   ],
   "metadata": {
    "collapsed": false,
    "pycharm": {
     "is_executing": true
    }
   }
  },
  {
   "cell_type": "code",
   "execution_count": null,
   "outputs": [],
   "source": [
    "!python Experiment.py --dataset rt --interaction CSMF --rounds 1 --agg_epochs 7 --density 0.10 --part_type 2 --processed 0 --debug 1 --agg_type softmax"
   ],
   "metadata": {
    "collapsed": false,
    "pycharm": {
     "is_executing": true
    }
   }
  },
  {
   "cell_type": "code",
   "execution_count": null,
   "outputs": [],
   "source": [
    "!python Experiment.py --dataset rt --interaction CSMF --rounds 1 --agg_epochs 7 --density 0.10 --part_type 3 --processed 0 --debug 1 --agg_type softmax"
   ],
   "metadata": {
    "collapsed": false,
    "pycharm": {
     "is_executing": true
    }
   }
  },
  {
   "cell_type": "code",
   "execution_count": null,
   "outputs": [],
   "source": [
    "!python Experiment.py --dataset rt --interaction CSMF --rounds 1 --agg_epochs 7 --density 0.10 --part_type 4 --processed 0 --debug 1 --agg_type softmax"
   ],
   "metadata": {
    "collapsed": false,
    "pycharm": {
     "is_executing": true
    }
   }
  },
  {
   "cell_type": "code",
   "execution_count": null,
   "outputs": [],
   "source": [
    "!python Experiment.py --dataset rt --interaction CSMF --rounds 1 --agg_epochs 7 --density 0.10 --part_type 5 --processed 0 --debug 1 --agg_type softmax"
   ],
   "metadata": {
    "collapsed": false,
    "pycharm": {
     "is_executing": true
    }
   }
  },
  {
   "cell_type": "code",
   "execution_count": null,
   "outputs": [],
   "source": [
    "!python Experiment.py --dataset rt --interaction CSMF --rounds 1 --agg_epochs 7 --density 0.10 --part_type 6 --processed 0 --debug 1 --agg_type softmax"
   ],
   "metadata": {
    "collapsed": false,
    "pycharm": {
     "is_executing": true
    }
   }
  },
  {
   "cell_type": "code",
   "execution_count": null,
   "outputs": [],
   "source": [
    "!python Experiment.py --dataset rt --interaction CSMF --rounds 1 --agg_epochs 7 --density 0.10 --part_type 7 --processed 0 --debug 1 --agg_type softmax"
   ],
   "metadata": {
    "collapsed": false,
    "pycharm": {
     "is_executing": true
    }
   }
  },
  {
   "cell_type": "markdown",
   "source": [
    "*****"
   ],
   "metadata": {
    "collapsed": false
   }
  },
  {
   "cell_type": "code",
   "execution_count": null,
   "outputs": [],
   "source": [
    "!python Experiment.py --dataset rt --interaction Pure_Mf --rounds 1 --agg_epochs 7 --density 0.10 --part_type 1 --processed 0 --debug 1 --agg_type softmax"
   ],
   "metadata": {
    "collapsed": false,
    "pycharm": {
     "is_executing": true
    }
   }
  },
  {
   "cell_type": "code",
   "execution_count": null,
   "outputs": [],
   "source": [
    "!python Experiment.py --dataset rt --interaction Pure_Mf --rounds 1 --agg_epochs 7 --density 0.10 --part_type 2 --processed 0 --debug 1 --agg_type softmax"
   ],
   "metadata": {
    "collapsed": false,
    "pycharm": {
     "is_executing": true
    }
   }
  },
  {
   "cell_type": "code",
   "execution_count": null,
   "outputs": [],
   "source": [
    "!python Experiment.py --dataset rt --interaction Pure_Mf --rounds 1 --agg_epochs 7 --density 0.10 --part_type 3 --processed 0 --debug 1 --agg_type softmax"
   ],
   "metadata": {
    "collapsed": false,
    "pycharm": {
     "is_executing": true
    }
   }
  },
  {
   "cell_type": "code",
   "execution_count": null,
   "outputs": [],
   "source": [
    "!python Experiment.py --dataset rt --interaction Pure_Mf --rounds 1 --agg_epochs 7 --density 0.10 --part_type 4 --processed 0 --debug 1 --agg_type softmax"
   ],
   "metadata": {
    "collapsed": false,
    "pycharm": {
     "is_executing": true
    }
   }
  },
  {
   "cell_type": "code",
   "execution_count": null,
   "outputs": [],
   "source": [
    "!python Experiment.py --dataset rt --interaction Pure_Mf --rounds 1 --agg_epochs 7 --density 0.10 --part_type 5 --processed 0 --debug 1 --agg_type softmax"
   ],
   "metadata": {
    "collapsed": false,
    "pycharm": {
     "is_executing": true
    }
   }
  },
  {
   "cell_type": "code",
   "execution_count": null,
   "outputs": [],
   "source": [
    "!python Experiment.py --dataset rt --interaction Pure_Mf --rounds 1 --agg_epochs 7 --density 0.10 --part_type 6 --processed 0 --debug 1 --agg_type softmax"
   ],
   "metadata": {
    "collapsed": false,
    "pycharm": {
     "is_executing": true
    }
   }
  },
  {
   "cell_type": "code",
   "execution_count": null,
   "outputs": [],
   "source": [
    "!python Experiment.py --dataset rt --interaction Pure_Mf --rounds 1 --agg_epochs 7 --density 0.10 --part_type 7 --processed 0 --debug 1 --agg_type softmax"
   ],
   "metadata": {
    "collapsed": false,
    "pycharm": {
     "is_executing": true
    }
   }
  },
  {
   "cell_type": "markdown",
   "source": [
    "*****"
   ],
   "metadata": {
    "collapsed": false
   }
  },
  {
   "cell_type": "markdown",
   "source": [
    "*****"
   ],
   "metadata": {
    "collapsed": false
   }
  },
  {
   "cell_type": "code",
   "execution_count": null,
   "outputs": [],
   "source": [
    "import torch as t\n",
    "a = t.rand(10, 3)"
   ],
   "metadata": {
    "collapsed": false
   }
  },
  {
   "cell_type": "code",
   "execution_count": null,
   "outputs": [],
   "source": [
    "a[t.tensor(1)]"
   ],
   "metadata": {
    "collapsed": false
   }
  },
  {
   "cell_type": "code",
   "execution_count": null,
   "outputs": [],
   "source": [
    "import pickle as pk\n",
    "C = pk.load(open('./pretrain/user_based_10.pk', 'rb'))\n",
    "label = [0 for _ in range(339)]\n",
    "for i in range(len(C)):\n",
    "    for j in C[i]:\n",
    "        label[j] = i\n",
    "label"
   ],
   "metadata": {
    "collapsed": false
   }
  },
  {
   "cell_type": "code",
   "execution_count": null,
   "outputs": [],
   "source": [
    "!python Experiment.py --dataset rt --interaction NeuCF --rounds 1 --agg_epochs 7 --density 0.10 --part_type 4 --processed 0 --debug 1"
   ],
   "metadata": {
    "collapsed": false
   }
  }
 ],
 "metadata": {
  "kernelspec": {
   "display_name": "Python 3",
   "language": "python",
   "name": "python3"
  },
  "language_info": {
   "codemirror_mode": {
    "name": "ipython",
    "version": 2
   },
   "file_extension": ".py",
   "mimetype": "text/x-python",
   "name": "python",
   "nbconvert_exporter": "python",
   "pygments_lexer": "ipython2",
   "version": "2.7.6"
  }
 },
 "nbformat": 4,
 "nbformat_minor": 0
}
