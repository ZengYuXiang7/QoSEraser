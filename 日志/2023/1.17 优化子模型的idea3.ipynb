{
 "cells": [
  {
   "cell_type": "code",
   "execution_count": 1,
   "outputs": [],
   "source": [
    "import numpy as np"
   ],
   "metadata": {
    "collapsed": false
   }
  },
  {
   "cell_type": "code",
   "execution_count": 4,
   "outputs": [
    {
     "data": {
      "text/plain": "array([[0.57138457, 0.13293538, 0.95760812, 0.23372391],\n       [0.73241212, 0.68116427, 0.28021395, 0.74534072],\n       [0.89613137, 0.70977172, 0.109313  , 0.64525153]])"
     },
     "execution_count": 4,
     "metadata": {},
     "output_type": "execute_result"
    }
   ],
   "source": [
    "a = np.random.random((3, 4))\n",
    "a"
   ],
   "metadata": {
    "collapsed": false
   }
  },
  {
   "cell_type": "code",
   "execution_count": 5,
   "outputs": [
    {
     "data": {
      "text/plain": "array([[0.73241212, 0.68116427, 0.28021395, 0.74534072],\n       [0.89613137, 0.70977172, 0.109313  , 0.64525153],\n       [0.73241212, 0.68116427, 0.28021395, 0.74534072]])"
     },
     "execution_count": 5,
     "metadata": {},
     "output_type": "execute_result"
    }
   ],
   "source": [
    "b = [1, 2, 1]\n",
    "c = np.zeros((3, 4))\n",
    "c = a[b]\n",
    "c"
   ],
   "metadata": {
    "collapsed": false
   }
  },
  {
   "cell_type": "code",
   "execution_count": 14,
   "outputs": [
    {
     "data": {
      "text/plain": "[array([0.73241212, 0.68116427, 0.28021395, 0.74534072]),\n array([0.89613137, 0.70977172, 0.109313  , 0.64525153]),\n array([0.73241212, 0.68116427, 0.28021395, 0.74534072])]"
     },
     "execution_count": 14,
     "metadata": {},
     "output_type": "execute_result"
    }
   ],
   "source": [
    "li = []\n",
    "for i in range(len(c)):\n",
    "    li.append(c[i])\n",
    "li"
   ],
   "metadata": {
    "collapsed": false
   }
  },
  {
   "cell_type": "code",
   "execution_count": 18,
   "outputs": [
    {
     "data": {
      "text/plain": "array([[0.73241212, 0.68116427, 0.28021395, 0.74534072],\n       [0.89613137, 0.70977172, 0.109313  , 0.64525153],\n       [0.73241212, 0.68116427, 0.28021395, 0.74534072]])"
     },
     "execution_count": 18,
     "metadata": {},
     "output_type": "execute_result"
    }
   ],
   "source": [
    "np.stack(c, axis = 0)\n"
   ],
   "metadata": {
    "collapsed": false
   }
  },
  {
   "cell_type": "markdown",
   "source": [
    "# Author: Yuxiang Zeng"
   ],
   "metadata": {
    "collapsed": false
   }
  },
  {
   "cell_type": "markdown",
   "source": [
    "# Method : Ours    Idea新尝试"
   ],
   "metadata": {
    "collapsed": false
   }
  },
  {
   "cell_type": "markdown",
   "source": [
    "## Dataset : rt"
   ],
   "metadata": {
    "collapsed": false
   }
  },
  {
   "cell_type": "markdown",
   "source": [
    "# Desity = 0.10"
   ],
   "metadata": {
    "collapsed": false
   }
  },
  {
   "cell_type": "code",
   "execution_count": 1,
   "outputs": [
    {
     "name": "stdout",
     "output_type": "stream",
     "text": [
      "2023-01-17 15:26:43  Namespace(agg2=1, agg_epochs=5, agg_function=3, agg_type='softmax', balance=0, batch_size=128, beta=1, cluster='deep', cuda=True, dataset='rt', debug=1, density=0.1, devices='gpu', dimension=32, dir='../Dataset/mnist', dropout=0.1, epoch=1500, hidden_dims=[64, 64, 100], input_dim=128, interaction='NeuCF', kmeans_type=1, lamda=1, latent_dim=10, log_interval=100, lr=0.0001, n_classes=10, n_clusters=10, n_jobs=1, node2vec=0, node2vec_batchsize=32, node2vec_dim=128, node2vec_epochs=20, node2vec_length=8, node2vec_walk=15, node2vec_windows=3, num_layers=2, order=2, part_iter=50, part_type=5, path='./datasets/data/WSDREAM/', pre_epoch=1000, pretrain=True, processed=0, retrain=0, rounds=1, save_model=1, slice_epochs=60, slices=10, subagg=1, verbose=10, wd=0.0005)\r\n",
      "2023-01-17 15:26:43  Experiment start!\r\n",
      "2023-01-17 15:26:43  Dataset : rt     interaction : NeuCF\r\n",
      "2023-01-17 15:26:43  Density : 10.00%, slice_epochs : 100, agg_epochs : 5\r\n",
      "2023-01-17 15:26:43  Part_type : 5,    slices : 10,       devices : gpu\r\n",
      "\r\n",
      "2023-01-17 15:26:43  Round 1 experiment start!\r\n",
      "2023-01-17 15:26:43  \t原始数据集读取完毕\r\n",
      "2023-01-17 15:26:43  \t图嵌入均衡切割\r\n",
      "Computing transition probabilities: 100%|███| 507/507 [00:00<00:00, 5865.06it/s]\r\n",
      "Generating walks (CPU: 1): 100%|█████████████████| 4/4 [00:00<00:00, 131.19it/s]\r\n",
      "Generating walks (CPU: 2): 100%|█████████████████| 4/4 [00:00<00:00, 131.62it/s]\r\n",
      "Generating walks (CPU: 3): 100%|█████████████████| 4/4 [00:00<00:00, 127.59it/s]\r\n",
      "Generating walks (CPU: 4): 100%|█████████████████| 3/3 [00:00<00:00, 132.38it/s]\r\n",
      "========== Start pretraining ==========\r\n",
      "100%|██████████████████████████████████████| 1000/1000 [00:03<00:00, 257.32it/s]\r\n",
      "100%|███████████████████████████████████████| 1500/1500 [01:11<00:00, 20.89it/s]\r\n",
      "========== End pretraining ==========\r\n",
      "--------------------------------------------------------------------------------\r\n",
      "2023-01-17 15:28:03  \tbalance操作结束！\r\n",
      "17 24 37 37 39 36 35 32 43 39 \r\n",
      "2023-01-17 15:28:03  \tNode2Vec 基于用户聚类均衡切割完毕\r\n",
      "2023-01-17 15:28:03  \t分切数据执行完毕\r\n",
      "2023-01-17 15:28:03  \t模型加载完毕\r\n",
      "2023-01-17 15:28:03  \t准备训练切片模型\r\n",
      "2023-01-17 15:28:03  \t实验 1 模型 1 开始分片训练\r\n",
      "2023-01-17 15:28:05  Epoch 10 : MAE : 0.8586  RMSE : 2.2262  NMAE : 0.8413  MRE : 0.7406  NPRE : 3.8602\r\n",
      "2023-01-17 15:28:07  Epoch 20 : MAE : 0.8693  RMSE : 2.1697  NMAE : 0.8519  MRE : 0.7852  NPRE : 4.6413\r\n",
      "2023-01-17 15:28:09  Epoch 30 : MAE : 0.8534  RMSE : 2.1047  NMAE : 0.8362  MRE : 0.7412  NPRE : 3.8578\r\n",
      "2023-01-17 15:28:11  Epoch 40 : MAE : 0.8366  RMSE : 2.0388  NMAE : 0.8198  MRE : 0.7107  NPRE : 4.3455\r\n",
      "2023-01-17 15:28:13  Epoch 50 : MAE : 0.8305  RMSE : 2.0264  NMAE : 0.8138  MRE : 0.7085  NPRE : 4.2393\r\n",
      "2023-01-17 15:28:15  Epoch 60 : MAE : 0.8492  RMSE : 2.0373  NMAE : 0.8322  MRE : 0.7147  NPRE : 5.1548\r\n",
      "2023-01-17 15:28:17  Epoch 70 : MAE : 0.8072  RMSE : 2.0088  NMAE : 0.7910  MRE : 0.6837  NPRE : 4.2084\r\n",
      "2023-01-17 15:28:19  Epoch 80 : MAE : 0.7992  RMSE : 2.0230  NMAE : 0.7831  MRE : 0.6722  NPRE : 3.9799\r\n",
      "2023-01-17 15:28:21  Epoch 90 : MAE : 0.8130  RMSE : 2.0339  NMAE : 0.7966  MRE : 0.6641  NPRE : 3.9697\r\n",
      "2023-01-17 15:28:23  Epoch 100 : MAE : 0.7927  RMSE : 1.9854  NMAE : 0.7768  MRE : 0.6673  NPRE : 3.8240\r\n",
      "2023-01-17 15:28:23  Best epoch 95 : MAE : 0.7771  RMSE : 1.9651  NMAE : 0.7615  MRE : 0.6641  NPRE : 4.1224\r\n",
      "2023-01-17 15:28:23  实验 1 模型 1 training time = 14.88 s\r\n",
      "2023-01-17 15:28:23  Slice ID  1 : MAE = 0.7771, RMSE = 1.9651, NMAE = 0.7615, MRE = 0.6641, NPRE = 4.1224\r\n",
      "\r\n",
      "2023-01-17 15:28:23  \t实验 1 模型 2 开始分片训练\r\n",
      "2023-01-17 15:28:26  Epoch 10 : MAE : 0.9190  RMSE : 2.1816  NMAE : 0.8156  MRE : 0.7244  NPRE : 4.1181\r\n",
      "2023-01-17 15:28:28  Epoch 20 : MAE : 0.9145  RMSE : 2.1913  NMAE : 0.8117  MRE : 0.6949  NPRE : 3.9654\r\n",
      "2023-01-17 15:28:31  Epoch 30 : MAE : 0.8739  RMSE : 2.1074  NMAE : 0.7756  MRE : 0.6511  NPRE : 3.4015\r\n",
      "2023-01-17 15:28:34  Epoch 40 : MAE : 0.8693  RMSE : 2.0539  NMAE : 0.7715  MRE : 0.6395  NPRE : 3.7590\r\n",
      "2023-01-17 15:28:37  Epoch 50 : MAE : 0.8545  RMSE : 2.0688  NMAE : 0.7584  MRE : 0.5982  NPRE : 3.2957\r\n",
      "2023-01-17 15:28:40  Epoch 60 : MAE : 0.8513  RMSE : 2.0329  NMAE : 0.7556  MRE : 0.5771  NPRE : 3.4821\r\n",
      "2023-01-17 15:28:42  Epoch 70 : MAE : 0.8473  RMSE : 2.0337  NMAE : 0.7520  MRE : 0.5985  NPRE : 3.7045\r\n",
      "2023-01-17 15:28:45  Epoch 80 : MAE : 0.8307  RMSE : 2.0006  NMAE : 0.7373  MRE : 0.5874  NPRE : 3.7418\r\n",
      "2023-01-17 15:28:48  Epoch 90 : MAE : 0.8462  RMSE : 2.0048  NMAE : 0.7510  MRE : 0.6070  NPRE : 3.9800\r\n",
      "2023-01-17 15:28:50  Epoch 100 : MAE : 0.8253  RMSE : 1.9948  NMAE : 0.7325  MRE : 0.5938  NPRE : 3.6053\r\n",
      "2023-01-17 15:28:50  Best epoch 83 : MAE : 0.8180  RMSE : 1.9853  NMAE : 0.7260  MRE : 0.5790  NPRE : 3.4865\r\n",
      "2023-01-17 15:28:50  实验 1 模型 2 training time = 18.45 s\r\n",
      "2023-01-17 15:28:50  Slice ID  2 : MAE = 0.8180, RMSE = 1.9853, NMAE = 0.7260, MRE = 0.5790, NPRE = 3.4865\r\n",
      "\r\n",
      "2023-01-17 15:28:51  \t实验 1 模型 3 开始分片训练\r\n",
      "2023-01-17 15:28:55  Epoch 10 : MAE : 0.5684  RMSE : 1.6869  NMAE : 0.8083  MRE : 0.7102  NPRE : 3.4127\r\n",
      "2023-01-17 15:29:00  Epoch 20 : MAE : 0.5058  RMSE : 1.4826  NMAE : 0.7193  MRE : 0.6215  NPRE : 3.1782\r\n",
      "2023-01-17 15:29:05  Epoch 30 : MAE : 0.4833  RMSE : 1.3964  NMAE : 0.6872  MRE : 0.5870  NPRE : 2.6595\r\n",
      "2023-01-17 15:29:10  Epoch 40 : MAE : 0.4698  RMSE : 1.3761  NMAE : 0.6680  MRE : 0.5216  NPRE : 2.7590\r\n",
      "2023-01-17 15:29:15  Epoch 50 : MAE : 0.4644  RMSE : 1.3474  NMAE : 0.6604  MRE : 0.5319  NPRE : 2.5869\r\n",
      "2023-01-17 15:29:19  Epoch 60 : MAE : 0.4657  RMSE : 1.3533  NMAE : 0.6623  MRE : 0.5313  NPRE : 2.6692\r\n",
      "2023-01-17 15:29:24  Epoch 70 : MAE : 0.4601  RMSE : 1.3371  NMAE : 0.6543  MRE : 0.5202  NPRE : 2.8536\r\n",
      "2023-01-17 15:29:28  Epoch 80 : MAE : 0.4572  RMSE : 1.3277  NMAE : 0.6502  MRE : 0.5150  NPRE : 2.4400\r\n",
      "2023-01-17 15:29:32  Epoch 90 : MAE : 0.4568  RMSE : 1.3271  NMAE : 0.6496  MRE : 0.5220  NPRE : 2.7777\r\n",
      "2023-01-17 15:29:36  Epoch 100 : MAE : 0.4771  RMSE : 1.3568  NMAE : 0.6784  MRE : 0.5812  NPRE : 2.8740\r\n",
      "2023-01-17 15:29:36  Best epoch 75 : MAE : 0.4494  RMSE : 1.3282  NMAE : 0.6390  MRE : 0.5093  NPRE : 2.3636\r\n",
      "2023-01-17 15:29:36  实验 1 模型 3 training time = 28.89 s\r\n",
      "2023-01-17 15:29:36  Slice ID  3 : MAE = 0.4494, RMSE = 1.3282, NMAE = 0.6390, MRE = 0.5093, NPRE = 2.3636\r\n",
      "\r\n",
      "2023-01-17 15:29:37  \t实验 1 模型 4 开始分片训练\r\n",
      "2023-01-17 15:29:41  Epoch 10 : MAE : 0.6572  RMSE : 1.8487  NMAE : 0.8133  MRE : 0.7066  NPRE : 3.7599\r\n",
      "2023-01-17 15:29:45  Epoch 20 : MAE : 0.6173  RMSE : 1.7217  NMAE : 0.7639  MRE : 0.6518  NPRE : 3.1035\r\n",
      "2023-01-17 15:29:50  Epoch 30 : MAE : 0.5932  RMSE : 1.6674  NMAE : 0.7340  MRE : 0.5851  NPRE : 3.1157\r\n",
      "2023-01-17 15:29:54  Epoch 40 : MAE : 0.5700  RMSE : 1.6029  NMAE : 0.7053  MRE : 0.5819  NPRE : 3.1466\r\n",
      "2023-01-17 15:29:58  Epoch 50 : MAE : 0.5702  RMSE : 1.6152  NMAE : 0.7055  MRE : 0.5664  NPRE : 2.8825\r\n",
      "2023-01-17 15:30:02  Epoch 60 : MAE : 0.5546  RMSE : 1.5783  NMAE : 0.6863  MRE : 0.5402  NPRE : 2.6361\r\n",
      "2023-01-17 15:30:06  Epoch 70 : MAE : 0.5654  RMSE : 1.5824  NMAE : 0.6996  MRE : 0.5672  NPRE : 2.8140\r\n",
      "2023-01-17 15:30:10  Epoch 80 : MAE : 0.5606  RMSE : 1.5806  NMAE : 0.6936  MRE : 0.5575  NPRE : 2.9559\r\n",
      "2023-01-17 15:30:14  Epoch 90 : MAE : 0.5750  RMSE : 1.5867  NMAE : 0.7115  MRE : 0.6060  NPRE : 3.0652\r\n",
      "2023-01-17 15:30:18  Epoch 100 : MAE : 0.5682  RMSE : 1.5679  NMAE : 0.7031  MRE : 0.6059  NPRE : 2.9883\r\n",
      "2023-01-17 15:30:18  Best epoch 60 : MAE : 0.5546  RMSE : 1.5783  NMAE : 0.6863  MRE : 0.5402  NPRE : 2.6361\r\n",
      "2023-01-17 15:30:18  实验 1 模型 4 training time = 20.46 s\r\n",
      "2023-01-17 15:30:18  Slice ID  4 : MAE = 0.5546, RMSE = 1.5783, NMAE = 0.6863, MRE = 0.5402, NPRE = 2.6361\r\n",
      "\r\n",
      "2023-01-17 15:30:19  \t实验 1 模型 5 开始分片训练\r\n",
      "2023-01-17 15:30:23  Epoch 10 : MAE : 0.5509  RMSE : 1.6717  NMAE : 0.7800  MRE : 0.6532  NPRE : 3.5847\r\n",
      "2023-01-17 15:30:28  Epoch 20 : MAE : 0.5066  RMSE : 1.4882  NMAE : 0.7174  MRE : 0.6167  NPRE : 2.9878\r\n",
      "2023-01-17 15:30:33  Epoch 30 : MAE : 0.4812  RMSE : 1.3871  NMAE : 0.6814  MRE : 0.5919  NPRE : 2.9469\r\n",
      "2023-01-17 15:30:37  Epoch 40 : MAE : 0.4628  RMSE : 1.3790  NMAE : 0.6554  MRE : 0.5482  NPRE : 2.4810\r\n",
      "2023-01-17 15:30:42  Epoch 50 : MAE : 0.4673  RMSE : 1.3572  NMAE : 0.6618  MRE : 0.5511  NPRE : 2.8121\r\n",
      "2023-01-17 15:30:46  Epoch 60 : MAE : 0.4575  RMSE : 1.3523  NMAE : 0.6479  MRE : 0.5286  NPRE : 2.5911\r\n",
      "2023-01-17 15:30:50  Epoch 70 : MAE : 0.4594  RMSE : 1.3559  NMAE : 0.6505  MRE : 0.5554  NPRE : 2.2607\r\n",
      "2023-01-17 15:30:55  Epoch 80 : MAE : 0.4629  RMSE : 1.3333  NMAE : 0.6555  MRE : 0.5564  NPRE : 2.6265\r\n",
      "2023-01-17 15:30:59  Epoch 90 : MAE : 0.4653  RMSE : 1.3439  NMAE : 0.6589  MRE : 0.5640  NPRE : 2.7383\r\n",
      "2023-01-17 15:31:04  Epoch 100 : MAE : 0.4686  RMSE : 1.3383  NMAE : 0.6636  MRE : 0.6089  NPRE : 3.0443\r\n",
      "2023-01-17 15:31:04  Best epoch 62 : MAE : 0.4509  RMSE : 1.3332  NMAE : 0.6386  MRE : 0.5216  NPRE : 2.6414\r\n",
      "2023-01-17 15:31:04  实验 1 模型 5 training time = 22.71 s\r\n",
      "2023-01-17 15:31:04  Slice ID  5 : MAE = 0.4509, RMSE = 1.3332, NMAE = 0.6386, MRE = 0.5216, NPRE = 2.6414\r\n",
      "\r\n",
      "2023-01-17 15:31:04  \t实验 1 模型 6 开始分片训练\r\n",
      "2023-01-17 15:31:09  Epoch 10 : MAE : 0.7219  RMSE : 1.9425  NMAE : 0.8005  MRE : 0.6748  NPRE : 3.7941\r\n",
      "2023-01-17 15:31:13  Epoch 20 : MAE : 0.6674  RMSE : 1.8091  NMAE : 0.7402  MRE : 0.6254  NPRE : 3.4137\r\n",
      "2023-01-17 15:31:17  Epoch 30 : MAE : 0.6416  RMSE : 1.7670  NMAE : 0.7115  MRE : 0.5723  NPRE : 2.6616\r\n",
      "2023-01-17 15:31:21  Epoch 40 : MAE : 0.6518  RMSE : 1.7577  NMAE : 0.7228  MRE : 0.5554  NPRE : 2.7947\r\n",
      "2023-01-17 15:31:25  Epoch 50 : MAE : 0.6321  RMSE : 1.7201  NMAE : 0.7009  MRE : 0.5447  NPRE : 2.6863\r\n",
      "2023-01-17 15:31:29  Epoch 60 : MAE : 0.6129  RMSE : 1.6928  NMAE : 0.6797  MRE : 0.5342  NPRE : 2.2572\r\n",
      "2023-01-17 15:31:34  Epoch 70 : MAE : 0.6186  RMSE : 1.6845  NMAE : 0.6860  MRE : 0.5275  NPRE : 2.6887\r\n",
      "2023-01-17 15:31:39  Epoch 80 : MAE : 0.6184  RMSE : 1.6861  NMAE : 0.6858  MRE : 0.5359  NPRE : 2.4945\r\n",
      "2023-01-17 15:31:42  Epoch 90 : MAE : 0.6201  RMSE : 1.6718  NMAE : 0.6876  MRE : 0.5711  NPRE : 2.4576\r\n",
      "2023-01-17 15:31:47  Epoch 100 : MAE : 0.6315  RMSE : 1.6796  NMAE : 0.7004  MRE : 0.6022  NPRE : 2.9778\r\n",
      "2023-01-17 15:31:47  Best epoch 63 : MAE : 0.6122  RMSE : 1.6923  NMAE : 0.6789  MRE : 0.5452  NPRE : 2.3010\r\n",
      "2023-01-17 15:31:47  实验 1 模型 6 training time = 21.30 s\r\n",
      "2023-01-17 15:31:47  Slice ID  6 : MAE = 0.6122, RMSE = 1.6923, NMAE = 0.6789, MRE = 0.5452, NPRE = 2.3010\r\n",
      "\r\n",
      "2023-01-17 15:31:47  \t实验 1 模型 7 开始分片训练\r\n",
      "2023-01-17 15:31:51  Epoch 10 : MAE : 0.7807  RMSE : 1.9536  NMAE : 0.8104  MRE : 0.7384  NPRE : 3.4460\r\n",
      "2023-01-17 15:31:55  Epoch 20 : MAE : 0.7223  RMSE : 1.8127  NMAE : 0.7498  MRE : 0.6627  NPRE : 3.5920\r\n",
      "2023-01-17 15:31:59  Epoch 30 : MAE : 0.7021  RMSE : 1.7352  NMAE : 0.7288  MRE : 0.6375  NPRE : 3.7569\r\n",
      "2023-01-17 15:32:03  Epoch 40 : MAE : 0.6770  RMSE : 1.7001  NMAE : 0.7028  MRE : 0.6025  NPRE : 3.2454\r\n",
      "2023-01-17 15:32:07  Epoch 50 : MAE : 0.6656  RMSE : 1.6739  NMAE : 0.6910  MRE : 0.5881  NPRE : 3.1332\r\n",
      "2023-01-17 15:32:11  Epoch 60 : MAE : 0.6709  RMSE : 1.6694  NMAE : 0.6964  MRE : 0.5879  NPRE : 3.7021\r\n",
      "2023-01-17 15:32:15  Epoch 70 : MAE : 0.6638  RMSE : 1.6642  NMAE : 0.6890  MRE : 0.5803  NPRE : 3.3165\r\n",
      "2023-01-17 15:32:19  Epoch 80 : MAE : 0.6621  RMSE : 1.6628  NMAE : 0.6873  MRE : 0.5906  NPRE : 3.4616\r\n",
      "2023-01-17 15:32:23  Epoch 90 : MAE : 0.6659  RMSE : 1.6773  NMAE : 0.6912  MRE : 0.5956  NPRE : 3.3568\r\n",
      "2023-01-17 15:32:27  Epoch 100 : MAE : 0.6611  RMSE : 1.6751  NMAE : 0.6863  MRE : 0.6170  NPRE : 3.1127\r\n",
      "2023-01-17 15:32:27  Best epoch 67 : MAE : 0.6478  RMSE : 1.6519  NMAE : 0.6724  MRE : 0.5463  NPRE : 3.1943\r\n",
      "2023-01-17 15:32:27  实验 1 模型 7 training time = 22.07 s\r\n",
      "2023-01-17 15:32:27  Slice ID  7 : MAE = 0.6478, RMSE = 1.6519, NMAE = 0.6724, MRE = 0.5463, NPRE = 3.1943\r\n",
      "\r\n",
      "2023-01-17 15:32:27  \t实验 1 模型 8 开始分片训练\r\n",
      "2023-01-17 15:32:31  Epoch 10 : MAE : 0.8032  RMSE : 1.9080  NMAE : 0.8230  MRE : 0.6950  NPRE : 4.4529\r\n",
      "2023-01-17 15:32:35  Epoch 20 : MAE : 0.7623  RMSE : 1.7727  NMAE : 0.7811  MRE : 0.6940  NPRE : 4.8488\r\n",
      "2023-01-17 15:32:38  Epoch 30 : MAE : 0.7117  RMSE : 1.7028  NMAE : 0.7293  MRE : 0.6440  NPRE : 3.4354\r\n",
      "2023-01-17 15:32:42  Epoch 40 : MAE : 0.6938  RMSE : 1.6698  NMAE : 0.7109  MRE : 0.6008  NPRE : 4.0208\r\n",
      "2023-01-17 15:32:46  Epoch 50 : MAE : 0.6704  RMSE : 1.6454  NMAE : 0.6870  MRE : 0.5681  NPRE : 3.7895\r\n",
      "2023-01-17 15:32:49  Epoch 60 : MAE : 0.6561  RMSE : 1.6403  NMAE : 0.6724  MRE : 0.5574  NPRE : 3.1507\r\n",
      "2023-01-17 15:32:53  Epoch 70 : MAE : 0.6367  RMSE : 1.6064  NMAE : 0.6525  MRE : 0.5419  NPRE : 3.4229\r\n",
      "2023-01-17 15:32:56  Epoch 80 : MAE : 0.6399  RMSE : 1.6034  NMAE : 0.6557  MRE : 0.5668  NPRE : 3.2529\r\n",
      "2023-01-17 15:33:00  Epoch 90 : MAE : 0.6537  RMSE : 1.6304  NMAE : 0.6698  MRE : 0.5669  NPRE : 3.5081\r\n",
      "2023-01-17 15:33:03  Epoch 100 : MAE : 0.6448  RMSE : 1.6060  NMAE : 0.6607  MRE : 0.5886  NPRE : 3.3826\r\n",
      "2023-01-17 15:33:03  Best epoch 70 : MAE : 0.6367  RMSE : 1.6064  NMAE : 0.6525  MRE : 0.5419  NPRE : 3.4229\r\n",
      "2023-01-17 15:33:03  实验 1 模型 8 training time = 20.25 s\r\n",
      "2023-01-17 15:33:03  Slice ID  8 : MAE = 0.6367, RMSE = 1.6064, NMAE = 0.6525, MRE = 0.5419, NPRE = 3.4229\r\n",
      "\r\n",
      "2023-01-17 15:33:04  \t实验 1 模型 9 开始分片训练\r\n",
      "2023-01-17 15:33:09  Epoch 10 : MAE : 0.8298  RMSE : 1.9455  NMAE : 0.7299  MRE : 0.6496  NPRE : 3.8268\r\n",
      "2023-01-17 15:33:14  Epoch 20 : MAE : 0.7614  RMSE : 1.7821  NMAE : 0.6697  MRE : 0.6325  NPRE : 3.7268\r\n",
      "2023-01-17 15:33:19  Epoch 30 : MAE : 0.7012  RMSE : 1.7207  NMAE : 0.6168  MRE : 0.5378  NPRE : 2.6424\r\n",
      "2023-01-17 15:33:24  Epoch 40 : MAE : 0.6818  RMSE : 1.6878  NMAE : 0.5997  MRE : 0.5383  NPRE : 2.6760\r\n",
      "2023-01-17 15:33:29  Epoch 50 : MAE : 0.6700  RMSE : 1.6740  NMAE : 0.5893  MRE : 0.5130  NPRE : 2.6142\r\n",
      "2023-01-17 15:33:33  Epoch 60 : MAE : 0.6919  RMSE : 1.6881  NMAE : 0.6086  MRE : 0.5297  NPRE : 2.8867\r\n",
      "2023-01-17 15:33:38  Epoch 70 : MAE : 0.6771  RMSE : 1.6785  NMAE : 0.5956  MRE : 0.5224  NPRE : 3.0766\r\n",
      "2023-01-17 15:33:43  Epoch 80 : MAE : 0.6780  RMSE : 1.6722  NMAE : 0.5963  MRE : 0.5433  NPRE : 3.0137\r\n",
      "2023-01-17 15:33:48  Epoch 90 : MAE : 0.6787  RMSE : 1.6827  NMAE : 0.5970  MRE : 0.5362  NPRE : 2.8542\r\n",
      "2023-01-17 15:33:53  Epoch 100 : MAE : 0.6773  RMSE : 1.6531  NMAE : 0.5957  MRE : 0.5756  NPRE : 3.0928\r\n",
      "2023-01-17 15:33:53  Best epoch 79 : MAE : 0.6666  RMSE : 1.6484  NMAE : 0.5863  MRE : 0.5381  NPRE : 2.5702\r\n",
      "2023-01-17 15:33:53  实验 1 模型 9 training time = 31.85 s\r\n",
      "2023-01-17 15:33:53  Slice ID  9 : MAE = 0.6666, RMSE = 1.6484, NMAE = 0.5863, MRE = 0.5381, NPRE = 2.5702\r\n",
      "\r\n",
      "2023-01-17 15:33:53  \t实验 1 模型 10 开始分片训练\r\n",
      "2023-01-17 15:33:58  Epoch 10 : MAE : 0.6955  RMSE : 1.8515  NMAE : 0.7931  MRE : 0.7173  NPRE : 3.7798\r\n",
      "2023-01-17 15:34:02  Epoch 20 : MAE : 0.6368  RMSE : 1.7051  NMAE : 0.7262  MRE : 0.6250  NPRE : 3.1494\r\n",
      "2023-01-17 15:34:07  Epoch 30 : MAE : 0.6113  RMSE : 1.5965  NMAE : 0.6972  MRE : 0.6096  NPRE : 2.9141\r\n",
      "2023-01-17 15:34:11  Epoch 40 : MAE : 0.5891  RMSE : 1.5684  NMAE : 0.6718  MRE : 0.5353  NPRE : 3.1353\r\n",
      "2023-01-17 15:34:16  Epoch 50 : MAE : 0.5780  RMSE : 1.5582  NMAE : 0.6591  MRE : 0.5441  NPRE : 2.6778\r\n",
      "2023-01-17 15:34:20  Epoch 60 : MAE : 0.5687  RMSE : 1.5264  NMAE : 0.6486  MRE : 0.5314  NPRE : 2.9605\r\n",
      "2023-01-17 15:34:25  Epoch 70 : MAE : 0.5721  RMSE : 1.5374  NMAE : 0.6525  MRE : 0.5414  NPRE : 2.9528\r\n",
      "2023-01-17 15:34:29  Epoch 80 : MAE : 0.5702  RMSE : 1.5281  NMAE : 0.6502  MRE : 0.5453  NPRE : 2.8581\r\n",
      "2023-01-17 15:34:33  Epoch 90 : MAE : 0.5767  RMSE : 1.5232  NMAE : 0.6577  MRE : 0.5844  NPRE : 3.3199\r\n",
      "2023-01-17 15:34:37  Epoch 100 : MAE : 0.5767  RMSE : 1.5148  NMAE : 0.6577  MRE : 0.5970  NPRE : 3.2891\r\n",
      "2023-01-17 15:34:37  Best epoch 69 : MAE : 0.5595  RMSE : 1.5104  NMAE : 0.6380  MRE : 0.5276  NPRE : 2.8734\r\n",
      "2023-01-17 15:34:37  实验 1 模型 10 training time = 25.05 s\r\n",
      "2023-01-17 15:34:37  Slice ID  10 : MAE = 0.5595, RMSE = 1.5104, NMAE = 0.6380, MRE = 0.5276, NPRE = 2.8734\r\n",
      "\r\n",
      "2023-01-17 15:34:37  \t所有切片模型训练完毕\r\n",
      "2023-01-17 15:34:37  \t开始训练聚合模型\r\n",
      "100%|███████████████████████████████████████| 1554/1554 [05:07<00:00,  5.05it/s]\r\n",
      "2023-01-17 15:39:46  Result : MAE : 0.6113  RMSE : 1.6088  NMAE : 0.6730  MRE : 0.5959  NPRE : 3.1352\r\n",
      "2023-01-17 15:39:46  \t实验 1 新想法测试完毕!\r\n",
      "2023-01-17 15:39:46  \t实验 1 : Aggregators training time = 0.00 s\r\n",
      "\r\n",
      "2023-01-17 15:39:46  \t聚合模型训练完毕\r\n",
      "2023-01-17 15:39:46  Round 1 : MAE = 0.6113, RMSE = 1.6088, NMAE = 0.6730, MRE = 0.5959, NPRE = 3.1352\r\n",
      "------------------------------------------------------------------------------------------------------------------------\r\n",
      "2023-01-17 15:39:46  Dataset : rt     interaction : NeuCF\r\n",
      "2023-01-17 15:39:46  Density : 10.00%, slice_epochs : 100, agg_epochs : 5\r\n",
      "2023-01-17 15:39:46  Part_type : 5,    slices : 10,       devices : gpu\r\n",
      "\r\n",
      "\r\n",
      "2023-01-17 15:39:46  Density 10.00% : MAE = 0.611, RMSE = 1.609, NMAE = 0.673, MRE = 0.596, NPRE = 3.135\r\n",
      "\r\n",
      "2023-01-17 15:39:46  Experiment success!\r\n"
     ]
    }
   ],
   "source": [
    "!python Experiment.py --dataset rt --interaction NeuCF --rounds 1 --agg_epochs 5 --density 0.10 --part_type 5 --debug 1 --agg_function 3"
   ],
   "metadata": {
    "collapsed": false
   }
  },
  {
   "cell_type": "code",
   "execution_count": 2,
   "outputs": [
    {
     "name": "stdout",
     "output_type": "stream",
     "text": [
      "usage: Experiment.py [-h] [--path [PATH]] [--dataset DATASET]\r\n",
      "                     [--interaction INTERACTION] [--rounds ROUNDS]\r\n",
      "                     [--slice_epochs SLICE_EPOCHS] [--agg_epochs AGG_EPOCHS]\r\n",
      "                     [--batch_size BATCH_SIZE] [--verbose VERBOSE]\r\n",
      "                     [--devices DEVICES] [--save_model SAVE_MODEL]\r\n",
      "                     [--debug DEBUG] [--processed PROCESSED]\r\n",
      "                     [--retrain RETRAIN] [--slices SLICES]\r\n",
      "                     [--part_type PART_TYPE] [--part_iter PART_ITER]\r\n",
      "                     [--density DENSITY] [--dropout DROPOUT]\r\n",
      "                     [--dimension DIMENSION] [--order ORDER]\r\n",
      "                     [--num_layers NUM_LAYERS] [--node2vec NODE2VEC]\r\n",
      "                     [--node2vec_batchsize NODE2VEC_BATCHSIZE]\r\n",
      "                     [--node2vec_walk NODE2VEC_WALK]\r\n",
      "                     [--node2vec_dim NODE2VEC_DIM]\r\n",
      "                     [--node2vec_epochs NODE2VEC_EPOCHS]\r\n",
      "                     [--node2vec_length NODE2VEC_LENGTH]\r\n",
      "                     [--node2vec_windows NODE2VEC_WINDOWS] [--balance BALANCE]\r\n",
      "                     [--kmeans_type KMEANS_TYPE] [--cluster CLUSTER]\r\n",
      "                     [--agg_type AGG_TYPE] [--subagg SUBAGG] [--agg2 AGG2]\r\n",
      "                     [--agg_function AGG_FUNCTION] [--dir DIR]\r\n",
      "                     [--input-dim INPUT_DIM] [--n-classes N_CLASSES] [--lr LR]\r\n",
      "                     [--wd WD] [--batch-size BATCH_SIZE] [--epoch EPOCH]\r\n",
      "                     [--pre-epoch PRE_EPOCH] [--pretrain PRETRAIN]\r\n",
      "                     [--lamda LAMDA] [--beta BETA] [--hidden-dims HIDDEN_DIMS]\r\n",
      "                     [--latent_dim LATENT_DIM] [--n-clusters N_CLUSTERS]\r\n",
      "                     [--n-jobs N_JOBS] [--cuda CUDA]\r\n",
      "                     [--log-interval LOG_INTERVAL]\r\n",
      "Experiment.py: error: unrecognized arguments: 0\r\n"
     ]
    }
   ],
   "source": [
    "!python Experiment.py --dataset rt --interaction CSMF --rounds 1 --agg_epochs 10 --density 0.10 --part_type 5 --debug 1 --agg_function 3"
   ],
   "metadata": {
    "collapsed": false
   }
  },
  {
   "cell_type": "code",
   "execution_count": 3,
   "outputs": [
    {
     "name": "stdout",
     "output_type": "stream",
     "text": [
      "2023-01-17 15:39:47  Namespace(agg2=1, agg_epochs=10, agg_function=3, agg_type='softmax', balance=0, batch_size=128, beta=1, cluster='deep', cuda=True, dataset='rt', debug=1, density=0.1, devices='gpu', dimension=32, dir='../Dataset/mnist', dropout=0.1, epoch=1500, hidden_dims=[64, 64, 100], input_dim=128, interaction='Pure_Mf', kmeans_type=1, lamda=1, latent_dim=10, log_interval=100, lr=0.0001, n_classes=10, n_clusters=10, n_jobs=1, node2vec=0, node2vec_batchsize=32, node2vec_dim=128, node2vec_epochs=20, node2vec_length=8, node2vec_walk=15, node2vec_windows=3, num_layers=2, order=2, part_iter=50, part_type=5, path='./datasets/data/WSDREAM/', pre_epoch=1000, pretrain=True, processed=0, retrain=0, rounds=1, save_model=1, slice_epochs=60, slices=10, subagg=1, verbose=10, wd=0.0005)\r\n",
      "2023-01-17 15:39:47  Experiment start!\r\n",
      "2023-01-17 15:39:47  Dataset : rt     interaction : Pure_Mf\r\n",
      "2023-01-17 15:39:47  Density : 10.00%, slice_epochs : 60, agg_epochs : 10\r\n",
      "2023-01-17 15:39:47  Part_type : 5,    slices : 10,       devices : gpu\r\n",
      "\r\n",
      "2023-01-17 15:39:47  Round 1 experiment start!\r\n",
      "2023-01-17 15:39:48  \t原始数据集读取完毕\r\n",
      "2023-01-17 15:39:48  \t图嵌入均衡切割\r\n",
      "Computing transition probabilities: 100%|███| 507/507 [00:00<00:00, 5866.03it/s]\r\n",
      "Generating walks (CPU: 1): 100%|█████████████████| 4/4 [00:00<00:00, 132.52it/s]\r\n",
      "Generating walks (CPU: 2): 100%|█████████████████| 4/4 [00:00<00:00, 133.18it/s]\r\n",
      "Generating walks (CPU: 3): 100%|█████████████████| 4/4 [00:00<00:00, 133.27it/s]\r\n",
      "Generating walks (CPU: 4): 100%|█████████████████| 3/3 [00:00<00:00, 134.96it/s]\r\n",
      "========== Start pretraining ==========\r\n",
      "100%|██████████████████████████████████████| 1000/1000 [00:04<00:00, 226.08it/s]\r\n",
      " 21%|████████▍                               | 315/1500 [00:14<00:55, 21.35it/s]"
     ]
    },
    {
     "ename": "KeyboardInterrupt",
     "evalue": "",
     "output_type": "error",
     "traceback": [
      "\u001B[0;31m---------------------------------------------------------------------------\u001B[0m",
      "\u001B[0;31mKeyboardInterrupt\u001B[0m                         Traceback (most recent call last)",
      "\u001B[0;32m~/anaconda3/lib/python3.8/site-packages/IPython/utils/_process_posix.py\u001B[0m in \u001B[0;36msystem\u001B[0;34m(self, cmd)\u001B[0m\n\u001B[1;32m    161\u001B[0m                 \u001B[0;31m# know whether we've finished (if we matched EOF) or not\u001B[0m\u001B[0;34m\u001B[0m\u001B[0;34m\u001B[0m\u001B[0;34m\u001B[0m\u001B[0m\n\u001B[0;32m--> 162\u001B[0;31m                 \u001B[0mres_idx\u001B[0m \u001B[0;34m=\u001B[0m \u001B[0mchild\u001B[0m\u001B[0;34m.\u001B[0m\u001B[0mexpect_list\u001B[0m\u001B[0;34m(\u001B[0m\u001B[0mpatterns\u001B[0m\u001B[0;34m,\u001B[0m \u001B[0mself\u001B[0m\u001B[0;34m.\u001B[0m\u001B[0mread_timeout\u001B[0m\u001B[0;34m)\u001B[0m\u001B[0;34m\u001B[0m\u001B[0;34m\u001B[0m\u001B[0m\n\u001B[0m\u001B[1;32m    163\u001B[0m                 \u001B[0mprint\u001B[0m\u001B[0;34m(\u001B[0m\u001B[0mchild\u001B[0m\u001B[0;34m.\u001B[0m\u001B[0mbefore\u001B[0m\u001B[0;34m[\u001B[0m\u001B[0mout_size\u001B[0m\u001B[0;34m:\u001B[0m\u001B[0;34m]\u001B[0m\u001B[0;34m.\u001B[0m\u001B[0mdecode\u001B[0m\u001B[0;34m(\u001B[0m\u001B[0menc\u001B[0m\u001B[0;34m,\u001B[0m \u001B[0;34m'replace'\u001B[0m\u001B[0;34m)\u001B[0m\u001B[0;34m,\u001B[0m \u001B[0mend\u001B[0m\u001B[0;34m=\u001B[0m\u001B[0;34m''\u001B[0m\u001B[0;34m)\u001B[0m\u001B[0;34m\u001B[0m\u001B[0;34m\u001B[0m\u001B[0m\n",
      "\u001B[0;32m~/anaconda3/lib/python3.8/site-packages/pexpect/spawnbase.py\u001B[0m in \u001B[0;36mexpect_list\u001B[0;34m(self, pattern_list, timeout, searchwindowsize, async_, **kw)\u001B[0m\n\u001B[1;32m    371\u001B[0m         \u001B[0;32melse\u001B[0m\u001B[0;34m:\u001B[0m\u001B[0;34m\u001B[0m\u001B[0;34m\u001B[0m\u001B[0m\n\u001B[0;32m--> 372\u001B[0;31m             \u001B[0;32mreturn\u001B[0m \u001B[0mexp\u001B[0m\u001B[0;34m.\u001B[0m\u001B[0mexpect_loop\u001B[0m\u001B[0;34m(\u001B[0m\u001B[0mtimeout\u001B[0m\u001B[0;34m)\u001B[0m\u001B[0;34m\u001B[0m\u001B[0;34m\u001B[0m\u001B[0m\n\u001B[0m\u001B[1;32m    373\u001B[0m \u001B[0;34m\u001B[0m\u001B[0m\n",
      "\u001B[0;32m~/anaconda3/lib/python3.8/site-packages/pexpect/expect.py\u001B[0m in \u001B[0;36mexpect_loop\u001B[0;34m(self, timeout)\u001B[0m\n\u001B[1;32m    168\u001B[0m                 \u001B[0;31m# Still have time left, so read more data\u001B[0m\u001B[0;34m\u001B[0m\u001B[0;34m\u001B[0m\u001B[0;34m\u001B[0m\u001B[0m\n\u001B[0;32m--> 169\u001B[0;31m                 \u001B[0mincoming\u001B[0m \u001B[0;34m=\u001B[0m \u001B[0mspawn\u001B[0m\u001B[0;34m.\u001B[0m\u001B[0mread_nonblocking\u001B[0m\u001B[0;34m(\u001B[0m\u001B[0mspawn\u001B[0m\u001B[0;34m.\u001B[0m\u001B[0mmaxread\u001B[0m\u001B[0;34m,\u001B[0m \u001B[0mtimeout\u001B[0m\u001B[0;34m)\u001B[0m\u001B[0;34m\u001B[0m\u001B[0;34m\u001B[0m\u001B[0m\n\u001B[0m\u001B[1;32m    170\u001B[0m                 \u001B[0;32mif\u001B[0m \u001B[0mself\u001B[0m\u001B[0;34m.\u001B[0m\u001B[0mspawn\u001B[0m\u001B[0;34m.\u001B[0m\u001B[0mdelayafterread\u001B[0m \u001B[0;32mis\u001B[0m \u001B[0;32mnot\u001B[0m \u001B[0;32mNone\u001B[0m\u001B[0;34m:\u001B[0m\u001B[0;34m\u001B[0m\u001B[0;34m\u001B[0m\u001B[0m\n",
      "\u001B[0;32m~/anaconda3/lib/python3.8/site-packages/pexpect/pty_spawn.py\u001B[0m in \u001B[0;36mread_nonblocking\u001B[0;34m(self, size, timeout)\u001B[0m\n\u001B[1;32m    499\u001B[0m         \u001B[0;31m# (possibly timeout=None), we call select() with a timeout.\u001B[0m\u001B[0;34m\u001B[0m\u001B[0;34m\u001B[0m\u001B[0;34m\u001B[0m\u001B[0m\n\u001B[0;32m--> 500\u001B[0;31m         \u001B[0;32mif\u001B[0m \u001B[0;34m(\u001B[0m\u001B[0mtimeout\u001B[0m \u001B[0;34m!=\u001B[0m \u001B[0;36m0\u001B[0m\u001B[0;34m)\u001B[0m \u001B[0;32mand\u001B[0m \u001B[0mselect\u001B[0m\u001B[0;34m(\u001B[0m\u001B[0mtimeout\u001B[0m\u001B[0;34m)\u001B[0m\u001B[0;34m:\u001B[0m\u001B[0;34m\u001B[0m\u001B[0;34m\u001B[0m\u001B[0m\n\u001B[0m\u001B[1;32m    501\u001B[0m             \u001B[0;32mreturn\u001B[0m \u001B[0msuper\u001B[0m\u001B[0;34m(\u001B[0m\u001B[0mspawn\u001B[0m\u001B[0;34m,\u001B[0m \u001B[0mself\u001B[0m\u001B[0;34m)\u001B[0m\u001B[0;34m.\u001B[0m\u001B[0mread_nonblocking\u001B[0m\u001B[0;34m(\u001B[0m\u001B[0msize\u001B[0m\u001B[0;34m)\u001B[0m\u001B[0;34m\u001B[0m\u001B[0;34m\u001B[0m\u001B[0m\n",
      "\u001B[0;32m~/anaconda3/lib/python3.8/site-packages/pexpect/pty_spawn.py\u001B[0m in \u001B[0;36mselect\u001B[0;34m(timeout)\u001B[0m\n\u001B[1;32m    449\u001B[0m             \u001B[0;32mdef\u001B[0m \u001B[0mselect\u001B[0m\u001B[0;34m(\u001B[0m\u001B[0mtimeout\u001B[0m\u001B[0;34m)\u001B[0m\u001B[0;34m:\u001B[0m\u001B[0;34m\u001B[0m\u001B[0;34m\u001B[0m\u001B[0m\n\u001B[0;32m--> 450\u001B[0;31m                 \u001B[0;32mreturn\u001B[0m \u001B[0mselect_ignore_interrupts\u001B[0m\u001B[0;34m(\u001B[0m\u001B[0;34m[\u001B[0m\u001B[0mself\u001B[0m\u001B[0;34m.\u001B[0m\u001B[0mchild_fd\u001B[0m\u001B[0;34m]\u001B[0m\u001B[0;34m,\u001B[0m \u001B[0;34m[\u001B[0m\u001B[0;34m]\u001B[0m\u001B[0;34m,\u001B[0m \u001B[0;34m[\u001B[0m\u001B[0;34m]\u001B[0m\u001B[0;34m,\u001B[0m \u001B[0mtimeout\u001B[0m\u001B[0;34m)\u001B[0m\u001B[0;34m[\u001B[0m\u001B[0;36m0\u001B[0m\u001B[0;34m]\u001B[0m\u001B[0;34m\u001B[0m\u001B[0;34m\u001B[0m\u001B[0m\n\u001B[0m\u001B[1;32m    451\u001B[0m \u001B[0;34m\u001B[0m\u001B[0m\n",
      "\u001B[0;32m~/anaconda3/lib/python3.8/site-packages/pexpect/utils.py\u001B[0m in \u001B[0;36mselect_ignore_interrupts\u001B[0;34m(iwtd, owtd, ewtd, timeout)\u001B[0m\n\u001B[1;32m    142\u001B[0m         \u001B[0;32mtry\u001B[0m\u001B[0;34m:\u001B[0m\u001B[0;34m\u001B[0m\u001B[0;34m\u001B[0m\u001B[0m\n\u001B[0;32m--> 143\u001B[0;31m             \u001B[0;32mreturn\u001B[0m \u001B[0mselect\u001B[0m\u001B[0;34m.\u001B[0m\u001B[0mselect\u001B[0m\u001B[0;34m(\u001B[0m\u001B[0miwtd\u001B[0m\u001B[0;34m,\u001B[0m \u001B[0mowtd\u001B[0m\u001B[0;34m,\u001B[0m \u001B[0mewtd\u001B[0m\u001B[0;34m,\u001B[0m \u001B[0mtimeout\u001B[0m\u001B[0;34m)\u001B[0m\u001B[0;34m\u001B[0m\u001B[0;34m\u001B[0m\u001B[0m\n\u001B[0m\u001B[1;32m    144\u001B[0m         \u001B[0;32mexcept\u001B[0m \u001B[0mInterruptedError\u001B[0m\u001B[0;34m:\u001B[0m\u001B[0;34m\u001B[0m\u001B[0;34m\u001B[0m\u001B[0m\n",
      "\u001B[0;31mKeyboardInterrupt\u001B[0m: ",
      "\nDuring handling of the above exception, another exception occurred:\n",
      "\u001B[0;31mKeyboardInterrupt\u001B[0m                         Traceback (most recent call last)",
      "\u001B[0;32m<ipython-input-3-3a6aa5af70eb>\u001B[0m in \u001B[0;36m<module>\u001B[0;34m\u001B[0m\n\u001B[0;32m----> 1\u001B[0;31m \u001B[0mget_ipython\u001B[0m\u001B[0;34m(\u001B[0m\u001B[0;34m)\u001B[0m\u001B[0;34m.\u001B[0m\u001B[0msystem\u001B[0m\u001B[0;34m(\u001B[0m\u001B[0;34m'python Experiment.py --dataset rt --interaction Pure_Mf --rounds 1 --agg_epochs 10 --density 0.10 --part_type 5 --debug 1 --agg_function 3'\u001B[0m\u001B[0;34m)\u001B[0m\u001B[0;34m\u001B[0m\u001B[0;34m\u001B[0m\u001B[0m\n\u001B[0m",
      "\u001B[0;32m~/anaconda3/lib/python3.8/site-packages/ipykernel/zmqshell.py\u001B[0m in \u001B[0;36msystem_piped\u001B[0;34m(self, cmd)\u001B[0m\n\u001B[1;32m    633\u001B[0m                 \u001B[0mself\u001B[0m\u001B[0;34m.\u001B[0m\u001B[0muser_ns\u001B[0m\u001B[0;34m[\u001B[0m\u001B[0;34m'_exit_code'\u001B[0m\u001B[0;34m]\u001B[0m \u001B[0;34m=\u001B[0m \u001B[0msystem\u001B[0m\u001B[0;34m(\u001B[0m\u001B[0mcmd\u001B[0m\u001B[0;34m)\u001B[0m\u001B[0;34m\u001B[0m\u001B[0;34m\u001B[0m\u001B[0m\n\u001B[1;32m    634\u001B[0m         \u001B[0;32melse\u001B[0m\u001B[0;34m:\u001B[0m\u001B[0;34m\u001B[0m\u001B[0;34m\u001B[0m\u001B[0m\n\u001B[0;32m--> 635\u001B[0;31m             \u001B[0mself\u001B[0m\u001B[0;34m.\u001B[0m\u001B[0muser_ns\u001B[0m\u001B[0;34m[\u001B[0m\u001B[0;34m'_exit_code'\u001B[0m\u001B[0;34m]\u001B[0m \u001B[0;34m=\u001B[0m \u001B[0msystem\u001B[0m\u001B[0;34m(\u001B[0m\u001B[0mself\u001B[0m\u001B[0;34m.\u001B[0m\u001B[0mvar_expand\u001B[0m\u001B[0;34m(\u001B[0m\u001B[0mcmd\u001B[0m\u001B[0;34m,\u001B[0m \u001B[0mdepth\u001B[0m\u001B[0;34m=\u001B[0m\u001B[0;36m1\u001B[0m\u001B[0;34m)\u001B[0m\u001B[0;34m)\u001B[0m\u001B[0;34m\u001B[0m\u001B[0;34m\u001B[0m\u001B[0m\n\u001B[0m\u001B[1;32m    636\u001B[0m \u001B[0;34m\u001B[0m\u001B[0m\n\u001B[1;32m    637\u001B[0m     \u001B[0;31m# Ensure new system_piped implementation is used\u001B[0m\u001B[0;34m\u001B[0m\u001B[0;34m\u001B[0m\u001B[0;34m\u001B[0m\u001B[0m\n",
      "\u001B[0;32m~/anaconda3/lib/python3.8/site-packages/IPython/utils/_process_posix.py\u001B[0m in \u001B[0;36msystem\u001B[0;34m(self, cmd)\u001B[0m\n\u001B[1;32m    184\u001B[0m             \u001B[0;32mfinally\u001B[0m\u001B[0;34m:\u001B[0m\u001B[0;34m\u001B[0m\u001B[0;34m\u001B[0m\u001B[0m\n\u001B[1;32m    185\u001B[0m                 \u001B[0;31m# Ensure the subprocess really is terminated\u001B[0m\u001B[0;34m\u001B[0m\u001B[0;34m\u001B[0m\u001B[0;34m\u001B[0m\u001B[0m\n\u001B[0;32m--> 186\u001B[0;31m                 \u001B[0mchild\u001B[0m\u001B[0;34m.\u001B[0m\u001B[0mterminate\u001B[0m\u001B[0;34m(\u001B[0m\u001B[0mforce\u001B[0m\u001B[0;34m=\u001B[0m\u001B[0;32mTrue\u001B[0m\u001B[0;34m)\u001B[0m\u001B[0;34m\u001B[0m\u001B[0;34m\u001B[0m\u001B[0m\n\u001B[0m\u001B[1;32m    187\u001B[0m         \u001B[0;31m# add isalive check, to ensure exitstatus is set:\u001B[0m\u001B[0;34m\u001B[0m\u001B[0;34m\u001B[0m\u001B[0;34m\u001B[0m\u001B[0m\n\u001B[1;32m    188\u001B[0m         \u001B[0mchild\u001B[0m\u001B[0;34m.\u001B[0m\u001B[0misalive\u001B[0m\u001B[0;34m(\u001B[0m\u001B[0;34m)\u001B[0m\u001B[0;34m\u001B[0m\u001B[0;34m\u001B[0m\u001B[0m\n",
      "\u001B[0;32m~/anaconda3/lib/python3.8/site-packages/pexpect/pty_spawn.py\u001B[0m in \u001B[0;36mterminate\u001B[0;34m(self, force)\u001B[0m\n\u001B[1;32m    644\u001B[0m                 \u001B[0;32mreturn\u001B[0m \u001B[0;32mTrue\u001B[0m\u001B[0;34m\u001B[0m\u001B[0;34m\u001B[0m\u001B[0m\n\u001B[1;32m    645\u001B[0m             \u001B[0mself\u001B[0m\u001B[0;34m.\u001B[0m\u001B[0mkill\u001B[0m\u001B[0;34m(\u001B[0m\u001B[0msignal\u001B[0m\u001B[0;34m.\u001B[0m\u001B[0mSIGCONT\u001B[0m\u001B[0;34m)\u001B[0m\u001B[0;34m\u001B[0m\u001B[0;34m\u001B[0m\u001B[0m\n\u001B[0;32m--> 646\u001B[0;31m             \u001B[0mtime\u001B[0m\u001B[0;34m.\u001B[0m\u001B[0msleep\u001B[0m\u001B[0;34m(\u001B[0m\u001B[0mself\u001B[0m\u001B[0;34m.\u001B[0m\u001B[0mdelayafterterminate\u001B[0m\u001B[0;34m)\u001B[0m\u001B[0;34m\u001B[0m\u001B[0;34m\u001B[0m\u001B[0m\n\u001B[0m\u001B[1;32m    647\u001B[0m             \u001B[0;32mif\u001B[0m \u001B[0;32mnot\u001B[0m \u001B[0mself\u001B[0m\u001B[0;34m.\u001B[0m\u001B[0misalive\u001B[0m\u001B[0;34m(\u001B[0m\u001B[0;34m)\u001B[0m\u001B[0;34m:\u001B[0m\u001B[0;34m\u001B[0m\u001B[0;34m\u001B[0m\u001B[0m\n\u001B[1;32m    648\u001B[0m                 \u001B[0;32mreturn\u001B[0m \u001B[0;32mTrue\u001B[0m\u001B[0;34m\u001B[0m\u001B[0;34m\u001B[0m\u001B[0m\n",
      "\u001B[0;31mKeyboardInterrupt\u001B[0m: "
     ]
    }
   ],
   "source": [
    "!python Experiment.py --dataset rt --interaction Pure_Mf --rounds 1 --agg_epochs 10 --density 0.10 --part_type 5 --debug 1 --agg_function 3"
   ],
   "metadata": {
    "collapsed": false
   }
  },
  {
   "cell_type": "code",
   "execution_count": null,
   "outputs": [],
   "source": [
    "!python Experiment.py --dataset rt --interaction GraphMF --slice_epochs 15 --rounds 1 --agg_epochs 1 --density 0.10 --part_type 5 --debug 1 --agg_function 3"
   ],
   "metadata": {
    "collapsed": false
   }
  },
  {
   "cell_type": "markdown",
   "source": [
    "## Dataset : tp"
   ],
   "metadata": {
    "collapsed": false
   }
  },
  {
   "cell_type": "markdown",
   "source": [
    "# Desity = 0.10"
   ],
   "metadata": {
    "collapsed": false
   }
  },
  {
   "cell_type": "code",
   "execution_count": null,
   "outputs": [],
   "source": [
    "!python Experiment.py --dataset tp --interaction NeuCF --rounds 1 --agg_epochs 5 --density 0.10 --part_type 5 --debug 1 --agg_function 3"
   ],
   "metadata": {
    "collapsed": false
   }
  },
  {
   "cell_type": "code",
   "execution_count": null,
   "outputs": [],
   "source": [
    "!python Experiment.py --dataset tp --interaction CSMF --rounds 1 --agg_epochs 10 --density 0.10 --part_type 5 --debug 1 --agg_function 3"
   ],
   "metadata": {
    "collapsed": false
   }
  },
  {
   "cell_type": "code",
   "execution_count": null,
   "outputs": [],
   "source": [
    "!python Experiment.py --dataset tp --interaction Pure_Mf --rounds 1 --agg_epochs 10 --density 0.10 --part_type 5 --debug 1 --agg_function 3"
   ],
   "metadata": {
    "collapsed": false
   }
  },
  {
   "cell_type": "code",
   "execution_count": null,
   "outputs": [],
   "source": [
    "!python Experiment.py --dataset tp --interaction GraphMF --slice_epochs 15 --rounds 1 --agg_epochs 1 --density 0.10 --part_type 5 --debug 1 --agg_function 3"
   ],
   "metadata": {
    "collapsed": false
   }
  }
 ],
 "metadata": {
  "kernelspec": {
   "display_name": "Python 3",
   "language": "python",
   "name": "python3"
  },
  "language_info": {
   "codemirror_mode": {
    "name": "ipython",
    "version": 2
   },
   "file_extension": ".py",
   "mimetype": "text/x-python",
   "name": "python",
   "nbconvert_exporter": "python",
   "pygments_lexer": "ipython2",
   "version": "2.7.6"
  }
 },
 "nbformat": 4,
 "nbformat_minor": 0
}
