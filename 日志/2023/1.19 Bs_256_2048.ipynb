{
 "cells": [
  {
   "cell_type": "code",
   "execution_count": null,
   "metadata": {
    "collapsed": true
   },
   "outputs": [],
   "source": [
    "import argparse\n",
    "parser = argparse.ArgumentParser()\n",
    "\n",
    "# 实验常用\n",
    "parser.add_argument('--path', nargs='?', default='./datasets/data/WSDREAM/')\n",
    "parser.add_argument('--dataset', type=str, default='rt')\n",
    "parser.add_argument('--interaction', type=str, default='NeuCF')\n",
    "\n",
    "parser.add_argument('--rounds', type=int, default=1)\n",
    "parser.add_argument('--slice_epochs', type=int, default=100)\n",
    "parser.add_argument('--slice_lr', type=float, default=1e-3)\n",
    "parser.add_argument('--slice_decay', type=float, default=1e-3)\n",
    "parser.add_argument('--agg_epochs', type=int, default=10)\n",
    "parser.add_argument('--agg_lr', type=float, default=1e-3)\n",
    "parser.add_argument('--agg_decay', type=float, default=1e-3)\n",
    "parser.add_argument('--att_lr', type=float, default=1e-3)\n",
    "parser.add_argument('--att_decay', type=float, default=1e-4)\n",
    "parser.add_argument('--batch_size', type=int, default=128)\n",
    "parser.add_argument('--verbose', type=int, default=10)\n",
    "parser.add_argument('--devices', type=str, default='gpu')\n",
    "parser.add_argument('--save_model', type=int, default=1)\n",
    "parser.add_argument('--debug', type=int, default=0)\n",
    "parser.add_argument('--record', type=int, default=0)\n",
    "parser.add_argument('--slice', type=int, default=1)\n",
    "\n",
    "# 超参数\n",
    "parser.add_argument('--processed', type=int, default=0)  # 数据预处理\n",
    "\n",
    "# 切片\n",
    "parser.add_argument('--retrain', type=int, default=0)\n",
    "parser.add_argument('--slices', type=int, default=10)\n",
    "parser.add_argument('--part_type', type=int, default=5)  # 切割方法\n",
    "parser.add_argument('--part_iter', type=int, default=20)  # 切割方法\n",
    "\n",
    "# NeuCF\n",
    "parser.add_argument('--density', type=float, default=0.1)  # 采样率\n",
    "parser.add_argument('--dropout', type=float, default=0.1)\n",
    "\n",
    "# NeuGraphMF, CSMF\n",
    "parser.add_argument('--dimension', type=int, default=32)\n",
    "parser.add_argument('--order', type=int, default=2)\n",
    "parser.add_argument('--num_layers', type=int, default=2)\n",
    "\n",
    "# node2vec\n",
    "parser.add_argument('--node2vec', type=int, default=0)\n",
    "parser.add_argument('--node2vec_batchsize', type=int, default=32)\n",
    "parser.add_argument('--node2vec_walk', type=int, default=15)\n",
    "parser.add_argument('--node2vec_dim', type=int, default=128)\n",
    "parser.add_argument('--node2vec_epochs', type=int, default=20)\n",
    "parser.add_argument('--node2vec_length', type=int, default=8)\n",
    "parser.add_argument('--node2vec_windows', type=int, default=3)\n",
    "\n",
    "parser.add_argument('--random_state', type=int, default=1001)\n",
    "parser.add_argument('--cluster', type=str, default='deep')  # kmeans or deep cluster\n",
    "# agg_type\n",
    "parser.add_argument('--agg_type', type=str, default='att')\n",
    "\n",
    "parser.add_argument('--external_dim', type=int, default=64)\n",
    "\n",
    "parser.add_argument('--F', type=int, default=1)\n",
    "parser.add_argument('--agg2', type=int, default=0)  # mean fedavg\n",
    "\n",
    "parser.add_argument('--agg_function', type=int, default = 1)\n",
    "\n",
    "###################################################################################################################################\n",
    "# Deep cluster\n",
    "# Dataset parameters\n",
    "parser.add_argument('--dir', default='../Dataset/mnist', help='dataset directory')\n",
    "parser.add_argument('--input-dim', type=int, default=128, help='input dimension')\n",
    "parser.add_argument('--n-classes', type=int, default=10, help='output dimension')\n",
    "# Training parameters\n",
    "parser.add_argument('--lr', type=float, default=1e-4, help='learning rate (default: 1e-4)')\n",
    "parser.add_argument('--wd', type=float, default=5e-4, help='weight decay (default: 5e-4)')\n",
    "parser.add_argument('--batch-size', type=int, default=256, help='input batch size for training')\n",
    "parser.add_argument('--pre-epoch', type=int, default=1000, help='number of pre-train epochs')\n",
    "parser.add_argument('--epoch', type=int, default=1500, help='number of epochs to train')\n",
    "parser.add_argument('--pretrain', type=bool, default=True,  help='whether use pre-training')\n",
    "# Model parameters\n",
    "parser.add_argument('--lamda', type=float, default=1, help='coefficient of the reconstruction loss')\n",
    "parser.add_argument('--beta', type=float, default=1, help='coefficient of the regularization term on clustering')\n",
    "parser.add_argument('--hidden-dims', default=[64, 64, 100], help='learning rate (default: 1e-4)')\n",
    "parser.add_argument('--latent_dim', type=int, default=10, help='latent space dimension')\n",
    "parser.add_argument('--n-clusters', type=int, default=10, help='number of clusters in the latent space')\n",
    "# Utility parameters\n",
    "parser.add_argument('--n-jobs', type=int, default=1, help='number of jobs to run in parallel')\n",
    "parser.add_argument('--cuda', type=bool, default=True, help='whether to use GPU')\n",
    "parser.add_argument('--log-interval', type=int, default=100, help='how many batches to wait before logging the training status')\n",
    "###################################################################################################################################\n",
    "\n",
    "args = parser.parse_args(args=[])\n",
    "args.slices = 5"
   ]
  },
  {
   "cell_type": "code",
   "execution_count": null,
   "outputs": [],
   "source": [
    "args.dataset = 'rt'"
   ],
   "metadata": {
    "collapsed": false
   }
  },
  {
   "cell_type": "code",
   "execution_count": null,
   "outputs": [],
   "source": [
    "ans = []\n",
    "from Experiment import main\n",
    "for lr in [1e-2, 8e-3, 4e-3]:\n",
    "    for decay in [1e-4, 1e-3, 1e-2]:\n",
    "        args.density = 0.10\n",
    "        args.rounds = 1\n",
    "        args.interaction = 'CSMF'\n",
    "        args.dimension = 32\n",
    "        args.part_type = 5\n",
    "        args.agg_lr = lr\n",
    "        args.agg_decay = decay\n",
    "        args.debug = 0\n",
    "        MAE = main(args, 0)\n",
    "        ans.append([args.interaction, 'lr : ', lr, 'decay', decay, MAE])"
   ],
   "metadata": {
    "collapsed": false
   }
  },
  {
   "cell_type": "code",
   "execution_count": null,
   "outputs": [],
   "source": [
    "index = -1\n",
    "best_MAE = 2e9\n",
    "for i in range(len(ans)):\n",
    "    if ans[i][-1] < best_MAE:\n",
    "        best_MAE = ans[i][-1]\n",
    "        index = i\n",
    "    print(ans[i])\n",
    "print('Best settings : ', ans[index])"
   ],
   "metadata": {
    "collapsed": false
   }
  },
  {
   "cell_type": "code",
   "execution_count": null,
   "outputs": [],
   "source": [
    "ans = []\n",
    "from Experiment import main\n",
    "for lr in [1e-2, 8e-3, 4e-3]:\n",
    "    for decay in [1e-4, 1e-3, 1e-2]:\n",
    "        args.density = 0.15\n",
    "        args.rounds = 1\n",
    "        args.interaction = 'CSMF'\n",
    "        args.dimension = 32\n",
    "        args.part_type = 5\n",
    "        args.agg_lr = lr\n",
    "        args.agg_decay = decay\n",
    "        args.debug = 0\n",
    "        MAE = main(args, 0)\n",
    "        ans.append([args.interaction, 'lr : ', lr, 'decay', decay, MAE])"
   ],
   "metadata": {
    "collapsed": false
   }
  },
  {
   "cell_type": "code",
   "execution_count": null,
   "outputs": [],
   "source": [
    "index = -1\n",
    "best_MAE = 2e9\n",
    "for i in range(len(ans)):\n",
    "    if ans[i][-1] < best_MAE:\n",
    "        best_MAE = ans[i][-1]\n",
    "        index = i\n",
    "    print(ans[i])\n",
    "print('Best settings : ', ans[index])"
   ],
   "metadata": {
    "collapsed": false
   }
  },
  {
   "cell_type": "code",
   "execution_count": null,
   "outputs": [],
   "source": [
    "ans = []\n",
    "from Experiment import main\n",
    "for lr in [1e-2, 8e-3, 4e-3]:\n",
    "    for decay in [1e-4, 1e-3, 1e-2]:\n",
    "        args.density = 0.20\n",
    "        args.rounds = 1\n",
    "        args.interaction = 'CSMF'\n",
    "        args.dimension = 32\n",
    "        args.part_type = 5\n",
    "        args.agg_lr = lr\n",
    "        args.agg_decay = decay\n",
    "        args.debug = 0\n",
    "        MAE = main(args, 0)\n",
    "        ans.append([args.interaction, 'lr : ', lr, 'decay', decay, MAE])"
   ],
   "metadata": {
    "collapsed": false
   }
  },
  {
   "cell_type": "code",
   "execution_count": null,
   "outputs": [],
   "source": [
    "index = -1\n",
    "best_MAE = 2e9\n",
    "for i in range(len(ans)):\n",
    "    if ans[i][-1] < best_MAE:\n",
    "        best_MAE = ans[i][-1]\n",
    "        index = i\n",
    "    print(ans[i])\n",
    "print('Best settings : ', ans[index])"
   ],
   "metadata": {
    "collapsed": false
   }
  },
  {
   "cell_type": "code",
   "execution_count": null,
   "outputs": [],
   "source": [
    "ans = []\n",
    "from Experiment import main\n",
    "for lr in [1e-2, 8e-3, 4e-3]:\n",
    "    for decay in [1e-4, 1e-3, 1e-2]:\n",
    "        args.density = 0.25\n",
    "        args.rounds = 1\n",
    "        args.interaction = 'CSMF'\n",
    "        args.dimension = 32\n",
    "        args.part_type = 5\n",
    "        args.agg_lr = lr\n",
    "        args.agg_decay = decay\n",
    "        args.debug = 0\n",
    "        MAE = main(args, 0)\n",
    "        ans.append([args.interaction, 'lr : ', lr, 'decay', decay, MAE])"
   ],
   "metadata": {
    "collapsed": false
   }
  },
  {
   "cell_type": "code",
   "execution_count": null,
   "outputs": [],
   "source": [
    "index = -1\n",
    "best_MAE = 2e9\n",
    "for i in range(len(ans)):\n",
    "    if ans[i][-1] < best_MAE:\n",
    "        best_MAE = ans[i][-1]\n",
    "        index = i\n",
    "    print(ans[i])\n",
    "print('Best settings : ', ans[index])"
   ],
   "metadata": {
    "collapsed": false
   }
  },
  {
   "cell_type": "code",
   "execution_count": null,
   "outputs": [],
   "source": [
    "ans = []\n",
    "from Experiment import main\n",
    "for lr in [1e-2, 8e-3, 4e-3]:\n",
    "    for decay in [1e-4, 1e-3, 1e-2]:\n",
    "        args.density = 0.30\n",
    "        args.rounds = 1\n",
    "        args.interaction = 'CSMF'\n",
    "        args.dimension = 32\n",
    "        args.part_type = 5\n",
    "        args.agg_lr = lr\n",
    "        args.agg_decay = decay\n",
    "        args.debug = 0\n",
    "        MAE = main(args, 0)\n",
    "        ans.append([args.interaction, 'lr : ', lr, 'decay', decay, MAE])"
   ],
   "metadata": {
    "collapsed": false
   }
  },
  {
   "cell_type": "code",
   "execution_count": null,
   "outputs": [],
   "source": [
    "index = -1\n",
    "best_MAE = 2e9\n",
    "for i in range(len(ans)):\n",
    "    if ans[i][-1] < best_MAE:\n",
    "        best_MAE = ans[i][-1]\n",
    "        index = i\n",
    "    print(ans[i])\n",
    "print('Best settings : ', ans[index])"
   ],
   "metadata": {
    "collapsed": false
   }
  },
  {
   "cell_type": "code",
   "execution_count": null,
   "outputs": [],
   "source": [],
   "metadata": {
    "collapsed": false
   }
  },
  {
   "cell_type": "code",
   "execution_count": null,
   "outputs": [],
   "source": [
    "args.dataset = 'tp'\n",
    "args.agg_epochs = 12\n",
    "ans = []\n",
    "from Experiment import main\n",
    "for lr in [1.2e-2, 1e-2, 8e-3]:\n",
    "    for decay in [1e-4, 1e-3, 1e-2]:\n",
    "        args.density = 0.10\n",
    "        args.rounds = 1\n",
    "        args.interaction = 'GraphMF'\n",
    "        args.dimension = 32\n",
    "        args.part_type = 5\n",
    "        args.agg_lr = lr\n",
    "        args.agg_decay = decay\n",
    "        args.record = 0\n",
    "        MAE = main(args, 0)\n",
    "        ans.append([args.interaction, 'lr : ', lr, 'decay', decay, MAE])"
   ],
   "metadata": {
    "collapsed": false,
    "pycharm": {
     "is_executing": true
    }
   }
  },
  {
   "cell_type": "code",
   "execution_count": 5,
   "outputs": [
    {
     "name": "stdout",
     "output_type": "stream",
     "text": [
      "['GraphMF', 'lr : ', 0.012, 'decay', 0.0001, 22.303409853292226]\n",
      "['GraphMF', 'lr : ', 0.012, 'decay', 0.001, 22.404655011996372]\n",
      "['GraphMF', 'lr : ', 0.012, 'decay', 0.01, 18.510242589564776]\n",
      "['GraphMF', 'lr : ', 0.01, 'decay', 0.0001, 17.300730727334248]\n",
      "['GraphMF', 'lr : ', 0.01, 'decay', 0.001, 18.8195420092034]\n",
      "['GraphMF', 'lr : ', 0.01, 'decay', 0.01, 17.65052259603592]\n",
      "['GraphMF', 'lr : ', 0.008, 'decay', 0.0001, 19.391591493065587]\n",
      "['GraphMF', 'lr : ', 0.008, 'decay', 0.001, 19.650048046648216]\n",
      "['GraphMF', 'lr : ', 0.008, 'decay', 0.01, 17.587533701611786]\n",
      "Best settings :  ['GraphMF', 'lr : ', 0.01, 'decay', 0.0001, 17.300730727334248]\n"
     ]
    }
   ],
   "source": [
    "index = -1\n",
    "best_MAE = 2e9\n",
    "for i in range(len(ans)):\n",
    "    if ans[i][-1] < best_MAE:\n",
    "        best_MAE = ans[i][-1]\n",
    "        index = i\n",
    "    print(ans[i])\n",
    "print('Best settings : ', ans[index])"
   ],
   "metadata": {
    "collapsed": false
   }
  },
  {
   "cell_type": "code",
   "execution_count": null,
   "outputs": [],
   "source": [
    "ans = []\n",
    "from Experiment import main\n",
    "for lr in [1.2e-2, 1e-2, 8e-3]:\n",
    "    for decay in [1e-4, 1e-3, 1e-2]:\n",
    "        args.density = 0.15\n",
    "        args.rounds = 1\n",
    "        args.interaction = 'GraphMF'\n",
    "        args.dimension = 32\n",
    "        args.part_type = 5\n",
    "        args.agg_lr = lr\n",
    "        args.agg_decay = decay\n",
    "        args.debug = 0\n",
    "        MAE = main(args, 0)\n",
    "        ans.append([args.interaction, 'lr : ', lr, 'decay', decay, MAE])"
   ],
   "metadata": {
    "collapsed": false,
    "pycharm": {
     "is_executing": true
    }
   }
  },
  {
   "cell_type": "code",
   "execution_count": 7,
   "outputs": [
    {
     "name": "stdout",
     "output_type": "stream",
     "text": [
      "['GraphMF', 'lr : ', 0.012, 'decay', 0.0001, 17.024587696237223]\n",
      "['GraphMF', 'lr : ', 0.012, 'decay', 0.001, 15.147270115749672]\n",
      "['GraphMF', 'lr : ', 0.012, 'decay', 0.01, 16.575419535501943]\n",
      "['GraphMF', 'lr : ', 0.01, 'decay', 0.0001, 14.996315666452706]\n",
      "['GraphMF', 'lr : ', 0.01, 'decay', 0.001, 15.512050081891353]\n",
      "['GraphMF', 'lr : ', 0.01, 'decay', 0.01, 14.56706385765082]\n",
      "['GraphMF', 'lr : ', 0.008, 'decay', 0.0001, 15.095161183415364]\n",
      "['GraphMF', 'lr : ', 0.008, 'decay', 0.001, 14.486282962460935]\n",
      "['GraphMF', 'lr : ', 0.008, 'decay', 0.01, 15.449325905435439]\n",
      "Best settings :  ['GraphMF', 'lr : ', 0.008, 'decay', 0.001, 14.486282962460935]\n"
     ]
    }
   ],
   "source": [
    "index = -1\n",
    "best_MAE = 2e9\n",
    "for i in range(len(ans)):\n",
    "    if ans[i][-1] < best_MAE:\n",
    "        best_MAE = ans[i][-1]\n",
    "        index = i\n",
    "    print(ans[i])\n",
    "print('Best settings : ', ans[index])"
   ],
   "metadata": {
    "collapsed": false
   }
  },
  {
   "cell_type": "code",
   "execution_count": 8,
   "outputs": [
    {
     "name": "stdout",
     "output_type": "stream",
     "text": [
      "2023-01-31 21:52:27  \t图嵌入均衡切割\n",
      "42 45 78 89 85 \n",
      "2023-01-31 21:52:27  \tNode2Vec 基于用户聚类均衡切割完毕\n",
      "2023-01-31 21:52:27  \t分切数据执行完毕\n",
      "2023-01-31 21:52:27  \tNeuGraphMF建图中\n",
      "2023-01-31 21:52:34  \tNeuGraphMF建图完毕\n",
      "2023-01-31 21:52:34  \t模型加载完毕\n",
      "2023-01-31 21:52:34  \t准备训练切片模型\n",
      "2023-01-31 21:52:34  \t实验 1 模型 1 开始分片训练\n",
      "2023-01-31 21:52:53  Epoch 10 : MAE : 19.3861  RMSE : 61.0171  NMAE : 0.4174  MRE : 0.3418  NPRE : 1.8399\n",
      "2023-01-31 21:53:03  Best epoch 12 : MAE : 18.6875  RMSE : 59.9307  NMAE : 0.4024  MRE : 0.2901  NPRE : 1.4864\n",
      "2023-01-31 21:53:03  实验 1 模型 1 training time = 22.19 s\n",
      "2023-01-31 21:53:03  Slice ID  1 : MAE = 18.6875, RMSE = 59.9307, NMAE = 0.4024, MRE = 0.2901, NPRE = 1.4864\n",
      "\n",
      "2023-01-31 21:53:03  \t实验 1 模型 2 开始分片训练\n",
      "2023-01-31 21:53:31  Epoch 10 : MAE : 16.4512  RMSE : 55.5896  NMAE : 0.3557  MRE : 0.2350  NPRE : 0.9420\n",
      "2023-01-31 21:53:44  Best epoch 14 : MAE : 15.8405  RMSE : 54.4299  NMAE : 0.3425  MRE : 0.2160  NPRE : 0.9603\n",
      "2023-01-31 21:53:44  实验 1 模型 2 training time = 35.35 s\n",
      "2023-01-31 21:53:44  Slice ID  2 : MAE = 15.8405, RMSE = 54.4299, NMAE = 0.3425, MRE = 0.2160, NPRE = 0.9603\n",
      "\n",
      "2023-01-31 21:53:44  \t实验 1 模型 3 开始分片训练\n",
      "2023-01-31 21:54:41  Epoch 10 : MAE : 14.0862  RMSE : 47.5792  NMAE : 0.2906  MRE : 0.2006  NPRE : 0.7720\n",
      "2023-01-31 21:55:08  Best epoch 14 : MAE : 13.7224  RMSE : 46.9570  NMAE : 0.2831  MRE : 0.1854  NPRE : 0.8663\n",
      "2023-01-31 21:55:08  实验 1 模型 3 training time = 75.31 s\n",
      "2023-01-31 21:55:08  Slice ID  3 : MAE = 13.7224, RMSE = 46.9570, NMAE = 0.2831, MRE = 0.1854, NPRE = 0.8663\n",
      "\n",
      "2023-01-31 21:55:08  \t实验 1 模型 4 开始分片训练\n"
     ]
    },
    {
     "ename": "KeyboardInterrupt",
     "evalue": "",
     "output_type": "error",
     "traceback": [
      "\u001B[0;31m---------------------------------------------------------------------------\u001B[0m",
      "\u001B[0;31mKeyboardInterrupt\u001B[0m                         Traceback (most recent call last)",
      "\u001B[0;32m<ipython-input-8-3b1e30945823>\u001B[0m in \u001B[0;36m<module>\u001B[0;34m\u001B[0m\n\u001B[1;32m     11\u001B[0m         \u001B[0margs\u001B[0m\u001B[0;34m.\u001B[0m\u001B[0magg_decay\u001B[0m \u001B[0;34m=\u001B[0m \u001B[0mdecay\u001B[0m\u001B[0;34m\u001B[0m\u001B[0;34m\u001B[0m\u001B[0m\n\u001B[1;32m     12\u001B[0m         \u001B[0margs\u001B[0m\u001B[0;34m.\u001B[0m\u001B[0mdebug\u001B[0m \u001B[0;34m=\u001B[0m \u001B[0;36m0\u001B[0m\u001B[0;34m\u001B[0m\u001B[0;34m\u001B[0m\u001B[0m\n\u001B[0;32m---> 13\u001B[0;31m         \u001B[0mMAE\u001B[0m \u001B[0;34m=\u001B[0m \u001B[0mmain\u001B[0m\u001B[0;34m(\u001B[0m\u001B[0margs\u001B[0m\u001B[0;34m,\u001B[0m \u001B[0;36m0\u001B[0m\u001B[0;34m)\u001B[0m\u001B[0;34m\u001B[0m\u001B[0;34m\u001B[0m\u001B[0m\n\u001B[0m\u001B[1;32m     14\u001B[0m         \u001B[0mans\u001B[0m\u001B[0;34m.\u001B[0m\u001B[0mappend\u001B[0m\u001B[0;34m(\u001B[0m\u001B[0;34m[\u001B[0m\u001B[0margs\u001B[0m\u001B[0;34m.\u001B[0m\u001B[0minteraction\u001B[0m\u001B[0;34m,\u001B[0m \u001B[0;34m'lr : '\u001B[0m\u001B[0;34m,\u001B[0m \u001B[0mlr\u001B[0m\u001B[0;34m,\u001B[0m \u001B[0;34m'decay'\u001B[0m\u001B[0;34m,\u001B[0m \u001B[0mdecay\u001B[0m\u001B[0;34m,\u001B[0m \u001B[0mMAE\u001B[0m\u001B[0;34m]\u001B[0m\u001B[0;34m)\u001B[0m\u001B[0;34m\u001B[0m\u001B[0;34m\u001B[0m\u001B[0m\n",
      "\u001B[0;32m~/code_python/QoS_Eraser/Experiment.py\u001B[0m in \u001B[0;36mmain\u001B[0;34m(args, start_round)\u001B[0m\n\u001B[1;32m    145\u001B[0m             \u001B[0;32mcontinue\u001B[0m\u001B[0;34m\u001B[0m\u001B[0;34m\u001B[0m\u001B[0m\n\u001B[1;32m    146\u001B[0m         \u001B[0mlog\u001B[0m\u001B[0;34m(\u001B[0m\u001B[0;34mf'\\nRound '\u001B[0m \u001B[0;34m+\u001B[0m \u001B[0mstr\u001B[0m\u001B[0;34m(\u001B[0m\u001B[0mround\u001B[0m \u001B[0;34m+\u001B[0m \u001B[0;36m1\u001B[0m\u001B[0;34m)\u001B[0m \u001B[0;34m+\u001B[0m \u001B[0;34m' experiment start!'\u001B[0m\u001B[0;34m)\u001B[0m\u001B[0;34m\u001B[0m\u001B[0;34m\u001B[0m\u001B[0m\n\u001B[0;32m--> 147\u001B[0;31m         \u001B[0mMAE\u001B[0m\u001B[0;34m,\u001B[0m \u001B[0mRMSE\u001B[0m\u001B[0;34m,\u001B[0m \u001B[0mNMAE\u001B[0m\u001B[0;34m,\u001B[0m \u001B[0mMRE\u001B[0m\u001B[0;34m,\u001B[0m \u001B[0mNPRE\u001B[0m \u001B[0;34m=\u001B[0m \u001B[0mrun\u001B[0m\u001B[0;34m(\u001B[0m\u001B[0mround\u001B[0m \u001B[0;34m+\u001B[0m \u001B[0;36m1\u001B[0m\u001B[0;34m,\u001B[0m \u001B[0mlogger\u001B[0m\u001B[0;34m,\u001B[0m \u001B[0margs\u001B[0m\u001B[0;34m)\u001B[0m\u001B[0;34m\u001B[0m\u001B[0;34m\u001B[0m\u001B[0m\n\u001B[0m\u001B[1;32m    148\u001B[0m         \u001B[0mRunMAE\u001B[0m \u001B[0;34m+=\u001B[0m \u001B[0;34m[\u001B[0m\u001B[0mMAE\u001B[0m\u001B[0;34m]\u001B[0m\u001B[0;34m\u001B[0m\u001B[0;34m\u001B[0m\u001B[0m\n\u001B[1;32m    149\u001B[0m         \u001B[0mRunRMSE\u001B[0m \u001B[0;34m+=\u001B[0m \u001B[0;34m[\u001B[0m\u001B[0mRMSE\u001B[0m\u001B[0;34m]\u001B[0m\u001B[0;34m\u001B[0m\u001B[0;34m\u001B[0m\u001B[0m\n",
      "\u001B[0;32m~/code_python/QoS_Eraser/Experiment.py\u001B[0m in \u001B[0;36mrun\u001B[0;34m(round, logger, args)\u001B[0m\n\u001B[1;32m     42\u001B[0m         \u001B[0;32mfor\u001B[0m \u001B[0msliceId\u001B[0m \u001B[0;32min\u001B[0m \u001B[0mrange\u001B[0m\u001B[0;34m(\u001B[0m\u001B[0margs\u001B[0m\u001B[0;34m.\u001B[0m\u001B[0mslices\u001B[0m\u001B[0;34m)\u001B[0m\u001B[0;34m:\u001B[0m\u001B[0;34m\u001B[0m\u001B[0;34m\u001B[0m\u001B[0m\n\u001B[1;32m     43\u001B[0m             \u001B[0mlog\u001B[0m\u001B[0;34m(\u001B[0m\u001B[0;34mf'\\t实验 {round} 模型 {sliceId + 1} 开始分片训练'\u001B[0m\u001B[0;34m)\u001B[0m\u001B[0;34m\u001B[0m\u001B[0;34m\u001B[0m\u001B[0m\n\u001B[0;32m---> 44\u001B[0;31m             \u001B[0mMAE\u001B[0m\u001B[0;34m,\u001B[0m \u001B[0mRMSE\u001B[0m\u001B[0;34m,\u001B[0m \u001B[0mNMAE\u001B[0m\u001B[0;34m,\u001B[0m \u001B[0mMRE\u001B[0m\u001B[0;34m,\u001B[0m \u001B[0mNPRE\u001B[0m\u001B[0;34m,\u001B[0m \u001B[0mtrain_time\u001B[0m \u001B[0;34m=\u001B[0m \u001B[0mtrain_sliced_model\u001B[0m\u001B[0;34m(\u001B[0m\u001B[0mround\u001B[0m\u001B[0;34m,\u001B[0m \u001B[0msliceId\u001B[0m\u001B[0;34m,\u001B[0m \u001B[0mmodel\u001B[0m\u001B[0;34m,\u001B[0m \u001B[0mdataset\u001B[0m\u001B[0;34m,\u001B[0m \u001B[0margs\u001B[0m\u001B[0;34m)\u001B[0m\u001B[0;34m\u001B[0m\u001B[0;34m\u001B[0m\u001B[0m\n\u001B[0m\u001B[1;32m     45\u001B[0m             \u001B[0mshard_times\u001B[0m\u001B[0;34m.\u001B[0m\u001B[0mappend\u001B[0m\u001B[0;34m(\u001B[0m\u001B[0mtrain_time\u001B[0m\u001B[0;34m)\u001B[0m\u001B[0;34m\u001B[0m\u001B[0;34m\u001B[0m\u001B[0m\n\u001B[1;32m     46\u001B[0m             \u001B[0mlog\u001B[0m\u001B[0;34m(\u001B[0m\u001B[0;34mf'实验 {round:d} 模型 {sliceId + 1} training time = {train_time :.2f} s'\u001B[0m\u001B[0;34m)\u001B[0m\u001B[0;34m\u001B[0m\u001B[0;34m\u001B[0m\u001B[0m\n",
      "\u001B[0;32m~/code_python/QoS_Eraser/trainer/slice_trainer.py\u001B[0m in \u001B[0;36mtrain_sliced_model\u001B[0;34m(round, sliceId, model, datasets, args)\u001B[0m\n\u001B[1;32m    140\u001B[0m         \u001B[0mMAE\u001B[0m\u001B[0;34m,\u001B[0m \u001B[0mRMSE\u001B[0m\u001B[0;34m,\u001B[0m \u001B[0mNMAE\u001B[0m\u001B[0;34m,\u001B[0m \u001B[0mMRE\u001B[0m\u001B[0;34m,\u001B[0m \u001B[0mNPRE\u001B[0m \u001B[0;34m=\u001B[0m \u001B[0mtest_slice\u001B[0m\u001B[0;34m(\u001B[0m\u001B[0mmodel\u001B[0m\u001B[0;34m,\u001B[0m \u001B[0mtest_loader\u001B[0m\u001B[0;34m,\u001B[0m \u001B[0margs\u001B[0m\u001B[0;34m)\u001B[0m\u001B[0;34m\u001B[0m\u001B[0;34m\u001B[0m\u001B[0m\n\u001B[1;32m    141\u001B[0m     \u001B[0;32melse\u001B[0m\u001B[0;34m:\u001B[0m\u001B[0;34m\u001B[0m\u001B[0;34m\u001B[0m\u001B[0m\n\u001B[0;32m--> 142\u001B[0;31m         \u001B[0mMAE\u001B[0m\u001B[0;34m,\u001B[0m \u001B[0mRMSE\u001B[0m\u001B[0;34m,\u001B[0m \u001B[0mNMAE\u001B[0m\u001B[0;34m,\u001B[0m \u001B[0mMRE\u001B[0m\u001B[0;34m,\u001B[0m \u001B[0mNPRE\u001B[0m\u001B[0;34m,\u001B[0m \u001B[0mtraining_time\u001B[0m \u001B[0;34m=\u001B[0m \u001B[0mtrain_slice\u001B[0m\u001B[0;34m(\u001B[0m\u001B[0mmodel\u001B[0m\u001B[0;34m,\u001B[0m \u001B[0mtrain_loader\u001B[0m\u001B[0;34m,\u001B[0m \u001B[0mvalid_loader\u001B[0m\u001B[0;34m,\u001B[0m \u001B[0margs\u001B[0m\u001B[0;34m)\u001B[0m\u001B[0;34m\u001B[0m\u001B[0;34m\u001B[0m\u001B[0m\n\u001B[0m\u001B[1;32m    143\u001B[0m         \u001B[0;32mif\u001B[0m \u001B[0margs\u001B[0m\u001B[0;34m.\u001B[0m\u001B[0mrecord\u001B[0m\u001B[0;34m:\u001B[0m\u001B[0;34m\u001B[0m\u001B[0;34m\u001B[0m\u001B[0m\n\u001B[1;32m    144\u001B[0m             \u001B[0mper_epoch_in_txt\u001B[0m\u001B[0;34m(\u001B[0m\u001B[0margs\u001B[0m\u001B[0;34m,\u001B[0m \u001B[0;34m-\u001B[0m\u001B[0;36m1\u001B[0m\u001B[0;34m,\u001B[0m \u001B[0mMAE\u001B[0m\u001B[0;34m,\u001B[0m \u001B[0mRMSE\u001B[0m\u001B[0;34m,\u001B[0m \u001B[0mNMAE\u001B[0m\u001B[0;34m,\u001B[0m \u001B[0mMRE\u001B[0m\u001B[0;34m,\u001B[0m \u001B[0mNPRE\u001B[0m\u001B[0;34m,\u001B[0m \u001B[0mtraining_time\u001B[0m\u001B[0;34m,\u001B[0m \u001B[0;32mFalse\u001B[0m\u001B[0;34m)\u001B[0m\u001B[0;34m\u001B[0m\u001B[0;34m\u001B[0m\u001B[0m\n",
      "\u001B[0;32m~/code_python/QoS_Eraser/trainer/slice_trainer.py\u001B[0m in \u001B[0;36mtrain_slice\u001B[0;34m(model, train_loader, valid_loader, args)\u001B[0m\n\u001B[1;32m     53\u001B[0m             \u001B[0mloss\u001B[0m \u001B[0;34m=\u001B[0m \u001B[0mloss_function\u001B[0m\u001B[0;34m(\u001B[0m\u001B[0mpred\u001B[0m\u001B[0;34m,\u001B[0m \u001B[0mmVal\u001B[0m\u001B[0;34m)\u001B[0m\u001B[0;34m\u001B[0m\u001B[0;34m\u001B[0m\u001B[0m\n\u001B[1;32m     54\u001B[0m             \u001B[0mloss\u001B[0m\u001B[0;34m.\u001B[0m\u001B[0mbackward\u001B[0m\u001B[0;34m(\u001B[0m\u001B[0;34m)\u001B[0m\u001B[0;34m\u001B[0m\u001B[0;34m\u001B[0m\u001B[0m\n\u001B[0;32m---> 55\u001B[0;31m             \u001B[0moptimizer_model\u001B[0m\u001B[0;34m.\u001B[0m\u001B[0mstep\u001B[0m\u001B[0;34m(\u001B[0m\u001B[0;34m)\u001B[0m\u001B[0;34m\u001B[0m\u001B[0;34m\u001B[0m\u001B[0m\n\u001B[0m\u001B[1;32m     56\u001B[0m \u001B[0;34m\u001B[0m\u001B[0m\n\u001B[1;32m     57\u001B[0m         \u001B[0mt2\u001B[0m \u001B[0;34m=\u001B[0m \u001B[0mtime\u001B[0m\u001B[0;34m(\u001B[0m\u001B[0;34m)\u001B[0m\u001B[0;34m\u001B[0m\u001B[0;34m\u001B[0m\u001B[0m\n",
      "\u001B[0;32m~/anaconda3/lib/python3.8/site-packages/torch/optim/optimizer.py\u001B[0m in \u001B[0;36mwrapper\u001B[0;34m(*args, **kwargs)\u001B[0m\n\u001B[1;32m     86\u001B[0m                 \u001B[0mprofile_name\u001B[0m \u001B[0;34m=\u001B[0m \u001B[0;34m\"Optimizer.step#{}.step\"\u001B[0m\u001B[0;34m.\u001B[0m\u001B[0mformat\u001B[0m\u001B[0;34m(\u001B[0m\u001B[0mobj\u001B[0m\u001B[0;34m.\u001B[0m\u001B[0m__class__\u001B[0m\u001B[0;34m.\u001B[0m\u001B[0m__name__\u001B[0m\u001B[0;34m)\u001B[0m\u001B[0;34m\u001B[0m\u001B[0;34m\u001B[0m\u001B[0m\n\u001B[1;32m     87\u001B[0m                 \u001B[0;32mwith\u001B[0m \u001B[0mtorch\u001B[0m\u001B[0;34m.\u001B[0m\u001B[0mautograd\u001B[0m\u001B[0;34m.\u001B[0m\u001B[0mprofiler\u001B[0m\u001B[0;34m.\u001B[0m\u001B[0mrecord_function\u001B[0m\u001B[0;34m(\u001B[0m\u001B[0mprofile_name\u001B[0m\u001B[0;34m)\u001B[0m\u001B[0;34m:\u001B[0m\u001B[0;34m\u001B[0m\u001B[0;34m\u001B[0m\u001B[0m\n\u001B[0;32m---> 88\u001B[0;31m                     \u001B[0;32mreturn\u001B[0m \u001B[0mfunc\u001B[0m\u001B[0;34m(\u001B[0m\u001B[0;34m*\u001B[0m\u001B[0margs\u001B[0m\u001B[0;34m,\u001B[0m \u001B[0;34m**\u001B[0m\u001B[0mkwargs\u001B[0m\u001B[0;34m)\u001B[0m\u001B[0;34m\u001B[0m\u001B[0;34m\u001B[0m\u001B[0m\n\u001B[0m\u001B[1;32m     89\u001B[0m             \u001B[0;32mreturn\u001B[0m \u001B[0mwrapper\u001B[0m\u001B[0;34m\u001B[0m\u001B[0;34m\u001B[0m\u001B[0m\n\u001B[1;32m     90\u001B[0m \u001B[0;34m\u001B[0m\u001B[0m\n",
      "\u001B[0;32m~/anaconda3/lib/python3.8/site-packages/torch/autograd/grad_mode.py\u001B[0m in \u001B[0;36mdecorate_context\u001B[0;34m(*args, **kwargs)\u001B[0m\n\u001B[1;32m     26\u001B[0m         \u001B[0;32mdef\u001B[0m \u001B[0mdecorate_context\u001B[0m\u001B[0;34m(\u001B[0m\u001B[0;34m*\u001B[0m\u001B[0margs\u001B[0m\u001B[0;34m,\u001B[0m \u001B[0;34m**\u001B[0m\u001B[0mkwargs\u001B[0m\u001B[0;34m)\u001B[0m\u001B[0;34m:\u001B[0m\u001B[0;34m\u001B[0m\u001B[0;34m\u001B[0m\u001B[0m\n\u001B[1;32m     27\u001B[0m             \u001B[0;32mwith\u001B[0m \u001B[0mself\u001B[0m\u001B[0;34m.\u001B[0m\u001B[0m__class__\u001B[0m\u001B[0;34m(\u001B[0m\u001B[0;34m)\u001B[0m\u001B[0;34m:\u001B[0m\u001B[0;34m\u001B[0m\u001B[0;34m\u001B[0m\u001B[0m\n\u001B[0;32m---> 28\u001B[0;31m                 \u001B[0;32mreturn\u001B[0m \u001B[0mfunc\u001B[0m\u001B[0;34m(\u001B[0m\u001B[0;34m*\u001B[0m\u001B[0margs\u001B[0m\u001B[0;34m,\u001B[0m \u001B[0;34m**\u001B[0m\u001B[0mkwargs\u001B[0m\u001B[0;34m)\u001B[0m\u001B[0;34m\u001B[0m\u001B[0;34m\u001B[0m\u001B[0m\n\u001B[0m\u001B[1;32m     29\u001B[0m         \u001B[0;32mreturn\u001B[0m \u001B[0mcast\u001B[0m\u001B[0;34m(\u001B[0m\u001B[0mF\u001B[0m\u001B[0;34m,\u001B[0m \u001B[0mdecorate_context\u001B[0m\u001B[0;34m)\u001B[0m\u001B[0;34m\u001B[0m\u001B[0;34m\u001B[0m\u001B[0m\n\u001B[1;32m     30\u001B[0m \u001B[0;34m\u001B[0m\u001B[0m\n",
      "\u001B[0;32m~/anaconda3/lib/python3.8/site-packages/torch/optim/adamw.py\u001B[0m in \u001B[0;36mstep\u001B[0;34m(self, closure)\u001B[0m\n\u001B[1;32m    135\u001B[0m                 \u001B[0mstate_steps\u001B[0m\u001B[0;34m.\u001B[0m\u001B[0mappend\u001B[0m\u001B[0;34m(\u001B[0m\u001B[0mstate\u001B[0m\u001B[0;34m[\u001B[0m\u001B[0;34m'step'\u001B[0m\u001B[0;34m]\u001B[0m\u001B[0;34m)\u001B[0m\u001B[0;34m\u001B[0m\u001B[0;34m\u001B[0m\u001B[0m\n\u001B[1;32m    136\u001B[0m \u001B[0;34m\u001B[0m\u001B[0m\n\u001B[0;32m--> 137\u001B[0;31m             F.adamw(params_with_grad,\n\u001B[0m\u001B[1;32m    138\u001B[0m                     \u001B[0mgrads\u001B[0m\u001B[0;34m,\u001B[0m\u001B[0;34m\u001B[0m\u001B[0;34m\u001B[0m\u001B[0m\n\u001B[1;32m    139\u001B[0m                     \u001B[0mexp_avgs\u001B[0m\u001B[0;34m,\u001B[0m\u001B[0;34m\u001B[0m\u001B[0;34m\u001B[0m\u001B[0m\n",
      "\u001B[0;32m~/anaconda3/lib/python3.8/site-packages/torch/optim/_functional.py\u001B[0m in \u001B[0;36madamw\u001B[0;34m(params, grads, exp_avgs, exp_avg_sqs, max_exp_avg_sqs, state_steps, amsgrad, beta1, beta2, lr, weight_decay, eps)\u001B[0m\n\u001B[1;32m    137\u001B[0m             \u001B[0mdenom\u001B[0m \u001B[0;34m=\u001B[0m \u001B[0;34m(\u001B[0m\u001B[0mmax_exp_avg_sqs\u001B[0m\u001B[0;34m[\u001B[0m\u001B[0mi\u001B[0m\u001B[0;34m]\u001B[0m\u001B[0;34m.\u001B[0m\u001B[0msqrt\u001B[0m\u001B[0;34m(\u001B[0m\u001B[0;34m)\u001B[0m \u001B[0;34m/\u001B[0m \u001B[0mmath\u001B[0m\u001B[0;34m.\u001B[0m\u001B[0msqrt\u001B[0m\u001B[0;34m(\u001B[0m\u001B[0mbias_correction2\u001B[0m\u001B[0;34m)\u001B[0m\u001B[0;34m)\u001B[0m\u001B[0;34m.\u001B[0m\u001B[0madd_\u001B[0m\u001B[0;34m(\u001B[0m\u001B[0meps\u001B[0m\u001B[0;34m)\u001B[0m\u001B[0;34m\u001B[0m\u001B[0;34m\u001B[0m\u001B[0m\n\u001B[1;32m    138\u001B[0m         \u001B[0;32melse\u001B[0m\u001B[0;34m:\u001B[0m\u001B[0;34m\u001B[0m\u001B[0;34m\u001B[0m\u001B[0m\n\u001B[0;32m--> 139\u001B[0;31m             \u001B[0mdenom\u001B[0m \u001B[0;34m=\u001B[0m \u001B[0;34m(\u001B[0m\u001B[0mexp_avg_sq\u001B[0m\u001B[0;34m.\u001B[0m\u001B[0msqrt\u001B[0m\u001B[0;34m(\u001B[0m\u001B[0;34m)\u001B[0m \u001B[0;34m/\u001B[0m \u001B[0mmath\u001B[0m\u001B[0;34m.\u001B[0m\u001B[0msqrt\u001B[0m\u001B[0;34m(\u001B[0m\u001B[0mbias_correction2\u001B[0m\u001B[0;34m)\u001B[0m\u001B[0;34m)\u001B[0m\u001B[0;34m.\u001B[0m\u001B[0madd_\u001B[0m\u001B[0;34m(\u001B[0m\u001B[0meps\u001B[0m\u001B[0;34m)\u001B[0m\u001B[0;34m\u001B[0m\u001B[0;34m\u001B[0m\u001B[0m\n\u001B[0m\u001B[1;32m    140\u001B[0m \u001B[0;34m\u001B[0m\u001B[0m\n\u001B[1;32m    141\u001B[0m         \u001B[0mstep_size\u001B[0m \u001B[0;34m=\u001B[0m \u001B[0mlr\u001B[0m \u001B[0;34m/\u001B[0m \u001B[0mbias_correction1\u001B[0m\u001B[0;34m\u001B[0m\u001B[0;34m\u001B[0m\u001B[0m\n",
      "\u001B[0;31mKeyboardInterrupt\u001B[0m: "
     ]
    }
   ],
   "source": [
    "ans = []\n",
    "from Experiment import main\n",
    "for lr in [1.2e-2, 1e-2, 8e-3]:\n",
    "    for decay in [1e-4, 1e-3, 1e-2]:\n",
    "        args.density = 0.20\n",
    "        args.rounds = 1\n",
    "        args.interaction = 'GraphMF'\n",
    "        args.dimension = 32\n",
    "        args.part_type = 5\n",
    "        args.agg_lr = lr\n",
    "        args.agg_decay = decay\n",
    "        args.debug = 0\n",
    "        MAE = main(args, 0)\n",
    "        ans.append([args.interaction, 'lr : ', lr, 'decay', decay, MAE])"
   ],
   "metadata": {
    "collapsed": false
   }
  },
  {
   "cell_type": "code",
   "execution_count": 9,
   "outputs": [
    {
     "name": "stdout",
     "output_type": "stream",
     "text": [
      "['GraphMF', 'lr : ', 0.012, 'decay', 0.0001, 13.94804845820604]\n",
      "['GraphMF', 'lr : ', 0.012, 'decay', 0.001, 14.507579729774497]\n",
      "['GraphMF', 'lr : ', 0.012, 'decay', 0.01, 14.987546704758259]\n",
      "['GraphMF', 'lr : ', 0.01, 'decay', 0.0001, 14.728768747007237]\n",
      "Best settings :  ['GraphMF', 'lr : ', 0.012, 'decay', 0.0001, 13.94804845820604]\n"
     ]
    }
   ],
   "source": [
    "index = -1\n",
    "best_MAE = 2e9\n",
    "for i in range(len(ans)):\n",
    "    if ans[i][-1] < best_MAE:\n",
    "        best_MAE = ans[i][-1]\n",
    "        index = i\n",
    "    print(ans[i])\n",
    "print('Best settings : ', ans[index])\n",
    "# 0.012, 'decay', 0.0001, 13.94804845820604]"
   ],
   "metadata": {
    "collapsed": false
   }
  },
  {
   "cell_type": "markdown",
   "source": [
    "*****"
   ],
   "metadata": {
    "collapsed": false
   }
  },
  {
   "cell_type": "code",
   "execution_count": null,
   "outputs": [],
   "source": [
    "ans = []\n",
    "from Experiment import main\n",
    "for lr in [1e-2, 8e-3]:\n",
    "    for decay in [1e-4, 1e-3, 1e-2]:\n",
    "        args.density = 0.25\n",
    "        args.rounds = 1\n",
    "        args.interaction = 'GraphMF'\n",
    "        args.dimension = 32\n",
    "        args.part_type = 5\n",
    "        args.agg_lr = lr\n",
    "        args.agg_decay = decay\n",
    "        args.debug = 0\n",
    "        MAE = main(args, 0)\n",
    "        ans.append([args.interaction, 'lr : ', lr, 'decay', decay, MAE])"
   ],
   "metadata": {
    "collapsed": false
   }
  },
  {
   "cell_type": "code",
   "execution_count": null,
   "outputs": [],
   "source": [
    "index = -1\n",
    "best_MAE = 2e9\n",
    "for i in range(len(ans)):\n",
    "    if ans[i][-1] < best_MAE:\n",
    "        best_MAE = ans[i][-1]\n",
    "        index = i\n",
    "    print(ans[i])\n",
    "print('Best settings : ', ans[index])"
   ],
   "metadata": {
    "collapsed": false
   }
  },
  {
   "cell_type": "code",
   "execution_count": null,
   "outputs": [],
   "source": [
    "ans = []\n",
    "from Experiment import main\n",
    "for lr in [1e-2, 8e-3, 4e-3]:\n",
    "    for decay in [1e-4, 1e-3, 1e-2]:\n",
    "        args.density = 0.30\n",
    "        args.rounds = 1\n",
    "        args.interaction = 'GraphMF'\n",
    "        args.dimension = 32\n",
    "        args.part_type = 5\n",
    "        args.agg_lr = lr\n",
    "        args.agg_decay = decay\n",
    "        args.debug = 0\n",
    "        MAE = main(args, 0)\n",
    "        ans.append([args.interaction, 'lr : ', lr, 'decay', decay, MAE])"
   ],
   "metadata": {
    "collapsed": false
   }
  },
  {
   "cell_type": "code",
   "execution_count": null,
   "outputs": [],
   "source": [
    "index = -1\n",
    "best_MAE = 2e9\n",
    "for i in range(len(ans)):\n",
    "    if ans[i][-1] < best_MAE:\n",
    "        best_MAE = ans[i][-1]\n",
    "        index = i\n",
    "    print(ans[i])\n",
    "print('Best settings : ', ans[index])"
   ],
   "metadata": {
    "collapsed": false
   }
  },
  {
   "cell_type": "code",
   "execution_count": null,
   "outputs": [],
   "source": [],
   "metadata": {
    "collapsed": false
   }
  },
  {
   "cell_type": "code",
   "execution_count": null,
   "outputs": [],
   "source": [],
   "metadata": {
    "collapsed": false
   }
  },
  {
   "cell_type": "code",
   "execution_count": null,
   "outputs": [],
   "source": [],
   "metadata": {
    "collapsed": false
   }
  }
 ],
 "metadata": {
  "kernelspec": {
   "display_name": "Python 3",
   "language": "python",
   "name": "python3"
  },
  "language_info": {
   "codemirror_mode": {
    "name": "ipython",
    "version": 2
   },
   "file_extension": ".py",
   "mimetype": "text/x-python",
   "name": "python",
   "nbconvert_exporter": "python",
   "pygments_lexer": "ipython2",
   "version": "2.7.6"
  }
 },
 "nbformat": 4,
 "nbformat_minor": 0
}
