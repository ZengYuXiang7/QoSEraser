{
 "cells": [
  {
   "cell_type": "markdown",
   "source": [
    "# Author: Yuxiang Zeng"
   ],
   "metadata": {
    "collapsed": false
   }
  },
  {
   "cell_type": "code",
   "execution_count": null,
   "outputs": [],
   "source": [
    "!python Experiment.py --dataset rt --interaction NeuCF --dimension 64 --rounds 1 --slice_epochs 100 --agg_epochs 10 --density 0.10 --part_type 5 --debug 1 --agg_function 2"
   ],
   "metadata": {
    "collapsed": false
   }
  },
  {
   "cell_type": "code",
   "execution_count": null,
   "outputs": [],
   "source": [
    "!python Experiment.py --dataset rt --interaction CSMF --rounds 1 --agg_epochs 10 --density 0.10 --part_type 5 --debug 1 --agg_function 2"
   ],
   "metadata": {
    "collapsed": false
   }
  },
  {
   "cell_type": "code",
   "execution_count": null,
   "outputs": [],
   "source": [
    "!python Experiment.py --dataset rt --interaction Pure_Mf --rounds 1 --agg_epochs 10 --density 0.10 --part_type 5 --agg_function 2"
   ],
   "metadata": {
    "collapsed": false
   }
  },
  {
   "cell_type": "code",
   "execution_count": null,
   "outputs": [],
   "source": [
    "!python Experiment.py --dataset rt --interaction GraphMF --order 0 --slice_epochs 15 --rounds 1 --agg_epochs 4 --density 0.10 --part_type 5 --debug 1 --agg_function 2"
   ],
   "metadata": {
    "collapsed": false
   }
  },
  {
   "cell_type": "code",
   "execution_count": null,
   "outputs": [],
   "source": [],
   "metadata": {
    "collapsed": false
   }
  },
  {
   "cell_type": "code",
   "execution_count": null,
   "outputs": [],
   "source": [
    "!python Experiment.py --dataset tp --interaction NeuCF --dimension 64 --rounds 1 --slice_epochs 100 --agg_epochs 5"
   ],
   "metadata": {
    "collapsed": false
   }
  },
  {
   "cell_type": "code",
   "execution_count": null,
   "outputs": [],
   "source": [
    "!python Experiment.py --dataset tp --interaction CSMF --rounds 1 --agg_epochs 10 --density 0.10 --part_type 5"
   ],
   "metadata": {
    "collapsed": false
   }
  },
  {
   "cell_type": "code",
   "execution_count": null,
   "outputs": [],
   "source": [
    "!python Experiment.py --dataset tp --interaction Pure_Mf --rounds 1 --agg_epochs 10 --density 0.10 --part_type 5"
   ],
   "metadata": {
    "collapsed": false
   }
  },
  {
   "cell_type": "code",
   "execution_count": null,
   "outputs": [],
   "source": [
    "!python Experiment.py --dataset tp --interaction GraphMF --order 0 --slice_epochs 15 --rounds 1 --agg_epochs 1 --density 0.10 --part_type 5"
   ],
   "metadata": {
    "collapsed": false
   }
  }
 ],
 "metadata": {
  "kernelspec": {
   "display_name": "Python 3",
   "language": "python",
   "name": "python3"
  },
  "language_info": {
   "codemirror_mode": {
    "name": "ipython",
    "version": 2
   },
   "file_extension": ".py",
   "mimetype": "text/x-python",
   "name": "python",
   "nbconvert_exporter": "python",
   "pygments_lexer": "ipython2",
   "version": "2.7.6"
  }
 },
 "nbformat": 4,
 "nbformat_minor": 0
}
