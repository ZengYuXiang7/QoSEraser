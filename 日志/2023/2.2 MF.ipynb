{
 "cells": [
  {
   "cell_type": "code",
   "execution_count": 1,
   "outputs": [
    {
     "name": "stdout",
     "output_type": "stream",
     "text": [
      "2023-02-02 16:00:28  Experiment start!\r\n",
      "2023-02-02 16:00:28  Namespace(F=1, agg2=0, agg_decay=0.001, agg_epochs=10, agg_function=1, agg_lr=0.001, agg_type='att', att_decay=0.0001, att_lr=0.001, batch_size=128, beta=1, cluster='deep', cuda=True, dataset='rt', debug=0, density=0.1, devices='gpu', dimension=32, dir='../Dataset/mnist', dropout=0.1, epoch=1500, external_dim=64, hidden_dims=[64, 64, 100], input_dim=128, interaction='Pure_Mf', lamda=1, latent_dim=10, log_interval=100, lr=0.0001, n_classes=10, n_clusters=10, n_jobs=1, node2vec=0, node2vec_batchsize=32, node2vec_dim=128, node2vec_epochs=20, node2vec_length=8, node2vec_walk=15, node2vec_windows=3, num_layers=2, order=2, part_iter=20, part_type=1, path='./datasets/data/WSDREAM/', pre_epoch=1000, pretrain=True, processed=0, random_state=1001, record=1, retrain=0, rounds=1, save_model=1, slice=1, slice_decay=0.001, slice_epochs=100, slice_lr=0.001, slices=5, verbose=10, wd=0.0005)\r\n",
      "2023-02-02 16:00:28  Dataset : rt     interaction : Pure_Mf\r\n",
      "2023-02-02 16:00:28  Density : 10.00%, slice_epochs : 100, agg_epochs : 10\r\n",
      "2023-02-02 16:00:28  Part_type : 1,    slices : 5,       devices : gpu\r\n",
      "2023-02-02 16:00:28  Slice_lr : 0.01,    Slice_decay : 0.01\r\n",
      "2023-02-02 16:00:28  Agg_lr : 0.004,    Agg_decay : 0.001\r\n",
      "2023-02-02 16:00:28  Aggregation function : mean\r\n",
      "\r\n",
      "2023-02-02 16:00:28  Round 1 experiment start!\r\n",
      "2023-02-02 16:00:28  \t原始数据集读取完毕\r\n",
      "2023-02-02 16:00:28  \tSISA 切割完毕\r\n",
      "2023-02-02 16:00:28  \t分切数据执行完毕\r\n",
      "2023-02-02 16:00:31  \t模型加载完毕\r\n",
      "2023-02-02 16:00:31  \t准备训练切片模型\r\n",
      "2023-02-02 16:00:31  \t实验 1 模型 1 开始分片训练\r\n",
      "2023-02-02 16:00:49  Epoch 10 : MAE : 0.7786  RMSE : 2.0625  NMAE : 0.8513  MRE : 0.7405  NPRE : 3.9507\r\n",
      "2023-02-02 16:01:10  Epoch 20 : MAE : 0.7286  RMSE : 1.8710  NMAE : 0.7967  MRE : 0.8146  NPRE : 3.6424\r\n",
      "2023-02-02 16:01:25  Epoch 30 : MAE : 0.7431  RMSE : 1.7843  NMAE : 0.8125  MRE : 0.8871  NPRE : 4.2836\r\n",
      "2023-02-02 16:01:27  Best epoch 21 : MAE : 0.7197  RMSE : 1.8624  NMAE : 0.7869  MRE : 0.7860  NPRE : 3.6060\r\n",
      "2023-02-02 16:01:27  实验 1 模型 1 training time = 17.69 s\r\n",
      "2023-02-02 16:01:27  Slice ID  1 : MAE = 0.7197, RMSE = 1.8624, NMAE = 0.7869, MRE = 0.7860, NPRE = 3.6060\r\n",
      "\r\n",
      "2023-02-02 16:01:27  \t实验 1 模型 2 开始分片训练\r\n",
      "2023-02-02 16:01:45  Epoch 10 : MAE : 0.7994  RMSE : 2.0669  NMAE : 0.8741  MRE : 0.8006  NPRE : 4.1623\r\n",
      "2023-02-02 16:02:00  Best epoch  7 : MAE : 0.7824  RMSE : 2.0777  NMAE : 0.8555  MRE : 0.7309  NPRE : 3.4040\r\n",
      "2023-02-02 16:02:00  实验 1 模型 2 training time = 4.78 s\r\n",
      "2023-02-02 16:02:00  Slice ID  2 : MAE = 0.7824, RMSE = 2.0777, NMAE = 0.8555, MRE = 0.7309, NPRE = 3.4040\r\n",
      "\r\n",
      "2023-02-02 16:02:00  \t实验 1 模型 3 开始分片训练\r\n",
      "2023-02-02 16:02:19  Epoch 10 : MAE : 0.7911  RMSE : 2.0677  NMAE : 0.8649  MRE : 0.7763  NPRE : 3.9102\r\n",
      "2023-02-02 16:02:30  Best epoch  6 : MAE : 0.7774  RMSE : 2.0685  NMAE : 0.8500  MRE : 0.7253  NPRE : 3.7660\r\n",
      "2023-02-02 16:02:30  实验 1 模型 3 training time = 6.15 s\r\n",
      "2023-02-02 16:02:30  Slice ID  3 : MAE = 0.7774, RMSE = 2.0685, NMAE = 0.8500, MRE = 0.7253, NPRE = 3.7660\r\n",
      "\r\n",
      "2023-02-02 16:02:30  \t实验 1 模型 4 开始分片训练\r\n",
      "2023-02-02 16:02:49  Epoch 10 : MAE : 0.7837  RMSE : 2.0836  NMAE : 0.8569  MRE : 0.7319  NPRE : 3.0505\r\n",
      "2023-02-02 16:03:08  Epoch 20 : MAE : 0.7729  RMSE : 1.9119  NMAE : 0.8451  MRE : 0.8839  NPRE : 4.1749\r\n",
      "2023-02-02 16:03:29  Epoch 30 : MAE : 0.7746  RMSE : 1.8428  NMAE : 0.8469  MRE : 0.9058  NPRE : 4.8803\r\n",
      "2023-02-02 16:03:47  Epoch 40 : MAE : 0.7599  RMSE : 1.7964  NMAE : 0.8309  MRE : 0.9026  NPRE : 4.1859\r\n",
      "2023-02-02 16:03:49  Best epoch 31 : MAE : 0.7551  RMSE : 1.8374  NMAE : 0.8256  MRE : 0.8858  NPRE : 3.6707\r\n",
      "2023-02-02 16:03:49  实验 1 模型 4 training time = 27.46 s\r\n",
      "2023-02-02 16:03:49  Slice ID  4 : MAE = 0.7551, RMSE = 1.8374, NMAE = 0.8256, MRE = 0.8858, NPRE = 3.6707\r\n",
      "\r\n",
      "2023-02-02 16:03:49  \t实验 1 模型 5 开始分片训练\r\n",
      "2023-02-02 16:04:07  Epoch 10 : MAE : 0.7965  RMSE : 2.0558  NMAE : 0.8709  MRE : 0.8025  NPRE : 4.4890\r\n",
      "2023-02-02 16:04:19  Best epoch  7 : MAE : 0.7838  RMSE : 2.0773  NMAE : 0.8570  MRE : 0.7338  NPRE : 3.4666\r\n",
      "2023-02-02 16:04:19  实验 1 模型 5 training time = 4.72 s\r\n",
      "2023-02-02 16:04:19  Slice ID  5 : MAE = 0.7838, RMSE = 2.0773, NMAE = 0.8570, MRE = 0.7338, NPRE = 3.4666\r\n",
      "\r\n",
      "2023-02-02 16:04:19  \t所有切片模型训练完毕\r\n",
      "2023-02-02 16:04:19  \t开始训练聚合模型\r\n",
      "2023-02-02 16:04:22  Epoch  1 : MAE : 0.7551  RMSE : 2.0698  NMAE : 0.8256  MRE : 0.6544  NPRE : 3.0321\r\n",
      "2023-02-02 16:04:24  Epoch  2 : MAE : 0.7547  RMSE : 2.0676  NMAE : 0.8252  MRE : 0.6642  NPRE : 3.2421\r\n",
      "2023-02-02 16:04:26  Epoch  3 : MAE : 0.7547  RMSE : 2.0642  NMAE : 0.8252  MRE : 0.6689  NPRE : 3.3182\r\n",
      "2023-02-02 16:04:28  Epoch  4 : MAE : 0.7553  RMSE : 2.0624  NMAE : 0.8258  MRE : 0.6726  NPRE : 3.4326\r\n",
      "2023-02-02 16:04:29  Epoch  5 : MAE : 0.7560  RMSE : 2.0563  NMAE : 0.8266  MRE : 0.6864  NPRE : 3.6515\r\n",
      "2023-02-02 16:04:31  Epoch  6 : MAE : 0.7556  RMSE : 2.0683  NMAE : 0.8261  MRE : 0.6574  NPRE : 3.0641\r\n",
      "2023-02-02 16:04:33  Epoch  7 : MAE : 0.7548  RMSE : 2.0663  NMAE : 0.8253  MRE : 0.6639  NPRE : 3.2535\r\n",
      "2023-02-02 16:04:35  Epoch  8 : MAE : 0.7556  RMSE : 2.0662  NMAE : 0.8261  MRE : 0.6608  NPRE : 3.1281\r\n",
      "2023-02-02 16:04:37  Epoch  9 : MAE : 0.7556  RMSE : 2.0612  NMAE : 0.8262  MRE : 0.6781  NPRE : 3.5107\r\n",
      "2023-02-02 16:04:39  Epoch 10 : MAE : 0.7548  RMSE : 2.0679  NMAE : 0.8253  MRE : 0.6562  NPRE : 3.1095\r\n",
      "2023-02-02 16:04:39  Best epoch  2 : MAE : 0.7547  RMSE : 2.0676  NMAE : 0.8252  MRE : 0.6642  NPRE : 3.2421\r\n",
      "2023-02-02 16:04:39  \t实验 1 聚合模型训练完毕\r\n",
      "100%|███████████████████████████████████████████| 13/13 [00:06<00:00,  1.87it/s]\r\n",
      "2023-02-02 16:04:47  Result : MAE : 0.7493  RMSE : 2.0499  NMAE : 0.8244  MRE : 0.6644  NPRE : 3.2350\r\n",
      "2023-02-02 16:04:47  \t实验 1 : Aggregators training time = 1.48 s\r\n",
      "\r\n",
      "2023-02-02 16:04:47  \t聚合模型训练完毕\r\n",
      "2023-02-02 16:04:47  Round  1 : MAE = 0.7493, RMSE = 2.0499, NMAE = 0.8244, MRE = 0.6644, NPRE = 3.2350 shard avgtime = 12.16 s  agg_time = 1.48 s\r\n",
      "\r\n",
      "------------------------------------------------------------------------------------------------------------------------\r\n",
      "2023-02-02 16:04:47  Dataset : rt     interaction : Pure_Mf\r\n",
      "2023-02-02 16:04:47  Density : 10.00%, slice_epochs : 100, agg_epochs : 10\r\n",
      "2023-02-02 16:04:47  Part_type : 1,    slices : 5,       devices : gpu\r\n",
      "\r\n",
      "\r\n",
      "2023-02-02 16:04:47  Density 10.00% : MAE = 0.749, RMSE = 2.050, NMAE = 0.824, MRE = 0.664, NPRE = 3.235\r\n",
      "\r\n",
      "2023-02-02 16:04:47  Experiment success!\r\n",
      "\r\n"
     ]
    }
   ],
   "source": [
    "!python Experiment.py --dataset rt --interaction Pure_Mf --rounds 1 --agg_epochs 10 --density 0.10 --part_type 1"
   ],
   "metadata": {
    "collapsed": false
   }
  },
  {
   "cell_type": "code",
   "execution_count": 2,
   "outputs": [
    {
     "name": "stdout",
     "output_type": "stream",
     "text": [
      "2023-02-02 16:04:48  Experiment start!\r\n",
      "2023-02-02 16:04:48  Namespace(F=1, agg2=0, agg_decay=0.001, agg_epochs=12, agg_function=1, agg_lr=0.001, agg_type='att', att_decay=0.0001, att_lr=0.001, batch_size=128, beta=1, cluster='deep', cuda=True, dataset='tp', debug=0, density=0.1, devices='gpu', dimension=32, dir='../Dataset/mnist', dropout=0.1, epoch=1500, external_dim=64, hidden_dims=[64, 64, 100], input_dim=128, interaction='Pure_Mf', lamda=1, latent_dim=10, log_interval=100, lr=0.0001, n_classes=10, n_clusters=10, n_jobs=1, node2vec=0, node2vec_batchsize=32, node2vec_dim=128, node2vec_epochs=20, node2vec_length=8, node2vec_walk=15, node2vec_windows=3, num_layers=2, order=2, part_iter=20, part_type=1, path='./datasets/data/WSDREAM/', pre_epoch=1000, pretrain=True, processed=0, random_state=1001, record=1, retrain=0, rounds=1, save_model=1, slice=1, slice_decay=0.001, slice_epochs=100, slice_lr=0.001, slices=5, verbose=10, wd=0.0005)\r\n",
      "2023-02-02 16:04:48  Dataset : tp     interaction : Pure_Mf\r\n",
      "2023-02-02 16:04:48  Density : 10.00%, slice_epochs : 100, agg_epochs : 12\r\n",
      "2023-02-02 16:04:48  Part_type : 1,    slices : 5,       devices : gpu\r\n",
      "2023-02-02 16:04:48  Slice_lr : 0.01,    Slice_decay : 0.0001\r\n",
      "2023-02-02 16:04:48  Agg_lr : 0.008,    Agg_decay : 0.0001\r\n",
      "2023-02-02 16:04:48  Aggregation function : mean\r\n",
      "\r\n",
      "2023-02-02 16:04:48  Round 1 experiment start!\r\n",
      "2023-02-02 16:04:48  \t原始数据集读取完毕\r\n",
      "2023-02-02 16:04:48  \tSISA 切割完毕\r\n",
      "2023-02-02 16:04:48  \t分切数据执行完毕\r\n",
      "2023-02-02 16:04:50  \t模型加载完毕\r\n",
      "2023-02-02 16:04:50  \t准备训练切片模型\r\n",
      "2023-02-02 16:04:50  \t实验 1 模型 1 开始分片训练\r\n",
      "2023-02-02 16:05:09  Epoch 10 : MAE : 43.1414  RMSE : 115.1224  NMAE : 0.9133  MRE : 0.8826  NPRE : 6.1005\r\n",
      "2023-02-02 16:05:20  Best epoch  6 : MAE : 42.6711  RMSE : 115.3132  NMAE : 0.9034  MRE : 0.8471  NPRE : 5.7783\r\n",
      "2023-02-02 16:05:20  实验 1 模型 1 training time = 4.63 s\r\n",
      "2023-02-02 16:05:20  Slice ID  1 : MAE = 42.6711, RMSE = 115.3132, NMAE = 0.9034, MRE = 0.8471, NPRE = 5.7783\r\n",
      "\r\n",
      "2023-02-02 16:05:20  \t实验 1 模型 2 开始分片训练\r\n",
      "2023-02-02 16:05:44  Epoch 10 : MAE : 43.6358  RMSE : 114.7503  NMAE : 0.9238  MRE : 0.9111  NPRE : 6.7052\r\n",
      "2023-02-02 16:06:02  Epoch 20 : MAE : 43.0029  RMSE : 103.6831  NMAE : 0.9104  MRE : 1.0000  NPRE : 7.9867\r\n",
      "2023-02-02 16:06:20  Epoch 30 : MAE : 41.2094  RMSE : 92.3426  NMAE : 0.8724  MRE : 1.0000  NPRE : 8.1297\r\n",
      "2023-02-02 16:06:39  Epoch 40 : MAE : 41.4870  RMSE : 90.2697  NMAE : 0.8783  MRE : 1.0000  NPRE : 9.3464\r\n",
      "2023-02-02 16:06:55  Best epoch 39 : MAE : 39.4909  RMSE : 89.8675  NMAE : 0.8361  MRE : 1.0000  NPRE : 8.4268\r\n",
      "2023-02-02 16:06:56  实验 1 模型 2 training time = 34.32 s\r\n",
      "2023-02-02 16:06:56  Slice ID  2 : MAE = 39.4909, RMSE = 89.8675, NMAE = 0.8361, MRE = 1.0000, NPRE = 8.4268\r\n",
      "\r\n",
      "2023-02-02 16:06:56  \t实验 1 模型 3 开始分片训练\r\n",
      "2023-02-02 16:07:16  Epoch 10 : MAE : 43.9564  RMSE : 114.5601  NMAE : 0.9306  MRE : 0.9206  NPRE : 7.4307\r\n",
      "2023-02-02 16:07:31  Best epoch  8 : MAE : 43.0188  RMSE : 114.2847  NMAE : 0.9108  MRE : 0.8699  NPRE : 7.3914\r\n",
      "2023-02-02 16:07:31  实验 1 模型 3 training time = 7.75 s\r\n",
      "2023-02-02 16:07:31  Slice ID  3 : MAE = 43.0188, RMSE = 114.2847, NMAE = 0.9108, MRE = 0.8699, NPRE = 7.3914\r\n",
      "\r\n",
      "2023-02-02 16:07:31  \t实验 1 模型 4 开始分片训练\r\n",
      "2023-02-02 16:07:50  Epoch 10 : MAE : 43.0363  RMSE : 114.3544  NMAE : 0.9111  MRE : 0.8755  NPRE : 7.0095\r\n",
      "2023-02-02 16:08:09  Epoch 20 : MAE : 41.9644  RMSE : 97.3569  NMAE : 0.8884  MRE : 1.0000  NPRE : 9.3429\r\n",
      "2023-02-02 16:08:29  Epoch 30 : MAE : 40.7966  RMSE : 87.5285  NMAE : 0.8637  MRE : 1.0000  NPRE : 9.3009\r\n",
      "2023-02-02 16:08:48  Epoch 40 : MAE : 38.8074  RMSE : 85.4394  NMAE : 0.8216  MRE : 1.0000  NPRE : 8.0410\r\n",
      "2023-02-02 16:09:05  Epoch 50 : MAE : 38.6711  RMSE : 83.8755  NMAE : 0.8187  MRE : 1.0000  NPRE : 7.7362\r\n",
      "2023-02-02 16:09:20  Epoch 60 : MAE : 38.6884  RMSE : 84.4713  NMAE : 0.8191  MRE : 1.0000  NPRE : 8.1661\r\n",
      "2023-02-02 16:09:36  Epoch 70 : MAE : 35.6894  RMSE : 83.2446  NMAE : 0.7556  MRE : 0.9898  NPRE : 6.5523\r\n",
      "2023-02-02 16:09:52  Epoch 80 : MAE : 35.1660  RMSE : 80.5931  NMAE : 0.7445  MRE : 1.0000  NPRE : 6.1157\r\n",
      "2023-02-02 16:10:10  Epoch 90 : MAE : 35.2475  RMSE : 81.5913  NMAE : 0.7462  MRE : 0.9676  NPRE : 6.7654\r\n",
      "2023-02-02 16:10:10  Best epoch 80 : MAE : 35.1660  RMSE : 80.5931  NMAE : 0.7445  MRE : 1.0000  NPRE : 6.1157\r\n",
      "2023-02-02 16:10:10  实验 1 模型 4 training time = 53.99 s\r\n",
      "2023-02-02 16:10:10  Slice ID  4 : MAE = 35.1660, RMSE = 80.5931, NMAE = 0.7445, MRE = 1.0000, NPRE = 6.1157\r\n",
      "\r\n",
      "2023-02-02 16:10:10  \t实验 1 模型 5 开始分片训练\r\n",
      "2023-02-02 16:10:39  Epoch 10 : MAE : 43.1043  RMSE : 113.8785  NMAE : 0.9126  MRE : 0.9008  NPRE : 7.0045\r\n",
      "2023-02-02 16:10:58  Epoch 20 : MAE : 36.1649  RMSE : 91.4747  NMAE : 0.7656  MRE : 0.9849  NPRE : 5.4890\r\n",
      "2023-02-02 16:11:16  Epoch 30 : MAE : 36.9784  RMSE : 80.9840  NMAE : 0.7829  MRE : 1.0000  NPRE : 6.6564\r\n",
      "2023-02-02 16:11:34  Epoch 40 : MAE : 36.0331  RMSE : 81.2912  NMAE : 0.7629  MRE : 1.0000  NPRE : 6.4722\r\n",
      "2023-02-02 16:11:46  Best epoch 36 : MAE : 34.9798  RMSE : 81.9934  NMAE : 0.7406  MRE : 1.0000  NPRE : 5.9614\r\n",
      "2023-02-02 16:11:46  实验 1 模型 5 training time = 38.40 s\r\n",
      "2023-02-02 16:11:46  Slice ID  5 : MAE = 34.9798, RMSE = 81.9934, NMAE = 0.7406, MRE = 1.0000, NPRE = 5.9614\r\n",
      "\r\n",
      "2023-02-02 16:11:46  \t所有切片模型训练完毕\r\n",
      "2023-02-02 16:11:46  \t开始训练聚合模型\r\n",
      "2023-02-02 16:11:48  Epoch  1 : MAE : 40.8722  RMSE : 113.5792  NMAE : 0.8653  MRE : 0.7760  NPRE : 5.3387\r\n",
      "2023-02-02 16:11:50  Epoch  2 : MAE : 40.9133  RMSE : 113.5826  NMAE : 0.8662  MRE : 0.7786  NPRE : 5.3496\r\n",
      "2023-02-02 16:11:52  Epoch  3 : MAE : 40.8402  RMSE : 113.3261  NMAE : 0.8646  MRE : 0.7787  NPRE : 5.4452\r\n",
      "2023-02-02 16:11:54  Epoch  4 : MAE : 40.9485  RMSE : 113.8673  NMAE : 0.8669  MRE : 0.7678  NPRE : 4.5256\r\n",
      "2023-02-02 16:11:55  Epoch  5 : MAE : 40.8750  RMSE : 113.1906  NMAE : 0.8654  MRE : 0.7826  NPRE : 5.4369\r\n",
      "2023-02-02 16:11:57  Epoch  6 : MAE : 40.8867  RMSE : 113.5412  NMAE : 0.8656  MRE : 0.7739  NPRE : 5.1387\r\n",
      "2023-02-02 16:12:00  Epoch  7 : MAE : 40.8905  RMSE : 113.4220  NMAE : 0.8657  MRE : 0.7784  NPRE : 5.2655\r\n",
      "2023-02-02 16:12:02  Epoch  8 : MAE : 40.8462  RMSE : 113.3742  NMAE : 0.8648  MRE : 0.7781  NPRE : 5.3424\r\n",
      "2023-02-02 16:12:04  Epoch  9 : MAE : 40.9270  RMSE : 113.7948  NMAE : 0.8665  MRE : 0.7692  NPRE : 4.7700\r\n",
      "2023-02-02 16:12:06  Epoch 10 : MAE : 40.9053  RMSE : 113.5158  NMAE : 0.8660  MRE : 0.7865  NPRE : 5.8186\r\n",
      "2023-02-02 16:12:07  Epoch 11 : MAE : 40.9625  RMSE : 113.4171  NMAE : 0.8672  MRE : 0.7820  NPRE : 5.3491\r\n",
      "2023-02-02 16:12:09  Epoch 12 : MAE : 40.9083  RMSE : 113.4722  NMAE : 0.8661  MRE : 0.7801  NPRE : 5.4194\r\n",
      "2023-02-02 16:12:09  Best epoch  3 : MAE : 40.8402  RMSE : 113.3261  NMAE : 0.8646  MRE : 0.7787  NPRE : 5.4452\r\n",
      "2023-02-02 16:12:09  \t实验 1 聚合模型训练完毕\r\n",
      "100%|███████████████████████████████████████████| 12/12 [00:06<00:00,  1.80it/s]\r\n",
      "2023-02-02 16:12:16  Result : MAE : 41.1413  RMSE : 113.7098  NMAE : 0.8646  MRE : 0.7803  NPRE : 5.3706\r\n",
      "2023-02-02 16:12:16  \t实验 1 : Aggregators training time = 2.30 s\r\n",
      "\r\n",
      "2023-02-02 16:12:16  \t聚合模型训练完毕\r\n",
      "2023-02-02 16:12:16  Round  1 : MAE = 41.1413, RMSE = 113.7098, NMAE = 0.8646, MRE = 0.7803, NPRE = 5.3706 shard avgtime = 27.82 s  agg_time = 2.30 s\r\n",
      "\r\n",
      "------------------------------------------------------------------------------------------------------------------------\r\n",
      "2023-02-02 16:12:16  Dataset : tp     interaction : Pure_Mf\r\n",
      "2023-02-02 16:12:16  Density : 10.00%, slice_epochs : 100, agg_epochs : 12\r\n",
      "2023-02-02 16:12:16  Part_type : 1,    slices : 5,       devices : gpu\r\n",
      "\r\n",
      "\r\n",
      "2023-02-02 16:12:16  Density 10.00% : MAE = 41.141, RMSE = 113.710, NMAE = 0.865, MRE = 0.780, NPRE = 5.371\r\n",
      "\r\n",
      "2023-02-02 16:12:16  Experiment success!\r\n",
      "\r\n"
     ]
    }
   ],
   "source": [
    "!python Experiment.py --dataset tp --interaction Pure_Mf --rounds 1 --agg_epochs 12 --density 0.10 --part_type 1"
   ],
   "metadata": {
    "collapsed": false
   }
  },
  {
   "cell_type": "code",
   "execution_count": 3,
   "outputs": [
    {
     "name": "stdout",
     "output_type": "stream",
     "text": [
      "2023-02-02 16:12:17  Experiment start!\r\n",
      "2023-02-02 16:12:17  Namespace(F=1, agg2=0, agg_decay=0.001, agg_epochs=10, agg_function=1, agg_lr=0.001, agg_type='att', att_decay=0.0001, att_lr=0.001, batch_size=128, beta=1, cluster='deep', cuda=True, dataset='rt', debug=0, density=0.15, devices='gpu', dimension=32, dir='../Dataset/mnist', dropout=0.1, epoch=1500, external_dim=64, hidden_dims=[64, 64, 100], input_dim=128, interaction='Pure_Mf', lamda=1, latent_dim=10, log_interval=100, lr=0.0001, n_classes=10, n_clusters=10, n_jobs=1, node2vec=0, node2vec_batchsize=32, node2vec_dim=128, node2vec_epochs=20, node2vec_length=8, node2vec_walk=15, node2vec_windows=3, num_layers=2, order=2, part_iter=20, part_type=1, path='./datasets/data/WSDREAM/', pre_epoch=1000, pretrain=True, processed=0, random_state=1001, record=1, retrain=0, rounds=1, save_model=1, slice=1, slice_decay=0.001, slice_epochs=100, slice_lr=0.001, slices=5, verbose=10, wd=0.0005)\r\n",
      "2023-02-02 16:12:17  Dataset : rt     interaction : Pure_Mf\r\n",
      "2023-02-02 16:12:17  Density : 15.00%, slice_epochs : 100, agg_epochs : 10\r\n",
      "2023-02-02 16:12:17  Part_type : 1,    slices : 5,       devices : gpu\r\n",
      "2023-02-02 16:12:17  Slice_lr : 0.01,    Slice_decay : 0.001\r\n",
      "2023-02-02 16:12:17  Agg_lr : 0.004,    Agg_decay : 0.001\r\n",
      "2023-02-02 16:12:17  Aggregation function : mean\r\n",
      "\r\n",
      "2023-02-02 16:12:17  Round 1 experiment start!\r\n",
      "2023-02-02 16:12:17  \t原始数据集读取完毕\r\n",
      "2023-02-02 16:12:18  \tSISA 切割完毕\r\n",
      "2023-02-02 16:12:18  \t分切数据执行完毕\r\n",
      "2023-02-02 16:12:20  \t模型加载完毕\r\n",
      "2023-02-02 16:12:20  \t准备训练切片模型\r\n",
      "2023-02-02 16:12:20  \t实验 1 模型 1 开始分片训练\r\n",
      "2023-02-02 16:12:43  Epoch 10 : MAE : 0.7517  RMSE : 2.0325  NMAE : 0.8265  MRE : 0.7025  NPRE : 3.3584\r\n",
      "2023-02-02 16:13:06  Epoch 20 : MAE : 0.6350  RMSE : 1.6976  NMAE : 0.6981  MRE : 0.6977  NPRE : 2.6163\r\n",
      "2023-02-02 16:13:28  Epoch 30 : MAE : 0.6208  RMSE : 1.5909  NMAE : 0.6825  MRE : 0.6911  NPRE : 3.0869\r\n",
      "2023-02-02 16:13:45  Best epoch 27 : MAE : 0.6171  RMSE : 1.6226  NMAE : 0.6784  MRE : 0.6644  NPRE : 2.6798\r\n",
      "2023-02-02 16:13:45  实验 1 模型 1 training time = 32.40 s\r\n",
      "2023-02-02 16:13:45  Slice ID  1 : MAE = 0.6171, RMSE = 1.6226, NMAE = 0.6784, MRE = 0.6644, NPRE = 2.6798\r\n",
      "\r\n",
      "2023-02-02 16:13:45  \t实验 1 模型 2 开始分片训练\r\n",
      "2023-02-02 16:14:07  Epoch 10 : MAE : 0.7585  RMSE : 2.0337  NMAE : 0.8339  MRE : 0.7254  NPRE : 3.2049\r\n",
      "2023-02-02 16:14:25  Epoch 20 : MAE : 0.6466  RMSE : 1.7074  NMAE : 0.7109  MRE : 0.6851  NPRE : 2.8648\r\n",
      "2023-02-02 16:14:43  Epoch 30 : MAE : 0.6354  RMSE : 1.6237  NMAE : 0.6986  MRE : 0.7105  NPRE : 2.8120\r\n",
      "2023-02-02 16:15:04  Epoch 40 : MAE : 0.6565  RMSE : 1.6049  NMAE : 0.7218  MRE : 0.7703  NPRE : 3.2250\r\n",
      "2023-02-02 16:15:27  Epoch 50 : MAE : 0.6467  RMSE : 1.5902  NMAE : 0.7111  MRE : 0.7352  NPRE : 3.0723\r\n",
      "2023-02-02 16:15:36  Best epoch 44 : MAE : 0.6153  RMSE : 1.5943  NMAE : 0.6765  MRE : 0.6465  NPRE : 2.6334\r\n",
      "2023-02-02 16:15:36  实验 1 模型 2 training time = 41.30 s\r\n",
      "2023-02-02 16:15:36  Slice ID  2 : MAE = 0.6153, RMSE = 1.5943, NMAE = 0.6765, MRE = 0.6465, NPRE = 2.6334\r\n",
      "\r\n",
      "2023-02-02 16:15:36  \t实验 1 模型 3 开始分片训练\r\n",
      "2023-02-02 16:15:58  Epoch 10 : MAE : 0.7829  RMSE : 2.0459  NMAE : 0.8608  MRE : 0.7763  NPRE : 3.9171\r\n",
      "2023-02-02 16:16:21  Epoch 20 : MAE : 0.6742  RMSE : 1.7530  NMAE : 0.7413  MRE : 0.7220  NPRE : 3.5725\r\n",
      "2023-02-02 16:16:43  Epoch 30 : MAE : 0.6462  RMSE : 1.6296  NMAE : 0.7104  MRE : 0.7335  NPRE : 2.8830\r\n",
      "2023-02-02 16:17:07  Epoch 40 : MAE : 0.6621  RMSE : 1.6015  NMAE : 0.7280  MRE : 0.7643  NPRE : 3.8227\r\n",
      "2023-02-02 16:17:07  Best epoch 30 : MAE : 0.6462  RMSE : 1.6296  NMAE : 0.7104  MRE : 0.7335  NPRE : 2.8830\r\n",
      "2023-02-02 16:17:07  实验 1 模型 3 training time = 34.30 s\r\n",
      "2023-02-02 16:17:07  Slice ID  3 : MAE = 0.6462, RMSE = 1.6296, NMAE = 0.7104, MRE = 0.7335, NPRE = 2.8830\r\n",
      "\r\n",
      "2023-02-02 16:17:07  \t实验 1 模型 4 开始分片训练\r\n",
      "2023-02-02 16:17:29  Epoch 10 : MAE : 0.7782  RMSE : 2.0478  NMAE : 0.8556  MRE : 0.7571  NPRE : 4.1022\r\n",
      "2023-02-02 16:17:52  Epoch 20 : MAE : 0.6647  RMSE : 1.7731  NMAE : 0.7308  MRE : 0.6951  NPRE : 2.8215\r\n",
      "2023-02-02 16:18:14  Epoch 30 : MAE : 0.6770  RMSE : 1.6676  NMAE : 0.7443  MRE : 0.7987  NPRE : 3.4015\r\n",
      "2023-02-02 16:18:23  Best epoch 24 : MAE : 0.6568  RMSE : 1.7098  NMAE : 0.7221  MRE : 0.7063  NPRE : 2.9899\r\n",
      "2023-02-02 16:18:23  实验 1 模型 4 training time = 28.36 s\r\n",
      "2023-02-02 16:18:23  Slice ID  4 : MAE = 0.6568, RMSE = 1.7098, NMAE = 0.7221, MRE = 0.7063, NPRE = 2.9899\r\n",
      "\r\n",
      "2023-02-02 16:18:23  \t实验 1 模型 5 开始分片训练\r\n",
      "2023-02-02 16:18:47  Epoch 10 : MAE : 0.7737  RMSE : 2.0521  NMAE : 0.8507  MRE : 0.7376  NPRE : 3.6408\r\n",
      "2023-02-02 16:19:09  Epoch 20 : MAE : 0.6816  RMSE : 1.7295  NMAE : 0.7494  MRE : 0.7796  NPRE : 3.0524\r\n",
      "2023-02-02 16:19:31  Epoch 30 : MAE : 0.6635  RMSE : 1.6597  NMAE : 0.7296  MRE : 0.7620  NPRE : 2.8954\r\n",
      "2023-02-02 16:19:48  Best epoch 27 : MAE : 0.6560  RMSE : 1.7072  NMAE : 0.7213  MRE : 0.7026  NPRE : 2.5310\r\n",
      "2023-02-02 16:19:48  实验 1 模型 5 training time = 31.80 s\r\n",
      "2023-02-02 16:19:48  Slice ID  5 : MAE = 0.6560, RMSE = 1.7072, NMAE = 0.7213, MRE = 0.7026, NPRE = 2.5310\r\n",
      "\r\n",
      "2023-02-02 16:19:48  \t所有切片模型训练完毕\r\n",
      "2023-02-02 16:19:48  \t开始训练聚合模型\r\n",
      "2023-02-02 16:19:51  Epoch  1 : MAE : 0.7131  RMSE : 1.9319  NMAE : 0.7841  MRE : 0.6624  NPRE : 3.1118\r\n",
      "2023-02-02 16:19:53  Epoch  2 : MAE : 0.7134  RMSE : 1.9364  NMAE : 0.7843  MRE : 0.6577  NPRE : 3.1002\r\n",
      "2023-02-02 16:19:55  Epoch  3 : MAE : 0.7139  RMSE : 1.9384  NMAE : 0.7849  MRE : 0.6581  NPRE : 3.0697\r\n",
      "2023-02-02 16:19:58  Epoch  4 : MAE : 0.7130  RMSE : 1.9349  NMAE : 0.7840  MRE : 0.6579  NPRE : 2.9467\r\n",
      "2023-02-02 16:20:00  Epoch  5 : MAE : 0.7131  RMSE : 1.9280  NMAE : 0.7840  MRE : 0.6660  NPRE : 3.1464\r\n",
      "2023-02-02 16:20:03  Epoch  6 : MAE : 0.7136  RMSE : 1.9379  NMAE : 0.7846  MRE : 0.6559  NPRE : 3.0179\r\n",
      "2023-02-02 16:20:05  Epoch  7 : MAE : 0.7133  RMSE : 1.9372  NMAE : 0.7843  MRE : 0.6556  NPRE : 3.0090\r\n",
      "2023-02-02 16:20:07  Epoch  8 : MAE : 0.7138  RMSE : 1.9406  NMAE : 0.7848  MRE : 0.6560  NPRE : 3.1243\r\n",
      "2023-02-02 16:20:09  Epoch  9 : MAE : 0.7132  RMSE : 1.9340  NMAE : 0.7841  MRE : 0.6595  NPRE : 3.0821\r\n",
      "2023-02-02 16:20:11  Epoch 10 : MAE : 0.7133  RMSE : 1.9347  NMAE : 0.7843  MRE : 0.6591  NPRE : 3.0538\r\n",
      "2023-02-02 16:20:11  Best epoch  4 : MAE : 0.7130  RMSE : 1.9349  NMAE : 0.7840  MRE : 0.6579  NPRE : 2.9467\r\n",
      "2023-02-02 16:20:11  \t实验 1 聚合模型训练完毕\r\n",
      "100%|███████████████████████████████████████████| 12/12 [00:05<00:00,  2.14it/s]\r\n",
      "2023-02-02 16:20:17  Result : MAE : 0.7123  RMSE : 1.9327  NMAE : 0.7834  MRE : 0.6551  NPRE : 2.9220\r\n",
      "2023-02-02 16:20:17  \t实验 1 : Aggregators training time = 4.34 s\r\n",
      "\r\n",
      "2023-02-02 16:20:17  \t聚合模型训练完毕\r\n",
      "2023-02-02 16:20:17  Round  1 : MAE = 0.7123, RMSE = 1.9327, NMAE = 0.7834, MRE = 0.6551, NPRE = 2.9220 shard avgtime = 33.63 s  agg_time = 4.34 s\r\n",
      "\r\n",
      "------------------------------------------------------------------------------------------------------------------------\r\n",
      "2023-02-02 16:20:17  Dataset : rt     interaction : Pure_Mf\r\n",
      "2023-02-02 16:20:17  Density : 15.00%, slice_epochs : 100, agg_epochs : 10\r\n",
      "2023-02-02 16:20:17  Part_type : 1,    slices : 5,       devices : gpu\r\n",
      "\r\n",
      "\r\n",
      "2023-02-02 16:20:17  Density 15.00% : MAE = 0.712, RMSE = 1.933, NMAE = 0.783, MRE = 0.655, NPRE = 2.922\r\n",
      "\r\n",
      "2023-02-02 16:20:17  Experiment success!\r\n",
      "\r\n"
     ]
    }
   ],
   "source": [
    "!python Experiment.py --dataset rt --interaction Pure_Mf --rounds 1 --agg_epochs 10 --density 0.15 --part_type 1"
   ],
   "metadata": {
    "collapsed": false
   }
  },
  {
   "cell_type": "code",
   "execution_count": 4,
   "outputs": [
    {
     "name": "stdout",
     "output_type": "stream",
     "text": [
      "2023-02-02 16:20:18  Experiment start!\r\n",
      "2023-02-02 16:20:18  Namespace(F=1, agg2=0, agg_decay=0.001, agg_epochs=12, agg_function=1, agg_lr=0.001, agg_type='att', att_decay=0.0001, att_lr=0.001, batch_size=128, beta=1, cluster='deep', cuda=True, dataset='tp', debug=0, density=0.15, devices='gpu', dimension=32, dir='../Dataset/mnist', dropout=0.1, epoch=1500, external_dim=64, hidden_dims=[64, 64, 100], input_dim=128, interaction='Pure_Mf', lamda=1, latent_dim=10, log_interval=100, lr=0.0001, n_classes=10, n_clusters=10, n_jobs=1, node2vec=0, node2vec_batchsize=32, node2vec_dim=128, node2vec_epochs=20, node2vec_length=8, node2vec_walk=15, node2vec_windows=3, num_layers=2, order=2, part_iter=20, part_type=1, path='./datasets/data/WSDREAM/', pre_epoch=1000, pretrain=True, processed=0, random_state=1001, record=1, retrain=0, rounds=1, save_model=1, slice=1, slice_decay=0.001, slice_epochs=100, slice_lr=0.001, slices=5, verbose=10, wd=0.0005)\r\n",
      "2023-02-02 16:20:18  Dataset : tp     interaction : Pure_Mf\r\n",
      "2023-02-02 16:20:18  Density : 15.00%, slice_epochs : 100, agg_epochs : 12\r\n",
      "2023-02-02 16:20:18  Part_type : 1,    slices : 5,       devices : gpu\r\n",
      "2023-02-02 16:20:18  Slice_lr : 0.01,    Slice_decay : 0.001\r\n",
      "2023-02-02 16:20:18  Agg_lr : 0.008,    Agg_decay : 0.01\r\n",
      "2023-02-02 16:20:18  Aggregation function : mean\r\n",
      "\r\n",
      "2023-02-02 16:20:18  Round 1 experiment start!\r\n",
      "2023-02-02 16:20:18  \t原始数据集读取完毕\r\n",
      "2023-02-02 16:20:19  \tSISA 切割完毕\r\n",
      "2023-02-02 16:20:19  \t分切数据执行完毕\r\n",
      "2023-02-02 16:20:21  \t模型加载完毕\r\n",
      "2023-02-02 16:20:21  \t准备训练切片模型\r\n",
      "2023-02-02 16:20:21  \t实验 1 模型 1 开始分片训练\r\n",
      "2023-02-02 16:20:44  Epoch 10 : MAE : 41.6488  RMSE : 113.4364  NMAE : 0.8761  MRE : 0.8623  NPRE : 4.9899\r\n",
      "2023-02-02 16:21:07  Epoch 20 : MAE : 29.0032  RMSE : 73.3774  NMAE : 0.6101  MRE : 0.8140  NPRE : 4.3790\r\n",
      "2023-02-02 16:21:28  Epoch 30 : MAE : 28.8076  RMSE : 67.0164  NMAE : 0.6060  MRE : 0.9091  NPRE : 5.0316\r\n",
      "2023-02-02 16:21:50  Epoch 40 : MAE : 28.2523  RMSE : 64.9521  NMAE : 0.5943  MRE : 0.8624  NPRE : 5.1201\r\n",
      "2023-02-02 16:22:11  Epoch 50 : MAE : 27.6628  RMSE : 65.9000  NMAE : 0.5819  MRE : 0.8044  NPRE : 4.4312\r\n",
      "2023-02-02 16:22:13  Best epoch 41 : MAE : 27.3598  RMSE : 65.3976  NMAE : 0.5756  MRE : 0.7966  NPRE : 4.5603\r\n",
      "2023-02-02 16:22:13  实验 1 模型 1 training time = 46.90 s\r\n",
      "2023-02-02 16:22:13  Slice ID  1 : MAE = 27.3598, RMSE = 65.3976, NMAE = 0.5756, MRE = 0.7966, NPRE = 4.5603\r\n",
      "\r\n",
      "2023-02-02 16:22:13  \t实验 1 模型 2 开始分片训练\r\n",
      "2023-02-02 16:22:35  Epoch 10 : MAE : 42.8237  RMSE : 114.4896  NMAE : 0.9009  MRE : 0.8639  NPRE : 6.6779\r\n",
      "2023-02-02 16:22:58  Epoch 20 : MAE : 29.5809  RMSE : 74.8890  NMAE : 0.6223  MRE : 0.8133  NPRE : 5.3093\r\n",
      "2023-02-02 16:23:19  Epoch 30 : MAE : 27.5108  RMSE : 66.3547  NMAE : 0.5787  MRE : 0.8396  NPRE : 4.4184\r\n",
      "2023-02-02 16:23:41  Epoch 40 : MAE : 27.9960  RMSE : 67.5309  NMAE : 0.5889  MRE : 0.8318  NPRE : 4.3790\r\n",
      "2023-02-02 16:23:41  Best epoch 30 : MAE : 27.5108  RMSE : 66.3547  NMAE : 0.5787  MRE : 0.8396  NPRE : 4.4184\r\n",
      "2023-02-02 16:23:41  实验 1 模型 2 training time = 33.13 s\r\n",
      "2023-02-02 16:23:41  Slice ID  2 : MAE = 27.5108, RMSE = 66.3547, NMAE = 0.5787, MRE = 0.8396, NPRE = 4.4184\r\n",
      "\r\n",
      "2023-02-02 16:23:41  \t实验 1 模型 3 开始分片训练\r\n",
      "2023-02-02 16:24:04  Epoch 10 : MAE : 38.9038  RMSE : 109.8453  NMAE : 0.8184  MRE : 0.7891  NPRE : 4.8727\r\n",
      "2023-02-02 16:24:26  Epoch 20 : MAE : 28.4263  RMSE : 69.9668  NMAE : 0.5980  MRE : 0.7937  NPRE : 5.2798\r\n",
      "2023-02-02 16:24:47  Epoch 30 : MAE : 26.1253  RMSE : 65.2170  NMAE : 0.5496  MRE : 0.7693  NPRE : 3.4101\r\n",
      "2023-02-02 16:25:07  Epoch 40 : MAE : 27.6499  RMSE : 63.9296  NMAE : 0.5817  MRE : 0.8426  NPRE : 5.0034\r\n",
      "2023-02-02 16:25:13  Best epoch 33 : MAE : 26.0949  RMSE : 63.4347  NMAE : 0.5489  MRE : 0.7825  NPRE : 3.8803\r\n",
      "2023-02-02 16:25:13  实验 1 模型 3 training time = 37.03 s\r\n",
      "2023-02-02 16:25:13  Slice ID  3 : MAE = 26.0949, RMSE = 63.4347, NMAE = 0.5489, MRE = 0.7825, NPRE = 3.8803\r\n",
      "\r\n",
      "2023-02-02 16:25:13  \t实验 1 模型 4 开始分片训练\r\n",
      "2023-02-02 16:25:31  Epoch 10 : MAE : 40.7858  RMSE : 112.5149  NMAE : 0.8580  MRE : 0.8147  NPRE : 6.0343\r\n",
      "2023-02-02 16:25:48  Epoch 20 : MAE : 28.1461  RMSE : 71.4341  NMAE : 0.5921  MRE : 0.7884  NPRE : 4.6115\r\n",
      "2023-02-02 16:26:08  Epoch 30 : MAE : 27.7302  RMSE : 65.7989  NMAE : 0.5833  MRE : 0.8674  NPRE : 4.2519\r\n",
      "2023-02-02 16:26:30  Epoch 40 : MAE : 27.1387  RMSE : 64.7674  NMAE : 0.5709  MRE : 0.8035  NPRE : 4.2541\r\n",
      "2023-02-02 16:26:33  Best epoch 32 : MAE : 26.6889  RMSE : 65.2088  NMAE : 0.5614  MRE : 0.8175  NPRE : 3.4917\r\n",
      "2023-02-02 16:26:33  实验 1 模型 4 training time = 24.05 s\r\n",
      "2023-02-02 16:26:33  Slice ID  4 : MAE = 26.6889, RMSE = 65.2088, NMAE = 0.5614, MRE = 0.8175, NPRE = 3.4917\r\n",
      "\r\n",
      "2023-02-02 16:26:33  \t实验 1 模型 5 开始分片训练\r\n",
      "2023-02-02 16:26:50  Epoch 10 : MAE : 42.4631  RMSE : 115.2501  NMAE : 0.8933  MRE : 0.8392  NPRE : 5.6152\r\n",
      "2023-02-02 16:27:11  Epoch 20 : MAE : 31.1761  RMSE : 76.0886  NMAE : 0.6558  MRE : 0.8821  NPRE : 5.5320\r\n",
      "2023-02-02 16:27:29  Epoch 30 : MAE : 28.9406  RMSE : 69.3649  NMAE : 0.6088  MRE : 0.8683  NPRE : 4.3526\r\n",
      "2023-02-02 16:27:45  Epoch 40 : MAE : 28.8297  RMSE : 68.8159  NMAE : 0.6065  MRE : 0.8312  NPRE : 4.7965\r\n",
      "2023-02-02 16:28:03  Epoch 50 : MAE : 28.1048  RMSE : 67.8185  NMAE : 0.5912  MRE : 0.7839  NPRE : 4.6694\r\n",
      "2023-02-02 16:28:22  Epoch 60 : MAE : 28.4134  RMSE : 67.2007  NMAE : 0.5977  MRE : 0.8099  NPRE : 4.9394\r\n",
      "2023-02-02 16:28:39  Epoch 70 : MAE : 26.4181  RMSE : 66.2162  NMAE : 0.5557  MRE : 0.6890  NPRE : 4.2405\r\n",
      "2023-02-02 16:28:57  Epoch 80 : MAE : 25.7233  RMSE : 64.7623  NMAE : 0.5411  MRE : 0.6853  NPRE : 3.4797\r\n",
      "2023-02-02 16:29:16  Epoch 90 : MAE : 25.7016  RMSE : 64.4855  NMAE : 0.5407  MRE : 0.7027  NPRE : 2.9570\r\n",
      "2023-02-02 16:29:31  Epoch 100 : MAE : 25.1840  RMSE : 64.5755  NMAE : 0.5298  MRE : 0.6556  NPRE : 3.1864\r\n",
      "2023-02-02 16:29:31  Best epoch 100 : MAE : 25.1840  RMSE : 64.5755  NMAE : 0.5298  MRE : 0.6556  NPRE : 3.1864\r\n",
      "2023-02-02 16:29:31  实验 1 模型 5 training time = 72.26 s\r\n",
      "2023-02-02 16:29:31  Slice ID  5 : MAE = 25.1840, RMSE = 64.5755, NMAE = 0.5298, MRE = 0.6556, NPRE = 3.1864\r\n",
      "\r\n",
      "2023-02-02 16:29:31  \t所有切片模型训练完毕\r\n",
      "2023-02-02 16:29:31  \t开始训练聚合模型\r\n",
      "2023-02-02 16:29:34  Epoch  1 : MAE : 36.6386  RMSE : 95.5061  NMAE : 0.7708  MRE : 0.8294  NPRE : 5.6413\r\n",
      "2023-02-02 16:29:35  Epoch  2 : MAE : 36.7050  RMSE : 96.8811  NMAE : 0.7721  MRE : 0.8133  NPRE : 5.2235\r\n",
      "2023-02-02 16:29:37  Epoch  3 : MAE : 36.8721  RMSE : 98.3225  NMAE : 0.7757  MRE : 0.7962  NPRE : 5.0598\r\n",
      "2023-02-02 16:29:40  Epoch  4 : MAE : 36.7467  RMSE : 97.2189  NMAE : 0.7730  MRE : 0.8111  NPRE : 5.1463\r\n",
      "2023-02-02 16:29:42  Epoch  5 : MAE : 36.7642  RMSE : 96.9301  NMAE : 0.7734  MRE : 0.8146  NPRE : 5.3107\r\n",
      "2023-02-02 16:29:44  Epoch  6 : MAE : 36.7316  RMSE : 96.1280  NMAE : 0.7727  MRE : 0.8242  NPRE : 5.6139\r\n",
      "2023-02-02 16:29:46  Epoch  7 : MAE : 36.6662  RMSE : 96.8825  NMAE : 0.7713  MRE : 0.8142  NPRE : 5.0782\r\n",
      "2023-02-02 16:29:48  Epoch  8 : MAE : 36.6527  RMSE : 95.3116  NMAE : 0.7710  MRE : 0.8325  NPRE : 5.7497\r\n",
      "2023-02-02 16:29:50  Epoch  9 : MAE : 36.6528  RMSE : 97.3490  NMAE : 0.7710  MRE : 0.8121  NPRE : 4.5223\r\n",
      "2023-02-02 16:29:52  Epoch 10 : MAE : 36.5994  RMSE : 95.8520  NMAE : 0.7699  MRE : 0.8273  NPRE : 5.2818\r\n",
      "2023-02-02 16:29:54  Epoch 11 : MAE : 36.6081  RMSE : 95.1514  NMAE : 0.7701  MRE : 0.8334  NPRE : 5.7102\r\n",
      "2023-02-02 16:29:57  Epoch 12 : MAE : 36.7691  RMSE : 97.3154  NMAE : 0.7735  MRE : 0.8107  NPRE : 5.1476\r\n",
      "2023-02-02 16:29:57  Best epoch 10 : MAE : 36.5994  RMSE : 95.8520  NMAE : 0.7699  MRE : 0.8273  NPRE : 5.2818\r\n",
      "2023-02-02 16:29:57  \t实验 1 聚合模型训练完毕\r\n",
      "100%|███████████████████████████████████████████| 12/12 [00:03<00:00,  3.23it/s]\r\n",
      "2023-02-02 16:30:01  Result : MAE : 36.6146  RMSE : 95.7357  NMAE : 0.7699  MRE : 0.8288  NPRE : 5.2848\r\n",
      "2023-02-02 16:30:01  \t实验 1 : Aggregators training time = 9.87 s\r\n",
      "\r\n",
      "2023-02-02 16:30:01  \t聚合模型训练完毕\r\n",
      "2023-02-02 16:30:01  Round  1 : MAE = 36.6146, RMSE = 95.7357, NMAE = 0.7699, MRE = 0.8288, NPRE = 5.2848 shard avgtime = 42.67 s  agg_time = 9.87 s\r\n",
      "\r\n",
      "------------------------------------------------------------------------------------------------------------------------\r\n",
      "2023-02-02 16:30:01  Dataset : tp     interaction : Pure_Mf\r\n",
      "2023-02-02 16:30:01  Density : 15.00%, slice_epochs : 100, agg_epochs : 12\r\n",
      "2023-02-02 16:30:01  Part_type : 1,    slices : 5,       devices : gpu\r\n",
      "\r\n",
      "\r\n",
      "2023-02-02 16:30:01  Density 15.00% : MAE = 36.615, RMSE = 95.736, NMAE = 0.770, MRE = 0.829, NPRE = 5.285\r\n",
      "\r\n",
      "2023-02-02 16:30:01  Experiment success!\r\n",
      "\r\n"
     ]
    }
   ],
   "source": [
    "!python Experiment.py --dataset tp --interaction Pure_Mf --rounds 1 --agg_epochs 12 --density 0.15 --part_type 1"
   ],
   "metadata": {
    "collapsed": false
   }
  },
  {
   "cell_type": "code",
   "execution_count": 5,
   "outputs": [
    {
     "name": "stdout",
     "output_type": "stream",
     "text": [
      "2023-02-02 16:30:02  Experiment start!\r\n",
      "2023-02-02 16:30:02  Namespace(F=1, agg2=0, agg_decay=0.001, agg_epochs=10, agg_function=1, agg_lr=0.001, agg_type='att', att_decay=0.0001, att_lr=0.001, batch_size=128, beta=1, cluster='deep', cuda=True, dataset='rt', debug=0, density=0.2, devices='gpu', dimension=32, dir='../Dataset/mnist', dropout=0.1, epoch=1500, external_dim=64, hidden_dims=[64, 64, 100], input_dim=128, interaction='Pure_Mf', lamda=1, latent_dim=10, log_interval=100, lr=0.0001, n_classes=10, n_clusters=10, n_jobs=1, node2vec=0, node2vec_batchsize=32, node2vec_dim=128, node2vec_epochs=20, node2vec_length=8, node2vec_walk=15, node2vec_windows=3, num_layers=2, order=2, part_iter=20, part_type=1, path='./datasets/data/WSDREAM/', pre_epoch=1000, pretrain=True, processed=0, random_state=1001, record=1, retrain=0, rounds=1, save_model=1, slice=1, slice_decay=0.001, slice_epochs=100, slice_lr=0.001, slices=5, verbose=10, wd=0.0005)\r\n",
      "2023-02-02 16:30:02  Dataset : rt     interaction : Pure_Mf\r\n",
      "2023-02-02 16:30:02  Density : 20.00%, slice_epochs : 100, agg_epochs : 10\r\n",
      "2023-02-02 16:30:02  Part_type : 1,    slices : 5,       devices : gpu\r\n",
      "2023-02-02 16:30:02  Slice_lr : 0.01,    Slice_decay : 0.01\r\n",
      "2023-02-02 16:30:02  Agg_lr : 0.008,    Agg_decay : 0.01\r\n",
      "2023-02-02 16:30:02  Aggregation function : mean\r\n",
      "\r\n",
      "2023-02-02 16:30:02  Round 1 experiment start!\r\n",
      "2023-02-02 16:30:02  \t原始数据集读取完毕\r\n",
      "2023-02-02 16:30:02  \tSISA 切割完毕\r\n",
      "2023-02-02 16:30:02  \t分切数据执行完毕\r\n",
      "2023-02-02 16:30:04  \t模型加载完毕\r\n",
      "2023-02-02 16:30:04  \t准备训练切片模型\r\n",
      "2023-02-02 16:30:04  \t实验 1 模型 1 开始分片训练\r\n",
      "2023-02-02 16:30:26  Epoch 10 : MAE : 0.6546  RMSE : 1.8207  NMAE : 0.7258  MRE : 0.6445  NPRE : 2.9027\r\n",
      "2023-02-02 16:30:46  Epoch 20 : MAE : 0.5445  RMSE : 1.4779  NMAE : 0.6037  MRE : 0.5658  NPRE : 1.9791\r\n",
      "2023-02-02 16:31:07  Epoch 30 : MAE : 0.5566  RMSE : 1.4508  NMAE : 0.6171  MRE : 0.6112  NPRE : 2.1600\r\n",
      "2023-02-02 16:31:17  Best epoch 24 : MAE : 0.5364  RMSE : 1.4557  NMAE : 0.5947  MRE : 0.5627  NPRE : 1.7661\r\n",
      "2023-02-02 16:31:17  实验 1 模型 1 training time = 24.04 s\r\n",
      "2023-02-02 16:31:17  Slice ID  1 : MAE = 0.5364, RMSE = 1.4557, NMAE = 0.5947, MRE = 0.5627, NPRE = 1.7661\r\n",
      "\r\n",
      "2023-02-02 16:31:17  \t实验 1 模型 2 开始分片训练\r\n",
      "2023-02-02 16:31:37  Epoch 10 : MAE : 0.6392  RMSE : 1.8182  NMAE : 0.7087  MRE : 0.5846  NPRE : 2.5583\r\n",
      "2023-02-02 16:31:58  Epoch 20 : MAE : 0.5618  RMSE : 1.4762  NMAE : 0.6229  MRE : 0.6213  NPRE : 2.5363\r\n",
      "2023-02-02 16:32:15  Best epoch 18 : MAE : 0.5498  RMSE : 1.5140  NMAE : 0.6096  MRE : 0.5564  NPRE : 2.0435\r\n",
      "2023-02-02 16:32:15  实验 1 模型 2 training time = 17.73 s\r\n",
      "2023-02-02 16:32:15  Slice ID  2 : MAE = 0.5498, RMSE = 1.5140, NMAE = 0.6096, MRE = 0.5564, NPRE = 2.0435\r\n",
      "\r\n",
      "2023-02-02 16:32:15  \t实验 1 模型 3 开始分片训练\r\n",
      "2023-02-02 16:32:32  Epoch 10 : MAE : 0.5945  RMSE : 1.7447  NMAE : 0.6591  MRE : 0.5353  NPRE : 2.0529\r\n",
      "2023-02-02 16:32:53  Epoch 20 : MAE : 0.5254  RMSE : 1.4043  NMAE : 0.5825  MRE : 0.5975  NPRE : 2.0163\r\n",
      "2023-02-02 16:33:19  Epoch 30 : MAE : 0.5285  RMSE : 1.3974  NMAE : 0.5859  MRE : 0.5816  NPRE : 2.3542\r\n",
      "2023-02-02 16:33:31  Best epoch 25 : MAE : 0.5176  RMSE : 1.3885  NMAE : 0.5739  MRE : 0.5700  NPRE : 2.1180\r\n",
      "2023-02-02 16:33:31  实验 1 模型 3 training time = 23.27 s\r\n",
      "2023-02-02 16:33:31  Slice ID  3 : MAE = 0.5176, RMSE = 1.3885, NMAE = 0.5739, MRE = 0.5700, NPRE = 2.1180\r\n",
      "\r\n",
      "2023-02-02 16:33:31  \t实验 1 模型 4 开始分片训练\r\n",
      "2023-02-02 16:33:53  Epoch 10 : MAE : 0.6280  RMSE : 1.7964  NMAE : 0.6963  MRE : 0.5866  NPRE : 2.2797\r\n",
      "2023-02-02 16:34:13  Epoch 20 : MAE : 0.5506  RMSE : 1.4913  NMAE : 0.6104  MRE : 0.5833  NPRE : 2.1542\r\n",
      "2023-02-02 16:34:35  Epoch 30 : MAE : 0.5519  RMSE : 1.4585  NMAE : 0.6119  MRE : 0.5864  NPRE : 2.5667\r\n",
      "2023-02-02 16:34:43  Best epoch 25 : MAE : 0.5400  RMSE : 1.4689  NMAE : 0.5987  MRE : 0.5679  NPRE : 1.7442\r\n",
      "2023-02-02 16:34:43  实验 1 模型 4 training time = 24.94 s\r\n",
      "2023-02-02 16:34:43  Slice ID  4 : MAE = 0.5400, RMSE = 1.4689, NMAE = 0.5987, MRE = 0.5679, NPRE = 1.7442\r\n",
      "\r\n",
      "2023-02-02 16:34:43  \t实验 1 模型 5 开始分片训练\r\n",
      "2023-02-02 16:35:07  Epoch 10 : MAE : 0.6347  RMSE : 1.7525  NMAE : 0.7037  MRE : 0.6395  NPRE : 3.0744\r\n",
      "2023-02-02 16:35:30  Epoch 20 : MAE : 0.5456  RMSE : 1.4768  NMAE : 0.6049  MRE : 0.5573  NPRE : 2.0835\r\n",
      "2023-02-02 16:35:49  Epoch 30 : MAE : 0.5370  RMSE : 1.4141  NMAE : 0.5954  MRE : 0.5895  NPRE : 2.0682\r\n",
      "2023-02-02 16:36:18  Epoch 40 : MAE : 0.5624  RMSE : 1.4104  NMAE : 0.6235  MRE : 0.6477  NPRE : 2.8995\r\n",
      "2023-02-02 16:36:18  Best epoch 30 : MAE : 0.5370  RMSE : 1.4141  NMAE : 0.5954  MRE : 0.5895  NPRE : 2.0682\r\n",
      "2023-02-02 16:36:18  实验 1 模型 5 training time = 32.52 s\r\n",
      "2023-02-02 16:36:18  Slice ID  5 : MAE = 0.5370, RMSE = 1.4141, NMAE = 0.5954, MRE = 0.5895, NPRE = 2.0682\r\n",
      "\r\n",
      "2023-02-02 16:36:18  \t所有切片模型训练完毕\r\n",
      "2023-02-02 16:36:18  \t开始训练聚合模型\r\n",
      "2023-02-02 16:36:21  Epoch  1 : MAE : 0.6983  RMSE : 1.8859  NMAE : 0.7742  MRE : 0.6585  NPRE : 2.8812\r\n",
      "2023-02-02 16:36:23  Epoch  2 : MAE : 0.6982  RMSE : 1.8798  NMAE : 0.7741  MRE : 0.6667  NPRE : 2.9408\r\n",
      "2023-02-02 16:36:25  Epoch  3 : MAE : 0.6980  RMSE : 1.8794  NMAE : 0.7739  MRE : 0.6668  NPRE : 2.8756\r\n",
      "2023-02-02 16:36:27  Epoch  4 : MAE : 0.6978  RMSE : 1.8659  NMAE : 0.7736  MRE : 0.6793  NPRE : 3.0768\r\n",
      "2023-02-02 16:36:30  Epoch  5 : MAE : 0.6993  RMSE : 1.8761  NMAE : 0.7753  MRE : 0.6735  NPRE : 3.1568\r\n",
      "2023-02-02 16:36:32  Epoch  6 : MAE : 0.6985  RMSE : 1.8828  NMAE : 0.7744  MRE : 0.6645  NPRE : 2.9905\r\n",
      "2023-02-02 16:36:34  Epoch  7 : MAE : 0.6993  RMSE : 1.8631  NMAE : 0.7753  MRE : 0.6931  NPRE : 3.3084\r\n",
      "2023-02-02 16:36:37  Epoch  8 : MAE : 0.6975  RMSE : 1.8721  NMAE : 0.7733  MRE : 0.6720  NPRE : 2.8368\r\n",
      "2023-02-02 16:36:39  Epoch  9 : MAE : 0.6988  RMSE : 1.8917  NMAE : 0.7747  MRE : 0.6529  NPRE : 2.6149\r\n",
      "2023-02-02 16:36:41  Epoch 10 : MAE : 0.6970  RMSE : 1.8744  NMAE : 0.7727  MRE : 0.6671  NPRE : 2.8305\r\n",
      "2023-02-02 16:36:41  Best epoch 10 : MAE : 0.6970  RMSE : 1.8744  NMAE : 0.7727  MRE : 0.6671  NPRE : 2.8305\r\n",
      "2023-02-02 16:36:41  \t实验 1 聚合模型训练完毕\r\n",
      "100%|███████████████████████████████████████████| 11/11 [00:04<00:00,  2.47it/s]\r\n",
      "2023-02-02 16:36:46  Result : MAE : 0.7058  RMSE : 1.9069  NMAE : 0.7754  MRE : 0.6689  NPRE : 2.8287\r\n",
      "2023-02-02 16:36:46  \t实验 1 : Aggregators training time = 12.23 s\r\n",
      "\r\n",
      "2023-02-02 16:36:46  \t聚合模型训练完毕\r\n",
      "2023-02-02 16:36:46  Round  1 : MAE = 0.7058, RMSE = 1.9069, NMAE = 0.7754, MRE = 0.6689, NPRE = 2.8287 shard avgtime = 24.50 s  agg_time = 12.23 s\r\n",
      "\r\n",
      "------------------------------------------------------------------------------------------------------------------------\r\n",
      "2023-02-02 16:36:46  Dataset : rt     interaction : Pure_Mf\r\n",
      "2023-02-02 16:36:46  Density : 20.00%, slice_epochs : 100, agg_epochs : 10\r\n",
      "2023-02-02 16:36:46  Part_type : 1,    slices : 5,       devices : gpu\r\n",
      "\r\n",
      "\r\n",
      "2023-02-02 16:36:46  Density 20.00% : MAE = 0.706, RMSE = 1.907, NMAE = 0.775, MRE = 0.669, NPRE = 2.829\r\n",
      "\r\n",
      "2023-02-02 16:36:46  Experiment success!\r\n",
      "\r\n"
     ]
    }
   ],
   "source": [
    "!python Experiment.py --dataset rt --interaction Pure_Mf --rounds 1 --agg_epochs 10 --density 0.20 --part_type 1"
   ],
   "metadata": {
    "collapsed": false
   }
  },
  {
   "cell_type": "code",
   "execution_count": 6,
   "outputs": [
    {
     "name": "stdout",
     "output_type": "stream",
     "text": [
      "2023-02-02 16:36:47  Experiment start!\r\n",
      "2023-02-02 16:36:47  Namespace(F=1, agg2=0, agg_decay=0.001, agg_epochs=12, agg_function=1, agg_lr=0.001, agg_type='att', att_decay=0.0001, att_lr=0.001, batch_size=128, beta=1, cluster='deep', cuda=True, dataset='tp', debug=0, density=0.2, devices='gpu', dimension=32, dir='../Dataset/mnist', dropout=0.1, epoch=1500, external_dim=64, hidden_dims=[64, 64, 100], input_dim=128, interaction='Pure_Mf', lamda=1, latent_dim=10, log_interval=100, lr=0.0001, n_classes=10, n_clusters=10, n_jobs=1, node2vec=0, node2vec_batchsize=32, node2vec_dim=128, node2vec_epochs=20, node2vec_length=8, node2vec_walk=15, node2vec_windows=3, num_layers=2, order=2, part_iter=20, part_type=1, path='./datasets/data/WSDREAM/', pre_epoch=1000, pretrain=True, processed=0, random_state=1001, record=1, retrain=0, rounds=1, save_model=1, slice=1, slice_decay=0.001, slice_epochs=100, slice_lr=0.001, slices=5, verbose=10, wd=0.0005)\r\n",
      "2023-02-02 16:36:47  Dataset : tp     interaction : Pure_Mf\r\n",
      "2023-02-02 16:36:47  Density : 20.00%, slice_epochs : 100, agg_epochs : 12\r\n",
      "2023-02-02 16:36:47  Part_type : 1,    slices : 5,       devices : gpu\r\n",
      "2023-02-02 16:36:47  Slice_lr : 0.01,    Slice_decay : 0.001\r\n",
      "2023-02-02 16:36:47  Agg_lr : 0.008,    Agg_decay : 0.01\r\n",
      "2023-02-02 16:36:47  Aggregation function : mean\r\n",
      "\r\n",
      "2023-02-02 16:36:47  Round 1 experiment start!\r\n",
      "2023-02-02 16:36:47  \t原始数据集读取完毕\r\n",
      "2023-02-02 16:36:48  \tSISA 切割完毕\r\n",
      "2023-02-02 16:36:48  \t分切数据执行完毕\r\n",
      "2023-02-02 16:36:50  \t模型加载完毕\r\n",
      "2023-02-02 16:36:50  \t准备训练切片模型\r\n",
      "2023-02-02 16:36:50  \t实验 1 模型 1 开始分片训练\r\n",
      "2023-02-02 16:37:11  Epoch 10 : MAE : 36.9331  RMSE : 107.9012  NMAE : 0.7709  MRE : 0.6943  NPRE : 2.8696\r\n",
      "2023-02-02 16:37:33  Epoch 20 : MAE : 23.6867  RMSE : 60.4274  NMAE : 0.4944  MRE : 0.6927  NPRE : 2.9945\r\n",
      "2023-02-02 16:37:57  Epoch 30 : MAE : 23.6387  RMSE : 57.7808  NMAE : 0.4934  MRE : 0.6966  NPRE : 3.3830\r\n",
      "2023-02-02 16:38:25  Epoch 40 : MAE : 22.6658  RMSE : 57.0143  NMAE : 0.4731  MRE : 0.6742  NPRE : 2.1969\r\n",
      "2023-02-02 16:38:54  Epoch 50 : MAE : 24.0231  RMSE : 58.1466  NMAE : 0.5014  MRE : 0.6967  NPRE : 3.3814\r\n",
      "2023-02-02 16:38:54  Best epoch 40 : MAE : 22.6658  RMSE : 57.0143  NMAE : 0.4731  MRE : 0.6742  NPRE : 2.1969\r\n",
      "2023-02-02 16:38:54  实验 1 模型 1 training time = 51.95 s\r\n",
      "2023-02-02 16:38:54  Slice ID  1 : MAE = 22.6658, RMSE = 57.0143, NMAE = 0.4731, MRE = 0.6742, NPRE = 2.1969\r\n",
      "\r\n",
      "2023-02-02 16:38:54  \t实验 1 模型 2 开始分片训练\r\n",
      "2023-02-02 16:39:16  Epoch 10 : MAE : 38.4224  RMSE : 109.2887  NMAE : 0.8019  MRE : 0.7516  NPRE : 4.4096\r\n",
      "2023-02-02 16:39:39  Epoch 20 : MAE : 23.3882  RMSE : 63.5741  NMAE : 0.4882  MRE : 0.6115  NPRE : 3.0785\r\n",
      "2023-02-02 16:40:04  Epoch 30 : MAE : 23.0009  RMSE : 58.0118  NMAE : 0.4801  MRE : 0.6765  NPRE : 3.0962\r\n",
      "2023-02-02 16:40:20  Best epoch 28 : MAE : 22.1849  RMSE : 57.1550  NMAE : 0.4630  MRE : 0.6578  NPRE : 2.4941\r\n",
      "2023-02-02 16:40:20  实验 1 模型 2 training time = 34.57 s\r\n",
      "2023-02-02 16:40:20  Slice ID  2 : MAE = 22.1849, RMSE = 57.1550, NMAE = 0.4630, MRE = 0.6578, NPRE = 2.4941\r\n",
      "\r\n",
      "2023-02-02 16:40:20  \t实验 1 模型 3 开始分片训练\r\n",
      "2023-02-02 16:40:46  Epoch 10 : MAE : 33.3128  RMSE : 96.2632  NMAE : 0.6953  MRE : 0.7130  NPRE : 2.8130\r\n",
      "2023-02-02 16:41:14  Epoch 20 : MAE : 22.6954  RMSE : 62.9937  NMAE : 0.4737  MRE : 0.5913  NPRE : 2.7603\r\n",
      "2023-02-02 16:41:37  Epoch 30 : MAE : 22.5710  RMSE : 57.2618  NMAE : 0.4711  MRE : 0.6598  NPRE : 3.0418\r\n",
      "2023-02-02 16:41:53  Best epoch 27 : MAE : 21.5308  RMSE : 58.0337  NMAE : 0.4494  MRE : 0.5718  NPRE : 2.8818\r\n",
      "2023-02-02 16:41:53  实验 1 模型 3 training time = 40.74 s\r\n",
      "2023-02-02 16:41:53  Slice ID  3 : MAE = 21.5308, RMSE = 58.0337, NMAE = 0.4494, MRE = 0.5718, NPRE = 2.8818\r\n",
      "\r\n",
      "2023-02-02 16:41:53  \t实验 1 模型 4 开始分片训练\r\n",
      "2023-02-02 16:42:18  Epoch 10 : MAE : 33.5145  RMSE : 96.9046  NMAE : 0.6995  MRE : 0.6946  NPRE : 3.1105\r\n",
      "2023-02-02 16:42:45  Epoch 20 : MAE : 22.4106  RMSE : 61.0618  NMAE : 0.4677  MRE : 0.5954  NPRE : 2.9217\r\n",
      "2023-02-02 16:43:07  Epoch 30 : MAE : 21.3992  RMSE : 58.4295  NMAE : 0.4466  MRE : 0.5632  NPRE : 2.1129\r\n",
      "2023-02-02 16:43:34  Epoch 40 : MAE : 22.7560  RMSE : 57.2632  NMAE : 0.4750  MRE : 0.6463  NPRE : 3.1971\r\n",
      "2023-02-02 16:43:34  Best epoch 30 : MAE : 21.3992  RMSE : 58.4295  NMAE : 0.4466  MRE : 0.5632  NPRE : 2.1129\r\n",
      "2023-02-02 16:43:34  实验 1 模型 4 training time = 41.27 s\r\n",
      "2023-02-02 16:43:34  Slice ID  4 : MAE = 21.3992, RMSE = 58.4295, NMAE = 0.4466, MRE = 0.5632, NPRE = 2.1129\r\n",
      "\r\n",
      "2023-02-02 16:43:34  \t实验 1 模型 5 开始分片训练\r\n",
      "2023-02-02 16:44:00  Epoch 10 : MAE : 36.0394  RMSE : 105.7611  NMAE : 0.7522  MRE : 0.6993  NPRE : 3.1050\r\n",
      "2023-02-02 16:44:23  Epoch 20 : MAE : 23.2086  RMSE : 64.8403  NMAE : 0.4844  MRE : 0.5949  NPRE : 2.5441\r\n",
      "2023-02-02 16:44:48  Epoch 30 : MAE : 21.6783  RMSE : 58.3673  NMAE : 0.4525  MRE : 0.5661  NPRE : 2.7255\r\n",
      "2023-02-02 16:45:12  Epoch 40 : MAE : 22.2332  RMSE : 56.2859  NMAE : 0.4640  MRE : 0.6381  NPRE : 2.6398\r\n",
      "2023-02-02 16:45:27  Best epoch 36 : MAE : 21.6323  RMSE : 56.3698  NMAE : 0.4515  MRE : 0.6205  NPRE : 2.1047\r\n",
      "2023-02-02 16:45:27  实验 1 模型 5 training time = 48.78 s\r\n",
      "2023-02-02 16:45:27  Slice ID  5 : MAE = 21.6323, RMSE = 56.3698, NMAE = 0.4515, MRE = 0.6205, NPRE = 2.1047\r\n",
      "\r\n",
      "2023-02-02 16:45:27  \t所有切片模型训练完毕\r\n",
      "2023-02-02 16:45:27  \t开始训练聚合模型\r\n",
      "2023-02-02 16:45:30  Epoch  1 : MAE : 36.9248  RMSE : 94.7986  NMAE : 0.7707  MRE : 0.8424  NPRE : 5.4311\r\n",
      "2023-02-02 16:45:33  Epoch  2 : MAE : 36.8936  RMSE : 95.8541  NMAE : 0.7700  MRE : 0.8262  NPRE : 5.0494\r\n",
      "2023-02-02 16:45:35  Epoch  3 : MAE : 36.8878  RMSE : 95.9039  NMAE : 0.7699  MRE : 0.8270  NPRE : 4.8182\r\n",
      "2023-02-02 16:45:37  Epoch  4 : MAE : 36.9667  RMSE : 95.8024  NMAE : 0.7716  MRE : 0.8293  NPRE : 5.1421\r\n",
      "2023-02-02 16:45:40  Epoch  5 : MAE : 37.0841  RMSE : 96.1795  NMAE : 0.7740  MRE : 0.8237  NPRE : 5.4438\r\n",
      "2023-02-02 16:45:42  Epoch  6 : MAE : 37.1447  RMSE : 97.2423  NMAE : 0.7753  MRE : 0.8091  NPRE : 5.1988\r\n",
      "2023-02-02 16:45:45  Epoch  7 : MAE : 37.0279  RMSE : 95.0037  NMAE : 0.7728  MRE : 0.8389  NPRE : 5.7218\r\n",
      "2023-02-02 16:45:47  Epoch  8 : MAE : 37.0420  RMSE : 96.3324  NMAE : 0.7731  MRE : 0.8210  NPRE : 5.2103\r\n",
      "2023-02-02 16:45:49  Epoch  9 : MAE : 37.2666  RMSE : 95.6980  NMAE : 0.7778  MRE : 0.8337  NPRE : 6.0779\r\n",
      "2023-02-02 16:45:52  Epoch 10 : MAE : 36.9979  RMSE : 96.5002  NMAE : 0.7722  MRE : 0.8170  NPRE : 5.0967\r\n",
      "2023-02-02 16:45:54  Epoch 11 : MAE : 36.9721  RMSE : 95.5626  NMAE : 0.7717  MRE : 0.8345  NPRE : 5.2033\r\n",
      "2023-02-02 16:45:56  Epoch 12 : MAE : 36.8423  RMSE : 95.0172  NMAE : 0.7690  MRE : 0.8382  NPRE : 5.2340\r\n",
      "2023-02-02 16:45:56  Best epoch 12 : MAE : 36.8423  RMSE : 95.0172  NMAE : 0.7690  MRE : 0.8382  NPRE : 5.2340\r\n",
      "2023-02-02 16:45:56  \t实验 1 聚合模型训练完毕\r\n",
      "100%|███████████████████████████████████████████| 11/11 [00:02<00:00,  3.88it/s]\r\n",
      "2023-02-02 16:45:59  Result : MAE : 36.6708  RMSE : 95.1934  NMAE : 0.7714  MRE : 0.8380  NPRE : 5.2755\r\n",
      "2023-02-02 16:45:59  \t实验 1 : Aggregators training time = 14.50 s\r\n",
      "\r\n",
      "2023-02-02 16:45:59  \t聚合模型训练完毕\r\n",
      "2023-02-02 16:45:59  Round  1 : MAE = 36.6708, RMSE = 95.1934, NMAE = 0.7714, MRE = 0.8380, NPRE = 5.2755 shard avgtime = 43.46 s  agg_time = 14.50 s\r\n",
      "\r\n",
      "------------------------------------------------------------------------------------------------------------------------\r\n",
      "2023-02-02 16:45:59  Dataset : tp     interaction : Pure_Mf\r\n",
      "2023-02-02 16:45:59  Density : 20.00%, slice_epochs : 100, agg_epochs : 12\r\n",
      "2023-02-02 16:45:59  Part_type : 1,    slices : 5,       devices : gpu\r\n",
      "\r\n",
      "\r\n",
      "2023-02-02 16:45:59  Density 20.00% : MAE = 36.671, RMSE = 95.193, NMAE = 0.771, MRE = 0.838, NPRE = 5.275\r\n",
      "\r\n",
      "2023-02-02 16:45:59  Experiment success!\r\n",
      "\r\n"
     ]
    }
   ],
   "source": [
    "!python Experiment.py --dataset tp --interaction Pure_Mf --rounds 1 --agg_epochs 12 --density 0.20 --part_type 1"
   ],
   "metadata": {
    "collapsed": false
   }
  },
  {
   "cell_type": "code",
   "execution_count": 7,
   "outputs": [
    {
     "name": "stdout",
     "output_type": "stream",
     "text": [
      "2023-02-02 16:46:00  Experiment start!\r\n",
      "2023-02-02 16:46:00  Namespace(F=1, agg2=0, agg_decay=0.001, agg_epochs=10, agg_function=1, agg_lr=0.001, agg_type='att', att_decay=0.0001, att_lr=0.001, batch_size=128, beta=1, cluster='deep', cuda=True, dataset='rt', debug=0, density=0.25, devices='gpu', dimension=32, dir='../Dataset/mnist', dropout=0.1, epoch=1500, external_dim=64, hidden_dims=[64, 64, 100], input_dim=128, interaction='Pure_Mf', lamda=1, latent_dim=10, log_interval=100, lr=0.0001, n_classes=10, n_clusters=10, n_jobs=1, node2vec=0, node2vec_batchsize=32, node2vec_dim=128, node2vec_epochs=20, node2vec_length=8, node2vec_walk=15, node2vec_windows=3, num_layers=2, order=2, part_iter=20, part_type=1, path='./datasets/data/WSDREAM/', pre_epoch=1000, pretrain=True, processed=0, random_state=1001, record=1, retrain=0, rounds=1, save_model=1, slice=1, slice_decay=0.001, slice_epochs=100, slice_lr=0.001, slices=5, verbose=10, wd=0.0005)\r\n",
      "2023-02-02 16:46:00  Dataset : rt     interaction : Pure_Mf\r\n",
      "2023-02-02 16:46:00  Density : 25.00%, slice_epochs : 100, agg_epochs : 10\r\n",
      "2023-02-02 16:46:00  Part_type : 1,    slices : 5,       devices : gpu\r\n",
      "2023-02-02 16:46:00  Slice_lr : 0.001,    Slice_decay : 0.01\r\n",
      "2023-02-02 16:46:00  Agg_lr : 0.008,    Agg_decay : 0.01\r\n",
      "2023-02-02 16:46:00  Aggregation function : mean\r\n",
      "\r\n",
      "2023-02-02 16:46:00  Round 1 experiment start!\r\n",
      "2023-02-02 16:46:00  \t原始数据集读取完毕\r\n",
      "2023-02-02 16:46:01  \tSISA 切割完毕\r\n",
      "2023-02-02 16:46:01  \t分切数据执行完毕\r\n",
      "2023-02-02 16:46:03  \t模型加载完毕\r\n",
      "2023-02-02 16:46:03  \t准备训练切片模型\r\n",
      "2023-02-02 16:46:03  \t实验 1 模型 1 开始分片训练\r\n",
      "2023-02-02 16:46:31  Epoch 10 : MAE : 0.7626  RMSE : 2.0781  NMAE : 0.8364  MRE : 0.6671  NPRE : 3.0263\r\n",
      "2023-02-02 16:46:53  Best epoch  6 : MAE : 0.7602  RMSE : 2.0695  NMAE : 0.8337  MRE : 0.6800  NPRE : 3.4138\r\n",
      "2023-02-02 16:46:53  实验 1 模型 1 training time = 8.32 s\r\n",
      "2023-02-02 16:46:53  Slice ID  1 : MAE = 0.7602, RMSE = 2.0695, NMAE = 0.8337, MRE = 0.6800, NPRE = 3.4138\r\n",
      "\r\n",
      "2023-02-02 16:46:53  \t实验 1 模型 2 开始分片训练\r\n",
      "2023-02-02 16:47:30  Epoch 10 : MAE : 0.7661  RMSE : 2.0686  NMAE : 0.8402  MRE : 0.6936  NPRE : 3.4960\r\n",
      "2023-02-02 16:47:32  Best epoch  1 : MAE : 0.7610  RMSE : 2.0655  NMAE : 0.8346  MRE : 0.6895  NPRE : 3.6258\r\n",
      "2023-02-02 16:47:33  实验 1 模型 2 training time = 1.27 s\r\n",
      "2023-02-02 16:47:33  Slice ID  2 : MAE = 0.7610, RMSE = 2.0655, NMAE = 0.8346, MRE = 0.6895, NPRE = 3.6258\r\n",
      "\r\n",
      "2023-02-02 16:47:33  \t实验 1 模型 3 开始分片训练\r\n",
      "2023-02-02 16:48:00  Epoch 10 : MAE : 0.7617  RMSE : 2.0751  NMAE : 0.8353  MRE : 0.6692  NPRE : 3.1356\r\n",
      "2023-02-02 16:48:25  Epoch 20 : MAE : 0.7623  RMSE : 2.0680  NMAE : 0.8361  MRE : 0.6850  NPRE : 3.4821\r\n",
      "2023-02-02 16:48:44  Best epoch 16 : MAE : 0.7609  RMSE : 2.0732  NMAE : 0.8345  MRE : 0.6699  NPRE : 3.2560\r\n",
      "2023-02-02 16:48:44  实验 1 模型 3 training time = 26.00 s\r\n",
      "2023-02-02 16:48:44  Slice ID  3 : MAE = 0.7609, RMSE = 2.0732, NMAE = 0.8345, MRE = 0.6699, NPRE = 3.2560\r\n",
      "\r\n",
      "2023-02-02 16:48:44  \t实验 1 模型 4 开始分片训练\r\n",
      "2023-02-02 16:49:11  Epoch 10 : MAE : 0.7600  RMSE : 2.0685  NMAE : 0.8335  MRE : 0.6822  NPRE : 3.4847\r\n",
      "2023-02-02 16:49:40  Epoch 20 : MAE : 0.7619  RMSE : 2.0642  NMAE : 0.8356  MRE : 0.6926  NPRE : 3.6776\r\n",
      "2023-02-02 16:49:40  Best epoch 10 : MAE : 0.7600  RMSE : 2.0685  NMAE : 0.8335  MRE : 0.6822  NPRE : 3.4847\r\n",
      "2023-02-02 16:49:40  实验 1 模型 4 training time = 16.14 s\r\n",
      "2023-02-02 16:49:40  Slice ID  4 : MAE = 0.7600, RMSE = 2.0685, NMAE = 0.8335, MRE = 0.6822, NPRE = 3.4847\r\n",
      "\r\n",
      "2023-02-02 16:49:40  \t实验 1 模型 5 开始分片训练\r\n",
      "2023-02-02 16:50:07  Epoch 10 : MAE : 0.7641  RMSE : 2.0635  NMAE : 0.8380  MRE : 0.6986  NPRE : 3.7285\r\n",
      "2023-02-02 16:50:22  Best epoch  5 : MAE : 0.7612  RMSE : 2.0728  NMAE : 0.8349  MRE : 0.6738  NPRE : 3.2493\r\n",
      "2023-02-02 16:50:22  实验 1 模型 5 training time = 8.94 s\r\n",
      "2023-02-02 16:50:22  Slice ID  5 : MAE = 0.7612, RMSE = 2.0728, NMAE = 0.8349, MRE = 0.6738, NPRE = 3.2493\r\n",
      "\r\n",
      "2023-02-02 16:50:22  \t所有切片模型训练完毕\r\n",
      "2023-02-02 16:50:22  \t开始训练聚合模型\r\n",
      "2023-02-02 16:50:25  Epoch  1 : MAE : 0.7620  RMSE : 2.0749  NMAE : 0.8357  MRE : 0.6713  NPRE : 3.1483\r\n",
      "2023-02-02 16:50:27  Epoch  2 : MAE : 0.7609  RMSE : 2.0669  NMAE : 0.8345  MRE : 0.6862  NPRE : 3.5467\r\n",
      "2023-02-02 16:50:30  Epoch  3 : MAE : 0.7621  RMSE : 2.0744  NMAE : 0.8358  MRE : 0.6737  NPRE : 3.1736\r\n",
      "2023-02-02 16:50:33  Epoch  4 : MAE : 0.7618  RMSE : 2.0685  NMAE : 0.8355  MRE : 0.6837  NPRE : 3.4615\r\n",
      "2023-02-02 16:50:36  Epoch  5 : MAE : 0.7597  RMSE : 2.0692  NMAE : 0.8332  MRE : 0.6813  NPRE : 3.4147\r\n",
      "2023-02-02 16:50:38  Epoch  6 : MAE : 0.7614  RMSE : 2.0845  NMAE : 0.8351  MRE : 0.6496  NPRE : 2.7069\r\n",
      "2023-02-02 16:50:41  Epoch  7 : MAE : 0.7604  RMSE : 2.0630  NMAE : 0.8339  MRE : 0.6961  NPRE : 3.7149\r\n",
      "2023-02-02 16:50:43  Epoch  8 : MAE : 0.7622  RMSE : 2.0751  NMAE : 0.8359  MRE : 0.6716  NPRE : 3.1403\r\n",
      "2023-02-02 16:50:46  Epoch  9 : MAE : 0.7611  RMSE : 2.0684  NMAE : 0.8348  MRE : 0.6831  NPRE : 3.4461\r\n",
      "2023-02-02 16:50:49  Epoch 10 : MAE : 0.7628  RMSE : 2.0718  NMAE : 0.8366  MRE : 0.6776  NPRE : 3.3026\r\n",
      "2023-02-02 16:50:49  Best epoch  5 : MAE : 0.7597  RMSE : 2.0692  NMAE : 0.8332  MRE : 0.6813  NPRE : 3.4147\r\n",
      "2023-02-02 16:50:49  \t实验 1 聚合模型训练完毕\r\n",
      "100%|███████████████████████████████████████████| 11/11 [00:04<00:00,  2.74it/s]\r\n",
      "2023-02-02 16:50:53  Result : MAE : 0.7560  RMSE : 2.0595  NMAE : 0.8313  MRE : 0.6748  NPRE : 3.3504\r\n",
      "2023-02-02 16:50:53  \t实验 1 : Aggregators training time = 7.43 s\r\n",
      "\r\n",
      "2023-02-02 16:50:53  \t聚合模型训练完毕\r\n",
      "2023-02-02 16:50:53  Round  1 : MAE = 0.7560, RMSE = 2.0595, NMAE = 0.8313, MRE = 0.6748, NPRE = 3.3504 shard avgtime = 12.13 s  agg_time = 7.43 s\r\n",
      "\r\n",
      "------------------------------------------------------------------------------------------------------------------------\r\n",
      "2023-02-02 16:50:53  Dataset : rt     interaction : Pure_Mf\r\n",
      "2023-02-02 16:50:53  Density : 25.00%, slice_epochs : 100, agg_epochs : 10\r\n",
      "2023-02-02 16:50:53  Part_type : 1,    slices : 5,       devices : gpu\r\n",
      "\r\n",
      "\r\n",
      "2023-02-02 16:50:53  Density 25.00% : MAE = 0.756, RMSE = 2.060, NMAE = 0.831, MRE = 0.675, NPRE = 3.350\r\n",
      "\r\n",
      "2023-02-02 16:50:53  Experiment success!\r\n",
      "\r\n"
     ]
    }
   ],
   "source": [
    "!python Experiment.py --dataset rt --interaction Pure_Mf --rounds 1 --agg_epochs 10 --density 0.25 --part_type 1"
   ],
   "metadata": {
    "collapsed": false
   }
  },
  {
   "cell_type": "code",
   "execution_count": 8,
   "outputs": [
    {
     "name": "stdout",
     "output_type": "stream",
     "text": [
      "2023-02-02 16:50:54  Continue experiment\r\n",
      "2023-02-02 16:50:54  Namespace(F=1, agg2=0, agg_decay=0.001, agg_epochs=12, agg_function=1, agg_lr=0.001, agg_type='att', att_decay=0.0001, att_lr=0.001, batch_size=128, beta=1, cluster='deep', cuda=True, dataset='tp', debug=0, density=0.25, devices='gpu', dimension=32, dir='../Dataset/mnist', dropout=0.1, epoch=1500, external_dim=64, hidden_dims=[64, 64, 100], input_dim=128, interaction='Pure_Mf', lamda=1, latent_dim=10, log_interval=100, lr=0.0001, n_classes=10, n_clusters=10, n_jobs=1, node2vec=0, node2vec_batchsize=32, node2vec_dim=128, node2vec_epochs=20, node2vec_length=8, node2vec_walk=15, node2vec_windows=3, num_layers=2, order=2, part_iter=20, part_type=1, path='./datasets/data/WSDREAM/', pre_epoch=1000, pretrain=True, processed=0, random_state=1001, record=1, retrain=0, rounds=1, save_model=1, slice=1, slice_decay=0.001, slice_epochs=100, slice_lr=0.001, slices=5, verbose=10, wd=0.0005)\r\n",
      "2023-02-02 16:50:54  Dataset : tp     interaction : Pure_Mf\r\n",
      "2023-02-02 16:50:54  Density : 25.00%, slice_epochs : 100, agg_epochs : 12\r\n",
      "2023-02-02 16:50:54  Part_type : 1,    slices : 5,       devices : gpu\r\n",
      "2023-02-02 16:50:54  Slice_lr : 0.01,    Slice_decay : 0.01\r\n",
      "2023-02-02 16:50:54  Agg_lr : 0.01,    Agg_decay : 0.001\r\n",
      "2023-02-02 16:50:54  Aggregation function : mean\r\n",
      "------------------------------------------------------------------------------------------------------------------------\r\n",
      "2023-02-02 16:50:54  Dataset : tp     interaction : Pure_Mf\r\n",
      "2023-02-02 16:50:54  Density : 25.00%, slice_epochs : 100, agg_epochs : 12\r\n",
      "2023-02-02 16:50:54  Part_type : 1,    slices : 5,       devices : gpu\r\n",
      "\r\n",
      "\r\n",
      "2023-02-02 16:50:54  Density 25.00% : MAE = 37.248, RMSE = 99.397, NMAE = 0.784, MRE = 0.813, NPRE = 4.668\r\n",
      "\r\n",
      "2023-02-02 16:50:54  Experiment success!\r\n",
      "\r\n"
     ]
    }
   ],
   "source": [
    "!python Experiment.py --dataset tp --interaction Pure_Mf --rounds 1 --agg_epochs 12 --density 0.25 --part_type 1"
   ],
   "metadata": {
    "collapsed": false
   }
  },
  {
   "cell_type": "code",
   "execution_count": 9,
   "outputs": [
    {
     "name": "stdout",
     "output_type": "stream",
     "text": [
      "2023-02-02 16:50:55  Continue experiment\r\n",
      "2023-02-02 16:50:55  Namespace(F=1, agg2=0, agg_decay=0.001, agg_epochs=10, agg_function=1, agg_lr=0.001, agg_type='att', att_decay=0.0001, att_lr=0.001, batch_size=128, beta=1, cluster='deep', cuda=True, dataset='rt', debug=0, density=0.3, devices='gpu', dimension=32, dir='../Dataset/mnist', dropout=0.1, epoch=1500, external_dim=64, hidden_dims=[64, 64, 100], input_dim=128, interaction='Pure_Mf', lamda=1, latent_dim=10, log_interval=100, lr=0.0001, n_classes=10, n_clusters=10, n_jobs=1, node2vec=0, node2vec_batchsize=32, node2vec_dim=128, node2vec_epochs=20, node2vec_length=8, node2vec_walk=15, node2vec_windows=3, num_layers=2, order=2, part_iter=20, part_type=1, path='./datasets/data/WSDREAM/', pre_epoch=1000, pretrain=True, processed=0, random_state=1001, record=1, retrain=0, rounds=1, save_model=1, slice=1, slice_decay=0.001, slice_epochs=100, slice_lr=0.001, slices=5, verbose=10, wd=0.0005)\r\n",
      "2023-02-02 16:50:55  Dataset : rt     interaction : Pure_Mf\r\n",
      "2023-02-02 16:50:55  Density : 30.00%, slice_epochs : 100, agg_epochs : 10\r\n",
      "2023-02-02 16:50:55  Part_type : 1,    slices : 5,       devices : gpu\r\n",
      "2023-02-02 16:50:55  Slice_lr : 0.001,    Slice_decay : 0.001\r\n",
      "2023-02-02 16:50:55  Agg_lr : 0.004,    Agg_decay : 0.0001\r\n",
      "2023-02-02 16:50:55  Aggregation function : mean\r\n",
      "------------------------------------------------------------------------------------------------------------------------\r\n",
      "2023-02-02 16:50:55  Dataset : rt     interaction : Pure_Mf\r\n",
      "2023-02-02 16:50:55  Density : 30.00%, slice_epochs : 100, agg_epochs : 10\r\n",
      "2023-02-02 16:50:55  Part_type : 1,    slices : 5,       devices : gpu\r\n",
      "\r\n",
      "\r\n",
      "2023-02-02 16:50:55  Density 30.00% : MAE = 0.753, RMSE = 2.058, NMAE = 0.829, MRE = 0.671, NPRE = 3.309\r\n",
      "\r\n",
      "2023-02-02 16:50:55  Experiment success!\r\n",
      "\r\n"
     ]
    }
   ],
   "source": [
    "!python Experiment.py --dataset rt --interaction Pure_Mf --rounds 1 --agg_epochs 10 --density 0.30 --part_type 1"
   ],
   "metadata": {
    "collapsed": false
   }
  },
  {
   "cell_type": "code",
   "execution_count": 10,
   "outputs": [
    {
     "name": "stdout",
     "output_type": "stream",
     "text": [
      "2023-02-02 16:50:56  Continue experiment\r\n",
      "2023-02-02 16:50:56  Namespace(F=1, agg2=0, agg_decay=0.001, agg_epochs=12, agg_function=1, agg_lr=0.001, agg_type='att', att_decay=0.0001, att_lr=0.001, batch_size=128, beta=1, cluster='deep', cuda=True, dataset='tp', debug=0, density=0.3, devices='gpu', dimension=32, dir='../Dataset/mnist', dropout=0.1, epoch=1500, external_dim=64, hidden_dims=[64, 64, 100], input_dim=128, interaction='Pure_Mf', lamda=1, latent_dim=10, log_interval=100, lr=0.0001, n_classes=10, n_clusters=10, n_jobs=1, node2vec=0, node2vec_batchsize=32, node2vec_dim=128, node2vec_epochs=20, node2vec_length=8, node2vec_walk=15, node2vec_windows=3, num_layers=2, order=2, part_iter=20, part_type=1, path='./datasets/data/WSDREAM/', pre_epoch=1000, pretrain=True, processed=0, random_state=1001, record=1, retrain=0, rounds=1, save_model=1, slice=1, slice_decay=0.001, slice_epochs=100, slice_lr=0.001, slices=5, verbose=10, wd=0.0005)\r\n",
      "2023-02-02 16:50:56  Dataset : tp     interaction : Pure_Mf\r\n",
      "2023-02-02 16:50:56  Density : 30.00%, slice_epochs : 100, agg_epochs : 12\r\n",
      "2023-02-02 16:50:56  Part_type : 1,    slices : 5,       devices : gpu\r\n",
      "2023-02-02 16:50:56  Slice_lr : 0.01,    Slice_decay : 0.0001\r\n",
      "2023-02-02 16:50:56  Agg_lr : 0.004,    Agg_decay : 0.0001\r\n",
      "2023-02-02 16:50:56  Aggregation function : mean\r\n",
      "------------------------------------------------------------------------------------------------------------------------\r\n",
      "2023-02-02 16:50:56  Dataset : tp     interaction : Pure_Mf\r\n",
      "2023-02-02 16:50:56  Density : 30.00%, slice_epochs : 100, agg_epochs : 12\r\n",
      "2023-02-02 16:50:56  Part_type : 1,    slices : 5,       devices : gpu\r\n",
      "\r\n",
      "\r\n",
      "2023-02-02 16:50:56  Density 30.00% : MAE = 35.222, RMSE = 88.073, NMAE = 0.741, MRE = 0.860, NPRE = 5.440\r\n",
      "\r\n",
      "2023-02-02 16:50:56  Experiment success!\r\n",
      "\r\n"
     ]
    }
   ],
   "source": [
    "!python Experiment.py --dataset tp --interaction Pure_Mf --rounds 1 --agg_epochs 12 --density 0.30 --part_type 1"
   ],
   "metadata": {
    "collapsed": false
   }
  },
  {
   "cell_type": "code",
   "execution_count": 11,
   "outputs": [
    {
     "name": "stdout",
     "output_type": "stream",
     "text": [
      "2023-02-02 16:50:57  Continue experiment\r\n",
      "2023-02-02 16:50:57  Namespace(F=1, agg2=0, agg_decay=0.001, agg_epochs=10, agg_function=1, agg_lr=0.001, agg_type='att', att_decay=0.0001, att_lr=0.001, batch_size=128, beta=1, cluster='deep', cuda=True, dataset='rt', debug=0, density=0.1, devices='gpu', dimension=32, dir='../Dataset/mnist', dropout=0.1, epoch=1500, external_dim=64, hidden_dims=[64, 64, 100], input_dim=128, interaction='Pure_Mf', lamda=1, latent_dim=10, log_interval=100, lr=0.0001, n_classes=10, n_clusters=10, n_jobs=1, node2vec=0, node2vec_batchsize=32, node2vec_dim=128, node2vec_epochs=20, node2vec_length=8, node2vec_walk=15, node2vec_windows=3, num_layers=2, order=2, part_iter=20, part_type=3, path='./datasets/data/WSDREAM/', pre_epoch=1000, pretrain=True, processed=0, random_state=1001, record=1, retrain=0, rounds=1, save_model=1, slice=1, slice_decay=0.001, slice_epochs=100, slice_lr=0.001, slices=5, verbose=10, wd=0.0005)\r\n",
      "2023-02-02 16:50:57  Dataset : rt     interaction : Pure_Mf\r\n",
      "2023-02-02 16:50:57  Density : 10.00%, slice_epochs : 100, agg_epochs : 10\r\n",
      "2023-02-02 16:50:57  Part_type : 3,    slices : 5,       devices : gpu\r\n",
      "2023-02-02 16:50:57  Slice_lr : 0.01,    Slice_decay : 0.01\r\n",
      "2023-02-02 16:50:57  Agg_lr : 0.004,    Agg_decay : 0.001\r\n",
      "2023-02-02 16:50:57  Aggregation function : softmax\r\n",
      "------------------------------------------------------------------------------------------------------------------------\r\n",
      "2023-02-02 16:50:57  Dataset : rt     interaction : Pure_Mf\r\n",
      "2023-02-02 16:50:57  Density : 10.00%, slice_epochs : 100, agg_epochs : 10\r\n",
      "2023-02-02 16:50:57  Part_type : 3,    slices : 5,       devices : gpu\r\n",
      "\r\n",
      "\r\n",
      "2023-02-02 16:50:57  Density 10.00% : MAE = 0.697, RMSE = 1.877, NMAE = 0.767, MRE = 0.639, NPRE = 3.396\r\n",
      "\r\n",
      "2023-02-02 16:50:57  Experiment success!\r\n",
      "\r\n"
     ]
    }
   ],
   "source": [
    "!python Experiment.py --dataset rt --interaction Pure_Mf --rounds 1 --agg_epochs 10 --density 0.10 --part_type 3"
   ],
   "metadata": {
    "collapsed": false
   }
  },
  {
   "cell_type": "code",
   "execution_count": 12,
   "outputs": [
    {
     "name": "stdout",
     "output_type": "stream",
     "text": [
      "2023-02-02 16:50:58  Continue experiment\r\n",
      "2023-02-02 16:50:58  Namespace(F=1, agg2=0, agg_decay=0.001, agg_epochs=12, agg_function=1, agg_lr=0.001, agg_type='att', att_decay=0.0001, att_lr=0.001, batch_size=128, beta=1, cluster='deep', cuda=True, dataset='tp', debug=0, density=0.1, devices='gpu', dimension=32, dir='../Dataset/mnist', dropout=0.1, epoch=1500, external_dim=64, hidden_dims=[64, 64, 100], input_dim=128, interaction='Pure_Mf', lamda=1, latent_dim=10, log_interval=100, lr=0.0001, n_classes=10, n_clusters=10, n_jobs=1, node2vec=0, node2vec_batchsize=32, node2vec_dim=128, node2vec_epochs=20, node2vec_length=8, node2vec_walk=15, node2vec_windows=3, num_layers=2, order=2, part_iter=20, part_type=3, path='./datasets/data/WSDREAM/', pre_epoch=1000, pretrain=True, processed=0, random_state=1001, record=1, retrain=0, rounds=1, save_model=1, slice=1, slice_decay=0.001, slice_epochs=100, slice_lr=0.001, slices=5, verbose=10, wd=0.0005)\r\n",
      "2023-02-02 16:50:58  Dataset : tp     interaction : Pure_Mf\r\n",
      "2023-02-02 16:50:58  Density : 10.00%, slice_epochs : 100, agg_epochs : 12\r\n",
      "2023-02-02 16:50:58  Part_type : 3,    slices : 5,       devices : gpu\r\n",
      "2023-02-02 16:50:58  Slice_lr : 0.01,    Slice_decay : 0.0001\r\n",
      "2023-02-02 16:50:58  Agg_lr : 0.008,    Agg_decay : 0.0001\r\n",
      "2023-02-02 16:50:58  Aggregation function : softmax\r\n",
      "------------------------------------------------------------------------------------------------------------------------\r\n",
      "2023-02-02 16:50:58  Dataset : tp     interaction : Pure_Mf\r\n",
      "2023-02-02 16:50:58  Density : 10.00%, slice_epochs : 100, agg_epochs : 12\r\n",
      "2023-02-02 16:50:58  Part_type : 3,    slices : 5,       devices : gpu\r\n",
      "\r\n",
      "\r\n",
      "2023-02-02 16:50:58  Density 10.00% : MAE = 41.632, RMSE = 115.817, NMAE = 0.875, MRE = 0.773, NPRE = 5.068\r\n",
      "\r\n",
      "2023-02-02 16:50:58  Experiment success!\r\n",
      "\r\n"
     ]
    }
   ],
   "source": [
    "!python Experiment.py --dataset tp --interaction Pure_Mf --rounds 1 --agg_epochs 12 --density 0.10 --part_type 3"
   ],
   "metadata": {
    "collapsed": false
   }
  },
  {
   "cell_type": "code",
   "execution_count": 13,
   "outputs": [
    {
     "name": "stdout",
     "output_type": "stream",
     "text": [
      "2023-02-02 16:50:59  Continue experiment\r\n",
      "2023-02-02 16:50:59  Namespace(F=1, agg2=0, agg_decay=0.001, agg_epochs=10, agg_function=1, agg_lr=0.001, agg_type='att', att_decay=0.0001, att_lr=0.001, batch_size=128, beta=1, cluster='deep', cuda=True, dataset='rt', debug=0, density=0.15, devices='gpu', dimension=32, dir='../Dataset/mnist', dropout=0.1, epoch=1500, external_dim=64, hidden_dims=[64, 64, 100], input_dim=128, interaction='Pure_Mf', lamda=1, latent_dim=10, log_interval=100, lr=0.0001, n_classes=10, n_clusters=10, n_jobs=1, node2vec=0, node2vec_batchsize=32, node2vec_dim=128, node2vec_epochs=20, node2vec_length=8, node2vec_walk=15, node2vec_windows=3, num_layers=2, order=2, part_iter=20, part_type=3, path='./datasets/data/WSDREAM/', pre_epoch=1000, pretrain=True, processed=0, random_state=1001, record=1, retrain=0, rounds=1, save_model=1, slice=1, slice_decay=0.001, slice_epochs=100, slice_lr=0.001, slices=5, verbose=10, wd=0.0005)\r\n",
      "2023-02-02 16:50:59  Dataset : rt     interaction : Pure_Mf\r\n",
      "2023-02-02 16:50:59  Density : 15.00%, slice_epochs : 100, agg_epochs : 10\r\n",
      "2023-02-02 16:50:59  Part_type : 3,    slices : 5,       devices : gpu\r\n",
      "2023-02-02 16:50:59  Slice_lr : 0.01,    Slice_decay : 0.001\r\n",
      "2023-02-02 16:50:59  Agg_lr : 0.004,    Agg_decay : 0.001\r\n",
      "2023-02-02 16:50:59  Aggregation function : softmax\r\n",
      "------------------------------------------------------------------------------------------------------------------------\r\n",
      "2023-02-02 16:50:59  Dataset : rt     interaction : Pure_Mf\r\n",
      "2023-02-02 16:50:59  Density : 15.00%, slice_epochs : 100, agg_epochs : 10\r\n",
      "2023-02-02 16:50:59  Part_type : 3,    slices : 5,       devices : gpu\r\n",
      "\r\n",
      "\r\n",
      "2023-02-02 16:50:59  Density 15.00% : MAE = 0.749, RMSE = 2.055, NMAE = 0.824, MRE = 0.656, NPRE = 3.071\r\n",
      "\r\n",
      "2023-02-02 16:50:59  Experiment success!\r\n",
      "\r\n"
     ]
    }
   ],
   "source": [
    "!python Experiment.py --dataset rt --interaction Pure_Mf --rounds 1 --agg_epochs 10 --density 0.15 --part_type 3"
   ],
   "metadata": {
    "collapsed": false
   }
  },
  {
   "cell_type": "code",
   "execution_count": 14,
   "outputs": [
    {
     "name": "stdout",
     "output_type": "stream",
     "text": [
      "2023-02-02 16:51:00  Continue experiment\r\n",
      "2023-02-02 16:51:00  Namespace(F=1, agg2=0, agg_decay=0.001, agg_epochs=12, agg_function=1, agg_lr=0.001, agg_type='att', att_decay=0.0001, att_lr=0.001, batch_size=128, beta=1, cluster='deep', cuda=True, dataset='tp', debug=0, density=0.15, devices='gpu', dimension=32, dir='../Dataset/mnist', dropout=0.1, epoch=1500, external_dim=64, hidden_dims=[64, 64, 100], input_dim=128, interaction='Pure_Mf', lamda=1, latent_dim=10, log_interval=100, lr=0.0001, n_classes=10, n_clusters=10, n_jobs=1, node2vec=0, node2vec_batchsize=32, node2vec_dim=128, node2vec_epochs=20, node2vec_length=8, node2vec_walk=15, node2vec_windows=3, num_layers=2, order=2, part_iter=20, part_type=3, path='./datasets/data/WSDREAM/', pre_epoch=1000, pretrain=True, processed=0, random_state=1001, record=1, retrain=0, rounds=1, save_model=1, slice=1, slice_decay=0.001, slice_epochs=100, slice_lr=0.001, slices=5, verbose=10, wd=0.0005)\r\n",
      "2023-02-02 16:51:00  Dataset : tp     interaction : Pure_Mf\r\n",
      "2023-02-02 16:51:00  Density : 15.00%, slice_epochs : 100, agg_epochs : 12\r\n",
      "2023-02-02 16:51:00  Part_type : 3,    slices : 5,       devices : gpu\r\n",
      "2023-02-02 16:51:00  Slice_lr : 0.01,    Slice_decay : 0.001\r\n",
      "2023-02-02 16:51:00  Agg_lr : 0.008,    Agg_decay : 0.01\r\n",
      "2023-02-02 16:51:00  Aggregation function : softmax\r\n",
      "------------------------------------------------------------------------------------------------------------------------\r\n",
      "2023-02-02 16:51:00  Dataset : tp     interaction : Pure_Mf\r\n",
      "2023-02-02 16:51:00  Density : 15.00%, slice_epochs : 100, agg_epochs : 12\r\n",
      "2023-02-02 16:51:00  Part_type : 3,    slices : 5,       devices : gpu\r\n",
      "\r\n",
      "\r\n",
      "2023-02-02 16:51:00  Density 15.00% : MAE = 34.001, RMSE = 93.138, NMAE = 0.715, MRE = 0.703, NPRE = 4.045\r\n",
      "\r\n",
      "2023-02-02 16:51:00  Experiment success!\r\n",
      "\r\n"
     ]
    }
   ],
   "source": [
    "!python Experiment.py --dataset tp --interaction Pure_Mf --rounds 1 --agg_epochs 12 --density 0.15 --part_type 3"
   ],
   "metadata": {
    "collapsed": false
   }
  },
  {
   "cell_type": "code",
   "execution_count": 15,
   "outputs": [
    {
     "name": "stdout",
     "output_type": "stream",
     "text": [
      "2023-02-02 16:51:01  Continue experiment\r\n",
      "2023-02-02 16:51:01  Namespace(F=1, agg2=0, agg_decay=0.001, agg_epochs=10, agg_function=1, agg_lr=0.001, agg_type='att', att_decay=0.0001, att_lr=0.001, batch_size=128, beta=1, cluster='deep', cuda=True, dataset='rt', debug=0, density=0.2, devices='gpu', dimension=32, dir='../Dataset/mnist', dropout=0.1, epoch=1500, external_dim=64, hidden_dims=[64, 64, 100], input_dim=128, interaction='Pure_Mf', lamda=1, latent_dim=10, log_interval=100, lr=0.0001, n_classes=10, n_clusters=10, n_jobs=1, node2vec=0, node2vec_batchsize=32, node2vec_dim=128, node2vec_epochs=20, node2vec_length=8, node2vec_walk=15, node2vec_windows=3, num_layers=2, order=2, part_iter=20, part_type=3, path='./datasets/data/WSDREAM/', pre_epoch=1000, pretrain=True, processed=0, random_state=1001, record=1, retrain=0, rounds=1, save_model=1, slice=1, slice_decay=0.001, slice_epochs=100, slice_lr=0.001, slices=5, verbose=10, wd=0.0005)\r\n",
      "2023-02-02 16:51:01  Dataset : rt     interaction : Pure_Mf\r\n",
      "2023-02-02 16:51:01  Density : 20.00%, slice_epochs : 100, agg_epochs : 10\r\n",
      "2023-02-02 16:51:01  Part_type : 3,    slices : 5,       devices : gpu\r\n",
      "2023-02-02 16:51:01  Slice_lr : 0.01,    Slice_decay : 0.01\r\n",
      "2023-02-02 16:51:01  Agg_lr : 0.008,    Agg_decay : 0.01\r\n",
      "2023-02-02 16:51:01  Aggregation function : softmax\r\n",
      "------------------------------------------------------------------------------------------------------------------------\r\n",
      "2023-02-02 16:51:01  Dataset : rt     interaction : Pure_Mf\r\n",
      "2023-02-02 16:51:01  Density : 20.00%, slice_epochs : 100, agg_epochs : 10\r\n",
      "2023-02-02 16:51:01  Part_type : 3,    slices : 5,       devices : gpu\r\n",
      "\r\n",
      "\r\n",
      "2023-02-02 16:51:01  Density 20.00% : MAE = 0.648, RMSE = 1.850, NMAE = 0.712, MRE = 0.599, NPRE = 2.790\r\n",
      "\r\n",
      "2023-02-02 16:51:01  Experiment success!\r\n",
      "\r\n"
     ]
    }
   ],
   "source": [
    "!python Experiment.py --dataset rt --interaction Pure_Mf --rounds 1 --agg_epochs 10 --density 0.20 --part_type 3"
   ],
   "metadata": {
    "collapsed": false
   }
  },
  {
   "cell_type": "code",
   "execution_count": 16,
   "outputs": [
    {
     "name": "stdout",
     "output_type": "stream",
     "text": [
      "2023-02-02 16:51:02  Experiment start!\r\n",
      "2023-02-02 16:51:02  Namespace(F=1, agg2=0, agg_decay=0.001, agg_epochs=12, agg_function=1, agg_lr=0.001, agg_type='att', att_decay=0.0001, att_lr=0.001, batch_size=128, beta=1, cluster='deep', cuda=True, dataset='tp', debug=0, density=0.2, devices='gpu', dimension=32, dir='../Dataset/mnist', dropout=0.1, epoch=1500, external_dim=64, hidden_dims=[64, 64, 100], input_dim=128, interaction='Pure_Mf', lamda=1, latent_dim=10, log_interval=100, lr=0.0001, n_classes=10, n_clusters=10, n_jobs=1, node2vec=0, node2vec_batchsize=32, node2vec_dim=128, node2vec_epochs=20, node2vec_length=8, node2vec_walk=15, node2vec_windows=3, num_layers=2, order=2, part_iter=20, part_type=3, path='./datasets/data/WSDREAM/', pre_epoch=1000, pretrain=True, processed=0, random_state=1001, record=1, retrain=0, rounds=1, save_model=1, slice=1, slice_decay=0.001, slice_epochs=100, slice_lr=0.001, slices=5, verbose=10, wd=0.0005)\r\n",
      "2023-02-02 16:51:02  Dataset : tp     interaction : Pure_Mf\r\n",
      "2023-02-02 16:51:02  Density : 20.00%, slice_epochs : 100, agg_epochs : 12\r\n",
      "2023-02-02 16:51:02  Part_type : 3,    slices : 5,       devices : gpu\r\n",
      "2023-02-02 16:51:02  Slice_lr : 0.01,    Slice_decay : 0.001\r\n",
      "2023-02-02 16:51:02  Agg_lr : 0.008,    Agg_decay : 0.01\r\n",
      "2023-02-02 16:51:02  Aggregation function : softmax\r\n",
      "\r\n",
      "2023-02-02 16:51:02  Round 1 experiment start!\r\n",
      "2023-02-02 16:51:02  \t原始数据集读取完毕\r\n",
      "2023-02-02 16:51:02  \tReceraser 基于交互切割完毕\r\n",
      "2023-02-02 16:51:02  \t分切数据执行完毕\r\n",
      "2023-02-02 16:51:04  \t模型加载完毕\r\n",
      "2023-02-02 16:51:04  \t准备训练切片模型\r\n",
      "2023-02-02 16:51:04  \t实验 1 模型 1 开始分片训练\r\n",
      "2023-02-02 16:51:35  Epoch 10 : MAE : 46.3452  RMSE : 104.2227  NMAE : 0.9673  MRE : 1.0000  NPRE : 8.3458\r\n",
      "2023-02-02 16:51:44  Best epoch  5 : MAE : 43.5208  RMSE : 115.8081  NMAE : 0.9084  MRE : 0.8631  NPRE : 5.6205\r\n",
      "2023-02-02 16:51:44  实验 1 模型 1 training time = 7.50 s\r\n",
      "2023-02-02 16:51:44  Slice ID  1 : MAE = 43.5208, RMSE = 115.8081, NMAE = 0.9084, MRE = 0.8631, NPRE = 5.6205\r\n",
      "\r\n",
      "2023-02-02 16:51:44  \t实验 1 模型 2 开始分片训练\r\n",
      "2023-02-02 16:52:08  Epoch 10 : MAE : 42.8039  RMSE : 99.7439  NMAE : 0.8934  MRE : 1.0000  NPRE : 7.6306\r\n",
      "2023-02-02 16:52:10  Best epoch  1 : MAE : 41.2171  RMSE : 98.4226  NMAE : 0.8603  MRE : 1.0000  NPRE : 7.3025\r\n",
      "2023-02-02 16:52:10  实验 1 模型 2 training time = 0.59 s\r\n",
      "2023-02-02 16:52:10  Slice ID  2 : MAE = 41.2171, RMSE = 98.4226, NMAE = 0.8603, MRE = 1.0000, NPRE = 7.3025\r\n",
      "\r\n",
      "2023-02-02 16:52:10  \t实验 1 模型 3 开始分片训练\r\n",
      "2023-02-02 16:52:31  Epoch 10 : MAE : 52.4775  RMSE : 111.4540  NMAE : 1.0953  MRE : 1.0000  NPRE : 10.5947\r\n",
      "2023-02-02 16:52:37  Best epoch  2 : MAE : 43.8787  RMSE : 115.6378  NMAE : 0.9158  MRE : 0.8898  NPRE : 5.8767\r\n",
      "2023-02-02 16:52:37  实验 1 模型 3 training time = 1.16 s\r\n",
      "2023-02-02 16:52:37  Slice ID  3 : MAE = 43.8787, RMSE = 115.6378, NMAE = 0.9158, MRE = 0.8898, NPRE = 5.8767\r\n",
      "\r\n",
      "2023-02-02 16:52:37  \t实验 1 模型 4 开始分片训练\r\n",
      "2023-02-02 16:52:57  Epoch 10 : MAE : 52.5076  RMSE : 109.5313  NMAE : 1.0959  MRE : 1.0000  NPRE : 12.0297\r\n",
      "2023-02-02 16:53:02  Best epoch  2 : MAE : 45.1759  RMSE : 115.6675  NMAE : 0.9429  MRE : 0.9618  NPRE : 6.5036\r\n",
      "2023-02-02 16:53:02  实验 1 模型 4 training time = 2.29 s\r\n",
      "2023-02-02 16:53:02  Slice ID  4 : MAE = 45.1759, RMSE = 115.6675, NMAE = 0.9429, MRE = 0.9618, NPRE = 6.5036\r\n",
      "\r\n",
      "2023-02-02 16:53:02  \t实验 1 模型 5 开始分片训练\r\n",
      "2023-02-02 16:53:33  Epoch 10 : MAE : 38.3947  RMSE : 95.7518  NMAE : 0.8014  MRE : 1.0000  NPRE : 5.1223\r\n",
      "2023-02-02 16:54:01  Epoch 20 : MAE : 37.8884  RMSE : 95.7376  NMAE : 0.7908  MRE : 1.0000  NPRE : 3.9301\r\n",
      "2023-02-02 16:54:35  Epoch 30 : MAE : 37.4346  RMSE : 95.3203  NMAE : 0.7813  MRE : 1.0000  NPRE : 4.0709\r\n",
      "2023-02-02 16:54:57  Best epoch 27 : MAE : 36.8523  RMSE : 95.3047  NMAE : 0.7692  MRE : 1.0000  NPRE : 4.4373\r\n",
      "2023-02-02 16:54:57  实验 1 模型 5 training time = 54.06 s\r\n",
      "2023-02-02 16:54:57  Slice ID  5 : MAE = 36.8523, RMSE = 95.3047, NMAE = 0.7692, MRE = 1.0000, NPRE = 4.4373\r\n",
      "\r\n",
      "2023-02-02 16:54:57  \t所有切片模型训练完毕\r\n",
      "2023-02-02 16:54:57  \t开始训练聚合模型\r\n",
      "2023-02-02 16:55:00  Epoch  1 : MAE : 32.6193  RMSE : 90.8578  NMAE : 0.6808  MRE : 0.6952  NPRE : 4.3352\r\n",
      "2023-02-02 16:55:03  Epoch  2 : MAE : 32.5162  RMSE : 90.9017  NMAE : 0.6787  MRE : 0.6875  NPRE : 4.0774\r\n",
      "2023-02-02 16:55:05  Epoch  3 : MAE : 32.7374  RMSE : 90.5086  NMAE : 0.6833  MRE : 0.7129  NPRE : 4.7640\r\n",
      "2023-02-02 16:55:08  Epoch  4 : MAE : 32.5916  RMSE : 91.0121  NMAE : 0.6802  MRE : 0.6961  NPRE : 4.3095\r\n",
      "2023-02-02 16:55:10  Epoch  5 : MAE : 32.5998  RMSE : 90.1295  NMAE : 0.6804  MRE : 0.7198  NPRE : 4.5825\r\n",
      "2023-02-02 16:55:13  Epoch  6 : MAE : 32.5730  RMSE : 91.2370  NMAE : 0.6799  MRE : 0.6922  NPRE : 3.9030\r\n",
      "2023-02-02 16:55:16  Epoch  7 : MAE : 32.5517  RMSE : 90.9878  NMAE : 0.6794  MRE : 0.6929  NPRE : 4.0939\r\n",
      "2023-02-02 16:55:20  Epoch  8 : MAE : 32.4722  RMSE : 90.4995  NMAE : 0.6778  MRE : 0.6972  NPRE : 3.9337\r\n",
      "2023-02-02 16:55:23  Epoch  9 : MAE : 32.5106  RMSE : 90.2396  NMAE : 0.6786  MRE : 0.7022  NPRE : 3.9209\r\n",
      "2023-02-02 16:55:26  Epoch 10 : MAE : 32.5489  RMSE : 90.5595  NMAE : 0.6794  MRE : 0.7007  NPRE : 4.1296\r\n",
      "2023-02-02 16:55:29  Epoch 11 : MAE : 32.3022  RMSE : 90.7583  NMAE : 0.6742  MRE : 0.6854  NPRE : 3.7597\r\n",
      "2023-02-02 16:55:33  Epoch 12 : MAE : 32.4893  RMSE : 90.4900  NMAE : 0.6781  MRE : 0.7100  NPRE : 4.4525\r\n",
      "2023-02-02 16:55:33  Best epoch 11 : MAE : 32.3022  RMSE : 90.7583  NMAE : 0.6742  MRE : 0.6854  NPRE : 3.7597\r\n",
      "2023-02-02 16:55:33  \t实验 1 聚合模型训练完毕\r\n",
      "100%|███████████████████████████████████████████| 11/11 [00:03<00:00,  3.30it/s]\r\n",
      "2023-02-02 16:55:36  Result : MAE : 31.9830  RMSE : 90.2029  NMAE : 0.6728  MRE : 0.6895  NPRE : 3.8343\r\n",
      "2023-02-02 16:55:36  \t实验 1 : Aggregators training time = 19.40 s\r\n",
      "\r\n",
      "2023-02-02 16:55:36  \t聚合模型训练完毕\r\n",
      "2023-02-02 16:55:36  Round  1 : MAE = 31.9830, RMSE = 90.2029, NMAE = 0.6728, MRE = 0.6895, NPRE = 3.8343 shard avgtime = 13.12 s  agg_time = 19.40 s\r\n",
      "\r\n",
      "------------------------------------------------------------------------------------------------------------------------\r\n",
      "2023-02-02 16:55:36  Dataset : tp     interaction : Pure_Mf\r\n",
      "2023-02-02 16:55:36  Density : 20.00%, slice_epochs : 100, agg_epochs : 12\r\n",
      "2023-02-02 16:55:36  Part_type : 3,    slices : 5,       devices : gpu\r\n",
      "\r\n",
      "\r\n",
      "2023-02-02 16:55:36  Density 20.00% : MAE = 31.983, RMSE = 90.203, NMAE = 0.673, MRE = 0.690, NPRE = 3.834\r\n",
      "\r\n",
      "2023-02-02 16:55:36  Experiment success!\r\n",
      "\r\n"
     ]
    }
   ],
   "source": [
    "!python Experiment.py --dataset tp --interaction Pure_Mf --rounds 1 --agg_epochs 12 --density 0.20 --part_type 3"
   ],
   "metadata": {
    "collapsed": false
   }
  },
  {
   "cell_type": "code",
   "execution_count": 17,
   "outputs": [
    {
     "name": "stdout",
     "output_type": "stream",
     "text": [
      "2023-02-02 16:55:38  Experiment start!\r\n",
      "2023-02-02 16:55:38  Namespace(F=1, agg2=0, agg_decay=0.001, agg_epochs=10, agg_function=1, agg_lr=0.001, agg_type='att', att_decay=0.0001, att_lr=0.001, batch_size=128, beta=1, cluster='deep', cuda=True, dataset='rt', debug=0, density=0.25, devices='gpu', dimension=32, dir='../Dataset/mnist', dropout=0.1, epoch=1500, external_dim=64, hidden_dims=[64, 64, 100], input_dim=128, interaction='Pure_Mf', lamda=1, latent_dim=10, log_interval=100, lr=0.0001, n_classes=10, n_clusters=10, n_jobs=1, node2vec=0, node2vec_batchsize=32, node2vec_dim=128, node2vec_epochs=20, node2vec_length=8, node2vec_walk=15, node2vec_windows=3, num_layers=2, order=2, part_iter=20, part_type=3, path='./datasets/data/WSDREAM/', pre_epoch=1000, pretrain=True, processed=0, random_state=1001, record=1, retrain=0, rounds=1, save_model=1, slice=1, slice_decay=0.001, slice_epochs=100, slice_lr=0.001, slices=5, verbose=10, wd=0.0005)\r\n",
      "2023-02-02 16:55:38  Dataset : rt     interaction : Pure_Mf\r\n",
      "2023-02-02 16:55:38  Density : 25.00%, slice_epochs : 100, agg_epochs : 10\r\n",
      "2023-02-02 16:55:38  Part_type : 3,    slices : 5,       devices : gpu\r\n",
      "2023-02-02 16:55:38  Slice_lr : 0.001,    Slice_decay : 0.01\r\n",
      "2023-02-02 16:55:38  Agg_lr : 0.008,    Agg_decay : 0.01\r\n",
      "2023-02-02 16:55:38  Aggregation function : softmax\r\n",
      "\r\n",
      "2023-02-02 16:55:38  Round 1 experiment start!\r\n",
      "2023-02-02 16:55:38  \t原始数据集读取完毕\r\n",
      "2023-02-02 16:55:38  \tReceraser 基于交互切割完毕\r\n",
      "2023-02-02 16:55:38  \t分切数据执行完毕\r\n",
      "2023-02-02 16:55:41  \t模型加载完毕\r\n",
      "2023-02-02 16:55:41  \t准备训练切片模型\r\n",
      "2023-02-02 16:55:41  \t实验 1 模型 1 开始分片训练\r\n",
      "2023-02-02 16:56:27  Epoch 10 : MAE : 0.7639  RMSE : 2.0660  NMAE : 0.8378  MRE : 0.6953  NPRE : 3.6263\r\n",
      "2023-02-02 16:57:05  Epoch 20 : MAE : 0.7658  RMSE : 2.0796  NMAE : 0.8399  MRE : 0.6738  NPRE : 2.9910\r\n",
      "2023-02-02 16:57:30  Best epoch 18 : MAE : 0.7620  RMSE : 2.0803  NMAE : 0.8357  MRE : 0.6596  NPRE : 2.9237\r\n",
      "2023-02-02 16:57:30  实验 1 模型 1 training time = 55.91 s\r\n",
      "2023-02-02 16:57:30  Slice ID  1 : MAE = 0.7620, RMSE = 2.0803, NMAE = 0.8357, MRE = 0.6596, NPRE = 2.9237\r\n",
      "\r\n",
      "2023-02-02 16:57:30  \t实验 1 模型 2 开始分片训练\r\n",
      "2023-02-02 16:58:04  Epoch 10 : MAE : 0.7653  RMSE : 2.0791  NMAE : 0.8393  MRE : 0.6701  NPRE : 3.0171\r\n",
      "2023-02-02 16:58:42  Epoch 20 : MAE : 0.7646  RMSE : 2.0731  NMAE : 0.8386  MRE : 0.6797  NPRE : 3.2264\r\n",
      "2023-02-02 16:58:51  Best epoch 14 : MAE : 0.7605  RMSE : 2.0719  NMAE : 0.8341  MRE : 0.6746  NPRE : 3.2789\r\n",
      "2023-02-02 16:58:51  实验 1 模型 2 training time = 35.92 s\r\n",
      "2023-02-02 16:58:51  Slice ID  2 : MAE = 0.7605, RMSE = 2.0719, NMAE = 0.8341, MRE = 0.6746, NPRE = 3.2789\r\n",
      "\r\n",
      "2023-02-02 16:58:51  \t实验 1 模型 3 开始分片训练\r\n",
      "2023-02-02 16:59:12  Epoch 10 : MAE : 0.7658  RMSE : 2.0758  NMAE : 0.8399  MRE : 0.6820  NPRE : 3.1839\r\n",
      "2023-02-02 16:59:26  Best epoch  5 : MAE : 0.7619  RMSE : 2.0754  NMAE : 0.8356  MRE : 0.6722  NPRE : 3.1488\r\n",
      "2023-02-02 16:59:26  实验 1 模型 3 training time = 3.96 s\r\n",
      "2023-02-02 16:59:26  Slice ID  3 : MAE = 0.7619, RMSE = 2.0754, NMAE = 0.8356, MRE = 0.6722, NPRE = 3.1488\r\n",
      "\r\n",
      "2023-02-02 16:59:26  \t实验 1 模型 4 开始分片训练\r\n",
      "2023-02-02 16:59:52  Epoch 10 : MAE : 0.7669  RMSE : 2.0692  NMAE : 0.8411  MRE : 0.6919  NPRE : 3.4668\r\n",
      "2023-02-02 16:59:54  Best epoch  1 : MAE : 0.7626  RMSE : 2.0659  NMAE : 0.8364  MRE : 0.6899  NPRE : 3.5665\r\n",
      "2023-02-02 16:59:54  实验 1 模型 4 training time = 0.56 s\r\n",
      "2023-02-02 16:59:54  Slice ID  4 : MAE = 0.7626, RMSE = 2.0659, NMAE = 0.8364, MRE = 0.6899, NPRE = 3.5665\r\n",
      "\r\n",
      "2023-02-02 16:59:54  \t实验 1 模型 5 开始分片训练\r\n",
      "2023-02-02 17:00:26  Epoch 10 : MAE : 0.7618  RMSE : 2.0620  NMAE : 0.8355  MRE : 0.6986  NPRE : 3.7648\r\n",
      "2023-02-02 17:00:39  Best epoch  4 : MAE : 0.7603  RMSE : 2.0725  NMAE : 0.8339  MRE : 0.6715  NPRE : 3.2778\r\n",
      "2023-02-02 17:00:39  实验 1 模型 5 training time = 8.33 s\r\n",
      "2023-02-02 17:00:39  Slice ID  5 : MAE = 0.7603, RMSE = 2.0725, NMAE = 0.8339, MRE = 0.6715, NPRE = 3.2778\r\n",
      "\r\n",
      "2023-02-02 17:00:39  \t所有切片模型训练完毕\r\n",
      "2023-02-02 17:00:39  \t开始训练聚合模型\r\n",
      "2023-02-02 17:00:42  Epoch  1 : MAE : 0.7602  RMSE : 2.0718  NMAE : 0.8337  MRE : 0.6734  NPRE : 3.3102\r\n",
      "2023-02-02 17:00:46  Epoch  2 : MAE : 0.7623  RMSE : 2.0740  NMAE : 0.8361  MRE : 0.6750  NPRE : 3.2011\r\n",
      "2023-02-02 17:00:50  Epoch  3 : MAE : 0.7616  RMSE : 2.0614  NMAE : 0.8352  MRE : 0.7012  NPRE : 3.7716\r\n",
      "2023-02-02 17:00:53  Epoch  4 : MAE : 0.7616  RMSE : 2.0705  NMAE : 0.8353  MRE : 0.6808  NPRE : 3.4033\r\n",
      "2023-02-02 17:00:59  Epoch  5 : MAE : 0.7592  RMSE : 2.0660  NMAE : 0.8326  MRE : 0.6862  NPRE : 3.5299\r\n",
      "2023-02-02 17:01:03  Epoch  6 : MAE : 0.7654  RMSE : 2.0824  NMAE : 0.8395  MRE : 0.6671  NPRE : 2.8563\r\n",
      "2023-02-02 17:01:06  Epoch  7 : MAE : 0.7625  RMSE : 2.0740  NMAE : 0.8363  MRE : 0.6738  NPRE : 3.2226\r\n",
      "2023-02-02 17:01:09  Epoch  8 : MAE : 0.7624  RMSE : 2.0755  NMAE : 0.8361  MRE : 0.6709  NPRE : 3.1047\r\n",
      "2023-02-02 17:01:13  Epoch  9 : MAE : 0.7643  RMSE : 2.0581  NMAE : 0.8383  MRE : 0.7133  NPRE : 3.9633\r\n",
      "2023-02-02 17:01:16  Epoch 10 : MAE : 0.7590  RMSE : 2.0655  NMAE : 0.8324  MRE : 0.6892  NPRE : 3.5869\r\n",
      "2023-02-02 17:01:16  Best epoch 10 : MAE : 0.7590  RMSE : 2.0655  NMAE : 0.8324  MRE : 0.6892  NPRE : 3.5869\r\n",
      "2023-02-02 17:01:16  \t实验 1 聚合模型训练完毕\r\n",
      "100%|███████████████████████████████████████████| 11/11 [00:03<00:00,  3.41it/s]\r\n",
      "2023-02-02 17:01:20  Result : MAE : 0.7551  RMSE : 2.0558  NMAE : 0.8303  MRE : 0.6829  NPRE : 3.5290\r\n",
      "2023-02-02 17:01:20  \t实验 1 : Aggregators training time = 26.16 s\r\n",
      "\r\n",
      "2023-02-02 17:01:20  \t聚合模型训练完毕\r\n",
      "2023-02-02 17:01:20  Round  1 : MAE = 0.7551, RMSE = 2.0558, NMAE = 0.8303, MRE = 0.6829, NPRE = 3.5290 shard avgtime = 20.93 s  agg_time = 26.16 s\r\n",
      "\r\n",
      "------------------------------------------------------------------------------------------------------------------------\r\n",
      "2023-02-02 17:01:20  Dataset : rt     interaction : Pure_Mf\r\n",
      "2023-02-02 17:01:20  Density : 25.00%, slice_epochs : 100, agg_epochs : 10\r\n",
      "2023-02-02 17:01:20  Part_type : 3,    slices : 5,       devices : gpu\r\n",
      "\r\n",
      "\r\n",
      "2023-02-02 17:01:20  Density 25.00% : MAE = 0.755, RMSE = 2.056, NMAE = 0.830, MRE = 0.683, NPRE = 3.529\r\n",
      "\r\n",
      "2023-02-02 17:01:20  Experiment success!\r\n",
      "\r\n"
     ]
    }
   ],
   "source": [
    "!python Experiment.py --dataset rt --interaction Pure_Mf --rounds 1 --agg_epochs 10 --density 0.25 --part_type 3"
   ],
   "metadata": {
    "collapsed": false
   }
  },
  {
   "cell_type": "code",
   "execution_count": 18,
   "outputs": [
    {
     "name": "stdout",
     "output_type": "stream",
     "text": [
      "2023-02-02 17:01:21  Experiment start!\r\n",
      "2023-02-02 17:01:21  Namespace(F=1, agg2=0, agg_decay=0.001, agg_epochs=12, agg_function=1, agg_lr=0.001, agg_type='att', att_decay=0.0001, att_lr=0.001, batch_size=128, beta=1, cluster='deep', cuda=True, dataset='tp', debug=0, density=0.25, devices='gpu', dimension=32, dir='../Dataset/mnist', dropout=0.1, epoch=1500, external_dim=64, hidden_dims=[64, 64, 100], input_dim=128, interaction='Pure_Mf', lamda=1, latent_dim=10, log_interval=100, lr=0.0001, n_classes=10, n_clusters=10, n_jobs=1, node2vec=0, node2vec_batchsize=32, node2vec_dim=128, node2vec_epochs=20, node2vec_length=8, node2vec_walk=15, node2vec_windows=3, num_layers=2, order=2, part_iter=20, part_type=3, path='./datasets/data/WSDREAM/', pre_epoch=1000, pretrain=True, processed=0, random_state=1001, record=1, retrain=0, rounds=1, save_model=1, slice=1, slice_decay=0.001, slice_epochs=100, slice_lr=0.001, slices=5, verbose=10, wd=0.0005)\r\n",
      "2023-02-02 17:01:21  Dataset : tp     interaction : Pure_Mf\r\n",
      "2023-02-02 17:01:21  Density : 25.00%, slice_epochs : 100, agg_epochs : 12\r\n",
      "2023-02-02 17:01:21  Part_type : 3,    slices : 5,       devices : gpu\r\n",
      "2023-02-02 17:01:21  Slice_lr : 0.01,    Slice_decay : 0.01\r\n",
      "2023-02-02 17:01:21  Agg_lr : 0.01,    Agg_decay : 0.001\r\n",
      "2023-02-02 17:01:21  Aggregation function : softmax\r\n",
      "\r\n",
      "2023-02-02 17:01:21  Round 1 experiment start!\r\n",
      "2023-02-02 17:01:21  \t原始数据集读取完毕\r\n",
      "2023-02-02 17:01:22  \tReceraser 基于交互切割完毕\r\n",
      "2023-02-02 17:01:22  \t分切数据执行完毕\r\n",
      "2023-02-02 17:01:24  \t模型加载完毕\r\n",
      "2023-02-02 17:01:24  \t准备训练切片模型\r\n",
      "2023-02-02 17:01:24  \t实验 1 模型 1 开始分片训练\r\n",
      "2023-02-02 17:02:05  Epoch 10 : MAE : 43.5817  RMSE : 102.2633  NMAE : 0.9104  MRE : 1.0000  NPRE : 7.3098\r\n"
     ]
    },
    {
     "ename": "KeyboardInterrupt",
     "evalue": "",
     "output_type": "error",
     "traceback": [
      "\u001B[0;31m---------------------------------------------------------------------------\u001B[0m",
      "\u001B[0;31mKeyboardInterrupt\u001B[0m                         Traceback (most recent call last)",
      "\u001B[0;32m~/anaconda3/lib/python3.8/site-packages/IPython/utils/_process_posix.py\u001B[0m in \u001B[0;36msystem\u001B[0;34m(self, cmd)\u001B[0m\n\u001B[1;32m    161\u001B[0m                 \u001B[0;31m# know whether we've finished (if we matched EOF) or not\u001B[0m\u001B[0;34m\u001B[0m\u001B[0;34m\u001B[0m\u001B[0;34m\u001B[0m\u001B[0m\n\u001B[0;32m--> 162\u001B[0;31m                 \u001B[0mres_idx\u001B[0m \u001B[0;34m=\u001B[0m \u001B[0mchild\u001B[0m\u001B[0;34m.\u001B[0m\u001B[0mexpect_list\u001B[0m\u001B[0;34m(\u001B[0m\u001B[0mpatterns\u001B[0m\u001B[0;34m,\u001B[0m \u001B[0mself\u001B[0m\u001B[0;34m.\u001B[0m\u001B[0mread_timeout\u001B[0m\u001B[0;34m)\u001B[0m\u001B[0;34m\u001B[0m\u001B[0;34m\u001B[0m\u001B[0m\n\u001B[0m\u001B[1;32m    163\u001B[0m                 \u001B[0mprint\u001B[0m\u001B[0;34m(\u001B[0m\u001B[0mchild\u001B[0m\u001B[0;34m.\u001B[0m\u001B[0mbefore\u001B[0m\u001B[0;34m[\u001B[0m\u001B[0mout_size\u001B[0m\u001B[0;34m:\u001B[0m\u001B[0;34m]\u001B[0m\u001B[0;34m.\u001B[0m\u001B[0mdecode\u001B[0m\u001B[0;34m(\u001B[0m\u001B[0menc\u001B[0m\u001B[0;34m,\u001B[0m \u001B[0;34m'replace'\u001B[0m\u001B[0;34m)\u001B[0m\u001B[0;34m,\u001B[0m \u001B[0mend\u001B[0m\u001B[0;34m=\u001B[0m\u001B[0;34m''\u001B[0m\u001B[0;34m)\u001B[0m\u001B[0;34m\u001B[0m\u001B[0;34m\u001B[0m\u001B[0m\n",
      "\u001B[0;32m~/anaconda3/lib/python3.8/site-packages/pexpect/spawnbase.py\u001B[0m in \u001B[0;36mexpect_list\u001B[0;34m(self, pattern_list, timeout, searchwindowsize, async_, **kw)\u001B[0m\n\u001B[1;32m    371\u001B[0m         \u001B[0;32melse\u001B[0m\u001B[0;34m:\u001B[0m\u001B[0;34m\u001B[0m\u001B[0;34m\u001B[0m\u001B[0m\n\u001B[0;32m--> 372\u001B[0;31m             \u001B[0;32mreturn\u001B[0m \u001B[0mexp\u001B[0m\u001B[0;34m.\u001B[0m\u001B[0mexpect_loop\u001B[0m\u001B[0;34m(\u001B[0m\u001B[0mtimeout\u001B[0m\u001B[0;34m)\u001B[0m\u001B[0;34m\u001B[0m\u001B[0;34m\u001B[0m\u001B[0m\n\u001B[0m\u001B[1;32m    373\u001B[0m \u001B[0;34m\u001B[0m\u001B[0m\n",
      "\u001B[0;32m~/anaconda3/lib/python3.8/site-packages/pexpect/expect.py\u001B[0m in \u001B[0;36mexpect_loop\u001B[0;34m(self, timeout)\u001B[0m\n\u001B[1;32m    168\u001B[0m                 \u001B[0;31m# Still have time left, so read more data\u001B[0m\u001B[0;34m\u001B[0m\u001B[0;34m\u001B[0m\u001B[0;34m\u001B[0m\u001B[0m\n\u001B[0;32m--> 169\u001B[0;31m                 \u001B[0mincoming\u001B[0m \u001B[0;34m=\u001B[0m \u001B[0mspawn\u001B[0m\u001B[0;34m.\u001B[0m\u001B[0mread_nonblocking\u001B[0m\u001B[0;34m(\u001B[0m\u001B[0mspawn\u001B[0m\u001B[0;34m.\u001B[0m\u001B[0mmaxread\u001B[0m\u001B[0;34m,\u001B[0m \u001B[0mtimeout\u001B[0m\u001B[0;34m)\u001B[0m\u001B[0;34m\u001B[0m\u001B[0;34m\u001B[0m\u001B[0m\n\u001B[0m\u001B[1;32m    170\u001B[0m                 \u001B[0;32mif\u001B[0m \u001B[0mself\u001B[0m\u001B[0;34m.\u001B[0m\u001B[0mspawn\u001B[0m\u001B[0;34m.\u001B[0m\u001B[0mdelayafterread\u001B[0m \u001B[0;32mis\u001B[0m \u001B[0;32mnot\u001B[0m \u001B[0;32mNone\u001B[0m\u001B[0;34m:\u001B[0m\u001B[0;34m\u001B[0m\u001B[0;34m\u001B[0m\u001B[0m\n",
      "\u001B[0;32m~/anaconda3/lib/python3.8/site-packages/pexpect/pty_spawn.py\u001B[0m in \u001B[0;36mread_nonblocking\u001B[0;34m(self, size, timeout)\u001B[0m\n\u001B[1;32m    499\u001B[0m         \u001B[0;31m# (possibly timeout=None), we call select() with a timeout.\u001B[0m\u001B[0;34m\u001B[0m\u001B[0;34m\u001B[0m\u001B[0;34m\u001B[0m\u001B[0m\n\u001B[0;32m--> 500\u001B[0;31m         \u001B[0;32mif\u001B[0m \u001B[0;34m(\u001B[0m\u001B[0mtimeout\u001B[0m \u001B[0;34m!=\u001B[0m \u001B[0;36m0\u001B[0m\u001B[0;34m)\u001B[0m \u001B[0;32mand\u001B[0m \u001B[0mselect\u001B[0m\u001B[0;34m(\u001B[0m\u001B[0mtimeout\u001B[0m\u001B[0;34m)\u001B[0m\u001B[0;34m:\u001B[0m\u001B[0;34m\u001B[0m\u001B[0;34m\u001B[0m\u001B[0m\n\u001B[0m\u001B[1;32m    501\u001B[0m             \u001B[0;32mreturn\u001B[0m \u001B[0msuper\u001B[0m\u001B[0;34m(\u001B[0m\u001B[0mspawn\u001B[0m\u001B[0;34m,\u001B[0m \u001B[0mself\u001B[0m\u001B[0;34m)\u001B[0m\u001B[0;34m.\u001B[0m\u001B[0mread_nonblocking\u001B[0m\u001B[0;34m(\u001B[0m\u001B[0msize\u001B[0m\u001B[0;34m)\u001B[0m\u001B[0;34m\u001B[0m\u001B[0;34m\u001B[0m\u001B[0m\n",
      "\u001B[0;32m~/anaconda3/lib/python3.8/site-packages/pexpect/pty_spawn.py\u001B[0m in \u001B[0;36mselect\u001B[0;34m(timeout)\u001B[0m\n\u001B[1;32m    449\u001B[0m             \u001B[0;32mdef\u001B[0m \u001B[0mselect\u001B[0m\u001B[0;34m(\u001B[0m\u001B[0mtimeout\u001B[0m\u001B[0;34m)\u001B[0m\u001B[0;34m:\u001B[0m\u001B[0;34m\u001B[0m\u001B[0;34m\u001B[0m\u001B[0m\n\u001B[0;32m--> 450\u001B[0;31m                 \u001B[0;32mreturn\u001B[0m \u001B[0mselect_ignore_interrupts\u001B[0m\u001B[0;34m(\u001B[0m\u001B[0;34m[\u001B[0m\u001B[0mself\u001B[0m\u001B[0;34m.\u001B[0m\u001B[0mchild_fd\u001B[0m\u001B[0;34m]\u001B[0m\u001B[0;34m,\u001B[0m \u001B[0;34m[\u001B[0m\u001B[0;34m]\u001B[0m\u001B[0;34m,\u001B[0m \u001B[0;34m[\u001B[0m\u001B[0;34m]\u001B[0m\u001B[0;34m,\u001B[0m \u001B[0mtimeout\u001B[0m\u001B[0;34m)\u001B[0m\u001B[0;34m[\u001B[0m\u001B[0;36m0\u001B[0m\u001B[0;34m]\u001B[0m\u001B[0;34m\u001B[0m\u001B[0;34m\u001B[0m\u001B[0m\n\u001B[0m\u001B[1;32m    451\u001B[0m \u001B[0;34m\u001B[0m\u001B[0m\n",
      "\u001B[0;32m~/anaconda3/lib/python3.8/site-packages/pexpect/utils.py\u001B[0m in \u001B[0;36mselect_ignore_interrupts\u001B[0;34m(iwtd, owtd, ewtd, timeout)\u001B[0m\n\u001B[1;32m    142\u001B[0m         \u001B[0;32mtry\u001B[0m\u001B[0;34m:\u001B[0m\u001B[0;34m\u001B[0m\u001B[0;34m\u001B[0m\u001B[0m\n\u001B[0;32m--> 143\u001B[0;31m             \u001B[0;32mreturn\u001B[0m \u001B[0mselect\u001B[0m\u001B[0;34m.\u001B[0m\u001B[0mselect\u001B[0m\u001B[0;34m(\u001B[0m\u001B[0miwtd\u001B[0m\u001B[0;34m,\u001B[0m \u001B[0mowtd\u001B[0m\u001B[0;34m,\u001B[0m \u001B[0mewtd\u001B[0m\u001B[0;34m,\u001B[0m \u001B[0mtimeout\u001B[0m\u001B[0;34m)\u001B[0m\u001B[0;34m\u001B[0m\u001B[0;34m\u001B[0m\u001B[0m\n\u001B[0m\u001B[1;32m    144\u001B[0m         \u001B[0;32mexcept\u001B[0m \u001B[0mInterruptedError\u001B[0m\u001B[0;34m:\u001B[0m\u001B[0;34m\u001B[0m\u001B[0;34m\u001B[0m\u001B[0m\n",
      "\u001B[0;31mKeyboardInterrupt\u001B[0m: ",
      "\nDuring handling of the above exception, another exception occurred:\n",
      "\u001B[0;31mKeyboardInterrupt\u001B[0m                         Traceback (most recent call last)",
      "\u001B[0;32m<ipython-input-18-3aa0d6e6da66>\u001B[0m in \u001B[0;36m<module>\u001B[0;34m\u001B[0m\n\u001B[0;32m----> 1\u001B[0;31m \u001B[0mget_ipython\u001B[0m\u001B[0;34m(\u001B[0m\u001B[0;34m)\u001B[0m\u001B[0;34m.\u001B[0m\u001B[0msystem\u001B[0m\u001B[0;34m(\u001B[0m\u001B[0;34m'python Experiment.py --dataset tp --interaction Pure_Mf --rounds 1 --agg_epochs 12 --density 0.25 --part_type 3'\u001B[0m\u001B[0;34m)\u001B[0m\u001B[0;34m\u001B[0m\u001B[0;34m\u001B[0m\u001B[0m\n\u001B[0m",
      "\u001B[0;32m~/anaconda3/lib/python3.8/site-packages/ipykernel/zmqshell.py\u001B[0m in \u001B[0;36msystem_piped\u001B[0;34m(self, cmd)\u001B[0m\n\u001B[1;32m    633\u001B[0m                 \u001B[0mself\u001B[0m\u001B[0;34m.\u001B[0m\u001B[0muser_ns\u001B[0m\u001B[0;34m[\u001B[0m\u001B[0;34m'_exit_code'\u001B[0m\u001B[0;34m]\u001B[0m \u001B[0;34m=\u001B[0m \u001B[0msystem\u001B[0m\u001B[0;34m(\u001B[0m\u001B[0mcmd\u001B[0m\u001B[0;34m)\u001B[0m\u001B[0;34m\u001B[0m\u001B[0;34m\u001B[0m\u001B[0m\n\u001B[1;32m    634\u001B[0m         \u001B[0;32melse\u001B[0m\u001B[0;34m:\u001B[0m\u001B[0;34m\u001B[0m\u001B[0;34m\u001B[0m\u001B[0m\n\u001B[0;32m--> 635\u001B[0;31m             \u001B[0mself\u001B[0m\u001B[0;34m.\u001B[0m\u001B[0muser_ns\u001B[0m\u001B[0;34m[\u001B[0m\u001B[0;34m'_exit_code'\u001B[0m\u001B[0;34m]\u001B[0m \u001B[0;34m=\u001B[0m \u001B[0msystem\u001B[0m\u001B[0;34m(\u001B[0m\u001B[0mself\u001B[0m\u001B[0;34m.\u001B[0m\u001B[0mvar_expand\u001B[0m\u001B[0;34m(\u001B[0m\u001B[0mcmd\u001B[0m\u001B[0;34m,\u001B[0m \u001B[0mdepth\u001B[0m\u001B[0;34m=\u001B[0m\u001B[0;36m1\u001B[0m\u001B[0;34m)\u001B[0m\u001B[0;34m)\u001B[0m\u001B[0;34m\u001B[0m\u001B[0;34m\u001B[0m\u001B[0m\n\u001B[0m\u001B[1;32m    636\u001B[0m \u001B[0;34m\u001B[0m\u001B[0m\n\u001B[1;32m    637\u001B[0m     \u001B[0;31m# Ensure new system_piped implementation is used\u001B[0m\u001B[0;34m\u001B[0m\u001B[0;34m\u001B[0m\u001B[0;34m\u001B[0m\u001B[0m\n",
      "\u001B[0;32m~/anaconda3/lib/python3.8/site-packages/IPython/utils/_process_posix.py\u001B[0m in \u001B[0;36msystem\u001B[0;34m(self, cmd)\u001B[0m\n\u001B[1;32m    184\u001B[0m             \u001B[0;32mfinally\u001B[0m\u001B[0;34m:\u001B[0m\u001B[0;34m\u001B[0m\u001B[0;34m\u001B[0m\u001B[0m\n\u001B[1;32m    185\u001B[0m                 \u001B[0;31m# Ensure the subprocess really is terminated\u001B[0m\u001B[0;34m\u001B[0m\u001B[0;34m\u001B[0m\u001B[0;34m\u001B[0m\u001B[0m\n\u001B[0;32m--> 186\u001B[0;31m                 \u001B[0mchild\u001B[0m\u001B[0;34m.\u001B[0m\u001B[0mterminate\u001B[0m\u001B[0;34m(\u001B[0m\u001B[0mforce\u001B[0m\u001B[0;34m=\u001B[0m\u001B[0;32mTrue\u001B[0m\u001B[0;34m)\u001B[0m\u001B[0;34m\u001B[0m\u001B[0;34m\u001B[0m\u001B[0m\n\u001B[0m\u001B[1;32m    187\u001B[0m         \u001B[0;31m# add isalive check, to ensure exitstatus is set:\u001B[0m\u001B[0;34m\u001B[0m\u001B[0;34m\u001B[0m\u001B[0;34m\u001B[0m\u001B[0m\n\u001B[1;32m    188\u001B[0m         \u001B[0mchild\u001B[0m\u001B[0;34m.\u001B[0m\u001B[0misalive\u001B[0m\u001B[0;34m(\u001B[0m\u001B[0;34m)\u001B[0m\u001B[0;34m\u001B[0m\u001B[0;34m\u001B[0m\u001B[0m\n",
      "\u001B[0;32m~/anaconda3/lib/python3.8/site-packages/pexpect/pty_spawn.py\u001B[0m in \u001B[0;36mterminate\u001B[0;34m(self, force)\u001B[0m\n\u001B[1;32m    644\u001B[0m                 \u001B[0;32mreturn\u001B[0m \u001B[0;32mTrue\u001B[0m\u001B[0;34m\u001B[0m\u001B[0;34m\u001B[0m\u001B[0m\n\u001B[1;32m    645\u001B[0m             \u001B[0mself\u001B[0m\u001B[0;34m.\u001B[0m\u001B[0mkill\u001B[0m\u001B[0;34m(\u001B[0m\u001B[0msignal\u001B[0m\u001B[0;34m.\u001B[0m\u001B[0mSIGCONT\u001B[0m\u001B[0;34m)\u001B[0m\u001B[0;34m\u001B[0m\u001B[0;34m\u001B[0m\u001B[0m\n\u001B[0;32m--> 646\u001B[0;31m             \u001B[0mtime\u001B[0m\u001B[0;34m.\u001B[0m\u001B[0msleep\u001B[0m\u001B[0;34m(\u001B[0m\u001B[0mself\u001B[0m\u001B[0;34m.\u001B[0m\u001B[0mdelayafterterminate\u001B[0m\u001B[0;34m)\u001B[0m\u001B[0;34m\u001B[0m\u001B[0;34m\u001B[0m\u001B[0m\n\u001B[0m\u001B[1;32m    647\u001B[0m             \u001B[0;32mif\u001B[0m \u001B[0;32mnot\u001B[0m \u001B[0mself\u001B[0m\u001B[0;34m.\u001B[0m\u001B[0misalive\u001B[0m\u001B[0;34m(\u001B[0m\u001B[0;34m)\u001B[0m\u001B[0;34m:\u001B[0m\u001B[0;34m\u001B[0m\u001B[0;34m\u001B[0m\u001B[0m\n\u001B[1;32m    648\u001B[0m                 \u001B[0;32mreturn\u001B[0m \u001B[0;32mTrue\u001B[0m\u001B[0;34m\u001B[0m\u001B[0;34m\u001B[0m\u001B[0m\n",
      "\u001B[0;31mKeyboardInterrupt\u001B[0m: "
     ]
    }
   ],
   "source": [
    "!python Experiment.py --dataset tp --interaction Pure_Mf --rounds 1 --agg_epochs 12 --density 0.25 --part_type 3"
   ],
   "metadata": {
    "collapsed": false
   }
  },
  {
   "cell_type": "code",
   "execution_count": null,
   "outputs": [],
   "source": [
    "!python Experiment.py --dataset rt --interaction Pure_Mf --rounds 1 --agg_epochs 10 --density 0.30 --part_type 3"
   ],
   "metadata": {
    "collapsed": false
   }
  },
  {
   "cell_type": "code",
   "execution_count": null,
   "outputs": [],
   "source": [
    "!python Experiment.py --dataset tp --interaction Pure_Mf --rounds 1 --agg_epochs 12 --density 0.30 --part_type 3"
   ],
   "metadata": {
    "collapsed": false
   }
  },
  {
   "cell_type": "code",
   "execution_count": null,
   "outputs": [],
   "source": [
    "!python Experiment.py --dataset rt --interaction Pure_Mf --rounds 1 --agg_epochs 10 --density 0.10 --part_type 5"
   ],
   "metadata": {
    "collapsed": false
   }
  },
  {
   "cell_type": "code",
   "execution_count": null,
   "outputs": [],
   "source": [
    "!python Experiment.py --dataset tp --interaction Pure_Mf --rounds 1 --agg_epochs 12 --density 0.10 --part_type 5"
   ],
   "metadata": {
    "collapsed": false
   }
  },
  {
   "cell_type": "code",
   "execution_count": null,
   "outputs": [],
   "source": [
    "!python Experiment.py --dataset rt --interaction Pure_Mf --rounds 1 --agg_epochs 10 --density 0.15 --part_type 5"
   ],
   "metadata": {
    "collapsed": false
   }
  },
  {
   "cell_type": "code",
   "execution_count": null,
   "outputs": [],
   "source": [
    "!python Experiment.py --dataset tp --interaction Pure_Mf --rounds 1 --agg_epochs 12 --density 0.15 --part_type 5"
   ],
   "metadata": {
    "collapsed": false
   }
  },
  {
   "cell_type": "code",
   "execution_count": null,
   "outputs": [],
   "source": [
    "!python Experiment.py --dataset rt --interaction Pure_Mf --rounds 1 --agg_epochs 10 --density 0.20 --part_type 5"
   ],
   "metadata": {
    "collapsed": false
   }
  },
  {
   "cell_type": "code",
   "execution_count": null,
   "outputs": [],
   "source": [
    "!python Experiment.py --dataset tp --interaction Pure_Mf --rounds 1 --agg_epochs 12 --density 0.20 --part_type 5"
   ],
   "metadata": {
    "collapsed": false
   }
  },
  {
   "cell_type": "code",
   "execution_count": null,
   "outputs": [],
   "source": [
    "!python Experiment.py --dataset rt --interaction Pure_Mf --rounds 1 --agg_epochs 10 --density 0.25 --part_type 5"
   ],
   "metadata": {
    "collapsed": false
   }
  },
  {
   "cell_type": "code",
   "execution_count": null,
   "outputs": [],
   "source": [
    "!python Experiment.py --dataset tp --interaction Pure_Mf --rounds 1 --agg_epochs 12 --density 0.25 --part_type 5"
   ],
   "metadata": {
    "collapsed": false
   }
  },
  {
   "cell_type": "code",
   "execution_count": null,
   "outputs": [],
   "source": [
    "!python Experiment.py --dataset rt --interaction Pure_Mf --rounds 1 --agg_epochs 10 --density 0.30 --part_type 5"
   ],
   "metadata": {
    "collapsed": false
   }
  },
  {
   "cell_type": "code",
   "execution_count": null,
   "outputs": [],
   "source": [
    "!python Experiment.py --dataset tp --interaction Pure_Mf --rounds 1 --agg_epochs 12 --density 0.30 --part_type 5"
   ],
   "metadata": {
    "collapsed": false
   }
  },
  {
   "cell_type": "code",
   "execution_count": null,
   "outputs": [],
   "source": [],
   "metadata": {
    "collapsed": false
   }
  }
 ],
 "metadata": {
  "kernelspec": {
   "display_name": "Python 3",
   "language": "python",
   "name": "python3"
  },
  "language_info": {
   "codemirror_mode": {
    "name": "ipython",
    "version": 2
   },
   "file_extension": ".py",
   "mimetype": "text/x-python",
   "name": "python",
   "nbconvert_exporter": "python",
   "pygments_lexer": "ipython2",
   "version": "2.7.6"
  }
 },
 "nbformat": 4,
 "nbformat_minor": 0
}
