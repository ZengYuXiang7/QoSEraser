{
 "cells": [
  {
   "cell_type": "code",
   "execution_count": 1,
   "metadata": {
    "collapsed": true
   },
   "outputs": [],
   "source": [
    "import argparse\n",
    "\n",
    "parser = argparse.ArgumentParser()\n",
    "parser.add_argument('--path', nargs='?', default='./datasets/data/WSDREAM/')\n",
    "parser.add_argument('--dataset', type=str, default='rt')\n",
    "parser.add_argument('--interaction', type=str, default='NeuCF')\n",
    "\n",
    "parser.add_argument('--rounds', type=int, default=1)\n",
    "parser.add_argument('--slice_epochs', type=int, default=100)\n",
    "parser.add_argument('--slice_lr', type=float, default=1e-3)\n",
    "parser.add_argument('--slice_decay', type=float, default=1e-3)\n",
    "parser.add_argument('--agg_epochs', type=int, default=10)\n",
    "parser.add_argument('--agg_lr', type=float, default=1e-3)\n",
    "parser.add_argument('--agg_decay', type=float, default=1e-3)\n",
    "parser.add_argument('--batch_size', type=int, default=128)\n",
    "parser.add_argument('--verbose', type=int, default=10)\n",
    "parser.add_argument('--devices', type=str, default='gpu')\n",
    "parser.add_argument('--save_model', type=int, default=1)\n",
    "parser.add_argument('--debug', type=int, default=0)\n",
    "\n",
    "# 超参数\n",
    "parser.add_argument('--processed', type=int, default=0)  # 数据预处理\n",
    "\n",
    "parser.add_argument('--retrain', type=int, default=0)\n",
    "\n",
    "parser.add_argument('--slices', type=int, default=10)\n",
    "parser.add_argument('--part_type', type=int, default=5)  # 切割方法\n",
    "parser.add_argument('--part_iter', type=int, default=50)  # 切割方法\n",
    "\n",
    "# NeuCF\n",
    "parser.add_argument('--density', type=float, default=0.1)  # 采样率\n",
    "parser.add_argument('--dropout', type=float, default=0.1)\n",
    "\n",
    "# NeuGraphMF, CSMF\n",
    "parser.add_argument('--dimension', type=int, default=32)\n",
    "parser.add_argument('--order', type=int, default=2)\n",
    "parser.add_argument('--num_layers', type=int, default=2)\n",
    "\n",
    "# node2vec\n",
    "parser.add_argument('--node2vec', type=int, default=0)\n",
    "parser.add_argument('--node2vec_batchsize', type=int, default=32)\n",
    "parser.add_argument('--node2vec_walk', type=int, default=15)\n",
    "parser.add_argument('--node2vec_dim', type=int, default=128)\n",
    "parser.add_argument('--node2vec_epochs', type=int, default=20)\n",
    "parser.add_argument('--node2vec_length', type=int, default=8)\n",
    "parser.add_argument('--node2vec_windows', type=int, default=3)\n",
    "\n",
    "parser.add_argument('--balance', type=int, default=0)\n",
    "parser.add_argument('--kmeans_type', type=int, default=1)\n",
    "\n",
    "parser.add_argument('--random_state', type=int, default=1001)\n",
    "parser.add_argument('--cluster', type=str, default='deep')  # kmeans or deep cluster\n",
    "# agg_type\n",
    "parser.add_argument('--agg_type', type=str, default='softmax')\n",
    "parser.add_argument('--subagg', type=int, default=1)\n",
    "parser.add_argument('--agg2', type=int, default=1)  # mean fedavg\n",
    "\n",
    "parser.add_argument('--agg_function', type=int, default = 1)\n",
    "\n",
    "###################################################################################################################################\n",
    "# Deep cluster\n",
    "# Dataset parameters\n",
    "parser.add_argument('--dir', default='../Dataset/mnist', help='dataset directory')\n",
    "parser.add_argument('--input-dim', type=int, default=128, help='input dimension')\n",
    "parser.add_argument('--n-classes', type=int, default=10, help='output dimension')\n",
    "# Training parameters\n",
    "parser.add_argument('--lr', type=float, default=1e-4, help='learning rate (default: 1e-4)')\n",
    "parser.add_argument('--wd', type=float, default=5e-4, help='weight decay (default: 5e-4)')\n",
    "parser.add_argument('--batch-size', type=int, default=256, help='input batch size for training')\n",
    "parser.add_argument('--pre-epoch', type=int, default=1000, help='number of pre-train epochs')\n",
    "parser.add_argument('--epoch', type=int, default=1500, help='number of epochs to train')\n",
    "parser.add_argument('--pretrain', type=bool, default=True,  help='whether use pre-training')\n",
    "# Model parameters\n",
    "parser.add_argument('--lamda', type=float, default=1, help='coefficient of the reconstruction loss')\n",
    "parser.add_argument('--beta', type=float, default=1, help='coefficient of the regularization term on clustering')\n",
    "parser.add_argument('--hidden-dims', default=[64, 64, 100], help='learning rate (default: 1e-4)')\n",
    "parser.add_argument('--latent_dim', type=int, default=10, help='latent space dimension')\n",
    "parser.add_argument('--n-clusters', type=int, default=10, help='number of clusters in the latent space')\n",
    "# Utility parameters\n",
    "parser.add_argument('--n-jobs', type=int, default=1, help='number of jobs to run in parallel')\n",
    "parser.add_argument('--cuda', type=bool, default=True, help='whether to use GPU')\n",
    "parser.add_argument('--log-interval', type=int, default=100, help='how many batches to wait before logging the training status')\n",
    "###################################################################################################################################\n",
    "\n",
    "args = parser.parse_args(args=[])"
   ]
  },
  {
   "cell_type": "code",
   "execution_count": 2,
   "outputs": [],
   "source": [
    "args.dataset = 'rt'"
   ],
   "metadata": {
    "collapsed": false
   }
  },
  {
   "cell_type": "code",
   "execution_count": 3,
   "outputs": [
    {
     "name": "stdout",
     "output_type": "stream",
     "text": [
      "2023-01-20 17:59:40  Dataset : rt     interaction : NeuCF\n",
      "2023-01-20 17:59:40  Density : 10.00%, slice_epochs : 100, agg_epochs : 10\n",
      "2023-01-20 17:59:40  Part_type : 5,    slices : 10,       devices : gpu\n",
      "\n",
      "2023-01-20 17:59:40  Round 1 experiment start!\n",
      "2023-01-20 17:59:40  \t原始数据集读取完毕\n",
      "2023-01-20 17:59:41  \t图嵌入均衡切割\n",
      "22 23 27 33 33 35 50 37 45 34 \n",
      "2023-01-20 17:59:41  \tNode2Vec 基于用户聚类均衡切割完毕\n",
      "354 616 644 480 690 642 586 733 567 513 \n",
      "2023-01-20 17:59:41  \tNode2Vec 基于服务聚类均衡切割完毕\n",
      "2023-01-20 17:59:41  \t分切数据执行完毕\n",
      "2023-01-20 17:59:43  \t模型加载完毕\n",
      "2023-01-20 17:59:43  \t准备训练切片模型\n",
      "2023-01-20 17:59:44  \t实验 1 模型 1 开始分片训练\n"
     ]
    },
    {
     "ename": "KeyboardInterrupt",
     "evalue": "",
     "output_type": "error",
     "traceback": [
      "\u001B[0;31m---------------------------------------------------------------------------\u001B[0m",
      "\u001B[0;31mKeyboardInterrupt\u001B[0m                         Traceback (most recent call last)",
      "\u001B[0;32m<ipython-input-3-ab445316cad3>\u001B[0m in \u001B[0;36m<module>\u001B[0;34m\u001B[0m\n\u001B[1;32m     12\u001B[0m         \u001B[0margs\u001B[0m\u001B[0;34m.\u001B[0m\u001B[0mslice_decay\u001B[0m \u001B[0;34m=\u001B[0m \u001B[0margs\u001B[0m\u001B[0;34m.\u001B[0m\u001B[0magg_decay\u001B[0m \u001B[0;34m=\u001B[0m \u001B[0mdecay\u001B[0m\u001B[0;34m\u001B[0m\u001B[0;34m\u001B[0m\u001B[0m\n\u001B[1;32m     13\u001B[0m         \u001B[0margs\u001B[0m\u001B[0;34m.\u001B[0m\u001B[0mdebug\u001B[0m \u001B[0;34m=\u001B[0m \u001B[0;36m1\u001B[0m\u001B[0;34m\u001B[0m\u001B[0;34m\u001B[0m\u001B[0m\n\u001B[0;32m---> 14\u001B[0;31m         \u001B[0mMAE\u001B[0m \u001B[0;34m=\u001B[0m \u001B[0mmain\u001B[0m\u001B[0;34m(\u001B[0m\u001B[0margs\u001B[0m\u001B[0;34m,\u001B[0m \u001B[0;36m0\u001B[0m\u001B[0;34m)\u001B[0m\u001B[0;34m\u001B[0m\u001B[0;34m\u001B[0m\u001B[0m\n\u001B[0m\u001B[1;32m     15\u001B[0m         \u001B[0mans\u001B[0m\u001B[0;34m.\u001B[0m\u001B[0mappend\u001B[0m\u001B[0;34m(\u001B[0m\u001B[0;34m[\u001B[0m\u001B[0margs\u001B[0m\u001B[0;34m.\u001B[0m\u001B[0minteraction\u001B[0m\u001B[0;34m,\u001B[0m \u001B[0;34m'lr : '\u001B[0m\u001B[0;34m,\u001B[0m \u001B[0mlr\u001B[0m\u001B[0;34m,\u001B[0m \u001B[0;34m'decay'\u001B[0m\u001B[0;34m,\u001B[0m \u001B[0mdecay\u001B[0m\u001B[0;34m,\u001B[0m \u001B[0mMAE\u001B[0m\u001B[0;34m]\u001B[0m\u001B[0;34m)\u001B[0m\u001B[0;34m\u001B[0m\u001B[0;34m\u001B[0m\u001B[0m\n",
      "\u001B[0;32m~/code_python/QoS_unlearning/QoS_Eraser/Experiment.py\u001B[0m in \u001B[0;36mmain\u001B[0;34m(args, start_round)\u001B[0m\n\u001B[1;32m    132\u001B[0m         \u001B[0mlog\u001B[0m\u001B[0;34m(\u001B[0m\u001B[0;34mf'\\nRound '\u001B[0m \u001B[0;34m+\u001B[0m \u001B[0mstr\u001B[0m\u001B[0;34m(\u001B[0m\u001B[0mround\u001B[0m \u001B[0;34m+\u001B[0m \u001B[0;36m1\u001B[0m\u001B[0;34m)\u001B[0m \u001B[0;34m+\u001B[0m \u001B[0;34m' experiment start!'\u001B[0m\u001B[0;34m)\u001B[0m\u001B[0;34m\u001B[0m\u001B[0;34m\u001B[0m\u001B[0m\n\u001B[1;32m    133\u001B[0m \u001B[0;34m\u001B[0m\u001B[0m\n\u001B[0;32m--> 134\u001B[0;31m         \u001B[0mMAE\u001B[0m\u001B[0;34m,\u001B[0m \u001B[0mRMSE\u001B[0m\u001B[0;34m,\u001B[0m \u001B[0mNMAE\u001B[0m\u001B[0;34m,\u001B[0m \u001B[0mMRE\u001B[0m\u001B[0;34m,\u001B[0m \u001B[0mNPRE\u001B[0m \u001B[0;34m=\u001B[0m \u001B[0mrun\u001B[0m\u001B[0;34m(\u001B[0m\u001B[0mround\u001B[0m \u001B[0;34m+\u001B[0m \u001B[0;36m1\u001B[0m\u001B[0;34m,\u001B[0m \u001B[0margs\u001B[0m\u001B[0;34m)\u001B[0m\u001B[0;34m\u001B[0m\u001B[0;34m\u001B[0m\u001B[0m\n\u001B[0m\u001B[1;32m    135\u001B[0m \u001B[0;34m\u001B[0m\u001B[0m\n\u001B[1;32m    136\u001B[0m         \u001B[0mRunMAE\u001B[0m \u001B[0;34m+=\u001B[0m \u001B[0;34m[\u001B[0m\u001B[0mMAE\u001B[0m\u001B[0;34m]\u001B[0m\u001B[0;34m\u001B[0m\u001B[0;34m\u001B[0m\u001B[0m\n",
      "\u001B[0;32m~/code_python/QoS_unlearning/QoS_Eraser/Experiment.py\u001B[0m in \u001B[0;36mrun\u001B[0;34m(round, args)\u001B[0m\n\u001B[1;32m     57\u001B[0m     \u001B[0;32mfor\u001B[0m \u001B[0msliceId\u001B[0m \u001B[0;32min\u001B[0m \u001B[0mrange\u001B[0m\u001B[0;34m(\u001B[0m\u001B[0margs\u001B[0m\u001B[0;34m.\u001B[0m\u001B[0mslices\u001B[0m\u001B[0;34m)\u001B[0m\u001B[0;34m:\u001B[0m\u001B[0;34m\u001B[0m\u001B[0;34m\u001B[0m\u001B[0m\n\u001B[1;32m     58\u001B[0m         \u001B[0mlog\u001B[0m\u001B[0;34m(\u001B[0m\u001B[0;34mf'\\t实验 {round} 模型 {sliceId + 1} 开始分片训练'\u001B[0m\u001B[0;34m)\u001B[0m\u001B[0;34m\u001B[0m\u001B[0;34m\u001B[0m\u001B[0m\n\u001B[0;32m---> 59\u001B[0;31m         \u001B[0mMAE\u001B[0m\u001B[0;34m,\u001B[0m \u001B[0mRMSE\u001B[0m\u001B[0;34m,\u001B[0m \u001B[0mNMAE\u001B[0m\u001B[0;34m,\u001B[0m \u001B[0mMRE\u001B[0m\u001B[0;34m,\u001B[0m \u001B[0mNPRE\u001B[0m\u001B[0;34m,\u001B[0m \u001B[0mtrain_time\u001B[0m \u001B[0;34m=\u001B[0m \u001B[0mtrain_sliced_model\u001B[0m\u001B[0;34m(\u001B[0m\u001B[0mround\u001B[0m\u001B[0;34m,\u001B[0m \u001B[0msliceId\u001B[0m\u001B[0;34m,\u001B[0m \u001B[0mmodel\u001B[0m\u001B[0;34m,\u001B[0m \u001B[0mdataset\u001B[0m\u001B[0;34m,\u001B[0m \u001B[0margs\u001B[0m\u001B[0;34m)\u001B[0m\u001B[0;34m\u001B[0m\u001B[0;34m\u001B[0m\u001B[0m\n\u001B[0m\u001B[1;32m     60\u001B[0m         \u001B[0mlog\u001B[0m\u001B[0;34m(\u001B[0m\u001B[0;34mf'实验 {round:d} 模型 {sliceId + 1} training time = {train_time :.2f} s'\u001B[0m\u001B[0;34m)\u001B[0m\u001B[0;34m\u001B[0m\u001B[0;34m\u001B[0m\u001B[0m\n\u001B[1;32m     61\u001B[0m         \u001B[0mlog\u001B[0m\u001B[0;34m(\u001B[0m\u001B[0;34mf'Slice ID {sliceId + 1 : 2d} : MAE = {MAE:.4f}, RMSE = {RMSE:.4f}, NMAE = {NMAE:.4f}, MRE = {MRE:.4f}, NPRE = {NPRE:.4f}\\n'\u001B[0m\u001B[0;34m)\u001B[0m\u001B[0;34m\u001B[0m\u001B[0;34m\u001B[0m\u001B[0m\n",
      "\u001B[0;32m~/code_python/QoS_unlearning/QoS_Eraser/trainer/slice_trainer.py\u001B[0m in \u001B[0;36mtrain_sliced_model\u001B[0;34m(round, sliceId, model, datasets, args)\u001B[0m\n\u001B[1;32m    143\u001B[0m \u001B[0;34m\u001B[0m\u001B[0m\n\u001B[1;32m    144\u001B[0m     \u001B[0;31m# 获得数据载入\u001B[0m\u001B[0;34m\u001B[0m\u001B[0;34m\u001B[0m\u001B[0;34m\u001B[0m\u001B[0m\n\u001B[0;32m--> 145\u001B[0;31m     \u001B[0mtrain_loader\u001B[0m\u001B[0;34m,\u001B[0m \u001B[0mvalid_loader\u001B[0m\u001B[0;34m,\u001B[0m \u001B[0mtest_loader\u001B[0m \u001B[0;34m=\u001B[0m \u001B[0mget_dataloaders\u001B[0m\u001B[0;34m(\u001B[0m\u001B[0mdataset\u001B[0m\u001B[0;34m,\u001B[0m \u001B[0;32mFalse\u001B[0m\u001B[0;34m,\u001B[0m \u001B[0margs\u001B[0m\u001B[0;34m)\u001B[0m\u001B[0;34m\u001B[0m\u001B[0;34m\u001B[0m\u001B[0m\n\u001B[0m\u001B[1;32m    146\u001B[0m \u001B[0;34m\u001B[0m\u001B[0m\n\u001B[1;32m    147\u001B[0m \u001B[0;34m\u001B[0m\u001B[0m\n",
      "\u001B[0;32m~/code_python/QoS_unlearning/QoS_Eraser/datasets/data_loader.py\u001B[0m in \u001B[0;36mget_dataloaders\u001B[0;34m(dataset, agg, args)\u001B[0m\n\u001B[1;32m     12\u001B[0m     \u001B[0mtrain_set\u001B[0m \u001B[0;34m=\u001B[0m \u001B[0mShardedTensorDataset\u001B[0m\u001B[0;34m(\u001B[0m\u001B[0mtrain\u001B[0m\u001B[0;34m,\u001B[0m \u001B[0;32mFalse\u001B[0m\u001B[0;34m,\u001B[0m \u001B[0margs\u001B[0m\u001B[0;34m)\u001B[0m\u001B[0;34m\u001B[0m\u001B[0;34m\u001B[0m\u001B[0m\n\u001B[1;32m     13\u001B[0m     \u001B[0mvalid_set\u001B[0m \u001B[0;34m=\u001B[0m \u001B[0mShardedTensorDataset\u001B[0m\u001B[0;34m(\u001B[0m\u001B[0mvalid\u001B[0m\u001B[0;34m,\u001B[0m \u001B[0;32mFalse\u001B[0m\u001B[0;34m,\u001B[0m \u001B[0margs\u001B[0m\u001B[0;34m)\u001B[0m\u001B[0;34m\u001B[0m\u001B[0;34m\u001B[0m\u001B[0m\n\u001B[0;32m---> 14\u001B[0;31m     \u001B[0mtest_set\u001B[0m \u001B[0;34m=\u001B[0m \u001B[0mShardedTensorDataset\u001B[0m\u001B[0;34m(\u001B[0m\u001B[0mtest\u001B[0m\u001B[0;34m,\u001B[0m \u001B[0;32mFalse\u001B[0m\u001B[0;34m,\u001B[0m \u001B[0margs\u001B[0m\u001B[0;34m)\u001B[0m\u001B[0;34m\u001B[0m\u001B[0;34m\u001B[0m\u001B[0m\n\u001B[0m\u001B[1;32m     15\u001B[0m \u001B[0;34m\u001B[0m\u001B[0m\n\u001B[1;32m     16\u001B[0m     \u001B[0;32mif\u001B[0m \u001B[0margs\u001B[0m\u001B[0;34m.\u001B[0m\u001B[0mretrain\u001B[0m \u001B[0;34m==\u001B[0m \u001B[0;36m1\u001B[0m\u001B[0;34m:\u001B[0m\u001B[0;34m\u001B[0m\u001B[0;34m\u001B[0m\u001B[0m\n",
      "\u001B[0;32m~/code_python/QoS_unlearning/QoS_Eraser/datasets/dataset.py\u001B[0m in \u001B[0;36m__init__\u001B[0;34m(self, data, First, args)\u001B[0m\n\u001B[1;32m     58\u001B[0m         \u001B[0mself\u001B[0m\u001B[0;34m.\u001B[0m\u001B[0mdata\u001B[0m \u001B[0;34m=\u001B[0m \u001B[0mdata\u001B[0m\u001B[0;34m\u001B[0m\u001B[0;34m\u001B[0m\u001B[0m\n\u001B[1;32m     59\u001B[0m         \u001B[0mself\u001B[0m\u001B[0;34m.\u001B[0m\u001B[0mdata\u001B[0m\u001B[0;34m[\u001B[0m\u001B[0mself\u001B[0m\u001B[0;34m.\u001B[0m\u001B[0mdata\u001B[0m \u001B[0;34m==\u001B[0m \u001B[0;34m-\u001B[0m\u001B[0;36m1\u001B[0m\u001B[0;34m]\u001B[0m \u001B[0;34m=\u001B[0m \u001B[0;36m0\u001B[0m\u001B[0;34m\u001B[0m\u001B[0;34m\u001B[0m\u001B[0m\n\u001B[0;32m---> 60\u001B[0;31m         \u001B[0mself\u001B[0m\u001B[0;34m.\u001B[0m\u001B[0midx\u001B[0m \u001B[0;34m=\u001B[0m \u001B[0mself\u001B[0m\u001B[0;34m.\u001B[0m\u001B[0mget_index\u001B[0m\u001B[0;34m(\u001B[0m\u001B[0mself\u001B[0m\u001B[0;34m.\u001B[0m\u001B[0mdata\u001B[0m\u001B[0;34m)\u001B[0m\u001B[0;34m\u001B[0m\u001B[0;34m\u001B[0m\u001B[0m\n\u001B[0m\u001B[1;32m     61\u001B[0m \u001B[0;34m\u001B[0m\u001B[0m\n\u001B[1;32m     62\u001B[0m         \u001B[0mself\u001B[0m\u001B[0;34m.\u001B[0m\u001B[0mn_users\u001B[0m\u001B[0;34m,\u001B[0m \u001B[0mself\u001B[0m\u001B[0;34m.\u001B[0m\u001B[0mn_items\u001B[0m \u001B[0;34m=\u001B[0m \u001B[0;34m[\u001B[0m\u001B[0;34m]\u001B[0m\u001B[0;34m,\u001B[0m \u001B[0;34m[\u001B[0m\u001B[0;34m]\u001B[0m\u001B[0;34m\u001B[0m\u001B[0;34m\u001B[0m\u001B[0m\n",
      "\u001B[0;32m~/code_python/QoS_unlearning/QoS_Eraser/datasets/dataset.py\u001B[0m in \u001B[0;36mget_index\u001B[0;34m(data)\u001B[0m\n\u001B[1;32m    165\u001B[0m         \u001B[0mvalue\u001B[0m \u001B[0;34m=\u001B[0m \u001B[0;34m[\u001B[0m\u001B[0;34m]\u001B[0m\u001B[0;34m\u001B[0m\u001B[0;34m\u001B[0m\u001B[0m\n\u001B[1;32m    166\u001B[0m         \u001B[0;32mfor\u001B[0m \u001B[0mi\u001B[0m \u001B[0;32min\u001B[0m \u001B[0mrange\u001B[0m\u001B[0;34m(\u001B[0m\u001B[0mlen\u001B[0m\u001B[0;34m(\u001B[0m\u001B[0muserIdx\u001B[0m\u001B[0;34m)\u001B[0m\u001B[0;34m)\u001B[0m\u001B[0;34m:\u001B[0m\u001B[0;34m\u001B[0m\u001B[0;34m\u001B[0m\u001B[0m\n\u001B[0;32m--> 167\u001B[0;31m             \u001B[0mvalue\u001B[0m\u001B[0;34m.\u001B[0m\u001B[0mappend\u001B[0m\u001B[0;34m(\u001B[0m\u001B[0mdata\u001B[0m\u001B[0;34m[\u001B[0m\u001B[0muserIdx\u001B[0m\u001B[0;34m[\u001B[0m\u001B[0mi\u001B[0m\u001B[0;34m]\u001B[0m\u001B[0;34m,\u001B[0m \u001B[0mitemIdx\u001B[0m\u001B[0;34m[\u001B[0m\u001B[0mi\u001B[0m\u001B[0;34m]\u001B[0m\u001B[0;34m]\u001B[0m\u001B[0;34m)\u001B[0m\u001B[0;34m\u001B[0m\u001B[0;34m\u001B[0m\u001B[0m\n\u001B[0m\u001B[1;32m    168\u001B[0m         \u001B[0mindex\u001B[0m \u001B[0;34m=\u001B[0m \u001B[0mnp\u001B[0m\u001B[0;34m.\u001B[0m\u001B[0mtranspose\u001B[0m\u001B[0;34m(\u001B[0m\u001B[0;34m[\u001B[0m\u001B[0muserIdx\u001B[0m\u001B[0;34m,\u001B[0m \u001B[0mitemIdx\u001B[0m\u001B[0;34m,\u001B[0m \u001B[0mnp\u001B[0m\u001B[0;34m.\u001B[0m\u001B[0marray\u001B[0m\u001B[0;34m(\u001B[0m\u001B[0mvalue\u001B[0m\u001B[0;34m)\u001B[0m\u001B[0;34m]\u001B[0m\u001B[0;34m)\u001B[0m\u001B[0;34m\u001B[0m\u001B[0;34m\u001B[0m\u001B[0m\n\u001B[1;32m    169\u001B[0m         \u001B[0;32mreturn\u001B[0m \u001B[0mt\u001B[0m\u001B[0;34m.\u001B[0m\u001B[0mtensor\u001B[0m\u001B[0;34m(\u001B[0m\u001B[0mindex\u001B[0m\u001B[0;34m)\u001B[0m\u001B[0;34m\u001B[0m\u001B[0;34m\u001B[0m\u001B[0m\n",
      "\u001B[0;31mKeyboardInterrupt\u001B[0m: "
     ]
    }
   ],
   "source": [
    "ans = []\n",
    "from Experiment import main\n",
    "for lr in [1e-2, 5e-3, 1e-3, 5e-4, 1e-4]:\n",
    "    for decay in [1e-4, 1e-3, 1e-2]:\n",
    "        args.density = 0.10\n",
    "        args.rounds = 1\n",
    "        args.interaction = 'NeuCF'\n",
    "        args.dimension = 64\n",
    "        args.part_type = 1\n",
    "        args.agg_type = 'mean'\n",
    "        args.slice_lr = args.agg_lr = lr\n",
    "        args.slice_decay = args.agg_decay = decay\n",
    "        args.debug = 1\n",
    "        MAE = main(args, 0)\n",
    "        ans.append([args.interaction, 'lr : ', lr, 'decay', decay, MAE])"
   ],
   "metadata": {
    "collapsed": false
   }
  },
  {
   "cell_type": "code",
   "execution_count": null,
   "outputs": [],
   "source": [
    "index = -1\n",
    "best_MAE = 2e9\n",
    "for i in range(len(ans)):\n",
    "    if ans[i][-1] < best_MAE:\n",
    "        best_MAE = ans[i][-1]\n",
    "        index = i\n",
    "    print(ans[i])\n",
    "print('Best settings : ', ans[index])"
   ],
   "metadata": {
    "collapsed": false
   }
  },
  {
   "cell_type": "code",
   "execution_count": null,
   "outputs": [],
   "source": [
    "ans = []\n",
    "from Experiment import main\n",
    "for lr in [1e-2, 5e-3, 1e-3, 5e-4, 1e-4]:\n",
    "    for decay in [1e-4, 1e-3, 1e-2]:\n",
    "        args.density = 0.10\n",
    "        args.rounds = 1\n",
    "        args.interaction = 'CSMF'\n",
    "        args.dimension = 32\n",
    "        args.part_type = 1\n",
    "        args.agg_type = 'mean'\n",
    "        args.slice_lr = args.agg_lr = lr\n",
    "        args.slice_decay = args.agg_decay = decay\n",
    "        args.debug = 1\n",
    "        MAE = main(args, 0)\n",
    "        ans.append([args.interaction, 'Density :', args.density, 'lr : ', lr, 'decay', decay, MAE])"
   ],
   "metadata": {
    "collapsed": false
   }
  },
  {
   "cell_type": "code",
   "execution_count": null,
   "outputs": [],
   "source": [
    "index = -1\n",
    "best_MAE = 2e9\n",
    "for i in range(len(ans)):\n",
    "    if ans[i][-1] < best_MAE:\n",
    "        best_MAE = ans[i][-1]\n",
    "        index = i\n",
    "    print(ans[i])\n",
    "print('Best settings : ', ans[index])"
   ],
   "metadata": {
    "collapsed": false
   }
  },
  {
   "cell_type": "code",
   "execution_count": null,
   "outputs": [],
   "source": [
    "ans = []\n",
    "from Experiment import main\n",
    "for lr in [1e-2, 5e-3, 1e-3, 5e-4, 1e-4]:\n",
    "    for decay in [1e-4, 1e-3, 1e-2]:\n",
    "        args.density = 0.10\n",
    "        args.rounds = 1\n",
    "        args.interaction = 'Pure_Mf'\n",
    "        args.dimension = 32\n",
    "        args.part_type = 1\n",
    "        args.agg_type = 'mean'\n",
    "        args.slice_lr = args.agg_lr = lr\n",
    "        args.slice_decay = args.agg_decay = decay\n",
    "        args.debug = 1\n",
    "        MAE = main(args, 0)\n",
    "        ans.append([args.interaction, 'Density :', args.density, 'lr : ', lr, 'decay', decay, MAE])"
   ],
   "metadata": {
    "collapsed": false
   }
  },
  {
   "cell_type": "code",
   "execution_count": null,
   "outputs": [],
   "source": [
    "index = -1\n",
    "best_MAE = 2e9\n",
    "for i in range(len(ans)):\n",
    "    if ans[i][-1] < best_MAE:\n",
    "        best_MAE = ans[i][-1]\n",
    "        index = i\n",
    "    print(ans[i])\n",
    "print('Best settings : ', ans[index])"
   ],
   "metadata": {
    "collapsed": false
   }
  },
  {
   "cell_type": "code",
   "execution_count": null,
   "outputs": [],
   "source": [
    "ans = []\n",
    "from Experiment import main\n",
    "for lr in [1e-2, 5e-3, 1e-3, 5e-4, 1e-4]:\n",
    "    for decay in [1e-4, 1e-3, 1e-2]:\n",
    "        args.density = 0.10\n",
    "        args.rounds = 1\n",
    "        args.interaction = 'GraphMF'\n",
    "        args.slice_epochs = 15\n",
    "        args.slice_epochs = 15\n",
    "        args.dimension = 32\n",
    "        args.order = 0\n",
    "        args.part_type = 1\n",
    "        args.agg_type = 'mean'\n",
    "        args.slice_lr = args.agg_lr = lr\n",
    "        args.slice_decay = args.agg_decay = decay\n",
    "        args.debug = 1\n",
    "        MAE = main(args, 0)\n",
    "        ans.append([args.interaction, 'Density :', args.density, 'lr : ', lr, 'decay', decay, MAE])"
   ],
   "metadata": {
    "collapsed": false
   }
  },
  {
   "cell_type": "code",
   "execution_count": null,
   "outputs": [],
   "source": [
    "index = -1\n",
    "best_MAE = 2e9\n",
    "for i in range(len(ans)):\n",
    "    if ans[i][-1] < best_MAE:\n",
    "        best_MAE = ans[i][-1]\n",
    "        index = i\n",
    "    print(ans[i])\n",
    "print('Best settings : ', ans[index])"
   ],
   "metadata": {
    "collapsed": false
   }
  },
  {
   "cell_type": "markdown",
   "source": [
    "*****"
   ],
   "metadata": {
    "collapsed": false
   }
  },
  {
   "cell_type": "code",
   "execution_count": null,
   "outputs": [],
   "source": [
    "ans = []\n",
    "from Experiment import main\n",
    "for lr in [1e-2, 5e-3, 1e-3, 5e-4, 1e-4]:\n",
    "    for decay in [1e-4, 1e-3, 1e-2]:\n",
    "        args.density = 0.15\n",
    "        args.rounds = 1\n",
    "        args.interaction = 'NeuCF'\n",
    "        args.dimension = 64\n",
    "        args.part_type = 1\n",
    "        args.agg_type = 'mean'\n",
    "        args.slice_lr = args.agg_lr = lr\n",
    "        args.slice_decay = args.agg_decay = decay\n",
    "        args.debug = 1\n",
    "        MAE = main(args, 0)\n",
    "        ans.append([args.interaction, 'Density :', args.density, 'lr : ', lr, 'decay', decay, MAE])"
   ],
   "metadata": {
    "collapsed": false
   }
  },
  {
   "cell_type": "code",
   "execution_count": null,
   "outputs": [],
   "source": [
    "index = -1\n",
    "best_MAE = 2e9\n",
    "for i in range(len(ans)):\n",
    "    if ans[i][-1] < best_MAE:\n",
    "        best_MAE = ans[i][-1]\n",
    "        index = i\n",
    "    print(ans[i])\n",
    "print('Best settings : ', ans[index])"
   ],
   "metadata": {
    "collapsed": false
   }
  },
  {
   "cell_type": "code",
   "execution_count": null,
   "outputs": [],
   "source": [
    "ans = []\n",
    "from Experiment import main\n",
    "for lr in [1e-2, 5e-3, 1e-3, 5e-4, 1e-4]:\n",
    "    for decay in [1e-4, 1e-3, 1e-2]:\n",
    "        args.density = 0.15\n",
    "        args.rounds = 1\n",
    "        args.interaction = 'CSMF'\n",
    "        args.dimension = 32\n",
    "        args.part_type = 1\n",
    "        args.agg_type = 'mean'\n",
    "        args.slice_lr = args.agg_lr = lr\n",
    "        args.slice_decay = args.agg_decay = decay\n",
    "        args.debug = 1\n",
    "        MAE = main(args, 0)\n",
    "        ans.append([args.interaction, 'Density :', args.density, 'lr : ', lr, 'decay', decay, MAE])"
   ],
   "metadata": {
    "collapsed": false
   }
  },
  {
   "cell_type": "code",
   "execution_count": null,
   "outputs": [],
   "source": [
    "index = -1\n",
    "best_MAE = 2e9\n",
    "for i in range(len(ans)):\n",
    "    if ans[i][-1] < best_MAE:\n",
    "        best_MAE = ans[i][-1]\n",
    "        index = i\n",
    "    print(ans[i])\n",
    "print('Best settings : ', ans[index])"
   ],
   "metadata": {
    "collapsed": false
   }
  },
  {
   "cell_type": "code",
   "execution_count": null,
   "outputs": [],
   "source": [
    "ans = []\n",
    "from Experiment import main\n",
    "for lr in [1e-2, 5e-3, 1e-3, 5e-4, 1e-4]:\n",
    "    for decay in [1e-4, 1e-3, 1e-2]:\n",
    "        args.density = 0.15\n",
    "        args.rounds = 1\n",
    "        args.interaction = 'Pure_Mf'\n",
    "        args.dimension = 32\n",
    "        args.part_type = 1\n",
    "        args.agg_type = 'mean'\n",
    "        args.slice_lr = args.agg_lr = lr\n",
    "        args.slice_decay = args.agg_decay = decay\n",
    "        args.debug = 1\n",
    "        MAE = main(args, 0)\n",
    "        ans.append([args.interaction, 'Density :', args.density, 'lr : ', lr, 'decay', decay, MAE])"
   ],
   "metadata": {
    "collapsed": false
   }
  },
  {
   "cell_type": "code",
   "execution_count": null,
   "outputs": [],
   "source": [
    "index = -1\n",
    "best_MAE = 2e9\n",
    "for i in range(len(ans)):\n",
    "    if ans[i][-1] < best_MAE:\n",
    "        best_MAE = ans[i][-1]\n",
    "        index = i\n",
    "    print(ans[i])\n",
    "print('Best settings : ', ans[index])"
   ],
   "metadata": {
    "collapsed": false
   }
  },
  {
   "cell_type": "code",
   "execution_count": null,
   "outputs": [],
   "source": [
    "ans = []\n",
    "from Experiment import main\n",
    "for lr in [1e-2, 5e-3, 1e-3, 5e-4, 1e-4]:\n",
    "    for decay in [1e-4, 1e-3, 1e-2]:\n",
    "        args.density = 0.15\n",
    "        args.rounds = 1\n",
    "        args.interaction = 'GraphMF'\n",
    "        args.slice_epochs = 15\n",
    "        args.dimension = 32\n",
    "        args.order = 0\n",
    "        args.part_type = 1\n",
    "        args.agg_type = 'mean'\n",
    "        args.slice_lr = args.agg_lr = lr\n",
    "        args.slice_decay = args.agg_decay = decay\n",
    "        args.debug = 1\n",
    "        MAE = main(args, 0)\n",
    "        ans.append([args.interaction, 'Density :', args.density, 'lr : ', lr, 'decay', decay, MAE])"
   ],
   "metadata": {
    "collapsed": false
   }
  },
  {
   "cell_type": "code",
   "execution_count": null,
   "outputs": [],
   "source": [
    "index = -1\n",
    "best_MAE = 2e9\n",
    "for i in range(len(ans)):\n",
    "    if ans[i][-1] < best_MAE:\n",
    "        best_MAE = ans[i][-1]\n",
    "        index = i\n",
    "    print(ans[i])\n",
    "print('Best settings : ', ans[index])"
   ],
   "metadata": {
    "collapsed": false
   }
  },
  {
   "cell_type": "markdown",
   "source": [
    "*****"
   ],
   "metadata": {
    "collapsed": false
   }
  },
  {
   "cell_type": "code",
   "execution_count": null,
   "outputs": [],
   "source": [
    "ans = []\n",
    "from Experiment import main\n",
    "for lr in [1e-2, 5e-3, 1e-3, 5e-4, 1e-4]:\n",
    "    for decay in [1e-4, 1e-3, 1e-2]:\n",
    "        args.density = 0.20\n",
    "        args.rounds = 1\n",
    "        args.interaction = 'NeuCF'\n",
    "        args.dimension = 64\n",
    "        args.part_type = 1\n",
    "        args.agg_type = 'mean'\n",
    "        args.slice_lr = args.agg_lr = lr\n",
    "        args.slice_decay = args.agg_decay = decay\n",
    "        args.debug = 1\n",
    "        MAE = main(args, 0)\n",
    "        ans.append([args.interaction, 'Density :', args.density, 'lr : ', lr, 'decay', decay, MAE])"
   ],
   "metadata": {
    "collapsed": false
   }
  },
  {
   "cell_type": "code",
   "execution_count": null,
   "outputs": [],
   "source": [
    "index = -1\n",
    "best_MAE = 2e9\n",
    "for i in range(len(ans)):\n",
    "    if ans[i][-1] < best_MAE:\n",
    "        best_MAE = ans[i][-1]\n",
    "        index = i\n",
    "    print(ans[i])\n",
    "print('Best settings : ', ans[index])"
   ],
   "metadata": {
    "collapsed": false
   }
  },
  {
   "cell_type": "code",
   "execution_count": null,
   "outputs": [],
   "source": [
    "ans = []\n",
    "from Experiment import main\n",
    "for lr in [1e-2, 5e-3, 1e-3, 5e-4, 1e-4]:\n",
    "    for decay in [1e-4, 1e-3, 1e-2]:\n",
    "        args.density = 0.20\n",
    "        args.rounds = 1\n",
    "        args.interaction = 'CSMF'\n",
    "        args.dimension = 32\n",
    "        args.part_type = 1\n",
    "        args.agg_type = 'mean'\n",
    "        args.slice_lr = args.agg_lr = lr\n",
    "        args.slice_decay = args.agg_decay = decay\n",
    "        args.debug = 1\n",
    "        MAE = main(args, 0)\n",
    "        ans.append([args.interaction, 'Density :', args.density, 'lr : ', lr, 'decay', decay, MAE])"
   ],
   "metadata": {
    "collapsed": false
   }
  },
  {
   "cell_type": "code",
   "execution_count": null,
   "outputs": [],
   "source": [
    "index = -1\n",
    "best_MAE = 2e9\n",
    "for i in range(len(ans)):\n",
    "    if ans[i][-1] < best_MAE:\n",
    "        best_MAE = ans[i][-1]\n",
    "        index = i\n",
    "    print(ans[i])\n",
    "print('Best settings : ', ans[index])"
   ],
   "metadata": {
    "collapsed": false
   }
  },
  {
   "cell_type": "code",
   "execution_count": null,
   "outputs": [],
   "source": [
    "ans = []\n",
    "from Experiment import main\n",
    "for lr in [1e-2, 5e-3, 1e-3, 5e-4, 1e-4]:\n",
    "    for decay in [1e-4, 1e-3, 1e-2]:\n",
    "        args.density = 0.20\n",
    "        args.rounds = 1\n",
    "        args.interaction = 'Pure_Mf'\n",
    "        args.dimension = 32\n",
    "        args.part_type = 1\n",
    "        args.agg_type = 'mean'\n",
    "        args.slice_lr = args.agg_lr = lr\n",
    "        args.slice_decay = args.agg_decay = decay\n",
    "        args.debug = 1\n",
    "        MAE = main(args, 0)\n",
    "        ans.append([args.interaction, 'Density :', args.density, 'lr : ', lr, 'decay', decay, MAE])"
   ],
   "metadata": {
    "collapsed": false
   }
  },
  {
   "cell_type": "code",
   "execution_count": null,
   "outputs": [],
   "source": [
    "index = -1\n",
    "best_MAE = 2e9\n",
    "for i in range(len(ans)):\n",
    "    if ans[i][-1] < best_MAE:\n",
    "        best_MAE = ans[i][-1]\n",
    "        index = i\n",
    "    print(ans[i])\n",
    "print('Best settings : ', ans[index])"
   ],
   "metadata": {
    "collapsed": false
   }
  },
  {
   "cell_type": "code",
   "execution_count": null,
   "outputs": [],
   "source": [
    "ans = []\n",
    "from Experiment import main\n",
    "for lr in [1e-2, 5e-3, 1e-3, 5e-4, 1e-4]:\n",
    "    for decay in [1e-4, 1e-3, 1e-2]:\n",
    "        args.density = 0.20\n",
    "        args.rounds = 1\n",
    "        args.interaction = 'GraphMF'\n",
    "        args.slice_epochs = 15\n",
    "        args.dimension = 32\n",
    "        args.order = 0\n",
    "        args.part_type = 1\n",
    "        args.agg_type = 'mean'\n",
    "        args.slice_lr = args.agg_lr = lr\n",
    "        args.slice_decay = args.agg_decay = decay\n",
    "        args.debug = 1\n",
    "        MAE = main(args, 0)\n",
    "        ans.append([args.interaction, 'Density :', args.density, 'lr : ', lr, 'decay', decay, MAE])"
   ],
   "metadata": {
    "collapsed": false
   }
  },
  {
   "cell_type": "code",
   "execution_count": null,
   "outputs": [],
   "source": [
    "index = -1\n",
    "best_MAE = 2e9\n",
    "for i in range(len(ans)):\n",
    "    if ans[i][-1] < best_MAE:\n",
    "        best_MAE = ans[i][-1]\n",
    "        index = i\n",
    "    print(ans[i])\n",
    "print('Best settings : ', ans[index])"
   ],
   "metadata": {
    "collapsed": false
   }
  },
  {
   "cell_type": "markdown",
   "source": [
    "*****"
   ],
   "metadata": {
    "collapsed": false
   }
  },
  {
   "cell_type": "code",
   "execution_count": null,
   "outputs": [],
   "source": [
    "ans = []\n",
    "from Experiment import main\n",
    "for lr in [1e-2, 5e-3, 1e-3, 5e-4, 1e-4]:\n",
    "    for decay in [1e-4, 1e-3, 1e-2]:\n",
    "        args.density = 0.25\n",
    "        args.rounds = 1\n",
    "        args.interaction = 'NeuCF'\n",
    "        args.dimension = 64\n",
    "        args.part_type = 1\n",
    "        args.agg_type = 'mean'\n",
    "        args.slice_lr = args.agg_lr = lr\n",
    "        args.slice_decay = args.agg_decay = decay\n",
    "        args.debug = 1\n",
    "        MAE = main(args, 0)\n",
    "        ans.append([args.interaction, 'Density :', args.density, 'lr : ', lr, 'decay', decay, MAE])"
   ],
   "metadata": {
    "collapsed": false
   }
  },
  {
   "cell_type": "code",
   "execution_count": null,
   "outputs": [],
   "source": [
    "index = -1\n",
    "best_MAE = 2e9\n",
    "for i in range(len(ans)):\n",
    "    if ans[i][-1] < best_MAE:\n",
    "        best_MAE = ans[i][-1]\n",
    "        index = i\n",
    "    print(ans[i])\n",
    "print('Best settings : ', ans[index])"
   ],
   "metadata": {
    "collapsed": false
   }
  },
  {
   "cell_type": "code",
   "execution_count": null,
   "outputs": [],
   "source": [
    "ans = []\n",
    "from Experiment import main\n",
    "for lr in [1e-2, 5e-3, 1e-3, 5e-4, 1e-4]:\n",
    "    for decay in [1e-4, 1e-3, 1e-2]:\n",
    "        args.density = 0.25\n",
    "        args.rounds = 1\n",
    "        args.interaction = 'CSMF'\n",
    "        args.dimension = 32\n",
    "        args.part_type = 1\n",
    "        args.agg_type = 'mean'\n",
    "        args.slice_lr = args.agg_lr = lr\n",
    "        args.slice_decay = args.agg_decay = decay\n",
    "        args.debug = 1\n",
    "        MAE = main(args, 0)\n",
    "        ans.append([args.interaction, 'Density :', args.density, 'lr : ', lr, 'decay', decay, MAE])"
   ],
   "metadata": {
    "collapsed": false
   }
  },
  {
   "cell_type": "code",
   "execution_count": null,
   "outputs": [],
   "source": [
    "index = -1\n",
    "best_MAE = 2e9\n",
    "for i in range(len(ans)):\n",
    "    if ans[i][-1] < best_MAE:\n",
    "        best_MAE = ans[i][-1]\n",
    "        index = i\n",
    "    print(ans[i])\n",
    "print('Best settings : ', ans[index])"
   ],
   "metadata": {
    "collapsed": false
   }
  },
  {
   "cell_type": "code",
   "execution_count": null,
   "outputs": [],
   "source": [
    "ans = []\n",
    "from Experiment import main\n",
    "for lr in [1e-2, 5e-3, 1e-3, 5e-4, 1e-4]:\n",
    "    for decay in [1e-4, 1e-3, 1e-2]:\n",
    "        args.density = 0.25\n",
    "        args.rounds = 1\n",
    "        args.interaction = 'Pure_Mf'\n",
    "        args.dimension = 32\n",
    "        args.part_type = 1\n",
    "        args.agg_type = 'mean'\n",
    "        args.slice_lr = args.agg_lr = lr\n",
    "        args.slice_decay = args.agg_decay = decay\n",
    "        args.debug = 1\n",
    "        MAE = main(args, 0)\n",
    "        ans.append([args.interaction, 'Density :', args.density, 'lr : ', lr, 'decay', decay, MAE])"
   ],
   "metadata": {
    "collapsed": false
   }
  },
  {
   "cell_type": "code",
   "execution_count": null,
   "outputs": [],
   "source": [
    "index = -1\n",
    "best_MAE = 2e9\n",
    "for i in range(len(ans)):\n",
    "    if ans[i][-1] < best_MAE:\n",
    "        best_MAE = ans[i][-1]\n",
    "        index = i\n",
    "    print(ans[i])\n",
    "print('Best settings : ', ans[index])"
   ],
   "metadata": {
    "collapsed": false
   }
  },
  {
   "cell_type": "code",
   "execution_count": null,
   "outputs": [],
   "source": [
    "ans = []\n",
    "from Experiment import main\n",
    "for lr in [1e-2, 5e-3, 1e-3, 5e-4, 1e-4]:\n",
    "    for decay in [1e-4, 1e-3, 1e-2]:\n",
    "        args.density = 0.25\n",
    "        args.rounds = 1\n",
    "        args.interaction = 'GraphMF'\n",
    "        args.slice_epochs = 15\n",
    "        args.dimension = 32\n",
    "        args.order = 0\n",
    "        args.part_type = 1\n",
    "        args.agg_type = 'mean'\n",
    "        args.slice_lr = args.agg_lr = lr\n",
    "        args.slice_decay = args.agg_decay = decay\n",
    "        args.debug = 1\n",
    "        MAE = main(args, 0)\n",
    "        ans.append([args.interaction, 'Density :', args.density, 'lr : ', lr, 'decay', decay, MAE])"
   ],
   "metadata": {
    "collapsed": false
   }
  },
  {
   "cell_type": "code",
   "execution_count": null,
   "outputs": [],
   "source": [
    "index = -1\n",
    "best_MAE = 2e9\n",
    "for i in range(len(ans)):\n",
    "    if ans[i][-1] < best_MAE:\n",
    "        best_MAE = ans[i][-1]\n",
    "        index = i\n",
    "    print(ans[i])\n",
    "print('Best settings : ', ans[index])"
   ],
   "metadata": {
    "collapsed": false
   }
  },
  {
   "cell_type": "markdown",
   "source": [
    "*****"
   ],
   "metadata": {
    "collapsed": false
   }
  },
  {
   "cell_type": "code",
   "execution_count": null,
   "outputs": [],
   "source": [
    "ans = []\n",
    "from Experiment import main\n",
    "for lr in [1e-2, 5e-3, 1e-3, 5e-4, 1e-4]:\n",
    "    for decay in [1e-4, 1e-3, 1e-2]:\n",
    "        args.density = 0.30\n",
    "        args.rounds = 1\n",
    "        args.interaction = 'NeuCF'\n",
    "        args.dimension = 64\n",
    "        args.part_type = 1\n",
    "        args.agg_type = 'mean'\n",
    "        args.slice_lr = args.agg_lr = lr\n",
    "        args.slice_decay = args.agg_decay = decay\n",
    "        args.debug = 1\n",
    "        MAE = main(args, 0)\n",
    "        ans.append([args.interaction, 'Density :', args.density, 'lr : ', lr, 'decay', decay, MAE])"
   ],
   "metadata": {
    "collapsed": false
   }
  },
  {
   "cell_type": "code",
   "execution_count": null,
   "outputs": [],
   "source": [
    "index = -1\n",
    "best_MAE = 2e9\n",
    "for i in range(len(ans)):\n",
    "    if ans[i][-1] < best_MAE:\n",
    "        best_MAE = ans[i][-1]\n",
    "        index = i\n",
    "    print(ans[i])\n",
    "print('Best settings : ', ans[index])"
   ],
   "metadata": {
    "collapsed": false
   }
  },
  {
   "cell_type": "code",
   "execution_count": null,
   "outputs": [],
   "source": [
    "ans = []\n",
    "from Experiment import main\n",
    "for lr in [1e-2, 5e-3, 1e-3, 5e-4, 1e-4]:\n",
    "    for decay in [1e-4, 1e-3, 1e-2]:\n",
    "        args.density = 0.30\n",
    "        args.rounds = 1\n",
    "        args.interaction = 'CSMF'\n",
    "        args.dimension = 32\n",
    "        args.part_type = 1\n",
    "        args.agg_type = 'mean'\n",
    "        args.slice_lr = args.agg_lr = lr\n",
    "        args.slice_decay = args.agg_decay = decay\n",
    "        args.debug = 1\n",
    "        MAE = main(args, 0)\n",
    "        ans.append([args.interaction, 'Density :', args.density, 'lr : ', lr, 'decay', decay, MAE])"
   ],
   "metadata": {
    "collapsed": false
   }
  },
  {
   "cell_type": "code",
   "execution_count": null,
   "outputs": [],
   "source": [
    "index = -1\n",
    "best_MAE = 2e9\n",
    "for i in range(len(ans)):\n",
    "    if ans[i][-1] < best_MAE:\n",
    "        best_MAE = ans[i][-1]\n",
    "        index = i\n",
    "    print(ans[i])\n",
    "print('Best settings : ', ans[index])"
   ],
   "metadata": {
    "collapsed": false
   }
  },
  {
   "cell_type": "code",
   "execution_count": null,
   "outputs": [],
   "source": [
    "ans = []\n",
    "from Experiment import main\n",
    "for lr in [1e-2, 5e-3, 1e-3, 5e-4, 1e-4]:\n",
    "    for decay in [1e-4, 1e-3, 1e-2]:\n",
    "        args.density = 0.30\n",
    "        args.rounds = 1\n",
    "        args.interaction = 'Pure_Mf'\n",
    "        args.dimension = 32\n",
    "        args.part_type = 1\n",
    "        args.agg_type = 'mean'\n",
    "        args.slice_lr = args.agg_lr = lr\n",
    "        args.slice_decay = args.agg_decay = decay\n",
    "        args.debug = 1\n",
    "        MAE = main(args, 0)\n",
    "        ans.append([args.interaction, 'Density :', args.density, 'lr : ', lr, 'decay', decay, MAE])"
   ],
   "metadata": {
    "collapsed": false
   }
  },
  {
   "cell_type": "code",
   "execution_count": null,
   "outputs": [],
   "source": [
    "index = -1\n",
    "best_MAE = 2e9\n",
    "for i in range(len(ans)):\n",
    "    if ans[i][-1] < best_MAE:\n",
    "        best_MAE = ans[i][-1]\n",
    "        index = i\n",
    "    print(ans[i])\n",
    "print('Best settings : ', ans[index])"
   ],
   "metadata": {
    "collapsed": false
   }
  },
  {
   "cell_type": "code",
   "execution_count": null,
   "outputs": [],
   "source": [
    "ans = []\n",
    "from Experiment import main\n",
    "for lr in [1e-2, 5e-3, 1e-3, 5e-4, 1e-4]:\n",
    "    for decay in [1e-4, 1e-3, 1e-2]:\n",
    "        args.density = 0.30\n",
    "        args.rounds = 1\n",
    "        args.interaction = 'GraphMF'\n",
    "        args.slice_epochs = 15\n",
    "        args.dimension = 32\n",
    "        args.order = 0\n",
    "        args.part_type = 1\n",
    "        args.agg_type = 'mean'\n",
    "        args.slice_lr = args.agg_lr = lr\n",
    "        args.slice_decay = args.agg_decay = decay\n",
    "        args.debug = 1\n",
    "        MAE = main(args, 0)\n",
    "        ans.append([args.interaction, 'Density :', args.density, 'lr : ', lr, 'decay', decay, MAE])"
   ],
   "metadata": {
    "collapsed": false
   }
  },
  {
   "cell_type": "code",
   "execution_count": null,
   "outputs": [],
   "source": [
    "index = -1\n",
    "best_MAE = 2e9\n",
    "for i in range(len(ans)):\n",
    "    if ans[i][-1] < best_MAE:\n",
    "        best_MAE = ans[i][-1]\n",
    "        index = i\n",
    "    print(ans[i])\n",
    "print('Best settings : ', ans[index])"
   ],
   "metadata": {
    "collapsed": false
   }
  },
  {
   "cell_type": "code",
   "execution_count": null,
   "outputs": [],
   "source": [
    "args.dataset = 'tp'"
   ],
   "metadata": {
    "collapsed": false
   }
  },
  {
   "cell_type": "code",
   "execution_count": null,
   "outputs": [],
   "source": [
    "ans = []\n",
    "from Experiment import main\n",
    "for lr in [1e-2, 5e-3, 1e-3, 5e-4, 1e-4]:\n",
    "    for decay in [1e-4, 1e-3, 1e-2]:\n",
    "        args.density = 0.10\n",
    "        args.rounds = 1\n",
    "        args.interaction = 'NeuCF'\n",
    "        args.dimension = 64\n",
    "        args.part_type = 1\n",
    "        args.agg_type = 'mean'\n",
    "        args.slice_lr = args.agg_lr = lr\n",
    "        args.slice_decay = args.agg_decay = decay\n",
    "        args.debug = 1\n",
    "        MAE = main(args, 0)\n",
    "        ans.append([args.interaction, 'Density :', args.density, 'lr : ', lr, 'decay', decay, MAE])"
   ],
   "metadata": {
    "collapsed": false
   }
  },
  {
   "cell_type": "code",
   "execution_count": null,
   "outputs": [],
   "source": [
    "index = -1\n",
    "best_MAE = 2e9\n",
    "for i in range(len(ans)):\n",
    "    if ans[i][-1] < best_MAE:\n",
    "        best_MAE = ans[i][-1]\n",
    "        index = i\n",
    "    print(ans[i])\n",
    "print('Best settings : ', ans[index])"
   ],
   "metadata": {
    "collapsed": false
   }
  },
  {
   "cell_type": "code",
   "execution_count": null,
   "outputs": [],
   "source": [
    "ans = []\n",
    "from Experiment import main\n",
    "for lr in [1e-2, 5e-3, 1e-3, 5e-4, 1e-4]:\n",
    "    for decay in [1e-4, 1e-3, 1e-2]:\n",
    "        args.density = 0.10\n",
    "        args.rounds = 1\n",
    "        args.interaction = 'CSMF'\n",
    "        args.dimension = 32\n",
    "        args.part_type = 1\n",
    "        args.agg_type = 'mean'\n",
    "        args.slice_lr = args.agg_lr = lr\n",
    "        args.slice_decay = args.agg_decay = decay\n",
    "        args.debug = 1\n",
    "        MAE = main(args, 0)\n",
    "        ans.append([args.interaction, 'Density :', args.density, 'lr : ', lr, 'decay', decay, MAE])"
   ],
   "metadata": {
    "collapsed": false
   }
  },
  {
   "cell_type": "code",
   "execution_count": null,
   "outputs": [],
   "source": [
    "index = -1\n",
    "best_MAE = 2e9\n",
    "for i in range(len(ans)):\n",
    "    if ans[i][-1] < best_MAE:\n",
    "        best_MAE = ans[i][-1]\n",
    "        index = i\n",
    "    print(ans[i])\n",
    "print('Best settings : ', ans[index])"
   ],
   "metadata": {
    "collapsed": false
   }
  },
  {
   "cell_type": "code",
   "execution_count": null,
   "outputs": [],
   "source": [
    "ans = []\n",
    "from Experiment import main\n",
    "for lr in [1e-2, 5e-3, 1e-3, 5e-4, 1e-4]:\n",
    "    for decay in [1e-4, 1e-3, 1e-2]:\n",
    "        args.density = 0.10\n",
    "        args.rounds = 1\n",
    "        args.interaction = 'Pure_Mf'\n",
    "        args.dimension = 32\n",
    "        args.part_type = 1\n",
    "        args.agg_type = 'mean'\n",
    "        args.slice_lr = args.agg_lr = lr\n",
    "        args.slice_decay = args.agg_decay = decay\n",
    "        args.debug = 1\n",
    "        MAE = main(args, 0)\n",
    "        ans.append([args.interaction, 'Density :', args.density, 'lr : ', lr, 'decay', decay, MAE])"
   ],
   "metadata": {
    "collapsed": false
   }
  },
  {
   "cell_type": "code",
   "execution_count": null,
   "outputs": [],
   "source": [
    "index = -1\n",
    "best_MAE = 2e9\n",
    "for i in range(len(ans)):\n",
    "    if ans[i][-1] < best_MAE:\n",
    "        best_MAE = ans[i][-1]\n",
    "        index = i\n",
    "    print(ans[i])\n",
    "print('Best settings : ', ans[index])"
   ],
   "metadata": {
    "collapsed": false
   }
  },
  {
   "cell_type": "code",
   "execution_count": null,
   "outputs": [],
   "source": [
    "ans = []\n",
    "from Experiment import main\n",
    "for lr in [1e-2, 5e-3, 1e-3, 5e-4, 1e-4]:\n",
    "    for decay in [1e-4, 1e-3, 1e-2]:\n",
    "        args.density = 0.10\n",
    "        args.rounds = 1\n",
    "        args.interaction = 'GraphMF'\n",
    "        args.slice_epochs = 15\n",
    "        args.dimension = 32\n",
    "        args.order = 0\n",
    "        args.part_type = 1\n",
    "        args.agg_type = 'mean'\n",
    "        args.slice_lr = args.agg_lr = lr\n",
    "        args.slice_decay = args.agg_decay = decay\n",
    "        args.debug = 1\n",
    "        MAE = main(args, 0)\n",
    "        ans.append([args.interaction, 'Density :', args.density, 'lr : ', lr, 'decay', decay, MAE])"
   ],
   "metadata": {
    "collapsed": false
   }
  },
  {
   "cell_type": "code",
   "execution_count": null,
   "outputs": [],
   "source": [
    "index = -1\n",
    "best_MAE = 2e9\n",
    "for i in range(len(ans)):\n",
    "    if ans[i][-1] < best_MAE:\n",
    "        best_MAE = ans[i][-1]\n",
    "        index = i\n",
    "    print(ans[i])\n",
    "print('Best settings : ', ans[index])"
   ],
   "metadata": {
    "collapsed": false
   }
  },
  {
   "cell_type": "markdown",
   "source": [
    "*****"
   ],
   "metadata": {
    "collapsed": false
   }
  },
  {
   "cell_type": "code",
   "execution_count": null,
   "outputs": [],
   "source": [
    "ans = []\n",
    "from Experiment import main\n",
    "for lr in [1e-2, 5e-3, 1e-3, 5e-4, 1e-4]:\n",
    "    for decay in [1e-4, 1e-3, 1e-2]:\n",
    "        args.density = 0.15\n",
    "        args.rounds = 1\n",
    "        args.interaction = 'NeuCF'\n",
    "        args.dimension = 64\n",
    "        args.part_type = 1\n",
    "        args.agg_type = 'mean'\n",
    "        args.slice_lr = args.agg_lr = lr\n",
    "        args.slice_decay = args.agg_decay = decay\n",
    "        args.debug = 1\n",
    "        MAE = main(args, 0)\n",
    "        ans.append([args.interaction, 'Density :', args.density, 'lr : ', lr, 'decay', decay, MAE])"
   ],
   "metadata": {
    "collapsed": false
   }
  },
  {
   "cell_type": "code",
   "execution_count": null,
   "outputs": [],
   "source": [
    "index = -1\n",
    "best_MAE = 2e9\n",
    "for i in range(len(ans)):\n",
    "    if ans[i][-1] < best_MAE:\n",
    "        best_MAE = ans[i][-1]\n",
    "        index = i\n",
    "    print(ans[i])\n",
    "print('Best settings : ', ans[index])"
   ],
   "metadata": {
    "collapsed": false
   }
  },
  {
   "cell_type": "code",
   "execution_count": null,
   "outputs": [],
   "source": [
    "ans = []\n",
    "from Experiment import main\n",
    "for lr in [1e-2, 5e-3, 1e-3, 5e-4, 1e-4]:\n",
    "    for decay in [1e-4, 1e-3, 1e-2]:\n",
    "        args.density = 0.15\n",
    "        args.rounds = 1\n",
    "        args.interaction = 'CSMF'\n",
    "        args.dimension = 32\n",
    "        args.part_type = 1\n",
    "        args.agg_type = 'mean'\n",
    "        args.slice_lr = args.agg_lr = lr\n",
    "        args.slice_decay = args.agg_decay = decay\n",
    "        args.debug = 1\n",
    "        MAE = main(args, 0)\n",
    "        ans.append([args.interaction, 'Density :', args.density, 'lr : ', lr, 'decay', decay, MAE])"
   ],
   "metadata": {
    "collapsed": false
   }
  },
  {
   "cell_type": "code",
   "execution_count": null,
   "outputs": [],
   "source": [
    "index = -1\n",
    "best_MAE = 2e9\n",
    "for i in range(len(ans)):\n",
    "    if ans[i][-1] < best_MAE:\n",
    "        best_MAE = ans[i][-1]\n",
    "        index = i\n",
    "    print(ans[i])\n",
    "print('Best settings : ', ans[index])"
   ],
   "metadata": {
    "collapsed": false
   }
  },
  {
   "cell_type": "code",
   "execution_count": null,
   "outputs": [],
   "source": [
    "ans = []\n",
    "from Experiment import main\n",
    "for lr in [1e-2, 5e-3, 1e-3, 5e-4, 1e-4]:\n",
    "    for decay in [1e-4, 1e-3, 1e-2]:\n",
    "        args.density = 0.15\n",
    "        args.rounds = 1\n",
    "        args.interaction = 'Pure_Mf'\n",
    "        args.dimension = 32\n",
    "        args.part_type = 1\n",
    "        args.agg_type = 'mean'\n",
    "        args.slice_lr = args.agg_lr = lr\n",
    "        args.slice_decay = args.agg_decay = decay\n",
    "        args.debug = 1\n",
    "        MAE = main(args, 0)\n",
    "        ans.append([args.interaction, 'Density :', args.density, 'lr : ', lr, 'decay', decay, MAE])"
   ],
   "metadata": {
    "collapsed": false
   }
  },
  {
   "cell_type": "code",
   "execution_count": null,
   "outputs": [],
   "source": [
    "index = -1\n",
    "best_MAE = 2e9\n",
    "for i in range(len(ans)):\n",
    "    if ans[i][-1] < best_MAE:\n",
    "        best_MAE = ans[i][-1]\n",
    "        index = i\n",
    "    print(ans[i])\n",
    "print('Best settings : ', ans[index])"
   ],
   "metadata": {
    "collapsed": false
   }
  },
  {
   "cell_type": "code",
   "execution_count": null,
   "outputs": [],
   "source": [
    "ans = []\n",
    "from Experiment import main\n",
    "for lr in [1e-2, 5e-3, 1e-3, 5e-4, 1e-4]:\n",
    "    for decay in [1e-4, 1e-3, 1e-2]:\n",
    "        args.density = 0.15\n",
    "        args.rounds = 1\n",
    "        args.interaction = 'GraphMF'\n",
    "        args.slice_epochs = 15\n",
    "        args.dimension = 32\n",
    "        args.order = 0\n",
    "        args.part_type = 1\n",
    "        args.agg_type = 'mean'\n",
    "        args.slice_lr = args.agg_lr = lr\n",
    "        args.slice_decay = args.agg_decay = decay\n",
    "        args.debug = 1\n",
    "        MAE = main(args, 0)\n",
    "        ans.append([args.interaction, 'Density :', args.density, 'lr : ', lr, 'decay', decay, MAE])"
   ],
   "metadata": {
    "collapsed": false
   }
  },
  {
   "cell_type": "code",
   "execution_count": null,
   "outputs": [],
   "source": [
    "index = -1\n",
    "best_MAE = 2e9\n",
    "for i in range(len(ans)):\n",
    "    if ans[i][-1] < best_MAE:\n",
    "        best_MAE = ans[i][-1]\n",
    "        index = i\n",
    "    print(ans[i])\n",
    "print('Best settings : ', ans[index])"
   ],
   "metadata": {
    "collapsed": false
   }
  },
  {
   "cell_type": "markdown",
   "source": [
    "*****"
   ],
   "metadata": {
    "collapsed": false
   }
  },
  {
   "cell_type": "code",
   "execution_count": null,
   "outputs": [],
   "source": [
    "ans = []\n",
    "from Experiment import main\n",
    "for lr in [1e-2, 5e-3, 1e-3, 5e-4, 1e-4]:\n",
    "    for decay in [1e-4, 1e-3, 1e-2]:\n",
    "        args.density = 0.20\n",
    "        args.rounds = 1\n",
    "        args.interaction = 'NeuCF'\n",
    "        args.dimension = 64\n",
    "        args.part_type = 1\n",
    "        args.agg_type = 'mean'\n",
    "        args.slice_lr = args.agg_lr = lr\n",
    "        args.slice_decay = args.agg_decay = decay\n",
    "        args.debug = 1\n",
    "        MAE = main(args, 0)\n",
    "        ans.append([args.interaction, 'Density :', args.density, 'lr : ', lr, 'decay', decay, MAE])"
   ],
   "metadata": {
    "collapsed": false
   }
  },
  {
   "cell_type": "code",
   "execution_count": null,
   "outputs": [],
   "source": [
    "index = -1\n",
    "best_MAE = 2e9\n",
    "for i in range(len(ans)):\n",
    "    if ans[i][-1] < best_MAE:\n",
    "        best_MAE = ans[i][-1]\n",
    "        index = i\n",
    "    print(ans[i])\n",
    "print('Best settings : ', ans[index])"
   ],
   "metadata": {
    "collapsed": false
   }
  },
  {
   "cell_type": "code",
   "execution_count": null,
   "outputs": [],
   "source": [
    "ans = []\n",
    "from Experiment import main\n",
    "for lr in [1e-2, 5e-3, 1e-3, 5e-4, 1e-4]:\n",
    "    for decay in [1e-4, 1e-3, 1e-2]:\n",
    "        args.density = 0.20\n",
    "        args.rounds = 1\n",
    "        args.interaction = 'CSMF'\n",
    "        args.dimension = 32\n",
    "        args.part_type = 1\n",
    "        args.agg_type = 'mean'\n",
    "        args.slice_lr = args.agg_lr = lr\n",
    "        args.slice_decay = args.agg_decay = decay\n",
    "        args.debug = 1\n",
    "        MAE = main(args, 0)\n",
    "        ans.append([args.interaction, 'Density :', args.density, 'lr : ', lr, 'decay', decay, MAE])"
   ],
   "metadata": {
    "collapsed": false
   }
  },
  {
   "cell_type": "code",
   "execution_count": null,
   "outputs": [],
   "source": [
    "index = -1\n",
    "best_MAE = 2e9\n",
    "for i in range(len(ans)):\n",
    "    if ans[i][-1] < best_MAE:\n",
    "        best_MAE = ans[i][-1]\n",
    "        index = i\n",
    "    print(ans[i])\n",
    "print('Best settings : ', ans[index])"
   ],
   "metadata": {
    "collapsed": false
   }
  },
  {
   "cell_type": "code",
   "execution_count": null,
   "outputs": [],
   "source": [
    "ans = []\n",
    "from Experiment import main\n",
    "for lr in [1e-2, 5e-3, 1e-3, 5e-4, 1e-4]:\n",
    "    for decay in [1e-4, 1e-3, 1e-2]:\n",
    "        args.density = 0.20\n",
    "        args.rounds = 1\n",
    "        args.interaction = 'Pure_Mf'\n",
    "        args.dimension = 32\n",
    "        args.part_type = 1\n",
    "        args.agg_type = 'mean'\n",
    "        args.slice_lr = args.agg_lr = lr\n",
    "        args.slice_decay = args.agg_decay = decay\n",
    "        args.debug = 1\n",
    "        MAE = main(args, 0)\n",
    "        ans.append([args.interaction, 'Density :', args.density, 'lr : ', lr, 'decay', decay, MAE])"
   ],
   "metadata": {
    "collapsed": false
   }
  },
  {
   "cell_type": "code",
   "execution_count": null,
   "outputs": [],
   "source": [
    "index = -1\n",
    "best_MAE = 2e9\n",
    "for i in range(len(ans)):\n",
    "    if ans[i][-1] < best_MAE:\n",
    "        best_MAE = ans[i][-1]\n",
    "        index = i\n",
    "    print(ans[i])\n",
    "print('Best settings : ', ans[index])"
   ],
   "metadata": {
    "collapsed": false
   }
  },
  {
   "cell_type": "code",
   "execution_count": null,
   "outputs": [],
   "source": [
    "ans = []\n",
    "from Experiment import main\n",
    "for lr in [1e-2, 5e-3, 1e-3, 5e-4, 1e-4]:\n",
    "    for decay in [1e-4, 1e-3, 1e-2]:\n",
    "        args.density = 0.20\n",
    "        args.rounds = 1\n",
    "        args.interaction = 'GraphMF'\n",
    "        args.slice_epochs = 15\n",
    "        args.dimension = 32\n",
    "        args.order = 0\n",
    "        args.part_type = 1\n",
    "        args.agg_type = 'mean'\n",
    "        args.slice_lr = args.agg_lr = lr\n",
    "        args.slice_decay = args.agg_decay = decay\n",
    "        args.debug = 1\n",
    "        MAE = main(args, 0)\n",
    "        ans.append([args.interaction, 'Density :', args.density, 'lr : ', lr, 'decay', decay, MAE])"
   ],
   "metadata": {
    "collapsed": false
   }
  },
  {
   "cell_type": "code",
   "execution_count": null,
   "outputs": [],
   "source": [
    "index = -1\n",
    "best_MAE = 2e9\n",
    "for i in range(len(ans)):\n",
    "    if ans[i][-1] < best_MAE:\n",
    "        best_MAE = ans[i][-1]\n",
    "        index = i\n",
    "    print(ans[i])\n",
    "print('Best settings : ', ans[index])"
   ],
   "metadata": {
    "collapsed": false
   }
  },
  {
   "cell_type": "markdown",
   "source": [
    "*****"
   ],
   "metadata": {
    "collapsed": false
   }
  },
  {
   "cell_type": "code",
   "execution_count": null,
   "outputs": [],
   "source": [
    "ans = []\n",
    "from Experiment import main\n",
    "for lr in [1e-2, 5e-3, 1e-3, 5e-4, 1e-4]:\n",
    "    for decay in [1e-4, 1e-3, 1e-2]:\n",
    "        args.density = 0.25\n",
    "        args.rounds = 1\n",
    "        args.interaction = 'NeuCF'\n",
    "        args.dimension = 64\n",
    "        args.part_type = 1\n",
    "        args.agg_type = 'mean'\n",
    "        args.slice_lr = args.agg_lr = lr\n",
    "        args.slice_decay = args.agg_decay = decay\n",
    "        args.debug = 1\n",
    "        MAE = main(args, 0)\n",
    "        ans.append([args.interaction, 'Density :', args.density, 'lr : ', lr, 'decay', decay, MAE])"
   ],
   "metadata": {
    "collapsed": false
   }
  },
  {
   "cell_type": "code",
   "execution_count": null,
   "outputs": [],
   "source": [
    "index = -1\n",
    "best_MAE = 2e9\n",
    "for i in range(len(ans)):\n",
    "    if ans[i][-1] < best_MAE:\n",
    "        best_MAE = ans[i][-1]\n",
    "        index = i\n",
    "    print(ans[i])\n",
    "print('Best settings : ', ans[index])"
   ],
   "metadata": {
    "collapsed": false
   }
  },
  {
   "cell_type": "code",
   "execution_count": null,
   "outputs": [],
   "source": [
    "ans = []\n",
    "from Experiment import main\n",
    "for lr in [1e-2, 5e-3, 1e-3, 5e-4, 1e-4]:\n",
    "    for decay in [1e-4, 1e-3, 1e-2]:\n",
    "        args.density = 0.25\n",
    "        args.rounds = 1\n",
    "        args.interaction = 'CSMF'\n",
    "        args.dimension = 32\n",
    "        args.part_type = 1\n",
    "        args.agg_type = 'mean'\n",
    "        args.slice_lr = args.agg_lr = lr\n",
    "        args.slice_decay = args.agg_decay = decay\n",
    "        args.debug = 1\n",
    "        MAE = main(args, 0)\n",
    "        ans.append([args.interaction, 'Density :', args.density, 'lr : ', lr, 'decay', decay, MAE])"
   ],
   "metadata": {
    "collapsed": false
   }
  },
  {
   "cell_type": "code",
   "execution_count": null,
   "outputs": [],
   "source": [
    "index = -1\n",
    "best_MAE = 2e9\n",
    "for i in range(len(ans)):\n",
    "    if ans[i][-1] < best_MAE:\n",
    "        best_MAE = ans[i][-1]\n",
    "        index = i\n",
    "    print(ans[i])\n",
    "print('Best settings : ', ans[index])"
   ],
   "metadata": {
    "collapsed": false
   }
  },
  {
   "cell_type": "code",
   "execution_count": null,
   "outputs": [],
   "source": [
    "ans = []\n",
    "from Experiment import main\n",
    "for lr in [1e-2, 5e-3, 1e-3, 5e-4, 1e-4]:\n",
    "    for decay in [1e-4, 1e-3, 1e-2]:\n",
    "        args.density = 0.25\n",
    "        args.rounds = 1\n",
    "        args.interaction = 'Pure_Mf'\n",
    "        args.dimension = 32\n",
    "        args.part_type = 1\n",
    "        args.agg_type = 'mean'\n",
    "        args.slice_lr = args.agg_lr = lr\n",
    "        args.slice_decay = args.agg_decay = decay\n",
    "        args.debug = 1\n",
    "        MAE = main(args, 0)\n",
    "        ans.append([args.interaction, 'Density :', args.density, 'lr : ', lr, 'decay', decay, MAE])"
   ],
   "metadata": {
    "collapsed": false
   }
  },
  {
   "cell_type": "code",
   "execution_count": null,
   "outputs": [],
   "source": [
    "index = -1\n",
    "best_MAE = 2e9\n",
    "for i in range(len(ans)):\n",
    "    if ans[i][-1] < best_MAE:\n",
    "        best_MAE = ans[i][-1]\n",
    "        index = i\n",
    "    print(ans[i])\n",
    "print('Best settings : ', ans[index])"
   ],
   "metadata": {
    "collapsed": false
   }
  },
  {
   "cell_type": "code",
   "execution_count": null,
   "outputs": [],
   "source": [
    "ans = []\n",
    "from Experiment import main\n",
    "for lr in [1e-2, 5e-3, 1e-3, 5e-4, 1e-4]:\n",
    "    for decay in [1e-4, 1e-3, 1e-2]:\n",
    "        args.density = 0.25\n",
    "        args.rounds = 1\n",
    "        args.interaction = 'GraphMF'\n",
    "        args.slice_epochs = 15\n",
    "        args.dimension = 32\n",
    "        args.order = 0\n",
    "        args.part_type = 1\n",
    "        args.agg_type = 'mean'\n",
    "        args.slice_lr = args.agg_lr = lr\n",
    "        args.slice_decay = args.agg_decay = decay\n",
    "        args.debug = 1\n",
    "        MAE = main(args, 0)\n",
    "        ans.append([args.interaction, 'Density :', args.density, 'lr : ', lr, 'decay', decay, MAE])"
   ],
   "metadata": {
    "collapsed": false
   }
  },
  {
   "cell_type": "code",
   "execution_count": null,
   "outputs": [],
   "source": [
    "index = -1\n",
    "best_MAE = 2e9\n",
    "for i in range(len(ans)):\n",
    "    if ans[i][-1] < best_MAE:\n",
    "        best_MAE = ans[i][-1]\n",
    "        index = i\n",
    "    print(ans[i])\n",
    "print('Best settings : ', ans[index])"
   ],
   "metadata": {
    "collapsed": false
   }
  },
  {
   "cell_type": "markdown",
   "source": [
    "*****"
   ],
   "metadata": {
    "collapsed": false
   }
  },
  {
   "cell_type": "code",
   "execution_count": null,
   "outputs": [],
   "source": [
    "ans = []\n",
    "from Experiment import main\n",
    "for lr in [1e-2, 5e-3, 1e-3, 5e-4, 1e-4]:\n",
    "    for decay in [1e-4, 1e-3, 1e-2]:\n",
    "        args.density = 0.30\n",
    "        args.rounds = 1\n",
    "        args.interaction = 'NeuCF'\n",
    "        args.dimension = 64\n",
    "        args.part_type = 1\n",
    "        args.agg_type = 'mean'\n",
    "        args.slice_lr = args.agg_lr = lr\n",
    "        args.slice_decay = args.agg_decay = decay\n",
    "        args.debug = 1\n",
    "        MAE = main(args, 0)\n",
    "        ans.append([args.interaction, 'Density :', args.density, 'lr : ', lr, 'decay', decay, MAE])"
   ],
   "metadata": {
    "collapsed": false
   }
  },
  {
   "cell_type": "code",
   "execution_count": null,
   "outputs": [],
   "source": [
    "index = -1\n",
    "best_MAE = 2e9\n",
    "for i in range(len(ans)):\n",
    "    if ans[i][-1] < best_MAE:\n",
    "        best_MAE = ans[i][-1]\n",
    "        index = i\n",
    "    print(ans[i])\n",
    "print('Best settings : ', ans[index])"
   ],
   "metadata": {
    "collapsed": false
   }
  },
  {
   "cell_type": "code",
   "execution_count": null,
   "outputs": [],
   "source": [
    "ans = []\n",
    "from Experiment import main\n",
    "for lr in [1e-2, 5e-3, 1e-3, 5e-4, 1e-4]:\n",
    "    for decay in [1e-4, 1e-3, 1e-2]:\n",
    "        args.density = 0.30\n",
    "        args.rounds = 1\n",
    "        args.interaction = 'CSMF'\n",
    "        args.dimension = 32\n",
    "        args.part_type = 1\n",
    "        args.agg_type = 'mean'\n",
    "        args.slice_lr = args.agg_lr = lr\n",
    "        args.slice_decay = args.agg_decay = decay\n",
    "        args.debug = 1\n",
    "        MAE = main(args, 0)\n",
    "        ans.append([args.interaction, 'Density :', args.density, 'lr : ', lr, 'decay', decay, MAE])"
   ],
   "metadata": {
    "collapsed": false
   }
  },
  {
   "cell_type": "code",
   "execution_count": null,
   "outputs": [],
   "source": [
    "index = -1\n",
    "best_MAE = 2e9\n",
    "for i in range(len(ans)):\n",
    "    if ans[i][-1] < best_MAE:\n",
    "        best_MAE = ans[i][-1]\n",
    "        index = i\n",
    "    print(ans[i])\n",
    "print('Best settings : ', ans[index])"
   ],
   "metadata": {
    "collapsed": false
   }
  },
  {
   "cell_type": "code",
   "execution_count": null,
   "outputs": [],
   "source": [
    "ans = []\n",
    "from Experiment import main\n",
    "for lr in [1e-2, 5e-3, 1e-3, 5e-4, 1e-4]:\n",
    "    for decay in [1e-4, 1e-3, 1e-2]:\n",
    "        args.density = 0.30\n",
    "        args.rounds = 1\n",
    "        args.interaction = 'Pure_Mf'\n",
    "        args.dimension = 32\n",
    "        args.part_type = 1\n",
    "        args.agg_type = 'mean'\n",
    "        args.slice_lr = args.agg_lr = lr\n",
    "        args.slice_decay = args.agg_decay = decay\n",
    "        args.debug = 1\n",
    "        MAE = main(args, 0)\n",
    "        ans.append([args.interaction, 'Density :', args.density, 'lr : ', lr, 'decay', decay, MAE])"
   ],
   "metadata": {
    "collapsed": false
   }
  },
  {
   "cell_type": "code",
   "execution_count": null,
   "outputs": [],
   "source": [
    "index = -1\n",
    "best_MAE = 2e9\n",
    "for i in range(len(ans)):\n",
    "    if ans[i][-1] < best_MAE:\n",
    "        best_MAE = ans[i][-1]\n",
    "        index = i\n",
    "    print(ans[i])\n",
    "print('Best settings : ', ans[index])"
   ],
   "metadata": {
    "collapsed": false
   }
  },
  {
   "cell_type": "code",
   "execution_count": null,
   "outputs": [],
   "source": [
    "ans = []\n",
    "from Experiment import main\n",
    "for lr in [1e-2, 5e-3, 1e-3, 5e-4, 1e-4]:\n",
    "    for decay in [1e-4, 1e-3, 1e-2]:\n",
    "        args.density = 0.30\n",
    "        args.rounds = 1\n",
    "        args.interaction = 'GraphMF'\n",
    "        args.slice_epochs = 15\n",
    "        args.dimension = 32\n",
    "        args.order = 0\n",
    "        args.part_type = 1\n",
    "        args.agg_type = 'mean'\n",
    "        args.slice_lr = args.agg_lr = lr\n",
    "        args.slice_decay = args.agg_decay = decay\n",
    "        args.debug = 1\n",
    "        MAE = main(args, 0)\n",
    "        ans.append([args.interaction, 'Density :', args.density, 'lr : ', lr, 'decay', decay, MAE])"
   ],
   "metadata": {
    "collapsed": false
   }
  },
  {
   "cell_type": "code",
   "execution_count": null,
   "outputs": [],
   "source": [
    "index = -1\n",
    "best_MAE = 2e9\n",
    "for i in range(len(ans)):\n",
    "    if ans[i][-1] < best_MAE:\n",
    "        best_MAE = ans[i][-1]\n",
    "        index = i\n",
    "    print(ans[i])\n",
    "print('Best settings : ', ans[index])"
   ],
   "metadata": {
    "collapsed": false
   }
  },
  {
   "cell_type": "code",
   "execution_count": null,
   "outputs": [],
   "source": [],
   "metadata": {
    "collapsed": false
   }
  },
  {
   "cell_type": "code",
   "execution_count": null,
   "outputs": [],
   "source": [],
   "metadata": {
    "collapsed": false
   }
  }
 ],
 "metadata": {
  "kernelspec": {
   "display_name": "Python 3",
   "language": "python",
   "name": "python3"
  },
  "language_info": {
   "codemirror_mode": {
    "name": "ipython",
    "version": 2
   },
   "file_extension": ".py",
   "mimetype": "text/x-python",
   "name": "python",
   "nbconvert_exporter": "python",
   "pygments_lexer": "ipython2",
   "version": "2.7.6"
  }
 },
 "nbformat": 4,
 "nbformat_minor": 0
}
