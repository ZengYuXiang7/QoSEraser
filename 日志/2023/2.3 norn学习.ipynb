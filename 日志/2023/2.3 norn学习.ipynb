{
 "cells": [
  {
   "cell_type": "code",
   "execution_count": 25,
   "outputs": [
    {
     "data": {
      "text/plain": "tensor([[[ 0.3380,  0.7925, -1.5965,  1.1276, -0.6616],\n         [ 0.3314,  1.6123, -0.5843,  0.0364, -1.3957],\n         [-1.5456, -0.5552,  0.6256,  0.0959,  1.3793]],\n\n        [[-1.3488,  0.8647, -1.0888,  0.8589,  0.7140],\n         [-1.6677,  0.3018,  1.4569, -0.0674, -0.0236],\n         [-0.8303, -0.4944, -0.9398,  0.5760,  1.6885]],\n\n        [[-1.5828, -0.7756,  0.8421,  0.6270,  0.8893],\n         [-0.4262, -0.9859,  1.5598,  0.7636, -0.9112],\n         [-1.1727, -0.8183, -0.2840,  1.5163,  0.7586]],\n\n        [[-1.2047,  1.1957, -0.7049, -0.4698,  1.1837],\n         [-0.3017, -1.6507, -0.0970,  0.8312,  1.2182],\n         [-1.5641,  1.2445,  0.8846, -0.4592, -0.1058]]],\n       grad_fn=<NativeLayerNormBackward0>)"
     },
     "execution_count": 25,
     "metadata": {},
     "output_type": "execute_result"
    }
   ],
   "source": [
    "import torch as t\n",
    "x = t.rand((4, 3, 5)) * 10\n",
    "f = t.nn.LayerNorm(5)\n",
    "y = f(x)\n",
    "y"
   ],
   "metadata": {
    "collapsed": false
   }
  },
  {
   "cell_type": "code",
   "execution_count": 22,
   "outputs": [
    {
     "name": "stdout",
     "output_type": "stream",
     "text": [
      "LayerNorm只有参数gamma和beta，没有统计量\n",
      "odict_keys(['weight', 'bias'])\n",
      "参数gamma shape:  torch.Size([10])\n",
      "参数beta shape:  torch.Size([10])\n",
      "输入： torch.Size([20, 5, 10])\n",
      "输出： torch.Size([20, 5, 10])\n"
     ]
    }
   ],
   "source": [
    "import torch\n",
    "import torch.nn as nn\n",
    "\n",
    "# ===== NLP Example =====\n",
    "batch, sentence_length, embedding_dim = 20, 5, 10\n",
    "inputs = torch.randn(batch, sentence_length, embedding_dim)\n",
    "layer_norm = nn.LayerNorm(embedding_dim)\n",
    "\n",
    "print(\"LayerNorm只有参数gamma和beta，没有统计量\")\n",
    "print(layer_norm.state_dict().keys())\n",
    "print(\"参数gamma shape: \", layer_norm.state_dict()['weight'].shape)\n",
    "print(\"参数beta shape: \", layer_norm.state_dict()['bias'].shape)\n",
    "print(\"输入：\", inputs.shape)\n",
    "print(\"输出：\", layer_norm(inputs).shape)\n"
   ],
   "metadata": {
    "collapsed": false
   }
  }
 ],
 "metadata": {
  "kernelspec": {
   "display_name": "Python 3",
   "language": "python",
   "name": "python3"
  },
  "language_info": {
   "codemirror_mode": {
    "name": "ipython",
    "version": 2
   },
   "file_extension": ".py",
   "mimetype": "text/x-python",
   "name": "python",
   "nbconvert_exporter": "python",
   "pygments_lexer": "ipython2",
   "version": "2.7.6"
  }
 },
 "nbformat": 4,
 "nbformat_minor": 0
}
