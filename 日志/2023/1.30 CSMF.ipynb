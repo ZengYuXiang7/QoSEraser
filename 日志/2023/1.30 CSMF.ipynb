{
 "cells": [
  {
   "cell_type": "code",
   "execution_count": 5,
   "outputs": [
    {
     "name": "stdout",
     "output_type": "stream",
     "text": [
      "2023-01-31 03:41:20  Experiment start!\r\n",
      "2023-01-31 03:41:20  Namespace(F=1, agg2=0, agg_decay=0.001, agg_epochs=10, agg_function=1, agg_lr=0.001, agg_type='att', att_decay=0.0001, att_lr=0.001, batch_size=128, beta=1, cluster='deep', cuda=True, dataset='rt', debug=0, density=0.1, devices='gpu', dimension=32, dir='../Dataset/mnist', dropout=0.1, epoch=1500, external_dim=64, hidden_dims=[64, 64, 100], input_dim=128, interaction='CSMF', lamda=1, latent_dim=10, log_interval=100, lr=0.0001, n_classes=10, n_clusters=10, n_jobs=1, node2vec=0, node2vec_batchsize=32, node2vec_dim=128, node2vec_epochs=20, node2vec_length=8, node2vec_walk=15, node2vec_windows=3, num_layers=2, order=2, part_iter=20, part_type=5, path='./datasets/data/WSDREAM/', pre_epoch=1000, pretrain=True, processed=0, random_state=1001, retrain=0, rounds=1, save_model=1, slice=1, slice_decay=0.001, slice_epochs=100, slice_lr=0.001, slices=5, verbose=10, wd=0.0005)\r\n",
      "2023-01-31 03:41:20  Dataset : rt     interaction : CSMF\r\n",
      "2023-01-31 03:41:20  Density : 10.00%, slice_epochs : 100, agg_epochs : 10\r\n",
      "2023-01-31 03:41:20  Part_type : 5,    slices : 5,       devices : gpu\r\n",
      "2023-01-31 03:41:20  Slice_lr : 0.01,    Slice_decay : 0.01\r\n",
      "2023-01-31 03:41:20  Agg_lr : 0.005,    Agg_decay : 0.01\r\n",
      "2023-01-31 03:41:20  Aggregation function : att\r\n",
      "\r\n",
      "2023-01-31 03:41:20  Round 1 experiment start!\r\n",
      "2023-01-31 03:41:20  \t原始数据集读取完毕\r\n",
      "2023-01-31 03:41:20  \t图嵌入均衡切割\r\n",
      "42 45 78 89 85 \r\n",
      "2023-01-31 03:41:20  \tNode2Vec 基于用户聚类均衡切割完毕\r\n",
      "2023-01-31 03:41:20  \t分切数据执行完毕\r\n",
      "2023-01-31 03:41:22  \t模型加载完毕\r\n",
      "2023-01-31 03:41:22  \t准备训练切片模型\r\n",
      "2023-01-31 03:41:22  \t实验 1 模型 1 开始分片训练\r\n",
      "2023-01-31 03:41:27  Epoch 10 : MAE : 0.6407  RMSE : 1.6825  NMAE : 0.5809  MRE : 0.4327  NPRE : 2.0769\r\n",
      "2023-01-31 03:41:31  Epoch 20 : MAE : 0.6331  RMSE : 1.6593  NMAE : 0.5740  MRE : 0.4195  NPRE : 2.1435\r\n",
      "2023-01-31 03:41:36  Epoch 30 : MAE : 0.6308  RMSE : 1.6787  NMAE : 0.5719  MRE : 0.4062  NPRE : 1.9578\r\n",
      "2023-01-31 03:41:39  Best epoch 28 : MAE : 0.6275  RMSE : 1.6657  NMAE : 0.5690  MRE : 0.4081  NPRE : 1.9647\r\n",
      "2023-01-31 03:41:39  实验 1 模型 1 training time = 9.88 s\r\n",
      "2023-01-31 03:41:39  Slice ID  1 : MAE = 0.6275, RMSE = 1.6657, NMAE = 0.5690, MRE = 0.4081, NPRE = 1.9647\r\n",
      "\r\n",
      "2023-01-31 03:41:39  \t实验 1 模型 2 开始分片训练\r\n",
      "2023-01-31 03:41:45  Epoch 10 : MAE : 0.4593  RMSE : 1.3814  NMAE : 0.5260  MRE : 0.3455  NPRE : 1.1794\r\n",
      "2023-01-31 03:41:50  Epoch 20 : MAE : 0.4717  RMSE : 1.3991  NMAE : 0.5402  MRE : 0.3495  NPRE : 1.3804\r\n",
      "2023-01-31 03:41:50  Best epoch 10 : MAE : 0.4593  RMSE : 1.3814  NMAE : 0.5260  MRE : 0.3455  NPRE : 1.1794\r\n",
      "2023-01-31 03:41:50  实验 1 模型 2 training time = 4.17 s\r\n",
      "2023-01-31 03:41:50  Slice ID  2 : MAE = 0.4593, RMSE = 1.3814, NMAE = 0.5260, MRE = 0.3455, NPRE = 1.1794\r\n",
      "\r\n",
      "2023-01-31 03:41:50  \t实验 1 模型 3 开始分片训练\r\n",
      "2023-01-31 03:41:59  Epoch 10 : MAE : 0.4148  RMSE : 1.3185  NMAE : 0.4812  MRE : 0.3031  NPRE : 1.0656\r\n",
      "2023-01-31 03:42:05  Best epoch  7 : MAE : 0.4105  RMSE : 1.3278  NMAE : 0.4762  MRE : 0.2913  NPRE : 0.9372\r\n",
      "2023-01-31 03:42:05  实验 1 模型 3 training time = 5.33 s\r\n",
      "2023-01-31 03:42:05  Slice ID  3 : MAE = 0.4105, RMSE = 1.3278, NMAE = 0.4762, MRE = 0.2913, NPRE = 0.9372\r\n",
      "\r\n",
      "2023-01-31 03:42:05  \t实验 1 模型 4 开始分片训练\r\n",
      "2023-01-31 03:42:15  Epoch 10 : MAE : 0.4341  RMSE : 1.3794  NMAE : 0.4994  MRE : 0.3056  NPRE : 0.9976\r\n",
      "2023-01-31 03:42:20  Best epoch  6 : MAE : 0.4332  RMSE : 1.4031  NMAE : 0.4983  MRE : 0.2985  NPRE : 0.9650\r\n",
      "2023-01-31 03:42:20  实验 1 模型 4 training time = 4.65 s\r\n",
      "2023-01-31 03:42:20  Slice ID  4 : MAE = 0.4332, RMSE = 1.4031, NMAE = 0.4983, MRE = 0.2985, NPRE = 0.9650\r\n",
      "\r\n",
      "2023-01-31 03:42:20  \t实验 1 模型 5 开始分片训练\r\n",
      "2023-01-31 03:42:30  Epoch 10 : MAE : 0.4525  RMSE : 1.3949  NMAE : 0.4806  MRE : 0.3181  NPRE : 0.9564\r\n",
      "2023-01-31 03:42:39  Epoch 20 : MAE : 0.4644  RMSE : 1.3899  NMAE : 0.4932  MRE : 0.3289  NPRE : 1.1877\r\n",
      "2023-01-31 03:42:40  Best epoch 11 : MAE : 0.4521  RMSE : 1.3932  NMAE : 0.4802  MRE : 0.3113  NPRE : 1.0487\r\n",
      "2023-01-31 03:42:40  实验 1 模型 5 training time = 8.16 s\r\n",
      "2023-01-31 03:42:40  Slice ID  5 : MAE = 0.4521, RMSE = 1.3932, NMAE = 0.4802, MRE = 0.3113, NPRE = 1.0487\r\n",
      "\r\n",
      "2023-01-31 03:42:40  \t所有切片模型训练完毕\r\n",
      "2023-01-31 03:42:40  \t开始训练聚合模型\r\n",
      "2023-01-31 03:42:44  Epoch  1 : MAE : 0.6629  RMSE : 1.9201  NMAE : 0.7248  MRE : 0.4966  NPRE : 2.5308\r\n",
      "2023-01-31 03:42:47  Epoch  2 : MAE : 0.5689  RMSE : 1.6009  NMAE : 0.6220  MRE : 0.4607  NPRE : 1.9999\r\n",
      "2023-01-31 03:42:50  Epoch  3 : MAE : 0.5243  RMSE : 1.5279  NMAE : 0.5733  MRE : 0.4182  NPRE : 1.6748\r\n",
      "2023-01-31 03:42:53  Epoch  4 : MAE : 0.4994  RMSE : 1.4889  NMAE : 0.5460  MRE : 0.4017  NPRE : 1.4369\r\n",
      "2023-01-31 03:42:56  Epoch  5 : MAE : 0.4808  RMSE : 1.4354  NMAE : 0.5256  MRE : 0.3882  NPRE : 1.6769\r\n",
      "2023-01-31 03:43:00  Epoch  6 : MAE : 0.4722  RMSE : 1.4157  NMAE : 0.5163  MRE : 0.3919  NPRE : 1.6762\r\n",
      "2023-01-31 03:43:03  Epoch  7 : MAE : 0.4685  RMSE : 1.4039  NMAE : 0.5123  MRE : 0.3877  NPRE : 1.6771\r\n",
      "2023-01-31 03:43:06  Epoch  8 : MAE : 0.4651  RMSE : 1.4129  NMAE : 0.5085  MRE : 0.3810  NPRE : 1.5734\r\n",
      "2023-01-31 03:43:09  Epoch  9 : MAE : 0.4583  RMSE : 1.4005  NMAE : 0.5011  MRE : 0.3744  NPRE : 1.5516\r\n",
      "2023-01-31 03:43:11  Epoch 10 : MAE : 0.4552  RMSE : 1.3783  NMAE : 0.4977  MRE : 0.3754  NPRE : 1.5652\r\n",
      "2023-01-31 03:43:11  Best epoch 10 : MAE : 0.4552  RMSE : 1.3783  NMAE : 0.4977  MRE : 0.3754  NPRE : 1.5652\r\n",
      "2023-01-31 03:43:11  \t实验 1 聚合模型训练完毕\r\n",
      "100%|███████████████████████████████████████████| 49/49 [00:11<00:00,  4.40it/s]\r\n",
      "2023-01-31 03:43:23  Result : MAE : 0.4509  RMSE : 1.3665  NMAE : 0.4961  MRE : 0.3771  NPRE : 1.5685\r\n",
      "2023-01-31 03:43:23  \t实验 1 : Aggregators training time = 21.09 s\r\n",
      "\r\n",
      "2023-01-31 03:43:23  \t聚合模型训练完毕\r\n",
      "2023-01-31 03:43:23  Round  1 : MAE = 0.4509, RMSE = 1.3665, NMAE = 0.4961, MRE = 0.3771, NPRE = 1.5685 shard avgtime = 6.44 s  agg_time = 21.09 s\r\n",
      "\r\n",
      "\r\n",
      "------------------------------------------------------------------------------------------------------------------------\r\n",
      "2023-01-31 03:43:23  Dataset : rt     interaction : CSMF\r\n",
      "2023-01-31 03:43:23  Density : 10.00%, slice_epochs : 100, agg_epochs : 10\r\n",
      "2023-01-31 03:43:23  Part_type : 5,    slices : 5,       devices : gpu\r\n",
      "\r\n",
      "\r\n",
      "2023-01-31 03:43:23  Density 10.00% : MAE = 0.451, RMSE = 1.367, NMAE = 0.496, MRE = 0.377, NPRE = 1.569\r\n",
      "\r\n",
      "2023-01-31 03:43:23  Experiment success!\r\n",
      "\r\n"
     ]
    }
   ],
   "source": [
    "!python Experiment.py --dataset rt --interaction CSMF --rounds 1 --slices 5 --agg_epochs 10 --density 0.10 --part_type 5"
   ],
   "metadata": {
    "collapsed": false
   }
  }
 ],
 "metadata": {
  "kernelspec": {
   "display_name": "Python 3",
   "language": "python",
   "name": "python3"
  },
  "language_info": {
   "codemirror_mode": {
    "name": "ipython",
    "version": 2
   },
   "file_extension": ".py",
   "mimetype": "text/x-python",
   "name": "python",
   "nbconvert_exporter": "python",
   "pygments_lexer": "ipython2",
   "version": "2.7.6"
  }
 },
 "nbformat": 4,
 "nbformat_minor": 0
}
