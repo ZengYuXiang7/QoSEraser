{
 "cells": [
  {
   "cell_type": "markdown",
   "source": [
    "# Author: Yuxiang Zeng"
   ],
   "metadata": {
    "collapsed": false
   }
  },
  {
   "cell_type": "markdown",
   "source": [
    "## Dataset : rt"
   ],
   "metadata": {
    "collapsed": false
   }
  },
  {
   "cell_type": "markdown",
   "source": [
    "# Desity = 0.10"
   ],
   "metadata": {
    "collapsed": false
   }
  },
  {
   "cell_type": "code",
   "execution_count": 1,
   "outputs": [
    {
     "name": "stdout",
     "output_type": "stream",
     "text": [
      "2023-01-15 12:30:18  Namespace(agg_epochs=5, agg_function=3, agg_type='mean', balance=0, batch_size=128, beta=1, cluster='deep', cuda=True, dataset='rt', debug=1, density=0.1, devices='gpu', dimension=32, dir='../Dataset/mnist', dropout=0.1, epoch=1500, hidden_dims=[64, 64, 100], input_dim=128, interaction='NeuCF', kmeans_type=1, lamda=1, latent_dim=10, log_interval=100, lr=0.0001, n_classes=10, n_clusters=10, n_jobs=1, node2vec=0, node2vec_batchsize=32, node2vec_dim=128, node2vec_epochs=20, node2vec_length=8, node2vec_walk=15, node2vec_windows=3, num_layers=2, order=2, part_iter=50, part_type=5, path='./datasets/data/WSDREAM/', pre_epoch=1000, pretrain=True, processed=0, retrain=0, rounds=1, save_model=1, slice_epochs=60, slices=10, subagg=1, verbose=10, wd=0.0005)\r\n",
      "2023-01-15 12:30:18  Experiment start!\r\n",
      "2023-01-15 12:30:18  Dataset : rt     interaction : NeuCF\r\n",
      "2023-01-15 12:30:18  Density : 10.00%, slice_epochs : 60, agg_epochs : 5\r\n",
      "2023-01-15 12:30:18  Part_type : 5,    slices : 10,       devices : gpu\r\n",
      "\r\n",
      "2023-01-15 12:30:18  Round 1 experiment start!\r\n",
      "2023-01-15 12:30:18  \t原始数据集读取完毕\r\n",
      "2023-01-15 12:30:19  \t图嵌入均衡切割\r\n",
      "Computing transition probabilities: 100%|███| 507/507 [00:00<00:00, 4220.98it/s]\r\n",
      "Generating walks (CPU: 1): 100%|██████████████████| 4/4 [00:00<00:00, 58.67it/s]\r\n",
      "Generating walks (CPU: 2): 100%|██████████████████| 4/4 [00:00<00:00, 54.15it/s]\r\n",
      "Generating walks (CPU: 3): 100%|██████████████████| 4/4 [00:00<00:00, 54.93it/s]\r\n",
      "Generating walks (CPU: 4): 100%|██████████████████| 3/3 [00:00<00:00, 56.36it/s]\r\n",
      "========== Start pretraining ==========\r\n",
      "100%|██████████████████████████████████████| 1000/1000 [00:04<00:00, 206.36it/s]\r\n",
      "100%|███████████████████████████████████████| 1500/1500 [01:16<00:00, 19.53it/s]\r\n",
      "========== End pretraining ==========\r\n",
      "--------------------------------------------------------------------------------\r\n",
      "2023-01-15 12:31:46  \tbalance操作结束！\r\n",
      "30 32 33 38 38 34 32 38 33 31 \r\n",
      "2023-01-15 12:31:46  \tNode2Vec 基于用户聚类均衡切割完毕\r\n",
      "2023-01-15 12:31:46  \t分切数据执行完毕\r\n",
      "2023-01-15 12:31:46  \t模型加载完毕\r\n",
      "2023-01-15 12:31:46  \t准备训练切片模型\r\n",
      "2023-01-15 12:31:46  \t实验 1 模型 1 开始分片训练\r\n",
      "2023-01-15 12:31:56  Epoch 10 : MAE : 0.7876  RMSE : 2.0145  NMAE : 0.8545  MRE : 0.7916  NPRE : 4.4730\r\n",
      "2023-01-15 12:32:06  Epoch 20 : MAE : 0.8066  RMSE : 1.8502  NMAE : 0.8752  MRE : 0.8778  NPRE : 5.6416\r\n",
      "2023-01-15 12:32:15  Epoch 30 : MAE : 0.7676  RMSE : 1.8223  NMAE : 0.8329  MRE : 0.7973  NPRE : 4.9443\r\n",
      "2023-01-15 12:32:25  Epoch 40 : MAE : 0.7896  RMSE : 1.8168  NMAE : 0.8567  MRE : 0.8383  NPRE : 5.2510\r\n",
      "2023-01-15 12:32:34  Epoch 50 : MAE : 0.7464  RMSE : 1.8052  NMAE : 0.8099  MRE : 0.7406  NPRE : 4.1306\r\n",
      "2023-01-15 12:32:44  Epoch 60 : MAE : 0.7629  RMSE : 1.8006  NMAE : 0.8277  MRE : 0.8077  NPRE : 4.4994\r\n",
      "2023-01-15 12:32:44  Best epoch 50 : MAE : 0.7464  RMSE : 1.8052  NMAE : 0.8099  MRE : 0.7406  NPRE : 4.1306\r\n",
      "2023-01-15 12:32:44  实验 1 模型 1 training time = 15.34 s\r\n",
      "2023-01-15 12:32:44  Slice ID  1 : MAE = 0.7464, RMSE = 1.8052, NMAE = 0.8099, MRE = 0.7406, NPRE = 4.1306\r\n",
      "\r\n",
      "2023-01-15 12:32:44  \t实验 1 模型 2 开始分片训练\r\n",
      "2023-01-15 12:32:54  Epoch 10 : MAE : 0.7709  RMSE : 2.0685  NMAE : 0.8365  MRE : 0.7193  NPRE : 2.5218\r\n",
      "2023-01-15 12:33:04  Epoch 20 : MAE : 0.7232  RMSE : 1.8953  NMAE : 0.7847  MRE : 0.6889  NPRE : 3.1720\r\n",
      "2023-01-15 12:33:14  Epoch 30 : MAE : 0.7138  RMSE : 1.8466  NMAE : 0.7745  MRE : 0.6783  NPRE : 2.6885\r\n",
      "2023-01-15 12:33:24  Epoch 40 : MAE : 0.7008  RMSE : 1.8196  NMAE : 0.7604  MRE : 0.6614  NPRE : 2.5927\r\n",
      "2023-01-15 12:33:33  Epoch 50 : MAE : 0.6969  RMSE : 1.7992  NMAE : 0.7562  MRE : 0.6715  NPRE : 2.6903\r\n",
      "2023-01-15 12:33:43  Epoch 60 : MAE : 0.6998  RMSE : 1.7900  NMAE : 0.7593  MRE : 0.7334  NPRE : 2.4970\r\n",
      "2023-01-15 12:33:43  Best epoch 38 : MAE : 0.6909  RMSE : 1.8126  NMAE : 0.7496  MRE : 0.6292  NPRE : 2.8233\r\n",
      "2023-01-15 12:33:43  实验 1 模型 2 training time = 12.41 s\r\n",
      "2023-01-15 12:33:43  Slice ID  2 : MAE = 0.6909, RMSE = 1.8126, NMAE = 0.7496, MRE = 0.6292, NPRE = 2.8233\r\n",
      "\r\n",
      "2023-01-15 12:33:43  \t实验 1 模型 3 开始分片训练\r\n",
      "2023-01-15 12:33:55  Epoch 10 : MAE : 0.7913  RMSE : 2.0040  NMAE : 0.8586  MRE : 0.7823  NPRE : 4.6278\r\n",
      "2023-01-15 12:34:08  Epoch 20 : MAE : 0.7742  RMSE : 1.8942  NMAE : 0.8400  MRE : 0.7747  NPRE : 4.6478\r\n",
      "2023-01-15 12:34:21  Epoch 30 : MAE : 0.7607  RMSE : 1.8165  NMAE : 0.8254  MRE : 0.7422  NPRE : 4.3858\r\n",
      "2023-01-15 12:34:31  Epoch 40 : MAE : 0.7669  RMSE : 1.8068  NMAE : 0.8321  MRE : 0.7562  NPRE : 4.6301\r\n",
      "2023-01-15 12:34:42  Epoch 50 : MAE : 0.7441  RMSE : 1.7832  NMAE : 0.8073  MRE : 0.7473  NPRE : 4.1162\r\n",
      "2023-01-15 12:34:54  Epoch 60 : MAE : 0.7625  RMSE : 1.7692  NMAE : 0.8273  MRE : 0.8282  NPRE : 4.6648\r\n",
      "2023-01-15 12:34:54  Best epoch 47 : MAE : 0.7211  RMSE : 1.7765  NMAE : 0.7824  MRE : 0.7081  NPRE : 4.0103\r\n",
      "2023-01-15 12:34:54  实验 1 模型 3 training time = 18.56 s\r\n",
      "2023-01-15 12:34:54  Slice ID  3 : MAE = 0.7211, RMSE = 1.7765, NMAE = 0.7824, MRE = 0.7081, NPRE = 4.0103\r\n",
      "\r\n",
      "2023-01-15 12:34:54  \t实验 1 模型 4 开始分片训练\r\n",
      "2023-01-15 12:35:12  Epoch 10 : MAE : 0.7643  RMSE : 2.0029  NMAE : 0.8293  MRE : 0.7302  NPRE : 3.3229\r\n",
      "2023-01-15 12:35:28  Epoch 20 : MAE : 0.7598  RMSE : 1.8454  NMAE : 0.8244  MRE : 0.7498  NPRE : 4.3546\r\n",
      "2023-01-15 12:35:40  Epoch 30 : MAE : 0.7690  RMSE : 1.8380  NMAE : 0.8344  MRE : 0.7691  NPRE : 4.3113\r\n",
      "2023-01-15 12:35:50  Epoch 40 : MAE : 0.7422  RMSE : 1.8173  NMAE : 0.8053  MRE : 0.7022  NPRE : 3.7577\r\n",
      "2023-01-15 12:36:00  Epoch 50 : MAE : 0.7683  RMSE : 1.8103  NMAE : 0.8336  MRE : 0.7987  NPRE : 4.3270\r\n",
      "2023-01-15 12:36:10  Epoch 60 : MAE : 0.7497  RMSE : 1.8093  NMAE : 0.8134  MRE : 0.7630  NPRE : 3.8131\r\n",
      "2023-01-15 12:36:10  Best epoch 40 : MAE : 0.7422  RMSE : 1.8173  NMAE : 0.8053  MRE : 0.7022  NPRE : 3.7577\r\n",
      "2023-01-15 12:36:10  实验 1 模型 4 training time = 21.82 s\r\n",
      "2023-01-15 12:36:10  Slice ID  4 : MAE = 0.7422, RMSE = 1.8173, NMAE = 0.8053, MRE = 0.7022, NPRE = 3.7577\r\n",
      "\r\n",
      "2023-01-15 12:36:10  \t实验 1 模型 5 开始分片训练\r\n",
      "2023-01-15 12:36:21  Epoch 10 : MAE : 0.7990  RMSE : 1.9693  NMAE : 0.8669  MRE : 0.8165  NPRE : 5.1695\r\n",
      "2023-01-15 12:36:31  Epoch 20 : MAE : 0.7972  RMSE : 1.8790  NMAE : 0.8650  MRE : 0.7779  NPRE : 4.4714\r\n",
      "2023-01-15 12:36:41  Epoch 30 : MAE : 0.7667  RMSE : 1.7980  NMAE : 0.8319  MRE : 0.7686  NPRE : 4.3586\r\n",
      "2023-01-15 12:36:50  Epoch 40 : MAE : 0.7811  RMSE : 1.8232  NMAE : 0.8475  MRE : 0.7690  NPRE : 4.5598\r\n",
      "2023-01-15 12:37:00  Epoch 50 : MAE : 0.7745  RMSE : 1.8016  NMAE : 0.8404  MRE : 0.7977  NPRE : 4.7324\r\n",
      "2023-01-15 12:37:10  Epoch 60 : MAE : 0.7495  RMSE : 1.7783  NMAE : 0.8132  MRE : 0.7687  NPRE : 4.1271\r\n",
      "2023-01-15 12:37:10  Best epoch 52 : MAE : 0.7352  RMSE : 1.7882  NMAE : 0.7977  MRE : 0.7189  NPRE : 3.9869\r\n",
      "2023-01-15 12:37:10  实验 1 模型 5 training time = 19.79 s\r\n",
      "2023-01-15 12:37:10  Slice ID  5 : MAE = 0.7352, RMSE = 1.7882, NMAE = 0.7977, MRE = 0.7189, NPRE = 3.9869\r\n",
      "\r\n",
      "2023-01-15 12:37:11  \t实验 1 模型 6 开始分片训练\r\n",
      "2023-01-15 12:37:20  Epoch 10 : MAE : 0.8001  RMSE : 2.0062  NMAE : 0.8682  MRE : 0.7857  NPRE : 4.0403\r\n",
      "2023-01-15 12:37:31  Epoch 20 : MAE : 0.8044  RMSE : 1.8908  NMAE : 0.8728  MRE : 0.7836  NPRE : 4.8405\r\n",
      "2023-01-15 12:37:41  Epoch 30 : MAE : 0.7930  RMSE : 1.8335  NMAE : 0.8604  MRE : 0.7929  NPRE : 5.0705\r\n",
      "2023-01-15 12:37:53  Epoch 40 : MAE : 0.7973  RMSE : 1.8540  NMAE : 0.8651  MRE : 0.7615  NPRE : 4.6803\r\n",
      "2023-01-15 12:38:04  Epoch 50 : MAE : 0.7691  RMSE : 1.8105  NMAE : 0.8345  MRE : 0.7770  NPRE : 4.2738\r\n",
      "2023-01-15 12:38:16  Epoch 60 : MAE : 0.7672  RMSE : 1.7972  NMAE : 0.8325  MRE : 0.7864  NPRE : 4.3870\r\n",
      "2023-01-15 12:38:16  Best epoch 39 : MAE : 0.7655  RMSE : 1.8005  NMAE : 0.8306  MRE : 0.7718  NPRE : 4.4834\r\n",
      "2023-01-15 12:38:16  实验 1 模型 6 training time = 14.59 s\r\n",
      "2023-01-15 12:38:16  Slice ID  6 : MAE = 0.7655, RMSE = 1.8005, NMAE = 0.8306, MRE = 0.7718, NPRE = 4.4834\r\n",
      "\r\n",
      "2023-01-15 12:38:16  \t实验 1 模型 7 开始分片训练\r\n",
      "2023-01-15 12:38:27  Epoch 10 : MAE : 0.8405  RMSE : 2.0077  NMAE : 0.9120  MRE : 0.8333  NPRE : 5.5478\r\n",
      "2023-01-15 12:38:37  Epoch 20 : MAE : 0.8357  RMSE : 1.9219  NMAE : 0.9067  MRE : 0.8361  NPRE : 5.5887\r\n",
      "2023-01-15 12:38:49  Epoch 30 : MAE : 0.8371  RMSE : 1.8731  NMAE : 0.9083  MRE : 0.8767  NPRE : 5.8183\r\n",
      "2023-01-15 12:39:01  Epoch 40 : MAE : 0.8124  RMSE : 1.8549  NMAE : 0.8815  MRE : 0.8177  NPRE : 5.0981\r\n",
      "2023-01-15 12:39:10  Epoch 50 : MAE : 0.8026  RMSE : 1.8588  NMAE : 0.8708  MRE : 0.7945  NPRE : 4.8639\r\n",
      "2023-01-15 12:39:19  Epoch 60 : MAE : 0.8127  RMSE : 1.8611  NMAE : 0.8818  MRE : 0.8289  NPRE : 5.0914\r\n",
      "2023-01-15 12:39:19  Best epoch 27 : MAE : 0.7969  RMSE : 1.8609  NMAE : 0.8647  MRE : 0.7903  NPRE : 4.8321\r\n",
      "2023-01-15 12:39:19  实验 1 模型 7 training time = 10.66 s\r\n",
      "2023-01-15 12:39:19  Slice ID  7 : MAE = 0.7969, RMSE = 1.8609, NMAE = 0.8647, MRE = 0.7903, NPRE = 4.8321\r\n",
      "\r\n",
      "2023-01-15 12:39:20  \t实验 1 模型 8 开始分片训练\r\n",
      "2023-01-15 12:39:29  Epoch 10 : MAE : 0.7798  RMSE : 2.0009  NMAE : 0.8461  MRE : 0.7394  NPRE : 3.8139\r\n",
      "2023-01-15 12:39:40  Epoch 20 : MAE : 0.7455  RMSE : 1.8637  NMAE : 0.8089  MRE : 0.6992  NPRE : 3.7044\r\n",
      "2023-01-15 12:39:50  Epoch 30 : MAE : 0.7433  RMSE : 1.8307  NMAE : 0.8065  MRE : 0.6956  NPRE : 3.6198\r\n",
      "2023-01-15 12:40:00  Epoch 40 : MAE : 0.7474  RMSE : 1.8099  NMAE : 0.8110  MRE : 0.7224  NPRE : 3.9790\r\n",
      "2023-01-15 12:40:10  Epoch 50 : MAE : 0.7385  RMSE : 1.7982  NMAE : 0.8012  MRE : 0.7353  NPRE : 3.8086\r\n",
      "2023-01-15 12:40:19  Epoch 60 : MAE : 0.7466  RMSE : 1.8065  NMAE : 0.8101  MRE : 0.7691  NPRE : 3.8905\r\n",
      "2023-01-15 12:40:19  Best epoch 36 : MAE : 0.7173  RMSE : 1.8008  NMAE : 0.7782  MRE : 0.6634  NPRE : 3.2435\r\n",
      "2023-01-15 12:40:19  实验 1 模型 8 training time = 13.88 s\r\n",
      "2023-01-15 12:40:19  Slice ID  8 : MAE = 0.7173, RMSE = 1.8008, NMAE = 0.7782, MRE = 0.6634, NPRE = 3.2435\r\n",
      "\r\n",
      "2023-01-15 12:40:19  \t实验 1 模型 9 开始分片训练\r\n",
      "2023-01-15 12:40:29  Epoch 10 : MAE : 0.7823  RMSE : 2.0373  NMAE : 0.8488  MRE : 0.7415  NPRE : 3.3374\r\n",
      "2023-01-15 12:40:39  Epoch 20 : MAE : 0.7408  RMSE : 1.9123  NMAE : 0.8038  MRE : 0.6819  NPRE : 3.3455\r\n",
      "2023-01-15 12:40:48  Epoch 30 : MAE : 0.7373  RMSE : 1.8380  NMAE : 0.8000  MRE : 0.7200  NPRE : 3.3636\r\n",
      "2023-01-15 12:40:57  Epoch 40 : MAE : 0.7224  RMSE : 1.8170  NMAE : 0.7838  MRE : 0.6999  NPRE : 3.1641\r\n",
      "2023-01-15 12:41:06  Epoch 50 : MAE : 0.7499  RMSE : 1.8562  NMAE : 0.8137  MRE : 0.7466  NPRE : 3.0822\r\n",
      "2023-01-15 12:41:15  Epoch 60 : MAE : 0.7207  RMSE : 1.7954  NMAE : 0.7820  MRE : 0.7325  NPRE : 3.3396\r\n",
      "2023-01-15 12:41:15  Best epoch 49 : MAE : 0.7123  RMSE : 1.8016  NMAE : 0.7728  MRE : 0.6865  NPRE : 3.1260\r\n",
      "2023-01-15 12:41:15  实验 1 模型 9 training time = 15.67 s\r\n",
      "2023-01-15 12:41:15  Slice ID  9 : MAE = 0.7123, RMSE = 1.8016, NMAE = 0.7728, MRE = 0.6865, NPRE = 3.1260\r\n",
      "\r\n",
      "2023-01-15 12:41:15  \t实验 1 模型 10 开始分片训练\r\n",
      "2023-01-15 12:41:24  Epoch 10 : MAE : 0.8185  RMSE : 2.0101  NMAE : 0.8881  MRE : 0.8119  NPRE : 5.2361\r\n",
      "2023-01-15 12:41:33  Epoch 20 : MAE : 0.7843  RMSE : 1.9161  NMAE : 0.8510  MRE : 0.7570  NPRE : 4.5606\r\n",
      "2023-01-15 12:41:42  Epoch 30 : MAE : 0.7895  RMSE : 1.8705  NMAE : 0.8566  MRE : 0.7516  NPRE : 4.5662\r\n",
      "2023-01-15 12:41:51  Epoch 40 : MAE : 0.7786  RMSE : 1.8720  NMAE : 0.8448  MRE : 0.7523  NPRE : 4.2273\r\n",
      "2023-01-15 12:42:01  Epoch 50 : MAE : 0.7726  RMSE : 1.8445  NMAE : 0.8382  MRE : 0.7951  NPRE : 4.4108\r\n",
      "2023-01-15 12:42:10  Epoch 60 : MAE : 0.7786  RMSE : 1.8734  NMAE : 0.8448  MRE : 0.7854  NPRE : 4.1846\r\n",
      "2023-01-15 12:42:10  Best epoch 53 : MAE : 0.7417  RMSE : 1.8306  NMAE : 0.8048  MRE : 0.7421  NPRE : 3.5426\r\n",
      "2023-01-15 12:42:10  实验 1 模型 10 training time = 15.46 s\r\n",
      "2023-01-15 12:42:10  Slice ID  10 : MAE = 0.7417, RMSE = 1.8306, NMAE = 0.8048, MRE = 0.7421, NPRE = 3.5426\r\n",
      "\r\n",
      "2023-01-15 12:42:10  \t所有切片模型训练完毕\r\n",
      "2023-01-15 12:42:10  \t开始训练聚合模型\r\n",
      "2023-01-15 12:42:16  Epoch  1 : MAE : 0.6469  RMSE : 1.8103  NMAE : 0.7019  MRE : 0.5377  NPRE : 2.6738\r\n",
      "2023-01-15 12:42:21  Epoch  2 : MAE : 0.6415  RMSE : 1.7698  NMAE : 0.6960  MRE : 0.5535  NPRE : 3.1749\r\n",
      "2023-01-15 12:42:26  Epoch  3 : MAE : 0.6257  RMSE : 1.7338  NMAE : 0.6790  MRE : 0.5303  NPRE : 2.6752\r\n",
      "2023-01-15 12:42:31  Epoch  4 : MAE : 0.6232  RMSE : 1.7218  NMAE : 0.6762  MRE : 0.5415  NPRE : 2.8834\r\n",
      "2023-01-15 12:42:36  Epoch  5 : MAE : 0.6123  RMSE : 1.7027  NMAE : 0.6643  MRE : 0.5328  NPRE : 2.9337\r\n",
      "2023-01-15 12:42:36  Best epoch  5 : MAE : 0.6123  RMSE : 1.7027  NMAE : 0.6643  MRE : 0.5328  NPRE : 2.9337\r\n",
      "2023-01-15 12:42:36  \t实验 1 聚合模型训练完毕\r\n",
      "2023-01-15 12:42:46  Result : MAE : 0.6005  RMSE : 1.6769  NMAE : 0.6619  MRE : 0.5287  NPRE : 2.9185\r\n",
      "2023-01-15 12:42:46  \t实验 1 : Aggregators training time = 22.49 s\r\n",
      "\r\n",
      "2023-01-15 12:42:46  \t聚合模型训练完毕\r\n",
      "2023-01-15 12:42:46  Round 1 : MAE = 0.6005, RMSE = 1.6769, NMAE = 0.6619, MRE = 0.5287, NPRE = 2.9185\r\n",
      "------------------------------------------------------------------------------------------------------------------------\r\n",
      "2023-01-15 12:42:46  Dataset : rt     interaction : NeuCF\r\n",
      "2023-01-15 12:42:46  Density : 10.00%, slice_epochs : 60, agg_epochs : 5\r\n",
      "2023-01-15 12:42:46  Part_type : 5,    slices : 10,       devices : gpu\r\n",
      "\r\n",
      "\r\n",
      "2023-01-15 12:42:46  Density 10.00% : MAE = 0.601, RMSE = 1.677, NMAE = 0.662, MRE = 0.529, NPRE = 2.919\r\n",
      "\r\n",
      "2023-01-15 12:42:46  Experiment success!\r\n"
     ]
    }
   ],
   "source": [
    "!python Experiment.py --dataset rt --interaction NeuCF --rounds 1 --agg_epochs 5 --density 0.10 --part_type 5 --agg_type mean --debug  1"
   ],
   "metadata": {
    "collapsed": false
   }
  },
  {
   "cell_type": "code",
   "execution_count": 2,
   "outputs": [
    {
     "name": "stdout",
     "output_type": "stream",
     "text": [
      "2023-01-15 12:42:47  Namespace(agg_epochs=10, agg_function=3, agg_type='mean', balance=0, batch_size=128, beta=1, cluster='deep', cuda=True, dataset='rt', debug=1, density=0.1, devices='gpu', dimension=32, dir='../Dataset/mnist', dropout=0.1, epoch=1500, hidden_dims=[64, 64, 100], input_dim=128, interaction='CSMF', kmeans_type=1, lamda=1, latent_dim=10, log_interval=100, lr=0.0001, n_classes=10, n_clusters=10, n_jobs=1, node2vec=0, node2vec_batchsize=32, node2vec_dim=128, node2vec_epochs=20, node2vec_length=8, node2vec_walk=15, node2vec_windows=3, num_layers=2, order=2, part_iter=50, part_type=5, path='./datasets/data/WSDREAM/', pre_epoch=1000, pretrain=True, processed=0, retrain=0, rounds=1, save_model=1, slice_epochs=60, slices=10, subagg=1, verbose=10, wd=0.0005)\r\n",
      "2023-01-15 12:42:47  Experiment start!\r\n",
      "2023-01-15 12:42:47  Dataset : rt     interaction : CSMF\r\n",
      "2023-01-15 12:42:47  Density : 10.00%, slice_epochs : 20, agg_epochs : 10\r\n",
      "2023-01-15 12:42:47  Part_type : 5,    slices : 10,       devices : gpu\r\n",
      "\r\n",
      "2023-01-15 12:42:47  Round 1 experiment start!\r\n",
      "2023-01-15 12:42:47  \t原始数据集读取完毕\r\n",
      "2023-01-15 12:42:47  \t图嵌入均衡切割\r\n",
      "Computing transition probabilities: 100%|███| 507/507 [00:00<00:00, 5748.29it/s]\r\n",
      "Generating walks (CPU: 1): 100%|█████████████████| 4/4 [00:00<00:00, 129.18it/s]\r\n",
      "Generating walks (CPU: 2): 100%|█████████████████| 4/4 [00:00<00:00, 129.11it/s]\r\n",
      "Generating walks (CPU: 3): 100%|█████████████████| 4/4 [00:00<00:00, 131.30it/s]\r\n",
      "Generating walks (CPU: 4): 100%|█████████████████| 3/3 [00:00<00:00, 134.29it/s]\r\n",
      "========== Start pretraining ==========\r\n",
      "100%|██████████████████████████████████████| 1000/1000 [00:04<00:00, 247.69it/s]\r\n",
      "100%|███████████████████████████████████████| 1500/1500 [01:17<00:00, 19.27it/s]\r\n",
      "========== End pretraining ==========\r\n",
      "--------------------------------------------------------------------------------\r\n",
      "2023-01-15 12:44:13  \tbalance操作结束！\r\n",
      "18 25 35 37 38 39 31 45 38 33 \r\n",
      "2023-01-15 12:44:13  \tNode2Vec 基于用户聚类均衡切割完毕\r\n",
      "2023-01-15 12:44:13  \t分切数据执行完毕\r\n",
      "2023-01-15 12:44:13  \t模型加载完毕\r\n",
      "2023-01-15 12:44:13  \t准备训练切片模型\r\n",
      "2023-01-15 12:44:14  \t实验 1 模型 1 开始分片训练\r\n",
      "2023-01-15 12:44:26  Epoch 10 : MAE : 0.7963  RMSE : 1.9823  NMAE : 0.8849  MRE : 0.7798  NPRE : 5.1346\r\n",
      "2023-01-15 12:44:38  Epoch 20 : MAE : 0.9767  RMSE : 2.0578  NMAE : 1.0853  MRE : 0.8814  NPRE : 7.5600\r\n",
      "2023-01-15 12:44:38  Best epoch  6 : MAE : 0.7832  RMSE : 1.9860  NMAE : 0.8703  MRE : 0.7866  NPRE : 5.0251\r\n",
      "2023-01-15 12:44:38  实验 1 模型 1 training time = 1.16 s\r\n",
      "2023-01-15 12:44:38  Slice ID  1 : MAE = 0.7832, RMSE = 1.9860, NMAE = 0.8703, MRE = 0.7866, NPRE = 5.0251\r\n",
      "\r\n",
      "2023-01-15 12:44:38  \t实验 1 模型 2 开始分片训练\r\n",
      "2023-01-15 12:44:51  Epoch 10 : MAE : 0.8722  RMSE : 2.0173  NMAE : 0.9693  MRE : 0.8023  NPRE : 5.9952\r\n",
      "2023-01-15 12:45:04  Epoch 20 : MAE : 1.0044  RMSE : 2.0819  NMAE : 1.1161  MRE : 0.8605  NPRE : 7.8135\r\n",
      "2023-01-15 12:45:04  Best epoch  5 : MAE : 0.7679  RMSE : 2.0022  NMAE : 0.8533  MRE : 0.7206  NPRE : 4.4069\r\n",
      "2023-01-15 12:45:04  实验 1 模型 2 training time = 1.37 s\r\n",
      "2023-01-15 12:45:04  Slice ID  2 : MAE = 0.7679, RMSE = 2.0022, NMAE = 0.8533, MRE = 0.7206, NPRE = 4.4069\r\n",
      "\r\n",
      "2023-01-15 12:45:05  \t实验 1 模型 3 开始分片训练\r\n",
      "2023-01-15 12:45:19  Epoch 10 : MAE : 0.7950  RMSE : 1.9930  NMAE : 0.8834  MRE : 0.6911  NPRE : 4.3847\r\n",
      "2023-01-15 12:45:33  Epoch 20 : MAE : 0.9024  RMSE : 1.9836  NMAE : 1.0027  MRE : 0.7410  NPRE : 5.9171\r\n",
      "2023-01-15 12:45:33  Best epoch  5 : MAE : 0.7477  RMSE : 2.0013  NMAE : 0.8309  MRE : 0.6734  NPRE : 3.8298\r\n",
      "2023-01-15 12:45:33  实验 1 模型 3 training time = 2.01 s\r\n",
      "2023-01-15 12:45:33  Slice ID  3 : MAE = 0.7477, RMSE = 2.0013, NMAE = 0.8309, MRE = 0.6734, NPRE = 3.8298\r\n",
      "\r\n",
      "2023-01-15 12:45:33  \t实验 1 模型 4 开始分片训练\r\n",
      "2023-01-15 12:45:48  Epoch 10 : MAE : 0.7908  RMSE : 1.9805  NMAE : 0.8788  MRE : 0.6992  NPRE : 4.2306\r\n",
      "2023-01-15 12:46:02  Epoch 20 : MAE : 0.9085  RMSE : 1.9736  NMAE : 1.0096  MRE : 0.7584  NPRE : 5.9711\r\n",
      "2023-01-15 12:46:02  Best epoch  5 : MAE : 0.7472  RMSE : 1.9974  NMAE : 0.8303  MRE : 0.6884  NPRE : 3.9141\r\n",
      "2023-01-15 12:46:02  实验 1 模型 4 training time = 2.04 s\r\n",
      "2023-01-15 12:46:02  Slice ID  4 : MAE = 0.7472, RMSE = 1.9974, NMAE = 0.8303, MRE = 0.6884, NPRE = 3.9141\r\n",
      "\r\n",
      "2023-01-15 12:46:02  \t实验 1 模型 5 开始分片训练\r\n",
      "2023-01-15 12:46:17  Epoch 10 : MAE : 0.7947  RMSE : 1.9935  NMAE : 0.8831  MRE : 0.7126  NPRE : 4.3086\r\n",
      "2023-01-15 12:46:31  Epoch 20 : MAE : 0.8958  RMSE : 1.9947  NMAE : 0.9954  MRE : 0.7625  NPRE : 5.6779\r\n",
      "2023-01-15 12:46:31  Best epoch  5 : MAE : 0.7468  RMSE : 2.0032  NMAE : 0.8299  MRE : 0.6848  NPRE : 3.9174\r\n",
      "2023-01-15 12:46:31  实验 1 模型 5 training time = 2.00 s\r\n",
      "2023-01-15 12:46:31  Slice ID  5 : MAE = 0.7468, RMSE = 2.0032, NMAE = 0.8299, MRE = 0.6848, NPRE = 3.9174\r\n",
      "\r\n",
      "2023-01-15 12:46:32  \t实验 1 模型 6 开始分片训练\r\n",
      "2023-01-15 12:46:46  Epoch 10 : MAE : 0.7296  RMSE : 1.9848  NMAE : 0.8107  MRE : 0.6213  NPRE : 3.1690\r\n",
      "2023-01-15 12:47:02  Epoch 20 : MAE : 0.8046  RMSE : 1.8985  NMAE : 0.8941  MRE : 0.6710  NPRE : 4.1315\r\n",
      "2023-01-15 12:47:02  Best epoch  8 : MAE : 0.7263  RMSE : 1.9938  NMAE : 0.8071  MRE : 0.6219  NPRE : 3.2004\r\n",
      "2023-01-15 12:47:02  实验 1 模型 6 training time = 3.48 s\r\n",
      "2023-01-15 12:47:02  Slice ID  6 : MAE = 0.7263, RMSE = 1.9938, NMAE = 0.8071, MRE = 0.6219, NPRE = 3.2004\r\n",
      "\r\n",
      "2023-01-15 12:47:02  \t实验 1 模型 7 开始分片训练\r\n",
      "2023-01-15 12:47:16  Epoch 10 : MAE : 0.8027  RMSE : 1.9836  NMAE : 0.8920  MRE : 0.7118  NPRE : 4.6376\r\n",
      "2023-01-15 12:47:29  Epoch 20 : MAE : 0.8987  RMSE : 2.0128  NMAE : 0.9986  MRE : 0.7629  NPRE : 5.8813\r\n",
      "2023-01-15 12:47:29  Best epoch  5 : MAE : 0.7530  RMSE : 1.9932  NMAE : 0.8367  MRE : 0.7032  NPRE : 4.0982\r\n",
      "2023-01-15 12:47:29  实验 1 模型 7 training time = 1.83 s\r\n",
      "2023-01-15 12:47:29  Slice ID  7 : MAE = 0.7530, RMSE = 1.9932, NMAE = 0.8367, MRE = 0.7032, NPRE = 4.0982\r\n",
      "\r\n",
      "2023-01-15 12:47:30  \t实验 1 模型 8 开始分片训练\r\n",
      "2023-01-15 12:47:45  Epoch 10 : MAE : 0.8203  RMSE : 1.9898  NMAE : 0.9116  MRE : 0.6919  NPRE : 4.5092\r\n",
      "2023-01-15 12:48:01  Epoch 20 : MAE : 0.9427  RMSE : 2.0130  NMAE : 1.0475  MRE : 0.7324  NPRE : 6.0206\r\n",
      "2023-01-15 12:48:01  Best epoch  4 : MAE : 0.7382  RMSE : 2.0060  NMAE : 0.8203  MRE : 0.6532  NPRE : 3.6619\r\n",
      "2023-01-15 12:48:01  实验 1 模型 8 training time = 1.97 s\r\n",
      "2023-01-15 12:48:01  Slice ID  8 : MAE = 0.7382, RMSE = 2.0060, NMAE = 0.8203, MRE = 0.6532, NPRE = 3.6619\r\n",
      "\r\n",
      "2023-01-15 12:48:01  \t实验 1 模型 9 开始分片训练\r\n",
      "2023-01-15 12:48:15  Epoch 10 : MAE : 0.8277  RMSE : 1.9960  NMAE : 0.9198  MRE : 0.7542  NPRE : 4.8243\r\n",
      "2023-01-15 12:48:30  Epoch 20 : MAE : 0.9625  RMSE : 2.0121  NMAE : 1.0696  MRE : 0.8222  NPRE : 6.6215\r\n",
      "2023-01-15 12:48:30  Best epoch  4 : MAE : 0.7449  RMSE : 2.0032  NMAE : 0.8277  MRE : 0.6867  NPRE : 3.9025\r\n",
      "2023-01-15 12:48:30  实验 1 模型 9 training time = 1.78 s\r\n",
      "2023-01-15 12:48:30  Slice ID  9 : MAE = 0.7449, RMSE = 2.0032, NMAE = 0.8277, MRE = 0.6867, NPRE = 3.9025\r\n",
      "\r\n",
      "2023-01-15 12:48:30  \t实验 1 模型 10 开始分片训练\r\n",
      "2023-01-15 12:48:44  Epoch 10 : MAE : 0.8917  RMSE : 2.0249  NMAE : 0.9909  MRE : 0.8033  NPRE : 5.6985\r\n",
      "2023-01-15 12:48:58  Epoch 20 : MAE : 1.0323  RMSE : 2.1117  NMAE : 1.1471  MRE : 0.8596  NPRE : 7.6660\r\n",
      "2023-01-15 12:48:58  Best epoch  5 : MAE : 0.7388  RMSE : 2.0043  NMAE : 0.8209  MRE : 0.6777  NPRE : 3.6103\r\n",
      "2023-01-15 12:48:58  实验 1 模型 10 training time = 1.79 s\r\n",
      "2023-01-15 12:48:58  Slice ID  10 : MAE = 0.7388, RMSE = 2.0043, NMAE = 0.8209, MRE = 0.6777, NPRE = 3.6103\r\n",
      "\r\n",
      "2023-01-15 12:48:58  \t所有切片模型训练完毕\r\n",
      "2023-01-15 12:48:58  \t开始训练聚合模型\r\n",
      "2023-01-15 12:49:02  Epoch  1 : MAE : 0.7408  RMSE : 2.0363  NMAE : 0.8232  MRE : 0.6531  NPRE : 3.1578\r\n",
      "2023-01-15 12:49:06  Epoch  2 : MAE : 0.7412  RMSE : 2.0325  NMAE : 0.8236  MRE : 0.6621  NPRE : 3.3214\r\n",
      "2023-01-15 12:49:10  Epoch  3 : MAE : 0.7408  RMSE : 2.0374  NMAE : 0.8232  MRE : 0.6506  NPRE : 3.1102\r\n",
      "2023-01-15 12:49:15  Epoch  4 : MAE : 0.7408  RMSE : 2.0371  NMAE : 0.8231  MRE : 0.6504  NPRE : 3.1113\r\n",
      "2023-01-15 12:49:19  Epoch  5 : MAE : 0.7409  RMSE : 2.0372  NMAE : 0.8233  MRE : 0.6506  NPRE : 3.1230\r\n",
      "2023-01-15 12:49:24  Epoch  6 : MAE : 0.7409  RMSE : 2.0382  NMAE : 0.8233  MRE : 0.6485  NPRE : 3.0654\r\n",
      "2023-01-15 12:49:27  Epoch  7 : MAE : 0.7413  RMSE : 2.0308  NMAE : 0.8237  MRE : 0.6664  NPRE : 3.3932\r\n",
      "2023-01-15 12:49:30  Epoch  8 : MAE : 0.7415  RMSE : 2.0293  NMAE : 0.8240  MRE : 0.6686  NPRE : 3.4530\r\n",
      "2023-01-15 12:49:33  Epoch  9 : MAE : 0.7407  RMSE : 2.0355  NMAE : 0.8231  MRE : 0.6548  NPRE : 3.1819\r\n",
      "2023-01-15 12:49:38  Epoch 10 : MAE : 0.7412  RMSE : 2.0331  NMAE : 0.8237  MRE : 0.6625  NPRE : 3.3260\r\n",
      "2023-01-15 12:49:38  Best epoch  9 : MAE : 0.7407  RMSE : 2.0355  NMAE : 0.8231  MRE : 0.6548  NPRE : 3.1819\r\n",
      "2023-01-15 12:49:38  \t实验 1 聚合模型训练完毕\r\n",
      "2023-01-15 12:49:47  Result : MAE : 0.7488  RMSE : 2.0548  NMAE : 0.8243  MRE : 0.6545  NPRE : 3.1491\r\n",
      "2023-01-15 12:49:47  \t实验 1 : Aggregators training time = 28.55 s\r\n",
      "\r\n",
      "2023-01-15 12:49:47  \t聚合模型训练完毕\r\n",
      "2023-01-15 12:49:47  Round 1 : MAE = 0.7488, RMSE = 2.0548, NMAE = 0.8243, MRE = 0.6545, NPRE = 3.1491\r\n",
      "------------------------------------------------------------------------------------------------------------------------\r\n",
      "2023-01-15 12:49:47  Dataset : rt     interaction : CSMF\r\n",
      "2023-01-15 12:49:47  Density : 10.00%, slice_epochs : 20, agg_epochs : 10\r\n",
      "2023-01-15 12:49:47  Part_type : 5,    slices : 10,       devices : gpu\r\n",
      "\r\n",
      "\r\n",
      "2023-01-15 12:49:47  Density 10.00% : MAE = 0.749, RMSE = 2.055, NMAE = 0.824, MRE = 0.655, NPRE = 3.149\r\n",
      "\r\n",
      "2023-01-15 12:49:47  Experiment success!\r\n"
     ]
    }
   ],
   "source": [
    "!python Experiment.py --dataset rt --interaction CSMF --rounds 1 --agg_epochs 10 --density 0.10 --part_type 5 --agg_type mean --debug  1"
   ],
   "metadata": {
    "collapsed": false
   }
  },
  {
   "cell_type": "code",
   "execution_count": 3,
   "outputs": [
    {
     "name": "stdout",
     "output_type": "stream",
     "text": [
      "2023-01-15 12:49:48  Namespace(agg_epochs=10, agg_function=3, agg_type='mean', balance=0, batch_size=128, beta=1, cluster='deep', cuda=True, dataset='rt', debug=1, density=0.1, devices='gpu', dimension=32, dir='../Dataset/mnist', dropout=0.1, epoch=1500, hidden_dims=[64, 64, 100], input_dim=128, interaction='Pure_Mf', kmeans_type=1, lamda=1, latent_dim=10, log_interval=100, lr=0.0001, n_classes=10, n_clusters=10, n_jobs=1, node2vec=0, node2vec_batchsize=32, node2vec_dim=128, node2vec_epochs=20, node2vec_length=8, node2vec_walk=15, node2vec_windows=3, num_layers=2, order=2, part_iter=50, part_type=5, path='./datasets/data/WSDREAM/', pre_epoch=1000, pretrain=True, processed=0, retrain=0, rounds=1, save_model=1, slice_epochs=60, slices=10, subagg=1, verbose=10, wd=0.0005)\r\n",
      "2023-01-15 12:49:48  Experiment start!\r\n",
      "2023-01-15 12:49:48  Dataset : rt     interaction : Pure_Mf\r\n",
      "2023-01-15 12:49:48  Density : 10.00%, slice_epochs : 60, agg_epochs : 10\r\n",
      "2023-01-15 12:49:48  Part_type : 5,    slices : 10,       devices : gpu\r\n",
      "\r\n",
      "2023-01-15 12:49:48  Round 1 experiment start!\r\n",
      "2023-01-15 12:49:48  \t原始数据集读取完毕\r\n",
      "2023-01-15 12:49:48  \t图嵌入均衡切割\r\n",
      "Computing transition probabilities: 100%|███| 507/507 [00:00<00:00, 5773.23it/s]\r\n",
      "Generating walks (CPU: 1): 100%|█████████████████| 4/4 [00:00<00:00, 129.42it/s]\r\n",
      "Generating walks (CPU: 2): 100%|█████████████████| 4/4 [00:00<00:00, 129.54it/s]\r\n",
      "Generating walks (CPU: 3): 100%|█████████████████| 4/4 [00:00<00:00, 127.16it/s]\r\n",
      "Generating walks (CPU: 4): 100%|█████████████████| 3/3 [00:00<00:00, 136.86it/s]\r\n",
      "========== Start pretraining ==========\r\n",
      "100%|██████████████████████████████████████| 1000/1000 [00:03<00:00, 292.12it/s]\r\n",
      "100%|███████████████████████████████████████| 1500/1500 [01:14<00:00, 20.15it/s]\r\n",
      "========== End pretraining ==========\r\n",
      "--------------------------------------------------------------------------------\r\n",
      "2023-01-15 12:51:11  \tbalance操作结束！\r\n",
      "32 39 35 34 36 26 31 38 36 32 \r\n",
      "2023-01-15 12:51:11  \tNode2Vec 基于用户聚类均衡切割完毕\r\n",
      "2023-01-15 12:51:11  \t分切数据执行完毕\r\n",
      "2023-01-15 12:51:11  \t模型加载完毕\r\n",
      "2023-01-15 12:51:11  \t准备训练切片模型\r\n",
      "2023-01-15 12:51:11  \t实验 1 模型 1 开始分片训练\r\n",
      "2023-01-15 12:51:19  Epoch 10 : MAE : 0.7629  RMSE : 2.0416  NMAE : 0.8420  MRE : 0.6896  NPRE : 3.2144\r\n",
      "2023-01-15 12:51:27  Epoch 20 : MAE : 0.7595  RMSE : 2.0372  NMAE : 0.8384  MRE : 0.6885  NPRE : 3.3829\r\n",
      "2023-01-15 12:51:35  Epoch 30 : MAE : 0.7646  RMSE : 2.0336  NMAE : 0.8440  MRE : 0.7089  NPRE : 3.6162\r\n",
      "2023-01-15 12:51:43  Epoch 40 : MAE : 0.7848  RMSE : 2.0396  NMAE : 0.8662  MRE : 0.7685  NPRE : 3.5975\r\n",
      "2023-01-15 12:51:51  Epoch 50 : MAE : 0.8029  RMSE : 2.0375  NMAE : 0.8862  MRE : 0.8407  NPRE : 4.0091\r\n",
      "2023-01-15 12:51:59  Epoch 60 : MAE : 0.8374  RMSE : 2.0325  NMAE : 0.9243  MRE : 0.9274  NPRE : 4.8199\r\n",
      "2023-01-15 12:51:59  Best epoch  5 : MAE : 0.7569  RMSE : 2.0411  NMAE : 0.8354  MRE : 0.6742  NPRE : 3.1595\r\n",
      "2023-01-15 12:51:59  实验 1 模型 1 training time = 1.15 s\r\n",
      "2023-01-15 12:51:59  Slice ID  1 : MAE = 0.7569, RMSE = 2.0411, NMAE = 0.8354, MRE = 0.6742, NPRE = 3.1595\r\n",
      "\r\n",
      "2023-01-15 12:51:59  \t实验 1 模型 2 开始分片训练\r\n",
      "2023-01-15 12:52:07  Epoch 10 : MAE : 0.7609  RMSE : 2.0476  NMAE : 0.8399  MRE : 0.6745  NPRE : 2.9240\r\n",
      "2023-01-15 12:52:16  Epoch 20 : MAE : 0.7645  RMSE : 2.0407  NMAE : 0.8438  MRE : 0.6977  NPRE : 3.2767\r\n",
      "2023-01-15 12:52:24  Epoch 30 : MAE : 0.7763  RMSE : 2.0423  NMAE : 0.8568  MRE : 0.7367  NPRE : 3.3473\r\n",
      "2023-01-15 12:52:32  Epoch 40 : MAE : 0.8039  RMSE : 2.0416  NMAE : 0.8873  MRE : 0.8380  NPRE : 3.8374\r\n",
      "2023-01-15 12:52:40  Epoch 50 : MAE : 0.8487  RMSE : 2.0393  NMAE : 0.9368  MRE : 0.9560  NPRE : 4.7713\r\n",
      "2023-01-15 12:52:49  Epoch 60 : MAE : 1.0177  RMSE : 2.0822  NMAE : 1.1233  MRE : 1.0000  NPRE : 7.9865\r\n",
      "2023-01-15 12:52:49  Best epoch  2 : MAE : 0.7549  RMSE : 2.0407  NMAE : 0.8333  MRE : 0.6721  NPRE : 3.1924\r\n",
      "2023-01-15 12:52:49  实验 1 模型 2 training time = 0.51 s\r\n",
      "2023-01-15 12:52:49  Slice ID  2 : MAE = 0.7549, RMSE = 2.0407, NMAE = 0.8333, MRE = 0.6721, NPRE = 3.1924\r\n",
      "\r\n",
      "2023-01-15 12:52:49  \t实验 1 模型 3 开始分片训练\r\n",
      "2023-01-15 12:52:57  Epoch 10 : MAE : 0.7603  RMSE : 2.0407  NMAE : 0.8392  MRE : 0.6846  NPRE : 3.2194\r\n",
      "2023-01-15 12:53:04  Epoch 20 : MAE : 0.7588  RMSE : 2.0325  NMAE : 0.8375  MRE : 0.6961  NPRE : 3.5942\r\n",
      "2023-01-15 12:53:12  Epoch 30 : MAE : 0.7721  RMSE : 2.0292  NMAE : 0.8522  MRE : 0.7353  NPRE : 3.8575\r\n",
      "2023-01-15 12:53:21  Epoch 40 : MAE : 0.7817  RMSE : 2.0272  NMAE : 0.8628  MRE : 0.7661  NPRE : 4.1334\r\n",
      "2023-01-15 12:53:29  Epoch 50 : MAE : 0.8059  RMSE : 2.0343  NMAE : 0.8895  MRE : 0.8431  NPRE : 4.1863\r\n",
      "2023-01-15 12:53:37  Epoch 60 : MAE : 0.8512  RMSE : 2.0350  NMAE : 0.9396  MRE : 0.9560  NPRE : 4.9993\r\n",
      "2023-01-15 12:53:37  Best epoch 19 : MAE : 0.7550  RMSE : 2.0372  NMAE : 0.8333  MRE : 0.6781  NPRE : 3.3433\r\n",
      "2023-01-15 12:53:37  实验 1 模型 3 training time = 3.92 s\r\n",
      "2023-01-15 12:53:37  Slice ID  3 : MAE = 0.7550, RMSE = 2.0372, NMAE = 0.8333, MRE = 0.6781, NPRE = 3.3433\r\n",
      "\r\n",
      "2023-01-15 12:53:38  \t实验 1 模型 4 开始分片训练\r\n",
      "2023-01-15 12:53:45  Epoch 10 : MAE : 0.7608  RMSE : 2.0395  NMAE : 0.8397  MRE : 0.6880  NPRE : 3.2670\r\n",
      "2023-01-15 12:53:53  Epoch 20 : MAE : 0.7630  RMSE : 2.0359  NMAE : 0.8422  MRE : 0.6986  NPRE : 3.4711\r\n",
      "2023-01-15 12:54:01  Epoch 30 : MAE : 0.7664  RMSE : 2.0459  NMAE : 0.8459  MRE : 0.6956  NPRE : 3.0348\r\n",
      "2023-01-15 12:54:09  Epoch 40 : MAE : 0.7829  RMSE : 2.0408  NMAE : 0.8642  MRE : 0.7583  NPRE : 3.5011\r\n",
      "2023-01-15 12:54:17  Epoch 50 : MAE : 0.8188  RMSE : 2.0339  NMAE : 0.9037  MRE : 0.8813  NPRE : 4.4274\r\n",
      "2023-01-15 12:54:25  Epoch 60 : MAE : 0.9015  RMSE : 2.0419  NMAE : 0.9951  MRE : 1.0000  NPRE : 5.8417\r\n",
      "2023-01-15 12:54:25  Best epoch 11 : MAE : 0.7559  RMSE : 2.0419  NMAE : 0.8343  MRE : 0.6695  NPRE : 3.1102\r\n",
      "2023-01-15 12:54:25  实验 1 模型 4 training time = 2.32 s\r\n",
      "2023-01-15 12:54:25  Slice ID  4 : MAE = 0.7559, RMSE = 2.0419, NMAE = 0.8343, MRE = 0.6695, NPRE = 3.1102\r\n",
      "\r\n",
      "2023-01-15 12:54:25  \t实验 1 模型 5 开始分片训练\r\n",
      "2023-01-15 12:54:33  Epoch 10 : MAE : 0.7615  RMSE : 2.0315  NMAE : 0.8405  MRE : 0.7021  NPRE : 3.7168\r\n",
      "2023-01-15 12:54:41  Epoch 20 : MAE : 0.7647  RMSE : 2.0388  NMAE : 0.8440  MRE : 0.6999  NPRE : 3.3832\r\n",
      "2023-01-15 12:54:49  Epoch 30 : MAE : 0.7668  RMSE : 2.0371  NMAE : 0.8464  MRE : 0.7084  NPRE : 3.5096\r\n",
      "2023-01-15 12:54:57  Epoch 40 : MAE : 0.7748  RMSE : 2.0469  NMAE : 0.8552  MRE : 0.7256  NPRE : 3.1528\r\n",
      "2023-01-15 12:55:05  Epoch 50 : MAE : 0.8058  RMSE : 2.0355  NMAE : 0.8894  MRE : 0.8423  NPRE : 4.1870\r\n",
      "2023-01-15 12:55:13  Epoch 60 : MAE : 0.8400  RMSE : 2.0365  NMAE : 0.9271  MRE : 0.9333  NPRE : 4.7405\r\n",
      "2023-01-15 12:55:13  Best epoch 12 : MAE : 0.7592  RMSE : 2.0306  NMAE : 0.8380  MRE : 0.6999  NPRE : 3.6894\r\n",
      "2023-01-15 12:55:13  实验 1 模型 5 training time = 2.92 s\r\n",
      "2023-01-15 12:55:13  Slice ID  5 : MAE = 0.7592, RMSE = 2.0306, NMAE = 0.8380, MRE = 0.6999, NPRE = 3.6894\r\n",
      "\r\n",
      "2023-01-15 12:55:14  \t实验 1 模型 6 开始分片训练\r\n",
      "2023-01-15 12:55:21  Epoch 10 : MAE : 0.7582  RMSE : 2.0359  NMAE : 0.8369  MRE : 0.6872  NPRE : 3.3914\r\n",
      "2023-01-15 12:55:29  Epoch 20 : MAE : 0.7614  RMSE : 2.0387  NMAE : 0.8404  MRE : 0.6881  NPRE : 3.3457\r\n",
      "2023-01-15 12:55:38  Epoch 30 : MAE : 0.7627  RMSE : 2.0406  NMAE : 0.8419  MRE : 0.6912  NPRE : 3.2992\r\n",
      "2023-01-15 12:55:48  Epoch 40 : MAE : 0.7678  RMSE : 2.0454  NMAE : 0.8475  MRE : 0.7034  NPRE : 3.1564\r\n",
      "2023-01-15 12:55:56  Epoch 50 : MAE : 0.7689  RMSE : 2.0410  NMAE : 0.8487  MRE : 0.7136  NPRE : 3.3525\r\n",
      "2023-01-15 12:56:03  Epoch 60 : MAE : 0.7993  RMSE : 2.0437  NMAE : 0.8822  MRE : 0.8251  NPRE : 3.7733\r\n",
      "2023-01-15 12:56:03  Best epoch  2 : MAE : 0.7570  RMSE : 2.0350  NMAE : 0.8355  MRE : 0.6871  NPRE : 3.4629\r\n",
      "2023-01-15 12:56:03  实验 1 模型 6 training time = 0.35 s\r\n",
      "2023-01-15 12:56:03  Slice ID  6 : MAE = 0.7570, RMSE = 2.0350, NMAE = 0.8355, MRE = 0.6871, NPRE = 3.4629\r\n",
      "\r\n",
      "2023-01-15 12:56:03  \t实验 1 模型 7 开始分片训练\r\n",
      "2023-01-15 12:56:10  Epoch 10 : MAE : 0.7627  RMSE : 2.0322  NMAE : 0.8419  MRE : 0.7035  NPRE : 3.6337\r\n",
      "2023-01-15 12:56:17  Epoch 20 : MAE : 0.7640  RMSE : 2.0434  NMAE : 0.8432  MRE : 0.6925  NPRE : 3.1809\r\n",
      "2023-01-15 12:56:26  Epoch 30 : MAE : 0.7593  RMSE : 2.0366  NMAE : 0.8381  MRE : 0.6881  NPRE : 3.4012\r\n",
      "2023-01-15 12:56:36  Epoch 40 : MAE : 0.7845  RMSE : 2.0360  NMAE : 0.8659  MRE : 0.7707  NPRE : 3.7607\r\n",
      "2023-01-15 12:56:45  Epoch 50 : MAE : 0.8042  RMSE : 2.0347  NMAE : 0.8876  MRE : 0.8407  NPRE : 4.1396\r\n",
      "2023-01-15 12:56:55  Epoch 60 : MAE : 0.8236  RMSE : 2.0375  NMAE : 0.9091  MRE : 0.9037  NPRE : 4.3115\r\n",
      "2023-01-15 12:56:55  Best epoch  6 : MAE : 0.7570  RMSE : 2.0343  NMAE : 0.8355  MRE : 0.6871  NPRE : 3.5014\r\n",
      "2023-01-15 12:56:55  实验 1 模型 7 training time = 0.97 s\r\n",
      "2023-01-15 12:56:55  Slice ID  7 : MAE = 0.7570, RMSE = 2.0343, NMAE = 0.8355, MRE = 0.6871, NPRE = 3.5014\r\n",
      "\r\n",
      "2023-01-15 12:56:55  \t实验 1 模型 8 开始分片训练\r\n",
      "2023-01-15 12:57:07  Epoch 10 : MAE : 0.7593  RMSE : 2.0372  NMAE : 0.8381  MRE : 0.6884  NPRE : 3.3800\r\n",
      "2023-01-15 12:57:15  Epoch 20 : MAE : 0.7629  RMSE : 2.0357  NMAE : 0.8420  MRE : 0.6980  NPRE : 3.5494\r\n",
      "2023-01-15 12:57:23  Epoch 30 : MAE : 0.7681  RMSE : 2.0385  NMAE : 0.8478  MRE : 0.7079  NPRE : 3.4660\r\n",
      "2023-01-15 12:57:30  Epoch 40 : MAE : 0.7852  RMSE : 2.0397  NMAE : 0.8667  MRE : 0.7699  NPRE : 3.6263\r\n",
      "2023-01-15 12:57:38  Epoch 50 : MAE : 0.8394  RMSE : 2.0308  NMAE : 0.9265  MRE : 0.9258  NPRE : 4.9993\r\n",
      "2023-01-15 12:57:45  Epoch 60 : MAE : 0.9375  RMSE : 2.0460  NMAE : 1.0348  MRE : 1.0000  NPRE : 6.5960\r\n",
      "2023-01-15 12:57:45  Best epoch 13 : MAE : 0.7558  RMSE : 2.0386  NMAE : 0.8342  MRE : 0.6766  NPRE : 3.3222\r\n",
      "2023-01-15 12:57:45  实验 1 模型 8 training time = 5.81 s\r\n",
      "2023-01-15 12:57:45  Slice ID  8 : MAE = 0.7558, RMSE = 2.0386, NMAE = 0.8342, MRE = 0.6766, NPRE = 3.3222\r\n",
      "\r\n",
      "2023-01-15 12:57:46  \t实验 1 模型 9 开始分片训练\r\n",
      "2023-01-15 12:57:53  Epoch 10 : MAE : 0.7598  RMSE : 2.0404  NMAE : 0.8387  MRE : 0.6838  NPRE : 3.2313\r\n",
      "2023-01-15 12:58:01  Epoch 20 : MAE : 0.7623  RMSE : 2.0395  NMAE : 0.8414  MRE : 0.6892  NPRE : 3.3389\r\n",
      "2023-01-15 12:58:09  Epoch 30 : MAE : 0.7624  RMSE : 2.0408  NMAE : 0.8415  MRE : 0.6902  NPRE : 3.2249\r\n",
      "2023-01-15 12:58:16  Epoch 40 : MAE : 0.7621  RMSE : 2.0414  NMAE : 0.8412  MRE : 0.6867  NPRE : 3.2099\r\n",
      "2023-01-15 12:58:24  Epoch 50 : MAE : 0.7780  RMSE : 2.0342  NMAE : 0.8588  MRE : 0.7496  NPRE : 3.7639\r\n",
      "2023-01-15 12:58:31  Epoch 60 : MAE : 0.8049  RMSE : 2.0343  NMAE : 0.8885  MRE : 0.8439  NPRE : 4.1228\r\n",
      "2023-01-15 12:58:31  Best epoch  6 : MAE : 0.7573  RMSE : 2.0353  NMAE : 0.8359  MRE : 0.6862  NPRE : 3.4447\r\n",
      "2023-01-15 12:58:31  实验 1 模型 9 training time = 1.31 s\r\n",
      "2023-01-15 12:58:31  Slice ID  9 : MAE = 0.7573, RMSE = 2.0353, NMAE = 0.8359, MRE = 0.6862, NPRE = 3.4447\r\n",
      "\r\n",
      "2023-01-15 12:58:31  \t实验 1 模型 10 开始分片训练\r\n",
      "2023-01-15 12:58:38  Epoch 10 : MAE : 0.7658  RMSE : 2.0279  NMAE : 0.8453  MRE : 0.7184  NPRE : 3.8871\r\n",
      "2023-01-15 12:58:45  Epoch 20 : MAE : 0.7670  RMSE : 2.0254  NMAE : 0.8466  MRE : 0.7286  NPRE : 3.9709\r\n",
      "2023-01-15 12:58:52  Epoch 30 : MAE : 0.7671  RMSE : 2.0261  NMAE : 0.8467  MRE : 0.7225  NPRE : 3.9930\r\n",
      "2023-01-15 12:58:59  Epoch 40 : MAE : 0.7794  RMSE : 2.0362  NMAE : 0.8603  MRE : 0.7494  NPRE : 3.7167\r\n",
      "2023-01-15 12:59:07  Epoch 50 : MAE : 0.8279  RMSE : 2.0306  NMAE : 0.9138  MRE : 0.8978  NPRE : 4.8568\r\n",
      "2023-01-15 12:59:14  Epoch 60 : MAE : 0.9074  RMSE : 2.0355  NMAE : 1.0016  MRE : 1.0000  NPRE : 6.4723\r\n",
      "2023-01-15 12:59:14  Best epoch 18 : MAE : 0.7562  RMSE : 2.0269  NMAE : 0.8347  MRE : 0.7050  NPRE : 3.8215\r\n",
      "2023-01-15 12:59:14  实验 1 模型 10 training time = 3.33 s\r\n",
      "2023-01-15 12:59:14  Slice ID  10 : MAE = 0.7562, RMSE = 2.0269, NMAE = 0.8347, MRE = 0.7050, NPRE = 3.8215\r\n",
      "\r\n",
      "2023-01-15 12:59:14  \t所有切片模型训练完毕\r\n",
      "2023-01-15 12:59:14  \t开始训练聚合模型\r\n",
      "2023-01-15 12:59:18  Epoch  1 : MAE : 0.7518  RMSE : 2.0355  NMAE : 0.8298  MRE : 0.6778  NPRE : 3.3952\r\n",
      "2023-01-15 12:59:23  Epoch  2 : MAE : 0.7534  RMSE : 2.0397  NMAE : 0.8316  MRE : 0.6687  NPRE : 3.1764\r\n",
      "2023-01-15 12:59:28  Epoch  3 : MAE : 0.7549  RMSE : 2.0393  NMAE : 0.8332  MRE : 0.6747  NPRE : 3.2601\r\n",
      "2023-01-15 12:59:33  Epoch  4 : MAE : 0.7518  RMSE : 2.0371  NMAE : 0.8298  MRE : 0.6742  NPRE : 3.3103\r\n",
      "2023-01-15 12:59:38  Epoch  5 : MAE : 0.7520  RMSE : 2.0366  NMAE : 0.8301  MRE : 0.6760  NPRE : 3.3457\r\n",
      "2023-01-15 12:59:42  Epoch  6 : MAE : 0.7533  RMSE : 2.0323  NMAE : 0.8314  MRE : 0.6884  NPRE : 3.5545\r\n",
      "2023-01-15 12:59:46  Epoch  7 : MAE : 0.7509  RMSE : 2.0356  NMAE : 0.8288  MRE : 0.6768  NPRE : 3.3822\r\n",
      "2023-01-15 12:59:52  Epoch  8 : MAE : 0.7530  RMSE : 2.0429  NMAE : 0.8312  MRE : 0.6626  NPRE : 3.0637\r\n",
      "2023-01-15 12:59:57  Epoch  9 : MAE : 0.7521  RMSE : 2.0451  NMAE : 0.8302  MRE : 0.6548  NPRE : 2.9501\r\n",
      "2023-01-15 13:00:02  Epoch 10 : MAE : 0.7533  RMSE : 2.0430  NMAE : 0.8315  MRE : 0.6634  NPRE : 3.0885\r\n",
      "2023-01-15 13:00:02  Best epoch  7 : MAE : 0.7509  RMSE : 2.0356  NMAE : 0.8288  MRE : 0.6768  NPRE : 3.3822\r\n",
      "2023-01-15 13:00:02  \t实验 1 聚合模型训练完毕\r\n",
      "2023-01-15 13:00:11  Result : MAE : 0.7534  RMSE : 2.0566  NMAE : 0.8291  MRE : 0.6760  NPRE : 3.3897\r\n",
      "2023-01-15 13:00:11  \t实验 1 : Aggregators training time = 27.80 s\r\n",
      "\r\n",
      "2023-01-15 13:00:11  \t聚合模型训练完毕\r\n",
      "2023-01-15 13:00:11  Round 1 : MAE = 0.7534, RMSE = 2.0566, NMAE = 0.8291, MRE = 0.6760, NPRE = 3.3897\r\n",
      "------------------------------------------------------------------------------------------------------------------------\r\n",
      "2023-01-15 13:00:11  Dataset : rt     interaction : Pure_Mf\r\n",
      "2023-01-15 13:00:11  Density : 10.00%, slice_epochs : 60, agg_epochs : 10\r\n",
      "2023-01-15 13:00:11  Part_type : 5,    slices : 10,       devices : gpu\r\n",
      "\r\n",
      "\r\n",
      "2023-01-15 13:00:11  Density 10.00% : MAE = 0.753, RMSE = 2.057, NMAE = 0.829, MRE = 0.676, NPRE = 3.390\r\n",
      "\r\n",
      "2023-01-15 13:00:11  Experiment success!\r\n"
     ]
    }
   ],
   "source": [
    "!python Experiment.py --dataset rt --interaction Pure_Mf --rounds 1 --agg_epochs 10 --density 0.10 --part_type 5 --agg_type mean --debug  1"
   ],
   "metadata": {
    "collapsed": false
   }
  },
  {
   "cell_type": "code",
   "execution_count": 4,
   "outputs": [
    {
     "name": "stdout",
     "output_type": "stream",
     "text": [
      "2023-01-15 13:00:12  Namespace(agg_epochs=5, agg_function=3, agg_type='mean', balance=0, batch_size=128, beta=1, cluster='deep', cuda=True, dataset='rt', debug=1, density=0.1, devices='gpu', dimension=32, dir='../Dataset/mnist', dropout=0.1, epoch=1500, hidden_dims=[64, 64, 100], input_dim=128, interaction='GraphMF', kmeans_type=1, lamda=1, latent_dim=10, log_interval=100, lr=0.0001, n_classes=10, n_clusters=10, n_jobs=1, node2vec=0, node2vec_batchsize=32, node2vec_dim=128, node2vec_epochs=20, node2vec_length=8, node2vec_walk=15, node2vec_windows=3, num_layers=2, order=2, part_iter=50, part_type=5, path='./datasets/data/WSDREAM/', pre_epoch=1000, pretrain=True, processed=0, retrain=0, rounds=1, save_model=1, slice_epochs=15, slices=10, subagg=1, verbose=10, wd=0.0005)\r\n",
      "2023-01-15 13:00:12  Experiment start!\r\n",
      "2023-01-15 13:00:12  Dataset : rt     interaction : GraphMF\r\n",
      "2023-01-15 13:00:12  Density : 10.00%, slice_epochs : 20, agg_epochs : 5\r\n",
      "2023-01-15 13:00:12  Part_type : 5,    slices : 10,       devices : gpu\r\n",
      "\r\n",
      "2023-01-15 13:00:12  Round 1 experiment start!\r\n",
      "2023-01-15 13:00:12  \t原始数据集读取完毕\r\n",
      "2023-01-15 13:00:13  \t图嵌入均衡切割\r\n",
      "Computing transition probabilities: 100%|███| 507/507 [00:00<00:00, 5718.78it/s]\r\n",
      "Generating walks (CPU: 1): 100%|█████████████████| 4/4 [00:00<00:00, 120.94it/s]\r\n",
      "Generating walks (CPU: 2): 100%|██████████████████| 4/4 [00:00<00:00, 59.84it/s]\r\n",
      "Generating walks (CPU: 3): 100%|██████████████████| 4/4 [00:00<00:00, 56.24it/s]\r\n",
      "Generating walks (CPU: 4): 100%|██████████████████| 3/3 [00:00<00:00, 55.88it/s]\r\n",
      "========== Start pretraining ==========\r\n",
      "100%|██████████████████████████████████████| 1000/1000 [00:04<00:00, 230.24it/s]\r\n",
      "100%|███████████████████████████████████████| 1500/1500 [01:38<00:00, 15.16it/s]\r\n",
      "========== End pretraining ==========\r\n",
      "--------------------------------------------------------------------------------\r\n",
      "2023-01-15 13:02:01  \tbalance操作结束！\r\n",
      "10 36 37 39 38 32 38 33 40 36 \r\n",
      "2023-01-15 13:02:01  \tNode2Vec 基于用户聚类均衡切割完毕\r\n",
      "2023-01-15 13:02:01  \t分切数据执行完毕\r\n",
      "2023-01-15 13:02:01  \tNeuGraphMF建图中\r\n",
      "2023-01-15 13:02:05  \tNeuGraphMF建图完毕\r\n",
      "2023-01-15 13:02:05  \t模型加载完毕\r\n",
      "2023-01-15 13:02:05  \t准备训练切片模型\r\n",
      "2023-01-15 13:02:05  \t实验 1 模型 1 开始分片训练\r\n",
      "2023-01-15 13:02:13  Epoch 10 : MAE : 0.7274  RMSE : 1.9297  NMAE : 0.8010  MRE : 0.5899  NPRE : 2.6035\r\n",
      "2023-01-15 13:02:19  Epoch 20 : MAE : 0.7182  RMSE : 1.9152  NMAE : 0.7908  MRE : 0.5883  NPRE : 2.6336\r\n",
      "2023-01-15 13:02:19  Best epoch 13 : MAE : 0.7166  RMSE : 1.9215  NMAE : 0.7891  MRE : 0.5842  NPRE : 2.5733\r\n",
      "2023-01-15 13:02:19  实验 1 模型 1 training time = 1.41 s\r\n",
      "2023-01-15 13:02:19  Slice ID  1 : MAE = 0.7166, RMSE = 1.9215, NMAE = 0.7891, MRE = 0.5842, NPRE = 2.5733\r\n",
      "\r\n",
      "2023-01-15 13:02:20  \t实验 1 模型 2 开始分片训练\r\n",
      "2023-01-15 13:02:30  Epoch 10 : MAE : 1.0917  RMSE : 2.3090  NMAE : 1.2022  MRE : 0.6695  NPRE : 6.2216\r\n",
      "2023-01-15 13:02:41  Epoch 20 : MAE : 1.1136  RMSE : 2.3332  NMAE : 1.2262  MRE : 0.6755  NPRE : 6.4649\r\n",
      "2023-01-15 13:02:41  Best epoch  1 : MAE : 0.7628  RMSE : 1.8849  NMAE : 0.8400  MRE : 0.5964  NPRE : 3.4281\r\n",
      "2023-01-15 13:02:41  实验 1 模型 2 training time = 0.45 s\r\n",
      "2023-01-15 13:02:41  Slice ID  2 : MAE = 0.7628, RMSE = 1.8849, NMAE = 0.8400, MRE = 0.5964, NPRE = 3.4281\r\n",
      "\r\n",
      "2023-01-15 13:02:41  \t实验 1 模型 3 开始分片训练\r\n",
      "2023-01-15 13:02:53  Epoch 10 : MAE : 0.6920  RMSE : 1.7204  NMAE : 0.7620  MRE : 0.5399  NPRE : 2.7717\r\n",
      "2023-01-15 13:03:06  Epoch 20 : MAE : 0.7264  RMSE : 1.7911  NMAE : 0.7999  MRE : 0.5557  NPRE : 3.0431\r\n",
      "2023-01-15 13:03:06  Best epoch  1 : MAE : 0.6616  RMSE : 1.7521  NMAE : 0.7285  MRE : 0.5451  NPRE : 3.0783\r\n",
      "2023-01-15 13:03:06  实验 1 模型 3 training time = 0.62 s\r\n",
      "2023-01-15 13:03:06  Slice ID  3 : MAE = 0.6616, RMSE = 1.7521, NMAE = 0.7285, MRE = 0.5451, NPRE = 3.0783\r\n",
      "\r\n",
      "2023-01-15 13:03:06  \t实验 1 模型 4 开始分片训练\r\n",
      "2023-01-15 13:03:19  Epoch 10 : MAE : 0.6591  RMSE : 1.7174  NMAE : 0.7257  MRE : 0.5118  NPRE : 2.2609\r\n",
      "2023-01-15 13:03:32  Epoch 20 : MAE : 0.6645  RMSE : 1.7269  NMAE : 0.7318  MRE : 0.5060  NPRE : 2.4349\r\n",
      "2023-01-15 13:03:32  Best epoch  4 : MAE : 0.6169  RMSE : 1.6661  NMAE : 0.6793  MRE : 0.4874  NPRE : 2.4845\r\n",
      "2023-01-15 13:03:32  实验 1 模型 4 training time = 2.97 s\r\n",
      "2023-01-15 13:03:32  Slice ID  4 : MAE = 0.6169, RMSE = 1.6661, NMAE = 0.6793, MRE = 0.4874, NPRE = 2.4845\r\n",
      "\r\n",
      "2023-01-15 13:03:32  \t实验 1 模型 5 开始分片训练\r\n",
      "2023-01-15 13:03:46  Epoch 10 : MAE : 0.5891  RMSE : 1.6438  NMAE : 0.6487  MRE : 0.4535  NPRE : 2.0269\r\n",
      "2023-01-15 13:04:00  Epoch 20 : MAE : 0.6133  RMSE : 1.6685  NMAE : 0.6754  MRE : 0.4730  NPRE : 2.0593\r\n",
      "2023-01-15 13:04:00  Best epoch  2 : MAE : 0.5746  RMSE : 1.6224  NMAE : 0.6327  MRE : 0.4563  NPRE : 2.4448\r\n",
      "2023-01-15 13:04:00  实验 1 模型 5 training time = 1.63 s\r\n",
      "2023-01-15 13:04:00  Slice ID  5 : MAE = 0.5746, RMSE = 1.6224, NMAE = 0.6327, MRE = 0.4563, NPRE = 2.4448\r\n",
      "\r\n",
      "2023-01-15 13:04:00  \t实验 1 模型 6 开始分片训练\r\n",
      "2023-01-15 13:04:13  Epoch 10 : MAE : 0.6549  RMSE : 1.7173  NMAE : 0.7211  MRE : 0.5218  NPRE : 1.9107\r\n",
      "2023-01-15 13:04:26  Epoch 20 : MAE : 0.6683  RMSE : 1.7360  NMAE : 0.7359  MRE : 0.5283  NPRE : 2.0928\r\n",
      "2023-01-15 13:04:26  Best epoch  2 : MAE : 0.6225  RMSE : 1.6294  NMAE : 0.6855  MRE : 0.4741  NPRE : 2.3875\r\n",
      "2023-01-15 13:04:27  实验 1 模型 6 training time = 1.37 s\r\n",
      "2023-01-15 13:04:27  Slice ID  6 : MAE = 0.6225, RMSE = 1.6294, NMAE = 0.6855, MRE = 0.4741, NPRE = 2.3875\r\n",
      "\r\n",
      "2023-01-15 13:04:27  \t实验 1 模型 7 开始分片训练\r\n",
      "2023-01-15 13:04:42  Epoch 10 : MAE : 0.6684  RMSE : 1.7110  NMAE : 0.7360  MRE : 0.5085  NPRE : 2.5433\r\n",
      "2023-01-15 13:04:58  Epoch 20 : MAE : 0.6775  RMSE : 1.7397  NMAE : 0.7461  MRE : 0.5174  NPRE : 2.4827\r\n",
      "2023-01-15 13:04:58  Best epoch  4 : MAE : 0.6298  RMSE : 1.6419  NMAE : 0.6936  MRE : 0.5137  NPRE : 2.2876\r\n",
      "2023-01-15 13:04:58  实验 1 模型 7 training time = 3.84 s\r\n",
      "2023-01-15 13:04:58  Slice ID  7 : MAE = 0.6298, RMSE = 1.6419, NMAE = 0.6936, MRE = 0.5137, NPRE = 2.2876\r\n",
      "\r\n",
      "2023-01-15 13:04:58  \t实验 1 模型 8 开始分片训练\r\n",
      "2023-01-15 13:05:14  Epoch 10 : MAE : 0.7457  RMSE : 1.7337  NMAE : 0.8212  MRE : 0.5454  NPRE : 3.2979\r\n",
      "2023-01-15 13:05:29  Epoch 20 : MAE : 0.7738  RMSE : 1.7803  NMAE : 0.8521  MRE : 0.5597  NPRE : 3.5794\r\n",
      "2023-01-15 13:05:29  Best epoch  2 : MAE : 0.7029  RMSE : 1.6460  NMAE : 0.7741  MRE : 0.5371  NPRE : 3.5215\r\n",
      "2023-01-15 13:05:29  实验 1 模型 8 training time = 1.88 s\r\n",
      "2023-01-15 13:05:29  Slice ID  8 : MAE = 0.7029, RMSE = 1.6460, NMAE = 0.7741, MRE = 0.5371, NPRE = 3.5215\r\n",
      "\r\n",
      "2023-01-15 13:05:29  \t实验 1 模型 9 开始分片训练\r\n",
      "2023-01-15 13:05:46  Epoch 10 : MAE : 0.7223  RMSE : 1.7827  NMAE : 0.7953  MRE : 0.5263  NPRE : 2.9877\r\n",
      "2023-01-15 13:06:04  Epoch 20 : MAE : 0.7032  RMSE : 1.7767  NMAE : 0.7744  MRE : 0.5105  NPRE : 2.8046\r\n",
      "2023-01-15 13:06:04  Best epoch  1 : MAE : 0.6516  RMSE : 1.6407  NMAE : 0.7176  MRE : 0.5627  NPRE : 3.5518\r\n",
      "2023-01-15 13:06:04  实验 1 模型 9 training time = 1.13 s\r\n",
      "2023-01-15 13:06:04  Slice ID  9 : MAE = 0.6516, RMSE = 1.6407, NMAE = 0.7176, MRE = 0.5627, NPRE = 3.5518\r\n",
      "\r\n",
      "2023-01-15 13:06:04  \t实验 1 模型 10 开始分片训练\r\n",
      "2023-01-15 13:06:22  Epoch 10 : MAE : 0.8791  RMSE : 1.9234  NMAE : 0.9680  MRE : 0.5883  NPRE : 4.5473\r\n",
      "2023-01-15 13:06:39  Epoch 20 : MAE : 0.8716  RMSE : 1.9419  NMAE : 0.9598  MRE : 0.5726  NPRE : 4.4434\r\n",
      "2023-01-15 13:06:39  Best epoch  2 : MAE : 0.7508  RMSE : 1.6948  NMAE : 0.8268  MRE : 0.5780  NPRE : 3.6924\r\n",
      "2023-01-15 13:06:39  实验 1 模型 10 training time = 2.37 s\r\n",
      "2023-01-15 13:06:39  Slice ID  10 : MAE = 0.7508, RMSE = 1.6948, NMAE = 0.8268, MRE = 0.5780, NPRE = 3.6924\r\n",
      "\r\n",
      "2023-01-15 13:06:39  \t所有切片模型训练完毕\r\n",
      "2023-01-15 13:06:39  \t开始训练聚合模型\r\n",
      "2023-01-15 13:06:52  Epoch  1 : MAE : 0.4278  RMSE : 1.3544  NMAE : 0.4710  MRE : 0.3367  NPRE : 1.6805\r\n",
      "2023-01-15 13:07:05  Epoch  2 : MAE : 0.4047  RMSE : 1.3495  NMAE : 0.4457  MRE : 0.3093  NPRE : 0.9440\r\n",
      "2023-01-15 13:07:18  Epoch  3 : MAE : 0.3967  RMSE : 1.3203  NMAE : 0.4369  MRE : 0.2821  NPRE : 1.0793\r\n",
      "2023-01-15 13:07:30  Epoch  4 : MAE : 0.3957  RMSE : 1.3306  NMAE : 0.4357  MRE : 0.2773  NPRE : 1.1432\r\n",
      "2023-01-15 13:07:43  Epoch  5 : MAE : 0.3906  RMSE : 1.3100  NMAE : 0.4301  MRE : 0.2639  NPRE : 1.0484\r\n",
      "2023-01-15 13:07:43  Best epoch  5 : MAE : 0.3906  RMSE : 1.3100  NMAE : 0.4301  MRE : 0.2639  NPRE : 1.0484\r\n",
      "2023-01-15 13:07:43  \t实验 1 聚合模型训练完毕\r\n",
      "2023-01-15 13:07:52  Result : MAE : 0.3936  RMSE : 1.3245  NMAE : 0.4329  MRE : 0.2640  NPRE : 1.0484\r\n",
      "2023-01-15 13:07:52  \t实验 1 : Aggregators training time = 59.53 s\r\n",
      "\r\n",
      "2023-01-15 13:07:52  \t聚合模型训练完毕\r\n",
      "2023-01-15 13:07:52  Round 1 : MAE = 0.3936, RMSE = 1.3245, NMAE = 0.4329, MRE = 0.2640, NPRE = 1.0484\r\n",
      "------------------------------------------------------------------------------------------------------------------------\r\n",
      "2023-01-15 13:07:52  Dataset : rt     interaction : GraphMF\r\n",
      "2023-01-15 13:07:52  Density : 10.00%, slice_epochs : 20, agg_epochs : 5\r\n",
      "2023-01-15 13:07:52  Part_type : 5,    slices : 10,       devices : gpu\r\n",
      "\r\n",
      "\r\n",
      "2023-01-15 13:07:52  Density 10.00% : MAE = 0.394, RMSE = 1.325, NMAE = 0.433, MRE = 0.264, NPRE = 1.048\r\n",
      "\r\n",
      "2023-01-15 13:07:52  Experiment success!\r\n"
     ]
    }
   ],
   "source": [
    "!python Experiment.py --dataset rt --interaction GraphMF --slice_epochs 15 --rounds 1 --agg_epochs 5 --density 0.10 --part_type 5 --agg_type mean --debug  1"
   ],
   "metadata": {
    "collapsed": false
   }
  },
  {
   "cell_type": "markdown",
   "source": [
    "# Author: Yuxiang Zeng"
   ],
   "metadata": {
    "collapsed": false
   }
  },
  {
   "cell_type": "markdown",
   "source": [
    "## Dataset : tp"
   ],
   "metadata": {
    "collapsed": false
   }
  },
  {
   "cell_type": "markdown",
   "source": [
    "# Desity = 0.10"
   ],
   "metadata": {
    "collapsed": false
   }
  },
  {
   "cell_type": "code",
   "execution_count": 5,
   "outputs": [
    {
     "name": "stdout",
     "output_type": "stream",
     "text": [
      "2023-01-15 13:07:53  Namespace(agg_epochs=5, agg_function=3, agg_type='mean', balance=0, batch_size=128, beta=1, cluster='deep', cuda=True, dataset='tp', debug=1, density=0.1, devices='gpu', dimension=32, dir='../Dataset/mnist', dropout=0.1, epoch=1500, hidden_dims=[64, 64, 100], input_dim=128, interaction='NeuCF', kmeans_type=1, lamda=1, latent_dim=10, log_interval=100, lr=0.0001, n_classes=10, n_clusters=10, n_jobs=1, node2vec=0, node2vec_batchsize=32, node2vec_dim=128, node2vec_epochs=20, node2vec_length=8, node2vec_walk=15, node2vec_windows=3, num_layers=2, order=2, part_iter=50, part_type=5, path='./datasets/data/WSDREAM/', pre_epoch=1000, pretrain=True, processed=0, retrain=0, rounds=1, save_model=1, slice_epochs=60, slices=10, subagg=1, verbose=10, wd=0.0005)\r\n",
      "2023-01-15 13:07:53  Experiment start!\r\n",
      "2023-01-15 13:07:53  Dataset : tp     interaction : NeuCF\r\n",
      "2023-01-15 13:07:53  Density : 10.00%, slice_epochs : 60, agg_epochs : 5\r\n",
      "2023-01-15 13:07:53  Part_type : 5,    slices : 10,       devices : gpu\r\n",
      "\r\n",
      "2023-01-15 13:07:53  Round 1 experiment start!\r\n",
      "2023-01-15 13:07:53  \t原始数据集读取完毕\r\n",
      "2023-01-15 13:07:53  \t图嵌入均衡切割\r\n",
      "Computing transition probabilities: 100%|███| 507/507 [00:00<00:00, 5839.74it/s]\r\n",
      "Generating walks (CPU: 1): 100%|█████████████████| 4/4 [00:00<00:00, 129.42it/s]\r\n",
      "Generating walks (CPU: 2): 100%|█████████████████| 4/4 [00:00<00:00, 125.96it/s]\r\n",
      "Generating walks (CPU: 3): 100%|█████████████████| 4/4 [00:00<00:00, 131.06it/s]\r\n",
      "Generating walks (CPU: 4): 100%|█████████████████| 3/3 [00:00<00:00, 135.01it/s]\r\n",
      "========== Start pretraining ==========\r\n",
      "100%|██████████████████████████████████████| 1000/1000 [00:03<00:00, 273.30it/s]\r\n",
      "100%|███████████████████████████████████████| 1500/1500 [01:16<00:00, 19.56it/s]\r\n",
      "========== End pretraining ==========\r\n",
      "--------------------------------------------------------------------------------\r\n",
      "2023-01-15 13:09:18  \tbalance操作结束！\r\n",
      "18 33 35 36 37 38 33 41 31 37 \r\n",
      "2023-01-15 13:09:18  \tNode2Vec 基于用户聚类均衡切割完毕\r\n",
      "2023-01-15 13:09:18  \t分切数据执行完毕\r\n",
      "2023-01-15 13:09:18  \t模型加载完毕\r\n",
      "2023-01-15 13:09:18  \t准备训练切片模型\r\n",
      "2023-01-15 13:09:19  \t实验 1 模型 1 开始分片训练\r\n",
      "2023-01-15 13:09:27  Epoch 10 : MAE : 43.6010  RMSE : 110.6975  NMAE : 0.9187  MRE : 0.9066  NPRE : 8.6688\r\n",
      "2023-01-15 13:09:35  Epoch 20 : MAE : 48.5412  RMSE : 105.2879  NMAE : 1.0228  MRE : 1.0000  NPRE : 11.0776\r\n",
      "2023-01-15 13:09:43  Epoch 30 : MAE : 43.7387  RMSE : 100.8954  NMAE : 0.9217  MRE : 0.9309  NPRE : 7.9746\r\n",
      "2023-01-15 13:09:53  Epoch 40 : MAE : 44.8236  RMSE : 99.7163  NMAE : 0.9445  MRE : 0.9877  NPRE : 9.6263\r\n",
      "2023-01-15 13:10:02  Epoch 50 : MAE : 44.1184  RMSE : 98.3125  NMAE : 0.9297  MRE : 0.9491  NPRE : 8.9130\r\n",
      "2023-01-15 13:10:10  Epoch 60 : MAE : 45.2556  RMSE : 100.0350  NMAE : 0.9536  MRE : 0.9808  NPRE : 9.1052\r\n",
      "2023-01-15 13:10:10  Best epoch 54 : MAE : 42.5190  RMSE : 97.1250  NMAE : 0.8959  MRE : 0.9239  NPRE : 7.9108\r\n",
      "2023-01-15 13:10:10  实验 1 模型 1 training time = 11.12 s\r\n",
      "2023-01-15 13:10:10  Slice ID  1 : MAE = 42.5190, RMSE = 97.1250, NMAE = 0.8959, MRE = 0.9239, NPRE = 7.9108\r\n",
      "\r\n",
      "2023-01-15 13:10:11  \t实验 1 模型 2 开始分片训练\r\n",
      "2023-01-15 13:10:21  Epoch 10 : MAE : 41.3302  RMSE : 107.2012  NMAE : 0.8709  MRE : 0.8526  NPRE : 6.6465\r\n",
      "2023-01-15 13:10:31  Epoch 20 : MAE : 39.3408  RMSE : 96.5558  NMAE : 0.8290  MRE : 0.8130  NPRE : 6.3099\r\n",
      "2023-01-15 13:10:43  Epoch 30 : MAE : 37.8194  RMSE : 91.8200  NMAE : 0.7969  MRE : 0.8006  NPRE : 6.1250\r\n",
      "2023-01-15 13:10:53  Epoch 40 : MAE : 36.8240  RMSE : 89.4265  NMAE : 0.7759  MRE : 0.7996  NPRE : 5.5768\r\n",
      "2023-01-15 13:11:02  Epoch 50 : MAE : 35.4655  RMSE : 87.2613  NMAE : 0.7473  MRE : 0.7741  NPRE : 5.3178\r\n",
      "2023-01-15 13:11:12  Epoch 60 : MAE : 35.5557  RMSE : 86.2738  NMAE : 0.7492  MRE : 0.7900  NPRE : 5.7549\r\n",
      "2023-01-15 13:11:12  Best epoch 50 : MAE : 35.4655  RMSE : 87.2613  NMAE : 0.7473  MRE : 0.7741  NPRE : 5.3178\r\n",
      "2023-01-15 13:11:12  实验 1 模型 2 training time = 17.66 s\r\n",
      "2023-01-15 13:11:12  Slice ID  2 : MAE = 35.4655, RMSE = 87.2613, NMAE = 0.7473, MRE = 0.7741, NPRE = 5.3178\r\n",
      "\r\n",
      "2023-01-15 13:11:12  \t实验 1 模型 3 开始分片训练\r\n",
      "2023-01-15 13:11:21  Epoch 10 : MAE : 40.9524  RMSE : 107.4119  NMAE : 0.8629  MRE : 0.8542  NPRE : 6.7470\r\n",
      "2023-01-15 13:11:31  Epoch 20 : MAE : 38.4537  RMSE : 95.0706  NMAE : 0.8103  MRE : 0.8172  NPRE : 6.2356\r\n",
      "2023-01-15 13:11:40  Epoch 30 : MAE : 37.0120  RMSE : 91.1363  NMAE : 0.7799  MRE : 0.7948  NPRE : 5.8450\r\n",
      "2023-01-15 13:11:49  Epoch 40 : MAE : 35.9311  RMSE : 88.8892  NMAE : 0.7571  MRE : 0.7720  NPRE : 4.9861\r\n",
      "2023-01-15 13:11:58  Epoch 50 : MAE : 36.1151  RMSE : 88.9326  NMAE : 0.7610  MRE : 0.7809  NPRE : 5.0344\r\n",
      "2023-01-15 13:12:07  Epoch 60 : MAE : 35.8897  RMSE : 88.7861  NMAE : 0.7563  MRE : 0.7823  NPRE : 4.7394\r\n",
      "2023-01-15 13:12:07  Best epoch 59 : MAE : 34.8718  RMSE : 87.2338  NMAE : 0.7348  MRE : 0.7833  NPRE : 4.4112\r\n",
      "2023-01-15 13:12:07  实验 1 模型 3 training time = 18.28 s\r\n",
      "2023-01-15 13:12:07  Slice ID  3 : MAE = 34.8718, RMSE = 87.2338, NMAE = 0.7348, MRE = 0.7833, NPRE = 4.4112\r\n",
      "\r\n",
      "2023-01-15 13:12:07  \t实验 1 模型 4 开始分片训练\r\n",
      "2023-01-15 13:12:17  Epoch 10 : MAE : 40.7961  RMSE : 107.0177  NMAE : 0.8596  MRE : 0.8379  NPRE : 5.8692\r\n",
      "2023-01-15 13:12:26  Epoch 20 : MAE : 37.2586  RMSE : 92.5009  NMAE : 0.7851  MRE : 0.7843  NPRE : 5.9263\r\n",
      "2023-01-15 13:12:35  Epoch 30 : MAE : 36.0841  RMSE : 88.6886  NMAE : 0.7604  MRE : 0.7854  NPRE : 4.7187\r\n",
      "2023-01-15 13:12:45  Epoch 40 : MAE : 35.3153  RMSE : 86.7625  NMAE : 0.7442  MRE : 0.7653  NPRE : 4.5614\r\n",
      "2023-01-15 13:12:54  Epoch 50 : MAE : 35.2002  RMSE : 85.7928  NMAE : 0.7417  MRE : 0.7733  NPRE : 4.7820\r\n",
      "2023-01-15 13:13:03  Epoch 60 : MAE : 35.0763  RMSE : 84.8111  NMAE : 0.7391  MRE : 0.8187  NPRE : 4.7998\r\n",
      "2023-01-15 13:13:03  Best epoch 55 : MAE : 34.3282  RMSE : 85.1708  NMAE : 0.7234  MRE : 0.7535  NPRE : 4.3387\r\n",
      "2023-01-15 13:13:03  实验 1 模型 4 training time = 17.12 s\r\n",
      "2023-01-15 13:13:03  Slice ID  4 : MAE = 34.3282, RMSE = 85.1708, NMAE = 0.7234, MRE = 0.7535, NPRE = 4.3387\r\n",
      "\r\n",
      "2023-01-15 13:13:03  \t实验 1 模型 5 开始分片训练\r\n",
      "2023-01-15 13:13:13  Epoch 10 : MAE : 39.6533  RMSE : 103.3273  NMAE : 0.8356  MRE : 0.8337  NPRE : 6.5162\r\n",
      "2023-01-15 13:13:23  Epoch 20 : MAE : 36.9849  RMSE : 92.5248  NMAE : 0.7793  MRE : 0.7917  NPRE : 6.0238\r\n",
      "2023-01-15 13:13:33  Epoch 30 : MAE : 35.4998  RMSE : 89.2225  NMAE : 0.7480  MRE : 0.7606  NPRE : 5.1803\r\n",
      "2023-01-15 13:13:43  Epoch 40 : MAE : 36.2300  RMSE : 88.2182  NMAE : 0.7634  MRE : 0.7893  NPRE : 5.3542\r\n",
      "2023-01-15 13:13:55  Epoch 50 : MAE : 35.5724  RMSE : 87.3028  NMAE : 0.7496  MRE : 0.7879  NPRE : 5.0635\r\n"
     ]
    }
   ],
   "source": [
    "!python Experiment.py --dataset tp --interaction NeuCF --rounds 1 --agg_epochs 5 --density 0.10 --part_type 5 --agg_type mean --debug  1"
   ],
   "metadata": {
    "collapsed": false
   }
  },
  {
   "cell_type": "code",
   "execution_count": 6,
   "outputs": [
    {
     "name": "stdout",
     "output_type": "stream",
     "text": [
      "2023-01-15 13:14:01  Namespace(agg_epochs=10, agg_function=3, agg_type='mean', balance=0, batch_size=128, beta=1, cluster='deep', cuda=True, dataset='tp', debug=1, density=0.1, devices='gpu', dimension=32, dir='../Dataset/mnist', dropout=0.1, epoch=1500, hidden_dims=[64, 64, 100], input_dim=128, interaction='CSMF', kmeans_type=1, lamda=1, latent_dim=10, log_interval=100, lr=0.0001, n_classes=10, n_clusters=10, n_jobs=1, node2vec=0, node2vec_batchsize=32, node2vec_dim=128, node2vec_epochs=20, node2vec_length=8, node2vec_walk=15, node2vec_windows=3, num_layers=2, order=2, part_iter=50, part_type=5, path='./datasets/data/WSDREAM/', pre_epoch=1000, pretrain=True, processed=0, retrain=0, rounds=1, save_model=1, slice_epochs=60, slices=10, subagg=1, verbose=10, wd=0.0005)\r\n",
      "2023-01-15 13:14:01  Experiment start!\r\n",
      "2023-01-15 13:14:01  Dataset : tp     interaction : CSMF\r\n",
      "2023-01-15 13:14:01  Density : 10.00%, slice_epochs : 20, agg_epochs : 10\r\n",
      "2023-01-15 13:14:01  Part_type : 5,    slices : 10,       devices : gpu\r\n",
      "\r\n",
      "2023-01-15 13:14:01  Round 1 experiment start!\r\n",
      "2023-01-15 13:14:01  \t原始数据集读取完毕\r\n",
      "2023-01-15 13:14:01  \t图嵌入均衡切割\r\n",
      "Computing transition probabilities: 100%|███| 507/507 [00:00<00:00, 5704.71it/s]\r\n",
      "Generating walks (CPU: 1): 100%|█████████████████| 4/4 [00:00<00:00, 131.10it/s]\r\n",
      "Generating walks (CPU: 2): 100%|█████████████████| 4/4 [00:00<00:00, 130.09it/s]\r\n",
      "Generating walks (CPU: 3): 100%|█████████████████| 4/4 [00:00<00:00, 129.58it/s]\r\n",
      "Generating walks (CPU: 4): 100%|██████████████████| 3/3 [00:00<00:00, 58.59it/s]\r\n"
     ]
    }
   ],
   "source": [
    "!python Experiment.py --dataset tp --interaction CSMF --rounds 1 --agg_epochs 10 --density 0.10 --part_type 5 --agg_type mean --debug  1"
   ],
   "metadata": {
    "collapsed": false
   }
  },
  {
   "cell_type": "code",
   "execution_count": 7,
   "outputs": [
    {
     "name": "stdout",
     "output_type": "stream",
     "text": [
      "^C\r\n",
      "Traceback (most recent call last):\r\n",
      "  File \"Experiment.py\", line 4, in <module>\r\n",
      "    from trainer.agg_trainer import *\r\n",
      "  File \"/home/yxzeng/code_python/RecEraser_GPU_NeuCF_GraphMF_CSMF/trainer/agg_trainer.py\", line 5, in <module>\r\n",
      "    from datasets.dataloader import get_dataloaders\r\n",
      "  File \"/home/yxzeng/code_python/RecEraser_GPU_NeuCF_GraphMF_CSMF/datasets/dataloader.py\", line 5, in <module>\r\n",
      "    from torch.utils.data import DataLoader\r\n",
      "  File \"/home/yxzeng/anaconda3/lib/python3.8/site-packages/torch/__init__.py\", line 197, in <module>\r\n",
      "    from torch._C import *  # noqa: F403\r\n",
      "RuntimeError: KeyboardInterrupt: \r\n"
     ]
    }
   ],
   "source": [
    "!python Experiment.py --dataset tp --interaction Pure_Mf --rounds 1 --agg_epochs 10 --density 0.10 --part_type 5 --agg_type mean --debug  1"
   ],
   "metadata": {
    "collapsed": false
   }
  },
  {
   "cell_type": "code",
   "execution_count": 8,
   "outputs": [
    {
     "name": "stdout",
     "output_type": "stream",
     "text": [
      "^C\r\n",
      "Traceback (most recent call last):\r\n",
      "  File \"Experiment.py\", line 4, in <module>\r\n",
      "    from trainer.agg_trainer import *\r\n",
      "  File \"/home/yxzeng/code_python/RecEraser_GPU_NeuCF_GraphMF_CSMF/trainer/agg_trainer.py\", line 5, in <module>\r\n",
      "    from datasets.dataloader import get_dataloaders\r\n",
      "  File \"/home/yxzeng/code_python/RecEraser_GPU_NeuCF_GraphMF_CSMF/datasets/dataloader.py\", line 5, in <module>\r\n",
      "    from torch.utils.data import DataLoader\r\n",
      "  File \"/home/yxzeng/anaconda3/lib/python3.8/site-packages/torch/__init__.py\", line 197, in <module>\r\n",
      "    from torch._C import *  # noqa: F403\r\n",
      "RuntimeError: KeyboardInterrupt: \r\n"
     ]
    }
   ],
   "source": [
    "!python Experiment.py --dataset tp --interaction GraphMF --slice_epochs 15 --rounds 1 --agg_epochs 5 --density 0.10 --part_type 5 --agg_type mean --debug  1"
   ],
   "metadata": {
    "collapsed": false
   }
  },
  {
   "cell_type": "code",
   "execution_count": null,
   "outputs": [],
   "source": [],
   "metadata": {
    "collapsed": false
   }
  },
  {
   "cell_type": "markdown",
   "source": [
    "# Author: Yuxiang Zeng"
   ],
   "metadata": {
    "collapsed": false
   }
  },
  {
   "cell_type": "markdown",
   "source": [
    "## Dataset : rt"
   ],
   "metadata": {
    "collapsed": false
   }
  },
  {
   "cell_type": "markdown",
   "source": [
    "# Desity = 0.10"
   ],
   "metadata": {
    "collapsed": false
   }
  },
  {
   "cell_type": "code",
   "execution_count": 16,
   "outputs": [
    {
     "name": "stdout",
     "output_type": "stream",
     "text": [
      "2023-01-15 13:14:16  Namespace(agg_epochs=5, agg_function=3, agg_type='att', balance=0, batch_size=128, beta=1, cluster='deep', cuda=True, dataset='rt', debug=1, density=0.1, devices='gpu', dimension=32, dir='../Dataset/mnist', dropout=0.1, epoch=1500, hidden_dims=[64, 64, 100], input_dim=128, interaction='NeuCF', kmeans_type=1, lamda=1, latent_dim=10, log_interval=100, lr=0.0001, n_classes=10, n_clusters=10, n_jobs=1, node2vec=0, node2vec_batchsize=32, node2vec_dim=128, node2vec_epochs=20, node2vec_length=8, node2vec_walk=15, node2vec_windows=3, num_layers=2, order=2, part_iter=50, part_type=5, path='./datasets/data/WSDREAM/', pre_epoch=1000, pretrain=True, processed=0, retrain=0, rounds=1, save_model=1, slice_epochs=60, slices=10, subagg=1, verbose=10, wd=0.0005)\r\n",
      "2023-01-15 13:14:16  Experiment start!\r\n",
      "2023-01-15 13:14:16  Dataset : rt     interaction : NeuCF\r\n",
      "2023-01-15 13:14:16  Density : 10.00%, slice_epochs : 60, agg_epochs : 5\r\n",
      "2023-01-15 13:14:16  Part_type : 5,    slices : 10,       devices : gpu\r\n",
      "\r\n",
      "2023-01-15 13:14:16  Round 1 experiment start!\r\n",
      "2023-01-15 13:14:16  \t原始数据集读取完毕\r\n",
      "2023-01-15 13:14:17  \t图嵌入均衡切割\r\n",
      "Computing transition probabilities: 100%|███| 507/507 [00:00<00:00, 5739.76it/s]\r\n",
      "Generating walks (CPU: 1): 100%|█████████████████| 4/4 [00:00<00:00, 132.92it/s]\r\n",
      "Generating walks (CPU: 4): 100%|█████████████████| 3/3 [00:00<00:00, 135.07it/s]\r\n",
      "Generating walks (CPU: 2): 100%|██████████████████| 4/4 [00:00<00:00, 58.11it/s]\r\n",
      "Generating walks (CPU: 3): 100%|██████████████████| 4/4 [00:00<00:00, 57.59it/s]\r\n"
     ]
    }
   ],
   "source": [
    "!python Experiment.py --dataset rt --interaction NeuCF --rounds 1 --agg_epochs 5 --density 0.10 --part_type 5 --agg_type att --debug  1"
   ],
   "metadata": {
    "collapsed": false
   }
  },
  {
   "cell_type": "code",
   "execution_count": 10,
   "outputs": [
    {
     "name": "stdout",
     "output_type": "stream",
     "text": [
      "^C\r\n",
      "Traceback (most recent call last):\r\n",
      "  File \"Experiment.py\", line 4, in <module>\r\n",
      "    from trainer.agg_trainer import *\r\n",
      "  File \"/home/yxzeng/code_python/RecEraser_GPU_NeuCF_GraphMF_CSMF/trainer/agg_trainer.py\", line 5, in <module>\r\n",
      "    from datasets.dataloader import get_dataloaders\r\n",
      "  File \"/home/yxzeng/code_python/RecEraser_GPU_NeuCF_GraphMF_CSMF/datasets/dataloader.py\", line 5, in <module>\r\n",
      "    from torch.utils.data import DataLoader\r\n",
      "  File \"/home/yxzeng/anaconda3/lib/python3.8/site-packages/torch/__init__.py\", line 643, in <module>\r\n",
      "    from .functional import *  # noqa: F403\r\n",
      "  File \"/home/yxzeng/anaconda3/lib/python3.8/site-packages/torch/functional.py\", line 6, in <module>\r\n",
      "    import torch.nn.functional as F\r\n",
      "  File \"/home/yxzeng/anaconda3/lib/python3.8/site-packages/torch/nn/__init__.py\", line 1, in <module>\r\n",
      "    from .modules import *  # noqa: F403\r\n",
      "  File \"/home/yxzeng/anaconda3/lib/python3.8/site-packages/torch/nn/modules/__init__.py\", line 2, in <module>\r\n",
      "    from .linear import Identity, Linear, Bilinear, LazyLinear\r\n",
      "  File \"/home/yxzeng/anaconda3/lib/python3.8/site-packages/torch/nn/modules/linear.py\", line 6, in <module>\r\n",
      "    from .. import functional as F\r\n",
      "  File \"/home/yxzeng/anaconda3/lib/python3.8/site-packages/torch/nn/functional.py\", line 11, in <module>\r\n",
      "    from .._jit_internal import boolean_dispatch, _overload, BroadcastingList1, BroadcastingList2, BroadcastingList3\r\n",
      "  File \"/home/yxzeng/anaconda3/lib/python3.8/site-packages/torch/_jit_internal.py\", line 24, in <module>\r\n",
      "    import torch.distributed.rpc\r\n",
      "  File \"/home/yxzeng/anaconda3/lib/python3.8/site-packages/torch/distributed/rpc/__init__.py\", line 63, in <module>\r\n",
      "    from . import api, backend_registry, functions\r\n",
      "  File \"/home/yxzeng/anaconda3/lib/python3.8/site-packages/torch/distributed/rpc/api.py\", line 32, in <module>\r\n",
      "    from .internal import (\r\n",
      "  File \"/home/yxzeng/anaconda3/lib/python3.8/site-packages/torch/distributed/rpc/internal.py\", line 271, in <module>\r\n",
      "    PythonUDF = collections.namedtuple(\"PythonUDF\", [\"func\", \"args\", \"kwargs\"])\r\n",
      "  File \"/home/yxzeng/anaconda3/lib/python3.8/collections/__init__.py\", line 394, in namedtuple\r\n",
      "    exec(s, namespace)\r\n",
      "  File \"<string>\", line 1, in <module>\r\n",
      "KeyboardInterrupt\r\n"
     ]
    }
   ],
   "source": [
    "!python Experiment.py --dataset rt --interaction CSMF --rounds 1 --agg_epochs 10 --density 0.10 --part_type 5 --agg_type att --debug  1"
   ],
   "metadata": {
    "collapsed": false
   }
  },
  {
   "cell_type": "code",
   "execution_count": 11,
   "outputs": [
    {
     "name": "stdout",
     "output_type": "stream",
     "text": [
      "^C\r\n",
      "Traceback (most recent call last):\r\n",
      "  File \"Experiment.py\", line 4, in <module>\r\n",
      "    from trainer.agg_trainer import *\r\n",
      "  File \"/home/yxzeng/code_python/RecEraser_GPU_NeuCF_GraphMF_CSMF/trainer/agg_trainer.py\", line 5, in <module>\r\n",
      "    from datasets.dataloader import get_dataloaders\r\n",
      "  File \"/home/yxzeng/code_python/RecEraser_GPU_NeuCF_GraphMF_CSMF/datasets/dataloader.py\", line 5, in <module>\r\n",
      "    from torch.utils.data import DataLoader\r\n",
      "  File \"/home/yxzeng/anaconda3/lib/python3.8/site-packages/torch/__init__.py\", line 613, in <module>\r\n",
      "    _C._initExtension(manager_path())\r\n",
      "  File \"/home/yxzeng/anaconda3/lib/python3.8/site-packages/torch/cuda/__init__.py\", line 685, in <module>\r\n",
      "    from . import amp\r\n",
      "  File \"/home/yxzeng/anaconda3/lib/python3.8/site-packages/torch/cuda/amp/__init__.py\", line 1, in <module>\r\n",
      "    from .autocast_mode import autocast, custom_fwd, custom_bwd  # noqa: F401\r\n",
      "  File \"/home/yxzeng/anaconda3/lib/python3.8/site-packages/torch/cuda/amp/autocast_mode.py\", line 5, in <module>\r\n",
      "    import numpy as np\r\n",
      "  File \"/home/yxzeng/anaconda3/lib/python3.8/site-packages/numpy/__init__.py\", line 140, in <module>\r\n",
      "    from . import core\r\n",
      "  File \"/home/yxzeng/anaconda3/lib/python3.8/site-packages/numpy/core/__init__.py\", line 23, in <module>\r\n",
      "    from . import multiarray\r\n",
      "  File \"/home/yxzeng/anaconda3/lib/python3.8/site-packages/numpy/core/multiarray.py\", line 10, in <module>\r\n",
      "    from . import overrides\r\n",
      "  File \"/home/yxzeng/anaconda3/lib/python3.8/site-packages/numpy/core/overrides.py\", line 6, in <module>\r\n",
      "    from numpy.core._multiarray_umath import (\r\n",
      "KeyboardInterrupt\r\n"
     ]
    }
   ],
   "source": [
    "!python Experiment.py --dataset rt --interaction Pure_Mf --rounds 1 --agg_epochs 10 --density 0.10 --part_type 5 --agg_type att --debug  1"
   ],
   "metadata": {
    "collapsed": false
   }
  },
  {
   "cell_type": "code",
   "execution_count": 12,
   "outputs": [
    {
     "name": "stdout",
     "output_type": "stream",
     "text": [
      "^C\r\n",
      "Traceback (most recent call last):\r\n",
      "  File \"Experiment.py\", line 4, in <module>\r\n",
      "    from trainer.agg_trainer import *\r\n",
      "  File \"/home/yxzeng/code_python/RecEraser_GPU_NeuCF_GraphMF_CSMF/trainer/agg_trainer.py\", line 5, in <module>\r\n",
      "    from datasets.dataloader import get_dataloaders\r\n",
      "  File \"/home/yxzeng/code_python/RecEraser_GPU_NeuCF_GraphMF_CSMF/datasets/dataloader.py\", line 5, in <module>\r\n",
      "    from torch.utils.data import DataLoader\r\n",
      "  File \"/home/yxzeng/anaconda3/lib/python3.8/site-packages/torch/__init__.py\", line 29, in <module>\r\n",
      "    from .torch_version import __version__ as __version__\r\n",
      "  File \"/home/yxzeng/anaconda3/lib/python3.8/site-packages/torch/torch_version.py\", line 3, in <module>\r\n",
      "    from pkg_resources import packaging  # type: ignore[attr-defined]\r\n",
      "  File \"/home/yxzeng/anaconda3/lib/python3.8/site-packages/pkg_resources/__init__.py\", line 77, in <module>\r\n",
      "    __import__('pkg_resources.extern.packaging.requirements')\r\n",
      "  File \"/home/yxzeng/anaconda3/lib/python3.8/site-packages/pkg_resources/_vendor/packaging/requirements.py\", line 51, in <module>\r\n",
      "    VERSION_PEP440 = Regex(Specifier._regex_str, re.VERBOSE | re.IGNORECASE)\r\n",
      "  File \"/home/yxzeng/anaconda3/lib/python3.8/site-packages/pkg_resources/_vendor/pyparsing.py\", line 2792, in __init__\r\n",
      "    self.re = re.compile(self.pattern, self.flags)\r\n",
      "  File \"/home/yxzeng/anaconda3/lib/python3.8/re.py\", line 252, in compile\r\n",
      "    return _compile(pattern, flags)\r\n",
      "  File \"/home/yxzeng/anaconda3/lib/python3.8/re.py\", line 304, in _compile\r\n",
      "    p = sre_compile.compile(pattern, flags)\r\n",
      "  File \"/home/yxzeng/anaconda3/lib/python3.8/sre_compile.py\", line 768, in compile\r\n",
      "    code = _code(p, flags)\r\n",
      "  File \"/home/yxzeng/anaconda3/lib/python3.8/sre_compile.py\", line 607, in _code\r\n",
      "    _compile(code, p.data, flags)\r\n",
      "  File \"/home/yxzeng/anaconda3/lib/python3.8/sre_compile.py\", line 168, in _compile\r\n",
      "    _compile(code, p, _combine_flags(flags, add_flags, del_flags))\r\n",
      "  File \"/home/yxzeng/anaconda3/lib/python3.8/sre_compile.py\", line 209, in _compile\r\n",
      "    _compile(code, av, flags)\r\n",
      "  File \"/home/yxzeng/anaconda3/lib/python3.8/sre_compile.py\", line 156, in _compile\r\n",
      "    _compile(code, av[2], flags)\r\n",
      "  File \"/home/yxzeng/anaconda3/lib/python3.8/sre_compile.py\", line 206, in _compile\r\n",
      "    for av in av[1]:\r\n",
      "KeyboardInterrupt\r\n"
     ]
    }
   ],
   "source": [
    "!python Experiment.py --dataset rt --interaction GraphMF --slice_epochs 15 --rounds 1 --agg_epochs 5 --density 0.10 --part_type 5 --agg_type att --debug  1"
   ],
   "metadata": {
    "collapsed": false
   }
  },
  {
   "cell_type": "markdown",
   "source": [
    "# Author: Yuxiang Zeng"
   ],
   "metadata": {
    "collapsed": false
   }
  },
  {
   "cell_type": "markdown",
   "source": [
    "## Dataset : tp"
   ],
   "metadata": {
    "collapsed": false
   }
  },
  {
   "cell_type": "markdown",
   "source": [
    "# Desity = 0.10"
   ],
   "metadata": {
    "collapsed": false
   }
  },
  {
   "cell_type": "code",
   "execution_count": 13,
   "outputs": [
    {
     "name": "stdout",
     "output_type": "stream",
     "text": [
      "^C\r\n",
      "Traceback (most recent call last):\r\n",
      "  File \"Experiment.py\", line 4, in <module>\r\n",
      "    from trainer.agg_trainer import *\r\n",
      "  File \"/home/yxzeng/code_python/RecEraser_GPU_NeuCF_GraphMF_CSMF/trainer/agg_trainer.py\", line 5, in <module>\r\n",
      "    from datasets.dataloader import get_dataloaders\r\n",
      "  File \"/home/yxzeng/code_python/RecEraser_GPU_NeuCF_GraphMF_CSMF/datasets/dataloader.py\", line 5, in <module>\r\n",
      "    from torch.utils.data import DataLoader\r\n",
      "  File \"/home/yxzeng/anaconda3/lib/python3.8/site-packages/torch/__init__.py\", line 29, in <module>\r\n",
      "    from .torch_version import __version__ as __version__\r\n",
      "  File \"/home/yxzeng/anaconda3/lib/python3.8/site-packages/torch/torch_version.py\", line 3, in <module>\r\n",
      "    from pkg_resources import packaging  # type: ignore[attr-defined]\r\n",
      "  File \"/home/yxzeng/anaconda3/lib/python3.8/site-packages/pkg_resources/__init__.py\", line 3239, in <module>\r\n",
      "    def _initialize_master_working_set():\r\n",
      "  File \"/home/yxzeng/anaconda3/lib/python3.8/site-packages/pkg_resources/__init__.py\", line 3222, in _call_aside\r\n",
      "    f(*args, **kwargs)\r\n",
      "  File \"/home/yxzeng/anaconda3/lib/python3.8/site-packages/pkg_resources/__init__.py\", line 3251, in _initialize_master_working_set\r\n",
      "    working_set = WorkingSet._build_master()\r\n",
      "  File \"/home/yxzeng/anaconda3/lib/python3.8/site-packages/pkg_resources/__init__.py\", line 558, in _build_master\r\n",
      "    ws = cls()\r\n",
      "  File \"/home/yxzeng/anaconda3/lib/python3.8/site-packages/pkg_resources/__init__.py\", line 551, in __init__\r\n",
      "    self.add_entry(entry)\r\n",
      "  File \"/home/yxzeng/anaconda3/lib/python3.8/site-packages/pkg_resources/__init__.py\", line 607, in add_entry\r\n",
      "    for dist in find_distributions(entry, True):\r\n",
      "  File \"/home/yxzeng/anaconda3/lib/python3.8/site-packages/pkg_resources/__init__.py\", line 2056, in find_on_path\r\n",
      "    path_item_entries = _by_version_descending(filtered)\r\n",
      "  File \"/home/yxzeng/anaconda3/lib/python3.8/site-packages/pkg_resources/__init__.py\", line 2026, in _by_version_descending\r\n",
      "    return sorted(names, key=_by_version, reverse=True)\r\n",
      "  File \"/home/yxzeng/anaconda3/lib/python3.8/site-packages/pkg_resources/__init__.py\", line 2023, in _by_version\r\n",
      "    parts = itertools.chain(name.split('-'), [ext])\r\n",
      "KeyboardInterrupt\r\n"
     ]
    }
   ],
   "source": [
    "!python Experiment.py --dataset tp --interaction NeuCF --rounds 1 --agg_epochs 5 --density 0.10 --part_type 5 --agg_type att --debug  1"
   ],
   "metadata": {
    "collapsed": false
   }
  },
  {
   "cell_type": "code",
   "execution_count": 14,
   "outputs": [
    {
     "name": "stdout",
     "output_type": "stream",
     "text": [
      "^C\r\n",
      "Traceback (most recent call last):\r\n",
      "  File \"Experiment.py\", line 4, in <module>\r\n",
      "    from trainer.agg_trainer import *\r\n",
      "  File \"/home/yxzeng/code_python/RecEraser_GPU_NeuCF_GraphMF_CSMF/trainer/agg_trainer.py\", line 5, in <module>\r\n",
      "    from datasets.dataloader import get_dataloaders\r\n",
      "  File \"/home/yxzeng/code_python/RecEraser_GPU_NeuCF_GraphMF_CSMF/datasets/dataloader.py\", line 5, in <module>\r\n",
      "    from torch.utils.data import DataLoader\r\n",
      "  File \"/home/yxzeng/anaconda3/lib/python3.8/site-packages/torch/__init__.py\", line 29, in <module>\r\n",
      "    from .torch_version import __version__ as __version__\r\n",
      "  File \"/home/yxzeng/anaconda3/lib/python3.8/site-packages/torch/torch_version.py\", line 3, in <module>\r\n",
      "    from pkg_resources import packaging  # type: ignore[attr-defined]\r\n",
      "  File \"/home/yxzeng/anaconda3/lib/python3.8/site-packages/pkg_resources/__init__.py\", line 1670, in <module>\r\n",
      "    class MemoizedZipManifests(ZipManifests):\r\n",
      "  File \"/home/yxzeng/anaconda3/lib/python3.8/site-packages/pkg_resources/__init__.py\", line 1676, in MemoizedZipManifests\r\n",
      "    def load(self, path):\r\n",
      "KeyboardInterrupt\r\n"
     ]
    }
   ],
   "source": [
    "!python Experiment.py --dataset tp --interaction CSMF --rounds 1 --agg_epochs 10 --density 0.10 --part_type 5 --agg_type att --debug  1"
   ],
   "metadata": {
    "collapsed": false
   }
  },
  {
   "cell_type": "code",
   "execution_count": 15,
   "outputs": [
    {
     "name": "stdout",
     "output_type": "stream",
     "text": [
      "2023-01-15 13:14:07  Namespace(agg_epochs=10, agg_function=3, agg_type='att', balance=0, batch_size=128, beta=1, cluster='deep', cuda=True, dataset='tp', debug=1, density=0.1, devices='gpu', dimension=32, dir='../Dataset/mnist', dropout=0.1, epoch=1500, hidden_dims=[64, 64, 100], input_dim=128, interaction='Pure_Mf', kmeans_type=1, lamda=1, latent_dim=10, log_interval=100, lr=0.0001, n_classes=10, n_clusters=10, n_jobs=1, node2vec=0, node2vec_batchsize=32, node2vec_dim=128, node2vec_epochs=20, node2vec_length=8, node2vec_walk=15, node2vec_windows=3, num_layers=2, order=2, part_iter=50, part_type=5, path='./datasets/data/WSDREAM/', pre_epoch=1000, pretrain=True, processed=0, retrain=0, rounds=1, save_model=1, slice_epochs=60, slices=10, subagg=1, verbose=10, wd=0.0005)\r\n",
      "2023-01-15 13:14:07  Experiment start!\r\n",
      "2023-01-15 13:14:07  Dataset : tp     interaction : Pure_Mf\r\n",
      "2023-01-15 13:14:07  Density : 10.00%, slice_epochs : 60, agg_epochs : 10\r\n",
      "2023-01-15 13:14:07  Part_type : 5,    slices : 10,       devices : gpu\r\n",
      "\r\n",
      "2023-01-15 13:14:07  Round 1 experiment start!\r\n",
      "2023-01-15 13:14:07  \t原始数据集读取完毕\r\n",
      "2023-01-15 13:14:07  \t图嵌入均衡切割\r\n",
      "Computing transition probabilities: 100%|███| 507/507 [00:00<00:00, 5784.30it/s]\r\n",
      "Generating walks (CPU: 1): 100%|█████████████████| 4/4 [00:00<00:00, 129.88it/s]\r\n",
      "Generating walks (CPU: 2): 100%|█████████████████| 4/4 [00:00<00:00, 128.35it/s]\r\n",
      "Generating walks (CPU: 3): 100%|██████████████████| 4/4 [00:00<00:00, 59.01it/s]\r\n",
      "Generating walks (CPU: 4): 100%|██████████████████| 3/3 [00:00<00:00, 58.97it/s]\r\n"
     ]
    },
    {
     "ename": "KeyboardInterrupt",
     "evalue": "",
     "output_type": "error",
     "traceback": [
      "\u001B[0;31m---------------------------------------------------------------------------\u001B[0m",
      "\u001B[0;31mKeyboardInterrupt\u001B[0m                         Traceback (most recent call last)",
      "\u001B[0;32m~/anaconda3/lib/python3.8/site-packages/IPython/utils/_process_posix.py\u001B[0m in \u001B[0;36msystem\u001B[0;34m(self, cmd)\u001B[0m\n\u001B[1;32m    161\u001B[0m                 \u001B[0;31m# know whether we've finished (if we matched EOF) or not\u001B[0m\u001B[0;34m\u001B[0m\u001B[0;34m\u001B[0m\u001B[0;34m\u001B[0m\u001B[0m\n\u001B[0;32m--> 162\u001B[0;31m                 \u001B[0mres_idx\u001B[0m \u001B[0;34m=\u001B[0m \u001B[0mchild\u001B[0m\u001B[0;34m.\u001B[0m\u001B[0mexpect_list\u001B[0m\u001B[0;34m(\u001B[0m\u001B[0mpatterns\u001B[0m\u001B[0;34m,\u001B[0m \u001B[0mself\u001B[0m\u001B[0;34m.\u001B[0m\u001B[0mread_timeout\u001B[0m\u001B[0;34m)\u001B[0m\u001B[0;34m\u001B[0m\u001B[0;34m\u001B[0m\u001B[0m\n\u001B[0m\u001B[1;32m    163\u001B[0m                 \u001B[0mprint\u001B[0m\u001B[0;34m(\u001B[0m\u001B[0mchild\u001B[0m\u001B[0;34m.\u001B[0m\u001B[0mbefore\u001B[0m\u001B[0;34m[\u001B[0m\u001B[0mout_size\u001B[0m\u001B[0;34m:\u001B[0m\u001B[0;34m]\u001B[0m\u001B[0;34m.\u001B[0m\u001B[0mdecode\u001B[0m\u001B[0;34m(\u001B[0m\u001B[0menc\u001B[0m\u001B[0;34m,\u001B[0m \u001B[0;34m'replace'\u001B[0m\u001B[0;34m)\u001B[0m\u001B[0;34m,\u001B[0m \u001B[0mend\u001B[0m\u001B[0;34m=\u001B[0m\u001B[0;34m''\u001B[0m\u001B[0;34m)\u001B[0m\u001B[0;34m\u001B[0m\u001B[0;34m\u001B[0m\u001B[0m\n",
      "\u001B[0;32m~/anaconda3/lib/python3.8/site-packages/pexpect/spawnbase.py\u001B[0m in \u001B[0;36mexpect_list\u001B[0;34m(self, pattern_list, timeout, searchwindowsize, async_, **kw)\u001B[0m\n\u001B[1;32m    371\u001B[0m         \u001B[0;32melse\u001B[0m\u001B[0;34m:\u001B[0m\u001B[0;34m\u001B[0m\u001B[0;34m\u001B[0m\u001B[0m\n\u001B[0;32m--> 372\u001B[0;31m             \u001B[0;32mreturn\u001B[0m \u001B[0mexp\u001B[0m\u001B[0;34m.\u001B[0m\u001B[0mexpect_loop\u001B[0m\u001B[0;34m(\u001B[0m\u001B[0mtimeout\u001B[0m\u001B[0;34m)\u001B[0m\u001B[0;34m\u001B[0m\u001B[0;34m\u001B[0m\u001B[0m\n\u001B[0m\u001B[1;32m    373\u001B[0m \u001B[0;34m\u001B[0m\u001B[0m\n",
      "\u001B[0;32m~/anaconda3/lib/python3.8/site-packages/pexpect/expect.py\u001B[0m in \u001B[0;36mexpect_loop\u001B[0;34m(self, timeout)\u001B[0m\n\u001B[1;32m    168\u001B[0m                 \u001B[0;31m# Still have time left, so read more data\u001B[0m\u001B[0;34m\u001B[0m\u001B[0;34m\u001B[0m\u001B[0;34m\u001B[0m\u001B[0m\n\u001B[0;32m--> 169\u001B[0;31m                 \u001B[0mincoming\u001B[0m \u001B[0;34m=\u001B[0m \u001B[0mspawn\u001B[0m\u001B[0;34m.\u001B[0m\u001B[0mread_nonblocking\u001B[0m\u001B[0;34m(\u001B[0m\u001B[0mspawn\u001B[0m\u001B[0;34m.\u001B[0m\u001B[0mmaxread\u001B[0m\u001B[0;34m,\u001B[0m \u001B[0mtimeout\u001B[0m\u001B[0;34m)\u001B[0m\u001B[0;34m\u001B[0m\u001B[0;34m\u001B[0m\u001B[0m\n\u001B[0m\u001B[1;32m    170\u001B[0m                 \u001B[0;32mif\u001B[0m \u001B[0mself\u001B[0m\u001B[0;34m.\u001B[0m\u001B[0mspawn\u001B[0m\u001B[0;34m.\u001B[0m\u001B[0mdelayafterread\u001B[0m \u001B[0;32mis\u001B[0m \u001B[0;32mnot\u001B[0m \u001B[0;32mNone\u001B[0m\u001B[0;34m:\u001B[0m\u001B[0;34m\u001B[0m\u001B[0;34m\u001B[0m\u001B[0m\n",
      "\u001B[0;32m~/anaconda3/lib/python3.8/site-packages/pexpect/pty_spawn.py\u001B[0m in \u001B[0;36mread_nonblocking\u001B[0;34m(self, size, timeout)\u001B[0m\n\u001B[1;32m    499\u001B[0m         \u001B[0;31m# (possibly timeout=None), we call select() with a timeout.\u001B[0m\u001B[0;34m\u001B[0m\u001B[0;34m\u001B[0m\u001B[0;34m\u001B[0m\u001B[0m\n\u001B[0;32m--> 500\u001B[0;31m         \u001B[0;32mif\u001B[0m \u001B[0;34m(\u001B[0m\u001B[0mtimeout\u001B[0m \u001B[0;34m!=\u001B[0m \u001B[0;36m0\u001B[0m\u001B[0;34m)\u001B[0m \u001B[0;32mand\u001B[0m \u001B[0mselect\u001B[0m\u001B[0;34m(\u001B[0m\u001B[0mtimeout\u001B[0m\u001B[0;34m)\u001B[0m\u001B[0;34m:\u001B[0m\u001B[0;34m\u001B[0m\u001B[0;34m\u001B[0m\u001B[0m\n\u001B[0m\u001B[1;32m    501\u001B[0m             \u001B[0;32mreturn\u001B[0m \u001B[0msuper\u001B[0m\u001B[0;34m(\u001B[0m\u001B[0mspawn\u001B[0m\u001B[0;34m,\u001B[0m \u001B[0mself\u001B[0m\u001B[0;34m)\u001B[0m\u001B[0;34m.\u001B[0m\u001B[0mread_nonblocking\u001B[0m\u001B[0;34m(\u001B[0m\u001B[0msize\u001B[0m\u001B[0;34m)\u001B[0m\u001B[0;34m\u001B[0m\u001B[0;34m\u001B[0m\u001B[0m\n",
      "\u001B[0;32m~/anaconda3/lib/python3.8/site-packages/pexpect/pty_spawn.py\u001B[0m in \u001B[0;36mselect\u001B[0;34m(timeout)\u001B[0m\n\u001B[1;32m    449\u001B[0m             \u001B[0;32mdef\u001B[0m \u001B[0mselect\u001B[0m\u001B[0;34m(\u001B[0m\u001B[0mtimeout\u001B[0m\u001B[0;34m)\u001B[0m\u001B[0;34m:\u001B[0m\u001B[0;34m\u001B[0m\u001B[0;34m\u001B[0m\u001B[0m\n\u001B[0;32m--> 450\u001B[0;31m                 \u001B[0;32mreturn\u001B[0m \u001B[0mselect_ignore_interrupts\u001B[0m\u001B[0;34m(\u001B[0m\u001B[0;34m[\u001B[0m\u001B[0mself\u001B[0m\u001B[0;34m.\u001B[0m\u001B[0mchild_fd\u001B[0m\u001B[0;34m]\u001B[0m\u001B[0;34m,\u001B[0m \u001B[0;34m[\u001B[0m\u001B[0;34m]\u001B[0m\u001B[0;34m,\u001B[0m \u001B[0;34m[\u001B[0m\u001B[0;34m]\u001B[0m\u001B[0;34m,\u001B[0m \u001B[0mtimeout\u001B[0m\u001B[0;34m)\u001B[0m\u001B[0;34m[\u001B[0m\u001B[0;36m0\u001B[0m\u001B[0;34m]\u001B[0m\u001B[0;34m\u001B[0m\u001B[0;34m\u001B[0m\u001B[0m\n\u001B[0m\u001B[1;32m    451\u001B[0m \u001B[0;34m\u001B[0m\u001B[0m\n",
      "\u001B[0;32m~/anaconda3/lib/python3.8/site-packages/pexpect/utils.py\u001B[0m in \u001B[0;36mselect_ignore_interrupts\u001B[0;34m(iwtd, owtd, ewtd, timeout)\u001B[0m\n\u001B[1;32m    142\u001B[0m         \u001B[0;32mtry\u001B[0m\u001B[0;34m:\u001B[0m\u001B[0;34m\u001B[0m\u001B[0;34m\u001B[0m\u001B[0m\n\u001B[0;32m--> 143\u001B[0;31m             \u001B[0;32mreturn\u001B[0m \u001B[0mselect\u001B[0m\u001B[0;34m.\u001B[0m\u001B[0mselect\u001B[0m\u001B[0;34m(\u001B[0m\u001B[0miwtd\u001B[0m\u001B[0;34m,\u001B[0m \u001B[0mowtd\u001B[0m\u001B[0;34m,\u001B[0m \u001B[0mewtd\u001B[0m\u001B[0;34m,\u001B[0m \u001B[0mtimeout\u001B[0m\u001B[0;34m)\u001B[0m\u001B[0;34m\u001B[0m\u001B[0;34m\u001B[0m\u001B[0m\n\u001B[0m\u001B[1;32m    144\u001B[0m         \u001B[0;32mexcept\u001B[0m \u001B[0mInterruptedError\u001B[0m\u001B[0;34m:\u001B[0m\u001B[0;34m\u001B[0m\u001B[0;34m\u001B[0m\u001B[0m\n",
      "\u001B[0;31mKeyboardInterrupt\u001B[0m: ",
      "\nDuring handling of the above exception, another exception occurred:\n",
      "\u001B[0;31mKeyboardInterrupt\u001B[0m                         Traceback (most recent call last)",
      "\u001B[0;32m<ipython-input-15-48aba35389bf>\u001B[0m in \u001B[0;36m<module>\u001B[0;34m\u001B[0m\n\u001B[0;32m----> 1\u001B[0;31m \u001B[0mget_ipython\u001B[0m\u001B[0;34m(\u001B[0m\u001B[0;34m)\u001B[0m\u001B[0;34m.\u001B[0m\u001B[0msystem\u001B[0m\u001B[0;34m(\u001B[0m\u001B[0;34m'python Experiment.py --dataset tp --interaction Pure_Mf --rounds 1 --agg_epochs 10 --density 0.10 --part_type 5 --agg_type att --debug  1'\u001B[0m\u001B[0;34m)\u001B[0m\u001B[0;34m\u001B[0m\u001B[0;34m\u001B[0m\u001B[0m\n\u001B[0m",
      "\u001B[0;32m~/anaconda3/lib/python3.8/site-packages/ipykernel/zmqshell.py\u001B[0m in \u001B[0;36msystem_piped\u001B[0;34m(self, cmd)\u001B[0m\n\u001B[1;32m    633\u001B[0m                 \u001B[0mself\u001B[0m\u001B[0;34m.\u001B[0m\u001B[0muser_ns\u001B[0m\u001B[0;34m[\u001B[0m\u001B[0;34m'_exit_code'\u001B[0m\u001B[0;34m]\u001B[0m \u001B[0;34m=\u001B[0m \u001B[0msystem\u001B[0m\u001B[0;34m(\u001B[0m\u001B[0mcmd\u001B[0m\u001B[0;34m)\u001B[0m\u001B[0;34m\u001B[0m\u001B[0;34m\u001B[0m\u001B[0m\n\u001B[1;32m    634\u001B[0m         \u001B[0;32melse\u001B[0m\u001B[0;34m:\u001B[0m\u001B[0;34m\u001B[0m\u001B[0;34m\u001B[0m\u001B[0m\n\u001B[0;32m--> 635\u001B[0;31m             \u001B[0mself\u001B[0m\u001B[0;34m.\u001B[0m\u001B[0muser_ns\u001B[0m\u001B[0;34m[\u001B[0m\u001B[0;34m'_exit_code'\u001B[0m\u001B[0;34m]\u001B[0m \u001B[0;34m=\u001B[0m \u001B[0msystem\u001B[0m\u001B[0;34m(\u001B[0m\u001B[0mself\u001B[0m\u001B[0;34m.\u001B[0m\u001B[0mvar_expand\u001B[0m\u001B[0;34m(\u001B[0m\u001B[0mcmd\u001B[0m\u001B[0;34m,\u001B[0m \u001B[0mdepth\u001B[0m\u001B[0;34m=\u001B[0m\u001B[0;36m1\u001B[0m\u001B[0;34m)\u001B[0m\u001B[0;34m)\u001B[0m\u001B[0;34m\u001B[0m\u001B[0;34m\u001B[0m\u001B[0m\n\u001B[0m\u001B[1;32m    636\u001B[0m \u001B[0;34m\u001B[0m\u001B[0m\n\u001B[1;32m    637\u001B[0m     \u001B[0;31m# Ensure new system_piped implementation is used\u001B[0m\u001B[0;34m\u001B[0m\u001B[0;34m\u001B[0m\u001B[0;34m\u001B[0m\u001B[0m\n",
      "\u001B[0;32m~/anaconda3/lib/python3.8/site-packages/IPython/utils/_process_posix.py\u001B[0m in \u001B[0;36msystem\u001B[0;34m(self, cmd)\u001B[0m\n\u001B[1;32m    184\u001B[0m             \u001B[0;32mfinally\u001B[0m\u001B[0;34m:\u001B[0m\u001B[0;34m\u001B[0m\u001B[0;34m\u001B[0m\u001B[0m\n\u001B[1;32m    185\u001B[0m                 \u001B[0;31m# Ensure the subprocess really is terminated\u001B[0m\u001B[0;34m\u001B[0m\u001B[0;34m\u001B[0m\u001B[0;34m\u001B[0m\u001B[0m\n\u001B[0;32m--> 186\u001B[0;31m                 \u001B[0mchild\u001B[0m\u001B[0;34m.\u001B[0m\u001B[0mterminate\u001B[0m\u001B[0;34m(\u001B[0m\u001B[0mforce\u001B[0m\u001B[0;34m=\u001B[0m\u001B[0;32mTrue\u001B[0m\u001B[0;34m)\u001B[0m\u001B[0;34m\u001B[0m\u001B[0;34m\u001B[0m\u001B[0m\n\u001B[0m\u001B[1;32m    187\u001B[0m         \u001B[0;31m# add isalive check, to ensure exitstatus is set:\u001B[0m\u001B[0;34m\u001B[0m\u001B[0;34m\u001B[0m\u001B[0;34m\u001B[0m\u001B[0m\n\u001B[1;32m    188\u001B[0m         \u001B[0mchild\u001B[0m\u001B[0;34m.\u001B[0m\u001B[0misalive\u001B[0m\u001B[0;34m(\u001B[0m\u001B[0;34m)\u001B[0m\u001B[0;34m\u001B[0m\u001B[0;34m\u001B[0m\u001B[0m\n",
      "\u001B[0;32m~/anaconda3/lib/python3.8/site-packages/pexpect/pty_spawn.py\u001B[0m in \u001B[0;36mterminate\u001B[0;34m(self, force)\u001B[0m\n\u001B[1;32m    644\u001B[0m                 \u001B[0;32mreturn\u001B[0m \u001B[0;32mTrue\u001B[0m\u001B[0;34m\u001B[0m\u001B[0;34m\u001B[0m\u001B[0m\n\u001B[1;32m    645\u001B[0m             \u001B[0mself\u001B[0m\u001B[0;34m.\u001B[0m\u001B[0mkill\u001B[0m\u001B[0;34m(\u001B[0m\u001B[0msignal\u001B[0m\u001B[0;34m.\u001B[0m\u001B[0mSIGCONT\u001B[0m\u001B[0;34m)\u001B[0m\u001B[0;34m\u001B[0m\u001B[0;34m\u001B[0m\u001B[0m\n\u001B[0;32m--> 646\u001B[0;31m             \u001B[0mtime\u001B[0m\u001B[0;34m.\u001B[0m\u001B[0msleep\u001B[0m\u001B[0;34m(\u001B[0m\u001B[0mself\u001B[0m\u001B[0;34m.\u001B[0m\u001B[0mdelayafterterminate\u001B[0m\u001B[0;34m)\u001B[0m\u001B[0;34m\u001B[0m\u001B[0;34m\u001B[0m\u001B[0m\n\u001B[0m\u001B[1;32m    647\u001B[0m             \u001B[0;32mif\u001B[0m \u001B[0;32mnot\u001B[0m \u001B[0mself\u001B[0m\u001B[0;34m.\u001B[0m\u001B[0misalive\u001B[0m\u001B[0;34m(\u001B[0m\u001B[0;34m)\u001B[0m\u001B[0;34m:\u001B[0m\u001B[0;34m\u001B[0m\u001B[0;34m\u001B[0m\u001B[0m\n\u001B[1;32m    648\u001B[0m                 \u001B[0;32mreturn\u001B[0m \u001B[0;32mTrue\u001B[0m\u001B[0;34m\u001B[0m\u001B[0;34m\u001B[0m\u001B[0m\n",
      "\u001B[0;31mKeyboardInterrupt\u001B[0m: "
     ]
    }
   ],
   "source": [
    "!python Experiment.py --dataset tp --interaction Pure_Mf --rounds 1 --agg_epochs 10 --density 0.10 --part_type 5 --agg_type att --debug  1"
   ],
   "metadata": {
    "collapsed": false
   }
  },
  {
   "cell_type": "code",
   "execution_count": null,
   "outputs": [],
   "source": [
    "!python Experiment.py --dataset tp --interaction GraphMF --slice_epochs 15 --rounds 1 --agg_epochs 5 --density 0.10 --part_type 5 --agg_type att --debug  1"
   ],
   "metadata": {
    "collapsed": false
   }
  },
  {
   "cell_type": "code",
   "execution_count": null,
   "outputs": [],
   "source": [],
   "metadata": {
    "collapsed": false
   }
  }
 ],
 "metadata": {
  "kernelspec": {
   "display_name": "Python 3",
   "language": "python",
   "name": "python3"
  },
  "language_info": {
   "codemirror_mode": {
    "name": "ipython",
    "version": 2
   },
   "file_extension": ".py",
   "mimetype": "text/x-python",
   "name": "python",
   "nbconvert_exporter": "python",
   "pygments_lexer": "ipython2",
   "version": "2.7.6"
  }
 },
 "nbformat": 4,
 "nbformat_minor": 0
}
