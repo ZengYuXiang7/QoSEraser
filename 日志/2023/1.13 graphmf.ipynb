{
 "cells": [
  {
   "cell_type": "code",
   "execution_count": 99,
   "outputs": [],
   "source": [
    "# ====================================================#\n",
    "# Import Package & Setting Environment\n",
    "# ====================================================#\n",
    "\n",
    "import dgl as d\n",
    "import torch as t\n",
    "import torch.nn as nn\n",
    "import torch.nn.functional as F\n",
    "from torch.utils.data import DataLoader, random_split\n",
    "from utils import QoSGraphDataset, FeatureLookup\n",
    "import logging\n",
    "import numpy as np\n",
    "from tqdm import *\n",
    "import dgl.function as fn\n",
    "log = logging.getLogger('log')\n",
    "import pandas as pd\n",
    "t.set_default_tensor_type(t.FloatTensor)\n",
    "\n",
    "def Metrics(realVec, estiVec):\n",
    "    realVec = np.array(realVec)\n",
    "    estiVec = np.array(estiVec)\n",
    "\n",
    "    absError = np.abs(estiVec - realVec)\n",
    "    mae = np.mean(absError)\n",
    "    nmae = mae / (np.sum(realVec) / absError.shape[0])\n",
    "    rmse = np.linalg.norm(absError) / np.sqrt(absError.shape[0])\n",
    "    relativeError = absError / realVec\n",
    "    mre = np.percentile(relativeError, 50)\n",
    "    npre = np.percentile(relativeError, 90)\n",
    "\n",
    "    return np.array([mae, nmae, rmse, mre, npre])"
   ],
   "metadata": {
    "collapsed": false
   }
  },
  {
   "cell_type": "code",
   "execution_count": 100,
   "outputs": [],
   "source": [
    "# ====================================================#\n",
    "# Experiment Setting\n",
    "# ====================================================#\n",
    "params = {\n",
    "    'density':[0.10],\n",
    "    'dimension':[32],\n",
    "    'order':[1,2,3],\n",
    "    'epochs':15,\n",
    "    'batchsize':256,\n",
    "    'testsize':400000,\n",
    "    'type':'rt'\n",
    "}"
   ],
   "metadata": {
    "collapsed": false
   }
  },
  {
   "cell_type": "code",
   "execution_count": 101,
   "outputs": [],
   "source": [
    "class A:\n",
    "    def __init__(self, ):\n",
    "        self.dataset = 'rt'\n",
    "        self.path = './datasets/data/WSDREAM/'\n",
    "        self.density = 0.10\n",
    "        self.processed = 0\n",
    "        self.part_type = 1\n",
    "        self.slices = 1\n",
    "        self.epochs = 30\n",
    "        self.retrain = 1\n",
    "        self.batch_size = 128\n",
    "# args = A()"
   ],
   "metadata": {
    "collapsed": false
   }
  },
  {
   "cell_type": "code",
   "execution_count": 102,
   "outputs": [],
   "source": [
    "from datasets.dataloader import get_dataloaders\n",
    "from datasets.dataset import load_data, ShardedTensorDataset\n",
    "from utility.utils import *\n",
    "\n",
    "# 数据模型读取\n",
    "# df = np.array(load_data(args))\n",
    "# log('\\t原始数据集读取完毕')\n",
    "#\n",
    "# dataset = ShardedTensorDataset(df, True, args)\n",
    "# log('\\t分切数据执行完毕')\n",
    "#\n",
    "# datasets = dataset.get_tensor(0)\n",
    "#\n",
    "#\n",
    "# train_loader, valid_loader, test_loader = get_dataloaders(datasets, False, args)\n"
   ],
   "metadata": {
    "collapsed": false
   }
  },
  {
   "cell_type": "code",
   "execution_count": 103,
   "outputs": [],
   "source": [
    "# ====================================================#\n",
    "# Create Graph\n",
    "# ====================================================#\n",
    "def create_graph():\n",
    "    print('Registering Nodes')\n",
    "    userg = d.DGLGraph()\n",
    "    servg = d.DGLGraph()\n",
    "    user_lookup = FeatureLookup()\n",
    "    serv_lookup = FeatureLookup()\n",
    "    ufile = pd.read_csv('./datasets/data/WSDREAM/原始数据/userlist_table.csv')\n",
    "    ufile = pd.DataFrame(ufile)\n",
    "    ulines = ufile.to_numpy()\n",
    "    ulines = ulines\n",
    "\n",
    "    sfile = pd.read_csv('./datasets/data/WSDREAM/原始数据/wslist_table.csv')\n",
    "    sfile = pd.DataFrame(sfile)\n",
    "    slines = sfile.to_numpy()\n",
    "    slines = slines\n",
    "\n",
    "    for i in range(339):\n",
    "        user_lookup.register('User',i)\n",
    "    for j in range(5825):\n",
    "        serv_lookup.register('Serv', j)\n",
    "    for ure in ulines[:,2]:\n",
    "        user_lookup.register('URE', ure)\n",
    "    for uas in ulines[:, 4]:\n",
    "        user_lookup.register('UAS', uas)\n",
    "\n",
    "    for sre in slines[:, 4]:\n",
    "        serv_lookup.register('SRE', sre)\n",
    "    for spr in slines[:, 2]:\n",
    "        serv_lookup.register('SPR', spr)\n",
    "    for sas in slines[:, 6]:\n",
    "        serv_lookup.register('SAS', sas)\n",
    "\n",
    "    userg.add_nodes(len(user_lookup))\n",
    "    servg.add_nodes(len(serv_lookup))\n",
    "\n",
    "    for line in ulines:\n",
    "        uid = line[0]\n",
    "        ure = user_lookup.query_id(line[2])\n",
    "        if not userg.has_edge_between(uid,ure):\n",
    "            userg.add_edge(uid, ure)\n",
    "\n",
    "        uas = user_lookup.query_id(line[4])\n",
    "        if not userg.has_edge_between(uid,uas):\n",
    "            userg.add_edge(uid, uas)\n",
    "\n",
    "    for line in slines:\n",
    "        sid = line[0]\n",
    "        sre = serv_lookup.query_id(line[4])\n",
    "        if not servg.has_edge_between(sid,sre):\n",
    "            servg.add_edge(sid, sre)\n",
    "\n",
    "        sas = serv_lookup.query_id(line[6])\n",
    "        if not servg.has_edge_between(sid,sas):\n",
    "            servg.add_edge(sid, sas)\n",
    "\n",
    "        spr = serv_lookup.query_id(line[2])\n",
    "        if not servg.has_edge_between(sid,spr):\n",
    "            servg.add_edge(sid, spr)\n",
    "\n",
    "    userg = d.add_self_loop(userg)\n",
    "    userg = d.to_bidirected(userg)\n",
    "    servg = d.add_self_loop(servg)\n",
    "    servg = d.to_bidirected(servg)\n",
    "    return user_lookup,serv_lookup,userg,servg"
   ],
   "metadata": {
    "collapsed": false
   }
  },
  {
   "cell_type": "code",
   "execution_count": 104,
   "outputs": [],
   "source": [
    "# ====================================================#\n",
    "# Create Model\n",
    "# ====================================================#\n",
    "from dgl.nn import SAGEConv, GATConv\n",
    "class NeuralCF(t.nn.Module):\n",
    "\n",
    "    def __init__(self, input_size):\n",
    "        super(NeuralCF, self).__init__()\n",
    "        self.layers = t.nn.Sequential(\n",
    "            t.nn.Linear(input_size, 128),\n",
    "            t.nn.LayerNorm(128),\n",
    "            t.nn.ReLU(),\n",
    "            t.nn.Linear(128, 128),\n",
    "            t.nn.LayerNorm(128),\n",
    "            t.nn.ReLU(),\n",
    "            t.nn.Linear(128, 1)\n",
    "        )\n",
    "\n",
    "    def forward(self, input):\n",
    "        return self.layers(input)\n",
    "\n",
    "\n",
    "class GraphSAGEConv(t.nn.Module):\n",
    "\n",
    "    def __init__(self, graph, dim, order=3):\n",
    "        super(GraphSAGEConv, self).__init__()\n",
    "        self.order = order\n",
    "        self.graph = graph\n",
    "        self.embedding = t.nn.Parameter(t.Tensor(self.graph.number_of_nodes(), dim))\n",
    "        t.nn.init.kaiming_normal_(self.embedding)\n",
    "        self.graph.ndata['L0'] = self.embedding\n",
    "        self.layers = t.nn.ModuleList([SAGEConv(dim, dim, aggregator_type='gcn') for _ in range(order)])\n",
    "        # self.layers = t.nn.ModuleList([GATConv(dim, dim, num_heads=1) for _ in range(order)])\n",
    "        self.norms = t.nn.ModuleList([t.nn.LayerNorm(dim) for _ in range(order)])\n",
    "        self.acts = t.nn.ModuleList([t.nn.RELU() for _ in range(order)])\n",
    "\n",
    "    def forward(self,uid):\n",
    "        g = self.graph\n",
    "        feats = g.ndata['L0']\n",
    "        for i, (layer, norm, act) in enumerate(zip(self.layers, self.norms, self.acts)):\n",
    "            feats = layer(g,feats).squeeze()\n",
    "            feats = norm(feats)\n",
    "            feats = act(feats)\n",
    "            g.ndata[f'L{i + 1}'] = feats\n",
    "        embeds = g.ndata['L0'][uid]\n",
    "        # for i in range(self.order):\n",
    "        #     embeds = t.cat((embeds, g.ndata[f'L{i + 1}'][uid]), dim=-1)\n",
    "        # return feats[uid]\n",
    "        return embeds\n",
    "\n",
    "\n",
    "class NeuGraphMF(t.nn.Module):\n",
    "\n",
    "    def __init__(self, usergraph, servgraph, dim, order=3):\n",
    "        super(NeuGraphMF, self).__init__()\n",
    "        self.usergraph = usergraph\n",
    "        self.servgraph = servgraph\n",
    "        self.dim = dim\n",
    "        self.order = order\n",
    "        self.UserEmbedding = GraphSAGEConv(usergraph, dim, order)\n",
    "        self.ServEmbedding = GraphSAGEConv(servgraph, dim, order)\n",
    "        self.ncf = NeuralCF(2 * (order + 1) * dim)\n",
    "\n",
    "    def forward(self, uid, sid):\n",
    "        user_embeds = self.UserEmbedding(uid)\n",
    "        serv_embeds = self.ServEmbedding(sid)\n",
    "        #return t.sum(user_embeds * serv_embeds,-1).sigmoid()\n",
    "        return self.ncf(t.cat((user_embeds, serv_embeds), dim=-1)).sigmoid()\n"
   ],
   "metadata": {
    "collapsed": false
   }
  },
  {
   "cell_type": "code",
   "execution_count": 105,
   "outputs": [],
   "source": [
    "def EvaluationOnce(dimension,dataset,order,userg,servg,trainLoader,testLoader, params, args):\n",
    "    cuda = t.cuda.is_available()\n",
    "    model = NeuGraphMF(userg, servg, dim=dimension, order=order)\n",
    "    # print(model)\n",
    "    #model = t.nn.DataParallel(model)\n",
    "    if cuda:\n",
    "        model = model.cuda()\n",
    "\n",
    "    loss = t.nn.L1Loss().cuda()\n",
    "    lr = 1e-3\n",
    "    optimizer = t.optim.AdamW(model.parameters(),lr=lr)\n",
    "\n",
    "    for epoch in range(args.epochs):\n",
    "        total_loss = 0\n",
    "        if epoch % 5 == 0:\n",
    "            lr /= 2\n",
    "            optimizer = t.optim.AdamW(model.parameters(),lr=lr,weight_decay=1e-3)\n",
    "\n",
    "        model.train()\n",
    "        try:\n",
    "            with tqdm(trainLoader) as dataiter:\n",
    "                for batch in dataiter:\n",
    "                    optimizer.zero_grad()\n",
    "                    uid,sid,label = batch\n",
    "                    if cuda:\n",
    "                        uid = uid.cuda(non_blocking=True)\n",
    "                        sid = sid.cuda(non_blocking=True)\n",
    "                        label = label.cuda(non_blocking=True)\n",
    "                    val = model(uid,sid)\n",
    "                    #print(val,label)\n",
    "                    val = val.reshape(label.shape)\n",
    "                    trainloss = loss(val,label)\n",
    "                    trainloss.backward()\n",
    "                    optimizer.step()\n",
    "                    total_loss += trainloss\n",
    "        except KeyboardInterrupt:\n",
    "            dataiter.close()\n",
    "            raise\n",
    "        arr0 = np.zeros((5,))\n",
    "        model.eval()\n",
    "        try:\n",
    "            if epoch >= 0:\n",
    "                with tqdm(testLoader) as dataiter:\n",
    "                    for batch in dataiter:\n",
    "                        uid,sid,label = batch\n",
    "                        if cuda:\n",
    "                            uid = uid.cuda(non_blocking=True)\n",
    "                            sid = sid.cuda(non_blocking=True)\n",
    "                        val = model(uid,sid)\n",
    "                        if params['type'] == 'rt':\n",
    "                            val,label = val * dataset.max_value ,label * dataset.max_value\n",
    "                        else:\n",
    "                            val, label = val * dataset.max_value, label * dataset.max_value\n",
    "                        val = val.reshape(label.shape).detach().cpu().numpy()\n",
    "                        label = label.detach().numpy()\n",
    "                        arr0 += Metrics(val,label)\n",
    "        except KeyboardInterrupt:\n",
    "            dataiter.close()\n",
    "            raise\n",
    "        arr0 /= len(testLoader)\n",
    "        import time\n",
    "        print(f'Epochs {epoch}: Loss={total_loss / len(trainLoader)}')\n",
    "        print('Epochs %d: MAE:%.4f NMAE:%.4f RMSE:%.4f MRE:%.4f NPRE:%.4f' %(epoch,*arr0))\n",
    "\n",
    "def Evaluation(params):\n",
    "    for density in [0.10]:\n",
    "        args = A()\n",
    "        user_lookup, serv_lookup, userg, servg = create_graph()\n",
    "        df = np.array(load_data(args))\n",
    "        dataset = ShardedTensorDataset(df, True, args)\n",
    "        datasets = dataset.get_tensor(0)\n",
    "        train_loader, valid_loader, test_loader = get_dataloaders(datasets, False, args)\n",
    "        for dimension in [32]:\n",
    "            for order in [0]:\n",
    "                print(f'Evaluating : GraphNeuMF-Dim:{dimension}-Order:{order} in MD={density}')\n",
    "                EvaluationOnce(dimension=dimension,dataset=dataset, order=order,userg=userg,servg=servg,\n",
    "                               trainLoader=train_loader,testLoader=test_loader,params=params, args = args)"
   ],
   "metadata": {
    "collapsed": false
   }
  },
  {
   "cell_type": "code",
   "execution_count": 106,
   "outputs": [
    {
     "name": "stdout",
     "output_type": "stream",
     "text": [
      "Registering Nodes\n",
      "2023-01-15 14:23:13  \tSISA 切割完毕\n",
      "Evaluating : GraphNeuMF-Dim:32-Order:0 in MD=0.1\n"
     ]
    },
    {
     "name": "stderr",
     "output_type": "stream",
     "text": [
      "100%|██████████| 1461/1461 [00:03<00:00, 444.96it/s]\n",
      "100%|██████████| 1555/1555 [00:09<00:00, 163.32it/s]\n"
     ]
    },
    {
     "name": "stdout",
     "output_type": "stream",
     "text": [
      "Epochs 0: Loss=0.036781489849090576\n",
      "Epochs 0: MAE:0.6252 NMAE:1.1296 RMSE:1.6022 MRE:0.4820 NPRE:1.8549\n"
     ]
    },
    {
     "name": "stderr",
     "output_type": "stream",
     "text": [
      "100%|██████████| 1461/1461 [00:02<00:00, 611.42it/s]\n",
      "100%|██████████| 1555/1555 [00:09<00:00, 164.22it/s]\n"
     ]
    },
    {
     "name": "stdout",
     "output_type": "stream",
     "text": [
      "Epochs 1: Loss=0.026427004486322403\n",
      "Epochs 1: MAE:0.4788 NMAE:0.8014 RMSE:1.3236 MRE:0.4441 NPRE:1.5008\n"
     ]
    },
    {
     "name": "stderr",
     "output_type": "stream",
     "text": [
      "100%|██████████| 1461/1461 [00:03<00:00, 417.58it/s]\n",
      "100%|██████████| 1555/1555 [00:09<00:00, 160.92it/s]\n"
     ]
    },
    {
     "name": "stdout",
     "output_type": "stream",
     "text": [
      "Epochs 2: Loss=0.021902190521359444\n",
      "Epochs 2: MAE:0.4395 NMAE:0.6814 RMSE:1.2295 MRE:0.3917 NPRE:1.2315\n"
     ]
    },
    {
     "name": "stderr",
     "output_type": "stream",
     "text": [
      "100%|██████████| 1461/1461 [00:03<00:00, 447.67it/s]\n",
      "100%|██████████| 1555/1555 [00:09<00:00, 165.83it/s]\n"
     ]
    },
    {
     "name": "stdout",
     "output_type": "stream",
     "text": [
      "Epochs 3: Loss=0.02055671438574791\n",
      "Epochs 3: MAE:0.4278 NMAE:0.6387 RMSE:1.1959 MRE:0.3792 NPRE:1.1922\n"
     ]
    },
    {
     "name": "stderr",
     "output_type": "stream",
     "text": [
      "100%|██████████| 1461/1461 [00:03<00:00, 428.05it/s]\n",
      "100%|██████████| 1555/1555 [00:09<00:00, 163.00it/s]\n"
     ]
    },
    {
     "name": "stdout",
     "output_type": "stream",
     "text": [
      "Epochs 4: Loss=0.01992742531001568\n",
      "Epochs 4: MAE:0.4239 NMAE:0.7077 RMSE:1.2027 MRE:0.4177 NPRE:1.3616\n"
     ]
    },
    {
     "name": "stderr",
     "output_type": "stream",
     "text": [
      "100%|██████████| 1461/1461 [00:03<00:00, 476.83it/s]\n",
      "100%|██████████| 1555/1555 [00:09<00:00, 161.99it/s]\n"
     ]
    },
    {
     "name": "stdout",
     "output_type": "stream",
     "text": [
      "Epochs 5: Loss=0.01907500810921192\n",
      "Epochs 5: MAE:0.4154 NMAE:0.6057 RMSE:1.1757 MRE:0.3610 NPRE:1.1012\n"
     ]
    },
    {
     "name": "stderr",
     "output_type": "stream",
     "text": [
      "100%|██████████| 1461/1461 [00:03<00:00, 440.24it/s]\n",
      "100%|██████████| 1555/1555 [00:09<00:00, 159.73it/s]\n"
     ]
    },
    {
     "name": "stdout",
     "output_type": "stream",
     "text": [
      "Epochs 6: Loss=0.018731730058789253\n",
      "Epochs 6: MAE:0.4147 NMAE:0.6014 RMSE:1.1744 MRE:0.3562 NPRE:1.0859\n"
     ]
    },
    {
     "name": "stderr",
     "output_type": "stream",
     "text": [
      "100%|██████████| 1461/1461 [00:03<00:00, 427.15it/s]\n",
      "100%|██████████| 1555/1555 [00:09<00:00, 164.83it/s]\n"
     ]
    },
    {
     "name": "stdout",
     "output_type": "stream",
     "text": [
      "Epochs 7: Loss=0.018474243581295013\n",
      "Epochs 7: MAE:0.4128 NMAE:0.6338 RMSE:1.1750 MRE:0.3811 NPRE:1.1874\n"
     ]
    },
    {
     "name": "stderr",
     "output_type": "stream",
     "text": [
      "100%|██████████| 1461/1461 [00:03<00:00, 454.42it/s]\n",
      "100%|██████████| 1555/1555 [00:09<00:00, 163.96it/s]\n"
     ]
    },
    {
     "name": "stdout",
     "output_type": "stream",
     "text": [
      "Epochs 8: Loss=0.018205411732196808\n",
      "Epochs 8: MAE:0.4129 NMAE:0.6110 RMSE:1.1745 MRE:0.3636 NPRE:1.1215\n"
     ]
    },
    {
     "name": "stderr",
     "output_type": "stream",
     "text": [
      "100%|██████████| 1461/1461 [00:03<00:00, 396.59it/s]\n",
      "100%|██████████| 1555/1555 [00:09<00:00, 164.95it/s]\n"
     ]
    },
    {
     "name": "stdout",
     "output_type": "stream",
     "text": [
      "Epochs 9: Loss=0.017973050475120544\n",
      "Epochs 9: MAE:0.4127 NMAE:0.6477 RMSE:1.1766 MRE:0.3738 NPRE:1.1907\n"
     ]
    },
    {
     "name": "stderr",
     "output_type": "stream",
     "text": [
      "100%|██████████| 1461/1461 [00:03<00:00, 407.91it/s]\n",
      "100%|██████████| 1555/1555 [00:09<00:00, 160.91it/s]\n"
     ]
    },
    {
     "name": "stdout",
     "output_type": "stream",
     "text": [
      "Epochs 10: Loss=0.017454609274864197\n",
      "Epochs 10: MAE:0.4110 NMAE:0.6011 RMSE:1.1683 MRE:0.3563 NPRE:1.0960\n"
     ]
    },
    {
     "name": "stderr",
     "output_type": "stream",
     "text": [
      "100%|██████████| 1461/1461 [00:03<00:00, 463.36it/s]\n",
      "100%|██████████| 1555/1555 [00:09<00:00, 164.16it/s]\n"
     ]
    },
    {
     "name": "stdout",
     "output_type": "stream",
     "text": [
      "Epochs 11: Loss=0.01724589616060257\n",
      "Epochs 11: MAE:0.4111 NMAE:0.6070 RMSE:1.1700 MRE:0.3636 NPRE:1.1255\n"
     ]
    },
    {
     "name": "stderr",
     "output_type": "stream",
     "text": [
      "100%|██████████| 1461/1461 [00:02<00:00, 695.76it/s]\n",
      "100%|██████████| 1555/1555 [00:09<00:00, 167.84it/s]\n"
     ]
    },
    {
     "name": "stdout",
     "output_type": "stream",
     "text": [
      "Epochs 12: Loss=0.01709037832915783\n",
      "Epochs 12: MAE:0.4109 NMAE:0.6174 RMSE:1.1701 MRE:0.3656 NPRE:1.1430\n"
     ]
    },
    {
     "name": "stderr",
     "output_type": "stream",
     "text": [
      "100%|██████████| 1461/1461 [00:02<00:00, 538.90it/s]\n",
      "100%|██████████| 1555/1555 [00:09<00:00, 161.94it/s]\n"
     ]
    },
    {
     "name": "stdout",
     "output_type": "stream",
     "text": [
      "Epochs 13: Loss=0.01695169322192669\n",
      "Epochs 13: MAE:0.4114 NMAE:0.5996 RMSE:1.1681 MRE:0.3583 NPRE:1.1006\n"
     ]
    },
    {
     "name": "stderr",
     "output_type": "stream",
     "text": [
      "100%|██████████| 1461/1461 [00:03<00:00, 461.84it/s]\n",
      "100%|██████████| 1555/1555 [00:09<00:00, 164.00it/s]\n"
     ]
    },
    {
     "name": "stdout",
     "output_type": "stream",
     "text": [
      "Epochs 14: Loss=0.016820449382066727\n",
      "Epochs 14: MAE:0.4115 NMAE:0.5981 RMSE:1.1686 MRE:0.3562 NPRE:1.0980\n"
     ]
    },
    {
     "name": "stderr",
     "output_type": "stream",
     "text": [
      "100%|██████████| 1461/1461 [00:02<00:00, 587.88it/s]\n",
      "100%|██████████| 1555/1555 [00:09<00:00, 164.53it/s]\n"
     ]
    },
    {
     "name": "stdout",
     "output_type": "stream",
     "text": [
      "Epochs 15: Loss=0.016512615606188774\n",
      "Epochs 15: MAE:0.4124 NMAE:0.5942 RMSE:1.1682 MRE:0.3584 NPRE:1.0959\n"
     ]
    },
    {
     "name": "stderr",
     "output_type": "stream",
     "text": [
      "100%|██████████| 1461/1461 [00:03<00:00, 453.22it/s]\n",
      "100%|██████████| 1555/1555 [00:09<00:00, 164.12it/s]\n"
     ]
    },
    {
     "name": "stdout",
     "output_type": "stream",
     "text": [
      "Epochs 16: Loss=0.01639491878449917\n",
      "Epochs 16: MAE:0.4118 NMAE:0.6011 RMSE:1.1683 MRE:0.3593 NPRE:1.1097\n"
     ]
    },
    {
     "name": "stderr",
     "output_type": "stream",
     "text": [
      "100%|██████████| 1461/1461 [00:02<00:00, 666.55it/s]\n",
      "100%|██████████| 1555/1555 [00:09<00:00, 161.83it/s]\n"
     ]
    },
    {
     "name": "stdout",
     "output_type": "stream",
     "text": [
      "Epochs 17: Loss=0.016307558864355087\n",
      "Epochs 17: MAE:0.4118 NMAE:0.6041 RMSE:1.1698 MRE:0.3603 NPRE:1.1194\n"
     ]
    },
    {
     "name": "stderr",
     "output_type": "stream",
     "text": [
      "100%|██████████| 1461/1461 [00:03<00:00, 448.60it/s]\n",
      "100%|██████████| 1555/1555 [00:09<00:00, 162.11it/s]\n"
     ]
    },
    {
     "name": "stdout",
     "output_type": "stream",
     "text": [
      "Epochs 18: Loss=0.01622665300965309\n",
      "Epochs 18: MAE:0.4123 NMAE:0.6122 RMSE:1.1704 MRE:0.3665 NPRE:1.1402\n"
     ]
    },
    {
     "name": "stderr",
     "output_type": "stream",
     "text": [
      "100%|██████████| 1461/1461 [00:03<00:00, 470.79it/s]\n",
      "100%|██████████| 1555/1555 [00:09<00:00, 166.73it/s]\n"
     ]
    },
    {
     "name": "stdout",
     "output_type": "stream",
     "text": [
      "Epochs 19: Loss=0.016155770048499107\n",
      "Epochs 19: MAE:0.4124 NMAE:0.6095 RMSE:1.1706 MRE:0.3635 NPRE:1.1279\n"
     ]
    },
    {
     "name": "stderr",
     "output_type": "stream",
     "text": [
      "100%|██████████| 1461/1461 [00:03<00:00, 422.80it/s]\n",
      "100%|██████████| 1555/1555 [00:09<00:00, 160.21it/s]\n"
     ]
    },
    {
     "name": "stdout",
     "output_type": "stream",
     "text": [
      "Epochs 20: Loss=0.015987372025847435\n",
      "Epochs 20: MAE:0.4128 NMAE:0.6043 RMSE:1.1701 MRE:0.3620 NPRE:1.1187\n"
     ]
    },
    {
     "name": "stderr",
     "output_type": "stream",
     "text": [
      "100%|██████████| 1461/1461 [00:03<00:00, 423.23it/s]\n",
      "100%|██████████| 1555/1555 [00:09<00:00, 164.55it/s]\n"
     ]
    },
    {
     "name": "stdout",
     "output_type": "stream",
     "text": [
      "Epochs 21: Loss=0.01592305302619934\n",
      "Epochs 21: MAE:0.4130 NMAE:0.6020 RMSE:1.1699 MRE:0.3611 NPRE:1.1142\n"
     ]
    },
    {
     "name": "stderr",
     "output_type": "stream",
     "text": [
      "100%|██████████| 1461/1461 [00:03<00:00, 425.99it/s]\n",
      "100%|██████████| 1555/1555 [00:09<00:00, 162.56it/s]\n"
     ]
    },
    {
     "name": "stdout",
     "output_type": "stream",
     "text": [
      "Epochs 22: Loss=0.01587669365108013\n",
      "Epochs 22: MAE:0.4131 NMAE:0.6007 RMSE:1.1699 MRE:0.3590 NPRE:1.1065\n"
     ]
    },
    {
     "name": "stderr",
     "output_type": "stream",
     "text": [
      "100%|██████████| 1461/1461 [00:03<00:00, 470.94it/s]\n",
      "100%|██████████| 1555/1555 [00:09<00:00, 163.15it/s]\n"
     ]
    },
    {
     "name": "stdout",
     "output_type": "stream",
     "text": [
      "Epochs 23: Loss=0.015836220234632492\n",
      "Epochs 23: MAE:0.4132 NMAE:0.6056 RMSE:1.1713 MRE:0.3625 NPRE:1.1224\n"
     ]
    },
    {
     "name": "stderr",
     "output_type": "stream",
     "text": [
      "100%|██████████| 1461/1461 [00:02<00:00, 622.17it/s]\n",
      "100%|██████████| 1555/1555 [00:09<00:00, 160.37it/s]\n"
     ]
    },
    {
     "name": "stdout",
     "output_type": "stream",
     "text": [
      "Epochs 24: Loss=0.015794094651937485\n",
      "Epochs 24: MAE:0.4135 NMAE:0.6110 RMSE:1.1722 MRE:0.3658 NPRE:1.1381\n"
     ]
    },
    {
     "name": "stderr",
     "output_type": "stream",
     "text": [
      "100%|██████████| 1461/1461 [00:03<00:00, 420.39it/s]\n",
      "100%|██████████| 1555/1555 [00:09<00:00, 164.11it/s]\n"
     ]
    },
    {
     "name": "stdout",
     "output_type": "stream",
     "text": [
      "Epochs 25: Loss=0.015703493729233742\n",
      "Epochs 25: MAE:0.4138 NMAE:0.6029 RMSE:1.1710 MRE:0.3621 NPRE:1.1173\n"
     ]
    },
    {
     "name": "stderr",
     "output_type": "stream",
     "text": [
      "100%|██████████| 1461/1461 [00:03<00:00, 479.73it/s]\n",
      "100%|██████████| 1555/1555 [00:09<00:00, 164.87it/s]\n"
     ]
    },
    {
     "name": "stdout",
     "output_type": "stream",
     "text": [
      "Epochs 26: Loss=0.015672165900468826\n",
      "Epochs 26: MAE:0.4138 NMAE:0.6013 RMSE:1.1705 MRE:0.3608 NPRE:1.1126\n"
     ]
    },
    {
     "name": "stderr",
     "output_type": "stream",
     "text": [
      "100%|██████████| 1461/1461 [00:03<00:00, 444.31it/s]\n",
      "100%|██████████| 1555/1555 [00:09<00:00, 162.85it/s]\n"
     ]
    },
    {
     "name": "stdout",
     "output_type": "stream",
     "text": [
      "Epochs 27: Loss=0.01564422994852066\n",
      "Epochs 27: MAE:0.4138 NMAE:0.6024 RMSE:1.1708 MRE:0.3607 NPRE:1.1147\n"
     ]
    },
    {
     "name": "stderr",
     "output_type": "stream",
     "text": [
      "100%|██████████| 1461/1461 [00:03<00:00, 451.48it/s]\n",
      "100%|██████████| 1555/1555 [00:09<00:00, 164.02it/s]\n"
     ]
    },
    {
     "name": "stdout",
     "output_type": "stream",
     "text": [
      "Epochs 28: Loss=0.015625467523932457\n",
      "Epochs 28: MAE:0.4140 NMAE:0.6034 RMSE:1.1712 MRE:0.3619 NPRE:1.1191\n"
     ]
    },
    {
     "name": "stderr",
     "output_type": "stream",
     "text": [
      "100%|██████████| 1461/1461 [00:03<00:00, 400.58it/s]\n",
      "100%|██████████| 1555/1555 [00:09<00:00, 161.49it/s]"
     ]
    },
    {
     "name": "stdout",
     "output_type": "stream",
     "text": [
      "Epochs 29: Loss=0.015603703446686268\n",
      "Epochs 29: MAE:0.4138 NMAE:0.6049 RMSE:1.1713 MRE:0.3618 NPRE:1.1210\n"
     ]
    },
    {
     "name": "stderr",
     "output_type": "stream",
     "text": [
      "\n"
     ]
    }
   ],
   "source": [
    "Evaluation(params=params)"
   ],
   "metadata": {
    "collapsed": false
   }
  }
 ],
 "metadata": {
  "kernelspec": {
   "display_name": "Python 3",
   "language": "python",
   "name": "python3"
  },
  "language_info": {
   "codemirror_mode": {
    "name": "ipython",
    "version": 2
   },
   "file_extension": ".py",
   "mimetype": "text/x-python",
   "name": "python",
   "nbconvert_exporter": "python",
   "pygments_lexer": "ipython2",
   "version": "2.7.6"
  }
 },
 "nbformat": 4,
 "nbformat_minor": 0
}
