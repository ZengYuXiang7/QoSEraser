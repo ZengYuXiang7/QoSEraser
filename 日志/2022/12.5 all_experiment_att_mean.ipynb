{
 "cells": [
  {
   "cell_type": "markdown",
   "source": [],
   "metadata": {
    "collapsed": false
   }
  },
  {
   "cell_type": "markdown",
   "source": [
    "# Author : yuxiang Zeng\n"
   ],
   "metadata": {
    "collapsed": false
   }
  },
  {
   "cell_type": "markdown",
   "source": [
    "# Density : 0.10"
   ],
   "metadata": {
    "collapsed": false
   }
  },
  {
   "cell_type": "markdown",
   "source": [
    "### SISA"
   ],
   "metadata": {
    "collapsed": false
   }
  },
  {
   "cell_type": "code",
   "execution_count": 1,
   "outputs": [
    {
     "name": "stdout",
     "output_type": "stream",
     "text": [
      "2022-12-11 02:24:46  Namespace(agg_epochs=10, agg_type='mean', balance=0, batch_size=128, dataset='rt', debug=0, density=0.1, devices='gpu', dimension=64, dropout=0.1, interaction='NeuCF', kmeans_type=1, node2vec=0, node2vec_batchsize=32, node2vec_dim=128, node2vec_epochs=20, node2vec_length=10, node2vec_walk=50, node2vec_windows=3, num_layers=2, order=2, part_iter=50, part_type=1, path='./datasets/data/WSDREAM/', processed=0, retrain=0, rounds=1, save_model=1, slice_epochs=50, slices=10, subagg=1, verbose=0)\r\n",
      "2022-12-11 02:24:46  All the experiments have been done!\r\n",
      "2022-12-11 02:24:46  Dataset : rt     interaction : NeuCF\r\n",
      "2022-12-11 02:24:46  Density : 10.00%, slice_epochs : 50, agg_epochs : 10\r\n",
      "2022-12-11 02:24:46  Part_type : 1,    slices : 10,       devices : gpu\r\n",
      "2022-12-11 02:24:46  Dataset : rt     interaction : NeuCF\r\n",
      "2022-12-11 02:24:46  Density : 10.00%, slice_epochs : 50, agg_epochs : 10\r\n",
      "2022-12-11 02:24:46  Part_type : 1,    slices : 10,       devices : gpu\r\n",
      "\r\n",
      "\r\n",
      "2022-12-11 02:24:46  Density 10.00% : MAE = 0.609, RMSE = 1.687, NMAE = 0.670, MRE = 0.529, NPRE = 2.696\r\n",
      "\r\n",
      "2022-12-11 02:24:46  Experiment success!\r\n"
     ]
    }
   ],
   "source": [
    "!python Experiment.py --dataset rt --interaction NeuCF --rounds 1 --agg_epochs 10 --density 0.10 --slices 10 --part_type 1 --processed 0"
   ],
   "metadata": {
    "collapsed": false
   }
  },
  {
   "cell_type": "code",
   "execution_count": 2,
   "outputs": [
    {
     "name": "stdout",
     "output_type": "stream",
     "text": [
      "2022-12-11 02:24:47  Namespace(agg_epochs=10, agg_type='mean', balance=0, batch_size=128, dataset='tp', debug=0, density=0.1, devices='gpu', dimension=64, dropout=0.1, interaction='NeuCF', kmeans_type=1, node2vec=0, node2vec_batchsize=32, node2vec_dim=128, node2vec_epochs=20, node2vec_length=10, node2vec_walk=50, node2vec_windows=3, num_layers=2, order=2, part_iter=50, part_type=1, path='./datasets/data/WSDREAM/', processed=0, retrain=0, rounds=1, save_model=1, slice_epochs=50, slices=10, subagg=1, verbose=0)\r\n",
      "2022-12-11 02:24:47  All the experiments have been done!\r\n",
      "2022-12-11 02:24:47  Dataset : tp     interaction : NeuCF\r\n",
      "2022-12-11 02:24:47  Density : 10.00%, slice_epochs : 50, agg_epochs : 10\r\n",
      "2022-12-11 02:24:47  Part_type : 1,    slices : 10,       devices : gpu\r\n",
      "2022-12-11 02:24:47  Dataset : tp     interaction : NeuCF\r\n",
      "2022-12-11 02:24:47  Density : 10.00%, slice_epochs : 50, agg_epochs : 10\r\n",
      "2022-12-11 02:24:47  Part_type : 1,    slices : 10,       devices : gpu\r\n",
      "\r\n",
      "\r\n",
      "2022-12-11 02:24:47  Density 10.00% : MAE = 31.281, RMSE = 86.837, NMAE = 0.658, MRE = 0.616, NPRE = 3.608\r\n",
      "\r\n",
      "2022-12-11 02:24:47  Experiment success!\r\n"
     ]
    }
   ],
   "source": [
    "!python Experiment.py --dataset tp --interaction NeuCF --rounds 1 --agg_epochs 10 --density 0.10 --slices 10 --part_type 1 --processed 0"
   ],
   "metadata": {
    "collapsed": false
   }
  },
  {
   "cell_type": "code",
   "execution_count": 3,
   "outputs": [
    {
     "name": "stdout",
     "output_type": "stream",
     "text": [
      "2022-12-11 02:24:48  Namespace(agg_epochs=10, agg_type='mean', balance=0, batch_size=128, dataset='rt', debug=0, density=0.1, devices='gpu', dimension=64, dropout=0.1, interaction='CSMF', kmeans_type=1, node2vec=0, node2vec_batchsize=32, node2vec_dim=128, node2vec_epochs=20, node2vec_length=10, node2vec_walk=50, node2vec_windows=3, num_layers=2, order=2, part_iter=50, part_type=1, path='./datasets/data/WSDREAM/', processed=0, retrain=0, rounds=1, save_model=1, slice_epochs=50, slices=10, subagg=1, verbose=0)\r\n",
      "2022-12-11 02:24:48  All the experiments have been done!\r\n",
      "2022-12-11 02:24:48  Dataset : rt     interaction : CSMF\r\n",
      "2022-12-11 02:24:48  Density : 10.00%, slice_epochs : 50, agg_epochs : 10\r\n",
      "2022-12-11 02:24:48  Part_type : 1,    slices : 10,       devices : gpu\r\n",
      "2022-12-11 02:24:48  Dataset : rt     interaction : CSMF\r\n",
      "2022-12-11 02:24:48  Density : 10.00%, slice_epochs : 50, agg_epochs : 10\r\n",
      "2022-12-11 02:24:48  Part_type : 1,    slices : 10,       devices : gpu\r\n",
      "\r\n",
      "\r\n",
      "2022-12-11 02:24:48  Density 10.00% : MAE = 0.735, RMSE = 2.048, NMAE = 0.809, MRE = 0.609, NPRE = 2.732\r\n",
      "\r\n",
      "2022-12-11 02:24:48  Experiment success!\r\n"
     ]
    }
   ],
   "source": [
    "!python Experiment.py --dataset rt --interaction CSMF --rounds 1 --agg_epochs 10 --density 0.10 --slices 10 --part_type 1 --processed 0"
   ],
   "metadata": {
    "collapsed": false
   }
  },
  {
   "cell_type": "code",
   "execution_count": 4,
   "outputs": [
    {
     "name": "stdout",
     "output_type": "stream",
     "text": [
      "2022-12-11 02:24:48  Namespace(agg_epochs=10, agg_type='mean', balance=0, batch_size=128, dataset='tp', debug=0, density=0.1, devices='gpu', dimension=64, dropout=0.1, interaction='CSMF', kmeans_type=1, node2vec=0, node2vec_batchsize=32, node2vec_dim=128, node2vec_epochs=20, node2vec_length=10, node2vec_walk=50, node2vec_windows=3, num_layers=2, order=2, part_iter=50, part_type=1, path='./datasets/data/WSDREAM/', processed=0, retrain=0, rounds=1, save_model=1, slice_epochs=50, slices=10, subagg=1, verbose=0)\r\n",
      "2022-12-11 02:24:48  All the experiments have been done!\r\n",
      "2022-12-11 02:24:48  Dataset : tp     interaction : CSMF\r\n",
      "2022-12-11 02:24:48  Density : 10.00%, slice_epochs : 50, agg_epochs : 10\r\n",
      "2022-12-11 02:24:48  Part_type : 1,    slices : 10,       devices : gpu\r\n",
      "2022-12-11 02:24:48  Dataset : tp     interaction : CSMF\r\n",
      "2022-12-11 02:24:48  Density : 10.00%, slice_epochs : 50, agg_epochs : 10\r\n",
      "2022-12-11 02:24:48  Part_type : 1,    slices : 10,       devices : gpu\r\n",
      "\r\n",
      "\r\n",
      "2022-12-11 02:24:48  Density 10.00% : MAE = 39.934, RMSE = 112.969, NMAE = 0.839, MRE = 0.691, NPRE = 4.065\r\n",
      "\r\n",
      "2022-12-11 02:24:48  Experiment success!\r\n"
     ]
    }
   ],
   "source": [
    "!python Experiment.py --dataset tp --interaction CSMF --rounds 1 --agg_epochs 10 --density 0.10 --slices 10 --part_type 1 --processed 0"
   ],
   "metadata": {
    "collapsed": false
   }
  },
  {
   "cell_type": "code",
   "execution_count": 5,
   "outputs": [],
   "source": [
    "# !python Experiment.py --dataset rt --interaction NeuGraphMF --rounds 1 --agg_epochs 10 --density 0.10 --slices 10 --part_type 1 --processed 0"
   ],
   "metadata": {
    "collapsed": false
   }
  },
  {
   "cell_type": "code",
   "execution_count": 6,
   "outputs": [],
   "source": [
    "# !python Experiment.py --dataset tp --interaction NeuGraphMF --rounds 1 --agg_epochs 10 --density 0.10 --slices 10 --part_type 1 --processed 0"
   ],
   "metadata": {
    "collapsed": false
   }
  },
  {
   "cell_type": "code",
   "execution_count": 7,
   "outputs": [
    {
     "name": "stdout",
     "output_type": "stream",
     "text": [
      "2022-12-11 02:24:49  Namespace(agg_epochs=10, agg_type='mean', balance=0, batch_size=128, dataset='rt', debug=0, density=0.1, devices='gpu', dimension=64, dropout=0.1, interaction='Pure_Mf', kmeans_type=1, node2vec=0, node2vec_batchsize=32, node2vec_dim=128, node2vec_epochs=20, node2vec_length=10, node2vec_walk=50, node2vec_windows=3, num_layers=2, order=2, part_iter=50, part_type=1, path='./datasets/data/WSDREAM/', processed=0, retrain=0, rounds=1, save_model=1, slice_epochs=50, slices=10, subagg=1, verbose=0)\r\n",
      "2022-12-11 02:24:49  All the experiments have been done!\r\n",
      "2022-12-11 02:24:49  Dataset : rt     interaction : Pure_Mf\r\n",
      "2022-12-11 02:24:49  Density : 10.00%, slice_epochs : 50, agg_epochs : 10\r\n",
      "2022-12-11 02:24:49  Part_type : 1,    slices : 10,       devices : gpu\r\n",
      "2022-12-11 02:24:49  Dataset : rt     interaction : Pure_Mf\r\n",
      "2022-12-11 02:24:49  Density : 10.00%, slice_epochs : 50, agg_epochs : 10\r\n",
      "2022-12-11 02:24:49  Part_type : 1,    slices : 10,       devices : gpu\r\n",
      "\r\n",
      "\r\n",
      "2022-12-11 02:24:49  Density 10.00% : MAE = 0.753, RMSE = 2.054, NMAE = 0.830, MRE = 0.681, NPRE = 3.476\r\n",
      "\r\n",
      "2022-12-11 02:24:49  Experiment success!\r\n"
     ]
    }
   ],
   "source": [
    "!python Experiment.py --dataset rt --interaction Pure_Mf --rounds 1 --agg_epochs 10 --density 0.10 --slices 10 --part_type 1 --processed 0"
   ],
   "metadata": {
    "collapsed": false
   }
  },
  {
   "cell_type": "code",
   "execution_count": 8,
   "outputs": [
    {
     "name": "stdout",
     "output_type": "stream",
     "text": [
      "2022-12-11 02:24:50  Namespace(agg_epochs=10, agg_type='mean', balance=0, batch_size=128, dataset='tp', debug=0, density=0.1, devices='gpu', dimension=64, dropout=0.1, interaction='Pure_Mf', kmeans_type=1, node2vec=0, node2vec_batchsize=32, node2vec_dim=128, node2vec_epochs=20, node2vec_length=10, node2vec_walk=50, node2vec_windows=3, num_layers=2, order=2, part_iter=50, part_type=1, path='./datasets/data/WSDREAM/', processed=0, retrain=0, rounds=1, save_model=1, slice_epochs=50, slices=10, subagg=1, verbose=0)\r\n",
      "2022-12-11 02:24:50  All the experiments have been done!\r\n",
      "2022-12-11 02:24:50  Dataset : tp     interaction : Pure_Mf\r\n",
      "2022-12-11 02:24:50  Density : 10.00%, slice_epochs : 50, agg_epochs : 10\r\n",
      "2022-12-11 02:24:50  Part_type : 1,    slices : 10,       devices : gpu\r\n",
      "2022-12-11 02:24:50  Dataset : tp     interaction : Pure_Mf\r\n",
      "2022-12-11 02:24:50  Density : 10.00%, slice_epochs : 50, agg_epochs : 10\r\n",
      "2022-12-11 02:24:50  Part_type : 1,    slices : 10,       devices : gpu\r\n",
      "\r\n",
      "\r\n",
      "2022-12-11 02:24:50  Density 10.00% : MAE = 41.788, RMSE = 116.427, NMAE = 0.879, MRE = 0.747, NPRE = 3.979\r\n",
      "\r\n",
      "2022-12-11 02:24:50  Experiment success!\r\n"
     ]
    }
   ],
   "source": [
    "!python Experiment.py --dataset tp --interaction Pure_Mf --rounds 1 --agg_epochs 10 --density 0.10 --slices 10 --part_type 1 --processed 0"
   ],
   "metadata": {
    "collapsed": false
   }
  },
  {
   "cell_type": "markdown",
   "source": [
    "*****"
   ],
   "metadata": {
    "collapsed": false
   }
  },
  {
   "cell_type": "markdown",
   "source": [
    "## Density : 0.15"
   ],
   "metadata": {
    "collapsed": false
   }
  },
  {
   "cell_type": "markdown",
   "source": [
    "### SISA"
   ],
   "metadata": {
    "collapsed": false
   }
  },
  {
   "cell_type": "code",
   "execution_count": 9,
   "outputs": [
    {
     "name": "stdout",
     "output_type": "stream",
     "text": [
      "2022-12-11 02:24:51  Namespace(agg_epochs=10, agg_type='mean', balance=0, batch_size=128, dataset='rt', debug=0, density=0.15, devices='gpu', dimension=64, dropout=0.1, interaction='NeuCF', kmeans_type=1, node2vec=0, node2vec_batchsize=32, node2vec_dim=128, node2vec_epochs=20, node2vec_length=10, node2vec_walk=50, node2vec_windows=3, num_layers=2, order=2, part_iter=50, part_type=1, path='./datasets/data/WSDREAM/', processed=0, retrain=0, rounds=1, save_model=1, slice_epochs=50, slices=10, subagg=1, verbose=0)\r\n",
      "2022-12-11 02:24:51  All the experiments have been done!\r\n",
      "2022-12-11 02:24:51  Dataset : rt     interaction : NeuCF\r\n",
      "2022-12-11 02:24:51  Density : 15.00%, slice_epochs : 50, agg_epochs : 10\r\n",
      "2022-12-11 02:24:51  Part_type : 1,    slices : 10,       devices : gpu\r\n",
      "2022-12-11 02:24:51  Dataset : rt     interaction : NeuCF\r\n",
      "2022-12-11 02:24:51  Density : 15.00%, slice_epochs : 50, agg_epochs : 10\r\n",
      "2022-12-11 02:24:51  Part_type : 1,    slices : 10,       devices : gpu\r\n",
      "\r\n",
      "\r\n",
      "2022-12-11 02:24:51  Density 15.00% : MAE = 0.588, RMSE = 1.647, NMAE = 0.646, MRE = 0.520, NPRE = 2.738\r\n",
      "\r\n",
      "2022-12-11 02:24:51  Experiment success!\r\n"
     ]
    }
   ],
   "source": [
    "!python Experiment.py --dataset rt --interaction NeuCF --rounds 1 --agg_epochs 10 --density 0.15 --slices 10 --part_type 1 --processed 0"
   ],
   "metadata": {
    "collapsed": false
   }
  },
  {
   "cell_type": "code",
   "execution_count": 10,
   "outputs": [
    {
     "name": "stdout",
     "output_type": "stream",
     "text": [
      "2022-12-11 02:24:52  Namespace(agg_epochs=10, agg_type='mean', balance=0, batch_size=128, dataset='tp', debug=0, density=0.15, devices='gpu', dimension=64, dropout=0.1, interaction='NeuCF', kmeans_type=1, node2vec=0, node2vec_batchsize=32, node2vec_dim=128, node2vec_epochs=20, node2vec_length=10, node2vec_walk=50, node2vec_windows=3, num_layers=2, order=2, part_iter=50, part_type=1, path='./datasets/data/WSDREAM/', processed=0, retrain=0, rounds=1, save_model=1, slice_epochs=50, slices=10, subagg=1, verbose=0)\r\n",
      "2022-12-11 02:24:52  All the experiments have been done!\r\n",
      "2022-12-11 02:24:52  Dataset : tp     interaction : NeuCF\r\n",
      "2022-12-11 02:24:52  Density : 15.00%, slice_epochs : 50, agg_epochs : 10\r\n",
      "2022-12-11 02:24:52  Part_type : 1,    slices : 10,       devices : gpu\r\n",
      "2022-12-11 02:24:52  Dataset : tp     interaction : NeuCF\r\n",
      "2022-12-11 02:24:52  Density : 15.00%, slice_epochs : 50, agg_epochs : 10\r\n",
      "2022-12-11 02:24:52  Part_type : 1,    slices : 10,       devices : gpu\r\n",
      "\r\n",
      "\r\n",
      "2022-12-11 02:24:52  Density 15.00% : MAE = 29.899, RMSE = 82.279, NMAE = 0.629, MRE = 0.597, NPRE = 3.351\r\n",
      "\r\n",
      "2022-12-11 02:24:52  Experiment success!\r\n"
     ]
    }
   ],
   "source": [
    "!python Experiment.py --dataset tp --interaction NeuCF --rounds 1 --agg_epochs 10 --density 0.15 --slices 10 --part_type 1 --processed 0"
   ],
   "metadata": {
    "collapsed": false
   }
  },
  {
   "cell_type": "code",
   "execution_count": 11,
   "outputs": [
    {
     "name": "stdout",
     "output_type": "stream",
     "text": [
      "2022-12-11 02:24:53  Namespace(agg_epochs=10, agg_type='mean', balance=0, batch_size=128, dataset='rt', debug=0, density=0.15, devices='gpu', dimension=64, dropout=0.1, interaction='CSMF', kmeans_type=1, node2vec=0, node2vec_batchsize=32, node2vec_dim=128, node2vec_epochs=20, node2vec_length=10, node2vec_walk=50, node2vec_windows=3, num_layers=2, order=2, part_iter=50, part_type=1, path='./datasets/data/WSDREAM/', processed=0, retrain=0, rounds=1, save_model=1, slice_epochs=50, slices=10, subagg=1, verbose=0)\r\n",
      "2022-12-11 02:24:53  All the experiments have been done!\r\n",
      "2022-12-11 02:24:53  Dataset : rt     interaction : CSMF\r\n",
      "2022-12-11 02:24:53  Density : 15.00%, slice_epochs : 50, agg_epochs : 10\r\n",
      "2022-12-11 02:24:53  Part_type : 1,    slices : 10,       devices : gpu\r\n",
      "2022-12-11 02:24:53  Dataset : rt     interaction : CSMF\r\n",
      "2022-12-11 02:24:53  Density : 15.00%, slice_epochs : 50, agg_epochs : 10\r\n",
      "2022-12-11 02:24:53  Part_type : 1,    slices : 10,       devices : gpu\r\n",
      "\r\n",
      "\r\n",
      "2022-12-11 02:24:53  Density 15.00% : MAE = 0.725, RMSE = 2.044, NMAE = 0.798, MRE = 0.582, NPRE = 2.377\r\n",
      "\r\n",
      "2022-12-11 02:24:53  Experiment success!\r\n"
     ]
    }
   ],
   "source": [
    "!python Experiment.py --dataset rt --interaction CSMF --rounds 1 --agg_epochs 10 --density 0.15 --slices 10 --part_type 1 --processed 0"
   ],
   "metadata": {
    "collapsed": false
   }
  },
  {
   "cell_type": "code",
   "execution_count": 12,
   "outputs": [
    {
     "name": "stdout",
     "output_type": "stream",
     "text": [
      "2022-12-11 02:24:54  Namespace(agg_epochs=10, agg_type='mean', balance=0, batch_size=128, dataset='tp', debug=0, density=0.15, devices='gpu', dimension=64, dropout=0.1, interaction='CSMF', kmeans_type=1, node2vec=0, node2vec_batchsize=32, node2vec_dim=128, node2vec_epochs=20, node2vec_length=10, node2vec_walk=50, node2vec_windows=3, num_layers=2, order=2, part_iter=50, part_type=1, path='./datasets/data/WSDREAM/', processed=0, retrain=0, rounds=1, save_model=1, slice_epochs=50, slices=10, subagg=1, verbose=0)\r\n",
      "2022-12-11 02:24:54  All the experiments have been done!\r\n",
      "2022-12-11 02:24:54  Dataset : tp     interaction : CSMF\r\n",
      "2022-12-11 02:24:54  Density : 15.00%, slice_epochs : 50, agg_epochs : 10\r\n",
      "2022-12-11 02:24:54  Part_type : 1,    slices : 10,       devices : gpu\r\n",
      "2022-12-11 02:24:54  Dataset : tp     interaction : CSMF\r\n",
      "2022-12-11 02:24:54  Density : 15.00%, slice_epochs : 50, agg_epochs : 10\r\n",
      "2022-12-11 02:24:54  Part_type : 1,    slices : 10,       devices : gpu\r\n",
      "\r\n",
      "\r\n",
      "2022-12-11 02:24:54  Density 15.00% : MAE = 38.941, RMSE = 108.283, NMAE = 0.819, MRE = 0.701, NPRE = 4.816\r\n",
      "\r\n",
      "2022-12-11 02:24:54  Experiment success!\r\n"
     ]
    }
   ],
   "source": [
    "!python Experiment.py --dataset tp --interaction CSMF --rounds 1 --agg_epochs 10 --density 0.15 --slices 10 --part_type 1 --processed 0"
   ],
   "metadata": {
    "collapsed": false
   }
  },
  {
   "cell_type": "code",
   "execution_count": 13,
   "outputs": [],
   "source": [
    "# !python Experiment.py --dataset rt --interaction NeuGraphMF --rounds 1 --agg_epochs 10 --density 0.15 --slices 10 --part_type 1 --processed 0"
   ],
   "metadata": {
    "collapsed": false
   }
  },
  {
   "cell_type": "code",
   "execution_count": 14,
   "outputs": [],
   "source": [
    "# !python Experiment.py --dataset tp --interaction NeuGraphMF --rounds 1 --agg_epochs 10 --density 0.15 --slices 10 --part_type 1 --processed 0"
   ],
   "metadata": {
    "collapsed": false
   }
  },
  {
   "cell_type": "code",
   "execution_count": 15,
   "outputs": [
    {
     "name": "stdout",
     "output_type": "stream",
     "text": [
      "2022-12-11 02:24:54  Namespace(agg_epochs=10, agg_type='mean', balance=0, batch_size=128, dataset='rt', debug=0, density=0.15, devices='gpu', dimension=64, dropout=0.1, interaction='Pure_Mf', kmeans_type=1, node2vec=0, node2vec_batchsize=32, node2vec_dim=128, node2vec_epochs=20, node2vec_length=10, node2vec_walk=50, node2vec_windows=3, num_layers=2, order=2, part_iter=50, part_type=1, path='./datasets/data/WSDREAM/', processed=0, retrain=0, rounds=1, save_model=1, slice_epochs=50, slices=10, subagg=1, verbose=0)\r\n",
      "2022-12-11 02:24:54  All the experiments have been done!\r\n",
      "2022-12-11 02:24:54  Dataset : rt     interaction : Pure_Mf\r\n",
      "2022-12-11 02:24:54  Density : 15.00%, slice_epochs : 50, agg_epochs : 10\r\n",
      "2022-12-11 02:24:54  Part_type : 1,    slices : 10,       devices : gpu\r\n",
      "2022-12-11 02:24:54  Dataset : rt     interaction : Pure_Mf\r\n",
      "2022-12-11 02:24:54  Density : 15.00%, slice_epochs : 50, agg_epochs : 10\r\n",
      "2022-12-11 02:24:54  Part_type : 1,    slices : 10,       devices : gpu\r\n",
      "\r\n",
      "\r\n",
      "2022-12-11 02:24:54  Density 15.00% : MAE = 0.754, RMSE = 2.062, NMAE = 0.830, MRE = 0.660, NPRE = 3.095\r\n",
      "\r\n",
      "2022-12-11 02:24:54  Experiment success!\r\n"
     ]
    }
   ],
   "source": [
    "!python Experiment.py --dataset rt --interaction Pure_Mf --rounds 1 --agg_epochs 10 --density 0.15 --slices 10 --part_type 1 --processed 0"
   ],
   "metadata": {
    "collapsed": false
   }
  },
  {
   "cell_type": "code",
   "execution_count": 16,
   "outputs": [
    {
     "name": "stdout",
     "output_type": "stream",
     "text": [
      "2022-12-11 02:24:55  Namespace(agg_epochs=10, agg_type='mean', balance=0, batch_size=128, dataset='tp', debug=0, density=0.15, devices='gpu', dimension=64, dropout=0.1, interaction='Pure_Mf', kmeans_type=1, node2vec=0, node2vec_batchsize=32, node2vec_dim=128, node2vec_epochs=20, node2vec_length=10, node2vec_walk=50, node2vec_windows=3, num_layers=2, order=2, part_iter=50, part_type=1, path='./datasets/data/WSDREAM/', processed=0, retrain=0, rounds=1, save_model=1, slice_epochs=50, slices=10, subagg=1, verbose=0)\r\n",
      "2022-12-11 02:24:55  All the experiments have been done!\r\n",
      "2022-12-11 02:24:55  Dataset : tp     interaction : Pure_Mf\r\n",
      "2022-12-11 02:24:55  Density : 15.00%, slice_epochs : 50, agg_epochs : 10\r\n",
      "2022-12-11 02:24:55  Part_type : 1,    slices : 10,       devices : gpu\r\n",
      "2022-12-11 02:24:55  Dataset : tp     interaction : Pure_Mf\r\n",
      "2022-12-11 02:24:55  Density : 15.00%, slice_epochs : 50, agg_epochs : 10\r\n",
      "2022-12-11 02:24:55  Part_type : 1,    slices : 10,       devices : gpu\r\n",
      "\r\n",
      "\r\n",
      "2022-12-11 02:24:55  Density 15.00% : MAE = 41.651, RMSE = 115.576, NMAE = 0.876, MRE = 0.783, NPRE = 5.434\r\n",
      "\r\n",
      "2022-12-11 02:24:55  Experiment success!\r\n"
     ]
    }
   ],
   "source": [
    "!python Experiment.py --dataset tp --interaction Pure_Mf --rounds 1 --agg_epochs 10 --density 0.15 --slices 10 --part_type 1 --processed 0"
   ],
   "metadata": {
    "collapsed": false
   }
  },
  {
   "cell_type": "markdown",
   "source": [
    "*****"
   ],
   "metadata": {
    "collapsed": false
   }
  },
  {
   "cell_type": "markdown",
   "source": [
    "## Density : 0.20"
   ],
   "metadata": {
    "collapsed": false
   }
  },
  {
   "cell_type": "markdown",
   "source": [
    "### SISA"
   ],
   "metadata": {
    "collapsed": false
   }
  },
  {
   "cell_type": "code",
   "execution_count": 17,
   "outputs": [
    {
     "name": "stdout",
     "output_type": "stream",
     "text": [
      "2022-12-11 02:24:56  Namespace(agg_epochs=10, agg_type='mean', balance=0, batch_size=128, dataset='rt', debug=0, density=0.2, devices='gpu', dimension=64, dropout=0.1, interaction='NeuCF', kmeans_type=1, node2vec=0, node2vec_batchsize=32, node2vec_dim=128, node2vec_epochs=20, node2vec_length=10, node2vec_walk=50, node2vec_windows=3, num_layers=2, order=2, part_iter=50, part_type=1, path='./datasets/data/WSDREAM/', processed=0, retrain=0, rounds=1, save_model=1, slice_epochs=50, slices=10, subagg=1, verbose=0)\r\n",
      "2022-12-11 02:24:56  All the experiments have been done!\r\n",
      "2022-12-11 02:24:56  Dataset : rt     interaction : NeuCF\r\n",
      "2022-12-11 02:24:56  Density : 20.00%, slice_epochs : 50, agg_epochs : 10\r\n",
      "2022-12-11 02:24:56  Part_type : 1,    slices : 10,       devices : gpu\r\n",
      "2022-12-11 02:24:56  Dataset : rt     interaction : NeuCF\r\n",
      "2022-12-11 02:24:56  Density : 20.00%, slice_epochs : 50, agg_epochs : 10\r\n",
      "2022-12-11 02:24:56  Part_type : 1,    slices : 10,       devices : gpu\r\n",
      "\r\n",
      "\r\n",
      "2022-12-11 02:24:56  Density 20.00% : MAE = 0.565, RMSE = 1.579, NMAE = 0.622, MRE = 0.506, NPRE = 2.426\r\n",
      "\r\n",
      "2022-12-11 02:24:56  Experiment success!\r\n"
     ]
    }
   ],
   "source": [
    "!python Experiment.py --dataset rt --interaction NeuCF --rounds 1 --agg_epochs 10 --density 0.20 --slices 10 --part_type 1 --processed 0"
   ],
   "metadata": {
    "collapsed": false
   }
  },
  {
   "cell_type": "code",
   "execution_count": 18,
   "outputs": [
    {
     "name": "stdout",
     "output_type": "stream",
     "text": [
      "2022-12-11 02:24:57  Namespace(agg_epochs=10, agg_type='mean', balance=0, batch_size=128, dataset='tp', debug=0, density=0.2, devices='gpu', dimension=64, dropout=0.1, interaction='NeuCF', kmeans_type=1, node2vec=0, node2vec_batchsize=32, node2vec_dim=128, node2vec_epochs=20, node2vec_length=10, node2vec_walk=50, node2vec_windows=3, num_layers=2, order=2, part_iter=50, part_type=1, path='./datasets/data/WSDREAM/', processed=0, retrain=0, rounds=1, save_model=1, slice_epochs=50, slices=10, subagg=1, verbose=0)\r\n",
      "2022-12-11 02:24:57  All the experiments have been done!\r\n",
      "2022-12-11 02:24:57  Dataset : tp     interaction : NeuCF\r\n",
      "2022-12-11 02:24:57  Density : 20.00%, slice_epochs : 50, agg_epochs : 10\r\n",
      "2022-12-11 02:24:57  Part_type : 1,    slices : 10,       devices : gpu\r\n",
      "2022-12-11 02:24:57  Dataset : tp     interaction : NeuCF\r\n",
      "2022-12-11 02:24:57  Density : 20.00%, slice_epochs : 50, agg_epochs : 10\r\n",
      "2022-12-11 02:24:57  Part_type : 1,    slices : 10,       devices : gpu\r\n",
      "\r\n",
      "\r\n",
      "2022-12-11 02:24:57  Density 20.00% : MAE = 41.650, RMSE = 115.834, NMAE = 0.876, MRE = 0.767, NPRE = 4.879\r\n",
      "\r\n",
      "2022-12-11 02:24:57  Experiment success!\r\n"
     ]
    }
   ],
   "source": [
    "!python Experiment.py --dataset tp --interaction NeuCF --rounds 1 --agg_epochs 10 --density 0.20 --slices 10 --part_type 1 --processed 0"
   ],
   "metadata": {
    "collapsed": false
   }
  },
  {
   "cell_type": "code",
   "execution_count": 19,
   "outputs": [
    {
     "name": "stdout",
     "output_type": "stream",
     "text": [
      "2022-12-11 02:24:58  Namespace(agg_epochs=10, agg_type='mean', balance=0, batch_size=128, dataset='rt', debug=0, density=0.2, devices='gpu', dimension=64, dropout=0.1, interaction='CSMF', kmeans_type=1, node2vec=0, node2vec_batchsize=32, node2vec_dim=128, node2vec_epochs=20, node2vec_length=10, node2vec_walk=50, node2vec_windows=3, num_layers=2, order=2, part_iter=50, part_type=1, path='./datasets/data/WSDREAM/', processed=0, retrain=0, rounds=1, save_model=1, slice_epochs=50, slices=10, subagg=1, verbose=0)\r\n",
      "2022-12-11 02:24:58  All the experiments have been done!\r\n",
      "2022-12-11 02:24:58  Dataset : rt     interaction : CSMF\r\n",
      "2022-12-11 02:24:58  Density : 20.00%, slice_epochs : 50, agg_epochs : 10\r\n",
      "2022-12-11 02:24:58  Part_type : 1,    slices : 10,       devices : gpu\r\n",
      "2022-12-11 02:24:58  Dataset : rt     interaction : CSMF\r\n",
      "2022-12-11 02:24:58  Density : 20.00%, slice_epochs : 50, agg_epochs : 10\r\n",
      "2022-12-11 02:24:58  Part_type : 1,    slices : 10,       devices : gpu\r\n",
      "\r\n",
      "\r\n",
      "2022-12-11 02:24:58  Density 20.00% : MAE = 0.723, RMSE = 2.035, NMAE = 0.795, MRE = 0.595, NPRE = 2.565\r\n",
      "\r\n",
      "2022-12-11 02:24:58  Experiment success!\r\n"
     ]
    }
   ],
   "source": [
    "!python Experiment.py --dataset rt --interaction CSMF --rounds 1 --agg_epochs 10 --density 0.20 --slices 10 --part_type 1 --processed 0"
   ],
   "metadata": {
    "collapsed": false
   }
  },
  {
   "cell_type": "code",
   "execution_count": 20,
   "outputs": [
    {
     "name": "stdout",
     "output_type": "stream",
     "text": [
      "2022-12-11 02:24:59  Namespace(agg_epochs=10, agg_type='mean', balance=0, batch_size=128, dataset='tp', debug=0, density=0.2, devices='gpu', dimension=64, dropout=0.1, interaction='CSMF', kmeans_type=1, node2vec=0, node2vec_batchsize=32, node2vec_dim=128, node2vec_epochs=20, node2vec_length=10, node2vec_walk=50, node2vec_windows=3, num_layers=2, order=2, part_iter=50, part_type=1, path='./datasets/data/WSDREAM/', processed=0, retrain=0, rounds=1, save_model=1, slice_epochs=50, slices=10, subagg=1, verbose=0)\r\n",
      "2022-12-11 02:24:59  All the experiments have been done!\r\n",
      "2022-12-11 02:24:59  Dataset : tp     interaction : CSMF\r\n",
      "2022-12-11 02:24:59  Density : 20.00%, slice_epochs : 50, agg_epochs : 10\r\n",
      "2022-12-11 02:24:59  Part_type : 1,    slices : 10,       devices : gpu\r\n",
      "2022-12-11 02:24:59  Dataset : tp     interaction : CSMF\r\n",
      "2022-12-11 02:24:59  Density : 20.00%, slice_epochs : 50, agg_epochs : 10\r\n",
      "2022-12-11 02:24:59  Part_type : 1,    slices : 10,       devices : gpu\r\n",
      "\r\n",
      "\r\n",
      "2022-12-11 02:24:59  Density 20.00% : MAE = 37.060, RMSE = 101.607, NMAE = 0.779, MRE = 0.676, NPRE = 3.481\r\n",
      "\r\n",
      "2022-12-11 02:24:59  Experiment success!\r\n"
     ]
    }
   ],
   "source": [
    "!python Experiment.py --dataset tp --interaction CSMF --rounds 1 --agg_epochs 10 --density 0.20 --slices 10 --part_type 1 --processed 0"
   ],
   "metadata": {
    "collapsed": false
   }
  },
  {
   "cell_type": "code",
   "execution_count": 21,
   "outputs": [],
   "source": [
    "# !python Experiment.py --dataset rt --interaction NeuGraphMF --rounds 1 --agg_epochs 10 --density 0.20 --slices 10 --part_type 1 --processed 0"
   ],
   "metadata": {
    "collapsed": false
   }
  },
  {
   "cell_type": "code",
   "execution_count": 22,
   "outputs": [],
   "source": [
    "# !python Experiment.py --dataset tp --interaction NeuGraphMF --rounds 1 --agg_epochs 10 --density 0.20 --slices 10 --part_type 1 --processed 0"
   ],
   "metadata": {
    "collapsed": false
   }
  },
  {
   "cell_type": "code",
   "execution_count": 23,
   "outputs": [
    {
     "name": "stdout",
     "output_type": "stream",
     "text": [
      "2022-12-11 02:25:00  Namespace(agg_epochs=10, agg_type='mean', balance=0, batch_size=128, dataset='rt', debug=0, density=0.2, devices='gpu', dimension=64, dropout=0.1, interaction='Pure_Mf', kmeans_type=1, node2vec=0, node2vec_batchsize=32, node2vec_dim=128, node2vec_epochs=20, node2vec_length=10, node2vec_walk=50, node2vec_windows=3, num_layers=2, order=2, part_iter=50, part_type=1, path='./datasets/data/WSDREAM/', processed=0, retrain=0, rounds=1, save_model=1, slice_epochs=50, slices=10, subagg=1, verbose=0)\r\n",
      "2022-12-11 02:25:00  All the experiments have been done!\r\n",
      "2022-12-11 02:25:00  Dataset : rt     interaction : Pure_Mf\r\n",
      "2022-12-11 02:25:00  Density : 20.00%, slice_epochs : 50, agg_epochs : 10\r\n",
      "2022-12-11 02:25:00  Part_type : 1,    slices : 10,       devices : gpu\r\n",
      "2022-12-11 02:25:00  Dataset : rt     interaction : Pure_Mf\r\n",
      "2022-12-11 02:25:00  Density : 20.00%, slice_epochs : 50, agg_epochs : 10\r\n",
      "2022-12-11 02:25:00  Part_type : 1,    slices : 10,       devices : gpu\r\n",
      "\r\n",
      "\r\n",
      "2022-12-11 02:25:00  Density 20.00% : MAE = 0.754, RMSE = 2.064, NMAE = 0.830, MRE = 0.655, NPRE = 2.975\r\n",
      "\r\n",
      "2022-12-11 02:25:00  Experiment success!\r\n"
     ]
    }
   ],
   "source": [
    "!python Experiment.py --dataset rt --interaction Pure_Mf --rounds 1 --agg_epochs 10 --density 0.20 --slices 10 --part_type 1 --processed 0"
   ],
   "metadata": {
    "collapsed": false
   }
  },
  {
   "cell_type": "code",
   "execution_count": 24,
   "outputs": [
    {
     "name": "stdout",
     "output_type": "stream",
     "text": [
      "2022-12-11 02:25:00  Namespace(agg_epochs=10, agg_type='mean', balance=0, batch_size=128, dataset='tp', debug=0, density=0.2, devices='gpu', dimension=64, dropout=0.1, interaction='Pure_Mf', kmeans_type=1, node2vec=0, node2vec_batchsize=32, node2vec_dim=128, node2vec_epochs=20, node2vec_length=10, node2vec_walk=50, node2vec_windows=3, num_layers=2, order=2, part_iter=50, part_type=1, path='./datasets/data/WSDREAM/', processed=0, retrain=0, rounds=1, save_model=1, slice_epochs=50, slices=10, subagg=1, verbose=0)\r\n",
      "2022-12-11 02:25:00  All the experiments have been done!\r\n",
      "2022-12-11 02:25:00  Dataset : tp     interaction : Pure_Mf\r\n",
      "2022-12-11 02:25:00  Density : 20.00%, slice_epochs : 50, agg_epochs : 10\r\n",
      "2022-12-11 02:25:00  Part_type : 1,    slices : 10,       devices : gpu\r\n",
      "2022-12-11 02:25:00  Dataset : tp     interaction : Pure_Mf\r\n",
      "2022-12-11 02:25:00  Density : 20.00%, slice_epochs : 50, agg_epochs : 10\r\n",
      "2022-12-11 02:25:00  Part_type : 1,    slices : 10,       devices : gpu\r\n",
      "\r\n",
      "\r\n",
      "2022-12-11 02:25:00  Density 20.00% : MAE = 41.632, RMSE = 115.321, NMAE = 0.876, MRE = 0.786, NPRE = 5.533\r\n",
      "\r\n",
      "2022-12-11 02:25:00  Experiment success!\r\n"
     ]
    }
   ],
   "source": [
    "!python Experiment.py --dataset tp --interaction Pure_Mf --rounds 1 --agg_epochs 10 --density 0.20 --slices 10 --part_type 1 --processed 0"
   ],
   "metadata": {
    "collapsed": false
   }
  },
  {
   "cell_type": "markdown",
   "source": [
    "*****"
   ],
   "metadata": {
    "collapsed": false
   }
  },
  {
   "cell_type": "markdown",
   "source": [
    "## Density : 0.25"
   ],
   "metadata": {
    "collapsed": false
   }
  },
  {
   "cell_type": "markdown",
   "source": [
    "### SISA"
   ],
   "metadata": {
    "collapsed": false
   }
  },
  {
   "cell_type": "code",
   "execution_count": null,
   "outputs": [],
   "source": [
    "!python Experiment.py --dataset rt --interaction NeuCF --rounds 1 --agg_epochs 10 --density 0.25 --slices 10 --part_type 1 --processed 0"
   ],
   "metadata": {
    "collapsed": false,
    "pycharm": {
     "is_executing": true
    }
   }
  },
  {
   "cell_type": "code",
   "execution_count": null,
   "outputs": [],
   "source": [
    "!python Experiment.py --dataset tp --interaction NeuCF --rounds 1 --agg_epochs 10 --density 0.25 --slices 10 --part_type 1 --processed 0"
   ],
   "metadata": {
    "collapsed": false,
    "pycharm": {
     "is_executing": true
    }
   }
  },
  {
   "cell_type": "code",
   "execution_count": null,
   "outputs": [],
   "source": [
    "!python Experiment.py --dataset rt --interaction CSMF --rounds 1 --agg_epochs 10 --density 0.25 --slices 10 --part_type 1 --processed 0"
   ],
   "metadata": {
    "collapsed": false,
    "pycharm": {
     "is_executing": true
    }
   }
  },
  {
   "cell_type": "code",
   "execution_count": null,
   "outputs": [],
   "source": [
    "!python Experiment.py --dataset tp --interaction CSMF --rounds 1 --agg_epochs 10 --density 0.25 --slices 10 --part_type 1 --processed 0"
   ],
   "metadata": {
    "collapsed": false,
    "pycharm": {
     "is_executing": true
    }
   }
  },
  {
   "cell_type": "code",
   "execution_count": null,
   "outputs": [],
   "source": [
    "# !python Experiment.py --dataset rt --interaction NeuGraphMF --rounds 1 --agg_epochs 10 --density 0.25 --slices 10 --part_type 1 --processed 0"
   ],
   "metadata": {
    "collapsed": false,
    "pycharm": {
     "is_executing": true
    }
   }
  },
  {
   "cell_type": "code",
   "execution_count": null,
   "outputs": [],
   "source": [
    "# !python Experiment.py --dataset tp --interaction NeuGraphMF --rounds 1 --agg_epochs 10 --density 0.25 --slices 10 --part_type 1 --processed 0"
   ],
   "metadata": {
    "collapsed": false,
    "pycharm": {
     "is_executing": true
    }
   }
  },
  {
   "cell_type": "code",
   "execution_count": null,
   "outputs": [],
   "source": [
    "!python Experiment.py --dataset rt --interaction Pure_Mf --rounds 1 --agg_epochs 10 --density 0.25 --slices 10 --part_type 1 --processed 0"
   ],
   "metadata": {
    "collapsed": false,
    "pycharm": {
     "is_executing": true
    }
   }
  },
  {
   "cell_type": "code",
   "execution_count": null,
   "outputs": [],
   "source": [
    "!python Experiment.py --dataset tp --interaction Pure_Mf --rounds 1 --agg_epochs 10 --density 0.25 --slices 10 --part_type 1 --processed 0"
   ],
   "metadata": {
    "collapsed": false,
    "pycharm": {
     "is_executing": true
    }
   }
  },
  {
   "cell_type": "markdown",
   "source": [
    "*****"
   ],
   "metadata": {
    "collapsed": false
   }
  },
  {
   "cell_type": "markdown",
   "source": [
    "## Density : 0.30"
   ],
   "metadata": {
    "collapsed": false
   }
  },
  {
   "cell_type": "markdown",
   "source": [
    "### SISA"
   ],
   "metadata": {
    "collapsed": false
   }
  },
  {
   "cell_type": "code",
   "execution_count": null,
   "outputs": [],
   "source": [
    "!python Experiment.py --dataset rt --interaction NeuCF --rounds 1 --agg_epochs 10 --density 0.30 --slices 10 --part_type 1 --processed 0"
   ],
   "metadata": {
    "collapsed": false,
    "pycharm": {
     "is_executing": true
    }
   }
  },
  {
   "cell_type": "code",
   "execution_count": null,
   "outputs": [],
   "source": [
    "!python Experiment.py --dataset tp --interaction NeuCF --rounds 1 --agg_epochs 10 --density 0.30 --slices 10 --part_type 1 --processed 0"
   ],
   "metadata": {
    "collapsed": false,
    "pycharm": {
     "is_executing": true
    }
   }
  },
  {
   "cell_type": "code",
   "execution_count": null,
   "outputs": [],
   "source": [
    "!python Experiment.py --dataset rt --interaction CSMF --rounds 1 --agg_epochs 10 --density 0.30 --slices 10 --part_type 1 --processed 0"
   ],
   "metadata": {
    "collapsed": false,
    "pycharm": {
     "is_executing": true
    }
   }
  },
  {
   "cell_type": "code",
   "execution_count": null,
   "outputs": [],
   "source": [
    "!python Experiment.py --dataset tp --interaction CSMF --rounds 1 --agg_epochs 10 --density 0.30 --slices 10 --part_type 1 --processed 0"
   ],
   "metadata": {
    "collapsed": false,
    "pycharm": {
     "is_executing": true
    }
   }
  },
  {
   "cell_type": "code",
   "execution_count": null,
   "outputs": [],
   "source": [
    "# !python Experiment.py --dataset rt --interaction NeuGraphMF --rounds 1 --agg_epochs 10 --density 0.30 --slices 10 --part_type 1 --processed 0"
   ],
   "metadata": {
    "collapsed": false,
    "pycharm": {
     "is_executing": true
    }
   }
  },
  {
   "cell_type": "code",
   "execution_count": null,
   "outputs": [],
   "source": [
    "# !python Experiment.py --dataset tp --interaction NeuGraphMF --rounds 1 --agg_epochs 10 --density 0.30 --slices 10 --part_type 1 --processed 0"
   ],
   "metadata": {
    "collapsed": false,
    "pycharm": {
     "is_executing": true
    }
   }
  },
  {
   "cell_type": "code",
   "execution_count": null,
   "outputs": [],
   "source": [
    "!python Experiment.py --dataset rt --interaction Pure_Mf --rounds 1 --agg_epochs 10 --density 0.30 --slices 10 --part_type 1 --processed 0"
   ],
   "metadata": {
    "collapsed": false,
    "pycharm": {
     "is_executing": true
    }
   }
  },
  {
   "cell_type": "code",
   "execution_count": null,
   "outputs": [],
   "source": [
    "!python Experiment.py --dataset tp --interaction Pure_Mf --rounds 1 --agg_epochs 10 --density 0.30 --slices 10 --part_type 1 --processed 0"
   ],
   "metadata": {
    "collapsed": false,
    "pycharm": {
     "is_executing": true
    }
   }
  },
  {
   "cell_type": "markdown",
   "source": [
    "# Density : 0.10"
   ],
   "metadata": {
    "collapsed": false
   }
  },
  {
   "cell_type": "markdown",
   "source": [
    "### SISA2"
   ],
   "metadata": {
    "collapsed": false
   }
  },
  {
   "cell_type": "code",
   "execution_count": null,
   "outputs": [],
   "source": [
    "!python Experiment.py --dataset rt --interaction NeuCF --rounds 1 --agg_epochs 10 --density 0.10 --slices 10 --part_type 2 --processed 0"
   ],
   "metadata": {
    "collapsed": false,
    "pycharm": {
     "is_executing": true
    }
   }
  },
  {
   "cell_type": "code",
   "execution_count": null,
   "outputs": [],
   "source": [
    "!python Experiment.py --dataset tp --interaction NeuCF --rounds 1 --agg_epochs 10 --density 0.10 --slices 10 --part_type 2 --processed 0"
   ],
   "metadata": {
    "collapsed": false,
    "pycharm": {
     "is_executing": true
    }
   }
  },
  {
   "cell_type": "code",
   "execution_count": null,
   "outputs": [],
   "source": [
    "!python Experiment.py --dataset rt --interaction CSMF --rounds 1 --agg_epochs 10 --density 0.10 --slices 10 --part_type 2 --processed 0"
   ],
   "metadata": {
    "collapsed": false,
    "pycharm": {
     "is_executing": true
    }
   }
  },
  {
   "cell_type": "code",
   "execution_count": null,
   "outputs": [],
   "source": [
    "!python Experiment.py --dataset tp --interaction CSMF --rounds 1 --agg_epochs 10 --density 0.10 --slices 10 --part_type 2 --processed 0"
   ],
   "metadata": {
    "collapsed": false,
    "pycharm": {
     "is_executing": true
    }
   }
  },
  {
   "cell_type": "code",
   "execution_count": null,
   "outputs": [],
   "source": [
    "# !python Experiment.py --dataset rt --interaction NeuGraphMF --rounds 1 --agg_epochs 10 --density 0.10 --slices 10 --part_type 2 --processed 0"
   ],
   "metadata": {
    "collapsed": false,
    "pycharm": {
     "is_executing": true
    }
   }
  },
  {
   "cell_type": "code",
   "execution_count": null,
   "outputs": [],
   "source": [
    "# !python Experiment.py --dataset rt --interaction NeuGraphMF --rounds 1 --agg_epochs 10 --density 0.10 --slices 10 --part_type 2 --processed 0"
   ],
   "metadata": {
    "collapsed": false,
    "pycharm": {
     "is_executing": true
    }
   }
  },
  {
   "cell_type": "code",
   "execution_count": null,
   "outputs": [],
   "source": [
    "!python Experiment.py --dataset rt --interaction Pure_Mf --rounds 1 --agg_epochs 10 --density 0.10 --slices 10 --part_type 2 --processed 0"
   ],
   "metadata": {
    "collapsed": false,
    "pycharm": {
     "is_executing": true
    }
   }
  },
  {
   "cell_type": "code",
   "execution_count": null,
   "outputs": [],
   "source": [
    "!python Experiment.py --dataset tp --interaction Pure_Mf --rounds 1 --agg_epochs 10 --density 0.10 --slices 10 --part_type 2 --processed 0"
   ],
   "metadata": {
    "collapsed": false,
    "pycharm": {
     "is_executing": true
    }
   }
  },
  {
   "cell_type": "markdown",
   "source": [
    "*****"
   ],
   "metadata": {
    "collapsed": false
   }
  },
  {
   "cell_type": "markdown",
   "source": [
    "## Density : 0.15"
   ],
   "metadata": {
    "collapsed": false
   }
  },
  {
   "cell_type": "markdown",
   "source": [
    "### SISA2"
   ],
   "metadata": {
    "collapsed": false
   }
  },
  {
   "cell_type": "code",
   "execution_count": null,
   "outputs": [],
   "source": [
    "!python Experiment.py --dataset rt --interaction NeuCF --rounds 1 --agg_epochs 10 --density 0.15 --slices 10 --part_type 2 --processed 0"
   ],
   "metadata": {
    "collapsed": false,
    "pycharm": {
     "is_executing": true
    }
   }
  },
  {
   "cell_type": "code",
   "execution_count": null,
   "outputs": [],
   "source": [
    "!python Experiment.py --dataset tp --interaction NeuCF --rounds 1 --agg_epochs 10 --density 0.15 --slices 10 --part_type 2 --processed 0"
   ],
   "metadata": {
    "collapsed": false,
    "pycharm": {
     "is_executing": true
    }
   }
  },
  {
   "cell_type": "code",
   "execution_count": null,
   "outputs": [],
   "source": [
    "!python Experiment.py --dataset rt --interaction CSMF --rounds 1 --agg_epochs 10 --density 0.15 --slices 10 --part_type 2 --processed 0"
   ],
   "metadata": {
    "collapsed": false,
    "pycharm": {
     "is_executing": true
    }
   }
  },
  {
   "cell_type": "code",
   "execution_count": null,
   "outputs": [],
   "source": [
    "!python Experiment.py --dataset tp --interaction CSMF --rounds 1 --agg_epochs 10 --density 0.15 --slices 10 --part_type 2 --processed 0"
   ],
   "metadata": {
    "collapsed": false,
    "pycharm": {
     "is_executing": true
    }
   }
  },
  {
   "cell_type": "code",
   "execution_count": null,
   "outputs": [],
   "source": [
    "# !python Experiment.py --dataset rt --interaction NeuGraphMF --rounds 1 --agg_epochs 10 --density 0.15 --slices 10 --part_type 2 --processed 0"
   ],
   "metadata": {
    "collapsed": false,
    "pycharm": {
     "is_executing": true
    }
   }
  },
  {
   "cell_type": "code",
   "execution_count": null,
   "outputs": [],
   "source": [
    "# !python Experiment.py --dataset rt --interaction NeuGraphMF --rounds 1 --agg_epochs 10 --density 0.15 --slices 10 --part_type 2 --processed 0"
   ],
   "metadata": {
    "collapsed": false,
    "pycharm": {
     "is_executing": true
    }
   }
  },
  {
   "cell_type": "code",
   "execution_count": null,
   "outputs": [],
   "source": [
    "!python Experiment.py --dataset rt --interaction Pure_Mf --rounds 1 --agg_epochs 10 --density 0.15 --slices 10 --part_type 2 --processed 0"
   ],
   "metadata": {
    "collapsed": false,
    "pycharm": {
     "is_executing": true
    }
   }
  },
  {
   "cell_type": "code",
   "execution_count": null,
   "outputs": [],
   "source": [
    "!python Experiment.py --dataset tp --interaction Pure_Mf --rounds 1 --agg_epochs 10 --density 0.15 --slices 10 --part_type 2 --processed 0"
   ],
   "metadata": {
    "collapsed": false,
    "pycharm": {
     "is_executing": true
    }
   }
  },
  {
   "cell_type": "markdown",
   "source": [
    "*****"
   ],
   "metadata": {
    "collapsed": false
   }
  },
  {
   "cell_type": "markdown",
   "source": [
    "## Density : 0.20"
   ],
   "metadata": {
    "collapsed": false
   }
  },
  {
   "cell_type": "markdown",
   "source": [
    "### SISA2"
   ],
   "metadata": {
    "collapsed": false
   }
  },
  {
   "cell_type": "code",
   "execution_count": null,
   "outputs": [],
   "source": [
    "!python Experiment.py --dataset rt --interaction NeuCF --rounds 1 --agg_epochs 10 --density 0.20 --slices 10 --part_type 2 --processed 0"
   ],
   "metadata": {
    "collapsed": false,
    "pycharm": {
     "is_executing": true
    }
   }
  },
  {
   "cell_type": "code",
   "execution_count": null,
   "outputs": [],
   "source": [
    "!python Experiment.py --dataset tp --interaction NeuCF --rounds 1 --agg_epochs 10 --density 0.20 --slices 10 --part_type 2 --processed 0"
   ],
   "metadata": {
    "collapsed": false,
    "pycharm": {
     "is_executing": true
    }
   }
  },
  {
   "cell_type": "code",
   "execution_count": null,
   "outputs": [],
   "source": [
    "!python Experiment.py --dataset rt --interaction CSMF --rounds 1 --agg_epochs 10 --density 0.20 --slices 10 --part_type 2 --processed 0"
   ],
   "metadata": {
    "collapsed": false,
    "pycharm": {
     "is_executing": true
    }
   }
  },
  {
   "cell_type": "code",
   "execution_count": null,
   "outputs": [],
   "source": [
    "!python Experiment.py --dataset tp --interaction CSMF --rounds 1 --agg_epochs 10 --density 0.20 --slices 10 --part_type 2 --processed 0"
   ],
   "metadata": {
    "collapsed": false,
    "pycharm": {
     "is_executing": true
    }
   }
  },
  {
   "cell_type": "code",
   "execution_count": null,
   "outputs": [],
   "source": [
    "# !python Experiment.py --dataset rt --interaction NeuGraphMF --rounds 1 --agg_epochs 10 --density 0.20 --slices 10 --part_type 2 --processed 0"
   ],
   "metadata": {
    "collapsed": false,
    "pycharm": {
     "is_executing": true
    }
   }
  },
  {
   "cell_type": "code",
   "execution_count": null,
   "outputs": [],
   "source": [
    "# !python Experiment.py --dataset rt --interaction NeuGraphMF --rounds 1 --agg_epochs 10 --density 0.20 --slices 10 --part_type 2 --processed 0"
   ],
   "metadata": {
    "collapsed": false,
    "pycharm": {
     "is_executing": true
    }
   }
  },
  {
   "cell_type": "code",
   "execution_count": null,
   "outputs": [],
   "source": [
    "!python Experiment.py --dataset rt --interaction Pure_Mf --rounds 1 --agg_epochs 10 --density 0.20 --slices 10 --part_type 2 --processed 0"
   ],
   "metadata": {
    "collapsed": false,
    "pycharm": {
     "is_executing": true
    }
   }
  },
  {
   "cell_type": "code",
   "execution_count": null,
   "outputs": [],
   "source": [
    "!python Experiment.py --dataset tp --interaction Pure_Mf --rounds 1 --agg_epochs 10 --density 0.20 --slices 10 --part_type 2 --processed 0"
   ],
   "metadata": {
    "collapsed": false,
    "pycharm": {
     "is_executing": true
    }
   }
  },
  {
   "cell_type": "markdown",
   "source": [
    "*****"
   ],
   "metadata": {
    "collapsed": false
   }
  },
  {
   "cell_type": "markdown",
   "source": [
    "## Density : 0.20"
   ],
   "metadata": {
    "collapsed": false
   }
  },
  {
   "cell_type": "markdown",
   "source": [
    "### SISA2"
   ],
   "metadata": {
    "collapsed": false
   }
  },
  {
   "cell_type": "code",
   "execution_count": null,
   "outputs": [],
   "source": [
    "!python Experiment.py --dataset rt --interaction NeuCF --rounds 1 --agg_epochs 10 --density 0.25 --slices 10 --part_type 2 --processed 0"
   ],
   "metadata": {
    "collapsed": false,
    "pycharm": {
     "is_executing": true
    }
   }
  },
  {
   "cell_type": "code",
   "execution_count": null,
   "outputs": [],
   "source": [
    "!python Experiment.py --dataset tp --interaction NeuCF --rounds 1 --agg_epochs 10 --density 0.25 --slices 10 --part_type 2 --processed 0"
   ],
   "metadata": {
    "collapsed": false,
    "pycharm": {
     "is_executing": true
    }
   }
  },
  {
   "cell_type": "code",
   "execution_count": null,
   "outputs": [],
   "source": [
    "!python Experiment.py --dataset rt --interaction CSMF --rounds 1 --agg_epochs 10 --density 0.25 --slices 10 --part_type 2 --processed 0"
   ],
   "metadata": {
    "collapsed": false,
    "pycharm": {
     "is_executing": true
    }
   }
  },
  {
   "cell_type": "code",
   "execution_count": null,
   "outputs": [],
   "source": [
    "!python Experiment.py --dataset tp --interaction CSMF --rounds 1 --agg_epochs 10 --density 0.25 --slices 10 --part_type 2 --processed 0"
   ],
   "metadata": {
    "collapsed": false,
    "pycharm": {
     "is_executing": true
    }
   }
  },
  {
   "cell_type": "code",
   "execution_count": null,
   "outputs": [],
   "source": [
    "# !python Experiment.py --dataset rt --interaction NeuGraphMF --rounds 1 --agg_epochs 10 --density 0.25 --slices 10 --part_type 2 --processed 0"
   ],
   "metadata": {
    "collapsed": false,
    "pycharm": {
     "is_executing": true
    }
   }
  },
  {
   "cell_type": "code",
   "execution_count": null,
   "outputs": [],
   "source": [
    "# !python Experiment.py --dataset rt --interaction NeuGraphMF --rounds 1 --agg_epochs 10 --density 0.25 --slices 10 --part_type 2 --processed 0"
   ],
   "metadata": {
    "collapsed": false,
    "pycharm": {
     "is_executing": true
    }
   }
  },
  {
   "cell_type": "code",
   "execution_count": null,
   "outputs": [],
   "source": [
    "!python Experiment.py --dataset rt --interaction Pure_Mf --rounds 1 --agg_epochs 10 --density 0.25 --slices 10 --part_type 2 --processed 0"
   ],
   "metadata": {
    "collapsed": false,
    "pycharm": {
     "is_executing": true
    }
   }
  },
  {
   "cell_type": "code",
   "execution_count": null,
   "outputs": [],
   "source": [
    "!python Experiment.py --dataset tp --interaction Pure_Mf --rounds 1 --agg_epochs 10 --density 0.25 --slices 10 --part_type 2 --processed 0"
   ],
   "metadata": {
    "collapsed": false,
    "pycharm": {
     "is_executing": true
    }
   }
  },
  {
   "cell_type": "markdown",
   "source": [
    "*****"
   ],
   "metadata": {
    "collapsed": false
   }
  },
  {
   "cell_type": "markdown",
   "source": [
    "## Density : 0.30"
   ],
   "metadata": {
    "collapsed": false
   }
  },
  {
   "cell_type": "markdown",
   "source": [
    "### SISA2"
   ],
   "metadata": {
    "collapsed": false
   }
  },
  {
   "cell_type": "code",
   "execution_count": null,
   "outputs": [],
   "source": [
    "!python Experiment.py --dataset rt --interaction NeuCF --rounds 1 --agg_epochs 10 --density 0.30 --slices 10 --part_type 2 --processed 0"
   ],
   "metadata": {
    "collapsed": false,
    "pycharm": {
     "is_executing": true
    }
   }
  },
  {
   "cell_type": "code",
   "execution_count": null,
   "outputs": [],
   "source": [
    "!python Experiment.py --dataset tp --interaction NeuCF --rounds 1 --agg_epochs 10 --density 0.30 --slices 10 --part_type 2 --processed 0"
   ],
   "metadata": {
    "collapsed": false,
    "pycharm": {
     "is_executing": true
    }
   }
  },
  {
   "cell_type": "code",
   "execution_count": null,
   "outputs": [],
   "source": [
    "!python Experiment.py --dataset rt --interaction CSMF --rounds 1 --agg_epochs 10 --density 0.30 --slices 10 --part_type 2 --processed 0"
   ],
   "metadata": {
    "collapsed": false,
    "pycharm": {
     "is_executing": true
    }
   }
  },
  {
   "cell_type": "code",
   "execution_count": null,
   "outputs": [],
   "source": [
    "!python Experiment.py --dataset tp --interaction CSMF --rounds 1 --agg_epochs 10 --density 0.30 --slices 10 --part_type 2 --processed 0"
   ],
   "metadata": {
    "collapsed": false,
    "pycharm": {
     "is_executing": true
    }
   }
  },
  {
   "cell_type": "code",
   "execution_count": null,
   "outputs": [],
   "source": [
    "# !python Experiment.py --dataset rt --interaction NeuGraphMF --rounds 1 --agg_epochs 10 --density 0.30 --slices 10 --part_type 2 --processed 0"
   ],
   "metadata": {
    "collapsed": false,
    "pycharm": {
     "is_executing": true
    }
   }
  },
  {
   "cell_type": "code",
   "execution_count": null,
   "outputs": [],
   "source": [
    "# !python Experiment.py --dataset rt --interaction NeuGraphMF --rounds 1 --agg_epochs 10 --density 0.30 --slices 10 --part_type 2 --processed 0"
   ],
   "metadata": {
    "collapsed": false,
    "pycharm": {
     "is_executing": true
    }
   }
  },
  {
   "cell_type": "code",
   "execution_count": null,
   "outputs": [],
   "source": [
    "!python Experiment.py --dataset rt --interaction Pure_Mf --rounds 1 --agg_epochs 10 --density 0.30 --slices 10 --part_type 2 --processed 0"
   ],
   "metadata": {
    "collapsed": false,
    "pycharm": {
     "is_executing": true
    }
   }
  },
  {
   "cell_type": "code",
   "execution_count": null,
   "outputs": [],
   "source": [
    "!python Experiment.py --dataset tp --interaction Pure_Mf --rounds 1 --agg_epochs 10 --density 0.30 --slices 10 --part_type 2 --processed 0"
   ],
   "metadata": {
    "collapsed": false,
    "pycharm": {
     "is_executing": true
    }
   }
  },
  {
   "cell_type": "markdown",
   "source": [
    "*****"
   ],
   "metadata": {
    "collapsed": false
   }
  },
  {
   "cell_type": "markdown",
   "source": [
    "*****"
   ],
   "metadata": {
    "collapsed": false
   }
  },
  {
   "cell_type": "markdown",
   "source": [
    "# RecEraser node2vec"
   ],
   "metadata": {
    "collapsed": false
   }
  },
  {
   "cell_type": "markdown",
   "source": [
    "# Density : 0.10"
   ],
   "metadata": {
    "collapsed": false
   }
  },
  {
   "cell_type": "markdown",
   "source": [
    "### Eraser"
   ],
   "metadata": {
    "collapsed": false
   }
  },
  {
   "cell_type": "code",
   "execution_count": null,
   "outputs": [],
   "source": [
    "!python Experiment.py --dataset rt --interaction NeuCF --rounds 1 --agg_epochs 10 --density 0.10 --slices 10 --part_type 3 --processed 0"
   ],
   "metadata": {
    "collapsed": false,
    "pycharm": {
     "is_executing": true
    }
   }
  },
  {
   "cell_type": "code",
   "execution_count": null,
   "outputs": [],
   "source": [
    "!python Experiment.py --dataset tp --interaction NeuCF --rounds 1 --agg_epochs 10 --density 0.10 --slices 10 --part_type 3 --processed 0"
   ],
   "metadata": {
    "collapsed": false,
    "pycharm": {
     "is_executing": true
    }
   }
  },
  {
   "cell_type": "code",
   "execution_count": null,
   "outputs": [],
   "source": [
    "!python Experiment.py --dataset rt --interaction CSMF --rounds 1 --agg_epochs 10 --density 0.10 --slices 10 --part_type 3 --processed 0"
   ],
   "metadata": {
    "collapsed": false,
    "pycharm": {
     "is_executing": true
    }
   }
  },
  {
   "cell_type": "code",
   "execution_count": null,
   "outputs": [],
   "source": [
    "!python Experiment.py --dataset tp --interaction CSMF --rounds 1 --agg_epochs 10 --density 0.10 --slices 10 --part_type 3 --processed 0"
   ],
   "metadata": {
    "collapsed": false,
    "pycharm": {
     "is_executing": true
    }
   }
  },
  {
   "cell_type": "code",
   "execution_count": null,
   "outputs": [],
   "source": [
    "# !python Experiment.py --dataset rt --interaction NeuGraphMF --rounds 1 --agg_epochs 10 --density 0.10 --slices 10 --part_type 3 --processed 0"
   ],
   "metadata": {
    "collapsed": false,
    "pycharm": {
     "is_executing": true
    }
   }
  },
  {
   "cell_type": "code",
   "execution_count": null,
   "outputs": [],
   "source": [
    "# !python Experiment.py --dataset rt --interaction NeuGraphMF --rounds 1 --agg_epochs 10 --density 0.10 --slices 10 --part_type 3 --processed 0"
   ],
   "metadata": {
    "collapsed": false,
    "pycharm": {
     "is_executing": true
    }
   }
  },
  {
   "cell_type": "code",
   "execution_count": null,
   "outputs": [],
   "source": [
    "!python Experiment.py --dataset rt --interaction Pure_Mf --rounds 1 --agg_epochs 10 --density 0.10 --slices 10 --part_type 3 --processed 0"
   ],
   "metadata": {
    "collapsed": false,
    "pycharm": {
     "is_executing": true
    }
   }
  },
  {
   "cell_type": "code",
   "execution_count": null,
   "outputs": [],
   "source": [
    "!python Experiment.py --dataset tp --interaction Pure_Mf --rounds 1 --agg_epochs 10 --density 0.10 --slices 10 --part_type 3 --processed 0"
   ],
   "metadata": {
    "collapsed": false,
    "pycharm": {
     "is_executing": true
    }
   }
  },
  {
   "cell_type": "markdown",
   "source": [
    "*****"
   ],
   "metadata": {
    "collapsed": false
   }
  },
  {
   "cell_type": "markdown",
   "source": [
    "## Density : 0.15"
   ],
   "metadata": {
    "collapsed": false
   }
  },
  {
   "cell_type": "markdown",
   "source": [
    "### Eraser"
   ],
   "metadata": {
    "collapsed": false
   }
  },
  {
   "cell_type": "code",
   "execution_count": null,
   "outputs": [],
   "source": [
    "!python Experiment.py --dataset rt --interaction NeuCF --rounds 1 --agg_epochs 10 --density 0.15 --slices 10 --part_type 3 --processed 0"
   ],
   "metadata": {
    "collapsed": false,
    "pycharm": {
     "is_executing": true
    }
   }
  },
  {
   "cell_type": "code",
   "execution_count": null,
   "outputs": [],
   "source": [
    "!python Experiment.py --dataset tp --interaction NeuCF --rounds 1 --agg_epochs 10 --density 0.15 --slices 10 --part_type 3 --processed 0"
   ],
   "metadata": {
    "collapsed": false,
    "pycharm": {
     "is_executing": true
    }
   }
  },
  {
   "cell_type": "code",
   "execution_count": null,
   "outputs": [],
   "source": [
    "!python Experiment.py --dataset rt --interaction CSMF --rounds 1 --agg_epochs 10 --density 0.15 --slices 10 --part_type 3 --processed 0"
   ],
   "metadata": {
    "collapsed": false,
    "pycharm": {
     "is_executing": true
    }
   }
  },
  {
   "cell_type": "code",
   "execution_count": null,
   "outputs": [],
   "source": [
    "!python Experiment.py --dataset tp --interaction CSMF --rounds 1 --agg_epochs 10 --density 0.15 --slices 10 --part_type 3 --processed 0"
   ],
   "metadata": {
    "collapsed": false,
    "pycharm": {
     "is_executing": true
    }
   }
  },
  {
   "cell_type": "code",
   "execution_count": null,
   "outputs": [],
   "source": [
    "# !python Experiment.py --dataset rt --interaction NeuGraphMF --rounds 1 --agg_epochs 10 --density 0.15 --slices 10 --part_type 3 --processed 0"
   ],
   "metadata": {
    "collapsed": false,
    "pycharm": {
     "is_executing": true
    }
   }
  },
  {
   "cell_type": "code",
   "execution_count": null,
   "outputs": [],
   "source": [
    "# !python Experiment.py --dataset rt --interaction NeuGraphMF --rounds 1 --agg_epochs 10 --density 0.15 --slices 10 --part_type 3 --processed 0"
   ],
   "metadata": {
    "collapsed": false,
    "pycharm": {
     "is_executing": true
    }
   }
  },
  {
   "cell_type": "code",
   "execution_count": null,
   "outputs": [],
   "source": [
    "!python Experiment.py --dataset rt --interaction Pure_Mf --rounds 1 --agg_epochs 10 --density 0.15 --slices 10 --part_type 3 --processed 0"
   ],
   "metadata": {
    "collapsed": false,
    "pycharm": {
     "is_executing": true
    }
   }
  },
  {
   "cell_type": "code",
   "execution_count": null,
   "outputs": [],
   "source": [
    "!python Experiment.py --dataset tp --interaction Pure_Mf --rounds 1 --agg_epochs 10 --density 0.15 --slices 10 --part_type 3 --processed 0"
   ],
   "metadata": {
    "collapsed": false,
    "pycharm": {
     "is_executing": true
    }
   }
  },
  {
   "cell_type": "markdown",
   "source": [
    "*****"
   ],
   "metadata": {
    "collapsed": false
   }
  },
  {
   "cell_type": "markdown",
   "source": [
    "## Density : 0.20"
   ],
   "metadata": {
    "collapsed": false
   }
  },
  {
   "cell_type": "markdown",
   "source": [
    "### Eraser"
   ],
   "metadata": {
    "collapsed": false
   }
  },
  {
   "cell_type": "code",
   "execution_count": null,
   "outputs": [],
   "source": [
    "!python Experiment.py --dataset rt --interaction NeuCF --rounds 1 --agg_epochs 10 --density 0.20 --slices 10 --part_type 3 --processed 0"
   ],
   "metadata": {
    "collapsed": false,
    "pycharm": {
     "is_executing": true
    }
   }
  },
  {
   "cell_type": "code",
   "execution_count": null,
   "outputs": [],
   "source": [
    "!python Experiment.py --dataset tp --interaction NeuCF --rounds 1 --agg_epochs 10 --density 0.20 --slices 10 --part_type 3 --processed 0"
   ],
   "metadata": {
    "collapsed": false,
    "pycharm": {
     "is_executing": true
    }
   }
  },
  {
   "cell_type": "code",
   "execution_count": null,
   "outputs": [],
   "source": [
    "!python Experiment.py --dataset rt --interaction CSMF --rounds 1 --agg_epochs 10 --density 0.20 --slices 10 --part_type 3 --processed 0"
   ],
   "metadata": {
    "collapsed": false,
    "pycharm": {
     "is_executing": true
    }
   }
  },
  {
   "cell_type": "code",
   "execution_count": null,
   "outputs": [],
   "source": [
    "!python Experiment.py --dataset tp --interaction CSMF --rounds 1 --agg_epochs 10 --density 0.20 --slices 10 --part_type 3 --processed 0"
   ],
   "metadata": {
    "collapsed": false,
    "pycharm": {
     "is_executing": true
    }
   }
  },
  {
   "cell_type": "code",
   "execution_count": null,
   "outputs": [],
   "source": [
    "# !python Experiment.py --dataset rt --interaction NeuGraphMF --rounds 1 --agg_epochs 10 --density 0.20 --slices 10 --part_type 3 --processed 0"
   ],
   "metadata": {
    "collapsed": false,
    "pycharm": {
     "is_executing": true
    }
   }
  },
  {
   "cell_type": "code",
   "execution_count": null,
   "outputs": [],
   "source": [
    "# !python Experiment.py --dataset rt --interaction NeuGraphMF --rounds 1 --agg_epochs 10 --density 0.20 --slices 10 --part_type 3 --processed 0"
   ],
   "metadata": {
    "collapsed": false,
    "pycharm": {
     "is_executing": true
    }
   }
  },
  {
   "cell_type": "code",
   "execution_count": null,
   "outputs": [],
   "source": [
    "!python Experiment.py --dataset rt --interaction Pure_Mf --rounds 1 --agg_epochs 10 --density 0.20 --slices 10 --part_type 3 --processed 0"
   ],
   "metadata": {
    "collapsed": false,
    "pycharm": {
     "is_executing": true
    }
   }
  },
  {
   "cell_type": "code",
   "execution_count": null,
   "outputs": [],
   "source": [
    "!python Experiment.py --dataset tp --interaction Pure_Mf --rounds 1 --agg_epochs 10 --density 0.20 --slices 10 --part_type 3 --processed 0"
   ],
   "metadata": {
    "collapsed": false,
    "pycharm": {
     "is_executing": true
    }
   }
  },
  {
   "cell_type": "markdown",
   "source": [
    "*****"
   ],
   "metadata": {
    "collapsed": false
   }
  },
  {
   "cell_type": "markdown",
   "source": [
    "## Density : 0.25"
   ],
   "metadata": {
    "collapsed": false
   }
  },
  {
   "cell_type": "markdown",
   "source": [
    "### Eraser"
   ],
   "metadata": {
    "collapsed": false
   }
  },
  {
   "cell_type": "code",
   "execution_count": null,
   "outputs": [],
   "source": [
    "!python Experiment.py --dataset rt --interaction NeuCF --rounds 1 --agg_epochs 10 --density 0.25 --slices 10 --part_type 3 --processed 0"
   ],
   "metadata": {
    "collapsed": false,
    "pycharm": {
     "is_executing": true
    }
   }
  },
  {
   "cell_type": "code",
   "execution_count": null,
   "outputs": [],
   "source": [
    "!python Experiment.py --dataset tp --interaction NeuCF --rounds 1 --agg_epochs 10 --density 0.25 --slices 10 --part_type 3 --processed 0"
   ],
   "metadata": {
    "collapsed": false,
    "pycharm": {
     "is_executing": true
    }
   }
  },
  {
   "cell_type": "code",
   "execution_count": null,
   "outputs": [],
   "source": [
    "!python Experiment.py --dataset rt --interaction CSMF --rounds 1 --agg_epochs 10 --density 0.25 --slices 10 --part_type 3 --processed 0"
   ],
   "metadata": {
    "collapsed": false,
    "pycharm": {
     "is_executing": true
    }
   }
  },
  {
   "cell_type": "code",
   "execution_count": null,
   "outputs": [],
   "source": [
    "!python Experiment.py --dataset tp --interaction CSMF --rounds 1 --agg_epochs 10 --density 0.25 --slices 10 --part_type 3 --processed 0"
   ],
   "metadata": {
    "collapsed": false,
    "pycharm": {
     "is_executing": true
    }
   }
  },
  {
   "cell_type": "code",
   "execution_count": null,
   "outputs": [],
   "source": [
    "# !python Experiment.py --dataset rt --interaction NeuGraphMF --rounds 1 --agg_epochs 10 --density 0.25 --slices 10 --part_type 3 --processed 0"
   ],
   "metadata": {
    "collapsed": false,
    "pycharm": {
     "is_executing": true
    }
   }
  },
  {
   "cell_type": "code",
   "execution_count": null,
   "outputs": [],
   "source": [
    "# !python Experiment.py --dataset rt --interaction NeuGraphMF --rounds 1 --agg_epochs 10 --density 0.25 --slices 10 --part_type 3 --processed 0"
   ],
   "metadata": {
    "collapsed": false,
    "pycharm": {
     "is_executing": true
    }
   }
  },
  {
   "cell_type": "code",
   "execution_count": null,
   "outputs": [],
   "source": [
    "!python Experiment.py --dataset rt --interaction Pure_Mf --rounds 1 --agg_epochs 10 --density 0.25 --slices 10 --part_type 3 --processed 0"
   ],
   "metadata": {
    "collapsed": false,
    "pycharm": {
     "is_executing": true
    }
   }
  },
  {
   "cell_type": "code",
   "execution_count": null,
   "outputs": [],
   "source": [
    "!python Experiment.py --dataset tp --interaction Pure_Mf --rounds 1 --agg_epochs 10 --density 0.25 --slices 10 --part_type 3 --processed 0"
   ],
   "metadata": {
    "collapsed": false,
    "pycharm": {
     "is_executing": true
    }
   }
  },
  {
   "cell_type": "markdown",
   "source": [
    "## Density : 0.30"
   ],
   "metadata": {
    "collapsed": false
   }
  },
  {
   "cell_type": "markdown",
   "source": [
    "### Eraser"
   ],
   "metadata": {
    "collapsed": false
   }
  },
  {
   "cell_type": "code",
   "execution_count": null,
   "outputs": [],
   "source": [
    "!python Experiment.py --dataset rt --interaction NeuCF --rounds 1 --agg_epochs 10 --density 0.30 --slices 10 --part_type 3 --processed 0"
   ],
   "metadata": {
    "collapsed": false,
    "pycharm": {
     "is_executing": true
    }
   }
  },
  {
   "cell_type": "code",
   "execution_count": null,
   "outputs": [],
   "source": [
    "!python Experiment.py --dataset tp --interaction NeuCF --rounds 1 --agg_epochs 10 --density 0.30 --slices 10 --part_type 3 --processed 0"
   ],
   "metadata": {
    "collapsed": false,
    "pycharm": {
     "is_executing": true
    }
   }
  },
  {
   "cell_type": "code",
   "execution_count": null,
   "outputs": [],
   "source": [
    "!python Experiment.py --dataset rt --interaction CSMF --rounds 1 --agg_epochs 10 --density 0.30 --slices 10 --part_type 3 --processed 0"
   ],
   "metadata": {
    "collapsed": false,
    "pycharm": {
     "is_executing": true
    }
   }
  },
  {
   "cell_type": "code",
   "execution_count": null,
   "outputs": [],
   "source": [
    "!python Experiment.py --dataset tp --interaction CSMF --rounds 1 --agg_epochs 10 --density 0.30 --slices 10 --part_type 3 --processed 0"
   ],
   "metadata": {
    "collapsed": false,
    "pycharm": {
     "is_executing": true
    }
   }
  },
  {
   "cell_type": "code",
   "execution_count": null,
   "outputs": [],
   "source": [
    "# !python Experiment.py --dataset rt --interaction NeuGraphMF --rounds 1 --agg_epochs 10 --density 0.30 --slices 10 --part_type 3 --processed 0"
   ],
   "metadata": {
    "collapsed": false,
    "pycharm": {
     "is_executing": true
    }
   }
  },
  {
   "cell_type": "code",
   "execution_count": null,
   "outputs": [],
   "source": [
    "# !python Experiment.py --dataset rt --interaction NeuGraphMF --rounds 1 --agg_epochs 10 --density 0.30 --slices 10 --part_type 3 --processed 0"
   ],
   "metadata": {
    "collapsed": false,
    "pycharm": {
     "is_executing": true
    }
   }
  },
  {
   "cell_type": "code",
   "execution_count": null,
   "outputs": [],
   "source": [
    "!python Experiment.py --dataset rt --interaction Pure_Mf --rounds 1 --agg_epochs 10 --density 0.30 --slices 10 --part_type 3 --processed 0"
   ],
   "metadata": {
    "collapsed": false,
    "pycharm": {
     "is_executing": true
    }
   }
  },
  {
   "cell_type": "code",
   "execution_count": null,
   "outputs": [],
   "source": [
    "!python Experiment.py --dataset tp --interaction Pure_Mf --rounds 1 --agg_epochs 10 --density 0.30 --slices 10 --part_type 3 --processed 0"
   ],
   "metadata": {
    "collapsed": false,
    "pycharm": {
     "is_executing": true
    }
   }
  },
  {
   "cell_type": "markdown",
   "source": [
    "*****"
   ],
   "metadata": {
    "collapsed": false
   }
  },
  {
   "cell_type": "markdown",
   "source": [
    "# non balance node2vec"
   ],
   "metadata": {
    "collapsed": false
   }
  },
  {
   "cell_type": "markdown",
   "source": [
    "# Density : 0.10"
   ],
   "metadata": {
    "collapsed": false
   }
  },
  {
   "cell_type": "markdown",
   "source": [
    "### Eraser"
   ],
   "metadata": {
    "collapsed": false
   }
  },
  {
   "cell_type": "code",
   "execution_count": null,
   "outputs": [],
   "source": [
    "!python Experiment.py --dataset rt --interaction NeuCF --rounds 1 --agg_epochs 10 --density 0.10 --slices 10 --part_type 4 --processed 0 --debug 1"
   ],
   "metadata": {
    "collapsed": false,
    "pycharm": {
     "is_executing": true
    }
   }
  },
  {
   "cell_type": "code",
   "execution_count": null,
   "outputs": [],
   "source": [
    "!python Experiment.py --dataset tp --interaction NeuCF --rounds 1 --agg_epochs 10 --density 0.10 --slices 10 --part_type 4 --processed 0"
   ],
   "metadata": {
    "collapsed": false,
    "pycharm": {
     "is_executing": true
    }
   }
  },
  {
   "cell_type": "code",
   "execution_count": null,
   "outputs": [],
   "source": [
    "!python Experiment.py --dataset rt --interaction CSMF --rounds 1 --agg_epochs 10 --density 0.10 --slices 10 --part_type 4 --processed 0"
   ],
   "metadata": {
    "collapsed": false,
    "pycharm": {
     "is_executing": true
    }
   }
  },
  {
   "cell_type": "code",
   "execution_count": null,
   "outputs": [],
   "source": [
    "!python Experiment.py --dataset tp --interaction CSMF --rounds 1 --agg_epochs 10 --density 0.10 --slices 10 --part_type 4 --processed 0"
   ],
   "metadata": {
    "collapsed": false,
    "pycharm": {
     "is_executing": true
    }
   }
  },
  {
   "cell_type": "code",
   "execution_count": null,
   "outputs": [],
   "source": [
    "# !python Experiment.py --dataset rt --interaction NeuGraphMF --rounds 1 --agg_epochs 10 --density 0.10 --slices 10 --part_type 4 --processed 0"
   ],
   "metadata": {
    "collapsed": false,
    "pycharm": {
     "is_executing": true
    }
   }
  },
  {
   "cell_type": "code",
   "execution_count": null,
   "outputs": [],
   "source": [
    "# !python Experiment.py --dataset rt --interaction NeuGraphMF --rounds 1 --agg_epochs 10 --density 0.10 --slices 10 --part_type 4 --processed 0"
   ],
   "metadata": {
    "collapsed": false,
    "pycharm": {
     "is_executing": true
    }
   }
  },
  {
   "cell_type": "code",
   "execution_count": null,
   "outputs": [],
   "source": [
    "!python Experiment.py --dataset rt --interaction Pure_Mf --rounds 1 --agg_epochs 10 --density 0.10 --slices 10 --part_type 4 --processed 0"
   ],
   "metadata": {
    "collapsed": false,
    "pycharm": {
     "is_executing": true
    }
   }
  },
  {
   "cell_type": "code",
   "execution_count": null,
   "outputs": [],
   "source": [
    "!python Experiment.py --dataset tp --interaction Pure_Mf --rounds 1 --agg_epochs 10 --density 0.10 --slices 10 --part_type 4 --processed 0"
   ],
   "metadata": {
    "collapsed": false,
    "pycharm": {
     "is_executing": true
    }
   }
  },
  {
   "cell_type": "markdown",
   "source": [
    "*****"
   ],
   "metadata": {
    "collapsed": false
   }
  },
  {
   "cell_type": "markdown",
   "source": [
    "## Density : 0.15"
   ],
   "metadata": {
    "collapsed": false
   }
  },
  {
   "cell_type": "markdown",
   "source": [
    "### Eraser"
   ],
   "metadata": {
    "collapsed": false
   }
  },
  {
   "cell_type": "code",
   "execution_count": null,
   "outputs": [],
   "source": [
    "!python Experiment.py --dataset rt --interaction NeuCF --rounds 1 --agg_epochs 10 --density 0.15 --slices 10 --part_type 4 --processed 0"
   ],
   "metadata": {
    "collapsed": false,
    "pycharm": {
     "is_executing": true
    }
   }
  },
  {
   "cell_type": "code",
   "execution_count": null,
   "outputs": [],
   "source": [
    "!python Experiment.py --dataset tp --interaction NeuCF --rounds 1 --agg_epochs 10 --density 0.15 --slices 10 --part_type 4 --processed 0"
   ],
   "metadata": {
    "collapsed": false,
    "pycharm": {
     "is_executing": true
    }
   }
  },
  {
   "cell_type": "code",
   "execution_count": null,
   "outputs": [],
   "source": [
    "!python Experiment.py --dataset rt --interaction CSMF --rounds 1 --agg_epochs 10 --density 0.15 --slices 10 --part_type 4 --processed 0"
   ],
   "metadata": {
    "collapsed": false,
    "pycharm": {
     "is_executing": true
    }
   }
  },
  {
   "cell_type": "code",
   "execution_count": null,
   "outputs": [],
   "source": [
    "!python Experiment.py --dataset tp --interaction CSMF --rounds 1 --agg_epochs 10 --density 0.15 --slices 10 --part_type 4 --processed 0"
   ],
   "metadata": {
    "collapsed": false,
    "pycharm": {
     "is_executing": true
    }
   }
  },
  {
   "cell_type": "code",
   "execution_count": null,
   "outputs": [],
   "source": [
    "# !python Experiment.py --dataset rt --interaction NeuGraphMF --rounds 1 --agg_epochs 10 --density 0.15 --slices 10 --part_type 4 --processed 0"
   ],
   "metadata": {
    "collapsed": false,
    "pycharm": {
     "is_executing": true
    }
   }
  },
  {
   "cell_type": "code",
   "execution_count": null,
   "outputs": [],
   "source": [
    "# !python Experiment.py --dataset rt --interaction NeuGraphMF --rounds 1 --agg_epochs 10 --density 0.15 --slices 10 --part_type 4 --processed 0"
   ],
   "metadata": {
    "collapsed": false,
    "pycharm": {
     "is_executing": true
    }
   }
  },
  {
   "cell_type": "code",
   "execution_count": null,
   "outputs": [],
   "source": [
    "!python Experiment.py --dataset rt --interaction Pure_Mf --rounds 1 --agg_epochs 10 --density 0.15 --slices 10 --part_type 4 --processed 0"
   ],
   "metadata": {
    "collapsed": false,
    "pycharm": {
     "is_executing": true
    }
   }
  },
  {
   "cell_type": "code",
   "execution_count": null,
   "outputs": [],
   "source": [
    "!python Experiment.py --dataset tp --interaction Pure_Mf --rounds 1 --agg_epochs 10 --density 0.15 --slices 10 --part_type 4 --processed 0"
   ],
   "metadata": {
    "collapsed": false,
    "pycharm": {
     "is_executing": true
    }
   }
  },
  {
   "cell_type": "markdown",
   "source": [
    "*****"
   ],
   "metadata": {
    "collapsed": false
   }
  },
  {
   "cell_type": "markdown",
   "source": [
    "## Density : 0.20"
   ],
   "metadata": {
    "collapsed": false
   }
  },
  {
   "cell_type": "markdown",
   "source": [
    "### Eraser"
   ],
   "metadata": {
    "collapsed": false
   }
  },
  {
   "cell_type": "code",
   "execution_count": null,
   "outputs": [],
   "source": [
    "!python Experiment.py --dataset rt --interaction NeuCF --rounds 1 --agg_epochs 10 --density 0.20 --slices 10 --part_type 4 --processed 0"
   ],
   "metadata": {
    "collapsed": false,
    "pycharm": {
     "is_executing": true
    }
   }
  },
  {
   "cell_type": "code",
   "execution_count": null,
   "outputs": [],
   "source": [
    "!python Experiment.py --dataset tp --interaction NeuCF --rounds 1 --agg_epochs 10 --density 0.20 --slices 10 --part_type 4 --processed 0"
   ],
   "metadata": {
    "collapsed": false,
    "pycharm": {
     "is_executing": true
    }
   }
  },
  {
   "cell_type": "code",
   "execution_count": null,
   "outputs": [],
   "source": [
    "!python Experiment.py --dataset rt --interaction CSMF --rounds 1 --agg_epochs 10 --density 0.20 --slices 10 --part_type 4 --processed 0"
   ],
   "metadata": {
    "collapsed": false,
    "pycharm": {
     "is_executing": true
    }
   }
  },
  {
   "cell_type": "code",
   "execution_count": null,
   "outputs": [],
   "source": [
    "!python Experiment.py --dataset tp --interaction CSMF --rounds 1 --agg_epochs 10 --density 0.20 --slices 10 --part_type 4 --processed 0"
   ],
   "metadata": {
    "collapsed": false,
    "pycharm": {
     "is_executing": true
    }
   }
  },
  {
   "cell_type": "code",
   "execution_count": null,
   "outputs": [],
   "source": [
    "# !python Experiment.py --dataset rt --interaction NeuGraphMF --rounds 1 --agg_epochs 10 --density 0.20 --slices 10 --part_type 4 --processed 0"
   ],
   "metadata": {
    "collapsed": false,
    "pycharm": {
     "is_executing": true
    }
   }
  },
  {
   "cell_type": "code",
   "execution_count": null,
   "outputs": [],
   "source": [
    "# !python Experiment.py --dataset rt --interaction NeuGraphMF --rounds 1 --agg_epochs 10 --density 0.20 --slices 10 --part_type 4 --processed 0"
   ],
   "metadata": {
    "collapsed": false,
    "pycharm": {
     "is_executing": true
    }
   }
  },
  {
   "cell_type": "code",
   "execution_count": null,
   "outputs": [],
   "source": [
    "!python Experiment.py --dataset rt --interaction Pure_Mf --rounds 1 --agg_epochs 10 --density 0.20 --slices 10 --part_type 4 --processed 0"
   ],
   "metadata": {
    "collapsed": false,
    "pycharm": {
     "is_executing": true
    }
   }
  },
  {
   "cell_type": "code",
   "execution_count": null,
   "outputs": [],
   "source": [
    "!python Experiment.py --dataset tp --interaction Pure_Mf --rounds 1 --agg_epochs 10 --density 0.20 --slices 10 --part_type 4 --processed 0"
   ],
   "metadata": {
    "collapsed": false,
    "pycharm": {
     "is_executing": true
    }
   }
  },
  {
   "cell_type": "markdown",
   "source": [
    "*****"
   ],
   "metadata": {
    "collapsed": false
   }
  },
  {
   "cell_type": "markdown",
   "source": [
    "## Density : 0.25"
   ],
   "metadata": {
    "collapsed": false
   }
  },
  {
   "cell_type": "markdown",
   "source": [
    "### Eraser"
   ],
   "metadata": {
    "collapsed": false
   }
  },
  {
   "cell_type": "code",
   "execution_count": null,
   "outputs": [],
   "source": [
    "!python Experiment.py --dataset rt --interaction NeuCF --rounds 1 --agg_epochs 10 --density 0.25 --slices 10 --part_type 4 --processed 0"
   ],
   "metadata": {
    "collapsed": false,
    "pycharm": {
     "is_executing": true
    }
   }
  },
  {
   "cell_type": "code",
   "execution_count": null,
   "outputs": [],
   "source": [
    "!python Experiment.py --dataset tp --interaction NeuCF --rounds 1 --agg_epochs 10 --density 0.25 --slices 10 --part_type 4 --processed 0"
   ],
   "metadata": {
    "collapsed": false,
    "pycharm": {
     "is_executing": true
    }
   }
  },
  {
   "cell_type": "code",
   "execution_count": null,
   "outputs": [],
   "source": [
    "!python Experiment.py --dataset rt --interaction CSMF --rounds 1 --agg_epochs 10 --density 0.25 --slices 10 --part_type 4 --processed 0"
   ],
   "metadata": {
    "collapsed": false,
    "pycharm": {
     "is_executing": true
    }
   }
  },
  {
   "cell_type": "code",
   "execution_count": null,
   "outputs": [],
   "source": [
    "!python Experiment.py --dataset tp --interaction CSMF --rounds 1 --agg_epochs 10 --density 0.25 --slices 10 --part_type 4 --processed 0"
   ],
   "metadata": {
    "collapsed": false,
    "pycharm": {
     "is_executing": true
    }
   }
  },
  {
   "cell_type": "code",
   "execution_count": null,
   "outputs": [],
   "source": [
    "# !python Experiment.py --dataset rt --interaction NeuGraphMF --rounds 1 --agg_epochs 10 --density 0.25 --slices 10 --part_type 4 --processed 0"
   ],
   "metadata": {
    "collapsed": false,
    "pycharm": {
     "is_executing": true
    }
   }
  },
  {
   "cell_type": "code",
   "execution_count": null,
   "outputs": [],
   "source": [
    "# !python Experiment.py --dataset rt --interaction NeuGraphMF --rounds 1 --agg_epochs 10 --density 0.25 --slices 10 --part_type 4 --processed 0"
   ],
   "metadata": {
    "collapsed": false,
    "pycharm": {
     "is_executing": true
    }
   }
  },
  {
   "cell_type": "code",
   "execution_count": null,
   "outputs": [],
   "source": [
    "!python Experiment.py --dataset rt --interaction Pure_Mf --rounds 1 --agg_epochs 10 --density 0.25 --slices 10 --part_type 4 --processed 0"
   ],
   "metadata": {
    "collapsed": false,
    "pycharm": {
     "is_executing": true
    }
   }
  },
  {
   "cell_type": "code",
   "execution_count": null,
   "outputs": [],
   "source": [
    "!python Experiment.py --dataset tp --interaction Pure_Mf --rounds 1 --agg_epochs 10 --density 0.25 --slices 10 --part_type 4 --processed 0"
   ],
   "metadata": {
    "collapsed": false,
    "pycharm": {
     "is_executing": true
    }
   }
  },
  {
   "cell_type": "markdown",
   "source": [
    "## Density : 0.30\n"
   ],
   "metadata": {
    "collapsed": false
   }
  },
  {
   "cell_type": "markdown",
   "source": [
    "### Eraser"
   ],
   "metadata": {
    "collapsed": false
   }
  },
  {
   "cell_type": "code",
   "execution_count": null,
   "outputs": [],
   "source": [
    "!python Experiment.py --dataset rt --interaction NeuCF --rounds 1 --agg_epochs 10 --density 0.30 --slices 10 --part_type 4 --processed 0"
   ],
   "metadata": {
    "collapsed": false,
    "pycharm": {
     "is_executing": true
    }
   }
  },
  {
   "cell_type": "code",
   "execution_count": null,
   "outputs": [],
   "source": [
    "!python Experiment.py --dataset tp --interaction NeuCF --rounds 1 --agg_epochs 10 --density 0.30 --slices 10 --part_type 4 --processed 0"
   ],
   "metadata": {
    "collapsed": false,
    "pycharm": {
     "is_executing": true
    }
   }
  },
  {
   "cell_type": "code",
   "execution_count": null,
   "outputs": [],
   "source": [
    "!python Experiment.py --dataset rt --interaction CSMF --rounds 1 --agg_epochs 10 --density 0.30 --slices 10 --part_type 4 --processed 0"
   ],
   "metadata": {
    "collapsed": false,
    "pycharm": {
     "is_executing": true
    }
   }
  },
  {
   "cell_type": "code",
   "execution_count": null,
   "outputs": [],
   "source": [
    "!python Experiment.py --dataset tp --interaction CSMF --rounds 1 --agg_epochs 10 --density 0.30 --slices 10 --part_type 4 --processed 0"
   ],
   "metadata": {
    "collapsed": false,
    "pycharm": {
     "is_executing": true
    }
   }
  },
  {
   "cell_type": "code",
   "execution_count": null,
   "outputs": [],
   "source": [
    "# !python Experiment.py --dataset rt --interaction NeuGraphMF --rounds 1 --agg_epochs 10 --density 0.30 --slices 10 --part_type 4 --processed 0"
   ],
   "metadata": {
    "collapsed": false,
    "pycharm": {
     "is_executing": true
    }
   }
  },
  {
   "cell_type": "code",
   "execution_count": null,
   "outputs": [],
   "source": [
    "# !python Experiment.py --dataset rt --interaction NeuGraphMF --rounds 1 --agg_epochs 10 --density 0.30 --slices 10 --part_type 4 --processed 0"
   ],
   "metadata": {
    "collapsed": false,
    "pycharm": {
     "is_executing": true
    }
   }
  },
  {
   "cell_type": "code",
   "execution_count": null,
   "outputs": [],
   "source": [
    "!python Experiment.py --dataset rt --interaction Pure_Mf --rounds 1 --agg_epochs 10 --density 0.30 --slices 10 --part_type 4 --processed 0"
   ],
   "metadata": {
    "collapsed": false,
    "pycharm": {
     "is_executing": true
    }
   }
  },
  {
   "cell_type": "code",
   "execution_count": null,
   "outputs": [],
   "source": [
    "!python Experiment.py --dataset tp --interaction Pure_Mf --rounds 1 --agg_epochs 10 --density 0.30 --slices 10 --part_type 4 --processed 0"
   ],
   "metadata": {
    "collapsed": false,
    "pycharm": {
     "is_executing": true
    }
   }
  },
  {
   "cell_type": "markdown",
   "source": [
    "# user balance node2vec"
   ],
   "metadata": {
    "collapsed": false
   }
  },
  {
   "cell_type": "code",
   "execution_count": null,
   "outputs": [],
   "source": [
    "!python Experiment.py --dataset rt --interaction NeuCF --rounds 1 --agg_epochs 10 --density 0.10 --slices 10 --part_type 5 --processed 0"
   ],
   "metadata": {
    "collapsed": false,
    "pycharm": {
     "is_executing": true
    }
   }
  },
  {
   "cell_type": "code",
   "execution_count": null,
   "outputs": [],
   "source": [
    "!python Experiment.py --dataset tp --interaction NeuCF --rounds 1 --agg_epochs 10 --density 0.10 --slices 10 --part_type 5 --processed 0"
   ],
   "metadata": {
    "collapsed": false,
    "pycharm": {
     "is_executing": true
    }
   }
  },
  {
   "cell_type": "code",
   "execution_count": null,
   "outputs": [],
   "source": [
    "!python Experiment.py --dataset rt --interaction CSMF --rounds 1 --agg_epochs 10 --density 0.10 --slices 10 --part_type 5 --processed 0"
   ],
   "metadata": {
    "collapsed": false,
    "pycharm": {
     "is_executing": true
    }
   }
  },
  {
   "cell_type": "code",
   "execution_count": null,
   "outputs": [],
   "source": [
    "!python Experiment.py --dataset tp --interaction CSMF --rounds 1 --agg_epochs 10 --density 0.10 --slices 10 --part_type 5 --processed 0"
   ],
   "metadata": {
    "collapsed": false,
    "pycharm": {
     "is_executing": true
    }
   }
  },
  {
   "cell_type": "code",
   "execution_count": null,
   "outputs": [],
   "source": [
    "# !python Experiment.py --dataset rt --interaction NeuGraphMF --rounds 1 --agg_epochs 10 --density 0.10 --slices 10 --part_type 5 --processed 0"
   ],
   "metadata": {
    "collapsed": false,
    "pycharm": {
     "is_executing": true
    }
   }
  },
  {
   "cell_type": "code",
   "execution_count": null,
   "outputs": [],
   "source": [
    "# !python Experiment.py --dataset rt --interaction NeuGraphMF --rounds 1 --agg_epochs 10 --density 0.10 --slices 10 --part_type 5 --processed 0"
   ],
   "metadata": {
    "collapsed": false,
    "pycharm": {
     "is_executing": true
    }
   }
  },
  {
   "cell_type": "code",
   "execution_count": null,
   "outputs": [],
   "source": [
    "!python Experiment.py --dataset rt --interaction Pure_Mf --rounds 1 --agg_epochs 10 --density 0.10 --slices 10 --part_type 5 --processed 0"
   ],
   "metadata": {
    "collapsed": false,
    "pycharm": {
     "is_executing": true
    }
   }
  },
  {
   "cell_type": "code",
   "execution_count": null,
   "outputs": [],
   "source": [
    "!python Experiment.py --dataset tp --interaction Pure_Mf --rounds 1 --agg_epochs 10 --density 0.10 --slices 10 --part_type 5 --processed 0"
   ],
   "metadata": {
    "collapsed": false,
    "pycharm": {
     "is_executing": true
    }
   }
  },
  {
   "cell_type": "markdown",
   "source": [
    "*****"
   ],
   "metadata": {
    "collapsed": false
   }
  },
  {
   "cell_type": "markdown",
   "source": [
    "## Density : 0.15"
   ],
   "metadata": {
    "collapsed": false
   }
  },
  {
   "cell_type": "markdown",
   "source": [
    "### Eraser"
   ],
   "metadata": {
    "collapsed": false
   }
  },
  {
   "cell_type": "code",
   "execution_count": null,
   "outputs": [],
   "source": [
    "!python Experiment.py --dataset rt --interaction NeuCF --rounds 1 --agg_epochs 10 --density 0.15 --slices 10 --part_type 5 --processed 0"
   ],
   "metadata": {
    "collapsed": false,
    "pycharm": {
     "is_executing": true
    }
   }
  },
  {
   "cell_type": "code",
   "execution_count": null,
   "outputs": [],
   "source": [
    "!python Experiment.py --dataset tp --interaction NeuCF --rounds 1 --agg_epochs 10 --density 0.15 --slices 10 --part_type 5 --processed 0"
   ],
   "metadata": {
    "collapsed": false,
    "pycharm": {
     "is_executing": true
    }
   }
  },
  {
   "cell_type": "code",
   "execution_count": null,
   "outputs": [],
   "source": [
    "!python Experiment.py --dataset rt --interaction CSMF --rounds 1 --agg_epochs 10 --density 0.15 --slices 10 --part_type 5 --processed 0"
   ],
   "metadata": {
    "collapsed": false,
    "pycharm": {
     "is_executing": true
    }
   }
  },
  {
   "cell_type": "code",
   "execution_count": null,
   "outputs": [],
   "source": [
    "!python Experiment.py --dataset tp --interaction CSMF --rounds 1 --agg_epochs 10 --density 0.15 --slices 10 --part_type 5 --processed 0"
   ],
   "metadata": {
    "collapsed": false,
    "pycharm": {
     "is_executing": true
    }
   }
  },
  {
   "cell_type": "code",
   "execution_count": null,
   "outputs": [],
   "source": [
    "# !python Experiment.py --dataset rt --interaction NeuGraphMF --rounds 1 --agg_epochs 10 --density 0.15 --slices 10 --part_type 5 --processed 0"
   ],
   "metadata": {
    "collapsed": false,
    "pycharm": {
     "is_executing": true
    }
   }
  },
  {
   "cell_type": "code",
   "execution_count": null,
   "outputs": [],
   "source": [
    "# !python Experiment.py --dataset rt --interaction NeuGraphMF --rounds 1 --agg_epochs 10 --density 0.15 --slices 10 --part_type 5 --processed 0"
   ],
   "metadata": {
    "collapsed": false,
    "pycharm": {
     "is_executing": true
    }
   }
  },
  {
   "cell_type": "code",
   "execution_count": null,
   "outputs": [],
   "source": [
    "!python Experiment.py --dataset rt --interaction Pure_Mf --rounds 1 --agg_epochs 10 --density 0.15 --slices 10 --part_type 5 --processed 0"
   ],
   "metadata": {
    "collapsed": false,
    "pycharm": {
     "is_executing": true
    }
   }
  },
  {
   "cell_type": "code",
   "execution_count": null,
   "outputs": [],
   "source": [
    "!python Experiment.py --dataset tp --interaction Pure_Mf --rounds 1 --agg_epochs 10 --density 0.15 --slices 10 --part_type 5 --processed 0"
   ],
   "metadata": {
    "collapsed": false,
    "pycharm": {
     "is_executing": true
    }
   }
  },
  {
   "cell_type": "markdown",
   "source": [
    "*****"
   ],
   "metadata": {
    "collapsed": false
   }
  },
  {
   "cell_type": "markdown",
   "source": [
    "## Density : 0.20"
   ],
   "metadata": {
    "collapsed": false
   }
  },
  {
   "cell_type": "markdown",
   "source": [
    "### Eraser"
   ],
   "metadata": {
    "collapsed": false
   }
  },
  {
   "cell_type": "code",
   "execution_count": null,
   "outputs": [],
   "source": [
    "!python Experiment.py --dataset rt --interaction NeuCF --rounds 1 --agg_epochs 10 --density 0.20 --slices 10 --part_type 5 --processed 0"
   ],
   "metadata": {
    "collapsed": false,
    "pycharm": {
     "is_executing": true
    }
   }
  },
  {
   "cell_type": "code",
   "execution_count": null,
   "outputs": [],
   "source": [
    "!python Experiment.py --dataset tp --interaction NeuCF --rounds 1 --agg_epochs 10 --density 0.20 --slices 10 --part_type 5 --processed 0"
   ],
   "metadata": {
    "collapsed": false,
    "pycharm": {
     "is_executing": true
    }
   }
  },
  {
   "cell_type": "code",
   "execution_count": null,
   "outputs": [],
   "source": [
    "!python Experiment.py --dataset rt --interaction CSMF --rounds 1 --agg_epochs 10 --density 0.20 --slices 10 --part_type 5 --processed 0"
   ],
   "metadata": {
    "collapsed": false,
    "pycharm": {
     "is_executing": true
    }
   }
  },
  {
   "cell_type": "code",
   "execution_count": null,
   "outputs": [],
   "source": [
    "!python Experiment.py --dataset tp --interaction CSMF --rounds 1 --agg_epochs 10 --density 0.20 --slices 10 --part_type 5 --processed 0"
   ],
   "metadata": {
    "collapsed": false,
    "pycharm": {
     "is_executing": true
    }
   }
  },
  {
   "cell_type": "code",
   "execution_count": null,
   "outputs": [],
   "source": [
    "# !python Experiment.py --dataset rt --interaction NeuGraphMF --rounds 1 --agg_epochs 10 --density 0.20 --slices 10 --part_type 5 --processed 0"
   ],
   "metadata": {
    "collapsed": false,
    "pycharm": {
     "is_executing": true
    }
   }
  },
  {
   "cell_type": "code",
   "execution_count": null,
   "outputs": [],
   "source": [
    "# !python Experiment.py --dataset rt --interaction NeuGraphMF --rounds 1 --agg_epochs 10 --density 0.20 --slices 10 --part_type 5 --processed 0"
   ],
   "metadata": {
    "collapsed": false,
    "pycharm": {
     "is_executing": true
    }
   }
  },
  {
   "cell_type": "code",
   "execution_count": null,
   "outputs": [],
   "source": [
    "!python Experiment.py --dataset rt --interaction Pure_Mf --rounds 1 --agg_epochs 10 --density 0.20 --slices 10 --part_type 5 --processed 0"
   ],
   "metadata": {
    "collapsed": false,
    "pycharm": {
     "is_executing": true
    }
   }
  },
  {
   "cell_type": "code",
   "execution_count": null,
   "outputs": [],
   "source": [
    "!python Experiment.py --dataset tp --interaction Pure_Mf --rounds 1 --agg_epochs 10 --density 0.20 --slices 10 --part_type 5 --processed 0"
   ],
   "metadata": {
    "collapsed": false,
    "pycharm": {
     "is_executing": true
    }
   }
  },
  {
   "cell_type": "markdown",
   "source": [
    "*****"
   ],
   "metadata": {
    "collapsed": false
   }
  },
  {
   "cell_type": "markdown",
   "source": [
    "## Density : 0.20"
   ],
   "metadata": {
    "collapsed": false
   }
  },
  {
   "cell_type": "markdown",
   "source": [
    "### Eraser"
   ],
   "metadata": {
    "collapsed": false
   }
  },
  {
   "cell_type": "code",
   "execution_count": null,
   "outputs": [],
   "source": [
    "!python Experiment.py --dataset rt --interaction NeuCF --rounds 1 --agg_epochs 10 --density 0.25 --slices 10 --part_type 5 --processed 0"
   ],
   "metadata": {
    "collapsed": false,
    "pycharm": {
     "is_executing": true
    }
   }
  },
  {
   "cell_type": "code",
   "execution_count": null,
   "outputs": [],
   "source": [
    "!python Experiment.py --dataset tp --interaction NeuCF --rounds 1 --agg_epochs 10 --density 0.25 --slices 10 --part_type 5 --processed 0"
   ],
   "metadata": {
    "collapsed": false,
    "pycharm": {
     "is_executing": true
    }
   }
  },
  {
   "cell_type": "code",
   "execution_count": null,
   "outputs": [],
   "source": [
    "!python Experiment.py --dataset rt --interaction CSMF --rounds 1 --agg_epochs 10 --density 0.25 --slices 10 --part_type 5 --processed 0"
   ],
   "metadata": {
    "collapsed": false,
    "pycharm": {
     "is_executing": true
    }
   }
  },
  {
   "cell_type": "code",
   "execution_count": null,
   "outputs": [],
   "source": [
    "!python Experiment.py --dataset tp --interaction CSMF --rounds 1 --agg_epochs 10 --density 0.25 --slices 10 --part_type 5 --processed 0"
   ],
   "metadata": {
    "collapsed": false,
    "pycharm": {
     "is_executing": true
    }
   }
  },
  {
   "cell_type": "code",
   "execution_count": null,
   "outputs": [],
   "source": [
    "# !python Experiment.py --dataset rt --interaction NeuGraphMF --rounds 1 --agg_epochs 10 --density 0.25 --slices 10 --part_type 5 --processed 0"
   ],
   "metadata": {
    "collapsed": false,
    "pycharm": {
     "is_executing": true
    }
   }
  },
  {
   "cell_type": "code",
   "execution_count": null,
   "outputs": [],
   "source": [
    "# !python Experiment.py --dataset rt --interaction NeuGraphMF --rounds 1 --agg_epochs 10 --density 0.25 --slices 10 --part_type 5 --processed 0"
   ],
   "metadata": {
    "collapsed": false,
    "pycharm": {
     "is_executing": true
    }
   }
  },
  {
   "cell_type": "code",
   "execution_count": null,
   "outputs": [],
   "source": [
    "!python Experiment.py --dataset rt --interaction Pure_Mf --rounds 1 --agg_epochs 10 --density 0.25 --slices 10 --part_type 5 --processed 0"
   ],
   "metadata": {
    "collapsed": false,
    "pycharm": {
     "is_executing": true
    }
   }
  },
  {
   "cell_type": "code",
   "execution_count": null,
   "outputs": [],
   "source": [
    "!python Experiment.py --dataset tp --interaction Pure_Mf --rounds 1 --agg_epochs 10 --density 0.25 --slices 10 --part_type 5 --processed 0"
   ],
   "metadata": {
    "collapsed": false,
    "pycharm": {
     "is_executing": true
    }
   }
  },
  {
   "cell_type": "markdown",
   "source": [
    "## Density : 0.30"
   ],
   "metadata": {
    "collapsed": false
   }
  },
  {
   "cell_type": "markdown",
   "source": [
    "### Eraser"
   ],
   "metadata": {
    "collapsed": false
   }
  },
  {
   "cell_type": "code",
   "execution_count": null,
   "outputs": [],
   "source": [
    "!python Experiment.py --dataset rt --interaction NeuCF --rounds 1 --agg_epochs 10 --density 0.30 --slices 10 --part_type 5 --processed 0"
   ],
   "metadata": {
    "collapsed": false,
    "pycharm": {
     "is_executing": true
    }
   }
  },
  {
   "cell_type": "code",
   "execution_count": null,
   "outputs": [],
   "source": [
    "!python Experiment.py --dataset tp --interaction NeuCF --rounds 1 --agg_epochs 10 --density 0.30 --slices 10 --part_type 5 --processed 0"
   ],
   "metadata": {
    "collapsed": false,
    "pycharm": {
     "is_executing": true
    }
   }
  },
  {
   "cell_type": "code",
   "execution_count": null,
   "outputs": [],
   "source": [
    "!python Experiment.py --dataset rt --interaction CSMF --rounds 1 --agg_epochs 10 --density 0.30 --slices 10 --part_type 5 --processed 0"
   ],
   "metadata": {
    "collapsed": false,
    "pycharm": {
     "is_executing": true
    }
   }
  },
  {
   "cell_type": "code",
   "execution_count": null,
   "outputs": [],
   "source": [
    "!python Experiment.py --dataset tp --interaction CSMF --rounds 1 --agg_epochs 10 --density 0.30 --slices 10 --part_type 5 --processed 0"
   ],
   "metadata": {
    "collapsed": false,
    "pycharm": {
     "is_executing": true
    }
   }
  },
  {
   "cell_type": "code",
   "execution_count": null,
   "outputs": [],
   "source": [
    "# !python Experiment.py --dataset rt --interaction NeuGraphMF --rounds 1 --agg_epochs 10 --density 0.30 --slices 10 --part_type 5 --processed 0"
   ],
   "metadata": {
    "collapsed": false,
    "pycharm": {
     "is_executing": true
    }
   }
  },
  {
   "cell_type": "code",
   "execution_count": null,
   "outputs": [],
   "source": [
    "# !python Experiment.py --dataset rt --interaction NeuGraphMF --rounds 1 --agg_epochs 10 --density 0.30 --slices 10 --part_type 5 --processed 0"
   ],
   "metadata": {
    "collapsed": false,
    "pycharm": {
     "is_executing": true
    }
   }
  },
  {
   "cell_type": "code",
   "execution_count": null,
   "outputs": [],
   "source": [
    "!python Experiment.py --dataset rt --interaction Pure_Mf --rounds 1 --agg_epochs 10 --density 0.30 --slices 10 --part_type 5 --processed 0"
   ],
   "metadata": {
    "collapsed": false,
    "pycharm": {
     "is_executing": true
    }
   }
  },
  {
   "cell_type": "code",
   "execution_count": null,
   "outputs": [],
   "source": [
    "!python Experiment.py --dataset tp --interaction Pure_Mf --rounds 1 --agg_epochs 10 --density 0.30 --slices 10 --part_type 5 --processed 0"
   ],
   "metadata": {
    "collapsed": false,
    "pycharm": {
     "is_executing": true
    }
   }
  },
  {
   "cell_type": "markdown",
   "source": [
    "# user balance node2vec"
   ],
   "metadata": {
    "collapsed": false
   }
  },
  {
   "cell_type": "code",
   "execution_count": null,
   "outputs": [],
   "source": [
    "!python Experiment.py --dataset rt --interaction NeuCF --rounds 1 --agg_epochs 10 --density 0.10 --slices 10 --part_type 6 --processed 0"
   ],
   "metadata": {
    "collapsed": false,
    "pycharm": {
     "is_executing": true
    }
   }
  },
  {
   "cell_type": "code",
   "execution_count": null,
   "outputs": [],
   "source": [
    "!python Experiment.py --dataset tp --interaction NeuCF --rounds 1 --agg_epochs 10 --density 0.10 --slices 10 --part_type 6 --processed 0"
   ],
   "metadata": {
    "collapsed": false,
    "pycharm": {
     "is_executing": true
    }
   }
  },
  {
   "cell_type": "code",
   "execution_count": null,
   "outputs": [],
   "source": [
    "!python Experiment.py --dataset rt --interaction CSMF --rounds 1 --agg_epochs 10 --density 0.10 --slices 10 --part_type 6 --processed 0"
   ],
   "metadata": {
    "collapsed": false,
    "pycharm": {
     "is_executing": true
    }
   }
  },
  {
   "cell_type": "code",
   "execution_count": null,
   "outputs": [],
   "source": [
    "!python Experiment.py --dataset tp --interaction CSMF --rounds 1 --agg_epochs 10 --density 0.10 --slices 10 --part_type 6 --processed 0"
   ],
   "metadata": {
    "collapsed": false,
    "pycharm": {
     "is_executing": true
    }
   }
  },
  {
   "cell_type": "code",
   "execution_count": null,
   "outputs": [],
   "source": [
    "# !python Experiment.py --dataset rt --interaction NeuGraphMF --rounds 1 --agg_epochs 10 --density 0.10 --slices 10 --part_type 6 --processed 0"
   ],
   "metadata": {
    "collapsed": false,
    "pycharm": {
     "is_executing": true
    }
   }
  },
  {
   "cell_type": "code",
   "execution_count": null,
   "outputs": [],
   "source": [
    "# !python Experiment.py --dataset rt --interaction NeuGraphMF --rounds 1 --agg_epochs 10 --density 0.10 --slices 10 --part_type 6 --processed 0"
   ],
   "metadata": {
    "collapsed": false,
    "pycharm": {
     "is_executing": true
    }
   }
  },
  {
   "cell_type": "code",
   "execution_count": null,
   "outputs": [],
   "source": [
    "!python Experiment.py --dataset rt --interaction Pure_Mf --rounds 1 --agg_epochs 10 --density 0.10 --slices 10 --part_type 6 --processed 0"
   ],
   "metadata": {
    "collapsed": false,
    "pycharm": {
     "is_executing": true
    }
   }
  },
  {
   "cell_type": "code",
   "execution_count": null,
   "outputs": [],
   "source": [
    "!python Experiment.py --dataset tp --interaction Pure_Mf --rounds 1 --agg_epochs 10 --density 0.10 --slices 10 --part_type 6 --processed 0"
   ],
   "metadata": {
    "collapsed": false,
    "pycharm": {
     "is_executing": true
    }
   }
  },
  {
   "cell_type": "markdown",
   "source": [
    "*****"
   ],
   "metadata": {
    "collapsed": false
   }
  },
  {
   "cell_type": "markdown",
   "source": [
    "## Density : 0.15"
   ],
   "metadata": {
    "collapsed": false
   }
  },
  {
   "cell_type": "markdown",
   "source": [
    "### Eraser"
   ],
   "metadata": {
    "collapsed": false
   }
  },
  {
   "cell_type": "code",
   "execution_count": null,
   "outputs": [],
   "source": [
    "!python Experiment.py --dataset rt --interaction NeuCF --rounds 1 --agg_epochs 10 --density 0.15 --slices 10 --part_type 6 --processed 0"
   ],
   "metadata": {
    "collapsed": false,
    "pycharm": {
     "is_executing": true
    }
   }
  },
  {
   "cell_type": "code",
   "execution_count": null,
   "outputs": [],
   "source": [
    "!python Experiment.py --dataset tp --interaction NeuCF --rounds 1 --agg_epochs 10 --density 0.15 --slices 10 --part_type 6 --processed 0"
   ],
   "metadata": {
    "collapsed": false,
    "pycharm": {
     "is_executing": true
    }
   }
  },
  {
   "cell_type": "code",
   "execution_count": null,
   "outputs": [],
   "source": [
    "!python Experiment.py --dataset rt --interaction CSMF --rounds 1 --agg_epochs 10 --density 0.15 --slices 10 --part_type 6 --processed 0"
   ],
   "metadata": {
    "collapsed": false,
    "pycharm": {
     "is_executing": true
    }
   }
  },
  {
   "cell_type": "code",
   "execution_count": null,
   "outputs": [],
   "source": [
    "!python Experiment.py --dataset tp --interaction CSMF --rounds 1 --agg_epochs 10 --density 0.15 --slices 10 --part_type 6 --processed 0"
   ],
   "metadata": {
    "collapsed": false,
    "pycharm": {
     "is_executing": true
    }
   }
  },
  {
   "cell_type": "code",
   "execution_count": null,
   "outputs": [],
   "source": [
    "# !python Experiment.py --dataset rt --interaction NeuGraphMF --rounds 1 --agg_epochs 10 --density 0.15 --slices 10 --part_type 6 --processed 0"
   ],
   "metadata": {
    "collapsed": false,
    "pycharm": {
     "is_executing": true
    }
   }
  },
  {
   "cell_type": "code",
   "execution_count": null,
   "outputs": [],
   "source": [
    "# !python Experiment.py --dataset rt --interaction NeuGraphMF --rounds 1 --agg_epochs 10 --density 0.15 --slices 10 --part_type 6 --processed 0"
   ],
   "metadata": {
    "collapsed": false,
    "pycharm": {
     "is_executing": true
    }
   }
  },
  {
   "cell_type": "code",
   "execution_count": null,
   "outputs": [],
   "source": [
    "!python Experiment.py --dataset rt --interaction Pure_Mf --rounds 1 --agg_epochs 10 --density 0.15 --slices 10 --part_type 6 --processed 0"
   ],
   "metadata": {
    "collapsed": false,
    "pycharm": {
     "is_executing": true
    }
   }
  },
  {
   "cell_type": "code",
   "execution_count": null,
   "outputs": [],
   "source": [
    "!python Experiment.py --dataset tp --interaction Pure_Mf --rounds 1 --agg_epochs 10 --density 0.15 --slices 10 --part_type 6 --processed 0"
   ],
   "metadata": {
    "collapsed": false,
    "pycharm": {
     "is_executing": true
    }
   }
  },
  {
   "cell_type": "markdown",
   "source": [
    "*****"
   ],
   "metadata": {
    "collapsed": false
   }
  },
  {
   "cell_type": "markdown",
   "source": [
    "## Density : 0.20"
   ],
   "metadata": {
    "collapsed": false
   }
  },
  {
   "cell_type": "markdown",
   "source": [
    "### Eraser"
   ],
   "metadata": {
    "collapsed": false
   }
  },
  {
   "cell_type": "code",
   "execution_count": null,
   "outputs": [],
   "source": [
    "!python Experiment.py --dataset rt --interaction NeuCF --rounds 1 --agg_epochs 10 --density 0.20 --slices 10 --part_type 6 --processed 0"
   ],
   "metadata": {
    "collapsed": false,
    "pycharm": {
     "is_executing": true
    }
   }
  },
  {
   "cell_type": "code",
   "execution_count": null,
   "outputs": [],
   "source": [
    "!python Experiment.py --dataset tp --interaction NeuCF --rounds 1 --agg_epochs 10 --density 0.20 --slices 10 --part_type 6 --processed 0"
   ],
   "metadata": {
    "collapsed": false,
    "pycharm": {
     "is_executing": true
    }
   }
  },
  {
   "cell_type": "code",
   "execution_count": null,
   "outputs": [],
   "source": [
    "!python Experiment.py --dataset rt --interaction CSMF --rounds 1 --agg_epochs 10 --density 0.20 --slices 10 --part_type 6 --processed 0"
   ],
   "metadata": {
    "collapsed": false,
    "pycharm": {
     "is_executing": true
    }
   }
  },
  {
   "cell_type": "code",
   "execution_count": null,
   "outputs": [],
   "source": [
    "!python Experiment.py --dataset tp --interaction CSMF --rounds 1 --agg_epochs 10 --density 0.20 --slices 10 --part_type 6 --processed 0"
   ],
   "metadata": {
    "collapsed": false,
    "pycharm": {
     "is_executing": true
    }
   }
  },
  {
   "cell_type": "code",
   "execution_count": null,
   "outputs": [],
   "source": [
    "# !python Experiment.py --dataset rt --interaction NeuGraphMF --rounds 1 --agg_epochs 10 --density 0.20 --slices 10 --part_type 6 --processed 0"
   ],
   "metadata": {
    "collapsed": false,
    "pycharm": {
     "is_executing": true
    }
   }
  },
  {
   "cell_type": "code",
   "execution_count": null,
   "outputs": [],
   "source": [
    "# !python Experiment.py --dataset rt --interaction NeuGraphMF --rounds 1 --agg_epochs 10 --density 0.20 --slices 10 --part_type 6 --processed 0"
   ],
   "metadata": {
    "collapsed": false,
    "pycharm": {
     "is_executing": true
    }
   }
  },
  {
   "cell_type": "code",
   "execution_count": null,
   "outputs": [],
   "source": [
    "!python Experiment.py --dataset rt --interaction Pure_Mf --rounds 1 --agg_epochs 10 --density 0.20 --slices 10 --part_type 6 --processed 0"
   ],
   "metadata": {
    "collapsed": false,
    "pycharm": {
     "is_executing": true
    }
   }
  },
  {
   "cell_type": "code",
   "execution_count": null,
   "outputs": [],
   "source": [
    "!python Experiment.py --dataset tp --interaction Pure_Mf --rounds 1 --agg_epochs 10 --density 0.20 --slices 10 --part_type 6 --processed 0"
   ],
   "metadata": {
    "collapsed": false,
    "pycharm": {
     "is_executing": true
    }
   }
  },
  {
   "cell_type": "markdown",
   "source": [
    "*****"
   ],
   "metadata": {
    "collapsed": false
   }
  },
  {
   "cell_type": "markdown",
   "source": [
    "## Density : 0.20"
   ],
   "metadata": {
    "collapsed": false
   }
  },
  {
   "cell_type": "markdown",
   "source": [
    "### Eraser"
   ],
   "metadata": {
    "collapsed": false
   }
  },
  {
   "cell_type": "code",
   "execution_count": null,
   "outputs": [],
   "source": [
    "!python Experiment.py --dataset rt --interaction NeuCF --rounds 1 --agg_epochs 10 --density 0.25 --slices 10 --part_type 6 --processed 0"
   ],
   "metadata": {
    "collapsed": false,
    "pycharm": {
     "is_executing": true
    }
   }
  },
  {
   "cell_type": "code",
   "execution_count": null,
   "outputs": [],
   "source": [
    "!python Experiment.py --dataset tp --interaction NeuCF --rounds 1 --agg_epochs 10 --density 0.25 --slices 10 --part_type 6 --processed 0"
   ],
   "metadata": {
    "collapsed": false,
    "pycharm": {
     "is_executing": true
    }
   }
  },
  {
   "cell_type": "code",
   "execution_count": null,
   "outputs": [],
   "source": [
    "!python Experiment.py --dataset rt --interaction CSMF --rounds 1 --agg_epochs 10 --density 0.25 --slices 10 --part_type 6 --processed 0"
   ],
   "metadata": {
    "collapsed": false,
    "pycharm": {
     "is_executing": true
    }
   }
  },
  {
   "cell_type": "code",
   "execution_count": null,
   "outputs": [],
   "source": [
    "!python Experiment.py --dataset tp --interaction CSMF --rounds 1 --agg_epochs 10 --density 0.25 --slices 10 --part_type 6 --processed 0"
   ],
   "metadata": {
    "collapsed": false,
    "pycharm": {
     "is_executing": true
    }
   }
  },
  {
   "cell_type": "code",
   "execution_count": null,
   "outputs": [],
   "source": [
    "# !python Experiment.py --dataset rt --interaction NeuGraphMF --rounds 1 --agg_epochs 10 --density 0.25 --slices 10 --part_type 6 --processed 0"
   ],
   "metadata": {
    "collapsed": false,
    "pycharm": {
     "is_executing": true
    }
   }
  },
  {
   "cell_type": "code",
   "execution_count": null,
   "outputs": [],
   "source": [
    "# !python Experiment.py --dataset rt --interaction NeuGraphMF --rounds 1 --agg_epochs 10 --density 0.25 --slices 10 --part_type 6 --processed 0"
   ],
   "metadata": {
    "collapsed": false,
    "pycharm": {
     "is_executing": true
    }
   }
  },
  {
   "cell_type": "code",
   "execution_count": null,
   "outputs": [],
   "source": [
    "!python Experiment.py --dataset rt --interaction Pure_Mf --rounds 1 --agg_epochs 10 --density 0.25 --slices 10 --part_type 6 --processed 0"
   ],
   "metadata": {
    "collapsed": false,
    "pycharm": {
     "is_executing": true
    }
   }
  },
  {
   "cell_type": "code",
   "execution_count": null,
   "outputs": [],
   "source": [
    "!python Experiment.py --dataset tp --interaction Pure_Mf --rounds 1 --agg_epochs 10 --density 0.25 --slices 10 --part_type 6 --processed 0"
   ],
   "metadata": {
    "collapsed": false,
    "pycharm": {
     "is_executing": true
    }
   }
  },
  {
   "cell_type": "markdown",
   "source": [
    "## Density : 0.30"
   ],
   "metadata": {
    "collapsed": false
   }
  },
  {
   "cell_type": "markdown",
   "source": [
    "### Eraser"
   ],
   "metadata": {
    "collapsed": false
   }
  },
  {
   "cell_type": "code",
   "execution_count": null,
   "outputs": [],
   "source": [
    "!python Experiment.py --dataset rt --interaction NeuCF --rounds 1 --agg_epochs 10 --density 0.30 --slices 10 --part_type 6 --processed 0"
   ],
   "metadata": {
    "collapsed": false,
    "pycharm": {
     "is_executing": true
    }
   }
  },
  {
   "cell_type": "code",
   "execution_count": null,
   "outputs": [],
   "source": [
    "!python Experiment.py --dataset tp --interaction NeuCF --rounds 1 --agg_epochs 10 --density 0.30 --slices 10 --part_type 6 --processed 0"
   ],
   "metadata": {
    "collapsed": false,
    "pycharm": {
     "is_executing": true
    }
   }
  },
  {
   "cell_type": "code",
   "execution_count": null,
   "outputs": [],
   "source": [
    "!python Experiment.py --dataset rt --interaction CSMF --rounds 1 --agg_epochs 10 --density 0.30 --slices 10 --part_type 6 --processed 0"
   ],
   "metadata": {
    "collapsed": false,
    "pycharm": {
     "is_executing": true
    }
   }
  },
  {
   "cell_type": "code",
   "execution_count": null,
   "outputs": [],
   "source": [
    "!python Experiment.py --dataset tp --interaction CSMF --rounds 1 --agg_epochs 10 --density 0.30 --slices 10 --part_type 6 --processed 0"
   ],
   "metadata": {
    "collapsed": false,
    "pycharm": {
     "is_executing": true
    }
   }
  },
  {
   "cell_type": "code",
   "execution_count": null,
   "outputs": [],
   "source": [
    "# !python Experiment.py --dataset rt --interaction NeuGraphMF --rounds 1 --agg_epochs 10 --density 0.30 --slices 10 --part_type 6 --processed 0"
   ],
   "metadata": {
    "collapsed": false,
    "pycharm": {
     "is_executing": true
    }
   }
  },
  {
   "cell_type": "code",
   "execution_count": null,
   "outputs": [],
   "source": [
    "# !python Experiment.py --dataset rt --interaction NeuGraphMF --rounds 1 --agg_epochs 10 --density 0.30 --slices 10 --part_type 6 --processed 0"
   ],
   "metadata": {
    "collapsed": false,
    "pycharm": {
     "is_executing": true
    }
   }
  },
  {
   "cell_type": "code",
   "execution_count": null,
   "outputs": [],
   "source": [
    "!python Experiment.py --dataset rt --interaction Pure_Mf --rounds 1 --agg_epochs 10 --density 0.30 --slices 10 --part_type 6 --processed 0"
   ],
   "metadata": {
    "collapsed": false,
    "pycharm": {
     "is_executing": true
    }
   }
  },
  {
   "cell_type": "code",
   "execution_count": null,
   "outputs": [],
   "source": [
    "!python Experiment.py --dataset tp --interaction Pure_Mf --rounds 1 --agg_epochs 10 --density 0.30 --slices 10 --part_type 6 --processed 0"
   ],
   "metadata": {
    "collapsed": false,
    "pycharm": {
     "is_executing": true
    }
   }
  },
  {
   "cell_type": "markdown",
   "source": [
    "# non balance node2vec"
   ],
   "metadata": {
    "collapsed": false
   }
  },
  {
   "cell_type": "code",
   "execution_count": null,
   "outputs": [],
   "source": [
    "!python Experiment.py --dataset rt --interaction NeuCF --rounds 1 --agg_epochs 10 --density 0.10 --slices 10 --part_type 7 --processed 0"
   ],
   "metadata": {
    "collapsed": false,
    "pycharm": {
     "is_executing": true
    }
   }
  },
  {
   "cell_type": "code",
   "execution_count": null,
   "outputs": [],
   "source": [
    "!python Experiment.py --dataset tp --interaction NeuCF --rounds 1 --agg_epochs 10 --density 0.10 --slices 10 --part_type 7 --processed 0"
   ],
   "metadata": {
    "collapsed": false,
    "pycharm": {
     "is_executing": true
    }
   }
  },
  {
   "cell_type": "code",
   "execution_count": null,
   "outputs": [],
   "source": [
    "!python Experiment.py --dataset rt --interaction CSMF --rounds 1 --agg_epochs 10 --density 0.10 --slices 10 --part_type 7 --processed 0"
   ],
   "metadata": {
    "collapsed": false,
    "pycharm": {
     "is_executing": true
    }
   }
  },
  {
   "cell_type": "code",
   "execution_count": null,
   "outputs": [],
   "source": [
    "!python Experiment.py --dataset tp --interaction CSMF --rounds 1 --agg_epochs 10 --density 0.10 --slices 10 --part_type 7 --processed 0"
   ],
   "metadata": {
    "collapsed": false,
    "pycharm": {
     "is_executing": true
    }
   }
  },
  {
   "cell_type": "code",
   "execution_count": null,
   "outputs": [],
   "source": [
    "# !python Experiment.py --dataset rt --interaction NeuGraphMF --rounds 1 --agg_epochs 10 --density 0.10 --slices 10 --part_type 7 --processed 0"
   ],
   "metadata": {
    "collapsed": false,
    "pycharm": {
     "is_executing": true
    }
   }
  },
  {
   "cell_type": "code",
   "execution_count": null,
   "outputs": [],
   "source": [
    "# !python Experiment.py --dataset rt --interaction NeuGraphMF --rounds 1 --agg_epochs 10 --density 0.10 --slices 10 --part_type 7 --processed 0"
   ],
   "metadata": {
    "collapsed": false,
    "pycharm": {
     "is_executing": true
    }
   }
  },
  {
   "cell_type": "code",
   "execution_count": null,
   "outputs": [],
   "source": [
    "!python Experiment.py --dataset rt --interaction Pure_Mf --rounds 1 --agg_epochs 10 --density 0.10 --slices 10 --part_type 7 --processed 0"
   ],
   "metadata": {
    "collapsed": false,
    "pycharm": {
     "is_executing": true
    }
   }
  },
  {
   "cell_type": "code",
   "execution_count": null,
   "outputs": [],
   "source": [
    "!python Experiment.py --dataset tp --interaction Pure_Mf --rounds 1 --agg_epochs 10 --density 0.10 --slices 10 --part_type 7 --processed 0"
   ],
   "metadata": {
    "collapsed": false,
    "pycharm": {
     "is_executing": true
    }
   }
  },
  {
   "cell_type": "markdown",
   "source": [
    "*****"
   ],
   "metadata": {
    "collapsed": false
   }
  },
  {
   "cell_type": "markdown",
   "source": [
    "## Density : 0.15"
   ],
   "metadata": {
    "collapsed": false
   }
  },
  {
   "cell_type": "markdown",
   "source": [
    "### Eraser"
   ],
   "metadata": {
    "collapsed": false
   }
  },
  {
   "cell_type": "code",
   "execution_count": null,
   "outputs": [],
   "source": [
    "!python Experiment.py --dataset rt --interaction NeuCF --rounds 1 --agg_epochs 10 --density 0.15 --slices 10 --part_type 7 --processed 0"
   ],
   "metadata": {
    "collapsed": false,
    "pycharm": {
     "is_executing": true
    }
   }
  },
  {
   "cell_type": "code",
   "execution_count": null,
   "outputs": [],
   "source": [
    "!python Experiment.py --dataset tp --interaction NeuCF --rounds 1 --agg_epochs 10 --density 0.15 --slices 10 --part_type 7 --processed 0"
   ],
   "metadata": {
    "collapsed": false,
    "pycharm": {
     "is_executing": true
    }
   }
  },
  {
   "cell_type": "code",
   "execution_count": null,
   "outputs": [],
   "source": [
    "!python Experiment.py --dataset rt --interaction CSMF --rounds 1 --agg_epochs 10 --density 0.15 --slices 10 --part_type 7 --processed 0"
   ],
   "metadata": {
    "collapsed": false,
    "pycharm": {
     "is_executing": true
    }
   }
  },
  {
   "cell_type": "code",
   "execution_count": null,
   "outputs": [],
   "source": [
    "!python Experiment.py --dataset tp --interaction CSMF --rounds 1 --agg_epochs 10 --density 0.15 --slices 10 --part_type 7 --processed 0"
   ],
   "metadata": {
    "collapsed": false,
    "pycharm": {
     "is_executing": true
    }
   }
  },
  {
   "cell_type": "code",
   "execution_count": null,
   "outputs": [],
   "source": [
    "# !python Experiment.py --dataset rt --interaction NeuGraphMF --rounds 1 --agg_epochs 10 --density 0.15 --slices 10 --part_type 7 --processed 0"
   ],
   "metadata": {
    "collapsed": false,
    "pycharm": {
     "is_executing": true
    }
   }
  },
  {
   "cell_type": "code",
   "execution_count": null,
   "outputs": [],
   "source": [
    "# !python Experiment.py --dataset rt --interaction NeuGraphMF --rounds 1 --agg_epochs 10 --density 0.15 --slices 10 --part_type 7 --processed 0"
   ],
   "metadata": {
    "collapsed": false,
    "pycharm": {
     "is_executing": true
    }
   }
  },
  {
   "cell_type": "code",
   "execution_count": null,
   "outputs": [],
   "source": [
    "!python Experiment.py --dataset rt --interaction Pure_Mf --rounds 1 --agg_epochs 10 --density 0.15 --slices 10 --part_type 7 --processed 0"
   ],
   "metadata": {
    "collapsed": false,
    "pycharm": {
     "is_executing": true
    }
   }
  },
  {
   "cell_type": "code",
   "execution_count": null,
   "outputs": [],
   "source": [
    "!python Experiment.py --dataset tp --interaction Pure_Mf --rounds 1 --agg_epochs 10 --density 0.15 --slices 10 --part_type 7 --processed 0"
   ],
   "metadata": {
    "collapsed": false,
    "pycharm": {
     "is_executing": true
    }
   }
  },
  {
   "cell_type": "markdown",
   "source": [
    "*****"
   ],
   "metadata": {
    "collapsed": false
   }
  },
  {
   "cell_type": "markdown",
   "source": [
    "## Density : 0.20"
   ],
   "metadata": {
    "collapsed": false
   }
  },
  {
   "cell_type": "markdown",
   "source": [
    "### Eraser"
   ],
   "metadata": {
    "collapsed": false
   }
  },
  {
   "cell_type": "code",
   "execution_count": null,
   "outputs": [],
   "source": [
    "!python Experiment.py --dataset rt --interaction NeuCF --rounds 1 --agg_epochs 10 --density 0.20 --slices 10 --part_type 7 --processed 0"
   ],
   "metadata": {
    "collapsed": false,
    "pycharm": {
     "is_executing": true
    }
   }
  },
  {
   "cell_type": "code",
   "execution_count": null,
   "outputs": [],
   "source": [
    "!python Experiment.py --dataset tp --interaction NeuCF --rounds 1 --agg_epochs 10 --density 0.20 --slices 10 --part_type 7 --processed 0"
   ],
   "metadata": {
    "collapsed": false,
    "pycharm": {
     "is_executing": true
    }
   }
  },
  {
   "cell_type": "code",
   "execution_count": null,
   "outputs": [],
   "source": [
    "!python Experiment.py --dataset rt --interaction CSMF --rounds 1 --agg_epochs 10 --density 0.20 --slices 10 --part_type 7 --processed 0"
   ],
   "metadata": {
    "collapsed": false,
    "pycharm": {
     "is_executing": true
    }
   }
  },
  {
   "cell_type": "code",
   "execution_count": null,
   "outputs": [],
   "source": [
    "!python Experiment.py --dataset tp --interaction CSMF --rounds 1 --agg_epochs 10 --density 0.20 --slices 10 --part_type 7 --processed 0"
   ],
   "metadata": {
    "collapsed": false,
    "pycharm": {
     "is_executing": true
    }
   }
  },
  {
   "cell_type": "code",
   "execution_count": null,
   "outputs": [],
   "source": [
    "# !python Experiment.py --dataset rt --interaction NeuGraphMF --rounds 1 --agg_epochs 10 --density 0.20 --slices 10 --part_type 7 --processed 0"
   ],
   "metadata": {
    "collapsed": false,
    "pycharm": {
     "is_executing": true
    }
   }
  },
  {
   "cell_type": "code",
   "execution_count": null,
   "outputs": [],
   "source": [
    "# !python Experiment.py --dataset rt --interaction NeuGraphMF --rounds 1 --agg_epochs 10 --density 0.20 --slices 10 --part_type 7 --processed 0"
   ],
   "metadata": {
    "collapsed": false,
    "pycharm": {
     "is_executing": true
    }
   }
  },
  {
   "cell_type": "code",
   "execution_count": null,
   "outputs": [],
   "source": [
    "!python Experiment.py --dataset rt --interaction Pure_Mf --rounds 1 --agg_epochs 10 --density 0.20 --slices 10 --part_type 7 --processed 0"
   ],
   "metadata": {
    "collapsed": false,
    "pycharm": {
     "is_executing": true
    }
   }
  },
  {
   "cell_type": "code",
   "execution_count": null,
   "outputs": [],
   "source": [
    "!python Experiment.py --dataset tp --interaction Pure_Mf --rounds 1 --agg_epochs 10 --density 0.20 --slices 10 --part_type 7 --processed 0"
   ],
   "metadata": {
    "collapsed": false,
    "pycharm": {
     "is_executing": true
    }
   }
  },
  {
   "cell_type": "markdown",
   "source": [
    "*****"
   ],
   "metadata": {
    "collapsed": false
   }
  },
  {
   "cell_type": "markdown",
   "source": [
    "## Density : 0.20"
   ],
   "metadata": {
    "collapsed": false
   }
  },
  {
   "cell_type": "markdown",
   "source": [
    "### Eraser"
   ],
   "metadata": {
    "collapsed": false
   }
  },
  {
   "cell_type": "code",
   "execution_count": null,
   "outputs": [],
   "source": [
    "!python Experiment.py --dataset rt --interaction NeuCF --rounds 1 --agg_epochs 10 --density 0.25 --slices 10 --part_type 7 --processed 0"
   ],
   "metadata": {
    "collapsed": false,
    "pycharm": {
     "is_executing": true
    }
   }
  },
  {
   "cell_type": "code",
   "execution_count": null,
   "outputs": [],
   "source": [
    "!python Experiment.py --dataset tp --interaction NeuCF --rounds 1 --agg_epochs 10 --density 0.25 --slices 10 --part_type 7 --processed 0"
   ],
   "metadata": {
    "collapsed": false,
    "pycharm": {
     "is_executing": true
    }
   }
  },
  {
   "cell_type": "code",
   "execution_count": null,
   "outputs": [],
   "source": [
    "!python Experiment.py --dataset rt --interaction CSMF --rounds 1 --agg_epochs 10 --density 0.25 --slices 10 --part_type 7 --processed 0"
   ],
   "metadata": {
    "collapsed": false,
    "pycharm": {
     "is_executing": true
    }
   }
  },
  {
   "cell_type": "code",
   "execution_count": null,
   "outputs": [],
   "source": [
    "!python Experiment.py --dataset tp --interaction CSMF --rounds 1 --agg_epochs 10 --density 0.25 --slices 10 --part_type 7 --processed 0"
   ],
   "metadata": {
    "collapsed": false,
    "pycharm": {
     "is_executing": true
    }
   }
  },
  {
   "cell_type": "code",
   "execution_count": null,
   "outputs": [],
   "source": [
    "# !python Experiment.py --dataset rt --interaction NeuGraphMF --rounds 1 --agg_epochs 10 --density 0.25 --slices 10 --part_type 7 --processed 0"
   ],
   "metadata": {
    "collapsed": false,
    "pycharm": {
     "is_executing": true
    }
   }
  },
  {
   "cell_type": "code",
   "execution_count": null,
   "outputs": [],
   "source": [
    "# !python Experiment.py --dataset rt --interaction NeuGraphMF --rounds 1 --agg_epochs 10 --density 0.25 --slices 10 --part_type 7 --processed 0"
   ],
   "metadata": {
    "collapsed": false,
    "pycharm": {
     "is_executing": true
    }
   }
  },
  {
   "cell_type": "code",
   "execution_count": null,
   "outputs": [],
   "source": [
    "!python Experiment.py --dataset rt --interaction Pure_Mf --rounds 1 --agg_epochs 10 --density 0.25 --slices 10 --part_type 7 --processed 0"
   ],
   "metadata": {
    "collapsed": false,
    "pycharm": {
     "is_executing": true
    }
   }
  },
  {
   "cell_type": "code",
   "execution_count": null,
   "outputs": [],
   "source": [
    "!python Experiment.py --dataset tp --interaction Pure_Mf --rounds 1 --agg_epochs 10 --density 0.25 --slices 10 --part_type 7 --processed 0"
   ],
   "metadata": {
    "collapsed": false,
    "pycharm": {
     "is_executing": true
    }
   }
  },
  {
   "cell_type": "markdown",
   "source": [
    "## Density : 0.30"
   ],
   "metadata": {
    "collapsed": false
   }
  },
  {
   "cell_type": "markdown",
   "source": [
    "### Eraser"
   ],
   "metadata": {
    "collapsed": false
   }
  },
  {
   "cell_type": "code",
   "execution_count": null,
   "outputs": [],
   "source": [
    "!python Experiment.py --dataset rt --interaction NeuCF --rounds 1 --agg_epochs 10 --density 0.30 --slices 10 --part_type 7 --processed 0"
   ],
   "metadata": {
    "collapsed": false,
    "pycharm": {
     "is_executing": true
    }
   }
  },
  {
   "cell_type": "code",
   "execution_count": null,
   "outputs": [],
   "source": [
    "!python Experiment.py --dataset tp --interaction NeuCF --rounds 1 --agg_epochs 10 --density 0.30 --slices 10 --part_type 7 --processed 0"
   ],
   "metadata": {
    "collapsed": false,
    "pycharm": {
     "is_executing": true
    }
   }
  },
  {
   "cell_type": "code",
   "execution_count": null,
   "outputs": [],
   "source": [
    "!python Experiment.py --dataset rt --interaction CSMF --rounds 1 --agg_epochs 10 --density 0.30 --slices 10 --part_type 7 --processed 0"
   ],
   "metadata": {
    "collapsed": false,
    "pycharm": {
     "is_executing": true
    }
   }
  },
  {
   "cell_type": "code",
   "execution_count": null,
   "outputs": [],
   "source": [
    "!python Experiment.py --dataset tp --interaction CSMF --rounds 1 --agg_epochs 10 --density 0.30 --slices 10 --part_type 7 --processed 0"
   ],
   "metadata": {
    "collapsed": false,
    "pycharm": {
     "is_executing": true
    }
   }
  },
  {
   "cell_type": "code",
   "execution_count": null,
   "outputs": [],
   "source": [
    "# !python Experiment.py --dataset rt --interaction NeuGraphMF --rounds 1 --agg_epochs 10 --density 0.30 --slices 10 --part_type 7 --processed 0"
   ],
   "metadata": {
    "collapsed": false,
    "pycharm": {
     "is_executing": true
    }
   }
  },
  {
   "cell_type": "code",
   "execution_count": null,
   "outputs": [],
   "source": [
    "# !python Experiment.py --dataset rt --interaction NeuGraphMF --rounds 1 --agg_epochs 10 --density 0.30 --slices 10 --part_type 7 --processed 0"
   ],
   "metadata": {
    "collapsed": false,
    "pycharm": {
     "is_executing": true
    }
   }
  },
  {
   "cell_type": "code",
   "execution_count": null,
   "outputs": [],
   "source": [
    "!python Experiment.py --dataset rt --interaction Pure_Mf --rounds 1 --agg_epochs 10 --density 0.30 --slices 10 --part_type 7 --processed 0"
   ],
   "metadata": {
    "collapsed": false,
    "pycharm": {
     "is_executing": true
    }
   }
  },
  {
   "cell_type": "code",
   "execution_count": null,
   "outputs": [],
   "source": [
    "!python Experiment.py --dataset tp --interaction Pure_Mf --rounds 1 --agg_epochs 10 --density 0.30 --slices 10 --part_type 7 --processed 0"
   ],
   "metadata": {
    "collapsed": false,
    "pycharm": {
     "is_executing": true
    }
   }
  },
  {
   "cell_type": "code",
   "execution_count": null,
   "outputs": [],
   "source": [],
   "metadata": {
    "collapsed": false,
    "pycharm": {
     "is_executing": true
    }
   }
  },
  {
   "cell_type": "code",
   "execution_count": null,
   "outputs": [],
   "source": [],
   "metadata": {
    "collapsed": false,
    "pycharm": {
     "is_executing": true
    }
   }
  },
  {
   "cell_type": "code",
   "execution_count": null,
   "outputs": [],
   "source": [],
   "metadata": {
    "collapsed": false,
    "pycharm": {
     "is_executing": true
    }
   }
  },
  {
   "cell_type": "code",
   "execution_count": null,
   "outputs": [],
   "source": [],
   "metadata": {
    "collapsed": false,
    "pycharm": {
     "is_executing": true
    }
   }
  },
  {
   "cell_type": "code",
   "execution_count": null,
   "outputs": [],
   "source": [],
   "metadata": {
    "collapsed": false,
    "pycharm": {
     "is_executing": true
    }
   }
  },
  {
   "cell_type": "code",
   "execution_count": null,
   "outputs": [],
   "source": [],
   "metadata": {
    "collapsed": false,
    "pycharm": {
     "is_executing": true
    }
   }
  },
  {
   "cell_type": "code",
   "execution_count": null,
   "outputs": [],
   "source": [],
   "metadata": {
    "collapsed": false,
    "pycharm": {
     "is_executing": true
    }
   }
  },
  {
   "cell_type": "code",
   "execution_count": null,
   "outputs": [],
   "source": [],
   "metadata": {
    "collapsed": false,
    "pycharm": {
     "is_executing": true
    }
   }
  },
  {
   "cell_type": "code",
   "execution_count": null,
   "outputs": [],
   "source": [],
   "metadata": {
    "collapsed": false,
    "pycharm": {
     "is_executing": true
    }
   }
  },
  {
   "cell_type": "code",
   "execution_count": null,
   "outputs": [],
   "source": [],
   "metadata": {
    "collapsed": false,
    "pycharm": {
     "is_executing": true
    }
   }
  },
  {
   "cell_type": "code",
   "execution_count": null,
   "outputs": [],
   "source": [],
   "metadata": {
    "collapsed": false
   }
  }
 ],
 "metadata": {
  "kernelspec": {
   "display_name": "Python 3",
   "language": "python",
   "name": "python3"
  },
  "language_info": {
   "codemirror_mode": {
    "name": "ipython",
    "version": 2
   },
   "file_extension": ".py",
   "mimetype": "text/x-python",
   "name": "python",
   "nbconvert_exporter": "python",
   "pygments_lexer": "ipython2",
   "version": "2.7.6"
  }
 },
 "nbformat": 4,
 "nbformat_minor": 0
}
