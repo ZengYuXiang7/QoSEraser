{
 "cells": [
  {
   "cell_type": "markdown",
   "metadata": {},
   "source": [
    "# slices 2"
   ]
  },
  {
   "cell_type": "code",
   "execution_count": null,
   "metadata": {
    "collapsed": false
   },
   "outputs": [],
   "source": [
    "!python Experiment.py --dataset rt --interaction NeuCF --rounds 5 --slice_epochs 20 --agg_epochs 10 --density 0.10 --slices 2 --part_type 3 --save_model 1 --processed 1"
   ]
  },
  {
   "cell_type": "code",
   "execution_count": null,
   "metadata": {},
   "outputs": [],
   "source": [
    "!python Experiment.py --dataset tp --interaction NeuCF --rounds 5 --slice_epochs 20 --agg_epochs 10 --density 0.10 --slices 2 --part_type 3 --save_model 1 --processed 1"
   ]
  },
  {
   "cell_type": "code",
   "execution_count": null,
   "metadata": {
    "collapsed": false
   },
   "outputs": [],
   "source": [
    "!python Experiment.py --dataset rt --interaction NeuCF --rounds 5 --slice_epochs 20 --agg_epochs 10 --density 0.15 --slices 2 --part_type 3 --save_model 1 --processed 1"
   ]
  },
  {
   "cell_type": "code",
   "execution_count": null,
   "metadata": {},
   "outputs": [],
   "source": [
    "!python Experiment.py --dataset tp --interaction NeuCF --rounds 5 --slice_epochs 20 --agg_epochs 10 --density 0.15 --slices 2 --part_type 3 --save_model 1 --processed 1"
   ]
  },
  {
   "cell_type": "code",
   "execution_count": null,
   "metadata": {
    "collapsed": false
   },
   "outputs": [],
   "source": [
    "!python Experiment.py --dataset rt --interaction NeuCF --rounds 5 --slice_epochs 20 --agg_epochs 10 --density 0.20 --slices 2 --part_type 3 --save_model 1 --processed 1"
   ]
  },
  {
   "cell_type": "code",
   "execution_count": null,
   "metadata": {},
   "outputs": [],
   "source": [
    "!python Experiment.py --dataset tp --interaction NeuCF --rounds 5 --slice_epochs 20 --agg_epochs 10 --density 0.20 --slices 2 --part_type 3 --save_model 1 --processed 1"
   ]
  },
  {
   "cell_type": "code",
   "execution_count": null,
   "metadata": {
    "collapsed": false
   },
   "outputs": [],
   "source": [
    "!python Experiment.py --dataset rt --interaction NeuCF --rounds 5 --slice_epochs 20 --agg_epochs 10 --density 0.25 --slices 2 --part_type 3 --save_model 1 --processed 1"
   ]
  },
  {
   "cell_type": "code",
   "execution_count": null,
   "metadata": {},
   "outputs": [],
   "source": [
    "!python Experiment.py --dataset tp --interaction NeuCF --rounds 5 --slice_epochs 20 --agg_epochs 10 --density 0.25 --slices 2 --part_type 3 --save_model 1 --processed 1"
   ]
  },
  {
   "cell_type": "code",
   "execution_count": null,
   "metadata": {
    "collapsed": false
   },
   "outputs": [],
   "source": [
    "!python Experiment.py --dataset rt --interaction NeuCF --rounds 5 --slice_epochs 20 --agg_epochs 10 --density 0.30 --slices 2 --part_type 3 --save_model 1 --processed 1"
   ]
  },
  {
   "cell_type": "code",
   "execution_count": null,
   "metadata": {},
   "outputs": [],
   "source": [
    "!python Experiment.py --dataset tp --interaction NeuCF --rounds 5 --slice_epochs 20 --agg_epochs 10 --density 0.30 --slices 2 --part_type 3 --save_model 1 --processed 1"
   ]
  },
  {
   "cell_type": "markdown",
   "metadata": {},
   "source": [
    "# slices 5"
   ]
  },
  {
   "cell_type": "code",
   "execution_count": null,
   "metadata": {
    "collapsed": false
   },
   "outputs": [],
   "source": [
    "!python Experiment.py --dataset rt --interaction NeuCF --rounds 5 --slice_epochs 20 --agg_epochs 10 --density 0.10 --slices 5 --part_type 3 --save_model 1 --processed 1"
   ]
  },
  {
   "cell_type": "code",
   "execution_count": null,
   "metadata": {},
   "outputs": [],
   "source": [
    "!python Experiment.py --dataset tp --interaction NeuCF --rounds 5 --slice_epochs 20 --agg_epochs 10 --density 0.10 --slices 5 --part_type 3 --save_model 1 --processed 1"
   ]
  },
  {
   "cell_type": "code",
   "execution_count": null,
   "metadata": {
    "collapsed": false
   },
   "outputs": [],
   "source": [
    "!python Experiment.py --dataset rt --interaction NeuCF --rounds 5 --slice_epochs 20 --agg_epochs 10 --density 0.15 --slices 5 --part_type 3 --save_model 1 --processed 1"
   ]
  },
  {
   "cell_type": "code",
   "execution_count": null,
   "metadata": {},
   "outputs": [],
   "source": [
    "!python Experiment.py --dataset tp --interaction NeuCF --rounds 5 --slice_epochs 20 --agg_epochs 10 --density 0.15 --slices 5 --part_type 3 --save_model 1 --processed 1"
   ]
  },
  {
   "cell_type": "code",
   "execution_count": null,
   "metadata": {
    "collapsed": false
   },
   "outputs": [],
   "source": [
    "!python Experiment.py --dataset rt --interaction NeuCF --rounds 5 --slice_epochs 20 --agg_epochs 10 --density 0.20 --slices 5 --part_type 3 --save_model 1 --processed 1"
   ]
  },
  {
   "cell_type": "code",
   "execution_count": null,
   "metadata": {},
   "outputs": [],
   "source": [
    "!python Experiment.py --dataset tp --interaction NeuCF --rounds 5 --slice_epochs 20 --agg_epochs 10 --density 0.20 --slices 5 --part_type 3 --save_model 1 --processed 1"
   ]
  },
  {
   "cell_type": "code",
   "execution_count": null,
   "metadata": {
    "collapsed": false
   },
   "outputs": [],
   "source": [
    "!python Experiment.py --dataset rt --interaction NeuCF --rounds 5 --slice_epochs 20 --agg_epochs 10 --density 0.25 --slices 5 --part_type 3 --save_model 1 --processed 1"
   ]
  },
  {
   "cell_type": "code",
   "execution_count": null,
   "metadata": {},
   "outputs": [],
   "source": [
    "!python Experiment.py --dataset tp --interaction NeuCF --rounds 5 --slice_epochs 20 --agg_epochs 10 --density 0.25 --slices 5 --part_type 3 --save_model 1 --processed 1"
   ]
  },
  {
   "cell_type": "code",
   "execution_count": null,
   "metadata": {
    "collapsed": false
   },
   "outputs": [],
   "source": [
    "!python Experiment.py --dataset rt --interaction NeuCF --rounds 5 --slice_epochs 20 --agg_epochs 10 --density 0.30 --slices 5 --part_type 3 --save_model 1 --processed 1"
   ]
  },
  {
   "cell_type": "code",
   "execution_count": null,
   "metadata": {},
   "outputs": [],
   "source": [
    "!python Experiment.py --dataset tp --interaction NeuCF --rounds 5 --slice_epochs 20 --agg_epochs 10 --density 0.30 --slices 5 --part_type 3 --save_model 1 --processed 1"
   ]
  },
  {
   "cell_type": "markdown",
   "metadata": {},
   "source": [
    "# slices 15"
   ]
  },
  {
   "cell_type": "code",
   "execution_count": null,
   "metadata": {
    "collapsed": false
   },
   "outputs": [],
   "source": [
    "!python Experiment.py --dataset rt --interaction NeuCF --rounds 5 --slice_epochs 20 --agg_epochs 10 --density 0.10 --slices 15 --part_type 3 --save_model 1 --processed 1"
   ]
  },
  {
   "cell_type": "code",
   "execution_count": null,
   "metadata": {},
   "outputs": [],
   "source": [
    "!python Experiment.py --dataset tp --interaction NeuCF --rounds 5 --slice_epochs 20 --agg_epochs 10 --density 0.10 --slices 15 --part_type 3 --save_model 1 --processed 1"
   ]
  },
  {
   "cell_type": "code",
   "execution_count": null,
   "metadata": {
    "collapsed": false
   },
   "outputs": [],
   "source": [
    "!python Experiment.py --dataset rt --interaction NeuCF --rounds 5 --slice_epochs 20 --agg_epochs 10 --density 0.15 --slices 15 --part_type 3 --save_model 1 --processed 1"
   ]
  },
  {
   "cell_type": "code",
   "execution_count": null,
   "metadata": {},
   "outputs": [],
   "source": [
    "!python Experiment.py --dataset tp --interaction NeuCF --rounds 5 --slice_epochs 20 --agg_epochs 10 --density 0.15 --slices 15 --part_type 3 --save_model 1 --processed 1"
   ]
  },
  {
   "cell_type": "code",
   "execution_count": null,
   "metadata": {
    "collapsed": false
   },
   "outputs": [],
   "source": [
    "!python Experiment.py --dataset rt --interaction NeuCF --rounds 5 --slice_epochs 20 --agg_epochs 10 --density 0.20 --slices 15 --part_type 3 --save_model 1 --processed 1"
   ]
  },
  {
   "cell_type": "code",
   "execution_count": null,
   "metadata": {},
   "outputs": [],
   "source": [
    "!python Experiment.py --dataset tp --interaction NeuCF --rounds 5 --slice_epochs 20 --agg_epochs 10 --density 0.20 --slices 15 --part_type 3 --save_model 1 --processed 1"
   ]
  },
  {
   "cell_type": "code",
   "execution_count": null,
   "metadata": {
    "collapsed": false
   },
   "outputs": [],
   "source": [
    "!python Experiment.py --dataset rt --interaction NeuCF --rounds 5 --slice_epochs 20 --agg_epochs 10 --density 0.25 --slices 15 --part_type 3 --save_model 1 --processed 1"
   ]
  },
  {
   "cell_type": "code",
   "execution_count": null,
   "metadata": {},
   "outputs": [],
   "source": [
    "!python Experiment.py --dataset tp --interaction NeuCF --rounds 5 --slice_epochs 20 --agg_epochs 10 --density 0.25 --slices 15 --part_type 3 --save_model 1 --processed 1"
   ]
  },
  {
   "cell_type": "code",
   "execution_count": null,
   "metadata": {
    "collapsed": false
   },
   "outputs": [],
   "source": [
    "!python Experiment.py --dataset rt --interaction NeuCF --rounds 5 --slice_epochs 20 --agg_epochs 10 --density 0.30 --slices 15 --part_type 3 --save_model 1 --processed 1"
   ]
  },
  {
   "cell_type": "code",
   "execution_count": null,
   "metadata": {},
   "outputs": [],
   "source": [
    "!python Experiment.py --dataset tp --interaction NeuCF --rounds 5 --slice_epochs 20 --agg_epochs 10 --density 0.30 --slices 15 --part_type 3 --save_model 1 --processed 1"
   ]
  },
  {
   "cell_type": "markdown",
   "metadata": {},
   "source": [
    "# CSMF"
   ]
  },
  {
   "cell_type": "markdown",
   "metadata": {},
   "source": [
    "# slices 2"
   ]
  },
  {
   "cell_type": "code",
   "execution_count": null,
   "metadata": {
    "collapsed": false
   },
   "outputs": [],
   "source": [
    "!python Experiment.py --dataset rt --interaction CSMF --rounds 5 --slice_epochs 20 --agg_epochs 10 --density 0.10 --slices 2 --part_type 3 --save_model 1 --processed 1"
   ]
  },
  {
   "cell_type": "code",
   "execution_count": null,
   "metadata": {},
   "outputs": [],
   "source": [
    "!python Experiment.py --dataset tp --interaction CSMF --rounds 5 --slice_epochs 20 --agg_epochs 10 --density 0.10 --slices 2 --part_type 3 --save_model 1 --processed 1"
   ]
  },
  {
   "cell_type": "code",
   "execution_count": null,
   "metadata": {
    "collapsed": false
   },
   "outputs": [],
   "source": [
    "!python Experiment.py --dataset rt --interaction CSMF --rounds 5 --slice_epochs 20 --agg_epochs 10 --density 0.15 --slices 2 --part_type 3 --save_model 1 --processed 1"
   ]
  },
  {
   "cell_type": "code",
   "execution_count": null,
   "metadata": {},
   "outputs": [],
   "source": [
    "!python Experiment.py --dataset tp --interaction CSMF --rounds 5 --slice_epochs 20 --agg_epochs 10 --density 0.15 --slices 2 --part_type 3 --save_model 1 --processed 1"
   ]
  },
  {
   "cell_type": "code",
   "execution_count": null,
   "metadata": {
    "collapsed": false
   },
   "outputs": [],
   "source": [
    "!python Experiment.py --dataset rt --interaction CSMF --rounds 5 --slice_epochs 20 --agg_epochs 10 --density 0.20 --slices 2 --part_type 3 --save_model 1 --processed 1"
   ]
  },
  {
   "cell_type": "code",
   "execution_count": null,
   "metadata": {},
   "outputs": [],
   "source": [
    "!python Experiment.py --dataset tp --interaction CSMF --rounds 5 --slice_epochs 20 --agg_epochs 10 --density 0.20 --slices 2 --part_type 3 --save_model 1 --processed 1"
   ]
  },
  {
   "cell_type": "code",
   "execution_count": null,
   "metadata": {
    "collapsed": false
   },
   "outputs": [],
   "source": [
    "!python Experiment.py --dataset rt --interaction CSMF --rounds 5 --slice_epochs 20 --agg_epochs 10 --density 0.25 --slices 2 --part_type 3 --save_model 1 --processed 1"
   ]
  },
  {
   "cell_type": "code",
   "execution_count": null,
   "metadata": {},
   "outputs": [],
   "source": [
    "!python Experiment.py --dataset tp --interaction CSMF --rounds 5 --slice_epochs 20 --agg_epochs 10 --density 0.25 --slices 2 --part_type 3 --save_model 1 --processed 1"
   ]
  },
  {
   "cell_type": "code",
   "execution_count": null,
   "metadata": {
    "collapsed": false
   },
   "outputs": [],
   "source": [
    "!python Experiment.py --dataset rt --interaction CSMF --rounds 5 --slice_epochs 20 --agg_epochs 10 --density 0.30 --slices 2 --part_type 3 --save_model 1 --processed 1"
   ]
  },
  {
   "cell_type": "code",
   "execution_count": null,
   "metadata": {},
   "outputs": [],
   "source": [
    "!python Experiment.py --dataset tp --interaction CSMF --rounds 5 --slice_epochs 20 --agg_epochs 10 --density 0.30 --slices 2 --part_type 3 --save_model 1 --processed 1"
   ]
  },
  {
   "cell_type": "markdown",
   "metadata": {},
   "source": [
    "# slices 5"
   ]
  },
  {
   "cell_type": "code",
   "execution_count": null,
   "metadata": {
    "collapsed": false
   },
   "outputs": [],
   "source": [
    "!python Experiment.py --dataset rt --interaction CSMF --rounds 5 --slice_epochs 20 --agg_epochs 10 --density 0.10 --slices 5 --part_type 3 --save_model 1 --processed 1"
   ]
  },
  {
   "cell_type": "code",
   "execution_count": null,
   "metadata": {},
   "outputs": [],
   "source": [
    "!python Experiment.py --dataset tp --interaction CSMF --rounds 5 --slice_epochs 20 --agg_epochs 10 --density 0.10 --slices 5 --part_type 3 --save_model 1 --processed 1"
   ]
  },
  {
   "cell_type": "code",
   "execution_count": null,
   "metadata": {
    "collapsed": false
   },
   "outputs": [],
   "source": [
    "!python Experiment.py --dataset rt --interaction CSMF --rounds 5 --slice_epochs 20 --agg_epochs 10 --density 0.15 --slices 5 --part_type 3 --save_model 1 --processed 1"
   ]
  },
  {
   "cell_type": "code",
   "execution_count": null,
   "metadata": {},
   "outputs": [],
   "source": [
    "!python Experiment.py --dataset tp --interaction CSMF --rounds 5 --slice_epochs 20 --agg_epochs 10 --density 0.15 --slices 5 --part_type 3 --save_model 1 --processed 1"
   ]
  },
  {
   "cell_type": "code",
   "execution_count": null,
   "metadata": {
    "collapsed": false
   },
   "outputs": [],
   "source": [
    "!python Experiment.py --dataset rt --interaction CSMF --rounds 5 --slice_epochs 20 --agg_epochs 10 --density 0.20 --slices 5 --part_type 3 --save_model 1 --processed 1"
   ]
  },
  {
   "cell_type": "code",
   "execution_count": null,
   "metadata": {},
   "outputs": [],
   "source": [
    "!python Experiment.py --dataset tp --interaction CSMF --rounds 5 --slice_epochs 20 --agg_epochs 10 --density 0.20 --slices 5 --part_type 3 --save_model 1 --processed 1"
   ]
  },
  {
   "cell_type": "code",
   "execution_count": null,
   "metadata": {
    "collapsed": false
   },
   "outputs": [],
   "source": [
    "!python Experiment.py --dataset rt --interaction CSMF --rounds 5 --slice_epochs 20 --agg_epochs 10 --density 0.25 --slices 5 --part_type 3 --save_model 1 --processed 1"
   ]
  },
  {
   "cell_type": "code",
   "execution_count": null,
   "metadata": {},
   "outputs": [],
   "source": [
    "!python Experiment.py --dataset tp --interaction CSMF --rounds 5 --slice_epochs 20 --agg_epochs 10 --density 0.25 --slices 5 --part_type 3 --save_model 1 --processed 1"
   ]
  },
  {
   "cell_type": "code",
   "execution_count": null,
   "metadata": {
    "collapsed": false
   },
   "outputs": [],
   "source": [
    "!python Experiment.py --dataset rt --interaction CSMF --rounds 5 --slice_epochs 20 --agg_epochs 10 --density 0.30 --slices 5 --part_type 3 --save_model 1 --processed 1"
   ]
  },
  {
   "cell_type": "code",
   "execution_count": null,
   "metadata": {},
   "outputs": [],
   "source": [
    "!python Experiment.py --dataset tp --interaction CSMF --rounds 5 --slice_epochs 20 --agg_epochs 10 --density 0.30 --slices 5 --part_type 3 --save_model 1 --processed 1"
   ]
  },
  {
   "cell_type": "markdown",
   "metadata": {},
   "source": [
    "# slices 6"
   ]
  },
  {
   "cell_type": "code",
   "execution_count": null,
   "metadata": {
    "collapsed": false
   },
   "outputs": [],
   "source": [
    "!python Experiment.py --dataset rt --interaction CSMF --rounds 5 --slice_epochs 20 --agg_epochs 10 --density 0.10 --slices 6 --part_type 3 --save_model 1 --processed 1"
   ]
  },
  {
   "cell_type": "code",
   "execution_count": null,
   "metadata": {},
   "outputs": [],
   "source": [
    "!python Experiment.py --dataset tp --interaction CSMF --rounds 5 --slice_epochs 20 --agg_epochs 10 --density 0.10 --slices 6 --part_type 3 --save_model 1 --processed 1"
   ]
  },
  {
   "cell_type": "code",
   "execution_count": null,
   "metadata": {
    "collapsed": false
   },
   "outputs": [],
   "source": [
    "!python Experiment.py --dataset rt --interaction CSMF --rounds 5 --slice_epochs 20 --agg_epochs 10 --density 0.15 --slices 6 --part_type 3 --save_model 1 --processed 1"
   ]
  },
  {
   "cell_type": "code",
   "execution_count": null,
   "metadata": {},
   "outputs": [],
   "source": [
    "!python Experiment.py --dataset tp --interaction CSMF --rounds 5 --slice_epochs 20 --agg_epochs 10 --density 0.15 --slices 6 --part_type 3 --save_model 1 --processed 1"
   ]
  },
  {
   "cell_type": "code",
   "execution_count": null,
   "metadata": {
    "collapsed": false
   },
   "outputs": [],
   "source": [
    "!python Experiment.py --dataset rt --interaction CSMF --rounds 5 --slice_epochs 20 --agg_epochs 10 --density 0.20 --slices 6 --part_type 3 --save_model 1 --processed 1"
   ]
  },
  {
   "cell_type": "code",
   "execution_count": null,
   "metadata": {},
   "outputs": [],
   "source": [
    "!python Experiment.py --dataset tp --interaction CSMF --rounds 5 --slice_epochs 20 --agg_epochs 10 --density 0.20 --slices 6 --part_type 3 --save_model 1 --processed 1"
   ]
  },
  {
   "cell_type": "code",
   "execution_count": null,
   "metadata": {
    "collapsed": false
   },
   "outputs": [],
   "source": [
    "!python Experiment.py --dataset rt --interaction CSMF --rounds 5 --slice_epochs 20 --agg_epochs 10 --density 0.25 --slices 6 --part_type 3 --save_model 1 --processed 1"
   ]
  },
  {
   "cell_type": "code",
   "execution_count": null,
   "metadata": {},
   "outputs": [],
   "source": [
    "!python Experiment.py --dataset tp --interaction CSMF --rounds 5 --slice_epochs 20 --agg_epochs 10 --density 0.25 --slices 6 --part_type 3 --save_model 1 --processed 1"
   ]
  },
  {
   "cell_type": "code",
   "execution_count": null,
   "metadata": {
    "collapsed": false
   },
   "outputs": [],
   "source": [
    "!python Experiment.py --dataset rt --interaction CSMF --rounds 5 --slice_epochs 20 --agg_epochs 10 --density 0.30 --slices 6 --part_type 3 --save_model 1 --processed 1"
   ]
  },
  {
   "cell_type": "code",
   "execution_count": null,
   "metadata": {},
   "outputs": [],
   "source": [
    "!python Experiment.py --dataset tp --interaction CSMF --rounds 5 --slice_epochs 20 --agg_epochs 10 --density 0.30 --slices 6 --part_type 3 --save_model 1 --processed 1"
   ]
  },
  {
   "cell_type": "markdown",
   "metadata": {},
   "source": [
    "# slices 8"
   ]
  },
  {
   "cell_type": "code",
   "execution_count": null,
   "metadata": {
    "collapsed": false
   },
   "outputs": [],
   "source": [
    "!python Experiment.py --dataset rt --interaction CSMF --rounds 5 --slice_epochs 20 --agg_epochs 10 --density 0.10 --slices 8 --part_type 3 --save_model 1 --processed 1"
   ]
  },
  {
   "cell_type": "code",
   "execution_count": null,
   "metadata": {},
   "outputs": [],
   "source": [
    "!python Experiment.py --dataset tp --interaction CSMF --rounds 5 --slice_epochs 20 --agg_epochs 10 --density 0.10 --slices 8 --part_type 3 --save_model 1 --processed 1"
   ]
  },
  {
   "cell_type": "code",
   "execution_count": null,
   "metadata": {
    "collapsed": false
   },
   "outputs": [],
   "source": [
    "!python Experiment.py --dataset rt --interaction CSMF --rounds 5 --slice_epochs 20 --agg_epochs 10 --density 0.15 --slices 8 --part_type 3 --save_model 1 --processed 1"
   ]
  },
  {
   "cell_type": "code",
   "execution_count": null,
   "metadata": {},
   "outputs": [],
   "source": [
    "!python Experiment.py --dataset tp --interaction CSMF --rounds 5 --slice_epochs 20 --agg_epochs 10 --density 0.15 --slices 8 --part_type 3 --save_model 1 --processed 1"
   ]
  },
  {
   "cell_type": "code",
   "execution_count": null,
   "metadata": {
    "collapsed": false
   },
   "outputs": [],
   "source": [
    "!python Experiment.py --dataset rt --interaction CSMF --rounds 5 --slice_epochs 20 --agg_epochs 10 --density 0.20 --slices 8 --part_type 3 --save_model 1 --processed 1"
   ]
  },
  {
   "cell_type": "code",
   "execution_count": null,
   "metadata": {},
   "outputs": [],
   "source": [
    "!python Experiment.py --dataset tp --interaction CSMF --rounds 5 --slice_epochs 20 --agg_epochs 10 --density 0.20 --slices 8 --part_type 3 --save_model 1 --processed 1"
   ]
  },
  {
   "cell_type": "code",
   "execution_count": null,
   "metadata": {
    "collapsed": false
   },
   "outputs": [],
   "source": [
    "!python Experiment.py --dataset rt --interaction CSMF --rounds 5 --slice_epochs 20 --agg_epochs 10 --density 0.25 --slices 8 --part_type 3 --save_model 1 --processed 1"
   ]
  },
  {
   "cell_type": "code",
   "execution_count": null,
   "metadata": {},
   "outputs": [],
   "source": [
    "!python Experiment.py --dataset tp --interaction CSMF --rounds 5 --slice_epochs 20 --agg_epochs 10 --density 0.25 --slices 8 --part_type 3 --save_model 1 --processed 1"
   ]
  },
  {
   "cell_type": "code",
   "execution_count": null,
   "metadata": {
    "collapsed": false
   },
   "outputs": [],
   "source": [
    "!python Experiment.py --dataset rt --interaction CSMF --rounds 5 --slice_epochs 20 --agg_epochs 10 --density 0.30 --slices 8 --part_type 3 --save_model 1 --processed 1"
   ]
  },
  {
   "cell_type": "code",
   "execution_count": null,
   "metadata": {},
   "outputs": [],
   "source": [
    "!python Experiment.py --dataset tp --interaction CSMF --rounds 5 --slice_epochs 20 --agg_epochs 10 --density 0.30 --slices 8 --part_type 3 --save_model 1 --processed 1"
   ]
  },
  {
   "cell_type": "markdown",
   "metadata": {},
   "source": [
    "# slices 15"
   ]
  },
  {
   "cell_type": "code",
   "execution_count": null,
   "metadata": {
    "collapsed": false
   },
   "outputs": [],
   "source": [
    "!python Experiment.py --dataset rt --interaction CSMF --rounds 5 --slice_epochs 20 --agg_epochs 10 --density 0.10 --slices 15 --part_type 3 --save_model 1 --processed 1"
   ]
  },
  {
   "cell_type": "code",
   "execution_count": null,
   "metadata": {},
   "outputs": [],
   "source": [
    "!python Experiment.py --dataset tp --interaction CSMF --rounds 5 --slice_epochs 20 --agg_epochs 10 --density 0.10 --slices 15 --part_type 3 --save_model 1 --processed 1"
   ]
  },
  {
   "cell_type": "code",
   "execution_count": null,
   "metadata": {
    "collapsed": false
   },
   "outputs": [],
   "source": [
    "!python Experiment.py --dataset rt --interaction CSMF --rounds 5 --slice_epochs 20 --agg_epochs 10 --density 0.15 --slices 15 --part_type 3 --save_model 1 --processed 1"
   ]
  },
  {
   "cell_type": "code",
   "execution_count": null,
   "metadata": {},
   "outputs": [],
   "source": [
    "!python Experiment.py --dataset tp --interaction CSMF --rounds 5 --slice_epochs 20 --agg_epochs 10 --density 0.15 --slices 15 --part_type 3 --save_model 1 --processed 1"
   ]
  },
  {
   "cell_type": "code",
   "execution_count": null,
   "metadata": {
    "collapsed": false
   },
   "outputs": [],
   "source": [
    "!python Experiment.py --dataset rt --interaction CSMF --rounds 5 --slice_epochs 20 --agg_epochs 10 --density 0.20 --slices 15 --part_type 3 --save_model 1 --processed 1"
   ]
  },
  {
   "cell_type": "code",
   "execution_count": null,
   "metadata": {},
   "outputs": [],
   "source": [
    "!python Experiment.py --dataset tp --interaction CSMF --rounds 5 --slice_epochs 20 --agg_epochs 10 --density 0.20 --slices 15 --part_type 3 --save_model 1 --processed 1"
   ]
  },
  {
   "cell_type": "code",
   "execution_count": null,
   "metadata": {
    "collapsed": false
   },
   "outputs": [],
   "source": [
    "!python Experiment.py --dataset rt --interaction CSMF --rounds 5 --slice_epochs 20 --agg_epochs 10 --density 0.25 --slices 15 --part_type 3 --save_model 1 --processed 1"
   ]
  },
  {
   "cell_type": "code",
   "execution_count": null,
   "metadata": {},
   "outputs": [],
   "source": [
    "!python Experiment.py --dataset tp --interaction CSMF --rounds 5 --slice_epochs 20 --agg_epochs 10 --density 0.25 --slices 15 --part_type 3 --save_model 1 --processed 1"
   ]
  },
  {
   "cell_type": "code",
   "execution_count": null,
   "metadata": {
    "collapsed": false
   },
   "outputs": [],
   "source": [
    "!python Experiment.py --dataset rt --interaction CSMF --rounds 5 --slice_epochs 20 --agg_epochs 10 --density 0.30 --slices 15 --part_type 3 --save_model 1 --processed 1"
   ]
  },
  {
   "cell_type": "code",
   "execution_count": null,
   "metadata": {},
   "outputs": [],
   "source": [
    "!python Experiment.py --dataset tp --interaction CSMF --rounds 5 --slice_epochs 20 --agg_epochs 10 --density 0.30 --slices 15 --part_type 3 --save_model 1 --processed 1"
   ]
  },
  {
   "cell_type": "markdown",
   "metadata": {},
   "source": [
    "# GraphMF"
   ]
  },
  {
   "cell_type": "markdown",
   "metadata": {},
   "source": [
    "# slices 2"
   ]
  },
  {
   "cell_type": "code",
   "execution_count": null,
   "metadata": {
    "collapsed": false
   },
   "outputs": [],
   "source": [
    "!python Experiment.py --dataset rt --interaction NeuGraphMF --rounds 5 --slice_epochs 20 --agg_epochs 10 --density 0.10 --slices 2 --part_type 3 --save_model 1 --processed 1"
   ]
  },
  {
   "cell_type": "code",
   "execution_count": null,
   "metadata": {},
   "outputs": [],
   "source": [
    "!python Experiment.py --dataset tp --interaction NeuGraphMF --rounds 5 --slice_epochs 20 --agg_epochs 10 --density 0.10 --slices 2 --part_type 3 --save_model 1 --processed 1"
   ]
  },
  {
   "cell_type": "code",
   "execution_count": null,
   "metadata": {
    "collapsed": false
   },
   "outputs": [],
   "source": [
    "!python Experiment.py --dataset rt --interaction NeuGraphMF --rounds 5 --slice_epochs 20 --agg_epochs 10 --density 0.15 --slices 2 --part_type 3 --save_model 1 --processed 1"
   ]
  },
  {
   "cell_type": "code",
   "execution_count": null,
   "metadata": {},
   "outputs": [],
   "source": [
    "!python Experiment.py --dataset tp --interaction NeuGraphMF --rounds 5 --slice_epochs 20 --agg_epochs 10 --density 0.15 --slices 2 --part_type 3 --save_model 1 --processed 1"
   ]
  },
  {
   "cell_type": "code",
   "execution_count": null,
   "metadata": {
    "collapsed": false
   },
   "outputs": [],
   "source": [
    "!python Experiment.py --dataset rt --interaction NeuGraphMF --rounds 5 --slice_epochs 20 --agg_epochs 10 --density 0.20 --slices 2 --part_type 3 --save_model 1 --processed 1"
   ]
  },
  {
   "cell_type": "code",
   "execution_count": null,
   "metadata": {},
   "outputs": [],
   "source": [
    "!python Experiment.py --dataset tp --interaction NeuGraphMF --rounds 5 --slice_epochs 20 --agg_epochs 10 --density 0.20 --slices 2 --part_type 3 --save_model 1 --processed 1"
   ]
  },
  {
   "cell_type": "code",
   "execution_count": null,
   "metadata": {
    "collapsed": false
   },
   "outputs": [],
   "source": [
    "!python Experiment.py --dataset rt --interaction NeuGraphMF --rounds 5 --slice_epochs 20 --agg_epochs 10 --density 0.25 --slices 2 --part_type 3 --save_model 1 --processed 1"
   ]
  },
  {
   "cell_type": "code",
   "execution_count": null,
   "metadata": {},
   "outputs": [],
   "source": [
    "!python Experiment.py --dataset tp --interaction NeuGraphMF --rounds 5 --slice_epochs 20 --agg_epochs 10 --density 0.25 --slices 2 --part_type 3 --save_model 1 --processed 1"
   ]
  },
  {
   "cell_type": "code",
   "execution_count": null,
   "metadata": {
    "collapsed": false
   },
   "outputs": [],
   "source": [
    "!python Experiment.py --dataset rt --interaction NeuGraphMF --rounds 5 --slice_epochs 20 --agg_epochs 10 --density 0.30 --slices 2 --part_type 3 --save_model 1 --processed 1"
   ]
  },
  {
   "cell_type": "code",
   "execution_count": null,
   "metadata": {},
   "outputs": [],
   "source": [
    "!python Experiment.py --dataset tp --interaction NeuGraphMF --rounds 5 --slice_epochs 20 --agg_epochs 10 --density 0.30 --slices 2 --part_type 3 --save_model 1 --processed 1"
   ]
  },
  {
   "cell_type": "markdown",
   "metadata": {},
   "source": [
    "# slices 5"
   ]
  },
  {
   "cell_type": "code",
   "execution_count": null,
   "metadata": {
    "collapsed": false
   },
   "outputs": [],
   "source": [
    "!python Experiment.py --dataset rt --interaction NeuGraphMF --rounds 5 --slice_epochs 20 --agg_epochs 10 --density 0.10 --slices 5 --part_type 3 --save_model 1 --processed 1"
   ]
  },
  {
   "cell_type": "code",
   "execution_count": null,
   "metadata": {},
   "outputs": [],
   "source": [
    "!python Experiment.py --dataset tp --interaction NeuGraphMF --rounds 5 --slice_epochs 20 --agg_epochs 10 --density 0.10 --slices 5 --part_type 3 --save_model 1 --processed 1"
   ]
  },
  {
   "cell_type": "code",
   "execution_count": null,
   "metadata": {
    "collapsed": false
   },
   "outputs": [],
   "source": [
    "!python Experiment.py --dataset rt --interaction NeuGraphMF --rounds 5 --slice_epochs 20 --agg_epochs 10 --density 0.15 --slices 5 --part_type 3 --save_model 1 --processed 1"
   ]
  },
  {
   "cell_type": "code",
   "execution_count": null,
   "metadata": {},
   "outputs": [],
   "source": [
    "!python Experiment.py --dataset tp --interaction NeuGraphMF --rounds 5 --slice_epochs 20 --agg_epochs 10 --density 0.15 --slices 5 --part_type 3 --save_model 1 --processed 1"
   ]
  },
  {
   "cell_type": "code",
   "execution_count": null,
   "metadata": {
    "collapsed": false
   },
   "outputs": [],
   "source": [
    "!python Experiment.py --dataset rt --interaction NeuGraphMF --rounds 5 --slice_epochs 20 --agg_epochs 10 --density 0.20 --slices 5 --part_type 3 --save_model 1 --processed 1"
   ]
  },
  {
   "cell_type": "code",
   "execution_count": null,
   "metadata": {},
   "outputs": [],
   "source": [
    "!python Experiment.py --dataset tp --interaction NeuGraphMF --rounds 5 --slice_epochs 20 --agg_epochs 10 --density 0.20 --slices 5 --part_type 3 --save_model 1 --processed 1"
   ]
  },
  {
   "cell_type": "code",
   "execution_count": null,
   "metadata": {
    "collapsed": false
   },
   "outputs": [],
   "source": [
    "!python Experiment.py --dataset rt --interaction NeuGraphMF --rounds 5 --slice_epochs 20 --agg_epochs 10 --density 0.25 --slices 5 --part_type 3 --save_model 1 --processed 1"
   ]
  },
  {
   "cell_type": "code",
   "execution_count": null,
   "metadata": {},
   "outputs": [],
   "source": [
    "!python Experiment.py --dataset tp --interaction NeuGraphMF --rounds 5 --slice_epochs 20 --agg_epochs 10 --density 0.25 --slices 5 --part_type 3 --save_model 1 --processed 1"
   ]
  },
  {
   "cell_type": "code",
   "execution_count": null,
   "metadata": {
    "collapsed": false
   },
   "outputs": [],
   "source": [
    "!python Experiment.py --dataset rt --interaction NeuGraphMF --rounds 5 --slice_epochs 20 --agg_epochs 10 --density 0.30 --slices 5 --part_type 3 --save_model 1 --processed 1"
   ]
  },
  {
   "cell_type": "code",
   "execution_count": null,
   "metadata": {},
   "outputs": [],
   "source": [
    "!python Experiment.py --dataset tp --interaction NeuGraphMF --rounds 5 --slice_epochs 20 --agg_epochs 10 --density 0.30 --slices 5 --part_type 3 --save_model 1 --processed 1"
   ]
  }
 ],
 "metadata": {
  "kernelspec": {
   "display_name": "Python 3.8.5 ('base')",
   "language": "python",
   "name": "python3"
  },
  "language_info": {
   "codemirror_mode": {
    "name": "ipython",
    "version": 3
   },
   "file_extension": ".py",
   "mimetype": "text/x-python",
   "name": "python",
   "nbconvert_exporter": "python",
   "pygments_lexer": "ipython3",
   "version": "3.8.5"
  },
  "vscode": {
   "interpreter": {
    "hash": "eb7c85c17b1976aa789c9d87b9763b6f005911cd226333300bbe1880120eaefe"
   }
  }
 },
 "nbformat": 4,
 "nbformat_minor": 0
}
