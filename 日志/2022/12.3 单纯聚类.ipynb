{
 "cells": [
  {
   "cell_type": "code",
   "execution_count": 40,
   "metadata": {
    "collapsed": true
   },
   "outputs": [],
   "source": [
    "import pandas as pd\n",
    "import numpy as np"
   ]
  },
  {
   "cell_type": "code",
   "execution_count": 41,
   "outputs": [
    {
     "data": {
      "text/plain": "     Unnamed: 0  [User ID]  [IP Address]  [Country]  [IP No.]  [AS]  \\\n0             0          0           278          1         0   135   \n1             1          1           106          1         0   135   \n2             2          2           292         17         0    13   \n3             3          3            22          1         1    61   \n4             4          4            78          1         1    61   \n..          ...        ...           ...        ...       ...   ...   \n334         334        334           201          1         0    85   \n335         335        335           121          1         0    85   \n336         336        336           161          1         0    18   \n337         337        337           316          1         0    18   \n338         338        338           122          1         0    30   \n\n     [Latitude]  [Longitude]  \n0       38.0000     -97.0000  \n1       38.0464    -122.2300  \n2       35.6850     139.7514  \n3       40.4249     -86.9162  \n4       40.4249     -86.9162  \n..          ...          ...  \n334     42.7283     -84.4882  \n335     42.7283     -84.4882  \n336     32.9722     -96.7376  \n337     32.9722     -96.7376  \n338     40.1095     -88.2123  \n\n[339 rows x 8 columns]",
      "text/html": "<div>\n<style scoped>\n    .dataframe tbody tr th:only-of-type {\n        vertical-align: middle;\n    }\n\n    .dataframe tbody tr th {\n        vertical-align: top;\n    }\n\n    .dataframe thead th {\n        text-align: right;\n    }\n</style>\n<table border=\"1\" class=\"dataframe\">\n  <thead>\n    <tr style=\"text-align: right;\">\n      <th></th>\n      <th>Unnamed: 0</th>\n      <th>[User ID]</th>\n      <th>[IP Address]</th>\n      <th>[Country]</th>\n      <th>[IP No.]</th>\n      <th>[AS]</th>\n      <th>[Latitude]</th>\n      <th>[Longitude]</th>\n    </tr>\n  </thead>\n  <tbody>\n    <tr>\n      <th>0</th>\n      <td>0</td>\n      <td>0</td>\n      <td>278</td>\n      <td>1</td>\n      <td>0</td>\n      <td>135</td>\n      <td>38.0000</td>\n      <td>-97.0000</td>\n    </tr>\n    <tr>\n      <th>1</th>\n      <td>1</td>\n      <td>1</td>\n      <td>106</td>\n      <td>1</td>\n      <td>0</td>\n      <td>135</td>\n      <td>38.0464</td>\n      <td>-122.2300</td>\n    </tr>\n    <tr>\n      <th>2</th>\n      <td>2</td>\n      <td>2</td>\n      <td>292</td>\n      <td>17</td>\n      <td>0</td>\n      <td>13</td>\n      <td>35.6850</td>\n      <td>139.7514</td>\n    </tr>\n    <tr>\n      <th>3</th>\n      <td>3</td>\n      <td>3</td>\n      <td>22</td>\n      <td>1</td>\n      <td>1</td>\n      <td>61</td>\n      <td>40.4249</td>\n      <td>-86.9162</td>\n    </tr>\n    <tr>\n      <th>4</th>\n      <td>4</td>\n      <td>4</td>\n      <td>78</td>\n      <td>1</td>\n      <td>1</td>\n      <td>61</td>\n      <td>40.4249</td>\n      <td>-86.9162</td>\n    </tr>\n    <tr>\n      <th>...</th>\n      <td>...</td>\n      <td>...</td>\n      <td>...</td>\n      <td>...</td>\n      <td>...</td>\n      <td>...</td>\n      <td>...</td>\n      <td>...</td>\n    </tr>\n    <tr>\n      <th>334</th>\n      <td>334</td>\n      <td>334</td>\n      <td>201</td>\n      <td>1</td>\n      <td>0</td>\n      <td>85</td>\n      <td>42.7283</td>\n      <td>-84.4882</td>\n    </tr>\n    <tr>\n      <th>335</th>\n      <td>335</td>\n      <td>335</td>\n      <td>121</td>\n      <td>1</td>\n      <td>0</td>\n      <td>85</td>\n      <td>42.7283</td>\n      <td>-84.4882</td>\n    </tr>\n    <tr>\n      <th>336</th>\n      <td>336</td>\n      <td>336</td>\n      <td>161</td>\n      <td>1</td>\n      <td>0</td>\n      <td>18</td>\n      <td>32.9722</td>\n      <td>-96.7376</td>\n    </tr>\n    <tr>\n      <th>337</th>\n      <td>337</td>\n      <td>337</td>\n      <td>316</td>\n      <td>1</td>\n      <td>0</td>\n      <td>18</td>\n      <td>32.9722</td>\n      <td>-96.7376</td>\n    </tr>\n    <tr>\n      <th>338</th>\n      <td>338</td>\n      <td>338</td>\n      <td>122</td>\n      <td>1</td>\n      <td>0</td>\n      <td>30</td>\n      <td>40.1095</td>\n      <td>-88.2123</td>\n    </tr>\n  </tbody>\n</table>\n<p>339 rows × 8 columns</p>\n</div>"
     },
     "execution_count": 41,
     "metadata": {},
     "output_type": "execute_result"
    }
   ],
   "source": [
    "df = pd.read_csv('./datasets/data/WSDREAM/原始数据/userlist_idx.csv')\n",
    "df"
   ],
   "metadata": {
    "collapsed": false
   }
  },
  {
   "cell_type": "code",
   "execution_count": 42,
   "outputs": [
    {
     "data": {
      "text/plain": "array([[  1., 135.],\n       [  1., 135.],\n       [ 17.,  13.],\n       [  1.,  61.],\n       [  1.,  61.],\n       [  1., 115.],\n       [  1., 115.],\n       [  1., 115.],\n       [  1.,   2.],\n       [  1.,   2.],\n       [  1.,  53.],\n       [  1.,  53.],\n       [  1.,  53.],\n       [  1.,  87.],\n       [  1.,  87.],\n       [  1.,  12.],\n       [  1.,  12.],\n       [  1., 100.],\n       [  1., 100.],\n       [  1.,  58.],\n       [  1., 128.],\n       [  1., 134.],\n       [  1., 134.],\n       [  1., 134.],\n       [  1., 134.],\n       [  1.,  26.],\n       [  1.,  26.],\n       [  1.,  41.],\n       [  1.,  41.],\n       [ 30.,  15.],\n       [ 11., 106.],\n       [ 11., 106.],\n       [  1.,   9.],\n       [  1.,  60.],\n       [  1.,  60.],\n       [  1.,  60.],\n       [  1.,  71.],\n       [  1.,  10.],\n       [  1.,  10.],\n       [  1.,  94.],\n       [  1.,  94.],\n       [  1.,  94.],\n       [  1.,  59.],\n       [  1.,  88.],\n       [  1.,  88.],\n       [  1., 119.],\n       [  1., 119.],\n       [  1., 119.],\n       [  1., 119.],\n       [  1., 108.],\n       [  1., 108.],\n       [  1., 108.],\n       [  1., 132.],\n       [  1., 132.],\n       [  1.,  89.],\n       [  1.,  20.],\n       [  1.,  47.],\n       [  1.,  96.],\n       [  1.,  96.],\n       [  1.,  17.],\n       [  1.,  35.],\n       [  1.,  76.],\n       [  1.,  76.],\n       [  1., 117.],\n       [  1., 117.],\n       [  1.,  68.],\n       [ 28.,  24.],\n       [ 28.,  24.],\n       [  1.,  74.],\n       [ 18.,  81.],\n       [ 18.,  81.],\n       [  1., 103.],\n       [  1., 103.],\n       [  1., 124.],\n       [  1., 124.],\n       [ 11.,   5.],\n       [ 11.,   5.],\n       [ 14., 123.],\n       [ 18.,  95.],\n       [ 18.,  95.],\n       [ 14., 123.],\n       [ 15.,  22.],\n       [ 29.,   3.],\n       [ 18.,  95.],\n       [ 18.,  38.],\n       [ 18.,  38.],\n       [ 18.,  38.],\n       [  5.,  73.],\n       [  5.,  73.],\n       [ 23.,  45.],\n       [ 23.,  45.],\n       [ 14., 123.],\n       [ 14., 123.],\n       [  1.,  78.],\n       [  1.,  78.],\n       [  1.,  92.],\n       [  1.,  92.],\n       [ 18.,  95.],\n       [ 18.,  95.],\n       [ 18.,  95.],\n       [  1.,  75.],\n       [  1.,  75.],\n       [  1.,  75.],\n       [  1.,  75.],\n       [ 27.,  52.],\n       [ 27.,  52.],\n       [  1.,  23.],\n       [  1.,  23.],\n       [  1.,  55.],\n       [  1.,  55.],\n       [ 12.,  83.],\n       [ 12.,  83.],\n       [ 17.,  42.],\n       [ 17.,  29.],\n       [ 30.,  15.],\n       [ 30.,  15.],\n       [ 18.,  81.],\n       [ 18.,  81.],\n       [ 18.,  95.],\n       [ 18.,  95.],\n       [ 25.,  33.],\n       [ 25.,  33.],\n       [  7.,  63.],\n       [  7.,  63.],\n       [  7.,  63.],\n       [  1.,  69.],\n       [  1.,  69.],\n       [  1.,  69.],\n       [  1.,  69.],\n       [  0.,  43.],\n       [  0.,  43.],\n       [  0.,  43.],\n       [ 18.,  95.],\n       [ 18.,  95.],\n       [  1., 107.],\n       [ 15.,  22.],\n       [  1.,  37.],\n       [  1.,  37.],\n       [ 23., 102.],\n       [ 23., 102.],\n       [  1.,  34.],\n       [  1.,  34.],\n       [ 18., 125.],\n       [ 18., 125.],\n       [ 30.,  15.],\n       [ 30.,  15.],\n       [ 27., 129.],\n       [ 27., 129.],\n       [ 18.,  95.],\n       [ 18.,  95.],\n       [ 18.,  95.],\n       [ 18.,  95.],\n       [ 18.,  95.],\n       [ 18.,  95.],\n       [  3.,  64.],\n       [  3.,  64.],\n       [ 24.,  39.],\n       [ 24.,  39.],\n       [ 24.,  39.],\n       [ 24., 109.],\n       [ 24., 104.],\n       [ 24., 104.],\n       [  1., 111.],\n       [  1.,  28.],\n       [  1.,  28.],\n       [  1., 110.],\n       [  1., 110.],\n       [ 18.,  95.],\n       [ 18.,  95.],\n       [  1., 130.],\n       [  1., 130.],\n       [  1., 130.],\n       [  1.,  85.],\n       [  1.,  85.],\n       [ 18.,  95.],\n       [ 18.,  95.],\n       [ 18.,  95.],\n       [ 18.,  95.],\n       [ 11.,  11.],\n       [ 11., 131.],\n       [ 11., 131.],\n       [ 11., 131.],\n       [ 23.,  46.],\n       [ 23.,  46.],\n       [ 16.,  84.],\n       [  1., 112.],\n       [  3., 133.],\n       [  3., 133.],\n       [  8., 118.],\n       [ 15.,  91.],\n       [ 15.,  91.],\n       [  1.,  32.],\n       [  3.,  44.],\n       [  3.,  44.],\n       [ 26.,  56.],\n       [ 26.,  56.],\n       [ 17.,  99.],\n       [ 17.,  99.],\n       [  1.,  67.],\n       [  1.,  67.],\n       [ 27.,  25.],\n       [ 27.,  25.],\n       [  1.,   4.],\n       [  1.,   4.],\n       [ 26.,  54.],\n       [ 26.,  54.],\n       [  1.,  50.],\n       [  1.,  50.],\n       [ 21.,   8.],\n       [  1.,   7.],\n       [  1.,  93.],\n       [ 15.,  22.],\n       [ 17.,  65.],\n       [ 17.,  65.],\n       [ 17.,  65.],\n       [ 17.,  65.],\n       [ 19.,  86.],\n       [ 19.,  86.],\n       [  1.,  59.],\n       [  1.,  59.],\n       [  1., 114.],\n       [  1., 114.],\n       [  1., 114.],\n       [  1., 114.],\n       [  1., 114.],\n       [  1., 114.],\n       [  1., 126.],\n       [  1.,  51.],\n       [  1.,  51.],\n       [  1.,  70.],\n       [  1.,  70.],\n       [  1.,  21.],\n       [  1.,  82.],\n       [  1.,  82.],\n       [ 11.,  79.],\n       [ 18.,  95.],\n       [ 18.,  95.],\n       [  5.,  73.],\n       [  5.,  73.],\n       [  5.,  73.],\n       [  5.,  73.],\n       [  5.,  73.],\n       [  5.,  73.],\n       [  5.,  73.],\n       [  1.,  72.],\n       [  1.,  72.],\n       [  1.,  15.],\n       [  1.,  49.],\n       [  1.,  49.],\n       [  1.,  49.],\n       [ 10., 101.],\n       [ 10., 101.],\n       [ 20., 127.],\n       [ 20., 127.],\n       [ 20., 127.],\n       [ 15.,  22.],\n       [ 28.,  24.],\n       [ 28.,  24.],\n       [ 13.,   1.],\n       [ 13.,   1.],\n       [ 13.,   1.],\n       [ 18.,  95.],\n       [ 18.,  95.],\n       [ 18.,  95.],\n       [ 18.,  81.],\n       [ 27.,  25.],\n       [ 27.,  25.],\n       [ 27.,  25.],\n       [ 21.,  80.],\n       [ 30.,  15.],\n       [ 26.,  62.],\n       [ 26.,  62.],\n       [ 30.,  15.],\n       [ 30.,  15.],\n       [  2.,  90.],\n       [  2.,  90.],\n       [  8., 118.],\n       [  8., 118.],\n       [ 26.,  31.],\n       [ 26.,  31.],\n       [ 26.,  31.],\n       [ 26.,  31.],\n       [ 26.,  31.],\n       [ 26.,  31.],\n       [ 18.,  95.],\n       [ 18.,  95.],\n       [  1.,  19.],\n       [  1.,  19.],\n       [  1.,  40.],\n       [  1.,  40.],\n       [  1.,  40.],\n       [ 11., 113.],\n       [ 11., 113.],\n       [  1.,   6.],\n       [  1.,   6.],\n       [  1., 136.],\n       [  6.,  36.],\n       [  6.,  27.],\n       [  6.,  36.],\n       [  6.,  36.],\n       [ 17., 105.],\n       [ 17., 105.],\n       [  4.,  97.],\n       [ 17.,  65.],\n       [ 17.,  65.],\n       [ 17.,  65.],\n       [ 17.,  65.],\n       [ 17.,  65.],\n       [  1.,   0.],\n       [  1.,   0.],\n       [  1.,   0.],\n       [  1.,  16.],\n       [  1.,  57.],\n       [  1.,  57.],\n       [  1.,  66.],\n       [  1.,  66.],\n       [ 11.,  98.],\n       [  1., 121.],\n       [  1., 121.],\n       [  1., 121.],\n       [  1., 121.],\n       [  1.,  14.],\n       [  1.,  14.],\n       [  1., 116.],\n       [  1., 116.],\n       [ 16., 122.],\n       [ 16., 122.],\n       [ 16., 122.],\n       [ 18.,  95.],\n       [ 18.,  95.],\n       [  9., 120.],\n       [ 22.,  77.],\n       [  1.,  48.],\n       [  1.,  48.],\n       [  1.,  85.],\n       [  1.,  85.],\n       [  1.,  18.],\n       [  1.,  18.],\n       [  1.,  30.]])"
     },
     "execution_count": 42,
     "metadata": {},
     "output_type": "execute_result"
    }
   ],
   "source": [
    "df = pd.read_csv('./datasets/data/WSDREAM/userlist_idx.csv').to_numpy()\n",
    "x = []\n",
    "for i in range(df.shape[0]):\n",
    "    x.append([df[i][3], df[i][5]])\n",
    "x = np.array(x)\n",
    "x"
   ],
   "metadata": {
    "collapsed": false
   }
  },
  {
   "cell_type": "code",
   "execution_count": 43,
   "outputs": [
    {
     "name": "stdout",
     "output_type": "stream",
     "text": [
      "{8: 33, 4: 33, 9: 31, 2: 39, 6: 31, 7: 26, 1: 23, 3: 47, 0: 57, 5: 19}\n"
     ]
    }
   ],
   "source": [
    "df = pd.read_csv('./datasets/data/WSDREAM/userlist_idx.csv').to_numpy()\n",
    "x = []\n",
    "for i in range(df.shape[0]):\n",
    "    x.append([df[i][3], df[i][5]])\n",
    "x = np.array(x)\n",
    "from sklearn.cluster import KMeans\n",
    "def k_means(inputs, k):\n",
    "    model = KMeans(n_clusters = k, random_state = 2022)\n",
    "    model.fit(inputs)\n",
    "    return model.labels_\n",
    "label = k_means(x, 10)\n",
    "# 检查每个类的个数\n",
    "dic = {}\n",
    "for i in label:\n",
    "    if i not in dic:\n",
    "        dic[i] = 1\n",
    "    else:\n",
    "        dic[i] = dic[i] + 1\n",
    "print(dic)"
   ],
   "metadata": {
    "collapsed": false
   }
  },
  {
   "cell_type": "code",
   "execution_count": 44,
   "outputs": [],
   "source": [
    "import pickle as pk\n",
    "with open('./datasets/data/WSDREAM/原始数据/userlist_table.csv', 'rb') as f:\n",
    "    df = pd.read_csv(f)\n",
    "\n",
    "C = [[] for _ in range(10)]\n",
    "for i in range(10):\n",
    "    for idx, typ in enumerate(label):\n",
    "        if label[idx] == i:\n",
    "            C[i].append([typ, df['[Country]'][idx], df['[AS]'][idx]])"
   ],
   "metadata": {
    "collapsed": false
   }
  },
  {
   "cell_type": "code",
   "execution_count": 45,
   "outputs": [
    {
     "data": {
      "text/plain": "array([['0', 'Germany',\n        'AS553 Landeshochschulnetz Baden-Wuerttemberg (BelWue)'],\n       ['0', 'Germany',\n        'AS553 Landeshochschulnetz Baden-Wuerttemberg (BelWue)'],\n       ['0', 'Germany', 'AS680 service G-WiN'],\n       ['0', 'Germany', 'AS680 service G-WiN'],\n       ['0', 'Germany', 'AS680 service G-WiN'],\n       ['0', 'Germany', 'AS680 service G-WiN'],\n       ['0', 'Germany', 'AS680 service G-WiN'],\n       ['0', 'Germany', 'AS680 service G-WiN'],\n       ['0', 'Israel', 'AS378 ILAN'],\n       ['0', 'Israel', 'AS378 ILAN'],\n       ['0', 'Germany',\n        'AS553 Landeshochschulnetz Baden-Wuerttemberg (BelWue)'],\n       ['0', 'Germany',\n        'AS553 Landeshochschulnetz Baden-Wuerttemberg (BelWue)'],\n       ['0', 'Germany', 'AS680 service G-WiN'],\n       ['0', 'Germany', 'AS680 service G-WiN'],\n       ['0', 'Germany', 'AS680 service G-WiN'],\n       ['0', 'Germany', 'AS680 service G-WiN'],\n       ['0', 'Austria', 'AS1110 University of Innsbruck'],\n       ['0', 'Austria', 'AS1110 University of Innsbruck'],\n       ['0', 'Germany', 'AS680 service G-WiN'],\n       ['0', 'Germany', 'AS680 service G-WiN'],\n       ['0', 'Germany', 'AS680 service G-WiN'],\n       ['0', 'Germany', 'AS680 service G-WiN'],\n       ['0', 'Germany', 'AS680 service G-WiN'],\n       ['0', 'Germany', 'AS680 service G-WiN'],\n       ['0', 'Taiwan', 'AS18047 National Tsing-Hua University'],\n       ['0', 'Taiwan',\n        'AS1659 Tiawan Academic Network (TANet) Information Center'],\n       ['0', 'Taiwan',\n        'AS1659 Tiawan Academic Network (TANet) Information Center'],\n       ['0', 'Germany', 'AS680 service G-WiN'],\n       ['0', 'Germany', 'AS680 service G-WiN'],\n       ['0', 'Germany', 'AS680 service G-WiN'],\n       ['0', 'Germany', 'AS680 service G-WiN'],\n       ['0', 'Germany', 'AS680 service G-WiN'],\n       ['0', 'Germany', 'AS680 service G-WiN'],\n       ['0', 'Korea, Republic of',\n        'AS1781 Korea Advanced Institute of Science and Technology'],\n       ['0', 'Spain',\n        'AS13041 CESCA - Anella Cientifica RREN Autonomous System'],\n       ['0', 'Spain',\n        'AS13041 CESCA - Anella Cientifica RREN Autonomous System'],\n       ['0', 'Japan',\n        'AS17932 Japan Advanced Institute of Science and Technology'],\n       ['0', 'Japan',\n        'AS17932 Japan Advanced Institute of Science and Technology'],\n       ['0', 'Uruguay', 'AS1797 Uruguay'],\n       ['0', 'Uruguay', 'AS1797 Uruguay'],\n       ['0', 'Germany', 'AS680 service G-WiN'],\n       ['0', 'Germany', 'AS680 service G-WiN'],\n       ['0', 'Ireland', 'AS1213 HEAnet Limited'],\n       ['0', 'Ireland', 'AS1213 HEAnet Limited'],\n       ['0', 'Germany', 'AS680 service G-WiN'],\n       ['0', 'Germany', 'AS680 service G-WiN'],\n       ['0', 'Germany', 'AS680 service G-WiN'],\n       ['0', 'Germany',\n        'AS553 Landeshochschulnetz Baden-Wuerttemberg (BelWue)'],\n       ['0', 'Hungary', 'AS1955 HUNGARNET'],\n       ['0', 'Germany', 'AS680 service G-WiN'],\n       ['0', 'Germany', 'AS680 service G-WiN'],\n       ['0', 'Japan', 'AS7660 Asia Pacific Advanced Network - Japan'],\n       ['0', 'Japan', 'AS7660 Asia Pacific Advanced Network - Japan'],\n       ['0', 'Canada',\n        'AS32157 DURHAM COLLEGE OF APPLIED ARTS AND TECHNOLOGY'],\n       ['0', 'Germany', 'AS680 service G-WiN'],\n       ['0', 'Germany', 'AS680 service G-WiN'],\n       ['0', 'Russian Federation', 'AS12925 SINP MSU']], dtype='<U58')"
     },
     "execution_count": 45,
     "metadata": {},
     "output_type": "execute_result"
    }
   ],
   "source": [
    "np.array(C[0])"
   ],
   "metadata": {
    "collapsed": false
   }
  },
  {
   "cell_type": "code",
   "execution_count": 46,
   "outputs": [
    {
     "data": {
      "text/plain": "array([['1', 'United States', 'AS5723 Johns Hopkins University'],\n       ['1', 'United States', 'AS5723 Johns Hopkins University'],\n       ['1', 'United States', 'AS6356 Northeast Regional Data Center'],\n       ['1', 'United States', 'AS6356 Northeast Regional Data Center'],\n       ['1', 'United States', 'AS3112 OARnet'],\n       ['1', 'United States', 'AS7939 University of Central Florida'],\n       ['1', 'United States', 'AS7939 University of Central Florida'],\n       ['1', 'United States', 'AS209 Qwest Communications Company, LLC'],\n       ['1', 'United States', 'AS209 Qwest Communications Company, LLC'],\n       ['1', 'United States', 'AS22925 Allied Telecom Group, LLC'],\n       ['1', 'United States', 'AS22925 Allied Telecom Group, LLC'],\n       ['1', 'United States', 'AS19262 Verizon Online LLC'],\n       ['1', 'United States', 'AS19262 Verizon Online LLC'],\n       ['1', 'United States', 'AS2900 Arizona Tri University Network'],\n       ['1', 'United States', 'AS32 Stanford University'],\n       ['1', 'United States', 'AS59 University of Wisconsin Madison'],\n       ['1', 'United States', 'AS59 University of Wisconsin Madison'],\n       ['1', 'United States', 'AS59 University of Wisconsin Madison'],\n       ['1', 'Brazil', 'AS1916 Rede Nacional de Ensino e Pesquisa'],\n       ['1', 'Brazil', 'AS10881 Universidade Federal do Parana'],\n       ['1', 'Brazil', 'AS1916 Rede Nacional de Ensino e Pesquisa'],\n       ['1', 'Brazil', 'AS1916 Rede Nacional de Ensino e Pesquisa'],\n       ['1', 'United States', 'AS38 University of Illinois']],\n      dtype='<U41')"
     },
     "execution_count": 46,
     "metadata": {},
     "output_type": "execute_result"
    }
   ],
   "source": [
    "np.array(C[1])"
   ],
   "metadata": {
    "collapsed": false
   }
  },
  {
   "cell_type": "code",
   "execution_count": 47,
   "outputs": [
    {
     "data": {
      "text/plain": "array([['2', 'United States',\n        'AS131 University of California, Santa Barbara'],\n       ['2', 'United States',\n        'AS131 University of California, Santa Barbara'],\n       ['2', 'United States',\n        'AS131 University of California, Santa Barbara'],\n       ['2', 'Canada', 'AS22950 University of Saskatchewan'],\n       ['2', 'Canada', 'AS22950 University of Saskatchewan'],\n       ['2', 'United States', 'AS18 University of Texas at Austin'],\n       ['2', 'United States', 'AS18 University of Texas at Austin'],\n       ['2', 'United States', 'AS18 University of Texas at Austin'],\n       ['2', 'United States', 'AS18 University of Texas at Austin'],\n       ['2', 'United States', 'AS26 Cornell University'],\n       ['2', 'United States', 'AS26 Cornell University'],\n       ['2', 'United States', 'AS26 Cornell University'],\n       ['2', 'United States', 'AS2496 University of Kansas'],\n       ['2', 'United States', 'AS2496 University of Kansas'],\n       ['2', 'United States', 'AS7896 University of Nebraska-Lincoln'],\n       ['2', 'United States', 'AS7896 University of Nebraska-Lincoln'],\n       ['2', 'United States',\n        'AS22742 State of Connecticut Dept of InformationTechnology'],\n       ['2', 'United States', 'AS20130 Depaul University'],\n       ['2', 'United States', 'AS11318 Georgetown University'],\n       ['2', 'United States', 'AS11318 Georgetown University'],\n       ['2', 'United States', 'AS217 University of Minnesota'],\n       ['2', 'Czech Republic', 'AS2852 CESNET, z.s.p.o.'],\n       ['2', 'United States',\n        'AS25 University of California at Berkeley'],\n       ['2', 'United States',\n        'AS25 University of California at Berkeley'],\n       ['2', 'United States',\n        'AS25 University of California at Berkeley'],\n       ['2', 'United States',\n        'AS25 University of California at Berkeley'],\n       ['2', 'United States',\n        'AS25 University of California at Berkeley'],\n       ['2', 'United States',\n        'AS25 University of California at Berkeley'],\n       ['2', 'Czech Republic', 'AS2852 CESNET, z.s.p.o.'],\n       ['2', 'Czech Republic', 'AS2852 CESNET, z.s.p.o.'],\n       ['2', 'Canada', 'AS10965 MRNet'],\n       ['2', 'Canada', 'AS10965 MRNet'],\n       ['2', 'United States', 'AS4 University of Southern California'],\n       ['2', 'United States', 'AS4 University of Southern California'],\n       ['2', 'United States', 'AS4 University of Southern California'],\n       ['2', 'United States', 'AS4 University of Southern California'],\n       ['2', 'United States',\n        'AS46357 California Polytechnic State University'],\n       ['2', 'United States',\n        'AS46357 California Polytechnic State University'],\n       ['2', 'Slovenia', 'AS2107 ARNES']], dtype='<U58')"
     },
     "execution_count": 47,
     "metadata": {},
     "output_type": "execute_result"
    }
   ],
   "source": [
    "np.array(C[2])"
   ],
   "metadata": {
    "collapsed": false
   }
  },
  {
   "cell_type": "code",
   "execution_count": 48,
   "outputs": [
    {
     "data": {
      "text/plain": "array([['3', 'United States',\n        'AS3 Massachusetts Institute of Technology'],\n       ['3', 'United States', 'AS4385 Rochester Institute of Technology'],\n       ['3', 'United States', 'AS4385 Rochester Institute of Technology'],\n       ['3', 'United States', 'AS3388 University of New Mexico'],\n       ['3', 'United States', 'AS7212 Vanderbilt University'],\n       ['3', 'Switzerland',\n        'AS559 SWITCH, Swiss Education and Research Network'],\n       ['3', 'Switzerland',\n        'AS559 SWITCH, Swiss Education and Research Network'],\n       ['3', 'United States',\n        'AS52 University of California, Los Angeles'],\n       ['3', 'United States',\n        'AS52 University of California, Los Angeles'],\n       ['3', 'United States', 'AS5661 USF - UNIVERSITY OF SOUTH FLORIDA'],\n       ['3', 'United States', 'AS5661 USF - UNIVERSITY OF SOUTH FLORIDA'],\n       ['3', 'United States', 'AS5661 USF - UNIVERSITY OF SOUTH FLORIDA'],\n       ['3', 'United States', 'AS5661 USF - UNIVERSITY OF SOUTH FLORIDA'],\n       ['3', 'Singapore', 'AS7472 Computer Centre'],\n       ['3', 'Singapore', 'AS7472 Computer Centre'],\n       ['3', 'Singapore', 'AS7472 Computer Centre'],\n       ['3', 'United States',\n        'AS11399 Williams College Center for Computing'],\n       ['3', 'United States',\n        'AS11399 Williams College Center for Computing'],\n       ['3', 'United States',\n        'AS11399 Williams College Center for Computing'],\n       ['3', 'United States',\n        'AS11399 Williams College Center for Computing'],\n       ['3', 'Greece', 'AS8522 FORTH Autonomous System'],\n       ['3', 'Greece', 'AS8522 FORTH Autonomous System'],\n       ['3', 'United States', 'AS13371 Duke University'],\n       ['3', 'United States', 'AS13371 Duke University'],\n       ['3', 'Japan', 'AS2500 WIDE Project'],\n       ['3', 'Japan', 'AS2500 WIDE Project'],\n       ['3', 'Japan', 'AS2500 WIDE Project'],\n       ['3', 'Japan', 'AS2500 WIDE Project'],\n       ['3', 'United States',\n        'AS3512 Emory University Systems of Health Care'],\n       ['3', 'United States',\n        'AS3512 Emory University Systems of Health Care'],\n       ['3', 'Canada', 'AS15318 McGill University'],\n       ['3', 'Switzerland',\n        'AS559 SWITCH, Swiss Education and Research Network'],\n       ['3', 'Switzerland',\n        'AS559 SWITCH, Swiss Education and Research Network'],\n       ['3', 'Switzerland',\n        'AS559 SWITCH, Swiss Education and Research Network'],\n       ['3', 'Switzerland',\n        'AS559 SWITCH, Swiss Education and Research Network'],\n       ['3', 'Switzerland',\n        'AS559 SWITCH, Swiss Education and Research Network'],\n       ['3', 'Switzerland',\n        'AS559 SWITCH, Swiss Education and Research Network'],\n       ['3', 'Switzerland',\n        'AS559 SWITCH, Swiss Education and Research Network'],\n       ['3', 'United States', 'AS29825 Illinois Institute of Technology'],\n       ['3', 'United States', 'AS29825 Illinois Institute of Technology'],\n       ['3', 'Japan', 'AS2500 WIDE Project'],\n       ['3', 'Japan', 'AS2500 WIDE Project'],\n       ['3', 'Japan', 'AS2500 WIDE Project'],\n       ['3', 'Japan', 'AS2500 WIDE Project'],\n       ['3', 'Japan', 'AS2500 WIDE Project'],\n       ['3', 'United States', 'AS111 Boston University'],\n       ['3', 'United States', 'AS111 Boston University']], dtype='<U50')"
     },
     "execution_count": 48,
     "metadata": {},
     "output_type": "execute_result"
    }
   ],
   "source": [
    "np.array(C[3])"
   ],
   "metadata": {
    "collapsed": false
   }
  },
  {
   "cell_type": "code",
   "execution_count": 49,
   "outputs": [
    {
     "data": {
      "text/plain": "array([['4', 'Japan', 'AS4713 NTT Communications Corporation'],\n       ['4', 'United Kingdom', 'AS786 The JANET IP Service'],\n       ['4', 'Norway',\n        'AS224 UNINETT, The Norwegian University & Research Network'],\n       ['4', 'Norway',\n        'AS224 UNINETT, The Norwegian University & Research Network'],\n       ['4', 'Spain', 'AS766 RedIRIS Autonomous System'],\n       ['4', 'Sweden', 'AS1653 SUNET Swedish University Network'],\n       ['4', 'Japan',\n        'AS2501 The University of Tokyo, Information Technology Center'],\n       ['4', 'United Kingdom', 'AS786 The JANET IP Service'],\n       ['4', 'United Kingdom', 'AS786 The JANET IP Service'],\n       ['4', 'Puerto Rico', 'AS5786 University of Puerto Rico'],\n       ['4', 'Puerto Rico', 'AS5786 University of Puerto Rico'],\n       ['4', 'Spain', 'AS766 RedIRIS Autonomous System'],\n       ['4', 'United Kingdom', 'AS786 The JANET IP Service'],\n       ['4', 'United Kingdom', 'AS786 The JANET IP Service'],\n       ['4', 'France',\n        'AS2200 Reseau National de telecommunications pour la Technologie'],\n       ['4', 'France',\n        'AS2200 Reseau National de telecommunications pour la Technologie'],\n       ['4', 'Hungary', 'AS2012 ELTENET ELTENET'],\n       ['4', 'Spain', 'AS766 RedIRIS Autonomous System'],\n       ['4', 'Spain', 'AS766 RedIRIS Autonomous System'],\n       ['4', 'Norway',\n        'AS224 UNINETT, The Norwegian University & Research Network'],\n       ['4', 'Norway',\n        'AS224 UNINETT, The Norwegian University & Research Network'],\n       ['4', 'France',\n        'AS2200 Reseau National de telecommunications pour la Technologie'],\n       ['4', 'France',\n        'AS2200 Reseau National de telecommunications pour la Technologie'],\n       ['4', 'France',\n        'AS2200 Reseau National de telecommunications pour la Technologie'],\n       ['4', 'United Kingdom', 'AS786 The JANET IP Service'],\n       ['4', 'United Kingdom', 'AS786 The JANET IP Service'],\n       ['4', 'United Kingdom', 'AS786 The JANET IP Service'],\n       ['4', 'Poland', 'AS5617 Telekomunikacja Polska S.A.'],\n       ['4', 'Poland', 'AS5617 Telekomunikacja Polska S.A.'],\n       ['4', 'Poland', 'AS5617 Telekomunikacja Polska S.A.'],\n       ['4', 'Poland', 'AS5617 Telekomunikacja Polska S.A.'],\n       ['4', 'Poland', 'AS5617 Telekomunikacja Polska S.A.'],\n       ['4', 'Poland', 'AS5617 Telekomunikacja Polska S.A.']],\n      dtype='<U64')"
     },
     "execution_count": 49,
     "metadata": {},
     "output_type": "execute_result"
    }
   ],
   "source": [
    "np.array(C[4])"
   ],
   "metadata": {
    "collapsed": false
   }
  },
  {
   "cell_type": "code",
   "execution_count": 50,
   "outputs": [
    {
     "data": {
      "text/plain": "array([['5', 'Germany', 'AS8365 Man-da.de GmbH'],\n       ['5', 'Germany', 'AS8365 Man-da.de GmbH'],\n       ['5', 'Germany', 'AS8365 Man-da.de GmbH'],\n       ['5', 'Austria', 'AS760 University of Vienna, Austria'],\n       ['5', 'Austria', 'AS760 University of Vienna, Austria'],\n       ['5', 'France', 'AS1938 Irisa/Inria Rennes'],\n       ['5', 'France', 'AS1938 Irisa/Inria Rennes'],\n       ['5', 'Japan', 'AS4730 Osaka University'],\n       ['5', 'Taiwan', 'AS17716 National Taiwan University'],\n       ['5', 'Taiwan', 'AS17716 National Taiwan University'],\n       ['5', 'Taiwan', 'AS17716 National Taiwan University'],\n       ['5', 'Austria', 'AS1111 University of Klagenfurt'],\n       ['5', 'Austria', 'AS1111 University of Klagenfurt'],\n       ['5', 'Poland', 'AS9112 POZMAN-EDU'],\n       ['5', 'Poland', 'AS9112 POZMAN-EDU'],\n       ['5', 'Poland',\n        'AS8970 WROCMAN-EDU educational part of WASK network, Wroclaw, Poland'],\n       ['5', 'Poland',\n        'AS8970 WROCMAN-EDU educational part of WASK network, Wroclaw, Poland'],\n       ['5', 'Poland', 'AS12464 WARSAW U-TECH Campus Network'],\n       ['5', 'Poland', 'AS12464 WARSAW U-TECH Campus Network']],\n      dtype='<U68')"
     },
     "execution_count": 50,
     "metadata": {},
     "output_type": "execute_result"
    }
   ],
   "source": [
    "np.array(C[5])"
   ],
   "metadata": {
    "collapsed": false
   }
  },
  {
   "cell_type": "code",
   "execution_count": 51,
   "outputs": [
    {
     "data": {
      "text/plain": "array([['6', 'United States', 'AS88 Princeton University'],\n       ['6', 'United States', 'AS88 Princeton University'],\n       ['6', 'United States', 'AS160 University of Chicago'],\n       ['6', 'United States', 'AS160 University of Chicago'],\n       ['6', 'United States', 'AS23329 Open Access Inc.'],\n       ['6', 'United States', 'AS8 Rice University'],\n       ['6', 'United States', 'AS8 Rice University'],\n       ['6', 'United States', 'AS18515 University of Texas at Arlington'],\n       ['6', 'United States', 'AS2701 Kansas State University'],\n       ['6', 'Canada', 'AS12093 University of Waterloo'],\n       ['6', 'Canada', 'AS12093 University of Waterloo'],\n       ['6', 'Canada', 'AS16462 University of Victoria'],\n       ['6', 'United States', 'AS16889 Stevens Institute of Technology'],\n       ['6', 'United States', 'AS16889 Stevens Institute of Technology'],\n       ['6', 'United States', 'AS55 University of Pennsylvania'],\n       ['6', 'United States', 'AS786 The JANET IP Service'],\n       ['6', 'Finland', 'AS1741 FUNET autonomous system'],\n       ['6', 'Finland', 'AS1741 FUNET autonomous system'],\n       ['6', 'Finland', 'AS1741 FUNET autonomous system'],\n       ['6', 'United States', 'AS292 ESnet'],\n       ['6', 'United States', 'AS292 ESnet'],\n       ['6', 'United States', 'AS4983 Intel Corporation'],\n       ['6', 'United States', 'AS4983 Intel Corporation'],\n       ['6', 'United States', 'AS33 Hewlett-Packard Company'],\n       ['6', 'United States', 'AS33 Hewlett-Packard Company'],\n       ['6', 'United States', 'AS33 Hewlett-Packard Company'],\n       ['6', 'United States', 'AS6431 ATT LABS'],\n       ['6', 'United States',\n        'AS36859 Texas Learning & Computation Center - University Of Houston'],\n       ['6', 'United States',\n        'AS36859 Texas Learning & Computation Center - University Of Houston'],\n       ['6', 'United States', 'AS7132 AT&T Internet Services'],\n       ['6', 'United States', 'AS7132 AT&T Internet Services']],\n      dtype='<U67')"
     },
     "execution_count": 51,
     "metadata": {},
     "output_type": "execute_result"
    }
   ],
   "source": [
    "np.array(C[6])"
   ],
   "metadata": {
    "collapsed": false
   }
  },
  {
   "cell_type": "code",
   "execution_count": 52,
   "outputs": [
    {
     "data": {
      "text/plain": "array([['7', 'United States', 'AS1249 Five Colleges Network'],\n       ['7', 'United States', 'AS1249 Five Colleges Network'],\n       ['7', 'United States', 'AS6510 Brigham Young University'],\n       ['7', 'United States', 'AS6510 Brigham Young University'],\n       ['7', 'United States', 'AS14 Columbia University'],\n       ['7', 'United States', 'AS14 Columbia University'],\n       ['7', 'United States', 'AS14 Columbia University'],\n       ['7', 'United States',\n        'AS27 University of Maryland at College Park'],\n       ['7', 'United States',\n        'AS27 University of Maryland at College Park'],\n       ['7', 'United States', 'AS103 Northwestern University'],\n       ['7', 'United States', 'AS20162 University of Texas at Dallas'],\n       ['7', 'United States', 'AS20162 University of Texas at Dallas'],\n       ['7', 'United States', 'AS693 University of Notre Dame'],\n       ['7', 'United States', 'AS693 University of Notre Dame'],\n       ['7', 'United States', 'AS31 California Institute of Technology'],\n       ['7', 'United States', 'AS31 California Institute of Technology'],\n       ['7', 'United States', 'AS237 Merit Network Inc.'],\n       ['7', 'United States', 'AS237 Merit Network Inc.'],\n       ['7', 'United States',\n        'AS3450 The University of Tennessee Health Science Center'],\n       ['7', 'United States', 'AS264 SRI International'],\n       ['7', 'United States', 'AS264 SRI International'],\n       ['7', 'Cyprus', 'AS3268 CYNET'],\n       ['7', 'Cyprus', 'AS3268 CYNET'],\n       ['7', 'China',\n        'AS4538 China Education and Research Network Center'],\n       ['7', 'United States', 'AS237 Merit Network Inc.'],\n       ['7', 'United States', 'AS237 Merit Network Inc.']], dtype='<U56')"
     },
     "execution_count": 52,
     "metadata": {},
     "output_type": "execute_result"
    }
   ],
   "source": [
    "np.array(C[7])"
   ],
   "metadata": {
    "collapsed": false
   }
  },
  {
   "cell_type": "code",
   "execution_count": 53,
   "outputs": [
    {
     "data": {
      "text/plain": "array([['8', 'United States', 'AS7018 AT&T Services, Inc.'],\n       ['8', 'United States', 'AS7018 AT&T Services, Inc.'],\n       ['8', 'United States', 'AS9 Carnegie Mellon University'],\n       ['8', 'United States', 'AS73 University of Washington'],\n       ['8', 'United States', 'AS73 University of Washington'],\n       ['8', 'United States', 'AS73 University of Washington'],\n       ['8', 'United States', 'AS73 University of Washington'],\n       ['8', 'United States', 'AS156 Northeastern University'],\n       ['8', 'United States', 'AS156 Northeastern University'],\n       ['8', 'Italy', 'AS137 GARR Italian academic and research network'],\n       ['8', 'Italy', 'AS137 GARR Italian academic and research network'],\n       ['8', 'Italy', 'AS137 GARR Italian academic and research network'],\n       ['8', 'Italy', 'AS137 GARR Italian academic and research network'],\n       ['8', 'Germany', 'AS12816 Leibniz-Rechenzentrum Muenchen'],\n       ['8', 'Germany', 'AS12816 Leibniz-Rechenzentrum Muenchen'],\n       ['8', 'France', 'AS776 INRIA Sophia-Antipolis'],\n       ['8', 'France', 'AS776 INRIA Sophia-Antipolis'],\n       ['8', 'United States', 'AS36375 University of Michigan'],\n       ['8', 'United States', 'AS36375 University of Michigan'],\n       ['8', 'United States', 'AS36375 University of Michigan'],\n       ['8', 'Canada', 'AS239 University of Toronto'],\n       ['8', 'Canada', 'AS239 University of Toronto'],\n       ['8', 'Canada', 'AS239 University of Toronto'],\n       ['8', 'Greece', 'AS3323 National Technical University of Athens'],\n       ['8', 'Greece', 'AS3323 National Technical University of Athens'],\n       ['8', 'United States',\n        'AS6106 University of California, Riverside'],\n       ['8', 'Portugal',\n        'AS1930 Rede Ciencia Tecnologia e Sociedade (RCTS)'],\n       ['8', 'Portugal',\n        'AS1930 Rede Ciencia Tecnologia e Sociedade (RCTS)'],\n       ['8', 'Portugal',\n        'AS1930 Rede Ciencia Tecnologia e Sociedade (RCTS)'],\n       ['8', 'United States',\n        'AS14325 Ocean State Higher Education and Administration Network'],\n       ['8', 'Korea, Republic of', 'AS18176 KOOKMIN UNIVERSITY'],\n       ['8', 'Korea, Republic of', 'AS18176 KOOKMIN UNIVERSITY'],\n       ['8', 'Korea, Republic of', 'AS18176 KOOKMIN UNIVERSITY']],\n      dtype='<U63')"
     },
     "execution_count": 53,
     "metadata": {},
     "output_type": "execute_result"
    }
   ],
   "source": [
    "np.array(C[8])"
   ],
   "metadata": {
    "collapsed": false
   }
  },
  {
   "cell_type": "code",
   "execution_count": 54,
   "outputs": [
    {
     "data": {
      "text/plain": "array([['9', 'United States', 'AS17 Purdue University'],\n       ['9', 'United States', 'AS17 Purdue University'],\n       ['9', 'United States',\n        'AS5739 University of California, Santa Cruz'],\n       ['9', 'United States',\n        'AS5739 University of California, Santa Cruz'],\n       ['9', 'United States',\n        'AS5739 University of California, Santa Cruz'],\n       ['9', 'United States', 'AS4201 Oregon State University'],\n       ['9', 'United States', 'AS2552 Washington University'],\n       ['9', 'United States', 'AS2552 Washington University'],\n       ['9', 'United States', 'AS2552 Washington University'],\n       ['9', 'United States', 'AS46 Rutgers University'],\n       ['9', 'United States',\n        'AS16461 The University of Texas at El Paso'],\n       ['9', 'United States',\n        'AS7377 University of California at San Diego'],\n       ['9', 'United States',\n        'AS7377 University of California at San Diego'],\n       ['9', 'Hong Kong', 'AS3661 The Chinese University of Hong Kong'],\n       ['9', 'Hong Kong', 'AS3661 The Chinese University of Hong Kong'],\n       ['9', 'Hong Kong', 'AS3661 The Chinese University of Hong Kong'],\n       ['9', 'Greece',\n        'AS5408 Greek Research & Technology Network, http://www.grnet.gr'],\n       ['9', 'Greece',\n        'AS5408 Greek Research & Technology Network, http://www.grnet.gr'],\n       ['9', 'United States', 'AS87 Indiana University'],\n       ['9', 'United States', 'AS87 Indiana University'],\n       ['9', 'United States', 'AS46 Rutgers University'],\n       ['9', 'United States', 'AS46 Rutgers University'],\n       ['9', 'United States', 'AS6192 University of California at Davis'],\n       ['9', 'United States', 'AS6192 University of California at Davis'],\n       ['9', 'United States', 'AS71 Hewlett-Packard Company'],\n       ['9', 'United States', 'AS71 Hewlett-Packard Company'],\n       ['9', 'United States', 'AS71 Hewlett-Packard Company'],\n       ['9', 'United States',\n        'AS3390 University of Missouri - Kansas City'],\n       ['9', 'United States',\n        'AS3390 University of Missouri - Kansas City'],\n       ['9', 'United States', 'AS2497 Internet Initiative Japan Inc.'],\n       ['9', 'United States', 'AS2497 Internet Initiative Japan Inc.']],\n      dtype='<U63')"
     },
     "execution_count": 54,
     "metadata": {},
     "output_type": "execute_result"
    }
   ],
   "source": [
    "np.array(C[9])"
   ],
   "metadata": {
    "collapsed": false
   }
  }
 ],
 "metadata": {
  "kernelspec": {
   "display_name": "Python 3",
   "language": "python",
   "name": "python3"
  },
  "language_info": {
   "codemirror_mode": {
    "name": "ipython",
    "version": 2
   },
   "file_extension": ".py",
   "mimetype": "text/x-python",
   "name": "python",
   "nbconvert_exporter": "python",
   "pygments_lexer": "ipython2",
   "version": "2.7.6"
  }
 },
 "nbformat": 4,
 "nbformat_minor": 0
}
