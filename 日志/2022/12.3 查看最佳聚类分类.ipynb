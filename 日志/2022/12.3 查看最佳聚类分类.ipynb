{
 "cells": [
  {
   "cell_type": "code",
   "execution_count": 2,
   "outputs": [
    {
     "data": {
      "text/plain": "Computing transition probabilities:   0%|          | 0/507 [00:00<?, ?it/s]",
      "application/vnd.jupyter.widget-view+json": {
       "version_major": 2,
       "version_minor": 0,
       "model_id": "e0e9ef0786b9411ca45b0412d38c06dc"
      }
     },
     "metadata": {},
     "output_type": "display_data"
    },
    {
     "name": "stdout",
     "output_type": "stream",
     "text": [
      "{0: 88, 1: 69, 6: 17, 5: 12, 7: 40, 8: 10, 3: 9, 2: 10, 4: 12, 9: 72}\n"
     ]
    }
   ],
   "source": [
    "from datasets.dataset import FeatureLookup\n",
    "import dgl as d\n",
    "import pickle as pk\n",
    "import numpy as np\n",
    "import pandas as pd\n",
    "\n",
    "class a:\n",
    "    def __init__(self, node2vec_dim, node2vec_length, node2vec_walk, node2vec_epochs, node2vec_batchsize):\n",
    "        self.node2vec_dim = node2vec_dim\n",
    "        self.node2vec_length = node2vec_length\n",
    "        self.node2vec_walk = node2vec_walk\n",
    "        self.node2vec_epochs = node2vec_epochs\n",
    "        self.node2vec_batchsize = node2vec_batchsize\n",
    "        self.node2vec_windows = 3\n",
    "        self.slices = 10\n",
    "\n",
    "# node2vec\n",
    "def eraser(datasets, args):\n",
    "    label = None\n",
    "\n",
    "    # try:\n",
    "    # label = pk.load(open(f'./pretrain/user_based_{args.slices}.pk', 'rb'))\n",
    "    # except IOError:\n",
    "\n",
    "    userg = d.graph([])\n",
    "    user_lookup = FeatureLookup()\n",
    "    ufile = pd.read_csv('./datasets/data/WSDREAM/原始数据/userlist_table.csv')\n",
    "    ufile = pd.DataFrame(ufile)\n",
    "    ulines = ufile.to_numpy()\n",
    "\n",
    "    for i in range(339):\n",
    "        user_lookup.register('User', i)\n",
    "\n",
    "    for ure in ulines[:, 2]:\n",
    "        user_lookup.register('URE', ure)\n",
    "\n",
    "    for uas in ulines[:, 4]:\n",
    "        user_lookup.register('UAS', uas)\n",
    "\n",
    "    userg.add_nodes(len(user_lookup))\n",
    "\n",
    "    for line in ulines:\n",
    "        uid = line[0]\n",
    "        ure = user_lookup.query_id(line[2])\n",
    "\n",
    "        if not userg.has_edges_between(uid, ure):\n",
    "            userg.add_edges(uid, ure)\n",
    "\n",
    "        uas = user_lookup.query_id(line[4])\n",
    "        if not userg.has_edges_between(uid, uas):\n",
    "            userg.add_edges(uid, uas)\n",
    "\n",
    "    userg = d.add_self_loop(userg)\n",
    "    userg = d.to_bidirected(userg)\n",
    "\n",
    "    from node2vec import Node2Vec\n",
    "    G = userg.to_networkx()\n",
    "\n",
    "    # 设置node2vec参数\n",
    "    node2vec = Node2Vec(\n",
    "        G,\n",
    "        dimensions=args.node2vec_dim,  # 嵌入维度\n",
    "        p=1,  # 回家参数\n",
    "        q=0.5,  # 外出参数\n",
    "        walk_length=args.node2vec_length,  # 随机游走最大长度\n",
    "        num_walks=args.node2vec_walk,  # 每个节点作为起始节点生成的随机游走个数\n",
    "        workers=4  # 并行线程数\n",
    "    )\n",
    "\n",
    "    # p=1, q=0.5, n_clusters=6。DFS深度优先搜索，挖掘同质社群\n",
    "    # p=1, q=2, n_clusters=3。BFS宽度优先搜索，挖掘节点的结构功能。\n",
    "\n",
    "    # 训练Node2Vec，参数文档见 gensim.models.Word2Vec\n",
    "    model = node2vec.fit(\n",
    "        window=args.node2vec_windows,  # Skip-Gram窗口大小\n",
    "        epochs=args.node2vec_epochs,\n",
    "        min_count=1,  # 忽略出现次数低于此阈值的节点（词）\n",
    "        batch_words=args.node2vec_batchsize  # 每个线程处理的数据量\n",
    "    )\n",
    "    ans = model.wv.vectors[:339]\n",
    "\n",
    "    df = np.array(ans)\n",
    "\n",
    "    # 整理特征\n",
    "    pk.dump(df, open(f'./pretrain/user_embeds.pk', 'wb'))\n",
    "    # return df\n",
    "\n",
    "    def k_mean(inputs, k):\n",
    "        from sklearn.cluster import KMeans\n",
    "        kmeans = KMeans(n_clusters=k)\n",
    "        kmeans.fit(inputs)\n",
    "        return kmeans.labels_\n",
    "\n",
    "    label = k_mean(df, args.slices)\n",
    "    pk.dump(label, open(f'./pretrain/user_based_{args.slices}.pk', 'wb'))\n",
    "\n",
    "    # 检查每个类的个数\n",
    "    dic = {}\n",
    "    for i in label:\n",
    "        if i not in dic:\n",
    "            dic[i] = 1\n",
    "        else:\n",
    "            dic[i] = dic[i] + 1\n",
    "    print(dic)\n",
    "# node2vec_dim, node2vec_length, node2vec_walk, node2vec_epochs, node2vec_batchsize\n",
    "args = a(128, 20, 50, 30, 32)\n",
    "eraser(None, args)"
   ],
   "metadata": {
    "collapsed": false
   }
  },
  {
   "cell_type": "code",
   "execution_count": 3,
   "outputs": [],
   "source": [
    "with open('./datasets/data/WSDREAM/原始数据/userlist_table.csv', 'rb') as f:\n",
    "    df = pd.read_csv(f)\n",
    "with open('./pretrain/user_based_10.pk', 'rb') as f:\n",
    "    label = pk.load(f)\n",
    "\n",
    "C = [[] for _ in range(10)]\n",
    "for i in range(10):\n",
    "    for idx, typ in enumerate(label):\n",
    "        if label[idx] == i:\n",
    "            C[i].append([typ, df['[Country]'][idx], df['[AS]'][idx]])"
   ],
   "metadata": {
    "collapsed": false
   }
  },
  {
   "cell_type": "code",
   "execution_count": 4,
   "outputs": [
    {
     "data": {
      "text/plain": "Index(['[User ID]', '[IP Address]', '[Country]', '[IP No.]', '[AS]',\n       '[Latitude]', '[Longitude]'],\n      dtype='object')"
     },
     "execution_count": 4,
     "metadata": {},
     "output_type": "execute_result"
    }
   ],
   "source": [
    "df.columns"
   ],
   "metadata": {
    "collapsed": false
   }
  },
  {
   "cell_type": "code",
   "execution_count": 5,
   "outputs": [
    {
     "data": {
      "text/plain": "array([['0', 'United States', 'AS7018 AT&T Services, Inc.'],\n       ['0', 'United States', 'AS160 University of Chicago'],\n       ['0', 'United States', 'AS6356 Northeast Regional Data Center'],\n       ['0', 'United Kingdom', 'AS786 The JANET IP Service'],\n       ['0', 'Canada', 'AS22950 University of Saskatchewan'],\n       ['0', 'Canada', 'AS22950 University of Saskatchewan'],\n       ['0', 'United States', 'AS156 Northeastern University'],\n       ['0', 'United States', 'AS103 Northwestern University'],\n       ['0', 'United States', 'AS18515 University of Texas at Arlington'],\n       ['0', 'United States', 'AS2701 Kansas State University'],\n       ['0', 'United States', 'AS3112 OARnet'],\n       ['0', 'United States', 'AS4385 Rochester Institute of Technology'],\n       ['0', 'Hong Kong', 'AS3661 The Chinese University of Hong Kong'],\n       ['0', 'Spain', 'AS766 RedIRIS Autonomous System'],\n       ['0', 'United States', 'AS209 Qwest Communications Company, LLC'],\n       ['0', 'United Kingdom', 'AS786 The JANET IP Service'],\n       ['0', 'France', 'AS776 INRIA Sophia-Antipolis'],\n       ['0', 'France', 'AS776 INRIA Sophia-Antipolis'],\n       ['0', 'Germany', 'AS680 service G-WiN'],\n       ['0', 'Germany', 'AS680 service G-WiN'],\n       ['0', 'Greece', 'AS8522 FORTH Autonomous System'],\n       ['0', 'Taiwan', 'AS17716 National Taiwan University'],\n       ['0', 'United States', 'AS19262 Verizon Online LLC'],\n       ['0', 'United States', 'AS19262 Verizon Online LLC'],\n       ['0', 'United States', 'AS36375 University of Michigan'],\n       ['0', 'United States', 'AS36375 University of Michigan'],\n       ['0', 'United States', 'AS237 Merit Network Inc.'],\n       ['0', 'Germany', 'AS680 service G-WiN'],\n       ['0', 'Germany', 'AS680 service G-WiN'],\n       ['0', 'Canada', 'AS16462 University of Victoria'],\n       ['0', 'Korea, Republic of',\n        'AS1781 Korea Advanced Institute of Science and Technology'],\n       ['0', 'United States', 'AS217 University of Minnesota'],\n       ['0', 'Greece', 'AS3323 National Technical University of Athens'],\n       ['0', 'Spain',\n        'AS13041 CESCA - Anella Cientifica RREN Autonomous System'],\n       ['0', 'United States', 'AS2900 Arizona Tri University Network'],\n       ['0', 'United States', 'AS13371 Duke University'],\n       ['0', 'United States', 'AS16889 Stevens Institute of Technology'],\n       ['0', 'United States', 'AS16889 Stevens Institute of Technology'],\n       ['0', 'Poland',\n        'AS8970 WROCMAN-EDU educational part of WASK network, Wroclaw, Poland'],\n       ['0', 'Poland',\n        'AS8970 WROCMAN-EDU educational part of WASK network, Wroclaw, Poland'],\n       ['0', 'Japan', 'AS2500 WIDE Project'],\n       ['0', 'Uruguay', 'AS1797 Uruguay'],\n       ['0', 'United States',\n        'AS25 University of California at Berkeley'],\n       ['0', 'United States',\n        'AS25 University of California at Berkeley'],\n       ['0', 'United States',\n        'AS6106 University of California, Riverside'],\n       ['0', 'United States',\n        'AS3512 Emory University Systems of Health Care'],\n       ['0', 'United States', 'AS264 SRI International'],\n       ['0', 'Canada', 'AS15318 McGill University'],\n       ['0', 'Germany', 'AS680 service G-WiN'],\n       ['0', 'Switzerland',\n        'AS559 SWITCH, Swiss Education and Research Network'],\n       ['0', 'United States', 'AS29825 Illinois Institute of Technology'],\n       ['0', 'United States', 'AS786 The JANET IP Service'],\n       ['0', 'United States', 'AS71 Hewlett-Packard Company'],\n       ['0', 'United States', 'AS71 Hewlett-Packard Company'],\n       ['0', 'Ireland', 'AS1213 HEAnet Limited'],\n       ['0', 'Norway',\n        'AS224 UNINETT, The Norwegian University & Research Network'],\n       ['0', 'Norway',\n        'AS224 UNINETT, The Norwegian University & Research Network'],\n       ['0', 'Finland', 'AS1741 FUNET autonomous system'],\n       ['0', 'Finland', 'AS1741 FUNET autonomous system'],\n       ['0', 'Germany', 'AS680 service G-WiN'],\n       ['0', 'Germany', 'AS680 service G-WiN'],\n       ['0', 'Germany',\n        'AS553 Landeshochschulnetz Baden-Wuerttemberg (BelWue)'],\n       ['0', 'Poland', 'AS12464 WARSAW U-TECH Campus Network'],\n       ['0', 'Poland', 'AS12464 WARSAW U-TECH Campus Network'],\n       ['0', 'United Kingdom', 'AS786 The JANET IP Service'],\n       ['0', 'Cyprus', 'AS3268 CYNET'],\n       ['0', 'Poland', 'AS5617 Telekomunikacja Polska S.A.'],\n       ['0', 'Germany', 'AS680 service G-WiN'],\n       ['0', 'Germany', 'AS680 service G-WiN'],\n       ['0', 'United States', 'AS59 University of Wisconsin Madison'],\n       ['0', 'United States', 'AS59 University of Wisconsin Madison'],\n       ['0', 'Canada', 'AS10965 MRNet'],\n       ['0', 'United States',\n        'AS14325 Ocean State Higher Education and Administration Network'],\n       ['0', 'Japan', 'AS7660 Asia Pacific Advanced Network - Japan'],\n       ['0', 'China',\n        'AS4538 China Education and Research Network Center'],\n       ['0', 'Japan', 'AS2500 WIDE Project'],\n       ['0', 'United States', 'AS33 Hewlett-Packard Company'],\n       ['0', 'United States', 'AS33 Hewlett-Packard Company'],\n       ['0', 'United States', 'AS6431 ATT LABS'],\n       ['0', 'Canada',\n        'AS32157 DURHAM COLLEGE OF APPLIED ARTS AND TECHNOLOGY'],\n       ['0', 'United States',\n        'AS36859 Texas Learning & Computation Center - University Of Houston'],\n       ['0', 'United States',\n        'AS36859 Texas Learning & Computation Center - University Of Houston'],\n       ['0', 'United States',\n        'AS46357 California Polytechnic State University'],\n       ['0', 'United States',\n        'AS46357 California Polytechnic State University'],\n       ['0', 'Korea, Republic of', 'AS18176 KOOKMIN UNIVERSITY'],\n       ['0', 'Germany', 'AS680 service G-WiN'],\n       ['0', 'United States', 'AS237 Merit Network Inc.'],\n       ['0', 'United States', 'AS7132 AT&T Internet Services']],\n      dtype='<U68')"
     },
     "execution_count": 5,
     "metadata": {},
     "output_type": "execute_result"
    }
   ],
   "source": [
    "np.array(C[0])"
   ],
   "metadata": {
    "collapsed": false
   }
  },
  {
   "cell_type": "code",
   "execution_count": 6,
   "outputs": [
    {
     "data": {
      "text/plain": "array([['1', 'United States', 'AS7018 AT&T Services, Inc.'],\n       ['1', 'Japan', 'AS4713 NTT Communications Corporation'],\n       ['1', 'United States', 'AS17 Purdue University'],\n       ['1', 'United States',\n        'AS131 University of California, Santa Barbara'],\n       ['1', 'United States', 'AS88 Princeton University'],\n       ['1', 'United States', 'AS88 Princeton University'],\n       ['1', 'United States',\n        'AS5739 University of California, Santa Cruz'],\n       ['1', 'United States',\n        'AS5739 University of California, Santa Cruz'],\n       ['1', 'United States', 'AS1249 Five Colleges Network'],\n       ['1', 'United States', 'AS160 University of Chicago'],\n       ['1', 'United States', 'AS9 Carnegie Mellon University'],\n       ['1', 'United States', 'AS5723 Johns Hopkins University'],\n       ['1', 'United States', 'AS5723 Johns Hopkins University'],\n       ['1', 'United States', 'AS2552 Washington University'],\n       ['1', 'United States', 'AS14 Columbia University'],\n       ['1', 'United States',\n        'AS27 University of Maryland at College Park'],\n       ['1', 'United States', 'AS18 University of Texas at Austin'],\n       ['1', 'United States', 'AS18 University of Texas at Austin'],\n       ['1', 'United States', 'AS2496 University of Kansas'],\n       ['1', 'United States', 'AS3388 University of New Mexico'],\n       ['1', 'Norway',\n        'AS224 UNINETT, The Norwegian University & Research Network'],\n       ['1', 'Norway',\n        'AS224 UNINETT, The Norwegian University & Research Network'],\n       ['1', 'Germany',\n        'AS553 Landeshochschulnetz Baden-Wuerttemberg (BelWue)'],\n       ['1', 'United States', 'AS693 University of Notre Dame'],\n       ['1', 'United States', 'AS693 University of Notre Dame'],\n       ['1', 'United States', 'AS7896 University of Nebraska-Lincoln'],\n       ['1', 'United States', 'AS7896 University of Nebraska-Lincoln'],\n       ['1', 'Canada', 'AS12093 University of Waterloo'],\n       ['1', 'Canada', 'AS12093 University of Waterloo'],\n       ['1', 'Italy', 'AS137 GARR Italian academic and research network'],\n       ['1', 'Germany', 'AS680 service G-WiN'],\n       ['1', 'Italy', 'AS137 GARR Italian academic and research network'],\n       ['1', 'Spain', 'AS766 RedIRIS Autonomous System'],\n       ['1', 'Sweden', 'AS1653 SUNET Swedish University Network'],\n       ['1', 'Germany', 'AS8365 Man-da.de GmbH'],\n       ['1', 'Austria', 'AS760 University of Vienna, Austria'],\n       ['1', 'Italy', 'AS137 GARR Italian academic and research network'],\n       ['1', 'United States', 'AS31 California Institute of Technology'],\n       ['1', 'Germany', 'AS680 service G-WiN'],\n       ['1', 'United States', 'AS5661 USF - UNIVERSITY OF SOUTH FLORIDA'],\n       ['1', 'France', 'AS1938 Irisa/Inria Rennes'],\n       ['1', 'France', 'AS1938 Irisa/Inria Rennes'],\n       ['1', 'Israel', 'AS378 ILAN'],\n       ['1', 'Japan', 'AS4730 Osaka University'],\n       ['1', 'Germany',\n        'AS553 Landeshochschulnetz Baden-Wuerttemberg (BelWue)'],\n       ['1', 'Germany', 'AS680 service G-WiN'],\n       ['1', 'Puerto Rico', 'AS5786 University of Puerto Rico'],\n       ['1', 'Singapore', 'AS7472 Computer Centre'],\n       ['1', 'United States',\n        'AS11399 Williams College Center for Computing'],\n       ['1', 'Germany', 'AS680 service G-WiN'],\n       ['1', 'Germany', 'AS680 service G-WiN'],\n       ['1', 'Germany', 'AS680 service G-WiN'],\n       ['1', 'Taiwan',\n        'AS1659 Tiawan Academic Network (TANet) Information Center'],\n       ['1', 'Germany', 'AS680 service G-WiN'],\n       ['1', 'Canada', 'AS239 University of Toronto'],\n       ['1', 'Canada', 'AS239 University of Toronto'],\n       ['1', 'United States',\n        'AS3450 The University of Tennessee Health Science Center'],\n       ['1', 'Germany', 'AS680 service G-WiN'],\n       ['1', 'Switzerland',\n        'AS559 SWITCH, Swiss Education and Research Network'],\n       ['1', 'Spain', 'AS766 RedIRIS Autonomous System'],\n       ['1', 'Germany', 'AS680 service G-WiN'],\n       ['1', 'Hungary', 'AS1955 HUNGARNET'],\n       ['1', 'United States', 'AS4983 Intel Corporation'],\n       ['1', 'Brazil', 'AS1916 Rede Nacional de Ensino e Pesquisa'],\n       ['1', 'Japan', 'AS7660 Asia Pacific Advanced Network - Japan'],\n       ['1', 'United States',\n        'AS3390 University of Missouri - Kansas City'],\n       ['1', 'United States', 'AS111 Boston University'],\n       ['1', 'United States', 'AS4 University of Southern California'],\n       ['1', 'United States', 'AS38 University of Illinois']],\n      dtype='<U58')"
     },
     "execution_count": 6,
     "metadata": {},
     "output_type": "execute_result"
    }
   ],
   "source": [
    "np.array(C[1])"
   ],
   "metadata": {
    "collapsed": false
   }
  },
  {
   "cell_type": "code",
   "execution_count": 7,
   "outputs": [
    {
     "data": {
      "text/plain": "array([['2', 'United States', 'AS4201 Oregon State University'],\n       ['2', 'United States', 'AS18 University of Texas at Austin'],\n       ['2', 'United States', 'AS2496 University of Kansas'],\n       ['2', 'Germany',\n        'AS553 Landeshochschulnetz Baden-Wuerttemberg (BelWue)'],\n       ['2', 'Germany', 'AS680 service G-WiN'],\n       ['2', 'Germany', 'AS680 service G-WiN'],\n       ['2', 'Italy', 'AS137 GARR Italian academic and research network'],\n       ['2', 'Germany', 'AS680 service G-WiN'],\n       ['2', 'United States',\n        'AS22742 State of Connecticut Dept of InformationTechnology'],\n       ['2', 'Austria', 'AS1110 University of Innsbruck']], dtype='<U58')"
     },
     "execution_count": 7,
     "metadata": {},
     "output_type": "execute_result"
    }
   ],
   "source": [
    "np.array(C[2])"
   ],
   "metadata": {
    "collapsed": false
   }
  },
  {
   "cell_type": "code",
   "execution_count": 8,
   "outputs": [
    {
     "data": {
      "text/plain": "array([['3', 'United States', 'AS1249 Five Colleges Network'],\n       ['3', 'United States', 'AS14 Columbia University'],\n       ['3', 'United States',\n        'AS7377 University of California at San Diego'],\n       ['3', 'Israel', 'AS378 ILAN'],\n       ['3', 'United States',\n        'AS11399 Williams College Center for Computing'],\n       ['3', 'Austria', 'AS1110 University of Innsbruck'],\n       ['3', 'Germany', 'AS12816 Leibniz-Rechenzentrum Muenchen'],\n       ['3', 'Greece',\n        'AS5408 Greek Research & Technology Network, http://www.grnet.gr'],\n       ['3', 'United States',\n        'AS25 University of California at Berkeley']], dtype='<U63')"
     },
     "execution_count": 8,
     "metadata": {},
     "output_type": "execute_result"
    }
   ],
   "source": [
    "np.array(C[3])"
   ],
   "metadata": {
    "collapsed": false
   }
  },
  {
   "cell_type": "code",
   "execution_count": 9,
   "outputs": [
    {
     "data": {
      "text/plain": "array([['4', 'United States', 'AS73 University of Washington'],\n       ['4', 'United States', 'AS6356 Northeast Regional Data Center'],\n       ['4', 'United States', 'AS14 Columbia University'],\n       ['4', 'United States', 'AS46 Rutgers University'],\n       ['4', 'Germany', 'AS8365 Man-da.de GmbH'],\n       ['4', 'Switzerland',\n        'AS559 SWITCH, Swiss Education and Research Network'],\n       ['4', 'United States', 'AS22925 Allied Telecom Group, LLC'],\n       ['4', 'Germany', 'AS680 service G-WiN'],\n       ['4', 'United States', 'AS11318 Georgetown University'],\n       ['4', 'United States', 'AS264 SRI International'],\n       ['4', 'Czech Republic', 'AS2852 CESNET, z.s.p.o.'],\n       ['4', 'Poland', 'AS5617 Telekomunikacja Polska S.A.']],\n      dtype='<U50')"
     },
     "execution_count": 9,
     "metadata": {},
     "output_type": "execute_result"
    }
   ],
   "source": [
    "np.array(C[4])"
   ],
   "metadata": {
    "collapsed": false
   }
  },
  {
   "cell_type": "code",
   "execution_count": 10,
   "outputs": [
    {
     "data": {
      "text/plain": "array([['5', 'United States',\n        'AS131 University of California, Santa Barbara'],\n       ['5', 'United States', 'AS6510 Brigham Young University'],\n       ['5', 'United States',\n        'AS11399 Williams College Center for Computing'],\n       ['5', 'Germany', 'AS680 service G-WiN'],\n       ['5', 'Japan',\n        'AS17932 Japan Advanced Institute of Science and Technology'],\n       ['5', 'United States', 'AS13371 Duke University'],\n       ['5', 'United States', 'AS6192 University of California at Davis'],\n       ['5', 'Portugal',\n        'AS1930 Rede Ciencia Tecnologia e Sociedade (RCTS)'],\n       ['5', 'Poland', 'AS5617 Telekomunikacja Polska S.A.'],\n       ['5', 'United States', 'AS292 ESnet'],\n       ['5', 'Japan', 'AS2500 WIDE Project'],\n       ['5', 'United States', 'AS4 University of Southern California']],\n      dtype='<U58')"
     },
     "execution_count": 10,
     "metadata": {},
     "output_type": "execute_result"
    }
   ],
   "source": [
    "np.array(C[5])"
   ],
   "metadata": {
    "collapsed": false
   }
  },
  {
   "cell_type": "code",
   "execution_count": 11,
   "outputs": [
    {
     "data": {
      "text/plain": "array([['6', 'United States', 'AS17 Purdue University'],\n       ['6', 'United States',\n        'AS16461 The University of Texas at El Paso'],\n       ['6', 'Germany', 'AS8365 Man-da.de GmbH'],\n       ['6', 'United States', 'AS31 California Institute of Technology'],\n       ['6', 'Germany', 'AS680 service G-WiN'],\n       ['6', 'United States', 'AS5661 USF - UNIVERSITY OF SOUTH FLORIDA'],\n       ['6', 'United States', 'AS5661 USF - UNIVERSITY OF SOUTH FLORIDA'],\n       ['6', 'United States',\n        'AS7377 University of California at San Diego'],\n       ['6', 'Germany',\n        'AS553 Landeshochschulnetz Baden-Wuerttemberg (BelWue)'],\n       ['6', 'United States', 'AS11318 Georgetown University'],\n       ['6', 'United States', 'AS36375 University of Michigan'],\n       ['6', 'United States', 'AS237 Merit Network Inc.'],\n       ['6', 'Greece', 'AS3323 National Technical University of Athens'],\n       ['6', 'Greece',\n        'AS5408 Greek Research & Technology Network, http://www.grnet.gr'],\n       ['6', 'United States',\n        'AS25 University of California at Berkeley'],\n       ['6', 'Finland', 'AS1741 FUNET autonomous system'],\n       ['6', 'Japan', 'AS2500 WIDE Project']], dtype='<U63')"
     },
     "execution_count": 11,
     "metadata": {},
     "output_type": "execute_result"
    }
   ],
   "source": [
    "np.array(C[6])"
   ],
   "metadata": {
    "collapsed": false
   }
  },
  {
   "cell_type": "code",
   "execution_count": 12,
   "outputs": [
    {
     "data": {
      "text/plain": "array([['7', 'United States',\n        'AS131 University of California, Santa Barbara'],\n       ['7', 'United States', 'AS6510 Brigham Young University'],\n       ['7', 'United States', 'AS73 University of Washington'],\n       ['7', 'United States', 'AS73 University of Washington'],\n       ['7', 'United States', 'AS2552 Washington University'],\n       ['7', 'United States', 'AS2552 Washington University'],\n       ['7', 'United States',\n        'AS3 Massachusetts Institute of Technology'],\n       ['7', 'United States', 'AS8 Rice University'],\n       ['7', 'United States', 'AS8 Rice University'],\n       ['7', 'United States',\n        'AS27 University of Maryland at College Park'],\n       ['7', 'United States', 'AS18 University of Texas at Austin'],\n       ['7', 'United States', 'AS26 Cornell University'],\n       ['7', 'United States', 'AS26 Cornell University'],\n       ['7', 'United States', 'AS26 Cornell University'],\n       ['7', 'United States', 'AS156 Northeastern University'],\n       ['7', 'Austria', 'AS760 University of Vienna, Austria'],\n       ['7', 'United States',\n        'AS52 University of California, Los Angeles'],\n       ['7', 'United States', 'AS7939 University of Central Florida'],\n       ['7', 'United States', 'AS7939 University of Central Florida'],\n       ['7', 'Japan',\n        'AS2501 The University of Tokyo, Information Technology Center'],\n       ['7', 'United Kingdom', 'AS786 The JANET IP Service'],\n       ['7', 'Singapore', 'AS7472 Computer Centre'],\n       ['7', 'Hong Kong', 'AS3661 The Chinese University of Hong Kong'],\n       ['7', 'Hong Kong', 'AS3661 The Chinese University of Hong Kong'],\n       ['7', 'Germany', 'AS680 service G-WiN'],\n       ['7', 'United States', 'AS209 Qwest Communications Company, LLC'],\n       ['7', 'United Kingdom', 'AS786 The JANET IP Service'],\n       ['7', 'Taiwan', 'AS18047 National Tsing-Hua University'],\n       ['7', 'Spain',\n        'AS13041 CESCA - Anella Cientifica RREN Autonomous System'],\n       ['7', 'Hungary', 'AS2012 ELTENET ELTENET'],\n       ['7', 'Japan', 'AS2500 WIDE Project'],\n       ['7', 'Uruguay', 'AS1797 Uruguay'],\n       ['7', 'United States', 'AS46 Rutgers University'],\n       ['7', 'United States', 'AS46 Rutgers University'],\n       ['7', 'United States',\n        'AS25 University of California at Berkeley'],\n       ['7', 'United States', 'AS6192 University of California at Davis'],\n       ['7', 'Switzerland',\n        'AS559 SWITCH, Swiss Education and Research Network'],\n       ['7', 'France',\n        'AS2200 Reseau National de telecommunications pour la Technologie'],\n       ['7', 'Slovenia', 'AS2107 ARNES'],\n       ['7', 'Russian Federation', 'AS12925 SINP MSU']], dtype='<U64')"
     },
     "execution_count": 12,
     "metadata": {},
     "output_type": "execute_result"
    }
   ],
   "source": [
    "np.array(C[7])"
   ],
   "metadata": {
    "collapsed": false
   }
  },
  {
   "cell_type": "code",
   "execution_count": 13,
   "outputs": [
    {
     "data": {
      "text/plain": "array([['8', 'United States',\n        'AS5739 University of California, Santa Cruz'],\n       ['8', 'Switzerland',\n        'AS559 SWITCH, Swiss Education and Research Network'],\n       ['8', 'United States',\n        'AS52 University of California, Los Angeles'],\n       ['8', 'United States', 'AS5661 USF - UNIVERSITY OF SOUTH FLORIDA'],\n       ['8', 'United Kingdom', 'AS786 The JANET IP Service'],\n       ['8', 'Germany', 'AS680 service G-WiN'],\n       ['8', 'United States', 'AS22925 Allied Telecom Group, LLC'],\n       ['8', 'Austria', 'AS1111 University of Klagenfurt'],\n       ['8', 'United States', 'AS32 Stanford University'],\n       ['8', 'Portugal',\n        'AS1930 Rede Ciencia Tecnologia e Sociedade (RCTS)']],\n      dtype='<U50')"
     },
     "execution_count": 13,
     "metadata": {},
     "output_type": "execute_result"
    }
   ],
   "source": [
    "np.array(C[8])"
   ],
   "metadata": {
    "collapsed": false
   }
  },
  {
   "cell_type": "code",
   "execution_count": 14,
   "outputs": [
    {
     "data": {
      "text/plain": "array([['9', 'United States', 'AS73 University of Washington'],\n       ['9', 'United States', 'AS23329 Open Access Inc.'],\n       ['9', 'United States', 'AS20162 University of Texas at Dallas'],\n       ['9', 'United States', 'AS20162 University of Texas at Dallas'],\n       ['9', 'United States', 'AS4385 Rochester Institute of Technology'],\n       ['9', 'United States', 'AS7212 Vanderbilt University'],\n       ['9', 'Puerto Rico', 'AS5786 University of Puerto Rico'],\n       ['9', 'Singapore', 'AS7472 Computer Centre'],\n       ['9', 'United States',\n        'AS11399 Williams College Center for Computing'],\n       ['9', 'Germany', 'AS12816 Leibniz-Rechenzentrum Muenchen'],\n       ['9', 'Germany', 'AS680 service G-WiN'],\n       ['9', 'Greece', 'AS8522 FORTH Autonomous System'],\n       ['9', 'Taiwan', 'AS17716 National Taiwan University'],\n       ['9', 'Taiwan', 'AS17716 National Taiwan University'],\n       ['9', 'Taiwan',\n        'AS1659 Tiawan Academic Network (TANet) Information Center'],\n       ['9', 'United States', 'AS20130 Depaul University'],\n       ['9', 'Germany', 'AS680 service G-WiN'],\n       ['9', 'Germany', 'AS680 service G-WiN'],\n       ['9', 'Canada', 'AS239 University of Toronto'],\n       ['9', 'Austria', 'AS1111 University of Klagenfurt'],\n       ['9', 'Czech Republic', 'AS2852 CESNET, z.s.p.o.'],\n       ['9', 'Poland', 'AS9112 POZMAN-EDU'],\n       ['9', 'Poland', 'AS9112 POZMAN-EDU'],\n       ['9', 'Japan',\n        'AS17932 Japan Advanced Institute of Science and Technology'],\n       ['9', 'France',\n        'AS2200 Reseau National de telecommunications pour la Technologie'],\n       ['9', 'France',\n        'AS2200 Reseau National de telecommunications pour la Technologie'],\n       ['9', 'United States', 'AS87 Indiana University'],\n       ['9', 'United States', 'AS87 Indiana University'],\n       ['9', 'United States', 'AS55 University of Pennsylvania'],\n       ['9', 'Spain', 'AS766 RedIRIS Autonomous System'],\n       ['9', 'Japan', 'AS2500 WIDE Project'],\n       ['9', 'Japan', 'AS2500 WIDE Project'],\n       ['9', 'United States',\n        'AS25 University of California at Berkeley'],\n       ['9', 'United States',\n        'AS3512 Emory University Systems of Health Care'],\n       ['9', 'Switzerland',\n        'AS559 SWITCH, Swiss Education and Research Network'],\n       ['9', 'Switzerland',\n        'AS559 SWITCH, Swiss Education and Research Network'],\n       ['9', 'Switzerland',\n        'AS559 SWITCH, Swiss Education and Research Network'],\n       ['9', 'Switzerland',\n        'AS559 SWITCH, Swiss Education and Research Network'],\n       ['9', 'United States', 'AS29825 Illinois Institute of Technology'],\n       ['9', 'United States', 'AS71 Hewlett-Packard Company'],\n       ['9', 'Ireland', 'AS1213 HEAnet Limited'],\n       ['9', 'Portugal',\n        'AS1930 Rede Ciencia Tecnologia e Sociedade (RCTS)'],\n       ['9', 'France',\n        'AS2200 Reseau National de telecommunications pour la Technologie'],\n       ['9', 'France',\n        'AS2200 Reseau National de telecommunications pour la Technologie'],\n       ['9', 'United Kingdom', 'AS786 The JANET IP Service'],\n       ['9', 'United Kingdom', 'AS786 The JANET IP Service'],\n       ['9', 'Cyprus', 'AS3268 CYNET'],\n       ['9', 'Czech Republic', 'AS2852 CESNET, z.s.p.o.'],\n       ['9', 'Poland', 'AS5617 Telekomunikacja Polska S.A.'],\n       ['9', 'Poland', 'AS5617 Telekomunikacja Polska S.A.'],\n       ['9', 'Poland', 'AS5617 Telekomunikacja Polska S.A.'],\n       ['9', 'United States', 'AS292 ESnet'],\n       ['9', 'United States', 'AS59 University of Wisconsin Madison'],\n       ['9', 'Canada', 'AS10965 MRNet'],\n       ['9', 'United States', 'AS4983 Intel Corporation'],\n       ['9', 'Brazil', 'AS1916 Rede Nacional de Ensino e Pesquisa'],\n       ['9', 'Brazil', 'AS10881 Universidade Federal do Parana'],\n       ['9', 'Brazil', 'AS1916 Rede Nacional de Ensino e Pesquisa'],\n       ['9', 'Japan', 'AS2500 WIDE Project'],\n       ['9', 'Japan', 'AS2500 WIDE Project'],\n       ['9', 'United States', 'AS33 Hewlett-Packard Company'],\n       ['9', 'United States',\n        'AS3390 University of Missouri - Kansas City'],\n       ['9', 'United States', 'AS111 Boston University'],\n       ['9', 'United States', 'AS4 University of Southern California'],\n       ['9', 'United States', 'AS4 University of Southern California'],\n       ['9', 'Korea, Republic of', 'AS18176 KOOKMIN UNIVERSITY'],\n       ['9', 'Korea, Republic of', 'AS18176 KOOKMIN UNIVERSITY'],\n       ['9', 'Germany', 'AS680 service G-WiN'],\n       ['9', 'United States', 'AS2497 Internet Initiative Japan Inc.'],\n       ['9', 'United States', 'AS2497 Internet Initiative Japan Inc.'],\n       ['9', 'United States', 'AS237 Merit Network Inc.'],\n       ['9', 'United States', 'AS7132 AT&T Internet Services']],\n      dtype='<U64')"
     },
     "execution_count": 14,
     "metadata": {},
     "output_type": "execute_result"
    }
   ],
   "source": [
    "np.array(C[9])"
   ],
   "metadata": {
    "collapsed": false
   }
  }
 ],
 "metadata": {
  "kernelspec": {
   "display_name": "Python 3",
   "language": "python",
   "name": "python3"
  },
  "language_info": {
   "codemirror_mode": {
    "name": "ipython",
    "version": 2
   },
   "file_extension": ".py",
   "mimetype": "text/x-python",
   "name": "python",
   "nbconvert_exporter": "python",
   "pygments_lexer": "ipython2",
   "version": "2.7.6"
  }
 },
 "nbformat": 4,
 "nbformat_minor": 0
}
