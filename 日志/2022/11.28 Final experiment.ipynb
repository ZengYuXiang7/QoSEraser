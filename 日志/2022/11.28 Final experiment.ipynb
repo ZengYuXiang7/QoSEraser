{
 "cells": [
  {
   "cell_type": "markdown",
   "source": [],
   "metadata": {
    "collapsed": false
   }
  },
  {
   "cell_type": "markdown",
   "source": [
    "# Author : yuxiang Zeng\n"
   ],
   "metadata": {
    "collapsed": false
   }
  },
  {
   "cell_type": "markdown",
   "source": [
    "# Density : 0.10"
   ],
   "metadata": {
    "collapsed": false
   }
  },
  {
   "cell_type": "markdown",
   "source": [
    "### retrain"
   ],
   "metadata": {
    "collapsed": false
   }
  },
  {
   "cell_type": "code",
   "execution_count": null,
   "outputs": [],
   "source": [
    "!python Experiment.py --dataset rt --interaction NeuCF --rounds 1 --slice_epochs 40 --density 0.10 --slices 1 --part_type 5 --save_model 0 --processed 0 --retrain 1"
   ],
   "metadata": {
    "collapsed": false
   }
  },
  {
   "cell_type": "code",
   "execution_count": null,
   "outputs": [],
   "source": [
    "!python Experiment.py --dataset tp --interaction NeuCF --rounds 1 --slice_epochs 50 --density 0.10 --slices 1 --part_type 5 --save_model 0 --processed 0 --retrain 1"
   ],
   "metadata": {
    "collapsed": false
   }
  },
  {
   "cell_type": "code",
   "execution_count": null,
   "outputs": [],
   "source": [
    "!python Experiment.py --dataset rt --interaction CSMF  --rounds 1 --slice_epochs 35 --density 0.10 --slices 1 --part_type 5 --save_model 0 --processed 0 --retrain 1"
   ],
   "metadata": {
    "collapsed": false
   }
  },
  {
   "cell_type": "code",
   "execution_count": null,
   "outputs": [],
   "source": [
    "!python Experiment.py --dataset tp --interaction CSMF --rounds 1 --slice_epochs 35 --density 0.10 --slices 1 --part_type 5 --save_model 0 --processed 0 --retrain 1"
   ],
   "metadata": {
    "collapsed": false
   }
  },
  {
   "cell_type": "code",
   "execution_count": null,
   "outputs": [],
   "source": [
    "# !python Experiment.py --dataset rt --interaction NeuGraphMF  --rounds 1 --slice_epochs 20 --density 0.10 --slices 1 --part_type 5 --save_model 0 --processed 0 --retrain 1"
   ],
   "metadata": {
    "collapsed": false
   }
  },
  {
   "cell_type": "code",
   "execution_count": null,
   "outputs": [],
   "source": [
    "# !python Experiment.py --dataset tp --interaction NeuGraphMF --rounds 1 --slice_epochs 20 --density 0.10 --slices 1 --part_type 5 --save_model 0 --processed 0 --retrain 1"
   ],
   "metadata": {
    "collapsed": false
   }
  },
  {
   "cell_type": "code",
   "execution_count": null,
   "outputs": [],
   "source": [
    "!python Experiment.py --dataset rt --interaction Pure_Mf --rounds 1 --slice_epochs 30 --density 0.10 --slices 1 --part_type 5 --save_model 0 --processed 0 --retrain 1"
   ],
   "metadata": {
    "collapsed": false
   }
  },
  {
   "cell_type": "code",
   "execution_count": null,
   "outputs": [],
   "source": [
    "!python Experiment.py --dataset tp --interaction Pure_Mf --rounds 1 --slice_epochs 40 --density 0.10 --slices 1 --part_type 5 --save_model 0 --processed 0 --retrain 1"
   ],
   "metadata": {
    "collapsed": false
   }
  },
  {
   "cell_type": "markdown",
   "source": [
    "*****"
   ],
   "metadata": {
    "collapsed": false
   }
  },
  {
   "cell_type": "markdown",
   "source": [
    "## Density : 0.15"
   ],
   "metadata": {
    "collapsed": false
   }
  },
  {
   "cell_type": "markdown",
   "source": [
    "### retrain"
   ],
   "metadata": {
    "collapsed": false
   }
  },
  {
   "cell_type": "code",
   "execution_count": null,
   "outputs": [],
   "source": [
    "!python Experiment.py --dataset rt --interaction NeuCF --rounds 1 --slice_epochs 40 --density 0.15 --slices 1 --part_type 5 --save_model 0 --processed 0 --retrain 1"
   ],
   "metadata": {
    "collapsed": false
   }
  },
  {
   "cell_type": "code",
   "execution_count": null,
   "outputs": [],
   "source": [
    "!python Experiment.py --dataset tp --interaction NeuCF --rounds 1 --slice_epochs 50 --density 0.15 --slices 1 --part_type 5 --save_model 0 --processed 0 --retrain 1"
   ],
   "metadata": {
    "collapsed": false
   }
  },
  {
   "cell_type": "code",
   "execution_count": null,
   "outputs": [],
   "source": [
    "!python Experiment.py --dataset rt --interaction CSMF  --rounds 1 --slice_epochs 35 --density 0.15 --slices 1 --part_type 5 --save_model 0 --processed 0 --retrain 1"
   ],
   "metadata": {
    "collapsed": false
   }
  },
  {
   "cell_type": "code",
   "execution_count": null,
   "outputs": [],
   "source": [
    "!python Experiment.py --dataset tp --interaction CSMF --rounds 1 --slice_epochs 35 --density 0.15 --slices 1 --part_type 5 --save_model 0 --processed 0 --retrain 1"
   ],
   "metadata": {
    "collapsed": false
   }
  },
  {
   "cell_type": "code",
   "execution_count": null,
   "outputs": [],
   "source": [
    "# !python Experiment.py --dataset rt --interaction NeuGraphMF  --rounds 1 --slice_epochs 10 --density 0.15 --slices 1 --part_type 5 --save_model 0 --processed 0 --retrain 1"
   ],
   "metadata": {
    "collapsed": false
   }
  },
  {
   "cell_type": "code",
   "execution_count": null,
   "outputs": [],
   "source": [
    "# !python Experiment.py --dataset tp --interaction NeuGraphMF --rounds 1 --slice_epochs 10 --density 0.15 --slices 1 --part_type 5 --save_model 0 --processed 0 --retrain 1"
   ],
   "metadata": {
    "collapsed": false
   }
  },
  {
   "cell_type": "code",
   "execution_count": null,
   "outputs": [],
   "source": [
    "!python Experiment.py --dataset rt --interaction Pure_Mf --rounds 1 --slice_epochs 30 --density 0.15 --slices 1 --part_type 5 --save_model 0 --processed 0 --retrain 1"
   ],
   "metadata": {
    "collapsed": false
   }
  },
  {
   "cell_type": "code",
   "execution_count": null,
   "outputs": [],
   "source": [
    "!python Experiment.py --dataset tp --interaction Pure_Mf --rounds 1 --slice_epochs 40 --density 0.15 --slices 1 --part_type 5 --save_model 0 --processed 0 --retrain 1"
   ],
   "metadata": {
    "collapsed": false
   }
  },
  {
   "cell_type": "markdown",
   "source": [
    "*****"
   ],
   "metadata": {
    "collapsed": false
   }
  },
  {
   "cell_type": "markdown",
   "source": [
    "## Density : 0.20"
   ],
   "metadata": {
    "collapsed": false
   }
  },
  {
   "cell_type": "markdown",
   "source": [
    "### retrain"
   ],
   "metadata": {
    "collapsed": false
   }
  },
  {
   "cell_type": "code",
   "execution_count": null,
   "outputs": [],
   "source": [
    "!python Experiment.py --dataset rt --interaction NeuCF --rounds 1 --slice_epochs 40 --density 0.20 --slices 1 --part_type 5 --save_model 0 --processed 0 --retrain 1"
   ],
   "metadata": {
    "collapsed": false
   }
  },
  {
   "cell_type": "code",
   "execution_count": null,
   "outputs": [],
   "source": [
    "!python Experiment.py --dataset tp --interaction NeuCF --rounds 1 --slice_epochs 50 --density 0.20 --slices 1 --part_type 5 --save_model 0 --processed 0 --retrain 1"
   ],
   "metadata": {
    "collapsed": false
   }
  },
  {
   "cell_type": "code",
   "execution_count": null,
   "outputs": [],
   "source": [
    "!python Experiment.py --dataset rt --interaction CSMF  --rounds 1 --slice_epochs 35 --density 0.20 --slices 1 --part_type 5 --save_model 0 --processed 0 --retrain 1"
   ],
   "metadata": {
    "collapsed": false
   }
  },
  {
   "cell_type": "code",
   "execution_count": null,
   "outputs": [],
   "source": [
    "!python Experiment.py --dataset tp --interaction CSMF --rounds 1 --slice_epochs 35 --density 0.20 --slices 1 --part_type 5 --save_model 0 --processed 0 --retrain 1"
   ],
   "metadata": {
    "collapsed": false
   }
  },
  {
   "cell_type": "code",
   "execution_count": null,
   "outputs": [],
   "source": [
    "# !python Experiment.py --dataset rt --interaction NeuGraphMF  --rounds 1 --slice_epochs 10 --density 0.20 --slices 1 --part_type 5 --save_model 0 --processed 0 --retrain 1"
   ],
   "metadata": {
    "collapsed": false
   }
  },
  {
   "cell_type": "code",
   "execution_count": null,
   "outputs": [],
   "source": [
    "# !python Experiment.py --dataset tp --interaction NeuGraphMF --rounds 1 --slice_epochs 10 --density 0.20 --slices 1 --part_type 5 --save_model 0 --processed 0 --retrain 1"
   ],
   "metadata": {
    "collapsed": false
   }
  },
  {
   "cell_type": "code",
   "execution_count": null,
   "outputs": [],
   "source": [
    "!python Experiment.py --dataset rt --interaction Pure_Mf --rounds 1 --slice_epochs 30 --density 0.20 --slices 1 --part_type 5 --save_model 0 --processed 0 --retrain 1"
   ],
   "metadata": {
    "collapsed": false
   }
  },
  {
   "cell_type": "code",
   "execution_count": null,
   "outputs": [],
   "source": [
    "!python Experiment.py --dataset tp --interaction Pure_Mf --rounds 1 --slice_epochs 40 --density 0.20 --slices 1 --part_type 5 --save_model 0 --processed 0 --retrain 1"
   ],
   "metadata": {
    "collapsed": false
   }
  },
  {
   "cell_type": "markdown",
   "source": [
    "*****"
   ],
   "metadata": {
    "collapsed": false
   }
  },
  {
   "cell_type": "markdown",
   "source": [
    "## Density : 0.25"
   ],
   "metadata": {
    "collapsed": false
   }
  },
  {
   "cell_type": "markdown",
   "source": [
    "### retrain"
   ],
   "metadata": {
    "collapsed": false
   }
  },
  {
   "cell_type": "code",
   "execution_count": null,
   "outputs": [],
   "source": [
    "!python Experiment.py --dataset rt --interaction NeuCF --rounds 1 --slice_epochs 40 --density 0.25 --slices 1 --part_type 5 --save_model 0 --processed 0 --retrain 1"
   ],
   "metadata": {
    "collapsed": false
   }
  },
  {
   "cell_type": "code",
   "execution_count": null,
   "outputs": [],
   "source": [
    "!python Experiment.py --dataset tp --interaction NeuCF --rounds 1 --slice_epochs 50 --density 0.25 --slices 1 --part_type 5 --save_model 0 --processed 0 --retrain 1"
   ],
   "metadata": {
    "collapsed": false
   }
  },
  {
   "cell_type": "code",
   "execution_count": null,
   "outputs": [],
   "source": [
    "!python Experiment.py --dataset rt --interaction CSMF  --rounds 1 --slice_epochs 35 --density 0.25 --slices 1 --part_type 5 --save_model 0 --processed 0 --retrain 1"
   ],
   "metadata": {
    "collapsed": false
   }
  },
  {
   "cell_type": "code",
   "execution_count": null,
   "outputs": [],
   "source": [
    "!python Experiment.py --dataset tp --interaction CSMF --rounds 1 --slice_epochs 35 --density 0.25 --slices 1 --part_type 5 --save_model 0 --processed 0 --retrain 1"
   ],
   "metadata": {
    "collapsed": false
   }
  },
  {
   "cell_type": "code",
   "execution_count": null,
   "outputs": [],
   "source": [
    "# !python Experiment.py --dataset rt --interaction NeuGraphMF  --rounds 1 --slice_epochs 10 --density 0.25 --slices 1 --part_type 5 --save_model 0 --processed 0 --retrain 1"
   ],
   "metadata": {
    "collapsed": false
   }
  },
  {
   "cell_type": "code",
   "execution_count": null,
   "outputs": [],
   "source": [
    "# !python Experiment.py --dataset tp --interaction NeuGraphMF --rounds 1 --slice_epochs 10 --density 0.25 --slices 1 --part_type 5 --save_model 0 --processed 0 --retrain 1"
   ],
   "metadata": {
    "collapsed": false
   }
  },
  {
   "cell_type": "code",
   "execution_count": null,
   "outputs": [],
   "source": [
    "!python Experiment.py --dataset rt --interaction Pure_Mf --rounds 1 --slice_epochs 30 --density 0.25 --slices 1 --part_type 5 --save_model 0 --processed 0 --retrain 1"
   ],
   "metadata": {
    "collapsed": false
   }
  },
  {
   "cell_type": "code",
   "execution_count": null,
   "outputs": [],
   "source": [
    "!python Experiment.py --dataset tp --interaction Pure_Mf --rounds 1 --slice_epochs 40 --density 0.25 --slices 1 --part_type 5 --save_model 0 --processed 0 --retrain 1"
   ],
   "metadata": {
    "collapsed": false
   }
  },
  {
   "cell_type": "markdown",
   "source": [
    "*****"
   ],
   "metadata": {
    "collapsed": false
   }
  },
  {
   "cell_type": "markdown",
   "source": [
    "## Density : 0.30"
   ],
   "metadata": {
    "collapsed": false
   }
  },
  {
   "cell_type": "markdown",
   "source": [
    "### retrain"
   ],
   "metadata": {
    "collapsed": false
   }
  },
  {
   "cell_type": "code",
   "execution_count": null,
   "outputs": [],
   "source": [
    "!python Experiment.py --dataset rt --interaction NeuCF --rounds 1 --slice_epochs 40 --density 0.30 --slices 1 --part_type 5 --save_model 0 --processed 0 --retrain 1"
   ],
   "metadata": {
    "collapsed": false
   }
  },
  {
   "cell_type": "code",
   "execution_count": null,
   "outputs": [],
   "source": [
    "!python Experiment.py --dataset tp --interaction NeuCF --rounds 1 --slice_epochs 50 --density 0.30 --slices 1 --part_type 5 --save_model 0 --processed 0 --retrain 1"
   ],
   "metadata": {
    "collapsed": false
   }
  },
  {
   "cell_type": "code",
   "execution_count": null,
   "outputs": [],
   "source": [
    "!python Experiment.py --dataset rt --interaction CSMF  --rounds 1 --slice_epochs 35 --density 0.30 --slices 1 --part_type 5 --save_model 0 --processed 0 --retrain 1"
   ],
   "metadata": {
    "collapsed": false
   }
  },
  {
   "cell_type": "code",
   "execution_count": null,
   "outputs": [],
   "source": [
    "!python Experiment.py --dataset tp --interaction CSMF --rounds 1 --slice_epochs 35 --density 0.30 --slices 1 --part_type 5 --save_model 0 --processed 0 --retrain 1"
   ],
   "metadata": {
    "collapsed": false
   }
  },
  {
   "cell_type": "code",
   "execution_count": null,
   "outputs": [],
   "source": [
    "# !python Experiment.py --dataset rt --interaction NeuGraphMF  --rounds 1 --slice_epochs 10 --density 0.30 --slices 1 --part_type 5 --save_model 0 --processed 0 --retrain 1"
   ],
   "metadata": {
    "collapsed": false
   }
  },
  {
   "cell_type": "code",
   "execution_count": null,
   "outputs": [],
   "source": [
    "# !python Experiment.py --dataset tp --interaction NeuGraphMF --rounds 1 --slice_epochs 10 --density 0.30 --slices 1 --part_type 5 --save_model 0 --processed 0 --retrain 1"
   ],
   "metadata": {
    "collapsed": false
   }
  },
  {
   "cell_type": "code",
   "execution_count": null,
   "outputs": [],
   "source": [
    "!python Experiment.py --dataset rt --interaction Pure_Mf --rounds 1 --slice_epochs 30 --density 0.30 --slices 1 --part_type 5 --save_model 0 --processed 0 --retrain 1"
   ],
   "metadata": {
    "collapsed": false
   }
  },
  {
   "cell_type": "code",
   "execution_count": null,
   "outputs": [],
   "source": [
    "!python Experiment.py --dataset tp --interaction Pure_Mf --rounds 1 --slice_epochs 40 --density 0.30 --slices 1 --part_type 5 --save_model 0 --processed 0 --retrain 1"
   ],
   "metadata": {
    "collapsed": false
   }
  },
  {
   "cell_type": "markdown",
   "source": [
    "# Density : 0.10"
   ],
   "metadata": {
    "collapsed": false
   }
  },
  {
   "cell_type": "markdown",
   "source": [
    "### SISA2"
   ],
   "metadata": {
    "collapsed": false
   }
  },
  {
   "cell_type": "code",
   "execution_count": null,
   "outputs": [],
   "source": [
    "!python Experiment.py --dataset rt --interaction NeuCF --rounds 1 --slice_epochs 20 --agg_epochs 10 --density 0.10 --slices 10 --part_type 2 --save_model 0 --processed 1"
   ],
   "metadata": {
    "collapsed": false
   }
  },
  {
   "cell_type": "code",
   "execution_count": null,
   "outputs": [],
   "source": [
    "!python Experiment.py --dataset tp --interaction NeuCF --rounds 1 --slice_epochs 20 --agg_epochs 10 --density 0.10 --slices 10 --part_type 2 --save_model 0 --processed 1"
   ],
   "metadata": {
    "collapsed": false
   }
  },
  {
   "cell_type": "code",
   "execution_count": null,
   "outputs": [],
   "source": [
    "!python Experiment.py --dataset rt --interaction CSMF --rounds 1 --slice_epochs 20 --agg_epochs 10 --density 0.10 --slices 10 --part_type 2 --save_model 0 --processed 1"
   ],
   "metadata": {
    "collapsed": false
   }
  },
  {
   "cell_type": "code",
   "execution_count": null,
   "outputs": [],
   "source": [
    "!python Experiment.py --dataset tp --interaction CSMF --rounds 1 --slice_epochs 20 --agg_epochs 10 --density 0.10 --slices 10 --part_type 2 --save_model 0 --processed 1"
   ],
   "metadata": {
    "collapsed": false
   }
  },
  {
   "cell_type": "code",
   "execution_count": null,
   "outputs": [],
   "source": [
    "# !python Experiment.py --dataset rt --interaction NeuGraphMF --rounds 1 --slice_epochs 20 --agg_epochs 10 --density 0.10 --slices 10 --part_type 2 --save_model 0 --processed 1"
   ],
   "metadata": {
    "collapsed": false
   }
  },
  {
   "cell_type": "code",
   "execution_count": null,
   "outputs": [],
   "source": [
    "# !python Experiment.py --dataset rt --interaction NeuGraphMF --rounds 1 --slice_epochs 20 --agg_epochs 10 --density 0.10 --slices 10 --part_type 2 --save_model 0 --processed 1"
   ],
   "metadata": {
    "collapsed": false
   }
  },
  {
   "cell_type": "code",
   "execution_count": null,
   "outputs": [],
   "source": [
    "!python Experiment.py --dataset rt --interaction Pure_Mf --rounds 1 --slice_epochs 20 --agg_epochs 10 --density 0.10 --slices 10 --part_type 2 --save_model 0 --processed 1"
   ],
   "metadata": {
    "collapsed": false
   }
  },
  {
   "cell_type": "code",
   "execution_count": null,
   "outputs": [],
   "source": [
    "!python Experiment.py --dataset tp --interaction Pure_Mf --rounds 1 --slice_epochs 20 --agg_epochs 10 --density 0.10 --slices 10 --part_type 2 --save_model 0 --processed 1"
   ],
   "metadata": {
    "collapsed": false
   }
  },
  {
   "cell_type": "markdown",
   "source": [
    "*****"
   ],
   "metadata": {
    "collapsed": false
   }
  },
  {
   "cell_type": "markdown",
   "source": [
    "## Density : 0.15"
   ],
   "metadata": {
    "collapsed": false
   }
  },
  {
   "cell_type": "markdown",
   "source": [
    "### SISA2"
   ],
   "metadata": {
    "collapsed": false
   }
  },
  {
   "cell_type": "code",
   "execution_count": null,
   "outputs": [],
   "source": [
    "!python Experiment.py --dataset rt --interaction NeuCF --rounds 1 --slice_epochs 20 --agg_epochs 10 --density 0.15 --slices 10 --part_type 2 --save_model 0 --processed 1"
   ],
   "metadata": {
    "collapsed": false
   }
  },
  {
   "cell_type": "code",
   "execution_count": null,
   "outputs": [],
   "source": [
    "!python Experiment.py --dataset tp --interaction NeuCF --rounds 1 --slice_epochs 20 --agg_epochs 10 --density 0.15 --slices 10 --part_type 2 --save_model 0 --processed 1"
   ],
   "metadata": {
    "collapsed": false
   }
  },
  {
   "cell_type": "code",
   "execution_count": null,
   "outputs": [],
   "source": [
    "!python Experiment.py --dataset rt --interaction CSMF --rounds 1 --slice_epochs 20 --agg_epochs 10 --density 0.15 --slices 10 --part_type 2 --save_model 0 --processed 1"
   ],
   "metadata": {
    "collapsed": false
   }
  },
  {
   "cell_type": "code",
   "execution_count": null,
   "outputs": [],
   "source": [
    "!python Experiment.py --dataset tp --interaction CSMF --rounds 1 --slice_epochs 20 --agg_epochs 10 --density 0.15 --slices 10 --part_type 2 --save_model 0 --processed 1"
   ],
   "metadata": {
    "collapsed": false
   }
  },
  {
   "cell_type": "code",
   "execution_count": null,
   "outputs": [],
   "source": [
    "# !python Experiment.py --dataset rt --interaction NeuGraphMF --rounds 1 --slice_epochs 20 --agg_epochs 10 --density 0.15 --slices 10 --part_type 2 --save_model 0 --processed 1"
   ],
   "metadata": {
    "collapsed": false
   }
  },
  {
   "cell_type": "code",
   "execution_count": null,
   "outputs": [],
   "source": [
    "# !python Experiment.py --dataset rt --interaction NeuGraphMF --rounds 1 --slice_epochs 20 --agg_epochs 10 --density 0.15 --slices 10 --part_type 2 --save_model 0 --processed 1"
   ],
   "metadata": {
    "collapsed": false
   }
  },
  {
   "cell_type": "code",
   "execution_count": null,
   "outputs": [],
   "source": [
    "!python Experiment.py --dataset rt --interaction Pure_Mf --rounds 1 --slice_epochs 20 --agg_epochs 10 --density 0.15 --slices 10 --part_type 2 --save_model 0 --processed 1"
   ],
   "metadata": {
    "collapsed": false
   }
  },
  {
   "cell_type": "code",
   "execution_count": null,
   "outputs": [],
   "source": [
    "!python Experiment.py --dataset tp --interaction Pure_Mf --rounds 1 --slice_epochs 20 --agg_epochs 10 --density 0.15 --slices 10 --part_type 2 --save_model 0 --processed 1"
   ],
   "metadata": {
    "collapsed": false
   }
  },
  {
   "cell_type": "markdown",
   "source": [
    "*****"
   ],
   "metadata": {
    "collapsed": false
   }
  },
  {
   "cell_type": "markdown",
   "source": [
    "## Density : 0.20"
   ],
   "metadata": {
    "collapsed": false
   }
  },
  {
   "cell_type": "markdown",
   "source": [
    "### SISA2"
   ],
   "metadata": {
    "collapsed": false
   }
  },
  {
   "cell_type": "code",
   "execution_count": null,
   "outputs": [],
   "source": [
    "!python Experiment.py --dataset rt --interaction NeuCF --rounds 1 --slice_epochs 20 --agg_epochs 10 --density 0.20 --slices 10 --part_type 2 --save_model 0 --processed 1"
   ],
   "metadata": {
    "collapsed": false
   }
  },
  {
   "cell_type": "code",
   "execution_count": null,
   "outputs": [],
   "source": [
    "!python Experiment.py --dataset tp --interaction NeuCF --rounds 1 --slice_epochs 20 --agg_epochs 10 --density 0.20 --slices 10 --part_type 2 --save_model 0 --processed 1"
   ],
   "metadata": {
    "collapsed": false
   }
  },
  {
   "cell_type": "code",
   "execution_count": null,
   "outputs": [],
   "source": [
    "!python Experiment.py --dataset rt --interaction CSMF --rounds 1 --slice_epochs 20 --agg_epochs 10 --density 0.20 --slices 10 --part_type 2 --save_model 0 --processed 1"
   ],
   "metadata": {
    "collapsed": false
   }
  },
  {
   "cell_type": "code",
   "execution_count": null,
   "outputs": [],
   "source": [
    "!python Experiment.py --dataset tp --interaction CSMF --rounds 1 --slice_epochs 20 --agg_epochs 10 --density 0.20 --slices 10 --part_type 2 --save_model 0 --processed 1"
   ],
   "metadata": {
    "collapsed": false
   }
  },
  {
   "cell_type": "code",
   "execution_count": null,
   "outputs": [],
   "source": [
    "# !python Experiment.py --dataset rt --interaction NeuGraphMF --rounds 1 --slice_epochs 20 --agg_epochs 10 --density 0.20 --slices 10 --part_type 2 --save_model 0 --processed 1"
   ],
   "metadata": {
    "collapsed": false
   }
  },
  {
   "cell_type": "code",
   "execution_count": null,
   "outputs": [],
   "source": [
    "# !python Experiment.py --dataset rt --interaction NeuGraphMF --rounds 1 --slice_epochs 20 --agg_epochs 10 --density 0.20 --slices 10 --part_type 2 --save_model 0 --processed 1"
   ],
   "metadata": {
    "collapsed": false
   }
  },
  {
   "cell_type": "code",
   "execution_count": null,
   "outputs": [],
   "source": [
    "!python Experiment.py --dataset rt --interaction Pure_Mf --rounds 1 --slice_epochs 20 --agg_epochs 10 --density 0.20 --slices 10 --part_type 2 --save_model 0 --processed 1"
   ],
   "metadata": {
    "collapsed": false
   }
  },
  {
   "cell_type": "code",
   "execution_count": null,
   "outputs": [],
   "source": [
    "!python Experiment.py --dataset tp --interaction Pure_Mf --rounds 1 --slice_epochs 20 --agg_epochs 10 --density 0.20 --slices 10 --part_type 2 --save_model 0 --processed 1"
   ],
   "metadata": {
    "collapsed": false
   }
  },
  {
   "cell_type": "markdown",
   "source": [
    "*****"
   ],
   "metadata": {
    "collapsed": false
   }
  },
  {
   "cell_type": "markdown",
   "source": [
    "## Density : 0.20"
   ],
   "metadata": {
    "collapsed": false
   }
  },
  {
   "cell_type": "markdown",
   "source": [
    "### SISA2"
   ],
   "metadata": {
    "collapsed": false
   }
  },
  {
   "cell_type": "code",
   "execution_count": null,
   "outputs": [],
   "source": [
    "!python Experiment.py --dataset rt --interaction NeuCF --rounds 1 --slice_epochs 20 --agg_epochs 10 --density 0.25 --slices 10 --part_type 2 --save_model 0 --processed 1"
   ],
   "metadata": {
    "collapsed": false
   }
  },
  {
   "cell_type": "code",
   "execution_count": null,
   "outputs": [],
   "source": [
    "!python Experiment.py --dataset tp --interaction NeuCF --rounds 1 --slice_epochs 20 --agg_epochs 10 --density 0.25 --slices 10 --part_type 2 --save_model 0 --processed 1"
   ],
   "metadata": {
    "collapsed": false
   }
  },
  {
   "cell_type": "code",
   "execution_count": null,
   "outputs": [],
   "source": [
    "!python Experiment.py --dataset rt --interaction CSMF --rounds 1 --slice_epochs 20 --agg_epochs 10 --density 0.25 --slices 10 --part_type 2 --save_model 0 --processed 1"
   ],
   "metadata": {
    "collapsed": false
   }
  },
  {
   "cell_type": "code",
   "execution_count": null,
   "outputs": [],
   "source": [
    "!python Experiment.py --dataset tp --interaction CSMF --rounds 1 --slice_epochs 20 --agg_epochs 10 --density 0.25 --slices 10 --part_type 2 --save_model 0 --processed 1"
   ],
   "metadata": {
    "collapsed": false
   }
  },
  {
   "cell_type": "code",
   "execution_count": null,
   "outputs": [],
   "source": [
    "# !python Experiment.py --dataset rt --interaction NeuGraphMF --rounds 1 --slice_epochs 20 --agg_epochs 10 --density 0.25 --slices 10 --part_type 2 --save_model 0 --processed 1"
   ],
   "metadata": {
    "collapsed": false
   }
  },
  {
   "cell_type": "code",
   "execution_count": null,
   "outputs": [],
   "source": [
    "# !python Experiment.py --dataset rt --interaction NeuGraphMF --rounds 1 --slice_epochs 20 --agg_epochs 10 --density 0.25 --slices 10 --part_type 2 --save_model 0 --processed 1"
   ],
   "metadata": {
    "collapsed": false
   }
  },
  {
   "cell_type": "code",
   "execution_count": null,
   "outputs": [],
   "source": [
    "!python Experiment.py --dataset rt --interaction Pure_Mf --rounds 1 --slice_epochs 20 --agg_epochs 10 --density 0.25 --slices 10 --part_type 2 --save_model 0 --processed 1"
   ],
   "metadata": {
    "collapsed": false
   }
  },
  {
   "cell_type": "code",
   "execution_count": null,
   "outputs": [],
   "source": [
    "!python Experiment.py --dataset tp --interaction Pure_Mf --rounds 1 --slice_epochs 20 --agg_epochs 10 --density 0.25 --slices 10 --part_type 2 --save_model 0 --processed 1"
   ],
   "metadata": {
    "collapsed": false
   }
  },
  {
   "cell_type": "markdown",
   "source": [
    "*****"
   ],
   "metadata": {
    "collapsed": false
   }
  },
  {
   "cell_type": "markdown",
   "source": [
    "## Density : 0.30"
   ],
   "metadata": {
    "collapsed": false
   }
  },
  {
   "cell_type": "markdown",
   "source": [
    "### SISA2"
   ],
   "metadata": {
    "collapsed": false
   }
  },
  {
   "cell_type": "code",
   "execution_count": null,
   "outputs": [],
   "source": [
    "!python Experiment.py --dataset rt --interaction NeuCF --rounds 1 --slice_epochs 20 --agg_epochs 10 --density 0.30 --slices 10 --part_type 2 --save_model 0 --processed 1"
   ],
   "metadata": {
    "collapsed": false
   }
  },
  {
   "cell_type": "code",
   "execution_count": null,
   "outputs": [],
   "source": [
    "!python Experiment.py --dataset tp --interaction NeuCF --rounds 1 --slice_epochs 20 --agg_epochs 10 --density 0.30 --slices 10 --part_type 2 --save_model 0 --processed 1"
   ],
   "metadata": {
    "collapsed": false
   }
  },
  {
   "cell_type": "code",
   "execution_count": null,
   "outputs": [],
   "source": [
    "!python Experiment.py --dataset rt --interaction CSMF --rounds 1 --slice_epochs 20 --agg_epochs 10 --density 0.30 --slices 10 --part_type 2 --save_model 0 --processed 1"
   ],
   "metadata": {
    "collapsed": false
   }
  },
  {
   "cell_type": "code",
   "execution_count": null,
   "outputs": [],
   "source": [
    "!python Experiment.py --dataset tp --interaction CSMF --rounds 1 --slice_epochs 20 --agg_epochs 10 --density 0.30 --slices 10 --part_type 2 --save_model 0 --processed 1"
   ],
   "metadata": {
    "collapsed": false
   }
  },
  {
   "cell_type": "code",
   "execution_count": null,
   "outputs": [],
   "source": [
    "# !python Experiment.py --dataset rt --interaction NeuGraphMF --rounds 1 --slice_epochs 20 --agg_epochs 10 --density 0.30 --slices 10 --part_type 2 --save_model 0 --processed 1"
   ],
   "metadata": {
    "collapsed": false
   }
  },
  {
   "cell_type": "code",
   "execution_count": null,
   "outputs": [],
   "source": [
    "# !python Experiment.py --dataset rt --interaction NeuGraphMF --rounds 1 --slice_epochs 20 --agg_epochs 10 --density 0.30 --slices 10 --part_type 2 --save_model 0 --processed 1"
   ],
   "metadata": {
    "collapsed": false
   }
  },
  {
   "cell_type": "code",
   "execution_count": null,
   "outputs": [],
   "source": [
    "!python Experiment.py --dataset rt --interaction Pure_Mf --rounds 1 --slice_epochs 20 --agg_epochs 10 --density 0.30 --slices 10 --part_type 2 --save_model 0 --processed 1"
   ],
   "metadata": {
    "collapsed": false
   }
  },
  {
   "cell_type": "code",
   "execution_count": null,
   "outputs": [],
   "source": [
    "!python Experiment.py --dataset tp --interaction Pure_Mf --rounds 1 --slice_epochs 20 --agg_epochs 10 --density 0.30 --slices 10 --part_type 2 --save_model 0 --processed 1"
   ],
   "metadata": {
    "collapsed": false
   }
  },
  {
   "cell_type": "markdown",
   "source": [
    "*****"
   ],
   "metadata": {
    "collapsed": false
   }
  },
  {
   "cell_type": "markdown",
   "source": [
    "# Density : 0.10"
   ],
   "metadata": {
    "collapsed": false
   }
  },
  {
   "cell_type": "markdown",
   "source": [
    "### SISA"
   ],
   "metadata": {
    "collapsed": false
   }
  },
  {
   "cell_type": "code",
   "execution_count": null,
   "outputs": [],
   "source": [
    "!python Experiment.py --dataset rt --interaction NeuCF --rounds 1 --slice_epochs 25 --agg_epochs 10 --density 0.10 --slices 10 --part_type 3 --processed 1"
   ],
   "metadata": {
    "collapsed": false
   }
  },
  {
   "cell_type": "code",
   "execution_count": null,
   "outputs": [],
   "source": [
    "!python Experiment.py --dataset tp --interaction NeuCF --rounds 1 --slice_epochs 25 --agg_epochs 10 --density 0.10 --slices 10 --part_type 3 --processed 1"
   ],
   "metadata": {
    "collapsed": false
   }
  },
  {
   "cell_type": "code",
   "execution_count": null,
   "outputs": [],
   "source": [
    "!python Experiment.py --dataset rt --interaction CSMF --rounds 1 --slice_epochs 20 --agg_epochs 15 --density 0.10 --slices 10 --part_type 3 --processed 1"
   ],
   "metadata": {
    "collapsed": false
   }
  },
  {
   "cell_type": "code",
   "execution_count": null,
   "outputs": [],
   "source": [
    "!python Experiment.py --dataset tp --interaction CSMF --rounds 1 --slice_epochs 25 --agg_epochs 15 --density 0.10 --slices 10 --part_type 3 --processed 1"
   ],
   "metadata": {
    "collapsed": false
   }
  },
  {
   "cell_type": "code",
   "execution_count": null,
   "outputs": [],
   "source": [
    "# !python Experiment.py --dataset rt --interaction NeuGraphMF --rounds 1 --slice_epochs 20 --agg_epochs 10 --density 0.10 --slices 10 --part_type 3 --processed 1"
   ],
   "metadata": {
    "collapsed": false
   }
  },
  {
   "cell_type": "code",
   "execution_count": null,
   "outputs": [],
   "source": [
    "# !python Experiment.py --dataset tp --interaction NeuGraphMF --rounds 1 --slice_epochs 20 --agg_epochs 10 --density 0.10 --slices 10 --part_type 3 --processed 1"
   ],
   "metadata": {
    "collapsed": false
   }
  },
  {
   "cell_type": "code",
   "execution_count": null,
   "outputs": [],
   "source": [
    "!python Experiment.py --dataset rt --interaction Pure_Mf --rounds 1 --slice_epochs 25 --agg_epochs 10 --density 0.10 --slices 10 --part_type 3 --processed 1"
   ],
   "metadata": {
    "collapsed": false
   }
  },
  {
   "cell_type": "code",
   "execution_count": null,
   "outputs": [],
   "source": [
    "!python Experiment.py --dataset tp --interaction Pure_Mf --rounds 1 --slice_epochs 25 --agg_epochs 10 --density 0.10 --slices 10 --part_type 3 --processed 1"
   ],
   "metadata": {
    "collapsed": false
   }
  },
  {
   "cell_type": "markdown",
   "source": [
    "*****"
   ],
   "metadata": {
    "collapsed": false
   }
  },
  {
   "cell_type": "markdown",
   "source": [
    "## Density : 0.15"
   ],
   "metadata": {
    "collapsed": false
   }
  },
  {
   "cell_type": "markdown",
   "source": [
    "### SISA"
   ],
   "metadata": {
    "collapsed": false
   }
  },
  {
   "cell_type": "code",
   "execution_count": null,
   "outputs": [],
   "source": [
    "!python Experiment.py --dataset rt --interaction NeuCF --rounds 1 --slice_epochs 25 --agg_epochs 10 --density 0.15 --slices 10 --part_type 3 --processed 1"
   ],
   "metadata": {
    "collapsed": false
   }
  },
  {
   "cell_type": "code",
   "execution_count": null,
   "outputs": [],
   "source": [
    "!python Experiment.py --dataset tp --interaction NeuCF --rounds 1 --slice_epochs 25 --agg_epochs 10 --density 0.15 --slices 10 --part_type 3 --processed 1"
   ],
   "metadata": {
    "collapsed": false
   }
  },
  {
   "cell_type": "code",
   "execution_count": null,
   "outputs": [],
   "source": [
    "!python Experiment.py --dataset rt --interaction CSMF --rounds 1 --slice_epochs 25 --agg_epochs 15 --density 0.15 --slices 10 --part_type 3 --processed 1"
   ],
   "metadata": {
    "collapsed": false
   }
  },
  {
   "cell_type": "code",
   "execution_count": null,
   "outputs": [],
   "source": [
    "!python Experiment.py --dataset tp --interaction CSMF --rounds 1 --slice_epochs 25 --agg_epochs 15 --density 0.15 --slices 10 --part_type 3 --processed 1"
   ],
   "metadata": {
    "collapsed": false
   }
  },
  {
   "cell_type": "code",
   "execution_count": null,
   "outputs": [],
   "source": [
    "# !python Experiment.py --dataset rt --interaction NeuGraphMF --rounds 1 --slice_epochs 20 --agg_epochs 10 --density 0.15 --slices 10 --part_type 3 --processed 1"
   ],
   "metadata": {
    "collapsed": false
   }
  },
  {
   "cell_type": "code",
   "execution_count": null,
   "outputs": [],
   "source": [
    "# !python Experiment.py --dataset tp --interaction NeuGraphMF --rounds 1 --slice_epochs 20 --agg_epochs 10 --density 0.15 --slices 10 --part_type 3 --processed 1"
   ],
   "metadata": {
    "collapsed": false
   }
  },
  {
   "cell_type": "code",
   "execution_count": null,
   "outputs": [],
   "source": [
    "!python Experiment.py --dataset rt --interaction Pure_Mf --rounds 1 --slice_epochs 25 --agg_epochs 10 --density 0.15 --slices 10 --part_type 3 --processed 1"
   ],
   "metadata": {
    "collapsed": false
   }
  },
  {
   "cell_type": "code",
   "execution_count": null,
   "outputs": [],
   "source": [
    "!python Experiment.py --dataset tp --interaction Pure_Mf --rounds 1 --slice_epochs 25 --agg_epochs 10 --density 0.15 --slices 10 --part_type 3 --processed 1"
   ],
   "metadata": {
    "collapsed": false
   }
  },
  {
   "cell_type": "markdown",
   "source": [
    "*****"
   ],
   "metadata": {
    "collapsed": false
   }
  },
  {
   "cell_type": "markdown",
   "source": [
    "## Density : 0.20"
   ],
   "metadata": {
    "collapsed": false
   }
  },
  {
   "cell_type": "markdown",
   "source": [
    "### SISA"
   ],
   "metadata": {
    "collapsed": false
   }
  },
  {
   "cell_type": "code",
   "execution_count": null,
   "outputs": [],
   "source": [
    "!python Experiment.py --dataset rt --interaction NeuCF --rounds 1 --slice_epochs 25 --agg_epochs 10 --density 0.20 --slices 10 --part_type 3 --processed 1"
   ],
   "metadata": {
    "collapsed": false
   }
  },
  {
   "cell_type": "code",
   "execution_count": null,
   "outputs": [],
   "source": [
    "!python Experiment.py --dataset tp --interaction NeuCF --rounds 1 --slice_epochs 25 --agg_epochs 10 --density 0.20 --slices 10 --part_type 3 --processed 1"
   ],
   "metadata": {
    "collapsed": false
   }
  },
  {
   "cell_type": "code",
   "execution_count": null,
   "outputs": [],
   "source": [
    "!python Experiment.py --dataset rt --interaction CSMF --rounds 1 --slice_epochs 25 --agg_epochs 15 --density 0.20 --slices 10 --part_type 3 --processed 1"
   ],
   "metadata": {
    "collapsed": false
   }
  },
  {
   "cell_type": "code",
   "execution_count": null,
   "outputs": [],
   "source": [
    "!python Experiment.py --dataset tp --interaction CSMF --rounds 1 --slice_epochs 25 --agg_epochs 15 --density 0.20 --slices 10 --part_type 3 --processed 1"
   ],
   "metadata": {
    "collapsed": false
   }
  },
  {
   "cell_type": "code",
   "execution_count": null,
   "outputs": [],
   "source": [
    "# !python Experiment.py --dataset rt --interaction NeuGraphMF --rounds 1 --slice_epochs 20 --agg_epochs 10 --density 0.20 --slices 10 --part_type 3 --processed 1"
   ],
   "metadata": {
    "collapsed": false
   }
  },
  {
   "cell_type": "code",
   "execution_count": null,
   "outputs": [],
   "source": [
    "# !python Experiment.py --dataset tp --interaction NeuGraphMF --rounds 1 --slice_epochs 20 --agg_epochs 10 --density 0.20 --slices 10 --part_type 3 --processed 1"
   ],
   "metadata": {
    "collapsed": false
   }
  },
  {
   "cell_type": "code",
   "execution_count": null,
   "outputs": [],
   "source": [
    "!python Experiment.py --dataset rt --interaction Pure_Mf --rounds 1 --slice_epochs 25 --agg_epochs 10 --density 0.20 --slices 10 --part_type 3 --processed 1"
   ],
   "metadata": {
    "collapsed": false
   }
  },
  {
   "cell_type": "code",
   "execution_count": null,
   "outputs": [],
   "source": [
    "!python Experiment.py --dataset tp --interaction Pure_Mf --rounds 1 --slice_epochs 25 --agg_epochs 10 --density 0.20 --slices 10 --part_type 3 --processed 1"
   ],
   "metadata": {
    "collapsed": false
   }
  },
  {
   "cell_type": "markdown",
   "source": [
    "*****"
   ],
   "metadata": {
    "collapsed": false
   }
  },
  {
   "cell_type": "markdown",
   "source": [
    "## Density : 0.25"
   ],
   "metadata": {
    "collapsed": false
   }
  },
  {
   "cell_type": "markdown",
   "source": [
    "### SISA"
   ],
   "metadata": {
    "collapsed": false
   }
  },
  {
   "cell_type": "code",
   "execution_count": null,
   "outputs": [],
   "source": [
    "!python Experiment.py --dataset rt --interaction NeuCF --rounds 1 --slice_epochs 25 --agg_epochs 10 --density 0.25 --slices 10 --part_type 3 --processed 1"
   ],
   "metadata": {
    "collapsed": false
   }
  },
  {
   "cell_type": "code",
   "execution_count": null,
   "outputs": [],
   "source": [
    "!python Experiment.py --dataset tp --interaction NeuCF --rounds 1 --slice_epochs 25 --agg_epochs 10 --density 0.25 --slices 10 --part_type 3 --processed 1"
   ],
   "metadata": {
    "collapsed": false
   }
  },
  {
   "cell_type": "code",
   "execution_count": null,
   "outputs": [],
   "source": [
    "!python Experiment.py --dataset rt --interaction CSMF --rounds 1 --slice_epochs 25 --agg_epochs 15 --density 0.25 --slices 10 --part_type 3 --processed 1"
   ],
   "metadata": {
    "collapsed": false
   }
  },
  {
   "cell_type": "code",
   "execution_count": null,
   "outputs": [],
   "source": [
    "!python Experiment.py --dataset tp --interaction CSMF --rounds 1 --slice_epochs 25 --agg_epochs 15 --density 0.25 --slices 10 --part_type 3 --processed 1"
   ],
   "metadata": {
    "collapsed": false
   }
  },
  {
   "cell_type": "code",
   "execution_count": null,
   "outputs": [],
   "source": [
    "# !python Experiment.py --dataset rt --interaction NeuGraphMF --rounds 1 --slice_epochs 20 --agg_epochs 10 --density 0.25 --slices 10 --part_type 3 --processed 1"
   ],
   "metadata": {
    "collapsed": false
   }
  },
  {
   "cell_type": "code",
   "execution_count": null,
   "outputs": [],
   "source": [
    "# !python Experiment.py --dataset tp --interaction NeuGraphMF --rounds 1 --slice_epochs 20 --agg_epochs 10 --density 0.25 --slices 10 --part_type 3 --processed 1"
   ],
   "metadata": {
    "collapsed": false
   }
  },
  {
   "cell_type": "code",
   "execution_count": null,
   "outputs": [],
   "source": [
    "!python Experiment.py --dataset rt --interaction Pure_Mf --rounds 1 --slice_epochs 25 --agg_epochs 10 --density 0.25 --slices 10 --part_type 3 --processed 1"
   ],
   "metadata": {
    "collapsed": false
   }
  },
  {
   "cell_type": "code",
   "execution_count": null,
   "outputs": [],
   "source": [
    "!python Experiment.py --dataset tp --interaction Pure_Mf --rounds 1 --slice_epochs 25 --agg_epochs 10 --density 0.25 --slices 10 --part_type 3 --processed 1"
   ],
   "metadata": {
    "collapsed": false
   }
  },
  {
   "cell_type": "markdown",
   "source": [
    "*****"
   ],
   "metadata": {
    "collapsed": false
   }
  },
  {
   "cell_type": "markdown",
   "source": [
    "## Density : 0.30"
   ],
   "metadata": {
    "collapsed": false
   }
  },
  {
   "cell_type": "markdown",
   "source": [
    "### SISA"
   ],
   "metadata": {
    "collapsed": false
   }
  },
  {
   "cell_type": "code",
   "execution_count": null,
   "outputs": [],
   "source": [
    "!python Experiment.py --dataset rt --interaction NeuCF --rounds 1 --slice_epochs 25 --agg_epochs 10 --density 0.30 --slices 10 --part_type 3 --processed 1"
   ],
   "metadata": {
    "collapsed": false
   }
  },
  {
   "cell_type": "code",
   "execution_count": null,
   "outputs": [],
   "source": [
    "!python Experiment.py --dataset tp --interaction NeuCF --rounds 1 --slice_epochs 25 --agg_epochs 10 --density 0.30 --slices 10 --part_type 3 --processed 1"
   ],
   "metadata": {
    "collapsed": false
   }
  },
  {
   "cell_type": "code",
   "execution_count": null,
   "outputs": [],
   "source": [
    "!python Experiment.py --dataset rt --interaction CSMF --rounds 1 --slice_epochs 25 --agg_epochs 15 --density 0.30 --slices 10 --part_type 3 --processed 1"
   ],
   "metadata": {
    "collapsed": false
   }
  },
  {
   "cell_type": "code",
   "execution_count": null,
   "outputs": [],
   "source": [
    "!python Experiment.py --dataset tp --interaction CSMF --rounds 1 --slice_epochs 25 --agg_epochs 15 --density 0.30 --slices 10 --part_type 3 --processed 1"
   ],
   "metadata": {
    "collapsed": false
   }
  },
  {
   "cell_type": "code",
   "execution_count": null,
   "outputs": [],
   "source": [
    "# !python Experiment.py --dataset rt --interaction NeuGraphMF --rounds 1 --slice_epochs 20 --agg_epochs 10 --density 0.30 --slices 10 --part_type 3 --processed 1"
   ],
   "metadata": {
    "collapsed": false
   }
  },
  {
   "cell_type": "code",
   "execution_count": null,
   "outputs": [],
   "source": [
    "# !python Experiment.py --dataset tp --interaction NeuGraphMF --rounds 1 --slice_epochs 20 --agg_epochs 10 --density 0.30 --slices 10 --part_type 3 --processed 1"
   ],
   "metadata": {
    "collapsed": false
   }
  },
  {
   "cell_type": "code",
   "execution_count": null,
   "outputs": [],
   "source": [
    "!python Experiment.py --dataset rt --interaction Pure_Mf --rounds 1 --slice_epochs 25 --agg_epochs 10 --density 0.30 --slices 10 --part_type 3 --processed 1"
   ],
   "metadata": {
    "collapsed": false
   }
  },
  {
   "cell_type": "code",
   "execution_count": null,
   "outputs": [],
   "source": [
    "!python Experiment.py --dataset tp --interaction Pure_Mf --rounds 1 --slice_epochs 25 --agg_epochs 10 --density 0.30 --slices 10 --part_type 3 --processed 1"
   ],
   "metadata": {
    "collapsed": false
   }
  },
  {
   "cell_type": "markdown",
   "source": [
    "*****"
   ],
   "metadata": {
    "collapsed": false
   }
  },
  {
   "cell_type": "markdown",
   "source": [
    "# balance node2vec"
   ],
   "metadata": {
    "collapsed": false
   }
  },
  {
   "cell_type": "markdown",
   "source": [
    "# item balance node2vec"
   ],
   "metadata": {
    "collapsed": false
   }
  },
  {
   "cell_type": "markdown",
   "source": [
    "# iteraction balance node2vec"
   ],
   "metadata": {
    "collapsed": false
   }
  },
  {
   "cell_type": "code",
   "execution_count": null,
   "outputs": [],
   "source": [],
   "metadata": {
    "collapsed": false
   }
  }
 ],
 "metadata": {
  "kernelspec": {
   "display_name": "Python 3",
   "language": "python",
   "name": "python3"
  },
  "language_info": {
   "codemirror_mode": {
    "name": "ipython",
    "version": 2
   },
   "file_extension": ".py",
   "mimetype": "text/x-python",
   "name": "python",
   "nbconvert_exporter": "python",
   "pygments_lexer": "ipython2",
   "version": "2.7.6"
  }
 },
 "nbformat": 4,
 "nbformat_minor": 0
}
