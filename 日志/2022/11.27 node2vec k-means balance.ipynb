{
 "cells": [
  {
   "cell_type": "markdown",
   "source": [
    "`````       # RecEarser\n"
   ],
   "metadata": {
    "collapsed": false
   }
  },
  {
   "cell_type": "markdown",
   "source": [
    "# Density : 0.10"
   ],
   "metadata": {
    "collapsed": false
   }
  },
  {
   "cell_type": "markdown",
   "source": [
    "### Eraser"
   ],
   "metadata": {
    "collapsed": false
   }
  },
  {
   "cell_type": "code",
   "execution_count": 5,
   "outputs": [
    {
     "name": "stdout",
     "output_type": "stream",
     "text": [
      "2022-11-28 03:23:10  Namespace(agg_epochs=10, agg_type='softmax', balance=0, batch_size=128, dataset='rt', density=0.1, devices='gpu', dimension=64, dropout=0.1, interaction='NeuCF', kmeans_type=1, node2vec=0, node2vec_batchsize=32, node2vec_dim=128, node2vec_epochs=20, node2vec_length=10, node2vec_walk=50, node2vec_windows=3, num_layers=2, order=2, part_iter=100, part_type=1, path='./datasets/data/WSDREAM/', processed=1, retrain=0, rounds=1, save_model=1, slice_epochs=15, slices=10, verbose=0)\r\n",
      "2022-11-28 03:23:10  Experiment start!\r\n",
      "2022-11-28 03:23:10  Dataset : rt     interaction : NeuCF\r\n",
      "2022-11-28 03:23:10  Density : 10.00%, slice_epochs : 15, agg_epochs : 10\r\n",
      "2022-11-28 03:23:10  Part_type : 1,    slices : 10,       devices : gpu\r\n",
      "\r\n",
      "2022-11-28 03:23:10  Round 1 experiment start!\r\n",
      "2022-11-28 03:23:10  \t原始数据集读取完毕\r\n",
      "2022-11-28 03:23:10  \t采用异常值处理\r\n",
      "2022-11-28 03:23:11  \t异常值处理完毕\r\n",
      "123\r\n",
      "2022-11-28 03:23:11  \tNode2Vec 基于用户切割完毕\r\n",
      "2022-11-28 03:23:11  \t数据分切执行中\r\n",
      "2022-11-28 03:23:23  \t分切数据执行完毕\r\n",
      "2022-11-28 03:23:25  \t模型加载完毕\r\n",
      "2022-11-28 03:23:25  \t准备训练切片模型\r\n",
      "2022-11-28 03:23:25  \t实验 1 模型 1 开始分片训练\r\n",
      "2022-11-28 03:23:27  Epoch  1 : MAE : 0.8339  RMSE : 2.0447  NMAE : 0.9262  MRE : 0.8928  NPRE : 4.5037\r\n",
      "2022-11-28 03:23:28  Epoch  2 : MAE : 0.7948  RMSE : 2.0208  NMAE : 0.8828  MRE : 0.8010  NPRE : 4.5376\r\n",
      "2022-11-28 03:23:30  Epoch  3 : MAE : 0.7884  RMSE : 2.0246  NMAE : 0.8756  MRE : 0.7587  NPRE : 4.3263\r\n",
      "2022-11-28 03:23:31  Epoch  4 : MAE : 0.7776  RMSE : 2.0281  NMAE : 0.8637  MRE : 0.7378  NPRE : 3.9551\r\n",
      "2022-11-28 03:23:32  Epoch  5 : MAE : 0.7975  RMSE : 2.0461  NMAE : 0.8858  MRE : 0.7905  NPRE : 3.4339\r\n",
      "2022-11-28 03:23:33  Epoch  6 : MAE : 0.7849  RMSE : 2.0316  NMAE : 0.8718  MRE : 0.7510  NPRE : 3.7303\r\n",
      "2022-11-28 03:23:35  实验 1 模型 1 training time = 3.91 s\r\n",
      "2022-11-28 03:23:35  Slice ID  1 : MAE = 0.7851, RMSE = 2.0268, NMAE = 0.8720, MRE = 0.7521, NPRE = 3.9107\r\n",
      "\r\n",
      "2022-11-28 03:23:35  \t实验 1 模型 2 开始分片训练\r\n",
      "2022-11-28 03:23:36  Epoch  1 : MAE : 0.7992  RMSE : 2.0384  NMAE : 0.8876  MRE : 0.8211  NPRE : 3.8854\r\n",
      "2022-11-28 03:23:38  Epoch  2 : MAE : 0.7735  RMSE : 2.0378  NMAE : 0.8591  MRE : 0.7453  NPRE : 3.2855\r\n",
      "2022-11-28 03:23:39  Epoch  3 : MAE : 0.7679  RMSE : 2.0134  NMAE : 0.8529  MRE : 0.7338  NPRE : 3.9693\r\n",
      "2022-11-28 03:23:41  实验 1 模型 2 training time = 2.52 s\r\n",
      "2022-11-28 03:23:41  Slice ID  2 : MAE = 0.7767, RMSE = 2.0234, NMAE = 0.8627, MRE = 0.7546, NPRE = 3.6692\r\n",
      "\r\n",
      "2022-11-28 03:23:41  \t实验 1 模型 3 开始分片训练\r\n",
      "2022-11-28 03:23:43  Epoch  1 : MAE : 0.8730  RMSE : 2.0059  NMAE : 0.9696  MRE : 0.9429  NPRE : 6.3489\r\n",
      "2022-11-28 03:23:44  Epoch  2 : MAE : 0.8238  RMSE : 2.0038  NMAE : 0.9150  MRE : 0.8520  NPRE : 5.2261\r\n",
      "2022-11-28 03:23:45  Epoch  3 : MAE : 0.8242  RMSE : 1.9882  NMAE : 0.9155  MRE : 0.8543  NPRE : 5.8617\r\n",
      "2022-11-28 03:23:47  Epoch  4 : MAE : 0.8100  RMSE : 1.9970  NMAE : 0.8996  MRE : 0.8204  NPRE : 5.1632\r\n",
      "2022-11-28 03:23:48  Epoch  5 : MAE : 0.8057  RMSE : 2.0088  NMAE : 0.8949  MRE : 0.7792  NPRE : 4.6616\r\n",
      "2022-11-28 03:23:50  Epoch  6 : MAE : 0.8239  RMSE : 1.9987  NMAE : 0.9151  MRE : 0.8324  NPRE : 5.3889\r\n",
      "2022-11-28 03:23:51  实验 1 模型 3 training time = 4.40 s\r\n",
      "2022-11-28 03:23:51  Slice ID  3 : MAE = 0.8202, RMSE = 2.0056, NMAE = 0.9110, MRE = 0.8215, NPRE = 5.0099\r\n",
      "\r\n",
      "2022-11-28 03:23:52  \t实验 1 模型 4 开始分片训练\r\n",
      "2022-11-28 03:23:53  Epoch  1 : MAE : 0.7958  RMSE : 2.0087  NMAE : 0.8839  MRE : 0.8262  NPRE : 5.1201\r\n",
      "2022-11-28 03:23:54  Epoch  2 : MAE : 0.7765  RMSE : 2.0297  NMAE : 0.8624  MRE : 0.7575  NPRE : 3.7640\r\n",
      "2022-11-28 03:23:56  Epoch  3 : MAE : 0.7837  RMSE : 2.0060  NMAE : 0.8704  MRE : 0.7723  NPRE : 4.7012\r\n",
      "2022-11-28 03:23:58  实验 1 模型 4 training time = 2.84 s\r\n",
      "2022-11-28 03:23:58  Slice ID  4 : MAE = 0.7839, RMSE = 2.0068, NMAE = 0.8706, MRE = 0.7842, NPRE = 4.6528\r\n",
      "\r\n",
      "2022-11-28 03:23:58  \t实验 1 模型 5 开始分片训练\r\n",
      "2022-11-28 03:23:59  Epoch  1 : MAE : 0.8549  RMSE : 2.0468  NMAE : 0.9495  MRE : 0.9274  NPRE : 5.1651\r\n",
      "2022-11-28 03:24:01  Epoch  2 : MAE : 0.7851  RMSE : 2.0285  NMAE : 0.8721  MRE : 0.7872  NPRE : 4.1895\r\n",
      "2022-11-28 03:24:02  Epoch  3 : MAE : 0.7828  RMSE : 2.0175  NMAE : 0.8694  MRE : 0.7826  NPRE : 4.4747\r\n",
      "2022-11-28 03:24:03  Epoch  4 : MAE : 0.7938  RMSE : 2.0161  NMAE : 0.8817  MRE : 0.7939  NPRE : 4.5860\r\n",
      "2022-11-28 03:24:05  实验 1 模型 5 training time = 3.05 s\r\n",
      "2022-11-28 03:24:05  Slice ID  5 : MAE = 0.8022, RMSE = 2.0101, NMAE = 0.8910, MRE = 0.8159, NPRE = 4.8968\r\n",
      "\r\n",
      "2022-11-28 03:24:05  \t实验 1 模型 6 开始分片训练\r\n",
      "2022-11-28 03:24:06  Epoch  1 : MAE : 0.8074  RMSE : 2.0390  NMAE : 0.8968  MRE : 0.8413  NPRE : 4.2898\r\n",
      "2022-11-28 03:24:08  Epoch  2 : MAE : 0.7680  RMSE : 2.0297  NMAE : 0.8530  MRE : 0.7369  NPRE : 3.8988\r\n",
      "2022-11-28 03:24:09  Epoch  3 : MAE : 0.7823  RMSE : 2.0263  NMAE : 0.8689  MRE : 0.7813  NPRE : 4.2963\r\n",
      "2022-11-28 03:24:11  实验 1 模型 6 training time = 2.43 s\r\n",
      "2022-11-28 03:24:11  Slice ID  6 : MAE = 0.7796, RMSE = 2.0486, NMAE = 0.8658, MRE = 0.7614, NPRE = 3.1841\r\n",
      "\r\n",
      "2022-11-28 03:24:11  \t实验 1 模型 7 开始分片训练\r\n",
      "2022-11-28 03:24:12  Epoch  1 : MAE : 0.8012  RMSE : 2.0351  NMAE : 0.8899  MRE : 0.8258  NPRE : 4.3647\r\n",
      "2022-11-28 03:24:14  Epoch  2 : MAE : 0.7688  RMSE : 2.0470  NMAE : 0.8539  MRE : 0.7258  NPRE : 3.1490\r\n",
      "2022-11-28 03:24:16  Epoch  3 : MAE : 0.7651  RMSE : 2.0304  NMAE : 0.8498  MRE : 0.7282  NPRE : 3.8102\r\n",
      "2022-11-28 03:24:17  实验 1 模型 7 training time = 2.72 s\r\n",
      "2022-11-28 03:24:17  Slice ID  7 : MAE = 0.7680, RMSE = 2.0316, NMAE = 0.8530, MRE = 0.7349, NPRE = 3.7157\r\n",
      "\r\n",
      "2022-11-28 03:24:18  \t实验 1 模型 8 开始分片训练\r\n",
      "2022-11-28 03:24:19  Epoch  1 : MAE : 0.8109  RMSE : 2.0263  NMAE : 0.9006  MRE : 0.8448  NPRE : 4.7843\r\n",
      "2022-11-28 03:24:20  Epoch  2 : MAE : 0.7873  RMSE : 2.0168  NMAE : 0.8745  MRE : 0.7815  NPRE : 4.4391\r\n",
      "2022-11-28 03:24:22  Epoch  3 : MAE : 0.7991  RMSE : 2.0116  NMAE : 0.8875  MRE : 0.8024  NPRE : 4.8199\r\n",
      "2022-11-28 03:24:23  实验 1 模型 8 training time = 2.66 s\r\n",
      "2022-11-28 03:24:23  Slice ID  8 : MAE = 0.8034, RMSE = 2.0109, NMAE = 0.8923, MRE = 0.8006, NPRE = 4.9280\r\n",
      "\r\n",
      "2022-11-28 03:24:24  \t实验 1 模型 9 开始分片训练\r\n",
      "2022-11-28 03:24:25  Epoch  1 : MAE : 0.8714  RMSE : 2.0109  NMAE : 0.9679  MRE : 0.9450  NPRE : 6.6108\r\n",
      "2022-11-28 03:24:27  Epoch  2 : MAE : 0.8058  RMSE : 2.0133  NMAE : 0.8950  MRE : 0.8408  NPRE : 4.8631\r\n",
      "2022-11-28 03:24:28  Epoch  3 : MAE : 0.7864  RMSE : 2.0207  NMAE : 0.8734  MRE : 0.7846  NPRE : 3.9345\r\n",
      "2022-11-28 03:24:30  Epoch  4 : MAE : 0.7952  RMSE : 2.0072  NMAE : 0.8832  MRE : 0.8026  NPRE : 4.6328\r\n",
      "2022-11-28 03:24:31  实验 1 模型 9 training time = 3.53 s\r\n",
      "2022-11-28 03:24:31  Slice ID  9 : MAE = 0.8102, RMSE = 2.0109, NMAE = 0.8999, MRE = 0.8078, NPRE = 4.8772\r\n",
      "\r\n",
      "2022-11-28 03:24:32  \t实验 1 模型 10 开始分片训练\r\n",
      "2022-11-28 03:24:33  Epoch  1 : MAE : 0.8266  RMSE : 2.0273  NMAE : 0.9181  MRE : 0.8864  NPRE : 4.9630\r\n",
      "2022-11-28 03:24:35  Epoch  2 : MAE : 0.7891  RMSE : 2.0268  NMAE : 0.8765  MRE : 0.7872  NPRE : 4.1179\r\n",
      "2022-11-28 03:24:36  Epoch  3 : MAE : 0.7841  RMSE : 2.0312  NMAE : 0.8709  MRE : 0.7821  NPRE : 3.7966\r\n",
      "2022-11-28 03:24:38  实验 1 模型 10 training time = 2.61 s\r\n",
      "2022-11-28 03:24:38  Slice ID  10 : MAE = 0.7942, RMSE = 2.0292, NMAE = 0.8821, MRE = 0.7993, NPRE = 3.9985\r\n",
      "\r\n",
      "2022-11-28 03:24:38  \t所有切片模型训练完毕\r\n",
      "2022-11-28 03:24:38  \t开始训练聚合模型\r\n",
      "2022-11-28 03:24:45  Epoch  1 : MAE : 0.6931  RMSE : 1.9055  NMAE : 0.7698  MRE : 0.6102  NPRE : 3.3013\r\n",
      "2022-11-28 03:24:52  Epoch  2 : MAE : 0.6511  RMSE : 1.8222  NMAE : 0.7232  MRE : 0.5749  NPRE : 2.5477\r\n",
      "2022-11-28 03:25:00  Epoch  3 : MAE : 0.6154  RMSE : 1.7576  NMAE : 0.6835  MRE : 0.5450  NPRE : 2.2542\r\n",
      "2022-11-28 03:25:07  Epoch  4 : MAE : 0.5926  RMSE : 1.7031  NMAE : 0.6582  MRE : 0.5175  NPRE : 2.3330\r\n",
      "2022-11-28 03:25:14  Epoch  5 : MAE : 0.5799  RMSE : 1.6652  NMAE : 0.6440  MRE : 0.5178  NPRE : 2.5311\r\n",
      "2022-11-28 03:25:22  Epoch  6 : MAE : 0.5701  RMSE : 1.6404  NMAE : 0.6332  MRE : 0.5150  NPRE : 2.5784\r\n",
      "2022-11-28 03:25:30  Epoch  7 : MAE : 0.5605  RMSE : 1.6069  NMAE : 0.6225  MRE : 0.5034  NPRE : 2.4842\r\n",
      "2022-11-28 03:25:38  Epoch  8 : MAE : 0.5496  RMSE : 1.6002  NMAE : 0.6104  MRE : 0.4890  NPRE : 2.6470\r\n",
      "2022-11-28 03:25:46  Epoch  9 : MAE : 0.5438  RMSE : 1.5594  NMAE : 0.6040  MRE : 0.4903  NPRE : 2.7040\r\n",
      "2022-11-28 03:25:53  Epoch 10 : MAE : 0.5408  RMSE : 1.5665  NMAE : 0.6006  MRE : 0.4917  NPRE : 2.4150\r\n",
      "2022-11-28 03:26:00  Epoch 10 : MAE : 0.5509  RMSE : 1.5857  NMAE : 0.6049  MRE : 0.4938  NPRE : 2.4188\r\n",
      "2022-11-28 03:26:00  \t实验 1 聚合模型训练完毕\r\n",
      "2022-11-28 03:26:00  \t实验 1 : Aggregators training time = 67.58 s\r\n",
      "\r\n",
      "2022-11-28 03:26:00  \t聚合模型训练完毕\r\n",
      "2022-11-28 03:26:00  Round 1 : MAE = 0.5509, RMSE = 1.5857, NMAE = 0.6049, MRE = 0.4938, NPRE = 2.4188\r\n",
      "2022-11-28 03:26:00  Dataset : rt     interaction : NeuCF\r\n",
      "2022-11-28 03:26:00  Density : 10.00%, slice_epochs : 15, agg_epochs : 10\r\n",
      "2022-11-28 03:26:00  Part_type : 1,    slices : 10,       devices : gpu\r\n",
      "\r\n",
      "2022-11-28 03:26:00  Density 10.00% : MAE = 0.551, RMSE = 1.586, NMAE = 0.605, MRE = 0.494, NPRE = 2.419\r\n",
      "\r\n",
      "2022-11-28 03:26:00  Experiment success!\r\n"
     ]
    }
   ],
   "source": [
    "!python Experiment.py --dataset rt --interaction NeuCF --rounds 1 --slice_epochs 15 --agg_epochs 10 --density 0.10 --slices 10 --part_type 1"
   ],
   "metadata": {
    "collapsed": false
   }
  },
  {
   "cell_type": "code",
   "execution_count": 7,
   "outputs": [
    {
     "name": "stdout",
     "output_type": "stream",
     "text": [
      "2022-11-28 03:26:01  Namespace(agg_epochs=15, agg_type='softmax', balance=0, batch_size=128, dataset='rt', density=0.1, devices='gpu', dimension=64, dropout=0.1, interaction='NeuCF', kmeans_type=1, node2vec=0, node2vec_batchsize=32, node2vec_dim=128, node2vec_epochs=20, node2vec_length=10, node2vec_walk=50, node2vec_windows=3, num_layers=2, order=2, part_iter=100, part_type=1, path='./datasets/data/WSDREAM/', processed=1, retrain=0, rounds=1, save_model=1, slice_epochs=15, slices=10, verbose=0)\r\n",
      "2022-11-28 03:26:01  Experiment start!\r\n",
      "2022-11-28 03:26:01  Dataset : rt     interaction : NeuCF\r\n",
      "2022-11-28 03:26:01  Density : 10.00%, slice_epochs : 15, agg_epochs : 15\r\n",
      "2022-11-28 03:26:01  Part_type : 1,    slices : 10,       devices : gpu\r\n",
      "\r\n",
      "2022-11-28 03:26:01  Round 1 experiment start!\r\n",
      "2022-11-28 03:26:01  \t原始数据集读取完毕\r\n",
      "2022-11-28 03:26:02  \t采用异常值处理\r\n",
      "2022-11-28 03:26:03  \t异常值处理完毕\r\n",
      "123\r\n",
      "2022-11-28 03:26:03  \tNode2Vec 基于用户切割完毕\r\n",
      "2022-11-28 03:26:03  \t数据分切执行中\r\n",
      "2022-11-28 03:26:15  \t分切数据执行完毕\r\n",
      "2022-11-28 03:26:17  \t模型加载完毕\r\n",
      "2022-11-28 03:26:17  \t准备训练切片模型\r\n",
      "2022-11-28 03:26:18  \t实验 1 模型 1 开始分片训练\r\n",
      "2022-11-28 03:26:19  Epoch  1 : MAE : 0.8229  RMSE : 2.0762  NMAE : 0.8973  MRE : 0.8379  NPRE : 3.8955\r\n",
      "2022-11-28 03:26:21  Epoch  2 : MAE : 0.8039  RMSE : 2.0509  NMAE : 0.8766  MRE : 0.7872  NPRE : 4.4081\r\n",
      "2022-11-28 03:26:22  Epoch  3 : MAE : 0.7961  RMSE : 2.0492  NMAE : 0.8681  MRE : 0.7637  NPRE : 4.3293\r\n",
      "2022-11-28 03:26:24  实验 1 模型 1 training time = 2.65 s\r\n",
      "2022-11-28 03:26:24  Slice ID  1 : MAE = 0.7982, RMSE = 2.0517, NMAE = 0.8704, MRE = 0.7545, NPRE = 4.2142\r\n",
      "\r\n",
      "2022-11-28 03:26:24  \t实验 1 模型 2 开始分片训练\r\n",
      "2022-11-28 03:26:26  Epoch  1 : MAE : 0.8135  RMSE : 2.0650  NMAE : 0.8870  MRE : 0.8171  NPRE : 3.9792\r\n",
      "2022-11-28 03:26:27  Epoch  2 : MAE : 0.7902  RMSE : 2.0659  NMAE : 0.8617  MRE : 0.7474  NPRE : 3.3432\r\n",
      "2022-11-28 03:26:28  Epoch  3 : MAE : 0.7956  RMSE : 2.0470  NMAE : 0.8676  MRE : 0.7732  NPRE : 4.1823\r\n",
      "2022-11-28 03:26:30  实验 1 模型 2 training time = 2.37 s\r\n",
      "2022-11-28 03:26:30  Slice ID  2 : MAE = 0.7910, RMSE = 2.0569, NMAE = 0.8625, MRE = 0.7526, NPRE = 3.6320\r\n",
      "\r\n",
      "2022-11-28 03:26:30  \t实验 1 模型 3 开始分片训练\r\n",
      "2022-11-28 03:26:31  Epoch  1 : MAE : 0.8596  RMSE : 2.0323  NMAE : 0.9374  MRE : 0.9064  NPRE : 6.1709\r\n",
      "2022-11-28 03:26:33  Epoch  2 : MAE : 0.8173  RMSE : 2.0291  NMAE : 0.8913  MRE : 0.8409  NPRE : 5.4053\r\n",
      "2022-11-28 03:26:34  Epoch  3 : MAE : 0.8340  RMSE : 2.0210  NMAE : 0.9094  MRE : 0.8575  NPRE : 5.8765\r\n",
      "2022-11-28 03:26:36  实验 1 模型 3 training time = 2.61 s\r\n",
      "2022-11-28 03:26:36  Slice ID  3 : MAE = 0.8197, RMSE = 2.0367, NMAE = 0.8939, MRE = 0.8124, NPRE = 4.8773\r\n",
      "\r\n",
      "2022-11-28 03:26:36  \t实验 1 模型 4 开始分片训练\r\n",
      "2022-11-28 03:26:38  Epoch  1 : MAE : 0.8106  RMSE : 2.0510  NMAE : 0.8839  MRE : 0.8252  NPRE : 4.6957\r\n",
      "2022-11-28 03:26:40  Epoch  2 : MAE : 0.7846  RMSE : 2.0660  NMAE : 0.8556  MRE : 0.7379  NPRE : 3.5573\r\n",
      "2022-11-28 03:26:41  Epoch  3 : MAE : 0.7960  RMSE : 2.0651  NMAE : 0.8681  MRE : 0.7677  NPRE : 3.5128\r\n",
      "2022-11-28 03:26:43  实验 1 模型 4 training time = 2.82 s\r\n",
      "2022-11-28 03:26:43  Slice ID  4 : MAE = 0.7844, RMSE = 2.0526, NMAE = 0.8553, MRE = 0.7457, NPRE = 3.7638\r\n",
      "\r\n",
      "2022-11-28 03:26:43  \t实验 1 模型 5 开始分片训练\r\n",
      "2022-11-28 03:26:44  Epoch  1 : MAE : 0.8914  RMSE : 2.0703  NMAE : 0.9720  MRE : 0.9492  NPRE : 5.7937\r\n",
      "2022-11-28 03:26:46  Epoch  2 : MAE : 0.8374  RMSE : 2.0511  NMAE : 0.9132  MRE : 0.8638  NPRE : 5.0708\r\n",
      "2022-11-28 03:26:47  Epoch  3 : MAE : 0.8275  RMSE : 2.0762  NMAE : 0.9024  MRE : 0.8117  NPRE : 3.8753\r\n",
      "2022-11-28 03:26:49  Epoch  4 : MAE : 0.8212  RMSE : 2.0592  NMAE : 0.8955  MRE : 0.7862  NPRE : 4.4267\r\n",
      "2022-11-28 03:26:50  实验 1 模型 5 training time = 3.11 s\r\n",
      "2022-11-28 03:26:50  Slice ID  5 : MAE = 0.8060, RMSE = 2.0618, NMAE = 0.8789, MRE = 0.7592, NPRE = 3.8857\r\n",
      "\r\n",
      "2022-11-28 03:26:51  \t实验 1 模型 6 开始分片训练\r\n",
      "2022-11-28 03:26:52  Epoch  1 : MAE : 0.8410  RMSE : 2.0971  NMAE : 0.9171  MRE : 0.8758  NPRE : 3.6852\r\n",
      "2022-11-28 03:26:53  Epoch  2 : MAE : 0.7900  RMSE : 2.0771  NMAE : 0.8614  MRE : 0.7412  NPRE : 3.3358\r\n",
      "2022-11-28 03:26:55  Epoch  3 : MAE : 0.7916  RMSE : 2.0649  NMAE : 0.8632  MRE : 0.7593  NPRE : 3.8952\r\n",
      "2022-11-28 03:26:56  Epoch  4 : MAE : 0.7844  RMSE : 2.0602  NMAE : 0.8554  MRE : 0.7419  NPRE : 3.7943\r\n",
      "2022-11-28 03:26:58  实验 1 模型 6 training time = 3.31 s\r\n",
      "2022-11-28 03:26:58  Slice ID  6 : MAE = 0.7848, RMSE = 2.0528, NMAE = 0.8558, MRE = 0.7512, NPRE = 3.9535\r\n",
      "\r\n",
      "2022-11-28 03:26:58  \t实验 1 模型 7 开始分片训练\r\n",
      "2022-11-28 03:27:00  Epoch  1 : MAE : 0.8327  RMSE : 2.0884  NMAE : 0.9080  MRE : 0.8605  NPRE : 3.8733\r\n",
      "2022-11-28 03:27:01  Epoch  2 : MAE : 0.7893  RMSE : 2.0542  NMAE : 0.8607  MRE : 0.7621  NPRE : 4.4030\r\n",
      "2022-11-28 03:27:03  Epoch  3 : MAE : 0.8051  RMSE : 2.0441  NMAE : 0.8779  MRE : 0.8206  NPRE : 4.9996\r\n",
      "2022-11-28 03:27:05  实验 1 模型 7 training time = 2.91 s\r\n",
      "2022-11-28 03:27:05  Slice ID  7 : MAE = 0.7977, RMSE = 2.0436, NMAE = 0.8699, MRE = 0.8003, NPRE = 4.7771\r\n",
      "\r\n",
      "2022-11-28 03:27:05  \t实验 1 模型 8 开始分片训练\r\n",
      "2022-11-28 03:27:06  Epoch  1 : MAE : 0.8148  RMSE : 2.0412  NMAE : 0.8885  MRE : 0.8323  NPRE : 4.9676\r\n",
      "2022-11-28 03:27:08  Epoch  2 : MAE : 0.7948  RMSE : 2.0470  NMAE : 0.8667  MRE : 0.7650  NPRE : 4.2489\r\n",
      "2022-11-28 03:27:09  Epoch  3 : MAE : 0.8135  RMSE : 2.0386  NMAE : 0.8871  MRE : 0.8003  NPRE : 4.9671\r\n",
      "2022-11-28 03:27:11  实验 1 模型 8 training time = 2.79 s\r\n",
      "2022-11-28 03:27:11  Slice ID  8 : MAE = 0.7914, RMSE = 2.0385, NMAE = 0.8630, MRE = 0.7615, NPRE = 4.3368\r\n",
      "\r\n",
      "2022-11-28 03:27:11  \t实验 1 模型 9 开始分片训练\r\n",
      "2022-11-28 03:27:13  Epoch  1 : MAE : 0.8328  RMSE : 2.0351  NMAE : 0.9082  MRE : 0.8725  NPRE : 5.6463\r\n",
      "2022-11-28 03:27:14  Epoch  2 : MAE : 0.8071  RMSE : 2.0420  NMAE : 0.8801  MRE : 0.8090  NPRE : 4.7525\r\n",
      "2022-11-28 03:27:15  Epoch  3 : MAE : 0.8016  RMSE : 2.0652  NMAE : 0.8741  MRE : 0.7763  NPRE : 3.5748\r\n",
      "2022-11-28 03:27:17  实验 1 模型 9 training time = 2.28 s\r\n",
      "2022-11-28 03:27:17  Slice ID  9 : MAE = 0.8035, RMSE = 2.0452, NMAE = 0.8762, MRE = 0.7909, NPRE = 4.4364\r\n",
      "\r\n",
      "2022-11-28 03:27:17  \t实验 1 模型 10 开始分片训练\r\n",
      "2022-11-28 03:27:18  Epoch  1 : MAE : 0.8315  RMSE : 2.0443  NMAE : 0.9067  MRE : 0.8613  NPRE : 5.3491\r\n",
      "2022-11-28 03:27:20  Epoch  2 : MAE : 0.8025  RMSE : 2.0569  NMAE : 0.8751  MRE : 0.7854  NPRE : 4.2121\r\n",
      "2022-11-28 03:27:21  Epoch  3 : MAE : 0.8073  RMSE : 2.0737  NMAE : 0.8803  MRE : 0.7901  NPRE : 3.4971\r\n",
      "2022-11-28 03:27:23  实验 1 模型 10 training time = 2.43 s\r\n",
      "2022-11-28 03:27:23  Slice ID  10 : MAE = 0.8090, RMSE = 2.0500, NMAE = 0.8821, MRE = 0.7929, NPRE = 4.4383\r\n",
      "\r\n",
      "2022-11-28 03:27:23  \t所有切片模型训练完毕\r\n",
      "2022-11-28 03:27:23  \t开始训练聚合模型\r\n",
      "2022-11-28 03:27:30  Epoch  1 : MAE : 0.7083  RMSE : 1.9331  NMAE : 0.7724  MRE : 0.6033  NPRE : 2.8911\r\n",
      "2022-11-28 03:27:38  Epoch  2 : MAE : 0.6527  RMSE : 1.8051  NMAE : 0.7118  MRE : 0.5624  NPRE : 3.0153\r\n",
      "2022-11-28 03:27:45  Epoch  3 : MAE : 0.6238  RMSE : 1.7533  NMAE : 0.6803  MRE : 0.5349  NPRE : 2.1982\r\n",
      "2022-11-28 03:27:53  Epoch  4 : MAE : 0.6010  RMSE : 1.6992  NMAE : 0.6554  MRE : 0.5203  NPRE : 2.6888\r\n",
      "2022-11-28 03:28:01  Epoch  5 : MAE : 0.5870  RMSE : 1.6527  NMAE : 0.6401  MRE : 0.5087  NPRE : 2.5696\r\n",
      "2022-11-28 03:28:08  Epoch  6 : MAE : 0.5743  RMSE : 1.6316  NMAE : 0.6263  MRE : 0.4987  NPRE : 2.6531\r\n",
      "2022-11-28 03:28:16  Epoch  7 : MAE : 0.5627  RMSE : 1.6095  NMAE : 0.6137  MRE : 0.4959  NPRE : 2.5601\r\n",
      "2022-11-28 03:28:24  Epoch  8 : MAE : 0.5579  RMSE : 1.5907  NMAE : 0.6083  MRE : 0.4966  NPRE : 2.5277\r\n",
      "2022-11-28 03:28:31  Epoch  9 : MAE : 0.5533  RMSE : 1.5679  NMAE : 0.6033  MRE : 0.4895  NPRE : 2.4378\r\n",
      "2022-11-28 03:28:39  Epoch 10 : MAE : 0.5507  RMSE : 1.5511  NMAE : 0.6005  MRE : 0.4953  NPRE : 2.6149\r\n",
      "2022-11-28 03:28:45  Epoch 11 : MAE : 0.5425  RMSE : 1.5551  NMAE : 0.5916  MRE : 0.4890  NPRE : 2.4824\r\n",
      "2022-11-28 03:28:51  Epoch 12 : MAE : 0.5423  RMSE : 1.5480  NMAE : 0.5913  MRE : 0.4853  NPRE : 2.3702\r\n",
      "2022-11-28 03:28:59  Epoch 13 : MAE : 0.5401  RMSE : 1.5507  NMAE : 0.5890  MRE : 0.4803  NPRE : 2.0455\r\n",
      "2022-11-28 03:29:06  Epoch 14 : MAE : 0.5404  RMSE : 1.5611  NMAE : 0.5893  MRE : 0.4862  NPRE : 2.0922\r\n",
      "2022-11-28 03:29:14  Epoch 15 : MAE : 0.5387  RMSE : 1.5543  NMAE : 0.5874  MRE : 0.4778  NPRE : 2.4273\r\n",
      "2022-11-28 03:29:23  Epoch 15 : MAE : 0.5375  RMSE : 1.5510  NMAE : 0.5907  MRE : 0.4790  NPRE : 2.4320\r\n",
      "2022-11-28 03:29:23  \t实验 1 聚合模型训练完毕\r\n",
      "2022-11-28 03:29:23  \t实验 1 : Aggregators training time = 100.40 s\r\n",
      "\r\n",
      "2022-11-28 03:29:23  \t聚合模型训练完毕\r\n",
      "2022-11-28 03:29:23  Round 1 : MAE = 0.5375, RMSE = 1.5510, NMAE = 0.5907, MRE = 0.4790, NPRE = 2.4320\r\n",
      "2022-11-28 03:29:23  Dataset : rt     interaction : NeuCF\r\n",
      "2022-11-28 03:29:23  Density : 10.00%, slice_epochs : 15, agg_epochs : 15\r\n",
      "2022-11-28 03:29:23  Part_type : 1,    slices : 10,       devices : gpu\r\n",
      "\r\n",
      "2022-11-28 03:29:23  Density 10.00% : MAE = 0.537, RMSE = 1.551, NMAE = 0.591, MRE = 0.479, NPRE = 2.432\r\n",
      "\r\n",
      "2022-11-28 03:29:23  Experiment success!\r\n",
      "2022-11-28 03:29:24  Namespace(agg_epochs=15, agg_type='softmax', balance=0, batch_size=128, dataset='rt', density=0.1, devices='gpu', dimension=64, dropout=0.1, interaction='NeuCF', kmeans_type=1, node2vec=0, node2vec_batchsize=32, node2vec_dim=128, node2vec_epochs=20, node2vec_length=10, node2vec_walk=50, node2vec_windows=3, num_layers=2, order=2, part_iter=100, part_type=1, path='./datasets/data/WSDREAM/', processed=1, retrain=0, rounds=1, save_model=1, slice_epochs=15, slices=10, verbose=0)\r\n",
      "2022-11-28 03:29:24  Experiment start!\r\n",
      "2022-11-28 03:29:24  Dataset : rt     interaction : NeuCF\r\n",
      "2022-11-28 03:29:24  Density : 10.00%, slice_epochs : 15, agg_epochs : 15\r\n",
      "2022-11-28 03:29:24  Part_type : 1,    slices : 10,       devices : gpu\r\n",
      "\r\n",
      "2022-11-28 03:29:24  Round 1 experiment start!\r\n",
      "2022-11-28 03:29:24  \t原始数据集读取完毕\r\n",
      "2022-11-28 03:29:24  \t采用异常值处理\r\n",
      "2022-11-28 03:29:25  \t异常值处理完毕\r\n",
      "123\r\n",
      "2022-11-28 03:29:25  \tNode2Vec 基于用户切割完毕\r\n",
      "2022-11-28 03:29:25  \t数据分切执行中\r\n",
      "2022-11-28 03:29:38  \t分切数据执行完毕\r\n",
      "2022-11-28 03:29:40  \t模型加载完毕\r\n",
      "2022-11-28 03:29:40  \t准备训练切片模型\r\n",
      "2022-11-28 03:29:40  \t实验 1 模型 1 开始分片训练\r\n",
      "2022-11-28 03:29:42  Epoch  1 : MAE : 0.8366  RMSE : 2.0385  NMAE : 0.9124  MRE : 0.8662  NPRE : 5.4352\r\n",
      "2022-11-28 03:29:43  Epoch  2 : MAE : 0.8152  RMSE : 2.0489  NMAE : 0.8890  MRE : 0.7950  NPRE : 4.6590\r\n",
      "2022-11-28 03:29:44  Epoch  3 : MAE : 0.7977  RMSE : 2.0490  NMAE : 0.8699  MRE : 0.7539  NPRE : 4.1124\r\n",
      "2022-11-28 03:29:46  实验 1 模型 1 training time = 2.30 s\r\n",
      "2022-11-28 03:29:46  Slice ID  1 : MAE = 0.8202, RMSE = 2.0449, NMAE = 0.8944, MRE = 0.7930, NPRE = 4.8932\r\n",
      "\r\n",
      "2022-11-28 03:29:46  \t实验 1 模型 2 开始分片训练\r\n",
      "2022-11-28 03:29:47  Epoch  1 : MAE : 0.8379  RMSE : 2.0858  NMAE : 0.9138  MRE : 0.8682  NPRE : 3.7020\r\n",
      "2022-11-28 03:29:49  Epoch  2 : MAE : 0.7974  RMSE : 2.0875  NMAE : 0.8695  MRE : 0.7438  NPRE : 2.5998\r\n",
      "2022-11-28 03:29:50  Epoch  3 : MAE : 0.8001  RMSE : 2.0736  NMAE : 0.8725  MRE : 0.7644  NPRE : 3.3223\r\n",
      "2022-11-28 03:29:52  实验 1 模型 2 training time = 2.87 s\r\n",
      "2022-11-28 03:29:52  Slice ID  2 : MAE = 0.7993, RMSE = 2.0623, NMAE = 0.8716, MRE = 0.7518, NPRE = 3.7166\r\n",
      "\r\n",
      "2022-11-28 03:29:53  \t实验 1 模型 3 开始分片训练\r\n",
      "2022-11-28 03:29:54  Epoch  1 : MAE : 0.9054  RMSE : 2.0408  NMAE : 0.9873  MRE : 0.9585  NPRE : 7.1199\r\n",
      "2022-11-28 03:29:55  Epoch  2 : MAE : 0.8292  RMSE : 2.0436  NMAE : 0.9043  MRE : 0.8317  NPRE : 5.1542\r\n",
      "2022-11-28 03:29:56  Epoch  3 : MAE : 0.8440  RMSE : 2.0367  NMAE : 0.9204  MRE : 0.8314  NPRE : 5.7528\r\n",
      "2022-11-28 03:29:58  Epoch  4 : MAE : 0.8343  RMSE : 2.0386  NMAE : 0.9099  MRE : 0.8240  NPRE : 5.3123\r\n",
      "2022-11-28 03:30:00  实验 1 模型 3 training time = 3.20 s\r\n",
      "2022-11-28 03:30:00  Slice ID  3 : MAE = 0.8337, RMSE = 2.0401, NMAE = 0.9091, MRE = 0.8043, NPRE = 4.9988\r\n",
      "\r\n",
      "2022-11-28 03:30:00  \t实验 1 模型 4 开始分片训练\r\n",
      "2022-11-28 03:30:01  Epoch  1 : MAE : 0.8460  RMSE : 2.0605  NMAE : 0.9225  MRE : 0.8956  NPRE : 5.0261\r\n",
      "2022-11-28 03:30:03  Epoch  2 : MAE : 0.8101  RMSE : 2.0442  NMAE : 0.8834  MRE : 0.8203  NPRE : 4.8276\r\n",
      "2022-11-28 03:30:05  Epoch  3 : MAE : 0.7913  RMSE : 2.0630  NMAE : 0.8630  MRE : 0.7617  NPRE : 3.7173\r\n",
      "2022-11-28 03:30:06  Epoch  4 : MAE : 0.7879  RMSE : 2.0559  NMAE : 0.8592  MRE : 0.7504  NPRE : 3.7400\r\n",
      "2022-11-28 03:30:08  Epoch  5 : MAE : 0.7960  RMSE : 2.0630  NMAE : 0.8681  MRE : 0.7704  NPRE : 3.5021\r\n",
      "2022-11-28 03:30:10  实验 1 模型 4 training time = 4.27 s\r\n",
      "2022-11-28 03:30:10  Slice ID  4 : MAE = 0.7910, RMSE = 2.0594, NMAE = 0.8626, MRE = 0.7652, NPRE = 3.5424\r\n",
      "\r\n",
      "2022-11-28 03:30:10  \t实验 1 模型 5 开始分片训练\r\n",
      "2022-11-28 03:30:11  Epoch  1 : MAE : 0.8561  RMSE : 2.0553  NMAE : 0.9336  MRE : 0.9013  NPRE : 5.4617\r\n",
      "2022-11-28 03:30:13  Epoch  2 : MAE : 0.8083  RMSE : 2.0747  NMAE : 0.8815  MRE : 0.8036  NPRE : 3.6778\r\n",
      "2022-11-28 03:30:14  Epoch  3 : MAE : 0.7988  RMSE : 2.0633  NMAE : 0.8711  MRE : 0.7693  NPRE : 3.9359\r\n",
      "2022-11-28 03:30:16  Epoch  4 : MAE : 0.7997  RMSE : 2.0621  NMAE : 0.8721  MRE : 0.7617  NPRE : 3.7763\r\n",
      "2022-11-28 03:30:17  Epoch  5 : MAE : 0.8020  RMSE : 2.0574  NMAE : 0.8746  MRE : 0.7653  NPRE : 4.1323\r\n",
      "2022-11-28 03:30:19  实验 1 模型 5 training time = 3.74 s\r\n",
      "2022-11-28 03:30:19  Slice ID  5 : MAE = 0.8336, RMSE = 2.0369, NMAE = 0.9091, MRE = 0.8231, NPRE = 5.5792\r\n",
      "\r\n",
      "2022-11-28 03:30:19  \t实验 1 模型 6 开始分片训练\r\n",
      "2022-11-28 03:30:21  Epoch  1 : MAE : 0.8235  RMSE : 2.0764  NMAE : 0.8980  MRE : 0.8489  NPRE : 4.1535\r\n",
      "2022-11-28 03:30:23  Epoch  2 : MAE : 0.7809  RMSE : 2.0754  NMAE : 0.8516  MRE : 0.7236  NPRE : 3.3933\r\n",
      "2022-11-28 03:30:24  Epoch  3 : MAE : 0.7834  RMSE : 2.0790  NMAE : 0.8543  MRE : 0.7331  NPRE : 3.2078\r\n",
      "2022-11-28 03:30:25  实验 1 模型 6 training time = 2.74 s\r\n",
      "2022-11-28 03:30:25  Slice ID  6 : MAE = 0.8012, RMSE = 2.0943, NMAE = 0.8737, MRE = 0.7753, NPRE = 2.8803\r\n",
      "\r\n",
      "2022-11-28 03:30:26  \t实验 1 模型 7 开始分片训练\r\n",
      "2022-11-28 03:30:27  Epoch  1 : MAE : 0.8076  RMSE : 2.0754  NMAE : 0.8807  MRE : 0.8043  NPRE : 3.9826\r\n",
      "2022-11-28 03:30:28  Epoch  2 : MAE : 0.7933  RMSE : 2.0847  NMAE : 0.8651  MRE : 0.7543  NPRE : 3.2848\r\n",
      "2022-11-28 03:30:30  Epoch  3 : MAE : 0.7910  RMSE : 2.0682  NMAE : 0.8626  MRE : 0.7615  NPRE : 3.8703\r\n",
      "2022-11-28 03:30:31  实验 1 模型 7 training time = 2.34 s\r\n",
      "2022-11-28 03:30:31  Slice ID  7 : MAE = 0.7840, RMSE = 2.0696, NMAE = 0.8550, MRE = 0.7420, NPRE = 3.5595\r\n",
      "\r\n",
      "2022-11-28 03:30:32  \t实验 1 模型 8 开始分片训练\r\n",
      "2022-11-28 03:30:33  Epoch  1 : MAE : 0.8732  RMSE : 2.0608  NMAE : 0.9522  MRE : 0.9325  NPRE : 5.4489\r\n",
      "2022-11-28 03:30:35  Epoch  2 : MAE : 0.8235  RMSE : 2.0419  NMAE : 0.8981  MRE : 0.8422  NPRE : 4.7144\r\n",
      "2022-11-28 03:30:37  Epoch  3 : MAE : 0.8128  RMSE : 2.0312  NMAE : 0.8864  MRE : 0.8170  NPRE : 4.8896\r\n",
      "2022-11-28 03:30:38  Epoch  4 : MAE : 0.8670  RMSE : 2.0193  NMAE : 0.9455  MRE : 0.8958  NPRE : 6.5534\r\n",
      "2022-11-28 03:30:40  Epoch  5 : MAE : 0.8093  RMSE : 2.0331  NMAE : 0.8825  MRE : 0.7954  NPRE : 4.5704\r\n",
      "2022-11-28 03:30:42  实验 1 模型 8 training time = 4.50 s\r\n",
      "2022-11-28 03:30:42  Slice ID  8 : MAE = 0.8313, RMSE = 2.0138, NMAE = 0.9065, MRE = 0.8615, NPRE = 5.7366\r\n",
      "\r\n",
      "2022-11-28 03:30:42  \t实验 1 模型 9 开始分片训练\r\n",
      "2022-11-28 03:30:43  Epoch  1 : MAE : 0.8373  RMSE : 2.0837  NMAE : 0.9131  MRE : 0.8747  NPRE : 4.0342\r\n",
      "2022-11-28 03:30:44  Epoch  2 : MAE : 0.8019  RMSE : 2.0783  NMAE : 0.8745  MRE : 0.7881  NPRE : 3.4065\r\n",
      "2022-11-28 03:30:46  Epoch  3 : MAE : 0.7936  RMSE : 2.0547  NMAE : 0.8655  MRE : 0.7731  NPRE : 4.2422\r\n",
      "2022-11-28 03:30:47  实验 1 模型 9 training time = 2.37 s\r\n",
      "2022-11-28 03:30:47  Slice ID  9 : MAE = 0.8070, RMSE = 2.0383, NMAE = 0.8800, MRE = 0.8156, NPRE = 4.8908\r\n",
      "\r\n",
      "2022-11-28 03:30:48  \t实验 1 模型 10 开始分片训练\r\n",
      "2022-11-28 03:30:49  Epoch  1 : MAE : 0.8605  RMSE : 2.0676  NMAE : 0.9384  MRE : 0.9166  NPRE : 4.9138\r\n",
      "2022-11-28 03:30:51  Epoch  2 : MAE : 0.8093  RMSE : 2.0572  NMAE : 0.8825  MRE : 0.8110  NPRE : 4.2290\r\n",
      "2022-11-28 03:30:52  Epoch  3 : MAE : 0.7940  RMSE : 2.0579  NMAE : 0.8659  MRE : 0.7699  NPRE : 3.9722\r\n",
      "2022-11-28 03:30:54  Epoch  4 : MAE : 0.8018  RMSE : 2.0380  NMAE : 0.8744  MRE : 0.7997  NPRE : 4.8338\r\n",
      "2022-11-28 03:30:55  实验 1 模型 10 training time = 3.46 s\r\n",
      "2022-11-28 03:30:55  Slice ID  10 : MAE = 0.8014, RMSE = 2.0460, NMAE = 0.8740, MRE = 0.7710, NPRE = 4.4403\r\n",
      "\r\n",
      "2022-11-28 03:30:55  \t所有切片模型训练完毕\r\n",
      "2022-11-28 03:30:56  \t开始训练聚合模型\r\n",
      "2022-11-28 03:31:04  Epoch  1 : MAE : 0.7142  RMSE : 1.9433  NMAE : 0.7789  MRE : 0.6166  NPRE : 3.0432\r\n",
      "2022-11-28 03:31:11  Epoch  2 : MAE : 0.6658  RMSE : 1.8518  NMAE : 0.7261  MRE : 0.5668  NPRE : 2.5926\r\n",
      "2022-11-28 03:31:18  Epoch  3 : MAE : 0.6278  RMSE : 1.7746  NMAE : 0.6846  MRE : 0.5430  NPRE : 2.8712\r\n",
      "2022-11-28 03:31:25  Epoch  4 : MAE : 0.6057  RMSE : 1.7226  NMAE : 0.6606  MRE : 0.5345  NPRE : 2.6486\r\n",
      "2022-11-28 03:31:32  Epoch  5 : MAE : 0.5885  RMSE : 1.6664  NMAE : 0.6418  MRE : 0.5202  NPRE : 2.7594\r\n",
      "2022-11-28 03:31:40  Epoch  6 : MAE : 0.5785  RMSE : 1.6324  NMAE : 0.6308  MRE : 0.5284  NPRE : 2.7221\r\n",
      "2022-11-28 03:31:46  Epoch  7 : MAE : 0.5832  RMSE : 1.6230  NMAE : 0.6360  MRE : 0.5542  NPRE : 3.4755\r\n",
      "2022-11-28 03:31:52  Epoch  8 : MAE : 0.5701  RMSE : 1.6235  NMAE : 0.6218  MRE : 0.5110  NPRE : 2.2832\r\n",
      "2022-11-28 03:31:58  Epoch  9 : MAE : 0.5619  RMSE : 1.6147  NMAE : 0.6127  MRE : 0.5055  NPRE : 2.8692\r\n",
      "2022-11-28 03:32:04  Epoch 10 : MAE : 0.5557  RMSE : 1.6068  NMAE : 0.6060  MRE : 0.4914  NPRE : 2.4445\r\n",
      "2022-11-28 03:32:11  Epoch 11 : MAE : 0.5524  RMSE : 1.6039  NMAE : 0.6024  MRE : 0.4922  NPRE : 2.3786\r\n",
      "2022-11-28 03:32:17  Epoch 12 : MAE : 0.5517  RMSE : 1.5843  NMAE : 0.6016  MRE : 0.5000  NPRE : 2.7528\r\n",
      "2022-11-28 03:32:25  Epoch 13 : MAE : 0.5446  RMSE : 1.5645  NMAE : 0.5939  MRE : 0.4905  NPRE : 2.7761\r\n",
      "2022-11-28 03:32:32  Epoch 14 : MAE : 0.5442  RMSE : 1.5805  NMAE : 0.5934  MRE : 0.4860  NPRE : 2.4427\r\n",
      "2022-11-28 03:32:39  Epoch 15 : MAE : 0.5367  RMSE : 1.5515  NMAE : 0.5852  MRE : 0.4842  NPRE : 2.5527\r\n",
      "2022-11-28 03:32:48  Epoch 15 : MAE : 0.5311  RMSE : 1.5237  NMAE : 0.5843  MRE : 0.4844  NPRE : 2.5793\r\n",
      "2022-11-28 03:32:48  \t实验 1 聚合模型训练完毕\r\n",
      "2022-11-28 03:32:48  \t实验 1 : Aggregators training time = 93.73 s\r\n",
      "\r\n",
      "2022-11-28 03:32:48  \t聚合模型训练完毕\r\n",
      "2022-11-28 03:32:48  Round 1 : MAE = 0.5311, RMSE = 1.5237, NMAE = 0.5843, MRE = 0.4844, NPRE = 2.5793\r\n",
      "2022-11-28 03:32:48  Dataset : rt     interaction : NeuCF\r\n",
      "2022-11-28 03:32:48  Density : 10.00%, slice_epochs : 15, agg_epochs : 15\r\n",
      "2022-11-28 03:32:48  Part_type : 1,    slices : 10,       devices : gpu\r\n",
      "\r\n",
      "2022-11-28 03:32:48  Density 10.00% : MAE = 0.531, RMSE = 1.524, NMAE = 0.584, MRE = 0.484, NPRE = 2.579\r\n",
      "\r\n",
      "2022-11-28 03:32:48  Experiment success!\r\n"
     ]
    }
   ],
   "source": [
    "!python Experiment.py --dataset rt --interaction NeuCF --rounds 1 --slice_epochs 15 --agg_epochs 15 --density 0.10 --slices 10 --part_type 1"
   ],
   "metadata": {
    "collapsed": false
   }
  },
  {
   "cell_type": "code",
   "execution_count": 8,
   "outputs": [
    {
     "name": "stdout",
     "output_type": "stream",
     "text": [
      "2022-11-28 03:32:49  Namespace(agg_epochs=20, agg_type='softmax', balance=0, batch_size=128, dataset='rt', density=0.1, devices='gpu', dimension=64, dropout=0.1, interaction='NeuCF', kmeans_type=1, node2vec=0, node2vec_batchsize=32, node2vec_dim=128, node2vec_epochs=20, node2vec_length=10, node2vec_walk=50, node2vec_windows=3, num_layers=2, order=2, part_iter=100, part_type=1, path='./datasets/data/WSDREAM/', processed=1, retrain=0, rounds=1, save_model=1, slice_epochs=15, slices=10, verbose=0)\r\n",
      "2022-11-28 03:32:49  Experiment start!\r\n",
      "2022-11-28 03:32:49  Dataset : rt     interaction : NeuCF\r\n",
      "2022-11-28 03:32:49  Density : 10.00%, slice_epochs : 15, agg_epochs : 20\r\n",
      "2022-11-28 03:32:49  Part_type : 1,    slices : 10,       devices : gpu\r\n",
      "\r\n",
      "2022-11-28 03:32:49  Round 1 experiment start!\r\n",
      "2022-11-28 03:32:49  \t原始数据集读取完毕\r\n",
      "2022-11-28 03:32:49  \t采用异常值处理\r\n",
      "2022-11-28 03:32:50  \t异常值处理完毕\r\n",
      "123\r\n",
      "2022-11-28 03:32:50  \tNode2Vec 基于用户切割完毕\r\n",
      "2022-11-28 03:32:50  \t数据分切执行中\r\n",
      "2022-11-28 03:33:02  \t分切数据执行完毕\r\n",
      "2022-11-28 03:33:04  \t模型加载完毕\r\n",
      "2022-11-28 03:33:04  \t准备训练切片模型\r\n",
      "2022-11-28 03:33:05  \t实验 1 模型 1 开始分片训练\r\n",
      "2022-11-28 03:33:06  Epoch  1 : MAE : 0.8433  RMSE : 2.0290  NMAE : 0.9247  MRE : 0.8944  NPRE : 5.7489\r\n",
      "2022-11-28 03:33:08  Epoch  2 : MAE : 0.7941  RMSE : 2.0378  NMAE : 0.8707  MRE : 0.7860  NPRE : 4.3724\r\n",
      "2022-11-28 03:33:09  Epoch  3 : MAE : 0.7914  RMSE : 2.0468  NMAE : 0.8678  MRE : 0.7673  NPRE : 3.9146\r\n",
      "2022-11-28 03:33:11  Epoch  4 : MAE : 0.7982  RMSE : 2.0461  NMAE : 0.8752  MRE : 0.7598  NPRE : 3.9195\r\n",
      "2022-11-28 03:33:12  Epoch  5 : MAE : 0.7864  RMSE : 2.0376  NMAE : 0.8623  MRE : 0.7384  NPRE : 4.0628\r\n",
      "2022-11-28 03:33:13  实验 1 模型 1 training time = 3.93 s\r\n",
      "2022-11-28 03:33:13  Slice ID  1 : MAE = 0.7950, RMSE = 2.0424, NMAE = 0.8717, MRE = 0.7580, NPRE = 3.8356\r\n",
      "\r\n",
      "2022-11-28 03:33:14  \t实验 1 模型 2 开始分片训练\r\n",
      "2022-11-28 03:33:15  Epoch  1 : MAE : 0.8549  RMSE : 2.0481  NMAE : 0.9373  MRE : 0.9110  NPRE : 5.1011\r\n",
      "2022-11-28 03:33:16  Epoch  2 : MAE : 0.7965  RMSE : 2.0341  NMAE : 0.8734  MRE : 0.7919  NPRE : 4.5598\r\n",
      "2022-11-28 03:33:18  Epoch  3 : MAE : 0.7868  RMSE : 2.0568  NMAE : 0.8627  MRE : 0.7524  NPRE : 3.4096\r\n",
      "2022-11-28 03:33:20  Epoch  4 : MAE : 0.7901  RMSE : 2.0535  NMAE : 0.8663  MRE : 0.7574  NPRE : 3.4005\r\n",
      "2022-11-28 03:33:21  实验 1 模型 2 training time = 3.07 s\r\n",
      "2022-11-28 03:33:21  Slice ID  2 : MAE = 0.8012, RMSE = 2.0350, NMAE = 0.8785, MRE = 0.7801, NPRE = 4.4116\r\n",
      "\r\n",
      "2022-11-28 03:33:21  \t实验 1 模型 3 开始分片训练\r\n",
      "2022-11-28 03:33:23  Epoch  1 : MAE : 0.8556  RMSE : 2.0370  NMAE : 0.9382  MRE : 0.9141  NPRE : 5.6589\r\n",
      "2022-11-28 03:33:24  Epoch  2 : MAE : 0.8529  RMSE : 2.0219  NMAE : 0.9351  MRE : 0.8614  NPRE : 5.9747\r\n",
      "2022-11-28 03:33:26  Epoch  3 : MAE : 0.8185  RMSE : 2.0359  NMAE : 0.8974  MRE : 0.8140  NPRE : 4.6906\r\n",
      "2022-11-28 03:33:27  实验 1 模型 3 training time = 2.76 s\r\n",
      "2022-11-28 03:33:27  Slice ID  3 : MAE = 0.8443, RMSE = 2.0321, NMAE = 0.9257, MRE = 0.8373, NPRE = 5.2987\r\n",
      "\r\n",
      "2022-11-28 03:33:28  \t实验 1 模型 4 开始分片训练\r\n",
      "2022-11-28 03:33:29  Epoch  1 : MAE : 0.8276  RMSE : 2.0421  NMAE : 0.9074  MRE : 0.8639  NPRE : 4.8987\r\n",
      "2022-11-28 03:33:30  Epoch  2 : MAE : 0.8017  RMSE : 2.0609  NMAE : 0.8791  MRE : 0.8001  NPRE : 3.5769\r\n",
      "2022-11-28 03:33:32  Epoch  3 : MAE : 0.7849  RMSE : 2.0270  NMAE : 0.8606  MRE : 0.7645  NPRE : 4.5301\r\n",
      "2022-11-28 03:33:33  实验 1 模型 4 training time = 2.42 s\r\n",
      "2022-11-28 03:33:33  Slice ID  4 : MAE = 0.7800, RMSE = 2.0344, NMAE = 0.8552, MRE = 0.7473, NPRE = 3.9977\r\n",
      "\r\n",
      "2022-11-28 03:33:33  \t实验 1 模型 5 开始分片训练\r\n",
      "2022-11-28 03:33:35  Epoch  1 : MAE : 0.8542  RMSE : 2.0507  NMAE : 0.9366  MRE : 0.9095  NPRE : 5.2768\r\n",
      "2022-11-28 03:33:36  Epoch  2 : MAE : 0.7836  RMSE : 2.0491  NMAE : 0.8592  MRE : 0.7476  NPRE : 3.8544\r\n",
      "2022-11-28 03:33:37  Epoch  3 : MAE : 0.7870  RMSE : 2.0432  NMAE : 0.8629  MRE : 0.7530  NPRE : 3.8614\r\n",
      "2022-11-28 03:33:39  Epoch  4 : MAE : 0.8202  RMSE : 2.0213  NMAE : 0.8993  MRE : 0.8197  NPRE : 5.3316\r\n",
      "2022-11-28 03:33:40  实验 1 模型 5 training time = 2.86 s\r\n",
      "2022-11-28 03:33:40  Slice ID  5 : MAE = 0.8218, RMSE = 2.0302, NMAE = 0.9010, MRE = 0.7866, NPRE = 4.8202\r\n",
      "\r\n",
      "2022-11-28 03:33:40  \t实验 1 模型 6 开始分片训练\r\n",
      "2022-11-28 03:33:42  Epoch  1 : MAE : 0.8300  RMSE : 2.0599  NMAE : 0.9101  MRE : 0.8671  NPRE : 4.4893\r\n",
      "2022-11-28 03:33:43  Epoch  2 : MAE : 0.7872  RMSE : 2.0619  NMAE : 0.8631  MRE : 0.7605  NPRE : 3.4793\r\n",
      "2022-11-28 03:33:45  Epoch  3 : MAE : 0.7830  RMSE : 2.0518  NMAE : 0.8585  MRE : 0.7509  NPRE : 3.8355\r\n",
      "2022-11-28 03:33:46  实验 1 模型 6 training time = 2.59 s\r\n",
      "2022-11-28 03:33:46  Slice ID  6 : MAE = 0.7814, RMSE = 2.0585, NMAE = 0.8568, MRE = 0.7416, NPRE = 3.5172\r\n",
      "\r\n",
      "2022-11-28 03:33:47  \t实验 1 模型 7 开始分片训练\r\n",
      "2022-11-28 03:33:48  Epoch  1 : MAE : 0.8277  RMSE : 2.0594  NMAE : 0.9075  MRE : 0.8598  NPRE : 4.5744\r\n",
      "2022-11-28 03:33:50  Epoch  2 : MAE : 0.7789  RMSE : 2.0665  NMAE : 0.8541  MRE : 0.7273  NPRE : 3.3227\r\n",
      "2022-11-28 03:33:52  Epoch  3 : MAE : 0.7822  RMSE : 2.0540  NMAE : 0.8577  MRE : 0.7499  NPRE : 3.8969\r\n",
      "2022-11-28 03:33:53  Epoch  4 : MAE : 0.7756  RMSE : 2.0598  NMAE : 0.8504  MRE : 0.7253  NPRE : 3.4641\r\n",
      "2022-11-28 03:33:54  Epoch  5 : MAE : 0.7905  RMSE : 2.0483  NMAE : 0.8667  MRE : 0.7782  NPRE : 4.0391\r\n",
      "2022-11-28 03:33:56  Epoch  6 : MAE : 0.7814  RMSE : 2.0527  NMAE : 0.8567  MRE : 0.7527  NPRE : 3.5333\r\n",
      "2022-11-28 03:33:57  实验 1 模型 7 training time = 4.71 s\r\n",
      "2022-11-28 03:33:57  Slice ID  7 : MAE = 0.7833, RMSE = 2.0320, NMAE = 0.8588, MRE = 0.7716, NPRE = 4.0387\r\n",
      "\r\n",
      "2022-11-28 03:33:57  \t实验 1 模型 8 开始分片训练\r\n",
      "2022-11-28 03:33:59  Epoch  1 : MAE : 0.8120  RMSE : 2.0444  NMAE : 0.8903  MRE : 0.8207  NPRE : 4.5334\r\n",
      "2022-11-28 03:34:00  Epoch  2 : MAE : 0.7907  RMSE : 2.0409  NMAE : 0.8669  MRE : 0.7659  NPRE : 4.1767\r\n",
      "2022-11-28 03:34:02  Epoch  3 : MAE : 0.7930  RMSE : 2.0450  NMAE : 0.8695  MRE : 0.7597  NPRE : 3.8781\r\n",
      "2022-11-28 03:34:04  实验 1 模型 8 training time = 2.91 s\r\n",
      "2022-11-28 03:34:04  Slice ID  8 : MAE = 0.7834, RMSE = 2.0436, NMAE = 0.8590, MRE = 0.7388, NPRE = 3.6864\r\n",
      "\r\n",
      "2022-11-28 03:34:04  \t实验 1 模型 9 开始分片训练\r\n",
      "2022-11-28 03:34:05  Epoch  1 : MAE : 0.8432  RMSE : 2.0282  NMAE : 0.9246  MRE : 0.8948  NPRE : 5.9120\r\n",
      "2022-11-28 03:34:07  Epoch  2 : MAE : 0.8033  RMSE : 2.0238  NMAE : 0.8808  MRE : 0.8195  NPRE : 5.1733\r\n",
      "2022-11-28 03:34:08  Epoch  3 : MAE : 0.7990  RMSE : 2.0435  NMAE : 0.8761  MRE : 0.7827  NPRE : 4.1734\r\n",
      "2022-11-28 03:34:10  实验 1 模型 9 training time = 2.50 s\r\n",
      "2022-11-28 03:34:10  Slice ID  9 : MAE = 0.8035, RMSE = 2.0342, NMAE = 0.8810, MRE = 0.7975, NPRE = 4.5315\r\n",
      "\r\n",
      "2022-11-28 03:34:10  \t实验 1 模型 10 开始分片训练\r\n",
      "2022-11-28 03:34:12  Epoch  1 : MAE : 0.8523  RMSE : 2.0662  NMAE : 0.9345  MRE : 0.9075  NPRE : 4.7831\r\n",
      "2022-11-28 03:34:13  Epoch  2 : MAE : 0.8031  RMSE : 2.0590  NMAE : 0.8806  MRE : 0.7968  NPRE : 3.8765\r\n",
      "2022-11-28 03:34:15  Epoch  3 : MAE : 0.7925  RMSE : 2.0408  NMAE : 0.8690  MRE : 0.7791  NPRE : 4.3429\r\n",
      "2022-11-28 03:34:16  Epoch  4 : MAE : 0.7860  RMSE : 2.0472  NMAE : 0.8618  MRE : 0.7550  NPRE : 3.8984\r\n",
      "2022-11-28 03:34:18  Epoch  5 : MAE : 0.7898  RMSE : 2.0442  NMAE : 0.8660  MRE : 0.7618  NPRE : 3.9522\r\n",
      "2022-11-28 03:34:19  实验 1 模型 10 training time = 3.77 s\r\n",
      "2022-11-28 03:34:19  Slice ID  10 : MAE = 0.7916, RMSE = 2.0350, NMAE = 0.8680, MRE = 0.7629, NPRE = 4.1777\r\n",
      "\r\n",
      "2022-11-28 03:34:19  \t所有切片模型训练完毕\r\n",
      "2022-11-28 03:34:20  \t开始训练聚合模型\r\n",
      "2022-11-28 03:34:27  Epoch  1 : MAE : 0.6899  RMSE : 1.9184  NMAE : 0.7565  MRE : 0.5786  NPRE : 2.4337\r\n",
      "2022-11-28 03:34:34  Epoch  2 : MAE : 0.6288  RMSE : 1.7363  NMAE : 0.6895  MRE : 0.5411  NPRE : 2.4451\r\n",
      "2022-11-28 03:34:41  Epoch  3 : MAE : 0.5989  RMSE : 1.6249  NMAE : 0.6567  MRE : 0.5505  NPRE : 3.2506\r\n",
      "2022-11-28 03:34:49  Epoch  4 : MAE : 0.5773  RMSE : 1.6343  NMAE : 0.6329  MRE : 0.4959  NPRE : 2.2932\r\n",
      "2022-11-28 03:34:55  Epoch  5 : MAE : 0.5623  RMSE : 1.5876  NMAE : 0.6165  MRE : 0.4934  NPRE : 2.2360\r\n",
      "2022-11-28 03:35:02  Epoch  6 : MAE : 0.5552  RMSE : 1.5782  NMAE : 0.6087  MRE : 0.4807  NPRE : 2.2997\r\n",
      "2022-11-28 03:35:09  Epoch  7 : MAE : 0.5439  RMSE : 1.5350  NMAE : 0.5964  MRE : 0.4838  NPRE : 2.6113\r\n",
      "2022-11-28 03:35:16  Epoch  8 : MAE : 0.5352  RMSE : 1.5145  NMAE : 0.5869  MRE : 0.4792  NPRE : 2.5510\r\n",
      "2022-11-28 03:35:22  Epoch  9 : MAE : 0.5305  RMSE : 1.5168  NMAE : 0.5817  MRE : 0.4689  NPRE : 2.1303\r\n",
      "2022-11-28 03:35:30  Epoch 10 : MAE : 0.5439  RMSE : 1.5144  NMAE : 0.5964  MRE : 0.5103  NPRE : 3.0604\r\n",
      "2022-11-28 03:35:35  Epoch 11 : MAE : 0.5280  RMSE : 1.5110  NMAE : 0.5790  MRE : 0.4653  NPRE : 2.0959\r\n",
      "2022-11-28 03:35:41  Epoch 12 : MAE : 0.5205  RMSE : 1.4992  NMAE : 0.5707  MRE : 0.4621  NPRE : 2.0828\r\n",
      "2022-11-28 03:35:47  Epoch 13 : MAE : 0.5246  RMSE : 1.4841  NMAE : 0.5752  MRE : 0.4630  NPRE : 2.4560\r\n",
      "2022-11-28 03:35:54  Epoch 14 : MAE : 0.5271  RMSE : 1.5176  NMAE : 0.5780  MRE : 0.4587  NPRE : 1.9804\r\n",
      "2022-11-28 03:36:01  Epoch 15 : MAE : 0.5211  RMSE : 1.4859  NMAE : 0.5713  MRE : 0.4614  NPRE : 2.1708\r\n",
      "2022-11-28 03:36:09  Epoch 16 : MAE : 0.5233  RMSE : 1.5118  NMAE : 0.5737  MRE : 0.4706  NPRE : 1.7156\r\n",
      "2022-11-28 03:36:16  Epoch 17 : MAE : 0.5188  RMSE : 1.4997  NMAE : 0.5689  MRE : 0.4543  NPRE : 2.1146\r\n",
      "2022-11-28 03:36:23  Epoch 18 : MAE : 0.5146  RMSE : 1.4812  NMAE : 0.5643  MRE : 0.4614  NPRE : 2.0897\r\n",
      "2022-11-28 03:36:30  Epoch 19 : MAE : 0.5196  RMSE : 1.4956  NMAE : 0.5697  MRE : 0.4524  NPRE : 2.5591\r\n",
      "2022-11-28 03:36:38  Epoch 20 : MAE : 0.5163  RMSE : 1.4745  NMAE : 0.5661  MRE : 0.4619  NPRE : 2.6161\r\n",
      "2022-11-28 03:36:46  Epoch 20 : MAE : 0.5208  RMSE : 1.4931  NMAE : 0.5727  MRE : 0.4633  NPRE : 2.6620\r\n",
      "2022-11-28 03:36:46  \t实验 1 聚合模型训练完毕\r\n",
      "2022-11-28 03:36:46  \t实验 1 : Aggregators training time = 124.93 s\r\n",
      "\r\n",
      "2022-11-28 03:36:46  \t聚合模型训练完毕\r\n",
      "2022-11-28 03:36:46  Round 1 : MAE = 0.5208, RMSE = 1.4931, NMAE = 0.5727, MRE = 0.4633, NPRE = 2.6620\r\n",
      "2022-11-28 03:36:46  Dataset : rt     interaction : NeuCF\r\n",
      "2022-11-28 03:36:46  Density : 10.00%, slice_epochs : 15, agg_epochs : 20\r\n",
      "2022-11-28 03:36:46  Part_type : 1,    slices : 10,       devices : gpu\r\n",
      "\r\n",
      "2022-11-28 03:36:46  Density 10.00% : MAE = 0.521, RMSE = 1.493, NMAE = 0.573, MRE = 0.463, NPRE = 2.662\r\n",
      "\r\n",
      "2022-11-28 03:36:46  Experiment success!\r\n"
     ]
    }
   ],
   "source": [
    "!python Experiment.py --dataset rt --interaction NeuCF --rounds 1 --slice_epochs 15 --agg_epochs 20 --density 0.10 --slices 10 --part_type 1"
   ],
   "metadata": {
    "collapsed": false
   }
  },
  {
   "cell_type": "code",
   "execution_count": 2,
   "outputs": [
    {
     "name": "stdout",
     "output_type": "stream",
     "text": [
      "2022-11-27 15:40:47  Namespace(agg_epochs=10, agg_type='softmax', batch_size=128, dataset='tp', density=0.1, devices='gpu', dimension=64, dropout=0.1, interaction='NeuCF', node2vec=0, node2vec_batchsize=32, node2vec_dim=128, node2vec_epochs=1000, node2vec_length=10, node2vec_walk=50, num_layers=2, order=2, part_iter=100, part_type=1, path='./datasets/data/WSDREAM/', processed=1, retrain=0, rounds=1, save_model=1, slice_epochs=15, slices=10, verbose=0)\r\n",
      "2022-11-27 15:40:47  Experiment start!\r\n",
      "2022-11-27 15:40:47  Dataset : tp     interaction : NeuCF\r\n",
      "2022-11-27 15:40:47  Density : 10.00%, slice_epochs : 15, agg_epochs : 10\r\n",
      "2022-11-27 15:40:47  Part_type : 1,    slices : 10,       devices : gpu\r\n",
      "\r\n",
      "2022-11-27 15:40:47  Round 1 experiment start!\r\n",
      "2022-11-27 15:40:47  \t原始数据集读取完毕\r\n",
      "2022-11-27 15:40:47  \t采用异常值处理\r\n",
      "2022-11-27 15:40:48  \t异常值处理完毕\r\n",
      "/home/yxzeng/anaconda3/lib/python3.8/site-packages/numpy/core/fromnumeric.py:3432: RuntimeWarning: Mean of empty slice.\r\n",
      "  return _methods._mean(a, axis=axis, dtype=dtype,\r\n",
      "/home/yxzeng/anaconda3/lib/python3.8/site-packages/numpy/core/_methods.py:182: RuntimeWarning: invalid value encountered in divide\r\n",
      "  ret = um.true_divide(\r\n",
      "2022-11-27 15:40:49  \tNode2Vec 基于用户切割完毕\r\n",
      "2022-11-27 15:40:49  \t数据分切执行中\r\n",
      "2022-11-27 15:41:01  \t分切数据执行完毕\r\n",
      "2022-11-27 15:41:04  \t模型加载完毕\r\n",
      "2022-11-27 15:41:04  \t准备训练切片模型\r\n",
      "2022-11-27 15:41:04  \t实验 1 模型 1 开始分片训练\r\n",
      "2022-11-27 15:41:05  Epoch  1 : MAE : 43.9494  RMSE : 116.3496  NMAE : 0.9242  MRE : 0.8906  NPRE : 5.5291\r\n",
      "2022-11-27 15:41:07  Epoch  2 : MAE : 43.0134  RMSE : 116.6275  NMAE : 0.9045  MRE : 0.8434  NPRE : 4.4889\r\n",
      "2022-11-27 15:41:09  Epoch  3 : MAE : 42.8017  RMSE : 116.4257  NMAE : 0.9001  MRE : 0.8321  NPRE : 4.6209\r\n",
      "2022-11-27 15:41:11  Epoch  4 : MAE : 42.6522  RMSE : 116.0717  NMAE : 0.8969  MRE : 0.8344  NPRE : 4.7927\r\n",
      "2022-11-27 15:41:12  Epoch  5 : MAE : 42.8879  RMSE : 115.6382  NMAE : 0.9019  MRE : 0.8574  NPRE : 4.9923\r\n",
      "2022-11-27 15:41:22  实验 1 模型 1 training time = 4.88 s\r\n",
      "2022-11-27 15:41:22  Slice ID  1 : MAE = 42.5110, RMSE = 114.5651, NMAE = 0.8985, MRE = 0.8654, NPRE = 4.9176\r\n",
      "\r\n",
      "2022-11-27 15:41:22  \t实验 1 模型 2 开始分片训练\r\n",
      "2022-11-27 15:41:24  Epoch  1 : MAE : 43.3935  RMSE : 115.5595  NMAE : 0.9125  MRE : 0.8650  NPRE : 6.4004\r\n",
      "2022-11-27 15:41:25  Epoch  2 : MAE : 42.9237  RMSE : 116.5139  NMAE : 0.9027  MRE : 0.8358  NPRE : 4.6456\r\n",
      "2022-11-27 15:41:27  Epoch  3 : MAE : 42.5487  RMSE : 115.8534  NMAE : 0.8948  MRE : 0.8244  NPRE : 5.2427\r\n",
      "2022-11-27 15:41:29  Epoch  4 : MAE : 42.2078  RMSE : 115.4584  NMAE : 0.8876  MRE : 0.8143  NPRE : 5.0636\r\n",
      "2022-11-27 15:41:30  Epoch  5 : MAE : 42.2453  RMSE : 113.9798  NMAE : 0.8884  MRE : 0.8389  NPRE : 6.2119\r\n",
      "2022-11-27 15:41:32  Epoch  6 : MAE : 41.4304  RMSE : 113.1975  NMAE : 0.8713  MRE : 0.8099  NPRE : 5.6147\r\n",
      "2022-11-27 15:41:42  实验 1 模型 2 training time = 5.18 s\r\n",
      "2022-11-27 15:41:42  Slice ID  2 : MAE = 41.2937, RMSE = 111.2724, NMAE = 0.8728, MRE = 0.8394, NPRE = 5.2646\r\n",
      "\r\n",
      "2022-11-27 15:41:42  \t实验 1 模型 3 开始分片训练\r\n",
      "2022-11-27 15:41:44  Epoch  1 : MAE : 44.2012  RMSE : 115.9769  NMAE : 0.9295  MRE : 0.9005  NPRE : 6.3857\r\n",
      "2022-11-27 15:41:45  Epoch  2 : MAE : 42.9306  RMSE : 116.1554  NMAE : 0.9028  MRE : 0.8406  NPRE : 5.1972\r\n",
      "2022-11-27 15:41:47  Epoch  3 : MAE : 42.4946  RMSE : 116.1745  NMAE : 0.8936  MRE : 0.8169  NPRE : 4.7967\r\n",
      "2022-11-27 15:41:49  Epoch  4 : MAE : 42.4494  RMSE : 115.5785  NMAE : 0.8927  MRE : 0.8238  NPRE : 5.3097\r\n",
      "2022-11-27 15:41:58  实验 1 模型 3 training time = 3.94 s\r\n",
      "2022-11-27 15:41:58  Slice ID  3 : MAE = 42.7076, RMSE = 114.5999, NMAE = 0.9027, MRE = 0.8598, NPRE = 5.7467\r\n",
      "\r\n",
      "2022-11-27 15:41:59  \t实验 1 模型 4 开始分片训练\r\n",
      "2022-11-27 15:42:00  Epoch  1 : MAE : 43.9983  RMSE : 116.0410  NMAE : 0.9253  MRE : 0.8952  NPRE : 6.0132\r\n",
      "2022-11-27 15:42:02  Epoch  2 : MAE : 42.6075  RMSE : 115.9720  NMAE : 0.8960  MRE : 0.8275  NPRE : 5.1819\r\n",
      "2022-11-27 15:42:04  Epoch  3 : MAE : 42.2938  RMSE : 114.9871  NMAE : 0.8894  MRE : 0.8214  NPRE : 6.3369\r\n",
      "2022-11-27 15:42:05  Epoch  4 : MAE : 42.6804  RMSE : 115.4268  NMAE : 0.8975  MRE : 0.8431  NPRE : 5.5520\r\n",
      "2022-11-27 15:42:15  实验 1 模型 4 training time = 3.99 s\r\n",
      "2022-11-27 15:42:15  Slice ID  4 : MAE = 41.9203, RMSE = 113.9943, NMAE = 0.8861, MRE = 0.8285, NPRE = 5.7001\r\n",
      "\r\n",
      "2022-11-27 15:42:15  \t实验 1 模型 5 开始分片训练\r\n",
      "2022-11-27 15:42:17  Epoch  1 : MAE : 43.5285  RMSE : 115.4664  NMAE : 0.9154  MRE : 0.8715  NPRE : 6.5862\r\n",
      "2022-11-27 15:42:19  Epoch  2 : MAE : 42.8147  RMSE : 115.9915  NMAE : 0.9004  MRE : 0.8343  NPRE : 5.4197\r\n",
      "2022-11-27 15:42:20  Epoch  3 : MAE : 42.3317  RMSE : 115.5996  NMAE : 0.8902  MRE : 0.8172  NPRE : 5.4547\r\n",
      "2022-11-27 15:42:22  Epoch  4 : MAE : 42.7730  RMSE : 116.4717  NMAE : 0.8995  MRE : 0.8325  NPRE : 4.3255\r\n",
      "2022-11-27 15:42:24  Epoch  5 : MAE : 42.3860  RMSE : 114.9030  NMAE : 0.8913  MRE : 0.8325  NPRE : 5.7851\r\n",
      "2022-11-27 15:42:32  实验 1 模型 5 training time = 4.79 s\r\n",
      "2022-11-27 15:42:32  Slice ID  5 : MAE = 42.0339, RMSE = 113.9198, NMAE = 0.8885, MRE = 0.8395, NPRE = 5.3883\r\n",
      "\r\n",
      "2022-11-27 15:42:32  \t实验 1 模型 6 开始分片训练\r\n",
      "2022-11-27 15:42:34  Epoch  1 : MAE : 44.3704  RMSE : 116.5282  NMAE : 0.9331  MRE : 0.9088  NPRE : 5.7805\r\n",
      "2022-11-27 15:42:36  Epoch  2 : MAE : 42.8711  RMSE : 116.4239  NMAE : 0.9016  MRE : 0.8314  NPRE : 4.8716\r\n",
      "2022-11-27 15:42:37  Epoch  3 : MAE : 43.0939  RMSE : 116.1485  NMAE : 0.9062  MRE : 0.8477  NPRE : 5.3389\r\n",
      "2022-11-27 15:42:39  Epoch  4 : MAE : 42.7621  RMSE : 115.1117  NMAE : 0.8993  MRE : 0.8430  NPRE : 6.2994\r\n",
      "2022-11-27 15:42:49  实验 1 模型 6 training time = 4.36 s\r\n",
      "2022-11-27 15:42:49  Slice ID  6 : MAE = 42.5127, RMSE = 114.9881, NMAE = 0.8986, MRE = 0.8457, NPRE = 5.0911\r\n",
      "\r\n",
      "2022-11-27 15:42:49  \t实验 1 模型 7 开始分片训练\r\n",
      "2022-11-27 15:42:51  Epoch  1 : MAE : 44.0194  RMSE : 116.4939  NMAE : 0.9257  MRE : 0.8922  NPRE : 5.5759\r\n",
      "2022-11-27 15:42:53  Epoch  2 : MAE : 42.5936  RMSE : 116.2412  NMAE : 0.8957  MRE : 0.8173  NPRE : 5.0340\r\n",
      "2022-11-27 15:42:54  Epoch  3 : MAE : 42.7431  RMSE : 115.8462  NMAE : 0.8989  MRE : 0.8317  NPRE : 5.5945\r\n",
      "2022-11-27 15:42:56  Epoch  4 : MAE : 42.3860  RMSE : 116.2355  NMAE : 0.8913  MRE : 0.8095  NPRE : 4.6207\r\n",
      "2022-11-27 15:43:05  实验 1 模型 7 training time = 3.95 s\r\n",
      "2022-11-27 15:43:05  Slice ID  7 : MAE = 42.2681, RMSE = 114.3107, NMAE = 0.8934, MRE = 0.8326, NPRE = 6.0997\r\n",
      "\r\n",
      "2022-11-27 15:43:05  \t实验 1 模型 8 开始分片训练\r\n",
      "2022-11-27 15:43:07  Epoch  1 : MAE : 43.8783  RMSE : 116.9511  NMAE : 0.9227  MRE : 0.8823  NPRE : 4.8006\r\n",
      "2022-11-27 15:43:08  Epoch  2 : MAE : 43.0074  RMSE : 116.0826  NMAE : 0.9044  MRE : 0.8466  NPRE : 5.4468\r\n",
      "2022-11-27 15:43:10  Epoch  3 : MAE : 42.3945  RMSE : 115.5899  NMAE : 0.8915  MRE : 0.8202  NPRE : 5.4191\r\n",
      "2022-11-27 15:43:12  Epoch  4 : MAE : 42.5810  RMSE : 115.8530  NMAE : 0.8954  MRE : 0.8329  NPRE : 4.9102\r\n",
      "2022-11-27 15:43:13  Epoch  5 : MAE : 42.6025  RMSE : 114.2934  NMAE : 0.8959  MRE : 0.8503  NPRE : 6.4061\r\n",
      "2022-11-27 15:43:23  实验 1 模型 8 training time = 4.58 s\r\n",
      "2022-11-27 15:43:23  Slice ID  8 : MAE = 41.9625, RMSE = 112.4903, NMAE = 0.8869, MRE = 0.8450, NPRE = 6.2571\r\n",
      "\r\n",
      "2022-11-27 15:43:23  \t实验 1 模型 9 开始分片训练\r\n",
      "2022-11-27 15:43:24  Epoch  1 : MAE : 45.1610  RMSE : 115.4797  NMAE : 0.9497  MRE : 0.9378  NPRE : 7.5958\r\n",
      "2022-11-27 15:43:26  Epoch  2 : MAE : 42.7787  RMSE : 115.5617  NMAE : 0.8996  MRE : 0.8411  NPRE : 5.7257\r\n",
      "2022-11-27 15:43:28  Epoch  3 : MAE : 42.4456  RMSE : 115.1608  NMAE : 0.8926  MRE : 0.8271  NPRE : 6.0744\r\n",
      "2022-11-27 15:43:29  Epoch  4 : MAE : 42.4727  RMSE : 114.8791  NMAE : 0.8932  MRE : 0.8321  NPRE : 6.1444\r\n",
      "2022-11-27 15:43:39  实验 1 模型 9 training time = 3.90 s\r\n",
      "2022-11-27 15:43:39  Slice ID  9 : MAE = 41.9976, RMSE = 112.9816, NMAE = 0.8877, MRE = 0.8401, NPRE = 7.1299\r\n",
      "\r\n",
      "2022-11-27 15:43:39  \t实验 1 模型 10 开始分片训练\r\n",
      "2022-11-27 15:43:41  Epoch  1 : MAE : 43.6451  RMSE : 116.2108  NMAE : 0.9178  MRE : 0.8758  NPRE : 5.6020\r\n",
      "2022-11-27 15:43:43  Epoch  2 : MAE : 42.9034  RMSE : 115.8007  NMAE : 0.9022  MRE : 0.8397  NPRE : 5.8364\r\n",
      "2022-11-27 15:43:44  Epoch  3 : MAE : 42.7920  RMSE : 116.3503  NMAE : 0.8999  MRE : 0.8324  NPRE : 4.6646\r\n",
      "2022-11-27 15:43:46  Epoch  4 : MAE : 42.2765  RMSE : 115.0392  NMAE : 0.8890  MRE : 0.8234  NPRE : 5.8269\r\n",
      "2022-11-27 15:43:48  Epoch  5 : MAE : 42.4776  RMSE : 114.7338  NMAE : 0.8933  MRE : 0.8404  NPRE : 5.7722\r\n",
      "2022-11-27 15:43:50  Epoch  6 : MAE : 41.9585  RMSE : 113.5459  NMAE : 0.8824  MRE : 0.8260  NPRE : 5.8340\r\n",
      "2022-11-27 15:43:59  实验 1 模型 10 training time = 5.68 s\r\n",
      "2022-11-27 15:43:59  Slice ID  10 : MAE = 41.1040, RMSE = 111.8614, NMAE = 0.8688, MRE = 0.8117, NPRE = 5.0936\r\n",
      "\r\n",
      "2022-11-27 15:43:59  \t所有切片模型训练完毕\r\n",
      "2022-11-27 15:44:00  \t开始训练聚合模型\r\n",
      "2022-11-27 15:44:15  Epoch  1 : MAE : 36.7982  RMSE : 104.5428  NMAE : 0.7778  MRE : 0.6914  NPRE : 3.5144\r\n",
      "2022-11-27 15:44:30  Epoch  2 : MAE : 32.8649  RMSE : 90.9087  NMAE : 0.6947  MRE : 0.6479  NPRE : 3.7751\r\n",
      "2022-11-27 15:44:43  Epoch  3 : MAE : 30.6609  RMSE : 84.8717  NMAE : 0.6481  MRE : 0.6232  NPRE : 3.8230\r\n",
      "2022-11-27 15:44:57  Epoch  4 : MAE : 29.3712  RMSE : 80.7611  NMAE : 0.6208  MRE : 0.6032  NPRE : 3.6023\r\n",
      "2022-11-27 15:45:12  Epoch  5 : MAE : 28.5928  RMSE : 78.5859  NMAE : 0.6044  MRE : 0.5953  NPRE : 3.5386\r\n",
      "2022-11-27 15:45:26  Epoch  6 : MAE : 28.0341  RMSE : 77.4404  NMAE : 0.5925  MRE : 0.5827  NPRE : 3.4151\r\n",
      "2022-11-27 15:45:40  Epoch  7 : MAE : 28.3493  RMSE : 75.8965  NMAE : 0.5992  MRE : 0.5895  NPRE : 3.1610\r\n",
      "2022-11-27 15:45:54  Epoch  8 : MAE : 27.3239  RMSE : 76.1449  NMAE : 0.5775  MRE : 0.5588  NPRE : 2.7268\r\n",
      "2022-11-27 15:46:09  Epoch  9 : MAE : 27.1234  RMSE : 74.3361  NMAE : 0.5733  MRE : 0.5661  NPRE : 3.5218\r\n",
      "2022-11-27 15:46:23  Epoch 10 : MAE : 27.1170  RMSE : 72.6553  NMAE : 0.5732  MRE : 0.5878  NPRE : 3.7683\r\n",
      "2022-11-27 15:46:23  \t实验 1 聚合模型训练完毕\r\n",
      "2022-11-27 15:46:23  \t实验 1 : Aggregators training time = 61.82 s\r\n",
      "\r\n",
      "2022-11-27 15:46:23  \t聚合模型训练完毕\r\n",
      "2022-11-27 15:46:23  Round 1 : MAE = 27.1170, RMSE = 72.6553, NMAE = 0.5732, MRE = 0.5878, NPRE = 3.7683\r\n",
      "\r\n",
      "2022-11-27 15:46:23  Dataset : tp     interaction : NeuCF\r\n",
      "2022-11-27 15:46:23  Density : 10.00%, slice_epochs : 15, agg_epochs : 10\r\n",
      "2022-11-27 15:46:23  Part_type : 1,    slices : 10,       devices : gpu\r\n",
      "\r\n",
      "2022-11-27 15:46:23  Density 10.00% : MAE = 27.117, RMSE = 72.655, NMAE = 0.573, MRE = 0.588, NPRE = 3.768\r\n",
      "\r\n",
      "2022-11-27 15:46:23  Experiment success!\r\n"
     ]
    }
   ],
   "source": [
    "!python Experiment.py --dataset tp --interaction NeuCF --rounds 1 --slice_epochs 15 --agg_epochs 10 --density 0.10 --slices 10 --part_type 1"
   ],
   "metadata": {
    "collapsed": false
   }
  },
  {
   "cell_type": "code",
   "execution_count": 10,
   "outputs": [
    {
     "name": "stdout",
     "output_type": "stream",
     "text": [
      "2022-11-28 12:39:40  Namespace(agg_epochs=10, agg_type='softmax', balance=0, batch_size=128, dataset='rt', density=0.1, devices='gpu', dimension=64, dropout=0.1, interaction='CSMF', kmeans_type=1, node2vec=0, node2vec_batchsize=32, node2vec_dim=128, node2vec_epochs=20, node2vec_length=10, node2vec_walk=50, node2vec_windows=3, num_layers=2, order=2, part_iter=100, part_type=1, path='./datasets/data/WSDREAM/', processed=1, retrain=0, rounds=1, save_model=1, slice_epochs=15, slices=10, verbose=0)\r\n",
      "2022-11-28 12:39:40  Experiment start!\r\n",
      "2022-11-28 12:39:40  Dataset : rt     interaction : CSMF\r\n",
      "2022-11-28 12:39:40  Density : 10.00%, slice_epochs : 15, agg_epochs : 10\r\n",
      "2022-11-28 12:39:40  Part_type : 1,    slices : 10,       devices : gpu\r\n",
      "\r\n",
      "2022-11-28 12:39:40  Round 1 experiment start!\r\n",
      "2022-11-28 12:39:40  \t原始数据集读取完毕\r\n",
      "2022-11-28 12:39:40  \t采用异常值处理\r\n",
      "2022-11-28 12:39:41  \t异常值处理完毕\r\n",
      "123\r\n",
      "2022-11-28 12:39:41  \tNode2Vec 基于用户切割完毕\r\n",
      "2022-11-28 12:39:41  \t数据分切执行中\r\n",
      "2022-11-28 12:39:54  \t分切数据执行完毕\r\n",
      "2022-11-28 12:39:56  \t模型加载完毕\r\n",
      "2022-11-28 12:39:56  \t准备训练切片模型\r\n",
      "2022-11-28 12:39:56  \t实验 1 模型 1 开始分片训练\r\n",
      "2022-11-28 12:39:58  Epoch  1 : MAE : 0.7951  RMSE : 2.0690  NMAE : 0.8564  MRE : 0.8333  NPRE : 5.0728\r\n",
      "2022-11-28 12:40:00  Epoch  2 : MAE : 0.7670  RMSE : 2.0930  NMAE : 0.8260  MRE : 0.6783  NPRE : 3.5769\r\n",
      "2022-11-28 12:40:02  Epoch  3 : MAE : 0.7635  RMSE : 2.0893  NMAE : 0.8223  MRE : 0.6679  NPRE : 3.4954\r\n",
      "2022-11-28 12:40:03  实验 1 模型 1 training time = 2.46 s\r\n",
      "2022-11-28 12:40:03  Slice ID  1 : MAE = 0.7615, RMSE = 2.0847, NMAE = 0.8201, MRE = 0.6539, NPRE = 3.4110\r\n",
      "\r\n",
      "2022-11-28 12:40:04  \t实验 1 模型 2 开始分片训练\r\n",
      "2022-11-28 12:40:05  Epoch  1 : MAE : 0.7903  RMSE : 2.0713  NMAE : 0.8511  MRE : 0.7954  NPRE : 4.7886\r\n",
      "2022-11-28 12:40:07  Epoch  2 : MAE : 0.7663  RMSE : 2.0936  NMAE : 0.8253  MRE : 0.6644  NPRE : 3.4524\r\n",
      "2022-11-28 12:40:09  Epoch  3 : MAE : 0.7644  RMSE : 2.0896  NMAE : 0.8233  MRE : 0.6597  NPRE : 3.4500\r\n",
      "2022-11-28 12:40:10  实验 1 模型 2 training time = 2.31 s\r\n",
      "2022-11-28 12:40:10  Slice ID  2 : MAE = 0.7669, RMSE = 2.0815, NMAE = 0.8259, MRE = 0.6668, NPRE = 3.5254\r\n",
      "\r\n",
      "2022-11-28 12:40:11  \t实验 1 模型 3 开始分片训练\r\n",
      "2022-11-28 12:40:12  Epoch  1 : MAE : 0.7932  RMSE : 2.0651  NMAE : 0.8543  MRE : 0.8358  NPRE : 5.0963\r\n",
      "2022-11-28 12:40:14  Epoch  2 : MAE : 0.7655  RMSE : 2.0889  NMAE : 0.8244  MRE : 0.6813  NPRE : 3.6595\r\n",
      "2022-11-28 12:40:16  Epoch  3 : MAE : 0.7636  RMSE : 2.0858  NMAE : 0.8224  MRE : 0.6739  NPRE : 3.5881\r\n",
      "2022-11-28 12:40:18  实验 1 模型 3 training time = 2.44 s\r\n",
      "2022-11-28 12:40:18  Slice ID  3 : MAE = 0.7651, RMSE = 2.0795, NMAE = 0.8240, MRE = 0.6771, NPRE = 3.5606\r\n",
      "\r\n",
      "2022-11-28 12:40:18  \t实验 1 模型 4 开始分片训练\r\n",
      "2022-11-28 12:40:20  Epoch  1 : MAE : 0.7710  RMSE : 2.0803  NMAE : 0.8303  MRE : 0.7095  NPRE : 4.1750\r\n",
      "2022-11-28 12:40:21  Epoch  2 : MAE : 0.7597  RMSE : 2.0932  NMAE : 0.8182  MRE : 0.6486  NPRE : 3.3950\r\n",
      "2022-11-28 12:40:23  Epoch  3 : MAE : 0.7571  RMSE : 2.0907  NMAE : 0.8155  MRE : 0.6399  NPRE : 3.2858\r\n",
      "2022-11-28 12:40:25  实验 1 模型 4 training time = 2.61 s\r\n",
      "2022-11-28 12:40:25  Slice ID  4 : MAE = 0.7584, RMSE = 2.0812, NMAE = 0.8168, MRE = 0.6526, NPRE = 3.4427\r\n",
      "\r\n",
      "2022-11-28 12:40:25  \t实验 1 模型 5 开始分片训练\r\n",
      "2022-11-28 12:40:27  Epoch  1 : MAE : 0.8009  RMSE : 2.0616  NMAE : 0.8625  MRE : 0.8620  NPRE : 5.4860\r\n",
      "2022-11-28 12:40:29  Epoch  2 : MAE : 0.7651  RMSE : 2.0942  NMAE : 0.8240  MRE : 0.6675  NPRE : 3.5966\r\n",
      "2022-11-28 12:40:30  Epoch  3 : MAE : 0.7616  RMSE : 2.0949  NMAE : 0.8202  MRE : 0.6513  NPRE : 3.3952\r\n",
      "2022-11-28 12:40:32  实验 1 模型 5 training time = 2.32 s\r\n",
      "2022-11-28 12:40:32  Slice ID  5 : MAE = 0.7596, RMSE = 2.0929, NMAE = 0.8181, MRE = 0.6404, NPRE = 3.2760\r\n",
      "\r\n",
      "2022-11-28 12:40:33  \t实验 1 模型 6 开始分片训练\r\n",
      "2022-11-28 12:40:34  Epoch  1 : MAE : 0.7784  RMSE : 2.0804  NMAE : 0.8383  MRE : 0.7522  NPRE : 4.3996\r\n",
      "2022-11-28 12:40:36  Epoch  2 : MAE : 0.7621  RMSE : 2.1026  NMAE : 0.8208  MRE : 0.6507  NPRE : 3.1814\r\n",
      "2022-11-28 12:40:38  Epoch  3 : MAE : 0.7585  RMSE : 2.0999  NMAE : 0.8169  MRE : 0.6417  NPRE : 3.0931\r\n",
      "2022-11-28 12:40:40  实验 1 模型 6 training time = 2.57 s\r\n",
      "2022-11-28 12:40:40  Slice ID  6 : MAE = 0.7548, RMSE = 2.0978, NMAE = 0.8130, MRE = 0.6250, NPRE = 2.9002\r\n",
      "\r\n",
      "2022-11-28 12:40:40  \t实验 1 模型 7 开始分片训练\r\n",
      "2022-11-28 12:40:42  Epoch  1 : MAE : 0.7763  RMSE : 2.0787  NMAE : 0.8360  MRE : 0.7480  NPRE : 4.4084\r\n",
      "2022-11-28 12:40:44  Epoch  2 : MAE : 0.7628  RMSE : 2.0940  NMAE : 0.8215  MRE : 0.6657  NPRE : 3.4947\r\n",
      "2022-11-28 12:40:45  Epoch  3 : MAE : 0.7598  RMSE : 2.0912  NMAE : 0.8183  MRE : 0.6556  NPRE : 3.3812\r\n",
      "2022-11-28 12:40:47  实验 1 模型 7 training time = 2.47 s\r\n",
      "2022-11-28 12:40:47  Slice ID  7 : MAE = 0.7571, RMSE = 2.0885, NMAE = 0.8154, MRE = 0.6432, NPRE = 3.2296\r\n",
      "\r\n",
      "2022-11-28 12:40:47  \t实验 1 模型 8 开始分片训练\r\n",
      "2022-11-28 12:40:49  Epoch  1 : MAE : 0.7806  RMSE : 2.0771  NMAE : 0.8407  MRE : 0.7669  NPRE : 4.4980\r\n",
      "2022-11-28 12:40:51  Epoch  2 : MAE : 0.7626  RMSE : 2.0938  NMAE : 0.8213  MRE : 0.6650  NPRE : 3.4412\r\n",
      "2022-11-28 12:40:53  Epoch  3 : MAE : 0.7588  RMSE : 2.0914  NMAE : 0.8173  MRE : 0.6457  NPRE : 3.2645\r\n",
      "2022-11-28 12:40:55  实验 1 模型 8 training time = 2.66 s\r\n",
      "2022-11-28 12:40:55  Slice ID  8 : MAE = 0.7580, RMSE = 2.0861, NMAE = 0.8164, MRE = 0.6384, NPRE = 3.2084\r\n",
      "\r\n",
      "2022-11-28 12:40:55  \t实验 1 模型 9 开始分片训练\r\n",
      "2022-11-28 12:40:57  Epoch  1 : MAE : 0.7887  RMSE : 2.0688  NMAE : 0.8494  MRE : 0.8111  NPRE : 5.0327\r\n",
      "2022-11-28 12:40:58  Epoch  2 : MAE : 0.7646  RMSE : 2.0918  NMAE : 0.8234  MRE : 0.6686  NPRE : 3.6480\r\n",
      "2022-11-28 12:41:00  Epoch  3 : MAE : 0.7628  RMSE : 2.0892  NMAE : 0.8215  MRE : 0.6617  NPRE : 3.5756\r\n",
      "2022-11-28 12:41:02  实验 1 模型 9 training time = 2.41 s\r\n",
      "2022-11-28 12:41:02  Slice ID  9 : MAE = 0.7628, RMSE = 2.0859, NMAE = 0.8216, MRE = 0.6536, NPRE = 3.4832\r\n",
      "\r\n",
      "2022-11-28 12:41:02  \t实验 1 模型 10 开始分片训练\r\n",
      "2022-11-28 12:41:04  Epoch  1 : MAE : 0.7984  RMSE : 2.0644  NMAE : 0.8599  MRE : 0.8405  NPRE : 5.0321\r\n",
      "2022-11-28 12:41:05  Epoch  2 : MAE : 0.7679  RMSE : 2.0866  NMAE : 0.8270  MRE : 0.6798  NPRE : 3.6937\r\n",
      "2022-11-28 12:41:07  Epoch  3 : MAE : 0.7657  RMSE : 2.0838  NMAE : 0.8247  MRE : 0.6692  NPRE : 3.6254\r\n",
      "2022-11-28 12:41:09  实验 1 模型 10 training time = 2.29 s\r\n",
      "2022-11-28 12:41:09  Slice ID  10 : MAE = 0.7681, RMSE = 2.0769, NMAE = 0.8272, MRE = 0.6748, NPRE = 3.7169\r\n",
      "\r\n",
      "2022-11-28 12:41:09  \t所有切片模型训练完毕\r\n",
      "2022-11-28 12:41:09  \t开始训练聚合模型\r\n",
      "2022-11-28 12:41:13  Epoch  1 : MAE : 0.7390  RMSE : 2.0824  NMAE : 0.7959  MRE : 0.5875  NPRE : 2.6146\r\n",
      "2022-11-28 12:41:17  Epoch  2 : MAE : 0.7296  RMSE : 2.0730  NMAE : 0.7857  MRE : 0.5671  NPRE : 2.4458\r\n",
      "2022-11-28 12:41:21  Epoch  3 : MAE : 0.7251  RMSE : 2.0659  NMAE : 0.7810  MRE : 0.5551  NPRE : 2.1683\r\n",
      "2022-11-28 12:41:24  Epoch  4 : MAE : 0.7215  RMSE : 2.0644  NMAE : 0.7771  MRE : 0.5454  NPRE : 2.0234\r\n",
      "2022-11-28 12:41:28  Epoch  5 : MAE : 0.7170  RMSE : 2.0505  NMAE : 0.7722  MRE : 0.5460  NPRE : 2.1225\r\n",
      "2022-11-28 12:41:32  Epoch  6 : MAE : 0.7148  RMSE : 2.0337  NMAE : 0.7699  MRE : 0.5580  NPRE : 2.2952\r\n",
      "2022-11-28 12:41:35  Epoch  7 : MAE : 0.7116  RMSE : 2.0238  NMAE : 0.7664  MRE : 0.5565  NPRE : 2.3751\r\n",
      "2022-11-28 12:41:39  Epoch  8 : MAE : 0.7111  RMSE : 2.0036  NMAE : 0.7658  MRE : 0.5760  NPRE : 2.7693\r\n",
      "2022-11-28 12:41:43  Epoch  9 : MAE : 0.7087  RMSE : 2.0232  NMAE : 0.7633  MRE : 0.5497  NPRE : 2.2621\r\n",
      "2022-11-28 12:41:46  Epoch 10 : MAE : 0.7089  RMSE : 2.0198  NMAE : 0.7634  MRE : 0.5515  NPRE : 2.1371\r\n",
      "2022-11-28 12:41:51  Epoch 10 : MAE : 0.6888  RMSE : 1.9611  NMAE : 0.7581  MRE : 0.5494  NPRE : 2.1152\r\n",
      "2022-11-28 12:41:51  \t实验 1 聚合模型训练完毕\r\n",
      "2022-11-28 12:41:51  \t实验 1 : Aggregators training time = 31.66 s\r\n",
      "\r\n",
      "2022-11-28 12:41:51  \t聚合模型训练完毕\r\n",
      "2022-11-28 12:41:51  Round 1 : MAE = 0.6888, RMSE = 1.9611, NMAE = 0.7581, MRE = 0.5494, NPRE = 2.1152\r\n",
      "2022-11-28 12:41:51  Dataset : rt     interaction : CSMF\r\n",
      "2022-11-28 12:41:51  Density : 10.00%, slice_epochs : 15, agg_epochs : 10\r\n",
      "2022-11-28 12:41:51  Part_type : 1,    slices : 10,       devices : gpu\r\n",
      "\r\n",
      "2022-11-28 12:41:51  Density 10.00% : MAE = 0.689, RMSE = 1.961, NMAE = 0.758, MRE = 0.549, NPRE = 2.115\r\n",
      "\r\n",
      "2022-11-28 12:41:51  Experiment success!\r\n"
     ]
    }
   ],
   "source": [
    "!python Experiment.py --dataset rt --interaction CSMF --rounds 1 --slice_epochs 15 --agg_epochs 10 --density 0.10 --slices 10 --part_type 1"
   ],
   "metadata": {
    "collapsed": false
   }
  },
  {
   "cell_type": "code",
   "execution_count": 3,
   "outputs": [
    {
     "name": "stdout",
     "output_type": "stream",
     "text": [
      "2022-11-27 15:46:24  Namespace(agg_epochs=10, agg_type='softmax', batch_size=128, dataset='tp', density=0.1, devices='gpu', dimension=64, dropout=0.1, interaction='CSMF', node2vec=0, node2vec_batchsize=32, node2vec_dim=128, node2vec_epochs=1000, node2vec_length=10, node2vec_walk=50, num_layers=2, order=2, part_iter=100, part_type=1, path='./datasets/data/WSDREAM/', processed=1, retrain=0, rounds=1, save_model=1, slice_epochs=15, slices=10, verbose=0)\r\n",
      "2022-11-27 15:46:24  Experiment start!\r\n",
      "2022-11-27 15:46:24  Dataset : tp     interaction : CSMF\r\n",
      "2022-11-27 15:46:24  Density : 10.00%, slice_epochs : 15, agg_epochs : 10\r\n",
      "2022-11-27 15:46:24  Part_type : 1,    slices : 10,       devices : gpu\r\n",
      "\r\n",
      "2022-11-27 15:46:24  Round 1 experiment start!\r\n",
      "2022-11-27 15:46:24  \t原始数据集读取完毕\r\n",
      "2022-11-27 15:46:24  \t采用异常值处理\r\n",
      "2022-11-27 15:46:25  \t异常值处理完毕\r\n",
      "/home/yxzeng/anaconda3/lib/python3.8/site-packages/numpy/core/fromnumeric.py:3432: RuntimeWarning: Mean of empty slice.\r\n",
      "  return _methods._mean(a, axis=axis, dtype=dtype,\r\n",
      "/home/yxzeng/anaconda3/lib/python3.8/site-packages/numpy/core/_methods.py:182: RuntimeWarning: invalid value encountered in divide\r\n",
      "  ret = um.true_divide(\r\n",
      "2022-11-27 15:46:26  \tNode2Vec 基于用户切割完毕\r\n",
      "2022-11-27 15:46:26  \t数据分切执行中\r\n",
      "2022-11-27 15:46:39  \t分切数据执行完毕\r\n",
      "2022-11-27 15:46:41  \t模型加载完毕\r\n",
      "2022-11-27 15:46:41  \t准备训练切片模型\r\n",
      "2022-11-27 15:46:41  \t实验 1 模型 1 开始分片训练\r\n",
      "2022-11-27 15:46:43  Epoch  1 : MAE : 42.7144  RMSE : 113.6626  NMAE : 0.8991  MRE : 0.8737  NPRE : 8.7635\r\n",
      "2022-11-27 15:46:45  Epoch  2 : MAE : 41.6469  RMSE : 114.7352  NMAE : 0.8767  MRE : 0.7934  NPRE : 6.5900\r\n",
      "2022-11-27 15:46:47  Epoch  3 : MAE : 41.6795  RMSE : 114.0126  NMAE : 0.8773  MRE : 0.7977  NPRE : 7.2587\r\n",
      "2022-11-27 15:46:49  Epoch  4 : MAE : 41.5165  RMSE : 113.6949  NMAE : 0.8739  MRE : 0.7831  NPRE : 7.1883\r\n",
      "2022-11-27 15:47:06  实验 1 模型 1 training time = 4.38 s\r\n",
      "2022-11-27 15:47:06  Slice ID  1 : MAE = 41.8652, RMSE = 112.8784, NMAE = 0.8837, MRE = 0.7967, NPRE = 7.7185\r\n",
      "\r\n",
      "2022-11-27 15:47:07  \t实验 1 模型 2 开始分片训练\r\n",
      "2022-11-27 15:47:09  Epoch  1 : MAE : 42.5539  RMSE : 114.0776  NMAE : 0.8958  MRE : 0.8493  NPRE : 8.2914\r\n",
      "2022-11-27 15:47:11  Epoch  2 : MAE : 41.6026  RMSE : 115.0829  NMAE : 0.8757  MRE : 0.7809  NPRE : 6.1334\r\n",
      "2022-11-27 15:47:13  Epoch  3 : MAE : 41.4409  RMSE : 114.3701  NMAE : 0.8723  MRE : 0.7789  NPRE : 6.5840\r\n",
      "2022-11-27 15:47:16  Epoch  4 : MAE : 41.1715  RMSE : 114.0363  NMAE : 0.8667  MRE : 0.7650  NPRE : 6.3676\r\n",
      "2022-11-27 15:47:18  Epoch  5 : MAE : 41.0191  RMSE : 113.6190  NMAE : 0.8634  MRE : 0.7569  NPRE : 6.3154\r\n",
      "2022-11-27 15:47:34  实验 1 模型 2 training time = 5.20 s\r\n",
      "2022-11-27 15:47:34  Slice ID  2 : MAE = 40.8513, RMSE = 112.7905, NMAE = 0.8623, MRE = 0.7533, NPRE = 6.4543\r\n",
      "\r\n",
      "2022-11-27 15:47:34  \t实验 1 模型 3 开始分片训练\r\n",
      "2022-11-27 15:47:37  Epoch  1 : MAE : 42.6137  RMSE : 113.8070  NMAE : 0.8970  MRE : 0.8600  NPRE : 8.5300\r\n",
      "2022-11-27 15:47:39  Epoch  2 : MAE : 41.5940  RMSE : 114.9933  NMAE : 0.8755  MRE : 0.7822  NPRE : 6.2010\r\n",
      "2022-11-27 15:47:41  Epoch  3 : MAE : 41.4946  RMSE : 114.4988  NMAE : 0.8735  MRE : 0.7790  NPRE : 6.4880\r\n",
      "2022-11-27 15:47:43  Epoch  4 : MAE : 41.3062  RMSE : 114.2693  NMAE : 0.8695  MRE : 0.7695  NPRE : 6.4377\r\n",
      "2022-11-27 15:48:00  实验 1 模型 3 training time = 4.31 s\r\n",
      "2022-11-27 15:48:00  Slice ID  3 : MAE = 41.3342, RMSE = 113.7819, NMAE = 0.8725, MRE = 0.7716, NPRE = 6.6249\r\n",
      "\r\n",
      "2022-11-27 15:48:00  \t实验 1 模型 4 开始分片训练\r\n",
      "2022-11-27 15:48:02  Epoch  1 : MAE : 42.5896  RMSE : 113.7718  NMAE : 0.8965  MRE : 0.8630  NPRE : 8.6171\r\n",
      "2022-11-27 15:48:04  Epoch  2 : MAE : 41.5575  RMSE : 114.6947  NMAE : 0.8748  MRE : 0.7854  NPRE : 6.5135\r\n",
      "2022-11-27 15:48:07  Epoch  3 : MAE : 41.4387  RMSE : 113.9836  NMAE : 0.8723  MRE : 0.7871  NPRE : 6.9098\r\n",
      "2022-11-27 15:48:09  Epoch  4 : MAE : 41.1656  RMSE : 113.7674  NMAE : 0.8665  MRE : 0.7689  NPRE : 6.6481\r\n",
      "2022-11-27 15:48:25  实验 1 模型 4 training time = 4.11 s\r\n",
      "2022-11-27 15:48:25  Slice ID  4 : MAE = 41.1867, RMSE = 112.9295, NMAE = 0.8693, MRE = 0.7702, NPRE = 6.9413\r\n",
      "\r\n",
      "2022-11-27 15:48:26  \t实验 1 模型 5 开始分片训练\r\n",
      "2022-11-27 15:48:28  Epoch  1 : MAE : 42.7527  RMSE : 113.9078  NMAE : 0.8999  MRE : 0.8681  NPRE : 8.7097\r\n",
      "2022-11-27 15:48:30  Epoch  2 : MAE : 41.7028  RMSE : 114.9791  NMAE : 0.8778  MRE : 0.7861  NPRE : 6.4522\r\n",
      "2022-11-27 15:48:32  Epoch  3 : MAE : 41.6512  RMSE : 114.2793  NMAE : 0.8768  MRE : 0.7896  NPRE : 7.0431\r\n",
      "2022-11-27 15:48:35  Epoch  4 : MAE : 41.3709  RMSE : 114.0414  NMAE : 0.8709  MRE : 0.7759  NPRE : 6.8446\r\n",
      "2022-11-27 15:48:52  实验 1 模型 5 training time = 4.37 s\r\n",
      "2022-11-27 15:48:52  Slice ID  5 : MAE = 41.2821, RMSE = 113.3490, NMAE = 0.8714, MRE = 0.7790, NPRE = 7.0155\r\n",
      "\r\n",
      "2022-11-27 15:48:52  \t实验 1 模型 6 开始分片训练\r\n",
      "2022-11-27 15:48:54  Epoch  1 : MAE : 42.7693  RMSE : 113.6896  NMAE : 0.9003  MRE : 0.8734  NPRE : 8.7611\r\n",
      "2022-11-27 15:48:56  Epoch  2 : MAE : 41.7181  RMSE : 114.7216  NMAE : 0.8782  MRE : 0.7944  NPRE : 6.6015\r\n",
      "2022-11-27 15:48:58  Epoch  3 : MAE : 41.6981  RMSE : 114.0831  NMAE : 0.8777  MRE : 0.7961  NPRE : 7.0055\r\n",
      "2022-11-27 15:49:00  Epoch  4 : MAE : 41.5777  RMSE : 113.8512  NMAE : 0.8752  MRE : 0.7876  NPRE : 6.9422\r\n",
      "2022-11-27 15:49:17  实验 1 模型 6 training time = 4.21 s\r\n",
      "2022-11-27 15:49:17  Slice ID  6 : MAE = 41.6511, RMSE = 113.4877, NMAE = 0.8791, MRE = 0.7863, NPRE = 7.1113\r\n",
      "\r\n",
      "2022-11-27 15:49:17  \t实验 1 模型 7 开始分片训练\r\n",
      "2022-11-27 15:49:19  Epoch  1 : MAE : 42.6543  RMSE : 113.6848  NMAE : 0.8979  MRE : 0.8709  NPRE : 8.6552\r\n",
      "2022-11-27 15:49:22  Epoch  2 : MAE : 41.6139  RMSE : 114.6848  NMAE : 0.8760  MRE : 0.7909  NPRE : 6.5493\r\n",
      "2022-11-27 15:49:24  Epoch  3 : MAE : 41.6734  RMSE : 113.8281  NMAE : 0.8772  MRE : 0.7968  NPRE : 7.2510\r\n",
      "2022-11-27 15:49:26  Epoch  4 : MAE : 41.2650  RMSE : 113.5627  NMAE : 0.8686  MRE : 0.7768  NPRE : 6.8637\r\n",
      "2022-11-27 15:49:42  实验 1 模型 7 training time = 4.51 s\r\n",
      "2022-11-27 15:49:42  Slice ID  7 : MAE = 41.3323, RMSE = 112.3992, NMAE = 0.8724, MRE = 0.7819, NPRE = 7.2267\r\n",
      "\r\n",
      "2022-11-27 15:49:43  \t实验 1 模型 8 开始分片训练\r\n",
      "2022-11-27 15:49:45  Epoch  1 : MAE : 42.9821  RMSE : 113.5973  NMAE : 0.9048  MRE : 0.8882  NPRE : 9.0232\r\n",
      "2022-11-27 15:49:47  Epoch  2 : MAE : 41.8169  RMSE : 114.6407  NMAE : 0.8802  MRE : 0.8069  NPRE : 6.8140\r\n",
      "2022-11-27 15:49:49  Epoch  3 : MAE : 42.0787  RMSE : 113.9138  NMAE : 0.8858  MRE : 0.8175  NPRE : 7.5932\r\n",
      "2022-11-27 15:49:51  Epoch  4 : MAE : 41.7412  RMSE : 113.8885  NMAE : 0.8786  MRE : 0.7973  NPRE : 7.2210\r\n",
      "2022-11-27 15:50:08  实验 1 模型 8 training time = 4.30 s\r\n",
      "2022-11-27 15:50:08  Slice ID  8 : MAE = 41.8518, RMSE = 113.3391, NMAE = 0.8834, MRE = 0.8055, NPRE = 7.5795\r\n",
      "\r\n",
      "2022-11-27 15:50:08  \t实验 1 模型 9 开始分片训练\r\n",
      "2022-11-27 15:50:10  Epoch  1 : MAE : 42.5982  RMSE : 113.9332  NMAE : 0.8967  MRE : 0.8650  NPRE : 8.3606\r\n",
      "2022-11-27 15:50:13  Epoch  2 : MAE : 41.5413  RMSE : 115.1861  NMAE : 0.8744  MRE : 0.7775  NPRE : 5.9694\r\n",
      "2022-11-27 15:50:15  Epoch  3 : MAE : 41.3261  RMSE : 114.4360  NMAE : 0.8699  MRE : 0.7723  NPRE : 6.5077\r\n",
      "2022-11-27 15:50:17  Epoch  4 : MAE : 40.9728  RMSE : 113.9973  NMAE : 0.8625  MRE : 0.7530  NPRE : 6.2299\r\n",
      "2022-11-27 15:50:34  实验 1 模型 9 training time = 4.56 s\r\n",
      "2022-11-27 15:50:34  Slice ID  9 : MAE = 40.8792, RMSE = 113.0340, NMAE = 0.8629, MRE = 0.7539, NPRE = 6.4485\r\n",
      "\r\n",
      "2022-11-27 15:50:34  \t实验 1 模型 10 开始分片训练\r\n",
      "2022-11-27 15:50:36  Epoch  1 : MAE : 42.7730  RMSE : 113.9544  NMAE : 0.9004  MRE : 0.8630  NPRE : 8.6677\r\n",
      "2022-11-27 15:50:38  Epoch  2 : MAE : 41.6837  RMSE : 115.0518  NMAE : 0.8774  MRE : 0.7854  NPRE : 6.3533\r\n",
      "2022-11-27 15:50:41  Epoch  3 : MAE : 41.5502  RMSE : 114.4059  NMAE : 0.8746  MRE : 0.7799  NPRE : 6.8171\r\n",
      "2022-11-27 15:50:43  Epoch  4 : MAE : 41.3208  RMSE : 113.7228  NMAE : 0.8698  MRE : 0.7744  NPRE : 7.0658\r\n",
      "2022-11-27 15:51:00  实验 1 模型 10 training time = 4.20 s\r\n",
      "2022-11-27 15:51:00  Slice ID  10 : MAE = 41.2708, RMSE = 112.8910, NMAE = 0.8711, MRE = 0.7744, NPRE = 7.1170\r\n",
      "\r\n",
      "2022-11-27 15:51:00  \t所有切片模型训练完毕\r\n",
      "2022-11-27 15:51:00  \t开始训练聚合模型\r\n",
      "2022-11-27 15:51:11  Epoch  1 : MAE : 38.2073  RMSE : 110.1152  NMAE : 0.8065  MRE : 0.6619  NPRE : 4.1983\r\n",
      "2022-11-27 15:51:21  Epoch  2 : MAE : 37.3189  RMSE : 107.7712  NMAE : 0.7877  MRE : 0.6511  NPRE : 3.9745\r\n",
      "2022-11-27 15:51:32  Epoch  3 : MAE : 36.6284  RMSE : 105.5819  NMAE : 0.7731  MRE : 0.6477  NPRE : 3.5499\r\n",
      "2022-11-27 15:51:41  Epoch  4 : MAE : 36.1068  RMSE : 100.8330  NMAE : 0.7621  MRE : 0.6682  NPRE : 4.2520\r\n",
      "2022-11-27 15:51:53  Epoch  5 : MAE : 35.6711  RMSE : 100.3295  NMAE : 0.7529  MRE : 0.6690  NPRE : 3.3606\r\n",
      "2022-11-27 15:52:03  Epoch  6 : MAE : 35.2094  RMSE : 97.6688  NMAE : 0.7432  MRE : 0.6757  NPRE : 3.6087\r\n",
      "2022-11-27 15:52:14  Epoch  7 : MAE : 35.0891  RMSE : 95.9121  NMAE : 0.7406  MRE : 0.6827  NPRE : 4.1837\r\n",
      "2022-11-27 15:52:25  Epoch  8 : MAE : 34.9187  RMSE : 95.5722  NMAE : 0.7370  MRE : 0.6816  NPRE : 3.9644\r\n",
      "2022-11-27 15:52:36  Epoch  9 : MAE : 34.7379  RMSE : 96.4881  NMAE : 0.7332  MRE : 0.6760  NPRE : 3.3097\r\n",
      "2022-11-27 15:52:47  Epoch 10 : MAE : 34.4269  RMSE : 96.0543  NMAE : 0.7267  MRE : 0.6736  NPRE : 3.0656\r\n",
      "2022-11-27 15:52:47  \t实验 1 聚合模型训练完毕\r\n",
      "2022-11-27 15:52:47  \t实验 1 : Aggregators training time = 34.76 s\r\n",
      "\r\n",
      "2022-11-27 15:52:47  \t聚合模型训练完毕\r\n",
      "2022-11-27 15:52:47  Round 1 : MAE = 34.4269, RMSE = 96.0543, NMAE = 0.7267, MRE = 0.6736, NPRE = 3.0656\r\n",
      "\r\n",
      "2022-11-27 15:52:47  Dataset : tp     interaction : CSMF\r\n",
      "2022-11-27 15:52:47  Density : 10.00%, slice_epochs : 15, agg_epochs : 10\r\n",
      "2022-11-27 15:52:47  Part_type : 1,    slices : 10,       devices : gpu\r\n",
      "\r\n",
      "2022-11-27 15:52:47  Density 10.00% : MAE = 34.427, RMSE = 96.054, NMAE = 0.727, MRE = 0.674, NPRE = 3.066\r\n",
      "\r\n",
      "2022-11-27 15:52:47  Experiment success!\r\n"
     ]
    }
   ],
   "source": [
    "!python Experiment.py --dataset tp --interaction CSMF --rounds 1 --slice_epochs 15 --agg_epochs 10 --density 0.10 --slices 10 --part_type 1"
   ],
   "metadata": {
    "collapsed": false
   }
  },
  {
   "cell_type": "code",
   "execution_count": null,
   "outputs": [],
   "source": [
    "!python Experiment.py --dataset rt --interaction NeuGraphMF --rounds 1 --slice_epochs 15 --agg_epochs 10 --density 0.10 --slices 10 --part_type 1"
   ],
   "metadata": {
    "collapsed": false
   }
  },
  {
   "cell_type": "code",
   "execution_count": null,
   "outputs": [],
   "source": [
    "!python Experiment.py --dataset tp --interaction NeuGraphMF --rounds 1 --slice_epochs 15 --agg_epochs 10 --density 0.10 --slices 10 --part_type 1"
   ],
   "metadata": {
    "collapsed": false
   }
  },
  {
   "cell_type": "markdown",
   "source": [
    "*****"
   ],
   "metadata": {
    "collapsed": false
   }
  },
  {
   "cell_type": "markdown",
   "source": [
    "## Density : 0.15"
   ],
   "metadata": {
    "collapsed": false
   }
  },
  {
   "cell_type": "markdown",
   "source": [
    "### Eraser"
   ],
   "metadata": {
    "collapsed": false
   }
  },
  {
   "cell_type": "code",
   "execution_count": null,
   "outputs": [],
   "source": [
    "!python Experiment.py --dataset rt --interaction NeuCF --rounds 1 --slice_epochs 15 --agg_epochs 10 --density 0.15 --slices 10 --part_type 1"
   ],
   "metadata": {
    "collapsed": false
   }
  },
  {
   "cell_type": "code",
   "execution_count": null,
   "outputs": [],
   "source": [
    "!python Experiment.py --dataset tp --interaction NeuCF --rounds 1 --slice_epochs 15 --agg_epochs 10 --density 0.15 --slices 10 --part_type 1"
   ],
   "metadata": {
    "collapsed": false
   }
  },
  {
   "cell_type": "code",
   "execution_count": null,
   "outputs": [],
   "source": [
    "!python Experiment.py --dataset rt --interaction CSMF --rounds 1 --slice_epochs 15 --agg_epochs 10 --density 0.15 --slices 10 --part_type 1"
   ],
   "metadata": {
    "collapsed": false
   }
  },
  {
   "cell_type": "code",
   "execution_count": null,
   "outputs": [],
   "source": [
    "!python Experiment.py --dataset tp --interaction CSMF --rounds 1 --slice_epochs 15 --agg_epochs 10 --density 0.15 --slices 10 --part_type 1"
   ],
   "metadata": {
    "collapsed": false
   }
  },
  {
   "cell_type": "code",
   "execution_count": null,
   "outputs": [],
   "source": [
    "!python Experiment.py --dataset rt --interaction NeuGraphMF --rounds 1 --slice_epochs 15 --agg_epochs 10 --density 0.15 --slices 10 --part_type 1"
   ],
   "metadata": {
    "collapsed": false
   }
  },
  {
   "cell_type": "code",
   "execution_count": null,
   "outputs": [],
   "source": [
    "!python Experiment.py --dataset tp --interaction NeuGraphMF --rounds 1 --slice_epochs 15 --agg_epochs 10 --density 0.15 --slices 10 --part_type 1"
   ],
   "metadata": {
    "collapsed": false
   }
  },
  {
   "cell_type": "markdown",
   "source": [
    "*****"
   ],
   "metadata": {
    "collapsed": false
   }
  },
  {
   "cell_type": "markdown",
   "source": [
    "## Density : 0.20"
   ],
   "metadata": {
    "collapsed": false
   }
  },
  {
   "cell_type": "markdown",
   "source": [
    "### Eraser"
   ],
   "metadata": {
    "collapsed": false
   }
  },
  {
   "cell_type": "code",
   "execution_count": null,
   "outputs": [],
   "source": [
    "!python Experiment.py --dataset rt --interaction NeuCF --rounds 1 --slice_epochs 15 --agg_epochs 10 --density 0.20 --slices 10 --part_type 1"
   ],
   "metadata": {
    "collapsed": false
   }
  },
  {
   "cell_type": "code",
   "execution_count": null,
   "outputs": [],
   "source": [
    "!python Experiment.py --dataset tp --interaction NeuCF --rounds 1 --slice_epochs 15 --agg_epochs 10 --density 0.20 --slices 10 --part_type 1"
   ],
   "metadata": {
    "collapsed": false
   }
  },
  {
   "cell_type": "code",
   "execution_count": null,
   "outputs": [],
   "source": [
    "!python Experiment.py --dataset rt --interaction CSMF --rounds 1 --slice_epochs 15 --agg_epochs 10 --density 0.20 --slices 10 --part_type 1"
   ],
   "metadata": {
    "collapsed": false
   }
  },
  {
   "cell_type": "code",
   "execution_count": null,
   "outputs": [],
   "source": [
    "!python Experiment.py --dataset tp --interaction CSMF --rounds 1 --slice_epochs 15 --agg_epochs 10 --density 0.20 --slices 10 --part_type 1"
   ],
   "metadata": {
    "collapsed": false
   }
  },
  {
   "cell_type": "code",
   "execution_count": null,
   "outputs": [],
   "source": [
    "!python Experiment.py --dataset rt --interaction NeuGraphMF --rounds 1 --slice_epochs 15 --agg_epochs 10 --density 0.20 --slices 10 --part_type 1"
   ],
   "metadata": {
    "collapsed": false
   }
  },
  {
   "cell_type": "code",
   "execution_count": null,
   "outputs": [],
   "source": [
    "!python Experiment.py --dataset tp --interaction NeuGraphMF --rounds 1 --slice_epochs 15 --agg_epochs 10 --density 0.20 --slices 10 --part_type 1"
   ],
   "metadata": {
    "collapsed": false
   }
  },
  {
   "cell_type": "markdown",
   "source": [
    "*****"
   ],
   "metadata": {
    "collapsed": false
   }
  },
  {
   "cell_type": "markdown",
   "source": [
    "## Density : 0.25"
   ],
   "metadata": {
    "collapsed": false
   }
  },
  {
   "cell_type": "markdown",
   "source": [
    "### Eraser"
   ],
   "metadata": {
    "collapsed": false
   }
  },
  {
   "cell_type": "code",
   "execution_count": null,
   "outputs": [],
   "source": [
    "!python Experiment.py --dataset rt --interaction NeuCF --rounds 1 --slice_epochs 15 --agg_epochs 10 --density 0.25 --slices 10 --part_type 1"
   ],
   "metadata": {
    "collapsed": false
   }
  },
  {
   "cell_type": "code",
   "execution_count": null,
   "outputs": [],
   "source": [
    "!python Experiment.py --dataset tp --interaction NeuCF --rounds 1 --slice_epochs 15 --agg_epochs 10 --density 0.25 --slices 10 --part_type 1"
   ],
   "metadata": {
    "collapsed": false
   }
  },
  {
   "cell_type": "code",
   "execution_count": null,
   "outputs": [],
   "source": [
    "!python Experiment.py --dataset rt --interaction CSMF --rounds 1 --slice_epochs 15 --agg_epochs 10 --density 0.25 --slices 10 --part_type 1"
   ],
   "metadata": {
    "collapsed": false
   }
  },
  {
   "cell_type": "code",
   "execution_count": null,
   "outputs": [],
   "source": [
    "!python Experiment.py --dataset tp --interaction CSMF --rounds 1 --slice_epochs 15 --agg_epochs 10 --density 0.25 --slices 10 --part_type 1"
   ],
   "metadata": {
    "collapsed": false
   }
  },
  {
   "cell_type": "code",
   "execution_count": null,
   "outputs": [],
   "source": [
    "!python Experiment.py --dataset rt --interaction NeuGraphMF --rounds 1 --slice_epochs 15 --agg_epochs 10 --density 0.25 --slices 10 --part_type 1"
   ],
   "metadata": {
    "collapsed": false
   }
  },
  {
   "cell_type": "code",
   "execution_count": null,
   "outputs": [],
   "source": [
    "!python Experiment.py --dataset tp --interaction NeuGraphMF --rounds 1 --slice_epochs 15 --agg_epochs 10 --density 0.25 --slices 10 --part_type 1"
   ],
   "metadata": {
    "collapsed": false
   }
  },
  {
   "cell_type": "markdown",
   "source": [
    "*****"
   ],
   "metadata": {
    "collapsed": false
   }
  },
  {
   "cell_type": "markdown",
   "source": [
    "## Density : 0.30"
   ],
   "metadata": {
    "collapsed": false
   }
  },
  {
   "cell_type": "markdown",
   "source": [
    "### Eraser"
   ],
   "metadata": {
    "collapsed": false
   }
  },
  {
   "cell_type": "code",
   "execution_count": null,
   "outputs": [],
   "source": [
    "!python Experiment.py --dataset rt --interaction NeuCF --rounds 1 --slice_epochs 15 --agg_epochs 10 --density 0.30 --slices 10 --part_type 1"
   ],
   "metadata": {
    "collapsed": false
   }
  },
  {
   "cell_type": "code",
   "execution_count": null,
   "outputs": [],
   "source": [
    "!python Experiment.py --dataset tp --interaction NeuCF --rounds 1 --slice_epochs 15 --agg_epochs 10 --density 0.30 --slices 10 --part_type 1"
   ],
   "metadata": {
    "collapsed": false
   }
  },
  {
   "cell_type": "code",
   "execution_count": null,
   "outputs": [],
   "source": [
    "!python Experiment.py --dataset rt --interaction CSMF --rounds 1 --slice_epochs 15 --agg_epochs 10 --density 0.30 --slices 10 --part_type 1"
   ],
   "metadata": {
    "collapsed": false
   }
  },
  {
   "cell_type": "code",
   "execution_count": null,
   "outputs": [],
   "source": [
    "!python Experiment.py --dataset tp --interaction CSMF --rounds 1 --slice_epochs 15 --agg_epochs 10 --density 0.30 --slices 10 --part_type 1"
   ],
   "metadata": {
    "collapsed": false
   }
  },
  {
   "cell_type": "code",
   "execution_count": null,
   "outputs": [],
   "source": [
    "!python Experiment.py --dataset rt --interaction NeuGraphMF --rounds 1 --slice_epochs 15 --agg_epochs 10 --density 0.30 --slices 10 --part_type 1"
   ],
   "metadata": {
    "collapsed": false
   }
  },
  {
   "cell_type": "code",
   "execution_count": null,
   "outputs": [],
   "source": [
    "!python Experiment.py --dataset tp --interaction NeuGraphMF --rounds 1 --slice_epochs 15 --agg_epochs 10 --density 0.30 --slices 10 --part_type 1"
   ],
   "metadata": {
    "collapsed": false
   }
  }
 ],
 "metadata": {
  "kernelspec": {
   "display_name": "base",
   "language": "python",
   "name": "python3"
  },
  "language_info": {
   "codemirror_mode": {
    "name": "ipython",
    "version": 3
   },
   "file_extension": ".py",
   "mimetype": "text/x-python",
   "name": "python",
   "nbconvert_exporter": "python",
   "pygments_lexer": "ipython3",
   "version": "3.8.5 (default, Sep  4 2020, 07:30:14) \n[GCC 7.3.0]"
  },
  "vscode": {
   "interpreter": {
    "hash": "eb7c85c17b1976aa789c9d87b9763b6f005911cd226333300bbe1880120eaefe"
   }
  }
 },
 "nbformat": 4,
 "nbformat_minor": 0
}
