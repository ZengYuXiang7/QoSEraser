{
 "cells": [
  {
   "cell_type": "markdown",
   "metadata": {},
   "source": [
    "# Author : yuxiang Zeng"
   ]
  },
  {
   "cell_type": "markdown",
   "metadata": {},
   "source": [
    "# slices 8"
   ]
  },
  {
   "cell_type": "code",
   "execution_count": null,
   "metadata": {
    "collapsed": false,
    "pycharm": {
     "name": "#%%\n"
    }
   },
   "outputs": [],
   "source": [
    "!python Experiment.py --path ./datasets/data/WSDREAM/ --dataset rt --interaction NeuCF --rounds 5 --slice_epochs 50 --agg_epochs 100 --density 0.1 --dropout 0. --slices 8 --part_type 3 --part_iter 30 --verbose 0 --save_model 1 --devices gpu --processed 1"
   ]
  },
  {
   "cell_type": "code",
   "execution_count": null,
   "metadata": {},
   "outputs": [],
   "source": [
    "!python Experiment.py --path ./datasets/data/WSDREAM/ --dataset tp --interaction NeuCF --rounds 5 --slice_epochs 50 --agg_epochs 100 --density 0.1 --dropout 0. --slices 8 --part_type 3 --part_iter 30 --verbose 0 --save_model 1  --devices gpu --processed 1"
   ]
  },
  {
   "cell_type": "code",
   "execution_count": null,
   "metadata": {
    "collapsed": false,
    "pycharm": {
     "name": "#%%\n"
    }
   },
   "outputs": [],
   "source": [
    "!python Experiment.py --path ./datasets/data/WSDREAM/ --dataset rt --interaction NeuCF --rounds 5 --slice_epochs 50 --agg_epochs 100 --density 0.2 --dropout 0. --slices 8 --part_type 3 --part_iter 30 --verbose 0 --save_model 1  --devices gpu --processed 1"
   ]
  },
  {
   "cell_type": "code",
   "execution_count": null,
   "metadata": {},
   "outputs": [],
   "source": [
    "!python Experiment.py --path ./datasets/data/WSDREAM/ --dataset tp --interaction NeuCF --rounds 5 --slice_epochs 50 --agg_epochs 100 --density 0.2 --dropout 0. --slices 8 --part_type 3 --part_iter 30 --verbose 0 --save_model 1  --devices gpu --processed 1"
   ]
  },
  {
   "cell_type": "code",
   "execution_count": null,
   "metadata": {
    "collapsed": false,
    "pycharm": {
     "name": "#%%\n"
    }
   },
   "outputs": [],
   "source": [
    "!python Experiment.py --path ./datasets/data/WSDREAM/ --dataset rt --interaction NeuCF --rounds 5 --slice_epochs 50 --agg_epochs 100 --density 0.3 --dropout 0. --slices 8 --part_type 3 --part_iter 30 --verbose 0 --save_model 1 --devices gpu --processed 1"
   ]
  },
  {
   "cell_type": "code",
   "execution_count": null,
   "metadata": {},
   "outputs": [],
   "source": [
    "!python Experiment.py --path ./datasets/data/WSDREAM/ --dataset tp --interaction NeuCF --rounds 5 --slice_epochs 50 --agg_epochs 100 --density 0.3 --dropout 0. --slices 8 --part_type 3 --part_iter 30 --verbose 0 --save_model 1  --devices gpu --processed 1"
   ]
  },
  {
   "cell_type": "code",
   "execution_count": null,
   "metadata": {
    "collapsed": false,
    "pycharm": {
     "name": "#%%\n"
    }
   },
   "outputs": [],
   "source": [
    "!python Experiment.py --path ./datasets/data/WSDREAM/ --dataset rt --interaction NeuCF --rounds 5 --slice_epochs 50 --agg_epochs 100 --density 0.4 --dropout 0. --slices 8 --part_type 3 --part_iter 30 --verbose 0 --save_model 1 --devices gpu --processed 1"
   ]
  },
  {
   "cell_type": "code",
   "execution_count": null,
   "metadata": {
    "collapsed": false,
    "pycharm": {
     "name": "#%%\n"
    }
   },
   "outputs": [],
   "source": [
    "!python Experiment.py --path ./datasets/data/WSDREAM/ --dataset tp --interaction NeuCF --rounds 5 --slice_epochs 50 --agg_epochs 100 --density 0.4 --dropout 0. --slices 8 --part_type 3 --part_iter 30 --verbose 0 --save_model 1  --devices gpu --processed 1"
   ]
  },
  {
   "cell_type": "markdown",
   "metadata": {},
   "source": [
    "# slices 16"
   ]
  },
  {
   "cell_type": "code",
   "execution_count": null,
   "metadata": {
    "collapsed": false,
    "pycharm": {
     "name": "#%%\n"
    }
   },
   "outputs": [],
   "source": [
    "!python Experiment.py --path ./datasets/data/WSDREAM/ --dataset rt --interaction NeuCF --rounds 5 --slice_epochs 50 --agg_epochs 100 --density 0.1 --dropout 0. --slices 16 --part_type 3 --part_iter 30 --verbose 0 --save_model 1 --devices gpu --processed 1"
   ]
  },
  {
   "cell_type": "code",
   "execution_count": null,
   "metadata": {},
   "outputs": [],
   "source": [
    "!python Experiment.py --path ./datasets/data/WSDREAM/ --dataset tp --interaction NeuCF --rounds 5 --slice_epochs 50 --agg_epochs 100 --density 0.1 --dropout 0. --slices 16 --part_type 3 --part_iter 30 --verbose 0 --save_model 1  --devices gpu --processed 1"
   ]
  },
  {
   "cell_type": "code",
   "execution_count": null,
   "metadata": {
    "collapsed": false,
    "pycharm": {
     "name": "#%%\n"
    }
   },
   "outputs": [],
   "source": [
    "!python Experiment.py --path ./datasets/data/WSDREAM/ --dataset rt --interaction NeuCF --rounds 5 --slice_epochs 50 --agg_epochs 100 --density 0.2 --dropout 0. --slices 16 --part_type 3 --part_iter 30 --verbose 0 --save_model 1  --devices gpu --processed 1"
   ]
  },
  {
   "cell_type": "code",
   "execution_count": null,
   "metadata": {},
   "outputs": [],
   "source": [
    "!python Experiment.py --path ./datasets/data/WSDREAM/ --dataset tp --interaction NeuCF --rounds 5 --slice_epochs 50 --agg_epochs 100 --density 0.2 --dropout 0. --slices 16 --part_type 3 --part_iter 30 --verbose 0 --save_model 1  --devices gpu --processed 1"
   ]
  },
  {
   "cell_type": "code",
   "execution_count": null,
   "metadata": {
    "collapsed": false,
    "pycharm": {
     "name": "#%%\n"
    }
   },
   "outputs": [],
   "source": [
    "!python Experiment.py --path ./datasets/data/WSDREAM/ --dataset rt --interaction NeuCF --rounds 5 --slice_epochs 50 --agg_epochs 100 --density 0.3 --dropout 0. --slices 16 --part_type 3 --part_iter 30 --verbose 0 --save_model 1 --devices gpu --processed 1"
   ]
  },
  {
   "cell_type": "code",
   "execution_count": null,
   "metadata": {},
   "outputs": [],
   "source": [
    "!python Experiment.py --path ./datasets/data/WSDREAM/ --dataset tp --interaction NeuCF --rounds 5 --slice_epochs 50 --agg_epochs 100 --density 0.3 --dropout 0. --slices 16 --part_type 3 --part_iter 30 --verbose 0 --save_model 1  --devices gpu --processed 1"
   ]
  },
  {
   "cell_type": "code",
   "execution_count": null,
   "metadata": {
    "collapsed": false,
    "pycharm": {
     "name": "#%%\n"
    }
   },
   "outputs": [],
   "source": [
    "!python Experiment.py --path ./datasets/data/WSDREAM/ --dataset rt --interaction NeuCF --rounds 5 --slice_epochs 50 --agg_epochs 100 --density 0.4 --dropout 0. --slices 16 --part_type 3 --part_iter 30 --verbose 0 --save_model 1 --devices gpu --processed 1"
   ]
  },
  {
   "cell_type": "code",
   "execution_count": null,
   "metadata": {
    "collapsed": false,
    "pycharm": {
     "name": "#%%\n"
    }
   },
   "outputs": [],
   "source": [
    "!python Experiment.py --path ./datasets/data/WSDREAM/ --dataset tp --interaction NeuCF --rounds 5 --slice_epochs 50 --agg_epochs 100 --density 0.4 --dropout 0. --slices 16 --part_type 3 --part_iter 30 --verbose 0 --save_model 1  --devices gpu --processed 1/"
   ]
  },
  {
   "cell_type": "markdown",
   "metadata": {},
   "source": [
    "# slices 32"
   ]
  },
  {
   "cell_type": "code",
   "execution_count": null,
   "metadata": {
    "collapsed": false,
    "pycharm": {
     "name": "#%%\n"
    }
   },
   "outputs": [],
   "source": [
    "!python Experiment.py --path ./datasets/data/WSDREAM/ --dataset rt --interaction NeuCF --rounds 5 --slice_epochs 50 --agg_epochs 100 --density 0.1 --dropout 0. --slices 32 --part_type 3 --part_iter 30 --verbose 0 --save_model 1 --devices gpu --processed 1"
   ]
  },
  {
   "cell_type": "code",
   "execution_count": null,
   "metadata": {},
   "outputs": [],
   "source": [
    "!python Experiment.py --path ./datasets/data/WSDREAM/ --dataset tp --interaction NeuCF --rounds 5 --slice_epochs 50 --agg_epochs 100 --density 0.1 --dropout 0. --slices 32 --part_type 3 --part_iter 30 --verbose 0 --save_model 1  --devices gpu --processed 1"
   ]
  },
  {
   "cell_type": "code",
   "execution_count": null,
   "metadata": {
    "collapsed": false,
    "pycharm": {
     "name": "#%%\n"
    }
   },
   "outputs": [],
   "source": [
    "!python Experiment.py --path ./datasets/data/WSDREAM/ --dataset rt --interaction NeuCF --rounds 5 --slice_epochs 50 --agg_epochs 100 --density 0.2 --dropout 0. --slices 32 --part_type 3 --part_iter 30 --verbose 0 --save_model 1  --devices gpu --processed 1"
   ]
  },
  {
   "cell_type": "code",
   "execution_count": null,
   "metadata": {},
   "outputs": [],
   "source": [
    "!python Experiment.py --path ./datasets/data/WSDREAM/ --dataset tp --interaction NeuCF --rounds 5 --slice_epochs 50 --agg_epochs 100 --density 0.2 --dropout 0. --slices 32 --part_type 3 --part_iter 30 --verbose 0 --save_model 1  --devices gpu --processed 1"
   ]
  },
  {
   "cell_type": "code",
   "execution_count": null,
   "metadata": {
    "collapsed": false,
    "pycharm": {
     "name": "#%%\n"
    }
   },
   "outputs": [],
   "source": [
    "!python Experiment.py --path ./datasets/data/WSDREAM/ --dataset rt --interaction NeuCF --rounds 5 --slice_epochs 50 --agg_epochs 100 --density 0.3 --dropout 0. --slices 32 --part_type 3 --part_iter 30 --verbose 0 --save_model 1 --devices gpu --processed 1"
   ]
  },
  {
   "cell_type": "code",
   "execution_count": null,
   "metadata": {},
   "outputs": [],
   "source": [
    "!python Experiment.py --path ./datasets/data/WSDREAM/ --dataset tp --interaction NeuCF --rounds 5 --slice_epochs 50 --agg_epochs 100 --density 0.3 --dropout 0. --slices 32 --part_type 3 --part_iter 30 --verbose 0 --save_model 1  --devices gpu --processed 1"
   ]
  },
  {
   "cell_type": "code",
   "execution_count": null,
   "metadata": {
    "collapsed": false,
    "pycharm": {
     "name": "#%%\n"
    }
   },
   "outputs": [],
   "source": [
    "!python Experiment.py --path ./datasets/data/WSDREAM/ --dataset rt --interaction NeuCF --rounds 5 --slice_epochs 50 --agg_epochs 100 --density 0.4 --dropout 0. --slices 32 --part_type 3 --part_iter 30 --verbose 0 --save_model 1 --devices gpu --processed 1"
   ]
  },
  {
   "cell_type": "code",
   "execution_count": null,
   "metadata": {
    "collapsed": false,
    "pycharm": {
     "name": "#%%\n"
    }
   },
   "outputs": [],
   "source": [
    "!python Experiment.py --path ./datasets/data/WSDREAM/ --dataset tp --interaction NeuCF --rounds 5 --slice_epochs 50 --agg_epochs 100 --density 0.4 --dropout 0. --slices 32 --part_type 3 --part_iter 30 --verbose 0 --save_model 1  --devices gpu --processed /1"
   ]
  }
 ],
 "metadata": {
  "kernelspec": {
   "display_name": "Python 3.8.5 ('base')",
   "language": "python",
   "name": "python3"
  },
  "language_info": {
   "codemirror_mode": {
    "name": "ipython",
    "version": 3
   },
   "file_extension": ".py",
   "mimetype": "text/x-python",
   "name": "python",
   "nbconvert_exporter": "python",
   "pygments_lexer": "ipython3",
   "version": "3.8.5"
  },
  "orig_nbformat": 4,
  "vscode": {
   "interpreter": {
    "hash": "eb7c85c17b1976aa789c9d87b9763b6f005911cd226333300bbe1880120eaefe"
   }
  }
 },
 "nbformat": 4,
 "nbformat_minor": 2
}