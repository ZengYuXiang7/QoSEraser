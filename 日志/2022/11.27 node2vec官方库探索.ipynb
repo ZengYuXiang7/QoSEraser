{
 "cells": [
  {
   "cell_type": "code",
   "execution_count": null,
   "outputs": [],
   "source": [
    "!python Experiment.py --dataset rt --interaction NeuCF --rounds 1 --slice_epochs 15 --agg_epochs 10 --density 0.10 --slices 10 --part_type 1  --node2vec_walk 10 --node2vec_dim 128 --node2vec_length 10 --node2vec_batchsize 32 --node2vec_windows 3 --kmeans_type 1 --balance 1"
   ],
   "metadata": {
    "collapsed": false
   }
  },
  {
   "cell_type": "code",
   "execution_count": null,
   "outputs": [],
   "source": [
    "!python Experiment.py --dataset rt --interaction NeuCF --rounds 1 --slice_epochs 15 --agg_epochs 10 --density 0.10 --slices 10 --part_type 1 --node2vec_walk 10 --node2vec_dim 128 --node2vec_length 10 --node2vec_batchsize 32 --node2vec_epochs 500 --node2vec_windows 3 --kmeans_type 1 --balance 0"
   ],
   "metadata": {
    "collapsed": false
   }
  }
 ],
 "metadata": {
  "kernelspec": {
   "display_name": "Python 3",
   "language": "python",
   "name": "python3"
  },
  "language_info": {
   "codemirror_mode": {
    "name": "ipython",
    "version": 2
   },
   "file_extension": ".py",
   "mimetype": "text/x-python",
   "name": "python",
   "nbconvert_exporter": "python",
   "pygments_lexer": "ipython2",
   "version": "2.7.6"
  }
 },
 "nbformat": 4,
 "nbformat_minor": 0
}
