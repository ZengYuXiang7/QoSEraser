{
 "cells": [
  {
   "cell_type": "code",
   "execution_count": 98,
   "metadata": {
    "collapsed": true
   },
   "outputs": [],
   "source": [
    "import pickle as pk\n",
    "import numpy as np\n",
    "import pandas as pd\n",
    "import random\n",
    "from tqdm import *"
   ]
  },
  {
   "cell_type": "code",
   "execution_count": 99,
   "outputs": [],
   "source": [
    "class a:\n",
    "    def __init__(self):\n",
    "        self.node2vec_dim = 128\n",
    "        self.node2vec_length = 20\n",
    "        self.node2vec_walk = 50\n",
    "        self.node2vec_epochs = 20\n",
    "        self.node2vec_batchsize = 32\n",
    "        self.node2vec_windows = 3\n",
    "        self.slices = 10\n",
    "        self.interaction = 'NeuCF'\n",
    "        self.devices = 'cpu'\n",
    "        self.dataset = 'rt'\n",
    "        self.path = './datasets/data/WSDREAM/'\n",
    "        self.dimension = 64\n",
    "        self.num_layers = 2\n",
    "        self.dropout = 0.1\n",
    "        self.part_iter = 20"
   ],
   "metadata": {
    "collapsed": false
   }
  },
  {
   "cell_type": "code",
   "execution_count": 100,
   "outputs": [],
   "source": [
    "from utility.utils import log\n",
    "\n",
    "\n",
    "# RecEarser\n",
    "def interaction_based_balanced_parition(tensor, args):\n",
    "    def E_score2(a, b):\n",
    "        return np.sum(np.power(a - b, 2))\n",
    "\n",
    "    with open('./pretrain/user_embeds.pk', \"rb\") as f:\n",
    "        uidW = pk.load(f)\n",
    "\n",
    "    with open('./pretrain/item_embeds.pk', \"rb\") as f:\n",
    "        iidW = pk.load(f)\n",
    "\n",
    "    print(uidW.shape, iidW.shape)\n",
    "    # try:\n",
    "        # with open('./pretrain/RecEarser.pk', 'rb') as f:\n",
    "        #     C = pk.load(f)\n",
    "    # except IOError:\n",
    "    data = []\n",
    "    for i in range(tensor.shape[0]):\n",
    "        for j in range(tensor.shape[1]):\n",
    "            data.append([i, j])\n",
    "\n",
    "    max_number = 1.2 * 339 * 5825 // args.slices\n",
    "\n",
    "    center_id = random.sample(data, args.slices)\n",
    "\n",
    "    center_user_value = []\n",
    "    for i in range(args.slices):\n",
    "        center_user_value.append([uidW[center_id[i][0]], iidW[center_id[i]][1]])\n",
    "\n",
    "\n",
    "    C = None\n",
    "    for iterid in range(args.part_iter):\n",
    "        print(f'Iterid : {iterid + 1}')\n",
    "        C = [{} for _ in range(args.slices)]\n",
    "        C_number = [0 for _ in range(args.slices)]\n",
    "        Scores = {}\n",
    "\n",
    "        for userid in trange(len(data)):\n",
    "            for sliceid in range(args.slices):\n",
    "                score_user = E_score2(np.array(uidW[data[userid][0]]), np.array(center_user_value[sliceid][0]))\n",
    "                score_item = E_score2(np.array(iidW[data[userid][1]]), np.array(center_user_value[sliceid][1]))\n",
    "\n",
    "                Scores[userid, sliceid] = - score_user * score_item\n",
    "\n",
    "        Scores = sorted(Scores.items(), key=lambda x: x[1], reverse=True)\n",
    "\n",
    "        visted = [False for _ in range(len(data))]\n",
    "        for i in trange(len(Scores)):\n",
    "            if not visted[Scores[i][0][0]]:\n",
    "                if C_number[Scores[i][0][1]] < max_number:\n",
    "                    if data[Scores[i][0][0]][0] not in C[Scores[i][0][1]]:\n",
    "                        C[Scores[i][0][1]][data[Scores[i][0][0]][0]] = [\n",
    "                            data[Scores[i][0][0]][1]]  # 把这个item放入对应的user元祖\n",
    "                    else:\n",
    "                        C[Scores[i][0][1]][data[Scores[i][0][0]][0]].append(data[Scores[i][0][0]][1])\n",
    "\n",
    "                    # print(C[Scores[i][0][1]][data[Scores[i][0][0]][0]])\n",
    "\n",
    "                    visted[Scores[i][0][0]] = True\n",
    "                    C_number[Scores[i][0][1]] += 1\n",
    "\n",
    "        center_user_value_next = []\n",
    "\n",
    "        for sliceid in trange(args.slices):\n",
    "            temp_user_value = []\n",
    "            temp_item_value = []\n",
    "            user_mean, item_mean = None, None\n",
    "            for userid in C[sliceid].keys():\n",
    "                for itemid in C[sliceid][userid]:\n",
    "                    temp_user_value.append(uidW[userid])\n",
    "                    temp_item_value.append(iidW[itemid])\n",
    "\n",
    "            if len(temp_user_value):\n",
    "                user_mean = np.mean(temp_user_value)\n",
    "            else:\n",
    "                user_mean = 0\n",
    "\n",
    "            if len(temp_item_value):\n",
    "                item_mean = np.mean(temp_item_value)\n",
    "            else:\n",
    "                item_mean = 0\n",
    "\n",
    "            center_user_value_next.append([user_mean, item_mean])\n",
    "\n",
    "        loss = 0.0\n",
    "\n",
    "        for sliceid in trange(args.slices):\n",
    "            score_user = E_score2(np.array(center_user_value_next[sliceid][0]),\n",
    "                                  np.array(center_user_value[sliceid][0]))\n",
    "            score_item = E_score2(np.array(center_user_value_next[sliceid][1]),\n",
    "                                  np.array(center_user_value[sliceid][1]))\n",
    "            loss += (score_user * score_item)\n",
    "\n",
    "        center_user_value = center_user_value_next\n",
    "\n",
    "        log(f'iterid {iterid + 1} : loss = {loss:.30f}')\n",
    "\n",
    "        # for sliceid in range(args.slices):\n",
    "        #     print(C_number[sliceid])\n",
    "\n",
    "        print('-' * 80)\n",
    "\n",
    "    pk.dump(C, open('./pretrain/RecEarser.pk', 'wb'))\n",
    "\n",
    "    return C\n",
    "    # split_Tensor = []\n",
    "    #\n",
    "    # row_idx = [[] for _ in range(args.slices)]\n",
    "    # col_idx = [[] for _ in range(args.slices)]\n",
    "    #\n",
    "    # for sliceid in range(args.slices):\n",
    "    #     temp = np.zeros_like(tensor)\n",
    "    #\n",
    "    #     for userid in C[sliceid].keys():\n",
    "    #         row_idx[sliceid] += [userid for _ in range(len(C[sliceid][userid]))]\n",
    "    #         col_idx[sliceid] += [itemid for itemid in C[sliceid][userid]]\n",
    "    #\n",
    "    #     temp[row_idx[sliceid], col_idx[sliceid]] = tensor[row_idx[sliceid], col_idx[sliceid]]\n",
    "    #     split_Tensor.append(temp)\n",
    "    #\n",
    "    # return split_Tensor"
   ],
   "metadata": {
    "collapsed": false
   }
  },
  {
   "cell_type": "code",
   "execution_count": 101,
   "outputs": [
    {
     "name": "stdout",
     "output_type": "stream",
     "text": [
      "(339, 128) (5825, 128)\n",
      "Iterid : 1\n"
     ]
    },
    {
     "name": "stderr",
     "output_type": "stream",
     "text": [
      "100%|██████████| 1974675/1974675 [03:10<00:00, 10345.25it/s]\n",
      "100%|██████████| 19746750/19746750 [00:13<00:00, 1504522.70it/s]\n",
      "100%|██████████| 10/10 [00:01<00:00,  5.74it/s]\n",
      "100%|██████████| 10/10 [00:00<?, ?it/s]\n"
     ]
    },
    {
     "name": "stdout",
     "output_type": "stream",
     "text": [
      "2022-12-04 18:15:47  iterid 1 : loss = 3741.658981323242187500000000000000\n",
      "--------------------------------------------------------------------------------\n",
      "Iterid : 2\n"
     ]
    },
    {
     "name": "stderr",
     "output_type": "stream",
     "text": [
      "100%|██████████| 1974675/1974675 [03:11<00:00, 10323.83it/s]\n",
      "100%|██████████| 19746750/19746750 [00:10<00:00, 1894174.88it/s]\n",
      "100%|██████████| 10/10 [00:01<00:00,  5.89it/s]\n",
      "100%|██████████| 10/10 [00:00<00:00, 9995.96it/s]\n"
     ]
    },
    {
     "name": "stdout",
     "output_type": "stream",
     "text": [
      "2022-12-04 18:19:20  iterid 2 : loss = 0.000000085454701435543131023087\n",
      "--------------------------------------------------------------------------------\n",
      "Iterid : 3\n"
     ]
    },
    {
     "name": "stderr",
     "output_type": "stream",
     "text": [
      "100%|██████████| 1974675/1974675 [03:12<00:00, 10245.69it/s]\n",
      "100%|██████████| 19746750/19746750 [00:11<00:00, 1743287.52it/s]\n",
      "100%|██████████| 10/10 [00:01<00:00,  5.81it/s]\n",
      "100%|██████████| 10/10 [00:00<00:00, 9969.82it/s]\n"
     ]
    },
    {
     "name": "stdout",
     "output_type": "stream",
     "text": [
      "2022-12-04 18:22:56  iterid 3 : loss = 0.000000004270386927336825790115\n",
      "--------------------------------------------------------------------------------\n",
      "Iterid : 4\n"
     ]
    },
    {
     "name": "stderr",
     "output_type": "stream",
     "text": [
      "100%|██████████| 1974675/1974675 [03:11<00:00, 10323.34it/s]\n",
      "100%|██████████| 19746750/19746750 [00:11<00:00, 1717288.95it/s]\n",
      "100%|██████████| 10/10 [00:01<00:00,  5.75it/s]\n",
      "100%|██████████| 10/10 [00:00<?, ?it/s]\n"
     ]
    },
    {
     "name": "stdout",
     "output_type": "stream",
     "text": [
      "2022-12-04 18:26:31  iterid 4 : loss = 0.000000000828820961110777907617\n",
      "--------------------------------------------------------------------------------\n",
      "Iterid : 5\n"
     ]
    },
    {
     "name": "stderr",
     "output_type": "stream",
     "text": [
      "100%|██████████| 1974675/1974675 [03:12<00:00, 10271.63it/s]\n",
      "100%|██████████| 19746750/19746750 [00:11<00:00, 1707331.66it/s]\n",
      "100%|██████████| 10/10 [00:01<00:00,  5.90it/s]\n",
      "100%|██████████| 10/10 [00:00<?, ?it/s]\n"
     ]
    },
    {
     "name": "stdout",
     "output_type": "stream",
     "text": [
      "2022-12-04 18:30:07  iterid 5 : loss = 0.000000000136836408347206823132\n",
      "--------------------------------------------------------------------------------\n",
      "Iterid : 6\n"
     ]
    },
    {
     "name": "stderr",
     "output_type": "stream",
     "text": [
      "100%|██████████| 1974675/1974675 [03:11<00:00, 10298.61it/s]\n",
      "100%|██████████| 19746750/19746750 [00:11<00:00, 1705080.22it/s]\n",
      "100%|██████████| 10/10 [00:01<00:00,  5.78it/s]\n",
      "100%|██████████| 10/10 [00:00<?, ?it/s]\n"
     ]
    },
    {
     "name": "stdout",
     "output_type": "stream",
     "text": [
      "2022-12-04 18:33:42  iterid 6 : loss = 0.000000000004736956892995812489\n",
      "--------------------------------------------------------------------------------\n",
      "Iterid : 7\n"
     ]
    },
    {
     "name": "stderr",
     "output_type": "stream",
     "text": [
      "100%|██████████| 1974675/1974675 [03:12<00:00, 10250.75it/s]\n",
      "100%|██████████| 19746750/19746750 [00:11<00:00, 1744256.20it/s]\n",
      "100%|██████████| 10/10 [00:01<00:00,  5.90it/s]\n",
      "100%|██████████| 10/10 [00:00<?, ?it/s]\n"
     ]
    },
    {
     "name": "stdout",
     "output_type": "stream",
     "text": [
      "2022-12-04 18:37:18  iterid 7 : loss = 0.000000000001300851443722455735\n",
      "--------------------------------------------------------------------------------\n",
      "Iterid : 8\n"
     ]
    },
    {
     "name": "stderr",
     "output_type": "stream",
     "text": [
      "100%|██████████| 1974675/1974675 [03:12<00:00, 10283.76it/s]\n",
      "100%|██████████| 19746750/19746750 [00:11<00:00, 1699610.75it/s]\n",
      "100%|██████████| 10/10 [00:01<00:00,  5.80it/s]\n",
      "100%|██████████| 10/10 [00:00<?, ?it/s]\n"
     ]
    },
    {
     "name": "stdout",
     "output_type": "stream",
     "text": [
      "2022-12-04 18:40:54  iterid 8 : loss = 0.000000000000499086166913391516\n",
      "--------------------------------------------------------------------------------\n",
      "Iterid : 9\n"
     ]
    },
    {
     "name": "stderr",
     "output_type": "stream",
     "text": [
      "100%|██████████| 1974675/1974675 [03:11<00:00, 10292.81it/s]\n",
      "100%|██████████| 19746750/19746750 [00:11<00:00, 1699453.89it/s]\n",
      "100%|██████████| 10/10 [00:01<00:00,  5.90it/s]\n",
      "100%|██████████| 10/10 [00:00<?, ?it/s]\n"
     ]
    },
    {
     "name": "stdout",
     "output_type": "stream",
     "text": [
      "2022-12-04 18:44:29  iterid 9 : loss = 0.000000000000243813808128436571\n",
      "--------------------------------------------------------------------------------\n",
      "Iterid : 10\n"
     ]
    },
    {
     "name": "stderr",
     "output_type": "stream",
     "text": [
      "100%|██████████| 1974675/1974675 [03:10<00:00, 10367.33it/s]\n",
      "100%|██████████| 19746750/19746750 [00:11<00:00, 1736738.13it/s]\n",
      "100%|██████████| 10/10 [00:01<00:00,  5.82it/s]\n",
      "100%|██████████| 10/10 [00:00<?, ?it/s]\n"
     ]
    },
    {
     "name": "stdout",
     "output_type": "stream",
     "text": [
      "2022-12-04 18:48:03  iterid 10 : loss = 0.000000000000135642696836958105\n",
      "--------------------------------------------------------------------------------\n",
      "Iterid : 11\n"
     ]
    },
    {
     "name": "stderr",
     "output_type": "stream",
     "text": [
      "100%|██████████| 1974675/1974675 [03:12<00:00, 10248.70it/s]\n",
      "100%|██████████| 19746750/19746750 [00:11<00:00, 1766052.95it/s]\n",
      "100%|██████████| 10/10 [00:01<00:00,  5.76it/s]\n",
      "100%|██████████| 10/10 [00:00<?, ?it/s]\n"
     ]
    },
    {
     "name": "stdout",
     "output_type": "stream",
     "text": [
      "2022-12-04 18:51:39  iterid 11 : loss = 0.000000000000081079208303581707\n",
      "--------------------------------------------------------------------------------\n",
      "Iterid : 12\n"
     ]
    },
    {
     "name": "stderr",
     "output_type": "stream",
     "text": [
      "100%|██████████| 1974675/1974675 [03:08<00:00, 10469.16it/s]\n",
      "100%|██████████| 19746750/19746750 [00:11<00:00, 1784415.59it/s]\n",
      "100%|██████████| 10/10 [00:01<00:00,  5.88it/s]\n",
      "100%|██████████| 10/10 [00:00<?, ?it/s]\n"
     ]
    },
    {
     "name": "stdout",
     "output_type": "stream",
     "text": [
      "2022-12-04 18:55:10  iterid 12 : loss = 0.000000000000048565295089098056\n",
      "--------------------------------------------------------------------------------\n",
      "Iterid : 13\n"
     ]
    },
    {
     "name": "stderr",
     "output_type": "stream",
     "text": [
      "100%|██████████| 1974675/1974675 [03:10<00:00, 10345.33it/s]\n",
      "100%|██████████| 19746750/19746750 [00:11<00:00, 1791584.61it/s]\n",
      "100%|██████████| 10/10 [00:01<00:00,  5.95it/s]\n",
      "100%|██████████| 10/10 [00:00<?, ?it/s]\n"
     ]
    },
    {
     "name": "stdout",
     "output_type": "stream",
     "text": [
      "2022-12-04 18:58:44  iterid 13 : loss = 0.000000000000036554038295997883\n",
      "--------------------------------------------------------------------------------\n",
      "Iterid : 14\n"
     ]
    },
    {
     "name": "stderr",
     "output_type": "stream",
     "text": [
      "100%|██████████| 1974675/1974675 [03:09<00:00, 10431.90it/s]\n",
      "100%|██████████| 19746750/19746750 [00:11<00:00, 1786990.09it/s]\n",
      "100%|██████████| 10/10 [00:01<00:00,  5.83it/s]\n",
      "100%|██████████| 10/10 [00:00<00:00, 10000.72it/s]\n"
     ]
    },
    {
     "name": "stdout",
     "output_type": "stream",
     "text": [
      "2022-12-04 19:02:16  iterid 14 : loss = 0.000000000000041573283741133851\n",
      "--------------------------------------------------------------------------------\n",
      "Iterid : 15\n"
     ]
    },
    {
     "name": "stderr",
     "output_type": "stream",
     "text": [
      "100%|██████████| 1974675/1974675 [03:10<00:00, 10376.50it/s]\n",
      "100%|██████████| 19746750/19746750 [00:10<00:00, 1816294.39it/s]\n",
      "100%|██████████| 10/10 [00:01<00:00,  5.91it/s]\n",
      "100%|██████████| 10/10 [00:00<?, ?it/s]\n"
     ]
    },
    {
     "name": "stdout",
     "output_type": "stream",
     "text": [
      "2022-12-04 19:05:49  iterid 15 : loss = 0.000000000000107435502082863006\n",
      "--------------------------------------------------------------------------------\n",
      "Iterid : 16\n"
     ]
    },
    {
     "name": "stderr",
     "output_type": "stream",
     "text": [
      "100%|██████████| 1974675/1974675 [03:10<00:00, 10391.88it/s]\n",
      "100%|██████████| 19746750/19746750 [00:11<00:00, 1729593.13it/s]\n",
      "100%|██████████| 10/10 [00:01<00:00,  5.83it/s]\n",
      "100%|██████████| 10/10 [00:00<00:00, 9984.06it/s]\n"
     ]
    },
    {
     "name": "stdout",
     "output_type": "stream",
     "text": [
      "2022-12-04 19:09:22  iterid 16 : loss = 0.000000000000262063639297634699\n",
      "--------------------------------------------------------------------------------\n",
      "Iterid : 17\n"
     ]
    },
    {
     "name": "stderr",
     "output_type": "stream",
     "text": [
      "100%|██████████| 1974675/1974675 [03:11<00:00, 10313.02it/s]\n",
      "100%|██████████| 19746750/19746750 [00:11<00:00, 1720493.50it/s]\n",
      "100%|██████████| 10/10 [00:01<00:00,  5.90it/s]\n",
      "100%|██████████| 10/10 [00:00<?, ?it/s]\n"
     ]
    },
    {
     "name": "stdout",
     "output_type": "stream",
     "text": [
      "2022-12-04 19:12:57  iterid 17 : loss = 0.000000000000214479839705656725\n",
      "--------------------------------------------------------------------------------\n",
      "Iterid : 18\n"
     ]
    },
    {
     "name": "stderr",
     "output_type": "stream",
     "text": [
      "100%|██████████| 1974675/1974675 [03:11<00:00, 10299.34it/s]\n",
      "100%|██████████| 19746750/19746750 [00:11<00:00, 1755282.74it/s]\n",
      "100%|██████████| 10/10 [00:01<00:00,  5.91it/s]\n",
      "100%|██████████| 10/10 [00:00<?, ?it/s]\n"
     ]
    },
    {
     "name": "stdout",
     "output_type": "stream",
     "text": [
      "2022-12-04 19:16:32  iterid 18 : loss = 0.000000000000081676146314123805\n",
      "--------------------------------------------------------------------------------\n",
      "Iterid : 19\n"
     ]
    },
    {
     "name": "stderr",
     "output_type": "stream",
     "text": [
      "100%|██████████| 1974675/1974675 [03:11<00:00, 10311.10it/s]\n",
      "100%|██████████| 19746750/19746750 [00:11<00:00, 1751928.69it/s]\n",
      "100%|██████████| 10/10 [00:01<00:00,  5.94it/s]\n",
      "100%|██████████| 10/10 [00:00<?, ?it/s]\n"
     ]
    },
    {
     "name": "stdout",
     "output_type": "stream",
     "text": [
      "2022-12-04 19:20:06  iterid 19 : loss = 0.000000000000062600106144585216\n",
      "--------------------------------------------------------------------------------\n",
      "Iterid : 20\n"
     ]
    },
    {
     "name": "stderr",
     "output_type": "stream",
     "text": [
      "100%|██████████| 1974675/1974675 [03:10<00:00, 10355.78it/s]\n",
      "100%|██████████| 19746750/19746750 [00:11<00:00, 1749407.33it/s]\n",
      "100%|██████████| 10/10 [00:01<00:00,  5.82it/s]\n",
      "100%|██████████| 10/10 [00:00<?, ?it/s]\n"
     ]
    },
    {
     "name": "stdout",
     "output_type": "stream",
     "text": [
      "2022-12-04 19:23:40  iterid 20 : loss = 0.000000000000081155923885338077\n",
      "--------------------------------------------------------------------------------\n"
     ]
    }
   ],
   "source": [
    "args = a()\n",
    "args.part_iter = 20\n",
    "df = np.random.random((339, 5825))\n",
    "C = interaction_based_balanced_parition(df, args)"
   ],
   "metadata": {
    "collapsed": false
   }
  },
  {
   "cell_type": "code",
   "execution_count": 101,
   "outputs": [],
   "source": [],
   "metadata": {
    "collapsed": false
   }
  }
 ],
 "metadata": {
  "kernelspec": {
   "display_name": "Python 3",
   "language": "python",
   "name": "python3"
  },
  "language_info": {
   "codemirror_mode": {
    "name": "ipython",
    "version": 2
   },
   "file_extension": ".py",
   "mimetype": "text/x-python",
   "name": "python",
   "nbconvert_exporter": "python",
   "pygments_lexer": "ipython2",
   "version": "2.7.6"
  }
 },
 "nbformat": 4,
 "nbformat_minor": 0
}
