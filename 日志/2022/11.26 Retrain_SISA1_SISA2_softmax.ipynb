{
 "cells": [
  {
   "cell_type": "markdown",
   "source": [
    "# Author : yuxiang Zeng  have done!\n"
   ],
   "metadata": {
    "collapsed": false
   }
  },
  {
   "cell_type": "markdown",
   "source": [
    "# Density : 0.10"
   ],
   "metadata": {
    "collapsed": false
   }
  },
  {
   "cell_type": "markdown",
   "source": [
    "### retrain"
   ],
   "metadata": {
    "collapsed": false
   }
  },
  {
   "cell_type": "code",
   "execution_count": 1,
   "outputs": [
    {
     "name": "stdout",
     "output_type": "stream",
     "text": [
      "2022-11-27 12:14:08  Namespace(agg_epochs=10, agg_type='softmax', batch_size=128, dataset='rt', density=0.1, devices='gpu', dimension=64, dropout=0.1, interaction='NeuCF', node2vec=0, node2vec_batchsize=32, node2vec_dim=128, node2vec_epochs=1000, node2vec_length=10, node2vec_walk=50, num_layers=2, order=2, part_iter=100, part_type=5, path='./datasets/data/WSDREAM/', processed=0, retrain=1, rounds=1, save_model=0, slice_epochs=40, slices=1, verbose=0)\r\n",
      "2022-11-27 12:14:08  All the experiments have been done!\r\n",
      "2022-11-27 12:14:08  Dataset : rt     interaction : NeuCF\r\n",
      "2022-11-27 12:14:08  Density : 10.00%, slice_epochs : 40, agg_epochs : 10\r\n",
      "2022-11-27 12:14:08  Part_type : 5,    slices : 1,       devices : gpu\r\n",
      "2022-11-27 12:14:08  Dataset : rt     interaction : NeuCF\r\n",
      "2022-11-27 12:14:08  Density : 10.00%, slice_epochs : 40, agg_epochs : 10\r\n",
      "2022-11-27 12:14:08  Part_type : 5,    slices : 1,       devices : gpu\r\n",
      "\r\n",
      "2022-11-27 12:14:08  Density 10.00% : MAE = 0.398, RMSE = 1.314, NMAE = 0.438, MRE = 0.306, NPRE = 1.157\r\n",
      "\r\n",
      "2022-11-27 12:14:08  Experiment success!\r\n"
     ]
    }
   ],
   "source": [
    "!python Experiment.py --dataset rt --interaction NeuCF --rounds 1 --slice_epochs 40 --density 0.10 --slices 1 --part_type 5 --save_model 0 --processed 0 --retrain 1"
   ],
   "metadata": {
    "collapsed": false
   }
  },
  {
   "cell_type": "code",
   "execution_count": 2,
   "outputs": [
    {
     "name": "stdout",
     "output_type": "stream",
     "text": [
      "2022-11-27 12:14:09  Namespace(agg_epochs=10, agg_type='softmax', batch_size=128, dataset='tp', density=0.1, devices='gpu', dimension=64, dropout=0.1, interaction='NeuCF', node2vec=0, node2vec_batchsize=32, node2vec_dim=128, node2vec_epochs=1000, node2vec_length=10, node2vec_walk=50, num_layers=2, order=2, part_iter=100, part_type=5, path='./datasets/data/WSDREAM/', processed=0, retrain=1, rounds=1, save_model=0, slice_epochs=50, slices=1, verbose=0)\r\n",
      "2022-11-27 12:14:09  All the experiments have been done!\r\n",
      "2022-11-27 12:14:09  Dataset : tp     interaction : NeuCF\r\n",
      "2022-11-27 12:14:09  Density : 10.00%, slice_epochs : 50, agg_epochs : 10\r\n",
      "2022-11-27 12:14:09  Part_type : 5,    slices : 1,       devices : gpu\r\n",
      "2022-11-27 12:14:09  Dataset : tp     interaction : NeuCF\r\n",
      "2022-11-27 12:14:09  Density : 10.00%, slice_epochs : 50, agg_epochs : 10\r\n",
      "2022-11-27 12:14:09  Part_type : 5,    slices : 1,       devices : gpu\r\n",
      "\r\n",
      "2022-11-27 12:14:09  Density 10.00% : MAE = 16.888, RMSE = 50.695, NMAE = 0.355, MRE = 0.343, NPRE = 1.937\r\n",
      "\r\n",
      "2022-11-27 12:14:09  Experiment success!\r\n"
     ]
    }
   ],
   "source": [
    "!python Experiment.py --dataset tp --interaction NeuCF --rounds 1 --slice_epochs 50 --density 0.10 --slices 1 --part_type 5 --save_model 0 --processed 0 --retrain 1"
   ],
   "metadata": {
    "collapsed": false
   }
  },
  {
   "cell_type": "code",
   "execution_count": 3,
   "outputs": [
    {
     "name": "stdout",
     "output_type": "stream",
     "text": [
      "2022-11-27 12:14:09  Namespace(agg_epochs=10, agg_type='softmax', batch_size=128, dataset='rt', density=0.1, devices='gpu', dimension=64, dropout=0.1, interaction='CSMF', node2vec=0, node2vec_batchsize=32, node2vec_dim=128, node2vec_epochs=1000, node2vec_length=10, node2vec_walk=50, num_layers=2, order=2, part_iter=100, part_type=5, path='./datasets/data/WSDREAM/', processed=0, retrain=1, rounds=1, save_model=0, slice_epochs=35, slices=1, verbose=0)\r\n",
      "2022-11-27 12:14:09  All the experiments have been done!\r\n",
      "2022-11-27 12:14:09  Dataset : rt     interaction : CSMF\r\n",
      "2022-11-27 12:14:09  Density : 10.00%, slice_epochs : 35, agg_epochs : 10\r\n",
      "2022-11-27 12:14:09  Part_type : 5,    slices : 1,       devices : gpu\r\n",
      "2022-11-27 12:14:09  Dataset : rt     interaction : CSMF\r\n",
      "2022-11-27 12:14:09  Density : 10.00%, slice_epochs : 35, agg_epochs : 10\r\n",
      "2022-11-27 12:14:09  Part_type : 5,    slices : 1,       devices : gpu\r\n",
      "\r\n",
      "2022-11-27 12:14:09  Density 10.00% : MAE = 0.426, RMSE = 1.307, NMAE = 0.469, MRE = 0.296, NPRE = 0.980\r\n",
      "\r\n",
      "2022-11-27 12:14:09  Experiment success!\r\n"
     ]
    }
   ],
   "source": [
    "!python Experiment.py --dataset rt --interaction CSMF  --rounds 1 --slice_epochs 35 --density 0.10 --slices 1 --part_type 5 --save_model 0 --processed 0 --retrain 1"
   ],
   "metadata": {
    "collapsed": false
   }
  },
  {
   "cell_type": "code",
   "execution_count": 4,
   "outputs": [
    {
     "name": "stdout",
     "output_type": "stream",
     "text": [
      "2022-11-27 12:14:10  Namespace(agg_epochs=10, agg_type='softmax', batch_size=128, dataset='tp', density=0.1, devices='gpu', dimension=64, dropout=0.1, interaction='CSMF', node2vec=0, node2vec_batchsize=32, node2vec_dim=128, node2vec_epochs=1000, node2vec_length=10, node2vec_walk=50, num_layers=2, order=2, part_iter=100, part_type=5, path='./datasets/data/WSDREAM/', processed=0, retrain=1, rounds=1, save_model=0, slice_epochs=35, slices=1, verbose=0)\r\n",
      "2022-11-27 12:14:10  All the experiments have been done!\r\n",
      "2022-11-27 12:14:10  Dataset : tp     interaction : CSMF\r\n",
      "2022-11-27 12:14:10  Density : 10.00%, slice_epochs : 35, agg_epochs : 10\r\n",
      "2022-11-27 12:14:10  Part_type : 5,    slices : 1,       devices : gpu\r\n",
      "2022-11-27 12:14:10  Dataset : tp     interaction : CSMF\r\n",
      "2022-11-27 12:14:10  Density : 10.00%, slice_epochs : 35, agg_epochs : 10\r\n",
      "2022-11-27 12:14:10  Part_type : 5,    slices : 1,       devices : gpu\r\n",
      "\r\n",
      "2022-11-27 12:14:10  Density 10.00% : MAE = 15.552, RMSE = 47.433, NMAE = 0.327, MRE = 0.276, NPRE = 1.201\r\n",
      "\r\n",
      "2022-11-27 12:14:10  Experiment success!\r\n"
     ]
    }
   ],
   "source": [
    "!python Experiment.py --dataset tp --interaction CSMF --rounds 1 --slice_epochs 35 --density 0.10 --slices 1 --part_type 5 --save_model 0 --processed 0 --retrain 1"
   ],
   "metadata": {
    "collapsed": false
   }
  },
  {
   "cell_type": "code",
   "execution_count": 5,
   "outputs": [],
   "source": [
    "# !python Experiment.py --dataset rt --interaction NeuGraphMF  --rounds 1 --slice_epochs 20 --density 0.10 --slices 1 --part_type 5 --save_model 0 --processed 0 --retrain 1"
   ],
   "metadata": {
    "collapsed": false
   }
  },
  {
   "cell_type": "code",
   "execution_count": 6,
   "outputs": [],
   "source": [
    "# !python Experiment.py --dataset tp --interaction NeuGraphMF --rounds 1 --slice_epochs 20 --density 0.10 --slices 1 --part_type 5 --save_model 0 --processed 0 --retrain 1"
   ],
   "metadata": {
    "collapsed": false
   }
  },
  {
   "cell_type": "code",
   "execution_count": 7,
   "outputs": [
    {
     "name": "stdout",
     "output_type": "stream",
     "text": [
      "2022-11-27 12:14:11  Namespace(agg_epochs=10, agg_type='softmax', batch_size=128, dataset='rt', density=0.1, devices='gpu', dimension=64, dropout=0.1, interaction='Pure_Mf', node2vec=0, node2vec_batchsize=32, node2vec_dim=128, node2vec_epochs=1000, node2vec_length=10, node2vec_walk=50, num_layers=2, order=2, part_iter=100, part_type=5, path='./datasets/data/WSDREAM/', processed=0, retrain=1, rounds=1, save_model=0, slice_epochs=30, slices=1, verbose=0)\r\n",
      "2022-11-27 12:14:11  All the experiments have been done!\r\n",
      "2022-11-27 12:14:11  Dataset : rt     interaction : Pure_Mf\r\n",
      "2022-11-27 12:14:11  Density : 10.00%, slice_epochs : 30, agg_epochs : 10\r\n",
      "2022-11-27 12:14:11  Part_type : 5,    slices : 1,       devices : gpu\r\n",
      "2022-11-27 12:14:11  Dataset : rt     interaction : Pure_Mf\r\n",
      "2022-11-27 12:14:11  Density : 10.00%, slice_epochs : 30, agg_epochs : 10\r\n",
      "2022-11-27 12:14:11  Part_type : 5,    slices : 1,       devices : gpu\r\n",
      "\r\n",
      "2022-11-27 12:14:11  Density 10.00% : MAE = 0.583, RMSE = 1.709, NMAE = 0.643, MRE = 0.501, NPRE = 2.348\r\n",
      "\r\n",
      "2022-11-27 12:14:11  Experiment success!\r\n"
     ]
    }
   ],
   "source": [
    "!python Experiment.py --dataset rt --interaction Pure_Mf --rounds 1 --slice_epochs 30 --density 0.10 --slices 1 --part_type 5 --save_model 0 --processed 0 --retrain 1"
   ],
   "metadata": {
    "collapsed": false
   }
  },
  {
   "cell_type": "code",
   "execution_count": 8,
   "outputs": [
    {
     "name": "stdout",
     "output_type": "stream",
     "text": [
      "2022-11-27 12:14:12  Namespace(agg_epochs=10, agg_type='softmax', batch_size=128, dataset='tp', density=0.1, devices='gpu', dimension=64, dropout=0.1, interaction='Pure_Mf', node2vec=0, node2vec_batchsize=32, node2vec_dim=128, node2vec_epochs=1000, node2vec_length=10, node2vec_walk=50, num_layers=2, order=2, part_iter=100, part_type=5, path='./datasets/data/WSDREAM/', processed=0, retrain=1, rounds=1, save_model=0, slice_epochs=40, slices=1, verbose=0)\r\n",
      "2022-11-27 12:14:12  All the experiments have been done!\r\n",
      "2022-11-27 12:14:12  Dataset : tp     interaction : Pure_Mf\r\n",
      "2022-11-27 12:14:12  Density : 10.00%, slice_epochs : 40, agg_epochs : 10\r\n",
      "2022-11-27 12:14:12  Part_type : 5,    slices : 1,       devices : gpu\r\n",
      "2022-11-27 12:14:12  Dataset : tp     interaction : Pure_Mf\r\n",
      "2022-11-27 12:14:12  Density : 10.00%, slice_epochs : 40, agg_epochs : 10\r\n",
      "2022-11-27 12:14:12  Part_type : 5,    slices : 1,       devices : gpu\r\n",
      "\r\n",
      "2022-11-27 12:14:12  Density 10.00% : MAE = 19.586, RMSE = 57.448, NMAE = 0.412, MRE = 0.446, NPRE = 3.181\r\n",
      "\r\n",
      "2022-11-27 12:14:12  Experiment success!\r\n"
     ]
    }
   ],
   "source": [
    "!python Experiment.py --dataset tp --interaction Pure_Mf --rounds 1 --slice_epochs 40 --density 0.10 --slices 1 --part_type 5 --save_model 0 --processed 0 --retrain 1"
   ],
   "metadata": {
    "collapsed": false
   }
  },
  {
   "cell_type": "markdown",
   "source": [
    "*****"
   ],
   "metadata": {
    "collapsed": false
   }
  },
  {
   "cell_type": "markdown",
   "source": [
    "## Density : 0.15"
   ],
   "metadata": {
    "collapsed": false
   }
  },
  {
   "cell_type": "markdown",
   "source": [
    "### retrain"
   ],
   "metadata": {
    "collapsed": false
   }
  },
  {
   "cell_type": "code",
   "execution_count": 9,
   "outputs": [
    {
     "name": "stdout",
     "output_type": "stream",
     "text": [
      "2022-11-27 12:14:13  Namespace(agg_epochs=10, agg_type='softmax', batch_size=128, dataset='rt', density=0.15, devices='gpu', dimension=64, dropout=0.1, interaction='NeuCF', node2vec=0, node2vec_batchsize=32, node2vec_dim=128, node2vec_epochs=1000, node2vec_length=10, node2vec_walk=50, num_layers=2, order=2, part_iter=100, part_type=5, path='./datasets/data/WSDREAM/', processed=0, retrain=1, rounds=1, save_model=0, slice_epochs=40, slices=1, verbose=0)\r\n",
      "2022-11-27 12:14:13  All the experiments have been done!\r\n",
      "2022-11-27 12:14:13  Dataset : rt     interaction : NeuCF\r\n",
      "2022-11-27 12:14:13  Density : 15.00%, slice_epochs : 40, agg_epochs : 10\r\n",
      "2022-11-27 12:14:13  Part_type : 5,    slices : 1,       devices : gpu\r\n",
      "2022-11-27 12:14:13  Dataset : rt     interaction : NeuCF\r\n",
      "2022-11-27 12:14:13  Density : 15.00%, slice_epochs : 40, agg_epochs : 10\r\n",
      "2022-11-27 12:14:13  Part_type : 5,    slices : 1,       devices : gpu\r\n",
      "\r\n",
      "2022-11-27 12:14:13  Density 15.00% : MAE = 0.372, RMSE = 1.287, NMAE = 0.410, MRE = 0.264, NPRE = 0.949\r\n",
      "\r\n",
      "2022-11-27 12:14:13  Experiment success!\r\n"
     ]
    }
   ],
   "source": [
    "!python Experiment.py --dataset rt --interaction NeuCF --rounds 1 --slice_epochs 40 --density 0.15 --slices 1 --part_type 5 --save_model 0 --processed 0 --retrain 1"
   ],
   "metadata": {
    "collapsed": false
   }
  },
  {
   "cell_type": "code",
   "execution_count": 10,
   "outputs": [
    {
     "name": "stdout",
     "output_type": "stream",
     "text": [
      "2022-11-27 12:14:14  Namespace(agg_epochs=10, agg_type='softmax', batch_size=128, dataset='tp', density=0.15, devices='gpu', dimension=64, dropout=0.1, interaction='NeuCF', node2vec=0, node2vec_batchsize=32, node2vec_dim=128, node2vec_epochs=1000, node2vec_length=10, node2vec_walk=50, num_layers=2, order=2, part_iter=100, part_type=5, path='./datasets/data/WSDREAM/', processed=0, retrain=1, rounds=1, save_model=0, slice_epochs=50, slices=1, verbose=0)\r\n",
      "2022-11-27 12:14:14  All the experiments have been done!\r\n",
      "2022-11-27 12:14:14  Dataset : tp     interaction : NeuCF\r\n",
      "2022-11-27 12:14:14  Density : 15.00%, slice_epochs : 50, agg_epochs : 10\r\n",
      "2022-11-27 12:14:14  Part_type : 5,    slices : 1,       devices : gpu\r\n",
      "2022-11-27 12:14:14  Dataset : tp     interaction : NeuCF\r\n",
      "2022-11-27 12:14:14  Density : 15.00%, slice_epochs : 50, agg_epochs : 10\r\n",
      "2022-11-27 12:14:14  Part_type : 5,    slices : 1,       devices : gpu\r\n",
      "\r\n",
      "2022-11-27 12:14:14  Density 15.00% : MAE = 15.502, RMSE = 47.575, NMAE = 0.326, MRE = 0.311, NPRE = 1.707\r\n",
      "\r\n",
      "2022-11-27 12:14:14  Experiment success!\r\n"
     ]
    }
   ],
   "source": [
    "!python Experiment.py --dataset tp --interaction NeuCF --rounds 1 --slice_epochs 50 --density 0.15 --slices 1 --part_type 5 --save_model 0 --processed 0 --retrain 1"
   ],
   "metadata": {
    "collapsed": false
   }
  },
  {
   "cell_type": "code",
   "execution_count": 11,
   "outputs": [
    {
     "name": "stdout",
     "output_type": "stream",
     "text": [
      "2022-11-27 12:14:15  Namespace(agg_epochs=10, agg_type='softmax', batch_size=128, dataset='rt', density=0.15, devices='gpu', dimension=64, dropout=0.1, interaction='CSMF', node2vec=0, node2vec_batchsize=32, node2vec_dim=128, node2vec_epochs=1000, node2vec_length=10, node2vec_walk=50, num_layers=2, order=2, part_iter=100, part_type=5, path='./datasets/data/WSDREAM/', processed=0, retrain=1, rounds=1, save_model=0, slice_epochs=35, slices=1, verbose=0)\r\n",
      "2022-11-27 12:14:15  All the experiments have been done!\r\n",
      "2022-11-27 12:14:15  Dataset : rt     interaction : CSMF\r\n",
      "2022-11-27 12:14:15  Density : 15.00%, slice_epochs : 35, agg_epochs : 10\r\n",
      "2022-11-27 12:14:15  Part_type : 5,    slices : 1,       devices : gpu\r\n",
      "2022-11-27 12:14:15  Dataset : rt     interaction : CSMF\r\n",
      "2022-11-27 12:14:15  Density : 15.00%, slice_epochs : 35, agg_epochs : 10\r\n",
      "2022-11-27 12:14:15  Part_type : 5,    slices : 1,       devices : gpu\r\n",
      "\r\n",
      "2022-11-27 12:14:15  Density 15.00% : MAE = 0.382, RMSE = 1.242, NMAE = 0.420, MRE = 0.250, NPRE = 0.905\r\n",
      "\r\n",
      "2022-11-27 12:14:15  Experiment success!\r\n"
     ]
    }
   ],
   "source": [
    "!python Experiment.py --dataset rt --interaction CSMF  --rounds 1 --slice_epochs 35 --density 0.15 --slices 1 --part_type 5 --save_model 0 --processed 0 --retrain 1"
   ],
   "metadata": {
    "collapsed": false
   }
  },
  {
   "cell_type": "code",
   "execution_count": 12,
   "outputs": [
    {
     "name": "stdout",
     "output_type": "stream",
     "text": [
      "2022-11-27 12:14:15  Namespace(agg_epochs=10, agg_type='softmax', batch_size=128, dataset='tp', density=0.15, devices='gpu', dimension=64, dropout=0.1, interaction='CSMF', node2vec=0, node2vec_batchsize=32, node2vec_dim=128, node2vec_epochs=1000, node2vec_length=10, node2vec_walk=50, num_layers=2, order=2, part_iter=100, part_type=5, path='./datasets/data/WSDREAM/', processed=0, retrain=1, rounds=1, save_model=0, slice_epochs=35, slices=1, verbose=0)\r\n",
      "2022-11-27 12:14:15  All the experiments have been done!\r\n",
      "2022-11-27 12:14:15  Dataset : tp     interaction : CSMF\r\n",
      "2022-11-27 12:14:15  Density : 15.00%, slice_epochs : 35, agg_epochs : 10\r\n",
      "2022-11-27 12:14:15  Part_type : 5,    slices : 1,       devices : gpu\r\n",
      "2022-11-27 12:14:15  Dataset : tp     interaction : CSMF\r\n",
      "2022-11-27 12:14:15  Density : 15.00%, slice_epochs : 35, agg_epochs : 10\r\n",
      "2022-11-27 12:14:15  Part_type : 5,    slices : 1,       devices : gpu\r\n",
      "\r\n",
      "2022-11-27 12:14:15  Density 15.00% : MAE = 13.689, RMSE = 43.324, NMAE = 0.288, MRE = 0.230, NPRE = 1.040\r\n",
      "\r\n",
      "2022-11-27 12:14:15  Experiment success!\r\n"
     ]
    }
   ],
   "source": [
    "!python Experiment.py --dataset tp --interaction CSMF --rounds 1 --slice_epochs 35 --density 0.15 --slices 1 --part_type 5 --save_model 0 --processed 0 --retrain 1"
   ],
   "metadata": {
    "collapsed": false
   }
  },
  {
   "cell_type": "code",
   "execution_count": 13,
   "outputs": [],
   "source": [
    "# !python Experiment.py --dataset rt --interaction NeuGraphMF  --rounds 1 --slice_epochs 10 --density 0.15 --slices 1 --part_type 5 --save_model 0 --processed 0 --retrain 1"
   ],
   "metadata": {
    "collapsed": false
   }
  },
  {
   "cell_type": "code",
   "execution_count": 14,
   "outputs": [],
   "source": [
    "# !python Experiment.py --dataset tp --interaction NeuGraphMF --rounds 1 --slice_epochs 10 --density 0.15 --slices 1 --part_type 5 --save_model 0 --processed 0 --retrain 1"
   ],
   "metadata": {
    "collapsed": false
   }
  },
  {
   "cell_type": "code",
   "execution_count": 15,
   "outputs": [
    {
     "name": "stdout",
     "output_type": "stream",
     "text": [
      "2022-11-27 12:14:16  Namespace(agg_epochs=10, agg_type='softmax', batch_size=128, dataset='rt', density=0.15, devices='gpu', dimension=64, dropout=0.1, interaction='Pure_Mf', node2vec=0, node2vec_batchsize=32, node2vec_dim=128, node2vec_epochs=1000, node2vec_length=10, node2vec_walk=50, num_layers=2, order=2, part_iter=100, part_type=5, path='./datasets/data/WSDREAM/', processed=0, retrain=1, rounds=1, save_model=0, slice_epochs=30, slices=1, verbose=0)\r\n",
      "2022-11-27 12:14:16  All the experiments have been done!\r\n",
      "2022-11-27 12:14:16  Dataset : rt     interaction : Pure_Mf\r\n",
      "2022-11-27 12:14:16  Density : 15.00%, slice_epochs : 30, agg_epochs : 10\r\n",
      "2022-11-27 12:14:16  Part_type : 5,    slices : 1,       devices : gpu\r\n",
      "2022-11-27 12:14:16  Dataset : rt     interaction : Pure_Mf\r\n",
      "2022-11-27 12:14:16  Density : 15.00%, slice_epochs : 30, agg_epochs : 10\r\n",
      "2022-11-27 12:14:16  Part_type : 5,    slices : 1,       devices : gpu\r\n",
      "\r\n",
      "2022-11-27 12:14:16  Density 15.00% : MAE = 0.383, RMSE = 1.285, NMAE = 0.422, MRE = 0.290, NPRE = 1.165\r\n",
      "\r\n",
      "2022-11-27 12:14:16  Experiment success!\r\n"
     ]
    }
   ],
   "source": [
    "!python Experiment.py --dataset rt --interaction Pure_Mf --rounds 1 --slice_epochs 30 --density 0.15 --slices 1 --part_type 5 --save_model 0 --processed 0 --retrain 1"
   ],
   "metadata": {
    "collapsed": false
   }
  },
  {
   "cell_type": "code",
   "execution_count": 16,
   "outputs": [
    {
     "name": "stdout",
     "output_type": "stream",
     "text": [
      "2022-11-27 12:14:17  Namespace(agg_epochs=10, agg_type='softmax', batch_size=128, dataset='tp', density=0.15, devices='gpu', dimension=64, dropout=0.1, interaction='Pure_Mf', node2vec=0, node2vec_batchsize=32, node2vec_dim=128, node2vec_epochs=1000, node2vec_length=10, node2vec_walk=50, num_layers=2, order=2, part_iter=100, part_type=5, path='./datasets/data/WSDREAM/', processed=0, retrain=1, rounds=1, save_model=0, slice_epochs=40, slices=1, verbose=0)\r\n",
      "2022-11-27 12:14:17  All the experiments have been done!\r\n",
      "2022-11-27 12:14:17  Dataset : tp     interaction : Pure_Mf\r\n",
      "2022-11-27 12:14:17  Density : 15.00%, slice_epochs : 40, agg_epochs : 10\r\n",
      "2022-11-27 12:14:17  Part_type : 5,    slices : 1,       devices : gpu\r\n",
      "2022-11-27 12:14:17  Dataset : tp     interaction : Pure_Mf\r\n",
      "2022-11-27 12:14:17  Density : 15.00%, slice_epochs : 40, agg_epochs : 10\r\n",
      "2022-11-27 12:14:17  Part_type : 5,    slices : 1,       devices : gpu\r\n",
      "\r\n",
      "2022-11-27 12:14:17  Density 15.00% : MAE = 14.794, RMSE = 47.483, NMAE = 0.311, MRE = 0.308, NPRE = 2.012\r\n",
      "\r\n",
      "2022-11-27 12:14:17  Experiment success!\r\n"
     ]
    }
   ],
   "source": [
    "!python Experiment.py --dataset tp --interaction Pure_Mf --rounds 1 --slice_epochs 40 --density 0.15 --slices 1 --part_type 5 --save_model 0 --processed 0 --retrain 1"
   ],
   "metadata": {
    "collapsed": false
   }
  },
  {
   "cell_type": "markdown",
   "source": [
    "*****"
   ],
   "metadata": {
    "collapsed": false
   }
  },
  {
   "cell_type": "markdown",
   "source": [
    "## Density : 0.20"
   ],
   "metadata": {
    "collapsed": false
   }
  },
  {
   "cell_type": "markdown",
   "source": [
    "### retrain"
   ],
   "metadata": {
    "collapsed": false
   }
  },
  {
   "cell_type": "code",
   "execution_count": 17,
   "outputs": [
    {
     "name": "stdout",
     "output_type": "stream",
     "text": [
      "2022-11-27 12:14:18  Namespace(agg_epochs=10, agg_type='softmax', batch_size=128, dataset='rt', density=0.2, devices='gpu', dimension=64, dropout=0.1, interaction='NeuCF', node2vec=0, node2vec_batchsize=32, node2vec_dim=128, node2vec_epochs=1000, node2vec_length=10, node2vec_walk=50, num_layers=2, order=2, part_iter=100, part_type=5, path='./datasets/data/WSDREAM/', processed=0, retrain=1, rounds=1, save_model=0, slice_epochs=40, slices=1, verbose=0)\r\n",
      "2022-11-27 12:14:18  All the experiments have been done!\r\n",
      "2022-11-27 12:14:18  Dataset : rt     interaction : NeuCF\r\n",
      "2022-11-27 12:14:18  Density : 20.00%, slice_epochs : 40, agg_epochs : 10\r\n",
      "2022-11-27 12:14:18  Part_type : 5,    slices : 1,       devices : gpu\r\n",
      "2022-11-27 12:14:18  Dataset : rt     interaction : NeuCF\r\n",
      "2022-11-27 12:14:18  Density : 20.00%, slice_epochs : 40, agg_epochs : 10\r\n",
      "2022-11-27 12:14:18  Part_type : 5,    slices : 1,       devices : gpu\r\n",
      "\r\n",
      "2022-11-27 12:14:18  Density 20.00% : MAE = 0.351, RMSE = 1.256, NMAE = 0.386, MRE = 0.238, NPRE = 0.898\r\n",
      "\r\n",
      "2022-11-27 12:14:18  Experiment success!\r\n"
     ]
    }
   ],
   "source": [
    "!python Experiment.py --dataset rt --interaction NeuCF --rounds 1 --slice_epochs 40 --density 0.20 --slices 1 --part_type 5 --save_model 0 --processed 0 --retrain 1"
   ],
   "metadata": {
    "collapsed": false
   }
  },
  {
   "cell_type": "code",
   "execution_count": 18,
   "outputs": [
    {
     "name": "stdout",
     "output_type": "stream",
     "text": [
      "2022-11-27 12:14:19  Namespace(agg_epochs=10, agg_type='softmax', batch_size=128, dataset='tp', density=0.2, devices='gpu', dimension=64, dropout=0.1, interaction='NeuCF', node2vec=0, node2vec_batchsize=32, node2vec_dim=128, node2vec_epochs=1000, node2vec_length=10, node2vec_walk=50, num_layers=2, order=2, part_iter=100, part_type=5, path='./datasets/data/WSDREAM/', processed=0, retrain=1, rounds=1, save_model=0, slice_epochs=50, slices=1, verbose=0)\r\n",
      "2022-11-27 12:14:19  All the experiments have been done!\r\n",
      "2022-11-27 12:14:19  Dataset : tp     interaction : NeuCF\r\n",
      "2022-11-27 12:14:19  Density : 20.00%, slice_epochs : 50, agg_epochs : 10\r\n",
      "2022-11-27 12:14:19  Part_type : 5,    slices : 1,       devices : gpu\r\n",
      "2022-11-27 12:14:19  Dataset : tp     interaction : NeuCF\r\n",
      "2022-11-27 12:14:19  Density : 20.00%, slice_epochs : 50, agg_epochs : 10\r\n",
      "2022-11-27 12:14:19  Part_type : 5,    slices : 1,       devices : gpu\r\n",
      "\r\n",
      "2022-11-27 12:14:19  Density 20.00% : MAE = 14.647, RMSE = 45.732, NMAE = 0.308, MRE = 0.291, NPRE = 1.603\r\n",
      "\r\n",
      "2022-11-27 12:14:19  Experiment success!\r\n"
     ]
    }
   ],
   "source": [
    "!python Experiment.py --dataset tp --interaction NeuCF --rounds 1 --slice_epochs 50 --density 0.20 --slices 1 --part_type 5 --save_model 0 --processed 0 --retrain 1"
   ],
   "metadata": {
    "collapsed": false
   }
  },
  {
   "cell_type": "code",
   "execution_count": 19,
   "outputs": [
    {
     "name": "stdout",
     "output_type": "stream",
     "text": [
      "2022-11-27 12:14:20  Namespace(agg_epochs=10, agg_type='softmax', batch_size=128, dataset='rt', density=0.2, devices='gpu', dimension=64, dropout=0.1, interaction='CSMF', node2vec=0, node2vec_batchsize=32, node2vec_dim=128, node2vec_epochs=1000, node2vec_length=10, node2vec_walk=50, num_layers=2, order=2, part_iter=100, part_type=5, path='./datasets/data/WSDREAM/', processed=0, retrain=1, rounds=1, save_model=0, slice_epochs=35, slices=1, verbose=0)\r\n",
      "2022-11-27 12:14:20  All the experiments have been done!\r\n",
      "2022-11-27 12:14:20  Dataset : rt     interaction : CSMF\r\n",
      "2022-11-27 12:14:20  Density : 20.00%, slice_epochs : 35, agg_epochs : 10\r\n",
      "2022-11-27 12:14:20  Part_type : 5,    slices : 1,       devices : gpu\r\n",
      "2022-11-27 12:14:20  Dataset : rt     interaction : CSMF\r\n",
      "2022-11-27 12:14:20  Density : 20.00%, slice_epochs : 35, agg_epochs : 10\r\n",
      "2022-11-27 12:14:20  Part_type : 5,    slices : 1,       devices : gpu\r\n",
      "\r\n",
      "2022-11-27 12:14:20  Density 20.00% : MAE = 0.372, RMSE = 1.202, NMAE = 0.410, MRE = 0.239, NPRE = 0.884\r\n",
      "\r\n",
      "2022-11-27 12:14:20  Experiment success!\r\n"
     ]
    }
   ],
   "source": [
    "!python Experiment.py --dataset rt --interaction CSMF  --rounds 1 --slice_epochs 35 --density 0.20 --slices 1 --part_type 5 --save_model 0 --processed 0 --retrain 1"
   ],
   "metadata": {
    "collapsed": false
   }
  },
  {
   "cell_type": "code",
   "execution_count": 20,
   "outputs": [
    {
     "name": "stdout",
     "output_type": "stream",
     "text": [
      "2022-11-27 12:14:20  Namespace(agg_epochs=10, agg_type='softmax', batch_size=128, dataset='tp', density=0.2, devices='gpu', dimension=64, dropout=0.1, interaction='CSMF', node2vec=0, node2vec_batchsize=32, node2vec_dim=128, node2vec_epochs=1000, node2vec_length=10, node2vec_walk=50, num_layers=2, order=2, part_iter=100, part_type=5, path='./datasets/data/WSDREAM/', processed=0, retrain=1, rounds=1, save_model=0, slice_epochs=35, slices=1, verbose=0)\r\n",
      "2022-11-27 12:14:20  All the experiments have been done!\r\n",
      "2022-11-27 12:14:20  Dataset : tp     interaction : CSMF\r\n",
      "2022-11-27 12:14:20  Density : 20.00%, slice_epochs : 35, agg_epochs : 10\r\n",
      "2022-11-27 12:14:20  Part_type : 5,    slices : 1,       devices : gpu\r\n",
      "2022-11-27 12:14:20  Dataset : tp     interaction : CSMF\r\n",
      "2022-11-27 12:14:20  Density : 20.00%, slice_epochs : 35, agg_epochs : 10\r\n",
      "2022-11-27 12:14:20  Part_type : 5,    slices : 1,       devices : gpu\r\n",
      "\r\n",
      "2022-11-27 12:14:20  Density 20.00% : MAE = 12.653, RMSE = 40.568, NMAE = 0.266, MRE = 0.209, NPRE = 0.952\r\n",
      "\r\n",
      "2022-11-27 12:14:20  Experiment success!\r\n"
     ]
    }
   ],
   "source": [
    "!python Experiment.py --dataset tp --interaction CSMF --rounds 1 --slice_epochs 35 --density 0.20 --slices 1 --part_type 5 --save_model 0 --processed 0 --retrain 1"
   ],
   "metadata": {
    "collapsed": false
   }
  },
  {
   "cell_type": "code",
   "execution_count": 21,
   "outputs": [],
   "source": [
    "# !python Experiment.py --dataset rt --interaction NeuGraphMF  --rounds 1 --slice_epochs 10 --density 0.20 --slices 1 --part_type 5 --save_model 0 --processed 0 --retrain 1"
   ],
   "metadata": {
    "collapsed": false
   }
  },
  {
   "cell_type": "code",
   "execution_count": 22,
   "outputs": [],
   "source": [
    "# !python Experiment.py --dataset tp --interaction NeuGraphMF --rounds 1 --slice_epochs 10 --density 0.20 --slices 1 --part_type 5 --save_model 0 --processed 0 --retrain 1"
   ],
   "metadata": {
    "collapsed": false
   }
  },
  {
   "cell_type": "code",
   "execution_count": 23,
   "outputs": [
    {
     "name": "stdout",
     "output_type": "stream",
     "text": [
      "2022-11-27 12:14:21  Namespace(agg_epochs=10, agg_type='softmax', batch_size=128, dataset='rt', density=0.2, devices='gpu', dimension=64, dropout=0.1, interaction='Pure_Mf', node2vec=0, node2vec_batchsize=32, node2vec_dim=128, node2vec_epochs=1000, node2vec_length=10, node2vec_walk=50, num_layers=2, order=2, part_iter=100, part_type=5, path='./datasets/data/WSDREAM/', processed=0, retrain=1, rounds=1, save_model=0, slice_epochs=30, slices=1, verbose=0)\r\n",
      "2022-11-27 12:14:21  All the experiments have been done!\r\n",
      "2022-11-27 12:14:21  Dataset : rt     interaction : Pure_Mf\r\n",
      "2022-11-27 12:14:21  Density : 20.00%, slice_epochs : 30, agg_epochs : 10\r\n",
      "2022-11-27 12:14:21  Part_type : 5,    slices : 1,       devices : gpu\r\n",
      "2022-11-27 12:14:21  Dataset : rt     interaction : Pure_Mf\r\n",
      "2022-11-27 12:14:21  Density : 20.00%, slice_epochs : 30, agg_epochs : 10\r\n",
      "2022-11-27 12:14:21  Part_type : 5,    slices : 1,       devices : gpu\r\n",
      "\r\n",
      "2022-11-27 12:14:21  Density 20.00% : MAE = 0.361, RMSE = 1.262, NMAE = 0.397, MRE = 0.262, NPRE = 1.061\r\n",
      "\r\n",
      "2022-11-27 12:14:21  Experiment success!\r\n"
     ]
    }
   ],
   "source": [
    "!python Experiment.py --dataset rt --interaction Pure_Mf --rounds 1 --slice_epochs 30 --density 0.20 --slices 1 --part_type 5 --save_model 0 --processed 0 --retrain 1"
   ],
   "metadata": {
    "collapsed": false
   }
  },
  {
   "cell_type": "code",
   "execution_count": 24,
   "outputs": [
    {
     "name": "stdout",
     "output_type": "stream",
     "text": [
      "2022-11-27 12:14:22  Namespace(agg_epochs=10, agg_type='softmax', batch_size=128, dataset='tp', density=0.2, devices='gpu', dimension=64, dropout=0.1, interaction='Pure_Mf', node2vec=0, node2vec_batchsize=32, node2vec_dim=128, node2vec_epochs=1000, node2vec_length=10, node2vec_walk=50, num_layers=2, order=2, part_iter=100, part_type=5, path='./datasets/data/WSDREAM/', processed=0, retrain=1, rounds=1, save_model=0, slice_epochs=40, slices=1, verbose=0)\r\n",
      "2022-11-27 12:14:22  All the experiments have been done!\r\n",
      "2022-11-27 12:14:22  Dataset : tp     interaction : Pure_Mf\r\n",
      "2022-11-27 12:14:22  Density : 20.00%, slice_epochs : 40, agg_epochs : 10\r\n",
      "2022-11-27 12:14:22  Part_type : 5,    slices : 1,       devices : gpu\r\n",
      "2022-11-27 12:14:22  Dataset : tp     interaction : Pure_Mf\r\n",
      "2022-11-27 12:14:22  Density : 20.00%, slice_epochs : 40, agg_epochs : 10\r\n",
      "2022-11-27 12:14:22  Part_type : 5,    slices : 1,       devices : gpu\r\n",
      "\r\n",
      "2022-11-27 12:14:22  Density 20.00% : MAE = 13.995, RMSE = 44.688, NMAE = 0.295, MRE = 0.308, NPRE = 2.116\r\n",
      "\r\n",
      "2022-11-27 12:14:22  Experiment success!\r\n"
     ]
    }
   ],
   "source": [
    "!python Experiment.py --dataset tp --interaction Pure_Mf --rounds 1 --slice_epochs 40 --density 0.20 --slices 1 --part_type 5 --save_model 0 --processed 0 --retrain 1"
   ],
   "metadata": {
    "collapsed": false
   }
  },
  {
   "cell_type": "markdown",
   "source": [
    "*****"
   ],
   "metadata": {
    "collapsed": false
   }
  },
  {
   "cell_type": "markdown",
   "source": [
    "## Density : 0.25"
   ],
   "metadata": {
    "collapsed": false
   }
  },
  {
   "cell_type": "markdown",
   "source": [
    "### retrain"
   ],
   "metadata": {
    "collapsed": false
   }
  },
  {
   "cell_type": "code",
   "execution_count": 25,
   "outputs": [
    {
     "name": "stdout",
     "output_type": "stream",
     "text": [
      "2022-11-27 12:14:23  Namespace(agg_epochs=10, agg_type='softmax', batch_size=128, dataset='rt', density=0.25, devices='gpu', dimension=64, dropout=0.1, interaction='NeuCF', node2vec=0, node2vec_batchsize=32, node2vec_dim=128, node2vec_epochs=1000, node2vec_length=10, node2vec_walk=50, num_layers=2, order=2, part_iter=100, part_type=5, path='./datasets/data/WSDREAM/', processed=0, retrain=1, rounds=1, save_model=0, slice_epochs=40, slices=1, verbose=0)\r\n",
      "2022-11-27 12:14:23  All the experiments have been done!\r\n",
      "2022-11-27 12:14:23  Dataset : rt     interaction : NeuCF\r\n",
      "2022-11-27 12:14:23  Density : 25.00%, slice_epochs : 40, agg_epochs : 10\r\n",
      "2022-11-27 12:14:23  Part_type : 5,    slices : 1,       devices : gpu\r\n",
      "2022-11-27 12:14:23  Dataset : rt     interaction : NeuCF\r\n",
      "2022-11-27 12:14:23  Density : 25.00%, slice_epochs : 40, agg_epochs : 10\r\n",
      "2022-11-27 12:14:23  Part_type : 5,    slices : 1,       devices : gpu\r\n",
      "\r\n",
      "2022-11-27 12:14:23  Density 25.00% : MAE = 0.339, RMSE = 1.216, NMAE = 0.373, MRE = 0.230, NPRE = 0.883\r\n",
      "\r\n",
      "2022-11-27 12:14:23  Experiment success!\r\n"
     ]
    }
   ],
   "source": [
    "!python Experiment.py --dataset rt --interaction NeuCF --rounds 1 --slice_epochs 40 --density 0.25 --slices 1 --part_type 5 --save_model 0 --processed 0 --retrain 1"
   ],
   "metadata": {
    "collapsed": false
   }
  },
  {
   "cell_type": "code",
   "execution_count": 26,
   "outputs": [
    {
     "name": "stdout",
     "output_type": "stream",
     "text": [
      "2022-11-27 12:14:24  Namespace(agg_epochs=10, agg_type='softmax', batch_size=128, dataset='tp', density=0.25, devices='gpu', dimension=64, dropout=0.1, interaction='NeuCF', node2vec=0, node2vec_batchsize=32, node2vec_dim=128, node2vec_epochs=1000, node2vec_length=10, node2vec_walk=50, num_layers=2, order=2, part_iter=100, part_type=5, path='./datasets/data/WSDREAM/', processed=0, retrain=1, rounds=1, save_model=0, slice_epochs=50, slices=1, verbose=0)\r\n",
      "2022-11-27 12:14:24  All the experiments have been done!\r\n",
      "2022-11-27 12:14:24  Dataset : tp     interaction : NeuCF\r\n",
      "2022-11-27 12:14:24  Density : 25.00%, slice_epochs : 50, agg_epochs : 10\r\n",
      "2022-11-27 12:14:24  Part_type : 5,    slices : 1,       devices : gpu\r\n",
      "2022-11-27 12:14:24  Dataset : tp     interaction : NeuCF\r\n",
      "2022-11-27 12:14:24  Density : 25.00%, slice_epochs : 50, agg_epochs : 10\r\n",
      "2022-11-27 12:14:24  Part_type : 5,    slices : 1,       devices : gpu\r\n",
      "\r\n",
      "2022-11-27 12:14:24  Density 25.00% : MAE = 13.345, RMSE = 43.007, NMAE = 0.281, MRE = 0.242, NPRE = 1.191\r\n",
      "\r\n",
      "2022-11-27 12:14:24  Experiment success!\r\n"
     ]
    }
   ],
   "source": [
    "!python Experiment.py --dataset tp --interaction NeuCF --rounds 1 --slice_epochs 50 --density 0.25 --slices 1 --part_type 5 --save_model 0 --processed 0 --retrain 1"
   ],
   "metadata": {
    "collapsed": false
   }
  },
  {
   "cell_type": "code",
   "execution_count": 27,
   "outputs": [
    {
     "name": "stdout",
     "output_type": "stream",
     "text": [
      "2022-11-27 12:14:25  Namespace(agg_epochs=10, agg_type='softmax', batch_size=128, dataset='rt', density=0.25, devices='gpu', dimension=64, dropout=0.1, interaction='CSMF', node2vec=0, node2vec_batchsize=32, node2vec_dim=128, node2vec_epochs=1000, node2vec_length=10, node2vec_walk=50, num_layers=2, order=2, part_iter=100, part_type=5, path='./datasets/data/WSDREAM/', processed=0, retrain=1, rounds=1, save_model=0, slice_epochs=35, slices=1, verbose=0)\r\n",
      "2022-11-27 12:14:25  All the experiments have been done!\r\n",
      "2022-11-27 12:14:25  Dataset : rt     interaction : CSMF\r\n",
      "2022-11-27 12:14:25  Density : 25.00%, slice_epochs : 35, agg_epochs : 10\r\n",
      "2022-11-27 12:14:25  Part_type : 5,    slices : 1,       devices : gpu\r\n",
      "2022-11-27 12:14:25  Dataset : rt     interaction : CSMF\r\n",
      "2022-11-27 12:14:25  Density : 25.00%, slice_epochs : 35, agg_epochs : 10\r\n",
      "2022-11-27 12:14:25  Part_type : 5,    slices : 1,       devices : gpu\r\n",
      "\r\n",
      "2022-11-27 12:14:25  Density 25.00% : MAE = 0.346, RMSE = 1.166, NMAE = 0.381, MRE = 0.215, NPRE = 0.795\r\n",
      "\r\n",
      "2022-11-27 12:14:25  Experiment success!\r\n"
     ]
    }
   ],
   "source": [
    "!python Experiment.py --dataset rt --interaction CSMF  --rounds 1 --slice_epochs 35 --density 0.25 --slices 1 --part_type 5 --save_model 0 --processed 0 --retrain 1"
   ],
   "metadata": {
    "collapsed": false
   }
  },
  {
   "cell_type": "code",
   "execution_count": 28,
   "outputs": [
    {
     "name": "stdout",
     "output_type": "stream",
     "text": [
      "2022-11-27 12:14:26  Namespace(agg_epochs=10, agg_type='softmax', batch_size=128, dataset='tp', density=0.25, devices='gpu', dimension=64, dropout=0.1, interaction='CSMF', node2vec=0, node2vec_batchsize=32, node2vec_dim=128, node2vec_epochs=1000, node2vec_length=10, node2vec_walk=50, num_layers=2, order=2, part_iter=100, part_type=5, path='./datasets/data/WSDREAM/', processed=0, retrain=1, rounds=1, save_model=0, slice_epochs=35, slices=1, verbose=0)\r\n",
      "2022-11-27 12:14:26  All the experiments have been done!\r\n",
      "2022-11-27 12:14:26  Dataset : tp     interaction : CSMF\r\n",
      "2022-11-27 12:14:26  Density : 25.00%, slice_epochs : 35, agg_epochs : 10\r\n",
      "2022-11-27 12:14:26  Part_type : 5,    slices : 1,       devices : gpu\r\n",
      "2022-11-27 12:14:26  Dataset : tp     interaction : CSMF\r\n",
      "2022-11-27 12:14:26  Density : 25.00%, slice_epochs : 35, agg_epochs : 10\r\n",
      "2022-11-27 12:14:26  Part_type : 5,    slices : 1,       devices : gpu\r\n",
      "\r\n",
      "2022-11-27 12:14:26  Density 25.00% : MAE = 12.001, RMSE = 39.456, NMAE = 0.252, MRE = 0.191, NPRE = 0.890\r\n",
      "\r\n",
      "2022-11-27 12:14:26  Experiment success!\r\n"
     ]
    }
   ],
   "source": [
    "!python Experiment.py --dataset tp --interaction CSMF --rounds 1 --slice_epochs 35 --density 0.25 --slices 1 --part_type 5 --save_model 0 --processed 0 --retrain 1"
   ],
   "metadata": {
    "collapsed": false
   }
  },
  {
   "cell_type": "code",
   "execution_count": 29,
   "outputs": [],
   "source": [
    "# !python Experiment.py --dataset rt --interaction NeuGraphMF  --rounds 1 --slice_epochs 10 --density 0.25 --slices 1 --part_type 5 --save_model 0 --processed 0 --retrain 1"
   ],
   "metadata": {
    "collapsed": false
   }
  },
  {
   "cell_type": "code",
   "execution_count": 30,
   "outputs": [],
   "source": [
    "# !python Experiment.py --dataset tp --interaction NeuGraphMF --rounds 1 --slice_epochs 10 --density 0.25 --slices 1 --part_type 5 --save_model 0 --processed 0 --retrain 1"
   ],
   "metadata": {
    "collapsed": false
   }
  },
  {
   "cell_type": "code",
   "execution_count": 31,
   "outputs": [
    {
     "name": "stdout",
     "output_type": "stream",
     "text": [
      "2022-11-27 12:14:26  Namespace(agg_epochs=10, agg_type='softmax', batch_size=128, dataset='rt', density=0.25, devices='gpu', dimension=64, dropout=0.1, interaction='Pure_Mf', node2vec=0, node2vec_batchsize=32, node2vec_dim=128, node2vec_epochs=1000, node2vec_length=10, node2vec_walk=50, num_layers=2, order=2, part_iter=100, part_type=5, path='./datasets/data/WSDREAM/', processed=0, retrain=1, rounds=1, save_model=0, slice_epochs=30, slices=1, verbose=0)\r\n",
      "2022-11-27 12:14:26  All the experiments have been done!\r\n",
      "2022-11-27 12:14:26  Dataset : rt     interaction : Pure_Mf\r\n",
      "2022-11-27 12:14:26  Density : 25.00%, slice_epochs : 30, agg_epochs : 10\r\n",
      "2022-11-27 12:14:26  Part_type : 5,    slices : 1,       devices : gpu\r\n",
      "2022-11-27 12:14:26  Dataset : rt     interaction : Pure_Mf\r\n",
      "2022-11-27 12:14:26  Density : 25.00%, slice_epochs : 30, agg_epochs : 10\r\n",
      "2022-11-27 12:14:26  Part_type : 5,    slices : 1,       devices : gpu\r\n",
      "\r\n",
      "2022-11-27 12:14:26  Density 25.00% : MAE = 0.343, RMSE = 1.238, NMAE = 0.378, MRE = 0.241, NPRE = 0.957\r\n",
      "\r\n",
      "2022-11-27 12:14:26  Experiment success!\r\n"
     ]
    }
   ],
   "source": [
    "!python Experiment.py --dataset rt --interaction Pure_Mf --rounds 1 --slice_epochs 30 --density 0.25 --slices 1 --part_type 5 --save_model 0 --processed 0 --retrain 1"
   ],
   "metadata": {
    "collapsed": false
   }
  },
  {
   "cell_type": "code",
   "execution_count": 32,
   "outputs": [
    {
     "name": "stdout",
     "output_type": "stream",
     "text": [
      "2022-11-27 12:14:27  Namespace(agg_epochs=10, agg_type='softmax', batch_size=128, dataset='tp', density=0.25, devices='gpu', dimension=64, dropout=0.1, interaction='Pure_Mf', node2vec=0, node2vec_batchsize=32, node2vec_dim=128, node2vec_epochs=1000, node2vec_length=10, node2vec_walk=50, num_layers=2, order=2, part_iter=100, part_type=5, path='./datasets/data/WSDREAM/', processed=0, retrain=1, rounds=1, save_model=0, slice_epochs=40, slices=1, verbose=0)\r\n",
      "2022-11-27 12:14:27  All the experiments have been done!\r\n",
      "2022-11-27 12:14:27  Dataset : tp     interaction : Pure_Mf\r\n",
      "2022-11-27 12:14:27  Density : 25.00%, slice_epochs : 40, agg_epochs : 10\r\n",
      "2022-11-27 12:14:27  Part_type : 5,    slices : 1,       devices : gpu\r\n",
      "2022-11-27 12:14:27  Dataset : tp     interaction : Pure_Mf\r\n",
      "2022-11-27 12:14:27  Density : 25.00%, slice_epochs : 40, agg_epochs : 10\r\n",
      "2022-11-27 12:14:27  Part_type : 5,    slices : 1,       devices : gpu\r\n",
      "\r\n",
      "2022-11-27 12:14:27  Density 25.00% : MAE = 13.032, RMSE = 42.535, NMAE = 0.274, MRE = 0.284, NPRE = 1.821\r\n",
      "\r\n",
      "2022-11-27 12:14:27  Experiment success!\r\n"
     ]
    }
   ],
   "source": [
    "!python Experiment.py --dataset tp --interaction Pure_Mf --rounds 1 --slice_epochs 40 --density 0.25 --slices 1 --part_type 5 --save_model 0 --processed 0 --retrain 1"
   ],
   "metadata": {
    "collapsed": false
   }
  },
  {
   "cell_type": "markdown",
   "source": [
    "*****"
   ],
   "metadata": {
    "collapsed": false
   }
  },
  {
   "cell_type": "markdown",
   "source": [
    "## Density : 0.30"
   ],
   "metadata": {
    "collapsed": false
   }
  },
  {
   "cell_type": "markdown",
   "source": [
    "### retrain"
   ],
   "metadata": {
    "collapsed": false
   }
  },
  {
   "cell_type": "code",
   "execution_count": 33,
   "outputs": [
    {
     "name": "stdout",
     "output_type": "stream",
     "text": [
      "2022-11-27 12:14:28  Namespace(agg_epochs=10, agg_type='softmax', batch_size=128, dataset='rt', density=0.3, devices='gpu', dimension=64, dropout=0.1, interaction='NeuCF', node2vec=0, node2vec_batchsize=32, node2vec_dim=128, node2vec_epochs=1000, node2vec_length=10, node2vec_walk=50, num_layers=2, order=2, part_iter=100, part_type=5, path='./datasets/data/WSDREAM/', processed=0, retrain=1, rounds=1, save_model=0, slice_epochs=40, slices=1, verbose=0)\r\n",
      "2022-11-27 12:14:28  All the experiments have been done!\r\n",
      "2022-11-27 12:14:28  Dataset : rt     interaction : NeuCF\r\n",
      "2022-11-27 12:14:28  Density : 30.00%, slice_epochs : 40, agg_epochs : 10\r\n",
      "2022-11-27 12:14:28  Part_type : 5,    slices : 1,       devices : gpu\r\n",
      "2022-11-27 12:14:28  Dataset : rt     interaction : NeuCF\r\n",
      "2022-11-27 12:14:28  Density : 30.00%, slice_epochs : 40, agg_epochs : 10\r\n",
      "2022-11-27 12:14:28  Part_type : 5,    slices : 1,       devices : gpu\r\n",
      "\r\n",
      "2022-11-27 12:14:28  Density 30.00% : MAE = 0.332, RMSE = 1.204, NMAE = 0.365, MRE = 0.220, NPRE = 0.850\r\n",
      "\r\n",
      "2022-11-27 12:14:28  Experiment success!\r\n"
     ]
    }
   ],
   "source": [
    "!python Experiment.py --dataset rt --interaction NeuCF --rounds 1 --slice_epochs 40 --density 0.30 --slices 1 --part_type 5 --save_model 0 --processed 0 --retrain 1"
   ],
   "metadata": {
    "collapsed": false
   }
  },
  {
   "cell_type": "code",
   "execution_count": 34,
   "outputs": [
    {
     "name": "stdout",
     "output_type": "stream",
     "text": [
      "2022-11-27 12:14:29  Namespace(agg_epochs=10, agg_type='softmax', batch_size=128, dataset='tp', density=0.3, devices='gpu', dimension=64, dropout=0.1, interaction='NeuCF', node2vec=0, node2vec_batchsize=32, node2vec_dim=128, node2vec_epochs=1000, node2vec_length=10, node2vec_walk=50, num_layers=2, order=2, part_iter=100, part_type=5, path='./datasets/data/WSDREAM/', processed=0, retrain=1, rounds=1, save_model=0, slice_epochs=50, slices=1, verbose=0)\r\n",
      "2022-11-27 12:14:29  All the experiments have been done!\r\n",
      "2022-11-27 12:14:29  Dataset : tp     interaction : NeuCF\r\n",
      "2022-11-27 12:14:29  Density : 30.00%, slice_epochs : 50, agg_epochs : 10\r\n",
      "2022-11-27 12:14:29  Part_type : 5,    slices : 1,       devices : gpu\r\n",
      "2022-11-27 12:14:29  Dataset : tp     interaction : NeuCF\r\n",
      "2022-11-27 12:14:29  Density : 30.00%, slice_epochs : 50, agg_epochs : 10\r\n",
      "2022-11-27 12:14:29  Part_type : 5,    slices : 1,       devices : gpu\r\n",
      "\r\n",
      "2022-11-27 12:14:29  Density 30.00% : MAE = 12.893, RMSE = 42.164, NMAE = 0.271, MRE = 0.217, NPRE = 1.193\r\n",
      "\r\n",
      "2022-11-27 12:14:29  Experiment success!\r\n"
     ]
    }
   ],
   "source": [
    "!python Experiment.py --dataset tp --interaction NeuCF --rounds 1 --slice_epochs 50 --density 0.30 --slices 1 --part_type 5 --save_model 0 --processed 0 --retrain 1"
   ],
   "metadata": {
    "collapsed": false
   }
  },
  {
   "cell_type": "code",
   "execution_count": 35,
   "outputs": [
    {
     "name": "stdout",
     "output_type": "stream",
     "text": [
      "2022-11-27 12:14:30  Namespace(agg_epochs=10, agg_type='softmax', batch_size=128, dataset='rt', density=0.3, devices='gpu', dimension=64, dropout=0.1, interaction='CSMF', node2vec=0, node2vec_batchsize=32, node2vec_dim=128, node2vec_epochs=1000, node2vec_length=10, node2vec_walk=50, num_layers=2, order=2, part_iter=100, part_type=5, path='./datasets/data/WSDREAM/', processed=0, retrain=1, rounds=1, save_model=0, slice_epochs=35, slices=1, verbose=0)\r\n",
      "2022-11-27 12:14:30  All the experiments have been done!\r\n",
      "2022-11-27 12:14:30  Dataset : rt     interaction : CSMF\r\n",
      "2022-11-27 12:14:30  Density : 30.00%, slice_epochs : 35, agg_epochs : 10\r\n",
      "2022-11-27 12:14:30  Part_type : 5,    slices : 1,       devices : gpu\r\n",
      "2022-11-27 12:14:30  Dataset : rt     interaction : CSMF\r\n",
      "2022-11-27 12:14:30  Density : 30.00%, slice_epochs : 35, agg_epochs : 10\r\n",
      "2022-11-27 12:14:30  Part_type : 5,    slices : 1,       devices : gpu\r\n",
      "\r\n",
      "2022-11-27 12:14:30  Density 30.00% : MAE = 0.326, RMSE = 1.135, NMAE = 0.359, MRE = 0.192, NPRE = 0.753\r\n",
      "\r\n",
      "2022-11-27 12:14:30  Experiment success!\r\n"
     ]
    }
   ],
   "source": [
    "!python Experiment.py --dataset rt --interaction CSMF  --rounds 1 --slice_epochs 35 --density 0.30 --slices 1 --part_type 5 --save_model 0 --processed 0 --retrain 1"
   ],
   "metadata": {
    "collapsed": false
   }
  },
  {
   "cell_type": "code",
   "execution_count": 36,
   "outputs": [
    {
     "name": "stdout",
     "output_type": "stream",
     "text": [
      "2022-11-27 12:14:31  Namespace(agg_epochs=10, agg_type='softmax', batch_size=128, dataset='tp', density=0.3, devices='gpu', dimension=64, dropout=0.1, interaction='CSMF', node2vec=0, node2vec_batchsize=32, node2vec_dim=128, node2vec_epochs=1000, node2vec_length=10, node2vec_walk=50, num_layers=2, order=2, part_iter=100, part_type=5, path='./datasets/data/WSDREAM/', processed=0, retrain=1, rounds=1, save_model=0, slice_epochs=35, slices=1, verbose=0)\r\n",
      "2022-11-27 12:14:31  All the experiments have been done!\r\n",
      "2022-11-27 12:14:31  Dataset : tp     interaction : CSMF\r\n",
      "2022-11-27 12:14:31  Density : 30.00%, slice_epochs : 35, agg_epochs : 10\r\n",
      "2022-11-27 12:14:31  Part_type : 5,    slices : 1,       devices : gpu\r\n",
      "2022-11-27 12:14:31  Dataset : tp     interaction : CSMF\r\n",
      "2022-11-27 12:14:31  Density : 30.00%, slice_epochs : 35, agg_epochs : 10\r\n",
      "2022-11-27 12:14:31  Part_type : 5,    slices : 1,       devices : gpu\r\n",
      "\r\n",
      "2022-11-27 12:14:31  Density 30.00% : MAE = 11.341, RMSE = 37.859, NMAE = 0.238, MRE = 0.179, NPRE = 0.813\r\n",
      "\r\n",
      "2022-11-27 12:14:31  Experiment success!\r\n"
     ]
    }
   ],
   "source": [
    "!python Experiment.py --dataset tp --interaction CSMF --rounds 1 --slice_epochs 35 --density 0.30 --slices 1 --part_type 5 --save_model 0 --processed 0 --retrain 1"
   ],
   "metadata": {
    "collapsed": false
   }
  },
  {
   "cell_type": "code",
   "execution_count": 37,
   "outputs": [],
   "source": [
    "# !python Experiment.py --dataset rt --interaction NeuGraphMF  --rounds 1 --slice_epochs 10 --density 0.30 --slices 1 --part_type 5 --save_model 0 --processed 0 --retrain 1"
   ],
   "metadata": {
    "collapsed": false
   }
  },
  {
   "cell_type": "code",
   "execution_count": 38,
   "outputs": [],
   "source": [
    "# !python Experiment.py --dataset tp --interaction NeuGraphMF --rounds 1 --slice_epochs 10 --density 0.30 --slices 1 --part_type 5 --save_model 0 --processed 0 --retrain 1"
   ],
   "metadata": {
    "collapsed": false
   }
  },
  {
   "cell_type": "code",
   "execution_count": 39,
   "outputs": [
    {
     "name": "stdout",
     "output_type": "stream",
     "text": [
      "2022-11-27 12:14:32  Namespace(agg_epochs=10, agg_type='softmax', batch_size=128, dataset='rt', density=0.3, devices='gpu', dimension=64, dropout=0.1, interaction='Pure_Mf', node2vec=0, node2vec_batchsize=32, node2vec_dim=128, node2vec_epochs=1000, node2vec_length=10, node2vec_walk=50, num_layers=2, order=2, part_iter=100, part_type=5, path='./datasets/data/WSDREAM/', processed=0, retrain=1, rounds=1, save_model=0, slice_epochs=30, slices=1, verbose=0)\r\n",
      "2022-11-27 12:14:32  All the experiments have been done!\r\n",
      "2022-11-27 12:14:32  Dataset : rt     interaction : Pure_Mf\r\n",
      "2022-11-27 12:14:32  Density : 30.00%, slice_epochs : 30, agg_epochs : 10\r\n",
      "2022-11-27 12:14:32  Part_type : 5,    slices : 1,       devices : gpu\r\n",
      "2022-11-27 12:14:32  Dataset : rt     interaction : Pure_Mf\r\n",
      "2022-11-27 12:14:32  Density : 30.00%, slice_epochs : 30, agg_epochs : 10\r\n",
      "2022-11-27 12:14:32  Part_type : 5,    slices : 1,       devices : gpu\r\n",
      "\r\n",
      "2022-11-27 12:14:32  Density 30.00% : MAE = 0.336, RMSE = 1.226, NMAE = 0.369, MRE = 0.233, NPRE = 0.955\r\n",
      "\r\n",
      "2022-11-27 12:14:32  Experiment success!\r\n"
     ]
    }
   ],
   "source": [
    "!python Experiment.py --dataset rt --interaction Pure_Mf --rounds 1 --slice_epochs 30 --density 0.30 --slices 1 --part_type 5 --save_model 0 --processed 0 --retrain 1"
   ],
   "metadata": {
    "collapsed": false
   }
  },
  {
   "cell_type": "code",
   "execution_count": 40,
   "outputs": [
    {
     "name": "stdout",
     "output_type": "stream",
     "text": [
      "2022-11-27 12:14:32  Namespace(agg_epochs=10, agg_type='softmax', batch_size=128, dataset='tp', density=0.3, devices='gpu', dimension=64, dropout=0.1, interaction='Pure_Mf', node2vec=0, node2vec_batchsize=32, node2vec_dim=128, node2vec_epochs=1000, node2vec_length=10, node2vec_walk=50, num_layers=2, order=2, part_iter=100, part_type=5, path='./datasets/data/WSDREAM/', processed=0, retrain=1, rounds=1, save_model=0, slice_epochs=40, slices=1, verbose=0)\r\n",
      "2022-11-27 12:14:32  All the experiments have been done!\r\n",
      "2022-11-27 12:14:32  Dataset : tp     interaction : Pure_Mf\r\n",
      "2022-11-27 12:14:32  Density : 30.00%, slice_epochs : 40, agg_epochs : 10\r\n",
      "2022-11-27 12:14:32  Part_type : 5,    slices : 1,       devices : gpu\r\n",
      "2022-11-27 12:14:32  Dataset : tp     interaction : Pure_Mf\r\n",
      "2022-11-27 12:14:32  Density : 30.00%, slice_epochs : 40, agg_epochs : 10\r\n",
      "2022-11-27 12:14:32  Part_type : 5,    slices : 1,       devices : gpu\r\n",
      "\r\n",
      "2022-11-27 12:14:32  Density 30.00% : MAE = 12.381, RMSE = 41.616, NMAE = 0.260, MRE = 0.254, NPRE = 1.533\r\n",
      "\r\n",
      "2022-11-27 12:14:32  Experiment success!\r\n"
     ]
    }
   ],
   "source": [
    "!python Experiment.py --dataset tp --interaction Pure_Mf --rounds 1 --slice_epochs 40 --density 0.30 --slices 1 --part_type 5 --save_model 0 --processed 0 --retrain 1"
   ],
   "metadata": {
    "collapsed": false
   }
  },
  {
   "cell_type": "markdown",
   "source": [
    "# Density : 0.10"
   ],
   "metadata": {
    "collapsed": false
   }
  },
  {
   "cell_type": "markdown",
   "source": [
    "### SISA2"
   ],
   "metadata": {
    "collapsed": false
   }
  },
  {
   "cell_type": "code",
   "execution_count": 41,
   "outputs": [
    {
     "name": "stdout",
     "output_type": "stream",
     "text": [
      "2022-11-27 12:14:33  Namespace(agg_epochs=10, agg_type='softmax', batch_size=128, dataset='rt', density=0.1, devices='gpu', dimension=64, dropout=0.1, interaction='NeuCF', node2vec=0, node2vec_batchsize=32, node2vec_dim=128, node2vec_epochs=1000, node2vec_length=10, node2vec_walk=50, num_layers=2, order=2, part_iter=100, part_type=2, path='./datasets/data/WSDREAM/', processed=1, retrain=0, rounds=1, save_model=0, slice_epochs=20, slices=10, verbose=0)\r\n",
      "2022-11-27 12:14:33  All the experiments have been done!\r\n",
      "2022-11-27 12:14:33  Dataset : rt     interaction : NeuCF\r\n",
      "2022-11-27 12:14:33  Density : 10.00%, slice_epochs : 20, agg_epochs : 10\r\n",
      "2022-11-27 12:14:33  Part_type : 2,    slices : 10,       devices : gpu\r\n",
      "2022-11-27 12:14:33  Dataset : rt     interaction : NeuCF\r\n",
      "2022-11-27 12:14:33  Density : 10.00%, slice_epochs : 20, agg_epochs : 10\r\n",
      "2022-11-27 12:14:33  Part_type : 2,    slices : 10,       devices : gpu\r\n",
      "\r\n",
      "2022-11-27 12:14:33  Density 10.00% : MAE = 0.551, RMSE = 1.586, NMAE = 0.606, MRE = 0.496, NPRE = 2.120\r\n",
      "\r\n",
      "2022-11-27 12:14:33  Experiment success!\r\n"
     ]
    }
   ],
   "source": [
    "!python Experiment.py --dataset rt --interaction NeuCF --rounds 1 --slice_epochs 20 --agg_epochs 10 --density 0.10 --slices 10 --part_type 2 --save_model 0 --processed 1"
   ],
   "metadata": {
    "collapsed": false
   }
  },
  {
   "cell_type": "code",
   "execution_count": 42,
   "outputs": [
    {
     "name": "stdout",
     "output_type": "stream",
     "text": [
      "2022-11-27 12:14:34  Namespace(agg_epochs=10, agg_type='softmax', batch_size=128, dataset='tp', density=0.1, devices='gpu', dimension=64, dropout=0.1, interaction='NeuCF', node2vec=0, node2vec_batchsize=32, node2vec_dim=128, node2vec_epochs=1000, node2vec_length=10, node2vec_walk=50, num_layers=2, order=2, part_iter=100, part_type=2, path='./datasets/data/WSDREAM/', processed=1, retrain=0, rounds=1, save_model=0, slice_epochs=20, slices=10, verbose=0)\r\n",
      "2022-11-27 12:14:34  All the experiments have been done!\r\n",
      "2022-11-27 12:14:34  Dataset : tp     interaction : NeuCF\r\n",
      "2022-11-27 12:14:34  Density : 10.00%, slice_epochs : 20, agg_epochs : 10\r\n",
      "2022-11-27 12:14:34  Part_type : 2,    slices : 10,       devices : gpu\r\n",
      "2022-11-27 12:14:34  Dataset : tp     interaction : NeuCF\r\n",
      "2022-11-27 12:14:34  Density : 10.00%, slice_epochs : 20, agg_epochs : 10\r\n",
      "2022-11-27 12:14:34  Part_type : 2,    slices : 10,       devices : gpu\r\n",
      "\r\n",
      "2022-11-27 12:14:34  Density 10.00% : MAE = 27.978, RMSE = 76.959, NMAE = 0.591, MRE = 0.595, NPRE = 2.718\r\n",
      "\r\n",
      "2022-11-27 12:14:34  Experiment success!\r\n"
     ]
    }
   ],
   "source": [
    "!python Experiment.py --dataset tp --interaction NeuCF --rounds 1 --slice_epochs 20 --agg_epochs 10 --density 0.10 --slices 10 --part_type 2 --save_model 0 --processed 1"
   ],
   "metadata": {
    "collapsed": false
   }
  },
  {
   "cell_type": "code",
   "execution_count": 43,
   "outputs": [
    {
     "name": "stdout",
     "output_type": "stream",
     "text": [
      "2022-11-27 12:14:35  Namespace(agg_epochs=10, agg_type='softmax', batch_size=128, dataset='rt', density=0.1, devices='gpu', dimension=64, dropout=0.1, interaction='CSMF', node2vec=0, node2vec_batchsize=32, node2vec_dim=128, node2vec_epochs=1000, node2vec_length=10, node2vec_walk=50, num_layers=2, order=2, part_iter=100, part_type=2, path='./datasets/data/WSDREAM/', processed=1, retrain=0, rounds=1, save_model=0, slice_epochs=20, slices=10, verbose=0)\r\n",
      "2022-11-27 12:14:35  All the experiments have been done!\r\n",
      "2022-11-27 12:14:35  Dataset : rt     interaction : CSMF\r\n",
      "2022-11-27 12:14:35  Density : 10.00%, slice_epochs : 20, agg_epochs : 10\r\n",
      "2022-11-27 12:14:35  Part_type : 2,    slices : 10,       devices : gpu\r\n",
      "2022-11-27 12:14:35  Dataset : rt     interaction : CSMF\r\n",
      "2022-11-27 12:14:35  Density : 10.00%, slice_epochs : 20, agg_epochs : 10\r\n",
      "2022-11-27 12:14:35  Part_type : 2,    slices : 10,       devices : gpu\r\n",
      "\r\n",
      "2022-11-27 12:14:35  Density 10.00% : MAE = 0.687, RMSE = 1.970, NMAE = 0.755, MRE = 0.546, NPRE = 2.253\r\n",
      "\r\n",
      "2022-11-27 12:14:35  Experiment success!\r\n"
     ]
    }
   ],
   "source": [
    "!python Experiment.py --dataset rt --interaction CSMF --rounds 1 --slice_epochs 20 --agg_epochs 10 --density 0.10 --slices 10 --part_type 2 --save_model 0 --processed 1"
   ],
   "metadata": {
    "collapsed": false
   }
  },
  {
   "cell_type": "code",
   "execution_count": 44,
   "outputs": [
    {
     "name": "stdout",
     "output_type": "stream",
     "text": [
      "2022-11-27 12:14:36  Namespace(agg_epochs=10, agg_type='softmax', batch_size=128, dataset='tp', density=0.1, devices='gpu', dimension=64, dropout=0.1, interaction='CSMF', node2vec=0, node2vec_batchsize=32, node2vec_dim=128, node2vec_epochs=1000, node2vec_length=10, node2vec_walk=50, num_layers=2, order=2, part_iter=100, part_type=2, path='./datasets/data/WSDREAM/', processed=1, retrain=0, rounds=1, save_model=0, slice_epochs=20, slices=10, verbose=0)\r\n",
      "2022-11-27 12:14:36  All the experiments have been done!\r\n",
      "2022-11-27 12:14:36  Dataset : tp     interaction : CSMF\r\n",
      "2022-11-27 12:14:36  Density : 10.00%, slice_epochs : 20, agg_epochs : 10\r\n",
      "2022-11-27 12:14:36  Part_type : 2,    slices : 10,       devices : gpu\r\n",
      "2022-11-27 12:14:36  Dataset : tp     interaction : CSMF\r\n",
      "2022-11-27 12:14:36  Density : 10.00%, slice_epochs : 20, agg_epochs : 10\r\n",
      "2022-11-27 12:14:36  Part_type : 2,    slices : 10,       devices : gpu\r\n",
      "\r\n",
      "2022-11-27 12:14:36  Density 10.00% : MAE = 34.539, RMSE = 97.217, NMAE = 0.730, MRE = 0.662, NPRE = 3.714\r\n",
      "\r\n",
      "2022-11-27 12:14:36  Experiment success!\r\n"
     ]
    }
   ],
   "source": [
    "!python Experiment.py --dataset tp --interaction CSMF --rounds 1 --slice_epochs 20 --agg_epochs 10 --density 0.10 --slices 10 --part_type 2 --save_model 0 --processed 1"
   ],
   "metadata": {
    "collapsed": false
   }
  },
  {
   "cell_type": "code",
   "execution_count": 45,
   "outputs": [],
   "source": [
    "# !python Experiment.py --dataset rt --interaction NeuGraphMF --rounds 1 --slice_epochs 20 --agg_epochs 10 --density 0.10 --slices 10 --part_type 2 --save_model 0 --processed 1"
   ],
   "metadata": {
    "collapsed": false
   }
  },
  {
   "cell_type": "code",
   "execution_count": 46,
   "outputs": [],
   "source": [
    "# !python Experiment.py --dataset rt --interaction NeuGraphMF --rounds 1 --slice_epochs 20 --agg_epochs 10 --density 0.10 --slices 10 --part_type 2 --save_model 0 --processed 1"
   ],
   "metadata": {
    "collapsed": false
   }
  },
  {
   "cell_type": "code",
   "execution_count": 47,
   "outputs": [
    {
     "name": "stdout",
     "output_type": "stream",
     "text": [
      "2022-11-27 12:14:37  Namespace(agg_epochs=10, agg_type='softmax', batch_size=128, dataset='rt', density=0.1, devices='gpu', dimension=64, dropout=0.1, interaction='Pure_Mf', node2vec=0, node2vec_batchsize=32, node2vec_dim=128, node2vec_epochs=1000, node2vec_length=10, node2vec_walk=50, num_layers=2, order=2, part_iter=100, part_type=2, path='./datasets/data/WSDREAM/', processed=1, retrain=0, rounds=1, save_model=0, slice_epochs=20, slices=10, verbose=0)\r\n",
      "2022-11-27 12:14:37  All the experiments have been done!\r\n",
      "2022-11-27 12:14:37  Dataset : rt     interaction : Pure_Mf\r\n",
      "2022-11-27 12:14:37  Density : 10.00%, slice_epochs : 20, agg_epochs : 10\r\n",
      "2022-11-27 12:14:37  Part_type : 2,    slices : 10,       devices : gpu\r\n",
      "2022-11-27 12:14:37  Dataset : rt     interaction : Pure_Mf\r\n",
      "2022-11-27 12:14:37  Density : 10.00%, slice_epochs : 20, agg_epochs : 10\r\n",
      "2022-11-27 12:14:37  Part_type : 2,    slices : 10,       devices : gpu\r\n",
      "\r\n",
      "2022-11-27 12:14:37  Density 10.00% : MAE = 0.755, RMSE = 2.055, NMAE = 0.830, MRE = 0.678, NPRE = 3.452\r\n",
      "\r\n",
      "2022-11-27 12:14:37  Experiment success!\r\n"
     ]
    }
   ],
   "source": [
    "!python Experiment.py --dataset rt --interaction Pure_Mf --rounds 1 --slice_epochs 20 --agg_epochs 10 --density 0.10 --slices 10 --part_type 2 --save_model 0 --processed 1"
   ],
   "metadata": {
    "collapsed": false
   }
  },
  {
   "cell_type": "code",
   "execution_count": 48,
   "outputs": [
    {
     "name": "stdout",
     "output_type": "stream",
     "text": [
      "2022-11-27 12:14:38  Namespace(agg_epochs=10, agg_type='softmax', batch_size=128, dataset='tp', density=0.1, devices='gpu', dimension=64, dropout=0.1, interaction='Pure_Mf', node2vec=0, node2vec_batchsize=32, node2vec_dim=128, node2vec_epochs=1000, node2vec_length=10, node2vec_walk=50, num_layers=2, order=2, part_iter=100, part_type=2, path='./datasets/data/WSDREAM/', processed=1, retrain=0, rounds=1, save_model=0, slice_epochs=20, slices=10, verbose=0)\r\n",
      "2022-11-27 12:14:38  All the experiments have been done!\r\n",
      "2022-11-27 12:14:38  Dataset : tp     interaction : Pure_Mf\r\n",
      "2022-11-27 12:14:38  Density : 10.00%, slice_epochs : 20, agg_epochs : 10\r\n",
      "2022-11-27 12:14:38  Part_type : 2,    slices : 10,       devices : gpu\r\n",
      "2022-11-27 12:14:38  Dataset : tp     interaction : Pure_Mf\r\n",
      "2022-11-27 12:14:38  Density : 10.00%, slice_epochs : 20, agg_epochs : 10\r\n",
      "2022-11-27 12:14:38  Part_type : 2,    slices : 10,       devices : gpu\r\n",
      "\r\n",
      "2022-11-27 12:14:38  Density 10.00% : MAE = 41.460, RMSE = 115.694, NMAE = 0.876, MRE = 0.767, NPRE = 4.916\r\n",
      "\r\n",
      "2022-11-27 12:14:38  Experiment success!\r\n"
     ]
    }
   ],
   "source": [
    "!python Experiment.py --dataset tp --interaction Pure_Mf --rounds 1 --slice_epochs 20 --agg_epochs 10 --density 0.10 --slices 10 --part_type 2 --save_model 0 --processed 1"
   ],
   "metadata": {
    "collapsed": false
   }
  },
  {
   "cell_type": "markdown",
   "source": [
    "*****"
   ],
   "metadata": {
    "collapsed": false
   }
  },
  {
   "cell_type": "markdown",
   "source": [
    "## Density : 0.15"
   ],
   "metadata": {
    "collapsed": false
   }
  },
  {
   "cell_type": "markdown",
   "source": [
    "### SISA2"
   ],
   "metadata": {
    "collapsed": false
   }
  },
  {
   "cell_type": "code",
   "execution_count": 49,
   "outputs": [
    {
     "name": "stdout",
     "output_type": "stream",
     "text": [
      "2022-11-27 12:14:38  Namespace(agg_epochs=10, agg_type='softmax', batch_size=128, dataset='rt', density=0.15, devices='gpu', dimension=64, dropout=0.1, interaction='NeuCF', node2vec=0, node2vec_batchsize=32, node2vec_dim=128, node2vec_epochs=1000, node2vec_length=10, node2vec_walk=50, num_layers=2, order=2, part_iter=100, part_type=2, path='./datasets/data/WSDREAM/', processed=1, retrain=0, rounds=1, save_model=0, slice_epochs=20, slices=10, verbose=0)\r\n",
      "2022-11-27 12:14:38  All the experiments have been done!\r\n",
      "2022-11-27 12:14:38  Dataset : rt     interaction : NeuCF\r\n",
      "2022-11-27 12:14:38  Density : 15.00%, slice_epochs : 20, agg_epochs : 10\r\n",
      "2022-11-27 12:14:38  Part_type : 2,    slices : 10,       devices : gpu\r\n",
      "2022-11-27 12:14:38  Dataset : rt     interaction : NeuCF\r\n",
      "2022-11-27 12:14:38  Density : 15.00%, slice_epochs : 20, agg_epochs : 10\r\n",
      "2022-11-27 12:14:38  Part_type : 2,    slices : 10,       devices : gpu\r\n",
      "\r\n",
      "2022-11-27 12:14:38  Density 15.00% : MAE = 0.522, RMSE = 1.527, NMAE = 0.573, MRE = 0.466, NPRE = 2.034\r\n",
      "\r\n",
      "2022-11-27 12:14:38  Experiment success!\r\n"
     ]
    }
   ],
   "source": [
    "!python Experiment.py --dataset rt --interaction NeuCF --rounds 1 --slice_epochs 20 --agg_epochs 10 --density 0.15 --slices 10 --part_type 2 --save_model 0 --processed 1"
   ],
   "metadata": {
    "collapsed": false
   }
  },
  {
   "cell_type": "code",
   "execution_count": 50,
   "outputs": [
    {
     "name": "stdout",
     "output_type": "stream",
     "text": [
      "2022-11-27 12:14:39  Namespace(agg_epochs=10, agg_type='softmax', batch_size=128, dataset='tp', density=0.15, devices='gpu', dimension=64, dropout=0.1, interaction='NeuCF', node2vec=0, node2vec_batchsize=32, node2vec_dim=128, node2vec_epochs=1000, node2vec_length=10, node2vec_walk=50, num_layers=2, order=2, part_iter=100, part_type=2, path='./datasets/data/WSDREAM/', processed=1, retrain=0, rounds=1, save_model=0, slice_epochs=20, slices=10, verbose=0)\r\n",
      "2022-11-27 12:14:39  All the experiments have been done!\r\n",
      "2022-11-27 12:14:39  Dataset : tp     interaction : NeuCF\r\n",
      "2022-11-27 12:14:39  Density : 15.00%, slice_epochs : 20, agg_epochs : 10\r\n",
      "2022-11-27 12:14:39  Part_type : 2,    slices : 10,       devices : gpu\r\n",
      "2022-11-27 12:14:39  Dataset : tp     interaction : NeuCF\r\n",
      "2022-11-27 12:14:39  Density : 15.00%, slice_epochs : 20, agg_epochs : 10\r\n",
      "2022-11-27 12:14:39  Part_type : 2,    slices : 10,       devices : gpu\r\n",
      "\r\n",
      "2022-11-27 12:14:39  Density 15.00% : MAE = 25.803, RMSE = 71.174, NMAE = 0.545, MRE = 0.543, NPRE = 2.144\r\n",
      "\r\n",
      "2022-11-27 12:14:39  Experiment success!\r\n"
     ]
    }
   ],
   "source": [
    "!python Experiment.py --dataset tp --interaction NeuCF --rounds 1 --slice_epochs 20 --agg_epochs 10 --density 0.15 --slices 10 --part_type 2 --save_model 0 --processed 1"
   ],
   "metadata": {
    "collapsed": false
   }
  },
  {
   "cell_type": "code",
   "execution_count": 51,
   "outputs": [
    {
     "name": "stdout",
     "output_type": "stream",
     "text": [
      "2022-11-27 12:14:40  Namespace(agg_epochs=10, agg_type='softmax', batch_size=128, dataset='rt', density=0.15, devices='gpu', dimension=64, dropout=0.1, interaction='CSMF', node2vec=0, node2vec_batchsize=32, node2vec_dim=128, node2vec_epochs=1000, node2vec_length=10, node2vec_walk=50, num_layers=2, order=2, part_iter=100, part_type=2, path='./datasets/data/WSDREAM/', processed=1, retrain=0, rounds=1, save_model=0, slice_epochs=20, slices=10, verbose=0)\r\n",
      "2022-11-27 12:14:40  All the experiments have been done!\r\n",
      "2022-11-27 12:14:40  Dataset : rt     interaction : CSMF\r\n",
      "2022-11-27 12:14:40  Density : 15.00%, slice_epochs : 20, agg_epochs : 10\r\n",
      "2022-11-27 12:14:40  Part_type : 2,    slices : 10,       devices : gpu\r\n",
      "2022-11-27 12:14:40  Dataset : rt     interaction : CSMF\r\n",
      "2022-11-27 12:14:40  Density : 15.00%, slice_epochs : 20, agg_epochs : 10\r\n",
      "2022-11-27 12:14:40  Part_type : 2,    slices : 10,       devices : gpu\r\n",
      "\r\n",
      "2022-11-27 12:14:40  Density 15.00% : MAE = 0.673, RMSE = 1.927, NMAE = 0.740, MRE = 0.545, NPRE = 2.386\r\n",
      "\r\n",
      "2022-11-27 12:14:40  Experiment success!\r\n"
     ]
    }
   ],
   "source": [
    "!python Experiment.py --dataset rt --interaction CSMF --rounds 1 --slice_epochs 20 --agg_epochs 10 --density 0.15 --slices 10 --part_type 2 --save_model 0 --processed 1"
   ],
   "metadata": {
    "collapsed": false
   }
  },
  {
   "cell_type": "code",
   "execution_count": 52,
   "outputs": [
    {
     "name": "stdout",
     "output_type": "stream",
     "text": [
      "2022-11-27 12:14:41  Namespace(agg_epochs=10, agg_type='softmax', batch_size=128, dataset='tp', density=0.15, devices='gpu', dimension=64, dropout=0.1, interaction='CSMF', node2vec=0, node2vec_batchsize=32, node2vec_dim=128, node2vec_epochs=1000, node2vec_length=10, node2vec_walk=50, num_layers=2, order=2, part_iter=100, part_type=2, path='./datasets/data/WSDREAM/', processed=1, retrain=0, rounds=1, save_model=0, slice_epochs=20, slices=10, verbose=0)\r\n",
      "2022-11-27 12:14:41  All the experiments have been done!\r\n",
      "2022-11-27 12:14:41  Dataset : tp     interaction : CSMF\r\n",
      "2022-11-27 12:14:41  Density : 15.00%, slice_epochs : 20, agg_epochs : 10\r\n",
      "2022-11-27 12:14:41  Part_type : 2,    slices : 10,       devices : gpu\r\n",
      "2022-11-27 12:14:41  Dataset : tp     interaction : CSMF\r\n",
      "2022-11-27 12:14:41  Density : 15.00%, slice_epochs : 20, agg_epochs : 10\r\n",
      "2022-11-27 12:14:41  Part_type : 2,    slices : 10,       devices : gpu\r\n",
      "\r\n",
      "2022-11-27 12:14:41  Density 15.00% : MAE = 31.064, RMSE = 84.452, NMAE = 0.656, MRE = 0.651, NPRE = 3.024\r\n",
      "\r\n",
      "2022-11-27 12:14:41  Experiment success!\r\n"
     ]
    }
   ],
   "source": [
    "!python Experiment.py --dataset tp --interaction CSMF --rounds 1 --slice_epochs 20 --agg_epochs 10 --density 0.15 --slices 10 --part_type 2 --save_model 0 --processed 1"
   ],
   "metadata": {
    "collapsed": false
   }
  },
  {
   "cell_type": "code",
   "execution_count": 53,
   "outputs": [],
   "source": [
    "# !python Experiment.py --dataset rt --interaction NeuGraphMF --rounds 1 --slice_epochs 20 --agg_epochs 10 --density 0.15 --slices 10 --part_type 2 --save_model 0 --processed 1"
   ],
   "metadata": {
    "collapsed": false
   }
  },
  {
   "cell_type": "code",
   "execution_count": 54,
   "outputs": [],
   "source": [
    "# !python Experiment.py --dataset rt --interaction NeuGraphMF --rounds 1 --slice_epochs 20 --agg_epochs 10 --density 0.15 --slices 10 --part_type 2 --save_model 0 --processed 1"
   ],
   "metadata": {
    "collapsed": false
   }
  },
  {
   "cell_type": "code",
   "execution_count": 55,
   "outputs": [
    {
     "name": "stdout",
     "output_type": "stream",
     "text": [
      "2022-11-27 12:14:42  Namespace(agg_epochs=10, agg_type='softmax', batch_size=128, dataset='rt', density=0.15, devices='gpu', dimension=64, dropout=0.1, interaction='Pure_Mf', node2vec=0, node2vec_batchsize=32, node2vec_dim=128, node2vec_epochs=1000, node2vec_length=10, node2vec_walk=50, num_layers=2, order=2, part_iter=100, part_type=2, path='./datasets/data/WSDREAM/', processed=1, retrain=0, rounds=1, save_model=0, slice_epochs=20, slices=10, verbose=0)\r\n",
      "2022-11-27 12:14:42  All the experiments have been done!\r\n",
      "2022-11-27 12:14:42  Dataset : rt     interaction : Pure_Mf\r\n",
      "2022-11-27 12:14:42  Density : 15.00%, slice_epochs : 20, agg_epochs : 10\r\n",
      "2022-11-27 12:14:42  Part_type : 2,    slices : 10,       devices : gpu\r\n",
      "2022-11-27 12:14:42  Dataset : rt     interaction : Pure_Mf\r\n",
      "2022-11-27 12:14:42  Density : 15.00%, slice_epochs : 20, agg_epochs : 10\r\n",
      "2022-11-27 12:14:42  Part_type : 2,    slices : 10,       devices : gpu\r\n",
      "\r\n",
      "2022-11-27 12:14:42  Density 15.00% : MAE = 0.754, RMSE = 2.056, NMAE = 0.830, MRE = 0.671, NPRE = 3.339\r\n",
      "\r\n",
      "2022-11-27 12:14:42  Experiment success!\r\n"
     ]
    }
   ],
   "source": [
    "!python Experiment.py --dataset rt --interaction Pure_Mf --rounds 1 --slice_epochs 20 --agg_epochs 10 --density 0.15 --slices 10 --part_type 2 --save_model 0 --processed 1"
   ],
   "metadata": {
    "collapsed": false
   }
  },
  {
   "cell_type": "code",
   "execution_count": 56,
   "outputs": [
    {
     "name": "stdout",
     "output_type": "stream",
     "text": [
      "2022-11-27 12:14:43  Namespace(agg_epochs=10, agg_type='softmax', batch_size=128, dataset='tp', density=0.15, devices='gpu', dimension=64, dropout=0.1, interaction='Pure_Mf', node2vec=0, node2vec_batchsize=32, node2vec_dim=128, node2vec_epochs=1000, node2vec_length=10, node2vec_walk=50, num_layers=2, order=2, part_iter=100, part_type=2, path='./datasets/data/WSDREAM/', processed=1, retrain=0, rounds=1, save_model=0, slice_epochs=20, slices=10, verbose=0)\r\n",
      "2022-11-27 12:14:43  All the experiments have been done!\r\n",
      "2022-11-27 12:14:43  Dataset : tp     interaction : Pure_Mf\r\n",
      "2022-11-27 12:14:43  Density : 15.00%, slice_epochs : 20, agg_epochs : 10\r\n",
      "2022-11-27 12:14:43  Part_type : 2,    slices : 10,       devices : gpu\r\n",
      "2022-11-27 12:14:43  Dataset : tp     interaction : Pure_Mf\r\n",
      "2022-11-27 12:14:43  Density : 15.00%, slice_epochs : 20, agg_epochs : 10\r\n",
      "2022-11-27 12:14:43  Part_type : 2,    slices : 10,       devices : gpu\r\n",
      "\r\n",
      "2022-11-27 12:14:43  Density 15.00% : MAE = 41.568, RMSE = 114.986, NMAE = 0.878, MRE = 0.797, NPRE = 5.827\r\n",
      "\r\n",
      "2022-11-27 12:14:43  Experiment success!\r\n"
     ]
    }
   ],
   "source": [
    "!python Experiment.py --dataset tp --interaction Pure_Mf --rounds 1 --slice_epochs 20 --agg_epochs 10 --density 0.15 --slices 10 --part_type 2 --save_model 0 --processed 1"
   ],
   "metadata": {
    "collapsed": false
   }
  },
  {
   "cell_type": "markdown",
   "source": [
    "*****"
   ],
   "metadata": {
    "collapsed": false
   }
  },
  {
   "cell_type": "markdown",
   "source": [
    "## Density : 0.20"
   ],
   "metadata": {
    "collapsed": false
   }
  },
  {
   "cell_type": "markdown",
   "source": [
    "### SISA2"
   ],
   "metadata": {
    "collapsed": false
   }
  },
  {
   "cell_type": "code",
   "execution_count": 57,
   "outputs": [
    {
     "name": "stdout",
     "output_type": "stream",
     "text": [
      "2022-11-27 12:14:44  Namespace(agg_epochs=10, agg_type='softmax', batch_size=128, dataset='rt', density=0.2, devices='gpu', dimension=64, dropout=0.1, interaction='NeuCF', node2vec=0, node2vec_batchsize=32, node2vec_dim=128, node2vec_epochs=1000, node2vec_length=10, node2vec_walk=50, num_layers=2, order=2, part_iter=100, part_type=2, path='./datasets/data/WSDREAM/', processed=1, retrain=0, rounds=1, save_model=0, slice_epochs=20, slices=10, verbose=0)\r\n",
      "2022-11-27 12:14:44  All the experiments have been done!\r\n",
      "2022-11-27 12:14:44  Dataset : rt     interaction : NeuCF\r\n",
      "2022-11-27 12:14:44  Density : 20.00%, slice_epochs : 20, agg_epochs : 10\r\n",
      "2022-11-27 12:14:44  Part_type : 2,    slices : 10,       devices : gpu\r\n",
      "2022-11-27 12:14:44  Dataset : rt     interaction : NeuCF\r\n",
      "2022-11-27 12:14:44  Density : 20.00%, slice_epochs : 20, agg_epochs : 10\r\n",
      "2022-11-27 12:14:44  Part_type : 2,    slices : 10,       devices : gpu\r\n",
      "\r\n",
      "2022-11-27 12:14:44  Density 20.00% : MAE = 0.503, RMSE = 1.501, NMAE = 0.553, MRE = 0.455, NPRE = 2.045\r\n",
      "\r\n",
      "2022-11-27 12:14:44  Experiment success!\r\n"
     ]
    }
   ],
   "source": [
    "!python Experiment.py --dataset rt --interaction NeuCF --rounds 1 --slice_epochs 20 --agg_epochs 10 --density 0.20 --slices 10 --part_type 2 --save_model 0 --processed 1"
   ],
   "metadata": {
    "collapsed": false
   }
  },
  {
   "cell_type": "code",
   "execution_count": 58,
   "outputs": [
    {
     "name": "stdout",
     "output_type": "stream",
     "text": [
      "2022-11-27 12:14:44  Namespace(agg_epochs=10, agg_type='softmax', batch_size=128, dataset='tp', density=0.2, devices='gpu', dimension=64, dropout=0.1, interaction='NeuCF', node2vec=0, node2vec_batchsize=32, node2vec_dim=128, node2vec_epochs=1000, node2vec_length=10, node2vec_walk=50, num_layers=2, order=2, part_iter=100, part_type=2, path='./datasets/data/WSDREAM/', processed=1, retrain=0, rounds=1, save_model=0, slice_epochs=20, slices=10, verbose=0)\r\n",
      "2022-11-27 12:14:44  All the experiments have been done!\r\n",
      "2022-11-27 12:14:44  Dataset : tp     interaction : NeuCF\r\n",
      "2022-11-27 12:14:44  Density : 20.00%, slice_epochs : 20, agg_epochs : 10\r\n",
      "2022-11-27 12:14:44  Part_type : 2,    slices : 10,       devices : gpu\r\n",
      "2022-11-27 12:14:44  Dataset : tp     interaction : NeuCF\r\n",
      "2022-11-27 12:14:44  Density : 20.00%, slice_epochs : 20, agg_epochs : 10\r\n",
      "2022-11-27 12:14:44  Part_type : 2,    slices : 10,       devices : gpu\r\n",
      "\r\n",
      "2022-11-27 12:14:44  Density 20.00% : MAE = 25.200, RMSE = 68.141, NMAE = 0.533, MRE = 0.549, NPRE = 2.655\r\n",
      "\r\n",
      "2022-11-27 12:14:44  Experiment success!\r\n"
     ]
    }
   ],
   "source": [
    "!python Experiment.py --dataset tp --interaction NeuCF --rounds 1 --slice_epochs 20 --agg_epochs 10 --density 0.20 --slices 10 --part_type 2 --save_model 0 --processed 1"
   ],
   "metadata": {
    "collapsed": false
   }
  },
  {
   "cell_type": "code",
   "execution_count": 59,
   "outputs": [
    {
     "name": "stdout",
     "output_type": "stream",
     "text": [
      "2022-11-27 12:14:45  Namespace(agg_epochs=10, agg_type='softmax', batch_size=128, dataset='rt', density=0.2, devices='gpu', dimension=64, dropout=0.1, interaction='CSMF', node2vec=0, node2vec_batchsize=32, node2vec_dim=128, node2vec_epochs=1000, node2vec_length=10, node2vec_walk=50, num_layers=2, order=2, part_iter=100, part_type=2, path='./datasets/data/WSDREAM/', processed=1, retrain=0, rounds=1, save_model=0, slice_epochs=20, slices=10, verbose=0)\r\n",
      "2022-11-27 12:14:45  All the experiments have been done!\r\n",
      "2022-11-27 12:14:45  Dataset : rt     interaction : CSMF\r\n",
      "2022-11-27 12:14:45  Density : 20.00%, slice_epochs : 20, agg_epochs : 10\r\n",
      "2022-11-27 12:14:45  Part_type : 2,    slices : 10,       devices : gpu\r\n",
      "2022-11-27 12:14:45  Dataset : rt     interaction : CSMF\r\n",
      "2022-11-27 12:14:45  Density : 20.00%, slice_epochs : 20, agg_epochs : 10\r\n",
      "2022-11-27 12:14:45  Part_type : 2,    slices : 10,       devices : gpu\r\n",
      "\r\n",
      "2022-11-27 12:14:45  Density 20.00% : MAE = 0.654, RMSE = 1.897, NMAE = 0.718, MRE = 0.525, NPRE = 2.075\r\n",
      "\r\n",
      "2022-11-27 12:14:45  Experiment success!\r\n"
     ]
    }
   ],
   "source": [
    "!python Experiment.py --dataset rt --interaction CSMF --rounds 1 --slice_epochs 20 --agg_epochs 10 --density 0.20 --slices 10 --part_type 2 --save_model 0 --processed 1"
   ],
   "metadata": {
    "collapsed": false
   }
  },
  {
   "cell_type": "code",
   "execution_count": 60,
   "outputs": [
    {
     "name": "stdout",
     "output_type": "stream",
     "text": [
      "2022-11-27 12:14:46  Namespace(agg_epochs=10, agg_type='softmax', batch_size=128, dataset='tp', density=0.2, devices='gpu', dimension=64, dropout=0.1, interaction='CSMF', node2vec=0, node2vec_batchsize=32, node2vec_dim=128, node2vec_epochs=1000, node2vec_length=10, node2vec_walk=50, num_layers=2, order=2, part_iter=100, part_type=2, path='./datasets/data/WSDREAM/', processed=1, retrain=0, rounds=1, save_model=0, slice_epochs=20, slices=10, verbose=0)\r\n",
      "2022-11-27 12:14:46  All the experiments have been done!\r\n",
      "2022-11-27 12:14:46  Dataset : tp     interaction : CSMF\r\n",
      "2022-11-27 12:14:46  Density : 20.00%, slice_epochs : 20, agg_epochs : 10\r\n",
      "2022-11-27 12:14:46  Part_type : 2,    slices : 10,       devices : gpu\r\n",
      "2022-11-27 12:14:46  Dataset : tp     interaction : CSMF\r\n",
      "2022-11-27 12:14:46  Density : 20.00%, slice_epochs : 20, agg_epochs : 10\r\n",
      "2022-11-27 12:14:46  Part_type : 2,    slices : 10,       devices : gpu\r\n",
      "\r\n",
      "2022-11-27 12:14:46  Density 20.00% : MAE = 27.621, RMSE = 73.249, NMAE = 0.584, MRE = 0.623, NPRE = 3.019\r\n",
      "\r\n",
      "2022-11-27 12:14:46  Experiment success!\r\n"
     ]
    }
   ],
   "source": [
    "!python Experiment.py --dataset tp --interaction CSMF --rounds 1 --slice_epochs 20 --agg_epochs 10 --density 0.20 --slices 10 --part_type 2 --save_model 0 --processed 1"
   ],
   "metadata": {
    "collapsed": false
   }
  },
  {
   "cell_type": "code",
   "execution_count": 61,
   "outputs": [],
   "source": [
    "# !python Experiment.py --dataset rt --interaction NeuGraphMF --rounds 1 --slice_epochs 20 --agg_epochs 10 --density 0.20 --slices 10 --part_type 2 --save_model 0 --processed 1"
   ],
   "metadata": {
    "collapsed": false
   }
  },
  {
   "cell_type": "code",
   "execution_count": 62,
   "outputs": [],
   "source": [
    "# !python Experiment.py --dataset rt --interaction NeuGraphMF --rounds 1 --slice_epochs 20 --agg_epochs 10 --density 0.20 --slices 10 --part_type 2 --save_model 0 --processed 1"
   ],
   "metadata": {
    "collapsed": false
   }
  },
  {
   "cell_type": "code",
   "execution_count": 63,
   "outputs": [
    {
     "name": "stdout",
     "output_type": "stream",
     "text": [
      "2022-11-27 12:14:47  Namespace(agg_epochs=10, agg_type='softmax', batch_size=128, dataset='rt', density=0.2, devices='gpu', dimension=64, dropout=0.1, interaction='Pure_Mf', node2vec=0, node2vec_batchsize=32, node2vec_dim=128, node2vec_epochs=1000, node2vec_length=10, node2vec_walk=50, num_layers=2, order=2, part_iter=100, part_type=2, path='./datasets/data/WSDREAM/', processed=1, retrain=0, rounds=1, save_model=0, slice_epochs=20, slices=10, verbose=0)\r\n",
      "2022-11-27 12:14:47  All the experiments have been done!\r\n",
      "2022-11-27 12:14:47  Dataset : rt     interaction : Pure_Mf\r\n",
      "2022-11-27 12:14:47  Density : 20.00%, slice_epochs : 20, agg_epochs : 10\r\n",
      "2022-11-27 12:14:47  Part_type : 2,    slices : 10,       devices : gpu\r\n",
      "2022-11-27 12:14:47  Dataset : rt     interaction : Pure_Mf\r\n",
      "2022-11-27 12:14:47  Density : 20.00%, slice_epochs : 20, agg_epochs : 10\r\n",
      "2022-11-27 12:14:47  Part_type : 2,    slices : 10,       devices : gpu\r\n",
      "\r\n",
      "2022-11-27 12:14:47  Density 20.00% : MAE = 0.743, RMSE = 2.034, NMAE = 0.818, MRE = 0.655, NPRE = 3.013\r\n",
      "\r\n",
      "2022-11-27 12:14:47  Experiment success!\r\n"
     ]
    }
   ],
   "source": [
    "!python Experiment.py --dataset rt --interaction Pure_Mf --rounds 1 --slice_epochs 20 --agg_epochs 10 --density 0.20 --slices 10 --part_type 2 --save_model 0 --processed 1"
   ],
   "metadata": {
    "collapsed": false
   }
  },
  {
   "cell_type": "code",
   "execution_count": 64,
   "outputs": [
    {
     "name": "stdout",
     "output_type": "stream",
     "text": [
      "2022-11-27 12:14:48  Namespace(agg_epochs=10, agg_type='softmax', batch_size=128, dataset='tp', density=0.2, devices='gpu', dimension=64, dropout=0.1, interaction='Pure_Mf', node2vec=0, node2vec_batchsize=32, node2vec_dim=128, node2vec_epochs=1000, node2vec_length=10, node2vec_walk=50, num_layers=2, order=2, part_iter=100, part_type=2, path='./datasets/data/WSDREAM/', processed=1, retrain=0, rounds=1, save_model=0, slice_epochs=20, slices=10, verbose=0)\r\n",
      "2022-11-27 12:14:48  All the experiments have been done!\r\n",
      "2022-11-27 12:14:48  Dataset : tp     interaction : Pure_Mf\r\n",
      "2022-11-27 12:14:48  Density : 20.00%, slice_epochs : 20, agg_epochs : 10\r\n",
      "2022-11-27 12:14:48  Part_type : 2,    slices : 10,       devices : gpu\r\n",
      "2022-11-27 12:14:48  Dataset : tp     interaction : Pure_Mf\r\n",
      "2022-11-27 12:14:48  Density : 20.00%, slice_epochs : 20, agg_epochs : 10\r\n",
      "2022-11-27 12:14:48  Part_type : 2,    slices : 10,       devices : gpu\r\n",
      "\r\n",
      "2022-11-27 12:14:48  Density 20.00% : MAE = 41.456, RMSE = 115.555, NMAE = 0.875, MRE = 0.775, NPRE = 5.169\r\n",
      "\r\n",
      "2022-11-27 12:14:48  Experiment success!\r\n"
     ]
    }
   ],
   "source": [
    "!python Experiment.py --dataset tp --interaction Pure_Mf --rounds 1 --slice_epochs 20 --agg_epochs 10 --density 0.20 --slices 10 --part_type 2 --save_model 0 --processed 1"
   ],
   "metadata": {
    "collapsed": false
   }
  },
  {
   "cell_type": "markdown",
   "source": [
    "*****"
   ],
   "metadata": {
    "collapsed": false
   }
  },
  {
   "cell_type": "markdown",
   "source": [
    "## Density : 0.20"
   ],
   "metadata": {
    "collapsed": false
   }
  },
  {
   "cell_type": "markdown",
   "source": [
    "### SISA2"
   ],
   "metadata": {
    "collapsed": false
   }
  },
  {
   "cell_type": "code",
   "execution_count": 65,
   "outputs": [
    {
     "name": "stdout",
     "output_type": "stream",
     "text": [
      "2022-11-27 12:14:49  Namespace(agg_epochs=10, agg_type='softmax', batch_size=128, dataset='rt', density=0.25, devices='gpu', dimension=64, dropout=0.1, interaction='NeuCF', node2vec=0, node2vec_batchsize=32, node2vec_dim=128, node2vec_epochs=1000, node2vec_length=10, node2vec_walk=50, num_layers=2, order=2, part_iter=100, part_type=2, path='./datasets/data/WSDREAM/', processed=1, retrain=0, rounds=1, save_model=0, slice_epochs=20, slices=10, verbose=0)\r\n",
      "2022-11-27 12:14:49  All the experiments have been done!\r\n",
      "2022-11-27 12:14:49  Dataset : rt     interaction : NeuCF\r\n",
      "2022-11-27 12:14:49  Density : 25.00%, slice_epochs : 20, agg_epochs : 10\r\n",
      "2022-11-27 12:14:49  Part_type : 2,    slices : 10,       devices : gpu\r\n",
      "2022-11-27 12:14:49  Dataset : rt     interaction : NeuCF\r\n",
      "2022-11-27 12:14:49  Density : 25.00%, slice_epochs : 20, agg_epochs : 10\r\n",
      "2022-11-27 12:14:49  Part_type : 2,    slices : 10,       devices : gpu\r\n",
      "\r\n",
      "2022-11-27 12:14:49  Density 25.00% : MAE = 0.495, RMSE = 1.464, NMAE = 0.543, MRE = 0.450, NPRE = 2.431\r\n",
      "\r\n",
      "2022-11-27 12:14:49  Experiment success!\r\n"
     ]
    }
   ],
   "source": [
    "!python Experiment.py --dataset rt --interaction NeuCF --rounds 1 --slice_epochs 20 --agg_epochs 10 --density 0.25 --slices 10 --part_type 2 --save_model 0 --processed 1"
   ],
   "metadata": {
    "collapsed": false
   }
  },
  {
   "cell_type": "code",
   "execution_count": 66,
   "outputs": [
    {
     "name": "stdout",
     "output_type": "stream",
     "text": [
      "2022-11-27 12:14:50  Namespace(agg_epochs=10, agg_type='softmax', batch_size=128, dataset='tp', density=0.25, devices='gpu', dimension=64, dropout=0.1, interaction='NeuCF', node2vec=0, node2vec_batchsize=32, node2vec_dim=128, node2vec_epochs=1000, node2vec_length=10, node2vec_walk=50, num_layers=2, order=2, part_iter=100, part_type=2, path='./datasets/data/WSDREAM/', processed=1, retrain=0, rounds=1, save_model=0, slice_epochs=20, slices=10, verbose=0)\r\n",
      "2022-11-27 12:14:50  All the experiments have been done!\r\n",
      "2022-11-27 12:14:50  Dataset : tp     interaction : NeuCF\r\n",
      "2022-11-27 12:14:50  Density : 25.00%, slice_epochs : 20, agg_epochs : 10\r\n",
      "2022-11-27 12:14:50  Part_type : 2,    slices : 10,       devices : gpu\r\n",
      "2022-11-27 12:14:50  Dataset : tp     interaction : NeuCF\r\n",
      "2022-11-27 12:14:50  Density : 25.00%, slice_epochs : 20, agg_epochs : 10\r\n",
      "2022-11-27 12:14:50  Part_type : 2,    slices : 10,       devices : gpu\r\n",
      "\r\n",
      "2022-11-27 12:14:50  Density 25.00% : MAE = 24.121, RMSE = 64.281, NMAE = 0.510, MRE = 0.547, NPRE = 2.316\r\n",
      "\r\n",
      "2022-11-27 12:14:50  Experiment success!\r\n"
     ]
    }
   ],
   "source": [
    "!python Experiment.py --dataset tp --interaction NeuCF --rounds 1 --slice_epochs 20 --agg_epochs 10 --density 0.25 --slices 10 --part_type 2 --save_model 0 --processed 1"
   ],
   "metadata": {
    "collapsed": false
   }
  },
  {
   "cell_type": "code",
   "execution_count": 67,
   "outputs": [
    {
     "name": "stdout",
     "output_type": "stream",
     "text": [
      "2022-11-27 12:14:50  Namespace(agg_epochs=10, agg_type='softmax', batch_size=128, dataset='rt', density=0.25, devices='gpu', dimension=64, dropout=0.1, interaction='CSMF', node2vec=0, node2vec_batchsize=32, node2vec_dim=128, node2vec_epochs=1000, node2vec_length=10, node2vec_walk=50, num_layers=2, order=2, part_iter=100, part_type=2, path='./datasets/data/WSDREAM/', processed=1, retrain=0, rounds=1, save_model=0, slice_epochs=20, slices=10, verbose=0)\r\n",
      "2022-11-27 12:14:50  All the experiments have been done!\r\n",
      "2022-11-27 12:14:50  Dataset : rt     interaction : CSMF\r\n",
      "2022-11-27 12:14:50  Density : 25.00%, slice_epochs : 20, agg_epochs : 10\r\n",
      "2022-11-27 12:14:50  Part_type : 2,    slices : 10,       devices : gpu\r\n",
      "2022-11-27 12:14:50  Dataset : rt     interaction : CSMF\r\n",
      "2022-11-27 12:14:50  Density : 25.00%, slice_epochs : 20, agg_epochs : 10\r\n",
      "2022-11-27 12:14:50  Part_type : 2,    slices : 10,       devices : gpu\r\n",
      "\r\n",
      "2022-11-27 12:14:50  Density 25.00% : MAE = 0.650, RMSE = 1.901, NMAE = 0.715, MRE = 0.513, NPRE = 2.131\r\n",
      "\r\n",
      "2022-11-27 12:14:50  Experiment success!\r\n"
     ]
    }
   ],
   "source": [
    "!python Experiment.py --dataset rt --interaction CSMF --rounds 1 --slice_epochs 20 --agg_epochs 10 --density 0.25 --slices 10 --part_type 2 --save_model 0 --processed 1"
   ],
   "metadata": {
    "collapsed": false
   }
  },
  {
   "cell_type": "code",
   "execution_count": 68,
   "outputs": [
    {
     "name": "stdout",
     "output_type": "stream",
     "text": [
      "2022-11-27 12:14:51  Namespace(agg_epochs=10, agg_type='softmax', batch_size=128, dataset='tp', density=0.25, devices='gpu', dimension=64, dropout=0.1, interaction='CSMF', node2vec=0, node2vec_batchsize=32, node2vec_dim=128, node2vec_epochs=1000, node2vec_length=10, node2vec_walk=50, num_layers=2, order=2, part_iter=100, part_type=2, path='./datasets/data/WSDREAM/', processed=1, retrain=0, rounds=1, save_model=0, slice_epochs=20, slices=10, verbose=0)\r\n",
      "2022-11-27 12:14:51  All the experiments have been done!\r\n",
      "2022-11-27 12:14:51  Dataset : tp     interaction : CSMF\r\n",
      "2022-11-27 12:14:51  Density : 25.00%, slice_epochs : 20, agg_epochs : 10\r\n",
      "2022-11-27 12:14:51  Part_type : 2,    slices : 10,       devices : gpu\r\n",
      "2022-11-27 12:14:51  Dataset : tp     interaction : CSMF\r\n",
      "2022-11-27 12:14:51  Density : 25.00%, slice_epochs : 20, agg_epochs : 10\r\n",
      "2022-11-27 12:14:51  Part_type : 2,    slices : 10,       devices : gpu\r\n",
      "\r\n",
      "2022-11-27 12:14:51  Density 25.00% : MAE = 28.302, RMSE = 76.127, NMAE = 0.599, MRE = 0.616, NPRE = 2.997\r\n",
      "\r\n",
      "2022-11-27 12:14:51  Experiment success!\r\n"
     ]
    }
   ],
   "source": [
    "!python Experiment.py --dataset tp --interaction CSMF --rounds 1 --slice_epochs 20 --agg_epochs 10 --density 0.25 --slices 10 --part_type 2 --save_model 0 --processed 1"
   ],
   "metadata": {
    "collapsed": false
   }
  },
  {
   "cell_type": "code",
   "execution_count": 69,
   "outputs": [],
   "source": [
    "# !python Experiment.py --dataset rt --interaction NeuGraphMF --rounds 1 --slice_epochs 20 --agg_epochs 10 --density 0.25 --slices 10 --part_type 2 --save_model 0 --processed 1"
   ],
   "metadata": {
    "collapsed": false
   }
  },
  {
   "cell_type": "code",
   "execution_count": 70,
   "outputs": [],
   "source": [
    "# !python Experiment.py --dataset rt --interaction NeuGraphMF --rounds 1 --slice_epochs 20 --agg_epochs 10 --density 0.25 --slices 10 --part_type 2 --save_model 0 --processed 1"
   ],
   "metadata": {
    "collapsed": false
   }
  },
  {
   "cell_type": "code",
   "execution_count": 71,
   "outputs": [
    {
     "name": "stdout",
     "output_type": "stream",
     "text": [
      "2022-11-27 12:14:52  Namespace(agg_epochs=10, agg_type='softmax', batch_size=128, dataset='rt', density=0.25, devices='gpu', dimension=64, dropout=0.1, interaction='Pure_Mf', node2vec=0, node2vec_batchsize=32, node2vec_dim=128, node2vec_epochs=1000, node2vec_length=10, node2vec_walk=50, num_layers=2, order=2, part_iter=100, part_type=2, path='./datasets/data/WSDREAM/', processed=1, retrain=0, rounds=1, save_model=0, slice_epochs=20, slices=10, verbose=0)\r\n",
      "2022-11-27 12:14:52  All the experiments have been done!\r\n",
      "2022-11-27 12:14:52  Dataset : rt     interaction : Pure_Mf\r\n",
      "2022-11-27 12:14:52  Density : 25.00%, slice_epochs : 20, agg_epochs : 10\r\n",
      "2022-11-27 12:14:52  Part_type : 2,    slices : 10,       devices : gpu\r\n",
      "2022-11-27 12:14:52  Dataset : rt     interaction : Pure_Mf\r\n",
      "2022-11-27 12:14:52  Density : 25.00%, slice_epochs : 20, agg_epochs : 10\r\n",
      "2022-11-27 12:14:52  Part_type : 2,    slices : 10,       devices : gpu\r\n",
      "\r\n",
      "2022-11-27 12:14:52  Density 25.00% : MAE = 0.756, RMSE = 2.054, NMAE = 0.830, MRE = 0.689, NPRE = 3.645\r\n",
      "\r\n",
      "2022-11-27 12:14:52  Experiment success!\r\n"
     ]
    }
   ],
   "source": [
    "!python Experiment.py --dataset rt --interaction Pure_Mf --rounds 1 --slice_epochs 20 --agg_epochs 10 --density 0.25 --slices 10 --part_type 2 --save_model 0 --processed 1"
   ],
   "metadata": {
    "collapsed": false
   }
  },
  {
   "cell_type": "code",
   "execution_count": 72,
   "outputs": [
    {
     "name": "stdout",
     "output_type": "stream",
     "text": [
      "2022-11-27 12:14:53  Namespace(agg_epochs=10, agg_type='softmax', batch_size=128, dataset='tp', density=0.25, devices='gpu', dimension=64, dropout=0.1, interaction='Pure_Mf', node2vec=0, node2vec_batchsize=32, node2vec_dim=128, node2vec_epochs=1000, node2vec_length=10, node2vec_walk=50, num_layers=2, order=2, part_iter=100, part_type=2, path='./datasets/data/WSDREAM/', processed=1, retrain=0, rounds=1, save_model=0, slice_epochs=20, slices=10, verbose=0)\r\n",
      "2022-11-27 12:14:53  All the experiments have been done!\r\n",
      "2022-11-27 12:14:53  Dataset : tp     interaction : Pure_Mf\r\n",
      "2022-11-27 12:14:53  Density : 25.00%, slice_epochs : 20, agg_epochs : 10\r\n",
      "2022-11-27 12:14:53  Part_type : 2,    slices : 10,       devices : gpu\r\n",
      "2022-11-27 12:14:53  Dataset : tp     interaction : Pure_Mf\r\n",
      "2022-11-27 12:14:53  Density : 25.00%, slice_epochs : 20, agg_epochs : 10\r\n",
      "2022-11-27 12:14:53  Part_type : 2,    slices : 10,       devices : gpu\r\n",
      "\r\n",
      "2022-11-27 12:14:53  Density 25.00% : MAE = 41.427, RMSE = 115.445, NMAE = 0.877, MRE = 0.768, NPRE = 4.895\r\n",
      "\r\n",
      "2022-11-27 12:14:53  Experiment success!\r\n"
     ]
    }
   ],
   "source": [
    "!python Experiment.py --dataset tp --interaction Pure_Mf --rounds 1 --slice_epochs 20 --agg_epochs 10 --density 0.25 --slices 10 --part_type 2 --save_model 0 --processed 1"
   ],
   "metadata": {
    "collapsed": false
   }
  },
  {
   "cell_type": "markdown",
   "source": [
    "*****"
   ],
   "metadata": {
    "collapsed": false
   }
  },
  {
   "cell_type": "markdown",
   "source": [
    "## Density : 0.30"
   ],
   "metadata": {
    "collapsed": false
   }
  },
  {
   "cell_type": "markdown",
   "source": [
    "### SISA2"
   ],
   "metadata": {
    "collapsed": false
   }
  },
  {
   "cell_type": "code",
   "execution_count": 73,
   "outputs": [
    {
     "name": "stdout",
     "output_type": "stream",
     "text": [
      "2022-11-27 12:14:54  Namespace(agg_epochs=10, agg_type='softmax', batch_size=128, dataset='rt', density=0.3, devices='gpu', dimension=64, dropout=0.1, interaction='NeuCF', node2vec=0, node2vec_batchsize=32, node2vec_dim=128, node2vec_epochs=1000, node2vec_length=10, node2vec_walk=50, num_layers=2, order=2, part_iter=100, part_type=2, path='./datasets/data/WSDREAM/', processed=1, retrain=0, rounds=1, save_model=0, slice_epochs=20, slices=10, verbose=0)\r\n",
      "2022-11-27 12:14:54  All the experiments have been done!\r\n",
      "2022-11-27 12:14:54  Dataset : rt     interaction : NeuCF\r\n",
      "2022-11-27 12:14:54  Density : 30.00%, slice_epochs : 20, agg_epochs : 10\r\n",
      "2022-11-27 12:14:54  Part_type : 2,    slices : 10,       devices : gpu\r\n",
      "2022-11-27 12:14:54  Dataset : rt     interaction : NeuCF\r\n",
      "2022-11-27 12:14:54  Density : 30.00%, slice_epochs : 20, agg_epochs : 10\r\n",
      "2022-11-27 12:14:54  Part_type : 2,    slices : 10,       devices : gpu\r\n",
      "\r\n",
      "2022-11-27 12:14:54  Density 30.00% : MAE = 0.483, RMSE = 1.444, NMAE = 0.530, MRE = 0.435, NPRE = 2.327\r\n",
      "\r\n",
      "2022-11-27 12:14:54  Experiment success!\r\n"
     ]
    }
   ],
   "source": [
    "!python Experiment.py --dataset rt --interaction NeuCF --rounds 1 --slice_epochs 20 --agg_epochs 10 --density 0.30 --slices 10 --part_type 2 --save_model 0 --processed 1"
   ],
   "metadata": {
    "collapsed": false
   }
  },
  {
   "cell_type": "code",
   "execution_count": 74,
   "outputs": [
    {
     "name": "stdout",
     "output_type": "stream",
     "text": [
      "2022-11-27 12:14:55  Namespace(agg_epochs=10, agg_type='softmax', batch_size=128, dataset='tp', density=0.3, devices='gpu', dimension=64, dropout=0.1, interaction='NeuCF', node2vec=0, node2vec_batchsize=32, node2vec_dim=128, node2vec_epochs=1000, node2vec_length=10, node2vec_walk=50, num_layers=2, order=2, part_iter=100, part_type=2, path='./datasets/data/WSDREAM/', processed=1, retrain=0, rounds=1, save_model=0, slice_epochs=20, slices=10, verbose=0)\r\n",
      "2022-11-27 12:14:55  All the experiments have been done!\r\n",
      "2022-11-27 12:14:55  Dataset : tp     interaction : NeuCF\r\n",
      "2022-11-27 12:14:55  Density : 30.00%, slice_epochs : 20, agg_epochs : 10\r\n",
      "2022-11-27 12:14:55  Part_type : 2,    slices : 10,       devices : gpu\r\n",
      "2022-11-27 12:14:55  Dataset : tp     interaction : NeuCF\r\n",
      "2022-11-27 12:14:55  Density : 30.00%, slice_epochs : 20, agg_epochs : 10\r\n",
      "2022-11-27 12:14:55  Part_type : 2,    slices : 10,       devices : gpu\r\n",
      "\r\n",
      "2022-11-27 12:14:55  Density 30.00% : MAE = 21.939, RMSE = 60.575, NMAE = 0.462, MRE = 0.473, NPRE = 2.605\r\n",
      "\r\n",
      "2022-11-27 12:14:55  Experiment success!\r\n"
     ]
    }
   ],
   "source": [
    "!python Experiment.py --dataset tp --interaction NeuCF --rounds 1 --slice_epochs 20 --agg_epochs 10 --density 0.30 --slices 10 --part_type 2 --save_model 0 --processed 1"
   ],
   "metadata": {
    "collapsed": false
   }
  },
  {
   "cell_type": "code",
   "execution_count": 75,
   "outputs": [
    {
     "name": "stdout",
     "output_type": "stream",
     "text": [
      "2022-11-27 12:14:56  Namespace(agg_epochs=10, agg_type='softmax', batch_size=128, dataset='rt', density=0.3, devices='gpu', dimension=64, dropout=0.1, interaction='CSMF', node2vec=0, node2vec_batchsize=32, node2vec_dim=128, node2vec_epochs=1000, node2vec_length=10, node2vec_walk=50, num_layers=2, order=2, part_iter=100, part_type=2, path='./datasets/data/WSDREAM/', processed=1, retrain=0, rounds=1, save_model=0, slice_epochs=20, slices=10, verbose=0)\r\n",
      "2022-11-27 12:14:56  All the experiments have been done!\r\n",
      "2022-11-27 12:14:56  Dataset : rt     interaction : CSMF\r\n",
      "2022-11-27 12:14:56  Density : 30.00%, slice_epochs : 20, agg_epochs : 10\r\n",
      "2022-11-27 12:14:56  Part_type : 2,    slices : 10,       devices : gpu\r\n",
      "2022-11-27 12:14:56  Dataset : rt     interaction : CSMF\r\n",
      "2022-11-27 12:14:56  Density : 30.00%, slice_epochs : 20, agg_epochs : 10\r\n",
      "2022-11-27 12:14:56  Part_type : 2,    slices : 10,       devices : gpu\r\n",
      "\r\n",
      "2022-11-27 12:14:56  Density 30.00% : MAE = 0.633, RMSE = 1.875, NMAE = 0.696, MRE = 0.486, NPRE = 1.791\r\n",
      "\r\n",
      "2022-11-27 12:14:56  Experiment success!\r\n"
     ]
    }
   ],
   "source": [
    "!python Experiment.py --dataset rt --interaction CSMF --rounds 1 --slice_epochs 20 --agg_epochs 10 --density 0.30 --slices 10 --part_type 2 --save_model 0 --processed 1"
   ],
   "metadata": {
    "collapsed": false
   }
  },
  {
   "cell_type": "code",
   "execution_count": 76,
   "outputs": [
    {
     "name": "stdout",
     "output_type": "stream",
     "text": [
      "2022-11-27 12:14:56  Namespace(agg_epochs=10, agg_type='softmax', batch_size=128, dataset='tp', density=0.3, devices='gpu', dimension=64, dropout=0.1, interaction='CSMF', node2vec=0, node2vec_batchsize=32, node2vec_dim=128, node2vec_epochs=1000, node2vec_length=10, node2vec_walk=50, num_layers=2, order=2, part_iter=100, part_type=2, path='./datasets/data/WSDREAM/', processed=1, retrain=0, rounds=1, save_model=0, slice_epochs=20, slices=10, verbose=0)\r\n",
      "2022-11-27 12:14:56  All the experiments have been done!\r\n",
      "2022-11-27 12:14:56  Dataset : tp     interaction : CSMF\r\n",
      "2022-11-27 12:14:56  Density : 30.00%, slice_epochs : 20, agg_epochs : 10\r\n",
      "2022-11-27 12:14:56  Part_type : 2,    slices : 10,       devices : gpu\r\n",
      "2022-11-27 12:14:56  Dataset : tp     interaction : CSMF\r\n",
      "2022-11-27 12:14:56  Density : 30.00%, slice_epochs : 20, agg_epochs : 10\r\n",
      "2022-11-27 12:14:56  Part_type : 2,    slices : 10,       devices : gpu\r\n",
      "\r\n",
      "2022-11-27 12:14:56  Density 30.00% : MAE = 26.908, RMSE = 72.164, NMAE = 0.569, MRE = 0.617, NPRE = 2.075\r\n",
      "\r\n",
      "2022-11-27 12:14:56  Experiment success!\r\n"
     ]
    }
   ],
   "source": [
    "!python Experiment.py --dataset tp --interaction CSMF --rounds 1 --slice_epochs 20 --agg_epochs 10 --density 0.30 --slices 10 --part_type 2 --save_model 0 --processed 1"
   ],
   "metadata": {
    "collapsed": false
   }
  },
  {
   "cell_type": "code",
   "execution_count": 77,
   "outputs": [],
   "source": [
    "# !python Experiment.py --dataset rt --interaction NeuGraphMF --rounds 1 --slice_epochs 20 --agg_epochs 10 --density 0.30 --slices 10 --part_type 2 --save_model 0 --processed 1"
   ],
   "metadata": {
    "collapsed": false
   }
  },
  {
   "cell_type": "code",
   "execution_count": 78,
   "outputs": [],
   "source": [
    "# !python Experiment.py --dataset rt --interaction NeuGraphMF --rounds 1 --slice_epochs 20 --agg_epochs 10 --density 0.30 --slices 10 --part_type 2 --save_model 0 --processed 1"
   ],
   "metadata": {
    "collapsed": false
   }
  },
  {
   "cell_type": "code",
   "execution_count": 79,
   "outputs": [
    {
     "name": "stdout",
     "output_type": "stream",
     "text": [
      "2022-11-27 12:14:57  Namespace(agg_epochs=10, agg_type='softmax', batch_size=128, dataset='rt', density=0.3, devices='gpu', dimension=64, dropout=0.1, interaction='Pure_Mf', node2vec=0, node2vec_batchsize=32, node2vec_dim=128, node2vec_epochs=1000, node2vec_length=10, node2vec_walk=50, num_layers=2, order=2, part_iter=100, part_type=2, path='./datasets/data/WSDREAM/', processed=1, retrain=0, rounds=1, save_model=0, slice_epochs=20, slices=10, verbose=0)\r\n",
      "2022-11-27 12:14:57  All the experiments have been done!\r\n",
      "2022-11-27 12:14:57  Dataset : rt     interaction : Pure_Mf\r\n",
      "2022-11-27 12:14:57  Density : 30.00%, slice_epochs : 20, agg_epochs : 10\r\n",
      "2022-11-27 12:14:57  Part_type : 2,    slices : 10,       devices : gpu\r\n",
      "2022-11-27 12:14:57  Dataset : rt     interaction : Pure_Mf\r\n",
      "2022-11-27 12:14:57  Density : 30.00%, slice_epochs : 20, agg_epochs : 10\r\n",
      "2022-11-27 12:14:57  Part_type : 2,    slices : 10,       devices : gpu\r\n",
      "\r\n",
      "2022-11-27 12:14:57  Density 30.00% : MAE = 0.756, RMSE = 2.052, NMAE = 0.831, MRE = 0.688, NPRE = 3.639\r\n",
      "\r\n",
      "2022-11-27 12:14:57  Experiment success!\r\n"
     ]
    }
   ],
   "source": [
    "!python Experiment.py --dataset rt --interaction Pure_Mf --rounds 1 --slice_epochs 20 --agg_epochs 10 --density 0.30 --slices 10 --part_type 2 --save_model 0 --processed 1"
   ],
   "metadata": {
    "collapsed": false
   }
  },
  {
   "cell_type": "code",
   "execution_count": 80,
   "outputs": [
    {
     "name": "stdout",
     "output_type": "stream",
     "text": [
      "2022-11-27 12:14:58  Namespace(agg_epochs=10, agg_type='softmax', batch_size=128, dataset='tp', density=0.3, devices='gpu', dimension=64, dropout=0.1, interaction='Pure_Mf', node2vec=0, node2vec_batchsize=32, node2vec_dim=128, node2vec_epochs=1000, node2vec_length=10, node2vec_walk=50, num_layers=2, order=2, part_iter=100, part_type=2, path='./datasets/data/WSDREAM/', processed=1, retrain=0, rounds=1, save_model=0, slice_epochs=20, slices=10, verbose=0)\r\n",
      "2022-11-27 12:14:58  All the experiments have been done!\r\n",
      "2022-11-27 12:14:58  Dataset : tp     interaction : Pure_Mf\r\n",
      "2022-11-27 12:14:58  Density : 30.00%, slice_epochs : 20, agg_epochs : 10\r\n",
      "2022-11-27 12:14:58  Part_type : 2,    slices : 10,       devices : gpu\r\n",
      "2022-11-27 12:14:58  Dataset : tp     interaction : Pure_Mf\r\n",
      "2022-11-27 12:14:58  Density : 30.00%, slice_epochs : 20, agg_epochs : 10\r\n",
      "2022-11-27 12:14:58  Part_type : 2,    slices : 10,       devices : gpu\r\n",
      "\r\n",
      "2022-11-27 12:14:58  Density 30.00% : MAE = 41.692, RMSE = 115.853, NMAE = 0.879, MRE = 0.773, NPRE = 5.013\r\n",
      "\r\n",
      "2022-11-27 12:14:58  Experiment success!\r\n"
     ]
    }
   ],
   "source": [
    "!python Experiment.py --dataset tp --interaction Pure_Mf --rounds 1 --slice_epochs 20 --agg_epochs 10 --density 0.30 --slices 10 --part_type 2 --save_model 0 --processed 1"
   ],
   "metadata": {
    "collapsed": false
   }
  },
  {
   "cell_type": "markdown",
   "source": [
    "*****"
   ],
   "metadata": {
    "collapsed": false
   }
  },
  {
   "cell_type": "markdown",
   "source": [
    "# Density : 0.10"
   ],
   "metadata": {
    "collapsed": false
   }
  },
  {
   "cell_type": "markdown",
   "source": [
    "### SISA"
   ],
   "metadata": {
    "collapsed": false
   }
  },
  {
   "cell_type": "code",
   "execution_count": 81,
   "outputs": [
    {
     "name": "stdout",
     "output_type": "stream",
     "text": [
      "2022-11-27 12:14:59  Namespace(agg_epochs=10, agg_type='softmax', batch_size=128, dataset='rt', density=0.1, devices='gpu', dimension=64, dropout=0.1, interaction='NeuCF', node2vec=0, node2vec_batchsize=32, node2vec_dim=128, node2vec_epochs=1000, node2vec_length=10, node2vec_walk=50, num_layers=2, order=2, part_iter=100, part_type=3, path='./datasets/data/WSDREAM/', processed=1, retrain=0, rounds=1, save_model=1, slice_epochs=25, slices=10, verbose=0)\r\n",
      "2022-11-27 12:14:59  All the experiments have been done!\r\n",
      "2022-11-27 12:14:59  Dataset : rt     interaction : NeuCF\r\n",
      "2022-11-27 12:14:59  Density : 10.00%, slice_epochs : 25, agg_epochs : 10\r\n",
      "2022-11-27 12:14:59  Part_type : 3,    slices : 10,       devices : gpu\r\n",
      "2022-11-27 12:14:59  Dataset : rt     interaction : NeuCF\r\n",
      "2022-11-27 12:14:59  Density : 10.00%, slice_epochs : 25, agg_epochs : 10\r\n",
      "2022-11-27 12:14:59  Part_type : 3,    slices : 10,       devices : gpu\r\n",
      "\r\n",
      "2022-11-27 12:14:59  Density 10.00% : MAE = 0.547, RMSE = 1.549, NMAE = 0.602, MRE = 0.503, NPRE = 2.318\r\n",
      "\r\n",
      "2022-11-27 12:14:59  Experiment success!\r\n"
     ]
    }
   ],
   "source": [
    "!python Experiment.py --dataset rt --interaction NeuCF --rounds 1 --slice_epochs 25 --agg_epochs 10 --density 0.10 --slices 10 --part_type 3 --processed 1"
   ],
   "metadata": {
    "collapsed": false
   }
  },
  {
   "cell_type": "code",
   "execution_count": 82,
   "outputs": [
    {
     "name": "stdout",
     "output_type": "stream",
     "text": [
      "2022-11-27 12:15:00  Namespace(agg_epochs=10, agg_type='softmax', batch_size=128, dataset='tp', density=0.1, devices='gpu', dimension=64, dropout=0.1, interaction='NeuCF', node2vec=0, node2vec_batchsize=32, node2vec_dim=128, node2vec_epochs=1000, node2vec_length=10, node2vec_walk=50, num_layers=2, order=2, part_iter=100, part_type=3, path='./datasets/data/WSDREAM/', processed=1, retrain=0, rounds=1, save_model=1, slice_epochs=25, slices=10, verbose=0)\r\n",
      "2022-11-27 12:15:00  All the experiments have been done!\r\n",
      "2022-11-27 12:15:00  Dataset : tp     interaction : NeuCF\r\n",
      "2022-11-27 12:15:00  Density : 10.00%, slice_epochs : 25, agg_epochs : 10\r\n",
      "2022-11-27 12:15:00  Part_type : 3,    slices : 10,       devices : gpu\r\n",
      "2022-11-27 12:15:00  Dataset : tp     interaction : NeuCF\r\n",
      "2022-11-27 12:15:00  Density : 10.00%, slice_epochs : 25, agg_epochs : 10\r\n",
      "2022-11-27 12:15:00  Part_type : 3,    slices : 10,       devices : gpu\r\n",
      "\r\n",
      "2022-11-27 12:15:00  Density 10.00% : MAE = 27.439, RMSE = 75.374, NMAE = 0.580, MRE = 0.566, NPRE = 2.963\r\n",
      "\r\n",
      "2022-11-27 12:15:00  Experiment success!\r\n"
     ]
    }
   ],
   "source": [
    "!python Experiment.py --dataset tp --interaction NeuCF --rounds 1 --slice_epochs 25 --agg_epochs 10 --density 0.10 --slices 10 --part_type 3 --processed 1"
   ],
   "metadata": {
    "collapsed": false
   }
  },
  {
   "cell_type": "code",
   "execution_count": 83,
   "outputs": [
    {
     "name": "stdout",
     "output_type": "stream",
     "text": [
      "2022-11-27 12:15:01  Namespace(agg_epochs=15, agg_type='softmax', batch_size=128, dataset='rt', density=0.1, devices='gpu', dimension=64, dropout=0.1, interaction='CSMF', node2vec=0, node2vec_batchsize=32, node2vec_dim=128, node2vec_epochs=1000, node2vec_length=10, node2vec_walk=50, num_layers=2, order=2, part_iter=100, part_type=3, path='./datasets/data/WSDREAM/', processed=1, retrain=0, rounds=1, save_model=1, slice_epochs=20, slices=10, verbose=0)\r\n",
      "2022-11-27 12:15:01  All the experiments have been done!\r\n",
      "2022-11-27 12:15:01  Dataset : rt     interaction : CSMF\r\n",
      "2022-11-27 12:15:01  Density : 10.00%, slice_epochs : 20, agg_epochs : 15\r\n",
      "2022-11-27 12:15:01  Part_type : 3,    slices : 10,       devices : gpu\r\n",
      "2022-11-27 12:15:01  Dataset : rt     interaction : CSMF\r\n",
      "2022-11-27 12:15:01  Density : 10.00%, slice_epochs : 20, agg_epochs : 15\r\n",
      "2022-11-27 12:15:01  Part_type : 3,    slices : 10,       devices : gpu\r\n",
      "\r\n",
      "2022-11-27 12:15:01  Density 10.00% : MAE = 0.683, RMSE = 1.941, NMAE = 0.750, MRE = 0.557, NPRE = 2.430\r\n",
      "\r\n",
      "2022-11-27 12:15:01  Experiment success!\r\n"
     ]
    }
   ],
   "source": [
    "!python Experiment.py --dataset rt --interaction CSMF --rounds 1 --slice_epochs 20 --agg_epochs 15 --density 0.10 --slices 10 --part_type 3 --processed 1"
   ],
   "metadata": {
    "collapsed": false
   }
  },
  {
   "cell_type": "code",
   "execution_count": 84,
   "outputs": [
    {
     "name": "stdout",
     "output_type": "stream",
     "text": [
      "2022-11-27 12:15:02  Namespace(agg_epochs=15, agg_type='softmax', batch_size=128, dataset='tp', density=0.1, devices='gpu', dimension=64, dropout=0.1, interaction='CSMF', node2vec=0, node2vec_batchsize=32, node2vec_dim=128, node2vec_epochs=1000, node2vec_length=10, node2vec_walk=50, num_layers=2, order=2, part_iter=100, part_type=3, path='./datasets/data/WSDREAM/', processed=1, retrain=0, rounds=1, save_model=1, slice_epochs=25, slices=10, verbose=0)\r\n",
      "2022-11-27 12:15:02  All the experiments have been done!\r\n",
      "2022-11-27 12:15:02  Dataset : tp     interaction : CSMF\r\n",
      "2022-11-27 12:15:02  Density : 10.00%, slice_epochs : 25, agg_epochs : 15\r\n",
      "2022-11-27 12:15:02  Part_type : 3,    slices : 10,       devices : gpu\r\n",
      "2022-11-27 12:15:02  Dataset : tp     interaction : CSMF\r\n",
      "2022-11-27 12:15:02  Density : 10.00%, slice_epochs : 25, agg_epochs : 15\r\n",
      "2022-11-27 12:15:02  Part_type : 3,    slices : 10,       devices : gpu\r\n",
      "\r\n",
      "2022-11-27 12:15:02  Density 10.00% : MAE = 31.951, RMSE = 83.445, NMAE = 0.675, MRE = 0.680, NPRE = 4.038\r\n",
      "\r\n",
      "2022-11-27 12:15:02  Experiment success!\r\n"
     ]
    }
   ],
   "source": [
    "!python Experiment.py --dataset tp --interaction CSMF --rounds 1 --slice_epochs 25 --agg_epochs 15 --density 0.10 --slices 10 --part_type 3 --processed 1"
   ],
   "metadata": {
    "collapsed": false
   }
  },
  {
   "cell_type": "code",
   "execution_count": 85,
   "outputs": [],
   "source": [
    "# !python Experiment.py --dataset rt --interaction NeuGraphMF --rounds 1 --slice_epochs 20 --agg_epochs 10 --density 0.10 --slices 10 --part_type 3 --processed 1"
   ],
   "metadata": {
    "collapsed": false
   }
  },
  {
   "cell_type": "code",
   "execution_count": 86,
   "outputs": [],
   "source": [
    "# !python Experiment.py --dataset tp --interaction NeuGraphMF --rounds 1 --slice_epochs 20 --agg_epochs 10 --density 0.10 --slices 10 --part_type 3 --processed 1"
   ],
   "metadata": {
    "collapsed": false
   }
  },
  {
   "cell_type": "code",
   "execution_count": 87,
   "outputs": [
    {
     "name": "stdout",
     "output_type": "stream",
     "text": [
      "2022-11-27 12:15:02  Namespace(agg_epochs=10, agg_type='softmax', batch_size=128, dataset='rt', density=0.1, devices='gpu', dimension=64, dropout=0.1, interaction='Pure_Mf', node2vec=0, node2vec_batchsize=32, node2vec_dim=128, node2vec_epochs=1000, node2vec_length=10, node2vec_walk=50, num_layers=2, order=2, part_iter=100, part_type=3, path='./datasets/data/WSDREAM/', processed=1, retrain=0, rounds=1, save_model=1, slice_epochs=25, slices=10, verbose=0)\r\n",
      "2022-11-27 12:15:02  All the experiments have been done!\r\n",
      "2022-11-27 12:15:02  Dataset : rt     interaction : Pure_Mf\r\n",
      "2022-11-27 12:15:02  Density : 10.00%, slice_epochs : 25, agg_epochs : 10\r\n",
      "2022-11-27 12:15:02  Part_type : 3,    slices : 10,       devices : gpu\r\n",
      "2022-11-27 12:15:02  Dataset : rt     interaction : Pure_Mf\r\n",
      "2022-11-27 12:15:02  Density : 10.00%, slice_epochs : 25, agg_epochs : 10\r\n",
      "2022-11-27 12:15:02  Part_type : 3,    slices : 10,       devices : gpu\r\n",
      "\r\n",
      "2022-11-27 12:15:02  Density 10.00% : MAE = 0.756, RMSE = 2.064, NMAE = 0.830, MRE = 0.664, NPRE = 3.159\r\n",
      "\r\n",
      "2022-11-27 12:15:02  Experiment success!\r\n"
     ]
    }
   ],
   "source": [
    "!python Experiment.py --dataset rt --interaction Pure_Mf --rounds 1 --slice_epochs 25 --agg_epochs 10 --density 0.10 --slices 10 --part_type 3 --processed 1"
   ],
   "metadata": {
    "collapsed": false
   }
  },
  {
   "cell_type": "code",
   "execution_count": 88,
   "outputs": [
    {
     "name": "stdout",
     "output_type": "stream",
     "text": [
      "2022-11-27 12:15:03  Namespace(agg_epochs=10, agg_type='softmax', batch_size=128, dataset='tp', density=0.1, devices='gpu', dimension=64, dropout=0.1, interaction='Pure_Mf', node2vec=0, node2vec_batchsize=32, node2vec_dim=128, node2vec_epochs=1000, node2vec_length=10, node2vec_walk=50, num_layers=2, order=2, part_iter=100, part_type=3, path='./datasets/data/WSDREAM/', processed=1, retrain=0, rounds=1, save_model=1, slice_epochs=25, slices=10, verbose=0)\r\n",
      "2022-11-27 12:15:03  All the experiments have been done!\r\n",
      "2022-11-27 12:15:03  Dataset : tp     interaction : Pure_Mf\r\n",
      "2022-11-27 12:15:03  Density : 10.00%, slice_epochs : 25, agg_epochs : 10\r\n",
      "2022-11-27 12:15:03  Part_type : 3,    slices : 10,       devices : gpu\r\n",
      "2022-11-27 12:15:03  Dataset : tp     interaction : Pure_Mf\r\n",
      "2022-11-27 12:15:03  Density : 10.00%, slice_epochs : 25, agg_epochs : 10\r\n",
      "2022-11-27 12:15:03  Part_type : 3,    slices : 10,       devices : gpu\r\n",
      "\r\n",
      "2022-11-27 12:15:03  Density 10.00% : MAE = 41.581, RMSE = 115.515, NMAE = 0.877, MRE = 0.787, NPRE = 5.530\r\n",
      "\r\n",
      "2022-11-27 12:15:03  Experiment success!\r\n"
     ]
    }
   ],
   "source": [
    "!python Experiment.py --dataset tp --interaction Pure_Mf --rounds 1 --slice_epochs 25 --agg_epochs 10 --density 0.10 --slices 10 --part_type 3 --processed 1"
   ],
   "metadata": {
    "collapsed": false
   }
  },
  {
   "cell_type": "markdown",
   "source": [
    "*****"
   ],
   "metadata": {
    "collapsed": false
   }
  },
  {
   "cell_type": "markdown",
   "source": [
    "## Density : 0.15"
   ],
   "metadata": {
    "collapsed": false
   }
  },
  {
   "cell_type": "markdown",
   "source": [
    "### SISA"
   ],
   "metadata": {
    "collapsed": false
   }
  },
  {
   "cell_type": "code",
   "execution_count": 89,
   "outputs": [
    {
     "name": "stdout",
     "output_type": "stream",
     "text": [
      "2022-11-27 12:15:04  Namespace(agg_epochs=10, agg_type='softmax', batch_size=128, dataset='rt', density=0.15, devices='gpu', dimension=64, dropout=0.1, interaction='NeuCF', node2vec=0, node2vec_batchsize=32, node2vec_dim=128, node2vec_epochs=1000, node2vec_length=10, node2vec_walk=50, num_layers=2, order=2, part_iter=100, part_type=3, path='./datasets/data/WSDREAM/', processed=1, retrain=0, rounds=1, save_model=1, slice_epochs=25, slices=10, verbose=0)\r\n",
      "2022-11-27 12:15:04  All the experiments have been done!\r\n",
      "2022-11-27 12:15:04  Dataset : rt     interaction : NeuCF\r\n",
      "2022-11-27 12:15:04  Density : 15.00%, slice_epochs : 25, agg_epochs : 10\r\n",
      "2022-11-27 12:15:04  Part_type : 3,    slices : 10,       devices : gpu\r\n",
      "2022-11-27 12:15:04  Dataset : rt     interaction : NeuCF\r\n",
      "2022-11-27 12:15:04  Density : 15.00%, slice_epochs : 25, agg_epochs : 10\r\n",
      "2022-11-27 12:15:04  Part_type : 3,    slices : 10,       devices : gpu\r\n",
      "\r\n",
      "2022-11-27 12:15:04  Density 15.00% : MAE = 0.532, RMSE = 1.522, NMAE = 0.584, MRE = 0.499, NPRE = 2.901\r\n",
      "\r\n",
      "2022-11-27 12:15:04  Experiment success!\r\n"
     ]
    }
   ],
   "source": [
    "!python Experiment.py --dataset rt --interaction NeuCF --rounds 1 --slice_epochs 25 --agg_epochs 10 --density 0.15 --slices 10 --part_type 3 --processed 1"
   ],
   "metadata": {
    "collapsed": false
   }
  },
  {
   "cell_type": "code",
   "execution_count": 90,
   "outputs": [
    {
     "name": "stdout",
     "output_type": "stream",
     "text": [
      "2022-11-27 12:15:05  Namespace(agg_epochs=10, agg_type='softmax', batch_size=128, dataset='tp', density=0.15, devices='gpu', dimension=64, dropout=0.1, interaction='NeuCF', node2vec=0, node2vec_batchsize=32, node2vec_dim=128, node2vec_epochs=1000, node2vec_length=10, node2vec_walk=50, num_layers=2, order=2, part_iter=100, part_type=3, path='./datasets/data/WSDREAM/', processed=1, retrain=0, rounds=1, save_model=1, slice_epochs=25, slices=10, verbose=0)\r\n",
      "2022-11-27 12:15:05  All the experiments have been done!\r\n",
      "2022-11-27 12:15:05  Dataset : tp     interaction : NeuCF\r\n",
      "2022-11-27 12:15:05  Density : 15.00%, slice_epochs : 25, agg_epochs : 10\r\n",
      "2022-11-27 12:15:05  Part_type : 3,    slices : 10,       devices : gpu\r\n",
      "2022-11-27 12:15:05  Dataset : tp     interaction : NeuCF\r\n",
      "2022-11-27 12:15:05  Density : 15.00%, slice_epochs : 25, agg_epochs : 10\r\n",
      "2022-11-27 12:15:05  Part_type : 3,    slices : 10,       devices : gpu\r\n",
      "\r\n",
      "2022-11-27 12:15:05  Density 15.00% : MAE = 25.707, RMSE = 69.824, NMAE = 0.543, MRE = 0.556, NPRE = 2.382\r\n",
      "\r\n",
      "2022-11-27 12:15:05  Experiment success!\r\n"
     ]
    }
   ],
   "source": [
    "!python Experiment.py --dataset tp --interaction NeuCF --rounds 1 --slice_epochs 25 --agg_epochs 10 --density 0.15 --slices 10 --part_type 3 --processed 1"
   ],
   "metadata": {
    "collapsed": false
   }
  },
  {
   "cell_type": "code",
   "execution_count": 91,
   "outputs": [
    {
     "name": "stdout",
     "output_type": "stream",
     "text": [
      "2022-11-27 12:15:06  Namespace(agg_epochs=15, agg_type='softmax', batch_size=128, dataset='rt', density=0.15, devices='gpu', dimension=64, dropout=0.1, interaction='CSMF', node2vec=0, node2vec_batchsize=32, node2vec_dim=128, node2vec_epochs=1000, node2vec_length=10, node2vec_walk=50, num_layers=2, order=2, part_iter=100, part_type=3, path='./datasets/data/WSDREAM/', processed=1, retrain=0, rounds=1, save_model=1, slice_epochs=25, slices=10, verbose=0)\r\n",
      "2022-11-27 12:15:06  All the experiments have been done!\r\n",
      "2022-11-27 12:15:06  Dataset : rt     interaction : CSMF\r\n",
      "2022-11-27 12:15:06  Density : 15.00%, slice_epochs : 25, agg_epochs : 15\r\n",
      "2022-11-27 12:15:06  Part_type : 3,    slices : 10,       devices : gpu\r\n",
      "2022-11-27 12:15:06  Dataset : rt     interaction : CSMF\r\n",
      "2022-11-27 12:15:06  Density : 15.00%, slice_epochs : 25, agg_epochs : 15\r\n",
      "2022-11-27 12:15:06  Part_type : 3,    slices : 10,       devices : gpu\r\n",
      "\r\n",
      "2022-11-27 12:15:06  Density 15.00% : MAE = 0.670, RMSE = 1.921, NMAE = 0.737, MRE = 0.532, NPRE = 2.181\r\n",
      "\r\n",
      "2022-11-27 12:15:06  Experiment success!\r\n"
     ]
    }
   ],
   "source": [
    "!python Experiment.py --dataset rt --interaction CSMF --rounds 1 --slice_epochs 25 --agg_epochs 15 --density 0.15 --slices 10 --part_type 3 --processed 1"
   ],
   "metadata": {
    "collapsed": false
   }
  },
  {
   "cell_type": "code",
   "execution_count": 92,
   "outputs": [
    {
     "name": "stdout",
     "output_type": "stream",
     "text": [
      "2022-11-27 12:15:07  Namespace(agg_epochs=15, agg_type='softmax', batch_size=128, dataset='tp', density=0.15, devices='gpu', dimension=64, dropout=0.1, interaction='CSMF', node2vec=0, node2vec_batchsize=32, node2vec_dim=128, node2vec_epochs=1000, node2vec_length=10, node2vec_walk=50, num_layers=2, order=2, part_iter=100, part_type=3, path='./datasets/data/WSDREAM/', processed=1, retrain=0, rounds=1, save_model=1, slice_epochs=25, slices=10, verbose=0)\r\n",
      "2022-11-27 12:15:07  All the experiments have been done!\r\n",
      "2022-11-27 12:15:07  Dataset : tp     interaction : CSMF\r\n",
      "2022-11-27 12:15:07  Density : 15.00%, slice_epochs : 25, agg_epochs : 15\r\n",
      "2022-11-27 12:15:07  Part_type : 3,    slices : 10,       devices : gpu\r\n",
      "2022-11-27 12:15:07  Dataset : tp     interaction : CSMF\r\n",
      "2022-11-27 12:15:07  Density : 15.00%, slice_epochs : 25, agg_epochs : 15\r\n",
      "2022-11-27 12:15:07  Part_type : 3,    slices : 10,       devices : gpu\r\n",
      "\r\n",
      "2022-11-27 12:15:07  Density 15.00% : MAE = 29.451, RMSE = 80.926, NMAE = 0.622, MRE = 0.590, NPRE = 3.136\r\n",
      "\r\n",
      "2022-11-27 12:15:07  Experiment success!\r\n"
     ]
    }
   ],
   "source": [
    "!python Experiment.py --dataset tp --interaction CSMF --rounds 1 --slice_epochs 25 --agg_epochs 15 --density 0.15 --slices 10 --part_type 3 --processed 1"
   ],
   "metadata": {
    "collapsed": false
   }
  },
  {
   "cell_type": "code",
   "execution_count": 93,
   "outputs": [],
   "source": [
    "# !python Experiment.py --dataset rt --interaction NeuGraphMF --rounds 1 --slice_epochs 20 --agg_epochs 10 --density 0.15 --slices 10 --part_type 3 --processed 1"
   ],
   "metadata": {
    "collapsed": false
   }
  },
  {
   "cell_type": "code",
   "execution_count": 94,
   "outputs": [],
   "source": [
    "# !python Experiment.py --dataset tp --interaction NeuGraphMF --rounds 1 --slice_epochs 20 --agg_epochs 10 --density 0.15 --slices 10 --part_type 3 --processed 1"
   ],
   "metadata": {
    "collapsed": false
   }
  },
  {
   "cell_type": "code",
   "execution_count": 95,
   "outputs": [
    {
     "name": "stdout",
     "output_type": "stream",
     "text": [
      "2022-11-27 12:15:08  Namespace(agg_epochs=10, agg_type='softmax', batch_size=128, dataset='rt', density=0.15, devices='gpu', dimension=64, dropout=0.1, interaction='Pure_Mf', node2vec=0, node2vec_batchsize=32, node2vec_dim=128, node2vec_epochs=1000, node2vec_length=10, node2vec_walk=50, num_layers=2, order=2, part_iter=100, part_type=3, path='./datasets/data/WSDREAM/', processed=1, retrain=0, rounds=1, save_model=1, slice_epochs=25, slices=10, verbose=0)\r\n",
      "2022-11-27 12:15:08  All the experiments have been done!\r\n",
      "2022-11-27 12:15:08  Dataset : rt     interaction : Pure_Mf\r\n",
      "2022-11-27 12:15:08  Density : 15.00%, slice_epochs : 25, agg_epochs : 10\r\n",
      "2022-11-27 12:15:08  Part_type : 3,    slices : 10,       devices : gpu\r\n",
      "2022-11-27 12:15:08  Dataset : rt     interaction : Pure_Mf\r\n",
      "2022-11-27 12:15:08  Density : 15.00%, slice_epochs : 25, agg_epochs : 10\r\n",
      "2022-11-27 12:15:08  Part_type : 3,    slices : 10,       devices : gpu\r\n",
      "\r\n",
      "2022-11-27 12:15:08  Density 15.00% : MAE = 0.756, RMSE = 2.054, NMAE = 0.830, MRE = 0.688, NPRE = 3.630\r\n",
      "\r\n",
      "2022-11-27 12:15:08  Experiment success!\r\n"
     ]
    }
   ],
   "source": [
    "!python Experiment.py --dataset rt --interaction Pure_Mf --rounds 1 --slice_epochs 25 --agg_epochs 10 --density 0.15 --slices 10 --part_type 3 --processed 1"
   ],
   "metadata": {
    "collapsed": false
   }
  },
  {
   "cell_type": "code",
   "execution_count": 96,
   "outputs": [
    {
     "name": "stdout",
     "output_type": "stream",
     "text": [
      "2022-11-27 12:15:08  Namespace(agg_epochs=10, agg_type='softmax', batch_size=128, dataset='tp', density=0.15, devices='gpu', dimension=64, dropout=0.1, interaction='Pure_Mf', node2vec=0, node2vec_batchsize=32, node2vec_dim=128, node2vec_epochs=1000, node2vec_length=10, node2vec_walk=50, num_layers=2, order=2, part_iter=100, part_type=3, path='./datasets/data/WSDREAM/', processed=1, retrain=0, rounds=1, save_model=1, slice_epochs=25, slices=10, verbose=0)\r\n",
      "2022-11-27 12:15:08  All the experiments have been done!\r\n",
      "2022-11-27 12:15:08  Dataset : tp     interaction : Pure_Mf\r\n",
      "2022-11-27 12:15:08  Density : 15.00%, slice_epochs : 25, agg_epochs : 10\r\n",
      "2022-11-27 12:15:08  Part_type : 3,    slices : 10,       devices : gpu\r\n",
      "2022-11-27 12:15:08  Dataset : tp     interaction : Pure_Mf\r\n",
      "2022-11-27 12:15:08  Density : 15.00%, slice_epochs : 25, agg_epochs : 10\r\n",
      "2022-11-27 12:15:08  Part_type : 3,    slices : 10,       devices : gpu\r\n",
      "\r\n",
      "2022-11-27 12:15:08  Density 15.00% : MAE = 41.576, RMSE = 115.220, NMAE = 0.878, MRE = 0.792, NPRE = 5.690\r\n",
      "\r\n",
      "2022-11-27 12:15:08  Experiment success!\r\n"
     ]
    }
   ],
   "source": [
    "!python Experiment.py --dataset tp --interaction Pure_Mf --rounds 1 --slice_epochs 25 --agg_epochs 10 --density 0.15 --slices 10 --part_type 3 --processed 1"
   ],
   "metadata": {
    "collapsed": false
   }
  },
  {
   "cell_type": "markdown",
   "source": [
    "*****"
   ],
   "metadata": {
    "collapsed": false
   }
  },
  {
   "cell_type": "markdown",
   "source": [
    "## Density : 0.20"
   ],
   "metadata": {
    "collapsed": false
   }
  },
  {
   "cell_type": "markdown",
   "source": [
    "### SISA"
   ],
   "metadata": {
    "collapsed": false
   }
  },
  {
   "cell_type": "code",
   "execution_count": 97,
   "outputs": [
    {
     "name": "stdout",
     "output_type": "stream",
     "text": [
      "2022-11-27 12:15:09  Namespace(agg_epochs=10, agg_type='softmax', batch_size=128, dataset='rt', density=0.2, devices='gpu', dimension=64, dropout=0.1, interaction='NeuCF', node2vec=0, node2vec_batchsize=32, node2vec_dim=128, node2vec_epochs=1000, node2vec_length=10, node2vec_walk=50, num_layers=2, order=2, part_iter=100, part_type=3, path='./datasets/data/WSDREAM/', processed=1, retrain=0, rounds=1, save_model=1, slice_epochs=25, slices=10, verbose=0)\r\n",
      "2022-11-27 12:15:09  All the experiments have been done!\r\n",
      "2022-11-27 12:15:09  Dataset : rt     interaction : NeuCF\r\n",
      "2022-11-27 12:15:09  Density : 20.00%, slice_epochs : 25, agg_epochs : 10\r\n",
      "2022-11-27 12:15:09  Part_type : 3,    slices : 10,       devices : gpu\r\n",
      "2022-11-27 12:15:09  Dataset : rt     interaction : NeuCF\r\n",
      "2022-11-27 12:15:09  Density : 20.00%, slice_epochs : 25, agg_epochs : 10\r\n",
      "2022-11-27 12:15:09  Part_type : 3,    slices : 10,       devices : gpu\r\n",
      "\r\n",
      "2022-11-27 12:15:09  Density 20.00% : MAE = 0.502, RMSE = 1.489, NMAE = 0.553, MRE = 0.467, NPRE = 2.235\r\n",
      "\r\n",
      "2022-11-27 12:15:09  Experiment success!\r\n"
     ]
    }
   ],
   "source": [
    "!python Experiment.py --dataset rt --interaction NeuCF --rounds 1 --slice_epochs 25 --agg_epochs 10 --density 0.20 --slices 10 --part_type 3 --processed 1"
   ],
   "metadata": {
    "collapsed": false
   }
  },
  {
   "cell_type": "code",
   "execution_count": 98,
   "outputs": [
    {
     "name": "stdout",
     "output_type": "stream",
     "text": [
      "2022-11-27 12:15:10  Namespace(agg_epochs=10, agg_type='softmax', batch_size=128, dataset='tp', density=0.2, devices='gpu', dimension=64, dropout=0.1, interaction='NeuCF', node2vec=0, node2vec_batchsize=32, node2vec_dim=128, node2vec_epochs=1000, node2vec_length=10, node2vec_walk=50, num_layers=2, order=2, part_iter=100, part_type=3, path='./datasets/data/WSDREAM/', processed=1, retrain=0, rounds=1, save_model=1, slice_epochs=25, slices=10, verbose=0)\r\n",
      "2022-11-27 12:15:10  All the experiments have been done!\r\n",
      "2022-11-27 12:15:10  Dataset : tp     interaction : NeuCF\r\n",
      "2022-11-27 12:15:10  Density : 20.00%, slice_epochs : 25, agg_epochs : 10\r\n",
      "2022-11-27 12:15:10  Part_type : 3,    slices : 10,       devices : gpu\r\n",
      "2022-11-27 12:15:10  Dataset : tp     interaction : NeuCF\r\n",
      "2022-11-27 12:15:10  Density : 20.00%, slice_epochs : 25, agg_epochs : 10\r\n",
      "2022-11-27 12:15:10  Part_type : 3,    slices : 10,       devices : gpu\r\n",
      "\r\n",
      "2022-11-27 12:15:10  Density 20.00% : MAE = 24.438, RMSE = 67.122, NMAE = 0.516, MRE = 0.514, NPRE = 2.849\r\n",
      "\r\n",
      "2022-11-27 12:15:10  Experiment success!\r\n"
     ]
    }
   ],
   "source": [
    "!python Experiment.py --dataset tp --interaction NeuCF --rounds 1 --slice_epochs 25 --agg_epochs 10 --density 0.20 --slices 10 --part_type 3 --processed 1"
   ],
   "metadata": {
    "collapsed": false
   }
  },
  {
   "cell_type": "code",
   "execution_count": 99,
   "outputs": [
    {
     "name": "stdout",
     "output_type": "stream",
     "text": [
      "2022-11-27 12:15:11  Namespace(agg_epochs=15, agg_type='softmax', batch_size=128, dataset='rt', density=0.2, devices='gpu', dimension=64, dropout=0.1, interaction='CSMF', node2vec=0, node2vec_batchsize=32, node2vec_dim=128, node2vec_epochs=1000, node2vec_length=10, node2vec_walk=50, num_layers=2, order=2, part_iter=100, part_type=3, path='./datasets/data/WSDREAM/', processed=1, retrain=0, rounds=1, save_model=1, slice_epochs=25, slices=10, verbose=0)\r\n",
      "2022-11-27 12:15:11  All the experiments have been done!\r\n",
      "2022-11-27 12:15:11  Dataset : rt     interaction : CSMF\r\n",
      "2022-11-27 12:15:11  Density : 20.00%, slice_epochs : 25, agg_epochs : 15\r\n",
      "2022-11-27 12:15:11  Part_type : 3,    slices : 10,       devices : gpu\r\n",
      "2022-11-27 12:15:11  Dataset : rt     interaction : CSMF\r\n",
      "2022-11-27 12:15:11  Density : 20.00%, slice_epochs : 25, agg_epochs : 15\r\n",
      "2022-11-27 12:15:11  Part_type : 3,    slices : 10,       devices : gpu\r\n",
      "\r\n",
      "2022-11-27 12:15:11  Density 20.00% : MAE = 0.649, RMSE = 1.879, NMAE = 0.714, MRE = 0.532, NPRE = 2.281\r\n",
      "\r\n",
      "2022-11-27 12:15:11  Experiment success!\r\n"
     ]
    }
   ],
   "source": [
    "!python Experiment.py --dataset rt --interaction CSMF --rounds 1 --slice_epochs 25 --agg_epochs 15 --density 0.20 --slices 10 --part_type 3 --processed 1"
   ],
   "metadata": {
    "collapsed": false
   }
  },
  {
   "cell_type": "code",
   "execution_count": 100,
   "outputs": [
    {
     "name": "stdout",
     "output_type": "stream",
     "text": [
      "2022-11-27 12:15:12  Namespace(agg_epochs=15, agg_type='softmax', batch_size=128, dataset='tp', density=0.2, devices='gpu', dimension=64, dropout=0.1, interaction='CSMF', node2vec=0, node2vec_batchsize=32, node2vec_dim=128, node2vec_epochs=1000, node2vec_length=10, node2vec_walk=50, num_layers=2, order=2, part_iter=100, part_type=3, path='./datasets/data/WSDREAM/', processed=1, retrain=0, rounds=1, save_model=1, slice_epochs=25, slices=10, verbose=0)\r\n",
      "2022-11-27 12:15:12  All the experiments have been done!\r\n",
      "2022-11-27 12:15:12  Dataset : tp     interaction : CSMF\r\n",
      "2022-11-27 12:15:12  Density : 20.00%, slice_epochs : 25, agg_epochs : 15\r\n",
      "2022-11-27 12:15:12  Part_type : 3,    slices : 10,       devices : gpu\r\n",
      "2022-11-27 12:15:12  Dataset : tp     interaction : CSMF\r\n",
      "2022-11-27 12:15:12  Density : 20.00%, slice_epochs : 25, agg_epochs : 15\r\n",
      "2022-11-27 12:15:12  Part_type : 3,    slices : 10,       devices : gpu\r\n",
      "\r\n",
      "2022-11-27 12:15:12  Density 20.00% : MAE = 28.011, RMSE = 78.148, NMAE = 0.591, MRE = 0.551, NPRE = 2.838\r\n",
      "\r\n",
      "2022-11-27 12:15:12  Experiment success!\r\n"
     ]
    }
   ],
   "source": [
    "!python Experiment.py --dataset tp --interaction CSMF --rounds 1 --slice_epochs 25 --agg_epochs 15 --density 0.20 --slices 10 --part_type 3 --processed 1"
   ],
   "metadata": {
    "collapsed": false
   }
  },
  {
   "cell_type": "code",
   "execution_count": 101,
   "outputs": [],
   "source": [
    "# !python Experiment.py --dataset rt --interaction NeuGraphMF --rounds 1 --slice_epochs 20 --agg_epochs 10 --density 0.20 --slices 10 --part_type 3 --processed 1"
   ],
   "metadata": {
    "collapsed": false
   }
  },
  {
   "cell_type": "code",
   "execution_count": 102,
   "outputs": [],
   "source": [
    "# !python Experiment.py --dataset tp --interaction NeuGraphMF --rounds 1 --slice_epochs 20 --agg_epochs 10 --density 0.20 --slices 10 --part_type 3 --processed 1"
   ],
   "metadata": {
    "collapsed": false
   }
  },
  {
   "cell_type": "code",
   "execution_count": 103,
   "outputs": [
    {
     "name": "stdout",
     "output_type": "stream",
     "text": [
      "2022-11-27 12:15:13  Namespace(agg_epochs=10, agg_type='softmax', batch_size=128, dataset='rt', density=0.2, devices='gpu', dimension=64, dropout=0.1, interaction='Pure_Mf', node2vec=0, node2vec_batchsize=32, node2vec_dim=128, node2vec_epochs=1000, node2vec_length=10, node2vec_walk=50, num_layers=2, order=2, part_iter=100, part_type=3, path='./datasets/data/WSDREAM/', processed=1, retrain=0, rounds=1, save_model=1, slice_epochs=25, slices=10, verbose=0)\r\n",
      "2022-11-27 12:15:13  All the experiments have been done!\r\n",
      "2022-11-27 12:15:13  Dataset : rt     interaction : Pure_Mf\r\n",
      "2022-11-27 12:15:13  Density : 20.00%, slice_epochs : 25, agg_epochs : 10\r\n",
      "2022-11-27 12:15:13  Part_type : 3,    slices : 10,       devices : gpu\r\n",
      "2022-11-27 12:15:13  Dataset : rt     interaction : Pure_Mf\r\n",
      "2022-11-27 12:15:13  Density : 20.00%, slice_epochs : 25, agg_epochs : 10\r\n",
      "2022-11-27 12:15:13  Part_type : 3,    slices : 10,       devices : gpu\r\n",
      "\r\n",
      "2022-11-27 12:15:13  Density 20.00% : MAE = 0.729, RMSE = 1.967, NMAE = 0.802, MRE = 0.661, NPRE = 3.129\r\n",
      "\r\n",
      "2022-11-27 12:15:13  Experiment success!\r\n"
     ]
    }
   ],
   "source": [
    "!python Experiment.py --dataset rt --interaction Pure_Mf --rounds 1 --slice_epochs 25 --agg_epochs 10 --density 0.20 --slices 10 --part_type 3 --processed 1"
   ],
   "metadata": {
    "collapsed": false
   }
  },
  {
   "cell_type": "code",
   "execution_count": 104,
   "outputs": [
    {
     "name": "stdout",
     "output_type": "stream",
     "text": [
      "2022-11-27 12:15:14  Namespace(agg_epochs=10, agg_type='softmax', batch_size=128, dataset='tp', density=0.2, devices='gpu', dimension=64, dropout=0.1, interaction='Pure_Mf', node2vec=0, node2vec_batchsize=32, node2vec_dim=128, node2vec_epochs=1000, node2vec_length=10, node2vec_walk=50, num_layers=2, order=2, part_iter=100, part_type=3, path='./datasets/data/WSDREAM/', processed=1, retrain=0, rounds=1, save_model=1, slice_epochs=25, slices=10, verbose=0)\r\n",
      "2022-11-27 12:15:14  All the experiments have been done!\r\n",
      "2022-11-27 12:15:14  Dataset : tp     interaction : Pure_Mf\r\n",
      "2022-11-27 12:15:14  Density : 20.00%, slice_epochs : 25, agg_epochs : 10\r\n",
      "2022-11-27 12:15:14  Part_type : 3,    slices : 10,       devices : gpu\r\n",
      "2022-11-27 12:15:14  Dataset : tp     interaction : Pure_Mf\r\n",
      "2022-11-27 12:15:14  Density : 20.00%, slice_epochs : 25, agg_epochs : 10\r\n",
      "2022-11-27 12:15:14  Part_type : 3,    slices : 10,       devices : gpu\r\n",
      "\r\n",
      "2022-11-27 12:15:14  Density 20.00% : MAE = 41.637, RMSE = 115.039, NMAE = 0.880, MRE = 0.795, NPRE = 5.788\r\n",
      "\r\n",
      "2022-11-27 12:15:14  Experiment success!\r\n"
     ]
    }
   ],
   "source": [
    "!python Experiment.py --dataset tp --interaction Pure_Mf --rounds 1 --slice_epochs 25 --agg_epochs 10 --density 0.20 --slices 10 --part_type 3 --processed 1"
   ],
   "metadata": {
    "collapsed": false
   }
  },
  {
   "cell_type": "markdown",
   "source": [
    "*****"
   ],
   "metadata": {
    "collapsed": false
   }
  },
  {
   "cell_type": "markdown",
   "source": [
    "## Density : 0.25"
   ],
   "metadata": {
    "collapsed": false
   }
  },
  {
   "cell_type": "markdown",
   "source": [
    "### SISA"
   ],
   "metadata": {
    "collapsed": false
   }
  },
  {
   "cell_type": "code",
   "execution_count": 105,
   "outputs": [
    {
     "name": "stdout",
     "output_type": "stream",
     "text": [
      "2022-11-27 12:15:14  Namespace(agg_epochs=10, agg_type='softmax', batch_size=128, dataset='rt', density=0.25, devices='gpu', dimension=64, dropout=0.1, interaction='NeuCF', node2vec=0, node2vec_batchsize=32, node2vec_dim=128, node2vec_epochs=1000, node2vec_length=10, node2vec_walk=50, num_layers=2, order=2, part_iter=100, part_type=3, path='./datasets/data/WSDREAM/', processed=1, retrain=0, rounds=1, save_model=1, slice_epochs=25, slices=10, verbose=0)\r\n",
      "2022-11-27 12:15:14  All the experiments have been done!\r\n",
      "2022-11-27 12:15:14  Dataset : rt     interaction : NeuCF\r\n",
      "2022-11-27 12:15:14  Density : 25.00%, slice_epochs : 25, agg_epochs : 10\r\n",
      "2022-11-27 12:15:14  Part_type : 3,    slices : 10,       devices : gpu\r\n",
      "2022-11-27 12:15:14  Dataset : rt     interaction : NeuCF\r\n",
      "2022-11-27 12:15:14  Density : 25.00%, slice_epochs : 25, agg_epochs : 10\r\n",
      "2022-11-27 12:15:14  Part_type : 3,    slices : 10,       devices : gpu\r\n",
      "\r\n",
      "2022-11-27 12:15:14  Density 25.00% : MAE = 0.491, RMSE = 1.462, NMAE = 0.540, MRE = 0.455, NPRE = 2.297\r\n",
      "\r\n",
      "2022-11-27 12:15:14  Experiment success!\r\n"
     ]
    }
   ],
   "source": [
    "!python Experiment.py --dataset rt --interaction NeuCF --rounds 1 --slice_epochs 25 --agg_epochs 10 --density 0.25 --slices 10 --part_type 3 --processed 1"
   ],
   "metadata": {
    "collapsed": false
   }
  },
  {
   "cell_type": "code",
   "execution_count": 106,
   "outputs": [
    {
     "name": "stdout",
     "output_type": "stream",
     "text": [
      "2022-11-27 12:15:15  Namespace(agg_epochs=10, agg_type='softmax', batch_size=128, dataset='tp', density=0.25, devices='gpu', dimension=64, dropout=0.1, interaction='NeuCF', node2vec=0, node2vec_batchsize=32, node2vec_dim=128, node2vec_epochs=1000, node2vec_length=10, node2vec_walk=50, num_layers=2, order=2, part_iter=100, part_type=3, path='./datasets/data/WSDREAM/', processed=1, retrain=0, rounds=1, save_model=1, slice_epochs=25, slices=10, verbose=0)\r\n",
      "2022-11-27 12:15:15  All the experiments have been done!\r\n",
      "2022-11-27 12:15:15  Dataset : tp     interaction : NeuCF\r\n",
      "2022-11-27 12:15:15  Density : 25.00%, slice_epochs : 25, agg_epochs : 10\r\n",
      "2022-11-27 12:15:15  Part_type : 3,    slices : 10,       devices : gpu\r\n",
      "2022-11-27 12:15:15  Dataset : tp     interaction : NeuCF\r\n",
      "2022-11-27 12:15:15  Density : 25.00%, slice_epochs : 25, agg_epochs : 10\r\n",
      "2022-11-27 12:15:15  Part_type : 3,    slices : 10,       devices : gpu\r\n",
      "\r\n",
      "2022-11-27 12:15:15  Density 25.00% : MAE = 23.746, RMSE = 63.887, NMAE = 0.502, MRE = 0.516, NPRE = 2.756\r\n",
      "\r\n",
      "2022-11-27 12:15:15  Experiment success!\r\n"
     ]
    }
   ],
   "source": [
    "!python Experiment.py --dataset tp --interaction NeuCF --rounds 1 --slice_epochs 25 --agg_epochs 10 --density 0.25 --slices 10 --part_type 3 --processed 1"
   ],
   "metadata": {
    "collapsed": false
   }
  },
  {
   "cell_type": "code",
   "execution_count": 107,
   "outputs": [
    {
     "name": "stdout",
     "output_type": "stream",
     "text": [
      "2022-11-27 12:15:16  Namespace(agg_epochs=15, agg_type='softmax', batch_size=128, dataset='rt', density=0.25, devices='gpu', dimension=64, dropout=0.1, interaction='CSMF', node2vec=0, node2vec_batchsize=32, node2vec_dim=128, node2vec_epochs=1000, node2vec_length=10, node2vec_walk=50, num_layers=2, order=2, part_iter=100, part_type=3, path='./datasets/data/WSDREAM/', processed=1, retrain=0, rounds=1, save_model=1, slice_epochs=25, slices=10, verbose=0)\r\n",
      "2022-11-27 12:15:16  All the experiments have been done!\r\n",
      "2022-11-27 12:15:16  Dataset : rt     interaction : CSMF\r\n",
      "2022-11-27 12:15:16  Density : 25.00%, slice_epochs : 25, agg_epochs : 15\r\n",
      "2022-11-27 12:15:16  Part_type : 3,    slices : 10,       devices : gpu\r\n",
      "2022-11-27 12:15:16  Dataset : rt     interaction : CSMF\r\n",
      "2022-11-27 12:15:16  Density : 25.00%, slice_epochs : 25, agg_epochs : 15\r\n",
      "2022-11-27 12:15:16  Part_type : 3,    slices : 10,       devices : gpu\r\n",
      "\r\n",
      "2022-11-27 12:15:16  Density 25.00% : MAE = 0.633, RMSE = 1.782, NMAE = 0.696, MRE = 0.535, NPRE = 1.935\r\n",
      "\r\n",
      "2022-11-27 12:15:16  Experiment success!\r\n"
     ]
    }
   ],
   "source": [
    "!python Experiment.py --dataset rt --interaction CSMF --rounds 1 --slice_epochs 25 --agg_epochs 15 --density 0.25 --slices 10 --part_type 3 --processed 1"
   ],
   "metadata": {
    "collapsed": false
   }
  },
  {
   "cell_type": "code",
   "execution_count": 108,
   "outputs": [
    {
     "name": "stdout",
     "output_type": "stream",
     "text": [
      "2022-11-27 12:15:17  Namespace(agg_epochs=15, agg_type='softmax', batch_size=128, dataset='tp', density=0.25, devices='gpu', dimension=64, dropout=0.1, interaction='CSMF', node2vec=0, node2vec_batchsize=32, node2vec_dim=128, node2vec_epochs=1000, node2vec_length=10, node2vec_walk=50, num_layers=2, order=2, part_iter=100, part_type=3, path='./datasets/data/WSDREAM/', processed=1, retrain=0, rounds=1, save_model=1, slice_epochs=25, slices=10, verbose=0)\r\n",
      "2022-11-27 12:15:17  All the experiments have been done!\r\n",
      "2022-11-27 12:15:17  Dataset : tp     interaction : CSMF\r\n",
      "2022-11-27 12:15:17  Density : 25.00%, slice_epochs : 25, agg_epochs : 15\r\n",
      "2022-11-27 12:15:17  Part_type : 3,    slices : 10,       devices : gpu\r\n",
      "2022-11-27 12:15:17  Dataset : tp     interaction : CSMF\r\n",
      "2022-11-27 12:15:17  Density : 25.00%, slice_epochs : 25, agg_epochs : 15\r\n",
      "2022-11-27 12:15:17  Part_type : 3,    slices : 10,       devices : gpu\r\n",
      "\r\n",
      "2022-11-27 12:15:17  Density 25.00% : MAE = 24.789, RMSE = 70.307, NMAE = 0.525, MRE = 0.499, NPRE = 2.209\r\n",
      "\r\n",
      "2022-11-27 12:15:17  Experiment success!\r\n"
     ]
    }
   ],
   "source": [
    "!python Experiment.py --dataset tp --interaction CSMF --rounds 1 --slice_epochs 25 --agg_epochs 15 --density 0.25 --slices 10 --part_type 3 --processed 1"
   ],
   "metadata": {
    "collapsed": false
   }
  },
  {
   "cell_type": "code",
   "execution_count": 109,
   "outputs": [],
   "source": [
    "# !python Experiment.py --dataset rt --interaction NeuGraphMF --rounds 1 --slice_epochs 20 --agg_epochs 10 --density 0.25 --slices 10 --part_type 3 --processed 1"
   ],
   "metadata": {
    "collapsed": false
   }
  },
  {
   "cell_type": "code",
   "execution_count": 110,
   "outputs": [],
   "source": [
    "# !python Experiment.py --dataset tp --interaction NeuGraphMF --rounds 1 --slice_epochs 20 --agg_epochs 10 --density 0.25 --slices 10 --part_type 3 --processed 1"
   ],
   "metadata": {
    "collapsed": false
   }
  },
  {
   "cell_type": "code",
   "execution_count": 111,
   "outputs": [
    {
     "name": "stdout",
     "output_type": "stream",
     "text": [
      "2022-11-27 12:15:18  Namespace(agg_epochs=10, agg_type='softmax', batch_size=128, dataset='rt', density=0.25, devices='gpu', dimension=64, dropout=0.1, interaction='Pure_Mf', node2vec=0, node2vec_batchsize=32, node2vec_dim=128, node2vec_epochs=1000, node2vec_length=10, node2vec_walk=50, num_layers=2, order=2, part_iter=100, part_type=3, path='./datasets/data/WSDREAM/', processed=1, retrain=0, rounds=1, save_model=1, slice_epochs=25, slices=10, verbose=0)\r\n",
      "2022-11-27 12:15:18  All the experiments have been done!\r\n",
      "2022-11-27 12:15:18  Dataset : rt     interaction : Pure_Mf\r\n",
      "2022-11-27 12:15:18  Density : 25.00%, slice_epochs : 25, agg_epochs : 10\r\n",
      "2022-11-27 12:15:18  Part_type : 3,    slices : 10,       devices : gpu\r\n",
      "2022-11-27 12:15:18  Dataset : rt     interaction : Pure_Mf\r\n",
      "2022-11-27 12:15:18  Density : 25.00%, slice_epochs : 25, agg_epochs : 10\r\n",
      "2022-11-27 12:15:18  Part_type : 3,    slices : 10,       devices : gpu\r\n",
      "\r\n",
      "2022-11-27 12:15:18  Density 25.00% : MAE = 0.734, RMSE = 1.977, NMAE = 0.809, MRE = 0.664, NPRE = 3.214\r\n",
      "\r\n",
      "2022-11-27 12:15:18  Experiment success!\r\n"
     ]
    }
   ],
   "source": [
    "!python Experiment.py --dataset rt --interaction Pure_Mf --rounds 1 --slice_epochs 25 --agg_epochs 10 --density 0.25 --slices 10 --part_type 3 --processed 1"
   ],
   "metadata": {
    "collapsed": false
   }
  },
  {
   "cell_type": "code",
   "execution_count": 112,
   "outputs": [
    {
     "name": "stdout",
     "output_type": "stream",
     "text": [
      "2022-11-27 12:15:19  Namespace(agg_epochs=10, agg_type='softmax', batch_size=128, dataset='tp', density=0.25, devices='gpu', dimension=64, dropout=0.1, interaction='Pure_Mf', node2vec=0, node2vec_batchsize=32, node2vec_dim=128, node2vec_epochs=1000, node2vec_length=10, node2vec_walk=50, num_layers=2, order=2, part_iter=100, part_type=3, path='./datasets/data/WSDREAM/', processed=1, retrain=0, rounds=1, save_model=1, slice_epochs=25, slices=10, verbose=0)\r\n",
      "2022-11-27 12:15:19  All the experiments have been done!\r\n",
      "2022-11-27 12:15:19  Dataset : tp     interaction : Pure_Mf\r\n",
      "2022-11-27 12:15:19  Density : 25.00%, slice_epochs : 25, agg_epochs : 10\r\n",
      "2022-11-27 12:15:19  Part_type : 3,    slices : 10,       devices : gpu\r\n",
      "2022-11-27 12:15:19  Dataset : tp     interaction : Pure_Mf\r\n",
      "2022-11-27 12:15:19  Density : 25.00%, slice_epochs : 25, agg_epochs : 10\r\n",
      "2022-11-27 12:15:19  Part_type : 3,    slices : 10,       devices : gpu\r\n",
      "\r\n",
      "2022-11-27 12:15:19  Density 25.00% : MAE = 41.402, RMSE = 115.135, NMAE = 0.875, MRE = 0.786, NPRE = 5.139\r\n",
      "\r\n",
      "2022-11-27 12:15:19  Experiment success!\r\n"
     ]
    }
   ],
   "source": [
    "!python Experiment.py --dataset tp --interaction Pure_Mf --rounds 1 --slice_epochs 25 --agg_epochs 10 --density 0.25 --slices 10 --part_type 3 --processed 1"
   ],
   "metadata": {
    "collapsed": false
   }
  },
  {
   "cell_type": "markdown",
   "source": [
    "*****"
   ],
   "metadata": {
    "collapsed": false
   }
  },
  {
   "cell_type": "markdown",
   "source": [
    "## Density : 0.30"
   ],
   "metadata": {
    "collapsed": false
   }
  },
  {
   "cell_type": "markdown",
   "source": [
    "### SISA"
   ],
   "metadata": {
    "collapsed": false
   }
  },
  {
   "cell_type": "code",
   "execution_count": 113,
   "outputs": [
    {
     "name": "stdout",
     "output_type": "stream",
     "text": [
      "2022-11-27 12:15:20  Namespace(agg_epochs=10, agg_type='softmax', batch_size=128, dataset='rt', density=0.3, devices='gpu', dimension=64, dropout=0.1, interaction='NeuCF', node2vec=0, node2vec_batchsize=32, node2vec_dim=128, node2vec_epochs=1000, node2vec_length=10, node2vec_walk=50, num_layers=2, order=2, part_iter=100, part_type=3, path='./datasets/data/WSDREAM/', processed=1, retrain=0, rounds=1, save_model=1, slice_epochs=25, slices=10, verbose=0)\r\n",
      "2022-11-27 12:15:20  All the experiments have been done!\r\n",
      "2022-11-27 12:15:20  Dataset : rt     interaction : NeuCF\r\n",
      "2022-11-27 12:15:20  Density : 30.00%, slice_epochs : 25, agg_epochs : 10\r\n",
      "2022-11-27 12:15:20  Part_type : 3,    slices : 10,       devices : gpu\r\n",
      "2022-11-27 12:15:20  Dataset : rt     interaction : NeuCF\r\n",
      "2022-11-27 12:15:20  Density : 30.00%, slice_epochs : 25, agg_epochs : 10\r\n",
      "2022-11-27 12:15:20  Part_type : 3,    slices : 10,       devices : gpu\r\n",
      "\r\n",
      "2022-11-27 12:15:20  Density 30.00% : MAE = 0.488, RMSE = 1.457, NMAE = 0.536, MRE = 0.444, NPRE = 2.049\r\n",
      "\r\n",
      "2022-11-27 12:15:20  Experiment success!\r\n"
     ]
    }
   ],
   "source": [
    "!python Experiment.py --dataset rt --interaction NeuCF --rounds 1 --slice_epochs 25 --agg_epochs 10 --density 0.30 --slices 10 --part_type 3 --processed 1"
   ],
   "metadata": {
    "collapsed": false
   }
  },
  {
   "cell_type": "code",
   "execution_count": 114,
   "outputs": [
    {
     "name": "stdout",
     "output_type": "stream",
     "text": [
      "2022-11-27 12:15:20  Namespace(agg_epochs=10, agg_type='softmax', batch_size=128, dataset='tp', density=0.3, devices='gpu', dimension=64, dropout=0.1, interaction='NeuCF', node2vec=0, node2vec_batchsize=32, node2vec_dim=128, node2vec_epochs=1000, node2vec_length=10, node2vec_walk=50, num_layers=2, order=2, part_iter=100, part_type=3, path='./datasets/data/WSDREAM/', processed=1, retrain=0, rounds=1, save_model=1, slice_epochs=25, slices=10, verbose=0)\r\n",
      "2022-11-27 12:15:20  All the experiments have been done!\r\n",
      "2022-11-27 12:15:20  Dataset : tp     interaction : NeuCF\r\n",
      "2022-11-27 12:15:20  Density : 30.00%, slice_epochs : 25, agg_epochs : 10\r\n",
      "2022-11-27 12:15:20  Part_type : 3,    slices : 10,       devices : gpu\r\n",
      "2022-11-27 12:15:20  Dataset : tp     interaction : NeuCF\r\n",
      "2022-11-27 12:15:20  Density : 30.00%, slice_epochs : 25, agg_epochs : 10\r\n",
      "2022-11-27 12:15:20  Part_type : 3,    slices : 10,       devices : gpu\r\n",
      "\r\n",
      "2022-11-27 12:15:20  Density 30.00% : MAE = 22.492, RMSE = 60.705, NMAE = 0.476, MRE = 0.495, NPRE = 2.337\r\n",
      "\r\n",
      "2022-11-27 12:15:20  Experiment success!\r\n"
     ]
    }
   ],
   "source": [
    "!python Experiment.py --dataset tp --interaction NeuCF --rounds 1 --slice_epochs 25 --agg_epochs 10 --density 0.30 --slices 10 --part_type 3 --processed 1"
   ],
   "metadata": {
    "collapsed": false
   }
  },
  {
   "cell_type": "code",
   "execution_count": 115,
   "outputs": [
    {
     "name": "stdout",
     "output_type": "stream",
     "text": [
      "2022-11-27 12:15:21  Namespace(agg_epochs=15, agg_type='softmax', batch_size=128, dataset='rt', density=0.3, devices='gpu', dimension=64, dropout=0.1, interaction='CSMF', node2vec=0, node2vec_batchsize=32, node2vec_dim=128, node2vec_epochs=1000, node2vec_length=10, node2vec_walk=50, num_layers=2, order=2, part_iter=100, part_type=3, path='./datasets/data/WSDREAM/', processed=1, retrain=0, rounds=1, save_model=1, slice_epochs=25, slices=10, verbose=0)\r\n",
      "2022-11-27 12:15:21  All the experiments have been done!\r\n",
      "2022-11-27 12:15:21  Dataset : rt     interaction : CSMF\r\n",
      "2022-11-27 12:15:21  Density : 30.00%, slice_epochs : 25, agg_epochs : 15\r\n",
      "2022-11-27 12:15:21  Part_type : 3,    slices : 10,       devices : gpu\r\n",
      "2022-11-27 12:15:21  Dataset : rt     interaction : CSMF\r\n",
      "2022-11-27 12:15:21  Density : 30.00%, slice_epochs : 25, agg_epochs : 15\r\n",
      "2022-11-27 12:15:21  Part_type : 3,    slices : 10,       devices : gpu\r\n",
      "\r\n",
      "2022-11-27 12:15:21  Density 30.00% : MAE = 0.627, RMSE = 1.842, NMAE = 0.689, MRE = 0.499, NPRE = 1.683\r\n",
      "\r\n",
      "2022-11-27 12:15:21  Experiment success!\r\n"
     ]
    }
   ],
   "source": [
    "!python Experiment.py --dataset rt --interaction CSMF --rounds 1 --slice_epochs 25 --agg_epochs 15 --density 0.30 --slices 10 --part_type 3 --processed 1"
   ],
   "metadata": {
    "collapsed": false
   }
  },
  {
   "cell_type": "code",
   "execution_count": 116,
   "outputs": [
    {
     "name": "stdout",
     "output_type": "stream",
     "text": [
      "2022-11-27 12:15:22  Namespace(agg_epochs=15, agg_type='softmax', batch_size=128, dataset='tp', density=0.3, devices='gpu', dimension=64, dropout=0.1, interaction='CSMF', node2vec=0, node2vec_batchsize=32, node2vec_dim=128, node2vec_epochs=1000, node2vec_length=10, node2vec_walk=50, num_layers=2, order=2, part_iter=100, part_type=3, path='./datasets/data/WSDREAM/', processed=1, retrain=0, rounds=1, save_model=1, slice_epochs=25, slices=10, verbose=0)\r\n",
      "2022-11-27 12:15:22  All the experiments have been done!\r\n",
      "2022-11-27 12:15:22  Dataset : tp     interaction : CSMF\r\n",
      "2022-11-27 12:15:22  Density : 30.00%, slice_epochs : 25, agg_epochs : 15\r\n",
      "2022-11-27 12:15:22  Part_type : 3,    slices : 10,       devices : gpu\r\n",
      "2022-11-27 12:15:22  Dataset : tp     interaction : CSMF\r\n",
      "2022-11-27 12:15:22  Density : 30.00%, slice_epochs : 25, agg_epochs : 15\r\n",
      "2022-11-27 12:15:22  Part_type : 3,    slices : 10,       devices : gpu\r\n",
      "\r\n",
      "2022-11-27 12:15:22  Density 30.00% : MAE = 23.644, RMSE = 66.253, NMAE = 0.498, MRE = 0.480, NPRE = 2.123\r\n",
      "\r\n",
      "2022-11-27 12:15:22  Experiment success!\r\n"
     ]
    }
   ],
   "source": [
    "!python Experiment.py --dataset tp --interaction CSMF --rounds 1 --slice_epochs 25 --agg_epochs 15 --density 0.30 --slices 10 --part_type 3 --processed 1"
   ],
   "metadata": {
    "collapsed": false
   }
  },
  {
   "cell_type": "code",
   "execution_count": 117,
   "outputs": [],
   "source": [
    "# !python Experiment.py --dataset rt --interaction NeuGraphMF --rounds 1 --slice_epochs 20 --agg_epochs 10 --density 0.30 --slices 10 --part_type 3 --processed 1"
   ],
   "metadata": {
    "collapsed": false
   }
  },
  {
   "cell_type": "code",
   "execution_count": 118,
   "outputs": [],
   "source": [
    "# !python Experiment.py --dataset tp --interaction NeuGraphMF --rounds 1 --slice_epochs 20 --agg_epochs 10 --density 0.30 --slices 10 --part_type 3 --processed 1"
   ],
   "metadata": {
    "collapsed": false
   }
  },
  {
   "cell_type": "code",
   "execution_count": 119,
   "outputs": [
    {
     "name": "stdout",
     "output_type": "stream",
     "text": [
      "2022-11-27 12:15:23  Namespace(agg_epochs=10, agg_type='softmax', batch_size=128, dataset='rt', density=0.3, devices='gpu', dimension=64, dropout=0.1, interaction='Pure_Mf', node2vec=0, node2vec_batchsize=32, node2vec_dim=128, node2vec_epochs=1000, node2vec_length=10, node2vec_walk=50, num_layers=2, order=2, part_iter=100, part_type=3, path='./datasets/data/WSDREAM/', processed=1, retrain=0, rounds=1, save_model=1, slice_epochs=25, slices=10, verbose=0)\r\n",
      "2022-11-27 12:15:23  All the experiments have been done!\r\n",
      "2022-11-27 12:15:23  Dataset : rt     interaction : Pure_Mf\r\n",
      "2022-11-27 12:15:23  Density : 30.00%, slice_epochs : 25, agg_epochs : 10\r\n",
      "2022-11-27 12:15:23  Part_type : 3,    slices : 10,       devices : gpu\r\n",
      "2022-11-27 12:15:23  Dataset : rt     interaction : Pure_Mf\r\n",
      "2022-11-27 12:15:23  Density : 30.00%, slice_epochs : 25, agg_epochs : 10\r\n",
      "2022-11-27 12:15:23  Part_type : 3,    slices : 10,       devices : gpu\r\n",
      "\r\n",
      "2022-11-27 12:15:23  Density 30.00% : MAE = 0.690, RMSE = 1.894, NMAE = 0.760, MRE = 0.626, NPRE = 2.833\r\n",
      "\r\n",
      "2022-11-27 12:15:23  Experiment success!\r\n"
     ]
    }
   ],
   "source": [
    "!python Experiment.py --dataset rt --interaction Pure_Mf --rounds 1 --slice_epochs 25 --agg_epochs 10 --density 0.30 --slices 10 --part_type 3 --processed 1"
   ],
   "metadata": {
    "collapsed": false
   }
  },
  {
   "cell_type": "code",
   "execution_count": 120,
   "outputs": [
    {
     "name": "stdout",
     "output_type": "stream",
     "text": [
      "2022-11-27 12:15:24  Namespace(agg_epochs=10, agg_type='softmax', batch_size=128, dataset='tp', density=0.3, devices='gpu', dimension=64, dropout=0.1, interaction='Pure_Mf', node2vec=0, node2vec_batchsize=32, node2vec_dim=128, node2vec_epochs=1000, node2vec_length=10, node2vec_walk=50, num_layers=2, order=2, part_iter=100, part_type=3, path='./datasets/data/WSDREAM/', processed=1, retrain=0, rounds=1, save_model=1, slice_epochs=25, slices=10, verbose=0)\r\n",
      "2022-11-27 12:15:24  All the experiments have been done!\r\n",
      "2022-11-27 12:15:24  Dataset : tp     interaction : Pure_Mf\r\n",
      "2022-11-27 12:15:24  Density : 30.00%, slice_epochs : 25, agg_epochs : 10\r\n",
      "2022-11-27 12:15:24  Part_type : 3,    slices : 10,       devices : gpu\r\n",
      "2022-11-27 12:15:24  Dataset : tp     interaction : Pure_Mf\r\n",
      "2022-11-27 12:15:24  Density : 30.00%, slice_epochs : 25, agg_epochs : 10\r\n",
      "2022-11-27 12:15:24  Part_type : 3,    slices : 10,       devices : gpu\r\n",
      "\r\n",
      "2022-11-27 12:15:24  Density 30.00% : MAE = 41.691, RMSE = 115.535, NMAE = 0.879, MRE = 0.792, NPRE = 5.646\r\n",
      "\r\n",
      "2022-11-27 12:15:24  Experiment success!\r\n"
     ]
    }
   ],
   "source": [
    "!python Experiment.py --dataset tp --interaction Pure_Mf --rounds 1 --slice_epochs 25 --agg_epochs 10 --density 0.30 --slices 10 --part_type 3 --processed 1"
   ],
   "metadata": {
    "collapsed": false
   }
  },
  {
   "cell_type": "markdown",
   "source": [
    "*****"
   ],
   "metadata": {
    "collapsed": false
   }
  },
  {
   "cell_type": "markdown",
   "source": [
    "# balance node2vec"
   ],
   "metadata": {
    "collapsed": false
   }
  },
  {
   "cell_type": "markdown",
   "source": [
    "# item balance node2vec"
   ],
   "metadata": {
    "collapsed": false
   }
  },
  {
   "cell_type": "markdown",
   "source": [
    "# iteraction balance node2vec"
   ],
   "metadata": {
    "collapsed": false
   }
  },
  {
   "cell_type": "code",
   "execution_count": 120,
   "outputs": [],
   "source": [],
   "metadata": {
    "collapsed": false
   }
  }
 ],
 "metadata": {
  "kernelspec": {
   "display_name": "Python 3",
   "language": "python",
   "name": "python3"
  },
  "language_info": {
   "codemirror_mode": {
    "name": "ipython",
    "version": 2
   },
   "file_extension": ".py",
   "mimetype": "text/x-python",
   "name": "python",
   "nbconvert_exporter": "python",
   "pygments_lexer": "ipython2",
   "version": "2.7.6"
  }
 },
 "nbformat": 4,
 "nbformat_minor": 0
}
