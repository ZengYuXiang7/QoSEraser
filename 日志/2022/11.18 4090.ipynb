{
 "cells": [
  {
   "cell_type": "markdown",
   "metadata": {},
   "source": [
    "# Author : yuxiang Zeng"
   ]
  },
  {
   "cell_type": "markdown",
   "metadata": {},
   "source": [
    "# Retrain"
   ]
  },
  {
   "cell_type": "markdown",
   "metadata": {},
   "source": [
    "# NeuCF\n"
   ]
  },
  {
   "cell_type": "code",
   "execution_count": null,
   "metadata": {},
   "outputs": [],
   "source": [
    "!python Experiment.py --dataset rt --interaction NeuCF --rounds 5 --slice_epochs 35 --density 0.10 --slices 1 --part_type 3 --save_model 0 --processed 0 --retrain 1"
   ]
  },
  {
   "cell_type": "code",
   "execution_count": null,
   "metadata": {},
   "outputs": [],
   "source": [
    "!python Experiment.py --dataset tp --interaction NeuCF --rounds 5 --slice_epochs 40 --density 0.10 --slices 1 --part_type 3 --save_model 0 --processed 0 --retrain 1"
   ]
  },
  {
   "cell_type": "code",
   "execution_count": null,
   "metadata": {},
   "outputs": [],
   "source": [
    "!python Experiment.py --dataset rt --interaction NeuCF --rounds 5 --slice_epochs 35 --density 0.15 --slices 1 --part_type 3 --save_model 0 --processed 0 --retrain 1"
   ]
  },
  {
   "cell_type": "code",
   "execution_count": null,
   "metadata": {},
   "outputs": [],
   "source": [
    "!python Experiment.py --dataset tp --interaction NeuCF --rounds 5 --slice_epochs 40 --density 0.15 --slices 1 --part_type 3 --save_model 0 --processed 0 --retrain 1"
   ]
  },
  {
   "cell_type": "code",
   "execution_count": null,
   "metadata": {
    "collapsed": false,
    "pycharm": {
     "name": "#%%\n"
    }
   },
   "outputs": [],
   "source": [
    "!python Experiment.py --dataset rt --interaction NeuCF --rounds 5 --slice_epochs 35 --density 0.20 --slices 1 --part_type 3 --save_model 0 --processed 0 --retrain 1"
   ]
  },
  {
   "cell_type": "code",
   "execution_count": null,
   "metadata": {},
   "outputs": [],
   "source": [
    "!python Experiment.py --dataset tp --interaction NeuCF --rounds 5 --slice_epochs 40 --density 0.20 --slices 1 --part_type 3 --save_model 0 --processed 0 --retrain 1"
   ]
  },
  {
   "cell_type": "code",
   "execution_count": null,
   "metadata": {},
   "outputs": [],
   "source": [
    "!python Experiment.py --dataset rt --interaction NeuCF --rounds 5 --slice_epochs 35 --density 0.25 --slices 1 --part_type 3 --save_model 0 --processed 0 --retrain 1"
   ]
  },
  {
   "cell_type": "code",
   "execution_count": null,
   "metadata": {},
   "outputs": [],
   "source": [
    "!python Experiment.py --dataset tp --interaction NeuCF --rounds 5 --slice_epochs 40 --density 0.25 --slices 1 --part_type 3 --save_model 0 --processed 0 --retrain 1"
   ]
  },
  {
   "cell_type": "code",
   "execution_count": null,
   "metadata": {
    "collapsed": false,
    "pycharm": {
     "name": "#%%\n"
    }
   },
   "outputs": [],
   "source": [
    "!python Experiment.py --dataset rt --interaction NeuCF --rounds 5 --slice_epochs 35 --density 0.3 --slices 1 --part_type 3 --save_model 0 --processed 0 --retrain 1"
   ]
  },
  {
   "cell_type": "code",
   "execution_count": null,
   "metadata": {},
   "outputs": [],
   "source": [
    "!python Experiment.py --dataset tp --interaction NeuCF --rounds 5 --slice_epochs 40 --density 0.3 --slices 1 --part_type 3 --save_model 0 --processed 0 --retrain 1"
   ]
  },
  {
   "cell_type": "markdown",
   "metadata": {},
   "source": [
    "# CSMF"
   ]
  },
  {
   "cell_type": "code",
   "execution_count": null,
   "metadata": {
    "collapsed": false,
    "pycharm": {
     "name": "#%%\n"
    }
   },
   "outputs": [],
   "source": [
    "!python Experiment.py --dataset rt --interaction CSMF  --rounds 5 --slice_epochs 35 --density 0.10 --slices 1 --part_type 3 --save_model 0 --processed 0 --retrain 1"
   ]
  },
  {
   "cell_type": "code",
   "execution_count": null,
   "metadata": {},
   "outputs": [],
   "source": [
    "!python Experiment.py --dataset tp --interaction CSMF --rounds 5 --slice_epochs 40 --density 0.10 --slices 1 --part_type 3 --save_model 0 --processed 0 --retrain 1"
   ]
  },
  {
   "cell_type": "code",
   "execution_count": null,
   "metadata": {},
   "outputs": [],
   "source": [
    "!python Experiment.py --dataset rt --interaction CSMF --rounds 5 --slice_epochs 35 --density 0.15 --slices 1 --part_type 3 --save_model 0 --processed 0 --retrain 1"
   ]
  },
  {
   "cell_type": "code",
   "execution_count": null,
   "metadata": {},
   "outputs": [],
   "source": [
    "!python Experiment.py --dataset tp --interaction CSMF --rounds 5 --slice_epochs 40 --density 0.15 --slices 1 --part_type 3 --save_model 0 --processed 0 --retrain 1"
   ]
  },
  {
   "cell_type": "code",
   "execution_count": null,
   "metadata": {
    "collapsed": false,
    "pycharm": {
     "name": "#%%\n"
    }
   },
   "outputs": [],
   "source": [
    "!python Experiment.py --dataset rt --interaction CSMF --rounds 5 --slice_epochs 35 --density 0.20 --slices 1 --part_type 3 --save_model 0 --processed 0 --retrain 1"
   ]
  },
  {
   "cell_type": "code",
   "execution_count": null,
   "metadata": {},
   "outputs": [],
   "source": [
    "!python Experiment.py --dataset tp --interaction CSMF --rounds 5 --slice_epochs 40 --density 0.20 --slices 1 --part_type 3 --save_model 0 --processed 0 --retrain 1"
   ]
  },
  {
   "cell_type": "code",
   "execution_count": null,
   "metadata": {},
   "outputs": [],
   "source": [
    "!python Experiment.py --dataset rt --interaction CSMF --rounds 5 --slice_epochs 35 --density 0.25 --slices 1 --part_type 3 --save_model 0 --processed 0 --retrain 1"
   ]
  },
  {
   "cell_type": "code",
   "execution_count": null,
   "metadata": {},
   "outputs": [],
   "source": [
    "!python Experiment.py --dataset tp --interaction CSMF --rounds 5 --slice_epochs 40 --density 0.25 --slices 1 --part_type 3 --save_model 0 --processed 0 --retrain 1"
   ]
  },
  {
   "cell_type": "code",
   "execution_count": null,
   "metadata": {
    "collapsed": false,
    "pycharm": {
     "name": "#%%\n"
    }
   },
   "outputs": [],
   "source": [
    "!python Experiment.py --dataset rt --interaction CSMF --rounds 5 --slice_epochs 35 --density 0.30 --slices 1 --part_type 3 --save_model 0 --processed 0 --retrain 1"
   ]
  },
  {
   "cell_type": "code",
   "execution_count": null,
   "metadata": {},
   "outputs": [],
   "source": [
    "!python Experiment.py --dataset tp --interaction CSMF --rounds 5 --slice_epochs 40 --density 0.30 --slices 1 --part_type 3 --save_model 0 --processed 0 --retrain 1"
   ]
  },
  {
   "cell_type": "markdown",
   "metadata": {},
   "source": [
    "# GraphMF"
   ]
  },
  {
   "cell_type": "code",
   "execution_count": null,
   "metadata": {
    "collapsed": false,
    "pycharm": {
     "name": "#%%\n"
    }
   },
   "outputs": [],
   "source": [
    "!python Experiment.py --dataset rt --interaction NeuGraphMF  --rounds 5 --slice_epochs 20 --density 0.10 --slices 1 --part_type 3 --save_model 0 --processed 0 --retrain 1"
   ]
  },
  {
   "cell_type": "code",
   "execution_count": null,
   "metadata": {},
   "outputs": [],
   "source": [
    "!python Experiment.py --dataset tp --interaction NeuGraphMF --rounds 5 --slice_epochs 20 --density 0.10 --slices 1 --part_type 3 --save_model 0 --processed 0 --retrain 1"
   ]
  },
  {
   "cell_type": "code",
   "execution_count": null,
   "metadata": {},
   "outputs": [],
   "source": [
    "!python Experiment.py --dataset rt --interaction NeuGraphMF --rounds 5 --slice_epochs 20 --density 0.15 --slices 1 --part_type 3 --save_model 0 --processed 0 --retrain 1"
   ]
  },
  {
   "cell_type": "code",
   "execution_count": null,
   "metadata": {},
   "outputs": [],
   "source": [
    "!python Experiment.py --dataset tp --interaction NeuGraphMF --rounds 5 --slice_epochs 20 --density 0.15 --slices 1 --part_type 3 --save_model 0 --processed 0 --retrain 1"
   ]
  },
  {
   "cell_type": "code",
   "execution_count": null,
   "metadata": {
    "collapsed": false,
    "pycharm": {
     "name": "#%%\n"
    }
   },
   "outputs": [],
   "source": [
    "!python Experiment.py --dataset rt --interaction NeuGraphMF --rounds 5 --slice_epochs 20 --density 0.20 --slices 1 --part_type 3 --save_model 0 --processed 0 --retrain 1"
   ]
  },
  {
   "cell_type": "code",
   "execution_count": null,
   "metadata": {},
   "outputs": [],
   "source": [
    "!python Experiment.py --dataset tp --interaction NeuGraphMF --rounds 5 --slice_epochs 20 --density 0.20 --slices 1 --part_type 3 --save_model 0 --processed 0 --retrain 1"
   ]
  },
  {
   "cell_type": "code",
   "execution_count": null,
   "metadata": {},
   "outputs": [],
   "source": [
    "!python Experiment.py --dataset rt --interaction NeuGraphMF --rounds 5 --slice_epochs 20 --density 0.25 --slices 1 --part_type 3 --save_model 0 --processed 0 --retrain 1"
   ]
  },
  {
   "cell_type": "code",
   "execution_count": null,
   "metadata": {},
   "outputs": [],
   "source": [
    "!python Experiment.py --dataset tp --interaction NeuGraphMF --rounds 5 --slice_epochs 20 --density 0.25 --slices 1 --part_type 3 --save_model 0 --processed 0 --retrain 1"
   ]
  },
  {
   "cell_type": "code",
   "execution_count": null,
   "metadata": {
    "collapsed": false,
    "pycharm": {
     "name": "#%%\n"
    }
   },
   "outputs": [],
   "source": [
    "!python Experiment.py --dataset rt --interaction NeuGraphMF --rounds 5 --slice_epochs 20 --density 0.30 --slices 1 --part_type 3 --save_model 0 --processed 0 --retrain 1"
   ]
  },
  {
   "cell_type": "code",
   "execution_count": null,
   "metadata": {},
   "outputs": [],
   "source": [
    "!python Experiment.py --dataset tp --interaction NeuGraphMF --rounds 5 --slice_epochs 20 --density 0.30 --slices 1 --part_type 3 --save_model 0 --processed 0 --retrain 1"
   ]
  },
  {
   "cell_type": "markdown",
   "metadata": {},
   "source": [
    "# SISA"
   ]
  },
  {
   "cell_type": "markdown",
   "metadata": {},
   "source": [
    "# NeuCF"
   ]
  },
  {
   "cell_type": "markdown",
   "metadata": {},
   "source": [
    "# slices 10"
   ]
  },
  {
   "cell_type": "code",
   "execution_count": null,
   "metadata": {
    "collapsed": false,
    "pycharm": {
     "name": "#%%\n"
    }
   },
   "outputs": [],
   "source": [
    "!python Experiment.py --dataset rt --interaction NeuCF --rounds 5 --slice_epochs 25 --agg_epochs 15 --density 0.10 --slices 10 --part_type 3 --save_model 1 --processed 1"
   ]
  },
  {
   "cell_type": "code",
   "execution_count": null,
   "metadata": {},
   "outputs": [],
   "source": [
    "!python Experiment.py --dataset tp --interaction NeuCF --rounds 5 --slice_epochs 25 --agg_epochs 15 --density 0.10 --slices 10 --part_type 3 --save_model 1 --processed 1"
   ]
  },
  {
   "cell_type": "code",
   "execution_count": null,
   "metadata": {
    "collapsed": false,
    "pycharm": {
     "name": "#%%\n"
    }
   },
   "outputs": [],
   "source": [
    "!python Experiment.py --dataset rt --interaction NeuCF --rounds 5 --slice_epochs 25 --agg_epochs 15 --density 0.15 --slices 10 --part_type 3 --save_model 1 --processed 1"
   ]
  },
  {
   "cell_type": "code",
   "execution_count": null,
   "metadata": {},
   "outputs": [],
   "source": [
    "!python Experiment.py --dataset tp --interaction NeuCF --rounds 5 --slice_epochs 25 --agg_epochs 15 --density 0.15 --slices 10 --part_type 3 --save_model 1 --processed 1"
   ]
  },
  {
   "cell_type": "code",
   "execution_count": null,
   "metadata": {
    "collapsed": false,
    "pycharm": {
     "name": "#%%\n"
    }
   },
   "outputs": [],
   "source": [
    "!python Experiment.py --dataset rt --interaction NeuCF --rounds 5 --slice_epochs 25 --agg_epochs 15 --density 0.20 --slices 10 --part_type 3 --save_model 1 --processed 1"
   ]
  },
  {
   "cell_type": "code",
   "execution_count": null,
   "metadata": {},
   "outputs": [],
   "source": [
    "!python Experiment.py --dataset tp --interaction NeuCF --rounds 5 --slice_epochs 25 --agg_epochs 15 --density 0.20 --slices 10 --part_type 3 --save_model 1 --processed 1"
   ]
  },
  {
   "cell_type": "code",
   "execution_count": null,
   "metadata": {
    "collapsed": false,
    "pycharm": {
     "name": "#%%\n"
    }
   },
   "outputs": [],
   "source": [
    "!python Experiment.py --dataset rt --interaction NeuCF --rounds 5 --slice_epochs 25 --agg_epochs 15 --density 0.25 --slices 10 --part_type 3 --save_model 1 --processed 1"
   ]
  },
  {
   "cell_type": "code",
   "execution_count": null,
   "metadata": {},
   "outputs": [],
   "source": [
    "!python Experiment.py --dataset tp --interaction NeuCF --rounds 5 --slice_epochs 25 --agg_epochs 15 --density 0.25 --slices 10 --part_type 3 --save_model 1 --processed 1"
   ]
  },
  {
   "cell_type": "code",
   "execution_count": null,
   "metadata": {
    "collapsed": false,
    "pycharm": {
     "name": "#%%\n"
    }
   },
   "outputs": [],
   "source": [
    "!python Experiment.py --dataset rt --interaction NeuCF --rounds 5 --slice_epochs 25 --agg_epochs 15 --density 0.30 --slices 10 --part_type 3 --save_model 1 --processed 1"
   ]
  },
  {
   "cell_type": "code",
   "execution_count": null,
   "metadata": {},
   "outputs": [],
   "source": [
    "!python Experiment.py --dataset tp --interaction NeuCF --rounds 5 --slice_epochs 25 --agg_epochs 15 --density 0.30 --slices 10 --part_type 3 --save_model 1 --processed 1"
   ]
  },
  {
   "cell_type": "markdown",
   "metadata": {},
   "source": [
    "# CSMF"
   ]
  },
  {
   "cell_type": "markdown",
   "metadata": {},
   "source": [
    "# slices 10"
   ]
  },
  {
   "cell_type": "code",
   "execution_count": null,
   "metadata": {
    "collapsed": false,
    "pycharm": {
     "name": "#%%\n"
    }
   },
   "outputs": [],
   "source": [
    "!python Experiment.py --dataset rt --interaction CSMF --rounds 5 --slice_epochs 25 --agg_epochs 15 --density 0.10 --slices 10 --part_type 3 --save_model 1 --processed 1"
   ]
  },
  {
   "cell_type": "code",
   "execution_count": null,
   "metadata": {},
   "outputs": [],
   "source": [
    "!python Experiment.py --dataset tp --interaction CSMF --rounds 5 --slice_epochs 25 --agg_epochs 15 --density 0.10 --slices 10 --part_type 3 --save_model 1 --processed 1"
   ]
  },
  {
   "cell_type": "code",
   "execution_count": null,
   "metadata": {
    "collapsed": false,
    "pycharm": {
     "name": "#%%\n"
    }
   },
   "outputs": [],
   "source": [
    "!python Experiment.py --dataset rt --interaction CSMF --rounds 5 --slice_epochs 25 --agg_epochs 15 --density 0.15 --slices 10 --part_type 3 --save_model 1 --processed 1"
   ]
  },
  {
   "cell_type": "code",
   "execution_count": null,
   "metadata": {},
   "outputs": [],
   "source": [
    "!python Experiment.py --dataset tp --interaction CSMF --rounds 5 --slice_epochs 25 --agg_epochs 15 --density 0.15 --slices 10 --part_type 3 --save_model 1 --processed 1"
   ]
  },
  {
   "cell_type": "code",
   "execution_count": null,
   "metadata": {
    "collapsed": false,
    "pycharm": {
     "name": "#%%\n"
    }
   },
   "outputs": [],
   "source": [
    "!python Experiment.py --dataset rt --interaction CSMF --rounds 5 --slice_epochs 25 --agg_epochs 15 --density 0.20 --slices 10 --part_type 3 --save_model 1 --processed 1"
   ]
  },
  {
   "cell_type": "code",
   "execution_count": null,
   "metadata": {},
   "outputs": [],
   "source": [
    "!python Experiment.py --dataset tp --interaction CSMF --rounds 5 --slice_epochs 25 --agg_epochs 15 --density 0.20 --slices 10 --part_type 3 --save_model 1 --processed 1"
   ]
  },
  {
   "cell_type": "code",
   "execution_count": null,
   "metadata": {
    "collapsed": false,
    "pycharm": {
     "name": "#%%\n"
    }
   },
   "outputs": [],
   "source": [
    "!python Experiment.py --dataset rt --interaction CSMF --rounds 5 --slice_epochs 25 --agg_epochs 15 --density 0.25 --slices 10 --part_type 3 --save_model 1 --processed 1"
   ]
  },
  {
   "cell_type": "code",
   "execution_count": null,
   "metadata": {},
   "outputs": [],
   "source": [
    "!python Experiment.py --dataset tp --interaction CSMF --rounds 5 --slice_epochs 25 --agg_epochs 15 --density 0.25 --slices 10 --part_type 3 --save_model 1 --processed 1"
   ]
  },
  {
   "cell_type": "code",
   "execution_count": null,
   "metadata": {
    "collapsed": false,
    "pycharm": {
     "name": "#%%\n"
    }
   },
   "outputs": [],
   "source": [
    "!python Experiment.py --dataset rt --interaction CSMF --rounds 5 --slice_epochs 25 --agg_epochs 15 --density 0.30 --slices 10 --part_type 3 --save_model 1 --processed 1"
   ]
  },
  {
   "cell_type": "code",
   "execution_count": null,
   "metadata": {},
   "outputs": [],
   "source": [
    "!python Experiment.py --dataset tp --interaction CSMF --rounds 5 --slice_epochs 25 --agg_epochs 15 --density 0.30 --slices 10 --part_type 3 --save_model 1 --processed 1"
   ]
  },
  {
   "cell_type": "markdown",
   "metadata": {},
   "source": [
    "# GraphMF"
   ]
  },
  {
   "cell_type": "markdown",
   "metadata": {},
   "source": [
    "# slices 10"
   ]
  },
  {
   "cell_type": "code",
   "execution_count": null,
   "metadata": {
    "collapsed": false,
    "pycharm": {
     "name": "#%%\n"
    }
   },
   "outputs": [],
   "source": [
    "!python Experiment.py --dataset rt --interaction NeuGraphMF --rounds 5 --slice_epochs 20 --agg_epochs 10 --density 0.10 --slices 10 --part_type 3 --save_model 1 --processed 1"
   ]
  },
  {
   "cell_type": "code",
   "execution_count": null,
   "metadata": {},
   "outputs": [],
   "source": [
    "!python Experiment.py --dataset tp --interaction NeuGraphMF --rounds 5 --slice_epochs 20 --agg_epochs 10 --density 0.10 --slices 10 --part_type 3 --save_model 1 --processed 1"
   ]
  },
  {
   "cell_type": "code",
   "execution_count": null,
   "metadata": {
    "collapsed": false,
    "pycharm": {
     "name": "#%%\n"
    }
   },
   "outputs": [],
   "source": [
    "!python Experiment.py --dataset rt --interaction NeuGraphMF --rounds 5 --slice_epochs 20 --agg_epochs 10 --density 0.15 --slices 10 --part_type 3 --save_model 1 --processed 1"
   ]
  },
  {
   "cell_type": "code",
   "execution_count": null,
   "metadata": {},
   "outputs": [],
   "source": [
    "!python Experiment.py --dataset tp --interaction NeuGraphMF --rounds 5 --slice_epochs 20 --agg_epochs 10 --density 0.15 --slices 10 --part_type 3 --save_model 1 --processed 1"
   ]
  },
  {
   "cell_type": "code",
   "execution_count": null,
   "metadata": {
    "collapsed": false,
    "pycharm": {
     "name": "#%%\n"
    }
   },
   "outputs": [],
   "source": [
    "!python Experiment.py --dataset rt --interaction NeuGraphMF --rounds 5 --slice_epochs 20 --agg_epochs 10 --density 0.20 --slices 10 --part_type 3 --save_model 1 --processed 1"
   ]
  },
  {
   "cell_type": "code",
   "execution_count": null,
   "metadata": {},
   "outputs": [],
   "source": [
    "!python Experiment.py --dataset tp --interaction NeuGraphMF --rounds 5 --slice_epochs 20 --agg_epochs 10 --density 0.20 --slices 10 --part_type 3 --save_model 1 --processed 1"
   ]
  },
  {
   "cell_type": "code",
   "execution_count": null,
   "metadata": {
    "collapsed": false,
    "pycharm": {
     "name": "#%%\n"
    }
   },
   "outputs": [],
   "source": [
    "!python Experiment.py --dataset rt --interaction NeuGraphMF --rounds 5 --slice_epochs 20 --agg_epochs 10 --density 0.25 --slices 10 --part_type 3 --save_model 1 --processed 1"
   ]
  },
  {
   "cell_type": "code",
   "execution_count": null,
   "metadata": {},
   "outputs": [],
   "source": [
    "!python Experiment.py --dataset tp --interaction NeuGraphMF --rounds 5 --slice_epochs 20 --agg_epochs 10 --density 0.25 --slices 10 --part_type 3 --save_model 1 --processed 1"
   ]
  },
  {
   "cell_type": "code",
   "execution_count": null,
   "metadata": {
    "collapsed": false,
    "pycharm": {
     "name": "#%%\n"
    }
   },
   "outputs": [],
   "source": [
    "!python Experiment.py --dataset rt --interaction NeuGraphMF --rounds 5 --slice_epochs 20 --agg_epochs 10 --density 0.30 --slices 10 --part_type 3 --save_model 1 --processed 1"
   ]
  },
  {
   "cell_type": "code",
   "execution_count": null,
   "metadata": {},
   "outputs": [],
   "source": [
    "!python Experiment.py --dataset tp --interaction NeuGraphMF --rounds 5 --slice_epochs 20 --agg_epochs 10 --density 0.30 --slices 10 --part_type 3 --save_model 1 --processed 1"
   ]
  },
  {
   "cell_type": "markdown",
   "metadata": {},
   "source": [
    "# Earser"
   ]
  },
  {
   "cell_type": "markdown",
   "metadata": {},
   "source": [
    "# NeuCF"
   ]
  },
  {
   "cell_type": "markdown",
   "metadata": {},
   "source": [
    "# slices 10"
   ]
  },
  {
   "cell_type": "code",
   "execution_count": null,
   "metadata": {
    "collapsed": false,
    "pycharm": {
     "name": "#%%\n"
    }
   },
   "outputs": [],
   "source": [
    "!python Experiment.py --dataset rt --interaction NeuCF --rounds 5 --slice_epochs 20 --agg_epochs 10 --density 0.10 --slices 10 --part_type 1 --save_model 1 --processed 1"
   ]
  },
  {
   "cell_type": "code",
   "execution_count": null,
   "metadata": {},
   "outputs": [],
   "source": [
    "!python Experiment.py --dataset tp --interaction NeuCF --rounds 5 --slice_epochs 20 --agg_epochs 10 --density 0.10 --slices 10 --part_type 1 --save_model 1 --processed 1"
   ]
  },
  {
   "cell_type": "code",
   "execution_count": null,
   "metadata": {
    "collapsed": false,
    "pycharm": {
     "name": "#%%\n"
    }
   },
   "outputs": [],
   "source": [
    "!python Experiment.py --dataset rt --interaction NeuCF --rounds 5 --slice_epochs 20 --agg_epochs 10 --density 0.15 --slices 10 --part_type 1 --save_model 1 --processed 1"
   ]
  },
  {
   "cell_type": "code",
   "execution_count": null,
   "metadata": {},
   "outputs": [],
   "source": [
    "!python Experiment.py --dataset tp --interaction NeuCF --rounds 5 --slice_epochs 20 --agg_epochs 10 --density 0.15 --slices 10 --part_type 1 --save_model 1 --processed 1"
   ]
  },
  {
   "cell_type": "code",
   "execution_count": null,
   "metadata": {
    "collapsed": false,
    "pycharm": {
     "name": "#%%\n"
    }
   },
   "outputs": [],
   "source": [
    "!python Experiment.py --dataset rt --interaction NeuCF --rounds 5 --slice_epochs 20 --agg_epochs 10 --density 0.20 --slices 10 --part_type 1 --save_model 1 --processed 1"
   ]
  },
  {
   "cell_type": "code",
   "execution_count": null,
   "metadata": {},
   "outputs": [],
   "source": [
    "!python Experiment.py --dataset tp --interaction NeuCF --rounds 5 --slice_epochs 20 --agg_epochs 10 --density 0.20 --slices 10 --part_type 1 --save_model 1 --processed 1"
   ]
  },
  {
   "cell_type": "code",
   "execution_count": null,
   "metadata": {
    "collapsed": false,
    "pycharm": {
     "name": "#%%\n"
    }
   },
   "outputs": [],
   "source": [
    "!python Experiment.py --dataset rt --interaction NeuCF --rounds 5 --slice_epochs 20 --agg_epochs 10 --density 0.25 --slices 10 --part_type 1 --save_model 1 --processed 1"
   ]
  },
  {
   "cell_type": "code",
   "execution_count": null,
   "metadata": {},
   "outputs": [],
   "source": [
    "!python Experiment.py --dataset tp --interaction NeuCF --rounds 5 --slice_epochs 20 --agg_epochs 10 --density 0.25 --slices 10 --part_type 1 --save_model 1 --processed 1"
   ]
  },
  {
   "cell_type": "code",
   "execution_count": null,
   "metadata": {
    "collapsed": false,
    "pycharm": {
     "name": "#%%\n"
    }
   },
   "outputs": [],
   "source": [
    "!python Experiment.py --dataset rt --interaction NeuCF --rounds 5 --slice_epochs 20 --agg_epochs 10 --density 0.30 --slices 10 --part_type 1 --save_model 1 --processed 1"
   ]
  },
  {
   "cell_type": "code",
   "execution_count": null,
   "metadata": {},
   "outputs": [],
   "source": [
    "!python Experiment.py --dataset tp --interaction NeuCF --rounds 5 --slice_epochs 20 --agg_epochs 10 --density 0.30 --slices 10 --part_type 1 --save_model 1 --processed 1"
   ]
  },
  {
   "cell_type": "markdown",
   "metadata": {},
   "source": [
    "# CSMF"
   ]
  },
  {
   "cell_type": "markdown",
   "metadata": {},
   "source": [
    "# slices 10"
   ]
  },
  {
   "cell_type": "code",
   "execution_count": null,
   "metadata": {
    "collapsed": false,
    "pycharm": {
     "name": "#%%\n"
    }
   },
   "outputs": [],
   "source": [
    "!python Experiment.py --dataset rt --interaction CSMF --rounds 5 --slice_epochs 20 --agg_epochs 10 --density 0.10 --slices 10 --part_type 1 --save_model 1 --processed 1"
   ]
  },
  {
   "cell_type": "code",
   "execution_count": null,
   "metadata": {},
   "outputs": [],
   "source": [
    "!python Experiment.py --dataset tp --interaction CSMF --rounds 5 --slice_epochs 20 --agg_epochs 10 --density 0.10 --slices 10 --part_type 1 --save_model 1 --processed 1"
   ]
  },
  {
   "cell_type": "code",
   "execution_count": null,
   "metadata": {
    "collapsed": false,
    "pycharm": {
     "name": "#%%\n"
    }
   },
   "outputs": [],
   "source": [
    "!python Experiment.py --dataset rt --interaction CSMF --rounds 5 --slice_epochs 20 --agg_epochs 10 --density 0.15 --slices 10 --part_type 1 --save_model 1 --processed 1"
   ]
  },
  {
   "cell_type": "code",
   "execution_count": null,
   "metadata": {},
   "outputs": [],
   "source": [
    "!python Experiment.py --dataset tp --interaction CSMF --rounds 5 --slice_epochs 20 --agg_epochs 10 --density 0.15 --slices 10 --part_type 1 --save_model 1 --processed 1"
   ]
  },
  {
   "cell_type": "code",
   "execution_count": null,
   "metadata": {
    "collapsed": false,
    "pycharm": {
     "name": "#%%\n"
    }
   },
   "outputs": [],
   "source": [
    "!python Experiment.py --dataset rt --interaction CSMF --rounds 5 --slice_epochs 20 --agg_epochs 10 --density 0.20 --slices 10 --part_type 1 --save_model 1 --processed 1"
   ]
  },
  {
   "cell_type": "code",
   "execution_count": null,
   "metadata": {},
   "outputs": [],
   "source": [
    "!python Experiment.py --dataset tp --interaction CSMF --rounds 5 --slice_epochs 20 --agg_epochs 10 --density 0.20 --slices 10 --part_type 1 --save_model 1 --processed 1"
   ]
  },
  {
   "cell_type": "code",
   "execution_count": null,
   "metadata": {
    "collapsed": false,
    "pycharm": {
     "name": "#%%\n"
    }
   },
   "outputs": [],
   "source": [
    "!python Experiment.py --dataset rt --interaction CSMF --rounds 5 --slice_epochs 20 --agg_epochs 10 --density 0.25 --slices 10 --part_type 1 --save_model 1 --processed 1"
   ]
  },
  {
   "cell_type": "code",
   "execution_count": null,
   "metadata": {},
   "outputs": [],
   "source": [
    "!python Experiment.py --dataset tp --interaction CSMF --rounds 5 --slice_epochs 20 --agg_epochs 10 --density 0.25 --slices 10 --part_type 1 --save_model 1 --processed 1"
   ]
  },
  {
   "cell_type": "code",
   "execution_count": null,
   "metadata": {
    "collapsed": false,
    "pycharm": {
     "name": "#%%\n"
    }
   },
   "outputs": [],
   "source": [
    "!python Experiment.py --dataset rt --interaction CSMF --rounds 5 --slice_epochs 20 --agg_epochs 10 --density 0.30 --slices 10 --part_type 1 --save_model 1 --processed 1"
   ]
  },
  {
   "cell_type": "code",
   "execution_count": null,
   "metadata": {},
   "outputs": [],
   "source": [
    "!python Experiment.py --dataset tp --interaction CSMF --rounds 5 --slice_epochs 20 --agg_epochs 10 --density 0.30 --slices 10 --part_type 1 --save_model 1 --processed 1"
   ]
  },
  {
   "cell_type": "markdown",
   "metadata": {},
   "source": [
    "# GraphMF"
   ]
  },
  {
   "cell_type": "markdown",
   "metadata": {},
   "source": [
    "# slices 10"
   ]
  },
  {
   "cell_type": "code",
   "execution_count": null,
   "metadata": {
    "collapsed": false,
    "pycharm": {
     "name": "#%%\n"
    }
   },
   "outputs": [],
   "source": [
    "!python Experiment.py --dataset rt --interaction NeuGraphMF --rounds 5 --slice_epochs 20 --agg_epochs 10 --density 0.10 --slices 10 --part_type 1 --save_model 1 --processed 1"
   ]
  },
  {
   "cell_type": "code",
   "execution_count": null,
   "metadata": {},
   "outputs": [],
   "source": [
    "!python Experiment.py --dataset tp --interaction NeuGraphMF --rounds 5 --slice_epochs 20 --agg_epochs 10 --density 0.10 --slices 10 --part_type 1 --save_model 1 --processed 1"
   ]
  },
  {
   "cell_type": "code",
   "execution_count": null,
   "metadata": {
    "collapsed": false,
    "pycharm": {
     "name": "#%%\n"
    }
   },
   "outputs": [],
   "source": [
    "!python Experiment.py --dataset rt --interaction NeuGraphMF --rounds 5 --slice_epochs 20 --agg_epochs 10 --density 0.15 --slices 10 --part_type 1 --save_model 1 --processed 1"
   ]
  },
  {
   "cell_type": "code",
   "execution_count": null,
   "metadata": {},
   "outputs": [],
   "source": [
    "!python Experiment.py --dataset tp --interaction NeuGraphMF --rounds 5 --slice_epochs 20 --agg_epochs 10 --density 0.15 --slices 10 --part_type 1 --save_model 1 --processed 1"
   ]
  },
  {
   "cell_type": "code",
   "execution_count": null,
   "metadata": {
    "collapsed": false,
    "pycharm": {
     "name": "#%%\n"
    }
   },
   "outputs": [],
   "source": [
    "!python Experiment.py --dataset rt --interaction NeuGraphMF --rounds 5 --slice_epochs 20 --agg_epochs 10 --density 0.20 --slices 10 --part_type 1 --save_model 1 --processed 1"
   ]
  },
  {
   "cell_type": "code",
   "execution_count": null,
   "metadata": {},
   "outputs": [],
   "source": [
    "!python Experiment.py --dataset tp --interaction NeuGraphMF --rounds 5 --slice_epochs 20 --agg_epochs 10 --density 0.20 --slices 10 --part_type 1 --save_model 1 --processed 1"
   ]
  },
  {
   "cell_type": "code",
   "execution_count": null,
   "metadata": {
    "collapsed": false,
    "pycharm": {
     "name": "#%%\n"
    }
   },
   "outputs": [],
   "source": [
    "!python Experiment.py --dataset rt --interaction NeuGraphMF --rounds 5 --slice_epochs 20 --agg_epochs 10 --density 0.25 --slices 10 --part_type 1 --save_model 1 --processed 1"
   ]
  },
  {
   "cell_type": "code",
   "execution_count": null,
   "metadata": {},
   "outputs": [],
   "source": [
    "!python Experiment.py --dataset tp --interaction NeuGraphMF --rounds 5 --slice_epochs 20 --agg_epochs 10 --density 0.25 --slices 10 --part_type 1 --save_model 1 --processed 1"
   ]
  },
  {
   "cell_type": "code",
   "execution_count": null,
   "metadata": {
    "collapsed": false,
    "pycharm": {
     "name": "#%%\n"
    }
   },
   "outputs": [],
   "source": [
    "!python Experiment.py --dataset rt --interaction NeuGraphMF --rounds 5 --slice_epochs 20 --agg_epochs 10 --density 0.30 --slices 10 --part_type 1 --save_model 1 --processed 1"
   ]
  },
  {
   "cell_type": "code",
   "execution_count": null,
   "metadata": {},
   "outputs": [],
   "source": [
    "!python Experiment.py --dataset tp --interaction NeuGraphMF --rounds 5 --slice_epochs 20 --agg_epochs 10 --density 0.30 --slices 10 --part_type 1 --save_model 1 --processed 1"
   ]
  }
 ],
 "metadata": {
  "kernelspec": {
   "display_name": "Python 3.8.5 ('base')",
   "language": "python",
   "name": "python3"
  },
  "language_info": {
   "codemirror_mode": {
    "name": "ipython",
    "version": 3
   },
   "file_extension": ".py",
   "mimetype": "text/x-python",
   "name": "python",
   "nbconvert_exporter": "python",
   "pygments_lexer": "ipython3",
   "version": "3.8.5"
  },
  "orig_nbformat": 4,
  "vscode": {
   "interpreter": {
    "hash": "eb7c85c17b1976aa789c9d87b9763b6f005911cd226333300bbe1880120eaefe"
   }
  }
 },
 "nbformat": 4,
 "nbformat_minor": 2
}
