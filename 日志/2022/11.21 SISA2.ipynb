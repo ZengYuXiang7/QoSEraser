{
 "cells": [
  {
   "cell_type": "markdown",
   "metadata": {
    "collapsed": false
   },
   "source": [
    "# Slices\n",
    "\n"
   ]
  },
  {
   "cell_type": "markdown",
   "metadata": {
    "collapsed": false
   },
   "source": [
    "# Density : 0.10"
   ]
  },
  {
   "cell_type": "markdown",
   "metadata": {
    "collapsed": false
   },
   "source": [
    "### SISA2"
   ]
  },
  {
   "cell_type": "code",
   "execution_count": null,
   "metadata": {
    "collapsed": false
   },
   "outputs": [],
   "source": [
    "!python Experiment.py --dataset rt --interaction NeuCF --rounds 1 --slice_epochs 25 --agg_epochs 10 --density 0.10 --slices 10 --part_type 2 --save_model 1 --processed 1"
   ]
  },
  {
   "cell_type": "code",
   "execution_count": null,
   "metadata": {
    "collapsed": false
   },
   "outputs": [],
   "source": [
    "!python Experiment.py --dataset tp --interaction NeuCF --rounds 1 --slice_epochs 25 --agg_epochs 10 --density 0.10 --slices 10 --part_type 2 --save_model 1 --processed 1"
   ]
  },
  {
   "cell_type": "code",
   "execution_count": null,
   "metadata": {
    "collapsed": false
   },
   "outputs": [],
   "source": [
    "!python Experiment.py --dataset rt --interaction CSMF --rounds 1 --slice_epochs 20 --agg_epochs 15 --density 0.10 --slices 10 --part_type 2 --save_model 1 --processed 1"
   ]
  },
  {
   "cell_type": "code",
   "execution_count": null,
   "metadata": {
    "collapsed": false
   },
   "outputs": [],
   "source": [
    "!python Experiment.py --dataset tp --interaction CSMF --rounds 1 --slice_epochs 25 --agg_epochs 15 --density 0.10 --slices 10 --part_type 2 --save_model 1 --processed 1"
   ]
  },
  {
   "cell_type": "code",
   "execution_count": null,
   "metadata": {
    "collapsed": false
   },
   "outputs": [],
   "source": [
    "!python Experiment.py --dataset rt --interaction NeuGraphMF --rounds 1 --slice_epochs 20 --agg_epochs 10 --density 0.10 --slices 10 --part_type 2 --save_model 1 --processed 1"
   ]
  },
  {
   "cell_type": "code",
   "execution_count": null,
   "metadata": {
    "collapsed": false
   },
   "outputs": [],
   "source": [
    "!python Experiment.py --dataset rt --interaction NeuGraphMF --rounds 1 --slice_epochs 20 --agg_epochs 10 --density 0.10 --slices 10 --part_type 2 --save_model 1 --processed 1"
   ]
  },
  {
   "cell_type": "markdown",
   "metadata": {
    "collapsed": false
   },
   "source": [
    "*****"
   ]
  },
  {
   "cell_type": "markdown",
   "metadata": {
    "collapsed": false
   },
   "source": [
    "## Density : 0.15"
   ]
  },
  {
   "cell_type": "markdown",
   "metadata": {
    "collapsed": false
   },
   "source": [
    "### SISA2"
   ]
  },
  {
   "cell_type": "code",
   "execution_count": null,
   "metadata": {
    "collapsed": false
   },
   "outputs": [],
   "source": [
    "!python Experiment.py --dataset rt --interaction NeuCF --rounds 1 --slice_epochs 25 --agg_epochs 10 --density 0.15 --slices 10 --part_type 2 --save_model 1 --processed 1"
   ]
  },
  {
   "cell_type": "code",
   "execution_count": null,
   "metadata": {
    "collapsed": false
   },
   "outputs": [],
   "source": [
    "!python Experiment.py --dataset tp --interaction NeuCF --rounds 1 --slice_epochs 25 --agg_epochs 10 --density 0.15 --slices 10 --part_type 2 --save_model 1 --processed 1"
   ]
  },
  {
   "cell_type": "code",
   "execution_count": null,
   "metadata": {
    "collapsed": false
   },
   "outputs": [],
   "source": [
    "!python Experiment.py --dataset rt --interaction CSMF --rounds 1 --slice_epochs 25 --agg_epochs 15 --density 0.15 --slices 10 --part_type 2 --save_model 1 --processed 1"
   ]
  },
  {
   "cell_type": "code",
   "execution_count": null,
   "metadata": {
    "collapsed": false
   },
   "outputs": [],
   "source": [
    "!python Experiment.py --dataset tp --interaction CSMF --rounds 1 --slice_epochs 25 --agg_epochs 15 --density 0.15 --slices 10 --part_type 2 --save_model 1 --processed 1"
   ]
  },
  {
   "cell_type": "code",
   "execution_count": null,
   "metadata": {
    "collapsed": false
   },
   "outputs": [],
   "source": [
    "!python Experiment.py --dataset rt --interaction NeuGraphMF --rounds 1 --slice_epochs 20 --agg_epochs 10 --density 0.15 --slices 10 --part_type 2 --save_model 1 --processed 1"
   ]
  },
  {
   "cell_type": "code",
   "execution_count": null,
   "metadata": {
    "collapsed": false
   },
   "outputs": [],
   "source": [
    "!python Experiment.py --dataset rt --interaction NeuGraphMF --rounds 1 --slice_epochs 20 --agg_epochs 10 --density 0.15 --slices 10 --part_type 2 --save_model 1 --processed 1"
   ]
  },
  {
   "cell_type": "markdown",
   "metadata": {
    "collapsed": false
   },
   "source": [
    "*****"
   ]
  },
  {
   "cell_type": "markdown",
   "metadata": {
    "collapsed": false
   },
   "source": [
    "## Density : 0.20"
   ]
  },
  {
   "cell_type": "markdown",
   "metadata": {
    "collapsed": false
   },
   "source": [
    "### SISA2"
   ]
  },
  {
   "cell_type": "code",
   "execution_count": null,
   "metadata": {
    "collapsed": false
   },
   "outputs": [],
   "source": [
    "!python Experiment.py --dataset rt --interaction NeuCF --rounds 1 --slice_epochs 25 --agg_epochs 10 --density 0.20 --slices 10 --part_type 2 --save_model 1 --processed 1"
   ]
  },
  {
   "cell_type": "code",
   "execution_count": null,
   "metadata": {
    "collapsed": false
   },
   "outputs": [],
   "source": [
    "!python Experiment.py --dataset tp --interaction NeuCF --rounds 1 --slice_epochs 25 --agg_epochs 10 --density 0.20 --slices 10 --part_type 2 --save_model 1 --processed 1"
   ]
  },
  {
   "cell_type": "code",
   "execution_count": null,
   "metadata": {
    "collapsed": false
   },
   "outputs": [],
   "source": [
    "!python Experiment.py --dataset rt --interaction CSMF --rounds 1 --slice_epochs 25 --agg_epochs 15 --density 0.20 --slices 10 --part_type 2 --save_model 1 --processed 1"
   ]
  },
  {
   "cell_type": "code",
   "execution_count": null,
   "metadata": {
    "collapsed": false
   },
   "outputs": [],
   "source": [
    "!python Experiment.py --dataset tp --interaction CSMF --rounds 1 --slice_epochs 25 --agg_epochs 15 --density 0.20 --slices 10 --part_type 2 --save_model 1 --processed 1"
   ]
  },
  {
   "cell_type": "code",
   "execution_count": null,
   "metadata": {
    "collapsed": false
   },
   "outputs": [],
   "source": [
    "!python Experiment.py --dataset rt --interaction NeuGraphMF --rounds 1 --slice_epochs 20 --agg_epochs 10 --density 0.20 --slices 10 --part_type 2 --save_model 1 --processed 1"
   ]
  },
  {
   "cell_type": "code",
   "execution_count": null,
   "metadata": {
    "collapsed": false
   },
   "outputs": [],
   "source": [
    "!python Experiment.py --dataset rt --interaction NeuGraphMF --rounds 1 --slice_epochs 20 --agg_epochs 10 --density 0.20 --slices 10 --part_type 2 --save_model 1 --processed 1"
   ]
  },
  {
   "cell_type": "markdown",
   "metadata": {
    "collapsed": false
   },
   "source": [
    "*****"
   ]
  },
  {
   "cell_type": "markdown",
   "metadata": {
    "collapsed": false
   },
   "source": [
    "## Density : 0.25"
   ]
  },
  {
   "cell_type": "markdown",
   "metadata": {
    "collapsed": false
   },
   "source": [
    "### SISA2"
   ]
  },
  {
   "cell_type": "code",
   "execution_count": null,
   "metadata": {
    "collapsed": false
   },
   "outputs": [],
   "source": [
    "!python Experiment.py --dataset rt --interaction NeuCF --rounds 1 --slice_epochs 25 --agg_epochs 10 --density 0.25 --slices 10 --part_type 2 --save_model 1 --processed 1"
   ]
  },
  {
   "cell_type": "code",
   "execution_count": null,
   "metadata": {
    "collapsed": false
   },
   "outputs": [],
   "source": [
    "!python Experiment.py --dataset tp --interaction NeuCF --rounds 1 --slice_epochs 25 --agg_epochs 10 --density 0.25 --slices 10 --part_type 2 --save_model 1 --processed 1"
   ]
  },
  {
   "cell_type": "code",
   "execution_count": null,
   "metadata": {
    "collapsed": false
   },
   "outputs": [],
   "source": [
    "!python Experiment.py --dataset rt --interaction CSMF --rounds 1 --slice_epochs 25 --agg_epochs 15 --density 0.25 --slices 10 --part_type 2 --save_model 1 --processed 1"
   ]
  },
  {
   "cell_type": "code",
   "execution_count": null,
   "metadata": {
    "collapsed": false
   },
   "outputs": [],
   "source": [
    "!python Experiment.py --dataset tp --interaction CSMF --rounds 1 --slice_epochs 25 --agg_epochs 15 --density 0.25 --slices 10 --part_type 2 --save_model 1 --processed 1"
   ]
  },
  {
   "cell_type": "code",
   "execution_count": null,
   "metadata": {
    "collapsed": false
   },
   "outputs": [],
   "source": [
    "!python Experiment.py --dataset rt --interaction NeuGraphMF --rounds 1 --slice_epochs 20 --agg_epochs 10 --density 0.25 --slices 10 --part_type 2 --save_model 1 --processed 1"
   ]
  },
  {
   "cell_type": "code",
   "execution_count": null,
   "metadata": {
    "collapsed": false
   },
   "outputs": [],
   "source": [
    "!python Experiment.py --dataset rt --interaction NeuGraphMF --rounds 1 --slice_epochs 20 --agg_epochs 10 --density 0.25 --slices 10 --part_type 2 --save_model 1 --processed 1"
   ]
  },
  {
   "cell_type": "markdown",
   "metadata": {
    "collapsed": false
   },
   "source": [
    "*****"
   ]
  },
  {
   "cell_type": "markdown",
   "metadata": {
    "collapsed": false
   },
   "source": [
    "## Density : 0.30"
   ]
  },
  {
   "cell_type": "markdown",
   "metadata": {
    "collapsed": false
   },
   "source": [
    "### SISA2"
   ]
  },
  {
   "cell_type": "code",
   "execution_count": null,
   "metadata": {
    "collapsed": false
   },
   "outputs": [],
   "source": [
    "!python Experiment.py --dataset rt --interaction NeuCF --rounds 1 --slice_epochs 25 --agg_epochs 10 --density 0.30 --slices 10 --part_type 2 --save_model 1 --processed 1"
   ]
  },
  {
   "cell_type": "code",
   "execution_count": null,
   "metadata": {
    "collapsed": false
   },
   "outputs": [],
   "source": [
    "!python Experiment.py --dataset tp --interaction NeuCF --rounds 1 --slice_epochs 25 --agg_epochs 10 --density 0.30 --slices 10 --part_type 2 --save_model 1 --processed 1"
   ]
  },
  {
   "cell_type": "code",
   "execution_count": null,
   "metadata": {
    "collapsed": false
   },
   "outputs": [],
   "source": [
    "!python Experiment.py --dataset rt --interaction CSMF --rounds 1 --slice_epochs 25 --agg_epochs 15 --density 0.30 --slices 10 --part_type 2 --save_model 1 --processed 1"
   ]
  },
  {
   "cell_type": "code",
   "execution_count": null,
   "metadata": {
    "collapsed": false
   },
   "outputs": [],
   "source": [
    "!python Experiment.py --dataset tp --interaction CSMF --rounds 1 --slice_epochs 25 --agg_epochs 15 --density 0.30 --slices 10 --part_type 2 --save_model 1 --processed 1"
   ]
  },
  {
   "cell_type": "code",
   "execution_count": null,
   "metadata": {
    "collapsed": false
   },
   "outputs": [],
   "source": [
    "!python Experiment.py --dataset rt --interaction NeuGraphMF --rounds 1 --slice_epochs 20 --agg_epochs 10 --density 0.30 --slices 10 --part_type 2 --save_model 1 --processed 1"
   ]
  },
  {
   "cell_type": "code",
   "execution_count": null,
   "metadata": {
    "collapsed": false
   },
   "outputs": [],
   "source": [
    "!python Experiment.py --dataset rt --interaction NeuGraphMF --rounds 1 --slice_epochs 20 --agg_epochs 10 --density 0.30 --slices 10 --part_type 2 --save_model 1 --processed 1"
   ]
  }
 ],
 "metadata": {
  "language_info": {
   "name": "python"
  },
  "orig_nbformat": 4
 },
 "nbformat": 4,
 "nbformat_minor": 2
}
