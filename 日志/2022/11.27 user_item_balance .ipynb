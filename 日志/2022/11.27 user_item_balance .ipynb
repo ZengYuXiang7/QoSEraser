{
 "cells": [
  {
   "cell_type": "markdown",
   "source": [],
   "metadata": {
    "collapsed": false
   }
  },
  {
   "cell_type": "markdown",
   "source": [
    "# Density : 0.10"
   ],
   "metadata": {
    "collapsed": false
   }
  },
  {
   "cell_type": "markdown",
   "source": [
    "### Eraser"
   ],
   "metadata": {
    "collapsed": false
   }
  },
  {
   "cell_type": "code",
   "execution_count": null,
   "outputs": [],
   "source": [
    "!python Experiment.py --dataset rt --interaction NeuCF --rounds 2 --slice_epochs 15 --agg_epochs 10 --density 0.10 --slices 10 --part_type 1 --save_model 0 --processed 1 --balance 1"
   ],
   "metadata": {
    "collapsed": false
   }
  },
  {
   "cell_type": "code",
   "execution_count": null,
   "outputs": [],
   "source": [
    "!python Experiment.py --dataset tp --interaction NeuCF --rounds 2 --slice_epochs 15 --agg_epochs 10 --density 0.10 --slices 10 --part_type 1 --save_model 0 --processed 1  --balance 1"
   ],
   "metadata": {
    "collapsed": false
   }
  },
  {
   "cell_type": "code",
   "execution_count": null,
   "outputs": [],
   "source": [
    "!python Experiment.py --dataset rt --interaction CSMF --rounds 2 --slice_epochs 15 --agg_epochs 10 --density 0.10 --slices 10 --part_type 1 --save_model 0 --processed 1  --balance 1"
   ],
   "metadata": {
    "collapsed": false
   }
  },
  {
   "cell_type": "code",
   "execution_count": null,
   "outputs": [],
   "source": [
    "!python Experiment.py --dataset tp --interaction CSMF --rounds 2 --slice_epochs 15 --agg_epochs 10 --density 0.10 --slices 10 --part_type 1 --save_model 0 --processed 1"
   ],
   "metadata": {
    "collapsed": false
   }
  },
  {
   "cell_type": "code",
   "execution_count": null,
   "outputs": [],
   "source": [
    "# !python Experiment.py --dataset rt --interaction NeuGraphMF --rounds 2 --slice_epochs 15 --agg_epochs 10 --density 0.10 --slices 10 --part_type 1 --save_model 0 --processed 1"
   ],
   "metadata": {
    "collapsed": false
   }
  },
  {
   "cell_type": "code",
   "execution_count": null,
   "outputs": [],
   "source": [
    "# !python Experiment.py --dataset rt --interaction NeuGraphMF --rounds 2 --slice_epochs 15 --agg_epochs 10 --density 0.10 --slices 10 --part_type 1 --save_model 0 --processed 1"
   ],
   "metadata": {
    "collapsed": false
   }
  },
  {
   "cell_type": "code",
   "execution_count": null,
   "outputs": [],
   "source": [
    "!python Experiment.py --dataset rt --interaction Pure_Mf --rounds 2 --slice_epochs 15 --agg_epochs 10 --density 0.10 --slices 10 --part_type 1 --save_model 0 --processed 1 --balance 1"
   ],
   "metadata": {
    "collapsed": false
   }
  },
  {
   "cell_type": "code",
   "execution_count": null,
   "outputs": [],
   "source": [
    "!python Experiment.py --dataset tp --interaction Pure_Mf --rounds 2 --slice_epochs 15 --agg_epochs 10 --density 0.10 --slices 10 --part_type 1 --save_model 0 --processed 1 --balance 1"
   ],
   "metadata": {
    "collapsed": false
   }
  },
  {
   "cell_type": "markdown",
   "source": [
    "*****"
   ],
   "metadata": {
    "collapsed": false
   }
  },
  {
   "cell_type": "markdown",
   "source": [
    "## Density : 0.15"
   ],
   "metadata": {
    "collapsed": false
   }
  },
  {
   "cell_type": "markdown",
   "source": [
    "### Eraser"
   ],
   "metadata": {
    "collapsed": false
   }
  },
  {
   "cell_type": "code",
   "execution_count": null,
   "outputs": [],
   "source": [
    "!python Experiment.py --dataset rt --interaction NeuCF --rounds 2 --slice_epochs 15 --agg_epochs 10 --density 0.15 --slices 10 --part_type 1 --save_model 0 --processed 1 --balance 1"
   ],
   "metadata": {
    "collapsed": false
   }
  },
  {
   "cell_type": "code",
   "execution_count": null,
   "outputs": [],
   "source": [
    "!python Experiment.py --dataset tp --interaction NeuCF --rounds 2 --slice_epochs 15 --agg_epochs 10 --density 0.15 --slices 10 --part_type 1 --save_model 0 --processed 1 --balance 1"
   ],
   "metadata": {
    "collapsed": false
   }
  },
  {
   "cell_type": "code",
   "execution_count": null,
   "outputs": [],
   "source": [
    "!python Experiment.py --dataset rt --interaction CSMF --rounds 2 --slice_epochs 15 --agg_epochs 10 --density 0.15 --slices 10 --part_type 1 --save_model 0 --processed 1 --balance 1"
   ],
   "metadata": {
    "collapsed": false
   }
  },
  {
   "cell_type": "code",
   "execution_count": null,
   "outputs": [],
   "source": [
    "!python Experiment.py --dataset tp --interaction CSMF --rounds 2 --slice_epochs 15 --agg_epochs 10 --density 0.15 --slices 10 --part_type 1 --save_model 0 --processed 1 --balance 1"
   ],
   "metadata": {
    "collapsed": false
   }
  },
  {
   "cell_type": "code",
   "execution_count": null,
   "outputs": [],
   "source": [
    "# !python Experiment.py --dataset rt --interaction NeuGraphMF --rounds 2 --slice_epochs 15 --agg_epochs 10 --density 0.15 --slices 10 --part_type 1 --save_model 0 --processed 1 --balance 1"
   ],
   "metadata": {
    "collapsed": false
   }
  },
  {
   "cell_type": "code",
   "execution_count": null,
   "outputs": [],
   "source": [
    "# !python Experiment.py --dataset rt --interaction NeuGraphMF --rounds 2 --slice_epochs 15 --agg_epochs 10 --density 0.15 --slices 10 --part_type 1 --save_model 0 --processed 1 --balance 1"
   ],
   "metadata": {
    "collapsed": false
   }
  },
  {
   "cell_type": "code",
   "execution_count": null,
   "outputs": [],
   "source": [
    "!python Experiment.py --dataset rt --interaction Pure_Mf --rounds 2 --slice_epochs 15 --agg_epochs 10 --density 0.15 --slices 10 --part_type 1 --save_model 0 --processed 1 --balance 1"
   ],
   "metadata": {
    "collapsed": false
   }
  },
  {
   "cell_type": "code",
   "execution_count": null,
   "outputs": [],
   "source": [
    "!python Experiment.py --dataset tp --interaction Pure_Mf --rounds 2 --slice_epochs 15 --agg_epochs 10 --density 0.15 --slices 10 --part_type 1 --save_model 0 --processed 1 --balance 1"
   ],
   "metadata": {
    "collapsed": false
   }
  },
  {
   "cell_type": "markdown",
   "source": [
    "*****"
   ],
   "metadata": {
    "collapsed": false
   }
  },
  {
   "cell_type": "markdown",
   "source": [
    "## Density : 0.20"
   ],
   "metadata": {
    "collapsed": false
   }
  },
  {
   "cell_type": "markdown",
   "source": [
    "### Eraser"
   ],
   "metadata": {
    "collapsed": false
   }
  },
  {
   "cell_type": "code",
   "execution_count": null,
   "outputs": [],
   "source": [
    "!python Experiment.py --dataset rt --interaction NeuCF --rounds 2 --slice_epochs 15 --agg_epochs 10 --density 0.20 --slices 10 --part_type 1 --save_model 0 --processed 1 --balance 1"
   ],
   "metadata": {
    "collapsed": false
   }
  },
  {
   "cell_type": "code",
   "execution_count": null,
   "outputs": [],
   "source": [
    "!python Experiment.py --dataset tp --interaction NeuCF --rounds 2 --slice_epochs 15 --agg_epochs 10 --density 0.20 --slices 10 --part_type 1 --save_model 0 --processed 1 --balance 1"
   ],
   "metadata": {
    "collapsed": false
   }
  },
  {
   "cell_type": "code",
   "execution_count": null,
   "outputs": [],
   "source": [
    "!python Experiment.py --dataset rt --interaction CSMF --rounds 2 --slice_epochs 15 --agg_epochs 10 --density 0.20 --slices 10 --part_type 1 --save_model 0 --processed 1 --balance 1"
   ],
   "metadata": {
    "collapsed": false
   }
  },
  {
   "cell_type": "code",
   "execution_count": null,
   "outputs": [],
   "source": [
    "!python Experiment.py --dataset tp --interaction CSMF --rounds 2 --slice_epochs 15 --agg_epochs 10 --density 0.20 --slices 10 --part_type 1 --save_model 0 --processed 1 --balance 1"
   ],
   "metadata": {
    "collapsed": false
   }
  },
  {
   "cell_type": "code",
   "execution_count": null,
   "outputs": [],
   "source": [
    "# !python Experiment.py --dataset rt --interaction NeuGraphMF --rounds 2 --slice_epochs 15 --agg_epochs 10 --density 0.20 --slices 10 --part_type 1 --save_model 0 --processed 1 --balance 1"
   ],
   "metadata": {
    "collapsed": false
   }
  },
  {
   "cell_type": "code",
   "execution_count": null,
   "outputs": [],
   "source": [
    "# !python Experiment.py --dataset rt --interaction NeuGraphMF --rounds 2 --slice_epochs 15 --agg_epochs 10 --density 0.20 --slices 10 --part_type 1 --save_model 0 --processed 1 --balance 1"
   ],
   "metadata": {
    "collapsed": false
   }
  },
  {
   "cell_type": "code",
   "execution_count": null,
   "outputs": [],
   "source": [
    "!python Experiment.py --dataset rt --interaction Pure_Mf --rounds 2 --slice_epochs 15 --agg_epochs 10 --density 0.20 --slices 10 --part_type 1 --save_model 0 --processed 1 --balance 1"
   ],
   "metadata": {
    "collapsed": false
   }
  },
  {
   "cell_type": "code",
   "execution_count": null,
   "outputs": [],
   "source": [
    "!python Experiment.py --dataset tp --interaction Pure_Mf --rounds 2 --slice_epochs 15 --agg_epochs 10 --density 0.20 --slices 10 --part_type 1 --save_model 0 --processed 1 --balance 1"
   ],
   "metadata": {
    "collapsed": false
   }
  },
  {
   "cell_type": "markdown",
   "source": [
    "*****"
   ],
   "metadata": {
    "collapsed": false
   }
  },
  {
   "cell_type": "markdown",
   "source": [
    "## Density : 0.20"
   ],
   "metadata": {
    "collapsed": false
   }
  },
  {
   "cell_type": "markdown",
   "source": [
    "### Eraser"
   ],
   "metadata": {
    "collapsed": false
   }
  },
  {
   "cell_type": "code",
   "execution_count": null,
   "outputs": [],
   "source": [
    "!python Experiment.py --dataset rt --interaction NeuCF --rounds 2 --slice_epochs 15 --agg_epochs 10 --density 0.25 --slices 10 --part_type 1 --save_model 0 --processed 1 --balance 1"
   ],
   "metadata": {
    "collapsed": false
   }
  },
  {
   "cell_type": "code",
   "execution_count": null,
   "outputs": [],
   "source": [
    "!python Experiment.py --dataset tp --interaction NeuCF --rounds 2 --slice_epochs 15 --agg_epochs 10 --density 0.25 --slices 10 --part_type 1 --save_model 0 --processed 1 --balance 1"
   ],
   "metadata": {
    "collapsed": false
   }
  },
  {
   "cell_type": "code",
   "execution_count": null,
   "outputs": [],
   "source": [
    "!python Experiment.py --dataset rt --interaction CSMF --rounds 2 --slice_epochs 15 --agg_epochs 10 --density 0.25 --slices 10 --part_type 1 --save_model 0 --processed 1 --balance 1"
   ],
   "metadata": {
    "collapsed": false
   }
  },
  {
   "cell_type": "code",
   "execution_count": null,
   "outputs": [],
   "source": [
    "!python Experiment.py --dataset tp --interaction CSMF --rounds 2 --slice_epochs 15 --agg_epochs 10 --density 0.25 --slices 10 --part_type 1 --save_model 0 --processed 1 --balance 1"
   ],
   "metadata": {
    "collapsed": false
   }
  },
  {
   "cell_type": "code",
   "execution_count": null,
   "outputs": [],
   "source": [
    "# !python Experiment.py --dataset rt --interaction NeuGraphMF --rounds 2 --slice_epochs 15 --agg_epochs 10 --density 0.25 --slices 10 --part_type 1 --save_model 0 --processed 1 --balance 1"
   ],
   "metadata": {
    "collapsed": false
   }
  },
  {
   "cell_type": "code",
   "execution_count": null,
   "outputs": [],
   "source": [
    "# !python Experiment.py --dataset rt --interaction NeuGraphMF --rounds 2 --slice_epochs 15 --agg_epochs 10 --density 0.25 --slices 10 --part_type 1 --save_model 0 --processed 1 --balance 1"
   ],
   "metadata": {
    "collapsed": false
   }
  },
  {
   "cell_type": "code",
   "execution_count": null,
   "outputs": [],
   "source": [
    "!python Experiment.py --dataset rt --interaction Pure_Mf --rounds 2 --slice_epochs 15 --agg_epochs 10 --density 0.25 --slices 10 --part_type 1 --save_model 0 --processed 1 --balance 1"
   ],
   "metadata": {
    "collapsed": false
   }
  },
  {
   "cell_type": "code",
   "execution_count": null,
   "outputs": [],
   "source": [
    "!python Experiment.py --dataset tp --interaction Pure_Mf --rounds 2 --slice_epochs 15 --agg_epochs 10 --density 0.25 --slices 10 --part_type 1 --save_model 0 --processed 1 --balance 1"
   ],
   "metadata": {
    "collapsed": false
   }
  },
  {
   "cell_type": "markdown",
   "source": [
    "*****"
   ],
   "metadata": {
    "collapsed": false
   }
  },
  {
   "cell_type": "markdown",
   "source": [
    "## Density : 0.30"
   ],
   "metadata": {
    "collapsed": false
   }
  },
  {
   "cell_type": "markdown",
   "source": [
    "### Eraser"
   ],
   "metadata": {
    "collapsed": false
   }
  },
  {
   "cell_type": "code",
   "execution_count": null,
   "outputs": [],
   "source": [
    "!python Experiment.py --dataset rt --interaction NeuCF --rounds 2 --slice_epochs 15 --agg_epochs 10 --density 0.30 --slices 10 --part_type 1 --save_model 0 --processed 1 --balance 1"
   ],
   "metadata": {
    "collapsed": false
   }
  },
  {
   "cell_type": "code",
   "execution_count": null,
   "outputs": [],
   "source": [
    "!python Experiment.py --dataset tp --interaction NeuCF --rounds 2 --slice_epochs 15 --agg_epochs 10 --density 0.30 --slices 10 --part_type 1 --save_model 0 --processed 1 --balance 1"
   ],
   "metadata": {
    "collapsed": false
   }
  },
  {
   "cell_type": "code",
   "execution_count": null,
   "outputs": [],
   "source": [
    "!python Experiment.py --dataset rt --interaction CSMF --rounds 2 --slice_epochs 15 --agg_epochs 10 --density 0.30 --slices 10 --part_type 1 --save_model 0 --processed 1 --balance 1"
   ],
   "metadata": {
    "collapsed": false
   }
  },
  {
   "cell_type": "code",
   "execution_count": null,
   "outputs": [],
   "source": [
    "!python Experiment.py --dataset tp --interaction CSMF --rounds 2 --slice_epochs 15 --agg_epochs 10 --density 0.30 --slices 10 --part_type 1 --save_model 0 --processed 1 --balance 1"
   ],
   "metadata": {
    "collapsed": false
   }
  },
  {
   "cell_type": "code",
   "execution_count": null,
   "outputs": [],
   "source": [
    "# !python Experiment.py --dataset rt --interaction NeuGraphMF --rounds 2 --slice_epochs 15 --agg_epochs 10 --density 0.30 --slices 10 --part_type 1 --save_model 0 --processed 1 --balance 1"
   ],
   "metadata": {
    "collapsed": false
   }
  },
  {
   "cell_type": "code",
   "execution_count": null,
   "outputs": [],
   "source": [
    "# !python Experiment.py --dataset rt --interaction NeuGraphMF --rounds 2 --slice_epochs 15 --agg_epochs 10 --density 0.30 --slices 10 --part_type 1 --save_model 0 --processed 1 --balance 1"
   ],
   "metadata": {
    "collapsed": false
   }
  },
  {
   "cell_type": "code",
   "execution_count": null,
   "outputs": [],
   "source": [
    "!python Experiment.py --dataset rt --interaction Pure_Mf --rounds 2 --slice_epochs 15 --agg_epochs 10 --density 0.30 --slices 10 --part_type 1 --save_model 0 --processed 1 --balance 1"
   ],
   "metadata": {
    "collapsed": false
   }
  },
  {
   "cell_type": "code",
   "execution_count": null,
   "outputs": [],
   "source": [
    "!python Experiment.py --dataset tp --interaction Pure_Mf --rounds 2 --slice_epochs 15 --agg_epochs 10 --density 0.30 --slices 10 --part_type 1 --save_model 0 --processed 1 --balance 1"
   ],
   "metadata": {
    "collapsed": false
   }
  },
  {
   "cell_type": "markdown",
   "source": [
    "# Density : 0.10"
   ],
   "metadata": {
    "collapsed": false
   }
  },
  {
   "cell_type": "markdown",
   "source": [
    "### Eraser"
   ],
   "metadata": {
    "collapsed": false
   }
  },
  {
   "cell_type": "code",
   "execution_count": null,
   "outputs": [],
   "source": [
    "!python Experiment.py --dataset rt --interaction NeuCF --rounds 2 --slice_epochs 15 --agg_epochs 10 --density 0.10 --slices 10 --part_type 4 --save_model 0 --processed 1 --balance 1"
   ],
   "metadata": {
    "collapsed": false
   }
  },
  {
   "cell_type": "code",
   "execution_count": null,
   "outputs": [],
   "source": [
    "!python Experiment.py --dataset tp --interaction NeuCF --rounds 2 --slice_epochs 15 --agg_epochs 10 --density 0.10 --slices 10 --part_type 4 --save_model 0 --processed 1 --balance 1"
   ],
   "metadata": {
    "collapsed": false
   }
  },
  {
   "cell_type": "code",
   "execution_count": null,
   "outputs": [],
   "source": [
    "!python Experiment.py --dataset rt --interaction CSMF --rounds 2 --slice_epochs 15 --agg_epochs 10 --density 0.10 --slices 10 --part_type 4 --save_model 0 --processed 1 --balance 1"
   ],
   "metadata": {
    "collapsed": false
   }
  },
  {
   "cell_type": "code",
   "execution_count": null,
   "outputs": [],
   "source": [
    "!python Experiment.py --dataset tp --interaction CSMF --rounds 2 --slice_epochs 15 --agg_epochs 10 --density 0.10 --slices 10 --part_type 4 --save_model 0 --processed 1 --balance 1"
   ],
   "metadata": {
    "collapsed": false
   }
  },
  {
   "cell_type": "code",
   "execution_count": null,
   "outputs": [],
   "source": [
    "# !python Experiment.py --dataset rt --interaction NeuGraphMF --rounds 2 --slice_epochs 15 --agg_epochs 10 --density 0.10 --slices 10 --part_type 4 --save_model 0 --processed 1 --balance 1"
   ],
   "metadata": {
    "collapsed": false
   }
  },
  {
   "cell_type": "code",
   "execution_count": null,
   "outputs": [],
   "source": [
    "# !python Experiment.py --dataset rt --interaction NeuGraphMF --rounds 2 --slice_epochs 15 --agg_epochs 10 --density 0.10 --slices 10 --part_type 4 --save_model 0 --processed 1 --balance 1"
   ],
   "metadata": {
    "collapsed": false
   }
  },
  {
   "cell_type": "code",
   "execution_count": null,
   "outputs": [],
   "source": [
    "!python Experiment.py --dataset rt --interaction Pure_Mf --rounds 2 --slice_epochs 15 --agg_epochs 10 --density 0.10 --slices 10 --part_type 4 --save_model 0 --processed 1 --balance 1"
   ],
   "metadata": {
    "collapsed": false
   }
  },
  {
   "cell_type": "code",
   "execution_count": null,
   "outputs": [],
   "source": [
    "!python Experiment.py --dataset tp --interaction Pure_Mf --rounds 2 --slice_epochs 15 --agg_epochs 10 --density 0.10 --slices 10 --part_type 4 --save_model 0 --processed 1 --balance 1"
   ],
   "metadata": {
    "collapsed": false
   }
  },
  {
   "cell_type": "markdown",
   "source": [
    "*****"
   ],
   "metadata": {
    "collapsed": false
   }
  },
  {
   "cell_type": "markdown",
   "source": [
    "## Density : 0.15"
   ],
   "metadata": {
    "collapsed": false
   }
  },
  {
   "cell_type": "markdown",
   "source": [
    "### Eraser"
   ],
   "metadata": {
    "collapsed": false
   }
  },
  {
   "cell_type": "code",
   "execution_count": null,
   "outputs": [],
   "source": [
    "!python Experiment.py --dataset rt --interaction NeuCF --rounds 2 --slice_epochs 15 --agg_epochs 10 --density 0.15 --slices 10 --part_type 4 --save_model 0 --processed 1 --balance 1"
   ],
   "metadata": {
    "collapsed": false
   }
  },
  {
   "cell_type": "code",
   "execution_count": null,
   "outputs": [],
   "source": [
    "!python Experiment.py --dataset tp --interaction NeuCF --rounds 2 --slice_epochs 15 --agg_epochs 10 --density 0.15 --slices 10 --part_type 4 --save_model 0 --processed 1 --balance 1"
   ],
   "metadata": {
    "collapsed": false
   }
  },
  {
   "cell_type": "code",
   "execution_count": null,
   "outputs": [],
   "source": [
    "!python Experiment.py --dataset rt --interaction CSMF --rounds 2 --slice_epochs 15 --agg_epochs 10 --density 0.15 --slices 10 --part_type 4 --save_model 0 --processed 1 --balance 1"
   ],
   "metadata": {
    "collapsed": false
   }
  },
  {
   "cell_type": "code",
   "execution_count": null,
   "outputs": [],
   "source": [
    "!python Experiment.py --dataset tp --interaction CSMF --rounds 2 --slice_epochs 15 --agg_epochs 10 --density 0.15 --slices 10 --part_type 4 --save_model 0 --processed 1 --balance 1"
   ],
   "metadata": {
    "collapsed": false
   }
  },
  {
   "cell_type": "code",
   "execution_count": null,
   "outputs": [],
   "source": [
    "# !python Experiment.py --dataset rt --interaction NeuGraphMF --rounds 2 --slice_epochs 15 --agg_epochs 10 --density 0.15 --slices 10 --part_type 4 --save_model 0 --processed 1 --balance 1"
   ],
   "metadata": {
    "collapsed": false
   }
  },
  {
   "cell_type": "code",
   "execution_count": null,
   "outputs": [],
   "source": [
    "# !python Experiment.py --dataset rt --interaction NeuGraphMF --rounds 2 --slice_epochs 15 --agg_epochs 10 --density 0.15 --slices 10 --part_type 4 --save_model 0 --processed 1 --balance 1"
   ],
   "metadata": {
    "collapsed": false
   }
  },
  {
   "cell_type": "code",
   "execution_count": null,
   "outputs": [],
   "source": [
    "!python Experiment.py --dataset rt --interaction Pure_Mf --rounds 2 --slice_epochs 15 --agg_epochs 10 --density 0.15 --slices 10 --part_type 4 --save_model 0 --processed 1 --balance 1"
   ],
   "metadata": {
    "collapsed": false
   }
  },
  {
   "cell_type": "code",
   "execution_count": null,
   "outputs": [],
   "source": [
    "!python Experiment.py --dataset tp --interaction Pure_Mf --rounds 2 --slice_epochs 15 --agg_epochs 10 --density 0.15 --slices 10 --part_type 4 --save_model 0 --processed 1 --balance 1"
   ],
   "metadata": {
    "collapsed": false
   }
  },
  {
   "cell_type": "markdown",
   "source": [
    "*****"
   ],
   "metadata": {
    "collapsed": false
   }
  },
  {
   "cell_type": "markdown",
   "source": [
    "## Density : 0.20"
   ],
   "metadata": {
    "collapsed": false
   }
  },
  {
   "cell_type": "markdown",
   "source": [
    "### Eraser"
   ],
   "metadata": {
    "collapsed": false
   }
  },
  {
   "cell_type": "code",
   "execution_count": null,
   "outputs": [],
   "source": [
    "!python Experiment.py --dataset rt --interaction NeuCF --rounds 2 --slice_epochs 15 --agg_epochs 10 --density 0.20 --slices 10 --part_type 4 --save_model 0 --processed 1 --balance 1"
   ],
   "metadata": {
    "collapsed": false
   }
  },
  {
   "cell_type": "code",
   "execution_count": null,
   "outputs": [],
   "source": [
    "!python Experiment.py --dataset tp --interaction NeuCF --rounds 2 --slice_epochs 15 --agg_epochs 10 --density 0.20 --slices 10 --part_type 4 --save_model 0 --processed 1 --balance 1"
   ],
   "metadata": {
    "collapsed": false
   }
  },
  {
   "cell_type": "code",
   "execution_count": null,
   "outputs": [],
   "source": [
    "!python Experiment.py --dataset rt --interaction CSMF --rounds 2 --slice_epochs 15 --agg_epochs 10 --density 0.20 --slices 10 --part_type 4 --save_model 0 --processed 1 --balance 1"
   ],
   "metadata": {
    "collapsed": false
   }
  },
  {
   "cell_type": "code",
   "execution_count": null,
   "outputs": [],
   "source": [
    "!python Experiment.py --dataset tp --interaction CSMF --rounds 2 --slice_epochs 15 --agg_epochs 10 --density 0.20 --slices 10 --part_type 4 --save_model 0 --processed 1 --balance 1"
   ],
   "metadata": {
    "collapsed": false
   }
  },
  {
   "cell_type": "code",
   "execution_count": null,
   "outputs": [],
   "source": [
    "# !python Experiment.py --dataset rt --interaction NeuGraphMF --rounds 2 --slice_epochs 15 --agg_epochs 10 --density 0.20 --slices 10 --part_type 4 --save_model 0 --processed 1 --balance 1"
   ],
   "metadata": {
    "collapsed": false
   }
  },
  {
   "cell_type": "code",
   "execution_count": null,
   "outputs": [],
   "source": [
    "# !python Experiment.py --dataset rt --interaction NeuGraphMF --rounds 2 --slice_epochs 15 --agg_epochs 10 --density 0.20 --slices 10 --part_type 4 --save_model 0 --processed 1 --balance 1"
   ],
   "metadata": {
    "collapsed": false
   }
  },
  {
   "cell_type": "code",
   "execution_count": null,
   "outputs": [],
   "source": [
    "!python Experiment.py --dataset rt --interaction Pure_Mf --rounds 2 --slice_epochs 15 --agg_epochs 10 --density 0.20 --slices 10 --part_type 4 --save_model 0 --processed 1 --balance 1"
   ],
   "metadata": {
    "collapsed": false
   }
  },
  {
   "cell_type": "code",
   "execution_count": null,
   "outputs": [],
   "source": [
    "!python Experiment.py --dataset tp --interaction Pure_Mf --rounds 2 --slice_epochs 15 --agg_epochs 10 --density 0.20 --slices 10 --part_type 4 --save_model 0 --processed 1 --balance 1"
   ],
   "metadata": {
    "collapsed": false
   }
  },
  {
   "cell_type": "markdown",
   "source": [
    "*****"
   ],
   "metadata": {
    "collapsed": false
   }
  },
  {
   "cell_type": "markdown",
   "source": [
    "## Density : 0.20"
   ],
   "metadata": {
    "collapsed": false
   }
  },
  {
   "cell_type": "markdown",
   "source": [
    "### Eraser"
   ],
   "metadata": {
    "collapsed": false
   }
  },
  {
   "cell_type": "code",
   "execution_count": null,
   "outputs": [],
   "source": [
    "!python Experiment.py --dataset rt --interaction NeuCF --rounds 2 --slice_epochs 15 --agg_epochs 10 --density 0.25 --slices 10 --part_type 4 --save_model 0 --processed 1 --balance 1"
   ],
   "metadata": {
    "collapsed": false
   }
  },
  {
   "cell_type": "code",
   "execution_count": null,
   "outputs": [],
   "source": [
    "!python Experiment.py --dataset tp --interaction NeuCF --rounds 2 --slice_epochs 15 --agg_epochs 10 --density 0.25 --slices 10 --part_type 4 --save_model 0 --processed 1 --balance 1"
   ],
   "metadata": {
    "collapsed": false
   }
  },
  {
   "cell_type": "code",
   "execution_count": null,
   "outputs": [],
   "source": [
    "!python Experiment.py --dataset rt --interaction CSMF --rounds 2 --slice_epochs 15 --agg_epochs 10 --density 0.25 --slices 10 --part_type 4 --save_model 0 --processed 1 --balance 1"
   ],
   "metadata": {
    "collapsed": false
   }
  },
  {
   "cell_type": "code",
   "execution_count": null,
   "outputs": [],
   "source": [
    "!python Experiment.py --dataset tp --interaction CSMF --rounds 2 --slice_epochs 15 --agg_epochs 10 --density 0.25 --slices 10 --part_type 4 --save_model 0 --processed 1 --balance 1"
   ],
   "metadata": {
    "collapsed": false
   }
  },
  {
   "cell_type": "code",
   "execution_count": null,
   "outputs": [],
   "source": [
    "# !python Experiment.py --dataset rt --interaction NeuGraphMF --rounds 2 --slice_epochs 15 --agg_epochs 10 --density 0.25 --slices 10 --part_type 4 --save_model 0 --processed 1 --balance 1"
   ],
   "metadata": {
    "collapsed": false
   }
  },
  {
   "cell_type": "code",
   "execution_count": null,
   "outputs": [],
   "source": [
    "# !python Experiment.py --dataset rt --interaction NeuGraphMF --rounds 2 --slice_epochs 15 --agg_epochs 10 --density 0.25 --slices 10 --part_type 4 --save_model 0 --processed 1 --balance 1"
   ],
   "metadata": {
    "collapsed": false
   }
  },
  {
   "cell_type": "code",
   "execution_count": null,
   "outputs": [],
   "source": [
    "!python Experiment.py --dataset rt --interaction Pure_Mf --rounds 2 --slice_epochs 15 --agg_epochs 10 --density 0.25 --slices 10 --part_type 4 --save_model 0 --processed 1 --balance 1"
   ],
   "metadata": {
    "collapsed": false
   }
  },
  {
   "cell_type": "code",
   "execution_count": null,
   "outputs": [],
   "source": [
    "!python Experiment.py --dataset tp --interaction Pure_Mf --rounds 2 --slice_epochs 15 --agg_epochs 10 --density 0.25 --slices 10 --part_type 4 --save_model 0 --processed 1 --balance 1"
   ],
   "metadata": {
    "collapsed": false
   }
  },
  {
   "cell_type": "markdown",
   "source": [
    "*****"
   ],
   "metadata": {
    "collapsed": false
   }
  },
  {
   "cell_type": "markdown",
   "source": [
    "## Density : 0.30"
   ],
   "metadata": {
    "collapsed": false
   }
  },
  {
   "cell_type": "markdown",
   "source": [
    "### Eraser"
   ],
   "metadata": {
    "collapsed": false
   }
  },
  {
   "cell_type": "code",
   "execution_count": null,
   "outputs": [],
   "source": [
    "!python Experiment.py --dataset rt --interaction NeuCF --rounds 2 --slice_epochs 15 --agg_epochs 10 --density 0.30 --slices 10 --part_type 4 --save_model 0 --processed 1 --balance 1"
   ],
   "metadata": {
    "collapsed": false
   }
  },
  {
   "cell_type": "code",
   "execution_count": null,
   "outputs": [],
   "source": [
    "!python Experiment.py --dataset tp --interaction NeuCF --rounds 2 --slice_epochs 15 --agg_epochs 10 --density 0.30 --slices 10 --part_type 4 --save_model 0 --processed 1 --balance 1"
   ],
   "metadata": {
    "collapsed": false
   }
  },
  {
   "cell_type": "code",
   "execution_count": null,
   "outputs": [],
   "source": [
    "!python Experiment.py --dataset rt --interaction CSMF --rounds 2 --slice_epochs 15 --agg_epochs 10 --density 0.30 --slices 10 --part_type 4 --save_model 0 --processed 1 --balance 1"
   ],
   "metadata": {
    "collapsed": false
   }
  },
  {
   "cell_type": "code",
   "execution_count": null,
   "outputs": [],
   "source": [
    "!python Experiment.py --dataset tp --interaction CSMF --rounds 2 --slice_epochs 15 --agg_epochs 10 --density 0.30 --slices 10 --part_type 4 --save_model 0 --processed 1 --balance 1"
   ],
   "metadata": {
    "collapsed": false
   }
  },
  {
   "cell_type": "code",
   "execution_count": null,
   "outputs": [],
   "source": [
    "# !python Experiment.py --dataset rt --interaction NeuGraphMF --rounds 2 --slice_epochs 15 --agg_epochs 10 --density 0.30 --slices 10 --part_type 4 --save_model 0 --processed 1 --balance 1"
   ],
   "metadata": {
    "collapsed": false
   }
  },
  {
   "cell_type": "code",
   "execution_count": null,
   "outputs": [],
   "source": [
    "# !python Experiment.py --dataset rt --interaction NeuGraphMF --rounds 2 --slice_epochs 15 --agg_epochs 10 --density 0.30 --slices 10 --part_type 4 --save_model 0 --processed 1 --balance 1"
   ],
   "metadata": {
    "collapsed": false
   }
  },
  {
   "cell_type": "code",
   "execution_count": null,
   "outputs": [],
   "source": [
    "!python Experiment.py --dataset rt --interaction Pure_Mf --rounds 2 --slice_epochs 15 --agg_epochs 10 --density 0.30 --slices 10 --part_type 4 --save_model 0 --processed 1 --balance 1"
   ],
   "metadata": {
    "collapsed": false
   }
  },
  {
   "cell_type": "code",
   "execution_count": null,
   "outputs": [],
   "source": [
    "!python Experiment.py --dataset tp --interaction Pure_Mf --rounds 2 --slice_epochs 15 --agg_epochs 10 --density 0.30 --slices 10 --part_type 4 --save_model 0 --processed 1 --balance 1"
   ],
   "metadata": {
    "collapsed": false
   }
  }
 ],
 "metadata": {
  "kernelspec": {
   "display_name": "Python 3",
   "language": "python",
   "name": "python3"
  },
  "language_info": {
   "codemirror_mode": {
    "name": "ipython",
    "version": 2
   },
   "file_extension": ".py",
   "mimetype": "text/x-python",
   "name": "python",
   "nbconvert_exporter": "python",
   "pygments_lexer": "ipython2",
   "version": "2.7.6"
  }
 },
 "nbformat": 4,
 "nbformat_minor": 0
}
