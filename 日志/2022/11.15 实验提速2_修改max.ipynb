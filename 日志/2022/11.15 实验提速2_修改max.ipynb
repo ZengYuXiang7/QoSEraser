{
 "cells": [
  {
   "cell_type": "markdown",
   "metadata": {},
   "source": [
    "# Author : yuxiang Zeng"
   ]
  },
  {
   "cell_type": "markdown",
   "metadata": {},
   "source": [
    "# NeuCF\n"
   ]
  },
  {
   "cell_type": "code",
   "execution_count": null,
   "metadata": {
    "collapsed": false,
    "pycharm": {
     "name": "#%%\n"
    }
   },
   "outputs": [],
   "source": [
    "!python Experiment.py --dataset rt --interaction NeuCF --rounds 5 --slice_epochs 30 --agg_epochs 100 --density 0.10 --slices 1 --part_type 3 --save_model 0 --processed 0 --retrain 1"
   ]
  },
  {
   "cell_type": "code",
   "execution_count": null,
   "metadata": {},
   "outputs": [],
   "source": [
    "!python Experiment.py --dataset tp --interaction NeuCF --rounds 5 --slice_epochs 30 --agg_epochs 100 --density 0.10 --slices 1 --part_type 3 --save_model 0 --processed 0 --retrain 1"
   ]
  },
  {
   "cell_type": "code",
   "execution_count": null,
   "metadata": {},
   "outputs": [],
   "source": [
    "!python Experiment.py --dataset rt --interaction NeuCF --rounds 5 --slice_epochs 30 --agg_epochs 100 --density 0.15 --slices 1 --part_type 3 --save_model 0 --processed 0 --retrain 1"
   ]
  },
  {
   "cell_type": "code",
   "execution_count": null,
   "metadata": {},
   "outputs": [],
   "source": [
    "!python Experiment.py --dataset tp --interaction NeuCF --rounds 5 --slice_epochs 30 --agg_epochs 100 --density 0.15 --slices 1 --part_type 3 --save_model 0 --processed 0 --retrain 1"
   ]
  },
  {
   "cell_type": "code",
   "execution_count": null,
   "metadata": {
    "collapsed": false,
    "pycharm": {
     "name": "#%%\n"
    }
   },
   "outputs": [],
   "source": [
    "!python Experiment.py --dataset rt --interaction NeuCF --rounds 5 --slice_epochs 30 --agg_epochs 100 --density 0.20 --slices 1 --part_type 3 --save_model 0 --processed 0 --retrain 1"
   ]
  },
  {
   "cell_type": "code",
   "execution_count": null,
   "metadata": {},
   "outputs": [],
   "source": [
    "!python Experiment.py --dataset tp --interaction NeuCF --rounds 5 --slice_epochs 30 --agg_epochs 100 --density 0.20 --slices 1 --part_type 3 --save_model 0 --processed 0 --retrain 1"
   ]
  },
  {
   "cell_type": "code",
   "execution_count": null,
   "metadata": {},
   "outputs": [],
   "source": [
    "!python Experiment.py --dataset rt --interaction NeuCF --rounds 5 --slice_epochs 30 --agg_epochs 100 --density 0.25 --slices 1 --part_type 3 --save_model 0 --processed 0 --retrain 1"
   ]
  },
  {
   "cell_type": "code",
   "execution_count": null,
   "metadata": {},
   "outputs": [],
   "source": [
    "!python Experiment.py --dataset tp --interaction NeuCF --rounds 5 --slice_epochs 30 --agg_epochs 100 --density 0.25 --slices 1 --part_type 3 --save_model 0 --processed 0 --retrain 1"
   ]
  },
  {
   "cell_type": "code",
   "execution_count": null,
   "metadata": {
    "collapsed": false,
    "pycharm": {
     "name": "#%%\n"
    }
   },
   "outputs": [],
   "source": [
    "!python Experiment.py --dataset rt --interaction NeuCF --rounds 5 --slice_epochs 30 --agg_epochs 100 --density 0.3 --slices 1 --part_type 3 --save_model 0 --processed 0 --retrain 1"
   ]
  },
  {
   "cell_type": "code",
   "execution_count": null,
   "metadata": {},
   "outputs": [],
   "source": [
    "!python Experiment.py --dataset tp --interaction NeuCF --rounds 5 --slice_epochs 30 --agg_epochs 100 --density 0.3 --slices 1 --part_type 3 --save_model 0 --processed 0 --retrain 1"
   ]
  },
  {
   "cell_type": "markdown",
   "metadata": {},
   "source": [
    "# CSMF"
   ]
  },
  {
   "cell_type": "code",
   "execution_count": null,
   "metadata": {
    "collapsed": false,
    "pycharm": {
     "name": "#%%\n"
    }
   },
   "outputs": [],
   "source": [
    "!python Experiment.py --dataset rt --interaction CSMF  --rounds 5 --slice_epochs 30 --agg_epochs 100 --density 0.10 --slices 1 --part_type 3 --save_model 0 --processed 0 --retrain 1"
   ]
  },
  {
   "cell_type": "code",
   "execution_count": null,
   "metadata": {},
   "outputs": [],
   "source": [
    "!python Experiment.py --dataset tp --interaction CSMF --rounds 5 --slice_epochs 30 --agg_epochs 100 --density 0.10 --slices 1 --part_type 3 --save_model 0 --processed 0 --retrain 1"
   ]
  },
  {
   "cell_type": "code",
   "execution_count": null,
   "metadata": {},
   "outputs": [],
   "source": [
    "!python Experiment.py --dataset rt --interaction CSMF --rounds 5 --slice_epochs 30 --agg_epochs 100 --density 0.15 --slices 1 --part_type 3 --save_model 0 --processed 0 --retrain 1"
   ]
  },
  {
   "cell_type": "code",
   "execution_count": null,
   "metadata": {},
   "outputs": [],
   "source": [
    "!python Experiment.py --dataset tp --interaction CSMF --rounds 5 --slice_epochs 30 --agg_epochs 100 --density 0.15 --slices 1 --part_type 3 --save_model 0 --processed 0 --retrain 1"
   ]
  },
  {
   "cell_type": "code",
   "execution_count": null,
   "metadata": {
    "collapsed": false,
    "pycharm": {
     "name": "#%%\n"
    }
   },
   "outputs": [],
   "source": [
    "!python Experiment.py --dataset rt --interaction CSMF --rounds 5 --slice_epochs 30 --agg_epochs 100 --density 0.20 --slices 1 --part_type 3 --save_model 0 --processed 0 --retrain 1"
   ]
  },
  {
   "cell_type": "code",
   "execution_count": null,
   "metadata": {},
   "outputs": [],
   "source": [
    "!python Experiment.py --dataset tp --interaction CSMF --rounds 5 --slice_epochs 30 --agg_epochs 100 --density 0.20 --slices 1 --part_type 3 --save_model 0 --processed 0 --retrain 1"
   ]
  },
  {
   "cell_type": "code",
   "execution_count": null,
   "metadata": {},
   "outputs": [],
   "source": [
    "!python Experiment.py --dataset rt --interaction CSMF --rounds 5 --slice_epochs 30 --agg_epochs 100 --density 0.25 --slices 1 --part_type 3 --save_model 0 --processed 0 --retrain 1"
   ]
  },
  {
   "cell_type": "code",
   "execution_count": null,
   "metadata": {},
   "outputs": [],
   "source": [
    "!python Experiment.py --dataset tp --interaction CSMF --rounds 5 --slice_epochs 30 --agg_epochs 100 --density 0.25 --slices 1 --part_type 3 --save_model 0 --processed 0 --retrain 1"
   ]
  },
  {
   "cell_type": "code",
   "execution_count": null,
   "metadata": {
    "collapsed": false,
    "pycharm": {
     "name": "#%%\n"
    }
   },
   "outputs": [],
   "source": [
    "!python Experiment.py --dataset rt --interaction CSMF --rounds 5 --slice_epochs 30 --agg_epochs 100 --density 0.3 --slices 1 --part_type 3 --save_model 0 --processed 0 --retrain 1"
   ]
  },
  {
   "cell_type": "code",
   "execution_count": null,
   "metadata": {},
   "outputs": [],
   "source": [
    "!python Experiment.py --dataset tp --interaction CSMF --rounds 5 --slice_epochs 30 --agg_epochs 100 --density 0.3 --slices 1 --part_type 3 --save_model 0 --processed 0 --retrain 1"
   ]
  },
  {
   "cell_type": "markdown",
   "metadata": {},
   "source": [
    "# not retrain"
   ]
  },
  {
   "cell_type": "markdown",
   "metadata": {},
   "source": [
    "# slices 8"
   ]
  },
  {
   "cell_type": "code",
   "execution_count": null,
   "metadata": {
    "collapsed": false,
    "pycharm": {
     "name": "#%%\n"
    }
   },
   "outputs": [],
   "source": [
    "!python Experiment.py --dataset rt --interaction NeuCF --rounds 5 --slice_epochs 10 --agg_epochs 10 --density 0.10 --slices 8 --part_type 3 --save_model 1 --processed 1"
   ]
  },
  {
   "cell_type": "code",
   "execution_count": null,
   "metadata": {},
   "outputs": [],
   "source": [
    "!python Experiment.py --dataset tp --interaction NeuCF --rounds 5 --slice_epochs 10 --agg_epochs 10 --density 0.10 --slices 8 --part_type 3 --save_model 1 --processed 1"
   ]
  },
  {
   "cell_type": "code",
   "execution_count": null,
   "metadata": {
    "collapsed": false,
    "pycharm": {
     "name": "#%%\n"
    }
   },
   "outputs": [],
   "source": [
    "!python Experiment.py --dataset rt --interaction NeuCF --rounds 5 --slice_epochs 10 --agg_epochs 10 --density 0.15 --slices 8 --part_type 3 --save_model 1 --processed 1"
   ]
  },
  {
   "cell_type": "code",
   "execution_count": null,
   "metadata": {},
   "outputs": [],
   "source": [
    "!python Experiment.py --dataset tp --interaction NeuCF --rounds 5 --slice_epochs 10 --agg_epochs 10 --density 0.15 --slices 8 --part_type 3 --save_model 1 --processed 1"
   ]
  },
  {
   "cell_type": "code",
   "execution_count": null,
   "metadata": {
    "collapsed": false,
    "pycharm": {
     "name": "#%%\n"
    }
   },
   "outputs": [],
   "source": [
    "!python Experiment.py --dataset rt --interaction NeuCF --rounds 5 --slice_epochs 10 --agg_epochs 10 --density 0.20 --slices 8 --part_type 3 --save_model 1 --processed 1"
   ]
  },
  {
   "cell_type": "code",
   "execution_count": null,
   "metadata": {},
   "outputs": [],
   "source": [
    "!python Experiment.py --dataset tp --interaction NeuCF --rounds 5 --slice_epochs 10 --agg_epochs 10 --density 0.20 --slices 8 --part_type 3 --save_model 1 --processed 1"
   ]
  },
  {
   "cell_type": "code",
   "execution_count": null,
   "metadata": {
    "collapsed": false,
    "pycharm": {
     "name": "#%%\n"
    }
   },
   "outputs": [],
   "source": [
    "!python Experiment.py --dataset rt --interaction NeuCF --rounds 5 --slice_epochs 10 --agg_epochs 10 --density 0.25 --slices 8 --part_type 3 --save_model 1 --processed 1"
   ]
  },
  {
   "cell_type": "code",
   "execution_count": null,
   "metadata": {},
   "outputs": [],
   "source": [
    "!python Experiment.py --dataset tp --interaction NeuCF --rounds 5 --slice_epochs 10 --agg_epochs 10 --density 0.25 --slices 8 --part_type 3 --save_model 1 --processed 1"
   ]
  },
  {
   "cell_type": "code",
   "execution_count": null,
   "metadata": {
    "collapsed": false,
    "pycharm": {
     "name": "#%%\n"
    }
   },
   "outputs": [],
   "source": [
    "!python Experiment.py --dataset rt --interaction NeuCF --rounds 5 --slice_epochs 10 --agg_epochs 10 --density 0.30 --slices 8 --part_type 3 --save_model 1 --processed 1"
   ]
  },
  {
   "cell_type": "code",
   "execution_count": null,
   "metadata": {},
   "outputs": [],
   "source": [
    "!python Experiment.py --dataset tp --interaction NeuCF --rounds 5 --slice_epochs 10 --agg_epochs 10 --density 0.30 --slices 8 --part_type 3 --save_model 1 --processed 1"
   ]
  },
  {
   "cell_type": "markdown",
   "metadata": {},
   "source": [
    "# slices 16"
   ]
  },
  {
   "cell_type": "code",
   "execution_count": null,
   "metadata": {
    "collapsed": false,
    "pycharm": {
     "name": "#%%\n"
    }
   },
   "outputs": [],
   "source": [
    "!python Experiment.py --dataset rt --interaction NeuCF --rounds 5 --slice_epochs 10 --agg_epochs 10 --density 0.10 --slices 16 --part_type 3 --save_model 1 --processed 1"
   ]
  },
  {
   "cell_type": "code",
   "execution_count": null,
   "metadata": {},
   "outputs": [],
   "source": [
    "!python Experiment.py --dataset tp --interaction NeuCF --rounds 5 --slice_epochs 10 --agg_epochs 10 --density 0.10 --slices 16 --part_type 3 --save_model 1 --processed 1"
   ]
  },
  {
   "cell_type": "code",
   "execution_count": null,
   "metadata": {
    "collapsed": false,
    "pycharm": {
     "name": "#%%\n"
    }
   },
   "outputs": [],
   "source": [
    "!python Experiment.py --dataset rt --interaction NeuCF --rounds 5 --slice_epochs 10 --agg_epochs 10 --density 0.15 --slices 16 --part_type 3 --save_model 1 --processed 1"
   ]
  },
  {
   "cell_type": "code",
   "execution_count": null,
   "metadata": {},
   "outputs": [],
   "source": [
    "!python Experiment.py --dataset tp --interaction NeuCF --rounds 5 --slice_epochs 10 --agg_epochs 10 --density 0.15 --slices 16 --part_type 3 --save_model 1 --processed 1"
   ]
  },
  {
   "cell_type": "code",
   "execution_count": null,
   "metadata": {
    "collapsed": false,
    "pycharm": {
     "name": "#%%\n"
    }
   },
   "outputs": [],
   "source": [
    "!python Experiment.py --dataset rt --interaction NeuCF --rounds 5 --slice_epochs 10 --agg_epochs 10 --density 0.20 --slices 16 --part_type 3 --save_model 1 --processed 1"
   ]
  },
  {
   "cell_type": "code",
   "execution_count": null,
   "metadata": {},
   "outputs": [],
   "source": [
    "!python Experiment.py --dataset tp --interaction NeuCF --rounds 5 --slice_epochs 10 --agg_epochs 10 --density 0.20 --slices 16 --part_type 3 --save_model 1 --processed 1"
   ]
  },
  {
   "cell_type": "code",
   "execution_count": null,
   "metadata": {
    "collapsed": false,
    "pycharm": {
     "name": "#%%\n"
    }
   },
   "outputs": [],
   "source": [
    "!python Experiment.py --dataset rt --interaction NeuCF --rounds 5 --slice_epochs 10 --agg_epochs 10 --density 0.25 --slices 16 --part_type 3 --save_model 1 --processed 1"
   ]
  },
  {
   "cell_type": "code",
   "execution_count": null,
   "metadata": {},
   "outputs": [],
   "source": [
    "!python Experiment.py --dataset tp --interaction NeuCF --rounds 5 --slice_epochs 10 --agg_epochs 10 --density 0.25 --slices 16 --part_type 3 --save_model 1 --processed 1"
   ]
  },
  {
   "cell_type": "code",
   "execution_count": null,
   "metadata": {
    "collapsed": false,
    "pycharm": {
     "name": "#%%\n"
    }
   },
   "outputs": [],
   "source": [
    "!python Experiment.py --dataset rt --interaction NeuCF --rounds 5 --slice_epochs 10 --agg_epochs 10 --density 0.30 --slices 16 --part_type 3 --save_model 1 --processed 1"
   ]
  },
  {
   "cell_type": "code",
   "execution_count": null,
   "metadata": {},
   "outputs": [],
   "source": [
    "!python Experiment.py --dataset tp --interaction NeuCF --rounds 5 --slice_epochs 10 --agg_epochs 10 --density 0.30 --slices 16 --part_type 3 --save_model 1 --processed 1"
   ]
  },
  {
   "cell_type": "markdown",
   "metadata": {},
   "source": [
    "# slices 32"
   ]
  },
  {
   "cell_type": "code",
   "execution_count": null,
   "metadata": {
    "collapsed": false,
    "pycharm": {
     "name": "#%%\n"
    }
   },
   "outputs": [],
   "source": [
    "!python Experiment.py --dataset rt --interaction NeuCF --rounds 5 --slice_epochs 10 --agg_epochs 10 --density 0.10 --slices 32 --part_type 3 --save_model 1 --processed 1"
   ]
  },
  {
   "cell_type": "code",
   "execution_count": null,
   "metadata": {},
   "outputs": [],
   "source": [
    "!python Experiment.py --dataset tp --interaction NeuCF --rounds 5 --slice_epochs 10 --agg_epochs 10 --density 0.10 --slices 32 --part_type 3 --save_model 1 --processed 1"
   ]
  },
  {
   "cell_type": "code",
   "execution_count": null,
   "metadata": {
    "collapsed": false,
    "pycharm": {
     "name": "#%%\n"
    }
   },
   "outputs": [],
   "source": [
    "!python Experiment.py --dataset rt --interaction NeuCF --rounds 5 --slice_epochs 10 --agg_epochs 10 --density 0.15 --slices 32 --part_type 3 --save_model 1 --processed 1"
   ]
  },
  {
   "cell_type": "code",
   "execution_count": null,
   "metadata": {},
   "outputs": [],
   "source": [
    "!python Experiment.py --dataset tp --interaction NeuCF --rounds 5 --slice_epochs 10 --agg_epochs 10 --density 0.15 --slices 32 --part_type 3 --save_model 1 --processed 1"
   ]
  },
  {
   "cell_type": "code",
   "execution_count": null,
   "metadata": {
    "collapsed": false,
    "pycharm": {
     "name": "#%%\n"
    }
   },
   "outputs": [],
   "source": [
    "!python Experiment.py --dataset rt --interaction NeuCF --rounds 5 --slice_epochs 10 --agg_epochs 10 --density 0.20 --slices 32 --part_type 3 --save_model 1 --processed 1"
   ]
  },
  {
   "cell_type": "code",
   "execution_count": null,
   "metadata": {},
   "outputs": [],
   "source": [
    "!python Experiment.py --dataset tp --interaction NeuCF --rounds 5 --slice_epochs 10 --agg_epochs 10 --density 0.20 --slices 32 --part_type 3 --save_model 1 --processed 1"
   ]
  },
  {
   "cell_type": "code",
   "execution_count": null,
   "metadata": {
    "collapsed": false,
    "pycharm": {
     "name": "#%%\n"
    }
   },
   "outputs": [],
   "source": [
    "!python Experiment.py --dataset rt --interaction NeuCF --rounds 5 --slice_epochs 10 --agg_epochs 10 --density 0.25 --slices 32 --part_type 3 --save_model 1 --processed 1"
   ]
  },
  {
   "cell_type": "code",
   "execution_count": null,
   "metadata": {},
   "outputs": [],
   "source": [
    "!python Experiment.py --dataset tp --interaction NeuCF --rounds 5 --slice_epochs 10 --agg_epochs 10 --density 0.25 --slices 32 --part_type 3 --save_model 1 --processed 1"
   ]
  },
  {
   "cell_type": "code",
   "execution_count": null,
   "metadata": {
    "collapsed": false,
    "pycharm": {
     "name": "#%%\n"
    }
   },
   "outputs": [],
   "source": [
    "!python Experiment.py --dataset rt --interaction NeuCF --rounds 5 --slice_epochs 10 --agg_epochs 10 --density 0.30 --slices 32 --part_type 3 --save_model 1 --processed 1"
   ]
  },
  {
   "cell_type": "code",
   "execution_count": null,
   "metadata": {},
   "outputs": [],
   "source": [
    "!python Experiment.py --dataset tp --interaction NeuCF --rounds 5 --slice_epochs 10 --agg_epochs 10 --density 0.30 --slices 32 --part_type 3 --save_model 1 --processed 1"
   ]
  },
  {
   "cell_type": "markdown",
   "metadata": {},
   "source": [
    "# CSMF"
   ]
  },
  {
   "cell_type": "markdown",
   "metadata": {},
   "source": [
    "# slices 8"
   ]
  },
  {
   "cell_type": "code",
   "execution_count": null,
   "metadata": {
    "collapsed": false,
    "pycharm": {
     "name": "#%%\n"
    }
   },
   "outputs": [],
   "source": [
    "!python Experiment.py --dataset rt --interaction CSMF --rounds 5 --slice_epochs 10 --agg_epochs 10 --density 0.10 --slices 8 --part_type 3 --save_model 1 --processed 1"
   ]
  },
  {
   "cell_type": "code",
   "execution_count": null,
   "metadata": {},
   "outputs": [],
   "source": [
    "!python Experiment.py --dataset tp --interaction CSMF --rounds 5 --slice_epochs 10 --agg_epochs 10 --density 0.10 --slices 8 --part_type 3 --save_model 1 --processed 1"
   ]
  },
  {
   "cell_type": "code",
   "execution_count": null,
   "metadata": {
    "collapsed": false,
    "pycharm": {
     "name": "#%%\n"
    }
   },
   "outputs": [],
   "source": [
    "!python Experiment.py --dataset rt --interaction CSMF --rounds 5 --slice_epochs 10 --agg_epochs 10 --density 0.15 --slices 8 --part_type 3 --save_model 1 --processed 1"
   ]
  },
  {
   "cell_type": "code",
   "execution_count": null,
   "metadata": {},
   "outputs": [],
   "source": [
    "!python Experiment.py --dataset tp --interaction CSMF --rounds 5 --slice_epochs 10 --agg_epochs 10 --density 0.15 --slices 8 --part_type 3 --save_model 1 --processed 1"
   ]
  },
  {
   "cell_type": "code",
   "execution_count": null,
   "metadata": {
    "collapsed": false,
    "pycharm": {
     "name": "#%%\n"
    }
   },
   "outputs": [],
   "source": [
    "!python Experiment.py --dataset rt --interaction CSMF --rounds 5 --slice_epochs 10 --agg_epochs 10 --density 0.20 --slices 8 --part_type 3 --save_model 1 --processed 1"
   ]
  },
  {
   "cell_type": "code",
   "execution_count": null,
   "metadata": {},
   "outputs": [],
   "source": [
    "!python Experiment.py --dataset tp --interaction CSMF --rounds 5 --slice_epochs 10 --agg_epochs 10 --density 0.20 --slices 8 --part_type 3 --save_model 1 --processed 1"
   ]
  },
  {
   "cell_type": "code",
   "execution_count": null,
   "metadata": {
    "collapsed": false,
    "pycharm": {
     "name": "#%%\n"
    }
   },
   "outputs": [],
   "source": [
    "!python Experiment.py --dataset rt --interaction CSMF --rounds 5 --slice_epochs 10 --agg_epochs 10 --density 0.25 --slices 8 --part_type 3 --save_model 1 --processed 1"
   ]
  },
  {
   "cell_type": "code",
   "execution_count": null,
   "metadata": {},
   "outputs": [],
   "source": [
    "!python Experiment.py --dataset tp --interaction CSMF --rounds 5 --slice_epochs 10 --agg_epochs 10 --density 0.25 --slices 8 --part_type 3 --save_model 1 --processed 1"
   ]
  },
  {
   "cell_type": "code",
   "execution_count": null,
   "metadata": {
    "collapsed": false,
    "pycharm": {
     "name": "#%%\n"
    }
   },
   "outputs": [],
   "source": [
    "!python Experiment.py --dataset rt --interaction CSMF --rounds 5 --slice_epochs 10 --agg_epochs 10 --density 0.30 --slices 8 --part_type 3 --save_model 1 --processed 1"
   ]
  },
  {
   "cell_type": "code",
   "execution_count": null,
   "metadata": {},
   "outputs": [],
   "source": [
    "!python Experiment.py --dataset tp --interaction CSMF --rounds 5 --slice_epochs 10 --agg_epochs 10 --density 0.30 --slices 8 --part_type 3 --save_model 1 --processed 1"
   ]
  },
  {
   "cell_type": "markdown",
   "metadata": {},
   "source": [
    "# slices 16"
   ]
  },
  {
   "cell_type": "code",
   "execution_count": null,
   "metadata": {
    "collapsed": false,
    "pycharm": {
     "name": "#%%\n"
    }
   },
   "outputs": [],
   "source": [
    "!python Experiment.py --dataset rt --interaction CSMF --rounds 5 --slice_epochs 10 --agg_epochs 10 --density 0.10 --slices 16 --part_type 3 --save_model 1 --processed 1"
   ]
  },
  {
   "cell_type": "code",
   "execution_count": null,
   "metadata": {},
   "outputs": [],
   "source": [
    "!python Experiment.py --dataset tp --interaction CSMF --rounds 5 --slice_epochs 10 --agg_epochs 10 --density 0.10 --slices 16 --part_type 3 --save_model 1 --processed 1"
   ]
  },
  {
   "cell_type": "code",
   "execution_count": null,
   "metadata": {
    "collapsed": false,
    "pycharm": {
     "name": "#%%\n"
    }
   },
   "outputs": [],
   "source": [
    "!python Experiment.py --dataset rt --interaction CSMF --rounds 5 --slice_epochs 10 --agg_epochs 10 --density 0.15 --slices 16 --part_type 3 --save_model 1 --processed 1"
   ]
  },
  {
   "cell_type": "code",
   "execution_count": null,
   "metadata": {},
   "outputs": [],
   "source": [
    "!python Experiment.py --dataset tp --interaction CSMF --rounds 5 --slice_epochs 10 --agg_epochs 10 --density 0.15 --slices 16 --part_type 3 --save_model 1 --processed 1"
   ]
  },
  {
   "cell_type": "code",
   "execution_count": null,
   "metadata": {
    "collapsed": false,
    "pycharm": {
     "name": "#%%\n"
    }
   },
   "outputs": [],
   "source": [
    "!python Experiment.py --dataset rt --interaction CSMF --rounds 5 --slice_epochs 10 --agg_epochs 10 --density 0.20 --slices 16 --part_type 3 --save_model 1 --processed 1"
   ]
  },
  {
   "cell_type": "code",
   "execution_count": null,
   "metadata": {},
   "outputs": [],
   "source": [
    "!python Experiment.py --dataset tp --interaction CSMF --rounds 5 --slice_epochs 10 --agg_epochs 10 --density 0.20 --slices 16 --part_type 3 --save_model 1 --processed 1"
   ]
  },
  {
   "cell_type": "code",
   "execution_count": null,
   "metadata": {
    "collapsed": false,
    "pycharm": {
     "name": "#%%\n"
    }
   },
   "outputs": [],
   "source": [
    "!python Experiment.py --dataset rt --interaction CSMF --rounds 5 --slice_epochs 10 --agg_epochs 10 --density 0.25 --slices 16 --part_type 3 --save_model 1 --processed 1"
   ]
  },
  {
   "cell_type": "code",
   "execution_count": null,
   "metadata": {},
   "outputs": [],
   "source": [
    "!python Experiment.py --dataset tp --interaction CSMF --rounds 5 --slice_epochs 10 --agg_epochs 10 --density 0.25 --slices 16 --part_type 3 --save_model 1 --processed 1"
   ]
  },
  {
   "cell_type": "code",
   "execution_count": null,
   "metadata": {
    "collapsed": false,
    "pycharm": {
     "name": "#%%\n"
    }
   },
   "outputs": [],
   "source": [
    "!python Experiment.py --dataset rt --interaction CSMF --rounds 5 --slice_epochs 10 --agg_epochs 10 --density 0.30 --slices 16 --part_type 3 --save_model 1 --processed 1"
   ]
  },
  {
   "cell_type": "code",
   "execution_count": null,
   "metadata": {},
   "outputs": [],
   "source": [
    "!python Experiment.py --dataset tp --interaction CSMF --rounds 5 --slice_epochs 10 --agg_epochs 10 --density 0.30 --slices 16 --part_type 3 --save_model 1 --processed 1"
   ]
  },
  {
   "cell_type": "markdown",
   "metadata": {},
   "source": [
    "# slices 32"
   ]
  },
  {
   "cell_type": "code",
   "execution_count": null,
   "metadata": {
    "collapsed": false,
    "pycharm": {
     "name": "#%%\n"
    }
   },
   "outputs": [],
   "source": [
    "!python Experiment.py --dataset rt --interaction CSMF --rounds 5 --slice_epochs 10 --agg_epochs 10 --density 0.10 --slices 32 --part_type 3 --save_model 1 --processed 1"
   ]
  },
  {
   "cell_type": "code",
   "execution_count": null,
   "metadata": {},
   "outputs": [],
   "source": [
    "!python Experiment.py --dataset tp --interaction CSMF --rounds 5 --slice_epochs 10 --agg_epochs 10 --density 0.10 --slices 32 --part_type 3 --save_model 1 --processed 1"
   ]
  },
  {
   "cell_type": "code",
   "execution_count": null,
   "metadata": {
    "collapsed": false,
    "pycharm": {
     "name": "#%%\n"
    }
   },
   "outputs": [],
   "source": [
    "!python Experiment.py --dataset rt --interaction CSMF --rounds 5 --slice_epochs 10 --agg_epochs 10 --density 0.15 --slices 32 --part_type 3 --save_model 1 --processed 1"
   ]
  },
  {
   "cell_type": "code",
   "execution_count": null,
   "metadata": {},
   "outputs": [],
   "source": [
    "!python Experiment.py --dataset tp --interaction CSMF --rounds 5 --slice_epochs 10 --agg_epochs 10 --density 0.15 --slices 32 --part_type 3 --save_model 1 --processed 1"
   ]
  },
  {
   "cell_type": "code",
   "execution_count": null,
   "metadata": {
    "collapsed": false,
    "pycharm": {
     "name": "#%%\n"
    }
   },
   "outputs": [],
   "source": [
    "!python Experiment.py --dataset rt --interaction CSMF --rounds 5 --slice_epochs 10 --agg_epochs 10 --density 0.20 --slices 32 --part_type 3 --save_model 1 --processed 1"
   ]
  },
  {
   "cell_type": "code",
   "execution_count": null,
   "metadata": {},
   "outputs": [],
   "source": [
    "!python Experiment.py --dataset tp --interaction CSMF --rounds 5 --slice_epochs 10 --agg_epochs 10 --density 0.20 --slices 32 --part_type 3 --save_model 1 --processed 1"
   ]
  },
  {
   "cell_type": "code",
   "execution_count": null,
   "metadata": {
    "collapsed": false,
    "pycharm": {
     "name": "#%%\n"
    }
   },
   "outputs": [],
   "source": [
    "!python Experiment.py --dataset rt --interaction CSMF --rounds 5 --slice_epochs 10 --agg_epochs 10 --density 0.25 --slices 32 --part_type 3 --save_model 1 --processed 1"
   ]
  },
  {
   "cell_type": "code",
   "execution_count": null,
   "metadata": {},
   "outputs": [],
   "source": [
    "!python Experiment.py --dataset tp --interaction CSMF --rounds 5 --slice_epochs 10 --agg_epochs 10 --density 0.25 --slices 32 --part_type 3 --save_model 1 --processed 1"
   ]
  },
  {
   "cell_type": "code",
   "execution_count": null,
   "metadata": {
    "collapsed": false,
    "pycharm": {
     "name": "#%%\n"
    }
   },
   "outputs": [],
   "source": [
    "!python Experiment.py --dataset rt --interaction CSMF --rounds 5 --slice_epochs 10 --agg_epochs 10 --density 0.30 --slices 32 --part_type 3 --save_model 1 --processed 1"
   ]
  },
  {
   "cell_type": "code",
   "execution_count": null,
   "metadata": {},
   "outputs": [],
   "source": [
    "!python Experiment.py --dataset tp --interaction CSMF --rounds 5 --slice_epochs 10 --agg_epochs 10 --density 0.30 --slices 32 --part_type 3 --save_model 1 --processed 1"
   ]
  }
 ],
 "metadata": {
  "kernelspec": {
   "display_name": "Python 3.8.5 ('base')",
   "language": "python",
   "name": "python3"
  },
  "language_info": {
   "codemirror_mode": {
    "name": "ipython",
    "version": 3
   },
   "file_extension": ".py",
   "mimetype": "text/x-python",
   "name": "python",
   "nbconvert_exporter": "python",
   "pygments_lexer": "ipython3",
   "version": "3.8.5"
  },
  "vscode": {
   "interpreter": {
    "hash": "88279d2366fe020547cde40dd65aa0e3aa662a6ec1f3ca12d88834876c85e1a6"
   }
  }
 },
 "nbformat": 4,
 "nbformat_minor": 0
}
