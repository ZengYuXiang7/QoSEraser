{
 "cells": [
  {
   "cell_type": "code",
   "execution_count": 1,
   "metadata": {},
   "outputs": [],
   "source": [
    "import os\n",
    "import numpy as np\n",
    "import pandas as pd"
   ]
  },
  {
   "cell_type": "code",
   "execution_count": 2,
   "outputs": [],
   "source": [
    "slices = 5"
   ],
   "metadata": {
    "collapsed": false
   }
  },
  {
   "cell_type": "code",
   "execution_count": 3,
   "metadata": {
    "collapsed": false
   },
   "outputs": [],
   "source": [
    "def get_all_result(model, part_type, datasets, slices, result, retrain = False):\n",
    "    all_files = os.listdir(os.getcwd() + '/Result')\n",
    "\n",
    "    file_model = './Result/' + model\n",
    "    # print(os.path.abspath(file_model))\n",
    "    file_model_dir = os.listdir(os.path.abspath(file_model))\n",
    "    # interaction\n",
    "    file_model_part = f'part_type_{part_type}'\n",
    "\n",
    "    # print(file_model_part)\n",
    "    file_model_part_dir = os.listdir(os.path.abspath(file_model + '/' + file_model_part))\n",
    "\n",
    "    # dataset\n",
    "    if datasets == 'rt':\n",
    "        file_model_part_dataset = 'rt'\n",
    "    else:\n",
    "        file_model_part_dataset = 'tp'\n",
    "    file_model_part_dataset_dir = os.listdir(os.path.abspath(file_model + '/' + file_model_part + '/' + file_model_part_dataset))\n",
    "\n",
    "\n",
    "    # slices\n",
    "    file_model_part_dataset_result = None\n",
    "    for item in file_model_part_dataset_dir:\n",
    "        # print(item)\n",
    "        if 'slices_' + str(slices) == item:\n",
    "            file_model_part_dataset_result = item\n",
    "    # print('slices_' + str(slices))\n",
    "    # print(file_model_part_dataset_result)\n",
    "    file_model_part_dataset_result_dir = os.listdir(os.path.abspath(file_model + '/' + file_model_part + '/' + file_model_part_dataset + '/' + file_model_part_dataset_result))\n",
    "\n",
    "    # metrics\n",
    "    if result == 'metrics':\n",
    "        file_model_part_dataset_result_metrics = file_model_part_dataset_result_dir[0]\n",
    "    else:\n",
    "        file_model_part_dataset_result_metrics = file_model_part_dataset_result_dir[1]\n",
    "\n",
    "    file_model_part_dataset_result_metrics_dir = os.listdir(os.path.abspath(file_model + '/' + file_model_part + '/' + file_model_part_dataset + '/' + file_model_part_dataset_result + '/' + file_model_part_dataset_result_metrics))\n",
    "\n",
    "    all_metrics = []\n",
    "    # 文件排序\n",
    "    file_model_part_dataset_result_metrics_dir = sorted(file_model_part_dataset_result_metrics_dir)\n",
    "\n",
    "    for item in file_model_part_dataset_result_metrics_dir:\n",
    "        if item[-1] == 'v':\n",
    "            temp = os.path.abspath(file_model + '/' + file_model_part + '/' + file_model_part_dataset + '/' + file_model_part_dataset_result + '/' + file_model_part_dataset_result_metrics) + '/' + item\n",
    "            final_file = ''\n",
    "            for i in range(len(temp)):\n",
    "                if temp[i] == '\\\\':\n",
    "                    final_file += '/'\n",
    "                else:\n",
    "                    final_file += temp[i]\n",
    "            # print(final_file)\n",
    "            df = pd.read_csv(final_file).to_numpy()\n",
    "\n",
    "            if df.shape[0] != 0:\n",
    "                if result == 'metrics':\n",
    "                    all_metrics.append(list(df[-1]))\n",
    "                elif retrain:\n",
    "                    Sum = 0.\n",
    "                    cnt = 0\n",
    "                    for i in range(len(df)):\n",
    "                            Sum += df[i][2]\n",
    "                            cnt += 1\n",
    "                    if cnt == 0:\n",
    "                        cnt = 1\n",
    "                    all_metrics.append([1, '_', Sum / cnt])\n",
    "                else:\n",
    "                    Sum = 0.\n",
    "                    cnt = 0\n",
    "                    for i in range(len(df)):\n",
    "                        if df[i][1] == 'Aggregators':\n",
    "                            Sum += df[i][2]\n",
    "                            cnt += 1\n",
    "                    if cnt == 0:\n",
    "                        cnt = 1\n",
    "                    all_metrics.append([1, '_', Sum / cnt])\n",
    "            else: \n",
    "                print(final_file, '实验尚未进行')\n",
    "                break\n",
    "\n",
    "            print(final_file)\n",
    "\n",
    "    print('----------------------------------------------------------------------------------------------------------------------------------')\n",
    "    all_metrics = np.array(all_metrics)\n",
    "    # print(all_metrics)\n",
    "    if len(all_metrics) != 0 and result == 'time':\n",
    "        all_metrics = all_metrics[:, 1:]\n",
    "    elif len(all_metrics) != 0 and result == 'metrics':\n",
    "        all_metrics = all_metrics[:, 1:]\n",
    "\n",
    "    return all_metrics\n",
    "\n",
    "def makedir(path):\n",
    "    path = path.strip()\n",
    "    path = path.rstrip(\"\\\\\")\n",
    "    isExists = os.path.exists(path)\n",
    "    if not isExists:\n",
    "        os.makedirs(path)\n",
    "        return True\n",
    "    return False\n",
    "\n",
    "def show(part_type):\n",
    "    if part_type == 1:\n",
    "        print('node2vec experiment!')\n",
    "    elif part_type == 2:\n",
    "        print('SISA2 experiment!')\n",
    "    else:\n",
    "        print('Pure SISA experiment!')\n",
    "\n",
    "\n",
    "def get_result(model, part_type, datasets, slices, result, retrain = False):\n",
    "    ans = []\n",
    "    file_name = None\n",
    "    flag = True\n",
    "    try:\n",
    "        if result == 'metrics':\n",
    "            ans.append(get_all_result(model, part_type, datasets, slices, result, retrain))\n",
    "            ans = pd.DataFrame(np.array(ans).reshape(-1, 5))\n",
    "            ans.columns = ['MAE','RMSE', 'NMAE', 'MRE', 'NPRE']\n",
    "            makedir(f'./Result/{str(datasets)}_result/')\n",
    "            file_name = f'./Result/{str(datasets)}_result/' + str(model) + '_' + str(part_type) + '_' + str(slices) + '_' + str(result) + '.xlsx'\n",
    "        elif result == 'time':\n",
    "            ans = get_all_result(model, part_type, datasets, slices, result, retrain)[:, 1:]\n",
    "            ans = pd.DataFrame(np.array(ans))\n",
    "            ans.columns = ['agg_time']\n",
    "            makedir(f'./Result/{str(datasets)}_result/')\n",
    "            file_name = f'./Result/{str(datasets)}_result/' + str(model) + '_' + str(part_type) + '_' + str(slices) + '_' + str(result) + '.xlsx'\n",
    "        \n",
    "\n",
    "        if result == 'all':\n",
    "\n",
    "            # metrics\n",
    "            ans.append(get_all_result(model, part_type, datasets, slices, 'metrics', retrain))\n",
    "            # ans = pd.DataFrame(np.array(ans).reshape(-1, 5))\n",
    "            ans = np.array(ans).reshape(-1, 5)\n",
    "\n",
    "            # time\n",
    "            time_result = np.zeros((ans.shape[0], 1))\n",
    "\n",
    "            if ans.shape[0] != 0:\n",
    "                temp = np.array(get_all_result(model, part_type, datasets, slices, 'time', retrain)[:, 1:])\n",
    "                # print(ans.shape)\n",
    "                # print(time_result, temp)\n",
    "                # print(temp.shape, time_result.shape)\n",
    "                for i in range(ans.shape[0]):\n",
    "                    time_result[i] = temp[i]\n",
    "\n",
    "            # print(ans.shape, time_result.shape)\n",
    "            ans = np.concatenate([ans, time_result], axis = 1)\n",
    "\n",
    "            # 填充\n",
    "            a = np.zeros((5, 6))\n",
    "            r, c = ans.nonzero()\n",
    "            a[r, c] = ans[r, c]\n",
    "            ans = a\n",
    "\n",
    "            # print(ans)\n",
    "            # print(np.array(get_all_result(model, part_type, datasets, slices, 'time')[:, 1:]))\n",
    "            ans = pd.DataFrame(np.array(ans))\n",
    "\n",
    "            if retrain:\n",
    "                ans.columns = ['MAE','RMSE', 'NMAE', 'MRE', 'NPRE', 'retrain_time']\n",
    "            else:\n",
    "                ans.columns = ['MAE','RMSE', 'NMAE', 'MRE', 'NPRE', 'agg_time']\n",
    "\n",
    "            makedir(f'./Result/{str(datasets)}_result/')\n",
    "            file_name = f'./Result/{str(datasets)}_result/' + str(model) + '_' + str(part_type) + '_' + str(slices) + '_' + str(result) + '.xlsx'\n",
    "\n",
    "    except IOError:\n",
    "        show(part_type)\n",
    "        print('实验尚未进行')\n",
    "        flag = False\n",
    "\n",
    "    if flag:\n",
    "        show(part_type)\n",
    "    \n",
    "    if np.array(ans).shape[0] != 5 and flag:\n",
    "        print('实验未完成')\n",
    "    \n",
    "    if type(ans) != list:\n",
    "        ans.to_excel(file_name)\n",
    "        return ans\n",
    "    else:\n",
    "        return None"
   ]
  },
  {
   "cell_type": "markdown",
   "metadata": {
    "collapsed": false
   },
   "source": [
    "# Retrain"
   ]
  },
  {
   "cell_type": "code",
   "execution_count": 4,
   "metadata": {
    "collapsed": false
   },
   "outputs": [
    {
     "name": "stdout",
     "output_type": "stream",
     "text": [
      "/home/yxzeng/code_python/QoS_Eraser/Result/CSMF/part_type_10/rt/slices_1/metrics/Final_result_density_rt_0.10.csv\n",
      "/home/yxzeng/code_python/QoS_Eraser/Result/CSMF/part_type_10/rt/slices_1/metrics/Final_result_density_rt_0.15.csv\n",
      "/home/yxzeng/code_python/QoS_Eraser/Result/CSMF/part_type_10/rt/slices_1/metrics/Final_result_density_rt_0.20.csv\n",
      "/home/yxzeng/code_python/QoS_Eraser/Result/CSMF/part_type_10/rt/slices_1/metrics/Final_result_density_rt_0.25.csv\n",
      "/home/yxzeng/code_python/QoS_Eraser/Result/CSMF/part_type_10/rt/slices_1/metrics/Final_result_density_rt_0.30.csv\n",
      "----------------------------------------------------------------------------------------------------------------------------------\n",
      "/home/yxzeng/code_python/QoS_Eraser/Result/CSMF/part_type_10/rt/slices_1/time/Final_time_density_rt_0.10.csv\n",
      "/home/yxzeng/code_python/QoS_Eraser/Result/CSMF/part_type_10/rt/slices_1/time/Final_time_density_rt_0.15.csv\n",
      "/home/yxzeng/code_python/QoS_Eraser/Result/CSMF/part_type_10/rt/slices_1/time/Final_time_density_rt_0.20.csv\n",
      "/home/yxzeng/code_python/QoS_Eraser/Result/CSMF/part_type_10/rt/slices_1/time/Final_time_density_rt_0.25.csv\n",
      "/home/yxzeng/code_python/QoS_Eraser/Result/CSMF/part_type_10/rt/slices_1/time/Final_time_density_rt_0.30.csv\n",
      "----------------------------------------------------------------------------------------------------------------------------------\n",
      "Pure SISA experiment!\n"
     ]
    },
    {
     "data": {
      "text/plain": "        MAE      RMSE      NMAE       MRE      NPRE  retrain_time\n0  0.381232  1.280184  0.419521  0.233479  0.905320     58.291479\n1  0.352104  1.237005  0.387357  0.203147  0.822566     96.909429\n2  0.332131  1.204398  0.365400  0.185477  0.779149    152.976478\n3  0.321007  1.182212  0.353164  0.177721  0.742926    225.829644\n4  0.311297  1.151459  0.342702  0.173414  0.730462    375.279533",
      "text/html": "<div>\n<style scoped>\n    .dataframe tbody tr th:only-of-type {\n        vertical-align: middle;\n    }\n\n    .dataframe tbody tr th {\n        vertical-align: top;\n    }\n\n    .dataframe thead th {\n        text-align: right;\n    }\n</style>\n<table border=\"1\" class=\"dataframe\">\n  <thead>\n    <tr style=\"text-align: right;\">\n      <th></th>\n      <th>MAE</th>\n      <th>RMSE</th>\n      <th>NMAE</th>\n      <th>MRE</th>\n      <th>NPRE</th>\n      <th>retrain_time</th>\n    </tr>\n  </thead>\n  <tbody>\n    <tr>\n      <th>0</th>\n      <td>0.381232</td>\n      <td>1.280184</td>\n      <td>0.419521</td>\n      <td>0.233479</td>\n      <td>0.905320</td>\n      <td>58.291479</td>\n    </tr>\n    <tr>\n      <th>1</th>\n      <td>0.352104</td>\n      <td>1.237005</td>\n      <td>0.387357</td>\n      <td>0.203147</td>\n      <td>0.822566</td>\n      <td>96.909429</td>\n    </tr>\n    <tr>\n      <th>2</th>\n      <td>0.332131</td>\n      <td>1.204398</td>\n      <td>0.365400</td>\n      <td>0.185477</td>\n      <td>0.779149</td>\n      <td>152.976478</td>\n    </tr>\n    <tr>\n      <th>3</th>\n      <td>0.321007</td>\n      <td>1.182212</td>\n      <td>0.353164</td>\n      <td>0.177721</td>\n      <td>0.742926</td>\n      <td>225.829644</td>\n    </tr>\n    <tr>\n      <th>4</th>\n      <td>0.311297</td>\n      <td>1.151459</td>\n      <td>0.342702</td>\n      <td>0.173414</td>\n      <td>0.730462</td>\n      <td>375.279533</td>\n    </tr>\n  </tbody>\n</table>\n</div>"
     },
     "execution_count": 4,
     "metadata": {},
     "output_type": "execute_result"
    }
   ],
   "source": [
    "get_result('CSMF', 10, 'rt', 1, 'all', True)"
   ]
  },
  {
   "cell_type": "code",
   "execution_count": 5,
   "metadata": {
    "collapsed": false
   },
   "outputs": [
    {
     "name": "stdout",
     "output_type": "stream",
     "text": [
      "/home/yxzeng/code_python/QoS_Eraser/Result/NeuCF/part_type_10/rt/slices_1/metrics/Final_result_density_rt_0.10.csv\n",
      "/home/yxzeng/code_python/QoS_Eraser/Result/NeuCF/part_type_10/rt/slices_1/metrics/Final_result_density_rt_0.15.csv\n",
      "/home/yxzeng/code_python/QoS_Eraser/Result/NeuCF/part_type_10/rt/slices_1/metrics/Final_result_density_rt_0.20.csv\n",
      "/home/yxzeng/code_python/QoS_Eraser/Result/NeuCF/part_type_10/rt/slices_1/metrics/Final_result_density_rt_0.25.csv\n",
      "/home/yxzeng/code_python/QoS_Eraser/Result/NeuCF/part_type_10/rt/slices_1/metrics/Final_result_density_rt_0.30.csv\n",
      "----------------------------------------------------------------------------------------------------------------------------------\n",
      "/home/yxzeng/code_python/QoS_Eraser/Result/NeuCF/part_type_10/rt/slices_1/time/Final_time_density_rt_0.10.csv\n",
      "/home/yxzeng/code_python/QoS_Eraser/Result/NeuCF/part_type_10/rt/slices_1/time/Final_time_density_rt_0.15.csv\n",
      "/home/yxzeng/code_python/QoS_Eraser/Result/NeuCF/part_type_10/rt/slices_1/time/Final_time_density_rt_0.20.csv\n",
      "/home/yxzeng/code_python/QoS_Eraser/Result/NeuCF/part_type_10/rt/slices_1/time/Final_time_density_rt_0.25.csv\n",
      "/home/yxzeng/code_python/QoS_Eraser/Result/NeuCF/part_type_10/rt/slices_1/time/Final_time_density_rt_0.30.csv\n",
      "----------------------------------------------------------------------------------------------------------------------------------\n",
      "Pure SISA experiment!\n"
     ]
    },
    {
     "data": {
      "text/plain": "        MAE      RMSE      NMAE       MRE      NPRE  retrain_time\n0  0.392078  1.313922  0.431424  0.294174  1.076311    112.934530\n1  0.363028  1.273544  0.399488  0.256225  0.944757    137.566726\n2  0.346025  1.237055  0.380859  0.236537  0.893256    186.405459\n3  0.333460  1.212016  0.366833  0.223961  0.874355    162.086323\n4  0.322231  1.176460  0.354643  0.216670  0.858448    185.993939",
      "text/html": "<div>\n<style scoped>\n    .dataframe tbody tr th:only-of-type {\n        vertical-align: middle;\n    }\n\n    .dataframe tbody tr th {\n        vertical-align: top;\n    }\n\n    .dataframe thead th {\n        text-align: right;\n    }\n</style>\n<table border=\"1\" class=\"dataframe\">\n  <thead>\n    <tr style=\"text-align: right;\">\n      <th></th>\n      <th>MAE</th>\n      <th>RMSE</th>\n      <th>NMAE</th>\n      <th>MRE</th>\n      <th>NPRE</th>\n      <th>retrain_time</th>\n    </tr>\n  </thead>\n  <tbody>\n    <tr>\n      <th>0</th>\n      <td>0.392078</td>\n      <td>1.313922</td>\n      <td>0.431424</td>\n      <td>0.294174</td>\n      <td>1.076311</td>\n      <td>112.934530</td>\n    </tr>\n    <tr>\n      <th>1</th>\n      <td>0.363028</td>\n      <td>1.273544</td>\n      <td>0.399488</td>\n      <td>0.256225</td>\n      <td>0.944757</td>\n      <td>137.566726</td>\n    </tr>\n    <tr>\n      <th>2</th>\n      <td>0.346025</td>\n      <td>1.237055</td>\n      <td>0.380859</td>\n      <td>0.236537</td>\n      <td>0.893256</td>\n      <td>186.405459</td>\n    </tr>\n    <tr>\n      <th>3</th>\n      <td>0.333460</td>\n      <td>1.212016</td>\n      <td>0.366833</td>\n      <td>0.223961</td>\n      <td>0.874355</td>\n      <td>162.086323</td>\n    </tr>\n    <tr>\n      <th>4</th>\n      <td>0.322231</td>\n      <td>1.176460</td>\n      <td>0.354643</td>\n      <td>0.216670</td>\n      <td>0.858448</td>\n      <td>185.993939</td>\n    </tr>\n  </tbody>\n</table>\n</div>"
     },
     "execution_count": 5,
     "metadata": {},
     "output_type": "execute_result"
    }
   ],
   "source": [
    "get_result('NeuCF', 10, 'rt', 1, 'all', True)"
   ]
  },
  {
   "cell_type": "code",
   "execution_count": 6,
   "metadata": {
    "collapsed": false
   },
   "outputs": [
    {
     "name": "stdout",
     "output_type": "stream",
     "text": [
      "/home/yxzeng/code_python/QoS_Eraser/Result/GraphMF/part_type_10/rt/slices_1/metrics/Final_result_density_rt_0.10.csv\n",
      "/home/yxzeng/code_python/QoS_Eraser/Result/GraphMF/part_type_10/rt/slices_1/metrics/Final_result_density_rt_0.15.csv\n",
      "/home/yxzeng/code_python/QoS_Eraser/Result/GraphMF/part_type_10/rt/slices_1/metrics/Final_result_density_rt_0.20.csv\n",
      "/home/yxzeng/code_python/QoS_Eraser/Result/GraphMF/part_type_10/rt/slices_1/metrics/Final_result_density_rt_0.25.csv\n",
      "/home/yxzeng/code_python/QoS_Eraser/Result/GraphMF/part_type_10/rt/slices_1/metrics/Final_result_density_rt_0.30.csv\n",
      "----------------------------------------------------------------------------------------------------------------------------------\n",
      "/home/yxzeng/code_python/QoS_Eraser/Result/GraphMF/part_type_10/rt/slices_1/time/Final_time_density_rt_0.10.csv\n",
      "/home/yxzeng/code_python/QoS_Eraser/Result/GraphMF/part_type_10/rt/slices_1/time/Final_time_density_rt_0.15.csv\n",
      "/home/yxzeng/code_python/QoS_Eraser/Result/GraphMF/part_type_10/rt/slices_1/time/Final_time_density_rt_0.20.csv\n",
      "/home/yxzeng/code_python/QoS_Eraser/Result/GraphMF/part_type_10/rt/slices_1/time/Final_time_density_rt_0.25.csv\n",
      "/home/yxzeng/code_python/QoS_Eraser/Result/GraphMF/part_type_10/rt/slices_1/time/Final_time_density_rt_0.30.csv\n",
      "----------------------------------------------------------------------------------------------------------------------------------\n",
      "Pure SISA experiment!\n"
     ]
    },
    {
     "data": {
      "text/plain": "        MAE      RMSE      NMAE       MRE      NPRE  retrain_time\n0  0.321518  1.243862  0.353885  0.145110  0.701554    132.858337\n1  0.306773  1.214771  0.337634  0.134021  0.672278    285.520636\n2  0.299721  1.201695  0.329798  0.128847  0.658659    409.647457\n3  0.293260  1.187610  0.322822  0.123628  0.641647    565.838042\n4  0.288732  1.175406  0.317914  0.120914  0.632435    618.144649",
      "text/html": "<div>\n<style scoped>\n    .dataframe tbody tr th:only-of-type {\n        vertical-align: middle;\n    }\n\n    .dataframe tbody tr th {\n        vertical-align: top;\n    }\n\n    .dataframe thead th {\n        text-align: right;\n    }\n</style>\n<table border=\"1\" class=\"dataframe\">\n  <thead>\n    <tr style=\"text-align: right;\">\n      <th></th>\n      <th>MAE</th>\n      <th>RMSE</th>\n      <th>NMAE</th>\n      <th>MRE</th>\n      <th>NPRE</th>\n      <th>retrain_time</th>\n    </tr>\n  </thead>\n  <tbody>\n    <tr>\n      <th>0</th>\n      <td>0.321518</td>\n      <td>1.243862</td>\n      <td>0.353885</td>\n      <td>0.145110</td>\n      <td>0.701554</td>\n      <td>132.858337</td>\n    </tr>\n    <tr>\n      <th>1</th>\n      <td>0.306773</td>\n      <td>1.214771</td>\n      <td>0.337634</td>\n      <td>0.134021</td>\n      <td>0.672278</td>\n      <td>285.520636</td>\n    </tr>\n    <tr>\n      <th>2</th>\n      <td>0.299721</td>\n      <td>1.201695</td>\n      <td>0.329798</td>\n      <td>0.128847</td>\n      <td>0.658659</td>\n      <td>409.647457</td>\n    </tr>\n    <tr>\n      <th>3</th>\n      <td>0.293260</td>\n      <td>1.187610</td>\n      <td>0.322822</td>\n      <td>0.123628</td>\n      <td>0.641647</td>\n      <td>565.838042</td>\n    </tr>\n    <tr>\n      <th>4</th>\n      <td>0.288732</td>\n      <td>1.175406</td>\n      <td>0.317914</td>\n      <td>0.120914</td>\n      <td>0.632435</td>\n      <td>618.144649</td>\n    </tr>\n  </tbody>\n</table>\n</div>"
     },
     "execution_count": 6,
     "metadata": {},
     "output_type": "execute_result"
    }
   ],
   "source": [
    "get_result('GraphMF', 10, 'rt', 1, 'all', True)"
   ]
  },
  {
   "cell_type": "code",
   "execution_count": 7,
   "outputs": [
    {
     "name": "stdout",
     "output_type": "stream",
     "text": [
      "/home/yxzeng/code_python/QoS_Eraser/Result/MF/part_type_10/rt/slices_1/metrics/Final_result_density_rt_0.10.csv\n",
      "/home/yxzeng/code_python/QoS_Eraser/Result/MF/part_type_10/rt/slices_1/metrics/Final_result_density_rt_0.15.csv\n",
      "/home/yxzeng/code_python/QoS_Eraser/Result/MF/part_type_10/rt/slices_1/metrics/Final_result_density_rt_0.20.csv\n",
      "/home/yxzeng/code_python/QoS_Eraser/Result/MF/part_type_10/rt/slices_1/metrics/Final_result_density_rt_0.25.csv\n",
      "/home/yxzeng/code_python/QoS_Eraser/Result/MF/part_type_10/rt/slices_1/metrics/Final_result_density_rt_0.30.csv\n",
      "----------------------------------------------------------------------------------------------------------------------------------\n",
      "/home/yxzeng/code_python/QoS_Eraser/Result/MF/part_type_10/rt/slices_1/time/Final_time_density_rt_0.10.csv\n",
      "/home/yxzeng/code_python/QoS_Eraser/Result/MF/part_type_10/rt/slices_1/time/Final_time_density_rt_0.15.csv\n",
      "/home/yxzeng/code_python/QoS_Eraser/Result/MF/part_type_10/rt/slices_1/time/Final_time_density_rt_0.20.csv\n",
      "/home/yxzeng/code_python/QoS_Eraser/Result/MF/part_type_10/rt/slices_1/time/Final_time_density_rt_0.25.csv\n",
      "/home/yxzeng/code_python/QoS_Eraser/Result/MF/part_type_10/rt/slices_1/time/Final_time_density_rt_0.30.csv\n",
      "----------------------------------------------------------------------------------------------------------------------------------\n",
      "Pure SISA experiment!\n"
     ]
    },
    {
     "data": {
      "text/plain": "        MAE      RMSE      NMAE       MRE      NPRE  retrain_time\n0  0.421913  1.324964  0.464470  0.324257  1.406977     61.145276\n1  0.371186  1.271622  0.408538  0.278485  1.124416     65.037148\n2  0.354635  1.254018  0.390518  0.263321  1.031402     68.935656\n3  0.345227  1.230065  0.379931  0.254233  1.008424     74.471885\n4  0.338208  1.201685  0.372070  0.255180  1.028326     96.465300",
      "text/html": "<div>\n<style scoped>\n    .dataframe tbody tr th:only-of-type {\n        vertical-align: middle;\n    }\n\n    .dataframe tbody tr th {\n        vertical-align: top;\n    }\n\n    .dataframe thead th {\n        text-align: right;\n    }\n</style>\n<table border=\"1\" class=\"dataframe\">\n  <thead>\n    <tr style=\"text-align: right;\">\n      <th></th>\n      <th>MAE</th>\n      <th>RMSE</th>\n      <th>NMAE</th>\n      <th>MRE</th>\n      <th>NPRE</th>\n      <th>retrain_time</th>\n    </tr>\n  </thead>\n  <tbody>\n    <tr>\n      <th>0</th>\n      <td>0.421913</td>\n      <td>1.324964</td>\n      <td>0.464470</td>\n      <td>0.324257</td>\n      <td>1.406977</td>\n      <td>61.145276</td>\n    </tr>\n    <tr>\n      <th>1</th>\n      <td>0.371186</td>\n      <td>1.271622</td>\n      <td>0.408538</td>\n      <td>0.278485</td>\n      <td>1.124416</td>\n      <td>65.037148</td>\n    </tr>\n    <tr>\n      <th>2</th>\n      <td>0.354635</td>\n      <td>1.254018</td>\n      <td>0.390518</td>\n      <td>0.263321</td>\n      <td>1.031402</td>\n      <td>68.935656</td>\n    </tr>\n    <tr>\n      <th>3</th>\n      <td>0.345227</td>\n      <td>1.230065</td>\n      <td>0.379931</td>\n      <td>0.254233</td>\n      <td>1.008424</td>\n      <td>74.471885</td>\n    </tr>\n    <tr>\n      <th>4</th>\n      <td>0.338208</td>\n      <td>1.201685</td>\n      <td>0.372070</td>\n      <td>0.255180</td>\n      <td>1.028326</td>\n      <td>96.465300</td>\n    </tr>\n  </tbody>\n</table>\n</div>"
     },
     "execution_count": 7,
     "metadata": {},
     "output_type": "execute_result"
    }
   ],
   "source": [
    "get_result('MF', 10, 'rt', 1, 'all', True)"
   ],
   "metadata": {
    "collapsed": false
   }
  },
  {
   "cell_type": "code",
   "execution_count": 8,
   "metadata": {},
   "outputs": [
    {
     "name": "stdout",
     "output_type": "stream",
     "text": [
      "/home/yxzeng/code_python/QoS_Eraser/Result/CSMF/part_type_10/tp/slices_1/metrics/Final_result_density_tp_0.10.csv\n",
      "/home/yxzeng/code_python/QoS_Eraser/Result/CSMF/part_type_10/tp/slices_1/metrics/Final_result_density_tp_0.15.csv\n",
      "/home/yxzeng/code_python/QoS_Eraser/Result/CSMF/part_type_10/tp/slices_1/metrics/Final_result_density_tp_0.20.csv\n",
      "/home/yxzeng/code_python/QoS_Eraser/Result/CSMF/part_type_10/tp/slices_1/metrics/Final_result_density_tp_0.25.csv\n",
      "/home/yxzeng/code_python/QoS_Eraser/Result/CSMF/part_type_10/tp/slices_1/metrics/Final_result_density_tp_0.30.csv\n",
      "----------------------------------------------------------------------------------------------------------------------------------\n",
      "/home/yxzeng/code_python/QoS_Eraser/Result/CSMF/part_type_10/tp/slices_1/time/Final_time_density_tp_0.10.csv\n",
      "/home/yxzeng/code_python/QoS_Eraser/Result/CSMF/part_type_10/tp/slices_1/time/Final_time_density_tp_0.15.csv\n",
      "/home/yxzeng/code_python/QoS_Eraser/Result/CSMF/part_type_10/tp/slices_1/time/Final_time_density_tp_0.20.csv\n",
      "/home/yxzeng/code_python/QoS_Eraser/Result/CSMF/part_type_10/tp/slices_1/time/Final_time_density_tp_0.25.csv\n",
      "/home/yxzeng/code_python/QoS_Eraser/Result/CSMF/part_type_10/tp/slices_1/time/Final_time_density_tp_0.30.csv\n",
      "----------------------------------------------------------------------------------------------------------------------------------\n",
      "Pure SISA experiment!\n"
     ]
    },
    {
     "data": {
      "text/plain": "         MAE       RMSE      NMAE       MRE      NPRE  retrain_time\n0  13.971522  45.195302  0.293879  0.227560  1.048403     94.455542\n1  12.828636  42.110755  0.269765  0.206441  0.939619    154.747569\n2  11.991392  40.105389  0.252061  0.191275  0.865923    206.394382\n3  11.371379  38.523807  0.239113  0.178607  0.821420    254.214706\n4  11.041444  37.399120  0.232154  0.173307  0.828952    352.410429",
      "text/html": "<div>\n<style scoped>\n    .dataframe tbody tr th:only-of-type {\n        vertical-align: middle;\n    }\n\n    .dataframe tbody tr th {\n        vertical-align: top;\n    }\n\n    .dataframe thead th {\n        text-align: right;\n    }\n</style>\n<table border=\"1\" class=\"dataframe\">\n  <thead>\n    <tr style=\"text-align: right;\">\n      <th></th>\n      <th>MAE</th>\n      <th>RMSE</th>\n      <th>NMAE</th>\n      <th>MRE</th>\n      <th>NPRE</th>\n      <th>retrain_time</th>\n    </tr>\n  </thead>\n  <tbody>\n    <tr>\n      <th>0</th>\n      <td>13.971522</td>\n      <td>45.195302</td>\n      <td>0.293879</td>\n      <td>0.227560</td>\n      <td>1.048403</td>\n      <td>94.455542</td>\n    </tr>\n    <tr>\n      <th>1</th>\n      <td>12.828636</td>\n      <td>42.110755</td>\n      <td>0.269765</td>\n      <td>0.206441</td>\n      <td>0.939619</td>\n      <td>154.747569</td>\n    </tr>\n    <tr>\n      <th>2</th>\n      <td>11.991392</td>\n      <td>40.105389</td>\n      <td>0.252061</td>\n      <td>0.191275</td>\n      <td>0.865923</td>\n      <td>206.394382</td>\n    </tr>\n    <tr>\n      <th>3</th>\n      <td>11.371379</td>\n      <td>38.523807</td>\n      <td>0.239113</td>\n      <td>0.178607</td>\n      <td>0.821420</td>\n      <td>254.214706</td>\n    </tr>\n    <tr>\n      <th>4</th>\n      <td>11.041444</td>\n      <td>37.399120</td>\n      <td>0.232154</td>\n      <td>0.173307</td>\n      <td>0.828952</td>\n      <td>352.410429</td>\n    </tr>\n  </tbody>\n</table>\n</div>"
     },
     "execution_count": 8,
     "metadata": {},
     "output_type": "execute_result"
    }
   ],
   "source": [
    "get_result('CSMF', 10, 'tp', 1, 'all', True)"
   ]
  },
  {
   "cell_type": "code",
   "execution_count": 9,
   "metadata": {},
   "outputs": [
    {
     "name": "stdout",
     "output_type": "stream",
     "text": [
      "/home/yxzeng/code_python/QoS_Eraser/Result/NeuCF/part_type_10/tp/slices_1/metrics/Final_result_density_tp_0.10.csv\n",
      "/home/yxzeng/code_python/QoS_Eraser/Result/NeuCF/part_type_10/tp/slices_1/metrics/Final_result_density_tp_0.15.csv\n",
      "/home/yxzeng/code_python/QoS_Eraser/Result/NeuCF/part_type_10/tp/slices_1/metrics/Final_result_density_tp_0.20.csv\n",
      "/home/yxzeng/code_python/QoS_Eraser/Result/NeuCF/part_type_10/tp/slices_1/metrics/Final_result_density_tp_0.25.csv\n",
      "/home/yxzeng/code_python/QoS_Eraser/Result/NeuCF/part_type_10/tp/slices_1/metrics/Final_result_density_tp_0.30.csv\n",
      "----------------------------------------------------------------------------------------------------------------------------------\n",
      "/home/yxzeng/code_python/QoS_Eraser/Result/NeuCF/part_type_10/tp/slices_1/time/Final_time_density_tp_0.10.csv\n",
      "/home/yxzeng/code_python/QoS_Eraser/Result/NeuCF/part_type_10/tp/slices_1/time/Final_time_density_tp_0.15.csv\n",
      "/home/yxzeng/code_python/QoS_Eraser/Result/NeuCF/part_type_10/tp/slices_1/time/Final_time_density_tp_0.20.csv\n",
      "/home/yxzeng/code_python/QoS_Eraser/Result/NeuCF/part_type_10/tp/slices_1/time/Final_time_density_tp_0.25.csv\n",
      "/home/yxzeng/code_python/QoS_Eraser/Result/NeuCF/part_type_10/tp/slices_1/time/Final_time_density_tp_0.30.csv\n",
      "----------------------------------------------------------------------------------------------------------------------------------\n",
      "Pure SISA experiment!\n"
     ]
    },
    {
     "data": {
      "text/plain": "         MAE       RMSE      NMAE       MRE      NPRE  retrain_time\n0  16.512076  50.636437  0.347242  0.314250  1.642096     81.843594\n1  15.105738  46.872090  0.317647  0.293152  1.574311    115.067800\n2  13.949186  43.662707  0.293232  0.275080  1.489424    144.980059\n3  13.243787  41.599470  0.278368  0.266356  1.404215    195.048683\n4  12.449648  39.647153  0.261662  0.245847  1.359830    250.932269",
      "text/html": "<div>\n<style scoped>\n    .dataframe tbody tr th:only-of-type {\n        vertical-align: middle;\n    }\n\n    .dataframe tbody tr th {\n        vertical-align: top;\n    }\n\n    .dataframe thead th {\n        text-align: right;\n    }\n</style>\n<table border=\"1\" class=\"dataframe\">\n  <thead>\n    <tr style=\"text-align: right;\">\n      <th></th>\n      <th>MAE</th>\n      <th>RMSE</th>\n      <th>NMAE</th>\n      <th>MRE</th>\n      <th>NPRE</th>\n      <th>retrain_time</th>\n    </tr>\n  </thead>\n  <tbody>\n    <tr>\n      <th>0</th>\n      <td>16.512076</td>\n      <td>50.636437</td>\n      <td>0.347242</td>\n      <td>0.314250</td>\n      <td>1.642096</td>\n      <td>81.843594</td>\n    </tr>\n    <tr>\n      <th>1</th>\n      <td>15.105738</td>\n      <td>46.872090</td>\n      <td>0.317647</td>\n      <td>0.293152</td>\n      <td>1.574311</td>\n      <td>115.067800</td>\n    </tr>\n    <tr>\n      <th>2</th>\n      <td>13.949186</td>\n      <td>43.662707</td>\n      <td>0.293232</td>\n      <td>0.275080</td>\n      <td>1.489424</td>\n      <td>144.980059</td>\n    </tr>\n    <tr>\n      <th>3</th>\n      <td>13.243787</td>\n      <td>41.599470</td>\n      <td>0.278368</td>\n      <td>0.266356</td>\n      <td>1.404215</td>\n      <td>195.048683</td>\n    </tr>\n    <tr>\n      <th>4</th>\n      <td>12.449648</td>\n      <td>39.647153</td>\n      <td>0.261662</td>\n      <td>0.245847</td>\n      <td>1.359830</td>\n      <td>250.932269</td>\n    </tr>\n  </tbody>\n</table>\n</div>"
     },
     "execution_count": 9,
     "metadata": {},
     "output_type": "execute_result"
    }
   ],
   "source": [
    "get_result('NeuCF', 10, 'tp', 1, 'all', True)"
   ]
  },
  {
   "cell_type": "code",
   "execution_count": 10,
   "metadata": {},
   "outputs": [
    {
     "name": "stdout",
     "output_type": "stream",
     "text": [
      "/home/yxzeng/code_python/QoS_Eraser/Result/GraphMF/part_type_10/tp/slices_1/metrics/Final_result_density_tp_0.10.csv\n",
      "/home/yxzeng/code_python/QoS_Eraser/Result/GraphMF/part_type_10/tp/slices_1/metrics/Final_result_density_tp_0.15.csv\n",
      "/home/yxzeng/code_python/QoS_Eraser/Result/GraphMF/part_type_10/tp/slices_1/metrics/Final_result_density_tp_0.20.csv\n",
      "/home/yxzeng/code_python/QoS_Eraser/Result/GraphMF/part_type_10/tp/slices_1/metrics/Final_result_density_tp_0.25.csv\n",
      "/home/yxzeng/code_python/QoS_Eraser/Result/GraphMF/part_type_10/tp/slices_1/metrics/Final_result_density_tp_0.30.csv\n",
      "----------------------------------------------------------------------------------------------------------------------------------\n",
      "/home/yxzeng/code_python/QoS_Eraser/Result/GraphMF/part_type_10/tp/slices_1/time/Final_time_density_tp_0.10.csv\n",
      "/home/yxzeng/code_python/QoS_Eraser/Result/GraphMF/part_type_10/tp/slices_1/time/Final_time_density_tp_0.15.csv\n",
      "/home/yxzeng/code_python/QoS_Eraser/Result/GraphMF/part_type_10/tp/slices_1/time/Final_time_density_tp_0.20.csv\n",
      "/home/yxzeng/code_python/QoS_Eraser/Result/GraphMF/part_type_10/tp/slices_1/time/Final_time_density_tp_0.25.csv\n",
      "/home/yxzeng/code_python/QoS_Eraser/Result/GraphMF/part_type_10/tp/slices_1/time/Final_time_density_tp_0.30.csv\n",
      "----------------------------------------------------------------------------------------------------------------------------------\n",
      "Pure SISA experiment!\n"
     ]
    },
    {
     "data": {
      "text/plain": "         MAE       RMSE      NMAE       MRE      NPRE  retrain_time\n0  11.740687  42.796563  0.246875  0.158028  0.822926    258.631380\n1  10.848979  40.212610  0.228156  0.144228  0.774868    403.274969\n2  10.314256  38.327734  0.216842  0.135466  0.745669    516.319347\n3   9.958744  37.293482  0.209371  0.129499  0.727358    645.027591\n4   9.760403  36.593136  0.205370  0.126653  0.720668    799.489423",
      "text/html": "<div>\n<style scoped>\n    .dataframe tbody tr th:only-of-type {\n        vertical-align: middle;\n    }\n\n    .dataframe tbody tr th {\n        vertical-align: top;\n    }\n\n    .dataframe thead th {\n        text-align: right;\n    }\n</style>\n<table border=\"1\" class=\"dataframe\">\n  <thead>\n    <tr style=\"text-align: right;\">\n      <th></th>\n      <th>MAE</th>\n      <th>RMSE</th>\n      <th>NMAE</th>\n      <th>MRE</th>\n      <th>NPRE</th>\n      <th>retrain_time</th>\n    </tr>\n  </thead>\n  <tbody>\n    <tr>\n      <th>0</th>\n      <td>11.740687</td>\n      <td>42.796563</td>\n      <td>0.246875</td>\n      <td>0.158028</td>\n      <td>0.822926</td>\n      <td>258.631380</td>\n    </tr>\n    <tr>\n      <th>1</th>\n      <td>10.848979</td>\n      <td>40.212610</td>\n      <td>0.228156</td>\n      <td>0.144228</td>\n      <td>0.774868</td>\n      <td>403.274969</td>\n    </tr>\n    <tr>\n      <th>2</th>\n      <td>10.314256</td>\n      <td>38.327734</td>\n      <td>0.216842</td>\n      <td>0.135466</td>\n      <td>0.745669</td>\n      <td>516.319347</td>\n    </tr>\n    <tr>\n      <th>3</th>\n      <td>9.958744</td>\n      <td>37.293482</td>\n      <td>0.209371</td>\n      <td>0.129499</td>\n      <td>0.727358</td>\n      <td>645.027591</td>\n    </tr>\n    <tr>\n      <th>4</th>\n      <td>9.760403</td>\n      <td>36.593136</td>\n      <td>0.205370</td>\n      <td>0.126653</td>\n      <td>0.720668</td>\n      <td>799.489423</td>\n    </tr>\n  </tbody>\n</table>\n</div>"
     },
     "execution_count": 10,
     "metadata": {},
     "output_type": "execute_result"
    }
   ],
   "source": [
    "get_result('GraphMF', 10, 'tp', 1, 'all', True)"
   ]
  },
  {
   "cell_type": "code",
   "execution_count": 11,
   "outputs": [
    {
     "name": "stdout",
     "output_type": "stream",
     "text": [
      "/home/yxzeng/code_python/QoS_Eraser/Result/MF/part_type_10/tp/slices_1/metrics/Final_result_density_tp_0.10.csv\n",
      "/home/yxzeng/code_python/QoS_Eraser/Result/MF/part_type_10/tp/slices_1/metrics/Final_result_density_tp_0.15.csv\n",
      "/home/yxzeng/code_python/QoS_Eraser/Result/MF/part_type_10/tp/slices_1/metrics/Final_result_density_tp_0.20.csv\n",
      "/home/yxzeng/code_python/QoS_Eraser/Result/MF/part_type_10/tp/slices_1/metrics/Final_result_density_tp_0.25.csv\n",
      "/home/yxzeng/code_python/QoS_Eraser/Result/MF/part_type_10/tp/slices_1/metrics/Final_result_density_tp_0.30.csv\n",
      "----------------------------------------------------------------------------------------------------------------------------------\n",
      "/home/yxzeng/code_python/QoS_Eraser/Result/MF/part_type_10/tp/slices_1/time/Final_time_density_tp_0.10.csv\n",
      "/home/yxzeng/code_python/QoS_Eraser/Result/MF/part_type_10/tp/slices_1/time/Final_time_density_tp_0.15.csv\n",
      "/home/yxzeng/code_python/QoS_Eraser/Result/MF/part_type_10/tp/slices_1/time/Final_time_density_tp_0.20.csv\n",
      "/home/yxzeng/code_python/QoS_Eraser/Result/MF/part_type_10/tp/slices_1/time/Final_time_density_tp_0.25.csv\n",
      "/home/yxzeng/code_python/QoS_Eraser/Result/MF/part_type_10/tp/slices_1/time/Final_time_density_tp_0.30.csv\n",
      "----------------------------------------------------------------------------------------------------------------------------------\n",
      "Pure SISA experiment!\n"
     ]
    },
    {
     "data": {
      "text/plain": "         MAE       RMSE      NMAE       MRE      NPRE  retrain_time\n0  16.426994  48.348161  0.345584  0.382079  2.686005     67.084632\n1  14.493483  44.381298  0.304673  0.335571  2.190485     87.151610\n2  13.636238  42.688507  0.286819  0.317318  2.021180     95.329702\n3  13.125734  41.530963  0.275956  0.305012  1.889587    101.998270\n4  12.894151  40.012797  0.270995  0.313327  1.968129    126.096581",
      "text/html": "<div>\n<style scoped>\n    .dataframe tbody tr th:only-of-type {\n        vertical-align: middle;\n    }\n\n    .dataframe tbody tr th {\n        vertical-align: top;\n    }\n\n    .dataframe thead th {\n        text-align: right;\n    }\n</style>\n<table border=\"1\" class=\"dataframe\">\n  <thead>\n    <tr style=\"text-align: right;\">\n      <th></th>\n      <th>MAE</th>\n      <th>RMSE</th>\n      <th>NMAE</th>\n      <th>MRE</th>\n      <th>NPRE</th>\n      <th>retrain_time</th>\n    </tr>\n  </thead>\n  <tbody>\n    <tr>\n      <th>0</th>\n      <td>16.426994</td>\n      <td>48.348161</td>\n      <td>0.345584</td>\n      <td>0.382079</td>\n      <td>2.686005</td>\n      <td>67.084632</td>\n    </tr>\n    <tr>\n      <th>1</th>\n      <td>14.493483</td>\n      <td>44.381298</td>\n      <td>0.304673</td>\n      <td>0.335571</td>\n      <td>2.190485</td>\n      <td>87.151610</td>\n    </tr>\n    <tr>\n      <th>2</th>\n      <td>13.636238</td>\n      <td>42.688507</td>\n      <td>0.286819</td>\n      <td>0.317318</td>\n      <td>2.021180</td>\n      <td>95.329702</td>\n    </tr>\n    <tr>\n      <th>3</th>\n      <td>13.125734</td>\n      <td>41.530963</td>\n      <td>0.275956</td>\n      <td>0.305012</td>\n      <td>1.889587</td>\n      <td>101.998270</td>\n    </tr>\n    <tr>\n      <th>4</th>\n      <td>12.894151</td>\n      <td>40.012797</td>\n      <td>0.270995</td>\n      <td>0.313327</td>\n      <td>1.968129</td>\n      <td>126.096581</td>\n    </tr>\n  </tbody>\n</table>\n</div>"
     },
     "execution_count": 11,
     "metadata": {},
     "output_type": "execute_result"
    }
   ],
   "source": [
    "get_result('MF', 10, 'tp', 1, 'all', True)"
   ],
   "metadata": {
    "collapsed": false
   }
  },
  {
   "cell_type": "markdown",
   "metadata": {},
   "source": [
    "*****"
   ]
  },
  {
   "cell_type": "code",
   "execution_count": 12,
   "outputs": [
    {
     "name": "stdout",
     "output_type": "stream",
     "text": [
      "/home/yxzeng/code_python/QoS_Eraser/Result/CSMF/part_type_1/rt/slices_5/metrics/Final_result_density_rt_0.10.csv\n",
      "/home/yxzeng/code_python/QoS_Eraser/Result/CSMF/part_type_1/rt/slices_5/metrics/Final_result_density_rt_0.15.csv\n",
      "/home/yxzeng/code_python/QoS_Eraser/Result/CSMF/part_type_1/rt/slices_5/metrics/Final_result_density_rt_0.20.csv\n",
      "/home/yxzeng/code_python/QoS_Eraser/Result/CSMF/part_type_1/rt/slices_5/metrics/Final_result_density_rt_0.25.csv\n",
      "/home/yxzeng/code_python/QoS_Eraser/Result/CSMF/part_type_1/rt/slices_5/metrics/Final_result_density_rt_0.30.csv\n",
      "----------------------------------------------------------------------------------------------------------------------------------\n",
      "/home/yxzeng/code_python/QoS_Eraser/Result/CSMF/part_type_1/rt/slices_5/time/Final_time_density_rt_0.10.csv\n",
      "/home/yxzeng/code_python/QoS_Eraser/Result/CSMF/part_type_1/rt/slices_5/time/Final_time_density_rt_0.15.csv\n",
      "/home/yxzeng/code_python/QoS_Eraser/Result/CSMF/part_type_1/rt/slices_5/time/Final_time_density_rt_0.20.csv\n",
      "/home/yxzeng/code_python/QoS_Eraser/Result/CSMF/part_type_1/rt/slices_5/time/Final_time_density_rt_0.25.csv\n",
      "/home/yxzeng/code_python/QoS_Eraser/Result/CSMF/part_type_1/rt/slices_5/time/Final_time_density_rt_0.30.csv\n",
      "----------------------------------------------------------------------------------------------------------------------------------\n",
      "node2vec experiment!\n"
     ]
    },
    {
     "data": {
      "text/plain": "        MAE      RMSE      NMAE       MRE      NPRE   agg_time\n0  0.553634  1.536654  0.609393  0.466756  2.015448  13.249884\n1  0.521528  1.481081  0.573946  0.438093  1.792567  12.698410\n2  0.514238  1.468144  0.565938  0.427566  1.770080  16.955495\n3  0.492257  1.427981  0.541614  0.405275  1.684665  19.802136\n4  0.492931  1.429421  0.542911  0.411019  1.748340  20.502277",
      "text/html": "<div>\n<style scoped>\n    .dataframe tbody tr th:only-of-type {\n        vertical-align: middle;\n    }\n\n    .dataframe tbody tr th {\n        vertical-align: top;\n    }\n\n    .dataframe thead th {\n        text-align: right;\n    }\n</style>\n<table border=\"1\" class=\"dataframe\">\n  <thead>\n    <tr style=\"text-align: right;\">\n      <th></th>\n      <th>MAE</th>\n      <th>RMSE</th>\n      <th>NMAE</th>\n      <th>MRE</th>\n      <th>NPRE</th>\n      <th>agg_time</th>\n    </tr>\n  </thead>\n  <tbody>\n    <tr>\n      <th>0</th>\n      <td>0.553634</td>\n      <td>1.536654</td>\n      <td>0.609393</td>\n      <td>0.466756</td>\n      <td>2.015448</td>\n      <td>13.249884</td>\n    </tr>\n    <tr>\n      <th>1</th>\n      <td>0.521528</td>\n      <td>1.481081</td>\n      <td>0.573946</td>\n      <td>0.438093</td>\n      <td>1.792567</td>\n      <td>12.698410</td>\n    </tr>\n    <tr>\n      <th>2</th>\n      <td>0.514238</td>\n      <td>1.468144</td>\n      <td>0.565938</td>\n      <td>0.427566</td>\n      <td>1.770080</td>\n      <td>16.955495</td>\n    </tr>\n    <tr>\n      <th>3</th>\n      <td>0.492257</td>\n      <td>1.427981</td>\n      <td>0.541614</td>\n      <td>0.405275</td>\n      <td>1.684665</td>\n      <td>19.802136</td>\n    </tr>\n    <tr>\n      <th>4</th>\n      <td>0.492931</td>\n      <td>1.429421</td>\n      <td>0.542911</td>\n      <td>0.411019</td>\n      <td>1.748340</td>\n      <td>20.502277</td>\n    </tr>\n  </tbody>\n</table>\n</div>"
     },
     "execution_count": 12,
     "metadata": {},
     "output_type": "execute_result"
    }
   ],
   "source": [
    "get_result('CSMF', 1, 'rt', slices, 'all')"
   ],
   "metadata": {
    "collapsed": false
   }
  },
  {
   "cell_type": "code",
   "execution_count": 13,
   "outputs": [
    {
     "name": "stdout",
     "output_type": "stream",
     "text": [
      "/home/yxzeng/code_python/QoS_Eraser/Result/NeuCF/part_type_1/rt/slices_5/metrics/Final_result_density_rt_0.10.csv\n",
      "/home/yxzeng/code_python/QoS_Eraser/Result/NeuCF/part_type_1/rt/slices_5/metrics/Final_result_density_rt_0.15.csv\n",
      "/home/yxzeng/code_python/QoS_Eraser/Result/NeuCF/part_type_1/rt/slices_5/metrics/Final_result_density_rt_0.20.csv\n",
      "/home/yxzeng/code_python/QoS_Eraser/Result/NeuCF/part_type_1/rt/slices_5/metrics/Final_result_density_rt_0.25.csv\n",
      "/home/yxzeng/code_python/QoS_Eraser/Result/NeuCF/part_type_1/rt/slices_5/metrics/Final_result_density_rt_0.30.csv\n",
      "----------------------------------------------------------------------------------------------------------------------------------\n",
      "/home/yxzeng/code_python/QoS_Eraser/Result/NeuCF/part_type_1/rt/slices_5/time/Final_time_density_rt_0.10.csv\n",
      "/home/yxzeng/code_python/QoS_Eraser/Result/NeuCF/part_type_1/rt/slices_5/time/Final_time_density_rt_0.15.csv\n",
      "/home/yxzeng/code_python/QoS_Eraser/Result/NeuCF/part_type_1/rt/slices_5/time/Final_time_density_rt_0.20.csv\n",
      "/home/yxzeng/code_python/QoS_Eraser/Result/NeuCF/part_type_1/rt/slices_5/time/Final_time_density_rt_0.25.csv\n",
      "/home/yxzeng/code_python/QoS_Eraser/Result/NeuCF/part_type_1/rt/slices_5/time/Final_time_density_rt_0.30.csv\n",
      "----------------------------------------------------------------------------------------------------------------------------------\n",
      "node2vec experiment!\n"
     ]
    },
    {
     "data": {
      "text/plain": "        MAE      RMSE      NMAE       MRE      NPRE   agg_time\n0  0.482301  1.414551  0.530998  0.422231  2.056637   8.617153\n1  0.447009  1.358422  0.492049  0.387019  1.928124  10.169813\n2  0.428050  1.335279  0.471497  0.365729  1.880330  11.420890\n3  0.400578  1.303824  0.441038  0.336063  1.494370  14.036674\n4  0.386466  1.285129  0.425635  0.313813  1.372867  16.375243",
      "text/html": "<div>\n<style scoped>\n    .dataframe tbody tr th:only-of-type {\n        vertical-align: middle;\n    }\n\n    .dataframe tbody tr th {\n        vertical-align: top;\n    }\n\n    .dataframe thead th {\n        text-align: right;\n    }\n</style>\n<table border=\"1\" class=\"dataframe\">\n  <thead>\n    <tr style=\"text-align: right;\">\n      <th></th>\n      <th>MAE</th>\n      <th>RMSE</th>\n      <th>NMAE</th>\n      <th>MRE</th>\n      <th>NPRE</th>\n      <th>agg_time</th>\n    </tr>\n  </thead>\n  <tbody>\n    <tr>\n      <th>0</th>\n      <td>0.482301</td>\n      <td>1.414551</td>\n      <td>0.530998</td>\n      <td>0.422231</td>\n      <td>2.056637</td>\n      <td>8.617153</td>\n    </tr>\n    <tr>\n      <th>1</th>\n      <td>0.447009</td>\n      <td>1.358422</td>\n      <td>0.492049</td>\n      <td>0.387019</td>\n      <td>1.928124</td>\n      <td>10.169813</td>\n    </tr>\n    <tr>\n      <th>2</th>\n      <td>0.428050</td>\n      <td>1.335279</td>\n      <td>0.471497</td>\n      <td>0.365729</td>\n      <td>1.880330</td>\n      <td>11.420890</td>\n    </tr>\n    <tr>\n      <th>3</th>\n      <td>0.400578</td>\n      <td>1.303824</td>\n      <td>0.441038</td>\n      <td>0.336063</td>\n      <td>1.494370</td>\n      <td>14.036674</td>\n    </tr>\n    <tr>\n      <th>4</th>\n      <td>0.386466</td>\n      <td>1.285129</td>\n      <td>0.425635</td>\n      <td>0.313813</td>\n      <td>1.372867</td>\n      <td>16.375243</td>\n    </tr>\n  </tbody>\n</table>\n</div>"
     },
     "execution_count": 13,
     "metadata": {},
     "output_type": "execute_result"
    }
   ],
   "source": [
    "get_result('NeuCF', 1, 'rt', slices, 'all')"
   ],
   "metadata": {
    "collapsed": false
   }
  },
  {
   "cell_type": "code",
   "execution_count": 14,
   "outputs": [
    {
     "name": "stdout",
     "output_type": "stream",
     "text": [
      "/home/yxzeng/code_python/QoS_Eraser/Result/GraphMF/part_type_1/rt/slices_5/metrics/Final_result_density_rt_0.10.csv\n",
      "/home/yxzeng/code_python/QoS_Eraser/Result/GraphMF/part_type_1/rt/slices_5/metrics/Final_result_density_rt_0.15.csv\n",
      "/home/yxzeng/code_python/QoS_Eraser/Result/GraphMF/part_type_1/rt/slices_5/metrics/Final_result_density_rt_0.20.csv\n",
      "/home/yxzeng/code_python/QoS_Eraser/Result/GraphMF/part_type_1/rt/slices_5/metrics/Final_result_density_rt_0.25.csv\n",
      "/home/yxzeng/code_python/QoS_Eraser/Result/GraphMF/part_type_1/rt/slices_5/metrics/Final_result_density_rt_0.30.csv\n",
      "----------------------------------------------------------------------------------------------------------------------------------\n",
      "/home/yxzeng/code_python/QoS_Eraser/Result/GraphMF/part_type_1/rt/slices_5/time/Final_time_density_rt_0.10.csv\n",
      "/home/yxzeng/code_python/QoS_Eraser/Result/GraphMF/part_type_1/rt/slices_5/time/Final_time_density_rt_0.15.csv\n",
      "/home/yxzeng/code_python/QoS_Eraser/Result/GraphMF/part_type_1/rt/slices_5/time/Final_time_density_rt_0.20.csv\n",
      "/home/yxzeng/code_python/QoS_Eraser/Result/GraphMF/part_type_1/rt/slices_5/time/Final_time_density_rt_0.25.csv\n",
      "/home/yxzeng/code_python/QoS_Eraser/Result/GraphMF/part_type_1/rt/slices_5/time/Final_time_density_rt_0.30.csv\n",
      "----------------------------------------------------------------------------------------------------------------------------------\n",
      "node2vec experiment!\n"
     ]
    },
    {
     "data": {
      "text/plain": "        MAE      RMSE      NMAE       MRE      NPRE   agg_time\n0  0.346552  1.268372  0.381429  0.192267  0.806109  28.935094\n1  0.328515  1.237921  0.361548  0.171040  0.761055  35.095517\n2  0.318232  1.220306  0.350095  0.160117  0.732280  43.970476\n3  0.309600  1.205798  0.340762  0.152289  0.709732  46.916364\n4  0.305141  1.191504  0.335751  0.148470  0.696431  55.933195",
      "text/html": "<div>\n<style scoped>\n    .dataframe tbody tr th:only-of-type {\n        vertical-align: middle;\n    }\n\n    .dataframe tbody tr th {\n        vertical-align: top;\n    }\n\n    .dataframe thead th {\n        text-align: right;\n    }\n</style>\n<table border=\"1\" class=\"dataframe\">\n  <thead>\n    <tr style=\"text-align: right;\">\n      <th></th>\n      <th>MAE</th>\n      <th>RMSE</th>\n      <th>NMAE</th>\n      <th>MRE</th>\n      <th>NPRE</th>\n      <th>agg_time</th>\n    </tr>\n  </thead>\n  <tbody>\n    <tr>\n      <th>0</th>\n      <td>0.346552</td>\n      <td>1.268372</td>\n      <td>0.381429</td>\n      <td>0.192267</td>\n      <td>0.806109</td>\n      <td>28.935094</td>\n    </tr>\n    <tr>\n      <th>1</th>\n      <td>0.328515</td>\n      <td>1.237921</td>\n      <td>0.361548</td>\n      <td>0.171040</td>\n      <td>0.761055</td>\n      <td>35.095517</td>\n    </tr>\n    <tr>\n      <th>2</th>\n      <td>0.318232</td>\n      <td>1.220306</td>\n      <td>0.350095</td>\n      <td>0.160117</td>\n      <td>0.732280</td>\n      <td>43.970476</td>\n    </tr>\n    <tr>\n      <th>3</th>\n      <td>0.309600</td>\n      <td>1.205798</td>\n      <td>0.340762</td>\n      <td>0.152289</td>\n      <td>0.709732</td>\n      <td>46.916364</td>\n    </tr>\n    <tr>\n      <th>4</th>\n      <td>0.305141</td>\n      <td>1.191504</td>\n      <td>0.335751</td>\n      <td>0.148470</td>\n      <td>0.696431</td>\n      <td>55.933195</td>\n    </tr>\n  </tbody>\n</table>\n</div>"
     },
     "execution_count": 14,
     "metadata": {},
     "output_type": "execute_result"
    }
   ],
   "source": [
    "get_result('GraphMF', 1, 'rt', slices, 'all')"
   ],
   "metadata": {
    "collapsed": false
   }
  },
  {
   "cell_type": "code",
   "execution_count": 15,
   "outputs": [
    {
     "name": "stdout",
     "output_type": "stream",
     "text": [
      "/home/yxzeng/code_python/QoS_Eraser/Result/MF/part_type_1/rt/slices_5/metrics/Final_result_density_rt_0.10.csv\n",
      "/home/yxzeng/code_python/QoS_Eraser/Result/MF/part_type_1/rt/slices_5/metrics/Final_result_density_rt_0.15.csv\n",
      "/home/yxzeng/code_python/QoS_Eraser/Result/MF/part_type_1/rt/slices_5/metrics/Final_result_density_rt_0.20.csv\n",
      "/home/yxzeng/code_python/QoS_Eraser/Result/MF/part_type_1/rt/slices_5/metrics/Final_result_density_rt_0.25.csv\n",
      "/home/yxzeng/code_python/QoS_Eraser/Result/MF/part_type_1/rt/slices_5/metrics/Final_result_density_rt_0.30.csv\n",
      "----------------------------------------------------------------------------------------------------------------------------------\n",
      "/home/yxzeng/code_python/QoS_Eraser/Result/MF/part_type_1/rt/slices_5/time/Final_time_density_rt_0.10.csv\n",
      "/home/yxzeng/code_python/QoS_Eraser/Result/MF/part_type_1/rt/slices_5/time/Final_time_density_rt_0.15.csv\n",
      "/home/yxzeng/code_python/QoS_Eraser/Result/MF/part_type_1/rt/slices_5/time/Final_time_density_rt_0.20.csv\n",
      "/home/yxzeng/code_python/QoS_Eraser/Result/MF/part_type_1/rt/slices_5/time/Final_time_density_rt_0.25.csv\n",
      "/home/yxzeng/code_python/QoS_Eraser/Result/MF/part_type_1/rt/slices_5/time/Final_time_density_rt_0.30.csv\n",
      "----------------------------------------------------------------------------------------------------------------------------------\n",
      "node2vec experiment!\n"
     ]
    },
    {
     "data": {
      "text/plain": "        MAE      RMSE      NMAE       MRE      NPRE   agg_time\n0  0.751829  2.059745  0.827147  0.666908  3.217934   7.368153\n1  0.711287  1.935965  0.782927  0.655438  3.013056  12.811377\n2  0.695839  1.851640  0.765723  0.679910  3.089464   6.691185\n3  0.676129  1.786685  0.744515  0.680527  2.953508  14.837882\n4  0.674864  1.788649  0.742799  0.679520  2.952906  19.311756",
      "text/html": "<div>\n<style scoped>\n    .dataframe tbody tr th:only-of-type {\n        vertical-align: middle;\n    }\n\n    .dataframe tbody tr th {\n        vertical-align: top;\n    }\n\n    .dataframe thead th {\n        text-align: right;\n    }\n</style>\n<table border=\"1\" class=\"dataframe\">\n  <thead>\n    <tr style=\"text-align: right;\">\n      <th></th>\n      <th>MAE</th>\n      <th>RMSE</th>\n      <th>NMAE</th>\n      <th>MRE</th>\n      <th>NPRE</th>\n      <th>agg_time</th>\n    </tr>\n  </thead>\n  <tbody>\n    <tr>\n      <th>0</th>\n      <td>0.751829</td>\n      <td>2.059745</td>\n      <td>0.827147</td>\n      <td>0.666908</td>\n      <td>3.217934</td>\n      <td>7.368153</td>\n    </tr>\n    <tr>\n      <th>1</th>\n      <td>0.711287</td>\n      <td>1.935965</td>\n      <td>0.782927</td>\n      <td>0.655438</td>\n      <td>3.013056</td>\n      <td>12.811377</td>\n    </tr>\n    <tr>\n      <th>2</th>\n      <td>0.695839</td>\n      <td>1.851640</td>\n      <td>0.765723</td>\n      <td>0.679910</td>\n      <td>3.089464</td>\n      <td>6.691185</td>\n    </tr>\n    <tr>\n      <th>3</th>\n      <td>0.676129</td>\n      <td>1.786685</td>\n      <td>0.744515</td>\n      <td>0.680527</td>\n      <td>2.953508</td>\n      <td>14.837882</td>\n    </tr>\n    <tr>\n      <th>4</th>\n      <td>0.674864</td>\n      <td>1.788649</td>\n      <td>0.742799</td>\n      <td>0.679520</td>\n      <td>2.952906</td>\n      <td>19.311756</td>\n    </tr>\n  </tbody>\n</table>\n</div>"
     },
     "execution_count": 15,
     "metadata": {},
     "output_type": "execute_result"
    }
   ],
   "source": [
    "get_result('MF', 1, 'rt', slices, 'all')"
   ],
   "metadata": {
    "collapsed": false
   }
  },
  {
   "cell_type": "code",
   "execution_count": 16,
   "outputs": [
    {
     "name": "stdout",
     "output_type": "stream",
     "text": [
      "/home/yxzeng/code_python/QoS_Eraser/Result/CSMF/part_type_1/tp/slices_5/metrics/Final_result_density_tp_0.10.csv\n",
      "/home/yxzeng/code_python/QoS_Eraser/Result/CSMF/part_type_1/tp/slices_5/metrics/Final_result_density_tp_0.15.csv\n",
      "/home/yxzeng/code_python/QoS_Eraser/Result/CSMF/part_type_1/tp/slices_5/metrics/Final_result_density_tp_0.20.csv\n",
      "/home/yxzeng/code_python/QoS_Eraser/Result/CSMF/part_type_1/tp/slices_5/metrics/Final_result_density_tp_0.25.csv\n",
      "/home/yxzeng/code_python/QoS_Eraser/Result/CSMF/part_type_1/tp/slices_5/metrics/Final_result_density_tp_0.30.csv\n",
      "----------------------------------------------------------------------------------------------------------------------------------\n",
      "/home/yxzeng/code_python/QoS_Eraser/Result/CSMF/part_type_1/tp/slices_5/time/Final_time_density_tp_0.10.csv\n",
      "/home/yxzeng/code_python/QoS_Eraser/Result/CSMF/part_type_1/tp/slices_5/time/Final_time_density_tp_0.15.csv\n",
      "/home/yxzeng/code_python/QoS_Eraser/Result/CSMF/part_type_1/tp/slices_5/time/Final_time_density_tp_0.20.csv\n",
      "/home/yxzeng/code_python/QoS_Eraser/Result/CSMF/part_type_1/tp/slices_5/time/Final_time_density_tp_0.25.csv\n",
      "/home/yxzeng/code_python/QoS_Eraser/Result/CSMF/part_type_1/tp/slices_5/time/Final_time_density_tp_0.30.csv\n",
      "----------------------------------------------------------------------------------------------------------------------------------\n",
      "node2vec experiment!\n"
     ]
    },
    {
     "data": {
      "text/plain": "         MAE       RMSE      NMAE       MRE      NPRE   agg_time\n0  23.513325  65.912155  0.494322  0.443903  2.204515  16.814751\n1  22.547432  63.079445  0.474267  0.428868  2.045134  17.188501\n2  22.117840  62.456580  0.465074  0.415796  1.974611  18.136719\n3  21.868866  62.150837  0.459877  0.410962  1.930406  24.257547\n4  21.274975  59.865710  0.447477  0.400549  1.947320  28.743601",
      "text/html": "<div>\n<style scoped>\n    .dataframe tbody tr th:only-of-type {\n        vertical-align: middle;\n    }\n\n    .dataframe tbody tr th {\n        vertical-align: top;\n    }\n\n    .dataframe thead th {\n        text-align: right;\n    }\n</style>\n<table border=\"1\" class=\"dataframe\">\n  <thead>\n    <tr style=\"text-align: right;\">\n      <th></th>\n      <th>MAE</th>\n      <th>RMSE</th>\n      <th>NMAE</th>\n      <th>MRE</th>\n      <th>NPRE</th>\n      <th>agg_time</th>\n    </tr>\n  </thead>\n  <tbody>\n    <tr>\n      <th>0</th>\n      <td>23.513325</td>\n      <td>65.912155</td>\n      <td>0.494322</td>\n      <td>0.443903</td>\n      <td>2.204515</td>\n      <td>16.814751</td>\n    </tr>\n    <tr>\n      <th>1</th>\n      <td>22.547432</td>\n      <td>63.079445</td>\n      <td>0.474267</td>\n      <td>0.428868</td>\n      <td>2.045134</td>\n      <td>17.188501</td>\n    </tr>\n    <tr>\n      <th>2</th>\n      <td>22.117840</td>\n      <td>62.456580</td>\n      <td>0.465074</td>\n      <td>0.415796</td>\n      <td>1.974611</td>\n      <td>18.136719</td>\n    </tr>\n    <tr>\n      <th>3</th>\n      <td>21.868866</td>\n      <td>62.150837</td>\n      <td>0.459877</td>\n      <td>0.410962</td>\n      <td>1.930406</td>\n      <td>24.257547</td>\n    </tr>\n    <tr>\n      <th>4</th>\n      <td>21.274975</td>\n      <td>59.865710</td>\n      <td>0.447477</td>\n      <td>0.400549</td>\n      <td>1.947320</td>\n      <td>28.743601</td>\n    </tr>\n  </tbody>\n</table>\n</div>"
     },
     "execution_count": 16,
     "metadata": {},
     "output_type": "execute_result"
    }
   ],
   "source": [
    "get_result('CSMF', 1, 'tp', slices, 'all')"
   ],
   "metadata": {
    "collapsed": false
   }
  },
  {
   "cell_type": "code",
   "execution_count": 17,
   "outputs": [
    {
     "name": "stdout",
     "output_type": "stream",
     "text": [
      "/home/yxzeng/code_python/QoS_Eraser/Result/NeuCF/part_type_1/tp/slices_5/metrics/Final_result_density_tp_0.10.csv\n",
      "/home/yxzeng/code_python/QoS_Eraser/Result/NeuCF/part_type_1/tp/slices_5/metrics/Final_result_density_tp_0.15.csv\n",
      "/home/yxzeng/code_python/QoS_Eraser/Result/NeuCF/part_type_1/tp/slices_5/metrics/Final_result_density_tp_0.20.csv\n",
      "/home/yxzeng/code_python/QoS_Eraser/Result/NeuCF/part_type_1/tp/slices_5/metrics/Final_result_density_tp_0.25.csv\n",
      "/home/yxzeng/code_python/QoS_Eraser/Result/NeuCF/part_type_1/tp/slices_5/metrics/Final_result_density_tp_0.30.csv\n",
      "----------------------------------------------------------------------------------------------------------------------------------\n",
      "/home/yxzeng/code_python/QoS_Eraser/Result/NeuCF/part_type_1/tp/slices_5/time/Final_time_density_tp_0.10.csv\n",
      "/home/yxzeng/code_python/QoS_Eraser/Result/NeuCF/part_type_1/tp/slices_5/time/Final_time_density_tp_0.15.csv\n",
      "/home/yxzeng/code_python/QoS_Eraser/Result/NeuCF/part_type_1/tp/slices_5/time/Final_time_density_tp_0.20.csv\n",
      "/home/yxzeng/code_python/QoS_Eraser/Result/NeuCF/part_type_1/tp/slices_5/time/Final_time_density_tp_0.25.csv\n",
      "/home/yxzeng/code_python/QoS_Eraser/Result/NeuCF/part_type_1/tp/slices_5/time/Final_time_density_tp_0.30.csv\n",
      "----------------------------------------------------------------------------------------------------------------------------------\n",
      "node2vec experiment!\n"
     ]
    },
    {
     "data": {
      "text/plain": "         MAE       RMSE      NMAE       MRE      NPRE   agg_time\n0  24.349040  66.082970  0.511777  0.493867  2.048697   9.898722\n1  20.118294  57.172813  0.422874  0.414025  1.792910  12.864372\n2  18.351050  53.570820  0.385838  0.363495  1.761439  14.642346\n3  16.689625  50.014603  0.350686  0.328772  1.364373  17.574454\n4  15.759127  48.018208  0.331268  0.302936  1.483804  19.926344",
      "text/html": "<div>\n<style scoped>\n    .dataframe tbody tr th:only-of-type {\n        vertical-align: middle;\n    }\n\n    .dataframe tbody tr th {\n        vertical-align: top;\n    }\n\n    .dataframe thead th {\n        text-align: right;\n    }\n</style>\n<table border=\"1\" class=\"dataframe\">\n  <thead>\n    <tr style=\"text-align: right;\">\n      <th></th>\n      <th>MAE</th>\n      <th>RMSE</th>\n      <th>NMAE</th>\n      <th>MRE</th>\n      <th>NPRE</th>\n      <th>agg_time</th>\n    </tr>\n  </thead>\n  <tbody>\n    <tr>\n      <th>0</th>\n      <td>24.349040</td>\n      <td>66.082970</td>\n      <td>0.511777</td>\n      <td>0.493867</td>\n      <td>2.048697</td>\n      <td>9.898722</td>\n    </tr>\n    <tr>\n      <th>1</th>\n      <td>20.118294</td>\n      <td>57.172813</td>\n      <td>0.422874</td>\n      <td>0.414025</td>\n      <td>1.792910</td>\n      <td>12.864372</td>\n    </tr>\n    <tr>\n      <th>2</th>\n      <td>18.351050</td>\n      <td>53.570820</td>\n      <td>0.385838</td>\n      <td>0.363495</td>\n      <td>1.761439</td>\n      <td>14.642346</td>\n    </tr>\n    <tr>\n      <th>3</th>\n      <td>16.689625</td>\n      <td>50.014603</td>\n      <td>0.350686</td>\n      <td>0.328772</td>\n      <td>1.364373</td>\n      <td>17.574454</td>\n    </tr>\n    <tr>\n      <th>4</th>\n      <td>15.759127</td>\n      <td>48.018208</td>\n      <td>0.331268</td>\n      <td>0.302936</td>\n      <td>1.483804</td>\n      <td>19.926344</td>\n    </tr>\n  </tbody>\n</table>\n</div>"
     },
     "execution_count": 17,
     "metadata": {},
     "output_type": "execute_result"
    }
   ],
   "source": [
    "get_result('NeuCF', 1, 'tp', slices, 'all')"
   ],
   "metadata": {
    "collapsed": false
   }
  },
  {
   "cell_type": "code",
   "execution_count": 18,
   "outputs": [
    {
     "name": "stdout",
     "output_type": "stream",
     "text": [
      "/home/yxzeng/code_python/QoS_Eraser/Result/GraphMF/part_type_1/tp/slices_5/metrics/Final_result_density_tp_0.10.csv\n",
      "/home/yxzeng/code_python/QoS_Eraser/Result/GraphMF/part_type_1/tp/slices_5/metrics/Final_result_density_tp_0.15.csv\n",
      "/home/yxzeng/code_python/QoS_Eraser/Result/GraphMF/part_type_1/tp/slices_5/metrics/Final_result_density_tp_0.20.csv\n",
      "/home/yxzeng/code_python/QoS_Eraser/Result/GraphMF/part_type_1/tp/slices_5/metrics/Final_result_density_tp_0.25.csv\n",
      "/home/yxzeng/code_python/QoS_Eraser/Result/GraphMF/part_type_1/tp/slices_5/metrics/Final_result_density_tp_0.30.csv\n",
      "----------------------------------------------------------------------------------------------------------------------------------\n",
      "/home/yxzeng/code_python/QoS_Eraser/Result/GraphMF/part_type_1/tp/slices_5/time/Final_time_density_tp_0.10.csv\n",
      "/home/yxzeng/code_python/QoS_Eraser/Result/GraphMF/part_type_1/tp/slices_5/time/Final_time_density_tp_0.15.csv\n",
      "/home/yxzeng/code_python/QoS_Eraser/Result/GraphMF/part_type_1/tp/slices_5/time/Final_time_density_tp_0.20.csv\n",
      "/home/yxzeng/code_python/QoS_Eraser/Result/GraphMF/part_type_1/tp/slices_5/time/Final_time_density_tp_0.25.csv\n",
      "/home/yxzeng/code_python/QoS_Eraser/Result/GraphMF/part_type_1/tp/slices_5/time/Final_time_density_tp_0.30.csv\n",
      "----------------------------------------------------------------------------------------------------------------------------------\n",
      "node2vec experiment!\n"
     ]
    },
    {
     "data": {
      "text/plain": "         MAE       RMSE      NMAE       MRE      NPRE   agg_time\n0  13.676613  46.311800  0.287542  0.211396  0.973130  28.790974\n1  12.634592  43.537224  0.265594  0.191254  0.900765  36.348507\n2  11.937988  41.581050  0.251002  0.176387  0.869447  40.500073\n3  11.394626  40.155052  0.239279  0.164793  0.806804  47.712588\n4  10.981550  39.071260  0.230878  0.158100  0.787131  58.214181",
      "text/html": "<div>\n<style scoped>\n    .dataframe tbody tr th:only-of-type {\n        vertical-align: middle;\n    }\n\n    .dataframe tbody tr th {\n        vertical-align: top;\n    }\n\n    .dataframe thead th {\n        text-align: right;\n    }\n</style>\n<table border=\"1\" class=\"dataframe\">\n  <thead>\n    <tr style=\"text-align: right;\">\n      <th></th>\n      <th>MAE</th>\n      <th>RMSE</th>\n      <th>NMAE</th>\n      <th>MRE</th>\n      <th>NPRE</th>\n      <th>agg_time</th>\n    </tr>\n  </thead>\n  <tbody>\n    <tr>\n      <th>0</th>\n      <td>13.676613</td>\n      <td>46.311800</td>\n      <td>0.287542</td>\n      <td>0.211396</td>\n      <td>0.973130</td>\n      <td>28.790974</td>\n    </tr>\n    <tr>\n      <th>1</th>\n      <td>12.634592</td>\n      <td>43.537224</td>\n      <td>0.265594</td>\n      <td>0.191254</td>\n      <td>0.900765</td>\n      <td>36.348507</td>\n    </tr>\n    <tr>\n      <th>2</th>\n      <td>11.937988</td>\n      <td>41.581050</td>\n      <td>0.251002</td>\n      <td>0.176387</td>\n      <td>0.869447</td>\n      <td>40.500073</td>\n    </tr>\n    <tr>\n      <th>3</th>\n      <td>11.394626</td>\n      <td>40.155052</td>\n      <td>0.239279</td>\n      <td>0.164793</td>\n      <td>0.806804</td>\n      <td>47.712588</td>\n    </tr>\n    <tr>\n      <th>4</th>\n      <td>10.981550</td>\n      <td>39.071260</td>\n      <td>0.230878</td>\n      <td>0.158100</td>\n      <td>0.787131</td>\n      <td>58.214181</td>\n    </tr>\n  </tbody>\n</table>\n</div>"
     },
     "execution_count": 18,
     "metadata": {},
     "output_type": "execute_result"
    }
   ],
   "source": [
    "get_result('GraphMF', 1, 'tp', slices, 'all')"
   ],
   "metadata": {
    "collapsed": false
   }
  },
  {
   "cell_type": "code",
   "execution_count": 19,
   "outputs": [
    {
     "name": "stdout",
     "output_type": "stream",
     "text": [
      "/home/yxzeng/code_python/QoS_Eraser/Result/MF/part_type_1/tp/slices_5/metrics/Final_result_density_tp_0.10.csv\n",
      "/home/yxzeng/code_python/QoS_Eraser/Result/MF/part_type_1/tp/slices_5/metrics/Final_result_density_tp_0.15.csv\n",
      "/home/yxzeng/code_python/QoS_Eraser/Result/MF/part_type_1/tp/slices_5/metrics/Final_result_density_tp_0.20.csv\n",
      "/home/yxzeng/code_python/QoS_Eraser/Result/MF/part_type_1/tp/slices_5/metrics/Final_result_density_tp_0.25.csv\n",
      "/home/yxzeng/code_python/QoS_Eraser/Result/MF/part_type_1/tp/slices_5/metrics/Final_result_density_tp_0.30.csv\n",
      "----------------------------------------------------------------------------------------------------------------------------------\n",
      "/home/yxzeng/code_python/QoS_Eraser/Result/MF/part_type_1/tp/slices_5/time/Final_time_density_tp_0.10.csv\n",
      "/home/yxzeng/code_python/QoS_Eraser/Result/MF/part_type_1/tp/slices_5/time/Final_time_density_tp_0.15.csv\n",
      "/home/yxzeng/code_python/QoS_Eraser/Result/MF/part_type_1/tp/slices_5/time/Final_time_density_tp_0.20.csv\n",
      "/home/yxzeng/code_python/QoS_Eraser/Result/MF/part_type_1/tp/slices_5/time/Final_time_density_tp_0.25.csv\n",
      "/home/yxzeng/code_python/QoS_Eraser/Result/MF/part_type_1/tp/slices_5/time/Final_time_density_tp_0.30.csv\n",
      "----------------------------------------------------------------------------------------------------------------------------------\n",
      "node2vec experiment!\n"
     ]
    },
    {
     "data": {
      "text/plain": "         MAE        RMSE      NMAE       MRE      NPRE   agg_time\n0  41.385647  115.212770  0.870787  0.770237  5.108451   7.013892\n1  38.715672  104.183925  0.813932  0.805822  5.172738   9.821281\n2  37.959404  100.843119  0.797906  0.816959  5.320587  13.001098\n3  36.393730   94.800090  0.765601  0.833413  5.256150  15.875358\n4  34.922030   89.640396  0.733897  0.841701  5.043265  20.875837",
      "text/html": "<div>\n<style scoped>\n    .dataframe tbody tr th:only-of-type {\n        vertical-align: middle;\n    }\n\n    .dataframe tbody tr th {\n        vertical-align: top;\n    }\n\n    .dataframe thead th {\n        text-align: right;\n    }\n</style>\n<table border=\"1\" class=\"dataframe\">\n  <thead>\n    <tr style=\"text-align: right;\">\n      <th></th>\n      <th>MAE</th>\n      <th>RMSE</th>\n      <th>NMAE</th>\n      <th>MRE</th>\n      <th>NPRE</th>\n      <th>agg_time</th>\n    </tr>\n  </thead>\n  <tbody>\n    <tr>\n      <th>0</th>\n      <td>41.385647</td>\n      <td>115.212770</td>\n      <td>0.870787</td>\n      <td>0.770237</td>\n      <td>5.108451</td>\n      <td>7.013892</td>\n    </tr>\n    <tr>\n      <th>1</th>\n      <td>38.715672</td>\n      <td>104.183925</td>\n      <td>0.813932</td>\n      <td>0.805822</td>\n      <td>5.172738</td>\n      <td>9.821281</td>\n    </tr>\n    <tr>\n      <th>2</th>\n      <td>37.959404</td>\n      <td>100.843119</td>\n      <td>0.797906</td>\n      <td>0.816959</td>\n      <td>5.320587</td>\n      <td>13.001098</td>\n    </tr>\n    <tr>\n      <th>3</th>\n      <td>36.393730</td>\n      <td>94.800090</td>\n      <td>0.765601</td>\n      <td>0.833413</td>\n      <td>5.256150</td>\n      <td>15.875358</td>\n    </tr>\n    <tr>\n      <th>4</th>\n      <td>34.922030</td>\n      <td>89.640396</td>\n      <td>0.733897</td>\n      <td>0.841701</td>\n      <td>5.043265</td>\n      <td>20.875837</td>\n    </tr>\n  </tbody>\n</table>\n</div>"
     },
     "execution_count": 19,
     "metadata": {},
     "output_type": "execute_result"
    }
   ],
   "source": [
    "get_result('MF', 1, 'tp', slices, 'all')"
   ],
   "metadata": {
    "collapsed": false
   }
  },
  {
   "cell_type": "markdown",
   "metadata": {},
   "source": [
    "*****"
   ]
  },
  {
   "cell_type": "markdown",
   "metadata": {
    "collapsed": false
   },
   "source": [
    "# Receraser user_based"
   ]
  },
  {
   "cell_type": "code",
   "execution_count": 20,
   "metadata": {
    "collapsed": false
   },
   "outputs": [
    {
     "name": "stdout",
     "output_type": "stream",
     "text": [
      "SISA2 experiment!\n",
      "实验尚未进行\n"
     ]
    }
   ],
   "source": [
    "get_result('CSMF', 2, 'rt', slices, 'all')"
   ]
  },
  {
   "cell_type": "code",
   "execution_count": 21,
   "metadata": {
    "collapsed": false
   },
   "outputs": [
    {
     "name": "stdout",
     "output_type": "stream",
     "text": [
      "SISA2 experiment!\n",
      "实验尚未进行\n"
     ]
    }
   ],
   "source": [
    "get_result('NeuCF', 2, 'rt', slices, 'all')"
   ]
  },
  {
   "cell_type": "code",
   "execution_count": 22,
   "metadata": {
    "collapsed": false
   },
   "outputs": [
    {
     "name": "stdout",
     "output_type": "stream",
     "text": [
      "SISA2 experiment!\n",
      "实验尚未进行\n"
     ]
    }
   ],
   "source": [
    "get_result('GraphMF', 2, 'rt', slices, 'all')"
   ]
  },
  {
   "cell_type": "code",
   "execution_count": 23,
   "outputs": [
    {
     "name": "stdout",
     "output_type": "stream",
     "text": [
      "SISA2 experiment!\n",
      "实验尚未进行\n"
     ]
    }
   ],
   "source": [
    "get_result('MF', 2, 'rt', slices, 'all')"
   ],
   "metadata": {
    "collapsed": false
   }
  },
  {
   "cell_type": "code",
   "execution_count": 24,
   "metadata": {},
   "outputs": [
    {
     "name": "stdout",
     "output_type": "stream",
     "text": [
      "SISA2 experiment!\n",
      "实验尚未进行\n"
     ]
    }
   ],
   "source": [
    "get_result('CSMF', 2, 'tp', slices, 'all')"
   ]
  },
  {
   "cell_type": "code",
   "execution_count": 25,
   "metadata": {},
   "outputs": [
    {
     "name": "stdout",
     "output_type": "stream",
     "text": [
      "SISA2 experiment!\n",
      "实验尚未进行\n"
     ]
    }
   ],
   "source": [
    "get_result('NeuCF', 2, 'tp', slices, 'all')"
   ]
  },
  {
   "cell_type": "code",
   "execution_count": 26,
   "metadata": {},
   "outputs": [
    {
     "name": "stdout",
     "output_type": "stream",
     "text": [
      "SISA2 experiment!\n",
      "实验尚未进行\n"
     ]
    }
   ],
   "source": [
    "get_result('GraphMF', 2, 'tp', slices, 'all')"
   ]
  },
  {
   "cell_type": "code",
   "execution_count": 27,
   "outputs": [
    {
     "name": "stdout",
     "output_type": "stream",
     "text": [
      "SISA2 experiment!\n",
      "实验尚未进行\n"
     ]
    }
   ],
   "source": [
    "get_result('MF', 2, 'tp', slices, 'all')"
   ],
   "metadata": {
    "collapsed": false
   }
  },
  {
   "cell_type": "markdown",
   "metadata": {},
   "source": [
    "*****"
   ]
  },
  {
   "cell_type": "markdown",
   "metadata": {},
   "source": [
    "*****"
   ]
  },
  {
   "cell_type": "code",
   "execution_count": 28,
   "outputs": [
    {
     "name": "stdout",
     "output_type": "stream",
     "text": [
      "/home/yxzeng/code_python/QoS_Eraser/Result/CSMF/part_type_3/rt/slices_5/metrics/Final_result_density_rt_0.10.csv\n",
      "/home/yxzeng/code_python/QoS_Eraser/Result/CSMF/part_type_3/rt/slices_5/metrics/Final_result_density_rt_0.15.csv\n",
      "/home/yxzeng/code_python/QoS_Eraser/Result/CSMF/part_type_3/rt/slices_5/metrics/Final_result_density_rt_0.20.csv\n",
      "/home/yxzeng/code_python/QoS_Eraser/Result/CSMF/part_type_3/rt/slices_5/metrics/Final_result_density_rt_0.25.csv\n",
      "/home/yxzeng/code_python/QoS_Eraser/Result/CSMF/part_type_3/rt/slices_5/metrics/Final_result_density_rt_0.30.csv\n",
      "----------------------------------------------------------------------------------------------------------------------------------\n",
      "/home/yxzeng/code_python/QoS_Eraser/Result/CSMF/part_type_3/rt/slices_5/time/Final_time_density_rt_0.10.csv\n",
      "/home/yxzeng/code_python/QoS_Eraser/Result/CSMF/part_type_3/rt/slices_5/time/Final_time_density_rt_0.15.csv\n",
      "/home/yxzeng/code_python/QoS_Eraser/Result/CSMF/part_type_3/rt/slices_5/time/Final_time_density_rt_0.20.csv\n",
      "/home/yxzeng/code_python/QoS_Eraser/Result/CSMF/part_type_3/rt/slices_5/time/Final_time_density_rt_0.25.csv\n",
      "/home/yxzeng/code_python/QoS_Eraser/Result/CSMF/part_type_3/rt/slices_5/time/Final_time_density_rt_0.30.csv\n",
      "----------------------------------------------------------------------------------------------------------------------------------\n",
      "Pure SISA experiment!\n"
     ]
    },
    {
     "data": {
      "text/plain": "        MAE      RMSE      NMAE       MRE      NPRE   agg_time\n0  0.524577  1.514881  0.577429  0.427494  1.785409  14.637220\n1  0.511020  1.499550  0.562791  0.410606  1.564236  19.591481\n2  0.494511  1.464065  0.544128  0.393109  1.683856  20.541901\n3  0.476160  1.466198  0.523767  0.351888  1.405009  28.802431\n4  0.461915  1.420351  0.508348  0.352899  1.358834  30.564494",
      "text/html": "<div>\n<style scoped>\n    .dataframe tbody tr th:only-of-type {\n        vertical-align: middle;\n    }\n\n    .dataframe tbody tr th {\n        vertical-align: top;\n    }\n\n    .dataframe thead th {\n        text-align: right;\n    }\n</style>\n<table border=\"1\" class=\"dataframe\">\n  <thead>\n    <tr style=\"text-align: right;\">\n      <th></th>\n      <th>MAE</th>\n      <th>RMSE</th>\n      <th>NMAE</th>\n      <th>MRE</th>\n      <th>NPRE</th>\n      <th>agg_time</th>\n    </tr>\n  </thead>\n  <tbody>\n    <tr>\n      <th>0</th>\n      <td>0.524577</td>\n      <td>1.514881</td>\n      <td>0.577429</td>\n      <td>0.427494</td>\n      <td>1.785409</td>\n      <td>14.637220</td>\n    </tr>\n    <tr>\n      <th>1</th>\n      <td>0.511020</td>\n      <td>1.499550</td>\n      <td>0.562791</td>\n      <td>0.410606</td>\n      <td>1.564236</td>\n      <td>19.591481</td>\n    </tr>\n    <tr>\n      <th>2</th>\n      <td>0.494511</td>\n      <td>1.464065</td>\n      <td>0.544128</td>\n      <td>0.393109</td>\n      <td>1.683856</td>\n      <td>20.541901</td>\n    </tr>\n    <tr>\n      <th>3</th>\n      <td>0.476160</td>\n      <td>1.466198</td>\n      <td>0.523767</td>\n      <td>0.351888</td>\n      <td>1.405009</td>\n      <td>28.802431</td>\n    </tr>\n    <tr>\n      <th>4</th>\n      <td>0.461915</td>\n      <td>1.420351</td>\n      <td>0.508348</td>\n      <td>0.352899</td>\n      <td>1.358834</td>\n      <td>30.564494</td>\n    </tr>\n  </tbody>\n</table>\n</div>"
     },
     "execution_count": 28,
     "metadata": {},
     "output_type": "execute_result"
    }
   ],
   "source": [
    "get_result('CSMF', 3, 'rt', slices, 'all')"
   ],
   "metadata": {
    "collapsed": false
   }
  },
  {
   "cell_type": "code",
   "execution_count": 29,
   "outputs": [
    {
     "name": "stdout",
     "output_type": "stream",
     "text": [
      "/home/yxzeng/code_python/QoS_Eraser/Result/NeuCF/part_type_3/rt/slices_5/metrics/Final_result_density_rt_0.10.csv\n",
      "/home/yxzeng/code_python/QoS_Eraser/Result/NeuCF/part_type_3/rt/slices_5/metrics/Final_result_density_rt_0.15.csv\n",
      "/home/yxzeng/code_python/QoS_Eraser/Result/NeuCF/part_type_3/rt/slices_5/metrics/Final_result_density_rt_0.20.csv\n",
      "/home/yxzeng/code_python/QoS_Eraser/Result/NeuCF/part_type_3/rt/slices_5/metrics/Final_result_density_rt_0.25.csv\n",
      "/home/yxzeng/code_python/QoS_Eraser/Result/NeuCF/part_type_3/rt/slices_5/metrics/Final_result_density_rt_0.30.csv\n",
      "----------------------------------------------------------------------------------------------------------------------------------\n",
      "/home/yxzeng/code_python/QoS_Eraser/Result/NeuCF/part_type_3/rt/slices_5/time/Final_time_density_rt_0.10.csv\n",
      "/home/yxzeng/code_python/QoS_Eraser/Result/NeuCF/part_type_3/rt/slices_5/time/Final_time_density_rt_0.15.csv\n",
      "/home/yxzeng/code_python/QoS_Eraser/Result/NeuCF/part_type_3/rt/slices_5/time/Final_time_density_rt_0.20.csv\n",
      "/home/yxzeng/code_python/QoS_Eraser/Result/NeuCF/part_type_3/rt/slices_5/time/Final_time_density_rt_0.25.csv\n",
      "/home/yxzeng/code_python/QoS_Eraser/Result/NeuCF/part_type_3/rt/slices_5/time/Final_time_density_rt_0.30.csv\n",
      "----------------------------------------------------------------------------------------------------------------------------------\n",
      "Pure SISA experiment!\n"
     ]
    },
    {
     "data": {
      "text/plain": "        MAE      RMSE      NMAE       MRE      NPRE   agg_time\n0  0.476795  1.406324  0.524875  0.422524  2.290029  10.871573\n1  0.445929  1.361434  0.490766  0.392371  2.068318  15.045935\n2  0.421950  1.335810  0.464453  0.366345  1.698534  18.911112\n3  0.401849  1.311578  0.442376  0.330407  1.443432  20.656188\n4  0.393714  1.299820  0.433456  0.321415  1.458720  23.577317",
      "text/html": "<div>\n<style scoped>\n    .dataframe tbody tr th:only-of-type {\n        vertical-align: middle;\n    }\n\n    .dataframe tbody tr th {\n        vertical-align: top;\n    }\n\n    .dataframe thead th {\n        text-align: right;\n    }\n</style>\n<table border=\"1\" class=\"dataframe\">\n  <thead>\n    <tr style=\"text-align: right;\">\n      <th></th>\n      <th>MAE</th>\n      <th>RMSE</th>\n      <th>NMAE</th>\n      <th>MRE</th>\n      <th>NPRE</th>\n      <th>agg_time</th>\n    </tr>\n  </thead>\n  <tbody>\n    <tr>\n      <th>0</th>\n      <td>0.476795</td>\n      <td>1.406324</td>\n      <td>0.524875</td>\n      <td>0.422524</td>\n      <td>2.290029</td>\n      <td>10.871573</td>\n    </tr>\n    <tr>\n      <th>1</th>\n      <td>0.445929</td>\n      <td>1.361434</td>\n      <td>0.490766</td>\n      <td>0.392371</td>\n      <td>2.068318</td>\n      <td>15.045935</td>\n    </tr>\n    <tr>\n      <th>2</th>\n      <td>0.421950</td>\n      <td>1.335810</td>\n      <td>0.464453</td>\n      <td>0.366345</td>\n      <td>1.698534</td>\n      <td>18.911112</td>\n    </tr>\n    <tr>\n      <th>3</th>\n      <td>0.401849</td>\n      <td>1.311578</td>\n      <td>0.442376</td>\n      <td>0.330407</td>\n      <td>1.443432</td>\n      <td>20.656188</td>\n    </tr>\n    <tr>\n      <th>4</th>\n      <td>0.393714</td>\n      <td>1.299820</td>\n      <td>0.433456</td>\n      <td>0.321415</td>\n      <td>1.458720</td>\n      <td>23.577317</td>\n    </tr>\n  </tbody>\n</table>\n</div>"
     },
     "execution_count": 29,
     "metadata": {},
     "output_type": "execute_result"
    }
   ],
   "source": [
    "get_result('NeuCF', 3, 'rt', slices, 'all')"
   ],
   "metadata": {
    "collapsed": false
   }
  },
  {
   "cell_type": "code",
   "execution_count": 30,
   "outputs": [
    {
     "name": "stdout",
     "output_type": "stream",
     "text": [
      "/home/yxzeng/code_python/QoS_Eraser/Result/GraphMF/part_type_3/rt/slices_5/metrics/Final_result_density_rt_0.10.csv\n",
      "/home/yxzeng/code_python/QoS_Eraser/Result/GraphMF/part_type_3/rt/slices_5/metrics/Final_result_density_rt_0.15.csv\n",
      "/home/yxzeng/code_python/QoS_Eraser/Result/GraphMF/part_type_3/rt/slices_5/metrics/Final_result_density_rt_0.20.csv\n",
      "/home/yxzeng/code_python/QoS_Eraser/Result/GraphMF/part_type_3/rt/slices_5/metrics/Final_result_density_rt_0.25.csv\n",
      "/home/yxzeng/code_python/QoS_Eraser/Result/GraphMF/part_type_3/rt/slices_5/metrics/Final_result_density_rt_0.30.csv\n",
      "----------------------------------------------------------------------------------------------------------------------------------\n",
      "/home/yxzeng/code_python/QoS_Eraser/Result/GraphMF/part_type_3/rt/slices_5/time/Final_time_density_rt_0.10.csv\n",
      "/home/yxzeng/code_python/QoS_Eraser/Result/GraphMF/part_type_3/rt/slices_5/time/Final_time_density_rt_0.15.csv\n",
      "/home/yxzeng/code_python/QoS_Eraser/Result/GraphMF/part_type_3/rt/slices_5/time/Final_time_density_rt_0.20.csv\n",
      "/home/yxzeng/code_python/QoS_Eraser/Result/GraphMF/part_type_3/rt/slices_5/time/Final_time_density_rt_0.25.csv\n",
      "/home/yxzeng/code_python/QoS_Eraser/Result/GraphMF/part_type_3/rt/slices_5/time/Final_time_density_rt_0.30.csv\n",
      "----------------------------------------------------------------------------------------------------------------------------------\n",
      "Pure SISA experiment!\n"
     ]
    },
    {
     "data": {
      "text/plain": "        MAE      RMSE      NMAE       MRE      NPRE   agg_time\n0  0.368496  1.302992  0.405631  0.216638  0.857764  35.845094\n1  0.347934  1.267125  0.382844  0.195376  0.823383  43.280086\n2  0.338666  1.251424  0.372464  0.185758  0.794572  52.098697\n3  0.327587  1.230075  0.360766  0.177659  0.770797  58.399552\n4  0.321771  1.216786  0.354260  0.173331  0.764983  68.039703",
      "text/html": "<div>\n<style scoped>\n    .dataframe tbody tr th:only-of-type {\n        vertical-align: middle;\n    }\n\n    .dataframe tbody tr th {\n        vertical-align: top;\n    }\n\n    .dataframe thead th {\n        text-align: right;\n    }\n</style>\n<table border=\"1\" class=\"dataframe\">\n  <thead>\n    <tr style=\"text-align: right;\">\n      <th></th>\n      <th>MAE</th>\n      <th>RMSE</th>\n      <th>NMAE</th>\n      <th>MRE</th>\n      <th>NPRE</th>\n      <th>agg_time</th>\n    </tr>\n  </thead>\n  <tbody>\n    <tr>\n      <th>0</th>\n      <td>0.368496</td>\n      <td>1.302992</td>\n      <td>0.405631</td>\n      <td>0.216638</td>\n      <td>0.857764</td>\n      <td>35.845094</td>\n    </tr>\n    <tr>\n      <th>1</th>\n      <td>0.347934</td>\n      <td>1.267125</td>\n      <td>0.382844</td>\n      <td>0.195376</td>\n      <td>0.823383</td>\n      <td>43.280086</td>\n    </tr>\n    <tr>\n      <th>2</th>\n      <td>0.338666</td>\n      <td>1.251424</td>\n      <td>0.372464</td>\n      <td>0.185758</td>\n      <td>0.794572</td>\n      <td>52.098697</td>\n    </tr>\n    <tr>\n      <th>3</th>\n      <td>0.327587</td>\n      <td>1.230075</td>\n      <td>0.360766</td>\n      <td>0.177659</td>\n      <td>0.770797</td>\n      <td>58.399552</td>\n    </tr>\n    <tr>\n      <th>4</th>\n      <td>0.321771</td>\n      <td>1.216786</td>\n      <td>0.354260</td>\n      <td>0.173331</td>\n      <td>0.764983</td>\n      <td>68.039703</td>\n    </tr>\n  </tbody>\n</table>\n</div>"
     },
     "execution_count": 30,
     "metadata": {},
     "output_type": "execute_result"
    }
   ],
   "source": [
    "get_result('GraphMF', 3, 'rt', slices, 'all')"
   ],
   "metadata": {
    "collapsed": false
   }
  },
  {
   "cell_type": "code",
   "execution_count": 31,
   "outputs": [
    {
     "name": "stdout",
     "output_type": "stream",
     "text": [
      "/home/yxzeng/code_python/QoS_Eraser/Result/MF/part_type_3/rt/slices_5/metrics/Final_result_density_rt_0.10.csv\n",
      "/home/yxzeng/code_python/QoS_Eraser/Result/MF/part_type_3/rt/slices_5/metrics/Final_result_density_rt_0.15.csv\n",
      "/home/yxzeng/code_python/QoS_Eraser/Result/MF/part_type_3/rt/slices_5/metrics/Final_result_density_rt_0.20.csv\n",
      "/home/yxzeng/code_python/QoS_Eraser/Result/MF/part_type_3/rt/slices_5/metrics/Final_result_density_rt_0.25.csv\n",
      "/home/yxzeng/code_python/QoS_Eraser/Result/MF/part_type_3/rt/slices_5/metrics/Final_result_density_rt_0.30.csv\n",
      "----------------------------------------------------------------------------------------------------------------------------------\n",
      "/home/yxzeng/code_python/QoS_Eraser/Result/MF/part_type_3/rt/slices_5/time/Final_time_density_rt_0.10.csv\n",
      "/home/yxzeng/code_python/QoS_Eraser/Result/MF/part_type_3/rt/slices_5/time/Final_time_density_rt_0.15.csv\n",
      "/home/yxzeng/code_python/QoS_Eraser/Result/MF/part_type_3/rt/slices_5/time/Final_time_density_rt_0.20.csv\n",
      "/home/yxzeng/code_python/QoS_Eraser/Result/MF/part_type_3/rt/slices_5/time/Final_time_density_rt_0.25.csv\n",
      "/home/yxzeng/code_python/QoS_Eraser/Result/MF/part_type_3/rt/slices_5/time/Final_time_density_rt_0.30.csv\n",
      "----------------------------------------------------------------------------------------------------------------------------------\n",
      "Pure SISA experiment!\n"
     ]
    },
    {
     "data": {
      "text/plain": "        MAE      RMSE      NMAE       MRE      NPRE   agg_time\n0  0.746751  2.041461  0.821947  0.662575  3.205842   6.925704\n1  0.736763  2.022347  0.810518  0.645220  3.152114  12.569344\n2  0.727730  1.991984  0.800783  0.644443  3.186949  18.386373\n3  0.702522  1.936362  0.773922  0.626161  3.033952  32.237418\n4  0.689608  1.894612  0.759038  0.609641  3.024852  29.356486",
      "text/html": "<div>\n<style scoped>\n    .dataframe tbody tr th:only-of-type {\n        vertical-align: middle;\n    }\n\n    .dataframe tbody tr th {\n        vertical-align: top;\n    }\n\n    .dataframe thead th {\n        text-align: right;\n    }\n</style>\n<table border=\"1\" class=\"dataframe\">\n  <thead>\n    <tr style=\"text-align: right;\">\n      <th></th>\n      <th>MAE</th>\n      <th>RMSE</th>\n      <th>NMAE</th>\n      <th>MRE</th>\n      <th>NPRE</th>\n      <th>agg_time</th>\n    </tr>\n  </thead>\n  <tbody>\n    <tr>\n      <th>0</th>\n      <td>0.746751</td>\n      <td>2.041461</td>\n      <td>0.821947</td>\n      <td>0.662575</td>\n      <td>3.205842</td>\n      <td>6.925704</td>\n    </tr>\n    <tr>\n      <th>1</th>\n      <td>0.736763</td>\n      <td>2.022347</td>\n      <td>0.810518</td>\n      <td>0.645220</td>\n      <td>3.152114</td>\n      <td>12.569344</td>\n    </tr>\n    <tr>\n      <th>2</th>\n      <td>0.727730</td>\n      <td>1.991984</td>\n      <td>0.800783</td>\n      <td>0.644443</td>\n      <td>3.186949</td>\n      <td>18.386373</td>\n    </tr>\n    <tr>\n      <th>3</th>\n      <td>0.702522</td>\n      <td>1.936362</td>\n      <td>0.773922</td>\n      <td>0.626161</td>\n      <td>3.033952</td>\n      <td>32.237418</td>\n    </tr>\n    <tr>\n      <th>4</th>\n      <td>0.689608</td>\n      <td>1.894612</td>\n      <td>0.759038</td>\n      <td>0.609641</td>\n      <td>3.024852</td>\n      <td>29.356486</td>\n    </tr>\n  </tbody>\n</table>\n</div>"
     },
     "execution_count": 31,
     "metadata": {},
     "output_type": "execute_result"
    }
   ],
   "source": [
    "get_result('MF', 3, 'rt', slices, 'all')"
   ],
   "metadata": {
    "collapsed": false
   }
  },
  {
   "cell_type": "code",
   "execution_count": 32,
   "outputs": [
    {
     "name": "stdout",
     "output_type": "stream",
     "text": [
      "/home/yxzeng/code_python/QoS_Eraser/Result/CSMF/part_type_3/tp/slices_5/metrics/Final_result_density_tp_0.10.csv\n",
      "/home/yxzeng/code_python/QoS_Eraser/Result/CSMF/part_type_3/tp/slices_5/metrics/Final_result_density_tp_0.15.csv\n",
      "/home/yxzeng/code_python/QoS_Eraser/Result/CSMF/part_type_3/tp/slices_5/metrics/Final_result_density_tp_0.20.csv\n",
      "/home/yxzeng/code_python/QoS_Eraser/Result/CSMF/part_type_3/tp/slices_5/metrics/Final_result_density_tp_0.25.csv\n",
      "/home/yxzeng/code_python/QoS_Eraser/Result/CSMF/part_type_3/tp/slices_5/metrics/Final_result_density_tp_0.30.csv\n",
      "----------------------------------------------------------------------------------------------------------------------------------\n",
      "/home/yxzeng/code_python/QoS_Eraser/Result/CSMF/part_type_3/tp/slices_5/time/Final_time_density_tp_0.10.csv\n",
      "/home/yxzeng/code_python/QoS_Eraser/Result/CSMF/part_type_3/tp/slices_5/time/Final_time_density_tp_0.15.csv\n",
      "/home/yxzeng/code_python/QoS_Eraser/Result/CSMF/part_type_3/tp/slices_5/time/Final_time_density_tp_0.20.csv\n",
      "/home/yxzeng/code_python/QoS_Eraser/Result/CSMF/part_type_3/tp/slices_5/time/Final_time_density_tp_0.25.csv\n",
      "/home/yxzeng/code_python/QoS_Eraser/Result/CSMF/part_type_3/tp/slices_5/time/Final_time_density_tp_0.30.csv\n",
      "----------------------------------------------------------------------------------------------------------------------------------\n",
      "Pure SISA experiment!\n"
     ]
    },
    {
     "data": {
      "text/plain": "         MAE       RMSE      NMAE       MRE      NPRE   agg_time\n0  22.771120  65.981490  0.478894  0.420219  2.065907  18.316348\n1  22.141546  65.137420  0.465523  0.397525  2.126333  23.559067\n2  21.075153  62.116985  0.443159  0.381466  1.882960  27.259416\n3  20.459267  62.121166  0.430295  0.345853  1.770762  33.944691\n4  19.894140  61.161522  0.418511  0.334072  1.778583  35.683556",
      "text/html": "<div>\n<style scoped>\n    .dataframe tbody tr th:only-of-type {\n        vertical-align: middle;\n    }\n\n    .dataframe tbody tr th {\n        vertical-align: top;\n    }\n\n    .dataframe thead th {\n        text-align: right;\n    }\n</style>\n<table border=\"1\" class=\"dataframe\">\n  <thead>\n    <tr style=\"text-align: right;\">\n      <th></th>\n      <th>MAE</th>\n      <th>RMSE</th>\n      <th>NMAE</th>\n      <th>MRE</th>\n      <th>NPRE</th>\n      <th>agg_time</th>\n    </tr>\n  </thead>\n  <tbody>\n    <tr>\n      <th>0</th>\n      <td>22.771120</td>\n      <td>65.981490</td>\n      <td>0.478894</td>\n      <td>0.420219</td>\n      <td>2.065907</td>\n      <td>18.316348</td>\n    </tr>\n    <tr>\n      <th>1</th>\n      <td>22.141546</td>\n      <td>65.137420</td>\n      <td>0.465523</td>\n      <td>0.397525</td>\n      <td>2.126333</td>\n      <td>23.559067</td>\n    </tr>\n    <tr>\n      <th>2</th>\n      <td>21.075153</td>\n      <td>62.116985</td>\n      <td>0.443159</td>\n      <td>0.381466</td>\n      <td>1.882960</td>\n      <td>27.259416</td>\n    </tr>\n    <tr>\n      <th>3</th>\n      <td>20.459267</td>\n      <td>62.121166</td>\n      <td>0.430295</td>\n      <td>0.345853</td>\n      <td>1.770762</td>\n      <td>33.944691</td>\n    </tr>\n    <tr>\n      <th>4</th>\n      <td>19.894140</td>\n      <td>61.161522</td>\n      <td>0.418511</td>\n      <td>0.334072</td>\n      <td>1.778583</td>\n      <td>35.683556</td>\n    </tr>\n  </tbody>\n</table>\n</div>"
     },
     "execution_count": 32,
     "metadata": {},
     "output_type": "execute_result"
    }
   ],
   "source": [
    "get_result('CSMF', 3, 'tp', slices, 'all')"
   ],
   "metadata": {
    "collapsed": false
   }
  },
  {
   "cell_type": "code",
   "execution_count": 33,
   "outputs": [
    {
     "name": "stdout",
     "output_type": "stream",
     "text": [
      "/home/yxzeng/code_python/QoS_Eraser/Result/NeuCF/part_type_3/tp/slices_5/metrics/Final_result_density_tp_0.10.csv\n",
      "/home/yxzeng/code_python/QoS_Eraser/Result/NeuCF/part_type_3/tp/slices_5/metrics/Final_result_density_tp_0.15.csv\n",
      "/home/yxzeng/code_python/QoS_Eraser/Result/NeuCF/part_type_3/tp/slices_5/metrics/Final_result_density_tp_0.20.csv\n",
      "/home/yxzeng/code_python/QoS_Eraser/Result/NeuCF/part_type_3/tp/slices_5/metrics/Final_result_density_tp_0.25.csv\n",
      "/home/yxzeng/code_python/QoS_Eraser/Result/NeuCF/part_type_3/tp/slices_5/metrics/Final_result_density_tp_0.30.csv\n",
      "----------------------------------------------------------------------------------------------------------------------------------\n",
      "/home/yxzeng/code_python/QoS_Eraser/Result/NeuCF/part_type_3/tp/slices_5/time/Final_time_density_tp_0.10.csv\n",
      "/home/yxzeng/code_python/QoS_Eraser/Result/NeuCF/part_type_3/tp/slices_5/time/Final_time_density_tp_0.15.csv\n",
      "/home/yxzeng/code_python/QoS_Eraser/Result/NeuCF/part_type_3/tp/slices_5/time/Final_time_density_tp_0.20.csv\n",
      "/home/yxzeng/code_python/QoS_Eraser/Result/NeuCF/part_type_3/tp/slices_5/time/Final_time_density_tp_0.25.csv\n",
      "/home/yxzeng/code_python/QoS_Eraser/Result/NeuCF/part_type_3/tp/slices_5/time/Final_time_density_tp_0.30.csv\n",
      "----------------------------------------------------------------------------------------------------------------------------------\n",
      "Pure SISA experiment!\n"
     ]
    },
    {
     "data": {
      "text/plain": "         MAE       RMSE      NMAE       MRE      NPRE   agg_time\n0  22.936802  63.008324  0.482366  0.476103  2.189929  13.222768\n1  19.949474  57.077827  0.419391  0.405912  1.892823  17.071018\n2  18.478191  53.875317  0.388579  0.368458  1.603413  20.844618\n3  17.519193  51.858793  0.368544  0.343589  1.546406  24.891179\n4  17.078354  50.780117  0.359345  0.334213  1.510395  27.988450",
      "text/html": "<div>\n<style scoped>\n    .dataframe tbody tr th:only-of-type {\n        vertical-align: middle;\n    }\n\n    .dataframe tbody tr th {\n        vertical-align: top;\n    }\n\n    .dataframe thead th {\n        text-align: right;\n    }\n</style>\n<table border=\"1\" class=\"dataframe\">\n  <thead>\n    <tr style=\"text-align: right;\">\n      <th></th>\n      <th>MAE</th>\n      <th>RMSE</th>\n      <th>NMAE</th>\n      <th>MRE</th>\n      <th>NPRE</th>\n      <th>agg_time</th>\n    </tr>\n  </thead>\n  <tbody>\n    <tr>\n      <th>0</th>\n      <td>22.936802</td>\n      <td>63.008324</td>\n      <td>0.482366</td>\n      <td>0.476103</td>\n      <td>2.189929</td>\n      <td>13.222768</td>\n    </tr>\n    <tr>\n      <th>1</th>\n      <td>19.949474</td>\n      <td>57.077827</td>\n      <td>0.419391</td>\n      <td>0.405912</td>\n      <td>1.892823</td>\n      <td>17.071018</td>\n    </tr>\n    <tr>\n      <th>2</th>\n      <td>18.478191</td>\n      <td>53.875317</td>\n      <td>0.388579</td>\n      <td>0.368458</td>\n      <td>1.603413</td>\n      <td>20.844618</td>\n    </tr>\n    <tr>\n      <th>3</th>\n      <td>17.519193</td>\n      <td>51.858793</td>\n      <td>0.368544</td>\n      <td>0.343589</td>\n      <td>1.546406</td>\n      <td>24.891179</td>\n    </tr>\n    <tr>\n      <th>4</th>\n      <td>17.078354</td>\n      <td>50.780117</td>\n      <td>0.359345</td>\n      <td>0.334213</td>\n      <td>1.510395</td>\n      <td>27.988450</td>\n    </tr>\n  </tbody>\n</table>\n</div>"
     },
     "execution_count": 33,
     "metadata": {},
     "output_type": "execute_result"
    }
   ],
   "source": [
    "get_result('NeuCF', 3, 'tp', slices, 'all')"
   ],
   "metadata": {
    "collapsed": false
   }
  },
  {
   "cell_type": "code",
   "execution_count": 34,
   "outputs": [
    {
     "name": "stdout",
     "output_type": "stream",
     "text": [
      "/home/yxzeng/code_python/QoS_Eraser/Result/GraphMF/part_type_3/tp/slices_5/metrics/Final_result_density_tp_0.10.csv\n",
      "/home/yxzeng/code_python/QoS_Eraser/Result/GraphMF/part_type_3/tp/slices_5/metrics/Final_result_density_tp_0.15.csv\n",
      "/home/yxzeng/code_python/QoS_Eraser/Result/GraphMF/part_type_3/tp/slices_5/metrics/Final_result_density_tp_0.20.csv\n",
      "/home/yxzeng/code_python/QoS_Eraser/Result/GraphMF/part_type_3/tp/slices_5/metrics/Final_result_density_tp_0.25.csv\n",
      "/home/yxzeng/code_python/QoS_Eraser/Result/GraphMF/part_type_3/tp/slices_5/metrics/Final_result_density_tp_0.30.csv\n",
      "----------------------------------------------------------------------------------------------------------------------------------\n",
      "/home/yxzeng/code_python/QoS_Eraser/Result/GraphMF/part_type_3/tp/slices_5/time/Final_time_density_tp_0.10.csv\n",
      "/home/yxzeng/code_python/QoS_Eraser/Result/GraphMF/part_type_3/tp/slices_5/time/Final_time_density_tp_0.15.csv\n",
      "/home/yxzeng/code_python/QoS_Eraser/Result/GraphMF/part_type_3/tp/slices_5/time/Final_time_density_tp_0.20.csv\n",
      "/home/yxzeng/code_python/QoS_Eraser/Result/GraphMF/part_type_3/tp/slices_5/time/Final_time_density_tp_0.25.csv\n",
      "/home/yxzeng/code_python/QoS_Eraser/Result/GraphMF/part_type_3/tp/slices_5/time/Final_time_density_tp_0.30.csv\n",
      "----------------------------------------------------------------------------------------------------------------------------------\n",
      "Pure SISA experiment!\n"
     ]
    },
    {
     "data": {
      "text/plain": "         MAE       RMSE      NMAE       MRE      NPRE   agg_time\n0  15.089726  49.388600  0.317269  0.248541  1.328462  34.097008\n1  13.989352  46.332684  0.294078  0.227593  1.170349  43.665662\n2  13.281751  44.129020  0.279309  0.216933  1.128157  50.266024\n3  12.813992  42.827880  0.269350  0.209099  1.036159  60.154593\n4  12.410585  41.738541  0.261148  0.199668  1.058956  70.081438",
      "text/html": "<div>\n<style scoped>\n    .dataframe tbody tr th:only-of-type {\n        vertical-align: middle;\n    }\n\n    .dataframe tbody tr th {\n        vertical-align: top;\n    }\n\n    .dataframe thead th {\n        text-align: right;\n    }\n</style>\n<table border=\"1\" class=\"dataframe\">\n  <thead>\n    <tr style=\"text-align: right;\">\n      <th></th>\n      <th>MAE</th>\n      <th>RMSE</th>\n      <th>NMAE</th>\n      <th>MRE</th>\n      <th>NPRE</th>\n      <th>agg_time</th>\n    </tr>\n  </thead>\n  <tbody>\n    <tr>\n      <th>0</th>\n      <td>15.089726</td>\n      <td>49.388600</td>\n      <td>0.317269</td>\n      <td>0.248541</td>\n      <td>1.328462</td>\n      <td>34.097008</td>\n    </tr>\n    <tr>\n      <th>1</th>\n      <td>13.989352</td>\n      <td>46.332684</td>\n      <td>0.294078</td>\n      <td>0.227593</td>\n      <td>1.170349</td>\n      <td>43.665662</td>\n    </tr>\n    <tr>\n      <th>2</th>\n      <td>13.281751</td>\n      <td>44.129020</td>\n      <td>0.279309</td>\n      <td>0.216933</td>\n      <td>1.128157</td>\n      <td>50.266024</td>\n    </tr>\n    <tr>\n      <th>3</th>\n      <td>12.813992</td>\n      <td>42.827880</td>\n      <td>0.269350</td>\n      <td>0.209099</td>\n      <td>1.036159</td>\n      <td>60.154593</td>\n    </tr>\n    <tr>\n      <th>4</th>\n      <td>12.410585</td>\n      <td>41.738541</td>\n      <td>0.261148</td>\n      <td>0.199668</td>\n      <td>1.058956</td>\n      <td>70.081438</td>\n    </tr>\n  </tbody>\n</table>\n</div>"
     },
     "execution_count": 34,
     "metadata": {},
     "output_type": "execute_result"
    }
   ],
   "source": [
    "get_result('GraphMF', 3, 'tp', slices, 'all')"
   ],
   "metadata": {
    "collapsed": false
   }
  },
  {
   "cell_type": "code",
   "execution_count": 35,
   "outputs": [
    {
     "name": "stdout",
     "output_type": "stream",
     "text": [
      "/home/yxzeng/code_python/QoS_Eraser/Result/MF/part_type_3/tp/slices_5/metrics/Final_result_density_tp_0.10.csv\n",
      "/home/yxzeng/code_python/QoS_Eraser/Result/MF/part_type_3/tp/slices_5/metrics/Final_result_density_tp_0.15.csv\n",
      "/home/yxzeng/code_python/QoS_Eraser/Result/MF/part_type_3/tp/slices_5/metrics/Final_result_density_tp_0.20.csv\n",
      "/home/yxzeng/code_python/QoS_Eraser/Result/MF/part_type_3/tp/slices_5/metrics/Final_result_density_tp_0.25.csv\n",
      "/home/yxzeng/code_python/QoS_Eraser/Result/MF/part_type_3/tp/slices_5/metrics/Final_result_density_tp_0.30.csv\n",
      "----------------------------------------------------------------------------------------------------------------------------------\n",
      "/home/yxzeng/code_python/QoS_Eraser/Result/MF/part_type_3/tp/slices_5/time/Final_time_density_tp_0.10.csv\n",
      "/home/yxzeng/code_python/QoS_Eraser/Result/MF/part_type_3/tp/slices_5/time/Final_time_density_tp_0.15.csv\n",
      "/home/yxzeng/code_python/QoS_Eraser/Result/MF/part_type_3/tp/slices_5/time/Final_time_density_tp_0.20.csv\n",
      "/home/yxzeng/code_python/QoS_Eraser/Result/MF/part_type_3/tp/slices_5/time/Final_time_density_tp_0.25.csv\n",
      "/home/yxzeng/code_python/QoS_Eraser/Result/MF/part_type_3/tp/slices_5/time/Final_time_density_tp_0.30.csv\n",
      "----------------------------------------------------------------------------------------------------------------------------------\n",
      "Pure SISA experiment!\n"
     ]
    },
    {
     "data": {
      "text/plain": "         MAE        RMSE      NMAE       MRE      NPRE   agg_time\n0  41.523693  115.789566  0.872964  0.768829  4.999567  10.743415\n1  38.711426  106.533080  0.813904  0.749075  4.980037  18.439094\n2  35.515090   98.174722  0.746482  0.701921  4.449243  25.698500\n3  33.154380   92.719380  0.697731  0.674245  4.204892  28.948037\n4  30.909857   87.398050  0.649703  0.638467  3.840594  39.206599",
      "text/html": "<div>\n<style scoped>\n    .dataframe tbody tr th:only-of-type {\n        vertical-align: middle;\n    }\n\n    .dataframe tbody tr th {\n        vertical-align: top;\n    }\n\n    .dataframe thead th {\n        text-align: right;\n    }\n</style>\n<table border=\"1\" class=\"dataframe\">\n  <thead>\n    <tr style=\"text-align: right;\">\n      <th></th>\n      <th>MAE</th>\n      <th>RMSE</th>\n      <th>NMAE</th>\n      <th>MRE</th>\n      <th>NPRE</th>\n      <th>agg_time</th>\n    </tr>\n  </thead>\n  <tbody>\n    <tr>\n      <th>0</th>\n      <td>41.523693</td>\n      <td>115.789566</td>\n      <td>0.872964</td>\n      <td>0.768829</td>\n      <td>4.999567</td>\n      <td>10.743415</td>\n    </tr>\n    <tr>\n      <th>1</th>\n      <td>38.711426</td>\n      <td>106.533080</td>\n      <td>0.813904</td>\n      <td>0.749075</td>\n      <td>4.980037</td>\n      <td>18.439094</td>\n    </tr>\n    <tr>\n      <th>2</th>\n      <td>35.515090</td>\n      <td>98.174722</td>\n      <td>0.746482</td>\n      <td>0.701921</td>\n      <td>4.449243</td>\n      <td>25.698500</td>\n    </tr>\n    <tr>\n      <th>3</th>\n      <td>33.154380</td>\n      <td>92.719380</td>\n      <td>0.697731</td>\n      <td>0.674245</td>\n      <td>4.204892</td>\n      <td>28.948037</td>\n    </tr>\n    <tr>\n      <th>4</th>\n      <td>30.909857</td>\n      <td>87.398050</td>\n      <td>0.649703</td>\n      <td>0.638467</td>\n      <td>3.840594</td>\n      <td>39.206599</td>\n    </tr>\n  </tbody>\n</table>\n</div>"
     },
     "execution_count": 35,
     "metadata": {},
     "output_type": "execute_result"
    }
   ],
   "source": [
    "get_result('MF', 3, 'tp', slices, 'all')"
   ],
   "metadata": {
    "collapsed": false
   }
  },
  {
   "cell_type": "markdown",
   "metadata": {},
   "source": [
    "# Receraser item_based"
   ]
  },
  {
   "cell_type": "code",
   "execution_count": 36,
   "metadata": {
    "collapsed": false
   },
   "outputs": [
    {
     "name": "stdout",
     "output_type": "stream",
     "text": [
      "Pure SISA experiment!\n",
      "实验尚未进行\n"
     ]
    }
   ],
   "source": [
    "get_result('CSMF', 4, 'rt', slices, 'all')"
   ]
  },
  {
   "cell_type": "code",
   "execution_count": 37,
   "metadata": {
    "collapsed": false
   },
   "outputs": [
    {
     "name": "stdout",
     "output_type": "stream",
     "text": [
      "Pure SISA experiment!\n",
      "实验尚未进行\n"
     ]
    }
   ],
   "source": [
    "get_result('NeuCF', 4, 'rt', slices, 'all')"
   ]
  },
  {
   "cell_type": "code",
   "execution_count": 38,
   "metadata": {
    "collapsed": false
   },
   "outputs": [
    {
     "name": "stdout",
     "output_type": "stream",
     "text": [
      "Pure SISA experiment!\n",
      "实验尚未进行\n"
     ]
    }
   ],
   "source": [
    "get_result('GraphMF', 4, 'rt', slices, 'all')"
   ]
  },
  {
   "cell_type": "code",
   "execution_count": 39,
   "outputs": [
    {
     "name": "stdout",
     "output_type": "stream",
     "text": [
      "Pure SISA experiment!\n",
      "实验尚未进行\n"
     ]
    }
   ],
   "source": [
    "get_result('MF', 4, 'rt', slices, 'all')"
   ],
   "metadata": {
    "collapsed": false
   }
  },
  {
   "cell_type": "code",
   "execution_count": 40,
   "metadata": {},
   "outputs": [
    {
     "name": "stdout",
     "output_type": "stream",
     "text": [
      "Pure SISA experiment!\n",
      "实验尚未进行\n"
     ]
    }
   ],
   "source": [
    "get_result('CSMF', 4, 'tp', slices, 'all')"
   ]
  },
  {
   "cell_type": "code",
   "execution_count": 41,
   "metadata": {},
   "outputs": [
    {
     "name": "stdout",
     "output_type": "stream",
     "text": [
      "Pure SISA experiment!\n",
      "实验尚未进行\n"
     ]
    }
   ],
   "source": [
    "get_result('NeuCF', 4, 'tp', slices, 'all')"
   ]
  },
  {
   "cell_type": "code",
   "execution_count": 42,
   "metadata": {},
   "outputs": [
    {
     "name": "stdout",
     "output_type": "stream",
     "text": [
      "Pure SISA experiment!\n",
      "实验尚未进行\n"
     ]
    }
   ],
   "source": [
    "get_result('GraphMF', 4, 'tp', slices, 'all')"
   ]
  },
  {
   "cell_type": "code",
   "execution_count": 43,
   "outputs": [
    {
     "name": "stdout",
     "output_type": "stream",
     "text": [
      "Pure SISA experiment!\n",
      "实验尚未进行\n"
     ]
    }
   ],
   "source": [
    "get_result('MF', 4, 'tp', slices, 'all')"
   ],
   "metadata": {
    "collapsed": false
   }
  },
  {
   "cell_type": "markdown",
   "metadata": {},
   "source": [
    "*****"
   ]
  },
  {
   "cell_type": "markdown",
   "metadata": {},
   "source": [
    "*****"
   ]
  },
  {
   "cell_type": "markdown",
   "metadata": {},
   "source": [
    "# SISA2"
   ]
  },
  {
   "cell_type": "code",
   "execution_count": 44,
   "metadata": {
    "collapsed": false
   },
   "outputs": [
    {
     "name": "stdout",
     "output_type": "stream",
     "text": [
      "/home/yxzeng/code_python/QoS_Eraser/Result/CSMF/part_type_5/rt/slices_5/metrics/Final_result_density_rt_0.10.csv\n",
      "/home/yxzeng/code_python/QoS_Eraser/Result/CSMF/part_type_5/rt/slices_5/metrics/Final_result_density_rt_0.15.csv\n",
      "/home/yxzeng/code_python/QoS_Eraser/Result/CSMF/part_type_5/rt/slices_5/metrics/Final_result_density_rt_0.20.csv\n",
      "/home/yxzeng/code_python/QoS_Eraser/Result/CSMF/part_type_5/rt/slices_5/metrics/Final_result_density_rt_0.25.csv\n",
      "/home/yxzeng/code_python/QoS_Eraser/Result/CSMF/part_type_5/rt/slices_5/metrics/Final_result_density_rt_0.30.csv\n",
      "----------------------------------------------------------------------------------------------------------------------------------\n",
      "/home/yxzeng/code_python/QoS_Eraser/Result/CSMF/part_type_5/rt/slices_5/time/Final_time_density_rt_0.10.csv\n",
      "/home/yxzeng/code_python/QoS_Eraser/Result/CSMF/part_type_5/rt/slices_5/time/Final_time_density_rt_0.15.csv\n",
      "/home/yxzeng/code_python/QoS_Eraser/Result/CSMF/part_type_5/rt/slices_5/time/Final_time_density_rt_0.20.csv\n",
      "/home/yxzeng/code_python/QoS_Eraser/Result/CSMF/part_type_5/rt/slices_5/time/Final_time_density_rt_0.25.csv\n",
      "/home/yxzeng/code_python/QoS_Eraser/Result/CSMF/part_type_5/rt/slices_5/time/Final_time_density_rt_0.30.csv\n",
      "----------------------------------------------------------------------------------------------------------------------------------\n",
      "Pure SISA experiment!\n"
     ]
    },
    {
     "data": {
      "text/plain": "        MAE      RMSE      NMAE       MRE      NPRE   agg_time\n0  0.440785  1.368685  0.485055  0.377255  1.667402  26.087243\n1  0.410742  1.329196  0.451846  0.332981  1.411446  32.583205\n2  0.403900  1.319289  0.444642  0.323004  1.245797  34.443926\n3  0.390911  1.299281  0.430160  0.311772  1.239224  40.851733\n4  0.393640  1.305261  0.432998  0.304997  1.192203  47.240753",
      "text/html": "<div>\n<style scoped>\n    .dataframe tbody tr th:only-of-type {\n        vertical-align: middle;\n    }\n\n    .dataframe tbody tr th {\n        vertical-align: top;\n    }\n\n    .dataframe thead th {\n        text-align: right;\n    }\n</style>\n<table border=\"1\" class=\"dataframe\">\n  <thead>\n    <tr style=\"text-align: right;\">\n      <th></th>\n      <th>MAE</th>\n      <th>RMSE</th>\n      <th>NMAE</th>\n      <th>MRE</th>\n      <th>NPRE</th>\n      <th>agg_time</th>\n    </tr>\n  </thead>\n  <tbody>\n    <tr>\n      <th>0</th>\n      <td>0.440785</td>\n      <td>1.368685</td>\n      <td>0.485055</td>\n      <td>0.377255</td>\n      <td>1.667402</td>\n      <td>26.087243</td>\n    </tr>\n    <tr>\n      <th>1</th>\n      <td>0.410742</td>\n      <td>1.329196</td>\n      <td>0.451846</td>\n      <td>0.332981</td>\n      <td>1.411446</td>\n      <td>32.583205</td>\n    </tr>\n    <tr>\n      <th>2</th>\n      <td>0.403900</td>\n      <td>1.319289</td>\n      <td>0.444642</td>\n      <td>0.323004</td>\n      <td>1.245797</td>\n      <td>34.443926</td>\n    </tr>\n    <tr>\n      <th>3</th>\n      <td>0.390911</td>\n      <td>1.299281</td>\n      <td>0.430160</td>\n      <td>0.311772</td>\n      <td>1.239224</td>\n      <td>40.851733</td>\n    </tr>\n    <tr>\n      <th>4</th>\n      <td>0.393640</td>\n      <td>1.305261</td>\n      <td>0.432998</td>\n      <td>0.304997</td>\n      <td>1.192203</td>\n      <td>47.240753</td>\n    </tr>\n  </tbody>\n</table>\n</div>"
     },
     "execution_count": 44,
     "metadata": {},
     "output_type": "execute_result"
    }
   ],
   "source": [
    "get_result('CSMF', 5, 'rt', slices, 'all')"
   ]
  },
  {
   "cell_type": "code",
   "execution_count": 45,
   "metadata": {
    "collapsed": false
   },
   "outputs": [
    {
     "name": "stdout",
     "output_type": "stream",
     "text": [
      "/home/yxzeng/code_python/QoS_Eraser/Result/NeuCF/part_type_5/rt/slices_5/metrics/Final_result_density_rt_0.10.csv\n",
      "/home/yxzeng/code_python/QoS_Eraser/Result/NeuCF/part_type_5/rt/slices_5/metrics/Final_result_density_rt_0.15.csv\n",
      "/home/yxzeng/code_python/QoS_Eraser/Result/NeuCF/part_type_5/rt/slices_5/metrics/Final_result_density_rt_0.20.csv\n",
      "/home/yxzeng/code_python/QoS_Eraser/Result/NeuCF/part_type_5/rt/slices_5/metrics/Final_result_density_rt_0.25.csv\n",
      "/home/yxzeng/code_python/QoS_Eraser/Result/NeuCF/part_type_5/rt/slices_5/metrics/Final_result_density_rt_0.30.csv\n",
      "----------------------------------------------------------------------------------------------------------------------------------\n",
      "/home/yxzeng/code_python/QoS_Eraser/Result/NeuCF/part_type_5/rt/slices_5/time/Final_time_density_rt_0.10.csv\n",
      "/home/yxzeng/code_python/QoS_Eraser/Result/NeuCF/part_type_5/rt/slices_5/time/Final_time_density_rt_0.15.csv\n",
      "/home/yxzeng/code_python/QoS_Eraser/Result/NeuCF/part_type_5/rt/slices_5/time/Final_time_density_rt_0.20.csv\n",
      "/home/yxzeng/code_python/QoS_Eraser/Result/NeuCF/part_type_5/rt/slices_5/time/Final_time_density_rt_0.25.csv\n",
      "/home/yxzeng/code_python/QoS_Eraser/Result/NeuCF/part_type_5/rt/slices_5/time/Final_time_density_rt_0.30.csv\n",
      "----------------------------------------------------------------------------------------------------------------------------------\n",
      "Pure SISA experiment!\n"
     ]
    },
    {
     "data": {
      "text/plain": "        MAE      RMSE      NMAE       MRE      NPRE   agg_time\n0  0.396871  1.297349  0.436891  0.316830  1.407246  24.155561\n1  0.369182  1.279188  0.406377  0.262081  0.979024  34.648639\n2  0.354376  1.262925  0.390112  0.244602  0.928043  44.247143\n3  0.344369  1.243163  0.378887  0.232738  0.886130  57.001077\n4  0.332609  1.223811  0.366236  0.213287  0.849169  70.028702",
      "text/html": "<div>\n<style scoped>\n    .dataframe tbody tr th:only-of-type {\n        vertical-align: middle;\n    }\n\n    .dataframe tbody tr th {\n        vertical-align: top;\n    }\n\n    .dataframe thead th {\n        text-align: right;\n    }\n</style>\n<table border=\"1\" class=\"dataframe\">\n  <thead>\n    <tr style=\"text-align: right;\">\n      <th></th>\n      <th>MAE</th>\n      <th>RMSE</th>\n      <th>NMAE</th>\n      <th>MRE</th>\n      <th>NPRE</th>\n      <th>agg_time</th>\n    </tr>\n  </thead>\n  <tbody>\n    <tr>\n      <th>0</th>\n      <td>0.396871</td>\n      <td>1.297349</td>\n      <td>0.436891</td>\n      <td>0.316830</td>\n      <td>1.407246</td>\n      <td>24.155561</td>\n    </tr>\n    <tr>\n      <th>1</th>\n      <td>0.369182</td>\n      <td>1.279188</td>\n      <td>0.406377</td>\n      <td>0.262081</td>\n      <td>0.979024</td>\n      <td>34.648639</td>\n    </tr>\n    <tr>\n      <th>2</th>\n      <td>0.354376</td>\n      <td>1.262925</td>\n      <td>0.390112</td>\n      <td>0.244602</td>\n      <td>0.928043</td>\n      <td>44.247143</td>\n    </tr>\n    <tr>\n      <th>3</th>\n      <td>0.344369</td>\n      <td>1.243163</td>\n      <td>0.378887</td>\n      <td>0.232738</td>\n      <td>0.886130</td>\n      <td>57.001077</td>\n    </tr>\n    <tr>\n      <th>4</th>\n      <td>0.332609</td>\n      <td>1.223811</td>\n      <td>0.366236</td>\n      <td>0.213287</td>\n      <td>0.849169</td>\n      <td>70.028702</td>\n    </tr>\n  </tbody>\n</table>\n</div>"
     },
     "execution_count": 45,
     "metadata": {},
     "output_type": "execute_result"
    }
   ],
   "source": [
    "get_result('NeuCF', 5, 'rt', slices, 'all')"
   ]
  },
  {
   "cell_type": "code",
   "execution_count": 46,
   "metadata": {
    "collapsed": false
   },
   "outputs": [
    {
     "name": "stdout",
     "output_type": "stream",
     "text": [
      "/home/yxzeng/code_python/QoS_Eraser/Result/GraphMF/part_type_5/rt/slices_5/metrics/Final_result_density_rt_0.10.csv\n",
      "/home/yxzeng/code_python/QoS_Eraser/Result/GraphMF/part_type_5/rt/slices_5/metrics/Final_result_density_rt_0.15.csv\n",
      "/home/yxzeng/code_python/QoS_Eraser/Result/GraphMF/part_type_5/rt/slices_5/metrics/Final_result_density_rt_0.20.csv\n",
      "/home/yxzeng/code_python/QoS_Eraser/Result/GraphMF/part_type_5/rt/slices_5/metrics/Final_result_density_rt_0.25.csv\n",
      "/home/yxzeng/code_python/QoS_Eraser/Result/GraphMF/part_type_5/rt/slices_5/metrics/Final_result_density_rt_0.30.csv\n",
      "----------------------------------------------------------------------------------------------------------------------------------\n",
      "/home/yxzeng/code_python/QoS_Eraser/Result/GraphMF/part_type_5/rt/slices_5/time/Final_time_density_rt_0.10.csv\n",
      "/home/yxzeng/code_python/QoS_Eraser/Result/GraphMF/part_type_5/rt/slices_5/time/Final_time_density_rt_0.15.csv\n",
      "/home/yxzeng/code_python/QoS_Eraser/Result/GraphMF/part_type_5/rt/slices_5/time/Final_time_density_rt_0.20.csv\n",
      "/home/yxzeng/code_python/QoS_Eraser/Result/GraphMF/part_type_5/rt/slices_5/time/Final_time_density_rt_0.25.csv\n",
      "/home/yxzeng/code_python/QoS_Eraser/Result/GraphMF/part_type_5/rt/slices_5/time/Final_time_density_rt_0.30.csv\n",
      "----------------------------------------------------------------------------------------------------------------------------------\n",
      "Pure SISA experiment!\n"
     ]
    },
    {
     "data": {
      "text/plain": "        MAE      RMSE      NMAE       MRE      NPRE    agg_time\n0  0.341432  1.256147  0.375890  0.186315  0.817112   66.929804\n1  0.324625  1.224452  0.357349  0.170205  0.763682   88.570649\n2  0.312838  1.196490  0.344489  0.162211  0.755691  106.052637\n3  0.306653  1.185328  0.337672  0.159213  0.743484  126.284805\n4  0.301734  1.176427  0.332080  0.152734  0.708688  156.032411",
      "text/html": "<div>\n<style scoped>\n    .dataframe tbody tr th:only-of-type {\n        vertical-align: middle;\n    }\n\n    .dataframe tbody tr th {\n        vertical-align: top;\n    }\n\n    .dataframe thead th {\n        text-align: right;\n    }\n</style>\n<table border=\"1\" class=\"dataframe\">\n  <thead>\n    <tr style=\"text-align: right;\">\n      <th></th>\n      <th>MAE</th>\n      <th>RMSE</th>\n      <th>NMAE</th>\n      <th>MRE</th>\n      <th>NPRE</th>\n      <th>agg_time</th>\n    </tr>\n  </thead>\n  <tbody>\n    <tr>\n      <th>0</th>\n      <td>0.341432</td>\n      <td>1.256147</td>\n      <td>0.375890</td>\n      <td>0.186315</td>\n      <td>0.817112</td>\n      <td>66.929804</td>\n    </tr>\n    <tr>\n      <th>1</th>\n      <td>0.324625</td>\n      <td>1.224452</td>\n      <td>0.357349</td>\n      <td>0.170205</td>\n      <td>0.763682</td>\n      <td>88.570649</td>\n    </tr>\n    <tr>\n      <th>2</th>\n      <td>0.312838</td>\n      <td>1.196490</td>\n      <td>0.344489</td>\n      <td>0.162211</td>\n      <td>0.755691</td>\n      <td>106.052637</td>\n    </tr>\n    <tr>\n      <th>3</th>\n      <td>0.306653</td>\n      <td>1.185328</td>\n      <td>0.337672</td>\n      <td>0.159213</td>\n      <td>0.743484</td>\n      <td>126.284805</td>\n    </tr>\n    <tr>\n      <th>4</th>\n      <td>0.301734</td>\n      <td>1.176427</td>\n      <td>0.332080</td>\n      <td>0.152734</td>\n      <td>0.708688</td>\n      <td>156.032411</td>\n    </tr>\n  </tbody>\n</table>\n</div>"
     },
     "execution_count": 46,
     "metadata": {},
     "output_type": "execute_result"
    }
   ],
   "source": [
    "get_result('GraphMF', 5, 'rt', slices, 'all')"
   ]
  },
  {
   "cell_type": "code",
   "execution_count": 47,
   "outputs": [
    {
     "name": "stdout",
     "output_type": "stream",
     "text": [
      "/home/yxzeng/code_python/QoS_Eraser/Result/MF/part_type_5/rt/slices_5/metrics/Final_result_density_rt_0.10.csv\n",
      "/home/yxzeng/code_python/QoS_Eraser/Result/MF/part_type_5/rt/slices_5/metrics/Final_result_density_rt_0.15.csv\n",
      "/home/yxzeng/code_python/QoS_Eraser/Result/MF/part_type_5/rt/slices_5/metrics/Final_result_density_rt_0.20.csv\n",
      "/home/yxzeng/code_python/QoS_Eraser/Result/MF/part_type_5/rt/slices_5/metrics/Final_result_density_rt_0.25.csv\n",
      "/home/yxzeng/code_python/QoS_Eraser/Result/MF/part_type_5/rt/slices_5/metrics/Final_result_density_rt_0.30.csv\n",
      "----------------------------------------------------------------------------------------------------------------------------------\n",
      "/home/yxzeng/code_python/QoS_Eraser/Result/MF/part_type_5/rt/slices_5/time/Final_time_density_rt_0.10.csv\n",
      "/home/yxzeng/code_python/QoS_Eraser/Result/MF/part_type_5/rt/slices_5/time/Final_time_density_rt_0.15.csv\n",
      "/home/yxzeng/code_python/QoS_Eraser/Result/MF/part_type_5/rt/slices_5/time/Final_time_density_rt_0.20.csv\n",
      "/home/yxzeng/code_python/QoS_Eraser/Result/MF/part_type_5/rt/slices_5/time/Final_time_density_rt_0.25.csv\n",
      "/home/yxzeng/code_python/QoS_Eraser/Result/MF/part_type_5/rt/slices_5/time/Final_time_density_rt_0.30.csv\n",
      "----------------------------------------------------------------------------------------------------------------------------------\n",
      "Pure SISA experiment!\n"
     ]
    },
    {
     "data": {
      "text/plain": "        MAE      RMSE      NMAE       MRE      NPRE   agg_time\n0  0.568700  1.611065  0.626001  0.506258  2.279673  26.646005\n1  0.506450  1.456269  0.557366  0.458719  1.874006  35.687654\n2  0.486147  1.421588  0.534890  0.424386  1.572531  48.060033\n3  0.451137  1.348686  0.496780  0.401213  1.550106  52.914613\n4  0.453907  1.373683  0.499729  0.397483  1.469514  66.348452",
      "text/html": "<div>\n<style scoped>\n    .dataframe tbody tr th:only-of-type {\n        vertical-align: middle;\n    }\n\n    .dataframe tbody tr th {\n        vertical-align: top;\n    }\n\n    .dataframe thead th {\n        text-align: right;\n    }\n</style>\n<table border=\"1\" class=\"dataframe\">\n  <thead>\n    <tr style=\"text-align: right;\">\n      <th></th>\n      <th>MAE</th>\n      <th>RMSE</th>\n      <th>NMAE</th>\n      <th>MRE</th>\n      <th>NPRE</th>\n      <th>agg_time</th>\n    </tr>\n  </thead>\n  <tbody>\n    <tr>\n      <th>0</th>\n      <td>0.568700</td>\n      <td>1.611065</td>\n      <td>0.626001</td>\n      <td>0.506258</td>\n      <td>2.279673</td>\n      <td>26.646005</td>\n    </tr>\n    <tr>\n      <th>1</th>\n      <td>0.506450</td>\n      <td>1.456269</td>\n      <td>0.557366</td>\n      <td>0.458719</td>\n      <td>1.874006</td>\n      <td>35.687654</td>\n    </tr>\n    <tr>\n      <th>2</th>\n      <td>0.486147</td>\n      <td>1.421588</td>\n      <td>0.534890</td>\n      <td>0.424386</td>\n      <td>1.572531</td>\n      <td>48.060033</td>\n    </tr>\n    <tr>\n      <th>3</th>\n      <td>0.451137</td>\n      <td>1.348686</td>\n      <td>0.496780</td>\n      <td>0.401213</td>\n      <td>1.550106</td>\n      <td>52.914613</td>\n    </tr>\n    <tr>\n      <th>4</th>\n      <td>0.453907</td>\n      <td>1.373683</td>\n      <td>0.499729</td>\n      <td>0.397483</td>\n      <td>1.469514</td>\n      <td>66.348452</td>\n    </tr>\n  </tbody>\n</table>\n</div>"
     },
     "execution_count": 47,
     "metadata": {},
     "output_type": "execute_result"
    }
   ],
   "source": [
    "get_result('MF', 5, 'rt', slices, 'all')"
   ],
   "metadata": {
    "collapsed": false
   }
  },
  {
   "cell_type": "code",
   "execution_count": 48,
   "metadata": {},
   "outputs": [
    {
     "name": "stdout",
     "output_type": "stream",
     "text": [
      "/home/yxzeng/code_python/QoS_Eraser/Result/CSMF/part_type_5/tp/slices_5/metrics/Final_result_density_tp_0.10.csv\n",
      "/home/yxzeng/code_python/QoS_Eraser/Result/CSMF/part_type_5/tp/slices_5/metrics/Final_result_density_tp_0.15.csv\n",
      "/home/yxzeng/code_python/QoS_Eraser/Result/CSMF/part_type_5/tp/slices_5/metrics/Final_result_density_tp_0.20.csv\n",
      "/home/yxzeng/code_python/QoS_Eraser/Result/CSMF/part_type_5/tp/slices_5/metrics/Final_result_density_tp_0.25.csv\n",
      "/home/yxzeng/code_python/QoS_Eraser/Result/CSMF/part_type_5/tp/slices_5/metrics/Final_result_density_tp_0.30.csv\n",
      "----------------------------------------------------------------------------------------------------------------------------------\n",
      "/home/yxzeng/code_python/QoS_Eraser/Result/CSMF/part_type_5/tp/slices_5/time/Final_time_density_tp_0.10.csv\n",
      "/home/yxzeng/code_python/QoS_Eraser/Result/CSMF/part_type_5/tp/slices_5/time/Final_time_density_tp_0.15.csv\n",
      "/home/yxzeng/code_python/QoS_Eraser/Result/CSMF/part_type_5/tp/slices_5/time/Final_time_density_tp_0.20.csv\n",
      "/home/yxzeng/code_python/QoS_Eraser/Result/CSMF/part_type_5/tp/slices_5/time/Final_time_density_tp_0.25.csv\n",
      "/home/yxzeng/code_python/QoS_Eraser/Result/CSMF/part_type_5/tp/slices_5/time/Final_time_density_tp_0.30.csv\n",
      "----------------------------------------------------------------------------------------------------------------------------------\n",
      "Pure SISA experiment!\n"
     ]
    },
    {
     "data": {
      "text/plain": "         MAE       RMSE      NMAE       MRE      NPRE   agg_time\n0  20.958466  60.796562  0.440528  0.369078  1.646592  24.181048\n1  19.479916  57.210533  0.409254  0.339592  1.498240  31.996237\n2  19.560162  57.009716  0.411310  0.341845  1.541927  36.734712\n3  18.703306  55.131886  0.392968  0.326505  1.440915  41.390397\n4  18.606686  54.893333  0.391300  0.317846  1.472284  54.952526",
      "text/html": "<div>\n<style scoped>\n    .dataframe tbody tr th:only-of-type {\n        vertical-align: middle;\n    }\n\n    .dataframe tbody tr th {\n        vertical-align: top;\n    }\n\n    .dataframe thead th {\n        text-align: right;\n    }\n</style>\n<table border=\"1\" class=\"dataframe\">\n  <thead>\n    <tr style=\"text-align: right;\">\n      <th></th>\n      <th>MAE</th>\n      <th>RMSE</th>\n      <th>NMAE</th>\n      <th>MRE</th>\n      <th>NPRE</th>\n      <th>agg_time</th>\n    </tr>\n  </thead>\n  <tbody>\n    <tr>\n      <th>0</th>\n      <td>20.958466</td>\n      <td>60.796562</td>\n      <td>0.440528</td>\n      <td>0.369078</td>\n      <td>1.646592</td>\n      <td>24.181048</td>\n    </tr>\n    <tr>\n      <th>1</th>\n      <td>19.479916</td>\n      <td>57.210533</td>\n      <td>0.409254</td>\n      <td>0.339592</td>\n      <td>1.498240</td>\n      <td>31.996237</td>\n    </tr>\n    <tr>\n      <th>2</th>\n      <td>19.560162</td>\n      <td>57.009716</td>\n      <td>0.411310</td>\n      <td>0.341845</td>\n      <td>1.541927</td>\n      <td>36.734712</td>\n    </tr>\n    <tr>\n      <th>3</th>\n      <td>18.703306</td>\n      <td>55.131886</td>\n      <td>0.392968</td>\n      <td>0.326505</td>\n      <td>1.440915</td>\n      <td>41.390397</td>\n    </tr>\n    <tr>\n      <th>4</th>\n      <td>18.606686</td>\n      <td>54.893333</td>\n      <td>0.391300</td>\n      <td>0.317846</td>\n      <td>1.472284</td>\n      <td>54.952526</td>\n    </tr>\n  </tbody>\n</table>\n</div>"
     },
     "execution_count": 48,
     "metadata": {},
     "output_type": "execute_result"
    }
   ],
   "source": [
    "get_result('CSMF', 5, 'tp', slices, 'all')"
   ]
  },
  {
   "cell_type": "code",
   "execution_count": 49,
   "metadata": {},
   "outputs": [
    {
     "name": "stdout",
     "output_type": "stream",
     "text": [
      "/home/yxzeng/code_python/QoS_Eraser/Result/NeuCF/part_type_5/tp/slices_5/metrics/Final_result_density_tp_0.10.csv\n",
      "/home/yxzeng/code_python/QoS_Eraser/Result/NeuCF/part_type_5/tp/slices_5/metrics/Final_result_density_tp_0.15.csv\n",
      "/home/yxzeng/code_python/QoS_Eraser/Result/NeuCF/part_type_5/tp/slices_5/metrics/Final_result_density_tp_0.20.csv\n",
      "/home/yxzeng/code_python/QoS_Eraser/Result/NeuCF/part_type_5/tp/slices_5/metrics/Final_result_density_tp_0.25.csv\n",
      "/home/yxzeng/code_python/QoS_Eraser/Result/NeuCF/part_type_5/tp/slices_5/metrics/Final_result_density_tp_0.30.csv\n",
      "----------------------------------------------------------------------------------------------------------------------------------\n",
      "/home/yxzeng/code_python/QoS_Eraser/Result/NeuCF/part_type_5/tp/slices_5/time/Final_time_density_tp_0.10.csv\n",
      "/home/yxzeng/code_python/QoS_Eraser/Result/NeuCF/part_type_5/tp/slices_5/time/Final_time_density_tp_0.15.csv\n",
      "/home/yxzeng/code_python/QoS_Eraser/Result/NeuCF/part_type_5/tp/slices_5/time/Final_time_density_tp_0.20.csv\n",
      "/home/yxzeng/code_python/QoS_Eraser/Result/NeuCF/part_type_5/tp/slices_5/time/Final_time_density_tp_0.25.csv\n",
      "/home/yxzeng/code_python/QoS_Eraser/Result/NeuCF/part_type_5/tp/slices_5/time/Final_time_density_tp_0.30.csv\n",
      "----------------------------------------------------------------------------------------------------------------------------------\n",
      "Pure SISA experiment!\n"
     ]
    },
    {
     "data": {
      "text/plain": "         MAE       RMSE      NMAE       MRE      NPRE   agg_time\n0  18.474222  56.700460  0.388379  0.331331  1.585582  30.324927\n1  16.513690  51.389717  0.347219  0.301461  1.273231  47.744585\n2  14.784818  47.450405  0.310873  0.260070  1.200062  74.156106\n3  14.307692  46.167137  0.300831  0.246997  1.215671  83.594764\n4  13.676521  44.662804  0.287667  0.230505  1.140903  99.827834",
      "text/html": "<div>\n<style scoped>\n    .dataframe tbody tr th:only-of-type {\n        vertical-align: middle;\n    }\n\n    .dataframe tbody tr th {\n        vertical-align: top;\n    }\n\n    .dataframe thead th {\n        text-align: right;\n    }\n</style>\n<table border=\"1\" class=\"dataframe\">\n  <thead>\n    <tr style=\"text-align: right;\">\n      <th></th>\n      <th>MAE</th>\n      <th>RMSE</th>\n      <th>NMAE</th>\n      <th>MRE</th>\n      <th>NPRE</th>\n      <th>agg_time</th>\n    </tr>\n  </thead>\n  <tbody>\n    <tr>\n      <th>0</th>\n      <td>18.474222</td>\n      <td>56.700460</td>\n      <td>0.388379</td>\n      <td>0.331331</td>\n      <td>1.585582</td>\n      <td>30.324927</td>\n    </tr>\n    <tr>\n      <th>1</th>\n      <td>16.513690</td>\n      <td>51.389717</td>\n      <td>0.347219</td>\n      <td>0.301461</td>\n      <td>1.273231</td>\n      <td>47.744585</td>\n    </tr>\n    <tr>\n      <th>2</th>\n      <td>14.784818</td>\n      <td>47.450405</td>\n      <td>0.310873</td>\n      <td>0.260070</td>\n      <td>1.200062</td>\n      <td>74.156106</td>\n    </tr>\n    <tr>\n      <th>3</th>\n      <td>14.307692</td>\n      <td>46.167137</td>\n      <td>0.300831</td>\n      <td>0.246997</td>\n      <td>1.215671</td>\n      <td>83.594764</td>\n    </tr>\n    <tr>\n      <th>4</th>\n      <td>13.676521</td>\n      <td>44.662804</td>\n      <td>0.287667</td>\n      <td>0.230505</td>\n      <td>1.140903</td>\n      <td>99.827834</td>\n    </tr>\n  </tbody>\n</table>\n</div>"
     },
     "execution_count": 49,
     "metadata": {},
     "output_type": "execute_result"
    }
   ],
   "source": [
    "get_result('NeuCF', 5, 'tp', slices, 'all')"
   ]
  },
  {
   "cell_type": "code",
   "execution_count": 50,
   "metadata": {},
   "outputs": [
    {
     "name": "stdout",
     "output_type": "stream",
     "text": [
      "/home/yxzeng/code_python/QoS_Eraser/Result/GraphMF/part_type_5/tp/slices_5/metrics/Final_result_density_tp_0.10.csv\n",
      "/home/yxzeng/code_python/QoS_Eraser/Result/GraphMF/part_type_5/tp/slices_5/metrics/Final_result_density_tp_0.15.csv\n",
      "/home/yxzeng/code_python/QoS_Eraser/Result/GraphMF/part_type_5/tp/slices_5/metrics/Final_result_density_tp_0.20.csv\n",
      "/home/yxzeng/code_python/QoS_Eraser/Result/GraphMF/part_type_5/tp/slices_5/metrics/Final_result_density_tp_0.25.csv\n",
      "/home/yxzeng/code_python/QoS_Eraser/Result/GraphMF/part_type_5/tp/slices_5/metrics/Final_result_density_tp_0.30.csv\n",
      "----------------------------------------------------------------------------------------------------------------------------------\n",
      "/home/yxzeng/code_python/QoS_Eraser/Result/GraphMF/part_type_5/tp/slices_5/time/Final_time_density_tp_0.10.csv\n",
      "/home/yxzeng/code_python/QoS_Eraser/Result/GraphMF/part_type_5/tp/slices_5/time/Final_time_density_tp_0.15.csv\n",
      "/home/yxzeng/code_python/QoS_Eraser/Result/GraphMF/part_type_5/tp/slices_5/time/Final_time_density_tp_0.20.csv\n",
      "/home/yxzeng/code_python/QoS_Eraser/Result/GraphMF/part_type_5/tp/slices_5/time/Final_time_density_tp_0.25.csv\n",
      "/home/yxzeng/code_python/QoS_Eraser/Result/GraphMF/part_type_5/tp/slices_5/time/Final_time_density_tp_0.30.csv\n",
      "----------------------------------------------------------------------------------------------------------------------------------\n",
      "Pure SISA experiment!\n"
     ]
    },
    {
     "data": {
      "text/plain": "         MAE       RMSE      NMAE       MRE      NPRE    agg_time\n0  13.636343  46.269670  0.286777  0.206896  1.036553   62.500106\n1  12.760710  43.877766  0.268362  0.190771  0.928542   84.135306\n2  12.083125  41.795300  0.254072  0.177583  0.886029  100.954954\n3  11.651347  40.778008  0.244822  0.169132  0.815652  129.721314\n4  11.328133  39.575294  0.238181  0.164718  0.826298  150.478770",
      "text/html": "<div>\n<style scoped>\n    .dataframe tbody tr th:only-of-type {\n        vertical-align: middle;\n    }\n\n    .dataframe tbody tr th {\n        vertical-align: top;\n    }\n\n    .dataframe thead th {\n        text-align: right;\n    }\n</style>\n<table border=\"1\" class=\"dataframe\">\n  <thead>\n    <tr style=\"text-align: right;\">\n      <th></th>\n      <th>MAE</th>\n      <th>RMSE</th>\n      <th>NMAE</th>\n      <th>MRE</th>\n      <th>NPRE</th>\n      <th>agg_time</th>\n    </tr>\n  </thead>\n  <tbody>\n    <tr>\n      <th>0</th>\n      <td>13.636343</td>\n      <td>46.269670</td>\n      <td>0.286777</td>\n      <td>0.206896</td>\n      <td>1.036553</td>\n      <td>62.500106</td>\n    </tr>\n    <tr>\n      <th>1</th>\n      <td>12.760710</td>\n      <td>43.877766</td>\n      <td>0.268362</td>\n      <td>0.190771</td>\n      <td>0.928542</td>\n      <td>84.135306</td>\n    </tr>\n    <tr>\n      <th>2</th>\n      <td>12.083125</td>\n      <td>41.795300</td>\n      <td>0.254072</td>\n      <td>0.177583</td>\n      <td>0.886029</td>\n      <td>100.954954</td>\n    </tr>\n    <tr>\n      <th>3</th>\n      <td>11.651347</td>\n      <td>40.778008</td>\n      <td>0.244822</td>\n      <td>0.169132</td>\n      <td>0.815652</td>\n      <td>129.721314</td>\n    </tr>\n    <tr>\n      <th>4</th>\n      <td>11.328133</td>\n      <td>39.575294</td>\n      <td>0.238181</td>\n      <td>0.164718</td>\n      <td>0.826298</td>\n      <td>150.478770</td>\n    </tr>\n  </tbody>\n</table>\n</div>"
     },
     "execution_count": 50,
     "metadata": {},
     "output_type": "execute_result"
    }
   ],
   "source": [
    "get_result('GraphMF', 5, 'tp', slices, 'all')"
   ]
  },
  {
   "cell_type": "code",
   "execution_count": 51,
   "outputs": [
    {
     "name": "stdout",
     "output_type": "stream",
     "text": [
      "/home/yxzeng/code_python/QoS_Eraser/Result/MF/part_type_5/tp/slices_5/metrics/Final_result_density_tp_0.10.csv\n",
      "/home/yxzeng/code_python/QoS_Eraser/Result/MF/part_type_5/tp/slices_5/metrics/Final_result_density_tp_0.15.csv\n",
      "/home/yxzeng/code_python/QoS_Eraser/Result/MF/part_type_5/tp/slices_5/metrics/Final_result_density_tp_0.20.csv\n",
      "/home/yxzeng/code_python/QoS_Eraser/Result/MF/part_type_5/tp/slices_5/metrics/Final_result_density_tp_0.25.csv\n",
      "/home/yxzeng/code_python/QoS_Eraser/Result/MF/part_type_5/tp/slices_5/metrics/Final_result_density_tp_0.30.csv\n",
      "----------------------------------------------------------------------------------------------------------------------------------\n",
      "/home/yxzeng/code_python/QoS_Eraser/Result/MF/part_type_5/tp/slices_5/time/Final_time_density_tp_0.10.csv\n",
      "/home/yxzeng/code_python/QoS_Eraser/Result/MF/part_type_5/tp/slices_5/time/Final_time_density_tp_0.15.csv\n",
      "/home/yxzeng/code_python/QoS_Eraser/Result/MF/part_type_5/tp/slices_5/time/Final_time_density_tp_0.20.csv\n",
      "/home/yxzeng/code_python/QoS_Eraser/Result/MF/part_type_5/tp/slices_5/time/Final_time_density_tp_0.25.csv\n",
      "/home/yxzeng/code_python/QoS_Eraser/Result/MF/part_type_5/tp/slices_5/time/Final_time_density_tp_0.30.csv\n",
      "----------------------------------------------------------------------------------------------------------------------------------\n",
      "Pure SISA experiment!\n"
     ]
    },
    {
     "data": {
      "text/plain": "         MAE       RMSE      NMAE       MRE      NPRE   agg_time\n0  24.277304  69.461700  0.510406  0.479199  2.447732  30.815330\n1  21.245903  61.544533  0.446738  0.417988  1.989535  42.287986\n2  20.115984  59.428123  0.422900  0.398512  1.929225  55.462856\n3  18.984800  56.640205  0.399273  0.373688  1.714935  68.792578\n4  19.548567  58.718190  0.410993  0.374618  1.608597  87.433689",
      "text/html": "<div>\n<style scoped>\n    .dataframe tbody tr th:only-of-type {\n        vertical-align: middle;\n    }\n\n    .dataframe tbody tr th {\n        vertical-align: top;\n    }\n\n    .dataframe thead th {\n        text-align: right;\n    }\n</style>\n<table border=\"1\" class=\"dataframe\">\n  <thead>\n    <tr style=\"text-align: right;\">\n      <th></th>\n      <th>MAE</th>\n      <th>RMSE</th>\n      <th>NMAE</th>\n      <th>MRE</th>\n      <th>NPRE</th>\n      <th>agg_time</th>\n    </tr>\n  </thead>\n  <tbody>\n    <tr>\n      <th>0</th>\n      <td>24.277304</td>\n      <td>69.461700</td>\n      <td>0.510406</td>\n      <td>0.479199</td>\n      <td>2.447732</td>\n      <td>30.815330</td>\n    </tr>\n    <tr>\n      <th>1</th>\n      <td>21.245903</td>\n      <td>61.544533</td>\n      <td>0.446738</td>\n      <td>0.417988</td>\n      <td>1.989535</td>\n      <td>42.287986</td>\n    </tr>\n    <tr>\n      <th>2</th>\n      <td>20.115984</td>\n      <td>59.428123</td>\n      <td>0.422900</td>\n      <td>0.398512</td>\n      <td>1.929225</td>\n      <td>55.462856</td>\n    </tr>\n    <tr>\n      <th>3</th>\n      <td>18.984800</td>\n      <td>56.640205</td>\n      <td>0.399273</td>\n      <td>0.373688</td>\n      <td>1.714935</td>\n      <td>68.792578</td>\n    </tr>\n    <tr>\n      <th>4</th>\n      <td>19.548567</td>\n      <td>58.718190</td>\n      <td>0.410993</td>\n      <td>0.374618</td>\n      <td>1.608597</td>\n      <td>87.433689</td>\n    </tr>\n  </tbody>\n</table>\n</div>"
     },
     "execution_count": 51,
     "metadata": {},
     "output_type": "execute_result"
    }
   ],
   "source": [
    "get_result('MF', 5, 'tp', slices, 'all')"
   ],
   "metadata": {
    "collapsed": false
   }
  },
  {
   "cell_type": "markdown",
   "metadata": {},
   "source": [
    "*****"
   ]
  },
  {
   "cell_type": "markdown",
   "metadata": {},
   "source": [
    "*****"
   ]
  },
  {
   "cell_type": "markdown",
   "metadata": {},
   "source": [
    "# PURE SISA"
   ]
  },
  {
   "cell_type": "code",
   "execution_count": 52,
   "metadata": {
    "collapsed": false
   },
   "outputs": [
    {
     "name": "stdout",
     "output_type": "stream",
     "text": [
      "Pure SISA experiment!\n",
      "实验尚未进行\n"
     ]
    }
   ],
   "source": [
    "get_result('CSMF', 6, 'rt', slices, 'all')"
   ]
  },
  {
   "cell_type": "code",
   "execution_count": 53,
   "metadata": {
    "collapsed": false
   },
   "outputs": [
    {
     "name": "stdout",
     "output_type": "stream",
     "text": [
      "Pure SISA experiment!\n",
      "实验尚未进行\n"
     ]
    }
   ],
   "source": [
    "get_result('NeuCF', 6, 'rt', slices, 'all')"
   ]
  },
  {
   "cell_type": "code",
   "execution_count": 54,
   "metadata": {
    "collapsed": false
   },
   "outputs": [
    {
     "name": "stdout",
     "output_type": "stream",
     "text": [
      "Pure SISA experiment!\n",
      "实验尚未进行\n"
     ]
    }
   ],
   "source": [
    "get_result('GraphMF', 6, 'rt', slices, 'all')"
   ]
  },
  {
   "cell_type": "code",
   "execution_count": 55,
   "outputs": [
    {
     "name": "stdout",
     "output_type": "stream",
     "text": [
      "Pure SISA experiment!\n",
      "实验尚未进行\n"
     ]
    }
   ],
   "source": [
    "get_result('MF', 6, 'rt', slices, 'all')"
   ],
   "metadata": {
    "collapsed": false
   }
  },
  {
   "cell_type": "code",
   "execution_count": 56,
   "metadata": {},
   "outputs": [
    {
     "name": "stdout",
     "output_type": "stream",
     "text": [
      "Pure SISA experiment!\n",
      "实验尚未进行\n"
     ]
    }
   ],
   "source": [
    "get_result('CSMF', 6, 'tp', slices, 'all')"
   ]
  },
  {
   "cell_type": "code",
   "execution_count": 57,
   "metadata": {},
   "outputs": [
    {
     "name": "stdout",
     "output_type": "stream",
     "text": [
      "Pure SISA experiment!\n",
      "实验尚未进行\n"
     ]
    }
   ],
   "source": [
    "get_result('NeuCF', 6, 'tp', slices, 'all')"
   ]
  },
  {
   "cell_type": "code",
   "execution_count": 58,
   "metadata": {},
   "outputs": [
    {
     "name": "stdout",
     "output_type": "stream",
     "text": [
      "Pure SISA experiment!\n",
      "实验尚未进行\n"
     ]
    }
   ],
   "source": [
    "get_result('GraphMF', 6, 'tp', slices, 'all')"
   ]
  },
  {
   "cell_type": "code",
   "execution_count": 59,
   "outputs": [
    {
     "name": "stdout",
     "output_type": "stream",
     "text": [
      "Pure SISA experiment!\n",
      "实验尚未进行\n"
     ]
    }
   ],
   "source": [
    "get_result('MF', 6, 'tp', slices, 'all')"
   ],
   "metadata": {
    "collapsed": false
   }
  },
  {
   "cell_type": "markdown",
   "source": [
    "*****"
   ],
   "metadata": {
    "collapsed": false
   }
  },
  {
   "cell_type": "code",
   "execution_count": 60,
   "outputs": [
    {
     "name": "stdout",
     "output_type": "stream",
     "text": [
      "Pure SISA experiment!\n",
      "实验尚未进行\n"
     ]
    }
   ],
   "source": [
    "get_result('CSMF', 7, 'rt', slices, 'all')"
   ],
   "metadata": {
    "collapsed": false
   }
  },
  {
   "cell_type": "code",
   "execution_count": 61,
   "outputs": [
    {
     "name": "stdout",
     "output_type": "stream",
     "text": [
      "Pure SISA experiment!\n",
      "实验尚未进行\n"
     ]
    }
   ],
   "source": [
    "get_result('NeuCF', 7, 'rt', slices, 'all')"
   ],
   "metadata": {
    "collapsed": false
   }
  },
  {
   "cell_type": "code",
   "execution_count": 62,
   "outputs": [
    {
     "name": "stdout",
     "output_type": "stream",
     "text": [
      "Pure SISA experiment!\n",
      "实验尚未进行\n"
     ]
    }
   ],
   "source": [
    "get_result('GraphMF', 7, 'rt', slices, 'all')"
   ],
   "metadata": {
    "collapsed": false
   }
  },
  {
   "cell_type": "code",
   "execution_count": 63,
   "outputs": [
    {
     "name": "stdout",
     "output_type": "stream",
     "text": [
      "Pure SISA experiment!\n",
      "实验尚未进行\n"
     ]
    }
   ],
   "source": [
    "get_result('MF', 7, 'rt', slices, 'all')"
   ],
   "metadata": {
    "collapsed": false
   }
  },
  {
   "cell_type": "code",
   "execution_count": 64,
   "outputs": [
    {
     "name": "stdout",
     "output_type": "stream",
     "text": [
      "Pure SISA experiment!\n",
      "实验尚未进行\n"
     ]
    }
   ],
   "source": [
    "get_result('CSMF', 7, 'tp', slices, 'all')"
   ],
   "metadata": {
    "collapsed": false
   }
  },
  {
   "cell_type": "code",
   "execution_count": 65,
   "outputs": [
    {
     "name": "stdout",
     "output_type": "stream",
     "text": [
      "Pure SISA experiment!\n",
      "实验尚未进行\n"
     ]
    }
   ],
   "source": [
    "get_result('NeuCF', 7, 'tp', slices, 'all')"
   ],
   "metadata": {
    "collapsed": false
   }
  },
  {
   "cell_type": "code",
   "execution_count": 66,
   "outputs": [
    {
     "name": "stdout",
     "output_type": "stream",
     "text": [
      "Pure SISA experiment!\n",
      "实验尚未进行\n"
     ]
    }
   ],
   "source": [
    "get_result('GraphMF', 7, 'tp', slices, 'all')"
   ],
   "metadata": {
    "collapsed": false
   }
  },
  {
   "cell_type": "code",
   "execution_count": 67,
   "outputs": [
    {
     "name": "stdout",
     "output_type": "stream",
     "text": [
      "Pure SISA experiment!\n",
      "实验尚未进行\n"
     ]
    }
   ],
   "source": [
    "get_result('MF', 7, 'tp', slices, 'all')"
   ],
   "metadata": {
    "collapsed": false
   }
  },
  {
   "cell_type": "code",
   "execution_count": 68,
   "outputs": [],
   "source": [
    "def final_get(string):\n",
    "\n",
    "    rt = np.concatenate([np.array(get_result(string, 10, 'rt', 1, 'all'))[:, 0].reshape(-1, 1), np.array(get_result(string, 1, 'rt', slices, 'all'))[:, 0].reshape(-1, 1)], axis = 1)\n",
    "    rt = np.concatenate([rt, np.array(get_result(string, 3, 'rt', slices, 'all'))[:, 0].reshape(-1, 1)], axis = 1)\n",
    "    rt = np.concatenate([rt, np.array(get_result(string, 5, 'rt', slices, 'all'))[:, 0].reshape(-1, 1)], axis = 1)\n",
    "\n",
    "\n",
    "    tp = np.concatenate([np.array(get_result(string, 10, 'tp', 1, 'all'))[:, 0].reshape(-1, 1), np.array(get_result(string, 1, 'tp', slices, 'all'))[:, 0].reshape(-1, 1)], axis = 1)\n",
    "    tp = np.concatenate([tp, np.array(get_result(string, 3, 'tp', slices, 'all'))[:, 0].reshape(-1, 1)], axis = 1)\n",
    "    tp = np.concatenate([tp, np.array(get_result(string, 5, 'tp', slices, 'all'))[:, 0].reshape(-1, 1)], axis = 1)\n",
    "\n",
    "    ans = np.concatenate([rt, np.zeros((1, 4)), tp], axis = 0)\n",
    "    ans = pd.DataFrame(ans)\n",
    "    ans.columns = ['Retrain', 'SISA', 'Receraser', 'ours']\n",
    "    ans.to_excel(f'./Result/{string}.xlsx', index = False)\n",
    "    return ans"
   ],
   "metadata": {
    "collapsed": false
   }
  },
  {
   "cell_type": "code",
   "execution_count": 69,
   "outputs": [
    {
     "name": "stdout",
     "output_type": "stream",
     "text": [
      "/home/yxzeng/code_python/QoS_Eraser/Result/NeuCF/part_type_10/rt/slices_1/metrics/Final_result_density_rt_0.10.csv\n",
      "/home/yxzeng/code_python/QoS_Eraser/Result/NeuCF/part_type_10/rt/slices_1/metrics/Final_result_density_rt_0.15.csv\n",
      "/home/yxzeng/code_python/QoS_Eraser/Result/NeuCF/part_type_10/rt/slices_1/metrics/Final_result_density_rt_0.20.csv\n",
      "/home/yxzeng/code_python/QoS_Eraser/Result/NeuCF/part_type_10/rt/slices_1/metrics/Final_result_density_rt_0.25.csv\n",
      "/home/yxzeng/code_python/QoS_Eraser/Result/NeuCF/part_type_10/rt/slices_1/metrics/Final_result_density_rt_0.30.csv\n",
      "----------------------------------------------------------------------------------------------------------------------------------\n",
      "/home/yxzeng/code_python/QoS_Eraser/Result/NeuCF/part_type_10/rt/slices_1/time/Final_time_density_rt_0.10.csv\n",
      "/home/yxzeng/code_python/QoS_Eraser/Result/NeuCF/part_type_10/rt/slices_1/time/Final_time_density_rt_0.15.csv\n",
      "/home/yxzeng/code_python/QoS_Eraser/Result/NeuCF/part_type_10/rt/slices_1/time/Final_time_density_rt_0.20.csv\n",
      "/home/yxzeng/code_python/QoS_Eraser/Result/NeuCF/part_type_10/rt/slices_1/time/Final_time_density_rt_0.25.csv\n",
      "/home/yxzeng/code_python/QoS_Eraser/Result/NeuCF/part_type_10/rt/slices_1/time/Final_time_density_rt_0.30.csv\n",
      "----------------------------------------------------------------------------------------------------------------------------------\n",
      "Pure SISA experiment!\n",
      "/home/yxzeng/code_python/QoS_Eraser/Result/NeuCF/part_type_1/rt/slices_5/metrics/Final_result_density_rt_0.10.csv\n",
      "/home/yxzeng/code_python/QoS_Eraser/Result/NeuCF/part_type_1/rt/slices_5/metrics/Final_result_density_rt_0.15.csv\n",
      "/home/yxzeng/code_python/QoS_Eraser/Result/NeuCF/part_type_1/rt/slices_5/metrics/Final_result_density_rt_0.20.csv\n",
      "/home/yxzeng/code_python/QoS_Eraser/Result/NeuCF/part_type_1/rt/slices_5/metrics/Final_result_density_rt_0.25.csv\n",
      "/home/yxzeng/code_python/QoS_Eraser/Result/NeuCF/part_type_1/rt/slices_5/metrics/Final_result_density_rt_0.30.csv\n",
      "----------------------------------------------------------------------------------------------------------------------------------\n",
      "/home/yxzeng/code_python/QoS_Eraser/Result/NeuCF/part_type_1/rt/slices_5/time/Final_time_density_rt_0.10.csv\n",
      "/home/yxzeng/code_python/QoS_Eraser/Result/NeuCF/part_type_1/rt/slices_5/time/Final_time_density_rt_0.15.csv\n",
      "/home/yxzeng/code_python/QoS_Eraser/Result/NeuCF/part_type_1/rt/slices_5/time/Final_time_density_rt_0.20.csv\n",
      "/home/yxzeng/code_python/QoS_Eraser/Result/NeuCF/part_type_1/rt/slices_5/time/Final_time_density_rt_0.25.csv\n",
      "/home/yxzeng/code_python/QoS_Eraser/Result/NeuCF/part_type_1/rt/slices_5/time/Final_time_density_rt_0.30.csv\n",
      "----------------------------------------------------------------------------------------------------------------------------------\n",
      "node2vec experiment!\n",
      "/home/yxzeng/code_python/QoS_Eraser/Result/NeuCF/part_type_3/rt/slices_5/metrics/Final_result_density_rt_0.10.csv\n",
      "/home/yxzeng/code_python/QoS_Eraser/Result/NeuCF/part_type_3/rt/slices_5/metrics/Final_result_density_rt_0.15.csv\n",
      "/home/yxzeng/code_python/QoS_Eraser/Result/NeuCF/part_type_3/rt/slices_5/metrics/Final_result_density_rt_0.20.csv\n",
      "/home/yxzeng/code_python/QoS_Eraser/Result/NeuCF/part_type_3/rt/slices_5/metrics/Final_result_density_rt_0.25.csv\n",
      "/home/yxzeng/code_python/QoS_Eraser/Result/NeuCF/part_type_3/rt/slices_5/metrics/Final_result_density_rt_0.30.csv\n",
      "----------------------------------------------------------------------------------------------------------------------------------\n",
      "/home/yxzeng/code_python/QoS_Eraser/Result/NeuCF/part_type_3/rt/slices_5/time/Final_time_density_rt_0.10.csv\n",
      "/home/yxzeng/code_python/QoS_Eraser/Result/NeuCF/part_type_3/rt/slices_5/time/Final_time_density_rt_0.15.csv\n",
      "/home/yxzeng/code_python/QoS_Eraser/Result/NeuCF/part_type_3/rt/slices_5/time/Final_time_density_rt_0.20.csv\n",
      "/home/yxzeng/code_python/QoS_Eraser/Result/NeuCF/part_type_3/rt/slices_5/time/Final_time_density_rt_0.25.csv\n",
      "/home/yxzeng/code_python/QoS_Eraser/Result/NeuCF/part_type_3/rt/slices_5/time/Final_time_density_rt_0.30.csv\n",
      "----------------------------------------------------------------------------------------------------------------------------------\n",
      "Pure SISA experiment!\n",
      "/home/yxzeng/code_python/QoS_Eraser/Result/NeuCF/part_type_5/rt/slices_5/metrics/Final_result_density_rt_0.10.csv\n",
      "/home/yxzeng/code_python/QoS_Eraser/Result/NeuCF/part_type_5/rt/slices_5/metrics/Final_result_density_rt_0.15.csv\n",
      "/home/yxzeng/code_python/QoS_Eraser/Result/NeuCF/part_type_5/rt/slices_5/metrics/Final_result_density_rt_0.20.csv\n",
      "/home/yxzeng/code_python/QoS_Eraser/Result/NeuCF/part_type_5/rt/slices_5/metrics/Final_result_density_rt_0.25.csv\n",
      "/home/yxzeng/code_python/QoS_Eraser/Result/NeuCF/part_type_5/rt/slices_5/metrics/Final_result_density_rt_0.30.csv\n",
      "----------------------------------------------------------------------------------------------------------------------------------\n",
      "/home/yxzeng/code_python/QoS_Eraser/Result/NeuCF/part_type_5/rt/slices_5/time/Final_time_density_rt_0.10.csv\n",
      "/home/yxzeng/code_python/QoS_Eraser/Result/NeuCF/part_type_5/rt/slices_5/time/Final_time_density_rt_0.15.csv\n",
      "/home/yxzeng/code_python/QoS_Eraser/Result/NeuCF/part_type_5/rt/slices_5/time/Final_time_density_rt_0.20.csv\n",
      "/home/yxzeng/code_python/QoS_Eraser/Result/NeuCF/part_type_5/rt/slices_5/time/Final_time_density_rt_0.25.csv\n",
      "/home/yxzeng/code_python/QoS_Eraser/Result/NeuCF/part_type_5/rt/slices_5/time/Final_time_density_rt_0.30.csv\n",
      "----------------------------------------------------------------------------------------------------------------------------------\n",
      "Pure SISA experiment!\n",
      "/home/yxzeng/code_python/QoS_Eraser/Result/NeuCF/part_type_10/tp/slices_1/metrics/Final_result_density_tp_0.10.csv\n",
      "/home/yxzeng/code_python/QoS_Eraser/Result/NeuCF/part_type_10/tp/slices_1/metrics/Final_result_density_tp_0.15.csv\n",
      "/home/yxzeng/code_python/QoS_Eraser/Result/NeuCF/part_type_10/tp/slices_1/metrics/Final_result_density_tp_0.20.csv\n",
      "/home/yxzeng/code_python/QoS_Eraser/Result/NeuCF/part_type_10/tp/slices_1/metrics/Final_result_density_tp_0.25.csv\n",
      "/home/yxzeng/code_python/QoS_Eraser/Result/NeuCF/part_type_10/tp/slices_1/metrics/Final_result_density_tp_0.30.csv\n",
      "----------------------------------------------------------------------------------------------------------------------------------\n",
      "/home/yxzeng/code_python/QoS_Eraser/Result/NeuCF/part_type_10/tp/slices_1/time/Final_time_density_tp_0.10.csv\n",
      "/home/yxzeng/code_python/QoS_Eraser/Result/NeuCF/part_type_10/tp/slices_1/time/Final_time_density_tp_0.15.csv\n",
      "/home/yxzeng/code_python/QoS_Eraser/Result/NeuCF/part_type_10/tp/slices_1/time/Final_time_density_tp_0.20.csv\n",
      "/home/yxzeng/code_python/QoS_Eraser/Result/NeuCF/part_type_10/tp/slices_1/time/Final_time_density_tp_0.25.csv\n",
      "/home/yxzeng/code_python/QoS_Eraser/Result/NeuCF/part_type_10/tp/slices_1/time/Final_time_density_tp_0.30.csv\n",
      "----------------------------------------------------------------------------------------------------------------------------------\n",
      "Pure SISA experiment!\n",
      "/home/yxzeng/code_python/QoS_Eraser/Result/NeuCF/part_type_1/tp/slices_5/metrics/Final_result_density_tp_0.10.csv\n",
      "/home/yxzeng/code_python/QoS_Eraser/Result/NeuCF/part_type_1/tp/slices_5/metrics/Final_result_density_tp_0.15.csv\n",
      "/home/yxzeng/code_python/QoS_Eraser/Result/NeuCF/part_type_1/tp/slices_5/metrics/Final_result_density_tp_0.20.csv\n",
      "/home/yxzeng/code_python/QoS_Eraser/Result/NeuCF/part_type_1/tp/slices_5/metrics/Final_result_density_tp_0.25.csv\n",
      "/home/yxzeng/code_python/QoS_Eraser/Result/NeuCF/part_type_1/tp/slices_5/metrics/Final_result_density_tp_0.30.csv\n",
      "----------------------------------------------------------------------------------------------------------------------------------\n",
      "/home/yxzeng/code_python/QoS_Eraser/Result/NeuCF/part_type_1/tp/slices_5/time/Final_time_density_tp_0.10.csv\n",
      "/home/yxzeng/code_python/QoS_Eraser/Result/NeuCF/part_type_1/tp/slices_5/time/Final_time_density_tp_0.15.csv\n",
      "/home/yxzeng/code_python/QoS_Eraser/Result/NeuCF/part_type_1/tp/slices_5/time/Final_time_density_tp_0.20.csv\n",
      "/home/yxzeng/code_python/QoS_Eraser/Result/NeuCF/part_type_1/tp/slices_5/time/Final_time_density_tp_0.25.csv\n",
      "/home/yxzeng/code_python/QoS_Eraser/Result/NeuCF/part_type_1/tp/slices_5/time/Final_time_density_tp_0.30.csv\n",
      "----------------------------------------------------------------------------------------------------------------------------------\n",
      "node2vec experiment!\n",
      "/home/yxzeng/code_python/QoS_Eraser/Result/NeuCF/part_type_3/tp/slices_5/metrics/Final_result_density_tp_0.10.csv\n",
      "/home/yxzeng/code_python/QoS_Eraser/Result/NeuCF/part_type_3/tp/slices_5/metrics/Final_result_density_tp_0.15.csv\n",
      "/home/yxzeng/code_python/QoS_Eraser/Result/NeuCF/part_type_3/tp/slices_5/metrics/Final_result_density_tp_0.20.csv\n",
      "/home/yxzeng/code_python/QoS_Eraser/Result/NeuCF/part_type_3/tp/slices_5/metrics/Final_result_density_tp_0.25.csv\n",
      "/home/yxzeng/code_python/QoS_Eraser/Result/NeuCF/part_type_3/tp/slices_5/metrics/Final_result_density_tp_0.30.csv\n",
      "----------------------------------------------------------------------------------------------------------------------------------\n",
      "/home/yxzeng/code_python/QoS_Eraser/Result/NeuCF/part_type_3/tp/slices_5/time/Final_time_density_tp_0.10.csv\n",
      "/home/yxzeng/code_python/QoS_Eraser/Result/NeuCF/part_type_3/tp/slices_5/time/Final_time_density_tp_0.15.csv\n",
      "/home/yxzeng/code_python/QoS_Eraser/Result/NeuCF/part_type_3/tp/slices_5/time/Final_time_density_tp_0.20.csv\n",
      "/home/yxzeng/code_python/QoS_Eraser/Result/NeuCF/part_type_3/tp/slices_5/time/Final_time_density_tp_0.25.csv\n",
      "/home/yxzeng/code_python/QoS_Eraser/Result/NeuCF/part_type_3/tp/slices_5/time/Final_time_density_tp_0.30.csv\n",
      "----------------------------------------------------------------------------------------------------------------------------------\n",
      "Pure SISA experiment!\n",
      "/home/yxzeng/code_python/QoS_Eraser/Result/NeuCF/part_type_5/tp/slices_5/metrics/Final_result_density_tp_0.10.csv\n",
      "/home/yxzeng/code_python/QoS_Eraser/Result/NeuCF/part_type_5/tp/slices_5/metrics/Final_result_density_tp_0.15.csv\n",
      "/home/yxzeng/code_python/QoS_Eraser/Result/NeuCF/part_type_5/tp/slices_5/metrics/Final_result_density_tp_0.20.csv\n",
      "/home/yxzeng/code_python/QoS_Eraser/Result/NeuCF/part_type_5/tp/slices_5/metrics/Final_result_density_tp_0.25.csv\n",
      "/home/yxzeng/code_python/QoS_Eraser/Result/NeuCF/part_type_5/tp/slices_5/metrics/Final_result_density_tp_0.30.csv\n",
      "----------------------------------------------------------------------------------------------------------------------------------\n",
      "/home/yxzeng/code_python/QoS_Eraser/Result/NeuCF/part_type_5/tp/slices_5/time/Final_time_density_tp_0.10.csv\n",
      "/home/yxzeng/code_python/QoS_Eraser/Result/NeuCF/part_type_5/tp/slices_5/time/Final_time_density_tp_0.15.csv\n",
      "/home/yxzeng/code_python/QoS_Eraser/Result/NeuCF/part_type_5/tp/slices_5/time/Final_time_density_tp_0.20.csv\n",
      "/home/yxzeng/code_python/QoS_Eraser/Result/NeuCF/part_type_5/tp/slices_5/time/Final_time_density_tp_0.25.csv\n",
      "/home/yxzeng/code_python/QoS_Eraser/Result/NeuCF/part_type_5/tp/slices_5/time/Final_time_density_tp_0.30.csv\n",
      "----------------------------------------------------------------------------------------------------------------------------------\n",
      "Pure SISA experiment!\n"
     ]
    },
    {
     "data": {
      "text/plain": "      Retrain       SISA  Receraser       ours\n0    0.392078   0.482301   0.476795   0.396871\n1    0.363028   0.447009   0.445929   0.369182\n2    0.346025   0.428050   0.421950   0.354376\n3    0.333460   0.400578   0.401849   0.344369\n4    0.322231   0.386466   0.393714   0.332609\n5    0.000000   0.000000   0.000000   0.000000\n6   16.512076  24.349040  22.936802  18.474222\n7   15.105738  20.118294  19.949474  16.513690\n8   13.949186  18.351050  18.478191  14.784818\n9   13.243787  16.689625  17.519193  14.307692\n10  12.449648  15.759127  17.078354  13.676521",
      "text/html": "<div>\n<style scoped>\n    .dataframe tbody tr th:only-of-type {\n        vertical-align: middle;\n    }\n\n    .dataframe tbody tr th {\n        vertical-align: top;\n    }\n\n    .dataframe thead th {\n        text-align: right;\n    }\n</style>\n<table border=\"1\" class=\"dataframe\">\n  <thead>\n    <tr style=\"text-align: right;\">\n      <th></th>\n      <th>Retrain</th>\n      <th>SISA</th>\n      <th>Receraser</th>\n      <th>ours</th>\n    </tr>\n  </thead>\n  <tbody>\n    <tr>\n      <th>0</th>\n      <td>0.392078</td>\n      <td>0.482301</td>\n      <td>0.476795</td>\n      <td>0.396871</td>\n    </tr>\n    <tr>\n      <th>1</th>\n      <td>0.363028</td>\n      <td>0.447009</td>\n      <td>0.445929</td>\n      <td>0.369182</td>\n    </tr>\n    <tr>\n      <th>2</th>\n      <td>0.346025</td>\n      <td>0.428050</td>\n      <td>0.421950</td>\n      <td>0.354376</td>\n    </tr>\n    <tr>\n      <th>3</th>\n      <td>0.333460</td>\n      <td>0.400578</td>\n      <td>0.401849</td>\n      <td>0.344369</td>\n    </tr>\n    <tr>\n      <th>4</th>\n      <td>0.322231</td>\n      <td>0.386466</td>\n      <td>0.393714</td>\n      <td>0.332609</td>\n    </tr>\n    <tr>\n      <th>5</th>\n      <td>0.000000</td>\n      <td>0.000000</td>\n      <td>0.000000</td>\n      <td>0.000000</td>\n    </tr>\n    <tr>\n      <th>6</th>\n      <td>16.512076</td>\n      <td>24.349040</td>\n      <td>22.936802</td>\n      <td>18.474222</td>\n    </tr>\n    <tr>\n      <th>7</th>\n      <td>15.105738</td>\n      <td>20.118294</td>\n      <td>19.949474</td>\n      <td>16.513690</td>\n    </tr>\n    <tr>\n      <th>8</th>\n      <td>13.949186</td>\n      <td>18.351050</td>\n      <td>18.478191</td>\n      <td>14.784818</td>\n    </tr>\n    <tr>\n      <th>9</th>\n      <td>13.243787</td>\n      <td>16.689625</td>\n      <td>17.519193</td>\n      <td>14.307692</td>\n    </tr>\n    <tr>\n      <th>10</th>\n      <td>12.449648</td>\n      <td>15.759127</td>\n      <td>17.078354</td>\n      <td>13.676521</td>\n    </tr>\n  </tbody>\n</table>\n</div>"
     },
     "execution_count": 69,
     "metadata": {},
     "output_type": "execute_result"
    }
   ],
   "source": [
    "final_get('NeuCF')"
   ],
   "metadata": {
    "collapsed": false
   }
  },
  {
   "cell_type": "code",
   "execution_count": 70,
   "outputs": [
    {
     "name": "stdout",
     "output_type": "stream",
     "text": [
      "/home/yxzeng/code_python/QoS_Eraser/Result/CSMF/part_type_10/rt/slices_1/metrics/Final_result_density_rt_0.10.csv\n",
      "/home/yxzeng/code_python/QoS_Eraser/Result/CSMF/part_type_10/rt/slices_1/metrics/Final_result_density_rt_0.15.csv\n",
      "/home/yxzeng/code_python/QoS_Eraser/Result/CSMF/part_type_10/rt/slices_1/metrics/Final_result_density_rt_0.20.csv\n",
      "/home/yxzeng/code_python/QoS_Eraser/Result/CSMF/part_type_10/rt/slices_1/metrics/Final_result_density_rt_0.25.csv\n",
      "/home/yxzeng/code_python/QoS_Eraser/Result/CSMF/part_type_10/rt/slices_1/metrics/Final_result_density_rt_0.30.csv\n",
      "----------------------------------------------------------------------------------------------------------------------------------\n",
      "/home/yxzeng/code_python/QoS_Eraser/Result/CSMF/part_type_10/rt/slices_1/time/Final_time_density_rt_0.10.csv\n",
      "/home/yxzeng/code_python/QoS_Eraser/Result/CSMF/part_type_10/rt/slices_1/time/Final_time_density_rt_0.15.csv\n",
      "/home/yxzeng/code_python/QoS_Eraser/Result/CSMF/part_type_10/rt/slices_1/time/Final_time_density_rt_0.20.csv\n",
      "/home/yxzeng/code_python/QoS_Eraser/Result/CSMF/part_type_10/rt/slices_1/time/Final_time_density_rt_0.25.csv\n",
      "/home/yxzeng/code_python/QoS_Eraser/Result/CSMF/part_type_10/rt/slices_1/time/Final_time_density_rt_0.30.csv\n",
      "----------------------------------------------------------------------------------------------------------------------------------\n",
      "Pure SISA experiment!\n",
      "/home/yxzeng/code_python/QoS_Eraser/Result/CSMF/part_type_1/rt/slices_5/metrics/Final_result_density_rt_0.10.csv\n",
      "/home/yxzeng/code_python/QoS_Eraser/Result/CSMF/part_type_1/rt/slices_5/metrics/Final_result_density_rt_0.15.csv\n",
      "/home/yxzeng/code_python/QoS_Eraser/Result/CSMF/part_type_1/rt/slices_5/metrics/Final_result_density_rt_0.20.csv\n",
      "/home/yxzeng/code_python/QoS_Eraser/Result/CSMF/part_type_1/rt/slices_5/metrics/Final_result_density_rt_0.25.csv\n",
      "/home/yxzeng/code_python/QoS_Eraser/Result/CSMF/part_type_1/rt/slices_5/metrics/Final_result_density_rt_0.30.csv\n",
      "----------------------------------------------------------------------------------------------------------------------------------\n",
      "/home/yxzeng/code_python/QoS_Eraser/Result/CSMF/part_type_1/rt/slices_5/time/Final_time_density_rt_0.10.csv\n",
      "/home/yxzeng/code_python/QoS_Eraser/Result/CSMF/part_type_1/rt/slices_5/time/Final_time_density_rt_0.15.csv\n",
      "/home/yxzeng/code_python/QoS_Eraser/Result/CSMF/part_type_1/rt/slices_5/time/Final_time_density_rt_0.20.csv\n",
      "/home/yxzeng/code_python/QoS_Eraser/Result/CSMF/part_type_1/rt/slices_5/time/Final_time_density_rt_0.25.csv\n",
      "/home/yxzeng/code_python/QoS_Eraser/Result/CSMF/part_type_1/rt/slices_5/time/Final_time_density_rt_0.30.csv\n",
      "----------------------------------------------------------------------------------------------------------------------------------\n",
      "node2vec experiment!\n",
      "/home/yxzeng/code_python/QoS_Eraser/Result/CSMF/part_type_3/rt/slices_5/metrics/Final_result_density_rt_0.10.csv\n",
      "/home/yxzeng/code_python/QoS_Eraser/Result/CSMF/part_type_3/rt/slices_5/metrics/Final_result_density_rt_0.15.csv\n",
      "/home/yxzeng/code_python/QoS_Eraser/Result/CSMF/part_type_3/rt/slices_5/metrics/Final_result_density_rt_0.20.csv\n",
      "/home/yxzeng/code_python/QoS_Eraser/Result/CSMF/part_type_3/rt/slices_5/metrics/Final_result_density_rt_0.25.csv\n",
      "/home/yxzeng/code_python/QoS_Eraser/Result/CSMF/part_type_3/rt/slices_5/metrics/Final_result_density_rt_0.30.csv\n",
      "----------------------------------------------------------------------------------------------------------------------------------\n",
      "/home/yxzeng/code_python/QoS_Eraser/Result/CSMF/part_type_3/rt/slices_5/time/Final_time_density_rt_0.10.csv\n",
      "/home/yxzeng/code_python/QoS_Eraser/Result/CSMF/part_type_3/rt/slices_5/time/Final_time_density_rt_0.15.csv\n",
      "/home/yxzeng/code_python/QoS_Eraser/Result/CSMF/part_type_3/rt/slices_5/time/Final_time_density_rt_0.20.csv\n",
      "/home/yxzeng/code_python/QoS_Eraser/Result/CSMF/part_type_3/rt/slices_5/time/Final_time_density_rt_0.25.csv\n",
      "/home/yxzeng/code_python/QoS_Eraser/Result/CSMF/part_type_3/rt/slices_5/time/Final_time_density_rt_0.30.csv\n",
      "----------------------------------------------------------------------------------------------------------------------------------\n",
      "Pure SISA experiment!\n",
      "/home/yxzeng/code_python/QoS_Eraser/Result/CSMF/part_type_5/rt/slices_5/metrics/Final_result_density_rt_0.10.csv\n",
      "/home/yxzeng/code_python/QoS_Eraser/Result/CSMF/part_type_5/rt/slices_5/metrics/Final_result_density_rt_0.15.csv\n",
      "/home/yxzeng/code_python/QoS_Eraser/Result/CSMF/part_type_5/rt/slices_5/metrics/Final_result_density_rt_0.20.csv\n",
      "/home/yxzeng/code_python/QoS_Eraser/Result/CSMF/part_type_5/rt/slices_5/metrics/Final_result_density_rt_0.25.csv\n",
      "/home/yxzeng/code_python/QoS_Eraser/Result/CSMF/part_type_5/rt/slices_5/metrics/Final_result_density_rt_0.30.csv\n",
      "----------------------------------------------------------------------------------------------------------------------------------\n",
      "/home/yxzeng/code_python/QoS_Eraser/Result/CSMF/part_type_5/rt/slices_5/time/Final_time_density_rt_0.10.csv\n",
      "/home/yxzeng/code_python/QoS_Eraser/Result/CSMF/part_type_5/rt/slices_5/time/Final_time_density_rt_0.15.csv\n",
      "/home/yxzeng/code_python/QoS_Eraser/Result/CSMF/part_type_5/rt/slices_5/time/Final_time_density_rt_0.20.csv\n",
      "/home/yxzeng/code_python/QoS_Eraser/Result/CSMF/part_type_5/rt/slices_5/time/Final_time_density_rt_0.25.csv\n",
      "/home/yxzeng/code_python/QoS_Eraser/Result/CSMF/part_type_5/rt/slices_5/time/Final_time_density_rt_0.30.csv\n",
      "----------------------------------------------------------------------------------------------------------------------------------\n",
      "Pure SISA experiment!\n",
      "/home/yxzeng/code_python/QoS_Eraser/Result/CSMF/part_type_10/tp/slices_1/metrics/Final_result_density_tp_0.10.csv\n",
      "/home/yxzeng/code_python/QoS_Eraser/Result/CSMF/part_type_10/tp/slices_1/metrics/Final_result_density_tp_0.15.csv\n",
      "/home/yxzeng/code_python/QoS_Eraser/Result/CSMF/part_type_10/tp/slices_1/metrics/Final_result_density_tp_0.20.csv\n",
      "/home/yxzeng/code_python/QoS_Eraser/Result/CSMF/part_type_10/tp/slices_1/metrics/Final_result_density_tp_0.25.csv\n",
      "/home/yxzeng/code_python/QoS_Eraser/Result/CSMF/part_type_10/tp/slices_1/metrics/Final_result_density_tp_0.30.csv\n",
      "----------------------------------------------------------------------------------------------------------------------------------\n",
      "/home/yxzeng/code_python/QoS_Eraser/Result/CSMF/part_type_10/tp/slices_1/time/Final_time_density_tp_0.10.csv\n",
      "/home/yxzeng/code_python/QoS_Eraser/Result/CSMF/part_type_10/tp/slices_1/time/Final_time_density_tp_0.15.csv\n",
      "/home/yxzeng/code_python/QoS_Eraser/Result/CSMF/part_type_10/tp/slices_1/time/Final_time_density_tp_0.20.csv\n",
      "/home/yxzeng/code_python/QoS_Eraser/Result/CSMF/part_type_10/tp/slices_1/time/Final_time_density_tp_0.25.csv\n",
      "/home/yxzeng/code_python/QoS_Eraser/Result/CSMF/part_type_10/tp/slices_1/time/Final_time_density_tp_0.30.csv\n",
      "----------------------------------------------------------------------------------------------------------------------------------\n",
      "Pure SISA experiment!\n",
      "/home/yxzeng/code_python/QoS_Eraser/Result/CSMF/part_type_1/tp/slices_5/metrics/Final_result_density_tp_0.10.csv\n",
      "/home/yxzeng/code_python/QoS_Eraser/Result/CSMF/part_type_1/tp/slices_5/metrics/Final_result_density_tp_0.15.csv\n",
      "/home/yxzeng/code_python/QoS_Eraser/Result/CSMF/part_type_1/tp/slices_5/metrics/Final_result_density_tp_0.20.csv\n",
      "/home/yxzeng/code_python/QoS_Eraser/Result/CSMF/part_type_1/tp/slices_5/metrics/Final_result_density_tp_0.25.csv\n",
      "/home/yxzeng/code_python/QoS_Eraser/Result/CSMF/part_type_1/tp/slices_5/metrics/Final_result_density_tp_0.30.csv\n",
      "----------------------------------------------------------------------------------------------------------------------------------\n",
      "/home/yxzeng/code_python/QoS_Eraser/Result/CSMF/part_type_1/tp/slices_5/time/Final_time_density_tp_0.10.csv\n",
      "/home/yxzeng/code_python/QoS_Eraser/Result/CSMF/part_type_1/tp/slices_5/time/Final_time_density_tp_0.15.csv\n",
      "/home/yxzeng/code_python/QoS_Eraser/Result/CSMF/part_type_1/tp/slices_5/time/Final_time_density_tp_0.20.csv\n",
      "/home/yxzeng/code_python/QoS_Eraser/Result/CSMF/part_type_1/tp/slices_5/time/Final_time_density_tp_0.25.csv\n",
      "/home/yxzeng/code_python/QoS_Eraser/Result/CSMF/part_type_1/tp/slices_5/time/Final_time_density_tp_0.30.csv\n",
      "----------------------------------------------------------------------------------------------------------------------------------\n",
      "node2vec experiment!\n",
      "/home/yxzeng/code_python/QoS_Eraser/Result/CSMF/part_type_3/tp/slices_5/metrics/Final_result_density_tp_0.10.csv\n",
      "/home/yxzeng/code_python/QoS_Eraser/Result/CSMF/part_type_3/tp/slices_5/metrics/Final_result_density_tp_0.15.csv\n",
      "/home/yxzeng/code_python/QoS_Eraser/Result/CSMF/part_type_3/tp/slices_5/metrics/Final_result_density_tp_0.20.csv\n",
      "/home/yxzeng/code_python/QoS_Eraser/Result/CSMF/part_type_3/tp/slices_5/metrics/Final_result_density_tp_0.25.csv\n",
      "/home/yxzeng/code_python/QoS_Eraser/Result/CSMF/part_type_3/tp/slices_5/metrics/Final_result_density_tp_0.30.csv\n",
      "----------------------------------------------------------------------------------------------------------------------------------\n",
      "/home/yxzeng/code_python/QoS_Eraser/Result/CSMF/part_type_3/tp/slices_5/time/Final_time_density_tp_0.10.csv\n",
      "/home/yxzeng/code_python/QoS_Eraser/Result/CSMF/part_type_3/tp/slices_5/time/Final_time_density_tp_0.15.csv\n",
      "/home/yxzeng/code_python/QoS_Eraser/Result/CSMF/part_type_3/tp/slices_5/time/Final_time_density_tp_0.20.csv\n",
      "/home/yxzeng/code_python/QoS_Eraser/Result/CSMF/part_type_3/tp/slices_5/time/Final_time_density_tp_0.25.csv\n",
      "/home/yxzeng/code_python/QoS_Eraser/Result/CSMF/part_type_3/tp/slices_5/time/Final_time_density_tp_0.30.csv\n",
      "----------------------------------------------------------------------------------------------------------------------------------\n",
      "Pure SISA experiment!\n",
      "/home/yxzeng/code_python/QoS_Eraser/Result/CSMF/part_type_5/tp/slices_5/metrics/Final_result_density_tp_0.10.csv\n",
      "/home/yxzeng/code_python/QoS_Eraser/Result/CSMF/part_type_5/tp/slices_5/metrics/Final_result_density_tp_0.15.csv\n",
      "/home/yxzeng/code_python/QoS_Eraser/Result/CSMF/part_type_5/tp/slices_5/metrics/Final_result_density_tp_0.20.csv\n",
      "/home/yxzeng/code_python/QoS_Eraser/Result/CSMF/part_type_5/tp/slices_5/metrics/Final_result_density_tp_0.25.csv\n",
      "/home/yxzeng/code_python/QoS_Eraser/Result/CSMF/part_type_5/tp/slices_5/metrics/Final_result_density_tp_0.30.csv\n",
      "----------------------------------------------------------------------------------------------------------------------------------\n",
      "/home/yxzeng/code_python/QoS_Eraser/Result/CSMF/part_type_5/tp/slices_5/time/Final_time_density_tp_0.10.csv\n",
      "/home/yxzeng/code_python/QoS_Eraser/Result/CSMF/part_type_5/tp/slices_5/time/Final_time_density_tp_0.15.csv\n",
      "/home/yxzeng/code_python/QoS_Eraser/Result/CSMF/part_type_5/tp/slices_5/time/Final_time_density_tp_0.20.csv\n",
      "/home/yxzeng/code_python/QoS_Eraser/Result/CSMF/part_type_5/tp/slices_5/time/Final_time_density_tp_0.25.csv\n",
      "/home/yxzeng/code_python/QoS_Eraser/Result/CSMF/part_type_5/tp/slices_5/time/Final_time_density_tp_0.30.csv\n",
      "----------------------------------------------------------------------------------------------------------------------------------\n",
      "Pure SISA experiment!\n"
     ]
    },
    {
     "data": {
      "text/plain": "      Retrain       SISA  Receraser       ours\n0    0.381232   0.553634   0.524577   0.440785\n1    0.352104   0.521528   0.511020   0.410742\n2    0.332131   0.514238   0.494511   0.403900\n3    0.321007   0.492257   0.476160   0.390911\n4    0.311297   0.492931   0.461915   0.393640\n5    0.000000   0.000000   0.000000   0.000000\n6   13.971522  23.513325  22.771120  20.958466\n7   12.828636  22.547432  22.141546  19.479916\n8   11.991392  22.117840  21.075153  19.560162\n9   11.371379  21.868866  20.459267  18.703306\n10  11.041444  21.274975  19.894140  18.606686",
      "text/html": "<div>\n<style scoped>\n    .dataframe tbody tr th:only-of-type {\n        vertical-align: middle;\n    }\n\n    .dataframe tbody tr th {\n        vertical-align: top;\n    }\n\n    .dataframe thead th {\n        text-align: right;\n    }\n</style>\n<table border=\"1\" class=\"dataframe\">\n  <thead>\n    <tr style=\"text-align: right;\">\n      <th></th>\n      <th>Retrain</th>\n      <th>SISA</th>\n      <th>Receraser</th>\n      <th>ours</th>\n    </tr>\n  </thead>\n  <tbody>\n    <tr>\n      <th>0</th>\n      <td>0.381232</td>\n      <td>0.553634</td>\n      <td>0.524577</td>\n      <td>0.440785</td>\n    </tr>\n    <tr>\n      <th>1</th>\n      <td>0.352104</td>\n      <td>0.521528</td>\n      <td>0.511020</td>\n      <td>0.410742</td>\n    </tr>\n    <tr>\n      <th>2</th>\n      <td>0.332131</td>\n      <td>0.514238</td>\n      <td>0.494511</td>\n      <td>0.403900</td>\n    </tr>\n    <tr>\n      <th>3</th>\n      <td>0.321007</td>\n      <td>0.492257</td>\n      <td>0.476160</td>\n      <td>0.390911</td>\n    </tr>\n    <tr>\n      <th>4</th>\n      <td>0.311297</td>\n      <td>0.492931</td>\n      <td>0.461915</td>\n      <td>0.393640</td>\n    </tr>\n    <tr>\n      <th>5</th>\n      <td>0.000000</td>\n      <td>0.000000</td>\n      <td>0.000000</td>\n      <td>0.000000</td>\n    </tr>\n    <tr>\n      <th>6</th>\n      <td>13.971522</td>\n      <td>23.513325</td>\n      <td>22.771120</td>\n      <td>20.958466</td>\n    </tr>\n    <tr>\n      <th>7</th>\n      <td>12.828636</td>\n      <td>22.547432</td>\n      <td>22.141546</td>\n      <td>19.479916</td>\n    </tr>\n    <tr>\n      <th>8</th>\n      <td>11.991392</td>\n      <td>22.117840</td>\n      <td>21.075153</td>\n      <td>19.560162</td>\n    </tr>\n    <tr>\n      <th>9</th>\n      <td>11.371379</td>\n      <td>21.868866</td>\n      <td>20.459267</td>\n      <td>18.703306</td>\n    </tr>\n    <tr>\n      <th>10</th>\n      <td>11.041444</td>\n      <td>21.274975</td>\n      <td>19.894140</td>\n      <td>18.606686</td>\n    </tr>\n  </tbody>\n</table>\n</div>"
     },
     "execution_count": 70,
     "metadata": {},
     "output_type": "execute_result"
    }
   ],
   "source": [
    "final_get('CSMF')"
   ],
   "metadata": {
    "collapsed": false
   }
  },
  {
   "cell_type": "code",
   "execution_count": 71,
   "outputs": [
    {
     "name": "stdout",
     "output_type": "stream",
     "text": [
      "/home/yxzeng/code_python/QoS_Eraser/Result/MF/part_type_10/rt/slices_1/metrics/Final_result_density_rt_0.10.csv\n",
      "/home/yxzeng/code_python/QoS_Eraser/Result/MF/part_type_10/rt/slices_1/metrics/Final_result_density_rt_0.15.csv\n",
      "/home/yxzeng/code_python/QoS_Eraser/Result/MF/part_type_10/rt/slices_1/metrics/Final_result_density_rt_0.20.csv\n",
      "/home/yxzeng/code_python/QoS_Eraser/Result/MF/part_type_10/rt/slices_1/metrics/Final_result_density_rt_0.25.csv\n",
      "/home/yxzeng/code_python/QoS_Eraser/Result/MF/part_type_10/rt/slices_1/metrics/Final_result_density_rt_0.30.csv\n",
      "----------------------------------------------------------------------------------------------------------------------------------\n",
      "/home/yxzeng/code_python/QoS_Eraser/Result/MF/part_type_10/rt/slices_1/time/Final_time_density_rt_0.10.csv\n",
      "/home/yxzeng/code_python/QoS_Eraser/Result/MF/part_type_10/rt/slices_1/time/Final_time_density_rt_0.15.csv\n",
      "/home/yxzeng/code_python/QoS_Eraser/Result/MF/part_type_10/rt/slices_1/time/Final_time_density_rt_0.20.csv\n",
      "/home/yxzeng/code_python/QoS_Eraser/Result/MF/part_type_10/rt/slices_1/time/Final_time_density_rt_0.25.csv\n",
      "/home/yxzeng/code_python/QoS_Eraser/Result/MF/part_type_10/rt/slices_1/time/Final_time_density_rt_0.30.csv\n",
      "----------------------------------------------------------------------------------------------------------------------------------\n",
      "Pure SISA experiment!\n",
      "/home/yxzeng/code_python/QoS_Eraser/Result/MF/part_type_1/rt/slices_5/metrics/Final_result_density_rt_0.10.csv\n",
      "/home/yxzeng/code_python/QoS_Eraser/Result/MF/part_type_1/rt/slices_5/metrics/Final_result_density_rt_0.15.csv\n",
      "/home/yxzeng/code_python/QoS_Eraser/Result/MF/part_type_1/rt/slices_5/metrics/Final_result_density_rt_0.20.csv\n",
      "/home/yxzeng/code_python/QoS_Eraser/Result/MF/part_type_1/rt/slices_5/metrics/Final_result_density_rt_0.25.csv\n",
      "/home/yxzeng/code_python/QoS_Eraser/Result/MF/part_type_1/rt/slices_5/metrics/Final_result_density_rt_0.30.csv\n",
      "----------------------------------------------------------------------------------------------------------------------------------\n",
      "/home/yxzeng/code_python/QoS_Eraser/Result/MF/part_type_1/rt/slices_5/time/Final_time_density_rt_0.10.csv\n",
      "/home/yxzeng/code_python/QoS_Eraser/Result/MF/part_type_1/rt/slices_5/time/Final_time_density_rt_0.15.csv\n",
      "/home/yxzeng/code_python/QoS_Eraser/Result/MF/part_type_1/rt/slices_5/time/Final_time_density_rt_0.20.csv\n",
      "/home/yxzeng/code_python/QoS_Eraser/Result/MF/part_type_1/rt/slices_5/time/Final_time_density_rt_0.25.csv\n",
      "/home/yxzeng/code_python/QoS_Eraser/Result/MF/part_type_1/rt/slices_5/time/Final_time_density_rt_0.30.csv\n",
      "----------------------------------------------------------------------------------------------------------------------------------\n",
      "node2vec experiment!\n",
      "/home/yxzeng/code_python/QoS_Eraser/Result/MF/part_type_3/rt/slices_5/metrics/Final_result_density_rt_0.10.csv\n",
      "/home/yxzeng/code_python/QoS_Eraser/Result/MF/part_type_3/rt/slices_5/metrics/Final_result_density_rt_0.15.csv\n",
      "/home/yxzeng/code_python/QoS_Eraser/Result/MF/part_type_3/rt/slices_5/metrics/Final_result_density_rt_0.20.csv\n",
      "/home/yxzeng/code_python/QoS_Eraser/Result/MF/part_type_3/rt/slices_5/metrics/Final_result_density_rt_0.25.csv\n",
      "/home/yxzeng/code_python/QoS_Eraser/Result/MF/part_type_3/rt/slices_5/metrics/Final_result_density_rt_0.30.csv\n",
      "----------------------------------------------------------------------------------------------------------------------------------\n",
      "/home/yxzeng/code_python/QoS_Eraser/Result/MF/part_type_3/rt/slices_5/time/Final_time_density_rt_0.10.csv\n",
      "/home/yxzeng/code_python/QoS_Eraser/Result/MF/part_type_3/rt/slices_5/time/Final_time_density_rt_0.15.csv\n",
      "/home/yxzeng/code_python/QoS_Eraser/Result/MF/part_type_3/rt/slices_5/time/Final_time_density_rt_0.20.csv\n",
      "/home/yxzeng/code_python/QoS_Eraser/Result/MF/part_type_3/rt/slices_5/time/Final_time_density_rt_0.25.csv\n",
      "/home/yxzeng/code_python/QoS_Eraser/Result/MF/part_type_3/rt/slices_5/time/Final_time_density_rt_0.30.csv\n",
      "----------------------------------------------------------------------------------------------------------------------------------\n",
      "Pure SISA experiment!\n",
      "/home/yxzeng/code_python/QoS_Eraser/Result/MF/part_type_5/rt/slices_5/metrics/Final_result_density_rt_0.10.csv\n",
      "/home/yxzeng/code_python/QoS_Eraser/Result/MF/part_type_5/rt/slices_5/metrics/Final_result_density_rt_0.15.csv\n",
      "/home/yxzeng/code_python/QoS_Eraser/Result/MF/part_type_5/rt/slices_5/metrics/Final_result_density_rt_0.20.csv\n",
      "/home/yxzeng/code_python/QoS_Eraser/Result/MF/part_type_5/rt/slices_5/metrics/Final_result_density_rt_0.25.csv\n",
      "/home/yxzeng/code_python/QoS_Eraser/Result/MF/part_type_5/rt/slices_5/metrics/Final_result_density_rt_0.30.csv\n",
      "----------------------------------------------------------------------------------------------------------------------------------\n",
      "/home/yxzeng/code_python/QoS_Eraser/Result/MF/part_type_5/rt/slices_5/time/Final_time_density_rt_0.10.csv\n",
      "/home/yxzeng/code_python/QoS_Eraser/Result/MF/part_type_5/rt/slices_5/time/Final_time_density_rt_0.15.csv\n",
      "/home/yxzeng/code_python/QoS_Eraser/Result/MF/part_type_5/rt/slices_5/time/Final_time_density_rt_0.20.csv\n",
      "/home/yxzeng/code_python/QoS_Eraser/Result/MF/part_type_5/rt/slices_5/time/Final_time_density_rt_0.25.csv\n",
      "/home/yxzeng/code_python/QoS_Eraser/Result/MF/part_type_5/rt/slices_5/time/Final_time_density_rt_0.30.csv\n",
      "----------------------------------------------------------------------------------------------------------------------------------\n",
      "Pure SISA experiment!\n",
      "/home/yxzeng/code_python/QoS_Eraser/Result/MF/part_type_10/tp/slices_1/metrics/Final_result_density_tp_0.10.csv\n",
      "/home/yxzeng/code_python/QoS_Eraser/Result/MF/part_type_10/tp/slices_1/metrics/Final_result_density_tp_0.15.csv\n",
      "/home/yxzeng/code_python/QoS_Eraser/Result/MF/part_type_10/tp/slices_1/metrics/Final_result_density_tp_0.20.csv\n",
      "/home/yxzeng/code_python/QoS_Eraser/Result/MF/part_type_10/tp/slices_1/metrics/Final_result_density_tp_0.25.csv\n",
      "/home/yxzeng/code_python/QoS_Eraser/Result/MF/part_type_10/tp/slices_1/metrics/Final_result_density_tp_0.30.csv\n",
      "----------------------------------------------------------------------------------------------------------------------------------\n",
      "/home/yxzeng/code_python/QoS_Eraser/Result/MF/part_type_10/tp/slices_1/time/Final_time_density_tp_0.10.csv\n",
      "/home/yxzeng/code_python/QoS_Eraser/Result/MF/part_type_10/tp/slices_1/time/Final_time_density_tp_0.15.csv\n",
      "/home/yxzeng/code_python/QoS_Eraser/Result/MF/part_type_10/tp/slices_1/time/Final_time_density_tp_0.20.csv\n",
      "/home/yxzeng/code_python/QoS_Eraser/Result/MF/part_type_10/tp/slices_1/time/Final_time_density_tp_0.25.csv\n",
      "/home/yxzeng/code_python/QoS_Eraser/Result/MF/part_type_10/tp/slices_1/time/Final_time_density_tp_0.30.csv\n",
      "----------------------------------------------------------------------------------------------------------------------------------\n",
      "Pure SISA experiment!\n",
      "/home/yxzeng/code_python/QoS_Eraser/Result/MF/part_type_1/tp/slices_5/metrics/Final_result_density_tp_0.10.csv\n",
      "/home/yxzeng/code_python/QoS_Eraser/Result/MF/part_type_1/tp/slices_5/metrics/Final_result_density_tp_0.15.csv\n",
      "/home/yxzeng/code_python/QoS_Eraser/Result/MF/part_type_1/tp/slices_5/metrics/Final_result_density_tp_0.20.csv\n",
      "/home/yxzeng/code_python/QoS_Eraser/Result/MF/part_type_1/tp/slices_5/metrics/Final_result_density_tp_0.25.csv\n",
      "/home/yxzeng/code_python/QoS_Eraser/Result/MF/part_type_1/tp/slices_5/metrics/Final_result_density_tp_0.30.csv\n",
      "----------------------------------------------------------------------------------------------------------------------------------\n",
      "/home/yxzeng/code_python/QoS_Eraser/Result/MF/part_type_1/tp/slices_5/time/Final_time_density_tp_0.10.csv\n",
      "/home/yxzeng/code_python/QoS_Eraser/Result/MF/part_type_1/tp/slices_5/time/Final_time_density_tp_0.15.csv\n",
      "/home/yxzeng/code_python/QoS_Eraser/Result/MF/part_type_1/tp/slices_5/time/Final_time_density_tp_0.20.csv\n",
      "/home/yxzeng/code_python/QoS_Eraser/Result/MF/part_type_1/tp/slices_5/time/Final_time_density_tp_0.25.csv\n",
      "/home/yxzeng/code_python/QoS_Eraser/Result/MF/part_type_1/tp/slices_5/time/Final_time_density_tp_0.30.csv\n",
      "----------------------------------------------------------------------------------------------------------------------------------\n",
      "node2vec experiment!\n",
      "/home/yxzeng/code_python/QoS_Eraser/Result/MF/part_type_3/tp/slices_5/metrics/Final_result_density_tp_0.10.csv\n",
      "/home/yxzeng/code_python/QoS_Eraser/Result/MF/part_type_3/tp/slices_5/metrics/Final_result_density_tp_0.15.csv\n",
      "/home/yxzeng/code_python/QoS_Eraser/Result/MF/part_type_3/tp/slices_5/metrics/Final_result_density_tp_0.20.csv\n",
      "/home/yxzeng/code_python/QoS_Eraser/Result/MF/part_type_3/tp/slices_5/metrics/Final_result_density_tp_0.25.csv\n",
      "/home/yxzeng/code_python/QoS_Eraser/Result/MF/part_type_3/tp/slices_5/metrics/Final_result_density_tp_0.30.csv\n",
      "----------------------------------------------------------------------------------------------------------------------------------\n",
      "/home/yxzeng/code_python/QoS_Eraser/Result/MF/part_type_3/tp/slices_5/time/Final_time_density_tp_0.10.csv\n",
      "/home/yxzeng/code_python/QoS_Eraser/Result/MF/part_type_3/tp/slices_5/time/Final_time_density_tp_0.15.csv\n",
      "/home/yxzeng/code_python/QoS_Eraser/Result/MF/part_type_3/tp/slices_5/time/Final_time_density_tp_0.20.csv\n",
      "/home/yxzeng/code_python/QoS_Eraser/Result/MF/part_type_3/tp/slices_5/time/Final_time_density_tp_0.25.csv\n",
      "/home/yxzeng/code_python/QoS_Eraser/Result/MF/part_type_3/tp/slices_5/time/Final_time_density_tp_0.30.csv\n",
      "----------------------------------------------------------------------------------------------------------------------------------\n",
      "Pure SISA experiment!\n",
      "/home/yxzeng/code_python/QoS_Eraser/Result/MF/part_type_5/tp/slices_5/metrics/Final_result_density_tp_0.10.csv\n",
      "/home/yxzeng/code_python/QoS_Eraser/Result/MF/part_type_5/tp/slices_5/metrics/Final_result_density_tp_0.15.csv\n",
      "/home/yxzeng/code_python/QoS_Eraser/Result/MF/part_type_5/tp/slices_5/metrics/Final_result_density_tp_0.20.csv\n",
      "/home/yxzeng/code_python/QoS_Eraser/Result/MF/part_type_5/tp/slices_5/metrics/Final_result_density_tp_0.25.csv\n",
      "/home/yxzeng/code_python/QoS_Eraser/Result/MF/part_type_5/tp/slices_5/metrics/Final_result_density_tp_0.30.csv\n",
      "----------------------------------------------------------------------------------------------------------------------------------\n",
      "/home/yxzeng/code_python/QoS_Eraser/Result/MF/part_type_5/tp/slices_5/time/Final_time_density_tp_0.10.csv\n",
      "/home/yxzeng/code_python/QoS_Eraser/Result/MF/part_type_5/tp/slices_5/time/Final_time_density_tp_0.15.csv\n",
      "/home/yxzeng/code_python/QoS_Eraser/Result/MF/part_type_5/tp/slices_5/time/Final_time_density_tp_0.20.csv\n",
      "/home/yxzeng/code_python/QoS_Eraser/Result/MF/part_type_5/tp/slices_5/time/Final_time_density_tp_0.25.csv\n",
      "/home/yxzeng/code_python/QoS_Eraser/Result/MF/part_type_5/tp/slices_5/time/Final_time_density_tp_0.30.csv\n",
      "----------------------------------------------------------------------------------------------------------------------------------\n",
      "Pure SISA experiment!\n"
     ]
    },
    {
     "data": {
      "text/plain": "      Retrain       SISA  Receraser       ours\n0    0.421913   0.751829   0.746751   0.568700\n1    0.371186   0.711287   0.736763   0.506450\n2    0.354635   0.695839   0.727730   0.486147\n3    0.345227   0.676129   0.702522   0.451137\n4    0.338208   0.674864   0.689608   0.453907\n5    0.000000   0.000000   0.000000   0.000000\n6   16.426994  41.385647  41.523693  24.277304\n7   14.493483  38.715672  38.711426  21.245903\n8   13.636238  37.959404  35.515090  20.115984\n9   13.125734  36.393730  33.154380  18.984800\n10  12.894151  34.922030  30.909857  19.548567",
      "text/html": "<div>\n<style scoped>\n    .dataframe tbody tr th:only-of-type {\n        vertical-align: middle;\n    }\n\n    .dataframe tbody tr th {\n        vertical-align: top;\n    }\n\n    .dataframe thead th {\n        text-align: right;\n    }\n</style>\n<table border=\"1\" class=\"dataframe\">\n  <thead>\n    <tr style=\"text-align: right;\">\n      <th></th>\n      <th>Retrain</th>\n      <th>SISA</th>\n      <th>Receraser</th>\n      <th>ours</th>\n    </tr>\n  </thead>\n  <tbody>\n    <tr>\n      <th>0</th>\n      <td>0.421913</td>\n      <td>0.751829</td>\n      <td>0.746751</td>\n      <td>0.568700</td>\n    </tr>\n    <tr>\n      <th>1</th>\n      <td>0.371186</td>\n      <td>0.711287</td>\n      <td>0.736763</td>\n      <td>0.506450</td>\n    </tr>\n    <tr>\n      <th>2</th>\n      <td>0.354635</td>\n      <td>0.695839</td>\n      <td>0.727730</td>\n      <td>0.486147</td>\n    </tr>\n    <tr>\n      <th>3</th>\n      <td>0.345227</td>\n      <td>0.676129</td>\n      <td>0.702522</td>\n      <td>0.451137</td>\n    </tr>\n    <tr>\n      <th>4</th>\n      <td>0.338208</td>\n      <td>0.674864</td>\n      <td>0.689608</td>\n      <td>0.453907</td>\n    </tr>\n    <tr>\n      <th>5</th>\n      <td>0.000000</td>\n      <td>0.000000</td>\n      <td>0.000000</td>\n      <td>0.000000</td>\n    </tr>\n    <tr>\n      <th>6</th>\n      <td>16.426994</td>\n      <td>41.385647</td>\n      <td>41.523693</td>\n      <td>24.277304</td>\n    </tr>\n    <tr>\n      <th>7</th>\n      <td>14.493483</td>\n      <td>38.715672</td>\n      <td>38.711426</td>\n      <td>21.245903</td>\n    </tr>\n    <tr>\n      <th>8</th>\n      <td>13.636238</td>\n      <td>37.959404</td>\n      <td>35.515090</td>\n      <td>20.115984</td>\n    </tr>\n    <tr>\n      <th>9</th>\n      <td>13.125734</td>\n      <td>36.393730</td>\n      <td>33.154380</td>\n      <td>18.984800</td>\n    </tr>\n    <tr>\n      <th>10</th>\n      <td>12.894151</td>\n      <td>34.922030</td>\n      <td>30.909857</td>\n      <td>19.548567</td>\n    </tr>\n  </tbody>\n</table>\n</div>"
     },
     "execution_count": 71,
     "metadata": {},
     "output_type": "execute_result"
    }
   ],
   "source": [
    "final_get('MF')"
   ],
   "metadata": {
    "collapsed": false
   }
  },
  {
   "cell_type": "code",
   "execution_count": 72,
   "outputs": [
    {
     "name": "stdout",
     "output_type": "stream",
     "text": [
      "/home/yxzeng/code_python/QoS_Eraser/Result/GraphMF/part_type_10/rt/slices_1/metrics/Final_result_density_rt_0.10.csv\n",
      "/home/yxzeng/code_python/QoS_Eraser/Result/GraphMF/part_type_10/rt/slices_1/metrics/Final_result_density_rt_0.15.csv\n",
      "/home/yxzeng/code_python/QoS_Eraser/Result/GraphMF/part_type_10/rt/slices_1/metrics/Final_result_density_rt_0.20.csv\n",
      "/home/yxzeng/code_python/QoS_Eraser/Result/GraphMF/part_type_10/rt/slices_1/metrics/Final_result_density_rt_0.25.csv\n",
      "/home/yxzeng/code_python/QoS_Eraser/Result/GraphMF/part_type_10/rt/slices_1/metrics/Final_result_density_rt_0.30.csv\n",
      "----------------------------------------------------------------------------------------------------------------------------------\n",
      "/home/yxzeng/code_python/QoS_Eraser/Result/GraphMF/part_type_10/rt/slices_1/time/Final_time_density_rt_0.10.csv\n",
      "/home/yxzeng/code_python/QoS_Eraser/Result/GraphMF/part_type_10/rt/slices_1/time/Final_time_density_rt_0.15.csv\n",
      "/home/yxzeng/code_python/QoS_Eraser/Result/GraphMF/part_type_10/rt/slices_1/time/Final_time_density_rt_0.20.csv\n",
      "/home/yxzeng/code_python/QoS_Eraser/Result/GraphMF/part_type_10/rt/slices_1/time/Final_time_density_rt_0.25.csv\n",
      "/home/yxzeng/code_python/QoS_Eraser/Result/GraphMF/part_type_10/rt/slices_1/time/Final_time_density_rt_0.30.csv\n",
      "----------------------------------------------------------------------------------------------------------------------------------\n",
      "Pure SISA experiment!\n",
      "/home/yxzeng/code_python/QoS_Eraser/Result/GraphMF/part_type_1/rt/slices_5/metrics/Final_result_density_rt_0.10.csv\n",
      "/home/yxzeng/code_python/QoS_Eraser/Result/GraphMF/part_type_1/rt/slices_5/metrics/Final_result_density_rt_0.15.csv\n",
      "/home/yxzeng/code_python/QoS_Eraser/Result/GraphMF/part_type_1/rt/slices_5/metrics/Final_result_density_rt_0.20.csv\n",
      "/home/yxzeng/code_python/QoS_Eraser/Result/GraphMF/part_type_1/rt/slices_5/metrics/Final_result_density_rt_0.25.csv\n",
      "/home/yxzeng/code_python/QoS_Eraser/Result/GraphMF/part_type_1/rt/slices_5/metrics/Final_result_density_rt_0.30.csv\n",
      "----------------------------------------------------------------------------------------------------------------------------------\n",
      "/home/yxzeng/code_python/QoS_Eraser/Result/GraphMF/part_type_1/rt/slices_5/time/Final_time_density_rt_0.10.csv\n",
      "/home/yxzeng/code_python/QoS_Eraser/Result/GraphMF/part_type_1/rt/slices_5/time/Final_time_density_rt_0.15.csv\n",
      "/home/yxzeng/code_python/QoS_Eraser/Result/GraphMF/part_type_1/rt/slices_5/time/Final_time_density_rt_0.20.csv\n",
      "/home/yxzeng/code_python/QoS_Eraser/Result/GraphMF/part_type_1/rt/slices_5/time/Final_time_density_rt_0.25.csv\n",
      "/home/yxzeng/code_python/QoS_Eraser/Result/GraphMF/part_type_1/rt/slices_5/time/Final_time_density_rt_0.30.csv\n",
      "----------------------------------------------------------------------------------------------------------------------------------\n",
      "node2vec experiment!\n",
      "/home/yxzeng/code_python/QoS_Eraser/Result/GraphMF/part_type_3/rt/slices_5/metrics/Final_result_density_rt_0.10.csv\n",
      "/home/yxzeng/code_python/QoS_Eraser/Result/GraphMF/part_type_3/rt/slices_5/metrics/Final_result_density_rt_0.15.csv\n",
      "/home/yxzeng/code_python/QoS_Eraser/Result/GraphMF/part_type_3/rt/slices_5/metrics/Final_result_density_rt_0.20.csv\n",
      "/home/yxzeng/code_python/QoS_Eraser/Result/GraphMF/part_type_3/rt/slices_5/metrics/Final_result_density_rt_0.25.csv\n",
      "/home/yxzeng/code_python/QoS_Eraser/Result/GraphMF/part_type_3/rt/slices_5/metrics/Final_result_density_rt_0.30.csv\n",
      "----------------------------------------------------------------------------------------------------------------------------------\n",
      "/home/yxzeng/code_python/QoS_Eraser/Result/GraphMF/part_type_3/rt/slices_5/time/Final_time_density_rt_0.10.csv\n",
      "/home/yxzeng/code_python/QoS_Eraser/Result/GraphMF/part_type_3/rt/slices_5/time/Final_time_density_rt_0.15.csv\n",
      "/home/yxzeng/code_python/QoS_Eraser/Result/GraphMF/part_type_3/rt/slices_5/time/Final_time_density_rt_0.20.csv\n",
      "/home/yxzeng/code_python/QoS_Eraser/Result/GraphMF/part_type_3/rt/slices_5/time/Final_time_density_rt_0.25.csv\n",
      "/home/yxzeng/code_python/QoS_Eraser/Result/GraphMF/part_type_3/rt/slices_5/time/Final_time_density_rt_0.30.csv\n",
      "----------------------------------------------------------------------------------------------------------------------------------\n",
      "Pure SISA experiment!\n",
      "/home/yxzeng/code_python/QoS_Eraser/Result/GraphMF/part_type_5/rt/slices_5/metrics/Final_result_density_rt_0.10.csv\n",
      "/home/yxzeng/code_python/QoS_Eraser/Result/GraphMF/part_type_5/rt/slices_5/metrics/Final_result_density_rt_0.15.csv\n",
      "/home/yxzeng/code_python/QoS_Eraser/Result/GraphMF/part_type_5/rt/slices_5/metrics/Final_result_density_rt_0.20.csv\n",
      "/home/yxzeng/code_python/QoS_Eraser/Result/GraphMF/part_type_5/rt/slices_5/metrics/Final_result_density_rt_0.25.csv\n",
      "/home/yxzeng/code_python/QoS_Eraser/Result/GraphMF/part_type_5/rt/slices_5/metrics/Final_result_density_rt_0.30.csv\n",
      "----------------------------------------------------------------------------------------------------------------------------------\n",
      "/home/yxzeng/code_python/QoS_Eraser/Result/GraphMF/part_type_5/rt/slices_5/time/Final_time_density_rt_0.10.csv\n",
      "/home/yxzeng/code_python/QoS_Eraser/Result/GraphMF/part_type_5/rt/slices_5/time/Final_time_density_rt_0.15.csv\n",
      "/home/yxzeng/code_python/QoS_Eraser/Result/GraphMF/part_type_5/rt/slices_5/time/Final_time_density_rt_0.20.csv\n",
      "/home/yxzeng/code_python/QoS_Eraser/Result/GraphMF/part_type_5/rt/slices_5/time/Final_time_density_rt_0.25.csv\n",
      "/home/yxzeng/code_python/QoS_Eraser/Result/GraphMF/part_type_5/rt/slices_5/time/Final_time_density_rt_0.30.csv\n",
      "----------------------------------------------------------------------------------------------------------------------------------\n",
      "Pure SISA experiment!\n",
      "/home/yxzeng/code_python/QoS_Eraser/Result/GraphMF/part_type_10/tp/slices_1/metrics/Final_result_density_tp_0.10.csv\n",
      "/home/yxzeng/code_python/QoS_Eraser/Result/GraphMF/part_type_10/tp/slices_1/metrics/Final_result_density_tp_0.15.csv\n",
      "/home/yxzeng/code_python/QoS_Eraser/Result/GraphMF/part_type_10/tp/slices_1/metrics/Final_result_density_tp_0.20.csv\n",
      "/home/yxzeng/code_python/QoS_Eraser/Result/GraphMF/part_type_10/tp/slices_1/metrics/Final_result_density_tp_0.25.csv\n",
      "/home/yxzeng/code_python/QoS_Eraser/Result/GraphMF/part_type_10/tp/slices_1/metrics/Final_result_density_tp_0.30.csv\n",
      "----------------------------------------------------------------------------------------------------------------------------------\n",
      "/home/yxzeng/code_python/QoS_Eraser/Result/GraphMF/part_type_10/tp/slices_1/time/Final_time_density_tp_0.10.csv\n",
      "/home/yxzeng/code_python/QoS_Eraser/Result/GraphMF/part_type_10/tp/slices_1/time/Final_time_density_tp_0.15.csv\n",
      "/home/yxzeng/code_python/QoS_Eraser/Result/GraphMF/part_type_10/tp/slices_1/time/Final_time_density_tp_0.20.csv\n",
      "/home/yxzeng/code_python/QoS_Eraser/Result/GraphMF/part_type_10/tp/slices_1/time/Final_time_density_tp_0.25.csv\n",
      "/home/yxzeng/code_python/QoS_Eraser/Result/GraphMF/part_type_10/tp/slices_1/time/Final_time_density_tp_0.30.csv\n",
      "----------------------------------------------------------------------------------------------------------------------------------\n",
      "Pure SISA experiment!\n",
      "/home/yxzeng/code_python/QoS_Eraser/Result/GraphMF/part_type_1/tp/slices_5/metrics/Final_result_density_tp_0.10.csv\n",
      "/home/yxzeng/code_python/QoS_Eraser/Result/GraphMF/part_type_1/tp/slices_5/metrics/Final_result_density_tp_0.15.csv\n",
      "/home/yxzeng/code_python/QoS_Eraser/Result/GraphMF/part_type_1/tp/slices_5/metrics/Final_result_density_tp_0.20.csv\n",
      "/home/yxzeng/code_python/QoS_Eraser/Result/GraphMF/part_type_1/tp/slices_5/metrics/Final_result_density_tp_0.25.csv\n",
      "/home/yxzeng/code_python/QoS_Eraser/Result/GraphMF/part_type_1/tp/slices_5/metrics/Final_result_density_tp_0.30.csv\n",
      "----------------------------------------------------------------------------------------------------------------------------------\n",
      "/home/yxzeng/code_python/QoS_Eraser/Result/GraphMF/part_type_1/tp/slices_5/time/Final_time_density_tp_0.10.csv\n",
      "/home/yxzeng/code_python/QoS_Eraser/Result/GraphMF/part_type_1/tp/slices_5/time/Final_time_density_tp_0.15.csv\n",
      "/home/yxzeng/code_python/QoS_Eraser/Result/GraphMF/part_type_1/tp/slices_5/time/Final_time_density_tp_0.20.csv\n",
      "/home/yxzeng/code_python/QoS_Eraser/Result/GraphMF/part_type_1/tp/slices_5/time/Final_time_density_tp_0.25.csv\n",
      "/home/yxzeng/code_python/QoS_Eraser/Result/GraphMF/part_type_1/tp/slices_5/time/Final_time_density_tp_0.30.csv\n",
      "----------------------------------------------------------------------------------------------------------------------------------\n",
      "node2vec experiment!\n",
      "/home/yxzeng/code_python/QoS_Eraser/Result/GraphMF/part_type_3/tp/slices_5/metrics/Final_result_density_tp_0.10.csv\n",
      "/home/yxzeng/code_python/QoS_Eraser/Result/GraphMF/part_type_3/tp/slices_5/metrics/Final_result_density_tp_0.15.csv\n",
      "/home/yxzeng/code_python/QoS_Eraser/Result/GraphMF/part_type_3/tp/slices_5/metrics/Final_result_density_tp_0.20.csv\n",
      "/home/yxzeng/code_python/QoS_Eraser/Result/GraphMF/part_type_3/tp/slices_5/metrics/Final_result_density_tp_0.25.csv\n",
      "/home/yxzeng/code_python/QoS_Eraser/Result/GraphMF/part_type_3/tp/slices_5/metrics/Final_result_density_tp_0.30.csv\n",
      "----------------------------------------------------------------------------------------------------------------------------------\n",
      "/home/yxzeng/code_python/QoS_Eraser/Result/GraphMF/part_type_3/tp/slices_5/time/Final_time_density_tp_0.10.csv\n",
      "/home/yxzeng/code_python/QoS_Eraser/Result/GraphMF/part_type_3/tp/slices_5/time/Final_time_density_tp_0.15.csv\n",
      "/home/yxzeng/code_python/QoS_Eraser/Result/GraphMF/part_type_3/tp/slices_5/time/Final_time_density_tp_0.20.csv\n",
      "/home/yxzeng/code_python/QoS_Eraser/Result/GraphMF/part_type_3/tp/slices_5/time/Final_time_density_tp_0.25.csv\n",
      "/home/yxzeng/code_python/QoS_Eraser/Result/GraphMF/part_type_3/tp/slices_5/time/Final_time_density_tp_0.30.csv\n",
      "----------------------------------------------------------------------------------------------------------------------------------\n",
      "Pure SISA experiment!\n",
      "/home/yxzeng/code_python/QoS_Eraser/Result/GraphMF/part_type_5/tp/slices_5/metrics/Final_result_density_tp_0.10.csv\n",
      "/home/yxzeng/code_python/QoS_Eraser/Result/GraphMF/part_type_5/tp/slices_5/metrics/Final_result_density_tp_0.15.csv\n",
      "/home/yxzeng/code_python/QoS_Eraser/Result/GraphMF/part_type_5/tp/slices_5/metrics/Final_result_density_tp_0.20.csv\n",
      "/home/yxzeng/code_python/QoS_Eraser/Result/GraphMF/part_type_5/tp/slices_5/metrics/Final_result_density_tp_0.25.csv\n",
      "/home/yxzeng/code_python/QoS_Eraser/Result/GraphMF/part_type_5/tp/slices_5/metrics/Final_result_density_tp_0.30.csv\n",
      "----------------------------------------------------------------------------------------------------------------------------------\n",
      "/home/yxzeng/code_python/QoS_Eraser/Result/GraphMF/part_type_5/tp/slices_5/time/Final_time_density_tp_0.10.csv\n",
      "/home/yxzeng/code_python/QoS_Eraser/Result/GraphMF/part_type_5/tp/slices_5/time/Final_time_density_tp_0.15.csv\n",
      "/home/yxzeng/code_python/QoS_Eraser/Result/GraphMF/part_type_5/tp/slices_5/time/Final_time_density_tp_0.20.csv\n",
      "/home/yxzeng/code_python/QoS_Eraser/Result/GraphMF/part_type_5/tp/slices_5/time/Final_time_density_tp_0.25.csv\n",
      "/home/yxzeng/code_python/QoS_Eraser/Result/GraphMF/part_type_5/tp/slices_5/time/Final_time_density_tp_0.30.csv\n",
      "----------------------------------------------------------------------------------------------------------------------------------\n",
      "Pure SISA experiment!\n"
     ]
    },
    {
     "data": {
      "text/plain": "      Retrain       SISA  Receraser       ours\n0    0.321518   0.346552   0.368496   0.341432\n1    0.306773   0.328515   0.347934   0.324625\n2    0.299721   0.318232   0.338666   0.312838\n3    0.293260   0.309600   0.327587   0.306653\n4    0.288732   0.305141   0.321771   0.301734\n5    0.000000   0.000000   0.000000   0.000000\n6   11.740687  13.676613  15.089726  13.636343\n7   10.848979  12.634592  13.989352  12.760710\n8   10.314256  11.937988  13.281751  12.083125\n9    9.958744  11.394626  12.813992  11.651347\n10   9.760403  10.981550  12.410585  11.328133",
      "text/html": "<div>\n<style scoped>\n    .dataframe tbody tr th:only-of-type {\n        vertical-align: middle;\n    }\n\n    .dataframe tbody tr th {\n        vertical-align: top;\n    }\n\n    .dataframe thead th {\n        text-align: right;\n    }\n</style>\n<table border=\"1\" class=\"dataframe\">\n  <thead>\n    <tr style=\"text-align: right;\">\n      <th></th>\n      <th>Retrain</th>\n      <th>SISA</th>\n      <th>Receraser</th>\n      <th>ours</th>\n    </tr>\n  </thead>\n  <tbody>\n    <tr>\n      <th>0</th>\n      <td>0.321518</td>\n      <td>0.346552</td>\n      <td>0.368496</td>\n      <td>0.341432</td>\n    </tr>\n    <tr>\n      <th>1</th>\n      <td>0.306773</td>\n      <td>0.328515</td>\n      <td>0.347934</td>\n      <td>0.324625</td>\n    </tr>\n    <tr>\n      <th>2</th>\n      <td>0.299721</td>\n      <td>0.318232</td>\n      <td>0.338666</td>\n      <td>0.312838</td>\n    </tr>\n    <tr>\n      <th>3</th>\n      <td>0.293260</td>\n      <td>0.309600</td>\n      <td>0.327587</td>\n      <td>0.306653</td>\n    </tr>\n    <tr>\n      <th>4</th>\n      <td>0.288732</td>\n      <td>0.305141</td>\n      <td>0.321771</td>\n      <td>0.301734</td>\n    </tr>\n    <tr>\n      <th>5</th>\n      <td>0.000000</td>\n      <td>0.000000</td>\n      <td>0.000000</td>\n      <td>0.000000</td>\n    </tr>\n    <tr>\n      <th>6</th>\n      <td>11.740687</td>\n      <td>13.676613</td>\n      <td>15.089726</td>\n      <td>13.636343</td>\n    </tr>\n    <tr>\n      <th>7</th>\n      <td>10.848979</td>\n      <td>12.634592</td>\n      <td>13.989352</td>\n      <td>12.760710</td>\n    </tr>\n    <tr>\n      <th>8</th>\n      <td>10.314256</td>\n      <td>11.937988</td>\n      <td>13.281751</td>\n      <td>12.083125</td>\n    </tr>\n    <tr>\n      <th>9</th>\n      <td>9.958744</td>\n      <td>11.394626</td>\n      <td>12.813992</td>\n      <td>11.651347</td>\n    </tr>\n    <tr>\n      <th>10</th>\n      <td>9.760403</td>\n      <td>10.981550</td>\n      <td>12.410585</td>\n      <td>11.328133</td>\n    </tr>\n  </tbody>\n</table>\n</div>"
     },
     "execution_count": 72,
     "metadata": {},
     "output_type": "execute_result"
    }
   ],
   "source": [
    "final_get('GraphMF')"
   ],
   "metadata": {
    "collapsed": false
   }
  },
  {
   "cell_type": "code",
   "execution_count": 73,
   "outputs": [
    {
     "name": "stdout",
     "output_type": "stream",
     "text": [
      "/home/yxzeng/code_python/QoS_Eraser/Result/NeuCF/part_type_10/rt/slices_1/metrics/Final_result_density_rt_0.10.csv\n",
      "/home/yxzeng/code_python/QoS_Eraser/Result/NeuCF/part_type_10/rt/slices_1/metrics/Final_result_density_rt_0.15.csv\n",
      "/home/yxzeng/code_python/QoS_Eraser/Result/NeuCF/part_type_10/rt/slices_1/metrics/Final_result_density_rt_0.20.csv\n",
      "/home/yxzeng/code_python/QoS_Eraser/Result/NeuCF/part_type_10/rt/slices_1/metrics/Final_result_density_rt_0.25.csv\n",
      "/home/yxzeng/code_python/QoS_Eraser/Result/NeuCF/part_type_10/rt/slices_1/metrics/Final_result_density_rt_0.30.csv\n",
      "----------------------------------------------------------------------------------------------------------------------------------\n",
      "/home/yxzeng/code_python/QoS_Eraser/Result/NeuCF/part_type_10/rt/slices_1/time/Final_time_density_rt_0.10.csv\n",
      "/home/yxzeng/code_python/QoS_Eraser/Result/NeuCF/part_type_10/rt/slices_1/time/Final_time_density_rt_0.15.csv\n",
      "/home/yxzeng/code_python/QoS_Eraser/Result/NeuCF/part_type_10/rt/slices_1/time/Final_time_density_rt_0.20.csv\n",
      "/home/yxzeng/code_python/QoS_Eraser/Result/NeuCF/part_type_10/rt/slices_1/time/Final_time_density_rt_0.25.csv\n",
      "/home/yxzeng/code_python/QoS_Eraser/Result/NeuCF/part_type_10/rt/slices_1/time/Final_time_density_rt_0.30.csv\n",
      "----------------------------------------------------------------------------------------------------------------------------------\n",
      "Pure SISA experiment!\n",
      "/home/yxzeng/code_python/QoS_Eraser/Result/NeuCF/part_type_1/rt/slices_5/metrics/Final_result_density_rt_0.10.csv\n",
      "/home/yxzeng/code_python/QoS_Eraser/Result/NeuCF/part_type_1/rt/slices_5/metrics/Final_result_density_rt_0.15.csv\n",
      "/home/yxzeng/code_python/QoS_Eraser/Result/NeuCF/part_type_1/rt/slices_5/metrics/Final_result_density_rt_0.20.csv\n",
      "/home/yxzeng/code_python/QoS_Eraser/Result/NeuCF/part_type_1/rt/slices_5/metrics/Final_result_density_rt_0.25.csv\n",
      "/home/yxzeng/code_python/QoS_Eraser/Result/NeuCF/part_type_1/rt/slices_5/metrics/Final_result_density_rt_0.30.csv\n",
      "----------------------------------------------------------------------------------------------------------------------------------\n",
      "/home/yxzeng/code_python/QoS_Eraser/Result/NeuCF/part_type_1/rt/slices_5/time/Final_time_density_rt_0.10.csv\n",
      "/home/yxzeng/code_python/QoS_Eraser/Result/NeuCF/part_type_1/rt/slices_5/time/Final_time_density_rt_0.15.csv\n",
      "/home/yxzeng/code_python/QoS_Eraser/Result/NeuCF/part_type_1/rt/slices_5/time/Final_time_density_rt_0.20.csv\n",
      "/home/yxzeng/code_python/QoS_Eraser/Result/NeuCF/part_type_1/rt/slices_5/time/Final_time_density_rt_0.25.csv\n",
      "/home/yxzeng/code_python/QoS_Eraser/Result/NeuCF/part_type_1/rt/slices_5/time/Final_time_density_rt_0.30.csv\n",
      "----------------------------------------------------------------------------------------------------------------------------------\n",
      "node2vec experiment!\n",
      "/home/yxzeng/code_python/QoS_Eraser/Result/NeuCF/part_type_3/rt/slices_5/metrics/Final_result_density_rt_0.10.csv\n",
      "/home/yxzeng/code_python/QoS_Eraser/Result/NeuCF/part_type_3/rt/slices_5/metrics/Final_result_density_rt_0.15.csv\n",
      "/home/yxzeng/code_python/QoS_Eraser/Result/NeuCF/part_type_3/rt/slices_5/metrics/Final_result_density_rt_0.20.csv\n",
      "/home/yxzeng/code_python/QoS_Eraser/Result/NeuCF/part_type_3/rt/slices_5/metrics/Final_result_density_rt_0.25.csv\n",
      "/home/yxzeng/code_python/QoS_Eraser/Result/NeuCF/part_type_3/rt/slices_5/metrics/Final_result_density_rt_0.30.csv\n",
      "----------------------------------------------------------------------------------------------------------------------------------\n",
      "/home/yxzeng/code_python/QoS_Eraser/Result/NeuCF/part_type_3/rt/slices_5/time/Final_time_density_rt_0.10.csv\n",
      "/home/yxzeng/code_python/QoS_Eraser/Result/NeuCF/part_type_3/rt/slices_5/time/Final_time_density_rt_0.15.csv\n",
      "/home/yxzeng/code_python/QoS_Eraser/Result/NeuCF/part_type_3/rt/slices_5/time/Final_time_density_rt_0.20.csv\n",
      "/home/yxzeng/code_python/QoS_Eraser/Result/NeuCF/part_type_3/rt/slices_5/time/Final_time_density_rt_0.25.csv\n",
      "/home/yxzeng/code_python/QoS_Eraser/Result/NeuCF/part_type_3/rt/slices_5/time/Final_time_density_rt_0.30.csv\n",
      "----------------------------------------------------------------------------------------------------------------------------------\n",
      "Pure SISA experiment!\n",
      "/home/yxzeng/code_python/QoS_Eraser/Result/NeuCF/part_type_5/rt/slices_5/metrics/Final_result_density_rt_0.10.csv\n",
      "/home/yxzeng/code_python/QoS_Eraser/Result/NeuCF/part_type_5/rt/slices_5/metrics/Final_result_density_rt_0.15.csv\n",
      "/home/yxzeng/code_python/QoS_Eraser/Result/NeuCF/part_type_5/rt/slices_5/metrics/Final_result_density_rt_0.20.csv\n",
      "/home/yxzeng/code_python/QoS_Eraser/Result/NeuCF/part_type_5/rt/slices_5/metrics/Final_result_density_rt_0.25.csv\n",
      "/home/yxzeng/code_python/QoS_Eraser/Result/NeuCF/part_type_5/rt/slices_5/metrics/Final_result_density_rt_0.30.csv\n",
      "----------------------------------------------------------------------------------------------------------------------------------\n",
      "/home/yxzeng/code_python/QoS_Eraser/Result/NeuCF/part_type_5/rt/slices_5/time/Final_time_density_rt_0.10.csv\n",
      "/home/yxzeng/code_python/QoS_Eraser/Result/NeuCF/part_type_5/rt/slices_5/time/Final_time_density_rt_0.15.csv\n",
      "/home/yxzeng/code_python/QoS_Eraser/Result/NeuCF/part_type_5/rt/slices_5/time/Final_time_density_rt_0.20.csv\n",
      "/home/yxzeng/code_python/QoS_Eraser/Result/NeuCF/part_type_5/rt/slices_5/time/Final_time_density_rt_0.25.csv\n",
      "/home/yxzeng/code_python/QoS_Eraser/Result/NeuCF/part_type_5/rt/slices_5/time/Final_time_density_rt_0.30.csv\n",
      "----------------------------------------------------------------------------------------------------------------------------------\n",
      "Pure SISA experiment!\n",
      "/home/yxzeng/code_python/QoS_Eraser/Result/NeuCF/part_type_10/rt/slices_1/metrics/Final_result_density_rt_0.10.csv\n",
      "/home/yxzeng/code_python/QoS_Eraser/Result/NeuCF/part_type_10/rt/slices_1/metrics/Final_result_density_rt_0.15.csv\n",
      "/home/yxzeng/code_python/QoS_Eraser/Result/NeuCF/part_type_10/rt/slices_1/metrics/Final_result_density_rt_0.20.csv\n",
      "/home/yxzeng/code_python/QoS_Eraser/Result/NeuCF/part_type_10/rt/slices_1/metrics/Final_result_density_rt_0.25.csv\n",
      "/home/yxzeng/code_python/QoS_Eraser/Result/NeuCF/part_type_10/rt/slices_1/metrics/Final_result_density_rt_0.30.csv\n",
      "----------------------------------------------------------------------------------------------------------------------------------\n",
      "/home/yxzeng/code_python/QoS_Eraser/Result/NeuCF/part_type_10/rt/slices_1/time/Final_time_density_rt_0.10.csv\n",
      "/home/yxzeng/code_python/QoS_Eraser/Result/NeuCF/part_type_10/rt/slices_1/time/Final_time_density_rt_0.15.csv\n",
      "/home/yxzeng/code_python/QoS_Eraser/Result/NeuCF/part_type_10/rt/slices_1/time/Final_time_density_rt_0.20.csv\n",
      "/home/yxzeng/code_python/QoS_Eraser/Result/NeuCF/part_type_10/rt/slices_1/time/Final_time_density_rt_0.25.csv\n",
      "/home/yxzeng/code_python/QoS_Eraser/Result/NeuCF/part_type_10/rt/slices_1/time/Final_time_density_rt_0.30.csv\n",
      "----------------------------------------------------------------------------------------------------------------------------------\n",
      "Pure SISA experiment!\n",
      "/home/yxzeng/code_python/QoS_Eraser/Result/NeuCF/part_type_1/rt/slices_5/metrics/Final_result_density_rt_0.10.csv\n",
      "/home/yxzeng/code_python/QoS_Eraser/Result/NeuCF/part_type_1/rt/slices_5/metrics/Final_result_density_rt_0.15.csv\n",
      "/home/yxzeng/code_python/QoS_Eraser/Result/NeuCF/part_type_1/rt/slices_5/metrics/Final_result_density_rt_0.20.csv\n",
      "/home/yxzeng/code_python/QoS_Eraser/Result/NeuCF/part_type_1/rt/slices_5/metrics/Final_result_density_rt_0.25.csv\n",
      "/home/yxzeng/code_python/QoS_Eraser/Result/NeuCF/part_type_1/rt/slices_5/metrics/Final_result_density_rt_0.30.csv\n",
      "----------------------------------------------------------------------------------------------------------------------------------\n",
      "/home/yxzeng/code_python/QoS_Eraser/Result/NeuCF/part_type_1/rt/slices_5/time/Final_time_density_rt_0.10.csv\n",
      "/home/yxzeng/code_python/QoS_Eraser/Result/NeuCF/part_type_1/rt/slices_5/time/Final_time_density_rt_0.15.csv\n",
      "/home/yxzeng/code_python/QoS_Eraser/Result/NeuCF/part_type_1/rt/slices_5/time/Final_time_density_rt_0.20.csv\n",
      "/home/yxzeng/code_python/QoS_Eraser/Result/NeuCF/part_type_1/rt/slices_5/time/Final_time_density_rt_0.25.csv\n",
      "/home/yxzeng/code_python/QoS_Eraser/Result/NeuCF/part_type_1/rt/slices_5/time/Final_time_density_rt_0.30.csv\n",
      "----------------------------------------------------------------------------------------------------------------------------------\n",
      "node2vec experiment!\n",
      "/home/yxzeng/code_python/QoS_Eraser/Result/NeuCF/part_type_3/rt/slices_5/metrics/Final_result_density_rt_0.10.csv\n",
      "/home/yxzeng/code_python/QoS_Eraser/Result/NeuCF/part_type_3/rt/slices_5/metrics/Final_result_density_rt_0.15.csv\n",
      "/home/yxzeng/code_python/QoS_Eraser/Result/NeuCF/part_type_3/rt/slices_5/metrics/Final_result_density_rt_0.20.csv\n",
      "/home/yxzeng/code_python/QoS_Eraser/Result/NeuCF/part_type_3/rt/slices_5/metrics/Final_result_density_rt_0.25.csv\n",
      "/home/yxzeng/code_python/QoS_Eraser/Result/NeuCF/part_type_3/rt/slices_5/metrics/Final_result_density_rt_0.30.csv\n",
      "----------------------------------------------------------------------------------------------------------------------------------\n",
      "/home/yxzeng/code_python/QoS_Eraser/Result/NeuCF/part_type_3/rt/slices_5/time/Final_time_density_rt_0.10.csv\n",
      "/home/yxzeng/code_python/QoS_Eraser/Result/NeuCF/part_type_3/rt/slices_5/time/Final_time_density_rt_0.15.csv\n",
      "/home/yxzeng/code_python/QoS_Eraser/Result/NeuCF/part_type_3/rt/slices_5/time/Final_time_density_rt_0.20.csv\n",
      "/home/yxzeng/code_python/QoS_Eraser/Result/NeuCF/part_type_3/rt/slices_5/time/Final_time_density_rt_0.25.csv\n",
      "/home/yxzeng/code_python/QoS_Eraser/Result/NeuCF/part_type_3/rt/slices_5/time/Final_time_density_rt_0.30.csv\n",
      "----------------------------------------------------------------------------------------------------------------------------------\n",
      "Pure SISA experiment!\n",
      "/home/yxzeng/code_python/QoS_Eraser/Result/NeuCF/part_type_5/rt/slices_5/metrics/Final_result_density_rt_0.10.csv\n",
      "/home/yxzeng/code_python/QoS_Eraser/Result/NeuCF/part_type_5/rt/slices_5/metrics/Final_result_density_rt_0.15.csv\n",
      "/home/yxzeng/code_python/QoS_Eraser/Result/NeuCF/part_type_5/rt/slices_5/metrics/Final_result_density_rt_0.20.csv\n",
      "/home/yxzeng/code_python/QoS_Eraser/Result/NeuCF/part_type_5/rt/slices_5/metrics/Final_result_density_rt_0.25.csv\n",
      "/home/yxzeng/code_python/QoS_Eraser/Result/NeuCF/part_type_5/rt/slices_5/metrics/Final_result_density_rt_0.30.csv\n",
      "----------------------------------------------------------------------------------------------------------------------------------\n",
      "/home/yxzeng/code_python/QoS_Eraser/Result/NeuCF/part_type_5/rt/slices_5/time/Final_time_density_rt_0.10.csv\n",
      "/home/yxzeng/code_python/QoS_Eraser/Result/NeuCF/part_type_5/rt/slices_5/time/Final_time_density_rt_0.15.csv\n",
      "/home/yxzeng/code_python/QoS_Eraser/Result/NeuCF/part_type_5/rt/slices_5/time/Final_time_density_rt_0.20.csv\n",
      "/home/yxzeng/code_python/QoS_Eraser/Result/NeuCF/part_type_5/rt/slices_5/time/Final_time_density_rt_0.25.csv\n",
      "/home/yxzeng/code_python/QoS_Eraser/Result/NeuCF/part_type_5/rt/slices_5/time/Final_time_density_rt_0.30.csv\n",
      "----------------------------------------------------------------------------------------------------------------------------------\n",
      "Pure SISA experiment!\n",
      "/home/yxzeng/code_python/QoS_Eraser/Result/NeuCF/part_type_10/tp/slices_1/metrics/Final_result_density_tp_0.10.csv\n",
      "/home/yxzeng/code_python/QoS_Eraser/Result/NeuCF/part_type_10/tp/slices_1/metrics/Final_result_density_tp_0.15.csv\n",
      "/home/yxzeng/code_python/QoS_Eraser/Result/NeuCF/part_type_10/tp/slices_1/metrics/Final_result_density_tp_0.20.csv\n",
      "/home/yxzeng/code_python/QoS_Eraser/Result/NeuCF/part_type_10/tp/slices_1/metrics/Final_result_density_tp_0.25.csv\n",
      "/home/yxzeng/code_python/QoS_Eraser/Result/NeuCF/part_type_10/tp/slices_1/metrics/Final_result_density_tp_0.30.csv\n",
      "----------------------------------------------------------------------------------------------------------------------------------\n",
      "/home/yxzeng/code_python/QoS_Eraser/Result/NeuCF/part_type_10/tp/slices_1/time/Final_time_density_tp_0.10.csv\n",
      "/home/yxzeng/code_python/QoS_Eraser/Result/NeuCF/part_type_10/tp/slices_1/time/Final_time_density_tp_0.15.csv\n",
      "/home/yxzeng/code_python/QoS_Eraser/Result/NeuCF/part_type_10/tp/slices_1/time/Final_time_density_tp_0.20.csv\n",
      "/home/yxzeng/code_python/QoS_Eraser/Result/NeuCF/part_type_10/tp/slices_1/time/Final_time_density_tp_0.25.csv\n",
      "/home/yxzeng/code_python/QoS_Eraser/Result/NeuCF/part_type_10/tp/slices_1/time/Final_time_density_tp_0.30.csv\n",
      "----------------------------------------------------------------------------------------------------------------------------------\n",
      "Pure SISA experiment!\n",
      "/home/yxzeng/code_python/QoS_Eraser/Result/NeuCF/part_type_1/tp/slices_5/metrics/Final_result_density_tp_0.10.csv\n",
      "/home/yxzeng/code_python/QoS_Eraser/Result/NeuCF/part_type_1/tp/slices_5/metrics/Final_result_density_tp_0.15.csv\n",
      "/home/yxzeng/code_python/QoS_Eraser/Result/NeuCF/part_type_1/tp/slices_5/metrics/Final_result_density_tp_0.20.csv\n",
      "/home/yxzeng/code_python/QoS_Eraser/Result/NeuCF/part_type_1/tp/slices_5/metrics/Final_result_density_tp_0.25.csv\n",
      "/home/yxzeng/code_python/QoS_Eraser/Result/NeuCF/part_type_1/tp/slices_5/metrics/Final_result_density_tp_0.30.csv\n",
      "----------------------------------------------------------------------------------------------------------------------------------\n",
      "/home/yxzeng/code_python/QoS_Eraser/Result/NeuCF/part_type_1/tp/slices_5/time/Final_time_density_tp_0.10.csv\n",
      "/home/yxzeng/code_python/QoS_Eraser/Result/NeuCF/part_type_1/tp/slices_5/time/Final_time_density_tp_0.15.csv\n",
      "/home/yxzeng/code_python/QoS_Eraser/Result/NeuCF/part_type_1/tp/slices_5/time/Final_time_density_tp_0.20.csv\n",
      "/home/yxzeng/code_python/QoS_Eraser/Result/NeuCF/part_type_1/tp/slices_5/time/Final_time_density_tp_0.25.csv\n",
      "/home/yxzeng/code_python/QoS_Eraser/Result/NeuCF/part_type_1/tp/slices_5/time/Final_time_density_tp_0.30.csv\n",
      "----------------------------------------------------------------------------------------------------------------------------------\n",
      "node2vec experiment!\n",
      "/home/yxzeng/code_python/QoS_Eraser/Result/NeuCF/part_type_3/tp/slices_5/metrics/Final_result_density_tp_0.10.csv\n",
      "/home/yxzeng/code_python/QoS_Eraser/Result/NeuCF/part_type_3/tp/slices_5/metrics/Final_result_density_tp_0.15.csv\n",
      "/home/yxzeng/code_python/QoS_Eraser/Result/NeuCF/part_type_3/tp/slices_5/metrics/Final_result_density_tp_0.20.csv\n",
      "/home/yxzeng/code_python/QoS_Eraser/Result/NeuCF/part_type_3/tp/slices_5/metrics/Final_result_density_tp_0.25.csv\n",
      "/home/yxzeng/code_python/QoS_Eraser/Result/NeuCF/part_type_3/tp/slices_5/metrics/Final_result_density_tp_0.30.csv\n",
      "----------------------------------------------------------------------------------------------------------------------------------\n",
      "/home/yxzeng/code_python/QoS_Eraser/Result/NeuCF/part_type_3/tp/slices_5/time/Final_time_density_tp_0.10.csv\n",
      "/home/yxzeng/code_python/QoS_Eraser/Result/NeuCF/part_type_3/tp/slices_5/time/Final_time_density_tp_0.15.csv\n",
      "/home/yxzeng/code_python/QoS_Eraser/Result/NeuCF/part_type_3/tp/slices_5/time/Final_time_density_tp_0.20.csv\n",
      "/home/yxzeng/code_python/QoS_Eraser/Result/NeuCF/part_type_3/tp/slices_5/time/Final_time_density_tp_0.25.csv\n",
      "/home/yxzeng/code_python/QoS_Eraser/Result/NeuCF/part_type_3/tp/slices_5/time/Final_time_density_tp_0.30.csv\n",
      "----------------------------------------------------------------------------------------------------------------------------------\n",
      "Pure SISA experiment!\n",
      "/home/yxzeng/code_python/QoS_Eraser/Result/NeuCF/part_type_5/tp/slices_5/metrics/Final_result_density_tp_0.10.csv\n",
      "/home/yxzeng/code_python/QoS_Eraser/Result/NeuCF/part_type_5/tp/slices_5/metrics/Final_result_density_tp_0.15.csv\n",
      "/home/yxzeng/code_python/QoS_Eraser/Result/NeuCF/part_type_5/tp/slices_5/metrics/Final_result_density_tp_0.20.csv\n",
      "/home/yxzeng/code_python/QoS_Eraser/Result/NeuCF/part_type_5/tp/slices_5/metrics/Final_result_density_tp_0.25.csv\n",
      "/home/yxzeng/code_python/QoS_Eraser/Result/NeuCF/part_type_5/tp/slices_5/metrics/Final_result_density_tp_0.30.csv\n",
      "----------------------------------------------------------------------------------------------------------------------------------\n",
      "/home/yxzeng/code_python/QoS_Eraser/Result/NeuCF/part_type_5/tp/slices_5/time/Final_time_density_tp_0.10.csv\n",
      "/home/yxzeng/code_python/QoS_Eraser/Result/NeuCF/part_type_5/tp/slices_5/time/Final_time_density_tp_0.15.csv\n",
      "/home/yxzeng/code_python/QoS_Eraser/Result/NeuCF/part_type_5/tp/slices_5/time/Final_time_density_tp_0.20.csv\n",
      "/home/yxzeng/code_python/QoS_Eraser/Result/NeuCF/part_type_5/tp/slices_5/time/Final_time_density_tp_0.25.csv\n",
      "/home/yxzeng/code_python/QoS_Eraser/Result/NeuCF/part_type_5/tp/slices_5/time/Final_time_density_tp_0.30.csv\n",
      "----------------------------------------------------------------------------------------------------------------------------------\n",
      "Pure SISA experiment!\n",
      "/home/yxzeng/code_python/QoS_Eraser/Result/NeuCF/part_type_10/tp/slices_1/metrics/Final_result_density_tp_0.10.csv\n",
      "/home/yxzeng/code_python/QoS_Eraser/Result/NeuCF/part_type_10/tp/slices_1/metrics/Final_result_density_tp_0.15.csv\n",
      "/home/yxzeng/code_python/QoS_Eraser/Result/NeuCF/part_type_10/tp/slices_1/metrics/Final_result_density_tp_0.20.csv\n",
      "/home/yxzeng/code_python/QoS_Eraser/Result/NeuCF/part_type_10/tp/slices_1/metrics/Final_result_density_tp_0.25.csv\n",
      "/home/yxzeng/code_python/QoS_Eraser/Result/NeuCF/part_type_10/tp/slices_1/metrics/Final_result_density_tp_0.30.csv\n",
      "----------------------------------------------------------------------------------------------------------------------------------\n",
      "/home/yxzeng/code_python/QoS_Eraser/Result/NeuCF/part_type_10/tp/slices_1/time/Final_time_density_tp_0.10.csv\n",
      "/home/yxzeng/code_python/QoS_Eraser/Result/NeuCF/part_type_10/tp/slices_1/time/Final_time_density_tp_0.15.csv\n",
      "/home/yxzeng/code_python/QoS_Eraser/Result/NeuCF/part_type_10/tp/slices_1/time/Final_time_density_tp_0.20.csv\n",
      "/home/yxzeng/code_python/QoS_Eraser/Result/NeuCF/part_type_10/tp/slices_1/time/Final_time_density_tp_0.25.csv\n",
      "/home/yxzeng/code_python/QoS_Eraser/Result/NeuCF/part_type_10/tp/slices_1/time/Final_time_density_tp_0.30.csv\n",
      "----------------------------------------------------------------------------------------------------------------------------------\n",
      "Pure SISA experiment!\n",
      "/home/yxzeng/code_python/QoS_Eraser/Result/NeuCF/part_type_1/tp/slices_5/metrics/Final_result_density_tp_0.10.csv\n",
      "/home/yxzeng/code_python/QoS_Eraser/Result/NeuCF/part_type_1/tp/slices_5/metrics/Final_result_density_tp_0.15.csv\n",
      "/home/yxzeng/code_python/QoS_Eraser/Result/NeuCF/part_type_1/tp/slices_5/metrics/Final_result_density_tp_0.20.csv\n",
      "/home/yxzeng/code_python/QoS_Eraser/Result/NeuCF/part_type_1/tp/slices_5/metrics/Final_result_density_tp_0.25.csv\n",
      "/home/yxzeng/code_python/QoS_Eraser/Result/NeuCF/part_type_1/tp/slices_5/metrics/Final_result_density_tp_0.30.csv\n",
      "----------------------------------------------------------------------------------------------------------------------------------\n",
      "/home/yxzeng/code_python/QoS_Eraser/Result/NeuCF/part_type_1/tp/slices_5/time/Final_time_density_tp_0.10.csv\n",
      "/home/yxzeng/code_python/QoS_Eraser/Result/NeuCF/part_type_1/tp/slices_5/time/Final_time_density_tp_0.15.csv\n",
      "/home/yxzeng/code_python/QoS_Eraser/Result/NeuCF/part_type_1/tp/slices_5/time/Final_time_density_tp_0.20.csv\n",
      "/home/yxzeng/code_python/QoS_Eraser/Result/NeuCF/part_type_1/tp/slices_5/time/Final_time_density_tp_0.25.csv\n",
      "/home/yxzeng/code_python/QoS_Eraser/Result/NeuCF/part_type_1/tp/slices_5/time/Final_time_density_tp_0.30.csv\n",
      "----------------------------------------------------------------------------------------------------------------------------------\n",
      "node2vec experiment!\n",
      "/home/yxzeng/code_python/QoS_Eraser/Result/NeuCF/part_type_3/tp/slices_5/metrics/Final_result_density_tp_0.10.csv\n",
      "/home/yxzeng/code_python/QoS_Eraser/Result/NeuCF/part_type_3/tp/slices_5/metrics/Final_result_density_tp_0.15.csv\n",
      "/home/yxzeng/code_python/QoS_Eraser/Result/NeuCF/part_type_3/tp/slices_5/metrics/Final_result_density_tp_0.20.csv\n",
      "/home/yxzeng/code_python/QoS_Eraser/Result/NeuCF/part_type_3/tp/slices_5/metrics/Final_result_density_tp_0.25.csv\n",
      "/home/yxzeng/code_python/QoS_Eraser/Result/NeuCF/part_type_3/tp/slices_5/metrics/Final_result_density_tp_0.30.csv\n",
      "----------------------------------------------------------------------------------------------------------------------------------\n",
      "/home/yxzeng/code_python/QoS_Eraser/Result/NeuCF/part_type_3/tp/slices_5/time/Final_time_density_tp_0.10.csv\n",
      "/home/yxzeng/code_python/QoS_Eraser/Result/NeuCF/part_type_3/tp/slices_5/time/Final_time_density_tp_0.15.csv\n",
      "/home/yxzeng/code_python/QoS_Eraser/Result/NeuCF/part_type_3/tp/slices_5/time/Final_time_density_tp_0.20.csv\n",
      "/home/yxzeng/code_python/QoS_Eraser/Result/NeuCF/part_type_3/tp/slices_5/time/Final_time_density_tp_0.25.csv\n",
      "/home/yxzeng/code_python/QoS_Eraser/Result/NeuCF/part_type_3/tp/slices_5/time/Final_time_density_tp_0.30.csv\n",
      "----------------------------------------------------------------------------------------------------------------------------------\n",
      "Pure SISA experiment!\n",
      "/home/yxzeng/code_python/QoS_Eraser/Result/NeuCF/part_type_5/tp/slices_5/metrics/Final_result_density_tp_0.10.csv\n",
      "/home/yxzeng/code_python/QoS_Eraser/Result/NeuCF/part_type_5/tp/slices_5/metrics/Final_result_density_tp_0.15.csv\n",
      "/home/yxzeng/code_python/QoS_Eraser/Result/NeuCF/part_type_5/tp/slices_5/metrics/Final_result_density_tp_0.20.csv\n",
      "/home/yxzeng/code_python/QoS_Eraser/Result/NeuCF/part_type_5/tp/slices_5/metrics/Final_result_density_tp_0.25.csv\n",
      "/home/yxzeng/code_python/QoS_Eraser/Result/NeuCF/part_type_5/tp/slices_5/metrics/Final_result_density_tp_0.30.csv\n",
      "----------------------------------------------------------------------------------------------------------------------------------\n",
      "/home/yxzeng/code_python/QoS_Eraser/Result/NeuCF/part_type_5/tp/slices_5/time/Final_time_density_tp_0.10.csv\n",
      "/home/yxzeng/code_python/QoS_Eraser/Result/NeuCF/part_type_5/tp/slices_5/time/Final_time_density_tp_0.15.csv\n",
      "/home/yxzeng/code_python/QoS_Eraser/Result/NeuCF/part_type_5/tp/slices_5/time/Final_time_density_tp_0.20.csv\n",
      "/home/yxzeng/code_python/QoS_Eraser/Result/NeuCF/part_type_5/tp/slices_5/time/Final_time_density_tp_0.25.csv\n",
      "/home/yxzeng/code_python/QoS_Eraser/Result/NeuCF/part_type_5/tp/slices_5/time/Final_time_density_tp_0.30.csv\n",
      "----------------------------------------------------------------------------------------------------------------------------------\n",
      "Pure SISA experiment!\n",
      "/home/yxzeng/code_python/QoS_Eraser/Result/CSMF/part_type_10/rt/slices_1/metrics/Final_result_density_rt_0.10.csv\n",
      "/home/yxzeng/code_python/QoS_Eraser/Result/CSMF/part_type_10/rt/slices_1/metrics/Final_result_density_rt_0.15.csv\n",
      "/home/yxzeng/code_python/QoS_Eraser/Result/CSMF/part_type_10/rt/slices_1/metrics/Final_result_density_rt_0.20.csv\n",
      "/home/yxzeng/code_python/QoS_Eraser/Result/CSMF/part_type_10/rt/slices_1/metrics/Final_result_density_rt_0.25.csv\n",
      "/home/yxzeng/code_python/QoS_Eraser/Result/CSMF/part_type_10/rt/slices_1/metrics/Final_result_density_rt_0.30.csv\n",
      "----------------------------------------------------------------------------------------------------------------------------------\n",
      "/home/yxzeng/code_python/QoS_Eraser/Result/CSMF/part_type_10/rt/slices_1/time/Final_time_density_rt_0.10.csv\n",
      "/home/yxzeng/code_python/QoS_Eraser/Result/CSMF/part_type_10/rt/slices_1/time/Final_time_density_rt_0.15.csv\n",
      "/home/yxzeng/code_python/QoS_Eraser/Result/CSMF/part_type_10/rt/slices_1/time/Final_time_density_rt_0.20.csv\n",
      "/home/yxzeng/code_python/QoS_Eraser/Result/CSMF/part_type_10/rt/slices_1/time/Final_time_density_rt_0.25.csv\n",
      "/home/yxzeng/code_python/QoS_Eraser/Result/CSMF/part_type_10/rt/slices_1/time/Final_time_density_rt_0.30.csv\n",
      "----------------------------------------------------------------------------------------------------------------------------------\n",
      "Pure SISA experiment!\n",
      "/home/yxzeng/code_python/QoS_Eraser/Result/CSMF/part_type_1/rt/slices_5/metrics/Final_result_density_rt_0.10.csv\n",
      "/home/yxzeng/code_python/QoS_Eraser/Result/CSMF/part_type_1/rt/slices_5/metrics/Final_result_density_rt_0.15.csv\n",
      "/home/yxzeng/code_python/QoS_Eraser/Result/CSMF/part_type_1/rt/slices_5/metrics/Final_result_density_rt_0.20.csv\n",
      "/home/yxzeng/code_python/QoS_Eraser/Result/CSMF/part_type_1/rt/slices_5/metrics/Final_result_density_rt_0.25.csv\n",
      "/home/yxzeng/code_python/QoS_Eraser/Result/CSMF/part_type_1/rt/slices_5/metrics/Final_result_density_rt_0.30.csv\n",
      "----------------------------------------------------------------------------------------------------------------------------------\n",
      "/home/yxzeng/code_python/QoS_Eraser/Result/CSMF/part_type_1/rt/slices_5/time/Final_time_density_rt_0.10.csv\n",
      "/home/yxzeng/code_python/QoS_Eraser/Result/CSMF/part_type_1/rt/slices_5/time/Final_time_density_rt_0.15.csv\n",
      "/home/yxzeng/code_python/QoS_Eraser/Result/CSMF/part_type_1/rt/slices_5/time/Final_time_density_rt_0.20.csv\n",
      "/home/yxzeng/code_python/QoS_Eraser/Result/CSMF/part_type_1/rt/slices_5/time/Final_time_density_rt_0.25.csv\n",
      "/home/yxzeng/code_python/QoS_Eraser/Result/CSMF/part_type_1/rt/slices_5/time/Final_time_density_rt_0.30.csv\n",
      "----------------------------------------------------------------------------------------------------------------------------------\n",
      "node2vec experiment!\n",
      "/home/yxzeng/code_python/QoS_Eraser/Result/CSMF/part_type_3/rt/slices_5/metrics/Final_result_density_rt_0.10.csv\n",
      "/home/yxzeng/code_python/QoS_Eraser/Result/CSMF/part_type_3/rt/slices_5/metrics/Final_result_density_rt_0.15.csv\n",
      "/home/yxzeng/code_python/QoS_Eraser/Result/CSMF/part_type_3/rt/slices_5/metrics/Final_result_density_rt_0.20.csv\n",
      "/home/yxzeng/code_python/QoS_Eraser/Result/CSMF/part_type_3/rt/slices_5/metrics/Final_result_density_rt_0.25.csv\n",
      "/home/yxzeng/code_python/QoS_Eraser/Result/CSMF/part_type_3/rt/slices_5/metrics/Final_result_density_rt_0.30.csv\n",
      "----------------------------------------------------------------------------------------------------------------------------------\n",
      "/home/yxzeng/code_python/QoS_Eraser/Result/CSMF/part_type_3/rt/slices_5/time/Final_time_density_rt_0.10.csv\n",
      "/home/yxzeng/code_python/QoS_Eraser/Result/CSMF/part_type_3/rt/slices_5/time/Final_time_density_rt_0.15.csv\n",
      "/home/yxzeng/code_python/QoS_Eraser/Result/CSMF/part_type_3/rt/slices_5/time/Final_time_density_rt_0.20.csv\n",
      "/home/yxzeng/code_python/QoS_Eraser/Result/CSMF/part_type_3/rt/slices_5/time/Final_time_density_rt_0.25.csv\n",
      "/home/yxzeng/code_python/QoS_Eraser/Result/CSMF/part_type_3/rt/slices_5/time/Final_time_density_rt_0.30.csv\n",
      "----------------------------------------------------------------------------------------------------------------------------------\n",
      "Pure SISA experiment!\n",
      "/home/yxzeng/code_python/QoS_Eraser/Result/CSMF/part_type_5/rt/slices_5/metrics/Final_result_density_rt_0.10.csv\n",
      "/home/yxzeng/code_python/QoS_Eraser/Result/CSMF/part_type_5/rt/slices_5/metrics/Final_result_density_rt_0.15.csv\n",
      "/home/yxzeng/code_python/QoS_Eraser/Result/CSMF/part_type_5/rt/slices_5/metrics/Final_result_density_rt_0.20.csv\n",
      "/home/yxzeng/code_python/QoS_Eraser/Result/CSMF/part_type_5/rt/slices_5/metrics/Final_result_density_rt_0.25.csv\n",
      "/home/yxzeng/code_python/QoS_Eraser/Result/CSMF/part_type_5/rt/slices_5/metrics/Final_result_density_rt_0.30.csv\n",
      "----------------------------------------------------------------------------------------------------------------------------------\n",
      "/home/yxzeng/code_python/QoS_Eraser/Result/CSMF/part_type_5/rt/slices_5/time/Final_time_density_rt_0.10.csv\n",
      "/home/yxzeng/code_python/QoS_Eraser/Result/CSMF/part_type_5/rt/slices_5/time/Final_time_density_rt_0.15.csv\n",
      "/home/yxzeng/code_python/QoS_Eraser/Result/CSMF/part_type_5/rt/slices_5/time/Final_time_density_rt_0.20.csv\n",
      "/home/yxzeng/code_python/QoS_Eraser/Result/CSMF/part_type_5/rt/slices_5/time/Final_time_density_rt_0.25.csv\n",
      "/home/yxzeng/code_python/QoS_Eraser/Result/CSMF/part_type_5/rt/slices_5/time/Final_time_density_rt_0.30.csv\n",
      "----------------------------------------------------------------------------------------------------------------------------------\n",
      "Pure SISA experiment!\n",
      "/home/yxzeng/code_python/QoS_Eraser/Result/CSMF/part_type_10/rt/slices_1/metrics/Final_result_density_rt_0.10.csv\n",
      "/home/yxzeng/code_python/QoS_Eraser/Result/CSMF/part_type_10/rt/slices_1/metrics/Final_result_density_rt_0.15.csv\n",
      "/home/yxzeng/code_python/QoS_Eraser/Result/CSMF/part_type_10/rt/slices_1/metrics/Final_result_density_rt_0.20.csv\n",
      "/home/yxzeng/code_python/QoS_Eraser/Result/CSMF/part_type_10/rt/slices_1/metrics/Final_result_density_rt_0.25.csv\n",
      "/home/yxzeng/code_python/QoS_Eraser/Result/CSMF/part_type_10/rt/slices_1/metrics/Final_result_density_rt_0.30.csv\n",
      "----------------------------------------------------------------------------------------------------------------------------------\n",
      "/home/yxzeng/code_python/QoS_Eraser/Result/CSMF/part_type_10/rt/slices_1/time/Final_time_density_rt_0.10.csv\n",
      "/home/yxzeng/code_python/QoS_Eraser/Result/CSMF/part_type_10/rt/slices_1/time/Final_time_density_rt_0.15.csv\n",
      "/home/yxzeng/code_python/QoS_Eraser/Result/CSMF/part_type_10/rt/slices_1/time/Final_time_density_rt_0.20.csv\n",
      "/home/yxzeng/code_python/QoS_Eraser/Result/CSMF/part_type_10/rt/slices_1/time/Final_time_density_rt_0.25.csv\n",
      "/home/yxzeng/code_python/QoS_Eraser/Result/CSMF/part_type_10/rt/slices_1/time/Final_time_density_rt_0.30.csv\n",
      "----------------------------------------------------------------------------------------------------------------------------------\n",
      "Pure SISA experiment!\n",
      "/home/yxzeng/code_python/QoS_Eraser/Result/CSMF/part_type_1/rt/slices_5/metrics/Final_result_density_rt_0.10.csv\n",
      "/home/yxzeng/code_python/QoS_Eraser/Result/CSMF/part_type_1/rt/slices_5/metrics/Final_result_density_rt_0.15.csv\n",
      "/home/yxzeng/code_python/QoS_Eraser/Result/CSMF/part_type_1/rt/slices_5/metrics/Final_result_density_rt_0.20.csv\n",
      "/home/yxzeng/code_python/QoS_Eraser/Result/CSMF/part_type_1/rt/slices_5/metrics/Final_result_density_rt_0.25.csv\n",
      "/home/yxzeng/code_python/QoS_Eraser/Result/CSMF/part_type_1/rt/slices_5/metrics/Final_result_density_rt_0.30.csv\n",
      "----------------------------------------------------------------------------------------------------------------------------------\n",
      "/home/yxzeng/code_python/QoS_Eraser/Result/CSMF/part_type_1/rt/slices_5/time/Final_time_density_rt_0.10.csv\n",
      "/home/yxzeng/code_python/QoS_Eraser/Result/CSMF/part_type_1/rt/slices_5/time/Final_time_density_rt_0.15.csv\n",
      "/home/yxzeng/code_python/QoS_Eraser/Result/CSMF/part_type_1/rt/slices_5/time/Final_time_density_rt_0.20.csv\n",
      "/home/yxzeng/code_python/QoS_Eraser/Result/CSMF/part_type_1/rt/slices_5/time/Final_time_density_rt_0.25.csv\n",
      "/home/yxzeng/code_python/QoS_Eraser/Result/CSMF/part_type_1/rt/slices_5/time/Final_time_density_rt_0.30.csv\n",
      "----------------------------------------------------------------------------------------------------------------------------------\n",
      "node2vec experiment!\n",
      "/home/yxzeng/code_python/QoS_Eraser/Result/CSMF/part_type_3/rt/slices_5/metrics/Final_result_density_rt_0.10.csv\n",
      "/home/yxzeng/code_python/QoS_Eraser/Result/CSMF/part_type_3/rt/slices_5/metrics/Final_result_density_rt_0.15.csv\n",
      "/home/yxzeng/code_python/QoS_Eraser/Result/CSMF/part_type_3/rt/slices_5/metrics/Final_result_density_rt_0.20.csv\n",
      "/home/yxzeng/code_python/QoS_Eraser/Result/CSMF/part_type_3/rt/slices_5/metrics/Final_result_density_rt_0.25.csv\n",
      "/home/yxzeng/code_python/QoS_Eraser/Result/CSMF/part_type_3/rt/slices_5/metrics/Final_result_density_rt_0.30.csv\n",
      "----------------------------------------------------------------------------------------------------------------------------------\n",
      "/home/yxzeng/code_python/QoS_Eraser/Result/CSMF/part_type_3/rt/slices_5/time/Final_time_density_rt_0.10.csv\n",
      "/home/yxzeng/code_python/QoS_Eraser/Result/CSMF/part_type_3/rt/slices_5/time/Final_time_density_rt_0.15.csv\n",
      "/home/yxzeng/code_python/QoS_Eraser/Result/CSMF/part_type_3/rt/slices_5/time/Final_time_density_rt_0.20.csv\n",
      "/home/yxzeng/code_python/QoS_Eraser/Result/CSMF/part_type_3/rt/slices_5/time/Final_time_density_rt_0.25.csv\n",
      "/home/yxzeng/code_python/QoS_Eraser/Result/CSMF/part_type_3/rt/slices_5/time/Final_time_density_rt_0.30.csv\n",
      "----------------------------------------------------------------------------------------------------------------------------------\n",
      "Pure SISA experiment!\n",
      "/home/yxzeng/code_python/QoS_Eraser/Result/CSMF/part_type_5/rt/slices_5/metrics/Final_result_density_rt_0.10.csv\n",
      "/home/yxzeng/code_python/QoS_Eraser/Result/CSMF/part_type_5/rt/slices_5/metrics/Final_result_density_rt_0.15.csv\n",
      "/home/yxzeng/code_python/QoS_Eraser/Result/CSMF/part_type_5/rt/slices_5/metrics/Final_result_density_rt_0.20.csv\n",
      "/home/yxzeng/code_python/QoS_Eraser/Result/CSMF/part_type_5/rt/slices_5/metrics/Final_result_density_rt_0.25.csv\n",
      "/home/yxzeng/code_python/QoS_Eraser/Result/CSMF/part_type_5/rt/slices_5/metrics/Final_result_density_rt_0.30.csv\n",
      "----------------------------------------------------------------------------------------------------------------------------------\n",
      "/home/yxzeng/code_python/QoS_Eraser/Result/CSMF/part_type_5/rt/slices_5/time/Final_time_density_rt_0.10.csv\n",
      "/home/yxzeng/code_python/QoS_Eraser/Result/CSMF/part_type_5/rt/slices_5/time/Final_time_density_rt_0.15.csv\n",
      "/home/yxzeng/code_python/QoS_Eraser/Result/CSMF/part_type_5/rt/slices_5/time/Final_time_density_rt_0.20.csv\n",
      "/home/yxzeng/code_python/QoS_Eraser/Result/CSMF/part_type_5/rt/slices_5/time/Final_time_density_rt_0.25.csv\n",
      "/home/yxzeng/code_python/QoS_Eraser/Result/CSMF/part_type_5/rt/slices_5/time/Final_time_density_rt_0.30.csv\n",
      "----------------------------------------------------------------------------------------------------------------------------------\n",
      "Pure SISA experiment!\n",
      "/home/yxzeng/code_python/QoS_Eraser/Result/CSMF/part_type_10/tp/slices_1/metrics/Final_result_density_tp_0.10.csv\n",
      "/home/yxzeng/code_python/QoS_Eraser/Result/CSMF/part_type_10/tp/slices_1/metrics/Final_result_density_tp_0.15.csv\n",
      "/home/yxzeng/code_python/QoS_Eraser/Result/CSMF/part_type_10/tp/slices_1/metrics/Final_result_density_tp_0.20.csv\n",
      "/home/yxzeng/code_python/QoS_Eraser/Result/CSMF/part_type_10/tp/slices_1/metrics/Final_result_density_tp_0.25.csv\n",
      "/home/yxzeng/code_python/QoS_Eraser/Result/CSMF/part_type_10/tp/slices_1/metrics/Final_result_density_tp_0.30.csv\n",
      "----------------------------------------------------------------------------------------------------------------------------------\n",
      "/home/yxzeng/code_python/QoS_Eraser/Result/CSMF/part_type_10/tp/slices_1/time/Final_time_density_tp_0.10.csv\n",
      "/home/yxzeng/code_python/QoS_Eraser/Result/CSMF/part_type_10/tp/slices_1/time/Final_time_density_tp_0.15.csv\n",
      "/home/yxzeng/code_python/QoS_Eraser/Result/CSMF/part_type_10/tp/slices_1/time/Final_time_density_tp_0.20.csv\n",
      "/home/yxzeng/code_python/QoS_Eraser/Result/CSMF/part_type_10/tp/slices_1/time/Final_time_density_tp_0.25.csv\n",
      "/home/yxzeng/code_python/QoS_Eraser/Result/CSMF/part_type_10/tp/slices_1/time/Final_time_density_tp_0.30.csv\n",
      "----------------------------------------------------------------------------------------------------------------------------------\n",
      "Pure SISA experiment!\n",
      "/home/yxzeng/code_python/QoS_Eraser/Result/CSMF/part_type_1/tp/slices_5/metrics/Final_result_density_tp_0.10.csv\n",
      "/home/yxzeng/code_python/QoS_Eraser/Result/CSMF/part_type_1/tp/slices_5/metrics/Final_result_density_tp_0.15.csv\n",
      "/home/yxzeng/code_python/QoS_Eraser/Result/CSMF/part_type_1/tp/slices_5/metrics/Final_result_density_tp_0.20.csv\n",
      "/home/yxzeng/code_python/QoS_Eraser/Result/CSMF/part_type_1/tp/slices_5/metrics/Final_result_density_tp_0.25.csv\n",
      "/home/yxzeng/code_python/QoS_Eraser/Result/CSMF/part_type_1/tp/slices_5/metrics/Final_result_density_tp_0.30.csv\n",
      "----------------------------------------------------------------------------------------------------------------------------------\n",
      "/home/yxzeng/code_python/QoS_Eraser/Result/CSMF/part_type_1/tp/slices_5/time/Final_time_density_tp_0.10.csv\n",
      "/home/yxzeng/code_python/QoS_Eraser/Result/CSMF/part_type_1/tp/slices_5/time/Final_time_density_tp_0.15.csv\n",
      "/home/yxzeng/code_python/QoS_Eraser/Result/CSMF/part_type_1/tp/slices_5/time/Final_time_density_tp_0.20.csv\n",
      "/home/yxzeng/code_python/QoS_Eraser/Result/CSMF/part_type_1/tp/slices_5/time/Final_time_density_tp_0.25.csv\n",
      "/home/yxzeng/code_python/QoS_Eraser/Result/CSMF/part_type_1/tp/slices_5/time/Final_time_density_tp_0.30.csv\n",
      "----------------------------------------------------------------------------------------------------------------------------------\n",
      "node2vec experiment!\n",
      "/home/yxzeng/code_python/QoS_Eraser/Result/CSMF/part_type_3/tp/slices_5/metrics/Final_result_density_tp_0.10.csv\n",
      "/home/yxzeng/code_python/QoS_Eraser/Result/CSMF/part_type_3/tp/slices_5/metrics/Final_result_density_tp_0.15.csv\n",
      "/home/yxzeng/code_python/QoS_Eraser/Result/CSMF/part_type_3/tp/slices_5/metrics/Final_result_density_tp_0.20.csv\n",
      "/home/yxzeng/code_python/QoS_Eraser/Result/CSMF/part_type_3/tp/slices_5/metrics/Final_result_density_tp_0.25.csv\n",
      "/home/yxzeng/code_python/QoS_Eraser/Result/CSMF/part_type_3/tp/slices_5/metrics/Final_result_density_tp_0.30.csv\n",
      "----------------------------------------------------------------------------------------------------------------------------------\n",
      "/home/yxzeng/code_python/QoS_Eraser/Result/CSMF/part_type_3/tp/slices_5/time/Final_time_density_tp_0.10.csv\n",
      "/home/yxzeng/code_python/QoS_Eraser/Result/CSMF/part_type_3/tp/slices_5/time/Final_time_density_tp_0.15.csv\n",
      "/home/yxzeng/code_python/QoS_Eraser/Result/CSMF/part_type_3/tp/slices_5/time/Final_time_density_tp_0.20.csv\n",
      "/home/yxzeng/code_python/QoS_Eraser/Result/CSMF/part_type_3/tp/slices_5/time/Final_time_density_tp_0.25.csv\n",
      "/home/yxzeng/code_python/QoS_Eraser/Result/CSMF/part_type_3/tp/slices_5/time/Final_time_density_tp_0.30.csv\n",
      "----------------------------------------------------------------------------------------------------------------------------------\n",
      "Pure SISA experiment!\n",
      "/home/yxzeng/code_python/QoS_Eraser/Result/CSMF/part_type_5/tp/slices_5/metrics/Final_result_density_tp_0.10.csv\n",
      "/home/yxzeng/code_python/QoS_Eraser/Result/CSMF/part_type_5/tp/slices_5/metrics/Final_result_density_tp_0.15.csv\n",
      "/home/yxzeng/code_python/QoS_Eraser/Result/CSMF/part_type_5/tp/slices_5/metrics/Final_result_density_tp_0.20.csv\n",
      "/home/yxzeng/code_python/QoS_Eraser/Result/CSMF/part_type_5/tp/slices_5/metrics/Final_result_density_tp_0.25.csv\n",
      "/home/yxzeng/code_python/QoS_Eraser/Result/CSMF/part_type_5/tp/slices_5/metrics/Final_result_density_tp_0.30.csv\n",
      "----------------------------------------------------------------------------------------------------------------------------------\n",
      "/home/yxzeng/code_python/QoS_Eraser/Result/CSMF/part_type_5/tp/slices_5/time/Final_time_density_tp_0.10.csv\n",
      "/home/yxzeng/code_python/QoS_Eraser/Result/CSMF/part_type_5/tp/slices_5/time/Final_time_density_tp_0.15.csv\n",
      "/home/yxzeng/code_python/QoS_Eraser/Result/CSMF/part_type_5/tp/slices_5/time/Final_time_density_tp_0.20.csv\n",
      "/home/yxzeng/code_python/QoS_Eraser/Result/CSMF/part_type_5/tp/slices_5/time/Final_time_density_tp_0.25.csv\n",
      "/home/yxzeng/code_python/QoS_Eraser/Result/CSMF/part_type_5/tp/slices_5/time/Final_time_density_tp_0.30.csv\n",
      "----------------------------------------------------------------------------------------------------------------------------------\n",
      "Pure SISA experiment!\n",
      "/home/yxzeng/code_python/QoS_Eraser/Result/CSMF/part_type_10/tp/slices_1/metrics/Final_result_density_tp_0.10.csv\n",
      "/home/yxzeng/code_python/QoS_Eraser/Result/CSMF/part_type_10/tp/slices_1/metrics/Final_result_density_tp_0.15.csv\n",
      "/home/yxzeng/code_python/QoS_Eraser/Result/CSMF/part_type_10/tp/slices_1/metrics/Final_result_density_tp_0.20.csv\n",
      "/home/yxzeng/code_python/QoS_Eraser/Result/CSMF/part_type_10/tp/slices_1/metrics/Final_result_density_tp_0.25.csv\n",
      "/home/yxzeng/code_python/QoS_Eraser/Result/CSMF/part_type_10/tp/slices_1/metrics/Final_result_density_tp_0.30.csv\n",
      "----------------------------------------------------------------------------------------------------------------------------------\n",
      "/home/yxzeng/code_python/QoS_Eraser/Result/CSMF/part_type_10/tp/slices_1/time/Final_time_density_tp_0.10.csv\n",
      "/home/yxzeng/code_python/QoS_Eraser/Result/CSMF/part_type_10/tp/slices_1/time/Final_time_density_tp_0.15.csv\n",
      "/home/yxzeng/code_python/QoS_Eraser/Result/CSMF/part_type_10/tp/slices_1/time/Final_time_density_tp_0.20.csv\n",
      "/home/yxzeng/code_python/QoS_Eraser/Result/CSMF/part_type_10/tp/slices_1/time/Final_time_density_tp_0.25.csv\n",
      "/home/yxzeng/code_python/QoS_Eraser/Result/CSMF/part_type_10/tp/slices_1/time/Final_time_density_tp_0.30.csv\n",
      "----------------------------------------------------------------------------------------------------------------------------------\n",
      "Pure SISA experiment!\n",
      "/home/yxzeng/code_python/QoS_Eraser/Result/CSMF/part_type_1/tp/slices_5/metrics/Final_result_density_tp_0.10.csv\n",
      "/home/yxzeng/code_python/QoS_Eraser/Result/CSMF/part_type_1/tp/slices_5/metrics/Final_result_density_tp_0.15.csv\n",
      "/home/yxzeng/code_python/QoS_Eraser/Result/CSMF/part_type_1/tp/slices_5/metrics/Final_result_density_tp_0.20.csv\n",
      "/home/yxzeng/code_python/QoS_Eraser/Result/CSMF/part_type_1/tp/slices_5/metrics/Final_result_density_tp_0.25.csv\n",
      "/home/yxzeng/code_python/QoS_Eraser/Result/CSMF/part_type_1/tp/slices_5/metrics/Final_result_density_tp_0.30.csv\n",
      "----------------------------------------------------------------------------------------------------------------------------------\n",
      "/home/yxzeng/code_python/QoS_Eraser/Result/CSMF/part_type_1/tp/slices_5/time/Final_time_density_tp_0.10.csv\n",
      "/home/yxzeng/code_python/QoS_Eraser/Result/CSMF/part_type_1/tp/slices_5/time/Final_time_density_tp_0.15.csv\n",
      "/home/yxzeng/code_python/QoS_Eraser/Result/CSMF/part_type_1/tp/slices_5/time/Final_time_density_tp_0.20.csv\n",
      "/home/yxzeng/code_python/QoS_Eraser/Result/CSMF/part_type_1/tp/slices_5/time/Final_time_density_tp_0.25.csv\n",
      "/home/yxzeng/code_python/QoS_Eraser/Result/CSMF/part_type_1/tp/slices_5/time/Final_time_density_tp_0.30.csv\n",
      "----------------------------------------------------------------------------------------------------------------------------------\n",
      "node2vec experiment!\n",
      "/home/yxzeng/code_python/QoS_Eraser/Result/CSMF/part_type_3/tp/slices_5/metrics/Final_result_density_tp_0.10.csv\n",
      "/home/yxzeng/code_python/QoS_Eraser/Result/CSMF/part_type_3/tp/slices_5/metrics/Final_result_density_tp_0.15.csv\n",
      "/home/yxzeng/code_python/QoS_Eraser/Result/CSMF/part_type_3/tp/slices_5/metrics/Final_result_density_tp_0.20.csv\n",
      "/home/yxzeng/code_python/QoS_Eraser/Result/CSMF/part_type_3/tp/slices_5/metrics/Final_result_density_tp_0.25.csv\n",
      "/home/yxzeng/code_python/QoS_Eraser/Result/CSMF/part_type_3/tp/slices_5/metrics/Final_result_density_tp_0.30.csv\n",
      "----------------------------------------------------------------------------------------------------------------------------------\n",
      "/home/yxzeng/code_python/QoS_Eraser/Result/CSMF/part_type_3/tp/slices_5/time/Final_time_density_tp_0.10.csv\n",
      "/home/yxzeng/code_python/QoS_Eraser/Result/CSMF/part_type_3/tp/slices_5/time/Final_time_density_tp_0.15.csv\n",
      "/home/yxzeng/code_python/QoS_Eraser/Result/CSMF/part_type_3/tp/slices_5/time/Final_time_density_tp_0.20.csv\n",
      "/home/yxzeng/code_python/QoS_Eraser/Result/CSMF/part_type_3/tp/slices_5/time/Final_time_density_tp_0.25.csv\n",
      "/home/yxzeng/code_python/QoS_Eraser/Result/CSMF/part_type_3/tp/slices_5/time/Final_time_density_tp_0.30.csv\n",
      "----------------------------------------------------------------------------------------------------------------------------------\n",
      "Pure SISA experiment!\n",
      "/home/yxzeng/code_python/QoS_Eraser/Result/CSMF/part_type_5/tp/slices_5/metrics/Final_result_density_tp_0.10.csv\n",
      "/home/yxzeng/code_python/QoS_Eraser/Result/CSMF/part_type_5/tp/slices_5/metrics/Final_result_density_tp_0.15.csv\n",
      "/home/yxzeng/code_python/QoS_Eraser/Result/CSMF/part_type_5/tp/slices_5/metrics/Final_result_density_tp_0.20.csv\n",
      "/home/yxzeng/code_python/QoS_Eraser/Result/CSMF/part_type_5/tp/slices_5/metrics/Final_result_density_tp_0.25.csv\n",
      "/home/yxzeng/code_python/QoS_Eraser/Result/CSMF/part_type_5/tp/slices_5/metrics/Final_result_density_tp_0.30.csv\n",
      "----------------------------------------------------------------------------------------------------------------------------------\n",
      "/home/yxzeng/code_python/QoS_Eraser/Result/CSMF/part_type_5/tp/slices_5/time/Final_time_density_tp_0.10.csv\n",
      "/home/yxzeng/code_python/QoS_Eraser/Result/CSMF/part_type_5/tp/slices_5/time/Final_time_density_tp_0.15.csv\n",
      "/home/yxzeng/code_python/QoS_Eraser/Result/CSMF/part_type_5/tp/slices_5/time/Final_time_density_tp_0.20.csv\n",
      "/home/yxzeng/code_python/QoS_Eraser/Result/CSMF/part_type_5/tp/slices_5/time/Final_time_density_tp_0.25.csv\n",
      "/home/yxzeng/code_python/QoS_Eraser/Result/CSMF/part_type_5/tp/slices_5/time/Final_time_density_tp_0.30.csv\n",
      "----------------------------------------------------------------------------------------------------------------------------------\n",
      "Pure SISA experiment!\n",
      "/home/yxzeng/code_python/QoS_Eraser/Result/MF/part_type_10/rt/slices_1/metrics/Final_result_density_rt_0.10.csv\n",
      "/home/yxzeng/code_python/QoS_Eraser/Result/MF/part_type_10/rt/slices_1/metrics/Final_result_density_rt_0.15.csv\n",
      "/home/yxzeng/code_python/QoS_Eraser/Result/MF/part_type_10/rt/slices_1/metrics/Final_result_density_rt_0.20.csv\n",
      "/home/yxzeng/code_python/QoS_Eraser/Result/MF/part_type_10/rt/slices_1/metrics/Final_result_density_rt_0.25.csv\n",
      "/home/yxzeng/code_python/QoS_Eraser/Result/MF/part_type_10/rt/slices_1/metrics/Final_result_density_rt_0.30.csv\n",
      "----------------------------------------------------------------------------------------------------------------------------------\n",
      "/home/yxzeng/code_python/QoS_Eraser/Result/MF/part_type_10/rt/slices_1/time/Final_time_density_rt_0.10.csv\n",
      "/home/yxzeng/code_python/QoS_Eraser/Result/MF/part_type_10/rt/slices_1/time/Final_time_density_rt_0.15.csv\n",
      "/home/yxzeng/code_python/QoS_Eraser/Result/MF/part_type_10/rt/slices_1/time/Final_time_density_rt_0.20.csv\n",
      "/home/yxzeng/code_python/QoS_Eraser/Result/MF/part_type_10/rt/slices_1/time/Final_time_density_rt_0.25.csv\n",
      "/home/yxzeng/code_python/QoS_Eraser/Result/MF/part_type_10/rt/slices_1/time/Final_time_density_rt_0.30.csv\n",
      "----------------------------------------------------------------------------------------------------------------------------------\n",
      "Pure SISA experiment!\n",
      "/home/yxzeng/code_python/QoS_Eraser/Result/MF/part_type_1/rt/slices_5/metrics/Final_result_density_rt_0.10.csv\n",
      "/home/yxzeng/code_python/QoS_Eraser/Result/MF/part_type_1/rt/slices_5/metrics/Final_result_density_rt_0.15.csv\n",
      "/home/yxzeng/code_python/QoS_Eraser/Result/MF/part_type_1/rt/slices_5/metrics/Final_result_density_rt_0.20.csv\n",
      "/home/yxzeng/code_python/QoS_Eraser/Result/MF/part_type_1/rt/slices_5/metrics/Final_result_density_rt_0.25.csv\n",
      "/home/yxzeng/code_python/QoS_Eraser/Result/MF/part_type_1/rt/slices_5/metrics/Final_result_density_rt_0.30.csv\n",
      "----------------------------------------------------------------------------------------------------------------------------------\n",
      "/home/yxzeng/code_python/QoS_Eraser/Result/MF/part_type_1/rt/slices_5/time/Final_time_density_rt_0.10.csv\n",
      "/home/yxzeng/code_python/QoS_Eraser/Result/MF/part_type_1/rt/slices_5/time/Final_time_density_rt_0.15.csv\n",
      "/home/yxzeng/code_python/QoS_Eraser/Result/MF/part_type_1/rt/slices_5/time/Final_time_density_rt_0.20.csv\n",
      "/home/yxzeng/code_python/QoS_Eraser/Result/MF/part_type_1/rt/slices_5/time/Final_time_density_rt_0.25.csv\n",
      "/home/yxzeng/code_python/QoS_Eraser/Result/MF/part_type_1/rt/slices_5/time/Final_time_density_rt_0.30.csv\n",
      "----------------------------------------------------------------------------------------------------------------------------------\n",
      "node2vec experiment!\n",
      "/home/yxzeng/code_python/QoS_Eraser/Result/MF/part_type_3/rt/slices_5/metrics/Final_result_density_rt_0.10.csv\n",
      "/home/yxzeng/code_python/QoS_Eraser/Result/MF/part_type_3/rt/slices_5/metrics/Final_result_density_rt_0.15.csv\n",
      "/home/yxzeng/code_python/QoS_Eraser/Result/MF/part_type_3/rt/slices_5/metrics/Final_result_density_rt_0.20.csv\n",
      "/home/yxzeng/code_python/QoS_Eraser/Result/MF/part_type_3/rt/slices_5/metrics/Final_result_density_rt_0.25.csv\n",
      "/home/yxzeng/code_python/QoS_Eraser/Result/MF/part_type_3/rt/slices_5/metrics/Final_result_density_rt_0.30.csv\n",
      "----------------------------------------------------------------------------------------------------------------------------------\n",
      "/home/yxzeng/code_python/QoS_Eraser/Result/MF/part_type_3/rt/slices_5/time/Final_time_density_rt_0.10.csv\n",
      "/home/yxzeng/code_python/QoS_Eraser/Result/MF/part_type_3/rt/slices_5/time/Final_time_density_rt_0.15.csv\n",
      "/home/yxzeng/code_python/QoS_Eraser/Result/MF/part_type_3/rt/slices_5/time/Final_time_density_rt_0.20.csv\n",
      "/home/yxzeng/code_python/QoS_Eraser/Result/MF/part_type_3/rt/slices_5/time/Final_time_density_rt_0.25.csv\n",
      "/home/yxzeng/code_python/QoS_Eraser/Result/MF/part_type_3/rt/slices_5/time/Final_time_density_rt_0.30.csv\n",
      "----------------------------------------------------------------------------------------------------------------------------------\n",
      "Pure SISA experiment!\n",
      "/home/yxzeng/code_python/QoS_Eraser/Result/MF/part_type_5/rt/slices_5/metrics/Final_result_density_rt_0.10.csv\n",
      "/home/yxzeng/code_python/QoS_Eraser/Result/MF/part_type_5/rt/slices_5/metrics/Final_result_density_rt_0.15.csv\n",
      "/home/yxzeng/code_python/QoS_Eraser/Result/MF/part_type_5/rt/slices_5/metrics/Final_result_density_rt_0.20.csv\n",
      "/home/yxzeng/code_python/QoS_Eraser/Result/MF/part_type_5/rt/slices_5/metrics/Final_result_density_rt_0.25.csv\n",
      "/home/yxzeng/code_python/QoS_Eraser/Result/MF/part_type_5/rt/slices_5/metrics/Final_result_density_rt_0.30.csv\n",
      "----------------------------------------------------------------------------------------------------------------------------------\n",
      "/home/yxzeng/code_python/QoS_Eraser/Result/MF/part_type_5/rt/slices_5/time/Final_time_density_rt_0.10.csv\n",
      "/home/yxzeng/code_python/QoS_Eraser/Result/MF/part_type_5/rt/slices_5/time/Final_time_density_rt_0.15.csv\n",
      "/home/yxzeng/code_python/QoS_Eraser/Result/MF/part_type_5/rt/slices_5/time/Final_time_density_rt_0.20.csv\n",
      "/home/yxzeng/code_python/QoS_Eraser/Result/MF/part_type_5/rt/slices_5/time/Final_time_density_rt_0.25.csv\n",
      "/home/yxzeng/code_python/QoS_Eraser/Result/MF/part_type_5/rt/slices_5/time/Final_time_density_rt_0.30.csv\n",
      "----------------------------------------------------------------------------------------------------------------------------------\n",
      "Pure SISA experiment!\n",
      "/home/yxzeng/code_python/QoS_Eraser/Result/MF/part_type_10/rt/slices_1/metrics/Final_result_density_rt_0.10.csv\n",
      "/home/yxzeng/code_python/QoS_Eraser/Result/MF/part_type_10/rt/slices_1/metrics/Final_result_density_rt_0.15.csv\n",
      "/home/yxzeng/code_python/QoS_Eraser/Result/MF/part_type_10/rt/slices_1/metrics/Final_result_density_rt_0.20.csv\n",
      "/home/yxzeng/code_python/QoS_Eraser/Result/MF/part_type_10/rt/slices_1/metrics/Final_result_density_rt_0.25.csv\n",
      "/home/yxzeng/code_python/QoS_Eraser/Result/MF/part_type_10/rt/slices_1/metrics/Final_result_density_rt_0.30.csv\n",
      "----------------------------------------------------------------------------------------------------------------------------------\n",
      "/home/yxzeng/code_python/QoS_Eraser/Result/MF/part_type_10/rt/slices_1/time/Final_time_density_rt_0.10.csv\n",
      "/home/yxzeng/code_python/QoS_Eraser/Result/MF/part_type_10/rt/slices_1/time/Final_time_density_rt_0.15.csv\n",
      "/home/yxzeng/code_python/QoS_Eraser/Result/MF/part_type_10/rt/slices_1/time/Final_time_density_rt_0.20.csv\n",
      "/home/yxzeng/code_python/QoS_Eraser/Result/MF/part_type_10/rt/slices_1/time/Final_time_density_rt_0.25.csv\n",
      "/home/yxzeng/code_python/QoS_Eraser/Result/MF/part_type_10/rt/slices_1/time/Final_time_density_rt_0.30.csv\n",
      "----------------------------------------------------------------------------------------------------------------------------------\n",
      "Pure SISA experiment!\n",
      "/home/yxzeng/code_python/QoS_Eraser/Result/MF/part_type_1/rt/slices_5/metrics/Final_result_density_rt_0.10.csv\n",
      "/home/yxzeng/code_python/QoS_Eraser/Result/MF/part_type_1/rt/slices_5/metrics/Final_result_density_rt_0.15.csv\n",
      "/home/yxzeng/code_python/QoS_Eraser/Result/MF/part_type_1/rt/slices_5/metrics/Final_result_density_rt_0.20.csv\n",
      "/home/yxzeng/code_python/QoS_Eraser/Result/MF/part_type_1/rt/slices_5/metrics/Final_result_density_rt_0.25.csv\n",
      "/home/yxzeng/code_python/QoS_Eraser/Result/MF/part_type_1/rt/slices_5/metrics/Final_result_density_rt_0.30.csv\n",
      "----------------------------------------------------------------------------------------------------------------------------------\n",
      "/home/yxzeng/code_python/QoS_Eraser/Result/MF/part_type_1/rt/slices_5/time/Final_time_density_rt_0.10.csv\n",
      "/home/yxzeng/code_python/QoS_Eraser/Result/MF/part_type_1/rt/slices_5/time/Final_time_density_rt_0.15.csv\n",
      "/home/yxzeng/code_python/QoS_Eraser/Result/MF/part_type_1/rt/slices_5/time/Final_time_density_rt_0.20.csv\n",
      "/home/yxzeng/code_python/QoS_Eraser/Result/MF/part_type_1/rt/slices_5/time/Final_time_density_rt_0.25.csv\n",
      "/home/yxzeng/code_python/QoS_Eraser/Result/MF/part_type_1/rt/slices_5/time/Final_time_density_rt_0.30.csv\n",
      "----------------------------------------------------------------------------------------------------------------------------------\n",
      "node2vec experiment!\n",
      "/home/yxzeng/code_python/QoS_Eraser/Result/MF/part_type_3/rt/slices_5/metrics/Final_result_density_rt_0.10.csv\n",
      "/home/yxzeng/code_python/QoS_Eraser/Result/MF/part_type_3/rt/slices_5/metrics/Final_result_density_rt_0.15.csv\n",
      "/home/yxzeng/code_python/QoS_Eraser/Result/MF/part_type_3/rt/slices_5/metrics/Final_result_density_rt_0.20.csv\n",
      "/home/yxzeng/code_python/QoS_Eraser/Result/MF/part_type_3/rt/slices_5/metrics/Final_result_density_rt_0.25.csv\n",
      "/home/yxzeng/code_python/QoS_Eraser/Result/MF/part_type_3/rt/slices_5/metrics/Final_result_density_rt_0.30.csv\n",
      "----------------------------------------------------------------------------------------------------------------------------------\n",
      "/home/yxzeng/code_python/QoS_Eraser/Result/MF/part_type_3/rt/slices_5/time/Final_time_density_rt_0.10.csv\n",
      "/home/yxzeng/code_python/QoS_Eraser/Result/MF/part_type_3/rt/slices_5/time/Final_time_density_rt_0.15.csv\n",
      "/home/yxzeng/code_python/QoS_Eraser/Result/MF/part_type_3/rt/slices_5/time/Final_time_density_rt_0.20.csv\n",
      "/home/yxzeng/code_python/QoS_Eraser/Result/MF/part_type_3/rt/slices_5/time/Final_time_density_rt_0.25.csv\n",
      "/home/yxzeng/code_python/QoS_Eraser/Result/MF/part_type_3/rt/slices_5/time/Final_time_density_rt_0.30.csv\n",
      "----------------------------------------------------------------------------------------------------------------------------------\n",
      "Pure SISA experiment!\n",
      "/home/yxzeng/code_python/QoS_Eraser/Result/MF/part_type_5/rt/slices_5/metrics/Final_result_density_rt_0.10.csv\n",
      "/home/yxzeng/code_python/QoS_Eraser/Result/MF/part_type_5/rt/slices_5/metrics/Final_result_density_rt_0.15.csv\n",
      "/home/yxzeng/code_python/QoS_Eraser/Result/MF/part_type_5/rt/slices_5/metrics/Final_result_density_rt_0.20.csv\n",
      "/home/yxzeng/code_python/QoS_Eraser/Result/MF/part_type_5/rt/slices_5/metrics/Final_result_density_rt_0.25.csv\n",
      "/home/yxzeng/code_python/QoS_Eraser/Result/MF/part_type_5/rt/slices_5/metrics/Final_result_density_rt_0.30.csv\n",
      "----------------------------------------------------------------------------------------------------------------------------------\n",
      "/home/yxzeng/code_python/QoS_Eraser/Result/MF/part_type_5/rt/slices_5/time/Final_time_density_rt_0.10.csv\n",
      "/home/yxzeng/code_python/QoS_Eraser/Result/MF/part_type_5/rt/slices_5/time/Final_time_density_rt_0.15.csv\n",
      "/home/yxzeng/code_python/QoS_Eraser/Result/MF/part_type_5/rt/slices_5/time/Final_time_density_rt_0.20.csv\n",
      "/home/yxzeng/code_python/QoS_Eraser/Result/MF/part_type_5/rt/slices_5/time/Final_time_density_rt_0.25.csv\n",
      "/home/yxzeng/code_python/QoS_Eraser/Result/MF/part_type_5/rt/slices_5/time/Final_time_density_rt_0.30.csv\n",
      "----------------------------------------------------------------------------------------------------------------------------------\n",
      "Pure SISA experiment!\n",
      "/home/yxzeng/code_python/QoS_Eraser/Result/MF/part_type_10/tp/slices_1/metrics/Final_result_density_tp_0.10.csv\n",
      "/home/yxzeng/code_python/QoS_Eraser/Result/MF/part_type_10/tp/slices_1/metrics/Final_result_density_tp_0.15.csv\n",
      "/home/yxzeng/code_python/QoS_Eraser/Result/MF/part_type_10/tp/slices_1/metrics/Final_result_density_tp_0.20.csv\n",
      "/home/yxzeng/code_python/QoS_Eraser/Result/MF/part_type_10/tp/slices_1/metrics/Final_result_density_tp_0.25.csv\n",
      "/home/yxzeng/code_python/QoS_Eraser/Result/MF/part_type_10/tp/slices_1/metrics/Final_result_density_tp_0.30.csv\n",
      "----------------------------------------------------------------------------------------------------------------------------------\n",
      "/home/yxzeng/code_python/QoS_Eraser/Result/MF/part_type_10/tp/slices_1/time/Final_time_density_tp_0.10.csv\n",
      "/home/yxzeng/code_python/QoS_Eraser/Result/MF/part_type_10/tp/slices_1/time/Final_time_density_tp_0.15.csv\n",
      "/home/yxzeng/code_python/QoS_Eraser/Result/MF/part_type_10/tp/slices_1/time/Final_time_density_tp_0.20.csv\n",
      "/home/yxzeng/code_python/QoS_Eraser/Result/MF/part_type_10/tp/slices_1/time/Final_time_density_tp_0.25.csv\n",
      "/home/yxzeng/code_python/QoS_Eraser/Result/MF/part_type_10/tp/slices_1/time/Final_time_density_tp_0.30.csv\n",
      "----------------------------------------------------------------------------------------------------------------------------------\n",
      "Pure SISA experiment!\n",
      "/home/yxzeng/code_python/QoS_Eraser/Result/MF/part_type_1/tp/slices_5/metrics/Final_result_density_tp_0.10.csv\n",
      "/home/yxzeng/code_python/QoS_Eraser/Result/MF/part_type_1/tp/slices_5/metrics/Final_result_density_tp_0.15.csv\n",
      "/home/yxzeng/code_python/QoS_Eraser/Result/MF/part_type_1/tp/slices_5/metrics/Final_result_density_tp_0.20.csv\n",
      "/home/yxzeng/code_python/QoS_Eraser/Result/MF/part_type_1/tp/slices_5/metrics/Final_result_density_tp_0.25.csv\n",
      "/home/yxzeng/code_python/QoS_Eraser/Result/MF/part_type_1/tp/slices_5/metrics/Final_result_density_tp_0.30.csv\n",
      "----------------------------------------------------------------------------------------------------------------------------------\n",
      "/home/yxzeng/code_python/QoS_Eraser/Result/MF/part_type_1/tp/slices_5/time/Final_time_density_tp_0.10.csv\n",
      "/home/yxzeng/code_python/QoS_Eraser/Result/MF/part_type_1/tp/slices_5/time/Final_time_density_tp_0.15.csv\n",
      "/home/yxzeng/code_python/QoS_Eraser/Result/MF/part_type_1/tp/slices_5/time/Final_time_density_tp_0.20.csv\n",
      "/home/yxzeng/code_python/QoS_Eraser/Result/MF/part_type_1/tp/slices_5/time/Final_time_density_tp_0.25.csv\n",
      "/home/yxzeng/code_python/QoS_Eraser/Result/MF/part_type_1/tp/slices_5/time/Final_time_density_tp_0.30.csv\n",
      "----------------------------------------------------------------------------------------------------------------------------------\n",
      "node2vec experiment!\n",
      "/home/yxzeng/code_python/QoS_Eraser/Result/MF/part_type_3/tp/slices_5/metrics/Final_result_density_tp_0.10.csv\n",
      "/home/yxzeng/code_python/QoS_Eraser/Result/MF/part_type_3/tp/slices_5/metrics/Final_result_density_tp_0.15.csv\n",
      "/home/yxzeng/code_python/QoS_Eraser/Result/MF/part_type_3/tp/slices_5/metrics/Final_result_density_tp_0.20.csv\n",
      "/home/yxzeng/code_python/QoS_Eraser/Result/MF/part_type_3/tp/slices_5/metrics/Final_result_density_tp_0.25.csv\n",
      "/home/yxzeng/code_python/QoS_Eraser/Result/MF/part_type_3/tp/slices_5/metrics/Final_result_density_tp_0.30.csv\n",
      "----------------------------------------------------------------------------------------------------------------------------------\n",
      "/home/yxzeng/code_python/QoS_Eraser/Result/MF/part_type_3/tp/slices_5/time/Final_time_density_tp_0.10.csv\n",
      "/home/yxzeng/code_python/QoS_Eraser/Result/MF/part_type_3/tp/slices_5/time/Final_time_density_tp_0.15.csv\n",
      "/home/yxzeng/code_python/QoS_Eraser/Result/MF/part_type_3/tp/slices_5/time/Final_time_density_tp_0.20.csv\n",
      "/home/yxzeng/code_python/QoS_Eraser/Result/MF/part_type_3/tp/slices_5/time/Final_time_density_tp_0.25.csv\n",
      "/home/yxzeng/code_python/QoS_Eraser/Result/MF/part_type_3/tp/slices_5/time/Final_time_density_tp_0.30.csv\n",
      "----------------------------------------------------------------------------------------------------------------------------------\n",
      "Pure SISA experiment!\n",
      "/home/yxzeng/code_python/QoS_Eraser/Result/MF/part_type_5/tp/slices_5/metrics/Final_result_density_tp_0.10.csv\n",
      "/home/yxzeng/code_python/QoS_Eraser/Result/MF/part_type_5/tp/slices_5/metrics/Final_result_density_tp_0.15.csv\n",
      "/home/yxzeng/code_python/QoS_Eraser/Result/MF/part_type_5/tp/slices_5/metrics/Final_result_density_tp_0.20.csv\n",
      "/home/yxzeng/code_python/QoS_Eraser/Result/MF/part_type_5/tp/slices_5/metrics/Final_result_density_tp_0.25.csv\n",
      "/home/yxzeng/code_python/QoS_Eraser/Result/MF/part_type_5/tp/slices_5/metrics/Final_result_density_tp_0.30.csv\n",
      "----------------------------------------------------------------------------------------------------------------------------------\n",
      "/home/yxzeng/code_python/QoS_Eraser/Result/MF/part_type_5/tp/slices_5/time/Final_time_density_tp_0.10.csv\n",
      "/home/yxzeng/code_python/QoS_Eraser/Result/MF/part_type_5/tp/slices_5/time/Final_time_density_tp_0.15.csv\n",
      "/home/yxzeng/code_python/QoS_Eraser/Result/MF/part_type_5/tp/slices_5/time/Final_time_density_tp_0.20.csv\n",
      "/home/yxzeng/code_python/QoS_Eraser/Result/MF/part_type_5/tp/slices_5/time/Final_time_density_tp_0.25.csv\n",
      "/home/yxzeng/code_python/QoS_Eraser/Result/MF/part_type_5/tp/slices_5/time/Final_time_density_tp_0.30.csv\n",
      "----------------------------------------------------------------------------------------------------------------------------------\n",
      "Pure SISA experiment!\n",
      "/home/yxzeng/code_python/QoS_Eraser/Result/MF/part_type_10/tp/slices_1/metrics/Final_result_density_tp_0.10.csv\n",
      "/home/yxzeng/code_python/QoS_Eraser/Result/MF/part_type_10/tp/slices_1/metrics/Final_result_density_tp_0.15.csv\n",
      "/home/yxzeng/code_python/QoS_Eraser/Result/MF/part_type_10/tp/slices_1/metrics/Final_result_density_tp_0.20.csv\n",
      "/home/yxzeng/code_python/QoS_Eraser/Result/MF/part_type_10/tp/slices_1/metrics/Final_result_density_tp_0.25.csv\n",
      "/home/yxzeng/code_python/QoS_Eraser/Result/MF/part_type_10/tp/slices_1/metrics/Final_result_density_tp_0.30.csv\n",
      "----------------------------------------------------------------------------------------------------------------------------------\n",
      "/home/yxzeng/code_python/QoS_Eraser/Result/MF/part_type_10/tp/slices_1/time/Final_time_density_tp_0.10.csv\n",
      "/home/yxzeng/code_python/QoS_Eraser/Result/MF/part_type_10/tp/slices_1/time/Final_time_density_tp_0.15.csv\n",
      "/home/yxzeng/code_python/QoS_Eraser/Result/MF/part_type_10/tp/slices_1/time/Final_time_density_tp_0.20.csv\n",
      "/home/yxzeng/code_python/QoS_Eraser/Result/MF/part_type_10/tp/slices_1/time/Final_time_density_tp_0.25.csv\n",
      "/home/yxzeng/code_python/QoS_Eraser/Result/MF/part_type_10/tp/slices_1/time/Final_time_density_tp_0.30.csv\n",
      "----------------------------------------------------------------------------------------------------------------------------------\n",
      "Pure SISA experiment!\n",
      "/home/yxzeng/code_python/QoS_Eraser/Result/MF/part_type_1/tp/slices_5/metrics/Final_result_density_tp_0.10.csv\n",
      "/home/yxzeng/code_python/QoS_Eraser/Result/MF/part_type_1/tp/slices_5/metrics/Final_result_density_tp_0.15.csv\n",
      "/home/yxzeng/code_python/QoS_Eraser/Result/MF/part_type_1/tp/slices_5/metrics/Final_result_density_tp_0.20.csv\n",
      "/home/yxzeng/code_python/QoS_Eraser/Result/MF/part_type_1/tp/slices_5/metrics/Final_result_density_tp_0.25.csv\n",
      "/home/yxzeng/code_python/QoS_Eraser/Result/MF/part_type_1/tp/slices_5/metrics/Final_result_density_tp_0.30.csv\n",
      "----------------------------------------------------------------------------------------------------------------------------------\n",
      "/home/yxzeng/code_python/QoS_Eraser/Result/MF/part_type_1/tp/slices_5/time/Final_time_density_tp_0.10.csv\n",
      "/home/yxzeng/code_python/QoS_Eraser/Result/MF/part_type_1/tp/slices_5/time/Final_time_density_tp_0.15.csv\n",
      "/home/yxzeng/code_python/QoS_Eraser/Result/MF/part_type_1/tp/slices_5/time/Final_time_density_tp_0.20.csv\n",
      "/home/yxzeng/code_python/QoS_Eraser/Result/MF/part_type_1/tp/slices_5/time/Final_time_density_tp_0.25.csv\n",
      "/home/yxzeng/code_python/QoS_Eraser/Result/MF/part_type_1/tp/slices_5/time/Final_time_density_tp_0.30.csv\n",
      "----------------------------------------------------------------------------------------------------------------------------------\n",
      "node2vec experiment!\n",
      "/home/yxzeng/code_python/QoS_Eraser/Result/MF/part_type_3/tp/slices_5/metrics/Final_result_density_tp_0.10.csv\n",
      "/home/yxzeng/code_python/QoS_Eraser/Result/MF/part_type_3/tp/slices_5/metrics/Final_result_density_tp_0.15.csv\n",
      "/home/yxzeng/code_python/QoS_Eraser/Result/MF/part_type_3/tp/slices_5/metrics/Final_result_density_tp_0.20.csv\n",
      "/home/yxzeng/code_python/QoS_Eraser/Result/MF/part_type_3/tp/slices_5/metrics/Final_result_density_tp_0.25.csv\n",
      "/home/yxzeng/code_python/QoS_Eraser/Result/MF/part_type_3/tp/slices_5/metrics/Final_result_density_tp_0.30.csv\n",
      "----------------------------------------------------------------------------------------------------------------------------------\n",
      "/home/yxzeng/code_python/QoS_Eraser/Result/MF/part_type_3/tp/slices_5/time/Final_time_density_tp_0.10.csv\n",
      "/home/yxzeng/code_python/QoS_Eraser/Result/MF/part_type_3/tp/slices_5/time/Final_time_density_tp_0.15.csv\n",
      "/home/yxzeng/code_python/QoS_Eraser/Result/MF/part_type_3/tp/slices_5/time/Final_time_density_tp_0.20.csv\n",
      "/home/yxzeng/code_python/QoS_Eraser/Result/MF/part_type_3/tp/slices_5/time/Final_time_density_tp_0.25.csv\n",
      "/home/yxzeng/code_python/QoS_Eraser/Result/MF/part_type_3/tp/slices_5/time/Final_time_density_tp_0.30.csv\n",
      "----------------------------------------------------------------------------------------------------------------------------------\n",
      "Pure SISA experiment!\n",
      "/home/yxzeng/code_python/QoS_Eraser/Result/MF/part_type_5/tp/slices_5/metrics/Final_result_density_tp_0.10.csv\n",
      "/home/yxzeng/code_python/QoS_Eraser/Result/MF/part_type_5/tp/slices_5/metrics/Final_result_density_tp_0.15.csv\n",
      "/home/yxzeng/code_python/QoS_Eraser/Result/MF/part_type_5/tp/slices_5/metrics/Final_result_density_tp_0.20.csv\n",
      "/home/yxzeng/code_python/QoS_Eraser/Result/MF/part_type_5/tp/slices_5/metrics/Final_result_density_tp_0.25.csv\n",
      "/home/yxzeng/code_python/QoS_Eraser/Result/MF/part_type_5/tp/slices_5/metrics/Final_result_density_tp_0.30.csv\n",
      "----------------------------------------------------------------------------------------------------------------------------------\n",
      "/home/yxzeng/code_python/QoS_Eraser/Result/MF/part_type_5/tp/slices_5/time/Final_time_density_tp_0.10.csv\n",
      "/home/yxzeng/code_python/QoS_Eraser/Result/MF/part_type_5/tp/slices_5/time/Final_time_density_tp_0.15.csv\n",
      "/home/yxzeng/code_python/QoS_Eraser/Result/MF/part_type_5/tp/slices_5/time/Final_time_density_tp_0.20.csv\n",
      "/home/yxzeng/code_python/QoS_Eraser/Result/MF/part_type_5/tp/slices_5/time/Final_time_density_tp_0.25.csv\n",
      "/home/yxzeng/code_python/QoS_Eraser/Result/MF/part_type_5/tp/slices_5/time/Final_time_density_tp_0.30.csv\n",
      "----------------------------------------------------------------------------------------------------------------------------------\n",
      "Pure SISA experiment!\n",
      "/home/yxzeng/code_python/QoS_Eraser/Result/GraphMF/part_type_10/rt/slices_1/metrics/Final_result_density_rt_0.10.csv\n",
      "/home/yxzeng/code_python/QoS_Eraser/Result/GraphMF/part_type_10/rt/slices_1/metrics/Final_result_density_rt_0.15.csv\n",
      "/home/yxzeng/code_python/QoS_Eraser/Result/GraphMF/part_type_10/rt/slices_1/metrics/Final_result_density_rt_0.20.csv\n",
      "/home/yxzeng/code_python/QoS_Eraser/Result/GraphMF/part_type_10/rt/slices_1/metrics/Final_result_density_rt_0.25.csv\n",
      "/home/yxzeng/code_python/QoS_Eraser/Result/GraphMF/part_type_10/rt/slices_1/metrics/Final_result_density_rt_0.30.csv\n",
      "----------------------------------------------------------------------------------------------------------------------------------\n",
      "/home/yxzeng/code_python/QoS_Eraser/Result/GraphMF/part_type_10/rt/slices_1/time/Final_time_density_rt_0.10.csv\n",
      "/home/yxzeng/code_python/QoS_Eraser/Result/GraphMF/part_type_10/rt/slices_1/time/Final_time_density_rt_0.15.csv\n",
      "/home/yxzeng/code_python/QoS_Eraser/Result/GraphMF/part_type_10/rt/slices_1/time/Final_time_density_rt_0.20.csv\n",
      "/home/yxzeng/code_python/QoS_Eraser/Result/GraphMF/part_type_10/rt/slices_1/time/Final_time_density_rt_0.25.csv\n",
      "/home/yxzeng/code_python/QoS_Eraser/Result/GraphMF/part_type_10/rt/slices_1/time/Final_time_density_rt_0.30.csv\n",
      "----------------------------------------------------------------------------------------------------------------------------------\n",
      "Pure SISA experiment!\n",
      "/home/yxzeng/code_python/QoS_Eraser/Result/GraphMF/part_type_1/rt/slices_5/metrics/Final_result_density_rt_0.10.csv\n",
      "/home/yxzeng/code_python/QoS_Eraser/Result/GraphMF/part_type_1/rt/slices_5/metrics/Final_result_density_rt_0.15.csv\n",
      "/home/yxzeng/code_python/QoS_Eraser/Result/GraphMF/part_type_1/rt/slices_5/metrics/Final_result_density_rt_0.20.csv\n",
      "/home/yxzeng/code_python/QoS_Eraser/Result/GraphMF/part_type_1/rt/slices_5/metrics/Final_result_density_rt_0.25.csv\n",
      "/home/yxzeng/code_python/QoS_Eraser/Result/GraphMF/part_type_1/rt/slices_5/metrics/Final_result_density_rt_0.30.csv\n",
      "----------------------------------------------------------------------------------------------------------------------------------\n",
      "/home/yxzeng/code_python/QoS_Eraser/Result/GraphMF/part_type_1/rt/slices_5/time/Final_time_density_rt_0.10.csv\n",
      "/home/yxzeng/code_python/QoS_Eraser/Result/GraphMF/part_type_1/rt/slices_5/time/Final_time_density_rt_0.15.csv\n",
      "/home/yxzeng/code_python/QoS_Eraser/Result/GraphMF/part_type_1/rt/slices_5/time/Final_time_density_rt_0.20.csv\n",
      "/home/yxzeng/code_python/QoS_Eraser/Result/GraphMF/part_type_1/rt/slices_5/time/Final_time_density_rt_0.25.csv\n",
      "/home/yxzeng/code_python/QoS_Eraser/Result/GraphMF/part_type_1/rt/slices_5/time/Final_time_density_rt_0.30.csv\n",
      "----------------------------------------------------------------------------------------------------------------------------------\n",
      "node2vec experiment!\n",
      "/home/yxzeng/code_python/QoS_Eraser/Result/GraphMF/part_type_3/rt/slices_5/metrics/Final_result_density_rt_0.10.csv\n",
      "/home/yxzeng/code_python/QoS_Eraser/Result/GraphMF/part_type_3/rt/slices_5/metrics/Final_result_density_rt_0.15.csv\n",
      "/home/yxzeng/code_python/QoS_Eraser/Result/GraphMF/part_type_3/rt/slices_5/metrics/Final_result_density_rt_0.20.csv\n",
      "/home/yxzeng/code_python/QoS_Eraser/Result/GraphMF/part_type_3/rt/slices_5/metrics/Final_result_density_rt_0.25.csv\n",
      "/home/yxzeng/code_python/QoS_Eraser/Result/GraphMF/part_type_3/rt/slices_5/metrics/Final_result_density_rt_0.30.csv\n",
      "----------------------------------------------------------------------------------------------------------------------------------\n",
      "/home/yxzeng/code_python/QoS_Eraser/Result/GraphMF/part_type_3/rt/slices_5/time/Final_time_density_rt_0.10.csv\n",
      "/home/yxzeng/code_python/QoS_Eraser/Result/GraphMF/part_type_3/rt/slices_5/time/Final_time_density_rt_0.15.csv\n",
      "/home/yxzeng/code_python/QoS_Eraser/Result/GraphMF/part_type_3/rt/slices_5/time/Final_time_density_rt_0.20.csv\n",
      "/home/yxzeng/code_python/QoS_Eraser/Result/GraphMF/part_type_3/rt/slices_5/time/Final_time_density_rt_0.25.csv\n",
      "/home/yxzeng/code_python/QoS_Eraser/Result/GraphMF/part_type_3/rt/slices_5/time/Final_time_density_rt_0.30.csv\n",
      "----------------------------------------------------------------------------------------------------------------------------------\n",
      "Pure SISA experiment!\n",
      "/home/yxzeng/code_python/QoS_Eraser/Result/GraphMF/part_type_5/rt/slices_5/metrics/Final_result_density_rt_0.10.csv\n",
      "/home/yxzeng/code_python/QoS_Eraser/Result/GraphMF/part_type_5/rt/slices_5/metrics/Final_result_density_rt_0.15.csv\n",
      "/home/yxzeng/code_python/QoS_Eraser/Result/GraphMF/part_type_5/rt/slices_5/metrics/Final_result_density_rt_0.20.csv\n",
      "/home/yxzeng/code_python/QoS_Eraser/Result/GraphMF/part_type_5/rt/slices_5/metrics/Final_result_density_rt_0.25.csv\n",
      "/home/yxzeng/code_python/QoS_Eraser/Result/GraphMF/part_type_5/rt/slices_5/metrics/Final_result_density_rt_0.30.csv\n",
      "----------------------------------------------------------------------------------------------------------------------------------\n",
      "/home/yxzeng/code_python/QoS_Eraser/Result/GraphMF/part_type_5/rt/slices_5/time/Final_time_density_rt_0.10.csv\n",
      "/home/yxzeng/code_python/QoS_Eraser/Result/GraphMF/part_type_5/rt/slices_5/time/Final_time_density_rt_0.15.csv\n",
      "/home/yxzeng/code_python/QoS_Eraser/Result/GraphMF/part_type_5/rt/slices_5/time/Final_time_density_rt_0.20.csv\n",
      "/home/yxzeng/code_python/QoS_Eraser/Result/GraphMF/part_type_5/rt/slices_5/time/Final_time_density_rt_0.25.csv\n",
      "/home/yxzeng/code_python/QoS_Eraser/Result/GraphMF/part_type_5/rt/slices_5/time/Final_time_density_rt_0.30.csv\n",
      "----------------------------------------------------------------------------------------------------------------------------------\n",
      "Pure SISA experiment!\n",
      "/home/yxzeng/code_python/QoS_Eraser/Result/GraphMF/part_type_10/rt/slices_1/metrics/Final_result_density_rt_0.10.csv\n",
      "/home/yxzeng/code_python/QoS_Eraser/Result/GraphMF/part_type_10/rt/slices_1/metrics/Final_result_density_rt_0.15.csv\n",
      "/home/yxzeng/code_python/QoS_Eraser/Result/GraphMF/part_type_10/rt/slices_1/metrics/Final_result_density_rt_0.20.csv\n",
      "/home/yxzeng/code_python/QoS_Eraser/Result/GraphMF/part_type_10/rt/slices_1/metrics/Final_result_density_rt_0.25.csv\n",
      "/home/yxzeng/code_python/QoS_Eraser/Result/GraphMF/part_type_10/rt/slices_1/metrics/Final_result_density_rt_0.30.csv\n",
      "----------------------------------------------------------------------------------------------------------------------------------\n",
      "/home/yxzeng/code_python/QoS_Eraser/Result/GraphMF/part_type_10/rt/slices_1/time/Final_time_density_rt_0.10.csv\n",
      "/home/yxzeng/code_python/QoS_Eraser/Result/GraphMF/part_type_10/rt/slices_1/time/Final_time_density_rt_0.15.csv\n",
      "/home/yxzeng/code_python/QoS_Eraser/Result/GraphMF/part_type_10/rt/slices_1/time/Final_time_density_rt_0.20.csv\n",
      "/home/yxzeng/code_python/QoS_Eraser/Result/GraphMF/part_type_10/rt/slices_1/time/Final_time_density_rt_0.25.csv\n",
      "/home/yxzeng/code_python/QoS_Eraser/Result/GraphMF/part_type_10/rt/slices_1/time/Final_time_density_rt_0.30.csv\n",
      "----------------------------------------------------------------------------------------------------------------------------------\n",
      "Pure SISA experiment!\n",
      "/home/yxzeng/code_python/QoS_Eraser/Result/GraphMF/part_type_1/rt/slices_5/metrics/Final_result_density_rt_0.10.csv\n",
      "/home/yxzeng/code_python/QoS_Eraser/Result/GraphMF/part_type_1/rt/slices_5/metrics/Final_result_density_rt_0.15.csv\n",
      "/home/yxzeng/code_python/QoS_Eraser/Result/GraphMF/part_type_1/rt/slices_5/metrics/Final_result_density_rt_0.20.csv\n",
      "/home/yxzeng/code_python/QoS_Eraser/Result/GraphMF/part_type_1/rt/slices_5/metrics/Final_result_density_rt_0.25.csv\n",
      "/home/yxzeng/code_python/QoS_Eraser/Result/GraphMF/part_type_1/rt/slices_5/metrics/Final_result_density_rt_0.30.csv\n",
      "----------------------------------------------------------------------------------------------------------------------------------\n",
      "/home/yxzeng/code_python/QoS_Eraser/Result/GraphMF/part_type_1/rt/slices_5/time/Final_time_density_rt_0.10.csv\n",
      "/home/yxzeng/code_python/QoS_Eraser/Result/GraphMF/part_type_1/rt/slices_5/time/Final_time_density_rt_0.15.csv\n",
      "/home/yxzeng/code_python/QoS_Eraser/Result/GraphMF/part_type_1/rt/slices_5/time/Final_time_density_rt_0.20.csv\n",
      "/home/yxzeng/code_python/QoS_Eraser/Result/GraphMF/part_type_1/rt/slices_5/time/Final_time_density_rt_0.25.csv\n",
      "/home/yxzeng/code_python/QoS_Eraser/Result/GraphMF/part_type_1/rt/slices_5/time/Final_time_density_rt_0.30.csv\n",
      "----------------------------------------------------------------------------------------------------------------------------------\n",
      "node2vec experiment!\n",
      "/home/yxzeng/code_python/QoS_Eraser/Result/GraphMF/part_type_3/rt/slices_5/metrics/Final_result_density_rt_0.10.csv\n",
      "/home/yxzeng/code_python/QoS_Eraser/Result/GraphMF/part_type_3/rt/slices_5/metrics/Final_result_density_rt_0.15.csv\n",
      "/home/yxzeng/code_python/QoS_Eraser/Result/GraphMF/part_type_3/rt/slices_5/metrics/Final_result_density_rt_0.20.csv\n",
      "/home/yxzeng/code_python/QoS_Eraser/Result/GraphMF/part_type_3/rt/slices_5/metrics/Final_result_density_rt_0.25.csv\n",
      "/home/yxzeng/code_python/QoS_Eraser/Result/GraphMF/part_type_3/rt/slices_5/metrics/Final_result_density_rt_0.30.csv\n",
      "----------------------------------------------------------------------------------------------------------------------------------\n",
      "/home/yxzeng/code_python/QoS_Eraser/Result/GraphMF/part_type_3/rt/slices_5/time/Final_time_density_rt_0.10.csv\n",
      "/home/yxzeng/code_python/QoS_Eraser/Result/GraphMF/part_type_3/rt/slices_5/time/Final_time_density_rt_0.15.csv\n",
      "/home/yxzeng/code_python/QoS_Eraser/Result/GraphMF/part_type_3/rt/slices_5/time/Final_time_density_rt_0.20.csv\n",
      "/home/yxzeng/code_python/QoS_Eraser/Result/GraphMF/part_type_3/rt/slices_5/time/Final_time_density_rt_0.25.csv\n",
      "/home/yxzeng/code_python/QoS_Eraser/Result/GraphMF/part_type_3/rt/slices_5/time/Final_time_density_rt_0.30.csv\n",
      "----------------------------------------------------------------------------------------------------------------------------------\n",
      "Pure SISA experiment!\n",
      "/home/yxzeng/code_python/QoS_Eraser/Result/GraphMF/part_type_5/rt/slices_5/metrics/Final_result_density_rt_0.10.csv\n",
      "/home/yxzeng/code_python/QoS_Eraser/Result/GraphMF/part_type_5/rt/slices_5/metrics/Final_result_density_rt_0.15.csv\n",
      "/home/yxzeng/code_python/QoS_Eraser/Result/GraphMF/part_type_5/rt/slices_5/metrics/Final_result_density_rt_0.20.csv\n",
      "/home/yxzeng/code_python/QoS_Eraser/Result/GraphMF/part_type_5/rt/slices_5/metrics/Final_result_density_rt_0.25.csv\n",
      "/home/yxzeng/code_python/QoS_Eraser/Result/GraphMF/part_type_5/rt/slices_5/metrics/Final_result_density_rt_0.30.csv\n",
      "----------------------------------------------------------------------------------------------------------------------------------\n",
      "/home/yxzeng/code_python/QoS_Eraser/Result/GraphMF/part_type_5/rt/slices_5/time/Final_time_density_rt_0.10.csv\n",
      "/home/yxzeng/code_python/QoS_Eraser/Result/GraphMF/part_type_5/rt/slices_5/time/Final_time_density_rt_0.15.csv\n",
      "/home/yxzeng/code_python/QoS_Eraser/Result/GraphMF/part_type_5/rt/slices_5/time/Final_time_density_rt_0.20.csv\n",
      "/home/yxzeng/code_python/QoS_Eraser/Result/GraphMF/part_type_5/rt/slices_5/time/Final_time_density_rt_0.25.csv\n",
      "/home/yxzeng/code_python/QoS_Eraser/Result/GraphMF/part_type_5/rt/slices_5/time/Final_time_density_rt_0.30.csv\n",
      "----------------------------------------------------------------------------------------------------------------------------------\n",
      "Pure SISA experiment!\n",
      "/home/yxzeng/code_python/QoS_Eraser/Result/GraphMF/part_type_10/tp/slices_1/metrics/Final_result_density_tp_0.10.csv\n",
      "/home/yxzeng/code_python/QoS_Eraser/Result/GraphMF/part_type_10/tp/slices_1/metrics/Final_result_density_tp_0.15.csv\n",
      "/home/yxzeng/code_python/QoS_Eraser/Result/GraphMF/part_type_10/tp/slices_1/metrics/Final_result_density_tp_0.20.csv\n",
      "/home/yxzeng/code_python/QoS_Eraser/Result/GraphMF/part_type_10/tp/slices_1/metrics/Final_result_density_tp_0.25.csv\n",
      "/home/yxzeng/code_python/QoS_Eraser/Result/GraphMF/part_type_10/tp/slices_1/metrics/Final_result_density_tp_0.30.csv\n",
      "----------------------------------------------------------------------------------------------------------------------------------\n",
      "/home/yxzeng/code_python/QoS_Eraser/Result/GraphMF/part_type_10/tp/slices_1/time/Final_time_density_tp_0.10.csv\n",
      "/home/yxzeng/code_python/QoS_Eraser/Result/GraphMF/part_type_10/tp/slices_1/time/Final_time_density_tp_0.15.csv\n",
      "/home/yxzeng/code_python/QoS_Eraser/Result/GraphMF/part_type_10/tp/slices_1/time/Final_time_density_tp_0.20.csv\n",
      "/home/yxzeng/code_python/QoS_Eraser/Result/GraphMF/part_type_10/tp/slices_1/time/Final_time_density_tp_0.25.csv\n",
      "/home/yxzeng/code_python/QoS_Eraser/Result/GraphMF/part_type_10/tp/slices_1/time/Final_time_density_tp_0.30.csv\n",
      "----------------------------------------------------------------------------------------------------------------------------------\n",
      "Pure SISA experiment!\n",
      "/home/yxzeng/code_python/QoS_Eraser/Result/GraphMF/part_type_1/tp/slices_5/metrics/Final_result_density_tp_0.10.csv\n",
      "/home/yxzeng/code_python/QoS_Eraser/Result/GraphMF/part_type_1/tp/slices_5/metrics/Final_result_density_tp_0.15.csv\n",
      "/home/yxzeng/code_python/QoS_Eraser/Result/GraphMF/part_type_1/tp/slices_5/metrics/Final_result_density_tp_0.20.csv\n",
      "/home/yxzeng/code_python/QoS_Eraser/Result/GraphMF/part_type_1/tp/slices_5/metrics/Final_result_density_tp_0.25.csv\n",
      "/home/yxzeng/code_python/QoS_Eraser/Result/GraphMF/part_type_1/tp/slices_5/metrics/Final_result_density_tp_0.30.csv\n",
      "----------------------------------------------------------------------------------------------------------------------------------\n",
      "/home/yxzeng/code_python/QoS_Eraser/Result/GraphMF/part_type_1/tp/slices_5/time/Final_time_density_tp_0.10.csv\n",
      "/home/yxzeng/code_python/QoS_Eraser/Result/GraphMF/part_type_1/tp/slices_5/time/Final_time_density_tp_0.15.csv\n",
      "/home/yxzeng/code_python/QoS_Eraser/Result/GraphMF/part_type_1/tp/slices_5/time/Final_time_density_tp_0.20.csv\n",
      "/home/yxzeng/code_python/QoS_Eraser/Result/GraphMF/part_type_1/tp/slices_5/time/Final_time_density_tp_0.25.csv\n",
      "/home/yxzeng/code_python/QoS_Eraser/Result/GraphMF/part_type_1/tp/slices_5/time/Final_time_density_tp_0.30.csv\n",
      "----------------------------------------------------------------------------------------------------------------------------------\n",
      "node2vec experiment!\n",
      "/home/yxzeng/code_python/QoS_Eraser/Result/GraphMF/part_type_3/tp/slices_5/metrics/Final_result_density_tp_0.10.csv\n",
      "/home/yxzeng/code_python/QoS_Eraser/Result/GraphMF/part_type_3/tp/slices_5/metrics/Final_result_density_tp_0.15.csv\n",
      "/home/yxzeng/code_python/QoS_Eraser/Result/GraphMF/part_type_3/tp/slices_5/metrics/Final_result_density_tp_0.20.csv\n",
      "/home/yxzeng/code_python/QoS_Eraser/Result/GraphMF/part_type_3/tp/slices_5/metrics/Final_result_density_tp_0.25.csv\n",
      "/home/yxzeng/code_python/QoS_Eraser/Result/GraphMF/part_type_3/tp/slices_5/metrics/Final_result_density_tp_0.30.csv\n",
      "----------------------------------------------------------------------------------------------------------------------------------\n",
      "/home/yxzeng/code_python/QoS_Eraser/Result/GraphMF/part_type_3/tp/slices_5/time/Final_time_density_tp_0.10.csv\n",
      "/home/yxzeng/code_python/QoS_Eraser/Result/GraphMF/part_type_3/tp/slices_5/time/Final_time_density_tp_0.15.csv\n",
      "/home/yxzeng/code_python/QoS_Eraser/Result/GraphMF/part_type_3/tp/slices_5/time/Final_time_density_tp_0.20.csv\n",
      "/home/yxzeng/code_python/QoS_Eraser/Result/GraphMF/part_type_3/tp/slices_5/time/Final_time_density_tp_0.25.csv\n",
      "/home/yxzeng/code_python/QoS_Eraser/Result/GraphMF/part_type_3/tp/slices_5/time/Final_time_density_tp_0.30.csv\n",
      "----------------------------------------------------------------------------------------------------------------------------------\n",
      "Pure SISA experiment!\n",
      "/home/yxzeng/code_python/QoS_Eraser/Result/GraphMF/part_type_5/tp/slices_5/metrics/Final_result_density_tp_0.10.csv\n",
      "/home/yxzeng/code_python/QoS_Eraser/Result/GraphMF/part_type_5/tp/slices_5/metrics/Final_result_density_tp_0.15.csv\n",
      "/home/yxzeng/code_python/QoS_Eraser/Result/GraphMF/part_type_5/tp/slices_5/metrics/Final_result_density_tp_0.20.csv\n",
      "/home/yxzeng/code_python/QoS_Eraser/Result/GraphMF/part_type_5/tp/slices_5/metrics/Final_result_density_tp_0.25.csv\n",
      "/home/yxzeng/code_python/QoS_Eraser/Result/GraphMF/part_type_5/tp/slices_5/metrics/Final_result_density_tp_0.30.csv\n",
      "----------------------------------------------------------------------------------------------------------------------------------\n",
      "/home/yxzeng/code_python/QoS_Eraser/Result/GraphMF/part_type_5/tp/slices_5/time/Final_time_density_tp_0.10.csv\n",
      "/home/yxzeng/code_python/QoS_Eraser/Result/GraphMF/part_type_5/tp/slices_5/time/Final_time_density_tp_0.15.csv\n",
      "/home/yxzeng/code_python/QoS_Eraser/Result/GraphMF/part_type_5/tp/slices_5/time/Final_time_density_tp_0.20.csv\n",
      "/home/yxzeng/code_python/QoS_Eraser/Result/GraphMF/part_type_5/tp/slices_5/time/Final_time_density_tp_0.25.csv\n",
      "/home/yxzeng/code_python/QoS_Eraser/Result/GraphMF/part_type_5/tp/slices_5/time/Final_time_density_tp_0.30.csv\n",
      "----------------------------------------------------------------------------------------------------------------------------------\n",
      "Pure SISA experiment!\n",
      "/home/yxzeng/code_python/QoS_Eraser/Result/GraphMF/part_type_10/tp/slices_1/metrics/Final_result_density_tp_0.10.csv\n",
      "/home/yxzeng/code_python/QoS_Eraser/Result/GraphMF/part_type_10/tp/slices_1/metrics/Final_result_density_tp_0.15.csv\n",
      "/home/yxzeng/code_python/QoS_Eraser/Result/GraphMF/part_type_10/tp/slices_1/metrics/Final_result_density_tp_0.20.csv\n",
      "/home/yxzeng/code_python/QoS_Eraser/Result/GraphMF/part_type_10/tp/slices_1/metrics/Final_result_density_tp_0.25.csv\n",
      "/home/yxzeng/code_python/QoS_Eraser/Result/GraphMF/part_type_10/tp/slices_1/metrics/Final_result_density_tp_0.30.csv\n",
      "----------------------------------------------------------------------------------------------------------------------------------\n",
      "/home/yxzeng/code_python/QoS_Eraser/Result/GraphMF/part_type_10/tp/slices_1/time/Final_time_density_tp_0.10.csv\n",
      "/home/yxzeng/code_python/QoS_Eraser/Result/GraphMF/part_type_10/tp/slices_1/time/Final_time_density_tp_0.15.csv\n",
      "/home/yxzeng/code_python/QoS_Eraser/Result/GraphMF/part_type_10/tp/slices_1/time/Final_time_density_tp_0.20.csv\n",
      "/home/yxzeng/code_python/QoS_Eraser/Result/GraphMF/part_type_10/tp/slices_1/time/Final_time_density_tp_0.25.csv\n",
      "/home/yxzeng/code_python/QoS_Eraser/Result/GraphMF/part_type_10/tp/slices_1/time/Final_time_density_tp_0.30.csv\n",
      "----------------------------------------------------------------------------------------------------------------------------------\n",
      "Pure SISA experiment!\n",
      "/home/yxzeng/code_python/QoS_Eraser/Result/GraphMF/part_type_1/tp/slices_5/metrics/Final_result_density_tp_0.10.csv\n",
      "/home/yxzeng/code_python/QoS_Eraser/Result/GraphMF/part_type_1/tp/slices_5/metrics/Final_result_density_tp_0.15.csv\n",
      "/home/yxzeng/code_python/QoS_Eraser/Result/GraphMF/part_type_1/tp/slices_5/metrics/Final_result_density_tp_0.20.csv\n",
      "/home/yxzeng/code_python/QoS_Eraser/Result/GraphMF/part_type_1/tp/slices_5/metrics/Final_result_density_tp_0.25.csv\n",
      "/home/yxzeng/code_python/QoS_Eraser/Result/GraphMF/part_type_1/tp/slices_5/metrics/Final_result_density_tp_0.30.csv\n",
      "----------------------------------------------------------------------------------------------------------------------------------\n",
      "/home/yxzeng/code_python/QoS_Eraser/Result/GraphMF/part_type_1/tp/slices_5/time/Final_time_density_tp_0.10.csv\n",
      "/home/yxzeng/code_python/QoS_Eraser/Result/GraphMF/part_type_1/tp/slices_5/time/Final_time_density_tp_0.15.csv\n",
      "/home/yxzeng/code_python/QoS_Eraser/Result/GraphMF/part_type_1/tp/slices_5/time/Final_time_density_tp_0.20.csv\n",
      "/home/yxzeng/code_python/QoS_Eraser/Result/GraphMF/part_type_1/tp/slices_5/time/Final_time_density_tp_0.25.csv\n",
      "/home/yxzeng/code_python/QoS_Eraser/Result/GraphMF/part_type_1/tp/slices_5/time/Final_time_density_tp_0.30.csv\n",
      "----------------------------------------------------------------------------------------------------------------------------------\n",
      "node2vec experiment!\n",
      "/home/yxzeng/code_python/QoS_Eraser/Result/GraphMF/part_type_3/tp/slices_5/metrics/Final_result_density_tp_0.10.csv\n",
      "/home/yxzeng/code_python/QoS_Eraser/Result/GraphMF/part_type_3/tp/slices_5/metrics/Final_result_density_tp_0.15.csv\n",
      "/home/yxzeng/code_python/QoS_Eraser/Result/GraphMF/part_type_3/tp/slices_5/metrics/Final_result_density_tp_0.20.csv\n",
      "/home/yxzeng/code_python/QoS_Eraser/Result/GraphMF/part_type_3/tp/slices_5/metrics/Final_result_density_tp_0.25.csv\n",
      "/home/yxzeng/code_python/QoS_Eraser/Result/GraphMF/part_type_3/tp/slices_5/metrics/Final_result_density_tp_0.30.csv\n",
      "----------------------------------------------------------------------------------------------------------------------------------\n",
      "/home/yxzeng/code_python/QoS_Eraser/Result/GraphMF/part_type_3/tp/slices_5/time/Final_time_density_tp_0.10.csv\n",
      "/home/yxzeng/code_python/QoS_Eraser/Result/GraphMF/part_type_3/tp/slices_5/time/Final_time_density_tp_0.15.csv\n",
      "/home/yxzeng/code_python/QoS_Eraser/Result/GraphMF/part_type_3/tp/slices_5/time/Final_time_density_tp_0.20.csv\n",
      "/home/yxzeng/code_python/QoS_Eraser/Result/GraphMF/part_type_3/tp/slices_5/time/Final_time_density_tp_0.25.csv\n",
      "/home/yxzeng/code_python/QoS_Eraser/Result/GraphMF/part_type_3/tp/slices_5/time/Final_time_density_tp_0.30.csv\n",
      "----------------------------------------------------------------------------------------------------------------------------------\n",
      "Pure SISA experiment!\n",
      "/home/yxzeng/code_python/QoS_Eraser/Result/GraphMF/part_type_5/tp/slices_5/metrics/Final_result_density_tp_0.10.csv\n",
      "/home/yxzeng/code_python/QoS_Eraser/Result/GraphMF/part_type_5/tp/slices_5/metrics/Final_result_density_tp_0.15.csv\n",
      "/home/yxzeng/code_python/QoS_Eraser/Result/GraphMF/part_type_5/tp/slices_5/metrics/Final_result_density_tp_0.20.csv\n",
      "/home/yxzeng/code_python/QoS_Eraser/Result/GraphMF/part_type_5/tp/slices_5/metrics/Final_result_density_tp_0.25.csv\n",
      "/home/yxzeng/code_python/QoS_Eraser/Result/GraphMF/part_type_5/tp/slices_5/metrics/Final_result_density_tp_0.30.csv\n",
      "----------------------------------------------------------------------------------------------------------------------------------\n",
      "/home/yxzeng/code_python/QoS_Eraser/Result/GraphMF/part_type_5/tp/slices_5/time/Final_time_density_tp_0.10.csv\n",
      "/home/yxzeng/code_python/QoS_Eraser/Result/GraphMF/part_type_5/tp/slices_5/time/Final_time_density_tp_0.15.csv\n",
      "/home/yxzeng/code_python/QoS_Eraser/Result/GraphMF/part_type_5/tp/slices_5/time/Final_time_density_tp_0.20.csv\n",
      "/home/yxzeng/code_python/QoS_Eraser/Result/GraphMF/part_type_5/tp/slices_5/time/Final_time_density_tp_0.25.csv\n",
      "/home/yxzeng/code_python/QoS_Eraser/Result/GraphMF/part_type_5/tp/slices_5/time/Final_time_density_tp_0.30.csv\n",
      "----------------------------------------------------------------------------------------------------------------------------------\n",
      "Pure SISA experiment!\n"
     ]
    },
    {
     "data": {
      "text/plain": "        Retrain       SISA  Receraser    balance   **   **    Retrain  \\\n0.10   0.392078   0.482301   0.476795   0.396871  0.0  0.0   0.381232   \n0.15   0.363028   0.447009   0.445929   0.369182  0.0  0.0   0.352104   \n0.20   0.346025   0.428050   0.421950   0.354376  0.0  0.0   0.332131   \n0.25   0.333460   0.400578   0.401849   0.344369  0.0  0.0   0.321007   \n0.30   0.322231   0.386466   0.393714   0.332609  0.0  0.0   0.311297   \n--     0.000000   0.000000   0.000000   0.000000  0.0  0.0   0.000000   \n0.10   0.431424   0.530998   0.524875   0.436891  0.0  0.0   0.419521   \n0.15   0.399488   0.492049   0.490766   0.406377  0.0  0.0   0.387357   \n0.20   0.380859   0.471497   0.464453   0.390112  0.0  0.0   0.365400   \n0.25   0.366833   0.441038   0.442376   0.378887  0.0  0.0   0.353164   \n0.30   0.354643   0.425635   0.433456   0.366236  0.0  0.0   0.342702   \n--     0.000000   0.000000   0.000000   0.000000  0.0  0.0   0.000000   \n0.10  16.512076  24.349040  22.936802  18.474222  0.0  0.0  13.971522   \n0.15  15.105738  20.118294  19.949474  16.513690  0.0  0.0  12.828636   \n0.20  13.949186  18.351050  18.478191  14.784818  0.0  0.0  11.991392   \n0.25  13.243787  16.689625  17.519193  14.307692  0.0  0.0  11.371379   \n0.30  12.449648  15.759127  17.078354  13.676521  0.0  0.0  11.041444   \n--     0.000000   0.000000   0.000000   0.000000  0.0  0.0   0.000000   \n0.10   0.347242   0.511777   0.482366   0.388379  0.0  0.0   0.293879   \n0.15   0.317647   0.422874   0.419391   0.347219  0.0  0.0   0.269765   \n0.20   0.293232   0.385838   0.388579   0.310873  0.0  0.0   0.252061   \n0.25   0.278368   0.350686   0.368544   0.300831  0.0  0.0   0.239113   \n0.30   0.261662   0.331268   0.359345   0.287667  0.0  0.0   0.232154   \n\n           SISA  Receraser    balance  ...    Retrain       SISA  Receraser  \\\n0.10   0.553634   0.524577   0.440785  ...   0.421913   0.751829   0.746751   \n0.15   0.521528   0.511020   0.410742  ...   0.371186   0.711287   0.736763   \n0.20   0.514238   0.494511   0.403900  ...   0.354635   0.695839   0.727730   \n0.25   0.492257   0.476160   0.390911  ...   0.345227   0.676129   0.702522   \n0.30   0.492931   0.461915   0.393640  ...   0.338208   0.674864   0.689608   \n--     0.000000   0.000000   0.000000  ...   0.000000   0.000000   0.000000   \n0.10   0.609393   0.577429   0.485055  ...   0.464470   0.827147   0.821947   \n0.15   0.573946   0.562791   0.451846  ...   0.408538   0.782927   0.810518   \n0.20   0.565938   0.544128   0.444642  ...   0.390518   0.765723   0.800783   \n0.25   0.541614   0.523767   0.430160  ...   0.379931   0.744515   0.773922   \n0.30   0.542911   0.508348   0.432998  ...   0.372070   0.742799   0.759038   \n--     0.000000   0.000000   0.000000  ...   0.000000   0.000000   0.000000   \n0.10  23.513325  22.771120  20.958466  ...  16.426994  41.385647  41.523693   \n0.15  22.547432  22.141546  19.479916  ...  14.493483  38.715672  38.711426   \n0.20  22.117840  21.075153  19.560162  ...  13.636238  37.959404  35.515090   \n0.25  21.868866  20.459267  18.703306  ...  13.125734  36.393730  33.154380   \n0.30  21.274975  19.894140  18.606686  ...  12.894151  34.922030  30.909857   \n--     0.000000   0.000000   0.000000  ...   0.000000   0.000000   0.000000   \n0.10   0.494322   0.478894   0.440528  ...   0.345584   0.870787   0.872964   \n0.15   0.474267   0.465523   0.409254  ...   0.304673   0.813932   0.813904   \n0.20   0.465074   0.443159   0.411310  ...   0.286819   0.797906   0.746482   \n0.25   0.459877   0.430295   0.392968  ...   0.275956   0.765601   0.697731   \n0.30   0.447477   0.418511   0.391300  ...   0.270995   0.733897   0.649703   \n\n        balance   **   **    Retrain       SISA  Receraser    balance  \n0.10   0.568700  0.0  0.0   0.321518   0.346552   0.368496   0.341432  \n0.15   0.506450  0.0  0.0   0.306773   0.328515   0.347934   0.324625  \n0.20   0.486147  0.0  0.0   0.299721   0.318232   0.338666   0.312838  \n0.25   0.451137  0.0  0.0   0.293260   0.309600   0.327587   0.306653  \n0.30   0.453907  0.0  0.0   0.288732   0.305141   0.321771   0.301734  \n--     0.000000  0.0  0.0   0.000000   0.000000   0.000000   0.000000  \n0.10   0.626001  0.0  0.0   0.353885   0.381429   0.405631   0.375890  \n0.15   0.557366  0.0  0.0   0.337634   0.361548   0.382844   0.357349  \n0.20   0.534890  0.0  0.0   0.329798   0.350095   0.372464   0.344489  \n0.25   0.496780  0.0  0.0   0.322822   0.340762   0.360766   0.337672  \n0.30   0.499729  0.0  0.0   0.317914   0.335751   0.354260   0.332080  \n--     0.000000  0.0  0.0   0.000000   0.000000   0.000000   0.000000  \n0.10  24.277304  0.0  0.0  11.740687  13.676613  15.089726  13.636343  \n0.15  21.245903  0.0  0.0  10.848979  12.634592  13.989352  12.760710  \n0.20  20.115984  0.0  0.0  10.314256  11.937988  13.281751  12.083125  \n0.25  18.984800  0.0  0.0   9.958744  11.394626  12.813992  11.651347  \n0.30  19.548567  0.0  0.0   9.760403  10.981550  12.410585  11.328133  \n--     0.000000  0.0  0.0   0.000000   0.000000   0.000000   0.000000  \n0.10   0.510406  0.0  0.0   0.246875   0.287542   0.317269   0.286777  \n0.15   0.446738  0.0  0.0   0.228156   0.265594   0.294078   0.268362  \n0.20   0.422900  0.0  0.0   0.216842   0.251002   0.279309   0.254072  \n0.25   0.399273  0.0  0.0   0.209371   0.239279   0.269350   0.244821  \n0.30   0.410993  0.0  0.0   0.205370   0.230878   0.261148   0.238181  \n\n[23 rows x 22 columns]",
      "text/html": "<div>\n<style scoped>\n    .dataframe tbody tr th:only-of-type {\n        vertical-align: middle;\n    }\n\n    .dataframe tbody tr th {\n        vertical-align: top;\n    }\n\n    .dataframe thead th {\n        text-align: right;\n    }\n</style>\n<table border=\"1\" class=\"dataframe\">\n  <thead>\n    <tr style=\"text-align: right;\">\n      <th></th>\n      <th>Retrain</th>\n      <th>SISA</th>\n      <th>Receraser</th>\n      <th>balance</th>\n      <th>**</th>\n      <th>**</th>\n      <th>Retrain</th>\n      <th>SISA</th>\n      <th>Receraser</th>\n      <th>balance</th>\n      <th>...</th>\n      <th>Retrain</th>\n      <th>SISA</th>\n      <th>Receraser</th>\n      <th>balance</th>\n      <th>**</th>\n      <th>**</th>\n      <th>Retrain</th>\n      <th>SISA</th>\n      <th>Receraser</th>\n      <th>balance</th>\n    </tr>\n  </thead>\n  <tbody>\n    <tr>\n      <th>0.10</th>\n      <td>0.392078</td>\n      <td>0.482301</td>\n      <td>0.476795</td>\n      <td>0.396871</td>\n      <td>0.0</td>\n      <td>0.0</td>\n      <td>0.381232</td>\n      <td>0.553634</td>\n      <td>0.524577</td>\n      <td>0.440785</td>\n      <td>...</td>\n      <td>0.421913</td>\n      <td>0.751829</td>\n      <td>0.746751</td>\n      <td>0.568700</td>\n      <td>0.0</td>\n      <td>0.0</td>\n      <td>0.321518</td>\n      <td>0.346552</td>\n      <td>0.368496</td>\n      <td>0.341432</td>\n    </tr>\n    <tr>\n      <th>0.15</th>\n      <td>0.363028</td>\n      <td>0.447009</td>\n      <td>0.445929</td>\n      <td>0.369182</td>\n      <td>0.0</td>\n      <td>0.0</td>\n      <td>0.352104</td>\n      <td>0.521528</td>\n      <td>0.511020</td>\n      <td>0.410742</td>\n      <td>...</td>\n      <td>0.371186</td>\n      <td>0.711287</td>\n      <td>0.736763</td>\n      <td>0.506450</td>\n      <td>0.0</td>\n      <td>0.0</td>\n      <td>0.306773</td>\n      <td>0.328515</td>\n      <td>0.347934</td>\n      <td>0.324625</td>\n    </tr>\n    <tr>\n      <th>0.20</th>\n      <td>0.346025</td>\n      <td>0.428050</td>\n      <td>0.421950</td>\n      <td>0.354376</td>\n      <td>0.0</td>\n      <td>0.0</td>\n      <td>0.332131</td>\n      <td>0.514238</td>\n      <td>0.494511</td>\n      <td>0.403900</td>\n      <td>...</td>\n      <td>0.354635</td>\n      <td>0.695839</td>\n      <td>0.727730</td>\n      <td>0.486147</td>\n      <td>0.0</td>\n      <td>0.0</td>\n      <td>0.299721</td>\n      <td>0.318232</td>\n      <td>0.338666</td>\n      <td>0.312838</td>\n    </tr>\n    <tr>\n      <th>0.25</th>\n      <td>0.333460</td>\n      <td>0.400578</td>\n      <td>0.401849</td>\n      <td>0.344369</td>\n      <td>0.0</td>\n      <td>0.0</td>\n      <td>0.321007</td>\n      <td>0.492257</td>\n      <td>0.476160</td>\n      <td>0.390911</td>\n      <td>...</td>\n      <td>0.345227</td>\n      <td>0.676129</td>\n      <td>0.702522</td>\n      <td>0.451137</td>\n      <td>0.0</td>\n      <td>0.0</td>\n      <td>0.293260</td>\n      <td>0.309600</td>\n      <td>0.327587</td>\n      <td>0.306653</td>\n    </tr>\n    <tr>\n      <th>0.30</th>\n      <td>0.322231</td>\n      <td>0.386466</td>\n      <td>0.393714</td>\n      <td>0.332609</td>\n      <td>0.0</td>\n      <td>0.0</td>\n      <td>0.311297</td>\n      <td>0.492931</td>\n      <td>0.461915</td>\n      <td>0.393640</td>\n      <td>...</td>\n      <td>0.338208</td>\n      <td>0.674864</td>\n      <td>0.689608</td>\n      <td>0.453907</td>\n      <td>0.0</td>\n      <td>0.0</td>\n      <td>0.288732</td>\n      <td>0.305141</td>\n      <td>0.321771</td>\n      <td>0.301734</td>\n    </tr>\n    <tr>\n      <th>--</th>\n      <td>0.000000</td>\n      <td>0.000000</td>\n      <td>0.000000</td>\n      <td>0.000000</td>\n      <td>0.0</td>\n      <td>0.0</td>\n      <td>0.000000</td>\n      <td>0.000000</td>\n      <td>0.000000</td>\n      <td>0.000000</td>\n      <td>...</td>\n      <td>0.000000</td>\n      <td>0.000000</td>\n      <td>0.000000</td>\n      <td>0.000000</td>\n      <td>0.0</td>\n      <td>0.0</td>\n      <td>0.000000</td>\n      <td>0.000000</td>\n      <td>0.000000</td>\n      <td>0.000000</td>\n    </tr>\n    <tr>\n      <th>0.10</th>\n      <td>0.431424</td>\n      <td>0.530998</td>\n      <td>0.524875</td>\n      <td>0.436891</td>\n      <td>0.0</td>\n      <td>0.0</td>\n      <td>0.419521</td>\n      <td>0.609393</td>\n      <td>0.577429</td>\n      <td>0.485055</td>\n      <td>...</td>\n      <td>0.464470</td>\n      <td>0.827147</td>\n      <td>0.821947</td>\n      <td>0.626001</td>\n      <td>0.0</td>\n      <td>0.0</td>\n      <td>0.353885</td>\n      <td>0.381429</td>\n      <td>0.405631</td>\n      <td>0.375890</td>\n    </tr>\n    <tr>\n      <th>0.15</th>\n      <td>0.399488</td>\n      <td>0.492049</td>\n      <td>0.490766</td>\n      <td>0.406377</td>\n      <td>0.0</td>\n      <td>0.0</td>\n      <td>0.387357</td>\n      <td>0.573946</td>\n      <td>0.562791</td>\n      <td>0.451846</td>\n      <td>...</td>\n      <td>0.408538</td>\n      <td>0.782927</td>\n      <td>0.810518</td>\n      <td>0.557366</td>\n      <td>0.0</td>\n      <td>0.0</td>\n      <td>0.337634</td>\n      <td>0.361548</td>\n      <td>0.382844</td>\n      <td>0.357349</td>\n    </tr>\n    <tr>\n      <th>0.20</th>\n      <td>0.380859</td>\n      <td>0.471497</td>\n      <td>0.464453</td>\n      <td>0.390112</td>\n      <td>0.0</td>\n      <td>0.0</td>\n      <td>0.365400</td>\n      <td>0.565938</td>\n      <td>0.544128</td>\n      <td>0.444642</td>\n      <td>...</td>\n      <td>0.390518</td>\n      <td>0.765723</td>\n      <td>0.800783</td>\n      <td>0.534890</td>\n      <td>0.0</td>\n      <td>0.0</td>\n      <td>0.329798</td>\n      <td>0.350095</td>\n      <td>0.372464</td>\n      <td>0.344489</td>\n    </tr>\n    <tr>\n      <th>0.25</th>\n      <td>0.366833</td>\n      <td>0.441038</td>\n      <td>0.442376</td>\n      <td>0.378887</td>\n      <td>0.0</td>\n      <td>0.0</td>\n      <td>0.353164</td>\n      <td>0.541614</td>\n      <td>0.523767</td>\n      <td>0.430160</td>\n      <td>...</td>\n      <td>0.379931</td>\n      <td>0.744515</td>\n      <td>0.773922</td>\n      <td>0.496780</td>\n      <td>0.0</td>\n      <td>0.0</td>\n      <td>0.322822</td>\n      <td>0.340762</td>\n      <td>0.360766</td>\n      <td>0.337672</td>\n    </tr>\n    <tr>\n      <th>0.30</th>\n      <td>0.354643</td>\n      <td>0.425635</td>\n      <td>0.433456</td>\n      <td>0.366236</td>\n      <td>0.0</td>\n      <td>0.0</td>\n      <td>0.342702</td>\n      <td>0.542911</td>\n      <td>0.508348</td>\n      <td>0.432998</td>\n      <td>...</td>\n      <td>0.372070</td>\n      <td>0.742799</td>\n      <td>0.759038</td>\n      <td>0.499729</td>\n      <td>0.0</td>\n      <td>0.0</td>\n      <td>0.317914</td>\n      <td>0.335751</td>\n      <td>0.354260</td>\n      <td>0.332080</td>\n    </tr>\n    <tr>\n      <th>--</th>\n      <td>0.000000</td>\n      <td>0.000000</td>\n      <td>0.000000</td>\n      <td>0.000000</td>\n      <td>0.0</td>\n      <td>0.0</td>\n      <td>0.000000</td>\n      <td>0.000000</td>\n      <td>0.000000</td>\n      <td>0.000000</td>\n      <td>...</td>\n      <td>0.000000</td>\n      <td>0.000000</td>\n      <td>0.000000</td>\n      <td>0.000000</td>\n      <td>0.0</td>\n      <td>0.0</td>\n      <td>0.000000</td>\n      <td>0.000000</td>\n      <td>0.000000</td>\n      <td>0.000000</td>\n    </tr>\n    <tr>\n      <th>0.10</th>\n      <td>16.512076</td>\n      <td>24.349040</td>\n      <td>22.936802</td>\n      <td>18.474222</td>\n      <td>0.0</td>\n      <td>0.0</td>\n      <td>13.971522</td>\n      <td>23.513325</td>\n      <td>22.771120</td>\n      <td>20.958466</td>\n      <td>...</td>\n      <td>16.426994</td>\n      <td>41.385647</td>\n      <td>41.523693</td>\n      <td>24.277304</td>\n      <td>0.0</td>\n      <td>0.0</td>\n      <td>11.740687</td>\n      <td>13.676613</td>\n      <td>15.089726</td>\n      <td>13.636343</td>\n    </tr>\n    <tr>\n      <th>0.15</th>\n      <td>15.105738</td>\n      <td>20.118294</td>\n      <td>19.949474</td>\n      <td>16.513690</td>\n      <td>0.0</td>\n      <td>0.0</td>\n      <td>12.828636</td>\n      <td>22.547432</td>\n      <td>22.141546</td>\n      <td>19.479916</td>\n      <td>...</td>\n      <td>14.493483</td>\n      <td>38.715672</td>\n      <td>38.711426</td>\n      <td>21.245903</td>\n      <td>0.0</td>\n      <td>0.0</td>\n      <td>10.848979</td>\n      <td>12.634592</td>\n      <td>13.989352</td>\n      <td>12.760710</td>\n    </tr>\n    <tr>\n      <th>0.20</th>\n      <td>13.949186</td>\n      <td>18.351050</td>\n      <td>18.478191</td>\n      <td>14.784818</td>\n      <td>0.0</td>\n      <td>0.0</td>\n      <td>11.991392</td>\n      <td>22.117840</td>\n      <td>21.075153</td>\n      <td>19.560162</td>\n      <td>...</td>\n      <td>13.636238</td>\n      <td>37.959404</td>\n      <td>35.515090</td>\n      <td>20.115984</td>\n      <td>0.0</td>\n      <td>0.0</td>\n      <td>10.314256</td>\n      <td>11.937988</td>\n      <td>13.281751</td>\n      <td>12.083125</td>\n    </tr>\n    <tr>\n      <th>0.25</th>\n      <td>13.243787</td>\n      <td>16.689625</td>\n      <td>17.519193</td>\n      <td>14.307692</td>\n      <td>0.0</td>\n      <td>0.0</td>\n      <td>11.371379</td>\n      <td>21.868866</td>\n      <td>20.459267</td>\n      <td>18.703306</td>\n      <td>...</td>\n      <td>13.125734</td>\n      <td>36.393730</td>\n      <td>33.154380</td>\n      <td>18.984800</td>\n      <td>0.0</td>\n      <td>0.0</td>\n      <td>9.958744</td>\n      <td>11.394626</td>\n      <td>12.813992</td>\n      <td>11.651347</td>\n    </tr>\n    <tr>\n      <th>0.30</th>\n      <td>12.449648</td>\n      <td>15.759127</td>\n      <td>17.078354</td>\n      <td>13.676521</td>\n      <td>0.0</td>\n      <td>0.0</td>\n      <td>11.041444</td>\n      <td>21.274975</td>\n      <td>19.894140</td>\n      <td>18.606686</td>\n      <td>...</td>\n      <td>12.894151</td>\n      <td>34.922030</td>\n      <td>30.909857</td>\n      <td>19.548567</td>\n      <td>0.0</td>\n      <td>0.0</td>\n      <td>9.760403</td>\n      <td>10.981550</td>\n      <td>12.410585</td>\n      <td>11.328133</td>\n    </tr>\n    <tr>\n      <th>--</th>\n      <td>0.000000</td>\n      <td>0.000000</td>\n      <td>0.000000</td>\n      <td>0.000000</td>\n      <td>0.0</td>\n      <td>0.0</td>\n      <td>0.000000</td>\n      <td>0.000000</td>\n      <td>0.000000</td>\n      <td>0.000000</td>\n      <td>...</td>\n      <td>0.000000</td>\n      <td>0.000000</td>\n      <td>0.000000</td>\n      <td>0.000000</td>\n      <td>0.0</td>\n      <td>0.0</td>\n      <td>0.000000</td>\n      <td>0.000000</td>\n      <td>0.000000</td>\n      <td>0.000000</td>\n    </tr>\n    <tr>\n      <th>0.10</th>\n      <td>0.347242</td>\n      <td>0.511777</td>\n      <td>0.482366</td>\n      <td>0.388379</td>\n      <td>0.0</td>\n      <td>0.0</td>\n      <td>0.293879</td>\n      <td>0.494322</td>\n      <td>0.478894</td>\n      <td>0.440528</td>\n      <td>...</td>\n      <td>0.345584</td>\n      <td>0.870787</td>\n      <td>0.872964</td>\n      <td>0.510406</td>\n      <td>0.0</td>\n      <td>0.0</td>\n      <td>0.246875</td>\n      <td>0.287542</td>\n      <td>0.317269</td>\n      <td>0.286777</td>\n    </tr>\n    <tr>\n      <th>0.15</th>\n      <td>0.317647</td>\n      <td>0.422874</td>\n      <td>0.419391</td>\n      <td>0.347219</td>\n      <td>0.0</td>\n      <td>0.0</td>\n      <td>0.269765</td>\n      <td>0.474267</td>\n      <td>0.465523</td>\n      <td>0.409254</td>\n      <td>...</td>\n      <td>0.304673</td>\n      <td>0.813932</td>\n      <td>0.813904</td>\n      <td>0.446738</td>\n      <td>0.0</td>\n      <td>0.0</td>\n      <td>0.228156</td>\n      <td>0.265594</td>\n      <td>0.294078</td>\n      <td>0.268362</td>\n    </tr>\n    <tr>\n      <th>0.20</th>\n      <td>0.293232</td>\n      <td>0.385838</td>\n      <td>0.388579</td>\n      <td>0.310873</td>\n      <td>0.0</td>\n      <td>0.0</td>\n      <td>0.252061</td>\n      <td>0.465074</td>\n      <td>0.443159</td>\n      <td>0.411310</td>\n      <td>...</td>\n      <td>0.286819</td>\n      <td>0.797906</td>\n      <td>0.746482</td>\n      <td>0.422900</td>\n      <td>0.0</td>\n      <td>0.0</td>\n      <td>0.216842</td>\n      <td>0.251002</td>\n      <td>0.279309</td>\n      <td>0.254072</td>\n    </tr>\n    <tr>\n      <th>0.25</th>\n      <td>0.278368</td>\n      <td>0.350686</td>\n      <td>0.368544</td>\n      <td>0.300831</td>\n      <td>0.0</td>\n      <td>0.0</td>\n      <td>0.239113</td>\n      <td>0.459877</td>\n      <td>0.430295</td>\n      <td>0.392968</td>\n      <td>...</td>\n      <td>0.275956</td>\n      <td>0.765601</td>\n      <td>0.697731</td>\n      <td>0.399273</td>\n      <td>0.0</td>\n      <td>0.0</td>\n      <td>0.209371</td>\n      <td>0.239279</td>\n      <td>0.269350</td>\n      <td>0.244821</td>\n    </tr>\n    <tr>\n      <th>0.30</th>\n      <td>0.261662</td>\n      <td>0.331268</td>\n      <td>0.359345</td>\n      <td>0.287667</td>\n      <td>0.0</td>\n      <td>0.0</td>\n      <td>0.232154</td>\n      <td>0.447477</td>\n      <td>0.418511</td>\n      <td>0.391300</td>\n      <td>...</td>\n      <td>0.270995</td>\n      <td>0.733897</td>\n      <td>0.649703</td>\n      <td>0.410993</td>\n      <td>0.0</td>\n      <td>0.0</td>\n      <td>0.205370</td>\n      <td>0.230878</td>\n      <td>0.261148</td>\n      <td>0.238181</td>\n    </tr>\n  </tbody>\n</table>\n<p>23 rows × 22 columns</p>\n</div>"
     },
     "execution_count": 73,
     "metadata": {},
     "output_type": "execute_result"
    }
   ],
   "source": [
    "def final_get(string):\n",
    "\n",
    "    rt_MAE = np.concatenate([np.array(get_result(string, 10, 'rt', 1, 'all'))[:, 0].reshape(-1, 1), np.array(get_result(string, 1, 'rt', slices, 'all'))[:, 0].reshape(-1, 1)], axis = 1)\n",
    "    rt_MAE = np.concatenate([rt_MAE, np.array(get_result(string, 3, 'rt', slices, 'all'))[:, 0].reshape(-1, 1)], axis = 1)\n",
    "    rt_MAE = np.concatenate([rt_MAE, np.array(get_result(string, 5, 'rt', slices, 'all'))[:, 0].reshape(-1, 1)], axis = 1)\n",
    "\n",
    "\n",
    "    rt_NMAE = np.concatenate([np.array(get_result(string, 10, 'rt', 1, 'all'))[:, 2].reshape(-1, 1), np.array(get_result(string, 1, 'rt', slices, 'all'))[:, 2].reshape(-1, 1)], axis = 1)\n",
    "    rt_NMAE = np.concatenate([rt_NMAE, np.array(get_result(string, 3, 'rt', slices, 'all'))[:, 2].reshape(-1, 1)], axis = 1)\n",
    "    rt_NMAE = np.concatenate([rt_NMAE, np.array(get_result(string, 5, 'rt', slices, 'all'))[:, 2].reshape(-1, 1)], axis = 1)\n",
    "\n",
    "    tp_MAE = np.concatenate([np.array(get_result(string, 10, 'tp', 1, 'all'))[:, 0].reshape(-1, 1), np.array(get_result(string, 1, 'tp', slices, 'all'))[:, 0].reshape(-1, 1)], axis = 1)\n",
    "    tp_MAE = np.concatenate([tp_MAE, np.array(get_result(string, 3, 'tp', slices, 'all'))[:, 0].reshape(-1, 1)], axis = 1)\n",
    "    tp_MAE = np.concatenate([tp_MAE, np.array(get_result(string, 5, 'tp', slices, 'all'))[:, 0].reshape(-1, 1)], axis = 1)\n",
    "\n",
    "\n",
    "    tp_NMAE = np.concatenate([np.array(get_result(string, 10, 'tp', 1, 'all'))[:, 2].reshape(-1, 1), np.array(get_result(string, 1, 'tp', slices, 'all'))[:, 2].reshape(-1, 1)], axis = 1)\n",
    "    tp_NMAE = np.concatenate([tp_NMAE, np.array(get_result(string, 3, 'tp', slices, 'all'))[:, 2].reshape(-1, 1)], axis = 1)\n",
    "    tp_NMAE = np.concatenate([tp_NMAE, np.array(get_result(string, 5, 'tp', slices, 'all'))[:, 2].reshape(-1, 1)], axis = 1)\n",
    "\n",
    "    ans = np.concatenate([rt_MAE, np.zeros((1, 4)), rt_NMAE, np.zeros((1, 4)), tp_MAE, np.zeros((1, 4)), tp_NMAE], axis = 0)\n",
    "    ans = pd.DataFrame(ans)\n",
    "    ans.columns = ['Retrain', 'SISA', 'Receraser', 'ours']\n",
    "    ans.to_excel(f'./Result/{string}.xlsx', index = False)\n",
    "    return ans\n",
    "\n",
    "final_get('NeuCF')\n",
    "final_get('CSMF')\n",
    "final_get('MF')\n",
    "final_get('GraphMF')\n",
    "\n",
    "def cat_all_result():\n",
    "    df1 = pd.read_excel('./Result/NeuCF.xlsx').to_numpy()\n",
    "    df2 = pd.read_excel('./Result/CSMF.xlsx').to_numpy()\n",
    "    df3 = pd.read_excel('./Result/MF.xlsx').to_numpy()\n",
    "    df4 = pd.read_excel('./Result/GraphMF.xlsx').to_numpy()\n",
    "    # print(df1.shape)\n",
    "    ans = np.concatenate([df1, np.zeros((23, 2)), df2, np.zeros((23, 2)), df3, np.zeros((23, 2)), df4], axis = 1)\n",
    "    ans = pd.DataFrame(ans)\n",
    "    ans.columns = ['Retrain', 'SISA', 'Receraser', 'balance', '**', '**',\n",
    "                   'Retrain', 'SISA', 'Receraser', 'balance', '**', '**',\n",
    "                   'Retrain', 'SISA', 'Receraser', 'balance', '**', '**',\n",
    "                   'Retrain', 'SISA', 'Receraser', 'balance', ]\n",
    "    # ans.columns = ['Retrain', 'SISA','SISA2', 'Receraser', 'balance', 'non_balan', 'user_sim', 'item', '**', '**',\n",
    "    #\n",
    "    ans.index = ['0.10', '0.15', '0.20', '0.25', '0.30', '--', '0.10', '0.15', '0.20', '0.25', '0.30', '--', '0.10', '0.15', '0.20', '0.25', '0.30', '--', '0.10', '0.15', '0.20', '0.25', '0.30']\n",
    "    ans.to_excel('MAE_NMAE.xlsx', index = True)\n",
    "    return ans\n",
    "cat_all_result()"
   ],
   "metadata": {
    "collapsed": false
   }
  },
  {
   "cell_type": "code",
   "execution_count": 73,
   "outputs": [],
   "source": [],
   "metadata": {
    "collapsed": false
   }
  }
 ],
 "metadata": {
  "kernelspec": {
   "display_name": "base",
   "language": "python",
   "name": "python3"
  },
  "language_info": {
   "codemirror_mode": {
    "name": "ipython",
    "version": 3
   },
   "file_extension": ".py",
   "mimetype": "text/x-python",
   "name": "python",
   "nbconvert_exporter": "python",
   "pygments_lexer": "ipython3",
   "version": "3.8.5"
  },
  "vscode": {
   "interpreter": {
    "hash": "eb7c85c17b1976aa789c9d87b9763b6f005911cd226333300bbe1880120eaefe"
   }
  }
 },
 "nbformat": 4,
 "nbformat_minor": 0
}
